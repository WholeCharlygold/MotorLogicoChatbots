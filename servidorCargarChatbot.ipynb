{
 "cells": [
  {
   "cell_type": "code",
   "execution_count": 1,
   "metadata": {},
   "outputs": [
    {
     "data": {
      "text/html": [
       "<style>.container { width:100% !important; }</style>"
      ],
      "text/plain": [
       "<IPython.core.display.HTML object>"
      ]
     },
     "metadata": {},
     "output_type": "display_data"
    }
   ],
   "source": [
    "import os\n",
    "import sys \n",
    "from flask import Flask\n",
    "from flask import request\n",
    "from flask_api import status\n",
    "import psycopg2\n",
    "import pybars\n",
    "import json\n",
    "import copy\n",
    "from manejo_base_de_datos import baseDatos\n",
    "from manejo_archivos_json import dataJson\n",
    "from IPython.core.display import display, HTML\n",
    "manejadorBaseDeDatos=baseDatos(\"postgres\",\"carlos98\",\"127.0.0.1\",\"5432\",\"chatblocks\")#manejador de consultas a base de datos \n",
    "manejadorArchivos = dataJson(os.getcwd()+\"/\") \n",
    "display(HTML(\"<style>.container { width:100% !important; }</style>\"))\n",
    "datosBaseDeDatos = {\"usuario\":\"postgres\",\"password\":\"carlos98\",\"Host\":\"127.0.0.1\",\"puerto\":\"5432\",\"DB\":\"chatblocks\"}"
   ]
  },
  {
   "cell_type": "code",
   "execution_count": 2,
   "metadata": {},
   "outputs": [],
   "source": [
    "def compiladorPybars(source,jsonData):\n",
    "    compiler = pybars.Compiler()\n",
    "    template = compiler.compile(source)\n",
    "    output = template(jsonData)\n",
    "    json_acceptable_string = output.replace(\"'\", \"\\\"\")\n",
    "    datos = json.loads(json_acceptable_string)\n",
    "    return datos"
   ]
  },
  {
   "cell_type": "code",
   "execution_count": 3,
   "metadata": {},
   "outputs": [],
   "source": [
    "def cargarVariable(datosVariable,id_robot):\n",
    "    datosVariable.update({\"id_robot\":id_robot})\n",
    "    variable = manejadorBaseDeDatos.insertDatos(datosVariable[\"variable\"],\"variables\")\n",
    "    return int(variable[\"id_var\"])\n",
    "    "
   ]
  },
  {
   "cell_type": "code",
   "execution_count": 4,
   "metadata": {},
   "outputs": [],
   "source": [
    "def obtenerDatosQR(datosJson):    \n",
    "    contenido=datosJson[\"content\"]\n",
    "    opciones=list()\n",
    "    outputs=list()\n",
    "    for i in range(len(datosJson[\"buttons\"])):\n",
    "        opciones.append(datosJson[\"buttons\"][i][\"title\"])\n",
    "        outputs.append(datosJson[\"buttons\"][i][\"next_block\"])\n",
    "    datos={\"contenido\":contenido,\n",
    "           \"opciones\":\",\".join(opciones),\n",
    "           \"next_id\":\",\".join(outputs)        \n",
    "         }\n",
    "    return datos"
   ]
  },
  {
   "cell_type": "code",
   "execution_count": 5,
   "metadata": {},
   "outputs": [],
   "source": [
    "def obtenerDatosSlide(bloque):    \n",
    "    datosBloqueSlide = {\"namestate\":bloque[\"name\"],\"blocktype\":bloque[\"type\"],\"typingtime\":bloque[\"parameters\"][\"typingtime\"],\"default_id\":bloque[\"outputs\"][\"default_id\"],\"id_var\":bloque[\"parameters\"][\"id_var\"],\"id_robot\":bloque[\"parameters\"][\"id_robot\"]}\n",
    "    bloqueSlide  = manejadorBaseDeDatos.insertDatos(datosBloqueSlide,\"bloqueslide\")\n",
    "    idBloqueSlide = bloqueSlide[\"id_block\"]    \n",
    "    elementos = copy.deepcopy(bloque[\"parameters\"][\"json\"])\n",
    "    next_id=list()\n",
    "    for elemento in range(len(elementos)):\n",
    "        datosElemento = copy.deepcopy(elementos[elemento])\n",
    "        datosElemento.update({\"blocktype\":bloque[\"type\"]})\n",
    "        datosElemento.update({\"id_block\":idBloqueSlide})\n",
    "        del datosElemento[\"buttons\"]   \n",
    "        datosElementoBase =  manejadorBaseDeDatos.insertDatos(datosElemento,\"elementos\")\n",
    "        idElemento=datosElementoBase[\"id_elements\"]                \n",
    "        botones=copy.deepcopy(elementos[elemento][\"buttons\"])\n",
    "        for b in range(len(botones)):\n",
    "            datosBoton = copy.deepcopy(botones[b])\n",
    "            datosBoton.update({\"id_elemento\":str(idElemento)})\n",
    "            datosBoton.update({\"contentbutton\":botones[b][\"opc_nextid\"]})                    \n",
    "            datosBoton={\"id_elemento\":str(idElemento),\"titlebutton\":botones[b][\"titlebutton\"],\"typebutton\":botones[b][\"typebutton\"],\"contentbutton\":botones[b][\"opc_nextid\"],\"opc_nextid\":botones[b][\"opc_nextid\"]}\n",
    "            boton = manejadorBaseDeDatos.insertDatos(datosBoton,\"botones\") \n",
    "            next_id.append(botones[b][\"opc_nextid\"])\n",
    "    next_id=\",\".join(next_id)\n",
    "    tabla = \"bloqueslide\"\n",
    "    datosActualizar={\"next_id\":next_id}\n",
    "    datos={\"id_block\":idBloqueSlide}            \n",
    "    tabla = \"bloqueslide\"   \n",
    "    manejadorBaseDeDatos.update(datosActualizar,datos,tabla)   "
   ]
  },
  {
   "cell_type": "code",
   "execution_count": 6,
   "metadata": {},
   "outputs": [],
   "source": [
    "def addChatbot( botData, bloquesBot):\n",
    "    botData=manejadorArchivos.abrirJson(\"chatbotFB.json\") #archivo con datos de la aplicación de facebook\n",
    "    respuesta = manejadorBaseDeDatos.getDatos(botData,\"robots\")\n",
    "    hayRobot = True\n",
    "    if \"error\" not in respuesta:\n",
    "        datosRobot = {\"id_robot\", respuesta[\"id_robot\"]}\n",
    "    else:\n",
    "        hayRobot = False\n",
    "    if not hayRobot:\n",
    "        datosBot= manejadorBaseDeDatos.insertDatos(botData,\"robots\")\n",
    "        idBot=int(datosBot[\"id_robot\"])\n",
    "    else:\n",
    "        idBot=respuesta[\"id_robot\"]\n",
    "        datosBot = {\"id_robot\": idBot}\n",
    "    bloquesBot = manejadorArchivos.abrirJson(\"bloquesBotCorreo.json\") # archivo con bloques del sistema\n",
    "    for bloque,datosBloque in bloquesBot.items():\n",
    "        datosBloque[\"parameters\"].update({\"id_robot\":idBot})   \n",
    "    manejadorArchivos.jsonUnico(\"bloquesBotCorreo.json\", bloquesBot)\n",
    "    if hayRobot:\n",
    "        manejadorBaseDeDatos.borrarBaseDatosPorRobot(str(datosBot[\"id_robot\"]))\n",
    "        print(datosBot[\"id_robot\"])\n",
    "        \n",
    "    if hayRobot:\n",
    "        print(bloquesBot.keys())\n",
    "        for bot in bloquesBot.keys():    \n",
    "            bloque = dict() \n",
    "            if bloquesBot[bot][\"parameters\"].get(\"jsonVariable\"):  \n",
    "                print(bloquesBot[bot][\"parameters\"][\"jsonVariable\"][\"variable\"])\n",
    "                bloquesBot[bot][\"parameters\"][\"jsonVariable\"][\"variable\"].update({\"id_robot\":bloquesBot[bot][\"parameters\"][\"id_robot\"]})    \n",
    "                print(type(bloquesBot[bot][\"parameters\"][\"jsonVariable\"][\"variable\"]))\n",
    "                variable = manejadorBaseDeDatos.insertDatos(bloquesBot[bot][\"parameters\"][\"jsonVariable\"][\"variable\"],\"variables\")         \n",
    "                bloquesBot[bot][\"parameters\"].update({\"id_var\":int(variable[\"id_var\"])})  \n",
    "                del bloquesBot[bot][\"parameters\"][\"jsonVariable\"]\n",
    "            if bloquesBot[bot][\"parameters\"].get(\"nameVariable\"):\n",
    "                datos=dict()\n",
    "                datos.update({\"id_robot\":bloquesBot[bot][\"parameters\"].get(\"id_robot\")})\n",
    "                datos.update({\"name_var\":bloquesBot[bot][\"parameters\"].get(\"nameVariable\")})\n",
    "                print(datos)\n",
    "                print(type(datos))\n",
    "                variable = manejadorBaseDeDatos.getDatos(datos,\"variables\")\n",
    "                bloquesBot[bot][\"parameters\"].update({\"id_var\":int(variable[\"id_var\"])})\n",
    "                del bloquesBot[bot][\"parameters\"][\"nameVariable\"] \n",
    "\n",
    "            if bloquesBot[bot][\"type\"] == \"quickReply\": \n",
    "                del bloquesBot[bot][\"parameters\"][\"content\"]\n",
    "                del bloquesBot[bot][\"parameters\"][\"buttonTrue\"]\n",
    "                del bloquesBot[bot][\"parameters\"][\"buttonFalse\"]\n",
    "                del bloquesBot[bot][\"parameters\"][\"typeVisual\"]\n",
    "                del bloquesBot[bot][\"parameters\"][\"handlebars\"]       \n",
    "                QR = obtenerDatosQR(bloquesBot[bot][\"parameters\"][\"json\"])  \n",
    "                bloque.update(QR)\n",
    "                del bloquesBot[bot][\"parameters\"][\"json\"]       \n",
    "\n",
    "            elif bloquesBot[bot][\"type\"] == \"slide\":\n",
    "                del bloquesBot[bot][\"parameters\"][\"content\"]\n",
    "                del bloquesBot[bot][\"parameters\"][\"buttonTrue\"]\n",
    "                del bloquesBot[bot][\"parameters\"][\"buttonFalse\"]\n",
    "                del bloquesBot[bot][\"parameters\"][\"typeVisual\"]\n",
    "                del bloquesBot[bot][\"parameters\"][\"handlebars\"]\n",
    "                slide= obtenerDatosSlide(bloquesBot[bot])\n",
    "                del bloquesBot[bot][\"parameters\"][\"json\"]  \n",
    "            elif bloquesBot[bot][\"type\"] == \"nlp\":\n",
    "                dataAux = copy.deepcopy( bloquesBot[bot][\"parameters\"][\"json_nlp\"])\n",
    "                bloquesBot[bot][\"parameters\"][\"json_nlp\"] = str(json.dumps(dataAux))\n",
    "                print(\"\\n\")\n",
    "                print( bloquesBot[bot][\"parameters\"][\"json_nlp\"] )\n",
    "            for salida in bloquesBot[bot][\"outputs\"]:\n",
    "                if type(bloquesBot[bot][\"outputs\"][salida]) != list:\n",
    "                    bloque.update({salida:bloquesBot[bot][\"outputs\"][salida]})\n",
    "            bloque.update({\"namestate\":bloquesBot[bot][\"name\"]})\n",
    "            bloque.update(bloquesBot[bot][\"parameters\"])\n",
    "            bloque.update({\"blocktype\":bloquesBot[bot][\"type\"]})    \n",
    "            if bloquesBot[bot][\"type\"] == \"slide\":\n",
    "                pass\n",
    "            else:\n",
    "                print(bloquesBot[bot][\"type\"].lower())\n",
    "                manejadorBaseDeDatos.insertDatos(bloque,\"bloque\"+bloquesBot[bot][\"type\"].lower())\n",
    "        return {\"message\": \"Se actualizo el chatbot\"}\n",
    "    else:      \n",
    "        print(\"else\")\n",
    "        for bot in bloquesBot.keys():    \n",
    "            bloque = dict() \n",
    "            if bloquesBot[bot][\"parameters\"].get(\"jsonVariable\"):  \n",
    "                print(bloquesBot[bot][\"parameters\"][\"jsonVariable\"][\"variable\"])\n",
    "                bloquesBot[bot][\"parameters\"][\"jsonVariable\"][\"variable\"].update({\"id_robot\":bloquesBot[bot][\"parameters\"][\"id_robot\"]})    \n",
    "                print(type(bloquesBot[bot][\"parameters\"][\"jsonVariable\"][\"variable\"]))\n",
    "                variable = manejadorBaseDeDatos.insertDatos(bloquesBot[bot][\"parameters\"][\"jsonVariable\"][\"variable\"],\"variables\")         \n",
    "                bloquesBot[bot][\"parameters\"].update({\"id_var\":int(variable[\"id_var\"])})  \n",
    "                del bloquesBot[bot][\"parameters\"][\"jsonVariable\"]\n",
    "            if bloquesBot[bot][\"parameters\"].get(\"nameVariable\"):\n",
    "                datos=dict()\n",
    "                datos.update({\"id_robot\":bloquesBot[bot][\"parameters\"].get(\"id_robot\")})\n",
    "                datos.update({\"name_var\":bloquesBot[bot][\"parameters\"].get(\"nameVariable\")})\n",
    "                print(datos)\n",
    "                print(type(datos))\n",
    "                variable = manejadorBaseDeDatos.getDatos(datos,\"variables\")\n",
    "                bloquesBot[bot][\"parameters\"].update({\"id_var\":int(variable[\"id_var\"])})\n",
    "                del bloquesBot[bot][\"parameters\"][\"nameVariable\"] \n",
    "\n",
    "            if bloquesBot[bot][\"type\"] == \"quickReply\": \n",
    "                del bloquesBot[bot][\"parameters\"][\"content\"]\n",
    "                del bloquesBot[bot][\"parameters\"][\"buttonTrue\"]\n",
    "                del bloquesBot[bot][\"parameters\"][\"buttonFalse\"]\n",
    "                del bloquesBot[bot][\"parameters\"][\"typeVisual\"]\n",
    "                del bloquesBot[bot][\"parameters\"][\"handlebars\"]       \n",
    "                QR = obtenerDatosQR(bloquesBot[bot][\"parameters\"][\"json\"])  \n",
    "                bloque.update(QR)\n",
    "                del bloquesBot[bot][\"parameters\"][\"json\"]       \n",
    "\n",
    "            elif bloquesBot[bot][\"type\"] == \"slide\":\n",
    "                del bloquesBot[bot][\"parameters\"][\"content\"]\n",
    "                del bloquesBot[bot][\"parameters\"][\"buttonTrue\"]\n",
    "                del bloquesBot[bot][\"parameters\"][\"buttonFalse\"]\n",
    "                del bloquesBot[bot][\"parameters\"][\"typeVisual\"]\n",
    "                del bloquesBot[bot][\"parameters\"][\"handlebars\"]\n",
    "                slide= obtenerDatosSlide(bloquesBot[bot])\n",
    "                del bloquesBot[bot][\"parameters\"][\"json\"]  \n",
    "            elif bloquesBot[bot][\"type\"] == \"nlp\":\n",
    "                dataAux = copy.deepcopy( bloquesBot[bot][\"parameters\"][\"json_nlp\"])\n",
    "                bloquesBot[bot][\"parameters\"][\"json_nlp\"] = str(json.dumps(dataAux))\n",
    "                print(\"\\n\")\n",
    "                print( bloquesBot[bot][\"parameters\"][\"json_nlp\"] )\n",
    "            for salida in bloquesBot[bot][\"outputs\"]:\n",
    "                if type(bloquesBot[bot][\"outputs\"][salida]) != list:\n",
    "                    bloque.update({salida:bloquesBot[bot][\"outputs\"][salida]})\n",
    "            bloque.update({\"namestate\":bloquesBot[bot][\"name\"]})\n",
    "            bloque.update(bloquesBot[bot][\"parameters\"])\n",
    "            bloque.update({\"blocktype\":bloquesBot[bot][\"type\"]})    \n",
    "            if bloquesBot[bot][\"type\"] == \"slide\":\n",
    "                pass\n",
    "            else:        \n",
    "                manejadorBaseDeDatos.insertDatos(bloque,\"bloque\"+bloquesBot[bot][\"type\"].lower())\n",
    "        return {\"message\": \"Se creo el chatbot\"}\n",
    "    print(\"bot cargado con exito \")\n",
    "        "
   ]
  },
  {
   "cell_type": "code",
   "execution_count": 7,
   "metadata": {},
   "outputs": [],
   "source": [
    "app = Flask(__name__)\n",
    "@app.route('/insert',methods=['POST'])\n",
    "def funcionalidad():\n",
    "    try:\n",
    "        datos = request.get_json()\n",
    "        botData = datos[\"chatbotFB\"]\n",
    "        bloquesBot = datos[\"bloques\"]\n",
    "        respuesta = addChatbot( botData, bloquesBot)\n",
    "        print(respuesta[\"message\"])\n",
    "        print( \"Datos del ChatBot:\")\n",
    "        print(botData)\n",
    "        return respuesta\n",
    "    except (Exception, psycopg2.Error) as error :\n",
    "        print(\"error\",error)\n",
    "        return status.HTTP_404_NOT_FOUND"
   ]
  },
  {
   "cell_type": "code",
   "execution_count": null,
   "metadata": {},
   "outputs": [
    {
     "name": "stdout",
     "output_type": "stream",
     "text": [
      " * Serving Flask app \"__main__\" (lazy loading)\n",
      " * Environment: production\n",
      "   WARNING: This is a development server. Do not use it in a production deployment.\n",
      "   Use a production WSGI server instead.\n",
      " * Debug mode: off\n"
     ]
    },
    {
     "name": "stderr",
     "output_type": "stream",
     "text": [
      " * Running on http://localhost:9595/ (Press CTRL+C to quit)\n"
     ]
    },
    {
     "name": "stdout",
     "output_type": "stream",
     "text": [
      "función select\n",
      "381\n",
      "dict_keys(['prueba_inicio', 'prueba_qa', 'prueba_dos', 'pruebaCorreo_01inicial_inicial'])\n",
      "informativo\n",
      "informativo\n",
      "informativo\n",
      "{'name_var': 'var_case', 'opc_type': 'Variable', 'var': 0, 'opc_data': 'Numerico'}\n",
      "<class 'dict'>\n",
      "quickreply\n"
     ]
    },
    {
     "name": "stderr",
     "output_type": "stream",
     "text": [
      "127.0.0.1 - - [17/Mar/2021 19:14:49] \"\u001b[37mPOST /insert HTTP/1.1\u001b[0m\" 200 -\n"
     ]
    },
    {
     "name": "stdout",
     "output_type": "stream",
     "text": [
      "Se actualizo el chatbot\n",
      "Datos Bot:\n",
      "{'name_robot': 'oliverBot', 'id_face': '2153123008120093', 'block_ini': 'prueba_inicio', 'type_blocki': 'quickreply', 'access_token': 'EAAHNkscg2TcBAMvebksfOxuFBpMeR5sUhzHTKtqdi6NkqQKZAdkeaGVJ9Yc5bNbvL3JLzCgB7EEqsVUTZADhidVcC3zJV1UZB4Uz0Hm3fZB9IETnWb4I8MoK8nxpenC1lYwnjwnRwMHVZA1FKw8d3A45t9xCxmPKnm6kIr5ZCA8wZDZD', 'id_user': 'oliverbp88@gmail.com', 'api_nlp': 'http://localhost:8282/'}\n"
     ]
    }
   ],
   "source": [
    "if __name__ == \"__main__\":    \n",
    "    app.run(host='localhost',port='9595')"
   ]
  },
  {
   "cell_type": "code",
   "execution_count": null,
   "metadata": {},
   "outputs": [],
   "source": []
  }
 ],
 "metadata": {
  "kernelspec": {
   "display_name": "Python 3",
   "language": "python",
   "name": "python3"
  },
  "language_info": {
   "codemirror_mode": {
    "name": "ipython",
    "version": 3
   },
   "file_extension": ".py",
   "mimetype": "text/x-python",
   "name": "python",
   "nbconvert_exporter": "python",
   "pygments_lexer": "ipython3",
   "version": "3.9.2"
  }
 },
 "nbformat": 4,
 "nbformat_minor": 4
}
