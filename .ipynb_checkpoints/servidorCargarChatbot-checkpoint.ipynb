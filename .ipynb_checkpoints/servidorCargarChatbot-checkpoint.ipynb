{
 "cells": [
  {
   "cell_type": "code",
   "execution_count": 1,
   "metadata": {},
   "outputs": [
    {
     "data": {
      "text/html": [
       "<style>.container { width:100% !important; }</style>"
      ],
      "text/plain": [
       "<IPython.core.display.HTML object>"
      ]
     },
     "metadata": {},
     "output_type": "display_data"
    }
   ],
   "source": [
    "import os\n",
    "import sys \n",
    "from flask import Flask\n",
    "from flask import request\n",
    "from flask_api import status\n",
    "import psycopg2\n",
    "import pybars\n",
    "import json\n",
    "import copy\n",
    "from manejo_base_de_datos import baseDatos\n",
    "from manejo_archivos_json import dataJson\n",
    "from IPython.core.display import display, HTML\n",
    "manejadorBaseDeDatos=baseDatos(\"postgres\",\"carlos98\",\"127.0.0.1\",\"5432\",\"chatblocks\")#manejador de consultas a base de datos \n",
    "manejadorArchivos = dataJson(os.getcwd()+\"/\") \n",
    "display(HTML(\"<style>.container { width:100% !important; }</style>\"))\n",
    "datosBaseDeDatos = {\"usuario\":\"postgres\",\"password\":\"carlos98\",\"Host\":\"127.0.0.1\",\"puerto\":\"5432\",\"DB\":\"chatblocks\"}"
   ]
  },
  {
   "cell_type": "code",
   "execution_count": 2,
   "metadata": {},
   "outputs": [],
   "source": [
    "def compiladorPybars(source,jsonData):\n",
    "    compiler = pybars.Compiler()\n",
    "    template = compiler.compile(source)\n",
    "    output = template(jsonData)\n",
    "    json_acceptable_string = output.replace(\"'\", \"\\\"\")\n",
    "    datos = json.loads(json_acceptable_string)\n",
    "    return datos"
   ]
  },
  {
   "cell_type": "code",
   "execution_count": 3,
   "metadata": {},
   "outputs": [],
   "source": [
    "def cargarVariable(datosVariable,id_robot):\n",
    "    datosVariable.update({\"id_robot\":id_robot})\n",
    "    variable = manejadorBaseDeDatos.insertDatos(datosVariable[\"variable\"],\"variables\")\n",
    "    return int(variable[\"id_var\"])\n",
    "    "
   ]
  },
  {
   "cell_type": "code",
   "execution_count": 4,
   "metadata": {},
   "outputs": [],
   "source": [
    "def obtenerDatosQR(datosJson):    \n",
    "    contenido=datosJson[\"content\"]\n",
    "    opciones=list()\n",
    "    outputs=list()\n",
    "    for i in range(len(datosJson[\"buttons\"])):\n",
    "        opciones.append(datosJson[\"buttons\"][i][\"title\"])\n",
    "        outputs.append(datosJson[\"buttons\"][i][\"next_block\"])\n",
    "    datos={\"contenido\":contenido,\n",
    "           \"opciones\":\",\".join(opciones),\n",
    "           \"next_id\":\",\".join(outputs)        \n",
    "         }\n",
    "    return datos"
   ]
  },
  {
   "cell_type": "code",
   "execution_count": 5,
   "metadata": {},
   "outputs": [],
   "source": [
    "def obtenerDatosSlide(bloque):    \n",
    "    datosBloqueSlide = {\"namestate\":bloque[\"name\"],\"blocktype\":bloque[\"type\"],\"typingtime\":bloque[\"parameters\"][\"typingtime\"],\"default_id\":bloque[\"outputs\"][\"default_id\"],\"id_var\":bloque[\"parameters\"][\"id_var\"],\"id_robot\":bloque[\"parameters\"][\"id_robot\"]}\n",
    "    bloqueSlide  = manejadorBaseDeDatos.insertDatos(datosBloqueSlide,\"bloqueslide\")\n",
    "    idBloqueSlide = bloqueSlide[\"id_block\"]    \n",
    "    elementos = copy.deepcopy(bloque[\"parameters\"][\"json\"])\n",
    "    next_id=list()\n",
    "    print(\"datosElemento\")\n",
    "    for elemento in range(len(elementos)):\n",
    "        datosElemento = copy.deepcopy(elementos[elemento])\n",
    "        datosElemento.update({\"blocktype\":bloque[\"type\"]})\n",
    "        datosElemento.update({\"id_block\":idBloqueSlide})\n",
    "        del datosElemento[\"buttons\"]   \n",
    "        datosElementoBase =  manejadorBaseDeDatos.insertDatos(datosElemento,\"elementos\")\n",
    "        idElemento=datosElementoBase[\"id_elements\"]                \n",
    "        botones=copy.deepcopy(elementos[elemento][\"buttons\"])\n",
    "        for b in range(len(botones)):\n",
    "            datosBoton = copy.deepcopy(botones[b])\n",
    "            datosBoton.update({\"id_elemento\":str(idElemento)})\n",
    "            datosBoton.update({\"contentbutton\":botones[b][\"opc_nextid\"]})                    \n",
    "            datosBoton={\"id_elemento\":str(idElemento),\"titlebutton\":botones[b][\"titlebutton\"],\"typebutton\":botones[b][\"typebutton\"],\"contentbutton\":botones[b][\"opc_nextid\"],\"opc_nextid\":botones[b][\"opc_nextid\"]}\n",
    "            boton = manejadorBaseDeDatos.insertDatos(datosBoton,\"botones\") \n",
    "            next_id.append(botones[b][\"opc_nextid\"])\n",
    "    next_id=\",\".join(next_id)\n",
    "    tabla = \"bloqueslide\"\n",
    "    datosActualizar={\"next_id\":next_id}\n",
    "    datos={\"id_block\":idBloqueSlide}            \n",
    "    tabla = \"bloqueslide\"   \n",
    "    manejadorBaseDeDatos.update(datosActualizar,datos,tabla)   "
   ]
  },
  {
   "cell_type": "code",
   "execution_count": 6,
   "metadata": {},
   "outputs": [],
   "source": [
    "def addChatbot( botData, bloquesBot):\n",
    "    respuesta = manejadorBaseDeDatos.getDatos(botData,\"robots\")\n",
    "    print(\"Hasta aqui todo bien\")\n",
    "    hayRobot = True\n",
    "    if \"error\" not in respuesta:\n",
    "        datosRobot = {\"id_robot\", respuesta[\"id_robot\"]}\n",
    "    else:\n",
    "        hayRobot = False\n",
    "    if not hayRobot:\n",
    "        datosBot= manejadorBaseDeDatos.insertDatos(botData,\"robots\")\n",
    "        idBot=int(datosBot[\"id_robot\"])\n",
    "    else:\n",
    "        idBot=respuesta[\"id_robot\"]\n",
    "        datosBot = {\"id_robot\": idBot}\n",
    "    for bloque,datosBloque in bloquesBot.items():\n",
    "        datosBloque[\"parameters\"].update({\"id_robot\":idBot})   \n",
    "    if hayRobot:\n",
    "        print(datosRobot)\n",
    "        resp = manejadorBaseDeDatos.getDatos({\"id_robot\": str(respuesta[\"id_robot\"])}, \"bloqueslide\")\n",
    "        if resp.get(\"id_block\"):\n",
    "            id_block = resp[\"id_block\"]\n",
    "            resp = manejadorBaseDeDatos.getDatos({\"id_block\": id_block}, \"elementos\")\n",
    "            print(\"ID_BLOCK\" + str(id_block))\n",
    "            if resp.get(\"id_elements\"):\n",
    "                id_elemento = resp[\"id_elements\"];\n",
    "                print(\"ID_ELEMENTO\" + str(id_elemento))\n",
    "                manejadorBaseDeDatos.borrarBotonesElementos( str(id_elemento), str(id_block) )\n",
    "        manejadorBaseDeDatos.borrarBaseDatosPorRobot(str(datosBot[\"id_robot\"]))\n",
    "        print(datosBot[\"id_robot\"])\n",
    "        \n",
    "    if hayRobot:\n",
    "        print(bloquesBot.keys())\n",
    "        for bot in bloquesBot.keys():    \n",
    "            bloque = dict() \n",
    "            if bloquesBot[bot][\"parameters\"].get(\"jsonVariable\"):  \n",
    "                print(bloquesBot[bot][\"parameters\"][\"jsonVariable\"][\"variable\"])\n",
    "                bloquesBot[bot][\"parameters\"][\"jsonVariable\"][\"variable\"].update({\"id_robot\":bloquesBot[bot][\"parameters\"][\"id_robot\"]})    \n",
    "                print(type(bloquesBot[bot][\"parameters\"][\"jsonVariable\"][\"variable\"]))\n",
    "                variable = manejadorBaseDeDatos.insertDatos(bloquesBot[bot][\"parameters\"][\"jsonVariable\"][\"variable\"],\"variables\")         \n",
    "                bloquesBot[bot][\"parameters\"].update({\"id_var\":int(variable[\"id_var\"])})  \n",
    "                del bloquesBot[bot][\"parameters\"][\"jsonVariable\"]\n",
    "            if bloquesBot[bot][\"parameters\"].get(\"nameVariable\"):\n",
    "                datos=dict()\n",
    "                datos.update({\"id_robot\":bloquesBot[bot][\"parameters\"].get(\"id_robot\")})\n",
    "                datos.update({\"name_var\":bloquesBot[bot][\"parameters\"].get(\"nameVariable\")})\n",
    "                print(datos)\n",
    "                print(type(datos))\n",
    "                variable = manejadorBaseDeDatos.getDatos(datos,\"variables\")\n",
    "                bloquesBot[bot][\"parameters\"].update({\"id_var\":int(variable[\"id_var\"])})\n",
    "                del bloquesBot[bot][\"parameters\"][\"nameVariable\"] \n",
    "\n",
    "            if bloquesBot[bot][\"type\"] == \"quickReply\": \n",
    "                del bloquesBot[bot][\"parameters\"][\"content\"]\n",
    "                del bloquesBot[bot][\"parameters\"][\"buttonTrue\"]\n",
    "                del bloquesBot[bot][\"parameters\"][\"buttonFalse\"]\n",
    "                del bloquesBot[bot][\"parameters\"][\"typeVisual\"]\n",
    "                del bloquesBot[bot][\"parameters\"][\"handlebars\"]       \n",
    "                QR = obtenerDatosQR(bloquesBot[bot][\"parameters\"][\"json\"])  \n",
    "                bloque.update(QR)\n",
    "                \n",
    "                del bloquesBot[bot][\"parameters\"][\"json\"]       \n",
    "\n",
    "            elif bloquesBot[bot][\"type\"] == \"slide\":\n",
    "                del bloquesBot[bot][\"parameters\"][\"content\"]\n",
    "                #del bloquesBot[bot][\"parameters\"][\"buttonTrue\"]\n",
    "                #del bloquesBot[bot][\"parameters\"][\"buttonFalse\"]\n",
    "                #del bloquesBot[bot][\"parameters\"][\"typeVisual\"]\n",
    "                #del bloquesBot[bot][\"parameters\"][\"handlebars\"]\n",
    "                slide= obtenerDatosSlide(bloquesBot[bot])\n",
    "                del bloquesBot[bot][\"parameters\"][\"json\"]  \n",
    "            elif bloquesBot[bot][\"type\"] == \"nlp\":\n",
    "                dataAux = copy.deepcopy( bloquesBot[bot][\"parameters\"][\"json_nlp\"])\n",
    "                bloquesBot[bot][\"parameters\"][\"json_nlp\"] = str(json.dumps(dataAux))\n",
    "                print(\"\\n\")\n",
    "                print( bloquesBot[bot][\"parameters\"][\"json_nlp\"] )\n",
    "            for salida in bloquesBot[bot][\"outputs\"]:\n",
    "                if type(bloquesBot[bot][\"outputs\"][salida]) != list:\n",
    "                    bloque.update({salida:bloquesBot[bot][\"outputs\"][salida]})\n",
    "            bloque.update({\"namestate\":bloquesBot[bot][\"name\"]})\n",
    "            bloque.update(bloquesBot[bot][\"parameters\"])\n",
    "            bloque.update({\"blocktype\":bloquesBot[bot][\"type\"]})    \n",
    "            if bloquesBot[bot][\"type\"] == \"slide\":\n",
    "                pass\n",
    "            else:\n",
    "                print(\"Bloque:\")\n",
    "                print(bloque)\n",
    "                manejadorBaseDeDatos.insertDatos(bloque,\"bloque\"+bloquesBot[bot][\"type\"].lower())\n",
    "        return {\"message\": \"Se actualizo el chatbot\"}\n",
    "    else:      \n",
    "        print(bloquesBot.keys())\n",
    "        for bot in bloquesBot.keys():    \n",
    "            bloque = dict() \n",
    "            if bloquesBot[bot][\"parameters\"].get(\"jsonVariable\"):  \n",
    "                print(bloquesBot[bot][\"parameters\"][\"jsonVariable\"][\"variable\"])\n",
    "                bloquesBot[bot][\"parameters\"][\"jsonVariable\"][\"variable\"].update({\"id_robot\":bloquesBot[bot][\"parameters\"][\"id_robot\"]})    \n",
    "                print(type(bloquesBot[bot][\"parameters\"][\"jsonVariable\"][\"variable\"]))\n",
    "                variable = manejadorBaseDeDatos.insertDatos(bloquesBot[bot][\"parameters\"][\"jsonVariable\"][\"variable\"],\"variables\")         \n",
    "                bloquesBot[bot][\"parameters\"].update({\"id_var\":int(variable[\"id_var\"])})  \n",
    "                del bloquesBot[bot][\"parameters\"][\"jsonVariable\"]\n",
    "            if bloquesBot[bot][\"parameters\"].get(\"nameVariable\"):\n",
    "                datos=dict()\n",
    "                datos.update({\"id_robot\":bloquesBot[bot][\"parameters\"].get(\"id_robot\")})\n",
    "                datos.update({\"name_var\":bloquesBot[bot][\"parameters\"].get(\"nameVariable\")})\n",
    "                variable = manejadorBaseDeDatos.getDatos(datos,\"variables\")\n",
    "                bloquesBot[bot][\"parameters\"].update({\"id_var\":int(variable[\"id_var\"])})\n",
    "                del bloquesBot[bot][\"parameters\"][\"nameVariable\"] \n",
    "\n",
    "            if bloquesBot[bot][\"type\"] == \"quickReply\": \n",
    "                del bloquesBot[bot][\"parameters\"][\"content\"]\n",
    "                del bloquesBot[bot][\"parameters\"][\"buttonTrue\"]\n",
    "                del bloquesBot[bot][\"parameters\"][\"buttonFalse\"]\n",
    "                del bloquesBot[bot][\"parameters\"][\"typeVisual\"]\n",
    "                del bloquesBot[bot][\"parameters\"][\"handlebars\"]       \n",
    "                QR = obtenerDatosQR(bloquesBot[bot][\"parameters\"][\"json\"])  \n",
    "                bloque.update(QR)\n",
    "                del bloquesBot[bot][\"parameters\"][\"json\"]       \n",
    "\n",
    "            elif bloquesBot[bot][\"type\"] == \"slide\":\n",
    "                print(\"todo bien\")\n",
    "                del bloquesBot[bot][\"parameters\"][\"content\"]\n",
    "                #del bloquesBot[bot][\"parameters\"][\"buttonTrue\"]\n",
    "                #del bloquesBot[bot][\"parameters\"][\"buttonFalse\"]\n",
    "                #del bloquesBot[bot][\"parameters\"][\"typeVisual\"]\n",
    "                #del bloquesBot[bot][\"parameters\"][\"handlebars\"]\n",
    "                slide= obtenerDatosSlide(bloquesBot[bot])\n",
    "                print(\"todo bien 2\")\n",
    "                del bloquesBot[bot][\"parameters\"][\"json\"]  \n",
    "            elif bloquesBot[bot][\"type\"] == \"nlp\":\n",
    "                dataAux = copy.deepcopy( bloquesBot[bot][\"parameters\"][\"json_nlp\"])\n",
    "                bloquesBot[bot][\"parameters\"][\"json_nlp\"] = str(json.dumps(dataAux))\n",
    "                print(\"\\n\")\n",
    "                print( bloquesBot[bot][\"parameters\"][\"json_nlp\"] )\n",
    "            for salida in bloquesBot[bot][\"outputs\"]:\n",
    "                if type(bloquesBot[bot][\"outputs\"][salida]) != list:\n",
    "                    bloque.update({salida:bloquesBot[bot][\"outputs\"][salida]})\n",
    "            bloque.update({\"namestate\":bloquesBot[bot][\"name\"]})\n",
    "            bloque.update(bloquesBot[bot][\"parameters\"])\n",
    "            bloque.update({\"blocktype\":bloquesBot[bot][\"type\"]})    \n",
    "            if bloquesBot[bot][\"type\"] == \"slide\":\n",
    "                pass\n",
    "            else:        \n",
    "                manejadorBaseDeDatos.insertDatos(bloque,\"bloque\"+bloquesBot[bot][\"type\"].lower())\n",
    "        return {\"message\": \"Se creo el chatbot\"}\n",
    "    print(\"bot cargado con exito \")\n",
    "        "
   ]
  },
  {
   "cell_type": "code",
   "execution_count": 7,
   "metadata": {},
   "outputs": [],
   "source": [
    "app = Flask(__name__)\n",
    "@app.route('/insert',methods=['POST'])\n",
    "def funcionalidad():\n",
    "    try:\n",
    "        datos = request.get_json()\n",
    "        botData = datos[\"chatbotFB\"]\n",
    "        bloquesBot = datos[\"bloques\"]\n",
    "        respuesta = addChatbot( botData, bloquesBot)\n",
    "        print(respuesta[\"message\"])\n",
    "        print( \"Datos del ChatBot:\")\n",
    "        print(botData)\n",
    "        return respuesta\n",
    "    except (Exception, psycopg2.Error) as error :\n",
    "        print(\"error\",error)\n",
    "        return status.HTTP_404_NOT_FOUND"
   ]
  },
  {
   "cell_type": "code",
   "execution_count": null,
   "metadata": {},
   "outputs": [
    {
     "name": "stdout",
     "output_type": "stream",
     "text": [
      " * Serving Flask app \"__main__\" (lazy loading)\n",
      " * Environment: production\n",
      "   WARNING: This is a development server. Do not use it in a production deployment.\n",
      "   Use a production WSGI server instead.\n",
      " * Debug mode: off\n"
     ]
    },
    {
     "name": "stderr",
     "output_type": "stream",
     "text": [
      " * Running on http://localhost:9595/ (Press CTRL+C to quit)\n"
     ]
    },
    {
     "name": "stdout",
     "output_type": "stream",
     "text": [
      "{'bloques': {'prueba_inicio': {'type': 'informativo', 'name': 'prueba_inicio', 'parameters': {'contenido': 'Hola soy un chatbot', 'contenttype': 'text', 'typingtime': 3}, 'outputs': {'next_id': 'prueba_correo'}}, 'prueba_correo': {'type': 'quickReply', 'name': 'prueba_correo', 'parameters': {'handlebars': '', 'jsonVariable': {'variable': {'name_var': 'var_qr', 'opc_type': 'Variable', 'var': 0, 'opc_data': 'String'}}, 'typingtime': 3, 'json': {'content': 'Cual es tu correo?', 'buttons': [{'title': 'Salir del bot', 'next_id': 'mensaje_salida'}, {'title': 'Probar Carrusel', 'next_id': 'prueba_slide'}]}, 'content': 'Cual es tu correo?', 'buttonTrue': {'next_block': ''}, 'buttonFalse': {'title': ''}, 'typeVisual': ''}, 'outputs': {'default_id': 'mensaje_salida'}}, 'prueba_slide': {'type': 'slide', 'name': 'prueba_slide', 'parameters': {'typingtime': 3, 'content': '', 'nombreVariable': 'var_carrusel', 'jsonVariable': {'variable': {'name_var': 'var_carrusel', 'opc_type': 'Variable', 'var': 0, 'opc_data': 'String'}}, 'tipoVariable': 'Variable', 'tipoDato': 'Cadena', 'id_var': 'var_carrusel', 'json': [{'title': 'Prueba Carrusel', 'image_url': 'https://infosertecblog.files.wordpress.com/2016/08/bot-de-telegram.jpg', 'buttons': [{'titlebutton': 'Youtube', 'typebutton': 'web_url', 'opc_nextid': 'https://www.youtube.com/watch?v=Cp4Rxh1ZqzA&t=1384s'}, {'titlebutton': 'Reddit', 'typebutton': 'web_url', 'opc_nextid': 'https://www.reddit.com'}], 'subtitle': 'Esto es una prueba de un carrusel.'}]}, 'outputs': {'default_id': 'mensaje_salida'}}, 'mensaje_salida': {'type': 'informativo', 'name': 'mensaje_salida', 'parameters': {'contenido': 'Adios', 'contenttype': 'text', 'typingtime': 3}, 'outputs': {'next_id': 'salida'}}}, 'chatbotFB': {'name_robot': 'CharlyBOT', 'id_face': '111445520541316', 'block_ini': 'prueba_inicio', 'type_blocki': 'informativo', 'access_token': 'EAALZCCZBzPwfkBAAo7njAlW7s4DTj1ZCs5v1ung1MhEyMlJXOOtiG8r7JcBgXVPhZBHkJONyTB6jKG470UyqGPWn4aDPnisgtT2ZCZAwQIjQgZAZBufZBJXmHz6mPKSgdmP6ikDA87vocZBay2dfQdz1OYezmYbxwfILXUvXtjUMZAniQZDZD', 'id_user': 'charlygoldcruz@gmail.com', 'api_nlp': 'http://localhost:8282/'}}\n",
      "función select\n",
      "Hasta aqui todo bien\n",
      "dict_keys(['prueba_inicio', 'prueba_correo', 'prueba_slide', 'mensaje_salida'])\n",
      "{'name_var': 'var_qr', 'opc_type': 'Variable', 'var': 0, 'opc_data': 'String'}\n",
      "<class 'dict'>\n"
     ]
    },
    {
     "name": "stderr",
     "output_type": "stream",
     "text": [
      "[2021-03-25 23:04:25,010] ERROR in app: Exception on /insert [POST]\n",
      "Traceback (most recent call last):\n",
      "  File \"c:\\users\\carlo\\appdata\\local\\programs\\python\\python39\\lib\\site-packages\\flask\\app.py\", line 2447, in wsgi_app\n",
      "    response = self.full_dispatch_request()\n",
      "  File \"c:\\users\\carlo\\appdata\\local\\programs\\python\\python39\\lib\\site-packages\\flask\\app.py\", line 1953, in full_dispatch_request\n",
      "    return self.finalize_request(rv)\n",
      "  File \"c:\\users\\carlo\\appdata\\local\\programs\\python\\python39\\lib\\site-packages\\flask\\app.py\", line 1968, in finalize_request\n",
      "    response = self.make_response(rv)\n",
      "  File \"c:\\users\\carlo\\appdata\\local\\programs\\python\\python39\\lib\\site-packages\\flask\\app.py\", line 2127, in make_response\n",
      "    raise TypeError(\n",
      "TypeError: The view function did not return a valid response. The return type must be a string, dict, tuple, Response instance, or WSGI callable, but it was a int.\n",
      "127.0.0.1 - - [25/Mar/2021 23:04:25] \"\u001b[35m\u001b[1mPOST /insert HTTP/1.1\u001b[0m\" 500 -\n"
     ]
    },
    {
     "name": "stdout",
     "output_type": "stream",
     "text": [
      "error 'next_block'\n",
      "{'bloques': {'prueba_inicio': {'type': 'informativo', 'name': 'prueba_inicio', 'parameters': {'contenido': 'Hola soy un chatbot', 'contenttype': 'text', 'typingtime': 3}, 'outputs': {'next_id': 'prueba_correo'}}, 'prueba_correo': {'type': 'quickReply', 'name': 'prueba_correo', 'parameters': {'handlebars': '', 'jsonVariable': {'variable': {'name_var': 'var_qr', 'opc_type': 'Variable', 'var': 0, 'opc_data': 'String'}}, 'typingtime': 3, 'json': {'content': 'Cual es tu correo?', 'buttons': [{'title': 'Salir del bot', 'next_block': 'mensaje_salida'}, {'title': 'Probar Carrusel', 'next_block': 'prueba_slide'}]}, 'content': 'Cual es tu correo?', 'buttonTrue': {'next_block': ''}, 'buttonFalse': {'title': ''}, 'typeVisual': ''}, 'outputs': {'default_id': 'mensaje_salida'}}, 'prueba_slide': {'type': 'slide', 'name': 'prueba_slide', 'parameters': {'typingtime': 3, 'content': '', 'nombreVariable': 'var_carrusel', 'jsonVariable': {'variable': {'name_var': 'var_carrusel', 'opc_type': 'Variable', 'var': 0, 'opc_data': 'String'}}, 'tipoVariable': 'Variable', 'tipoDato': 'Cadena', 'id_var': 'var_carrusel', 'json': [{'image_url': 'https://infosertecblog.files.wordpress.com/2016/08/bot-de-telegram.jpg', 'subtitle': 'Esto es una prueba de un carrusel.', 'buttons': [{'titlebutton': 'Youtube', 'typebutton': 'web_url', 'opc_nextid': 'https://www.youtube.com/watch?v=Cp4Rxh1ZqzA&t=1384s'}, {'titlebutton': 'Reddit', 'typebutton': 'web_url', 'opc_nextid': 'https://www.reddit.com'}], 'title': 'Prueba Carrusel'}]}, 'outputs': {'default_id': 'mensaje_salida'}}, 'mensaje_salida': {'type': 'informativo', 'name': 'mensaje_salida', 'parameters': {'contenido': 'Adios', 'contenttype': 'text', 'typingtime': 3}, 'outputs': {'next_id': 'salida'}}}, 'chatbotFB': {'name_robot': 'CharlyBOT', 'id_face': '111445520541316', 'block_ini': 'prueba_inicio', 'type_blocki': 'informativo', 'access_token': 'EAALZCCZBzPwfkBAAo7njAlW7s4DTj1ZCs5v1ung1MhEyMlJXOOtiG8r7JcBgXVPhZBHkJONyTB6jKG470UyqGPWn4aDPnisgtT2ZCZAwQIjQgZAZBufZBJXmHz6mPKSgdmP6ikDA87vocZBay2dfQdz1OYezmYbxwfILXUvXtjUMZAniQZDZD', 'id_user': 'charlygoldcruz@gmail.com', 'api_nlp': 'http://localhost:8282/'}}\n",
      "función select\n",
      "Hasta aqui todo bien\n",
      "{'id_robot', 446}\n",
      "función select\n",
      "446\n",
      "dict_keys(['prueba_inicio', 'prueba_correo', 'prueba_slide', 'mensaje_salida'])\n",
      "Bloque:\n",
      "{'next_id': 'prueba_correo', 'namestate': 'prueba_inicio', 'contenido': 'Hola soy un chatbot', 'contenttype': 'text', 'typingtime': 3, 'id_robot': 446, 'blocktype': 'informativo'}\n",
      "{'name_var': 'var_qr', 'opc_type': 'Variable', 'var': 0, 'opc_data': 'String'}\n",
      "<class 'dict'>\n",
      "Bloque:\n",
      "{'contenido': 'Cual es tu correo?', 'opciones': 'Salir del bot,Probar Carrusel', 'next_id': 'mensaje_salida,prueba_slide', 'default_id': 'mensaje_salida', 'namestate': 'prueba_correo', 'typingtime': 3, 'id_robot': 446, 'id_var': 1097, 'blocktype': 'quickReply'}\n",
      "{'name_var': 'var_carrusel', 'opc_type': 'Variable', 'var': 0, 'opc_data': 'String'}\n",
      "<class 'dict'>\n",
      "datosElemento\n"
     ]
    },
    {
     "name": "stderr",
     "output_type": "stream",
     "text": [
      "127.0.0.1 - - [25/Mar/2021 23:06:21] \"\u001b[37mPOST /insert HTTP/1.1\u001b[0m\" 200 -\n"
     ]
    },
    {
     "name": "stdout",
     "output_type": "stream",
     "text": [
      "Bloque:\n",
      "{'next_id': 'salida', 'namestate': 'mensaje_salida', 'contenido': 'Adios', 'contenttype': 'text', 'typingtime': 3, 'id_robot': 446, 'blocktype': 'informativo'}\n",
      "Se actualizo el chatbot\n",
      "Datos del ChatBot:\n",
      "{'name_robot': 'CharlyBOT', 'id_face': '111445520541316', 'block_ini': 'prueba_inicio', 'type_blocki': 'informativo', 'access_token': 'EAALZCCZBzPwfkBAAo7njAlW7s4DTj1ZCs5v1ung1MhEyMlJXOOtiG8r7JcBgXVPhZBHkJONyTB6jKG470UyqGPWn4aDPnisgtT2ZCZAwQIjQgZAZBufZBJXmHz6mPKSgdmP6ikDA87vocZBay2dfQdz1OYezmYbxwfILXUvXtjUMZAniQZDZD', 'id_user': 'charlygoldcruz@gmail.com', 'api_nlp': 'http://localhost:8282/'}\n"
     ]
    }
   ],
   "source": [
    "if __name__ == \"__main__\":    \n",
    "    app.run(host='localhost',port='9595')"
   ]
  },
  {
   "cell_type": "code",
   "execution_count": null,
   "metadata": {},
   "outputs": [],
   "source": []
  }
 ],
 "metadata": {
  "kernelspec": {
   "display_name": "Python 3",
   "language": "python",
   "name": "python3"
  },
  "language_info": {
   "codemirror_mode": {
    "name": "ipython",
    "version": 3
   },
   "file_extension": ".py",
   "mimetype": "text/x-python",
   "name": "python",
   "nbconvert_exporter": "python",
   "pygments_lexer": "ipython3",
   "version": "3.9.2"
  }
 },
 "nbformat": 4,
 "nbformat_minor": 4
}
