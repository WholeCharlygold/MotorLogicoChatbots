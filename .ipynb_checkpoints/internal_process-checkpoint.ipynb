{
 "cells": [
  {
   "cell_type": "code",
   "execution_count": 1,
   "metadata": {},
   "outputs": [
    {
     "data": {
      "text/html": [
       "<style>.container { width:100% !important; }</style>"
      ],
      "text/plain": [
       "<IPython.core.display.HTML object>"
      ]
     },
     "metadata": {},
     "output_type": "display_data"
    }
   ],
   "source": [
    "import os\n",
    "import copy\n",
    "import pybars\n",
    "import json\n",
    "from flask import Flask\n",
    "from flask import request\n",
    "from flask_api import status\n",
    "import psycopg2\n",
    "import json\n",
    "import copy\n",
    "from random import randint\n",
    "from manejo_base_de_datos import baseDatos\n",
    "from manejo_archivos_json import dataJson\n",
    "\n",
    "from IPython.core.display import display, HTML\n",
    "display(HTML(\"<style>.container { width:100% !important; }</style>\"))\n",
    "manejadorBaseDeDatos=baseDatos(\"postgres\",\"123456789\",\"127.0.0.1\",\"5432\",\"chatblocks\")#manejador de consultas a base de datos \n",
    "manejadorArchivos = dataJson(os.getcwd()+\"/\") "
   ]
  },
  {
   "cell_type": "code",
   "execution_count": 2,
   "metadata": {},
   "outputs": [],
   "source": [
    "app = Flask(__name__)\n",
    "@app.route('/random/<limite>',methods=['GET'])\n",
    "def random(limite):\n",
    "    try:\n",
    "        numero = randint(0,int(limite))\n",
    "        print(numero)        \n",
    "        return {\"value\":numero}\n",
    "    except (Exception, psycopg2.Error) as error :\n",
    "        print(\"error\",error)\n",
    "        return \"error\",status.HTTP_404_NOT_FOUND"
   ]
  },
  {
   "cell_type": "code",
   "execution_count": 3,
   "metadata": {},
   "outputs": [],
   "source": [
    "@app.route('/restar/',methods=['GET'])\n",
    "def restar():\n",
    "    try:\n",
    "        numero = 0\n",
    "        return {\"value\":numero}\n",
    "    except (Exception, psycopg2.Error) as error :\n",
    "        print(\"error\",error)\n",
    "        return \"error\",status.HTTP_404_NOT_FOUND"
   ]
  },
  {
   "cell_type": "code",
   "execution_count": 4,
   "metadata": {},
   "outputs": [],
   "source": [
    "@app.route('/reset',methods=['GET'])\n",
    "def reset():\n",
    "    try:\n",
    "        numero = 0         \n",
    "        print(\"incremento \",numero)\n",
    "        return {\"value\":numero}\n",
    "    \n",
    "    except (Exception, psycopg2.Error) as error :\n",
    "        print(\"error\",error)\n",
    "        return \"error\",status.HTTP_404_NOT_FOUND"
   ]
  },
  {
   "cell_type": "code",
   "execution_count": 5,
   "metadata": {},
   "outputs": [],
   "source": [
    "@app.route('/increase/<limite>/<valor_actual>',methods=['GET'])\n",
    "def increase(limite,valor_actual):\n",
    "    try:\n",
    "        print(\"valor actual:\",valor_actual)\n",
    "        print(\"limite: \",limite)\n",
    "        if int(limite) > int(valor_actual):            \n",
    "            numero = int(valor_actual)\n",
    "            numero = numero + 1\n",
    "        else:\n",
    "            numero = int(valor_actual)\n",
    "            \n",
    "        print(\"incremento \",numero)\n",
    "        return {\"value\":numero}\n",
    "    except (Exception, psycopg2.Error) as error :\n",
    "        print(\"error\",error)\n",
    "        return \"error\",status.HTTP_404_NOT_FOUND\n",
    "        "
   ]
  },
  {
   "cell_type": "code",
   "execution_count": null,
   "metadata": {},
   "outputs": [
    {
     "name": "stdout",
     "output_type": "stream",
     "text": [
      " * Serving Flask app \"__main__\" (lazy loading)\n",
      " * Environment: production\n",
      "   WARNING: This is a development server. Do not use it in a production deployment.\n",
      "   Use a production WSGI server instead.\n",
      " * Debug mode: off\n"
     ]
    },
    {
     "name": "stderr",
     "output_type": "stream",
     "text": [
      " * Running on http://localhost:1111/ (Press CTRL+C to quit)\n"
     ]
    }
   ],
   "source": [
    "if __name__ == \"__main__\":    \n",
    "    app.run(host='localhost',port='1111')"
   ]
  },
  {
   "cell_type": "code",
   "execution_count": null,
   "metadata": {},
   "outputs": [],
   "source": []
  }
 ],
 "metadata": {
  "kernelspec": {
   "display_name": "Python 3",
   "language": "python",
   "name": "python3"
  },
  "language_info": {
   "codemirror_mode": {
    "name": "ipython",
    "version": 3
   },
   "file_extension": ".py",
   "mimetype": "text/x-python",
   "name": "python",
   "nbconvert_exporter": "python",
   "pygments_lexer": "ipython3",
   "version": "3.7.4"
  }
 },
 "nbformat": 4,
 "nbformat_minor": 2
}
