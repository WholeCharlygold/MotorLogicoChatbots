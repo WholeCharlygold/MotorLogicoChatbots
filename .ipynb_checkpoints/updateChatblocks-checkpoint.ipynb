{
 "cells": [
  {
   "cell_type": "code",
   "execution_count": 1,
   "metadata": {},
   "outputs": [
    {
     "data": {
      "text/html": [
       "<style>.container { width:100% !important; }</style>"
      ],
      "text/plain": [
       "<IPython.core.display.HTML object>"
      ]
     },
     "metadata": {},
     "output_type": "display_data"
    }
   ],
   "source": [
    "import os\n",
    "import sys \n",
    "from flask import Flask\n",
    "from flask import request\n",
    "from flask_api import status\n",
    "import psycopg2\n",
    "import json\n",
    "import copy\n",
    "from IPython.core.display import display, HTML\n",
    "\n",
    "display(HTML(\"<style>.container { width:100% !important; }</style>\"))\n",
    "datosBaseDeDatos = {\"usuario\":\"postgres\",\"password\":\"carlos98\",\"Host\":\"127.0.0.1\",\"puerto\":\"5432\",\"DB\":\"chatblocks\"}"
   ]
  },
  {
   "cell_type": "code",
   "execution_count": 2,
   "metadata": {},
   "outputs": [],
   "source": [
    "def abrirJson(name,path=os.getcwd()+\"/\" ):\n",
    "    with open(path+name,encoding='utf-8') as data_file:  \n",
    "        diccionario = json.load(data_file)\n",
    "    return diccionario"
   ]
  },
  {
   "cell_type": "code",
   "execution_count": 3,
   "metadata": {},
   "outputs": [],
   "source": [
    "def conexionBaseDeDatos(datosConexion):\n",
    "    try:\n",
    "        connection = psycopg2.connect(user = datosConexion[\"usuario\"],\n",
    "                              password = datosConexion[\"password\"],\n",
    "                              host = datosConexion[\"Host\"],\n",
    "                              port = datosConexion[\"puerto\"],\n",
    "                              database = datosConexion[\"DB\"])    \n",
    "        return connection\n",
    "    except(Exception, psycopg2.Error) as error:\n",
    "        print(\"Error al conectar con base de datos\", error)"
   ]
  },
  {
   "cell_type": "code",
   "execution_count": 4,
   "metadata": {},
   "outputs": [],
   "source": [
    "def consultar(connection,datos=False,consulta=False,tabla=False):\n",
    "    #print(\"datos\",datos)\n",
    "    consultaBots = list()\n",
    "    column_names = []\n",
    "    data_rows = []\n",
    "    diccionarioDatos = dict()\n",
    "    consultas = list()\n",
    "    cursor = connection.cursor()  \n",
    "    cosulta =\"\"    \n",
    "    if datos:\n",
    "        print(\"intenatando consulta...\")\n",
    "        if tabla == 'robots':\n",
    "            consulta = \"select * from robots where id_face = '\"+datos[\"id_face\"]+\"';\"\n",
    "        else:\n",
    "            consulta = \"select * from \"+tabla+\" where \"        \n",
    "            i=0\n",
    "            for dato, valorDato in datos.items():\n",
    "                if i==0:\n",
    "                    consulta = consulta+dato+\"= '\"+str(valorDato)+\"'\"                \n",
    "                else:             \n",
    "                    consulta = consulta+\" and \"+dato+\"= '\"+str(valorDato)+\"'\" \n",
    "                i=i+1\n",
    "            #print(dato,\":\",valorDato)\n",
    "            consulta= consulta + \" ;\" \n",
    "            #print(consulta)        \n",
    "            #consulta = \"select * from robots where name_robot = '\"+datosBot[\"name_robot\"]+\"' and id_face = '\"+ datosBot[\"id_face\"]+\"' and  type_blocki = '\"+datosBot[\"type_blocki\"]+\"' and access_token= '\"+datosBot[\"access_token\"]+\"' and id_user = '\"+datosBot[\"id_user\"]+\"';\"\n",
    "    print(\"consulta:\",consulta)\n",
    "    cursor.execute(consulta)    \n",
    "    column_names = [desc[0] for desc in cursor.description]  \n",
    "    rows = cursor.fetchall()\n",
    "    for row in rows:\n",
    "        diccionarioDatos = dict()\n",
    "        for i in range(len(column_names)):\n",
    "            diccionarioDatos.update({column_names[i]:row[i]})\n",
    "        consultaBots.append(diccionarioDatos)\n",
    "    cursor.close()\n",
    "    connection.close()  \n",
    "    \n",
    "    if len(consultaBots)==1:\n",
    "        return consultaBots[0]\n",
    "    elif len(consultaBots)==0:\n",
    "        print('La consulta no trajo nada')\n",
    "        return {\"error\": \"true\"}\n",
    "    else:\n",
    "        return consultaBots"
   ]
  },
  {
   "cell_type": "code",
   "execution_count": 5,
   "metadata": {},
   "outputs": [],
   "source": [
    "def insert(datos,tabla,connection):\n",
    "    cursor = connection.cursor()\n",
    "    values = \"\"\n",
    "    datosInsert = \"\"\n",
    "    i = 0;\n",
    "    for dato, valorDato in datos.items():\n",
    "        if i==0:\n",
    "            values = values+dato \n",
    "            datosInsert = datosInsert+\"'\"+str(valorDato)+\"' \"                \n",
    "        else:\n",
    "            values = values+\",\"+dato\n",
    "            datosInsert =datosInsert+\",'\"+str(valorDato)+\"' \"\n",
    "        i=i+1\n",
    "    insersion  = \"insert into \"+tabla+\" ( \"+values+\" ) values (\"+datosInsert+\" );\" \n",
    "    cursor.execute(insersion)\n",
    "    connection.commit()\n",
    "    cursor.close()\n",
    "    connection.close()\n",
    "    return datos"
   ]
  },
  {
   "cell_type": "code",
   "execution_count": 6,
   "metadata": {},
   "outputs": [],
   "source": [
    "def update(datosActualizar,datos,tabla,connection):\n",
    "    actualizar =\" \"\n",
    "    actualizar = \"update \"+tabla+\" set\"\n",
    "    j = 0\n",
    "    for dato,informacionDato in datosActualizar.items():\n",
    "        print(dato)\n",
    "        if j==0:\n",
    "            actualizar=actualizar+\" \"+dato+\"=\"+str(informacionDato)\n",
    "            j=j+1\n",
    "        else:\n",
    "             actualizar=actualizar+\", \"+dato+\"=\"+str(informacionDato)\n",
    "    \n",
    "    i=0\n",
    "    actualizar=actualizar+\" where \"\n",
    "    for dato, valorDato in datos.items():\n",
    "        if i==0:\n",
    "            actualizar = actualizar+dato+\"= '\"+str(valorDato)+\"'\"                \n",
    "        else:             \n",
    "            actualizar = actualizar+\" and \"+dato+\"= '\"+str(valorDato)+\"'\" \n",
    "        i=i+1\n",
    "    actualizar= actualizar + \" ;\"  "
   ]
  },
  {
   "cell_type": "code",
   "execution_count": 7,
   "metadata": {},
   "outputs": [],
   "source": [
    "app = Flask(__name__)\n",
    "@app.route('/access_token', methods = ['POST'])\n",
    "def postAccessToken():\n",
    "    try:         \n",
    "        connection = conexionBaseDeDatos(datosBaseDeDatos)        \n",
    "        datosVariable = request.get_json()   \n",
    "        tabla = \"robots\"\n",
    "        con = consultaBots(connection,datos=datosVariable,tabla=tabla)        \n",
    "        listaAcessToken=list()\n",
    "        if type(con)==list:\n",
    "            for i in range(len(con)):\n",
    "                print(con[i])\n",
    "                listaAcessToken.append(con[i][\"access_token\"])\n",
    "        else:\n",
    "            listaAcessToken.append(con[\"access_token\"])         \n",
    "        print(listaAcessToken)\n",
    "        return {\"access_token\":listaAcessToken}\n",
    "    except:\n",
    "        return datosVariable,status.HTTP_404_NOT_FOUND\n"
   ]
  },
  {
   "cell_type": "code",
   "execution_count": 8,
   "metadata": {},
   "outputs": [],
   "source": [
    "@app.route('/insert/<tabla>',methods=['POST'])\n",
    "def funcionalidad(tabla):\n",
    "    try:\n",
    "        connection = conexionBaseDeDatos(datosBaseDeDatos)\n",
    "        datos = request.get_json()\n",
    "        print(\"Datos recibidos:\")\n",
    "        print(datos)\n",
    "        insert(datos,str(tabla),connection)\n",
    "        connection = conexionBaseDeDatos(datosBaseDeDatos)\n",
    "        consulta = consultar(connection,datos=datos,tabla=str(tabla))\n",
    "        print(\"Datos enviados:\")\n",
    "        print (consulta)\n",
    "        return consulta\n",
    "    except (Exception, psycopg2.Error) as error :\n",
    "        print(\"error\",error)\n",
    "        return tabla,status.HTTP_404_NOT_FOUND"
   ]
  },
  {
   "cell_type": "code",
   "execution_count": 9,
   "metadata": {},
   "outputs": [],
   "source": [
    "@app.route('/select/<tabla>',methods=['GET'])\n",
    "def select(tabla):\n",
    "    try:\n",
    "        connection = conexionBaseDeDatos(datosBaseDeDatos)\n",
    "        datos = request.get_json()\n",
    "        print(\"Datos recibidos:\")\n",
    "        print(datos)\n",
    "        \n",
    "        consulta = consultar(connection,datos=datos,tabla=str(tabla))\n",
    "        print(\"Datos enviados:\")\n",
    "        print (consulta)\n",
    "        return consulta\n",
    "    except (Exception, psycopg2.Error) as error :\n",
    "        print(\"error\",error)\n",
    "        return tabla,status.HTTP_404_NOT_FOUND"
   ]
  },
  {
   "cell_type": "code",
   "execution_count": null,
   "metadata": {},
   "outputs": [
    {
     "name": "stdout",
     "output_type": "stream",
     "text": [
      " * Serving Flask app \"__main__\" (lazy loading)\n",
      " * Environment: production\n",
      "   WARNING: This is a development server. Do not use it in a production deployment.\n",
      "   Use a production WSGI server instead.\n",
      " * Debug mode: off\n"
     ]
    },
    {
     "name": "stderr",
     "output_type": "stream",
     "text": [
      " * Running on http://localhost:8181/ (Press CTRL+C to quit)\n",
      "127.0.0.1 - - [17/Mar/2021 22:34:36] \"\u001b[37mGET /select/robots HTTP/1.1\u001b[0m\" 200 -\n",
      "127.0.0.1 - - [17/Mar/2021 22:34:36] \"\u001b[37mGET /select/bloqueslide HTTP/1.1\u001b[0m\" 200 -\n",
      "127.0.0.1 - - [17/Mar/2021 22:34:37] \"\u001b[37mGET /select/elementos HTTP/1.1\u001b[0m\" 200 -\n"
     ]
    },
    {
     "name": "stdout",
     "output_type": "stream",
     "text": [
      "Datos recibidos:\n",
      "{'name_robot': 'oliverBot', 'id_face': '2153123008120093', 'block_ini': 'prueba_inicio', 'type_blocki': 'quickreply', 'access_token': 'EAAHNkscg2TcBAMvebksfOxuFBpMeR5sUhzHTKtqdi6NkqQKZAdkeaGVJ9Yc5bNbvL3JLzCgB7EEqsVUTZADhidVcC3zJV1UZB4Uz0Hm3fZB9IETnWb4I8MoK8nxpenC1lYwnjwnRwMHVZA1FKw8d3A45t9xCxmPKnm6kIr5ZCA8wZDZD', 'id_user': 'oliverbp88@gmail.com', 'api_nlp': 'http://localhost:8282/'}\n",
      "intenatando consulta...\n",
      "consulta: select * from robots where id_face = '2153123008120093';\n",
      "Datos enviados:\n",
      "{'name_robot': 'oliverBot', 'id_face': '2153123008120093', 'block_ini': 'prueba_inicio', 'type_blocki': 'quickreply', 'access_token': 'EAAHNkscg2TcBAMvebksfOxuFBpMeR5sUhzHTKtqdi6NkqQKZAdkeaGVJ9Yc5bNbvL3JLzCgB7EEqsVUTZADhidVcC3zJV1UZB4Uz0Hm3fZB9IETnWb4I8MoK8nxpenC1lYwnjwnRwMHVZA1FKw8d3A45t9xCxmPKnm6kIr5ZCA8wZDZD', 'api_nlp': 'http://localhost:8282/', 'id_robot': 397, 'id_user': 'oliverbp88@gmail.com'}\n",
      "Datos recibidos:\n",
      "{'id_robot': '397'}\n",
      "intenatando consulta...\n",
      "consulta: select * from bloqueslide where id_robot= '397' ;\n",
      "Datos enviados:\n",
      "{'namestate': 'prueba_slide', 'next_id': 'https://www.youtube.com/,https://www.reddit.com/', 'blocktype': 'slide', 'typingtime': '3', 'default_id': 'prueba_qa', 'id_var': 'var_slide', 'id_block': 165, 'id_robot': 397, 'opc_nextid': None, 'pos_y': None, 'pos_x': None, 'opc_elm': None, 'tag_active': None}\n",
      "Datos recibidos:\n",
      "{'id_block': 165}\n",
      "intenatando consulta...\n",
      "consulta: select * from elementos where id_block= '165' ;\n",
      "Datos enviados:\n",
      "{'blocktype': 'slide', 'title': 'Prueba titulo', 'image_url': 'data:image/jpeg;base64,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', 'subtitle': 'Esta es una prueba de carrusel.', 'id_block': 165, 'id_elements': 404}\n"
     ]
    },
    {
     "name": "stderr",
     "output_type": "stream",
     "text": [
      "127.0.0.1 - - [17/Mar/2021 22:34:37] \"\u001b[37mPOST /insert/bloqueinformativo HTTP/1.1\u001b[0m\" 200 -\n",
      "127.0.0.1 - - [17/Mar/2021 22:34:37] \"\u001b[37mPOST /insert/bloqueinformativo HTTP/1.1\u001b[0m\" 200 -\n"
     ]
    },
    {
     "name": "stdout",
     "output_type": "stream",
     "text": [
      "{'next_id': 'pruebaCorreo_01inicial_inicial', 'namestate': 'prueba_inicio', 'contenido': 'Hola, soy un chatbot y esto es un mensaje de prueba y adios', 'contenttype': 'text', 'typingtime': 3, 'id_robot': 397, 'blocktype': 'informativo'}\n",
      "intenatando consulta...\n",
      "consulta: select * from bloqueinformativo where next_id= 'pruebaCorreo_01inicial_inicial' and namestate= 'prueba_inicio' and contenido= 'Hola, soy un chatbot y esto es un mensaje de prueba y adios' and contenttype= 'text' and typingtime= '3' and id_robot= '397' and blocktype= 'informativo' ;\n",
      "{'namestate': 'prueba_inicio', 'contenido': 'Hola, soy un chatbot y esto es un mensaje de prueba y adios', 'next_id': 'pruebaCorreo_01inicial_inicial', 'blocktype': 'informativo', 'contenttype': 'text', 'typingtime': '3', 'id_block': 1150, 'id_robot': 397, 'opc_nextid': None, 'pos_y': None, 'pos_x': None, 'tag_active': None}\n",
      "{'next_id': 'pruebaCorreo_01inicial_inicial', 'namestate': 'prueba_qa', 'contenido': 'Vamos a ver si no truena', 'contenttype': 'text', 'typingtime': 7, 'id_robot': 397, 'blocktype': 'informativo'}\n",
      "intenatando consulta...\n",
      "consulta: select * from bloqueinformativo where next_id= 'pruebaCorreo_01inicial_inicial' and namestate= 'prueba_qa' and contenido= 'Vamos a ver si no truena' and contenttype= 'text' and typingtime= '7' and id_robot= '397' and blocktype= 'informativo' ;\n",
      "{'namestate': 'prueba_qa', 'contenido': 'Vamos a ver si no truena', 'next_id': 'pruebaCorreo_01inicial_inicial', 'blocktype': 'informativo', 'contenttype': 'text', 'typingtime': '7', 'id_block': 1151, 'id_robot': 397, 'opc_nextid': None, 'pos_y': None, 'pos_x': None, 'tag_active': None}\n",
      "{'next_id': 'Salida', 'namestate': 'prueba_dos', 'contenido': 'Puedo hacer muchas cosas, entre ellas despedirme. Adios', 'contenttype': 'text', 'typingtime': 3, 'id_robot': 397, 'blocktype': 'informativo'}\n",
      "intenatando consulta...\n",
      "consulta: select * from bloqueinformativo where next_id= 'Salida' and namestate= 'prueba_dos' and contenido= 'Puedo hacer muchas cosas, entre ellas despedirme. Adios' and contenttype= 'text' and typingtime= '3' and id_robot= '397' and blocktype= 'informativo' ;\n"
     ]
    },
    {
     "name": "stderr",
     "output_type": "stream",
     "text": [
      "127.0.0.1 - - [17/Mar/2021 22:34:37] \"\u001b[37mPOST /insert/bloqueinformativo HTTP/1.1\u001b[0m\" 200 -\n",
      "127.0.0.1 - - [17/Mar/2021 22:34:37] \"\u001b[37mPOST /insert/variables HTTP/1.1\u001b[0m\" 200 -\n",
      "127.0.0.1 - - [17/Mar/2021 22:34:37] \"\u001b[37mPOST /insert/bloquequickreply HTTP/1.1\u001b[0m\" 200 -\n"
     ]
    },
    {
     "name": "stdout",
     "output_type": "stream",
     "text": [
      "{'namestate': 'prueba_dos', 'contenido': 'Puedo hacer muchas cosas, entre ellas despedirme. Adios', 'next_id': 'Salida', 'blocktype': 'informativo', 'contenttype': 'text', 'typingtime': '3', 'id_block': 1152, 'id_robot': 397, 'opc_nextid': None, 'pos_y': None, 'pos_x': None, 'tag_active': None}\n",
      "{'name_var': 'var_case', 'opc_type': 'Variable', 'var': 0, 'opc_data': 'Numerico', 'id_robot': 397}\n",
      "intenatando consulta...\n",
      "consulta: select * from variables where name_var= 'var_case' and opc_type= 'Variable' and var= '0' and opc_data= 'Numerico' and id_robot= '397' ;\n",
      "{'id_var': 920, 'opc_type': 'Variable', 'opc_data': 'Numerico', 'var': '0', 'id_robot': 397, 'name_var': 'var_case'}\n",
      "{'contenido': '¿Cuál es tu correo?', 'opciones': 'email,otro', 'next_id': 'prueba_dos,prueba_qa', 'default_id': 'prueba_qa', 'namestate': 'pruebaCorreo_01inicial_inicial', 'typingtime': 3, 'id_robot': 397, 'id_var': 920, 'blocktype': 'quickReply'}\n",
      "intenatando consulta...\n",
      "consulta: select * from bloquequickreply where contenido= '¿Cuál es tu correo?' and opciones= 'email,otro' and next_id= 'prueba_dos,prueba_qa' and default_id= 'prueba_qa' and namestate= 'pruebaCorreo_01inicial_inicial' and typingtime= '3' and id_robot= '397' and id_var= '920' and blocktype= 'quickReply' ;\n",
      "{'namestate': 'pruebaCorreo_01inicial_inicial', 'contenido': '¿Cuál es tu correo?', 'opciones': 'email,otro', 'next_id': 'prueba_dos,prueba_qa', 'blocktype': 'quickReply', 'typingtime': '3', 'default_id': 'prueba_qa', 'id_var': '920', 'id_block': 404, 'id_robot': 397, 'opc_nextid': None, 'pos_y': None, 'pos_x': None, 'tag_active': None}\n",
      "{'namestate': 'prueba_slide', 'blocktype': 'slide', 'typingtime': 3, 'default_id': 'prueba_qa', 'id_var': 'var_slide', 'id_robot': 397}\n"
     ]
    },
    {
     "name": "stderr",
     "output_type": "stream",
     "text": [
      "127.0.0.1 - - [17/Mar/2021 22:34:37] \"\u001b[37mPOST /insert/bloqueslide HTTP/1.1\u001b[0m\" 200 -\n",
      "127.0.0.1 - - [17/Mar/2021 22:34:37] \"\u001b[37mPOST /insert/elementos HTTP/1.1\u001b[0m\" 200 -\n"
     ]
    },
    {
     "name": "stdout",
     "output_type": "stream",
     "text": [
      "intenatando consulta...\n",
      "consulta: select * from bloqueslide where namestate= 'prueba_slide' and blocktype= 'slide' and typingtime= '3' and default_id= 'prueba_qa' and id_var= 'var_slide' and id_robot= '397' ;\n",
      "{'namestate': 'prueba_slide', 'next_id': None, 'blocktype': 'slide', 'typingtime': '3', 'default_id': 'prueba_qa', 'id_var': 'var_slide', 'id_block': 166, 'id_robot': 397, 'opc_nextid': None, 'pos_y': None, 'pos_x': None, 'opc_elm': None, 'tag_active': None}\n",
      "{'title': 'Prueba titulo', 'image_url': 'data:image/jpeg;base64,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', 'subtitle': 'Esta es una prueba de carrusel.', 'blocktype': 'slide', 'id_block': 166}\n",
      "intenatando consulta...\n",
      "consulta: select * from elementos where title= 'Prueba titulo' and image_url= 'data:image/jpeg;base64,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' and subtitle= 'Esta es una prueba de carrusel.' and blocktype= 'slide' and id_block= '166' ;\n",
      "{'blocktype': 'slide', 'title': 'Prueba titulo', 'image_url': 'data:image/jpeg;base64,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', 'subtitle': 'Esta es una prueba de carrusel.', 'id_block': 166, 'id_elements': 405}\n",
      "{'id_elemento': '405', 'titlebutton': 'Boton 1', 'typebutton': 'url', 'contentbutton': 'https://www.youtube.com/', 'opc_nextid': 'https://www.youtube.com/'}\n",
      "intenatando consulta...\n",
      "consulta: select * from botones where id_elemento= '405' and titlebutton= 'Boton 1' and typebutton= 'url' and contentbutton= 'https://www.youtube.com/' and opc_nextid= 'https://www.youtube.com/' ;\n"
     ]
    },
    {
     "name": "stderr",
     "output_type": "stream",
     "text": [
      "127.0.0.1 - - [17/Mar/2021 22:34:37] \"\u001b[37mPOST /insert/botones HTTP/1.1\u001b[0m\" 200 -\n",
      "127.0.0.1 - - [17/Mar/2021 22:34:37] \"\u001b[37mPOST /insert/botones HTTP/1.1\u001b[0m\" 200 -\n",
      "127.0.0.1 - - [17/Mar/2021 22:34:37] \"\u001b[33mPOST /insert/bloqueslide HTTP/1.1\u001b[0m\" 404 -\n"
     ]
    },
    {
     "name": "stdout",
     "output_type": "stream",
     "text": [
      "{'id_elemento': '405', 'titlebutton': 'Boton 1', 'typebutton': 'url', 'contentbutton': 'https://www.youtube.com/', 'id_boton': 622, 'opc_nextid': 'https://www.youtube.com/'}\n",
      "{'id_elemento': '405', 'titlebutton': 'Boton 2', 'typebutton': 'url', 'contentbutton': 'https://www.reddit.com/', 'opc_nextid': 'https://www.reddit.com/'}\n",
      "intenatando consulta...\n",
      "consulta: select * from botones where id_elemento= '405' and titlebutton= 'Boton 2' and typebutton= 'url' and contentbutton= 'https://www.reddit.com/' and opc_nextid= 'https://www.reddit.com/' ;\n",
      "{'id_elemento': '405', 'titlebutton': 'Boton 2', 'typebutton': 'url', 'contentbutton': 'https://www.reddit.com/', 'id_boton': 623, 'opc_nextid': 'https://www.reddit.com/'}\n",
      "{'default_id': 'prueba_qa', 'namestate': 'prueba_slide', 'typingtime': 3, 'nombreVariable': 'var_slideMenu', 'tipoVariable': 'Variable', 'tipoDato': 'Cadena', 'id_var': 'var_slide', 'id_robot': 397, 'blocktype': 'slide'}\n",
      "error no existe la columna «nombrevariable» en la relación «bloqueslide»\n",
      "LINE 1: ...nto bloqueslide ( default_id,namestate,typingtime,nombreVari...\n",
      "                                                             ^\n",
      "\n"
     ]
    }
   ],
   "source": [
    "if __name__ == \"__main__\":    \n",
    "    app.run(host='localhost',port='8181')"
   ]
  },
  {
   "cell_type": "code",
   "execution_count": null,
   "metadata": {},
   "outputs": [],
   "source": []
  },
  {
   "cell_type": "code",
   "execution_count": null,
   "metadata": {},
   "outputs": [],
   "source": []
  }
 ],
 "metadata": {
  "kernelspec": {
   "display_name": "Python 3",
   "language": "python",
   "name": "python3"
  },
  "language_info": {
   "codemirror_mode": {
    "name": "ipython",
    "version": 3
   },
   "file_extension": ".py",
   "mimetype": "text/x-python",
   "name": "python",
   "nbconvert_exporter": "python",
   "pygments_lexer": "ipython3",
   "version": "3.9.2"
  }
 },
 "nbformat": 4,
 "nbformat_minor": 4
}
