{
 "cells": [
  {
   "cell_type": "code",
   "execution_count": 1,
   "metadata": {},
   "outputs": [
    {
     "data": {
      "text/html": [
       "<style>.container { width:100% !important; }</style>"
      ],
      "text/plain": [
       "<IPython.core.display.HTML object>"
      ]
     },
     "metadata": {},
     "output_type": "display_data"
    }
   ],
   "source": [
    "import os\n",
    "import sys \n",
    "from flask import Flask\n",
    "from flask import request\n",
    "from flask_api import status\n",
    "import psycopg2\n",
    "import json\n",
    "import copy\n",
    "from IPython.core.display import display, HTML\n",
    "\n",
    "display(HTML(\"<style>.container { width:100% !important; }</style>\"))\n",
    "datosBaseDeDatos = {\"usuario\":\"postgres\",\"password\":\"carlos98\",\"Host\":\"127.0.0.1\",\"puerto\":\"5432\",\"DB\":\"chatblocks\"}"
   ]
  },
  {
   "cell_type": "code",
   "execution_count": 2,
   "metadata": {},
   "outputs": [],
   "source": [
    "def abrirJson(name,path=os.getcwd()+\"/\" ):\n",
    "    with open(path+name,encoding='utf-8') as data_file:  \n",
    "        diccionario = json.load(data_file)\n",
    "    return diccionario"
   ]
  },
  {
   "cell_type": "code",
   "execution_count": 3,
   "metadata": {},
   "outputs": [],
   "source": [
    "def conexionBaseDeDatos(datosConexion):\n",
    "    try:\n",
    "        connection = psycopg2.connect(user = datosConexion[\"usuario\"],\n",
    "                              password = datosConexion[\"password\"],\n",
    "                              host = datosConexion[\"Host\"],\n",
    "                              port = datosConexion[\"puerto\"],\n",
    "                              database = datosConexion[\"DB\"])    \n",
    "        return connection\n",
    "    except(Exception, psycopg2.Error) as error:\n",
    "        print(\"Error al conectar con base de datos\", error)"
   ]
  },
  {
   "cell_type": "code",
   "execution_count": 4,
   "metadata": {},
   "outputs": [],
   "source": [
    "def consultar(connection,datos=False,consulta=False,tabla=False):\n",
    "    #print(\"datos\",datos)\n",
    "    consultaBots = list()\n",
    "    column_names = []\n",
    "    data_rows = []\n",
    "    diccionarioDatos = dict()\n",
    "    consultas = list()\n",
    "    cursor = connection.cursor()  \n",
    "    cosulta =\"\"    \n",
    "    if datos:\n",
    "        print(\"intenatando consulta...\")\n",
    "        if tabla == 'robots':\n",
    "            consulta = \"select * from robots where id_face = '\"+datos[\"id_face\"]+\"';\"\n",
    "        else:\n",
    "            consulta = \"select * from \"+tabla+\" where \"        \n",
    "            i=0\n",
    "            for dato, valorDato in datos.items():\n",
    "                if i==0:\n",
    "                    consulta = consulta+dato+\"= '\"+str(valorDato)+\"'\"                \n",
    "                else:             \n",
    "                    consulta = consulta+\" and \"+dato+\"= '\"+str(valorDato)+\"'\" \n",
    "                i=i+1\n",
    "            #print(dato,\":\",valorDato)\n",
    "            consulta= consulta + \" ;\" \n",
    "            #print(consulta)        \n",
    "            #consulta = \"select * from robots where name_robot = '\"+datosBot[\"name_robot\"]+\"' and id_face = '\"+ datosBot[\"id_face\"]+\"' and  type_blocki = '\"+datosBot[\"type_blocki\"]+\"' and access_token= '\"+datosBot[\"access_token\"]+\"' and id_user = '\"+datosBot[\"id_user\"]+\"';\"\n",
    "    print(\"consulta:\",consulta)\n",
    "    cursor.execute(consulta)    \n",
    "    column_names = [desc[0] for desc in cursor.description]  \n",
    "    rows = cursor.fetchall()\n",
    "    for row in rows:\n",
    "        diccionarioDatos = dict()\n",
    "        for i in range(len(column_names)):\n",
    "            diccionarioDatos.update({column_names[i]:row[i]})\n",
    "        consultaBots.append(diccionarioDatos)\n",
    "    cursor.close()\n",
    "    connection.close()  \n",
    "    \n",
    "    if len(consultaBots)==1:\n",
    "        return consultaBots[0]\n",
    "    elif len(consultaBots)==0:\n",
    "        print('La consulta no trajo nada')\n",
    "        return {\"error\": \"true\"}\n",
    "    else:\n",
    "        return consultaBots"
   ]
  },
  {
   "cell_type": "code",
   "execution_count": 5,
   "metadata": {},
   "outputs": [],
   "source": [
    "def insert(datos,tabla,connection):\n",
    "    cursor = connection.cursor()\n",
    "    values = \"\"\n",
    "    datosInsert = \"\"\n",
    "    i = 0;\n",
    "    for dato, valorDato in datos.items():\n",
    "        if i==0:\n",
    "            values = values+dato \n",
    "            datosInsert = datosInsert+\"'\"+str(valorDato)+\"' \"                \n",
    "        else:\n",
    "            values = values+\",\"+dato\n",
    "            datosInsert =datosInsert+\",'\"+str(valorDato)+\"' \"\n",
    "        i=i+1\n",
    "    insersion  = \"insert into \"+tabla+\" ( \"+values+\" ) values (\"+datosInsert+\" );\" \n",
    "    cursor.execute(insersion)\n",
    "    connection.commit()\n",
    "    cursor.close()\n",
    "    connection.close()\n",
    "    return datos"
   ]
  },
  {
   "cell_type": "code",
   "execution_count": 6,
   "metadata": {},
   "outputs": [],
   "source": [
    "def update(datosActualizar,datos,tabla,connection):\n",
    "    actualizar =\" \"\n",
    "    actualizar = \"update \"+tabla+\" set\"\n",
    "    j = 0\n",
    "    for dato,informacionDato in datosActualizar.items():\n",
    "        print(dato)\n",
    "        if j==0:\n",
    "            actualizar=actualizar+\" \"+dato+\"=\"+str(informacionDato)\n",
    "            j=j+1\n",
    "        else:\n",
    "             actualizar=actualizar+\", \"+dato+\"=\"+str(informacionDato)\n",
    "    \n",
    "    i=0\n",
    "    actualizar=actualizar+\" where \"\n",
    "    for dato, valorDato in datos.items():\n",
    "        if i==0:\n",
    "            actualizar = actualizar+dato+\"= '\"+str(valorDato)+\"'\"                \n",
    "        else:             \n",
    "            actualizar = actualizar+\" and \"+dato+\"= '\"+str(valorDato)+\"'\" \n",
    "        i=i+1\n",
    "    actualizar= actualizar + \" ;\"  "
   ]
  },
  {
   "cell_type": "code",
   "execution_count": 7,
   "metadata": {},
   "outputs": [],
   "source": [
    "app = Flask(__name__)\n",
    "@app.route('/access_token', methods = ['POST'])\n",
    "def postAccessToken():\n",
    "    try:         \n",
    "        connection = conexionBaseDeDatos(datosBaseDeDatos)        \n",
    "        datosVariable = request.get_json()   \n",
    "        tabla = \"robots\"\n",
    "        con = consultaBots(connection,datos=datosVariable,tabla=tabla)        \n",
    "        listaAcessToken=list()\n",
    "        if type(con)==list:\n",
    "            for i in range(len(con)):\n",
    "                print(con[i])\n",
    "                listaAcessToken.append(con[i][\"access_token\"])\n",
    "        else:\n",
    "            listaAcessToken.append(con[\"access_token\"])         \n",
    "        print(listaAcessToken)\n",
    "        return {\"access_token\":listaAcessToken}\n",
    "    except:\n",
    "        return datosVariable,status.HTTP_404_NOT_FOUND\n"
   ]
  },
  {
   "cell_type": "code",
   "execution_count": 8,
   "metadata": {},
   "outputs": [],
   "source": [
    "@app.route('/insert/<tabla>',methods=['POST'])\n",
    "def funcionalidad(tabla):\n",
    "    try:\n",
    "        connection = conexionBaseDeDatos(datosBaseDeDatos)\n",
    "        datos = request.get_json()\n",
    "        print(datos)\n",
    "        insert(datos,str(tabla),connection)\n",
    "        connection = conexionBaseDeDatos(datosBaseDeDatos)\n",
    "        consulta = consultar(connection,datos=datos,tabla=str(tabla))\n",
    "        print(consulta)\n",
    "        return consulta\n",
    "    except (Exception, psycopg2.Error) as error :\n",
    "        print(\"error\",error)\n",
    "        return tabla,status.HTTP_404_NOT_FOUND"
   ]
  },
  {
   "cell_type": "code",
   "execution_count": 9,
   "metadata": {},
   "outputs": [],
   "source": [
    "@app.route('/select/<tabla>',methods=['GET'])\n",
    "def select(tabla):\n",
    "    try:\n",
    "        connection = conexionBaseDeDatos(datosBaseDeDatos)\n",
    "        datos = request.get_json()\n",
    "        print(datos)\n",
    "        \n",
    "        consulta = consultar(connection,datos=datos,tabla=str(tabla))\n",
    "        print (consulta)\n",
    "        return consulta\n",
    "    except (Exception, psycopg2.Error) as error :\n",
    "        print(\"error\",error)\n",
    "        return tabla,status.HTTP_404_NOT_FOUND"
   ]
  },
  {
   "cell_type": "code",
   "execution_count": null,
   "metadata": {},
   "outputs": [
    {
     "name": "stdout",
     "output_type": "stream",
     "text": [
      " * Serving Flask app \"__main__\" (lazy loading)\n",
      " * Environment: production\n",
      "   WARNING: This is a development server. Do not use it in a production deployment.\n",
      "   Use a production WSGI server instead.\n",
      " * Debug mode: off\n"
     ]
    },
    {
     "name": "stderr",
     "output_type": "stream",
     "text": [
      " * Running on http://localhost:8181/ (Press CTRL+C to quit)\n"
     ]
    },
    {
     "name": "stdout",
     "output_type": "stream",
     "text": [
      "{'name_robot': 'oliverBot', 'id_face': '2153123008120093', 'block_ini': 'prueba_inicio', 'type_blocki': 'quickreply', 'access_token': 'EAAHNkscg2TcBAMvebksfOxuFBpMeR5sUhzHTKtqdi6NkqQKZAdkeaGVJ9Yc5bNbvL3JLzCgB7EEqsVUTZADhidVcC3zJV1UZB4Uz0Hm3fZB9IETnWb4I8MoK8nxpenC1lYwnjwnRwMHVZA1FKw8d3A45t9xCxmPKnm6kIr5ZCA8wZDZD', 'id_user': 'oliverbp88@gmail.com', 'api_nlp': 'http://localhost:8282/'}\n",
      "intenatando consulta...\n",
      "consulta: select * from robots where id_face = '2153123008120093';\n"
     ]
    },
    {
     "name": "stderr",
     "output_type": "stream",
     "text": [
      "127.0.0.1 - - [17/Mar/2021 19:10:15] \"\u001b[37mGET /select/robots HTTP/1.1\u001b[0m\" 200 -\n"
     ]
    },
    {
     "name": "stdout",
     "output_type": "stream",
     "text": [
      "{'name_robot': 'oliverBot', 'id_face': '2153123008120093', 'block_ini': 'prueba_inicio', 'type_blocki': 'quickreply', 'access_token': 'EAAHNkscg2TcBAMvebksfOxuFBpMeR5sUhzHTKtqdi6NkqQKZAdkeaGVJ9Yc5bNbvL3JLzCgB7EEqsVUTZADhidVcC3zJV1UZB4Uz0Hm3fZB9IETnWb4I8MoK8nxpenC1lYwnjwnRwMHVZA1FKw8d3A45t9xCxmPKnm6kIr5ZCA8wZDZD', 'api_nlp': 'http://localhost:8282/', 'id_robot': 380, 'id_user': 'oliverbp88@gmail.com'}\n",
      "{'next_id': 'pruebaCorreo_01inicial_inicial', 'namestate': 'prueba_inicio', 'contenido': 'Hola, soy un chatbot y esto es un mensaje de prueba y adios', 'contenttype': 'text', 'typingtime': 3, 'id_robot': 380, 'blocktype': 'informativo'}\n"
     ]
    },
    {
     "name": "stderr",
     "output_type": "stream",
     "text": [
      "127.0.0.1 - - [17/Mar/2021 19:10:15] \"\u001b[37mPOST /insert/bloqueinformativo HTTP/1.1\u001b[0m\" 200 -\n",
      "127.0.0.1 - - [17/Mar/2021 19:10:15] \"\u001b[37mPOST /insert/bloqueinformativo HTTP/1.1\u001b[0m\" 200 -\n",
      "127.0.0.1 - - [17/Mar/2021 19:10:15] \"\u001b[37mPOST /insert/bloqueinformativo HTTP/1.1\u001b[0m\" 200 -\n"
     ]
    },
    {
     "name": "stdout",
     "output_type": "stream",
     "text": [
      "intenatando consulta...\n",
      "consulta: select * from bloqueinformativo where next_id= 'pruebaCorreo_01inicial_inicial' and namestate= 'prueba_inicio' and contenido= 'Hola, soy un chatbot y esto es un mensaje de prueba y adios' and contenttype= 'text' and typingtime= '3' and id_robot= '380' and blocktype= 'informativo' ;\n",
      "{'namestate': 'prueba_inicio', 'contenido': 'Hola, soy un chatbot y esto es un mensaje de prueba y adios', 'next_id': 'pruebaCorreo_01inicial_inicial', 'blocktype': 'informativo', 'contenttype': 'text', 'typingtime': '3', 'id_block': 1009, 'id_robot': 380, 'opc_nextid': None, 'pos_y': None, 'pos_x': None, 'tag_active': None}\n",
      "{'next_id': 'pruebaCorreo_01inicial_inicial', 'namestate': 'prueba_qa', 'contenido': 'Vamos a ver si no truena', 'contenttype': 'text', 'typingtime': 7, 'id_robot': 380, 'blocktype': 'informativo'}\n",
      "intenatando consulta...\n",
      "consulta: select * from bloqueinformativo where next_id= 'pruebaCorreo_01inicial_inicial' and namestate= 'prueba_qa' and contenido= 'Vamos a ver si no truena' and contenttype= 'text' and typingtime= '7' and id_robot= '380' and blocktype= 'informativo' ;\n",
      "{'namestate': 'prueba_qa', 'contenido': 'Vamos a ver si no truena', 'next_id': 'pruebaCorreo_01inicial_inicial', 'blocktype': 'informativo', 'contenttype': 'text', 'typingtime': '7', 'id_block': 1010, 'id_robot': 380, 'opc_nextid': None, 'pos_y': None, 'pos_x': None, 'tag_active': None}\n",
      "{'next_id': 'Salida', 'namestate': 'prueba_dos', 'contenido': 'Puedo hacer muchas cosas, entre ellas despedirme. Adios', 'contenttype': 'text', 'typingtime': 3, 'id_robot': 380, 'blocktype': 'informativo'}\n",
      "intenatando consulta...\n",
      "consulta: select * from bloqueinformativo where next_id= 'Salida' and namestate= 'prueba_dos' and contenido= 'Puedo hacer muchas cosas, entre ellas despedirme. Adios' and contenttype= 'text' and typingtime= '3' and id_robot= '380' and blocktype= 'informativo' ;\n",
      "{'namestate': 'prueba_dos', 'contenido': 'Puedo hacer muchas cosas, entre ellas despedirme. Adios', 'next_id': 'Salida', 'blocktype': 'informativo', 'contenttype': 'text', 'typingtime': '3', 'id_block': 1011, 'id_robot': 380, 'opc_nextid': None, 'pos_y': None, 'pos_x': None, 'tag_active': None}\n",
      "{'name_var': 'var_case', 'opc_type': 'Variable', 'var': 0, 'opc_data': 'Numerico', 'id_robot': 380}\n"
     ]
    },
    {
     "name": "stderr",
     "output_type": "stream",
     "text": [
      "127.0.0.1 - - [17/Mar/2021 19:10:15] \"\u001b[37mPOST /insert/variables HTTP/1.1\u001b[0m\" 200 -\n",
      "127.0.0.1 - - [17/Mar/2021 19:10:15] \"\u001b[37mPOST /insert/bloquequickreply HTTP/1.1\u001b[0m\" 200 -\n"
     ]
    },
    {
     "name": "stdout",
     "output_type": "stream",
     "text": [
      "intenatando consulta...\n",
      "consulta: select * from variables where name_var= 'var_case' and opc_type= 'Variable' and var= '0' and opc_data= 'Numerico' and id_robot= '380' ;\n",
      "{'id_var': 869, 'opc_type': 'Variable', 'opc_data': 'Numerico', 'var': '0', 'id_robot': 380, 'name_var': 'var_case'}\n",
      "{'contenido': '¿Cuál es tu correo?', 'opciones': 'email,otro', 'next_id': 'prueba_dos,prueba_qa', 'default_id': 'prueba_qa', 'namestate': 'pruebaCorreo_01inicial_inicial', 'typingtime': 3, 'id_robot': 380, 'id_var': 869, 'blocktype': 'quickReply'}\n",
      "intenatando consulta...\n",
      "consulta: select * from bloquequickreply where contenido= '¿Cuál es tu correo?' and opciones= 'email,otro' and next_id= 'prueba_dos,prueba_qa' and default_id= 'prueba_qa' and namestate= 'pruebaCorreo_01inicial_inicial' and typingtime= '3' and id_robot= '380' and id_var= '869' and blocktype= 'quickReply' ;\n",
      "{'namestate': 'pruebaCorreo_01inicial_inicial', 'contenido': '¿Cuál es tu correo?', 'opciones': 'email,otro', 'next_id': 'prueba_dos,prueba_qa', 'blocktype': 'quickReply', 'typingtime': '3', 'default_id': 'prueba_qa', 'id_var': '869', 'id_block': 357, 'id_robot': 380, 'opc_nextid': None, 'pos_y': None, 'pos_x': None, 'tag_active': None}\n"
     ]
    }
   ],
   "source": [
    "if __name__ == \"__main__\":    \n",
    "    app.run(host='localhost',port='8181')"
   ]
  },
  {
   "cell_type": "code",
   "execution_count": null,
   "metadata": {},
   "outputs": [],
   "source": []
  },
  {
   "cell_type": "code",
   "execution_count": null,
   "metadata": {},
   "outputs": [],
   "source": []
  }
 ],
 "metadata": {
  "kernelspec": {
   "display_name": "Python 3",
   "language": "python",
   "name": "python3"
  },
  "language_info": {
   "codemirror_mode": {
    "name": "ipython",
    "version": 3
   },
   "file_extension": ".py",
   "mimetype": "text/x-python",
   "name": "python",
   "nbconvert_exporter": "python",
   "pygments_lexer": "ipython3",
   "version": "3.9.2"
  }
 },
 "nbformat": 4,
 "nbformat_minor": 4
}
