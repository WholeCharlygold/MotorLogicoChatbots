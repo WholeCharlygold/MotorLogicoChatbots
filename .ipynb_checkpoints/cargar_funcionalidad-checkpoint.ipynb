{
 "cells": [
  {
   "cell_type": "code",
   "execution_count": 1,
   "metadata": {},
   "outputs": [
    {
     "data": {
      "text/html": [
       "<style>.container { width:100% !important; }</style>"
      ],
      "text/plain": [
       "<IPython.core.display.HTML object>"
      ]
     },
     "metadata": {},
     "output_type": "display_data"
    }
   ],
   "source": [
    "import json\n",
    "import os\n",
    "import sys \n",
    "import copy\n",
    "from IPython.core.display import display, HTML\n",
    "display(HTML(\"<style>.container { width:100% !important; }</style>\"))\n",
    "from manejo_base_de_datos import baseDatos\n",
    "from manejo_archivos_json import dataJson\n",
    "manejadorBaseDeDatos=baseDatos(\"postgres\",\"123456789\",\"127.0.0.1\",\"5432\",\"chatblocks\")#manejador de consultas a base de datos \n",
    "manejadorArchivos = dataJson(os.getcwd()+\"/\") "
   ]
  },
  {
   "cell_type": "code",
   "execution_count": 2,
   "metadata": {},
   "outputs": [],
   "source": [
    "def AgregarBloque(definition,Rux,Rprogramacion):\n",
    "    #función para agregregar funcionalidades al bot\n",
    "    \"\"\"\n",
    "    PARAMETROS: \n",
    "    definition: Diccionario que contiene nombre y tipo de la funcionalidad, por ejemplo: {\"name\":\"contador|1234-dfsg\", \"type\":\"contador\"}\n",
    "    Rux: Diccionario que contiene las reglas de funcionalidades\n",
    "    Rprogramacion: Diccionario que contiene las reglas de componentes\n",
    "    \n",
    "    REGRESA:\n",
    "    JsonEjemplo: diccionario que contiene las salidas,requerimientos y bloques de una funcionalidad    \n",
    "    \n",
    "    DESCRIPCION:\n",
    "    Se encarga de agregar una funcionalidad, estrayendo sus requerimieentos y bloques guardadolo en un json que servira como una base de datos para guardar los parametros\n",
    "    del bot\n",
    "    \"\"\"\n",
    "    jsonRequerimientos = {}\n",
    "    names = definition[\"name\"]\n",
    "    functionality =definition[\"type\"]   \n",
    "    print(\"Agregando funcionalidad names: \",names,\" del tipo: \",functionality)\n",
    "    if functionality in Rux.keys():        \n",
    "        outputsNec=dict() #diccionario de salidas para definir\n",
    "        requerimientosNec=dict()#diccionario de requerimientos       \n",
    "        blocksNec=dict() #diccionario de bloques necesarios\n",
    "        funtype={\"type\":functionality}\n",
    "        funcionalidad = Rux[functionality]\n",
    "        #Extraemos los componentes de las reglas de funcionalidad\n",
    "        componentes = funcionalidad[\"components\"]\n",
    "        requerimientosFuncionalidad=dict()\n",
    "        salidasFuncionalidad = dict()\n",
    "        bloquesFuncionalidad = dict ()\n",
    "        \n",
    "        for component in componentes: \n",
    "            for componente, datosComponente in component.items():                \n",
    "                #Revisa si el tipo de componente esta en las regras de programación\n",
    "                if datosComponente[\"type\"] in Rprogramacion.keys():\n",
    "                    salidasDefinidas = dict()\n",
    "                    salidasNoDefinidas = dict()\n",
    "                    #separacion de salidas en definidas y no definidas...\n",
    "                    for salida,conexion in datosComponente[\"outputs\"].items():\n",
    "                        if conexion == \"userDefinded\":\n",
    "                            #salida auxiliar para cargar datos de llenado y nombre de la salida\n",
    "                            salidaAuxiliar = copy.deepcopy(Rprogramacion[datosComponente[\"type\"]][\"outputs\"][salida])\n",
    "                            try:\n",
    "                                salidaAuxiliar.update({\"name\":funcionalidad[\"outputs\"][componente][salida][\"name\"]})\n",
    "                            except:\n",
    "                                print(\"el nombre de la salida\",salida, \"no ha sido captura en JSON de funcionalidades\", names)\n",
    "                            salidasNoDefinidas.update({salida:salidaAuxiliar})\n",
    "                        else:\n",
    "                            salidasDefinidas.update({salida:conexion})\n",
    "                            \n",
    "                    #estrae la informacion de llenado para los requerimientos de la funcionalidad \n",
    "                    requerimientosNecesarios = dict () #diccionario para almacenar los requerimiento del sistema\n",
    "                    \n",
    "                    for requerimiento,valorRequerimiento in datosComponente[\"explanation\"].items():\n",
    "                        requerimientoAuxiliar = dict()#requerimientoAuxiliar sirve para combinar los datos de explanation en json funcionalidades y los datos de llenado de json componentes\n",
    "                        try:                            \n",
    "                            requerimientoAuxiliar = copy.deepcopy(Rprogramacion[datosComponente[\"type\"]][\"requirements\"][requerimiento]) \n",
    "                        except:\n",
    "                            print(\"Requerimiento\",requerimiento,\"de la funcionalidad\",names,\"no existe en componentes\")                        \n",
    "                        requerimientoAuxiliar.update(valorRequerimiento)\n",
    "                        requerimientoAuxiliar.update({\"value\":\"\"})\n",
    "                        requerimientosNecesarios.update({requerimiento:requerimientoAuxiliar})\n",
    "                        \n",
    "                parametros = datosComponente[\"parameters\"] #extraemos los datos que han sido fijados en la funcionalidad (parametros)\n",
    "                bloques = copy.deepcopy(Rprogramacion[datosComponente[\"type\"]][\"blocks\"])#extraemos los bloques del componente en el JSON de componentes\n",
    "                \n",
    "                for bloque,datosBloque in bloques.items():   \n",
    "                    parametrosBloque = datosBloque[\"parameters\"]                                      \n",
    "                    for parametro,valorParametro in parametrosBloque.items():\n",
    "                        if valorParametro[0] == \"@\":\n",
    "                            try:\n",
    "                                parametrosBloque[parametro] = parametros[valorParametro[1:]] #si el valor se encuentra en los parametros del componete lo sustituimos \n",
    "                                #print(\"datos\",bloques[bloque][parametro])\n",
    "                            except:\n",
    "                                if valorParametro[1:] in requerimientosNecesarios.keys():\n",
    "                                    pass\n",
    "                                else:\n",
    "                                    print(\"se necesita el dato\",valorParametro[1:],\"del componente\",componente,\"de la funcionalidad\",names)                                    \n",
    "                        elif type(valorParametro) == list: #verifica que la salida es una lista para recorrerla\n",
    "                            for x in range(len(valorParametro)):\n",
    "                                if type(valorParametro[x]) == dict: #si los valores de la lista son un diccionartio lo recorremos para sustituir datos                                    \n",
    "                                    for llave,valor in valorParametro[x]:\n",
    "                                        if valor[0]==\"@\":\n",
    "                                            try:\n",
    "                                                parametrosBloque[valorParametro][x][llave] = parametros[valor[1:]] #si el valor se encuentra en salidas del componete lo sustituimos                                     \n",
    "                                            except:\n",
    "                                                if valor[1:] in requerimientosNecesarios.keys():\n",
    "                                                    pass\n",
    "                                                else:\n",
    "                                                    print(\"se necesita el dato\",valor[1:],\"del componete\",componente,\"de la funcionalidad\",names)\n",
    "                                    else:\n",
    "                                        if valorParametro[x][0] == \"@\":\n",
    "                                            try:\n",
    "                                                parametrosBloque[conexion][x] = parametros[[valorParametro][x][1:]] #si el valor se encuentra en los parametros del componete lo sustituimos                                     \n",
    "                                            except:\n",
    "                                                if valorParametro[x][1:] in salidasNoDefinidas.keys():\n",
    "                                                    pass\n",
    "                                                else:\n",
    "                                                    print(\"se necesita el dato\",valorParametro[x][1:],\"del componete\",componente,\"de la funcionalidad\",names)\n",
    "                    #sustitucion de las salidas de los componentes\n",
    "                    \n",
    "                    salidasBloque = datosBloque[\"outputs\"]    \n",
    "                    \n",
    "                    for salida,conexion in salidasBloque.items():\n",
    "                        if conexion in salidasBloque.items():\n",
    "                            salidasBloque[salida] = names+\"_\"+componente+\"_\"+conexion\n",
    "                        if conexion[0] == \"@\":                           \n",
    "                            try:\n",
    "                                salidasBloque[salida] =names+\"_\"+salidasDefinidas[conexion[1:]]+\"_inicial\" #si el valor se encuentra en las del componete lo sustituimos                                 \n",
    "                            except:\n",
    "                                if conexion[1:] in salidasNoDefinidas.keys():\n",
    "                                    pass\n",
    "                                else:\n",
    "                                    print(\"se necesita la salida\",conexion[1:],\"del componente\",componente,\"de la funcionalidad\",names)\n",
    "                                    \n",
    "                        if type(conexion) == list: #verifica que la salida es una lista para recorrerla\n",
    "                            for x in range(len(conexion)):\n",
    "                                if type(conexion[x]) == dict: #si los valores de la lista son un diccionartio lo recorremos para sustituir datos                                   \n",
    "                                    if salidasBloque[salida][x][\"target\"][0]==\"@\":\n",
    "                                        try:\n",
    "                                            salidasBloque[salida][x][\"target\"] = names+\"_\"+salidasDefinidas[valor[1:]]+\"_inicial\" #si el valor se encuentra en salidas del componete lo sustituimos                                     \n",
    "                                        except:\n",
    "                                            if salidasBloque[salida][x][\"target\"][1:] in salidasNoDefinidas.keys():\n",
    "                                                pass\n",
    "                                            else:\n",
    "                                                print(\"se necesita la salida\",salidasBloque[salida][x][\"target\"][1:],\"del componente\",componente,\"de la funcionalidad\",names)\n",
    "                                else:\n",
    "                                    if conexion[x][0] == \"@\":\n",
    "                                        try:\n",
    "                                            salidasBloque[salida][x] = names+\"_\"+salidasDefinidas[valor[1:]]+\"_inicial\" #si el valor se encuentra en los parametros del componete lo sustituimos                                     \n",
    "                                        except:\n",
    "                                            if valor[1:] in salidasNoDefinidas.keys():\n",
    "                                                pass\n",
    "                                            else:\n",
    "                                                print(\"se necesita la salida\",conexion[x][1:],\"del componente\",componente,\"de la funcionalidad\",names)                        \n",
    "\n",
    "                if requerimientosNecesarios:\n",
    "                    requerimientosFuncionalidad.update({componente:requerimientosNecesarios})\n",
    "                if salidasNoDefinidas:\n",
    "                    for s in salidasNoDefinidas.keys():\n",
    "                        \n",
    "                        salidasNoDefinidas[s].update({\"value\":\"\"})\n",
    "                    salidasFuncionalidad.update({componente:salidasNoDefinidas})\n",
    "                bloquesFuncionalidad.update({componente:bloques})\n",
    "                #print(\"bloquees\",bloquesFuncionalidad,\"componente\",componente)\n",
    "        #update del bot \n",
    "        base = dict()\n",
    "        base.update(funtype)\n",
    "        base.update({\"requerimientos\":requerimientosFuncionalidad})\n",
    "        base.update({\"outputs\":salidasFuncionalidad})\n",
    "        base.update({\"blocks\":bloquesFuncionalidad})\n",
    "        jsonRequerimientos.update({names:base})\n",
    "        return jsonRequerimientos       \n",
    "    else:\n",
    "        print(\"funcionalidad \"+ functionality+ \" no definida\")     "
   ]
  },
  {
   "cell_type": "code",
   "execution_count": 3,
   "metadata": {},
   "outputs": [],
   "source": [
    "#DBjson = AgregarBloque({\"name\":\"ejemplo2\", \"type\":\"listMessages\"},manejadorArchivos.abrirJson(\"funcionalidades.json\"),manejadorArchivos.abrirJson(\"componentes.json\"))\n",
    "#manejadorArchivos.jsonUnico(\"requerimientosFuncionalidad2.json\", DBjson) "
   ]
  },
  {
   "cell_type": "code",
   "execution_count": 4,
   "metadata": {},
   "outputs": [],
   "source": [
    "#DBjson=AgregarBloque({\"name\":\"pruebaMenu\", \"type\":\"menuFijo\"},manejadorArchivos.abrirJson(\"funcionalidades.json\"),manejadorArchivos.abrirJson(\"componentes.json\"))\n",
    "#manejadorArchivos.jsonUnico(\"requerimientosFuncionalidad2.json\", DBjson) #genera json para que sea posible llenar datos desde interfaz grafica"
   ]
  },
  {
   "cell_type": "code",
   "execution_count": 5,
   "metadata": {},
   "outputs": [],
   "source": [
    "#DBjson=AgregarBloque({\"name\":\"pruebaValidacionUsuario\", \"type\":\"userValidation\"},manejadorArchivos.abrirJson(\"funcionalidades.json\"),manejadorArchivos.abrirJson(\"componentes.json\"))\n",
    "#manejadorArchivos.jsonUnico(\"requerimientosFuncionalidad2.json\", DBjson) #genera json para que sea posible llenar datos desde interfaz gráfica"
   ]
  },
  {
   "cell_type": "code",
   "execution_count": 6,
   "metadata": {},
   "outputs": [
    {
     "name": "stdout",
     "output_type": "stream",
     "text": [
      "\t\t***CATALOGO DE FUNCIONALIDADES***\n",
      "*contadorFijo: Contador que siempre te lleva a una misma opción\n",
      "*contadorDinamico: Contador donde la opción cambia de acuerdo al valor de la variable\n",
      "*messageRandom: Muestra un mensaje aleatorio, de una lista preestablecida\n",
      "*listMessages: muestra una lista de mensajes encadenados\n",
      "*optionMenuFijo: Menu con opciones fijas\n",
      "*userValidation: Validacion de usuario con QR de dos opciones\n",
      "*validacionFormatoCorreo: Validacion de correo con QR\n",
      "*validacionFormatoCorreo2: Validacion de correo con QR\n",
      "*informativo: Despliega un mensaje\n",
      "*validacionFormato: Validacion de formato con contador\n",
      "*input: Captura de información\n",
      "*nlp: Procesamiento de lenguaje natural\n"
     ]
    }
   ],
   "source": [
    "print(\"\\t\\t***CATALOGO DE FUNCIONALIDADES***\")\n",
    "funcionalidades = manejadorArchivos.abrirJson(\"funcionalidades.json\")\n",
    "for i in funcionalidades.keys():\n",
    "    print(\"*\"+i+\":\",funcionalidades[i][\"description\"])"
   ]
  },
  {
   "cell_type": "code",
   "execution_count": 7,
   "metadata": {},
   "outputs": [],
   "source": [
    "funcionalidades=[{\"name\":\"pruebaCorreo\", \"type\":\"validacionFormatoCorreo2\"}]"
   ]
  },
  {
   "cell_type": "code",
   "execution_count": 8,
   "metadata": {},
   "outputs": [
    {
     "name": "stdout",
     "output_type": "stream",
     "text": [
      "Agregando funcionalidad names:  pruebaCorreo  del tipo:  validacionFormatoCorreo2\n",
      "se necesita el dato jsonMenu del componente 01inicial de la funcionalidad pruebaCorreo\n",
      "el nombre de la salida next no ha sido captura en JSON de funcionalidades pruebaCorreo\n",
      "se necesita el dato jsonMenu del componente qrValidaSiNo de la funcionalidad pruebaCorreo\n",
      "\n",
      "\n",
      " Archivo json 'requerimientosBotCorreo' listo para llenar requerimientos\n",
      "\n"
     ]
    }
   ],
   "source": [
    "for i in funcionalidades:\n",
    "    DBjson=AgregarBloque(i,manejadorArchivos.abrirJson(\"funcionalidades.json\"),manejadorArchivos.abrirJson(\"componentes.json\"))\n",
    "    manejadorArchivos.jsonUnico(\"requerimientosBotCorreo.json\", DBjson) #genera json para que sea posible llenar datos desde interfaz gráfica\n",
    "    print()\n",
    "print(\"\\n Archivo json 'requerimientosBotCorreo' listo para llenar requerimientos\\n\")"
   ]
  },
  {
   "cell_type": "code",
   "execution_count": null,
   "metadata": {},
   "outputs": [],
   "source": []
  }
 ],
 "metadata": {
  "kernelspec": {
   "display_name": "Python 3",
   "language": "python",
   "name": "python3"
  },
  "language_info": {
   "codemirror_mode": {
    "name": "ipython",
    "version": 3
   },
   "file_extension": ".py",
   "mimetype": "text/x-python",
   "name": "python",
   "nbconvert_exporter": "python",
   "pygments_lexer": "ipython3",
   "version": "3.7.4"
  }
 },
 "nbformat": 4,
 "nbformat_minor": 2
}
