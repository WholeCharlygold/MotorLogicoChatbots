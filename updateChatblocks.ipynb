{
 "cells": [
  {
   "cell_type": "code",
   "execution_count": 1,
   "metadata": {},
   "outputs": [
    {
     "data": {
      "text/html": [
       "<style>.container { width:100% !important; }</style>"
      ],
      "text/plain": [
       "<IPython.core.display.HTML object>"
      ]
     },
     "metadata": {},
     "output_type": "display_data"
    }
   ],
   "source": [
    "import os\n",
    "import sys \n",
    "from flask import Flask\n",
    "from flask import request\n",
    "from flask_api import status\n",
    "import psycopg2\n",
    "import json\n",
    "import copy\n",
    "from IPython.core.display import display, HTML\n",
    "\n",
    "display(HTML(\"<style>.container { width:100% !important; }</style>\"))\n",
    "datosBaseDeDatos = {\"usuario\":\"postgres\",\"password\":\"carlos98\",\"Host\":\"127.0.0.1\",\"puerto\":\"5432\",\"DB\":\"chatblocks\"}"
   ]
  },
  {
   "cell_type": "code",
   "execution_count": 2,
   "metadata": {},
   "outputs": [],
   "source": [
    "def abrirJson(name,path=os.getcwd()+\"/\" ):\n",
    "    with open(path+name,encoding='utf-8') as data_file:  \n",
    "        diccionario = json.load(data_file)\n",
    "    return diccionario"
   ]
  },
  {
   "cell_type": "code",
   "execution_count": 3,
   "metadata": {},
   "outputs": [],
   "source": [
    "def conexionBaseDeDatos(datosConexion):\n",
    "    try:\n",
    "        connection = psycopg2.connect(user = datosConexion[\"usuario\"],\n",
    "                              password = datosConexion[\"password\"],\n",
    "                              host = datosConexion[\"Host\"],\n",
    "                              port = datosConexion[\"puerto\"],\n",
    "                              database = datosConexion[\"DB\"])    \n",
    "        return connection\n",
    "    except(Exception, psycopg2.Error) as error:\n",
    "        print(\"Error al conectar con base de datos\", error)"
   ]
  },
  {
   "cell_type": "code",
   "execution_count": 4,
   "metadata": {},
   "outputs": [],
   "source": [
    "def consultar(connection,datos=False,consulta=False,tabla=False):\n",
    "    #print(\"datos\",datos)\n",
    "    consultaBots = list()\n",
    "    column_names = []\n",
    "    data_rows = []\n",
    "    diccionarioDatos = dict()\n",
    "    consultas = list()\n",
    "    cursor = connection.cursor()  \n",
    "    cosulta =\"\"    \n",
    "    if datos:\n",
    "        print(\"intenatando consulta...\")\n",
    "        if tabla == 'robots':\n",
    "            consulta = \"select * from robots where id_face = '\"+datos[\"id_face\"]+\"';\"\n",
    "        else:\n",
    "            consulta = \"select * from \"+tabla+\" where \"        \n",
    "            i=0\n",
    "            for dato, valorDato in datos.items():\n",
    "                if i==0:\n",
    "                    consulta = consulta+dato+\"= '\"+str(valorDato)+\"'\"                \n",
    "                else:             \n",
    "                    consulta = consulta+\" and \"+dato+\"= '\"+str(valorDato)+\"'\" \n",
    "                i=i+1\n",
    "            #print(dato,\":\",valorDato)\n",
    "            consulta= consulta + \" ;\" \n",
    "            #print(consulta)        \n",
    "            #consulta = \"select * from robots where name_robot = '\"+datosBot[\"name_robot\"]+\"' and id_face = '\"+ datosBot[\"id_face\"]+\"' and  type_blocki = '\"+datosBot[\"type_blocki\"]+\"' and access_token= '\"+datosBot[\"access_token\"]+\"' and id_user = '\"+datosBot[\"id_user\"]+\"';\"\n",
    "    print(\"consulta:\",consulta)\n",
    "    cursor.execute(consulta)    \n",
    "    column_names = [desc[0] for desc in cursor.description]  \n",
    "    rows = cursor.fetchall()\n",
    "    for row in rows:\n",
    "        diccionarioDatos = dict()\n",
    "        for i in range(len(column_names)):\n",
    "            diccionarioDatos.update({column_names[i]:row[i]})\n",
    "        consultaBots.append(diccionarioDatos)\n",
    "    cursor.close()\n",
    "    connection.close()  \n",
    "    \n",
    "    if len(consultaBots)==1:\n",
    "        return consultaBots[0]\n",
    "    elif len(consultaBots)==0:\n",
    "        print('La consulta no trajo nada')\n",
    "        return {\"error\": \"true\"}\n",
    "    else:\n",
    "        return consultaBots"
   ]
  },
  {
   "cell_type": "code",
   "execution_count": 5,
   "metadata": {},
   "outputs": [],
   "source": [
    "def insert(datos,tabla,connection):\n",
    "    cursor = connection.cursor()\n",
    "    values = \"\"\n",
    "    datosInsert = \"\"\n",
    "    i = 0;\n",
    "    for dato, valorDato in datos.items():\n",
    "        if i==0:\n",
    "            values = values+dato \n",
    "            datosInsert = datosInsert+\"'\"+str(valorDato)+\"' \"                \n",
    "        else:\n",
    "            values = values+\",\"+dato\n",
    "            datosInsert =datosInsert+\",'\"+str(valorDato)+\"' \"\n",
    "        i=i+1\n",
    "    insersion  = \"insert into \"+tabla+\" ( \"+values+\" ) values (\"+datosInsert+\" );\" \n",
    "    cursor.execute(insersion)\n",
    "    connection.commit()\n",
    "    cursor.close()\n",
    "    connection.close()\n",
    "    return datos"
   ]
  },
  {
   "cell_type": "code",
   "execution_count": 6,
   "metadata": {},
   "outputs": [],
   "source": [
    "def update(datosActualizar,datos,tabla,connection):\n",
    "    actualizar =\" \"\n",
    "    actualizar = \"update \"+tabla+\" set\"\n",
    "    j = 0\n",
    "    for dato,informacionDato in datosActualizar.items():\n",
    "        print(dato)\n",
    "        if j==0:\n",
    "            actualizar=actualizar+\" \"+dato+\"=\"+str(informacionDato)\n",
    "            j=j+1\n",
    "        else:\n",
    "             actualizar=actualizar+\", \"+dato+\"=\"+str(informacionDato)\n",
    "    \n",
    "    i=0\n",
    "    actualizar=actualizar+\" where \"\n",
    "    for dato, valorDato in datos.items():\n",
    "        if i==0:\n",
    "            actualizar = actualizar+dato+\"= '\"+str(valorDato)+\"'\"                \n",
    "        else:             \n",
    "            actualizar = actualizar+\" and \"+dato+\"= '\"+str(valorDato)+\"'\" \n",
    "        i=i+1\n",
    "    actualizar= actualizar + \" ;\"  "
   ]
  },
  {
   "cell_type": "code",
   "execution_count": 7,
   "metadata": {},
   "outputs": [],
   "source": [
    "app = Flask(__name__)\n",
    "@app.route('/access_token', methods = ['POST'])\n",
    "def postAccessToken():\n",
    "    try:         \n",
    "        connection = conexionBaseDeDatos(datosBaseDeDatos)        \n",
    "        datosVariable = request.get_json()   \n",
    "        tabla = \"robots\"\n",
    "        con = consultaBots(connection,datos=datosVariable,tabla=tabla)        \n",
    "        listaAcessToken=list()\n",
    "        if type(con)==list:\n",
    "            for i in range(len(con)):\n",
    "                print(con[i])\n",
    "                listaAcessToken.append(con[i][\"access_token\"])\n",
    "        else:\n",
    "            listaAcessToken.append(con[\"access_token\"])         \n",
    "        print(listaAcessToken)\n",
    "        return {\"access_token\":listaAcessToken}\n",
    "    except:\n",
    "        return datosVariable,status.HTTP_404_NOT_FOUND\n"
   ]
  },
  {
   "cell_type": "code",
   "execution_count": 8,
   "metadata": {},
   "outputs": [],
   "source": [
    "@app.route('/insert/<tabla>',methods=['POST'])\n",
    "def funcionalidad(tabla):\n",
    "    try:\n",
    "        connection = conexionBaseDeDatos(datosBaseDeDatos)\n",
    "        datos = request.get_json()\n",
    "        print(\"Datos recibidos INSERT:\")\n",
    "        print(datos)\n",
    "        insert(datos,str(tabla),connection)\n",
    "        connection = conexionBaseDeDatos(datosBaseDeDatos)\n",
    "        consulta = consultar(connection,datos=datos,tabla=str(tabla))\n",
    "        print(\"Datos enviados INSERT:\")\n",
    "        print (consulta)\n",
    "        return json.dumps(consulta)\n",
    "    except (Exception, psycopg2.Error) as error :\n",
    "        print(\"error\",error)\n",
    "        return tabla,status.HTTP_404_NOT_FOUND"
   ]
  },
  {
   "cell_type": "code",
   "execution_count": 9,
   "metadata": {},
   "outputs": [],
   "source": [
    "@app.route('/select/<tabla>',methods=['GET'])\n",
    "def select(tabla):\n",
    "    try:\n",
    "        connection = conexionBaseDeDatos(datosBaseDeDatos)\n",
    "        datos = request.get_json()\n",
    "        print(\"Datos recibidos SELECT:\")\n",
    "        print(datos)\n",
    "        \n",
    "        consulta = consultar(connection,datos=datos,tabla=str(tabla))\n",
    "        print(\"Datos enviados SELECT:\")\n",
    "        print (consulta)\n",
    "        return json.dumps(consulta)\n",
    "    except (Exception, psycopg2.Error) as error :\n",
    "        print(\"error\",error)\n",
    "        return tabla,status.HTTP_404_NOT_FOUND"
   ]
  },
  {
   "cell_type": "code",
   "execution_count": null,
   "metadata": {},
   "outputs": [
    {
     "name": "stdout",
     "output_type": "stream",
     "text": [
      " * Serving Flask app \"__main__\" (lazy loading)\n",
      " * Environment: production\n",
      "   WARNING: This is a development server. Do not use it in a production deployment.\n",
      "   Use a production WSGI server instead.\n",
      " * Debug mode: off\n"
     ]
    },
    {
     "name": "stderr",
     "output_type": "stream",
     "text": [
      " * Running on http://localhost:8181/ (Press CTRL+C to quit)\n",
      "127.0.0.1 - - [14/Jun/2021 23:50:34] \"\u001b[37mGET /select/robots HTTP/1.1\u001b[0m\" 200 -\n",
      "127.0.0.1 - - [14/Jun/2021 23:50:34] \"\u001b[37mGET /select/bloqueslide HTTP/1.1\u001b[0m\" 200 -\n",
      "127.0.0.1 - - [14/Jun/2021 23:50:34] \"\u001b[37mGET /select/elementos HTTP/1.1\u001b[0m\" 200 -\n",
      "127.0.0.1 - - [14/Jun/2021 23:50:34] \"\u001b[37mGET /select/elementos HTTP/1.1\u001b[0m\" 200 -\n"
     ]
    },
    {
     "name": "stdout",
     "output_type": "stream",
     "text": [
      "Datos recibidos SELECT:\n",
      "{'name_robot': 'Chatbot TT 2021', 'id_face': '110373671266869', 'block_ini': 'Informativo | a0be25bb-4eb4-49c2-830f-6eb23d64966c | ZG7udwy8rzhE5xtUnOGl', 'type_blocki': 'informativo', 'access_token': 'EAALZCCZBzPwfkBAAtF3N1x3GCvg9UuN7alfdTNGmZC5d96EY7vYBM6hQQedeMtNTZAWxFVFBmRXfT2lp3m970ZCDZBhelEyxvK6PN9gHzEXZBbdxvqXqETQzUffJynrycHPnBBR5GtxJl2ulvP0uXrP0fTyoEmQ5GchMN0ckdunXK6MEd1Q40Cb', 'id_user': 'charlygoldcruz@gmail.com', 'api_nlp': 'http://localhost:8282/'}\n",
      "intenatando consulta...\n",
      "consulta: select * from robots where id_face = '110373671266869';\n",
      "Datos enviados SELECT:\n",
      "{'name_robot': 'Chatbot TT 2021', 'id_face': '110373671266869', 'block_ini': 'Informativo | a0be25bb-4eb4-49c2-830f-6eb23d64966c | ZG7udwy8rzhE5xtUnOGl', 'type_blocki': 'informativo', 'access_token': 'EAALZCCZBzPwfkBAAtF3N1x3GCvg9UuN7alfdTNGmZC5d96EY7vYBM6hQQedeMtNTZAWxFVFBmRXfT2lp3m970ZCDZBhelEyxvK6PN9gHzEXZBbdxvqXqETQzUffJynrycHPnBBR5GtxJl2ulvP0uXrP0fTyoEmQ5GchMN0ckdunXK6MEd1Q40Cb', 'api_nlp': 'http://localhost:8282/', 'id_robot': 538, 'id_user': 'charlygoldcruz@gmail.com'}\n",
      "Datos recibidos SELECT:\n",
      "{'id_robot': '538'}\n",
      "intenatando consulta...\n",
      "consulta: select * from bloqueslide where id_robot= '538' ;\n",
      "Datos enviados SELECT:\n",
      "[{'namestate': 'Carrusel | 5aaf3158-308e-4b01-9283-f01f32d587c9 | 96628859-0899-7537-4503-489244348545 | ZG7udwy8rzhE5xtUnOGl', 'next_id': 'QuickReply | 9cd75eb1-5f87-4a23-84aa-d6de05ed56b8 | 96628859-0899-7537-4503-489244348545 | ZG7udwy8rzhE5xtUnOGl,QuickReply | f962f2fb-1047-4062-bac8-798fddc79ff2 | 96628859-0899-7537-4503-489244348545 | ZG7udwy8rzhE5xtUnOGl', 'blocktype': 'slide', 'typingtime': '1', 'default_id': 'Carrusel | 5aaf3158-308e-4b01-9283-f01f32d587c9 | 96628859-0899-7537-4503-489244348545 | ZG7udwy8rzhE5xtUnOGl', 'id_var': '1810', 'id_block': 536, 'id_robot': 538, 'opc_nextid': None, 'pos_y': None, 'pos_x': None, 'opc_elm': None, 'tag_active': None}, {'namestate': 'Carrusel | cce128da-fc3c-4ab8-8733-0f93dff9b0ca | 55686726-3982-4003-0323-821800355990 | ZG7udwy8rzhE5xtUnOGl', 'next_id': 'Informativo | 72991cca-745b-4886-8ac4-c92d730c134a | ZG7udwy8rzhE5xtUnOGl,facebook.com', 'blocktype': 'slide', 'typingtime': '1', 'default_id': 'Carrusel | cce128da-fc3c-4ab8-8733-0f93dff9b0ca | 55686726-3982-4003-0323-821800355990 | ZG7udwy8rzhE5xtUnOGl', 'id_var': '1814', 'id_block': 537, 'id_robot': 538, 'opc_nextid': None, 'pos_y': None, 'pos_x': None, 'opc_elm': None, 'tag_active': None}]\n",
      "Datos recibidos SELECT:\n",
      "{'id_block': 536}\n",
      "intenatando consulta...\n",
      "consulta: select * from elementos where id_block= '536' ;\n",
      "Datos enviados SELECT:\n",
      "{'blocktype': 'slide', 'title': 'Titulo 1', 'image_url': 'https://sitechecker.pro/wp-content/uploads/2017/12/URL-meaning.png', 'subtitle': 'Subtitulo 1', 'id_block': 536, 'id_elements': 927}\n",
      "Datos recibidos SELECT:\n",
      "{'id_block': 537}\n",
      "intenatando consulta...\n",
      "consulta: select * from elementos where id_block= '537' ;\n",
      "Datos enviados SELECT:\n",
      "{'blocktype': 'slide', 'title': 'Titulo 1', 'image_url': 'https://jalisco.quadratin.com.mx/www/wp-content/uploads/2020/11/grupo-firme-1-1160x700.jpg', 'subtitle': 'Subtitulo 1', 'id_block': 537, 'id_elements': 928}\n"
     ]
    },
    {
     "name": "stderr",
     "output_type": "stream",
     "text": [
      "127.0.0.1 - - [14/Jun/2021 23:50:34] \"\u001b[37mPOST /insert/variables HTTP/1.1\u001b[0m\" 200 -\n",
      "127.0.0.1 - - [14/Jun/2021 23:50:34] \"\u001b[37mPOST /insert/bloqueslide HTTP/1.1\u001b[0m\" 200 -\n"
     ]
    },
    {
     "name": "stdout",
     "output_type": "stream",
     "text": [
      "Datos recibidos INSERT:\n",
      "{'name_var': 'variableCarrCarrusel_|_5aaf3158-308e-4b01-9283-f01f32d587c94237', 'opc_type': 'Variable', 'var': 0, 'opc_data': 'String', 'id_robot': 538}\n",
      "intenatando consulta...\n",
      "consulta: select * from variables where name_var= 'variableCarrCarrusel_|_5aaf3158-308e-4b01-9283-f01f32d587c94237' and opc_type= 'Variable' and var= '0' and opc_data= 'String' and id_robot= '538' ;\n",
      "Datos enviados INSERT:\n",
      "{'id_var': 1816, 'opc_type': 'Variable', 'opc_data': 'String', 'var': '0', 'id_robot': 538, 'name_var': 'variableCarrCarrusel_|_5aaf3158-308e-4b01-9283-f01f32d587c94237'}\n",
      "Datos recibidos INSERT:\n",
      "{'namestate': 'Carrusel | 5aaf3158-308e-4b01-9283-f01f32d587c9 | 96628859-0899-7537-4503-489244348545 | ZG7udwy8rzhE5xtUnOGl', 'blocktype': 'slide', 'typingtime': '1', 'default_id': 'Carrusel | 5aaf3158-308e-4b01-9283-f01f32d587c9 | 96628859-0899-7537-4503-489244348545 | ZG7udwy8rzhE5xtUnOGl', 'id_var': 1816, 'id_robot': 538}\n",
      "intenatando consulta...\n",
      "consulta: select * from bloqueslide where namestate= 'Carrusel | 5aaf3158-308e-4b01-9283-f01f32d587c9 | 96628859-0899-7537-4503-489244348545 | ZG7udwy8rzhE5xtUnOGl' and blocktype= 'slide' and typingtime= '1' and default_id= 'Carrusel | 5aaf3158-308e-4b01-9283-f01f32d587c9 | 96628859-0899-7537-4503-489244348545 | ZG7udwy8rzhE5xtUnOGl' and id_var= '1816' and id_robot= '538' ;\n",
      "Datos enviados INSERT:\n",
      "{'namestate': 'Carrusel | 5aaf3158-308e-4b01-9283-f01f32d587c9 | 96628859-0899-7537-4503-489244348545 | ZG7udwy8rzhE5xtUnOGl', 'next_id': None, 'blocktype': 'slide', 'typingtime': '1', 'default_id': 'Carrusel | 5aaf3158-308e-4b01-9283-f01f32d587c9 | 96628859-0899-7537-4503-489244348545 | ZG7udwy8rzhE5xtUnOGl', 'id_var': '1816', 'id_block': 538, 'id_robot': 538, 'opc_nextid': None, 'pos_y': None, 'pos_x': None, 'opc_elm': None, 'tag_active': None}\n",
      "Datos recibidos INSERT:\n",
      "{'image_url': 'https://sitechecker.pro/wp-content/uploads/2017/12/URL-meaning.png', 'title': 'Titulo 1', 'subtitle': 'Subtitulo 1', 'blocktype': 'slide', 'id_block': 538}\n",
      "intenatando consulta...\n",
      "consulta: select * from elementos where image_url= 'https://sitechecker.pro/wp-content/uploads/2017/12/URL-meaning.png' and title= 'Titulo 1' and subtitle= 'Subtitulo 1' and blocktype= 'slide' and id_block= '538' ;\n"
     ]
    },
    {
     "name": "stderr",
     "output_type": "stream",
     "text": [
      "127.0.0.1 - - [14/Jun/2021 23:50:34] \"\u001b[37mPOST /insert/elementos HTTP/1.1\u001b[0m\" 200 -\n",
      "127.0.0.1 - - [14/Jun/2021 23:50:34] \"\u001b[37mPOST /insert/botones HTTP/1.1\u001b[0m\" 200 -\n",
      "127.0.0.1 - - [14/Jun/2021 23:50:34] \"\u001b[37mPOST /insert/botones HTTP/1.1\u001b[0m\" 200 -\n"
     ]
    },
    {
     "name": "stdout",
     "output_type": "stream",
     "text": [
      "Datos enviados INSERT:\n",
      "{'blocktype': 'slide', 'title': 'Titulo 1', 'image_url': 'https://sitechecker.pro/wp-content/uploads/2017/12/URL-meaning.png', 'subtitle': 'Subtitulo 1', 'id_block': 538, 'id_elements': 929}\n",
      "Datos recibidos INSERT:\n",
      "{'id_elemento': '929', 'titlebutton': 'Opcion 1', 'typebutton': 'postback', 'contentbutton': 'QuickReply | 9cd75eb1-5f87-4a23-84aa-d6de05ed56b8 | 96628859-0899-7537-4503-489244348545 | ZG7udwy8rzhE5xtUnOGl', 'opc_nextid': 'QuickReply | 9cd75eb1-5f87-4a23-84aa-d6de05ed56b8 | 96628859-0899-7537-4503-489244348545 | ZG7udwy8rzhE5xtUnOGl'}\n",
      "intenatando consulta...\n",
      "consulta: select * from botones where id_elemento= '929' and titlebutton= 'Opcion 1' and typebutton= 'postback' and contentbutton= 'QuickReply | 9cd75eb1-5f87-4a23-84aa-d6de05ed56b8 | 96628859-0899-7537-4503-489244348545 | ZG7udwy8rzhE5xtUnOGl' and opc_nextid= 'QuickReply | 9cd75eb1-5f87-4a23-84aa-d6de05ed56b8 | 96628859-0899-7537-4503-489244348545 | ZG7udwy8rzhE5xtUnOGl' ;\n",
      "Datos enviados INSERT:\n",
      "{'id_elemento': '929', 'titlebutton': 'Opcion 1', 'typebutton': 'postback', 'contentbutton': 'QuickReply | 9cd75eb1-5f87-4a23-84aa-d6de05ed56b8 | 96628859-0899-7537-4503-489244348545 | ZG7udwy8rzhE5xtUnOGl', 'id_boton': 1662, 'opc_nextid': 'QuickReply | 9cd75eb1-5f87-4a23-84aa-d6de05ed56b8 | 96628859-0899-7537-4503-489244348545 | ZG7udwy8rzhE5xtUnOGl'}\n",
      "Datos recibidos INSERT:\n",
      "{'id_elemento': '929', 'titlebutton': 'Opcion 2', 'typebutton': 'postback', 'contentbutton': 'QuickReply | f962f2fb-1047-4062-bac8-798fddc79ff2 | 96628859-0899-7537-4503-489244348545 | ZG7udwy8rzhE5xtUnOGl', 'opc_nextid': 'QuickReply | f962f2fb-1047-4062-bac8-798fddc79ff2 | 96628859-0899-7537-4503-489244348545 | ZG7udwy8rzhE5xtUnOGl'}\n",
      "intenatando consulta...\n",
      "consulta: select * from botones where id_elemento= '929' and titlebutton= 'Opcion 2' and typebutton= 'postback' and contentbutton= 'QuickReply | f962f2fb-1047-4062-bac8-798fddc79ff2 | 96628859-0899-7537-4503-489244348545 | ZG7udwy8rzhE5xtUnOGl' and opc_nextid= 'QuickReply | f962f2fb-1047-4062-bac8-798fddc79ff2 | 96628859-0899-7537-4503-489244348545 | ZG7udwy8rzhE5xtUnOGl' ;\n",
      "Datos enviados INSERT:\n",
      "{'id_elemento': '929', 'titlebutton': 'Opcion 2', 'typebutton': 'postback', 'contentbutton': 'QuickReply | f962f2fb-1047-4062-bac8-798fddc79ff2 | 96628859-0899-7537-4503-489244348545 | ZG7udwy8rzhE5xtUnOGl', 'id_boton': 1663, 'opc_nextid': 'QuickReply | f962f2fb-1047-4062-bac8-798fddc79ff2 | 96628859-0899-7537-4503-489244348545 | ZG7udwy8rzhE5xtUnOGl'}\n"
     ]
    },
    {
     "name": "stderr",
     "output_type": "stream",
     "text": [
      "127.0.0.1 - - [14/Jun/2021 23:50:35] \"\u001b[37mPOST /insert/bloqueinformativo HTTP/1.1\u001b[0m\" 200 -\n",
      "127.0.0.1 - - [14/Jun/2021 23:50:35] \"\u001b[37mPOST /insert/variables HTTP/1.1\u001b[0m\" 200 -\n"
     ]
    },
    {
     "name": "stdout",
     "output_type": "stream",
     "text": [
      "Datos recibidos INSERT:\n",
      "{'next_id': 'Input | a24590e9-9dbf-4f55-890e-66b0b0685666 | 96628859-0899-7537-4503-489244348545 | ZG7udwy8rzhE5xtUnOGl', 'namestate': 'Informativo | 98a8f39d-6761-48e7-aca7-66279cfabf40 | 96628859-0899-7537-4503-489244348545 | ZG7udwy8rzhE5xtUnOGl', 'contenido': 'Este es un bloque informativo', 'contenttype': 'text', 'typingtime': '1', 'id_robot': 538, 'blocktype': 'informativo'}\n",
      "intenatando consulta...\n",
      "consulta: select * from bloqueinformativo where next_id= 'Input | a24590e9-9dbf-4f55-890e-66b0b0685666 | 96628859-0899-7537-4503-489244348545 | ZG7udwy8rzhE5xtUnOGl' and namestate= 'Informativo | 98a8f39d-6761-48e7-aca7-66279cfabf40 | 96628859-0899-7537-4503-489244348545 | ZG7udwy8rzhE5xtUnOGl' and contenido= 'Este es un bloque informativo' and contenttype= 'text' and typingtime= '1' and id_robot= '538' and blocktype= 'informativo' ;\n",
      "Datos enviados INSERT:\n",
      "{'namestate': 'Informativo | 98a8f39d-6761-48e7-aca7-66279cfabf40 | 96628859-0899-7537-4503-489244348545 | ZG7udwy8rzhE5xtUnOGl', 'contenido': 'Este es un bloque informativo', 'next_id': 'Input | a24590e9-9dbf-4f55-890e-66b0b0685666 | 96628859-0899-7537-4503-489244348545 | ZG7udwy8rzhE5xtUnOGl', 'blocktype': 'informativo', 'contenttype': 'text', 'typingtime': '1', 'id_block': 2790, 'id_robot': 538, 'opc_nextid': None, 'pos_y': None, 'pos_x': None, 'tag_active': None}\n",
      "Datos recibidos INSERT:\n",
      "{'name_var': 'variableInputInput_|_a24590e9-9dbf-4f55-890e-66b0b06856663183', 'opc_type': 'Variable', 'var': 0, 'opc_data': 'String', 'id_robot': 538}\n",
      "intenatando consulta...\n",
      "consulta: select * from variables where name_var= 'variableInputInput_|_a24590e9-9dbf-4f55-890e-66b0b06856663183' and opc_type= 'Variable' and var= '0' and opc_data= 'String' and id_robot= '538' ;\n",
      "Datos enviados INSERT:\n",
      "{'id_var': 1817, 'opc_type': 'Variable', 'opc_data': 'String', 'var': '0', 'id_robot': 538, 'name_var': 'variableInputInput_|_a24590e9-9dbf-4f55-890e-66b0b06856663183'}\n",
      "Datos recibidos INSERT:\n",
      "{'next_id': 'Carrusel | 5aaf3158-308e-4b01-9283-f01f32d587c9 | 96628859-0899-7537-4503-489244348545 | ZG7udwy8rzhE5xtUnOGl', 'default_id': 'Input | a24590e9-9dbf-4f55-890e-66b0b0685666 | 96628859-0899-7537-4503-489244348545 | ZG7udwy8rzhE5xtUnOGl', 'namestate': 'Input | a24590e9-9dbf-4f55-890e-66b0b0685666 | 96628859-0899-7537-4503-489244348545 | ZG7udwy8rzhE5xtUnOGl', 'contenido': 'Escribe algo', 'typingtime': '1', 'validacion': '', 'id_robot': 538, 'id_var': 1817, 'blocktype': 'input'}\n",
      "intenatando consulta...\n",
      "consulta: select * from bloqueinput where next_id= 'Carrusel | 5aaf3158-308e-4b01-9283-f01f32d587c9 | 96628859-0899-7537-4503-489244348545 | ZG7udwy8rzhE5xtUnOGl' and default_id= 'Input | a24590e9-9dbf-4f55-890e-66b0b0685666 | 96628859-0899-7537-4503-489244348545 | ZG7udwy8rzhE5xtUnOGl' and namestate= 'Input | a24590e9-9dbf-4f55-890e-66b0b0685666 | 96628859-0899-7537-4503-489244348545 | ZG7udwy8rzhE5xtUnOGl' and contenido= 'Escribe algo' and typingtime= '1' and validacion= '' and id_robot= '538' and id_var= '1817' and blocktype= 'input' ;\n"
     ]
    },
    {
     "name": "stderr",
     "output_type": "stream",
     "text": [
      "127.0.0.1 - - [14/Jun/2021 23:50:35] \"\u001b[37mPOST /insert/bloqueinput HTTP/1.1\u001b[0m\" 200 -\n",
      "127.0.0.1 - - [14/Jun/2021 23:50:35] \"\u001b[37mPOST /insert/variables HTTP/1.1\u001b[0m\" 200 -\n",
      "127.0.0.1 - - [14/Jun/2021 23:50:35] \"\u001b[37mPOST /insert/bloquequickreply HTTP/1.1\u001b[0m\" 200 -\n"
     ]
    },
    {
     "name": "stdout",
     "output_type": "stream",
     "text": [
      "Datos enviados INSERT:\n",
      "{'namestate': 'Input | a24590e9-9dbf-4f55-890e-66b0b0685666 | 96628859-0899-7537-4503-489244348545 | ZG7udwy8rzhE5xtUnOGl', 'contenido': 'Escribe algo', 'next_id': 'Carrusel | 5aaf3158-308e-4b01-9283-f01f32d587c9 | 96628859-0899-7537-4503-489244348545 | ZG7udwy8rzhE5xtUnOGl', 'blocktype': 'input', 'contenttype': None, 'typingtime': '1', 'validacion': '', 'default_id': 'Input | a24590e9-9dbf-4f55-890e-66b0b0685666 | 96628859-0899-7537-4503-489244348545 | ZG7udwy8rzhE5xtUnOGl', 'id_var': '1817', 'id_block': 388, 'id_robot': 538, 'opc_nextid': None, 'pos_y': None, 'pos_x': None, 'tag_active': None}\n",
      "Datos recibidos INSERT:\n",
      "{'name_var': 'variableQrQuickReply_|_9cd75eb1-5f87-4a23-84aa-d6de05ed56b87855', 'opc_type': 'Variable', 'var': 0, 'opc_data': 'String', 'id_robot': 538}\n",
      "intenatando consulta...\n",
      "consulta: select * from variables where name_var= 'variableQrQuickReply_|_9cd75eb1-5f87-4a23-84aa-d6de05ed56b87855' and opc_type= 'Variable' and var= '0' and opc_data= 'String' and id_robot= '538' ;\n",
      "Datos enviados INSERT:\n",
      "{'id_var': 1818, 'opc_type': 'Variable', 'opc_data': 'String', 'var': '0', 'id_robot': 538, 'name_var': 'variableQrQuickReply_|_9cd75eb1-5f87-4a23-84aa-d6de05ed56b87855'}\n",
      "Datos recibidos INSERT:\n",
      "{'contenido': 'QUICKREPLY 1', 'opciones': 'SALIDA 1', 'next_id': 'Informativo | 34fa0024-002a-4673-8b70-6419afef7d4d | 55686726-3982-4003-0323-821800355990 | ZG7udwy8rzhE5xtUnOGl', 'default_id': 'QuickReply | 9cd75eb1-5f87-4a23-84aa-d6de05ed56b8 | 96628859-0899-7537-4503-489244348545 | ZG7udwy8rzhE5xtUnOGl', 'namestate': 'QuickReply | 9cd75eb1-5f87-4a23-84aa-d6de05ed56b8 | 96628859-0899-7537-4503-489244348545 | ZG7udwy8rzhE5xtUnOGl', 'typingtime': '1', 'id_robot': 538, 'id_var': 1818, 'blocktype': 'quickReply'}\n",
      "intenatando consulta...\n",
      "consulta: select * from bloquequickreply where contenido= 'QUICKREPLY 1' and opciones= 'SALIDA 1' and next_id= 'Informativo | 34fa0024-002a-4673-8b70-6419afef7d4d | 55686726-3982-4003-0323-821800355990 | ZG7udwy8rzhE5xtUnOGl' and default_id= 'QuickReply | 9cd75eb1-5f87-4a23-84aa-d6de05ed56b8 | 96628859-0899-7537-4503-489244348545 | ZG7udwy8rzhE5xtUnOGl' and namestate= 'QuickReply | 9cd75eb1-5f87-4a23-84aa-d6de05ed56b8 | 96628859-0899-7537-4503-489244348545 | ZG7udwy8rzhE5xtUnOGl' and typingtime= '1' and id_robot= '538' and id_var= '1818' and blocktype= 'quickReply' ;\n",
      "Datos enviados INSERT:\n",
      "{'namestate': 'QuickReply | 9cd75eb1-5f87-4a23-84aa-d6de05ed56b8 | 96628859-0899-7537-4503-489244348545 | ZG7udwy8rzhE5xtUnOGl', 'contenido': 'QUICKREPLY 1', 'opciones': 'SALIDA 1', 'next_id': 'Informativo | 34fa0024-002a-4673-8b70-6419afef7d4d | 55686726-3982-4003-0323-821800355990 | ZG7udwy8rzhE5xtUnOGl', 'blocktype': 'quickReply', 'typingtime': '1', 'default_id': 'QuickReply | 9cd75eb1-5f87-4a23-84aa-d6de05ed56b8 | 96628859-0899-7537-4503-489244348545 | ZG7udwy8rzhE5xtUnOGl', 'id_var': '1818', 'id_block': 664, 'id_robot': 538, 'opc_nextid': None, 'pos_y': None, 'pos_x': None, 'tag_active': None}\n",
      "Datos recibidos INSERT:\n",
      "{'name_var': 'variableQrQuickReply_|_f962f2fb-1047-4062-bac8-798fddc79ff28667', 'opc_type': 'Variable', 'var': 0, 'opc_data': 'String', 'id_robot': 538}\n"
     ]
    },
    {
     "name": "stderr",
     "output_type": "stream",
     "text": [
      "127.0.0.1 - - [14/Jun/2021 23:50:35] \"\u001b[37mPOST /insert/variables HTTP/1.1\u001b[0m\" 200 -\n",
      "127.0.0.1 - - [14/Jun/2021 23:50:35] \"\u001b[37mPOST /insert/bloquequickreply HTTP/1.1\u001b[0m\" 200 -\n",
      "127.0.0.1 - - [14/Jun/2021 23:50:35] \"\u001b[37mPOST /insert/variables HTTP/1.1\u001b[0m\" 200 -\n"
     ]
    },
    {
     "name": "stdout",
     "output_type": "stream",
     "text": [
      "intenatando consulta...\n",
      "consulta: select * from variables where name_var= 'variableQrQuickReply_|_f962f2fb-1047-4062-bac8-798fddc79ff28667' and opc_type= 'Variable' and var= '0' and opc_data= 'String' and id_robot= '538' ;\n",
      "Datos enviados INSERT:\n",
      "{'id_var': 1819, 'opc_type': 'Variable', 'opc_data': 'String', 'var': '0', 'id_robot': 538, 'name_var': 'variableQrQuickReply_|_f962f2fb-1047-4062-bac8-798fddc79ff28667'}\n",
      "Datos recibidos INSERT:\n",
      "{'contenido': 'quickreply 2', 'opciones': 'SALIDA 2', 'next_id': 'Informativo | 34fa0024-002a-4673-8b70-6419afef7d4d | 36067394-2558-1046-0765-010229045532 | ZG7udwy8rzhE5xtUnOGl', 'default_id': 'QuickReply | f962f2fb-1047-4062-bac8-798fddc79ff2 | 96628859-0899-7537-4503-489244348545 | ZG7udwy8rzhE5xtUnOGl', 'namestate': 'QuickReply | f962f2fb-1047-4062-bac8-798fddc79ff2 | 96628859-0899-7537-4503-489244348545 | ZG7udwy8rzhE5xtUnOGl', 'typingtime': '1', 'id_robot': 538, 'id_var': 1819, 'blocktype': 'quickReply'}\n",
      "intenatando consulta...\n",
      "consulta: select * from bloquequickreply where contenido= 'quickreply 2' and opciones= 'SALIDA 2' and next_id= 'Informativo | 34fa0024-002a-4673-8b70-6419afef7d4d | 36067394-2558-1046-0765-010229045532 | ZG7udwy8rzhE5xtUnOGl' and default_id= 'QuickReply | f962f2fb-1047-4062-bac8-798fddc79ff2 | 96628859-0899-7537-4503-489244348545 | ZG7udwy8rzhE5xtUnOGl' and namestate= 'QuickReply | f962f2fb-1047-4062-bac8-798fddc79ff2 | 96628859-0899-7537-4503-489244348545 | ZG7udwy8rzhE5xtUnOGl' and typingtime= '1' and id_robot= '538' and id_var= '1819' and blocktype= 'quickReply' ;\n",
      "Datos enviados INSERT:\n",
      "{'namestate': 'QuickReply | f962f2fb-1047-4062-bac8-798fddc79ff2 | 96628859-0899-7537-4503-489244348545 | ZG7udwy8rzhE5xtUnOGl', 'contenido': 'quickreply 2', 'opciones': 'SALIDA 2', 'next_id': 'Informativo | 34fa0024-002a-4673-8b70-6419afef7d4d | 36067394-2558-1046-0765-010229045532 | ZG7udwy8rzhE5xtUnOGl', 'blocktype': 'quickReply', 'typingtime': '1', 'default_id': 'QuickReply | f962f2fb-1047-4062-bac8-798fddc79ff2 | 96628859-0899-7537-4503-489244348545 | ZG7udwy8rzhE5xtUnOGl', 'id_var': '1819', 'id_block': 665, 'id_robot': 538, 'opc_nextid': None, 'pos_y': None, 'pos_x': None, 'tag_active': None}\n",
      "Datos recibidos INSERT:\n",
      "{'name_var': 'undefinedCarrusel_|_cce128da-fc3c-4ab8-8733-0f93dff9b0ca2834', 'opc_type': 'Variable', 'var': 0, 'opc_data': 'String', 'id_robot': 538}\n",
      "intenatando consulta...\n",
      "consulta: select * from variables where name_var= 'undefinedCarrusel_|_cce128da-fc3c-4ab8-8733-0f93dff9b0ca2834' and opc_type= 'Variable' and var= '0' and opc_data= 'String' and id_robot= '538' ;\n",
      "Datos enviados INSERT:\n",
      "{'id_var': 1820, 'opc_type': 'Variable', 'opc_data': 'String', 'var': '0', 'id_robot': 538, 'name_var': 'undefinedCarrusel_|_cce128da-fc3c-4ab8-8733-0f93dff9b0ca2834'}\n",
      "Datos recibidos INSERT:\n",
      "{'namestate': 'Carrusel | cce128da-fc3c-4ab8-8733-0f93dff9b0ca | 55686726-3982-4003-0323-821800355990 | ZG7udwy8rzhE5xtUnOGl', 'blocktype': 'slide', 'typingtime': '1', 'default_id': 'Carrusel | cce128da-fc3c-4ab8-8733-0f93dff9b0ca | 55686726-3982-4003-0323-821800355990 | ZG7udwy8rzhE5xtUnOGl', 'id_var': 1820, 'id_robot': 538}\n"
     ]
    },
    {
     "name": "stderr",
     "output_type": "stream",
     "text": [
      "127.0.0.1 - - [14/Jun/2021 23:50:35] \"\u001b[37mPOST /insert/bloqueslide HTTP/1.1\u001b[0m\" 200 -\n",
      "127.0.0.1 - - [14/Jun/2021 23:50:35] \"\u001b[37mPOST /insert/elementos HTTP/1.1\u001b[0m\" 200 -\n",
      "127.0.0.1 - - [14/Jun/2021 23:50:35] \"\u001b[37mPOST /insert/botones HTTP/1.1\u001b[0m\" 200 -\n"
     ]
    },
    {
     "name": "stdout",
     "output_type": "stream",
     "text": [
      "intenatando consulta...\n",
      "consulta: select * from bloqueslide where namestate= 'Carrusel | cce128da-fc3c-4ab8-8733-0f93dff9b0ca | 55686726-3982-4003-0323-821800355990 | ZG7udwy8rzhE5xtUnOGl' and blocktype= 'slide' and typingtime= '1' and default_id= 'Carrusel | cce128da-fc3c-4ab8-8733-0f93dff9b0ca | 55686726-3982-4003-0323-821800355990 | ZG7udwy8rzhE5xtUnOGl' and id_var= '1820' and id_robot= '538' ;\n",
      "Datos enviados INSERT:\n",
      "{'namestate': 'Carrusel | cce128da-fc3c-4ab8-8733-0f93dff9b0ca | 55686726-3982-4003-0323-821800355990 | ZG7udwy8rzhE5xtUnOGl', 'next_id': None, 'blocktype': 'slide', 'typingtime': '1', 'default_id': 'Carrusel | cce128da-fc3c-4ab8-8733-0f93dff9b0ca | 55686726-3982-4003-0323-821800355990 | ZG7udwy8rzhE5xtUnOGl', 'id_var': '1820', 'id_block': 539, 'id_robot': 538, 'opc_nextid': None, 'pos_y': None, 'pos_x': None, 'opc_elm': None, 'tag_active': None}\n",
      "Datos recibidos INSERT:\n",
      "{'subtitle': 'Subtitulo 1', 'image_url': 'https://jalisco.quadratin.com.mx/www/wp-content/uploads/2020/11/grupo-firme-1-1160x700.jpg', 'title': 'Titulo 1', 'blocktype': 'slide', 'id_block': 539}\n",
      "intenatando consulta...\n",
      "consulta: select * from elementos where subtitle= 'Subtitulo 1' and image_url= 'https://jalisco.quadratin.com.mx/www/wp-content/uploads/2020/11/grupo-firme-1-1160x700.jpg' and title= 'Titulo 1' and blocktype= 'slide' and id_block= '539' ;\n",
      "Datos enviados INSERT:\n",
      "{'blocktype': 'slide', 'title': 'Titulo 1', 'image_url': 'https://jalisco.quadratin.com.mx/www/wp-content/uploads/2020/11/grupo-firme-1-1160x700.jpg', 'subtitle': 'Subtitulo 1', 'id_block': 539, 'id_elements': 930}\n",
      "Datos recibidos INSERT:\n",
      "{'id_elemento': '930', 'titlebutton': 'Salida 1', 'typebutton': 'postback', 'contentbutton': 'Informativo | 72991cca-745b-4886-8ac4-c92d730c134a | ZG7udwy8rzhE5xtUnOGl', 'opc_nextid': 'Informativo | 72991cca-745b-4886-8ac4-c92d730c134a | ZG7udwy8rzhE5xtUnOGl'}\n",
      "intenatando consulta...\n",
      "consulta: select * from botones where id_elemento= '930' and titlebutton= 'Salida 1' and typebutton= 'postback' and contentbutton= 'Informativo | 72991cca-745b-4886-8ac4-c92d730c134a | ZG7udwy8rzhE5xtUnOGl' and opc_nextid= 'Informativo | 72991cca-745b-4886-8ac4-c92d730c134a | ZG7udwy8rzhE5xtUnOGl' ;\n",
      "Datos enviados INSERT:\n",
      "{'id_elemento': '930', 'titlebutton': 'Salida 1', 'typebutton': 'postback', 'contentbutton': 'Informativo | 72991cca-745b-4886-8ac4-c92d730c134a | ZG7udwy8rzhE5xtUnOGl', 'id_boton': 1664, 'opc_nextid': 'Informativo | 72991cca-745b-4886-8ac4-c92d730c134a | ZG7udwy8rzhE5xtUnOGl'}\n",
      "Datos recibidos INSERT:\n",
      "{'id_elemento': '930', 'titlebutton': 'Facebookkkk', 'typebutton': 'web_url', 'contentbutton': 'facebook.com', 'opc_nextid': 'facebook.com'}\n"
     ]
    },
    {
     "name": "stderr",
     "output_type": "stream",
     "text": [
      "127.0.0.1 - - [14/Jun/2021 23:50:35] \"\u001b[37mPOST /insert/botones HTTP/1.1\u001b[0m\" 200 -\n",
      "127.0.0.1 - - [14/Jun/2021 23:50:35] \"\u001b[37mPOST /insert/bloqueinformativo HTTP/1.1\u001b[0m\" 200 -\n"
     ]
    },
    {
     "name": "stdout",
     "output_type": "stream",
     "text": [
      "intenatando consulta...\n",
      "consulta: select * from botones where id_elemento= '930' and titlebutton= 'Facebookkkk' and typebutton= 'web_url' and contentbutton= 'facebook.com' and opc_nextid= 'facebook.com' ;\n",
      "Datos enviados INSERT:\n",
      "{'id_elemento': '930', 'titlebutton': 'Facebookkkk', 'typebutton': 'web_url', 'contentbutton': 'facebook.com', 'id_boton': 1665, 'opc_nextid': 'facebook.com'}\n",
      "Datos recibidos INSERT:\n",
      "{'next_id': 'Carrusel | cce128da-fc3c-4ab8-8733-0f93dff9b0ca | 55686726-3982-4003-0323-821800355990 | ZG7udwy8rzhE5xtUnOGl', 'namestate': 'Informativo | 34fa0024-002a-4673-8b70-6419afef7d4d | 55686726-3982-4003-0323-821800355990 | ZG7udwy8rzhE5xtUnOGl', 'contenido': 'Este es el carrusel prueba 222222', 'contenttype': 'text', 'typingtime': '1', 'id_robot': 538, 'blocktype': 'informativo'}\n",
      "intenatando consulta...\n",
      "consulta: select * from bloqueinformativo where next_id= 'Carrusel | cce128da-fc3c-4ab8-8733-0f93dff9b0ca | 55686726-3982-4003-0323-821800355990 | ZG7udwy8rzhE5xtUnOGl' and namestate= 'Informativo | 34fa0024-002a-4673-8b70-6419afef7d4d | 55686726-3982-4003-0323-821800355990 | ZG7udwy8rzhE5xtUnOGl' and contenido= 'Este es el carrusel prueba 222222' and contenttype= 'text' and typingtime= '1' and id_robot= '538' and blocktype= 'informativo' ;\n",
      "Datos enviados INSERT:\n",
      "{'namestate': 'Informativo | 34fa0024-002a-4673-8b70-6419afef7d4d | 55686726-3982-4003-0323-821800355990 | ZG7udwy8rzhE5xtUnOGl', 'contenido': 'Este es el carrusel prueba 222222', 'next_id': 'Carrusel | cce128da-fc3c-4ab8-8733-0f93dff9b0ca | 55686726-3982-4003-0323-821800355990 | ZG7udwy8rzhE5xtUnOGl', 'blocktype': 'informativo', 'contenttype': 'text', 'typingtime': '1', 'id_block': 2791, 'id_robot': 538, 'opc_nextid': None, 'pos_y': None, 'pos_x': None, 'tag_active': None}\n",
      "Datos recibidos INSERT:\n",
      "{'name_var': 'undefinedCarrusel_|_cce128da-fc3c-4ab8-8733-0f93dff9b0ca1195', 'opc_type': 'Variable', 'var': 0, 'opc_data': 'String', 'id_robot': 538}\n",
      "intenatando consulta...\n",
      "consulta: select * from variables where name_var= 'undefinedCarrusel_|_cce128da-fc3c-4ab8-8733-0f93dff9b0ca1195' and opc_type= 'Variable' and var= '0' and opc_data= 'String' and id_robot= '538' ;\n"
     ]
    },
    {
     "name": "stderr",
     "output_type": "stream",
     "text": [
      "127.0.0.1 - - [14/Jun/2021 23:50:36] \"\u001b[37mPOST /insert/variables HTTP/1.1\u001b[0m\" 200 -\n",
      "127.0.0.1 - - [14/Jun/2021 23:50:36] \"\u001b[37mPOST /insert/bloqueslide HTTP/1.1\u001b[0m\" 200 -\n",
      "127.0.0.1 - - [14/Jun/2021 23:50:36] \"\u001b[37mPOST /insert/elementos HTTP/1.1\u001b[0m\" 200 -\n"
     ]
    },
    {
     "name": "stdout",
     "output_type": "stream",
     "text": [
      "Datos enviados INSERT:\n",
      "{'id_var': 1821, 'opc_type': 'Variable', 'opc_data': 'String', 'var': '0', 'id_robot': 538, 'name_var': 'undefinedCarrusel_|_cce128da-fc3c-4ab8-8733-0f93dff9b0ca1195'}\n",
      "Datos recibidos INSERT:\n",
      "{'namestate': 'Carrusel | cce128da-fc3c-4ab8-8733-0f93dff9b0ca | 36067394-2558-1046-0765-010229045532 | ZG7udwy8rzhE5xtUnOGl', 'blocktype': 'slide', 'typingtime': '1', 'default_id': 'Carrusel | cce128da-fc3c-4ab8-8733-0f93dff9b0ca | 36067394-2558-1046-0765-010229045532 | ZG7udwy8rzhE5xtUnOGl', 'id_var': 1821, 'id_robot': 538}\n",
      "intenatando consulta...\n",
      "consulta: select * from bloqueslide where namestate= 'Carrusel | cce128da-fc3c-4ab8-8733-0f93dff9b0ca | 36067394-2558-1046-0765-010229045532 | ZG7udwy8rzhE5xtUnOGl' and blocktype= 'slide' and typingtime= '1' and default_id= 'Carrusel | cce128da-fc3c-4ab8-8733-0f93dff9b0ca | 36067394-2558-1046-0765-010229045532 | ZG7udwy8rzhE5xtUnOGl' and id_var= '1821' and id_robot= '538' ;\n",
      "Datos enviados INSERT:\n",
      "{'namestate': 'Carrusel | cce128da-fc3c-4ab8-8733-0f93dff9b0ca | 36067394-2558-1046-0765-010229045532 | ZG7udwy8rzhE5xtUnOGl', 'next_id': None, 'blocktype': 'slide', 'typingtime': '1', 'default_id': 'Carrusel | cce128da-fc3c-4ab8-8733-0f93dff9b0ca | 36067394-2558-1046-0765-010229045532 | ZG7udwy8rzhE5xtUnOGl', 'id_var': '1821', 'id_block': 540, 'id_robot': 538, 'opc_nextid': None, 'pos_y': None, 'pos_x': None, 'opc_elm': None, 'tag_active': None}\n",
      "Datos recibidos INSERT:\n",
      "{'subtitle': 'Subtitulo 1', 'title': 'Titulo 1', 'image_url': 'https://jalisco.quadratin.com.mx/www/wp-content/uploads/2020/11/grupo-firme-1-1160x700.jpg', 'blocktype': 'slide', 'id_block': 540}\n",
      "intenatando consulta...\n",
      "consulta: select * from elementos where subtitle= 'Subtitulo 1' and title= 'Titulo 1' and image_url= 'https://jalisco.quadratin.com.mx/www/wp-content/uploads/2020/11/grupo-firme-1-1160x700.jpg' and blocktype= 'slide' and id_block= '540' ;\n",
      "Datos enviados INSERT:\n",
      "{'blocktype': 'slide', 'title': 'Titulo 1', 'image_url': 'https://jalisco.quadratin.com.mx/www/wp-content/uploads/2020/11/grupo-firme-1-1160x700.jpg', 'subtitle': 'Subtitulo 1', 'id_block': 540, 'id_elements': 931}\n"
     ]
    },
    {
     "name": "stderr",
     "output_type": "stream",
     "text": [
      "127.0.0.1 - - [14/Jun/2021 23:50:36] \"\u001b[37mPOST /insert/botones HTTP/1.1\u001b[0m\" 200 -\n",
      "127.0.0.1 - - [14/Jun/2021 23:50:36] \"\u001b[37mPOST /insert/botones HTTP/1.1\u001b[0m\" 200 -\n"
     ]
    },
    {
     "name": "stdout",
     "output_type": "stream",
     "text": [
      "Datos recibidos INSERT:\n",
      "{'id_elemento': '931', 'titlebutton': 'Salida 1', 'typebutton': 'postback', 'contentbutton': 'Informativo | 72991cca-745b-4886-8ac4-c92d730c134a | ZG7udwy8rzhE5xtUnOGl', 'opc_nextid': 'Informativo | 72991cca-745b-4886-8ac4-c92d730c134a | ZG7udwy8rzhE5xtUnOGl'}\n",
      "intenatando consulta...\n",
      "consulta: select * from botones where id_elemento= '931' and titlebutton= 'Salida 1' and typebutton= 'postback' and contentbutton= 'Informativo | 72991cca-745b-4886-8ac4-c92d730c134a | ZG7udwy8rzhE5xtUnOGl' and opc_nextid= 'Informativo | 72991cca-745b-4886-8ac4-c92d730c134a | ZG7udwy8rzhE5xtUnOGl' ;\n",
      "Datos enviados INSERT:\n",
      "{'id_elemento': '931', 'titlebutton': 'Salida 1', 'typebutton': 'postback', 'contentbutton': 'Informativo | 72991cca-745b-4886-8ac4-c92d730c134a | ZG7udwy8rzhE5xtUnOGl', 'id_boton': 1666, 'opc_nextid': 'Informativo | 72991cca-745b-4886-8ac4-c92d730c134a | ZG7udwy8rzhE5xtUnOGl'}\n",
      "Datos recibidos INSERT:\n",
      "{'id_elemento': '931', 'titlebutton': 'Facebookkkk', 'typebutton': 'web_url', 'contentbutton': 'facebook.com', 'opc_nextid': 'facebook.com'}\n",
      "intenatando consulta...\n",
      "consulta: select * from botones where id_elemento= '931' and titlebutton= 'Facebookkkk' and typebutton= 'web_url' and contentbutton= 'facebook.com' and opc_nextid= 'facebook.com' ;\n",
      "Datos enviados INSERT:\n",
      "{'id_elemento': '931', 'titlebutton': 'Facebookkkk', 'typebutton': 'web_url', 'contentbutton': 'facebook.com', 'id_boton': 1667, 'opc_nextid': 'facebook.com'}\n",
      "Datos recibidos INSERT:\n",
      "{'next_id': 'Carrusel | cce128da-fc3c-4ab8-8733-0f93dff9b0ca | 36067394-2558-1046-0765-010229045532 | ZG7udwy8rzhE5xtUnOGl', 'namestate': 'Informativo | 34fa0024-002a-4673-8b70-6419afef7d4d | 36067394-2558-1046-0765-010229045532 | ZG7udwy8rzhE5xtUnOGl', 'contenido': 'Este es el carrusel prueba', 'contenttype': 'text', 'typingtime': '1', 'id_robot': 538, 'blocktype': 'informativo'}\n"
     ]
    },
    {
     "name": "stderr",
     "output_type": "stream",
     "text": [
      "127.0.0.1 - - [14/Jun/2021 23:50:36] \"\u001b[37mPOST /insert/bloqueinformativo HTTP/1.1\u001b[0m\" 200 -\n",
      "127.0.0.1 - - [14/Jun/2021 23:50:36] \"\u001b[37mPOST /insert/bloqueinformativo HTTP/1.1\u001b[0m\" 200 -\n",
      "127.0.0.1 - - [14/Jun/2021 23:50:36] \"\u001b[37mPOST /insert/bloqueinformativo HTTP/1.1\u001b[0m\" 200 -\n"
     ]
    },
    {
     "name": "stdout",
     "output_type": "stream",
     "text": [
      "intenatando consulta...\n",
      "consulta: select * from bloqueinformativo where next_id= 'Carrusel | cce128da-fc3c-4ab8-8733-0f93dff9b0ca | 36067394-2558-1046-0765-010229045532 | ZG7udwy8rzhE5xtUnOGl' and namestate= 'Informativo | 34fa0024-002a-4673-8b70-6419afef7d4d | 36067394-2558-1046-0765-010229045532 | ZG7udwy8rzhE5xtUnOGl' and contenido= 'Este es el carrusel prueba' and contenttype= 'text' and typingtime= '1' and id_robot= '538' and blocktype= 'informativo' ;\n",
      "Datos enviados INSERT:\n",
      "{'namestate': 'Informativo | 34fa0024-002a-4673-8b70-6419afef7d4d | 36067394-2558-1046-0765-010229045532 | ZG7udwy8rzhE5xtUnOGl', 'contenido': 'Este es el carrusel prueba', 'next_id': 'Carrusel | cce128da-fc3c-4ab8-8733-0f93dff9b0ca | 36067394-2558-1046-0765-010229045532 | ZG7udwy8rzhE5xtUnOGl', 'blocktype': 'informativo', 'contenttype': 'text', 'typingtime': '1', 'id_block': 2792, 'id_robot': 538, 'opc_nextid': None, 'pos_y': None, 'pos_x': None, 'tag_active': None}\n",
      "Datos recibidos INSERT:\n",
      "{'next_id': 'Informativo | 98a8f39d-6761-48e7-aca7-66279cfabf40 | 96628859-0899-7537-4503-489244348545 | ZG7udwy8rzhE5xtUnOGl', 'namestate': 'Informativo | a0be25bb-4eb4-49c2-830f-6eb23d64966c | ZG7udwy8rzhE5xtUnOGl', 'contenido': 'Soy el bot 2021', 'contenttype': 'text', 'typingtime': '1', 'id_robot': 538, 'blocktype': 'informativo'}\n",
      "intenatando consulta...\n",
      "consulta: select * from bloqueinformativo where next_id= 'Informativo | 98a8f39d-6761-48e7-aca7-66279cfabf40 | 96628859-0899-7537-4503-489244348545 | ZG7udwy8rzhE5xtUnOGl' and namestate= 'Informativo | a0be25bb-4eb4-49c2-830f-6eb23d64966c | ZG7udwy8rzhE5xtUnOGl' and contenido= 'Soy el bot 2021' and contenttype= 'text' and typingtime= '1' and id_robot= '538' and blocktype= 'informativo' ;\n",
      "Datos enviados INSERT:\n",
      "{'namestate': 'Informativo | a0be25bb-4eb4-49c2-830f-6eb23d64966c | ZG7udwy8rzhE5xtUnOGl', 'contenido': 'Soy el bot 2021', 'next_id': 'Informativo | 98a8f39d-6761-48e7-aca7-66279cfabf40 | 96628859-0899-7537-4503-489244348545 | ZG7udwy8rzhE5xtUnOGl', 'blocktype': 'informativo', 'contenttype': 'text', 'typingtime': '1', 'id_block': 2793, 'id_robot': 538, 'opc_nextid': None, 'pos_y': None, 'pos_x': None, 'tag_active': None}\n",
      "Datos recibidos INSERT:\n",
      "{'next_id': 'Salida', 'namestate': 'Informativo | 72991cca-745b-4886-8ac4-c92d730c134a | ZG7udwy8rzhE5xtUnOGl', 'contenido': 'Gracias por información... Adios!', 'contenttype': 'text', 'typingtime': '1', 'id_robot': 538, 'blocktype': 'informativo'}\n",
      "intenatando consulta...\n",
      "consulta: select * from bloqueinformativo where next_id= 'Salida' and namestate= 'Informativo | 72991cca-745b-4886-8ac4-c92d730c134a | ZG7udwy8rzhE5xtUnOGl' and contenido= 'Gracias por información... Adios!' and contenttype= 'text' and typingtime= '1' and id_robot= '538' and blocktype= 'informativo' ;\n",
      "Datos enviados INSERT:\n",
      "{'namestate': 'Informativo | 72991cca-745b-4886-8ac4-c92d730c134a | ZG7udwy8rzhE5xtUnOGl', 'contenido': 'Gracias por información... Adios!', 'next_id': 'Salida', 'blocktype': 'informativo', 'contenttype': 'text', 'typingtime': '1', 'id_block': 2794, 'id_robot': 538, 'opc_nextid': None, 'pos_y': None, 'pos_x': None, 'tag_active': None}\n",
      "Datos recibidos INSERT:\n",
      "{'next_id': '', 'namestate': 'Salida', 'contenido': '', 'contenttype': 'text', 'typingtime': 3, 'id_robot': 538, 'blocktype': 'informativo'}\n"
     ]
    },
    {
     "name": "stderr",
     "output_type": "stream",
     "text": [
      "127.0.0.1 - - [14/Jun/2021 23:50:36] \"\u001b[37mPOST /insert/bloqueinformativo HTTP/1.1\u001b[0m\" 200 -\n"
     ]
    },
    {
     "name": "stdout",
     "output_type": "stream",
     "text": [
      "intenatando consulta...\n",
      "consulta: select * from bloqueinformativo where next_id= '' and namestate= 'Salida' and contenido= '' and contenttype= 'text' and typingtime= '3' and id_robot= '538' and blocktype= 'informativo' ;\n",
      "Datos enviados INSERT:\n",
      "{'namestate': 'Salida', 'contenido': '', 'next_id': '', 'blocktype': 'informativo', 'contenttype': 'text', 'typingtime': '3', 'id_block': 2795, 'id_robot': 538, 'opc_nextid': None, 'pos_y': None, 'pos_x': None, 'tag_active': None}\n"
     ]
    },
    {
     "name": "stderr",
     "output_type": "stream",
     "text": [
      "127.0.0.1 - - [14/Jun/2021 23:52:15] \"\u001b[37mGET /select/robots HTTP/1.1\u001b[0m\" 200 -\n",
      "127.0.0.1 - - [14/Jun/2021 23:52:15] \"\u001b[37mPOST /insert/robots HTTP/1.1\u001b[0m\" 200 -\n",
      "127.0.0.1 - - [14/Jun/2021 23:52:15] \"\u001b[37mPOST /insert/variables HTTP/1.1\u001b[0m\" 200 -\n"
     ]
    },
    {
     "name": "stdout",
     "output_type": "stream",
     "text": [
      "Datos recibidos SELECT:\n",
      "{'name_robot': 'CHATBOT TT 2020 A056', 'id_face': '100750202253729', 'block_ini': 'Informativo | d9897d01-e0ce-44bd-ba3d-22973a7d74fd | bSkwpaFVCmMXS8G2PR6k', 'type_blocki': 'informativo', 'access_token': 'EAALZCCZBzPwfkBACf3gal1zeLIkZAxC8ecQ6qmRixvqGJJXtfQvE7S2zNpkdf0BpKR79BZAOawgUcm8IQN9NecBZB25Q8ZCWDFAH50ihRis7XfHm4UM3bYNqgmmKZCKkLnhGGxf2FO8eLr8CVkgp3PgJWiBQVKTO7DRtAZA1IjaLIk1xGTZBunRJ6', 'id_user': 'charlygoldcruz@gmail.com', 'api_nlp': 'http://localhost:8282/'}\n",
      "intenatando consulta...\n",
      "consulta: select * from robots where id_face = '100750202253729';\n",
      "La consulta no trajo nada\n",
      "Datos enviados SELECT:\n",
      "{'error': 'true'}\n",
      "Datos recibidos INSERT:\n",
      "{'name_robot': 'CHATBOT TT 2020 A056', 'id_face': '100750202253729', 'block_ini': 'Informativo | d9897d01-e0ce-44bd-ba3d-22973a7d74fd | bSkwpaFVCmMXS8G2PR6k', 'type_blocki': 'informativo', 'access_token': 'EAALZCCZBzPwfkBACf3gal1zeLIkZAxC8ecQ6qmRixvqGJJXtfQvE7S2zNpkdf0BpKR79BZAOawgUcm8IQN9NecBZB25Q8ZCWDFAH50ihRis7XfHm4UM3bYNqgmmKZCKkLnhGGxf2FO8eLr8CVkgp3PgJWiBQVKTO7DRtAZA1IjaLIk1xGTZBunRJ6', 'id_user': 'charlygoldcruz@gmail.com', 'api_nlp': 'http://localhost:8282/'}\n",
      "intenatando consulta...\n",
      "consulta: select * from robots where id_face = '100750202253729';\n",
      "Datos enviados INSERT:\n",
      "{'name_robot': 'CHATBOT TT 2020 A056', 'id_face': '100750202253729', 'block_ini': 'Informativo | d9897d01-e0ce-44bd-ba3d-22973a7d74fd | bSkwpaFVCmMXS8G2PR6k', 'type_blocki': 'informativo', 'access_token': 'EAALZCCZBzPwfkBACf3gal1zeLIkZAxC8ecQ6qmRixvqGJJXtfQvE7S2zNpkdf0BpKR79BZAOawgUcm8IQN9NecBZB25Q8ZCWDFAH50ihRis7XfHm4UM3bYNqgmmKZCKkLnhGGxf2FO8eLr8CVkgp3PgJWiBQVKTO7DRtAZA1IjaLIk1xGTZBunRJ6', 'api_nlp': 'http://localhost:8282/', 'id_robot': 539, 'id_user': 'charlygoldcruz@gmail.com'}\n",
      "Datos recibidos INSERT:\n",
      "{'name_var': 'varCarrusel_|_fdd978d8-d9e9-4f74-8d01-07d1a43ecba81950', 'opc_type': 'Variable', 'var': 0, 'opc_data': 'String', 'id_robot': 539}\n",
      "intenatando consulta...\n",
      "consulta: select * from variables where name_var= 'varCarrusel_|_fdd978d8-d9e9-4f74-8d01-07d1a43ecba81950' and opc_type= 'Variable' and var= '0' and opc_data= 'String' and id_robot= '539' ;\n",
      "Datos enviados INSERT:\n",
      "{'id_var': 1822, 'opc_type': 'Variable', 'opc_data': 'String', 'var': '0', 'id_robot': 539, 'name_var': 'varCarrusel_|_fdd978d8-d9e9-4f74-8d01-07d1a43ecba81950'}\n",
      "Datos recibidos INSERT:\n",
      "{'namestate': 'Carrusel | fdd978d8-d9e9-4f74-8d01-07d1a43ecba8 | 98525253-9080-3718-4541-185145979160 | bSkwpaFVCmMXS8G2PR6k', 'blocktype': 'slide', 'typingtime': '1', 'default_id': 'Carrusel | fdd978d8-d9e9-4f74-8d01-07d1a43ecba8 | 98525253-9080-3718-4541-185145979160 | bSkwpaFVCmMXS8G2PR6k', 'id_var': 1822, 'id_robot': 539}\n"
     ]
    },
    {
     "name": "stderr",
     "output_type": "stream",
     "text": [
      "127.0.0.1 - - [14/Jun/2021 23:52:15] \"\u001b[37mPOST /insert/bloqueslide HTTP/1.1\u001b[0m\" 200 -\n",
      "127.0.0.1 - - [14/Jun/2021 23:52:15] \"\u001b[37mPOST /insert/elementos HTTP/1.1\u001b[0m\" 200 -\n",
      "127.0.0.1 - - [14/Jun/2021 23:52:15] \"\u001b[37mPOST /insert/botones HTTP/1.1\u001b[0m\" 200 -\n"
     ]
    },
    {
     "name": "stdout",
     "output_type": "stream",
     "text": [
      "intenatando consulta...\n",
      "consulta: select * from bloqueslide where namestate= 'Carrusel | fdd978d8-d9e9-4f74-8d01-07d1a43ecba8 | 98525253-9080-3718-4541-185145979160 | bSkwpaFVCmMXS8G2PR6k' and blocktype= 'slide' and typingtime= '1' and default_id= 'Carrusel | fdd978d8-d9e9-4f74-8d01-07d1a43ecba8 | 98525253-9080-3718-4541-185145979160 | bSkwpaFVCmMXS8G2PR6k' and id_var= '1822' and id_robot= '539' ;\n",
      "Datos enviados INSERT:\n",
      "{'namestate': 'Carrusel | fdd978d8-d9e9-4f74-8d01-07d1a43ecba8 | 98525253-9080-3718-4541-185145979160 | bSkwpaFVCmMXS8G2PR6k', 'next_id': None, 'blocktype': 'slide', 'typingtime': '1', 'default_id': 'Carrusel | fdd978d8-d9e9-4f74-8d01-07d1a43ecba8 | 98525253-9080-3718-4541-185145979160 | bSkwpaFVCmMXS8G2PR6k', 'id_var': '1822', 'id_block': 541, 'id_robot': 539, 'opc_nextid': None, 'pos_y': None, 'pos_x': None, 'opc_elm': None, 'tag_active': None}\n",
      "Datos recibidos INSERT:\n",
      "{'title': 'Titulo 1 Plantilla 1', 'image_url': 'https://image.freepik.com/vector-gratis/caracter-banda-musica-ilustracion-dibujos-animados-plana_338371-15.jpg', 'subtitle': 'S1', 'blocktype': 'slide', 'id_block': 541}\n",
      "intenatando consulta...\n",
      "consulta: select * from elementos where title= 'Titulo 1 Plantilla 1' and image_url= 'https://image.freepik.com/vector-gratis/caracter-banda-musica-ilustracion-dibujos-animados-plana_338371-15.jpg' and subtitle= 'S1' and blocktype= 'slide' and id_block= '541' ;\n",
      "Datos enviados INSERT:\n",
      "{'blocktype': 'slide', 'title': 'Titulo 1 Plantilla 1', 'image_url': 'https://image.freepik.com/vector-gratis/caracter-banda-musica-ilustracion-dibujos-animados-plana_338371-15.jpg', 'subtitle': 'S1', 'id_block': 541, 'id_elements': 932}\n",
      "Datos recibidos INSERT:\n",
      "{'id_elemento': '932', 'titlebutton': 'Salida 1', 'typebutton': 'postback', 'contentbutton': 'Informativo | eb6262bf-2b65-4dc7-9d6a-9a8544083dde | bSkwpaFVCmMXS8G2PR6k', 'opc_nextid': 'Informativo | eb6262bf-2b65-4dc7-9d6a-9a8544083dde | bSkwpaFVCmMXS8G2PR6k'}\n",
      "intenatando consulta...\n",
      "consulta: select * from botones where id_elemento= '932' and titlebutton= 'Salida 1' and typebutton= 'postback' and contentbutton= 'Informativo | eb6262bf-2b65-4dc7-9d6a-9a8544083dde | bSkwpaFVCmMXS8G2PR6k' and opc_nextid= 'Informativo | eb6262bf-2b65-4dc7-9d6a-9a8544083dde | bSkwpaFVCmMXS8G2PR6k' ;\n",
      "Datos enviados INSERT:\n",
      "{'id_elemento': '932', 'titlebutton': 'Salida 1', 'typebutton': 'postback', 'contentbutton': 'Informativo | eb6262bf-2b65-4dc7-9d6a-9a8544083dde | bSkwpaFVCmMXS8G2PR6k', 'id_boton': 1668, 'opc_nextid': 'Informativo | eb6262bf-2b65-4dc7-9d6a-9a8544083dde | bSkwpaFVCmMXS8G2PR6k'}\n",
      "Datos recibidos INSERT:\n",
      "{'id_elemento': '932', 'titlebutton': 'Salida 2', 'typebutton': 'postback', 'contentbutton': 'Informativo | eb6262bf-2b65-4dc7-9d6a-9a8544083dde | bSkwpaFVCmMXS8G2PR6k', 'opc_nextid': 'Informativo | eb6262bf-2b65-4dc7-9d6a-9a8544083dde | bSkwpaFVCmMXS8G2PR6k'}\n"
     ]
    },
    {
     "name": "stderr",
     "output_type": "stream",
     "text": [
      "127.0.0.1 - - [14/Jun/2021 23:52:16] \"\u001b[37mPOST /insert/botones HTTP/1.1\u001b[0m\" 200 -\n",
      "127.0.0.1 - - [14/Jun/2021 23:52:16] \"\u001b[37mPOST /insert/elementos HTTP/1.1\u001b[0m\" 200 -\n",
      "127.0.0.1 - - [14/Jun/2021 23:52:16] \"\u001b[37mPOST /insert/botones HTTP/1.1\u001b[0m\" 200 -\n"
     ]
    },
    {
     "name": "stdout",
     "output_type": "stream",
     "text": [
      "intenatando consulta...\n",
      "consulta: select * from botones where id_elemento= '932' and titlebutton= 'Salida 2' and typebutton= 'postback' and contentbutton= 'Informativo | eb6262bf-2b65-4dc7-9d6a-9a8544083dde | bSkwpaFVCmMXS8G2PR6k' and opc_nextid= 'Informativo | eb6262bf-2b65-4dc7-9d6a-9a8544083dde | bSkwpaFVCmMXS8G2PR6k' ;\n",
      "Datos enviados INSERT:\n",
      "{'id_elemento': '932', 'titlebutton': 'Salida 2', 'typebutton': 'postback', 'contentbutton': 'Informativo | eb6262bf-2b65-4dc7-9d6a-9a8544083dde | bSkwpaFVCmMXS8G2PR6k', 'id_boton': 1669, 'opc_nextid': 'Informativo | eb6262bf-2b65-4dc7-9d6a-9a8544083dde | bSkwpaFVCmMXS8G2PR6k'}\n",
      "Datos recibidos INSERT:\n",
      "{'subtitle': 'S2', 'image_url': 'https://www.muycomputer.com/wp-content/uploads/2020/04/Logitech-G203-rat%C3%B3n-gaming-barato-e1587628136683.jpg', 'title': 'P2', 'blocktype': 'slide', 'id_block': 541}\n",
      "intenatando consulta...\n",
      "consulta: select * from elementos where subtitle= 'S2' and image_url= 'https://www.muycomputer.com/wp-content/uploads/2020/04/Logitech-G203-rat%C3%B3n-gaming-barato-e1587628136683.jpg' and title= 'P2' and blocktype= 'slide' and id_block= '541' ;\n",
      "Datos enviados INSERT:\n",
      "{'blocktype': 'slide', 'title': 'P2', 'image_url': 'https://www.muycomputer.com/wp-content/uploads/2020/04/Logitech-G203-rat%C3%B3n-gaming-barato-e1587628136683.jpg', 'subtitle': 'S2', 'id_block': 541, 'id_elements': 933}\n",
      "Datos recibidos INSERT:\n",
      "{'id_elemento': '933', 'titlebutton': 'Google', 'typebutton': 'web_url', 'contentbutton': 'www.facebook.com', 'opc_nextid': 'www.facebook.com'}\n",
      "intenatando consulta...\n",
      "consulta: select * from botones where id_elemento= '933' and titlebutton= 'Google' and typebutton= 'web_url' and contentbutton= 'www.facebook.com' and opc_nextid= 'www.facebook.com' ;\n",
      "Datos enviados INSERT:\n",
      "{'id_elemento': '933', 'titlebutton': 'Google', 'typebutton': 'web_url', 'contentbutton': 'www.facebook.com', 'id_boton': 1670, 'opc_nextid': 'www.facebook.com'}\n",
      "Datos recibidos INSERT:\n",
      "{'id_elemento': '933', 'titlebutton': 'ABC', 'typebutton': 'web_url', 'contentbutton': 'www.ABC.com', 'opc_nextid': 'www.ABC.com'}\n"
     ]
    },
    {
     "name": "stderr",
     "output_type": "stream",
     "text": [
      "127.0.0.1 - - [14/Jun/2021 23:52:16] \"\u001b[37mPOST /insert/botones HTTP/1.1\u001b[0m\" 200 -\n",
      "127.0.0.1 - - [14/Jun/2021 23:52:16] \"\u001b[37mPOST /insert/elementos HTTP/1.1\u001b[0m\" 200 -\n",
      "127.0.0.1 - - [14/Jun/2021 23:52:16] \"\u001b[37mPOST /insert/botones HTTP/1.1\u001b[0m\" 200 -\n"
     ]
    },
    {
     "name": "stdout",
     "output_type": "stream",
     "text": [
      "intenatando consulta...\n",
      "consulta: select * from botones where id_elemento= '933' and titlebutton= 'ABC' and typebutton= 'web_url' and contentbutton= 'www.ABC.com' and opc_nextid= 'www.ABC.com' ;\n",
      "Datos enviados INSERT:\n",
      "{'id_elemento': '933', 'titlebutton': 'ABC', 'typebutton': 'web_url', 'contentbutton': 'www.ABC.com', 'id_boton': 1671, 'opc_nextid': 'www.ABC.com'}\n",
      "Datos recibidos INSERT:\n",
      "{'subtitle': 'Subtitulo 3', 'title': 'Plantilla 3', 'image_url': 'https://mmo.aiircdn.com/297/5f6a04de8d671.jpg', 'blocktype': 'slide', 'id_block': 541}\n",
      "intenatando consulta...\n",
      "consulta: select * from elementos where subtitle= 'Subtitulo 3' and title= 'Plantilla 3' and image_url= 'https://mmo.aiircdn.com/297/5f6a04de8d671.jpg' and blocktype= 'slide' and id_block= '541' ;\n",
      "Datos enviados INSERT:\n",
      "{'blocktype': 'slide', 'title': 'Plantilla 3', 'image_url': 'https://mmo.aiircdn.com/297/5f6a04de8d671.jpg', 'subtitle': 'Subtitulo 3', 'id_block': 541, 'id_elements': 934}\n",
      "Datos recibidos INSERT:\n",
      "{'id_elemento': '934', 'titlebutton': 'Input', 'typebutton': 'postback', 'contentbutton': 'Informativo | eb6262bf-2b65-4dc7-9d6a-9a8544083dde | bSkwpaFVCmMXS8G2PR6k', 'opc_nextid': 'Informativo | eb6262bf-2b65-4dc7-9d6a-9a8544083dde | bSkwpaFVCmMXS8G2PR6k'}\n",
      "intenatando consulta...\n",
      "consulta: select * from botones where id_elemento= '934' and titlebutton= 'Input' and typebutton= 'postback' and contentbutton= 'Informativo | eb6262bf-2b65-4dc7-9d6a-9a8544083dde | bSkwpaFVCmMXS8G2PR6k' and opc_nextid= 'Informativo | eb6262bf-2b65-4dc7-9d6a-9a8544083dde | bSkwpaFVCmMXS8G2PR6k' ;\n",
      "Datos enviados INSERT:\n",
      "{'id_elemento': '934', 'titlebutton': 'Input', 'typebutton': 'postback', 'contentbutton': 'Informativo | eb6262bf-2b65-4dc7-9d6a-9a8544083dde | bSkwpaFVCmMXS8G2PR6k', 'id_boton': 1672, 'opc_nextid': 'Informativo | eb6262bf-2b65-4dc7-9d6a-9a8544083dde | bSkwpaFVCmMXS8G2PR6k'}\n",
      "Datos recibidos INSERT:\n",
      "{'id_elemento': '934', 'titlebutton': 'Opcion 6', 'typebutton': 'postback', 'contentbutton': 'Informativo | eb6262bf-2b65-4dc7-9d6a-9a8544083dde | bSkwpaFVCmMXS8G2PR6k', 'opc_nextid': 'Informativo | eb6262bf-2b65-4dc7-9d6a-9a8544083dde | bSkwpaFVCmMXS8G2PR6k'}\n",
      "intenatando consulta...\n",
      "consulta: select * from botones where id_elemento= '934' and titlebutton= 'Opcion 6' and typebutton= 'postback' and contentbutton= 'Informativo | eb6262bf-2b65-4dc7-9d6a-9a8544083dde | bSkwpaFVCmMXS8G2PR6k' and opc_nextid= 'Informativo | eb6262bf-2b65-4dc7-9d6a-9a8544083dde | bSkwpaFVCmMXS8G2PR6k' ;\n"
     ]
    },
    {
     "name": "stderr",
     "output_type": "stream",
     "text": [
      "127.0.0.1 - - [14/Jun/2021 23:52:16] \"\u001b[37mPOST /insert/botones HTTP/1.1\u001b[0m\" 200 -\n",
      "127.0.0.1 - - [14/Jun/2021 23:52:16] \"\u001b[37mPOST /insert/bloqueinformativo HTTP/1.1\u001b[0m\" 200 -\n",
      "127.0.0.1 - - [14/Jun/2021 23:52:16] \"\u001b[37mPOST /insert/bloqueinformativo HTTP/1.1\u001b[0m\" 200 -\n"
     ]
    },
    {
     "name": "stdout",
     "output_type": "stream",
     "text": [
      "Datos enviados INSERT:\n",
      "{'id_elemento': '934', 'titlebutton': 'Opcion 6', 'typebutton': 'postback', 'contentbutton': 'Informativo | eb6262bf-2b65-4dc7-9d6a-9a8544083dde | bSkwpaFVCmMXS8G2PR6k', 'id_boton': 1673, 'opc_nextid': 'Informativo | eb6262bf-2b65-4dc7-9d6a-9a8544083dde | bSkwpaFVCmMXS8G2PR6k'}\n",
      "Datos recibidos INSERT:\n",
      "{'next_id': 'Intermedio | 39a8d681-4868-4b9c-98e4-9a8db0681865 | 98525253-9080-3718-4541-185145979160 | bSkwpaFVCmMXS8G2PR6k', 'namestate': 'Informativo | 7e74c6f6-46db-4b00-b8b3-07aac064e1de | 98525253-9080-3718-4541-185145979160 | bSkwpaFVCmMXS8G2PR6k', 'contenido': 'Hola, me he editado soy un bloque informativo', 'contenttype': 'text', 'typingtime': '2', 'id_robot': 539, 'blocktype': 'informativo'}\n",
      "intenatando consulta...\n",
      "consulta: select * from bloqueinformativo where next_id= 'Intermedio | 39a8d681-4868-4b9c-98e4-9a8db0681865 | 98525253-9080-3718-4541-185145979160 | bSkwpaFVCmMXS8G2PR6k' and namestate= 'Informativo | 7e74c6f6-46db-4b00-b8b3-07aac064e1de | 98525253-9080-3718-4541-185145979160 | bSkwpaFVCmMXS8G2PR6k' and contenido= 'Hola, me he editado soy un bloque informativo' and contenttype= 'text' and typingtime= '2' and id_robot= '539' and blocktype= 'informativo' ;\n",
      "Datos enviados INSERT:\n",
      "{'namestate': 'Informativo | 7e74c6f6-46db-4b00-b8b3-07aac064e1de | 98525253-9080-3718-4541-185145979160 | bSkwpaFVCmMXS8G2PR6k', 'contenido': 'Hola, me he editado soy un bloque informativo', 'next_id': 'Intermedio | 39a8d681-4868-4b9c-98e4-9a8db0681865 | 98525253-9080-3718-4541-185145979160 | bSkwpaFVCmMXS8G2PR6k', 'blocktype': 'informativo', 'contenttype': 'text', 'typingtime': '2', 'id_block': 2796, 'id_robot': 539, 'opc_nextid': None, 'pos_y': None, 'pos_x': None, 'tag_active': None}\n",
      "Datos recibidos INSERT:\n",
      "{'next_id': 'Carrusel | fdd978d8-d9e9-4f74-8d01-07d1a43ecba8 | 98525253-9080-3718-4541-185145979160 | bSkwpaFVCmMXS8G2PR6k', 'namestate': 'Intermedio | 39a8d681-4868-4b9c-98e4-9a8db0681865 | 98525253-9080-3718-4541-185145979160 | bSkwpaFVCmMXS8G2PR6k', 'contenido': 'Este es un bloque intermedio', 'contenttype': 'text', 'typingtime': '1', 'id_robot': 539, 'blocktype': 'informativo'}\n",
      "intenatando consulta...\n",
      "consulta: select * from bloqueinformativo where next_id= 'Carrusel | fdd978d8-d9e9-4f74-8d01-07d1a43ecba8 | 98525253-9080-3718-4541-185145979160 | bSkwpaFVCmMXS8G2PR6k' and namestate= 'Intermedio | 39a8d681-4868-4b9c-98e4-9a8db0681865 | 98525253-9080-3718-4541-185145979160 | bSkwpaFVCmMXS8G2PR6k' and contenido= 'Este es un bloque intermedio' and contenttype= 'text' and typingtime= '1' and id_robot= '539' and blocktype= 'informativo' ;\n",
      "Datos enviados INSERT:\n",
      "{'namestate': 'Intermedio | 39a8d681-4868-4b9c-98e4-9a8db0681865 | 98525253-9080-3718-4541-185145979160 | bSkwpaFVCmMXS8G2PR6k', 'contenido': 'Este es un bloque intermedio', 'next_id': 'Carrusel | fdd978d8-d9e9-4f74-8d01-07d1a43ecba8 | 98525253-9080-3718-4541-185145979160 | bSkwpaFVCmMXS8G2PR6k', 'blocktype': 'informativo', 'contenttype': 'text', 'typingtime': '1', 'id_block': 2797, 'id_robot': 539, 'opc_nextid': None, 'pos_y': None, 'pos_x': None, 'tag_active': None}\n"
     ]
    },
    {
     "name": "stderr",
     "output_type": "stream",
     "text": [
      "127.0.0.1 - - [14/Jun/2021 23:52:16] \"\u001b[37mPOST /insert/variables HTTP/1.1\u001b[0m\" 200 -\n",
      "127.0.0.1 - - [14/Jun/2021 23:52:16] \"\u001b[37mPOST /insert/bloqueslide HTTP/1.1\u001b[0m\" 200 -\n",
      "127.0.0.1 - - [14/Jun/2021 23:52:16] \"\u001b[37mPOST /insert/elementos HTTP/1.1\u001b[0m\" 200 -\n"
     ]
    },
    {
     "name": "stdout",
     "output_type": "stream",
     "text": [
      "Datos recibidos INSERT:\n",
      "{'name_var': 'undefinedCarrusel_|_cce128da-fc3c-4ab8-8733-0f93dff9b0ca1217', 'opc_type': 'Variable', 'var': 0, 'opc_data': 'String', 'id_robot': 539}\n",
      "intenatando consulta...\n",
      "consulta: select * from variables where name_var= 'undefinedCarrusel_|_cce128da-fc3c-4ab8-8733-0f93dff9b0ca1217' and opc_type= 'Variable' and var= '0' and opc_data= 'String' and id_robot= '539' ;\n",
      "Datos enviados INSERT:\n",
      "{'id_var': 1823, 'opc_type': 'Variable', 'opc_data': 'String', 'var': '0', 'id_robot': 539, 'name_var': 'undefinedCarrusel_|_cce128da-fc3c-4ab8-8733-0f93dff9b0ca1217'}\n",
      "Datos recibidos INSERT:\n",
      "{'namestate': 'Carrusel | cce128da-fc3c-4ab8-8733-0f93dff9b0ca | 19627070-4044-4254-7133-869533412022 | bSkwpaFVCmMXS8G2PR6k', 'blocktype': 'slide', 'typingtime': '1', 'default_id': 'Carrusel | cce128da-fc3c-4ab8-8733-0f93dff9b0ca | 19627070-4044-4254-7133-869533412022 | bSkwpaFVCmMXS8G2PR6k', 'id_var': 1823, 'id_robot': 539}\n",
      "intenatando consulta...\n",
      "consulta: select * from bloqueslide where namestate= 'Carrusel | cce128da-fc3c-4ab8-8733-0f93dff9b0ca | 19627070-4044-4254-7133-869533412022 | bSkwpaFVCmMXS8G2PR6k' and blocktype= 'slide' and typingtime= '1' and default_id= 'Carrusel | cce128da-fc3c-4ab8-8733-0f93dff9b0ca | 19627070-4044-4254-7133-869533412022 | bSkwpaFVCmMXS8G2PR6k' and id_var= '1823' and id_robot= '539' ;\n",
      "Datos enviados INSERT:\n",
      "{'namestate': 'Carrusel | cce128da-fc3c-4ab8-8733-0f93dff9b0ca | 19627070-4044-4254-7133-869533412022 | bSkwpaFVCmMXS8G2PR6k', 'next_id': None, 'blocktype': 'slide', 'typingtime': '1', 'default_id': 'Carrusel | cce128da-fc3c-4ab8-8733-0f93dff9b0ca | 19627070-4044-4254-7133-869533412022 | bSkwpaFVCmMXS8G2PR6k', 'id_var': '1823', 'id_block': 542, 'id_robot': 539, 'opc_nextid': None, 'pos_y': None, 'pos_x': None, 'opc_elm': None, 'tag_active': None}\n",
      "Datos recibidos INSERT:\n",
      "{'title': 'Titulo 1', 'subtitle': 'Subtitulo 1', 'image_url': 'https://jalisco.quadratin.com.mx/www/wp-content/uploads/2020/11/grupo-firme-1-1160x700.jpg', 'blocktype': 'slide', 'id_block': 542}\n",
      "intenatando consulta...\n",
      "consulta: select * from elementos where title= 'Titulo 1' and subtitle= 'Subtitulo 1' and image_url= 'https://jalisco.quadratin.com.mx/www/wp-content/uploads/2020/11/grupo-firme-1-1160x700.jpg' and blocktype= 'slide' and id_block= '542' ;\n",
      "Datos enviados INSERT:\n",
      "{'blocktype': 'slide', 'title': 'Titulo 1', 'image_url': 'https://jalisco.quadratin.com.mx/www/wp-content/uploads/2020/11/grupo-firme-1-1160x700.jpg', 'subtitle': 'Subtitulo 1', 'id_block': 542, 'id_elements': 935}\n"
     ]
    },
    {
     "name": "stderr",
     "output_type": "stream",
     "text": [
      "127.0.0.1 - - [14/Jun/2021 23:52:16] \"\u001b[37mPOST /insert/botones HTTP/1.1\u001b[0m\" 200 -\n",
      "127.0.0.1 - - [14/Jun/2021 23:52:17] \"\u001b[37mPOST /insert/botones HTTP/1.1\u001b[0m\" 200 -\n"
     ]
    },
    {
     "name": "stdout",
     "output_type": "stream",
     "text": [
      "Datos recibidos INSERT:\n",
      "{'id_elemento': '935', 'titlebutton': 'Salida 1', 'typebutton': 'postback', 'contentbutton': 'Informativo | 7e74c6f6-46db-4b00-b8b3-07aac064e1de | 98525253-9080-3718-4541-185145979160 | bSkwpaFVCmMXS8G2PR6k', 'opc_nextid': 'Informativo | 7e74c6f6-46db-4b00-b8b3-07aac064e1de | 98525253-9080-3718-4541-185145979160 | bSkwpaFVCmMXS8G2PR6k'}\n",
      "intenatando consulta...\n",
      "consulta: select * from botones where id_elemento= '935' and titlebutton= 'Salida 1' and typebutton= 'postback' and contentbutton= 'Informativo | 7e74c6f6-46db-4b00-b8b3-07aac064e1de | 98525253-9080-3718-4541-185145979160 | bSkwpaFVCmMXS8G2PR6k' and opc_nextid= 'Informativo | 7e74c6f6-46db-4b00-b8b3-07aac064e1de | 98525253-9080-3718-4541-185145979160 | bSkwpaFVCmMXS8G2PR6k' ;\n",
      "Datos enviados INSERT:\n",
      "{'id_elemento': '935', 'titlebutton': 'Salida 1', 'typebutton': 'postback', 'contentbutton': 'Informativo | 7e74c6f6-46db-4b00-b8b3-07aac064e1de | 98525253-9080-3718-4541-185145979160 | bSkwpaFVCmMXS8G2PR6k', 'id_boton': 1674, 'opc_nextid': 'Informativo | 7e74c6f6-46db-4b00-b8b3-07aac064e1de | 98525253-9080-3718-4541-185145979160 | bSkwpaFVCmMXS8G2PR6k'}\n",
      "Datos recibidos INSERT:\n",
      "{'id_elemento': '935', 'titlebutton': 'Facebook', 'typebutton': 'web_url', 'contentbutton': 'facebook.com', 'opc_nextid': 'facebook.com'}\n",
      "intenatando consulta...\n",
      "consulta: select * from botones where id_elemento= '935' and titlebutton= 'Facebook' and typebutton= 'web_url' and contentbutton= 'facebook.com' and opc_nextid= 'facebook.com' ;\n",
      "Datos enviados INSERT:\n",
      "{'id_elemento': '935', 'titlebutton': 'Facebook', 'typebutton': 'web_url', 'contentbutton': 'facebook.com', 'id_boton': 1675, 'opc_nextid': 'facebook.com'}\n",
      "Datos recibidos INSERT:\n",
      "{'next_id': 'Carrusel | cce128da-fc3c-4ab8-8733-0f93dff9b0ca | 19627070-4044-4254-7133-869533412022 | bSkwpaFVCmMXS8G2PR6k', 'namestate': 'Informativo | 34fa0024-002a-4673-8b70-6419afef7d4d | 19627070-4044-4254-7133-869533412022 | bSkwpaFVCmMXS8G2PR6k', 'contenido': 'Este es el carrusel prueba 2', 'contenttype': 'text', 'typingtime': '1', 'id_robot': 539, 'blocktype': 'informativo'}\n",
      "intenatando consulta...\n",
      "consulta: select * from bloqueinformativo where next_id= 'Carrusel | cce128da-fc3c-4ab8-8733-0f93dff9b0ca | 19627070-4044-4254-7133-869533412022 | bSkwpaFVCmMXS8G2PR6k' and namestate= 'Informativo | 34fa0024-002a-4673-8b70-6419afef7d4d | 19627070-4044-4254-7133-869533412022 | bSkwpaFVCmMXS8G2PR6k' and contenido= 'Este es el carrusel prueba 2' and contenttype= 'text' and typingtime= '1' and id_robot= '539' and blocktype= 'informativo' ;\n"
     ]
    },
    {
     "name": "stderr",
     "output_type": "stream",
     "text": [
      "127.0.0.1 - - [14/Jun/2021 23:52:17] \"\u001b[37mPOST /insert/bloqueinformativo HTTP/1.1\u001b[0m\" 200 -\n",
      "127.0.0.1 - - [14/Jun/2021 23:52:17] \"\u001b[37mPOST /insert/variables HTTP/1.1\u001b[0m\" 200 -\n",
      "127.0.0.1 - - [14/Jun/2021 23:52:17] \"\u001b[37mPOST /insert/bloqueslide HTTP/1.1\u001b[0m\" 200 -\n"
     ]
    },
    {
     "name": "stdout",
     "output_type": "stream",
     "text": [
      "Datos enviados INSERT:\n",
      "{'namestate': 'Informativo | 34fa0024-002a-4673-8b70-6419afef7d4d | 19627070-4044-4254-7133-869533412022 | bSkwpaFVCmMXS8G2PR6k', 'contenido': 'Este es el carrusel prueba 2', 'next_id': 'Carrusel | cce128da-fc3c-4ab8-8733-0f93dff9b0ca | 19627070-4044-4254-7133-869533412022 | bSkwpaFVCmMXS8G2PR6k', 'blocktype': 'informativo', 'contenttype': 'text', 'typingtime': '1', 'id_block': 2798, 'id_robot': 539, 'opc_nextid': None, 'pos_y': None, 'pos_x': None, 'tag_active': None}\n",
      "Datos recibidos INSERT:\n",
      "{'name_var': 'variableCarrCarrusel_|_5aaf3158-308e-4b01-9283-f01f32d587c91881', 'opc_type': 'Variable', 'var': 0, 'opc_data': 'String', 'id_robot': 539}\n",
      "intenatando consulta...\n",
      "consulta: select * from variables where name_var= 'variableCarrCarrusel_|_5aaf3158-308e-4b01-9283-f01f32d587c91881' and opc_type= 'Variable' and var= '0' and opc_data= 'String' and id_robot= '539' ;\n",
      "Datos enviados INSERT:\n",
      "{'id_var': 1824, 'opc_type': 'Variable', 'opc_data': 'String', 'var': '0', 'id_robot': 539, 'name_var': 'variableCarrCarrusel_|_5aaf3158-308e-4b01-9283-f01f32d587c91881'}\n",
      "Datos recibidos INSERT:\n",
      "{'namestate': 'Carrusel | 5aaf3158-308e-4b01-9283-f01f32d587c9 | 07418629-1549-9289-4157-116148457825 | bSkwpaFVCmMXS8G2PR6k', 'blocktype': 'slide', 'typingtime': '1', 'default_id': 'Carrusel | 5aaf3158-308e-4b01-9283-f01f32d587c9 | 07418629-1549-9289-4157-116148457825 | bSkwpaFVCmMXS8G2PR6k', 'id_var': 1824, 'id_robot': 539}\n",
      "intenatando consulta...\n",
      "consulta: select * from bloqueslide where namestate= 'Carrusel | 5aaf3158-308e-4b01-9283-f01f32d587c9 | 07418629-1549-9289-4157-116148457825 | bSkwpaFVCmMXS8G2PR6k' and blocktype= 'slide' and typingtime= '1' and default_id= 'Carrusel | 5aaf3158-308e-4b01-9283-f01f32d587c9 | 07418629-1549-9289-4157-116148457825 | bSkwpaFVCmMXS8G2PR6k' and id_var= '1824' and id_robot= '539' ;\n",
      "Datos enviados INSERT:\n",
      "{'namestate': 'Carrusel | 5aaf3158-308e-4b01-9283-f01f32d587c9 | 07418629-1549-9289-4157-116148457825 | bSkwpaFVCmMXS8G2PR6k', 'next_id': None, 'blocktype': 'slide', 'typingtime': '1', 'default_id': 'Carrusel | 5aaf3158-308e-4b01-9283-f01f32d587c9 | 07418629-1549-9289-4157-116148457825 | bSkwpaFVCmMXS8G2PR6k', 'id_var': '1824', 'id_block': 543, 'id_robot': 539, 'opc_nextid': None, 'pos_y': None, 'pos_x': None, 'opc_elm': None, 'tag_active': None}\n",
      "Datos recibidos INSERT:\n",
      "{'subtitle': 'Subtitulo 1', 'title': 'Titulo 1', 'image_url': 'https://sitechecker.pro/wp-content/uploads/2017/12/URL-meaning.png', 'blocktype': 'slide', 'id_block': 543}\n"
     ]
    },
    {
     "name": "stderr",
     "output_type": "stream",
     "text": [
      "127.0.0.1 - - [14/Jun/2021 23:52:17] \"\u001b[37mPOST /insert/elementos HTTP/1.1\u001b[0m\" 200 -\n",
      "127.0.0.1 - - [14/Jun/2021 23:52:17] \"\u001b[37mPOST /insert/botones HTTP/1.1\u001b[0m\" 200 -\n",
      "127.0.0.1 - - [14/Jun/2021 23:52:17] \"\u001b[37mPOST /insert/botones HTTP/1.1\u001b[0m\" 200 -\n"
     ]
    },
    {
     "name": "stdout",
     "output_type": "stream",
     "text": [
      "intenatando consulta...\n",
      "consulta: select * from elementos where subtitle= 'Subtitulo 1' and title= 'Titulo 1' and image_url= 'https://sitechecker.pro/wp-content/uploads/2017/12/URL-meaning.png' and blocktype= 'slide' and id_block= '543' ;\n",
      "Datos enviados INSERT:\n",
      "{'blocktype': 'slide', 'title': 'Titulo 1', 'image_url': 'https://sitechecker.pro/wp-content/uploads/2017/12/URL-meaning.png', 'subtitle': 'Subtitulo 1', 'id_block': 543, 'id_elements': 936}\n",
      "Datos recibidos INSERT:\n",
      "{'id_elemento': '936', 'titlebutton': 'Opcion 1', 'typebutton': 'postback', 'contentbutton': 'QuickReply | 9cd75eb1-5f87-4a23-84aa-d6de05ed56b8 | 07418629-1549-9289-4157-116148457825 | bSkwpaFVCmMXS8G2PR6k', 'opc_nextid': 'QuickReply | 9cd75eb1-5f87-4a23-84aa-d6de05ed56b8 | 07418629-1549-9289-4157-116148457825 | bSkwpaFVCmMXS8G2PR6k'}\n",
      "intenatando consulta...\n",
      "consulta: select * from botones where id_elemento= '936' and titlebutton= 'Opcion 1' and typebutton= 'postback' and contentbutton= 'QuickReply | 9cd75eb1-5f87-4a23-84aa-d6de05ed56b8 | 07418629-1549-9289-4157-116148457825 | bSkwpaFVCmMXS8G2PR6k' and opc_nextid= 'QuickReply | 9cd75eb1-5f87-4a23-84aa-d6de05ed56b8 | 07418629-1549-9289-4157-116148457825 | bSkwpaFVCmMXS8G2PR6k' ;\n",
      "Datos enviados INSERT:\n",
      "{'id_elemento': '936', 'titlebutton': 'Opcion 1', 'typebutton': 'postback', 'contentbutton': 'QuickReply | 9cd75eb1-5f87-4a23-84aa-d6de05ed56b8 | 07418629-1549-9289-4157-116148457825 | bSkwpaFVCmMXS8G2PR6k', 'id_boton': 1676, 'opc_nextid': 'QuickReply | 9cd75eb1-5f87-4a23-84aa-d6de05ed56b8 | 07418629-1549-9289-4157-116148457825 | bSkwpaFVCmMXS8G2PR6k'}\n",
      "Datos recibidos INSERT:\n",
      "{'id_elemento': '936', 'titlebutton': 'Opcion 2', 'typebutton': 'postback', 'contentbutton': 'QuickReply | f962f2fb-1047-4062-bac8-798fddc79ff2 | 07418629-1549-9289-4157-116148457825 | bSkwpaFVCmMXS8G2PR6k', 'opc_nextid': 'QuickReply | f962f2fb-1047-4062-bac8-798fddc79ff2 | 07418629-1549-9289-4157-116148457825 | bSkwpaFVCmMXS8G2PR6k'}\n",
      "intenatando consulta...\n",
      "consulta: select * from botones where id_elemento= '936' and titlebutton= 'Opcion 2' and typebutton= 'postback' and contentbutton= 'QuickReply | f962f2fb-1047-4062-bac8-798fddc79ff2 | 07418629-1549-9289-4157-116148457825 | bSkwpaFVCmMXS8G2PR6k' and opc_nextid= 'QuickReply | f962f2fb-1047-4062-bac8-798fddc79ff2 | 07418629-1549-9289-4157-116148457825 | bSkwpaFVCmMXS8G2PR6k' ;\n",
      "Datos enviados INSERT:\n",
      "{'id_elemento': '936', 'titlebutton': 'Opcion 2', 'typebutton': 'postback', 'contentbutton': 'QuickReply | f962f2fb-1047-4062-bac8-798fddc79ff2 | 07418629-1549-9289-4157-116148457825 | bSkwpaFVCmMXS8G2PR6k', 'id_boton': 1677, 'opc_nextid': 'QuickReply | f962f2fb-1047-4062-bac8-798fddc79ff2 | 07418629-1549-9289-4157-116148457825 | bSkwpaFVCmMXS8G2PR6k'}\n"
     ]
    },
    {
     "name": "stderr",
     "output_type": "stream",
     "text": [
      "127.0.0.1 - - [14/Jun/2021 23:52:17] \"\u001b[37mPOST /insert/bloqueinformativo HTTP/1.1\u001b[0m\" 200 -\n",
      "127.0.0.1 - - [14/Jun/2021 23:52:17] \"\u001b[37mPOST /insert/variables HTTP/1.1\u001b[0m\" 200 -\n"
     ]
    },
    {
     "name": "stdout",
     "output_type": "stream",
     "text": [
      "Datos recibidos INSERT:\n",
      "{'next_id': 'Input | a24590e9-9dbf-4f55-890e-66b0b0685666 | 07418629-1549-9289-4157-116148457825 | bSkwpaFVCmMXS8G2PR6k', 'namestate': 'Informativo | 98a8f39d-6761-48e7-aca7-66279cfabf40 | 07418629-1549-9289-4157-116148457825 | bSkwpaFVCmMXS8G2PR6k', 'contenido': 'Este es un bloque informativo', 'contenttype': 'text', 'typingtime': '1', 'id_robot': 539, 'blocktype': 'informativo'}\n",
      "intenatando consulta...\n",
      "consulta: select * from bloqueinformativo where next_id= 'Input | a24590e9-9dbf-4f55-890e-66b0b0685666 | 07418629-1549-9289-4157-116148457825 | bSkwpaFVCmMXS8G2PR6k' and namestate= 'Informativo | 98a8f39d-6761-48e7-aca7-66279cfabf40 | 07418629-1549-9289-4157-116148457825 | bSkwpaFVCmMXS8G2PR6k' and contenido= 'Este es un bloque informativo' and contenttype= 'text' and typingtime= '1' and id_robot= '539' and blocktype= 'informativo' ;\n",
      "Datos enviados INSERT:\n",
      "{'namestate': 'Informativo | 98a8f39d-6761-48e7-aca7-66279cfabf40 | 07418629-1549-9289-4157-116148457825 | bSkwpaFVCmMXS8G2PR6k', 'contenido': 'Este es un bloque informativo', 'next_id': 'Input | a24590e9-9dbf-4f55-890e-66b0b0685666 | 07418629-1549-9289-4157-116148457825 | bSkwpaFVCmMXS8G2PR6k', 'blocktype': 'informativo', 'contenttype': 'text', 'typingtime': '1', 'id_block': 2799, 'id_robot': 539, 'opc_nextid': None, 'pos_y': None, 'pos_x': None, 'tag_active': None}\n",
      "Datos recibidos INSERT:\n",
      "{'name_var': 'variableInputInput_|_a24590e9-9dbf-4f55-890e-66b0b06856665567', 'opc_type': 'Variable', 'var': 0, 'opc_data': 'String', 'id_robot': 539}\n",
      "intenatando consulta...\n",
      "consulta: select * from variables where name_var= 'variableInputInput_|_a24590e9-9dbf-4f55-890e-66b0b06856665567' and opc_type= 'Variable' and var= '0' and opc_data= 'String' and id_robot= '539' ;\n",
      "Datos enviados INSERT:\n",
      "{'id_var': 1825, 'opc_type': 'Variable', 'opc_data': 'String', 'var': '0', 'id_robot': 539, 'name_var': 'variableInputInput_|_a24590e9-9dbf-4f55-890e-66b0b06856665567'}\n",
      "Datos recibidos INSERT:\n",
      "{'next_id': 'Carrusel | 5aaf3158-308e-4b01-9283-f01f32d587c9 | 07418629-1549-9289-4157-116148457825 | bSkwpaFVCmMXS8G2PR6k', 'default_id': 'Input | a24590e9-9dbf-4f55-890e-66b0b0685666 | 07418629-1549-9289-4157-116148457825 | bSkwpaFVCmMXS8G2PR6k', 'namestate': 'Input | a24590e9-9dbf-4f55-890e-66b0b0685666 | 07418629-1549-9289-4157-116148457825 | bSkwpaFVCmMXS8G2PR6k', 'contenido': 'Nuevo contenido personalizado', 'typingtime': '1', 'validacion': '', 'id_robot': 539, 'id_var': 1825, 'blocktype': 'input'}\n",
      "intenatando consulta...\n",
      "consulta: select * from bloqueinput where next_id= 'Carrusel | 5aaf3158-308e-4b01-9283-f01f32d587c9 | 07418629-1549-9289-4157-116148457825 | bSkwpaFVCmMXS8G2PR6k' and default_id= 'Input | a24590e9-9dbf-4f55-890e-66b0b0685666 | 07418629-1549-9289-4157-116148457825 | bSkwpaFVCmMXS8G2PR6k' and namestate= 'Input | a24590e9-9dbf-4f55-890e-66b0b0685666 | 07418629-1549-9289-4157-116148457825 | bSkwpaFVCmMXS8G2PR6k' and contenido= 'Nuevo contenido personalizado' and typingtime= '1' and validacion= '' and id_robot= '539' and id_var= '1825' and blocktype= 'input' ;\n"
     ]
    },
    {
     "name": "stderr",
     "output_type": "stream",
     "text": [
      "127.0.0.1 - - [14/Jun/2021 23:52:17] \"\u001b[37mPOST /insert/bloqueinput HTTP/1.1\u001b[0m\" 200 -\n",
      "127.0.0.1 - - [14/Jun/2021 23:52:17] \"\u001b[37mPOST /insert/variables HTTP/1.1\u001b[0m\" 200 -\n",
      "127.0.0.1 - - [14/Jun/2021 23:52:17] \"\u001b[37mPOST /insert/bloquequickreply HTTP/1.1\u001b[0m\" 200 -\n"
     ]
    },
    {
     "name": "stdout",
     "output_type": "stream",
     "text": [
      "Datos enviados INSERT:\n",
      "{'namestate': 'Input | a24590e9-9dbf-4f55-890e-66b0b0685666 | 07418629-1549-9289-4157-116148457825 | bSkwpaFVCmMXS8G2PR6k', 'contenido': 'Nuevo contenido personalizado', 'next_id': 'Carrusel | 5aaf3158-308e-4b01-9283-f01f32d587c9 | 07418629-1549-9289-4157-116148457825 | bSkwpaFVCmMXS8G2PR6k', 'blocktype': 'input', 'contenttype': None, 'typingtime': '1', 'validacion': '', 'default_id': 'Input | a24590e9-9dbf-4f55-890e-66b0b0685666 | 07418629-1549-9289-4157-116148457825 | bSkwpaFVCmMXS8G2PR6k', 'id_var': '1825', 'id_block': 389, 'id_robot': 539, 'opc_nextid': None, 'pos_y': None, 'pos_x': None, 'tag_active': None}\n",
      "Datos recibidos INSERT:\n",
      "{'name_var': 'variableQrQuickReply_|_9cd75eb1-5f87-4a23-84aa-d6de05ed56b88808', 'opc_type': 'Variable', 'var': 0, 'opc_data': 'String', 'id_robot': 539}\n",
      "intenatando consulta...\n",
      "consulta: select * from variables where name_var= 'variableQrQuickReply_|_9cd75eb1-5f87-4a23-84aa-d6de05ed56b88808' and opc_type= 'Variable' and var= '0' and opc_data= 'String' and id_robot= '539' ;\n",
      "Datos enviados INSERT:\n",
      "{'id_var': 1826, 'opc_type': 'Variable', 'opc_data': 'String', 'var': '0', 'id_robot': 539, 'name_var': 'variableQrQuickReply_|_9cd75eb1-5f87-4a23-84aa-d6de05ed56b88808'}\n",
      "Datos recibidos INSERT:\n",
      "{'contenido': 'QUICKREPLY 1', 'opciones': 'SALIDA 1', 'next_id': 'Input | cd6d4be8-c346-4550-a26e-4bb9a7230d3b | bSkwpaFVCmMXS8G2PR6k', 'default_id': 'QuickReply | 9cd75eb1-5f87-4a23-84aa-d6de05ed56b8 | 07418629-1549-9289-4157-116148457825 | bSkwpaFVCmMXS8G2PR6k', 'namestate': 'QuickReply | 9cd75eb1-5f87-4a23-84aa-d6de05ed56b8 | 07418629-1549-9289-4157-116148457825 | bSkwpaFVCmMXS8G2PR6k', 'typingtime': '1', 'id_robot': 539, 'id_var': 1826, 'blocktype': 'quickReply'}\n",
      "intenatando consulta...\n",
      "consulta: select * from bloquequickreply where contenido= 'QUICKREPLY 1' and opciones= 'SALIDA 1' and next_id= 'Input | cd6d4be8-c346-4550-a26e-4bb9a7230d3b | bSkwpaFVCmMXS8G2PR6k' and default_id= 'QuickReply | 9cd75eb1-5f87-4a23-84aa-d6de05ed56b8 | 07418629-1549-9289-4157-116148457825 | bSkwpaFVCmMXS8G2PR6k' and namestate= 'QuickReply | 9cd75eb1-5f87-4a23-84aa-d6de05ed56b8 | 07418629-1549-9289-4157-116148457825 | bSkwpaFVCmMXS8G2PR6k' and typingtime= '1' and id_robot= '539' and id_var= '1826' and blocktype= 'quickReply' ;\n",
      "Datos enviados INSERT:\n",
      "{'namestate': 'QuickReply | 9cd75eb1-5f87-4a23-84aa-d6de05ed56b8 | 07418629-1549-9289-4157-116148457825 | bSkwpaFVCmMXS8G2PR6k', 'contenido': 'QUICKREPLY 1', 'opciones': 'SALIDA 1', 'next_id': 'Input | cd6d4be8-c346-4550-a26e-4bb9a7230d3b | bSkwpaFVCmMXS8G2PR6k', 'blocktype': 'quickReply', 'typingtime': '1', 'default_id': 'QuickReply | 9cd75eb1-5f87-4a23-84aa-d6de05ed56b8 | 07418629-1549-9289-4157-116148457825 | bSkwpaFVCmMXS8G2PR6k', 'id_var': '1826', 'id_block': 666, 'id_robot': 539, 'opc_nextid': None, 'pos_y': None, 'pos_x': None, 'tag_active': None}\n"
     ]
    },
    {
     "name": "stderr",
     "output_type": "stream",
     "text": [
      "127.0.0.1 - - [14/Jun/2021 23:52:18] \"\u001b[37mPOST /insert/variables HTTP/1.1\u001b[0m\" 200 -\n",
      "127.0.0.1 - - [14/Jun/2021 23:52:18] \"\u001b[37mPOST /insert/bloquequickreply HTTP/1.1\u001b[0m\" 200 -\n"
     ]
    },
    {
     "name": "stdout",
     "output_type": "stream",
     "text": [
      "Datos recibidos INSERT:\n",
      "{'name_var': 'variableQrQuickReply_|_f962f2fb-1047-4062-bac8-798fddc79ff26836', 'opc_type': 'Variable', 'var': 0, 'opc_data': 'String', 'id_robot': 539}\n",
      "intenatando consulta...\n",
      "consulta: select * from variables where name_var= 'variableQrQuickReply_|_f962f2fb-1047-4062-bac8-798fddc79ff26836' and opc_type= 'Variable' and var= '0' and opc_data= 'String' and id_robot= '539' ;\n",
      "Datos enviados INSERT:\n",
      "{'id_var': 1827, 'opc_type': 'Variable', 'opc_data': 'String', 'var': '0', 'id_robot': 539, 'name_var': 'variableQrQuickReply_|_f962f2fb-1047-4062-bac8-798fddc79ff26836'}\n",
      "Datos recibidos INSERT:\n",
      "{'contenido': 'quickreply 2', 'opciones': 'SALIDA 2', 'next_id': 'Input | cd6d4be8-c346-4550-a26e-4bb9a7230d3b | bSkwpaFVCmMXS8G2PR6k', 'default_id': 'QuickReply | f962f2fb-1047-4062-bac8-798fddc79ff2 | 07418629-1549-9289-4157-116148457825 | bSkwpaFVCmMXS8G2PR6k', 'namestate': 'QuickReply | f962f2fb-1047-4062-bac8-798fddc79ff2 | 07418629-1549-9289-4157-116148457825 | bSkwpaFVCmMXS8G2PR6k', 'typingtime': '1', 'id_robot': 539, 'id_var': 1827, 'blocktype': 'quickReply'}\n",
      "intenatando consulta...\n",
      "consulta: select * from bloquequickreply where contenido= 'quickreply 2' and opciones= 'SALIDA 2' and next_id= 'Input | cd6d4be8-c346-4550-a26e-4bb9a7230d3b | bSkwpaFVCmMXS8G2PR6k' and default_id= 'QuickReply | f962f2fb-1047-4062-bac8-798fddc79ff2 | 07418629-1549-9289-4157-116148457825 | bSkwpaFVCmMXS8G2PR6k' and namestate= 'QuickReply | f962f2fb-1047-4062-bac8-798fddc79ff2 | 07418629-1549-9289-4157-116148457825 | bSkwpaFVCmMXS8G2PR6k' and typingtime= '1' and id_robot= '539' and id_var= '1827' and blocktype= 'quickReply' ;\n",
      "Datos enviados INSERT:\n",
      "{'namestate': 'QuickReply | f962f2fb-1047-4062-bac8-798fddc79ff2 | 07418629-1549-9289-4157-116148457825 | bSkwpaFVCmMXS8G2PR6k', 'contenido': 'quickreply 2', 'opciones': 'SALIDA 2', 'next_id': 'Input | cd6d4be8-c346-4550-a26e-4bb9a7230d3b | bSkwpaFVCmMXS8G2PR6k', 'blocktype': 'quickReply', 'typingtime': '1', 'default_id': 'QuickReply | f962f2fb-1047-4062-bac8-798fddc79ff2 | 07418629-1549-9289-4157-116148457825 | bSkwpaFVCmMXS8G2PR6k', 'id_var': '1827', 'id_block': 667, 'id_robot': 539, 'opc_nextid': None, 'pos_y': None, 'pos_x': None, 'tag_active': None}\n",
      "Datos recibidos INSERT:\n",
      "{'next_id': 'Informativo | 98a8f39d-6761-48e7-aca7-66279cfabf40 | 07418629-1549-9289-4157-116148457825 | bSkwpaFVCmMXS8G2PR6k', 'namestate': 'Informativo | d9897d01-e0ce-44bd-ba3d-22973a7d74fd | bSkwpaFVCmMXS8G2PR6k', 'contenido': 'Soy el chatbot del TT-A056', 'contenttype': 'text', 'typingtime': '1', 'id_robot': 539, 'blocktype': 'informativo'}\n",
      "intenatando consulta...\n",
      "consulta: select * from bloqueinformativo where next_id= 'Informativo | 98a8f39d-6761-48e7-aca7-66279cfabf40 | 07418629-1549-9289-4157-116148457825 | bSkwpaFVCmMXS8G2PR6k' and namestate= 'Informativo | d9897d01-e0ce-44bd-ba3d-22973a7d74fd | bSkwpaFVCmMXS8G2PR6k' and contenido= 'Soy el chatbot del TT-A056' and contenttype= 'text' and typingtime= '1' and id_robot= '539' and blocktype= 'informativo' ;\n"
     ]
    },
    {
     "name": "stderr",
     "output_type": "stream",
     "text": [
      "127.0.0.1 - - [14/Jun/2021 23:52:18] \"\u001b[37mPOST /insert/bloqueinformativo HTTP/1.1\u001b[0m\" 200 -\n",
      "127.0.0.1 - - [14/Jun/2021 23:52:18] \"\u001b[37mPOST /insert/bloqueinformativo HTTP/1.1\u001b[0m\" 200 -\n",
      "127.0.0.1 - - [14/Jun/2021 23:52:18] \"\u001b[37mPOST /insert/variables HTTP/1.1\u001b[0m\" 200 -\n"
     ]
    },
    {
     "name": "stdout",
     "output_type": "stream",
     "text": [
      "Datos enviados INSERT:\n",
      "{'namestate': 'Informativo | d9897d01-e0ce-44bd-ba3d-22973a7d74fd | bSkwpaFVCmMXS8G2PR6k', 'contenido': 'Soy el chatbot del TT-A056', 'next_id': 'Informativo | 98a8f39d-6761-48e7-aca7-66279cfabf40 | 07418629-1549-9289-4157-116148457825 | bSkwpaFVCmMXS8G2PR6k', 'blocktype': 'informativo', 'contenttype': 'text', 'typingtime': '1', 'id_block': 2800, 'id_robot': 539, 'opc_nextid': None, 'pos_y': None, 'pos_x': None, 'tag_active': None}\n",
      "Datos recibidos INSERT:\n",
      "{'next_id': 'Salida', 'namestate': 'Informativo | eb6262bf-2b65-4dc7-9d6a-9a8544083dde | bSkwpaFVCmMXS8G2PR6k', 'contenido': 'Adios', 'contenttype': 'text', 'typingtime': '1', 'id_robot': 539, 'blocktype': 'informativo'}\n",
      "intenatando consulta...\n",
      "consulta: select * from bloqueinformativo where next_id= 'Salida' and namestate= 'Informativo | eb6262bf-2b65-4dc7-9d6a-9a8544083dde | bSkwpaFVCmMXS8G2PR6k' and contenido= 'Adios' and contenttype= 'text' and typingtime= '1' and id_robot= '539' and blocktype= 'informativo' ;\n",
      "Datos enviados INSERT:\n",
      "{'namestate': 'Informativo | eb6262bf-2b65-4dc7-9d6a-9a8544083dde | bSkwpaFVCmMXS8G2PR6k', 'contenido': 'Adios', 'next_id': 'Salida', 'blocktype': 'informativo', 'contenttype': 'text', 'typingtime': '1', 'id_block': 2801, 'id_robot': 539, 'opc_nextid': None, 'pos_y': None, 'pos_x': None, 'tag_active': None}\n",
      "Datos recibidos INSERT:\n",
      "{'name_var': 'variableInputInput_|_cd6d4be8-c346-4550-a26e-4bb9a7230d3b9167', 'opc_type': 'Variable', 'var': 0, 'opc_data': 'String', 'id_robot': 539}\n",
      "intenatando consulta...\n",
      "consulta: select * from variables where name_var= 'variableInputInput_|_cd6d4be8-c346-4550-a26e-4bb9a7230d3b9167' and opc_type= 'Variable' and var= '0' and opc_data= 'String' and id_robot= '539' ;\n",
      "Datos enviados INSERT:\n",
      "{'id_var': 1828, 'opc_type': 'Variable', 'opc_data': 'String', 'var': '0', 'id_robot': 539, 'name_var': 'variableInputInput_|_cd6d4be8-c346-4550-a26e-4bb9a7230d3b9167'}\n",
      "Datos recibidos INSERT:\n",
      "{'next_id': 'Informativo | 34fa0024-002a-4673-8b70-6419afef7d4d | 19627070-4044-4254-7133-869533412022 | bSkwpaFVCmMXS8G2PR6k', 'default_id': 'Input | cd6d4be8-c346-4550-a26e-4bb9a7230d3b | bSkwpaFVCmMXS8G2PR6k', 'namestate': 'Input | cd6d4be8-c346-4550-a26e-4bb9a7230d3b | bSkwpaFVCmMXS8G2PR6k', 'contenido': 'Ingresa tu nombre', 'typingtime': '1', 'validacion': '', 'id_robot': 539, 'id_var': 1828, 'blocktype': 'input'}\n"
     ]
    },
    {
     "name": "stderr",
     "output_type": "stream",
     "text": [
      "127.0.0.1 - - [14/Jun/2021 23:52:18] \"\u001b[37mPOST /insert/bloqueinput HTTP/1.1\u001b[0m\" 200 -\n",
      "127.0.0.1 - - [14/Jun/2021 23:52:18] \"\u001b[37mPOST /insert/bloqueinformativo HTTP/1.1\u001b[0m\" 200 -\n"
     ]
    },
    {
     "name": "stdout",
     "output_type": "stream",
     "text": [
      "intenatando consulta...\n",
      "consulta: select * from bloqueinput where next_id= 'Informativo | 34fa0024-002a-4673-8b70-6419afef7d4d | 19627070-4044-4254-7133-869533412022 | bSkwpaFVCmMXS8G2PR6k' and default_id= 'Input | cd6d4be8-c346-4550-a26e-4bb9a7230d3b | bSkwpaFVCmMXS8G2PR6k' and namestate= 'Input | cd6d4be8-c346-4550-a26e-4bb9a7230d3b | bSkwpaFVCmMXS8G2PR6k' and contenido= 'Ingresa tu nombre' and typingtime= '1' and validacion= '' and id_robot= '539' and id_var= '1828' and blocktype= 'input' ;\n",
      "Datos enviados INSERT:\n",
      "{'namestate': 'Input | cd6d4be8-c346-4550-a26e-4bb9a7230d3b | bSkwpaFVCmMXS8G2PR6k', 'contenido': 'Ingresa tu nombre', 'next_id': 'Informativo | 34fa0024-002a-4673-8b70-6419afef7d4d | 19627070-4044-4254-7133-869533412022 | bSkwpaFVCmMXS8G2PR6k', 'blocktype': 'input', 'contenttype': None, 'typingtime': '1', 'validacion': '', 'default_id': 'Input | cd6d4be8-c346-4550-a26e-4bb9a7230d3b | bSkwpaFVCmMXS8G2PR6k', 'id_var': '1828', 'id_block': 390, 'id_robot': 539, 'opc_nextid': None, 'pos_y': None, 'pos_x': None, 'tag_active': None}\n",
      "Datos recibidos INSERT:\n",
      "{'next_id': '', 'namestate': 'Salida', 'contenido': '', 'contenttype': 'text', 'typingtime': 3, 'id_robot': 539, 'blocktype': 'informativo'}\n",
      "intenatando consulta...\n",
      "consulta: select * from bloqueinformativo where next_id= '' and namestate= 'Salida' and contenido= '' and contenttype= 'text' and typingtime= '3' and id_robot= '539' and blocktype= 'informativo' ;\n",
      "Datos enviados INSERT:\n",
      "{'namestate': 'Salida', 'contenido': '', 'next_id': '', 'blocktype': 'informativo', 'contenttype': 'text', 'typingtime': '3', 'id_block': 2802, 'id_robot': 539, 'opc_nextid': None, 'pos_y': None, 'pos_x': None, 'tag_active': None}\n"
     ]
    },
    {
     "name": "stderr",
     "output_type": "stream",
     "text": [
      "127.0.0.1 - - [14/Jun/2021 23:54:17] \"\u001b[37mGET /select/robots HTTP/1.1\u001b[0m\" 200 -\n",
      "127.0.0.1 - - [14/Jun/2021 23:54:17] \"\u001b[37mGET /select/bloqueslide HTTP/1.1\u001b[0m\" 200 -\n",
      "127.0.0.1 - - [14/Jun/2021 23:54:17] \"\u001b[37mGET /select/elementos HTTP/1.1\u001b[0m\" 200 -\n",
      "127.0.0.1 - - [14/Jun/2021 23:54:17] \"\u001b[37mGET /select/elementos HTTP/1.1\u001b[0m\" 200 -\n"
     ]
    },
    {
     "name": "stdout",
     "output_type": "stream",
     "text": [
      "Datos recibidos SELECT:\n",
      "{'name_robot': 'Chatbot TT 2021', 'id_face': '110373671266869', 'block_ini': 'Informativo | a0be25bb-4eb4-49c2-830f-6eb23d64966c | ZG7udwy8rzhE5xtUnOGl', 'type_blocki': 'informativo', 'access_token': 'EAALZCCZBzPwfkBAAtF3N1x3GCvg9UuN7alfdTNGmZC5d96EY7vYBM6hQQedeMtNTZAWxFVFBmRXfT2lp3m970ZCDZBhelEyxvK6PN9gHzEXZBbdxvqXqETQzUffJynrycHPnBBR5GtxJl2ulvP0uXrP0fTyoEmQ5GchMN0ckdunXK6MEd1Q40Cb', 'id_user': 'charlygoldcruz@gmail.com', 'api_nlp': 'http://localhost:8282/'}\n",
      "intenatando consulta...\n",
      "consulta: select * from robots where id_face = '110373671266869';\n",
      "Datos enviados SELECT:\n",
      "{'name_robot': 'Chatbot TT 2021', 'id_face': '110373671266869', 'block_ini': 'Informativo | a0be25bb-4eb4-49c2-830f-6eb23d64966c | ZG7udwy8rzhE5xtUnOGl', 'type_blocki': 'informativo', 'access_token': 'EAALZCCZBzPwfkBAAtF3N1x3GCvg9UuN7alfdTNGmZC5d96EY7vYBM6hQQedeMtNTZAWxFVFBmRXfT2lp3m970ZCDZBhelEyxvK6PN9gHzEXZBbdxvqXqETQzUffJynrycHPnBBR5GtxJl2ulvP0uXrP0fTyoEmQ5GchMN0ckdunXK6MEd1Q40Cb', 'api_nlp': 'http://localhost:8282/', 'id_robot': 538, 'id_user': 'charlygoldcruz@gmail.com'}\n",
      "Datos recibidos SELECT:\n",
      "{'id_robot': '538'}\n",
      "intenatando consulta...\n",
      "consulta: select * from bloqueslide where id_robot= '538' ;\n",
      "Datos enviados SELECT:\n",
      "[{'namestate': 'Carrusel | 5aaf3158-308e-4b01-9283-f01f32d587c9 | 96628859-0899-7537-4503-489244348545 | ZG7udwy8rzhE5xtUnOGl', 'next_id': 'QuickReply | 9cd75eb1-5f87-4a23-84aa-d6de05ed56b8 | 96628859-0899-7537-4503-489244348545 | ZG7udwy8rzhE5xtUnOGl,QuickReply | f962f2fb-1047-4062-bac8-798fddc79ff2 | 96628859-0899-7537-4503-489244348545 | ZG7udwy8rzhE5xtUnOGl', 'blocktype': 'slide', 'typingtime': '1', 'default_id': 'Carrusel | 5aaf3158-308e-4b01-9283-f01f32d587c9 | 96628859-0899-7537-4503-489244348545 | ZG7udwy8rzhE5xtUnOGl', 'id_var': '1816', 'id_block': 538, 'id_robot': 538, 'opc_nextid': None, 'pos_y': None, 'pos_x': None, 'opc_elm': None, 'tag_active': None}, {'namestate': 'Carrusel | cce128da-fc3c-4ab8-8733-0f93dff9b0ca | 55686726-3982-4003-0323-821800355990 | ZG7udwy8rzhE5xtUnOGl', 'next_id': 'Informativo | 72991cca-745b-4886-8ac4-c92d730c134a | ZG7udwy8rzhE5xtUnOGl,facebook.com', 'blocktype': 'slide', 'typingtime': '1', 'default_id': 'Carrusel | cce128da-fc3c-4ab8-8733-0f93dff9b0ca | 55686726-3982-4003-0323-821800355990 | ZG7udwy8rzhE5xtUnOGl', 'id_var': '1820', 'id_block': 539, 'id_robot': 538, 'opc_nextid': None, 'pos_y': None, 'pos_x': None, 'opc_elm': None, 'tag_active': None}, {'namestate': 'Carrusel | cce128da-fc3c-4ab8-8733-0f93dff9b0ca | 36067394-2558-1046-0765-010229045532 | ZG7udwy8rzhE5xtUnOGl', 'next_id': 'Informativo | 72991cca-745b-4886-8ac4-c92d730c134a | ZG7udwy8rzhE5xtUnOGl,facebook.com', 'blocktype': 'slide', 'typingtime': '1', 'default_id': 'Carrusel | cce128da-fc3c-4ab8-8733-0f93dff9b0ca | 36067394-2558-1046-0765-010229045532 | ZG7udwy8rzhE5xtUnOGl', 'id_var': '1821', 'id_block': 540, 'id_robot': 538, 'opc_nextid': None, 'pos_y': None, 'pos_x': None, 'opc_elm': None, 'tag_active': None}]\n",
      "Datos recibidos SELECT:\n",
      "{'id_block': 538}\n",
      "intenatando consulta...\n",
      "consulta: select * from elementos where id_block= '538' ;\n",
      "Datos enviados SELECT:\n",
      "{'blocktype': 'slide', 'title': 'Titulo 1', 'image_url': 'https://sitechecker.pro/wp-content/uploads/2017/12/URL-meaning.png', 'subtitle': 'Subtitulo 1', 'id_block': 538, 'id_elements': 929}\n",
      "Datos recibidos SELECT:\n",
      "{'id_block': 539}\n",
      "intenatando consulta...\n",
      "consulta: select * from elementos where id_block= '539' ;\n",
      "Datos enviados SELECT:\n",
      "{'blocktype': 'slide', 'title': 'Titulo 1', 'image_url': 'https://jalisco.quadratin.com.mx/www/wp-content/uploads/2020/11/grupo-firme-1-1160x700.jpg', 'subtitle': 'Subtitulo 1', 'id_block': 539, 'id_elements': 930}\n"
     ]
    },
    {
     "name": "stderr",
     "output_type": "stream",
     "text": [
      "127.0.0.1 - - [14/Jun/2021 23:54:17] \"\u001b[37mGET /select/elementos HTTP/1.1\u001b[0m\" 200 -\n",
      "127.0.0.1 - - [14/Jun/2021 23:54:17] \"\u001b[37mPOST /insert/variables HTTP/1.1\u001b[0m\" 200 -\n"
     ]
    },
    {
     "name": "stdout",
     "output_type": "stream",
     "text": [
      "Datos recibidos SELECT:\n",
      "{'id_block': 540}\n",
      "intenatando consulta...\n",
      "consulta: select * from elementos where id_block= '540' ;\n",
      "Datos enviados SELECT:\n",
      "{'blocktype': 'slide', 'title': 'Titulo 1', 'image_url': 'https://jalisco.quadratin.com.mx/www/wp-content/uploads/2020/11/grupo-firme-1-1160x700.jpg', 'subtitle': 'Subtitulo 1', 'id_block': 540, 'id_elements': 931}\n",
      "Datos recibidos INSERT:\n",
      "{'name_var': 'variableCarrCarrusel_|_5aaf3158-308e-4b01-9283-f01f32d587c92137', 'opc_type': 'Variable', 'var': 0, 'opc_data': 'String', 'id_robot': 538}\n",
      "intenatando consulta...\n",
      "consulta: select * from variables where name_var= 'variableCarrCarrusel_|_5aaf3158-308e-4b01-9283-f01f32d587c92137' and opc_type= 'Variable' and var= '0' and opc_data= 'String' and id_robot= '538' ;\n",
      "Datos enviados INSERT:\n",
      "{'id_var': 1829, 'opc_type': 'Variable', 'opc_data': 'String', 'var': '0', 'id_robot': 538, 'name_var': 'variableCarrCarrusel_|_5aaf3158-308e-4b01-9283-f01f32d587c92137'}\n",
      "Datos recibidos INSERT:\n",
      "{'namestate': 'Carrusel | 5aaf3158-308e-4b01-9283-f01f32d587c9 | 96628859-0899-7537-4503-489244348545 | ZG7udwy8rzhE5xtUnOGl', 'blocktype': 'slide', 'typingtime': '1', 'default_id': 'Carrusel | 5aaf3158-308e-4b01-9283-f01f32d587c9 | 96628859-0899-7537-4503-489244348545 | ZG7udwy8rzhE5xtUnOGl', 'id_var': 1829, 'id_robot': 538}\n"
     ]
    },
    {
     "name": "stderr",
     "output_type": "stream",
     "text": [
      "127.0.0.1 - - [14/Jun/2021 23:54:17] \"\u001b[37mPOST /insert/bloqueslide HTTP/1.1\u001b[0m\" 200 -\n",
      "127.0.0.1 - - [14/Jun/2021 23:54:18] \"\u001b[37mPOST /insert/elementos HTTP/1.1\u001b[0m\" 200 -\n",
      "127.0.0.1 - - [14/Jun/2021 23:54:18] \"\u001b[37mPOST /insert/botones HTTP/1.1\u001b[0m\" 200 -\n"
     ]
    },
    {
     "name": "stdout",
     "output_type": "stream",
     "text": [
      "intenatando consulta...\n",
      "consulta: select * from bloqueslide where namestate= 'Carrusel | 5aaf3158-308e-4b01-9283-f01f32d587c9 | 96628859-0899-7537-4503-489244348545 | ZG7udwy8rzhE5xtUnOGl' and blocktype= 'slide' and typingtime= '1' and default_id= 'Carrusel | 5aaf3158-308e-4b01-9283-f01f32d587c9 | 96628859-0899-7537-4503-489244348545 | ZG7udwy8rzhE5xtUnOGl' and id_var= '1829' and id_robot= '538' ;\n",
      "Datos enviados INSERT:\n",
      "{'namestate': 'Carrusel | 5aaf3158-308e-4b01-9283-f01f32d587c9 | 96628859-0899-7537-4503-489244348545 | ZG7udwy8rzhE5xtUnOGl', 'next_id': None, 'blocktype': 'slide', 'typingtime': '1', 'default_id': 'Carrusel | 5aaf3158-308e-4b01-9283-f01f32d587c9 | 96628859-0899-7537-4503-489244348545 | ZG7udwy8rzhE5xtUnOGl', 'id_var': '1829', 'id_block': 544, 'id_robot': 538, 'opc_nextid': None, 'pos_y': None, 'pos_x': None, 'opc_elm': None, 'tag_active': None}\n",
      "Datos recibidos INSERT:\n",
      "{'image_url': 'https://sitechecker.pro/wp-content/uploads/2017/12/URL-meaning.png', 'title': 'Titulo 1', 'subtitle': 'Subtitulo 1', 'blocktype': 'slide', 'id_block': 544}\n",
      "intenatando consulta...\n",
      "consulta: select * from elementos where image_url= 'https://sitechecker.pro/wp-content/uploads/2017/12/URL-meaning.png' and title= 'Titulo 1' and subtitle= 'Subtitulo 1' and blocktype= 'slide' and id_block= '544' ;\n",
      "Datos enviados INSERT:\n",
      "{'blocktype': 'slide', 'title': 'Titulo 1', 'image_url': 'https://sitechecker.pro/wp-content/uploads/2017/12/URL-meaning.png', 'subtitle': 'Subtitulo 1', 'id_block': 544, 'id_elements': 937}\n",
      "Datos recibidos INSERT:\n",
      "{'id_elemento': '937', 'titlebutton': 'Opcion 1', 'typebutton': 'postback', 'contentbutton': 'QuickReply | 9cd75eb1-5f87-4a23-84aa-d6de05ed56b8 | 96628859-0899-7537-4503-489244348545 | ZG7udwy8rzhE5xtUnOGl', 'opc_nextid': 'QuickReply | 9cd75eb1-5f87-4a23-84aa-d6de05ed56b8 | 96628859-0899-7537-4503-489244348545 | ZG7udwy8rzhE5xtUnOGl'}\n",
      "intenatando consulta...\n",
      "consulta: select * from botones where id_elemento= '937' and titlebutton= 'Opcion 1' and typebutton= 'postback' and contentbutton= 'QuickReply | 9cd75eb1-5f87-4a23-84aa-d6de05ed56b8 | 96628859-0899-7537-4503-489244348545 | ZG7udwy8rzhE5xtUnOGl' and opc_nextid= 'QuickReply | 9cd75eb1-5f87-4a23-84aa-d6de05ed56b8 | 96628859-0899-7537-4503-489244348545 | ZG7udwy8rzhE5xtUnOGl' ;\n",
      "Datos enviados INSERT:\n",
      "{'id_elemento': '937', 'titlebutton': 'Opcion 1', 'typebutton': 'postback', 'contentbutton': 'QuickReply | 9cd75eb1-5f87-4a23-84aa-d6de05ed56b8 | 96628859-0899-7537-4503-489244348545 | ZG7udwy8rzhE5xtUnOGl', 'id_boton': 1678, 'opc_nextid': 'QuickReply | 9cd75eb1-5f87-4a23-84aa-d6de05ed56b8 | 96628859-0899-7537-4503-489244348545 | ZG7udwy8rzhE5xtUnOGl'}\n",
      "Datos recibidos INSERT:\n",
      "{'id_elemento': '937', 'titlebutton': 'Opcion 2', 'typebutton': 'postback', 'contentbutton': 'QuickReply | f962f2fb-1047-4062-bac8-798fddc79ff2 | 96628859-0899-7537-4503-489244348545 | ZG7udwy8rzhE5xtUnOGl', 'opc_nextid': 'QuickReply | f962f2fb-1047-4062-bac8-798fddc79ff2 | 96628859-0899-7537-4503-489244348545 | ZG7udwy8rzhE5xtUnOGl'}\n"
     ]
    },
    {
     "name": "stderr",
     "output_type": "stream",
     "text": [
      "127.0.0.1 - - [14/Jun/2021 23:54:18] \"\u001b[37mPOST /insert/botones HTTP/1.1\u001b[0m\" 200 -\n",
      "127.0.0.1 - - [14/Jun/2021 23:54:18] \"\u001b[37mPOST /insert/bloqueinformativo HTTP/1.1\u001b[0m\" 200 -\n"
     ]
    },
    {
     "name": "stdout",
     "output_type": "stream",
     "text": [
      "intenatando consulta...\n",
      "consulta: select * from botones where id_elemento= '937' and titlebutton= 'Opcion 2' and typebutton= 'postback' and contentbutton= 'QuickReply | f962f2fb-1047-4062-bac8-798fddc79ff2 | 96628859-0899-7537-4503-489244348545 | ZG7udwy8rzhE5xtUnOGl' and opc_nextid= 'QuickReply | f962f2fb-1047-4062-bac8-798fddc79ff2 | 96628859-0899-7537-4503-489244348545 | ZG7udwy8rzhE5xtUnOGl' ;\n",
      "Datos enviados INSERT:\n",
      "{'id_elemento': '937', 'titlebutton': 'Opcion 2', 'typebutton': 'postback', 'contentbutton': 'QuickReply | f962f2fb-1047-4062-bac8-798fddc79ff2 | 96628859-0899-7537-4503-489244348545 | ZG7udwy8rzhE5xtUnOGl', 'id_boton': 1679, 'opc_nextid': 'QuickReply | f962f2fb-1047-4062-bac8-798fddc79ff2 | 96628859-0899-7537-4503-489244348545 | ZG7udwy8rzhE5xtUnOGl'}\n",
      "Datos recibidos INSERT:\n",
      "{'next_id': 'Carrusel | 5aaf3158-308e-4b01-9283-f01f32d587c9 | 96628859-0899-7537-4503-489244348545 | ZG7udwy8rzhE5xtUnOGl', 'namestate': 'Informativo | 98a8f39d-6761-48e7-aca7-66279cfabf40 | 96628859-0899-7537-4503-489244348545 | ZG7udwy8rzhE5xtUnOGl', 'contenido': 'Este es un bloque informativo', 'contenttype': 'text', 'typingtime': '1', 'id_robot': 538, 'blocktype': 'informativo'}\n",
      "intenatando consulta...\n",
      "consulta: select * from bloqueinformativo where next_id= 'Carrusel | 5aaf3158-308e-4b01-9283-f01f32d587c9 | 96628859-0899-7537-4503-489244348545 | ZG7udwy8rzhE5xtUnOGl' and namestate= 'Informativo | 98a8f39d-6761-48e7-aca7-66279cfabf40 | 96628859-0899-7537-4503-489244348545 | ZG7udwy8rzhE5xtUnOGl' and contenido= 'Este es un bloque informativo' and contenttype= 'text' and typingtime= '1' and id_robot= '538' and blocktype= 'informativo' ;\n",
      "Datos enviados INSERT:\n",
      "{'namestate': 'Informativo | 98a8f39d-6761-48e7-aca7-66279cfabf40 | 96628859-0899-7537-4503-489244348545 | ZG7udwy8rzhE5xtUnOGl', 'contenido': 'Este es un bloque informativo', 'next_id': 'Carrusel | 5aaf3158-308e-4b01-9283-f01f32d587c9 | 96628859-0899-7537-4503-489244348545 | ZG7udwy8rzhE5xtUnOGl', 'blocktype': 'informativo', 'contenttype': 'text', 'typingtime': '1', 'id_block': 2803, 'id_robot': 538, 'opc_nextid': None, 'pos_y': None, 'pos_x': None, 'tag_active': None}\n",
      "Datos recibidos INSERT:\n",
      "{'name_var': 'variableQrQuickReply_|_9cd75eb1-5f87-4a23-84aa-d6de05ed56b88129', 'opc_type': 'Variable', 'var': 0, 'opc_data': 'String', 'id_robot': 538}\n",
      "intenatando consulta...\n",
      "consulta: select * from variables where name_var= 'variableQrQuickReply_|_9cd75eb1-5f87-4a23-84aa-d6de05ed56b88129' and opc_type= 'Variable' and var= '0' and opc_data= 'String' and id_robot= '538' ;\n"
     ]
    },
    {
     "name": "stderr",
     "output_type": "stream",
     "text": [
      "127.0.0.1 - - [14/Jun/2021 23:54:18] \"\u001b[37mPOST /insert/variables HTTP/1.1\u001b[0m\" 200 -\n",
      "127.0.0.1 - - [14/Jun/2021 23:54:18] \"\u001b[37mPOST /insert/bloquequickreply HTTP/1.1\u001b[0m\" 200 -\n",
      "127.0.0.1 - - [14/Jun/2021 23:54:18] \"\u001b[37mPOST /insert/variables HTTP/1.1\u001b[0m\" 200 -\n"
     ]
    },
    {
     "name": "stdout",
     "output_type": "stream",
     "text": [
      "Datos enviados INSERT:\n",
      "{'id_var': 1830, 'opc_type': 'Variable', 'opc_data': 'String', 'var': '0', 'id_robot': 538, 'name_var': 'variableQrQuickReply_|_9cd75eb1-5f87-4a23-84aa-d6de05ed56b88129'}\n",
      "Datos recibidos INSERT:\n",
      "{'contenido': 'QUICKREPLY 1', 'opciones': 'SALIDA 1', 'next_id': 'Informativo | 34fa0024-002a-4673-8b70-6419afef7d4d | 55686726-3982-4003-0323-821800355990 | ZG7udwy8rzhE5xtUnOGl', 'default_id': 'QuickReply | 9cd75eb1-5f87-4a23-84aa-d6de05ed56b8 | 96628859-0899-7537-4503-489244348545 | ZG7udwy8rzhE5xtUnOGl', 'namestate': 'QuickReply | 9cd75eb1-5f87-4a23-84aa-d6de05ed56b8 | 96628859-0899-7537-4503-489244348545 | ZG7udwy8rzhE5xtUnOGl', 'typingtime': '1', 'id_robot': 538, 'id_var': 1830, 'blocktype': 'quickReply'}\n",
      "intenatando consulta...\n",
      "consulta: select * from bloquequickreply where contenido= 'QUICKREPLY 1' and opciones= 'SALIDA 1' and next_id= 'Informativo | 34fa0024-002a-4673-8b70-6419afef7d4d | 55686726-3982-4003-0323-821800355990 | ZG7udwy8rzhE5xtUnOGl' and default_id= 'QuickReply | 9cd75eb1-5f87-4a23-84aa-d6de05ed56b8 | 96628859-0899-7537-4503-489244348545 | ZG7udwy8rzhE5xtUnOGl' and namestate= 'QuickReply | 9cd75eb1-5f87-4a23-84aa-d6de05ed56b8 | 96628859-0899-7537-4503-489244348545 | ZG7udwy8rzhE5xtUnOGl' and typingtime= '1' and id_robot= '538' and id_var= '1830' and blocktype= 'quickReply' ;\n",
      "Datos enviados INSERT:\n",
      "{'namestate': 'QuickReply | 9cd75eb1-5f87-4a23-84aa-d6de05ed56b8 | 96628859-0899-7537-4503-489244348545 | ZG7udwy8rzhE5xtUnOGl', 'contenido': 'QUICKREPLY 1', 'opciones': 'SALIDA 1', 'next_id': 'Informativo | 34fa0024-002a-4673-8b70-6419afef7d4d | 55686726-3982-4003-0323-821800355990 | ZG7udwy8rzhE5xtUnOGl', 'blocktype': 'quickReply', 'typingtime': '1', 'default_id': 'QuickReply | 9cd75eb1-5f87-4a23-84aa-d6de05ed56b8 | 96628859-0899-7537-4503-489244348545 | ZG7udwy8rzhE5xtUnOGl', 'id_var': '1830', 'id_block': 668, 'id_robot': 538, 'opc_nextid': None, 'pos_y': None, 'pos_x': None, 'tag_active': None}\n",
      "Datos recibidos INSERT:\n",
      "{'name_var': 'variableQrQuickReply_|_f962f2fb-1047-4062-bac8-798fddc79ff25285', 'opc_type': 'Variable', 'var': 0, 'opc_data': 'String', 'id_robot': 538}\n",
      "intenatando consulta...\n",
      "consulta: select * from variables where name_var= 'variableQrQuickReply_|_f962f2fb-1047-4062-bac8-798fddc79ff25285' and opc_type= 'Variable' and var= '0' and opc_data= 'String' and id_robot= '538' ;\n",
      "Datos enviados INSERT:\n",
      "{'id_var': 1831, 'opc_type': 'Variable', 'opc_data': 'String', 'var': '0', 'id_robot': 538, 'name_var': 'variableQrQuickReply_|_f962f2fb-1047-4062-bac8-798fddc79ff25285'}\n",
      "Datos recibidos INSERT:\n",
      "{'contenido': 'quickreply 2', 'opciones': 'SALIDA 2', 'next_id': 'Informativo | 34fa0024-002a-4673-8b70-6419afef7d4d | 36067394-2558-1046-0765-010229045532 | ZG7udwy8rzhE5xtUnOGl', 'default_id': 'QuickReply | f962f2fb-1047-4062-bac8-798fddc79ff2 | 96628859-0899-7537-4503-489244348545 | ZG7udwy8rzhE5xtUnOGl', 'namestate': 'QuickReply | f962f2fb-1047-4062-bac8-798fddc79ff2 | 96628859-0899-7537-4503-489244348545 | ZG7udwy8rzhE5xtUnOGl', 'typingtime': '1', 'id_robot': 538, 'id_var': 1831, 'blocktype': 'quickReply'}\n"
     ]
    },
    {
     "name": "stderr",
     "output_type": "stream",
     "text": [
      "127.0.0.1 - - [14/Jun/2021 23:54:18] \"\u001b[37mPOST /insert/bloquequickreply HTTP/1.1\u001b[0m\" 200 -\n",
      "127.0.0.1 - - [14/Jun/2021 23:54:18] \"\u001b[37mPOST /insert/variables HTTP/1.1\u001b[0m\" 200 -\n",
      "127.0.0.1 - - [14/Jun/2021 23:54:18] \"\u001b[37mPOST /insert/bloqueslide HTTP/1.1\u001b[0m\" 200 -\n"
     ]
    },
    {
     "name": "stdout",
     "output_type": "stream",
     "text": [
      "intenatando consulta...\n",
      "consulta: select * from bloquequickreply where contenido= 'quickreply 2' and opciones= 'SALIDA 2' and next_id= 'Informativo | 34fa0024-002a-4673-8b70-6419afef7d4d | 36067394-2558-1046-0765-010229045532 | ZG7udwy8rzhE5xtUnOGl' and default_id= 'QuickReply | f962f2fb-1047-4062-bac8-798fddc79ff2 | 96628859-0899-7537-4503-489244348545 | ZG7udwy8rzhE5xtUnOGl' and namestate= 'QuickReply | f962f2fb-1047-4062-bac8-798fddc79ff2 | 96628859-0899-7537-4503-489244348545 | ZG7udwy8rzhE5xtUnOGl' and typingtime= '1' and id_robot= '538' and id_var= '1831' and blocktype= 'quickReply' ;\n",
      "Datos enviados INSERT:\n",
      "{'namestate': 'QuickReply | f962f2fb-1047-4062-bac8-798fddc79ff2 | 96628859-0899-7537-4503-489244348545 | ZG7udwy8rzhE5xtUnOGl', 'contenido': 'quickreply 2', 'opciones': 'SALIDA 2', 'next_id': 'Informativo | 34fa0024-002a-4673-8b70-6419afef7d4d | 36067394-2558-1046-0765-010229045532 | ZG7udwy8rzhE5xtUnOGl', 'blocktype': 'quickReply', 'typingtime': '1', 'default_id': 'QuickReply | f962f2fb-1047-4062-bac8-798fddc79ff2 | 96628859-0899-7537-4503-489244348545 | ZG7udwy8rzhE5xtUnOGl', 'id_var': '1831', 'id_block': 669, 'id_robot': 538, 'opc_nextid': None, 'pos_y': None, 'pos_x': None, 'tag_active': None}\n",
      "Datos recibidos INSERT:\n",
      "{'name_var': 'undefinedCarrusel_|_cce128da-fc3c-4ab8-8733-0f93dff9b0ca9960', 'opc_type': 'Variable', 'var': 0, 'opc_data': 'String', 'id_robot': 538}\n",
      "intenatando consulta...\n",
      "consulta: select * from variables where name_var= 'undefinedCarrusel_|_cce128da-fc3c-4ab8-8733-0f93dff9b0ca9960' and opc_type= 'Variable' and var= '0' and opc_data= 'String' and id_robot= '538' ;\n",
      "Datos enviados INSERT:\n",
      "{'id_var': 1832, 'opc_type': 'Variable', 'opc_data': 'String', 'var': '0', 'id_robot': 538, 'name_var': 'undefinedCarrusel_|_cce128da-fc3c-4ab8-8733-0f93dff9b0ca9960'}\n",
      "Datos recibidos INSERT:\n",
      "{'namestate': 'Carrusel | cce128da-fc3c-4ab8-8733-0f93dff9b0ca | 55686726-3982-4003-0323-821800355990 | ZG7udwy8rzhE5xtUnOGl', 'blocktype': 'slide', 'typingtime': '1', 'default_id': 'Carrusel | cce128da-fc3c-4ab8-8733-0f93dff9b0ca | 55686726-3982-4003-0323-821800355990 | ZG7udwy8rzhE5xtUnOGl', 'id_var': 1832, 'id_robot': 538}\n",
      "intenatando consulta...\n",
      "consulta: select * from bloqueslide where namestate= 'Carrusel | cce128da-fc3c-4ab8-8733-0f93dff9b0ca | 55686726-3982-4003-0323-821800355990 | ZG7udwy8rzhE5xtUnOGl' and blocktype= 'slide' and typingtime= '1' and default_id= 'Carrusel | cce128da-fc3c-4ab8-8733-0f93dff9b0ca | 55686726-3982-4003-0323-821800355990 | ZG7udwy8rzhE5xtUnOGl' and id_var= '1832' and id_robot= '538' ;\n",
      "Datos enviados INSERT:\n",
      "{'namestate': 'Carrusel | cce128da-fc3c-4ab8-8733-0f93dff9b0ca | 55686726-3982-4003-0323-821800355990 | ZG7udwy8rzhE5xtUnOGl', 'next_id': None, 'blocktype': 'slide', 'typingtime': '1', 'default_id': 'Carrusel | cce128da-fc3c-4ab8-8733-0f93dff9b0ca | 55686726-3982-4003-0323-821800355990 | ZG7udwy8rzhE5xtUnOGl', 'id_var': '1832', 'id_block': 545, 'id_robot': 538, 'opc_nextid': None, 'pos_y': None, 'pos_x': None, 'opc_elm': None, 'tag_active': None}\n",
      "Datos recibidos INSERT:\n",
      "{'subtitle': 'Subtitulo 1', 'image_url': 'https://jalisco.quadratin.com.mx/www/wp-content/uploads/2020/11/grupo-firme-1-1160x700.jpg', 'title': 'Titulo 1', 'blocktype': 'slide', 'id_block': 545}\n"
     ]
    },
    {
     "name": "stderr",
     "output_type": "stream",
     "text": [
      "127.0.0.1 - - [14/Jun/2021 23:54:18] \"\u001b[37mPOST /insert/elementos HTTP/1.1\u001b[0m\" 200 -\n",
      "127.0.0.1 - - [14/Jun/2021 23:54:18] \"\u001b[37mPOST /insert/botones HTTP/1.1\u001b[0m\" 200 -\n",
      "127.0.0.1 - - [14/Jun/2021 23:54:18] \"\u001b[37mPOST /insert/botones HTTP/1.1\u001b[0m\" 200 -\n"
     ]
    },
    {
     "name": "stdout",
     "output_type": "stream",
     "text": [
      "intenatando consulta...\n",
      "consulta: select * from elementos where subtitle= 'Subtitulo 1' and image_url= 'https://jalisco.quadratin.com.mx/www/wp-content/uploads/2020/11/grupo-firme-1-1160x700.jpg' and title= 'Titulo 1' and blocktype= 'slide' and id_block= '545' ;\n",
      "Datos enviados INSERT:\n",
      "{'blocktype': 'slide', 'title': 'Titulo 1', 'image_url': 'https://jalisco.quadratin.com.mx/www/wp-content/uploads/2020/11/grupo-firme-1-1160x700.jpg', 'subtitle': 'Subtitulo 1', 'id_block': 545, 'id_elements': 938}\n",
      "Datos recibidos INSERT:\n",
      "{'id_elemento': '938', 'titlebutton': 'Salida 1', 'typebutton': 'postback', 'contentbutton': 'Informativo | 72991cca-745b-4886-8ac4-c92d730c134a | ZG7udwy8rzhE5xtUnOGl', 'opc_nextid': 'Informativo | 72991cca-745b-4886-8ac4-c92d730c134a | ZG7udwy8rzhE5xtUnOGl'}\n",
      "intenatando consulta...\n",
      "consulta: select * from botones where id_elemento= '938' and titlebutton= 'Salida 1' and typebutton= 'postback' and contentbutton= 'Informativo | 72991cca-745b-4886-8ac4-c92d730c134a | ZG7udwy8rzhE5xtUnOGl' and opc_nextid= 'Informativo | 72991cca-745b-4886-8ac4-c92d730c134a | ZG7udwy8rzhE5xtUnOGl' ;\n",
      "Datos enviados INSERT:\n",
      "{'id_elemento': '938', 'titlebutton': 'Salida 1', 'typebutton': 'postback', 'contentbutton': 'Informativo | 72991cca-745b-4886-8ac4-c92d730c134a | ZG7udwy8rzhE5xtUnOGl', 'id_boton': 1680, 'opc_nextid': 'Informativo | 72991cca-745b-4886-8ac4-c92d730c134a | ZG7udwy8rzhE5xtUnOGl'}\n",
      "Datos recibidos INSERT:\n",
      "{'id_elemento': '938', 'titlebutton': 'Facebookkkk', 'typebutton': 'web_url', 'contentbutton': 'facebook.com', 'opc_nextid': 'facebook.com'}\n",
      "intenatando consulta...\n",
      "consulta: select * from botones where id_elemento= '938' and titlebutton= 'Facebookkkk' and typebutton= 'web_url' and contentbutton= 'facebook.com' and opc_nextid= 'facebook.com' ;\n",
      "Datos enviados INSERT:\n",
      "{'id_elemento': '938', 'titlebutton': 'Facebookkkk', 'typebutton': 'web_url', 'contentbutton': 'facebook.com', 'id_boton': 1681, 'opc_nextid': 'facebook.com'}\n"
     ]
    },
    {
     "name": "stderr",
     "output_type": "stream",
     "text": [
      "127.0.0.1 - - [14/Jun/2021 23:54:19] \"\u001b[37mPOST /insert/bloqueinformativo HTTP/1.1\u001b[0m\" 200 -\n",
      "127.0.0.1 - - [14/Jun/2021 23:54:19] \"\u001b[37mPOST /insert/variables HTTP/1.1\u001b[0m\" 200 -\n"
     ]
    },
    {
     "name": "stdout",
     "output_type": "stream",
     "text": [
      "Datos recibidos INSERT:\n",
      "{'next_id': 'Carrusel | cce128da-fc3c-4ab8-8733-0f93dff9b0ca | 55686726-3982-4003-0323-821800355990 | ZG7udwy8rzhE5xtUnOGl', 'namestate': 'Informativo | 34fa0024-002a-4673-8b70-6419afef7d4d | 55686726-3982-4003-0323-821800355990 | ZG7udwy8rzhE5xtUnOGl', 'contenido': 'Este es el carrusel prueba 222222', 'contenttype': 'text', 'typingtime': '1', 'id_robot': 538, 'blocktype': 'informativo'}\n",
      "intenatando consulta...\n",
      "consulta: select * from bloqueinformativo where next_id= 'Carrusel | cce128da-fc3c-4ab8-8733-0f93dff9b0ca | 55686726-3982-4003-0323-821800355990 | ZG7udwy8rzhE5xtUnOGl' and namestate= 'Informativo | 34fa0024-002a-4673-8b70-6419afef7d4d | 55686726-3982-4003-0323-821800355990 | ZG7udwy8rzhE5xtUnOGl' and contenido= 'Este es el carrusel prueba 222222' and contenttype= 'text' and typingtime= '1' and id_robot= '538' and blocktype= 'informativo' ;\n",
      "Datos enviados INSERT:\n",
      "{'namestate': 'Informativo | 34fa0024-002a-4673-8b70-6419afef7d4d | 55686726-3982-4003-0323-821800355990 | ZG7udwy8rzhE5xtUnOGl', 'contenido': 'Este es el carrusel prueba 222222', 'next_id': 'Carrusel | cce128da-fc3c-4ab8-8733-0f93dff9b0ca | 55686726-3982-4003-0323-821800355990 | ZG7udwy8rzhE5xtUnOGl', 'blocktype': 'informativo', 'contenttype': 'text', 'typingtime': '1', 'id_block': 2804, 'id_robot': 538, 'opc_nextid': None, 'pos_y': None, 'pos_x': None, 'tag_active': None}\n",
      "Datos recibidos INSERT:\n",
      "{'name_var': 'undefinedCarrusel_|_cce128da-fc3c-4ab8-8733-0f93dff9b0ca7106', 'opc_type': 'Variable', 'var': 0, 'opc_data': 'String', 'id_robot': 538}\n",
      "intenatando consulta...\n",
      "consulta: select * from variables where name_var= 'undefinedCarrusel_|_cce128da-fc3c-4ab8-8733-0f93dff9b0ca7106' and opc_type= 'Variable' and var= '0' and opc_data= 'String' and id_robot= '538' ;\n",
      "Datos enviados INSERT:\n",
      "{'id_var': 1833, 'opc_type': 'Variable', 'opc_data': 'String', 'var': '0', 'id_robot': 538, 'name_var': 'undefinedCarrusel_|_cce128da-fc3c-4ab8-8733-0f93dff9b0ca7106'}\n",
      "Datos recibidos INSERT:\n",
      "{'namestate': 'Carrusel | cce128da-fc3c-4ab8-8733-0f93dff9b0ca | 36067394-2558-1046-0765-010229045532 | ZG7udwy8rzhE5xtUnOGl', 'blocktype': 'slide', 'typingtime': '1', 'default_id': 'Carrusel | cce128da-fc3c-4ab8-8733-0f93dff9b0ca | 36067394-2558-1046-0765-010229045532 | ZG7udwy8rzhE5xtUnOGl', 'id_var': 1833, 'id_robot': 538}\n",
      "intenatando consulta...\n",
      "consulta: select * from bloqueslide where namestate= 'Carrusel | cce128da-fc3c-4ab8-8733-0f93dff9b0ca | 36067394-2558-1046-0765-010229045532 | ZG7udwy8rzhE5xtUnOGl' and blocktype= 'slide' and typingtime= '1' and default_id= 'Carrusel | cce128da-fc3c-4ab8-8733-0f93dff9b0ca | 36067394-2558-1046-0765-010229045532 | ZG7udwy8rzhE5xtUnOGl' and id_var= '1833' and id_robot= '538' ;\n"
     ]
    },
    {
     "name": "stderr",
     "output_type": "stream",
     "text": [
      "127.0.0.1 - - [14/Jun/2021 23:54:19] \"\u001b[37mPOST /insert/bloqueslide HTTP/1.1\u001b[0m\" 200 -\n",
      "127.0.0.1 - - [14/Jun/2021 23:54:19] \"\u001b[37mPOST /insert/elementos HTTP/1.1\u001b[0m\" 200 -\n",
      "127.0.0.1 - - [14/Jun/2021 23:54:19] \"\u001b[37mPOST /insert/botones HTTP/1.1\u001b[0m\" 200 -\n"
     ]
    },
    {
     "name": "stdout",
     "output_type": "stream",
     "text": [
      "Datos enviados INSERT:\n",
      "{'namestate': 'Carrusel | cce128da-fc3c-4ab8-8733-0f93dff9b0ca | 36067394-2558-1046-0765-010229045532 | ZG7udwy8rzhE5xtUnOGl', 'next_id': None, 'blocktype': 'slide', 'typingtime': '1', 'default_id': 'Carrusel | cce128da-fc3c-4ab8-8733-0f93dff9b0ca | 36067394-2558-1046-0765-010229045532 | ZG7udwy8rzhE5xtUnOGl', 'id_var': '1833', 'id_block': 546, 'id_robot': 538, 'opc_nextid': None, 'pos_y': None, 'pos_x': None, 'opc_elm': None, 'tag_active': None}\n",
      "Datos recibidos INSERT:\n",
      "{'title': 'Titulo 1', 'subtitle': 'Subtitulo 1', 'image_url': 'https://jalisco.quadratin.com.mx/www/wp-content/uploads/2020/11/grupo-firme-1-1160x700.jpg', 'blocktype': 'slide', 'id_block': 546}\n",
      "intenatando consulta...\n",
      "consulta: select * from elementos where title= 'Titulo 1' and subtitle= 'Subtitulo 1' and image_url= 'https://jalisco.quadratin.com.mx/www/wp-content/uploads/2020/11/grupo-firme-1-1160x700.jpg' and blocktype= 'slide' and id_block= '546' ;\n",
      "Datos enviados INSERT:\n",
      "{'blocktype': 'slide', 'title': 'Titulo 1', 'image_url': 'https://jalisco.quadratin.com.mx/www/wp-content/uploads/2020/11/grupo-firme-1-1160x700.jpg', 'subtitle': 'Subtitulo 1', 'id_block': 546, 'id_elements': 939}\n",
      "Datos recibidos INSERT:\n",
      "{'id_elemento': '939', 'titlebutton': 'Salida 1', 'typebutton': 'postback', 'contentbutton': 'Informativo | 72991cca-745b-4886-8ac4-c92d730c134a | ZG7udwy8rzhE5xtUnOGl', 'opc_nextid': 'Informativo | 72991cca-745b-4886-8ac4-c92d730c134a | ZG7udwy8rzhE5xtUnOGl'}\n",
      "intenatando consulta...\n",
      "consulta: select * from botones where id_elemento= '939' and titlebutton= 'Salida 1' and typebutton= 'postback' and contentbutton= 'Informativo | 72991cca-745b-4886-8ac4-c92d730c134a | ZG7udwy8rzhE5xtUnOGl' and opc_nextid= 'Informativo | 72991cca-745b-4886-8ac4-c92d730c134a | ZG7udwy8rzhE5xtUnOGl' ;\n",
      "Datos enviados INSERT:\n",
      "{'id_elemento': '939', 'titlebutton': 'Salida 1', 'typebutton': 'postback', 'contentbutton': 'Informativo | 72991cca-745b-4886-8ac4-c92d730c134a | ZG7udwy8rzhE5xtUnOGl', 'id_boton': 1682, 'opc_nextid': 'Informativo | 72991cca-745b-4886-8ac4-c92d730c134a | ZG7udwy8rzhE5xtUnOGl'}\n",
      "Datos recibidos INSERT:\n",
      "{'id_elemento': '939', 'titlebutton': 'Facebookkkk', 'typebutton': 'web_url', 'contentbutton': 'facebook.com', 'opc_nextid': 'facebook.com'}\n"
     ]
    },
    {
     "name": "stderr",
     "output_type": "stream",
     "text": [
      "127.0.0.1 - - [14/Jun/2021 23:54:19] \"\u001b[37mPOST /insert/botones HTTP/1.1\u001b[0m\" 200 -\n",
      "127.0.0.1 - - [14/Jun/2021 23:54:19] \"\u001b[37mPOST /insert/bloqueinformativo HTTP/1.1\u001b[0m\" 200 -\n"
     ]
    },
    {
     "name": "stdout",
     "output_type": "stream",
     "text": [
      "intenatando consulta...\n",
      "consulta: select * from botones where id_elemento= '939' and titlebutton= 'Facebookkkk' and typebutton= 'web_url' and contentbutton= 'facebook.com' and opc_nextid= 'facebook.com' ;\n",
      "Datos enviados INSERT:\n",
      "{'id_elemento': '939', 'titlebutton': 'Facebookkkk', 'typebutton': 'web_url', 'contentbutton': 'facebook.com', 'id_boton': 1683, 'opc_nextid': 'facebook.com'}\n",
      "Datos recibidos INSERT:\n",
      "{'next_id': 'Carrusel | cce128da-fc3c-4ab8-8733-0f93dff9b0ca | 36067394-2558-1046-0765-010229045532 | ZG7udwy8rzhE5xtUnOGl', 'namestate': 'Informativo | 34fa0024-002a-4673-8b70-6419afef7d4d | 36067394-2558-1046-0765-010229045532 | ZG7udwy8rzhE5xtUnOGl', 'contenido': 'Este es el carrusel prueba', 'contenttype': 'text', 'typingtime': '1', 'id_robot': 538, 'blocktype': 'informativo'}\n",
      "intenatando consulta...\n",
      "consulta: select * from bloqueinformativo where next_id= 'Carrusel | cce128da-fc3c-4ab8-8733-0f93dff9b0ca | 36067394-2558-1046-0765-010229045532 | ZG7udwy8rzhE5xtUnOGl' and namestate= 'Informativo | 34fa0024-002a-4673-8b70-6419afef7d4d | 36067394-2558-1046-0765-010229045532 | ZG7udwy8rzhE5xtUnOGl' and contenido= 'Este es el carrusel prueba' and contenttype= 'text' and typingtime= '1' and id_robot= '538' and blocktype= 'informativo' ;\n",
      "Datos enviados INSERT:\n",
      "{'namestate': 'Informativo | 34fa0024-002a-4673-8b70-6419afef7d4d | 36067394-2558-1046-0765-010229045532 | ZG7udwy8rzhE5xtUnOGl', 'contenido': 'Este es el carrusel prueba', 'next_id': 'Carrusel | cce128da-fc3c-4ab8-8733-0f93dff9b0ca | 36067394-2558-1046-0765-010229045532 | ZG7udwy8rzhE5xtUnOGl', 'blocktype': 'informativo', 'contenttype': 'text', 'typingtime': '1', 'id_block': 2805, 'id_robot': 538, 'opc_nextid': None, 'pos_y': None, 'pos_x': None, 'tag_active': None}\n",
      "Datos recibidos INSERT:\n",
      "{'next_id': 'Informativo | 98a8f39d-6761-48e7-aca7-66279cfabf40 | 96628859-0899-7537-4503-489244348545 | ZG7udwy8rzhE5xtUnOGl', 'namestate': 'Informativo | a0be25bb-4eb4-49c2-830f-6eb23d64966c | ZG7udwy8rzhE5xtUnOGl', 'contenido': 'Soy el bot 2021', 'contenttype': 'text', 'typingtime': '1', 'id_robot': 538, 'blocktype': 'informativo'}\n",
      "intenatando consulta...\n",
      "consulta: select * from bloqueinformativo where next_id= 'Informativo | 98a8f39d-6761-48e7-aca7-66279cfabf40 | 96628859-0899-7537-4503-489244348545 | ZG7udwy8rzhE5xtUnOGl' and namestate= 'Informativo | a0be25bb-4eb4-49c2-830f-6eb23d64966c | ZG7udwy8rzhE5xtUnOGl' and contenido= 'Soy el bot 2021' and contenttype= 'text' and typingtime= '1' and id_robot= '538' and blocktype= 'informativo' ;\n"
     ]
    },
    {
     "name": "stderr",
     "output_type": "stream",
     "text": [
      "127.0.0.1 - - [14/Jun/2021 23:54:19] \"\u001b[37mPOST /insert/bloqueinformativo HTTP/1.1\u001b[0m\" 200 -\n",
      "127.0.0.1 - - [14/Jun/2021 23:54:19] \"\u001b[37mPOST /insert/bloqueinformativo HTTP/1.1\u001b[0m\" 200 -\n",
      "127.0.0.1 - - [14/Jun/2021 23:54:19] \"\u001b[37mPOST /insert/bloqueinformativo HTTP/1.1\u001b[0m\" 200 -\n"
     ]
    },
    {
     "name": "stdout",
     "output_type": "stream",
     "text": [
      "Datos enviados INSERT:\n",
      "{'namestate': 'Informativo | a0be25bb-4eb4-49c2-830f-6eb23d64966c | ZG7udwy8rzhE5xtUnOGl', 'contenido': 'Soy el bot 2021', 'next_id': 'Informativo | 98a8f39d-6761-48e7-aca7-66279cfabf40 | 96628859-0899-7537-4503-489244348545 | ZG7udwy8rzhE5xtUnOGl', 'blocktype': 'informativo', 'contenttype': 'text', 'typingtime': '1', 'id_block': 2806, 'id_robot': 538, 'opc_nextid': None, 'pos_y': None, 'pos_x': None, 'tag_active': None}\n",
      "Datos recibidos INSERT:\n",
      "{'next_id': 'Salida', 'namestate': 'Informativo | 72991cca-745b-4886-8ac4-c92d730c134a | ZG7udwy8rzhE5xtUnOGl', 'contenido': 'Gracias por información... Adios!', 'contenttype': 'text', 'typingtime': '1', 'id_robot': 538, 'blocktype': 'informativo'}\n",
      "intenatando consulta...\n",
      "consulta: select * from bloqueinformativo where next_id= 'Salida' and namestate= 'Informativo | 72991cca-745b-4886-8ac4-c92d730c134a | ZG7udwy8rzhE5xtUnOGl' and contenido= 'Gracias por información... Adios!' and contenttype= 'text' and typingtime= '1' and id_robot= '538' and blocktype= 'informativo' ;\n",
      "Datos enviados INSERT:\n",
      "{'namestate': 'Informativo | 72991cca-745b-4886-8ac4-c92d730c134a | ZG7udwy8rzhE5xtUnOGl', 'contenido': 'Gracias por información... Adios!', 'next_id': 'Salida', 'blocktype': 'informativo', 'contenttype': 'text', 'typingtime': '1', 'id_block': 2807, 'id_robot': 538, 'opc_nextid': None, 'pos_y': None, 'pos_x': None, 'tag_active': None}\n",
      "Datos recibidos INSERT:\n",
      "{'next_id': '', 'namestate': 'Salida', 'contenido': '', 'contenttype': 'text', 'typingtime': 3, 'id_robot': 538, 'blocktype': 'informativo'}\n",
      "intenatando consulta...\n",
      "consulta: select * from bloqueinformativo where next_id= '' and namestate= 'Salida' and contenido= '' and contenttype= 'text' and typingtime= '3' and id_robot= '538' and blocktype= 'informativo' ;\n",
      "Datos enviados INSERT:\n",
      "{'namestate': 'Salida', 'contenido': '', 'next_id': '', 'blocktype': 'informativo', 'contenttype': 'text', 'typingtime': '3', 'id_block': 2808, 'id_robot': 538, 'opc_nextid': None, 'pos_y': None, 'pos_x': None, 'tag_active': None}\n"
     ]
    },
    {
     "name": "stderr",
     "output_type": "stream",
     "text": [
      "127.0.0.1 - - [14/Jun/2021 23:54:21] \"\u001b[37mGET /select/robots HTTP/1.1\u001b[0m\" 200 -\n",
      "127.0.0.1 - - [14/Jun/2021 23:54:21] \"\u001b[37mGET /select/bloqueslide HTTP/1.1\u001b[0m\" 200 -\n",
      "127.0.0.1 - - [14/Jun/2021 23:54:21] \"\u001b[37mGET /select/elementos HTTP/1.1\u001b[0m\" 200 -\n"
     ]
    },
    {
     "name": "stdout",
     "output_type": "stream",
     "text": [
      "Datos recibidos SELECT:\n",
      "{'name_robot': 'CHATBOT TT 2020 A056', 'id_face': '100750202253729', 'block_ini': 'Informativo | d9897d01-e0ce-44bd-ba3d-22973a7d74fd | bSkwpaFVCmMXS8G2PR6k', 'type_blocki': 'informativo', 'access_token': 'EAALZCCZBzPwfkBACf3gal1zeLIkZAxC8ecQ6qmRixvqGJJXtfQvE7S2zNpkdf0BpKR79BZAOawgUcm8IQN9NecBZB25Q8ZCWDFAH50ihRis7XfHm4UM3bYNqgmmKZCKkLnhGGxf2FO8eLr8CVkgp3PgJWiBQVKTO7DRtAZA1IjaLIk1xGTZBunRJ6', 'id_user': 'charlygoldcruz@gmail.com', 'api_nlp': 'http://localhost:8282/'}\n",
      "intenatando consulta...\n",
      "consulta: select * from robots where id_face = '100750202253729';\n",
      "Datos enviados SELECT:\n",
      "{'name_robot': 'CHATBOT TT 2020 A056', 'id_face': '100750202253729', 'block_ini': 'Informativo | d9897d01-e0ce-44bd-ba3d-22973a7d74fd | bSkwpaFVCmMXS8G2PR6k', 'type_blocki': 'informativo', 'access_token': 'EAALZCCZBzPwfkBACf3gal1zeLIkZAxC8ecQ6qmRixvqGJJXtfQvE7S2zNpkdf0BpKR79BZAOawgUcm8IQN9NecBZB25Q8ZCWDFAH50ihRis7XfHm4UM3bYNqgmmKZCKkLnhGGxf2FO8eLr8CVkgp3PgJWiBQVKTO7DRtAZA1IjaLIk1xGTZBunRJ6', 'api_nlp': 'http://localhost:8282/', 'id_robot': 539, 'id_user': 'charlygoldcruz@gmail.com'}\n",
      "Datos recibidos SELECT:\n",
      "{'id_robot': '539'}\n",
      "intenatando consulta...\n",
      "consulta: select * from bloqueslide where id_robot= '539' ;\n",
      "Datos enviados SELECT:\n",
      "[{'namestate': 'Carrusel | fdd978d8-d9e9-4f74-8d01-07d1a43ecba8 | 98525253-9080-3718-4541-185145979160 | bSkwpaFVCmMXS8G2PR6k', 'next_id': 'Informativo | eb6262bf-2b65-4dc7-9d6a-9a8544083dde | bSkwpaFVCmMXS8G2PR6k,Informativo | eb6262bf-2b65-4dc7-9d6a-9a8544083dde | bSkwpaFVCmMXS8G2PR6k,www.facebook.com,www.ABC.com,Informativo | eb6262bf-2b65-4dc7-9d6a-9a8544083dde | bSkwpaFVCmMXS8G2PR6k,Informativo | eb6262bf-2b65-4dc7-9d6a-9a8544083dde | bSkwpaFVCmMXS8G2PR6k', 'blocktype': 'slide', 'typingtime': '1', 'default_id': 'Carrusel | fdd978d8-d9e9-4f74-8d01-07d1a43ecba8 | 98525253-9080-3718-4541-185145979160 | bSkwpaFVCmMXS8G2PR6k', 'id_var': '1822', 'id_block': 541, 'id_robot': 539, 'opc_nextid': None, 'pos_y': None, 'pos_x': None, 'opc_elm': None, 'tag_active': None}, {'namestate': 'Carrusel | cce128da-fc3c-4ab8-8733-0f93dff9b0ca | 19627070-4044-4254-7133-869533412022 | bSkwpaFVCmMXS8G2PR6k', 'next_id': 'Informativo | 7e74c6f6-46db-4b00-b8b3-07aac064e1de | 98525253-9080-3718-4541-185145979160 | bSkwpaFVCmMXS8G2PR6k,facebook.com', 'blocktype': 'slide', 'typingtime': '1', 'default_id': 'Carrusel | cce128da-fc3c-4ab8-8733-0f93dff9b0ca | 19627070-4044-4254-7133-869533412022 | bSkwpaFVCmMXS8G2PR6k', 'id_var': '1823', 'id_block': 542, 'id_robot': 539, 'opc_nextid': None, 'pos_y': None, 'pos_x': None, 'opc_elm': None, 'tag_active': None}, {'namestate': 'Carrusel | 5aaf3158-308e-4b01-9283-f01f32d587c9 | 07418629-1549-9289-4157-116148457825 | bSkwpaFVCmMXS8G2PR6k', 'next_id': 'QuickReply | 9cd75eb1-5f87-4a23-84aa-d6de05ed56b8 | 07418629-1549-9289-4157-116148457825 | bSkwpaFVCmMXS8G2PR6k,QuickReply | f962f2fb-1047-4062-bac8-798fddc79ff2 | 07418629-1549-9289-4157-116148457825 | bSkwpaFVCmMXS8G2PR6k', 'blocktype': 'slide', 'typingtime': '1', 'default_id': 'Carrusel | 5aaf3158-308e-4b01-9283-f01f32d587c9 | 07418629-1549-9289-4157-116148457825 | bSkwpaFVCmMXS8G2PR6k', 'id_var': '1824', 'id_block': 543, 'id_robot': 539, 'opc_nextid': None, 'pos_y': None, 'pos_x': None, 'opc_elm': None, 'tag_active': None}]\n",
      "Datos recibidos SELECT:\n",
      "{'id_block': 541}\n",
      "intenatando consulta...\n",
      "consulta: select * from elementos where id_block= '541' ;\n",
      "Datos enviados SELECT:\n",
      "[{'blocktype': 'slide', 'title': 'Titulo 1 Plantilla 1', 'image_url': 'https://image.freepik.com/vector-gratis/caracter-banda-musica-ilustracion-dibujos-animados-plana_338371-15.jpg', 'subtitle': 'S1', 'id_block': 541, 'id_elements': 932}, {'blocktype': 'slide', 'title': 'P2', 'image_url': 'https://www.muycomputer.com/wp-content/uploads/2020/04/Logitech-G203-rat%C3%B3n-gaming-barato-e1587628136683.jpg', 'subtitle': 'S2', 'id_block': 541, 'id_elements': 933}, {'blocktype': 'slide', 'title': 'Plantilla 3', 'image_url': 'https://mmo.aiircdn.com/297/5f6a04de8d671.jpg', 'subtitle': 'Subtitulo 3', 'id_block': 541, 'id_elements': 934}]\n"
     ]
    },
    {
     "name": "stderr",
     "output_type": "stream",
     "text": [
      "127.0.0.1 - - [14/Jun/2021 23:54:21] \"\u001b[37mGET /select/elementos HTTP/1.1\u001b[0m\" 200 -\n",
      "127.0.0.1 - - [14/Jun/2021 23:54:21] \"\u001b[37mGET /select/elementos HTTP/1.1\u001b[0m\" 200 -\n"
     ]
    },
    {
     "name": "stdout",
     "output_type": "stream",
     "text": [
      "Datos recibidos SELECT:\n",
      "{'id_block': 542}\n",
      "intenatando consulta...\n",
      "consulta: select * from elementos where id_block= '542' ;\n",
      "Datos enviados SELECT:\n",
      "{'blocktype': 'slide', 'title': 'Titulo 1', 'image_url': 'https://jalisco.quadratin.com.mx/www/wp-content/uploads/2020/11/grupo-firme-1-1160x700.jpg', 'subtitle': 'Subtitulo 1', 'id_block': 542, 'id_elements': 935}\n",
      "Datos recibidos SELECT:\n",
      "{'id_block': 543}\n",
      "intenatando consulta...\n",
      "consulta: select * from elementos where id_block= '543' ;\n",
      "Datos enviados SELECT:\n",
      "{'blocktype': 'slide', 'title': 'Titulo 1', 'image_url': 'https://sitechecker.pro/wp-content/uploads/2017/12/URL-meaning.png', 'subtitle': 'Subtitulo 1', 'id_block': 543, 'id_elements': 936}\n",
      "Datos recibidos INSERT:\n",
      "{'name_var': 'varCarrusel_|_fdd978d8-d9e9-4f74-8d01-07d1a43ecba82723', 'opc_type': 'Variable', 'var': 0, 'opc_data': 'String', 'id_robot': 539}\n"
     ]
    },
    {
     "name": "stderr",
     "output_type": "stream",
     "text": [
      "127.0.0.1 - - [14/Jun/2021 23:54:21] \"\u001b[37mPOST /insert/variables HTTP/1.1\u001b[0m\" 200 -\n",
      "127.0.0.1 - - [14/Jun/2021 23:54:21] \"\u001b[37mPOST /insert/bloqueslide HTTP/1.1\u001b[0m\" 200 -\n",
      "127.0.0.1 - - [14/Jun/2021 23:54:22] \"\u001b[37mPOST /insert/elementos HTTP/1.1\u001b[0m\" 200 -\n"
     ]
    },
    {
     "name": "stdout",
     "output_type": "stream",
     "text": [
      "intenatando consulta...\n",
      "consulta: select * from variables where name_var= 'varCarrusel_|_fdd978d8-d9e9-4f74-8d01-07d1a43ecba82723' and opc_type= 'Variable' and var= '0' and opc_data= 'String' and id_robot= '539' ;\n",
      "Datos enviados INSERT:\n",
      "{'id_var': 1834, 'opc_type': 'Variable', 'opc_data': 'String', 'var': '0', 'id_robot': 539, 'name_var': 'varCarrusel_|_fdd978d8-d9e9-4f74-8d01-07d1a43ecba82723'}\n",
      "Datos recibidos INSERT:\n",
      "{'namestate': 'Carrusel | fdd978d8-d9e9-4f74-8d01-07d1a43ecba8 | 98525253-9080-3718-4541-185145979160 | bSkwpaFVCmMXS8G2PR6k', 'blocktype': 'slide', 'typingtime': '1', 'default_id': 'Carrusel | fdd978d8-d9e9-4f74-8d01-07d1a43ecba8 | 98525253-9080-3718-4541-185145979160 | bSkwpaFVCmMXS8G2PR6k', 'id_var': 1834, 'id_robot': 539}\n",
      "intenatando consulta...\n",
      "consulta: select * from bloqueslide where namestate= 'Carrusel | fdd978d8-d9e9-4f74-8d01-07d1a43ecba8 | 98525253-9080-3718-4541-185145979160 | bSkwpaFVCmMXS8G2PR6k' and blocktype= 'slide' and typingtime= '1' and default_id= 'Carrusel | fdd978d8-d9e9-4f74-8d01-07d1a43ecba8 | 98525253-9080-3718-4541-185145979160 | bSkwpaFVCmMXS8G2PR6k' and id_var= '1834' and id_robot= '539' ;\n",
      "Datos enviados INSERT:\n",
      "{'namestate': 'Carrusel | fdd978d8-d9e9-4f74-8d01-07d1a43ecba8 | 98525253-9080-3718-4541-185145979160 | bSkwpaFVCmMXS8G2PR6k', 'next_id': None, 'blocktype': 'slide', 'typingtime': '1', 'default_id': 'Carrusel | fdd978d8-d9e9-4f74-8d01-07d1a43ecba8 | 98525253-9080-3718-4541-185145979160 | bSkwpaFVCmMXS8G2PR6k', 'id_var': '1834', 'id_block': 547, 'id_robot': 539, 'opc_nextid': None, 'pos_y': None, 'pos_x': None, 'opc_elm': None, 'tag_active': None}\n",
      "Datos recibidos INSERT:\n",
      "{'image_url': 'https://image.freepik.com/vector-gratis/caracter-banda-musica-ilustracion-dibujos-animados-plana_338371-15.jpg', 'title': 'Titulo 1 Plantilla 1', 'subtitle': 'S1', 'blocktype': 'slide', 'id_block': 547}\n",
      "intenatando consulta...\n",
      "consulta: select * from elementos where image_url= 'https://image.freepik.com/vector-gratis/caracter-banda-musica-ilustracion-dibujos-animados-plana_338371-15.jpg' and title= 'Titulo 1 Plantilla 1' and subtitle= 'S1' and blocktype= 'slide' and id_block= '547' ;\n",
      "Datos enviados INSERT:\n",
      "{'blocktype': 'slide', 'title': 'Titulo 1 Plantilla 1', 'image_url': 'https://image.freepik.com/vector-gratis/caracter-banda-musica-ilustracion-dibujos-animados-plana_338371-15.jpg', 'subtitle': 'S1', 'id_block': 547, 'id_elements': 940}\n",
      "Datos recibidos INSERT:\n",
      "{'id_elemento': '940', 'titlebutton': 'Salida 1', 'typebutton': 'postback', 'contentbutton': 'Informativo | eb6262bf-2b65-4dc7-9d6a-9a8544083dde | bSkwpaFVCmMXS8G2PR6k', 'opc_nextid': 'Informativo | eb6262bf-2b65-4dc7-9d6a-9a8544083dde | bSkwpaFVCmMXS8G2PR6k'}\n"
     ]
    },
    {
     "name": "stderr",
     "output_type": "stream",
     "text": [
      "127.0.0.1 - - [14/Jun/2021 23:54:22] \"\u001b[37mPOST /insert/botones HTTP/1.1\u001b[0m\" 200 -\n",
      "127.0.0.1 - - [14/Jun/2021 23:54:22] \"\u001b[37mPOST /insert/botones HTTP/1.1\u001b[0m\" 200 -\n",
      "127.0.0.1 - - [14/Jun/2021 23:54:22] \"\u001b[37mPOST /insert/elementos HTTP/1.1\u001b[0m\" 200 -\n"
     ]
    },
    {
     "name": "stdout",
     "output_type": "stream",
     "text": [
      "intenatando consulta...\n",
      "consulta: select * from botones where id_elemento= '940' and titlebutton= 'Salida 1' and typebutton= 'postback' and contentbutton= 'Informativo | eb6262bf-2b65-4dc7-9d6a-9a8544083dde | bSkwpaFVCmMXS8G2PR6k' and opc_nextid= 'Informativo | eb6262bf-2b65-4dc7-9d6a-9a8544083dde | bSkwpaFVCmMXS8G2PR6k' ;\n",
      "Datos enviados INSERT:\n",
      "{'id_elemento': '940', 'titlebutton': 'Salida 1', 'typebutton': 'postback', 'contentbutton': 'Informativo | eb6262bf-2b65-4dc7-9d6a-9a8544083dde | bSkwpaFVCmMXS8G2PR6k', 'id_boton': 1684, 'opc_nextid': 'Informativo | eb6262bf-2b65-4dc7-9d6a-9a8544083dde | bSkwpaFVCmMXS8G2PR6k'}\n",
      "Datos recibidos INSERT:\n",
      "{'id_elemento': '940', 'titlebutton': 'Salida 2', 'typebutton': 'postback', 'contentbutton': 'Informativo | eb6262bf-2b65-4dc7-9d6a-9a8544083dde | bSkwpaFVCmMXS8G2PR6k', 'opc_nextid': 'Informativo | eb6262bf-2b65-4dc7-9d6a-9a8544083dde | bSkwpaFVCmMXS8G2PR6k'}\n",
      "intenatando consulta...\n",
      "consulta: select * from botones where id_elemento= '940' and titlebutton= 'Salida 2' and typebutton= 'postback' and contentbutton= 'Informativo | eb6262bf-2b65-4dc7-9d6a-9a8544083dde | bSkwpaFVCmMXS8G2PR6k' and opc_nextid= 'Informativo | eb6262bf-2b65-4dc7-9d6a-9a8544083dde | bSkwpaFVCmMXS8G2PR6k' ;\n",
      "Datos enviados INSERT:\n",
      "{'id_elemento': '940', 'titlebutton': 'Salida 2', 'typebutton': 'postback', 'contentbutton': 'Informativo | eb6262bf-2b65-4dc7-9d6a-9a8544083dde | bSkwpaFVCmMXS8G2PR6k', 'id_boton': 1685, 'opc_nextid': 'Informativo | eb6262bf-2b65-4dc7-9d6a-9a8544083dde | bSkwpaFVCmMXS8G2PR6k'}\n",
      "Datos recibidos INSERT:\n",
      "{'image_url': 'https://www.muycomputer.com/wp-content/uploads/2020/04/Logitech-G203-rat%C3%B3n-gaming-barato-e1587628136683.jpg', 'subtitle': 'S2', 'title': 'P2', 'blocktype': 'slide', 'id_block': 547}\n",
      "intenatando consulta...\n",
      "consulta: select * from elementos where image_url= 'https://www.muycomputer.com/wp-content/uploads/2020/04/Logitech-G203-rat%C3%B3n-gaming-barato-e1587628136683.jpg' and subtitle= 'S2' and title= 'P2' and blocktype= 'slide' and id_block= '547' ;\n",
      "Datos enviados INSERT:\n",
      "{'blocktype': 'slide', 'title': 'P2', 'image_url': 'https://www.muycomputer.com/wp-content/uploads/2020/04/Logitech-G203-rat%C3%B3n-gaming-barato-e1587628136683.jpg', 'subtitle': 'S2', 'id_block': 547, 'id_elements': 941}\n",
      "Datos recibidos INSERT:\n",
      "{'id_elemento': '941', 'titlebutton': 'Google', 'typebutton': 'web_url', 'contentbutton': 'www.facebook.com', 'opc_nextid': 'www.facebook.com'}\n"
     ]
    },
    {
     "name": "stderr",
     "output_type": "stream",
     "text": [
      "127.0.0.1 - - [14/Jun/2021 23:54:22] \"\u001b[37mPOST /insert/botones HTTP/1.1\u001b[0m\" 200 -\n",
      "127.0.0.1 - - [14/Jun/2021 23:54:22] \"\u001b[37mPOST /insert/botones HTTP/1.1\u001b[0m\" 200 -\n",
      "127.0.0.1 - - [14/Jun/2021 23:54:22] \"\u001b[37mPOST /insert/elementos HTTP/1.1\u001b[0m\" 200 -\n"
     ]
    },
    {
     "name": "stdout",
     "output_type": "stream",
     "text": [
      "intenatando consulta...\n",
      "consulta: select * from botones where id_elemento= '941' and titlebutton= 'Google' and typebutton= 'web_url' and contentbutton= 'www.facebook.com' and opc_nextid= 'www.facebook.com' ;\n",
      "Datos enviados INSERT:\n",
      "{'id_elemento': '941', 'titlebutton': 'Google', 'typebutton': 'web_url', 'contentbutton': 'www.facebook.com', 'id_boton': 1686, 'opc_nextid': 'www.facebook.com'}\n",
      "Datos recibidos INSERT:\n",
      "{'id_elemento': '941', 'titlebutton': 'ABC', 'typebutton': 'web_url', 'contentbutton': 'www.ABC.com', 'opc_nextid': 'www.ABC.com'}\n",
      "intenatando consulta...\n",
      "consulta: select * from botones where id_elemento= '941' and titlebutton= 'ABC' and typebutton= 'web_url' and contentbutton= 'www.ABC.com' and opc_nextid= 'www.ABC.com' ;\n",
      "Datos enviados INSERT:\n",
      "{'id_elemento': '941', 'titlebutton': 'ABC', 'typebutton': 'web_url', 'contentbutton': 'www.ABC.com', 'id_boton': 1687, 'opc_nextid': 'www.ABC.com'}\n",
      "Datos recibidos INSERT:\n",
      "{'title': 'Plantilla 3', 'image_url': 'https://mmo.aiircdn.com/297/5f6a04de8d671.jpg', 'subtitle': 'Subtitulo 3', 'blocktype': 'slide', 'id_block': 547}\n",
      "intenatando consulta...\n",
      "consulta: select * from elementos where title= 'Plantilla 3' and image_url= 'https://mmo.aiircdn.com/297/5f6a04de8d671.jpg' and subtitle= 'Subtitulo 3' and blocktype= 'slide' and id_block= '547' ;\n",
      "Datos enviados INSERT:\n",
      "{'blocktype': 'slide', 'title': 'Plantilla 3', 'image_url': 'https://mmo.aiircdn.com/297/5f6a04de8d671.jpg', 'subtitle': 'Subtitulo 3', 'id_block': 547, 'id_elements': 942}\n",
      "Datos recibidos INSERT:\n",
      "{'id_elemento': '942', 'titlebutton': 'Input', 'typebutton': 'postback', 'contentbutton': 'Informativo | eb6262bf-2b65-4dc7-9d6a-9a8544083dde | bSkwpaFVCmMXS8G2PR6k', 'opc_nextid': 'Informativo | eb6262bf-2b65-4dc7-9d6a-9a8544083dde | bSkwpaFVCmMXS8G2PR6k'}\n"
     ]
    },
    {
     "name": "stderr",
     "output_type": "stream",
     "text": [
      "127.0.0.1 - - [14/Jun/2021 23:54:22] \"\u001b[37mPOST /insert/botones HTTP/1.1\u001b[0m\" 200 -\n",
      "127.0.0.1 - - [14/Jun/2021 23:54:22] \"\u001b[37mPOST /insert/botones HTTP/1.1\u001b[0m\" 200 -\n"
     ]
    },
    {
     "name": "stdout",
     "output_type": "stream",
     "text": [
      "intenatando consulta...\n",
      "consulta: select * from botones where id_elemento= '942' and titlebutton= 'Input' and typebutton= 'postback' and contentbutton= 'Informativo | eb6262bf-2b65-4dc7-9d6a-9a8544083dde | bSkwpaFVCmMXS8G2PR6k' and opc_nextid= 'Informativo | eb6262bf-2b65-4dc7-9d6a-9a8544083dde | bSkwpaFVCmMXS8G2PR6k' ;\n",
      "Datos enviados INSERT:\n",
      "{'id_elemento': '942', 'titlebutton': 'Input', 'typebutton': 'postback', 'contentbutton': 'Informativo | eb6262bf-2b65-4dc7-9d6a-9a8544083dde | bSkwpaFVCmMXS8G2PR6k', 'id_boton': 1688, 'opc_nextid': 'Informativo | eb6262bf-2b65-4dc7-9d6a-9a8544083dde | bSkwpaFVCmMXS8G2PR6k'}\n",
      "Datos recibidos INSERT:\n",
      "{'id_elemento': '942', 'titlebutton': 'Opcion 6', 'typebutton': 'postback', 'contentbutton': 'Informativo | eb6262bf-2b65-4dc7-9d6a-9a8544083dde | bSkwpaFVCmMXS8G2PR6k', 'opc_nextid': 'Informativo | eb6262bf-2b65-4dc7-9d6a-9a8544083dde | bSkwpaFVCmMXS8G2PR6k'}\n",
      "intenatando consulta...\n",
      "consulta: select * from botones where id_elemento= '942' and titlebutton= 'Opcion 6' and typebutton= 'postback' and contentbutton= 'Informativo | eb6262bf-2b65-4dc7-9d6a-9a8544083dde | bSkwpaFVCmMXS8G2PR6k' and opc_nextid= 'Informativo | eb6262bf-2b65-4dc7-9d6a-9a8544083dde | bSkwpaFVCmMXS8G2PR6k' ;\n",
      "Datos enviados INSERT:\n",
      "{'id_elemento': '942', 'titlebutton': 'Opcion 6', 'typebutton': 'postback', 'contentbutton': 'Informativo | eb6262bf-2b65-4dc7-9d6a-9a8544083dde | bSkwpaFVCmMXS8G2PR6k', 'id_boton': 1689, 'opc_nextid': 'Informativo | eb6262bf-2b65-4dc7-9d6a-9a8544083dde | bSkwpaFVCmMXS8G2PR6k'}\n",
      "Datos recibidos INSERT:\n",
      "{'next_id': 'Intermedio | 39a8d681-4868-4b9c-98e4-9a8db0681865 | 98525253-9080-3718-4541-185145979160 | bSkwpaFVCmMXS8G2PR6k', 'namestate': 'Informativo | 7e74c6f6-46db-4b00-b8b3-07aac064e1de | 98525253-9080-3718-4541-185145979160 | bSkwpaFVCmMXS8G2PR6k', 'contenido': 'Hola, me he editado soy un bloque informativo', 'contenttype': 'text', 'typingtime': '2', 'id_robot': 539, 'blocktype': 'informativo'}\n",
      "intenatando consulta...\n",
      "consulta: select * from bloqueinformativo where next_id= 'Intermedio | 39a8d681-4868-4b9c-98e4-9a8db0681865 | 98525253-9080-3718-4541-185145979160 | bSkwpaFVCmMXS8G2PR6k' and namestate= 'Informativo | 7e74c6f6-46db-4b00-b8b3-07aac064e1de | 98525253-9080-3718-4541-185145979160 | bSkwpaFVCmMXS8G2PR6k' and contenido= 'Hola, me he editado soy un bloque informativo' and contenttype= 'text' and typingtime= '2' and id_robot= '539' and blocktype= 'informativo' ;\n",
      "Datos enviados INSERT:\n",
      "{'namestate': 'Informativo | 7e74c6f6-46db-4b00-b8b3-07aac064e1de | 98525253-9080-3718-4541-185145979160 | bSkwpaFVCmMXS8G2PR6k', 'contenido': 'Hola, me he editado soy un bloque informativo', 'next_id': 'Intermedio | 39a8d681-4868-4b9c-98e4-9a8db0681865 | 98525253-9080-3718-4541-185145979160 | bSkwpaFVCmMXS8G2PR6k', 'blocktype': 'informativo', 'contenttype': 'text', 'typingtime': '2', 'id_block': 2809, 'id_robot': 539, 'opc_nextid': None, 'pos_y': None, 'pos_x': None, 'tag_active': None}\n"
     ]
    },
    {
     "name": "stderr",
     "output_type": "stream",
     "text": [
      "127.0.0.1 - - [14/Jun/2021 23:54:22] \"\u001b[37mPOST /insert/bloqueinformativo HTTP/1.1\u001b[0m\" 200 -\n",
      "127.0.0.1 - - [14/Jun/2021 23:54:22] \"\u001b[37mPOST /insert/bloqueinformativo HTTP/1.1\u001b[0m\" 200 -\n",
      "127.0.0.1 - - [14/Jun/2021 23:54:22] \"\u001b[37mPOST /insert/variables HTTP/1.1\u001b[0m\" 200 -\n"
     ]
    },
    {
     "name": "stdout",
     "output_type": "stream",
     "text": [
      "Datos recibidos INSERT:\n",
      "{'next_id': 'Carrusel | fdd978d8-d9e9-4f74-8d01-07d1a43ecba8 | 98525253-9080-3718-4541-185145979160 | bSkwpaFVCmMXS8G2PR6k', 'namestate': 'Intermedio | 39a8d681-4868-4b9c-98e4-9a8db0681865 | 98525253-9080-3718-4541-185145979160 | bSkwpaFVCmMXS8G2PR6k', 'contenido': 'Este es un bloque intermedio', 'contenttype': 'text', 'typingtime': '1', 'id_robot': 539, 'blocktype': 'informativo'}\n",
      "intenatando consulta...\n",
      "consulta: select * from bloqueinformativo where next_id= 'Carrusel | fdd978d8-d9e9-4f74-8d01-07d1a43ecba8 | 98525253-9080-3718-4541-185145979160 | bSkwpaFVCmMXS8G2PR6k' and namestate= 'Intermedio | 39a8d681-4868-4b9c-98e4-9a8db0681865 | 98525253-9080-3718-4541-185145979160 | bSkwpaFVCmMXS8G2PR6k' and contenido= 'Este es un bloque intermedio' and contenttype= 'text' and typingtime= '1' and id_robot= '539' and blocktype= 'informativo' ;\n",
      "Datos enviados INSERT:\n",
      "{'namestate': 'Intermedio | 39a8d681-4868-4b9c-98e4-9a8db0681865 | 98525253-9080-3718-4541-185145979160 | bSkwpaFVCmMXS8G2PR6k', 'contenido': 'Este es un bloque intermedio', 'next_id': 'Carrusel | fdd978d8-d9e9-4f74-8d01-07d1a43ecba8 | 98525253-9080-3718-4541-185145979160 | bSkwpaFVCmMXS8G2PR6k', 'blocktype': 'informativo', 'contenttype': 'text', 'typingtime': '1', 'id_block': 2810, 'id_robot': 539, 'opc_nextid': None, 'pos_y': None, 'pos_x': None, 'tag_active': None}\n",
      "Datos recibidos INSERT:\n",
      "{'name_var': 'undefinedCarrusel_|_cce128da-fc3c-4ab8-8733-0f93dff9b0ca6346', 'opc_type': 'Variable', 'var': 0, 'opc_data': 'String', 'id_robot': 539}\n",
      "intenatando consulta...\n",
      "consulta: select * from variables where name_var= 'undefinedCarrusel_|_cce128da-fc3c-4ab8-8733-0f93dff9b0ca6346' and opc_type= 'Variable' and var= '0' and opc_data= 'String' and id_robot= '539' ;\n",
      "Datos enviados INSERT:\n",
      "{'id_var': 1835, 'opc_type': 'Variable', 'opc_data': 'String', 'var': '0', 'id_robot': 539, 'name_var': 'undefinedCarrusel_|_cce128da-fc3c-4ab8-8733-0f93dff9b0ca6346'}\n",
      "Datos recibidos INSERT:\n",
      "{'namestate': 'Carrusel | cce128da-fc3c-4ab8-8733-0f93dff9b0ca | 19627070-4044-4254-7133-869533412022 | bSkwpaFVCmMXS8G2PR6k', 'blocktype': 'slide', 'typingtime': '1', 'default_id': 'Carrusel | cce128da-fc3c-4ab8-8733-0f93dff9b0ca | 19627070-4044-4254-7133-869533412022 | bSkwpaFVCmMXS8G2PR6k', 'id_var': 1835, 'id_robot': 539}\n",
      "intenatando consulta...\n",
      "consulta: select * from bloqueslide where namestate= 'Carrusel | cce128da-fc3c-4ab8-8733-0f93dff9b0ca | 19627070-4044-4254-7133-869533412022 | bSkwpaFVCmMXS8G2PR6k' and blocktype= 'slide' and typingtime= '1' and default_id= 'Carrusel | cce128da-fc3c-4ab8-8733-0f93dff9b0ca | 19627070-4044-4254-7133-869533412022 | bSkwpaFVCmMXS8G2PR6k' and id_var= '1835' and id_robot= '539' ;\n"
     ]
    },
    {
     "name": "stderr",
     "output_type": "stream",
     "text": [
      "127.0.0.1 - - [14/Jun/2021 23:54:22] \"\u001b[37mPOST /insert/bloqueslide HTTP/1.1\u001b[0m\" 200 -\n",
      "127.0.0.1 - - [14/Jun/2021 23:54:23] \"\u001b[37mPOST /insert/elementos HTTP/1.1\u001b[0m\" 200 -\n",
      "127.0.0.1 - - [14/Jun/2021 23:54:23] \"\u001b[37mPOST /insert/botones HTTP/1.1\u001b[0m\" 200 -\n"
     ]
    },
    {
     "name": "stdout",
     "output_type": "stream",
     "text": [
      "Datos enviados INSERT:\n",
      "{'namestate': 'Carrusel | cce128da-fc3c-4ab8-8733-0f93dff9b0ca | 19627070-4044-4254-7133-869533412022 | bSkwpaFVCmMXS8G2PR6k', 'next_id': None, 'blocktype': 'slide', 'typingtime': '1', 'default_id': 'Carrusel | cce128da-fc3c-4ab8-8733-0f93dff9b0ca | 19627070-4044-4254-7133-869533412022 | bSkwpaFVCmMXS8G2PR6k', 'id_var': '1835', 'id_block': 548, 'id_robot': 539, 'opc_nextid': None, 'pos_y': None, 'pos_x': None, 'opc_elm': None, 'tag_active': None}\n",
      "Datos recibidos INSERT:\n",
      "{'image_url': 'https://jalisco.quadratin.com.mx/www/wp-content/uploads/2020/11/grupo-firme-1-1160x700.jpg', 'title': 'Titulo 1', 'subtitle': 'Subtitulo 1', 'blocktype': 'slide', 'id_block': 548}\n",
      "intenatando consulta...\n",
      "consulta: select * from elementos where image_url= 'https://jalisco.quadratin.com.mx/www/wp-content/uploads/2020/11/grupo-firme-1-1160x700.jpg' and title= 'Titulo 1' and subtitle= 'Subtitulo 1' and blocktype= 'slide' and id_block= '548' ;\n",
      "Datos enviados INSERT:\n",
      "{'blocktype': 'slide', 'title': 'Titulo 1', 'image_url': 'https://jalisco.quadratin.com.mx/www/wp-content/uploads/2020/11/grupo-firme-1-1160x700.jpg', 'subtitle': 'Subtitulo 1', 'id_block': 548, 'id_elements': 943}\n",
      "Datos recibidos INSERT:\n",
      "{'id_elemento': '943', 'titlebutton': 'Salida 1', 'typebutton': 'postback', 'contentbutton': 'Informativo | 7e74c6f6-46db-4b00-b8b3-07aac064e1de | 98525253-9080-3718-4541-185145979160 | bSkwpaFVCmMXS8G2PR6k', 'opc_nextid': 'Informativo | 7e74c6f6-46db-4b00-b8b3-07aac064e1de | 98525253-9080-3718-4541-185145979160 | bSkwpaFVCmMXS8G2PR6k'}\n",
      "intenatando consulta...\n",
      "consulta: select * from botones where id_elemento= '943' and titlebutton= 'Salida 1' and typebutton= 'postback' and contentbutton= 'Informativo | 7e74c6f6-46db-4b00-b8b3-07aac064e1de | 98525253-9080-3718-4541-185145979160 | bSkwpaFVCmMXS8G2PR6k' and opc_nextid= 'Informativo | 7e74c6f6-46db-4b00-b8b3-07aac064e1de | 98525253-9080-3718-4541-185145979160 | bSkwpaFVCmMXS8G2PR6k' ;\n",
      "Datos enviados INSERT:\n",
      "{'id_elemento': '943', 'titlebutton': 'Salida 1', 'typebutton': 'postback', 'contentbutton': 'Informativo | 7e74c6f6-46db-4b00-b8b3-07aac064e1de | 98525253-9080-3718-4541-185145979160 | bSkwpaFVCmMXS8G2PR6k', 'id_boton': 1690, 'opc_nextid': 'Informativo | 7e74c6f6-46db-4b00-b8b3-07aac064e1de | 98525253-9080-3718-4541-185145979160 | bSkwpaFVCmMXS8G2PR6k'}\n",
      "Datos recibidos INSERT:\n",
      "{'id_elemento': '943', 'titlebutton': 'Facebook', 'typebutton': 'web_url', 'contentbutton': 'facebook.com', 'opc_nextid': 'facebook.com'}\n"
     ]
    },
    {
     "name": "stderr",
     "output_type": "stream",
     "text": [
      "127.0.0.1 - - [14/Jun/2021 23:54:23] \"\u001b[37mPOST /insert/botones HTTP/1.1\u001b[0m\" 200 -\n",
      "127.0.0.1 - - [14/Jun/2021 23:54:23] \"\u001b[37mPOST /insert/bloqueinformativo HTTP/1.1\u001b[0m\" 200 -\n"
     ]
    },
    {
     "name": "stdout",
     "output_type": "stream",
     "text": [
      "intenatando consulta...\n",
      "consulta: select * from botones where id_elemento= '943' and titlebutton= 'Facebook' and typebutton= 'web_url' and contentbutton= 'facebook.com' and opc_nextid= 'facebook.com' ;\n",
      "Datos enviados INSERT:\n",
      "{'id_elemento': '943', 'titlebutton': 'Facebook', 'typebutton': 'web_url', 'contentbutton': 'facebook.com', 'id_boton': 1691, 'opc_nextid': 'facebook.com'}\n",
      "Datos recibidos INSERT:\n",
      "{'next_id': 'Carrusel | cce128da-fc3c-4ab8-8733-0f93dff9b0ca | 19627070-4044-4254-7133-869533412022 | bSkwpaFVCmMXS8G2PR6k', 'namestate': 'Informativo | 34fa0024-002a-4673-8b70-6419afef7d4d | 19627070-4044-4254-7133-869533412022 | bSkwpaFVCmMXS8G2PR6k', 'contenido': 'Este es el carrusel prueba 2', 'contenttype': 'text', 'typingtime': '1', 'id_robot': 539, 'blocktype': 'informativo'}\n",
      "intenatando consulta...\n",
      "consulta: select * from bloqueinformativo where next_id= 'Carrusel | cce128da-fc3c-4ab8-8733-0f93dff9b0ca | 19627070-4044-4254-7133-869533412022 | bSkwpaFVCmMXS8G2PR6k' and namestate= 'Informativo | 34fa0024-002a-4673-8b70-6419afef7d4d | 19627070-4044-4254-7133-869533412022 | bSkwpaFVCmMXS8G2PR6k' and contenido= 'Este es el carrusel prueba 2' and contenttype= 'text' and typingtime= '1' and id_robot= '539' and blocktype= 'informativo' ;\n",
      "Datos enviados INSERT:\n",
      "{'namestate': 'Informativo | 34fa0024-002a-4673-8b70-6419afef7d4d | 19627070-4044-4254-7133-869533412022 | bSkwpaFVCmMXS8G2PR6k', 'contenido': 'Este es el carrusel prueba 2', 'next_id': 'Carrusel | cce128da-fc3c-4ab8-8733-0f93dff9b0ca | 19627070-4044-4254-7133-869533412022 | bSkwpaFVCmMXS8G2PR6k', 'blocktype': 'informativo', 'contenttype': 'text', 'typingtime': '1', 'id_block': 2811, 'id_robot': 539, 'opc_nextid': None, 'pos_y': None, 'pos_x': None, 'tag_active': None}\n",
      "Datos recibidos INSERT:\n",
      "{'name_var': 'variableCarrCarrusel_|_5aaf3158-308e-4b01-9283-f01f32d587c91822', 'opc_type': 'Variable', 'var': 0, 'opc_data': 'String', 'id_robot': 539}\n",
      "intenatando consulta...\n",
      "consulta: select * from variables where name_var= 'variableCarrCarrusel_|_5aaf3158-308e-4b01-9283-f01f32d587c91822' and opc_type= 'Variable' and var= '0' and opc_data= 'String' and id_robot= '539' ;\n"
     ]
    },
    {
     "name": "stderr",
     "output_type": "stream",
     "text": [
      "127.0.0.1 - - [14/Jun/2021 23:54:23] \"\u001b[37mPOST /insert/variables HTTP/1.1\u001b[0m\" 200 -\n",
      "127.0.0.1 - - [14/Jun/2021 23:54:23] \"\u001b[37mPOST /insert/bloqueslide HTTP/1.1\u001b[0m\" 200 -\n",
      "127.0.0.1 - - [14/Jun/2021 23:54:23] \"\u001b[37mPOST /insert/elementos HTTP/1.1\u001b[0m\" 200 -\n"
     ]
    },
    {
     "name": "stdout",
     "output_type": "stream",
     "text": [
      "Datos enviados INSERT:\n",
      "{'id_var': 1836, 'opc_type': 'Variable', 'opc_data': 'String', 'var': '0', 'id_robot': 539, 'name_var': 'variableCarrCarrusel_|_5aaf3158-308e-4b01-9283-f01f32d587c91822'}\n",
      "Datos recibidos INSERT:\n",
      "{'namestate': 'Carrusel | 5aaf3158-308e-4b01-9283-f01f32d587c9 | 07418629-1549-9289-4157-116148457825 | bSkwpaFVCmMXS8G2PR6k', 'blocktype': 'slide', 'typingtime': '1', 'default_id': 'Carrusel | 5aaf3158-308e-4b01-9283-f01f32d587c9 | 07418629-1549-9289-4157-116148457825 | bSkwpaFVCmMXS8G2PR6k', 'id_var': 1836, 'id_robot': 539}\n",
      "intenatando consulta...\n",
      "consulta: select * from bloqueslide where namestate= 'Carrusel | 5aaf3158-308e-4b01-9283-f01f32d587c9 | 07418629-1549-9289-4157-116148457825 | bSkwpaFVCmMXS8G2PR6k' and blocktype= 'slide' and typingtime= '1' and default_id= 'Carrusel | 5aaf3158-308e-4b01-9283-f01f32d587c9 | 07418629-1549-9289-4157-116148457825 | bSkwpaFVCmMXS8G2PR6k' and id_var= '1836' and id_robot= '539' ;\n",
      "Datos enviados INSERT:\n",
      "{'namestate': 'Carrusel | 5aaf3158-308e-4b01-9283-f01f32d587c9 | 07418629-1549-9289-4157-116148457825 | bSkwpaFVCmMXS8G2PR6k', 'next_id': None, 'blocktype': 'slide', 'typingtime': '1', 'default_id': 'Carrusel | 5aaf3158-308e-4b01-9283-f01f32d587c9 | 07418629-1549-9289-4157-116148457825 | bSkwpaFVCmMXS8G2PR6k', 'id_var': '1836', 'id_block': 549, 'id_robot': 539, 'opc_nextid': None, 'pos_y': None, 'pos_x': None, 'opc_elm': None, 'tag_active': None}\n",
      "Datos recibidos INSERT:\n",
      "{'subtitle': 'Subtitulo 1', 'image_url': 'https://sitechecker.pro/wp-content/uploads/2017/12/URL-meaning.png', 'title': 'Titulo 1', 'blocktype': 'slide', 'id_block': 549}\n",
      "intenatando consulta...\n",
      "consulta: select * from elementos where subtitle= 'Subtitulo 1' and image_url= 'https://sitechecker.pro/wp-content/uploads/2017/12/URL-meaning.png' and title= 'Titulo 1' and blocktype= 'slide' and id_block= '549' ;\n",
      "Datos enviados INSERT:\n",
      "{'blocktype': 'slide', 'title': 'Titulo 1', 'image_url': 'https://sitechecker.pro/wp-content/uploads/2017/12/URL-meaning.png', 'subtitle': 'Subtitulo 1', 'id_block': 549, 'id_elements': 944}\n",
      "Datos recibidos INSERT:\n",
      "{'id_elemento': '944', 'titlebutton': 'Opcion 1', 'typebutton': 'postback', 'contentbutton': 'QuickReply | 9cd75eb1-5f87-4a23-84aa-d6de05ed56b8 | 07418629-1549-9289-4157-116148457825 | bSkwpaFVCmMXS8G2PR6k', 'opc_nextid': 'QuickReply | 9cd75eb1-5f87-4a23-84aa-d6de05ed56b8 | 07418629-1549-9289-4157-116148457825 | bSkwpaFVCmMXS8G2PR6k'}\n"
     ]
    },
    {
     "name": "stderr",
     "output_type": "stream",
     "text": [
      "127.0.0.1 - - [14/Jun/2021 23:54:23] \"\u001b[37mPOST /insert/botones HTTP/1.1\u001b[0m\" 200 -\n",
      "127.0.0.1 - - [14/Jun/2021 23:54:23] \"\u001b[37mPOST /insert/botones HTTP/1.1\u001b[0m\" 200 -\n",
      "127.0.0.1 - - [14/Jun/2021 23:54:23] \"\u001b[37mPOST /insert/bloqueinformativo HTTP/1.1\u001b[0m\" 200 -\n"
     ]
    },
    {
     "name": "stdout",
     "output_type": "stream",
     "text": [
      "intenatando consulta...\n",
      "consulta: select * from botones where id_elemento= '944' and titlebutton= 'Opcion 1' and typebutton= 'postback' and contentbutton= 'QuickReply | 9cd75eb1-5f87-4a23-84aa-d6de05ed56b8 | 07418629-1549-9289-4157-116148457825 | bSkwpaFVCmMXS8G2PR6k' and opc_nextid= 'QuickReply | 9cd75eb1-5f87-4a23-84aa-d6de05ed56b8 | 07418629-1549-9289-4157-116148457825 | bSkwpaFVCmMXS8G2PR6k' ;\n",
      "Datos enviados INSERT:\n",
      "{'id_elemento': '944', 'titlebutton': 'Opcion 1', 'typebutton': 'postback', 'contentbutton': 'QuickReply | 9cd75eb1-5f87-4a23-84aa-d6de05ed56b8 | 07418629-1549-9289-4157-116148457825 | bSkwpaFVCmMXS8G2PR6k', 'id_boton': 1692, 'opc_nextid': 'QuickReply | 9cd75eb1-5f87-4a23-84aa-d6de05ed56b8 | 07418629-1549-9289-4157-116148457825 | bSkwpaFVCmMXS8G2PR6k'}\n",
      "Datos recibidos INSERT:\n",
      "{'id_elemento': '944', 'titlebutton': 'Opcion 2', 'typebutton': 'postback', 'contentbutton': 'QuickReply | f962f2fb-1047-4062-bac8-798fddc79ff2 | 07418629-1549-9289-4157-116148457825 | bSkwpaFVCmMXS8G2PR6k', 'opc_nextid': 'QuickReply | f962f2fb-1047-4062-bac8-798fddc79ff2 | 07418629-1549-9289-4157-116148457825 | bSkwpaFVCmMXS8G2PR6k'}\n",
      "intenatando consulta...\n",
      "consulta: select * from botones where id_elemento= '944' and titlebutton= 'Opcion 2' and typebutton= 'postback' and contentbutton= 'QuickReply | f962f2fb-1047-4062-bac8-798fddc79ff2 | 07418629-1549-9289-4157-116148457825 | bSkwpaFVCmMXS8G2PR6k' and opc_nextid= 'QuickReply | f962f2fb-1047-4062-bac8-798fddc79ff2 | 07418629-1549-9289-4157-116148457825 | bSkwpaFVCmMXS8G2PR6k' ;\n",
      "Datos enviados INSERT:\n",
      "{'id_elemento': '944', 'titlebutton': 'Opcion 2', 'typebutton': 'postback', 'contentbutton': 'QuickReply | f962f2fb-1047-4062-bac8-798fddc79ff2 | 07418629-1549-9289-4157-116148457825 | bSkwpaFVCmMXS8G2PR6k', 'id_boton': 1693, 'opc_nextid': 'QuickReply | f962f2fb-1047-4062-bac8-798fddc79ff2 | 07418629-1549-9289-4157-116148457825 | bSkwpaFVCmMXS8G2PR6k'}\n",
      "Datos recibidos INSERT:\n",
      "{'next_id': 'Carrusel | 5aaf3158-308e-4b01-9283-f01f32d587c9 | 07418629-1549-9289-4157-116148457825 | bSkwpaFVCmMXS8G2PR6k', 'namestate': 'Informativo | 98a8f39d-6761-48e7-aca7-66279cfabf40 | 07418629-1549-9289-4157-116148457825 | bSkwpaFVCmMXS8G2PR6k', 'contenido': 'Este es un bloque informativo', 'contenttype': 'text', 'typingtime': '1', 'id_robot': 539, 'blocktype': 'informativo'}\n",
      "intenatando consulta...\n",
      "consulta: select * from bloqueinformativo where next_id= 'Carrusel | 5aaf3158-308e-4b01-9283-f01f32d587c9 | 07418629-1549-9289-4157-116148457825 | bSkwpaFVCmMXS8G2PR6k' and namestate= 'Informativo | 98a8f39d-6761-48e7-aca7-66279cfabf40 | 07418629-1549-9289-4157-116148457825 | bSkwpaFVCmMXS8G2PR6k' and contenido= 'Este es un bloque informativo' and contenttype= 'text' and typingtime= '1' and id_robot= '539' and blocktype= 'informativo' ;\n",
      "Datos enviados INSERT:\n",
      "{'namestate': 'Informativo | 98a8f39d-6761-48e7-aca7-66279cfabf40 | 07418629-1549-9289-4157-116148457825 | bSkwpaFVCmMXS8G2PR6k', 'contenido': 'Este es un bloque informativo', 'next_id': 'Carrusel | 5aaf3158-308e-4b01-9283-f01f32d587c9 | 07418629-1549-9289-4157-116148457825 | bSkwpaFVCmMXS8G2PR6k', 'blocktype': 'informativo', 'contenttype': 'text', 'typingtime': '1', 'id_block': 2812, 'id_robot': 539, 'opc_nextid': None, 'pos_y': None, 'pos_x': None, 'tag_active': None}\n"
     ]
    },
    {
     "name": "stderr",
     "output_type": "stream",
     "text": [
      "127.0.0.1 - - [14/Jun/2021 23:54:23] \"\u001b[37mPOST /insert/variables HTTP/1.1\u001b[0m\" 200 -\n",
      "127.0.0.1 - - [14/Jun/2021 23:54:23] \"\u001b[37mPOST /insert/bloquequickreply HTTP/1.1\u001b[0m\" 200 -\n"
     ]
    },
    {
     "name": "stdout",
     "output_type": "stream",
     "text": [
      "Datos recibidos INSERT:\n",
      "{'name_var': 'variableQrQuickReply_|_9cd75eb1-5f87-4a23-84aa-d6de05ed56b88887', 'opc_type': 'Variable', 'var': 0, 'opc_data': 'String', 'id_robot': 539}\n",
      "intenatando consulta...\n",
      "consulta: select * from variables where name_var= 'variableQrQuickReply_|_9cd75eb1-5f87-4a23-84aa-d6de05ed56b88887' and opc_type= 'Variable' and var= '0' and opc_data= 'String' and id_robot= '539' ;\n",
      "Datos enviados INSERT:\n",
      "{'id_var': 1837, 'opc_type': 'Variable', 'opc_data': 'String', 'var': '0', 'id_robot': 539, 'name_var': 'variableQrQuickReply_|_9cd75eb1-5f87-4a23-84aa-d6de05ed56b88887'}\n",
      "Datos recibidos INSERT:\n",
      "{'contenido': 'QUICKREPLY 1', 'opciones': 'SALIDA 1', 'next_id': 'Input | cd6d4be8-c346-4550-a26e-4bb9a7230d3b | bSkwpaFVCmMXS8G2PR6k', 'default_id': 'QuickReply | 9cd75eb1-5f87-4a23-84aa-d6de05ed56b8 | 07418629-1549-9289-4157-116148457825 | bSkwpaFVCmMXS8G2PR6k', 'namestate': 'QuickReply | 9cd75eb1-5f87-4a23-84aa-d6de05ed56b8 | 07418629-1549-9289-4157-116148457825 | bSkwpaFVCmMXS8G2PR6k', 'typingtime': '1', 'id_robot': 539, 'id_var': 1837, 'blocktype': 'quickReply'}\n",
      "intenatando consulta...\n",
      "consulta: select * from bloquequickreply where contenido= 'QUICKREPLY 1' and opciones= 'SALIDA 1' and next_id= 'Input | cd6d4be8-c346-4550-a26e-4bb9a7230d3b | bSkwpaFVCmMXS8G2PR6k' and default_id= 'QuickReply | 9cd75eb1-5f87-4a23-84aa-d6de05ed56b8 | 07418629-1549-9289-4157-116148457825 | bSkwpaFVCmMXS8G2PR6k' and namestate= 'QuickReply | 9cd75eb1-5f87-4a23-84aa-d6de05ed56b8 | 07418629-1549-9289-4157-116148457825 | bSkwpaFVCmMXS8G2PR6k' and typingtime= '1' and id_robot= '539' and id_var= '1837' and blocktype= 'quickReply' ;\n",
      "Datos enviados INSERT:\n",
      "{'namestate': 'QuickReply | 9cd75eb1-5f87-4a23-84aa-d6de05ed56b8 | 07418629-1549-9289-4157-116148457825 | bSkwpaFVCmMXS8G2PR6k', 'contenido': 'QUICKREPLY 1', 'opciones': 'SALIDA 1', 'next_id': 'Input | cd6d4be8-c346-4550-a26e-4bb9a7230d3b | bSkwpaFVCmMXS8G2PR6k', 'blocktype': 'quickReply', 'typingtime': '1', 'default_id': 'QuickReply | 9cd75eb1-5f87-4a23-84aa-d6de05ed56b8 | 07418629-1549-9289-4157-116148457825 | bSkwpaFVCmMXS8G2PR6k', 'id_var': '1837', 'id_block': 670, 'id_robot': 539, 'opc_nextid': None, 'pos_y': None, 'pos_x': None, 'tag_active': None}\n",
      "Datos recibidos INSERT:\n",
      "{'name_var': 'variableQrQuickReply_|_f962f2fb-1047-4062-bac8-798fddc79ff23703', 'opc_type': 'Variable', 'var': 0, 'opc_data': 'String', 'id_robot': 539}\n",
      "intenatando consulta...\n",
      "consulta: select * from variables where name_var= 'variableQrQuickReply_|_f962f2fb-1047-4062-bac8-798fddc79ff23703' and opc_type= 'Variable' and var= '0' and opc_data= 'String' and id_robot= '539' ;\n"
     ]
    },
    {
     "name": "stderr",
     "output_type": "stream",
     "text": [
      "127.0.0.1 - - [14/Jun/2021 23:54:24] \"\u001b[37mPOST /insert/variables HTTP/1.1\u001b[0m\" 200 -\n",
      "127.0.0.1 - - [14/Jun/2021 23:54:24] \"\u001b[37mPOST /insert/bloquequickreply HTTP/1.1\u001b[0m\" 200 -\n",
      "127.0.0.1 - - [14/Jun/2021 23:54:24] \"\u001b[37mPOST /insert/bloqueinformativo HTTP/1.1\u001b[0m\" 200 -\n"
     ]
    },
    {
     "name": "stdout",
     "output_type": "stream",
     "text": [
      "Datos enviados INSERT:\n",
      "{'id_var': 1838, 'opc_type': 'Variable', 'opc_data': 'String', 'var': '0', 'id_robot': 539, 'name_var': 'variableQrQuickReply_|_f962f2fb-1047-4062-bac8-798fddc79ff23703'}\n",
      "Datos recibidos INSERT:\n",
      "{'contenido': 'quickreply 2', 'opciones': 'SALIDA 2', 'next_id': 'Input | cd6d4be8-c346-4550-a26e-4bb9a7230d3b | bSkwpaFVCmMXS8G2PR6k', 'default_id': 'QuickReply | f962f2fb-1047-4062-bac8-798fddc79ff2 | 07418629-1549-9289-4157-116148457825 | bSkwpaFVCmMXS8G2PR6k', 'namestate': 'QuickReply | f962f2fb-1047-4062-bac8-798fddc79ff2 | 07418629-1549-9289-4157-116148457825 | bSkwpaFVCmMXS8G2PR6k', 'typingtime': '1', 'id_robot': 539, 'id_var': 1838, 'blocktype': 'quickReply'}\n",
      "intenatando consulta...\n",
      "consulta: select * from bloquequickreply where contenido= 'quickreply 2' and opciones= 'SALIDA 2' and next_id= 'Input | cd6d4be8-c346-4550-a26e-4bb9a7230d3b | bSkwpaFVCmMXS8G2PR6k' and default_id= 'QuickReply | f962f2fb-1047-4062-bac8-798fddc79ff2 | 07418629-1549-9289-4157-116148457825 | bSkwpaFVCmMXS8G2PR6k' and namestate= 'QuickReply | f962f2fb-1047-4062-bac8-798fddc79ff2 | 07418629-1549-9289-4157-116148457825 | bSkwpaFVCmMXS8G2PR6k' and typingtime= '1' and id_robot= '539' and id_var= '1838' and blocktype= 'quickReply' ;\n",
      "Datos enviados INSERT:\n",
      "{'namestate': 'QuickReply | f962f2fb-1047-4062-bac8-798fddc79ff2 | 07418629-1549-9289-4157-116148457825 | bSkwpaFVCmMXS8G2PR6k', 'contenido': 'quickreply 2', 'opciones': 'SALIDA 2', 'next_id': 'Input | cd6d4be8-c346-4550-a26e-4bb9a7230d3b | bSkwpaFVCmMXS8G2PR6k', 'blocktype': 'quickReply', 'typingtime': '1', 'default_id': 'QuickReply | f962f2fb-1047-4062-bac8-798fddc79ff2 | 07418629-1549-9289-4157-116148457825 | bSkwpaFVCmMXS8G2PR6k', 'id_var': '1838', 'id_block': 671, 'id_robot': 539, 'opc_nextid': None, 'pos_y': None, 'pos_x': None, 'tag_active': None}\n",
      "Datos recibidos INSERT:\n",
      "{'next_id': 'Informativo | 98a8f39d-6761-48e7-aca7-66279cfabf40 | 07418629-1549-9289-4157-116148457825 | bSkwpaFVCmMXS8G2PR6k', 'namestate': 'Informativo | d9897d01-e0ce-44bd-ba3d-22973a7d74fd | bSkwpaFVCmMXS8G2PR6k', 'contenido': 'Soy el chatbot del TT-A056', 'contenttype': 'text', 'typingtime': '1', 'id_robot': 539, 'blocktype': 'informativo'}\n",
      "intenatando consulta...\n",
      "consulta: select * from bloqueinformativo where next_id= 'Informativo | 98a8f39d-6761-48e7-aca7-66279cfabf40 | 07418629-1549-9289-4157-116148457825 | bSkwpaFVCmMXS8G2PR6k' and namestate= 'Informativo | d9897d01-e0ce-44bd-ba3d-22973a7d74fd | bSkwpaFVCmMXS8G2PR6k' and contenido= 'Soy el chatbot del TT-A056' and contenttype= 'text' and typingtime= '1' and id_robot= '539' and blocktype= 'informativo' ;\n",
      "Datos enviados INSERT:\n",
      "{'namestate': 'Informativo | d9897d01-e0ce-44bd-ba3d-22973a7d74fd | bSkwpaFVCmMXS8G2PR6k', 'contenido': 'Soy el chatbot del TT-A056', 'next_id': 'Informativo | 98a8f39d-6761-48e7-aca7-66279cfabf40 | 07418629-1549-9289-4157-116148457825 | bSkwpaFVCmMXS8G2PR6k', 'blocktype': 'informativo', 'contenttype': 'text', 'typingtime': '1', 'id_block': 2813, 'id_robot': 539, 'opc_nextid': None, 'pos_y': None, 'pos_x': None, 'tag_active': None}\n",
      "Datos recibidos INSERT:\n",
      "{'next_id': 'Salida', 'namestate': 'Informativo | eb6262bf-2b65-4dc7-9d6a-9a8544083dde | bSkwpaFVCmMXS8G2PR6k', 'contenido': 'Adios', 'contenttype': 'text', 'typingtime': '1', 'id_robot': 539, 'blocktype': 'informativo'}\n"
     ]
    },
    {
     "name": "stderr",
     "output_type": "stream",
     "text": [
      "127.0.0.1 - - [14/Jun/2021 23:54:24] \"\u001b[37mPOST /insert/bloqueinformativo HTTP/1.1\u001b[0m\" 200 -\n",
      "127.0.0.1 - - [14/Jun/2021 23:54:24] \"\u001b[37mPOST /insert/variables HTTP/1.1\u001b[0m\" 200 -\n"
     ]
    },
    {
     "name": "stdout",
     "output_type": "stream",
     "text": [
      "intenatando consulta...\n",
      "consulta: select * from bloqueinformativo where next_id= 'Salida' and namestate= 'Informativo | eb6262bf-2b65-4dc7-9d6a-9a8544083dde | bSkwpaFVCmMXS8G2PR6k' and contenido= 'Adios' and contenttype= 'text' and typingtime= '1' and id_robot= '539' and blocktype= 'informativo' ;\n",
      "Datos enviados INSERT:\n",
      "{'namestate': 'Informativo | eb6262bf-2b65-4dc7-9d6a-9a8544083dde | bSkwpaFVCmMXS8G2PR6k', 'contenido': 'Adios', 'next_id': 'Salida', 'blocktype': 'informativo', 'contenttype': 'text', 'typingtime': '1', 'id_block': 2814, 'id_robot': 539, 'opc_nextid': None, 'pos_y': None, 'pos_x': None, 'tag_active': None}\n",
      "Datos recibidos INSERT:\n",
      "{'name_var': 'variableInputInput_|_cd6d4be8-c346-4550-a26e-4bb9a7230d3b2395', 'opc_type': 'Variable', 'var': 0, 'opc_data': 'String', 'id_robot': 539}\n",
      "intenatando consulta...\n",
      "consulta: select * from variables where name_var= 'variableInputInput_|_cd6d4be8-c346-4550-a26e-4bb9a7230d3b2395' and opc_type= 'Variable' and var= '0' and opc_data= 'String' and id_robot= '539' ;\n",
      "Datos enviados INSERT:\n",
      "{'id_var': 1839, 'opc_type': 'Variable', 'opc_data': 'String', 'var': '0', 'id_robot': 539, 'name_var': 'variableInputInput_|_cd6d4be8-c346-4550-a26e-4bb9a7230d3b2395'}\n",
      "Datos recibidos INSERT:\n",
      "{'next_id': 'Informativo | 34fa0024-002a-4673-8b70-6419afef7d4d | 19627070-4044-4254-7133-869533412022 | bSkwpaFVCmMXS8G2PR6k', 'default_id': 'Input | cd6d4be8-c346-4550-a26e-4bb9a7230d3b | bSkwpaFVCmMXS8G2PR6k', 'namestate': 'Input | cd6d4be8-c346-4550-a26e-4bb9a7230d3b | bSkwpaFVCmMXS8G2PR6k', 'contenido': 'Ingresa tu nombre', 'typingtime': '1', 'validacion': '', 'id_robot': 539, 'id_var': 1839, 'blocktype': 'input'}\n",
      "intenatando consulta...\n",
      "consulta: select * from bloqueinput where next_id= 'Informativo | 34fa0024-002a-4673-8b70-6419afef7d4d | 19627070-4044-4254-7133-869533412022 | bSkwpaFVCmMXS8G2PR6k' and default_id= 'Input | cd6d4be8-c346-4550-a26e-4bb9a7230d3b | bSkwpaFVCmMXS8G2PR6k' and namestate= 'Input | cd6d4be8-c346-4550-a26e-4bb9a7230d3b | bSkwpaFVCmMXS8G2PR6k' and contenido= 'Ingresa tu nombre' and typingtime= '1' and validacion= '' and id_robot= '539' and id_var= '1839' and blocktype= 'input' ;\n",
      "Datos enviados INSERT:\n",
      "{'namestate': 'Input | cd6d4be8-c346-4550-a26e-4bb9a7230d3b | bSkwpaFVCmMXS8G2PR6k', 'contenido': 'Ingresa tu nombre', 'next_id': 'Informativo | 34fa0024-002a-4673-8b70-6419afef7d4d | 19627070-4044-4254-7133-869533412022 | bSkwpaFVCmMXS8G2PR6k', 'blocktype': 'input', 'contenttype': None, 'typingtime': '1', 'validacion': '', 'default_id': 'Input | cd6d4be8-c346-4550-a26e-4bb9a7230d3b | bSkwpaFVCmMXS8G2PR6k', 'id_var': '1839', 'id_block': 391, 'id_robot': 539, 'opc_nextid': None, 'pos_y': None, 'pos_x': None, 'tag_active': None}\n"
     ]
    },
    {
     "name": "stderr",
     "output_type": "stream",
     "text": [
      "127.0.0.1 - - [14/Jun/2021 23:54:24] \"\u001b[37mPOST /insert/bloqueinput HTTP/1.1\u001b[0m\" 200 -\n",
      "127.0.0.1 - - [14/Jun/2021 23:54:24] \"\u001b[37mPOST /insert/bloqueinformativo HTTP/1.1\u001b[0m\" 200 -\n"
     ]
    },
    {
     "name": "stdout",
     "output_type": "stream",
     "text": [
      "Datos recibidos INSERT:\n",
      "{'next_id': '', 'namestate': 'Salida', 'contenido': '', 'contenttype': 'text', 'typingtime': 3, 'id_robot': 539, 'blocktype': 'informativo'}\n",
      "intenatando consulta...\n",
      "consulta: select * from bloqueinformativo where next_id= '' and namestate= 'Salida' and contenido= '' and contenttype= 'text' and typingtime= '3' and id_robot= '539' and blocktype= 'informativo' ;\n",
      "Datos enviados INSERT:\n",
      "{'namestate': 'Salida', 'contenido': '', 'next_id': '', 'blocktype': 'informativo', 'contenttype': 'text', 'typingtime': '3', 'id_block': 2815, 'id_robot': 539, 'opc_nextid': None, 'pos_y': None, 'pos_x': None, 'tag_active': None}\n"
     ]
    },
    {
     "name": "stderr",
     "output_type": "stream",
     "text": [
      "127.0.0.1 - - [14/Jun/2021 23:57:53] \"\u001b[37mGET /select/robots HTTP/1.1\u001b[0m\" 200 -\n",
      "127.0.0.1 - - [14/Jun/2021 23:57:53] \"\u001b[37mGET /select/bloqueslide HTTP/1.1\u001b[0m\" 200 -\n",
      "127.0.0.1 - - [14/Jun/2021 23:57:53] \"\u001b[37mGET /select/elementos HTTP/1.1\u001b[0m\" 200 -\n",
      "127.0.0.1 - - [14/Jun/2021 23:57:53] \"\u001b[37mGET /select/elementos HTTP/1.1\u001b[0m\" 200 -\n"
     ]
    },
    {
     "name": "stdout",
     "output_type": "stream",
     "text": [
      "Datos recibidos SELECT:\n",
      "{'name_robot': 'Chatbot TT 2021', 'id_face': '110373671266869', 'block_ini': 'Informativo | a0be25bb-4eb4-49c2-830f-6eb23d64966c | ZG7udwy8rzhE5xtUnOGl', 'type_blocki': 'informativo', 'access_token': 'EAALZCCZBzPwfkBAAtF3N1x3GCvg9UuN7alfdTNGmZC5d96EY7vYBM6hQQedeMtNTZAWxFVFBmRXfT2lp3m970ZCDZBhelEyxvK6PN9gHzEXZBbdxvqXqETQzUffJynrycHPnBBR5GtxJl2ulvP0uXrP0fTyoEmQ5GchMN0ckdunXK6MEd1Q40Cb', 'id_user': 'charlygoldcruz@gmail.com', 'api_nlp': 'http://localhost:8282/'}\n",
      "intenatando consulta...\n",
      "consulta: select * from robots where id_face = '110373671266869';\n",
      "Datos enviados SELECT:\n",
      "{'name_robot': 'Chatbot TT 2021', 'id_face': '110373671266869', 'block_ini': 'Informativo | a0be25bb-4eb4-49c2-830f-6eb23d64966c | ZG7udwy8rzhE5xtUnOGl', 'type_blocki': 'informativo', 'access_token': 'EAALZCCZBzPwfkBAAtF3N1x3GCvg9UuN7alfdTNGmZC5d96EY7vYBM6hQQedeMtNTZAWxFVFBmRXfT2lp3m970ZCDZBhelEyxvK6PN9gHzEXZBbdxvqXqETQzUffJynrycHPnBBR5GtxJl2ulvP0uXrP0fTyoEmQ5GchMN0ckdunXK6MEd1Q40Cb', 'api_nlp': 'http://localhost:8282/', 'id_robot': 538, 'id_user': 'charlygoldcruz@gmail.com'}\n",
      "Datos recibidos SELECT:\n",
      "{'id_robot': '538'}\n",
      "intenatando consulta...\n",
      "consulta: select * from bloqueslide where id_robot= '538' ;\n",
      "Datos enviados SELECT:\n",
      "[{'namestate': 'Carrusel | 5aaf3158-308e-4b01-9283-f01f32d587c9 | 96628859-0899-7537-4503-489244348545 | ZG7udwy8rzhE5xtUnOGl', 'next_id': 'QuickReply | 9cd75eb1-5f87-4a23-84aa-d6de05ed56b8 | 96628859-0899-7537-4503-489244348545 | ZG7udwy8rzhE5xtUnOGl,QuickReply | f962f2fb-1047-4062-bac8-798fddc79ff2 | 96628859-0899-7537-4503-489244348545 | ZG7udwy8rzhE5xtUnOGl', 'blocktype': 'slide', 'typingtime': '1', 'default_id': 'Carrusel | 5aaf3158-308e-4b01-9283-f01f32d587c9 | 96628859-0899-7537-4503-489244348545 | ZG7udwy8rzhE5xtUnOGl', 'id_var': '1829', 'id_block': 544, 'id_robot': 538, 'opc_nextid': None, 'pos_y': None, 'pos_x': None, 'opc_elm': None, 'tag_active': None}, {'namestate': 'Carrusel | cce128da-fc3c-4ab8-8733-0f93dff9b0ca | 55686726-3982-4003-0323-821800355990 | ZG7udwy8rzhE5xtUnOGl', 'next_id': 'Informativo | 72991cca-745b-4886-8ac4-c92d730c134a | ZG7udwy8rzhE5xtUnOGl,facebook.com', 'blocktype': 'slide', 'typingtime': '1', 'default_id': 'Carrusel | cce128da-fc3c-4ab8-8733-0f93dff9b0ca | 55686726-3982-4003-0323-821800355990 | ZG7udwy8rzhE5xtUnOGl', 'id_var': '1832', 'id_block': 545, 'id_robot': 538, 'opc_nextid': None, 'pos_y': None, 'pos_x': None, 'opc_elm': None, 'tag_active': None}, {'namestate': 'Carrusel | cce128da-fc3c-4ab8-8733-0f93dff9b0ca | 36067394-2558-1046-0765-010229045532 | ZG7udwy8rzhE5xtUnOGl', 'next_id': 'Informativo | 72991cca-745b-4886-8ac4-c92d730c134a | ZG7udwy8rzhE5xtUnOGl,facebook.com', 'blocktype': 'slide', 'typingtime': '1', 'default_id': 'Carrusel | cce128da-fc3c-4ab8-8733-0f93dff9b0ca | 36067394-2558-1046-0765-010229045532 | ZG7udwy8rzhE5xtUnOGl', 'id_var': '1833', 'id_block': 546, 'id_robot': 538, 'opc_nextid': None, 'pos_y': None, 'pos_x': None, 'opc_elm': None, 'tag_active': None}]\n",
      "Datos recibidos SELECT:\n",
      "{'id_block': 544}\n",
      "intenatando consulta...\n",
      "consulta: select * from elementos where id_block= '544' ;\n",
      "Datos enviados SELECT:\n",
      "{'blocktype': 'slide', 'title': 'Titulo 1', 'image_url': 'https://sitechecker.pro/wp-content/uploads/2017/12/URL-meaning.png', 'subtitle': 'Subtitulo 1', 'id_block': 544, 'id_elements': 937}\n",
      "Datos recibidos SELECT:\n",
      "{'id_block': 545}\n",
      "intenatando consulta...\n",
      "consulta: select * from elementos where id_block= '545' ;\n",
      "Datos enviados SELECT:\n",
      "{'blocktype': 'slide', 'title': 'Titulo 1', 'image_url': 'https://jalisco.quadratin.com.mx/www/wp-content/uploads/2020/11/grupo-firme-1-1160x700.jpg', 'subtitle': 'Subtitulo 1', 'id_block': 545, 'id_elements': 938}\n"
     ]
    },
    {
     "name": "stderr",
     "output_type": "stream",
     "text": [
      "127.0.0.1 - - [14/Jun/2021 23:57:53] \"\u001b[37mGET /select/elementos HTTP/1.1\u001b[0m\" 200 -\n",
      "127.0.0.1 - - [14/Jun/2021 23:57:54] \"\u001b[37mPOST /insert/variables HTTP/1.1\u001b[0m\" 200 -\n"
     ]
    },
    {
     "name": "stdout",
     "output_type": "stream",
     "text": [
      "Datos recibidos SELECT:\n",
      "{'id_block': 546}\n",
      "intenatando consulta...\n",
      "consulta: select * from elementos where id_block= '546' ;\n",
      "Datos enviados SELECT:\n",
      "{'blocktype': 'slide', 'title': 'Titulo 1', 'image_url': 'https://jalisco.quadratin.com.mx/www/wp-content/uploads/2020/11/grupo-firme-1-1160x700.jpg', 'subtitle': 'Subtitulo 1', 'id_block': 546, 'id_elements': 939}\n",
      "Datos recibidos INSERT:\n",
      "{'name_var': 'variableCarrCarrusel_|_5aaf3158-308e-4b01-9283-f01f32d587c95051', 'opc_type': 'Variable', 'var': 0, 'opc_data': 'String', 'id_robot': 538}\n",
      "intenatando consulta...\n",
      "consulta: select * from variables where name_var= 'variableCarrCarrusel_|_5aaf3158-308e-4b01-9283-f01f32d587c95051' and opc_type= 'Variable' and var= '0' and opc_data= 'String' and id_robot= '538' ;\n",
      "Datos enviados INSERT:\n",
      "{'id_var': 1840, 'opc_type': 'Variable', 'opc_data': 'String', 'var': '0', 'id_robot': 538, 'name_var': 'variableCarrCarrusel_|_5aaf3158-308e-4b01-9283-f01f32d587c95051'}\n",
      "Datos recibidos INSERT:\n",
      "{'namestate': 'Carrusel | 5aaf3158-308e-4b01-9283-f01f32d587c9 | 96628859-0899-7537-4503-489244348545 | ZG7udwy8rzhE5xtUnOGl', 'blocktype': 'slide', 'typingtime': '1', 'default_id': 'Carrusel | 5aaf3158-308e-4b01-9283-f01f32d587c9 | 96628859-0899-7537-4503-489244348545 | ZG7udwy8rzhE5xtUnOGl', 'id_var': 1840, 'id_robot': 538}\n"
     ]
    },
    {
     "name": "stderr",
     "output_type": "stream",
     "text": [
      "127.0.0.1 - - [14/Jun/2021 23:57:54] \"\u001b[37mPOST /insert/bloqueslide HTTP/1.1\u001b[0m\" 200 -\n",
      "127.0.0.1 - - [14/Jun/2021 23:57:54] \"\u001b[37mPOST /insert/elementos HTTP/1.1\u001b[0m\" 200 -\n",
      "127.0.0.1 - - [14/Jun/2021 23:57:54] \"\u001b[37mPOST /insert/botones HTTP/1.1\u001b[0m\" 200 -\n"
     ]
    },
    {
     "name": "stdout",
     "output_type": "stream",
     "text": [
      "intenatando consulta...\n",
      "consulta: select * from bloqueslide where namestate= 'Carrusel | 5aaf3158-308e-4b01-9283-f01f32d587c9 | 96628859-0899-7537-4503-489244348545 | ZG7udwy8rzhE5xtUnOGl' and blocktype= 'slide' and typingtime= '1' and default_id= 'Carrusel | 5aaf3158-308e-4b01-9283-f01f32d587c9 | 96628859-0899-7537-4503-489244348545 | ZG7udwy8rzhE5xtUnOGl' and id_var= '1840' and id_robot= '538' ;\n",
      "Datos enviados INSERT:\n",
      "{'namestate': 'Carrusel | 5aaf3158-308e-4b01-9283-f01f32d587c9 | 96628859-0899-7537-4503-489244348545 | ZG7udwy8rzhE5xtUnOGl', 'next_id': None, 'blocktype': 'slide', 'typingtime': '1', 'default_id': 'Carrusel | 5aaf3158-308e-4b01-9283-f01f32d587c9 | 96628859-0899-7537-4503-489244348545 | ZG7udwy8rzhE5xtUnOGl', 'id_var': '1840', 'id_block': 550, 'id_robot': 538, 'opc_nextid': None, 'pos_y': None, 'pos_x': None, 'opc_elm': None, 'tag_active': None}\n",
      "Datos recibidos INSERT:\n",
      "{'subtitle': 'Subtitulo 1', 'image_url': 'https://sitechecker.pro/wp-content/uploads/2017/12/URL-meaning.png', 'title': 'Titulo 1', 'blocktype': 'slide', 'id_block': 550}\n",
      "intenatando consulta...\n",
      "consulta: select * from elementos where subtitle= 'Subtitulo 1' and image_url= 'https://sitechecker.pro/wp-content/uploads/2017/12/URL-meaning.png' and title= 'Titulo 1' and blocktype= 'slide' and id_block= '550' ;\n",
      "Datos enviados INSERT:\n",
      "{'blocktype': 'slide', 'title': 'Titulo 1', 'image_url': 'https://sitechecker.pro/wp-content/uploads/2017/12/URL-meaning.png', 'subtitle': 'Subtitulo 1', 'id_block': 550, 'id_elements': 945}\n",
      "Datos recibidos INSERT:\n",
      "{'id_elemento': '945', 'titlebutton': 'Opcion 1', 'typebutton': 'postback', 'contentbutton': 'QuickReply | 9cd75eb1-5f87-4a23-84aa-d6de05ed56b8 | 96628859-0899-7537-4503-489244348545 | ZG7udwy8rzhE5xtUnOGl', 'opc_nextid': 'QuickReply | 9cd75eb1-5f87-4a23-84aa-d6de05ed56b8 | 96628859-0899-7537-4503-489244348545 | ZG7udwy8rzhE5xtUnOGl'}\n",
      "intenatando consulta...\n",
      "consulta: select * from botones where id_elemento= '945' and titlebutton= 'Opcion 1' and typebutton= 'postback' and contentbutton= 'QuickReply | 9cd75eb1-5f87-4a23-84aa-d6de05ed56b8 | 96628859-0899-7537-4503-489244348545 | ZG7udwy8rzhE5xtUnOGl' and opc_nextid= 'QuickReply | 9cd75eb1-5f87-4a23-84aa-d6de05ed56b8 | 96628859-0899-7537-4503-489244348545 | ZG7udwy8rzhE5xtUnOGl' ;\n",
      "Datos enviados INSERT:\n",
      "{'id_elemento': '945', 'titlebutton': 'Opcion 1', 'typebutton': 'postback', 'contentbutton': 'QuickReply | 9cd75eb1-5f87-4a23-84aa-d6de05ed56b8 | 96628859-0899-7537-4503-489244348545 | ZG7udwy8rzhE5xtUnOGl', 'id_boton': 1694, 'opc_nextid': 'QuickReply | 9cd75eb1-5f87-4a23-84aa-d6de05ed56b8 | 96628859-0899-7537-4503-489244348545 | ZG7udwy8rzhE5xtUnOGl'}\n",
      "Datos recibidos INSERT:\n",
      "{'id_elemento': '945', 'titlebutton': 'Opcion 2', 'typebutton': 'postback', 'contentbutton': 'QuickReply | f962f2fb-1047-4062-bac8-798fddc79ff2 | 96628859-0899-7537-4503-489244348545 | ZG7udwy8rzhE5xtUnOGl', 'opc_nextid': 'QuickReply | f962f2fb-1047-4062-bac8-798fddc79ff2 | 96628859-0899-7537-4503-489244348545 | ZG7udwy8rzhE5xtUnOGl'}\n"
     ]
    },
    {
     "name": "stderr",
     "output_type": "stream",
     "text": [
      "127.0.0.1 - - [14/Jun/2021 23:57:54] \"\u001b[37mPOST /insert/botones HTTP/1.1\u001b[0m\" 200 -\n",
      "127.0.0.1 - - [14/Jun/2021 23:57:54] \"\u001b[37mPOST /insert/bloqueinformativo HTTP/1.1\u001b[0m\" 200 -\n"
     ]
    },
    {
     "name": "stdout",
     "output_type": "stream",
     "text": [
      "intenatando consulta...\n",
      "consulta: select * from botones where id_elemento= '945' and titlebutton= 'Opcion 2' and typebutton= 'postback' and contentbutton= 'QuickReply | f962f2fb-1047-4062-bac8-798fddc79ff2 | 96628859-0899-7537-4503-489244348545 | ZG7udwy8rzhE5xtUnOGl' and opc_nextid= 'QuickReply | f962f2fb-1047-4062-bac8-798fddc79ff2 | 96628859-0899-7537-4503-489244348545 | ZG7udwy8rzhE5xtUnOGl' ;\n",
      "Datos enviados INSERT:\n",
      "{'id_elemento': '945', 'titlebutton': 'Opcion 2', 'typebutton': 'postback', 'contentbutton': 'QuickReply | f962f2fb-1047-4062-bac8-798fddc79ff2 | 96628859-0899-7537-4503-489244348545 | ZG7udwy8rzhE5xtUnOGl', 'id_boton': 1695, 'opc_nextid': 'QuickReply | f962f2fb-1047-4062-bac8-798fddc79ff2 | 96628859-0899-7537-4503-489244348545 | ZG7udwy8rzhE5xtUnOGl'}\n",
      "Datos recibidos INSERT:\n",
      "{'next_id': 'Carrusel | 5aaf3158-308e-4b01-9283-f01f32d587c9 | 96628859-0899-7537-4503-489244348545 | ZG7udwy8rzhE5xtUnOGl', 'namestate': 'Informativo | 98a8f39d-6761-48e7-aca7-66279cfabf40 | 96628859-0899-7537-4503-489244348545 | ZG7udwy8rzhE5xtUnOGl', 'contenido': 'Este es un bloque informativo', 'contenttype': 'text', 'typingtime': '1', 'id_robot': 538, 'blocktype': 'informativo'}\n",
      "intenatando consulta...\n",
      "consulta: select * from bloqueinformativo where next_id= 'Carrusel | 5aaf3158-308e-4b01-9283-f01f32d587c9 | 96628859-0899-7537-4503-489244348545 | ZG7udwy8rzhE5xtUnOGl' and namestate= 'Informativo | 98a8f39d-6761-48e7-aca7-66279cfabf40 | 96628859-0899-7537-4503-489244348545 | ZG7udwy8rzhE5xtUnOGl' and contenido= 'Este es un bloque informativo' and contenttype= 'text' and typingtime= '1' and id_robot= '538' and blocktype= 'informativo' ;\n",
      "Datos enviados INSERT:\n",
      "{'namestate': 'Informativo | 98a8f39d-6761-48e7-aca7-66279cfabf40 | 96628859-0899-7537-4503-489244348545 | ZG7udwy8rzhE5xtUnOGl', 'contenido': 'Este es un bloque informativo', 'next_id': 'Carrusel | 5aaf3158-308e-4b01-9283-f01f32d587c9 | 96628859-0899-7537-4503-489244348545 | ZG7udwy8rzhE5xtUnOGl', 'blocktype': 'informativo', 'contenttype': 'text', 'typingtime': '1', 'id_block': 2816, 'id_robot': 538, 'opc_nextid': None, 'pos_y': None, 'pos_x': None, 'tag_active': None}\n",
      "Datos recibidos INSERT:\n",
      "{'name_var': 'variableQrQuickReply_|_9cd75eb1-5f87-4a23-84aa-d6de05ed56b86881', 'opc_type': 'Variable', 'var': 0, 'opc_data': 'String', 'id_robot': 538}\n",
      "intenatando consulta...\n",
      "consulta: select * from variables where name_var= 'variableQrQuickReply_|_9cd75eb1-5f87-4a23-84aa-d6de05ed56b86881' and opc_type= 'Variable' and var= '0' and opc_data= 'String' and id_robot= '538' ;\n"
     ]
    },
    {
     "name": "stderr",
     "output_type": "stream",
     "text": [
      "127.0.0.1 - - [14/Jun/2021 23:57:54] \"\u001b[37mPOST /insert/variables HTTP/1.1\u001b[0m\" 200 -\n",
      "127.0.0.1 - - [14/Jun/2021 23:57:54] \"\u001b[37mPOST /insert/bloquequickreply HTTP/1.1\u001b[0m\" 200 -\n",
      "127.0.0.1 - - [14/Jun/2021 23:57:54] \"\u001b[37mPOST /insert/variables HTTP/1.1\u001b[0m\" 200 -\n"
     ]
    },
    {
     "name": "stdout",
     "output_type": "stream",
     "text": [
      "Datos enviados INSERT:\n",
      "{'id_var': 1841, 'opc_type': 'Variable', 'opc_data': 'String', 'var': '0', 'id_robot': 538, 'name_var': 'variableQrQuickReply_|_9cd75eb1-5f87-4a23-84aa-d6de05ed56b86881'}\n",
      "Datos recibidos INSERT:\n",
      "{'contenido': 'QUICKREPLY 1', 'opciones': 'SALIDA 1', 'next_id': 'Informativo | 34fa0024-002a-4673-8b70-6419afef7d4d | 55686726-3982-4003-0323-821800355990 | ZG7udwy8rzhE5xtUnOGl', 'default_id': 'QuickReply | 9cd75eb1-5f87-4a23-84aa-d6de05ed56b8 | 96628859-0899-7537-4503-489244348545 | ZG7udwy8rzhE5xtUnOGl', 'namestate': 'QuickReply | 9cd75eb1-5f87-4a23-84aa-d6de05ed56b8 | 96628859-0899-7537-4503-489244348545 | ZG7udwy8rzhE5xtUnOGl', 'typingtime': '1', 'id_robot': 538, 'id_var': 1841, 'blocktype': 'quickReply'}\n",
      "intenatando consulta...\n",
      "consulta: select * from bloquequickreply where contenido= 'QUICKREPLY 1' and opciones= 'SALIDA 1' and next_id= 'Informativo | 34fa0024-002a-4673-8b70-6419afef7d4d | 55686726-3982-4003-0323-821800355990 | ZG7udwy8rzhE5xtUnOGl' and default_id= 'QuickReply | 9cd75eb1-5f87-4a23-84aa-d6de05ed56b8 | 96628859-0899-7537-4503-489244348545 | ZG7udwy8rzhE5xtUnOGl' and namestate= 'QuickReply | 9cd75eb1-5f87-4a23-84aa-d6de05ed56b8 | 96628859-0899-7537-4503-489244348545 | ZG7udwy8rzhE5xtUnOGl' and typingtime= '1' and id_robot= '538' and id_var= '1841' and blocktype= 'quickReply' ;\n",
      "Datos enviados INSERT:\n",
      "{'namestate': 'QuickReply | 9cd75eb1-5f87-4a23-84aa-d6de05ed56b8 | 96628859-0899-7537-4503-489244348545 | ZG7udwy8rzhE5xtUnOGl', 'contenido': 'QUICKREPLY 1', 'opciones': 'SALIDA 1', 'next_id': 'Informativo | 34fa0024-002a-4673-8b70-6419afef7d4d | 55686726-3982-4003-0323-821800355990 | ZG7udwy8rzhE5xtUnOGl', 'blocktype': 'quickReply', 'typingtime': '1', 'default_id': 'QuickReply | 9cd75eb1-5f87-4a23-84aa-d6de05ed56b8 | 96628859-0899-7537-4503-489244348545 | ZG7udwy8rzhE5xtUnOGl', 'id_var': '1841', 'id_block': 672, 'id_robot': 538, 'opc_nextid': None, 'pos_y': None, 'pos_x': None, 'tag_active': None}\n",
      "Datos recibidos INSERT:\n",
      "{'name_var': 'variableQrQuickReply_|_f962f2fb-1047-4062-bac8-798fddc79ff28479', 'opc_type': 'Variable', 'var': 0, 'opc_data': 'String', 'id_robot': 538}\n",
      "intenatando consulta...\n",
      "consulta: select * from variables where name_var= 'variableQrQuickReply_|_f962f2fb-1047-4062-bac8-798fddc79ff28479' and opc_type= 'Variable' and var= '0' and opc_data= 'String' and id_robot= '538' ;\n",
      "Datos enviados INSERT:\n",
      "{'id_var': 1842, 'opc_type': 'Variable', 'opc_data': 'String', 'var': '0', 'id_robot': 538, 'name_var': 'variableQrQuickReply_|_f962f2fb-1047-4062-bac8-798fddc79ff28479'}\n",
      "Datos recibidos INSERT:\n",
      "{'contenido': 'quickreply 2', 'opciones': 'SALIDA 2', 'next_id': 'Informativo | 34fa0024-002a-4673-8b70-6419afef7d4d | 36067394-2558-1046-0765-010229045532 | ZG7udwy8rzhE5xtUnOGl', 'default_id': 'QuickReply | f962f2fb-1047-4062-bac8-798fddc79ff2 | 96628859-0899-7537-4503-489244348545 | ZG7udwy8rzhE5xtUnOGl', 'namestate': 'QuickReply | f962f2fb-1047-4062-bac8-798fddc79ff2 | 96628859-0899-7537-4503-489244348545 | ZG7udwy8rzhE5xtUnOGl', 'typingtime': '1', 'id_robot': 538, 'id_var': 1842, 'blocktype': 'quickReply'}\n"
     ]
    },
    {
     "name": "stderr",
     "output_type": "stream",
     "text": [
      "127.0.0.1 - - [14/Jun/2021 23:57:54] \"\u001b[37mPOST /insert/bloquequickreply HTTP/1.1\u001b[0m\" 200 -\n",
      "127.0.0.1 - - [14/Jun/2021 23:57:54] \"\u001b[37mPOST /insert/variables HTTP/1.1\u001b[0m\" 200 -\n",
      "127.0.0.1 - - [14/Jun/2021 23:57:54] \"\u001b[37mPOST /insert/bloqueslide HTTP/1.1\u001b[0m\" 200 -\n"
     ]
    },
    {
     "name": "stdout",
     "output_type": "stream",
     "text": [
      "intenatando consulta...\n",
      "consulta: select * from bloquequickreply where contenido= 'quickreply 2' and opciones= 'SALIDA 2' and next_id= 'Informativo | 34fa0024-002a-4673-8b70-6419afef7d4d | 36067394-2558-1046-0765-010229045532 | ZG7udwy8rzhE5xtUnOGl' and default_id= 'QuickReply | f962f2fb-1047-4062-bac8-798fddc79ff2 | 96628859-0899-7537-4503-489244348545 | ZG7udwy8rzhE5xtUnOGl' and namestate= 'QuickReply | f962f2fb-1047-4062-bac8-798fddc79ff2 | 96628859-0899-7537-4503-489244348545 | ZG7udwy8rzhE5xtUnOGl' and typingtime= '1' and id_robot= '538' and id_var= '1842' and blocktype= 'quickReply' ;\n",
      "Datos enviados INSERT:\n",
      "{'namestate': 'QuickReply | f962f2fb-1047-4062-bac8-798fddc79ff2 | 96628859-0899-7537-4503-489244348545 | ZG7udwy8rzhE5xtUnOGl', 'contenido': 'quickreply 2', 'opciones': 'SALIDA 2', 'next_id': 'Informativo | 34fa0024-002a-4673-8b70-6419afef7d4d | 36067394-2558-1046-0765-010229045532 | ZG7udwy8rzhE5xtUnOGl', 'blocktype': 'quickReply', 'typingtime': '1', 'default_id': 'QuickReply | f962f2fb-1047-4062-bac8-798fddc79ff2 | 96628859-0899-7537-4503-489244348545 | ZG7udwy8rzhE5xtUnOGl', 'id_var': '1842', 'id_block': 673, 'id_robot': 538, 'opc_nextid': None, 'pos_y': None, 'pos_x': None, 'tag_active': None}\n",
      "Datos recibidos INSERT:\n",
      "{'name_var': 'undefinedCarrusel_|_cce128da-fc3c-4ab8-8733-0f93dff9b0ca1927', 'opc_type': 'Variable', 'var': 0, 'opc_data': 'String', 'id_robot': 538}\n",
      "intenatando consulta...\n",
      "consulta: select * from variables where name_var= 'undefinedCarrusel_|_cce128da-fc3c-4ab8-8733-0f93dff9b0ca1927' and opc_type= 'Variable' and var= '0' and opc_data= 'String' and id_robot= '538' ;\n",
      "Datos enviados INSERT:\n",
      "{'id_var': 1843, 'opc_type': 'Variable', 'opc_data': 'String', 'var': '0', 'id_robot': 538, 'name_var': 'undefinedCarrusel_|_cce128da-fc3c-4ab8-8733-0f93dff9b0ca1927'}\n",
      "Datos recibidos INSERT:\n",
      "{'namestate': 'Carrusel | cce128da-fc3c-4ab8-8733-0f93dff9b0ca | 55686726-3982-4003-0323-821800355990 | ZG7udwy8rzhE5xtUnOGl', 'blocktype': 'slide', 'typingtime': '1', 'default_id': 'Carrusel | cce128da-fc3c-4ab8-8733-0f93dff9b0ca | 55686726-3982-4003-0323-821800355990 | ZG7udwy8rzhE5xtUnOGl', 'id_var': 1843, 'id_robot': 538}\n",
      "intenatando consulta...\n",
      "consulta: select * from bloqueslide where namestate= 'Carrusel | cce128da-fc3c-4ab8-8733-0f93dff9b0ca | 55686726-3982-4003-0323-821800355990 | ZG7udwy8rzhE5xtUnOGl' and blocktype= 'slide' and typingtime= '1' and default_id= 'Carrusel | cce128da-fc3c-4ab8-8733-0f93dff9b0ca | 55686726-3982-4003-0323-821800355990 | ZG7udwy8rzhE5xtUnOGl' and id_var= '1843' and id_robot= '538' ;\n",
      "Datos enviados INSERT:\n",
      "{'namestate': 'Carrusel | cce128da-fc3c-4ab8-8733-0f93dff9b0ca | 55686726-3982-4003-0323-821800355990 | ZG7udwy8rzhE5xtUnOGl', 'next_id': None, 'blocktype': 'slide', 'typingtime': '1', 'default_id': 'Carrusel | cce128da-fc3c-4ab8-8733-0f93dff9b0ca | 55686726-3982-4003-0323-821800355990 | ZG7udwy8rzhE5xtUnOGl', 'id_var': '1843', 'id_block': 551, 'id_robot': 538, 'opc_nextid': None, 'pos_y': None, 'pos_x': None, 'opc_elm': None, 'tag_active': None}\n",
      "Datos recibidos INSERT:\n",
      "{'image_url': 'https://jalisco.quadratin.com.mx/www/wp-content/uploads/2020/11/grupo-firme-1-1160x700.jpg', 'title': 'Titulo 1', 'subtitle': 'Subtitulo 1', 'blocktype': 'slide', 'id_block': 551}\n"
     ]
    },
    {
     "name": "stderr",
     "output_type": "stream",
     "text": [
      "127.0.0.1 - - [14/Jun/2021 23:57:55] \"\u001b[37mPOST /insert/elementos HTTP/1.1\u001b[0m\" 200 -\n",
      "127.0.0.1 - - [14/Jun/2021 23:57:55] \"\u001b[37mPOST /insert/botones HTTP/1.1\u001b[0m\" 200 -\n",
      "127.0.0.1 - - [14/Jun/2021 23:57:55] \"\u001b[37mPOST /insert/botones HTTP/1.1\u001b[0m\" 200 -\n"
     ]
    },
    {
     "name": "stdout",
     "output_type": "stream",
     "text": [
      "intenatando consulta...\n",
      "consulta: select * from elementos where image_url= 'https://jalisco.quadratin.com.mx/www/wp-content/uploads/2020/11/grupo-firme-1-1160x700.jpg' and title= 'Titulo 1' and subtitle= 'Subtitulo 1' and blocktype= 'slide' and id_block= '551' ;\n",
      "Datos enviados INSERT:\n",
      "{'blocktype': 'slide', 'title': 'Titulo 1', 'image_url': 'https://jalisco.quadratin.com.mx/www/wp-content/uploads/2020/11/grupo-firme-1-1160x700.jpg', 'subtitle': 'Subtitulo 1', 'id_block': 551, 'id_elements': 946}\n",
      "Datos recibidos INSERT:\n",
      "{'id_elemento': '946', 'titlebutton': 'Salida 1', 'typebutton': 'postback', 'contentbutton': 'Informativo | 72991cca-745b-4886-8ac4-c92d730c134a | ZG7udwy8rzhE5xtUnOGl', 'opc_nextid': 'Informativo | 72991cca-745b-4886-8ac4-c92d730c134a | ZG7udwy8rzhE5xtUnOGl'}\n",
      "intenatando consulta...\n",
      "consulta: select * from botones where id_elemento= '946' and titlebutton= 'Salida 1' and typebutton= 'postback' and contentbutton= 'Informativo | 72991cca-745b-4886-8ac4-c92d730c134a | ZG7udwy8rzhE5xtUnOGl' and opc_nextid= 'Informativo | 72991cca-745b-4886-8ac4-c92d730c134a | ZG7udwy8rzhE5xtUnOGl' ;\n",
      "Datos enviados INSERT:\n",
      "{'id_elemento': '946', 'titlebutton': 'Salida 1', 'typebutton': 'postback', 'contentbutton': 'Informativo | 72991cca-745b-4886-8ac4-c92d730c134a | ZG7udwy8rzhE5xtUnOGl', 'id_boton': 1696, 'opc_nextid': 'Informativo | 72991cca-745b-4886-8ac4-c92d730c134a | ZG7udwy8rzhE5xtUnOGl'}\n",
      "Datos recibidos INSERT:\n",
      "{'id_elemento': '946', 'titlebutton': 'Facebookkkk', 'typebutton': 'postback', 'contentbutton': 'Input prueba carrusel 2 | 3e82e3b7-d8da-4955-aff4-9bcbee291db6 | 55686726-3982-4003-0323-821800355990 | ZG7udwy8rzhE5xtUnOGl', 'opc_nextid': 'Input prueba carrusel 2 | 3e82e3b7-d8da-4955-aff4-9bcbee291db6 | 55686726-3982-4003-0323-821800355990 | ZG7udwy8rzhE5xtUnOGl'}\n",
      "intenatando consulta...\n",
      "consulta: select * from botones where id_elemento= '946' and titlebutton= 'Facebookkkk' and typebutton= 'postback' and contentbutton= 'Input prueba carrusel 2 | 3e82e3b7-d8da-4955-aff4-9bcbee291db6 | 55686726-3982-4003-0323-821800355990 | ZG7udwy8rzhE5xtUnOGl' and opc_nextid= 'Input prueba carrusel 2 | 3e82e3b7-d8da-4955-aff4-9bcbee291db6 | 55686726-3982-4003-0323-821800355990 | ZG7udwy8rzhE5xtUnOGl' ;\n",
      "Datos enviados INSERT:\n",
      "{'id_elemento': '946', 'titlebutton': 'Facebookkkk', 'typebutton': 'postback', 'contentbutton': 'Input prueba carrusel 2 | 3e82e3b7-d8da-4955-aff4-9bcbee291db6 | 55686726-3982-4003-0323-821800355990 | ZG7udwy8rzhE5xtUnOGl', 'id_boton': 1697, 'opc_nextid': 'Input prueba carrusel 2 | 3e82e3b7-d8da-4955-aff4-9bcbee291db6 | 55686726-3982-4003-0323-821800355990 | ZG7udwy8rzhE5xtUnOGl'}\n"
     ]
    },
    {
     "name": "stderr",
     "output_type": "stream",
     "text": [
      "127.0.0.1 - - [14/Jun/2021 23:57:55] \"\u001b[37mPOST /insert/bloqueinformativo HTTP/1.1\u001b[0m\" 200 -\n",
      "127.0.0.1 - - [14/Jun/2021 23:57:55] \"\u001b[37mPOST /insert/variables HTTP/1.1\u001b[0m\" 200 -\n"
     ]
    },
    {
     "name": "stdout",
     "output_type": "stream",
     "text": [
      "Datos recibidos INSERT:\n",
      "{'next_id': 'Carrusel | cce128da-fc3c-4ab8-8733-0f93dff9b0ca | 55686726-3982-4003-0323-821800355990 | ZG7udwy8rzhE5xtUnOGl', 'namestate': 'Informativo | 34fa0024-002a-4673-8b70-6419afef7d4d | 55686726-3982-4003-0323-821800355990 | ZG7udwy8rzhE5xtUnOGl', 'contenido': 'Este es el carrusel prueba', 'contenttype': 'text', 'typingtime': '1', 'id_robot': 538, 'blocktype': 'informativo'}\n",
      "intenatando consulta...\n",
      "consulta: select * from bloqueinformativo where next_id= 'Carrusel | cce128da-fc3c-4ab8-8733-0f93dff9b0ca | 55686726-3982-4003-0323-821800355990 | ZG7udwy8rzhE5xtUnOGl' and namestate= 'Informativo | 34fa0024-002a-4673-8b70-6419afef7d4d | 55686726-3982-4003-0323-821800355990 | ZG7udwy8rzhE5xtUnOGl' and contenido= 'Este es el carrusel prueba' and contenttype= 'text' and typingtime= '1' and id_robot= '538' and blocktype= 'informativo' ;\n",
      "Datos enviados INSERT:\n",
      "{'namestate': 'Informativo | 34fa0024-002a-4673-8b70-6419afef7d4d | 55686726-3982-4003-0323-821800355990 | ZG7udwy8rzhE5xtUnOGl', 'contenido': 'Este es el carrusel prueba', 'next_id': 'Carrusel | cce128da-fc3c-4ab8-8733-0f93dff9b0ca | 55686726-3982-4003-0323-821800355990 | ZG7udwy8rzhE5xtUnOGl', 'blocktype': 'informativo', 'contenttype': 'text', 'typingtime': '1', 'id_block': 2817, 'id_robot': 538, 'opc_nextid': None, 'pos_y': None, 'pos_x': None, 'tag_active': None}\n",
      "Datos recibidos INSERT:\n",
      "{'name_var': 'undefinedInput_prueba_carrusel_2_|_3e82e3b7-d8da-4955-aff4-9bcbee291db63117', 'opc_type': 'Variable', 'var': 0, 'opc_data': 'String', 'id_robot': 538}\n",
      "intenatando consulta...\n",
      "consulta: select * from variables where name_var= 'undefinedInput_prueba_carrusel_2_|_3e82e3b7-d8da-4955-aff4-9bcbee291db63117' and opc_type= 'Variable' and var= '0' and opc_data= 'String' and id_robot= '538' ;\n",
      "Datos enviados INSERT:\n",
      "{'id_var': 1844, 'opc_type': 'Variable', 'opc_data': 'String', 'var': '0', 'id_robot': 538, 'name_var': 'undefinedInput_prueba_carrusel_2_|_3e82e3b7-d8da-4955-aff4-9bcbee291db63117'}\n",
      "Datos recibidos INSERT:\n",
      "{'next_id': 'Salida', 'default_id': 'Input prueba carrusel 2 | 3e82e3b7-d8da-4955-aff4-9bcbee291db6 | 55686726-3982-4003-0323-821800355990 | ZG7udwy8rzhE5xtUnOGl', 'namestate': 'Input prueba carrusel 2 | 3e82e3b7-d8da-4955-aff4-9bcbee291db6 | 55686726-3982-4003-0323-821800355990 | ZG7udwy8rzhE5xtUnOGl', 'contenido': 'Ingresa algo', 'typingtime': '1', 'validacion': '', 'id_robot': 538, 'id_var': 1844, 'blocktype': 'input'}\n",
      "intenatando consulta...\n",
      "consulta: select * from bloqueinput where next_id= 'Salida' and default_id= 'Input prueba carrusel 2 | 3e82e3b7-d8da-4955-aff4-9bcbee291db6 | 55686726-3982-4003-0323-821800355990 | ZG7udwy8rzhE5xtUnOGl' and namestate= 'Input prueba carrusel 2 | 3e82e3b7-d8da-4955-aff4-9bcbee291db6 | 55686726-3982-4003-0323-821800355990 | ZG7udwy8rzhE5xtUnOGl' and contenido= 'Ingresa algo' and typingtime= '1' and validacion= '' and id_robot= '538' and id_var= '1844' and blocktype= 'input' ;\n"
     ]
    },
    {
     "name": "stderr",
     "output_type": "stream",
     "text": [
      "127.0.0.1 - - [14/Jun/2021 23:57:55] \"\u001b[37mPOST /insert/bloqueinput HTTP/1.1\u001b[0m\" 200 -\n",
      "127.0.0.1 - - [14/Jun/2021 23:57:55] \"\u001b[37mPOST /insert/variables HTTP/1.1\u001b[0m\" 200 -\n",
      "127.0.0.1 - - [14/Jun/2021 23:57:55] \"\u001b[37mPOST /insert/bloqueslide HTTP/1.1\u001b[0m\" 200 -\n"
     ]
    },
    {
     "name": "stdout",
     "output_type": "stream",
     "text": [
      "Datos enviados INSERT:\n",
      "{'namestate': 'Input prueba carrusel 2 | 3e82e3b7-d8da-4955-aff4-9bcbee291db6 | 55686726-3982-4003-0323-821800355990 | ZG7udwy8rzhE5xtUnOGl', 'contenido': 'Ingresa algo', 'next_id': 'Salida', 'blocktype': 'input', 'contenttype': None, 'typingtime': '1', 'validacion': '', 'default_id': 'Input prueba carrusel 2 | 3e82e3b7-d8da-4955-aff4-9bcbee291db6 | 55686726-3982-4003-0323-821800355990 | ZG7udwy8rzhE5xtUnOGl', 'id_var': '1844', 'id_block': 392, 'id_robot': 538, 'opc_nextid': None, 'pos_y': None, 'pos_x': None, 'tag_active': None}\n",
      "Datos recibidos INSERT:\n",
      "{'name_var': 'undefinedCarrusel_|_cce128da-fc3c-4ab8-8733-0f93dff9b0ca3786', 'opc_type': 'Variable', 'var': 0, 'opc_data': 'String', 'id_robot': 538}\n",
      "intenatando consulta...\n",
      "consulta: select * from variables where name_var= 'undefinedCarrusel_|_cce128da-fc3c-4ab8-8733-0f93dff9b0ca3786' and opc_type= 'Variable' and var= '0' and opc_data= 'String' and id_robot= '538' ;\n",
      "Datos enviados INSERT:\n",
      "{'id_var': 1845, 'opc_type': 'Variable', 'opc_data': 'String', 'var': '0', 'id_robot': 538, 'name_var': 'undefinedCarrusel_|_cce128da-fc3c-4ab8-8733-0f93dff9b0ca3786'}\n",
      "Datos recibidos INSERT:\n",
      "{'namestate': 'Carrusel | cce128da-fc3c-4ab8-8733-0f93dff9b0ca | 36067394-2558-1046-0765-010229045532 | ZG7udwy8rzhE5xtUnOGl', 'blocktype': 'slide', 'typingtime': '1', 'default_id': 'Carrusel | cce128da-fc3c-4ab8-8733-0f93dff9b0ca | 36067394-2558-1046-0765-010229045532 | ZG7udwy8rzhE5xtUnOGl', 'id_var': 1845, 'id_robot': 538}\n",
      "intenatando consulta...\n",
      "consulta: select * from bloqueslide where namestate= 'Carrusel | cce128da-fc3c-4ab8-8733-0f93dff9b0ca | 36067394-2558-1046-0765-010229045532 | ZG7udwy8rzhE5xtUnOGl' and blocktype= 'slide' and typingtime= '1' and default_id= 'Carrusel | cce128da-fc3c-4ab8-8733-0f93dff9b0ca | 36067394-2558-1046-0765-010229045532 | ZG7udwy8rzhE5xtUnOGl' and id_var= '1845' and id_robot= '538' ;\n",
      "Datos enviados INSERT:\n",
      "{'namestate': 'Carrusel | cce128da-fc3c-4ab8-8733-0f93dff9b0ca | 36067394-2558-1046-0765-010229045532 | ZG7udwy8rzhE5xtUnOGl', 'next_id': None, 'blocktype': 'slide', 'typingtime': '1', 'default_id': 'Carrusel | cce128da-fc3c-4ab8-8733-0f93dff9b0ca | 36067394-2558-1046-0765-010229045532 | ZG7udwy8rzhE5xtUnOGl', 'id_var': '1845', 'id_block': 552, 'id_robot': 538, 'opc_nextid': None, 'pos_y': None, 'pos_x': None, 'opc_elm': None, 'tag_active': None}\n",
      "Datos recibidos INSERT:\n",
      "{'image_url': 'https://jalisco.quadratin.com.mx/www/wp-content/uploads/2020/11/grupo-firme-1-1160x700.jpg', 'subtitle': 'Subtitulo 1', 'title': 'Titulo 1', 'blocktype': 'slide', 'id_block': 552}\n"
     ]
    },
    {
     "name": "stderr",
     "output_type": "stream",
     "text": [
      "127.0.0.1 - - [14/Jun/2021 23:57:55] \"\u001b[37mPOST /insert/elementos HTTP/1.1\u001b[0m\" 200 -\n",
      "127.0.0.1 - - [14/Jun/2021 23:57:55] \"\u001b[37mPOST /insert/botones HTTP/1.1\u001b[0m\" 200 -\n",
      "127.0.0.1 - - [14/Jun/2021 23:57:55] \"\u001b[37mPOST /insert/botones HTTP/1.1\u001b[0m\" 200 -\n"
     ]
    },
    {
     "name": "stdout",
     "output_type": "stream",
     "text": [
      "intenatando consulta...\n",
      "consulta: select * from elementos where image_url= 'https://jalisco.quadratin.com.mx/www/wp-content/uploads/2020/11/grupo-firme-1-1160x700.jpg' and subtitle= 'Subtitulo 1' and title= 'Titulo 1' and blocktype= 'slide' and id_block= '552' ;\n",
      "Datos enviados INSERT:\n",
      "{'blocktype': 'slide', 'title': 'Titulo 1', 'image_url': 'https://jalisco.quadratin.com.mx/www/wp-content/uploads/2020/11/grupo-firme-1-1160x700.jpg', 'subtitle': 'Subtitulo 1', 'id_block': 552, 'id_elements': 947}\n",
      "Datos recibidos INSERT:\n",
      "{'id_elemento': '947', 'titlebutton': 'Salida 1', 'typebutton': 'postback', 'contentbutton': 'Informativo | 72991cca-745b-4886-8ac4-c92d730c134a | ZG7udwy8rzhE5xtUnOGl', 'opc_nextid': 'Informativo | 72991cca-745b-4886-8ac4-c92d730c134a | ZG7udwy8rzhE5xtUnOGl'}\n",
      "intenatando consulta...\n",
      "consulta: select * from botones where id_elemento= '947' and titlebutton= 'Salida 1' and typebutton= 'postback' and contentbutton= 'Informativo | 72991cca-745b-4886-8ac4-c92d730c134a | ZG7udwy8rzhE5xtUnOGl' and opc_nextid= 'Informativo | 72991cca-745b-4886-8ac4-c92d730c134a | ZG7udwy8rzhE5xtUnOGl' ;\n",
      "Datos enviados INSERT:\n",
      "{'id_elemento': '947', 'titlebutton': 'Salida 1', 'typebutton': 'postback', 'contentbutton': 'Informativo | 72991cca-745b-4886-8ac4-c92d730c134a | ZG7udwy8rzhE5xtUnOGl', 'id_boton': 1698, 'opc_nextid': 'Informativo | 72991cca-745b-4886-8ac4-c92d730c134a | ZG7udwy8rzhE5xtUnOGl'}\n",
      "Datos recibidos INSERT:\n",
      "{'id_elemento': '947', 'titlebutton': 'Facebookkkk', 'typebutton': 'postback', 'contentbutton': 'Input prueba carrusel 2 | 3e82e3b7-d8da-4955-aff4-9bcbee291db6 | 36067394-2558-1046-0765-010229045532 | ZG7udwy8rzhE5xtUnOGl', 'opc_nextid': 'Input prueba carrusel 2 | 3e82e3b7-d8da-4955-aff4-9bcbee291db6 | 36067394-2558-1046-0765-010229045532 | ZG7udwy8rzhE5xtUnOGl'}\n",
      "intenatando consulta...\n",
      "consulta: select * from botones where id_elemento= '947' and titlebutton= 'Facebookkkk' and typebutton= 'postback' and contentbutton= 'Input prueba carrusel 2 | 3e82e3b7-d8da-4955-aff4-9bcbee291db6 | 36067394-2558-1046-0765-010229045532 | ZG7udwy8rzhE5xtUnOGl' and opc_nextid= 'Input prueba carrusel 2 | 3e82e3b7-d8da-4955-aff4-9bcbee291db6 | 36067394-2558-1046-0765-010229045532 | ZG7udwy8rzhE5xtUnOGl' ;\n",
      "Datos enviados INSERT:\n",
      "{'id_elemento': '947', 'titlebutton': 'Facebookkkk', 'typebutton': 'postback', 'contentbutton': 'Input prueba carrusel 2 | 3e82e3b7-d8da-4955-aff4-9bcbee291db6 | 36067394-2558-1046-0765-010229045532 | ZG7udwy8rzhE5xtUnOGl', 'id_boton': 1699, 'opc_nextid': 'Input prueba carrusel 2 | 3e82e3b7-d8da-4955-aff4-9bcbee291db6 | 36067394-2558-1046-0765-010229045532 | ZG7udwy8rzhE5xtUnOGl'}\n"
     ]
    },
    {
     "name": "stderr",
     "output_type": "stream",
     "text": [
      "127.0.0.1 - - [14/Jun/2021 23:57:55] \"\u001b[37mPOST /insert/bloqueinformativo HTTP/1.1\u001b[0m\" 200 -\n",
      "127.0.0.1 - - [14/Jun/2021 23:57:56] \"\u001b[37mPOST /insert/variables HTTP/1.1\u001b[0m\" 200 -\n"
     ]
    },
    {
     "name": "stdout",
     "output_type": "stream",
     "text": [
      "Datos recibidos INSERT:\n",
      "{'next_id': 'Carrusel | cce128da-fc3c-4ab8-8733-0f93dff9b0ca | 36067394-2558-1046-0765-010229045532 | ZG7udwy8rzhE5xtUnOGl', 'namestate': 'Informativo | 34fa0024-002a-4673-8b70-6419afef7d4d | 36067394-2558-1046-0765-010229045532 | ZG7udwy8rzhE5xtUnOGl', 'contenido': 'Este es el carrusel prueba', 'contenttype': 'text', 'typingtime': '1', 'id_robot': 538, 'blocktype': 'informativo'}\n",
      "intenatando consulta...\n",
      "consulta: select * from bloqueinformativo where next_id= 'Carrusel | cce128da-fc3c-4ab8-8733-0f93dff9b0ca | 36067394-2558-1046-0765-010229045532 | ZG7udwy8rzhE5xtUnOGl' and namestate= 'Informativo | 34fa0024-002a-4673-8b70-6419afef7d4d | 36067394-2558-1046-0765-010229045532 | ZG7udwy8rzhE5xtUnOGl' and contenido= 'Este es el carrusel prueba' and contenttype= 'text' and typingtime= '1' and id_robot= '538' and blocktype= 'informativo' ;\n",
      "Datos enviados INSERT:\n",
      "{'namestate': 'Informativo | 34fa0024-002a-4673-8b70-6419afef7d4d | 36067394-2558-1046-0765-010229045532 | ZG7udwy8rzhE5xtUnOGl', 'contenido': 'Este es el carrusel prueba', 'next_id': 'Carrusel | cce128da-fc3c-4ab8-8733-0f93dff9b0ca | 36067394-2558-1046-0765-010229045532 | ZG7udwy8rzhE5xtUnOGl', 'blocktype': 'informativo', 'contenttype': 'text', 'typingtime': '1', 'id_block': 2818, 'id_robot': 538, 'opc_nextid': None, 'pos_y': None, 'pos_x': None, 'tag_active': None}\n",
      "Datos recibidos INSERT:\n",
      "{'name_var': 'undefinedInput_prueba_carrusel_2_|_3e82e3b7-d8da-4955-aff4-9bcbee291db68084', 'opc_type': 'Variable', 'var': 0, 'opc_data': 'String', 'id_robot': 538}\n",
      "intenatando consulta...\n",
      "consulta: select * from variables where name_var= 'undefinedInput_prueba_carrusel_2_|_3e82e3b7-d8da-4955-aff4-9bcbee291db68084' and opc_type= 'Variable' and var= '0' and opc_data= 'String' and id_robot= '538' ;\n",
      "Datos enviados INSERT:\n",
      "{'id_var': 1846, 'opc_type': 'Variable', 'opc_data': 'String', 'var': '0', 'id_robot': 538, 'name_var': 'undefinedInput_prueba_carrusel_2_|_3e82e3b7-d8da-4955-aff4-9bcbee291db68084'}\n",
      "Datos recibidos INSERT:\n",
      "{'next_id': 'Salida', 'default_id': 'Input prueba carrusel 2 | 3e82e3b7-d8da-4955-aff4-9bcbee291db6 | 36067394-2558-1046-0765-010229045532 | ZG7udwy8rzhE5xtUnOGl', 'namestate': 'Input prueba carrusel 2 | 3e82e3b7-d8da-4955-aff4-9bcbee291db6 | 36067394-2558-1046-0765-010229045532 | ZG7udwy8rzhE5xtUnOGl', 'contenido': 'Ingresa algo', 'typingtime': '1', 'validacion': '', 'id_robot': 538, 'id_var': 1846, 'blocktype': 'input'}\n",
      "intenatando consulta...\n",
      "consulta: select * from bloqueinput where next_id= 'Salida' and default_id= 'Input prueba carrusel 2 | 3e82e3b7-d8da-4955-aff4-9bcbee291db6 | 36067394-2558-1046-0765-010229045532 | ZG7udwy8rzhE5xtUnOGl' and namestate= 'Input prueba carrusel 2 | 3e82e3b7-d8da-4955-aff4-9bcbee291db6 | 36067394-2558-1046-0765-010229045532 | ZG7udwy8rzhE5xtUnOGl' and contenido= 'Ingresa algo' and typingtime= '1' and validacion= '' and id_robot= '538' and id_var= '1846' and blocktype= 'input' ;\n"
     ]
    },
    {
     "name": "stderr",
     "output_type": "stream",
     "text": [
      "127.0.0.1 - - [14/Jun/2021 23:57:56] \"\u001b[37mPOST /insert/bloqueinput HTTP/1.1\u001b[0m\" 200 -\n",
      "127.0.0.1 - - [14/Jun/2021 23:57:56] \"\u001b[37mPOST /insert/bloqueinformativo HTTP/1.1\u001b[0m\" 200 -\n",
      "127.0.0.1 - - [14/Jun/2021 23:57:56] \"\u001b[37mPOST /insert/bloqueinformativo HTTP/1.1\u001b[0m\" 200 -\n"
     ]
    },
    {
     "name": "stdout",
     "output_type": "stream",
     "text": [
      "Datos enviados INSERT:\n",
      "{'namestate': 'Input prueba carrusel 2 | 3e82e3b7-d8da-4955-aff4-9bcbee291db6 | 36067394-2558-1046-0765-010229045532 | ZG7udwy8rzhE5xtUnOGl', 'contenido': 'Ingresa algo', 'next_id': 'Salida', 'blocktype': 'input', 'contenttype': None, 'typingtime': '1', 'validacion': '', 'default_id': 'Input prueba carrusel 2 | 3e82e3b7-d8da-4955-aff4-9bcbee291db6 | 36067394-2558-1046-0765-010229045532 | ZG7udwy8rzhE5xtUnOGl', 'id_var': '1846', 'id_block': 393, 'id_robot': 538, 'opc_nextid': None, 'pos_y': None, 'pos_x': None, 'tag_active': None}\n",
      "Datos recibidos INSERT:\n",
      "{'next_id': 'Informativo | 98a8f39d-6761-48e7-aca7-66279cfabf40 | 96628859-0899-7537-4503-489244348545 | ZG7udwy8rzhE5xtUnOGl', 'namestate': 'Informativo | a0be25bb-4eb4-49c2-830f-6eb23d64966c | ZG7udwy8rzhE5xtUnOGl', 'contenido': 'Soy el bot 2021', 'contenttype': 'text', 'typingtime': '1', 'id_robot': 538, 'blocktype': 'informativo'}\n",
      "intenatando consulta...\n",
      "consulta: select * from bloqueinformativo where next_id= 'Informativo | 98a8f39d-6761-48e7-aca7-66279cfabf40 | 96628859-0899-7537-4503-489244348545 | ZG7udwy8rzhE5xtUnOGl' and namestate= 'Informativo | a0be25bb-4eb4-49c2-830f-6eb23d64966c | ZG7udwy8rzhE5xtUnOGl' and contenido= 'Soy el bot 2021' and contenttype= 'text' and typingtime= '1' and id_robot= '538' and blocktype= 'informativo' ;\n",
      "Datos enviados INSERT:\n",
      "{'namestate': 'Informativo | a0be25bb-4eb4-49c2-830f-6eb23d64966c | ZG7udwy8rzhE5xtUnOGl', 'contenido': 'Soy el bot 2021', 'next_id': 'Informativo | 98a8f39d-6761-48e7-aca7-66279cfabf40 | 96628859-0899-7537-4503-489244348545 | ZG7udwy8rzhE5xtUnOGl', 'blocktype': 'informativo', 'contenttype': 'text', 'typingtime': '1', 'id_block': 2819, 'id_robot': 538, 'opc_nextid': None, 'pos_y': None, 'pos_x': None, 'tag_active': None}\n",
      "Datos recibidos INSERT:\n",
      "{'next_id': 'Salida', 'namestate': 'Informativo | 72991cca-745b-4886-8ac4-c92d730c134a | ZG7udwy8rzhE5xtUnOGl', 'contenido': 'Gracias por información... Adios!', 'contenttype': 'text', 'typingtime': '1', 'id_robot': 538, 'blocktype': 'informativo'}\n",
      "intenatando consulta...\n",
      "consulta: select * from bloqueinformativo where next_id= 'Salida' and namestate= 'Informativo | 72991cca-745b-4886-8ac4-c92d730c134a | ZG7udwy8rzhE5xtUnOGl' and contenido= 'Gracias por información... Adios!' and contenttype= 'text' and typingtime= '1' and id_robot= '538' and blocktype= 'informativo' ;\n",
      "Datos enviados INSERT:\n",
      "{'namestate': 'Informativo | 72991cca-745b-4886-8ac4-c92d730c134a | ZG7udwy8rzhE5xtUnOGl', 'contenido': 'Gracias por información... Adios!', 'next_id': 'Salida', 'blocktype': 'informativo', 'contenttype': 'text', 'typingtime': '1', 'id_block': 2820, 'id_robot': 538, 'opc_nextid': None, 'pos_y': None, 'pos_x': None, 'tag_active': None}\n"
     ]
    },
    {
     "name": "stderr",
     "output_type": "stream",
     "text": [
      "127.0.0.1 - - [14/Jun/2021 23:57:56] \"\u001b[37mPOST /insert/bloqueinformativo HTTP/1.1\u001b[0m\" 200 -\n"
     ]
    },
    {
     "name": "stdout",
     "output_type": "stream",
     "text": [
      "Datos recibidos INSERT:\n",
      "{'next_id': '', 'namestate': 'Salida', 'contenido': '', 'contenttype': 'text', 'typingtime': 3, 'id_robot': 538, 'blocktype': 'informativo'}\n",
      "intenatando consulta...\n",
      "consulta: select * from bloqueinformativo where next_id= '' and namestate= 'Salida' and contenido= '' and contenttype= 'text' and typingtime= '3' and id_robot= '538' and blocktype= 'informativo' ;\n",
      "Datos enviados INSERT:\n",
      "{'namestate': 'Salida', 'contenido': '', 'next_id': '', 'blocktype': 'informativo', 'contenttype': 'text', 'typingtime': '3', 'id_block': 2821, 'id_robot': 538, 'opc_nextid': None, 'pos_y': None, 'pos_x': None, 'tag_active': None}\n"
     ]
    },
    {
     "name": "stderr",
     "output_type": "stream",
     "text": [
      "127.0.0.1 - - [14/Jun/2021 23:57:58] \"\u001b[37mGET /select/robots HTTP/1.1\u001b[0m\" 200 -\n",
      "127.0.0.1 - - [14/Jun/2021 23:57:58] \"\u001b[37mGET /select/bloqueslide HTTP/1.1\u001b[0m\" 200 -\n",
      "127.0.0.1 - - [14/Jun/2021 23:57:58] \"\u001b[37mGET /select/elementos HTTP/1.1\u001b[0m\" 200 -\n",
      "127.0.0.1 - - [14/Jun/2021 23:57:58] \"\u001b[37mGET /select/elementos HTTP/1.1\u001b[0m\" 200 -\n"
     ]
    },
    {
     "name": "stdout",
     "output_type": "stream",
     "text": [
      "Datos recibidos SELECT:\n",
      "{'name_robot': 'CHATBOT TT 2020 A056', 'id_face': '100750202253729', 'block_ini': 'Informativo | d9897d01-e0ce-44bd-ba3d-22973a7d74fd | bSkwpaFVCmMXS8G2PR6k', 'type_blocki': 'informativo', 'access_token': 'EAALZCCZBzPwfkBACf3gal1zeLIkZAxC8ecQ6qmRixvqGJJXtfQvE7S2zNpkdf0BpKR79BZAOawgUcm8IQN9NecBZB25Q8ZCWDFAH50ihRis7XfHm4UM3bYNqgmmKZCKkLnhGGxf2FO8eLr8CVkgp3PgJWiBQVKTO7DRtAZA1IjaLIk1xGTZBunRJ6', 'id_user': 'charlygoldcruz@gmail.com', 'api_nlp': 'http://localhost:8282/'}\n",
      "intenatando consulta...\n",
      "consulta: select * from robots where id_face = '100750202253729';\n",
      "Datos enviados SELECT:\n",
      "{'name_robot': 'CHATBOT TT 2020 A056', 'id_face': '100750202253729', 'block_ini': 'Informativo | d9897d01-e0ce-44bd-ba3d-22973a7d74fd | bSkwpaFVCmMXS8G2PR6k', 'type_blocki': 'informativo', 'access_token': 'EAALZCCZBzPwfkBACf3gal1zeLIkZAxC8ecQ6qmRixvqGJJXtfQvE7S2zNpkdf0BpKR79BZAOawgUcm8IQN9NecBZB25Q8ZCWDFAH50ihRis7XfHm4UM3bYNqgmmKZCKkLnhGGxf2FO8eLr8CVkgp3PgJWiBQVKTO7DRtAZA1IjaLIk1xGTZBunRJ6', 'api_nlp': 'http://localhost:8282/', 'id_robot': 539, 'id_user': 'charlygoldcruz@gmail.com'}\n",
      "Datos recibidos SELECT:\n",
      "{'id_robot': '539'}\n",
      "intenatando consulta...\n",
      "consulta: select * from bloqueslide where id_robot= '539' ;\n",
      "Datos enviados SELECT:\n",
      "[{'namestate': 'Carrusel | 5aaf3158-308e-4b01-9283-f01f32d587c9 | 07418629-1549-9289-4157-116148457825 | bSkwpaFVCmMXS8G2PR6k', 'next_id': 'QuickReply | 9cd75eb1-5f87-4a23-84aa-d6de05ed56b8 | 07418629-1549-9289-4157-116148457825 | bSkwpaFVCmMXS8G2PR6k,QuickReply | f962f2fb-1047-4062-bac8-798fddc79ff2 | 07418629-1549-9289-4157-116148457825 | bSkwpaFVCmMXS8G2PR6k', 'blocktype': 'slide', 'typingtime': '1', 'default_id': 'Carrusel | 5aaf3158-308e-4b01-9283-f01f32d587c9 | 07418629-1549-9289-4157-116148457825 | bSkwpaFVCmMXS8G2PR6k', 'id_var': '1836', 'id_block': 549, 'id_robot': 539, 'opc_nextid': None, 'pos_y': None, 'pos_x': None, 'opc_elm': None, 'tag_active': None}, {'namestate': 'Carrusel | fdd978d8-d9e9-4f74-8d01-07d1a43ecba8 | 98525253-9080-3718-4541-185145979160 | bSkwpaFVCmMXS8G2PR6k', 'next_id': 'Informativo | eb6262bf-2b65-4dc7-9d6a-9a8544083dde | bSkwpaFVCmMXS8G2PR6k,Informativo | eb6262bf-2b65-4dc7-9d6a-9a8544083dde | bSkwpaFVCmMXS8G2PR6k,www.facebook.com,www.ABC.com,Informativo | eb6262bf-2b65-4dc7-9d6a-9a8544083dde | bSkwpaFVCmMXS8G2PR6k,Informativo | eb6262bf-2b65-4dc7-9d6a-9a8544083dde | bSkwpaFVCmMXS8G2PR6k', 'blocktype': 'slide', 'typingtime': '1', 'default_id': 'Carrusel | fdd978d8-d9e9-4f74-8d01-07d1a43ecba8 | 98525253-9080-3718-4541-185145979160 | bSkwpaFVCmMXS8G2PR6k', 'id_var': '1834', 'id_block': 547, 'id_robot': 539, 'opc_nextid': None, 'pos_y': None, 'pos_x': None, 'opc_elm': None, 'tag_active': None}, {'namestate': 'Carrusel | cce128da-fc3c-4ab8-8733-0f93dff9b0ca | 19627070-4044-4254-7133-869533412022 | bSkwpaFVCmMXS8G2PR6k', 'next_id': 'Informativo | 7e74c6f6-46db-4b00-b8b3-07aac064e1de | 98525253-9080-3718-4541-185145979160 | bSkwpaFVCmMXS8G2PR6k,facebook.com', 'blocktype': 'slide', 'typingtime': '1', 'default_id': 'Carrusel | cce128da-fc3c-4ab8-8733-0f93dff9b0ca | 19627070-4044-4254-7133-869533412022 | bSkwpaFVCmMXS8G2PR6k', 'id_var': '1835', 'id_block': 548, 'id_robot': 539, 'opc_nextid': None, 'pos_y': None, 'pos_x': None, 'opc_elm': None, 'tag_active': None}]\n",
      "Datos recibidos SELECT:\n",
      "{'id_block': 549}\n",
      "intenatando consulta...\n",
      "consulta: select * from elementos where id_block= '549' ;\n",
      "Datos enviados SELECT:\n",
      "{'blocktype': 'slide', 'title': 'Titulo 1', 'image_url': 'https://sitechecker.pro/wp-content/uploads/2017/12/URL-meaning.png', 'subtitle': 'Subtitulo 1', 'id_block': 549, 'id_elements': 944}\n",
      "Datos recibidos SELECT:\n",
      "{'id_block': 547}\n",
      "intenatando consulta...\n",
      "consulta: select * from elementos where id_block= '547' ;\n",
      "Datos enviados SELECT:\n",
      "[{'blocktype': 'slide', 'title': 'Titulo 1 Plantilla 1', 'image_url': 'https://image.freepik.com/vector-gratis/caracter-banda-musica-ilustracion-dibujos-animados-plana_338371-15.jpg', 'subtitle': 'S1', 'id_block': 547, 'id_elements': 940}, {'blocktype': 'slide', 'title': 'P2', 'image_url': 'https://www.muycomputer.com/wp-content/uploads/2020/04/Logitech-G203-rat%C3%B3n-gaming-barato-e1587628136683.jpg', 'subtitle': 'S2', 'id_block': 547, 'id_elements': 941}, {'blocktype': 'slide', 'title': 'Plantilla 3', 'image_url': 'https://mmo.aiircdn.com/297/5f6a04de8d671.jpg', 'subtitle': 'Subtitulo 3', 'id_block': 547, 'id_elements': 942}]\n"
     ]
    },
    {
     "name": "stderr",
     "output_type": "stream",
     "text": [
      "127.0.0.1 - - [14/Jun/2021 23:57:58] \"\u001b[37mGET /select/elementos HTTP/1.1\u001b[0m\" 200 -\n",
      "127.0.0.1 - - [14/Jun/2021 23:57:58] \"\u001b[37mPOST /insert/variables HTTP/1.1\u001b[0m\" 200 -\n"
     ]
    },
    {
     "name": "stdout",
     "output_type": "stream",
     "text": [
      "Datos recibidos SELECT:\n",
      "{'id_block': 548}\n",
      "intenatando consulta...\n",
      "consulta: select * from elementos where id_block= '548' ;\n",
      "Datos enviados SELECT:\n",
      "{'blocktype': 'slide', 'title': 'Titulo 1', 'image_url': 'https://jalisco.quadratin.com.mx/www/wp-content/uploads/2020/11/grupo-firme-1-1160x700.jpg', 'subtitle': 'Subtitulo 1', 'id_block': 548, 'id_elements': 943}\n",
      "Datos recibidos INSERT:\n",
      "{'name_var': 'varCarrusel_|_fdd978d8-d9e9-4f74-8d01-07d1a43ecba87953', 'opc_type': 'Variable', 'var': 0, 'opc_data': 'String', 'id_robot': 539}\n",
      "intenatando consulta...\n",
      "consulta: select * from variables where name_var= 'varCarrusel_|_fdd978d8-d9e9-4f74-8d01-07d1a43ecba87953' and opc_type= 'Variable' and var= '0' and opc_data= 'String' and id_robot= '539' ;\n",
      "Datos enviados INSERT:\n",
      "{'id_var': 1847, 'opc_type': 'Variable', 'opc_data': 'String', 'var': '0', 'id_robot': 539, 'name_var': 'varCarrusel_|_fdd978d8-d9e9-4f74-8d01-07d1a43ecba87953'}\n",
      "Datos recibidos INSERT:\n",
      "{'namestate': 'Carrusel | fdd978d8-d9e9-4f74-8d01-07d1a43ecba8 | 98525253-9080-3718-4541-185145979160 | bSkwpaFVCmMXS8G2PR6k', 'blocktype': 'slide', 'typingtime': '1', 'default_id': 'Carrusel | fdd978d8-d9e9-4f74-8d01-07d1a43ecba8 | 98525253-9080-3718-4541-185145979160 | bSkwpaFVCmMXS8G2PR6k', 'id_var': 1847, 'id_robot': 539}\n"
     ]
    },
    {
     "name": "stderr",
     "output_type": "stream",
     "text": [
      "127.0.0.1 - - [14/Jun/2021 23:57:58] \"\u001b[37mPOST /insert/bloqueslide HTTP/1.1\u001b[0m\" 200 -\n",
      "127.0.0.1 - - [14/Jun/2021 23:57:58] \"\u001b[37mPOST /insert/elementos HTTP/1.1\u001b[0m\" 200 -\n"
     ]
    },
    {
     "name": "stdout",
     "output_type": "stream",
     "text": [
      "intenatando consulta...\n",
      "consulta: select * from bloqueslide where namestate= 'Carrusel | fdd978d8-d9e9-4f74-8d01-07d1a43ecba8 | 98525253-9080-3718-4541-185145979160 | bSkwpaFVCmMXS8G2PR6k' and blocktype= 'slide' and typingtime= '1' and default_id= 'Carrusel | fdd978d8-d9e9-4f74-8d01-07d1a43ecba8 | 98525253-9080-3718-4541-185145979160 | bSkwpaFVCmMXS8G2PR6k' and id_var= '1847' and id_robot= '539' ;\n",
      "Datos enviados INSERT:\n",
      "{'namestate': 'Carrusel | fdd978d8-d9e9-4f74-8d01-07d1a43ecba8 | 98525253-9080-3718-4541-185145979160 | bSkwpaFVCmMXS8G2PR6k', 'next_id': None, 'blocktype': 'slide', 'typingtime': '1', 'default_id': 'Carrusel | fdd978d8-d9e9-4f74-8d01-07d1a43ecba8 | 98525253-9080-3718-4541-185145979160 | bSkwpaFVCmMXS8G2PR6k', 'id_var': '1847', 'id_block': 553, 'id_robot': 539, 'opc_nextid': None, 'pos_y': None, 'pos_x': None, 'opc_elm': None, 'tag_active': None}\n",
      "Datos recibidos INSERT:\n",
      "{'image_url': 'https://image.freepik.com/vector-gratis/caracter-banda-musica-ilustracion-dibujos-animados-plana_338371-15.jpg', 'title': 'Titulo 1 Plantilla 1', 'subtitle': 'S1', 'blocktype': 'slide', 'id_block': 553}\n",
      "intenatando consulta...\n",
      "consulta: select * from elementos where image_url= 'https://image.freepik.com/vector-gratis/caracter-banda-musica-ilustracion-dibujos-animados-plana_338371-15.jpg' and title= 'Titulo 1 Plantilla 1' and subtitle= 'S1' and blocktype= 'slide' and id_block= '553' ;\n",
      "Datos enviados INSERT:\n",
      "{'blocktype': 'slide', 'title': 'Titulo 1 Plantilla 1', 'image_url': 'https://image.freepik.com/vector-gratis/caracter-banda-musica-ilustracion-dibujos-animados-plana_338371-15.jpg', 'subtitle': 'S1', 'id_block': 553, 'id_elements': 948}\n"
     ]
    },
    {
     "name": "stderr",
     "output_type": "stream",
     "text": [
      "127.0.0.1 - - [14/Jun/2021 23:57:58] \"\u001b[37mPOST /insert/botones HTTP/1.1\u001b[0m\" 200 -\n",
      "127.0.0.1 - - [14/Jun/2021 23:57:58] \"\u001b[37mPOST /insert/botones HTTP/1.1\u001b[0m\" 200 -\n"
     ]
    },
    {
     "name": "stdout",
     "output_type": "stream",
     "text": [
      "Datos recibidos INSERT:\n",
      "{'id_elemento': '948', 'titlebutton': 'Salida 1', 'typebutton': 'postback', 'contentbutton': 'Informativo | eb6262bf-2b65-4dc7-9d6a-9a8544083dde | bSkwpaFVCmMXS8G2PR6k', 'opc_nextid': 'Informativo | eb6262bf-2b65-4dc7-9d6a-9a8544083dde | bSkwpaFVCmMXS8G2PR6k'}\n",
      "intenatando consulta...\n",
      "consulta: select * from botones where id_elemento= '948' and titlebutton= 'Salida 1' and typebutton= 'postback' and contentbutton= 'Informativo | eb6262bf-2b65-4dc7-9d6a-9a8544083dde | bSkwpaFVCmMXS8G2PR6k' and opc_nextid= 'Informativo | eb6262bf-2b65-4dc7-9d6a-9a8544083dde | bSkwpaFVCmMXS8G2PR6k' ;\n",
      "Datos enviados INSERT:\n",
      "{'id_elemento': '948', 'titlebutton': 'Salida 1', 'typebutton': 'postback', 'contentbutton': 'Informativo | eb6262bf-2b65-4dc7-9d6a-9a8544083dde | bSkwpaFVCmMXS8G2PR6k', 'id_boton': 1700, 'opc_nextid': 'Informativo | eb6262bf-2b65-4dc7-9d6a-9a8544083dde | bSkwpaFVCmMXS8G2PR6k'}\n",
      "Datos recibidos INSERT:\n",
      "{'id_elemento': '948', 'titlebutton': 'Salida 2', 'typebutton': 'postback', 'contentbutton': 'Informativo | eb6262bf-2b65-4dc7-9d6a-9a8544083dde | bSkwpaFVCmMXS8G2PR6k', 'opc_nextid': 'Informativo | eb6262bf-2b65-4dc7-9d6a-9a8544083dde | bSkwpaFVCmMXS8G2PR6k'}\n",
      "intenatando consulta...\n",
      "consulta: select * from botones where id_elemento= '948' and titlebutton= 'Salida 2' and typebutton= 'postback' and contentbutton= 'Informativo | eb6262bf-2b65-4dc7-9d6a-9a8544083dde | bSkwpaFVCmMXS8G2PR6k' and opc_nextid= 'Informativo | eb6262bf-2b65-4dc7-9d6a-9a8544083dde | bSkwpaFVCmMXS8G2PR6k' ;\n",
      "Datos enviados INSERT:\n",
      "{'id_elemento': '948', 'titlebutton': 'Salida 2', 'typebutton': 'postback', 'contentbutton': 'Informativo | eb6262bf-2b65-4dc7-9d6a-9a8544083dde | bSkwpaFVCmMXS8G2PR6k', 'id_boton': 1701, 'opc_nextid': 'Informativo | eb6262bf-2b65-4dc7-9d6a-9a8544083dde | bSkwpaFVCmMXS8G2PR6k'}\n",
      "Datos recibidos INSERT:\n",
      "{'subtitle': 'S2', 'image_url': 'https://www.muycomputer.com/wp-content/uploads/2020/04/Logitech-G203-rat%C3%B3n-gaming-barato-e1587628136683.jpg', 'title': 'P2', 'blocktype': 'slide', 'id_block': 553}\n",
      "intenatando consulta...\n",
      "consulta: select * from elementos where subtitle= 'S2' and image_url= 'https://www.muycomputer.com/wp-content/uploads/2020/04/Logitech-G203-rat%C3%B3n-gaming-barato-e1587628136683.jpg' and title= 'P2' and blocktype= 'slide' and id_block= '553' ;\n"
     ]
    },
    {
     "name": "stderr",
     "output_type": "stream",
     "text": [
      "127.0.0.1 - - [14/Jun/2021 23:57:59] \"\u001b[37mPOST /insert/elementos HTTP/1.1\u001b[0m\" 200 -\n",
      "127.0.0.1 - - [14/Jun/2021 23:57:59] \"\u001b[37mPOST /insert/botones HTTP/1.1\u001b[0m\" 200 -\n",
      "127.0.0.1 - - [14/Jun/2021 23:57:59] \"\u001b[37mPOST /insert/botones HTTP/1.1\u001b[0m\" 200 -\n"
     ]
    },
    {
     "name": "stdout",
     "output_type": "stream",
     "text": [
      "Datos enviados INSERT:\n",
      "{'blocktype': 'slide', 'title': 'P2', 'image_url': 'https://www.muycomputer.com/wp-content/uploads/2020/04/Logitech-G203-rat%C3%B3n-gaming-barato-e1587628136683.jpg', 'subtitle': 'S2', 'id_block': 553, 'id_elements': 949}\n",
      "Datos recibidos INSERT:\n",
      "{'id_elemento': '949', 'titlebutton': 'Google', 'typebutton': 'web_url', 'contentbutton': 'www.facebook.com', 'opc_nextid': 'www.facebook.com'}\n",
      "intenatando consulta...\n",
      "consulta: select * from botones where id_elemento= '949' and titlebutton= 'Google' and typebutton= 'web_url' and contentbutton= 'www.facebook.com' and opc_nextid= 'www.facebook.com' ;\n",
      "Datos enviados INSERT:\n",
      "{'id_elemento': '949', 'titlebutton': 'Google', 'typebutton': 'web_url', 'contentbutton': 'www.facebook.com', 'id_boton': 1702, 'opc_nextid': 'www.facebook.com'}\n",
      "Datos recibidos INSERT:\n",
      "{'id_elemento': '949', 'titlebutton': 'ABC', 'typebutton': 'web_url', 'contentbutton': 'www.ABC.com', 'opc_nextid': 'www.ABC.com'}\n",
      "intenatando consulta...\n",
      "consulta: select * from botones where id_elemento= '949' and titlebutton= 'ABC' and typebutton= 'web_url' and contentbutton= 'www.ABC.com' and opc_nextid= 'www.ABC.com' ;\n",
      "Datos enviados INSERT:\n",
      "{'id_elemento': '949', 'titlebutton': 'ABC', 'typebutton': 'web_url', 'contentbutton': 'www.ABC.com', 'id_boton': 1703, 'opc_nextid': 'www.ABC.com'}\n",
      "Datos recibidos INSERT:\n",
      "{'subtitle': 'Subtitulo 3', 'title': 'Plantilla 3', 'image_url': 'https://mmo.aiircdn.com/297/5f6a04de8d671.jpg', 'blocktype': 'slide', 'id_block': 553}\n"
     ]
    },
    {
     "name": "stderr",
     "output_type": "stream",
     "text": [
      "127.0.0.1 - - [14/Jun/2021 23:57:59] \"\u001b[37mPOST /insert/elementos HTTP/1.1\u001b[0m\" 200 -\n",
      "127.0.0.1 - - [14/Jun/2021 23:57:59] \"\u001b[37mPOST /insert/botones HTTP/1.1\u001b[0m\" 200 -\n",
      "127.0.0.1 - - [14/Jun/2021 23:57:59] \"\u001b[37mPOST /insert/botones HTTP/1.1\u001b[0m\" 200 -\n"
     ]
    },
    {
     "name": "stdout",
     "output_type": "stream",
     "text": [
      "intenatando consulta...\n",
      "consulta: select * from elementos where subtitle= 'Subtitulo 3' and title= 'Plantilla 3' and image_url= 'https://mmo.aiircdn.com/297/5f6a04de8d671.jpg' and blocktype= 'slide' and id_block= '553' ;\n",
      "Datos enviados INSERT:\n",
      "{'blocktype': 'slide', 'title': 'Plantilla 3', 'image_url': 'https://mmo.aiircdn.com/297/5f6a04de8d671.jpg', 'subtitle': 'Subtitulo 3', 'id_block': 553, 'id_elements': 950}\n",
      "Datos recibidos INSERT:\n",
      "{'id_elemento': '950', 'titlebutton': 'Input', 'typebutton': 'postback', 'contentbutton': 'Informativo | eb6262bf-2b65-4dc7-9d6a-9a8544083dde | bSkwpaFVCmMXS8G2PR6k', 'opc_nextid': 'Informativo | eb6262bf-2b65-4dc7-9d6a-9a8544083dde | bSkwpaFVCmMXS8G2PR6k'}\n",
      "intenatando consulta...\n",
      "consulta: select * from botones where id_elemento= '950' and titlebutton= 'Input' and typebutton= 'postback' and contentbutton= 'Informativo | eb6262bf-2b65-4dc7-9d6a-9a8544083dde | bSkwpaFVCmMXS8G2PR6k' and opc_nextid= 'Informativo | eb6262bf-2b65-4dc7-9d6a-9a8544083dde | bSkwpaFVCmMXS8G2PR6k' ;\n",
      "Datos enviados INSERT:\n",
      "{'id_elemento': '950', 'titlebutton': 'Input', 'typebutton': 'postback', 'contentbutton': 'Informativo | eb6262bf-2b65-4dc7-9d6a-9a8544083dde | bSkwpaFVCmMXS8G2PR6k', 'id_boton': 1704, 'opc_nextid': 'Informativo | eb6262bf-2b65-4dc7-9d6a-9a8544083dde | bSkwpaFVCmMXS8G2PR6k'}\n",
      "Datos recibidos INSERT:\n",
      "{'id_elemento': '950', 'titlebutton': 'Opcion 6', 'typebutton': 'postback', 'contentbutton': 'Informativo | eb6262bf-2b65-4dc7-9d6a-9a8544083dde | bSkwpaFVCmMXS8G2PR6k', 'opc_nextid': 'Informativo | eb6262bf-2b65-4dc7-9d6a-9a8544083dde | bSkwpaFVCmMXS8G2PR6k'}\n",
      "intenatando consulta...\n",
      "consulta: select * from botones where id_elemento= '950' and titlebutton= 'Opcion 6' and typebutton= 'postback' and contentbutton= 'Informativo | eb6262bf-2b65-4dc7-9d6a-9a8544083dde | bSkwpaFVCmMXS8G2PR6k' and opc_nextid= 'Informativo | eb6262bf-2b65-4dc7-9d6a-9a8544083dde | bSkwpaFVCmMXS8G2PR6k' ;\n",
      "Datos enviados INSERT:\n",
      "{'id_elemento': '950', 'titlebutton': 'Opcion 6', 'typebutton': 'postback', 'contentbutton': 'Informativo | eb6262bf-2b65-4dc7-9d6a-9a8544083dde | bSkwpaFVCmMXS8G2PR6k', 'id_boton': 1705, 'opc_nextid': 'Informativo | eb6262bf-2b65-4dc7-9d6a-9a8544083dde | bSkwpaFVCmMXS8G2PR6k'}\n"
     ]
    },
    {
     "name": "stderr",
     "output_type": "stream",
     "text": [
      "127.0.0.1 - - [14/Jun/2021 23:57:59] \"\u001b[37mPOST /insert/bloqueinformativo HTTP/1.1\u001b[0m\" 200 -\n",
      "127.0.0.1 - - [14/Jun/2021 23:57:59] \"\u001b[37mPOST /insert/bloqueinformativo HTTP/1.1\u001b[0m\" 200 -\n"
     ]
    },
    {
     "name": "stdout",
     "output_type": "stream",
     "text": [
      "Datos recibidos INSERT:\n",
      "{'next_id': 'Intermedio | 39a8d681-4868-4b9c-98e4-9a8db0681865 | 98525253-9080-3718-4541-185145979160 | bSkwpaFVCmMXS8G2PR6k', 'namestate': 'Informativo | 7e74c6f6-46db-4b00-b8b3-07aac064e1de | 98525253-9080-3718-4541-185145979160 | bSkwpaFVCmMXS8G2PR6k', 'contenido': 'Hola, me he editado soy un bloque informativo', 'contenttype': 'text', 'typingtime': '2', 'id_robot': 539, 'blocktype': 'informativo'}\n",
      "intenatando consulta...\n",
      "consulta: select * from bloqueinformativo where next_id= 'Intermedio | 39a8d681-4868-4b9c-98e4-9a8db0681865 | 98525253-9080-3718-4541-185145979160 | bSkwpaFVCmMXS8G2PR6k' and namestate= 'Informativo | 7e74c6f6-46db-4b00-b8b3-07aac064e1de | 98525253-9080-3718-4541-185145979160 | bSkwpaFVCmMXS8G2PR6k' and contenido= 'Hola, me he editado soy un bloque informativo' and contenttype= 'text' and typingtime= '2' and id_robot= '539' and blocktype= 'informativo' ;\n",
      "Datos enviados INSERT:\n",
      "{'namestate': 'Informativo | 7e74c6f6-46db-4b00-b8b3-07aac064e1de | 98525253-9080-3718-4541-185145979160 | bSkwpaFVCmMXS8G2PR6k', 'contenido': 'Hola, me he editado soy un bloque informativo', 'next_id': 'Intermedio | 39a8d681-4868-4b9c-98e4-9a8db0681865 | 98525253-9080-3718-4541-185145979160 | bSkwpaFVCmMXS8G2PR6k', 'blocktype': 'informativo', 'contenttype': 'text', 'typingtime': '2', 'id_block': 2822, 'id_robot': 539, 'opc_nextid': None, 'pos_y': None, 'pos_x': None, 'tag_active': None}\n",
      "Datos recibidos INSERT:\n",
      "{'next_id': 'Carrusel | fdd978d8-d9e9-4f74-8d01-07d1a43ecba8 | 98525253-9080-3718-4541-185145979160 | bSkwpaFVCmMXS8G2PR6k', 'namestate': 'Intermedio | 39a8d681-4868-4b9c-98e4-9a8db0681865 | 98525253-9080-3718-4541-185145979160 | bSkwpaFVCmMXS8G2PR6k', 'contenido': 'Este es un bloque intermedio', 'contenttype': 'text', 'typingtime': '1', 'id_robot': 539, 'blocktype': 'informativo'}\n",
      "intenatando consulta...\n",
      "consulta: select * from bloqueinformativo where next_id= 'Carrusel | fdd978d8-d9e9-4f74-8d01-07d1a43ecba8 | 98525253-9080-3718-4541-185145979160 | bSkwpaFVCmMXS8G2PR6k' and namestate= 'Intermedio | 39a8d681-4868-4b9c-98e4-9a8db0681865 | 98525253-9080-3718-4541-185145979160 | bSkwpaFVCmMXS8G2PR6k' and contenido= 'Este es un bloque intermedio' and contenttype= 'text' and typingtime= '1' and id_robot= '539' and blocktype= 'informativo' ;\n",
      "Datos enviados INSERT:\n",
      "{'namestate': 'Intermedio | 39a8d681-4868-4b9c-98e4-9a8db0681865 | 98525253-9080-3718-4541-185145979160 | bSkwpaFVCmMXS8G2PR6k', 'contenido': 'Este es un bloque intermedio', 'next_id': 'Carrusel | fdd978d8-d9e9-4f74-8d01-07d1a43ecba8 | 98525253-9080-3718-4541-185145979160 | bSkwpaFVCmMXS8G2PR6k', 'blocktype': 'informativo', 'contenttype': 'text', 'typingtime': '1', 'id_block': 2823, 'id_robot': 539, 'opc_nextid': None, 'pos_y': None, 'pos_x': None, 'tag_active': None}\n",
      "Datos recibidos INSERT:\n",
      "{'name_var': 'undefinedCarrusel_|_cce128da-fc3c-4ab8-8733-0f93dff9b0ca1224', 'opc_type': 'Variable', 'var': 0, 'opc_data': 'String', 'id_robot': 539}\n",
      "intenatando consulta...\n",
      "consulta: select * from variables where name_var= 'undefinedCarrusel_|_cce128da-fc3c-4ab8-8733-0f93dff9b0ca1224' and opc_type= 'Variable' and var= '0' and opc_data= 'String' and id_robot= '539' ;\n"
     ]
    },
    {
     "name": "stderr",
     "output_type": "stream",
     "text": [
      "127.0.0.1 - - [14/Jun/2021 23:57:59] \"\u001b[37mPOST /insert/variables HTTP/1.1\u001b[0m\" 200 -\n",
      "127.0.0.1 - - [14/Jun/2021 23:57:59] \"\u001b[37mPOST /insert/bloqueslide HTTP/1.1\u001b[0m\" 200 -\n",
      "127.0.0.1 - - [14/Jun/2021 23:57:59] \"\u001b[37mPOST /insert/elementos HTTP/1.1\u001b[0m\" 200 -\n"
     ]
    },
    {
     "name": "stdout",
     "output_type": "stream",
     "text": [
      "Datos enviados INSERT:\n",
      "{'id_var': 1848, 'opc_type': 'Variable', 'opc_data': 'String', 'var': '0', 'id_robot': 539, 'name_var': 'undefinedCarrusel_|_cce128da-fc3c-4ab8-8733-0f93dff9b0ca1224'}\n",
      "Datos recibidos INSERT:\n",
      "{'namestate': 'Carrusel | cce128da-fc3c-4ab8-8733-0f93dff9b0ca | 19627070-4044-4254-7133-869533412022 | bSkwpaFVCmMXS8G2PR6k', 'blocktype': 'slide', 'typingtime': '1', 'default_id': 'Carrusel | cce128da-fc3c-4ab8-8733-0f93dff9b0ca | 19627070-4044-4254-7133-869533412022 | bSkwpaFVCmMXS8G2PR6k', 'id_var': 1848, 'id_robot': 539}\n",
      "intenatando consulta...\n",
      "consulta: select * from bloqueslide where namestate= 'Carrusel | cce128da-fc3c-4ab8-8733-0f93dff9b0ca | 19627070-4044-4254-7133-869533412022 | bSkwpaFVCmMXS8G2PR6k' and blocktype= 'slide' and typingtime= '1' and default_id= 'Carrusel | cce128da-fc3c-4ab8-8733-0f93dff9b0ca | 19627070-4044-4254-7133-869533412022 | bSkwpaFVCmMXS8G2PR6k' and id_var= '1848' and id_robot= '539' ;\n",
      "Datos enviados INSERT:\n",
      "{'namestate': 'Carrusel | cce128da-fc3c-4ab8-8733-0f93dff9b0ca | 19627070-4044-4254-7133-869533412022 | bSkwpaFVCmMXS8G2PR6k', 'next_id': None, 'blocktype': 'slide', 'typingtime': '1', 'default_id': 'Carrusel | cce128da-fc3c-4ab8-8733-0f93dff9b0ca | 19627070-4044-4254-7133-869533412022 | bSkwpaFVCmMXS8G2PR6k', 'id_var': '1848', 'id_block': 554, 'id_robot': 539, 'opc_nextid': None, 'pos_y': None, 'pos_x': None, 'opc_elm': None, 'tag_active': None}\n",
      "Datos recibidos INSERT:\n",
      "{'title': 'Titulo 1', 'image_url': 'https://jalisco.quadratin.com.mx/www/wp-content/uploads/2020/11/grupo-firme-1-1160x700.jpg', 'subtitle': 'Subtitulo 1', 'blocktype': 'slide', 'id_block': 554}\n",
      "intenatando consulta...\n",
      "consulta: select * from elementos where title= 'Titulo 1' and image_url= 'https://jalisco.quadratin.com.mx/www/wp-content/uploads/2020/11/grupo-firme-1-1160x700.jpg' and subtitle= 'Subtitulo 1' and blocktype= 'slide' and id_block= '554' ;\n",
      "Datos enviados INSERT:\n",
      "{'blocktype': 'slide', 'title': 'Titulo 1', 'image_url': 'https://jalisco.quadratin.com.mx/www/wp-content/uploads/2020/11/grupo-firme-1-1160x700.jpg', 'subtitle': 'Subtitulo 1', 'id_block': 554, 'id_elements': 951}\n",
      "Datos recibidos INSERT:\n",
      "{'id_elemento': '951', 'titlebutton': 'Salida 1', 'typebutton': 'postback', 'contentbutton': 'Informativo | 7e74c6f6-46db-4b00-b8b3-07aac064e1de | 98525253-9080-3718-4541-185145979160 | bSkwpaFVCmMXS8G2PR6k', 'opc_nextid': 'Informativo | 7e74c6f6-46db-4b00-b8b3-07aac064e1de | 98525253-9080-3718-4541-185145979160 | bSkwpaFVCmMXS8G2PR6k'}\n"
     ]
    },
    {
     "name": "stderr",
     "output_type": "stream",
     "text": [
      "127.0.0.1 - - [14/Jun/2021 23:57:59] \"\u001b[37mPOST /insert/botones HTTP/1.1\u001b[0m\" 200 -\n",
      "127.0.0.1 - - [14/Jun/2021 23:58:00] \"\u001b[37mPOST /insert/botones HTTP/1.1\u001b[0m\" 200 -\n"
     ]
    },
    {
     "name": "stdout",
     "output_type": "stream",
     "text": [
      "intenatando consulta...\n",
      "consulta: select * from botones where id_elemento= '951' and titlebutton= 'Salida 1' and typebutton= 'postback' and contentbutton= 'Informativo | 7e74c6f6-46db-4b00-b8b3-07aac064e1de | 98525253-9080-3718-4541-185145979160 | bSkwpaFVCmMXS8G2PR6k' and opc_nextid= 'Informativo | 7e74c6f6-46db-4b00-b8b3-07aac064e1de | 98525253-9080-3718-4541-185145979160 | bSkwpaFVCmMXS8G2PR6k' ;\n",
      "Datos enviados INSERT:\n",
      "{'id_elemento': '951', 'titlebutton': 'Salida 1', 'typebutton': 'postback', 'contentbutton': 'Informativo | 7e74c6f6-46db-4b00-b8b3-07aac064e1de | 98525253-9080-3718-4541-185145979160 | bSkwpaFVCmMXS8G2PR6k', 'id_boton': 1706, 'opc_nextid': 'Informativo | 7e74c6f6-46db-4b00-b8b3-07aac064e1de | 98525253-9080-3718-4541-185145979160 | bSkwpaFVCmMXS8G2PR6k'}\n",
      "Datos recibidos INSERT:\n",
      "{'id_elemento': '951', 'titlebutton': 'Facebook', 'typebutton': 'postback', 'contentbutton': 'Input prueba carrusel 2 | 3e82e3b7-d8da-4955-aff4-9bcbee291db6 | 19627070-4044-4254-7133-869533412022 | bSkwpaFVCmMXS8G2PR6k', 'opc_nextid': 'Input prueba carrusel 2 | 3e82e3b7-d8da-4955-aff4-9bcbee291db6 | 19627070-4044-4254-7133-869533412022 | bSkwpaFVCmMXS8G2PR6k'}\n",
      "intenatando consulta...\n",
      "consulta: select * from botones where id_elemento= '951' and titlebutton= 'Facebook' and typebutton= 'postback' and contentbutton= 'Input prueba carrusel 2 | 3e82e3b7-d8da-4955-aff4-9bcbee291db6 | 19627070-4044-4254-7133-869533412022 | bSkwpaFVCmMXS8G2PR6k' and opc_nextid= 'Input prueba carrusel 2 | 3e82e3b7-d8da-4955-aff4-9bcbee291db6 | 19627070-4044-4254-7133-869533412022 | bSkwpaFVCmMXS8G2PR6k' ;\n",
      "Datos enviados INSERT:\n",
      "{'id_elemento': '951', 'titlebutton': 'Facebook', 'typebutton': 'postback', 'contentbutton': 'Input prueba carrusel 2 | 3e82e3b7-d8da-4955-aff4-9bcbee291db6 | 19627070-4044-4254-7133-869533412022 | bSkwpaFVCmMXS8G2PR6k', 'id_boton': 1707, 'opc_nextid': 'Input prueba carrusel 2 | 3e82e3b7-d8da-4955-aff4-9bcbee291db6 | 19627070-4044-4254-7133-869533412022 | bSkwpaFVCmMXS8G2PR6k'}\n",
      "Datos recibidos INSERT:\n",
      "{'next_id': 'Carrusel | cce128da-fc3c-4ab8-8733-0f93dff9b0ca | 19627070-4044-4254-7133-869533412022 | bSkwpaFVCmMXS8G2PR6k', 'namestate': 'Informativo | 34fa0024-002a-4673-8b70-6419afef7d4d | 19627070-4044-4254-7133-869533412022 | bSkwpaFVCmMXS8G2PR6k', 'contenido': 'Este es el carrusel prueba 2', 'contenttype': 'text', 'typingtime': '1', 'id_robot': 539, 'blocktype': 'informativo'}\n",
      "intenatando consulta...\n",
      "consulta: select * from bloqueinformativo where next_id= 'Carrusel | cce128da-fc3c-4ab8-8733-0f93dff9b0ca | 19627070-4044-4254-7133-869533412022 | bSkwpaFVCmMXS8G2PR6k' and namestate= 'Informativo | 34fa0024-002a-4673-8b70-6419afef7d4d | 19627070-4044-4254-7133-869533412022 | bSkwpaFVCmMXS8G2PR6k' and contenido= 'Este es el carrusel prueba 2' and contenttype= 'text' and typingtime= '1' and id_robot= '539' and blocktype= 'informativo' ;\n"
     ]
    },
    {
     "name": "stderr",
     "output_type": "stream",
     "text": [
      "127.0.0.1 - - [14/Jun/2021 23:58:00] \"\u001b[37mPOST /insert/bloqueinformativo HTTP/1.1\u001b[0m\" 200 -\n",
      "127.0.0.1 - - [14/Jun/2021 23:58:00] \"\u001b[37mPOST /insert/variables HTTP/1.1\u001b[0m\" 200 -\n",
      "127.0.0.1 - - [14/Jun/2021 23:58:00] \"\u001b[37mPOST /insert/bloqueinput HTTP/1.1\u001b[0m\" 200 -\n"
     ]
    },
    {
     "name": "stdout",
     "output_type": "stream",
     "text": [
      "Datos enviados INSERT:\n",
      "{'namestate': 'Informativo | 34fa0024-002a-4673-8b70-6419afef7d4d | 19627070-4044-4254-7133-869533412022 | bSkwpaFVCmMXS8G2PR6k', 'contenido': 'Este es el carrusel prueba 2', 'next_id': 'Carrusel | cce128da-fc3c-4ab8-8733-0f93dff9b0ca | 19627070-4044-4254-7133-869533412022 | bSkwpaFVCmMXS8G2PR6k', 'blocktype': 'informativo', 'contenttype': 'text', 'typingtime': '1', 'id_block': 2824, 'id_robot': 539, 'opc_nextid': None, 'pos_y': None, 'pos_x': None, 'tag_active': None}\n",
      "Datos recibidos INSERT:\n",
      "{'name_var': 'undefinedInput_prueba_carrusel_2_|_3e82e3b7-d8da-4955-aff4-9bcbee291db68734', 'opc_type': 'Variable', 'var': 0, 'opc_data': 'String', 'id_robot': 539}\n",
      "intenatando consulta...\n",
      "consulta: select * from variables where name_var= 'undefinedInput_prueba_carrusel_2_|_3e82e3b7-d8da-4955-aff4-9bcbee291db68734' and opc_type= 'Variable' and var= '0' and opc_data= 'String' and id_robot= '539' ;\n",
      "Datos enviados INSERT:\n",
      "{'id_var': 1849, 'opc_type': 'Variable', 'opc_data': 'String', 'var': '0', 'id_robot': 539, 'name_var': 'undefinedInput_prueba_carrusel_2_|_3e82e3b7-d8da-4955-aff4-9bcbee291db68734'}\n",
      "Datos recibidos INSERT:\n",
      "{'next_id': 'Salida', 'default_id': 'Input prueba carrusel 2 | 3e82e3b7-d8da-4955-aff4-9bcbee291db6 | 19627070-4044-4254-7133-869533412022 | bSkwpaFVCmMXS8G2PR6k', 'namestate': 'Input prueba carrusel 2 | 3e82e3b7-d8da-4955-aff4-9bcbee291db6 | 19627070-4044-4254-7133-869533412022 | bSkwpaFVCmMXS8G2PR6k', 'contenido': 'Ingresa algo', 'typingtime': '1', 'validacion': '', 'id_robot': 539, 'id_var': 1849, 'blocktype': 'input'}\n",
      "intenatando consulta...\n",
      "consulta: select * from bloqueinput where next_id= 'Salida' and default_id= 'Input prueba carrusel 2 | 3e82e3b7-d8da-4955-aff4-9bcbee291db6 | 19627070-4044-4254-7133-869533412022 | bSkwpaFVCmMXS8G2PR6k' and namestate= 'Input prueba carrusel 2 | 3e82e3b7-d8da-4955-aff4-9bcbee291db6 | 19627070-4044-4254-7133-869533412022 | bSkwpaFVCmMXS8G2PR6k' and contenido= 'Ingresa algo' and typingtime= '1' and validacion= '' and id_robot= '539' and id_var= '1849' and blocktype= 'input' ;\n",
      "Datos enviados INSERT:\n",
      "{'namestate': 'Input prueba carrusel 2 | 3e82e3b7-d8da-4955-aff4-9bcbee291db6 | 19627070-4044-4254-7133-869533412022 | bSkwpaFVCmMXS8G2PR6k', 'contenido': 'Ingresa algo', 'next_id': 'Salida', 'blocktype': 'input', 'contenttype': None, 'typingtime': '1', 'validacion': '', 'default_id': 'Input prueba carrusel 2 | 3e82e3b7-d8da-4955-aff4-9bcbee291db6 | 19627070-4044-4254-7133-869533412022 | bSkwpaFVCmMXS8G2PR6k', 'id_var': '1849', 'id_block': 394, 'id_robot': 539, 'opc_nextid': None, 'pos_y': None, 'pos_x': None, 'tag_active': None}\n",
      "Datos recibidos INSERT:\n",
      "{'name_var': 'variableCarrCarrusel_|_5aaf3158-308e-4b01-9283-f01f32d587c97986', 'opc_type': 'Variable', 'var': 0, 'opc_data': 'String', 'id_robot': 539}\n"
     ]
    },
    {
     "name": "stderr",
     "output_type": "stream",
     "text": [
      "127.0.0.1 - - [14/Jun/2021 23:58:00] \"\u001b[37mPOST /insert/variables HTTP/1.1\u001b[0m\" 200 -\n",
      "127.0.0.1 - - [14/Jun/2021 23:58:00] \"\u001b[37mPOST /insert/bloqueslide HTTP/1.1\u001b[0m\" 200 -\n",
      "127.0.0.1 - - [14/Jun/2021 23:58:00] \"\u001b[37mPOST /insert/elementos HTTP/1.1\u001b[0m\" 200 -\n"
     ]
    },
    {
     "name": "stdout",
     "output_type": "stream",
     "text": [
      "intenatando consulta...\n",
      "consulta: select * from variables where name_var= 'variableCarrCarrusel_|_5aaf3158-308e-4b01-9283-f01f32d587c97986' and opc_type= 'Variable' and var= '0' and opc_data= 'String' and id_robot= '539' ;\n",
      "Datos enviados INSERT:\n",
      "{'id_var': 1850, 'opc_type': 'Variable', 'opc_data': 'String', 'var': '0', 'id_robot': 539, 'name_var': 'variableCarrCarrusel_|_5aaf3158-308e-4b01-9283-f01f32d587c97986'}\n",
      "Datos recibidos INSERT:\n",
      "{'namestate': 'Carrusel | 5aaf3158-308e-4b01-9283-f01f32d587c9 | 07418629-1549-9289-4157-116148457825 | bSkwpaFVCmMXS8G2PR6k', 'blocktype': 'slide', 'typingtime': '1', 'default_id': 'Carrusel | 5aaf3158-308e-4b01-9283-f01f32d587c9 | 07418629-1549-9289-4157-116148457825 | bSkwpaFVCmMXS8G2PR6k', 'id_var': 1850, 'id_robot': 539}\n",
      "intenatando consulta...\n",
      "consulta: select * from bloqueslide where namestate= 'Carrusel | 5aaf3158-308e-4b01-9283-f01f32d587c9 | 07418629-1549-9289-4157-116148457825 | bSkwpaFVCmMXS8G2PR6k' and blocktype= 'slide' and typingtime= '1' and default_id= 'Carrusel | 5aaf3158-308e-4b01-9283-f01f32d587c9 | 07418629-1549-9289-4157-116148457825 | bSkwpaFVCmMXS8G2PR6k' and id_var= '1850' and id_robot= '539' ;\n",
      "Datos enviados INSERT:\n",
      "{'namestate': 'Carrusel | 5aaf3158-308e-4b01-9283-f01f32d587c9 | 07418629-1549-9289-4157-116148457825 | bSkwpaFVCmMXS8G2PR6k', 'next_id': None, 'blocktype': 'slide', 'typingtime': '1', 'default_id': 'Carrusel | 5aaf3158-308e-4b01-9283-f01f32d587c9 | 07418629-1549-9289-4157-116148457825 | bSkwpaFVCmMXS8G2PR6k', 'id_var': '1850', 'id_block': 555, 'id_robot': 539, 'opc_nextid': None, 'pos_y': None, 'pos_x': None, 'opc_elm': None, 'tag_active': None}\n",
      "Datos recibidos INSERT:\n",
      "{'subtitle': 'Subtitulo 1', 'image_url': 'https://sitechecker.pro/wp-content/uploads/2017/12/URL-meaning.png', 'title': 'Titulo 1', 'blocktype': 'slide', 'id_block': 555}\n",
      "intenatando consulta...\n",
      "consulta: select * from elementos where subtitle= 'Subtitulo 1' and image_url= 'https://sitechecker.pro/wp-content/uploads/2017/12/URL-meaning.png' and title= 'Titulo 1' and blocktype= 'slide' and id_block= '555' ;\n",
      "Datos enviados INSERT:\n",
      "{'blocktype': 'slide', 'title': 'Titulo 1', 'image_url': 'https://sitechecker.pro/wp-content/uploads/2017/12/URL-meaning.png', 'subtitle': 'Subtitulo 1', 'id_block': 555, 'id_elements': 952}\n",
      "Datos recibidos INSERT:\n",
      "{'id_elemento': '952', 'titlebutton': 'Opcion 1', 'typebutton': 'postback', 'contentbutton': 'QuickReply | 9cd75eb1-5f87-4a23-84aa-d6de05ed56b8 | 07418629-1549-9289-4157-116148457825 | bSkwpaFVCmMXS8G2PR6k', 'opc_nextid': 'QuickReply | 9cd75eb1-5f87-4a23-84aa-d6de05ed56b8 | 07418629-1549-9289-4157-116148457825 | bSkwpaFVCmMXS8G2PR6k'}\n"
     ]
    },
    {
     "name": "stderr",
     "output_type": "stream",
     "text": [
      "127.0.0.1 - - [14/Jun/2021 23:58:00] \"\u001b[37mPOST /insert/botones HTTP/1.1\u001b[0m\" 200 -\n",
      "127.0.0.1 - - [14/Jun/2021 23:58:00] \"\u001b[37mPOST /insert/botones HTTP/1.1\u001b[0m\" 200 -\n"
     ]
    },
    {
     "name": "stdout",
     "output_type": "stream",
     "text": [
      "intenatando consulta...\n",
      "consulta: select * from botones where id_elemento= '952' and titlebutton= 'Opcion 1' and typebutton= 'postback' and contentbutton= 'QuickReply | 9cd75eb1-5f87-4a23-84aa-d6de05ed56b8 | 07418629-1549-9289-4157-116148457825 | bSkwpaFVCmMXS8G2PR6k' and opc_nextid= 'QuickReply | 9cd75eb1-5f87-4a23-84aa-d6de05ed56b8 | 07418629-1549-9289-4157-116148457825 | bSkwpaFVCmMXS8G2PR6k' ;\n",
      "Datos enviados INSERT:\n",
      "{'id_elemento': '952', 'titlebutton': 'Opcion 1', 'typebutton': 'postback', 'contentbutton': 'QuickReply | 9cd75eb1-5f87-4a23-84aa-d6de05ed56b8 | 07418629-1549-9289-4157-116148457825 | bSkwpaFVCmMXS8G2PR6k', 'id_boton': 1708, 'opc_nextid': 'QuickReply | 9cd75eb1-5f87-4a23-84aa-d6de05ed56b8 | 07418629-1549-9289-4157-116148457825 | bSkwpaFVCmMXS8G2PR6k'}\n",
      "Datos recibidos INSERT:\n",
      "{'id_elemento': '952', 'titlebutton': 'Opcion 2', 'typebutton': 'postback', 'contentbutton': 'QuickReply | f962f2fb-1047-4062-bac8-798fddc79ff2 | 07418629-1549-9289-4157-116148457825 | bSkwpaFVCmMXS8G2PR6k', 'opc_nextid': 'QuickReply | f962f2fb-1047-4062-bac8-798fddc79ff2 | 07418629-1549-9289-4157-116148457825 | bSkwpaFVCmMXS8G2PR6k'}\n",
      "intenatando consulta...\n",
      "consulta: select * from botones where id_elemento= '952' and titlebutton= 'Opcion 2' and typebutton= 'postback' and contentbutton= 'QuickReply | f962f2fb-1047-4062-bac8-798fddc79ff2 | 07418629-1549-9289-4157-116148457825 | bSkwpaFVCmMXS8G2PR6k' and opc_nextid= 'QuickReply | f962f2fb-1047-4062-bac8-798fddc79ff2 | 07418629-1549-9289-4157-116148457825 | bSkwpaFVCmMXS8G2PR6k' ;\n",
      "Datos enviados INSERT:\n",
      "{'id_elemento': '952', 'titlebutton': 'Opcion 2', 'typebutton': 'postback', 'contentbutton': 'QuickReply | f962f2fb-1047-4062-bac8-798fddc79ff2 | 07418629-1549-9289-4157-116148457825 | bSkwpaFVCmMXS8G2PR6k', 'id_boton': 1709, 'opc_nextid': 'QuickReply | f962f2fb-1047-4062-bac8-798fddc79ff2 | 07418629-1549-9289-4157-116148457825 | bSkwpaFVCmMXS8G2PR6k'}\n",
      "Datos recibidos INSERT:\n",
      "{'next_id': 'Carrusel | 5aaf3158-308e-4b01-9283-f01f32d587c9 | 07418629-1549-9289-4157-116148457825 | bSkwpaFVCmMXS8G2PR6k', 'namestate': 'Informativo | 98a8f39d-6761-48e7-aca7-66279cfabf40 | 07418629-1549-9289-4157-116148457825 | bSkwpaFVCmMXS8G2PR6k', 'contenido': 'Este es un bloque informativo', 'contenttype': 'text', 'typingtime': '1', 'id_robot': 539, 'blocktype': 'informativo'}\n",
      "intenatando consulta...\n",
      "consulta: select * from bloqueinformativo where next_id= 'Carrusel | 5aaf3158-308e-4b01-9283-f01f32d587c9 | 07418629-1549-9289-4157-116148457825 | bSkwpaFVCmMXS8G2PR6k' and namestate= 'Informativo | 98a8f39d-6761-48e7-aca7-66279cfabf40 | 07418629-1549-9289-4157-116148457825 | bSkwpaFVCmMXS8G2PR6k' and contenido= 'Este es un bloque informativo' and contenttype= 'text' and typingtime= '1' and id_robot= '539' and blocktype= 'informativo' ;\n"
     ]
    },
    {
     "name": "stderr",
     "output_type": "stream",
     "text": [
      "127.0.0.1 - - [14/Jun/2021 23:58:00] \"\u001b[37mPOST /insert/bloqueinformativo HTTP/1.1\u001b[0m\" 200 -\n",
      "127.0.0.1 - - [14/Jun/2021 23:58:00] \"\u001b[37mPOST /insert/variables HTTP/1.1\u001b[0m\" 200 -\n",
      "127.0.0.1 - - [14/Jun/2021 23:58:00] \"\u001b[37mPOST /insert/bloquequickreply HTTP/1.1\u001b[0m\" 200 -\n"
     ]
    },
    {
     "name": "stdout",
     "output_type": "stream",
     "text": [
      "Datos enviados INSERT:\n",
      "{'namestate': 'Informativo | 98a8f39d-6761-48e7-aca7-66279cfabf40 | 07418629-1549-9289-4157-116148457825 | bSkwpaFVCmMXS8G2PR6k', 'contenido': 'Este es un bloque informativo', 'next_id': 'Carrusel | 5aaf3158-308e-4b01-9283-f01f32d587c9 | 07418629-1549-9289-4157-116148457825 | bSkwpaFVCmMXS8G2PR6k', 'blocktype': 'informativo', 'contenttype': 'text', 'typingtime': '1', 'id_block': 2825, 'id_robot': 539, 'opc_nextid': None, 'pos_y': None, 'pos_x': None, 'tag_active': None}\n",
      "Datos recibidos INSERT:\n",
      "{'name_var': 'variableQrQuickReply_|_9cd75eb1-5f87-4a23-84aa-d6de05ed56b85534', 'opc_type': 'Variable', 'var': 0, 'opc_data': 'String', 'id_robot': 539}\n",
      "intenatando consulta...\n",
      "consulta: select * from variables where name_var= 'variableQrQuickReply_|_9cd75eb1-5f87-4a23-84aa-d6de05ed56b85534' and opc_type= 'Variable' and var= '0' and opc_data= 'String' and id_robot= '539' ;\n",
      "Datos enviados INSERT:\n",
      "{'id_var': 1851, 'opc_type': 'Variable', 'opc_data': 'String', 'var': '0', 'id_robot': 539, 'name_var': 'variableQrQuickReply_|_9cd75eb1-5f87-4a23-84aa-d6de05ed56b85534'}\n",
      "Datos recibidos INSERT:\n",
      "{'contenido': 'QUICKREPLY 1', 'opciones': 'SALIDA 1', 'next_id': 'Input | cd6d4be8-c346-4550-a26e-4bb9a7230d3b | bSkwpaFVCmMXS8G2PR6k', 'default_id': 'QuickReply | 9cd75eb1-5f87-4a23-84aa-d6de05ed56b8 | 07418629-1549-9289-4157-116148457825 | bSkwpaFVCmMXS8G2PR6k', 'namestate': 'QuickReply | 9cd75eb1-5f87-4a23-84aa-d6de05ed56b8 | 07418629-1549-9289-4157-116148457825 | bSkwpaFVCmMXS8G2PR6k', 'typingtime': '1', 'id_robot': 539, 'id_var': 1851, 'blocktype': 'quickReply'}\n",
      "intenatando consulta...\n",
      "consulta: select * from bloquequickreply where contenido= 'QUICKREPLY 1' and opciones= 'SALIDA 1' and next_id= 'Input | cd6d4be8-c346-4550-a26e-4bb9a7230d3b | bSkwpaFVCmMXS8G2PR6k' and default_id= 'QuickReply | 9cd75eb1-5f87-4a23-84aa-d6de05ed56b8 | 07418629-1549-9289-4157-116148457825 | bSkwpaFVCmMXS8G2PR6k' and namestate= 'QuickReply | 9cd75eb1-5f87-4a23-84aa-d6de05ed56b8 | 07418629-1549-9289-4157-116148457825 | bSkwpaFVCmMXS8G2PR6k' and typingtime= '1' and id_robot= '539' and id_var= '1851' and blocktype= 'quickReply' ;\n",
      "Datos enviados INSERT:\n",
      "{'namestate': 'QuickReply | 9cd75eb1-5f87-4a23-84aa-d6de05ed56b8 | 07418629-1549-9289-4157-116148457825 | bSkwpaFVCmMXS8G2PR6k', 'contenido': 'QUICKREPLY 1', 'opciones': 'SALIDA 1', 'next_id': 'Input | cd6d4be8-c346-4550-a26e-4bb9a7230d3b | bSkwpaFVCmMXS8G2PR6k', 'blocktype': 'quickReply', 'typingtime': '1', 'default_id': 'QuickReply | 9cd75eb1-5f87-4a23-84aa-d6de05ed56b8 | 07418629-1549-9289-4157-116148457825 | bSkwpaFVCmMXS8G2PR6k', 'id_var': '1851', 'id_block': 674, 'id_robot': 539, 'opc_nextid': None, 'pos_y': None, 'pos_x': None, 'tag_active': None}\n"
     ]
    },
    {
     "name": "stderr",
     "output_type": "stream",
     "text": [
      "127.0.0.1 - - [14/Jun/2021 23:58:01] \"\u001b[37mPOST /insert/variables HTTP/1.1\u001b[0m\" 200 -\n",
      "127.0.0.1 - - [14/Jun/2021 23:58:01] \"\u001b[37mPOST /insert/bloquequickreply HTTP/1.1\u001b[0m\" 200 -\n"
     ]
    },
    {
     "name": "stdout",
     "output_type": "stream",
     "text": [
      "Datos recibidos INSERT:\n",
      "{'name_var': 'variableQrQuickReply_|_f962f2fb-1047-4062-bac8-798fddc79ff24064', 'opc_type': 'Variable', 'var': 0, 'opc_data': 'String', 'id_robot': 539}\n",
      "intenatando consulta...\n",
      "consulta: select * from variables where name_var= 'variableQrQuickReply_|_f962f2fb-1047-4062-bac8-798fddc79ff24064' and opc_type= 'Variable' and var= '0' and opc_data= 'String' and id_robot= '539' ;\n",
      "Datos enviados INSERT:\n",
      "{'id_var': 1852, 'opc_type': 'Variable', 'opc_data': 'String', 'var': '0', 'id_robot': 539, 'name_var': 'variableQrQuickReply_|_f962f2fb-1047-4062-bac8-798fddc79ff24064'}\n",
      "Datos recibidos INSERT:\n",
      "{'contenido': 'quickreply 2', 'opciones': 'SALIDA 2', 'next_id': 'Input | cd6d4be8-c346-4550-a26e-4bb9a7230d3b | bSkwpaFVCmMXS8G2PR6k', 'default_id': 'QuickReply | f962f2fb-1047-4062-bac8-798fddc79ff2 | 07418629-1549-9289-4157-116148457825 | bSkwpaFVCmMXS8G2PR6k', 'namestate': 'QuickReply | f962f2fb-1047-4062-bac8-798fddc79ff2 | 07418629-1549-9289-4157-116148457825 | bSkwpaFVCmMXS8G2PR6k', 'typingtime': '1', 'id_robot': 539, 'id_var': 1852, 'blocktype': 'quickReply'}\n",
      "intenatando consulta...\n",
      "consulta: select * from bloquequickreply where contenido= 'quickreply 2' and opciones= 'SALIDA 2' and next_id= 'Input | cd6d4be8-c346-4550-a26e-4bb9a7230d3b | bSkwpaFVCmMXS8G2PR6k' and default_id= 'QuickReply | f962f2fb-1047-4062-bac8-798fddc79ff2 | 07418629-1549-9289-4157-116148457825 | bSkwpaFVCmMXS8G2PR6k' and namestate= 'QuickReply | f962f2fb-1047-4062-bac8-798fddc79ff2 | 07418629-1549-9289-4157-116148457825 | bSkwpaFVCmMXS8G2PR6k' and typingtime= '1' and id_robot= '539' and id_var= '1852' and blocktype= 'quickReply' ;\n",
      "Datos enviados INSERT:\n",
      "{'namestate': 'QuickReply | f962f2fb-1047-4062-bac8-798fddc79ff2 | 07418629-1549-9289-4157-116148457825 | bSkwpaFVCmMXS8G2PR6k', 'contenido': 'quickreply 2', 'opciones': 'SALIDA 2', 'next_id': 'Input | cd6d4be8-c346-4550-a26e-4bb9a7230d3b | bSkwpaFVCmMXS8G2PR6k', 'blocktype': 'quickReply', 'typingtime': '1', 'default_id': 'QuickReply | f962f2fb-1047-4062-bac8-798fddc79ff2 | 07418629-1549-9289-4157-116148457825 | bSkwpaFVCmMXS8G2PR6k', 'id_var': '1852', 'id_block': 675, 'id_robot': 539, 'opc_nextid': None, 'pos_y': None, 'pos_x': None, 'tag_active': None}\n",
      "Datos recibidos INSERT:\n",
      "{'next_id': 'Informativo | 98a8f39d-6761-48e7-aca7-66279cfabf40 | 07418629-1549-9289-4157-116148457825 | bSkwpaFVCmMXS8G2PR6k', 'namestate': 'Informativo | d9897d01-e0ce-44bd-ba3d-22973a7d74fd | bSkwpaFVCmMXS8G2PR6k', 'contenido': 'Soy el chatbot del TT-A056', 'contenttype': 'text', 'typingtime': '1', 'id_robot': 539, 'blocktype': 'informativo'}\n",
      "intenatando consulta...\n",
      "consulta: select * from bloqueinformativo where next_id= 'Informativo | 98a8f39d-6761-48e7-aca7-66279cfabf40 | 07418629-1549-9289-4157-116148457825 | bSkwpaFVCmMXS8G2PR6k' and namestate= 'Informativo | d9897d01-e0ce-44bd-ba3d-22973a7d74fd | bSkwpaFVCmMXS8G2PR6k' and contenido= 'Soy el chatbot del TT-A056' and contenttype= 'text' and typingtime= '1' and id_robot= '539' and blocktype= 'informativo' ;\n"
     ]
    },
    {
     "name": "stderr",
     "output_type": "stream",
     "text": [
      "127.0.0.1 - - [14/Jun/2021 23:58:01] \"\u001b[37mPOST /insert/bloqueinformativo HTTP/1.1\u001b[0m\" 200 -\n",
      "127.0.0.1 - - [14/Jun/2021 23:58:01] \"\u001b[37mPOST /insert/bloqueinformativo HTTP/1.1\u001b[0m\" 200 -\n",
      "127.0.0.1 - - [14/Jun/2021 23:58:01] \"\u001b[37mPOST /insert/variables HTTP/1.1\u001b[0m\" 200 -\n"
     ]
    },
    {
     "name": "stdout",
     "output_type": "stream",
     "text": [
      "Datos enviados INSERT:\n",
      "{'namestate': 'Informativo | d9897d01-e0ce-44bd-ba3d-22973a7d74fd | bSkwpaFVCmMXS8G2PR6k', 'contenido': 'Soy el chatbot del TT-A056', 'next_id': 'Informativo | 98a8f39d-6761-48e7-aca7-66279cfabf40 | 07418629-1549-9289-4157-116148457825 | bSkwpaFVCmMXS8G2PR6k', 'blocktype': 'informativo', 'contenttype': 'text', 'typingtime': '1', 'id_block': 2826, 'id_robot': 539, 'opc_nextid': None, 'pos_y': None, 'pos_x': None, 'tag_active': None}\n",
      "Datos recibidos INSERT:\n",
      "{'next_id': 'Salida', 'namestate': 'Informativo | eb6262bf-2b65-4dc7-9d6a-9a8544083dde | bSkwpaFVCmMXS8G2PR6k', 'contenido': 'Adios', 'contenttype': 'text', 'typingtime': '1', 'id_robot': 539, 'blocktype': 'informativo'}\n",
      "intenatando consulta...\n",
      "consulta: select * from bloqueinformativo where next_id= 'Salida' and namestate= 'Informativo | eb6262bf-2b65-4dc7-9d6a-9a8544083dde | bSkwpaFVCmMXS8G2PR6k' and contenido= 'Adios' and contenttype= 'text' and typingtime= '1' and id_robot= '539' and blocktype= 'informativo' ;\n",
      "Datos enviados INSERT:\n",
      "{'namestate': 'Informativo | eb6262bf-2b65-4dc7-9d6a-9a8544083dde | bSkwpaFVCmMXS8G2PR6k', 'contenido': 'Adios', 'next_id': 'Salida', 'blocktype': 'informativo', 'contenttype': 'text', 'typingtime': '1', 'id_block': 2827, 'id_robot': 539, 'opc_nextid': None, 'pos_y': None, 'pos_x': None, 'tag_active': None}\n",
      "Datos recibidos INSERT:\n",
      "{'name_var': 'variableInputInput_|_cd6d4be8-c346-4550-a26e-4bb9a7230d3b1898', 'opc_type': 'Variable', 'var': 0, 'opc_data': 'String', 'id_robot': 539}\n",
      "intenatando consulta...\n",
      "consulta: select * from variables where name_var= 'variableInputInput_|_cd6d4be8-c346-4550-a26e-4bb9a7230d3b1898' and opc_type= 'Variable' and var= '0' and opc_data= 'String' and id_robot= '539' ;\n",
      "Datos enviados INSERT:\n",
      "{'id_var': 1853, 'opc_type': 'Variable', 'opc_data': 'String', 'var': '0', 'id_robot': 539, 'name_var': 'variableInputInput_|_cd6d4be8-c346-4550-a26e-4bb9a7230d3b1898'}\n",
      "Datos recibidos INSERT:\n",
      "{'next_id': 'Informativo | 34fa0024-002a-4673-8b70-6419afef7d4d | 19627070-4044-4254-7133-869533412022 | bSkwpaFVCmMXS8G2PR6k', 'default_id': 'Input | cd6d4be8-c346-4550-a26e-4bb9a7230d3b | bSkwpaFVCmMXS8G2PR6k', 'namestate': 'Input | cd6d4be8-c346-4550-a26e-4bb9a7230d3b | bSkwpaFVCmMXS8G2PR6k', 'contenido': 'Ingresa tu nombre', 'typingtime': '1', 'validacion': '', 'id_robot': 539, 'id_var': 1853, 'blocktype': 'input'}\n"
     ]
    },
    {
     "name": "stderr",
     "output_type": "stream",
     "text": [
      "127.0.0.1 - - [14/Jun/2021 23:58:01] \"\u001b[37mPOST /insert/bloqueinput HTTP/1.1\u001b[0m\" 200 -\n",
      "127.0.0.1 - - [14/Jun/2021 23:58:01] \"\u001b[37mPOST /insert/bloqueinformativo HTTP/1.1\u001b[0m\" 200 -\n"
     ]
    },
    {
     "name": "stdout",
     "output_type": "stream",
     "text": [
      "intenatando consulta...\n",
      "consulta: select * from bloqueinput where next_id= 'Informativo | 34fa0024-002a-4673-8b70-6419afef7d4d | 19627070-4044-4254-7133-869533412022 | bSkwpaFVCmMXS8G2PR6k' and default_id= 'Input | cd6d4be8-c346-4550-a26e-4bb9a7230d3b | bSkwpaFVCmMXS8G2PR6k' and namestate= 'Input | cd6d4be8-c346-4550-a26e-4bb9a7230d3b | bSkwpaFVCmMXS8G2PR6k' and contenido= 'Ingresa tu nombre' and typingtime= '1' and validacion= '' and id_robot= '539' and id_var= '1853' and blocktype= 'input' ;\n",
      "Datos enviados INSERT:\n",
      "{'namestate': 'Input | cd6d4be8-c346-4550-a26e-4bb9a7230d3b | bSkwpaFVCmMXS8G2PR6k', 'contenido': 'Ingresa tu nombre', 'next_id': 'Informativo | 34fa0024-002a-4673-8b70-6419afef7d4d | 19627070-4044-4254-7133-869533412022 | bSkwpaFVCmMXS8G2PR6k', 'blocktype': 'input', 'contenttype': None, 'typingtime': '1', 'validacion': '', 'default_id': 'Input | cd6d4be8-c346-4550-a26e-4bb9a7230d3b | bSkwpaFVCmMXS8G2PR6k', 'id_var': '1853', 'id_block': 395, 'id_robot': 539, 'opc_nextid': None, 'pos_y': None, 'pos_x': None, 'tag_active': None}\n",
      "Datos recibidos INSERT:\n",
      "{'next_id': '', 'namestate': 'Salida', 'contenido': '', 'contenttype': 'text', 'typingtime': 3, 'id_robot': 539, 'blocktype': 'informativo'}\n",
      "intenatando consulta...\n",
      "consulta: select * from bloqueinformativo where next_id= '' and namestate= 'Salida' and contenido= '' and contenttype= 'text' and typingtime= '3' and id_robot= '539' and blocktype= 'informativo' ;\n",
      "Datos enviados INSERT:\n",
      "{'namestate': 'Salida', 'contenido': '', 'next_id': '', 'blocktype': 'informativo', 'contenttype': 'text', 'typingtime': '3', 'id_block': 2828, 'id_robot': 539, 'opc_nextid': None, 'pos_y': None, 'pos_x': None, 'tag_active': None}\n"
     ]
    },
    {
     "name": "stderr",
     "output_type": "stream",
     "text": [
      "127.0.0.1 - - [14/Jun/2021 23:58:50] \"\u001b[37mGET /select/robots HTTP/1.1\u001b[0m\" 200 -\n",
      "127.0.0.1 - - [14/Jun/2021 23:58:51] \"\u001b[37mGET /select/bloqueslide HTTP/1.1\u001b[0m\" 200 -\n",
      "127.0.0.1 - - [14/Jun/2021 23:58:51] \"\u001b[37mGET /select/elementos HTTP/1.1\u001b[0m\" 200 -\n",
      "127.0.0.1 - - [14/Jun/2021 23:58:51] \"\u001b[37mGET /select/elementos HTTP/1.1\u001b[0m\" 200 -\n"
     ]
    },
    {
     "name": "stdout",
     "output_type": "stream",
     "text": [
      "Datos recibidos SELECT:\n",
      "{'name_robot': 'Chatbot TT 2021', 'id_face': '110373671266869', 'block_ini': 'Informativo | a0be25bb-4eb4-49c2-830f-6eb23d64966c | ZG7udwy8rzhE5xtUnOGl', 'type_blocki': 'informativo', 'access_token': 'EAALZCCZBzPwfkBAAtF3N1x3GCvg9UuN7alfdTNGmZC5d96EY7vYBM6hQQedeMtNTZAWxFVFBmRXfT2lp3m970ZCDZBhelEyxvK6PN9gHzEXZBbdxvqXqETQzUffJynrycHPnBBR5GtxJl2ulvP0uXrP0fTyoEmQ5GchMN0ckdunXK6MEd1Q40Cb', 'id_user': 'charlygoldcruz@gmail.com', 'api_nlp': 'http://localhost:8282/'}\n",
      "intenatando consulta...\n",
      "consulta: select * from robots where id_face = '110373671266869';\n",
      "Datos enviados SELECT:\n",
      "{'name_robot': 'Chatbot TT 2021', 'id_face': '110373671266869', 'block_ini': 'Informativo | a0be25bb-4eb4-49c2-830f-6eb23d64966c | ZG7udwy8rzhE5xtUnOGl', 'type_blocki': 'informativo', 'access_token': 'EAALZCCZBzPwfkBAAtF3N1x3GCvg9UuN7alfdTNGmZC5d96EY7vYBM6hQQedeMtNTZAWxFVFBmRXfT2lp3m970ZCDZBhelEyxvK6PN9gHzEXZBbdxvqXqETQzUffJynrycHPnBBR5GtxJl2ulvP0uXrP0fTyoEmQ5GchMN0ckdunXK6MEd1Q40Cb', 'api_nlp': 'http://localhost:8282/', 'id_robot': 538, 'id_user': 'charlygoldcruz@gmail.com'}\n",
      "Datos recibidos SELECT:\n",
      "{'id_robot': '538'}\n",
      "intenatando consulta...\n",
      "consulta: select * from bloqueslide where id_robot= '538' ;\n",
      "Datos enviados SELECT:\n",
      "[{'namestate': 'Carrusel | 5aaf3158-308e-4b01-9283-f01f32d587c9 | 96628859-0899-7537-4503-489244348545 | ZG7udwy8rzhE5xtUnOGl', 'next_id': 'QuickReply | 9cd75eb1-5f87-4a23-84aa-d6de05ed56b8 | 96628859-0899-7537-4503-489244348545 | ZG7udwy8rzhE5xtUnOGl,QuickReply | f962f2fb-1047-4062-bac8-798fddc79ff2 | 96628859-0899-7537-4503-489244348545 | ZG7udwy8rzhE5xtUnOGl', 'blocktype': 'slide', 'typingtime': '1', 'default_id': 'Carrusel | 5aaf3158-308e-4b01-9283-f01f32d587c9 | 96628859-0899-7537-4503-489244348545 | ZG7udwy8rzhE5xtUnOGl', 'id_var': '1840', 'id_block': 550, 'id_robot': 538, 'opc_nextid': None, 'pos_y': None, 'pos_x': None, 'opc_elm': None, 'tag_active': None}, {'namestate': 'Carrusel | cce128da-fc3c-4ab8-8733-0f93dff9b0ca | 55686726-3982-4003-0323-821800355990 | ZG7udwy8rzhE5xtUnOGl', 'next_id': 'Informativo | 72991cca-745b-4886-8ac4-c92d730c134a | ZG7udwy8rzhE5xtUnOGl,Input prueba carrusel 2 | 3e82e3b7-d8da-4955-aff4-9bcbee291db6 | 55686726-3982-4003-0323-821800355990 | ZG7udwy8rzhE5xtUnOGl', 'blocktype': 'slide', 'typingtime': '1', 'default_id': 'Carrusel | cce128da-fc3c-4ab8-8733-0f93dff9b0ca | 55686726-3982-4003-0323-821800355990 | ZG7udwy8rzhE5xtUnOGl', 'id_var': '1843', 'id_block': 551, 'id_robot': 538, 'opc_nextid': None, 'pos_y': None, 'pos_x': None, 'opc_elm': None, 'tag_active': None}, {'namestate': 'Carrusel | cce128da-fc3c-4ab8-8733-0f93dff9b0ca | 36067394-2558-1046-0765-010229045532 | ZG7udwy8rzhE5xtUnOGl', 'next_id': 'Informativo | 72991cca-745b-4886-8ac4-c92d730c134a | ZG7udwy8rzhE5xtUnOGl,Input prueba carrusel 2 | 3e82e3b7-d8da-4955-aff4-9bcbee291db6 | 36067394-2558-1046-0765-010229045532 | ZG7udwy8rzhE5xtUnOGl', 'blocktype': 'slide', 'typingtime': '1', 'default_id': 'Carrusel | cce128da-fc3c-4ab8-8733-0f93dff9b0ca | 36067394-2558-1046-0765-010229045532 | ZG7udwy8rzhE5xtUnOGl', 'id_var': '1845', 'id_block': 552, 'id_robot': 538, 'opc_nextid': None, 'pos_y': None, 'pos_x': None, 'opc_elm': None, 'tag_active': None}]\n",
      "Datos recibidos SELECT:\n",
      "{'id_block': 550}\n",
      "intenatando consulta...\n",
      "consulta: select * from elementos where id_block= '550' ;\n",
      "Datos enviados SELECT:\n",
      "{'blocktype': 'slide', 'title': 'Titulo 1', 'image_url': 'https://sitechecker.pro/wp-content/uploads/2017/12/URL-meaning.png', 'subtitle': 'Subtitulo 1', 'id_block': 550, 'id_elements': 945}\n",
      "Datos recibidos SELECT:\n",
      "{'id_block': 551}\n",
      "intenatando consulta...\n",
      "consulta: select * from elementos where id_block= '551' ;\n",
      "Datos enviados SELECT:\n",
      "{'blocktype': 'slide', 'title': 'Titulo 1', 'image_url': 'https://jalisco.quadratin.com.mx/www/wp-content/uploads/2020/11/grupo-firme-1-1160x700.jpg', 'subtitle': 'Subtitulo 1', 'id_block': 551, 'id_elements': 946}\n"
     ]
    },
    {
     "name": "stderr",
     "output_type": "stream",
     "text": [
      "127.0.0.1 - - [14/Jun/2021 23:58:51] \"\u001b[37mGET /select/elementos HTTP/1.1\u001b[0m\" 200 -\n",
      "127.0.0.1 - - [14/Jun/2021 23:58:51] \"\u001b[37mPOST /insert/variables HTTP/1.1\u001b[0m\" 200 -\n"
     ]
    },
    {
     "name": "stdout",
     "output_type": "stream",
     "text": [
      "Datos recibidos SELECT:\n",
      "{'id_block': 552}\n",
      "intenatando consulta...\n",
      "consulta: select * from elementos where id_block= '552' ;\n",
      "Datos enviados SELECT:\n",
      "{'blocktype': 'slide', 'title': 'Titulo 1', 'image_url': 'https://jalisco.quadratin.com.mx/www/wp-content/uploads/2020/11/grupo-firme-1-1160x700.jpg', 'subtitle': 'Subtitulo 1', 'id_block': 552, 'id_elements': 947}\n",
      "Datos recibidos INSERT:\n",
      "{'name_var': 'variableCarrCarrusel_|_5aaf3158-308e-4b01-9283-f01f32d587c94974', 'opc_type': 'Variable', 'var': 0, 'opc_data': 'String', 'id_robot': 538}\n",
      "intenatando consulta...\n",
      "consulta: select * from variables where name_var= 'variableCarrCarrusel_|_5aaf3158-308e-4b01-9283-f01f32d587c94974' and opc_type= 'Variable' and var= '0' and opc_data= 'String' and id_robot= '538' ;\n",
      "Datos enviados INSERT:\n",
      "{'id_var': 1854, 'opc_type': 'Variable', 'opc_data': 'String', 'var': '0', 'id_robot': 538, 'name_var': 'variableCarrCarrusel_|_5aaf3158-308e-4b01-9283-f01f32d587c94974'}\n",
      "Datos recibidos INSERT:\n",
      "{'namestate': 'Carrusel | 5aaf3158-308e-4b01-9283-f01f32d587c9 | 96628859-0899-7537-4503-489244348545 | ZG7udwy8rzhE5xtUnOGl', 'blocktype': 'slide', 'typingtime': '1', 'default_id': 'Carrusel | 5aaf3158-308e-4b01-9283-f01f32d587c9 | 96628859-0899-7537-4503-489244348545 | ZG7udwy8rzhE5xtUnOGl', 'id_var': 1854, 'id_robot': 538}\n"
     ]
    },
    {
     "name": "stderr",
     "output_type": "stream",
     "text": [
      "127.0.0.1 - - [14/Jun/2021 23:58:51] \"\u001b[37mPOST /insert/bloqueslide HTTP/1.1\u001b[0m\" 200 -\n",
      "127.0.0.1 - - [14/Jun/2021 23:58:51] \"\u001b[37mPOST /insert/elementos HTTP/1.1\u001b[0m\" 200 -\n",
      "127.0.0.1 - - [14/Jun/2021 23:58:51] \"\u001b[37mPOST /insert/botones HTTP/1.1\u001b[0m\" 200 -\n"
     ]
    },
    {
     "name": "stdout",
     "output_type": "stream",
     "text": [
      "intenatando consulta...\n",
      "consulta: select * from bloqueslide where namestate= 'Carrusel | 5aaf3158-308e-4b01-9283-f01f32d587c9 | 96628859-0899-7537-4503-489244348545 | ZG7udwy8rzhE5xtUnOGl' and blocktype= 'slide' and typingtime= '1' and default_id= 'Carrusel | 5aaf3158-308e-4b01-9283-f01f32d587c9 | 96628859-0899-7537-4503-489244348545 | ZG7udwy8rzhE5xtUnOGl' and id_var= '1854' and id_robot= '538' ;\n",
      "Datos enviados INSERT:\n",
      "{'namestate': 'Carrusel | 5aaf3158-308e-4b01-9283-f01f32d587c9 | 96628859-0899-7537-4503-489244348545 | ZG7udwy8rzhE5xtUnOGl', 'next_id': None, 'blocktype': 'slide', 'typingtime': '1', 'default_id': 'Carrusel | 5aaf3158-308e-4b01-9283-f01f32d587c9 | 96628859-0899-7537-4503-489244348545 | ZG7udwy8rzhE5xtUnOGl', 'id_var': '1854', 'id_block': 556, 'id_robot': 538, 'opc_nextid': None, 'pos_y': None, 'pos_x': None, 'opc_elm': None, 'tag_active': None}\n",
      "Datos recibidos INSERT:\n",
      "{'title': 'Titulo 1', 'image_url': 'https://sitechecker.pro/wp-content/uploads/2017/12/URL-meaning.png', 'subtitle': 'Subtitulo 1', 'blocktype': 'slide', 'id_block': 556}\n",
      "intenatando consulta...\n",
      "consulta: select * from elementos where title= 'Titulo 1' and image_url= 'https://sitechecker.pro/wp-content/uploads/2017/12/URL-meaning.png' and subtitle= 'Subtitulo 1' and blocktype= 'slide' and id_block= '556' ;\n",
      "Datos enviados INSERT:\n",
      "{'blocktype': 'slide', 'title': 'Titulo 1', 'image_url': 'https://sitechecker.pro/wp-content/uploads/2017/12/URL-meaning.png', 'subtitle': 'Subtitulo 1', 'id_block': 556, 'id_elements': 953}\n",
      "Datos recibidos INSERT:\n",
      "{'id_elemento': '953', 'titlebutton': 'Opcion 1', 'typebutton': 'postback', 'contentbutton': 'QuickReply | 9cd75eb1-5f87-4a23-84aa-d6de05ed56b8 | 96628859-0899-7537-4503-489244348545 | ZG7udwy8rzhE5xtUnOGl', 'opc_nextid': 'QuickReply | 9cd75eb1-5f87-4a23-84aa-d6de05ed56b8 | 96628859-0899-7537-4503-489244348545 | ZG7udwy8rzhE5xtUnOGl'}\n",
      "intenatando consulta...\n",
      "consulta: select * from botones where id_elemento= '953' and titlebutton= 'Opcion 1' and typebutton= 'postback' and contentbutton= 'QuickReply | 9cd75eb1-5f87-4a23-84aa-d6de05ed56b8 | 96628859-0899-7537-4503-489244348545 | ZG7udwy8rzhE5xtUnOGl' and opc_nextid= 'QuickReply | 9cd75eb1-5f87-4a23-84aa-d6de05ed56b8 | 96628859-0899-7537-4503-489244348545 | ZG7udwy8rzhE5xtUnOGl' ;\n",
      "Datos enviados INSERT:\n",
      "{'id_elemento': '953', 'titlebutton': 'Opcion 1', 'typebutton': 'postback', 'contentbutton': 'QuickReply | 9cd75eb1-5f87-4a23-84aa-d6de05ed56b8 | 96628859-0899-7537-4503-489244348545 | ZG7udwy8rzhE5xtUnOGl', 'id_boton': 1710, 'opc_nextid': 'QuickReply | 9cd75eb1-5f87-4a23-84aa-d6de05ed56b8 | 96628859-0899-7537-4503-489244348545 | ZG7udwy8rzhE5xtUnOGl'}\n",
      "Datos recibidos INSERT:\n",
      "{'id_elemento': '953', 'titlebutton': 'Opcion 2', 'typebutton': 'postback', 'contentbutton': 'QuickReply | f962f2fb-1047-4062-bac8-798fddc79ff2 | 96628859-0899-7537-4503-489244348545 | ZG7udwy8rzhE5xtUnOGl', 'opc_nextid': 'QuickReply | f962f2fb-1047-4062-bac8-798fddc79ff2 | 96628859-0899-7537-4503-489244348545 | ZG7udwy8rzhE5xtUnOGl'}\n"
     ]
    },
    {
     "name": "stderr",
     "output_type": "stream",
     "text": [
      "127.0.0.1 - - [14/Jun/2021 23:58:51] \"\u001b[37mPOST /insert/botones HTTP/1.1\u001b[0m\" 200 -\n",
      "127.0.0.1 - - [14/Jun/2021 23:58:51] \"\u001b[37mPOST /insert/bloqueinformativo HTTP/1.1\u001b[0m\" 200 -\n"
     ]
    },
    {
     "name": "stdout",
     "output_type": "stream",
     "text": [
      "intenatando consulta...\n",
      "consulta: select * from botones where id_elemento= '953' and titlebutton= 'Opcion 2' and typebutton= 'postback' and contentbutton= 'QuickReply | f962f2fb-1047-4062-bac8-798fddc79ff2 | 96628859-0899-7537-4503-489244348545 | ZG7udwy8rzhE5xtUnOGl' and opc_nextid= 'QuickReply | f962f2fb-1047-4062-bac8-798fddc79ff2 | 96628859-0899-7537-4503-489244348545 | ZG7udwy8rzhE5xtUnOGl' ;\n",
      "Datos enviados INSERT:\n",
      "{'id_elemento': '953', 'titlebutton': 'Opcion 2', 'typebutton': 'postback', 'contentbutton': 'QuickReply | f962f2fb-1047-4062-bac8-798fddc79ff2 | 96628859-0899-7537-4503-489244348545 | ZG7udwy8rzhE5xtUnOGl', 'id_boton': 1711, 'opc_nextid': 'QuickReply | f962f2fb-1047-4062-bac8-798fddc79ff2 | 96628859-0899-7537-4503-489244348545 | ZG7udwy8rzhE5xtUnOGl'}\n",
      "Datos recibidos INSERT:\n",
      "{'next_id': 'Carrusel | 5aaf3158-308e-4b01-9283-f01f32d587c9 | 96628859-0899-7537-4503-489244348545 | ZG7udwy8rzhE5xtUnOGl', 'namestate': 'Informativo | 98a8f39d-6761-48e7-aca7-66279cfabf40 | 96628859-0899-7537-4503-489244348545 | ZG7udwy8rzhE5xtUnOGl', 'contenido': 'Este es un bloque informativo', 'contenttype': 'text', 'typingtime': '1', 'id_robot': 538, 'blocktype': 'informativo'}\n",
      "intenatando consulta...\n",
      "consulta: select * from bloqueinformativo where next_id= 'Carrusel | 5aaf3158-308e-4b01-9283-f01f32d587c9 | 96628859-0899-7537-4503-489244348545 | ZG7udwy8rzhE5xtUnOGl' and namestate= 'Informativo | 98a8f39d-6761-48e7-aca7-66279cfabf40 | 96628859-0899-7537-4503-489244348545 | ZG7udwy8rzhE5xtUnOGl' and contenido= 'Este es un bloque informativo' and contenttype= 'text' and typingtime= '1' and id_robot= '538' and blocktype= 'informativo' ;\n",
      "Datos enviados INSERT:\n",
      "{'namestate': 'Informativo | 98a8f39d-6761-48e7-aca7-66279cfabf40 | 96628859-0899-7537-4503-489244348545 | ZG7udwy8rzhE5xtUnOGl', 'contenido': 'Este es un bloque informativo', 'next_id': 'Carrusel | 5aaf3158-308e-4b01-9283-f01f32d587c9 | 96628859-0899-7537-4503-489244348545 | ZG7udwy8rzhE5xtUnOGl', 'blocktype': 'informativo', 'contenttype': 'text', 'typingtime': '1', 'id_block': 2829, 'id_robot': 538, 'opc_nextid': None, 'pos_y': None, 'pos_x': None, 'tag_active': None}\n",
      "Datos recibidos INSERT:\n",
      "{'name_var': 'variableQrQuickReply_|_9cd75eb1-5f87-4a23-84aa-d6de05ed56b85594', 'opc_type': 'Variable', 'var': 0, 'opc_data': 'String', 'id_robot': 538}\n",
      "intenatando consulta...\n",
      "consulta: select * from variables where name_var= 'variableQrQuickReply_|_9cd75eb1-5f87-4a23-84aa-d6de05ed56b85594' and opc_type= 'Variable' and var= '0' and opc_data= 'String' and id_robot= '538' ;\n"
     ]
    },
    {
     "name": "stderr",
     "output_type": "stream",
     "text": [
      "127.0.0.1 - - [14/Jun/2021 23:58:51] \"\u001b[37mPOST /insert/variables HTTP/1.1\u001b[0m\" 200 -\n",
      "127.0.0.1 - - [14/Jun/2021 23:58:51] \"\u001b[37mPOST /insert/bloquequickreply HTTP/1.1\u001b[0m\" 200 -\n",
      "127.0.0.1 - - [14/Jun/2021 23:58:52] \"\u001b[37mPOST /insert/variables HTTP/1.1\u001b[0m\" 200 -\n"
     ]
    },
    {
     "name": "stdout",
     "output_type": "stream",
     "text": [
      "Datos enviados INSERT:\n",
      "{'id_var': 1855, 'opc_type': 'Variable', 'opc_data': 'String', 'var': '0', 'id_robot': 538, 'name_var': 'variableQrQuickReply_|_9cd75eb1-5f87-4a23-84aa-d6de05ed56b85594'}\n",
      "Datos recibidos INSERT:\n",
      "{'contenido': 'QUICKREPLY 1', 'opciones': 'SALIDA 1', 'next_id': 'Informativo | 34fa0024-002a-4673-8b70-6419afef7d4d | 55686726-3982-4003-0323-821800355990 | ZG7udwy8rzhE5xtUnOGl', 'default_id': 'QuickReply | 9cd75eb1-5f87-4a23-84aa-d6de05ed56b8 | 96628859-0899-7537-4503-489244348545 | ZG7udwy8rzhE5xtUnOGl', 'namestate': 'QuickReply | 9cd75eb1-5f87-4a23-84aa-d6de05ed56b8 | 96628859-0899-7537-4503-489244348545 | ZG7udwy8rzhE5xtUnOGl', 'typingtime': '1', 'id_robot': 538, 'id_var': 1855, 'blocktype': 'quickReply'}\n",
      "intenatando consulta...\n",
      "consulta: select * from bloquequickreply where contenido= 'QUICKREPLY 1' and opciones= 'SALIDA 1' and next_id= 'Informativo | 34fa0024-002a-4673-8b70-6419afef7d4d | 55686726-3982-4003-0323-821800355990 | ZG7udwy8rzhE5xtUnOGl' and default_id= 'QuickReply | 9cd75eb1-5f87-4a23-84aa-d6de05ed56b8 | 96628859-0899-7537-4503-489244348545 | ZG7udwy8rzhE5xtUnOGl' and namestate= 'QuickReply | 9cd75eb1-5f87-4a23-84aa-d6de05ed56b8 | 96628859-0899-7537-4503-489244348545 | ZG7udwy8rzhE5xtUnOGl' and typingtime= '1' and id_robot= '538' and id_var= '1855' and blocktype= 'quickReply' ;\n",
      "Datos enviados INSERT:\n",
      "{'namestate': 'QuickReply | 9cd75eb1-5f87-4a23-84aa-d6de05ed56b8 | 96628859-0899-7537-4503-489244348545 | ZG7udwy8rzhE5xtUnOGl', 'contenido': 'QUICKREPLY 1', 'opciones': 'SALIDA 1', 'next_id': 'Informativo | 34fa0024-002a-4673-8b70-6419afef7d4d | 55686726-3982-4003-0323-821800355990 | ZG7udwy8rzhE5xtUnOGl', 'blocktype': 'quickReply', 'typingtime': '1', 'default_id': 'QuickReply | 9cd75eb1-5f87-4a23-84aa-d6de05ed56b8 | 96628859-0899-7537-4503-489244348545 | ZG7udwy8rzhE5xtUnOGl', 'id_var': '1855', 'id_block': 676, 'id_robot': 538, 'opc_nextid': None, 'pos_y': None, 'pos_x': None, 'tag_active': None}\n",
      "Datos recibidos INSERT:\n",
      "{'name_var': 'variableQrQuickReply_|_f962f2fb-1047-4062-bac8-798fddc79ff27673', 'opc_type': 'Variable', 'var': 0, 'opc_data': 'String', 'id_robot': 538}\n",
      "intenatando consulta...\n",
      "consulta: select * from variables where name_var= 'variableQrQuickReply_|_f962f2fb-1047-4062-bac8-798fddc79ff27673' and opc_type= 'Variable' and var= '0' and opc_data= 'String' and id_robot= '538' ;\n",
      "Datos enviados INSERT:\n",
      "{'id_var': 1856, 'opc_type': 'Variable', 'opc_data': 'String', 'var': '0', 'id_robot': 538, 'name_var': 'variableQrQuickReply_|_f962f2fb-1047-4062-bac8-798fddc79ff27673'}\n"
     ]
    },
    {
     "name": "stderr",
     "output_type": "stream",
     "text": [
      "127.0.0.1 - - [14/Jun/2021 23:58:52] \"\u001b[37mPOST /insert/bloquequickreply HTTP/1.1\u001b[0m\" 200 -\n",
      "127.0.0.1 - - [14/Jun/2021 23:58:52] \"\u001b[37mPOST /insert/variables HTTP/1.1\u001b[0m\" 200 -\n"
     ]
    },
    {
     "name": "stdout",
     "output_type": "stream",
     "text": [
      "Datos recibidos INSERT:\n",
      "{'contenido': 'quickreply 2', 'opciones': 'SALIDA 2', 'next_id': 'Informativo | 34fa0024-002a-4673-8b70-6419afef7d4d | 36067394-2558-1046-0765-010229045532 | ZG7udwy8rzhE5xtUnOGl', 'default_id': 'QuickReply | f962f2fb-1047-4062-bac8-798fddc79ff2 | 96628859-0899-7537-4503-489244348545 | ZG7udwy8rzhE5xtUnOGl', 'namestate': 'QuickReply | f962f2fb-1047-4062-bac8-798fddc79ff2 | 96628859-0899-7537-4503-489244348545 | ZG7udwy8rzhE5xtUnOGl', 'typingtime': '1', 'id_robot': 538, 'id_var': 1856, 'blocktype': 'quickReply'}\n",
      "intenatando consulta...\n",
      "consulta: select * from bloquequickreply where contenido= 'quickreply 2' and opciones= 'SALIDA 2' and next_id= 'Informativo | 34fa0024-002a-4673-8b70-6419afef7d4d | 36067394-2558-1046-0765-010229045532 | ZG7udwy8rzhE5xtUnOGl' and default_id= 'QuickReply | f962f2fb-1047-4062-bac8-798fddc79ff2 | 96628859-0899-7537-4503-489244348545 | ZG7udwy8rzhE5xtUnOGl' and namestate= 'QuickReply | f962f2fb-1047-4062-bac8-798fddc79ff2 | 96628859-0899-7537-4503-489244348545 | ZG7udwy8rzhE5xtUnOGl' and typingtime= '1' and id_robot= '538' and id_var= '1856' and blocktype= 'quickReply' ;\n",
      "Datos enviados INSERT:\n",
      "{'namestate': 'QuickReply | f962f2fb-1047-4062-bac8-798fddc79ff2 | 96628859-0899-7537-4503-489244348545 | ZG7udwy8rzhE5xtUnOGl', 'contenido': 'quickreply 2', 'opciones': 'SALIDA 2', 'next_id': 'Informativo | 34fa0024-002a-4673-8b70-6419afef7d4d | 36067394-2558-1046-0765-010229045532 | ZG7udwy8rzhE5xtUnOGl', 'blocktype': 'quickReply', 'typingtime': '1', 'default_id': 'QuickReply | f962f2fb-1047-4062-bac8-798fddc79ff2 | 96628859-0899-7537-4503-489244348545 | ZG7udwy8rzhE5xtUnOGl', 'id_var': '1856', 'id_block': 677, 'id_robot': 538, 'opc_nextid': None, 'pos_y': None, 'pos_x': None, 'tag_active': None}\n",
      "Datos recibidos INSERT:\n",
      "{'name_var': 'undefinedCarrusel_|_cce128da-fc3c-4ab8-8733-0f93dff9b0ca2518', 'opc_type': 'Variable', 'var': 0, 'opc_data': 'String', 'id_robot': 538}\n",
      "intenatando consulta...\n",
      "consulta: select * from variables where name_var= 'undefinedCarrusel_|_cce128da-fc3c-4ab8-8733-0f93dff9b0ca2518' and opc_type= 'Variable' and var= '0' and opc_data= 'String' and id_robot= '538' ;\n",
      "Datos enviados INSERT:\n",
      "{'id_var': 1857, 'opc_type': 'Variable', 'opc_data': 'String', 'var': '0', 'id_robot': 538, 'name_var': 'undefinedCarrusel_|_cce128da-fc3c-4ab8-8733-0f93dff9b0ca2518'}\n",
      "Datos recibidos INSERT:\n",
      "{'namestate': 'Carrusel | cce128da-fc3c-4ab8-8733-0f93dff9b0ca | 55686726-3982-4003-0323-821800355990 | ZG7udwy8rzhE5xtUnOGl', 'blocktype': 'slide', 'typingtime': '1', 'default_id': 'Carrusel | cce128da-fc3c-4ab8-8733-0f93dff9b0ca | 55686726-3982-4003-0323-821800355990 | ZG7udwy8rzhE5xtUnOGl', 'id_var': 1857, 'id_robot': 538}\n",
      "intenatando consulta...\n",
      "consulta: select * from bloqueslide where namestate= 'Carrusel | cce128da-fc3c-4ab8-8733-0f93dff9b0ca | 55686726-3982-4003-0323-821800355990 | ZG7udwy8rzhE5xtUnOGl' and blocktype= 'slide' and typingtime= '1' and default_id= 'Carrusel | cce128da-fc3c-4ab8-8733-0f93dff9b0ca | 55686726-3982-4003-0323-821800355990 | ZG7udwy8rzhE5xtUnOGl' and id_var= '1857' and id_robot= '538' ;\n"
     ]
    },
    {
     "name": "stderr",
     "output_type": "stream",
     "text": [
      "127.0.0.1 - - [14/Jun/2021 23:58:52] \"\u001b[37mPOST /insert/bloqueslide HTTP/1.1\u001b[0m\" 200 -\n",
      "127.0.0.1 - - [14/Jun/2021 23:58:52] \"\u001b[37mPOST /insert/elementos HTTP/1.1\u001b[0m\" 200 -\n",
      "127.0.0.1 - - [14/Jun/2021 23:58:52] \"\u001b[37mPOST /insert/botones HTTP/1.1\u001b[0m\" 200 -\n"
     ]
    },
    {
     "name": "stdout",
     "output_type": "stream",
     "text": [
      "Datos enviados INSERT:\n",
      "{'namestate': 'Carrusel | cce128da-fc3c-4ab8-8733-0f93dff9b0ca | 55686726-3982-4003-0323-821800355990 | ZG7udwy8rzhE5xtUnOGl', 'next_id': None, 'blocktype': 'slide', 'typingtime': '1', 'default_id': 'Carrusel | cce128da-fc3c-4ab8-8733-0f93dff9b0ca | 55686726-3982-4003-0323-821800355990 | ZG7udwy8rzhE5xtUnOGl', 'id_var': '1857', 'id_block': 557, 'id_robot': 538, 'opc_nextid': None, 'pos_y': None, 'pos_x': None, 'opc_elm': None, 'tag_active': None}\n",
      "Datos recibidos INSERT:\n",
      "{'image_url': 'https://jalisco.quadratin.com.mx/www/wp-content/uploads/2020/11/grupo-firme-1-1160x700.jpg', 'subtitle': 'Subtitulo 1', 'title': 'Titulo 1', 'blocktype': 'slide', 'id_block': 557}\n",
      "intenatando consulta...\n",
      "consulta: select * from elementos where image_url= 'https://jalisco.quadratin.com.mx/www/wp-content/uploads/2020/11/grupo-firme-1-1160x700.jpg' and subtitle= 'Subtitulo 1' and title= 'Titulo 1' and blocktype= 'slide' and id_block= '557' ;\n",
      "Datos enviados INSERT:\n",
      "{'blocktype': 'slide', 'title': 'Titulo 1', 'image_url': 'https://jalisco.quadratin.com.mx/www/wp-content/uploads/2020/11/grupo-firme-1-1160x700.jpg', 'subtitle': 'Subtitulo 1', 'id_block': 557, 'id_elements': 954}\n",
      "Datos recibidos INSERT:\n",
      "{'id_elemento': '954', 'titlebutton': 'Salida 1', 'typebutton': 'postback', 'contentbutton': 'Informativo | 72991cca-745b-4886-8ac4-c92d730c134a | ZG7udwy8rzhE5xtUnOGl', 'opc_nextid': 'Informativo | 72991cca-745b-4886-8ac4-c92d730c134a | ZG7udwy8rzhE5xtUnOGl'}\n",
      "intenatando consulta...\n",
      "consulta: select * from botones where id_elemento= '954' and titlebutton= 'Salida 1' and typebutton= 'postback' and contentbutton= 'Informativo | 72991cca-745b-4886-8ac4-c92d730c134a | ZG7udwy8rzhE5xtUnOGl' and opc_nextid= 'Informativo | 72991cca-745b-4886-8ac4-c92d730c134a | ZG7udwy8rzhE5xtUnOGl' ;\n",
      "Datos enviados INSERT:\n",
      "{'id_elemento': '954', 'titlebutton': 'Salida 1', 'typebutton': 'postback', 'contentbutton': 'Informativo | 72991cca-745b-4886-8ac4-c92d730c134a | ZG7udwy8rzhE5xtUnOGl', 'id_boton': 1712, 'opc_nextid': 'Informativo | 72991cca-745b-4886-8ac4-c92d730c134a | ZG7udwy8rzhE5xtUnOGl'}\n"
     ]
    },
    {
     "name": "stderr",
     "output_type": "stream",
     "text": [
      "127.0.0.1 - - [14/Jun/2021 23:58:52] \"\u001b[37mPOST /insert/botones HTTP/1.1\u001b[0m\" 200 -\n",
      "127.0.0.1 - - [14/Jun/2021 23:58:52] \"\u001b[37mPOST /insert/bloqueinformativo HTTP/1.1\u001b[0m\" 200 -\n"
     ]
    },
    {
     "name": "stdout",
     "output_type": "stream",
     "text": [
      "Datos recibidos INSERT:\n",
      "{'id_elemento': '954', 'titlebutton': 'Facebookkkk', 'typebutton': 'postback', 'contentbutton': 'Input prueba carrusel 2 | 3e82e3b7-d8da-4955-aff4-9bcbee291db6 | 55686726-3982-4003-0323-821800355990 | ZG7udwy8rzhE5xtUnOGl', 'opc_nextid': 'Input prueba carrusel 2 | 3e82e3b7-d8da-4955-aff4-9bcbee291db6 | 55686726-3982-4003-0323-821800355990 | ZG7udwy8rzhE5xtUnOGl'}\n",
      "intenatando consulta...\n",
      "consulta: select * from botones where id_elemento= '954' and titlebutton= 'Facebookkkk' and typebutton= 'postback' and contentbutton= 'Input prueba carrusel 2 | 3e82e3b7-d8da-4955-aff4-9bcbee291db6 | 55686726-3982-4003-0323-821800355990 | ZG7udwy8rzhE5xtUnOGl' and opc_nextid= 'Input prueba carrusel 2 | 3e82e3b7-d8da-4955-aff4-9bcbee291db6 | 55686726-3982-4003-0323-821800355990 | ZG7udwy8rzhE5xtUnOGl' ;\n",
      "Datos enviados INSERT:\n",
      "{'id_elemento': '954', 'titlebutton': 'Facebookkkk', 'typebutton': 'postback', 'contentbutton': 'Input prueba carrusel 2 | 3e82e3b7-d8da-4955-aff4-9bcbee291db6 | 55686726-3982-4003-0323-821800355990 | ZG7udwy8rzhE5xtUnOGl', 'id_boton': 1713, 'opc_nextid': 'Input prueba carrusel 2 | 3e82e3b7-d8da-4955-aff4-9bcbee291db6 | 55686726-3982-4003-0323-821800355990 | ZG7udwy8rzhE5xtUnOGl'}\n",
      "Datos recibidos INSERT:\n",
      "{'next_id': 'Carrusel | cce128da-fc3c-4ab8-8733-0f93dff9b0ca | 55686726-3982-4003-0323-821800355990 | ZG7udwy8rzhE5xtUnOGl', 'namestate': 'Informativo | 34fa0024-002a-4673-8b70-6419afef7d4d | 55686726-3982-4003-0323-821800355990 | ZG7udwy8rzhE5xtUnOGl', 'contenido': 'Este es el carrusel prueba', 'contenttype': 'text', 'typingtime': '1', 'id_robot': 538, 'blocktype': 'informativo'}\n",
      "intenatando consulta...\n",
      "consulta: select * from bloqueinformativo where next_id= 'Carrusel | cce128da-fc3c-4ab8-8733-0f93dff9b0ca | 55686726-3982-4003-0323-821800355990 | ZG7udwy8rzhE5xtUnOGl' and namestate= 'Informativo | 34fa0024-002a-4673-8b70-6419afef7d4d | 55686726-3982-4003-0323-821800355990 | ZG7udwy8rzhE5xtUnOGl' and contenido= 'Este es el carrusel prueba' and contenttype= 'text' and typingtime= '1' and id_robot= '538' and blocktype= 'informativo' ;\n",
      "Datos enviados INSERT:\n",
      "{'namestate': 'Informativo | 34fa0024-002a-4673-8b70-6419afef7d4d | 55686726-3982-4003-0323-821800355990 | ZG7udwy8rzhE5xtUnOGl', 'contenido': 'Este es el carrusel prueba', 'next_id': 'Carrusel | cce128da-fc3c-4ab8-8733-0f93dff9b0ca | 55686726-3982-4003-0323-821800355990 | ZG7udwy8rzhE5xtUnOGl', 'blocktype': 'informativo', 'contenttype': 'text', 'typingtime': '1', 'id_block': 2830, 'id_robot': 538, 'opc_nextid': None, 'pos_y': None, 'pos_x': None, 'tag_active': None}\n",
      "Datos recibidos INSERT:\n",
      "{'name_var': 'undefinedInput_prueba_carrusel_2_|_3e82e3b7-d8da-4955-aff4-9bcbee291db65866', 'opc_type': 'Variable', 'var': 0, 'opc_data': 'String', 'id_robot': 538}\n"
     ]
    },
    {
     "name": "stderr",
     "output_type": "stream",
     "text": [
      "127.0.0.1 - - [14/Jun/2021 23:58:52] \"\u001b[37mPOST /insert/variables HTTP/1.1\u001b[0m\" 200 -\n",
      "127.0.0.1 - - [14/Jun/2021 23:58:52] \"\u001b[37mPOST /insert/bloqueinput HTTP/1.1\u001b[0m\" 200 -\n",
      "127.0.0.1 - - [14/Jun/2021 23:58:52] \"\u001b[37mPOST /insert/variables HTTP/1.1\u001b[0m\" 200 -\n"
     ]
    },
    {
     "name": "stdout",
     "output_type": "stream",
     "text": [
      "intenatando consulta...\n",
      "consulta: select * from variables where name_var= 'undefinedInput_prueba_carrusel_2_|_3e82e3b7-d8da-4955-aff4-9bcbee291db65866' and opc_type= 'Variable' and var= '0' and opc_data= 'String' and id_robot= '538' ;\n",
      "Datos enviados INSERT:\n",
      "{'id_var': 1858, 'opc_type': 'Variable', 'opc_data': 'String', 'var': '0', 'id_robot': 538, 'name_var': 'undefinedInput_prueba_carrusel_2_|_3e82e3b7-d8da-4955-aff4-9bcbee291db65866'}\n",
      "Datos recibidos INSERT:\n",
      "{'next_id': 'Salida', 'default_id': 'Input prueba carrusel 2 | 3e82e3b7-d8da-4955-aff4-9bcbee291db6 | 55686726-3982-4003-0323-821800355990 | ZG7udwy8rzhE5xtUnOGl', 'namestate': 'Input prueba carrusel 2 | 3e82e3b7-d8da-4955-aff4-9bcbee291db6 | 55686726-3982-4003-0323-821800355990 | ZG7udwy8rzhE5xtUnOGl', 'contenido': 'Ingresa algo', 'typingtime': '1', 'validacion': ' validacion', 'id_robot': 538, 'id_var': 1858, 'blocktype': 'input'}\n",
      "intenatando consulta...\n",
      "consulta: select * from bloqueinput where next_id= 'Salida' and default_id= 'Input prueba carrusel 2 | 3e82e3b7-d8da-4955-aff4-9bcbee291db6 | 55686726-3982-4003-0323-821800355990 | ZG7udwy8rzhE5xtUnOGl' and namestate= 'Input prueba carrusel 2 | 3e82e3b7-d8da-4955-aff4-9bcbee291db6 | 55686726-3982-4003-0323-821800355990 | ZG7udwy8rzhE5xtUnOGl' and contenido= 'Ingresa algo' and typingtime= '1' and validacion= ' validacion' and id_robot= '538' and id_var= '1858' and blocktype= 'input' ;\n",
      "Datos enviados INSERT:\n",
      "{'namestate': 'Input prueba carrusel 2 | 3e82e3b7-d8da-4955-aff4-9bcbee291db6 | 55686726-3982-4003-0323-821800355990 | ZG7udwy8rzhE5xtUnOGl', 'contenido': 'Ingresa algo', 'next_id': 'Salida', 'blocktype': 'input', 'contenttype': None, 'typingtime': '1', 'validacion': ' validacion', 'default_id': 'Input prueba carrusel 2 | 3e82e3b7-d8da-4955-aff4-9bcbee291db6 | 55686726-3982-4003-0323-821800355990 | ZG7udwy8rzhE5xtUnOGl', 'id_var': '1858', 'id_block': 396, 'id_robot': 538, 'opc_nextid': None, 'pos_y': None, 'pos_x': None, 'tag_active': None}\n",
      "Datos recibidos INSERT:\n",
      "{'name_var': 'undefinedCarrusel_|_cce128da-fc3c-4ab8-8733-0f93dff9b0ca5076', 'opc_type': 'Variable', 'var': 0, 'opc_data': 'String', 'id_robot': 538}\n",
      "intenatando consulta...\n",
      "consulta: select * from variables where name_var= 'undefinedCarrusel_|_cce128da-fc3c-4ab8-8733-0f93dff9b0ca5076' and opc_type= 'Variable' and var= '0' and opc_data= 'String' and id_robot= '538' ;\n",
      "Datos enviados INSERT:\n",
      "{'id_var': 1859, 'opc_type': 'Variable', 'opc_data': 'String', 'var': '0', 'id_robot': 538, 'name_var': 'undefinedCarrusel_|_cce128da-fc3c-4ab8-8733-0f93dff9b0ca5076'}\n",
      "Datos recibidos INSERT:\n",
      "{'namestate': 'Carrusel | cce128da-fc3c-4ab8-8733-0f93dff9b0ca | 36067394-2558-1046-0765-010229045532 | ZG7udwy8rzhE5xtUnOGl', 'blocktype': 'slide', 'typingtime': '1', 'default_id': 'Carrusel | cce128da-fc3c-4ab8-8733-0f93dff9b0ca | 36067394-2558-1046-0765-010229045532 | ZG7udwy8rzhE5xtUnOGl', 'id_var': 1859, 'id_robot': 538}\n"
     ]
    },
    {
     "name": "stderr",
     "output_type": "stream",
     "text": [
      "127.0.0.1 - - [14/Jun/2021 23:58:52] \"\u001b[37mPOST /insert/bloqueslide HTTP/1.1\u001b[0m\" 200 -\n",
      "127.0.0.1 - - [14/Jun/2021 23:58:53] \"\u001b[37mPOST /insert/elementos HTTP/1.1\u001b[0m\" 200 -\n",
      "127.0.0.1 - - [14/Jun/2021 23:58:53] \"\u001b[37mPOST /insert/botones HTTP/1.1\u001b[0m\" 200 -\n"
     ]
    },
    {
     "name": "stdout",
     "output_type": "stream",
     "text": [
      "intenatando consulta...\n",
      "consulta: select * from bloqueslide where namestate= 'Carrusel | cce128da-fc3c-4ab8-8733-0f93dff9b0ca | 36067394-2558-1046-0765-010229045532 | ZG7udwy8rzhE5xtUnOGl' and blocktype= 'slide' and typingtime= '1' and default_id= 'Carrusel | cce128da-fc3c-4ab8-8733-0f93dff9b0ca | 36067394-2558-1046-0765-010229045532 | ZG7udwy8rzhE5xtUnOGl' and id_var= '1859' and id_robot= '538' ;\n",
      "Datos enviados INSERT:\n",
      "{'namestate': 'Carrusel | cce128da-fc3c-4ab8-8733-0f93dff9b0ca | 36067394-2558-1046-0765-010229045532 | ZG7udwy8rzhE5xtUnOGl', 'next_id': None, 'blocktype': 'slide', 'typingtime': '1', 'default_id': 'Carrusel | cce128da-fc3c-4ab8-8733-0f93dff9b0ca | 36067394-2558-1046-0765-010229045532 | ZG7udwy8rzhE5xtUnOGl', 'id_var': '1859', 'id_block': 558, 'id_robot': 538, 'opc_nextid': None, 'pos_y': None, 'pos_x': None, 'opc_elm': None, 'tag_active': None}\n",
      "Datos recibidos INSERT:\n",
      "{'subtitle': 'Subtitulo 1', 'title': 'Titulo 1', 'image_url': 'https://jalisco.quadratin.com.mx/www/wp-content/uploads/2020/11/grupo-firme-1-1160x700.jpg', 'blocktype': 'slide', 'id_block': 558}\n",
      "intenatando consulta...\n",
      "consulta: select * from elementos where subtitle= 'Subtitulo 1' and title= 'Titulo 1' and image_url= 'https://jalisco.quadratin.com.mx/www/wp-content/uploads/2020/11/grupo-firme-1-1160x700.jpg' and blocktype= 'slide' and id_block= '558' ;\n",
      "Datos enviados INSERT:\n",
      "{'blocktype': 'slide', 'title': 'Titulo 1', 'image_url': 'https://jalisco.quadratin.com.mx/www/wp-content/uploads/2020/11/grupo-firme-1-1160x700.jpg', 'subtitle': 'Subtitulo 1', 'id_block': 558, 'id_elements': 955}\n",
      "Datos recibidos INSERT:\n",
      "{'id_elemento': '955', 'titlebutton': 'Salida 1', 'typebutton': 'postback', 'contentbutton': 'Informativo | 72991cca-745b-4886-8ac4-c92d730c134a | ZG7udwy8rzhE5xtUnOGl', 'opc_nextid': 'Informativo | 72991cca-745b-4886-8ac4-c92d730c134a | ZG7udwy8rzhE5xtUnOGl'}\n",
      "intenatando consulta...\n",
      "consulta: select * from botones where id_elemento= '955' and titlebutton= 'Salida 1' and typebutton= 'postback' and contentbutton= 'Informativo | 72991cca-745b-4886-8ac4-c92d730c134a | ZG7udwy8rzhE5xtUnOGl' and opc_nextid= 'Informativo | 72991cca-745b-4886-8ac4-c92d730c134a | ZG7udwy8rzhE5xtUnOGl' ;\n",
      "Datos enviados INSERT:\n",
      "{'id_elemento': '955', 'titlebutton': 'Salida 1', 'typebutton': 'postback', 'contentbutton': 'Informativo | 72991cca-745b-4886-8ac4-c92d730c134a | ZG7udwy8rzhE5xtUnOGl', 'id_boton': 1714, 'opc_nextid': 'Informativo | 72991cca-745b-4886-8ac4-c92d730c134a | ZG7udwy8rzhE5xtUnOGl'}\n"
     ]
    },
    {
     "name": "stderr",
     "output_type": "stream",
     "text": [
      "127.0.0.1 - - [14/Jun/2021 23:58:53] \"\u001b[37mPOST /insert/botones HTTP/1.1\u001b[0m\" 200 -\n",
      "127.0.0.1 - - [14/Jun/2021 23:58:53] \"\u001b[37mPOST /insert/bloqueinformativo HTTP/1.1\u001b[0m\" 200 -\n"
     ]
    },
    {
     "name": "stdout",
     "output_type": "stream",
     "text": [
      "Datos recibidos INSERT:\n",
      "{'id_elemento': '955', 'titlebutton': 'Facebookkkk', 'typebutton': 'postback', 'contentbutton': 'Input prueba carrusel 2 | 3e82e3b7-d8da-4955-aff4-9bcbee291db6 | 36067394-2558-1046-0765-010229045532 | ZG7udwy8rzhE5xtUnOGl', 'opc_nextid': 'Input prueba carrusel 2 | 3e82e3b7-d8da-4955-aff4-9bcbee291db6 | 36067394-2558-1046-0765-010229045532 | ZG7udwy8rzhE5xtUnOGl'}\n",
      "intenatando consulta...\n",
      "consulta: select * from botones where id_elemento= '955' and titlebutton= 'Facebookkkk' and typebutton= 'postback' and contentbutton= 'Input prueba carrusel 2 | 3e82e3b7-d8da-4955-aff4-9bcbee291db6 | 36067394-2558-1046-0765-010229045532 | ZG7udwy8rzhE5xtUnOGl' and opc_nextid= 'Input prueba carrusel 2 | 3e82e3b7-d8da-4955-aff4-9bcbee291db6 | 36067394-2558-1046-0765-010229045532 | ZG7udwy8rzhE5xtUnOGl' ;\n",
      "Datos enviados INSERT:\n",
      "{'id_elemento': '955', 'titlebutton': 'Facebookkkk', 'typebutton': 'postback', 'contentbutton': 'Input prueba carrusel 2 | 3e82e3b7-d8da-4955-aff4-9bcbee291db6 | 36067394-2558-1046-0765-010229045532 | ZG7udwy8rzhE5xtUnOGl', 'id_boton': 1715, 'opc_nextid': 'Input prueba carrusel 2 | 3e82e3b7-d8da-4955-aff4-9bcbee291db6 | 36067394-2558-1046-0765-010229045532 | ZG7udwy8rzhE5xtUnOGl'}\n",
      "Datos recibidos INSERT:\n",
      "{'next_id': 'Carrusel | cce128da-fc3c-4ab8-8733-0f93dff9b0ca | 36067394-2558-1046-0765-010229045532 | ZG7udwy8rzhE5xtUnOGl', 'namestate': 'Informativo | 34fa0024-002a-4673-8b70-6419afef7d4d | 36067394-2558-1046-0765-010229045532 | ZG7udwy8rzhE5xtUnOGl', 'contenido': 'Este es el carrusel prueba', 'contenttype': 'text', 'typingtime': '1', 'id_robot': 538, 'blocktype': 'informativo'}\n",
      "intenatando consulta...\n",
      "consulta: select * from bloqueinformativo where next_id= 'Carrusel | cce128da-fc3c-4ab8-8733-0f93dff9b0ca | 36067394-2558-1046-0765-010229045532 | ZG7udwy8rzhE5xtUnOGl' and namestate= 'Informativo | 34fa0024-002a-4673-8b70-6419afef7d4d | 36067394-2558-1046-0765-010229045532 | ZG7udwy8rzhE5xtUnOGl' and contenido= 'Este es el carrusel prueba' and contenttype= 'text' and typingtime= '1' and id_robot= '538' and blocktype= 'informativo' ;\n",
      "Datos enviados INSERT:\n",
      "{'namestate': 'Informativo | 34fa0024-002a-4673-8b70-6419afef7d4d | 36067394-2558-1046-0765-010229045532 | ZG7udwy8rzhE5xtUnOGl', 'contenido': 'Este es el carrusel prueba', 'next_id': 'Carrusel | cce128da-fc3c-4ab8-8733-0f93dff9b0ca | 36067394-2558-1046-0765-010229045532 | ZG7udwy8rzhE5xtUnOGl', 'blocktype': 'informativo', 'contenttype': 'text', 'typingtime': '1', 'id_block': 2831, 'id_robot': 538, 'opc_nextid': None, 'pos_y': None, 'pos_x': None, 'tag_active': None}\n",
      "Datos recibidos INSERT:\n",
      "{'name_var': 'undefinedInput_prueba_carrusel_2_|_3e82e3b7-d8da-4955-aff4-9bcbee291db67448', 'opc_type': 'Variable', 'var': 0, 'opc_data': 'String', 'id_robot': 538}\n"
     ]
    },
    {
     "name": "stderr",
     "output_type": "stream",
     "text": [
      "127.0.0.1 - - [14/Jun/2021 23:58:53] \"\u001b[37mPOST /insert/variables HTTP/1.1\u001b[0m\" 200 -\n",
      "127.0.0.1 - - [14/Jun/2021 23:58:53] \"\u001b[37mPOST /insert/bloqueinput HTTP/1.1\u001b[0m\" 200 -\n",
      "127.0.0.1 - - [14/Jun/2021 23:58:53] \"\u001b[37mPOST /insert/bloqueinformativo HTTP/1.1\u001b[0m\" 200 -\n"
     ]
    },
    {
     "name": "stdout",
     "output_type": "stream",
     "text": [
      "intenatando consulta...\n",
      "consulta: select * from variables where name_var= 'undefinedInput_prueba_carrusel_2_|_3e82e3b7-d8da-4955-aff4-9bcbee291db67448' and opc_type= 'Variable' and var= '0' and opc_data= 'String' and id_robot= '538' ;\n",
      "Datos enviados INSERT:\n",
      "{'id_var': 1860, 'opc_type': 'Variable', 'opc_data': 'String', 'var': '0', 'id_robot': 538, 'name_var': 'undefinedInput_prueba_carrusel_2_|_3e82e3b7-d8da-4955-aff4-9bcbee291db67448'}\n",
      "Datos recibidos INSERT:\n",
      "{'next_id': 'Salida', 'default_id': 'Input prueba carrusel 2 | 3e82e3b7-d8da-4955-aff4-9bcbee291db6 | 36067394-2558-1046-0765-010229045532 | ZG7udwy8rzhE5xtUnOGl', 'namestate': 'Input prueba carrusel 2 | 3e82e3b7-d8da-4955-aff4-9bcbee291db6 | 36067394-2558-1046-0765-010229045532 | ZG7udwy8rzhE5xtUnOGl', 'contenido': 'Ingresa algo', 'typingtime': '1', 'validacion': ' validacion', 'id_robot': 538, 'id_var': 1860, 'blocktype': 'input'}\n",
      "intenatando consulta...\n",
      "consulta: select * from bloqueinput where next_id= 'Salida' and default_id= 'Input prueba carrusel 2 | 3e82e3b7-d8da-4955-aff4-9bcbee291db6 | 36067394-2558-1046-0765-010229045532 | ZG7udwy8rzhE5xtUnOGl' and namestate= 'Input prueba carrusel 2 | 3e82e3b7-d8da-4955-aff4-9bcbee291db6 | 36067394-2558-1046-0765-010229045532 | ZG7udwy8rzhE5xtUnOGl' and contenido= 'Ingresa algo' and typingtime= '1' and validacion= ' validacion' and id_robot= '538' and id_var= '1860' and blocktype= 'input' ;\n",
      "Datos enviados INSERT:\n",
      "{'namestate': 'Input prueba carrusel 2 | 3e82e3b7-d8da-4955-aff4-9bcbee291db6 | 36067394-2558-1046-0765-010229045532 | ZG7udwy8rzhE5xtUnOGl', 'contenido': 'Ingresa algo', 'next_id': 'Salida', 'blocktype': 'input', 'contenttype': None, 'typingtime': '1', 'validacion': ' validacion', 'default_id': 'Input prueba carrusel 2 | 3e82e3b7-d8da-4955-aff4-9bcbee291db6 | 36067394-2558-1046-0765-010229045532 | ZG7udwy8rzhE5xtUnOGl', 'id_var': '1860', 'id_block': 397, 'id_robot': 538, 'opc_nextid': None, 'pos_y': None, 'pos_x': None, 'tag_active': None}\n",
      "Datos recibidos INSERT:\n",
      "{'next_id': 'Informativo | 98a8f39d-6761-48e7-aca7-66279cfabf40 | 96628859-0899-7537-4503-489244348545 | ZG7udwy8rzhE5xtUnOGl', 'namestate': 'Informativo | a0be25bb-4eb4-49c2-830f-6eb23d64966c | ZG7udwy8rzhE5xtUnOGl', 'contenido': 'Soy el bot 2021', 'contenttype': 'text', 'typingtime': '1', 'id_robot': 538, 'blocktype': 'informativo'}\n",
      "intenatando consulta...\n",
      "consulta: select * from bloqueinformativo where next_id= 'Informativo | 98a8f39d-6761-48e7-aca7-66279cfabf40 | 96628859-0899-7537-4503-489244348545 | ZG7udwy8rzhE5xtUnOGl' and namestate= 'Informativo | a0be25bb-4eb4-49c2-830f-6eb23d64966c | ZG7udwy8rzhE5xtUnOGl' and contenido= 'Soy el bot 2021' and contenttype= 'text' and typingtime= '1' and id_robot= '538' and blocktype= 'informativo' ;\n",
      "Datos enviados INSERT:\n",
      "{'namestate': 'Informativo | a0be25bb-4eb4-49c2-830f-6eb23d64966c | ZG7udwy8rzhE5xtUnOGl', 'contenido': 'Soy el bot 2021', 'next_id': 'Informativo | 98a8f39d-6761-48e7-aca7-66279cfabf40 | 96628859-0899-7537-4503-489244348545 | ZG7udwy8rzhE5xtUnOGl', 'blocktype': 'informativo', 'contenttype': 'text', 'typingtime': '1', 'id_block': 2832, 'id_robot': 538, 'opc_nextid': None, 'pos_y': None, 'pos_x': None, 'tag_active': None}\n",
      "Datos recibidos INSERT:\n",
      "{'next_id': 'Salida', 'namestate': 'Informativo | 72991cca-745b-4886-8ac4-c92d730c134a | ZG7udwy8rzhE5xtUnOGl', 'contenido': 'Gracias por información... Adios!', 'contenttype': 'text', 'typingtime': '1', 'id_robot': 538, 'blocktype': 'informativo'}\n"
     ]
    },
    {
     "name": "stderr",
     "output_type": "stream",
     "text": [
      "127.0.0.1 - - [14/Jun/2021 23:58:53] \"\u001b[37mPOST /insert/bloqueinformativo HTTP/1.1\u001b[0m\" 200 -\n",
      "127.0.0.1 - - [14/Jun/2021 23:58:53] \"\u001b[37mPOST /insert/bloqueinformativo HTTP/1.1\u001b[0m\" 200 -\n"
     ]
    },
    {
     "name": "stdout",
     "output_type": "stream",
     "text": [
      "intenatando consulta...\n",
      "consulta: select * from bloqueinformativo where next_id= 'Salida' and namestate= 'Informativo | 72991cca-745b-4886-8ac4-c92d730c134a | ZG7udwy8rzhE5xtUnOGl' and contenido= 'Gracias por información... Adios!' and contenttype= 'text' and typingtime= '1' and id_robot= '538' and blocktype= 'informativo' ;\n",
      "Datos enviados INSERT:\n",
      "{'namestate': 'Informativo | 72991cca-745b-4886-8ac4-c92d730c134a | ZG7udwy8rzhE5xtUnOGl', 'contenido': 'Gracias por información... Adios!', 'next_id': 'Salida', 'blocktype': 'informativo', 'contenttype': 'text', 'typingtime': '1', 'id_block': 2833, 'id_robot': 538, 'opc_nextid': None, 'pos_y': None, 'pos_x': None, 'tag_active': None}\n",
      "Datos recibidos INSERT:\n",
      "{'next_id': '', 'namestate': 'Salida', 'contenido': '', 'contenttype': 'text', 'typingtime': 3, 'id_robot': 538, 'blocktype': 'informativo'}\n",
      "intenatando consulta...\n",
      "consulta: select * from bloqueinformativo where next_id= '' and namestate= 'Salida' and contenido= '' and contenttype= 'text' and typingtime= '3' and id_robot= '538' and blocktype= 'informativo' ;\n",
      "Datos enviados INSERT:\n",
      "{'namestate': 'Salida', 'contenido': '', 'next_id': '', 'blocktype': 'informativo', 'contenttype': 'text', 'typingtime': '3', 'id_block': 2834, 'id_robot': 538, 'opc_nextid': None, 'pos_y': None, 'pos_x': None, 'tag_active': None}\n"
     ]
    },
    {
     "name": "stderr",
     "output_type": "stream",
     "text": [
      "127.0.0.1 - - [14/Jun/2021 23:58:55] \"\u001b[37mGET /select/robots HTTP/1.1\u001b[0m\" 200 -\n",
      "127.0.0.1 - - [14/Jun/2021 23:58:55] \"\u001b[37mGET /select/bloqueslide HTTP/1.1\u001b[0m\" 200 -\n",
      "127.0.0.1 - - [14/Jun/2021 23:58:55] \"\u001b[37mGET /select/elementos HTTP/1.1\u001b[0m\" 200 -\n",
      "127.0.0.1 - - [14/Jun/2021 23:58:55] \"\u001b[37mGET /select/elementos HTTP/1.1\u001b[0m\" 200 -\n"
     ]
    },
    {
     "name": "stdout",
     "output_type": "stream",
     "text": [
      "Datos recibidos SELECT:\n",
      "{'name_robot': 'CHATBOT TT 2020 A056', 'id_face': '100750202253729', 'block_ini': 'Informativo | d9897d01-e0ce-44bd-ba3d-22973a7d74fd | bSkwpaFVCmMXS8G2PR6k', 'type_blocki': 'informativo', 'access_token': 'EAALZCCZBzPwfkBACf3gal1zeLIkZAxC8ecQ6qmRixvqGJJXtfQvE7S2zNpkdf0BpKR79BZAOawgUcm8IQN9NecBZB25Q8ZCWDFAH50ihRis7XfHm4UM3bYNqgmmKZCKkLnhGGxf2FO8eLr8CVkgp3PgJWiBQVKTO7DRtAZA1IjaLIk1xGTZBunRJ6', 'id_user': 'charlygoldcruz@gmail.com', 'api_nlp': 'http://localhost:8282/'}\n",
      "intenatando consulta...\n",
      "consulta: select * from robots where id_face = '100750202253729';\n",
      "Datos enviados SELECT:\n",
      "{'name_robot': 'CHATBOT TT 2020 A056', 'id_face': '100750202253729', 'block_ini': 'Informativo | d9897d01-e0ce-44bd-ba3d-22973a7d74fd | bSkwpaFVCmMXS8G2PR6k', 'type_blocki': 'informativo', 'access_token': 'EAALZCCZBzPwfkBACf3gal1zeLIkZAxC8ecQ6qmRixvqGJJXtfQvE7S2zNpkdf0BpKR79BZAOawgUcm8IQN9NecBZB25Q8ZCWDFAH50ihRis7XfHm4UM3bYNqgmmKZCKkLnhGGxf2FO8eLr8CVkgp3PgJWiBQVKTO7DRtAZA1IjaLIk1xGTZBunRJ6', 'api_nlp': 'http://localhost:8282/', 'id_robot': 539, 'id_user': 'charlygoldcruz@gmail.com'}\n",
      "Datos recibidos SELECT:\n",
      "{'id_robot': '539'}\n",
      "intenatando consulta...\n",
      "consulta: select * from bloqueslide where id_robot= '539' ;\n",
      "Datos enviados SELECT:\n",
      "[{'namestate': 'Carrusel | 5aaf3158-308e-4b01-9283-f01f32d587c9 | 07418629-1549-9289-4157-116148457825 | bSkwpaFVCmMXS8G2PR6k', 'next_id': 'QuickReply | 9cd75eb1-5f87-4a23-84aa-d6de05ed56b8 | 07418629-1549-9289-4157-116148457825 | bSkwpaFVCmMXS8G2PR6k,QuickReply | f962f2fb-1047-4062-bac8-798fddc79ff2 | 07418629-1549-9289-4157-116148457825 | bSkwpaFVCmMXS8G2PR6k', 'blocktype': 'slide', 'typingtime': '1', 'default_id': 'Carrusel | 5aaf3158-308e-4b01-9283-f01f32d587c9 | 07418629-1549-9289-4157-116148457825 | bSkwpaFVCmMXS8G2PR6k', 'id_var': '1850', 'id_block': 555, 'id_robot': 539, 'opc_nextid': None, 'pos_y': None, 'pos_x': None, 'opc_elm': None, 'tag_active': None}, {'namestate': 'Carrusel | fdd978d8-d9e9-4f74-8d01-07d1a43ecba8 | 98525253-9080-3718-4541-185145979160 | bSkwpaFVCmMXS8G2PR6k', 'next_id': 'Informativo | eb6262bf-2b65-4dc7-9d6a-9a8544083dde | bSkwpaFVCmMXS8G2PR6k,Informativo | eb6262bf-2b65-4dc7-9d6a-9a8544083dde | bSkwpaFVCmMXS8G2PR6k,www.facebook.com,www.ABC.com,Informativo | eb6262bf-2b65-4dc7-9d6a-9a8544083dde | bSkwpaFVCmMXS8G2PR6k,Informativo | eb6262bf-2b65-4dc7-9d6a-9a8544083dde | bSkwpaFVCmMXS8G2PR6k', 'blocktype': 'slide', 'typingtime': '1', 'default_id': 'Carrusel | fdd978d8-d9e9-4f74-8d01-07d1a43ecba8 | 98525253-9080-3718-4541-185145979160 | bSkwpaFVCmMXS8G2PR6k', 'id_var': '1847', 'id_block': 553, 'id_robot': 539, 'opc_nextid': None, 'pos_y': None, 'pos_x': None, 'opc_elm': None, 'tag_active': None}, {'namestate': 'Carrusel | cce128da-fc3c-4ab8-8733-0f93dff9b0ca | 19627070-4044-4254-7133-869533412022 | bSkwpaFVCmMXS8G2PR6k', 'next_id': 'Informativo | 7e74c6f6-46db-4b00-b8b3-07aac064e1de | 98525253-9080-3718-4541-185145979160 | bSkwpaFVCmMXS8G2PR6k,Input prueba carrusel 2 | 3e82e3b7-d8da-4955-aff4-9bcbee291db6 | 19627070-4044-4254-7133-869533412022 | bSkwpaFVCmMXS8G2PR6k', 'blocktype': 'slide', 'typingtime': '1', 'default_id': 'Carrusel | cce128da-fc3c-4ab8-8733-0f93dff9b0ca | 19627070-4044-4254-7133-869533412022 | bSkwpaFVCmMXS8G2PR6k', 'id_var': '1848', 'id_block': 554, 'id_robot': 539, 'opc_nextid': None, 'pos_y': None, 'pos_x': None, 'opc_elm': None, 'tag_active': None}]\n",
      "Datos recibidos SELECT:\n",
      "{'id_block': 555}\n",
      "intenatando consulta...\n",
      "consulta: select * from elementos where id_block= '555' ;\n",
      "Datos enviados SELECT:\n",
      "{'blocktype': 'slide', 'title': 'Titulo 1', 'image_url': 'https://sitechecker.pro/wp-content/uploads/2017/12/URL-meaning.png', 'subtitle': 'Subtitulo 1', 'id_block': 555, 'id_elements': 952}\n",
      "Datos recibidos SELECT:\n",
      "{'id_block': 553}\n",
      "intenatando consulta...\n",
      "consulta: select * from elementos where id_block= '553' ;\n",
      "Datos enviados SELECT:\n",
      "[{'blocktype': 'slide', 'title': 'Titulo 1 Plantilla 1', 'image_url': 'https://image.freepik.com/vector-gratis/caracter-banda-musica-ilustracion-dibujos-animados-plana_338371-15.jpg', 'subtitle': 'S1', 'id_block': 553, 'id_elements': 948}, {'blocktype': 'slide', 'title': 'P2', 'image_url': 'https://www.muycomputer.com/wp-content/uploads/2020/04/Logitech-G203-rat%C3%B3n-gaming-barato-e1587628136683.jpg', 'subtitle': 'S2', 'id_block': 553, 'id_elements': 949}, {'blocktype': 'slide', 'title': 'Plantilla 3', 'image_url': 'https://mmo.aiircdn.com/297/5f6a04de8d671.jpg', 'subtitle': 'Subtitulo 3', 'id_block': 553, 'id_elements': 950}]\n"
     ]
    },
    {
     "name": "stderr",
     "output_type": "stream",
     "text": [
      "127.0.0.1 - - [14/Jun/2021 23:58:55] \"\u001b[37mGET /select/elementos HTTP/1.1\u001b[0m\" 200 -\n",
      "127.0.0.1 - - [14/Jun/2021 23:58:55] \"\u001b[37mPOST /insert/variables HTTP/1.1\u001b[0m\" 200 -\n"
     ]
    },
    {
     "name": "stdout",
     "output_type": "stream",
     "text": [
      "Datos recibidos SELECT:\n",
      "{'id_block': 554}\n",
      "intenatando consulta...\n",
      "consulta: select * from elementos where id_block= '554' ;\n",
      "Datos enviados SELECT:\n",
      "{'blocktype': 'slide', 'title': 'Titulo 1', 'image_url': 'https://jalisco.quadratin.com.mx/www/wp-content/uploads/2020/11/grupo-firme-1-1160x700.jpg', 'subtitle': 'Subtitulo 1', 'id_block': 554, 'id_elements': 951}\n",
      "Datos recibidos INSERT:\n",
      "{'name_var': 'varCarrusel_|_fdd978d8-d9e9-4f74-8d01-07d1a43ecba81079', 'opc_type': 'Variable', 'var': 0, 'opc_data': 'String', 'id_robot': 539}\n",
      "intenatando consulta...\n",
      "consulta: select * from variables where name_var= 'varCarrusel_|_fdd978d8-d9e9-4f74-8d01-07d1a43ecba81079' and opc_type= 'Variable' and var= '0' and opc_data= 'String' and id_robot= '539' ;\n",
      "Datos enviados INSERT:\n",
      "{'id_var': 1861, 'opc_type': 'Variable', 'opc_data': 'String', 'var': '0', 'id_robot': 539, 'name_var': 'varCarrusel_|_fdd978d8-d9e9-4f74-8d01-07d1a43ecba81079'}\n",
      "Datos recibidos INSERT:\n",
      "{'namestate': 'Carrusel | fdd978d8-d9e9-4f74-8d01-07d1a43ecba8 | 98525253-9080-3718-4541-185145979160 | bSkwpaFVCmMXS8G2PR6k', 'blocktype': 'slide', 'typingtime': '1', 'default_id': 'Carrusel | fdd978d8-d9e9-4f74-8d01-07d1a43ecba8 | 98525253-9080-3718-4541-185145979160 | bSkwpaFVCmMXS8G2PR6k', 'id_var': 1861, 'id_robot': 539}\n"
     ]
    },
    {
     "name": "stderr",
     "output_type": "stream",
     "text": [
      "127.0.0.1 - - [14/Jun/2021 23:58:55] \"\u001b[37mPOST /insert/bloqueslide HTTP/1.1\u001b[0m\" 200 -\n",
      "127.0.0.1 - - [14/Jun/2021 23:58:55] \"\u001b[37mPOST /insert/elementos HTTP/1.1\u001b[0m\" 200 -\n",
      "127.0.0.1 - - [14/Jun/2021 23:58:55] \"\u001b[37mPOST /insert/botones HTTP/1.1\u001b[0m\" 200 -\n"
     ]
    },
    {
     "name": "stdout",
     "output_type": "stream",
     "text": [
      "intenatando consulta...\n",
      "consulta: select * from bloqueslide where namestate= 'Carrusel | fdd978d8-d9e9-4f74-8d01-07d1a43ecba8 | 98525253-9080-3718-4541-185145979160 | bSkwpaFVCmMXS8G2PR6k' and blocktype= 'slide' and typingtime= '1' and default_id= 'Carrusel | fdd978d8-d9e9-4f74-8d01-07d1a43ecba8 | 98525253-9080-3718-4541-185145979160 | bSkwpaFVCmMXS8G2PR6k' and id_var= '1861' and id_robot= '539' ;\n",
      "Datos enviados INSERT:\n",
      "{'namestate': 'Carrusel | fdd978d8-d9e9-4f74-8d01-07d1a43ecba8 | 98525253-9080-3718-4541-185145979160 | bSkwpaFVCmMXS8G2PR6k', 'next_id': None, 'blocktype': 'slide', 'typingtime': '1', 'default_id': 'Carrusel | fdd978d8-d9e9-4f74-8d01-07d1a43ecba8 | 98525253-9080-3718-4541-185145979160 | bSkwpaFVCmMXS8G2PR6k', 'id_var': '1861', 'id_block': 559, 'id_robot': 539, 'opc_nextid': None, 'pos_y': None, 'pos_x': None, 'opc_elm': None, 'tag_active': None}\n",
      "Datos recibidos INSERT:\n",
      "{'title': 'Titulo 1 Plantilla 1', 'subtitle': 'S1', 'image_url': 'https://image.freepik.com/vector-gratis/caracter-banda-musica-ilustracion-dibujos-animados-plana_338371-15.jpg', 'blocktype': 'slide', 'id_block': 559}\n",
      "intenatando consulta...\n",
      "consulta: select * from elementos where title= 'Titulo 1 Plantilla 1' and subtitle= 'S1' and image_url= 'https://image.freepik.com/vector-gratis/caracter-banda-musica-ilustracion-dibujos-animados-plana_338371-15.jpg' and blocktype= 'slide' and id_block= '559' ;\n",
      "Datos enviados INSERT:\n",
      "{'blocktype': 'slide', 'title': 'Titulo 1 Plantilla 1', 'image_url': 'https://image.freepik.com/vector-gratis/caracter-banda-musica-ilustracion-dibujos-animados-plana_338371-15.jpg', 'subtitle': 'S1', 'id_block': 559, 'id_elements': 956}\n",
      "Datos recibidos INSERT:\n",
      "{'id_elemento': '956', 'titlebutton': 'Salida 1', 'typebutton': 'postback', 'contentbutton': 'Informativo | eb6262bf-2b65-4dc7-9d6a-9a8544083dde | bSkwpaFVCmMXS8G2PR6k', 'opc_nextid': 'Informativo | eb6262bf-2b65-4dc7-9d6a-9a8544083dde | bSkwpaFVCmMXS8G2PR6k'}\n",
      "intenatando consulta...\n",
      "consulta: select * from botones where id_elemento= '956' and titlebutton= 'Salida 1' and typebutton= 'postback' and contentbutton= 'Informativo | eb6262bf-2b65-4dc7-9d6a-9a8544083dde | bSkwpaFVCmMXS8G2PR6k' and opc_nextid= 'Informativo | eb6262bf-2b65-4dc7-9d6a-9a8544083dde | bSkwpaFVCmMXS8G2PR6k' ;\n",
      "Datos enviados INSERT:\n",
      "{'id_elemento': '956', 'titlebutton': 'Salida 1', 'typebutton': 'postback', 'contentbutton': 'Informativo | eb6262bf-2b65-4dc7-9d6a-9a8544083dde | bSkwpaFVCmMXS8G2PR6k', 'id_boton': 1716, 'opc_nextid': 'Informativo | eb6262bf-2b65-4dc7-9d6a-9a8544083dde | bSkwpaFVCmMXS8G2PR6k'}\n",
      "Datos recibidos INSERT:\n",
      "{'id_elemento': '956', 'titlebutton': 'Salida 2', 'typebutton': 'postback', 'contentbutton': 'Informativo | eb6262bf-2b65-4dc7-9d6a-9a8544083dde | bSkwpaFVCmMXS8G2PR6k', 'opc_nextid': 'Informativo | eb6262bf-2b65-4dc7-9d6a-9a8544083dde | bSkwpaFVCmMXS8G2PR6k'}\n"
     ]
    },
    {
     "name": "stderr",
     "output_type": "stream",
     "text": [
      "127.0.0.1 - - [14/Jun/2021 23:58:55] \"\u001b[37mPOST /insert/botones HTTP/1.1\u001b[0m\" 200 -\n",
      "127.0.0.1 - - [14/Jun/2021 23:58:55] \"\u001b[37mPOST /insert/elementos HTTP/1.1\u001b[0m\" 200 -\n",
      "127.0.0.1 - - [14/Jun/2021 23:58:56] \"\u001b[37mPOST /insert/botones HTTP/1.1\u001b[0m\" 200 -\n"
     ]
    },
    {
     "name": "stdout",
     "output_type": "stream",
     "text": [
      "intenatando consulta...\n",
      "consulta: select * from botones where id_elemento= '956' and titlebutton= 'Salida 2' and typebutton= 'postback' and contentbutton= 'Informativo | eb6262bf-2b65-4dc7-9d6a-9a8544083dde | bSkwpaFVCmMXS8G2PR6k' and opc_nextid= 'Informativo | eb6262bf-2b65-4dc7-9d6a-9a8544083dde | bSkwpaFVCmMXS8G2PR6k' ;\n",
      "Datos enviados INSERT:\n",
      "{'id_elemento': '956', 'titlebutton': 'Salida 2', 'typebutton': 'postback', 'contentbutton': 'Informativo | eb6262bf-2b65-4dc7-9d6a-9a8544083dde | bSkwpaFVCmMXS8G2PR6k', 'id_boton': 1717, 'opc_nextid': 'Informativo | eb6262bf-2b65-4dc7-9d6a-9a8544083dde | bSkwpaFVCmMXS8G2PR6k'}\n",
      "Datos recibidos INSERT:\n",
      "{'title': 'P2', 'image_url': 'https://www.muycomputer.com/wp-content/uploads/2020/04/Logitech-G203-rat%C3%B3n-gaming-barato-e1587628136683.jpg', 'subtitle': 'S2', 'blocktype': 'slide', 'id_block': 559}\n",
      "intenatando consulta...\n",
      "consulta: select * from elementos where title= 'P2' and image_url= 'https://www.muycomputer.com/wp-content/uploads/2020/04/Logitech-G203-rat%C3%B3n-gaming-barato-e1587628136683.jpg' and subtitle= 'S2' and blocktype= 'slide' and id_block= '559' ;\n",
      "Datos enviados INSERT:\n",
      "{'blocktype': 'slide', 'title': 'P2', 'image_url': 'https://www.muycomputer.com/wp-content/uploads/2020/04/Logitech-G203-rat%C3%B3n-gaming-barato-e1587628136683.jpg', 'subtitle': 'S2', 'id_block': 559, 'id_elements': 957}\n",
      "Datos recibidos INSERT:\n",
      "{'id_elemento': '957', 'titlebutton': 'Google', 'typebutton': 'web_url', 'contentbutton': 'www.facebook.com', 'opc_nextid': 'www.facebook.com'}\n",
      "intenatando consulta...\n",
      "consulta: select * from botones where id_elemento= '957' and titlebutton= 'Google' and typebutton= 'web_url' and contentbutton= 'www.facebook.com' and opc_nextid= 'www.facebook.com' ;\n",
      "Datos enviados INSERT:\n",
      "{'id_elemento': '957', 'titlebutton': 'Google', 'typebutton': 'web_url', 'contentbutton': 'www.facebook.com', 'id_boton': 1718, 'opc_nextid': 'www.facebook.com'}\n",
      "Datos recibidos INSERT:\n",
      "{'id_elemento': '957', 'titlebutton': 'ABC', 'typebutton': 'web_url', 'contentbutton': 'www.ABC.com', 'opc_nextid': 'www.ABC.com'}\n"
     ]
    },
    {
     "name": "stderr",
     "output_type": "stream",
     "text": [
      "127.0.0.1 - - [14/Jun/2021 23:58:56] \"\u001b[37mPOST /insert/botones HTTP/1.1\u001b[0m\" 200 -\n",
      "127.0.0.1 - - [14/Jun/2021 23:58:56] \"\u001b[37mPOST /insert/elementos HTTP/1.1\u001b[0m\" 200 -\n",
      "127.0.0.1 - - [14/Jun/2021 23:58:56] \"\u001b[37mPOST /insert/botones HTTP/1.1\u001b[0m\" 200 -\n"
     ]
    },
    {
     "name": "stdout",
     "output_type": "stream",
     "text": [
      "intenatando consulta...\n",
      "consulta: select * from botones where id_elemento= '957' and titlebutton= 'ABC' and typebutton= 'web_url' and contentbutton= 'www.ABC.com' and opc_nextid= 'www.ABC.com' ;\n",
      "Datos enviados INSERT:\n",
      "{'id_elemento': '957', 'titlebutton': 'ABC', 'typebutton': 'web_url', 'contentbutton': 'www.ABC.com', 'id_boton': 1719, 'opc_nextid': 'www.ABC.com'}\n",
      "Datos recibidos INSERT:\n",
      "{'image_url': 'https://mmo.aiircdn.com/297/5f6a04de8d671.jpg', 'title': 'Plantilla 3', 'subtitle': 'Subtitulo 3', 'blocktype': 'slide', 'id_block': 559}\n",
      "intenatando consulta...\n",
      "consulta: select * from elementos where image_url= 'https://mmo.aiircdn.com/297/5f6a04de8d671.jpg' and title= 'Plantilla 3' and subtitle= 'Subtitulo 3' and blocktype= 'slide' and id_block= '559' ;\n",
      "Datos enviados INSERT:\n",
      "{'blocktype': 'slide', 'title': 'Plantilla 3', 'image_url': 'https://mmo.aiircdn.com/297/5f6a04de8d671.jpg', 'subtitle': 'Subtitulo 3', 'id_block': 559, 'id_elements': 958}\n",
      "Datos recibidos INSERT:\n",
      "{'id_elemento': '958', 'titlebutton': 'Input', 'typebutton': 'postback', 'contentbutton': 'Informativo | eb6262bf-2b65-4dc7-9d6a-9a8544083dde | bSkwpaFVCmMXS8G2PR6k', 'opc_nextid': 'Informativo | eb6262bf-2b65-4dc7-9d6a-9a8544083dde | bSkwpaFVCmMXS8G2PR6k'}\n",
      "intenatando consulta...\n",
      "consulta: select * from botones where id_elemento= '958' and titlebutton= 'Input' and typebutton= 'postback' and contentbutton= 'Informativo | eb6262bf-2b65-4dc7-9d6a-9a8544083dde | bSkwpaFVCmMXS8G2PR6k' and opc_nextid= 'Informativo | eb6262bf-2b65-4dc7-9d6a-9a8544083dde | bSkwpaFVCmMXS8G2PR6k' ;\n",
      "Datos enviados INSERT:\n",
      "{'id_elemento': '958', 'titlebutton': 'Input', 'typebutton': 'postback', 'contentbutton': 'Informativo | eb6262bf-2b65-4dc7-9d6a-9a8544083dde | bSkwpaFVCmMXS8G2PR6k', 'id_boton': 1720, 'opc_nextid': 'Informativo | eb6262bf-2b65-4dc7-9d6a-9a8544083dde | bSkwpaFVCmMXS8G2PR6k'}\n"
     ]
    },
    {
     "name": "stderr",
     "output_type": "stream",
     "text": [
      "127.0.0.1 - - [14/Jun/2021 23:58:56] \"\u001b[37mPOST /insert/botones HTTP/1.1\u001b[0m\" 200 -\n",
      "127.0.0.1 - - [14/Jun/2021 23:58:56] \"\u001b[37mPOST /insert/bloqueinformativo HTTP/1.1\u001b[0m\" 200 -\n"
     ]
    },
    {
     "name": "stdout",
     "output_type": "stream",
     "text": [
      "Datos recibidos INSERT:\n",
      "{'id_elemento': '958', 'titlebutton': 'Opcion 6', 'typebutton': 'postback', 'contentbutton': 'Informativo | eb6262bf-2b65-4dc7-9d6a-9a8544083dde | bSkwpaFVCmMXS8G2PR6k', 'opc_nextid': 'Informativo | eb6262bf-2b65-4dc7-9d6a-9a8544083dde | bSkwpaFVCmMXS8G2PR6k'}\n",
      "intenatando consulta...\n",
      "consulta: select * from botones where id_elemento= '958' and titlebutton= 'Opcion 6' and typebutton= 'postback' and contentbutton= 'Informativo | eb6262bf-2b65-4dc7-9d6a-9a8544083dde | bSkwpaFVCmMXS8G2PR6k' and opc_nextid= 'Informativo | eb6262bf-2b65-4dc7-9d6a-9a8544083dde | bSkwpaFVCmMXS8G2PR6k' ;\n",
      "Datos enviados INSERT:\n",
      "{'id_elemento': '958', 'titlebutton': 'Opcion 6', 'typebutton': 'postback', 'contentbutton': 'Informativo | eb6262bf-2b65-4dc7-9d6a-9a8544083dde | bSkwpaFVCmMXS8G2PR6k', 'id_boton': 1721, 'opc_nextid': 'Informativo | eb6262bf-2b65-4dc7-9d6a-9a8544083dde | bSkwpaFVCmMXS8G2PR6k'}\n",
      "Datos recibidos INSERT:\n",
      "{'next_id': 'Intermedio | 39a8d681-4868-4b9c-98e4-9a8db0681865 | 98525253-9080-3718-4541-185145979160 | bSkwpaFVCmMXS8G2PR6k', 'namestate': 'Informativo | 7e74c6f6-46db-4b00-b8b3-07aac064e1de | 98525253-9080-3718-4541-185145979160 | bSkwpaFVCmMXS8G2PR6k', 'contenido': 'Hola, me he editado soy un bloque informativo', 'contenttype': 'text', 'typingtime': '2', 'id_robot': 539, 'blocktype': 'informativo'}\n",
      "intenatando consulta...\n",
      "consulta: select * from bloqueinformativo where next_id= 'Intermedio | 39a8d681-4868-4b9c-98e4-9a8db0681865 | 98525253-9080-3718-4541-185145979160 | bSkwpaFVCmMXS8G2PR6k' and namestate= 'Informativo | 7e74c6f6-46db-4b00-b8b3-07aac064e1de | 98525253-9080-3718-4541-185145979160 | bSkwpaFVCmMXS8G2PR6k' and contenido= 'Hola, me he editado soy un bloque informativo' and contenttype= 'text' and typingtime= '2' and id_robot= '539' and blocktype= 'informativo' ;\n",
      "Datos enviados INSERT:\n",
      "{'namestate': 'Informativo | 7e74c6f6-46db-4b00-b8b3-07aac064e1de | 98525253-9080-3718-4541-185145979160 | bSkwpaFVCmMXS8G2PR6k', 'contenido': 'Hola, me he editado soy un bloque informativo', 'next_id': 'Intermedio | 39a8d681-4868-4b9c-98e4-9a8db0681865 | 98525253-9080-3718-4541-185145979160 | bSkwpaFVCmMXS8G2PR6k', 'blocktype': 'informativo', 'contenttype': 'text', 'typingtime': '2', 'id_block': 2835, 'id_robot': 539, 'opc_nextid': None, 'pos_y': None, 'pos_x': None, 'tag_active': None}\n",
      "Datos recibidos INSERT:\n",
      "{'next_id': 'Carrusel | fdd978d8-d9e9-4f74-8d01-07d1a43ecba8 | 98525253-9080-3718-4541-185145979160 | bSkwpaFVCmMXS8G2PR6k', 'namestate': 'Intermedio | 39a8d681-4868-4b9c-98e4-9a8db0681865 | 98525253-9080-3718-4541-185145979160 | bSkwpaFVCmMXS8G2PR6k', 'contenido': 'Este es un bloque intermedio', 'contenttype': 'text', 'typingtime': '1', 'id_robot': 539, 'blocktype': 'informativo'}\n"
     ]
    },
    {
     "name": "stderr",
     "output_type": "stream",
     "text": [
      "127.0.0.1 - - [14/Jun/2021 23:58:56] \"\u001b[37mPOST /insert/bloqueinformativo HTTP/1.1\u001b[0m\" 200 -\n",
      "127.0.0.1 - - [14/Jun/2021 23:58:56] \"\u001b[37mPOST /insert/variables HTTP/1.1\u001b[0m\" 200 -\n",
      "127.0.0.1 - - [14/Jun/2021 23:58:56] \"\u001b[37mPOST /insert/bloqueslide HTTP/1.1\u001b[0m\" 200 -\n"
     ]
    },
    {
     "name": "stdout",
     "output_type": "stream",
     "text": [
      "intenatando consulta...\n",
      "consulta: select * from bloqueinformativo where next_id= 'Carrusel | fdd978d8-d9e9-4f74-8d01-07d1a43ecba8 | 98525253-9080-3718-4541-185145979160 | bSkwpaFVCmMXS8G2PR6k' and namestate= 'Intermedio | 39a8d681-4868-4b9c-98e4-9a8db0681865 | 98525253-9080-3718-4541-185145979160 | bSkwpaFVCmMXS8G2PR6k' and contenido= 'Este es un bloque intermedio' and contenttype= 'text' and typingtime= '1' and id_robot= '539' and blocktype= 'informativo' ;\n",
      "Datos enviados INSERT:\n",
      "{'namestate': 'Intermedio | 39a8d681-4868-4b9c-98e4-9a8db0681865 | 98525253-9080-3718-4541-185145979160 | bSkwpaFVCmMXS8G2PR6k', 'contenido': 'Este es un bloque intermedio', 'next_id': 'Carrusel | fdd978d8-d9e9-4f74-8d01-07d1a43ecba8 | 98525253-9080-3718-4541-185145979160 | bSkwpaFVCmMXS8G2PR6k', 'blocktype': 'informativo', 'contenttype': 'text', 'typingtime': '1', 'id_block': 2836, 'id_robot': 539, 'opc_nextid': None, 'pos_y': None, 'pos_x': None, 'tag_active': None}\n",
      "Datos recibidos INSERT:\n",
      "{'name_var': 'undefinedCarrusel_|_cce128da-fc3c-4ab8-8733-0f93dff9b0ca7707', 'opc_type': 'Variable', 'var': 0, 'opc_data': 'String', 'id_robot': 539}\n",
      "intenatando consulta...\n",
      "consulta: select * from variables where name_var= 'undefinedCarrusel_|_cce128da-fc3c-4ab8-8733-0f93dff9b0ca7707' and opc_type= 'Variable' and var= '0' and opc_data= 'String' and id_robot= '539' ;\n",
      "Datos enviados INSERT:\n",
      "{'id_var': 1862, 'opc_type': 'Variable', 'opc_data': 'String', 'var': '0', 'id_robot': 539, 'name_var': 'undefinedCarrusel_|_cce128da-fc3c-4ab8-8733-0f93dff9b0ca7707'}\n",
      "Datos recibidos INSERT:\n",
      "{'namestate': 'Carrusel | cce128da-fc3c-4ab8-8733-0f93dff9b0ca | 19627070-4044-4254-7133-869533412022 | bSkwpaFVCmMXS8G2PR6k', 'blocktype': 'slide', 'typingtime': '1', 'default_id': 'Carrusel | cce128da-fc3c-4ab8-8733-0f93dff9b0ca | 19627070-4044-4254-7133-869533412022 | bSkwpaFVCmMXS8G2PR6k', 'id_var': 1862, 'id_robot': 539}\n",
      "intenatando consulta...\n",
      "consulta: select * from bloqueslide where namestate= 'Carrusel | cce128da-fc3c-4ab8-8733-0f93dff9b0ca | 19627070-4044-4254-7133-869533412022 | bSkwpaFVCmMXS8G2PR6k' and blocktype= 'slide' and typingtime= '1' and default_id= 'Carrusel | cce128da-fc3c-4ab8-8733-0f93dff9b0ca | 19627070-4044-4254-7133-869533412022 | bSkwpaFVCmMXS8G2PR6k' and id_var= '1862' and id_robot= '539' ;\n",
      "Datos enviados INSERT:\n",
      "{'namestate': 'Carrusel | cce128da-fc3c-4ab8-8733-0f93dff9b0ca | 19627070-4044-4254-7133-869533412022 | bSkwpaFVCmMXS8G2PR6k', 'next_id': None, 'blocktype': 'slide', 'typingtime': '1', 'default_id': 'Carrusel | cce128da-fc3c-4ab8-8733-0f93dff9b0ca | 19627070-4044-4254-7133-869533412022 | bSkwpaFVCmMXS8G2PR6k', 'id_var': '1862', 'id_block': 560, 'id_robot': 539, 'opc_nextid': None, 'pos_y': None, 'pos_x': None, 'opc_elm': None, 'tag_active': None}\n",
      "Datos recibidos INSERT:\n",
      "{'image_url': 'https://jalisco.quadratin.com.mx/www/wp-content/uploads/2020/11/grupo-firme-1-1160x700.jpg', 'title': 'Titulo 1', 'subtitle': 'Subtitulo 1', 'blocktype': 'slide', 'id_block': 560}\n"
     ]
    },
    {
     "name": "stderr",
     "output_type": "stream",
     "text": [
      "127.0.0.1 - - [14/Jun/2021 23:58:56] \"\u001b[37mPOST /insert/elementos HTTP/1.1\u001b[0m\" 200 -\n",
      "127.0.0.1 - - [14/Jun/2021 23:58:56] \"\u001b[37mPOST /insert/botones HTTP/1.1\u001b[0m\" 200 -\n",
      "127.0.0.1 - - [14/Jun/2021 23:58:56] \"\u001b[37mPOST /insert/botones HTTP/1.1\u001b[0m\" 200 -\n"
     ]
    },
    {
     "name": "stdout",
     "output_type": "stream",
     "text": [
      "intenatando consulta...\n",
      "consulta: select * from elementos where image_url= 'https://jalisco.quadratin.com.mx/www/wp-content/uploads/2020/11/grupo-firme-1-1160x700.jpg' and title= 'Titulo 1' and subtitle= 'Subtitulo 1' and blocktype= 'slide' and id_block= '560' ;\n",
      "Datos enviados INSERT:\n",
      "{'blocktype': 'slide', 'title': 'Titulo 1', 'image_url': 'https://jalisco.quadratin.com.mx/www/wp-content/uploads/2020/11/grupo-firme-1-1160x700.jpg', 'subtitle': 'Subtitulo 1', 'id_block': 560, 'id_elements': 959}\n",
      "Datos recibidos INSERT:\n",
      "{'id_elemento': '959', 'titlebutton': 'Salida 1', 'typebutton': 'postback', 'contentbutton': 'Informativo | 7e74c6f6-46db-4b00-b8b3-07aac064e1de | 98525253-9080-3718-4541-185145979160 | bSkwpaFVCmMXS8G2PR6k', 'opc_nextid': 'Informativo | 7e74c6f6-46db-4b00-b8b3-07aac064e1de | 98525253-9080-3718-4541-185145979160 | bSkwpaFVCmMXS8G2PR6k'}\n",
      "intenatando consulta...\n",
      "consulta: select * from botones where id_elemento= '959' and titlebutton= 'Salida 1' and typebutton= 'postback' and contentbutton= 'Informativo | 7e74c6f6-46db-4b00-b8b3-07aac064e1de | 98525253-9080-3718-4541-185145979160 | bSkwpaFVCmMXS8G2PR6k' and opc_nextid= 'Informativo | 7e74c6f6-46db-4b00-b8b3-07aac064e1de | 98525253-9080-3718-4541-185145979160 | bSkwpaFVCmMXS8G2PR6k' ;\n",
      "Datos enviados INSERT:\n",
      "{'id_elemento': '959', 'titlebutton': 'Salida 1', 'typebutton': 'postback', 'contentbutton': 'Informativo | 7e74c6f6-46db-4b00-b8b3-07aac064e1de | 98525253-9080-3718-4541-185145979160 | bSkwpaFVCmMXS8G2PR6k', 'id_boton': 1722, 'opc_nextid': 'Informativo | 7e74c6f6-46db-4b00-b8b3-07aac064e1de | 98525253-9080-3718-4541-185145979160 | bSkwpaFVCmMXS8G2PR6k'}\n",
      "Datos recibidos INSERT:\n",
      "{'id_elemento': '959', 'titlebutton': 'Facebook', 'typebutton': 'postback', 'contentbutton': 'Input prueba carrusel 2 | 3e82e3b7-d8da-4955-aff4-9bcbee291db6 | 19627070-4044-4254-7133-869533412022 | bSkwpaFVCmMXS8G2PR6k', 'opc_nextid': 'Input prueba carrusel 2 | 3e82e3b7-d8da-4955-aff4-9bcbee291db6 | 19627070-4044-4254-7133-869533412022 | bSkwpaFVCmMXS8G2PR6k'}\n",
      "intenatando consulta...\n",
      "consulta: select * from botones where id_elemento= '959' and titlebutton= 'Facebook' and typebutton= 'postback' and contentbutton= 'Input prueba carrusel 2 | 3e82e3b7-d8da-4955-aff4-9bcbee291db6 | 19627070-4044-4254-7133-869533412022 | bSkwpaFVCmMXS8G2PR6k' and opc_nextid= 'Input prueba carrusel 2 | 3e82e3b7-d8da-4955-aff4-9bcbee291db6 | 19627070-4044-4254-7133-869533412022 | bSkwpaFVCmMXS8G2PR6k' ;\n",
      "Datos enviados INSERT:\n",
      "{'id_elemento': '959', 'titlebutton': 'Facebook', 'typebutton': 'postback', 'contentbutton': 'Input prueba carrusel 2 | 3e82e3b7-d8da-4955-aff4-9bcbee291db6 | 19627070-4044-4254-7133-869533412022 | bSkwpaFVCmMXS8G2PR6k', 'id_boton': 1723, 'opc_nextid': 'Input prueba carrusel 2 | 3e82e3b7-d8da-4955-aff4-9bcbee291db6 | 19627070-4044-4254-7133-869533412022 | bSkwpaFVCmMXS8G2PR6k'}\n"
     ]
    },
    {
     "name": "stderr",
     "output_type": "stream",
     "text": [
      "127.0.0.1 - - [14/Jun/2021 23:58:57] \"\u001b[37mPOST /insert/bloqueinformativo HTTP/1.1\u001b[0m\" 200 -\n",
      "127.0.0.1 - - [14/Jun/2021 23:58:57] \"\u001b[37mPOST /insert/variables HTTP/1.1\u001b[0m\" 200 -\n"
     ]
    },
    {
     "name": "stdout",
     "output_type": "stream",
     "text": [
      "Datos recibidos INSERT:\n",
      "{'next_id': 'Carrusel | cce128da-fc3c-4ab8-8733-0f93dff9b0ca | 19627070-4044-4254-7133-869533412022 | bSkwpaFVCmMXS8G2PR6k', 'namestate': 'Informativo | 34fa0024-002a-4673-8b70-6419afef7d4d | 19627070-4044-4254-7133-869533412022 | bSkwpaFVCmMXS8G2PR6k', 'contenido': 'Este es el carrusel prueba 2', 'contenttype': 'text', 'typingtime': '1', 'id_robot': 539, 'blocktype': 'informativo'}\n",
      "intenatando consulta...\n",
      "consulta: select * from bloqueinformativo where next_id= 'Carrusel | cce128da-fc3c-4ab8-8733-0f93dff9b0ca | 19627070-4044-4254-7133-869533412022 | bSkwpaFVCmMXS8G2PR6k' and namestate= 'Informativo | 34fa0024-002a-4673-8b70-6419afef7d4d | 19627070-4044-4254-7133-869533412022 | bSkwpaFVCmMXS8G2PR6k' and contenido= 'Este es el carrusel prueba 2' and contenttype= 'text' and typingtime= '1' and id_robot= '539' and blocktype= 'informativo' ;\n",
      "Datos enviados INSERT:\n",
      "{'namestate': 'Informativo | 34fa0024-002a-4673-8b70-6419afef7d4d | 19627070-4044-4254-7133-869533412022 | bSkwpaFVCmMXS8G2PR6k', 'contenido': 'Este es el carrusel prueba 2', 'next_id': 'Carrusel | cce128da-fc3c-4ab8-8733-0f93dff9b0ca | 19627070-4044-4254-7133-869533412022 | bSkwpaFVCmMXS8G2PR6k', 'blocktype': 'informativo', 'contenttype': 'text', 'typingtime': '1', 'id_block': 2837, 'id_robot': 539, 'opc_nextid': None, 'pos_y': None, 'pos_x': None, 'tag_active': None}\n",
      "Datos recibidos INSERT:\n",
      "{'name_var': 'undefinedInput_prueba_carrusel_2_|_3e82e3b7-d8da-4955-aff4-9bcbee291db69575', 'opc_type': 'Variable', 'var': 0, 'opc_data': 'String', 'id_robot': 539}\n",
      "intenatando consulta...\n",
      "consulta: select * from variables where name_var= 'undefinedInput_prueba_carrusel_2_|_3e82e3b7-d8da-4955-aff4-9bcbee291db69575' and opc_type= 'Variable' and var= '0' and opc_data= 'String' and id_robot= '539' ;\n",
      "Datos enviados INSERT:\n",
      "{'id_var': 1863, 'opc_type': 'Variable', 'opc_data': 'String', 'var': '0', 'id_robot': 539, 'name_var': 'undefinedInput_prueba_carrusel_2_|_3e82e3b7-d8da-4955-aff4-9bcbee291db69575'}\n",
      "Datos recibidos INSERT:\n",
      "{'next_id': 'Salida', 'default_id': 'Input prueba carrusel 2 | 3e82e3b7-d8da-4955-aff4-9bcbee291db6 | 19627070-4044-4254-7133-869533412022 | bSkwpaFVCmMXS8G2PR6k', 'namestate': 'Input prueba carrusel 2 | 3e82e3b7-d8da-4955-aff4-9bcbee291db6 | 19627070-4044-4254-7133-869533412022 | bSkwpaFVCmMXS8G2PR6k', 'contenido': 'Ingresa algo', 'typingtime': '1', 'validacion': ' validacion', 'id_robot': 539, 'id_var': 1863, 'blocktype': 'input'}\n",
      "intenatando consulta...\n",
      "consulta: select * from bloqueinput where next_id= 'Salida' and default_id= 'Input prueba carrusel 2 | 3e82e3b7-d8da-4955-aff4-9bcbee291db6 | 19627070-4044-4254-7133-869533412022 | bSkwpaFVCmMXS8G2PR6k' and namestate= 'Input prueba carrusel 2 | 3e82e3b7-d8da-4955-aff4-9bcbee291db6 | 19627070-4044-4254-7133-869533412022 | bSkwpaFVCmMXS8G2PR6k' and contenido= 'Ingresa algo' and typingtime= '1' and validacion= ' validacion' and id_robot= '539' and id_var= '1863' and blocktype= 'input' ;\n"
     ]
    },
    {
     "name": "stderr",
     "output_type": "stream",
     "text": [
      "127.0.0.1 - - [14/Jun/2021 23:58:57] \"\u001b[37mPOST /insert/bloqueinput HTTP/1.1\u001b[0m\" 200 -\n",
      "127.0.0.1 - - [14/Jun/2021 23:58:57] \"\u001b[37mPOST /insert/variables HTTP/1.1\u001b[0m\" 200 -\n",
      "127.0.0.1 - - [14/Jun/2021 23:58:57] \"\u001b[37mPOST /insert/bloqueslide HTTP/1.1\u001b[0m\" 200 -\n"
     ]
    },
    {
     "name": "stdout",
     "output_type": "stream",
     "text": [
      "Datos enviados INSERT:\n",
      "{'namestate': 'Input prueba carrusel 2 | 3e82e3b7-d8da-4955-aff4-9bcbee291db6 | 19627070-4044-4254-7133-869533412022 | bSkwpaFVCmMXS8G2PR6k', 'contenido': 'Ingresa algo', 'next_id': 'Salida', 'blocktype': 'input', 'contenttype': None, 'typingtime': '1', 'validacion': ' validacion', 'default_id': 'Input prueba carrusel 2 | 3e82e3b7-d8da-4955-aff4-9bcbee291db6 | 19627070-4044-4254-7133-869533412022 | bSkwpaFVCmMXS8G2PR6k', 'id_var': '1863', 'id_block': 398, 'id_robot': 539, 'opc_nextid': None, 'pos_y': None, 'pos_x': None, 'tag_active': None}\n",
      "Datos recibidos INSERT:\n",
      "{'name_var': 'variableCarrCarrusel_|_5aaf3158-308e-4b01-9283-f01f32d587c94445', 'opc_type': 'Variable', 'var': 0, 'opc_data': 'String', 'id_robot': 539}\n",
      "intenatando consulta...\n",
      "consulta: select * from variables where name_var= 'variableCarrCarrusel_|_5aaf3158-308e-4b01-9283-f01f32d587c94445' and opc_type= 'Variable' and var= '0' and opc_data= 'String' and id_robot= '539' ;\n",
      "Datos enviados INSERT:\n",
      "{'id_var': 1864, 'opc_type': 'Variable', 'opc_data': 'String', 'var': '0', 'id_robot': 539, 'name_var': 'variableCarrCarrusel_|_5aaf3158-308e-4b01-9283-f01f32d587c94445'}\n",
      "Datos recibidos INSERT:\n",
      "{'namestate': 'Carrusel | 5aaf3158-308e-4b01-9283-f01f32d587c9 | 07418629-1549-9289-4157-116148457825 | bSkwpaFVCmMXS8G2PR6k', 'blocktype': 'slide', 'typingtime': '1', 'default_id': 'Carrusel | 5aaf3158-308e-4b01-9283-f01f32d587c9 | 07418629-1549-9289-4157-116148457825 | bSkwpaFVCmMXS8G2PR6k', 'id_var': 1864, 'id_robot': 539}\n",
      "intenatando consulta...\n",
      "consulta: select * from bloqueslide where namestate= 'Carrusel | 5aaf3158-308e-4b01-9283-f01f32d587c9 | 07418629-1549-9289-4157-116148457825 | bSkwpaFVCmMXS8G2PR6k' and blocktype= 'slide' and typingtime= '1' and default_id= 'Carrusel | 5aaf3158-308e-4b01-9283-f01f32d587c9 | 07418629-1549-9289-4157-116148457825 | bSkwpaFVCmMXS8G2PR6k' and id_var= '1864' and id_robot= '539' ;\n",
      "Datos enviados INSERT:\n",
      "{'namestate': 'Carrusel | 5aaf3158-308e-4b01-9283-f01f32d587c9 | 07418629-1549-9289-4157-116148457825 | bSkwpaFVCmMXS8G2PR6k', 'next_id': None, 'blocktype': 'slide', 'typingtime': '1', 'default_id': 'Carrusel | 5aaf3158-308e-4b01-9283-f01f32d587c9 | 07418629-1549-9289-4157-116148457825 | bSkwpaFVCmMXS8G2PR6k', 'id_var': '1864', 'id_block': 561, 'id_robot': 539, 'opc_nextid': None, 'pos_y': None, 'pos_x': None, 'opc_elm': None, 'tag_active': None}\n",
      "Datos recibidos INSERT:\n",
      "{'image_url': 'https://sitechecker.pro/wp-content/uploads/2017/12/URL-meaning.png', 'title': 'Titulo 1', 'subtitle': 'Subtitulo 1', 'blocktype': 'slide', 'id_block': 561}\n"
     ]
    },
    {
     "name": "stderr",
     "output_type": "stream",
     "text": [
      "127.0.0.1 - - [14/Jun/2021 23:58:57] \"\u001b[37mPOST /insert/elementos HTTP/1.1\u001b[0m\" 200 -\n",
      "127.0.0.1 - - [14/Jun/2021 23:58:57] \"\u001b[37mPOST /insert/botones HTTP/1.1\u001b[0m\" 200 -\n",
      "127.0.0.1 - - [14/Jun/2021 23:58:57] \"\u001b[37mPOST /insert/botones HTTP/1.1\u001b[0m\" 200 -\n"
     ]
    },
    {
     "name": "stdout",
     "output_type": "stream",
     "text": [
      "intenatando consulta...\n",
      "consulta: select * from elementos where image_url= 'https://sitechecker.pro/wp-content/uploads/2017/12/URL-meaning.png' and title= 'Titulo 1' and subtitle= 'Subtitulo 1' and blocktype= 'slide' and id_block= '561' ;\n",
      "Datos enviados INSERT:\n",
      "{'blocktype': 'slide', 'title': 'Titulo 1', 'image_url': 'https://sitechecker.pro/wp-content/uploads/2017/12/URL-meaning.png', 'subtitle': 'Subtitulo 1', 'id_block': 561, 'id_elements': 960}\n",
      "Datos recibidos INSERT:\n",
      "{'id_elemento': '960', 'titlebutton': 'Opcion 1', 'typebutton': 'postback', 'contentbutton': 'QuickReply | 9cd75eb1-5f87-4a23-84aa-d6de05ed56b8 | 07418629-1549-9289-4157-116148457825 | bSkwpaFVCmMXS8G2PR6k', 'opc_nextid': 'QuickReply | 9cd75eb1-5f87-4a23-84aa-d6de05ed56b8 | 07418629-1549-9289-4157-116148457825 | bSkwpaFVCmMXS8G2PR6k'}\n",
      "intenatando consulta...\n",
      "consulta: select * from botones where id_elemento= '960' and titlebutton= 'Opcion 1' and typebutton= 'postback' and contentbutton= 'QuickReply | 9cd75eb1-5f87-4a23-84aa-d6de05ed56b8 | 07418629-1549-9289-4157-116148457825 | bSkwpaFVCmMXS8G2PR6k' and opc_nextid= 'QuickReply | 9cd75eb1-5f87-4a23-84aa-d6de05ed56b8 | 07418629-1549-9289-4157-116148457825 | bSkwpaFVCmMXS8G2PR6k' ;\n",
      "Datos enviados INSERT:\n",
      "{'id_elemento': '960', 'titlebutton': 'Opcion 1', 'typebutton': 'postback', 'contentbutton': 'QuickReply | 9cd75eb1-5f87-4a23-84aa-d6de05ed56b8 | 07418629-1549-9289-4157-116148457825 | bSkwpaFVCmMXS8G2PR6k', 'id_boton': 1724, 'opc_nextid': 'QuickReply | 9cd75eb1-5f87-4a23-84aa-d6de05ed56b8 | 07418629-1549-9289-4157-116148457825 | bSkwpaFVCmMXS8G2PR6k'}\n",
      "Datos recibidos INSERT:\n",
      "{'id_elemento': '960', 'titlebutton': 'Opcion 2', 'typebutton': 'postback', 'contentbutton': 'QuickReply | f962f2fb-1047-4062-bac8-798fddc79ff2 | 07418629-1549-9289-4157-116148457825 | bSkwpaFVCmMXS8G2PR6k', 'opc_nextid': 'QuickReply | f962f2fb-1047-4062-bac8-798fddc79ff2 | 07418629-1549-9289-4157-116148457825 | bSkwpaFVCmMXS8G2PR6k'}\n",
      "intenatando consulta...\n",
      "consulta: select * from botones where id_elemento= '960' and titlebutton= 'Opcion 2' and typebutton= 'postback' and contentbutton= 'QuickReply | f962f2fb-1047-4062-bac8-798fddc79ff2 | 07418629-1549-9289-4157-116148457825 | bSkwpaFVCmMXS8G2PR6k' and opc_nextid= 'QuickReply | f962f2fb-1047-4062-bac8-798fddc79ff2 | 07418629-1549-9289-4157-116148457825 | bSkwpaFVCmMXS8G2PR6k' ;\n",
      "Datos enviados INSERT:\n",
      "{'id_elemento': '960', 'titlebutton': 'Opcion 2', 'typebutton': 'postback', 'contentbutton': 'QuickReply | f962f2fb-1047-4062-bac8-798fddc79ff2 | 07418629-1549-9289-4157-116148457825 | bSkwpaFVCmMXS8G2PR6k', 'id_boton': 1725, 'opc_nextid': 'QuickReply | f962f2fb-1047-4062-bac8-798fddc79ff2 | 07418629-1549-9289-4157-116148457825 | bSkwpaFVCmMXS8G2PR6k'}\n"
     ]
    },
    {
     "name": "stderr",
     "output_type": "stream",
     "text": [
      "127.0.0.1 - - [14/Jun/2021 23:58:57] \"\u001b[37mPOST /insert/bloqueinformativo HTTP/1.1\u001b[0m\" 200 -\n",
      "127.0.0.1 - - [14/Jun/2021 23:58:57] \"\u001b[37mPOST /insert/variables HTTP/1.1\u001b[0m\" 200 -\n"
     ]
    },
    {
     "name": "stdout",
     "output_type": "stream",
     "text": [
      "Datos recibidos INSERT:\n",
      "{'next_id': 'Carrusel | 5aaf3158-308e-4b01-9283-f01f32d587c9 | 07418629-1549-9289-4157-116148457825 | bSkwpaFVCmMXS8G2PR6k', 'namestate': 'Informativo | 98a8f39d-6761-48e7-aca7-66279cfabf40 | 07418629-1549-9289-4157-116148457825 | bSkwpaFVCmMXS8G2PR6k', 'contenido': 'Este es un bloque informativo', 'contenttype': 'text', 'typingtime': '1', 'id_robot': 539, 'blocktype': 'informativo'}\n",
      "intenatando consulta...\n",
      "consulta: select * from bloqueinformativo where next_id= 'Carrusel | 5aaf3158-308e-4b01-9283-f01f32d587c9 | 07418629-1549-9289-4157-116148457825 | bSkwpaFVCmMXS8G2PR6k' and namestate= 'Informativo | 98a8f39d-6761-48e7-aca7-66279cfabf40 | 07418629-1549-9289-4157-116148457825 | bSkwpaFVCmMXS8G2PR6k' and contenido= 'Este es un bloque informativo' and contenttype= 'text' and typingtime= '1' and id_robot= '539' and blocktype= 'informativo' ;\n",
      "Datos enviados INSERT:\n",
      "{'namestate': 'Informativo | 98a8f39d-6761-48e7-aca7-66279cfabf40 | 07418629-1549-9289-4157-116148457825 | bSkwpaFVCmMXS8G2PR6k', 'contenido': 'Este es un bloque informativo', 'next_id': 'Carrusel | 5aaf3158-308e-4b01-9283-f01f32d587c9 | 07418629-1549-9289-4157-116148457825 | bSkwpaFVCmMXS8G2PR6k', 'blocktype': 'informativo', 'contenttype': 'text', 'typingtime': '1', 'id_block': 2838, 'id_robot': 539, 'opc_nextid': None, 'pos_y': None, 'pos_x': None, 'tag_active': None}\n",
      "Datos recibidos INSERT:\n",
      "{'name_var': 'variableQrQuickReply_|_9cd75eb1-5f87-4a23-84aa-d6de05ed56b89888', 'opc_type': 'Variable', 'var': 0, 'opc_data': 'String', 'id_robot': 539}\n",
      "intenatando consulta...\n",
      "consulta: select * from variables where name_var= 'variableQrQuickReply_|_9cd75eb1-5f87-4a23-84aa-d6de05ed56b89888' and opc_type= 'Variable' and var= '0' and opc_data= 'String' and id_robot= '539' ;\n",
      "Datos enviados INSERT:\n",
      "{'id_var': 1865, 'opc_type': 'Variable', 'opc_data': 'String', 'var': '0', 'id_robot': 539, 'name_var': 'variableQrQuickReply_|_9cd75eb1-5f87-4a23-84aa-d6de05ed56b89888'}\n",
      "Datos recibidos INSERT:\n",
      "{'contenido': 'QUICKREPLY 1', 'opciones': 'SALIDA 1', 'next_id': 'Input | cd6d4be8-c346-4550-a26e-4bb9a7230d3b | bSkwpaFVCmMXS8G2PR6k', 'default_id': 'QuickReply | 9cd75eb1-5f87-4a23-84aa-d6de05ed56b8 | 07418629-1549-9289-4157-116148457825 | bSkwpaFVCmMXS8G2PR6k', 'namestate': 'QuickReply | 9cd75eb1-5f87-4a23-84aa-d6de05ed56b8 | 07418629-1549-9289-4157-116148457825 | bSkwpaFVCmMXS8G2PR6k', 'typingtime': '1', 'id_robot': 539, 'id_var': 1865, 'blocktype': 'quickReply'}\n",
      "intenatando consulta...\n",
      "consulta: select * from bloquequickreply where contenido= 'QUICKREPLY 1' and opciones= 'SALIDA 1' and next_id= 'Input | cd6d4be8-c346-4550-a26e-4bb9a7230d3b | bSkwpaFVCmMXS8G2PR6k' and default_id= 'QuickReply | 9cd75eb1-5f87-4a23-84aa-d6de05ed56b8 | 07418629-1549-9289-4157-116148457825 | bSkwpaFVCmMXS8G2PR6k' and namestate= 'QuickReply | 9cd75eb1-5f87-4a23-84aa-d6de05ed56b8 | 07418629-1549-9289-4157-116148457825 | bSkwpaFVCmMXS8G2PR6k' and typingtime= '1' and id_robot= '539' and id_var= '1865' and blocktype= 'quickReply' ;\n"
     ]
    },
    {
     "name": "stderr",
     "output_type": "stream",
     "text": [
      "127.0.0.1 - - [14/Jun/2021 23:58:57] \"\u001b[37mPOST /insert/bloquequickreply HTTP/1.1\u001b[0m\" 200 -\n",
      "127.0.0.1 - - [14/Jun/2021 23:58:57] \"\u001b[37mPOST /insert/variables HTTP/1.1\u001b[0m\" 200 -\n",
      "127.0.0.1 - - [14/Jun/2021 23:58:58] \"\u001b[37mPOST /insert/bloquequickreply HTTP/1.1\u001b[0m\" 200 -\n"
     ]
    },
    {
     "name": "stdout",
     "output_type": "stream",
     "text": [
      "Datos enviados INSERT:\n",
      "{'namestate': 'QuickReply | 9cd75eb1-5f87-4a23-84aa-d6de05ed56b8 | 07418629-1549-9289-4157-116148457825 | bSkwpaFVCmMXS8G2PR6k', 'contenido': 'QUICKREPLY 1', 'opciones': 'SALIDA 1', 'next_id': 'Input | cd6d4be8-c346-4550-a26e-4bb9a7230d3b | bSkwpaFVCmMXS8G2PR6k', 'blocktype': 'quickReply', 'typingtime': '1', 'default_id': 'QuickReply | 9cd75eb1-5f87-4a23-84aa-d6de05ed56b8 | 07418629-1549-9289-4157-116148457825 | bSkwpaFVCmMXS8G2PR6k', 'id_var': '1865', 'id_block': 678, 'id_robot': 539, 'opc_nextid': None, 'pos_y': None, 'pos_x': None, 'tag_active': None}\n",
      "Datos recibidos INSERT:\n",
      "{'name_var': 'variableQrQuickReply_|_f962f2fb-1047-4062-bac8-798fddc79ff29069', 'opc_type': 'Variable', 'var': 0, 'opc_data': 'String', 'id_robot': 539}\n",
      "intenatando consulta...\n",
      "consulta: select * from variables where name_var= 'variableQrQuickReply_|_f962f2fb-1047-4062-bac8-798fddc79ff29069' and opc_type= 'Variable' and var= '0' and opc_data= 'String' and id_robot= '539' ;\n",
      "Datos enviados INSERT:\n",
      "{'id_var': 1866, 'opc_type': 'Variable', 'opc_data': 'String', 'var': '0', 'id_robot': 539, 'name_var': 'variableQrQuickReply_|_f962f2fb-1047-4062-bac8-798fddc79ff29069'}\n",
      "Datos recibidos INSERT:\n",
      "{'contenido': 'quickreply 2', 'opciones': 'SALIDA 2', 'next_id': 'Input | cd6d4be8-c346-4550-a26e-4bb9a7230d3b | bSkwpaFVCmMXS8G2PR6k', 'default_id': 'QuickReply | f962f2fb-1047-4062-bac8-798fddc79ff2 | 07418629-1549-9289-4157-116148457825 | bSkwpaFVCmMXS8G2PR6k', 'namestate': 'QuickReply | f962f2fb-1047-4062-bac8-798fddc79ff2 | 07418629-1549-9289-4157-116148457825 | bSkwpaFVCmMXS8G2PR6k', 'typingtime': '1', 'id_robot': 539, 'id_var': 1866, 'blocktype': 'quickReply'}\n",
      "intenatando consulta...\n",
      "consulta: select * from bloquequickreply where contenido= 'quickreply 2' and opciones= 'SALIDA 2' and next_id= 'Input | cd6d4be8-c346-4550-a26e-4bb9a7230d3b | bSkwpaFVCmMXS8G2PR6k' and default_id= 'QuickReply | f962f2fb-1047-4062-bac8-798fddc79ff2 | 07418629-1549-9289-4157-116148457825 | bSkwpaFVCmMXS8G2PR6k' and namestate= 'QuickReply | f962f2fb-1047-4062-bac8-798fddc79ff2 | 07418629-1549-9289-4157-116148457825 | bSkwpaFVCmMXS8G2PR6k' and typingtime= '1' and id_robot= '539' and id_var= '1866' and blocktype= 'quickReply' ;\n",
      "Datos enviados INSERT:\n",
      "{'namestate': 'QuickReply | f962f2fb-1047-4062-bac8-798fddc79ff2 | 07418629-1549-9289-4157-116148457825 | bSkwpaFVCmMXS8G2PR6k', 'contenido': 'quickreply 2', 'opciones': 'SALIDA 2', 'next_id': 'Input | cd6d4be8-c346-4550-a26e-4bb9a7230d3b | bSkwpaFVCmMXS8G2PR6k', 'blocktype': 'quickReply', 'typingtime': '1', 'default_id': 'QuickReply | f962f2fb-1047-4062-bac8-798fddc79ff2 | 07418629-1549-9289-4157-116148457825 | bSkwpaFVCmMXS8G2PR6k', 'id_var': '1866', 'id_block': 679, 'id_robot': 539, 'opc_nextid': None, 'pos_y': None, 'pos_x': None, 'tag_active': None}\n",
      "Datos recibidos INSERT:\n",
      "{'next_id': 'Informativo | 98a8f39d-6761-48e7-aca7-66279cfabf40 | 07418629-1549-9289-4157-116148457825 | bSkwpaFVCmMXS8G2PR6k', 'namestate': 'Informativo | d9897d01-e0ce-44bd-ba3d-22973a7d74fd | bSkwpaFVCmMXS8G2PR6k', 'contenido': 'Soy el chatbot del TT-A056', 'contenttype': 'text', 'typingtime': '1', 'id_robot': 539, 'blocktype': 'informativo'}\n"
     ]
    },
    {
     "name": "stderr",
     "output_type": "stream",
     "text": [
      "127.0.0.1 - - [14/Jun/2021 23:58:58] \"\u001b[37mPOST /insert/bloqueinformativo HTTP/1.1\u001b[0m\" 200 -\n",
      "127.0.0.1 - - [14/Jun/2021 23:58:58] \"\u001b[37mPOST /insert/bloqueinformativo HTTP/1.1\u001b[0m\" 200 -\n",
      "127.0.0.1 - - [14/Jun/2021 23:58:58] \"\u001b[37mPOST /insert/variables HTTP/1.1\u001b[0m\" 200 -\n"
     ]
    },
    {
     "name": "stdout",
     "output_type": "stream",
     "text": [
      "intenatando consulta...\n",
      "consulta: select * from bloqueinformativo where next_id= 'Informativo | 98a8f39d-6761-48e7-aca7-66279cfabf40 | 07418629-1549-9289-4157-116148457825 | bSkwpaFVCmMXS8G2PR6k' and namestate= 'Informativo | d9897d01-e0ce-44bd-ba3d-22973a7d74fd | bSkwpaFVCmMXS8G2PR6k' and contenido= 'Soy el chatbot del TT-A056' and contenttype= 'text' and typingtime= '1' and id_robot= '539' and blocktype= 'informativo' ;\n",
      "Datos enviados INSERT:\n",
      "{'namestate': 'Informativo | d9897d01-e0ce-44bd-ba3d-22973a7d74fd | bSkwpaFVCmMXS8G2PR6k', 'contenido': 'Soy el chatbot del TT-A056', 'next_id': 'Informativo | 98a8f39d-6761-48e7-aca7-66279cfabf40 | 07418629-1549-9289-4157-116148457825 | bSkwpaFVCmMXS8G2PR6k', 'blocktype': 'informativo', 'contenttype': 'text', 'typingtime': '1', 'id_block': 2839, 'id_robot': 539, 'opc_nextid': None, 'pos_y': None, 'pos_x': None, 'tag_active': None}\n",
      "Datos recibidos INSERT:\n",
      "{'next_id': 'Salida', 'namestate': 'Informativo | eb6262bf-2b65-4dc7-9d6a-9a8544083dde | bSkwpaFVCmMXS8G2PR6k', 'contenido': 'Adios', 'contenttype': 'text', 'typingtime': '1', 'id_robot': 539, 'blocktype': 'informativo'}\n",
      "intenatando consulta...\n",
      "consulta: select * from bloqueinformativo where next_id= 'Salida' and namestate= 'Informativo | eb6262bf-2b65-4dc7-9d6a-9a8544083dde | bSkwpaFVCmMXS8G2PR6k' and contenido= 'Adios' and contenttype= 'text' and typingtime= '1' and id_robot= '539' and blocktype= 'informativo' ;\n",
      "Datos enviados INSERT:\n",
      "{'namestate': 'Informativo | eb6262bf-2b65-4dc7-9d6a-9a8544083dde | bSkwpaFVCmMXS8G2PR6k', 'contenido': 'Adios', 'next_id': 'Salida', 'blocktype': 'informativo', 'contenttype': 'text', 'typingtime': '1', 'id_block': 2840, 'id_robot': 539, 'opc_nextid': None, 'pos_y': None, 'pos_x': None, 'tag_active': None}\n",
      "Datos recibidos INSERT:\n",
      "{'name_var': 'variableInputInput_|_cd6d4be8-c346-4550-a26e-4bb9a7230d3b8985', 'opc_type': 'Variable', 'var': 0, 'opc_data': 'String', 'id_robot': 539}\n",
      "intenatando consulta...\n",
      "consulta: select * from variables where name_var= 'variableInputInput_|_cd6d4be8-c346-4550-a26e-4bb9a7230d3b8985' and opc_type= 'Variable' and var= '0' and opc_data= 'String' and id_robot= '539' ;\n",
      "Datos enviados INSERT:\n",
      "{'id_var': 1867, 'opc_type': 'Variable', 'opc_data': 'String', 'var': '0', 'id_robot': 539, 'name_var': 'variableInputInput_|_cd6d4be8-c346-4550-a26e-4bb9a7230d3b8985'}\n",
      "Datos recibidos INSERT:\n",
      "{'next_id': 'Informativo | 34fa0024-002a-4673-8b70-6419afef7d4d | 19627070-4044-4254-7133-869533412022 | bSkwpaFVCmMXS8G2PR6k', 'default_id': 'Input | cd6d4be8-c346-4550-a26e-4bb9a7230d3b | bSkwpaFVCmMXS8G2PR6k', 'namestate': 'Input | cd6d4be8-c346-4550-a26e-4bb9a7230d3b | bSkwpaFVCmMXS8G2PR6k', 'contenido': 'Ingresa tu nombre', 'typingtime': '1', 'validacion': '', 'id_robot': 539, 'id_var': 1867, 'blocktype': 'input'}\n"
     ]
    },
    {
     "name": "stderr",
     "output_type": "stream",
     "text": [
      "127.0.0.1 - - [14/Jun/2021 23:58:58] \"\u001b[37mPOST /insert/bloqueinput HTTP/1.1\u001b[0m\" 200 -\n",
      "127.0.0.1 - - [14/Jun/2021 23:58:58] \"\u001b[37mPOST /insert/bloqueinformativo HTTP/1.1\u001b[0m\" 200 -\n"
     ]
    },
    {
     "name": "stdout",
     "output_type": "stream",
     "text": [
      "intenatando consulta...\n",
      "consulta: select * from bloqueinput where next_id= 'Informativo | 34fa0024-002a-4673-8b70-6419afef7d4d | 19627070-4044-4254-7133-869533412022 | bSkwpaFVCmMXS8G2PR6k' and default_id= 'Input | cd6d4be8-c346-4550-a26e-4bb9a7230d3b | bSkwpaFVCmMXS8G2PR6k' and namestate= 'Input | cd6d4be8-c346-4550-a26e-4bb9a7230d3b | bSkwpaFVCmMXS8G2PR6k' and contenido= 'Ingresa tu nombre' and typingtime= '1' and validacion= '' and id_robot= '539' and id_var= '1867' and blocktype= 'input' ;\n",
      "Datos enviados INSERT:\n",
      "{'namestate': 'Input | cd6d4be8-c346-4550-a26e-4bb9a7230d3b | bSkwpaFVCmMXS8G2PR6k', 'contenido': 'Ingresa tu nombre', 'next_id': 'Informativo | 34fa0024-002a-4673-8b70-6419afef7d4d | 19627070-4044-4254-7133-869533412022 | bSkwpaFVCmMXS8G2PR6k', 'blocktype': 'input', 'contenttype': None, 'typingtime': '1', 'validacion': '', 'default_id': 'Input | cd6d4be8-c346-4550-a26e-4bb9a7230d3b | bSkwpaFVCmMXS8G2PR6k', 'id_var': '1867', 'id_block': 399, 'id_robot': 539, 'opc_nextid': None, 'pos_y': None, 'pos_x': None, 'tag_active': None}\n",
      "Datos recibidos INSERT:\n",
      "{'next_id': '', 'namestate': 'Salida', 'contenido': '', 'contenttype': 'text', 'typingtime': 3, 'id_robot': 539, 'blocktype': 'informativo'}\n",
      "intenatando consulta...\n",
      "consulta: select * from bloqueinformativo where next_id= '' and namestate= 'Salida' and contenido= '' and contenttype= 'text' and typingtime= '3' and id_robot= '539' and blocktype= 'informativo' ;\n",
      "Datos enviados INSERT:\n",
      "{'namestate': 'Salida', 'contenido': '', 'next_id': '', 'blocktype': 'informativo', 'contenttype': 'text', 'typingtime': '3', 'id_block': 2841, 'id_robot': 539, 'opc_nextid': None, 'pos_y': None, 'pos_x': None, 'tag_active': None}\n"
     ]
    },
    {
     "name": "stderr",
     "output_type": "stream",
     "text": [
      "127.0.0.1 - - [14/Jun/2021 23:59:52] \"\u001b[37mGET /select/robots HTTP/1.1\u001b[0m\" 200 -\n",
      "127.0.0.1 - - [14/Jun/2021 23:59:52] \"\u001b[37mGET /select/bloqueslide HTTP/1.1\u001b[0m\" 200 -\n",
      "127.0.0.1 - - [14/Jun/2021 23:59:52] \"\u001b[37mGET /select/elementos HTTP/1.1\u001b[0m\" 200 -\n",
      "127.0.0.1 - - [14/Jun/2021 23:59:52] \"\u001b[37mGET /select/elementos HTTP/1.1\u001b[0m\" 200 -\n"
     ]
    },
    {
     "name": "stdout",
     "output_type": "stream",
     "text": [
      "Datos recibidos SELECT:\n",
      "{'name_robot': 'CHATBOT TT 2020 A056', 'id_face': '100750202253729', 'block_ini': 'Informativo | d9897d01-e0ce-44bd-ba3d-22973a7d74fd | bSkwpaFVCmMXS8G2PR6k', 'type_blocki': 'informativo', 'access_token': 'EAALZCCZBzPwfkBACf3gal1zeLIkZAxC8ecQ6qmRixvqGJJXtfQvE7S2zNpkdf0BpKR79BZAOawgUcm8IQN9NecBZB25Q8ZCWDFAH50ihRis7XfHm4UM3bYNqgmmKZCKkLnhGGxf2FO8eLr8CVkgp3PgJWiBQVKTO7DRtAZA1IjaLIk1xGTZBunRJ6', 'id_user': 'charlygoldcruz@gmail.com', 'api_nlp': 'http://localhost:8282/'}\n",
      "intenatando consulta...\n",
      "consulta: select * from robots where id_face = '100750202253729';\n",
      "Datos enviados SELECT:\n",
      "{'name_robot': 'CHATBOT TT 2020 A056', 'id_face': '100750202253729', 'block_ini': 'Informativo | d9897d01-e0ce-44bd-ba3d-22973a7d74fd | bSkwpaFVCmMXS8G2PR6k', 'type_blocki': 'informativo', 'access_token': 'EAALZCCZBzPwfkBACf3gal1zeLIkZAxC8ecQ6qmRixvqGJJXtfQvE7S2zNpkdf0BpKR79BZAOawgUcm8IQN9NecBZB25Q8ZCWDFAH50ihRis7XfHm4UM3bYNqgmmKZCKkLnhGGxf2FO8eLr8CVkgp3PgJWiBQVKTO7DRtAZA1IjaLIk1xGTZBunRJ6', 'api_nlp': 'http://localhost:8282/', 'id_robot': 539, 'id_user': 'charlygoldcruz@gmail.com'}\n",
      "Datos recibidos SELECT:\n",
      "{'id_robot': '539'}\n",
      "intenatando consulta...\n",
      "consulta: select * from bloqueslide where id_robot= '539' ;\n",
      "Datos enviados SELECT:\n",
      "[{'namestate': 'Carrusel | 5aaf3158-308e-4b01-9283-f01f32d587c9 | 07418629-1549-9289-4157-116148457825 | bSkwpaFVCmMXS8G2PR6k', 'next_id': 'QuickReply | 9cd75eb1-5f87-4a23-84aa-d6de05ed56b8 | 07418629-1549-9289-4157-116148457825 | bSkwpaFVCmMXS8G2PR6k,QuickReply | f962f2fb-1047-4062-bac8-798fddc79ff2 | 07418629-1549-9289-4157-116148457825 | bSkwpaFVCmMXS8G2PR6k', 'blocktype': 'slide', 'typingtime': '1', 'default_id': 'Carrusel | 5aaf3158-308e-4b01-9283-f01f32d587c9 | 07418629-1549-9289-4157-116148457825 | bSkwpaFVCmMXS8G2PR6k', 'id_var': '1864', 'id_block': 561, 'id_robot': 539, 'opc_nextid': None, 'pos_y': None, 'pos_x': None, 'opc_elm': None, 'tag_active': None}, {'namestate': 'Carrusel | fdd978d8-d9e9-4f74-8d01-07d1a43ecba8 | 98525253-9080-3718-4541-185145979160 | bSkwpaFVCmMXS8G2PR6k', 'next_id': 'Informativo | eb6262bf-2b65-4dc7-9d6a-9a8544083dde | bSkwpaFVCmMXS8G2PR6k,Informativo | eb6262bf-2b65-4dc7-9d6a-9a8544083dde | bSkwpaFVCmMXS8G2PR6k,www.facebook.com,www.ABC.com,Informativo | eb6262bf-2b65-4dc7-9d6a-9a8544083dde | bSkwpaFVCmMXS8G2PR6k,Informativo | eb6262bf-2b65-4dc7-9d6a-9a8544083dde | bSkwpaFVCmMXS8G2PR6k', 'blocktype': 'slide', 'typingtime': '1', 'default_id': 'Carrusel | fdd978d8-d9e9-4f74-8d01-07d1a43ecba8 | 98525253-9080-3718-4541-185145979160 | bSkwpaFVCmMXS8G2PR6k', 'id_var': '1861', 'id_block': 559, 'id_robot': 539, 'opc_nextid': None, 'pos_y': None, 'pos_x': None, 'opc_elm': None, 'tag_active': None}, {'namestate': 'Carrusel | cce128da-fc3c-4ab8-8733-0f93dff9b0ca | 19627070-4044-4254-7133-869533412022 | bSkwpaFVCmMXS8G2PR6k', 'next_id': 'Informativo | 7e74c6f6-46db-4b00-b8b3-07aac064e1de | 98525253-9080-3718-4541-185145979160 | bSkwpaFVCmMXS8G2PR6k,Input prueba carrusel 2 | 3e82e3b7-d8da-4955-aff4-9bcbee291db6 | 19627070-4044-4254-7133-869533412022 | bSkwpaFVCmMXS8G2PR6k', 'blocktype': 'slide', 'typingtime': '1', 'default_id': 'Carrusel | cce128da-fc3c-4ab8-8733-0f93dff9b0ca | 19627070-4044-4254-7133-869533412022 | bSkwpaFVCmMXS8G2PR6k', 'id_var': '1862', 'id_block': 560, 'id_robot': 539, 'opc_nextid': None, 'pos_y': None, 'pos_x': None, 'opc_elm': None, 'tag_active': None}]\n",
      "Datos recibidos SELECT:\n",
      "{'id_block': 561}\n",
      "intenatando consulta...\n",
      "consulta: select * from elementos where id_block= '561' ;\n",
      "Datos enviados SELECT:\n",
      "{'blocktype': 'slide', 'title': 'Titulo 1', 'image_url': 'https://sitechecker.pro/wp-content/uploads/2017/12/URL-meaning.png', 'subtitle': 'Subtitulo 1', 'id_block': 561, 'id_elements': 960}\n",
      "Datos recibidos SELECT:\n",
      "{'id_block': 559}\n",
      "intenatando consulta...\n",
      "consulta: select * from elementos where id_block= '559' ;\n",
      "Datos enviados SELECT:\n",
      "[{'blocktype': 'slide', 'title': 'Titulo 1 Plantilla 1', 'image_url': 'https://image.freepik.com/vector-gratis/caracter-banda-musica-ilustracion-dibujos-animados-plana_338371-15.jpg', 'subtitle': 'S1', 'id_block': 559, 'id_elements': 956}, {'blocktype': 'slide', 'title': 'P2', 'image_url': 'https://www.muycomputer.com/wp-content/uploads/2020/04/Logitech-G203-rat%C3%B3n-gaming-barato-e1587628136683.jpg', 'subtitle': 'S2', 'id_block': 559, 'id_elements': 957}, {'blocktype': 'slide', 'title': 'Plantilla 3', 'image_url': 'https://mmo.aiircdn.com/297/5f6a04de8d671.jpg', 'subtitle': 'Subtitulo 3', 'id_block': 559, 'id_elements': 958}]\n"
     ]
    },
    {
     "name": "stderr",
     "output_type": "stream",
     "text": [
      "127.0.0.1 - - [14/Jun/2021 23:59:52] \"\u001b[37mGET /select/elementos HTTP/1.1\u001b[0m\" 200 -\n",
      "127.0.0.1 - - [14/Jun/2021 23:59:52] \"\u001b[37mPOST /insert/variables HTTP/1.1\u001b[0m\" 200 -\n"
     ]
    },
    {
     "name": "stdout",
     "output_type": "stream",
     "text": [
      "Datos recibidos SELECT:\n",
      "{'id_block': 560}\n",
      "intenatando consulta...\n",
      "consulta: select * from elementos where id_block= '560' ;\n",
      "Datos enviados SELECT:\n",
      "{'blocktype': 'slide', 'title': 'Titulo 1', 'image_url': 'https://jalisco.quadratin.com.mx/www/wp-content/uploads/2020/11/grupo-firme-1-1160x700.jpg', 'subtitle': 'Subtitulo 1', 'id_block': 560, 'id_elements': 959}\n",
      "Datos recibidos INSERT:\n",
      "{'name_var': 'varCarrusel_|_fdd978d8-d9e9-4f74-8d01-07d1a43ecba84527', 'opc_type': 'Variable', 'var': 0, 'opc_data': 'String', 'id_robot': 539}\n",
      "intenatando consulta...\n",
      "consulta: select * from variables where name_var= 'varCarrusel_|_fdd978d8-d9e9-4f74-8d01-07d1a43ecba84527' and opc_type= 'Variable' and var= '0' and opc_data= 'String' and id_robot= '539' ;\n",
      "Datos enviados INSERT:\n",
      "{'id_var': 1868, 'opc_type': 'Variable', 'opc_data': 'String', 'var': '0', 'id_robot': 539, 'name_var': 'varCarrusel_|_fdd978d8-d9e9-4f74-8d01-07d1a43ecba84527'}\n",
      "Datos recibidos INSERT:\n",
      "{'namestate': 'Carrusel | fdd978d8-d9e9-4f74-8d01-07d1a43ecba8 | 98525253-9080-3718-4541-185145979160 | bSkwpaFVCmMXS8G2PR6k', 'blocktype': 'slide', 'typingtime': '1', 'default_id': 'Carrusel | fdd978d8-d9e9-4f74-8d01-07d1a43ecba8 | 98525253-9080-3718-4541-185145979160 | bSkwpaFVCmMXS8G2PR6k', 'id_var': 1868, 'id_robot': 539}\n"
     ]
    },
    {
     "name": "stderr",
     "output_type": "stream",
     "text": [
      "127.0.0.1 - - [14/Jun/2021 23:59:52] \"\u001b[37mPOST /insert/bloqueslide HTTP/1.1\u001b[0m\" 200 -\n",
      "127.0.0.1 - - [14/Jun/2021 23:59:52] \"\u001b[37mPOST /insert/elementos HTTP/1.1\u001b[0m\" 200 -\n",
      "127.0.0.1 - - [14/Jun/2021 23:59:52] \"\u001b[37mPOST /insert/botones HTTP/1.1\u001b[0m\" 200 -\n"
     ]
    },
    {
     "name": "stdout",
     "output_type": "stream",
     "text": [
      "intenatando consulta...\n",
      "consulta: select * from bloqueslide where namestate= 'Carrusel | fdd978d8-d9e9-4f74-8d01-07d1a43ecba8 | 98525253-9080-3718-4541-185145979160 | bSkwpaFVCmMXS8G2PR6k' and blocktype= 'slide' and typingtime= '1' and default_id= 'Carrusel | fdd978d8-d9e9-4f74-8d01-07d1a43ecba8 | 98525253-9080-3718-4541-185145979160 | bSkwpaFVCmMXS8G2PR6k' and id_var= '1868' and id_robot= '539' ;\n",
      "Datos enviados INSERT:\n",
      "{'namestate': 'Carrusel | fdd978d8-d9e9-4f74-8d01-07d1a43ecba8 | 98525253-9080-3718-4541-185145979160 | bSkwpaFVCmMXS8G2PR6k', 'next_id': None, 'blocktype': 'slide', 'typingtime': '1', 'default_id': 'Carrusel | fdd978d8-d9e9-4f74-8d01-07d1a43ecba8 | 98525253-9080-3718-4541-185145979160 | bSkwpaFVCmMXS8G2PR6k', 'id_var': '1868', 'id_block': 562, 'id_robot': 539, 'opc_nextid': None, 'pos_y': None, 'pos_x': None, 'opc_elm': None, 'tag_active': None}\n",
      "Datos recibidos INSERT:\n",
      "{'subtitle': 'S1', 'image_url': 'https://image.freepik.com/vector-gratis/caracter-banda-musica-ilustracion-dibujos-animados-plana_338371-15.jpg', 'title': 'Titulo 1 Plantilla 1', 'blocktype': 'slide', 'id_block': 562}\n",
      "intenatando consulta...\n",
      "consulta: select * from elementos where subtitle= 'S1' and image_url= 'https://image.freepik.com/vector-gratis/caracter-banda-musica-ilustracion-dibujos-animados-plana_338371-15.jpg' and title= 'Titulo 1 Plantilla 1' and blocktype= 'slide' and id_block= '562' ;\n",
      "Datos enviados INSERT:\n",
      "{'blocktype': 'slide', 'title': 'Titulo 1 Plantilla 1', 'image_url': 'https://image.freepik.com/vector-gratis/caracter-banda-musica-ilustracion-dibujos-animados-plana_338371-15.jpg', 'subtitle': 'S1', 'id_block': 562, 'id_elements': 961}\n",
      "Datos recibidos INSERT:\n",
      "{'id_elemento': '961', 'titlebutton': 'Salida 1', 'typebutton': 'postback', 'contentbutton': 'Informativo | eb6262bf-2b65-4dc7-9d6a-9a8544083dde | bSkwpaFVCmMXS8G2PR6k', 'opc_nextid': 'Informativo | eb6262bf-2b65-4dc7-9d6a-9a8544083dde | bSkwpaFVCmMXS8G2PR6k'}\n",
      "intenatando consulta...\n",
      "consulta: select * from botones where id_elemento= '961' and titlebutton= 'Salida 1' and typebutton= 'postback' and contentbutton= 'Informativo | eb6262bf-2b65-4dc7-9d6a-9a8544083dde | bSkwpaFVCmMXS8G2PR6k' and opc_nextid= 'Informativo | eb6262bf-2b65-4dc7-9d6a-9a8544083dde | bSkwpaFVCmMXS8G2PR6k' ;\n",
      "Datos enviados INSERT:\n",
      "{'id_elemento': '961', 'titlebutton': 'Salida 1', 'typebutton': 'postback', 'contentbutton': 'Informativo | eb6262bf-2b65-4dc7-9d6a-9a8544083dde | bSkwpaFVCmMXS8G2PR6k', 'id_boton': 1726, 'opc_nextid': 'Informativo | eb6262bf-2b65-4dc7-9d6a-9a8544083dde | bSkwpaFVCmMXS8G2PR6k'}\n"
     ]
    },
    {
     "name": "stderr",
     "output_type": "stream",
     "text": [
      "127.0.0.1 - - [14/Jun/2021 23:59:52] \"\u001b[37mPOST /insert/botones HTTP/1.1\u001b[0m\" 200 -\n",
      "127.0.0.1 - - [14/Jun/2021 23:59:52] \"\u001b[37mPOST /insert/elementos HTTP/1.1\u001b[0m\" 200 -\n"
     ]
    },
    {
     "name": "stdout",
     "output_type": "stream",
     "text": [
      "Datos recibidos INSERT:\n",
      "{'id_elemento': '961', 'titlebutton': 'Salida 2', 'typebutton': 'postback', 'contentbutton': 'Informativo | eb6262bf-2b65-4dc7-9d6a-9a8544083dde | bSkwpaFVCmMXS8G2PR6k', 'opc_nextid': 'Informativo | eb6262bf-2b65-4dc7-9d6a-9a8544083dde | bSkwpaFVCmMXS8G2PR6k'}\n",
      "intenatando consulta...\n",
      "consulta: select * from botones where id_elemento= '961' and titlebutton= 'Salida 2' and typebutton= 'postback' and contentbutton= 'Informativo | eb6262bf-2b65-4dc7-9d6a-9a8544083dde | bSkwpaFVCmMXS8G2PR6k' and opc_nextid= 'Informativo | eb6262bf-2b65-4dc7-9d6a-9a8544083dde | bSkwpaFVCmMXS8G2PR6k' ;\n",
      "Datos enviados INSERT:\n",
      "{'id_elemento': '961', 'titlebutton': 'Salida 2', 'typebutton': 'postback', 'contentbutton': 'Informativo | eb6262bf-2b65-4dc7-9d6a-9a8544083dde | bSkwpaFVCmMXS8G2PR6k', 'id_boton': 1727, 'opc_nextid': 'Informativo | eb6262bf-2b65-4dc7-9d6a-9a8544083dde | bSkwpaFVCmMXS8G2PR6k'}\n",
      "Datos recibidos INSERT:\n",
      "{'subtitle': 'S2', 'title': 'P2', 'image_url': 'https://www.muycomputer.com/wp-content/uploads/2020/04/Logitech-G203-rat%C3%B3n-gaming-barato-e1587628136683.jpg', 'blocktype': 'slide', 'id_block': 562}\n",
      "intenatando consulta...\n",
      "consulta: select * from elementos where subtitle= 'S2' and title= 'P2' and image_url= 'https://www.muycomputer.com/wp-content/uploads/2020/04/Logitech-G203-rat%C3%B3n-gaming-barato-e1587628136683.jpg' and blocktype= 'slide' and id_block= '562' ;\n",
      "Datos enviados INSERT:\n",
      "{'blocktype': 'slide', 'title': 'P2', 'image_url': 'https://www.muycomputer.com/wp-content/uploads/2020/04/Logitech-G203-rat%C3%B3n-gaming-barato-e1587628136683.jpg', 'subtitle': 'S2', 'id_block': 562, 'id_elements': 962}\n",
      "Datos recibidos INSERT:\n",
      "{'id_elemento': '962', 'titlebutton': 'Google', 'typebutton': 'web_url', 'contentbutton': 'www.facebook.com', 'opc_nextid': 'www.facebook.com'}\n",
      "intenatando consulta...\n",
      "consulta: select * from botones where id_elemento= '962' and titlebutton= 'Google' and typebutton= 'web_url' and contentbutton= 'www.facebook.com' and opc_nextid= 'www.facebook.com' ;\n"
     ]
    },
    {
     "name": "stderr",
     "output_type": "stream",
     "text": [
      "127.0.0.1 - - [14/Jun/2021 23:59:53] \"\u001b[37mPOST /insert/botones HTTP/1.1\u001b[0m\" 200 -\n",
      "127.0.0.1 - - [14/Jun/2021 23:59:53] \"\u001b[37mPOST /insert/botones HTTP/1.1\u001b[0m\" 200 -\n",
      "127.0.0.1 - - [14/Jun/2021 23:59:53] \"\u001b[37mPOST /insert/elementos HTTP/1.1\u001b[0m\" 200 -\n"
     ]
    },
    {
     "name": "stdout",
     "output_type": "stream",
     "text": [
      "Datos enviados INSERT:\n",
      "{'id_elemento': '962', 'titlebutton': 'Google', 'typebutton': 'web_url', 'contentbutton': 'www.facebook.com', 'id_boton': 1728, 'opc_nextid': 'www.facebook.com'}\n",
      "Datos recibidos INSERT:\n",
      "{'id_elemento': '962', 'titlebutton': 'ABC', 'typebutton': 'web_url', 'contentbutton': 'www.ABC.com', 'opc_nextid': 'www.ABC.com'}\n",
      "intenatando consulta...\n",
      "consulta: select * from botones where id_elemento= '962' and titlebutton= 'ABC' and typebutton= 'web_url' and contentbutton= 'www.ABC.com' and opc_nextid= 'www.ABC.com' ;\n",
      "Datos enviados INSERT:\n",
      "{'id_elemento': '962', 'titlebutton': 'ABC', 'typebutton': 'web_url', 'contentbutton': 'www.ABC.com', 'id_boton': 1729, 'opc_nextid': 'www.ABC.com'}\n",
      "Datos recibidos INSERT:\n",
      "{'image_url': 'https://mmo.aiircdn.com/297/5f6a04de8d671.jpg', 'title': 'Plantilla 3', 'subtitle': 'Subtitulo 3', 'blocktype': 'slide', 'id_block': 562}\n",
      "intenatando consulta...\n",
      "consulta: select * from elementos where image_url= 'https://mmo.aiircdn.com/297/5f6a04de8d671.jpg' and title= 'Plantilla 3' and subtitle= 'Subtitulo 3' and blocktype= 'slide' and id_block= '562' ;\n",
      "Datos enviados INSERT:\n",
      "{'blocktype': 'slide', 'title': 'Plantilla 3', 'image_url': 'https://mmo.aiircdn.com/297/5f6a04de8d671.jpg', 'subtitle': 'Subtitulo 3', 'id_block': 562, 'id_elements': 963}\n",
      "Datos recibidos INSERT:\n",
      "{'id_elemento': '963', 'titlebutton': 'Input', 'typebutton': 'postback', 'contentbutton': 'Informativo | eb6262bf-2b65-4dc7-9d6a-9a8544083dde | bSkwpaFVCmMXS8G2PR6k', 'opc_nextid': 'Informativo | eb6262bf-2b65-4dc7-9d6a-9a8544083dde | bSkwpaFVCmMXS8G2PR6k'}\n"
     ]
    },
    {
     "name": "stderr",
     "output_type": "stream",
     "text": [
      "127.0.0.1 - - [14/Jun/2021 23:59:53] \"\u001b[37mPOST /insert/botones HTTP/1.1\u001b[0m\" 200 -\n",
      "127.0.0.1 - - [14/Jun/2021 23:59:53] \"\u001b[37mPOST /insert/botones HTTP/1.1\u001b[0m\" 200 -\n"
     ]
    },
    {
     "name": "stdout",
     "output_type": "stream",
     "text": [
      "intenatando consulta...\n",
      "consulta: select * from botones where id_elemento= '963' and titlebutton= 'Input' and typebutton= 'postback' and contentbutton= 'Informativo | eb6262bf-2b65-4dc7-9d6a-9a8544083dde | bSkwpaFVCmMXS8G2PR6k' and opc_nextid= 'Informativo | eb6262bf-2b65-4dc7-9d6a-9a8544083dde | bSkwpaFVCmMXS8G2PR6k' ;\n",
      "Datos enviados INSERT:\n",
      "{'id_elemento': '963', 'titlebutton': 'Input', 'typebutton': 'postback', 'contentbutton': 'Informativo | eb6262bf-2b65-4dc7-9d6a-9a8544083dde | bSkwpaFVCmMXS8G2PR6k', 'id_boton': 1730, 'opc_nextid': 'Informativo | eb6262bf-2b65-4dc7-9d6a-9a8544083dde | bSkwpaFVCmMXS8G2PR6k'}\n",
      "Datos recibidos INSERT:\n",
      "{'id_elemento': '963', 'titlebutton': 'Opcion 6', 'typebutton': 'postback', 'contentbutton': 'Informativo | eb6262bf-2b65-4dc7-9d6a-9a8544083dde | bSkwpaFVCmMXS8G2PR6k', 'opc_nextid': 'Informativo | eb6262bf-2b65-4dc7-9d6a-9a8544083dde | bSkwpaFVCmMXS8G2PR6k'}\n",
      "intenatando consulta...\n",
      "consulta: select * from botones where id_elemento= '963' and titlebutton= 'Opcion 6' and typebutton= 'postback' and contentbutton= 'Informativo | eb6262bf-2b65-4dc7-9d6a-9a8544083dde | bSkwpaFVCmMXS8G2PR6k' and opc_nextid= 'Informativo | eb6262bf-2b65-4dc7-9d6a-9a8544083dde | bSkwpaFVCmMXS8G2PR6k' ;\n",
      "Datos enviados INSERT:\n",
      "{'id_elemento': '963', 'titlebutton': 'Opcion 6', 'typebutton': 'postback', 'contentbutton': 'Informativo | eb6262bf-2b65-4dc7-9d6a-9a8544083dde | bSkwpaFVCmMXS8G2PR6k', 'id_boton': 1731, 'opc_nextid': 'Informativo | eb6262bf-2b65-4dc7-9d6a-9a8544083dde | bSkwpaFVCmMXS8G2PR6k'}\n",
      "Datos recibidos INSERT:\n",
      "{'next_id': 'Intermedio | 39a8d681-4868-4b9c-98e4-9a8db0681865 | 98525253-9080-3718-4541-185145979160 | bSkwpaFVCmMXS8G2PR6k', 'namestate': 'Informativo | 7e74c6f6-46db-4b00-b8b3-07aac064e1de | 98525253-9080-3718-4541-185145979160 | bSkwpaFVCmMXS8G2PR6k', 'contenido': 'Hola, me he editado soy un bloque informativo', 'contenttype': 'text', 'typingtime': '2', 'id_robot': 539, 'blocktype': 'informativo'}\n",
      "intenatando consulta...\n",
      "consulta: select * from bloqueinformativo where next_id= 'Intermedio | 39a8d681-4868-4b9c-98e4-9a8db0681865 | 98525253-9080-3718-4541-185145979160 | bSkwpaFVCmMXS8G2PR6k' and namestate= 'Informativo | 7e74c6f6-46db-4b00-b8b3-07aac064e1de | 98525253-9080-3718-4541-185145979160 | bSkwpaFVCmMXS8G2PR6k' and contenido= 'Hola, me he editado soy un bloque informativo' and contenttype= 'text' and typingtime= '2' and id_robot= '539' and blocktype= 'informativo' ;\n"
     ]
    },
    {
     "name": "stderr",
     "output_type": "stream",
     "text": [
      "127.0.0.1 - - [14/Jun/2021 23:59:53] \"\u001b[37mPOST /insert/bloqueinformativo HTTP/1.1\u001b[0m\" 200 -\n",
      "127.0.0.1 - - [14/Jun/2021 23:59:53] \"\u001b[37mPOST /insert/bloqueinformativo HTTP/1.1\u001b[0m\" 200 -\n",
      "127.0.0.1 - - [14/Jun/2021 23:59:53] \"\u001b[37mPOST /insert/variables HTTP/1.1\u001b[0m\" 200 -\n"
     ]
    },
    {
     "name": "stdout",
     "output_type": "stream",
     "text": [
      "Datos enviados INSERT:\n",
      "{'namestate': 'Informativo | 7e74c6f6-46db-4b00-b8b3-07aac064e1de | 98525253-9080-3718-4541-185145979160 | bSkwpaFVCmMXS8G2PR6k', 'contenido': 'Hola, me he editado soy un bloque informativo', 'next_id': 'Intermedio | 39a8d681-4868-4b9c-98e4-9a8db0681865 | 98525253-9080-3718-4541-185145979160 | bSkwpaFVCmMXS8G2PR6k', 'blocktype': 'informativo', 'contenttype': 'text', 'typingtime': '2', 'id_block': 2842, 'id_robot': 539, 'opc_nextid': None, 'pos_y': None, 'pos_x': None, 'tag_active': None}\n",
      "Datos recibidos INSERT:\n",
      "{'next_id': 'Carrusel | fdd978d8-d9e9-4f74-8d01-07d1a43ecba8 | 98525253-9080-3718-4541-185145979160 | bSkwpaFVCmMXS8G2PR6k', 'namestate': 'Intermedio | 39a8d681-4868-4b9c-98e4-9a8db0681865 | 98525253-9080-3718-4541-185145979160 | bSkwpaFVCmMXS8G2PR6k', 'contenido': 'Este es un bloque intermedio', 'contenttype': 'text', 'typingtime': '1', 'id_robot': 539, 'blocktype': 'informativo'}\n",
      "intenatando consulta...\n",
      "consulta: select * from bloqueinformativo where next_id= 'Carrusel | fdd978d8-d9e9-4f74-8d01-07d1a43ecba8 | 98525253-9080-3718-4541-185145979160 | bSkwpaFVCmMXS8G2PR6k' and namestate= 'Intermedio | 39a8d681-4868-4b9c-98e4-9a8db0681865 | 98525253-9080-3718-4541-185145979160 | bSkwpaFVCmMXS8G2PR6k' and contenido= 'Este es un bloque intermedio' and contenttype= 'text' and typingtime= '1' and id_robot= '539' and blocktype= 'informativo' ;\n",
      "Datos enviados INSERT:\n",
      "{'namestate': 'Intermedio | 39a8d681-4868-4b9c-98e4-9a8db0681865 | 98525253-9080-3718-4541-185145979160 | bSkwpaFVCmMXS8G2PR6k', 'contenido': 'Este es un bloque intermedio', 'next_id': 'Carrusel | fdd978d8-d9e9-4f74-8d01-07d1a43ecba8 | 98525253-9080-3718-4541-185145979160 | bSkwpaFVCmMXS8G2PR6k', 'blocktype': 'informativo', 'contenttype': 'text', 'typingtime': '1', 'id_block': 2843, 'id_robot': 539, 'opc_nextid': None, 'pos_y': None, 'pos_x': None, 'tag_active': None}\n",
      "Datos recibidos INSERT:\n",
      "{'name_var': 'undefinedCarrusel_|_cce128da-fc3c-4ab8-8733-0f93dff9b0ca4983', 'opc_type': 'Variable', 'var': 0, 'opc_data': 'String', 'id_robot': 539}\n",
      "intenatando consulta...\n",
      "consulta: select * from variables where name_var= 'undefinedCarrusel_|_cce128da-fc3c-4ab8-8733-0f93dff9b0ca4983' and opc_type= 'Variable' and var= '0' and opc_data= 'String' and id_robot= '539' ;\n",
      "Datos enviados INSERT:\n",
      "{'id_var': 1869, 'opc_type': 'Variable', 'opc_data': 'String', 'var': '0', 'id_robot': 539, 'name_var': 'undefinedCarrusel_|_cce128da-fc3c-4ab8-8733-0f93dff9b0ca4983'}\n",
      "Datos recibidos INSERT:\n",
      "{'namestate': 'Carrusel | cce128da-fc3c-4ab8-8733-0f93dff9b0ca | 19627070-4044-4254-7133-869533412022 | bSkwpaFVCmMXS8G2PR6k', 'blocktype': 'slide', 'typingtime': '1', 'default_id': 'Carrusel | cce128da-fc3c-4ab8-8733-0f93dff9b0ca | 19627070-4044-4254-7133-869533412022 | bSkwpaFVCmMXS8G2PR6k', 'id_var': 1869, 'id_robot': 539}\n"
     ]
    },
    {
     "name": "stderr",
     "output_type": "stream",
     "text": [
      "127.0.0.1 - - [14/Jun/2021 23:59:53] \"\u001b[37mPOST /insert/bloqueslide HTTP/1.1\u001b[0m\" 200 -\n",
      "127.0.0.1 - - [14/Jun/2021 23:59:53] \"\u001b[37mPOST /insert/elementos HTTP/1.1\u001b[0m\" 200 -\n",
      "127.0.0.1 - - [14/Jun/2021 23:59:53] \"\u001b[37mPOST /insert/botones HTTP/1.1\u001b[0m\" 200 -\n"
     ]
    },
    {
     "name": "stdout",
     "output_type": "stream",
     "text": [
      "intenatando consulta...\n",
      "consulta: select * from bloqueslide where namestate= 'Carrusel | cce128da-fc3c-4ab8-8733-0f93dff9b0ca | 19627070-4044-4254-7133-869533412022 | bSkwpaFVCmMXS8G2PR6k' and blocktype= 'slide' and typingtime= '1' and default_id= 'Carrusel | cce128da-fc3c-4ab8-8733-0f93dff9b0ca | 19627070-4044-4254-7133-869533412022 | bSkwpaFVCmMXS8G2PR6k' and id_var= '1869' and id_robot= '539' ;\n",
      "Datos enviados INSERT:\n",
      "{'namestate': 'Carrusel | cce128da-fc3c-4ab8-8733-0f93dff9b0ca | 19627070-4044-4254-7133-869533412022 | bSkwpaFVCmMXS8G2PR6k', 'next_id': None, 'blocktype': 'slide', 'typingtime': '1', 'default_id': 'Carrusel | cce128da-fc3c-4ab8-8733-0f93dff9b0ca | 19627070-4044-4254-7133-869533412022 | bSkwpaFVCmMXS8G2PR6k', 'id_var': '1869', 'id_block': 563, 'id_robot': 539, 'opc_nextid': None, 'pos_y': None, 'pos_x': None, 'opc_elm': None, 'tag_active': None}\n",
      "Datos recibidos INSERT:\n",
      "{'image_url': 'https://jalisco.quadratin.com.mx/www/wp-content/uploads/2020/11/grupo-firme-1-1160x700.jpg', 'subtitle': 'Subtitulo 1', 'title': 'Titulo 1', 'blocktype': 'slide', 'id_block': 563}\n",
      "intenatando consulta...\n",
      "consulta: select * from elementos where image_url= 'https://jalisco.quadratin.com.mx/www/wp-content/uploads/2020/11/grupo-firme-1-1160x700.jpg' and subtitle= 'Subtitulo 1' and title= 'Titulo 1' and blocktype= 'slide' and id_block= '563' ;\n",
      "Datos enviados INSERT:\n",
      "{'blocktype': 'slide', 'title': 'Titulo 1', 'image_url': 'https://jalisco.quadratin.com.mx/www/wp-content/uploads/2020/11/grupo-firme-1-1160x700.jpg', 'subtitle': 'Subtitulo 1', 'id_block': 563, 'id_elements': 964}\n",
      "Datos recibidos INSERT:\n",
      "{'id_elemento': '964', 'titlebutton': 'Salida 1', 'typebutton': 'postback', 'contentbutton': 'Informativo | 7e74c6f6-46db-4b00-b8b3-07aac064e1de | 98525253-9080-3718-4541-185145979160 | bSkwpaFVCmMXS8G2PR6k', 'opc_nextid': 'Informativo | 7e74c6f6-46db-4b00-b8b3-07aac064e1de | 98525253-9080-3718-4541-185145979160 | bSkwpaFVCmMXS8G2PR6k'}\n",
      "intenatando consulta...\n",
      "consulta: select * from botones where id_elemento= '964' and titlebutton= 'Salida 1' and typebutton= 'postback' and contentbutton= 'Informativo | 7e74c6f6-46db-4b00-b8b3-07aac064e1de | 98525253-9080-3718-4541-185145979160 | bSkwpaFVCmMXS8G2PR6k' and opc_nextid= 'Informativo | 7e74c6f6-46db-4b00-b8b3-07aac064e1de | 98525253-9080-3718-4541-185145979160 | bSkwpaFVCmMXS8G2PR6k' ;\n",
      "Datos enviados INSERT:\n",
      "{'id_elemento': '964', 'titlebutton': 'Salida 1', 'typebutton': 'postback', 'contentbutton': 'Informativo | 7e74c6f6-46db-4b00-b8b3-07aac064e1de | 98525253-9080-3718-4541-185145979160 | bSkwpaFVCmMXS8G2PR6k', 'id_boton': 1732, 'opc_nextid': 'Informativo | 7e74c6f6-46db-4b00-b8b3-07aac064e1de | 98525253-9080-3718-4541-185145979160 | bSkwpaFVCmMXS8G2PR6k'}\n",
      "Datos recibidos INSERT:\n",
      "{'id_elemento': '964', 'titlebutton': 'Facebook', 'typebutton': 'postback', 'contentbutton': 'Input prueba carrusel 2 | 3e82e3b7-d8da-4955-aff4-9bcbee291db6 | 19627070-4044-4254-7133-869533412022 | bSkwpaFVCmMXS8G2PR6k', 'opc_nextid': 'Input prueba carrusel 2 | 3e82e3b7-d8da-4955-aff4-9bcbee291db6 | 19627070-4044-4254-7133-869533412022 | bSkwpaFVCmMXS8G2PR6k'}\n"
     ]
    },
    {
     "name": "stderr",
     "output_type": "stream",
     "text": [
      "127.0.0.1 - - [14/Jun/2021 23:59:53] \"\u001b[37mPOST /insert/botones HTTP/1.1\u001b[0m\" 200 -\n",
      "127.0.0.1 - - [14/Jun/2021 23:59:54] \"\u001b[37mPOST /insert/bloqueinformativo HTTP/1.1\u001b[0m\" 200 -\n"
     ]
    },
    {
     "name": "stdout",
     "output_type": "stream",
     "text": [
      "intenatando consulta...\n",
      "consulta: select * from botones where id_elemento= '964' and titlebutton= 'Facebook' and typebutton= 'postback' and contentbutton= 'Input prueba carrusel 2 | 3e82e3b7-d8da-4955-aff4-9bcbee291db6 | 19627070-4044-4254-7133-869533412022 | bSkwpaFVCmMXS8G2PR6k' and opc_nextid= 'Input prueba carrusel 2 | 3e82e3b7-d8da-4955-aff4-9bcbee291db6 | 19627070-4044-4254-7133-869533412022 | bSkwpaFVCmMXS8G2PR6k' ;\n",
      "Datos enviados INSERT:\n",
      "{'id_elemento': '964', 'titlebutton': 'Facebook', 'typebutton': 'postback', 'contentbutton': 'Input prueba carrusel 2 | 3e82e3b7-d8da-4955-aff4-9bcbee291db6 | 19627070-4044-4254-7133-869533412022 | bSkwpaFVCmMXS8G2PR6k', 'id_boton': 1733, 'opc_nextid': 'Input prueba carrusel 2 | 3e82e3b7-d8da-4955-aff4-9bcbee291db6 | 19627070-4044-4254-7133-869533412022 | bSkwpaFVCmMXS8G2PR6k'}\n",
      "Datos recibidos INSERT:\n",
      "{'next_id': 'Carrusel | cce128da-fc3c-4ab8-8733-0f93dff9b0ca | 19627070-4044-4254-7133-869533412022 | bSkwpaFVCmMXS8G2PR6k', 'namestate': 'Informativo | 34fa0024-002a-4673-8b70-6419afef7d4d | 19627070-4044-4254-7133-869533412022 | bSkwpaFVCmMXS8G2PR6k', 'contenido': 'Este es el carrusel prueba 2', 'contenttype': 'text', 'typingtime': '1', 'id_robot': 539, 'blocktype': 'informativo'}\n",
      "intenatando consulta...\n",
      "consulta: select * from bloqueinformativo where next_id= 'Carrusel | cce128da-fc3c-4ab8-8733-0f93dff9b0ca | 19627070-4044-4254-7133-869533412022 | bSkwpaFVCmMXS8G2PR6k' and namestate= 'Informativo | 34fa0024-002a-4673-8b70-6419afef7d4d | 19627070-4044-4254-7133-869533412022 | bSkwpaFVCmMXS8G2PR6k' and contenido= 'Este es el carrusel prueba 2' and contenttype= 'text' and typingtime= '1' and id_robot= '539' and blocktype= 'informativo' ;\n",
      "Datos enviados INSERT:\n",
      "{'namestate': 'Informativo | 34fa0024-002a-4673-8b70-6419afef7d4d | 19627070-4044-4254-7133-869533412022 | bSkwpaFVCmMXS8G2PR6k', 'contenido': 'Este es el carrusel prueba 2', 'next_id': 'Carrusel | cce128da-fc3c-4ab8-8733-0f93dff9b0ca | 19627070-4044-4254-7133-869533412022 | bSkwpaFVCmMXS8G2PR6k', 'blocktype': 'informativo', 'contenttype': 'text', 'typingtime': '1', 'id_block': 2844, 'id_robot': 539, 'opc_nextid': None, 'pos_y': None, 'pos_x': None, 'tag_active': None}\n",
      "Datos recibidos INSERT:\n",
      "{'name_var': 'undefinedInput_prueba_carrusel_2_|_3e82e3b7-d8da-4955-aff4-9bcbee291db62097', 'opc_type': 'Variable', 'var': 0, 'opc_data': 'String', 'id_robot': 539}\n",
      "intenatando consulta...\n",
      "consulta: select * from variables where name_var= 'undefinedInput_prueba_carrusel_2_|_3e82e3b7-d8da-4955-aff4-9bcbee291db62097' and opc_type= 'Variable' and var= '0' and opc_data= 'String' and id_robot= '539' ;\n"
     ]
    },
    {
     "name": "stderr",
     "output_type": "stream",
     "text": [
      "127.0.0.1 - - [14/Jun/2021 23:59:54] \"\u001b[37mPOST /insert/variables HTTP/1.1\u001b[0m\" 200 -\n",
      "127.0.0.1 - - [14/Jun/2021 23:59:54] \"\u001b[37mPOST /insert/bloqueinput HTTP/1.1\u001b[0m\" 200 -\n",
      "127.0.0.1 - - [14/Jun/2021 23:59:54] \"\u001b[37mPOST /insert/variables HTTP/1.1\u001b[0m\" 200 -\n"
     ]
    },
    {
     "name": "stdout",
     "output_type": "stream",
     "text": [
      "Datos enviados INSERT:\n",
      "{'id_var': 1870, 'opc_type': 'Variable', 'opc_data': 'String', 'var': '0', 'id_robot': 539, 'name_var': 'undefinedInput_prueba_carrusel_2_|_3e82e3b7-d8da-4955-aff4-9bcbee291db62097'}\n",
      "Datos recibidos INSERT:\n",
      "{'next_id': 'Informativo | eb6262bf-2b65-4dc7-9d6a-9a8544083dde | bSkwpaFVCmMXS8G2PR6k', 'default_id': 'Input prueba carrusel 2 | 3e82e3b7-d8da-4955-aff4-9bcbee291db6 | 19627070-4044-4254-7133-869533412022 | bSkwpaFVCmMXS8G2PR6k', 'namestate': 'Input prueba carrusel 2 | 3e82e3b7-d8da-4955-aff4-9bcbee291db6 | 19627070-4044-4254-7133-869533412022 | bSkwpaFVCmMXS8G2PR6k', 'contenido': 'Debes decrime \"adios\"', 'typingtime': '1', 'validacion': 'adios', 'id_robot': 539, 'id_var': 1870, 'blocktype': 'input'}\n",
      "intenatando consulta...\n",
      "consulta: select * from bloqueinput where next_id= 'Informativo | eb6262bf-2b65-4dc7-9d6a-9a8544083dde | bSkwpaFVCmMXS8G2PR6k' and default_id= 'Input prueba carrusel 2 | 3e82e3b7-d8da-4955-aff4-9bcbee291db6 | 19627070-4044-4254-7133-869533412022 | bSkwpaFVCmMXS8G2PR6k' and namestate= 'Input prueba carrusel 2 | 3e82e3b7-d8da-4955-aff4-9bcbee291db6 | 19627070-4044-4254-7133-869533412022 | bSkwpaFVCmMXS8G2PR6k' and contenido= 'Debes decrime \"adios\"' and typingtime= '1' and validacion= 'adios' and id_robot= '539' and id_var= '1870' and blocktype= 'input' ;\n",
      "Datos enviados INSERT:\n",
      "{'namestate': 'Input prueba carrusel 2 | 3e82e3b7-d8da-4955-aff4-9bcbee291db6 | 19627070-4044-4254-7133-869533412022 | bSkwpaFVCmMXS8G2PR6k', 'contenido': 'Debes decrime \"adios\"', 'next_id': 'Informativo | eb6262bf-2b65-4dc7-9d6a-9a8544083dde | bSkwpaFVCmMXS8G2PR6k', 'blocktype': 'input', 'contenttype': None, 'typingtime': '1', 'validacion': 'adios', 'default_id': 'Input prueba carrusel 2 | 3e82e3b7-d8da-4955-aff4-9bcbee291db6 | 19627070-4044-4254-7133-869533412022 | bSkwpaFVCmMXS8G2PR6k', 'id_var': '1870', 'id_block': 400, 'id_robot': 539, 'opc_nextid': None, 'pos_y': None, 'pos_x': None, 'tag_active': None}\n",
      "Datos recibidos INSERT:\n",
      "{'name_var': 'variableCarrCarrusel_|_5aaf3158-308e-4b01-9283-f01f32d587c96779', 'opc_type': 'Variable', 'var': 0, 'opc_data': 'String', 'id_robot': 539}\n",
      "intenatando consulta...\n",
      "consulta: select * from variables where name_var= 'variableCarrCarrusel_|_5aaf3158-308e-4b01-9283-f01f32d587c96779' and opc_type= 'Variable' and var= '0' and opc_data= 'String' and id_robot= '539' ;\n",
      "Datos enviados INSERT:\n",
      "{'id_var': 1871, 'opc_type': 'Variable', 'opc_data': 'String', 'var': '0', 'id_robot': 539, 'name_var': 'variableCarrCarrusel_|_5aaf3158-308e-4b01-9283-f01f32d587c96779'}\n",
      "Datos recibidos INSERT:\n",
      "{'namestate': 'Carrusel | 5aaf3158-308e-4b01-9283-f01f32d587c9 | 07418629-1549-9289-4157-116148457825 | bSkwpaFVCmMXS8G2PR6k', 'blocktype': 'slide', 'typingtime': '1', 'default_id': 'Carrusel | 5aaf3158-308e-4b01-9283-f01f32d587c9 | 07418629-1549-9289-4157-116148457825 | bSkwpaFVCmMXS8G2PR6k', 'id_var': 1871, 'id_robot': 539}\n"
     ]
    },
    {
     "name": "stderr",
     "output_type": "stream",
     "text": [
      "127.0.0.1 - - [14/Jun/2021 23:59:54] \"\u001b[37mPOST /insert/bloqueslide HTTP/1.1\u001b[0m\" 200 -\n",
      "127.0.0.1 - - [14/Jun/2021 23:59:54] \"\u001b[37mPOST /insert/elementos HTTP/1.1\u001b[0m\" 200 -\n",
      "127.0.0.1 - - [14/Jun/2021 23:59:54] \"\u001b[37mPOST /insert/botones HTTP/1.1\u001b[0m\" 200 -\n"
     ]
    },
    {
     "name": "stdout",
     "output_type": "stream",
     "text": [
      "intenatando consulta...\n",
      "consulta: select * from bloqueslide where namestate= 'Carrusel | 5aaf3158-308e-4b01-9283-f01f32d587c9 | 07418629-1549-9289-4157-116148457825 | bSkwpaFVCmMXS8G2PR6k' and blocktype= 'slide' and typingtime= '1' and default_id= 'Carrusel | 5aaf3158-308e-4b01-9283-f01f32d587c9 | 07418629-1549-9289-4157-116148457825 | bSkwpaFVCmMXS8G2PR6k' and id_var= '1871' and id_robot= '539' ;\n",
      "Datos enviados INSERT:\n",
      "{'namestate': 'Carrusel | 5aaf3158-308e-4b01-9283-f01f32d587c9 | 07418629-1549-9289-4157-116148457825 | bSkwpaFVCmMXS8G2PR6k', 'next_id': None, 'blocktype': 'slide', 'typingtime': '1', 'default_id': 'Carrusel | 5aaf3158-308e-4b01-9283-f01f32d587c9 | 07418629-1549-9289-4157-116148457825 | bSkwpaFVCmMXS8G2PR6k', 'id_var': '1871', 'id_block': 564, 'id_robot': 539, 'opc_nextid': None, 'pos_y': None, 'pos_x': None, 'opc_elm': None, 'tag_active': None}\n",
      "Datos recibidos INSERT:\n",
      "{'title': 'Titulo 1', 'image_url': 'https://sitechecker.pro/wp-content/uploads/2017/12/URL-meaning.png', 'subtitle': 'Subtitulo 1', 'blocktype': 'slide', 'id_block': 564}\n",
      "intenatando consulta...\n",
      "consulta: select * from elementos where title= 'Titulo 1' and image_url= 'https://sitechecker.pro/wp-content/uploads/2017/12/URL-meaning.png' and subtitle= 'Subtitulo 1' and blocktype= 'slide' and id_block= '564' ;\n",
      "Datos enviados INSERT:\n",
      "{'blocktype': 'slide', 'title': 'Titulo 1', 'image_url': 'https://sitechecker.pro/wp-content/uploads/2017/12/URL-meaning.png', 'subtitle': 'Subtitulo 1', 'id_block': 564, 'id_elements': 965}\n",
      "Datos recibidos INSERT:\n",
      "{'id_elemento': '965', 'titlebutton': 'Opcion 1', 'typebutton': 'postback', 'contentbutton': 'QuickReply | 9cd75eb1-5f87-4a23-84aa-d6de05ed56b8 | 07418629-1549-9289-4157-116148457825 | bSkwpaFVCmMXS8G2PR6k', 'opc_nextid': 'QuickReply | 9cd75eb1-5f87-4a23-84aa-d6de05ed56b8 | 07418629-1549-9289-4157-116148457825 | bSkwpaFVCmMXS8G2PR6k'}\n",
      "intenatando consulta...\n",
      "consulta: select * from botones where id_elemento= '965' and titlebutton= 'Opcion 1' and typebutton= 'postback' and contentbutton= 'QuickReply | 9cd75eb1-5f87-4a23-84aa-d6de05ed56b8 | 07418629-1549-9289-4157-116148457825 | bSkwpaFVCmMXS8G2PR6k' and opc_nextid= 'QuickReply | 9cd75eb1-5f87-4a23-84aa-d6de05ed56b8 | 07418629-1549-9289-4157-116148457825 | bSkwpaFVCmMXS8G2PR6k' ;\n",
      "Datos enviados INSERT:\n",
      "{'id_elemento': '965', 'titlebutton': 'Opcion 1', 'typebutton': 'postback', 'contentbutton': 'QuickReply | 9cd75eb1-5f87-4a23-84aa-d6de05ed56b8 | 07418629-1549-9289-4157-116148457825 | bSkwpaFVCmMXS8G2PR6k', 'id_boton': 1734, 'opc_nextid': 'QuickReply | 9cd75eb1-5f87-4a23-84aa-d6de05ed56b8 | 07418629-1549-9289-4157-116148457825 | bSkwpaFVCmMXS8G2PR6k'}\n",
      "Datos recibidos INSERT:\n",
      "{'id_elemento': '965', 'titlebutton': 'Opcion 2', 'typebutton': 'postback', 'contentbutton': 'QuickReply | f962f2fb-1047-4062-bac8-798fddc79ff2 | 07418629-1549-9289-4157-116148457825 | bSkwpaFVCmMXS8G2PR6k', 'opc_nextid': 'QuickReply | f962f2fb-1047-4062-bac8-798fddc79ff2 | 07418629-1549-9289-4157-116148457825 | bSkwpaFVCmMXS8G2PR6k'}\n"
     ]
    },
    {
     "name": "stderr",
     "output_type": "stream",
     "text": [
      "127.0.0.1 - - [14/Jun/2021 23:59:54] \"\u001b[37mPOST /insert/botones HTTP/1.1\u001b[0m\" 200 -\n",
      "127.0.0.1 - - [14/Jun/2021 23:59:54] \"\u001b[37mPOST /insert/bloqueinformativo HTTP/1.1\u001b[0m\" 200 -\n"
     ]
    },
    {
     "name": "stdout",
     "output_type": "stream",
     "text": [
      "intenatando consulta...\n",
      "consulta: select * from botones where id_elemento= '965' and titlebutton= 'Opcion 2' and typebutton= 'postback' and contentbutton= 'QuickReply | f962f2fb-1047-4062-bac8-798fddc79ff2 | 07418629-1549-9289-4157-116148457825 | bSkwpaFVCmMXS8G2PR6k' and opc_nextid= 'QuickReply | f962f2fb-1047-4062-bac8-798fddc79ff2 | 07418629-1549-9289-4157-116148457825 | bSkwpaFVCmMXS8G2PR6k' ;\n",
      "Datos enviados INSERT:\n",
      "{'id_elemento': '965', 'titlebutton': 'Opcion 2', 'typebutton': 'postback', 'contentbutton': 'QuickReply | f962f2fb-1047-4062-bac8-798fddc79ff2 | 07418629-1549-9289-4157-116148457825 | bSkwpaFVCmMXS8G2PR6k', 'id_boton': 1735, 'opc_nextid': 'QuickReply | f962f2fb-1047-4062-bac8-798fddc79ff2 | 07418629-1549-9289-4157-116148457825 | bSkwpaFVCmMXS8G2PR6k'}\n",
      "Datos recibidos INSERT:\n",
      "{'next_id': 'Carrusel | 5aaf3158-308e-4b01-9283-f01f32d587c9 | 07418629-1549-9289-4157-116148457825 | bSkwpaFVCmMXS8G2PR6k', 'namestate': 'Informativo | 98a8f39d-6761-48e7-aca7-66279cfabf40 | 07418629-1549-9289-4157-116148457825 | bSkwpaFVCmMXS8G2PR6k', 'contenido': 'Este es un bloque informativo', 'contenttype': 'text', 'typingtime': '1', 'id_robot': 539, 'blocktype': 'informativo'}\n",
      "intenatando consulta...\n",
      "consulta: select * from bloqueinformativo where next_id= 'Carrusel | 5aaf3158-308e-4b01-9283-f01f32d587c9 | 07418629-1549-9289-4157-116148457825 | bSkwpaFVCmMXS8G2PR6k' and namestate= 'Informativo | 98a8f39d-6761-48e7-aca7-66279cfabf40 | 07418629-1549-9289-4157-116148457825 | bSkwpaFVCmMXS8G2PR6k' and contenido= 'Este es un bloque informativo' and contenttype= 'text' and typingtime= '1' and id_robot= '539' and blocktype= 'informativo' ;\n",
      "Datos enviados INSERT:\n",
      "{'namestate': 'Informativo | 98a8f39d-6761-48e7-aca7-66279cfabf40 | 07418629-1549-9289-4157-116148457825 | bSkwpaFVCmMXS8G2PR6k', 'contenido': 'Este es un bloque informativo', 'next_id': 'Carrusel | 5aaf3158-308e-4b01-9283-f01f32d587c9 | 07418629-1549-9289-4157-116148457825 | bSkwpaFVCmMXS8G2PR6k', 'blocktype': 'informativo', 'contenttype': 'text', 'typingtime': '1', 'id_block': 2845, 'id_robot': 539, 'opc_nextid': None, 'pos_y': None, 'pos_x': None, 'tag_active': None}\n",
      "Datos recibidos INSERT:\n",
      "{'name_var': 'variableQrQuickReply_|_9cd75eb1-5f87-4a23-84aa-d6de05ed56b87818', 'opc_type': 'Variable', 'var': 0, 'opc_data': 'String', 'id_robot': 539}\n",
      "intenatando consulta...\n",
      "consulta: select * from variables where name_var= 'variableQrQuickReply_|_9cd75eb1-5f87-4a23-84aa-d6de05ed56b87818' and opc_type= 'Variable' and var= '0' and opc_data= 'String' and id_robot= '539' ;\n"
     ]
    },
    {
     "name": "stderr",
     "output_type": "stream",
     "text": [
      "127.0.0.1 - - [14/Jun/2021 23:59:54] \"\u001b[37mPOST /insert/variables HTTP/1.1\u001b[0m\" 200 -\n",
      "127.0.0.1 - - [14/Jun/2021 23:59:54] \"\u001b[37mPOST /insert/bloquequickreply HTTP/1.1\u001b[0m\" 200 -\n",
      "127.0.0.1 - - [14/Jun/2021 23:59:54] \"\u001b[37mPOST /insert/variables HTTP/1.1\u001b[0m\" 200 -\n"
     ]
    },
    {
     "name": "stdout",
     "output_type": "stream",
     "text": [
      "Datos enviados INSERT:\n",
      "{'id_var': 1872, 'opc_type': 'Variable', 'opc_data': 'String', 'var': '0', 'id_robot': 539, 'name_var': 'variableQrQuickReply_|_9cd75eb1-5f87-4a23-84aa-d6de05ed56b87818'}\n",
      "Datos recibidos INSERT:\n",
      "{'contenido': 'QUICKREPLY 1', 'opciones': 'SALIDA 1', 'next_id': 'Input | cd6d4be8-c346-4550-a26e-4bb9a7230d3b | bSkwpaFVCmMXS8G2PR6k', 'default_id': 'QuickReply | 9cd75eb1-5f87-4a23-84aa-d6de05ed56b8 | 07418629-1549-9289-4157-116148457825 | bSkwpaFVCmMXS8G2PR6k', 'namestate': 'QuickReply | 9cd75eb1-5f87-4a23-84aa-d6de05ed56b8 | 07418629-1549-9289-4157-116148457825 | bSkwpaFVCmMXS8G2PR6k', 'typingtime': '1', 'id_robot': 539, 'id_var': 1872, 'blocktype': 'quickReply'}\n",
      "intenatando consulta...\n",
      "consulta: select * from bloquequickreply where contenido= 'QUICKREPLY 1' and opciones= 'SALIDA 1' and next_id= 'Input | cd6d4be8-c346-4550-a26e-4bb9a7230d3b | bSkwpaFVCmMXS8G2PR6k' and default_id= 'QuickReply | 9cd75eb1-5f87-4a23-84aa-d6de05ed56b8 | 07418629-1549-9289-4157-116148457825 | bSkwpaFVCmMXS8G2PR6k' and namestate= 'QuickReply | 9cd75eb1-5f87-4a23-84aa-d6de05ed56b8 | 07418629-1549-9289-4157-116148457825 | bSkwpaFVCmMXS8G2PR6k' and typingtime= '1' and id_robot= '539' and id_var= '1872' and blocktype= 'quickReply' ;\n",
      "Datos enviados INSERT:\n",
      "{'namestate': 'QuickReply | 9cd75eb1-5f87-4a23-84aa-d6de05ed56b8 | 07418629-1549-9289-4157-116148457825 | bSkwpaFVCmMXS8G2PR6k', 'contenido': 'QUICKREPLY 1', 'opciones': 'SALIDA 1', 'next_id': 'Input | cd6d4be8-c346-4550-a26e-4bb9a7230d3b | bSkwpaFVCmMXS8G2PR6k', 'blocktype': 'quickReply', 'typingtime': '1', 'default_id': 'QuickReply | 9cd75eb1-5f87-4a23-84aa-d6de05ed56b8 | 07418629-1549-9289-4157-116148457825 | bSkwpaFVCmMXS8G2PR6k', 'id_var': '1872', 'id_block': 680, 'id_robot': 539, 'opc_nextid': None, 'pos_y': None, 'pos_x': None, 'tag_active': None}\n",
      "Datos recibidos INSERT:\n",
      "{'name_var': 'variableQrQuickReply_|_f962f2fb-1047-4062-bac8-798fddc79ff24283', 'opc_type': 'Variable', 'var': 0, 'opc_data': 'String', 'id_robot': 539}\n",
      "intenatando consulta...\n",
      "consulta: select * from variables where name_var= 'variableQrQuickReply_|_f962f2fb-1047-4062-bac8-798fddc79ff24283' and opc_type= 'Variable' and var= '0' and opc_data= 'String' and id_robot= '539' ;\n",
      "Datos enviados INSERT:\n",
      "{'id_var': 1873, 'opc_type': 'Variable', 'opc_data': 'String', 'var': '0', 'id_robot': 539, 'name_var': 'variableQrQuickReply_|_f962f2fb-1047-4062-bac8-798fddc79ff24283'}\n"
     ]
    },
    {
     "name": "stderr",
     "output_type": "stream",
     "text": [
      "127.0.0.1 - - [14/Jun/2021 23:59:55] \"\u001b[37mPOST /insert/bloquequickreply HTTP/1.1\u001b[0m\" 200 -\n",
      "127.0.0.1 - - [14/Jun/2021 23:59:55] \"\u001b[37mPOST /insert/bloqueinformativo HTTP/1.1\u001b[0m\" 200 -\n"
     ]
    },
    {
     "name": "stdout",
     "output_type": "stream",
     "text": [
      "Datos recibidos INSERT:\n",
      "{'contenido': 'quickreply 2', 'opciones': 'SALIDA 2', 'next_id': 'Input | cd6d4be8-c346-4550-a26e-4bb9a7230d3b | bSkwpaFVCmMXS8G2PR6k', 'default_id': 'QuickReply | f962f2fb-1047-4062-bac8-798fddc79ff2 | 07418629-1549-9289-4157-116148457825 | bSkwpaFVCmMXS8G2PR6k', 'namestate': 'QuickReply | f962f2fb-1047-4062-bac8-798fddc79ff2 | 07418629-1549-9289-4157-116148457825 | bSkwpaFVCmMXS8G2PR6k', 'typingtime': '1', 'id_robot': 539, 'id_var': 1873, 'blocktype': 'quickReply'}\n",
      "intenatando consulta...\n",
      "consulta: select * from bloquequickreply where contenido= 'quickreply 2' and opciones= 'SALIDA 2' and next_id= 'Input | cd6d4be8-c346-4550-a26e-4bb9a7230d3b | bSkwpaFVCmMXS8G2PR6k' and default_id= 'QuickReply | f962f2fb-1047-4062-bac8-798fddc79ff2 | 07418629-1549-9289-4157-116148457825 | bSkwpaFVCmMXS8G2PR6k' and namestate= 'QuickReply | f962f2fb-1047-4062-bac8-798fddc79ff2 | 07418629-1549-9289-4157-116148457825 | bSkwpaFVCmMXS8G2PR6k' and typingtime= '1' and id_robot= '539' and id_var= '1873' and blocktype= 'quickReply' ;\n",
      "Datos enviados INSERT:\n",
      "{'namestate': 'QuickReply | f962f2fb-1047-4062-bac8-798fddc79ff2 | 07418629-1549-9289-4157-116148457825 | bSkwpaFVCmMXS8G2PR6k', 'contenido': 'quickreply 2', 'opciones': 'SALIDA 2', 'next_id': 'Input | cd6d4be8-c346-4550-a26e-4bb9a7230d3b | bSkwpaFVCmMXS8G2PR6k', 'blocktype': 'quickReply', 'typingtime': '1', 'default_id': 'QuickReply | f962f2fb-1047-4062-bac8-798fddc79ff2 | 07418629-1549-9289-4157-116148457825 | bSkwpaFVCmMXS8G2PR6k', 'id_var': '1873', 'id_block': 681, 'id_robot': 539, 'opc_nextid': None, 'pos_y': None, 'pos_x': None, 'tag_active': None}\n",
      "Datos recibidos INSERT:\n",
      "{'next_id': 'Informativo | 98a8f39d-6761-48e7-aca7-66279cfabf40 | 07418629-1549-9289-4157-116148457825 | bSkwpaFVCmMXS8G2PR6k', 'namestate': 'Informativo | d9897d01-e0ce-44bd-ba3d-22973a7d74fd | bSkwpaFVCmMXS8G2PR6k', 'contenido': 'Soy el chatbot del TT-A056', 'contenttype': 'text', 'typingtime': '1', 'id_robot': 539, 'blocktype': 'informativo'}\n",
      "intenatando consulta...\n",
      "consulta: select * from bloqueinformativo where next_id= 'Informativo | 98a8f39d-6761-48e7-aca7-66279cfabf40 | 07418629-1549-9289-4157-116148457825 | bSkwpaFVCmMXS8G2PR6k' and namestate= 'Informativo | d9897d01-e0ce-44bd-ba3d-22973a7d74fd | bSkwpaFVCmMXS8G2PR6k' and contenido= 'Soy el chatbot del TT-A056' and contenttype= 'text' and typingtime= '1' and id_robot= '539' and blocktype= 'informativo' ;\n",
      "Datos enviados INSERT:\n",
      "{'namestate': 'Informativo | d9897d01-e0ce-44bd-ba3d-22973a7d74fd | bSkwpaFVCmMXS8G2PR6k', 'contenido': 'Soy el chatbot del TT-A056', 'next_id': 'Informativo | 98a8f39d-6761-48e7-aca7-66279cfabf40 | 07418629-1549-9289-4157-116148457825 | bSkwpaFVCmMXS8G2PR6k', 'blocktype': 'informativo', 'contenttype': 'text', 'typingtime': '1', 'id_block': 2846, 'id_robot': 539, 'opc_nextid': None, 'pos_y': None, 'pos_x': None, 'tag_active': None}\n",
      "Datos recibidos INSERT:\n",
      "{'next_id': 'Salida', 'namestate': 'Informativo | eb6262bf-2b65-4dc7-9d6a-9a8544083dde | bSkwpaFVCmMXS8G2PR6k', 'contenido': 'Adios', 'contenttype': 'text', 'typingtime': '1', 'id_robot': 539, 'blocktype': 'informativo'}\n",
      "intenatando consulta...\n",
      "consulta: select * from bloqueinformativo where next_id= 'Salida' and namestate= 'Informativo | eb6262bf-2b65-4dc7-9d6a-9a8544083dde | bSkwpaFVCmMXS8G2PR6k' and contenido= 'Adios' and contenttype= 'text' and typingtime= '1' and id_robot= '539' and blocktype= 'informativo' ;\n"
     ]
    },
    {
     "name": "stderr",
     "output_type": "stream",
     "text": [
      "127.0.0.1 - - [14/Jun/2021 23:59:55] \"\u001b[37mPOST /insert/bloqueinformativo HTTP/1.1\u001b[0m\" 200 -\n",
      "127.0.0.1 - - [14/Jun/2021 23:59:55] \"\u001b[37mPOST /insert/variables HTTP/1.1\u001b[0m\" 200 -\n",
      "127.0.0.1 - - [14/Jun/2021 23:59:55] \"\u001b[37mPOST /insert/bloqueinput HTTP/1.1\u001b[0m\" 200 -\n"
     ]
    },
    {
     "name": "stdout",
     "output_type": "stream",
     "text": [
      "Datos enviados INSERT:\n",
      "{'namestate': 'Informativo | eb6262bf-2b65-4dc7-9d6a-9a8544083dde | bSkwpaFVCmMXS8G2PR6k', 'contenido': 'Adios', 'next_id': 'Salida', 'blocktype': 'informativo', 'contenttype': 'text', 'typingtime': '1', 'id_block': 2847, 'id_robot': 539, 'opc_nextid': None, 'pos_y': None, 'pos_x': None, 'tag_active': None}\n",
      "Datos recibidos INSERT:\n",
      "{'name_var': 'variableInputInput_|_cd6d4be8-c346-4550-a26e-4bb9a7230d3b2868', 'opc_type': 'Variable', 'var': 0, 'opc_data': 'String', 'id_robot': 539}\n",
      "intenatando consulta...\n",
      "consulta: select * from variables where name_var= 'variableInputInput_|_cd6d4be8-c346-4550-a26e-4bb9a7230d3b2868' and opc_type= 'Variable' and var= '0' and opc_data= 'String' and id_robot= '539' ;\n",
      "Datos enviados INSERT:\n",
      "{'id_var': 1874, 'opc_type': 'Variable', 'opc_data': 'String', 'var': '0', 'id_robot': 539, 'name_var': 'variableInputInput_|_cd6d4be8-c346-4550-a26e-4bb9a7230d3b2868'}\n",
      "Datos recibidos INSERT:\n",
      "{'next_id': 'Informativo | 34fa0024-002a-4673-8b70-6419afef7d4d | 19627070-4044-4254-7133-869533412022 | bSkwpaFVCmMXS8G2PR6k', 'default_id': 'Input | cd6d4be8-c346-4550-a26e-4bb9a7230d3b | bSkwpaFVCmMXS8G2PR6k', 'namestate': 'Input | cd6d4be8-c346-4550-a26e-4bb9a7230d3b | bSkwpaFVCmMXS8G2PR6k', 'contenido': 'Ingresa tu nombre', 'typingtime': '1', 'validacion': '', 'id_robot': 539, 'id_var': 1874, 'blocktype': 'input'}\n",
      "intenatando consulta...\n",
      "consulta: select * from bloqueinput where next_id= 'Informativo | 34fa0024-002a-4673-8b70-6419afef7d4d | 19627070-4044-4254-7133-869533412022 | bSkwpaFVCmMXS8G2PR6k' and default_id= 'Input | cd6d4be8-c346-4550-a26e-4bb9a7230d3b | bSkwpaFVCmMXS8G2PR6k' and namestate= 'Input | cd6d4be8-c346-4550-a26e-4bb9a7230d3b | bSkwpaFVCmMXS8G2PR6k' and contenido= 'Ingresa tu nombre' and typingtime= '1' and validacion= '' and id_robot= '539' and id_var= '1874' and blocktype= 'input' ;\n",
      "Datos enviados INSERT:\n",
      "{'namestate': 'Input | cd6d4be8-c346-4550-a26e-4bb9a7230d3b | bSkwpaFVCmMXS8G2PR6k', 'contenido': 'Ingresa tu nombre', 'next_id': 'Informativo | 34fa0024-002a-4673-8b70-6419afef7d4d | 19627070-4044-4254-7133-869533412022 | bSkwpaFVCmMXS8G2PR6k', 'blocktype': 'input', 'contenttype': None, 'typingtime': '1', 'validacion': '', 'default_id': 'Input | cd6d4be8-c346-4550-a26e-4bb9a7230d3b | bSkwpaFVCmMXS8G2PR6k', 'id_var': '1874', 'id_block': 401, 'id_robot': 539, 'opc_nextid': None, 'pos_y': None, 'pos_x': None, 'tag_active': None}\n",
      "Datos recibidos INSERT:\n",
      "{'next_id': '', 'namestate': 'Salida', 'contenido': '', 'contenttype': 'text', 'typingtime': 3, 'id_robot': 539, 'blocktype': 'informativo'}\n"
     ]
    },
    {
     "name": "stderr",
     "output_type": "stream",
     "text": [
      "127.0.0.1 - - [14/Jun/2021 23:59:55] \"\u001b[37mPOST /insert/bloqueinformativo HTTP/1.1\u001b[0m\" 200 -\n"
     ]
    },
    {
     "name": "stdout",
     "output_type": "stream",
     "text": [
      "intenatando consulta...\n",
      "consulta: select * from bloqueinformativo where next_id= '' and namestate= 'Salida' and contenido= '' and contenttype= 'text' and typingtime= '3' and id_robot= '539' and blocktype= 'informativo' ;\n",
      "Datos enviados INSERT:\n",
      "{'namestate': 'Salida', 'contenido': '', 'next_id': '', 'blocktype': 'informativo', 'contenttype': 'text', 'typingtime': '3', 'id_block': 2848, 'id_robot': 539, 'opc_nextid': None, 'pos_y': None, 'pos_x': None, 'tag_active': None}\n"
     ]
    },
    {
     "name": "stderr",
     "output_type": "stream",
     "text": [
      "127.0.0.1 - - [15/Jun/2021 00:01:00] \"\u001b[37mGET /select/robots HTTP/1.1\u001b[0m\" 200 -\n",
      "127.0.0.1 - - [15/Jun/2021 00:01:00] \"\u001b[37mGET /select/bloqueslide HTTP/1.1\u001b[0m\" 200 -\n",
      "127.0.0.1 - - [15/Jun/2021 00:01:00] \"\u001b[37mGET /select/elementos HTTP/1.1\u001b[0m\" 200 -\n",
      "127.0.0.1 - - [15/Jun/2021 00:01:00] \"\u001b[37mGET /select/elementos HTTP/1.1\u001b[0m\" 200 -\n"
     ]
    },
    {
     "name": "stdout",
     "output_type": "stream",
     "text": [
      "Datos recibidos SELECT:\n",
      "{'name_robot': 'Chatbot TT 2021', 'id_face': '110373671266869', 'block_ini': 'Informativo | a0be25bb-4eb4-49c2-830f-6eb23d64966c | ZG7udwy8rzhE5xtUnOGl', 'type_blocki': 'informativo', 'access_token': 'EAALZCCZBzPwfkBAAtF3N1x3GCvg9UuN7alfdTNGmZC5d96EY7vYBM6hQQedeMtNTZAWxFVFBmRXfT2lp3m970ZCDZBhelEyxvK6PN9gHzEXZBbdxvqXqETQzUffJynrycHPnBBR5GtxJl2ulvP0uXrP0fTyoEmQ5GchMN0ckdunXK6MEd1Q40Cb', 'id_user': 'charlygoldcruz@gmail.com', 'api_nlp': 'http://localhost:8282/'}\n",
      "intenatando consulta...\n",
      "consulta: select * from robots where id_face = '110373671266869';\n",
      "Datos enviados SELECT:\n",
      "{'name_robot': 'Chatbot TT 2021', 'id_face': '110373671266869', 'block_ini': 'Informativo | a0be25bb-4eb4-49c2-830f-6eb23d64966c | ZG7udwy8rzhE5xtUnOGl', 'type_blocki': 'informativo', 'access_token': 'EAALZCCZBzPwfkBAAtF3N1x3GCvg9UuN7alfdTNGmZC5d96EY7vYBM6hQQedeMtNTZAWxFVFBmRXfT2lp3m970ZCDZBhelEyxvK6PN9gHzEXZBbdxvqXqETQzUffJynrycHPnBBR5GtxJl2ulvP0uXrP0fTyoEmQ5GchMN0ckdunXK6MEd1Q40Cb', 'api_nlp': 'http://localhost:8282/', 'id_robot': 538, 'id_user': 'charlygoldcruz@gmail.com'}\n",
      "Datos recibidos SELECT:\n",
      "{'id_robot': '538'}\n",
      "intenatando consulta...\n",
      "consulta: select * from bloqueslide where id_robot= '538' ;\n",
      "Datos enviados SELECT:\n",
      "[{'namestate': 'Carrusel | 5aaf3158-308e-4b01-9283-f01f32d587c9 | 96628859-0899-7537-4503-489244348545 | ZG7udwy8rzhE5xtUnOGl', 'next_id': 'QuickReply | 9cd75eb1-5f87-4a23-84aa-d6de05ed56b8 | 96628859-0899-7537-4503-489244348545 | ZG7udwy8rzhE5xtUnOGl,QuickReply | f962f2fb-1047-4062-bac8-798fddc79ff2 | 96628859-0899-7537-4503-489244348545 | ZG7udwy8rzhE5xtUnOGl', 'blocktype': 'slide', 'typingtime': '1', 'default_id': 'Carrusel | 5aaf3158-308e-4b01-9283-f01f32d587c9 | 96628859-0899-7537-4503-489244348545 | ZG7udwy8rzhE5xtUnOGl', 'id_var': '1854', 'id_block': 556, 'id_robot': 538, 'opc_nextid': None, 'pos_y': None, 'pos_x': None, 'opc_elm': None, 'tag_active': None}, {'namestate': 'Carrusel | cce128da-fc3c-4ab8-8733-0f93dff9b0ca | 55686726-3982-4003-0323-821800355990 | ZG7udwy8rzhE5xtUnOGl', 'next_id': 'Informativo | 72991cca-745b-4886-8ac4-c92d730c134a | ZG7udwy8rzhE5xtUnOGl,Input prueba carrusel 2 | 3e82e3b7-d8da-4955-aff4-9bcbee291db6 | 55686726-3982-4003-0323-821800355990 | ZG7udwy8rzhE5xtUnOGl', 'blocktype': 'slide', 'typingtime': '1', 'default_id': 'Carrusel | cce128da-fc3c-4ab8-8733-0f93dff9b0ca | 55686726-3982-4003-0323-821800355990 | ZG7udwy8rzhE5xtUnOGl', 'id_var': '1857', 'id_block': 557, 'id_robot': 538, 'opc_nextid': None, 'pos_y': None, 'pos_x': None, 'opc_elm': None, 'tag_active': None}, {'namestate': 'Carrusel | cce128da-fc3c-4ab8-8733-0f93dff9b0ca | 36067394-2558-1046-0765-010229045532 | ZG7udwy8rzhE5xtUnOGl', 'next_id': 'Informativo | 72991cca-745b-4886-8ac4-c92d730c134a | ZG7udwy8rzhE5xtUnOGl,Input prueba carrusel 2 | 3e82e3b7-d8da-4955-aff4-9bcbee291db6 | 36067394-2558-1046-0765-010229045532 | ZG7udwy8rzhE5xtUnOGl', 'blocktype': 'slide', 'typingtime': '1', 'default_id': 'Carrusel | cce128da-fc3c-4ab8-8733-0f93dff9b0ca | 36067394-2558-1046-0765-010229045532 | ZG7udwy8rzhE5xtUnOGl', 'id_var': '1859', 'id_block': 558, 'id_robot': 538, 'opc_nextid': None, 'pos_y': None, 'pos_x': None, 'opc_elm': None, 'tag_active': None}]\n",
      "Datos recibidos SELECT:\n",
      "{'id_block': 556}\n",
      "intenatando consulta...\n",
      "consulta: select * from elementos where id_block= '556' ;\n",
      "Datos enviados SELECT:\n",
      "{'blocktype': 'slide', 'title': 'Titulo 1', 'image_url': 'https://sitechecker.pro/wp-content/uploads/2017/12/URL-meaning.png', 'subtitle': 'Subtitulo 1', 'id_block': 556, 'id_elements': 953}\n",
      "Datos recibidos SELECT:\n",
      "{'id_block': 557}\n",
      "intenatando consulta...\n",
      "consulta: select * from elementos where id_block= '557' ;\n",
      "Datos enviados SELECT:\n",
      "{'blocktype': 'slide', 'title': 'Titulo 1', 'image_url': 'https://jalisco.quadratin.com.mx/www/wp-content/uploads/2020/11/grupo-firme-1-1160x700.jpg', 'subtitle': 'Subtitulo 1', 'id_block': 557, 'id_elements': 954}\n"
     ]
    },
    {
     "name": "stderr",
     "output_type": "stream",
     "text": [
      "127.0.0.1 - - [15/Jun/2021 00:01:00] \"\u001b[37mGET /select/elementos HTTP/1.1\u001b[0m\" 200 -\n",
      "127.0.0.1 - - [15/Jun/2021 00:01:00] \"\u001b[37mPOST /insert/variables HTTP/1.1\u001b[0m\" 200 -\n"
     ]
    },
    {
     "name": "stdout",
     "output_type": "stream",
     "text": [
      "Datos recibidos SELECT:\n",
      "{'id_block': 558}\n",
      "intenatando consulta...\n",
      "consulta: select * from elementos where id_block= '558' ;\n",
      "Datos enviados SELECT:\n",
      "{'blocktype': 'slide', 'title': 'Titulo 1', 'image_url': 'https://jalisco.quadratin.com.mx/www/wp-content/uploads/2020/11/grupo-firme-1-1160x700.jpg', 'subtitle': 'Subtitulo 1', 'id_block': 558, 'id_elements': 955}\n",
      "Datos recibidos INSERT:\n",
      "{'name_var': 'variableCarrCarrusel_|_5aaf3158-308e-4b01-9283-f01f32d587c92671', 'opc_type': 'Variable', 'var': 0, 'opc_data': 'String', 'id_robot': 538}\n",
      "intenatando consulta...\n",
      "consulta: select * from variables where name_var= 'variableCarrCarrusel_|_5aaf3158-308e-4b01-9283-f01f32d587c92671' and opc_type= 'Variable' and var= '0' and opc_data= 'String' and id_robot= '538' ;\n",
      "Datos enviados INSERT:\n",
      "{'id_var': 1875, 'opc_type': 'Variable', 'opc_data': 'String', 'var': '0', 'id_robot': 538, 'name_var': 'variableCarrCarrusel_|_5aaf3158-308e-4b01-9283-f01f32d587c92671'}\n",
      "Datos recibidos INSERT:\n",
      "{'namestate': 'Carrusel | 5aaf3158-308e-4b01-9283-f01f32d587c9 | 96628859-0899-7537-4503-489244348545 | ZG7udwy8rzhE5xtUnOGl', 'blocktype': 'slide', 'typingtime': '1', 'default_id': 'Carrusel | 5aaf3158-308e-4b01-9283-f01f32d587c9 | 96628859-0899-7537-4503-489244348545 | ZG7udwy8rzhE5xtUnOGl', 'id_var': 1875, 'id_robot': 538}\n"
     ]
    },
    {
     "name": "stderr",
     "output_type": "stream",
     "text": [
      "127.0.0.1 - - [15/Jun/2021 00:01:00] \"\u001b[37mPOST /insert/bloqueslide HTTP/1.1\u001b[0m\" 200 -\n",
      "127.0.0.1 - - [15/Jun/2021 00:01:00] \"\u001b[37mPOST /insert/elementos HTTP/1.1\u001b[0m\" 200 -\n",
      "127.0.0.1 - - [15/Jun/2021 00:01:00] \"\u001b[37mPOST /insert/botones HTTP/1.1\u001b[0m\" 200 -\n"
     ]
    },
    {
     "name": "stdout",
     "output_type": "stream",
     "text": [
      "intenatando consulta...\n",
      "consulta: select * from bloqueslide where namestate= 'Carrusel | 5aaf3158-308e-4b01-9283-f01f32d587c9 | 96628859-0899-7537-4503-489244348545 | ZG7udwy8rzhE5xtUnOGl' and blocktype= 'slide' and typingtime= '1' and default_id= 'Carrusel | 5aaf3158-308e-4b01-9283-f01f32d587c9 | 96628859-0899-7537-4503-489244348545 | ZG7udwy8rzhE5xtUnOGl' and id_var= '1875' and id_robot= '538' ;\n",
      "Datos enviados INSERT:\n",
      "{'namestate': 'Carrusel | 5aaf3158-308e-4b01-9283-f01f32d587c9 | 96628859-0899-7537-4503-489244348545 | ZG7udwy8rzhE5xtUnOGl', 'next_id': None, 'blocktype': 'slide', 'typingtime': '1', 'default_id': 'Carrusel | 5aaf3158-308e-4b01-9283-f01f32d587c9 | 96628859-0899-7537-4503-489244348545 | ZG7udwy8rzhE5xtUnOGl', 'id_var': '1875', 'id_block': 565, 'id_robot': 538, 'opc_nextid': None, 'pos_y': None, 'pos_x': None, 'opc_elm': None, 'tag_active': None}\n",
      "Datos recibidos INSERT:\n",
      "{'title': 'Titulo 1', 'image_url': 'https://sitechecker.pro/wp-content/uploads/2017/12/URL-meaning.png', 'subtitle': 'Subtitulo 1', 'blocktype': 'slide', 'id_block': 565}\n",
      "intenatando consulta...\n",
      "consulta: select * from elementos where title= 'Titulo 1' and image_url= 'https://sitechecker.pro/wp-content/uploads/2017/12/URL-meaning.png' and subtitle= 'Subtitulo 1' and blocktype= 'slide' and id_block= '565' ;\n",
      "Datos enviados INSERT:\n",
      "{'blocktype': 'slide', 'title': 'Titulo 1', 'image_url': 'https://sitechecker.pro/wp-content/uploads/2017/12/URL-meaning.png', 'subtitle': 'Subtitulo 1', 'id_block': 565, 'id_elements': 966}\n",
      "Datos recibidos INSERT:\n",
      "{'id_elemento': '966', 'titlebutton': 'Opcion 1', 'typebutton': 'postback', 'contentbutton': 'QuickReply | 9cd75eb1-5f87-4a23-84aa-d6de05ed56b8 | 96628859-0899-7537-4503-489244348545 | ZG7udwy8rzhE5xtUnOGl', 'opc_nextid': 'QuickReply | 9cd75eb1-5f87-4a23-84aa-d6de05ed56b8 | 96628859-0899-7537-4503-489244348545 | ZG7udwy8rzhE5xtUnOGl'}\n",
      "intenatando consulta...\n",
      "consulta: select * from botones where id_elemento= '966' and titlebutton= 'Opcion 1' and typebutton= 'postback' and contentbutton= 'QuickReply | 9cd75eb1-5f87-4a23-84aa-d6de05ed56b8 | 96628859-0899-7537-4503-489244348545 | ZG7udwy8rzhE5xtUnOGl' and opc_nextid= 'QuickReply | 9cd75eb1-5f87-4a23-84aa-d6de05ed56b8 | 96628859-0899-7537-4503-489244348545 | ZG7udwy8rzhE5xtUnOGl' ;\n",
      "Datos enviados INSERT:\n",
      "{'id_elemento': '966', 'titlebutton': 'Opcion 1', 'typebutton': 'postback', 'contentbutton': 'QuickReply | 9cd75eb1-5f87-4a23-84aa-d6de05ed56b8 | 96628859-0899-7537-4503-489244348545 | ZG7udwy8rzhE5xtUnOGl', 'id_boton': 1736, 'opc_nextid': 'QuickReply | 9cd75eb1-5f87-4a23-84aa-d6de05ed56b8 | 96628859-0899-7537-4503-489244348545 | ZG7udwy8rzhE5xtUnOGl'}\n",
      "Datos recibidos INSERT:\n",
      "{'id_elemento': '966', 'titlebutton': 'Opcion 2', 'typebutton': 'postback', 'contentbutton': 'QuickReply | f962f2fb-1047-4062-bac8-798fddc79ff2 | 96628859-0899-7537-4503-489244348545 | ZG7udwy8rzhE5xtUnOGl', 'opc_nextid': 'QuickReply | f962f2fb-1047-4062-bac8-798fddc79ff2 | 96628859-0899-7537-4503-489244348545 | ZG7udwy8rzhE5xtUnOGl'}\n"
     ]
    },
    {
     "name": "stderr",
     "output_type": "stream",
     "text": [
      "127.0.0.1 - - [15/Jun/2021 00:01:00] \"\u001b[37mPOST /insert/botones HTTP/1.1\u001b[0m\" 200 -\n",
      "127.0.0.1 - - [15/Jun/2021 00:01:01] \"\u001b[37mPOST /insert/bloqueinformativo HTTP/1.1\u001b[0m\" 200 -\n"
     ]
    },
    {
     "name": "stdout",
     "output_type": "stream",
     "text": [
      "intenatando consulta...\n",
      "consulta: select * from botones where id_elemento= '966' and titlebutton= 'Opcion 2' and typebutton= 'postback' and contentbutton= 'QuickReply | f962f2fb-1047-4062-bac8-798fddc79ff2 | 96628859-0899-7537-4503-489244348545 | ZG7udwy8rzhE5xtUnOGl' and opc_nextid= 'QuickReply | f962f2fb-1047-4062-bac8-798fddc79ff2 | 96628859-0899-7537-4503-489244348545 | ZG7udwy8rzhE5xtUnOGl' ;\n",
      "Datos enviados INSERT:\n",
      "{'id_elemento': '966', 'titlebutton': 'Opcion 2', 'typebutton': 'postback', 'contentbutton': 'QuickReply | f962f2fb-1047-4062-bac8-798fddc79ff2 | 96628859-0899-7537-4503-489244348545 | ZG7udwy8rzhE5xtUnOGl', 'id_boton': 1737, 'opc_nextid': 'QuickReply | f962f2fb-1047-4062-bac8-798fddc79ff2 | 96628859-0899-7537-4503-489244348545 | ZG7udwy8rzhE5xtUnOGl'}\n",
      "Datos recibidos INSERT:\n",
      "{'next_id': 'Carrusel | 5aaf3158-308e-4b01-9283-f01f32d587c9 | 96628859-0899-7537-4503-489244348545 | ZG7udwy8rzhE5xtUnOGl', 'namestate': 'Informativo | 98a8f39d-6761-48e7-aca7-66279cfabf40 | 96628859-0899-7537-4503-489244348545 | ZG7udwy8rzhE5xtUnOGl', 'contenido': 'Este es un bloque informativo', 'contenttype': 'text', 'typingtime': '1', 'id_robot': 538, 'blocktype': 'informativo'}\n",
      "intenatando consulta...\n",
      "consulta: select * from bloqueinformativo where next_id= 'Carrusel | 5aaf3158-308e-4b01-9283-f01f32d587c9 | 96628859-0899-7537-4503-489244348545 | ZG7udwy8rzhE5xtUnOGl' and namestate= 'Informativo | 98a8f39d-6761-48e7-aca7-66279cfabf40 | 96628859-0899-7537-4503-489244348545 | ZG7udwy8rzhE5xtUnOGl' and contenido= 'Este es un bloque informativo' and contenttype= 'text' and typingtime= '1' and id_robot= '538' and blocktype= 'informativo' ;\n",
      "Datos enviados INSERT:\n",
      "{'namestate': 'Informativo | 98a8f39d-6761-48e7-aca7-66279cfabf40 | 96628859-0899-7537-4503-489244348545 | ZG7udwy8rzhE5xtUnOGl', 'contenido': 'Este es un bloque informativo', 'next_id': 'Carrusel | 5aaf3158-308e-4b01-9283-f01f32d587c9 | 96628859-0899-7537-4503-489244348545 | ZG7udwy8rzhE5xtUnOGl', 'blocktype': 'informativo', 'contenttype': 'text', 'typingtime': '1', 'id_block': 2849, 'id_robot': 538, 'opc_nextid': None, 'pos_y': None, 'pos_x': None, 'tag_active': None}\n",
      "Datos recibidos INSERT:\n",
      "{'name_var': 'variableQrQuickReply_|_9cd75eb1-5f87-4a23-84aa-d6de05ed56b82610', 'opc_type': 'Variable', 'var': 0, 'opc_data': 'String', 'id_robot': 538}\n",
      "intenatando consulta...\n",
      "consulta: select * from variables where name_var= 'variableQrQuickReply_|_9cd75eb1-5f87-4a23-84aa-d6de05ed56b82610' and opc_type= 'Variable' and var= '0' and opc_data= 'String' and id_robot= '538' ;\n"
     ]
    },
    {
     "name": "stderr",
     "output_type": "stream",
     "text": [
      "127.0.0.1 - - [15/Jun/2021 00:01:01] \"\u001b[37mPOST /insert/variables HTTP/1.1\u001b[0m\" 200 -\n",
      "127.0.0.1 - - [15/Jun/2021 00:01:01] \"\u001b[37mPOST /insert/bloquequickreply HTTP/1.1\u001b[0m\" 200 -\n",
      "127.0.0.1 - - [15/Jun/2021 00:01:01] \"\u001b[37mPOST /insert/variables HTTP/1.1\u001b[0m\" 200 -\n"
     ]
    },
    {
     "name": "stdout",
     "output_type": "stream",
     "text": [
      "Datos enviados INSERT:\n",
      "{'id_var': 1876, 'opc_type': 'Variable', 'opc_data': 'String', 'var': '0', 'id_robot': 538, 'name_var': 'variableQrQuickReply_|_9cd75eb1-5f87-4a23-84aa-d6de05ed56b82610'}\n",
      "Datos recibidos INSERT:\n",
      "{'contenido': 'QUICKREPLY 1', 'opciones': 'SALIDA 1', 'next_id': 'Informativo | 34fa0024-002a-4673-8b70-6419afef7d4d | 55686726-3982-4003-0323-821800355990 | ZG7udwy8rzhE5xtUnOGl', 'default_id': 'QuickReply | 9cd75eb1-5f87-4a23-84aa-d6de05ed56b8 | 96628859-0899-7537-4503-489244348545 | ZG7udwy8rzhE5xtUnOGl', 'namestate': 'QuickReply | 9cd75eb1-5f87-4a23-84aa-d6de05ed56b8 | 96628859-0899-7537-4503-489244348545 | ZG7udwy8rzhE5xtUnOGl', 'typingtime': '1', 'id_robot': 538, 'id_var': 1876, 'blocktype': 'quickReply'}\n",
      "intenatando consulta...\n",
      "consulta: select * from bloquequickreply where contenido= 'QUICKREPLY 1' and opciones= 'SALIDA 1' and next_id= 'Informativo | 34fa0024-002a-4673-8b70-6419afef7d4d | 55686726-3982-4003-0323-821800355990 | ZG7udwy8rzhE5xtUnOGl' and default_id= 'QuickReply | 9cd75eb1-5f87-4a23-84aa-d6de05ed56b8 | 96628859-0899-7537-4503-489244348545 | ZG7udwy8rzhE5xtUnOGl' and namestate= 'QuickReply | 9cd75eb1-5f87-4a23-84aa-d6de05ed56b8 | 96628859-0899-7537-4503-489244348545 | ZG7udwy8rzhE5xtUnOGl' and typingtime= '1' and id_robot= '538' and id_var= '1876' and blocktype= 'quickReply' ;\n",
      "Datos enviados INSERT:\n",
      "{'namestate': 'QuickReply | 9cd75eb1-5f87-4a23-84aa-d6de05ed56b8 | 96628859-0899-7537-4503-489244348545 | ZG7udwy8rzhE5xtUnOGl', 'contenido': 'QUICKREPLY 1', 'opciones': 'SALIDA 1', 'next_id': 'Informativo | 34fa0024-002a-4673-8b70-6419afef7d4d | 55686726-3982-4003-0323-821800355990 | ZG7udwy8rzhE5xtUnOGl', 'blocktype': 'quickReply', 'typingtime': '1', 'default_id': 'QuickReply | 9cd75eb1-5f87-4a23-84aa-d6de05ed56b8 | 96628859-0899-7537-4503-489244348545 | ZG7udwy8rzhE5xtUnOGl', 'id_var': '1876', 'id_block': 682, 'id_robot': 538, 'opc_nextid': None, 'pos_y': None, 'pos_x': None, 'tag_active': None}\n",
      "Datos recibidos INSERT:\n",
      "{'name_var': 'variableQrQuickReply_|_f962f2fb-1047-4062-bac8-798fddc79ff24320', 'opc_type': 'Variable', 'var': 0, 'opc_data': 'String', 'id_robot': 538}\n",
      "intenatando consulta...\n",
      "consulta: select * from variables where name_var= 'variableQrQuickReply_|_f962f2fb-1047-4062-bac8-798fddc79ff24320' and opc_type= 'Variable' and var= '0' and opc_data= 'String' and id_robot= '538' ;\n",
      "Datos enviados INSERT:\n",
      "{'id_var': 1877, 'opc_type': 'Variable', 'opc_data': 'String', 'var': '0', 'id_robot': 538, 'name_var': 'variableQrQuickReply_|_f962f2fb-1047-4062-bac8-798fddc79ff24320'}\n",
      "Datos recibidos INSERT:\n",
      "{'contenido': 'quickreply 2', 'opciones': 'SALIDA 2', 'next_id': 'Informativo | 34fa0024-002a-4673-8b70-6419afef7d4d | 36067394-2558-1046-0765-010229045532 | ZG7udwy8rzhE5xtUnOGl', 'default_id': 'QuickReply | f962f2fb-1047-4062-bac8-798fddc79ff2 | 96628859-0899-7537-4503-489244348545 | ZG7udwy8rzhE5xtUnOGl', 'namestate': 'QuickReply | f962f2fb-1047-4062-bac8-798fddc79ff2 | 96628859-0899-7537-4503-489244348545 | ZG7udwy8rzhE5xtUnOGl', 'typingtime': '1', 'id_robot': 538, 'id_var': 1877, 'blocktype': 'quickReply'}\n"
     ]
    },
    {
     "name": "stderr",
     "output_type": "stream",
     "text": [
      "127.0.0.1 - - [15/Jun/2021 00:01:01] \"\u001b[37mPOST /insert/bloquequickreply HTTP/1.1\u001b[0m\" 200 -\n",
      "127.0.0.1 - - [15/Jun/2021 00:01:01] \"\u001b[37mPOST /insert/variables HTTP/1.1\u001b[0m\" 200 -\n",
      "127.0.0.1 - - [15/Jun/2021 00:01:01] \"\u001b[37mPOST /insert/bloqueslide HTTP/1.1\u001b[0m\" 200 -\n"
     ]
    },
    {
     "name": "stdout",
     "output_type": "stream",
     "text": [
      "intenatando consulta...\n",
      "consulta: select * from bloquequickreply where contenido= 'quickreply 2' and opciones= 'SALIDA 2' and next_id= 'Informativo | 34fa0024-002a-4673-8b70-6419afef7d4d | 36067394-2558-1046-0765-010229045532 | ZG7udwy8rzhE5xtUnOGl' and default_id= 'QuickReply | f962f2fb-1047-4062-bac8-798fddc79ff2 | 96628859-0899-7537-4503-489244348545 | ZG7udwy8rzhE5xtUnOGl' and namestate= 'QuickReply | f962f2fb-1047-4062-bac8-798fddc79ff2 | 96628859-0899-7537-4503-489244348545 | ZG7udwy8rzhE5xtUnOGl' and typingtime= '1' and id_robot= '538' and id_var= '1877' and blocktype= 'quickReply' ;\n",
      "Datos enviados INSERT:\n",
      "{'namestate': 'QuickReply | f962f2fb-1047-4062-bac8-798fddc79ff2 | 96628859-0899-7537-4503-489244348545 | ZG7udwy8rzhE5xtUnOGl', 'contenido': 'quickreply 2', 'opciones': 'SALIDA 2', 'next_id': 'Informativo | 34fa0024-002a-4673-8b70-6419afef7d4d | 36067394-2558-1046-0765-010229045532 | ZG7udwy8rzhE5xtUnOGl', 'blocktype': 'quickReply', 'typingtime': '1', 'default_id': 'QuickReply | f962f2fb-1047-4062-bac8-798fddc79ff2 | 96628859-0899-7537-4503-489244348545 | ZG7udwy8rzhE5xtUnOGl', 'id_var': '1877', 'id_block': 683, 'id_robot': 538, 'opc_nextid': None, 'pos_y': None, 'pos_x': None, 'tag_active': None}\n",
      "Datos recibidos INSERT:\n",
      "{'name_var': 'undefinedCarrusel_|_cce128da-fc3c-4ab8-8733-0f93dff9b0ca1394', 'opc_type': 'Variable', 'var': 0, 'opc_data': 'String', 'id_robot': 538}\n",
      "intenatando consulta...\n",
      "consulta: select * from variables where name_var= 'undefinedCarrusel_|_cce128da-fc3c-4ab8-8733-0f93dff9b0ca1394' and opc_type= 'Variable' and var= '0' and opc_data= 'String' and id_robot= '538' ;\n",
      "Datos enviados INSERT:\n",
      "{'id_var': 1878, 'opc_type': 'Variable', 'opc_data': 'String', 'var': '0', 'id_robot': 538, 'name_var': 'undefinedCarrusel_|_cce128da-fc3c-4ab8-8733-0f93dff9b0ca1394'}\n",
      "Datos recibidos INSERT:\n",
      "{'namestate': 'Carrusel | cce128da-fc3c-4ab8-8733-0f93dff9b0ca | 55686726-3982-4003-0323-821800355990 | ZG7udwy8rzhE5xtUnOGl', 'blocktype': 'slide', 'typingtime': '1', 'default_id': 'Carrusel | cce128da-fc3c-4ab8-8733-0f93dff9b0ca | 55686726-3982-4003-0323-821800355990 | ZG7udwy8rzhE5xtUnOGl', 'id_var': 1878, 'id_robot': 538}\n",
      "intenatando consulta...\n",
      "consulta: select * from bloqueslide where namestate= 'Carrusel | cce128da-fc3c-4ab8-8733-0f93dff9b0ca | 55686726-3982-4003-0323-821800355990 | ZG7udwy8rzhE5xtUnOGl' and blocktype= 'slide' and typingtime= '1' and default_id= 'Carrusel | cce128da-fc3c-4ab8-8733-0f93dff9b0ca | 55686726-3982-4003-0323-821800355990 | ZG7udwy8rzhE5xtUnOGl' and id_var= '1878' and id_robot= '538' ;\n",
      "Datos enviados INSERT:\n",
      "{'namestate': 'Carrusel | cce128da-fc3c-4ab8-8733-0f93dff9b0ca | 55686726-3982-4003-0323-821800355990 | ZG7udwy8rzhE5xtUnOGl', 'next_id': None, 'blocktype': 'slide', 'typingtime': '1', 'default_id': 'Carrusel | cce128da-fc3c-4ab8-8733-0f93dff9b0ca | 55686726-3982-4003-0323-821800355990 | ZG7udwy8rzhE5xtUnOGl', 'id_var': '1878', 'id_block': 566, 'id_robot': 538, 'opc_nextid': None, 'pos_y': None, 'pos_x': None, 'opc_elm': None, 'tag_active': None}\n",
      "Datos recibidos INSERT:\n",
      "{'title': 'Titulo 1', 'subtitle': 'Subtitulo 1', 'image_url': 'https://jalisco.quadratin.com.mx/www/wp-content/uploads/2020/11/grupo-firme-1-1160x700.jpg', 'blocktype': 'slide', 'id_block': 566}\n"
     ]
    },
    {
     "name": "stderr",
     "output_type": "stream",
     "text": [
      "127.0.0.1 - - [15/Jun/2021 00:01:01] \"\u001b[37mPOST /insert/elementos HTTP/1.1\u001b[0m\" 200 -\n",
      "127.0.0.1 - - [15/Jun/2021 00:01:01] \"\u001b[37mPOST /insert/botones HTTP/1.1\u001b[0m\" 200 -\n",
      "127.0.0.1 - - [15/Jun/2021 00:01:01] \"\u001b[37mPOST /insert/botones HTTP/1.1\u001b[0m\" 200 -\n"
     ]
    },
    {
     "name": "stdout",
     "output_type": "stream",
     "text": [
      "intenatando consulta...\n",
      "consulta: select * from elementos where title= 'Titulo 1' and subtitle= 'Subtitulo 1' and image_url= 'https://jalisco.quadratin.com.mx/www/wp-content/uploads/2020/11/grupo-firme-1-1160x700.jpg' and blocktype= 'slide' and id_block= '566' ;\n",
      "Datos enviados INSERT:\n",
      "{'blocktype': 'slide', 'title': 'Titulo 1', 'image_url': 'https://jalisco.quadratin.com.mx/www/wp-content/uploads/2020/11/grupo-firme-1-1160x700.jpg', 'subtitle': 'Subtitulo 1', 'id_block': 566, 'id_elements': 967}\n",
      "Datos recibidos INSERT:\n",
      "{'id_elemento': '967', 'titlebutton': 'Salida 1', 'typebutton': 'postback', 'contentbutton': 'Informativo | 72991cca-745b-4886-8ac4-c92d730c134a | ZG7udwy8rzhE5xtUnOGl', 'opc_nextid': 'Informativo | 72991cca-745b-4886-8ac4-c92d730c134a | ZG7udwy8rzhE5xtUnOGl'}\n",
      "intenatando consulta...\n",
      "consulta: select * from botones where id_elemento= '967' and titlebutton= 'Salida 1' and typebutton= 'postback' and contentbutton= 'Informativo | 72991cca-745b-4886-8ac4-c92d730c134a | ZG7udwy8rzhE5xtUnOGl' and opc_nextid= 'Informativo | 72991cca-745b-4886-8ac4-c92d730c134a | ZG7udwy8rzhE5xtUnOGl' ;\n",
      "Datos enviados INSERT:\n",
      "{'id_elemento': '967', 'titlebutton': 'Salida 1', 'typebutton': 'postback', 'contentbutton': 'Informativo | 72991cca-745b-4886-8ac4-c92d730c134a | ZG7udwy8rzhE5xtUnOGl', 'id_boton': 1738, 'opc_nextid': 'Informativo | 72991cca-745b-4886-8ac4-c92d730c134a | ZG7udwy8rzhE5xtUnOGl'}\n",
      "Datos recibidos INSERT:\n",
      "{'id_elemento': '967', 'titlebutton': 'Facebookkkk', 'typebutton': 'postback', 'contentbutton': 'Input prueba carrusel 2 | 3e82e3b7-d8da-4955-aff4-9bcbee291db6 | 55686726-3982-4003-0323-821800355990 | ZG7udwy8rzhE5xtUnOGl', 'opc_nextid': 'Input prueba carrusel 2 | 3e82e3b7-d8da-4955-aff4-9bcbee291db6 | 55686726-3982-4003-0323-821800355990 | ZG7udwy8rzhE5xtUnOGl'}\n",
      "intenatando consulta...\n",
      "consulta: select * from botones where id_elemento= '967' and titlebutton= 'Facebookkkk' and typebutton= 'postback' and contentbutton= 'Input prueba carrusel 2 | 3e82e3b7-d8da-4955-aff4-9bcbee291db6 | 55686726-3982-4003-0323-821800355990 | ZG7udwy8rzhE5xtUnOGl' and opc_nextid= 'Input prueba carrusel 2 | 3e82e3b7-d8da-4955-aff4-9bcbee291db6 | 55686726-3982-4003-0323-821800355990 | ZG7udwy8rzhE5xtUnOGl' ;\n",
      "Datos enviados INSERT:\n",
      "{'id_elemento': '967', 'titlebutton': 'Facebookkkk', 'typebutton': 'postback', 'contentbutton': 'Input prueba carrusel 2 | 3e82e3b7-d8da-4955-aff4-9bcbee291db6 | 55686726-3982-4003-0323-821800355990 | ZG7udwy8rzhE5xtUnOGl', 'id_boton': 1739, 'opc_nextid': 'Input prueba carrusel 2 | 3e82e3b7-d8da-4955-aff4-9bcbee291db6 | 55686726-3982-4003-0323-821800355990 | ZG7udwy8rzhE5xtUnOGl'}\n"
     ]
    },
    {
     "name": "stderr",
     "output_type": "stream",
     "text": [
      "127.0.0.1 - - [15/Jun/2021 00:01:01] \"\u001b[37mPOST /insert/bloqueinformativo HTTP/1.1\u001b[0m\" 200 -\n",
      "127.0.0.1 - - [15/Jun/2021 00:01:01] \"\u001b[37mPOST /insert/variables HTTP/1.1\u001b[0m\" 200 -\n"
     ]
    },
    {
     "name": "stdout",
     "output_type": "stream",
     "text": [
      "Datos recibidos INSERT:\n",
      "{'next_id': 'Carrusel | cce128da-fc3c-4ab8-8733-0f93dff9b0ca | 55686726-3982-4003-0323-821800355990 | ZG7udwy8rzhE5xtUnOGl', 'namestate': 'Informativo | 34fa0024-002a-4673-8b70-6419afef7d4d | 55686726-3982-4003-0323-821800355990 | ZG7udwy8rzhE5xtUnOGl', 'contenido': 'Este es el carrusel prueba', 'contenttype': 'text', 'typingtime': '1', 'id_robot': 538, 'blocktype': 'informativo'}\n",
      "intenatando consulta...\n",
      "consulta: select * from bloqueinformativo where next_id= 'Carrusel | cce128da-fc3c-4ab8-8733-0f93dff9b0ca | 55686726-3982-4003-0323-821800355990 | ZG7udwy8rzhE5xtUnOGl' and namestate= 'Informativo | 34fa0024-002a-4673-8b70-6419afef7d4d | 55686726-3982-4003-0323-821800355990 | ZG7udwy8rzhE5xtUnOGl' and contenido= 'Este es el carrusel prueba' and contenttype= 'text' and typingtime= '1' and id_robot= '538' and blocktype= 'informativo' ;\n",
      "Datos enviados INSERT:\n",
      "{'namestate': 'Informativo | 34fa0024-002a-4673-8b70-6419afef7d4d | 55686726-3982-4003-0323-821800355990 | ZG7udwy8rzhE5xtUnOGl', 'contenido': 'Este es el carrusel prueba', 'next_id': 'Carrusel | cce128da-fc3c-4ab8-8733-0f93dff9b0ca | 55686726-3982-4003-0323-821800355990 | ZG7udwy8rzhE5xtUnOGl', 'blocktype': 'informativo', 'contenttype': 'text', 'typingtime': '1', 'id_block': 2850, 'id_robot': 538, 'opc_nextid': None, 'pos_y': None, 'pos_x': None, 'tag_active': None}\n",
      "Datos recibidos INSERT:\n",
      "{'name_var': 'undefinedInput_prueba_carrusel_2_|_3e82e3b7-d8da-4955-aff4-9bcbee291db65698', 'opc_type': 'Variable', 'var': 0, 'opc_data': 'String', 'id_robot': 538}\n",
      "intenatando consulta...\n",
      "consulta: select * from variables where name_var= 'undefinedInput_prueba_carrusel_2_|_3e82e3b7-d8da-4955-aff4-9bcbee291db65698' and opc_type= 'Variable' and var= '0' and opc_data= 'String' and id_robot= '538' ;\n",
      "Datos enviados INSERT:\n",
      "{'id_var': 1879, 'opc_type': 'Variable', 'opc_data': 'String', 'var': '0', 'id_robot': 538, 'name_var': 'undefinedInput_prueba_carrusel_2_|_3e82e3b7-d8da-4955-aff4-9bcbee291db65698'}\n",
      "Datos recibidos INSERT:\n",
      "{'next_id': 'Informativo | 72991cca-745b-4886-8ac4-c92d730c134a | ZG7udwy8rzhE5xtUnOGl', 'default_id': 'Input prueba carrusel 2 | 3e82e3b7-d8da-4955-aff4-9bcbee291db6 | 55686726-3982-4003-0323-821800355990 | ZG7udwy8rzhE5xtUnOGl', 'namestate': 'Input prueba carrusel 2 | 3e82e3b7-d8da-4955-aff4-9bcbee291db6 | 55686726-3982-4003-0323-821800355990 | ZG7udwy8rzhE5xtUnOGl', 'contenido': 'Ingresa tu email o no podre despedirme', 'typingtime': '1', 'validacion': '[^@]+@[^@]+\\\\.[^@]+', 'id_robot': 538, 'id_var': 1879, 'blocktype': 'input'}\n",
      "intenatando consulta...\n",
      "consulta: select * from bloqueinput where next_id= 'Informativo | 72991cca-745b-4886-8ac4-c92d730c134a | ZG7udwy8rzhE5xtUnOGl' and default_id= 'Input prueba carrusel 2 | 3e82e3b7-d8da-4955-aff4-9bcbee291db6 | 55686726-3982-4003-0323-821800355990 | ZG7udwy8rzhE5xtUnOGl' and namestate= 'Input prueba carrusel 2 | 3e82e3b7-d8da-4955-aff4-9bcbee291db6 | 55686726-3982-4003-0323-821800355990 | ZG7udwy8rzhE5xtUnOGl' and contenido= 'Ingresa tu email o no podre despedirme' and typingtime= '1' and validacion= '[^@]+@[^@]+\\.[^@]+' and id_robot= '538' and id_var= '1879' and blocktype= 'input' ;\n"
     ]
    },
    {
     "name": "stderr",
     "output_type": "stream",
     "text": [
      "127.0.0.1 - - [15/Jun/2021 00:01:02] \"\u001b[37mPOST /insert/bloqueinput HTTP/1.1\u001b[0m\" 200 -\n",
      "127.0.0.1 - - [15/Jun/2021 00:01:02] \"\u001b[37mPOST /insert/variables HTTP/1.1\u001b[0m\" 200 -\n",
      "127.0.0.1 - - [15/Jun/2021 00:01:02] \"\u001b[37mPOST /insert/bloqueslide HTTP/1.1\u001b[0m\" 200 -\n"
     ]
    },
    {
     "name": "stdout",
     "output_type": "stream",
     "text": [
      "Datos enviados INSERT:\n",
      "{'namestate': 'Input prueba carrusel 2 | 3e82e3b7-d8da-4955-aff4-9bcbee291db6 | 55686726-3982-4003-0323-821800355990 | ZG7udwy8rzhE5xtUnOGl', 'contenido': 'Ingresa tu email o no podre despedirme', 'next_id': 'Informativo | 72991cca-745b-4886-8ac4-c92d730c134a | ZG7udwy8rzhE5xtUnOGl', 'blocktype': 'input', 'contenttype': None, 'typingtime': '1', 'validacion': '[^@]+@[^@]+\\\\.[^@]+', 'default_id': 'Input prueba carrusel 2 | 3e82e3b7-d8da-4955-aff4-9bcbee291db6 | 55686726-3982-4003-0323-821800355990 | ZG7udwy8rzhE5xtUnOGl', 'id_var': '1879', 'id_block': 402, 'id_robot': 538, 'opc_nextid': None, 'pos_y': None, 'pos_x': None, 'tag_active': None}\n",
      "Datos recibidos INSERT:\n",
      "{'name_var': 'undefinedCarrusel_|_cce128da-fc3c-4ab8-8733-0f93dff9b0ca3150', 'opc_type': 'Variable', 'var': 0, 'opc_data': 'String', 'id_robot': 538}\n",
      "intenatando consulta...\n",
      "consulta: select * from variables where name_var= 'undefinedCarrusel_|_cce128da-fc3c-4ab8-8733-0f93dff9b0ca3150' and opc_type= 'Variable' and var= '0' and opc_data= 'String' and id_robot= '538' ;\n",
      "Datos enviados INSERT:\n",
      "{'id_var': 1880, 'opc_type': 'Variable', 'opc_data': 'String', 'var': '0', 'id_robot': 538, 'name_var': 'undefinedCarrusel_|_cce128da-fc3c-4ab8-8733-0f93dff9b0ca3150'}\n",
      "Datos recibidos INSERT:\n",
      "{'namestate': 'Carrusel | cce128da-fc3c-4ab8-8733-0f93dff9b0ca | 36067394-2558-1046-0765-010229045532 | ZG7udwy8rzhE5xtUnOGl', 'blocktype': 'slide', 'typingtime': '1', 'default_id': 'Carrusel | cce128da-fc3c-4ab8-8733-0f93dff9b0ca | 36067394-2558-1046-0765-010229045532 | ZG7udwy8rzhE5xtUnOGl', 'id_var': 1880, 'id_robot': 538}\n",
      "intenatando consulta...\n",
      "consulta: select * from bloqueslide where namestate= 'Carrusel | cce128da-fc3c-4ab8-8733-0f93dff9b0ca | 36067394-2558-1046-0765-010229045532 | ZG7udwy8rzhE5xtUnOGl' and blocktype= 'slide' and typingtime= '1' and default_id= 'Carrusel | cce128da-fc3c-4ab8-8733-0f93dff9b0ca | 36067394-2558-1046-0765-010229045532 | ZG7udwy8rzhE5xtUnOGl' and id_var= '1880' and id_robot= '538' ;\n",
      "Datos enviados INSERT:\n",
      "{'namestate': 'Carrusel | cce128da-fc3c-4ab8-8733-0f93dff9b0ca | 36067394-2558-1046-0765-010229045532 | ZG7udwy8rzhE5xtUnOGl', 'next_id': None, 'blocktype': 'slide', 'typingtime': '1', 'default_id': 'Carrusel | cce128da-fc3c-4ab8-8733-0f93dff9b0ca | 36067394-2558-1046-0765-010229045532 | ZG7udwy8rzhE5xtUnOGl', 'id_var': '1880', 'id_block': 567, 'id_robot': 538, 'opc_nextid': None, 'pos_y': None, 'pos_x': None, 'opc_elm': None, 'tag_active': None}\n",
      "Datos recibidos INSERT:\n",
      "{'subtitle': 'Subtitulo 1', 'title': 'Titulo 1', 'image_url': 'https://jalisco.quadratin.com.mx/www/wp-content/uploads/2020/11/grupo-firme-1-1160x700.jpg', 'blocktype': 'slide', 'id_block': 567}\n"
     ]
    },
    {
     "name": "stderr",
     "output_type": "stream",
     "text": [
      "127.0.0.1 - - [15/Jun/2021 00:01:02] \"\u001b[37mPOST /insert/elementos HTTP/1.1\u001b[0m\" 200 -\n",
      "127.0.0.1 - - [15/Jun/2021 00:01:02] \"\u001b[37mPOST /insert/botones HTTP/1.1\u001b[0m\" 200 -\n",
      "127.0.0.1 - - [15/Jun/2021 00:01:02] \"\u001b[37mPOST /insert/botones HTTP/1.1\u001b[0m\" 200 -\n"
     ]
    },
    {
     "name": "stdout",
     "output_type": "stream",
     "text": [
      "intenatando consulta...\n",
      "consulta: select * from elementos where subtitle= 'Subtitulo 1' and title= 'Titulo 1' and image_url= 'https://jalisco.quadratin.com.mx/www/wp-content/uploads/2020/11/grupo-firme-1-1160x700.jpg' and blocktype= 'slide' and id_block= '567' ;\n",
      "Datos enviados INSERT:\n",
      "{'blocktype': 'slide', 'title': 'Titulo 1', 'image_url': 'https://jalisco.quadratin.com.mx/www/wp-content/uploads/2020/11/grupo-firme-1-1160x700.jpg', 'subtitle': 'Subtitulo 1', 'id_block': 567, 'id_elements': 968}\n",
      "Datos recibidos INSERT:\n",
      "{'id_elemento': '968', 'titlebutton': 'Salida 1', 'typebutton': 'postback', 'contentbutton': 'Informativo | 72991cca-745b-4886-8ac4-c92d730c134a | ZG7udwy8rzhE5xtUnOGl', 'opc_nextid': 'Informativo | 72991cca-745b-4886-8ac4-c92d730c134a | ZG7udwy8rzhE5xtUnOGl'}\n",
      "intenatando consulta...\n",
      "consulta: select * from botones where id_elemento= '968' and titlebutton= 'Salida 1' and typebutton= 'postback' and contentbutton= 'Informativo | 72991cca-745b-4886-8ac4-c92d730c134a | ZG7udwy8rzhE5xtUnOGl' and opc_nextid= 'Informativo | 72991cca-745b-4886-8ac4-c92d730c134a | ZG7udwy8rzhE5xtUnOGl' ;\n",
      "Datos enviados INSERT:\n",
      "{'id_elemento': '968', 'titlebutton': 'Salida 1', 'typebutton': 'postback', 'contentbutton': 'Informativo | 72991cca-745b-4886-8ac4-c92d730c134a | ZG7udwy8rzhE5xtUnOGl', 'id_boton': 1740, 'opc_nextid': 'Informativo | 72991cca-745b-4886-8ac4-c92d730c134a | ZG7udwy8rzhE5xtUnOGl'}\n",
      "Datos recibidos INSERT:\n",
      "{'id_elemento': '968', 'titlebutton': 'Facebookkkk', 'typebutton': 'postback', 'contentbutton': 'Input prueba carrusel 2 | 3e82e3b7-d8da-4955-aff4-9bcbee291db6 | 36067394-2558-1046-0765-010229045532 | ZG7udwy8rzhE5xtUnOGl', 'opc_nextid': 'Input prueba carrusel 2 | 3e82e3b7-d8da-4955-aff4-9bcbee291db6 | 36067394-2558-1046-0765-010229045532 | ZG7udwy8rzhE5xtUnOGl'}\n",
      "intenatando consulta...\n",
      "consulta: select * from botones where id_elemento= '968' and titlebutton= 'Facebookkkk' and typebutton= 'postback' and contentbutton= 'Input prueba carrusel 2 | 3e82e3b7-d8da-4955-aff4-9bcbee291db6 | 36067394-2558-1046-0765-010229045532 | ZG7udwy8rzhE5xtUnOGl' and opc_nextid= 'Input prueba carrusel 2 | 3e82e3b7-d8da-4955-aff4-9bcbee291db6 | 36067394-2558-1046-0765-010229045532 | ZG7udwy8rzhE5xtUnOGl' ;\n",
      "Datos enviados INSERT:\n",
      "{'id_elemento': '968', 'titlebutton': 'Facebookkkk', 'typebutton': 'postback', 'contentbutton': 'Input prueba carrusel 2 | 3e82e3b7-d8da-4955-aff4-9bcbee291db6 | 36067394-2558-1046-0765-010229045532 | ZG7udwy8rzhE5xtUnOGl', 'id_boton': 1741, 'opc_nextid': 'Input prueba carrusel 2 | 3e82e3b7-d8da-4955-aff4-9bcbee291db6 | 36067394-2558-1046-0765-010229045532 | ZG7udwy8rzhE5xtUnOGl'}\n"
     ]
    },
    {
     "name": "stderr",
     "output_type": "stream",
     "text": [
      "127.0.0.1 - - [15/Jun/2021 00:01:02] \"\u001b[37mPOST /insert/bloqueinformativo HTTP/1.1\u001b[0m\" 200 -\n"
     ]
    },
    {
     "name": "stdout",
     "output_type": "stream",
     "text": [
      "Datos recibidos INSERT:\n",
      "{'next_id': 'Carrusel | cce128da-fc3c-4ab8-8733-0f93dff9b0ca | 36067394-2558-1046-0765-010229045532 | ZG7udwy8rzhE5xtUnOGl', 'namestate': 'Informativo | 34fa0024-002a-4673-8b70-6419afef7d4d | 36067394-2558-1046-0765-010229045532 | ZG7udwy8rzhE5xtUnOGl', 'contenido': 'Este es el carrusel prueba', 'contenttype': 'text', 'typingtime': '1', 'id_robot': 538, 'blocktype': 'informativo'}\n",
      "intenatando consulta...\n",
      "consulta: select * from bloqueinformativo where next_id= 'Carrusel | cce128da-fc3c-4ab8-8733-0f93dff9b0ca | 36067394-2558-1046-0765-010229045532 | ZG7udwy8rzhE5xtUnOGl' and namestate= 'Informativo | 34fa0024-002a-4673-8b70-6419afef7d4d | 36067394-2558-1046-0765-010229045532 | ZG7udwy8rzhE5xtUnOGl' and contenido= 'Este es el carrusel prueba' and contenttype= 'text' and typingtime= '1' and id_robot= '538' and blocktype= 'informativo' ;\n",
      "Datos enviados INSERT:\n",
      "{'namestate': 'Informativo | 34fa0024-002a-4673-8b70-6419afef7d4d | 36067394-2558-1046-0765-010229045532 | ZG7udwy8rzhE5xtUnOGl', 'contenido': 'Este es el carrusel prueba', 'next_id': 'Carrusel | cce128da-fc3c-4ab8-8733-0f93dff9b0ca | 36067394-2558-1046-0765-010229045532 | ZG7udwy8rzhE5xtUnOGl', 'blocktype': 'informativo', 'contenttype': 'text', 'typingtime': '1', 'id_block': 2851, 'id_robot': 538, 'opc_nextid': None, 'pos_y': None, 'pos_x': None, 'tag_active': None}\n",
      "Datos recibidos INSERT:\n",
      "{'name_var': 'undefinedInput_prueba_carrusel_2_|_3e82e3b7-d8da-4955-aff4-9bcbee291db65480', 'opc_type': 'Variable', 'var': 0, 'opc_data': 'String', 'id_robot': 538}\n",
      "intenatando consulta...\n",
      "consulta: select * from variables where name_var= 'undefinedInput_prueba_carrusel_2_|_3e82e3b7-d8da-4955-aff4-9bcbee291db65480' and opc_type= 'Variable' and var= '0' and opc_data= 'String' and id_robot= '538' ;\n"
     ]
    },
    {
     "name": "stderr",
     "output_type": "stream",
     "text": [
      "127.0.0.1 - - [15/Jun/2021 00:01:02] \"\u001b[37mPOST /insert/variables HTTP/1.1\u001b[0m\" 200 -\n",
      "127.0.0.1 - - [15/Jun/2021 00:01:02] \"\u001b[37mPOST /insert/bloqueinput HTTP/1.1\u001b[0m\" 200 -\n",
      "127.0.0.1 - - [15/Jun/2021 00:01:02] \"\u001b[37mPOST /insert/bloqueinformativo HTTP/1.1\u001b[0m\" 200 -\n"
     ]
    },
    {
     "name": "stdout",
     "output_type": "stream",
     "text": [
      "Datos enviados INSERT:\n",
      "{'id_var': 1881, 'opc_type': 'Variable', 'opc_data': 'String', 'var': '0', 'id_robot': 538, 'name_var': 'undefinedInput_prueba_carrusel_2_|_3e82e3b7-d8da-4955-aff4-9bcbee291db65480'}\n",
      "Datos recibidos INSERT:\n",
      "{'next_id': 'Informativo | 72991cca-745b-4886-8ac4-c92d730c134a | ZG7udwy8rzhE5xtUnOGl', 'default_id': 'Input prueba carrusel 2 | 3e82e3b7-d8da-4955-aff4-9bcbee291db6 | 36067394-2558-1046-0765-010229045532 | ZG7udwy8rzhE5xtUnOGl', 'namestate': 'Input prueba carrusel 2 | 3e82e3b7-d8da-4955-aff4-9bcbee291db6 | 36067394-2558-1046-0765-010229045532 | ZG7udwy8rzhE5xtUnOGl', 'contenido': 'Ingresa \"algo\"', 'typingtime': '1', 'validacion': 'algo', 'id_robot': 538, 'id_var': 1881, 'blocktype': 'input'}\n",
      "intenatando consulta...\n",
      "consulta: select * from bloqueinput where next_id= 'Informativo | 72991cca-745b-4886-8ac4-c92d730c134a | ZG7udwy8rzhE5xtUnOGl' and default_id= 'Input prueba carrusel 2 | 3e82e3b7-d8da-4955-aff4-9bcbee291db6 | 36067394-2558-1046-0765-010229045532 | ZG7udwy8rzhE5xtUnOGl' and namestate= 'Input prueba carrusel 2 | 3e82e3b7-d8da-4955-aff4-9bcbee291db6 | 36067394-2558-1046-0765-010229045532 | ZG7udwy8rzhE5xtUnOGl' and contenido= 'Ingresa \"algo\"' and typingtime= '1' and validacion= 'algo' and id_robot= '538' and id_var= '1881' and blocktype= 'input' ;\n",
      "Datos enviados INSERT:\n",
      "{'namestate': 'Input prueba carrusel 2 | 3e82e3b7-d8da-4955-aff4-9bcbee291db6 | 36067394-2558-1046-0765-010229045532 | ZG7udwy8rzhE5xtUnOGl', 'contenido': 'Ingresa \"algo\"', 'next_id': 'Informativo | 72991cca-745b-4886-8ac4-c92d730c134a | ZG7udwy8rzhE5xtUnOGl', 'blocktype': 'input', 'contenttype': None, 'typingtime': '1', 'validacion': 'algo', 'default_id': 'Input prueba carrusel 2 | 3e82e3b7-d8da-4955-aff4-9bcbee291db6 | 36067394-2558-1046-0765-010229045532 | ZG7udwy8rzhE5xtUnOGl', 'id_var': '1881', 'id_block': 403, 'id_robot': 538, 'opc_nextid': None, 'pos_y': None, 'pos_x': None, 'tag_active': None}\n",
      "Datos recibidos INSERT:\n",
      "{'next_id': 'Informativo | 98a8f39d-6761-48e7-aca7-66279cfabf40 | 96628859-0899-7537-4503-489244348545 | ZG7udwy8rzhE5xtUnOGl', 'namestate': 'Informativo | a0be25bb-4eb4-49c2-830f-6eb23d64966c | ZG7udwy8rzhE5xtUnOGl', 'contenido': 'Soy el bot 2021', 'contenttype': 'text', 'typingtime': '1', 'id_robot': 538, 'blocktype': 'informativo'}\n",
      "intenatando consulta...\n",
      "consulta: select * from bloqueinformativo where next_id= 'Informativo | 98a8f39d-6761-48e7-aca7-66279cfabf40 | 96628859-0899-7537-4503-489244348545 | ZG7udwy8rzhE5xtUnOGl' and namestate= 'Informativo | a0be25bb-4eb4-49c2-830f-6eb23d64966c | ZG7udwy8rzhE5xtUnOGl' and contenido= 'Soy el bot 2021' and contenttype= 'text' and typingtime= '1' and id_robot= '538' and blocktype= 'informativo' ;\n",
      "Datos enviados INSERT:\n",
      "{'namestate': 'Informativo | a0be25bb-4eb4-49c2-830f-6eb23d64966c | ZG7udwy8rzhE5xtUnOGl', 'contenido': 'Soy el bot 2021', 'next_id': 'Informativo | 98a8f39d-6761-48e7-aca7-66279cfabf40 | 96628859-0899-7537-4503-489244348545 | ZG7udwy8rzhE5xtUnOGl', 'blocktype': 'informativo', 'contenttype': 'text', 'typingtime': '1', 'id_block': 2852, 'id_robot': 538, 'opc_nextid': None, 'pos_y': None, 'pos_x': None, 'tag_active': None}\n",
      "Datos recibidos INSERT:\n",
      "{'next_id': 'Salida', 'namestate': 'Informativo | 72991cca-745b-4886-8ac4-c92d730c134a | ZG7udwy8rzhE5xtUnOGl', 'contenido': 'Gracias por información... Adios!', 'contenttype': 'text', 'typingtime': '1', 'id_robot': 538, 'blocktype': 'informativo'}\n"
     ]
    },
    {
     "name": "stderr",
     "output_type": "stream",
     "text": [
      "127.0.0.1 - - [15/Jun/2021 00:01:02] \"\u001b[37mPOST /insert/bloqueinformativo HTTP/1.1\u001b[0m\" 200 -\n",
      "127.0.0.1 - - [15/Jun/2021 00:01:03] \"\u001b[37mPOST /insert/bloqueinformativo HTTP/1.1\u001b[0m\" 200 -\n"
     ]
    },
    {
     "name": "stdout",
     "output_type": "stream",
     "text": [
      "intenatando consulta...\n",
      "consulta: select * from bloqueinformativo where next_id= 'Salida' and namestate= 'Informativo | 72991cca-745b-4886-8ac4-c92d730c134a | ZG7udwy8rzhE5xtUnOGl' and contenido= 'Gracias por información... Adios!' and contenttype= 'text' and typingtime= '1' and id_robot= '538' and blocktype= 'informativo' ;\n",
      "Datos enviados INSERT:\n",
      "{'namestate': 'Informativo | 72991cca-745b-4886-8ac4-c92d730c134a | ZG7udwy8rzhE5xtUnOGl', 'contenido': 'Gracias por información... Adios!', 'next_id': 'Salida', 'blocktype': 'informativo', 'contenttype': 'text', 'typingtime': '1', 'id_block': 2853, 'id_robot': 538, 'opc_nextid': None, 'pos_y': None, 'pos_x': None, 'tag_active': None}\n",
      "Datos recibidos INSERT:\n",
      "{'next_id': '', 'namestate': 'Salida', 'contenido': '', 'contenttype': 'text', 'typingtime': 3, 'id_robot': 538, 'blocktype': 'informativo'}\n",
      "intenatando consulta...\n",
      "consulta: select * from bloqueinformativo where next_id= '' and namestate= 'Salida' and contenido= '' and contenttype= 'text' and typingtime= '3' and id_robot= '538' and blocktype= 'informativo' ;\n",
      "Datos enviados INSERT:\n",
      "{'namestate': 'Salida', 'contenido': '', 'next_id': '', 'blocktype': 'informativo', 'contenttype': 'text', 'typingtime': '3', 'id_block': 2854, 'id_robot': 538, 'opc_nextid': None, 'pos_y': None, 'pos_x': None, 'tag_active': None}\n"
     ]
    },
    {
     "name": "stderr",
     "output_type": "stream",
     "text": [
      "127.0.0.1 - - [15/Jun/2021 00:04:56] \"\u001b[37mGET /select/robots HTTP/1.1\u001b[0m\" 200 -\n",
      "127.0.0.1 - - [15/Jun/2021 00:04:56] \"\u001b[37mGET /select/bloqueslide HTTP/1.1\u001b[0m\" 200 -\n",
      "127.0.0.1 - - [15/Jun/2021 00:04:56] \"\u001b[37mGET /select/elementos HTTP/1.1\u001b[0m\" 200 -\n"
     ]
    },
    {
     "name": "stdout",
     "output_type": "stream",
     "text": [
      "Datos recibidos SELECT:\n",
      "{'name_robot': 'CHATBOT TT 2020 A056', 'id_face': '100750202253729', 'block_ini': 'Informativo | d9897d01-e0ce-44bd-ba3d-22973a7d74fd | bSkwpaFVCmMXS8G2PR6k', 'type_blocki': 'informativo', 'access_token': 'EAALZCCZBzPwfkBACf3gal1zeLIkZAxC8ecQ6qmRixvqGJJXtfQvE7S2zNpkdf0BpKR79BZAOawgUcm8IQN9NecBZB25Q8ZCWDFAH50ihRis7XfHm4UM3bYNqgmmKZCKkLnhGGxf2FO8eLr8CVkgp3PgJWiBQVKTO7DRtAZA1IjaLIk1xGTZBunRJ6', 'id_user': 'charlygoldcruz@gmail.com', 'api_nlp': 'http://localhost:8282/'}\n",
      "intenatando consulta...\n",
      "consulta: select * from robots where id_face = '100750202253729';\n",
      "Datos enviados SELECT:\n",
      "{'name_robot': 'CHATBOT TT 2020 A056', 'id_face': '100750202253729', 'block_ini': 'Informativo | d9897d01-e0ce-44bd-ba3d-22973a7d74fd | bSkwpaFVCmMXS8G2PR6k', 'type_blocki': 'informativo', 'access_token': 'EAALZCCZBzPwfkBACf3gal1zeLIkZAxC8ecQ6qmRixvqGJJXtfQvE7S2zNpkdf0BpKR79BZAOawgUcm8IQN9NecBZB25Q8ZCWDFAH50ihRis7XfHm4UM3bYNqgmmKZCKkLnhGGxf2FO8eLr8CVkgp3PgJWiBQVKTO7DRtAZA1IjaLIk1xGTZBunRJ6', 'api_nlp': 'http://localhost:8282/', 'id_robot': 539, 'id_user': 'charlygoldcruz@gmail.com'}\n",
      "Datos recibidos SELECT:\n",
      "{'id_robot': '539'}\n",
      "intenatando consulta...\n",
      "consulta: select * from bloqueslide where id_robot= '539' ;\n",
      "Datos enviados SELECT:\n",
      "[{'namestate': 'Carrusel | fdd978d8-d9e9-4f74-8d01-07d1a43ecba8 | 98525253-9080-3718-4541-185145979160 | bSkwpaFVCmMXS8G2PR6k', 'next_id': 'Informativo | eb6262bf-2b65-4dc7-9d6a-9a8544083dde | bSkwpaFVCmMXS8G2PR6k,Informativo | eb6262bf-2b65-4dc7-9d6a-9a8544083dde | bSkwpaFVCmMXS8G2PR6k,www.facebook.com,www.ABC.com,Informativo | eb6262bf-2b65-4dc7-9d6a-9a8544083dde | bSkwpaFVCmMXS8G2PR6k,Informativo | eb6262bf-2b65-4dc7-9d6a-9a8544083dde | bSkwpaFVCmMXS8G2PR6k', 'blocktype': 'slide', 'typingtime': '1', 'default_id': 'Carrusel | fdd978d8-d9e9-4f74-8d01-07d1a43ecba8 | 98525253-9080-3718-4541-185145979160 | bSkwpaFVCmMXS8G2PR6k', 'id_var': '1868', 'id_block': 562, 'id_robot': 539, 'opc_nextid': None, 'pos_y': None, 'pos_x': None, 'opc_elm': None, 'tag_active': None}, {'namestate': 'Carrusel | cce128da-fc3c-4ab8-8733-0f93dff9b0ca | 19627070-4044-4254-7133-869533412022 | bSkwpaFVCmMXS8G2PR6k', 'next_id': 'Informativo | 7e74c6f6-46db-4b00-b8b3-07aac064e1de | 98525253-9080-3718-4541-185145979160 | bSkwpaFVCmMXS8G2PR6k,Input prueba carrusel 2 | 3e82e3b7-d8da-4955-aff4-9bcbee291db6 | 19627070-4044-4254-7133-869533412022 | bSkwpaFVCmMXS8G2PR6k', 'blocktype': 'slide', 'typingtime': '1', 'default_id': 'Carrusel | cce128da-fc3c-4ab8-8733-0f93dff9b0ca | 19627070-4044-4254-7133-869533412022 | bSkwpaFVCmMXS8G2PR6k', 'id_var': '1869', 'id_block': 563, 'id_robot': 539, 'opc_nextid': None, 'pos_y': None, 'pos_x': None, 'opc_elm': None, 'tag_active': None}, {'namestate': 'Carrusel | 5aaf3158-308e-4b01-9283-f01f32d587c9 | 07418629-1549-9289-4157-116148457825 | bSkwpaFVCmMXS8G2PR6k', 'next_id': 'QuickReply | 9cd75eb1-5f87-4a23-84aa-d6de05ed56b8 | 07418629-1549-9289-4157-116148457825 | bSkwpaFVCmMXS8G2PR6k,QuickReply | f962f2fb-1047-4062-bac8-798fddc79ff2 | 07418629-1549-9289-4157-116148457825 | bSkwpaFVCmMXS8G2PR6k', 'blocktype': 'slide', 'typingtime': '1', 'default_id': 'Carrusel | 5aaf3158-308e-4b01-9283-f01f32d587c9 | 07418629-1549-9289-4157-116148457825 | bSkwpaFVCmMXS8G2PR6k', 'id_var': '1871', 'id_block': 564, 'id_robot': 539, 'opc_nextid': None, 'pos_y': None, 'pos_x': None, 'opc_elm': None, 'tag_active': None}]\n",
      "Datos recibidos SELECT:\n",
      "{'id_block': 562}\n",
      "intenatando consulta...\n",
      "consulta: select * from elementos where id_block= '562' ;\n",
      "Datos enviados SELECT:\n",
      "[{'blocktype': 'slide', 'title': 'Titulo 1 Plantilla 1', 'image_url': 'https://image.freepik.com/vector-gratis/caracter-banda-musica-ilustracion-dibujos-animados-plana_338371-15.jpg', 'subtitle': 'S1', 'id_block': 562, 'id_elements': 961}, {'blocktype': 'slide', 'title': 'P2', 'image_url': 'https://www.muycomputer.com/wp-content/uploads/2020/04/Logitech-G203-rat%C3%B3n-gaming-barato-e1587628136683.jpg', 'subtitle': 'S2', 'id_block': 562, 'id_elements': 962}, {'blocktype': 'slide', 'title': 'Plantilla 3', 'image_url': 'https://mmo.aiircdn.com/297/5f6a04de8d671.jpg', 'subtitle': 'Subtitulo 3', 'id_block': 562, 'id_elements': 963}]\n"
     ]
    },
    {
     "name": "stderr",
     "output_type": "stream",
     "text": [
      "127.0.0.1 - - [15/Jun/2021 00:04:56] \"\u001b[37mGET /select/elementos HTTP/1.1\u001b[0m\" 200 -\n",
      "127.0.0.1 - - [15/Jun/2021 00:04:56] \"\u001b[37mGET /select/elementos HTTP/1.1\u001b[0m\" 200 -\n"
     ]
    },
    {
     "name": "stdout",
     "output_type": "stream",
     "text": [
      "Datos recibidos SELECT:\n",
      "{'id_block': 563}\n",
      "intenatando consulta...\n",
      "consulta: select * from elementos where id_block= '563' ;\n",
      "Datos enviados SELECT:\n",
      "{'blocktype': 'slide', 'title': 'Titulo 1', 'image_url': 'https://jalisco.quadratin.com.mx/www/wp-content/uploads/2020/11/grupo-firme-1-1160x700.jpg', 'subtitle': 'Subtitulo 1', 'id_block': 563, 'id_elements': 964}\n",
      "Datos recibidos SELECT:\n",
      "{'id_block': 564}\n",
      "intenatando consulta...\n",
      "consulta: select * from elementos where id_block= '564' ;\n",
      "Datos enviados SELECT:\n",
      "{'blocktype': 'slide', 'title': 'Titulo 1', 'image_url': 'https://sitechecker.pro/wp-content/uploads/2017/12/URL-meaning.png', 'subtitle': 'Subtitulo 1', 'id_block': 564, 'id_elements': 965}\n"
     ]
    },
    {
     "name": "stderr",
     "output_type": "stream",
     "text": [
      "127.0.0.1 - - [15/Jun/2021 00:04:56] \"\u001b[37mPOST /insert/variables HTTP/1.1\u001b[0m\" 200 -\n",
      "127.0.0.1 - - [15/Jun/2021 00:04:57] \"\u001b[37mPOST /insert/bloqueslide HTTP/1.1\u001b[0m\" 200 -\n"
     ]
    },
    {
     "name": "stdout",
     "output_type": "stream",
     "text": [
      "Datos recibidos INSERT:\n",
      "{'name_var': 'varCarrusel_|_fdd978d8-d9e9-4f74-8d01-07d1a43ecba81096', 'opc_type': 'Variable', 'var': 0, 'opc_data': 'String', 'id_robot': 539}\n",
      "intenatando consulta...\n",
      "consulta: select * from variables where name_var= 'varCarrusel_|_fdd978d8-d9e9-4f74-8d01-07d1a43ecba81096' and opc_type= 'Variable' and var= '0' and opc_data= 'String' and id_robot= '539' ;\n",
      "Datos enviados INSERT:\n",
      "{'id_var': 1882, 'opc_type': 'Variable', 'opc_data': 'String', 'var': '0', 'id_robot': 539, 'name_var': 'varCarrusel_|_fdd978d8-d9e9-4f74-8d01-07d1a43ecba81096'}\n",
      "Datos recibidos INSERT:\n",
      "{'namestate': 'Carrusel | fdd978d8-d9e9-4f74-8d01-07d1a43ecba8 | 98525253-9080-3718-4541-185145979160 | bSkwpaFVCmMXS8G2PR6k', 'blocktype': 'slide', 'typingtime': '1', 'default_id': 'Carrusel | fdd978d8-d9e9-4f74-8d01-07d1a43ecba8 | 98525253-9080-3718-4541-185145979160 | bSkwpaFVCmMXS8G2PR6k', 'id_var': 1882, 'id_robot': 539}\n",
      "intenatando consulta...\n",
      "consulta: select * from bloqueslide where namestate= 'Carrusel | fdd978d8-d9e9-4f74-8d01-07d1a43ecba8 | 98525253-9080-3718-4541-185145979160 | bSkwpaFVCmMXS8G2PR6k' and blocktype= 'slide' and typingtime= '1' and default_id= 'Carrusel | fdd978d8-d9e9-4f74-8d01-07d1a43ecba8 | 98525253-9080-3718-4541-185145979160 | bSkwpaFVCmMXS8G2PR6k' and id_var= '1882' and id_robot= '539' ;\n",
      "Datos enviados INSERT:\n",
      "{'namestate': 'Carrusel | fdd978d8-d9e9-4f74-8d01-07d1a43ecba8 | 98525253-9080-3718-4541-185145979160 | bSkwpaFVCmMXS8G2PR6k', 'next_id': None, 'blocktype': 'slide', 'typingtime': '1', 'default_id': 'Carrusel | fdd978d8-d9e9-4f74-8d01-07d1a43ecba8 | 98525253-9080-3718-4541-185145979160 | bSkwpaFVCmMXS8G2PR6k', 'id_var': '1882', 'id_block': 568, 'id_robot': 539, 'opc_nextid': None, 'pos_y': None, 'pos_x': None, 'opc_elm': None, 'tag_active': None}\n",
      "Datos recibidos INSERT:\n",
      "{'subtitle': 'S1', 'image_url': 'https://image.freepik.com/vector-gratis/caracter-banda-musica-ilustracion-dibujos-animados-plana_338371-15.jpg', 'title': 'Titulo 1 Plantilla 1', 'blocktype': 'slide', 'id_block': 568}\n"
     ]
    },
    {
     "name": "stderr",
     "output_type": "stream",
     "text": [
      "127.0.0.1 - - [15/Jun/2021 00:04:57] \"\u001b[37mPOST /insert/elementos HTTP/1.1\u001b[0m\" 200 -\n",
      "127.0.0.1 - - [15/Jun/2021 00:04:57] \"\u001b[37mPOST /insert/botones HTTP/1.1\u001b[0m\" 200 -\n",
      "127.0.0.1 - - [15/Jun/2021 00:04:57] \"\u001b[37mPOST /insert/botones HTTP/1.1\u001b[0m\" 200 -\n"
     ]
    },
    {
     "name": "stdout",
     "output_type": "stream",
     "text": [
      "intenatando consulta...\n",
      "consulta: select * from elementos where subtitle= 'S1' and image_url= 'https://image.freepik.com/vector-gratis/caracter-banda-musica-ilustracion-dibujos-animados-plana_338371-15.jpg' and title= 'Titulo 1 Plantilla 1' and blocktype= 'slide' and id_block= '568' ;\n",
      "Datos enviados INSERT:\n",
      "{'blocktype': 'slide', 'title': 'Titulo 1 Plantilla 1', 'image_url': 'https://image.freepik.com/vector-gratis/caracter-banda-musica-ilustracion-dibujos-animados-plana_338371-15.jpg', 'subtitle': 'S1', 'id_block': 568, 'id_elements': 969}\n",
      "Datos recibidos INSERT:\n",
      "{'id_elemento': '969', 'titlebutton': 'Salida 1', 'typebutton': 'postback', 'contentbutton': 'Informativo | eb6262bf-2b65-4dc7-9d6a-9a8544083dde | bSkwpaFVCmMXS8G2PR6k', 'opc_nextid': 'Informativo | eb6262bf-2b65-4dc7-9d6a-9a8544083dde | bSkwpaFVCmMXS8G2PR6k'}\n",
      "intenatando consulta...\n",
      "consulta: select * from botones where id_elemento= '969' and titlebutton= 'Salida 1' and typebutton= 'postback' and contentbutton= 'Informativo | eb6262bf-2b65-4dc7-9d6a-9a8544083dde | bSkwpaFVCmMXS8G2PR6k' and opc_nextid= 'Informativo | eb6262bf-2b65-4dc7-9d6a-9a8544083dde | bSkwpaFVCmMXS8G2PR6k' ;\n",
      "Datos enviados INSERT:\n",
      "{'id_elemento': '969', 'titlebutton': 'Salida 1', 'typebutton': 'postback', 'contentbutton': 'Informativo | eb6262bf-2b65-4dc7-9d6a-9a8544083dde | bSkwpaFVCmMXS8G2PR6k', 'id_boton': 1742, 'opc_nextid': 'Informativo | eb6262bf-2b65-4dc7-9d6a-9a8544083dde | bSkwpaFVCmMXS8G2PR6k'}\n",
      "Datos recibidos INSERT:\n",
      "{'id_elemento': '969', 'titlebutton': 'Salida 2', 'typebutton': 'postback', 'contentbutton': 'Informativo | eb6262bf-2b65-4dc7-9d6a-9a8544083dde | bSkwpaFVCmMXS8G2PR6k', 'opc_nextid': 'Informativo | eb6262bf-2b65-4dc7-9d6a-9a8544083dde | bSkwpaFVCmMXS8G2PR6k'}\n",
      "intenatando consulta...\n",
      "consulta: select * from botones where id_elemento= '969' and titlebutton= 'Salida 2' and typebutton= 'postback' and contentbutton= 'Informativo | eb6262bf-2b65-4dc7-9d6a-9a8544083dde | bSkwpaFVCmMXS8G2PR6k' and opc_nextid= 'Informativo | eb6262bf-2b65-4dc7-9d6a-9a8544083dde | bSkwpaFVCmMXS8G2PR6k' ;\n",
      "Datos enviados INSERT:\n",
      "{'id_elemento': '969', 'titlebutton': 'Salida 2', 'typebutton': 'postback', 'contentbutton': 'Informativo | eb6262bf-2b65-4dc7-9d6a-9a8544083dde | bSkwpaFVCmMXS8G2PR6k', 'id_boton': 1743, 'opc_nextid': 'Informativo | eb6262bf-2b65-4dc7-9d6a-9a8544083dde | bSkwpaFVCmMXS8G2PR6k'}\n"
     ]
    },
    {
     "name": "stderr",
     "output_type": "stream",
     "text": [
      "127.0.0.1 - - [15/Jun/2021 00:04:57] \"\u001b[37mPOST /insert/elementos HTTP/1.1\u001b[0m\" 200 -\n",
      "127.0.0.1 - - [15/Jun/2021 00:04:57] \"\u001b[37mPOST /insert/botones HTTP/1.1\u001b[0m\" 200 -\n"
     ]
    },
    {
     "name": "stdout",
     "output_type": "stream",
     "text": [
      "Datos recibidos INSERT:\n",
      "{'image_url': 'https://www.muycomputer.com/wp-content/uploads/2020/04/Logitech-G203-rat%C3%B3n-gaming-barato-e1587628136683.jpg', 'subtitle': 'S2', 'title': 'P2', 'blocktype': 'slide', 'id_block': 568}\n",
      "intenatando consulta...\n",
      "consulta: select * from elementos where image_url= 'https://www.muycomputer.com/wp-content/uploads/2020/04/Logitech-G203-rat%C3%B3n-gaming-barato-e1587628136683.jpg' and subtitle= 'S2' and title= 'P2' and blocktype= 'slide' and id_block= '568' ;\n",
      "Datos enviados INSERT:\n",
      "{'blocktype': 'slide', 'title': 'P2', 'image_url': 'https://www.muycomputer.com/wp-content/uploads/2020/04/Logitech-G203-rat%C3%B3n-gaming-barato-e1587628136683.jpg', 'subtitle': 'S2', 'id_block': 568, 'id_elements': 970}\n",
      "Datos recibidos INSERT:\n",
      "{'id_elemento': '970', 'titlebutton': 'Google', 'typebutton': 'web_url', 'contentbutton': 'www.facebook.com', 'opc_nextid': 'www.facebook.com'}\n",
      "intenatando consulta...\n",
      "consulta: select * from botones where id_elemento= '970' and titlebutton= 'Google' and typebutton= 'web_url' and contentbutton= 'www.facebook.com' and opc_nextid= 'www.facebook.com' ;\n",
      "Datos enviados INSERT:\n",
      "{'id_elemento': '970', 'titlebutton': 'Google', 'typebutton': 'web_url', 'contentbutton': 'www.facebook.com', 'id_boton': 1744, 'opc_nextid': 'www.facebook.com'}\n",
      "Datos recibidos INSERT:\n",
      "{'id_elemento': '970', 'titlebutton': 'ABC', 'typebutton': 'web_url', 'contentbutton': 'www.ABC.com', 'opc_nextid': 'www.ABC.com'}\n",
      "intenatando consulta...\n",
      "consulta: select * from botones where id_elemento= '970' and titlebutton= 'ABC' and typebutton= 'web_url' and contentbutton= 'www.ABC.com' and opc_nextid= 'www.ABC.com' ;\n"
     ]
    },
    {
     "name": "stderr",
     "output_type": "stream",
     "text": [
      "127.0.0.1 - - [15/Jun/2021 00:04:57] \"\u001b[37mPOST /insert/botones HTTP/1.1\u001b[0m\" 200 -\n",
      "127.0.0.1 - - [15/Jun/2021 00:04:57] \"\u001b[37mPOST /insert/elementos HTTP/1.1\u001b[0m\" 200 -\n",
      "127.0.0.1 - - [15/Jun/2021 00:04:57] \"\u001b[37mPOST /insert/botones HTTP/1.1\u001b[0m\" 200 -\n"
     ]
    },
    {
     "name": "stdout",
     "output_type": "stream",
     "text": [
      "Datos enviados INSERT:\n",
      "{'id_elemento': '970', 'titlebutton': 'ABC', 'typebutton': 'web_url', 'contentbutton': 'www.ABC.com', 'id_boton': 1745, 'opc_nextid': 'www.ABC.com'}\n",
      "Datos recibidos INSERT:\n",
      "{'title': 'Plantilla 3', 'subtitle': 'Subtitulo 3', 'image_url': 'https://mmo.aiircdn.com/297/5f6a04de8d671.jpg', 'blocktype': 'slide', 'id_block': 568}\n",
      "intenatando consulta...\n",
      "consulta: select * from elementos where title= 'Plantilla 3' and subtitle= 'Subtitulo 3' and image_url= 'https://mmo.aiircdn.com/297/5f6a04de8d671.jpg' and blocktype= 'slide' and id_block= '568' ;\n",
      "Datos enviados INSERT:\n",
      "{'blocktype': 'slide', 'title': 'Plantilla 3', 'image_url': 'https://mmo.aiircdn.com/297/5f6a04de8d671.jpg', 'subtitle': 'Subtitulo 3', 'id_block': 568, 'id_elements': 971}\n",
      "Datos recibidos INSERT:\n",
      "{'id_elemento': '971', 'titlebutton': 'Input', 'typebutton': 'postback', 'contentbutton': 'Informativo | eb6262bf-2b65-4dc7-9d6a-9a8544083dde | bSkwpaFVCmMXS8G2PR6k', 'opc_nextid': 'Informativo | eb6262bf-2b65-4dc7-9d6a-9a8544083dde | bSkwpaFVCmMXS8G2PR6k'}\n",
      "intenatando consulta...\n",
      "consulta: select * from botones where id_elemento= '971' and titlebutton= 'Input' and typebutton= 'postback' and contentbutton= 'Informativo | eb6262bf-2b65-4dc7-9d6a-9a8544083dde | bSkwpaFVCmMXS8G2PR6k' and opc_nextid= 'Informativo | eb6262bf-2b65-4dc7-9d6a-9a8544083dde | bSkwpaFVCmMXS8G2PR6k' ;\n",
      "Datos enviados INSERT:\n",
      "{'id_elemento': '971', 'titlebutton': 'Input', 'typebutton': 'postback', 'contentbutton': 'Informativo | eb6262bf-2b65-4dc7-9d6a-9a8544083dde | bSkwpaFVCmMXS8G2PR6k', 'id_boton': 1746, 'opc_nextid': 'Informativo | eb6262bf-2b65-4dc7-9d6a-9a8544083dde | bSkwpaFVCmMXS8G2PR6k'}\n",
      "Datos recibidos INSERT:\n",
      "{'id_elemento': '971', 'titlebutton': 'Opcion 6', 'typebutton': 'postback', 'contentbutton': 'Informativo | eb6262bf-2b65-4dc7-9d6a-9a8544083dde | bSkwpaFVCmMXS8G2PR6k', 'opc_nextid': 'Informativo | eb6262bf-2b65-4dc7-9d6a-9a8544083dde | bSkwpaFVCmMXS8G2PR6k'}\n"
     ]
    },
    {
     "name": "stderr",
     "output_type": "stream",
     "text": [
      "127.0.0.1 - - [15/Jun/2021 00:04:57] \"\u001b[37mPOST /insert/botones HTTP/1.1\u001b[0m\" 200 -\n",
      "127.0.0.1 - - [15/Jun/2021 00:04:57] \"\u001b[37mPOST /insert/bloqueinformativo HTTP/1.1\u001b[0m\" 200 -\n"
     ]
    },
    {
     "name": "stdout",
     "output_type": "stream",
     "text": [
      "intenatando consulta...\n",
      "consulta: select * from botones where id_elemento= '971' and titlebutton= 'Opcion 6' and typebutton= 'postback' and contentbutton= 'Informativo | eb6262bf-2b65-4dc7-9d6a-9a8544083dde | bSkwpaFVCmMXS8G2PR6k' and opc_nextid= 'Informativo | eb6262bf-2b65-4dc7-9d6a-9a8544083dde | bSkwpaFVCmMXS8G2PR6k' ;\n",
      "Datos enviados INSERT:\n",
      "{'id_elemento': '971', 'titlebutton': 'Opcion 6', 'typebutton': 'postback', 'contentbutton': 'Informativo | eb6262bf-2b65-4dc7-9d6a-9a8544083dde | bSkwpaFVCmMXS8G2PR6k', 'id_boton': 1747, 'opc_nextid': 'Informativo | eb6262bf-2b65-4dc7-9d6a-9a8544083dde | bSkwpaFVCmMXS8G2PR6k'}\n",
      "Datos recibidos INSERT:\n",
      "{'next_id': 'Intermedio | 39a8d681-4868-4b9c-98e4-9a8db0681865 | 98525253-9080-3718-4541-185145979160 | bSkwpaFVCmMXS8G2PR6k', 'namestate': 'Informativo | 7e74c6f6-46db-4b00-b8b3-07aac064e1de | 98525253-9080-3718-4541-185145979160 | bSkwpaFVCmMXS8G2PR6k', 'contenido': 'Hola, me he editado soy un bloque informativo', 'contenttype': 'text', 'typingtime': '2', 'id_robot': 539, 'blocktype': 'informativo'}\n",
      "intenatando consulta...\n",
      "consulta: select * from bloqueinformativo where next_id= 'Intermedio | 39a8d681-4868-4b9c-98e4-9a8db0681865 | 98525253-9080-3718-4541-185145979160 | bSkwpaFVCmMXS8G2PR6k' and namestate= 'Informativo | 7e74c6f6-46db-4b00-b8b3-07aac064e1de | 98525253-9080-3718-4541-185145979160 | bSkwpaFVCmMXS8G2PR6k' and contenido= 'Hola, me he editado soy un bloque informativo' and contenttype= 'text' and typingtime= '2' and id_robot= '539' and blocktype= 'informativo' ;\n",
      "Datos enviados INSERT:\n",
      "{'namestate': 'Informativo | 7e74c6f6-46db-4b00-b8b3-07aac064e1de | 98525253-9080-3718-4541-185145979160 | bSkwpaFVCmMXS8G2PR6k', 'contenido': 'Hola, me he editado soy un bloque informativo', 'next_id': 'Intermedio | 39a8d681-4868-4b9c-98e4-9a8db0681865 | 98525253-9080-3718-4541-185145979160 | bSkwpaFVCmMXS8G2PR6k', 'blocktype': 'informativo', 'contenttype': 'text', 'typingtime': '2', 'id_block': 2855, 'id_robot': 539, 'opc_nextid': None, 'pos_y': None, 'pos_x': None, 'tag_active': None}\n",
      "Datos recibidos INSERT:\n",
      "{'next_id': 'Carrusel | fdd978d8-d9e9-4f74-8d01-07d1a43ecba8 | 98525253-9080-3718-4541-185145979160 | bSkwpaFVCmMXS8G2PR6k', 'namestate': 'Intermedio | 39a8d681-4868-4b9c-98e4-9a8db0681865 | 98525253-9080-3718-4541-185145979160 | bSkwpaFVCmMXS8G2PR6k', 'contenido': 'Este es un bloque intermedio', 'contenttype': 'text', 'typingtime': '1', 'id_robot': 539, 'blocktype': 'informativo'}\n",
      "intenatando consulta...\n",
      "consulta: select * from bloqueinformativo where next_id= 'Carrusel | fdd978d8-d9e9-4f74-8d01-07d1a43ecba8 | 98525253-9080-3718-4541-185145979160 | bSkwpaFVCmMXS8G2PR6k' and namestate= 'Intermedio | 39a8d681-4868-4b9c-98e4-9a8db0681865 | 98525253-9080-3718-4541-185145979160 | bSkwpaFVCmMXS8G2PR6k' and contenido= 'Este es un bloque intermedio' and contenttype= 'text' and typingtime= '1' and id_robot= '539' and blocktype= 'informativo' ;\n"
     ]
    },
    {
     "name": "stderr",
     "output_type": "stream",
     "text": [
      "127.0.0.1 - - [15/Jun/2021 00:04:57] \"\u001b[37mPOST /insert/bloqueinformativo HTTP/1.1\u001b[0m\" 200 -\n",
      "127.0.0.1 - - [15/Jun/2021 00:04:57] \"\u001b[37mPOST /insert/variables HTTP/1.1\u001b[0m\" 200 -\n",
      "127.0.0.1 - - [15/Jun/2021 00:04:58] \"\u001b[37mPOST /insert/bloqueslide HTTP/1.1\u001b[0m\" 200 -\n"
     ]
    },
    {
     "name": "stdout",
     "output_type": "stream",
     "text": [
      "Datos enviados INSERT:\n",
      "{'namestate': 'Intermedio | 39a8d681-4868-4b9c-98e4-9a8db0681865 | 98525253-9080-3718-4541-185145979160 | bSkwpaFVCmMXS8G2PR6k', 'contenido': 'Este es un bloque intermedio', 'next_id': 'Carrusel | fdd978d8-d9e9-4f74-8d01-07d1a43ecba8 | 98525253-9080-3718-4541-185145979160 | bSkwpaFVCmMXS8G2PR6k', 'blocktype': 'informativo', 'contenttype': 'text', 'typingtime': '1', 'id_block': 2856, 'id_robot': 539, 'opc_nextid': None, 'pos_y': None, 'pos_x': None, 'tag_active': None}\n",
      "Datos recibidos INSERT:\n",
      "{'name_var': 'undefinedCarrusel_|_cce128da-fc3c-4ab8-8733-0f93dff9b0ca5504', 'opc_type': 'Variable', 'var': 0, 'opc_data': 'String', 'id_robot': 539}\n",
      "intenatando consulta...\n",
      "consulta: select * from variables where name_var= 'undefinedCarrusel_|_cce128da-fc3c-4ab8-8733-0f93dff9b0ca5504' and opc_type= 'Variable' and var= '0' and opc_data= 'String' and id_robot= '539' ;\n",
      "Datos enviados INSERT:\n",
      "{'id_var': 1883, 'opc_type': 'Variable', 'opc_data': 'String', 'var': '0', 'id_robot': 539, 'name_var': 'undefinedCarrusel_|_cce128da-fc3c-4ab8-8733-0f93dff9b0ca5504'}\n",
      "Datos recibidos INSERT:\n",
      "{'namestate': 'Carrusel | cce128da-fc3c-4ab8-8733-0f93dff9b0ca | 19627070-4044-4254-7133-869533412022 | bSkwpaFVCmMXS8G2PR6k', 'blocktype': 'slide', 'typingtime': '1', 'default_id': 'Carrusel | cce128da-fc3c-4ab8-8733-0f93dff9b0ca | 19627070-4044-4254-7133-869533412022 | bSkwpaFVCmMXS8G2PR6k', 'id_var': 1883, 'id_robot': 539}\n",
      "intenatando consulta...\n",
      "consulta: select * from bloqueslide where namestate= 'Carrusel | cce128da-fc3c-4ab8-8733-0f93dff9b0ca | 19627070-4044-4254-7133-869533412022 | bSkwpaFVCmMXS8G2PR6k' and blocktype= 'slide' and typingtime= '1' and default_id= 'Carrusel | cce128da-fc3c-4ab8-8733-0f93dff9b0ca | 19627070-4044-4254-7133-869533412022 | bSkwpaFVCmMXS8G2PR6k' and id_var= '1883' and id_robot= '539' ;\n",
      "Datos enviados INSERT:\n",
      "{'namestate': 'Carrusel | cce128da-fc3c-4ab8-8733-0f93dff9b0ca | 19627070-4044-4254-7133-869533412022 | bSkwpaFVCmMXS8G2PR6k', 'next_id': None, 'blocktype': 'slide', 'typingtime': '1', 'default_id': 'Carrusel | cce128da-fc3c-4ab8-8733-0f93dff9b0ca | 19627070-4044-4254-7133-869533412022 | bSkwpaFVCmMXS8G2PR6k', 'id_var': '1883', 'id_block': 569, 'id_robot': 539, 'opc_nextid': None, 'pos_y': None, 'pos_x': None, 'opc_elm': None, 'tag_active': None}\n",
      "Datos recibidos INSERT:\n",
      "{'subtitle': 'Subtitulo 1', 'title': 'Titulo 1', 'image_url': 'https://jalisco.quadratin.com.mx/www/wp-content/uploads/2020/11/grupo-firme-1-1160x700.jpg', 'blocktype': 'slide', 'id_block': 569}\n"
     ]
    },
    {
     "name": "stderr",
     "output_type": "stream",
     "text": [
      "127.0.0.1 - - [15/Jun/2021 00:04:58] \"\u001b[37mPOST /insert/elementos HTTP/1.1\u001b[0m\" 200 -\n",
      "127.0.0.1 - - [15/Jun/2021 00:04:58] \"\u001b[37mPOST /insert/botones HTTP/1.1\u001b[0m\" 200 -\n",
      "127.0.0.1 - - [15/Jun/2021 00:04:58] \"\u001b[37mPOST /insert/botones HTTP/1.1\u001b[0m\" 200 -\n"
     ]
    },
    {
     "name": "stdout",
     "output_type": "stream",
     "text": [
      "intenatando consulta...\n",
      "consulta: select * from elementos where subtitle= 'Subtitulo 1' and title= 'Titulo 1' and image_url= 'https://jalisco.quadratin.com.mx/www/wp-content/uploads/2020/11/grupo-firme-1-1160x700.jpg' and blocktype= 'slide' and id_block= '569' ;\n",
      "Datos enviados INSERT:\n",
      "{'blocktype': 'slide', 'title': 'Titulo 1', 'image_url': 'https://jalisco.quadratin.com.mx/www/wp-content/uploads/2020/11/grupo-firme-1-1160x700.jpg', 'subtitle': 'Subtitulo 1', 'id_block': 569, 'id_elements': 972}\n",
      "Datos recibidos INSERT:\n",
      "{'id_elemento': '972', 'titlebutton': 'Salida 1', 'typebutton': 'postback', 'contentbutton': 'Informativo | 7e74c6f6-46db-4b00-b8b3-07aac064e1de | 98525253-9080-3718-4541-185145979160 | bSkwpaFVCmMXS8G2PR6k', 'opc_nextid': 'Informativo | 7e74c6f6-46db-4b00-b8b3-07aac064e1de | 98525253-9080-3718-4541-185145979160 | bSkwpaFVCmMXS8G2PR6k'}\n",
      "intenatando consulta...\n",
      "consulta: select * from botones where id_elemento= '972' and titlebutton= 'Salida 1' and typebutton= 'postback' and contentbutton= 'Informativo | 7e74c6f6-46db-4b00-b8b3-07aac064e1de | 98525253-9080-3718-4541-185145979160 | bSkwpaFVCmMXS8G2PR6k' and opc_nextid= 'Informativo | 7e74c6f6-46db-4b00-b8b3-07aac064e1de | 98525253-9080-3718-4541-185145979160 | bSkwpaFVCmMXS8G2PR6k' ;\n",
      "Datos enviados INSERT:\n",
      "{'id_elemento': '972', 'titlebutton': 'Salida 1', 'typebutton': 'postback', 'contentbutton': 'Informativo | 7e74c6f6-46db-4b00-b8b3-07aac064e1de | 98525253-9080-3718-4541-185145979160 | bSkwpaFVCmMXS8G2PR6k', 'id_boton': 1748, 'opc_nextid': 'Informativo | 7e74c6f6-46db-4b00-b8b3-07aac064e1de | 98525253-9080-3718-4541-185145979160 | bSkwpaFVCmMXS8G2PR6k'}\n",
      "Datos recibidos INSERT:\n",
      "{'id_elemento': '972', 'titlebutton': 'Facebook', 'typebutton': 'postback', 'contentbutton': 'Input prueba carrusel 2 | 3e82e3b7-d8da-4955-aff4-9bcbee291db6 | 19627070-4044-4254-7133-869533412022 | bSkwpaFVCmMXS8G2PR6k', 'opc_nextid': 'Input prueba carrusel 2 | 3e82e3b7-d8da-4955-aff4-9bcbee291db6 | 19627070-4044-4254-7133-869533412022 | bSkwpaFVCmMXS8G2PR6k'}\n",
      "intenatando consulta...\n",
      "consulta: select * from botones where id_elemento= '972' and titlebutton= 'Facebook' and typebutton= 'postback' and contentbutton= 'Input prueba carrusel 2 | 3e82e3b7-d8da-4955-aff4-9bcbee291db6 | 19627070-4044-4254-7133-869533412022 | bSkwpaFVCmMXS8G2PR6k' and opc_nextid= 'Input prueba carrusel 2 | 3e82e3b7-d8da-4955-aff4-9bcbee291db6 | 19627070-4044-4254-7133-869533412022 | bSkwpaFVCmMXS8G2PR6k' ;\n",
      "Datos enviados INSERT:\n",
      "{'id_elemento': '972', 'titlebutton': 'Facebook', 'typebutton': 'postback', 'contentbutton': 'Input prueba carrusel 2 | 3e82e3b7-d8da-4955-aff4-9bcbee291db6 | 19627070-4044-4254-7133-869533412022 | bSkwpaFVCmMXS8G2PR6k', 'id_boton': 1749, 'opc_nextid': 'Input prueba carrusel 2 | 3e82e3b7-d8da-4955-aff4-9bcbee291db6 | 19627070-4044-4254-7133-869533412022 | bSkwpaFVCmMXS8G2PR6k'}\n"
     ]
    },
    {
     "name": "stderr",
     "output_type": "stream",
     "text": [
      "127.0.0.1 - - [15/Jun/2021 00:04:58] \"\u001b[37mPOST /insert/bloqueinformativo HTTP/1.1\u001b[0m\" 200 -\n",
      "127.0.0.1 - - [15/Jun/2021 00:04:58] \"\u001b[37mPOST /insert/variables HTTP/1.1\u001b[0m\" 200 -\n"
     ]
    },
    {
     "name": "stdout",
     "output_type": "stream",
     "text": [
      "Datos recibidos INSERT:\n",
      "{'next_id': 'Carrusel | cce128da-fc3c-4ab8-8733-0f93dff9b0ca | 19627070-4044-4254-7133-869533412022 | bSkwpaFVCmMXS8G2PR6k', 'namestate': 'Informativo | 34fa0024-002a-4673-8b70-6419afef7d4d | 19627070-4044-4254-7133-869533412022 | bSkwpaFVCmMXS8G2PR6k', 'contenido': 'Este es el carrusel prueba 2', 'contenttype': 'text', 'typingtime': '1', 'id_robot': 539, 'blocktype': 'informativo'}\n",
      "intenatando consulta...\n",
      "consulta: select * from bloqueinformativo where next_id= 'Carrusel | cce128da-fc3c-4ab8-8733-0f93dff9b0ca | 19627070-4044-4254-7133-869533412022 | bSkwpaFVCmMXS8G2PR6k' and namestate= 'Informativo | 34fa0024-002a-4673-8b70-6419afef7d4d | 19627070-4044-4254-7133-869533412022 | bSkwpaFVCmMXS8G2PR6k' and contenido= 'Este es el carrusel prueba 2' and contenttype= 'text' and typingtime= '1' and id_robot= '539' and blocktype= 'informativo' ;\n",
      "Datos enviados INSERT:\n",
      "{'namestate': 'Informativo | 34fa0024-002a-4673-8b70-6419afef7d4d | 19627070-4044-4254-7133-869533412022 | bSkwpaFVCmMXS8G2PR6k', 'contenido': 'Este es el carrusel prueba 2', 'next_id': 'Carrusel | cce128da-fc3c-4ab8-8733-0f93dff9b0ca | 19627070-4044-4254-7133-869533412022 | bSkwpaFVCmMXS8G2PR6k', 'blocktype': 'informativo', 'contenttype': 'text', 'typingtime': '1', 'id_block': 2857, 'id_robot': 539, 'opc_nextid': None, 'pos_y': None, 'pos_x': None, 'tag_active': None}\n",
      "Datos recibidos INSERT:\n",
      "{'name_var': 'undefinedInput_prueba_carrusel_2_|_3e82e3b7-d8da-4955-aff4-9bcbee291db62202', 'opc_type': 'Variable', 'var': 0, 'opc_data': 'String', 'id_robot': 539}\n",
      "intenatando consulta...\n",
      "consulta: select * from variables where name_var= 'undefinedInput_prueba_carrusel_2_|_3e82e3b7-d8da-4955-aff4-9bcbee291db62202' and opc_type= 'Variable' and var= '0' and opc_data= 'String' and id_robot= '539' ;\n",
      "Datos enviados INSERT:\n",
      "{'id_var': 1884, 'opc_type': 'Variable', 'opc_data': 'String', 'var': '0', 'id_robot': 539, 'name_var': 'undefinedInput_prueba_carrusel_2_|_3e82e3b7-d8da-4955-aff4-9bcbee291db62202'}\n",
      "Datos recibidos INSERT:\n",
      "{'next_id': 'Informativo | eb6262bf-2b65-4dc7-9d6a-9a8544083dde | bSkwpaFVCmMXS8G2PR6k', 'default_id': 'Input prueba carrusel 2 | 3e82e3b7-d8da-4955-aff4-9bcbee291db6 | 19627070-4044-4254-7133-869533412022 | bSkwpaFVCmMXS8G2PR6k', 'namestate': 'Input prueba carrusel 2 | 3e82e3b7-d8da-4955-aff4-9bcbee291db6 | 19627070-4044-4254-7133-869533412022 | bSkwpaFVCmMXS8G2PR6k', 'contenido': 'Debes decrime \"adios\"', 'typingtime': '1', 'validacion': '', 'id_robot': 539, 'id_var': 1884, 'blocktype': 'input'}\n",
      "intenatando consulta...\n",
      "consulta: select * from bloqueinput where next_id= 'Informativo | eb6262bf-2b65-4dc7-9d6a-9a8544083dde | bSkwpaFVCmMXS8G2PR6k' and default_id= 'Input prueba carrusel 2 | 3e82e3b7-d8da-4955-aff4-9bcbee291db6 | 19627070-4044-4254-7133-869533412022 | bSkwpaFVCmMXS8G2PR6k' and namestate= 'Input prueba carrusel 2 | 3e82e3b7-d8da-4955-aff4-9bcbee291db6 | 19627070-4044-4254-7133-869533412022 | bSkwpaFVCmMXS8G2PR6k' and contenido= 'Debes decrime \"adios\"' and typingtime= '1' and validacion= '' and id_robot= '539' and id_var= '1884' and blocktype= 'input' ;\n"
     ]
    },
    {
     "name": "stderr",
     "output_type": "stream",
     "text": [
      "127.0.0.1 - - [15/Jun/2021 00:04:58] \"\u001b[37mPOST /insert/bloqueinput HTTP/1.1\u001b[0m\" 200 -\n",
      "127.0.0.1 - - [15/Jun/2021 00:04:58] \"\u001b[37mPOST /insert/variables HTTP/1.1\u001b[0m\" 200 -\n",
      "127.0.0.1 - - [15/Jun/2021 00:04:58] \"\u001b[37mPOST /insert/bloqueslide HTTP/1.1\u001b[0m\" 200 -\n"
     ]
    },
    {
     "name": "stdout",
     "output_type": "stream",
     "text": [
      "Datos enviados INSERT:\n",
      "{'namestate': 'Input prueba carrusel 2 | 3e82e3b7-d8da-4955-aff4-9bcbee291db6 | 19627070-4044-4254-7133-869533412022 | bSkwpaFVCmMXS8G2PR6k', 'contenido': 'Debes decrime \"adios\"', 'next_id': 'Informativo | eb6262bf-2b65-4dc7-9d6a-9a8544083dde | bSkwpaFVCmMXS8G2PR6k', 'blocktype': 'input', 'contenttype': None, 'typingtime': '1', 'validacion': '', 'default_id': 'Input prueba carrusel 2 | 3e82e3b7-d8da-4955-aff4-9bcbee291db6 | 19627070-4044-4254-7133-869533412022 | bSkwpaFVCmMXS8G2PR6k', 'id_var': '1884', 'id_block': 404, 'id_robot': 539, 'opc_nextid': None, 'pos_y': None, 'pos_x': None, 'tag_active': None}\n",
      "Datos recibidos INSERT:\n",
      "{'name_var': 'variableCarrCarrusel_|_5aaf3158-308e-4b01-9283-f01f32d587c94458', 'opc_type': 'Variable', 'var': 0, 'opc_data': 'String', 'id_robot': 539}\n",
      "intenatando consulta...\n",
      "consulta: select * from variables where name_var= 'variableCarrCarrusel_|_5aaf3158-308e-4b01-9283-f01f32d587c94458' and opc_type= 'Variable' and var= '0' and opc_data= 'String' and id_robot= '539' ;\n",
      "Datos enviados INSERT:\n",
      "{'id_var': 1885, 'opc_type': 'Variable', 'opc_data': 'String', 'var': '0', 'id_robot': 539, 'name_var': 'variableCarrCarrusel_|_5aaf3158-308e-4b01-9283-f01f32d587c94458'}\n",
      "Datos recibidos INSERT:\n",
      "{'namestate': 'Carrusel | 5aaf3158-308e-4b01-9283-f01f32d587c9 | 07418629-1549-9289-4157-116148457825 | bSkwpaFVCmMXS8G2PR6k', 'blocktype': 'slide', 'typingtime': '1', 'default_id': 'Carrusel | 5aaf3158-308e-4b01-9283-f01f32d587c9 | 07418629-1549-9289-4157-116148457825 | bSkwpaFVCmMXS8G2PR6k', 'id_var': 1885, 'id_robot': 539}\n",
      "intenatando consulta...\n",
      "consulta: select * from bloqueslide where namestate= 'Carrusel | 5aaf3158-308e-4b01-9283-f01f32d587c9 | 07418629-1549-9289-4157-116148457825 | bSkwpaFVCmMXS8G2PR6k' and blocktype= 'slide' and typingtime= '1' and default_id= 'Carrusel | 5aaf3158-308e-4b01-9283-f01f32d587c9 | 07418629-1549-9289-4157-116148457825 | bSkwpaFVCmMXS8G2PR6k' and id_var= '1885' and id_robot= '539' ;\n",
      "Datos enviados INSERT:\n",
      "{'namestate': 'Carrusel | 5aaf3158-308e-4b01-9283-f01f32d587c9 | 07418629-1549-9289-4157-116148457825 | bSkwpaFVCmMXS8G2PR6k', 'next_id': None, 'blocktype': 'slide', 'typingtime': '1', 'default_id': 'Carrusel | 5aaf3158-308e-4b01-9283-f01f32d587c9 | 07418629-1549-9289-4157-116148457825 | bSkwpaFVCmMXS8G2PR6k', 'id_var': '1885', 'id_block': 570, 'id_robot': 539, 'opc_nextid': None, 'pos_y': None, 'pos_x': None, 'opc_elm': None, 'tag_active': None}\n",
      "Datos recibidos INSERT:\n",
      "{'title': 'Titulo 1', 'image_url': 'https://sitechecker.pro/wp-content/uploads/2017/12/URL-meaning.png', 'subtitle': 'Subtitulo 1', 'blocktype': 'slide', 'id_block': 570}\n"
     ]
    },
    {
     "name": "stderr",
     "output_type": "stream",
     "text": [
      "127.0.0.1 - - [15/Jun/2021 00:04:58] \"\u001b[37mPOST /insert/elementos HTTP/1.1\u001b[0m\" 200 -\n",
      "127.0.0.1 - - [15/Jun/2021 00:04:58] \"\u001b[37mPOST /insert/botones HTTP/1.1\u001b[0m\" 200 -\n",
      "127.0.0.1 - - [15/Jun/2021 00:04:58] \"\u001b[37mPOST /insert/botones HTTP/1.1\u001b[0m\" 200 -\n"
     ]
    },
    {
     "name": "stdout",
     "output_type": "stream",
     "text": [
      "intenatando consulta...\n",
      "consulta: select * from elementos where title= 'Titulo 1' and image_url= 'https://sitechecker.pro/wp-content/uploads/2017/12/URL-meaning.png' and subtitle= 'Subtitulo 1' and blocktype= 'slide' and id_block= '570' ;\n",
      "Datos enviados INSERT:\n",
      "{'blocktype': 'slide', 'title': 'Titulo 1', 'image_url': 'https://sitechecker.pro/wp-content/uploads/2017/12/URL-meaning.png', 'subtitle': 'Subtitulo 1', 'id_block': 570, 'id_elements': 973}\n",
      "Datos recibidos INSERT:\n",
      "{'id_elemento': '973', 'titlebutton': 'Opcion 1', 'typebutton': 'postback', 'contentbutton': 'QuickReply | 9cd75eb1-5f87-4a23-84aa-d6de05ed56b8 | 07418629-1549-9289-4157-116148457825 | bSkwpaFVCmMXS8G2PR6k', 'opc_nextid': 'QuickReply | 9cd75eb1-5f87-4a23-84aa-d6de05ed56b8 | 07418629-1549-9289-4157-116148457825 | bSkwpaFVCmMXS8G2PR6k'}\n",
      "intenatando consulta...\n",
      "consulta: select * from botones where id_elemento= '973' and titlebutton= 'Opcion 1' and typebutton= 'postback' and contentbutton= 'QuickReply | 9cd75eb1-5f87-4a23-84aa-d6de05ed56b8 | 07418629-1549-9289-4157-116148457825 | bSkwpaFVCmMXS8G2PR6k' and opc_nextid= 'QuickReply | 9cd75eb1-5f87-4a23-84aa-d6de05ed56b8 | 07418629-1549-9289-4157-116148457825 | bSkwpaFVCmMXS8G2PR6k' ;\n",
      "Datos enviados INSERT:\n",
      "{'id_elemento': '973', 'titlebutton': 'Opcion 1', 'typebutton': 'postback', 'contentbutton': 'QuickReply | 9cd75eb1-5f87-4a23-84aa-d6de05ed56b8 | 07418629-1549-9289-4157-116148457825 | bSkwpaFVCmMXS8G2PR6k', 'id_boton': 1750, 'opc_nextid': 'QuickReply | 9cd75eb1-5f87-4a23-84aa-d6de05ed56b8 | 07418629-1549-9289-4157-116148457825 | bSkwpaFVCmMXS8G2PR6k'}\n",
      "Datos recibidos INSERT:\n",
      "{'id_elemento': '973', 'titlebutton': 'Opcion 2', 'typebutton': 'postback', 'contentbutton': 'QuickReply | f962f2fb-1047-4062-bac8-798fddc79ff2 | 07418629-1549-9289-4157-116148457825 | bSkwpaFVCmMXS8G2PR6k', 'opc_nextid': 'QuickReply | f962f2fb-1047-4062-bac8-798fddc79ff2 | 07418629-1549-9289-4157-116148457825 | bSkwpaFVCmMXS8G2PR6k'}\n",
      "intenatando consulta...\n",
      "consulta: select * from botones where id_elemento= '973' and titlebutton= 'Opcion 2' and typebutton= 'postback' and contentbutton= 'QuickReply | f962f2fb-1047-4062-bac8-798fddc79ff2 | 07418629-1549-9289-4157-116148457825 | bSkwpaFVCmMXS8G2PR6k' and opc_nextid= 'QuickReply | f962f2fb-1047-4062-bac8-798fddc79ff2 | 07418629-1549-9289-4157-116148457825 | bSkwpaFVCmMXS8G2PR6k' ;\n",
      "Datos enviados INSERT:\n",
      "{'id_elemento': '973', 'titlebutton': 'Opcion 2', 'typebutton': 'postback', 'contentbutton': 'QuickReply | f962f2fb-1047-4062-bac8-798fddc79ff2 | 07418629-1549-9289-4157-116148457825 | bSkwpaFVCmMXS8G2PR6k', 'id_boton': 1751, 'opc_nextid': 'QuickReply | f962f2fb-1047-4062-bac8-798fddc79ff2 | 07418629-1549-9289-4157-116148457825 | bSkwpaFVCmMXS8G2PR6k'}\n"
     ]
    },
    {
     "name": "stderr",
     "output_type": "stream",
     "text": [
      "127.0.0.1 - - [15/Jun/2021 00:04:59] \"\u001b[37mPOST /insert/bloqueinformativo HTTP/1.1\u001b[0m\" 200 -\n",
      "127.0.0.1 - - [15/Jun/2021 00:04:59] \"\u001b[37mPOST /insert/variables HTTP/1.1\u001b[0m\" 200 -\n"
     ]
    },
    {
     "name": "stdout",
     "output_type": "stream",
     "text": [
      "Datos recibidos INSERT:\n",
      "{'next_id': 'Carrusel | 5aaf3158-308e-4b01-9283-f01f32d587c9 | 07418629-1549-9289-4157-116148457825 | bSkwpaFVCmMXS8G2PR6k', 'namestate': 'Informativo | 98a8f39d-6761-48e7-aca7-66279cfabf40 | 07418629-1549-9289-4157-116148457825 | bSkwpaFVCmMXS8G2PR6k', 'contenido': 'Este es un bloque informativo', 'contenttype': 'text', 'typingtime': '1', 'id_robot': 539, 'blocktype': 'informativo'}\n",
      "intenatando consulta...\n",
      "consulta: select * from bloqueinformativo where next_id= 'Carrusel | 5aaf3158-308e-4b01-9283-f01f32d587c9 | 07418629-1549-9289-4157-116148457825 | bSkwpaFVCmMXS8G2PR6k' and namestate= 'Informativo | 98a8f39d-6761-48e7-aca7-66279cfabf40 | 07418629-1549-9289-4157-116148457825 | bSkwpaFVCmMXS8G2PR6k' and contenido= 'Este es un bloque informativo' and contenttype= 'text' and typingtime= '1' and id_robot= '539' and blocktype= 'informativo' ;\n",
      "Datos enviados INSERT:\n",
      "{'namestate': 'Informativo | 98a8f39d-6761-48e7-aca7-66279cfabf40 | 07418629-1549-9289-4157-116148457825 | bSkwpaFVCmMXS8G2PR6k', 'contenido': 'Este es un bloque informativo', 'next_id': 'Carrusel | 5aaf3158-308e-4b01-9283-f01f32d587c9 | 07418629-1549-9289-4157-116148457825 | bSkwpaFVCmMXS8G2PR6k', 'blocktype': 'informativo', 'contenttype': 'text', 'typingtime': '1', 'id_block': 2858, 'id_robot': 539, 'opc_nextid': None, 'pos_y': None, 'pos_x': None, 'tag_active': None}\n",
      "Datos recibidos INSERT:\n",
      "{'name_var': 'variableQrQuickReply_|_9cd75eb1-5f87-4a23-84aa-d6de05ed56b88425', 'opc_type': 'Variable', 'var': 0, 'opc_data': 'String', 'id_robot': 539}\n",
      "intenatando consulta...\n",
      "consulta: select * from variables where name_var= 'variableQrQuickReply_|_9cd75eb1-5f87-4a23-84aa-d6de05ed56b88425' and opc_type= 'Variable' and var= '0' and opc_data= 'String' and id_robot= '539' ;\n",
      "Datos enviados INSERT:\n",
      "{'id_var': 1886, 'opc_type': 'Variable', 'opc_data': 'String', 'var': '0', 'id_robot': 539, 'name_var': 'variableQrQuickReply_|_9cd75eb1-5f87-4a23-84aa-d6de05ed56b88425'}\n",
      "Datos recibidos INSERT:\n",
      "{'contenido': 'QUICKREPLY 1', 'opciones': 'SALIDA 1', 'next_id': 'Input | cd6d4be8-c346-4550-a26e-4bb9a7230d3b | bSkwpaFVCmMXS8G2PR6k', 'default_id': 'QuickReply | 9cd75eb1-5f87-4a23-84aa-d6de05ed56b8 | 07418629-1549-9289-4157-116148457825 | bSkwpaFVCmMXS8G2PR6k', 'namestate': 'QuickReply | 9cd75eb1-5f87-4a23-84aa-d6de05ed56b8 | 07418629-1549-9289-4157-116148457825 | bSkwpaFVCmMXS8G2PR6k', 'typingtime': '1', 'id_robot': 539, 'id_var': 1886, 'blocktype': 'quickReply'}\n",
      "intenatando consulta...\n",
      "consulta: select * from bloquequickreply where contenido= 'QUICKREPLY 1' and opciones= 'SALIDA 1' and next_id= 'Input | cd6d4be8-c346-4550-a26e-4bb9a7230d3b | bSkwpaFVCmMXS8G2PR6k' and default_id= 'QuickReply | 9cd75eb1-5f87-4a23-84aa-d6de05ed56b8 | 07418629-1549-9289-4157-116148457825 | bSkwpaFVCmMXS8G2PR6k' and namestate= 'QuickReply | 9cd75eb1-5f87-4a23-84aa-d6de05ed56b8 | 07418629-1549-9289-4157-116148457825 | bSkwpaFVCmMXS8G2PR6k' and typingtime= '1' and id_robot= '539' and id_var= '1886' and blocktype= 'quickReply' ;\n"
     ]
    },
    {
     "name": "stderr",
     "output_type": "stream",
     "text": [
      "127.0.0.1 - - [15/Jun/2021 00:04:59] \"\u001b[37mPOST /insert/bloquequickreply HTTP/1.1\u001b[0m\" 200 -\n",
      "127.0.0.1 - - [15/Jun/2021 00:04:59] \"\u001b[37mPOST /insert/variables HTTP/1.1\u001b[0m\" 200 -\n",
      "127.0.0.1 - - [15/Jun/2021 00:04:59] \"\u001b[37mPOST /insert/bloquequickreply HTTP/1.1\u001b[0m\" 200 -\n"
     ]
    },
    {
     "name": "stdout",
     "output_type": "stream",
     "text": [
      "Datos enviados INSERT:\n",
      "{'namestate': 'QuickReply | 9cd75eb1-5f87-4a23-84aa-d6de05ed56b8 | 07418629-1549-9289-4157-116148457825 | bSkwpaFVCmMXS8G2PR6k', 'contenido': 'QUICKREPLY 1', 'opciones': 'SALIDA 1', 'next_id': 'Input | cd6d4be8-c346-4550-a26e-4bb9a7230d3b | bSkwpaFVCmMXS8G2PR6k', 'blocktype': 'quickReply', 'typingtime': '1', 'default_id': 'QuickReply | 9cd75eb1-5f87-4a23-84aa-d6de05ed56b8 | 07418629-1549-9289-4157-116148457825 | bSkwpaFVCmMXS8G2PR6k', 'id_var': '1886', 'id_block': 684, 'id_robot': 539, 'opc_nextid': None, 'pos_y': None, 'pos_x': None, 'tag_active': None}\n",
      "Datos recibidos INSERT:\n",
      "{'name_var': 'variableQrQuickReply_|_f962f2fb-1047-4062-bac8-798fddc79ff28692', 'opc_type': 'Variable', 'var': 0, 'opc_data': 'String', 'id_robot': 539}\n",
      "intenatando consulta...\n",
      "consulta: select * from variables where name_var= 'variableQrQuickReply_|_f962f2fb-1047-4062-bac8-798fddc79ff28692' and opc_type= 'Variable' and var= '0' and opc_data= 'String' and id_robot= '539' ;\n",
      "Datos enviados INSERT:\n",
      "{'id_var': 1887, 'opc_type': 'Variable', 'opc_data': 'String', 'var': '0', 'id_robot': 539, 'name_var': 'variableQrQuickReply_|_f962f2fb-1047-4062-bac8-798fddc79ff28692'}\n",
      "Datos recibidos INSERT:\n",
      "{'contenido': 'Aprieta el siguiente botón para empezar de nuevo la conversación.', 'opciones': 'Inicio', 'next_id': 'Input | cd6d4be8-c346-4550-a26e-4bb9a7230d3b | bSkwpaFVCmMXS8G2PR6k', 'default_id': 'QuickReply | f962f2fb-1047-4062-bac8-798fddc79ff2 | 07418629-1549-9289-4157-116148457825 | bSkwpaFVCmMXS8G2PR6k', 'namestate': 'QuickReply | f962f2fb-1047-4062-bac8-798fddc79ff2 | 07418629-1549-9289-4157-116148457825 | bSkwpaFVCmMXS8G2PR6k', 'typingtime': '1', 'id_robot': 539, 'id_var': 1887, 'blocktype': 'quickReply'}\n",
      "intenatando consulta...\n",
      "consulta: select * from bloquequickreply where contenido= 'Aprieta el siguiente botón para empezar de nuevo la conversación.' and opciones= 'Inicio' and next_id= 'Input | cd6d4be8-c346-4550-a26e-4bb9a7230d3b | bSkwpaFVCmMXS8G2PR6k' and default_id= 'QuickReply | f962f2fb-1047-4062-bac8-798fddc79ff2 | 07418629-1549-9289-4157-116148457825 | bSkwpaFVCmMXS8G2PR6k' and namestate= 'QuickReply | f962f2fb-1047-4062-bac8-798fddc79ff2 | 07418629-1549-9289-4157-116148457825 | bSkwpaFVCmMXS8G2PR6k' and typingtime= '1' and id_robot= '539' and id_var= '1887' and blocktype= 'quickReply' ;\n",
      "Datos enviados INSERT:\n",
      "{'namestate': 'QuickReply | f962f2fb-1047-4062-bac8-798fddc79ff2 | 07418629-1549-9289-4157-116148457825 | bSkwpaFVCmMXS8G2PR6k', 'contenido': 'Aprieta el siguiente botón para empezar de nuevo la conversación.', 'opciones': 'Inicio', 'next_id': 'Input | cd6d4be8-c346-4550-a26e-4bb9a7230d3b | bSkwpaFVCmMXS8G2PR6k', 'blocktype': 'quickReply', 'typingtime': '1', 'default_id': 'QuickReply | f962f2fb-1047-4062-bac8-798fddc79ff2 | 07418629-1549-9289-4157-116148457825 | bSkwpaFVCmMXS8G2PR6k', 'id_var': '1887', 'id_block': 685, 'id_robot': 539, 'opc_nextid': None, 'pos_y': None, 'pos_x': None, 'tag_active': None}\n",
      "Datos recibidos INSERT:\n",
      "{'next_id': 'Informativo | 98a8f39d-6761-48e7-aca7-66279cfabf40 | 07418629-1549-9289-4157-116148457825 | bSkwpaFVCmMXS8G2PR6k', 'namestate': 'Informativo | d9897d01-e0ce-44bd-ba3d-22973a7d74fd | bSkwpaFVCmMXS8G2PR6k', 'contenido': 'Soy el chatbot del TT-A056', 'contenttype': 'text', 'typingtime': '1', 'id_robot': 539, 'blocktype': 'informativo'}\n"
     ]
    },
    {
     "name": "stderr",
     "output_type": "stream",
     "text": [
      "127.0.0.1 - - [15/Jun/2021 00:04:59] \"\u001b[37mPOST /insert/bloqueinformativo HTTP/1.1\u001b[0m\" 200 -\n",
      "127.0.0.1 - - [15/Jun/2021 00:04:59] \"\u001b[37mPOST /insert/bloqueinformativo HTTP/1.1\u001b[0m\" 200 -\n",
      "127.0.0.1 - - [15/Jun/2021 00:04:59] \"\u001b[37mPOST /insert/variables HTTP/1.1\u001b[0m\" 200 -\n"
     ]
    },
    {
     "name": "stdout",
     "output_type": "stream",
     "text": [
      "intenatando consulta...\n",
      "consulta: select * from bloqueinformativo where next_id= 'Informativo | 98a8f39d-6761-48e7-aca7-66279cfabf40 | 07418629-1549-9289-4157-116148457825 | bSkwpaFVCmMXS8G2PR6k' and namestate= 'Informativo | d9897d01-e0ce-44bd-ba3d-22973a7d74fd | bSkwpaFVCmMXS8G2PR6k' and contenido= 'Soy el chatbot del TT-A056' and contenttype= 'text' and typingtime= '1' and id_robot= '539' and blocktype= 'informativo' ;\n",
      "Datos enviados INSERT:\n",
      "{'namestate': 'Informativo | d9897d01-e0ce-44bd-ba3d-22973a7d74fd | bSkwpaFVCmMXS8G2PR6k', 'contenido': 'Soy el chatbot del TT-A056', 'next_id': 'Informativo | 98a8f39d-6761-48e7-aca7-66279cfabf40 | 07418629-1549-9289-4157-116148457825 | bSkwpaFVCmMXS8G2PR6k', 'blocktype': 'informativo', 'contenttype': 'text', 'typingtime': '1', 'id_block': 2859, 'id_robot': 539, 'opc_nextid': None, 'pos_y': None, 'pos_x': None, 'tag_active': None}\n",
      "Datos recibidos INSERT:\n",
      "{'next_id': 'Salida', 'namestate': 'Informativo | eb6262bf-2b65-4dc7-9d6a-9a8544083dde | bSkwpaFVCmMXS8G2PR6k', 'contenido': 'Adios', 'contenttype': 'text', 'typingtime': '1', 'id_robot': 539, 'blocktype': 'informativo'}\n",
      "intenatando consulta...\n",
      "consulta: select * from bloqueinformativo where next_id= 'Salida' and namestate= 'Informativo | eb6262bf-2b65-4dc7-9d6a-9a8544083dde | bSkwpaFVCmMXS8G2PR6k' and contenido= 'Adios' and contenttype= 'text' and typingtime= '1' and id_robot= '539' and blocktype= 'informativo' ;\n",
      "Datos enviados INSERT:\n",
      "{'namestate': 'Informativo | eb6262bf-2b65-4dc7-9d6a-9a8544083dde | bSkwpaFVCmMXS8G2PR6k', 'contenido': 'Adios', 'next_id': 'Salida', 'blocktype': 'informativo', 'contenttype': 'text', 'typingtime': '1', 'id_block': 2860, 'id_robot': 539, 'opc_nextid': None, 'pos_y': None, 'pos_x': None, 'tag_active': None}\n",
      "Datos recibidos INSERT:\n",
      "{'name_var': 'variableInputInput_|_cd6d4be8-c346-4550-a26e-4bb9a7230d3b4668', 'opc_type': 'Variable', 'var': 0, 'opc_data': 'String', 'id_robot': 539}\n",
      "intenatando consulta...\n",
      "consulta: select * from variables where name_var= 'variableInputInput_|_cd6d4be8-c346-4550-a26e-4bb9a7230d3b4668' and opc_type= 'Variable' and var= '0' and opc_data= 'String' and id_robot= '539' ;\n",
      "Datos enviados INSERT:\n",
      "{'id_var': 1888, 'opc_type': 'Variable', 'opc_data': 'String', 'var': '0', 'id_robot': 539, 'name_var': 'variableInputInput_|_cd6d4be8-c346-4550-a26e-4bb9a7230d3b4668'}\n",
      "Datos recibidos INSERT:\n",
      "{'next_id': 'Informativo | 34fa0024-002a-4673-8b70-6419afef7d4d | 19627070-4044-4254-7133-869533412022 | bSkwpaFVCmMXS8G2PR6k', 'default_id': 'Input | cd6d4be8-c346-4550-a26e-4bb9a7230d3b | bSkwpaFVCmMXS8G2PR6k', 'namestate': 'Input | cd6d4be8-c346-4550-a26e-4bb9a7230d3b | bSkwpaFVCmMXS8G2PR6k', 'contenido': 'Ingresa tu nombre', 'typingtime': '1', 'validacion': '', 'id_robot': 539, 'id_var': 1888, 'blocktype': 'input'}\n"
     ]
    },
    {
     "name": "stderr",
     "output_type": "stream",
     "text": [
      "127.0.0.1 - - [15/Jun/2021 00:04:59] \"\u001b[37mPOST /insert/bloqueinput HTTP/1.1\u001b[0m\" 200 -\n",
      "127.0.0.1 - - [15/Jun/2021 00:04:59] \"\u001b[37mPOST /insert/bloqueinformativo HTTP/1.1\u001b[0m\" 200 -\n"
     ]
    },
    {
     "name": "stdout",
     "output_type": "stream",
     "text": [
      "intenatando consulta...\n",
      "consulta: select * from bloqueinput where next_id= 'Informativo | 34fa0024-002a-4673-8b70-6419afef7d4d | 19627070-4044-4254-7133-869533412022 | bSkwpaFVCmMXS8G2PR6k' and default_id= 'Input | cd6d4be8-c346-4550-a26e-4bb9a7230d3b | bSkwpaFVCmMXS8G2PR6k' and namestate= 'Input | cd6d4be8-c346-4550-a26e-4bb9a7230d3b | bSkwpaFVCmMXS8G2PR6k' and contenido= 'Ingresa tu nombre' and typingtime= '1' and validacion= '' and id_robot= '539' and id_var= '1888' and blocktype= 'input' ;\n",
      "Datos enviados INSERT:\n",
      "{'namestate': 'Input | cd6d4be8-c346-4550-a26e-4bb9a7230d3b | bSkwpaFVCmMXS8G2PR6k', 'contenido': 'Ingresa tu nombre', 'next_id': 'Informativo | 34fa0024-002a-4673-8b70-6419afef7d4d | 19627070-4044-4254-7133-869533412022 | bSkwpaFVCmMXS8G2PR6k', 'blocktype': 'input', 'contenttype': None, 'typingtime': '1', 'validacion': '', 'default_id': 'Input | cd6d4be8-c346-4550-a26e-4bb9a7230d3b | bSkwpaFVCmMXS8G2PR6k', 'id_var': '1888', 'id_block': 405, 'id_robot': 539, 'opc_nextid': None, 'pos_y': None, 'pos_x': None, 'tag_active': None}\n",
      "Datos recibidos INSERT:\n",
      "{'next_id': '', 'namestate': 'Salida', 'contenido': '', 'contenttype': 'text', 'typingtime': 3, 'id_robot': 539, 'blocktype': 'informativo'}\n",
      "intenatando consulta...\n",
      "consulta: select * from bloqueinformativo where next_id= '' and namestate= 'Salida' and contenido= '' and contenttype= 'text' and typingtime= '3' and id_robot= '539' and blocktype= 'informativo' ;\n",
      "Datos enviados INSERT:\n",
      "{'namestate': 'Salida', 'contenido': '', 'next_id': '', 'blocktype': 'informativo', 'contenttype': 'text', 'typingtime': '3', 'id_block': 2861, 'id_robot': 539, 'opc_nextid': None, 'pos_y': None, 'pos_x': None, 'tag_active': None}\n"
     ]
    },
    {
     "name": "stderr",
     "output_type": "stream",
     "text": [
      "127.0.0.1 - - [15/Jun/2021 00:06:08] \"\u001b[37mGET /select/robots HTTP/1.1\u001b[0m\" 200 -\n",
      "127.0.0.1 - - [15/Jun/2021 00:06:08] \"\u001b[37mPOST /insert/robots HTTP/1.1\u001b[0m\" 200 -\n",
      "127.0.0.1 - - [15/Jun/2021 00:06:08] \"\u001b[37mPOST /insert/variables HTTP/1.1\u001b[0m\" 200 -\n"
     ]
    },
    {
     "name": "stdout",
     "output_type": "stream",
     "text": [
      "Datos recibidos SELECT:\n",
      "{'name_robot': 'CHATBOT TT 2020 A056', 'id_face': '100750202253729', 'block_ini': 'Informativo | d9897d01-e0ce-44bd-ba3d-22973a7d74fd | bSkwpaFVCmMXS8G2PR6k', 'type_blocki': 'informativo', 'access_token': 'EAALZCCZBzPwfkBACf3gal1zeLIkZAxC8ecQ6qmRixvqGJJXtfQvE7S2zNpkdf0BpKR79BZAOawgUcm8IQN9NecBZB25Q8ZCWDFAH50ihRis7XfHm4UM3bYNqgmmKZCKkLnhGGxf2FO8eLr8CVkgp3PgJWiBQVKTO7DRtAZA1IjaLIk1xGTZBunRJ6', 'id_user': 'charlygoldcruz@gmail.com', 'api_nlp': 'http://localhost:8282/'}\n",
      "intenatando consulta...\n",
      "consulta: select * from robots where id_face = '100750202253729';\n",
      "La consulta no trajo nada\n",
      "Datos enviados SELECT:\n",
      "{'error': 'true'}\n",
      "Datos recibidos INSERT:\n",
      "{'name_robot': 'CHATBOT TT 2020 A056', 'id_face': '100750202253729', 'block_ini': 'Informativo | d9897d01-e0ce-44bd-ba3d-22973a7d74fd | bSkwpaFVCmMXS8G2PR6k', 'type_blocki': 'informativo', 'access_token': 'EAALZCCZBzPwfkBACf3gal1zeLIkZAxC8ecQ6qmRixvqGJJXtfQvE7S2zNpkdf0BpKR79BZAOawgUcm8IQN9NecBZB25Q8ZCWDFAH50ihRis7XfHm4UM3bYNqgmmKZCKkLnhGGxf2FO8eLr8CVkgp3PgJWiBQVKTO7DRtAZA1IjaLIk1xGTZBunRJ6', 'id_user': 'charlygoldcruz@gmail.com', 'api_nlp': 'http://localhost:8282/'}\n",
      "intenatando consulta...\n",
      "consulta: select * from robots where id_face = '100750202253729';\n",
      "Datos enviados INSERT:\n",
      "{'name_robot': 'CHATBOT TT 2020 A056', 'id_face': '100750202253729', 'block_ini': 'Informativo | d9897d01-e0ce-44bd-ba3d-22973a7d74fd | bSkwpaFVCmMXS8G2PR6k', 'type_blocki': 'informativo', 'access_token': 'EAALZCCZBzPwfkBACf3gal1zeLIkZAxC8ecQ6qmRixvqGJJXtfQvE7S2zNpkdf0BpKR79BZAOawgUcm8IQN9NecBZB25Q8ZCWDFAH50ihRis7XfHm4UM3bYNqgmmKZCKkLnhGGxf2FO8eLr8CVkgp3PgJWiBQVKTO7DRtAZA1IjaLIk1xGTZBunRJ6', 'api_nlp': 'http://localhost:8282/', 'id_robot': 540, 'id_user': 'charlygoldcruz@gmail.com'}\n",
      "Datos recibidos INSERT:\n",
      "{'name_var': 'varCarrusel_|_fdd978d8-d9e9-4f74-8d01-07d1a43ecba84842', 'opc_type': 'Variable', 'var': 0, 'opc_data': 'String', 'id_robot': 540}\n",
      "intenatando consulta...\n",
      "consulta: select * from variables where name_var= 'varCarrusel_|_fdd978d8-d9e9-4f74-8d01-07d1a43ecba84842' and opc_type= 'Variable' and var= '0' and opc_data= 'String' and id_robot= '540' ;\n",
      "Datos enviados INSERT:\n",
      "{'id_var': 1889, 'opc_type': 'Variable', 'opc_data': 'String', 'var': '0', 'id_robot': 540, 'name_var': 'varCarrusel_|_fdd978d8-d9e9-4f74-8d01-07d1a43ecba84842'}\n"
     ]
    },
    {
     "name": "stderr",
     "output_type": "stream",
     "text": [
      "127.0.0.1 - - [15/Jun/2021 00:06:08] \"\u001b[37mPOST /insert/bloqueslide HTTP/1.1\u001b[0m\" 200 -\n",
      "127.0.0.1 - - [15/Jun/2021 00:06:08] \"\u001b[37mPOST /insert/elementos HTTP/1.1\u001b[0m\" 200 -\n"
     ]
    },
    {
     "name": "stdout",
     "output_type": "stream",
     "text": [
      "Datos recibidos INSERT:\n",
      "{'namestate': 'Carrusel | fdd978d8-d9e9-4f74-8d01-07d1a43ecba8 | 98525253-9080-3718-4541-185145979160 | bSkwpaFVCmMXS8G2PR6k', 'blocktype': 'slide', 'typingtime': '1', 'default_id': 'Carrusel | fdd978d8-d9e9-4f74-8d01-07d1a43ecba8 | 98525253-9080-3718-4541-185145979160 | bSkwpaFVCmMXS8G2PR6k', 'id_var': 1889, 'id_robot': 540}\n",
      "intenatando consulta...\n",
      "consulta: select * from bloqueslide where namestate= 'Carrusel | fdd978d8-d9e9-4f74-8d01-07d1a43ecba8 | 98525253-9080-3718-4541-185145979160 | bSkwpaFVCmMXS8G2PR6k' and blocktype= 'slide' and typingtime= '1' and default_id= 'Carrusel | fdd978d8-d9e9-4f74-8d01-07d1a43ecba8 | 98525253-9080-3718-4541-185145979160 | bSkwpaFVCmMXS8G2PR6k' and id_var= '1889' and id_robot= '540' ;\n",
      "Datos enviados INSERT:\n",
      "{'namestate': 'Carrusel | fdd978d8-d9e9-4f74-8d01-07d1a43ecba8 | 98525253-9080-3718-4541-185145979160 | bSkwpaFVCmMXS8G2PR6k', 'next_id': None, 'blocktype': 'slide', 'typingtime': '1', 'default_id': 'Carrusel | fdd978d8-d9e9-4f74-8d01-07d1a43ecba8 | 98525253-9080-3718-4541-185145979160 | bSkwpaFVCmMXS8G2PR6k', 'id_var': '1889', 'id_block': 571, 'id_robot': 540, 'opc_nextid': None, 'pos_y': None, 'pos_x': None, 'opc_elm': None, 'tag_active': None}\n",
      "Datos recibidos INSERT:\n",
      "{'image_url': 'https://image.freepik.com/vector-gratis/caracter-banda-musica-ilustracion-dibujos-animados-plana_338371-15.jpg', 'title': 'Titulo 1 Plantilla 1', 'subtitle': 'S1', 'blocktype': 'slide', 'id_block': 571}\n",
      "intenatando consulta...\n",
      "consulta: select * from elementos where image_url= 'https://image.freepik.com/vector-gratis/caracter-banda-musica-ilustracion-dibujos-animados-plana_338371-15.jpg' and title= 'Titulo 1 Plantilla 1' and subtitle= 'S1' and blocktype= 'slide' and id_block= '571' ;\n",
      "Datos enviados INSERT:\n",
      "{'blocktype': 'slide', 'title': 'Titulo 1 Plantilla 1', 'image_url': 'https://image.freepik.com/vector-gratis/caracter-banda-musica-ilustracion-dibujos-animados-plana_338371-15.jpg', 'subtitle': 'S1', 'id_block': 571, 'id_elements': 974}\n",
      "Datos recibidos INSERT:\n",
      "{'id_elemento': '974', 'titlebutton': 'Salida 1', 'typebutton': 'postback', 'contentbutton': 'Informativo | eb6262bf-2b65-4dc7-9d6a-9a8544083dde | bSkwpaFVCmMXS8G2PR6k', 'opc_nextid': 'Informativo | eb6262bf-2b65-4dc7-9d6a-9a8544083dde | bSkwpaFVCmMXS8G2PR6k'}\n",
      "intenatando consulta...\n",
      "consulta: select * from botones where id_elemento= '974' and titlebutton= 'Salida 1' and typebutton= 'postback' and contentbutton= 'Informativo | eb6262bf-2b65-4dc7-9d6a-9a8544083dde | bSkwpaFVCmMXS8G2PR6k' and opc_nextid= 'Informativo | eb6262bf-2b65-4dc7-9d6a-9a8544083dde | bSkwpaFVCmMXS8G2PR6k' ;\n"
     ]
    },
    {
     "name": "stderr",
     "output_type": "stream",
     "text": [
      "127.0.0.1 - - [15/Jun/2021 00:06:09] \"\u001b[37mPOST /insert/botones HTTP/1.1\u001b[0m\" 200 -\n",
      "127.0.0.1 - - [15/Jun/2021 00:06:09] \"\u001b[37mPOST /insert/botones HTTP/1.1\u001b[0m\" 200 -\n",
      "127.0.0.1 - - [15/Jun/2021 00:06:09] \"\u001b[37mPOST /insert/elementos HTTP/1.1\u001b[0m\" 200 -\n"
     ]
    },
    {
     "name": "stdout",
     "output_type": "stream",
     "text": [
      "Datos enviados INSERT:\n",
      "{'id_elemento': '974', 'titlebutton': 'Salida 1', 'typebutton': 'postback', 'contentbutton': 'Informativo | eb6262bf-2b65-4dc7-9d6a-9a8544083dde | bSkwpaFVCmMXS8G2PR6k', 'id_boton': 1752, 'opc_nextid': 'Informativo | eb6262bf-2b65-4dc7-9d6a-9a8544083dde | bSkwpaFVCmMXS8G2PR6k'}\n",
      "Datos recibidos INSERT:\n",
      "{'id_elemento': '974', 'titlebutton': 'Salida 2', 'typebutton': 'postback', 'contentbutton': 'Informativo | eb6262bf-2b65-4dc7-9d6a-9a8544083dde | bSkwpaFVCmMXS8G2PR6k', 'opc_nextid': 'Informativo | eb6262bf-2b65-4dc7-9d6a-9a8544083dde | bSkwpaFVCmMXS8G2PR6k'}\n",
      "intenatando consulta...\n",
      "consulta: select * from botones where id_elemento= '974' and titlebutton= 'Salida 2' and typebutton= 'postback' and contentbutton= 'Informativo | eb6262bf-2b65-4dc7-9d6a-9a8544083dde | bSkwpaFVCmMXS8G2PR6k' and opc_nextid= 'Informativo | eb6262bf-2b65-4dc7-9d6a-9a8544083dde | bSkwpaFVCmMXS8G2PR6k' ;\n",
      "Datos enviados INSERT:\n",
      "{'id_elemento': '974', 'titlebutton': 'Salida 2', 'typebutton': 'postback', 'contentbutton': 'Informativo | eb6262bf-2b65-4dc7-9d6a-9a8544083dde | bSkwpaFVCmMXS8G2PR6k', 'id_boton': 1753, 'opc_nextid': 'Informativo | eb6262bf-2b65-4dc7-9d6a-9a8544083dde | bSkwpaFVCmMXS8G2PR6k'}\n",
      "Datos recibidos INSERT:\n",
      "{'subtitle': 'S2', 'image_url': 'https://www.muycomputer.com/wp-content/uploads/2020/04/Logitech-G203-rat%C3%B3n-gaming-barato-e1587628136683.jpg', 'title': 'P2', 'blocktype': 'slide', 'id_block': 571}\n",
      "intenatando consulta...\n",
      "consulta: select * from elementos where subtitle= 'S2' and image_url= 'https://www.muycomputer.com/wp-content/uploads/2020/04/Logitech-G203-rat%C3%B3n-gaming-barato-e1587628136683.jpg' and title= 'P2' and blocktype= 'slide' and id_block= '571' ;\n",
      "Datos enviados INSERT:\n",
      "{'blocktype': 'slide', 'title': 'P2', 'image_url': 'https://www.muycomputer.com/wp-content/uploads/2020/04/Logitech-G203-rat%C3%B3n-gaming-barato-e1587628136683.jpg', 'subtitle': 'S2', 'id_block': 571, 'id_elements': 975}\n"
     ]
    },
    {
     "name": "stderr",
     "output_type": "stream",
     "text": [
      "127.0.0.1 - - [15/Jun/2021 00:06:09] \"\u001b[37mPOST /insert/botones HTTP/1.1\u001b[0m\" 200 -\n",
      "127.0.0.1 - - [15/Jun/2021 00:06:09] \"\u001b[37mPOST /insert/botones HTTP/1.1\u001b[0m\" 200 -\n"
     ]
    },
    {
     "name": "stdout",
     "output_type": "stream",
     "text": [
      "Datos recibidos INSERT:\n",
      "{'id_elemento': '975', 'titlebutton': 'Google', 'typebutton': 'web_url', 'contentbutton': 'www.facebook.com', 'opc_nextid': 'www.facebook.com'}\n",
      "intenatando consulta...\n",
      "consulta: select * from botones where id_elemento= '975' and titlebutton= 'Google' and typebutton= 'web_url' and contentbutton= 'www.facebook.com' and opc_nextid= 'www.facebook.com' ;\n",
      "Datos enviados INSERT:\n",
      "{'id_elemento': '975', 'titlebutton': 'Google', 'typebutton': 'web_url', 'contentbutton': 'www.facebook.com', 'id_boton': 1754, 'opc_nextid': 'www.facebook.com'}\n",
      "Datos recibidos INSERT:\n",
      "{'id_elemento': '975', 'titlebutton': 'ABC', 'typebutton': 'web_url', 'contentbutton': 'www.ABC.com', 'opc_nextid': 'www.ABC.com'}\n",
      "intenatando consulta...\n",
      "consulta: select * from botones where id_elemento= '975' and titlebutton= 'ABC' and typebutton= 'web_url' and contentbutton= 'www.ABC.com' and opc_nextid= 'www.ABC.com' ;\n",
      "Datos enviados INSERT:\n",
      "{'id_elemento': '975', 'titlebutton': 'ABC', 'typebutton': 'web_url', 'contentbutton': 'www.ABC.com', 'id_boton': 1755, 'opc_nextid': 'www.ABC.com'}\n",
      "Datos recibidos INSERT:\n",
      "{'title': 'Plantilla 3', 'image_url': 'https://mmo.aiircdn.com/297/5f6a04de8d671.jpg', 'subtitle': 'Subtitulo 3', 'blocktype': 'slide', 'id_block': 571}\n",
      "intenatando consulta...\n",
      "consulta: select * from elementos where title= 'Plantilla 3' and image_url= 'https://mmo.aiircdn.com/297/5f6a04de8d671.jpg' and subtitle= 'Subtitulo 3' and blocktype= 'slide' and id_block= '571' ;\n"
     ]
    },
    {
     "name": "stderr",
     "output_type": "stream",
     "text": [
      "127.0.0.1 - - [15/Jun/2021 00:06:09] \"\u001b[37mPOST /insert/elementos HTTP/1.1\u001b[0m\" 200 -\n",
      "127.0.0.1 - - [15/Jun/2021 00:06:09] \"\u001b[37mPOST /insert/botones HTTP/1.1\u001b[0m\" 200 -\n",
      "127.0.0.1 - - [15/Jun/2021 00:06:09] \"\u001b[37mPOST /insert/botones HTTP/1.1\u001b[0m\" 200 -\n"
     ]
    },
    {
     "name": "stdout",
     "output_type": "stream",
     "text": [
      "Datos enviados INSERT:\n",
      "{'blocktype': 'slide', 'title': 'Plantilla 3', 'image_url': 'https://mmo.aiircdn.com/297/5f6a04de8d671.jpg', 'subtitle': 'Subtitulo 3', 'id_block': 571, 'id_elements': 976}\n",
      "Datos recibidos INSERT:\n",
      "{'id_elemento': '976', 'titlebutton': 'Input', 'typebutton': 'postback', 'contentbutton': 'Informativo | eb6262bf-2b65-4dc7-9d6a-9a8544083dde | bSkwpaFVCmMXS8G2PR6k', 'opc_nextid': 'Informativo | eb6262bf-2b65-4dc7-9d6a-9a8544083dde | bSkwpaFVCmMXS8G2PR6k'}\n",
      "intenatando consulta...\n",
      "consulta: select * from botones where id_elemento= '976' and titlebutton= 'Input' and typebutton= 'postback' and contentbutton= 'Informativo | eb6262bf-2b65-4dc7-9d6a-9a8544083dde | bSkwpaFVCmMXS8G2PR6k' and opc_nextid= 'Informativo | eb6262bf-2b65-4dc7-9d6a-9a8544083dde | bSkwpaFVCmMXS8G2PR6k' ;\n",
      "Datos enviados INSERT:\n",
      "{'id_elemento': '976', 'titlebutton': 'Input', 'typebutton': 'postback', 'contentbutton': 'Informativo | eb6262bf-2b65-4dc7-9d6a-9a8544083dde | bSkwpaFVCmMXS8G2PR6k', 'id_boton': 1756, 'opc_nextid': 'Informativo | eb6262bf-2b65-4dc7-9d6a-9a8544083dde | bSkwpaFVCmMXS8G2PR6k'}\n",
      "Datos recibidos INSERT:\n",
      "{'id_elemento': '976', 'titlebutton': 'Opcion 6', 'typebutton': 'postback', 'contentbutton': 'Informativo | eb6262bf-2b65-4dc7-9d6a-9a8544083dde | bSkwpaFVCmMXS8G2PR6k', 'opc_nextid': 'Informativo | eb6262bf-2b65-4dc7-9d6a-9a8544083dde | bSkwpaFVCmMXS8G2PR6k'}\n",
      "intenatando consulta...\n",
      "consulta: select * from botones where id_elemento= '976' and titlebutton= 'Opcion 6' and typebutton= 'postback' and contentbutton= 'Informativo | eb6262bf-2b65-4dc7-9d6a-9a8544083dde | bSkwpaFVCmMXS8G2PR6k' and opc_nextid= 'Informativo | eb6262bf-2b65-4dc7-9d6a-9a8544083dde | bSkwpaFVCmMXS8G2PR6k' ;\n",
      "Datos enviados INSERT:\n",
      "{'id_elemento': '976', 'titlebutton': 'Opcion 6', 'typebutton': 'postback', 'contentbutton': 'Informativo | eb6262bf-2b65-4dc7-9d6a-9a8544083dde | bSkwpaFVCmMXS8G2PR6k', 'id_boton': 1757, 'opc_nextid': 'Informativo | eb6262bf-2b65-4dc7-9d6a-9a8544083dde | bSkwpaFVCmMXS8G2PR6k'}\n"
     ]
    },
    {
     "name": "stderr",
     "output_type": "stream",
     "text": [
      "127.0.0.1 - - [15/Jun/2021 00:06:09] \"\u001b[37mPOST /insert/bloqueinformativo HTTP/1.1\u001b[0m\" 200 -\n",
      "127.0.0.1 - - [15/Jun/2021 00:06:09] \"\u001b[37mPOST /insert/bloqueinformativo HTTP/1.1\u001b[0m\" 200 -\n"
     ]
    },
    {
     "name": "stdout",
     "output_type": "stream",
     "text": [
      "Datos recibidos INSERT:\n",
      "{'next_id': 'Intermedio | 39a8d681-4868-4b9c-98e4-9a8db0681865 | 98525253-9080-3718-4541-185145979160 | bSkwpaFVCmMXS8G2PR6k', 'namestate': 'Informativo | 7e74c6f6-46db-4b00-b8b3-07aac064e1de | 98525253-9080-3718-4541-185145979160 | bSkwpaFVCmMXS8G2PR6k', 'contenido': 'Hola, me he editado soy un bloque informativo', 'contenttype': 'text', 'typingtime': '2', 'id_robot': 540, 'blocktype': 'informativo'}\n",
      "intenatando consulta...\n",
      "consulta: select * from bloqueinformativo where next_id= 'Intermedio | 39a8d681-4868-4b9c-98e4-9a8db0681865 | 98525253-9080-3718-4541-185145979160 | bSkwpaFVCmMXS8G2PR6k' and namestate= 'Informativo | 7e74c6f6-46db-4b00-b8b3-07aac064e1de | 98525253-9080-3718-4541-185145979160 | bSkwpaFVCmMXS8G2PR6k' and contenido= 'Hola, me he editado soy un bloque informativo' and contenttype= 'text' and typingtime= '2' and id_robot= '540' and blocktype= 'informativo' ;\n",
      "Datos enviados INSERT:\n",
      "{'namestate': 'Informativo | 7e74c6f6-46db-4b00-b8b3-07aac064e1de | 98525253-9080-3718-4541-185145979160 | bSkwpaFVCmMXS8G2PR6k', 'contenido': 'Hola, me he editado soy un bloque informativo', 'next_id': 'Intermedio | 39a8d681-4868-4b9c-98e4-9a8db0681865 | 98525253-9080-3718-4541-185145979160 | bSkwpaFVCmMXS8G2PR6k', 'blocktype': 'informativo', 'contenttype': 'text', 'typingtime': '2', 'id_block': 2862, 'id_robot': 540, 'opc_nextid': None, 'pos_y': None, 'pos_x': None, 'tag_active': None}\n",
      "Datos recibidos INSERT:\n",
      "{'next_id': 'Carrusel | fdd978d8-d9e9-4f74-8d01-07d1a43ecba8 | 98525253-9080-3718-4541-185145979160 | bSkwpaFVCmMXS8G2PR6k', 'namestate': 'Intermedio | 39a8d681-4868-4b9c-98e4-9a8db0681865 | 98525253-9080-3718-4541-185145979160 | bSkwpaFVCmMXS8G2PR6k', 'contenido': 'Este es un bloque intermedio', 'contenttype': 'text', 'typingtime': '1', 'id_robot': 540, 'blocktype': 'informativo'}\n",
      "intenatando consulta...\n",
      "consulta: select * from bloqueinformativo where next_id= 'Carrusel | fdd978d8-d9e9-4f74-8d01-07d1a43ecba8 | 98525253-9080-3718-4541-185145979160 | bSkwpaFVCmMXS8G2PR6k' and namestate= 'Intermedio | 39a8d681-4868-4b9c-98e4-9a8db0681865 | 98525253-9080-3718-4541-185145979160 | bSkwpaFVCmMXS8G2PR6k' and contenido= 'Este es un bloque intermedio' and contenttype= 'text' and typingtime= '1' and id_robot= '540' and blocktype= 'informativo' ;\n",
      "Datos enviados INSERT:\n",
      "{'namestate': 'Intermedio | 39a8d681-4868-4b9c-98e4-9a8db0681865 | 98525253-9080-3718-4541-185145979160 | bSkwpaFVCmMXS8G2PR6k', 'contenido': 'Este es un bloque intermedio', 'next_id': 'Carrusel | fdd978d8-d9e9-4f74-8d01-07d1a43ecba8 | 98525253-9080-3718-4541-185145979160 | bSkwpaFVCmMXS8G2PR6k', 'blocktype': 'informativo', 'contenttype': 'text', 'typingtime': '1', 'id_block': 2863, 'id_robot': 540, 'opc_nextid': None, 'pos_y': None, 'pos_x': None, 'tag_active': None}\n",
      "Datos recibidos INSERT:\n",
      "{'name_var': 'undefinedCarrusel_|_cce128da-fc3c-4ab8-8733-0f93dff9b0ca6732', 'opc_type': 'Variable', 'var': 0, 'opc_data': 'String', 'id_robot': 540}\n"
     ]
    },
    {
     "name": "stderr",
     "output_type": "stream",
     "text": [
      "127.0.0.1 - - [15/Jun/2021 00:06:09] \"\u001b[37mPOST /insert/variables HTTP/1.1\u001b[0m\" 200 -\n",
      "127.0.0.1 - - [15/Jun/2021 00:06:09] \"\u001b[37mPOST /insert/bloqueslide HTTP/1.1\u001b[0m\" 200 -\n",
      "127.0.0.1 - - [15/Jun/2021 00:06:10] \"\u001b[37mPOST /insert/elementos HTTP/1.1\u001b[0m\" 200 -\n"
     ]
    },
    {
     "name": "stdout",
     "output_type": "stream",
     "text": [
      "intenatando consulta...\n",
      "consulta: select * from variables where name_var= 'undefinedCarrusel_|_cce128da-fc3c-4ab8-8733-0f93dff9b0ca6732' and opc_type= 'Variable' and var= '0' and opc_data= 'String' and id_robot= '540' ;\n",
      "Datos enviados INSERT:\n",
      "{'id_var': 1890, 'opc_type': 'Variable', 'opc_data': 'String', 'var': '0', 'id_robot': 540, 'name_var': 'undefinedCarrusel_|_cce128da-fc3c-4ab8-8733-0f93dff9b0ca6732'}\n",
      "Datos recibidos INSERT:\n",
      "{'namestate': 'Carrusel | cce128da-fc3c-4ab8-8733-0f93dff9b0ca | 19627070-4044-4254-7133-869533412022 | bSkwpaFVCmMXS8G2PR6k', 'blocktype': 'slide', 'typingtime': '1', 'default_id': 'Carrusel | cce128da-fc3c-4ab8-8733-0f93dff9b0ca | 19627070-4044-4254-7133-869533412022 | bSkwpaFVCmMXS8G2PR6k', 'id_var': 1890, 'id_robot': 540}\n",
      "intenatando consulta...\n",
      "consulta: select * from bloqueslide where namestate= 'Carrusel | cce128da-fc3c-4ab8-8733-0f93dff9b0ca | 19627070-4044-4254-7133-869533412022 | bSkwpaFVCmMXS8G2PR6k' and blocktype= 'slide' and typingtime= '1' and default_id= 'Carrusel | cce128da-fc3c-4ab8-8733-0f93dff9b0ca | 19627070-4044-4254-7133-869533412022 | bSkwpaFVCmMXS8G2PR6k' and id_var= '1890' and id_robot= '540' ;\n",
      "Datos enviados INSERT:\n",
      "{'namestate': 'Carrusel | cce128da-fc3c-4ab8-8733-0f93dff9b0ca | 19627070-4044-4254-7133-869533412022 | bSkwpaFVCmMXS8G2PR6k', 'next_id': None, 'blocktype': 'slide', 'typingtime': '1', 'default_id': 'Carrusel | cce128da-fc3c-4ab8-8733-0f93dff9b0ca | 19627070-4044-4254-7133-869533412022 | bSkwpaFVCmMXS8G2PR6k', 'id_var': '1890', 'id_block': 572, 'id_robot': 540, 'opc_nextid': None, 'pos_y': None, 'pos_x': None, 'opc_elm': None, 'tag_active': None}\n",
      "Datos recibidos INSERT:\n",
      "{'title': 'Titulo 1', 'image_url': 'https://jalisco.quadratin.com.mx/www/wp-content/uploads/2020/11/grupo-firme-1-1160x700.jpg', 'subtitle': 'Subtitulo 1', 'blocktype': 'slide', 'id_block': 572}\n",
      "intenatando consulta...\n",
      "consulta: select * from elementos where title= 'Titulo 1' and image_url= 'https://jalisco.quadratin.com.mx/www/wp-content/uploads/2020/11/grupo-firme-1-1160x700.jpg' and subtitle= 'Subtitulo 1' and blocktype= 'slide' and id_block= '572' ;\n",
      "Datos enviados INSERT:\n",
      "{'blocktype': 'slide', 'title': 'Titulo 1', 'image_url': 'https://jalisco.quadratin.com.mx/www/wp-content/uploads/2020/11/grupo-firme-1-1160x700.jpg', 'subtitle': 'Subtitulo 1', 'id_block': 572, 'id_elements': 977}\n"
     ]
    },
    {
     "name": "stderr",
     "output_type": "stream",
     "text": [
      "127.0.0.1 - - [15/Jun/2021 00:06:10] \"\u001b[37mPOST /insert/botones HTTP/1.1\u001b[0m\" 200 -\n",
      "127.0.0.1 - - [15/Jun/2021 00:06:10] \"\u001b[37mPOST /insert/botones HTTP/1.1\u001b[0m\" 200 -\n"
     ]
    },
    {
     "name": "stdout",
     "output_type": "stream",
     "text": [
      "Datos recibidos INSERT:\n",
      "{'id_elemento': '977', 'titlebutton': 'Salida 1', 'typebutton': 'postback', 'contentbutton': 'Informativo | 7e74c6f6-46db-4b00-b8b3-07aac064e1de | 98525253-9080-3718-4541-185145979160 | bSkwpaFVCmMXS8G2PR6k', 'opc_nextid': 'Informativo | 7e74c6f6-46db-4b00-b8b3-07aac064e1de | 98525253-9080-3718-4541-185145979160 | bSkwpaFVCmMXS8G2PR6k'}\n",
      "intenatando consulta...\n",
      "consulta: select * from botones where id_elemento= '977' and titlebutton= 'Salida 1' and typebutton= 'postback' and contentbutton= 'Informativo | 7e74c6f6-46db-4b00-b8b3-07aac064e1de | 98525253-9080-3718-4541-185145979160 | bSkwpaFVCmMXS8G2PR6k' and opc_nextid= 'Informativo | 7e74c6f6-46db-4b00-b8b3-07aac064e1de | 98525253-9080-3718-4541-185145979160 | bSkwpaFVCmMXS8G2PR6k' ;\n",
      "Datos enviados INSERT:\n",
      "{'id_elemento': '977', 'titlebutton': 'Salida 1', 'typebutton': 'postback', 'contentbutton': 'Informativo | 7e74c6f6-46db-4b00-b8b3-07aac064e1de | 98525253-9080-3718-4541-185145979160 | bSkwpaFVCmMXS8G2PR6k', 'id_boton': 1758, 'opc_nextid': 'Informativo | 7e74c6f6-46db-4b00-b8b3-07aac064e1de | 98525253-9080-3718-4541-185145979160 | bSkwpaFVCmMXS8G2PR6k'}\n",
      "Datos recibidos INSERT:\n",
      "{'id_elemento': '977', 'titlebutton': 'Facebook', 'typebutton': 'postback', 'contentbutton': 'Input prueba carrusel 2 | 3e82e3b7-d8da-4955-aff4-9bcbee291db6 | 19627070-4044-4254-7133-869533412022 | bSkwpaFVCmMXS8G2PR6k', 'opc_nextid': 'Input prueba carrusel 2 | 3e82e3b7-d8da-4955-aff4-9bcbee291db6 | 19627070-4044-4254-7133-869533412022 | bSkwpaFVCmMXS8G2PR6k'}\n",
      "intenatando consulta...\n",
      "consulta: select * from botones where id_elemento= '977' and titlebutton= 'Facebook' and typebutton= 'postback' and contentbutton= 'Input prueba carrusel 2 | 3e82e3b7-d8da-4955-aff4-9bcbee291db6 | 19627070-4044-4254-7133-869533412022 | bSkwpaFVCmMXS8G2PR6k' and opc_nextid= 'Input prueba carrusel 2 | 3e82e3b7-d8da-4955-aff4-9bcbee291db6 | 19627070-4044-4254-7133-869533412022 | bSkwpaFVCmMXS8G2PR6k' ;\n",
      "Datos enviados INSERT:\n",
      "{'id_elemento': '977', 'titlebutton': 'Facebook', 'typebutton': 'postback', 'contentbutton': 'Input prueba carrusel 2 | 3e82e3b7-d8da-4955-aff4-9bcbee291db6 | 19627070-4044-4254-7133-869533412022 | bSkwpaFVCmMXS8G2PR6k', 'id_boton': 1759, 'opc_nextid': 'Input prueba carrusel 2 | 3e82e3b7-d8da-4955-aff4-9bcbee291db6 | 19627070-4044-4254-7133-869533412022 | bSkwpaFVCmMXS8G2PR6k'}\n",
      "Datos recibidos INSERT:\n",
      "{'next_id': 'Carrusel | cce128da-fc3c-4ab8-8733-0f93dff9b0ca | 19627070-4044-4254-7133-869533412022 | bSkwpaFVCmMXS8G2PR6k', 'namestate': 'Informativo | 34fa0024-002a-4673-8b70-6419afef7d4d | 19627070-4044-4254-7133-869533412022 | bSkwpaFVCmMXS8G2PR6k', 'contenido': 'Este es el carrusel prueba 2', 'contenttype': 'text', 'typingtime': '1', 'id_robot': 540, 'blocktype': 'informativo'}\n"
     ]
    },
    {
     "name": "stderr",
     "output_type": "stream",
     "text": [
      "127.0.0.1 - - [15/Jun/2021 00:06:10] \"\u001b[37mPOST /insert/bloqueinformativo HTTP/1.1\u001b[0m\" 200 -\n",
      "127.0.0.1 - - [15/Jun/2021 00:06:10] \"\u001b[37mPOST /insert/variables HTTP/1.1\u001b[0m\" 200 -\n",
      "127.0.0.1 - - [15/Jun/2021 00:06:10] \"\u001b[37mPOST /insert/bloqueinput HTTP/1.1\u001b[0m\" 200 -\n"
     ]
    },
    {
     "name": "stdout",
     "output_type": "stream",
     "text": [
      "intenatando consulta...\n",
      "consulta: select * from bloqueinformativo where next_id= 'Carrusel | cce128da-fc3c-4ab8-8733-0f93dff9b0ca | 19627070-4044-4254-7133-869533412022 | bSkwpaFVCmMXS8G2PR6k' and namestate= 'Informativo | 34fa0024-002a-4673-8b70-6419afef7d4d | 19627070-4044-4254-7133-869533412022 | bSkwpaFVCmMXS8G2PR6k' and contenido= 'Este es el carrusel prueba 2' and contenttype= 'text' and typingtime= '1' and id_robot= '540' and blocktype= 'informativo' ;\n",
      "Datos enviados INSERT:\n",
      "{'namestate': 'Informativo | 34fa0024-002a-4673-8b70-6419afef7d4d | 19627070-4044-4254-7133-869533412022 | bSkwpaFVCmMXS8G2PR6k', 'contenido': 'Este es el carrusel prueba 2', 'next_id': 'Carrusel | cce128da-fc3c-4ab8-8733-0f93dff9b0ca | 19627070-4044-4254-7133-869533412022 | bSkwpaFVCmMXS8G2PR6k', 'blocktype': 'informativo', 'contenttype': 'text', 'typingtime': '1', 'id_block': 2864, 'id_robot': 540, 'opc_nextid': None, 'pos_y': None, 'pos_x': None, 'tag_active': None}\n",
      "Datos recibidos INSERT:\n",
      "{'name_var': 'undefinedInput_prueba_carrusel_2_|_3e82e3b7-d8da-4955-aff4-9bcbee291db62565', 'opc_type': 'Variable', 'var': 0, 'opc_data': 'String', 'id_robot': 540}\n",
      "intenatando consulta...\n",
      "consulta: select * from variables where name_var= 'undefinedInput_prueba_carrusel_2_|_3e82e3b7-d8da-4955-aff4-9bcbee291db62565' and opc_type= 'Variable' and var= '0' and opc_data= 'String' and id_robot= '540' ;\n",
      "Datos enviados INSERT:\n",
      "{'id_var': 1891, 'opc_type': 'Variable', 'opc_data': 'String', 'var': '0', 'id_robot': 540, 'name_var': 'undefinedInput_prueba_carrusel_2_|_3e82e3b7-d8da-4955-aff4-9bcbee291db62565'}\n",
      "Datos recibidos INSERT:\n",
      "{'next_id': 'Informativo | eb6262bf-2b65-4dc7-9d6a-9a8544083dde | bSkwpaFVCmMXS8G2PR6k', 'default_id': 'Input prueba carrusel 2 | 3e82e3b7-d8da-4955-aff4-9bcbee291db6 | 19627070-4044-4254-7133-869533412022 | bSkwpaFVCmMXS8G2PR6k', 'namestate': 'Input prueba carrusel 2 | 3e82e3b7-d8da-4955-aff4-9bcbee291db6 | 19627070-4044-4254-7133-869533412022 | bSkwpaFVCmMXS8G2PR6k', 'contenido': 'Debes decrime \"adios\"', 'typingtime': '1', 'validacion': '', 'id_robot': 540, 'id_var': 1891, 'blocktype': 'input'}\n",
      "intenatando consulta...\n",
      "consulta: select * from bloqueinput where next_id= 'Informativo | eb6262bf-2b65-4dc7-9d6a-9a8544083dde | bSkwpaFVCmMXS8G2PR6k' and default_id= 'Input prueba carrusel 2 | 3e82e3b7-d8da-4955-aff4-9bcbee291db6 | 19627070-4044-4254-7133-869533412022 | bSkwpaFVCmMXS8G2PR6k' and namestate= 'Input prueba carrusel 2 | 3e82e3b7-d8da-4955-aff4-9bcbee291db6 | 19627070-4044-4254-7133-869533412022 | bSkwpaFVCmMXS8G2PR6k' and contenido= 'Debes decrime \"adios\"' and typingtime= '1' and validacion= '' and id_robot= '540' and id_var= '1891' and blocktype= 'input' ;\n",
      "Datos enviados INSERT:\n",
      "{'namestate': 'Input prueba carrusel 2 | 3e82e3b7-d8da-4955-aff4-9bcbee291db6 | 19627070-4044-4254-7133-869533412022 | bSkwpaFVCmMXS8G2PR6k', 'contenido': 'Debes decrime \"adios\"', 'next_id': 'Informativo | eb6262bf-2b65-4dc7-9d6a-9a8544083dde | bSkwpaFVCmMXS8G2PR6k', 'blocktype': 'input', 'contenttype': None, 'typingtime': '1', 'validacion': '', 'default_id': 'Input prueba carrusel 2 | 3e82e3b7-d8da-4955-aff4-9bcbee291db6 | 19627070-4044-4254-7133-869533412022 | bSkwpaFVCmMXS8G2PR6k', 'id_var': '1891', 'id_block': 406, 'id_robot': 540, 'opc_nextid': None, 'pos_y': None, 'pos_x': None, 'tag_active': None}\n",
      "Datos recibidos INSERT:\n",
      "{'name_var': 'variableCarrCarrusel_|_5aaf3158-308e-4b01-9283-f01f32d587c91811', 'opc_type': 'Variable', 'var': 0, 'opc_data': 'String', 'id_robot': 540}\n"
     ]
    },
    {
     "name": "stderr",
     "output_type": "stream",
     "text": [
      "127.0.0.1 - - [15/Jun/2021 00:06:10] \"\u001b[37mPOST /insert/variables HTTP/1.1\u001b[0m\" 200 -\n",
      "127.0.0.1 - - [15/Jun/2021 00:06:10] \"\u001b[37mPOST /insert/bloqueslide HTTP/1.1\u001b[0m\" 200 -\n",
      "127.0.0.1 - - [15/Jun/2021 00:06:10] \"\u001b[37mPOST /insert/elementos HTTP/1.1\u001b[0m\" 200 -\n"
     ]
    },
    {
     "name": "stdout",
     "output_type": "stream",
     "text": [
      "intenatando consulta...\n",
      "consulta: select * from variables where name_var= 'variableCarrCarrusel_|_5aaf3158-308e-4b01-9283-f01f32d587c91811' and opc_type= 'Variable' and var= '0' and opc_data= 'String' and id_robot= '540' ;\n",
      "Datos enviados INSERT:\n",
      "{'id_var': 1892, 'opc_type': 'Variable', 'opc_data': 'String', 'var': '0', 'id_robot': 540, 'name_var': 'variableCarrCarrusel_|_5aaf3158-308e-4b01-9283-f01f32d587c91811'}\n",
      "Datos recibidos INSERT:\n",
      "{'namestate': 'Carrusel | 5aaf3158-308e-4b01-9283-f01f32d587c9 | 07418629-1549-9289-4157-116148457825 | bSkwpaFVCmMXS8G2PR6k', 'blocktype': 'slide', 'typingtime': '1', 'default_id': 'Carrusel | 5aaf3158-308e-4b01-9283-f01f32d587c9 | 07418629-1549-9289-4157-116148457825 | bSkwpaFVCmMXS8G2PR6k', 'id_var': 1892, 'id_robot': 540}\n",
      "intenatando consulta...\n",
      "consulta: select * from bloqueslide where namestate= 'Carrusel | 5aaf3158-308e-4b01-9283-f01f32d587c9 | 07418629-1549-9289-4157-116148457825 | bSkwpaFVCmMXS8G2PR6k' and blocktype= 'slide' and typingtime= '1' and default_id= 'Carrusel | 5aaf3158-308e-4b01-9283-f01f32d587c9 | 07418629-1549-9289-4157-116148457825 | bSkwpaFVCmMXS8G2PR6k' and id_var= '1892' and id_robot= '540' ;\n",
      "Datos enviados INSERT:\n",
      "{'namestate': 'Carrusel | 5aaf3158-308e-4b01-9283-f01f32d587c9 | 07418629-1549-9289-4157-116148457825 | bSkwpaFVCmMXS8G2PR6k', 'next_id': None, 'blocktype': 'slide', 'typingtime': '1', 'default_id': 'Carrusel | 5aaf3158-308e-4b01-9283-f01f32d587c9 | 07418629-1549-9289-4157-116148457825 | bSkwpaFVCmMXS8G2PR6k', 'id_var': '1892', 'id_block': 573, 'id_robot': 540, 'opc_nextid': None, 'pos_y': None, 'pos_x': None, 'opc_elm': None, 'tag_active': None}\n",
      "Datos recibidos INSERT:\n",
      "{'image_url': 'https://sitechecker.pro/wp-content/uploads/2017/12/URL-meaning.png', 'subtitle': 'Subtitulo 1', 'title': 'Titulo 1', 'blocktype': 'slide', 'id_block': 573}\n",
      "intenatando consulta...\n",
      "consulta: select * from elementos where image_url= 'https://sitechecker.pro/wp-content/uploads/2017/12/URL-meaning.png' and subtitle= 'Subtitulo 1' and title= 'Titulo 1' and blocktype= 'slide' and id_block= '573' ;\n",
      "Datos enviados INSERT:\n",
      "{'blocktype': 'slide', 'title': 'Titulo 1', 'image_url': 'https://sitechecker.pro/wp-content/uploads/2017/12/URL-meaning.png', 'subtitle': 'Subtitulo 1', 'id_block': 573, 'id_elements': 978}\n",
      "Datos recibidos INSERT:\n",
      "{'id_elemento': '978', 'titlebutton': 'Opcion 1', 'typebutton': 'postback', 'contentbutton': 'QuickReply | 9cd75eb1-5f87-4a23-84aa-d6de05ed56b8 | 07418629-1549-9289-4157-116148457825 | bSkwpaFVCmMXS8G2PR6k', 'opc_nextid': 'QuickReply | 9cd75eb1-5f87-4a23-84aa-d6de05ed56b8 | 07418629-1549-9289-4157-116148457825 | bSkwpaFVCmMXS8G2PR6k'}\n"
     ]
    },
    {
     "name": "stderr",
     "output_type": "stream",
     "text": [
      "127.0.0.1 - - [15/Jun/2021 00:06:10] \"\u001b[37mPOST /insert/botones HTTP/1.1\u001b[0m\" 200 -\n",
      "127.0.0.1 - - [15/Jun/2021 00:06:10] \"\u001b[37mPOST /insert/botones HTTP/1.1\u001b[0m\" 200 -\n"
     ]
    },
    {
     "name": "stdout",
     "output_type": "stream",
     "text": [
      "intenatando consulta...\n",
      "consulta: select * from botones where id_elemento= '978' and titlebutton= 'Opcion 1' and typebutton= 'postback' and contentbutton= 'QuickReply | 9cd75eb1-5f87-4a23-84aa-d6de05ed56b8 | 07418629-1549-9289-4157-116148457825 | bSkwpaFVCmMXS8G2PR6k' and opc_nextid= 'QuickReply | 9cd75eb1-5f87-4a23-84aa-d6de05ed56b8 | 07418629-1549-9289-4157-116148457825 | bSkwpaFVCmMXS8G2PR6k' ;\n",
      "Datos enviados INSERT:\n",
      "{'id_elemento': '978', 'titlebutton': 'Opcion 1', 'typebutton': 'postback', 'contentbutton': 'QuickReply | 9cd75eb1-5f87-4a23-84aa-d6de05ed56b8 | 07418629-1549-9289-4157-116148457825 | bSkwpaFVCmMXS8G2PR6k', 'id_boton': 1760, 'opc_nextid': 'QuickReply | 9cd75eb1-5f87-4a23-84aa-d6de05ed56b8 | 07418629-1549-9289-4157-116148457825 | bSkwpaFVCmMXS8G2PR6k'}\n",
      "Datos recibidos INSERT:\n",
      "{'id_elemento': '978', 'titlebutton': 'Opcion 2', 'typebutton': 'postback', 'contentbutton': 'QuickReply | f962f2fb-1047-4062-bac8-798fddc79ff2 | 07418629-1549-9289-4157-116148457825 | bSkwpaFVCmMXS8G2PR6k', 'opc_nextid': 'QuickReply | f962f2fb-1047-4062-bac8-798fddc79ff2 | 07418629-1549-9289-4157-116148457825 | bSkwpaFVCmMXS8G2PR6k'}\n",
      "intenatando consulta...\n",
      "consulta: select * from botones where id_elemento= '978' and titlebutton= 'Opcion 2' and typebutton= 'postback' and contentbutton= 'QuickReply | f962f2fb-1047-4062-bac8-798fddc79ff2 | 07418629-1549-9289-4157-116148457825 | bSkwpaFVCmMXS8G2PR6k' and opc_nextid= 'QuickReply | f962f2fb-1047-4062-bac8-798fddc79ff2 | 07418629-1549-9289-4157-116148457825 | bSkwpaFVCmMXS8G2PR6k' ;\n",
      "Datos enviados INSERT:\n",
      "{'id_elemento': '978', 'titlebutton': 'Opcion 2', 'typebutton': 'postback', 'contentbutton': 'QuickReply | f962f2fb-1047-4062-bac8-798fddc79ff2 | 07418629-1549-9289-4157-116148457825 | bSkwpaFVCmMXS8G2PR6k', 'id_boton': 1761, 'opc_nextid': 'QuickReply | f962f2fb-1047-4062-bac8-798fddc79ff2 | 07418629-1549-9289-4157-116148457825 | bSkwpaFVCmMXS8G2PR6k'}\n",
      "Datos recibidos INSERT:\n",
      "{'next_id': 'Carrusel | 5aaf3158-308e-4b01-9283-f01f32d587c9 | 07418629-1549-9289-4157-116148457825 | bSkwpaFVCmMXS8G2PR6k', 'namestate': 'Informativo | 98a8f39d-6761-48e7-aca7-66279cfabf40 | 07418629-1549-9289-4157-116148457825 | bSkwpaFVCmMXS8G2PR6k', 'contenido': 'Este es un bloque informativo', 'contenttype': 'text', 'typingtime': '1', 'id_robot': 540, 'blocktype': 'informativo'}\n",
      "intenatando consulta...\n",
      "consulta: select * from bloqueinformativo where next_id= 'Carrusel | 5aaf3158-308e-4b01-9283-f01f32d587c9 | 07418629-1549-9289-4157-116148457825 | bSkwpaFVCmMXS8G2PR6k' and namestate= 'Informativo | 98a8f39d-6761-48e7-aca7-66279cfabf40 | 07418629-1549-9289-4157-116148457825 | bSkwpaFVCmMXS8G2PR6k' and contenido= 'Este es un bloque informativo' and contenttype= 'text' and typingtime= '1' and id_robot= '540' and blocktype= 'informativo' ;\n"
     ]
    },
    {
     "name": "stderr",
     "output_type": "stream",
     "text": [
      "127.0.0.1 - - [15/Jun/2021 00:06:10] \"\u001b[37mPOST /insert/bloqueinformativo HTTP/1.1\u001b[0m\" 200 -\n",
      "127.0.0.1 - - [15/Jun/2021 00:06:11] \"\u001b[37mPOST /insert/variables HTTP/1.1\u001b[0m\" 200 -\n",
      "127.0.0.1 - - [15/Jun/2021 00:06:11] \"\u001b[37mPOST /insert/bloquequickreply HTTP/1.1\u001b[0m\" 200 -\n"
     ]
    },
    {
     "name": "stdout",
     "output_type": "stream",
     "text": [
      "Datos enviados INSERT:\n",
      "{'namestate': 'Informativo | 98a8f39d-6761-48e7-aca7-66279cfabf40 | 07418629-1549-9289-4157-116148457825 | bSkwpaFVCmMXS8G2PR6k', 'contenido': 'Este es un bloque informativo', 'next_id': 'Carrusel | 5aaf3158-308e-4b01-9283-f01f32d587c9 | 07418629-1549-9289-4157-116148457825 | bSkwpaFVCmMXS8G2PR6k', 'blocktype': 'informativo', 'contenttype': 'text', 'typingtime': '1', 'id_block': 2865, 'id_robot': 540, 'opc_nextid': None, 'pos_y': None, 'pos_x': None, 'tag_active': None}\n",
      "Datos recibidos INSERT:\n",
      "{'name_var': 'variableQrQuickReply_|_9cd75eb1-5f87-4a23-84aa-d6de05ed56b86455', 'opc_type': 'Variable', 'var': 0, 'opc_data': 'String', 'id_robot': 540}\n",
      "intenatando consulta...\n",
      "consulta: select * from variables where name_var= 'variableQrQuickReply_|_9cd75eb1-5f87-4a23-84aa-d6de05ed56b86455' and opc_type= 'Variable' and var= '0' and opc_data= 'String' and id_robot= '540' ;\n",
      "Datos enviados INSERT:\n",
      "{'id_var': 1893, 'opc_type': 'Variable', 'opc_data': 'String', 'var': '0', 'id_robot': 540, 'name_var': 'variableQrQuickReply_|_9cd75eb1-5f87-4a23-84aa-d6de05ed56b86455'}\n",
      "Datos recibidos INSERT:\n",
      "{'contenido': 'QUICKREPLY 1', 'opciones': 'SALIDA 1', 'next_id': 'Input | cd6d4be8-c346-4550-a26e-4bb9a7230d3b | bSkwpaFVCmMXS8G2PR6k', 'default_id': 'QuickReply | 9cd75eb1-5f87-4a23-84aa-d6de05ed56b8 | 07418629-1549-9289-4157-116148457825 | bSkwpaFVCmMXS8G2PR6k', 'namestate': 'QuickReply | 9cd75eb1-5f87-4a23-84aa-d6de05ed56b8 | 07418629-1549-9289-4157-116148457825 | bSkwpaFVCmMXS8G2PR6k', 'typingtime': '1', 'id_robot': 540, 'id_var': 1893, 'blocktype': 'quickReply'}\n",
      "intenatando consulta...\n",
      "consulta: select * from bloquequickreply where contenido= 'QUICKREPLY 1' and opciones= 'SALIDA 1' and next_id= 'Input | cd6d4be8-c346-4550-a26e-4bb9a7230d3b | bSkwpaFVCmMXS8G2PR6k' and default_id= 'QuickReply | 9cd75eb1-5f87-4a23-84aa-d6de05ed56b8 | 07418629-1549-9289-4157-116148457825 | bSkwpaFVCmMXS8G2PR6k' and namestate= 'QuickReply | 9cd75eb1-5f87-4a23-84aa-d6de05ed56b8 | 07418629-1549-9289-4157-116148457825 | bSkwpaFVCmMXS8G2PR6k' and typingtime= '1' and id_robot= '540' and id_var= '1893' and blocktype= 'quickReply' ;\n",
      "Datos enviados INSERT:\n",
      "{'namestate': 'QuickReply | 9cd75eb1-5f87-4a23-84aa-d6de05ed56b8 | 07418629-1549-9289-4157-116148457825 | bSkwpaFVCmMXS8G2PR6k', 'contenido': 'QUICKREPLY 1', 'opciones': 'SALIDA 1', 'next_id': 'Input | cd6d4be8-c346-4550-a26e-4bb9a7230d3b | bSkwpaFVCmMXS8G2PR6k', 'blocktype': 'quickReply', 'typingtime': '1', 'default_id': 'QuickReply | 9cd75eb1-5f87-4a23-84aa-d6de05ed56b8 | 07418629-1549-9289-4157-116148457825 | bSkwpaFVCmMXS8G2PR6k', 'id_var': '1893', 'id_block': 686, 'id_robot': 540, 'opc_nextid': None, 'pos_y': None, 'pos_x': None, 'tag_active': None}\n",
      "Datos recibidos INSERT:\n",
      "{'name_var': 'variableQrQuickReply_|_f962f2fb-1047-4062-bac8-798fddc79ff29050', 'opc_type': 'Variable', 'var': 0, 'opc_data': 'String', 'id_robot': 540}\n"
     ]
    },
    {
     "name": "stderr",
     "output_type": "stream",
     "text": [
      "127.0.0.1 - - [15/Jun/2021 00:06:11] \"\u001b[37mPOST /insert/variables HTTP/1.1\u001b[0m\" 200 -\n",
      "127.0.0.1 - - [15/Jun/2021 00:06:11] \"\u001b[37mPOST /insert/bloquequickreply HTTP/1.1\u001b[0m\" 200 -\n",
      "127.0.0.1 - - [15/Jun/2021 00:06:11] \"\u001b[37mPOST /insert/bloqueinformativo HTTP/1.1\u001b[0m\" 200 -\n"
     ]
    },
    {
     "name": "stdout",
     "output_type": "stream",
     "text": [
      "intenatando consulta...\n",
      "consulta: select * from variables where name_var= 'variableQrQuickReply_|_f962f2fb-1047-4062-bac8-798fddc79ff29050' and opc_type= 'Variable' and var= '0' and opc_data= 'String' and id_robot= '540' ;\n",
      "Datos enviados INSERT:\n",
      "{'id_var': 1894, 'opc_type': 'Variable', 'opc_data': 'String', 'var': '0', 'id_robot': 540, 'name_var': 'variableQrQuickReply_|_f962f2fb-1047-4062-bac8-798fddc79ff29050'}\n",
      "Datos recibidos INSERT:\n",
      "{'contenido': 'Aprieta el siguiente botón para empezar de nuevo la conversación.', 'opciones': 'Inicio', 'next_id': 'Input | cd6d4be8-c346-4550-a26e-4bb9a7230d3b | bSkwpaFVCmMXS8G2PR6k', 'default_id': 'QuickReply | f962f2fb-1047-4062-bac8-798fddc79ff2 | 07418629-1549-9289-4157-116148457825 | bSkwpaFVCmMXS8G2PR6k', 'namestate': 'QuickReply | f962f2fb-1047-4062-bac8-798fddc79ff2 | 07418629-1549-9289-4157-116148457825 | bSkwpaFVCmMXS8G2PR6k', 'typingtime': '1', 'id_robot': 540, 'id_var': 1894, 'blocktype': 'quickReply'}\n",
      "intenatando consulta...\n",
      "consulta: select * from bloquequickreply where contenido= 'Aprieta el siguiente botón para empezar de nuevo la conversación.' and opciones= 'Inicio' and next_id= 'Input | cd6d4be8-c346-4550-a26e-4bb9a7230d3b | bSkwpaFVCmMXS8G2PR6k' and default_id= 'QuickReply | f962f2fb-1047-4062-bac8-798fddc79ff2 | 07418629-1549-9289-4157-116148457825 | bSkwpaFVCmMXS8G2PR6k' and namestate= 'QuickReply | f962f2fb-1047-4062-bac8-798fddc79ff2 | 07418629-1549-9289-4157-116148457825 | bSkwpaFVCmMXS8G2PR6k' and typingtime= '1' and id_robot= '540' and id_var= '1894' and blocktype= 'quickReply' ;\n",
      "Datos enviados INSERT:\n",
      "{'namestate': 'QuickReply | f962f2fb-1047-4062-bac8-798fddc79ff2 | 07418629-1549-9289-4157-116148457825 | bSkwpaFVCmMXS8G2PR6k', 'contenido': 'Aprieta el siguiente botón para empezar de nuevo la conversación.', 'opciones': 'Inicio', 'next_id': 'Input | cd6d4be8-c346-4550-a26e-4bb9a7230d3b | bSkwpaFVCmMXS8G2PR6k', 'blocktype': 'quickReply', 'typingtime': '1', 'default_id': 'QuickReply | f962f2fb-1047-4062-bac8-798fddc79ff2 | 07418629-1549-9289-4157-116148457825 | bSkwpaFVCmMXS8G2PR6k', 'id_var': '1894', 'id_block': 687, 'id_robot': 540, 'opc_nextid': None, 'pos_y': None, 'pos_x': None, 'tag_active': None}\n",
      "Datos recibidos INSERT:\n",
      "{'next_id': 'Informativo | 98a8f39d-6761-48e7-aca7-66279cfabf40 | 07418629-1549-9289-4157-116148457825 | bSkwpaFVCmMXS8G2PR6k', 'namestate': 'Informativo | d9897d01-e0ce-44bd-ba3d-22973a7d74fd | bSkwpaFVCmMXS8G2PR6k', 'contenido': 'Soy el chatbot del TT-A056', 'contenttype': 'text', 'typingtime': '1', 'id_robot': 540, 'blocktype': 'informativo'}\n",
      "intenatando consulta...\n",
      "consulta: select * from bloqueinformativo where next_id= 'Informativo | 98a8f39d-6761-48e7-aca7-66279cfabf40 | 07418629-1549-9289-4157-116148457825 | bSkwpaFVCmMXS8G2PR6k' and namestate= 'Informativo | d9897d01-e0ce-44bd-ba3d-22973a7d74fd | bSkwpaFVCmMXS8G2PR6k' and contenido= 'Soy el chatbot del TT-A056' and contenttype= 'text' and typingtime= '1' and id_robot= '540' and blocktype= 'informativo' ;\n",
      "Datos enviados INSERT:\n",
      "{'namestate': 'Informativo | d9897d01-e0ce-44bd-ba3d-22973a7d74fd | bSkwpaFVCmMXS8G2PR6k', 'contenido': 'Soy el chatbot del TT-A056', 'next_id': 'Informativo | 98a8f39d-6761-48e7-aca7-66279cfabf40 | 07418629-1549-9289-4157-116148457825 | bSkwpaFVCmMXS8G2PR6k', 'blocktype': 'informativo', 'contenttype': 'text', 'typingtime': '1', 'id_block': 2866, 'id_robot': 540, 'opc_nextid': None, 'pos_y': None, 'pos_x': None, 'tag_active': None}\n",
      "Datos recibidos INSERT:\n",
      "{'next_id': 'Salida', 'namestate': 'Informativo | eb6262bf-2b65-4dc7-9d6a-9a8544083dde | bSkwpaFVCmMXS8G2PR6k', 'contenido': 'Adios', 'contenttype': 'text', 'typingtime': '1', 'id_robot': 540, 'blocktype': 'informativo'}\n"
     ]
    },
    {
     "name": "stderr",
     "output_type": "stream",
     "text": [
      "127.0.0.1 - - [15/Jun/2021 00:06:11] \"\u001b[37mPOST /insert/bloqueinformativo HTTP/1.1\u001b[0m\" 200 -\n",
      "127.0.0.1 - - [15/Jun/2021 00:06:11] \"\u001b[37mPOST /insert/variables HTTP/1.1\u001b[0m\" 200 -\n",
      "127.0.0.1 - - [15/Jun/2021 00:06:11] \"\u001b[37mPOST /insert/bloqueinput HTTP/1.1\u001b[0m\" 200 -\n"
     ]
    },
    {
     "name": "stdout",
     "output_type": "stream",
     "text": [
      "intenatando consulta...\n",
      "consulta: select * from bloqueinformativo where next_id= 'Salida' and namestate= 'Informativo | eb6262bf-2b65-4dc7-9d6a-9a8544083dde | bSkwpaFVCmMXS8G2PR6k' and contenido= 'Adios' and contenttype= 'text' and typingtime= '1' and id_robot= '540' and blocktype= 'informativo' ;\n",
      "Datos enviados INSERT:\n",
      "{'namestate': 'Informativo | eb6262bf-2b65-4dc7-9d6a-9a8544083dde | bSkwpaFVCmMXS8G2PR6k', 'contenido': 'Adios', 'next_id': 'Salida', 'blocktype': 'informativo', 'contenttype': 'text', 'typingtime': '1', 'id_block': 2867, 'id_robot': 540, 'opc_nextid': None, 'pos_y': None, 'pos_x': None, 'tag_active': None}\n",
      "Datos recibidos INSERT:\n",
      "{'name_var': 'variableInputInput_|_cd6d4be8-c346-4550-a26e-4bb9a7230d3b3514', 'opc_type': 'Variable', 'var': 0, 'opc_data': 'String', 'id_robot': 540}\n",
      "intenatando consulta...\n",
      "consulta: select * from variables where name_var= 'variableInputInput_|_cd6d4be8-c346-4550-a26e-4bb9a7230d3b3514' and opc_type= 'Variable' and var= '0' and opc_data= 'String' and id_robot= '540' ;\n",
      "Datos enviados INSERT:\n",
      "{'id_var': 1895, 'opc_type': 'Variable', 'opc_data': 'String', 'var': '0', 'id_robot': 540, 'name_var': 'variableInputInput_|_cd6d4be8-c346-4550-a26e-4bb9a7230d3b3514'}\n",
      "Datos recibidos INSERT:\n",
      "{'next_id': 'Informativo | 34fa0024-002a-4673-8b70-6419afef7d4d | 19627070-4044-4254-7133-869533412022 | bSkwpaFVCmMXS8G2PR6k', 'default_id': 'Input | cd6d4be8-c346-4550-a26e-4bb9a7230d3b | bSkwpaFVCmMXS8G2PR6k', 'namestate': 'Input | cd6d4be8-c346-4550-a26e-4bb9a7230d3b | bSkwpaFVCmMXS8G2PR6k', 'contenido': 'Ingresa tu nombre', 'typingtime': '1', 'validacion': '', 'id_robot': 540, 'id_var': 1895, 'blocktype': 'input'}\n",
      "intenatando consulta...\n",
      "consulta: select * from bloqueinput where next_id= 'Informativo | 34fa0024-002a-4673-8b70-6419afef7d4d | 19627070-4044-4254-7133-869533412022 | bSkwpaFVCmMXS8G2PR6k' and default_id= 'Input | cd6d4be8-c346-4550-a26e-4bb9a7230d3b | bSkwpaFVCmMXS8G2PR6k' and namestate= 'Input | cd6d4be8-c346-4550-a26e-4bb9a7230d3b | bSkwpaFVCmMXS8G2PR6k' and contenido= 'Ingresa tu nombre' and typingtime= '1' and validacion= '' and id_robot= '540' and id_var= '1895' and blocktype= 'input' ;\n",
      "Datos enviados INSERT:\n",
      "{'namestate': 'Input | cd6d4be8-c346-4550-a26e-4bb9a7230d3b | bSkwpaFVCmMXS8G2PR6k', 'contenido': 'Ingresa tu nombre', 'next_id': 'Informativo | 34fa0024-002a-4673-8b70-6419afef7d4d | 19627070-4044-4254-7133-869533412022 | bSkwpaFVCmMXS8G2PR6k', 'blocktype': 'input', 'contenttype': None, 'typingtime': '1', 'validacion': '', 'default_id': 'Input | cd6d4be8-c346-4550-a26e-4bb9a7230d3b | bSkwpaFVCmMXS8G2PR6k', 'id_var': '1895', 'id_block': 407, 'id_robot': 540, 'opc_nextid': None, 'pos_y': None, 'pos_x': None, 'tag_active': None}\n",
      "Datos recibidos INSERT:\n",
      "{'next_id': '', 'namestate': 'Salida', 'contenido': '', 'contenttype': 'text', 'typingtime': 3, 'id_robot': 540, 'blocktype': 'informativo'}\n"
     ]
    },
    {
     "name": "stderr",
     "output_type": "stream",
     "text": [
      "127.0.0.1 - - [15/Jun/2021 00:06:11] \"\u001b[37mPOST /insert/bloqueinformativo HTTP/1.1\u001b[0m\" 200 -\n"
     ]
    },
    {
     "name": "stdout",
     "output_type": "stream",
     "text": [
      "intenatando consulta...\n",
      "consulta: select * from bloqueinformativo where next_id= '' and namestate= 'Salida' and contenido= '' and contenttype= 'text' and typingtime= '3' and id_robot= '540' and blocktype= 'informativo' ;\n",
      "Datos enviados INSERT:\n",
      "{'namestate': 'Salida', 'contenido': '', 'next_id': '', 'blocktype': 'informativo', 'contenttype': 'text', 'typingtime': '3', 'id_block': 2868, 'id_robot': 540, 'opc_nextid': None, 'pos_y': None, 'pos_x': None, 'tag_active': None}\n"
     ]
    },
    {
     "name": "stderr",
     "output_type": "stream",
     "text": [
      "127.0.0.1 - - [15/Jun/2021 00:08:30] \"\u001b[37mGET /select/robots HTTP/1.1\u001b[0m\" 200 -\n",
      "127.0.0.1 - - [15/Jun/2021 00:08:30] \"\u001b[37mGET /select/bloqueslide HTTP/1.1\u001b[0m\" 200 -\n",
      "127.0.0.1 - - [15/Jun/2021 00:08:30] \"\u001b[37mGET /select/elementos HTTP/1.1\u001b[0m\" 200 -\n",
      "127.0.0.1 - - [15/Jun/2021 00:08:30] \"\u001b[37mGET /select/elementos HTTP/1.1\u001b[0m\" 200 -\n"
     ]
    },
    {
     "name": "stdout",
     "output_type": "stream",
     "text": [
      "Datos recibidos SELECT:\n",
      "{'name_robot': 'CHATBOT TT 2020 A056', 'id_face': '100750202253729', 'block_ini': 'Informativo | d9897d01-e0ce-44bd-ba3d-22973a7d74fd | bSkwpaFVCmMXS8G2PR6k', 'type_blocki': 'informativo', 'access_token': 'EAALZCCZBzPwfkBACf3gal1zeLIkZAxC8ecQ6qmRixvqGJJXtfQvE7S2zNpkdf0BpKR79BZAOawgUcm8IQN9NecBZB25Q8ZCWDFAH50ihRis7XfHm4UM3bYNqgmmKZCKkLnhGGxf2FO8eLr8CVkgp3PgJWiBQVKTO7DRtAZA1IjaLIk1xGTZBunRJ6', 'id_user': 'charlygoldcruz@gmail.com', 'api_nlp': 'http://localhost:8282/'}\n",
      "intenatando consulta...\n",
      "consulta: select * from robots where id_face = '100750202253729';\n",
      "Datos enviados SELECT:\n",
      "{'name_robot': 'CHATBOT TT 2020 A056', 'id_face': '100750202253729', 'block_ini': 'Informativo | d9897d01-e0ce-44bd-ba3d-22973a7d74fd | bSkwpaFVCmMXS8G2PR6k', 'type_blocki': 'informativo', 'access_token': 'EAALZCCZBzPwfkBACf3gal1zeLIkZAxC8ecQ6qmRixvqGJJXtfQvE7S2zNpkdf0BpKR79BZAOawgUcm8IQN9NecBZB25Q8ZCWDFAH50ihRis7XfHm4UM3bYNqgmmKZCKkLnhGGxf2FO8eLr8CVkgp3PgJWiBQVKTO7DRtAZA1IjaLIk1xGTZBunRJ6', 'api_nlp': 'http://localhost:8282/', 'id_robot': 540, 'id_user': 'charlygoldcruz@gmail.com'}\n",
      "Datos recibidos SELECT:\n",
      "{'id_robot': '540'}\n",
      "intenatando consulta...\n",
      "consulta: select * from bloqueslide where id_robot= '540' ;\n",
      "Datos enviados SELECT:\n",
      "[{'namestate': 'Carrusel | 5aaf3158-308e-4b01-9283-f01f32d587c9 | 07418629-1549-9289-4157-116148457825 | bSkwpaFVCmMXS8G2PR6k', 'next_id': 'QuickReply | 9cd75eb1-5f87-4a23-84aa-d6de05ed56b8 | 07418629-1549-9289-4157-116148457825 | bSkwpaFVCmMXS8G2PR6k,QuickReply | f962f2fb-1047-4062-bac8-798fddc79ff2 | 07418629-1549-9289-4157-116148457825 | bSkwpaFVCmMXS8G2PR6k', 'blocktype': 'slide', 'typingtime': '1', 'default_id': 'Carrusel | 5aaf3158-308e-4b01-9283-f01f32d587c9 | 07418629-1549-9289-4157-116148457825 | bSkwpaFVCmMXS8G2PR6k', 'id_var': '1892', 'id_block': 573, 'id_robot': 540, 'opc_nextid': None, 'pos_y': None, 'pos_x': None, 'opc_elm': None, 'tag_active': None}, {'namestate': 'Carrusel | fdd978d8-d9e9-4f74-8d01-07d1a43ecba8 | 98525253-9080-3718-4541-185145979160 | bSkwpaFVCmMXS8G2PR6k', 'next_id': 'Informativo | eb6262bf-2b65-4dc7-9d6a-9a8544083dde | bSkwpaFVCmMXS8G2PR6k,Informativo | eb6262bf-2b65-4dc7-9d6a-9a8544083dde | bSkwpaFVCmMXS8G2PR6k,www.facebook.com,www.ABC.com,Informativo | eb6262bf-2b65-4dc7-9d6a-9a8544083dde | bSkwpaFVCmMXS8G2PR6k,Informativo | eb6262bf-2b65-4dc7-9d6a-9a8544083dde | bSkwpaFVCmMXS8G2PR6k', 'blocktype': 'slide', 'typingtime': '1', 'default_id': 'Carrusel | fdd978d8-d9e9-4f74-8d01-07d1a43ecba8 | 98525253-9080-3718-4541-185145979160 | bSkwpaFVCmMXS8G2PR6k', 'id_var': '1889', 'id_block': 571, 'id_robot': 540, 'opc_nextid': None, 'pos_y': None, 'pos_x': None, 'opc_elm': None, 'tag_active': None}, {'namestate': 'Carrusel | cce128da-fc3c-4ab8-8733-0f93dff9b0ca | 19627070-4044-4254-7133-869533412022 | bSkwpaFVCmMXS8G2PR6k', 'next_id': 'Informativo | 7e74c6f6-46db-4b00-b8b3-07aac064e1de | 98525253-9080-3718-4541-185145979160 | bSkwpaFVCmMXS8G2PR6k,Input prueba carrusel 2 | 3e82e3b7-d8da-4955-aff4-9bcbee291db6 | 19627070-4044-4254-7133-869533412022 | bSkwpaFVCmMXS8G2PR6k', 'blocktype': 'slide', 'typingtime': '1', 'default_id': 'Carrusel | cce128da-fc3c-4ab8-8733-0f93dff9b0ca | 19627070-4044-4254-7133-869533412022 | bSkwpaFVCmMXS8G2PR6k', 'id_var': '1890', 'id_block': 572, 'id_robot': 540, 'opc_nextid': None, 'pos_y': None, 'pos_x': None, 'opc_elm': None, 'tag_active': None}]\n",
      "Datos recibidos SELECT:\n",
      "{'id_block': 573}\n",
      "intenatando consulta...\n",
      "consulta: select * from elementos where id_block= '573' ;\n",
      "Datos enviados SELECT:\n",
      "{'blocktype': 'slide', 'title': 'Titulo 1', 'image_url': 'https://sitechecker.pro/wp-content/uploads/2017/12/URL-meaning.png', 'subtitle': 'Subtitulo 1', 'id_block': 573, 'id_elements': 978}\n",
      "Datos recibidos SELECT:\n",
      "{'id_block': 571}\n",
      "intenatando consulta...\n",
      "consulta: select * from elementos where id_block= '571' ;\n",
      "Datos enviados SELECT:\n",
      "[{'blocktype': 'slide', 'title': 'Titulo 1 Plantilla 1', 'image_url': 'https://image.freepik.com/vector-gratis/caracter-banda-musica-ilustracion-dibujos-animados-plana_338371-15.jpg', 'subtitle': 'S1', 'id_block': 571, 'id_elements': 974}, {'blocktype': 'slide', 'title': 'P2', 'image_url': 'https://www.muycomputer.com/wp-content/uploads/2020/04/Logitech-G203-rat%C3%B3n-gaming-barato-e1587628136683.jpg', 'subtitle': 'S2', 'id_block': 571, 'id_elements': 975}, {'blocktype': 'slide', 'title': 'Plantilla 3', 'image_url': 'https://mmo.aiircdn.com/297/5f6a04de8d671.jpg', 'subtitle': 'Subtitulo 3', 'id_block': 571, 'id_elements': 976}]\n"
     ]
    },
    {
     "name": "stderr",
     "output_type": "stream",
     "text": [
      "127.0.0.1 - - [15/Jun/2021 00:08:30] \"\u001b[37mGET /select/elementos HTTP/1.1\u001b[0m\" 200 -\n",
      "127.0.0.1 - - [15/Jun/2021 00:08:30] \"\u001b[37mPOST /insert/variables HTTP/1.1\u001b[0m\" 200 -\n"
     ]
    },
    {
     "name": "stdout",
     "output_type": "stream",
     "text": [
      "Datos recibidos SELECT:\n",
      "{'id_block': 572}\n",
      "intenatando consulta...\n",
      "consulta: select * from elementos where id_block= '572' ;\n",
      "Datos enviados SELECT:\n",
      "{'blocktype': 'slide', 'title': 'Titulo 1', 'image_url': 'https://jalisco.quadratin.com.mx/www/wp-content/uploads/2020/11/grupo-firme-1-1160x700.jpg', 'subtitle': 'Subtitulo 1', 'id_block': 572, 'id_elements': 977}\n",
      "Datos recibidos INSERT:\n",
      "{'name_var': 'varCarrusel_|_fdd978d8-d9e9-4f74-8d01-07d1a43ecba83518', 'opc_type': 'Variable', 'var': 0, 'opc_data': 'String', 'id_robot': 540}\n",
      "intenatando consulta...\n",
      "consulta: select * from variables where name_var= 'varCarrusel_|_fdd978d8-d9e9-4f74-8d01-07d1a43ecba83518' and opc_type= 'Variable' and var= '0' and opc_data= 'String' and id_robot= '540' ;\n",
      "Datos enviados INSERT:\n",
      "{'id_var': 1896, 'opc_type': 'Variable', 'opc_data': 'String', 'var': '0', 'id_robot': 540, 'name_var': 'varCarrusel_|_fdd978d8-d9e9-4f74-8d01-07d1a43ecba83518'}\n",
      "Datos recibidos INSERT:\n",
      "{'namestate': 'Carrusel | fdd978d8-d9e9-4f74-8d01-07d1a43ecba8 | 98525253-9080-3718-4541-185145979160 | bSkwpaFVCmMXS8G2PR6k', 'blocktype': 'slide', 'typingtime': '1', 'default_id': 'Carrusel | fdd978d8-d9e9-4f74-8d01-07d1a43ecba8 | 98525253-9080-3718-4541-185145979160 | bSkwpaFVCmMXS8G2PR6k', 'id_var': 1896, 'id_robot': 540}\n"
     ]
    },
    {
     "name": "stderr",
     "output_type": "stream",
     "text": [
      "127.0.0.1 - - [15/Jun/2021 00:08:31] \"\u001b[37mPOST /insert/bloqueslide HTTP/1.1\u001b[0m\" 200 -\n",
      "127.0.0.1 - - [15/Jun/2021 00:08:31] \"\u001b[37mPOST /insert/elementos HTTP/1.1\u001b[0m\" 200 -\n",
      "127.0.0.1 - - [15/Jun/2021 00:08:31] \"\u001b[37mPOST /insert/botones HTTP/1.1\u001b[0m\" 200 -\n"
     ]
    },
    {
     "name": "stdout",
     "output_type": "stream",
     "text": [
      "intenatando consulta...\n",
      "consulta: select * from bloqueslide where namestate= 'Carrusel | fdd978d8-d9e9-4f74-8d01-07d1a43ecba8 | 98525253-9080-3718-4541-185145979160 | bSkwpaFVCmMXS8G2PR6k' and blocktype= 'slide' and typingtime= '1' and default_id= 'Carrusel | fdd978d8-d9e9-4f74-8d01-07d1a43ecba8 | 98525253-9080-3718-4541-185145979160 | bSkwpaFVCmMXS8G2PR6k' and id_var= '1896' and id_robot= '540' ;\n",
      "Datos enviados INSERT:\n",
      "{'namestate': 'Carrusel | fdd978d8-d9e9-4f74-8d01-07d1a43ecba8 | 98525253-9080-3718-4541-185145979160 | bSkwpaFVCmMXS8G2PR6k', 'next_id': None, 'blocktype': 'slide', 'typingtime': '1', 'default_id': 'Carrusel | fdd978d8-d9e9-4f74-8d01-07d1a43ecba8 | 98525253-9080-3718-4541-185145979160 | bSkwpaFVCmMXS8G2PR6k', 'id_var': '1896', 'id_block': 574, 'id_robot': 540, 'opc_nextid': None, 'pos_y': None, 'pos_x': None, 'opc_elm': None, 'tag_active': None}\n",
      "Datos recibidos INSERT:\n",
      "{'subtitle': 'S1', 'title': 'Titulo 1 Plantilla 1', 'image_url': 'https://image.freepik.com/vector-gratis/caracter-banda-musica-ilustracion-dibujos-animados-plana_338371-15.jpg', 'blocktype': 'slide', 'id_block': 574}\n",
      "intenatando consulta...\n",
      "consulta: select * from elementos where subtitle= 'S1' and title= 'Titulo 1 Plantilla 1' and image_url= 'https://image.freepik.com/vector-gratis/caracter-banda-musica-ilustracion-dibujos-animados-plana_338371-15.jpg' and blocktype= 'slide' and id_block= '574' ;\n",
      "Datos enviados INSERT:\n",
      "{'blocktype': 'slide', 'title': 'Titulo 1 Plantilla 1', 'image_url': 'https://image.freepik.com/vector-gratis/caracter-banda-musica-ilustracion-dibujos-animados-plana_338371-15.jpg', 'subtitle': 'S1', 'id_block': 574, 'id_elements': 979}\n",
      "Datos recibidos INSERT:\n",
      "{'id_elemento': '979', 'titlebutton': 'Salida 1', 'typebutton': 'postback', 'contentbutton': 'Informativo | eb6262bf-2b65-4dc7-9d6a-9a8544083dde | bSkwpaFVCmMXS8G2PR6k', 'opc_nextid': 'Informativo | eb6262bf-2b65-4dc7-9d6a-9a8544083dde | bSkwpaFVCmMXS8G2PR6k'}\n",
      "intenatando consulta...\n",
      "consulta: select * from botones where id_elemento= '979' and titlebutton= 'Salida 1' and typebutton= 'postback' and contentbutton= 'Informativo | eb6262bf-2b65-4dc7-9d6a-9a8544083dde | bSkwpaFVCmMXS8G2PR6k' and opc_nextid= 'Informativo | eb6262bf-2b65-4dc7-9d6a-9a8544083dde | bSkwpaFVCmMXS8G2PR6k' ;\n",
      "Datos enviados INSERT:\n",
      "{'id_elemento': '979', 'titlebutton': 'Salida 1', 'typebutton': 'postback', 'contentbutton': 'Informativo | eb6262bf-2b65-4dc7-9d6a-9a8544083dde | bSkwpaFVCmMXS8G2PR6k', 'id_boton': 1762, 'opc_nextid': 'Informativo | eb6262bf-2b65-4dc7-9d6a-9a8544083dde | bSkwpaFVCmMXS8G2PR6k'}\n"
     ]
    },
    {
     "name": "stderr",
     "output_type": "stream",
     "text": [
      "127.0.0.1 - - [15/Jun/2021 00:08:31] \"\u001b[37mPOST /insert/botones HTTP/1.1\u001b[0m\" 200 -\n",
      "127.0.0.1 - - [15/Jun/2021 00:08:31] \"\u001b[37mPOST /insert/elementos HTTP/1.1\u001b[0m\" 200 -\n"
     ]
    },
    {
     "name": "stdout",
     "output_type": "stream",
     "text": [
      "Datos recibidos INSERT:\n",
      "{'id_elemento': '979', 'titlebutton': 'Salida 2', 'typebutton': 'postback', 'contentbutton': 'Informativo | eb6262bf-2b65-4dc7-9d6a-9a8544083dde | bSkwpaFVCmMXS8G2PR6k', 'opc_nextid': 'Informativo | eb6262bf-2b65-4dc7-9d6a-9a8544083dde | bSkwpaFVCmMXS8G2PR6k'}\n",
      "intenatando consulta...\n",
      "consulta: select * from botones where id_elemento= '979' and titlebutton= 'Salida 2' and typebutton= 'postback' and contentbutton= 'Informativo | eb6262bf-2b65-4dc7-9d6a-9a8544083dde | bSkwpaFVCmMXS8G2PR6k' and opc_nextid= 'Informativo | eb6262bf-2b65-4dc7-9d6a-9a8544083dde | bSkwpaFVCmMXS8G2PR6k' ;\n",
      "Datos enviados INSERT:\n",
      "{'id_elemento': '979', 'titlebutton': 'Salida 2', 'typebutton': 'postback', 'contentbutton': 'Informativo | eb6262bf-2b65-4dc7-9d6a-9a8544083dde | bSkwpaFVCmMXS8G2PR6k', 'id_boton': 1763, 'opc_nextid': 'Informativo | eb6262bf-2b65-4dc7-9d6a-9a8544083dde | bSkwpaFVCmMXS8G2PR6k'}\n",
      "Datos recibidos INSERT:\n",
      "{'subtitle': 'S2', 'title': 'P2', 'image_url': 'https://www.muycomputer.com/wp-content/uploads/2020/04/Logitech-G203-rat%C3%B3n-gaming-barato-e1587628136683.jpg', 'blocktype': 'slide', 'id_block': 574}\n",
      "intenatando consulta...\n",
      "consulta: select * from elementos where subtitle= 'S2' and title= 'P2' and image_url= 'https://www.muycomputer.com/wp-content/uploads/2020/04/Logitech-G203-rat%C3%B3n-gaming-barato-e1587628136683.jpg' and blocktype= 'slide' and id_block= '574' ;\n",
      "Datos enviados INSERT:\n",
      "{'blocktype': 'slide', 'title': 'P2', 'image_url': 'https://www.muycomputer.com/wp-content/uploads/2020/04/Logitech-G203-rat%C3%B3n-gaming-barato-e1587628136683.jpg', 'subtitle': 'S2', 'id_block': 574, 'id_elements': 980}\n",
      "Datos recibidos INSERT:\n",
      "{'id_elemento': '980', 'titlebutton': 'Google', 'typebutton': 'web_url', 'contentbutton': 'www.facebook.com', 'opc_nextid': 'www.facebook.com'}\n",
      "intenatando consulta...\n",
      "consulta: select * from botones where id_elemento= '980' and titlebutton= 'Google' and typebutton= 'web_url' and contentbutton= 'www.facebook.com' and opc_nextid= 'www.facebook.com' ;\n",
      "Datos enviados INSERT:\n",
      "{'id_elemento': '980', 'titlebutton': 'Google', 'typebutton': 'web_url', 'contentbutton': 'www.facebook.com', 'id_boton': 1764, 'opc_nextid': 'www.facebook.com'}\n"
     ]
    },
    {
     "name": "stderr",
     "output_type": "stream",
     "text": [
      "127.0.0.1 - - [15/Jun/2021 00:08:31] \"\u001b[37mPOST /insert/botones HTTP/1.1\u001b[0m\" 200 -\n",
      "127.0.0.1 - - [15/Jun/2021 00:08:31] \"\u001b[37mPOST /insert/botones HTTP/1.1\u001b[0m\" 200 -\n",
      "127.0.0.1 - - [15/Jun/2021 00:08:31] \"\u001b[37mPOST /insert/elementos HTTP/1.1\u001b[0m\" 200 -\n"
     ]
    },
    {
     "name": "stdout",
     "output_type": "stream",
     "text": [
      "Datos recibidos INSERT:\n",
      "{'id_elemento': '980', 'titlebutton': 'ABC', 'typebutton': 'web_url', 'contentbutton': 'www.ABC.com', 'opc_nextid': 'www.ABC.com'}\n",
      "intenatando consulta...\n",
      "consulta: select * from botones where id_elemento= '980' and titlebutton= 'ABC' and typebutton= 'web_url' and contentbutton= 'www.ABC.com' and opc_nextid= 'www.ABC.com' ;\n",
      "Datos enviados INSERT:\n",
      "{'id_elemento': '980', 'titlebutton': 'ABC', 'typebutton': 'web_url', 'contentbutton': 'www.ABC.com', 'id_boton': 1765, 'opc_nextid': 'www.ABC.com'}\n",
      "Datos recibidos INSERT:\n",
      "{'title': 'Plantilla 3', 'image_url': 'https://mmo.aiircdn.com/297/5f6a04de8d671.jpg', 'subtitle': 'Subtitulo 3', 'blocktype': 'slide', 'id_block': 574}\n",
      "intenatando consulta...\n",
      "consulta: select * from elementos where title= 'Plantilla 3' and image_url= 'https://mmo.aiircdn.com/297/5f6a04de8d671.jpg' and subtitle= 'Subtitulo 3' and blocktype= 'slide' and id_block= '574' ;\n",
      "Datos enviados INSERT:\n",
      "{'blocktype': 'slide', 'title': 'Plantilla 3', 'image_url': 'https://mmo.aiircdn.com/297/5f6a04de8d671.jpg', 'subtitle': 'Subtitulo 3', 'id_block': 574, 'id_elements': 981}\n",
      "Datos recibidos INSERT:\n",
      "{'id_elemento': '981', 'titlebutton': 'Input', 'typebutton': 'postback', 'contentbutton': 'Informativo | eb6262bf-2b65-4dc7-9d6a-9a8544083dde | bSkwpaFVCmMXS8G2PR6k', 'opc_nextid': 'Informativo | eb6262bf-2b65-4dc7-9d6a-9a8544083dde | bSkwpaFVCmMXS8G2PR6k'}\n",
      "intenatando consulta...\n",
      "consulta: select * from botones where id_elemento= '981' and titlebutton= 'Input' and typebutton= 'postback' and contentbutton= 'Informativo | eb6262bf-2b65-4dc7-9d6a-9a8544083dde | bSkwpaFVCmMXS8G2PR6k' and opc_nextid= 'Informativo | eb6262bf-2b65-4dc7-9d6a-9a8544083dde | bSkwpaFVCmMXS8G2PR6k' ;\n"
     ]
    },
    {
     "name": "stderr",
     "output_type": "stream",
     "text": [
      "127.0.0.1 - - [15/Jun/2021 00:08:31] \"\u001b[37mPOST /insert/botones HTTP/1.1\u001b[0m\" 200 -\n",
      "127.0.0.1 - - [15/Jun/2021 00:08:31] \"\u001b[37mPOST /insert/botones HTTP/1.1\u001b[0m\" 200 -\n"
     ]
    },
    {
     "name": "stdout",
     "output_type": "stream",
     "text": [
      "Datos enviados INSERT:\n",
      "{'id_elemento': '981', 'titlebutton': 'Input', 'typebutton': 'postback', 'contentbutton': 'Informativo | eb6262bf-2b65-4dc7-9d6a-9a8544083dde | bSkwpaFVCmMXS8G2PR6k', 'id_boton': 1766, 'opc_nextid': 'Informativo | eb6262bf-2b65-4dc7-9d6a-9a8544083dde | bSkwpaFVCmMXS8G2PR6k'}\n",
      "Datos recibidos INSERT:\n",
      "{'id_elemento': '981', 'titlebutton': 'Opcion 6', 'typebutton': 'postback', 'contentbutton': 'Informativo | eb6262bf-2b65-4dc7-9d6a-9a8544083dde | bSkwpaFVCmMXS8G2PR6k', 'opc_nextid': 'Informativo | eb6262bf-2b65-4dc7-9d6a-9a8544083dde | bSkwpaFVCmMXS8G2PR6k'}\n",
      "intenatando consulta...\n",
      "consulta: select * from botones where id_elemento= '981' and titlebutton= 'Opcion 6' and typebutton= 'postback' and contentbutton= 'Informativo | eb6262bf-2b65-4dc7-9d6a-9a8544083dde | bSkwpaFVCmMXS8G2PR6k' and opc_nextid= 'Informativo | eb6262bf-2b65-4dc7-9d6a-9a8544083dde | bSkwpaFVCmMXS8G2PR6k' ;\n",
      "Datos enviados INSERT:\n",
      "{'id_elemento': '981', 'titlebutton': 'Opcion 6', 'typebutton': 'postback', 'contentbutton': 'Informativo | eb6262bf-2b65-4dc7-9d6a-9a8544083dde | bSkwpaFVCmMXS8G2PR6k', 'id_boton': 1767, 'opc_nextid': 'Informativo | eb6262bf-2b65-4dc7-9d6a-9a8544083dde | bSkwpaFVCmMXS8G2PR6k'}\n",
      "Datos recibidos INSERT:\n",
      "{'next_id': 'Intermedio | 39a8d681-4868-4b9c-98e4-9a8db0681865 | 98525253-9080-3718-4541-185145979160 | bSkwpaFVCmMXS8G2PR6k', 'namestate': 'Informativo | 7e74c6f6-46db-4b00-b8b3-07aac064e1de | 98525253-9080-3718-4541-185145979160 | bSkwpaFVCmMXS8G2PR6k', 'contenido': 'Hola, me he editado soy un bloque informativo', 'contenttype': 'text', 'typingtime': '2', 'id_robot': 540, 'blocktype': 'informativo'}\n",
      "intenatando consulta...\n",
      "consulta: select * from bloqueinformativo where next_id= 'Intermedio | 39a8d681-4868-4b9c-98e4-9a8db0681865 | 98525253-9080-3718-4541-185145979160 | bSkwpaFVCmMXS8G2PR6k' and namestate= 'Informativo | 7e74c6f6-46db-4b00-b8b3-07aac064e1de | 98525253-9080-3718-4541-185145979160 | bSkwpaFVCmMXS8G2PR6k' and contenido= 'Hola, me he editado soy un bloque informativo' and contenttype= 'text' and typingtime= '2' and id_robot= '540' and blocktype= 'informativo' ;\n"
     ]
    },
    {
     "name": "stderr",
     "output_type": "stream",
     "text": [
      "127.0.0.1 - - [15/Jun/2021 00:08:31] \"\u001b[37mPOST /insert/bloqueinformativo HTTP/1.1\u001b[0m\" 200 -\n",
      "127.0.0.1 - - [15/Jun/2021 00:08:31] \"\u001b[37mPOST /insert/bloqueinformativo HTTP/1.1\u001b[0m\" 200 -\n",
      "127.0.0.1 - - [15/Jun/2021 00:08:32] \"\u001b[37mPOST /insert/variables HTTP/1.1\u001b[0m\" 200 -\n"
     ]
    },
    {
     "name": "stdout",
     "output_type": "stream",
     "text": [
      "Datos enviados INSERT:\n",
      "{'namestate': 'Informativo | 7e74c6f6-46db-4b00-b8b3-07aac064e1de | 98525253-9080-3718-4541-185145979160 | bSkwpaFVCmMXS8G2PR6k', 'contenido': 'Hola, me he editado soy un bloque informativo', 'next_id': 'Intermedio | 39a8d681-4868-4b9c-98e4-9a8db0681865 | 98525253-9080-3718-4541-185145979160 | bSkwpaFVCmMXS8G2PR6k', 'blocktype': 'informativo', 'contenttype': 'text', 'typingtime': '2', 'id_block': 2869, 'id_robot': 540, 'opc_nextid': None, 'pos_y': None, 'pos_x': None, 'tag_active': None}\n",
      "Datos recibidos INSERT:\n",
      "{'next_id': 'Carrusel | fdd978d8-d9e9-4f74-8d01-07d1a43ecba8 | 98525253-9080-3718-4541-185145979160 | bSkwpaFVCmMXS8G2PR6k', 'namestate': 'Intermedio | 39a8d681-4868-4b9c-98e4-9a8db0681865 | 98525253-9080-3718-4541-185145979160 | bSkwpaFVCmMXS8G2PR6k', 'contenido': 'Este es un bloque intermedio', 'contenttype': 'text', 'typingtime': '1', 'id_robot': 540, 'blocktype': 'informativo'}\n",
      "intenatando consulta...\n",
      "consulta: select * from bloqueinformativo where next_id= 'Carrusel | fdd978d8-d9e9-4f74-8d01-07d1a43ecba8 | 98525253-9080-3718-4541-185145979160 | bSkwpaFVCmMXS8G2PR6k' and namestate= 'Intermedio | 39a8d681-4868-4b9c-98e4-9a8db0681865 | 98525253-9080-3718-4541-185145979160 | bSkwpaFVCmMXS8G2PR6k' and contenido= 'Este es un bloque intermedio' and contenttype= 'text' and typingtime= '1' and id_robot= '540' and blocktype= 'informativo' ;\n",
      "Datos enviados INSERT:\n",
      "{'namestate': 'Intermedio | 39a8d681-4868-4b9c-98e4-9a8db0681865 | 98525253-9080-3718-4541-185145979160 | bSkwpaFVCmMXS8G2PR6k', 'contenido': 'Este es un bloque intermedio', 'next_id': 'Carrusel | fdd978d8-d9e9-4f74-8d01-07d1a43ecba8 | 98525253-9080-3718-4541-185145979160 | bSkwpaFVCmMXS8G2PR6k', 'blocktype': 'informativo', 'contenttype': 'text', 'typingtime': '1', 'id_block': 2870, 'id_robot': 540, 'opc_nextid': None, 'pos_y': None, 'pos_x': None, 'tag_active': None}\n",
      "Datos recibidos INSERT:\n",
      "{'name_var': 'undefinedCarrusel_|_cce128da-fc3c-4ab8-8733-0f93dff9b0ca8305', 'opc_type': 'Variable', 'var': 0, 'opc_data': 'String', 'id_robot': 540}\n",
      "intenatando consulta...\n",
      "consulta: select * from variables where name_var= 'undefinedCarrusel_|_cce128da-fc3c-4ab8-8733-0f93dff9b0ca8305' and opc_type= 'Variable' and var= '0' and opc_data= 'String' and id_robot= '540' ;\n",
      "Datos enviados INSERT:\n",
      "{'id_var': 1897, 'opc_type': 'Variable', 'opc_data': 'String', 'var': '0', 'id_robot': 540, 'name_var': 'undefinedCarrusel_|_cce128da-fc3c-4ab8-8733-0f93dff9b0ca8305'}\n",
      "Datos recibidos INSERT:\n",
      "{'namestate': 'Carrusel | cce128da-fc3c-4ab8-8733-0f93dff9b0ca | 19627070-4044-4254-7133-869533412022 | bSkwpaFVCmMXS8G2PR6k', 'blocktype': 'slide', 'typingtime': '1', 'default_id': 'Carrusel | cce128da-fc3c-4ab8-8733-0f93dff9b0ca | 19627070-4044-4254-7133-869533412022 | bSkwpaFVCmMXS8G2PR6k', 'id_var': 1897, 'id_robot': 540}\n"
     ]
    },
    {
     "name": "stderr",
     "output_type": "stream",
     "text": [
      "127.0.0.1 - - [15/Jun/2021 00:08:32] \"\u001b[37mPOST /insert/bloqueslide HTTP/1.1\u001b[0m\" 200 -\n",
      "127.0.0.1 - - [15/Jun/2021 00:08:32] \"\u001b[37mPOST /insert/elementos HTTP/1.1\u001b[0m\" 200 -\n"
     ]
    },
    {
     "name": "stdout",
     "output_type": "stream",
     "text": [
      "intenatando consulta...\n",
      "consulta: select * from bloqueslide where namestate= 'Carrusel | cce128da-fc3c-4ab8-8733-0f93dff9b0ca | 19627070-4044-4254-7133-869533412022 | bSkwpaFVCmMXS8G2PR6k' and blocktype= 'slide' and typingtime= '1' and default_id= 'Carrusel | cce128da-fc3c-4ab8-8733-0f93dff9b0ca | 19627070-4044-4254-7133-869533412022 | bSkwpaFVCmMXS8G2PR6k' and id_var= '1897' and id_robot= '540' ;\n",
      "Datos enviados INSERT:\n",
      "{'namestate': 'Carrusel | cce128da-fc3c-4ab8-8733-0f93dff9b0ca | 19627070-4044-4254-7133-869533412022 | bSkwpaFVCmMXS8G2PR6k', 'next_id': None, 'blocktype': 'slide', 'typingtime': '1', 'default_id': 'Carrusel | cce128da-fc3c-4ab8-8733-0f93dff9b0ca | 19627070-4044-4254-7133-869533412022 | bSkwpaFVCmMXS8G2PR6k', 'id_var': '1897', 'id_block': 575, 'id_robot': 540, 'opc_nextid': None, 'pos_y': None, 'pos_x': None, 'opc_elm': None, 'tag_active': None}\n",
      "Datos recibidos INSERT:\n",
      "{'image_url': 'https://jalisco.quadratin.com.mx/www/wp-content/uploads/2020/11/grupo-firme-1-1160x700.jpg', 'subtitle': 'Subtitulo 1', 'title': 'Titulo 1', 'blocktype': 'slide', 'id_block': 575}\n",
      "intenatando consulta...\n",
      "consulta: select * from elementos where image_url= 'https://jalisco.quadratin.com.mx/www/wp-content/uploads/2020/11/grupo-firme-1-1160x700.jpg' and subtitle= 'Subtitulo 1' and title= 'Titulo 1' and blocktype= 'slide' and id_block= '575' ;\n",
      "Datos enviados INSERT:\n",
      "{'blocktype': 'slide', 'title': 'Titulo 1', 'image_url': 'https://jalisco.quadratin.com.mx/www/wp-content/uploads/2020/11/grupo-firme-1-1160x700.jpg', 'subtitle': 'Subtitulo 1', 'id_block': 575, 'id_elements': 982}\n",
      "Datos recibidos INSERT:\n",
      "{'id_elemento': '982', 'titlebutton': 'Salida 1', 'typebutton': 'postback', 'contentbutton': 'Informativo | 7e74c6f6-46db-4b00-b8b3-07aac064e1de | 98525253-9080-3718-4541-185145979160 | bSkwpaFVCmMXS8G2PR6k', 'opc_nextid': 'Informativo | 7e74c6f6-46db-4b00-b8b3-07aac064e1de | 98525253-9080-3718-4541-185145979160 | bSkwpaFVCmMXS8G2PR6k'}\n",
      "intenatando consulta...\n",
      "consulta: select * from botones where id_elemento= '982' and titlebutton= 'Salida 1' and typebutton= 'postback' and contentbutton= 'Informativo | 7e74c6f6-46db-4b00-b8b3-07aac064e1de | 98525253-9080-3718-4541-185145979160 | bSkwpaFVCmMXS8G2PR6k' and opc_nextid= 'Informativo | 7e74c6f6-46db-4b00-b8b3-07aac064e1de | 98525253-9080-3718-4541-185145979160 | bSkwpaFVCmMXS8G2PR6k' ;\n"
     ]
    },
    {
     "name": "stderr",
     "output_type": "stream",
     "text": [
      "127.0.0.1 - - [15/Jun/2021 00:08:32] \"\u001b[37mPOST /insert/botones HTTP/1.1\u001b[0m\" 200 -\n",
      "127.0.0.1 - - [15/Jun/2021 00:08:32] \"\u001b[37mPOST /insert/botones HTTP/1.1\u001b[0m\" 200 -\n"
     ]
    },
    {
     "name": "stdout",
     "output_type": "stream",
     "text": [
      "Datos enviados INSERT:\n",
      "{'id_elemento': '982', 'titlebutton': 'Salida 1', 'typebutton': 'postback', 'contentbutton': 'Informativo | 7e74c6f6-46db-4b00-b8b3-07aac064e1de | 98525253-9080-3718-4541-185145979160 | bSkwpaFVCmMXS8G2PR6k', 'id_boton': 1768, 'opc_nextid': 'Informativo | 7e74c6f6-46db-4b00-b8b3-07aac064e1de | 98525253-9080-3718-4541-185145979160 | bSkwpaFVCmMXS8G2PR6k'}\n",
      "Datos recibidos INSERT:\n",
      "{'id_elemento': '982', 'titlebutton': 'Facebook', 'typebutton': 'postback', 'contentbutton': 'Input prueba carrusel 2 | 3e82e3b7-d8da-4955-aff4-9bcbee291db6 | 19627070-4044-4254-7133-869533412022 | bSkwpaFVCmMXS8G2PR6k', 'opc_nextid': 'Input prueba carrusel 2 | 3e82e3b7-d8da-4955-aff4-9bcbee291db6 | 19627070-4044-4254-7133-869533412022 | bSkwpaFVCmMXS8G2PR6k'}\n",
      "intenatando consulta...\n",
      "consulta: select * from botones where id_elemento= '982' and titlebutton= 'Facebook' and typebutton= 'postback' and contentbutton= 'Input prueba carrusel 2 | 3e82e3b7-d8da-4955-aff4-9bcbee291db6 | 19627070-4044-4254-7133-869533412022 | bSkwpaFVCmMXS8G2PR6k' and opc_nextid= 'Input prueba carrusel 2 | 3e82e3b7-d8da-4955-aff4-9bcbee291db6 | 19627070-4044-4254-7133-869533412022 | bSkwpaFVCmMXS8G2PR6k' ;\n",
      "Datos enviados INSERT:\n",
      "{'id_elemento': '982', 'titlebutton': 'Facebook', 'typebutton': 'postback', 'contentbutton': 'Input prueba carrusel 2 | 3e82e3b7-d8da-4955-aff4-9bcbee291db6 | 19627070-4044-4254-7133-869533412022 | bSkwpaFVCmMXS8G2PR6k', 'id_boton': 1769, 'opc_nextid': 'Input prueba carrusel 2 | 3e82e3b7-d8da-4955-aff4-9bcbee291db6 | 19627070-4044-4254-7133-869533412022 | bSkwpaFVCmMXS8G2PR6k'}\n",
      "Datos recibidos INSERT:\n",
      "{'next_id': 'Carrusel | cce128da-fc3c-4ab8-8733-0f93dff9b0ca | 19627070-4044-4254-7133-869533412022 | bSkwpaFVCmMXS8G2PR6k', 'namestate': 'Informativo | 34fa0024-002a-4673-8b70-6419afef7d4d | 19627070-4044-4254-7133-869533412022 | bSkwpaFVCmMXS8G2PR6k', 'contenido': 'Este es el carrusel prueba 2', 'contenttype': 'text', 'typingtime': '1', 'id_robot': 540, 'blocktype': 'informativo'}\n",
      "intenatando consulta...\n",
      "consulta: select * from bloqueinformativo where next_id= 'Carrusel | cce128da-fc3c-4ab8-8733-0f93dff9b0ca | 19627070-4044-4254-7133-869533412022 | bSkwpaFVCmMXS8G2PR6k' and namestate= 'Informativo | 34fa0024-002a-4673-8b70-6419afef7d4d | 19627070-4044-4254-7133-869533412022 | bSkwpaFVCmMXS8G2PR6k' and contenido= 'Este es el carrusel prueba 2' and contenttype= 'text' and typingtime= '1' and id_robot= '540' and blocktype= 'informativo' ;\n"
     ]
    },
    {
     "name": "stderr",
     "output_type": "stream",
     "text": [
      "127.0.0.1 - - [15/Jun/2021 00:08:32] \"\u001b[37mPOST /insert/bloqueinformativo HTTP/1.1\u001b[0m\" 200 -\n",
      "127.0.0.1 - - [15/Jun/2021 00:08:32] \"\u001b[37mPOST /insert/variables HTTP/1.1\u001b[0m\" 200 -\n"
     ]
    },
    {
     "name": "stdout",
     "output_type": "stream",
     "text": [
      "Datos enviados INSERT:\n",
      "{'namestate': 'Informativo | 34fa0024-002a-4673-8b70-6419afef7d4d | 19627070-4044-4254-7133-869533412022 | bSkwpaFVCmMXS8G2PR6k', 'contenido': 'Este es el carrusel prueba 2', 'next_id': 'Carrusel | cce128da-fc3c-4ab8-8733-0f93dff9b0ca | 19627070-4044-4254-7133-869533412022 | bSkwpaFVCmMXS8G2PR6k', 'blocktype': 'informativo', 'contenttype': 'text', 'typingtime': '1', 'id_block': 2871, 'id_robot': 540, 'opc_nextid': None, 'pos_y': None, 'pos_x': None, 'tag_active': None}\n",
      "Datos recibidos INSERT:\n",
      "{'name_var': 'undefinedInput_prueba_carrusel_2_|_3e82e3b7-d8da-4955-aff4-9bcbee291db67470', 'opc_type': 'Variable', 'var': 0, 'opc_data': 'String', 'id_robot': 540}\n",
      "intenatando consulta...\n",
      "consulta: select * from variables where name_var= 'undefinedInput_prueba_carrusel_2_|_3e82e3b7-d8da-4955-aff4-9bcbee291db67470' and opc_type= 'Variable' and var= '0' and opc_data= 'String' and id_robot= '540' ;\n",
      "Datos enviados INSERT:\n",
      "{'id_var': 1898, 'opc_type': 'Variable', 'opc_data': 'String', 'var': '0', 'id_robot': 540, 'name_var': 'undefinedInput_prueba_carrusel_2_|_3e82e3b7-d8da-4955-aff4-9bcbee291db67470'}\n",
      "Datos recibidos INSERT:\n",
      "{'next_id': 'Informativo | eb6262bf-2b65-4dc7-9d6a-9a8544083dde | bSkwpaFVCmMXS8G2PR6k', 'default_id': 'Input prueba carrusel 2 | 3e82e3b7-d8da-4955-aff4-9bcbee291db6 | 19627070-4044-4254-7133-869533412022 | bSkwpaFVCmMXS8G2PR6k', 'namestate': 'Input prueba carrusel 2 | 3e82e3b7-d8da-4955-aff4-9bcbee291db6 | 19627070-4044-4254-7133-869533412022 | bSkwpaFVCmMXS8G2PR6k', 'contenido': 'Debes decrime \"adios\"', 'typingtime': '1', 'validacion': '', 'id_robot': 540, 'id_var': 1898, 'blocktype': 'input'}\n",
      "intenatando consulta...\n",
      "consulta: select * from bloqueinput where next_id= 'Informativo | eb6262bf-2b65-4dc7-9d6a-9a8544083dde | bSkwpaFVCmMXS8G2PR6k' and default_id= 'Input prueba carrusel 2 | 3e82e3b7-d8da-4955-aff4-9bcbee291db6 | 19627070-4044-4254-7133-869533412022 | bSkwpaFVCmMXS8G2PR6k' and namestate= 'Input prueba carrusel 2 | 3e82e3b7-d8da-4955-aff4-9bcbee291db6 | 19627070-4044-4254-7133-869533412022 | bSkwpaFVCmMXS8G2PR6k' and contenido= 'Debes decrime \"adios\"' and typingtime= '1' and validacion= '' and id_robot= '540' and id_var= '1898' and blocktype= 'input' ;\n"
     ]
    },
    {
     "name": "stderr",
     "output_type": "stream",
     "text": [
      "127.0.0.1 - - [15/Jun/2021 00:08:32] \"\u001b[37mPOST /insert/bloqueinput HTTP/1.1\u001b[0m\" 200 -\n",
      "127.0.0.1 - - [15/Jun/2021 00:08:32] \"\u001b[37mPOST /insert/variables HTTP/1.1\u001b[0m\" 200 -\n",
      "127.0.0.1 - - [15/Jun/2021 00:08:32] \"\u001b[37mPOST /insert/bloqueslide HTTP/1.1\u001b[0m\" 200 -\n"
     ]
    },
    {
     "name": "stdout",
     "output_type": "stream",
     "text": [
      "Datos enviados INSERT:\n",
      "{'namestate': 'Input prueba carrusel 2 | 3e82e3b7-d8da-4955-aff4-9bcbee291db6 | 19627070-4044-4254-7133-869533412022 | bSkwpaFVCmMXS8G2PR6k', 'contenido': 'Debes decrime \"adios\"', 'next_id': 'Informativo | eb6262bf-2b65-4dc7-9d6a-9a8544083dde | bSkwpaFVCmMXS8G2PR6k', 'blocktype': 'input', 'contenttype': None, 'typingtime': '1', 'validacion': '', 'default_id': 'Input prueba carrusel 2 | 3e82e3b7-d8da-4955-aff4-9bcbee291db6 | 19627070-4044-4254-7133-869533412022 | bSkwpaFVCmMXS8G2PR6k', 'id_var': '1898', 'id_block': 408, 'id_robot': 540, 'opc_nextid': None, 'pos_y': None, 'pos_x': None, 'tag_active': None}\n",
      "Datos recibidos INSERT:\n",
      "{'name_var': 'variableCarrCarrusel_|_5aaf3158-308e-4b01-9283-f01f32d587c92026', 'opc_type': 'Variable', 'var': 0, 'opc_data': 'String', 'id_robot': 540}\n",
      "intenatando consulta...\n",
      "consulta: select * from variables where name_var= 'variableCarrCarrusel_|_5aaf3158-308e-4b01-9283-f01f32d587c92026' and opc_type= 'Variable' and var= '0' and opc_data= 'String' and id_robot= '540' ;\n",
      "Datos enviados INSERT:\n",
      "{'id_var': 1899, 'opc_type': 'Variable', 'opc_data': 'String', 'var': '0', 'id_robot': 540, 'name_var': 'variableCarrCarrusel_|_5aaf3158-308e-4b01-9283-f01f32d587c92026'}\n",
      "Datos recibidos INSERT:\n",
      "{'namestate': 'Carrusel | 5aaf3158-308e-4b01-9283-f01f32d587c9 | 07418629-1549-9289-4157-116148457825 | bSkwpaFVCmMXS8G2PR6k', 'blocktype': 'slide', 'typingtime': '1', 'default_id': 'Carrusel | 5aaf3158-308e-4b01-9283-f01f32d587c9 | 07418629-1549-9289-4157-116148457825 | bSkwpaFVCmMXS8G2PR6k', 'id_var': 1899, 'id_robot': 540}\n",
      "intenatando consulta...\n",
      "consulta: select * from bloqueslide where namestate= 'Carrusel | 5aaf3158-308e-4b01-9283-f01f32d587c9 | 07418629-1549-9289-4157-116148457825 | bSkwpaFVCmMXS8G2PR6k' and blocktype= 'slide' and typingtime= '1' and default_id= 'Carrusel | 5aaf3158-308e-4b01-9283-f01f32d587c9 | 07418629-1549-9289-4157-116148457825 | bSkwpaFVCmMXS8G2PR6k' and id_var= '1899' and id_robot= '540' ;\n",
      "Datos enviados INSERT:\n",
      "{'namestate': 'Carrusel | 5aaf3158-308e-4b01-9283-f01f32d587c9 | 07418629-1549-9289-4157-116148457825 | bSkwpaFVCmMXS8G2PR6k', 'next_id': None, 'blocktype': 'slide', 'typingtime': '1', 'default_id': 'Carrusel | 5aaf3158-308e-4b01-9283-f01f32d587c9 | 07418629-1549-9289-4157-116148457825 | bSkwpaFVCmMXS8G2PR6k', 'id_var': '1899', 'id_block': 576, 'id_robot': 540, 'opc_nextid': None, 'pos_y': None, 'pos_x': None, 'opc_elm': None, 'tag_active': None}\n",
      "Datos recibidos INSERT:\n",
      "{'title': 'Titulo 1', 'subtitle': 'Subtitulo 1', 'image_url': 'https://sitechecker.pro/wp-content/uploads/2017/12/URL-meaning.png', 'blocktype': 'slide', 'id_block': 576}\n"
     ]
    },
    {
     "name": "stderr",
     "output_type": "stream",
     "text": [
      "127.0.0.1 - - [15/Jun/2021 00:08:32] \"\u001b[37mPOST /insert/elementos HTTP/1.1\u001b[0m\" 200 -\n",
      "127.0.0.1 - - [15/Jun/2021 00:08:32] \"\u001b[37mPOST /insert/botones HTTP/1.1\u001b[0m\" 200 -\n",
      "127.0.0.1 - - [15/Jun/2021 00:08:33] \"\u001b[37mPOST /insert/botones HTTP/1.1\u001b[0m\" 200 -\n"
     ]
    },
    {
     "name": "stdout",
     "output_type": "stream",
     "text": [
      "intenatando consulta...\n",
      "consulta: select * from elementos where title= 'Titulo 1' and subtitle= 'Subtitulo 1' and image_url= 'https://sitechecker.pro/wp-content/uploads/2017/12/URL-meaning.png' and blocktype= 'slide' and id_block= '576' ;\n",
      "Datos enviados INSERT:\n",
      "{'blocktype': 'slide', 'title': 'Titulo 1', 'image_url': 'https://sitechecker.pro/wp-content/uploads/2017/12/URL-meaning.png', 'subtitle': 'Subtitulo 1', 'id_block': 576, 'id_elements': 983}\n",
      "Datos recibidos INSERT:\n",
      "{'id_elemento': '983', 'titlebutton': 'Opcion 1', 'typebutton': 'postback', 'contentbutton': 'QuickReply | 9cd75eb1-5f87-4a23-84aa-d6de05ed56b8 | 07418629-1549-9289-4157-116148457825 | bSkwpaFVCmMXS8G2PR6k', 'opc_nextid': 'QuickReply | 9cd75eb1-5f87-4a23-84aa-d6de05ed56b8 | 07418629-1549-9289-4157-116148457825 | bSkwpaFVCmMXS8G2PR6k'}\n",
      "intenatando consulta...\n",
      "consulta: select * from botones where id_elemento= '983' and titlebutton= 'Opcion 1' and typebutton= 'postback' and contentbutton= 'QuickReply | 9cd75eb1-5f87-4a23-84aa-d6de05ed56b8 | 07418629-1549-9289-4157-116148457825 | bSkwpaFVCmMXS8G2PR6k' and opc_nextid= 'QuickReply | 9cd75eb1-5f87-4a23-84aa-d6de05ed56b8 | 07418629-1549-9289-4157-116148457825 | bSkwpaFVCmMXS8G2PR6k' ;\n",
      "Datos enviados INSERT:\n",
      "{'id_elemento': '983', 'titlebutton': 'Opcion 1', 'typebutton': 'postback', 'contentbutton': 'QuickReply | 9cd75eb1-5f87-4a23-84aa-d6de05ed56b8 | 07418629-1549-9289-4157-116148457825 | bSkwpaFVCmMXS8G2PR6k', 'id_boton': 1770, 'opc_nextid': 'QuickReply | 9cd75eb1-5f87-4a23-84aa-d6de05ed56b8 | 07418629-1549-9289-4157-116148457825 | bSkwpaFVCmMXS8G2PR6k'}\n",
      "Datos recibidos INSERT:\n",
      "{'id_elemento': '983', 'titlebutton': 'Opcion 2', 'typebutton': 'postback', 'contentbutton': 'QuickReply | f962f2fb-1047-4062-bac8-798fddc79ff2 | 07418629-1549-9289-4157-116148457825 | bSkwpaFVCmMXS8G2PR6k', 'opc_nextid': 'QuickReply | f962f2fb-1047-4062-bac8-798fddc79ff2 | 07418629-1549-9289-4157-116148457825 | bSkwpaFVCmMXS8G2PR6k'}\n",
      "intenatando consulta...\n",
      "consulta: select * from botones where id_elemento= '983' and titlebutton= 'Opcion 2' and typebutton= 'postback' and contentbutton= 'QuickReply | f962f2fb-1047-4062-bac8-798fddc79ff2 | 07418629-1549-9289-4157-116148457825 | bSkwpaFVCmMXS8G2PR6k' and opc_nextid= 'QuickReply | f962f2fb-1047-4062-bac8-798fddc79ff2 | 07418629-1549-9289-4157-116148457825 | bSkwpaFVCmMXS8G2PR6k' ;\n",
      "Datos enviados INSERT:\n",
      "{'id_elemento': '983', 'titlebutton': 'Opcion 2', 'typebutton': 'postback', 'contentbutton': 'QuickReply | f962f2fb-1047-4062-bac8-798fddc79ff2 | 07418629-1549-9289-4157-116148457825 | bSkwpaFVCmMXS8G2PR6k', 'id_boton': 1771, 'opc_nextid': 'QuickReply | f962f2fb-1047-4062-bac8-798fddc79ff2 | 07418629-1549-9289-4157-116148457825 | bSkwpaFVCmMXS8G2PR6k'}\n"
     ]
    },
    {
     "name": "stderr",
     "output_type": "stream",
     "text": [
      "127.0.0.1 - - [15/Jun/2021 00:08:33] \"\u001b[37mPOST /insert/bloqueinformativo HTTP/1.1\u001b[0m\" 200 -\n",
      "127.0.0.1 - - [15/Jun/2021 00:08:33] \"\u001b[37mPOST /insert/variables HTTP/1.1\u001b[0m\" 200 -\n"
     ]
    },
    {
     "name": "stdout",
     "output_type": "stream",
     "text": [
      "Datos recibidos INSERT:\n",
      "{'next_id': 'Carrusel | 5aaf3158-308e-4b01-9283-f01f32d587c9 | 07418629-1549-9289-4157-116148457825 | bSkwpaFVCmMXS8G2PR6k', 'namestate': 'Informativo | 98a8f39d-6761-48e7-aca7-66279cfabf40 | 07418629-1549-9289-4157-116148457825 | bSkwpaFVCmMXS8G2PR6k', 'contenido': 'Este es un bloque informativo', 'contenttype': 'text', 'typingtime': '1', 'id_robot': 540, 'blocktype': 'informativo'}\n",
      "intenatando consulta...\n",
      "consulta: select * from bloqueinformativo where next_id= 'Carrusel | 5aaf3158-308e-4b01-9283-f01f32d587c9 | 07418629-1549-9289-4157-116148457825 | bSkwpaFVCmMXS8G2PR6k' and namestate= 'Informativo | 98a8f39d-6761-48e7-aca7-66279cfabf40 | 07418629-1549-9289-4157-116148457825 | bSkwpaFVCmMXS8G2PR6k' and contenido= 'Este es un bloque informativo' and contenttype= 'text' and typingtime= '1' and id_robot= '540' and blocktype= 'informativo' ;\n",
      "Datos enviados INSERT:\n",
      "{'namestate': 'Informativo | 98a8f39d-6761-48e7-aca7-66279cfabf40 | 07418629-1549-9289-4157-116148457825 | bSkwpaFVCmMXS8G2PR6k', 'contenido': 'Este es un bloque informativo', 'next_id': 'Carrusel | 5aaf3158-308e-4b01-9283-f01f32d587c9 | 07418629-1549-9289-4157-116148457825 | bSkwpaFVCmMXS8G2PR6k', 'blocktype': 'informativo', 'contenttype': 'text', 'typingtime': '1', 'id_block': 2872, 'id_robot': 540, 'opc_nextid': None, 'pos_y': None, 'pos_x': None, 'tag_active': None}\n",
      "Datos recibidos INSERT:\n",
      "{'name_var': 'variableQrQuickReply_|_9cd75eb1-5f87-4a23-84aa-d6de05ed56b84732', 'opc_type': 'Variable', 'var': 0, 'opc_data': 'String', 'id_robot': 540}\n",
      "intenatando consulta...\n",
      "consulta: select * from variables where name_var= 'variableQrQuickReply_|_9cd75eb1-5f87-4a23-84aa-d6de05ed56b84732' and opc_type= 'Variable' and var= '0' and opc_data= 'String' and id_robot= '540' ;\n",
      "Datos enviados INSERT:\n",
      "{'id_var': 1900, 'opc_type': 'Variable', 'opc_data': 'String', 'var': '0', 'id_robot': 540, 'name_var': 'variableQrQuickReply_|_9cd75eb1-5f87-4a23-84aa-d6de05ed56b84732'}\n",
      "Datos recibidos INSERT:\n",
      "{'contenido': 'QUICKREPLY 1', 'opciones': 'SALIDA 1', 'next_id': 'Input | cd6d4be8-c346-4550-a26e-4bb9a7230d3b | bSkwpaFVCmMXS8G2PR6k', 'default_id': 'QuickReply | 9cd75eb1-5f87-4a23-84aa-d6de05ed56b8 | 07418629-1549-9289-4157-116148457825 | bSkwpaFVCmMXS8G2PR6k', 'namestate': 'QuickReply | 9cd75eb1-5f87-4a23-84aa-d6de05ed56b8 | 07418629-1549-9289-4157-116148457825 | bSkwpaFVCmMXS8G2PR6k', 'typingtime': '1', 'id_robot': 540, 'id_var': 1900, 'blocktype': 'quickReply'}\n",
      "intenatando consulta...\n",
      "consulta: select * from bloquequickreply where contenido= 'QUICKREPLY 1' and opciones= 'SALIDA 1' and next_id= 'Input | cd6d4be8-c346-4550-a26e-4bb9a7230d3b | bSkwpaFVCmMXS8G2PR6k' and default_id= 'QuickReply | 9cd75eb1-5f87-4a23-84aa-d6de05ed56b8 | 07418629-1549-9289-4157-116148457825 | bSkwpaFVCmMXS8G2PR6k' and namestate= 'QuickReply | 9cd75eb1-5f87-4a23-84aa-d6de05ed56b8 | 07418629-1549-9289-4157-116148457825 | bSkwpaFVCmMXS8G2PR6k' and typingtime= '1' and id_robot= '540' and id_var= '1900' and blocktype= 'quickReply' ;\n"
     ]
    },
    {
     "name": "stderr",
     "output_type": "stream",
     "text": [
      "127.0.0.1 - - [15/Jun/2021 00:08:33] \"\u001b[37mPOST /insert/bloquequickreply HTTP/1.1\u001b[0m\" 200 -\n",
      "127.0.0.1 - - [15/Jun/2021 00:08:33] \"\u001b[37mPOST /insert/variables HTTP/1.1\u001b[0m\" 200 -\n",
      "127.0.0.1 - - [15/Jun/2021 00:08:33] \"\u001b[37mPOST /insert/bloquequickreply HTTP/1.1\u001b[0m\" 200 -\n"
     ]
    },
    {
     "name": "stdout",
     "output_type": "stream",
     "text": [
      "Datos enviados INSERT:\n",
      "{'namestate': 'QuickReply | 9cd75eb1-5f87-4a23-84aa-d6de05ed56b8 | 07418629-1549-9289-4157-116148457825 | bSkwpaFVCmMXS8G2PR6k', 'contenido': 'QUICKREPLY 1', 'opciones': 'SALIDA 1', 'next_id': 'Input | cd6d4be8-c346-4550-a26e-4bb9a7230d3b | bSkwpaFVCmMXS8G2PR6k', 'blocktype': 'quickReply', 'typingtime': '1', 'default_id': 'QuickReply | 9cd75eb1-5f87-4a23-84aa-d6de05ed56b8 | 07418629-1549-9289-4157-116148457825 | bSkwpaFVCmMXS8G2PR6k', 'id_var': '1900', 'id_block': 688, 'id_robot': 540, 'opc_nextid': None, 'pos_y': None, 'pos_x': None, 'tag_active': None}\n",
      "Datos recibidos INSERT:\n",
      "{'name_var': 'variableQrQuickReply_|_f962f2fb-1047-4062-bac8-798fddc79ff22644', 'opc_type': 'Variable', 'var': 0, 'opc_data': 'String', 'id_robot': 540}\n",
      "intenatando consulta...\n",
      "consulta: select * from variables where name_var= 'variableQrQuickReply_|_f962f2fb-1047-4062-bac8-798fddc79ff22644' and opc_type= 'Variable' and var= '0' and opc_data= 'String' and id_robot= '540' ;\n",
      "Datos enviados INSERT:\n",
      "{'id_var': 1901, 'opc_type': 'Variable', 'opc_data': 'String', 'var': '0', 'id_robot': 540, 'name_var': 'variableQrQuickReply_|_f962f2fb-1047-4062-bac8-798fddc79ff22644'}\n",
      "Datos recibidos INSERT:\n",
      "{'contenido': 'Aprieta el siguiente botón para empezar de nuevo la conversación.', 'opciones': 'Inicio', 'next_id': 'Informativo | d9897d01-e0ce-44bd-ba3d-22973a7d74fd | bSkwpaFVCmMXS8G2PR6k', 'default_id': 'QuickReply | f962f2fb-1047-4062-bac8-798fddc79ff2 | 07418629-1549-9289-4157-116148457825 | bSkwpaFVCmMXS8G2PR6k', 'namestate': 'QuickReply | f962f2fb-1047-4062-bac8-798fddc79ff2 | 07418629-1549-9289-4157-116148457825 | bSkwpaFVCmMXS8G2PR6k', 'typingtime': '1', 'id_robot': 540, 'id_var': 1901, 'blocktype': 'quickReply'}\n",
      "intenatando consulta...\n",
      "consulta: select * from bloquequickreply where contenido= 'Aprieta el siguiente botón para empezar de nuevo la conversación.' and opciones= 'Inicio' and next_id= 'Informativo | d9897d01-e0ce-44bd-ba3d-22973a7d74fd | bSkwpaFVCmMXS8G2PR6k' and default_id= 'QuickReply | f962f2fb-1047-4062-bac8-798fddc79ff2 | 07418629-1549-9289-4157-116148457825 | bSkwpaFVCmMXS8G2PR6k' and namestate= 'QuickReply | f962f2fb-1047-4062-bac8-798fddc79ff2 | 07418629-1549-9289-4157-116148457825 | bSkwpaFVCmMXS8G2PR6k' and typingtime= '1' and id_robot= '540' and id_var= '1901' and blocktype= 'quickReply' ;\n",
      "Datos enviados INSERT:\n",
      "{'namestate': 'QuickReply | f962f2fb-1047-4062-bac8-798fddc79ff2 | 07418629-1549-9289-4157-116148457825 | bSkwpaFVCmMXS8G2PR6k', 'contenido': 'Aprieta el siguiente botón para empezar de nuevo la conversación.', 'opciones': 'Inicio', 'next_id': 'Informativo | d9897d01-e0ce-44bd-ba3d-22973a7d74fd | bSkwpaFVCmMXS8G2PR6k', 'blocktype': 'quickReply', 'typingtime': '1', 'default_id': 'QuickReply | f962f2fb-1047-4062-bac8-798fddc79ff2 | 07418629-1549-9289-4157-116148457825 | bSkwpaFVCmMXS8G2PR6k', 'id_var': '1901', 'id_block': 689, 'id_robot': 540, 'opc_nextid': None, 'pos_y': None, 'pos_x': None, 'tag_active': None}\n"
     ]
    },
    {
     "name": "stderr",
     "output_type": "stream",
     "text": [
      "127.0.0.1 - - [15/Jun/2021 00:08:33] \"\u001b[37mPOST /insert/bloqueinformativo HTTP/1.1\u001b[0m\" 200 -\n",
      "127.0.0.1 - - [15/Jun/2021 00:08:33] \"\u001b[37mPOST /insert/bloqueinformativo HTTP/1.1\u001b[0m\" 200 -\n"
     ]
    },
    {
     "name": "stdout",
     "output_type": "stream",
     "text": [
      "Datos recibidos INSERT:\n",
      "{'next_id': 'Informativo | 98a8f39d-6761-48e7-aca7-66279cfabf40 | 07418629-1549-9289-4157-116148457825 | bSkwpaFVCmMXS8G2PR6k', 'namestate': 'Informativo | d9897d01-e0ce-44bd-ba3d-22973a7d74fd | bSkwpaFVCmMXS8G2PR6k', 'contenido': 'Soy el chatbot del TT-A056', 'contenttype': 'text', 'typingtime': '1', 'id_robot': 540, 'blocktype': 'informativo'}\n",
      "intenatando consulta...\n",
      "consulta: select * from bloqueinformativo where next_id= 'Informativo | 98a8f39d-6761-48e7-aca7-66279cfabf40 | 07418629-1549-9289-4157-116148457825 | bSkwpaFVCmMXS8G2PR6k' and namestate= 'Informativo | d9897d01-e0ce-44bd-ba3d-22973a7d74fd | bSkwpaFVCmMXS8G2PR6k' and contenido= 'Soy el chatbot del TT-A056' and contenttype= 'text' and typingtime= '1' and id_robot= '540' and blocktype= 'informativo' ;\n",
      "Datos enviados INSERT:\n",
      "{'namestate': 'Informativo | d9897d01-e0ce-44bd-ba3d-22973a7d74fd | bSkwpaFVCmMXS8G2PR6k', 'contenido': 'Soy el chatbot del TT-A056', 'next_id': 'Informativo | 98a8f39d-6761-48e7-aca7-66279cfabf40 | 07418629-1549-9289-4157-116148457825 | bSkwpaFVCmMXS8G2PR6k', 'blocktype': 'informativo', 'contenttype': 'text', 'typingtime': '1', 'id_block': 2873, 'id_robot': 540, 'opc_nextid': None, 'pos_y': None, 'pos_x': None, 'tag_active': None}\n",
      "Datos recibidos INSERT:\n",
      "{'next_id': 'Salida', 'namestate': 'Informativo | eb6262bf-2b65-4dc7-9d6a-9a8544083dde | bSkwpaFVCmMXS8G2PR6k', 'contenido': 'Adios', 'contenttype': 'text', 'typingtime': '1', 'id_robot': 540, 'blocktype': 'informativo'}\n",
      "intenatando consulta...\n",
      "consulta: select * from bloqueinformativo where next_id= 'Salida' and namestate= 'Informativo | eb6262bf-2b65-4dc7-9d6a-9a8544083dde | bSkwpaFVCmMXS8G2PR6k' and contenido= 'Adios' and contenttype= 'text' and typingtime= '1' and id_robot= '540' and blocktype= 'informativo' ;\n",
      "Datos enviados INSERT:\n",
      "{'namestate': 'Informativo | eb6262bf-2b65-4dc7-9d6a-9a8544083dde | bSkwpaFVCmMXS8G2PR6k', 'contenido': 'Adios', 'next_id': 'Salida', 'blocktype': 'informativo', 'contenttype': 'text', 'typingtime': '1', 'id_block': 2874, 'id_robot': 540, 'opc_nextid': None, 'pos_y': None, 'pos_x': None, 'tag_active': None}\n",
      "Datos recibidos INSERT:\n",
      "{'name_var': 'variableInputInput_|_cd6d4be8-c346-4550-a26e-4bb9a7230d3b7062', 'opc_type': 'Variable', 'var': 0, 'opc_data': 'String', 'id_robot': 540}\n"
     ]
    },
    {
     "name": "stderr",
     "output_type": "stream",
     "text": [
      "127.0.0.1 - - [15/Jun/2021 00:08:33] \"\u001b[37mPOST /insert/variables HTTP/1.1\u001b[0m\" 200 -\n",
      "127.0.0.1 - - [15/Jun/2021 00:08:33] \"\u001b[37mPOST /insert/bloqueinput HTTP/1.1\u001b[0m\" 200 -\n",
      "127.0.0.1 - - [15/Jun/2021 00:08:33] \"\u001b[37mPOST /insert/bloqueinformativo HTTP/1.1\u001b[0m\" 200 -\n"
     ]
    },
    {
     "name": "stdout",
     "output_type": "stream",
     "text": [
      "intenatando consulta...\n",
      "consulta: select * from variables where name_var= 'variableInputInput_|_cd6d4be8-c346-4550-a26e-4bb9a7230d3b7062' and opc_type= 'Variable' and var= '0' and opc_data= 'String' and id_robot= '540' ;\n",
      "Datos enviados INSERT:\n",
      "{'id_var': 1902, 'opc_type': 'Variable', 'opc_data': 'String', 'var': '0', 'id_robot': 540, 'name_var': 'variableInputInput_|_cd6d4be8-c346-4550-a26e-4bb9a7230d3b7062'}\n",
      "Datos recibidos INSERT:\n",
      "{'next_id': 'Informativo | 34fa0024-002a-4673-8b70-6419afef7d4d | 19627070-4044-4254-7133-869533412022 | bSkwpaFVCmMXS8G2PR6k', 'default_id': 'Input | cd6d4be8-c346-4550-a26e-4bb9a7230d3b | bSkwpaFVCmMXS8G2PR6k', 'namestate': 'Input | cd6d4be8-c346-4550-a26e-4bb9a7230d3b | bSkwpaFVCmMXS8G2PR6k', 'contenido': 'Ingresa tu nombre', 'typingtime': '1', 'validacion': '', 'id_robot': 540, 'id_var': 1902, 'blocktype': 'input'}\n",
      "intenatando consulta...\n",
      "consulta: select * from bloqueinput where next_id= 'Informativo | 34fa0024-002a-4673-8b70-6419afef7d4d | 19627070-4044-4254-7133-869533412022 | bSkwpaFVCmMXS8G2PR6k' and default_id= 'Input | cd6d4be8-c346-4550-a26e-4bb9a7230d3b | bSkwpaFVCmMXS8G2PR6k' and namestate= 'Input | cd6d4be8-c346-4550-a26e-4bb9a7230d3b | bSkwpaFVCmMXS8G2PR6k' and contenido= 'Ingresa tu nombre' and typingtime= '1' and validacion= '' and id_robot= '540' and id_var= '1902' and blocktype= 'input' ;\n",
      "Datos enviados INSERT:\n",
      "{'namestate': 'Input | cd6d4be8-c346-4550-a26e-4bb9a7230d3b | bSkwpaFVCmMXS8G2PR6k', 'contenido': 'Ingresa tu nombre', 'next_id': 'Informativo | 34fa0024-002a-4673-8b70-6419afef7d4d | 19627070-4044-4254-7133-869533412022 | bSkwpaFVCmMXS8G2PR6k', 'blocktype': 'input', 'contenttype': None, 'typingtime': '1', 'validacion': '', 'default_id': 'Input | cd6d4be8-c346-4550-a26e-4bb9a7230d3b | bSkwpaFVCmMXS8G2PR6k', 'id_var': '1902', 'id_block': 409, 'id_robot': 540, 'opc_nextid': None, 'pos_y': None, 'pos_x': None, 'tag_active': None}\n",
      "Datos recibidos INSERT:\n",
      "{'next_id': '', 'namestate': 'Salida', 'contenido': '', 'contenttype': 'text', 'typingtime': 3, 'id_robot': 540, 'blocktype': 'informativo'}\n",
      "intenatando consulta...\n",
      "consulta: select * from bloqueinformativo where next_id= '' and namestate= 'Salida' and contenido= '' and contenttype= 'text' and typingtime= '3' and id_robot= '540' and blocktype= 'informativo' ;\n",
      "Datos enviados INSERT:\n",
      "{'namestate': 'Salida', 'contenido': '', 'next_id': '', 'blocktype': 'informativo', 'contenttype': 'text', 'typingtime': '3', 'id_block': 2875, 'id_robot': 540, 'opc_nextid': None, 'pos_y': None, 'pos_x': None, 'tag_active': None}\n"
     ]
    },
    {
     "name": "stderr",
     "output_type": "stream",
     "text": [
      "127.0.0.1 - - [15/Jun/2021 00:10:34] \"\u001b[37mGET /select/robots HTTP/1.1\u001b[0m\" 200 -\n",
      "127.0.0.1 - - [15/Jun/2021 00:10:34] \"\u001b[37mPOST /insert/robots HTTP/1.1\u001b[0m\" 200 -\n",
      "127.0.0.1 - - [15/Jun/2021 00:10:34] \"\u001b[37mPOST /insert/variables HTTP/1.1\u001b[0m\" 200 -\n"
     ]
    },
    {
     "name": "stdout",
     "output_type": "stream",
     "text": [
      "Datos recibidos SELECT:\n",
      "{'name_robot': 'Chatbot TT 2021', 'id_face': '110373671266869', 'block_ini': 'Informativo | a0be25bb-4eb4-49c2-830f-6eb23d64966c | ZG7udwy8rzhE5xtUnOGl', 'type_blocki': 'informativo', 'access_token': 'EAALZCCZBzPwfkBAAtF3N1x3GCvg9UuN7alfdTNGmZC5d96EY7vYBM6hQQedeMtNTZAWxFVFBmRXfT2lp3m970ZCDZBhelEyxvK6PN9gHzEXZBbdxvqXqETQzUffJynrycHPnBBR5GtxJl2ulvP0uXrP0fTyoEmQ5GchMN0ckdunXK6MEd1Q40Cb', 'id_user': 'charlygoldcruz@gmail.com', 'api_nlp': 'http://localhost:8282/'}\n",
      "intenatando consulta...\n",
      "consulta: select * from robots where id_face = '110373671266869';\n",
      "La consulta no trajo nada\n",
      "Datos enviados SELECT:\n",
      "{'error': 'true'}\n",
      "Datos recibidos INSERT:\n",
      "{'name_robot': 'Chatbot TT 2021', 'id_face': '110373671266869', 'block_ini': 'Informativo | a0be25bb-4eb4-49c2-830f-6eb23d64966c | ZG7udwy8rzhE5xtUnOGl', 'type_blocki': 'informativo', 'access_token': 'EAALZCCZBzPwfkBAAtF3N1x3GCvg9UuN7alfdTNGmZC5d96EY7vYBM6hQQedeMtNTZAWxFVFBmRXfT2lp3m970ZCDZBhelEyxvK6PN9gHzEXZBbdxvqXqETQzUffJynrycHPnBBR5GtxJl2ulvP0uXrP0fTyoEmQ5GchMN0ckdunXK6MEd1Q40Cb', 'id_user': 'charlygoldcruz@gmail.com', 'api_nlp': 'http://localhost:8282/'}\n",
      "intenatando consulta...\n",
      "consulta: select * from robots where id_face = '110373671266869';\n",
      "Datos enviados INSERT:\n",
      "{'name_robot': 'Chatbot TT 2021', 'id_face': '110373671266869', 'block_ini': 'Informativo | a0be25bb-4eb4-49c2-830f-6eb23d64966c | ZG7udwy8rzhE5xtUnOGl', 'type_blocki': 'informativo', 'access_token': 'EAALZCCZBzPwfkBAAtF3N1x3GCvg9UuN7alfdTNGmZC5d96EY7vYBM6hQQedeMtNTZAWxFVFBmRXfT2lp3m970ZCDZBhelEyxvK6PN9gHzEXZBbdxvqXqETQzUffJynrycHPnBBR5GtxJl2ulvP0uXrP0fTyoEmQ5GchMN0ckdunXK6MEd1Q40Cb', 'api_nlp': 'http://localhost:8282/', 'id_robot': 541, 'id_user': 'charlygoldcruz@gmail.com'}\n",
      "Datos recibidos INSERT:\n",
      "{'name_var': 'variableCarrCarrusel_|_5aaf3158-308e-4b01-9283-f01f32d587c92689', 'opc_type': 'Variable', 'var': 0, 'opc_data': 'String', 'id_robot': 541}\n",
      "intenatando consulta...\n",
      "consulta: select * from variables where name_var= 'variableCarrCarrusel_|_5aaf3158-308e-4b01-9283-f01f32d587c92689' and opc_type= 'Variable' and var= '0' and opc_data= 'String' and id_robot= '541' ;\n",
      "Datos enviados INSERT:\n",
      "{'id_var': 1903, 'opc_type': 'Variable', 'opc_data': 'String', 'var': '0', 'id_robot': 541, 'name_var': 'variableCarrCarrusel_|_5aaf3158-308e-4b01-9283-f01f32d587c92689'}\n",
      "Datos recibidos INSERT:\n",
      "{'namestate': 'Carrusel | 5aaf3158-308e-4b01-9283-f01f32d587c9 | 96628859-0899-7537-4503-489244348545 | ZG7udwy8rzhE5xtUnOGl', 'blocktype': 'slide', 'typingtime': '1', 'default_id': 'Carrusel | 5aaf3158-308e-4b01-9283-f01f32d587c9 | 96628859-0899-7537-4503-489244348545 | ZG7udwy8rzhE5xtUnOGl', 'id_var': 1903, 'id_robot': 541}\n"
     ]
    },
    {
     "name": "stderr",
     "output_type": "stream",
     "text": [
      "127.0.0.1 - - [15/Jun/2021 00:10:34] \"\u001b[37mPOST /insert/bloqueslide HTTP/1.1\u001b[0m\" 200 -\n",
      "127.0.0.1 - - [15/Jun/2021 00:10:34] \"\u001b[37mPOST /insert/elementos HTTP/1.1\u001b[0m\" 200 -\n",
      "127.0.0.1 - - [15/Jun/2021 00:10:34] \"\u001b[37mPOST /insert/botones HTTP/1.1\u001b[0m\" 200 -\n"
     ]
    },
    {
     "name": "stdout",
     "output_type": "stream",
     "text": [
      "intenatando consulta...\n",
      "consulta: select * from bloqueslide where namestate= 'Carrusel | 5aaf3158-308e-4b01-9283-f01f32d587c9 | 96628859-0899-7537-4503-489244348545 | ZG7udwy8rzhE5xtUnOGl' and blocktype= 'slide' and typingtime= '1' and default_id= 'Carrusel | 5aaf3158-308e-4b01-9283-f01f32d587c9 | 96628859-0899-7537-4503-489244348545 | ZG7udwy8rzhE5xtUnOGl' and id_var= '1903' and id_robot= '541' ;\n",
      "Datos enviados INSERT:\n",
      "{'namestate': 'Carrusel | 5aaf3158-308e-4b01-9283-f01f32d587c9 | 96628859-0899-7537-4503-489244348545 | ZG7udwy8rzhE5xtUnOGl', 'next_id': None, 'blocktype': 'slide', 'typingtime': '1', 'default_id': 'Carrusel | 5aaf3158-308e-4b01-9283-f01f32d587c9 | 96628859-0899-7537-4503-489244348545 | ZG7udwy8rzhE5xtUnOGl', 'id_var': '1903', 'id_block': 577, 'id_robot': 541, 'opc_nextid': None, 'pos_y': None, 'pos_x': None, 'opc_elm': None, 'tag_active': None}\n",
      "Datos recibidos INSERT:\n",
      "{'image_url': 'https://sitechecker.pro/wp-content/uploads/2017/12/URL-meaning.png', 'subtitle': 'Subtitulo 1', 'title': 'Titulo 1', 'blocktype': 'slide', 'id_block': 577}\n",
      "intenatando consulta...\n",
      "consulta: select * from elementos where image_url= 'https://sitechecker.pro/wp-content/uploads/2017/12/URL-meaning.png' and subtitle= 'Subtitulo 1' and title= 'Titulo 1' and blocktype= 'slide' and id_block= '577' ;\n",
      "Datos enviados INSERT:\n",
      "{'blocktype': 'slide', 'title': 'Titulo 1', 'image_url': 'https://sitechecker.pro/wp-content/uploads/2017/12/URL-meaning.png', 'subtitle': 'Subtitulo 1', 'id_block': 577, 'id_elements': 984}\n",
      "Datos recibidos INSERT:\n",
      "{'id_elemento': '984', 'titlebutton': 'Opcion 1', 'typebutton': 'postback', 'contentbutton': 'QuickReply | 9cd75eb1-5f87-4a23-84aa-d6de05ed56b8 | 96628859-0899-7537-4503-489244348545 | ZG7udwy8rzhE5xtUnOGl', 'opc_nextid': 'QuickReply | 9cd75eb1-5f87-4a23-84aa-d6de05ed56b8 | 96628859-0899-7537-4503-489244348545 | ZG7udwy8rzhE5xtUnOGl'}\n",
      "intenatando consulta...\n",
      "consulta: select * from botones where id_elemento= '984' and titlebutton= 'Opcion 1' and typebutton= 'postback' and contentbutton= 'QuickReply | 9cd75eb1-5f87-4a23-84aa-d6de05ed56b8 | 96628859-0899-7537-4503-489244348545 | ZG7udwy8rzhE5xtUnOGl' and opc_nextid= 'QuickReply | 9cd75eb1-5f87-4a23-84aa-d6de05ed56b8 | 96628859-0899-7537-4503-489244348545 | ZG7udwy8rzhE5xtUnOGl' ;\n",
      "Datos enviados INSERT:\n",
      "{'id_elemento': '984', 'titlebutton': 'Opcion 1', 'typebutton': 'postback', 'contentbutton': 'QuickReply | 9cd75eb1-5f87-4a23-84aa-d6de05ed56b8 | 96628859-0899-7537-4503-489244348545 | ZG7udwy8rzhE5xtUnOGl', 'id_boton': 1772, 'opc_nextid': 'QuickReply | 9cd75eb1-5f87-4a23-84aa-d6de05ed56b8 | 96628859-0899-7537-4503-489244348545 | ZG7udwy8rzhE5xtUnOGl'}\n"
     ]
    },
    {
     "name": "stderr",
     "output_type": "stream",
     "text": [
      "127.0.0.1 - - [15/Jun/2021 00:10:35] \"\u001b[37mPOST /insert/botones HTTP/1.1\u001b[0m\" 200 -\n",
      "127.0.0.1 - - [15/Jun/2021 00:10:35] \"\u001b[37mPOST /insert/bloqueinformativo HTTP/1.1\u001b[0m\" 200 -\n"
     ]
    },
    {
     "name": "stdout",
     "output_type": "stream",
     "text": [
      "Datos recibidos INSERT:\n",
      "{'id_elemento': '984', 'titlebutton': 'Opcion 2', 'typebutton': 'postback', 'contentbutton': 'QuickReply | f962f2fb-1047-4062-bac8-798fddc79ff2 | 96628859-0899-7537-4503-489244348545 | ZG7udwy8rzhE5xtUnOGl', 'opc_nextid': 'QuickReply | f962f2fb-1047-4062-bac8-798fddc79ff2 | 96628859-0899-7537-4503-489244348545 | ZG7udwy8rzhE5xtUnOGl'}\n",
      "intenatando consulta...\n",
      "consulta: select * from botones where id_elemento= '984' and titlebutton= 'Opcion 2' and typebutton= 'postback' and contentbutton= 'QuickReply | f962f2fb-1047-4062-bac8-798fddc79ff2 | 96628859-0899-7537-4503-489244348545 | ZG7udwy8rzhE5xtUnOGl' and opc_nextid= 'QuickReply | f962f2fb-1047-4062-bac8-798fddc79ff2 | 96628859-0899-7537-4503-489244348545 | ZG7udwy8rzhE5xtUnOGl' ;\n",
      "Datos enviados INSERT:\n",
      "{'id_elemento': '984', 'titlebutton': 'Opcion 2', 'typebutton': 'postback', 'contentbutton': 'QuickReply | f962f2fb-1047-4062-bac8-798fddc79ff2 | 96628859-0899-7537-4503-489244348545 | ZG7udwy8rzhE5xtUnOGl', 'id_boton': 1773, 'opc_nextid': 'QuickReply | f962f2fb-1047-4062-bac8-798fddc79ff2 | 96628859-0899-7537-4503-489244348545 | ZG7udwy8rzhE5xtUnOGl'}\n",
      "Datos recibidos INSERT:\n",
      "{'next_id': 'Carrusel | 5aaf3158-308e-4b01-9283-f01f32d587c9 | 96628859-0899-7537-4503-489244348545 | ZG7udwy8rzhE5xtUnOGl', 'namestate': 'Informativo | 98a8f39d-6761-48e7-aca7-66279cfabf40 | 96628859-0899-7537-4503-489244348545 | ZG7udwy8rzhE5xtUnOGl', 'contenido': 'Este es un bloque informativo', 'contenttype': 'text', 'typingtime': '1', 'id_robot': 541, 'blocktype': 'informativo'}\n",
      "intenatando consulta...\n",
      "consulta: select * from bloqueinformativo where next_id= 'Carrusel | 5aaf3158-308e-4b01-9283-f01f32d587c9 | 96628859-0899-7537-4503-489244348545 | ZG7udwy8rzhE5xtUnOGl' and namestate= 'Informativo | 98a8f39d-6761-48e7-aca7-66279cfabf40 | 96628859-0899-7537-4503-489244348545 | ZG7udwy8rzhE5xtUnOGl' and contenido= 'Este es un bloque informativo' and contenttype= 'text' and typingtime= '1' and id_robot= '541' and blocktype= 'informativo' ;\n",
      "Datos enviados INSERT:\n",
      "{'namestate': 'Informativo | 98a8f39d-6761-48e7-aca7-66279cfabf40 | 96628859-0899-7537-4503-489244348545 | ZG7udwy8rzhE5xtUnOGl', 'contenido': 'Este es un bloque informativo', 'next_id': 'Carrusel | 5aaf3158-308e-4b01-9283-f01f32d587c9 | 96628859-0899-7537-4503-489244348545 | ZG7udwy8rzhE5xtUnOGl', 'blocktype': 'informativo', 'contenttype': 'text', 'typingtime': '1', 'id_block': 2876, 'id_robot': 541, 'opc_nextid': None, 'pos_y': None, 'pos_x': None, 'tag_active': None}\n"
     ]
    },
    {
     "name": "stderr",
     "output_type": "stream",
     "text": [
      "127.0.0.1 - - [15/Jun/2021 00:10:35] \"\u001b[37mPOST /insert/variables HTTP/1.1\u001b[0m\" 200 -\n",
      "127.0.0.1 - - [15/Jun/2021 00:10:35] \"\u001b[37mPOST /insert/bloquequickreply HTTP/1.1\u001b[0m\" 200 -\n",
      "127.0.0.1 - - [15/Jun/2021 00:10:35] \"\u001b[37mPOST /insert/variables HTTP/1.1\u001b[0m\" 200 -\n"
     ]
    },
    {
     "name": "stdout",
     "output_type": "stream",
     "text": [
      "Datos recibidos INSERT:\n",
      "{'name_var': 'variableQrQuickReply_|_9cd75eb1-5f87-4a23-84aa-d6de05ed56b86157', 'opc_type': 'Variable', 'var': 0, 'opc_data': 'String', 'id_robot': 541}\n",
      "intenatando consulta...\n",
      "consulta: select * from variables where name_var= 'variableQrQuickReply_|_9cd75eb1-5f87-4a23-84aa-d6de05ed56b86157' and opc_type= 'Variable' and var= '0' and opc_data= 'String' and id_robot= '541' ;\n",
      "Datos enviados INSERT:\n",
      "{'id_var': 1904, 'opc_type': 'Variable', 'opc_data': 'String', 'var': '0', 'id_robot': 541, 'name_var': 'variableQrQuickReply_|_9cd75eb1-5f87-4a23-84aa-d6de05ed56b86157'}\n",
      "Datos recibidos INSERT:\n",
      "{'contenido': 'QUICKREPLY 1', 'opciones': 'SALIDA 1', 'next_id': 'Informativo | 34fa0024-002a-4673-8b70-6419afef7d4d | 55686726-3982-4003-0323-821800355990 | ZG7udwy8rzhE5xtUnOGl', 'default_id': 'QuickReply | 9cd75eb1-5f87-4a23-84aa-d6de05ed56b8 | 96628859-0899-7537-4503-489244348545 | ZG7udwy8rzhE5xtUnOGl', 'namestate': 'QuickReply | 9cd75eb1-5f87-4a23-84aa-d6de05ed56b8 | 96628859-0899-7537-4503-489244348545 | ZG7udwy8rzhE5xtUnOGl', 'typingtime': '1', 'id_robot': 541, 'id_var': 1904, 'blocktype': 'quickReply'}\n",
      "intenatando consulta...\n",
      "consulta: select * from bloquequickreply where contenido= 'QUICKREPLY 1' and opciones= 'SALIDA 1' and next_id= 'Informativo | 34fa0024-002a-4673-8b70-6419afef7d4d | 55686726-3982-4003-0323-821800355990 | ZG7udwy8rzhE5xtUnOGl' and default_id= 'QuickReply | 9cd75eb1-5f87-4a23-84aa-d6de05ed56b8 | 96628859-0899-7537-4503-489244348545 | ZG7udwy8rzhE5xtUnOGl' and namestate= 'QuickReply | 9cd75eb1-5f87-4a23-84aa-d6de05ed56b8 | 96628859-0899-7537-4503-489244348545 | ZG7udwy8rzhE5xtUnOGl' and typingtime= '1' and id_robot= '541' and id_var= '1904' and blocktype= 'quickReply' ;\n",
      "Datos enviados INSERT:\n",
      "{'namestate': 'QuickReply | 9cd75eb1-5f87-4a23-84aa-d6de05ed56b8 | 96628859-0899-7537-4503-489244348545 | ZG7udwy8rzhE5xtUnOGl', 'contenido': 'QUICKREPLY 1', 'opciones': 'SALIDA 1', 'next_id': 'Informativo | 34fa0024-002a-4673-8b70-6419afef7d4d | 55686726-3982-4003-0323-821800355990 | ZG7udwy8rzhE5xtUnOGl', 'blocktype': 'quickReply', 'typingtime': '1', 'default_id': 'QuickReply | 9cd75eb1-5f87-4a23-84aa-d6de05ed56b8 | 96628859-0899-7537-4503-489244348545 | ZG7udwy8rzhE5xtUnOGl', 'id_var': '1904', 'id_block': 690, 'id_robot': 541, 'opc_nextid': None, 'pos_y': None, 'pos_x': None, 'tag_active': None}\n",
      "Datos recibidos INSERT:\n",
      "{'name_var': 'variableQrQuickReply_|_f962f2fb-1047-4062-bac8-798fddc79ff25909', 'opc_type': 'Variable', 'var': 0, 'opc_data': 'String', 'id_robot': 541}\n",
      "intenatando consulta...\n",
      "consulta: select * from variables where name_var= 'variableQrQuickReply_|_f962f2fb-1047-4062-bac8-798fddc79ff25909' and opc_type= 'Variable' and var= '0' and opc_data= 'String' and id_robot= '541' ;\n",
      "Datos enviados INSERT:\n",
      "{'id_var': 1905, 'opc_type': 'Variable', 'opc_data': 'String', 'var': '0', 'id_robot': 541, 'name_var': 'variableQrQuickReply_|_f962f2fb-1047-4062-bac8-798fddc79ff25909'}\n"
     ]
    },
    {
     "name": "stderr",
     "output_type": "stream",
     "text": [
      "127.0.0.1 - - [15/Jun/2021 00:10:35] \"\u001b[37mPOST /insert/bloquequickreply HTTP/1.1\u001b[0m\" 200 -\n",
      "127.0.0.1 - - [15/Jun/2021 00:10:35] \"\u001b[37mPOST /insert/variables HTTP/1.1\u001b[0m\" 200 -\n"
     ]
    },
    {
     "name": "stdout",
     "output_type": "stream",
     "text": [
      "Datos recibidos INSERT:\n",
      "{'contenido': 'quickreply 2', 'opciones': 'SALIDA 2', 'next_id': 'Informativo | 34fa0024-002a-4673-8b70-6419afef7d4d | 36067394-2558-1046-0765-010229045532 | ZG7udwy8rzhE5xtUnOGl', 'default_id': 'QuickReply | f962f2fb-1047-4062-bac8-798fddc79ff2 | 96628859-0899-7537-4503-489244348545 | ZG7udwy8rzhE5xtUnOGl', 'namestate': 'QuickReply | f962f2fb-1047-4062-bac8-798fddc79ff2 | 96628859-0899-7537-4503-489244348545 | ZG7udwy8rzhE5xtUnOGl', 'typingtime': '1', 'id_robot': 541, 'id_var': 1905, 'blocktype': 'quickReply'}\n",
      "intenatando consulta...\n",
      "consulta: select * from bloquequickreply where contenido= 'quickreply 2' and opciones= 'SALIDA 2' and next_id= 'Informativo | 34fa0024-002a-4673-8b70-6419afef7d4d | 36067394-2558-1046-0765-010229045532 | ZG7udwy8rzhE5xtUnOGl' and default_id= 'QuickReply | f962f2fb-1047-4062-bac8-798fddc79ff2 | 96628859-0899-7537-4503-489244348545 | ZG7udwy8rzhE5xtUnOGl' and namestate= 'QuickReply | f962f2fb-1047-4062-bac8-798fddc79ff2 | 96628859-0899-7537-4503-489244348545 | ZG7udwy8rzhE5xtUnOGl' and typingtime= '1' and id_robot= '541' and id_var= '1905' and blocktype= 'quickReply' ;\n",
      "Datos enviados INSERT:\n",
      "{'namestate': 'QuickReply | f962f2fb-1047-4062-bac8-798fddc79ff2 | 96628859-0899-7537-4503-489244348545 | ZG7udwy8rzhE5xtUnOGl', 'contenido': 'quickreply 2', 'opciones': 'SALIDA 2', 'next_id': 'Informativo | 34fa0024-002a-4673-8b70-6419afef7d4d | 36067394-2558-1046-0765-010229045532 | ZG7udwy8rzhE5xtUnOGl', 'blocktype': 'quickReply', 'typingtime': '1', 'default_id': 'QuickReply | f962f2fb-1047-4062-bac8-798fddc79ff2 | 96628859-0899-7537-4503-489244348545 | ZG7udwy8rzhE5xtUnOGl', 'id_var': '1905', 'id_block': 691, 'id_robot': 541, 'opc_nextid': None, 'pos_y': None, 'pos_x': None, 'tag_active': None}\n",
      "Datos recibidos INSERT:\n",
      "{'name_var': 'undefinedCarrusel_|_cce128da-fc3c-4ab8-8733-0f93dff9b0ca3980', 'opc_type': 'Variable', 'var': 0, 'opc_data': 'String', 'id_robot': 541}\n",
      "intenatando consulta...\n",
      "consulta: select * from variables where name_var= 'undefinedCarrusel_|_cce128da-fc3c-4ab8-8733-0f93dff9b0ca3980' and opc_type= 'Variable' and var= '0' and opc_data= 'String' and id_robot= '541' ;\n",
      "Datos enviados INSERT:\n",
      "{'id_var': 1906, 'opc_type': 'Variable', 'opc_data': 'String', 'var': '0', 'id_robot': 541, 'name_var': 'undefinedCarrusel_|_cce128da-fc3c-4ab8-8733-0f93dff9b0ca3980'}\n",
      "Datos recibidos INSERT:\n",
      "{'namestate': 'Carrusel | cce128da-fc3c-4ab8-8733-0f93dff9b0ca | 55686726-3982-4003-0323-821800355990 | ZG7udwy8rzhE5xtUnOGl', 'blocktype': 'slide', 'typingtime': '1', 'default_id': 'Carrusel | cce128da-fc3c-4ab8-8733-0f93dff9b0ca | 55686726-3982-4003-0323-821800355990 | ZG7udwy8rzhE5xtUnOGl', 'id_var': 1906, 'id_robot': 541}\n",
      "intenatando consulta...\n",
      "consulta: select * from bloqueslide where namestate= 'Carrusel | cce128da-fc3c-4ab8-8733-0f93dff9b0ca | 55686726-3982-4003-0323-821800355990 | ZG7udwy8rzhE5xtUnOGl' and blocktype= 'slide' and typingtime= '1' and default_id= 'Carrusel | cce128da-fc3c-4ab8-8733-0f93dff9b0ca | 55686726-3982-4003-0323-821800355990 | ZG7udwy8rzhE5xtUnOGl' and id_var= '1906' and id_robot= '541' ;\n"
     ]
    },
    {
     "name": "stderr",
     "output_type": "stream",
     "text": [
      "127.0.0.1 - - [15/Jun/2021 00:10:35] \"\u001b[37mPOST /insert/bloqueslide HTTP/1.1\u001b[0m\" 200 -\n",
      "127.0.0.1 - - [15/Jun/2021 00:10:35] \"\u001b[37mPOST /insert/elementos HTTP/1.1\u001b[0m\" 200 -\n",
      "127.0.0.1 - - [15/Jun/2021 00:10:35] \"\u001b[37mPOST /insert/botones HTTP/1.1\u001b[0m\" 200 -\n"
     ]
    },
    {
     "name": "stdout",
     "output_type": "stream",
     "text": [
      "Datos enviados INSERT:\n",
      "{'namestate': 'Carrusel | cce128da-fc3c-4ab8-8733-0f93dff9b0ca | 55686726-3982-4003-0323-821800355990 | ZG7udwy8rzhE5xtUnOGl', 'next_id': None, 'blocktype': 'slide', 'typingtime': '1', 'default_id': 'Carrusel | cce128da-fc3c-4ab8-8733-0f93dff9b0ca | 55686726-3982-4003-0323-821800355990 | ZG7udwy8rzhE5xtUnOGl', 'id_var': '1906', 'id_block': 578, 'id_robot': 541, 'opc_nextid': None, 'pos_y': None, 'pos_x': None, 'opc_elm': None, 'tag_active': None}\n",
      "Datos recibidos INSERT:\n",
      "{'image_url': 'https://jalisco.quadratin.com.mx/www/wp-content/uploads/2020/11/grupo-firme-1-1160x700.jpg', 'subtitle': 'Subtitulo 1', 'title': 'Titulo 1', 'blocktype': 'slide', 'id_block': 578}\n",
      "intenatando consulta...\n",
      "consulta: select * from elementos where image_url= 'https://jalisco.quadratin.com.mx/www/wp-content/uploads/2020/11/grupo-firme-1-1160x700.jpg' and subtitle= 'Subtitulo 1' and title= 'Titulo 1' and blocktype= 'slide' and id_block= '578' ;\n",
      "Datos enviados INSERT:\n",
      "{'blocktype': 'slide', 'title': 'Titulo 1', 'image_url': 'https://jalisco.quadratin.com.mx/www/wp-content/uploads/2020/11/grupo-firme-1-1160x700.jpg', 'subtitle': 'Subtitulo 1', 'id_block': 578, 'id_elements': 985}\n",
      "Datos recibidos INSERT:\n",
      "{'id_elemento': '985', 'titlebutton': 'Salida 1', 'typebutton': 'postback', 'contentbutton': 'Informativo | 72991cca-745b-4886-8ac4-c92d730c134a | ZG7udwy8rzhE5xtUnOGl', 'opc_nextid': 'Informativo | 72991cca-745b-4886-8ac4-c92d730c134a | ZG7udwy8rzhE5xtUnOGl'}\n",
      "intenatando consulta...\n",
      "consulta: select * from botones where id_elemento= '985' and titlebutton= 'Salida 1' and typebutton= 'postback' and contentbutton= 'Informativo | 72991cca-745b-4886-8ac4-c92d730c134a | ZG7udwy8rzhE5xtUnOGl' and opc_nextid= 'Informativo | 72991cca-745b-4886-8ac4-c92d730c134a | ZG7udwy8rzhE5xtUnOGl' ;\n",
      "Datos enviados INSERT:\n",
      "{'id_elemento': '985', 'titlebutton': 'Salida 1', 'typebutton': 'postback', 'contentbutton': 'Informativo | 72991cca-745b-4886-8ac4-c92d730c134a | ZG7udwy8rzhE5xtUnOGl', 'id_boton': 1774, 'opc_nextid': 'Informativo | 72991cca-745b-4886-8ac4-c92d730c134a | ZG7udwy8rzhE5xtUnOGl'}\n",
      "Datos recibidos INSERT:\n",
      "{'id_elemento': '985', 'titlebutton': 'Input', 'typebutton': 'postback', 'contentbutton': 'Input prueba carrusel 2 | 3e82e3b7-d8da-4955-aff4-9bcbee291db6 | 55686726-3982-4003-0323-821800355990 | ZG7udwy8rzhE5xtUnOGl', 'opc_nextid': 'Input prueba carrusel 2 | 3e82e3b7-d8da-4955-aff4-9bcbee291db6 | 55686726-3982-4003-0323-821800355990 | ZG7udwy8rzhE5xtUnOGl'}\n"
     ]
    },
    {
     "name": "stderr",
     "output_type": "stream",
     "text": [
      "127.0.0.1 - - [15/Jun/2021 00:10:35] \"\u001b[37mPOST /insert/botones HTTP/1.1\u001b[0m\" 200 -\n",
      "127.0.0.1 - - [15/Jun/2021 00:10:35] \"\u001b[37mPOST /insert/bloqueinformativo HTTP/1.1\u001b[0m\" 200 -\n"
     ]
    },
    {
     "name": "stdout",
     "output_type": "stream",
     "text": [
      "intenatando consulta...\n",
      "consulta: select * from botones where id_elemento= '985' and titlebutton= 'Input' and typebutton= 'postback' and contentbutton= 'Input prueba carrusel 2 | 3e82e3b7-d8da-4955-aff4-9bcbee291db6 | 55686726-3982-4003-0323-821800355990 | ZG7udwy8rzhE5xtUnOGl' and opc_nextid= 'Input prueba carrusel 2 | 3e82e3b7-d8da-4955-aff4-9bcbee291db6 | 55686726-3982-4003-0323-821800355990 | ZG7udwy8rzhE5xtUnOGl' ;\n",
      "Datos enviados INSERT:\n",
      "{'id_elemento': '985', 'titlebutton': 'Input', 'typebutton': 'postback', 'contentbutton': 'Input prueba carrusel 2 | 3e82e3b7-d8da-4955-aff4-9bcbee291db6 | 55686726-3982-4003-0323-821800355990 | ZG7udwy8rzhE5xtUnOGl', 'id_boton': 1775, 'opc_nextid': 'Input prueba carrusel 2 | 3e82e3b7-d8da-4955-aff4-9bcbee291db6 | 55686726-3982-4003-0323-821800355990 | ZG7udwy8rzhE5xtUnOGl'}\n",
      "Datos recibidos INSERT:\n",
      "{'next_id': 'Carrusel | cce128da-fc3c-4ab8-8733-0f93dff9b0ca | 55686726-3982-4003-0323-821800355990 | ZG7udwy8rzhE5xtUnOGl', 'namestate': 'Informativo | 34fa0024-002a-4673-8b70-6419afef7d4d | 55686726-3982-4003-0323-821800355990 | ZG7udwy8rzhE5xtUnOGl', 'contenido': 'Este es el carrusel prueba', 'contenttype': 'text', 'typingtime': '1', 'id_robot': 541, 'blocktype': 'informativo'}\n",
      "intenatando consulta...\n",
      "consulta: select * from bloqueinformativo where next_id= 'Carrusel | cce128da-fc3c-4ab8-8733-0f93dff9b0ca | 55686726-3982-4003-0323-821800355990 | ZG7udwy8rzhE5xtUnOGl' and namestate= 'Informativo | 34fa0024-002a-4673-8b70-6419afef7d4d | 55686726-3982-4003-0323-821800355990 | ZG7udwy8rzhE5xtUnOGl' and contenido= 'Este es el carrusel prueba' and contenttype= 'text' and typingtime= '1' and id_robot= '541' and blocktype= 'informativo' ;\n",
      "Datos enviados INSERT:\n",
      "{'namestate': 'Informativo | 34fa0024-002a-4673-8b70-6419afef7d4d | 55686726-3982-4003-0323-821800355990 | ZG7udwy8rzhE5xtUnOGl', 'contenido': 'Este es el carrusel prueba', 'next_id': 'Carrusel | cce128da-fc3c-4ab8-8733-0f93dff9b0ca | 55686726-3982-4003-0323-821800355990 | ZG7udwy8rzhE5xtUnOGl', 'blocktype': 'informativo', 'contenttype': 'text', 'typingtime': '1', 'id_block': 2877, 'id_robot': 541, 'opc_nextid': None, 'pos_y': None, 'pos_x': None, 'tag_active': None}\n",
      "Datos recibidos INSERT:\n",
      "{'name_var': 'undefinedInput_prueba_carrusel_2_|_3e82e3b7-d8da-4955-aff4-9bcbee291db65776', 'opc_type': 'Variable', 'var': 0, 'opc_data': 'String', 'id_robot': 541}\n"
     ]
    },
    {
     "name": "stderr",
     "output_type": "stream",
     "text": [
      "127.0.0.1 - - [15/Jun/2021 00:10:36] \"\u001b[37mPOST /insert/variables HTTP/1.1\u001b[0m\" 200 -\n",
      "127.0.0.1 - - [15/Jun/2021 00:10:36] \"\u001b[37mPOST /insert/bloqueinput HTTP/1.1\u001b[0m\" 200 -\n",
      "127.0.0.1 - - [15/Jun/2021 00:10:36] \"\u001b[37mPOST /insert/variables HTTP/1.1\u001b[0m\" 200 -\n"
     ]
    },
    {
     "name": "stdout",
     "output_type": "stream",
     "text": [
      "intenatando consulta...\n",
      "consulta: select * from variables where name_var= 'undefinedInput_prueba_carrusel_2_|_3e82e3b7-d8da-4955-aff4-9bcbee291db65776' and opc_type= 'Variable' and var= '0' and opc_data= 'String' and id_robot= '541' ;\n",
      "Datos enviados INSERT:\n",
      "{'id_var': 1907, 'opc_type': 'Variable', 'opc_data': 'String', 'var': '0', 'id_robot': 541, 'name_var': 'undefinedInput_prueba_carrusel_2_|_3e82e3b7-d8da-4955-aff4-9bcbee291db65776'}\n",
      "Datos recibidos INSERT:\n",
      "{'next_id': 'Informativo | 72991cca-745b-4886-8ac4-c92d730c134a | ZG7udwy8rzhE5xtUnOGl', 'default_id': 'Input prueba carrusel 2 | 3e82e3b7-d8da-4955-aff4-9bcbee291db6 | 55686726-3982-4003-0323-821800355990 | ZG7udwy8rzhE5xtUnOGl', 'namestate': 'Input prueba carrusel 2 | 3e82e3b7-d8da-4955-aff4-9bcbee291db6 | 55686726-3982-4003-0323-821800355990 | ZG7udwy8rzhE5xtUnOGl', 'contenido': 'Ingresa \"algo\"', 'typingtime': '1', 'validacion': 'algo', 'id_robot': 541, 'id_var': 1907, 'blocktype': 'input'}\n",
      "intenatando consulta...\n",
      "consulta: select * from bloqueinput where next_id= 'Informativo | 72991cca-745b-4886-8ac4-c92d730c134a | ZG7udwy8rzhE5xtUnOGl' and default_id= 'Input prueba carrusel 2 | 3e82e3b7-d8da-4955-aff4-9bcbee291db6 | 55686726-3982-4003-0323-821800355990 | ZG7udwy8rzhE5xtUnOGl' and namestate= 'Input prueba carrusel 2 | 3e82e3b7-d8da-4955-aff4-9bcbee291db6 | 55686726-3982-4003-0323-821800355990 | ZG7udwy8rzhE5xtUnOGl' and contenido= 'Ingresa \"algo\"' and typingtime= '1' and validacion= 'algo' and id_robot= '541' and id_var= '1907' and blocktype= 'input' ;\n",
      "Datos enviados INSERT:\n",
      "{'namestate': 'Input prueba carrusel 2 | 3e82e3b7-d8da-4955-aff4-9bcbee291db6 | 55686726-3982-4003-0323-821800355990 | ZG7udwy8rzhE5xtUnOGl', 'contenido': 'Ingresa \"algo\"', 'next_id': 'Informativo | 72991cca-745b-4886-8ac4-c92d730c134a | ZG7udwy8rzhE5xtUnOGl', 'blocktype': 'input', 'contenttype': None, 'typingtime': '1', 'validacion': 'algo', 'default_id': 'Input prueba carrusel 2 | 3e82e3b7-d8da-4955-aff4-9bcbee291db6 | 55686726-3982-4003-0323-821800355990 | ZG7udwy8rzhE5xtUnOGl', 'id_var': '1907', 'id_block': 410, 'id_robot': 541, 'opc_nextid': None, 'pos_y': None, 'pos_x': None, 'tag_active': None}\n",
      "Datos recibidos INSERT:\n",
      "{'name_var': 'undefinedCarrusel_|_cce128da-fc3c-4ab8-8733-0f93dff9b0ca5764', 'opc_type': 'Variable', 'var': 0, 'opc_data': 'String', 'id_robot': 541}\n",
      "intenatando consulta...\n",
      "consulta: select * from variables where name_var= 'undefinedCarrusel_|_cce128da-fc3c-4ab8-8733-0f93dff9b0ca5764' and opc_type= 'Variable' and var= '0' and opc_data= 'String' and id_robot= '541' ;\n",
      "Datos enviados INSERT:\n",
      "{'id_var': 1908, 'opc_type': 'Variable', 'opc_data': 'String', 'var': '0', 'id_robot': 541, 'name_var': 'undefinedCarrusel_|_cce128da-fc3c-4ab8-8733-0f93dff9b0ca5764'}\n"
     ]
    },
    {
     "name": "stderr",
     "output_type": "stream",
     "text": [
      "127.0.0.1 - - [15/Jun/2021 00:10:36] \"\u001b[37mPOST /insert/bloqueslide HTTP/1.1\u001b[0m\" 200 -\n",
      "127.0.0.1 - - [15/Jun/2021 00:10:36] \"\u001b[37mPOST /insert/elementos HTTP/1.1\u001b[0m\" 200 -\n"
     ]
    },
    {
     "name": "stdout",
     "output_type": "stream",
     "text": [
      "Datos recibidos INSERT:\n",
      "{'namestate': 'Carrusel | cce128da-fc3c-4ab8-8733-0f93dff9b0ca | 36067394-2558-1046-0765-010229045532 | ZG7udwy8rzhE5xtUnOGl', 'blocktype': 'slide', 'typingtime': '1', 'default_id': 'Carrusel | cce128da-fc3c-4ab8-8733-0f93dff9b0ca | 36067394-2558-1046-0765-010229045532 | ZG7udwy8rzhE5xtUnOGl', 'id_var': 1908, 'id_robot': 541}\n",
      "intenatando consulta...\n",
      "consulta: select * from bloqueslide where namestate= 'Carrusel | cce128da-fc3c-4ab8-8733-0f93dff9b0ca | 36067394-2558-1046-0765-010229045532 | ZG7udwy8rzhE5xtUnOGl' and blocktype= 'slide' and typingtime= '1' and default_id= 'Carrusel | cce128da-fc3c-4ab8-8733-0f93dff9b0ca | 36067394-2558-1046-0765-010229045532 | ZG7udwy8rzhE5xtUnOGl' and id_var= '1908' and id_robot= '541' ;\n",
      "Datos enviados INSERT:\n",
      "{'namestate': 'Carrusel | cce128da-fc3c-4ab8-8733-0f93dff9b0ca | 36067394-2558-1046-0765-010229045532 | ZG7udwy8rzhE5xtUnOGl', 'next_id': None, 'blocktype': 'slide', 'typingtime': '1', 'default_id': 'Carrusel | cce128da-fc3c-4ab8-8733-0f93dff9b0ca | 36067394-2558-1046-0765-010229045532 | ZG7udwy8rzhE5xtUnOGl', 'id_var': '1908', 'id_block': 579, 'id_robot': 541, 'opc_nextid': None, 'pos_y': None, 'pos_x': None, 'opc_elm': None, 'tag_active': None}\n",
      "Datos recibidos INSERT:\n",
      "{'subtitle': 'Subtitulo 1', 'title': 'Titulo 1', 'image_url': 'https://jalisco.quadratin.com.mx/www/wp-content/uploads/2020/11/grupo-firme-1-1160x700.jpg', 'blocktype': 'slide', 'id_block': 579}\n",
      "intenatando consulta...\n",
      "consulta: select * from elementos where subtitle= 'Subtitulo 1' and title= 'Titulo 1' and image_url= 'https://jalisco.quadratin.com.mx/www/wp-content/uploads/2020/11/grupo-firme-1-1160x700.jpg' and blocktype= 'slide' and id_block= '579' ;\n",
      "Datos enviados INSERT:\n",
      "{'blocktype': 'slide', 'title': 'Titulo 1', 'image_url': 'https://jalisco.quadratin.com.mx/www/wp-content/uploads/2020/11/grupo-firme-1-1160x700.jpg', 'subtitle': 'Subtitulo 1', 'id_block': 579, 'id_elements': 986}\n",
      "Datos recibidos INSERT:\n",
      "{'id_elemento': '986', 'titlebutton': 'Salida 1', 'typebutton': 'postback', 'contentbutton': 'Informativo | 72991cca-745b-4886-8ac4-c92d730c134a | ZG7udwy8rzhE5xtUnOGl', 'opc_nextid': 'Informativo | 72991cca-745b-4886-8ac4-c92d730c134a | ZG7udwy8rzhE5xtUnOGl'}\n",
      "intenatando consulta...\n",
      "consulta: select * from botones where id_elemento= '986' and titlebutton= 'Salida 1' and typebutton= 'postback' and contentbutton= 'Informativo | 72991cca-745b-4886-8ac4-c92d730c134a | ZG7udwy8rzhE5xtUnOGl' and opc_nextid= 'Informativo | 72991cca-745b-4886-8ac4-c92d730c134a | ZG7udwy8rzhE5xtUnOGl' ;\n"
     ]
    },
    {
     "name": "stderr",
     "output_type": "stream",
     "text": [
      "127.0.0.1 - - [15/Jun/2021 00:10:36] \"\u001b[37mPOST /insert/botones HTTP/1.1\u001b[0m\" 200 -\n",
      "127.0.0.1 - - [15/Jun/2021 00:10:36] \"\u001b[37mPOST /insert/botones HTTP/1.1\u001b[0m\" 200 -\n"
     ]
    },
    {
     "name": "stdout",
     "output_type": "stream",
     "text": [
      "Datos enviados INSERT:\n",
      "{'id_elemento': '986', 'titlebutton': 'Salida 1', 'typebutton': 'postback', 'contentbutton': 'Informativo | 72991cca-745b-4886-8ac4-c92d730c134a | ZG7udwy8rzhE5xtUnOGl', 'id_boton': 1776, 'opc_nextid': 'Informativo | 72991cca-745b-4886-8ac4-c92d730c134a | ZG7udwy8rzhE5xtUnOGl'}\n",
      "Datos recibidos INSERT:\n",
      "{'id_elemento': '986', 'titlebutton': 'Input', 'typebutton': 'postback', 'contentbutton': 'Input prueba carrusel 2 | 3e82e3b7-d8da-4955-aff4-9bcbee291db6 | 36067394-2558-1046-0765-010229045532 | ZG7udwy8rzhE5xtUnOGl', 'opc_nextid': 'Input prueba carrusel 2 | 3e82e3b7-d8da-4955-aff4-9bcbee291db6 | 36067394-2558-1046-0765-010229045532 | ZG7udwy8rzhE5xtUnOGl'}\n",
      "intenatando consulta...\n",
      "consulta: select * from botones where id_elemento= '986' and titlebutton= 'Input' and typebutton= 'postback' and contentbutton= 'Input prueba carrusel 2 | 3e82e3b7-d8da-4955-aff4-9bcbee291db6 | 36067394-2558-1046-0765-010229045532 | ZG7udwy8rzhE5xtUnOGl' and opc_nextid= 'Input prueba carrusel 2 | 3e82e3b7-d8da-4955-aff4-9bcbee291db6 | 36067394-2558-1046-0765-010229045532 | ZG7udwy8rzhE5xtUnOGl' ;\n",
      "Datos enviados INSERT:\n",
      "{'id_elemento': '986', 'titlebutton': 'Input', 'typebutton': 'postback', 'contentbutton': 'Input prueba carrusel 2 | 3e82e3b7-d8da-4955-aff4-9bcbee291db6 | 36067394-2558-1046-0765-010229045532 | ZG7udwy8rzhE5xtUnOGl', 'id_boton': 1777, 'opc_nextid': 'Input prueba carrusel 2 | 3e82e3b7-d8da-4955-aff4-9bcbee291db6 | 36067394-2558-1046-0765-010229045532 | ZG7udwy8rzhE5xtUnOGl'}\n",
      "Datos recibidos INSERT:\n",
      "{'next_id': 'Carrusel | cce128da-fc3c-4ab8-8733-0f93dff9b0ca | 36067394-2558-1046-0765-010229045532 | ZG7udwy8rzhE5xtUnOGl', 'namestate': 'Informativo | 34fa0024-002a-4673-8b70-6419afef7d4d | 36067394-2558-1046-0765-010229045532 | ZG7udwy8rzhE5xtUnOGl', 'contenido': 'Este es el carrusel prueba', 'contenttype': 'text', 'typingtime': '1', 'id_robot': 541, 'blocktype': 'informativo'}\n",
      "intenatando consulta...\n",
      "consulta: select * from bloqueinformativo where next_id= 'Carrusel | cce128da-fc3c-4ab8-8733-0f93dff9b0ca | 36067394-2558-1046-0765-010229045532 | ZG7udwy8rzhE5xtUnOGl' and namestate= 'Informativo | 34fa0024-002a-4673-8b70-6419afef7d4d | 36067394-2558-1046-0765-010229045532 | ZG7udwy8rzhE5xtUnOGl' and contenido= 'Este es el carrusel prueba' and contenttype= 'text' and typingtime= '1' and id_robot= '541' and blocktype= 'informativo' ;\n"
     ]
    },
    {
     "name": "stderr",
     "output_type": "stream",
     "text": [
      "127.0.0.1 - - [15/Jun/2021 00:10:36] \"\u001b[37mPOST /insert/bloqueinformativo HTTP/1.1\u001b[0m\" 200 -\n",
      "127.0.0.1 - - [15/Jun/2021 00:10:36] \"\u001b[37mPOST /insert/variables HTTP/1.1\u001b[0m\" 200 -\n",
      "127.0.0.1 - - [15/Jun/2021 00:10:36] \"\u001b[37mPOST /insert/bloqueinput HTTP/1.1\u001b[0m\" 200 -\n"
     ]
    },
    {
     "name": "stdout",
     "output_type": "stream",
     "text": [
      "Datos enviados INSERT:\n",
      "{'namestate': 'Informativo | 34fa0024-002a-4673-8b70-6419afef7d4d | 36067394-2558-1046-0765-010229045532 | ZG7udwy8rzhE5xtUnOGl', 'contenido': 'Este es el carrusel prueba', 'next_id': 'Carrusel | cce128da-fc3c-4ab8-8733-0f93dff9b0ca | 36067394-2558-1046-0765-010229045532 | ZG7udwy8rzhE5xtUnOGl', 'blocktype': 'informativo', 'contenttype': 'text', 'typingtime': '1', 'id_block': 2878, 'id_robot': 541, 'opc_nextid': None, 'pos_y': None, 'pos_x': None, 'tag_active': None}\n",
      "Datos recibidos INSERT:\n",
      "{'name_var': 'undefinedInput_prueba_carrusel_2_|_3e82e3b7-d8da-4955-aff4-9bcbee291db66097', 'opc_type': 'Variable', 'var': 0, 'opc_data': 'String', 'id_robot': 541}\n",
      "intenatando consulta...\n",
      "consulta: select * from variables where name_var= 'undefinedInput_prueba_carrusel_2_|_3e82e3b7-d8da-4955-aff4-9bcbee291db66097' and opc_type= 'Variable' and var= '0' and opc_data= 'String' and id_robot= '541' ;\n",
      "Datos enviados INSERT:\n",
      "{'id_var': 1909, 'opc_type': 'Variable', 'opc_data': 'String', 'var': '0', 'id_robot': 541, 'name_var': 'undefinedInput_prueba_carrusel_2_|_3e82e3b7-d8da-4955-aff4-9bcbee291db66097'}\n",
      "Datos recibidos INSERT:\n",
      "{'next_id': 'Informativo | 72991cca-745b-4886-8ac4-c92d730c134a | ZG7udwy8rzhE5xtUnOGl', 'default_id': 'Input prueba carrusel 2 | 3e82e3b7-d8da-4955-aff4-9bcbee291db6 | 36067394-2558-1046-0765-010229045532 | ZG7udwy8rzhE5xtUnOGl', 'namestate': 'Input prueba carrusel 2 | 3e82e3b7-d8da-4955-aff4-9bcbee291db6 | 36067394-2558-1046-0765-010229045532 | ZG7udwy8rzhE5xtUnOGl', 'contenido': 'Ingresa \"algo\"', 'typingtime': '1', 'validacion': 'algo', 'id_robot': 541, 'id_var': 1909, 'blocktype': 'input'}\n",
      "intenatando consulta...\n",
      "consulta: select * from bloqueinput where next_id= 'Informativo | 72991cca-745b-4886-8ac4-c92d730c134a | ZG7udwy8rzhE5xtUnOGl' and default_id= 'Input prueba carrusel 2 | 3e82e3b7-d8da-4955-aff4-9bcbee291db6 | 36067394-2558-1046-0765-010229045532 | ZG7udwy8rzhE5xtUnOGl' and namestate= 'Input prueba carrusel 2 | 3e82e3b7-d8da-4955-aff4-9bcbee291db6 | 36067394-2558-1046-0765-010229045532 | ZG7udwy8rzhE5xtUnOGl' and contenido= 'Ingresa \"algo\"' and typingtime= '1' and validacion= 'algo' and id_robot= '541' and id_var= '1909' and blocktype= 'input' ;\n",
      "Datos enviados INSERT:\n",
      "{'namestate': 'Input prueba carrusel 2 | 3e82e3b7-d8da-4955-aff4-9bcbee291db6 | 36067394-2558-1046-0765-010229045532 | ZG7udwy8rzhE5xtUnOGl', 'contenido': 'Ingresa \"algo\"', 'next_id': 'Informativo | 72991cca-745b-4886-8ac4-c92d730c134a | ZG7udwy8rzhE5xtUnOGl', 'blocktype': 'input', 'contenttype': None, 'typingtime': '1', 'validacion': 'algo', 'default_id': 'Input prueba carrusel 2 | 3e82e3b7-d8da-4955-aff4-9bcbee291db6 | 36067394-2558-1046-0765-010229045532 | ZG7udwy8rzhE5xtUnOGl', 'id_var': '1909', 'id_block': 411, 'id_robot': 541, 'opc_nextid': None, 'pos_y': None, 'pos_x': None, 'tag_active': None}\n",
      "Datos recibidos INSERT:\n",
      "{'next_id': 'Informativo | 98a8f39d-6761-48e7-aca7-66279cfabf40 | 96628859-0899-7537-4503-489244348545 | ZG7udwy8rzhE5xtUnOGl', 'namestate': 'Informativo | a0be25bb-4eb4-49c2-830f-6eb23d64966c | ZG7udwy8rzhE5xtUnOGl', 'contenido': 'Soy el bot 2021', 'contenttype': 'text', 'typingtime': '1', 'id_robot': 541, 'blocktype': 'informativo'}\n"
     ]
    },
    {
     "name": "stderr",
     "output_type": "stream",
     "text": [
      "127.0.0.1 - - [15/Jun/2021 00:10:36] \"\u001b[37mPOST /insert/bloqueinformativo HTTP/1.1\u001b[0m\" 200 -\n",
      "127.0.0.1 - - [15/Jun/2021 00:10:36] \"\u001b[37mPOST /insert/bloqueinformativo HTTP/1.1\u001b[0m\" 200 -\n",
      "127.0.0.1 - - [15/Jun/2021 00:10:37] \"\u001b[37mPOST /insert/bloqueinformativo HTTP/1.1\u001b[0m\" 200 -\n"
     ]
    },
    {
     "name": "stdout",
     "output_type": "stream",
     "text": [
      "intenatando consulta...\n",
      "consulta: select * from bloqueinformativo where next_id= 'Informativo | 98a8f39d-6761-48e7-aca7-66279cfabf40 | 96628859-0899-7537-4503-489244348545 | ZG7udwy8rzhE5xtUnOGl' and namestate= 'Informativo | a0be25bb-4eb4-49c2-830f-6eb23d64966c | ZG7udwy8rzhE5xtUnOGl' and contenido= 'Soy el bot 2021' and contenttype= 'text' and typingtime= '1' and id_robot= '541' and blocktype= 'informativo' ;\n",
      "Datos enviados INSERT:\n",
      "{'namestate': 'Informativo | a0be25bb-4eb4-49c2-830f-6eb23d64966c | ZG7udwy8rzhE5xtUnOGl', 'contenido': 'Soy el bot 2021', 'next_id': 'Informativo | 98a8f39d-6761-48e7-aca7-66279cfabf40 | 96628859-0899-7537-4503-489244348545 | ZG7udwy8rzhE5xtUnOGl', 'blocktype': 'informativo', 'contenttype': 'text', 'typingtime': '1', 'id_block': 2879, 'id_robot': 541, 'opc_nextid': None, 'pos_y': None, 'pos_x': None, 'tag_active': None}\n",
      "Datos recibidos INSERT:\n",
      "{'next_id': 'Salida', 'namestate': 'Informativo | 72991cca-745b-4886-8ac4-c92d730c134a | ZG7udwy8rzhE5xtUnOGl', 'contenido': 'Gracias por información... Adios!', 'contenttype': 'text', 'typingtime': '1', 'id_robot': 541, 'blocktype': 'informativo'}\n",
      "intenatando consulta...\n",
      "consulta: select * from bloqueinformativo where next_id= 'Salida' and namestate= 'Informativo | 72991cca-745b-4886-8ac4-c92d730c134a | ZG7udwy8rzhE5xtUnOGl' and contenido= 'Gracias por información... Adios!' and contenttype= 'text' and typingtime= '1' and id_robot= '541' and blocktype= 'informativo' ;\n",
      "Datos enviados INSERT:\n",
      "{'namestate': 'Informativo | 72991cca-745b-4886-8ac4-c92d730c134a | ZG7udwy8rzhE5xtUnOGl', 'contenido': 'Gracias por información... Adios!', 'next_id': 'Salida', 'blocktype': 'informativo', 'contenttype': 'text', 'typingtime': '1', 'id_block': 2880, 'id_robot': 541, 'opc_nextid': None, 'pos_y': None, 'pos_x': None, 'tag_active': None}\n",
      "Datos recibidos INSERT:\n",
      "{'next_id': '', 'namestate': 'Salida', 'contenido': '', 'contenttype': 'text', 'typingtime': 3, 'id_robot': 541, 'blocktype': 'informativo'}\n",
      "intenatando consulta...\n",
      "consulta: select * from bloqueinformativo where next_id= '' and namestate= 'Salida' and contenido= '' and contenttype= 'text' and typingtime= '3' and id_robot= '541' and blocktype= 'informativo' ;\n",
      "Datos enviados INSERT:\n",
      "{'namestate': 'Salida', 'contenido': '', 'next_id': '', 'blocktype': 'informativo', 'contenttype': 'text', 'typingtime': '3', 'id_block': 2881, 'id_robot': 541, 'opc_nextid': None, 'pos_y': None, 'pos_x': None, 'tag_active': None}\n"
     ]
    },
    {
     "name": "stderr",
     "output_type": "stream",
     "text": [
      "127.0.0.1 - - [15/Jun/2021 00:10:38] \"\u001b[37mGET /select/robots HTTP/1.1\u001b[0m\" 200 -\n",
      "127.0.0.1 - - [15/Jun/2021 00:10:38] \"\u001b[37mGET /select/bloqueslide HTTP/1.1\u001b[0m\" 200 -\n",
      "127.0.0.1 - - [15/Jun/2021 00:10:38] \"\u001b[37mGET /select/elementos HTTP/1.1\u001b[0m\" 200 -\n"
     ]
    },
    {
     "name": "stdout",
     "output_type": "stream",
     "text": [
      "Datos recibidos SELECT:\n",
      "{'name_robot': 'CHATBOT TT 2020 A056', 'id_face': '100750202253729', 'block_ini': 'Informativo | d9897d01-e0ce-44bd-ba3d-22973a7d74fd | bSkwpaFVCmMXS8G2PR6k', 'type_blocki': 'informativo', 'access_token': 'EAALZCCZBzPwfkBACf3gal1zeLIkZAxC8ecQ6qmRixvqGJJXtfQvE7S2zNpkdf0BpKR79BZAOawgUcm8IQN9NecBZB25Q8ZCWDFAH50ihRis7XfHm4UM3bYNqgmmKZCKkLnhGGxf2FO8eLr8CVkgp3PgJWiBQVKTO7DRtAZA1IjaLIk1xGTZBunRJ6', 'id_user': 'charlygoldcruz@gmail.com', 'api_nlp': 'http://localhost:8282/'}\n",
      "intenatando consulta...\n",
      "consulta: select * from robots where id_face = '100750202253729';\n",
      "Datos enviados SELECT:\n",
      "{'name_robot': 'CHATBOT TT 2020 A056', 'id_face': '100750202253729', 'block_ini': 'Informativo | d9897d01-e0ce-44bd-ba3d-22973a7d74fd | bSkwpaFVCmMXS8G2PR6k', 'type_blocki': 'informativo', 'access_token': 'EAALZCCZBzPwfkBACf3gal1zeLIkZAxC8ecQ6qmRixvqGJJXtfQvE7S2zNpkdf0BpKR79BZAOawgUcm8IQN9NecBZB25Q8ZCWDFAH50ihRis7XfHm4UM3bYNqgmmKZCKkLnhGGxf2FO8eLr8CVkgp3PgJWiBQVKTO7DRtAZA1IjaLIk1xGTZBunRJ6', 'api_nlp': 'http://localhost:8282/', 'id_robot': 540, 'id_user': 'charlygoldcruz@gmail.com'}\n",
      "Datos recibidos SELECT:\n",
      "{'id_robot': '540'}\n",
      "intenatando consulta...\n",
      "consulta: select * from bloqueslide where id_robot= '540' ;\n",
      "Datos enviados SELECT:\n",
      "[{'namestate': 'Carrusel | fdd978d8-d9e9-4f74-8d01-07d1a43ecba8 | 98525253-9080-3718-4541-185145979160 | bSkwpaFVCmMXS8G2PR6k', 'next_id': 'Informativo | eb6262bf-2b65-4dc7-9d6a-9a8544083dde | bSkwpaFVCmMXS8G2PR6k,Informativo | eb6262bf-2b65-4dc7-9d6a-9a8544083dde | bSkwpaFVCmMXS8G2PR6k,www.facebook.com,www.ABC.com,Informativo | eb6262bf-2b65-4dc7-9d6a-9a8544083dde | bSkwpaFVCmMXS8G2PR6k,Informativo | eb6262bf-2b65-4dc7-9d6a-9a8544083dde | bSkwpaFVCmMXS8G2PR6k', 'blocktype': 'slide', 'typingtime': '1', 'default_id': 'Carrusel | fdd978d8-d9e9-4f74-8d01-07d1a43ecba8 | 98525253-9080-3718-4541-185145979160 | bSkwpaFVCmMXS8G2PR6k', 'id_var': '1896', 'id_block': 574, 'id_robot': 540, 'opc_nextid': None, 'pos_y': None, 'pos_x': None, 'opc_elm': None, 'tag_active': None}, {'namestate': 'Carrusel | cce128da-fc3c-4ab8-8733-0f93dff9b0ca | 19627070-4044-4254-7133-869533412022 | bSkwpaFVCmMXS8G2PR6k', 'next_id': 'Informativo | 7e74c6f6-46db-4b00-b8b3-07aac064e1de | 98525253-9080-3718-4541-185145979160 | bSkwpaFVCmMXS8G2PR6k,Input prueba carrusel 2 | 3e82e3b7-d8da-4955-aff4-9bcbee291db6 | 19627070-4044-4254-7133-869533412022 | bSkwpaFVCmMXS8G2PR6k', 'blocktype': 'slide', 'typingtime': '1', 'default_id': 'Carrusel | cce128da-fc3c-4ab8-8733-0f93dff9b0ca | 19627070-4044-4254-7133-869533412022 | bSkwpaFVCmMXS8G2PR6k', 'id_var': '1897', 'id_block': 575, 'id_robot': 540, 'opc_nextid': None, 'pos_y': None, 'pos_x': None, 'opc_elm': None, 'tag_active': None}, {'namestate': 'Carrusel | 5aaf3158-308e-4b01-9283-f01f32d587c9 | 07418629-1549-9289-4157-116148457825 | bSkwpaFVCmMXS8G2PR6k', 'next_id': 'QuickReply | 9cd75eb1-5f87-4a23-84aa-d6de05ed56b8 | 07418629-1549-9289-4157-116148457825 | bSkwpaFVCmMXS8G2PR6k,QuickReply | f962f2fb-1047-4062-bac8-798fddc79ff2 | 07418629-1549-9289-4157-116148457825 | bSkwpaFVCmMXS8G2PR6k', 'blocktype': 'slide', 'typingtime': '1', 'default_id': 'Carrusel | 5aaf3158-308e-4b01-9283-f01f32d587c9 | 07418629-1549-9289-4157-116148457825 | bSkwpaFVCmMXS8G2PR6k', 'id_var': '1899', 'id_block': 576, 'id_robot': 540, 'opc_nextid': None, 'pos_y': None, 'pos_x': None, 'opc_elm': None, 'tag_active': None}]\n",
      "Datos recibidos SELECT:\n",
      "{'id_block': 574}\n",
      "intenatando consulta...\n",
      "consulta: select * from elementos where id_block= '574' ;\n",
      "Datos enviados SELECT:\n",
      "[{'blocktype': 'slide', 'title': 'Titulo 1 Plantilla 1', 'image_url': 'https://image.freepik.com/vector-gratis/caracter-banda-musica-ilustracion-dibujos-animados-plana_338371-15.jpg', 'subtitle': 'S1', 'id_block': 574, 'id_elements': 979}, {'blocktype': 'slide', 'title': 'P2', 'image_url': 'https://www.muycomputer.com/wp-content/uploads/2020/04/Logitech-G203-rat%C3%B3n-gaming-barato-e1587628136683.jpg', 'subtitle': 'S2', 'id_block': 574, 'id_elements': 980}, {'blocktype': 'slide', 'title': 'Plantilla 3', 'image_url': 'https://mmo.aiircdn.com/297/5f6a04de8d671.jpg', 'subtitle': 'Subtitulo 3', 'id_block': 574, 'id_elements': 981}]\n"
     ]
    },
    {
     "name": "stderr",
     "output_type": "stream",
     "text": [
      "127.0.0.1 - - [15/Jun/2021 00:10:38] \"\u001b[37mGET /select/elementos HTTP/1.1\u001b[0m\" 200 -\n",
      "127.0.0.1 - - [15/Jun/2021 00:10:38] \"\u001b[37mGET /select/elementos HTTP/1.1\u001b[0m\" 200 -\n"
     ]
    },
    {
     "name": "stdout",
     "output_type": "stream",
     "text": [
      "Datos recibidos SELECT:\n",
      "{'id_block': 575}\n",
      "intenatando consulta...\n",
      "consulta: select * from elementos where id_block= '575' ;\n",
      "Datos enviados SELECT:\n",
      "{'blocktype': 'slide', 'title': 'Titulo 1', 'image_url': 'https://jalisco.quadratin.com.mx/www/wp-content/uploads/2020/11/grupo-firme-1-1160x700.jpg', 'subtitle': 'Subtitulo 1', 'id_block': 575, 'id_elements': 982}\n",
      "Datos recibidos SELECT:\n",
      "{'id_block': 576}\n",
      "intenatando consulta...\n",
      "consulta: select * from elementos where id_block= '576' ;\n",
      "Datos enviados SELECT:\n",
      "{'blocktype': 'slide', 'title': 'Titulo 1', 'image_url': 'https://sitechecker.pro/wp-content/uploads/2017/12/URL-meaning.png', 'subtitle': 'Subtitulo 1', 'id_block': 576, 'id_elements': 983}\n"
     ]
    },
    {
     "name": "stderr",
     "output_type": "stream",
     "text": [
      "127.0.0.1 - - [15/Jun/2021 00:10:38] \"\u001b[37mPOST /insert/variables HTTP/1.1\u001b[0m\" 200 -\n",
      "127.0.0.1 - - [15/Jun/2021 00:10:39] \"\u001b[37mPOST /insert/bloqueslide HTTP/1.1\u001b[0m\" 200 -\n"
     ]
    },
    {
     "name": "stdout",
     "output_type": "stream",
     "text": [
      "Datos recibidos INSERT:\n",
      "{'name_var': 'varCarrusel_|_fdd978d8-d9e9-4f74-8d01-07d1a43ecba89602', 'opc_type': 'Variable', 'var': 0, 'opc_data': 'String', 'id_robot': 540}\n",
      "intenatando consulta...\n",
      "consulta: select * from variables where name_var= 'varCarrusel_|_fdd978d8-d9e9-4f74-8d01-07d1a43ecba89602' and opc_type= 'Variable' and var= '0' and opc_data= 'String' and id_robot= '540' ;\n",
      "Datos enviados INSERT:\n",
      "{'id_var': 1910, 'opc_type': 'Variable', 'opc_data': 'String', 'var': '0', 'id_robot': 540, 'name_var': 'varCarrusel_|_fdd978d8-d9e9-4f74-8d01-07d1a43ecba89602'}\n",
      "Datos recibidos INSERT:\n",
      "{'namestate': 'Carrusel | fdd978d8-d9e9-4f74-8d01-07d1a43ecba8 | 98525253-9080-3718-4541-185145979160 | bSkwpaFVCmMXS8G2PR6k', 'blocktype': 'slide', 'typingtime': '1', 'default_id': 'Carrusel | fdd978d8-d9e9-4f74-8d01-07d1a43ecba8 | 98525253-9080-3718-4541-185145979160 | bSkwpaFVCmMXS8G2PR6k', 'id_var': 1910, 'id_robot': 540}\n",
      "intenatando consulta...\n",
      "consulta: select * from bloqueslide where namestate= 'Carrusel | fdd978d8-d9e9-4f74-8d01-07d1a43ecba8 | 98525253-9080-3718-4541-185145979160 | bSkwpaFVCmMXS8G2PR6k' and blocktype= 'slide' and typingtime= '1' and default_id= 'Carrusel | fdd978d8-d9e9-4f74-8d01-07d1a43ecba8 | 98525253-9080-3718-4541-185145979160 | bSkwpaFVCmMXS8G2PR6k' and id_var= '1910' and id_robot= '540' ;\n",
      "Datos enviados INSERT:\n",
      "{'namestate': 'Carrusel | fdd978d8-d9e9-4f74-8d01-07d1a43ecba8 | 98525253-9080-3718-4541-185145979160 | bSkwpaFVCmMXS8G2PR6k', 'next_id': None, 'blocktype': 'slide', 'typingtime': '1', 'default_id': 'Carrusel | fdd978d8-d9e9-4f74-8d01-07d1a43ecba8 | 98525253-9080-3718-4541-185145979160 | bSkwpaFVCmMXS8G2PR6k', 'id_var': '1910', 'id_block': 580, 'id_robot': 540, 'opc_nextid': None, 'pos_y': None, 'pos_x': None, 'opc_elm': None, 'tag_active': None}\n",
      "Datos recibidos INSERT:\n",
      "{'title': 'Titulo 1 Plantilla 1', 'image_url': 'https://image.freepik.com/vector-gratis/caracter-banda-musica-ilustracion-dibujos-animados-plana_338371-15.jpg', 'subtitle': 'S1', 'blocktype': 'slide', 'id_block': 580}\n",
      "intenatando consulta...\n",
      "consulta: select * from elementos where title= 'Titulo 1 Plantilla 1' and image_url= 'https://image.freepik.com/vector-gratis/caracter-banda-musica-ilustracion-dibujos-animados-plana_338371-15.jpg' and subtitle= 'S1' and blocktype= 'slide' and id_block= '580' ;\n"
     ]
    },
    {
     "name": "stderr",
     "output_type": "stream",
     "text": [
      "127.0.0.1 - - [15/Jun/2021 00:10:39] \"\u001b[37mPOST /insert/elementos HTTP/1.1\u001b[0m\" 200 -\n",
      "127.0.0.1 - - [15/Jun/2021 00:10:39] \"\u001b[37mPOST /insert/botones HTTP/1.1\u001b[0m\" 200 -\n",
      "127.0.0.1 - - [15/Jun/2021 00:10:39] \"\u001b[37mPOST /insert/botones HTTP/1.1\u001b[0m\" 200 -\n"
     ]
    },
    {
     "name": "stdout",
     "output_type": "stream",
     "text": [
      "Datos enviados INSERT:\n",
      "{'blocktype': 'slide', 'title': 'Titulo 1 Plantilla 1', 'image_url': 'https://image.freepik.com/vector-gratis/caracter-banda-musica-ilustracion-dibujos-animados-plana_338371-15.jpg', 'subtitle': 'S1', 'id_block': 580, 'id_elements': 987}\n",
      "Datos recibidos INSERT:\n",
      "{'id_elemento': '987', 'titlebutton': 'Salida 1', 'typebutton': 'postback', 'contentbutton': 'Informativo | eb6262bf-2b65-4dc7-9d6a-9a8544083dde | bSkwpaFVCmMXS8G2PR6k', 'opc_nextid': 'Informativo | eb6262bf-2b65-4dc7-9d6a-9a8544083dde | bSkwpaFVCmMXS8G2PR6k'}\n",
      "intenatando consulta...\n",
      "consulta: select * from botones where id_elemento= '987' and titlebutton= 'Salida 1' and typebutton= 'postback' and contentbutton= 'Informativo | eb6262bf-2b65-4dc7-9d6a-9a8544083dde | bSkwpaFVCmMXS8G2PR6k' and opc_nextid= 'Informativo | eb6262bf-2b65-4dc7-9d6a-9a8544083dde | bSkwpaFVCmMXS8G2PR6k' ;\n",
      "Datos enviados INSERT:\n",
      "{'id_elemento': '987', 'titlebutton': 'Salida 1', 'typebutton': 'postback', 'contentbutton': 'Informativo | eb6262bf-2b65-4dc7-9d6a-9a8544083dde | bSkwpaFVCmMXS8G2PR6k', 'id_boton': 1778, 'opc_nextid': 'Informativo | eb6262bf-2b65-4dc7-9d6a-9a8544083dde | bSkwpaFVCmMXS8G2PR6k'}\n",
      "Datos recibidos INSERT:\n",
      "{'id_elemento': '987', 'titlebutton': 'Salida 2', 'typebutton': 'postback', 'contentbutton': 'Informativo | eb6262bf-2b65-4dc7-9d6a-9a8544083dde | bSkwpaFVCmMXS8G2PR6k', 'opc_nextid': 'Informativo | eb6262bf-2b65-4dc7-9d6a-9a8544083dde | bSkwpaFVCmMXS8G2PR6k'}\n",
      "intenatando consulta...\n",
      "consulta: select * from botones where id_elemento= '987' and titlebutton= 'Salida 2' and typebutton= 'postback' and contentbutton= 'Informativo | eb6262bf-2b65-4dc7-9d6a-9a8544083dde | bSkwpaFVCmMXS8G2PR6k' and opc_nextid= 'Informativo | eb6262bf-2b65-4dc7-9d6a-9a8544083dde | bSkwpaFVCmMXS8G2PR6k' ;\n",
      "Datos enviados INSERT:\n",
      "{'id_elemento': '987', 'titlebutton': 'Salida 2', 'typebutton': 'postback', 'contentbutton': 'Informativo | eb6262bf-2b65-4dc7-9d6a-9a8544083dde | bSkwpaFVCmMXS8G2PR6k', 'id_boton': 1779, 'opc_nextid': 'Informativo | eb6262bf-2b65-4dc7-9d6a-9a8544083dde | bSkwpaFVCmMXS8G2PR6k'}\n",
      "Datos recibidos INSERT:\n",
      "{'subtitle': 'S2', 'image_url': 'https://www.muycomputer.com/wp-content/uploads/2020/04/Logitech-G203-rat%C3%B3n-gaming-barato-e1587628136683.jpg', 'title': 'P2', 'blocktype': 'slide', 'id_block': 580}\n"
     ]
    },
    {
     "name": "stderr",
     "output_type": "stream",
     "text": [
      "127.0.0.1 - - [15/Jun/2021 00:10:39] \"\u001b[37mPOST /insert/elementos HTTP/1.1\u001b[0m\" 200 -\n",
      "127.0.0.1 - - [15/Jun/2021 00:10:39] \"\u001b[37mPOST /insert/botones HTTP/1.1\u001b[0m\" 200 -\n",
      "127.0.0.1 - - [15/Jun/2021 00:10:39] \"\u001b[37mPOST /insert/botones HTTP/1.1\u001b[0m\" 200 -\n"
     ]
    },
    {
     "name": "stdout",
     "output_type": "stream",
     "text": [
      "intenatando consulta...\n",
      "consulta: select * from elementos where subtitle= 'S2' and image_url= 'https://www.muycomputer.com/wp-content/uploads/2020/04/Logitech-G203-rat%C3%B3n-gaming-barato-e1587628136683.jpg' and title= 'P2' and blocktype= 'slide' and id_block= '580' ;\n",
      "Datos enviados INSERT:\n",
      "{'blocktype': 'slide', 'title': 'P2', 'image_url': 'https://www.muycomputer.com/wp-content/uploads/2020/04/Logitech-G203-rat%C3%B3n-gaming-barato-e1587628136683.jpg', 'subtitle': 'S2', 'id_block': 580, 'id_elements': 988}\n",
      "Datos recibidos INSERT:\n",
      "{'id_elemento': '988', 'titlebutton': 'Google', 'typebutton': 'web_url', 'contentbutton': 'www.facebook.com', 'opc_nextid': 'www.facebook.com'}\n",
      "intenatando consulta...\n",
      "consulta: select * from botones where id_elemento= '988' and titlebutton= 'Google' and typebutton= 'web_url' and contentbutton= 'www.facebook.com' and opc_nextid= 'www.facebook.com' ;\n",
      "Datos enviados INSERT:\n",
      "{'id_elemento': '988', 'titlebutton': 'Google', 'typebutton': 'web_url', 'contentbutton': 'www.facebook.com', 'id_boton': 1780, 'opc_nextid': 'www.facebook.com'}\n",
      "Datos recibidos INSERT:\n",
      "{'id_elemento': '988', 'titlebutton': 'ABC', 'typebutton': 'web_url', 'contentbutton': 'www.ABC.com', 'opc_nextid': 'www.ABC.com'}\n",
      "intenatando consulta...\n",
      "consulta: select * from botones where id_elemento= '988' and titlebutton= 'ABC' and typebutton= 'web_url' and contentbutton= 'www.ABC.com' and opc_nextid= 'www.ABC.com' ;\n",
      "Datos enviados INSERT:\n",
      "{'id_elemento': '988', 'titlebutton': 'ABC', 'typebutton': 'web_url', 'contentbutton': 'www.ABC.com', 'id_boton': 1781, 'opc_nextid': 'www.ABC.com'}\n"
     ]
    },
    {
     "name": "stderr",
     "output_type": "stream",
     "text": [
      "127.0.0.1 - - [15/Jun/2021 00:10:39] \"\u001b[37mPOST /insert/elementos HTTP/1.1\u001b[0m\" 200 -\n",
      "127.0.0.1 - - [15/Jun/2021 00:10:39] \"\u001b[37mPOST /insert/botones HTTP/1.1\u001b[0m\" 200 -\n"
     ]
    },
    {
     "name": "stdout",
     "output_type": "stream",
     "text": [
      "Datos recibidos INSERT:\n",
      "{'title': 'Plantilla 3', 'image_url': 'https://mmo.aiircdn.com/297/5f6a04de8d671.jpg', 'subtitle': 'Subtitulo 3', 'blocktype': 'slide', 'id_block': 580}\n",
      "intenatando consulta...\n",
      "consulta: select * from elementos where title= 'Plantilla 3' and image_url= 'https://mmo.aiircdn.com/297/5f6a04de8d671.jpg' and subtitle= 'Subtitulo 3' and blocktype= 'slide' and id_block= '580' ;\n",
      "Datos enviados INSERT:\n",
      "{'blocktype': 'slide', 'title': 'Plantilla 3', 'image_url': 'https://mmo.aiircdn.com/297/5f6a04de8d671.jpg', 'subtitle': 'Subtitulo 3', 'id_block': 580, 'id_elements': 989}\n",
      "Datos recibidos INSERT:\n",
      "{'id_elemento': '989', 'titlebutton': 'Input', 'typebutton': 'postback', 'contentbutton': 'Informativo | eb6262bf-2b65-4dc7-9d6a-9a8544083dde | bSkwpaFVCmMXS8G2PR6k', 'opc_nextid': 'Informativo | eb6262bf-2b65-4dc7-9d6a-9a8544083dde | bSkwpaFVCmMXS8G2PR6k'}\n",
      "intenatando consulta...\n",
      "consulta: select * from botones where id_elemento= '989' and titlebutton= 'Input' and typebutton= 'postback' and contentbutton= 'Informativo | eb6262bf-2b65-4dc7-9d6a-9a8544083dde | bSkwpaFVCmMXS8G2PR6k' and opc_nextid= 'Informativo | eb6262bf-2b65-4dc7-9d6a-9a8544083dde | bSkwpaFVCmMXS8G2PR6k' ;\n",
      "Datos enviados INSERT:\n",
      "{'id_elemento': '989', 'titlebutton': 'Input', 'typebutton': 'postback', 'contentbutton': 'Informativo | eb6262bf-2b65-4dc7-9d6a-9a8544083dde | bSkwpaFVCmMXS8G2PR6k', 'id_boton': 1782, 'opc_nextid': 'Informativo | eb6262bf-2b65-4dc7-9d6a-9a8544083dde | bSkwpaFVCmMXS8G2PR6k'}\n",
      "Datos recibidos INSERT:\n",
      "{'id_elemento': '989', 'titlebutton': 'Opcion 6', 'typebutton': 'postback', 'contentbutton': 'Informativo | eb6262bf-2b65-4dc7-9d6a-9a8544083dde | bSkwpaFVCmMXS8G2PR6k', 'opc_nextid': 'Informativo | eb6262bf-2b65-4dc7-9d6a-9a8544083dde | bSkwpaFVCmMXS8G2PR6k'}\n",
      "intenatando consulta...\n",
      "consulta: select * from botones where id_elemento= '989' and titlebutton= 'Opcion 6' and typebutton= 'postback' and contentbutton= 'Informativo | eb6262bf-2b65-4dc7-9d6a-9a8544083dde | bSkwpaFVCmMXS8G2PR6k' and opc_nextid= 'Informativo | eb6262bf-2b65-4dc7-9d6a-9a8544083dde | bSkwpaFVCmMXS8G2PR6k' ;\n"
     ]
    },
    {
     "name": "stderr",
     "output_type": "stream",
     "text": [
      "127.0.0.1 - - [15/Jun/2021 00:10:39] \"\u001b[37mPOST /insert/botones HTTP/1.1\u001b[0m\" 200 -\n",
      "127.0.0.1 - - [15/Jun/2021 00:10:39] \"\u001b[37mPOST /insert/bloqueinformativo HTTP/1.1\u001b[0m\" 200 -\n"
     ]
    },
    {
     "name": "stdout",
     "output_type": "stream",
     "text": [
      "Datos enviados INSERT:\n",
      "{'id_elemento': '989', 'titlebutton': 'Opcion 6', 'typebutton': 'postback', 'contentbutton': 'Informativo | eb6262bf-2b65-4dc7-9d6a-9a8544083dde | bSkwpaFVCmMXS8G2PR6k', 'id_boton': 1783, 'opc_nextid': 'Informativo | eb6262bf-2b65-4dc7-9d6a-9a8544083dde | bSkwpaFVCmMXS8G2PR6k'}\n",
      "Datos recibidos INSERT:\n",
      "{'next_id': 'Intermedio | 39a8d681-4868-4b9c-98e4-9a8db0681865 | 98525253-9080-3718-4541-185145979160 | bSkwpaFVCmMXS8G2PR6k', 'namestate': 'Informativo | 7e74c6f6-46db-4b00-b8b3-07aac064e1de | 98525253-9080-3718-4541-185145979160 | bSkwpaFVCmMXS8G2PR6k', 'contenido': 'Hola, me he editado soy un bloque informativo', 'contenttype': 'text', 'typingtime': '2', 'id_robot': 540, 'blocktype': 'informativo'}\n",
      "intenatando consulta...\n",
      "consulta: select * from bloqueinformativo where next_id= 'Intermedio | 39a8d681-4868-4b9c-98e4-9a8db0681865 | 98525253-9080-3718-4541-185145979160 | bSkwpaFVCmMXS8G2PR6k' and namestate= 'Informativo | 7e74c6f6-46db-4b00-b8b3-07aac064e1de | 98525253-9080-3718-4541-185145979160 | bSkwpaFVCmMXS8G2PR6k' and contenido= 'Hola, me he editado soy un bloque informativo' and contenttype= 'text' and typingtime= '2' and id_robot= '540' and blocktype= 'informativo' ;\n",
      "Datos enviados INSERT:\n",
      "{'namestate': 'Informativo | 7e74c6f6-46db-4b00-b8b3-07aac064e1de | 98525253-9080-3718-4541-185145979160 | bSkwpaFVCmMXS8G2PR6k', 'contenido': 'Hola, me he editado soy un bloque informativo', 'next_id': 'Intermedio | 39a8d681-4868-4b9c-98e4-9a8db0681865 | 98525253-9080-3718-4541-185145979160 | bSkwpaFVCmMXS8G2PR6k', 'blocktype': 'informativo', 'contenttype': 'text', 'typingtime': '2', 'id_block': 2882, 'id_robot': 540, 'opc_nextid': None, 'pos_y': None, 'pos_x': None, 'tag_active': None}\n",
      "Datos recibidos INSERT:\n",
      "{'next_id': 'Carrusel | fdd978d8-d9e9-4f74-8d01-07d1a43ecba8 | 98525253-9080-3718-4541-185145979160 | bSkwpaFVCmMXS8G2PR6k', 'namestate': 'Intermedio | 39a8d681-4868-4b9c-98e4-9a8db0681865 | 98525253-9080-3718-4541-185145979160 | bSkwpaFVCmMXS8G2PR6k', 'contenido': 'Este es un bloque intermedio', 'contenttype': 'text', 'typingtime': '1', 'id_robot': 540, 'blocktype': 'informativo'}\n",
      "intenatando consulta...\n",
      "consulta: select * from bloqueinformativo where next_id= 'Carrusel | fdd978d8-d9e9-4f74-8d01-07d1a43ecba8 | 98525253-9080-3718-4541-185145979160 | bSkwpaFVCmMXS8G2PR6k' and namestate= 'Intermedio | 39a8d681-4868-4b9c-98e4-9a8db0681865 | 98525253-9080-3718-4541-185145979160 | bSkwpaFVCmMXS8G2PR6k' and contenido= 'Este es un bloque intermedio' and contenttype= 'text' and typingtime= '1' and id_robot= '540' and blocktype= 'informativo' ;\n"
     ]
    },
    {
     "name": "stderr",
     "output_type": "stream",
     "text": [
      "127.0.0.1 - - [15/Jun/2021 00:10:40] \"\u001b[37mPOST /insert/bloqueinformativo HTTP/1.1\u001b[0m\" 200 -\n",
      "127.0.0.1 - - [15/Jun/2021 00:10:40] \"\u001b[37mPOST /insert/variables HTTP/1.1\u001b[0m\" 200 -\n",
      "127.0.0.1 - - [15/Jun/2021 00:10:40] \"\u001b[37mPOST /insert/bloqueslide HTTP/1.1\u001b[0m\" 200 -\n"
     ]
    },
    {
     "name": "stdout",
     "output_type": "stream",
     "text": [
      "Datos enviados INSERT:\n",
      "{'namestate': 'Intermedio | 39a8d681-4868-4b9c-98e4-9a8db0681865 | 98525253-9080-3718-4541-185145979160 | bSkwpaFVCmMXS8G2PR6k', 'contenido': 'Este es un bloque intermedio', 'next_id': 'Carrusel | fdd978d8-d9e9-4f74-8d01-07d1a43ecba8 | 98525253-9080-3718-4541-185145979160 | bSkwpaFVCmMXS8G2PR6k', 'blocktype': 'informativo', 'contenttype': 'text', 'typingtime': '1', 'id_block': 2883, 'id_robot': 540, 'opc_nextid': None, 'pos_y': None, 'pos_x': None, 'tag_active': None}\n",
      "Datos recibidos INSERT:\n",
      "{'name_var': 'undefinedCarrusel_|_cce128da-fc3c-4ab8-8733-0f93dff9b0ca3420', 'opc_type': 'Variable', 'var': 0, 'opc_data': 'String', 'id_robot': 540}\n",
      "intenatando consulta...\n",
      "consulta: select * from variables where name_var= 'undefinedCarrusel_|_cce128da-fc3c-4ab8-8733-0f93dff9b0ca3420' and opc_type= 'Variable' and var= '0' and opc_data= 'String' and id_robot= '540' ;\n",
      "Datos enviados INSERT:\n",
      "{'id_var': 1911, 'opc_type': 'Variable', 'opc_data': 'String', 'var': '0', 'id_robot': 540, 'name_var': 'undefinedCarrusel_|_cce128da-fc3c-4ab8-8733-0f93dff9b0ca3420'}\n",
      "Datos recibidos INSERT:\n",
      "{'namestate': 'Carrusel | cce128da-fc3c-4ab8-8733-0f93dff9b0ca | 19627070-4044-4254-7133-869533412022 | bSkwpaFVCmMXS8G2PR6k', 'blocktype': 'slide', 'typingtime': '1', 'default_id': 'Carrusel | cce128da-fc3c-4ab8-8733-0f93dff9b0ca | 19627070-4044-4254-7133-869533412022 | bSkwpaFVCmMXS8G2PR6k', 'id_var': 1911, 'id_robot': 540}\n",
      "intenatando consulta...\n",
      "consulta: select * from bloqueslide where namestate= 'Carrusel | cce128da-fc3c-4ab8-8733-0f93dff9b0ca | 19627070-4044-4254-7133-869533412022 | bSkwpaFVCmMXS8G2PR6k' and blocktype= 'slide' and typingtime= '1' and default_id= 'Carrusel | cce128da-fc3c-4ab8-8733-0f93dff9b0ca | 19627070-4044-4254-7133-869533412022 | bSkwpaFVCmMXS8G2PR6k' and id_var= '1911' and id_robot= '540' ;\n",
      "Datos enviados INSERT:\n",
      "{'namestate': 'Carrusel | cce128da-fc3c-4ab8-8733-0f93dff9b0ca | 19627070-4044-4254-7133-869533412022 | bSkwpaFVCmMXS8G2PR6k', 'next_id': None, 'blocktype': 'slide', 'typingtime': '1', 'default_id': 'Carrusel | cce128da-fc3c-4ab8-8733-0f93dff9b0ca | 19627070-4044-4254-7133-869533412022 | bSkwpaFVCmMXS8G2PR6k', 'id_var': '1911', 'id_block': 581, 'id_robot': 540, 'opc_nextid': None, 'pos_y': None, 'pos_x': None, 'opc_elm': None, 'tag_active': None}\n",
      "Datos recibidos INSERT:\n",
      "{'image_url': 'https://jalisco.quadratin.com.mx/www/wp-content/uploads/2020/11/grupo-firme-1-1160x700.jpg', 'subtitle': 'Subtitulo 1', 'title': 'Titulo 1', 'blocktype': 'slide', 'id_block': 581}\n"
     ]
    },
    {
     "name": "stderr",
     "output_type": "stream",
     "text": [
      "127.0.0.1 - - [15/Jun/2021 00:10:40] \"\u001b[37mPOST /insert/elementos HTTP/1.1\u001b[0m\" 200 -\n",
      "127.0.0.1 - - [15/Jun/2021 00:10:40] \"\u001b[37mPOST /insert/botones HTTP/1.1\u001b[0m\" 200 -\n",
      "127.0.0.1 - - [15/Jun/2021 00:10:40] \"\u001b[37mPOST /insert/botones HTTP/1.1\u001b[0m\" 200 -\n"
     ]
    },
    {
     "name": "stdout",
     "output_type": "stream",
     "text": [
      "intenatando consulta...\n",
      "consulta: select * from elementos where image_url= 'https://jalisco.quadratin.com.mx/www/wp-content/uploads/2020/11/grupo-firme-1-1160x700.jpg' and subtitle= 'Subtitulo 1' and title= 'Titulo 1' and blocktype= 'slide' and id_block= '581' ;\n",
      "Datos enviados INSERT:\n",
      "{'blocktype': 'slide', 'title': 'Titulo 1', 'image_url': 'https://jalisco.quadratin.com.mx/www/wp-content/uploads/2020/11/grupo-firme-1-1160x700.jpg', 'subtitle': 'Subtitulo 1', 'id_block': 581, 'id_elements': 990}\n",
      "Datos recibidos INSERT:\n",
      "{'id_elemento': '990', 'titlebutton': 'Salida 1', 'typebutton': 'postback', 'contentbutton': 'Informativo | 7e74c6f6-46db-4b00-b8b3-07aac064e1de | 98525253-9080-3718-4541-185145979160 | bSkwpaFVCmMXS8G2PR6k', 'opc_nextid': 'Informativo | 7e74c6f6-46db-4b00-b8b3-07aac064e1de | 98525253-9080-3718-4541-185145979160 | bSkwpaFVCmMXS8G2PR6k'}\n",
      "intenatando consulta...\n",
      "consulta: select * from botones where id_elemento= '990' and titlebutton= 'Salida 1' and typebutton= 'postback' and contentbutton= 'Informativo | 7e74c6f6-46db-4b00-b8b3-07aac064e1de | 98525253-9080-3718-4541-185145979160 | bSkwpaFVCmMXS8G2PR6k' and opc_nextid= 'Informativo | 7e74c6f6-46db-4b00-b8b3-07aac064e1de | 98525253-9080-3718-4541-185145979160 | bSkwpaFVCmMXS8G2PR6k' ;\n",
      "Datos enviados INSERT:\n",
      "{'id_elemento': '990', 'titlebutton': 'Salida 1', 'typebutton': 'postback', 'contentbutton': 'Informativo | 7e74c6f6-46db-4b00-b8b3-07aac064e1de | 98525253-9080-3718-4541-185145979160 | bSkwpaFVCmMXS8G2PR6k', 'id_boton': 1784, 'opc_nextid': 'Informativo | 7e74c6f6-46db-4b00-b8b3-07aac064e1de | 98525253-9080-3718-4541-185145979160 | bSkwpaFVCmMXS8G2PR6k'}\n",
      "Datos recibidos INSERT:\n",
      "{'id_elemento': '990', 'titlebutton': 'Input', 'typebutton': 'postback', 'contentbutton': 'Input prueba carrusel 2 | 3e82e3b7-d8da-4955-aff4-9bcbee291db6 | 19627070-4044-4254-7133-869533412022 | bSkwpaFVCmMXS8G2PR6k', 'opc_nextid': 'Input prueba carrusel 2 | 3e82e3b7-d8da-4955-aff4-9bcbee291db6 | 19627070-4044-4254-7133-869533412022 | bSkwpaFVCmMXS8G2PR6k'}\n",
      "intenatando consulta...\n",
      "consulta: select * from botones where id_elemento= '990' and titlebutton= 'Input' and typebutton= 'postback' and contentbutton= 'Input prueba carrusel 2 | 3e82e3b7-d8da-4955-aff4-9bcbee291db6 | 19627070-4044-4254-7133-869533412022 | bSkwpaFVCmMXS8G2PR6k' and opc_nextid= 'Input prueba carrusel 2 | 3e82e3b7-d8da-4955-aff4-9bcbee291db6 | 19627070-4044-4254-7133-869533412022 | bSkwpaFVCmMXS8G2PR6k' ;\n",
      "Datos enviados INSERT:\n",
      "{'id_elemento': '990', 'titlebutton': 'Input', 'typebutton': 'postback', 'contentbutton': 'Input prueba carrusel 2 | 3e82e3b7-d8da-4955-aff4-9bcbee291db6 | 19627070-4044-4254-7133-869533412022 | bSkwpaFVCmMXS8G2PR6k', 'id_boton': 1785, 'opc_nextid': 'Input prueba carrusel 2 | 3e82e3b7-d8da-4955-aff4-9bcbee291db6 | 19627070-4044-4254-7133-869533412022 | bSkwpaFVCmMXS8G2PR6k'}\n"
     ]
    },
    {
     "name": "stderr",
     "output_type": "stream",
     "text": [
      "127.0.0.1 - - [15/Jun/2021 00:10:40] \"\u001b[37mPOST /insert/bloqueinformativo HTTP/1.1\u001b[0m\" 200 -\n",
      "127.0.0.1 - - [15/Jun/2021 00:10:40] \"\u001b[37mPOST /insert/variables HTTP/1.1\u001b[0m\" 200 -\n"
     ]
    },
    {
     "name": "stdout",
     "output_type": "stream",
     "text": [
      "Datos recibidos INSERT:\n",
      "{'next_id': 'Carrusel | cce128da-fc3c-4ab8-8733-0f93dff9b0ca | 19627070-4044-4254-7133-869533412022 | bSkwpaFVCmMXS8G2PR6k', 'namestate': 'Informativo | 34fa0024-002a-4673-8b70-6419afef7d4d | 19627070-4044-4254-7133-869533412022 | bSkwpaFVCmMXS8G2PR6k', 'contenido': 'Este es el carrusel prueba 2', 'contenttype': 'text', 'typingtime': '1', 'id_robot': 540, 'blocktype': 'informativo'}\n",
      "intenatando consulta...\n",
      "consulta: select * from bloqueinformativo where next_id= 'Carrusel | cce128da-fc3c-4ab8-8733-0f93dff9b0ca | 19627070-4044-4254-7133-869533412022 | bSkwpaFVCmMXS8G2PR6k' and namestate= 'Informativo | 34fa0024-002a-4673-8b70-6419afef7d4d | 19627070-4044-4254-7133-869533412022 | bSkwpaFVCmMXS8G2PR6k' and contenido= 'Este es el carrusel prueba 2' and contenttype= 'text' and typingtime= '1' and id_robot= '540' and blocktype= 'informativo' ;\n",
      "Datos enviados INSERT:\n",
      "{'namestate': 'Informativo | 34fa0024-002a-4673-8b70-6419afef7d4d | 19627070-4044-4254-7133-869533412022 | bSkwpaFVCmMXS8G2PR6k', 'contenido': 'Este es el carrusel prueba 2', 'next_id': 'Carrusel | cce128da-fc3c-4ab8-8733-0f93dff9b0ca | 19627070-4044-4254-7133-869533412022 | bSkwpaFVCmMXS8G2PR6k', 'blocktype': 'informativo', 'contenttype': 'text', 'typingtime': '1', 'id_block': 2884, 'id_robot': 540, 'opc_nextid': None, 'pos_y': None, 'pos_x': None, 'tag_active': None}\n",
      "Datos recibidos INSERT:\n",
      "{'name_var': 'undefinedInput_prueba_carrusel_2_|_3e82e3b7-d8da-4955-aff4-9bcbee291db62774', 'opc_type': 'Variable', 'var': 0, 'opc_data': 'String', 'id_robot': 540}\n",
      "intenatando consulta...\n",
      "consulta: select * from variables where name_var= 'undefinedInput_prueba_carrusel_2_|_3e82e3b7-d8da-4955-aff4-9bcbee291db62774' and opc_type= 'Variable' and var= '0' and opc_data= 'String' and id_robot= '540' ;\n",
      "Datos enviados INSERT:\n",
      "{'id_var': 1912, 'opc_type': 'Variable', 'opc_data': 'String', 'var': '0', 'id_robot': 540, 'name_var': 'undefinedInput_prueba_carrusel_2_|_3e82e3b7-d8da-4955-aff4-9bcbee291db62774'}\n",
      "Datos recibidos INSERT:\n",
      "{'next_id': 'Informativo | eb6262bf-2b65-4dc7-9d6a-9a8544083dde | bSkwpaFVCmMXS8G2PR6k', 'default_id': 'Input prueba carrusel 2 | 3e82e3b7-d8da-4955-aff4-9bcbee291db6 | 19627070-4044-4254-7133-869533412022 | bSkwpaFVCmMXS8G2PR6k', 'namestate': 'Input prueba carrusel 2 | 3e82e3b7-d8da-4955-aff4-9bcbee291db6 | 19627070-4044-4254-7133-869533412022 | bSkwpaFVCmMXS8G2PR6k', 'contenido': 'Debes decrime \"adios\"', 'typingtime': '1', 'validacion': '', 'id_robot': 540, 'id_var': 1912, 'blocktype': 'input'}\n",
      "intenatando consulta...\n",
      "consulta: select * from bloqueinput where next_id= 'Informativo | eb6262bf-2b65-4dc7-9d6a-9a8544083dde | bSkwpaFVCmMXS8G2PR6k' and default_id= 'Input prueba carrusel 2 | 3e82e3b7-d8da-4955-aff4-9bcbee291db6 | 19627070-4044-4254-7133-869533412022 | bSkwpaFVCmMXS8G2PR6k' and namestate= 'Input prueba carrusel 2 | 3e82e3b7-d8da-4955-aff4-9bcbee291db6 | 19627070-4044-4254-7133-869533412022 | bSkwpaFVCmMXS8G2PR6k' and contenido= 'Debes decrime \"adios\"' and typingtime= '1' and validacion= '' and id_robot= '540' and id_var= '1912' and blocktype= 'input' ;\n"
     ]
    },
    {
     "name": "stderr",
     "output_type": "stream",
     "text": [
      "127.0.0.1 - - [15/Jun/2021 00:10:40] \"\u001b[37mPOST /insert/bloqueinput HTTP/1.1\u001b[0m\" 200 -\n",
      "127.0.0.1 - - [15/Jun/2021 00:10:40] \"\u001b[37mPOST /insert/variables HTTP/1.1\u001b[0m\" 200 -\n",
      "127.0.0.1 - - [15/Jun/2021 00:10:40] \"\u001b[37mPOST /insert/bloqueslide HTTP/1.1\u001b[0m\" 200 -\n"
     ]
    },
    {
     "name": "stdout",
     "output_type": "stream",
     "text": [
      "Datos enviados INSERT:\n",
      "{'namestate': 'Input prueba carrusel 2 | 3e82e3b7-d8da-4955-aff4-9bcbee291db6 | 19627070-4044-4254-7133-869533412022 | bSkwpaFVCmMXS8G2PR6k', 'contenido': 'Debes decrime \"adios\"', 'next_id': 'Informativo | eb6262bf-2b65-4dc7-9d6a-9a8544083dde | bSkwpaFVCmMXS8G2PR6k', 'blocktype': 'input', 'contenttype': None, 'typingtime': '1', 'validacion': '', 'default_id': 'Input prueba carrusel 2 | 3e82e3b7-d8da-4955-aff4-9bcbee291db6 | 19627070-4044-4254-7133-869533412022 | bSkwpaFVCmMXS8G2PR6k', 'id_var': '1912', 'id_block': 412, 'id_robot': 540, 'opc_nextid': None, 'pos_y': None, 'pos_x': None, 'tag_active': None}\n",
      "Datos recibidos INSERT:\n",
      "{'name_var': 'variableCarrCarrusel_|_5aaf3158-308e-4b01-9283-f01f32d587c94023', 'opc_type': 'Variable', 'var': 0, 'opc_data': 'String', 'id_robot': 540}\n",
      "intenatando consulta...\n",
      "consulta: select * from variables where name_var= 'variableCarrCarrusel_|_5aaf3158-308e-4b01-9283-f01f32d587c94023' and opc_type= 'Variable' and var= '0' and opc_data= 'String' and id_robot= '540' ;\n",
      "Datos enviados INSERT:\n",
      "{'id_var': 1913, 'opc_type': 'Variable', 'opc_data': 'String', 'var': '0', 'id_robot': 540, 'name_var': 'variableCarrCarrusel_|_5aaf3158-308e-4b01-9283-f01f32d587c94023'}\n",
      "Datos recibidos INSERT:\n",
      "{'namestate': 'Carrusel | 5aaf3158-308e-4b01-9283-f01f32d587c9 | 07418629-1549-9289-4157-116148457825 | bSkwpaFVCmMXS8G2PR6k', 'blocktype': 'slide', 'typingtime': '1', 'default_id': 'Carrusel | 5aaf3158-308e-4b01-9283-f01f32d587c9 | 07418629-1549-9289-4157-116148457825 | bSkwpaFVCmMXS8G2PR6k', 'id_var': 1913, 'id_robot': 540}\n",
      "intenatando consulta...\n",
      "consulta: select * from bloqueslide where namestate= 'Carrusel | 5aaf3158-308e-4b01-9283-f01f32d587c9 | 07418629-1549-9289-4157-116148457825 | bSkwpaFVCmMXS8G2PR6k' and blocktype= 'slide' and typingtime= '1' and default_id= 'Carrusel | 5aaf3158-308e-4b01-9283-f01f32d587c9 | 07418629-1549-9289-4157-116148457825 | bSkwpaFVCmMXS8G2PR6k' and id_var= '1913' and id_robot= '540' ;\n",
      "Datos enviados INSERT:\n",
      "{'namestate': 'Carrusel | 5aaf3158-308e-4b01-9283-f01f32d587c9 | 07418629-1549-9289-4157-116148457825 | bSkwpaFVCmMXS8G2PR6k', 'next_id': None, 'blocktype': 'slide', 'typingtime': '1', 'default_id': 'Carrusel | 5aaf3158-308e-4b01-9283-f01f32d587c9 | 07418629-1549-9289-4157-116148457825 | bSkwpaFVCmMXS8G2PR6k', 'id_var': '1913', 'id_block': 582, 'id_robot': 540, 'opc_nextid': None, 'pos_y': None, 'pos_x': None, 'opc_elm': None, 'tag_active': None}\n",
      "Datos recibidos INSERT:\n",
      "{'title': 'Titulo 1', 'subtitle': 'Subtitulo 1', 'image_url': 'https://sitechecker.pro/wp-content/uploads/2017/12/URL-meaning.png', 'blocktype': 'slide', 'id_block': 582}\n"
     ]
    },
    {
     "name": "stderr",
     "output_type": "stream",
     "text": [
      "127.0.0.1 - - [15/Jun/2021 00:10:40] \"\u001b[37mPOST /insert/elementos HTTP/1.1\u001b[0m\" 200 -\n",
      "127.0.0.1 - - [15/Jun/2021 00:10:41] \"\u001b[37mPOST /insert/botones HTTP/1.1\u001b[0m\" 200 -\n",
      "127.0.0.1 - - [15/Jun/2021 00:10:41] \"\u001b[37mPOST /insert/botones HTTP/1.1\u001b[0m\" 200 -\n"
     ]
    },
    {
     "name": "stdout",
     "output_type": "stream",
     "text": [
      "intenatando consulta...\n",
      "consulta: select * from elementos where title= 'Titulo 1' and subtitle= 'Subtitulo 1' and image_url= 'https://sitechecker.pro/wp-content/uploads/2017/12/URL-meaning.png' and blocktype= 'slide' and id_block= '582' ;\n",
      "Datos enviados INSERT:\n",
      "{'blocktype': 'slide', 'title': 'Titulo 1', 'image_url': 'https://sitechecker.pro/wp-content/uploads/2017/12/URL-meaning.png', 'subtitle': 'Subtitulo 1', 'id_block': 582, 'id_elements': 991}\n",
      "Datos recibidos INSERT:\n",
      "{'id_elemento': '991', 'titlebutton': 'Opcion 1', 'typebutton': 'postback', 'contentbutton': 'QuickReply | 9cd75eb1-5f87-4a23-84aa-d6de05ed56b8 | 07418629-1549-9289-4157-116148457825 | bSkwpaFVCmMXS8G2PR6k', 'opc_nextid': 'QuickReply | 9cd75eb1-5f87-4a23-84aa-d6de05ed56b8 | 07418629-1549-9289-4157-116148457825 | bSkwpaFVCmMXS8G2PR6k'}\n",
      "intenatando consulta...\n",
      "consulta: select * from botones where id_elemento= '991' and titlebutton= 'Opcion 1' and typebutton= 'postback' and contentbutton= 'QuickReply | 9cd75eb1-5f87-4a23-84aa-d6de05ed56b8 | 07418629-1549-9289-4157-116148457825 | bSkwpaFVCmMXS8G2PR6k' and opc_nextid= 'QuickReply | 9cd75eb1-5f87-4a23-84aa-d6de05ed56b8 | 07418629-1549-9289-4157-116148457825 | bSkwpaFVCmMXS8G2PR6k' ;\n",
      "Datos enviados INSERT:\n",
      "{'id_elemento': '991', 'titlebutton': 'Opcion 1', 'typebutton': 'postback', 'contentbutton': 'QuickReply | 9cd75eb1-5f87-4a23-84aa-d6de05ed56b8 | 07418629-1549-9289-4157-116148457825 | bSkwpaFVCmMXS8G2PR6k', 'id_boton': 1786, 'opc_nextid': 'QuickReply | 9cd75eb1-5f87-4a23-84aa-d6de05ed56b8 | 07418629-1549-9289-4157-116148457825 | bSkwpaFVCmMXS8G2PR6k'}\n",
      "Datos recibidos INSERT:\n",
      "{'id_elemento': '991', 'titlebutton': 'Opcion 2', 'typebutton': 'postback', 'contentbutton': 'QuickReply | f962f2fb-1047-4062-bac8-798fddc79ff2 | 07418629-1549-9289-4157-116148457825 | bSkwpaFVCmMXS8G2PR6k', 'opc_nextid': 'QuickReply | f962f2fb-1047-4062-bac8-798fddc79ff2 | 07418629-1549-9289-4157-116148457825 | bSkwpaFVCmMXS8G2PR6k'}\n",
      "intenatando consulta...\n",
      "consulta: select * from botones where id_elemento= '991' and titlebutton= 'Opcion 2' and typebutton= 'postback' and contentbutton= 'QuickReply | f962f2fb-1047-4062-bac8-798fddc79ff2 | 07418629-1549-9289-4157-116148457825 | bSkwpaFVCmMXS8G2PR6k' and opc_nextid= 'QuickReply | f962f2fb-1047-4062-bac8-798fddc79ff2 | 07418629-1549-9289-4157-116148457825 | bSkwpaFVCmMXS8G2PR6k' ;\n",
      "Datos enviados INSERT:\n",
      "{'id_elemento': '991', 'titlebutton': 'Opcion 2', 'typebutton': 'postback', 'contentbutton': 'QuickReply | f962f2fb-1047-4062-bac8-798fddc79ff2 | 07418629-1549-9289-4157-116148457825 | bSkwpaFVCmMXS8G2PR6k', 'id_boton': 1787, 'opc_nextid': 'QuickReply | f962f2fb-1047-4062-bac8-798fddc79ff2 | 07418629-1549-9289-4157-116148457825 | bSkwpaFVCmMXS8G2PR6k'}\n"
     ]
    },
    {
     "name": "stderr",
     "output_type": "stream",
     "text": [
      "127.0.0.1 - - [15/Jun/2021 00:10:41] \"\u001b[37mPOST /insert/bloqueinformativo HTTP/1.1\u001b[0m\" 200 -\n",
      "127.0.0.1 - - [15/Jun/2021 00:10:41] \"\u001b[37mPOST /insert/variables HTTP/1.1\u001b[0m\" 200 -\n"
     ]
    },
    {
     "name": "stdout",
     "output_type": "stream",
     "text": [
      "Datos recibidos INSERT:\n",
      "{'next_id': 'Carrusel | 5aaf3158-308e-4b01-9283-f01f32d587c9 | 07418629-1549-9289-4157-116148457825 | bSkwpaFVCmMXS8G2PR6k', 'namestate': 'Informativo | 98a8f39d-6761-48e7-aca7-66279cfabf40 | 07418629-1549-9289-4157-116148457825 | bSkwpaFVCmMXS8G2PR6k', 'contenido': 'Este es un bloque informativo', 'contenttype': 'text', 'typingtime': '1', 'id_robot': 540, 'blocktype': 'informativo'}\n",
      "intenatando consulta...\n",
      "consulta: select * from bloqueinformativo where next_id= 'Carrusel | 5aaf3158-308e-4b01-9283-f01f32d587c9 | 07418629-1549-9289-4157-116148457825 | bSkwpaFVCmMXS8G2PR6k' and namestate= 'Informativo | 98a8f39d-6761-48e7-aca7-66279cfabf40 | 07418629-1549-9289-4157-116148457825 | bSkwpaFVCmMXS8G2PR6k' and contenido= 'Este es un bloque informativo' and contenttype= 'text' and typingtime= '1' and id_robot= '540' and blocktype= 'informativo' ;\n",
      "Datos enviados INSERT:\n",
      "{'namestate': 'Informativo | 98a8f39d-6761-48e7-aca7-66279cfabf40 | 07418629-1549-9289-4157-116148457825 | bSkwpaFVCmMXS8G2PR6k', 'contenido': 'Este es un bloque informativo', 'next_id': 'Carrusel | 5aaf3158-308e-4b01-9283-f01f32d587c9 | 07418629-1549-9289-4157-116148457825 | bSkwpaFVCmMXS8G2PR6k', 'blocktype': 'informativo', 'contenttype': 'text', 'typingtime': '1', 'id_block': 2885, 'id_robot': 540, 'opc_nextid': None, 'pos_y': None, 'pos_x': None, 'tag_active': None}\n",
      "Datos recibidos INSERT:\n",
      "{'name_var': 'variableQrQuickReply_|_9cd75eb1-5f87-4a23-84aa-d6de05ed56b88866', 'opc_type': 'Variable', 'var': 0, 'opc_data': 'String', 'id_robot': 540}\n",
      "intenatando consulta...\n",
      "consulta: select * from variables where name_var= 'variableQrQuickReply_|_9cd75eb1-5f87-4a23-84aa-d6de05ed56b88866' and opc_type= 'Variable' and var= '0' and opc_data= 'String' and id_robot= '540' ;\n",
      "Datos enviados INSERT:\n",
      "{'id_var': 1914, 'opc_type': 'Variable', 'opc_data': 'String', 'var': '0', 'id_robot': 540, 'name_var': 'variableQrQuickReply_|_9cd75eb1-5f87-4a23-84aa-d6de05ed56b88866'}\n",
      "Datos recibidos INSERT:\n",
      "{'contenido': 'QUICKREPLY 1', 'opciones': 'SALIDA 1', 'next_id': 'Input | cd6d4be8-c346-4550-a26e-4bb9a7230d3b | bSkwpaFVCmMXS8G2PR6k', 'default_id': 'QuickReply | 9cd75eb1-5f87-4a23-84aa-d6de05ed56b8 | 07418629-1549-9289-4157-116148457825 | bSkwpaFVCmMXS8G2PR6k', 'namestate': 'QuickReply | 9cd75eb1-5f87-4a23-84aa-d6de05ed56b8 | 07418629-1549-9289-4157-116148457825 | bSkwpaFVCmMXS8G2PR6k', 'typingtime': '1', 'id_robot': 540, 'id_var': 1914, 'blocktype': 'quickReply'}\n",
      "intenatando consulta...\n",
      "consulta: select * from bloquequickreply where contenido= 'QUICKREPLY 1' and opciones= 'SALIDA 1' and next_id= 'Input | cd6d4be8-c346-4550-a26e-4bb9a7230d3b | bSkwpaFVCmMXS8G2PR6k' and default_id= 'QuickReply | 9cd75eb1-5f87-4a23-84aa-d6de05ed56b8 | 07418629-1549-9289-4157-116148457825 | bSkwpaFVCmMXS8G2PR6k' and namestate= 'QuickReply | 9cd75eb1-5f87-4a23-84aa-d6de05ed56b8 | 07418629-1549-9289-4157-116148457825 | bSkwpaFVCmMXS8G2PR6k' and typingtime= '1' and id_robot= '540' and id_var= '1914' and blocktype= 'quickReply' ;\n"
     ]
    },
    {
     "name": "stderr",
     "output_type": "stream",
     "text": [
      "127.0.0.1 - - [15/Jun/2021 00:10:41] \"\u001b[37mPOST /insert/bloquequickreply HTTP/1.1\u001b[0m\" 200 -\n",
      "127.0.0.1 - - [15/Jun/2021 00:10:41] \"\u001b[37mPOST /insert/variables HTTP/1.1\u001b[0m\" 200 -\n",
      "127.0.0.1 - - [15/Jun/2021 00:10:41] \"\u001b[37mPOST /insert/bloquequickreply HTTP/1.1\u001b[0m\" 200 -\n"
     ]
    },
    {
     "name": "stdout",
     "output_type": "stream",
     "text": [
      "Datos enviados INSERT:\n",
      "{'namestate': 'QuickReply | 9cd75eb1-5f87-4a23-84aa-d6de05ed56b8 | 07418629-1549-9289-4157-116148457825 | bSkwpaFVCmMXS8G2PR6k', 'contenido': 'QUICKREPLY 1', 'opciones': 'SALIDA 1', 'next_id': 'Input | cd6d4be8-c346-4550-a26e-4bb9a7230d3b | bSkwpaFVCmMXS8G2PR6k', 'blocktype': 'quickReply', 'typingtime': '1', 'default_id': 'QuickReply | 9cd75eb1-5f87-4a23-84aa-d6de05ed56b8 | 07418629-1549-9289-4157-116148457825 | bSkwpaFVCmMXS8G2PR6k', 'id_var': '1914', 'id_block': 692, 'id_robot': 540, 'opc_nextid': None, 'pos_y': None, 'pos_x': None, 'tag_active': None}\n",
      "Datos recibidos INSERT:\n",
      "{'name_var': 'variableQrQuickReply_|_f962f2fb-1047-4062-bac8-798fddc79ff23327', 'opc_type': 'Variable', 'var': 0, 'opc_data': 'String', 'id_robot': 540}\n",
      "intenatando consulta...\n",
      "consulta: select * from variables where name_var= 'variableQrQuickReply_|_f962f2fb-1047-4062-bac8-798fddc79ff23327' and opc_type= 'Variable' and var= '0' and opc_data= 'String' and id_robot= '540' ;\n",
      "Datos enviados INSERT:\n",
      "{'id_var': 1915, 'opc_type': 'Variable', 'opc_data': 'String', 'var': '0', 'id_robot': 540, 'name_var': 'variableQrQuickReply_|_f962f2fb-1047-4062-bac8-798fddc79ff23327'}\n",
      "Datos recibidos INSERT:\n",
      "{'contenido': 'Aprieta el siguiente botón para empezar de nuevo la conversación.', 'opciones': 'Inicio', 'next_id': 'Informativo | d9897d01-e0ce-44bd-ba3d-22973a7d74fd | bSkwpaFVCmMXS8G2PR6k', 'default_id': 'QuickReply | f962f2fb-1047-4062-bac8-798fddc79ff2 | 07418629-1549-9289-4157-116148457825 | bSkwpaFVCmMXS8G2PR6k', 'namestate': 'QuickReply | f962f2fb-1047-4062-bac8-798fddc79ff2 | 07418629-1549-9289-4157-116148457825 | bSkwpaFVCmMXS8G2PR6k', 'typingtime': '1', 'id_robot': 540, 'id_var': 1915, 'blocktype': 'quickReply'}\n",
      "intenatando consulta...\n",
      "consulta: select * from bloquequickreply where contenido= 'Aprieta el siguiente botón para empezar de nuevo la conversación.' and opciones= 'Inicio' and next_id= 'Informativo | d9897d01-e0ce-44bd-ba3d-22973a7d74fd | bSkwpaFVCmMXS8G2PR6k' and default_id= 'QuickReply | f962f2fb-1047-4062-bac8-798fddc79ff2 | 07418629-1549-9289-4157-116148457825 | bSkwpaFVCmMXS8G2PR6k' and namestate= 'QuickReply | f962f2fb-1047-4062-bac8-798fddc79ff2 | 07418629-1549-9289-4157-116148457825 | bSkwpaFVCmMXS8G2PR6k' and typingtime= '1' and id_robot= '540' and id_var= '1915' and blocktype= 'quickReply' ;\n",
      "Datos enviados INSERT:\n",
      "{'namestate': 'QuickReply | f962f2fb-1047-4062-bac8-798fddc79ff2 | 07418629-1549-9289-4157-116148457825 | bSkwpaFVCmMXS8G2PR6k', 'contenido': 'Aprieta el siguiente botón para empezar de nuevo la conversación.', 'opciones': 'Inicio', 'next_id': 'Informativo | d9897d01-e0ce-44bd-ba3d-22973a7d74fd | bSkwpaFVCmMXS8G2PR6k', 'blocktype': 'quickReply', 'typingtime': '1', 'default_id': 'QuickReply | f962f2fb-1047-4062-bac8-798fddc79ff2 | 07418629-1549-9289-4157-116148457825 | bSkwpaFVCmMXS8G2PR6k', 'id_var': '1915', 'id_block': 693, 'id_robot': 540, 'opc_nextid': None, 'pos_y': None, 'pos_x': None, 'tag_active': None}\n"
     ]
    },
    {
     "name": "stderr",
     "output_type": "stream",
     "text": [
      "127.0.0.1 - - [15/Jun/2021 00:10:41] \"\u001b[37mPOST /insert/bloqueinformativo HTTP/1.1\u001b[0m\" 200 -\n",
      "127.0.0.1 - - [15/Jun/2021 00:10:41] \"\u001b[37mPOST /insert/bloqueinformativo HTTP/1.1\u001b[0m\" 200 -\n"
     ]
    },
    {
     "name": "stdout",
     "output_type": "stream",
     "text": [
      "Datos recibidos INSERT:\n",
      "{'next_id': 'Informativo | 98a8f39d-6761-48e7-aca7-66279cfabf40 | 07418629-1549-9289-4157-116148457825 | bSkwpaFVCmMXS8G2PR6k', 'namestate': 'Informativo | d9897d01-e0ce-44bd-ba3d-22973a7d74fd | bSkwpaFVCmMXS8G2PR6k', 'contenido': 'Soy el chatbot del TT-A056', 'contenttype': 'text', 'typingtime': '1', 'id_robot': 540, 'blocktype': 'informativo'}\n",
      "intenatando consulta...\n",
      "consulta: select * from bloqueinformativo where next_id= 'Informativo | 98a8f39d-6761-48e7-aca7-66279cfabf40 | 07418629-1549-9289-4157-116148457825 | bSkwpaFVCmMXS8G2PR6k' and namestate= 'Informativo | d9897d01-e0ce-44bd-ba3d-22973a7d74fd | bSkwpaFVCmMXS8G2PR6k' and contenido= 'Soy el chatbot del TT-A056' and contenttype= 'text' and typingtime= '1' and id_robot= '540' and blocktype= 'informativo' ;\n",
      "Datos enviados INSERT:\n",
      "{'namestate': 'Informativo | d9897d01-e0ce-44bd-ba3d-22973a7d74fd | bSkwpaFVCmMXS8G2PR6k', 'contenido': 'Soy el chatbot del TT-A056', 'next_id': 'Informativo | 98a8f39d-6761-48e7-aca7-66279cfabf40 | 07418629-1549-9289-4157-116148457825 | bSkwpaFVCmMXS8G2PR6k', 'blocktype': 'informativo', 'contenttype': 'text', 'typingtime': '1', 'id_block': 2886, 'id_robot': 540, 'opc_nextid': None, 'pos_y': None, 'pos_x': None, 'tag_active': None}\n",
      "Datos recibidos INSERT:\n",
      "{'next_id': 'Salida', 'namestate': 'Informativo | eb6262bf-2b65-4dc7-9d6a-9a8544083dde | bSkwpaFVCmMXS8G2PR6k', 'contenido': 'Adios', 'contenttype': 'text', 'typingtime': '1', 'id_robot': 540, 'blocktype': 'informativo'}\n",
      "intenatando consulta...\n",
      "consulta: select * from bloqueinformativo where next_id= 'Salida' and namestate= 'Informativo | eb6262bf-2b65-4dc7-9d6a-9a8544083dde | bSkwpaFVCmMXS8G2PR6k' and contenido= 'Adios' and contenttype= 'text' and typingtime= '1' and id_robot= '540' and blocktype= 'informativo' ;\n",
      "Datos enviados INSERT:\n",
      "{'namestate': 'Informativo | eb6262bf-2b65-4dc7-9d6a-9a8544083dde | bSkwpaFVCmMXS8G2PR6k', 'contenido': 'Adios', 'next_id': 'Salida', 'blocktype': 'informativo', 'contenttype': 'text', 'typingtime': '1', 'id_block': 2887, 'id_robot': 540, 'opc_nextid': None, 'pos_y': None, 'pos_x': None, 'tag_active': None}\n",
      "Datos recibidos INSERT:\n",
      "{'name_var': 'variableInputInput_|_cd6d4be8-c346-4550-a26e-4bb9a7230d3b6724', 'opc_type': 'Variable', 'var': 0, 'opc_data': 'String', 'id_robot': 540}\n",
      "intenatando consulta...\n",
      "consulta: select * from variables where name_var= 'variableInputInput_|_cd6d4be8-c346-4550-a26e-4bb9a7230d3b6724' and opc_type= 'Variable' and var= '0' and opc_data= 'String' and id_robot= '540' ;\n"
     ]
    },
    {
     "name": "stderr",
     "output_type": "stream",
     "text": [
      "127.0.0.1 - - [15/Jun/2021 00:10:41] \"\u001b[37mPOST /insert/variables HTTP/1.1\u001b[0m\" 200 -\n",
      "127.0.0.1 - - [15/Jun/2021 00:10:41] \"\u001b[37mPOST /insert/bloqueinput HTTP/1.1\u001b[0m\" 200 -\n",
      "127.0.0.1 - - [15/Jun/2021 00:10:41] \"\u001b[37mPOST /insert/bloqueinformativo HTTP/1.1\u001b[0m\" 200 -\n"
     ]
    },
    {
     "name": "stdout",
     "output_type": "stream",
     "text": [
      "Datos enviados INSERT:\n",
      "{'id_var': 1916, 'opc_type': 'Variable', 'opc_data': 'String', 'var': '0', 'id_robot': 540, 'name_var': 'variableInputInput_|_cd6d4be8-c346-4550-a26e-4bb9a7230d3b6724'}\n",
      "Datos recibidos INSERT:\n",
      "{'next_id': 'Informativo | 34fa0024-002a-4673-8b70-6419afef7d4d | 19627070-4044-4254-7133-869533412022 | bSkwpaFVCmMXS8G2PR6k', 'default_id': 'Input | cd6d4be8-c346-4550-a26e-4bb9a7230d3b | bSkwpaFVCmMXS8G2PR6k', 'namestate': 'Input | cd6d4be8-c346-4550-a26e-4bb9a7230d3b | bSkwpaFVCmMXS8G2PR6k', 'contenido': 'Ingresa tu nombre', 'typingtime': '1', 'validacion': '', 'id_robot': 540, 'id_var': 1916, 'blocktype': 'input'}\n",
      "intenatando consulta...\n",
      "consulta: select * from bloqueinput where next_id= 'Informativo | 34fa0024-002a-4673-8b70-6419afef7d4d | 19627070-4044-4254-7133-869533412022 | bSkwpaFVCmMXS8G2PR6k' and default_id= 'Input | cd6d4be8-c346-4550-a26e-4bb9a7230d3b | bSkwpaFVCmMXS8G2PR6k' and namestate= 'Input | cd6d4be8-c346-4550-a26e-4bb9a7230d3b | bSkwpaFVCmMXS8G2PR6k' and contenido= 'Ingresa tu nombre' and typingtime= '1' and validacion= '' and id_robot= '540' and id_var= '1916' and blocktype= 'input' ;\n",
      "Datos enviados INSERT:\n",
      "{'namestate': 'Input | cd6d4be8-c346-4550-a26e-4bb9a7230d3b | bSkwpaFVCmMXS8G2PR6k', 'contenido': 'Ingresa tu nombre', 'next_id': 'Informativo | 34fa0024-002a-4673-8b70-6419afef7d4d | 19627070-4044-4254-7133-869533412022 | bSkwpaFVCmMXS8G2PR6k', 'blocktype': 'input', 'contenttype': None, 'typingtime': '1', 'validacion': '', 'default_id': 'Input | cd6d4be8-c346-4550-a26e-4bb9a7230d3b | bSkwpaFVCmMXS8G2PR6k', 'id_var': '1916', 'id_block': 413, 'id_robot': 540, 'opc_nextid': None, 'pos_y': None, 'pos_x': None, 'tag_active': None}\n",
      "Datos recibidos INSERT:\n",
      "{'next_id': '', 'namestate': 'Salida', 'contenido': '', 'contenttype': 'text', 'typingtime': 3, 'id_robot': 540, 'blocktype': 'informativo'}\n",
      "intenatando consulta...\n",
      "consulta: select * from bloqueinformativo where next_id= '' and namestate= 'Salida' and contenido= '' and contenttype= 'text' and typingtime= '3' and id_robot= '540' and blocktype= 'informativo' ;\n",
      "Datos enviados INSERT:\n",
      "{'namestate': 'Salida', 'contenido': '', 'next_id': '', 'blocktype': 'informativo', 'contenttype': 'text', 'typingtime': '3', 'id_block': 2888, 'id_robot': 540, 'opc_nextid': None, 'pos_y': None, 'pos_x': None, 'tag_active': None}\n"
     ]
    }
   ],
   "source": [
    "if __name__ == \"__main__\":    \n",
    "    app.run(host='localhost',port='8181')"
   ]
  },
  {
   "cell_type": "code",
   "execution_count": null,
   "metadata": {},
   "outputs": [],
   "source": []
  },
  {
   "cell_type": "code",
   "execution_count": null,
   "metadata": {},
   "outputs": [],
   "source": []
  }
 ],
 "metadata": {
  "kernelspec": {
   "display_name": "Python 3",
   "language": "python",
   "name": "python3"
  },
  "language_info": {
   "codemirror_mode": {
    "name": "ipython",
    "version": 3
   },
   "file_extension": ".py",
   "mimetype": "text/x-python",
   "name": "python",
   "nbconvert_exporter": "python",
   "pygments_lexer": "ipython3",
   "version": "3.9.2"
  }
 },
 "nbformat": 4,
 "nbformat_minor": 4
}
