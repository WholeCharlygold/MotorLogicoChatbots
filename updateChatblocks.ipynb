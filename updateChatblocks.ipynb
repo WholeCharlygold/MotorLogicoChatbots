{
 "cells": [
  {
   "cell_type": "code",
   "execution_count": 1,
   "metadata": {},
   "outputs": [
    {
     "data": {
      "text/html": [
       "<style>.container { width:100% !important; }</style>"
      ],
      "text/plain": [
       "<IPython.core.display.HTML object>"
      ]
     },
     "metadata": {},
     "output_type": "display_data"
    }
   ],
   "source": [
    "import os\n",
    "import sys \n",
    "from flask import Flask\n",
    "from flask import request\n",
    "from flask_api import status\n",
    "import psycopg2\n",
    "import json\n",
    "import copy\n",
    "from IPython.core.display import display, HTML\n",
    "\n",
    "display(HTML(\"<style>.container { width:100% !important; }</style>\"))\n",
    "datosBaseDeDatos = {\"usuario\":\"postgres\",\"password\":\"carlos98\",\"Host\":\"127.0.0.1\",\"puerto\":\"5432\",\"DB\":\"chatblocks\"}"
   ]
  },
  {
   "cell_type": "code",
   "execution_count": 2,
   "metadata": {},
   "outputs": [],
   "source": [
    "def abrirJson(name,path=os.getcwd()+\"/\" ):\n",
    "    with open(path+name,encoding='utf-8') as data_file:  \n",
    "        diccionario = json.load(data_file)\n",
    "    return diccionario"
   ]
  },
  {
   "cell_type": "code",
   "execution_count": 3,
   "metadata": {},
   "outputs": [],
   "source": [
    "def conexionBaseDeDatos(datosConexion):\n",
    "    try:\n",
    "        connection = psycopg2.connect(user = datosConexion[\"usuario\"],\n",
    "                              password = datosConexion[\"password\"],\n",
    "                              host = datosConexion[\"Host\"],\n",
    "                              port = datosConexion[\"puerto\"],\n",
    "                              database = datosConexion[\"DB\"])    \n",
    "        return connection\n",
    "    except(Exception, psycopg2.Error) as error:\n",
    "        print(\"Error al conectar con base de datos\", error)"
   ]
  },
  {
   "cell_type": "code",
   "execution_count": 4,
   "metadata": {},
   "outputs": [],
   "source": [
    "def consultar(connection,datos=False,consulta=False,tabla=False):\n",
    "    #print(\"datos\",datos)\n",
    "    consultaBots = list()\n",
    "    column_names = []\n",
    "    data_rows = []\n",
    "    diccionarioDatos = dict()\n",
    "    consultas = list()\n",
    "    cursor = connection.cursor()  \n",
    "    cosulta =\"\"    \n",
    "    if datos:\n",
    "        print(\"intenatando consulta...\")\n",
    "        if tabla == 'robots':\n",
    "            consulta = \"select * from robots where id_face = '\"+datos[\"id_face\"]+\"';\"\n",
    "        else:\n",
    "            consulta = \"select * from \"+tabla+\" where \"        \n",
    "            i=0\n",
    "            for dato, valorDato in datos.items():\n",
    "                if i==0:\n",
    "                    consulta = consulta+dato+\"= '\"+str(valorDato)+\"'\"                \n",
    "                else:             \n",
    "                    consulta = consulta+\" and \"+dato+\"= '\"+str(valorDato)+\"'\" \n",
    "                i=i+1\n",
    "            #print(dato,\":\",valorDato)\n",
    "            consulta= consulta + \" ;\" \n",
    "            #print(consulta)        \n",
    "            #consulta = \"select * from robots where name_robot = '\"+datosBot[\"name_robot\"]+\"' and id_face = '\"+ datosBot[\"id_face\"]+\"' and  type_blocki = '\"+datosBot[\"type_blocki\"]+\"' and access_token= '\"+datosBot[\"access_token\"]+\"' and id_user = '\"+datosBot[\"id_user\"]+\"';\"\n",
    "    print(\"consulta:\",consulta)\n",
    "    cursor.execute(consulta)    \n",
    "    column_names = [desc[0] for desc in cursor.description]  \n",
    "    rows = cursor.fetchall()\n",
    "    for row in rows:\n",
    "        diccionarioDatos = dict()\n",
    "        for i in range(len(column_names)):\n",
    "            diccionarioDatos.update({column_names[i]:row[i]})\n",
    "        consultaBots.append(diccionarioDatos)\n",
    "    cursor.close()\n",
    "    connection.close()  \n",
    "    \n",
    "    if len(consultaBots)==1:\n",
    "        return consultaBots[0]\n",
    "    elif len(consultaBots)==0:\n",
    "        print('La consulta no trajo nada')\n",
    "        return {\"error\": \"true\"}\n",
    "    else:\n",
    "        return consultaBots"
   ]
  },
  {
   "cell_type": "code",
   "execution_count": 5,
   "metadata": {},
   "outputs": [],
   "source": [
    "def insert(datos,tabla,connection):\n",
    "    cursor = connection.cursor()\n",
    "    values = \"\"\n",
    "    datosInsert = \"\"\n",
    "    i = 0;\n",
    "    for dato, valorDato in datos.items():\n",
    "        if i==0:\n",
    "            values = values+dato \n",
    "            datosInsert = datosInsert+\"'\"+str(valorDato)+\"' \"                \n",
    "        else:\n",
    "            values = values+\",\"+dato\n",
    "            datosInsert =datosInsert+\",'\"+str(valorDato)+\"' \"\n",
    "        i=i+1\n",
    "    insersion  = \"insert into \"+tabla+\" ( \"+values+\" ) values (\"+datosInsert+\" );\" \n",
    "    cursor.execute(insersion)\n",
    "    connection.commit()\n",
    "    cursor.close()\n",
    "    connection.close()\n",
    "    return datos"
   ]
  },
  {
   "cell_type": "code",
   "execution_count": 6,
   "metadata": {},
   "outputs": [],
   "source": [
    "def update(datosActualizar,datos,tabla,connection):\n",
    "    actualizar =\" \"\n",
    "    actualizar = \"update \"+tabla+\" set\"\n",
    "    j = 0\n",
    "    for dato,informacionDato in datosActualizar.items():\n",
    "        print(dato)\n",
    "        if j==0:\n",
    "            actualizar=actualizar+\" \"+dato+\"=\"+str(informacionDato)\n",
    "            j=j+1\n",
    "        else:\n",
    "             actualizar=actualizar+\", \"+dato+\"=\"+str(informacionDato)\n",
    "    \n",
    "    i=0\n",
    "    actualizar=actualizar+\" where \"\n",
    "    for dato, valorDato in datos.items():\n",
    "        if i==0:\n",
    "            actualizar = actualizar+dato+\"= '\"+str(valorDato)+\"'\"                \n",
    "        else:             \n",
    "            actualizar = actualizar+\" and \"+dato+\"= '\"+str(valorDato)+\"'\" \n",
    "        i=i+1\n",
    "    actualizar= actualizar + \" ;\"  "
   ]
  },
  {
   "cell_type": "code",
   "execution_count": 7,
   "metadata": {},
   "outputs": [],
   "source": [
    "app = Flask(__name__)\n",
    "@app.route('/access_token', methods = ['POST'])\n",
    "def postAccessToken():\n",
    "    try:         \n",
    "        connection = conexionBaseDeDatos(datosBaseDeDatos)        \n",
    "        datosVariable = request.get_json()   \n",
    "        tabla = \"robots\"\n",
    "        con = consultaBots(connection,datos=datosVariable,tabla=tabla)        \n",
    "        listaAcessToken=list()\n",
    "        if type(con)==list:\n",
    "            for i in range(len(con)):\n",
    "                print(con[i])\n",
    "                listaAcessToken.append(con[i][\"access_token\"])\n",
    "        else:\n",
    "            listaAcessToken.append(con[\"access_token\"])         \n",
    "        print(listaAcessToken)\n",
    "        return {\"access_token\":listaAcessToken}\n",
    "    except:\n",
    "        return datosVariable,status.HTTP_404_NOT_FOUND\n"
   ]
  },
  {
   "cell_type": "code",
   "execution_count": 8,
   "metadata": {},
   "outputs": [],
   "source": [
    "@app.route('/insert/<tabla>',methods=['POST'])\n",
    "def funcionalidad(tabla):\n",
    "    try:\n",
    "        connection = conexionBaseDeDatos(datosBaseDeDatos)\n",
    "        datos = request.get_json()\n",
    "        print(\"Datos recibidos:\")\n",
    "        print(datos)\n",
    "        insert(datos,str(tabla),connection)\n",
    "        connection = conexionBaseDeDatos(datosBaseDeDatos)\n",
    "        consulta = consultar(connection,datos=datos,tabla=str(tabla))\n",
    "        print(\"Datos enviados:\")\n",
    "        print (consulta)\n",
    "        return consulta\n",
    "    except (Exception, psycopg2.Error) as error :\n",
    "        print(\"error\",error)\n",
    "        return tabla,status.HTTP_404_NOT_FOUND"
   ]
  },
  {
   "cell_type": "code",
   "execution_count": 9,
   "metadata": {},
   "outputs": [],
   "source": [
    "@app.route('/select/<tabla>',methods=['GET'])\n",
    "def select(tabla):\n",
    "    try:\n",
    "        connection = conexionBaseDeDatos(datosBaseDeDatos)\n",
    "        datos = request.get_json()\n",
    "        print(\"Datos recibidos:\")\n",
    "        print(datos)\n",
    "        \n",
    "        consulta = consultar(connection,datos=datos,tabla=str(tabla))\n",
    "        print(\"Datos enviados:\")\n",
    "        print (consulta)\n",
    "        return consulta\n",
    "    except (Exception, psycopg2.Error) as error :\n",
    "        print(\"error\",error)\n",
    "        return tabla,status.HTTP_404_NOT_FOUND"
   ]
  },
  {
   "cell_type": "code",
   "execution_count": null,
   "metadata": {},
   "outputs": [
    {
     "name": "stdout",
     "output_type": "stream",
     "text": [
      " * Serving Flask app \"__main__\" (lazy loading)\n",
      " * Environment: production\n",
      "   WARNING: This is a development server. Do not use it in a production deployment.\n",
      "   Use a production WSGI server instead.\n",
      " * Debug mode: off\n"
     ]
    },
    {
     "name": "stderr",
     "output_type": "stream",
     "text": [
      " * Running on http://localhost:8181/ (Press CTRL+C to quit)\n",
      "127.0.0.1 - - [18/Mar/2021 20:01:13] \"\u001b[37mGET /select/robots HTTP/1.1\u001b[0m\" 200 -\n",
      "127.0.0.1 - - [18/Mar/2021 20:01:13] \"\u001b[37mPOST /insert/robots HTTP/1.1\u001b[0m\" 200 -\n",
      "127.0.0.1 - - [18/Mar/2021 20:01:13] \"\u001b[37mPOST /insert/bloqueinformativo HTTP/1.1\u001b[0m\" 200 -\n"
     ]
    },
    {
     "name": "stdout",
     "output_type": "stream",
     "text": [
      "Datos recibidos:\n",
      "{'name_robot': 'oliverBot', 'id_face': '2153123008120093', 'block_ini': 'prueba_inicio', 'type_blocki': 'quickreply', 'access_token': 'EAAHNkscg2TcBAMvebksfOxuFBpMeR5sUhzHTKtqdi6NkqQKZAdkeaGVJ9Yc5bNbvL3JLzCgB7EEqsVUTZADhidVcC3zJV1UZB4Uz0Hm3fZB9IETnWb4I8MoK8nxpenC1lYwnjwnRwMHVZA1FKw8d3A45t9xCxmPKnm6kIr5ZCA8wZDZD', 'id_user': 'oliverbp88@gmail.com', 'api_nlp': 'http://localhost:8282/'}\n",
      "intenatando consulta...\n",
      "consulta: select * from robots where id_face = '2153123008120093';\n",
      "La consulta no trajo nada\n",
      "Datos enviados:\n",
      "{'error': 'true'}\n",
      "Datos recibidos:\n",
      "{'name_robot': 'oliverBot', 'id_face': '2153123008120093', 'block_ini': 'prueba_inicio', 'type_blocki': 'quickreply', 'access_token': 'EAAHNkscg2TcBAMvebksfOxuFBpMeR5sUhzHTKtqdi6NkqQKZAdkeaGVJ9Yc5bNbvL3JLzCgB7EEqsVUTZADhidVcC3zJV1UZB4Uz0Hm3fZB9IETnWb4I8MoK8nxpenC1lYwnjwnRwMHVZA1FKw8d3A45t9xCxmPKnm6kIr5ZCA8wZDZD', 'id_user': 'oliverbp88@gmail.com', 'api_nlp': 'http://localhost:8282/'}\n",
      "intenatando consulta...\n",
      "consulta: select * from robots where id_face = '2153123008120093';\n",
      "Datos enviados:\n",
      "{'name_robot': 'oliverBot', 'id_face': '2153123008120093', 'block_ini': 'prueba_inicio', 'type_blocki': 'quickreply', 'access_token': 'EAAHNkscg2TcBAMvebksfOxuFBpMeR5sUhzHTKtqdi6NkqQKZAdkeaGVJ9Yc5bNbvL3JLzCgB7EEqsVUTZADhidVcC3zJV1UZB4Uz0Hm3fZB9IETnWb4I8MoK8nxpenC1lYwnjwnRwMHVZA1FKw8d3A45t9xCxmPKnm6kIr5ZCA8wZDZD', 'api_nlp': 'http://localhost:8282/', 'id_robot': 407, 'id_user': 'oliverbp88@gmail.com'}\n",
      "Datos recibidos:\n",
      "{'next_id': 'pruebaCorreo_01inicial_inicial', 'namestate': 'prueba_inicio', 'contenido': 'Hola, soy un chatbot y esto es un mensaje de prueba y adios', 'contenttype': 'text', 'typingtime': 3, 'id_robot': 407, 'blocktype': 'informativo'}\n",
      "intenatando consulta...\n",
      "consulta: select * from bloqueinformativo where next_id= 'pruebaCorreo_01inicial_inicial' and namestate= 'prueba_inicio' and contenido= 'Hola, soy un chatbot y esto es un mensaje de prueba y adios' and contenttype= 'text' and typingtime= '3' and id_robot= '407' and blocktype= 'informativo' ;\n",
      "Datos enviados:\n",
      "{'namestate': 'prueba_inicio', 'contenido': 'Hola, soy un chatbot y esto es un mensaje de prueba y adios', 'next_id': 'pruebaCorreo_01inicial_inicial', 'blocktype': 'informativo', 'contenttype': 'text', 'typingtime': '3', 'id_block': 1219, 'id_robot': 407, 'opc_nextid': None, 'pos_y': None, 'pos_x': None, 'tag_active': None}\n"
     ]
    },
    {
     "name": "stderr",
     "output_type": "stream",
     "text": [
      "127.0.0.1 - - [18/Mar/2021 20:01:13] \"\u001b[37mPOST /insert/bloqueinformativo HTTP/1.1\u001b[0m\" 200 -\n",
      "127.0.0.1 - - [18/Mar/2021 20:01:13] \"\u001b[37mPOST /insert/bloqueinformativo HTTP/1.1\u001b[0m\" 200 -\n"
     ]
    },
    {
     "name": "stdout",
     "output_type": "stream",
     "text": [
      "Datos recibidos:\n",
      "{'next_id': 'pruebaCorreo_01inicial_inicial', 'namestate': 'prueba_qa', 'contenido': 'Vamos a ver si no truena', 'contenttype': 'text', 'typingtime': 7, 'id_robot': 407, 'blocktype': 'informativo'}\n",
      "intenatando consulta...\n",
      "consulta: select * from bloqueinformativo where next_id= 'pruebaCorreo_01inicial_inicial' and namestate= 'prueba_qa' and contenido= 'Vamos a ver si no truena' and contenttype= 'text' and typingtime= '7' and id_robot= '407' and blocktype= 'informativo' ;\n",
      "Datos enviados:\n",
      "{'namestate': 'prueba_qa', 'contenido': 'Vamos a ver si no truena', 'next_id': 'pruebaCorreo_01inicial_inicial', 'blocktype': 'informativo', 'contenttype': 'text', 'typingtime': '7', 'id_block': 1220, 'id_robot': 407, 'opc_nextid': None, 'pos_y': None, 'pos_x': None, 'tag_active': None}\n",
      "Datos recibidos:\n",
      "{'next_id': 'Salida', 'namestate': 'prueba_dos', 'contenido': 'Puedo hacer muchas cosas, entre ellas despedirme. Adios', 'contenttype': 'text', 'typingtime': 3, 'id_robot': 407, 'blocktype': 'informativo'}\n",
      "intenatando consulta...\n",
      "consulta: select * from bloqueinformativo where next_id= 'Salida' and namestate= 'prueba_dos' and contenido= 'Puedo hacer muchas cosas, entre ellas despedirme. Adios' and contenttype= 'text' and typingtime= '3' and id_robot= '407' and blocktype= 'informativo' ;\n",
      "Datos enviados:\n",
      "{'namestate': 'prueba_dos', 'contenido': 'Puedo hacer muchas cosas, entre ellas despedirme. Adios', 'next_id': 'Salida', 'blocktype': 'informativo', 'contenttype': 'text', 'typingtime': '3', 'id_block': 1221, 'id_robot': 407, 'opc_nextid': None, 'pos_y': None, 'pos_x': None, 'tag_active': None}\n",
      "Datos recibidos:\n",
      "{'name_var': 'var_case', 'opc_type': 'Variable', 'var': 0, 'opc_data': 'Numerico', 'id_robot': 407}\n",
      "intenatando consulta...\n",
      "consulta: select * from variables where name_var= 'var_case' and opc_type= 'Variable' and var= '0' and opc_data= 'Numerico' and id_robot= '407' ;\n"
     ]
    },
    {
     "name": "stderr",
     "output_type": "stream",
     "text": [
      "127.0.0.1 - - [18/Mar/2021 20:01:13] \"\u001b[37mPOST /insert/variables HTTP/1.1\u001b[0m\" 200 -\n",
      "127.0.0.1 - - [18/Mar/2021 20:01:13] \"\u001b[37mPOST /insert/bloquequickreply HTTP/1.1\u001b[0m\" 200 -\n",
      "127.0.0.1 - - [18/Mar/2021 20:01:13] \"\u001b[37mPOST /insert/variables HTTP/1.1\u001b[0m\" 200 -\n"
     ]
    },
    {
     "name": "stdout",
     "output_type": "stream",
     "text": [
      "Datos enviados:\n",
      "{'id_var': 963, 'opc_type': 'Variable', 'opc_data': 'Numerico', 'var': '0', 'id_robot': 407, 'name_var': 'var_case'}\n",
      "Datos recibidos:\n",
      "{'contenido': '¿Cuál es tu correo?', 'opciones': 'email,otro', 'next_id': 'prueba_dos,prueba_slide', 'default_id': 'prueba_qa', 'namestate': 'pruebaCorreo_01inicial_inicial', 'typingtime': 3, 'id_robot': 407, 'id_var': 963, 'blocktype': 'quickReply'}\n",
      "intenatando consulta...\n",
      "consulta: select * from bloquequickreply where contenido= '¿Cuál es tu correo?' and opciones= 'email,otro' and next_id= 'prueba_dos,prueba_slide' and default_id= 'prueba_qa' and namestate= 'pruebaCorreo_01inicial_inicial' and typingtime= '3' and id_robot= '407' and id_var= '963' and blocktype= 'quickReply' ;\n",
      "Datos enviados:\n",
      "{'namestate': 'pruebaCorreo_01inicial_inicial', 'contenido': '¿Cuál es tu correo?', 'opciones': 'email,otro', 'next_id': 'prueba_dos,prueba_slide', 'blocktype': 'quickReply', 'typingtime': '3', 'default_id': 'prueba_qa', 'id_var': '963', 'id_block': 427, 'id_robot': 407, 'opc_nextid': None, 'pos_y': None, 'pos_x': None, 'tag_active': None}\n",
      "Datos recibidos:\n",
      "{'name_var': 'var_slideMenu', 'opc_type': 'Variable', 'var': 0, 'opc_data': 'Numerico', 'id_robot': 407}\n",
      "intenatando consulta...\n",
      "consulta: select * from variables where name_var= 'var_slideMenu' and opc_type= 'Variable' and var= '0' and opc_data= 'Numerico' and id_robot= '407' ;\n",
      "Datos enviados:\n",
      "{'id_var': 964, 'opc_type': 'Variable', 'opc_data': 'Numerico', 'var': '0', 'id_robot': 407, 'name_var': 'var_slideMenu'}\n"
     ]
    },
    {
     "name": "stderr",
     "output_type": "stream",
     "text": [
      "127.0.0.1 - - [18/Mar/2021 20:01:13] \"\u001b[37mPOST /insert/bloqueslide HTTP/1.1\u001b[0m\" 200 -\n",
      "127.0.0.1 - - [18/Mar/2021 20:01:13] \"\u001b[37mPOST /insert/elementos HTTP/1.1\u001b[0m\" 200 -\n"
     ]
    },
    {
     "name": "stdout",
     "output_type": "stream",
     "text": [
      "Datos recibidos:\n",
      "{'namestate': 'prueba_slide', 'blocktype': 'slide', 'typingtime': 3, 'default_id': 'prueba_qa', 'id_var': 964, 'id_robot': 407}\n",
      "intenatando consulta...\n",
      "consulta: select * from bloqueslide where namestate= 'prueba_slide' and blocktype= 'slide' and typingtime= '3' and default_id= 'prueba_qa' and id_var= '964' and id_robot= '407' ;\n",
      "Datos enviados:\n",
      "{'namestate': 'prueba_slide', 'next_id': None, 'blocktype': 'slide', 'typingtime': '3', 'default_id': 'prueba_qa', 'id_var': '964', 'id_block': 189, 'id_robot': 407, 'opc_nextid': None, 'pos_y': None, 'pos_x': None, 'opc_elm': None, 'tag_active': None}\n",
      "Datos recibidos:\n",
      "{'title': 'Prueba titulo', 'image_url': 'https://st2.depositphotos.com/3008028/5540/i/600/depositphotos_55407975-stock-photo-royal-blue-background.jpg', 'subtitle': 'Esta es una prueba de carrusel.', 'blocktype': 'slide', 'id_block': 189}\n",
      "intenatando consulta...\n",
      "consulta: select * from elementos where title= 'Prueba titulo' and image_url= 'https://st2.depositphotos.com/3008028/5540/i/600/depositphotos_55407975-stock-photo-royal-blue-background.jpg' and subtitle= 'Esta es una prueba de carrusel.' and blocktype= 'slide' and id_block= '189' ;\n",
      "Datos enviados:\n",
      "{'blocktype': 'slide', 'title': 'Prueba titulo', 'image_url': 'https://st2.depositphotos.com/3008028/5540/i/600/depositphotos_55407975-stock-photo-royal-blue-background.jpg', 'subtitle': 'Esta es una prueba de carrusel.', 'id_block': 189, 'id_elements': 428}\n",
      "Datos recibidos:\n",
      "{'id_elemento': '428', 'titlebutton': 'Boton 1', 'typebutton': 'web_url', 'contentbutton': 'https://www.youtube.com/', 'opc_nextid': 'https://www.youtube.com/'}\n",
      "intenatando consulta...\n",
      "consulta: select * from botones where id_elemento= '428' and titlebutton= 'Boton 1' and typebutton= 'web_url' and contentbutton= 'https://www.youtube.com/' and opc_nextid= 'https://www.youtube.com/' ;\n"
     ]
    },
    {
     "name": "stderr",
     "output_type": "stream",
     "text": [
      "127.0.0.1 - - [18/Mar/2021 20:01:13] \"\u001b[37mPOST /insert/botones HTTP/1.1\u001b[0m\" 200 -\n",
      "127.0.0.1 - - [18/Mar/2021 20:01:14] \"\u001b[37mPOST /insert/botones HTTP/1.1\u001b[0m\" 200 -\n"
     ]
    },
    {
     "name": "stdout",
     "output_type": "stream",
     "text": [
      "Datos enviados:\n",
      "{'id_elemento': '428', 'titlebutton': 'Boton 1', 'typebutton': 'web_url', 'contentbutton': 'https://www.youtube.com/', 'id_boton': 668, 'opc_nextid': 'https://www.youtube.com/'}\n",
      "Datos recibidos:\n",
      "{'id_elemento': '428', 'titlebutton': 'Boton 2', 'typebutton': 'web_url', 'contentbutton': 'https://www.reddit.com/', 'opc_nextid': 'https://www.reddit.com/'}\n",
      "intenatando consulta...\n",
      "consulta: select * from botones where id_elemento= '428' and titlebutton= 'Boton 2' and typebutton= 'web_url' and contentbutton= 'https://www.reddit.com/' and opc_nextid= 'https://www.reddit.com/' ;\n",
      "Datos enviados:\n",
      "{'id_elemento': '428', 'titlebutton': 'Boton 2', 'typebutton': 'web_url', 'contentbutton': 'https://www.reddit.com/', 'id_boton': 669, 'opc_nextid': 'https://www.reddit.com/'}\n"
     ]
    },
    {
     "name": "stderr",
     "output_type": "stream",
     "text": [
      "127.0.0.1 - - [18/Mar/2021 20:11:02] \"\u001b[37mGET /select/robots HTTP/1.1\u001b[0m\" 200 -\n",
      "127.0.0.1 - - [18/Mar/2021 20:11:03] \"\u001b[37mPOST /insert/robots HTTP/1.1\u001b[0m\" 200 -\n",
      "127.0.0.1 - - [18/Mar/2021 20:11:03] \"\u001b[37mPOST /insert/bloqueinformativo HTTP/1.1\u001b[0m\" 200 -\n"
     ]
    },
    {
     "name": "stdout",
     "output_type": "stream",
     "text": [
      "Datos recibidos:\n",
      "{'name_robot': 'oliverBot', 'id_face': '2153123008120093', 'block_ini': 'prueba_inicio', 'type_blocki': 'quickreply', 'access_token': 'EAAHNkscg2TcBAMvebksfOxuFBpMeR5sUhzHTKtqdi6NkqQKZAdkeaGVJ9Yc5bNbvL3JLzCgB7EEqsVUTZADhidVcC3zJV1UZB4Uz0Hm3fZB9IETnWb4I8MoK8nxpenC1lYwnjwnRwMHVZA1FKw8d3A45t9xCxmPKnm6kIr5ZCA8wZDZD', 'id_user': 'oliverbp88@gmail.com', 'api_nlp': 'http://localhost:8282/'}\n",
      "intenatando consulta...\n",
      "consulta: select * from robots where id_face = '2153123008120093';\n",
      "La consulta no trajo nada\n",
      "Datos enviados:\n",
      "{'error': 'true'}\n",
      "Datos recibidos:\n",
      "{'name_robot': 'oliverBot', 'id_face': '2153123008120093', 'block_ini': 'prueba_inicio', 'type_blocki': 'quickreply', 'access_token': 'EAAHNkscg2TcBAMvebksfOxuFBpMeR5sUhzHTKtqdi6NkqQKZAdkeaGVJ9Yc5bNbvL3JLzCgB7EEqsVUTZADhidVcC3zJV1UZB4Uz0Hm3fZB9IETnWb4I8MoK8nxpenC1lYwnjwnRwMHVZA1FKw8d3A45t9xCxmPKnm6kIr5ZCA8wZDZD', 'id_user': 'oliverbp88@gmail.com', 'api_nlp': 'http://localhost:8282/'}\n",
      "intenatando consulta...\n",
      "consulta: select * from robots where id_face = '2153123008120093';\n",
      "Datos enviados:\n",
      "{'name_robot': 'oliverBot', 'id_face': '2153123008120093', 'block_ini': 'prueba_inicio', 'type_blocki': 'quickreply', 'access_token': 'EAAHNkscg2TcBAMvebksfOxuFBpMeR5sUhzHTKtqdi6NkqQKZAdkeaGVJ9Yc5bNbvL3JLzCgB7EEqsVUTZADhidVcC3zJV1UZB4Uz0Hm3fZB9IETnWb4I8MoK8nxpenC1lYwnjwnRwMHVZA1FKw8d3A45t9xCxmPKnm6kIr5ZCA8wZDZD', 'api_nlp': 'http://localhost:8282/', 'id_robot': 408, 'id_user': 'oliverbp88@gmail.com'}\n",
      "Datos recibidos:\n",
      "{'next_id': 'pruebaCorreo_01inicial_inicial', 'namestate': 'prueba_inicio', 'contenido': 'Hola, soy un chatbot y esto es un mensaje de prueba y adios', 'contenttype': 'text', 'typingtime': 3, 'id_robot': 408, 'blocktype': 'informativo'}\n",
      "intenatando consulta...\n",
      "consulta: select * from bloqueinformativo where next_id= 'pruebaCorreo_01inicial_inicial' and namestate= 'prueba_inicio' and contenido= 'Hola, soy un chatbot y esto es un mensaje de prueba y adios' and contenttype= 'text' and typingtime= '3' and id_robot= '408' and blocktype= 'informativo' ;\n",
      "Datos enviados:\n",
      "{'namestate': 'prueba_inicio', 'contenido': 'Hola, soy un chatbot y esto es un mensaje de prueba y adios', 'next_id': 'pruebaCorreo_01inicial_inicial', 'blocktype': 'informativo', 'contenttype': 'text', 'typingtime': '3', 'id_block': 1222, 'id_robot': 408, 'opc_nextid': None, 'pos_y': None, 'pos_x': None, 'tag_active': None}\n",
      "Datos recibidos:\n",
      "{'next_id': 'pruebaCorreo_01inicial_inicial', 'namestate': 'prueba_qa', 'contenido': 'Vamos a ver si no truena', 'contenttype': 'text', 'typingtime': 7, 'id_robot': 408, 'blocktype': 'informativo'}\n"
     ]
    },
    {
     "name": "stderr",
     "output_type": "stream",
     "text": [
      "127.0.0.1 - - [18/Mar/2021 20:11:03] \"\u001b[37mPOST /insert/bloqueinformativo HTTP/1.1\u001b[0m\" 200 -\n",
      "127.0.0.1 - - [18/Mar/2021 20:11:03] \"\u001b[37mPOST /insert/bloqueinformativo HTTP/1.1\u001b[0m\" 200 -\n",
      "127.0.0.1 - - [18/Mar/2021 20:11:03] \"\u001b[37mPOST /insert/variables HTTP/1.1\u001b[0m\" 200 -\n"
     ]
    },
    {
     "name": "stdout",
     "output_type": "stream",
     "text": [
      "intenatando consulta...\n",
      "consulta: select * from bloqueinformativo where next_id= 'pruebaCorreo_01inicial_inicial' and namestate= 'prueba_qa' and contenido= 'Vamos a ver si no truena' and contenttype= 'text' and typingtime= '7' and id_robot= '408' and blocktype= 'informativo' ;\n",
      "Datos enviados:\n",
      "{'namestate': 'prueba_qa', 'contenido': 'Vamos a ver si no truena', 'next_id': 'pruebaCorreo_01inicial_inicial', 'blocktype': 'informativo', 'contenttype': 'text', 'typingtime': '7', 'id_block': 1223, 'id_robot': 408, 'opc_nextid': None, 'pos_y': None, 'pos_x': None, 'tag_active': None}\n",
      "Datos recibidos:\n",
      "{'next_id': 'Salida', 'namestate': 'prueba_dos', 'contenido': 'Puedo hacer muchas cosas, entre ellas despedirme. Adios', 'contenttype': 'text', 'typingtime': 3, 'id_robot': 408, 'blocktype': 'informativo'}\n",
      "intenatando consulta...\n",
      "consulta: select * from bloqueinformativo where next_id= 'Salida' and namestate= 'prueba_dos' and contenido= 'Puedo hacer muchas cosas, entre ellas despedirme. Adios' and contenttype= 'text' and typingtime= '3' and id_robot= '408' and blocktype= 'informativo' ;\n",
      "Datos enviados:\n",
      "{'namestate': 'prueba_dos', 'contenido': 'Puedo hacer muchas cosas, entre ellas despedirme. Adios', 'next_id': 'Salida', 'blocktype': 'informativo', 'contenttype': 'text', 'typingtime': '3', 'id_block': 1224, 'id_robot': 408, 'opc_nextid': None, 'pos_y': None, 'pos_x': None, 'tag_active': None}\n",
      "Datos recibidos:\n",
      "{'name_var': 'var_case', 'opc_type': 'Variable', 'var': 0, 'opc_data': 'Numerico', 'id_robot': 408}\n",
      "intenatando consulta...\n",
      "consulta: select * from variables where name_var= 'var_case' and opc_type= 'Variable' and var= '0' and opc_data= 'Numerico' and id_robot= '408' ;\n",
      "Datos enviados:\n",
      "{'id_var': 965, 'opc_type': 'Variable', 'opc_data': 'Numerico', 'var': '0', 'id_robot': 408, 'name_var': 'var_case'}\n"
     ]
    },
    {
     "name": "stderr",
     "output_type": "stream",
     "text": [
      "127.0.0.1 - - [18/Mar/2021 20:11:03] \"\u001b[37mPOST /insert/bloquequickreply HTTP/1.1\u001b[0m\" 200 -\n"
     ]
    },
    {
     "name": "stdout",
     "output_type": "stream",
     "text": [
      "Datos recibidos:\n",
      "{'contenido': '¿Cuál es tu correo?', 'opciones': 'email,otro', 'next_id': 'prueba_dos,prueba_slide', 'default_id': 'prueba_qa', 'namestate': 'pruebaCorreo_01inicial_inicial', 'typingtime': 3, 'id_robot': 408, 'id_var': 965, 'blocktype': 'quickReply'}\n",
      "intenatando consulta...\n",
      "consulta: select * from bloquequickreply where contenido= '¿Cuál es tu correo?' and opciones= 'email,otro' and next_id= 'prueba_dos,prueba_slide' and default_id= 'prueba_qa' and namestate= 'pruebaCorreo_01inicial_inicial' and typingtime= '3' and id_robot= '408' and id_var= '965' and blocktype= 'quickReply' ;\n",
      "Datos enviados:\n",
      "{'namestate': 'pruebaCorreo_01inicial_inicial', 'contenido': '¿Cuál es tu correo?', 'opciones': 'email,otro', 'next_id': 'prueba_dos,prueba_slide', 'blocktype': 'quickReply', 'typingtime': '3', 'default_id': 'prueba_qa', 'id_var': '965', 'id_block': 428, 'id_robot': 408, 'opc_nextid': None, 'pos_y': None, 'pos_x': None, 'tag_active': None}\n",
      "Datos recibidos:\n",
      "{'name_var': 'var_slideMenu', 'opc_type': 'Variable', 'var': 0, 'opc_data': 'Numerico', 'id_robot': 408}\n"
     ]
    },
    {
     "name": "stderr",
     "output_type": "stream",
     "text": [
      "127.0.0.1 - - [18/Mar/2021 20:11:03] \"\u001b[37mPOST /insert/variables HTTP/1.1\u001b[0m\" 200 -\n",
      "127.0.0.1 - - [18/Mar/2021 20:11:03] \"\u001b[37mPOST /insert/bloqueslide HTTP/1.1\u001b[0m\" 200 -\n",
      "127.0.0.1 - - [18/Mar/2021 20:11:03] \"\u001b[37mPOST /insert/elementos HTTP/1.1\u001b[0m\" 200 -\n"
     ]
    },
    {
     "name": "stdout",
     "output_type": "stream",
     "text": [
      "intenatando consulta...\n",
      "consulta: select * from variables where name_var= 'var_slideMenu' and opc_type= 'Variable' and var= '0' and opc_data= 'Numerico' and id_robot= '408' ;\n",
      "Datos enviados:\n",
      "{'id_var': 966, 'opc_type': 'Variable', 'opc_data': 'Numerico', 'var': '0', 'id_robot': 408, 'name_var': 'var_slideMenu'}\n",
      "Datos recibidos:\n",
      "{'namestate': 'prueba_slide', 'blocktype': 'slide', 'typingtime': 3, 'default_id': 'prueba_qa', 'id_var': 966, 'id_robot': 408}\n",
      "intenatando consulta...\n",
      "consulta: select * from bloqueslide where namestate= 'prueba_slide' and blocktype= 'slide' and typingtime= '3' and default_id= 'prueba_qa' and id_var= '966' and id_robot= '408' ;\n",
      "Datos enviados:\n",
      "{'namestate': 'prueba_slide', 'next_id': None, 'blocktype': 'slide', 'typingtime': '3', 'default_id': 'prueba_qa', 'id_var': '966', 'id_block': 190, 'id_robot': 408, 'opc_nextid': None, 'pos_y': None, 'pos_x': None, 'opc_elm': None, 'tag_active': None}\n",
      "Datos recibidos:\n",
      "{'title': 'Prueba titulo', 'image_url': 'https://st2.depositphotos.com/3008028/5540/i/600/depositphotos_55407975-stock-photo-royal-blue-background.jpg', 'subtitle': 'Esta es una prueba de carrusel.', 'blocktype': 'slide', 'id_block': 190}\n",
      "intenatando consulta...\n",
      "consulta: select * from elementos where title= 'Prueba titulo' and image_url= 'https://st2.depositphotos.com/3008028/5540/i/600/depositphotos_55407975-stock-photo-royal-blue-background.jpg' and subtitle= 'Esta es una prueba de carrusel.' and blocktype= 'slide' and id_block= '190' ;\n",
      "Datos enviados:\n",
      "{'blocktype': 'slide', 'title': 'Prueba titulo', 'image_url': 'https://st2.depositphotos.com/3008028/5540/i/600/depositphotos_55407975-stock-photo-royal-blue-background.jpg', 'subtitle': 'Esta es una prueba de carrusel.', 'id_block': 190, 'id_elements': 429}\n"
     ]
    },
    {
     "name": "stderr",
     "output_type": "stream",
     "text": [
      "127.0.0.1 - - [18/Mar/2021 20:11:03] \"\u001b[37mPOST /insert/botones HTTP/1.1\u001b[0m\" 200 -\n",
      "127.0.0.1 - - [18/Mar/2021 20:11:03] \"\u001b[37mPOST /insert/botones HTTP/1.1\u001b[0m\" 200 -\n"
     ]
    },
    {
     "name": "stdout",
     "output_type": "stream",
     "text": [
      "Datos recibidos:\n",
      "{'id_elemento': '429', 'titlebutton': 'Boton 1', 'typebutton': 'web_url', 'contentbutton': 'https://www.youtube.com/', 'opc_nextid': 'https://www.youtube.com/'}\n",
      "intenatando consulta...\n",
      "consulta: select * from botones where id_elemento= '429' and titlebutton= 'Boton 1' and typebutton= 'web_url' and contentbutton= 'https://www.youtube.com/' and opc_nextid= 'https://www.youtube.com/' ;\n",
      "Datos enviados:\n",
      "{'id_elemento': '429', 'titlebutton': 'Boton 1', 'typebutton': 'web_url', 'contentbutton': 'https://www.youtube.com/', 'id_boton': 670, 'opc_nextid': 'https://www.youtube.com/'}\n",
      "Datos recibidos:\n",
      "{'id_elemento': '429', 'titlebutton': 'Boton 2', 'typebutton': 'web_url', 'contentbutton': 'https://www.reddit.com/', 'opc_nextid': 'https://www.reddit.com/'}\n",
      "intenatando consulta...\n",
      "consulta: select * from botones where id_elemento= '429' and titlebutton= 'Boton 2' and typebutton= 'web_url' and contentbutton= 'https://www.reddit.com/' and opc_nextid= 'https://www.reddit.com/' ;\n",
      "Datos enviados:\n",
      "{'id_elemento': '429', 'titlebutton': 'Boton 2', 'typebutton': 'web_url', 'contentbutton': 'https://www.reddit.com/', 'id_boton': 671, 'opc_nextid': 'https://www.reddit.com/'}\n"
     ]
    },
    {
     "name": "stderr",
     "output_type": "stream",
     "text": [
      "127.0.0.1 - - [18/Mar/2021 20:14:32] \"\u001b[37mGET /select/robots HTTP/1.1\u001b[0m\" 200 -\n",
      "127.0.0.1 - - [18/Mar/2021 20:14:32] \"\u001b[37mPOST /insert/robots HTTP/1.1\u001b[0m\" 200 -\n",
      "127.0.0.1 - - [18/Mar/2021 20:14:32] \"\u001b[37mPOST /insert/bloqueinformativo HTTP/1.1\u001b[0m\" 200 -\n"
     ]
    },
    {
     "name": "stdout",
     "output_type": "stream",
     "text": [
      "Datos recibidos:\n",
      "{'name_robot': 'oliverBot', 'id_face': '2153123008120093', 'block_ini': 'prueba_inicio', 'type_blocki': 'quickreply', 'access_token': 'EAAHNkscg2TcBAMvebksfOxuFBpMeR5sUhzHTKtqdi6NkqQKZAdkeaGVJ9Yc5bNbvL3JLzCgB7EEqsVUTZADhidVcC3zJV1UZB4Uz0Hm3fZB9IETnWb4I8MoK8nxpenC1lYwnjwnRwMHVZA1FKw8d3A45t9xCxmPKnm6kIr5ZCA8wZDZD', 'id_user': 'oliverbp88@gmail.com', 'api_nlp': 'http://localhost:8282/'}\n",
      "intenatando consulta...\n",
      "consulta: select * from robots where id_face = '2153123008120093';\n",
      "La consulta no trajo nada\n",
      "Datos enviados:\n",
      "{'error': 'true'}\n",
      "Datos recibidos:\n",
      "{'name_robot': 'oliverBot', 'id_face': '2153123008120093', 'block_ini': 'prueba_inicio', 'type_blocki': 'quickreply', 'access_token': 'EAAHNkscg2TcBAMvebksfOxuFBpMeR5sUhzHTKtqdi6NkqQKZAdkeaGVJ9Yc5bNbvL3JLzCgB7EEqsVUTZADhidVcC3zJV1UZB4Uz0Hm3fZB9IETnWb4I8MoK8nxpenC1lYwnjwnRwMHVZA1FKw8d3A45t9xCxmPKnm6kIr5ZCA8wZDZD', 'id_user': 'oliverbp88@gmail.com', 'api_nlp': 'http://localhost:8282/'}\n",
      "intenatando consulta...\n",
      "consulta: select * from robots where id_face = '2153123008120093';\n",
      "Datos enviados:\n",
      "{'name_robot': 'oliverBot', 'id_face': '2153123008120093', 'block_ini': 'prueba_inicio', 'type_blocki': 'quickreply', 'access_token': 'EAAHNkscg2TcBAMvebksfOxuFBpMeR5sUhzHTKtqdi6NkqQKZAdkeaGVJ9Yc5bNbvL3JLzCgB7EEqsVUTZADhidVcC3zJV1UZB4Uz0Hm3fZB9IETnWb4I8MoK8nxpenC1lYwnjwnRwMHVZA1FKw8d3A45t9xCxmPKnm6kIr5ZCA8wZDZD', 'api_nlp': 'http://localhost:8282/', 'id_robot': 409, 'id_user': 'oliverbp88@gmail.com'}\n",
      "Datos recibidos:\n",
      "{'next_id': 'pruebaCorreo_01inicial_inicial', 'namestate': 'prueba_inicio', 'contenido': 'Hola, soy un chatbot y esto es un mensaje de prueba y adios', 'contenttype': 'text', 'typingtime': 3, 'id_robot': 409, 'blocktype': 'informativo'}\n",
      "intenatando consulta...\n",
      "consulta: select * from bloqueinformativo where next_id= 'pruebaCorreo_01inicial_inicial' and namestate= 'prueba_inicio' and contenido= 'Hola, soy un chatbot y esto es un mensaje de prueba y adios' and contenttype= 'text' and typingtime= '3' and id_robot= '409' and blocktype= 'informativo' ;\n",
      "Datos enviados:\n",
      "{'namestate': 'prueba_inicio', 'contenido': 'Hola, soy un chatbot y esto es un mensaje de prueba y adios', 'next_id': 'pruebaCorreo_01inicial_inicial', 'blocktype': 'informativo', 'contenttype': 'text', 'typingtime': '3', 'id_block': 1225, 'id_robot': 409, 'opc_nextid': None, 'pos_y': None, 'pos_x': None, 'tag_active': None}\n"
     ]
    },
    {
     "name": "stderr",
     "output_type": "stream",
     "text": [
      "127.0.0.1 - - [18/Mar/2021 20:14:32] \"\u001b[37mPOST /insert/bloqueinformativo HTTP/1.1\u001b[0m\" 200 -\n",
      "127.0.0.1 - - [18/Mar/2021 20:14:32] \"\u001b[37mPOST /insert/bloqueinformativo HTTP/1.1\u001b[0m\" 200 -\n"
     ]
    },
    {
     "name": "stdout",
     "output_type": "stream",
     "text": [
      "Datos recibidos:\n",
      "{'next_id': 'pruebaCorreo_01inicial_inicial', 'namestate': 'prueba_qa', 'contenido': 'Vamos a ver si no truena', 'contenttype': 'text', 'typingtime': 7, 'id_robot': 409, 'blocktype': 'informativo'}\n",
      "intenatando consulta...\n",
      "consulta: select * from bloqueinformativo where next_id= 'pruebaCorreo_01inicial_inicial' and namestate= 'prueba_qa' and contenido= 'Vamos a ver si no truena' and contenttype= 'text' and typingtime= '7' and id_robot= '409' and blocktype= 'informativo' ;\n",
      "Datos enviados:\n",
      "{'namestate': 'prueba_qa', 'contenido': 'Vamos a ver si no truena', 'next_id': 'pruebaCorreo_01inicial_inicial', 'blocktype': 'informativo', 'contenttype': 'text', 'typingtime': '7', 'id_block': 1226, 'id_robot': 409, 'opc_nextid': None, 'pos_y': None, 'pos_x': None, 'tag_active': None}\n",
      "Datos recibidos:\n",
      "{'next_id': 'Salida', 'namestate': 'prueba_dos', 'contenido': 'Puedo hacer muchas cosas, entre ellas despedirme. Adios', 'contenttype': 'text', 'typingtime': 3, 'id_robot': 409, 'blocktype': 'informativo'}\n",
      "intenatando consulta...\n",
      "consulta: select * from bloqueinformativo where next_id= 'Salida' and namestate= 'prueba_dos' and contenido= 'Puedo hacer muchas cosas, entre ellas despedirme. Adios' and contenttype= 'text' and typingtime= '3' and id_robot= '409' and blocktype= 'informativo' ;\n",
      "Datos enviados:\n",
      "{'namestate': 'prueba_dos', 'contenido': 'Puedo hacer muchas cosas, entre ellas despedirme. Adios', 'next_id': 'Salida', 'blocktype': 'informativo', 'contenttype': 'text', 'typingtime': '3', 'id_block': 1227, 'id_robot': 409, 'opc_nextid': None, 'pos_y': None, 'pos_x': None, 'tag_active': None}\n",
      "Datos recibidos:\n",
      "{'name_var': 'var_case', 'opc_type': 'Variable', 'var': 0, 'opc_data': 'Numerico', 'id_robot': 409}\n",
      "intenatando consulta...\n",
      "consulta: select * from variables where name_var= 'var_case' and opc_type= 'Variable' and var= '0' and opc_data= 'Numerico' and id_robot= '409' ;\n"
     ]
    },
    {
     "name": "stderr",
     "output_type": "stream",
     "text": [
      "127.0.0.1 - - [18/Mar/2021 20:14:32] \"\u001b[37mPOST /insert/variables HTTP/1.1\u001b[0m\" 200 -\n",
      "127.0.0.1 - - [18/Mar/2021 20:14:32] \"\u001b[37mPOST /insert/bloquequickreply HTTP/1.1\u001b[0m\" 200 -\n",
      "127.0.0.1 - - [18/Mar/2021 20:14:32] \"\u001b[37mPOST /insert/variables HTTP/1.1\u001b[0m\" 200 -\n"
     ]
    },
    {
     "name": "stdout",
     "output_type": "stream",
     "text": [
      "Datos enviados:\n",
      "{'id_var': 967, 'opc_type': 'Variable', 'opc_data': 'Numerico', 'var': '0', 'id_robot': 409, 'name_var': 'var_case'}\n",
      "Datos recibidos:\n",
      "{'contenido': '¿Cuál es tu correo?', 'opciones': 'email,otro', 'next_id': 'prueba_dos,prueba_slide', 'default_id': 'prueba_qa', 'namestate': 'pruebaCorreo_01inicial_inicial', 'typingtime': 3, 'id_robot': 409, 'id_var': 967, 'blocktype': 'quickReply'}\n",
      "intenatando consulta...\n",
      "consulta: select * from bloquequickreply where contenido= '¿Cuál es tu correo?' and opciones= 'email,otro' and next_id= 'prueba_dos,prueba_slide' and default_id= 'prueba_qa' and namestate= 'pruebaCorreo_01inicial_inicial' and typingtime= '3' and id_robot= '409' and id_var= '967' and blocktype= 'quickReply' ;\n",
      "Datos enviados:\n",
      "{'namestate': 'pruebaCorreo_01inicial_inicial', 'contenido': '¿Cuál es tu correo?', 'opciones': 'email,otro', 'next_id': 'prueba_dos,prueba_slide', 'blocktype': 'quickReply', 'typingtime': '3', 'default_id': 'prueba_qa', 'id_var': '967', 'id_block': 429, 'id_robot': 409, 'opc_nextid': None, 'pos_y': None, 'pos_x': None, 'tag_active': None}\n",
      "Datos recibidos:\n",
      "{'name_var': 'var_slideMenu', 'opc_type': 'Variable', 'var': 0, 'opc_data': 'Numerico', 'id_robot': 409}\n",
      "intenatando consulta...\n",
      "consulta: select * from variables where name_var= 'var_slideMenu' and opc_type= 'Variable' and var= '0' and opc_data= 'Numerico' and id_robot= '409' ;\n",
      "Datos enviados:\n",
      "{'id_var': 968, 'opc_type': 'Variable', 'opc_data': 'Numerico', 'var': '0', 'id_robot': 409, 'name_var': 'var_slideMenu'}\n",
      "Datos recibidos:\n",
      "{'namestate': 'prueba_slide', 'blocktype': 'slide', 'typingtime': 3, 'default_id': 'prueba_qa', 'id_var': 968, 'id_robot': 409}\n"
     ]
    },
    {
     "name": "stderr",
     "output_type": "stream",
     "text": [
      "127.0.0.1 - - [18/Mar/2021 20:14:32] \"\u001b[37mPOST /insert/bloqueslide HTTP/1.1\u001b[0m\" 200 -\n",
      "127.0.0.1 - - [18/Mar/2021 20:14:33] \"\u001b[37mPOST /insert/elementos HTTP/1.1\u001b[0m\" 200 -\n",
      "127.0.0.1 - - [18/Mar/2021 20:14:33] \"\u001b[37mPOST /insert/botones HTTP/1.1\u001b[0m\" 200 -\n"
     ]
    },
    {
     "name": "stdout",
     "output_type": "stream",
     "text": [
      "intenatando consulta...\n",
      "consulta: select * from bloqueslide where namestate= 'prueba_slide' and blocktype= 'slide' and typingtime= '3' and default_id= 'prueba_qa' and id_var= '968' and id_robot= '409' ;\n",
      "Datos enviados:\n",
      "{'namestate': 'prueba_slide', 'next_id': None, 'blocktype': 'slide', 'typingtime': '3', 'default_id': 'prueba_qa', 'id_var': '968', 'id_block': 191, 'id_robot': 409, 'opc_nextid': None, 'pos_y': None, 'pos_x': None, 'opc_elm': None, 'tag_active': None}\n",
      "Datos recibidos:\n",
      "{'title': 'Prueba titulo', 'image_url': 'https://st2.depositphotos.com/3008028/5540/i/600/depositphotos_55407975-stock-photo-royal-blue-background.jpg', 'subtitle': 'Esta es una prueba de carrusel.', 'blocktype': 'slide', 'id_block': 191}\n",
      "intenatando consulta...\n",
      "consulta: select * from elementos where title= 'Prueba titulo' and image_url= 'https://st2.depositphotos.com/3008028/5540/i/600/depositphotos_55407975-stock-photo-royal-blue-background.jpg' and subtitle= 'Esta es una prueba de carrusel.' and blocktype= 'slide' and id_block= '191' ;\n",
      "Datos enviados:\n",
      "{'blocktype': 'slide', 'title': 'Prueba titulo', 'image_url': 'https://st2.depositphotos.com/3008028/5540/i/600/depositphotos_55407975-stock-photo-royal-blue-background.jpg', 'subtitle': 'Esta es una prueba de carrusel.', 'id_block': 191, 'id_elements': 430}\n",
      "Datos recibidos:\n",
      "{'id_elemento': '430', 'titlebutton': 'Boton 1', 'typebutton': 'web_url', 'contentbutton': 'https://www.youtube.com/', 'opc_nextid': 'https://www.youtube.com/'}\n",
      "intenatando consulta...\n",
      "consulta: select * from botones where id_elemento= '430' and titlebutton= 'Boton 1' and typebutton= 'web_url' and contentbutton= 'https://www.youtube.com/' and opc_nextid= 'https://www.youtube.com/' ;\n",
      "Datos enviados:\n",
      "{'id_elemento': '430', 'titlebutton': 'Boton 1', 'typebutton': 'web_url', 'contentbutton': 'https://www.youtube.com/', 'id_boton': 672, 'opc_nextid': 'https://www.youtube.com/'}\n",
      "Datos recibidos:\n",
      "{'id_elemento': '430', 'titlebutton': 'Boton 2', 'typebutton': 'web_url', 'contentbutton': 'https://www.reddit.com/', 'opc_nextid': 'https://www.reddit.com/'}\n"
     ]
    },
    {
     "name": "stderr",
     "output_type": "stream",
     "text": [
      "127.0.0.1 - - [18/Mar/2021 20:14:33] \"\u001b[37mPOST /insert/botones HTTP/1.1\u001b[0m\" 200 -\n"
     ]
    },
    {
     "name": "stdout",
     "output_type": "stream",
     "text": [
      "intenatando consulta...\n",
      "consulta: select * from botones where id_elemento= '430' and titlebutton= 'Boton 2' and typebutton= 'web_url' and contentbutton= 'https://www.reddit.com/' and opc_nextid= 'https://www.reddit.com/' ;\n",
      "Datos enviados:\n",
      "{'id_elemento': '430', 'titlebutton': 'Boton 2', 'typebutton': 'web_url', 'contentbutton': 'https://www.reddit.com/', 'id_boton': 673, 'opc_nextid': 'https://www.reddit.com/'}\n"
     ]
    },
    {
     "name": "stderr",
     "output_type": "stream",
     "text": [
      "127.0.0.1 - - [18/Mar/2021 20:19:15] \"\u001b[37mGET /select/robots HTTP/1.1\u001b[0m\" 200 -\n",
      "127.0.0.1 - - [18/Mar/2021 20:19:15] \"\u001b[37mPOST /insert/robots HTTP/1.1\u001b[0m\" 200 -\n"
     ]
    },
    {
     "name": "stdout",
     "output_type": "stream",
     "text": [
      "Datos recibidos:\n",
      "{'name_robot': 'oliverBot', 'id_face': '2153123008120093', 'block_ini': 'prueba_inicio', 'type_blocki': 'quickreply', 'access_token': 'EAAHNkscg2TcBAMvebksfOxuFBpMeR5sUhzHTKtqdi6NkqQKZAdkeaGVJ9Yc5bNbvL3JLzCgB7EEqsVUTZADhidVcC3zJV1UZB4Uz0Hm3fZB9IETnWb4I8MoK8nxpenC1lYwnjwnRwMHVZA1FKw8d3A45t9xCxmPKnm6kIr5ZCA8wZDZD', 'id_user': 'oliverbp88@gmail.com', 'api_nlp': 'http://localhost:8282/'}\n",
      "intenatando consulta...\n",
      "consulta: select * from robots where id_face = '2153123008120093';\n",
      "La consulta no trajo nada\n",
      "Datos enviados:\n",
      "{'error': 'true'}\n",
      "Datos recibidos:\n",
      "{'name_robot': 'oliverBot', 'id_face': '2153123008120093', 'block_ini': 'prueba_inicio', 'type_blocki': 'quickreply', 'access_token': 'EAAHNkscg2TcBAMvebksfOxuFBpMeR5sUhzHTKtqdi6NkqQKZAdkeaGVJ9Yc5bNbvL3JLzCgB7EEqsVUTZADhidVcC3zJV1UZB4Uz0Hm3fZB9IETnWb4I8MoK8nxpenC1lYwnjwnRwMHVZA1FKw8d3A45t9xCxmPKnm6kIr5ZCA8wZDZD', 'id_user': 'oliverbp88@gmail.com', 'api_nlp': 'http://localhost:8282/'}\n",
      "intenatando consulta...\n",
      "consulta: select * from robots where id_face = '2153123008120093';\n",
      "Datos enviados:\n",
      "{'name_robot': 'oliverBot', 'id_face': '2153123008120093', 'block_ini': 'prueba_inicio', 'type_blocki': 'quickreply', 'access_token': 'EAAHNkscg2TcBAMvebksfOxuFBpMeR5sUhzHTKtqdi6NkqQKZAdkeaGVJ9Yc5bNbvL3JLzCgB7EEqsVUTZADhidVcC3zJV1UZB4Uz0Hm3fZB9IETnWb4I8MoK8nxpenC1lYwnjwnRwMHVZA1FKw8d3A45t9xCxmPKnm6kIr5ZCA8wZDZD', 'api_nlp': 'http://localhost:8282/', 'id_robot': 410, 'id_user': 'oliverbp88@gmail.com'}\n",
      "Datos recibidos:\n",
      "{'next_id': 'pruebaCorreo_01inicial_inicial', 'namestate': 'prueba_inicio', 'contenido': 'Hola, soy un chatbot y esto es un mensaje de prueba y adios', 'contenttype': 'text', 'typingtime': 3, 'id_robot': 410, 'blocktype': 'informativo'}\n",
      "intenatando consulta...\n",
      "consulta: select * from bloqueinformativo where next_id= 'pruebaCorreo_01inicial_inicial' and namestate= 'prueba_inicio' and contenido= 'Hola, soy un chatbot y esto es un mensaje de prueba y adios' and contenttype= 'text' and typingtime= '3' and id_robot= '410' and blocktype= 'informativo' ;\n"
     ]
    },
    {
     "name": "stderr",
     "output_type": "stream",
     "text": [
      "127.0.0.1 - - [18/Mar/2021 20:19:15] \"\u001b[37mPOST /insert/bloqueinformativo HTTP/1.1\u001b[0m\" 200 -\n",
      "127.0.0.1 - - [18/Mar/2021 20:19:16] \"\u001b[37mPOST /insert/bloqueinformativo HTTP/1.1\u001b[0m\" 200 -\n",
      "127.0.0.1 - - [18/Mar/2021 20:19:16] \"\u001b[37mPOST /insert/bloqueinformativo HTTP/1.1\u001b[0m\" 200 -\n"
     ]
    },
    {
     "name": "stdout",
     "output_type": "stream",
     "text": [
      "Datos enviados:\n",
      "{'namestate': 'prueba_inicio', 'contenido': 'Hola, soy un chatbot y esto es un mensaje de prueba y adios', 'next_id': 'pruebaCorreo_01inicial_inicial', 'blocktype': 'informativo', 'contenttype': 'text', 'typingtime': '3', 'id_block': 1228, 'id_robot': 410, 'opc_nextid': None, 'pos_y': None, 'pos_x': None, 'tag_active': None}\n",
      "Datos recibidos:\n",
      "{'next_id': 'pruebaCorreo_01inicial_inicial', 'namestate': 'prueba_qa', 'contenido': 'Vamos a ver si no truena', 'contenttype': 'text', 'typingtime': 7, 'id_robot': 410, 'blocktype': 'informativo'}\n",
      "intenatando consulta...\n",
      "consulta: select * from bloqueinformativo where next_id= 'pruebaCorreo_01inicial_inicial' and namestate= 'prueba_qa' and contenido= 'Vamos a ver si no truena' and contenttype= 'text' and typingtime= '7' and id_robot= '410' and blocktype= 'informativo' ;\n",
      "Datos enviados:\n",
      "{'namestate': 'prueba_qa', 'contenido': 'Vamos a ver si no truena', 'next_id': 'pruebaCorreo_01inicial_inicial', 'blocktype': 'informativo', 'contenttype': 'text', 'typingtime': '7', 'id_block': 1229, 'id_robot': 410, 'opc_nextid': None, 'pos_y': None, 'pos_x': None, 'tag_active': None}\n",
      "Datos recibidos:\n",
      "{'next_id': 'Salida', 'namestate': 'prueba_dos', 'contenido': 'Puedo hacer muchas cosas, entre ellas despedirme. Adios', 'contenttype': 'text', 'typingtime': 3, 'id_robot': 410, 'blocktype': 'informativo'}\n",
      "intenatando consulta...\n",
      "consulta: select * from bloqueinformativo where next_id= 'Salida' and namestate= 'prueba_dos' and contenido= 'Puedo hacer muchas cosas, entre ellas despedirme. Adios' and contenttype= 'text' and typingtime= '3' and id_robot= '410' and blocktype= 'informativo' ;\n",
      "Datos enviados:\n",
      "{'namestate': 'prueba_dos', 'contenido': 'Puedo hacer muchas cosas, entre ellas despedirme. Adios', 'next_id': 'Salida', 'blocktype': 'informativo', 'contenttype': 'text', 'typingtime': '3', 'id_block': 1230, 'id_robot': 410, 'opc_nextid': None, 'pos_y': None, 'pos_x': None, 'tag_active': None}\n"
     ]
    },
    {
     "name": "stderr",
     "output_type": "stream",
     "text": [
      "127.0.0.1 - - [18/Mar/2021 20:19:16] \"\u001b[37mPOST /insert/variables HTTP/1.1\u001b[0m\" 200 -\n",
      "127.0.0.1 - - [18/Mar/2021 20:19:16] \"\u001b[37mPOST /insert/bloquequickreply HTTP/1.1\u001b[0m\" 200 -\n"
     ]
    },
    {
     "name": "stdout",
     "output_type": "stream",
     "text": [
      "Datos recibidos:\n",
      "{'name_var': 'var_case', 'opc_type': 'Variable', 'var': 0, 'opc_data': 'Numerico', 'id_robot': 410}\n",
      "intenatando consulta...\n",
      "consulta: select * from variables where name_var= 'var_case' and opc_type= 'Variable' and var= '0' and opc_data= 'Numerico' and id_robot= '410' ;\n",
      "Datos enviados:\n",
      "{'id_var': 969, 'opc_type': 'Variable', 'opc_data': 'Numerico', 'var': '0', 'id_robot': 410, 'name_var': 'var_case'}\n",
      "Datos recibidos:\n",
      "{'contenido': '¿Cuál es tu correo?', 'opciones': 'email,otro', 'next_id': 'prueba_dos,prueba_slide', 'default_id': 'prueba_qa', 'namestate': 'pruebaCorreo_01inicial_inicial', 'typingtime': 3, 'id_robot': 410, 'id_var': 969, 'blocktype': 'quickReply'}\n",
      "intenatando consulta...\n",
      "consulta: select * from bloquequickreply where contenido= '¿Cuál es tu correo?' and opciones= 'email,otro' and next_id= 'prueba_dos,prueba_slide' and default_id= 'prueba_qa' and namestate= 'pruebaCorreo_01inicial_inicial' and typingtime= '3' and id_robot= '410' and id_var= '969' and blocktype= 'quickReply' ;\n",
      "Datos enviados:\n",
      "{'namestate': 'pruebaCorreo_01inicial_inicial', 'contenido': '¿Cuál es tu correo?', 'opciones': 'email,otro', 'next_id': 'prueba_dos,prueba_slide', 'blocktype': 'quickReply', 'typingtime': '3', 'default_id': 'prueba_qa', 'id_var': '969', 'id_block': 430, 'id_robot': 410, 'opc_nextid': None, 'pos_y': None, 'pos_x': None, 'tag_active': None}\n",
      "Datos recibidos:\n",
      "{'name_var': 'var_slideMenu', 'opc_type': 'Variable', 'var': 0, 'opc_data': 'Numerico', 'id_robot': 410}\n",
      "intenatando consulta...\n",
      "consulta: select * from variables where name_var= 'var_slideMenu' and opc_type= 'Variable' and var= '0' and opc_data= 'Numerico' and id_robot= '410' ;\n"
     ]
    },
    {
     "name": "stderr",
     "output_type": "stream",
     "text": [
      "127.0.0.1 - - [18/Mar/2021 20:19:16] \"\u001b[37mPOST /insert/variables HTTP/1.1\u001b[0m\" 200 -\n",
      "127.0.0.1 - - [18/Mar/2021 20:19:16] \"\u001b[37mPOST /insert/bloqueslide HTTP/1.1\u001b[0m\" 200 -\n",
      "127.0.0.1 - - [18/Mar/2021 20:19:16] \"\u001b[37mPOST /insert/elementos HTTP/1.1\u001b[0m\" 200 -\n"
     ]
    },
    {
     "name": "stdout",
     "output_type": "stream",
     "text": [
      "Datos enviados:\n",
      "{'id_var': 970, 'opc_type': 'Variable', 'opc_data': 'Numerico', 'var': '0', 'id_robot': 410, 'name_var': 'var_slideMenu'}\n",
      "Datos recibidos:\n",
      "{'namestate': 'prueba_slide', 'blocktype': 'slide', 'typingtime': 3, 'default_id': 'prueba_qa', 'id_var': 970, 'id_robot': 410}\n",
      "intenatando consulta...\n",
      "consulta: select * from bloqueslide where namestate= 'prueba_slide' and blocktype= 'slide' and typingtime= '3' and default_id= 'prueba_qa' and id_var= '970' and id_robot= '410' ;\n",
      "Datos enviados:\n",
      "{'namestate': 'prueba_slide', 'next_id': None, 'blocktype': 'slide', 'typingtime': '3', 'default_id': 'prueba_qa', 'id_var': '970', 'id_block': 192, 'id_robot': 410, 'opc_nextid': None, 'pos_y': None, 'pos_x': None, 'opc_elm': None, 'tag_active': None}\n",
      "Datos recibidos:\n",
      "{'title': 'Prueba titulo', 'image_url': 'https://st2.depositphotos.com/3008028/5540/i/600/depositphotos_55407975-stock-photo-royal-blue-background.jpg', 'subtitle': 'Esta es una prueba de carrusel.', 'blocktype': 'slide', 'id_block': 192}\n",
      "intenatando consulta...\n",
      "consulta: select * from elementos where title= 'Prueba titulo' and image_url= 'https://st2.depositphotos.com/3008028/5540/i/600/depositphotos_55407975-stock-photo-royal-blue-background.jpg' and subtitle= 'Esta es una prueba de carrusel.' and blocktype= 'slide' and id_block= '192' ;\n",
      "Datos enviados:\n",
      "{'blocktype': 'slide', 'title': 'Prueba titulo', 'image_url': 'https://st2.depositphotos.com/3008028/5540/i/600/depositphotos_55407975-stock-photo-royal-blue-background.jpg', 'subtitle': 'Esta es una prueba de carrusel.', 'id_block': 192, 'id_elements': 431}\n",
      "Datos recibidos:\n",
      "{'id_elemento': '431', 'titlebutton': 'Boton 1', 'typebutton': 'web_url', 'contentbutton': 'https://www.youtube.com/', 'opc_nextid': 'https://www.youtube.com/'}\n"
     ]
    },
    {
     "name": "stderr",
     "output_type": "stream",
     "text": [
      "127.0.0.1 - - [18/Mar/2021 20:19:16] \"\u001b[37mPOST /insert/botones HTTP/1.1\u001b[0m\" 200 -\n",
      "127.0.0.1 - - [18/Mar/2021 20:19:16] \"\u001b[37mPOST /insert/botones HTTP/1.1\u001b[0m\" 200 -\n"
     ]
    },
    {
     "name": "stdout",
     "output_type": "stream",
     "text": [
      "intenatando consulta...\n",
      "consulta: select * from botones where id_elemento= '431' and titlebutton= 'Boton 1' and typebutton= 'web_url' and contentbutton= 'https://www.youtube.com/' and opc_nextid= 'https://www.youtube.com/' ;\n",
      "Datos enviados:\n",
      "{'id_elemento': '431', 'titlebutton': 'Boton 1', 'typebutton': 'web_url', 'contentbutton': 'https://www.youtube.com/', 'id_boton': 674, 'opc_nextid': 'https://www.youtube.com/'}\n",
      "Datos recibidos:\n",
      "{'id_elemento': '431', 'titlebutton': 'Boton 2', 'typebutton': 'web_url', 'contentbutton': 'https://www.reddit.com/', 'opc_nextid': 'https://www.reddit.com/'}\n",
      "intenatando consulta...\n",
      "consulta: select * from botones where id_elemento= '431' and titlebutton= 'Boton 2' and typebutton= 'web_url' and contentbutton= 'https://www.reddit.com/' and opc_nextid= 'https://www.reddit.com/' ;\n",
      "Datos enviados:\n",
      "{'id_elemento': '431', 'titlebutton': 'Boton 2', 'typebutton': 'web_url', 'contentbutton': 'https://www.reddit.com/', 'id_boton': 675, 'opc_nextid': 'https://www.reddit.com/'}\n"
     ]
    },
    {
     "name": "stderr",
     "output_type": "stream",
     "text": [
      "127.0.0.1 - - [18/Mar/2021 20:20:36] \"\u001b[37mGET /select/robots HTTP/1.1\u001b[0m\" 200 -\n",
      "127.0.0.1 - - [18/Mar/2021 20:20:36] \"\u001b[37mPOST /insert/robots HTTP/1.1\u001b[0m\" 200 -\n",
      "127.0.0.1 - - [18/Mar/2021 20:20:36] \"\u001b[37mPOST /insert/bloqueinformativo HTTP/1.1\u001b[0m\" 200 -\n"
     ]
    },
    {
     "name": "stdout",
     "output_type": "stream",
     "text": [
      "Datos recibidos:\n",
      "{'name_robot': 'charlybot', 'id_face': '111445520541316', 'block_ini': 'prueba_inicio', 'type_blocki': 'informativo', 'access_token': 'EAALZCCZBzPwfkBAAo7njAlW7s4DTj1ZCs5v1ung1MhEyMlJXOOtiG8r7JcBgXVPhZBHkJONyTB6jKG470UyqGPWn4aDPnisgtT2ZCZAwQIjQgZAZBufZBJXmHz6mPKSgdmP6ikDA87vocZBay2dfQdz1OYezmYbxwfILXUvXtjUMZAniQZDZD', 'id_user': 'charlygoldcruz@gmail.com', 'api_nlp': 'http://localhost:8282/'}\n",
      "intenatando consulta...\n",
      "consulta: select * from robots where id_face = '111445520541316';\n",
      "La consulta no trajo nada\n",
      "Datos enviados:\n",
      "{'error': 'true'}\n",
      "Datos recibidos:\n",
      "{'name_robot': 'charlybot', 'id_face': '111445520541316', 'block_ini': 'prueba_inicio', 'type_blocki': 'informativo', 'access_token': 'EAALZCCZBzPwfkBAAo7njAlW7s4DTj1ZCs5v1ung1MhEyMlJXOOtiG8r7JcBgXVPhZBHkJONyTB6jKG470UyqGPWn4aDPnisgtT2ZCZAwQIjQgZAZBufZBJXmHz6mPKSgdmP6ikDA87vocZBay2dfQdz1OYezmYbxwfILXUvXtjUMZAniQZDZD', 'id_user': 'charlygoldcruz@gmail.com', 'api_nlp': 'http://localhost:8282/'}\n",
      "intenatando consulta...\n",
      "consulta: select * from robots where id_face = '111445520541316';\n",
      "Datos enviados:\n",
      "{'name_robot': 'charlybot', 'id_face': '111445520541316', 'block_ini': 'prueba_inicio', 'type_blocki': 'informativo', 'access_token': 'EAALZCCZBzPwfkBAAo7njAlW7s4DTj1ZCs5v1ung1MhEyMlJXOOtiG8r7JcBgXVPhZBHkJONyTB6jKG470UyqGPWn4aDPnisgtT2ZCZAwQIjQgZAZBufZBJXmHz6mPKSgdmP6ikDA87vocZBay2dfQdz1OYezmYbxwfILXUvXtjUMZAniQZDZD', 'api_nlp': 'http://localhost:8282/', 'id_robot': 411, 'id_user': 'charlygoldcruz@gmail.com'}\n",
      "Datos recibidos:\n",
      "{'next_id': 'prueba_captura', 'namestate': 'prueba_inicio', 'contenido': 'Hola, soy un chatbot y esto es un mensaje de prueba y adios', 'contenttype': 'text', 'typingtime': 3, 'id_robot': 411, 'blocktype': 'informativo'}\n",
      "intenatando consulta...\n",
      "consulta: select * from bloqueinformativo where next_id= 'prueba_captura' and namestate= 'prueba_inicio' and contenido= 'Hola, soy un chatbot y esto es un mensaje de prueba y adios' and contenttype= 'text' and typingtime= '3' and id_robot= '411' and blocktype= 'informativo' ;\n",
      "Datos enviados:\n",
      "{'namestate': 'prueba_inicio', 'contenido': 'Hola, soy un chatbot y esto es un mensaje de prueba y adios', 'next_id': 'prueba_captura', 'blocktype': 'informativo', 'contenttype': 'text', 'typingtime': '3', 'id_block': 1231, 'id_robot': 411, 'opc_nextid': None, 'pos_y': None, 'pos_x': None, 'tag_active': None}\n",
      "Datos recibidos:\n",
      "{'name_var': 'email', 'opc_type': 'Variable', 'var': 0, 'opc_data': 'String', 'id_robot': 411}\n"
     ]
    },
    {
     "name": "stderr",
     "output_type": "stream",
     "text": [
      "127.0.0.1 - - [18/Mar/2021 20:20:36] \"\u001b[37mPOST /insert/variables HTTP/1.1\u001b[0m\" 200 -\n",
      "127.0.0.1 - - [18/Mar/2021 20:20:36] \"\u001b[37mPOST /insert/bloqueinput HTTP/1.1\u001b[0m\" 200 -\n",
      "127.0.0.1 - - [18/Mar/2021 20:20:36] \"\u001b[37mPOST /insert/bloqueinformativo HTTP/1.1\u001b[0m\" 200 -\n"
     ]
    },
    {
     "name": "stdout",
     "output_type": "stream",
     "text": [
      "intenatando consulta...\n",
      "consulta: select * from variables where name_var= 'email' and opc_type= 'Variable' and var= '0' and opc_data= 'String' and id_robot= '411' ;\n",
      "Datos enviados:\n",
      "{'id_var': 971, 'opc_type': 'Variable', 'opc_data': 'String', 'var': '0', 'id_robot': 411, 'name_var': 'email'}\n",
      "Datos recibidos:\n",
      "{'next_id': 'pruebaCorreo_01inicial_inicial', 'default_id': 'prueba_captura', 'namestate': 'prueba_captura', 'contenido': 'introduce tu correo', 'contenttype': 'text', 'typingtime': 3, 'validacion': '^[a-z0-9]+[\\\\._]?[a-z0-9]+[@]\\\\w+[.]\\\\w{2,3}$', 'id_robot': 411, 'id_var': 971, 'blocktype': 'input'}\n",
      "intenatando consulta...\n",
      "consulta: select * from bloqueinput where next_id= 'pruebaCorreo_01inicial_inicial' and default_id= 'prueba_captura' and namestate= 'prueba_captura' and contenido= 'introduce tu correo' and contenttype= 'text' and typingtime= '3' and validacion= '^[a-z0-9]+[\\._]?[a-z0-9]+[@]\\w+[.]\\w{2,3}$' and id_robot= '411' and id_var= '971' and blocktype= 'input' ;\n",
      "Datos enviados:\n",
      "{'namestate': 'prueba_captura', 'contenido': 'introduce tu correo', 'next_id': 'pruebaCorreo_01inicial_inicial', 'blocktype': 'input', 'contenttype': 'text', 'typingtime': '3', 'validacion': '^[a-z0-9]+[\\\\._]?[a-z0-9]+[@]\\\\w+[.]\\\\w{2,3}$', 'default_id': 'prueba_captura', 'id_var': '971', 'id_block': 149, 'id_robot': 411, 'opc_nextid': None, 'pos_y': None, 'pos_x': None, 'tag_active': None}\n",
      "Datos recibidos:\n",
      "{'next_id': 'pruebaCorreo_01inicial_inicial', 'namestate': 'prueba_qa', 'contenido': 'Vamos a ver si no truena', 'contenttype': 'text', 'typingtime': 7, 'id_robot': 411, 'blocktype': 'informativo'}\n",
      "intenatando consulta...\n",
      "consulta: select * from bloqueinformativo where next_id= 'pruebaCorreo_01inicial_inicial' and namestate= 'prueba_qa' and contenido= 'Vamos a ver si no truena' and contenttype= 'text' and typingtime= '7' and id_robot= '411' and blocktype= 'informativo' ;\n",
      "Datos enviados:\n",
      "{'namestate': 'prueba_qa', 'contenido': 'Vamos a ver si no truena', 'next_id': 'pruebaCorreo_01inicial_inicial', 'blocktype': 'informativo', 'contenttype': 'text', 'typingtime': '7', 'id_block': 1232, 'id_robot': 411, 'opc_nextid': None, 'pos_y': None, 'pos_x': None, 'tag_active': None}\n",
      "Datos recibidos:\n",
      "{'next_id': 'Salida', 'namestate': 'prueba_dos', 'contenido': 'Puedo hacer muchas cosas, entre ellas despedirme. Adios', 'contenttype': 'text', 'typingtime': 3, 'id_robot': 411, 'blocktype': 'informativo'}\n"
     ]
    },
    {
     "name": "stderr",
     "output_type": "stream",
     "text": [
      "127.0.0.1 - - [18/Mar/2021 20:20:36] \"\u001b[37mPOST /insert/bloqueinformativo HTTP/1.1\u001b[0m\" 200 -\n",
      "127.0.0.1 - - [18/Mar/2021 20:20:36] \"\u001b[37mPOST /insert/variables HTTP/1.1\u001b[0m\" 200 -\n",
      "127.0.0.1 - - [18/Mar/2021 20:20:36] \"\u001b[37mPOST /insert/bloquequickreply HTTP/1.1\u001b[0m\" 200 -\n"
     ]
    },
    {
     "name": "stdout",
     "output_type": "stream",
     "text": [
      "intenatando consulta...\n",
      "consulta: select * from bloqueinformativo where next_id= 'Salida' and namestate= 'prueba_dos' and contenido= 'Puedo hacer muchas cosas, entre ellas despedirme. Adios' and contenttype= 'text' and typingtime= '3' and id_robot= '411' and blocktype= 'informativo' ;\n",
      "Datos enviados:\n",
      "{'namestate': 'prueba_dos', 'contenido': 'Puedo hacer muchas cosas, entre ellas despedirme. Adios', 'next_id': 'Salida', 'blocktype': 'informativo', 'contenttype': 'text', 'typingtime': '3', 'id_block': 1233, 'id_robot': 411, 'opc_nextid': None, 'pos_y': None, 'pos_x': None, 'tag_active': None}\n",
      "Datos recibidos:\n",
      "{'name_var': 'var_case', 'opc_type': 'Variable', 'var': 0, 'opc_data': 'Numerico', 'id_robot': 411}\n",
      "intenatando consulta...\n",
      "consulta: select * from variables where name_var= 'var_case' and opc_type= 'Variable' and var= '0' and opc_data= 'Numerico' and id_robot= '411' ;\n",
      "Datos enviados:\n",
      "{'id_var': 972, 'opc_type': 'Variable', 'opc_data': 'Numerico', 'var': '0', 'id_robot': 411, 'name_var': 'var_case'}\n",
      "Datos recibidos:\n",
      "{'contenido': '¿Cuál es tu correo?', 'opciones': 'email,otro', 'next_id': 'prueba_dos,prueba_slide', 'default_id': 'prueba_qa', 'namestate': 'pruebaCorreo_01inicial_inicial', 'typingtime': 3, 'id_robot': 411, 'id_var': 972, 'blocktype': 'quickReply'}\n",
      "intenatando consulta...\n",
      "consulta: select * from bloquequickreply where contenido= '¿Cuál es tu correo?' and opciones= 'email,otro' and next_id= 'prueba_dos,prueba_slide' and default_id= 'prueba_qa' and namestate= 'pruebaCorreo_01inicial_inicial' and typingtime= '3' and id_robot= '411' and id_var= '972' and blocktype= 'quickReply' ;\n",
      "Datos enviados:\n",
      "{'namestate': 'pruebaCorreo_01inicial_inicial', 'contenido': '¿Cuál es tu correo?', 'opciones': 'email,otro', 'next_id': 'prueba_dos,prueba_slide', 'blocktype': 'quickReply', 'typingtime': '3', 'default_id': 'prueba_qa', 'id_var': '972', 'id_block': 431, 'id_robot': 411, 'opc_nextid': None, 'pos_y': None, 'pos_x': None, 'tag_active': None}\n",
      "Datos recibidos:\n",
      "{'name_var': 'var_slideMenu', 'opc_type': 'Variable', 'var': 0, 'opc_data': 'Numerico', 'id_robot': 411}\n"
     ]
    },
    {
     "name": "stderr",
     "output_type": "stream",
     "text": [
      "127.0.0.1 - - [18/Mar/2021 20:20:36] \"\u001b[37mPOST /insert/variables HTTP/1.1\u001b[0m\" 200 -\n",
      "127.0.0.1 - - [18/Mar/2021 20:20:37] \"\u001b[37mPOST /insert/bloqueslide HTTP/1.1\u001b[0m\" 200 -\n"
     ]
    },
    {
     "name": "stdout",
     "output_type": "stream",
     "text": [
      "intenatando consulta...\n",
      "consulta: select * from variables where name_var= 'var_slideMenu' and opc_type= 'Variable' and var= '0' and opc_data= 'Numerico' and id_robot= '411' ;\n",
      "Datos enviados:\n",
      "{'id_var': 973, 'opc_type': 'Variable', 'opc_data': 'Numerico', 'var': '0', 'id_robot': 411, 'name_var': 'var_slideMenu'}\n",
      "Datos recibidos:\n",
      "{'namestate': 'prueba_slide', 'blocktype': 'slide', 'typingtime': 3, 'default_id': 'prueba_qa', 'id_var': 973, 'id_robot': 411}\n",
      "intenatando consulta...\n",
      "consulta: select * from bloqueslide where namestate= 'prueba_slide' and blocktype= 'slide' and typingtime= '3' and default_id= 'prueba_qa' and id_var= '973' and id_robot= '411' ;\n",
      "Datos enviados:\n",
      "{'namestate': 'prueba_slide', 'next_id': None, 'blocktype': 'slide', 'typingtime': '3', 'default_id': 'prueba_qa', 'id_var': '973', 'id_block': 193, 'id_robot': 411, 'opc_nextid': None, 'pos_y': None, 'pos_x': None, 'opc_elm': None, 'tag_active': None}\n",
      "Datos recibidos:\n",
      "{'title': 'Prueba titulo', 'image_url': 'data:image/jpeg;base64,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', 'subtitle': 'Esta es una prueba de carrusel.', 'blocktype': 'slide', 'id_block': 193}\n",
      "intenatando consulta...\n",
      "consulta: select * from elementos where title= 'Prueba titulo' and image_url= 'data:image/jpeg;base64,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' and subtitle= 'Esta es una prueba de carrusel.' and blocktype= 'slide' and id_block= '193' ;\n"
     ]
    },
    {
     "name": "stderr",
     "output_type": "stream",
     "text": [
      "127.0.0.1 - - [18/Mar/2021 20:20:37] \"\u001b[37mPOST /insert/elementos HTTP/1.1\u001b[0m\" 200 -\n",
      "127.0.0.1 - - [18/Mar/2021 20:20:37] \"\u001b[37mPOST /insert/botones HTTP/1.1\u001b[0m\" 200 -\n",
      "127.0.0.1 - - [18/Mar/2021 20:20:37] \"\u001b[37mPOST /insert/botones HTTP/1.1\u001b[0m\" 200 -\n"
     ]
    },
    {
     "name": "stdout",
     "output_type": "stream",
     "text": [
      "Datos enviados:\n",
      "{'blocktype': 'slide', 'title': 'Prueba titulo', 'image_url': 'data:image/jpeg;base64,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', 'subtitle': 'Esta es una prueba de carrusel.', 'id_block': 193, 'id_elements': 432}\n",
      "Datos recibidos:\n",
      "{'id_elemento': '432', 'titlebutton': 'Boton 1', 'typebutton': 'web_url', 'contentbutton': 'https://www.youtube.com/', 'opc_nextid': 'https://www.youtube.com/'}\n",
      "intenatando consulta...\n",
      "consulta: select * from botones where id_elemento= '432' and titlebutton= 'Boton 1' and typebutton= 'web_url' and contentbutton= 'https://www.youtube.com/' and opc_nextid= 'https://www.youtube.com/' ;\n",
      "Datos enviados:\n",
      "{'id_elemento': '432', 'titlebutton': 'Boton 1', 'typebutton': 'web_url', 'contentbutton': 'https://www.youtube.com/', 'id_boton': 676, 'opc_nextid': 'https://www.youtube.com/'}\n",
      "Datos recibidos:\n",
      "{'id_elemento': '432', 'titlebutton': 'Boton 2', 'typebutton': 'web_url', 'contentbutton': 'https://www.reddit.com/', 'opc_nextid': 'https://www.reddit.com/'}\n",
      "intenatando consulta...\n",
      "consulta: select * from botones where id_elemento= '432' and titlebutton= 'Boton 2' and typebutton= 'web_url' and contentbutton= 'https://www.reddit.com/' and opc_nextid= 'https://www.reddit.com/' ;\n",
      "Datos enviados:\n",
      "{'id_elemento': '432', 'titlebutton': 'Boton 2', 'typebutton': 'web_url', 'contentbutton': 'https://www.reddit.com/', 'id_boton': 677, 'opc_nextid': 'https://www.reddit.com/'}\n"
     ]
    },
    {
     "name": "stderr",
     "output_type": "stream",
     "text": [
      "127.0.0.1 - - [18/Mar/2021 20:36:46] \"\u001b[37mGET /select/robots HTTP/1.1\u001b[0m\" 200 -\n",
      "127.0.0.1 - - [18/Mar/2021 20:36:46] \"\u001b[37mPOST /insert/robots HTTP/1.1\u001b[0m\" 200 -\n",
      "127.0.0.1 - - [18/Mar/2021 20:36:47] \"\u001b[37mPOST /insert/bloqueinformativo HTTP/1.1\u001b[0m\" 200 -\n"
     ]
    },
    {
     "name": "stdout",
     "output_type": "stream",
     "text": [
      "Datos recibidos:\n",
      "{'name_robot': 'charlybot', 'id_face': '111445520541316', 'block_ini': 'prueba_inicio', 'type_blocki': 'informativo', 'access_token': 'EAALZCCZBzPwfkBAAo7njAlW7s4DTj1ZCs5v1ung1MhEyMlJXOOtiG8r7JcBgXVPhZBHkJONyTB6jKG470UyqGPWn4aDPnisgtT2ZCZAwQIjQgZAZBufZBJXmHz6mPKSgdmP6ikDA87vocZBay2dfQdz1OYezmYbxwfILXUvXtjUMZAniQZDZD', 'id_user': 'charlygoldcruz@gmail.com', 'api_nlp': 'http://localhost:8282/'}\n",
      "intenatando consulta...\n",
      "consulta: select * from robots where id_face = '111445520541316';\n",
      "La consulta no trajo nada\n",
      "Datos enviados:\n",
      "{'error': 'true'}\n",
      "Datos recibidos:\n",
      "{'name_robot': 'charlybot', 'id_face': '111445520541316', 'block_ini': 'prueba_inicio', 'type_blocki': 'informativo', 'access_token': 'EAALZCCZBzPwfkBAAo7njAlW7s4DTj1ZCs5v1ung1MhEyMlJXOOtiG8r7JcBgXVPhZBHkJONyTB6jKG470UyqGPWn4aDPnisgtT2ZCZAwQIjQgZAZBufZBJXmHz6mPKSgdmP6ikDA87vocZBay2dfQdz1OYezmYbxwfILXUvXtjUMZAniQZDZD', 'id_user': 'charlygoldcruz@gmail.com', 'api_nlp': 'http://localhost:8282/'}\n",
      "intenatando consulta...\n",
      "consulta: select * from robots where id_face = '111445520541316';\n",
      "Datos enviados:\n",
      "{'name_robot': 'charlybot', 'id_face': '111445520541316', 'block_ini': 'prueba_inicio', 'type_blocki': 'informativo', 'access_token': 'EAALZCCZBzPwfkBAAo7njAlW7s4DTj1ZCs5v1ung1MhEyMlJXOOtiG8r7JcBgXVPhZBHkJONyTB6jKG470UyqGPWn4aDPnisgtT2ZCZAwQIjQgZAZBufZBJXmHz6mPKSgdmP6ikDA87vocZBay2dfQdz1OYezmYbxwfILXUvXtjUMZAniQZDZD', 'api_nlp': 'http://localhost:8282/', 'id_robot': 412, 'id_user': 'charlygoldcruz@gmail.com'}\n",
      "Datos recibidos:\n",
      "{'next_id': 'prueba_captura', 'namestate': 'prueba_inicio', 'contenido': 'Hola, soy un chatbot y esto es un mensaje de prueba y adios', 'contenttype': 'text', 'typingtime': 3, 'id_robot': 412, 'blocktype': 'informativo'}\n",
      "intenatando consulta...\n",
      "consulta: select * from bloqueinformativo where next_id= 'prueba_captura' and namestate= 'prueba_inicio' and contenido= 'Hola, soy un chatbot y esto es un mensaje de prueba y adios' and contenttype= 'text' and typingtime= '3' and id_robot= '412' and blocktype= 'informativo' ;\n",
      "Datos enviados:\n",
      "{'namestate': 'prueba_inicio', 'contenido': 'Hola, soy un chatbot y esto es un mensaje de prueba y adios', 'next_id': 'prueba_captura', 'blocktype': 'informativo', 'contenttype': 'text', 'typingtime': '3', 'id_block': 1234, 'id_robot': 412, 'opc_nextid': None, 'pos_y': None, 'pos_x': None, 'tag_active': None}\n",
      "Datos recibidos:\n",
      "{'name_var': 'email', 'opc_type': 'Variable', 'var': 0, 'opc_data': 'String', 'id_robot': 412}\n"
     ]
    },
    {
     "name": "stderr",
     "output_type": "stream",
     "text": [
      "127.0.0.1 - - [18/Mar/2021 20:36:47] \"\u001b[37mPOST /insert/variables HTTP/1.1\u001b[0m\" 200 -\n",
      "127.0.0.1 - - [18/Mar/2021 20:36:47] \"\u001b[37mPOST /insert/bloqueinput HTTP/1.1\u001b[0m\" 200 -\n"
     ]
    },
    {
     "name": "stdout",
     "output_type": "stream",
     "text": [
      "intenatando consulta...\n",
      "consulta: select * from variables where name_var= 'email' and opc_type= 'Variable' and var= '0' and opc_data= 'String' and id_robot= '412' ;\n",
      "Datos enviados:\n",
      "{'id_var': 974, 'opc_type': 'Variable', 'opc_data': 'String', 'var': '0', 'id_robot': 412, 'name_var': 'email'}\n",
      "Datos recibidos:\n",
      "{'next_id': 'pruebaCorreo_01inicial_inicial', 'default_id': 'prueba_captura', 'namestate': 'prueba_captura', 'contenido': 'introduce tu correo', 'contenttype': 'text', 'typingtime': 3, 'validacion': '^[a-z0-9]+[\\\\._]?[a-z0-9]+[@]\\\\w+[.]\\\\w{2,3}$', 'id_robot': 412, 'id_var': 974, 'blocktype': 'input'}\n",
      "intenatando consulta...\n",
      "consulta: select * from bloqueinput where next_id= 'pruebaCorreo_01inicial_inicial' and default_id= 'prueba_captura' and namestate= 'prueba_captura' and contenido= 'introduce tu correo' and contenttype= 'text' and typingtime= '3' and validacion= '^[a-z0-9]+[\\._]?[a-z0-9]+[@]\\w+[.]\\w{2,3}$' and id_robot= '412' and id_var= '974' and blocktype= 'input' ;\n",
      "Datos enviados:\n",
      "{'namestate': 'prueba_captura', 'contenido': 'introduce tu correo', 'next_id': 'pruebaCorreo_01inicial_inicial', 'blocktype': 'input', 'contenttype': 'text', 'typingtime': '3', 'validacion': '^[a-z0-9]+[\\\\._]?[a-z0-9]+[@]\\\\w+[.]\\\\w{2,3}$', 'default_id': 'prueba_captura', 'id_var': '974', 'id_block': 150, 'id_robot': 412, 'opc_nextid': None, 'pos_y': None, 'pos_x': None, 'tag_active': None}\n",
      "Datos recibidos:\n",
      "{'next_id': 'pruebaCorreo_01inicial_inicial', 'namestate': 'prueba_qa', 'contenido': 'Vamos a ver si no truena', 'contenttype': 'text', 'typingtime': 7, 'id_robot': 412, 'blocktype': 'informativo'}\n"
     ]
    },
    {
     "name": "stderr",
     "output_type": "stream",
     "text": [
      "127.0.0.1 - - [18/Mar/2021 20:36:47] \"\u001b[37mPOST /insert/bloqueinformativo HTTP/1.1\u001b[0m\" 200 -\n",
      "127.0.0.1 - - [18/Mar/2021 20:36:47] \"\u001b[37mPOST /insert/bloqueinformativo HTTP/1.1\u001b[0m\" 200 -\n",
      "127.0.0.1 - - [18/Mar/2021 20:36:47] \"\u001b[37mPOST /insert/variables HTTP/1.1\u001b[0m\" 200 -\n"
     ]
    },
    {
     "name": "stdout",
     "output_type": "stream",
     "text": [
      "intenatando consulta...\n",
      "consulta: select * from bloqueinformativo where next_id= 'pruebaCorreo_01inicial_inicial' and namestate= 'prueba_qa' and contenido= 'Vamos a ver si no truena' and contenttype= 'text' and typingtime= '7' and id_robot= '412' and blocktype= 'informativo' ;\n",
      "Datos enviados:\n",
      "{'namestate': 'prueba_qa', 'contenido': 'Vamos a ver si no truena', 'next_id': 'pruebaCorreo_01inicial_inicial', 'blocktype': 'informativo', 'contenttype': 'text', 'typingtime': '7', 'id_block': 1235, 'id_robot': 412, 'opc_nextid': None, 'pos_y': None, 'pos_x': None, 'tag_active': None}\n",
      "Datos recibidos:\n",
      "{'next_id': 'Salida', 'namestate': 'prueba_dos', 'contenido': 'Puedo hacer muchas cosas, entre ellas despedirme. Adios', 'contenttype': 'text', 'typingtime': 3, 'id_robot': 412, 'blocktype': 'informativo'}\n",
      "intenatando consulta...\n",
      "consulta: select * from bloqueinformativo where next_id= 'Salida' and namestate= 'prueba_dos' and contenido= 'Puedo hacer muchas cosas, entre ellas despedirme. Adios' and contenttype= 'text' and typingtime= '3' and id_robot= '412' and blocktype= 'informativo' ;\n",
      "Datos enviados:\n",
      "{'namestate': 'prueba_dos', 'contenido': 'Puedo hacer muchas cosas, entre ellas despedirme. Adios', 'next_id': 'Salida', 'blocktype': 'informativo', 'contenttype': 'text', 'typingtime': '3', 'id_block': 1236, 'id_robot': 412, 'opc_nextid': None, 'pos_y': None, 'pos_x': None, 'tag_active': None}\n",
      "Datos recibidos:\n",
      "{'name_var': 'var_case', 'opc_type': 'Variable', 'var': 0, 'opc_data': 'Numerico', 'id_robot': 412}\n",
      "intenatando consulta...\n",
      "consulta: select * from variables where name_var= 'var_case' and opc_type= 'Variable' and var= '0' and opc_data= 'Numerico' and id_robot= '412' ;\n",
      "Datos enviados:\n",
      "{'id_var': 975, 'opc_type': 'Variable', 'opc_data': 'Numerico', 'var': '0', 'id_robot': 412, 'name_var': 'var_case'}\n",
      "Datos recibidos:\n",
      "{'contenido': '¿Cuál es tu correo?', 'opciones': 'email,otro', 'next_id': 'prueba_dos,prueba_slide', 'default_id': 'prueba_qa', 'namestate': 'pruebaCorreo_01inicial_inicial', 'typingtime': 3, 'id_robot': 412, 'id_var': 975, 'blocktype': 'quickReply'}\n"
     ]
    },
    {
     "name": "stderr",
     "output_type": "stream",
     "text": [
      "127.0.0.1 - - [18/Mar/2021 20:36:47] \"\u001b[37mPOST /insert/bloquequickreply HTTP/1.1\u001b[0m\" 200 -\n",
      "127.0.0.1 - - [18/Mar/2021 20:36:47] \"\u001b[37mPOST /insert/variables HTTP/1.1\u001b[0m\" 200 -\n"
     ]
    },
    {
     "name": "stdout",
     "output_type": "stream",
     "text": [
      "intenatando consulta...\n",
      "consulta: select * from bloquequickreply where contenido= '¿Cuál es tu correo?' and opciones= 'email,otro' and next_id= 'prueba_dos,prueba_slide' and default_id= 'prueba_qa' and namestate= 'pruebaCorreo_01inicial_inicial' and typingtime= '3' and id_robot= '412' and id_var= '975' and blocktype= 'quickReply' ;\n",
      "Datos enviados:\n",
      "{'namestate': 'pruebaCorreo_01inicial_inicial', 'contenido': '¿Cuál es tu correo?', 'opciones': 'email,otro', 'next_id': 'prueba_dos,prueba_slide', 'blocktype': 'quickReply', 'typingtime': '3', 'default_id': 'prueba_qa', 'id_var': '975', 'id_block': 432, 'id_robot': 412, 'opc_nextid': None, 'pos_y': None, 'pos_x': None, 'tag_active': None}\n",
      "Datos recibidos:\n",
      "{'name_var': 'var_slideMenu', 'opc_type': 'Variable', 'var': 0, 'opc_data': 'Numerico', 'id_robot': 412}\n",
      "intenatando consulta...\n",
      "consulta: select * from variables where name_var= 'var_slideMenu' and opc_type= 'Variable' and var= '0' and opc_data= 'Numerico' and id_robot= '412' ;\n",
      "Datos enviados:\n",
      "{'id_var': 976, 'opc_type': 'Variable', 'opc_data': 'Numerico', 'var': '0', 'id_robot': 412, 'name_var': 'var_slideMenu'}\n",
      "Datos recibidos:\n",
      "{'namestate': 'prueba_slide', 'blocktype': 'slide', 'typingtime': 3, 'default_id': 'prueba_qa', 'id_var': 976, 'id_robot': 412}\n",
      "intenatando consulta...\n",
      "consulta: select * from bloqueslide where namestate= 'prueba_slide' and blocktype= 'slide' and typingtime= '3' and default_id= 'prueba_qa' and id_var= '976' and id_robot= '412' ;\n"
     ]
    },
    {
     "name": "stderr",
     "output_type": "stream",
     "text": [
      "127.0.0.1 - - [18/Mar/2021 20:36:47] \"\u001b[37mPOST /insert/bloqueslide HTTP/1.1\u001b[0m\" 200 -\n",
      "127.0.0.1 - - [18/Mar/2021 20:36:47] \"\u001b[37mPOST /insert/elementos HTTP/1.1\u001b[0m\" 200 -\n",
      "127.0.0.1 - - [18/Mar/2021 20:36:47] \"\u001b[37mPOST /insert/botones HTTP/1.1\u001b[0m\" 200 -\n"
     ]
    },
    {
     "name": "stdout",
     "output_type": "stream",
     "text": [
      "Datos enviados:\n",
      "{'namestate': 'prueba_slide', 'next_id': None, 'blocktype': 'slide', 'typingtime': '3', 'default_id': 'prueba_qa', 'id_var': '976', 'id_block': 194, 'id_robot': 412, 'opc_nextid': None, 'pos_y': None, 'pos_x': None, 'opc_elm': None, 'tag_active': None}\n",
      "Datos recibidos:\n",
      "{'title': 'Prueba titulo', 'image_url': 'data:image/jpeg;base64,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', 'subtitle': 'Esta es una prueba de carrusel.', 'blocktype': 'slide', 'id_block': 194}\n",
      "intenatando consulta...\n",
      "consulta: select * from elementos where title= 'Prueba titulo' and image_url= 'data:image/jpeg;base64,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' and subtitle= 'Esta es una prueba de carrusel.' and blocktype= 'slide' and id_block= '194' ;\n",
      "Datos enviados:\n",
      "{'blocktype': 'slide', 'title': 'Prueba titulo', 'image_url': 'data:image/jpeg;base64,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', 'subtitle': 'Esta es una prueba de carrusel.', 'id_block': 194, 'id_elements': 433}\n",
      "Datos recibidos:\n",
      "{'id_elemento': '433', 'titlebutton': 'Boton 1', 'typebutton': 'web_url', 'contentbutton': 'https://www.youtube.com/', 'opc_nextid': 'https://www.youtube.com/'}\n",
      "intenatando consulta...\n",
      "consulta: select * from botones where id_elemento= '433' and titlebutton= 'Boton 1' and typebutton= 'web_url' and contentbutton= 'https://www.youtube.com/' and opc_nextid= 'https://www.youtube.com/' ;\n",
      "Datos enviados:\n",
      "{'id_elemento': '433', 'titlebutton': 'Boton 1', 'typebutton': 'web_url', 'contentbutton': 'https://www.youtube.com/', 'id_boton': 678, 'opc_nextid': 'https://www.youtube.com/'}\n",
      "Datos recibidos:\n",
      "{'id_elemento': '433', 'titlebutton': 'Boton 2', 'typebutton': 'web_url', 'contentbutton': 'https://www.reddit.com/', 'opc_nextid': 'https://www.reddit.com/'}\n"
     ]
    },
    {
     "name": "stderr",
     "output_type": "stream",
     "text": [
      "127.0.0.1 - - [18/Mar/2021 20:36:48] \"\u001b[37mPOST /insert/botones HTTP/1.1\u001b[0m\" 200 -\n"
     ]
    },
    {
     "name": "stdout",
     "output_type": "stream",
     "text": [
      "intenatando consulta...\n",
      "consulta: select * from botones where id_elemento= '433' and titlebutton= 'Boton 2' and typebutton= 'web_url' and contentbutton= 'https://www.reddit.com/' and opc_nextid= 'https://www.reddit.com/' ;\n",
      "Datos enviados:\n",
      "{'id_elemento': '433', 'titlebutton': 'Boton 2', 'typebutton': 'web_url', 'contentbutton': 'https://www.reddit.com/', 'id_boton': 679, 'opc_nextid': 'https://www.reddit.com/'}\n"
     ]
    },
    {
     "name": "stderr",
     "output_type": "stream",
     "text": [
      "127.0.0.1 - - [18/Mar/2021 20:36:55] \"\u001b[37mGET /select/robots HTTP/1.1\u001b[0m\" 200 -\n",
      "127.0.0.1 - - [18/Mar/2021 20:36:55] \"\u001b[37mPOST /insert/robots HTTP/1.1\u001b[0m\" 200 -\n",
      "127.0.0.1 - - [18/Mar/2021 20:36:55] \"\u001b[37mPOST /insert/bloqueinformativo HTTP/1.1\u001b[0m\" 200 -\n"
     ]
    },
    {
     "name": "stdout",
     "output_type": "stream",
     "text": [
      "Datos recibidos:\n",
      "{'name_robot': 'oliverBot', 'id_face': '2153123008120093', 'block_ini': 'prueba_inicio', 'type_blocki': 'quickreply', 'access_token': 'EAAHNkscg2TcBAMvebksfOxuFBpMeR5sUhzHTKtqdi6NkqQKZAdkeaGVJ9Yc5bNbvL3JLzCgB7EEqsVUTZADhidVcC3zJV1UZB4Uz0Hm3fZB9IETnWb4I8MoK8nxpenC1lYwnjwnRwMHVZA1FKw8d3A45t9xCxmPKnm6kIr5ZCA8wZDZD', 'id_user': 'oliverbp88@gmail.com', 'api_nlp': 'http://localhost:8282/'}\n",
      "intenatando consulta...\n",
      "consulta: select * from robots where id_face = '2153123008120093';\n",
      "La consulta no trajo nada\n",
      "Datos enviados:\n",
      "{'error': 'true'}\n",
      "Datos recibidos:\n",
      "{'name_robot': 'oliverBot', 'id_face': '2153123008120093', 'block_ini': 'prueba_inicio', 'type_blocki': 'quickreply', 'access_token': 'EAAHNkscg2TcBAMvebksfOxuFBpMeR5sUhzHTKtqdi6NkqQKZAdkeaGVJ9Yc5bNbvL3JLzCgB7EEqsVUTZADhidVcC3zJV1UZB4Uz0Hm3fZB9IETnWb4I8MoK8nxpenC1lYwnjwnRwMHVZA1FKw8d3A45t9xCxmPKnm6kIr5ZCA8wZDZD', 'id_user': 'oliverbp88@gmail.com', 'api_nlp': 'http://localhost:8282/'}\n",
      "intenatando consulta...\n",
      "consulta: select * from robots where id_face = '2153123008120093';\n",
      "Datos enviados:\n",
      "{'name_robot': 'oliverBot', 'id_face': '2153123008120093', 'block_ini': 'prueba_inicio', 'type_blocki': 'quickreply', 'access_token': 'EAAHNkscg2TcBAMvebksfOxuFBpMeR5sUhzHTKtqdi6NkqQKZAdkeaGVJ9Yc5bNbvL3JLzCgB7EEqsVUTZADhidVcC3zJV1UZB4Uz0Hm3fZB9IETnWb4I8MoK8nxpenC1lYwnjwnRwMHVZA1FKw8d3A45t9xCxmPKnm6kIr5ZCA8wZDZD', 'api_nlp': 'http://localhost:8282/', 'id_robot': 413, 'id_user': 'oliverbp88@gmail.com'}\n",
      "Datos recibidos:\n",
      "{'next_id': 'pruebaCorreo_01inicial_inicial', 'namestate': 'prueba_inicio', 'contenido': 'Hola, soy un chatbot y esto es un mensaje de prueba y adios', 'contenttype': 'text', 'typingtime': 3, 'id_robot': 413, 'blocktype': 'informativo'}\n",
      "intenatando consulta...\n",
      "consulta: select * from bloqueinformativo where next_id= 'pruebaCorreo_01inicial_inicial' and namestate= 'prueba_inicio' and contenido= 'Hola, soy un chatbot y esto es un mensaje de prueba y adios' and contenttype= 'text' and typingtime= '3' and id_robot= '413' and blocktype= 'informativo' ;\n",
      "Datos enviados:\n",
      "{'namestate': 'prueba_inicio', 'contenido': 'Hola, soy un chatbot y esto es un mensaje de prueba y adios', 'next_id': 'pruebaCorreo_01inicial_inicial', 'blocktype': 'informativo', 'contenttype': 'text', 'typingtime': '3', 'id_block': 1237, 'id_robot': 413, 'opc_nextid': None, 'pos_y': None, 'pos_x': None, 'tag_active': None}\n",
      "Datos recibidos:\n",
      "{'next_id': 'pruebaCorreo_01inicial_inicial', 'namestate': 'prueba_qa', 'contenido': 'Vamos a ver si no truena', 'contenttype': 'text', 'typingtime': 7, 'id_robot': 413, 'blocktype': 'informativo'}\n"
     ]
    },
    {
     "name": "stderr",
     "output_type": "stream",
     "text": [
      "127.0.0.1 - - [18/Mar/2021 20:36:55] \"\u001b[37mPOST /insert/bloqueinformativo HTTP/1.1\u001b[0m\" 200 -\n",
      "127.0.0.1 - - [18/Mar/2021 20:36:55] \"\u001b[37mPOST /insert/bloqueinformativo HTTP/1.1\u001b[0m\" 200 -\n",
      "127.0.0.1 - - [18/Mar/2021 20:36:55] \"\u001b[37mPOST /insert/variables HTTP/1.1\u001b[0m\" 200 -\n"
     ]
    },
    {
     "name": "stdout",
     "output_type": "stream",
     "text": [
      "intenatando consulta...\n",
      "consulta: select * from bloqueinformativo where next_id= 'pruebaCorreo_01inicial_inicial' and namestate= 'prueba_qa' and contenido= 'Vamos a ver si no truena' and contenttype= 'text' and typingtime= '7' and id_robot= '413' and blocktype= 'informativo' ;\n",
      "Datos enviados:\n",
      "{'namestate': 'prueba_qa', 'contenido': 'Vamos a ver si no truena', 'next_id': 'pruebaCorreo_01inicial_inicial', 'blocktype': 'informativo', 'contenttype': 'text', 'typingtime': '7', 'id_block': 1238, 'id_robot': 413, 'opc_nextid': None, 'pos_y': None, 'pos_x': None, 'tag_active': None}\n",
      "Datos recibidos:\n",
      "{'next_id': 'Salida', 'namestate': 'prueba_dos', 'contenido': 'Puedo hacer muchas cosas, entre ellas despedirme. Adios', 'contenttype': 'text', 'typingtime': 3, 'id_robot': 413, 'blocktype': 'informativo'}\n",
      "intenatando consulta...\n",
      "consulta: select * from bloqueinformativo where next_id= 'Salida' and namestate= 'prueba_dos' and contenido= 'Puedo hacer muchas cosas, entre ellas despedirme. Adios' and contenttype= 'text' and typingtime= '3' and id_robot= '413' and blocktype= 'informativo' ;\n",
      "Datos enviados:\n",
      "{'namestate': 'prueba_dos', 'contenido': 'Puedo hacer muchas cosas, entre ellas despedirme. Adios', 'next_id': 'Salida', 'blocktype': 'informativo', 'contenttype': 'text', 'typingtime': '3', 'id_block': 1239, 'id_robot': 413, 'opc_nextid': None, 'pos_y': None, 'pos_x': None, 'tag_active': None}\n",
      "Datos recibidos:\n",
      "{'name_var': 'var_case', 'opc_type': 'Variable', 'var': 0, 'opc_data': 'Numerico', 'id_robot': 413}\n",
      "intenatando consulta...\n",
      "consulta: select * from variables where name_var= 'var_case' and opc_type= 'Variable' and var= '0' and opc_data= 'Numerico' and id_robot= '413' ;\n",
      "Datos enviados:\n",
      "{'id_var': 977, 'opc_type': 'Variable', 'opc_data': 'Numerico', 'var': '0', 'id_robot': 413, 'name_var': 'var_case'}\n"
     ]
    },
    {
     "name": "stderr",
     "output_type": "stream",
     "text": [
      "127.0.0.1 - - [18/Mar/2021 20:36:55] \"\u001b[37mPOST /insert/bloquequickreply HTTP/1.1\u001b[0m\" 200 -\n",
      "127.0.0.1 - - [18/Mar/2021 20:36:55] \"\u001b[37mPOST /insert/variables HTTP/1.1\u001b[0m\" 200 -\n"
     ]
    },
    {
     "name": "stdout",
     "output_type": "stream",
     "text": [
      "Datos recibidos:\n",
      "{'contenido': '¿Cuál es tu correo?', 'opciones': 'email,otro', 'next_id': 'prueba_dos,prueba_slide', 'default_id': 'prueba_qa', 'namestate': 'pruebaCorreo_01inicial_inicial', 'typingtime': 3, 'id_robot': 413, 'id_var': 977, 'blocktype': 'quickReply'}\n",
      "intenatando consulta...\n",
      "consulta: select * from bloquequickreply where contenido= '¿Cuál es tu correo?' and opciones= 'email,otro' and next_id= 'prueba_dos,prueba_slide' and default_id= 'prueba_qa' and namestate= 'pruebaCorreo_01inicial_inicial' and typingtime= '3' and id_robot= '413' and id_var= '977' and blocktype= 'quickReply' ;\n",
      "Datos enviados:\n",
      "{'namestate': 'pruebaCorreo_01inicial_inicial', 'contenido': '¿Cuál es tu correo?', 'opciones': 'email,otro', 'next_id': 'prueba_dos,prueba_slide', 'blocktype': 'quickReply', 'typingtime': '3', 'default_id': 'prueba_qa', 'id_var': '977', 'id_block': 433, 'id_robot': 413, 'opc_nextid': None, 'pos_y': None, 'pos_x': None, 'tag_active': None}\n",
      "Datos recibidos:\n",
      "{'name_var': 'var_slideMenu', 'opc_type': 'Variable', 'var': 0, 'opc_data': 'Numerico', 'id_robot': 413}\n",
      "intenatando consulta...\n",
      "consulta: select * from variables where name_var= 'var_slideMenu' and opc_type= 'Variable' and var= '0' and opc_data= 'Numerico' and id_robot= '413' ;\n",
      "Datos enviados:\n",
      "{'id_var': 978, 'opc_type': 'Variable', 'opc_data': 'Numerico', 'var': '0', 'id_robot': 413, 'name_var': 'var_slideMenu'}\n",
      "Datos recibidos:\n",
      "{'namestate': 'prueba_slide', 'blocktype': 'slide', 'typingtime': 3, 'default_id': 'prueba_qa', 'id_var': 978, 'id_robot': 413}\n",
      "intenatando consulta...\n",
      "consulta: select * from bloqueslide where namestate= 'prueba_slide' and blocktype= 'slide' and typingtime= '3' and default_id= 'prueba_qa' and id_var= '978' and id_robot= '413' ;\n"
     ]
    },
    {
     "name": "stderr",
     "output_type": "stream",
     "text": [
      "127.0.0.1 - - [18/Mar/2021 20:36:55] \"\u001b[37mPOST /insert/bloqueslide HTTP/1.1\u001b[0m\" 200 -\n",
      "127.0.0.1 - - [18/Mar/2021 20:36:55] \"\u001b[37mPOST /insert/elementos HTTP/1.1\u001b[0m\" 200 -\n",
      "127.0.0.1 - - [18/Mar/2021 20:36:56] \"\u001b[37mPOST /insert/botones HTTP/1.1\u001b[0m\" 200 -\n"
     ]
    },
    {
     "name": "stdout",
     "output_type": "stream",
     "text": [
      "Datos enviados:\n",
      "{'namestate': 'prueba_slide', 'next_id': None, 'blocktype': 'slide', 'typingtime': '3', 'default_id': 'prueba_qa', 'id_var': '978', 'id_block': 195, 'id_robot': 413, 'opc_nextid': None, 'pos_y': None, 'pos_x': None, 'opc_elm': None, 'tag_active': None}\n",
      "Datos recibidos:\n",
      "{'title': 'Prueba titulo', 'image_url': 'https://st2.depositphotos.com/3008028/5540/i/600/depositphotos_55407975-stock-photo-royal-blue-background.jpg', 'subtitle': 'Esta es una prueba de carrusel.', 'blocktype': 'slide', 'id_block': 195}\n",
      "intenatando consulta...\n",
      "consulta: select * from elementos where title= 'Prueba titulo' and image_url= 'https://st2.depositphotos.com/3008028/5540/i/600/depositphotos_55407975-stock-photo-royal-blue-background.jpg' and subtitle= 'Esta es una prueba de carrusel.' and blocktype= 'slide' and id_block= '195' ;\n",
      "Datos enviados:\n",
      "{'blocktype': 'slide', 'title': 'Prueba titulo', 'image_url': 'https://st2.depositphotos.com/3008028/5540/i/600/depositphotos_55407975-stock-photo-royal-blue-background.jpg', 'subtitle': 'Esta es una prueba de carrusel.', 'id_block': 195, 'id_elements': 434}\n",
      "Datos recibidos:\n",
      "{'id_elemento': '434', 'titlebutton': 'Boton 1', 'typebutton': 'web_url', 'contentbutton': 'https://www.youtube.com/', 'opc_nextid': 'https://www.youtube.com/'}\n",
      "intenatando consulta...\n",
      "consulta: select * from botones where id_elemento= '434' and titlebutton= 'Boton 1' and typebutton= 'web_url' and contentbutton= 'https://www.youtube.com/' and opc_nextid= 'https://www.youtube.com/' ;\n",
      "Datos enviados:\n",
      "{'id_elemento': '434', 'titlebutton': 'Boton 1', 'typebutton': 'web_url', 'contentbutton': 'https://www.youtube.com/', 'id_boton': 680, 'opc_nextid': 'https://www.youtube.com/'}\n",
      "Datos recibidos:\n",
      "{'id_elemento': '434', 'titlebutton': 'Boton 2', 'typebutton': 'web_url', 'contentbutton': 'https://www.reddit.com/', 'opc_nextid': 'https://www.reddit.com/'}\n"
     ]
    },
    {
     "name": "stderr",
     "output_type": "stream",
     "text": [
      "127.0.0.1 - - [18/Mar/2021 20:36:56] \"\u001b[37mPOST /insert/botones HTTP/1.1\u001b[0m\" 200 -\n"
     ]
    },
    {
     "name": "stdout",
     "output_type": "stream",
     "text": [
      "intenatando consulta...\n",
      "consulta: select * from botones where id_elemento= '434' and titlebutton= 'Boton 2' and typebutton= 'web_url' and contentbutton= 'https://www.reddit.com/' and opc_nextid= 'https://www.reddit.com/' ;\n",
      "Datos enviados:\n",
      "{'id_elemento': '434', 'titlebutton': 'Boton 2', 'typebutton': 'web_url', 'contentbutton': 'https://www.reddit.com/', 'id_boton': 681, 'opc_nextid': 'https://www.reddit.com/'}\n"
     ]
    },
    {
     "name": "stderr",
     "output_type": "stream",
     "text": [
      "127.0.0.1 - - [18/Mar/2021 20:39:21] \"\u001b[37mGET /select/robots HTTP/1.1\u001b[0m\" 200 -\n",
      "127.0.0.1 - - [18/Mar/2021 20:39:21] \"\u001b[37mPOST /insert/robots HTTP/1.1\u001b[0m\" 200 -\n",
      "127.0.0.1 - - [18/Mar/2021 20:39:21] \"\u001b[37mPOST /insert/bloqueinformativo HTTP/1.1\u001b[0m\" 200 -\n"
     ]
    },
    {
     "name": "stdout",
     "output_type": "stream",
     "text": [
      "Datos recibidos:\n",
      "{'name_robot': 'oliverBot', 'id_face': '2153123008120093', 'block_ini': 'prueba_inicio', 'type_blocki': 'quickreply', 'access_token': 'EAAHNkscg2TcBAMvebksfOxuFBpMeR5sUhzHTKtqdi6NkqQKZAdkeaGVJ9Yc5bNbvL3JLzCgB7EEqsVUTZADhidVcC3zJV1UZB4Uz0Hm3fZB9IETnWb4I8MoK8nxpenC1lYwnjwnRwMHVZA1FKw8d3A45t9xCxmPKnm6kIr5ZCA8wZDZD', 'id_user': 'oliverbp88@gmail.com', 'api_nlp': 'http://localhost:8282/'}\n",
      "intenatando consulta...\n",
      "consulta: select * from robots where id_face = '2153123008120093';\n",
      "La consulta no trajo nada\n",
      "Datos enviados:\n",
      "{'error': 'true'}\n",
      "Datos recibidos:\n",
      "{'name_robot': 'oliverBot', 'id_face': '2153123008120093', 'block_ini': 'prueba_inicio', 'type_blocki': 'quickreply', 'access_token': 'EAAHNkscg2TcBAMvebksfOxuFBpMeR5sUhzHTKtqdi6NkqQKZAdkeaGVJ9Yc5bNbvL3JLzCgB7EEqsVUTZADhidVcC3zJV1UZB4Uz0Hm3fZB9IETnWb4I8MoK8nxpenC1lYwnjwnRwMHVZA1FKw8d3A45t9xCxmPKnm6kIr5ZCA8wZDZD', 'id_user': 'oliverbp88@gmail.com', 'api_nlp': 'http://localhost:8282/'}\n",
      "intenatando consulta...\n",
      "consulta: select * from robots where id_face = '2153123008120093';\n",
      "Datos enviados:\n",
      "{'name_robot': 'oliverBot', 'id_face': '2153123008120093', 'block_ini': 'prueba_inicio', 'type_blocki': 'quickreply', 'access_token': 'EAAHNkscg2TcBAMvebksfOxuFBpMeR5sUhzHTKtqdi6NkqQKZAdkeaGVJ9Yc5bNbvL3JLzCgB7EEqsVUTZADhidVcC3zJV1UZB4Uz0Hm3fZB9IETnWb4I8MoK8nxpenC1lYwnjwnRwMHVZA1FKw8d3A45t9xCxmPKnm6kIr5ZCA8wZDZD', 'api_nlp': 'http://localhost:8282/', 'id_robot': 414, 'id_user': 'oliverbp88@gmail.com'}\n",
      "Datos recibidos:\n",
      "{'next_id': 'pruebaCorreo_01inicial_inicial', 'namestate': 'prueba_inicio', 'contenido': 'Hola, soy un chatbot y esto es un mensaje de prueba y adios', 'contenttype': 'text', 'typingtime': 3, 'id_robot': 414, 'blocktype': 'informativo'}\n",
      "intenatando consulta...\n",
      "consulta: select * from bloqueinformativo where next_id= 'pruebaCorreo_01inicial_inicial' and namestate= 'prueba_inicio' and contenido= 'Hola, soy un chatbot y esto es un mensaje de prueba y adios' and contenttype= 'text' and typingtime= '3' and id_robot= '414' and blocktype= 'informativo' ;\n",
      "Datos enviados:\n",
      "{'namestate': 'prueba_inicio', 'contenido': 'Hola, soy un chatbot y esto es un mensaje de prueba y adios', 'next_id': 'pruebaCorreo_01inicial_inicial', 'blocktype': 'informativo', 'contenttype': 'text', 'typingtime': '3', 'id_block': 1240, 'id_robot': 414, 'opc_nextid': None, 'pos_y': None, 'pos_x': None, 'tag_active': None}\n"
     ]
    },
    {
     "name": "stderr",
     "output_type": "stream",
     "text": [
      "127.0.0.1 - - [18/Mar/2021 20:39:21] \"\u001b[37mPOST /insert/bloqueinformativo HTTP/1.1\u001b[0m\" 200 -\n",
      "127.0.0.1 - - [18/Mar/2021 20:39:21] \"\u001b[37mPOST /insert/bloqueinformativo HTTP/1.1\u001b[0m\" 200 -\n"
     ]
    },
    {
     "name": "stdout",
     "output_type": "stream",
     "text": [
      "Datos recibidos:\n",
      "{'next_id': 'pruebaCorreo_01inicial_inicial', 'namestate': 'prueba_qa', 'contenido': 'Vamos a ver si no truena', 'contenttype': 'text', 'typingtime': 7, 'id_robot': 414, 'blocktype': 'informativo'}\n",
      "intenatando consulta...\n",
      "consulta: select * from bloqueinformativo where next_id= 'pruebaCorreo_01inicial_inicial' and namestate= 'prueba_qa' and contenido= 'Vamos a ver si no truena' and contenttype= 'text' and typingtime= '7' and id_robot= '414' and blocktype= 'informativo' ;\n",
      "Datos enviados:\n",
      "{'namestate': 'prueba_qa', 'contenido': 'Vamos a ver si no truena', 'next_id': 'pruebaCorreo_01inicial_inicial', 'blocktype': 'informativo', 'contenttype': 'text', 'typingtime': '7', 'id_block': 1241, 'id_robot': 414, 'opc_nextid': None, 'pos_y': None, 'pos_x': None, 'tag_active': None}\n",
      "Datos recibidos:\n",
      "{'next_id': 'Salida', 'namestate': 'prueba_dos', 'contenido': 'Puedo hacer muchas cosas, entre ellas despedirme. Adios', 'contenttype': 'text', 'typingtime': 3, 'id_robot': 414, 'blocktype': 'informativo'}\n",
      "intenatando consulta...\n",
      "consulta: select * from bloqueinformativo where next_id= 'Salida' and namestate= 'prueba_dos' and contenido= 'Puedo hacer muchas cosas, entre ellas despedirme. Adios' and contenttype= 'text' and typingtime= '3' and id_robot= '414' and blocktype= 'informativo' ;\n",
      "Datos enviados:\n",
      "{'namestate': 'prueba_dos', 'contenido': 'Puedo hacer muchas cosas, entre ellas despedirme. Adios', 'next_id': 'Salida', 'blocktype': 'informativo', 'contenttype': 'text', 'typingtime': '3', 'id_block': 1242, 'id_robot': 414, 'opc_nextid': None, 'pos_y': None, 'pos_x': None, 'tag_active': None}\n",
      "Datos recibidos:\n",
      "{'name_var': 'var_case', 'opc_type': 'Variable', 'var': 0, 'opc_data': 'Numerico', 'id_robot': 414}\n"
     ]
    },
    {
     "name": "stderr",
     "output_type": "stream",
     "text": [
      "127.0.0.1 - - [18/Mar/2021 20:39:21] \"\u001b[37mPOST /insert/variables HTTP/1.1\u001b[0m\" 200 -\n",
      "127.0.0.1 - - [18/Mar/2021 20:39:21] \"\u001b[37mPOST /insert/bloquequickreply HTTP/1.1\u001b[0m\" 200 -\n",
      "127.0.0.1 - - [18/Mar/2021 20:39:21] \"\u001b[37mPOST /insert/variables HTTP/1.1\u001b[0m\" 200 -\n"
     ]
    },
    {
     "name": "stdout",
     "output_type": "stream",
     "text": [
      "intenatando consulta...\n",
      "consulta: select * from variables where name_var= 'var_case' and opc_type= 'Variable' and var= '0' and opc_data= 'Numerico' and id_robot= '414' ;\n",
      "Datos enviados:\n",
      "{'id_var': 979, 'opc_type': 'Variable', 'opc_data': 'Numerico', 'var': '0', 'id_robot': 414, 'name_var': 'var_case'}\n",
      "Datos recibidos:\n",
      "{'contenido': '¿Cuál es tu correo?', 'opciones': 'email,otro', 'next_id': 'prueba_dos,prueba_slide', 'default_id': 'prueba_qa', 'namestate': 'pruebaCorreo_01inicial_inicial', 'typingtime': 3, 'id_robot': 414, 'id_var': 979, 'blocktype': 'quickReply'}\n",
      "intenatando consulta...\n",
      "consulta: select * from bloquequickreply where contenido= '¿Cuál es tu correo?' and opciones= 'email,otro' and next_id= 'prueba_dos,prueba_slide' and default_id= 'prueba_qa' and namestate= 'pruebaCorreo_01inicial_inicial' and typingtime= '3' and id_robot= '414' and id_var= '979' and blocktype= 'quickReply' ;\n",
      "Datos enviados:\n",
      "{'namestate': 'pruebaCorreo_01inicial_inicial', 'contenido': '¿Cuál es tu correo?', 'opciones': 'email,otro', 'next_id': 'prueba_dos,prueba_slide', 'blocktype': 'quickReply', 'typingtime': '3', 'default_id': 'prueba_qa', 'id_var': '979', 'id_block': 434, 'id_robot': 414, 'opc_nextid': None, 'pos_y': None, 'pos_x': None, 'tag_active': None}\n",
      "Datos recibidos:\n",
      "{'name_var': 'var_slideMenu', 'opc_type': 'Variable', 'var': 0, 'opc_data': 'Numerico', 'id_robot': 414}\n",
      "intenatando consulta...\n",
      "consulta: select * from variables where name_var= 'var_slideMenu' and opc_type= 'Variable' and var= '0' and opc_data= 'Numerico' and id_robot= '414' ;\n",
      "Datos enviados:\n",
      "{'id_var': 980, 'opc_type': 'Variable', 'opc_data': 'Numerico', 'var': '0', 'id_robot': 414, 'name_var': 'var_slideMenu'}\n",
      "Datos recibidos:\n",
      "{'namestate': 'prueba_slide', 'blocktype': 'slide', 'typingtime': 3, 'default_id': 'prueba_qa', 'id_var': 980, 'id_robot': 414}\n"
     ]
    },
    {
     "name": "stderr",
     "output_type": "stream",
     "text": [
      "127.0.0.1 - - [18/Mar/2021 20:39:21] \"\u001b[37mPOST /insert/bloqueslide HTTP/1.1\u001b[0m\" 200 -\n",
      "127.0.0.1 - - [18/Mar/2021 20:39:21] \"\u001b[37mPOST /insert/elementos HTTP/1.1\u001b[0m\" 200 -\n",
      "127.0.0.1 - - [18/Mar/2021 20:39:21] \"\u001b[37mPOST /insert/botones HTTP/1.1\u001b[0m\" 200 -\n"
     ]
    },
    {
     "name": "stdout",
     "output_type": "stream",
     "text": [
      "intenatando consulta...\n",
      "consulta: select * from bloqueslide where namestate= 'prueba_slide' and blocktype= 'slide' and typingtime= '3' and default_id= 'prueba_qa' and id_var= '980' and id_robot= '414' ;\n",
      "Datos enviados:\n",
      "{'namestate': 'prueba_slide', 'next_id': None, 'blocktype': 'slide', 'typingtime': '3', 'default_id': 'prueba_qa', 'id_var': '980', 'id_block': 196, 'id_robot': 414, 'opc_nextid': None, 'pos_y': None, 'pos_x': None, 'opc_elm': None, 'tag_active': None}\n",
      "Datos recibidos:\n",
      "{'title': 'Prueba titulo', 'image_url': 'https://st2.depositphotos.com/3008028/5540/i/600/depositphotos_55407975-stock-photo-royal-blue-background.jpg', 'subtitle': 'Esta es una prueba de carrusel.', 'blocktype': 'slide', 'id_block': 196}\n",
      "intenatando consulta...\n",
      "consulta: select * from elementos where title= 'Prueba titulo' and image_url= 'https://st2.depositphotos.com/3008028/5540/i/600/depositphotos_55407975-stock-photo-royal-blue-background.jpg' and subtitle= 'Esta es una prueba de carrusel.' and blocktype= 'slide' and id_block= '196' ;\n",
      "Datos enviados:\n",
      "{'blocktype': 'slide', 'title': 'Prueba titulo', 'image_url': 'https://st2.depositphotos.com/3008028/5540/i/600/depositphotos_55407975-stock-photo-royal-blue-background.jpg', 'subtitle': 'Esta es una prueba de carrusel.', 'id_block': 196, 'id_elements': 435}\n",
      "Datos recibidos:\n",
      "{'id_elemento': '435', 'titlebutton': 'Boton 1', 'typebutton': 'web_url', 'contentbutton': 'https://www.youtube.com/', 'opc_nextid': 'https://www.youtube.com/'}\n",
      "intenatando consulta...\n",
      "consulta: select * from botones where id_elemento= '435' and titlebutton= 'Boton 1' and typebutton= 'web_url' and contentbutton= 'https://www.youtube.com/' and opc_nextid= 'https://www.youtube.com/' ;\n",
      "Datos enviados:\n",
      "{'id_elemento': '435', 'titlebutton': 'Boton 1', 'typebutton': 'web_url', 'contentbutton': 'https://www.youtube.com/', 'id_boton': 682, 'opc_nextid': 'https://www.youtube.com/'}\n",
      "Datos recibidos:\n",
      "{'id_elemento': '435', 'titlebutton': 'Boton 2', 'typebutton': 'web_url', 'contentbutton': 'https://www.reddit.com/', 'opc_nextid': 'https://www.reddit.com/'}\n"
     ]
    },
    {
     "name": "stderr",
     "output_type": "stream",
     "text": [
      "127.0.0.1 - - [18/Mar/2021 20:39:21] \"\u001b[37mPOST /insert/botones HTTP/1.1\u001b[0m\" 200 -\n"
     ]
    },
    {
     "name": "stdout",
     "output_type": "stream",
     "text": [
      "intenatando consulta...\n",
      "consulta: select * from botones where id_elemento= '435' and titlebutton= 'Boton 2' and typebutton= 'web_url' and contentbutton= 'https://www.reddit.com/' and opc_nextid= 'https://www.reddit.com/' ;\n",
      "Datos enviados:\n",
      "{'id_elemento': '435', 'titlebutton': 'Boton 2', 'typebutton': 'web_url', 'contentbutton': 'https://www.reddit.com/', 'id_boton': 683, 'opc_nextid': 'https://www.reddit.com/'}\n"
     ]
    },
    {
     "name": "stderr",
     "output_type": "stream",
     "text": [
      "127.0.0.1 - - [18/Mar/2021 20:39:29] \"\u001b[37mGET /select/robots HTTP/1.1\u001b[0m\" 200 -\n",
      "127.0.0.1 - - [18/Mar/2021 20:39:29] \"\u001b[37mPOST /insert/robots HTTP/1.1\u001b[0m\" 200 -\n",
      "127.0.0.1 - - [18/Mar/2021 20:39:29] \"\u001b[37mPOST /insert/bloqueinformativo HTTP/1.1\u001b[0m\" 200 -\n"
     ]
    },
    {
     "name": "stdout",
     "output_type": "stream",
     "text": [
      "Datos recibidos:\n",
      "{'name_robot': 'charlybot', 'id_face': '111445520541316', 'block_ini': 'prueba_inicio', 'type_blocki': 'informativo', 'access_token': 'EAALZCCZBzPwfkBAAo7njAlW7s4DTj1ZCs5v1ung1MhEyMlJXOOtiG8r7JcBgXVPhZBHkJONyTB6jKG470UyqGPWn4aDPnisgtT2ZCZAwQIjQgZAZBufZBJXmHz6mPKSgdmP6ikDA87vocZBay2dfQdz1OYezmYbxwfILXUvXtjUMZAniQZDZD', 'id_user': 'charlygoldcruz@gmail.com', 'api_nlp': 'http://localhost:8282/'}\n",
      "intenatando consulta...\n",
      "consulta: select * from robots where id_face = '111445520541316';\n",
      "La consulta no trajo nada\n",
      "Datos enviados:\n",
      "{'error': 'true'}\n",
      "Datos recibidos:\n",
      "{'name_robot': 'charlybot', 'id_face': '111445520541316', 'block_ini': 'prueba_inicio', 'type_blocki': 'informativo', 'access_token': 'EAALZCCZBzPwfkBAAo7njAlW7s4DTj1ZCs5v1ung1MhEyMlJXOOtiG8r7JcBgXVPhZBHkJONyTB6jKG470UyqGPWn4aDPnisgtT2ZCZAwQIjQgZAZBufZBJXmHz6mPKSgdmP6ikDA87vocZBay2dfQdz1OYezmYbxwfILXUvXtjUMZAniQZDZD', 'id_user': 'charlygoldcruz@gmail.com', 'api_nlp': 'http://localhost:8282/'}\n",
      "intenatando consulta...\n",
      "consulta: select * from robots where id_face = '111445520541316';\n",
      "Datos enviados:\n",
      "{'name_robot': 'charlybot', 'id_face': '111445520541316', 'block_ini': 'prueba_inicio', 'type_blocki': 'informativo', 'access_token': 'EAALZCCZBzPwfkBAAo7njAlW7s4DTj1ZCs5v1ung1MhEyMlJXOOtiG8r7JcBgXVPhZBHkJONyTB6jKG470UyqGPWn4aDPnisgtT2ZCZAwQIjQgZAZBufZBJXmHz6mPKSgdmP6ikDA87vocZBay2dfQdz1OYezmYbxwfILXUvXtjUMZAniQZDZD', 'api_nlp': 'http://localhost:8282/', 'id_robot': 415, 'id_user': 'charlygoldcruz@gmail.com'}\n",
      "Datos recibidos:\n",
      "{'next_id': 'prueba_captura', 'namestate': 'prueba_inicio', 'contenido': 'Hola, soy un chatbot y esto es un mensaje de prueba y adios', 'contenttype': 'text', 'typingtime': 3, 'id_robot': 415, 'blocktype': 'informativo'}\n",
      "intenatando consulta...\n",
      "consulta: select * from bloqueinformativo where next_id= 'prueba_captura' and namestate= 'prueba_inicio' and contenido= 'Hola, soy un chatbot y esto es un mensaje de prueba y adios' and contenttype= 'text' and typingtime= '3' and id_robot= '415' and blocktype= 'informativo' ;\n",
      "Datos enviados:\n",
      "{'namestate': 'prueba_inicio', 'contenido': 'Hola, soy un chatbot y esto es un mensaje de prueba y adios', 'next_id': 'prueba_captura', 'blocktype': 'informativo', 'contenttype': 'text', 'typingtime': '3', 'id_block': 1243, 'id_robot': 415, 'opc_nextid': None, 'pos_y': None, 'pos_x': None, 'tag_active': None}\n",
      "Datos recibidos:\n",
      "{'name_var': 'email', 'opc_type': 'Variable', 'var': 0, 'opc_data': 'String', 'id_robot': 415}\n"
     ]
    },
    {
     "name": "stderr",
     "output_type": "stream",
     "text": [
      "127.0.0.1 - - [18/Mar/2021 20:39:29] \"\u001b[37mPOST /insert/variables HTTP/1.1\u001b[0m\" 200 -\n",
      "127.0.0.1 - - [18/Mar/2021 20:39:29] \"\u001b[37mPOST /insert/bloqueinput HTTP/1.1\u001b[0m\" 200 -\n",
      "127.0.0.1 - - [18/Mar/2021 20:39:29] \"\u001b[37mPOST /insert/bloqueinformativo HTTP/1.1\u001b[0m\" 200 -\n"
     ]
    },
    {
     "name": "stdout",
     "output_type": "stream",
     "text": [
      "intenatando consulta...\n",
      "consulta: select * from variables where name_var= 'email' and opc_type= 'Variable' and var= '0' and opc_data= 'String' and id_robot= '415' ;\n",
      "Datos enviados:\n",
      "{'id_var': 981, 'opc_type': 'Variable', 'opc_data': 'String', 'var': '0', 'id_robot': 415, 'name_var': 'email'}\n",
      "Datos recibidos:\n",
      "{'next_id': 'pruebaCorreo_01inicial_inicial', 'default_id': 'prueba_captura', 'namestate': 'prueba_captura', 'contenido': 'introduce tu correo', 'contenttype': 'text', 'typingtime': 3, 'validacion': '^[a-z0-9]+[\\\\._]?[a-z0-9]+[@]\\\\w+[.]\\\\w{2,3}$', 'id_robot': 415, 'id_var': 981, 'blocktype': 'input'}\n",
      "intenatando consulta...\n",
      "consulta: select * from bloqueinput where next_id= 'pruebaCorreo_01inicial_inicial' and default_id= 'prueba_captura' and namestate= 'prueba_captura' and contenido= 'introduce tu correo' and contenttype= 'text' and typingtime= '3' and validacion= '^[a-z0-9]+[\\._]?[a-z0-9]+[@]\\w+[.]\\w{2,3}$' and id_robot= '415' and id_var= '981' and blocktype= 'input' ;\n",
      "Datos enviados:\n",
      "{'namestate': 'prueba_captura', 'contenido': 'introduce tu correo', 'next_id': 'pruebaCorreo_01inicial_inicial', 'blocktype': 'input', 'contenttype': 'text', 'typingtime': '3', 'validacion': '^[a-z0-9]+[\\\\._]?[a-z0-9]+[@]\\\\w+[.]\\\\w{2,3}$', 'default_id': 'prueba_captura', 'id_var': '981', 'id_block': 151, 'id_robot': 415, 'opc_nextid': None, 'pos_y': None, 'pos_x': None, 'tag_active': None}\n",
      "Datos recibidos:\n",
      "{'next_id': 'pruebaCorreo_01inicial_inicial', 'namestate': 'prueba_qa', 'contenido': 'Vamos a ver si no truena', 'contenttype': 'text', 'typingtime': 7, 'id_robot': 415, 'blocktype': 'informativo'}\n",
      "intenatando consulta...\n",
      "consulta: select * from bloqueinformativo where next_id= 'pruebaCorreo_01inicial_inicial' and namestate= 'prueba_qa' and contenido= 'Vamos a ver si no truena' and contenttype= 'text' and typingtime= '7' and id_robot= '415' and blocktype= 'informativo' ;\n",
      "Datos enviados:\n",
      "{'namestate': 'prueba_qa', 'contenido': 'Vamos a ver si no truena', 'next_id': 'pruebaCorreo_01inicial_inicial', 'blocktype': 'informativo', 'contenttype': 'text', 'typingtime': '7', 'id_block': 1244, 'id_robot': 415, 'opc_nextid': None, 'pos_y': None, 'pos_x': None, 'tag_active': None}\n"
     ]
    },
    {
     "name": "stderr",
     "output_type": "stream",
     "text": [
      "127.0.0.1 - - [18/Mar/2021 20:39:29] \"\u001b[37mPOST /insert/bloqueinformativo HTTP/1.1\u001b[0m\" 200 -\n",
      "127.0.0.1 - - [18/Mar/2021 20:39:29] \"\u001b[37mPOST /insert/variables HTTP/1.1\u001b[0m\" 200 -\n"
     ]
    },
    {
     "name": "stdout",
     "output_type": "stream",
     "text": [
      "Datos recibidos:\n",
      "{'next_id': 'Salida', 'namestate': 'prueba_dos', 'contenido': 'Puedo hacer muchas cosas, entre ellas despedirme. Adios', 'contenttype': 'text', 'typingtime': 3, 'id_robot': 415, 'blocktype': 'informativo'}\n",
      "intenatando consulta...\n",
      "consulta: select * from bloqueinformativo where next_id= 'Salida' and namestate= 'prueba_dos' and contenido= 'Puedo hacer muchas cosas, entre ellas despedirme. Adios' and contenttype= 'text' and typingtime= '3' and id_robot= '415' and blocktype= 'informativo' ;\n",
      "Datos enviados:\n",
      "{'namestate': 'prueba_dos', 'contenido': 'Puedo hacer muchas cosas, entre ellas despedirme. Adios', 'next_id': 'Salida', 'blocktype': 'informativo', 'contenttype': 'text', 'typingtime': '3', 'id_block': 1245, 'id_robot': 415, 'opc_nextid': None, 'pos_y': None, 'pos_x': None, 'tag_active': None}\n",
      "Datos recibidos:\n",
      "{'name_var': 'var_case', 'opc_type': 'Variable', 'var': 0, 'opc_data': 'Numerico', 'id_robot': 415}\n",
      "intenatando consulta...\n",
      "consulta: select * from variables where name_var= 'var_case' and opc_type= 'Variable' and var= '0' and opc_data= 'Numerico' and id_robot= '415' ;\n",
      "Datos enviados:\n",
      "{'id_var': 982, 'opc_type': 'Variable', 'opc_data': 'Numerico', 'var': '0', 'id_robot': 415, 'name_var': 'var_case'}\n",
      "Datos recibidos:\n",
      "{'contenido': '¿Cuál es tu correo?', 'opciones': 'email,otro', 'next_id': 'prueba_dos,prueba_slide', 'default_id': 'prueba_qa', 'namestate': 'pruebaCorreo_01inicial_inicial', 'typingtime': 3, 'id_robot': 415, 'id_var': 982, 'blocktype': 'quickReply'}\n",
      "intenatando consulta...\n",
      "consulta: select * from bloquequickreply where contenido= '¿Cuál es tu correo?' and opciones= 'email,otro' and next_id= 'prueba_dos,prueba_slide' and default_id= 'prueba_qa' and namestate= 'pruebaCorreo_01inicial_inicial' and typingtime= '3' and id_robot= '415' and id_var= '982' and blocktype= 'quickReply' ;\n"
     ]
    },
    {
     "name": "stderr",
     "output_type": "stream",
     "text": [
      "127.0.0.1 - - [18/Mar/2021 20:39:29] \"\u001b[37mPOST /insert/bloquequickreply HTTP/1.1\u001b[0m\" 200 -\n",
      "127.0.0.1 - - [18/Mar/2021 20:39:29] \"\u001b[37mPOST /insert/variables HTTP/1.1\u001b[0m\" 200 -\n",
      "127.0.0.1 - - [18/Mar/2021 20:39:30] \"\u001b[37mPOST /insert/bloqueslide HTTP/1.1\u001b[0m\" 200 -\n"
     ]
    },
    {
     "name": "stdout",
     "output_type": "stream",
     "text": [
      "Datos enviados:\n",
      "{'namestate': 'pruebaCorreo_01inicial_inicial', 'contenido': '¿Cuál es tu correo?', 'opciones': 'email,otro', 'next_id': 'prueba_dos,prueba_slide', 'blocktype': 'quickReply', 'typingtime': '3', 'default_id': 'prueba_qa', 'id_var': '982', 'id_block': 435, 'id_robot': 415, 'opc_nextid': None, 'pos_y': None, 'pos_x': None, 'tag_active': None}\n",
      "Datos recibidos:\n",
      "{'name_var': 'var_slideMenu', 'opc_type': 'Variable', 'var': 0, 'opc_data': 'Numerico', 'id_robot': 415}\n",
      "intenatando consulta...\n",
      "consulta: select * from variables where name_var= 'var_slideMenu' and opc_type= 'Variable' and var= '0' and opc_data= 'Numerico' and id_robot= '415' ;\n",
      "Datos enviados:\n",
      "{'id_var': 983, 'opc_type': 'Variable', 'opc_data': 'Numerico', 'var': '0', 'id_robot': 415, 'name_var': 'var_slideMenu'}\n",
      "Datos recibidos:\n",
      "{'namestate': 'prueba_slide', 'blocktype': 'slide', 'typingtime': 3, 'default_id': 'prueba_qa', 'id_var': 983, 'id_robot': 415}\n",
      "intenatando consulta...\n",
      "consulta: select * from bloqueslide where namestate= 'prueba_slide' and blocktype= 'slide' and typingtime= '3' and default_id= 'prueba_qa' and id_var= '983' and id_robot= '415' ;\n",
      "Datos enviados:\n",
      "{'namestate': 'prueba_slide', 'next_id': None, 'blocktype': 'slide', 'typingtime': '3', 'default_id': 'prueba_qa', 'id_var': '983', 'id_block': 197, 'id_robot': 415, 'opc_nextid': None, 'pos_y': None, 'pos_x': None, 'opc_elm': None, 'tag_active': None}\n",
      "Datos recibidos:\n",
      "{'title': 'Prueba titulo', 'image_url': 'data:image/jpeg;base64,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', 'subtitle': 'Esta es una prueba de carrusel.', 'blocktype': 'slide', 'id_block': 197}\n"
     ]
    },
    {
     "name": "stderr",
     "output_type": "stream",
     "text": [
      "127.0.0.1 - - [18/Mar/2021 20:39:30] \"\u001b[37mPOST /insert/elementos HTTP/1.1\u001b[0m\" 200 -\n",
      "127.0.0.1 - - [18/Mar/2021 20:39:30] \"\u001b[37mPOST /insert/botones HTTP/1.1\u001b[0m\" 200 -\n",
      "127.0.0.1 - - [18/Mar/2021 20:39:30] \"\u001b[37mPOST /insert/botones HTTP/1.1\u001b[0m\" 200 -\n"
     ]
    },
    {
     "name": "stdout",
     "output_type": "stream",
     "text": [
      "intenatando consulta...\n",
      "consulta: select * from elementos where title= 'Prueba titulo' and image_url= 'data:image/jpeg;base64,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' and subtitle= 'Esta es una prueba de carrusel.' and blocktype= 'slide' and id_block= '197' ;\n",
      "Datos enviados:\n",
      "{'blocktype': 'slide', 'title': 'Prueba titulo', 'image_url': 'data:image/jpeg;base64,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', 'subtitle': 'Esta es una prueba de carrusel.', 'id_block': 197, 'id_elements': 436}\n",
      "Datos recibidos:\n",
      "{'id_elemento': '436', 'titlebutton': 'Boton 1', 'typebutton': 'web_url', 'contentbutton': 'https://www.youtube.com/', 'opc_nextid': 'https://www.youtube.com/'}\n",
      "intenatando consulta...\n",
      "consulta: select * from botones where id_elemento= '436' and titlebutton= 'Boton 1' and typebutton= 'web_url' and contentbutton= 'https://www.youtube.com/' and opc_nextid= 'https://www.youtube.com/' ;\n",
      "Datos enviados:\n",
      "{'id_elemento': '436', 'titlebutton': 'Boton 1', 'typebutton': 'web_url', 'contentbutton': 'https://www.youtube.com/', 'id_boton': 684, 'opc_nextid': 'https://www.youtube.com/'}\n",
      "Datos recibidos:\n",
      "{'id_elemento': '436', 'titlebutton': 'Boton 2', 'typebutton': 'web_url', 'contentbutton': 'https://www.reddit.com/', 'opc_nextid': 'https://www.reddit.com/'}\n",
      "intenatando consulta...\n",
      "consulta: select * from botones where id_elemento= '436' and titlebutton= 'Boton 2' and typebutton= 'web_url' and contentbutton= 'https://www.reddit.com/' and opc_nextid= 'https://www.reddit.com/' ;\n",
      "Datos enviados:\n",
      "{'id_elemento': '436', 'titlebutton': 'Boton 2', 'typebutton': 'web_url', 'contentbutton': 'https://www.reddit.com/', 'id_boton': 685, 'opc_nextid': 'https://www.reddit.com/'}\n"
     ]
    },
    {
     "name": "stderr",
     "output_type": "stream",
     "text": [
      "127.0.0.1 - - [18/Mar/2021 20:44:38] \"\u001b[37mGET /select/robots HTTP/1.1\u001b[0m\" 200 -\n",
      "127.0.0.1 - - [18/Mar/2021 20:44:38] \"\u001b[37mGET /select/bloqueslide HTTP/1.1\u001b[0m\" 200 -\n",
      "127.0.0.1 - - [18/Mar/2021 20:44:38] \"\u001b[37mGET /select/elementos HTTP/1.1\u001b[0m\" 200 -\n"
     ]
    },
    {
     "name": "stdout",
     "output_type": "stream",
     "text": [
      "Datos recibidos:\n",
      "{'name_robot': 'charlybot', 'id_face': '111445520541316', 'block_ini': 'prueba_inicio', 'type_blocki': 'informativo', 'access_token': 'EAALZCCZBzPwfkBAAo7njAlW7s4DTj1ZCs5v1ung1MhEyMlJXOOtiG8r7JcBgXVPhZBHkJONyTB6jKG470UyqGPWn4aDPnisgtT2ZCZAwQIjQgZAZBufZBJXmHz6mPKSgdmP6ikDA87vocZBay2dfQdz1OYezmYbxwfILXUvXtjUMZAniQZDZD', 'id_user': 'charlygoldcruz@gmail.com', 'api_nlp': 'http://localhost:8282/'}\n",
      "intenatando consulta...\n",
      "consulta: select * from robots where id_face = '111445520541316';\n",
      "Datos enviados:\n",
      "{'name_robot': 'charlybot', 'id_face': '111445520541316', 'block_ini': 'prueba_inicio', 'type_blocki': 'informativo', 'access_token': 'EAALZCCZBzPwfkBAAo7njAlW7s4DTj1ZCs5v1ung1MhEyMlJXOOtiG8r7JcBgXVPhZBHkJONyTB6jKG470UyqGPWn4aDPnisgtT2ZCZAwQIjQgZAZBufZBJXmHz6mPKSgdmP6ikDA87vocZBay2dfQdz1OYezmYbxwfILXUvXtjUMZAniQZDZD', 'api_nlp': 'http://localhost:8282/', 'id_robot': 415, 'id_user': 'charlygoldcruz@gmail.com'}\n",
      "Datos recibidos:\n",
      "{'id_robot': '415'}\n",
      "intenatando consulta...\n",
      "consulta: select * from bloqueslide where id_robot= '415' ;\n",
      "Datos enviados:\n",
      "{'namestate': 'prueba_slide', 'next_id': 'https://www.youtube.com/,https://www.reddit.com/', 'blocktype': 'slide', 'typingtime': '3', 'default_id': 'prueba_qa', 'id_var': '983', 'id_block': 197, 'id_robot': 415, 'opc_nextid': None, 'pos_y': None, 'pos_x': None, 'opc_elm': None, 'tag_active': None}\n",
      "Datos recibidos:\n",
      "{'id_block': 197}\n",
      "intenatando consulta...\n",
      "consulta: select * from elementos where id_block= '197' ;\n",
      "Datos enviados:\n",
      "{'blocktype': 'slide', 'title': 'Prueba titulo', 'image_url': 'data:image/jpeg;base64,/9j/4AAQSkZJRgABAQAAAQABAAD/2wCEAAkGBw8PDQ8NDw8PDQ4QDw0QEA0NDxAODg0PFhEWFhUSFxUYHSggGB0mGxUVIjIhMSsrLi8vFx8zODMtNygtLysBCgoKDg0OGxAQGy0lICYvLS0tLSsrLS0tLS0tLS0tLS4tLS0vLS0tLTUtLS0tKy0tLS0vNy0tLy81LS0uLS0tN//AABEIAOEA4QMBEQACEQEDEQH/xAAbAAEAAgMBAQAAAAAAAAAAAAAAAQUEBgcDAv/EAEcQAAIBAgMDBwYLBgQHAAAAAAABAgMRBAUhEjFRBhMiQWFxgQcyUpGhsRQjM0JUcpOywdHSFRZic4LhQ1OS8TWElKKjwvD/xAAbAQEAAgMBAQAAAAAAAAAAAAAABQYBAwQCB//EADoRAQABAgIGBwYFAwUBAAAAAAABAgMEEQUSITFBURNhcaGxwdEGIjKBkeEUMzRy8CNC8SRDUmKiFf/aAAwDAQACEQMRAD8A7iAAAAAAAAAAAAAAAAAAAAAAAAAAACAJAAAAAAAAAAAEASBAEgAAEASBAAAAAAAJAAQAAkABAACQAACAAAABIAAAAAAAACAJAAQAAkAAAAAIAAAAEgAAAAAAAAAAAAAAAAAAAAAAAAAAAAAAAAAAgAAAkABAEgAAAABAEgQAAkABAACQIAkABAAAAAASAAAQBIAAAAAAAADGxGOpU/PnFPhvl6lqcl/HYex+ZXETy3z9I2ttFi5X8MMGpn9JebGcu2yivayNuafw8fDTVP0jxnPudNOAuTvmIeEuUXCl65/2Oar2inhb/wDX2bY0dzq7vuhcon10l4T/ALGI9op42/8A19j/AOd/27vu96fKCm/OhOPdaSOij2gsT8VMx9J/n0a6tH1xumGbh8xo1NI1FfhLov2klY0jhr2yiuM+U7J73NXh7lG+GWdrSAAAAAAAAAAAAAAAAAAAAAAAMHH5nTo6PpT9CO/x4EdjdJ2cLsnbVyjz5Oizhq7u2N3NQYvNa1TTa2I+jDT1veyr4rS2Iv7M9WOUeu/+bkpawlujhnPWwSNdIBIEAAAGXhcxq0vNlePoS6Uf7HdhtI4jD/DVnHKdsfb5NF3DW7m+Nq+wGb06tov4ufBvR9zLPgtL2cRlTV7tXKd09k+W9F3sJXb2xthZEs5QAAAAAAAAAAgAAAkCAAAABR5rnFr06T13SqcOyP5lb0lpjVmbWHntq9PVI4bB5+9c+nqonxevbxKxM5znKTAygAAAASAAAQBcZXnDhaFV3huU3q49/FE/o7TFVvK3fnOnhPGO3nHej8Tg4q96jfybFFpq61T1utblriYmM4RQZAAAAAAAACQAAAAAAAKLPMytejTevz5Lq/hX4lb0xpKac8Pan90+XqkcHhs/6lXy9VEVhKAAAAAAAAAAAG8ALbJMy2GqU30G+i38x8O4ntEaSm1VFm5PuzunlPp4ODF4bWjXp3+LZC2okAAAAAAAAAAAAAAAwc2xvM0rrz5aR7+PgR2k8b+Fs5x8U7I9fk6MNZ6WvKd3FqbfXvfF72UWZmdspx9U7bSvuvqdGEm3F+ibvw57f5y59TXe1tSdXey8VbY1/pLbpmuz+EnWy2/D29Xy39SKwcV9Ls+bCKUmgAAAAAAADLwdrPjfXjYtns/Va6KqI+PPbzy4fLzROkIq14mdzwxDW07eziQmlarVWKqm1u45bs+P85u3CxVFqNZ5kc6WwZNm9Nw5urVhGcLLpzinKPU9S56GxdV6zqV76ePOOHpP3QuMtRRXnG6Vj+0KH+dR+0h+ZMORH7Qof51H7SH5gfUcdRbsq1Jt7kqkG37QMgAAAAQAAASAAAalnOJ5ytK3mw6MfDe/X+BRtLYrp8ROW6nZHn3+ScwlrUtxznawSNdIBYZl8nh/5f4RJrSn6fDfs8qXFhfzLnb6q8hXa9sPhp1HaKvxb0ivE6sLg72Jqytx8+EfP+S1Xb1FqM6pWlDKILz25vgujH8yx4fQFmnbdmap6tkevejbmPrn4IyZccHSX+HHxSfvJOjR+Fo3W6fpn4uacRdnfVKXhKT/AMOHhFGasBhat9un6QRfux/dP1Y1bKab828H2dJepkff0Dh64/p50z9Y+k+Uw30Y65T8W1V4rBTp+crx9Jbv7Fcxmjr+F21xnTzjd9kjZxNF3dv5MY4XQsMk+Wf1Je9E3oD9VP7Z8aXDj/yo7fVWVKkYQc5NRjGLlKT0UYpXbZC26ZrmKaYzmXbVMRGcuYcouVtbEzlClKVDDptKMW4zqL0pNa/07u8vOj9D2sPTFVyIqr7o7PVCX8XVcnKnZDXFSbUpbLcY22pbN1G70u+q5M5uQp0Np7MYOT10jHadkrvRdhgI0bpyUG1FJyko3UU3ZNvqAcx0XLYewnsuWz0VK17X3X7ANk5K8tcZl047FSVbD36eFqycqbj17Dfyb7tOKZiaYkzd+yXNKOMw1LFUJbVKrG6vpKLvZxa6mmmn3GqYyemaYEgAIAkAAAxswr83RnPrUdPrPRe1nJjr/QYeu5xiNnbOyO9ts0a9yKWmnz9YEgAM/Mfk8P8Ay/wiTOlP0+G/Z5UuLC/mXO31eWAwbqy4QXnPj2I0aN0dVi69uymN8+Udfg2YnERajZvXvQpw6oxXUXa1aotUxRRGUQhKqpqnOre0PlH5TMPRbp4aPwma0bhJRpJ/Xs7+C8TdFLzm0vFeUTMJtuLo0l1KNPadu+bdz1qwxm+KHlBzGDu50qnZOil9xpjVgzbZkPlRpzkoYum6F9Oci3UpeOm1H2oxNHJnN0XDYinWpqcJRnCSTTTUoyi+u60aNdVMTGUwzE5bYVOZ4Dm+nDzHvXoP8in6V0X+H/q2vg4xy+yXwmK6T3at/iZJ8s/qS96GgP1U/tnxpMf+VHb6tI8oWKdPAbC052rCm7ejZzf3UvEx7PWorxWtP9sTPz2R5s4+uabWXOXMS8IV03yeZfUxOQZth6UVOrVquEItqKcuap21e48Vb4Zhn+TLkZj8DmMsRiqUIUnhatNSVWnN7cqlNrRPhGWpiqqJgiFZyNgv2Vyl0XyWIW7qVKtYzO+BiYasv3PxEdL/AA+EfHbpT9xn+44NBPTDrfkKx0nDG4V+ZCVCtDsc1KM1/wCOHrZ4rZh1U1sgEAAJAAAKjlJUtSjH0pr1JN++xBafuZYemnnPhEz45O7AU53JnlDWyopcAAWWNg5QwsVvcEl6ok7j7dV21hKKd805d1LgsVRTVdqnhPqtqFKNOCityW/jxZaMNh6cPai3Tujv5yjLlyblU1S475RuWUsTVng8PJxw8G4VJxeteS3xv6K9vdv66aeLU0Q9AAAAbPyI5W1MvrKEm5YSUunDfzV3rOK966+8xVGY7tSqQq01JNThOKaa1UotGiuimumaaozidkvUTMTnCty+hzeJnDhCVnxV1YrWjcNOG0jXbn/jOXZnGSSxNzpMPFXX6tG5eYJ1sBKUVeVGca1l6KTUvUpN+Bw6BvxaxURP90Zecd8ZN+Oomq1s4bXLS9oRv3JDMKdLk9nFN1o060pXhHbUKj2qcIxcVv3prwPM74ZfPkjzTYzWTxGIcabwldJ16zUNvnKT+c7XtGXqYqjYxD15I5jQjlnKGMqtOMqtKq6cZSUZVNunVjHZT33bS8UJ3wyoKNKp+wqsvhlCNH4bCbwGnwidTYUNtO97Wd9m1uje+ljPFhrpkdh8h2WShh8VjJJpV506VO/zo0trakuzam1/QzXXPBmHTjwyAAJAgCQAFDynetJfzH90rPtFVttx+7ySejo+KezzUZWkkAfdGntO25dbO7AYGvF3NWNkRvnl92jEX4tU58eC5wUbyi3rzcbR7Lq3uRdqMNboijZnqRlEzvjZkhJu1Tn171N5SM5eDy2o4PZq1mqNNrRpyT2pLtUVJ99jppjOWtwXcu42sNvr8h5xwbr88nWjTdWVLZ6FlHacVK++3WbNTZmhqdL01Xuj1dmeWf2aga0ykDa8i5GSxWFWIdZUnPa5uGxtKybV5O/W0e4ozjNEYrSsWbvRxTnlv2+DVq1NwnKEtJQlKMktbSTs/ajwlaaoqiKo4uweR/OHWwlTCTd5YaUXC+/mZ3svBqS7rGuqHuG64zouNRaSs4t9m+xp6KjX6TL3sss+rk9a06urwUWIobPbF6a+5lL0lo2cHVE0znTO6eMTynylNYbExejKd7mHK/kqsMpYmjKKoOSvSk7SpuTslH0l2b12lg0TpecRlZuR7/Pnlz5T3ODFYTo/fp3cms0sLUmtqFOpUV7bUKcpq/C6RN1XbdE5VVRHbMQ4ooqndD0jlmIlosPiJPgqFRv3GKb1uqcqaonsmGZoqjfE/R9/sfF/RMV/01b9Jszh5SsmxjdlhMW3wWGrNv8A7RnA27kr5McZiakZ4uMsFhk05KdliKi9GMPmd7tbgzzNUQZO3YLCU6FKFClBU6VOKhCEd0YrcjU9PYABIEASAAAUHKda0n2VP/UrHtFG23P7vJJ6OnZV8vNSFbSQBl4PzX3lv9n4j8NVMb9ac/pCH0hM9JHYtcvWku9E64XOPLbXd8DS+bbE1Gu34uK979Z7oYly89i4nymxksN8EdROns7DeyuclDdsOXC2nHtPWtOWTijR9iLvSxG3f1Z88lXzE/Qn/pZ5devTzg5ifoT/ANLBr084WmX8pMXhqTw9Ooow6VlKClKk3v2b7te89RVMbHJewFi9X0lUbe3f2qhu7u3dvVt6tvieXY3ryOVmszqQvpPCVbrtjUpte9+s817mYdfx3yfijWyqsT5j8PeRmmKYnB159X1zh1YOZ6aMv5sUGaZRSxUqfP7U6dNuSo3tTlN6bUrauyukt2rvcqOGxtzDU1dFsmePHLlHLr+W5LXLNNyY1t0cGdSpxhFQglCKVlGKUYpcEkctVU1zrVTnPW2xERGULfk4vj32U5feiTOgI/1Uz/1nxhxY/wDK+fq2YuKIAAAAAAAAAAABT8pYXpQl6M7eDT/JEB7QUZ2KauU+Mf4d+j6vfmOprpU0sAeuHq7L13P2EtonSEYWuaa/hnunn6uTF4fpac6d8LvLZJxdtdfwLnbuUXKdaiYmOpDVUzTOUw5n5bfl8D/KxP3qZuoeJc1PY9MPWdOpCpHzoThNX3XjJNe4y810xXTNM8Yy+rs2V5lTxVGNalK8ZLVX6UJdcZLqaN8TmpN+xVYrmiuPv1vXFYqFKnKrUmoQirylJ6L8+4zMvFu3VXVFNMZzLjudY74Tiq2ItZVJ3Se9RSUY37bJHPM5yumGs9Dapt8o/wAsIw3t18kH/Fv+VxH3qZ5q3EOy45/FvvXvNNVUUxnVOUPURMzlCixNa/RW7rfEqemNJU3/AOjanOmNszznq6ktg8NNHv1b3gQLvALrkxDpVJcFGPru37kWP2eo965X2R4/ZG6Qq2Uw2AtCMAAAAAAAAAAABiZpQ5yhUit9rrvWq9xxaRsdNhq6I35Zx2xtbsPXqXIlqBQU+AALnIvMn9f8EWz2e/Jr/d5QidIfHHY595bcPPawNaz5tLEU3LqU24SSfelL1MsdCPlzE9sAHrhsVUpS2qVSdKXXKnOUG1wdt5nN4rt0VxlXETHXGb6xeOrVmnVq1Ktt3OTlNLuT3CZmWLdm3b+CmI7IeBhsAN68jmHnLM6lVJ7FPDVFOXUnOcNld72ZepnmvcQ61nHyD74+8hNOfo6u2PF2YH86PmoSlJsAAbRkFHZoJ9c25eG5exe0umhLPR4WJnfVOflHdCFxtetdy5bFkS7kAAAAAAAAAAAAA0/NMNzVaUfmvpR+q/8A5rwKFpHDfh8RVTwnbHZPpuT2Gu9JbiWKcLeAWmSVktqD0baa7dLFo9nbkaldHHOJ+WWXki9I0znTUscbg6VenKjWpwrUpedTqRUovhoyyI1QPkDlP0KH2tf9ZnWkP3Ayn6HH7Wv+sa0h+4GU/Qo/a1/1jWkP3Ayn6HH7Wv8ArGtIfuBlP0OP2tf9Y1pD9wMp+hx+1r/rGtIu8syyhhafNYejChTvdxpq21Li3vb7WYmcx4Z1WXN7HW2vBLUhdPXIpwurO+Zju2u3AUzN3PlCkKamQD1wtB1Kkaa3ydu5db9Ruw1iq/dpt08Z7uPc13K4opmqW6QgopRWiSSS4JH0OmmKaYpjdCvzMzOcvo9MAAAAAAQAAAAJAgCuzvBc7T2oq84Xa/iXWiJ0vgpxFnWp+KnbHXHGPTrdeEvdHXlO6WrFKTQB9Qk07rebrF+5YuRctzlMfzKep4uW6a6dWplRxz69rwehYrftFRl79E59Uxl35I6rR05+7U+ljvrLtubafaCxNURNMx17Nne8To+uIzzh784/SfrZPRMTGcOFO3Li/WzLCNuXF+tgTtvi/WwPCWNs2ryfamQl/Tti1cmiKZnLjGWXi7aMDXVTE55Pl45/xeMjRV7RW8vdonPrmPu2Ro6rjVDFqTcnd/7FfxeLuYq5r3PlHCEhas02qcqXwcraAbFyewWzHnpLWStHsjx8S16DwWpR09W+rd2ffwROOva06kcN/auCwOAAAAAAAAAkCAJAAAAGuZ5l2w3Wgug/OS+a+PcVPTGjejqm/bj3Z3xynn2T3SlcHidaNSrfwVBAJAAWAu8DlCjFVKyvJ+bT6l9bj3Fo0foSIiLmIjOf+Prz7N3ai8RjZn3bf19GZOhGW+K8NPcWOIiIyhHTObyeCjxkvUZYQsDHjL2Ae1PDwjuWvF6gY+LyqNROVO0Ki1cd0Z/kyC0hoai7E12fdq5cJ9J63dh8ZVRsr2x3qGcHFuLVmnZp70ypV0VUVTTVGUwl4mJjOEHlkAsMoy51pbUl8XF6/wAb9EltFaOnE169fwR39Xr9HJisR0cZRvnubSkXWIyQqQAEASAAAAAAAAAAAAESSas1dPqeqMTETGUjXM1yhwvUppuG9xW+HdxRUtJaIqtTNyzGdPGOMfbwS2GxcVe7Xv8AFUkE713yfwF/j5Lragn7ZFk0HgIn/UVx+318o/wjcdf/ANun5+i0rSu+xaFoRbzAAAAH1CVmmBiZ9gFOHPRXTiulb50f7EBprARco6eiPejf1x9vB34K/q1ak7p8WuFSS6xyvK5VmpSvGnx659i/MltHaKrxM69eyjx7PVyYjFRb2RtnwbPTpqMVGK2YpWSXUXK3bpt0xTTGUQhqqpqnOX2e2AAAAAAAACAAAAAAAAAACrzDJoVLyh8XN77Loy8CFxuhbV+de37tXdPy9O92WcZVRsq2wsIwUIKK0UY2XgiXt26bdEUU7o2OSqqapmZYpseQAAAAAMuk7xXqMSyrMNkdOM3KXTV3sw+alfS/Eg8PoOzRcmuvbGeyOERwz5+DtuY6uqnKnZzlbJE5EZOIAAAAAAAAAAJAAAAAAAAAAAADzlRi+zuA83h+D9aA+fg77DLB8HfYB9LD8X7DDL7jQiu3vA9EgJAAAAAAAAAAAAAAAAAAAAAAAAAAAAAAAAAAAAAAAAAAAAAAEAAAAAAAAAAAAAAAAAAAAAAAAAAAAAAAAABIAAAAAAAAAAAAAAAAAAAAAAAAAAAAAAAAAAAAAAAAAAAAAAAAAAAAAAAAAAAAAAAAAAAgAAAkAAAgAAAkCAAAAAAAAAAAAAAAAAAAAAAJAAQBIAAAAAAAAAAAAAAAAAAAAIAkABAEgAAEAf/Z', 'subtitle': 'Esta es una prueba de carrusel.', 'id_block': 197, 'id_elements': 436}\n"
     ]
    },
    {
     "name": "stderr",
     "output_type": "stream",
     "text": [
      "127.0.0.1 - - [18/Mar/2021 20:44:38] \"\u001b[37mPOST /insert/bloqueinformativo HTTP/1.1\u001b[0m\" 200 -\n",
      "127.0.0.1 - - [18/Mar/2021 20:44:38] \"\u001b[37mPOST /insert/variables HTTP/1.1\u001b[0m\" 200 -\n"
     ]
    },
    {
     "name": "stdout",
     "output_type": "stream",
     "text": [
      "Datos recibidos:\n",
      "{'next_id': 'prueba_captura', 'namestate': 'prueba_inicio', 'contenido': 'Hola, soy un chatbot y esto es un mensaje de prueba y adios', 'contenttype': 'text', 'typingtime': 3, 'id_robot': 415, 'blocktype': 'informativo'}\n",
      "intenatando consulta...\n",
      "consulta: select * from bloqueinformativo where next_id= 'prueba_captura' and namestate= 'prueba_inicio' and contenido= 'Hola, soy un chatbot y esto es un mensaje de prueba y adios' and contenttype= 'text' and typingtime= '3' and id_robot= '415' and blocktype= 'informativo' ;\n",
      "Datos enviados:\n",
      "{'namestate': 'prueba_inicio', 'contenido': 'Hola, soy un chatbot y esto es un mensaje de prueba y adios', 'next_id': 'prueba_captura', 'blocktype': 'informativo', 'contenttype': 'text', 'typingtime': '3', 'id_block': 1246, 'id_robot': 415, 'opc_nextid': None, 'pos_y': None, 'pos_x': None, 'tag_active': None}\n",
      "Datos recibidos:\n",
      "{'name_var': 'email', 'opc_type': 'Variable', 'var': 0, 'opc_data': 'String', 'id_robot': 415}\n",
      "intenatando consulta...\n",
      "consulta: select * from variables where name_var= 'email' and opc_type= 'Variable' and var= '0' and opc_data= 'String' and id_robot= '415' ;\n",
      "Datos enviados:\n",
      "{'id_var': 984, 'opc_type': 'Variable', 'opc_data': 'String', 'var': '0', 'id_robot': 415, 'name_var': 'email'}\n",
      "Datos recibidos:\n",
      "{'next_id': 'pruebaCorreo_01inicial_inicial', 'default_id': 'prueba_captura', 'namestate': 'prueba_captura', 'contenido': 'introduce tu correo', 'contenttype': 'text', 'typingtime': 3, 'validacion': '^[a-z0-9]+[\\\\._]?[a-z0-9]+[@]\\\\w+[.]\\\\w{2,3}$', 'id_robot': 415, 'id_var': 984, 'blocktype': 'input'}\n"
     ]
    },
    {
     "name": "stderr",
     "output_type": "stream",
     "text": [
      "127.0.0.1 - - [18/Mar/2021 20:44:38] \"\u001b[37mPOST /insert/bloqueinput HTTP/1.1\u001b[0m\" 200 -\n",
      "127.0.0.1 - - [18/Mar/2021 20:44:38] \"\u001b[37mPOST /insert/bloqueinformativo HTTP/1.1\u001b[0m\" 200 -\n",
      "127.0.0.1 - - [18/Mar/2021 20:44:38] \"\u001b[37mPOST /insert/bloqueinformativo HTTP/1.1\u001b[0m\" 200 -\n"
     ]
    },
    {
     "name": "stdout",
     "output_type": "stream",
     "text": [
      "intenatando consulta...\n",
      "consulta: select * from bloqueinput where next_id= 'pruebaCorreo_01inicial_inicial' and default_id= 'prueba_captura' and namestate= 'prueba_captura' and contenido= 'introduce tu correo' and contenttype= 'text' and typingtime= '3' and validacion= '^[a-z0-9]+[\\._]?[a-z0-9]+[@]\\w+[.]\\w{2,3}$' and id_robot= '415' and id_var= '984' and blocktype= 'input' ;\n",
      "Datos enviados:\n",
      "{'namestate': 'prueba_captura', 'contenido': 'introduce tu correo', 'next_id': 'pruebaCorreo_01inicial_inicial', 'blocktype': 'input', 'contenttype': 'text', 'typingtime': '3', 'validacion': '^[a-z0-9]+[\\\\._]?[a-z0-9]+[@]\\\\w+[.]\\\\w{2,3}$', 'default_id': 'prueba_captura', 'id_var': '984', 'id_block': 152, 'id_robot': 415, 'opc_nextid': None, 'pos_y': None, 'pos_x': None, 'tag_active': None}\n",
      "Datos recibidos:\n",
      "{'next_id': 'pruebaCorreo_01inicial_inicial', 'namestate': 'prueba_qa', 'contenido': 'Vamos a ver si no truena', 'contenttype': 'text', 'typingtime': 7, 'id_robot': 415, 'blocktype': 'informativo'}\n",
      "intenatando consulta...\n",
      "consulta: select * from bloqueinformativo where next_id= 'pruebaCorreo_01inicial_inicial' and namestate= 'prueba_qa' and contenido= 'Vamos a ver si no truena' and contenttype= 'text' and typingtime= '7' and id_robot= '415' and blocktype= 'informativo' ;\n",
      "Datos enviados:\n",
      "{'namestate': 'prueba_qa', 'contenido': 'Vamos a ver si no truena', 'next_id': 'pruebaCorreo_01inicial_inicial', 'blocktype': 'informativo', 'contenttype': 'text', 'typingtime': '7', 'id_block': 1247, 'id_robot': 415, 'opc_nextid': None, 'pos_y': None, 'pos_x': None, 'tag_active': None}\n",
      "Datos recibidos:\n",
      "{'next_id': 'Salida', 'namestate': 'prueba_dos', 'contenido': 'Puedo hacer muchas cosas, entre ellas despedirme. Adios', 'contenttype': 'text', 'typingtime': 3, 'id_robot': 415, 'blocktype': 'informativo'}\n",
      "intenatando consulta...\n",
      "consulta: select * from bloqueinformativo where next_id= 'Salida' and namestate= 'prueba_dos' and contenido= 'Puedo hacer muchas cosas, entre ellas despedirme. Adios' and contenttype= 'text' and typingtime= '3' and id_robot= '415' and blocktype= 'informativo' ;\n",
      "Datos enviados:\n",
      "{'namestate': 'prueba_dos', 'contenido': 'Puedo hacer muchas cosas, entre ellas despedirme. Adios', 'next_id': 'Salida', 'blocktype': 'informativo', 'contenttype': 'text', 'typingtime': '3', 'id_block': 1248, 'id_robot': 415, 'opc_nextid': None, 'pos_y': None, 'pos_x': None, 'tag_active': None}\n"
     ]
    },
    {
     "name": "stderr",
     "output_type": "stream",
     "text": [
      "127.0.0.1 - - [18/Mar/2021 20:44:38] \"\u001b[37mPOST /insert/variables HTTP/1.1\u001b[0m\" 200 -\n",
      "127.0.0.1 - - [18/Mar/2021 20:44:39] \"\u001b[37mPOST /insert/bloquequickreply HTTP/1.1\u001b[0m\" 200 -\n"
     ]
    },
    {
     "name": "stdout",
     "output_type": "stream",
     "text": [
      "Datos recibidos:\n",
      "{'name_var': 'var_case', 'opc_type': 'Variable', 'var': 0, 'opc_data': 'Numerico', 'id_robot': 415}\n",
      "intenatando consulta...\n",
      "consulta: select * from variables where name_var= 'var_case' and opc_type= 'Variable' and var= '0' and opc_data= 'Numerico' and id_robot= '415' ;\n",
      "Datos enviados:\n",
      "{'id_var': 985, 'opc_type': 'Variable', 'opc_data': 'Numerico', 'var': '0', 'id_robot': 415, 'name_var': 'var_case'}\n",
      "Datos recibidos:\n",
      "{'contenido': '¿Cuál es tu correo?', 'opciones': 'email,otro', 'next_id': 'prueba_dos,prueba_slide', 'default_id': 'prueba_qa', 'namestate': 'pruebaCorreo_01inicial_inicial', 'typingtime': 3, 'id_robot': 415, 'id_var': 985, 'blocktype': 'quickReply'}\n",
      "intenatando consulta...\n",
      "consulta: select * from bloquequickreply where contenido= '¿Cuál es tu correo?' and opciones= 'email,otro' and next_id= 'prueba_dos,prueba_slide' and default_id= 'prueba_qa' and namestate= 'pruebaCorreo_01inicial_inicial' and typingtime= '3' and id_robot= '415' and id_var= '985' and blocktype= 'quickReply' ;\n",
      "Datos enviados:\n",
      "{'namestate': 'pruebaCorreo_01inicial_inicial', 'contenido': '¿Cuál es tu correo?', 'opciones': 'email,otro', 'next_id': 'prueba_dos,prueba_slide', 'blocktype': 'quickReply', 'typingtime': '3', 'default_id': 'prueba_qa', 'id_var': '985', 'id_block': 436, 'id_robot': 415, 'opc_nextid': None, 'pos_y': None, 'pos_x': None, 'tag_active': None}\n",
      "Datos recibidos:\n",
      "{'name_var': 'var_slideMenu', 'opc_type': 'Variable', 'var': 0, 'opc_data': 'Numerico', 'id_robot': 415}\n"
     ]
    },
    {
     "name": "stderr",
     "output_type": "stream",
     "text": [
      "127.0.0.1 - - [18/Mar/2021 20:44:39] \"\u001b[37mPOST /insert/variables HTTP/1.1\u001b[0m\" 200 -\n",
      "127.0.0.1 - - [18/Mar/2021 20:44:39] \"\u001b[37mPOST /insert/bloqueslide HTTP/1.1\u001b[0m\" 200 -\n"
     ]
    },
    {
     "name": "stdout",
     "output_type": "stream",
     "text": [
      "intenatando consulta...\n",
      "consulta: select * from variables where name_var= 'var_slideMenu' and opc_type= 'Variable' and var= '0' and opc_data= 'Numerico' and id_robot= '415' ;\n",
      "Datos enviados:\n",
      "{'id_var': 986, 'opc_type': 'Variable', 'opc_data': 'Numerico', 'var': '0', 'id_robot': 415, 'name_var': 'var_slideMenu'}\n",
      "Datos recibidos:\n",
      "{'namestate': 'prueba_slide', 'blocktype': 'slide', 'typingtime': 3, 'default_id': 'prueba_qa', 'id_var': 986, 'id_robot': 415}\n",
      "intenatando consulta...\n",
      "consulta: select * from bloqueslide where namestate= 'prueba_slide' and blocktype= 'slide' and typingtime= '3' and default_id= 'prueba_qa' and id_var= '986' and id_robot= '415' ;\n",
      "Datos enviados:\n",
      "{'namestate': 'prueba_slide', 'next_id': None, 'blocktype': 'slide', 'typingtime': '3', 'default_id': 'prueba_qa', 'id_var': '986', 'id_block': 198, 'id_robot': 415, 'opc_nextid': None, 'pos_y': None, 'pos_x': None, 'opc_elm': None, 'tag_active': None}\n",
      "Datos recibidos:\n",
      "{'title': 'Prueba titulo', 'image_url': 'https://infosertecblog.files.wordpress.com/2016/08/bot-de-telegram.jpg', 'subtitle': 'Esta es una prueba de carrusel.', 'blocktype': 'slide', 'id_block': 198}\n",
      "intenatando consulta...\n",
      "consulta: select * from elementos where title= 'Prueba titulo' and image_url= 'https://infosertecblog.files.wordpress.com/2016/08/bot-de-telegram.jpg' and subtitle= 'Esta es una prueba de carrusel.' and blocktype= 'slide' and id_block= '198' ;\n"
     ]
    },
    {
     "name": "stderr",
     "output_type": "stream",
     "text": [
      "127.0.0.1 - - [18/Mar/2021 20:44:39] \"\u001b[37mPOST /insert/elementos HTTP/1.1\u001b[0m\" 200 -\n",
      "127.0.0.1 - - [18/Mar/2021 20:44:39] \"\u001b[37mPOST /insert/botones HTTP/1.1\u001b[0m\" 200 -\n",
      "127.0.0.1 - - [18/Mar/2021 20:44:39] \"\u001b[37mPOST /insert/botones HTTP/1.1\u001b[0m\" 200 -\n"
     ]
    },
    {
     "name": "stdout",
     "output_type": "stream",
     "text": [
      "Datos enviados:\n",
      "{'blocktype': 'slide', 'title': 'Prueba titulo', 'image_url': 'https://infosertecblog.files.wordpress.com/2016/08/bot-de-telegram.jpg', 'subtitle': 'Esta es una prueba de carrusel.', 'id_block': 198, 'id_elements': 437}\n",
      "Datos recibidos:\n",
      "{'id_elemento': '437', 'titlebutton': 'Boton 1', 'typebutton': 'web_url', 'contentbutton': 'https://www.youtube.com/', 'opc_nextid': 'https://www.youtube.com/'}\n",
      "intenatando consulta...\n",
      "consulta: select * from botones where id_elemento= '437' and titlebutton= 'Boton 1' and typebutton= 'web_url' and contentbutton= 'https://www.youtube.com/' and opc_nextid= 'https://www.youtube.com/' ;\n",
      "Datos enviados:\n",
      "{'id_elemento': '437', 'titlebutton': 'Boton 1', 'typebutton': 'web_url', 'contentbutton': 'https://www.youtube.com/', 'id_boton': 686, 'opc_nextid': 'https://www.youtube.com/'}\n",
      "Datos recibidos:\n",
      "{'id_elemento': '437', 'titlebutton': 'Boton 2', 'typebutton': 'web_url', 'contentbutton': 'https://www.reddit.com/', 'opc_nextid': 'https://www.reddit.com/'}\n",
      "intenatando consulta...\n",
      "consulta: select * from botones where id_elemento= '437' and titlebutton= 'Boton 2' and typebutton= 'web_url' and contentbutton= 'https://www.reddit.com/' and opc_nextid= 'https://www.reddit.com/' ;\n",
      "Datos enviados:\n",
      "{'id_elemento': '437', 'titlebutton': 'Boton 2', 'typebutton': 'web_url', 'contentbutton': 'https://www.reddit.com/', 'id_boton': 687, 'opc_nextid': 'https://www.reddit.com/'}\n"
     ]
    },
    {
     "name": "stderr",
     "output_type": "stream",
     "text": [
      "127.0.0.1 - - [18/Mar/2021 20:44:49] \"\u001b[37mGET /select/robots HTTP/1.1\u001b[0m\" 200 -\n",
      "127.0.0.1 - - [18/Mar/2021 20:44:49] \"\u001b[37mGET /select/bloqueslide HTTP/1.1\u001b[0m\" 200 -\n",
      "127.0.0.1 - - [18/Mar/2021 20:44:50] \"\u001b[37mGET /select/elementos HTTP/1.1\u001b[0m\" 200 -\n"
     ]
    },
    {
     "name": "stdout",
     "output_type": "stream",
     "text": [
      "Datos recibidos:\n",
      "{'name_robot': 'charlybot', 'id_face': '111445520541316', 'block_ini': 'prueba_inicio', 'type_blocki': 'informativo', 'access_token': 'EAALZCCZBzPwfkBAAo7njAlW7s4DTj1ZCs5v1ung1MhEyMlJXOOtiG8r7JcBgXVPhZBHkJONyTB6jKG470UyqGPWn4aDPnisgtT2ZCZAwQIjQgZAZBufZBJXmHz6mPKSgdmP6ikDA87vocZBay2dfQdz1OYezmYbxwfILXUvXtjUMZAniQZDZD', 'id_user': 'charlygoldcruz@gmail.com', 'api_nlp': 'http://localhost:8282/'}\n",
      "intenatando consulta...\n",
      "consulta: select * from robots where id_face = '111445520541316';\n",
      "Datos enviados:\n",
      "{'name_robot': 'charlybot', 'id_face': '111445520541316', 'block_ini': 'prueba_inicio', 'type_blocki': 'informativo', 'access_token': 'EAALZCCZBzPwfkBAAo7njAlW7s4DTj1ZCs5v1ung1MhEyMlJXOOtiG8r7JcBgXVPhZBHkJONyTB6jKG470UyqGPWn4aDPnisgtT2ZCZAwQIjQgZAZBufZBJXmHz6mPKSgdmP6ikDA87vocZBay2dfQdz1OYezmYbxwfILXUvXtjUMZAniQZDZD', 'api_nlp': 'http://localhost:8282/', 'id_robot': 415, 'id_user': 'charlygoldcruz@gmail.com'}\n",
      "Datos recibidos:\n",
      "{'id_robot': '415'}\n",
      "intenatando consulta...\n",
      "consulta: select * from bloqueslide where id_robot= '415' ;\n",
      "Datos enviados:\n",
      "{'namestate': 'prueba_slide', 'next_id': 'https://www.youtube.com/,https://www.reddit.com/', 'blocktype': 'slide', 'typingtime': '3', 'default_id': 'prueba_qa', 'id_var': '986', 'id_block': 198, 'id_robot': 415, 'opc_nextid': None, 'pos_y': None, 'pos_x': None, 'opc_elm': None, 'tag_active': None}\n",
      "Datos recibidos:\n",
      "{'id_block': 198}\n",
      "intenatando consulta...\n",
      "consulta: select * from elementos where id_block= '198' ;\n",
      "Datos enviados:\n",
      "{'blocktype': 'slide', 'title': 'Prueba titulo', 'image_url': 'https://infosertecblog.files.wordpress.com/2016/08/bot-de-telegram.jpg', 'subtitle': 'Esta es una prueba de carrusel.', 'id_block': 198, 'id_elements': 437}\n"
     ]
    },
    {
     "name": "stderr",
     "output_type": "stream",
     "text": [
      "127.0.0.1 - - [18/Mar/2021 20:44:50] \"\u001b[37mPOST /insert/bloqueinformativo HTTP/1.1\u001b[0m\" 200 -\n",
      "127.0.0.1 - - [18/Mar/2021 20:44:50] \"\u001b[37mPOST /insert/variables HTTP/1.1\u001b[0m\" 200 -\n"
     ]
    },
    {
     "name": "stdout",
     "output_type": "stream",
     "text": [
      "Datos recibidos:\n",
      "{'next_id': 'prueba_captura', 'namestate': 'prueba_inicio', 'contenido': 'Hola, soy un chatbot y esto es un mensaje de prueba y adios', 'contenttype': 'text', 'typingtime': 3, 'id_robot': 415, 'blocktype': 'informativo'}\n",
      "intenatando consulta...\n",
      "consulta: select * from bloqueinformativo where next_id= 'prueba_captura' and namestate= 'prueba_inicio' and contenido= 'Hola, soy un chatbot y esto es un mensaje de prueba y adios' and contenttype= 'text' and typingtime= '3' and id_robot= '415' and blocktype= 'informativo' ;\n",
      "Datos enviados:\n",
      "{'namestate': 'prueba_inicio', 'contenido': 'Hola, soy un chatbot y esto es un mensaje de prueba y adios', 'next_id': 'prueba_captura', 'blocktype': 'informativo', 'contenttype': 'text', 'typingtime': '3', 'id_block': 1249, 'id_robot': 415, 'opc_nextid': None, 'pos_y': None, 'pos_x': None, 'tag_active': None}\n",
      "Datos recibidos:\n",
      "{'name_var': 'email', 'opc_type': 'Variable', 'var': 0, 'opc_data': 'String', 'id_robot': 415}\n",
      "intenatando consulta...\n",
      "consulta: select * from variables where name_var= 'email' and opc_type= 'Variable' and var= '0' and opc_data= 'String' and id_robot= '415' ;\n",
      "Datos enviados:\n",
      "{'id_var': 987, 'opc_type': 'Variable', 'opc_data': 'String', 'var': '0', 'id_robot': 415, 'name_var': 'email'}\n",
      "Datos recibidos:\n",
      "{'next_id': 'pruebaCorreo_01inicial_inicial', 'default_id': 'prueba_captura', 'namestate': 'prueba_captura', 'contenido': 'introduce tu correo', 'contenttype': 'text', 'typingtime': 3, 'validacion': '^[a-z0-9]+[\\\\._]?[a-z0-9]+[@]\\\\w+[.]\\\\w{2,3}$', 'id_robot': 415, 'id_var': 987, 'blocktype': 'input'}\n",
      "intenatando consulta...\n",
      "consulta: select * from bloqueinput where next_id= 'pruebaCorreo_01inicial_inicial' and default_id= 'prueba_captura' and namestate= 'prueba_captura' and contenido= 'introduce tu correo' and contenttype= 'text' and typingtime= '3' and validacion= '^[a-z0-9]+[\\._]?[a-z0-9]+[@]\\w+[.]\\w{2,3}$' and id_robot= '415' and id_var= '987' and blocktype= 'input' ;\n"
     ]
    },
    {
     "name": "stderr",
     "output_type": "stream",
     "text": [
      "127.0.0.1 - - [18/Mar/2021 20:44:50] \"\u001b[37mPOST /insert/bloqueinput HTTP/1.1\u001b[0m\" 200 -\n",
      "127.0.0.1 - - [18/Mar/2021 20:44:50] \"\u001b[37mPOST /insert/bloqueinformativo HTTP/1.1\u001b[0m\" 200 -\n",
      "127.0.0.1 - - [18/Mar/2021 20:44:50] \"\u001b[37mPOST /insert/bloqueinformativo HTTP/1.1\u001b[0m\" 200 -\n"
     ]
    },
    {
     "name": "stdout",
     "output_type": "stream",
     "text": [
      "Datos enviados:\n",
      "{'namestate': 'prueba_captura', 'contenido': 'introduce tu correo', 'next_id': 'pruebaCorreo_01inicial_inicial', 'blocktype': 'input', 'contenttype': 'text', 'typingtime': '3', 'validacion': '^[a-z0-9]+[\\\\._]?[a-z0-9]+[@]\\\\w+[.]\\\\w{2,3}$', 'default_id': 'prueba_captura', 'id_var': '987', 'id_block': 153, 'id_robot': 415, 'opc_nextid': None, 'pos_y': None, 'pos_x': None, 'tag_active': None}\n",
      "Datos recibidos:\n",
      "{'next_id': 'pruebaCorreo_01inicial_inicial', 'namestate': 'prueba_qa', 'contenido': 'Vamos a ver si no truena', 'contenttype': 'text', 'typingtime': 7, 'id_robot': 415, 'blocktype': 'informativo'}\n",
      "intenatando consulta...\n",
      "consulta: select * from bloqueinformativo where next_id= 'pruebaCorreo_01inicial_inicial' and namestate= 'prueba_qa' and contenido= 'Vamos a ver si no truena' and contenttype= 'text' and typingtime= '7' and id_robot= '415' and blocktype= 'informativo' ;\n",
      "Datos enviados:\n",
      "{'namestate': 'prueba_qa', 'contenido': 'Vamos a ver si no truena', 'next_id': 'pruebaCorreo_01inicial_inicial', 'blocktype': 'informativo', 'contenttype': 'text', 'typingtime': '7', 'id_block': 1250, 'id_robot': 415, 'opc_nextid': None, 'pos_y': None, 'pos_x': None, 'tag_active': None}\n",
      "Datos recibidos:\n",
      "{'next_id': 'Salida', 'namestate': 'prueba_dos', 'contenido': 'Puedo hacer muchas cosas, entre ellas despedirme. Adios', 'contenttype': 'text', 'typingtime': 3, 'id_robot': 415, 'blocktype': 'informativo'}\n",
      "intenatando consulta...\n",
      "consulta: select * from bloqueinformativo where next_id= 'Salida' and namestate= 'prueba_dos' and contenido= 'Puedo hacer muchas cosas, entre ellas despedirme. Adios' and contenttype= 'text' and typingtime= '3' and id_robot= '415' and blocktype= 'informativo' ;\n",
      "Datos enviados:\n",
      "{'namestate': 'prueba_dos', 'contenido': 'Puedo hacer muchas cosas, entre ellas despedirme. Adios', 'next_id': 'Salida', 'blocktype': 'informativo', 'contenttype': 'text', 'typingtime': '3', 'id_block': 1251, 'id_robot': 415, 'opc_nextid': None, 'pos_y': None, 'pos_x': None, 'tag_active': None}\n",
      "Datos recibidos:\n",
      "{'name_var': 'var_case', 'opc_type': 'Variable', 'var': 0, 'opc_data': 'Numerico', 'id_robot': 415}\n"
     ]
    },
    {
     "name": "stderr",
     "output_type": "stream",
     "text": [
      "127.0.0.1 - - [18/Mar/2021 20:44:50] \"\u001b[37mPOST /insert/variables HTTP/1.1\u001b[0m\" 200 -\n",
      "127.0.0.1 - - [18/Mar/2021 20:44:50] \"\u001b[37mPOST /insert/bloquequickreply HTTP/1.1\u001b[0m\" 200 -\n",
      "127.0.0.1 - - [18/Mar/2021 20:44:50] \"\u001b[37mPOST /insert/variables HTTP/1.1\u001b[0m\" 200 -\n"
     ]
    },
    {
     "name": "stdout",
     "output_type": "stream",
     "text": [
      "intenatando consulta...\n",
      "consulta: select * from variables where name_var= 'var_case' and opc_type= 'Variable' and var= '0' and opc_data= 'Numerico' and id_robot= '415' ;\n",
      "Datos enviados:\n",
      "{'id_var': 988, 'opc_type': 'Variable', 'opc_data': 'Numerico', 'var': '0', 'id_robot': 415, 'name_var': 'var_case'}\n",
      "Datos recibidos:\n",
      "{'contenido': '¿Cuál es tu correo?', 'opciones': 'email,otro', 'next_id': 'prueba_dos,prueba_slide', 'default_id': 'prueba_qa', 'namestate': 'pruebaCorreo_01inicial_inicial', 'typingtime': 3, 'id_robot': 415, 'id_var': 988, 'blocktype': 'quickReply'}\n",
      "intenatando consulta...\n",
      "consulta: select * from bloquequickreply where contenido= '¿Cuál es tu correo?' and opciones= 'email,otro' and next_id= 'prueba_dos,prueba_slide' and default_id= 'prueba_qa' and namestate= 'pruebaCorreo_01inicial_inicial' and typingtime= '3' and id_robot= '415' and id_var= '988' and blocktype= 'quickReply' ;\n",
      "Datos enviados:\n",
      "{'namestate': 'pruebaCorreo_01inicial_inicial', 'contenido': '¿Cuál es tu correo?', 'opciones': 'email,otro', 'next_id': 'prueba_dos,prueba_slide', 'blocktype': 'quickReply', 'typingtime': '3', 'default_id': 'prueba_qa', 'id_var': '988', 'id_block': 437, 'id_robot': 415, 'opc_nextid': None, 'pos_y': None, 'pos_x': None, 'tag_active': None}\n",
      "Datos recibidos:\n",
      "{'name_var': 'var_slideMenu', 'opc_type': 'Variable', 'var': 0, 'opc_data': 'Numerico', 'id_robot': 415}\n",
      "intenatando consulta...\n",
      "consulta: select * from variables where name_var= 'var_slideMenu' and opc_type= 'Variable' and var= '0' and opc_data= 'Numerico' and id_robot= '415' ;\n",
      "Datos enviados:\n",
      "{'id_var': 989, 'opc_type': 'Variable', 'opc_data': 'Numerico', 'var': '0', 'id_robot': 415, 'name_var': 'var_slideMenu'}\n",
      "Datos recibidos:\n",
      "{'namestate': 'prueba_slide', 'blocktype': 'slide', 'typingtime': 3, 'default_id': 'prueba_qa', 'id_var': 989, 'id_robot': 415}\n"
     ]
    },
    {
     "name": "stderr",
     "output_type": "stream",
     "text": [
      "127.0.0.1 - - [18/Mar/2021 20:44:50] \"\u001b[37mPOST /insert/bloqueslide HTTP/1.1\u001b[0m\" 200 -\n",
      "127.0.0.1 - - [18/Mar/2021 20:44:50] \"\u001b[37mPOST /insert/elementos HTTP/1.1\u001b[0m\" 200 -\n",
      "127.0.0.1 - - [18/Mar/2021 20:44:50] \"\u001b[37mPOST /insert/botones HTTP/1.1\u001b[0m\" 200 -\n"
     ]
    },
    {
     "name": "stdout",
     "output_type": "stream",
     "text": [
      "intenatando consulta...\n",
      "consulta: select * from bloqueslide where namestate= 'prueba_slide' and blocktype= 'slide' and typingtime= '3' and default_id= 'prueba_qa' and id_var= '989' and id_robot= '415' ;\n",
      "Datos enviados:\n",
      "{'namestate': 'prueba_slide', 'next_id': None, 'blocktype': 'slide', 'typingtime': '3', 'default_id': 'prueba_qa', 'id_var': '989', 'id_block': 199, 'id_robot': 415, 'opc_nextid': None, 'pos_y': None, 'pos_x': None, 'opc_elm': None, 'tag_active': None}\n",
      "Datos recibidos:\n",
      "{'title': 'Prueba titulo', 'image_url': 'https://infosertecblog.files.wordpress.com/2016/08/bot-de-telegram.jpg', 'subtitle': 'Esta es una prueba de carrusel.', 'blocktype': 'slide', 'id_block': 199}\n",
      "intenatando consulta...\n",
      "consulta: select * from elementos where title= 'Prueba titulo' and image_url= 'https://infosertecblog.files.wordpress.com/2016/08/bot-de-telegram.jpg' and subtitle= 'Esta es una prueba de carrusel.' and blocktype= 'slide' and id_block= '199' ;\n",
      "Datos enviados:\n",
      "{'blocktype': 'slide', 'title': 'Prueba titulo', 'image_url': 'https://infosertecblog.files.wordpress.com/2016/08/bot-de-telegram.jpg', 'subtitle': 'Esta es una prueba de carrusel.', 'id_block': 199, 'id_elements': 438}\n",
      "Datos recibidos:\n",
      "{'id_elemento': '438', 'titlebutton': 'Boton 1', 'typebutton': 'web_url', 'contentbutton': 'https://www.youtube.com/', 'opc_nextid': 'https://www.youtube.com/'}\n",
      "intenatando consulta...\n",
      "consulta: select * from botones where id_elemento= '438' and titlebutton= 'Boton 1' and typebutton= 'web_url' and contentbutton= 'https://www.youtube.com/' and opc_nextid= 'https://www.youtube.com/' ;\n",
      "Datos enviados:\n",
      "{'id_elemento': '438', 'titlebutton': 'Boton 1', 'typebutton': 'web_url', 'contentbutton': 'https://www.youtube.com/', 'id_boton': 688, 'opc_nextid': 'https://www.youtube.com/'}\n",
      "Datos recibidos:\n",
      "{'id_elemento': '438', 'titlebutton': 'Boton 2', 'typebutton': 'web_url', 'contentbutton': 'https://www.reddit.com/', 'opc_nextid': 'https://www.reddit.com/'}\n"
     ]
    },
    {
     "name": "stderr",
     "output_type": "stream",
     "text": [
      "127.0.0.1 - - [18/Mar/2021 20:44:51] \"\u001b[37mPOST /insert/botones HTTP/1.1\u001b[0m\" 200 -\n"
     ]
    },
    {
     "name": "stdout",
     "output_type": "stream",
     "text": [
      "intenatando consulta...\n",
      "consulta: select * from botones where id_elemento= '438' and titlebutton= 'Boton 2' and typebutton= 'web_url' and contentbutton= 'https://www.reddit.com/' and opc_nextid= 'https://www.reddit.com/' ;\n",
      "Datos enviados:\n",
      "{'id_elemento': '438', 'titlebutton': 'Boton 2', 'typebutton': 'web_url', 'contentbutton': 'https://www.reddit.com/', 'id_boton': 689, 'opc_nextid': 'https://www.reddit.com/'}\n"
     ]
    },
    {
     "name": "stderr",
     "output_type": "stream",
     "text": [
      "127.0.0.1 - - [18/Mar/2021 21:07:15] \"\u001b[37mGET /select/robots HTTP/1.1\u001b[0m\" 200 -\n",
      "127.0.0.1 - - [18/Mar/2021 21:07:15] \"\u001b[37mPOST /insert/robots HTTP/1.1\u001b[0m\" 200 -\n",
      "127.0.0.1 - - [18/Mar/2021 21:07:15] \"\u001b[37mPOST /insert/bloqueinformativo HTTP/1.1\u001b[0m\" 200 -\n"
     ]
    },
    {
     "name": "stdout",
     "output_type": "stream",
     "text": [
      "Datos recibidos:\n",
      "{'name_robot': 'charlybot', 'id_face': '111445520541316', 'block_ini': 'prueba_inicio', 'type_blocki': 'informativo', 'access_token': 'EAALZCCZBzPwfkBAAo7njAlW7s4DTj1ZCs5v1ung1MhEyMlJXOOtiG8r7JcBgXVPhZBHkJONyTB6jKG470UyqGPWn4aDPnisgtT2ZCZAwQIjQgZAZBufZBJXmHz6mPKSgdmP6ikDA87vocZBay2dfQdz1OYezmYbxwfILXUvXtjUMZAniQZDZD', 'id_user': 'charlygoldcruz@gmail.com', 'api_nlp': 'http://localhost:8282/'}\n",
      "intenatando consulta...\n",
      "consulta: select * from robots where id_face = '111445520541316';\n",
      "La consulta no trajo nada\n",
      "Datos enviados:\n",
      "{'error': 'true'}\n",
      "Datos recibidos:\n",
      "{'name_robot': 'charlybot', 'id_face': '111445520541316', 'block_ini': 'prueba_inicio', 'type_blocki': 'informativo', 'access_token': 'EAALZCCZBzPwfkBAAo7njAlW7s4DTj1ZCs5v1ung1MhEyMlJXOOtiG8r7JcBgXVPhZBHkJONyTB6jKG470UyqGPWn4aDPnisgtT2ZCZAwQIjQgZAZBufZBJXmHz6mPKSgdmP6ikDA87vocZBay2dfQdz1OYezmYbxwfILXUvXtjUMZAniQZDZD', 'id_user': 'charlygoldcruz@gmail.com', 'api_nlp': 'http://localhost:8282/'}\n",
      "intenatando consulta...\n",
      "consulta: select * from robots where id_face = '111445520541316';\n",
      "Datos enviados:\n",
      "{'name_robot': 'charlybot', 'id_face': '111445520541316', 'block_ini': 'prueba_inicio', 'type_blocki': 'informativo', 'access_token': 'EAALZCCZBzPwfkBAAo7njAlW7s4DTj1ZCs5v1ung1MhEyMlJXOOtiG8r7JcBgXVPhZBHkJONyTB6jKG470UyqGPWn4aDPnisgtT2ZCZAwQIjQgZAZBufZBJXmHz6mPKSgdmP6ikDA87vocZBay2dfQdz1OYezmYbxwfILXUvXtjUMZAniQZDZD', 'api_nlp': 'http://localhost:8282/', 'id_robot': 416, 'id_user': 'charlygoldcruz@gmail.com'}\n",
      "Datos recibidos:\n",
      "{'next_id': 'prueba_captura', 'namestate': 'prueba_inicio', 'contenido': 'Hola, soy un chatbot y esto es un mensaje de prueba y adios', 'contenttype': 'text', 'typingtime': 3, 'id_robot': 416, 'blocktype': 'informativo'}\n",
      "intenatando consulta...\n",
      "consulta: select * from bloqueinformativo where next_id= 'prueba_captura' and namestate= 'prueba_inicio' and contenido= 'Hola, soy un chatbot y esto es un mensaje de prueba y adios' and contenttype= 'text' and typingtime= '3' and id_robot= '416' and blocktype= 'informativo' ;\n",
      "Datos enviados:\n",
      "{'namestate': 'prueba_inicio', 'contenido': 'Hola, soy un chatbot y esto es un mensaje de prueba y adios', 'next_id': 'prueba_captura', 'blocktype': 'informativo', 'contenttype': 'text', 'typingtime': '3', 'id_block': 1252, 'id_robot': 416, 'opc_nextid': None, 'pos_y': None, 'pos_x': None, 'tag_active': None}\n"
     ]
    },
    {
     "name": "stderr",
     "output_type": "stream",
     "text": [
      "127.0.0.1 - - [18/Mar/2021 21:07:15] \"\u001b[37mPOST /insert/variables HTTP/1.1\u001b[0m\" 200 -\n",
      "127.0.0.1 - - [18/Mar/2021 21:07:15] \"\u001b[37mPOST /insert/bloqueinput HTTP/1.1\u001b[0m\" 200 -\n"
     ]
    },
    {
     "name": "stdout",
     "output_type": "stream",
     "text": [
      "Datos recibidos:\n",
      "{'name_var': 'email', 'opc_type': 'Variable', 'var': 0, 'opc_data': 'String', 'id_robot': 416}\n",
      "intenatando consulta...\n",
      "consulta: select * from variables where name_var= 'email' and opc_type= 'Variable' and var= '0' and opc_data= 'String' and id_robot= '416' ;\n",
      "Datos enviados:\n",
      "{'id_var': 990, 'opc_type': 'Variable', 'opc_data': 'String', 'var': '0', 'id_robot': 416, 'name_var': 'email'}\n",
      "Datos recibidos:\n",
      "{'next_id': 'pruebaCorreo_01inicial_inicial', 'default_id': 'prueba_captura', 'namestate': 'prueba_captura', 'contenido': 'introduce tu correo', 'contenttype': 'text', 'typingtime': 3, 'validacion': '^[a-z0-9]+[\\\\._]?[a-z0-9]+[@]\\\\w+[.]\\\\w{2,3}$', 'id_robot': 416, 'id_var': 990, 'blocktype': 'input'}\n",
      "intenatando consulta...\n",
      "consulta: select * from bloqueinput where next_id= 'pruebaCorreo_01inicial_inicial' and default_id= 'prueba_captura' and namestate= 'prueba_captura' and contenido= 'introduce tu correo' and contenttype= 'text' and typingtime= '3' and validacion= '^[a-z0-9]+[\\._]?[a-z0-9]+[@]\\w+[.]\\w{2,3}$' and id_robot= '416' and id_var= '990' and blocktype= 'input' ;\n",
      "Datos enviados:\n",
      "{'namestate': 'prueba_captura', 'contenido': 'introduce tu correo', 'next_id': 'pruebaCorreo_01inicial_inicial', 'blocktype': 'input', 'contenttype': 'text', 'typingtime': '3', 'validacion': '^[a-z0-9]+[\\\\._]?[a-z0-9]+[@]\\\\w+[.]\\\\w{2,3}$', 'default_id': 'prueba_captura', 'id_var': '990', 'id_block': 154, 'id_robot': 416, 'opc_nextid': None, 'pos_y': None, 'pos_x': None, 'tag_active': None}\n",
      "Datos recibidos:\n",
      "{'next_id': 'pruebaCorreo_01inicial_inicial', 'namestate': 'prueba_qa', 'contenido': 'Vamos a ver si no truena', 'contenttype': 'text', 'typingtime': 7, 'id_robot': 416, 'blocktype': 'informativo'}\n",
      "intenatando consulta...\n",
      "consulta: select * from bloqueinformativo where next_id= 'pruebaCorreo_01inicial_inicial' and namestate= 'prueba_qa' and contenido= 'Vamos a ver si no truena' and contenttype= 'text' and typingtime= '7' and id_robot= '416' and blocktype= 'informativo' ;\n"
     ]
    },
    {
     "name": "stderr",
     "output_type": "stream",
     "text": [
      "127.0.0.1 - - [18/Mar/2021 21:07:15] \"\u001b[37mPOST /insert/bloqueinformativo HTTP/1.1\u001b[0m\" 200 -\n",
      "127.0.0.1 - - [18/Mar/2021 21:07:15] \"\u001b[37mPOST /insert/bloqueinformativo HTTP/1.1\u001b[0m\" 200 -\n",
      "127.0.0.1 - - [18/Mar/2021 21:07:15] \"\u001b[37mPOST /insert/variables HTTP/1.1\u001b[0m\" 200 -\n"
     ]
    },
    {
     "name": "stdout",
     "output_type": "stream",
     "text": [
      "Datos enviados:\n",
      "{'namestate': 'prueba_qa', 'contenido': 'Vamos a ver si no truena', 'next_id': 'pruebaCorreo_01inicial_inicial', 'blocktype': 'informativo', 'contenttype': 'text', 'typingtime': '7', 'id_block': 1253, 'id_robot': 416, 'opc_nextid': None, 'pos_y': None, 'pos_x': None, 'tag_active': None}\n",
      "Datos recibidos:\n",
      "{'next_id': 'Salida', 'namestate': 'prueba_dos', 'contenido': 'Puedo hacer muchas cosas, entre ellas despedirme. Adios', 'contenttype': 'text', 'typingtime': 3, 'id_robot': 416, 'blocktype': 'informativo'}\n",
      "intenatando consulta...\n",
      "consulta: select * from bloqueinformativo where next_id= 'Salida' and namestate= 'prueba_dos' and contenido= 'Puedo hacer muchas cosas, entre ellas despedirme. Adios' and contenttype= 'text' and typingtime= '3' and id_robot= '416' and blocktype= 'informativo' ;\n",
      "Datos enviados:\n",
      "{'namestate': 'prueba_dos', 'contenido': 'Puedo hacer muchas cosas, entre ellas despedirme. Adios', 'next_id': 'Salida', 'blocktype': 'informativo', 'contenttype': 'text', 'typingtime': '3', 'id_block': 1254, 'id_robot': 416, 'opc_nextid': None, 'pos_y': None, 'pos_x': None, 'tag_active': None}\n",
      "Datos recibidos:\n",
      "{'name_var': 'var_case', 'opc_type': 'Variable', 'var': 0, 'opc_data': 'Numerico', 'id_robot': 416}\n",
      "intenatando consulta...\n",
      "consulta: select * from variables where name_var= 'var_case' and opc_type= 'Variable' and var= '0' and opc_data= 'Numerico' and id_robot= '416' ;\n",
      "Datos enviados:\n",
      "{'id_var': 991, 'opc_type': 'Variable', 'opc_data': 'Numerico', 'var': '0', 'id_robot': 416, 'name_var': 'var_case'}\n"
     ]
    },
    {
     "name": "stderr",
     "output_type": "stream",
     "text": [
      "127.0.0.1 - - [18/Mar/2021 21:07:15] \"\u001b[37mPOST /insert/bloquequickreply HTTP/1.1\u001b[0m\" 200 -\n",
      "127.0.0.1 - - [18/Mar/2021 21:07:16] \"\u001b[37mPOST /insert/variables HTTP/1.1\u001b[0m\" 200 -\n"
     ]
    },
    {
     "name": "stdout",
     "output_type": "stream",
     "text": [
      "Datos recibidos:\n",
      "{'contenido': '¿Cuál es tu correo?', 'opciones': 'email,otro', 'next_id': 'prueba_dos,prueba_slide', 'default_id': 'prueba_qa', 'namestate': 'pruebaCorreo_01inicial_inicial', 'typingtime': 3, 'id_robot': 416, 'id_var': 991, 'blocktype': 'quickReply'}\n",
      "intenatando consulta...\n",
      "consulta: select * from bloquequickreply where contenido= '¿Cuál es tu correo?' and opciones= 'email,otro' and next_id= 'prueba_dos,prueba_slide' and default_id= 'prueba_qa' and namestate= 'pruebaCorreo_01inicial_inicial' and typingtime= '3' and id_robot= '416' and id_var= '991' and blocktype= 'quickReply' ;\n",
      "Datos enviados:\n",
      "{'namestate': 'pruebaCorreo_01inicial_inicial', 'contenido': '¿Cuál es tu correo?', 'opciones': 'email,otro', 'next_id': 'prueba_dos,prueba_slide', 'blocktype': 'quickReply', 'typingtime': '3', 'default_id': 'prueba_qa', 'id_var': '991', 'id_block': 438, 'id_robot': 416, 'opc_nextid': None, 'pos_y': None, 'pos_x': None, 'tag_active': None}\n",
      "Datos recibidos:\n",
      "{'name_var': 'var_slideMenu', 'opc_type': 'Variable', 'var': 0, 'opc_data': 'Numerico', 'id_robot': 416}\n",
      "intenatando consulta...\n",
      "consulta: select * from variables where name_var= 'var_slideMenu' and opc_type= 'Variable' and var= '0' and opc_data= 'Numerico' and id_robot= '416' ;\n",
      "Datos enviados:\n",
      "{'id_var': 992, 'opc_type': 'Variable', 'opc_data': 'Numerico', 'var': '0', 'id_robot': 416, 'name_var': 'var_slideMenu'}\n",
      "Datos recibidos:\n",
      "{'namestate': 'prueba_slide', 'blocktype': 'slide', 'typingtime': 3, 'default_id': 'prueba_qa', 'id_var': 992, 'id_robot': 416}\n"
     ]
    },
    {
     "name": "stderr",
     "output_type": "stream",
     "text": [
      "127.0.0.1 - - [18/Mar/2021 21:07:16] \"\u001b[37mPOST /insert/bloqueslide HTTP/1.1\u001b[0m\" 200 -\n",
      "127.0.0.1 - - [18/Mar/2021 21:07:16] \"\u001b[37mPOST /insert/elementos HTTP/1.1\u001b[0m\" 200 -\n",
      "127.0.0.1 - - [18/Mar/2021 21:07:16] \"\u001b[37mPOST /insert/botones HTTP/1.1\u001b[0m\" 200 -\n"
     ]
    },
    {
     "name": "stdout",
     "output_type": "stream",
     "text": [
      "intenatando consulta...\n",
      "consulta: select * from bloqueslide where namestate= 'prueba_slide' and blocktype= 'slide' and typingtime= '3' and default_id= 'prueba_qa' and id_var= '992' and id_robot= '416' ;\n",
      "Datos enviados:\n",
      "{'namestate': 'prueba_slide', 'next_id': None, 'blocktype': 'slide', 'typingtime': '3', 'default_id': 'prueba_qa', 'id_var': '992', 'id_block': 200, 'id_robot': 416, 'opc_nextid': None, 'pos_y': None, 'pos_x': None, 'opc_elm': None, 'tag_active': None}\n",
      "Datos recibidos:\n",
      "{'title': 'Prueba titulo', 'image_url': 'https://infosertecblog.files.wordpress.com/2016/08/bot-de-telegram.jpg', 'subtitle': 'Esta es una prueba de carrusel.', 'blocktype': 'slide', 'id_block': 200}\n",
      "intenatando consulta...\n",
      "consulta: select * from elementos where title= 'Prueba titulo' and image_url= 'https://infosertecblog.files.wordpress.com/2016/08/bot-de-telegram.jpg' and subtitle= 'Esta es una prueba de carrusel.' and blocktype= 'slide' and id_block= '200' ;\n",
      "Datos enviados:\n",
      "{'blocktype': 'slide', 'title': 'Prueba titulo', 'image_url': 'https://infosertecblog.files.wordpress.com/2016/08/bot-de-telegram.jpg', 'subtitle': 'Esta es una prueba de carrusel.', 'id_block': 200, 'id_elements': 439}\n",
      "Datos recibidos:\n",
      "{'id_elemento': '439', 'titlebutton': 'Boton 1', 'typebutton': 'web_url', 'contentbutton': 'https://www.youtube.com/', 'opc_nextid': 'https://www.youtube.com/'}\n",
      "intenatando consulta...\n",
      "consulta: select * from botones where id_elemento= '439' and titlebutton= 'Boton 1' and typebutton= 'web_url' and contentbutton= 'https://www.youtube.com/' and opc_nextid= 'https://www.youtube.com/' ;\n",
      "Datos enviados:\n",
      "{'id_elemento': '439', 'titlebutton': 'Boton 1', 'typebutton': 'web_url', 'contentbutton': 'https://www.youtube.com/', 'id_boton': 690, 'opc_nextid': 'https://www.youtube.com/'}\n",
      "Datos recibidos:\n",
      "{'id_elemento': '439', 'titlebutton': 'Boton 2', 'typebutton': 'web_url', 'contentbutton': 'https://www.reddit.com/', 'opc_nextid': 'https://www.reddit.com/'}\n"
     ]
    },
    {
     "name": "stderr",
     "output_type": "stream",
     "text": [
      "127.0.0.1 - - [18/Mar/2021 21:07:16] \"\u001b[37mPOST /insert/botones HTTP/1.1\u001b[0m\" 200 -\n"
     ]
    },
    {
     "name": "stdout",
     "output_type": "stream",
     "text": [
      "intenatando consulta...\n",
      "consulta: select * from botones where id_elemento= '439' and titlebutton= 'Boton 2' and typebutton= 'web_url' and contentbutton= 'https://www.reddit.com/' and opc_nextid= 'https://www.reddit.com/' ;\n",
      "Datos enviados:\n",
      "{'id_elemento': '439', 'titlebutton': 'Boton 2', 'typebutton': 'web_url', 'contentbutton': 'https://www.reddit.com/', 'id_boton': 691, 'opc_nextid': 'https://www.reddit.com/'}\n"
     ]
    },
    {
     "name": "stderr",
     "output_type": "stream",
     "text": [
      "127.0.0.1 - - [18/Mar/2021 21:07:59] \"\u001b[37mGET /select/robots HTTP/1.1\u001b[0m\" 200 -\n",
      "127.0.0.1 - - [18/Mar/2021 21:07:59] \"\u001b[37mPOST /insert/robots HTTP/1.1\u001b[0m\" 200 -\n",
      "127.0.0.1 - - [18/Mar/2021 21:07:59] \"\u001b[37mPOST /insert/bloqueinformativo HTTP/1.1\u001b[0m\" 200 -\n"
     ]
    },
    {
     "name": "stdout",
     "output_type": "stream",
     "text": [
      "Datos recibidos:\n",
      "{'name_robot': 'oliverBot', 'id_face': '2153123008120093', 'block_ini': 'prueba_inicio', 'type_blocki': 'quickreply', 'access_token': 'EAAHNkscg2TcBAMvebksfOxuFBpMeR5sUhzHTKtqdi6NkqQKZAdkeaGVJ9Yc5bNbvL3JLzCgB7EEqsVUTZADhidVcC3zJV1UZB4Uz0Hm3fZB9IETnWb4I8MoK8nxpenC1lYwnjwnRwMHVZA1FKw8d3A45t9xCxmPKnm6kIr5ZCA8wZDZD', 'id_user': 'oliverbp88@gmail.com', 'api_nlp': 'http://localhost:8282/'}\n",
      "intenatando consulta...\n",
      "consulta: select * from robots where id_face = '2153123008120093';\n",
      "La consulta no trajo nada\n",
      "Datos enviados:\n",
      "{'error': 'true'}\n",
      "Datos recibidos:\n",
      "{'name_robot': 'oliverBot', 'id_face': '2153123008120093', 'block_ini': 'prueba_inicio', 'type_blocki': 'quickreply', 'access_token': 'EAAHNkscg2TcBAMvebksfOxuFBpMeR5sUhzHTKtqdi6NkqQKZAdkeaGVJ9Yc5bNbvL3JLzCgB7EEqsVUTZADhidVcC3zJV1UZB4Uz0Hm3fZB9IETnWb4I8MoK8nxpenC1lYwnjwnRwMHVZA1FKw8d3A45t9xCxmPKnm6kIr5ZCA8wZDZD', 'id_user': 'oliverbp88@gmail.com', 'api_nlp': 'http://localhost:8282/'}\n",
      "intenatando consulta...\n",
      "consulta: select * from robots where id_face = '2153123008120093';\n",
      "Datos enviados:\n",
      "{'name_robot': 'oliverBot', 'id_face': '2153123008120093', 'block_ini': 'prueba_inicio', 'type_blocki': 'quickreply', 'access_token': 'EAAHNkscg2TcBAMvebksfOxuFBpMeR5sUhzHTKtqdi6NkqQKZAdkeaGVJ9Yc5bNbvL3JLzCgB7EEqsVUTZADhidVcC3zJV1UZB4Uz0Hm3fZB9IETnWb4I8MoK8nxpenC1lYwnjwnRwMHVZA1FKw8d3A45t9xCxmPKnm6kIr5ZCA8wZDZD', 'api_nlp': 'http://localhost:8282/', 'id_robot': 417, 'id_user': 'oliverbp88@gmail.com'}\n",
      "Datos recibidos:\n",
      "{'next_id': 'pruebaCorreo_01inicial_inicial', 'namestate': 'prueba_inicio', 'contenido': 'Hola, soy un chatbot y esto es un mensaje de prueba y adios', 'contenttype': 'text', 'typingtime': 3, 'id_robot': 417, 'blocktype': 'informativo'}\n",
      "intenatando consulta...\n",
      "consulta: select * from bloqueinformativo where next_id= 'pruebaCorreo_01inicial_inicial' and namestate= 'prueba_inicio' and contenido= 'Hola, soy un chatbot y esto es un mensaje de prueba y adios' and contenttype= 'text' and typingtime= '3' and id_robot= '417' and blocktype= 'informativo' ;\n",
      "Datos enviados:\n",
      "{'namestate': 'prueba_inicio', 'contenido': 'Hola, soy un chatbot y esto es un mensaje de prueba y adios', 'next_id': 'pruebaCorreo_01inicial_inicial', 'blocktype': 'informativo', 'contenttype': 'text', 'typingtime': '3', 'id_block': 1255, 'id_robot': 417, 'opc_nextid': None, 'pos_y': None, 'pos_x': None, 'tag_active': None}\n"
     ]
    },
    {
     "name": "stderr",
     "output_type": "stream",
     "text": [
      "127.0.0.1 - - [18/Mar/2021 21:07:59] \"\u001b[37mPOST /insert/bloqueinformativo HTTP/1.1\u001b[0m\" 200 -\n",
      "127.0.0.1 - - [18/Mar/2021 21:07:59] \"\u001b[37mPOST /insert/bloqueinformativo HTTP/1.1\u001b[0m\" 200 -\n"
     ]
    },
    {
     "name": "stdout",
     "output_type": "stream",
     "text": [
      "Datos recibidos:\n",
      "{'next_id': 'pruebaCorreo_01inicial_inicial', 'namestate': 'prueba_qa', 'contenido': 'Vamos a ver si no truena', 'contenttype': 'text', 'typingtime': 7, 'id_robot': 417, 'blocktype': 'informativo'}\n",
      "intenatando consulta...\n",
      "consulta: select * from bloqueinformativo where next_id= 'pruebaCorreo_01inicial_inicial' and namestate= 'prueba_qa' and contenido= 'Vamos a ver si no truena' and contenttype= 'text' and typingtime= '7' and id_robot= '417' and blocktype= 'informativo' ;\n",
      "Datos enviados:\n",
      "{'namestate': 'prueba_qa', 'contenido': 'Vamos a ver si no truena', 'next_id': 'pruebaCorreo_01inicial_inicial', 'blocktype': 'informativo', 'contenttype': 'text', 'typingtime': '7', 'id_block': 1256, 'id_robot': 417, 'opc_nextid': None, 'pos_y': None, 'pos_x': None, 'tag_active': None}\n",
      "Datos recibidos:\n",
      "{'next_id': 'Salida', 'namestate': 'prueba_dos', 'contenido': 'Puedo hacer muchas cosas, entre ellas despedirme. Adios', 'contenttype': 'text', 'typingtime': 3, 'id_robot': 417, 'blocktype': 'informativo'}\n",
      "intenatando consulta...\n",
      "consulta: select * from bloqueinformativo where next_id= 'Salida' and namestate= 'prueba_dos' and contenido= 'Puedo hacer muchas cosas, entre ellas despedirme. Adios' and contenttype= 'text' and typingtime= '3' and id_robot= '417' and blocktype= 'informativo' ;\n",
      "Datos enviados:\n",
      "{'namestate': 'prueba_dos', 'contenido': 'Puedo hacer muchas cosas, entre ellas despedirme. Adios', 'next_id': 'Salida', 'blocktype': 'informativo', 'contenttype': 'text', 'typingtime': '3', 'id_block': 1257, 'id_robot': 417, 'opc_nextid': None, 'pos_y': None, 'pos_x': None, 'tag_active': None}\n",
      "Datos recibidos:\n",
      "{'name_var': 'var_case', 'opc_type': 'Variable', 'var': 0, 'opc_data': 'Numerico', 'id_robot': 417}\n"
     ]
    },
    {
     "name": "stderr",
     "output_type": "stream",
     "text": [
      "127.0.0.1 - - [18/Mar/2021 21:07:59] \"\u001b[37mPOST /insert/variables HTTP/1.1\u001b[0m\" 200 -\n",
      "127.0.0.1 - - [18/Mar/2021 21:07:59] \"\u001b[37mPOST /insert/bloquequickreply HTTP/1.1\u001b[0m\" 200 -\n"
     ]
    },
    {
     "name": "stdout",
     "output_type": "stream",
     "text": [
      "intenatando consulta...\n",
      "consulta: select * from variables where name_var= 'var_case' and opc_type= 'Variable' and var= '0' and opc_data= 'Numerico' and id_robot= '417' ;\n",
      "Datos enviados:\n",
      "{'id_var': 993, 'opc_type': 'Variable', 'opc_data': 'Numerico', 'var': '0', 'id_robot': 417, 'name_var': 'var_case'}\n",
      "Datos recibidos:\n",
      "{'contenido': '¿Cuál es tu correo?', 'opciones': 'email,otro', 'next_id': 'prueba_dos,prueba_slide', 'default_id': 'prueba_qa', 'namestate': 'pruebaCorreo_01inicial_inicial', 'typingtime': 3, 'id_robot': 417, 'id_var': 993, 'blocktype': 'quickReply'}\n",
      "intenatando consulta...\n",
      "consulta: select * from bloquequickreply where contenido= '¿Cuál es tu correo?' and opciones= 'email,otro' and next_id= 'prueba_dos,prueba_slide' and default_id= 'prueba_qa' and namestate= 'pruebaCorreo_01inicial_inicial' and typingtime= '3' and id_robot= '417' and id_var= '993' and blocktype= 'quickReply' ;\n",
      "Datos enviados:\n",
      "{'namestate': 'pruebaCorreo_01inicial_inicial', 'contenido': '¿Cuál es tu correo?', 'opciones': 'email,otro', 'next_id': 'prueba_dos,prueba_slide', 'blocktype': 'quickReply', 'typingtime': '3', 'default_id': 'prueba_qa', 'id_var': '993', 'id_block': 439, 'id_robot': 417, 'opc_nextid': None, 'pos_y': None, 'pos_x': None, 'tag_active': None}\n",
      "Datos recibidos:\n",
      "{'name_var': 'var_slideMenu', 'opc_type': 'Variable', 'var': 0, 'opc_data': 'Numerico', 'id_robot': 417}\n",
      "intenatando consulta...\n",
      "consulta: select * from variables where name_var= 'var_slideMenu' and opc_type= 'Variable' and var= '0' and opc_data= 'Numerico' and id_robot= '417' ;\n"
     ]
    },
    {
     "name": "stderr",
     "output_type": "stream",
     "text": [
      "127.0.0.1 - - [18/Mar/2021 21:08:00] \"\u001b[37mPOST /insert/variables HTTP/1.1\u001b[0m\" 200 -\n",
      "127.0.0.1 - - [18/Mar/2021 21:08:00] \"\u001b[37mPOST /insert/bloqueslide HTTP/1.1\u001b[0m\" 200 -\n",
      "127.0.0.1 - - [18/Mar/2021 21:08:00] \"\u001b[37mPOST /insert/elementos HTTP/1.1\u001b[0m\" 200 -\n"
     ]
    },
    {
     "name": "stdout",
     "output_type": "stream",
     "text": [
      "Datos enviados:\n",
      "{'id_var': 994, 'opc_type': 'Variable', 'opc_data': 'Numerico', 'var': '0', 'id_robot': 417, 'name_var': 'var_slideMenu'}\n",
      "Datos recibidos:\n",
      "{'namestate': 'prueba_slide', 'blocktype': 'slide', 'typingtime': 3, 'default_id': 'prueba_qa', 'id_var': 994, 'id_robot': 417}\n",
      "intenatando consulta...\n",
      "consulta: select * from bloqueslide where namestate= 'prueba_slide' and blocktype= 'slide' and typingtime= '3' and default_id= 'prueba_qa' and id_var= '994' and id_robot= '417' ;\n",
      "Datos enviados:\n",
      "{'namestate': 'prueba_slide', 'next_id': None, 'blocktype': 'slide', 'typingtime': '3', 'default_id': 'prueba_qa', 'id_var': '994', 'id_block': 201, 'id_robot': 417, 'opc_nextid': None, 'pos_y': None, 'pos_x': None, 'opc_elm': None, 'tag_active': None}\n",
      "Datos recibidos:\n",
      "{'title': 'Prueba titulo', 'image_url': 'https://st2.depositphotos.com/3008028/5540/i/600/depositphotos_55407975-stock-photo-royal-blue-background.jpg', 'subtitle': 'Esta es una prueba de carrusel.', 'blocktype': 'slide', 'id_block': 201}\n",
      "intenatando consulta...\n",
      "consulta: select * from elementos where title= 'Prueba titulo' and image_url= 'https://st2.depositphotos.com/3008028/5540/i/600/depositphotos_55407975-stock-photo-royal-blue-background.jpg' and subtitle= 'Esta es una prueba de carrusel.' and blocktype= 'slide' and id_block= '201' ;\n",
      "Datos enviados:\n",
      "{'blocktype': 'slide', 'title': 'Prueba titulo', 'image_url': 'https://st2.depositphotos.com/3008028/5540/i/600/depositphotos_55407975-stock-photo-royal-blue-background.jpg', 'subtitle': 'Esta es una prueba de carrusel.', 'id_block': 201, 'id_elements': 440}\n",
      "Datos recibidos:\n",
      "{'id_elemento': '440', 'titlebutton': 'Boton 1', 'typebutton': 'web_url', 'contentbutton': 'https://www.youtube.com/', 'opc_nextid': 'https://www.youtube.com/'}\n"
     ]
    },
    {
     "name": "stderr",
     "output_type": "stream",
     "text": [
      "127.0.0.1 - - [18/Mar/2021 21:08:00] \"\u001b[37mPOST /insert/botones HTTP/1.1\u001b[0m\" 200 -\n",
      "127.0.0.1 - - [18/Mar/2021 21:08:00] \"\u001b[37mPOST /insert/botones HTTP/1.1\u001b[0m\" 200 -\n"
     ]
    },
    {
     "name": "stdout",
     "output_type": "stream",
     "text": [
      "intenatando consulta...\n",
      "consulta: select * from botones where id_elemento= '440' and titlebutton= 'Boton 1' and typebutton= 'web_url' and contentbutton= 'https://www.youtube.com/' and opc_nextid= 'https://www.youtube.com/' ;\n",
      "Datos enviados:\n",
      "{'id_elemento': '440', 'titlebutton': 'Boton 1', 'typebutton': 'web_url', 'contentbutton': 'https://www.youtube.com/', 'id_boton': 692, 'opc_nextid': 'https://www.youtube.com/'}\n",
      "Datos recibidos:\n",
      "{'id_elemento': '440', 'titlebutton': 'Boton 2', 'typebutton': 'web_url', 'contentbutton': 'https://www.reddit.com/', 'opc_nextid': 'https://www.reddit.com/'}\n",
      "intenatando consulta...\n",
      "consulta: select * from botones where id_elemento= '440' and titlebutton= 'Boton 2' and typebutton= 'web_url' and contentbutton= 'https://www.reddit.com/' and opc_nextid= 'https://www.reddit.com/' ;\n",
      "Datos enviados:\n",
      "{'id_elemento': '440', 'titlebutton': 'Boton 2', 'typebutton': 'web_url', 'contentbutton': 'https://www.reddit.com/', 'id_boton': 693, 'opc_nextid': 'https://www.reddit.com/'}\n"
     ]
    },
    {
     "name": "stderr",
     "output_type": "stream",
     "text": [
      "127.0.0.1 - - [18/Mar/2021 21:15:39] \"\u001b[37mGET /select/robots HTTP/1.1\u001b[0m\" 200 -\n",
      "127.0.0.1 - - [18/Mar/2021 21:15:39] \"\u001b[37mPOST /insert/robots HTTP/1.1\u001b[0m\" 200 -\n",
      "127.0.0.1 - - [18/Mar/2021 21:15:39] \"\u001b[37mPOST /insert/bloqueinformativo HTTP/1.1\u001b[0m\" 200 -\n"
     ]
    },
    {
     "name": "stdout",
     "output_type": "stream",
     "text": [
      "Datos recibidos:\n",
      "{'name_robot': 'charlybot', 'id_face': '111445520541316', 'block_ini': 'prueba_inicio', 'type_blocki': 'informativo', 'access_token': 'EAALZCCZBzPwfkBAAo7njAlW7s4DTj1ZCs5v1ung1MhEyMlJXOOtiG8r7JcBgXVPhZBHkJONyTB6jKG470UyqGPWn4aDPnisgtT2ZCZAwQIjQgZAZBufZBJXmHz6mPKSgdmP6ikDA87vocZBay2dfQdz1OYezmYbxwfILXUvXtjUMZAniQZDZD', 'id_user': 'charlygoldcruz@gmail.com', 'api_nlp': 'http://localhost:8282/'}\n",
      "intenatando consulta...\n",
      "consulta: select * from robots where id_face = '111445520541316';\n",
      "La consulta no trajo nada\n",
      "Datos enviados:\n",
      "{'error': 'true'}\n",
      "Datos recibidos:\n",
      "{'name_robot': 'charlybot', 'id_face': '111445520541316', 'block_ini': 'prueba_inicio', 'type_blocki': 'informativo', 'access_token': 'EAALZCCZBzPwfkBAAo7njAlW7s4DTj1ZCs5v1ung1MhEyMlJXOOtiG8r7JcBgXVPhZBHkJONyTB6jKG470UyqGPWn4aDPnisgtT2ZCZAwQIjQgZAZBufZBJXmHz6mPKSgdmP6ikDA87vocZBay2dfQdz1OYezmYbxwfILXUvXtjUMZAniQZDZD', 'id_user': 'charlygoldcruz@gmail.com', 'api_nlp': 'http://localhost:8282/'}\n",
      "intenatando consulta...\n",
      "consulta: select * from robots where id_face = '111445520541316';\n",
      "Datos enviados:\n",
      "{'name_robot': 'charlybot', 'id_face': '111445520541316', 'block_ini': 'prueba_inicio', 'type_blocki': 'informativo', 'access_token': 'EAALZCCZBzPwfkBAAo7njAlW7s4DTj1ZCs5v1ung1MhEyMlJXOOtiG8r7JcBgXVPhZBHkJONyTB6jKG470UyqGPWn4aDPnisgtT2ZCZAwQIjQgZAZBufZBJXmHz6mPKSgdmP6ikDA87vocZBay2dfQdz1OYezmYbxwfILXUvXtjUMZAniQZDZD', 'api_nlp': 'http://localhost:8282/', 'id_robot': 418, 'id_user': 'charlygoldcruz@gmail.com'}\n",
      "Datos recibidos:\n",
      "{'next_id': 'prueba_captura', 'namestate': 'prueba_inicio', 'contenido': 'Hola, soy un chatbot y esto es un mensaje de prueba y adios', 'contenttype': 'text', 'typingtime': 3, 'id_robot': 418, 'blocktype': 'informativo'}\n",
      "intenatando consulta...\n",
      "consulta: select * from bloqueinformativo where next_id= 'prueba_captura' and namestate= 'prueba_inicio' and contenido= 'Hola, soy un chatbot y esto es un mensaje de prueba y adios' and contenttype= 'text' and typingtime= '3' and id_robot= '418' and blocktype= 'informativo' ;\n",
      "Datos enviados:\n",
      "{'namestate': 'prueba_inicio', 'contenido': 'Hola, soy un chatbot y esto es un mensaje de prueba y adios', 'next_id': 'prueba_captura', 'blocktype': 'informativo', 'contenttype': 'text', 'typingtime': '3', 'id_block': 1258, 'id_robot': 418, 'opc_nextid': None, 'pos_y': None, 'pos_x': None, 'tag_active': None}\n",
      "Datos recibidos:\n",
      "{'name_var': 'email', 'opc_type': 'Variable', 'var': 0, 'opc_data': 'String', 'id_robot': 418}\n"
     ]
    },
    {
     "name": "stderr",
     "output_type": "stream",
     "text": [
      "127.0.0.1 - - [18/Mar/2021 21:15:39] \"\u001b[37mPOST /insert/variables HTTP/1.1\u001b[0m\" 200 -\n",
      "127.0.0.1 - - [18/Mar/2021 21:15:39] \"\u001b[37mPOST /insert/bloqueinput HTTP/1.1\u001b[0m\" 200 -\n",
      "127.0.0.1 - - [18/Mar/2021 21:15:40] \"\u001b[37mPOST /insert/bloqueinformativo HTTP/1.1\u001b[0m\" 200 -\n"
     ]
    },
    {
     "name": "stdout",
     "output_type": "stream",
     "text": [
      "intenatando consulta...\n",
      "consulta: select * from variables where name_var= 'email' and opc_type= 'Variable' and var= '0' and opc_data= 'String' and id_robot= '418' ;\n",
      "Datos enviados:\n",
      "{'id_var': 995, 'opc_type': 'Variable', 'opc_data': 'String', 'var': '0', 'id_robot': 418, 'name_var': 'email'}\n",
      "Datos recibidos:\n",
      "{'next_id': 'pruebaCorreo_01inicial_inicial', 'default_id': 'prueba_captura', 'namestate': 'prueba_captura', 'contenido': 'introduce tu correo', 'contenttype': 'text', 'typingtime': 3, 'validacion': '^[a-z0-9]+[\\\\._]?[a-z0-9]+[@]\\\\w+[.]\\\\w{2,3}$', 'id_robot': 418, 'id_var': 995, 'blocktype': 'input'}\n",
      "intenatando consulta...\n",
      "consulta: select * from bloqueinput where next_id= 'pruebaCorreo_01inicial_inicial' and default_id= 'prueba_captura' and namestate= 'prueba_captura' and contenido= 'introduce tu correo' and contenttype= 'text' and typingtime= '3' and validacion= '^[a-z0-9]+[\\._]?[a-z0-9]+[@]\\w+[.]\\w{2,3}$' and id_robot= '418' and id_var= '995' and blocktype= 'input' ;\n",
      "Datos enviados:\n",
      "{'namestate': 'prueba_captura', 'contenido': 'introduce tu correo', 'next_id': 'pruebaCorreo_01inicial_inicial', 'blocktype': 'input', 'contenttype': 'text', 'typingtime': '3', 'validacion': '^[a-z0-9]+[\\\\._]?[a-z0-9]+[@]\\\\w+[.]\\\\w{2,3}$', 'default_id': 'prueba_captura', 'id_var': '995', 'id_block': 155, 'id_robot': 418, 'opc_nextid': None, 'pos_y': None, 'pos_x': None, 'tag_active': None}\n",
      "Datos recibidos:\n",
      "{'next_id': 'pruebaCorreo_01inicial_inicial', 'namestate': 'prueba_qa', 'contenido': 'Vamos a ver si no truena', 'contenttype': 'text', 'typingtime': 7, 'id_robot': 418, 'blocktype': 'informativo'}\n",
      "intenatando consulta...\n",
      "consulta: select * from bloqueinformativo where next_id= 'pruebaCorreo_01inicial_inicial' and namestate= 'prueba_qa' and contenido= 'Vamos a ver si no truena' and contenttype= 'text' and typingtime= '7' and id_robot= '418' and blocktype= 'informativo' ;\n",
      "Datos enviados:\n",
      "{'namestate': 'prueba_qa', 'contenido': 'Vamos a ver si no truena', 'next_id': 'pruebaCorreo_01inicial_inicial', 'blocktype': 'informativo', 'contenttype': 'text', 'typingtime': '7', 'id_block': 1259, 'id_robot': 418, 'opc_nextid': None, 'pos_y': None, 'pos_x': None, 'tag_active': None}\n",
      "Datos recibidos:\n",
      "{'next_id': 'Salida', 'namestate': 'prueba_dos', 'contenido': 'Puedo hacer muchas cosas, entre ellas despedirme. Adios', 'contenttype': 'text', 'typingtime': 3, 'id_robot': 418, 'blocktype': 'informativo'}\n"
     ]
    },
    {
     "name": "stderr",
     "output_type": "stream",
     "text": [
      "127.0.0.1 - - [18/Mar/2021 21:15:40] \"\u001b[37mPOST /insert/bloqueinformativo HTTP/1.1\u001b[0m\" 200 -\n",
      "127.0.0.1 - - [18/Mar/2021 21:15:40] \"\u001b[37mPOST /insert/variables HTTP/1.1\u001b[0m\" 200 -\n",
      "127.0.0.1 - - [18/Mar/2021 21:15:40] \"\u001b[37mPOST /insert/bloquequickreply HTTP/1.1\u001b[0m\" 200 -\n"
     ]
    },
    {
     "name": "stdout",
     "output_type": "stream",
     "text": [
      "intenatando consulta...\n",
      "consulta: select * from bloqueinformativo where next_id= 'Salida' and namestate= 'prueba_dos' and contenido= 'Puedo hacer muchas cosas, entre ellas despedirme. Adios' and contenttype= 'text' and typingtime= '3' and id_robot= '418' and blocktype= 'informativo' ;\n",
      "Datos enviados:\n",
      "{'namestate': 'prueba_dos', 'contenido': 'Puedo hacer muchas cosas, entre ellas despedirme. Adios', 'next_id': 'Salida', 'blocktype': 'informativo', 'contenttype': 'text', 'typingtime': '3', 'id_block': 1260, 'id_robot': 418, 'opc_nextid': None, 'pos_y': None, 'pos_x': None, 'tag_active': None}\n",
      "Datos recibidos:\n",
      "{'name_var': 'var_case', 'opc_type': 'Variable', 'var': 0, 'opc_data': 'Numerico', 'id_robot': 418}\n",
      "intenatando consulta...\n",
      "consulta: select * from variables where name_var= 'var_case' and opc_type= 'Variable' and var= '0' and opc_data= 'Numerico' and id_robot= '418' ;\n",
      "Datos enviados:\n",
      "{'id_var': 996, 'opc_type': 'Variable', 'opc_data': 'Numerico', 'var': '0', 'id_robot': 418, 'name_var': 'var_case'}\n",
      "Datos recibidos:\n",
      "{'contenido': '¿Cuál es tu correo?', 'opciones': 'email,otro', 'next_id': 'prueba_dos,prueba_slide', 'default_id': 'prueba_qa', 'namestate': 'pruebaCorreo_01inicial_inicial', 'typingtime': 3, 'id_robot': 418, 'id_var': 996, 'blocktype': 'quickReply'}\n",
      "intenatando consulta...\n",
      "consulta: select * from bloquequickreply where contenido= '¿Cuál es tu correo?' and opciones= 'email,otro' and next_id= 'prueba_dos,prueba_slide' and default_id= 'prueba_qa' and namestate= 'pruebaCorreo_01inicial_inicial' and typingtime= '3' and id_robot= '418' and id_var= '996' and blocktype= 'quickReply' ;\n",
      "Datos enviados:\n",
      "{'namestate': 'pruebaCorreo_01inicial_inicial', 'contenido': '¿Cuál es tu correo?', 'opciones': 'email,otro', 'next_id': 'prueba_dos,prueba_slide', 'blocktype': 'quickReply', 'typingtime': '3', 'default_id': 'prueba_qa', 'id_var': '996', 'id_block': 440, 'id_robot': 418, 'opc_nextid': None, 'pos_y': None, 'pos_x': None, 'tag_active': None}\n",
      "Datos recibidos:\n",
      "{'name_var': 'var_slideMenu', 'opc_type': 'Variable', 'var': 0, 'opc_data': 'Numerico', 'id_robot': 418}\n"
     ]
    },
    {
     "name": "stderr",
     "output_type": "stream",
     "text": [
      "127.0.0.1 - - [18/Mar/2021 21:15:40] \"\u001b[37mPOST /insert/variables HTTP/1.1\u001b[0m\" 200 -\n",
      "127.0.0.1 - - [18/Mar/2021 21:15:40] \"\u001b[37mPOST /insert/bloqueslide HTTP/1.1\u001b[0m\" 200 -\n",
      "127.0.0.1 - - [18/Mar/2021 21:15:40] \"\u001b[37mPOST /insert/elementos HTTP/1.1\u001b[0m\" 200 -\n"
     ]
    },
    {
     "name": "stdout",
     "output_type": "stream",
     "text": [
      "intenatando consulta...\n",
      "consulta: select * from variables where name_var= 'var_slideMenu' and opc_type= 'Variable' and var= '0' and opc_data= 'Numerico' and id_robot= '418' ;\n",
      "Datos enviados:\n",
      "{'id_var': 997, 'opc_type': 'Variable', 'opc_data': 'Numerico', 'var': '0', 'id_robot': 418, 'name_var': 'var_slideMenu'}\n",
      "Datos recibidos:\n",
      "{'namestate': 'prueba_slide', 'blocktype': 'slide', 'typingtime': 3, 'default_id': 'prueba_qa', 'id_var': 997, 'id_robot': 418}\n",
      "intenatando consulta...\n",
      "consulta: select * from bloqueslide where namestate= 'prueba_slide' and blocktype= 'slide' and typingtime= '3' and default_id= 'prueba_qa' and id_var= '997' and id_robot= '418' ;\n",
      "Datos enviados:\n",
      "{'namestate': 'prueba_slide', 'next_id': None, 'blocktype': 'slide', 'typingtime': '3', 'default_id': 'prueba_qa', 'id_var': '997', 'id_block': 202, 'id_robot': 418, 'opc_nextid': None, 'pos_y': None, 'pos_x': None, 'opc_elm': None, 'tag_active': None}\n",
      "Datos recibidos:\n",
      "{'title': 'Prueba titulo', 'image_url': 'https://infosertecblog.files.wordpress.com/2016/08/bot-de-telegram.jpg', 'subtitle': 'Esta es una prueba de carrusel.', 'blocktype': 'slide', 'id_block': 202}\n",
      "intenatando consulta...\n",
      "consulta: select * from elementos where title= 'Prueba titulo' and image_url= 'https://infosertecblog.files.wordpress.com/2016/08/bot-de-telegram.jpg' and subtitle= 'Esta es una prueba de carrusel.' and blocktype= 'slide' and id_block= '202' ;\n",
      "Datos enviados:\n",
      "{'blocktype': 'slide', 'title': 'Prueba titulo', 'image_url': 'https://infosertecblog.files.wordpress.com/2016/08/bot-de-telegram.jpg', 'subtitle': 'Esta es una prueba de carrusel.', 'id_block': 202, 'id_elements': 441}\n"
     ]
    },
    {
     "name": "stderr",
     "output_type": "stream",
     "text": [
      "127.0.0.1 - - [18/Mar/2021 21:15:40] \"\u001b[37mPOST /insert/botones HTTP/1.1\u001b[0m\" 200 -\n",
      "127.0.0.1 - - [18/Mar/2021 21:15:40] \"\u001b[37mPOST /insert/botones HTTP/1.1\u001b[0m\" 200 -\n"
     ]
    },
    {
     "name": "stdout",
     "output_type": "stream",
     "text": [
      "Datos recibidos:\n",
      "{'id_elemento': '441', 'titlebutton': 'Boton 1', 'typebutton': 'web_url', 'contentbutton': 'https://www.youtube.com/', 'opc_nextid': 'https://www.youtube.com/'}\n",
      "intenatando consulta...\n",
      "consulta: select * from botones where id_elemento= '441' and titlebutton= 'Boton 1' and typebutton= 'web_url' and contentbutton= 'https://www.youtube.com/' and opc_nextid= 'https://www.youtube.com/' ;\n",
      "Datos enviados:\n",
      "{'id_elemento': '441', 'titlebutton': 'Boton 1', 'typebutton': 'web_url', 'contentbutton': 'https://www.youtube.com/', 'id_boton': 694, 'opc_nextid': 'https://www.youtube.com/'}\n",
      "Datos recibidos:\n",
      "{'id_elemento': '441', 'titlebutton': 'Boton 2', 'typebutton': 'web_url', 'contentbutton': 'https://www.reddit.com/', 'opc_nextid': 'https://www.reddit.com/'}\n",
      "intenatando consulta...\n",
      "consulta: select * from botones where id_elemento= '441' and titlebutton= 'Boton 2' and typebutton= 'web_url' and contentbutton= 'https://www.reddit.com/' and opc_nextid= 'https://www.reddit.com/' ;\n",
      "Datos enviados:\n",
      "{'id_elemento': '441', 'titlebutton': 'Boton 2', 'typebutton': 'web_url', 'contentbutton': 'https://www.reddit.com/', 'id_boton': 695, 'opc_nextid': 'https://www.reddit.com/'}\n"
     ]
    },
    {
     "name": "stderr",
     "output_type": "stream",
     "text": [
      "127.0.0.1 - - [18/Mar/2021 21:23:30] \"\u001b[37mGET /select/robots HTTP/1.1\u001b[0m\" 200 -\n",
      "127.0.0.1 - - [18/Mar/2021 21:23:30] \"\u001b[37mPOST /insert/robots HTTP/1.1\u001b[0m\" 200 -\n",
      "127.0.0.1 - - [18/Mar/2021 21:23:30] \"\u001b[37mPOST /insert/bloqueinformativo HTTP/1.1\u001b[0m\" 200 -\n"
     ]
    },
    {
     "name": "stdout",
     "output_type": "stream",
     "text": [
      "Datos recibidos:\n",
      "{'name_robot': 'charlybot', 'id_face': '111445520541316', 'block_ini': 'prueba_inicio', 'type_blocki': 'informativo', 'access_token': 'EAALZCCZBzPwfkBAAo7njAlW7s4DTj1ZCs5v1ung1MhEyMlJXOOtiG8r7JcBgXVPhZBHkJONyTB6jKG470UyqGPWn4aDPnisgtT2ZCZAwQIjQgZAZBufZBJXmHz6mPKSgdmP6ikDA87vocZBay2dfQdz1OYezmYbxwfILXUvXtjUMZAniQZDZD', 'id_user': 'charlygoldcruz@gmail.com', 'api_nlp': 'http://localhost:8282/'}\n",
      "intenatando consulta...\n",
      "consulta: select * from robots where id_face = '111445520541316';\n",
      "La consulta no trajo nada\n",
      "Datos enviados:\n",
      "{'error': 'true'}\n",
      "Datos recibidos:\n",
      "{'name_robot': 'charlybot', 'id_face': '111445520541316', 'block_ini': 'prueba_inicio', 'type_blocki': 'informativo', 'access_token': 'EAALZCCZBzPwfkBAAo7njAlW7s4DTj1ZCs5v1ung1MhEyMlJXOOtiG8r7JcBgXVPhZBHkJONyTB6jKG470UyqGPWn4aDPnisgtT2ZCZAwQIjQgZAZBufZBJXmHz6mPKSgdmP6ikDA87vocZBay2dfQdz1OYezmYbxwfILXUvXtjUMZAniQZDZD', 'id_user': 'charlygoldcruz@gmail.com', 'api_nlp': 'http://localhost:8282/'}\n",
      "intenatando consulta...\n",
      "consulta: select * from robots where id_face = '111445520541316';\n",
      "Datos enviados:\n",
      "{'name_robot': 'charlybot', 'id_face': '111445520541316', 'block_ini': 'prueba_inicio', 'type_blocki': 'informativo', 'access_token': 'EAALZCCZBzPwfkBAAo7njAlW7s4DTj1ZCs5v1ung1MhEyMlJXOOtiG8r7JcBgXVPhZBHkJONyTB6jKG470UyqGPWn4aDPnisgtT2ZCZAwQIjQgZAZBufZBJXmHz6mPKSgdmP6ikDA87vocZBay2dfQdz1OYezmYbxwfILXUvXtjUMZAniQZDZD', 'api_nlp': 'http://localhost:8282/', 'id_robot': 419, 'id_user': 'charlygoldcruz@gmail.com'}\n",
      "Datos recibidos:\n",
      "{'next_id': 'prueba_captura', 'namestate': 'prueba_inicio', 'contenido': 'Hola, soy un chatbot y esto es un mensaje de prueba y adios', 'contenttype': 'text', 'typingtime': 3, 'id_robot': 419, 'blocktype': 'informativo'}\n",
      "intenatando consulta...\n",
      "consulta: select * from bloqueinformativo where next_id= 'prueba_captura' and namestate= 'prueba_inicio' and contenido= 'Hola, soy un chatbot y esto es un mensaje de prueba y adios' and contenttype= 'text' and typingtime= '3' and id_robot= '419' and blocktype= 'informativo' ;\n",
      "Datos enviados:\n",
      "{'namestate': 'prueba_inicio', 'contenido': 'Hola, soy un chatbot y esto es un mensaje de prueba y adios', 'next_id': 'prueba_captura', 'blocktype': 'informativo', 'contenttype': 'text', 'typingtime': '3', 'id_block': 1261, 'id_robot': 419, 'opc_nextid': None, 'pos_y': None, 'pos_x': None, 'tag_active': None}\n",
      "Datos recibidos:\n",
      "{'name_var': 'email', 'opc_type': 'Variable', 'var': 0, 'opc_data': 'String', 'id_robot': 419}\n"
     ]
    },
    {
     "name": "stderr",
     "output_type": "stream",
     "text": [
      "127.0.0.1 - - [18/Mar/2021 21:23:30] \"\u001b[37mPOST /insert/variables HTTP/1.1\u001b[0m\" 200 -\n",
      "127.0.0.1 - - [18/Mar/2021 21:23:30] \"\u001b[37mPOST /insert/bloqueinput HTTP/1.1\u001b[0m\" 200 -\n",
      "127.0.0.1 - - [18/Mar/2021 21:23:30] \"\u001b[37mPOST /insert/bloqueinformativo HTTP/1.1\u001b[0m\" 200 -\n"
     ]
    },
    {
     "name": "stdout",
     "output_type": "stream",
     "text": [
      "intenatando consulta...\n",
      "consulta: select * from variables where name_var= 'email' and opc_type= 'Variable' and var= '0' and opc_data= 'String' and id_robot= '419' ;\n",
      "Datos enviados:\n",
      "{'id_var': 998, 'opc_type': 'Variable', 'opc_data': 'String', 'var': '0', 'id_robot': 419, 'name_var': 'email'}\n",
      "Datos recibidos:\n",
      "{'next_id': 'pruebaCorreo_01inicial_inicial', 'default_id': 'prueba_captura', 'namestate': 'prueba_captura', 'contenido': 'introduce tu correo', 'contenttype': 'text', 'typingtime': 3, 'validacion': '^[a-z0-9]+[\\\\._]?[a-z0-9]+[@]\\\\w+[.]\\\\w{2,3}$', 'id_robot': 419, 'id_var': 998, 'blocktype': 'input'}\n",
      "intenatando consulta...\n",
      "consulta: select * from bloqueinput where next_id= 'pruebaCorreo_01inicial_inicial' and default_id= 'prueba_captura' and namestate= 'prueba_captura' and contenido= 'introduce tu correo' and contenttype= 'text' and typingtime= '3' and validacion= '^[a-z0-9]+[\\._]?[a-z0-9]+[@]\\w+[.]\\w{2,3}$' and id_robot= '419' and id_var= '998' and blocktype= 'input' ;\n",
      "Datos enviados:\n",
      "{'namestate': 'prueba_captura', 'contenido': 'introduce tu correo', 'next_id': 'pruebaCorreo_01inicial_inicial', 'blocktype': 'input', 'contenttype': 'text', 'typingtime': '3', 'validacion': '^[a-z0-9]+[\\\\._]?[a-z0-9]+[@]\\\\w+[.]\\\\w{2,3}$', 'default_id': 'prueba_captura', 'id_var': '998', 'id_block': 156, 'id_robot': 419, 'opc_nextid': None, 'pos_y': None, 'pos_x': None, 'tag_active': None}\n",
      "Datos recibidos:\n",
      "{'next_id': 'pruebaCorreo_01inicial_inicial', 'namestate': 'prueba_qa', 'contenido': 'Vamos a ver si no truena', 'contenttype': 'text', 'typingtime': 7, 'id_robot': 419, 'blocktype': 'informativo'}\n",
      "intenatando consulta...\n",
      "consulta: select * from bloqueinformativo where next_id= 'pruebaCorreo_01inicial_inicial' and namestate= 'prueba_qa' and contenido= 'Vamos a ver si no truena' and contenttype= 'text' and typingtime= '7' and id_robot= '419' and blocktype= 'informativo' ;\n",
      "Datos enviados:\n",
      "{'namestate': 'prueba_qa', 'contenido': 'Vamos a ver si no truena', 'next_id': 'pruebaCorreo_01inicial_inicial', 'blocktype': 'informativo', 'contenttype': 'text', 'typingtime': '7', 'id_block': 1262, 'id_robot': 419, 'opc_nextid': None, 'pos_y': None, 'pos_x': None, 'tag_active': None}\n"
     ]
    },
    {
     "name": "stderr",
     "output_type": "stream",
     "text": [
      "127.0.0.1 - - [18/Mar/2021 21:23:30] \"\u001b[37mPOST /insert/bloqueinformativo HTTP/1.1\u001b[0m\" 200 -\n",
      "127.0.0.1 - - [18/Mar/2021 21:23:30] \"\u001b[37mPOST /insert/variables HTTP/1.1\u001b[0m\" 200 -\n"
     ]
    },
    {
     "name": "stdout",
     "output_type": "stream",
     "text": [
      "Datos recibidos:\n",
      "{'next_id': 'Salida', 'namestate': 'prueba_dos', 'contenido': 'Puedo hacer muchas cosas, entre ellas despedirme. Adios', 'contenttype': 'text', 'typingtime': 3, 'id_robot': 419, 'blocktype': 'informativo'}\n",
      "intenatando consulta...\n",
      "consulta: select * from bloqueinformativo where next_id= 'Salida' and namestate= 'prueba_dos' and contenido= 'Puedo hacer muchas cosas, entre ellas despedirme. Adios' and contenttype= 'text' and typingtime= '3' and id_robot= '419' and blocktype= 'informativo' ;\n",
      "Datos enviados:\n",
      "{'namestate': 'prueba_dos', 'contenido': 'Puedo hacer muchas cosas, entre ellas despedirme. Adios', 'next_id': 'Salida', 'blocktype': 'informativo', 'contenttype': 'text', 'typingtime': '3', 'id_block': 1263, 'id_robot': 419, 'opc_nextid': None, 'pos_y': None, 'pos_x': None, 'tag_active': None}\n",
      "Datos recibidos:\n",
      "{'name_var': 'var_case', 'opc_type': 'Variable', 'var': 0, 'opc_data': 'Numerico', 'id_robot': 419}\n",
      "intenatando consulta...\n",
      "consulta: select * from variables where name_var= 'var_case' and opc_type= 'Variable' and var= '0' and opc_data= 'Numerico' and id_robot= '419' ;\n",
      "Datos enviados:\n",
      "{'id_var': 999, 'opc_type': 'Variable', 'opc_data': 'Numerico', 'var': '0', 'id_robot': 419, 'name_var': 'var_case'}\n",
      "Datos recibidos:\n",
      "{'contenido': '¿Cuál es tu correo?', 'opciones': 'email,otro', 'next_id': 'prueba_dos,prueba_slide', 'default_id': 'prueba_qa', 'namestate': 'pruebaCorreo_01inicial_inicial', 'typingtime': 3, 'id_robot': 419, 'id_var': 999, 'blocktype': 'quickReply'}\n",
      "intenatando consulta...\n",
      "consulta: select * from bloquequickreply where contenido= '¿Cuál es tu correo?' and opciones= 'email,otro' and next_id= 'prueba_dos,prueba_slide' and default_id= 'prueba_qa' and namestate= 'pruebaCorreo_01inicial_inicial' and typingtime= '3' and id_robot= '419' and id_var= '999' and blocktype= 'quickReply' ;\n"
     ]
    },
    {
     "name": "stderr",
     "output_type": "stream",
     "text": [
      "127.0.0.1 - - [18/Mar/2021 21:23:31] \"\u001b[37mPOST /insert/bloquequickreply HTTP/1.1\u001b[0m\" 200 -\n",
      "127.0.0.1 - - [18/Mar/2021 21:23:31] \"\u001b[37mPOST /insert/variables HTTP/1.1\u001b[0m\" 200 -\n",
      "127.0.0.1 - - [18/Mar/2021 21:23:31] \"\u001b[37mPOST /insert/bloqueslide HTTP/1.1\u001b[0m\" 200 -\n"
     ]
    },
    {
     "name": "stdout",
     "output_type": "stream",
     "text": [
      "Datos enviados:\n",
      "{'namestate': 'pruebaCorreo_01inicial_inicial', 'contenido': '¿Cuál es tu correo?', 'opciones': 'email,otro', 'next_id': 'prueba_dos,prueba_slide', 'blocktype': 'quickReply', 'typingtime': '3', 'default_id': 'prueba_qa', 'id_var': '999', 'id_block': 441, 'id_robot': 419, 'opc_nextid': None, 'pos_y': None, 'pos_x': None, 'tag_active': None}\n",
      "Datos recibidos:\n",
      "{'name_var': 'var_slideMenu', 'opc_type': 'Variable', 'var': 0, 'opc_data': 'Numerico', 'id_robot': 419}\n",
      "intenatando consulta...\n",
      "consulta: select * from variables where name_var= 'var_slideMenu' and opc_type= 'Variable' and var= '0' and opc_data= 'Numerico' and id_robot= '419' ;\n",
      "Datos enviados:\n",
      "{'id_var': 1000, 'opc_type': 'Variable', 'opc_data': 'Numerico', 'var': '0', 'id_robot': 419, 'name_var': 'var_slideMenu'}\n",
      "Datos recibidos:\n",
      "{'namestate': 'prueba_slide', 'blocktype': 'slide', 'typingtime': 3, 'default_id': 'prueba_qa', 'id_var': 1000, 'id_robot': 419}\n",
      "intenatando consulta...\n",
      "consulta: select * from bloqueslide where namestate= 'prueba_slide' and blocktype= 'slide' and typingtime= '3' and default_id= 'prueba_qa' and id_var= '1000' and id_robot= '419' ;\n",
      "Datos enviados:\n",
      "{'namestate': 'prueba_slide', 'next_id': None, 'blocktype': 'slide', 'typingtime': '3', 'default_id': 'prueba_qa', 'id_var': '1000', 'id_block': 203, 'id_robot': 419, 'opc_nextid': None, 'pos_y': None, 'pos_x': None, 'opc_elm': None, 'tag_active': None}\n",
      "Datos recibidos:\n",
      "{'title': 'Prueba titulo', 'image_url': 'https://infosertecblog.files.wordpress.com/2016/08/bot-de-telegram.jpg', 'subtitle': 'Esta es una prueba de carrusel.', 'blocktype': 'slide', 'id_block': 203}\n"
     ]
    },
    {
     "name": "stderr",
     "output_type": "stream",
     "text": [
      "127.0.0.1 - - [18/Mar/2021 21:23:31] \"\u001b[37mPOST /insert/elementos HTTP/1.1\u001b[0m\" 200 -\n",
      "127.0.0.1 - - [18/Mar/2021 21:23:31] \"\u001b[37mPOST /insert/botones HTTP/1.1\u001b[0m\" 200 -\n",
      "127.0.0.1 - - [18/Mar/2021 21:23:31] \"\u001b[37mPOST /insert/botones HTTP/1.1\u001b[0m\" 200 -\n"
     ]
    },
    {
     "name": "stdout",
     "output_type": "stream",
     "text": [
      "intenatando consulta...\n",
      "consulta: select * from elementos where title= 'Prueba titulo' and image_url= 'https://infosertecblog.files.wordpress.com/2016/08/bot-de-telegram.jpg' and subtitle= 'Esta es una prueba de carrusel.' and blocktype= 'slide' and id_block= '203' ;\n",
      "Datos enviados:\n",
      "{'blocktype': 'slide', 'title': 'Prueba titulo', 'image_url': 'https://infosertecblog.files.wordpress.com/2016/08/bot-de-telegram.jpg', 'subtitle': 'Esta es una prueba de carrusel.', 'id_block': 203, 'id_elements': 442}\n",
      "Datos recibidos:\n",
      "{'id_elemento': '442', 'titlebutton': 'Boton 1', 'typebutton': 'web_url', 'contentbutton': 'https://www.youtube.com/', 'opc_nextid': 'https://www.youtube.com/'}\n",
      "intenatando consulta...\n",
      "consulta: select * from botones where id_elemento= '442' and titlebutton= 'Boton 1' and typebutton= 'web_url' and contentbutton= 'https://www.youtube.com/' and opc_nextid= 'https://www.youtube.com/' ;\n",
      "Datos enviados:\n",
      "{'id_elemento': '442', 'titlebutton': 'Boton 1', 'typebutton': 'web_url', 'contentbutton': 'https://www.youtube.com/', 'id_boton': 696, 'opc_nextid': 'https://www.youtube.com/'}\n",
      "Datos recibidos:\n",
      "{'id_elemento': '442', 'titlebutton': 'Boton 2', 'typebutton': 'web_url', 'contentbutton': 'https://www.reddit.com/', 'opc_nextid': 'https://www.reddit.com/'}\n",
      "intenatando consulta...\n",
      "consulta: select * from botones where id_elemento= '442' and titlebutton= 'Boton 2' and typebutton= 'web_url' and contentbutton= 'https://www.reddit.com/' and opc_nextid= 'https://www.reddit.com/' ;\n",
      "Datos enviados:\n",
      "{'id_elemento': '442', 'titlebutton': 'Boton 2', 'typebutton': 'web_url', 'contentbutton': 'https://www.reddit.com/', 'id_boton': 697, 'opc_nextid': 'https://www.reddit.com/'}\n"
     ]
    },
    {
     "name": "stderr",
     "output_type": "stream",
     "text": [
      "127.0.0.1 - - [18/Mar/2021 21:26:17] \"\u001b[37mGET /select/robots HTTP/1.1\u001b[0m\" 200 -\n",
      "127.0.0.1 - - [18/Mar/2021 21:26:17] \"\u001b[37mPOST /insert/robots HTTP/1.1\u001b[0m\" 200 -\n",
      "127.0.0.1 - - [18/Mar/2021 21:26:17] \"\u001b[37mPOST /insert/bloqueinformativo HTTP/1.1\u001b[0m\" 200 -\n"
     ]
    },
    {
     "name": "stdout",
     "output_type": "stream",
     "text": [
      "Datos recibidos:\n",
      "{'name_robot': 'oliverBot', 'id_face': '2153123008120093', 'block_ini': 'prueba_inicio', 'type_blocki': 'quickreply', 'access_token': 'EAAHNkscg2TcBAMvebksfOxuFBpMeR5sUhzHTKtqdi6NkqQKZAdkeaGVJ9Yc5bNbvL3JLzCgB7EEqsVUTZADhidVcC3zJV1UZB4Uz0Hm3fZB9IETnWb4I8MoK8nxpenC1lYwnjwnRwMHVZA1FKw8d3A45t9xCxmPKnm6kIr5ZCA8wZDZD', 'id_user': 'oliverbp88@gmail.com', 'api_nlp': 'http://localhost:8282/'}\n",
      "intenatando consulta...\n",
      "consulta: select * from robots where id_face = '2153123008120093';\n",
      "La consulta no trajo nada\n",
      "Datos enviados:\n",
      "{'error': 'true'}\n",
      "Datos recibidos:\n",
      "{'name_robot': 'oliverBot', 'id_face': '2153123008120093', 'block_ini': 'prueba_inicio', 'type_blocki': 'quickreply', 'access_token': 'EAAHNkscg2TcBAMvebksfOxuFBpMeR5sUhzHTKtqdi6NkqQKZAdkeaGVJ9Yc5bNbvL3JLzCgB7EEqsVUTZADhidVcC3zJV1UZB4Uz0Hm3fZB9IETnWb4I8MoK8nxpenC1lYwnjwnRwMHVZA1FKw8d3A45t9xCxmPKnm6kIr5ZCA8wZDZD', 'id_user': 'oliverbp88@gmail.com', 'api_nlp': 'http://localhost:8282/'}\n",
      "intenatando consulta...\n",
      "consulta: select * from robots where id_face = '2153123008120093';\n",
      "Datos enviados:\n",
      "{'name_robot': 'oliverBot', 'id_face': '2153123008120093', 'block_ini': 'prueba_inicio', 'type_blocki': 'quickreply', 'access_token': 'EAAHNkscg2TcBAMvebksfOxuFBpMeR5sUhzHTKtqdi6NkqQKZAdkeaGVJ9Yc5bNbvL3JLzCgB7EEqsVUTZADhidVcC3zJV1UZB4Uz0Hm3fZB9IETnWb4I8MoK8nxpenC1lYwnjwnRwMHVZA1FKw8d3A45t9xCxmPKnm6kIr5ZCA8wZDZD', 'api_nlp': 'http://localhost:8282/', 'id_robot': 420, 'id_user': 'oliverbp88@gmail.com'}\n",
      "Datos recibidos:\n",
      "{'next_id': 'pruebaCorreo_01inicial_inicial', 'namestate': 'prueba_inicio', 'contenido': 'Hola, soy un chatbot y esto es un mensaje de prueba y adios', 'contenttype': 'text', 'typingtime': 3, 'id_robot': 420, 'blocktype': 'informativo'}\n",
      "intenatando consulta...\n",
      "consulta: select * from bloqueinformativo where next_id= 'pruebaCorreo_01inicial_inicial' and namestate= 'prueba_inicio' and contenido= 'Hola, soy un chatbot y esto es un mensaje de prueba y adios' and contenttype= 'text' and typingtime= '3' and id_robot= '420' and blocktype= 'informativo' ;\n",
      "Datos enviados:\n",
      "{'namestate': 'prueba_inicio', 'contenido': 'Hola, soy un chatbot y esto es un mensaje de prueba y adios', 'next_id': 'pruebaCorreo_01inicial_inicial', 'blocktype': 'informativo', 'contenttype': 'text', 'typingtime': '3', 'id_block': 1264, 'id_robot': 420, 'opc_nextid': None, 'pos_y': None, 'pos_x': None, 'tag_active': None}\n"
     ]
    },
    {
     "name": "stderr",
     "output_type": "stream",
     "text": [
      "127.0.0.1 - - [18/Mar/2021 21:26:17] \"\u001b[37mPOST /insert/bloqueinformativo HTTP/1.1\u001b[0m\" 200 -\n",
      "127.0.0.1 - - [18/Mar/2021 21:26:18] \"\u001b[37mPOST /insert/bloqueinformativo HTTP/1.1\u001b[0m\" 200 -\n"
     ]
    },
    {
     "name": "stdout",
     "output_type": "stream",
     "text": [
      "Datos recibidos:\n",
      "{'next_id': 'pruebaCorreo_01inicial_inicial', 'namestate': 'prueba_qa', 'contenido': 'Vamos a ver si no truena', 'contenttype': 'text', 'typingtime': 7, 'id_robot': 420, 'blocktype': 'informativo'}\n",
      "intenatando consulta...\n",
      "consulta: select * from bloqueinformativo where next_id= 'pruebaCorreo_01inicial_inicial' and namestate= 'prueba_qa' and contenido= 'Vamos a ver si no truena' and contenttype= 'text' and typingtime= '7' and id_robot= '420' and blocktype= 'informativo' ;\n",
      "Datos enviados:\n",
      "{'namestate': 'prueba_qa', 'contenido': 'Vamos a ver si no truena', 'next_id': 'pruebaCorreo_01inicial_inicial', 'blocktype': 'informativo', 'contenttype': 'text', 'typingtime': '7', 'id_block': 1265, 'id_robot': 420, 'opc_nextid': None, 'pos_y': None, 'pos_x': None, 'tag_active': None}\n",
      "Datos recibidos:\n",
      "{'next_id': 'Salida', 'namestate': 'prueba_dos', 'contenido': 'Puedo hacer muchas cosas, entre ellas despedirme. Adios', 'contenttype': 'text', 'typingtime': 3, 'id_robot': 420, 'blocktype': 'informativo'}\n",
      "intenatando consulta...\n",
      "consulta: select * from bloqueinformativo where next_id= 'Salida' and namestate= 'prueba_dos' and contenido= 'Puedo hacer muchas cosas, entre ellas despedirme. Adios' and contenttype= 'text' and typingtime= '3' and id_robot= '420' and blocktype= 'informativo' ;\n",
      "Datos enviados:\n",
      "{'namestate': 'prueba_dos', 'contenido': 'Puedo hacer muchas cosas, entre ellas despedirme. Adios', 'next_id': 'Salida', 'blocktype': 'informativo', 'contenttype': 'text', 'typingtime': '3', 'id_block': 1266, 'id_robot': 420, 'opc_nextid': None, 'pos_y': None, 'pos_x': None, 'tag_active': None}\n",
      "Datos recibidos:\n",
      "{'name_var': 'var_case', 'opc_type': 'Variable', 'var': 0, 'opc_data': 'Numerico', 'id_robot': 420}\n"
     ]
    },
    {
     "name": "stderr",
     "output_type": "stream",
     "text": [
      "127.0.0.1 - - [18/Mar/2021 21:26:18] \"\u001b[37mPOST /insert/variables HTTP/1.1\u001b[0m\" 200 -\n",
      "127.0.0.1 - - [18/Mar/2021 21:26:18] \"\u001b[37mPOST /insert/bloquequickreply HTTP/1.1\u001b[0m\" 200 -\n",
      "127.0.0.1 - - [18/Mar/2021 21:26:18] \"\u001b[37mPOST /insert/variables HTTP/1.1\u001b[0m\" 200 -\n"
     ]
    },
    {
     "name": "stdout",
     "output_type": "stream",
     "text": [
      "intenatando consulta...\n",
      "consulta: select * from variables where name_var= 'var_case' and opc_type= 'Variable' and var= '0' and opc_data= 'Numerico' and id_robot= '420' ;\n",
      "Datos enviados:\n",
      "{'id_var': 1001, 'opc_type': 'Variable', 'opc_data': 'Numerico', 'var': '0', 'id_robot': 420, 'name_var': 'var_case'}\n",
      "Datos recibidos:\n",
      "{'contenido': '¿Cuál es tu correo?', 'opciones': 'email,otro', 'next_id': 'prueba_dos,prueba_slide', 'default_id': 'prueba_qa', 'namestate': 'pruebaCorreo_01inicial_inicial', 'typingtime': 3, 'id_robot': 420, 'id_var': 1001, 'blocktype': 'quickReply'}\n",
      "intenatando consulta...\n",
      "consulta: select * from bloquequickreply where contenido= '¿Cuál es tu correo?' and opciones= 'email,otro' and next_id= 'prueba_dos,prueba_slide' and default_id= 'prueba_qa' and namestate= 'pruebaCorreo_01inicial_inicial' and typingtime= '3' and id_robot= '420' and id_var= '1001' and blocktype= 'quickReply' ;\n",
      "Datos enviados:\n",
      "{'namestate': 'pruebaCorreo_01inicial_inicial', 'contenido': '¿Cuál es tu correo?', 'opciones': 'email,otro', 'next_id': 'prueba_dos,prueba_slide', 'blocktype': 'quickReply', 'typingtime': '3', 'default_id': 'prueba_qa', 'id_var': '1001', 'id_block': 442, 'id_robot': 420, 'opc_nextid': None, 'pos_y': None, 'pos_x': None, 'tag_active': None}\n",
      "Datos recibidos:\n",
      "{'name_var': 'var_slideMenu', 'opc_type': 'Variable', 'var': 0, 'opc_data': 'Numerico', 'id_robot': 420}\n",
      "intenatando consulta...\n",
      "consulta: select * from variables where name_var= 'var_slideMenu' and opc_type= 'Variable' and var= '0' and opc_data= 'Numerico' and id_robot= '420' ;\n",
      "Datos enviados:\n",
      "{'id_var': 1002, 'opc_type': 'Variable', 'opc_data': 'Numerico', 'var': '0', 'id_robot': 420, 'name_var': 'var_slideMenu'}\n"
     ]
    },
    {
     "name": "stderr",
     "output_type": "stream",
     "text": [
      "127.0.0.1 - - [18/Mar/2021 21:26:18] \"\u001b[37mPOST /insert/bloqueslide HTTP/1.1\u001b[0m\" 200 -\n",
      "127.0.0.1 - - [18/Mar/2021 21:26:18] \"\u001b[37mPOST /insert/elementos HTTP/1.1\u001b[0m\" 200 -\n"
     ]
    },
    {
     "name": "stdout",
     "output_type": "stream",
     "text": [
      "Datos recibidos:\n",
      "{'namestate': 'prueba_slide', 'blocktype': 'slide', 'typingtime': 3, 'default_id': 'prueba_qa', 'id_var': 1002, 'id_robot': 420}\n",
      "intenatando consulta...\n",
      "consulta: select * from bloqueslide where namestate= 'prueba_slide' and blocktype= 'slide' and typingtime= '3' and default_id= 'prueba_qa' and id_var= '1002' and id_robot= '420' ;\n",
      "Datos enviados:\n",
      "{'namestate': 'prueba_slide', 'next_id': None, 'blocktype': 'slide', 'typingtime': '3', 'default_id': 'prueba_qa', 'id_var': '1002', 'id_block': 204, 'id_robot': 420, 'opc_nextid': None, 'pos_y': None, 'pos_x': None, 'opc_elm': None, 'tag_active': None}\n",
      "Datos recibidos:\n",
      "{'title': 'Prueba titulo', 'image_url': 'https://st2.depositphotos.com/3008028/5540/i/600/depositphotos_55407975-stock-photo-royal-blue-background.jpg', 'subtitle': 'Esta es una prueba de carrusel.', 'blocktype': 'slide', 'id_block': 204}\n",
      "intenatando consulta...\n",
      "consulta: select * from elementos where title= 'Prueba titulo' and image_url= 'https://st2.depositphotos.com/3008028/5540/i/600/depositphotos_55407975-stock-photo-royal-blue-background.jpg' and subtitle= 'Esta es una prueba de carrusel.' and blocktype= 'slide' and id_block= '204' ;\n",
      "Datos enviados:\n",
      "{'blocktype': 'slide', 'title': 'Prueba titulo', 'image_url': 'https://st2.depositphotos.com/3008028/5540/i/600/depositphotos_55407975-stock-photo-royal-blue-background.jpg', 'subtitle': 'Esta es una prueba de carrusel.', 'id_block': 204, 'id_elements': 443}\n",
      "Datos recibidos:\n",
      "{'id_elemento': '443', 'titlebutton': 'Boton 1', 'typebutton': 'web_url', 'contentbutton': 'https://www.youtube.com/', 'opc_nextid': 'https://www.youtube.com/'}\n"
     ]
    },
    {
     "name": "stderr",
     "output_type": "stream",
     "text": [
      "127.0.0.1 - - [18/Mar/2021 21:26:18] \"\u001b[37mPOST /insert/botones HTTP/1.1\u001b[0m\" 200 -\n",
      "127.0.0.1 - - [18/Mar/2021 21:26:18] \"\u001b[37mPOST /insert/botones HTTP/1.1\u001b[0m\" 200 -\n"
     ]
    },
    {
     "name": "stdout",
     "output_type": "stream",
     "text": [
      "intenatando consulta...\n",
      "consulta: select * from botones where id_elemento= '443' and titlebutton= 'Boton 1' and typebutton= 'web_url' and contentbutton= 'https://www.youtube.com/' and opc_nextid= 'https://www.youtube.com/' ;\n",
      "Datos enviados:\n",
      "{'id_elemento': '443', 'titlebutton': 'Boton 1', 'typebutton': 'web_url', 'contentbutton': 'https://www.youtube.com/', 'id_boton': 698, 'opc_nextid': 'https://www.youtube.com/'}\n",
      "Datos recibidos:\n",
      "{'id_elemento': '443', 'titlebutton': 'Boton 2', 'typebutton': 'web_url', 'contentbutton': 'https://www.reddit.com/', 'opc_nextid': 'https://www.reddit.com/'}\n",
      "intenatando consulta...\n",
      "consulta: select * from botones where id_elemento= '443' and titlebutton= 'Boton 2' and typebutton= 'web_url' and contentbutton= 'https://www.reddit.com/' and opc_nextid= 'https://www.reddit.com/' ;\n",
      "Datos enviados:\n",
      "{'id_elemento': '443', 'titlebutton': 'Boton 2', 'typebutton': 'web_url', 'contentbutton': 'https://www.reddit.com/', 'id_boton': 699, 'opc_nextid': 'https://www.reddit.com/'}\n"
     ]
    },
    {
     "name": "stderr",
     "output_type": "stream",
     "text": [
      "127.0.0.1 - - [18/Mar/2021 21:34:43] \"\u001b[37mGET /select/robots HTTP/1.1\u001b[0m\" 200 -\n",
      "127.0.0.1 - - [18/Mar/2021 21:34:43] \"\u001b[37mPOST /insert/robots HTTP/1.1\u001b[0m\" 200 -\n",
      "127.0.0.1 - - [18/Mar/2021 21:34:43] \"\u001b[37mPOST /insert/bloqueinformativo HTTP/1.1\u001b[0m\" 200 -\n"
     ]
    },
    {
     "name": "stdout",
     "output_type": "stream",
     "text": [
      "Datos recibidos:\n",
      "{'name_robot': 'oliverBot', 'id_face': '2153123008120093', 'block_ini': 'prueba_inicio', 'type_blocki': 'quickreply', 'access_token': 'EAAHNkscg2TcBAMvebksfOxuFBpMeR5sUhzHTKtqdi6NkqQKZAdkeaGVJ9Yc5bNbvL3JLzCgB7EEqsVUTZADhidVcC3zJV1UZB4Uz0Hm3fZB9IETnWb4I8MoK8nxpenC1lYwnjwnRwMHVZA1FKw8d3A45t9xCxmPKnm6kIr5ZCA8wZDZD', 'id_user': 'oliverbp88@gmail.com', 'api_nlp': 'http://localhost:8282/'}\n",
      "intenatando consulta...\n",
      "consulta: select * from robots where id_face = '2153123008120093';\n",
      "La consulta no trajo nada\n",
      "Datos enviados:\n",
      "{'error': 'true'}\n",
      "Datos recibidos:\n",
      "{'name_robot': 'oliverBot', 'id_face': '2153123008120093', 'block_ini': 'prueba_inicio', 'type_blocki': 'quickreply', 'access_token': 'EAAHNkscg2TcBAMvebksfOxuFBpMeR5sUhzHTKtqdi6NkqQKZAdkeaGVJ9Yc5bNbvL3JLzCgB7EEqsVUTZADhidVcC3zJV1UZB4Uz0Hm3fZB9IETnWb4I8MoK8nxpenC1lYwnjwnRwMHVZA1FKw8d3A45t9xCxmPKnm6kIr5ZCA8wZDZD', 'id_user': 'oliverbp88@gmail.com', 'api_nlp': 'http://localhost:8282/'}\n",
      "intenatando consulta...\n",
      "consulta: select * from robots where id_face = '2153123008120093';\n",
      "Datos enviados:\n",
      "{'name_robot': 'oliverBot', 'id_face': '2153123008120093', 'block_ini': 'prueba_inicio', 'type_blocki': 'quickreply', 'access_token': 'EAAHNkscg2TcBAMvebksfOxuFBpMeR5sUhzHTKtqdi6NkqQKZAdkeaGVJ9Yc5bNbvL3JLzCgB7EEqsVUTZADhidVcC3zJV1UZB4Uz0Hm3fZB9IETnWb4I8MoK8nxpenC1lYwnjwnRwMHVZA1FKw8d3A45t9xCxmPKnm6kIr5ZCA8wZDZD', 'api_nlp': 'http://localhost:8282/', 'id_robot': 421, 'id_user': 'oliverbp88@gmail.com'}\n",
      "Datos recibidos:\n",
      "{'next_id': 'pruebaCorreo_01inicial_inicial', 'namestate': 'prueba_inicio', 'contenido': 'Hola, soy un chatbot y esto es un mensaje de prueba y adios', 'contenttype': 'text', 'typingtime': 3, 'id_robot': 421, 'blocktype': 'informativo'}\n",
      "intenatando consulta...\n",
      "consulta: select * from bloqueinformativo where next_id= 'pruebaCorreo_01inicial_inicial' and namestate= 'prueba_inicio' and contenido= 'Hola, soy un chatbot y esto es un mensaje de prueba y adios' and contenttype= 'text' and typingtime= '3' and id_robot= '421' and blocktype= 'informativo' ;\n",
      "Datos enviados:\n",
      "{'namestate': 'prueba_inicio', 'contenido': 'Hola, soy un chatbot y esto es un mensaje de prueba y adios', 'next_id': 'pruebaCorreo_01inicial_inicial', 'blocktype': 'informativo', 'contenttype': 'text', 'typingtime': '3', 'id_block': 1267, 'id_robot': 421, 'opc_nextid': None, 'pos_y': None, 'pos_x': None, 'tag_active': None}\n"
     ]
    },
    {
     "name": "stderr",
     "output_type": "stream",
     "text": [
      "127.0.0.1 - - [18/Mar/2021 21:34:43] \"\u001b[37mPOST /insert/bloqueinformativo HTTP/1.1\u001b[0m\" 200 -\n",
      "127.0.0.1 - - [18/Mar/2021 21:34:43] \"\u001b[37mPOST /insert/bloqueinformativo HTTP/1.1\u001b[0m\" 200 -\n"
     ]
    },
    {
     "name": "stdout",
     "output_type": "stream",
     "text": [
      "Datos recibidos:\n",
      "{'next_id': 'pruebaCorreo_01inicial_inicial', 'namestate': 'prueba_qa', 'contenido': 'Vamos a ver si no truena', 'contenttype': 'text', 'typingtime': 7, 'id_robot': 421, 'blocktype': 'informativo'}\n",
      "intenatando consulta...\n",
      "consulta: select * from bloqueinformativo where next_id= 'pruebaCorreo_01inicial_inicial' and namestate= 'prueba_qa' and contenido= 'Vamos a ver si no truena' and contenttype= 'text' and typingtime= '7' and id_robot= '421' and blocktype= 'informativo' ;\n",
      "Datos enviados:\n",
      "{'namestate': 'prueba_qa', 'contenido': 'Vamos a ver si no truena', 'next_id': 'pruebaCorreo_01inicial_inicial', 'blocktype': 'informativo', 'contenttype': 'text', 'typingtime': '7', 'id_block': 1268, 'id_robot': 421, 'opc_nextid': None, 'pos_y': None, 'pos_x': None, 'tag_active': None}\n",
      "Datos recibidos:\n",
      "{'next_id': 'Salida', 'namestate': 'prueba_dos', 'contenido': 'Puedo hacer muchas cosas, entre ellas despedirme. Adios', 'contenttype': 'text', 'typingtime': 3, 'id_robot': 421, 'blocktype': 'informativo'}\n",
      "intenatando consulta...\n",
      "consulta: select * from bloqueinformativo where next_id= 'Salida' and namestate= 'prueba_dos' and contenido= 'Puedo hacer muchas cosas, entre ellas despedirme. Adios' and contenttype= 'text' and typingtime= '3' and id_robot= '421' and blocktype= 'informativo' ;\n",
      "Datos enviados:\n",
      "{'namestate': 'prueba_dos', 'contenido': 'Puedo hacer muchas cosas, entre ellas despedirme. Adios', 'next_id': 'Salida', 'blocktype': 'informativo', 'contenttype': 'text', 'typingtime': '3', 'id_block': 1269, 'id_robot': 421, 'opc_nextid': None, 'pos_y': None, 'pos_x': None, 'tag_active': None}\n",
      "Datos recibidos:\n",
      "{'name_var': 'var_case', 'opc_type': 'Variable', 'var': 0, 'opc_data': 'Numerico', 'id_robot': 421}\n",
      "intenatando consulta...\n",
      "consulta: select * from variables where name_var= 'var_case' and opc_type= 'Variable' and var= '0' and opc_data= 'Numerico' and id_robot= '421' ;\n"
     ]
    },
    {
     "name": "stderr",
     "output_type": "stream",
     "text": [
      "127.0.0.1 - - [18/Mar/2021 21:34:43] \"\u001b[37mPOST /insert/variables HTTP/1.1\u001b[0m\" 200 -\n",
      "127.0.0.1 - - [18/Mar/2021 21:34:43] \"\u001b[37mPOST /insert/bloquequickreply HTTP/1.1\u001b[0m\" 200 -\n",
      "127.0.0.1 - - [18/Mar/2021 21:34:44] \"\u001b[37mPOST /insert/variables HTTP/1.1\u001b[0m\" 200 -\n"
     ]
    },
    {
     "name": "stdout",
     "output_type": "stream",
     "text": [
      "Datos enviados:\n",
      "{'id_var': 1003, 'opc_type': 'Variable', 'opc_data': 'Numerico', 'var': '0', 'id_robot': 421, 'name_var': 'var_case'}\n",
      "Datos recibidos:\n",
      "{'contenido': '¿Cuál es tu correo?', 'opciones': 'email,otro', 'next_id': 'prueba_dos,prueba_slide', 'default_id': 'prueba_qa', 'namestate': 'pruebaCorreo_01inicial_inicial', 'typingtime': 3, 'id_robot': 421, 'id_var': 1003, 'blocktype': 'quickReply'}\n",
      "intenatando consulta...\n",
      "consulta: select * from bloquequickreply where contenido= '¿Cuál es tu correo?' and opciones= 'email,otro' and next_id= 'prueba_dos,prueba_slide' and default_id= 'prueba_qa' and namestate= 'pruebaCorreo_01inicial_inicial' and typingtime= '3' and id_robot= '421' and id_var= '1003' and blocktype= 'quickReply' ;\n",
      "Datos enviados:\n",
      "{'namestate': 'pruebaCorreo_01inicial_inicial', 'contenido': '¿Cuál es tu correo?', 'opciones': 'email,otro', 'next_id': 'prueba_dos,prueba_slide', 'blocktype': 'quickReply', 'typingtime': '3', 'default_id': 'prueba_qa', 'id_var': '1003', 'id_block': 443, 'id_robot': 421, 'opc_nextid': None, 'pos_y': None, 'pos_x': None, 'tag_active': None}\n",
      "Datos recibidos:\n",
      "{'name_var': 'var_slideMenu', 'opc_type': 'Variable', 'var': 0, 'opc_data': 'Numerico', 'id_robot': 421}\n",
      "intenatando consulta...\n",
      "consulta: select * from variables where name_var= 'var_slideMenu' and opc_type= 'Variable' and var= '0' and opc_data= 'Numerico' and id_robot= '421' ;\n",
      "Datos enviados:\n",
      "{'id_var': 1004, 'opc_type': 'Variable', 'opc_data': 'Numerico', 'var': '0', 'id_robot': 421, 'name_var': 'var_slideMenu'}\n"
     ]
    },
    {
     "name": "stderr",
     "output_type": "stream",
     "text": [
      "127.0.0.1 - - [18/Mar/2021 21:34:44] \"\u001b[37mPOST /insert/bloqueslide HTTP/1.1\u001b[0m\" 200 -\n",
      "127.0.0.1 - - [18/Mar/2021 21:34:44] \"\u001b[37mPOST /insert/elementos HTTP/1.1\u001b[0m\" 200 -\n"
     ]
    },
    {
     "name": "stdout",
     "output_type": "stream",
     "text": [
      "Datos recibidos:\n",
      "{'namestate': 'prueba_slide', 'blocktype': 'slide', 'typingtime': 3, 'default_id': 'prueba_qa', 'id_var': 1004, 'id_robot': 421}\n",
      "intenatando consulta...\n",
      "consulta: select * from bloqueslide where namestate= 'prueba_slide' and blocktype= 'slide' and typingtime= '3' and default_id= 'prueba_qa' and id_var= '1004' and id_robot= '421' ;\n",
      "Datos enviados:\n",
      "{'namestate': 'prueba_slide', 'next_id': None, 'blocktype': 'slide', 'typingtime': '3', 'default_id': 'prueba_qa', 'id_var': '1004', 'id_block': 205, 'id_robot': 421, 'opc_nextid': None, 'pos_y': None, 'pos_x': None, 'opc_elm': None, 'tag_active': None}\n",
      "Datos recibidos:\n",
      "{'title': 'Prueba titulo', 'image_url': 'https://st2.depositphotos.com/3008028/5540/i/600/depositphotos_55407975-stock-photo-royal-blue-background.jpg', 'subtitle': 'Esta es una prueba de carrusel.', 'blocktype': 'slide', 'id_block': 205}\n",
      "intenatando consulta...\n",
      "consulta: select * from elementos where title= 'Prueba titulo' and image_url= 'https://st2.depositphotos.com/3008028/5540/i/600/depositphotos_55407975-stock-photo-royal-blue-background.jpg' and subtitle= 'Esta es una prueba de carrusel.' and blocktype= 'slide' and id_block= '205' ;\n",
      "Datos enviados:\n",
      "{'blocktype': 'slide', 'title': 'Prueba titulo', 'image_url': 'https://st2.depositphotos.com/3008028/5540/i/600/depositphotos_55407975-stock-photo-royal-blue-background.jpg', 'subtitle': 'Esta es una prueba de carrusel.', 'id_block': 205, 'id_elements': 444}\n",
      "Datos recibidos:\n",
      "{'id_elemento': '444', 'titlebutton': 'Boton 1', 'typebutton': 'web_url', 'contentbutton': 'https://www.youtube.com/', 'opc_nextid': 'https://www.youtube.com/'}\n",
      "intenatando consulta...\n",
      "consulta: select * from botones where id_elemento= '444' and titlebutton= 'Boton 1' and typebutton= 'web_url' and contentbutton= 'https://www.youtube.com/' and opc_nextid= 'https://www.youtube.com/' ;\n"
     ]
    },
    {
     "name": "stderr",
     "output_type": "stream",
     "text": [
      "127.0.0.1 - - [18/Mar/2021 21:34:44] \"\u001b[37mPOST /insert/botones HTTP/1.1\u001b[0m\" 200 -\n",
      "127.0.0.1 - - [18/Mar/2021 21:34:44] \"\u001b[37mPOST /insert/botones HTTP/1.1\u001b[0m\" 200 -\n"
     ]
    },
    {
     "name": "stdout",
     "output_type": "stream",
     "text": [
      "Datos enviados:\n",
      "{'id_elemento': '444', 'titlebutton': 'Boton 1', 'typebutton': 'web_url', 'contentbutton': 'https://www.youtube.com/', 'id_boton': 700, 'opc_nextid': 'https://www.youtube.com/'}\n",
      "Datos recibidos:\n",
      "{'id_elemento': '444', 'titlebutton': 'Boton 2', 'typebutton': 'web_url', 'contentbutton': 'https://www.reddit.com/', 'opc_nextid': 'https://www.reddit.com/'}\n",
      "intenatando consulta...\n",
      "consulta: select * from botones where id_elemento= '444' and titlebutton= 'Boton 2' and typebutton= 'web_url' and contentbutton= 'https://www.reddit.com/' and opc_nextid= 'https://www.reddit.com/' ;\n",
      "Datos enviados:\n",
      "{'id_elemento': '444', 'titlebutton': 'Boton 2', 'typebutton': 'web_url', 'contentbutton': 'https://www.reddit.com/', 'id_boton': 701, 'opc_nextid': 'https://www.reddit.com/'}\n"
     ]
    },
    {
     "name": "stderr",
     "output_type": "stream",
     "text": [
      "127.0.0.1 - - [18/Mar/2021 21:34:51] \"\u001b[37mGET /select/robots HTTP/1.1\u001b[0m\" 200 -\n",
      "127.0.0.1 - - [18/Mar/2021 21:34:51] \"\u001b[37mPOST /insert/robots HTTP/1.1\u001b[0m\" 200 -\n",
      "127.0.0.1 - - [18/Mar/2021 21:34:51] \"\u001b[37mPOST /insert/bloqueinformativo HTTP/1.1\u001b[0m\" 200 -\n"
     ]
    },
    {
     "name": "stdout",
     "output_type": "stream",
     "text": [
      "Datos recibidos:\n",
      "{'name_robot': 'charlybot', 'id_face': '111445520541316', 'block_ini': 'prueba_inicio', 'type_blocki': 'informativo', 'access_token': 'EAALZCCZBzPwfkBAAo7njAlW7s4DTj1ZCs5v1ung1MhEyMlJXOOtiG8r7JcBgXVPhZBHkJONyTB6jKG470UyqGPWn4aDPnisgtT2ZCZAwQIjQgZAZBufZBJXmHz6mPKSgdmP6ikDA87vocZBay2dfQdz1OYezmYbxwfILXUvXtjUMZAniQZDZD', 'id_user': 'charlygoldcruz@gmail.com', 'api_nlp': 'http://localhost:8282/'}\n",
      "intenatando consulta...\n",
      "consulta: select * from robots where id_face = '111445520541316';\n",
      "La consulta no trajo nada\n",
      "Datos enviados:\n",
      "{'error': 'true'}\n",
      "Datos recibidos:\n",
      "{'name_robot': 'charlybot', 'id_face': '111445520541316', 'block_ini': 'prueba_inicio', 'type_blocki': 'informativo', 'access_token': 'EAALZCCZBzPwfkBAAo7njAlW7s4DTj1ZCs5v1ung1MhEyMlJXOOtiG8r7JcBgXVPhZBHkJONyTB6jKG470UyqGPWn4aDPnisgtT2ZCZAwQIjQgZAZBufZBJXmHz6mPKSgdmP6ikDA87vocZBay2dfQdz1OYezmYbxwfILXUvXtjUMZAniQZDZD', 'id_user': 'charlygoldcruz@gmail.com', 'api_nlp': 'http://localhost:8282/'}\n",
      "intenatando consulta...\n",
      "consulta: select * from robots where id_face = '111445520541316';\n",
      "Datos enviados:\n",
      "{'name_robot': 'charlybot', 'id_face': '111445520541316', 'block_ini': 'prueba_inicio', 'type_blocki': 'informativo', 'access_token': 'EAALZCCZBzPwfkBAAo7njAlW7s4DTj1ZCs5v1ung1MhEyMlJXOOtiG8r7JcBgXVPhZBHkJONyTB6jKG470UyqGPWn4aDPnisgtT2ZCZAwQIjQgZAZBufZBJXmHz6mPKSgdmP6ikDA87vocZBay2dfQdz1OYezmYbxwfILXUvXtjUMZAniQZDZD', 'api_nlp': 'http://localhost:8282/', 'id_robot': 422, 'id_user': 'charlygoldcruz@gmail.com'}\n",
      "Datos recibidos:\n",
      "{'next_id': 'prueba_captura', 'namestate': 'prueba_inicio', 'contenido': 'Hola, soy un chatbot y esto es un mensaje de prueba y adios', 'contenttype': 'text', 'typingtime': 3, 'id_robot': 422, 'blocktype': 'informativo'}\n",
      "intenatando consulta...\n",
      "consulta: select * from bloqueinformativo where next_id= 'prueba_captura' and namestate= 'prueba_inicio' and contenido= 'Hola, soy un chatbot y esto es un mensaje de prueba y adios' and contenttype= 'text' and typingtime= '3' and id_robot= '422' and blocktype= 'informativo' ;\n",
      "Datos enviados:\n",
      "{'namestate': 'prueba_inicio', 'contenido': 'Hola, soy un chatbot y esto es un mensaje de prueba y adios', 'next_id': 'prueba_captura', 'blocktype': 'informativo', 'contenttype': 'text', 'typingtime': '3', 'id_block': 1270, 'id_robot': 422, 'opc_nextid': None, 'pos_y': None, 'pos_x': None, 'tag_active': None}\n",
      "Datos recibidos:\n",
      "{'name_var': 'email', 'opc_type': 'Variable', 'var': 0, 'opc_data': 'String', 'id_robot': 422}\n"
     ]
    },
    {
     "name": "stderr",
     "output_type": "stream",
     "text": [
      "127.0.0.1 - - [18/Mar/2021 21:34:52] \"\u001b[37mPOST /insert/variables HTTP/1.1\u001b[0m\" 200 -\n",
      "127.0.0.1 - - [18/Mar/2021 21:34:52] \"\u001b[37mPOST /insert/bloqueinput HTTP/1.1\u001b[0m\" 200 -\n",
      "127.0.0.1 - - [18/Mar/2021 21:34:52] \"\u001b[37mPOST /insert/bloqueinformativo HTTP/1.1\u001b[0m\" 200 -\n"
     ]
    },
    {
     "name": "stdout",
     "output_type": "stream",
     "text": [
      "intenatando consulta...\n",
      "consulta: select * from variables where name_var= 'email' and opc_type= 'Variable' and var= '0' and opc_data= 'String' and id_robot= '422' ;\n",
      "Datos enviados:\n",
      "{'id_var': 1005, 'opc_type': 'Variable', 'opc_data': 'String', 'var': '0', 'id_robot': 422, 'name_var': 'email'}\n",
      "Datos recibidos:\n",
      "{'next_id': 'pruebaCorreo_01inicial_inicial', 'default_id': 'prueba_captura', 'namestate': 'prueba_captura', 'contenido': 'introduce tu correo', 'contenttype': 'text', 'typingtime': 3, 'validacion': '^[a-z0-9]+[\\\\._]?[a-z0-9]+[@]\\\\w+[.]\\\\w{2,3}$', 'id_robot': 422, 'id_var': 1005, 'blocktype': 'input'}\n",
      "intenatando consulta...\n",
      "consulta: select * from bloqueinput where next_id= 'pruebaCorreo_01inicial_inicial' and default_id= 'prueba_captura' and namestate= 'prueba_captura' and contenido= 'introduce tu correo' and contenttype= 'text' and typingtime= '3' and validacion= '^[a-z0-9]+[\\._]?[a-z0-9]+[@]\\w+[.]\\w{2,3}$' and id_robot= '422' and id_var= '1005' and blocktype= 'input' ;\n",
      "Datos enviados:\n",
      "{'namestate': 'prueba_captura', 'contenido': 'introduce tu correo', 'next_id': 'pruebaCorreo_01inicial_inicial', 'blocktype': 'input', 'contenttype': 'text', 'typingtime': '3', 'validacion': '^[a-z0-9]+[\\\\._]?[a-z0-9]+[@]\\\\w+[.]\\\\w{2,3}$', 'default_id': 'prueba_captura', 'id_var': '1005', 'id_block': 157, 'id_robot': 422, 'opc_nextid': None, 'pos_y': None, 'pos_x': None, 'tag_active': None}\n",
      "Datos recibidos:\n",
      "{'next_id': 'pruebaCorreo_01inicial_inicial', 'namestate': 'prueba_qa', 'contenido': 'Vamos a ver si no truena', 'contenttype': 'text', 'typingtime': 7, 'id_robot': 422, 'blocktype': 'informativo'}\n",
      "intenatando consulta...\n",
      "consulta: select * from bloqueinformativo where next_id= 'pruebaCorreo_01inicial_inicial' and namestate= 'prueba_qa' and contenido= 'Vamos a ver si no truena' and contenttype= 'text' and typingtime= '7' and id_robot= '422' and blocktype= 'informativo' ;\n",
      "Datos enviados:\n",
      "{'namestate': 'prueba_qa', 'contenido': 'Vamos a ver si no truena', 'next_id': 'pruebaCorreo_01inicial_inicial', 'blocktype': 'informativo', 'contenttype': 'text', 'typingtime': '7', 'id_block': 1271, 'id_robot': 422, 'opc_nextid': None, 'pos_y': None, 'pos_x': None, 'tag_active': None}\n",
      "Datos recibidos:\n",
      "{'next_id': 'Salida', 'namestate': 'prueba_dos', 'contenido': 'Puedo hacer muchas cosas, entre ellas despedirme. Adios', 'contenttype': 'text', 'typingtime': 3, 'id_robot': 422, 'blocktype': 'informativo'}\n"
     ]
    },
    {
     "name": "stderr",
     "output_type": "stream",
     "text": [
      "127.0.0.1 - - [18/Mar/2021 21:34:52] \"\u001b[37mPOST /insert/bloqueinformativo HTTP/1.1\u001b[0m\" 200 -\n",
      "127.0.0.1 - - [18/Mar/2021 21:34:52] \"\u001b[37mPOST /insert/variables HTTP/1.1\u001b[0m\" 200 -\n",
      "127.0.0.1 - - [18/Mar/2021 21:34:52] \"\u001b[37mPOST /insert/bloquequickreply HTTP/1.1\u001b[0m\" 200 -\n"
     ]
    },
    {
     "name": "stdout",
     "output_type": "stream",
     "text": [
      "intenatando consulta...\n",
      "consulta: select * from bloqueinformativo where next_id= 'Salida' and namestate= 'prueba_dos' and contenido= 'Puedo hacer muchas cosas, entre ellas despedirme. Adios' and contenttype= 'text' and typingtime= '3' and id_robot= '422' and blocktype= 'informativo' ;\n",
      "Datos enviados:\n",
      "{'namestate': 'prueba_dos', 'contenido': 'Puedo hacer muchas cosas, entre ellas despedirme. Adios', 'next_id': 'Salida', 'blocktype': 'informativo', 'contenttype': 'text', 'typingtime': '3', 'id_block': 1272, 'id_robot': 422, 'opc_nextid': None, 'pos_y': None, 'pos_x': None, 'tag_active': None}\n",
      "Datos recibidos:\n",
      "{'name_var': 'var_case', 'opc_type': 'Variable', 'var': 0, 'opc_data': 'Numerico', 'id_robot': 422}\n",
      "intenatando consulta...\n",
      "consulta: select * from variables where name_var= 'var_case' and opc_type= 'Variable' and var= '0' and opc_data= 'Numerico' and id_robot= '422' ;\n",
      "Datos enviados:\n",
      "{'id_var': 1006, 'opc_type': 'Variable', 'opc_data': 'Numerico', 'var': '0', 'id_robot': 422, 'name_var': 'var_case'}\n",
      "Datos recibidos:\n",
      "{'contenido': '¿Cuál es tu correo?', 'opciones': 'email,otro', 'next_id': 'prueba_dos,prueba_slide', 'default_id': 'prueba_qa', 'namestate': 'pruebaCorreo_01inicial_inicial', 'typingtime': 3, 'id_robot': 422, 'id_var': 1006, 'blocktype': 'quickReply'}\n",
      "intenatando consulta...\n",
      "consulta: select * from bloquequickreply where contenido= '¿Cuál es tu correo?' and opciones= 'email,otro' and next_id= 'prueba_dos,prueba_slide' and default_id= 'prueba_qa' and namestate= 'pruebaCorreo_01inicial_inicial' and typingtime= '3' and id_robot= '422' and id_var= '1006' and blocktype= 'quickReply' ;\n",
      "Datos enviados:\n",
      "{'namestate': 'pruebaCorreo_01inicial_inicial', 'contenido': '¿Cuál es tu correo?', 'opciones': 'email,otro', 'next_id': 'prueba_dos,prueba_slide', 'blocktype': 'quickReply', 'typingtime': '3', 'default_id': 'prueba_qa', 'id_var': '1006', 'id_block': 444, 'id_robot': 422, 'opc_nextid': None, 'pos_y': None, 'pos_x': None, 'tag_active': None}\n",
      "Datos recibidos:\n",
      "{'name_var': 'var_slideMenu', 'opc_type': 'Variable', 'var': 0, 'opc_data': 'Numerico', 'id_robot': 422}\n"
     ]
    },
    {
     "name": "stderr",
     "output_type": "stream",
     "text": [
      "127.0.0.1 - - [18/Mar/2021 21:34:52] \"\u001b[37mPOST /insert/variables HTTP/1.1\u001b[0m\" 200 -\n",
      "127.0.0.1 - - [18/Mar/2021 21:34:52] \"\u001b[37mPOST /insert/bloqueslide HTTP/1.1\u001b[0m\" 200 -\n",
      "127.0.0.1 - - [18/Mar/2021 21:34:52] \"\u001b[37mPOST /insert/elementos HTTP/1.1\u001b[0m\" 200 -\n"
     ]
    },
    {
     "name": "stdout",
     "output_type": "stream",
     "text": [
      "intenatando consulta...\n",
      "consulta: select * from variables where name_var= 'var_slideMenu' and opc_type= 'Variable' and var= '0' and opc_data= 'Numerico' and id_robot= '422' ;\n",
      "Datos enviados:\n",
      "{'id_var': 1007, 'opc_type': 'Variable', 'opc_data': 'Numerico', 'var': '0', 'id_robot': 422, 'name_var': 'var_slideMenu'}\n",
      "Datos recibidos:\n",
      "{'namestate': 'prueba_slide', 'blocktype': 'slide', 'typingtime': 3, 'default_id': 'prueba_qa', 'id_var': 1007, 'id_robot': 422}\n",
      "intenatando consulta...\n",
      "consulta: select * from bloqueslide where namestate= 'prueba_slide' and blocktype= 'slide' and typingtime= '3' and default_id= 'prueba_qa' and id_var= '1007' and id_robot= '422' ;\n",
      "Datos enviados:\n",
      "{'namestate': 'prueba_slide', 'next_id': None, 'blocktype': 'slide', 'typingtime': '3', 'default_id': 'prueba_qa', 'id_var': '1007', 'id_block': 206, 'id_robot': 422, 'opc_nextid': None, 'pos_y': None, 'pos_x': None, 'opc_elm': None, 'tag_active': None}\n",
      "Datos recibidos:\n",
      "{'title': 'Prueba titulo', 'image_url': 'https://infosertecblog.files.wordpress.com/2016/08/bot-de-telegram.jpg', 'subtitle': 'Esta es una prueba de carrusel.', 'blocktype': 'slide', 'id_block': 206}\n",
      "intenatando consulta...\n",
      "consulta: select * from elementos where title= 'Prueba titulo' and image_url= 'https://infosertecblog.files.wordpress.com/2016/08/bot-de-telegram.jpg' and subtitle= 'Esta es una prueba de carrusel.' and blocktype= 'slide' and id_block= '206' ;\n",
      "Datos enviados:\n",
      "{'blocktype': 'slide', 'title': 'Prueba titulo', 'image_url': 'https://infosertecblog.files.wordpress.com/2016/08/bot-de-telegram.jpg', 'subtitle': 'Esta es una prueba de carrusel.', 'id_block': 206, 'id_elements': 445}\n",
      "Datos recibidos:\n",
      "{'id_elemento': '445', 'titlebutton': 'Boton 1', 'typebutton': 'web_url', 'contentbutton': 'https://www.youtube.com/', 'opc_nextid': 'https://www.youtube.com/'}\n"
     ]
    },
    {
     "name": "stderr",
     "output_type": "stream",
     "text": [
      "127.0.0.1 - - [18/Mar/2021 21:34:52] \"\u001b[37mPOST /insert/botones HTTP/1.1\u001b[0m\" 200 -\n",
      "127.0.0.1 - - [18/Mar/2021 21:34:52] \"\u001b[37mPOST /insert/botones HTTP/1.1\u001b[0m\" 200 -\n"
     ]
    },
    {
     "name": "stdout",
     "output_type": "stream",
     "text": [
      "intenatando consulta...\n",
      "consulta: select * from botones where id_elemento= '445' and titlebutton= 'Boton 1' and typebutton= 'web_url' and contentbutton= 'https://www.youtube.com/' and opc_nextid= 'https://www.youtube.com/' ;\n",
      "Datos enviados:\n",
      "{'id_elemento': '445', 'titlebutton': 'Boton 1', 'typebutton': 'web_url', 'contentbutton': 'https://www.youtube.com/', 'id_boton': 702, 'opc_nextid': 'https://www.youtube.com/'}\n",
      "Datos recibidos:\n",
      "{'id_elemento': '445', 'titlebutton': 'Boton 2', 'typebutton': 'web_url', 'contentbutton': 'https://www.reddit.com/', 'opc_nextid': 'https://www.reddit.com/'}\n",
      "intenatando consulta...\n",
      "consulta: select * from botones where id_elemento= '445' and titlebutton= 'Boton 2' and typebutton= 'web_url' and contentbutton= 'https://www.reddit.com/' and opc_nextid= 'https://www.reddit.com/' ;\n",
      "Datos enviados:\n",
      "{'id_elemento': '445', 'titlebutton': 'Boton 2', 'typebutton': 'web_url', 'contentbutton': 'https://www.reddit.com/', 'id_boton': 703, 'opc_nextid': 'https://www.reddit.com/'}\n"
     ]
    },
    {
     "name": "stderr",
     "output_type": "stream",
     "text": [
      "127.0.0.1 - - [18/Mar/2021 22:49:56] \"\u001b[37mGET /select/robots HTTP/1.1\u001b[0m\" 200 -\n",
      "127.0.0.1 - - [18/Mar/2021 22:49:56] \"\u001b[37mPOST /insert/robots HTTP/1.1\u001b[0m\" 200 -\n",
      "127.0.0.1 - - [18/Mar/2021 22:49:57] \"\u001b[37mPOST /insert/bloqueinformativo HTTP/1.1\u001b[0m\" 200 -\n"
     ]
    },
    {
     "name": "stdout",
     "output_type": "stream",
     "text": [
      "Datos recibidos:\n",
      "{'name_robot': 'oliverBot', 'id_face': '2153123008120093', 'block_ini': 'prueba_inicio', 'type_blocki': 'quickreply', 'access_token': 'EAAHNkscg2TcBAMvebksfOxuFBpMeR5sUhzHTKtqdi6NkqQKZAdkeaGVJ9Yc5bNbvL3JLzCgB7EEqsVUTZADhidVcC3zJV1UZB4Uz0Hm3fZB9IETnWb4I8MoK8nxpenC1lYwnjwnRwMHVZA1FKw8d3A45t9xCxmPKnm6kIr5ZCA8wZDZD', 'id_user': 'oliverbp88@gmail.com', 'api_nlp': 'http://localhost:8282/'}\n",
      "intenatando consulta...\n",
      "consulta: select * from robots where id_face = '2153123008120093';\n",
      "La consulta no trajo nada\n",
      "Datos enviados:\n",
      "{'error': 'true'}\n",
      "Datos recibidos:\n",
      "{'name_robot': 'oliverBot', 'id_face': '2153123008120093', 'block_ini': 'prueba_inicio', 'type_blocki': 'quickreply', 'access_token': 'EAAHNkscg2TcBAMvebksfOxuFBpMeR5sUhzHTKtqdi6NkqQKZAdkeaGVJ9Yc5bNbvL3JLzCgB7EEqsVUTZADhidVcC3zJV1UZB4Uz0Hm3fZB9IETnWb4I8MoK8nxpenC1lYwnjwnRwMHVZA1FKw8d3A45t9xCxmPKnm6kIr5ZCA8wZDZD', 'id_user': 'oliverbp88@gmail.com', 'api_nlp': 'http://localhost:8282/'}\n",
      "intenatando consulta...\n",
      "consulta: select * from robots where id_face = '2153123008120093';\n",
      "Datos enviados:\n",
      "{'name_robot': 'oliverBot', 'id_face': '2153123008120093', 'block_ini': 'prueba_inicio', 'type_blocki': 'quickreply', 'access_token': 'EAAHNkscg2TcBAMvebksfOxuFBpMeR5sUhzHTKtqdi6NkqQKZAdkeaGVJ9Yc5bNbvL3JLzCgB7EEqsVUTZADhidVcC3zJV1UZB4Uz0Hm3fZB9IETnWb4I8MoK8nxpenC1lYwnjwnRwMHVZA1FKw8d3A45t9xCxmPKnm6kIr5ZCA8wZDZD', 'api_nlp': 'http://localhost:8282/', 'id_robot': 423, 'id_user': 'oliverbp88@gmail.com'}\n",
      "Datos recibidos:\n",
      "{'next_id': 'pruebaCorreo_01inicial_inicial', 'namestate': 'prueba_inicio', 'contenido': 'Hola, soy un robot!', 'contenttype': 'text', 'typingtime': 3, 'id_robot': 423, 'blocktype': 'informativo'}\n",
      "intenatando consulta...\n",
      "consulta: select * from bloqueinformativo where next_id= 'pruebaCorreo_01inicial_inicial' and namestate= 'prueba_inicio' and contenido= 'Hola, soy un robot!' and contenttype= 'text' and typingtime= '3' and id_robot= '423' and blocktype= 'informativo' ;\n",
      "Datos enviados:\n",
      "{'namestate': 'prueba_inicio', 'contenido': 'Hola, soy un robot!', 'next_id': 'pruebaCorreo_01inicial_inicial', 'blocktype': 'informativo', 'contenttype': 'text', 'typingtime': '3', 'id_block': 1273, 'id_robot': 423, 'opc_nextid': None, 'pos_y': None, 'pos_x': None, 'tag_active': None}\n"
     ]
    },
    {
     "name": "stderr",
     "output_type": "stream",
     "text": [
      "127.0.0.1 - - [18/Mar/2021 22:49:57] \"\u001b[37mPOST /insert/bloqueinformativo HTTP/1.1\u001b[0m\" 200 -\n",
      "127.0.0.1 - - [18/Mar/2021 22:49:57] \"\u001b[37mPOST /insert/bloqueinformativo HTTP/1.1\u001b[0m\" 200 -\n"
     ]
    },
    {
     "name": "stdout",
     "output_type": "stream",
     "text": [
      "Datos recibidos:\n",
      "{'next_id': 'pruebaCorreo_01inicial_inicial', 'namestate': 'prueba_qa', 'contenido': 'Vamos a ver si no truena', 'contenttype': 'text', 'typingtime': 7, 'id_robot': 423, 'blocktype': 'informativo'}\n",
      "intenatando consulta...\n",
      "consulta: select * from bloqueinformativo where next_id= 'pruebaCorreo_01inicial_inicial' and namestate= 'prueba_qa' and contenido= 'Vamos a ver si no truena' and contenttype= 'text' and typingtime= '7' and id_robot= '423' and blocktype= 'informativo' ;\n",
      "Datos enviados:\n",
      "{'namestate': 'prueba_qa', 'contenido': 'Vamos a ver si no truena', 'next_id': 'pruebaCorreo_01inicial_inicial', 'blocktype': 'informativo', 'contenttype': 'text', 'typingtime': '7', 'id_block': 1274, 'id_robot': 423, 'opc_nextid': None, 'pos_y': None, 'pos_x': None, 'tag_active': None}\n",
      "Datos recibidos:\n",
      "{'next_id': 'Salida', 'namestate': 'prueba_dos', 'contenido': 'Puedo hacer muchas cosas, entre ellas despedirme. Adios', 'contenttype': 'text', 'typingtime': 3, 'id_robot': 423, 'blocktype': 'informativo'}\n",
      "intenatando consulta...\n",
      "consulta: select * from bloqueinformativo where next_id= 'Salida' and namestate= 'prueba_dos' and contenido= 'Puedo hacer muchas cosas, entre ellas despedirme. Adios' and contenttype= 'text' and typingtime= '3' and id_robot= '423' and blocktype= 'informativo' ;\n",
      "Datos enviados:\n",
      "{'namestate': 'prueba_dos', 'contenido': 'Puedo hacer muchas cosas, entre ellas despedirme. Adios', 'next_id': 'Salida', 'blocktype': 'informativo', 'contenttype': 'text', 'typingtime': '3', 'id_block': 1275, 'id_robot': 423, 'opc_nextid': None, 'pos_y': None, 'pos_x': None, 'tag_active': None}\n",
      "Datos recibidos:\n",
      "{'name_var': 'var_case', 'opc_type': 'Variable', 'var': 0, 'opc_data': 'Numerico', 'id_robot': 423}\n"
     ]
    },
    {
     "name": "stderr",
     "output_type": "stream",
     "text": [
      "127.0.0.1 - - [18/Mar/2021 22:49:57] \"\u001b[37mPOST /insert/variables HTTP/1.1\u001b[0m\" 200 -\n",
      "127.0.0.1 - - [18/Mar/2021 22:49:57] \"\u001b[37mPOST /insert/bloquequickreply HTTP/1.1\u001b[0m\" 200 -\n",
      "127.0.0.1 - - [18/Mar/2021 22:49:57] \"\u001b[37mPOST /insert/variables HTTP/1.1\u001b[0m\" 200 -\n"
     ]
    },
    {
     "name": "stdout",
     "output_type": "stream",
     "text": [
      "intenatando consulta...\n",
      "consulta: select * from variables where name_var= 'var_case' and opc_type= 'Variable' and var= '0' and opc_data= 'Numerico' and id_robot= '423' ;\n",
      "Datos enviados:\n",
      "{'id_var': 1008, 'opc_type': 'Variable', 'opc_data': 'Numerico', 'var': '0', 'id_robot': 423, 'name_var': 'var_case'}\n",
      "Datos recibidos:\n",
      "{'contenido': '¿Cuál es tu correo?', 'opciones': 'email,otro', 'next_id': 'prueba_dos,prueba_slide', 'default_id': 'prueba_qa', 'namestate': 'pruebaCorreo_01inicial_inicial', 'typingtime': 3, 'id_robot': 423, 'id_var': 1008, 'blocktype': 'quickReply'}\n",
      "intenatando consulta...\n",
      "consulta: select * from bloquequickreply where contenido= '¿Cuál es tu correo?' and opciones= 'email,otro' and next_id= 'prueba_dos,prueba_slide' and default_id= 'prueba_qa' and namestate= 'pruebaCorreo_01inicial_inicial' and typingtime= '3' and id_robot= '423' and id_var= '1008' and blocktype= 'quickReply' ;\n",
      "Datos enviados:\n",
      "{'namestate': 'pruebaCorreo_01inicial_inicial', 'contenido': '¿Cuál es tu correo?', 'opciones': 'email,otro', 'next_id': 'prueba_dos,prueba_slide', 'blocktype': 'quickReply', 'typingtime': '3', 'default_id': 'prueba_qa', 'id_var': '1008', 'id_block': 445, 'id_robot': 423, 'opc_nextid': None, 'pos_y': None, 'pos_x': None, 'tag_active': None}\n",
      "Datos recibidos:\n",
      "{'name_var': 'var_slideMenu', 'opc_type': 'Variable', 'var': 0, 'opc_data': 'Numerico', 'id_robot': 423}\n",
      "intenatando consulta...\n",
      "consulta: select * from variables where name_var= 'var_slideMenu' and opc_type= 'Variable' and var= '0' and opc_data= 'Numerico' and id_robot= '423' ;\n",
      "Datos enviados:\n",
      "{'id_var': 1009, 'opc_type': 'Variable', 'opc_data': 'Numerico', 'var': '0', 'id_robot': 423, 'name_var': 'var_slideMenu'}\n",
      "Datos recibidos:\n",
      "{'namestate': 'prueba_slide', 'blocktype': 'slide', 'typingtime': 3, 'default_id': 'prueba_qa', 'id_var': 1009, 'id_robot': 423}\n"
     ]
    },
    {
     "name": "stderr",
     "output_type": "stream",
     "text": [
      "127.0.0.1 - - [18/Mar/2021 22:49:57] \"\u001b[37mPOST /insert/bloqueslide HTTP/1.1\u001b[0m\" 200 -\n",
      "127.0.0.1 - - [18/Mar/2021 22:49:57] \"\u001b[37mPOST /insert/elementos HTTP/1.1\u001b[0m\" 200 -\n",
      "127.0.0.1 - - [18/Mar/2021 22:49:57] \"\u001b[37mPOST /insert/botones HTTP/1.1\u001b[0m\" 200 -\n"
     ]
    },
    {
     "name": "stdout",
     "output_type": "stream",
     "text": [
      "intenatando consulta...\n",
      "consulta: select * from bloqueslide where namestate= 'prueba_slide' and blocktype= 'slide' and typingtime= '3' and default_id= 'prueba_qa' and id_var= '1009' and id_robot= '423' ;\n",
      "Datos enviados:\n",
      "{'namestate': 'prueba_slide', 'next_id': None, 'blocktype': 'slide', 'typingtime': '3', 'default_id': 'prueba_qa', 'id_var': '1009', 'id_block': 207, 'id_robot': 423, 'opc_nextid': None, 'pos_y': None, 'pos_x': None, 'opc_elm': None, 'tag_active': None}\n",
      "Datos recibidos:\n",
      "{'title': 'Prueba titulo', 'image_url': 'https://st2.depositphotos.com/3008028/5540/i/600/depositphotos_55407975-stock-photo-royal-blue-background.jpg', 'subtitle': 'Esta es una prueba de carrusel.', 'blocktype': 'slide', 'id_block': 207}\n",
      "intenatando consulta...\n",
      "consulta: select * from elementos where title= 'Prueba titulo' and image_url= 'https://st2.depositphotos.com/3008028/5540/i/600/depositphotos_55407975-stock-photo-royal-blue-background.jpg' and subtitle= 'Esta es una prueba de carrusel.' and blocktype= 'slide' and id_block= '207' ;\n",
      "Datos enviados:\n",
      "{'blocktype': 'slide', 'title': 'Prueba titulo', 'image_url': 'https://st2.depositphotos.com/3008028/5540/i/600/depositphotos_55407975-stock-photo-royal-blue-background.jpg', 'subtitle': 'Esta es una prueba de carrusel.', 'id_block': 207, 'id_elements': 446}\n",
      "Datos recibidos:\n",
      "{'id_elemento': '446', 'titlebutton': 'Boton 1', 'typebutton': 'web_url', 'contentbutton': 'https://www.youtube.com/', 'opc_nextid': 'https://www.youtube.com/'}\n",
      "intenatando consulta...\n",
      "consulta: select * from botones where id_elemento= '446' and titlebutton= 'Boton 1' and typebutton= 'web_url' and contentbutton= 'https://www.youtube.com/' and opc_nextid= 'https://www.youtube.com/' ;\n",
      "Datos enviados:\n",
      "{'id_elemento': '446', 'titlebutton': 'Boton 1', 'typebutton': 'web_url', 'contentbutton': 'https://www.youtube.com/', 'id_boton': 704, 'opc_nextid': 'https://www.youtube.com/'}\n"
     ]
    },
    {
     "name": "stderr",
     "output_type": "stream",
     "text": [
      "127.0.0.1 - - [18/Mar/2021 22:49:57] \"\u001b[37mPOST /insert/botones HTTP/1.1\u001b[0m\" 200 -\n"
     ]
    },
    {
     "name": "stdout",
     "output_type": "stream",
     "text": [
      "Datos recibidos:\n",
      "{'id_elemento': '446', 'titlebutton': 'Boton 2', 'typebutton': 'web_url', 'contentbutton': 'https://www.reddit.com/', 'opc_nextid': 'https://www.reddit.com/'}\n",
      "intenatando consulta...\n",
      "consulta: select * from botones where id_elemento= '446' and titlebutton= 'Boton 2' and typebutton= 'web_url' and contentbutton= 'https://www.reddit.com/' and opc_nextid= 'https://www.reddit.com/' ;\n",
      "Datos enviados:\n",
      "{'id_elemento': '446', 'titlebutton': 'Boton 2', 'typebutton': 'web_url', 'contentbutton': 'https://www.reddit.com/', 'id_boton': 705, 'opc_nextid': 'https://www.reddit.com/'}\n"
     ]
    },
    {
     "name": "stderr",
     "output_type": "stream",
     "text": [
      "127.0.0.1 - - [18/Mar/2021 22:50:04] \"\u001b[37mGET /select/robots HTTP/1.1\u001b[0m\" 200 -\n",
      "127.0.0.1 - - [18/Mar/2021 22:50:04] \"\u001b[37mPOST /insert/robots HTTP/1.1\u001b[0m\" 200 -\n",
      "127.0.0.1 - - [18/Mar/2021 22:50:04] \"\u001b[37mPOST /insert/bloqueinformativo HTTP/1.1\u001b[0m\" 200 -\n"
     ]
    },
    {
     "name": "stdout",
     "output_type": "stream",
     "text": [
      "Datos recibidos:\n",
      "{'name_robot': 'charlybot', 'id_face': '111445520541316', 'block_ini': 'prueba_inicio', 'type_blocki': 'informativo', 'access_token': 'EAALZCCZBzPwfkBAAo7njAlW7s4DTj1ZCs5v1ung1MhEyMlJXOOtiG8r7JcBgXVPhZBHkJONyTB6jKG470UyqGPWn4aDPnisgtT2ZCZAwQIjQgZAZBufZBJXmHz6mPKSgdmP6ikDA87vocZBay2dfQdz1OYezmYbxwfILXUvXtjUMZAniQZDZD', 'id_user': 'charlygoldcruz@gmail.com', 'api_nlp': 'http://localhost:8282/'}\n",
      "intenatando consulta...\n",
      "consulta: select * from robots where id_face = '111445520541316';\n",
      "La consulta no trajo nada\n",
      "Datos enviados:\n",
      "{'error': 'true'}\n",
      "Datos recibidos:\n",
      "{'name_robot': 'charlybot', 'id_face': '111445520541316', 'block_ini': 'prueba_inicio', 'type_blocki': 'informativo', 'access_token': 'EAALZCCZBzPwfkBAAo7njAlW7s4DTj1ZCs5v1ung1MhEyMlJXOOtiG8r7JcBgXVPhZBHkJONyTB6jKG470UyqGPWn4aDPnisgtT2ZCZAwQIjQgZAZBufZBJXmHz6mPKSgdmP6ikDA87vocZBay2dfQdz1OYezmYbxwfILXUvXtjUMZAniQZDZD', 'id_user': 'charlygoldcruz@gmail.com', 'api_nlp': 'http://localhost:8282/'}\n",
      "intenatando consulta...\n",
      "consulta: select * from robots where id_face = '111445520541316';\n",
      "Datos enviados:\n",
      "{'name_robot': 'charlybot', 'id_face': '111445520541316', 'block_ini': 'prueba_inicio', 'type_blocki': 'informativo', 'access_token': 'EAALZCCZBzPwfkBAAo7njAlW7s4DTj1ZCs5v1ung1MhEyMlJXOOtiG8r7JcBgXVPhZBHkJONyTB6jKG470UyqGPWn4aDPnisgtT2ZCZAwQIjQgZAZBufZBJXmHz6mPKSgdmP6ikDA87vocZBay2dfQdz1OYezmYbxwfILXUvXtjUMZAniQZDZD', 'api_nlp': 'http://localhost:8282/', 'id_robot': 424, 'id_user': 'charlygoldcruz@gmail.com'}\n",
      "Datos recibidos:\n",
      "{'next_id': 'prueba_captura', 'namestate': 'prueba_inicio', 'contenido': 'Hola, soy un chatbot y esto es un mensaje de prueba y adios', 'contenttype': 'text', 'typingtime': 3, 'id_robot': 424, 'blocktype': 'informativo'}\n",
      "intenatando consulta...\n",
      "consulta: select * from bloqueinformativo where next_id= 'prueba_captura' and namestate= 'prueba_inicio' and contenido= 'Hola, soy un chatbot y esto es un mensaje de prueba y adios' and contenttype= 'text' and typingtime= '3' and id_robot= '424' and blocktype= 'informativo' ;\n",
      "Datos enviados:\n",
      "{'namestate': 'prueba_inicio', 'contenido': 'Hola, soy un chatbot y esto es un mensaje de prueba y adios', 'next_id': 'prueba_captura', 'blocktype': 'informativo', 'contenttype': 'text', 'typingtime': '3', 'id_block': 1276, 'id_robot': 424, 'opc_nextid': None, 'pos_y': None, 'pos_x': None, 'tag_active': None}\n",
      "Datos recibidos:\n",
      "{'name_var': 'email', 'opc_type': 'Variable', 'var': 0, 'opc_data': 'String', 'id_robot': 424}\n"
     ]
    },
    {
     "name": "stderr",
     "output_type": "stream",
     "text": [
      "127.0.0.1 - - [18/Mar/2021 22:50:04] \"\u001b[37mPOST /insert/variables HTTP/1.1\u001b[0m\" 200 -\n",
      "127.0.0.1 - - [18/Mar/2021 22:50:04] \"\u001b[37mPOST /insert/bloqueinput HTTP/1.1\u001b[0m\" 200 -\n",
      "127.0.0.1 - - [18/Mar/2021 22:50:04] \"\u001b[37mPOST /insert/bloqueinformativo HTTP/1.1\u001b[0m\" 200 -\n"
     ]
    },
    {
     "name": "stdout",
     "output_type": "stream",
     "text": [
      "intenatando consulta...\n",
      "consulta: select * from variables where name_var= 'email' and opc_type= 'Variable' and var= '0' and opc_data= 'String' and id_robot= '424' ;\n",
      "Datos enviados:\n",
      "{'id_var': 1010, 'opc_type': 'Variable', 'opc_data': 'String', 'var': '0', 'id_robot': 424, 'name_var': 'email'}\n",
      "Datos recibidos:\n",
      "{'next_id': 'pruebaCorreo_01inicial_inicial', 'default_id': 'prueba_captura', 'namestate': 'prueba_captura', 'contenido': 'introduce tu correo', 'contenttype': 'text', 'typingtime': 3, 'validacion': '^[a-z0-9]+[\\\\._]?[a-z0-9]+[@]\\\\w+[.]\\\\w{2,3}$', 'id_robot': 424, 'id_var': 1010, 'blocktype': 'input'}\n",
      "intenatando consulta...\n",
      "consulta: select * from bloqueinput where next_id= 'pruebaCorreo_01inicial_inicial' and default_id= 'prueba_captura' and namestate= 'prueba_captura' and contenido= 'introduce tu correo' and contenttype= 'text' and typingtime= '3' and validacion= '^[a-z0-9]+[\\._]?[a-z0-9]+[@]\\w+[.]\\w{2,3}$' and id_robot= '424' and id_var= '1010' and blocktype= 'input' ;\n",
      "Datos enviados:\n",
      "{'namestate': 'prueba_captura', 'contenido': 'introduce tu correo', 'next_id': 'pruebaCorreo_01inicial_inicial', 'blocktype': 'input', 'contenttype': 'text', 'typingtime': '3', 'validacion': '^[a-z0-9]+[\\\\._]?[a-z0-9]+[@]\\\\w+[.]\\\\w{2,3}$', 'default_id': 'prueba_captura', 'id_var': '1010', 'id_block': 158, 'id_robot': 424, 'opc_nextid': None, 'pos_y': None, 'pos_x': None, 'tag_active': None}\n",
      "Datos recibidos:\n",
      "{'next_id': 'pruebaCorreo_01inicial_inicial', 'namestate': 'prueba_qa', 'contenido': 'Vamos a ver si no truena', 'contenttype': 'text', 'typingtime': 7, 'id_robot': 424, 'blocktype': 'informativo'}\n",
      "intenatando consulta...\n",
      "consulta: select * from bloqueinformativo where next_id= 'pruebaCorreo_01inicial_inicial' and namestate= 'prueba_qa' and contenido= 'Vamos a ver si no truena' and contenttype= 'text' and typingtime= '7' and id_robot= '424' and blocktype= 'informativo' ;\n",
      "Datos enviados:\n",
      "{'namestate': 'prueba_qa', 'contenido': 'Vamos a ver si no truena', 'next_id': 'pruebaCorreo_01inicial_inicial', 'blocktype': 'informativo', 'contenttype': 'text', 'typingtime': '7', 'id_block': 1277, 'id_robot': 424, 'opc_nextid': None, 'pos_y': None, 'pos_x': None, 'tag_active': None}\n",
      "Datos recibidos:\n",
      "{'next_id': 'Salida', 'namestate': 'prueba_dos', 'contenido': 'Puedo hacer muchas cosas, entre ellas despedirme. Adios', 'contenttype': 'text', 'typingtime': 3, 'id_robot': 424, 'blocktype': 'informativo'}\n"
     ]
    },
    {
     "name": "stderr",
     "output_type": "stream",
     "text": [
      "127.0.0.1 - - [18/Mar/2021 22:50:04] \"\u001b[37mPOST /insert/bloqueinformativo HTTP/1.1\u001b[0m\" 200 -\n",
      "127.0.0.1 - - [18/Mar/2021 22:50:04] \"\u001b[37mPOST /insert/variables HTTP/1.1\u001b[0m\" 200 -\n",
      "127.0.0.1 - - [18/Mar/2021 22:50:04] \"\u001b[37mPOST /insert/bloquequickreply HTTP/1.1\u001b[0m\" 200 -\n"
     ]
    },
    {
     "name": "stdout",
     "output_type": "stream",
     "text": [
      "intenatando consulta...\n",
      "consulta: select * from bloqueinformativo where next_id= 'Salida' and namestate= 'prueba_dos' and contenido= 'Puedo hacer muchas cosas, entre ellas despedirme. Adios' and contenttype= 'text' and typingtime= '3' and id_robot= '424' and blocktype= 'informativo' ;\n",
      "Datos enviados:\n",
      "{'namestate': 'prueba_dos', 'contenido': 'Puedo hacer muchas cosas, entre ellas despedirme. Adios', 'next_id': 'Salida', 'blocktype': 'informativo', 'contenttype': 'text', 'typingtime': '3', 'id_block': 1278, 'id_robot': 424, 'opc_nextid': None, 'pos_y': None, 'pos_x': None, 'tag_active': None}\n",
      "Datos recibidos:\n",
      "{'name_var': 'var_case', 'opc_type': 'Variable', 'var': 0, 'opc_data': 'Numerico', 'id_robot': 424}\n",
      "intenatando consulta...\n",
      "consulta: select * from variables where name_var= 'var_case' and opc_type= 'Variable' and var= '0' and opc_data= 'Numerico' and id_robot= '424' ;\n",
      "Datos enviados:\n",
      "{'id_var': 1011, 'opc_type': 'Variable', 'opc_data': 'Numerico', 'var': '0', 'id_robot': 424, 'name_var': 'var_case'}\n",
      "Datos recibidos:\n",
      "{'contenido': '¿Cuál es tu correo?', 'opciones': 'email,otro', 'next_id': 'prueba_dos,prueba_slide', 'default_id': 'prueba_qa', 'namestate': 'pruebaCorreo_01inicial_inicial', 'typingtime': 3, 'id_robot': 424, 'id_var': 1011, 'blocktype': 'quickReply'}\n",
      "intenatando consulta...\n",
      "consulta: select * from bloquequickreply where contenido= '¿Cuál es tu correo?' and opciones= 'email,otro' and next_id= 'prueba_dos,prueba_slide' and default_id= 'prueba_qa' and namestate= 'pruebaCorreo_01inicial_inicial' and typingtime= '3' and id_robot= '424' and id_var= '1011' and blocktype= 'quickReply' ;\n",
      "Datos enviados:\n",
      "{'namestate': 'pruebaCorreo_01inicial_inicial', 'contenido': '¿Cuál es tu correo?', 'opciones': 'email,otro', 'next_id': 'prueba_dos,prueba_slide', 'blocktype': 'quickReply', 'typingtime': '3', 'default_id': 'prueba_qa', 'id_var': '1011', 'id_block': 446, 'id_robot': 424, 'opc_nextid': None, 'pos_y': None, 'pos_x': None, 'tag_active': None}\n",
      "Datos recibidos:\n",
      "{'name_var': 'var_slideMenu', 'opc_type': 'Variable', 'var': 0, 'opc_data': 'Numerico', 'id_robot': 424}\n"
     ]
    },
    {
     "name": "stderr",
     "output_type": "stream",
     "text": [
      "127.0.0.1 - - [18/Mar/2021 22:50:04] \"\u001b[37mPOST /insert/variables HTTP/1.1\u001b[0m\" 200 -\n",
      "127.0.0.1 - - [18/Mar/2021 22:50:05] \"\u001b[37mPOST /insert/bloqueslide HTTP/1.1\u001b[0m\" 200 -\n",
      "127.0.0.1 - - [18/Mar/2021 22:50:05] \"\u001b[37mPOST /insert/elementos HTTP/1.1\u001b[0m\" 200 -\n"
     ]
    },
    {
     "name": "stdout",
     "output_type": "stream",
     "text": [
      "intenatando consulta...\n",
      "consulta: select * from variables where name_var= 'var_slideMenu' and opc_type= 'Variable' and var= '0' and opc_data= 'Numerico' and id_robot= '424' ;\n",
      "Datos enviados:\n",
      "{'id_var': 1012, 'opc_type': 'Variable', 'opc_data': 'Numerico', 'var': '0', 'id_robot': 424, 'name_var': 'var_slideMenu'}\n",
      "Datos recibidos:\n",
      "{'namestate': 'prueba_slide', 'blocktype': 'slide', 'typingtime': 3, 'default_id': 'prueba_qa', 'id_var': 1012, 'id_robot': 424}\n",
      "intenatando consulta...\n",
      "consulta: select * from bloqueslide where namestate= 'prueba_slide' and blocktype= 'slide' and typingtime= '3' and default_id= 'prueba_qa' and id_var= '1012' and id_robot= '424' ;\n",
      "Datos enviados:\n",
      "{'namestate': 'prueba_slide', 'next_id': None, 'blocktype': 'slide', 'typingtime': '3', 'default_id': 'prueba_qa', 'id_var': '1012', 'id_block': 208, 'id_robot': 424, 'opc_nextid': None, 'pos_y': None, 'pos_x': None, 'opc_elm': None, 'tag_active': None}\n",
      "Datos recibidos:\n",
      "{'title': 'Prueba titulo', 'image_url': 'https://infosertecblog.files.wordpress.com/2016/08/bot-de-telegram.jpg', 'subtitle': 'Esta es una prueba de carrusel.', 'blocktype': 'slide', 'id_block': 208}\n",
      "intenatando consulta...\n",
      "consulta: select * from elementos where title= 'Prueba titulo' and image_url= 'https://infosertecblog.files.wordpress.com/2016/08/bot-de-telegram.jpg' and subtitle= 'Esta es una prueba de carrusel.' and blocktype= 'slide' and id_block= '208' ;\n",
      "Datos enviados:\n",
      "{'blocktype': 'slide', 'title': 'Prueba titulo', 'image_url': 'https://infosertecblog.files.wordpress.com/2016/08/bot-de-telegram.jpg', 'subtitle': 'Esta es una prueba de carrusel.', 'id_block': 208, 'id_elements': 447}\n",
      "Datos recibidos:\n",
      "{'id_elemento': '447', 'titlebutton': 'Boton 1', 'typebutton': 'web_url', 'contentbutton': 'https://www.youtube.com/', 'opc_nextid': 'https://www.youtube.com/'}\n"
     ]
    },
    {
     "name": "stderr",
     "output_type": "stream",
     "text": [
      "127.0.0.1 - - [18/Mar/2021 22:50:05] \"\u001b[37mPOST /insert/botones HTTP/1.1\u001b[0m\" 200 -\n",
      "127.0.0.1 - - [18/Mar/2021 22:50:05] \"\u001b[37mPOST /insert/botones HTTP/1.1\u001b[0m\" 200 -\n"
     ]
    },
    {
     "name": "stdout",
     "output_type": "stream",
     "text": [
      "intenatando consulta...\n",
      "consulta: select * from botones where id_elemento= '447' and titlebutton= 'Boton 1' and typebutton= 'web_url' and contentbutton= 'https://www.youtube.com/' and opc_nextid= 'https://www.youtube.com/' ;\n",
      "Datos enviados:\n",
      "{'id_elemento': '447', 'titlebutton': 'Boton 1', 'typebutton': 'web_url', 'contentbutton': 'https://www.youtube.com/', 'id_boton': 706, 'opc_nextid': 'https://www.youtube.com/'}\n",
      "Datos recibidos:\n",
      "{'id_elemento': '447', 'titlebutton': 'Boton 2', 'typebutton': 'web_url', 'contentbutton': 'https://www.reddit.com/', 'opc_nextid': 'https://www.reddit.com/'}\n",
      "intenatando consulta...\n",
      "consulta: select * from botones where id_elemento= '447' and titlebutton= 'Boton 2' and typebutton= 'web_url' and contentbutton= 'https://www.reddit.com/' and opc_nextid= 'https://www.reddit.com/' ;\n",
      "Datos enviados:\n",
      "{'id_elemento': '447', 'titlebutton': 'Boton 2', 'typebutton': 'web_url', 'contentbutton': 'https://www.reddit.com/', 'id_boton': 707, 'opc_nextid': 'https://www.reddit.com/'}\n"
     ]
    },
    {
     "name": "stderr",
     "output_type": "stream",
     "text": [
      "127.0.0.1 - - [18/Mar/2021 22:56:17] \"\u001b[37mGET /select/robots HTTP/1.1\u001b[0m\" 200 -\n",
      "127.0.0.1 - - [18/Mar/2021 22:56:17] \"\u001b[37mPOST /insert/robots HTTP/1.1\u001b[0m\" 200 -\n",
      "127.0.0.1 - - [18/Mar/2021 22:56:17] \"\u001b[37mPOST /insert/bloqueinformativo HTTP/1.1\u001b[0m\" 200 -\n"
     ]
    },
    {
     "name": "stdout",
     "output_type": "stream",
     "text": [
      "Datos recibidos:\n",
      "{'name_robot': 'oliverBot', 'id_face': '2153123008120093', 'block_ini': 'prueba_inicio', 'type_blocki': 'quickreply', 'access_token': 'EAAHNkscg2TcBAMvebksfOxuFBpMeR5sUhzHTKtqdi6NkqQKZAdkeaGVJ9Yc5bNbvL3JLzCgB7EEqsVUTZADhidVcC3zJV1UZB4Uz0Hm3fZB9IETnWb4I8MoK8nxpenC1lYwnjwnRwMHVZA1FKw8d3A45t9xCxmPKnm6kIr5ZCA8wZDZD', 'id_user': 'oliverbp88@gmail.com', 'api_nlp': 'http://localhost:8282/'}\n",
      "intenatando consulta...\n",
      "consulta: select * from robots where id_face = '2153123008120093';\n",
      "La consulta no trajo nada\n",
      "Datos enviados:\n",
      "{'error': 'true'}\n",
      "Datos recibidos:\n",
      "{'name_robot': 'oliverBot', 'id_face': '2153123008120093', 'block_ini': 'prueba_inicio', 'type_blocki': 'quickreply', 'access_token': 'EAAHNkscg2TcBAMvebksfOxuFBpMeR5sUhzHTKtqdi6NkqQKZAdkeaGVJ9Yc5bNbvL3JLzCgB7EEqsVUTZADhidVcC3zJV1UZB4Uz0Hm3fZB9IETnWb4I8MoK8nxpenC1lYwnjwnRwMHVZA1FKw8d3A45t9xCxmPKnm6kIr5ZCA8wZDZD', 'id_user': 'oliverbp88@gmail.com', 'api_nlp': 'http://localhost:8282/'}\n",
      "intenatando consulta...\n",
      "consulta: select * from robots where id_face = '2153123008120093';\n",
      "Datos enviados:\n",
      "{'name_robot': 'oliverBot', 'id_face': '2153123008120093', 'block_ini': 'prueba_inicio', 'type_blocki': 'quickreply', 'access_token': 'EAAHNkscg2TcBAMvebksfOxuFBpMeR5sUhzHTKtqdi6NkqQKZAdkeaGVJ9Yc5bNbvL3JLzCgB7EEqsVUTZADhidVcC3zJV1UZB4Uz0Hm3fZB9IETnWb4I8MoK8nxpenC1lYwnjwnRwMHVZA1FKw8d3A45t9xCxmPKnm6kIr5ZCA8wZDZD', 'api_nlp': 'http://localhost:8282/', 'id_robot': 425, 'id_user': 'oliverbp88@gmail.com'}\n",
      "Datos recibidos:\n",
      "{'next_id': 'pruebaCorreo_01inicial_inicial', 'namestate': 'prueba_inicio', 'contenido': 'Hola, soy un robot!', 'contenttype': 'text', 'typingtime': 3, 'id_robot': 425, 'blocktype': 'informativo'}\n",
      "intenatando consulta...\n",
      "consulta: select * from bloqueinformativo where next_id= 'pruebaCorreo_01inicial_inicial' and namestate= 'prueba_inicio' and contenido= 'Hola, soy un robot!' and contenttype= 'text' and typingtime= '3' and id_robot= '425' and blocktype= 'informativo' ;\n",
      "Datos enviados:\n",
      "{'namestate': 'prueba_inicio', 'contenido': 'Hola, soy un robot!', 'next_id': 'pruebaCorreo_01inicial_inicial', 'blocktype': 'informativo', 'contenttype': 'text', 'typingtime': '3', 'id_block': 1279, 'id_robot': 425, 'opc_nextid': None, 'pos_y': None, 'pos_x': None, 'tag_active': None}\n",
      "Datos recibidos:\n",
      "{'next_id': 'pruebaCorreo_01inicial_inicial', 'namestate': 'prueba_qa', 'contenido': 'Vamos a ver si no truena', 'contenttype': 'text', 'typingtime': 7, 'id_robot': 425, 'blocktype': 'informativo'}\n"
     ]
    },
    {
     "name": "stderr",
     "output_type": "stream",
     "text": [
      "127.0.0.1 - - [18/Mar/2021 22:56:17] \"\u001b[37mPOST /insert/bloqueinformativo HTTP/1.1\u001b[0m\" 200 -\n",
      "127.0.0.1 - - [18/Mar/2021 22:56:17] \"\u001b[37mPOST /insert/bloqueinformativo HTTP/1.1\u001b[0m\" 200 -\n"
     ]
    },
    {
     "name": "stdout",
     "output_type": "stream",
     "text": [
      "intenatando consulta...\n",
      "consulta: select * from bloqueinformativo where next_id= 'pruebaCorreo_01inicial_inicial' and namestate= 'prueba_qa' and contenido= 'Vamos a ver si no truena' and contenttype= 'text' and typingtime= '7' and id_robot= '425' and blocktype= 'informativo' ;\n",
      "Datos enviados:\n",
      "{'namestate': 'prueba_qa', 'contenido': 'Vamos a ver si no truena', 'next_id': 'pruebaCorreo_01inicial_inicial', 'blocktype': 'informativo', 'contenttype': 'text', 'typingtime': '7', 'id_block': 1280, 'id_robot': 425, 'opc_nextid': None, 'pos_y': None, 'pos_x': None, 'tag_active': None}\n",
      "Datos recibidos:\n",
      "{'next_id': 'Salida', 'namestate': 'prueba_dos', 'contenido': 'Puedo hacer muchas cosas, entre ellas despedirme. Adios', 'contenttype': 'text', 'typingtime': 3, 'id_robot': 425, 'blocktype': 'informativo'}\n",
      "intenatando consulta...\n",
      "consulta: select * from bloqueinformativo where next_id= 'Salida' and namestate= 'prueba_dos' and contenido= 'Puedo hacer muchas cosas, entre ellas despedirme. Adios' and contenttype= 'text' and typingtime= '3' and id_robot= '425' and blocktype= 'informativo' ;\n",
      "Datos enviados:\n",
      "{'namestate': 'prueba_dos', 'contenido': 'Puedo hacer muchas cosas, entre ellas despedirme. Adios', 'next_id': 'Salida', 'blocktype': 'informativo', 'contenttype': 'text', 'typingtime': '3', 'id_block': 1281, 'id_robot': 425, 'opc_nextid': None, 'pos_y': None, 'pos_x': None, 'tag_active': None}\n",
      "Datos recibidos:\n",
      "{'name_var': 'var_case', 'opc_type': 'Variable', 'var': 0, 'opc_data': 'Numerico', 'id_robot': 425}\n",
      "intenatando consulta...\n",
      "consulta: select * from variables where name_var= 'var_case' and opc_type= 'Variable' and var= '0' and opc_data= 'Numerico' and id_robot= '425' ;\n"
     ]
    },
    {
     "name": "stderr",
     "output_type": "stream",
     "text": [
      "127.0.0.1 - - [18/Mar/2021 22:56:18] \"\u001b[37mPOST /insert/variables HTTP/1.1\u001b[0m\" 200 -\n",
      "127.0.0.1 - - [18/Mar/2021 22:56:18] \"\u001b[37mPOST /insert/bloquequickreply HTTP/1.1\u001b[0m\" 200 -\n",
      "127.0.0.1 - - [18/Mar/2021 22:56:18] \"\u001b[37mPOST /insert/variables HTTP/1.1\u001b[0m\" 200 -\n"
     ]
    },
    {
     "name": "stdout",
     "output_type": "stream",
     "text": [
      "Datos enviados:\n",
      "{'id_var': 1013, 'opc_type': 'Variable', 'opc_data': 'Numerico', 'var': '0', 'id_robot': 425, 'name_var': 'var_case'}\n",
      "Datos recibidos:\n",
      "{'contenido': '¿Cuál es tu correo?', 'opciones': 'email,otro', 'next_id': 'prueba_dos,prueba_slide', 'default_id': 'prueba_qa', 'namestate': 'pruebaCorreo_01inicial_inicial', 'typingtime': 3, 'id_robot': 425, 'id_var': 1013, 'blocktype': 'quickReply'}\n",
      "intenatando consulta...\n",
      "consulta: select * from bloquequickreply where contenido= '¿Cuál es tu correo?' and opciones= 'email,otro' and next_id= 'prueba_dos,prueba_slide' and default_id= 'prueba_qa' and namestate= 'pruebaCorreo_01inicial_inicial' and typingtime= '3' and id_robot= '425' and id_var= '1013' and blocktype= 'quickReply' ;\n",
      "Datos enviados:\n",
      "{'namestate': 'pruebaCorreo_01inicial_inicial', 'contenido': '¿Cuál es tu correo?', 'opciones': 'email,otro', 'next_id': 'prueba_dos,prueba_slide', 'blocktype': 'quickReply', 'typingtime': '3', 'default_id': 'prueba_qa', 'id_var': '1013', 'id_block': 447, 'id_robot': 425, 'opc_nextid': None, 'pos_y': None, 'pos_x': None, 'tag_active': None}\n",
      "Datos recibidos:\n",
      "{'name_var': 'var_slideMenu', 'opc_type': 'Variable', 'var': 0, 'opc_data': 'Numerico', 'id_robot': 425}\n",
      "intenatando consulta...\n",
      "consulta: select * from variables where name_var= 'var_slideMenu' and opc_type= 'Variable' and var= '0' and opc_data= 'Numerico' and id_robot= '425' ;\n",
      "Datos enviados:\n",
      "{'id_var': 1014, 'opc_type': 'Variable', 'opc_data': 'Numerico', 'var': '0', 'id_robot': 425, 'name_var': 'var_slideMenu'}\n",
      "Datos recibidos:\n",
      "{'namestate': 'prueba_slide', 'blocktype': 'slide', 'typingtime': 3, 'default_id': 'prueba_qa', 'id_var': 1014, 'id_robot': 425}\n"
     ]
    },
    {
     "name": "stderr",
     "output_type": "stream",
     "text": [
      "127.0.0.1 - - [18/Mar/2021 22:56:18] \"\u001b[37mPOST /insert/bloqueslide HTTP/1.1\u001b[0m\" 200 -\n",
      "127.0.0.1 - - [18/Mar/2021 22:56:18] \"\u001b[37mPOST /insert/elementos HTTP/1.1\u001b[0m\" 200 -\n",
      "127.0.0.1 - - [18/Mar/2021 22:56:18] \"\u001b[37mPOST /insert/botones HTTP/1.1\u001b[0m\" 200 -\n"
     ]
    },
    {
     "name": "stdout",
     "output_type": "stream",
     "text": [
      "intenatando consulta...\n",
      "consulta: select * from bloqueslide where namestate= 'prueba_slide' and blocktype= 'slide' and typingtime= '3' and default_id= 'prueba_qa' and id_var= '1014' and id_robot= '425' ;\n",
      "Datos enviados:\n",
      "{'namestate': 'prueba_slide', 'next_id': None, 'blocktype': 'slide', 'typingtime': '3', 'default_id': 'prueba_qa', 'id_var': '1014', 'id_block': 209, 'id_robot': 425, 'opc_nextid': None, 'pos_y': None, 'pos_x': None, 'opc_elm': None, 'tag_active': None}\n",
      "Datos recibidos:\n",
      "{'title': 'Prueba titulo', 'image_url': 'https://st2.depositphotos.com/3008028/5540/i/600/depositphotos_55407975-stock-photo-royal-blue-background.jpg', 'subtitle': 'Esta es una prueba de carrusel.', 'blocktype': 'slide', 'id_block': 209}\n",
      "intenatando consulta...\n",
      "consulta: select * from elementos where title= 'Prueba titulo' and image_url= 'https://st2.depositphotos.com/3008028/5540/i/600/depositphotos_55407975-stock-photo-royal-blue-background.jpg' and subtitle= 'Esta es una prueba de carrusel.' and blocktype= 'slide' and id_block= '209' ;\n",
      "Datos enviados:\n",
      "{'blocktype': 'slide', 'title': 'Prueba titulo', 'image_url': 'https://st2.depositphotos.com/3008028/5540/i/600/depositphotos_55407975-stock-photo-royal-blue-background.jpg', 'subtitle': 'Esta es una prueba de carrusel.', 'id_block': 209, 'id_elements': 448}\n",
      "Datos recibidos:\n",
      "{'id_elemento': '448', 'titlebutton': 'Boton 1', 'typebutton': 'web_url', 'contentbutton': 'https://www.youtube.com/', 'opc_nextid': 'https://www.youtube.com/'}\n",
      "intenatando consulta...\n",
      "consulta: select * from botones where id_elemento= '448' and titlebutton= 'Boton 1' and typebutton= 'web_url' and contentbutton= 'https://www.youtube.com/' and opc_nextid= 'https://www.youtube.com/' ;\n",
      "Datos enviados:\n",
      "{'id_elemento': '448', 'titlebutton': 'Boton 1', 'typebutton': 'web_url', 'contentbutton': 'https://www.youtube.com/', 'id_boton': 708, 'opc_nextid': 'https://www.youtube.com/'}\n",
      "Datos recibidos:\n",
      "{'id_elemento': '448', 'titlebutton': 'Boton 2', 'typebutton': 'web_url', 'contentbutton': 'https://www.reddit.com/', 'opc_nextid': 'https://www.reddit.com/'}\n"
     ]
    },
    {
     "name": "stderr",
     "output_type": "stream",
     "text": [
      "127.0.0.1 - - [18/Mar/2021 22:56:18] \"\u001b[37mPOST /insert/botones HTTP/1.1\u001b[0m\" 200 -\n"
     ]
    },
    {
     "name": "stdout",
     "output_type": "stream",
     "text": [
      "intenatando consulta...\n",
      "consulta: select * from botones where id_elemento= '448' and titlebutton= 'Boton 2' and typebutton= 'web_url' and contentbutton= 'https://www.reddit.com/' and opc_nextid= 'https://www.reddit.com/' ;\n",
      "Datos enviados:\n",
      "{'id_elemento': '448', 'titlebutton': 'Boton 2', 'typebutton': 'web_url', 'contentbutton': 'https://www.reddit.com/', 'id_boton': 709, 'opc_nextid': 'https://www.reddit.com/'}\n"
     ]
    },
    {
     "name": "stderr",
     "output_type": "stream",
     "text": [
      "127.0.0.1 - - [18/Mar/2021 22:57:35] \"\u001b[37mGET /select/robots HTTP/1.1\u001b[0m\" 200 -\n",
      "127.0.0.1 - - [18/Mar/2021 22:57:35] \"\u001b[37mPOST /insert/robots HTTP/1.1\u001b[0m\" 200 -\n",
      "127.0.0.1 - - [18/Mar/2021 22:57:35] \"\u001b[37mPOST /insert/bloqueinformativo HTTP/1.1\u001b[0m\" 200 -\n"
     ]
    },
    {
     "name": "stdout",
     "output_type": "stream",
     "text": [
      "Datos recibidos:\n",
      "{'name_robot': 'charlybot', 'id_face': '111445520541316', 'block_ini': 'prueba_inicio', 'type_blocki': 'informativo', 'access_token': 'EAALZCCZBzPwfkBAAo7njAlW7s4DTj1ZCs5v1ung1MhEyMlJXOOtiG8r7JcBgXVPhZBHkJONyTB6jKG470UyqGPWn4aDPnisgtT2ZCZAwQIjQgZAZBufZBJXmHz6mPKSgdmP6ikDA87vocZBay2dfQdz1OYezmYbxwfILXUvXtjUMZAniQZDZD', 'id_user': 'charlygoldcruz@gmail.com', 'api_nlp': 'http://localhost:8282/'}\n",
      "intenatando consulta...\n",
      "consulta: select * from robots where id_face = '111445520541316';\n",
      "La consulta no trajo nada\n",
      "Datos enviados:\n",
      "{'error': 'true'}\n",
      "Datos recibidos:\n",
      "{'name_robot': 'charlybot', 'id_face': '111445520541316', 'block_ini': 'prueba_inicio', 'type_blocki': 'informativo', 'access_token': 'EAALZCCZBzPwfkBAAo7njAlW7s4DTj1ZCs5v1ung1MhEyMlJXOOtiG8r7JcBgXVPhZBHkJONyTB6jKG470UyqGPWn4aDPnisgtT2ZCZAwQIjQgZAZBufZBJXmHz6mPKSgdmP6ikDA87vocZBay2dfQdz1OYezmYbxwfILXUvXtjUMZAniQZDZD', 'id_user': 'charlygoldcruz@gmail.com', 'api_nlp': 'http://localhost:8282/'}\n",
      "intenatando consulta...\n",
      "consulta: select * from robots where id_face = '111445520541316';\n",
      "Datos enviados:\n",
      "{'name_robot': 'charlybot', 'id_face': '111445520541316', 'block_ini': 'prueba_inicio', 'type_blocki': 'informativo', 'access_token': 'EAALZCCZBzPwfkBAAo7njAlW7s4DTj1ZCs5v1ung1MhEyMlJXOOtiG8r7JcBgXVPhZBHkJONyTB6jKG470UyqGPWn4aDPnisgtT2ZCZAwQIjQgZAZBufZBJXmHz6mPKSgdmP6ikDA87vocZBay2dfQdz1OYezmYbxwfILXUvXtjUMZAniQZDZD', 'api_nlp': 'http://localhost:8282/', 'id_robot': 426, 'id_user': 'charlygoldcruz@gmail.com'}\n",
      "Datos recibidos:\n",
      "{'next_id': 'prueba_captura', 'namestate': 'prueba_inicio', 'contenido': 'Hola, soy un chatbot y esto es un mensaje de prueba y adios', 'contenttype': 'text', 'typingtime': 3, 'id_robot': 426, 'blocktype': 'informativo'}\n",
      "intenatando consulta...\n",
      "consulta: select * from bloqueinformativo where next_id= 'prueba_captura' and namestate= 'prueba_inicio' and contenido= 'Hola, soy un chatbot y esto es un mensaje de prueba y adios' and contenttype= 'text' and typingtime= '3' and id_robot= '426' and blocktype= 'informativo' ;\n",
      "Datos enviados:\n",
      "{'namestate': 'prueba_inicio', 'contenido': 'Hola, soy un chatbot y esto es un mensaje de prueba y adios', 'next_id': 'prueba_captura', 'blocktype': 'informativo', 'contenttype': 'text', 'typingtime': '3', 'id_block': 1282, 'id_robot': 426, 'opc_nextid': None, 'pos_y': None, 'pos_x': None, 'tag_active': None}\n",
      "Datos recibidos:\n",
      "{'name_var': 'email', 'opc_type': 'Variable', 'var': 0, 'opc_data': 'String', 'id_robot': 426}\n"
     ]
    },
    {
     "name": "stderr",
     "output_type": "stream",
     "text": [
      "127.0.0.1 - - [18/Mar/2021 22:57:35] \"\u001b[37mPOST /insert/variables HTTP/1.1\u001b[0m\" 200 -\n",
      "127.0.0.1 - - [18/Mar/2021 22:57:35] \"\u001b[37mPOST /insert/bloqueinput HTTP/1.1\u001b[0m\" 200 -\n",
      "127.0.0.1 - - [18/Mar/2021 22:57:35] \"\u001b[37mPOST /insert/bloqueinformativo HTTP/1.1\u001b[0m\" 200 -\n"
     ]
    },
    {
     "name": "stdout",
     "output_type": "stream",
     "text": [
      "intenatando consulta...\n",
      "consulta: select * from variables where name_var= 'email' and opc_type= 'Variable' and var= '0' and opc_data= 'String' and id_robot= '426' ;\n",
      "Datos enviados:\n",
      "{'id_var': 1015, 'opc_type': 'Variable', 'opc_data': 'String', 'var': '0', 'id_robot': 426, 'name_var': 'email'}\n",
      "Datos recibidos:\n",
      "{'next_id': 'pruebaCorreo_01inicial_inicial', 'default_id': 'prueba_captura', 'namestate': 'prueba_captura', 'contenido': 'introduce tu correo', 'contenttype': 'text', 'typingtime': 3, 'validacion': '^[a-z0-9]+[\\\\._]?[a-z0-9]+[@]\\\\w+[.]\\\\w{2,3}$', 'id_robot': 426, 'id_var': 1015, 'blocktype': 'input'}\n",
      "intenatando consulta...\n",
      "consulta: select * from bloqueinput where next_id= 'pruebaCorreo_01inicial_inicial' and default_id= 'prueba_captura' and namestate= 'prueba_captura' and contenido= 'introduce tu correo' and contenttype= 'text' and typingtime= '3' and validacion= '^[a-z0-9]+[\\._]?[a-z0-9]+[@]\\w+[.]\\w{2,3}$' and id_robot= '426' and id_var= '1015' and blocktype= 'input' ;\n",
      "Datos enviados:\n",
      "{'namestate': 'prueba_captura', 'contenido': 'introduce tu correo', 'next_id': 'pruebaCorreo_01inicial_inicial', 'blocktype': 'input', 'contenttype': 'text', 'typingtime': '3', 'validacion': '^[a-z0-9]+[\\\\._]?[a-z0-9]+[@]\\\\w+[.]\\\\w{2,3}$', 'default_id': 'prueba_captura', 'id_var': '1015', 'id_block': 159, 'id_robot': 426, 'opc_nextid': None, 'pos_y': None, 'pos_x': None, 'tag_active': None}\n",
      "Datos recibidos:\n",
      "{'next_id': 'pruebaCorreo_01inicial_inicial', 'namestate': 'prueba_qa', 'contenido': 'Vamos a ver si no truena', 'contenttype': 'text', 'typingtime': 7, 'id_robot': 426, 'blocktype': 'informativo'}\n",
      "intenatando consulta...\n",
      "consulta: select * from bloqueinformativo where next_id= 'pruebaCorreo_01inicial_inicial' and namestate= 'prueba_qa' and contenido= 'Vamos a ver si no truena' and contenttype= 'text' and typingtime= '7' and id_robot= '426' and blocktype= 'informativo' ;\n",
      "Datos enviados:\n",
      "{'namestate': 'prueba_qa', 'contenido': 'Vamos a ver si no truena', 'next_id': 'pruebaCorreo_01inicial_inicial', 'blocktype': 'informativo', 'contenttype': 'text', 'typingtime': '7', 'id_block': 1283, 'id_robot': 426, 'opc_nextid': None, 'pos_y': None, 'pos_x': None, 'tag_active': None}\n",
      "Datos recibidos:\n",
      "{'next_id': 'Salida', 'namestate': 'prueba_dos', 'contenido': 'Puedo hacer muchas cosas, entre ellas despedirme. Adios', 'contenttype': 'text', 'typingtime': 3, 'id_robot': 426, 'blocktype': 'informativo'}\n"
     ]
    },
    {
     "name": "stderr",
     "output_type": "stream",
     "text": [
      "127.0.0.1 - - [18/Mar/2021 22:57:35] \"\u001b[37mPOST /insert/bloqueinformativo HTTP/1.1\u001b[0m\" 200 -\n",
      "127.0.0.1 - - [18/Mar/2021 22:57:35] \"\u001b[37mPOST /insert/variables HTTP/1.1\u001b[0m\" 200 -\n",
      "127.0.0.1 - - [18/Mar/2021 22:57:35] \"\u001b[37mPOST /insert/bloquequickreply HTTP/1.1\u001b[0m\" 200 -\n"
     ]
    },
    {
     "name": "stdout",
     "output_type": "stream",
     "text": [
      "intenatando consulta...\n",
      "consulta: select * from bloqueinformativo where next_id= 'Salida' and namestate= 'prueba_dos' and contenido= 'Puedo hacer muchas cosas, entre ellas despedirme. Adios' and contenttype= 'text' and typingtime= '3' and id_robot= '426' and blocktype= 'informativo' ;\n",
      "Datos enviados:\n",
      "{'namestate': 'prueba_dos', 'contenido': 'Puedo hacer muchas cosas, entre ellas despedirme. Adios', 'next_id': 'Salida', 'blocktype': 'informativo', 'contenttype': 'text', 'typingtime': '3', 'id_block': 1284, 'id_robot': 426, 'opc_nextid': None, 'pos_y': None, 'pos_x': None, 'tag_active': None}\n",
      "Datos recibidos:\n",
      "{'name_var': 'var_case', 'opc_type': 'Variable', 'var': 0, 'opc_data': 'Numerico', 'id_robot': 426}\n",
      "intenatando consulta...\n",
      "consulta: select * from variables where name_var= 'var_case' and opc_type= 'Variable' and var= '0' and opc_data= 'Numerico' and id_robot= '426' ;\n",
      "Datos enviados:\n",
      "{'id_var': 1016, 'opc_type': 'Variable', 'opc_data': 'Numerico', 'var': '0', 'id_robot': 426, 'name_var': 'var_case'}\n",
      "Datos recibidos:\n",
      "{'contenido': '¿Cuál es tu correo?', 'opciones': 'email,otro', 'next_id': 'prueba_dos,prueba_slide', 'default_id': 'prueba_qa', 'namestate': 'pruebaCorreo_01inicial_inicial', 'typingtime': 3, 'id_robot': 426, 'id_var': 1016, 'blocktype': 'quickReply'}\n",
      "intenatando consulta...\n",
      "consulta: select * from bloquequickreply where contenido= '¿Cuál es tu correo?' and opciones= 'email,otro' and next_id= 'prueba_dos,prueba_slide' and default_id= 'prueba_qa' and namestate= 'pruebaCorreo_01inicial_inicial' and typingtime= '3' and id_robot= '426' and id_var= '1016' and blocktype= 'quickReply' ;\n",
      "Datos enviados:\n",
      "{'namestate': 'pruebaCorreo_01inicial_inicial', 'contenido': '¿Cuál es tu correo?', 'opciones': 'email,otro', 'next_id': 'prueba_dos,prueba_slide', 'blocktype': 'quickReply', 'typingtime': '3', 'default_id': 'prueba_qa', 'id_var': '1016', 'id_block': 448, 'id_robot': 426, 'opc_nextid': None, 'pos_y': None, 'pos_x': None, 'tag_active': None}\n"
     ]
    },
    {
     "name": "stderr",
     "output_type": "stream",
     "text": [
      "127.0.0.1 - - [18/Mar/2021 22:57:35] \"\u001b[37mPOST /insert/variables HTTP/1.1\u001b[0m\" 200 -\n",
      "127.0.0.1 - - [18/Mar/2021 22:57:35] \"\u001b[37mPOST /insert/bloqueslide HTTP/1.1\u001b[0m\" 200 -\n"
     ]
    },
    {
     "name": "stdout",
     "output_type": "stream",
     "text": [
      "Datos recibidos:\n",
      "{'name_var': 'var_slideMenu', 'opc_type': 'Variable', 'var': 0, 'opc_data': 'Numerico', 'id_robot': 426}\n",
      "intenatando consulta...\n",
      "consulta: select * from variables where name_var= 'var_slideMenu' and opc_type= 'Variable' and var= '0' and opc_data= 'Numerico' and id_robot= '426' ;\n",
      "Datos enviados:\n",
      "{'id_var': 1017, 'opc_type': 'Variable', 'opc_data': 'Numerico', 'var': '0', 'id_robot': 426, 'name_var': 'var_slideMenu'}\n",
      "Datos recibidos:\n",
      "{'namestate': 'prueba_slide', 'blocktype': 'slide', 'typingtime': 3, 'default_id': 'prueba_qa', 'id_var': 1017, 'id_robot': 426}\n",
      "intenatando consulta...\n",
      "consulta: select * from bloqueslide where namestate= 'prueba_slide' and blocktype= 'slide' and typingtime= '3' and default_id= 'prueba_qa' and id_var= '1017' and id_robot= '426' ;\n",
      "Datos enviados:\n",
      "{'namestate': 'prueba_slide', 'next_id': None, 'blocktype': 'slide', 'typingtime': '3', 'default_id': 'prueba_qa', 'id_var': '1017', 'id_block': 210, 'id_robot': 426, 'opc_nextid': None, 'pos_y': None, 'pos_x': None, 'opc_elm': None, 'tag_active': None}\n",
      "Datos recibidos:\n",
      "{'title': 'Prueba titulo', 'image_url': 'https://infosertecblog.files.wordpress.com/2016/08/bot-de-telegram.jpg', 'subtitle': 'Esta es una prueba de carrusel.', 'blocktype': 'slide', 'id_block': 210}\n",
      "intenatando consulta...\n",
      "consulta: select * from elementos where title= 'Prueba titulo' and image_url= 'https://infosertecblog.files.wordpress.com/2016/08/bot-de-telegram.jpg' and subtitle= 'Esta es una prueba de carrusel.' and blocktype= 'slide' and id_block= '210' ;\n"
     ]
    },
    {
     "name": "stderr",
     "output_type": "stream",
     "text": [
      "127.0.0.1 - - [18/Mar/2021 22:57:35] \"\u001b[37mPOST /insert/elementos HTTP/1.1\u001b[0m\" 200 -\n",
      "127.0.0.1 - - [18/Mar/2021 22:57:36] \"\u001b[37mPOST /insert/botones HTTP/1.1\u001b[0m\" 200 -\n",
      "127.0.0.1 - - [18/Mar/2021 22:57:36] \"\u001b[37mPOST /insert/botones HTTP/1.1\u001b[0m\" 200 -\n"
     ]
    },
    {
     "name": "stdout",
     "output_type": "stream",
     "text": [
      "Datos enviados:\n",
      "{'blocktype': 'slide', 'title': 'Prueba titulo', 'image_url': 'https://infosertecblog.files.wordpress.com/2016/08/bot-de-telegram.jpg', 'subtitle': 'Esta es una prueba de carrusel.', 'id_block': 210, 'id_elements': 449}\n",
      "Datos recibidos:\n",
      "{'id_elemento': '449', 'titlebutton': 'Boton 1', 'typebutton': 'web_url', 'contentbutton': 'https://www.youtube.com/', 'opc_nextid': 'https://www.youtube.com/'}\n",
      "intenatando consulta...\n",
      "consulta: select * from botones where id_elemento= '449' and titlebutton= 'Boton 1' and typebutton= 'web_url' and contentbutton= 'https://www.youtube.com/' and opc_nextid= 'https://www.youtube.com/' ;\n",
      "Datos enviados:\n",
      "{'id_elemento': '449', 'titlebutton': 'Boton 1', 'typebutton': 'web_url', 'contentbutton': 'https://www.youtube.com/', 'id_boton': 710, 'opc_nextid': 'https://www.youtube.com/'}\n",
      "Datos recibidos:\n",
      "{'id_elemento': '449', 'titlebutton': 'Boton 2', 'typebutton': 'web_url', 'contentbutton': 'https://www.reddit.com/', 'opc_nextid': 'https://www.reddit.com/'}\n",
      "intenatando consulta...\n",
      "consulta: select * from botones where id_elemento= '449' and titlebutton= 'Boton 2' and typebutton= 'web_url' and contentbutton= 'https://www.reddit.com/' and opc_nextid= 'https://www.reddit.com/' ;\n",
      "Datos enviados:\n",
      "{'id_elemento': '449', 'titlebutton': 'Boton 2', 'typebutton': 'web_url', 'contentbutton': 'https://www.reddit.com/', 'id_boton': 711, 'opc_nextid': 'https://www.reddit.com/'}\n"
     ]
    },
    {
     "name": "stderr",
     "output_type": "stream",
     "text": [
      "127.0.0.1 - - [18/Mar/2021 23:09:19] \"\u001b[37mGET /select/robots HTTP/1.1\u001b[0m\" 200 -\n",
      "127.0.0.1 - - [18/Mar/2021 23:09:19] \"\u001b[37mPOST /insert/robots HTTP/1.1\u001b[0m\" 200 -\n",
      "127.0.0.1 - - [18/Mar/2021 23:09:19] \"\u001b[37mPOST /insert/bloqueinformativo HTTP/1.1\u001b[0m\" 200 -\n"
     ]
    },
    {
     "name": "stdout",
     "output_type": "stream",
     "text": [
      "Datos recibidos:\n",
      "{'name_robot': 'charlybot', 'id_face': '111445520541316', 'block_ini': 'prueba_inicio', 'type_blocki': 'informativo', 'access_token': 'EAALZCCZBzPwfkBAAo7njAlW7s4DTj1ZCs5v1ung1MhEyMlJXOOtiG8r7JcBgXVPhZBHkJONyTB6jKG470UyqGPWn4aDPnisgtT2ZCZAwQIjQgZAZBufZBJXmHz6mPKSgdmP6ikDA87vocZBay2dfQdz1OYezmYbxwfILXUvXtjUMZAniQZDZD', 'id_user': 'charlygoldcruz@gmail.com', 'api_nlp': 'http://localhost:8282/'}\n",
      "intenatando consulta...\n",
      "consulta: select * from robots where id_face = '111445520541316';\n",
      "La consulta no trajo nada\n",
      "Datos enviados:\n",
      "{'error': 'true'}\n",
      "Datos recibidos:\n",
      "{'name_robot': 'charlybot', 'id_face': '111445520541316', 'block_ini': 'prueba_inicio', 'type_blocki': 'informativo', 'access_token': 'EAALZCCZBzPwfkBAAo7njAlW7s4DTj1ZCs5v1ung1MhEyMlJXOOtiG8r7JcBgXVPhZBHkJONyTB6jKG470UyqGPWn4aDPnisgtT2ZCZAwQIjQgZAZBufZBJXmHz6mPKSgdmP6ikDA87vocZBay2dfQdz1OYezmYbxwfILXUvXtjUMZAniQZDZD', 'id_user': 'charlygoldcruz@gmail.com', 'api_nlp': 'http://localhost:8282/'}\n",
      "intenatando consulta...\n",
      "consulta: select * from robots where id_face = '111445520541316';\n",
      "Datos enviados:\n",
      "{'name_robot': 'charlybot', 'id_face': '111445520541316', 'block_ini': 'prueba_inicio', 'type_blocki': 'informativo', 'access_token': 'EAALZCCZBzPwfkBAAo7njAlW7s4DTj1ZCs5v1ung1MhEyMlJXOOtiG8r7JcBgXVPhZBHkJONyTB6jKG470UyqGPWn4aDPnisgtT2ZCZAwQIjQgZAZBufZBJXmHz6mPKSgdmP6ikDA87vocZBay2dfQdz1OYezmYbxwfILXUvXtjUMZAniQZDZD', 'api_nlp': 'http://localhost:8282/', 'id_robot': 427, 'id_user': 'charlygoldcruz@gmail.com'}\n",
      "Datos recibidos:\n",
      "{'next_id': 'prueba_captura', 'namestate': 'prueba_inicio', 'contenido': 'Hola, soy un chatbot y esto es un mensaje de prueba y adios', 'contenttype': 'text', 'typingtime': 3, 'id_robot': 427, 'blocktype': 'informativo'}\n",
      "intenatando consulta...\n",
      "consulta: select * from bloqueinformativo where next_id= 'prueba_captura' and namestate= 'prueba_inicio' and contenido= 'Hola, soy un chatbot y esto es un mensaje de prueba y adios' and contenttype= 'text' and typingtime= '3' and id_robot= '427' and blocktype= 'informativo' ;\n",
      "Datos enviados:\n",
      "{'namestate': 'prueba_inicio', 'contenido': 'Hola, soy un chatbot y esto es un mensaje de prueba y adios', 'next_id': 'prueba_captura', 'blocktype': 'informativo', 'contenttype': 'text', 'typingtime': '3', 'id_block': 1285, 'id_robot': 427, 'opc_nextid': None, 'pos_y': None, 'pos_x': None, 'tag_active': None}\n",
      "Datos recibidos:\n",
      "{'name_var': 'email', 'opc_type': 'Variable', 'var': 0, 'opc_data': 'String', 'id_robot': 427}\n"
     ]
    },
    {
     "name": "stderr",
     "output_type": "stream",
     "text": [
      "127.0.0.1 - - [18/Mar/2021 23:09:19] \"\u001b[37mPOST /insert/variables HTTP/1.1\u001b[0m\" 200 -\n",
      "127.0.0.1 - - [18/Mar/2021 23:09:19] \"\u001b[37mPOST /insert/bloqueinput HTTP/1.1\u001b[0m\" 200 -\n",
      "127.0.0.1 - - [18/Mar/2021 23:09:20] \"\u001b[37mPOST /insert/bloqueinformativo HTTP/1.1\u001b[0m\" 200 -\n"
     ]
    },
    {
     "name": "stdout",
     "output_type": "stream",
     "text": [
      "intenatando consulta...\n",
      "consulta: select * from variables where name_var= 'email' and opc_type= 'Variable' and var= '0' and opc_data= 'String' and id_robot= '427' ;\n",
      "Datos enviados:\n",
      "{'id_var': 1018, 'opc_type': 'Variable', 'opc_data': 'String', 'var': '0', 'id_robot': 427, 'name_var': 'email'}\n",
      "Datos recibidos:\n",
      "{'next_id': 'pruebaCorreo_01inicial_inicial', 'default_id': 'prueba_captura', 'namestate': 'prueba_captura', 'contenido': 'introduce tu correo', 'contenttype': 'text', 'typingtime': 3, 'validacion': '^[a-z0-9]+[\\\\._]?[a-z0-9]+[@]\\\\w+[.]\\\\w{2,3}$', 'id_robot': 427, 'id_var': 1018, 'blocktype': 'input'}\n",
      "intenatando consulta...\n",
      "consulta: select * from bloqueinput where next_id= 'pruebaCorreo_01inicial_inicial' and default_id= 'prueba_captura' and namestate= 'prueba_captura' and contenido= 'introduce tu correo' and contenttype= 'text' and typingtime= '3' and validacion= '^[a-z0-9]+[\\._]?[a-z0-9]+[@]\\w+[.]\\w{2,3}$' and id_robot= '427' and id_var= '1018' and blocktype= 'input' ;\n",
      "Datos enviados:\n",
      "{'namestate': 'prueba_captura', 'contenido': 'introduce tu correo', 'next_id': 'pruebaCorreo_01inicial_inicial', 'blocktype': 'input', 'contenttype': 'text', 'typingtime': '3', 'validacion': '^[a-z0-9]+[\\\\._]?[a-z0-9]+[@]\\\\w+[.]\\\\w{2,3}$', 'default_id': 'prueba_captura', 'id_var': '1018', 'id_block': 160, 'id_robot': 427, 'opc_nextid': None, 'pos_y': None, 'pos_x': None, 'tag_active': None}\n",
      "Datos recibidos:\n",
      "{'next_id': 'pruebaCorreo_01inicial_inicial', 'namestate': 'prueba_qa', 'contenido': 'Vamos a ver si no truena', 'contenttype': 'text', 'typingtime': 7, 'id_robot': 427, 'blocktype': 'informativo'}\n",
      "intenatando consulta...\n",
      "consulta: select * from bloqueinformativo where next_id= 'pruebaCorreo_01inicial_inicial' and namestate= 'prueba_qa' and contenido= 'Vamos a ver si no truena' and contenttype= 'text' and typingtime= '7' and id_robot= '427' and blocktype= 'informativo' ;\n",
      "Datos enviados:\n",
      "{'namestate': 'prueba_qa', 'contenido': 'Vamos a ver si no truena', 'next_id': 'pruebaCorreo_01inicial_inicial', 'blocktype': 'informativo', 'contenttype': 'text', 'typingtime': '7', 'id_block': 1286, 'id_robot': 427, 'opc_nextid': None, 'pos_y': None, 'pos_x': None, 'tag_active': None}\n"
     ]
    },
    {
     "name": "stderr",
     "output_type": "stream",
     "text": [
      "127.0.0.1 - - [18/Mar/2021 23:09:20] \"\u001b[37mPOST /insert/bloqueinformativo HTTP/1.1\u001b[0m\" 200 -\n",
      "127.0.0.1 - - [18/Mar/2021 23:09:20] \"\u001b[37mPOST /insert/variables HTTP/1.1\u001b[0m\" 200 -\n"
     ]
    },
    {
     "name": "stdout",
     "output_type": "stream",
     "text": [
      "Datos recibidos:\n",
      "{'next_id': 'Salida', 'namestate': 'prueba_dos', 'contenido': 'Puedo hacer muchas cosas, entre ellas despedirme. Adios', 'contenttype': 'text', 'typingtime': 3, 'id_robot': 427, 'blocktype': 'informativo'}\n",
      "intenatando consulta...\n",
      "consulta: select * from bloqueinformativo where next_id= 'Salida' and namestate= 'prueba_dos' and contenido= 'Puedo hacer muchas cosas, entre ellas despedirme. Adios' and contenttype= 'text' and typingtime= '3' and id_robot= '427' and blocktype= 'informativo' ;\n",
      "Datos enviados:\n",
      "{'namestate': 'prueba_dos', 'contenido': 'Puedo hacer muchas cosas, entre ellas despedirme. Adios', 'next_id': 'Salida', 'blocktype': 'informativo', 'contenttype': 'text', 'typingtime': '3', 'id_block': 1287, 'id_robot': 427, 'opc_nextid': None, 'pos_y': None, 'pos_x': None, 'tag_active': None}\n",
      "Datos recibidos:\n",
      "{'name_var': 'var_case', 'opc_type': 'Variable', 'var': 0, 'opc_data': 'Numerico', 'id_robot': 427}\n",
      "intenatando consulta...\n",
      "consulta: select * from variables where name_var= 'var_case' and opc_type= 'Variable' and var= '0' and opc_data= 'Numerico' and id_robot= '427' ;\n",
      "Datos enviados:\n",
      "{'id_var': 1019, 'opc_type': 'Variable', 'opc_data': 'Numerico', 'var': '0', 'id_robot': 427, 'name_var': 'var_case'}\n",
      "Datos recibidos:\n",
      "{'contenido': '¿Cuál es tu correo?', 'opciones': 'email,otro', 'next_id': 'prueba_dos,prueba_slide', 'default_id': 'prueba_qa', 'namestate': 'pruebaCorreo_01inicial_inicial', 'typingtime': 3, 'id_robot': 427, 'id_var': 1019, 'blocktype': 'quickReply'}\n",
      "intenatando consulta...\n",
      "consulta: select * from bloquequickreply where contenido= '¿Cuál es tu correo?' and opciones= 'email,otro' and next_id= 'prueba_dos,prueba_slide' and default_id= 'prueba_qa' and namestate= 'pruebaCorreo_01inicial_inicial' and typingtime= '3' and id_robot= '427' and id_var= '1019' and blocktype= 'quickReply' ;\n"
     ]
    },
    {
     "name": "stderr",
     "output_type": "stream",
     "text": [
      "127.0.0.1 - - [18/Mar/2021 23:09:20] \"\u001b[37mPOST /insert/bloquequickreply HTTP/1.1\u001b[0m\" 200 -\n",
      "127.0.0.1 - - [18/Mar/2021 23:09:20] \"\u001b[37mPOST /insert/variables HTTP/1.1\u001b[0m\" 200 -\n"
     ]
    },
    {
     "name": "stdout",
     "output_type": "stream",
     "text": [
      "Datos enviados:\n",
      "{'namestate': 'pruebaCorreo_01inicial_inicial', 'contenido': '¿Cuál es tu correo?', 'opciones': 'email,otro', 'next_id': 'prueba_dos,prueba_slide', 'blocktype': 'quickReply', 'typingtime': '3', 'default_id': 'prueba_qa', 'id_var': '1019', 'id_block': 449, 'id_robot': 427, 'opc_nextid': None, 'pos_y': None, 'pos_x': None, 'tag_active': None}\n",
      "Datos recibidos:\n",
      "{'name_var': 'var_slideMenu', 'opc_type': 'Variable', 'var': 0, 'opc_data': 'Numerico', 'id_robot': 427}\n",
      "intenatando consulta...\n",
      "consulta: select * from variables where name_var= 'var_slideMenu' and opc_type= 'Variable' and var= '0' and opc_data= 'Numerico' and id_robot= '427' ;\n",
      "Datos enviados:\n",
      "{'id_var': 1020, 'opc_type': 'Variable', 'opc_data': 'Numerico', 'var': '0', 'id_robot': 427, 'name_var': 'var_slideMenu'}\n",
      "Datos recibidos:\n",
      "{'namestate': 'prueba_slide', 'blocktype': 'slide', 'typingtime': 3, 'default_id': 'prueba_qa', 'id_var': 1020, 'id_robot': 427}\n"
     ]
    },
    {
     "name": "stderr",
     "output_type": "stream",
     "text": [
      "127.0.0.1 - - [18/Mar/2021 23:09:20] \"\u001b[37mPOST /insert/bloqueslide HTTP/1.1\u001b[0m\" 200 -\n",
      "127.0.0.1 - - [18/Mar/2021 23:09:20] \"\u001b[37mPOST /insert/elementos HTTP/1.1\u001b[0m\" 200 -\n"
     ]
    },
    {
     "name": "stdout",
     "output_type": "stream",
     "text": [
      "intenatando consulta...\n",
      "consulta: select * from bloqueslide where namestate= 'prueba_slide' and blocktype= 'slide' and typingtime= '3' and default_id= 'prueba_qa' and id_var= '1020' and id_robot= '427' ;\n",
      "Datos enviados:\n",
      "{'namestate': 'prueba_slide', 'next_id': None, 'blocktype': 'slide', 'typingtime': '3', 'default_id': 'prueba_qa', 'id_var': '1020', 'id_block': 211, 'id_robot': 427, 'opc_nextid': None, 'pos_y': None, 'pos_x': None, 'opc_elm': None, 'tag_active': None}\n",
      "Datos recibidos:\n",
      "{'title': 'Prueba titulo', 'image_url': 'https://infosertecblog.files.wordpress.com/2016/08/bot-de-telegram.jpg', 'subtitle': 'Esta es una prueba de carrusel.', 'blocktype': 'slide', 'id_block': 211}\n",
      "intenatando consulta...\n",
      "consulta: select * from elementos where title= 'Prueba titulo' and image_url= 'https://infosertecblog.files.wordpress.com/2016/08/bot-de-telegram.jpg' and subtitle= 'Esta es una prueba de carrusel.' and blocktype= 'slide' and id_block= '211' ;\n",
      "Datos enviados:\n",
      "{'blocktype': 'slide', 'title': 'Prueba titulo', 'image_url': 'https://infosertecblog.files.wordpress.com/2016/08/bot-de-telegram.jpg', 'subtitle': 'Esta es una prueba de carrusel.', 'id_block': 211, 'id_elements': 450}\n",
      "Datos recibidos:\n",
      "{'id_elemento': '450', 'titlebutton': 'Boton 1', 'typebutton': 'web_url', 'contentbutton': 'https://www.youtube.com/', 'opc_nextid': 'https://www.youtube.com/'}\n",
      "intenatando consulta...\n",
      "consulta: select * from botones where id_elemento= '450' and titlebutton= 'Boton 1' and typebutton= 'web_url' and contentbutton= 'https://www.youtube.com/' and opc_nextid= 'https://www.youtube.com/' ;\n"
     ]
    },
    {
     "name": "stderr",
     "output_type": "stream",
     "text": [
      "127.0.0.1 - - [18/Mar/2021 23:09:20] \"\u001b[37mPOST /insert/botones HTTP/1.1\u001b[0m\" 200 -\n",
      "127.0.0.1 - - [18/Mar/2021 23:09:20] \"\u001b[37mPOST /insert/botones HTTP/1.1\u001b[0m\" 200 -\n"
     ]
    },
    {
     "name": "stdout",
     "output_type": "stream",
     "text": [
      "Datos enviados:\n",
      "{'id_elemento': '450', 'titlebutton': 'Boton 1', 'typebutton': 'web_url', 'contentbutton': 'https://www.youtube.com/', 'id_boton': 712, 'opc_nextid': 'https://www.youtube.com/'}\n",
      "Datos recibidos:\n",
      "{'id_elemento': '450', 'titlebutton': 'Boton 2', 'typebutton': 'web_url', 'contentbutton': 'https://www.reddit.com/', 'opc_nextid': 'https://www.reddit.com/'}\n",
      "intenatando consulta...\n",
      "consulta: select * from botones where id_elemento= '450' and titlebutton= 'Boton 2' and typebutton= 'web_url' and contentbutton= 'https://www.reddit.com/' and opc_nextid= 'https://www.reddit.com/' ;\n",
      "Datos enviados:\n",
      "{'id_elemento': '450', 'titlebutton': 'Boton 2', 'typebutton': 'web_url', 'contentbutton': 'https://www.reddit.com/', 'id_boton': 713, 'opc_nextid': 'https://www.reddit.com/'}\n"
     ]
    },
    {
     "name": "stderr",
     "output_type": "stream",
     "text": [
      "127.0.0.1 - - [18/Mar/2021 23:09:24] \"\u001b[37mGET /select/robots HTTP/1.1\u001b[0m\" 200 -\n",
      "127.0.0.1 - - [18/Mar/2021 23:09:24] \"\u001b[37mPOST /insert/robots HTTP/1.1\u001b[0m\" 200 -\n",
      "127.0.0.1 - - [18/Mar/2021 23:09:24] \"\u001b[37mPOST /insert/bloqueinformativo HTTP/1.1\u001b[0m\" 200 -\n"
     ]
    },
    {
     "name": "stdout",
     "output_type": "stream",
     "text": [
      "Datos recibidos:\n",
      "{'name_robot': 'oliverBot', 'id_face': '2153123008120093', 'block_ini': 'prueba_inicio', 'type_blocki': 'quickreply', 'access_token': 'EAAHNkscg2TcBAMvebksfOxuFBpMeR5sUhzHTKtqdi6NkqQKZAdkeaGVJ9Yc5bNbvL3JLzCgB7EEqsVUTZADhidVcC3zJV1UZB4Uz0Hm3fZB9IETnWb4I8MoK8nxpenC1lYwnjwnRwMHVZA1FKw8d3A45t9xCxmPKnm6kIr5ZCA8wZDZD', 'id_user': 'oliverbp88@gmail.com', 'api_nlp': 'http://localhost:8282/'}\n",
      "intenatando consulta...\n",
      "consulta: select * from robots where id_face = '2153123008120093';\n",
      "La consulta no trajo nada\n",
      "Datos enviados:\n",
      "{'error': 'true'}\n",
      "Datos recibidos:\n",
      "{'name_robot': 'oliverBot', 'id_face': '2153123008120093', 'block_ini': 'prueba_inicio', 'type_blocki': 'quickreply', 'access_token': 'EAAHNkscg2TcBAMvebksfOxuFBpMeR5sUhzHTKtqdi6NkqQKZAdkeaGVJ9Yc5bNbvL3JLzCgB7EEqsVUTZADhidVcC3zJV1UZB4Uz0Hm3fZB9IETnWb4I8MoK8nxpenC1lYwnjwnRwMHVZA1FKw8d3A45t9xCxmPKnm6kIr5ZCA8wZDZD', 'id_user': 'oliverbp88@gmail.com', 'api_nlp': 'http://localhost:8282/'}\n",
      "intenatando consulta...\n",
      "consulta: select * from robots where id_face = '2153123008120093';\n",
      "Datos enviados:\n",
      "{'name_robot': 'oliverBot', 'id_face': '2153123008120093', 'block_ini': 'prueba_inicio', 'type_blocki': 'quickreply', 'access_token': 'EAAHNkscg2TcBAMvebksfOxuFBpMeR5sUhzHTKtqdi6NkqQKZAdkeaGVJ9Yc5bNbvL3JLzCgB7EEqsVUTZADhidVcC3zJV1UZB4Uz0Hm3fZB9IETnWb4I8MoK8nxpenC1lYwnjwnRwMHVZA1FKw8d3A45t9xCxmPKnm6kIr5ZCA8wZDZD', 'api_nlp': 'http://localhost:8282/', 'id_robot': 428, 'id_user': 'oliverbp88@gmail.com'}\n",
      "Datos recibidos:\n",
      "{'next_id': 'pruebaCorreo_01inicial_inicial', 'namestate': 'prueba_inicio', 'contenido': 'Hola, soy un robot!', 'contenttype': 'text', 'typingtime': 3, 'id_robot': 428, 'blocktype': 'informativo'}\n",
      "intenatando consulta...\n",
      "consulta: select * from bloqueinformativo where next_id= 'pruebaCorreo_01inicial_inicial' and namestate= 'prueba_inicio' and contenido= 'Hola, soy un robot!' and contenttype= 'text' and typingtime= '3' and id_robot= '428' and blocktype= 'informativo' ;\n",
      "Datos enviados:\n",
      "{'namestate': 'prueba_inicio', 'contenido': 'Hola, soy un robot!', 'next_id': 'pruebaCorreo_01inicial_inicial', 'blocktype': 'informativo', 'contenttype': 'text', 'typingtime': '3', 'id_block': 1288, 'id_robot': 428, 'opc_nextid': None, 'pos_y': None, 'pos_x': None, 'tag_active': None}\n",
      "Datos recibidos:\n",
      "{'next_id': 'pruebaCorreo_01inicial_inicial', 'namestate': 'prueba_qa', 'contenido': 'Vamos a ver si no truena', 'contenttype': 'text', 'typingtime': 7, 'id_robot': 428, 'blocktype': 'informativo'}\n"
     ]
    },
    {
     "name": "stderr",
     "output_type": "stream",
     "text": [
      "127.0.0.1 - - [18/Mar/2021 23:09:24] \"\u001b[37mPOST /insert/bloqueinformativo HTTP/1.1\u001b[0m\" 200 -\n",
      "127.0.0.1 - - [18/Mar/2021 23:09:24] \"\u001b[37mPOST /insert/bloqueinformativo HTTP/1.1\u001b[0m\" 200 -\n",
      "127.0.0.1 - - [18/Mar/2021 23:09:24] \"\u001b[37mPOST /insert/variables HTTP/1.1\u001b[0m\" 200 -\n"
     ]
    },
    {
     "name": "stdout",
     "output_type": "stream",
     "text": [
      "intenatando consulta...\n",
      "consulta: select * from bloqueinformativo where next_id= 'pruebaCorreo_01inicial_inicial' and namestate= 'prueba_qa' and contenido= 'Vamos a ver si no truena' and contenttype= 'text' and typingtime= '7' and id_robot= '428' and blocktype= 'informativo' ;\n",
      "Datos enviados:\n",
      "{'namestate': 'prueba_qa', 'contenido': 'Vamos a ver si no truena', 'next_id': 'pruebaCorreo_01inicial_inicial', 'blocktype': 'informativo', 'contenttype': 'text', 'typingtime': '7', 'id_block': 1289, 'id_robot': 428, 'opc_nextid': None, 'pos_y': None, 'pos_x': None, 'tag_active': None}\n",
      "Datos recibidos:\n",
      "{'next_id': 'Salida', 'namestate': 'prueba_dos', 'contenido': 'Puedo hacer muchas cosas, entre ellas despedirme. Adios', 'contenttype': 'text', 'typingtime': 3, 'id_robot': 428, 'blocktype': 'informativo'}\n",
      "intenatando consulta...\n",
      "consulta: select * from bloqueinformativo where next_id= 'Salida' and namestate= 'prueba_dos' and contenido= 'Puedo hacer muchas cosas, entre ellas despedirme. Adios' and contenttype= 'text' and typingtime= '3' and id_robot= '428' and blocktype= 'informativo' ;\n",
      "Datos enviados:\n",
      "{'namestate': 'prueba_dos', 'contenido': 'Puedo hacer muchas cosas, entre ellas despedirme. Adios', 'next_id': 'Salida', 'blocktype': 'informativo', 'contenttype': 'text', 'typingtime': '3', 'id_block': 1290, 'id_robot': 428, 'opc_nextid': None, 'pos_y': None, 'pos_x': None, 'tag_active': None}\n",
      "Datos recibidos:\n",
      "{'name_var': 'var_case', 'opc_type': 'Variable', 'var': 0, 'opc_data': 'Numerico', 'id_robot': 428}\n",
      "intenatando consulta...\n",
      "consulta: select * from variables where name_var= 'var_case' and opc_type= 'Variable' and var= '0' and opc_data= 'Numerico' and id_robot= '428' ;\n",
      "Datos enviados:\n",
      "{'id_var': 1021, 'opc_type': 'Variable', 'opc_data': 'Numerico', 'var': '0', 'id_robot': 428, 'name_var': 'var_case'}\n",
      "Datos recibidos:\n",
      "{'contenido': '¿Cuál es tu correo?', 'opciones': 'email,otro', 'next_id': 'prueba_dos,prueba_slide', 'default_id': 'prueba_qa', 'namestate': 'pruebaCorreo_01inicial_inicial', 'typingtime': 3, 'id_robot': 428, 'id_var': 1021, 'blocktype': 'quickReply'}\n"
     ]
    },
    {
     "name": "stderr",
     "output_type": "stream",
     "text": [
      "127.0.0.1 - - [18/Mar/2021 23:09:25] \"\u001b[37mPOST /insert/bloquequickreply HTTP/1.1\u001b[0m\" 200 -\n",
      "127.0.0.1 - - [18/Mar/2021 23:09:25] \"\u001b[37mPOST /insert/variables HTTP/1.1\u001b[0m\" 200 -\n",
      "127.0.0.1 - - [18/Mar/2021 23:09:25] \"\u001b[37mPOST /insert/bloqueslide HTTP/1.1\u001b[0m\" 200 -\n"
     ]
    },
    {
     "name": "stdout",
     "output_type": "stream",
     "text": [
      "intenatando consulta...\n",
      "consulta: select * from bloquequickreply where contenido= '¿Cuál es tu correo?' and opciones= 'email,otro' and next_id= 'prueba_dos,prueba_slide' and default_id= 'prueba_qa' and namestate= 'pruebaCorreo_01inicial_inicial' and typingtime= '3' and id_robot= '428' and id_var= '1021' and blocktype= 'quickReply' ;\n",
      "Datos enviados:\n",
      "{'namestate': 'pruebaCorreo_01inicial_inicial', 'contenido': '¿Cuál es tu correo?', 'opciones': 'email,otro', 'next_id': 'prueba_dos,prueba_slide', 'blocktype': 'quickReply', 'typingtime': '3', 'default_id': 'prueba_qa', 'id_var': '1021', 'id_block': 450, 'id_robot': 428, 'opc_nextid': None, 'pos_y': None, 'pos_x': None, 'tag_active': None}\n",
      "Datos recibidos:\n",
      "{'name_var': 'var_slideMenu', 'opc_type': 'Variable', 'var': 0, 'opc_data': 'Numerico', 'id_robot': 428}\n",
      "intenatando consulta...\n",
      "consulta: select * from variables where name_var= 'var_slideMenu' and opc_type= 'Variable' and var= '0' and opc_data= 'Numerico' and id_robot= '428' ;\n",
      "Datos enviados:\n",
      "{'id_var': 1022, 'opc_type': 'Variable', 'opc_data': 'Numerico', 'var': '0', 'id_robot': 428, 'name_var': 'var_slideMenu'}\n",
      "Datos recibidos:\n",
      "{'namestate': 'prueba_slide', 'blocktype': 'slide', 'typingtime': 3, 'default_id': 'prueba_qa', 'id_var': 1022, 'id_robot': 428}\n",
      "intenatando consulta...\n",
      "consulta: select * from bloqueslide where namestate= 'prueba_slide' and blocktype= 'slide' and typingtime= '3' and default_id= 'prueba_qa' and id_var= '1022' and id_robot= '428' ;\n",
      "Datos enviados:\n",
      "{'namestate': 'prueba_slide', 'next_id': None, 'blocktype': 'slide', 'typingtime': '3', 'default_id': 'prueba_qa', 'id_var': '1022', 'id_block': 212, 'id_robot': 428, 'opc_nextid': None, 'pos_y': None, 'pos_x': None, 'opc_elm': None, 'tag_active': None}\n"
     ]
    },
    {
     "name": "stderr",
     "output_type": "stream",
     "text": [
      "127.0.0.1 - - [18/Mar/2021 23:09:25] \"\u001b[37mPOST /insert/elementos HTTP/1.1\u001b[0m\" 200 -\n",
      "127.0.0.1 - - [18/Mar/2021 23:09:25] \"\u001b[37mPOST /insert/botones HTTP/1.1\u001b[0m\" 200 -\n"
     ]
    },
    {
     "name": "stdout",
     "output_type": "stream",
     "text": [
      "Datos recibidos:\n",
      "{'title': 'Prueba titulo', 'image_url': 'https://st2.depositphotos.com/3008028/5540/i/600/depositphotos_55407975-stock-photo-royal-blue-background.jpg', 'subtitle': 'Esta es una prueba de carrusel.', 'blocktype': 'slide', 'id_block': 212}\n",
      "intenatando consulta...\n",
      "consulta: select * from elementos where title= 'Prueba titulo' and image_url= 'https://st2.depositphotos.com/3008028/5540/i/600/depositphotos_55407975-stock-photo-royal-blue-background.jpg' and subtitle= 'Esta es una prueba de carrusel.' and blocktype= 'slide' and id_block= '212' ;\n",
      "Datos enviados:\n",
      "{'blocktype': 'slide', 'title': 'Prueba titulo', 'image_url': 'https://st2.depositphotos.com/3008028/5540/i/600/depositphotos_55407975-stock-photo-royal-blue-background.jpg', 'subtitle': 'Esta es una prueba de carrusel.', 'id_block': 212, 'id_elements': 451}\n",
      "Datos recibidos:\n",
      "{'id_elemento': '451', 'titlebutton': 'Boton 1', 'typebutton': 'web_url', 'contentbutton': 'https://www.youtube.com/', 'opc_nextid': 'https://www.youtube.com/'}\n",
      "intenatando consulta...\n",
      "consulta: select * from botones where id_elemento= '451' and titlebutton= 'Boton 1' and typebutton= 'web_url' and contentbutton= 'https://www.youtube.com/' and opc_nextid= 'https://www.youtube.com/' ;\n",
      "Datos enviados:\n",
      "{'id_elemento': '451', 'titlebutton': 'Boton 1', 'typebutton': 'web_url', 'contentbutton': 'https://www.youtube.com/', 'id_boton': 714, 'opc_nextid': 'https://www.youtube.com/'}\n",
      "Datos recibidos:\n",
      "{'id_elemento': '451', 'titlebutton': 'Boton 2', 'typebutton': 'web_url', 'contentbutton': 'https://www.reddit.com/', 'opc_nextid': 'https://www.reddit.com/'}\n",
      "intenatando consulta...\n",
      "consulta: select * from botones where id_elemento= '451' and titlebutton= 'Boton 2' and typebutton= 'web_url' and contentbutton= 'https://www.reddit.com/' and opc_nextid= 'https://www.reddit.com/' ;\n"
     ]
    },
    {
     "name": "stderr",
     "output_type": "stream",
     "text": [
      "127.0.0.1 - - [18/Mar/2021 23:09:25] \"\u001b[37mPOST /insert/botones HTTP/1.1\u001b[0m\" 200 -\n"
     ]
    },
    {
     "name": "stdout",
     "output_type": "stream",
     "text": [
      "Datos enviados:\n",
      "{'id_elemento': '451', 'titlebutton': 'Boton 2', 'typebutton': 'web_url', 'contentbutton': 'https://www.reddit.com/', 'id_boton': 715, 'opc_nextid': 'https://www.reddit.com/'}\n"
     ]
    },
    {
     "name": "stderr",
     "output_type": "stream",
     "text": [
      "127.0.0.1 - - [18/Mar/2021 23:18:29] \"\u001b[37mGET /select/robots HTTP/1.1\u001b[0m\" 200 -\n",
      "127.0.0.1 - - [18/Mar/2021 23:18:29] \"\u001b[37mPOST /insert/robots HTTP/1.1\u001b[0m\" 200 -\n",
      "127.0.0.1 - - [18/Mar/2021 23:18:29] \"\u001b[37mPOST /insert/bloqueinformativo HTTP/1.1\u001b[0m\" 200 -\n"
     ]
    },
    {
     "name": "stdout",
     "output_type": "stream",
     "text": [
      "Datos recibidos:\n",
      "{'name_robot': 'oliverBot', 'id_face': '2153123008120093', 'block_ini': 'prueba_inicio', 'type_blocki': 'quickreply', 'access_token': 'EAAHNkscg2TcBAMvebksfOxuFBpMeR5sUhzHTKtqdi6NkqQKZAdkeaGVJ9Yc5bNbvL3JLzCgB7EEqsVUTZADhidVcC3zJV1UZB4Uz0Hm3fZB9IETnWb4I8MoK8nxpenC1lYwnjwnRwMHVZA1FKw8d3A45t9xCxmPKnm6kIr5ZCA8wZDZD', 'id_user': 'oliverbp88@gmail.com', 'api_nlp': 'http://localhost:8282/'}\n",
      "intenatando consulta...\n",
      "consulta: select * from robots where id_face = '2153123008120093';\n",
      "La consulta no trajo nada\n",
      "Datos enviados:\n",
      "{'error': 'true'}\n",
      "Datos recibidos:\n",
      "{'name_robot': 'oliverBot', 'id_face': '2153123008120093', 'block_ini': 'prueba_inicio', 'type_blocki': 'quickreply', 'access_token': 'EAAHNkscg2TcBAMvebksfOxuFBpMeR5sUhzHTKtqdi6NkqQKZAdkeaGVJ9Yc5bNbvL3JLzCgB7EEqsVUTZADhidVcC3zJV1UZB4Uz0Hm3fZB9IETnWb4I8MoK8nxpenC1lYwnjwnRwMHVZA1FKw8d3A45t9xCxmPKnm6kIr5ZCA8wZDZD', 'id_user': 'oliverbp88@gmail.com', 'api_nlp': 'http://localhost:8282/'}\n",
      "intenatando consulta...\n",
      "consulta: select * from robots where id_face = '2153123008120093';\n",
      "Datos enviados:\n",
      "{'name_robot': 'oliverBot', 'id_face': '2153123008120093', 'block_ini': 'prueba_inicio', 'type_blocki': 'quickreply', 'access_token': 'EAAHNkscg2TcBAMvebksfOxuFBpMeR5sUhzHTKtqdi6NkqQKZAdkeaGVJ9Yc5bNbvL3JLzCgB7EEqsVUTZADhidVcC3zJV1UZB4Uz0Hm3fZB9IETnWb4I8MoK8nxpenC1lYwnjwnRwMHVZA1FKw8d3A45t9xCxmPKnm6kIr5ZCA8wZDZD', 'api_nlp': 'http://localhost:8282/', 'id_robot': 429, 'id_user': 'oliverbp88@gmail.com'}\n",
      "Datos recibidos:\n",
      "{'next_id': 'pruebaCorreo_01inicial_inicial', 'namestate': 'prueba_inicio', 'contenido': 'Hola, soy un robot!', 'contenttype': 'text', 'typingtime': 3, 'id_robot': 429, 'blocktype': 'informativo'}\n",
      "intenatando consulta...\n",
      "consulta: select * from bloqueinformativo where next_id= 'pruebaCorreo_01inicial_inicial' and namestate= 'prueba_inicio' and contenido= 'Hola, soy un robot!' and contenttype= 'text' and typingtime= '3' and id_robot= '429' and blocktype= 'informativo' ;\n",
      "Datos enviados:\n",
      "{'namestate': 'prueba_inicio', 'contenido': 'Hola, soy un robot!', 'next_id': 'pruebaCorreo_01inicial_inicial', 'blocktype': 'informativo', 'contenttype': 'text', 'typingtime': '3', 'id_block': 1291, 'id_robot': 429, 'opc_nextid': None, 'pos_y': None, 'pos_x': None, 'tag_active': None}\n"
     ]
    },
    {
     "name": "stderr",
     "output_type": "stream",
     "text": [
      "127.0.0.1 - - [18/Mar/2021 23:18:29] \"\u001b[37mPOST /insert/bloqueinformativo HTTP/1.1\u001b[0m\" 200 -\n",
      "127.0.0.1 - - [18/Mar/2021 23:18:29] \"\u001b[37mPOST /insert/bloqueinformativo HTTP/1.1\u001b[0m\" 200 -\n"
     ]
    },
    {
     "name": "stdout",
     "output_type": "stream",
     "text": [
      "Datos recibidos:\n",
      "{'next_id': 'pruebaCorreo_01inicial_inicial', 'namestate': 'prueba_qa', 'contenido': 'Vamos a ver si no truena', 'contenttype': 'text', 'typingtime': 7, 'id_robot': 429, 'blocktype': 'informativo'}\n",
      "intenatando consulta...\n",
      "consulta: select * from bloqueinformativo where next_id= 'pruebaCorreo_01inicial_inicial' and namestate= 'prueba_qa' and contenido= 'Vamos a ver si no truena' and contenttype= 'text' and typingtime= '7' and id_robot= '429' and blocktype= 'informativo' ;\n",
      "Datos enviados:\n",
      "{'namestate': 'prueba_qa', 'contenido': 'Vamos a ver si no truena', 'next_id': 'pruebaCorreo_01inicial_inicial', 'blocktype': 'informativo', 'contenttype': 'text', 'typingtime': '7', 'id_block': 1292, 'id_robot': 429, 'opc_nextid': None, 'pos_y': None, 'pos_x': None, 'tag_active': None}\n",
      "Datos recibidos:\n",
      "{'next_id': 'Salida', 'namestate': 'prueba_dos', 'contenido': 'Puedo hacer muchas cosas, entre ellas despedirme. Adios', 'contenttype': 'text', 'typingtime': 3, 'id_robot': 429, 'blocktype': 'informativo'}\n",
      "intenatando consulta...\n",
      "consulta: select * from bloqueinformativo where next_id= 'Salida' and namestate= 'prueba_dos' and contenido= 'Puedo hacer muchas cosas, entre ellas despedirme. Adios' and contenttype= 'text' and typingtime= '3' and id_robot= '429' and blocktype= 'informativo' ;\n",
      "Datos enviados:\n",
      "{'namestate': 'prueba_dos', 'contenido': 'Puedo hacer muchas cosas, entre ellas despedirme. Adios', 'next_id': 'Salida', 'blocktype': 'informativo', 'contenttype': 'text', 'typingtime': '3', 'id_block': 1293, 'id_robot': 429, 'opc_nextid': None, 'pos_y': None, 'pos_x': None, 'tag_active': None}\n",
      "Datos recibidos:\n",
      "{'name_var': 'var_case', 'opc_type': 'Variable', 'var': 0, 'opc_data': 'Numerico', 'id_robot': 429}\n",
      "intenatando consulta...\n",
      "consulta: select * from variables where name_var= 'var_case' and opc_type= 'Variable' and var= '0' and opc_data= 'Numerico' and id_robot= '429' ;\n"
     ]
    },
    {
     "name": "stderr",
     "output_type": "stream",
     "text": [
      "127.0.0.1 - - [18/Mar/2021 23:18:29] \"\u001b[37mPOST /insert/variables HTTP/1.1\u001b[0m\" 200 -\n",
      "127.0.0.1 - - [18/Mar/2021 23:18:29] \"\u001b[37mPOST /insert/bloquequickreply HTTP/1.1\u001b[0m\" 200 -\n",
      "127.0.0.1 - - [18/Mar/2021 23:18:29] \"\u001b[37mPOST /insert/variables HTTP/1.1\u001b[0m\" 200 -\n"
     ]
    },
    {
     "name": "stdout",
     "output_type": "stream",
     "text": [
      "Datos enviados:\n",
      "{'id_var': 1023, 'opc_type': 'Variable', 'opc_data': 'Numerico', 'var': '0', 'id_robot': 429, 'name_var': 'var_case'}\n",
      "Datos recibidos:\n",
      "{'contenido': '¿Cuál es tu correo?', 'opciones': 'email,otro', 'next_id': 'prueba_dos,prueba_slide', 'default_id': 'prueba_qa', 'namestate': 'pruebaCorreo_01inicial_inicial', 'typingtime': 3, 'id_robot': 429, 'id_var': 1023, 'blocktype': 'quickReply'}\n",
      "intenatando consulta...\n",
      "consulta: select * from bloquequickreply where contenido= '¿Cuál es tu correo?' and opciones= 'email,otro' and next_id= 'prueba_dos,prueba_slide' and default_id= 'prueba_qa' and namestate= 'pruebaCorreo_01inicial_inicial' and typingtime= '3' and id_robot= '429' and id_var= '1023' and blocktype= 'quickReply' ;\n",
      "Datos enviados:\n",
      "{'namestate': 'pruebaCorreo_01inicial_inicial', 'contenido': '¿Cuál es tu correo?', 'opciones': 'email,otro', 'next_id': 'prueba_dos,prueba_slide', 'blocktype': 'quickReply', 'typingtime': '3', 'default_id': 'prueba_qa', 'id_var': '1023', 'id_block': 451, 'id_robot': 429, 'opc_nextid': None, 'pos_y': None, 'pos_x': None, 'tag_active': None}\n",
      "Datos recibidos:\n",
      "{'name_var': 'var_slideMenu', 'opc_type': 'Variable', 'var': 0, 'opc_data': 'Numerico', 'id_robot': 429}\n",
      "intenatando consulta...\n",
      "consulta: select * from variables where name_var= 'var_slideMenu' and opc_type= 'Variable' and var= '0' and opc_data= 'Numerico' and id_robot= '429' ;\n",
      "Datos enviados:\n",
      "{'id_var': 1024, 'opc_type': 'Variable', 'opc_data': 'Numerico', 'var': '0', 'id_robot': 429, 'name_var': 'var_slideMenu'}\n"
     ]
    },
    {
     "name": "stderr",
     "output_type": "stream",
     "text": [
      "127.0.0.1 - - [18/Mar/2021 23:18:29] \"\u001b[37mPOST /insert/bloqueslide HTTP/1.1\u001b[0m\" 200 -\n",
      "127.0.0.1 - - [18/Mar/2021 23:18:29] \"\u001b[37mPOST /insert/elementos HTTP/1.1\u001b[0m\" 200 -\n"
     ]
    },
    {
     "name": "stdout",
     "output_type": "stream",
     "text": [
      "Datos recibidos:\n",
      "{'namestate': 'prueba_slide', 'blocktype': 'slide', 'typingtime': 3, 'default_id': 'prueba_qa', 'id_var': 1024, 'id_robot': 429}\n",
      "intenatando consulta...\n",
      "consulta: select * from bloqueslide where namestate= 'prueba_slide' and blocktype= 'slide' and typingtime= '3' and default_id= 'prueba_qa' and id_var= '1024' and id_robot= '429' ;\n",
      "Datos enviados:\n",
      "{'namestate': 'prueba_slide', 'next_id': None, 'blocktype': 'slide', 'typingtime': '3', 'default_id': 'prueba_qa', 'id_var': '1024', 'id_block': 213, 'id_robot': 429, 'opc_nextid': None, 'pos_y': None, 'pos_x': None, 'opc_elm': None, 'tag_active': None}\n",
      "Datos recibidos:\n",
      "{'title': 'Prueba titulo', 'image_url': 'https://st2.depositphotos.com/3008028/5540/i/600/depositphotos_55407975-stock-photo-royal-blue-background.jpg', 'subtitle': 'Esta es una prueba de carrusel.', 'blocktype': 'slide', 'id_block': 213}\n",
      "intenatando consulta...\n",
      "consulta: select * from elementos where title= 'Prueba titulo' and image_url= 'https://st2.depositphotos.com/3008028/5540/i/600/depositphotos_55407975-stock-photo-royal-blue-background.jpg' and subtitle= 'Esta es una prueba de carrusel.' and blocktype= 'slide' and id_block= '213' ;\n",
      "Datos enviados:\n",
      "{'blocktype': 'slide', 'title': 'Prueba titulo', 'image_url': 'https://st2.depositphotos.com/3008028/5540/i/600/depositphotos_55407975-stock-photo-royal-blue-background.jpg', 'subtitle': 'Esta es una prueba de carrusel.', 'id_block': 213, 'id_elements': 452}\n",
      "Datos recibidos:\n",
      "{'id_elemento': '452', 'titlebutton': 'Boton 1', 'typebutton': 'web_url', 'contentbutton': 'https://www.youtube.com/', 'opc_nextid': 'https://www.youtube.com/'}\n",
      "intenatando consulta...\n",
      "consulta: select * from botones where id_elemento= '452' and titlebutton= 'Boton 1' and typebutton= 'web_url' and contentbutton= 'https://www.youtube.com/' and opc_nextid= 'https://www.youtube.com/' ;\n"
     ]
    },
    {
     "name": "stderr",
     "output_type": "stream",
     "text": [
      "127.0.0.1 - - [18/Mar/2021 23:18:29] \"\u001b[37mPOST /insert/botones HTTP/1.1\u001b[0m\" 200 -\n",
      "127.0.0.1 - - [18/Mar/2021 23:18:30] \"\u001b[37mPOST /insert/botones HTTP/1.1\u001b[0m\" 200 -\n"
     ]
    },
    {
     "name": "stdout",
     "output_type": "stream",
     "text": [
      "Datos enviados:\n",
      "{'id_elemento': '452', 'titlebutton': 'Boton 1', 'typebutton': 'web_url', 'contentbutton': 'https://www.youtube.com/', 'id_boton': 716, 'opc_nextid': 'https://www.youtube.com/'}\n",
      "Datos recibidos:\n",
      "{'id_elemento': '452', 'titlebutton': 'Boton 2', 'typebutton': 'web_url', 'contentbutton': 'https://www.reddit.com/', 'opc_nextid': 'https://www.reddit.com/'}\n",
      "intenatando consulta...\n",
      "consulta: select * from botones where id_elemento= '452' and titlebutton= 'Boton 2' and typebutton= 'web_url' and contentbutton= 'https://www.reddit.com/' and opc_nextid= 'https://www.reddit.com/' ;\n",
      "Datos enviados:\n",
      "{'id_elemento': '452', 'titlebutton': 'Boton 2', 'typebutton': 'web_url', 'contentbutton': 'https://www.reddit.com/', 'id_boton': 717, 'opc_nextid': 'https://www.reddit.com/'}\n"
     ]
    },
    {
     "name": "stderr",
     "output_type": "stream",
     "text": [
      "127.0.0.1 - - [18/Mar/2021 23:18:42] \"\u001b[37mGET /select/robots HTTP/1.1\u001b[0m\" 200 -\n",
      "127.0.0.1 - - [18/Mar/2021 23:18:42] \"\u001b[37mPOST /insert/robots HTTP/1.1\u001b[0m\" 200 -\n",
      "127.0.0.1 - - [18/Mar/2021 23:18:42] \"\u001b[37mPOST /insert/bloqueinformativo HTTP/1.1\u001b[0m\" 200 -\n"
     ]
    },
    {
     "name": "stdout",
     "output_type": "stream",
     "text": [
      "Datos recibidos:\n",
      "{'name_robot': 'charlybot', 'id_face': '111445520541316', 'block_ini': 'prueba_inicio', 'type_blocki': 'informativo', 'access_token': 'EAALZCCZBzPwfkBAAo7njAlW7s4DTj1ZCs5v1ung1MhEyMlJXOOtiG8r7JcBgXVPhZBHkJONyTB6jKG470UyqGPWn4aDPnisgtT2ZCZAwQIjQgZAZBufZBJXmHz6mPKSgdmP6ikDA87vocZBay2dfQdz1OYezmYbxwfILXUvXtjUMZAniQZDZD', 'id_user': 'charlygoldcruz@gmail.com', 'api_nlp': 'http://localhost:8282/'}\n",
      "intenatando consulta...\n",
      "consulta: select * from robots where id_face = '111445520541316';\n",
      "La consulta no trajo nada\n",
      "Datos enviados:\n",
      "{'error': 'true'}\n",
      "Datos recibidos:\n",
      "{'name_robot': 'charlybot', 'id_face': '111445520541316', 'block_ini': 'prueba_inicio', 'type_blocki': 'informativo', 'access_token': 'EAALZCCZBzPwfkBAAo7njAlW7s4DTj1ZCs5v1ung1MhEyMlJXOOtiG8r7JcBgXVPhZBHkJONyTB6jKG470UyqGPWn4aDPnisgtT2ZCZAwQIjQgZAZBufZBJXmHz6mPKSgdmP6ikDA87vocZBay2dfQdz1OYezmYbxwfILXUvXtjUMZAniQZDZD', 'id_user': 'charlygoldcruz@gmail.com', 'api_nlp': 'http://localhost:8282/'}\n",
      "intenatando consulta...\n",
      "consulta: select * from robots where id_face = '111445520541316';\n",
      "Datos enviados:\n",
      "{'name_robot': 'charlybot', 'id_face': '111445520541316', 'block_ini': 'prueba_inicio', 'type_blocki': 'informativo', 'access_token': 'EAALZCCZBzPwfkBAAo7njAlW7s4DTj1ZCs5v1ung1MhEyMlJXOOtiG8r7JcBgXVPhZBHkJONyTB6jKG470UyqGPWn4aDPnisgtT2ZCZAwQIjQgZAZBufZBJXmHz6mPKSgdmP6ikDA87vocZBay2dfQdz1OYezmYbxwfILXUvXtjUMZAniQZDZD', 'api_nlp': 'http://localhost:8282/', 'id_robot': 430, 'id_user': 'charlygoldcruz@gmail.com'}\n",
      "Datos recibidos:\n",
      "{'next_id': 'prueba_captura', 'namestate': 'prueba_inicio', 'contenido': 'Hola, soy un chatbot y esto es un mensaje de prueba y adios', 'contenttype': 'text', 'typingtime': 3, 'id_robot': 430, 'blocktype': 'informativo'}\n",
      "intenatando consulta...\n",
      "consulta: select * from bloqueinformativo where next_id= 'prueba_captura' and namestate= 'prueba_inicio' and contenido= 'Hola, soy un chatbot y esto es un mensaje de prueba y adios' and contenttype= 'text' and typingtime= '3' and id_robot= '430' and blocktype= 'informativo' ;\n",
      "Datos enviados:\n",
      "{'namestate': 'prueba_inicio', 'contenido': 'Hola, soy un chatbot y esto es un mensaje de prueba y adios', 'next_id': 'prueba_captura', 'blocktype': 'informativo', 'contenttype': 'text', 'typingtime': '3', 'id_block': 1294, 'id_robot': 430, 'opc_nextid': None, 'pos_y': None, 'pos_x': None, 'tag_active': None}\n"
     ]
    },
    {
     "name": "stderr",
     "output_type": "stream",
     "text": [
      "127.0.0.1 - - [18/Mar/2021 23:18:42] \"\u001b[37mPOST /insert/variables HTTP/1.1\u001b[0m\" 200 -\n",
      "127.0.0.1 - - [18/Mar/2021 23:18:42] \"\u001b[37mPOST /insert/bloqueinput HTTP/1.1\u001b[0m\" 200 -\n"
     ]
    },
    {
     "name": "stdout",
     "output_type": "stream",
     "text": [
      "Datos recibidos:\n",
      "{'name_var': 'email', 'opc_type': 'Variable', 'var': 0, 'opc_data': 'String', 'id_robot': 430}\n",
      "intenatando consulta...\n",
      "consulta: select * from variables where name_var= 'email' and opc_type= 'Variable' and var= '0' and opc_data= 'String' and id_robot= '430' ;\n",
      "Datos enviados:\n",
      "{'id_var': 1025, 'opc_type': 'Variable', 'opc_data': 'String', 'var': '0', 'id_robot': 430, 'name_var': 'email'}\n",
      "Datos recibidos:\n",
      "{'next_id': 'pruebaCorreo_01inicial_inicial', 'default_id': 'prueba_captura', 'namestate': 'prueba_captura', 'contenido': 'introduce tu correo', 'contenttype': 'text', 'typingtime': 3, 'validacion': '^[a-z0-9]+[\\\\._]?[a-z0-9]+[@]\\\\w+[.]\\\\w{2,3}$', 'id_robot': 430, 'id_var': 1025, 'blocktype': 'input'}\n",
      "intenatando consulta...\n",
      "consulta: select * from bloqueinput where next_id= 'pruebaCorreo_01inicial_inicial' and default_id= 'prueba_captura' and namestate= 'prueba_captura' and contenido= 'introduce tu correo' and contenttype= 'text' and typingtime= '3' and validacion= '^[a-z0-9]+[\\._]?[a-z0-9]+[@]\\w+[.]\\w{2,3}$' and id_robot= '430' and id_var= '1025' and blocktype= 'input' ;\n",
      "Datos enviados:\n",
      "{'namestate': 'prueba_captura', 'contenido': 'introduce tu correo', 'next_id': 'pruebaCorreo_01inicial_inicial', 'blocktype': 'input', 'contenttype': 'text', 'typingtime': '3', 'validacion': '^[a-z0-9]+[\\\\._]?[a-z0-9]+[@]\\\\w+[.]\\\\w{2,3}$', 'default_id': 'prueba_captura', 'id_var': '1025', 'id_block': 161, 'id_robot': 430, 'opc_nextid': None, 'pos_y': None, 'pos_x': None, 'tag_active': None}\n",
      "Datos recibidos:\n",
      "{'next_id': 'pruebaCorreo_01inicial_inicial', 'namestate': 'prueba_qa', 'contenido': 'Vamos a ver si no truena', 'contenttype': 'text', 'typingtime': 7, 'id_robot': 430, 'blocktype': 'informativo'}\n",
      "intenatando consulta...\n",
      "consulta: select * from bloqueinformativo where next_id= 'pruebaCorreo_01inicial_inicial' and namestate= 'prueba_qa' and contenido= 'Vamos a ver si no truena' and contenttype= 'text' and typingtime= '7' and id_robot= '430' and blocktype= 'informativo' ;\n"
     ]
    },
    {
     "name": "stderr",
     "output_type": "stream",
     "text": [
      "127.0.0.1 - - [18/Mar/2021 23:18:42] \"\u001b[37mPOST /insert/bloqueinformativo HTTP/1.1\u001b[0m\" 200 -\n",
      "127.0.0.1 - - [18/Mar/2021 23:18:42] \"\u001b[37mPOST /insert/bloqueinformativo HTTP/1.1\u001b[0m\" 200 -\n",
      "127.0.0.1 - - [18/Mar/2021 23:18:42] \"\u001b[37mPOST /insert/variables HTTP/1.1\u001b[0m\" 200 -\n"
     ]
    },
    {
     "name": "stdout",
     "output_type": "stream",
     "text": [
      "Datos enviados:\n",
      "{'namestate': 'prueba_qa', 'contenido': 'Vamos a ver si no truena', 'next_id': 'pruebaCorreo_01inicial_inicial', 'blocktype': 'informativo', 'contenttype': 'text', 'typingtime': '7', 'id_block': 1295, 'id_robot': 430, 'opc_nextid': None, 'pos_y': None, 'pos_x': None, 'tag_active': None}\n",
      "Datos recibidos:\n",
      "{'next_id': 'Salida', 'namestate': 'prueba_dos', 'contenido': 'Puedo hacer muchas cosas, entre ellas despedirme. Adios', 'contenttype': 'text', 'typingtime': 3, 'id_robot': 430, 'blocktype': 'informativo'}\n",
      "intenatando consulta...\n",
      "consulta: select * from bloqueinformativo where next_id= 'Salida' and namestate= 'prueba_dos' and contenido= 'Puedo hacer muchas cosas, entre ellas despedirme. Adios' and contenttype= 'text' and typingtime= '3' and id_robot= '430' and blocktype= 'informativo' ;\n",
      "Datos enviados:\n",
      "{'namestate': 'prueba_dos', 'contenido': 'Puedo hacer muchas cosas, entre ellas despedirme. Adios', 'next_id': 'Salida', 'blocktype': 'informativo', 'contenttype': 'text', 'typingtime': '3', 'id_block': 1296, 'id_robot': 430, 'opc_nextid': None, 'pos_y': None, 'pos_x': None, 'tag_active': None}\n",
      "Datos recibidos:\n",
      "{'name_var': 'var_case', 'opc_type': 'Variable', 'var': 0, 'opc_data': 'Numerico', 'id_robot': 430}\n",
      "intenatando consulta...\n",
      "consulta: select * from variables where name_var= 'var_case' and opc_type= 'Variable' and var= '0' and opc_data= 'Numerico' and id_robot= '430' ;\n",
      "Datos enviados:\n",
      "{'id_var': 1026, 'opc_type': 'Variable', 'opc_data': 'Numerico', 'var': '0', 'id_robot': 430, 'name_var': 'var_case'}\n",
      "Datos recibidos:\n",
      "{'contenido': '¿Cuál es tu correo?', 'opciones': 'email,otro', 'next_id': 'prueba_dos,prueba_slide', 'default_id': 'prueba_qa', 'namestate': 'pruebaCorreo_01inicial_inicial', 'typingtime': 3, 'id_robot': 430, 'id_var': 1026, 'blocktype': 'quickReply'}\n"
     ]
    },
    {
     "name": "stderr",
     "output_type": "stream",
     "text": [
      "127.0.0.1 - - [18/Mar/2021 23:18:42] \"\u001b[37mPOST /insert/bloquequickreply HTTP/1.1\u001b[0m\" 200 -\n",
      "127.0.0.1 - - [18/Mar/2021 23:18:43] \"\u001b[37mPOST /insert/variables HTTP/1.1\u001b[0m\" 200 -\n",
      "127.0.0.1 - - [18/Mar/2021 23:18:43] \"\u001b[37mPOST /insert/bloqueslide HTTP/1.1\u001b[0m\" 200 -\n"
     ]
    },
    {
     "name": "stdout",
     "output_type": "stream",
     "text": [
      "intenatando consulta...\n",
      "consulta: select * from bloquequickreply where contenido= '¿Cuál es tu correo?' and opciones= 'email,otro' and next_id= 'prueba_dos,prueba_slide' and default_id= 'prueba_qa' and namestate= 'pruebaCorreo_01inicial_inicial' and typingtime= '3' and id_robot= '430' and id_var= '1026' and blocktype= 'quickReply' ;\n",
      "Datos enviados:\n",
      "{'namestate': 'pruebaCorreo_01inicial_inicial', 'contenido': '¿Cuál es tu correo?', 'opciones': 'email,otro', 'next_id': 'prueba_dos,prueba_slide', 'blocktype': 'quickReply', 'typingtime': '3', 'default_id': 'prueba_qa', 'id_var': '1026', 'id_block': 452, 'id_robot': 430, 'opc_nextid': None, 'pos_y': None, 'pos_x': None, 'tag_active': None}\n",
      "Datos recibidos:\n",
      "{'name_var': 'var_slideMenu', 'opc_type': 'Variable', 'var': 0, 'opc_data': 'Numerico', 'id_robot': 430}\n",
      "intenatando consulta...\n",
      "consulta: select * from variables where name_var= 'var_slideMenu' and opc_type= 'Variable' and var= '0' and opc_data= 'Numerico' and id_robot= '430' ;\n",
      "Datos enviados:\n",
      "{'id_var': 1027, 'opc_type': 'Variable', 'opc_data': 'Numerico', 'var': '0', 'id_robot': 430, 'name_var': 'var_slideMenu'}\n",
      "Datos recibidos:\n",
      "{'namestate': 'prueba_slide', 'blocktype': 'slide', 'typingtime': 3, 'default_id': 'prueba_qa', 'id_var': 1027, 'id_robot': 430}\n",
      "intenatando consulta...\n",
      "consulta: select * from bloqueslide where namestate= 'prueba_slide' and blocktype= 'slide' and typingtime= '3' and default_id= 'prueba_qa' and id_var= '1027' and id_robot= '430' ;\n",
      "Datos enviados:\n",
      "{'namestate': 'prueba_slide', 'next_id': None, 'blocktype': 'slide', 'typingtime': '3', 'default_id': 'prueba_qa', 'id_var': '1027', 'id_block': 214, 'id_robot': 430, 'opc_nextid': None, 'pos_y': None, 'pos_x': None, 'opc_elm': None, 'tag_active': None}\n",
      "Datos recibidos:\n",
      "{'title': 'Prueba titulo', 'image_url': 'https://infosertecblog.files.wordpress.com/2016/08/bot-de-telegram.jpg', 'subtitle': 'Esta es una prueba de carrusel.', 'blocktype': 'slide', 'id_block': 214}\n"
     ]
    },
    {
     "name": "stderr",
     "output_type": "stream",
     "text": [
      "127.0.0.1 - - [18/Mar/2021 23:18:43] \"\u001b[37mPOST /insert/elementos HTTP/1.1\u001b[0m\" 200 -\n",
      "127.0.0.1 - - [18/Mar/2021 23:18:43] \"\u001b[37mPOST /insert/botones HTTP/1.1\u001b[0m\" 200 -\n",
      "127.0.0.1 - - [18/Mar/2021 23:18:43] \"\u001b[37mPOST /insert/botones HTTP/1.1\u001b[0m\" 200 -\n"
     ]
    },
    {
     "name": "stdout",
     "output_type": "stream",
     "text": [
      "intenatando consulta...\n",
      "consulta: select * from elementos where title= 'Prueba titulo' and image_url= 'https://infosertecblog.files.wordpress.com/2016/08/bot-de-telegram.jpg' and subtitle= 'Esta es una prueba de carrusel.' and blocktype= 'slide' and id_block= '214' ;\n",
      "Datos enviados:\n",
      "{'blocktype': 'slide', 'title': 'Prueba titulo', 'image_url': 'https://infosertecblog.files.wordpress.com/2016/08/bot-de-telegram.jpg', 'subtitle': 'Esta es una prueba de carrusel.', 'id_block': 214, 'id_elements': 453}\n",
      "Datos recibidos:\n",
      "{'id_elemento': '453', 'titlebutton': 'Boton 1', 'typebutton': 'web_url', 'contentbutton': 'https://www.youtube.com/', 'opc_nextid': 'https://www.youtube.com/'}\n",
      "intenatando consulta...\n",
      "consulta: select * from botones where id_elemento= '453' and titlebutton= 'Boton 1' and typebutton= 'web_url' and contentbutton= 'https://www.youtube.com/' and opc_nextid= 'https://www.youtube.com/' ;\n",
      "Datos enviados:\n",
      "{'id_elemento': '453', 'titlebutton': 'Boton 1', 'typebutton': 'web_url', 'contentbutton': 'https://www.youtube.com/', 'id_boton': 718, 'opc_nextid': 'https://www.youtube.com/'}\n",
      "Datos recibidos:\n",
      "{'id_elemento': '453', 'titlebutton': 'Boton 2', 'typebutton': 'web_url', 'contentbutton': 'https://www.reddit.com/', 'opc_nextid': 'https://www.reddit.com/'}\n",
      "intenatando consulta...\n",
      "consulta: select * from botones where id_elemento= '453' and titlebutton= 'Boton 2' and typebutton= 'web_url' and contentbutton= 'https://www.reddit.com/' and opc_nextid= 'https://www.reddit.com/' ;\n",
      "Datos enviados:\n",
      "{'id_elemento': '453', 'titlebutton': 'Boton 2', 'typebutton': 'web_url', 'contentbutton': 'https://www.reddit.com/', 'id_boton': 719, 'opc_nextid': 'https://www.reddit.com/'}\n"
     ]
    },
    {
     "name": "stderr",
     "output_type": "stream",
     "text": [
      "127.0.0.1 - - [18/Mar/2021 23:30:44] \"\u001b[37mGET /select/robots HTTP/1.1\u001b[0m\" 200 -\n",
      "127.0.0.1 - - [18/Mar/2021 23:30:44] \"\u001b[37mPOST /insert/robots HTTP/1.1\u001b[0m\" 200 -\n",
      "127.0.0.1 - - [18/Mar/2021 23:30:44] \"\u001b[37mPOST /insert/bloqueinformativo HTTP/1.1\u001b[0m\" 200 -\n"
     ]
    },
    {
     "name": "stdout",
     "output_type": "stream",
     "text": [
      "Datos recibidos:\n",
      "{'name_robot': 'charlybot', 'id_face': '111445520541316', 'block_ini': 'prueba_inicio', 'type_blocki': 'informativo', 'access_token': 'EAALZCCZBzPwfkBAAo7njAlW7s4DTj1ZCs5v1ung1MhEyMlJXOOtiG8r7JcBgXVPhZBHkJONyTB6jKG470UyqGPWn4aDPnisgtT2ZCZAwQIjQgZAZBufZBJXmHz6mPKSgdmP6ikDA87vocZBay2dfQdz1OYezmYbxwfILXUvXtjUMZAniQZDZD', 'id_user': 'charlygoldcruz@gmail.com', 'api_nlp': 'http://localhost:8282/'}\n",
      "intenatando consulta...\n",
      "consulta: select * from robots where id_face = '111445520541316';\n",
      "La consulta no trajo nada\n",
      "Datos enviados:\n",
      "{'error': 'true'}\n",
      "Datos recibidos:\n",
      "{'name_robot': 'charlybot', 'id_face': '111445520541316', 'block_ini': 'prueba_inicio', 'type_blocki': 'informativo', 'access_token': 'EAALZCCZBzPwfkBAAo7njAlW7s4DTj1ZCs5v1ung1MhEyMlJXOOtiG8r7JcBgXVPhZBHkJONyTB6jKG470UyqGPWn4aDPnisgtT2ZCZAwQIjQgZAZBufZBJXmHz6mPKSgdmP6ikDA87vocZBay2dfQdz1OYezmYbxwfILXUvXtjUMZAniQZDZD', 'id_user': 'charlygoldcruz@gmail.com', 'api_nlp': 'http://localhost:8282/'}\n",
      "intenatando consulta...\n",
      "consulta: select * from robots where id_face = '111445520541316';\n",
      "Datos enviados:\n",
      "{'name_robot': 'charlybot', 'id_face': '111445520541316', 'block_ini': 'prueba_inicio', 'type_blocki': 'informativo', 'access_token': 'EAALZCCZBzPwfkBAAo7njAlW7s4DTj1ZCs5v1ung1MhEyMlJXOOtiG8r7JcBgXVPhZBHkJONyTB6jKG470UyqGPWn4aDPnisgtT2ZCZAwQIjQgZAZBufZBJXmHz6mPKSgdmP6ikDA87vocZBay2dfQdz1OYezmYbxwfILXUvXtjUMZAniQZDZD', 'api_nlp': 'http://localhost:8282/', 'id_robot': 431, 'id_user': 'charlygoldcruz@gmail.com'}\n",
      "Datos recibidos:\n",
      "{'next_id': 'prueba_captura', 'namestate': 'prueba_inicio', 'contenido': 'Hola, soy un chatbot y esto es un mensaje de prueba y adios', 'contenttype': 'text', 'typingtime': 3, 'id_robot': 431, 'blocktype': 'informativo'}\n",
      "intenatando consulta...\n",
      "consulta: select * from bloqueinformativo where next_id= 'prueba_captura' and namestate= 'prueba_inicio' and contenido= 'Hola, soy un chatbot y esto es un mensaje de prueba y adios' and contenttype= 'text' and typingtime= '3' and id_robot= '431' and blocktype= 'informativo' ;\n",
      "Datos enviados:\n",
      "{'namestate': 'prueba_inicio', 'contenido': 'Hola, soy un chatbot y esto es un mensaje de prueba y adios', 'next_id': 'prueba_captura', 'blocktype': 'informativo', 'contenttype': 'text', 'typingtime': '3', 'id_block': 1297, 'id_robot': 431, 'opc_nextid': None, 'pos_y': None, 'pos_x': None, 'tag_active': None}\n"
     ]
    },
    {
     "name": "stderr",
     "output_type": "stream",
     "text": [
      "127.0.0.1 - - [18/Mar/2021 23:30:44] \"\u001b[37mPOST /insert/variables HTTP/1.1\u001b[0m\" 200 -\n",
      "127.0.0.1 - - [18/Mar/2021 23:30:44] \"\u001b[37mPOST /insert/bloqueinput HTTP/1.1\u001b[0m\" 200 -\n"
     ]
    },
    {
     "name": "stdout",
     "output_type": "stream",
     "text": [
      "Datos recibidos:\n",
      "{'name_var': 'email', 'opc_type': 'Variable', 'var': 0, 'opc_data': 'String', 'id_robot': 431}\n",
      "intenatando consulta...\n",
      "consulta: select * from variables where name_var= 'email' and opc_type= 'Variable' and var= '0' and opc_data= 'String' and id_robot= '431' ;\n",
      "Datos enviados:\n",
      "{'id_var': 1028, 'opc_type': 'Variable', 'opc_data': 'String', 'var': '0', 'id_robot': 431, 'name_var': 'email'}\n",
      "Datos recibidos:\n",
      "{'next_id': 'pruebaCorreo_01inicial_inicial', 'default_id': 'prueba_captura', 'namestate': 'prueba_captura', 'contenido': 'introduce tu correo', 'contenttype': 'text', 'typingtime': 3, 'validacion': '^[a-z0-9]+[\\\\._]?[a-z0-9]+[@]\\\\w+[.]\\\\w{2,3}$', 'id_robot': 431, 'id_var': 1028, 'blocktype': 'input'}\n",
      "intenatando consulta...\n",
      "consulta: select * from bloqueinput where next_id= 'pruebaCorreo_01inicial_inicial' and default_id= 'prueba_captura' and namestate= 'prueba_captura' and contenido= 'introduce tu correo' and contenttype= 'text' and typingtime= '3' and validacion= '^[a-z0-9]+[\\._]?[a-z0-9]+[@]\\w+[.]\\w{2,3}$' and id_robot= '431' and id_var= '1028' and blocktype= 'input' ;\n",
      "Datos enviados:\n",
      "{'namestate': 'prueba_captura', 'contenido': 'introduce tu correo', 'next_id': 'pruebaCorreo_01inicial_inicial', 'blocktype': 'input', 'contenttype': 'text', 'typingtime': '3', 'validacion': '^[a-z0-9]+[\\\\._]?[a-z0-9]+[@]\\\\w+[.]\\\\w{2,3}$', 'default_id': 'prueba_captura', 'id_var': '1028', 'id_block': 162, 'id_robot': 431, 'opc_nextid': None, 'pos_y': None, 'pos_x': None, 'tag_active': None}\n",
      "Datos recibidos:\n",
      "{'next_id': 'pruebaCorreo_01inicial_inicial', 'namestate': 'prueba_qa', 'contenido': 'Vamos a ver si no truena', 'contenttype': 'text', 'typingtime': 7, 'id_robot': 431, 'blocktype': 'informativo'}\n"
     ]
    },
    {
     "name": "stderr",
     "output_type": "stream",
     "text": [
      "127.0.0.1 - - [18/Mar/2021 23:30:44] \"\u001b[37mPOST /insert/bloqueinformativo HTTP/1.1\u001b[0m\" 200 -\n",
      "127.0.0.1 - - [18/Mar/2021 23:30:44] \"\u001b[37mPOST /insert/bloqueinformativo HTTP/1.1\u001b[0m\" 200 -\n",
      "127.0.0.1 - - [18/Mar/2021 23:30:45] \"\u001b[37mPOST /insert/variables HTTP/1.1\u001b[0m\" 200 -\n"
     ]
    },
    {
     "name": "stdout",
     "output_type": "stream",
     "text": [
      "intenatando consulta...\n",
      "consulta: select * from bloqueinformativo where next_id= 'pruebaCorreo_01inicial_inicial' and namestate= 'prueba_qa' and contenido= 'Vamos a ver si no truena' and contenttype= 'text' and typingtime= '7' and id_robot= '431' and blocktype= 'informativo' ;\n",
      "Datos enviados:\n",
      "{'namestate': 'prueba_qa', 'contenido': 'Vamos a ver si no truena', 'next_id': 'pruebaCorreo_01inicial_inicial', 'blocktype': 'informativo', 'contenttype': 'text', 'typingtime': '7', 'id_block': 1298, 'id_robot': 431, 'opc_nextid': None, 'pos_y': None, 'pos_x': None, 'tag_active': None}\n",
      "Datos recibidos:\n",
      "{'next_id': 'Salida', 'namestate': 'prueba_dos', 'contenido': 'Puedo hacer muchas cosas, entre ellas despedirme. Adios', 'contenttype': 'text', 'typingtime': 3, 'id_robot': 431, 'blocktype': 'informativo'}\n",
      "intenatando consulta...\n",
      "consulta: select * from bloqueinformativo where next_id= 'Salida' and namestate= 'prueba_dos' and contenido= 'Puedo hacer muchas cosas, entre ellas despedirme. Adios' and contenttype= 'text' and typingtime= '3' and id_robot= '431' and blocktype= 'informativo' ;\n",
      "Datos enviados:\n",
      "{'namestate': 'prueba_dos', 'contenido': 'Puedo hacer muchas cosas, entre ellas despedirme. Adios', 'next_id': 'Salida', 'blocktype': 'informativo', 'contenttype': 'text', 'typingtime': '3', 'id_block': 1299, 'id_robot': 431, 'opc_nextid': None, 'pos_y': None, 'pos_x': None, 'tag_active': None}\n",
      "Datos recibidos:\n",
      "{'name_var': 'var_case', 'opc_type': 'Variable', 'var': 0, 'opc_data': 'Numerico', 'id_robot': 431}\n",
      "intenatando consulta...\n",
      "consulta: select * from variables where name_var= 'var_case' and opc_type= 'Variable' and var= '0' and opc_data= 'Numerico' and id_robot= '431' ;\n",
      "Datos enviados:\n",
      "{'id_var': 1029, 'opc_type': 'Variable', 'opc_data': 'Numerico', 'var': '0', 'id_robot': 431, 'name_var': 'var_case'}\n",
      "Datos recibidos:\n",
      "{'contenido': '¿Cuál es tu correo?', 'opciones': 'email,otro', 'next_id': 'prueba_dos,prueba_slide', 'default_id': 'prueba_qa', 'namestate': 'pruebaCorreo_01inicial_inicial', 'typingtime': 3, 'id_robot': 431, 'id_var': 1029, 'blocktype': 'quickReply'}\n"
     ]
    },
    {
     "name": "stderr",
     "output_type": "stream",
     "text": [
      "127.0.0.1 - - [18/Mar/2021 23:30:45] \"\u001b[37mPOST /insert/bloquequickreply HTTP/1.1\u001b[0m\" 200 -\n",
      "127.0.0.1 - - [18/Mar/2021 23:30:45] \"\u001b[37mPOST /insert/variables HTTP/1.1\u001b[0m\" 200 -\n",
      "127.0.0.1 - - [18/Mar/2021 23:30:45] \"\u001b[37mPOST /insert/bloqueslide HTTP/1.1\u001b[0m\" 200 -\n"
     ]
    },
    {
     "name": "stdout",
     "output_type": "stream",
     "text": [
      "intenatando consulta...\n",
      "consulta: select * from bloquequickreply where contenido= '¿Cuál es tu correo?' and opciones= 'email,otro' and next_id= 'prueba_dos,prueba_slide' and default_id= 'prueba_qa' and namestate= 'pruebaCorreo_01inicial_inicial' and typingtime= '3' and id_robot= '431' and id_var= '1029' and blocktype= 'quickReply' ;\n",
      "Datos enviados:\n",
      "{'namestate': 'pruebaCorreo_01inicial_inicial', 'contenido': '¿Cuál es tu correo?', 'opciones': 'email,otro', 'next_id': 'prueba_dos,prueba_slide', 'blocktype': 'quickReply', 'typingtime': '3', 'default_id': 'prueba_qa', 'id_var': '1029', 'id_block': 453, 'id_robot': 431, 'opc_nextid': None, 'pos_y': None, 'pos_x': None, 'tag_active': None}\n",
      "Datos recibidos:\n",
      "{'name_var': 'var_slideMenu', 'opc_type': 'Variable', 'var': 0, 'opc_data': 'Numerico', 'id_robot': 431}\n",
      "intenatando consulta...\n",
      "consulta: select * from variables where name_var= 'var_slideMenu' and opc_type= 'Variable' and var= '0' and opc_data= 'Numerico' and id_robot= '431' ;\n",
      "Datos enviados:\n",
      "{'id_var': 1030, 'opc_type': 'Variable', 'opc_data': 'Numerico', 'var': '0', 'id_robot': 431, 'name_var': 'var_slideMenu'}\n",
      "Datos recibidos:\n",
      "{'namestate': 'prueba_slide', 'blocktype': 'slide', 'typingtime': 3, 'default_id': 'prueba_qa', 'id_var': 1030, 'id_robot': 431}\n",
      "intenatando consulta...\n",
      "consulta: select * from bloqueslide where namestate= 'prueba_slide' and blocktype= 'slide' and typingtime= '3' and default_id= 'prueba_qa' and id_var= '1030' and id_robot= '431' ;\n",
      "Datos enviados:\n",
      "{'namestate': 'prueba_slide', 'next_id': None, 'blocktype': 'slide', 'typingtime': '3', 'default_id': 'prueba_qa', 'id_var': '1030', 'id_block': 215, 'id_robot': 431, 'opc_nextid': None, 'pos_y': None, 'pos_x': None, 'opc_elm': None, 'tag_active': None}\n",
      "Datos recibidos:\n",
      "{'title': 'Prueba titulo', 'image_url': 'https://infosertecblog.files.wordpress.com/2016/08/bot-de-telegram.jpg', 'subtitle': 'Esta es una prueba de carrusel.', 'blocktype': 'slide', 'id_block': 215}\n"
     ]
    },
    {
     "name": "stderr",
     "output_type": "stream",
     "text": [
      "127.0.0.1 - - [18/Mar/2021 23:30:45] \"\u001b[37mPOST /insert/elementos HTTP/1.1\u001b[0m\" 200 -\n",
      "127.0.0.1 - - [18/Mar/2021 23:30:45] \"\u001b[37mPOST /insert/botones HTTP/1.1\u001b[0m\" 200 -\n",
      "127.0.0.1 - - [18/Mar/2021 23:30:45] \"\u001b[37mPOST /insert/botones HTTP/1.1\u001b[0m\" 200 -\n"
     ]
    },
    {
     "name": "stdout",
     "output_type": "stream",
     "text": [
      "intenatando consulta...\n",
      "consulta: select * from elementos where title= 'Prueba titulo' and image_url= 'https://infosertecblog.files.wordpress.com/2016/08/bot-de-telegram.jpg' and subtitle= 'Esta es una prueba de carrusel.' and blocktype= 'slide' and id_block= '215' ;\n",
      "Datos enviados:\n",
      "{'blocktype': 'slide', 'title': 'Prueba titulo', 'image_url': 'https://infosertecblog.files.wordpress.com/2016/08/bot-de-telegram.jpg', 'subtitle': 'Esta es una prueba de carrusel.', 'id_block': 215, 'id_elements': 454}\n",
      "Datos recibidos:\n",
      "{'id_elemento': '454', 'titlebutton': 'Boton 1', 'typebutton': 'web_url', 'contentbutton': 'https://www.youtube.com/', 'opc_nextid': 'https://www.youtube.com/'}\n",
      "intenatando consulta...\n",
      "consulta: select * from botones where id_elemento= '454' and titlebutton= 'Boton 1' and typebutton= 'web_url' and contentbutton= 'https://www.youtube.com/' and opc_nextid= 'https://www.youtube.com/' ;\n",
      "Datos enviados:\n",
      "{'id_elemento': '454', 'titlebutton': 'Boton 1', 'typebutton': 'web_url', 'contentbutton': 'https://www.youtube.com/', 'id_boton': 720, 'opc_nextid': 'https://www.youtube.com/'}\n",
      "Datos recibidos:\n",
      "{'id_elemento': '454', 'titlebutton': 'Boton 2', 'typebutton': 'web_url', 'contentbutton': 'https://www.reddit.com/', 'opc_nextid': 'https://www.reddit.com/'}\n",
      "intenatando consulta...\n",
      "consulta: select * from botones where id_elemento= '454' and titlebutton= 'Boton 2' and typebutton= 'web_url' and contentbutton= 'https://www.reddit.com/' and opc_nextid= 'https://www.reddit.com/' ;\n",
      "Datos enviados:\n",
      "{'id_elemento': '454', 'titlebutton': 'Boton 2', 'typebutton': 'web_url', 'contentbutton': 'https://www.reddit.com/', 'id_boton': 721, 'opc_nextid': 'https://www.reddit.com/'}\n"
     ]
    },
    {
     "name": "stderr",
     "output_type": "stream",
     "text": [
      "127.0.0.1 - - [18/Mar/2021 23:33:04] \"\u001b[37mGET /select/robots HTTP/1.1\u001b[0m\" 200 -\n",
      "127.0.0.1 - - [18/Mar/2021 23:33:04] \"\u001b[37mPOST /insert/robots HTTP/1.1\u001b[0m\" 200 -\n"
     ]
    },
    {
     "name": "stdout",
     "output_type": "stream",
     "text": [
      "Datos recibidos:\n",
      "{'name_robot': 'charlybot', 'id_face': '111445520541316', 'block_ini': 'prueba_inicio', 'type_blocki': 'informativo', 'access_token': 'EAALZCCZBzPwfkBAAo7njAlW7s4DTj1ZCs5v1ung1MhEyMlJXOOtiG8r7JcBgXVPhZBHkJONyTB6jKG470UyqGPWn4aDPnisgtT2ZCZAwQIjQgZAZBufZBJXmHz6mPKSgdmP6ikDA87vocZBay2dfQdz1OYezmYbxwfILXUvXtjUMZAniQZDZD', 'id_user': 'charlygoldcruz@gmail.com', 'api_nlp': 'http://localhost:8282/'}\n",
      "intenatando consulta...\n",
      "consulta: select * from robots where id_face = '111445520541316';\n",
      "La consulta no trajo nada\n",
      "Datos enviados:\n",
      "{'error': 'true'}\n",
      "Datos recibidos:\n",
      "{'name_robot': 'charlybot', 'id_face': '111445520541316', 'block_ini': 'prueba_inicio', 'type_blocki': 'informativo', 'access_token': 'EAALZCCZBzPwfkBAAo7njAlW7s4DTj1ZCs5v1ung1MhEyMlJXOOtiG8r7JcBgXVPhZBHkJONyTB6jKG470UyqGPWn4aDPnisgtT2ZCZAwQIjQgZAZBufZBJXmHz6mPKSgdmP6ikDA87vocZBay2dfQdz1OYezmYbxwfILXUvXtjUMZAniQZDZD', 'id_user': 'charlygoldcruz@gmail.com', 'api_nlp': 'http://localhost:8282/'}\n",
      "intenatando consulta...\n",
      "consulta: select * from robots where id_face = '111445520541316';\n",
      "Datos enviados:\n",
      "{'name_robot': 'charlybot', 'id_face': '111445520541316', 'block_ini': 'prueba_inicio', 'type_blocki': 'informativo', 'access_token': 'EAALZCCZBzPwfkBAAo7njAlW7s4DTj1ZCs5v1ung1MhEyMlJXOOtiG8r7JcBgXVPhZBHkJONyTB6jKG470UyqGPWn4aDPnisgtT2ZCZAwQIjQgZAZBufZBJXmHz6mPKSgdmP6ikDA87vocZBay2dfQdz1OYezmYbxwfILXUvXtjUMZAniQZDZD', 'api_nlp': 'http://localhost:8282/', 'id_robot': 432, 'id_user': 'charlygoldcruz@gmail.com'}\n",
      "Datos recibidos:\n",
      "{'next_id': 'prueba_captura', 'namestate': 'prueba_inicio', 'contenido': 'Hola, soy un chatbot y esto es un mensaje de prueba y adios', 'contenttype': 'text', 'typingtime': 3, 'id_robot': 432, 'blocktype': 'informativo'}\n",
      "intenatando consulta...\n",
      "consulta: select * from bloqueinformativo where next_id= 'prueba_captura' and namestate= 'prueba_inicio' and contenido= 'Hola, soy un chatbot y esto es un mensaje de prueba y adios' and contenttype= 'text' and typingtime= '3' and id_robot= '432' and blocktype= 'informativo' ;\n"
     ]
    },
    {
     "name": "stderr",
     "output_type": "stream",
     "text": [
      "127.0.0.1 - - [18/Mar/2021 23:33:05] \"\u001b[37mPOST /insert/bloqueinformativo HTTP/1.1\u001b[0m\" 200 -\n",
      "127.0.0.1 - - [18/Mar/2021 23:33:05] \"\u001b[37mPOST /insert/variables HTTP/1.1\u001b[0m\" 200 -\n",
      "127.0.0.1 - - [18/Mar/2021 23:33:05] \"\u001b[37mPOST /insert/bloqueinput HTTP/1.1\u001b[0m\" 200 -\n"
     ]
    },
    {
     "name": "stdout",
     "output_type": "stream",
     "text": [
      "Datos enviados:\n",
      "{'namestate': 'prueba_inicio', 'contenido': 'Hola, soy un chatbot y esto es un mensaje de prueba y adios', 'next_id': 'prueba_captura', 'blocktype': 'informativo', 'contenttype': 'text', 'typingtime': '3', 'id_block': 1300, 'id_robot': 432, 'opc_nextid': None, 'pos_y': None, 'pos_x': None, 'tag_active': None}\n",
      "Datos recibidos:\n",
      "{'name_var': 'email', 'opc_type': 'Variable', 'var': 0, 'opc_data': 'String', 'id_robot': 432}\n",
      "intenatando consulta...\n",
      "consulta: select * from variables where name_var= 'email' and opc_type= 'Variable' and var= '0' and opc_data= 'String' and id_robot= '432' ;\n",
      "Datos enviados:\n",
      "{'id_var': 1031, 'opc_type': 'Variable', 'opc_data': 'String', 'var': '0', 'id_robot': 432, 'name_var': 'email'}\n",
      "Datos recibidos:\n",
      "{'next_id': 'pruebaCorreo_01inicial_inicial', 'default_id': 'prueba_captura', 'namestate': 'prueba_captura', 'contenido': 'introduce tu correo', 'contenttype': 'text', 'typingtime': 3, 'validacion': '^[a-z0-9]+[\\\\._]?[a-z0-9]+[@]\\\\w+[.]\\\\w{2,3}$', 'id_robot': 432, 'id_var': 1031, 'blocktype': 'input'}\n",
      "intenatando consulta...\n",
      "consulta: select * from bloqueinput where next_id= 'pruebaCorreo_01inicial_inicial' and default_id= 'prueba_captura' and namestate= 'prueba_captura' and contenido= 'introduce tu correo' and contenttype= 'text' and typingtime= '3' and validacion= '^[a-z0-9]+[\\._]?[a-z0-9]+[@]\\w+[.]\\w{2,3}$' and id_robot= '432' and id_var= '1031' and blocktype= 'input' ;\n",
      "Datos enviados:\n",
      "{'namestate': 'prueba_captura', 'contenido': 'introduce tu correo', 'next_id': 'pruebaCorreo_01inicial_inicial', 'blocktype': 'input', 'contenttype': 'text', 'typingtime': '3', 'validacion': '^[a-z0-9]+[\\\\._]?[a-z0-9]+[@]\\\\w+[.]\\\\w{2,3}$', 'default_id': 'prueba_captura', 'id_var': '1031', 'id_block': 163, 'id_robot': 432, 'opc_nextid': None, 'pos_y': None, 'pos_x': None, 'tag_active': None}\n",
      "Datos recibidos:\n",
      "{'next_id': 'pruebaCorreo_01inicial_inicial', 'namestate': 'prueba_qa', 'contenido': 'Vamos a ver si no truena', 'contenttype': 'text', 'typingtime': 7, 'id_robot': 432, 'blocktype': 'informativo'}\n"
     ]
    },
    {
     "name": "stderr",
     "output_type": "stream",
     "text": [
      "127.0.0.1 - - [18/Mar/2021 23:33:05] \"\u001b[37mPOST /insert/bloqueinformativo HTTP/1.1\u001b[0m\" 200 -\n",
      "127.0.0.1 - - [18/Mar/2021 23:33:05] \"\u001b[37mPOST /insert/bloqueinformativo HTTP/1.1\u001b[0m\" 200 -\n",
      "127.0.0.1 - - [18/Mar/2021 23:33:05] \"\u001b[37mPOST /insert/variables HTTP/1.1\u001b[0m\" 200 -\n"
     ]
    },
    {
     "name": "stdout",
     "output_type": "stream",
     "text": [
      "intenatando consulta...\n",
      "consulta: select * from bloqueinformativo where next_id= 'pruebaCorreo_01inicial_inicial' and namestate= 'prueba_qa' and contenido= 'Vamos a ver si no truena' and contenttype= 'text' and typingtime= '7' and id_robot= '432' and blocktype= 'informativo' ;\n",
      "Datos enviados:\n",
      "{'namestate': 'prueba_qa', 'contenido': 'Vamos a ver si no truena', 'next_id': 'pruebaCorreo_01inicial_inicial', 'blocktype': 'informativo', 'contenttype': 'text', 'typingtime': '7', 'id_block': 1301, 'id_robot': 432, 'opc_nextid': None, 'pos_y': None, 'pos_x': None, 'tag_active': None}\n",
      "Datos recibidos:\n",
      "{'next_id': 'Salida', 'namestate': 'prueba_dos', 'contenido': 'Puedo hacer muchas cosas, entre ellas despedirme. Adios', 'contenttype': 'text', 'typingtime': 3, 'id_robot': 432, 'blocktype': 'informativo'}\n",
      "intenatando consulta...\n",
      "consulta: select * from bloqueinformativo where next_id= 'Salida' and namestate= 'prueba_dos' and contenido= 'Puedo hacer muchas cosas, entre ellas despedirme. Adios' and contenttype= 'text' and typingtime= '3' and id_robot= '432' and blocktype= 'informativo' ;\n",
      "Datos enviados:\n",
      "{'namestate': 'prueba_dos', 'contenido': 'Puedo hacer muchas cosas, entre ellas despedirme. Adios', 'next_id': 'Salida', 'blocktype': 'informativo', 'contenttype': 'text', 'typingtime': '3', 'id_block': 1302, 'id_robot': 432, 'opc_nextid': None, 'pos_y': None, 'pos_x': None, 'tag_active': None}\n",
      "Datos recibidos:\n",
      "{'name_var': 'var_case', 'opc_type': 'Variable', 'var': 0, 'opc_data': 'Numerico', 'id_robot': 432}\n",
      "intenatando consulta...\n",
      "consulta: select * from variables where name_var= 'var_case' and opc_type= 'Variable' and var= '0' and opc_data= 'Numerico' and id_robot= '432' ;\n",
      "Datos enviados:\n",
      "{'id_var': 1032, 'opc_type': 'Variable', 'opc_data': 'Numerico', 'var': '0', 'id_robot': 432, 'name_var': 'var_case'}\n",
      "Datos recibidos:\n",
      "{'contenido': '¿Cuál es tu correo?', 'opciones': 'email,otro', 'next_id': 'prueba_dos,prueba_slide', 'default_id': 'prueba_qa', 'namestate': 'pruebaCorreo_01inicial_inicial', 'typingtime': 3, 'id_robot': 432, 'id_var': 1032, 'blocktype': 'quickReply'}\n"
     ]
    },
    {
     "name": "stderr",
     "output_type": "stream",
     "text": [
      "127.0.0.1 - - [18/Mar/2021 23:33:05] \"\u001b[37mPOST /insert/bloquequickreply HTTP/1.1\u001b[0m\" 200 -\n",
      "127.0.0.1 - - [18/Mar/2021 23:33:05] \"\u001b[37mPOST /insert/variables HTTP/1.1\u001b[0m\" 200 -\n",
      "127.0.0.1 - - [18/Mar/2021 23:33:05] \"\u001b[37mPOST /insert/bloqueslide HTTP/1.1\u001b[0m\" 200 -\n"
     ]
    },
    {
     "name": "stdout",
     "output_type": "stream",
     "text": [
      "intenatando consulta...\n",
      "consulta: select * from bloquequickreply where contenido= '¿Cuál es tu correo?' and opciones= 'email,otro' and next_id= 'prueba_dos,prueba_slide' and default_id= 'prueba_qa' and namestate= 'pruebaCorreo_01inicial_inicial' and typingtime= '3' and id_robot= '432' and id_var= '1032' and blocktype= 'quickReply' ;\n",
      "Datos enviados:\n",
      "{'namestate': 'pruebaCorreo_01inicial_inicial', 'contenido': '¿Cuál es tu correo?', 'opciones': 'email,otro', 'next_id': 'prueba_dos,prueba_slide', 'blocktype': 'quickReply', 'typingtime': '3', 'default_id': 'prueba_qa', 'id_var': '1032', 'id_block': 454, 'id_robot': 432, 'opc_nextid': None, 'pos_y': None, 'pos_x': None, 'tag_active': None}\n",
      "Datos recibidos:\n",
      "{'name_var': 'var_slideMenu', 'opc_type': 'Variable', 'var': 0, 'opc_data': 'Numerico', 'id_robot': 432}\n",
      "intenatando consulta...\n",
      "consulta: select * from variables where name_var= 'var_slideMenu' and opc_type= 'Variable' and var= '0' and opc_data= 'Numerico' and id_robot= '432' ;\n",
      "Datos enviados:\n",
      "{'id_var': 1033, 'opc_type': 'Variable', 'opc_data': 'Numerico', 'var': '0', 'id_robot': 432, 'name_var': 'var_slideMenu'}\n",
      "Datos recibidos:\n",
      "{'namestate': 'prueba_slide', 'blocktype': 'slide', 'typingtime': 3, 'default_id': 'prueba_qa', 'id_var': 1033, 'id_robot': 432}\n",
      "intenatando consulta...\n",
      "consulta: select * from bloqueslide where namestate= 'prueba_slide' and blocktype= 'slide' and typingtime= '3' and default_id= 'prueba_qa' and id_var= '1033' and id_robot= '432' ;\n",
      "Datos enviados:\n",
      "{'namestate': 'prueba_slide', 'next_id': None, 'blocktype': 'slide', 'typingtime': '3', 'default_id': 'prueba_qa', 'id_var': '1033', 'id_block': 216, 'id_robot': 432, 'opc_nextid': None, 'pos_y': None, 'pos_x': None, 'opc_elm': None, 'tag_active': None}\n",
      "Datos recibidos:\n",
      "{'title': 'Prueba titulo', 'image_url': 'https://infosertecblog.files.wordpress.com/2016/08/bot-de-telegram.jpg', 'subtitle': 'Esta es una prueba de carrusel.', 'blocktype': 'slide', 'id_block': 216}\n"
     ]
    },
    {
     "name": "stderr",
     "output_type": "stream",
     "text": [
      "127.0.0.1 - - [18/Mar/2021 23:33:05] \"\u001b[37mPOST /insert/elementos HTTP/1.1\u001b[0m\" 200 -\n",
      "127.0.0.1 - - [18/Mar/2021 23:33:05] \"\u001b[37mPOST /insert/botones HTTP/1.1\u001b[0m\" 200 -\n",
      "127.0.0.1 - - [18/Mar/2021 23:33:05] \"\u001b[37mPOST /insert/botones HTTP/1.1\u001b[0m\" 200 -\n"
     ]
    },
    {
     "name": "stdout",
     "output_type": "stream",
     "text": [
      "intenatando consulta...\n",
      "consulta: select * from elementos where title= 'Prueba titulo' and image_url= 'https://infosertecblog.files.wordpress.com/2016/08/bot-de-telegram.jpg' and subtitle= 'Esta es una prueba de carrusel.' and blocktype= 'slide' and id_block= '216' ;\n",
      "Datos enviados:\n",
      "{'blocktype': 'slide', 'title': 'Prueba titulo', 'image_url': 'https://infosertecblog.files.wordpress.com/2016/08/bot-de-telegram.jpg', 'subtitle': 'Esta es una prueba de carrusel.', 'id_block': 216, 'id_elements': 455}\n",
      "Datos recibidos:\n",
      "{'id_elemento': '455', 'titlebutton': 'Boton 1', 'typebutton': 'web_url', 'contentbutton': 'https://www.youtube.com/', 'opc_nextid': 'https://www.youtube.com/'}\n",
      "intenatando consulta...\n",
      "consulta: select * from botones where id_elemento= '455' and titlebutton= 'Boton 1' and typebutton= 'web_url' and contentbutton= 'https://www.youtube.com/' and opc_nextid= 'https://www.youtube.com/' ;\n",
      "Datos enviados:\n",
      "{'id_elemento': '455', 'titlebutton': 'Boton 1', 'typebutton': 'web_url', 'contentbutton': 'https://www.youtube.com/', 'id_boton': 722, 'opc_nextid': 'https://www.youtube.com/'}\n",
      "Datos recibidos:\n",
      "{'id_elemento': '455', 'titlebutton': 'Boton 2', 'typebutton': 'web_url', 'contentbutton': 'https://www.reddit.com/', 'opc_nextid': 'https://www.reddit.com/'}\n",
      "intenatando consulta...\n",
      "consulta: select * from botones where id_elemento= '455' and titlebutton= 'Boton 2' and typebutton= 'web_url' and contentbutton= 'https://www.reddit.com/' and opc_nextid= 'https://www.reddit.com/' ;\n",
      "Datos enviados:\n",
      "{'id_elemento': '455', 'titlebutton': 'Boton 2', 'typebutton': 'web_url', 'contentbutton': 'https://www.reddit.com/', 'id_boton': 723, 'opc_nextid': 'https://www.reddit.com/'}\n"
     ]
    },
    {
     "name": "stderr",
     "output_type": "stream",
     "text": [
      "127.0.0.1 - - [18/Mar/2021 23:37:53] \"\u001b[37mGET /select/robots HTTP/1.1\u001b[0m\" 200 -\n",
      "127.0.0.1 - - [18/Mar/2021 23:37:53] \"\u001b[37mPOST /insert/robots HTTP/1.1\u001b[0m\" 200 -\n",
      "127.0.0.1 - - [18/Mar/2021 23:37:53] \"\u001b[37mPOST /insert/bloqueinformativo HTTP/1.1\u001b[0m\" 200 -\n"
     ]
    },
    {
     "name": "stdout",
     "output_type": "stream",
     "text": [
      "Datos recibidos:\n",
      "{'name_robot': 'charlybot', 'id_face': '111445520541316', 'block_ini': 'prueba_inicio', 'type_blocki': 'informativo', 'access_token': 'EAALZCCZBzPwfkBAAo7njAlW7s4DTj1ZCs5v1ung1MhEyMlJXOOtiG8r7JcBgXVPhZBHkJONyTB6jKG470UyqGPWn4aDPnisgtT2ZCZAwQIjQgZAZBufZBJXmHz6mPKSgdmP6ikDA87vocZBay2dfQdz1OYezmYbxwfILXUvXtjUMZAniQZDZD', 'id_user': 'charlygoldcruz@gmail.com', 'api_nlp': 'http://localhost:8282/'}\n",
      "intenatando consulta...\n",
      "consulta: select * from robots where id_face = '111445520541316';\n",
      "La consulta no trajo nada\n",
      "Datos enviados:\n",
      "{'error': 'true'}\n",
      "Datos recibidos:\n",
      "{'name_robot': 'charlybot', 'id_face': '111445520541316', 'block_ini': 'prueba_inicio', 'type_blocki': 'informativo', 'access_token': 'EAALZCCZBzPwfkBAAo7njAlW7s4DTj1ZCs5v1ung1MhEyMlJXOOtiG8r7JcBgXVPhZBHkJONyTB6jKG470UyqGPWn4aDPnisgtT2ZCZAwQIjQgZAZBufZBJXmHz6mPKSgdmP6ikDA87vocZBay2dfQdz1OYezmYbxwfILXUvXtjUMZAniQZDZD', 'id_user': 'charlygoldcruz@gmail.com', 'api_nlp': 'http://localhost:8282/'}\n",
      "intenatando consulta...\n",
      "consulta: select * from robots where id_face = '111445520541316';\n",
      "Datos enviados:\n",
      "{'name_robot': 'charlybot', 'id_face': '111445520541316', 'block_ini': 'prueba_inicio', 'type_blocki': 'informativo', 'access_token': 'EAALZCCZBzPwfkBAAo7njAlW7s4DTj1ZCs5v1ung1MhEyMlJXOOtiG8r7JcBgXVPhZBHkJONyTB6jKG470UyqGPWn4aDPnisgtT2ZCZAwQIjQgZAZBufZBJXmHz6mPKSgdmP6ikDA87vocZBay2dfQdz1OYezmYbxwfILXUvXtjUMZAniQZDZD', 'api_nlp': 'http://localhost:8282/', 'id_robot': 433, 'id_user': 'charlygoldcruz@gmail.com'}\n",
      "Datos recibidos:\n",
      "{'next_id': 'prueba_captura', 'namestate': 'prueba_inicio', 'contenido': 'Hola, soy un chatbot y esto es un mensaje de prueba y adios', 'contenttype': 'text', 'typingtime': 3, 'id_robot': 433, 'blocktype': 'informativo'}\n",
      "intenatando consulta...\n",
      "consulta: select * from bloqueinformativo where next_id= 'prueba_captura' and namestate= 'prueba_inicio' and contenido= 'Hola, soy un chatbot y esto es un mensaje de prueba y adios' and contenttype= 'text' and typingtime= '3' and id_robot= '433' and blocktype= 'informativo' ;\n",
      "Datos enviados:\n",
      "{'namestate': 'prueba_inicio', 'contenido': 'Hola, soy un chatbot y esto es un mensaje de prueba y adios', 'next_id': 'prueba_captura', 'blocktype': 'informativo', 'contenttype': 'text', 'typingtime': '3', 'id_block': 1303, 'id_robot': 433, 'opc_nextid': None, 'pos_y': None, 'pos_x': None, 'tag_active': None}\n",
      "Datos recibidos:\n",
      "{'name_var': 'email', 'opc_type': 'Variable', 'var': 0, 'opc_data': 'String', 'id_robot': 433}\n"
     ]
    },
    {
     "name": "stderr",
     "output_type": "stream",
     "text": [
      "127.0.0.1 - - [18/Mar/2021 23:37:53] \"\u001b[37mPOST /insert/variables HTTP/1.1\u001b[0m\" 200 -\n",
      "127.0.0.1 - - [18/Mar/2021 23:37:53] \"\u001b[37mPOST /insert/bloqueinput HTTP/1.1\u001b[0m\" 200 -\n",
      "127.0.0.1 - - [18/Mar/2021 23:37:53] \"\u001b[37mPOST /insert/bloqueinformativo HTTP/1.1\u001b[0m\" 200 -\n"
     ]
    },
    {
     "name": "stdout",
     "output_type": "stream",
     "text": [
      "intenatando consulta...\n",
      "consulta: select * from variables where name_var= 'email' and opc_type= 'Variable' and var= '0' and opc_data= 'String' and id_robot= '433' ;\n",
      "Datos enviados:\n",
      "{'id_var': 1034, 'opc_type': 'Variable', 'opc_data': 'String', 'var': '0', 'id_robot': 433, 'name_var': 'email'}\n",
      "Datos recibidos:\n",
      "{'next_id': 'pruebaCorreo_01inicial_inicial', 'default_id': 'prueba_captura', 'namestate': 'prueba_captura', 'contenido': 'introduce tu correo', 'contenttype': 'text', 'typingtime': 3, 'validacion': '^[a-z0-9]+[\\\\._]?[a-z0-9]+[@]\\\\w+[.]\\\\w{2,3}$', 'id_robot': 433, 'id_var': 1034, 'blocktype': 'input'}\n",
      "intenatando consulta...\n",
      "consulta: select * from bloqueinput where next_id= 'pruebaCorreo_01inicial_inicial' and default_id= 'prueba_captura' and namestate= 'prueba_captura' and contenido= 'introduce tu correo' and contenttype= 'text' and typingtime= '3' and validacion= '^[a-z0-9]+[\\._]?[a-z0-9]+[@]\\w+[.]\\w{2,3}$' and id_robot= '433' and id_var= '1034' and blocktype= 'input' ;\n",
      "Datos enviados:\n",
      "{'namestate': 'prueba_captura', 'contenido': 'introduce tu correo', 'next_id': 'pruebaCorreo_01inicial_inicial', 'blocktype': 'input', 'contenttype': 'text', 'typingtime': '3', 'validacion': '^[a-z0-9]+[\\\\._]?[a-z0-9]+[@]\\\\w+[.]\\\\w{2,3}$', 'default_id': 'prueba_captura', 'id_var': '1034', 'id_block': 164, 'id_robot': 433, 'opc_nextid': None, 'pos_y': None, 'pos_x': None, 'tag_active': None}\n",
      "Datos recibidos:\n",
      "{'next_id': 'pruebaCorreo_01inicial_inicial', 'namestate': 'prueba_qa', 'contenido': 'Vamos a ver si no truena', 'contenttype': 'text', 'typingtime': 7, 'id_robot': 433, 'blocktype': 'informativo'}\n",
      "intenatando consulta...\n",
      "consulta: select * from bloqueinformativo where next_id= 'pruebaCorreo_01inicial_inicial' and namestate= 'prueba_qa' and contenido= 'Vamos a ver si no truena' and contenttype= 'text' and typingtime= '7' and id_robot= '433' and blocktype= 'informativo' ;\n",
      "Datos enviados:\n",
      "{'namestate': 'prueba_qa', 'contenido': 'Vamos a ver si no truena', 'next_id': 'pruebaCorreo_01inicial_inicial', 'blocktype': 'informativo', 'contenttype': 'text', 'typingtime': '7', 'id_block': 1304, 'id_robot': 433, 'opc_nextid': None, 'pos_y': None, 'pos_x': None, 'tag_active': None}\n"
     ]
    },
    {
     "name": "stderr",
     "output_type": "stream",
     "text": [
      "127.0.0.1 - - [18/Mar/2021 23:37:53] \"\u001b[37mPOST /insert/bloqueinformativo HTTP/1.1\u001b[0m\" 200 -\n",
      "127.0.0.1 - - [18/Mar/2021 23:37:53] \"\u001b[37mPOST /insert/variables HTTP/1.1\u001b[0m\" 200 -\n"
     ]
    },
    {
     "name": "stdout",
     "output_type": "stream",
     "text": [
      "Datos recibidos:\n",
      "{'next_id': 'Salida', 'namestate': 'prueba_dos', 'contenido': 'Puedo hacer muchas cosas, entre ellas despedirme. Adios', 'contenttype': 'text', 'typingtime': 3, 'id_robot': 433, 'blocktype': 'informativo'}\n",
      "intenatando consulta...\n",
      "consulta: select * from bloqueinformativo where next_id= 'Salida' and namestate= 'prueba_dos' and contenido= 'Puedo hacer muchas cosas, entre ellas despedirme. Adios' and contenttype= 'text' and typingtime= '3' and id_robot= '433' and blocktype= 'informativo' ;\n",
      "Datos enviados:\n",
      "{'namestate': 'prueba_dos', 'contenido': 'Puedo hacer muchas cosas, entre ellas despedirme. Adios', 'next_id': 'Salida', 'blocktype': 'informativo', 'contenttype': 'text', 'typingtime': '3', 'id_block': 1305, 'id_robot': 433, 'opc_nextid': None, 'pos_y': None, 'pos_x': None, 'tag_active': None}\n",
      "Datos recibidos:\n",
      "{'name_var': 'var_case', 'opc_type': 'Variable', 'var': 0, 'opc_data': 'Numerico', 'id_robot': 433}\n",
      "intenatando consulta...\n",
      "consulta: select * from variables where name_var= 'var_case' and opc_type= 'Variable' and var= '0' and opc_data= 'Numerico' and id_robot= '433' ;\n",
      "Datos enviados:\n",
      "{'id_var': 1035, 'opc_type': 'Variable', 'opc_data': 'Numerico', 'var': '0', 'id_robot': 433, 'name_var': 'var_case'}\n",
      "Datos recibidos:\n",
      "{'contenido': '¿Cuál es tu correo?', 'opciones': 'email,otro', 'next_id': 'prueba_dos,prueba_slide', 'default_id': 'prueba_qa', 'namestate': 'pruebaCorreo_01inicial_inicial', 'typingtime': 3, 'id_robot': 433, 'id_var': 1035, 'blocktype': 'quickReply'}\n"
     ]
    },
    {
     "name": "stderr",
     "output_type": "stream",
     "text": [
      "127.0.0.1 - - [18/Mar/2021 23:37:53] \"\u001b[37mPOST /insert/bloquequickreply HTTP/1.1\u001b[0m\" 200 -\n",
      "127.0.0.1 - - [18/Mar/2021 23:37:54] \"\u001b[37mPOST /insert/variables HTTP/1.1\u001b[0m\" 200 -\n",
      "127.0.0.1 - - [18/Mar/2021 23:37:54] \"\u001b[37mPOST /insert/bloqueslide HTTP/1.1\u001b[0m\" 200 -\n"
     ]
    },
    {
     "name": "stdout",
     "output_type": "stream",
     "text": [
      "intenatando consulta...\n",
      "consulta: select * from bloquequickreply where contenido= '¿Cuál es tu correo?' and opciones= 'email,otro' and next_id= 'prueba_dos,prueba_slide' and default_id= 'prueba_qa' and namestate= 'pruebaCorreo_01inicial_inicial' and typingtime= '3' and id_robot= '433' and id_var= '1035' and blocktype= 'quickReply' ;\n",
      "Datos enviados:\n",
      "{'namestate': 'pruebaCorreo_01inicial_inicial', 'contenido': '¿Cuál es tu correo?', 'opciones': 'email,otro', 'next_id': 'prueba_dos,prueba_slide', 'blocktype': 'quickReply', 'typingtime': '3', 'default_id': 'prueba_qa', 'id_var': '1035', 'id_block': 455, 'id_robot': 433, 'opc_nextid': None, 'pos_y': None, 'pos_x': None, 'tag_active': None}\n",
      "Datos recibidos:\n",
      "{'name_var': 'var_slideMenu', 'opc_type': 'Variable', 'var': 0, 'opc_data': 'Numerico', 'id_robot': 433}\n",
      "intenatando consulta...\n",
      "consulta: select * from variables where name_var= 'var_slideMenu' and opc_type= 'Variable' and var= '0' and opc_data= 'Numerico' and id_robot= '433' ;\n",
      "Datos enviados:\n",
      "{'id_var': 1036, 'opc_type': 'Variable', 'opc_data': 'Numerico', 'var': '0', 'id_robot': 433, 'name_var': 'var_slideMenu'}\n",
      "Datos recibidos:\n",
      "{'namestate': 'prueba_slide', 'blocktype': 'slide', 'typingtime': 3, 'default_id': 'prueba_qa', 'id_var': 1036, 'id_robot': 433}\n",
      "intenatando consulta...\n",
      "consulta: select * from bloqueslide where namestate= 'prueba_slide' and blocktype= 'slide' and typingtime= '3' and default_id= 'prueba_qa' and id_var= '1036' and id_robot= '433' ;\n",
      "Datos enviados:\n",
      "{'namestate': 'prueba_slide', 'next_id': None, 'blocktype': 'slide', 'typingtime': '3', 'default_id': 'prueba_qa', 'id_var': '1036', 'id_block': 217, 'id_robot': 433, 'opc_nextid': None, 'pos_y': None, 'pos_x': None, 'opc_elm': None, 'tag_active': None}\n",
      "Datos recibidos:\n",
      "{'title': 'Prueba titulo', 'image_url': 'https://infosertecblog.files.wordpress.com/2016/08/bot-de-telegram.jpg', 'subtitle': 'Esta es una prueba de carrusel.', 'blocktype': 'slide', 'id_block': 217}\n"
     ]
    },
    {
     "name": "stderr",
     "output_type": "stream",
     "text": [
      "127.0.0.1 - - [18/Mar/2021 23:37:54] \"\u001b[37mPOST /insert/elementos HTTP/1.1\u001b[0m\" 200 -\n",
      "127.0.0.1 - - [18/Mar/2021 23:37:54] \"\u001b[37mPOST /insert/botones HTTP/1.1\u001b[0m\" 200 -\n",
      "127.0.0.1 - - [18/Mar/2021 23:37:54] \"\u001b[37mPOST /insert/botones HTTP/1.1\u001b[0m\" 200 -\n"
     ]
    },
    {
     "name": "stdout",
     "output_type": "stream",
     "text": [
      "intenatando consulta...\n",
      "consulta: select * from elementos where title= 'Prueba titulo' and image_url= 'https://infosertecblog.files.wordpress.com/2016/08/bot-de-telegram.jpg' and subtitle= 'Esta es una prueba de carrusel.' and blocktype= 'slide' and id_block= '217' ;\n",
      "Datos enviados:\n",
      "{'blocktype': 'slide', 'title': 'Prueba titulo', 'image_url': 'https://infosertecblog.files.wordpress.com/2016/08/bot-de-telegram.jpg', 'subtitle': 'Esta es una prueba de carrusel.', 'id_block': 217, 'id_elements': 456}\n",
      "Datos recibidos:\n",
      "{'id_elemento': '456', 'titlebutton': 'Boton 1', 'typebutton': 'web_url', 'contentbutton': 'https://www.youtube.com/', 'opc_nextid': 'https://www.youtube.com/'}\n",
      "intenatando consulta...\n",
      "consulta: select * from botones where id_elemento= '456' and titlebutton= 'Boton 1' and typebutton= 'web_url' and contentbutton= 'https://www.youtube.com/' and opc_nextid= 'https://www.youtube.com/' ;\n",
      "Datos enviados:\n",
      "{'id_elemento': '456', 'titlebutton': 'Boton 1', 'typebutton': 'web_url', 'contentbutton': 'https://www.youtube.com/', 'id_boton': 724, 'opc_nextid': 'https://www.youtube.com/'}\n",
      "Datos recibidos:\n",
      "{'id_elemento': '456', 'titlebutton': 'Boton 2', 'typebutton': 'web_url', 'contentbutton': 'https://www.reddit.com/', 'opc_nextid': 'https://www.reddit.com/'}\n",
      "intenatando consulta...\n",
      "consulta: select * from botones where id_elemento= '456' and titlebutton= 'Boton 2' and typebutton= 'web_url' and contentbutton= 'https://www.reddit.com/' and opc_nextid= 'https://www.reddit.com/' ;\n",
      "Datos enviados:\n",
      "{'id_elemento': '456', 'titlebutton': 'Boton 2', 'typebutton': 'web_url', 'contentbutton': 'https://www.reddit.com/', 'id_boton': 725, 'opc_nextid': 'https://www.reddit.com/'}\n"
     ]
    },
    {
     "name": "stderr",
     "output_type": "stream",
     "text": [
      "127.0.0.1 - - [18/Mar/2021 23:40:56] \"\u001b[37mGET /select/robots HTTP/1.1\u001b[0m\" 200 -\n",
      "127.0.0.1 - - [18/Mar/2021 23:40:56] \"\u001b[37mPOST /insert/robots HTTP/1.1\u001b[0m\" 200 -\n"
     ]
    },
    {
     "name": "stdout",
     "output_type": "stream",
     "text": [
      "Datos recibidos:\n",
      "{'name_robot': 'charlybot', 'id_face': '111445520541316', 'block_ini': 'prueba_inicio', 'type_blocki': 'informativo', 'access_token': 'EAALZCCZBzPwfkBAAo7njAlW7s4DTj1ZCs5v1ung1MhEyMlJXOOtiG8r7JcBgXVPhZBHkJONyTB6jKG470UyqGPWn4aDPnisgtT2ZCZAwQIjQgZAZBufZBJXmHz6mPKSgdmP6ikDA87vocZBay2dfQdz1OYezmYbxwfILXUvXtjUMZAniQZDZD', 'id_user': 'charlygoldcruz@gmail.com', 'api_nlp': 'http://localhost:8282/'}\n",
      "intenatando consulta...\n",
      "consulta: select * from robots where id_face = '111445520541316';\n",
      "La consulta no trajo nada\n",
      "Datos enviados:\n",
      "{'error': 'true'}\n",
      "Datos recibidos:\n",
      "{'name_robot': 'charlybot', 'id_face': '111445520541316', 'block_ini': 'prueba_inicio', 'type_blocki': 'informativo', 'access_token': 'EAALZCCZBzPwfkBAAo7njAlW7s4DTj1ZCs5v1ung1MhEyMlJXOOtiG8r7JcBgXVPhZBHkJONyTB6jKG470UyqGPWn4aDPnisgtT2ZCZAwQIjQgZAZBufZBJXmHz6mPKSgdmP6ikDA87vocZBay2dfQdz1OYezmYbxwfILXUvXtjUMZAniQZDZD', 'id_user': 'charlygoldcruz@gmail.com', 'api_nlp': 'http://localhost:8282/'}\n",
      "intenatando consulta...\n",
      "consulta: select * from robots where id_face = '111445520541316';\n",
      "Datos enviados:\n",
      "{'name_robot': 'charlybot', 'id_face': '111445520541316', 'block_ini': 'prueba_inicio', 'type_blocki': 'informativo', 'access_token': 'EAALZCCZBzPwfkBAAo7njAlW7s4DTj1ZCs5v1ung1MhEyMlJXOOtiG8r7JcBgXVPhZBHkJONyTB6jKG470UyqGPWn4aDPnisgtT2ZCZAwQIjQgZAZBufZBJXmHz6mPKSgdmP6ikDA87vocZBay2dfQdz1OYezmYbxwfILXUvXtjUMZAniQZDZD', 'api_nlp': 'http://localhost:8282/', 'id_robot': 434, 'id_user': 'charlygoldcruz@gmail.com'}\n",
      "Datos recibidos:\n",
      "{'next_id': 'prueba_captura', 'namestate': 'prueba_inicio', 'contenido': 'Hola, soy un chatbot y esto es un mensaje de prueba y adios', 'contenttype': 'text', 'typingtime': 3, 'id_robot': 434, 'blocktype': 'informativo'}\n"
     ]
    },
    {
     "name": "stderr",
     "output_type": "stream",
     "text": [
      "127.0.0.1 - - [18/Mar/2021 23:40:56] \"\u001b[37mPOST /insert/bloqueinformativo HTTP/1.1\u001b[0m\" 200 -\n",
      "127.0.0.1 - - [18/Mar/2021 23:40:56] \"\u001b[37mPOST /insert/variables HTTP/1.1\u001b[0m\" 200 -\n"
     ]
    },
    {
     "name": "stdout",
     "output_type": "stream",
     "text": [
      "intenatando consulta...\n",
      "consulta: select * from bloqueinformativo where next_id= 'prueba_captura' and namestate= 'prueba_inicio' and contenido= 'Hola, soy un chatbot y esto es un mensaje de prueba y adios' and contenttype= 'text' and typingtime= '3' and id_robot= '434' and blocktype= 'informativo' ;\n",
      "Datos enviados:\n",
      "{'namestate': 'prueba_inicio', 'contenido': 'Hola, soy un chatbot y esto es un mensaje de prueba y adios', 'next_id': 'prueba_captura', 'blocktype': 'informativo', 'contenttype': 'text', 'typingtime': '3', 'id_block': 1306, 'id_robot': 434, 'opc_nextid': None, 'pos_y': None, 'pos_x': None, 'tag_active': None}\n",
      "Datos recibidos:\n",
      "{'name_var': 'email', 'opc_type': 'Variable', 'var': 0, 'opc_data': 'String', 'id_robot': 434}\n",
      "intenatando consulta...\n",
      "consulta: select * from variables where name_var= 'email' and opc_type= 'Variable' and var= '0' and opc_data= 'String' and id_robot= '434' ;\n",
      "Datos enviados:\n",
      "{'id_var': 1037, 'opc_type': 'Variable', 'opc_data': 'String', 'var': '0', 'id_robot': 434, 'name_var': 'email'}\n",
      "Datos recibidos:\n",
      "{'next_id': 'pruebaCorreo_01inicial_inicial', 'default_id': 'prueba_captura', 'namestate': 'prueba_captura', 'contenido': 'introduce tu correo', 'contenttype': 'text', 'typingtime': 3, 'validacion': '^[a-z0-9]+[\\\\._]?[a-z0-9]+[@]\\\\w+[.]\\\\w{2,3}$', 'id_robot': 434, 'id_var': 1037, 'blocktype': 'input'}\n"
     ]
    },
    {
     "name": "stderr",
     "output_type": "stream",
     "text": [
      "127.0.0.1 - - [18/Mar/2021 23:40:57] \"\u001b[37mPOST /insert/bloqueinput HTTP/1.1\u001b[0m\" 200 -\n",
      "127.0.0.1 - - [18/Mar/2021 23:40:57] \"\u001b[37mPOST /insert/bloqueinformativo HTTP/1.1\u001b[0m\" 200 -\n",
      "127.0.0.1 - - [18/Mar/2021 23:40:57] \"\u001b[37mPOST /insert/bloqueinformativo HTTP/1.1\u001b[0m\" 200 -\n"
     ]
    },
    {
     "name": "stdout",
     "output_type": "stream",
     "text": [
      "intenatando consulta...\n",
      "consulta: select * from bloqueinput where next_id= 'pruebaCorreo_01inicial_inicial' and default_id= 'prueba_captura' and namestate= 'prueba_captura' and contenido= 'introduce tu correo' and contenttype= 'text' and typingtime= '3' and validacion= '^[a-z0-9]+[\\._]?[a-z0-9]+[@]\\w+[.]\\w{2,3}$' and id_robot= '434' and id_var= '1037' and blocktype= 'input' ;\n",
      "Datos enviados:\n",
      "{'namestate': 'prueba_captura', 'contenido': 'introduce tu correo', 'next_id': 'pruebaCorreo_01inicial_inicial', 'blocktype': 'input', 'contenttype': 'text', 'typingtime': '3', 'validacion': '^[a-z0-9]+[\\\\._]?[a-z0-9]+[@]\\\\w+[.]\\\\w{2,3}$', 'default_id': 'prueba_captura', 'id_var': '1037', 'id_block': 165, 'id_robot': 434, 'opc_nextid': None, 'pos_y': None, 'pos_x': None, 'tag_active': None}\n",
      "Datos recibidos:\n",
      "{'next_id': 'pruebaCorreo_01inicial_inicial', 'namestate': 'prueba_qa', 'contenido': 'Vamos a ver si no truena', 'contenttype': 'text', 'typingtime': 7, 'id_robot': 434, 'blocktype': 'informativo'}\n",
      "intenatando consulta...\n",
      "consulta: select * from bloqueinformativo where next_id= 'pruebaCorreo_01inicial_inicial' and namestate= 'prueba_qa' and contenido= 'Vamos a ver si no truena' and contenttype= 'text' and typingtime= '7' and id_robot= '434' and blocktype= 'informativo' ;\n",
      "Datos enviados:\n",
      "{'namestate': 'prueba_qa', 'contenido': 'Vamos a ver si no truena', 'next_id': 'pruebaCorreo_01inicial_inicial', 'blocktype': 'informativo', 'contenttype': 'text', 'typingtime': '7', 'id_block': 1307, 'id_robot': 434, 'opc_nextid': None, 'pos_y': None, 'pos_x': None, 'tag_active': None}\n",
      "Datos recibidos:\n",
      "{'next_id': 'Salida', 'namestate': 'prueba_dos', 'contenido': 'Puedo hacer muchas cosas, entre ellas despedirme. Adios', 'contenttype': 'text', 'typingtime': 3, 'id_robot': 434, 'blocktype': 'informativo'}\n",
      "intenatando consulta...\n",
      "consulta: select * from bloqueinformativo where next_id= 'Salida' and namestate= 'prueba_dos' and contenido= 'Puedo hacer muchas cosas, entre ellas despedirme. Adios' and contenttype= 'text' and typingtime= '3' and id_robot= '434' and blocktype= 'informativo' ;\n",
      "Datos enviados:\n",
      "{'namestate': 'prueba_dos', 'contenido': 'Puedo hacer muchas cosas, entre ellas despedirme. Adios', 'next_id': 'Salida', 'blocktype': 'informativo', 'contenttype': 'text', 'typingtime': '3', 'id_block': 1308, 'id_robot': 434, 'opc_nextid': None, 'pos_y': None, 'pos_x': None, 'tag_active': None}\n"
     ]
    },
    {
     "name": "stderr",
     "output_type": "stream",
     "text": [
      "127.0.0.1 - - [18/Mar/2021 23:40:57] \"\u001b[37mPOST /insert/variables HTTP/1.1\u001b[0m\" 200 -\n",
      "127.0.0.1 - - [18/Mar/2021 23:40:57] \"\u001b[37mPOST /insert/bloquequickreply HTTP/1.1\u001b[0m\" 200 -\n"
     ]
    },
    {
     "name": "stdout",
     "output_type": "stream",
     "text": [
      "Datos recibidos:\n",
      "{'name_var': 'var_case', 'opc_type': 'Variable', 'var': 0, 'opc_data': 'Numerico', 'id_robot': 434}\n",
      "intenatando consulta...\n",
      "consulta: select * from variables where name_var= 'var_case' and opc_type= 'Variable' and var= '0' and opc_data= 'Numerico' and id_robot= '434' ;\n",
      "Datos enviados:\n",
      "{'id_var': 1038, 'opc_type': 'Variable', 'opc_data': 'Numerico', 'var': '0', 'id_robot': 434, 'name_var': 'var_case'}\n",
      "Datos recibidos:\n",
      "{'contenido': '¿Cuál es tu correo?', 'opciones': 'email,otro', 'next_id': 'prueba_dos,prueba_slide', 'default_id': 'prueba_qa', 'namestate': 'pruebaCorreo_01inicial_inicial', 'typingtime': 3, 'id_robot': 434, 'id_var': 1038, 'blocktype': 'quickReply'}\n",
      "intenatando consulta...\n",
      "consulta: select * from bloquequickreply where contenido= '¿Cuál es tu correo?' and opciones= 'email,otro' and next_id= 'prueba_dos,prueba_slide' and default_id= 'prueba_qa' and namestate= 'pruebaCorreo_01inicial_inicial' and typingtime= '3' and id_robot= '434' and id_var= '1038' and blocktype= 'quickReply' ;\n",
      "Datos enviados:\n",
      "{'namestate': 'pruebaCorreo_01inicial_inicial', 'contenido': '¿Cuál es tu correo?', 'opciones': 'email,otro', 'next_id': 'prueba_dos,prueba_slide', 'blocktype': 'quickReply', 'typingtime': '3', 'default_id': 'prueba_qa', 'id_var': '1038', 'id_block': 456, 'id_robot': 434, 'opc_nextid': None, 'pos_y': None, 'pos_x': None, 'tag_active': None}\n",
      "Datos recibidos:\n",
      "{'name_var': 'var_slideMenu', 'opc_type': 'Variable', 'var': 0, 'opc_data': 'Numerico', 'id_robot': 434}\n",
      "intenatando consulta...\n",
      "consulta: select * from variables where name_var= 'var_slideMenu' and opc_type= 'Variable' and var= '0' and opc_data= 'Numerico' and id_robot= '434' ;\n"
     ]
    },
    {
     "name": "stderr",
     "output_type": "stream",
     "text": [
      "127.0.0.1 - - [18/Mar/2021 23:40:57] \"\u001b[37mPOST /insert/variables HTTP/1.1\u001b[0m\" 200 -\n",
      "127.0.0.1 - - [18/Mar/2021 23:40:57] \"\u001b[37mPOST /insert/bloqueslide HTTP/1.1\u001b[0m\" 200 -\n",
      "127.0.0.1 - - [18/Mar/2021 23:40:57] \"\u001b[37mPOST /insert/elementos HTTP/1.1\u001b[0m\" 200 -\n"
     ]
    },
    {
     "name": "stdout",
     "output_type": "stream",
     "text": [
      "Datos enviados:\n",
      "{'id_var': 1039, 'opc_type': 'Variable', 'opc_data': 'Numerico', 'var': '0', 'id_robot': 434, 'name_var': 'var_slideMenu'}\n",
      "Datos recibidos:\n",
      "{'namestate': 'prueba_slide', 'blocktype': 'slide', 'typingtime': 3, 'default_id': 'prueba_qa', 'id_var': 1039, 'id_robot': 434}\n",
      "intenatando consulta...\n",
      "consulta: select * from bloqueslide where namestate= 'prueba_slide' and blocktype= 'slide' and typingtime= '3' and default_id= 'prueba_qa' and id_var= '1039' and id_robot= '434' ;\n",
      "Datos enviados:\n",
      "{'namestate': 'prueba_slide', 'next_id': None, 'blocktype': 'slide', 'typingtime': '3', 'default_id': 'prueba_qa', 'id_var': '1039', 'id_block': 218, 'id_robot': 434, 'opc_nextid': None, 'pos_y': None, 'pos_x': None, 'opc_elm': None, 'tag_active': None}\n",
      "Datos recibidos:\n",
      "{'title': 'Prueba titulo', 'image_url': 'https://infosertecblog.files.wordpress.com/2016/08/bot-de-telegram.jpg', 'subtitle': 'Esta es una prueba de carrusel.', 'blocktype': 'slide', 'id_block': 218}\n",
      "intenatando consulta...\n",
      "consulta: select * from elementos where title= 'Prueba titulo' and image_url= 'https://infosertecblog.files.wordpress.com/2016/08/bot-de-telegram.jpg' and subtitle= 'Esta es una prueba de carrusel.' and blocktype= 'slide' and id_block= '218' ;\n",
      "Datos enviados:\n",
      "{'blocktype': 'slide', 'title': 'Prueba titulo', 'image_url': 'https://infosertecblog.files.wordpress.com/2016/08/bot-de-telegram.jpg', 'subtitle': 'Esta es una prueba de carrusel.', 'id_block': 218, 'id_elements': 457}\n",
      "Datos recibidos:\n",
      "{'id_elemento': '457', 'titlebutton': 'Boton 1', 'typebutton': 'web_url', 'contentbutton': 'https://www.youtube.com/', 'opc_nextid': 'https://www.youtube.com/'}\n"
     ]
    },
    {
     "name": "stderr",
     "output_type": "stream",
     "text": [
      "127.0.0.1 - - [18/Mar/2021 23:40:57] \"\u001b[37mPOST /insert/botones HTTP/1.1\u001b[0m\" 200 -\n",
      "127.0.0.1 - - [18/Mar/2021 23:40:57] \"\u001b[37mPOST /insert/botones HTTP/1.1\u001b[0m\" 200 -\n"
     ]
    },
    {
     "name": "stdout",
     "output_type": "stream",
     "text": [
      "intenatando consulta...\n",
      "consulta: select * from botones where id_elemento= '457' and titlebutton= 'Boton 1' and typebutton= 'web_url' and contentbutton= 'https://www.youtube.com/' and opc_nextid= 'https://www.youtube.com/' ;\n",
      "Datos enviados:\n",
      "{'id_elemento': '457', 'titlebutton': 'Boton 1', 'typebutton': 'web_url', 'contentbutton': 'https://www.youtube.com/', 'id_boton': 726, 'opc_nextid': 'https://www.youtube.com/'}\n",
      "Datos recibidos:\n",
      "{'id_elemento': '457', 'titlebutton': 'Boton 2', 'typebutton': 'web_url', 'contentbutton': 'https://www.reddit.com/', 'opc_nextid': 'https://www.reddit.com/'}\n",
      "intenatando consulta...\n",
      "consulta: select * from botones where id_elemento= '457' and titlebutton= 'Boton 2' and typebutton= 'web_url' and contentbutton= 'https://www.reddit.com/' and opc_nextid= 'https://www.reddit.com/' ;\n",
      "Datos enviados:\n",
      "{'id_elemento': '457', 'titlebutton': 'Boton 2', 'typebutton': 'web_url', 'contentbutton': 'https://www.reddit.com/', 'id_boton': 727, 'opc_nextid': 'https://www.reddit.com/'}\n"
     ]
    },
    {
     "name": "stderr",
     "output_type": "stream",
     "text": [
      "127.0.0.1 - - [18/Mar/2021 23:45:39] \"\u001b[37mGET /select/robots HTTP/1.1\u001b[0m\" 200 -\n",
      "127.0.0.1 - - [18/Mar/2021 23:45:39] \"\u001b[37mPOST /insert/robots HTTP/1.1\u001b[0m\" 200 -\n",
      "127.0.0.1 - - [18/Mar/2021 23:45:39] \"\u001b[37mPOST /insert/bloqueinformativo HTTP/1.1\u001b[0m\" 200 -\n"
     ]
    },
    {
     "name": "stdout",
     "output_type": "stream",
     "text": [
      "Datos recibidos:\n",
      "{'name_robot': 'charlybot', 'id_face': '111445520541316', 'block_ini': 'prueba_inicio', 'type_blocki': 'informativo', 'access_token': 'EAALZCCZBzPwfkBAAo7njAlW7s4DTj1ZCs5v1ung1MhEyMlJXOOtiG8r7JcBgXVPhZBHkJONyTB6jKG470UyqGPWn4aDPnisgtT2ZCZAwQIjQgZAZBufZBJXmHz6mPKSgdmP6ikDA87vocZBay2dfQdz1OYezmYbxwfILXUvXtjUMZAniQZDZD', 'id_user': 'charlygoldcruz@gmail.com', 'api_nlp': 'http://localhost:8282/'}\n",
      "intenatando consulta...\n",
      "consulta: select * from robots where id_face = '111445520541316';\n",
      "La consulta no trajo nada\n",
      "Datos enviados:\n",
      "{'error': 'true'}\n",
      "Datos recibidos:\n",
      "{'name_robot': 'charlybot', 'id_face': '111445520541316', 'block_ini': 'prueba_inicio', 'type_blocki': 'informativo', 'access_token': 'EAALZCCZBzPwfkBAAo7njAlW7s4DTj1ZCs5v1ung1MhEyMlJXOOtiG8r7JcBgXVPhZBHkJONyTB6jKG470UyqGPWn4aDPnisgtT2ZCZAwQIjQgZAZBufZBJXmHz6mPKSgdmP6ikDA87vocZBay2dfQdz1OYezmYbxwfILXUvXtjUMZAniQZDZD', 'id_user': 'charlygoldcruz@gmail.com', 'api_nlp': 'http://localhost:8282/'}\n",
      "intenatando consulta...\n",
      "consulta: select * from robots where id_face = '111445520541316';\n",
      "Datos enviados:\n",
      "{'name_robot': 'charlybot', 'id_face': '111445520541316', 'block_ini': 'prueba_inicio', 'type_blocki': 'informativo', 'access_token': 'EAALZCCZBzPwfkBAAo7njAlW7s4DTj1ZCs5v1ung1MhEyMlJXOOtiG8r7JcBgXVPhZBHkJONyTB6jKG470UyqGPWn4aDPnisgtT2ZCZAwQIjQgZAZBufZBJXmHz6mPKSgdmP6ikDA87vocZBay2dfQdz1OYezmYbxwfILXUvXtjUMZAniQZDZD', 'api_nlp': 'http://localhost:8282/', 'id_robot': 435, 'id_user': 'charlygoldcruz@gmail.com'}\n",
      "Datos recibidos:\n",
      "{'next_id': 'prueba_captura', 'namestate': 'prueba_inicio', 'contenido': 'Hola, soy un chatbot y esto es un mensaje de prueba y adios', 'contenttype': 'text', 'typingtime': 3, 'id_robot': 435, 'blocktype': 'informativo'}\n",
      "intenatando consulta...\n",
      "consulta: select * from bloqueinformativo where next_id= 'prueba_captura' and namestate= 'prueba_inicio' and contenido= 'Hola, soy un chatbot y esto es un mensaje de prueba y adios' and contenttype= 'text' and typingtime= '3' and id_robot= '435' and blocktype= 'informativo' ;\n",
      "Datos enviados:\n",
      "{'namestate': 'prueba_inicio', 'contenido': 'Hola, soy un chatbot y esto es un mensaje de prueba y adios', 'next_id': 'prueba_captura', 'blocktype': 'informativo', 'contenttype': 'text', 'typingtime': '3', 'id_block': 1309, 'id_robot': 435, 'opc_nextid': None, 'pos_y': None, 'pos_x': None, 'tag_active': None}\n"
     ]
    },
    {
     "name": "stderr",
     "output_type": "stream",
     "text": [
      "127.0.0.1 - - [18/Mar/2021 23:45:39] \"\u001b[37mPOST /insert/variables HTTP/1.1\u001b[0m\" 200 -\n",
      "127.0.0.1 - - [18/Mar/2021 23:45:39] \"\u001b[37mPOST /insert/bloqueinput HTTP/1.1\u001b[0m\" 200 -\n"
     ]
    },
    {
     "name": "stdout",
     "output_type": "stream",
     "text": [
      "Datos recibidos:\n",
      "{'name_var': 'email', 'opc_type': 'Variable', 'var': 0, 'opc_data': 'String', 'id_robot': 435}\n",
      "intenatando consulta...\n",
      "consulta: select * from variables where name_var= 'email' and opc_type= 'Variable' and var= '0' and opc_data= 'String' and id_robot= '435' ;\n",
      "Datos enviados:\n",
      "{'id_var': 1040, 'opc_type': 'Variable', 'opc_data': 'String', 'var': '0', 'id_robot': 435, 'name_var': 'email'}\n",
      "Datos recibidos:\n",
      "{'next_id': 'pruebaCorreo_01inicial_inicial', 'default_id': 'prueba_captura', 'namestate': 'prueba_captura', 'contenido': 'introduce tu correo', 'contenttype': 'text', 'typingtime': 3, 'validacion': '^[a-z0-9]+[\\\\._]?[a-z0-9]+[@]\\\\w+[.]\\\\w{2,3}$', 'id_robot': 435, 'id_var': 1040, 'blocktype': 'input'}\n",
      "intenatando consulta...\n",
      "consulta: select * from bloqueinput where next_id= 'pruebaCorreo_01inicial_inicial' and default_id= 'prueba_captura' and namestate= 'prueba_captura' and contenido= 'introduce tu correo' and contenttype= 'text' and typingtime= '3' and validacion= '^[a-z0-9]+[\\._]?[a-z0-9]+[@]\\w+[.]\\w{2,3}$' and id_robot= '435' and id_var= '1040' and blocktype= 'input' ;\n",
      "Datos enviados:\n",
      "{'namestate': 'prueba_captura', 'contenido': 'introduce tu correo', 'next_id': 'pruebaCorreo_01inicial_inicial', 'blocktype': 'input', 'contenttype': 'text', 'typingtime': '3', 'validacion': '^[a-z0-9]+[\\\\._]?[a-z0-9]+[@]\\\\w+[.]\\\\w{2,3}$', 'default_id': 'prueba_captura', 'id_var': '1040', 'id_block': 166, 'id_robot': 435, 'opc_nextid': None, 'pos_y': None, 'pos_x': None, 'tag_active': None}\n",
      "Datos recibidos:\n",
      "{'next_id': 'pruebaCorreo_01inicial_inicial', 'namestate': 'prueba_qa', 'contenido': 'Vamos a ver si no truena', 'contenttype': 'text', 'typingtime': 7, 'id_robot': 435, 'blocktype': 'informativo'}\n",
      "intenatando consulta...\n",
      "consulta: select * from bloqueinformativo where next_id= 'pruebaCorreo_01inicial_inicial' and namestate= 'prueba_qa' and contenido= 'Vamos a ver si no truena' and contenttype= 'text' and typingtime= '7' and id_robot= '435' and blocktype= 'informativo' ;\n"
     ]
    },
    {
     "name": "stderr",
     "output_type": "stream",
     "text": [
      "127.0.0.1 - - [18/Mar/2021 23:45:39] \"\u001b[37mPOST /insert/bloqueinformativo HTTP/1.1\u001b[0m\" 200 -\n",
      "127.0.0.1 - - [18/Mar/2021 23:45:40] \"\u001b[37mPOST /insert/bloqueinformativo HTTP/1.1\u001b[0m\" 200 -\n",
      "127.0.0.1 - - [18/Mar/2021 23:45:40] \"\u001b[37mPOST /insert/variables HTTP/1.1\u001b[0m\" 200 -\n"
     ]
    },
    {
     "name": "stdout",
     "output_type": "stream",
     "text": [
      "Datos enviados:\n",
      "{'namestate': 'prueba_qa', 'contenido': 'Vamos a ver si no truena', 'next_id': 'pruebaCorreo_01inicial_inicial', 'blocktype': 'informativo', 'contenttype': 'text', 'typingtime': '7', 'id_block': 1310, 'id_robot': 435, 'opc_nextid': None, 'pos_y': None, 'pos_x': None, 'tag_active': None}\n",
      "Datos recibidos:\n",
      "{'next_id': 'Salida', 'namestate': 'prueba_dos', 'contenido': 'Puedo hacer muchas cosas, entre ellas despedirme. Adios', 'contenttype': 'text', 'typingtime': 3, 'id_robot': 435, 'blocktype': 'informativo'}\n",
      "intenatando consulta...\n",
      "consulta: select * from bloqueinformativo where next_id= 'Salida' and namestate= 'prueba_dos' and contenido= 'Puedo hacer muchas cosas, entre ellas despedirme. Adios' and contenttype= 'text' and typingtime= '3' and id_robot= '435' and blocktype= 'informativo' ;\n",
      "Datos enviados:\n",
      "{'namestate': 'prueba_dos', 'contenido': 'Puedo hacer muchas cosas, entre ellas despedirme. Adios', 'next_id': 'Salida', 'blocktype': 'informativo', 'contenttype': 'text', 'typingtime': '3', 'id_block': 1311, 'id_robot': 435, 'opc_nextid': None, 'pos_y': None, 'pos_x': None, 'tag_active': None}\n",
      "Datos recibidos:\n",
      "{'name_var': 'var_case', 'opc_type': 'Variable', 'var': 0, 'opc_data': 'Numerico', 'id_robot': 435}\n",
      "intenatando consulta...\n",
      "consulta: select * from variables where name_var= 'var_case' and opc_type= 'Variable' and var= '0' and opc_data= 'Numerico' and id_robot= '435' ;\n",
      "Datos enviados:\n",
      "{'id_var': 1041, 'opc_type': 'Variable', 'opc_data': 'Numerico', 'var': '0', 'id_robot': 435, 'name_var': 'var_case'}\n",
      "Datos recibidos:\n",
      "{'contenido': '¿Cuál es tu correo?', 'opciones': 'email,otro', 'next_id': 'prueba_dos,prueba_slide', 'default_id': 'prueba_qa', 'namestate': 'pruebaCorreo_01inicial_inicial', 'typingtime': 3, 'id_robot': 435, 'id_var': 1041, 'blocktype': 'quickReply'}\n"
     ]
    },
    {
     "name": "stderr",
     "output_type": "stream",
     "text": [
      "127.0.0.1 - - [18/Mar/2021 23:45:40] \"\u001b[37mPOST /insert/bloquequickreply HTTP/1.1\u001b[0m\" 200 -\n",
      "127.0.0.1 - - [18/Mar/2021 23:45:40] \"\u001b[37mPOST /insert/variables HTTP/1.1\u001b[0m\" 200 -\n",
      "127.0.0.1 - - [18/Mar/2021 23:45:40] \"\u001b[37mPOST /insert/bloqueslide HTTP/1.1\u001b[0m\" 200 -\n"
     ]
    },
    {
     "name": "stdout",
     "output_type": "stream",
     "text": [
      "intenatando consulta...\n",
      "consulta: select * from bloquequickreply where contenido= '¿Cuál es tu correo?' and opciones= 'email,otro' and next_id= 'prueba_dos,prueba_slide' and default_id= 'prueba_qa' and namestate= 'pruebaCorreo_01inicial_inicial' and typingtime= '3' and id_robot= '435' and id_var= '1041' and blocktype= 'quickReply' ;\n",
      "Datos enviados:\n",
      "{'namestate': 'pruebaCorreo_01inicial_inicial', 'contenido': '¿Cuál es tu correo?', 'opciones': 'email,otro', 'next_id': 'prueba_dos,prueba_slide', 'blocktype': 'quickReply', 'typingtime': '3', 'default_id': 'prueba_qa', 'id_var': '1041', 'id_block': 457, 'id_robot': 435, 'opc_nextid': None, 'pos_y': None, 'pos_x': None, 'tag_active': None}\n",
      "Datos recibidos:\n",
      "{'name_var': 'var_slideMenu', 'opc_type': 'Variable', 'var': 0, 'opc_data': 'Numerico', 'id_robot': 435}\n",
      "intenatando consulta...\n",
      "consulta: select * from variables where name_var= 'var_slideMenu' and opc_type= 'Variable' and var= '0' and opc_data= 'Numerico' and id_robot= '435' ;\n",
      "Datos enviados:\n",
      "{'id_var': 1042, 'opc_type': 'Variable', 'opc_data': 'Numerico', 'var': '0', 'id_robot': 435, 'name_var': 'var_slideMenu'}\n",
      "Datos recibidos:\n",
      "{'namestate': 'prueba_slide', 'blocktype': 'slide', 'typingtime': 3, 'default_id': 'prueba_qa', 'id_var': 1042, 'id_robot': 435}\n",
      "intenatando consulta...\n",
      "consulta: select * from bloqueslide where namestate= 'prueba_slide' and blocktype= 'slide' and typingtime= '3' and default_id= 'prueba_qa' and id_var= '1042' and id_robot= '435' ;\n",
      "Datos enviados:\n",
      "{'namestate': 'prueba_slide', 'next_id': None, 'blocktype': 'slide', 'typingtime': '3', 'default_id': 'prueba_qa', 'id_var': '1042', 'id_block': 219, 'id_robot': 435, 'opc_nextid': None, 'pos_y': None, 'pos_x': None, 'opc_elm': None, 'tag_active': None}\n"
     ]
    },
    {
     "name": "stderr",
     "output_type": "stream",
     "text": [
      "127.0.0.1 - - [18/Mar/2021 23:45:40] \"\u001b[37mPOST /insert/elementos HTTP/1.1\u001b[0m\" 200 -\n",
      "127.0.0.1 - - [18/Mar/2021 23:45:40] \"\u001b[37mPOST /insert/botones HTTP/1.1\u001b[0m\" 200 -\n"
     ]
    },
    {
     "name": "stdout",
     "output_type": "stream",
     "text": [
      "Datos recibidos:\n",
      "{'title': 'Prueba titulo', 'image_url': 'https://infosertecblog.files.wordpress.com/2016/08/bot-de-telegram.jpg', 'subtitle': 'Esta es una prueba de carrusel.', 'blocktype': 'slide', 'id_block': 219}\n",
      "intenatando consulta...\n",
      "consulta: select * from elementos where title= 'Prueba titulo' and image_url= 'https://infosertecblog.files.wordpress.com/2016/08/bot-de-telegram.jpg' and subtitle= 'Esta es una prueba de carrusel.' and blocktype= 'slide' and id_block= '219' ;\n",
      "Datos enviados:\n",
      "{'blocktype': 'slide', 'title': 'Prueba titulo', 'image_url': 'https://infosertecblog.files.wordpress.com/2016/08/bot-de-telegram.jpg', 'subtitle': 'Esta es una prueba de carrusel.', 'id_block': 219, 'id_elements': 458}\n",
      "Datos recibidos:\n",
      "{'id_elemento': '458', 'titlebutton': 'Boton 1', 'typebutton': 'web_url', 'contentbutton': 'https://www.youtube.com/', 'opc_nextid': 'https://www.youtube.com/'}\n",
      "intenatando consulta...\n",
      "consulta: select * from botones where id_elemento= '458' and titlebutton= 'Boton 1' and typebutton= 'web_url' and contentbutton= 'https://www.youtube.com/' and opc_nextid= 'https://www.youtube.com/' ;\n",
      "Datos enviados:\n",
      "{'id_elemento': '458', 'titlebutton': 'Boton 1', 'typebutton': 'web_url', 'contentbutton': 'https://www.youtube.com/', 'id_boton': 728, 'opc_nextid': 'https://www.youtube.com/'}\n",
      "Datos recibidos:\n",
      "{'id_elemento': '458', 'titlebutton': 'Boton 2', 'typebutton': 'web_url', 'contentbutton': 'https://www.reddit.com/', 'opc_nextid': 'https://www.reddit.com/'}\n",
      "intenatando consulta...\n",
      "consulta: select * from botones where id_elemento= '458' and titlebutton= 'Boton 2' and typebutton= 'web_url' and contentbutton= 'https://www.reddit.com/' and opc_nextid= 'https://www.reddit.com/' ;\n"
     ]
    },
    {
     "name": "stderr",
     "output_type": "stream",
     "text": [
      "127.0.0.1 - - [18/Mar/2021 23:45:40] \"\u001b[37mPOST /insert/botones HTTP/1.1\u001b[0m\" 200 -\n"
     ]
    },
    {
     "name": "stdout",
     "output_type": "stream",
     "text": [
      "Datos enviados:\n",
      "{'id_elemento': '458', 'titlebutton': 'Boton 2', 'typebutton': 'web_url', 'contentbutton': 'https://www.reddit.com/', 'id_boton': 729, 'opc_nextid': 'https://www.reddit.com/'}\n"
     ]
    },
    {
     "name": "stderr",
     "output_type": "stream",
     "text": [
      "127.0.0.1 - - [18/Mar/2021 23:48:46] \"\u001b[37mGET /select/robots HTTP/1.1\u001b[0m\" 200 -\n",
      "127.0.0.1 - - [18/Mar/2021 23:48:46] \"\u001b[37mPOST /insert/robots HTTP/1.1\u001b[0m\" 200 -\n",
      "127.0.0.1 - - [18/Mar/2021 23:48:46] \"\u001b[37mPOST /insert/bloqueinformativo HTTP/1.1\u001b[0m\" 200 -\n"
     ]
    },
    {
     "name": "stdout",
     "output_type": "stream",
     "text": [
      "Datos recibidos:\n",
      "{'name_robot': 'oliverBot', 'id_face': '2153123008120093', 'block_ini': 'prueba_inicio', 'type_blocki': 'quickreply', 'access_token': 'EAAHNkscg2TcBAMvebksfOxuFBpMeR5sUhzHTKtqdi6NkqQKZAdkeaGVJ9Yc5bNbvL3JLzCgB7EEqsVUTZADhidVcC3zJV1UZB4Uz0Hm3fZB9IETnWb4I8MoK8nxpenC1lYwnjwnRwMHVZA1FKw8d3A45t9xCxmPKnm6kIr5ZCA8wZDZD', 'id_user': 'oliverbp88@gmail.com', 'api_nlp': 'http://localhost:8282/'}\n",
      "intenatando consulta...\n",
      "consulta: select * from robots where id_face = '2153123008120093';\n",
      "La consulta no trajo nada\n",
      "Datos enviados:\n",
      "{'error': 'true'}\n",
      "Datos recibidos:\n",
      "{'name_robot': 'oliverBot', 'id_face': '2153123008120093', 'block_ini': 'prueba_inicio', 'type_blocki': 'quickreply', 'access_token': 'EAAHNkscg2TcBAMvebksfOxuFBpMeR5sUhzHTKtqdi6NkqQKZAdkeaGVJ9Yc5bNbvL3JLzCgB7EEqsVUTZADhidVcC3zJV1UZB4Uz0Hm3fZB9IETnWb4I8MoK8nxpenC1lYwnjwnRwMHVZA1FKw8d3A45t9xCxmPKnm6kIr5ZCA8wZDZD', 'id_user': 'oliverbp88@gmail.com', 'api_nlp': 'http://localhost:8282/'}\n",
      "intenatando consulta...\n",
      "consulta: select * from robots where id_face = '2153123008120093';\n",
      "Datos enviados:\n",
      "{'name_robot': 'oliverBot', 'id_face': '2153123008120093', 'block_ini': 'prueba_inicio', 'type_blocki': 'quickreply', 'access_token': 'EAAHNkscg2TcBAMvebksfOxuFBpMeR5sUhzHTKtqdi6NkqQKZAdkeaGVJ9Yc5bNbvL3JLzCgB7EEqsVUTZADhidVcC3zJV1UZB4Uz0Hm3fZB9IETnWb4I8MoK8nxpenC1lYwnjwnRwMHVZA1FKw8d3A45t9xCxmPKnm6kIr5ZCA8wZDZD', 'api_nlp': 'http://localhost:8282/', 'id_robot': 436, 'id_user': 'oliverbp88@gmail.com'}\n",
      "Datos recibidos:\n",
      "{'next_id': 'pruebaCorreo_01inicial_inicial', 'namestate': 'prueba_inicio', 'contenido': 'Hola, soy un robot!', 'contenttype': 'text', 'typingtime': 3, 'id_robot': 436, 'blocktype': 'informativo'}\n",
      "intenatando consulta...\n",
      "consulta: select * from bloqueinformativo where next_id= 'pruebaCorreo_01inicial_inicial' and namestate= 'prueba_inicio' and contenido= 'Hola, soy un robot!' and contenttype= 'text' and typingtime= '3' and id_robot= '436' and blocktype= 'informativo' ;\n",
      "Datos enviados:\n",
      "{'namestate': 'prueba_inicio', 'contenido': 'Hola, soy un robot!', 'next_id': 'pruebaCorreo_01inicial_inicial', 'blocktype': 'informativo', 'contenttype': 'text', 'typingtime': '3', 'id_block': 1312, 'id_robot': 436, 'opc_nextid': None, 'pos_y': None, 'pos_x': None, 'tag_active': None}\n",
      "Datos recibidos:\n",
      "{'next_id': 'pruebaCorreo_01inicial_inicial', 'namestate': 'prueba_qa', 'contenido': 'Vamos a ver si no truena', 'contenttype': 'text', 'typingtime': 7, 'id_robot': 436, 'blocktype': 'informativo'}\n"
     ]
    },
    {
     "name": "stderr",
     "output_type": "stream",
     "text": [
      "127.0.0.1 - - [18/Mar/2021 23:48:46] \"\u001b[37mPOST /insert/bloqueinformativo HTTP/1.1\u001b[0m\" 200 -\n",
      "127.0.0.1 - - [18/Mar/2021 23:48:46] \"\u001b[37mPOST /insert/bloqueinformativo HTTP/1.1\u001b[0m\" 200 -\n",
      "127.0.0.1 - - [18/Mar/2021 23:48:46] \"\u001b[37mPOST /insert/variables HTTP/1.1\u001b[0m\" 200 -\n"
     ]
    },
    {
     "name": "stdout",
     "output_type": "stream",
     "text": [
      "intenatando consulta...\n",
      "consulta: select * from bloqueinformativo where next_id= 'pruebaCorreo_01inicial_inicial' and namestate= 'prueba_qa' and contenido= 'Vamos a ver si no truena' and contenttype= 'text' and typingtime= '7' and id_robot= '436' and blocktype= 'informativo' ;\n",
      "Datos enviados:\n",
      "{'namestate': 'prueba_qa', 'contenido': 'Vamos a ver si no truena', 'next_id': 'pruebaCorreo_01inicial_inicial', 'blocktype': 'informativo', 'contenttype': 'text', 'typingtime': '7', 'id_block': 1313, 'id_robot': 436, 'opc_nextid': None, 'pos_y': None, 'pos_x': None, 'tag_active': None}\n",
      "Datos recibidos:\n",
      "{'next_id': 'Salida', 'namestate': 'prueba_dos', 'contenido': 'Puedo hacer muchas cosas, entre ellas despedirme. Adios', 'contenttype': 'text', 'typingtime': 3, 'id_robot': 436, 'blocktype': 'informativo'}\n",
      "intenatando consulta...\n",
      "consulta: select * from bloqueinformativo where next_id= 'Salida' and namestate= 'prueba_dos' and contenido= 'Puedo hacer muchas cosas, entre ellas despedirme. Adios' and contenttype= 'text' and typingtime= '3' and id_robot= '436' and blocktype= 'informativo' ;\n",
      "Datos enviados:\n",
      "{'namestate': 'prueba_dos', 'contenido': 'Puedo hacer muchas cosas, entre ellas despedirme. Adios', 'next_id': 'Salida', 'blocktype': 'informativo', 'contenttype': 'text', 'typingtime': '3', 'id_block': 1314, 'id_robot': 436, 'opc_nextid': None, 'pos_y': None, 'pos_x': None, 'tag_active': None}\n",
      "Datos recibidos:\n",
      "{'name_var': 'var_case', 'opc_type': 'Variable', 'var': 0, 'opc_data': 'Numerico', 'id_robot': 436}\n",
      "intenatando consulta...\n",
      "consulta: select * from variables where name_var= 'var_case' and opc_type= 'Variable' and var= '0' and opc_data= 'Numerico' and id_robot= '436' ;\n",
      "Datos enviados:\n",
      "{'id_var': 1043, 'opc_type': 'Variable', 'opc_data': 'Numerico', 'var': '0', 'id_robot': 436, 'name_var': 'var_case'}\n",
      "Datos recibidos:\n",
      "{'contenido': '¿Cuál es tu correo?', 'opciones': 'email,otro', 'next_id': 'prueba_dos,prueba_slide', 'default_id': 'prueba_qa', 'namestate': 'pruebaCorreo_01inicial_inicial', 'typingtime': 3, 'id_robot': 436, 'id_var': 1043, 'blocktype': 'quickReply'}\n"
     ]
    },
    {
     "name": "stderr",
     "output_type": "stream",
     "text": [
      "127.0.0.1 - - [18/Mar/2021 23:48:46] \"\u001b[37mPOST /insert/bloquequickreply HTTP/1.1\u001b[0m\" 200 -\n",
      "127.0.0.1 - - [18/Mar/2021 23:48:46] \"\u001b[37mPOST /insert/variables HTTP/1.1\u001b[0m\" 200 -\n",
      "127.0.0.1 - - [18/Mar/2021 23:48:46] \"\u001b[37mPOST /insert/bloqueslide HTTP/1.1\u001b[0m\" 200 -\n"
     ]
    },
    {
     "name": "stdout",
     "output_type": "stream",
     "text": [
      "intenatando consulta...\n",
      "consulta: select * from bloquequickreply where contenido= '¿Cuál es tu correo?' and opciones= 'email,otro' and next_id= 'prueba_dos,prueba_slide' and default_id= 'prueba_qa' and namestate= 'pruebaCorreo_01inicial_inicial' and typingtime= '3' and id_robot= '436' and id_var= '1043' and blocktype= 'quickReply' ;\n",
      "Datos enviados:\n",
      "{'namestate': 'pruebaCorreo_01inicial_inicial', 'contenido': '¿Cuál es tu correo?', 'opciones': 'email,otro', 'next_id': 'prueba_dos,prueba_slide', 'blocktype': 'quickReply', 'typingtime': '3', 'default_id': 'prueba_qa', 'id_var': '1043', 'id_block': 458, 'id_robot': 436, 'opc_nextid': None, 'pos_y': None, 'pos_x': None, 'tag_active': None}\n",
      "Datos recibidos:\n",
      "{'name_var': 'var_slideMenu', 'opc_type': 'Variable', 'var': 0, 'opc_data': 'Numerico', 'id_robot': 436}\n",
      "intenatando consulta...\n",
      "consulta: select * from variables where name_var= 'var_slideMenu' and opc_type= 'Variable' and var= '0' and opc_data= 'Numerico' and id_robot= '436' ;\n",
      "Datos enviados:\n",
      "{'id_var': 1044, 'opc_type': 'Variable', 'opc_data': 'Numerico', 'var': '0', 'id_robot': 436, 'name_var': 'var_slideMenu'}\n",
      "Datos recibidos:\n",
      "{'namestate': 'prueba_slide', 'blocktype': 'slide', 'typingtime': 3, 'default_id': 'prueba_qa', 'id_var': 1044, 'id_robot': 436}\n",
      "intenatando consulta...\n",
      "consulta: select * from bloqueslide where namestate= 'prueba_slide' and blocktype= 'slide' and typingtime= '3' and default_id= 'prueba_qa' and id_var= '1044' and id_robot= '436' ;\n",
      "Datos enviados:\n",
      "{'namestate': 'prueba_slide', 'next_id': None, 'blocktype': 'slide', 'typingtime': '3', 'default_id': 'prueba_qa', 'id_var': '1044', 'id_block': 220, 'id_robot': 436, 'opc_nextid': None, 'pos_y': None, 'pos_x': None, 'opc_elm': None, 'tag_active': None}\n",
      "Datos recibidos:\n",
      "{'title': 'Prueba titulo', 'image_url': 'https://st2.depositphotos.com/3008028/5540/i/600/depositphotos_55407975-stock-photo-royal-blue-background.jpg', 'subtitle': 'Esta es una prueba de carrusel.', 'blocktype': 'slide', 'id_block': 220}\n"
     ]
    },
    {
     "name": "stderr",
     "output_type": "stream",
     "text": [
      "127.0.0.1 - - [18/Mar/2021 23:48:46] \"\u001b[37mPOST /insert/elementos HTTP/1.1\u001b[0m\" 200 -\n",
      "127.0.0.1 - - [18/Mar/2021 23:48:46] \"\u001b[37mPOST /insert/botones HTTP/1.1\u001b[0m\" 200 -\n",
      "127.0.0.1 - - [18/Mar/2021 23:48:47] \"\u001b[37mPOST /insert/botones HTTP/1.1\u001b[0m\" 200 -\n"
     ]
    },
    {
     "name": "stdout",
     "output_type": "stream",
     "text": [
      "intenatando consulta...\n",
      "consulta: select * from elementos where title= 'Prueba titulo' and image_url= 'https://st2.depositphotos.com/3008028/5540/i/600/depositphotos_55407975-stock-photo-royal-blue-background.jpg' and subtitle= 'Esta es una prueba de carrusel.' and blocktype= 'slide' and id_block= '220' ;\n",
      "Datos enviados:\n",
      "{'blocktype': 'slide', 'title': 'Prueba titulo', 'image_url': 'https://st2.depositphotos.com/3008028/5540/i/600/depositphotos_55407975-stock-photo-royal-blue-background.jpg', 'subtitle': 'Esta es una prueba de carrusel.', 'id_block': 220, 'id_elements': 459}\n",
      "Datos recibidos:\n",
      "{'id_elemento': '459', 'titlebutton': 'Boton 1', 'typebutton': 'web_url', 'contentbutton': 'https://www.youtube.com/', 'opc_nextid': 'https://www.youtube.com/'}\n",
      "intenatando consulta...\n",
      "consulta: select * from botones where id_elemento= '459' and titlebutton= 'Boton 1' and typebutton= 'web_url' and contentbutton= 'https://www.youtube.com/' and opc_nextid= 'https://www.youtube.com/' ;\n",
      "Datos enviados:\n",
      "{'id_elemento': '459', 'titlebutton': 'Boton 1', 'typebutton': 'web_url', 'contentbutton': 'https://www.youtube.com/', 'id_boton': 730, 'opc_nextid': 'https://www.youtube.com/'}\n",
      "Datos recibidos:\n",
      "{'id_elemento': '459', 'titlebutton': 'Boton 2', 'typebutton': 'web_url', 'contentbutton': 'https://www.reddit.com/', 'opc_nextid': 'https://www.reddit.com/'}\n",
      "intenatando consulta...\n",
      "consulta: select * from botones where id_elemento= '459' and titlebutton= 'Boton 2' and typebutton= 'web_url' and contentbutton= 'https://www.reddit.com/' and opc_nextid= 'https://www.reddit.com/' ;\n",
      "Datos enviados:\n",
      "{'id_elemento': '459', 'titlebutton': 'Boton 2', 'typebutton': 'web_url', 'contentbutton': 'https://www.reddit.com/', 'id_boton': 731, 'opc_nextid': 'https://www.reddit.com/'}\n"
     ]
    },
    {
     "name": "stderr",
     "output_type": "stream",
     "text": [
      "127.0.0.1 - - [18/Mar/2021 23:52:14] \"\u001b[37mGET /select/robots HTTP/1.1\u001b[0m\" 200 -\n",
      "127.0.0.1 - - [18/Mar/2021 23:52:14] \"\u001b[37mPOST /insert/robots HTTP/1.1\u001b[0m\" 200 -\n",
      "127.0.0.1 - - [18/Mar/2021 23:52:15] \"\u001b[37mPOST /insert/bloqueinformativo HTTP/1.1\u001b[0m\" 200 -\n"
     ]
    },
    {
     "name": "stdout",
     "output_type": "stream",
     "text": [
      "Datos recibidos:\n",
      "{'name_robot': 'charlybot', 'id_face': '111445520541316', 'block_ini': 'prueba_inicio', 'type_blocki': 'informativo', 'access_token': 'EAALZCCZBzPwfkBAAo7njAlW7s4DTj1ZCs5v1ung1MhEyMlJXOOtiG8r7JcBgXVPhZBHkJONyTB6jKG470UyqGPWn4aDPnisgtT2ZCZAwQIjQgZAZBufZBJXmHz6mPKSgdmP6ikDA87vocZBay2dfQdz1OYezmYbxwfILXUvXtjUMZAniQZDZD', 'id_user': 'charlygoldcruz@gmail.com', 'api_nlp': 'http://localhost:8282/'}\n",
      "intenatando consulta...\n",
      "consulta: select * from robots where id_face = '111445520541316';\n",
      "La consulta no trajo nada\n",
      "Datos enviados:\n",
      "{'error': 'true'}\n",
      "Datos recibidos:\n",
      "{'name_robot': 'charlybot', 'id_face': '111445520541316', 'block_ini': 'prueba_inicio', 'type_blocki': 'informativo', 'access_token': 'EAALZCCZBzPwfkBAAo7njAlW7s4DTj1ZCs5v1ung1MhEyMlJXOOtiG8r7JcBgXVPhZBHkJONyTB6jKG470UyqGPWn4aDPnisgtT2ZCZAwQIjQgZAZBufZBJXmHz6mPKSgdmP6ikDA87vocZBay2dfQdz1OYezmYbxwfILXUvXtjUMZAniQZDZD', 'id_user': 'charlygoldcruz@gmail.com', 'api_nlp': 'http://localhost:8282/'}\n",
      "intenatando consulta...\n",
      "consulta: select * from robots where id_face = '111445520541316';\n",
      "Datos enviados:\n",
      "{'name_robot': 'charlybot', 'id_face': '111445520541316', 'block_ini': 'prueba_inicio', 'type_blocki': 'informativo', 'access_token': 'EAALZCCZBzPwfkBAAo7njAlW7s4DTj1ZCs5v1ung1MhEyMlJXOOtiG8r7JcBgXVPhZBHkJONyTB6jKG470UyqGPWn4aDPnisgtT2ZCZAwQIjQgZAZBufZBJXmHz6mPKSgdmP6ikDA87vocZBay2dfQdz1OYezmYbxwfILXUvXtjUMZAniQZDZD', 'api_nlp': 'http://localhost:8282/', 'id_robot': 437, 'id_user': 'charlygoldcruz@gmail.com'}\n",
      "Datos recibidos:\n",
      "{'next_id': 'prueba_captura', 'namestate': 'prueba_inicio', 'contenido': 'Hola, soy un chatbot y esto es un mensaje de prueba y adios', 'contenttype': 'text', 'typingtime': 3, 'id_robot': 437, 'blocktype': 'informativo'}\n",
      "intenatando consulta...\n",
      "consulta: select * from bloqueinformativo where next_id= 'prueba_captura' and namestate= 'prueba_inicio' and contenido= 'Hola, soy un chatbot y esto es un mensaje de prueba y adios' and contenttype= 'text' and typingtime= '3' and id_robot= '437' and blocktype= 'informativo' ;\n",
      "Datos enviados:\n",
      "{'namestate': 'prueba_inicio', 'contenido': 'Hola, soy un chatbot y esto es un mensaje de prueba y adios', 'next_id': 'prueba_captura', 'blocktype': 'informativo', 'contenttype': 'text', 'typingtime': '3', 'id_block': 1315, 'id_robot': 437, 'opc_nextid': None, 'pos_y': None, 'pos_x': None, 'tag_active': None}\n",
      "Datos recibidos:\n",
      "{'name_var': 'email', 'opc_type': 'Variable', 'var': 0, 'opc_data': 'String', 'id_robot': 437}\n"
     ]
    },
    {
     "name": "stderr",
     "output_type": "stream",
     "text": [
      "127.0.0.1 - - [18/Mar/2021 23:52:15] \"\u001b[37mPOST /insert/variables HTTP/1.1\u001b[0m\" 200 -\n",
      "127.0.0.1 - - [18/Mar/2021 23:52:15] \"\u001b[37mPOST /insert/bloqueinput HTTP/1.1\u001b[0m\" 200 -\n",
      "127.0.0.1 - - [18/Mar/2021 23:52:15] \"\u001b[37mPOST /insert/bloqueinformativo HTTP/1.1\u001b[0m\" 200 -\n"
     ]
    },
    {
     "name": "stdout",
     "output_type": "stream",
     "text": [
      "intenatando consulta...\n",
      "consulta: select * from variables where name_var= 'email' and opc_type= 'Variable' and var= '0' and opc_data= 'String' and id_robot= '437' ;\n",
      "Datos enviados:\n",
      "{'id_var': 1045, 'opc_type': 'Variable', 'opc_data': 'String', 'var': '0', 'id_robot': 437, 'name_var': 'email'}\n",
      "Datos recibidos:\n",
      "{'next_id': 'pruebaCorreo_01inicial_inicial', 'default_id': 'prueba_captura', 'namestate': 'prueba_captura', 'contenido': 'introduce tu correo', 'contenttype': 'text', 'typingtime': 3, 'validacion': '^[a-z0-9]+[\\\\._]?[a-z0-9]+[@]\\\\w+[.]\\\\w{2,3}$', 'id_robot': 437, 'id_var': 1045, 'blocktype': 'input'}\n",
      "intenatando consulta...\n",
      "consulta: select * from bloqueinput where next_id= 'pruebaCorreo_01inicial_inicial' and default_id= 'prueba_captura' and namestate= 'prueba_captura' and contenido= 'introduce tu correo' and contenttype= 'text' and typingtime= '3' and validacion= '^[a-z0-9]+[\\._]?[a-z0-9]+[@]\\w+[.]\\w{2,3}$' and id_robot= '437' and id_var= '1045' and blocktype= 'input' ;\n",
      "Datos enviados:\n",
      "{'namestate': 'prueba_captura', 'contenido': 'introduce tu correo', 'next_id': 'pruebaCorreo_01inicial_inicial', 'blocktype': 'input', 'contenttype': 'text', 'typingtime': '3', 'validacion': '^[a-z0-9]+[\\\\._]?[a-z0-9]+[@]\\\\w+[.]\\\\w{2,3}$', 'default_id': 'prueba_captura', 'id_var': '1045', 'id_block': 167, 'id_robot': 437, 'opc_nextid': None, 'pos_y': None, 'pos_x': None, 'tag_active': None}\n",
      "Datos recibidos:\n",
      "{'next_id': 'pruebaCorreo_01inicial_inicial', 'namestate': 'prueba_qa', 'contenido': 'Vamos a ver si no truena', 'contenttype': 'text', 'typingtime': 7, 'id_robot': 437, 'blocktype': 'informativo'}\n",
      "intenatando consulta...\n",
      "consulta: select * from bloqueinformativo where next_id= 'pruebaCorreo_01inicial_inicial' and namestate= 'prueba_qa' and contenido= 'Vamos a ver si no truena' and contenttype= 'text' and typingtime= '7' and id_robot= '437' and blocktype= 'informativo' ;\n",
      "Datos enviados:\n",
      "{'namestate': 'prueba_qa', 'contenido': 'Vamos a ver si no truena', 'next_id': 'pruebaCorreo_01inicial_inicial', 'blocktype': 'informativo', 'contenttype': 'text', 'typingtime': '7', 'id_block': 1316, 'id_robot': 437, 'opc_nextid': None, 'pos_y': None, 'pos_x': None, 'tag_active': None}\n"
     ]
    },
    {
     "name": "stderr",
     "output_type": "stream",
     "text": [
      "127.0.0.1 - - [18/Mar/2021 23:52:15] \"\u001b[37mPOST /insert/bloqueinformativo HTTP/1.1\u001b[0m\" 200 -\n",
      "127.0.0.1 - - [18/Mar/2021 23:52:15] \"\u001b[37mPOST /insert/variables HTTP/1.1\u001b[0m\" 200 -\n"
     ]
    },
    {
     "name": "stdout",
     "output_type": "stream",
     "text": [
      "Datos recibidos:\n",
      "{'next_id': '', 'namestate': 'prueba_dos', 'contenido': 'Puedo hacer muchas cosas, entre ellas despedirme. Adios', 'contenttype': 'text', 'typingtime': 3, 'id_robot': 437, 'blocktype': 'informativo'}\n",
      "intenatando consulta...\n",
      "consulta: select * from bloqueinformativo where next_id= '' and namestate= 'prueba_dos' and contenido= 'Puedo hacer muchas cosas, entre ellas despedirme. Adios' and contenttype= 'text' and typingtime= '3' and id_robot= '437' and blocktype= 'informativo' ;\n",
      "Datos enviados:\n",
      "{'namestate': 'prueba_dos', 'contenido': 'Puedo hacer muchas cosas, entre ellas despedirme. Adios', 'next_id': '', 'blocktype': 'informativo', 'contenttype': 'text', 'typingtime': '3', 'id_block': 1317, 'id_robot': 437, 'opc_nextid': None, 'pos_y': None, 'pos_x': None, 'tag_active': None}\n",
      "Datos recibidos:\n",
      "{'name_var': 'var_case', 'opc_type': 'Variable', 'var': 0, 'opc_data': 'Numerico', 'id_robot': 437}\n",
      "intenatando consulta...\n",
      "consulta: select * from variables where name_var= 'var_case' and opc_type= 'Variable' and var= '0' and opc_data= 'Numerico' and id_robot= '437' ;\n",
      "Datos enviados:\n",
      "{'id_var': 1046, 'opc_type': 'Variable', 'opc_data': 'Numerico', 'var': '0', 'id_robot': 437, 'name_var': 'var_case'}\n",
      "Datos recibidos:\n",
      "{'contenido': '¿Cuál es tu correo?', 'opciones': 'email,otro', 'next_id': 'prueba_dos,prueba_slide', 'default_id': 'prueba_qa', 'namestate': 'pruebaCorreo_01inicial_inicial', 'typingtime': 3, 'id_robot': 437, 'id_var': 1046, 'blocktype': 'quickReply'}\n"
     ]
    },
    {
     "name": "stderr",
     "output_type": "stream",
     "text": [
      "127.0.0.1 - - [18/Mar/2021 23:52:15] \"\u001b[37mPOST /insert/bloquequickreply HTTP/1.1\u001b[0m\" 200 -\n",
      "127.0.0.1 - - [18/Mar/2021 23:52:15] \"\u001b[37mPOST /insert/variables HTTP/1.1\u001b[0m\" 200 -\n",
      "127.0.0.1 - - [18/Mar/2021 23:52:15] \"\u001b[37mPOST /insert/bloqueslide HTTP/1.1\u001b[0m\" 200 -\n"
     ]
    },
    {
     "name": "stdout",
     "output_type": "stream",
     "text": [
      "intenatando consulta...\n",
      "consulta: select * from bloquequickreply where contenido= '¿Cuál es tu correo?' and opciones= 'email,otro' and next_id= 'prueba_dos,prueba_slide' and default_id= 'prueba_qa' and namestate= 'pruebaCorreo_01inicial_inicial' and typingtime= '3' and id_robot= '437' and id_var= '1046' and blocktype= 'quickReply' ;\n",
      "Datos enviados:\n",
      "{'namestate': 'pruebaCorreo_01inicial_inicial', 'contenido': '¿Cuál es tu correo?', 'opciones': 'email,otro', 'next_id': 'prueba_dos,prueba_slide', 'blocktype': 'quickReply', 'typingtime': '3', 'default_id': 'prueba_qa', 'id_var': '1046', 'id_block': 459, 'id_robot': 437, 'opc_nextid': None, 'pos_y': None, 'pos_x': None, 'tag_active': None}\n",
      "Datos recibidos:\n",
      "{'name_var': 'var_slideMenu', 'opc_type': 'Variable', 'var': 0, 'opc_data': 'Numerico', 'id_robot': 437}\n",
      "intenatando consulta...\n",
      "consulta: select * from variables where name_var= 'var_slideMenu' and opc_type= 'Variable' and var= '0' and opc_data= 'Numerico' and id_robot= '437' ;\n",
      "Datos enviados:\n",
      "{'id_var': 1047, 'opc_type': 'Variable', 'opc_data': 'Numerico', 'var': '0', 'id_robot': 437, 'name_var': 'var_slideMenu'}\n",
      "Datos recibidos:\n",
      "{'namestate': 'prueba_slide', 'blocktype': 'slide', 'typingtime': 3, 'default_id': 'prueba_qa', 'id_var': 1047, 'id_robot': 437}\n",
      "intenatando consulta...\n",
      "consulta: select * from bloqueslide where namestate= 'prueba_slide' and blocktype= 'slide' and typingtime= '3' and default_id= 'prueba_qa' and id_var= '1047' and id_robot= '437' ;\n",
      "Datos enviados:\n",
      "{'namestate': 'prueba_slide', 'next_id': None, 'blocktype': 'slide', 'typingtime': '3', 'default_id': 'prueba_qa', 'id_var': '1047', 'id_block': 221, 'id_robot': 437, 'opc_nextid': None, 'pos_y': None, 'pos_x': None, 'opc_elm': None, 'tag_active': None}\n",
      "Datos recibidos:\n",
      "{'title': 'Prueba titulo', 'image_url': 'https://infosertecblog.files.wordpress.com/2016/08/bot-de-telegram.jpg', 'subtitle': 'Esta es una prueba de carrusel.', 'blocktype': 'slide', 'id_block': 221}\n"
     ]
    },
    {
     "name": "stderr",
     "output_type": "stream",
     "text": [
      "127.0.0.1 - - [18/Mar/2021 23:52:15] \"\u001b[37mPOST /insert/elementos HTTP/1.1\u001b[0m\" 200 -\n",
      "127.0.0.1 - - [18/Mar/2021 23:52:15] \"\u001b[37mPOST /insert/botones HTTP/1.1\u001b[0m\" 200 -\n",
      "127.0.0.1 - - [18/Mar/2021 23:52:15] \"\u001b[37mPOST /insert/botones HTTP/1.1\u001b[0m\" 200 -\n"
     ]
    },
    {
     "name": "stdout",
     "output_type": "stream",
     "text": [
      "intenatando consulta...\n",
      "consulta: select * from elementos where title= 'Prueba titulo' and image_url= 'https://infosertecblog.files.wordpress.com/2016/08/bot-de-telegram.jpg' and subtitle= 'Esta es una prueba de carrusel.' and blocktype= 'slide' and id_block= '221' ;\n",
      "Datos enviados:\n",
      "{'blocktype': 'slide', 'title': 'Prueba titulo', 'image_url': 'https://infosertecblog.files.wordpress.com/2016/08/bot-de-telegram.jpg', 'subtitle': 'Esta es una prueba de carrusel.', 'id_block': 221, 'id_elements': 460}\n",
      "Datos recibidos:\n",
      "{'id_elemento': '460', 'titlebutton': 'Boton 1', 'typebutton': 'web_url', 'contentbutton': 'https://www.youtube.com/', 'opc_nextid': 'https://www.youtube.com/'}\n",
      "intenatando consulta...\n",
      "consulta: select * from botones where id_elemento= '460' and titlebutton= 'Boton 1' and typebutton= 'web_url' and contentbutton= 'https://www.youtube.com/' and opc_nextid= 'https://www.youtube.com/' ;\n",
      "Datos enviados:\n",
      "{'id_elemento': '460', 'titlebutton': 'Boton 1', 'typebutton': 'web_url', 'contentbutton': 'https://www.youtube.com/', 'id_boton': 732, 'opc_nextid': 'https://www.youtube.com/'}\n",
      "Datos recibidos:\n",
      "{'id_elemento': '460', 'titlebutton': 'Boton 2', 'typebutton': 'web_url', 'contentbutton': 'https://www.reddit.com/', 'opc_nextid': 'https://www.reddit.com/'}\n",
      "intenatando consulta...\n",
      "consulta: select * from botones where id_elemento= '460' and titlebutton= 'Boton 2' and typebutton= 'web_url' and contentbutton= 'https://www.reddit.com/' and opc_nextid= 'https://www.reddit.com/' ;\n",
      "Datos enviados:\n",
      "{'id_elemento': '460', 'titlebutton': 'Boton 2', 'typebutton': 'web_url', 'contentbutton': 'https://www.reddit.com/', 'id_boton': 733, 'opc_nextid': 'https://www.reddit.com/'}\n"
     ]
    },
    {
     "name": "stderr",
     "output_type": "stream",
     "text": [
      "127.0.0.1 - - [18/Mar/2021 23:54:36] \"\u001b[37mGET /select/robots HTTP/1.1\u001b[0m\" 200 -\n",
      "127.0.0.1 - - [18/Mar/2021 23:54:36] \"\u001b[37mPOST /insert/robots HTTP/1.1\u001b[0m\" 200 -\n",
      "127.0.0.1 - - [18/Mar/2021 23:54:36] \"\u001b[37mPOST /insert/bloqueinformativo HTTP/1.1\u001b[0m\" 200 -\n"
     ]
    },
    {
     "name": "stdout",
     "output_type": "stream",
     "text": [
      "Datos recibidos:\n",
      "{'name_robot': 'charlybot', 'id_face': '111445520541316', 'block_ini': 'prueba_inicio', 'type_blocki': 'informativo', 'access_token': 'EAALZCCZBzPwfkBAAo7njAlW7s4DTj1ZCs5v1ung1MhEyMlJXOOtiG8r7JcBgXVPhZBHkJONyTB6jKG470UyqGPWn4aDPnisgtT2ZCZAwQIjQgZAZBufZBJXmHz6mPKSgdmP6ikDA87vocZBay2dfQdz1OYezmYbxwfILXUvXtjUMZAniQZDZD', 'id_user': 'charlygoldcruz@gmail.com', 'api_nlp': 'http://localhost:8282/'}\n",
      "intenatando consulta...\n",
      "consulta: select * from robots where id_face = '111445520541316';\n",
      "La consulta no trajo nada\n",
      "Datos enviados:\n",
      "{'error': 'true'}\n",
      "Datos recibidos:\n",
      "{'name_robot': 'charlybot', 'id_face': '111445520541316', 'block_ini': 'prueba_inicio', 'type_blocki': 'informativo', 'access_token': 'EAALZCCZBzPwfkBAAo7njAlW7s4DTj1ZCs5v1ung1MhEyMlJXOOtiG8r7JcBgXVPhZBHkJONyTB6jKG470UyqGPWn4aDPnisgtT2ZCZAwQIjQgZAZBufZBJXmHz6mPKSgdmP6ikDA87vocZBay2dfQdz1OYezmYbxwfILXUvXtjUMZAniQZDZD', 'id_user': 'charlygoldcruz@gmail.com', 'api_nlp': 'http://localhost:8282/'}\n",
      "intenatando consulta...\n",
      "consulta: select * from robots where id_face = '111445520541316';\n",
      "Datos enviados:\n",
      "{'name_robot': 'charlybot', 'id_face': '111445520541316', 'block_ini': 'prueba_inicio', 'type_blocki': 'informativo', 'access_token': 'EAALZCCZBzPwfkBAAo7njAlW7s4DTj1ZCs5v1ung1MhEyMlJXOOtiG8r7JcBgXVPhZBHkJONyTB6jKG470UyqGPWn4aDPnisgtT2ZCZAwQIjQgZAZBufZBJXmHz6mPKSgdmP6ikDA87vocZBay2dfQdz1OYezmYbxwfILXUvXtjUMZAniQZDZD', 'api_nlp': 'http://localhost:8282/', 'id_robot': 438, 'id_user': 'charlygoldcruz@gmail.com'}\n",
      "Datos recibidos:\n",
      "{'next_id': 'prueba_captura', 'namestate': 'prueba_inicio', 'contenido': 'Hola, soy un chatbot y esto es un mensaje de prueba y adios', 'contenttype': 'text', 'typingtime': 3, 'id_robot': 438, 'blocktype': 'informativo'}\n",
      "intenatando consulta...\n",
      "consulta: select * from bloqueinformativo where next_id= 'prueba_captura' and namestate= 'prueba_inicio' and contenido= 'Hola, soy un chatbot y esto es un mensaje de prueba y adios' and contenttype= 'text' and typingtime= '3' and id_robot= '438' and blocktype= 'informativo' ;\n",
      "Datos enviados:\n",
      "{'namestate': 'prueba_inicio', 'contenido': 'Hola, soy un chatbot y esto es un mensaje de prueba y adios', 'next_id': 'prueba_captura', 'blocktype': 'informativo', 'contenttype': 'text', 'typingtime': '3', 'id_block': 1318, 'id_robot': 438, 'opc_nextid': None, 'pos_y': None, 'pos_x': None, 'tag_active': None}\n"
     ]
    },
    {
     "name": "stderr",
     "output_type": "stream",
     "text": [
      "127.0.0.1 - - [18/Mar/2021 23:54:36] \"\u001b[37mPOST /insert/variables HTTP/1.1\u001b[0m\" 200 -\n",
      "127.0.0.1 - - [18/Mar/2021 23:54:36] \"\u001b[37mPOST /insert/bloqueinput HTTP/1.1\u001b[0m\" 200 -\n"
     ]
    },
    {
     "name": "stdout",
     "output_type": "stream",
     "text": [
      "Datos recibidos:\n",
      "{'name_var': 'email', 'opc_type': 'Variable', 'var': 0, 'opc_data': 'String', 'id_robot': 438}\n",
      "intenatando consulta...\n",
      "consulta: select * from variables where name_var= 'email' and opc_type= 'Variable' and var= '0' and opc_data= 'String' and id_robot= '438' ;\n",
      "Datos enviados:\n",
      "{'id_var': 1048, 'opc_type': 'Variable', 'opc_data': 'String', 'var': '0', 'id_robot': 438, 'name_var': 'email'}\n",
      "Datos recibidos:\n",
      "{'next_id': 'pruebaCorreo_01inicial_inicial', 'default_id': 'prueba_captura', 'namestate': 'prueba_captura', 'contenido': 'introduce tu correo', 'contenttype': 'text', 'typingtime': 3, 'validacion': '^[a-z0-9]+[\\\\._]?[a-z0-9]+[@]\\\\w+[.]\\\\w{2,3}$', 'id_robot': 438, 'id_var': 1048, 'blocktype': 'input'}\n",
      "intenatando consulta...\n",
      "consulta: select * from bloqueinput where next_id= 'pruebaCorreo_01inicial_inicial' and default_id= 'prueba_captura' and namestate= 'prueba_captura' and contenido= 'introduce tu correo' and contenttype= 'text' and typingtime= '3' and validacion= '^[a-z0-9]+[\\._]?[a-z0-9]+[@]\\w+[.]\\w{2,3}$' and id_robot= '438' and id_var= '1048' and blocktype= 'input' ;\n",
      "Datos enviados:\n",
      "{'namestate': 'prueba_captura', 'contenido': 'introduce tu correo', 'next_id': 'pruebaCorreo_01inicial_inicial', 'blocktype': 'input', 'contenttype': 'text', 'typingtime': '3', 'validacion': '^[a-z0-9]+[\\\\._]?[a-z0-9]+[@]\\\\w+[.]\\\\w{2,3}$', 'default_id': 'prueba_captura', 'id_var': '1048', 'id_block': 168, 'id_robot': 438, 'opc_nextid': None, 'pos_y': None, 'pos_x': None, 'tag_active': None}\n",
      "Datos recibidos:\n",
      "{'next_id': 'pruebaCorreo_01inicial_inicial', 'namestate': 'prueba_qa', 'contenido': 'Vamos a ver si no truena', 'contenttype': 'text', 'typingtime': 7, 'id_robot': 438, 'blocktype': 'informativo'}\n",
      "intenatando consulta...\n",
      "consulta: select * from bloqueinformativo where next_id= 'pruebaCorreo_01inicial_inicial' and namestate= 'prueba_qa' and contenido= 'Vamos a ver si no truena' and contenttype= 'text' and typingtime= '7' and id_robot= '438' and blocktype= 'informativo' ;\n"
     ]
    },
    {
     "name": "stderr",
     "output_type": "stream",
     "text": [
      "127.0.0.1 - - [18/Mar/2021 23:54:36] \"\u001b[37mPOST /insert/bloqueinformativo HTTP/1.1\u001b[0m\" 200 -\n",
      "127.0.0.1 - - [18/Mar/2021 23:54:36] \"\u001b[37mPOST /insert/bloqueinformativo HTTP/1.1\u001b[0m\" 200 -\n",
      "127.0.0.1 - - [18/Mar/2021 23:54:36] \"\u001b[37mPOST /insert/variables HTTP/1.1\u001b[0m\" 200 -\n"
     ]
    },
    {
     "name": "stdout",
     "output_type": "stream",
     "text": [
      "Datos enviados:\n",
      "{'namestate': 'prueba_qa', 'contenido': 'Vamos a ver si no truena', 'next_id': 'pruebaCorreo_01inicial_inicial', 'blocktype': 'informativo', 'contenttype': 'text', 'typingtime': '7', 'id_block': 1319, 'id_robot': 438, 'opc_nextid': None, 'pos_y': None, 'pos_x': None, 'tag_active': None}\n",
      "Datos recibidos:\n",
      "{'next_id': '', 'namestate': 'Salida', 'contenido': 'Puedo hacer muchas cosas, entre ellas despedirme. Adios', 'contenttype': 'text', 'typingtime': 3, 'id_robot': 438, 'blocktype': 'informativo'}\n",
      "intenatando consulta...\n",
      "consulta: select * from bloqueinformativo where next_id= '' and namestate= 'Salida' and contenido= 'Puedo hacer muchas cosas, entre ellas despedirme. Adios' and contenttype= 'text' and typingtime= '3' and id_robot= '438' and blocktype= 'informativo' ;\n",
      "Datos enviados:\n",
      "{'namestate': 'Salida', 'contenido': 'Puedo hacer muchas cosas, entre ellas despedirme. Adios', 'next_id': '', 'blocktype': 'informativo', 'contenttype': 'text', 'typingtime': '3', 'id_block': 1320, 'id_robot': 438, 'opc_nextid': None, 'pos_y': None, 'pos_x': None, 'tag_active': None}\n",
      "Datos recibidos:\n",
      "{'name_var': 'var_case', 'opc_type': 'Variable', 'var': 0, 'opc_data': 'Numerico', 'id_robot': 438}\n",
      "intenatando consulta...\n",
      "consulta: select * from variables where name_var= 'var_case' and opc_type= 'Variable' and var= '0' and opc_data= 'Numerico' and id_robot= '438' ;\n",
      "Datos enviados:\n",
      "{'id_var': 1049, 'opc_type': 'Variable', 'opc_data': 'Numerico', 'var': '0', 'id_robot': 438, 'name_var': 'var_case'}\n",
      "Datos recibidos:\n",
      "{'contenido': '¿Cuál es tu correo?', 'opciones': 'Salir del bot.,Probar carrusel', 'next_id': 'Salida,prueba_slide', 'default_id': 'prueba_qa', 'namestate': 'pruebaCorreo_01inicial_inicial', 'typingtime': 3, 'id_robot': 438, 'id_var': 1049, 'blocktype': 'quickReply'}\n"
     ]
    },
    {
     "name": "stderr",
     "output_type": "stream",
     "text": [
      "127.0.0.1 - - [18/Mar/2021 23:54:37] \"\u001b[37mPOST /insert/bloquequickreply HTTP/1.1\u001b[0m\" 200 -\n",
      "127.0.0.1 - - [18/Mar/2021 23:54:37] \"\u001b[37mPOST /insert/variables HTTP/1.1\u001b[0m\" 200 -\n",
      "127.0.0.1 - - [18/Mar/2021 23:54:37] \"\u001b[37mPOST /insert/bloqueslide HTTP/1.1\u001b[0m\" 200 -\n"
     ]
    },
    {
     "name": "stdout",
     "output_type": "stream",
     "text": [
      "intenatando consulta...\n",
      "consulta: select * from bloquequickreply where contenido= '¿Cuál es tu correo?' and opciones= 'Salir del bot.,Probar carrusel' and next_id= 'Salida,prueba_slide' and default_id= 'prueba_qa' and namestate= 'pruebaCorreo_01inicial_inicial' and typingtime= '3' and id_robot= '438' and id_var= '1049' and blocktype= 'quickReply' ;\n",
      "Datos enviados:\n",
      "{'namestate': 'pruebaCorreo_01inicial_inicial', 'contenido': '¿Cuál es tu correo?', 'opciones': 'Salir del bot.,Probar carrusel', 'next_id': 'Salida,prueba_slide', 'blocktype': 'quickReply', 'typingtime': '3', 'default_id': 'prueba_qa', 'id_var': '1049', 'id_block': 460, 'id_robot': 438, 'opc_nextid': None, 'pos_y': None, 'pos_x': None, 'tag_active': None}\n",
      "Datos recibidos:\n",
      "{'name_var': 'var_slideMenu', 'opc_type': 'Variable', 'var': 0, 'opc_data': 'Numerico', 'id_robot': 438}\n",
      "intenatando consulta...\n",
      "consulta: select * from variables where name_var= 'var_slideMenu' and opc_type= 'Variable' and var= '0' and opc_data= 'Numerico' and id_robot= '438' ;\n",
      "Datos enviados:\n",
      "{'id_var': 1050, 'opc_type': 'Variable', 'opc_data': 'Numerico', 'var': '0', 'id_robot': 438, 'name_var': 'var_slideMenu'}\n",
      "Datos recibidos:\n",
      "{'namestate': 'prueba_slide', 'blocktype': 'slide', 'typingtime': 3, 'default_id': 'prueba_qa', 'id_var': 1050, 'id_robot': 438}\n",
      "intenatando consulta...\n",
      "consulta: select * from bloqueslide where namestate= 'prueba_slide' and blocktype= 'slide' and typingtime= '3' and default_id= 'prueba_qa' and id_var= '1050' and id_robot= '438' ;\n",
      "Datos enviados:\n",
      "{'namestate': 'prueba_slide', 'next_id': None, 'blocktype': 'slide', 'typingtime': '3', 'default_id': 'prueba_qa', 'id_var': '1050', 'id_block': 222, 'id_robot': 438, 'opc_nextid': None, 'pos_y': None, 'pos_x': None, 'opc_elm': None, 'tag_active': None}\n",
      "Datos recibidos:\n",
      "{'title': 'Prueba titulo', 'image_url': 'https://infosertecblog.files.wordpress.com/2016/08/bot-de-telegram.jpg', 'subtitle': 'Esta es una prueba de carrusel.', 'blocktype': 'slide', 'id_block': 222}\n"
     ]
    },
    {
     "name": "stderr",
     "output_type": "stream",
     "text": [
      "127.0.0.1 - - [18/Mar/2021 23:54:37] \"\u001b[37mPOST /insert/elementos HTTP/1.1\u001b[0m\" 200 -\n",
      "127.0.0.1 - - [18/Mar/2021 23:54:37] \"\u001b[37mPOST /insert/botones HTTP/1.1\u001b[0m\" 200 -\n",
      "127.0.0.1 - - [18/Mar/2021 23:54:37] \"\u001b[37mPOST /insert/botones HTTP/1.1\u001b[0m\" 200 -\n"
     ]
    },
    {
     "name": "stdout",
     "output_type": "stream",
     "text": [
      "intenatando consulta...\n",
      "consulta: select * from elementos where title= 'Prueba titulo' and image_url= 'https://infosertecblog.files.wordpress.com/2016/08/bot-de-telegram.jpg' and subtitle= 'Esta es una prueba de carrusel.' and blocktype= 'slide' and id_block= '222' ;\n",
      "Datos enviados:\n",
      "{'blocktype': 'slide', 'title': 'Prueba titulo', 'image_url': 'https://infosertecblog.files.wordpress.com/2016/08/bot-de-telegram.jpg', 'subtitle': 'Esta es una prueba de carrusel.', 'id_block': 222, 'id_elements': 461}\n",
      "Datos recibidos:\n",
      "{'id_elemento': '461', 'titlebutton': 'Youtube', 'typebutton': 'web_url', 'contentbutton': 'https://www.youtube.com/', 'opc_nextid': 'https://www.youtube.com/'}\n",
      "intenatando consulta...\n",
      "consulta: select * from botones where id_elemento= '461' and titlebutton= 'Youtube' and typebutton= 'web_url' and contentbutton= 'https://www.youtube.com/' and opc_nextid= 'https://www.youtube.com/' ;\n",
      "Datos enviados:\n",
      "{'id_elemento': '461', 'titlebutton': 'Youtube', 'typebutton': 'web_url', 'contentbutton': 'https://www.youtube.com/', 'id_boton': 734, 'opc_nextid': 'https://www.youtube.com/'}\n",
      "Datos recibidos:\n",
      "{'id_elemento': '461', 'titlebutton': 'Reddit', 'typebutton': 'web_url', 'contentbutton': 'https://www.reddit.com/', 'opc_nextid': 'https://www.reddit.com/'}\n",
      "intenatando consulta...\n",
      "consulta: select * from botones where id_elemento= '461' and titlebutton= 'Reddit' and typebutton= 'web_url' and contentbutton= 'https://www.reddit.com/' and opc_nextid= 'https://www.reddit.com/' ;\n",
      "Datos enviados:\n",
      "{'id_elemento': '461', 'titlebutton': 'Reddit', 'typebutton': 'web_url', 'contentbutton': 'https://www.reddit.com/', 'id_boton': 735, 'opc_nextid': 'https://www.reddit.com/'}\n"
     ]
    },
    {
     "name": "stderr",
     "output_type": "stream",
     "text": [
      "127.0.0.1 - - [18/Mar/2021 23:56:30] \"\u001b[37mGET /select/robots HTTP/1.1\u001b[0m\" 200 -\n",
      "127.0.0.1 - - [18/Mar/2021 23:56:30] \"\u001b[37mGET /select/bloqueslide HTTP/1.1\u001b[0m\" 200 -\n",
      "127.0.0.1 - - [18/Mar/2021 23:56:30] \"\u001b[37mGET /select/elementos HTTP/1.1\u001b[0m\" 200 -\n"
     ]
    },
    {
     "name": "stdout",
     "output_type": "stream",
     "text": [
      "Datos recibidos:\n",
      "{'name_robot': 'charlybot', 'id_face': '111445520541316', 'block_ini': 'prueba_inicio', 'type_blocki': 'informativo', 'access_token': 'EAALZCCZBzPwfkBAAo7njAlW7s4DTj1ZCs5v1ung1MhEyMlJXOOtiG8r7JcBgXVPhZBHkJONyTB6jKG470UyqGPWn4aDPnisgtT2ZCZAwQIjQgZAZBufZBJXmHz6mPKSgdmP6ikDA87vocZBay2dfQdz1OYezmYbxwfILXUvXtjUMZAniQZDZD', 'id_user': 'charlygoldcruz@gmail.com', 'api_nlp': 'http://localhost:8282/'}\n",
      "intenatando consulta...\n",
      "consulta: select * from robots where id_face = '111445520541316';\n",
      "Datos enviados:\n",
      "{'name_robot': 'charlybot', 'id_face': '111445520541316', 'block_ini': 'prueba_inicio', 'type_blocki': 'informativo', 'access_token': 'EAALZCCZBzPwfkBAAo7njAlW7s4DTj1ZCs5v1ung1MhEyMlJXOOtiG8r7JcBgXVPhZBHkJONyTB6jKG470UyqGPWn4aDPnisgtT2ZCZAwQIjQgZAZBufZBJXmHz6mPKSgdmP6ikDA87vocZBay2dfQdz1OYezmYbxwfILXUvXtjUMZAniQZDZD', 'api_nlp': 'http://localhost:8282/', 'id_robot': 438, 'id_user': 'charlygoldcruz@gmail.com'}\n",
      "Datos recibidos:\n",
      "{'id_robot': '438'}\n",
      "intenatando consulta...\n",
      "consulta: select * from bloqueslide where id_robot= '438' ;\n",
      "Datos enviados:\n",
      "{'namestate': 'prueba_slide', 'next_id': 'https://www.youtube.com/,https://www.reddit.com/', 'blocktype': 'slide', 'typingtime': '3', 'default_id': 'prueba_qa', 'id_var': '1050', 'id_block': 222, 'id_robot': 438, 'opc_nextid': None, 'pos_y': None, 'pos_x': None, 'opc_elm': None, 'tag_active': None}\n",
      "Datos recibidos:\n",
      "{'id_block': 222}\n",
      "intenatando consulta...\n",
      "consulta: select * from elementos where id_block= '222' ;\n",
      "Datos enviados:\n",
      "{'blocktype': 'slide', 'title': 'Prueba titulo', 'image_url': 'https://infosertecblog.files.wordpress.com/2016/08/bot-de-telegram.jpg', 'subtitle': 'Esta es una prueba de carrusel.', 'id_block': 222, 'id_elements': 461}\n"
     ]
    },
    {
     "name": "stderr",
     "output_type": "stream",
     "text": [
      "127.0.0.1 - - [18/Mar/2021 23:56:31] \"\u001b[37mPOST /insert/bloqueinformativo HTTP/1.1\u001b[0m\" 200 -\n",
      "127.0.0.1 - - [18/Mar/2021 23:56:31] \"\u001b[37mPOST /insert/variables HTTP/1.1\u001b[0m\" 200 -\n"
     ]
    },
    {
     "name": "stdout",
     "output_type": "stream",
     "text": [
      "Datos recibidos:\n",
      "{'next_id': 'prueba_captura', 'namestate': 'prueba_inicio', 'contenido': 'Hola, soy un chatbot y esto es un mensaje de prueba y adios', 'contenttype': 'text', 'typingtime': 3, 'id_robot': 438, 'blocktype': 'informativo'}\n",
      "intenatando consulta...\n",
      "consulta: select * from bloqueinformativo where next_id= 'prueba_captura' and namestate= 'prueba_inicio' and contenido= 'Hola, soy un chatbot y esto es un mensaje de prueba y adios' and contenttype= 'text' and typingtime= '3' and id_robot= '438' and blocktype= 'informativo' ;\n",
      "Datos enviados:\n",
      "{'namestate': 'prueba_inicio', 'contenido': 'Hola, soy un chatbot y esto es un mensaje de prueba y adios', 'next_id': 'prueba_captura', 'blocktype': 'informativo', 'contenttype': 'text', 'typingtime': '3', 'id_block': 1321, 'id_robot': 438, 'opc_nextid': None, 'pos_y': None, 'pos_x': None, 'tag_active': None}\n",
      "Datos recibidos:\n",
      "{'name_var': 'email', 'opc_type': 'Variable', 'var': 0, 'opc_data': 'String', 'id_robot': 438}\n",
      "intenatando consulta...\n",
      "consulta: select * from variables where name_var= 'email' and opc_type= 'Variable' and var= '0' and opc_data= 'String' and id_robot= '438' ;\n",
      "Datos enviados:\n",
      "{'id_var': 1051, 'opc_type': 'Variable', 'opc_data': 'String', 'var': '0', 'id_robot': 438, 'name_var': 'email'}\n",
      "Datos recibidos:\n",
      "{'next_id': 'pruebaCorreo_01inicial_inicial', 'default_id': 'prueba_captura', 'namestate': 'prueba_captura', 'contenido': 'introduce tu correo', 'contenttype': 'text', 'typingtime': 3, 'validacion': '^[a-z0-9]+[\\\\._]?[a-z0-9]+[@]\\\\w+[.]\\\\w{2,3}$', 'id_robot': 438, 'id_var': 1051, 'blocktype': 'input'}\n"
     ]
    },
    {
     "name": "stderr",
     "output_type": "stream",
     "text": [
      "127.0.0.1 - - [18/Mar/2021 23:56:31] \"\u001b[37mPOST /insert/bloqueinput HTTP/1.1\u001b[0m\" 200 -\n",
      "127.0.0.1 - - [18/Mar/2021 23:56:31] \"\u001b[37mPOST /insert/bloqueinformativo HTTP/1.1\u001b[0m\" 200 -\n",
      "127.0.0.1 - - [18/Mar/2021 23:56:31] \"\u001b[37mPOST /insert/variables HTTP/1.1\u001b[0m\" 200 -\n"
     ]
    },
    {
     "name": "stdout",
     "output_type": "stream",
     "text": [
      "intenatando consulta...\n",
      "consulta: select * from bloqueinput where next_id= 'pruebaCorreo_01inicial_inicial' and default_id= 'prueba_captura' and namestate= 'prueba_captura' and contenido= 'introduce tu correo' and contenttype= 'text' and typingtime= '3' and validacion= '^[a-z0-9]+[\\._]?[a-z0-9]+[@]\\w+[.]\\w{2,3}$' and id_robot= '438' and id_var= '1051' and blocktype= 'input' ;\n",
      "Datos enviados:\n",
      "{'namestate': 'prueba_captura', 'contenido': 'introduce tu correo', 'next_id': 'pruebaCorreo_01inicial_inicial', 'blocktype': 'input', 'contenttype': 'text', 'typingtime': '3', 'validacion': '^[a-z0-9]+[\\\\._]?[a-z0-9]+[@]\\\\w+[.]\\\\w{2,3}$', 'default_id': 'prueba_captura', 'id_var': '1051', 'id_block': 169, 'id_robot': 438, 'opc_nextid': None, 'pos_y': None, 'pos_x': None, 'tag_active': None}\n",
      "Datos recibidos:\n",
      "{'next_id': 'pruebaCorreo_01inicial_inicial', 'namestate': 'prueba_qa', 'contenido': 'Vamos a ver si no truena', 'contenttype': 'text', 'typingtime': 7, 'id_robot': 438, 'blocktype': 'informativo'}\n",
      "intenatando consulta...\n",
      "consulta: select * from bloqueinformativo where next_id= 'pruebaCorreo_01inicial_inicial' and namestate= 'prueba_qa' and contenido= 'Vamos a ver si no truena' and contenttype= 'text' and typingtime= '7' and id_robot= '438' and blocktype= 'informativo' ;\n",
      "Datos enviados:\n",
      "{'namestate': 'prueba_qa', 'contenido': 'Vamos a ver si no truena', 'next_id': 'pruebaCorreo_01inicial_inicial', 'blocktype': 'informativo', 'contenttype': 'text', 'typingtime': '7', 'id_block': 1322, 'id_robot': 438, 'opc_nextid': None, 'pos_y': None, 'pos_x': None, 'tag_active': None}\n",
      "Datos recibidos:\n",
      "{'name_var': 'var_case', 'opc_type': 'Variable', 'var': 0, 'opc_data': 'Numerico', 'id_robot': 438}\n",
      "intenatando consulta...\n",
      "consulta: select * from variables where name_var= 'var_case' and opc_type= 'Variable' and var= '0' and opc_data= 'Numerico' and id_robot= '438' ;\n",
      "Datos enviados:\n",
      "{'id_var': 1052, 'opc_type': 'Variable', 'opc_data': 'Numerico', 'var': '0', 'id_robot': 438, 'name_var': 'var_case'}\n"
     ]
    },
    {
     "name": "stderr",
     "output_type": "stream",
     "text": [
      "127.0.0.1 - - [18/Mar/2021 23:56:31] \"\u001b[37mPOST /insert/bloquequickreply HTTP/1.1\u001b[0m\" 200 -\n",
      "127.0.0.1 - - [18/Mar/2021 23:56:31] \"\u001b[37mPOST /insert/variables HTTP/1.1\u001b[0m\" 200 -\n"
     ]
    },
    {
     "name": "stdout",
     "output_type": "stream",
     "text": [
      "Datos recibidos:\n",
      "{'contenido': '¿Cuál es tu correo?', 'opciones': 'Salir del bot.,Probar carrusel', 'next_id': 'Salida,prueba_slide', 'default_id': 'prueba_qa', 'namestate': 'pruebaCorreo_01inicial_inicial', 'typingtime': 3, 'id_robot': 438, 'id_var': 1052, 'blocktype': 'quickReply'}\n",
      "intenatando consulta...\n",
      "consulta: select * from bloquequickreply where contenido= '¿Cuál es tu correo?' and opciones= 'Salir del bot.,Probar carrusel' and next_id= 'Salida,prueba_slide' and default_id= 'prueba_qa' and namestate= 'pruebaCorreo_01inicial_inicial' and typingtime= '3' and id_robot= '438' and id_var= '1052' and blocktype= 'quickReply' ;\n",
      "Datos enviados:\n",
      "{'namestate': 'pruebaCorreo_01inicial_inicial', 'contenido': '¿Cuál es tu correo?', 'opciones': 'Salir del bot.,Probar carrusel', 'next_id': 'Salida,prueba_slide', 'blocktype': 'quickReply', 'typingtime': '3', 'default_id': 'prueba_qa', 'id_var': '1052', 'id_block': 461, 'id_robot': 438, 'opc_nextid': None, 'pos_y': None, 'pos_x': None, 'tag_active': None}\n",
      "Datos recibidos:\n",
      "{'name_var': 'var_slideMenu', 'opc_type': 'Variable', 'var': 0, 'opc_data': 'Numerico', 'id_robot': 438}\n",
      "intenatando consulta...\n",
      "consulta: select * from variables where name_var= 'var_slideMenu' and opc_type= 'Variable' and var= '0' and opc_data= 'Numerico' and id_robot= '438' ;\n",
      "Datos enviados:\n",
      "{'id_var': 1053, 'opc_type': 'Variable', 'opc_data': 'Numerico', 'var': '0', 'id_robot': 438, 'name_var': 'var_slideMenu'}\n",
      "Datos recibidos:\n",
      "{'namestate': 'prueba_slide', 'blocktype': 'slide', 'typingtime': 3, 'default_id': 'prueba_qa', 'id_var': 1053, 'id_robot': 438}\n",
      "intenatando consulta...\n",
      "consulta: select * from bloqueslide where namestate= 'prueba_slide' and blocktype= 'slide' and typingtime= '3' and default_id= 'prueba_qa' and id_var= '1053' and id_robot= '438' ;\n"
     ]
    },
    {
     "name": "stderr",
     "output_type": "stream",
     "text": [
      "127.0.0.1 - - [18/Mar/2021 23:56:31] \"\u001b[37mPOST /insert/bloqueslide HTTP/1.1\u001b[0m\" 200 -\n",
      "127.0.0.1 - - [18/Mar/2021 23:56:31] \"\u001b[37mPOST /insert/elementos HTTP/1.1\u001b[0m\" 200 -\n",
      "127.0.0.1 - - [18/Mar/2021 23:56:31] \"\u001b[37mPOST /insert/botones HTTP/1.1\u001b[0m\" 200 -\n"
     ]
    },
    {
     "name": "stdout",
     "output_type": "stream",
     "text": [
      "Datos enviados:\n",
      "{'namestate': 'prueba_slide', 'next_id': None, 'blocktype': 'slide', 'typingtime': '3', 'default_id': 'prueba_qa', 'id_var': '1053', 'id_block': 223, 'id_robot': 438, 'opc_nextid': None, 'pos_y': None, 'pos_x': None, 'opc_elm': None, 'tag_active': None}\n",
      "Datos recibidos:\n",
      "{'title': 'Prueba titulo', 'image_url': 'https://infosertecblog.files.wordpress.com/2016/08/bot-de-telegram.jpg', 'subtitle': 'Esta es una prueba de carrusel.', 'blocktype': 'slide', 'id_block': 223}\n",
      "intenatando consulta...\n",
      "consulta: select * from elementos where title= 'Prueba titulo' and image_url= 'https://infosertecblog.files.wordpress.com/2016/08/bot-de-telegram.jpg' and subtitle= 'Esta es una prueba de carrusel.' and blocktype= 'slide' and id_block= '223' ;\n",
      "Datos enviados:\n",
      "{'blocktype': 'slide', 'title': 'Prueba titulo', 'image_url': 'https://infosertecblog.files.wordpress.com/2016/08/bot-de-telegram.jpg', 'subtitle': 'Esta es una prueba de carrusel.', 'id_block': 223, 'id_elements': 462}\n",
      "Datos recibidos:\n",
      "{'id_elemento': '462', 'titlebutton': 'Youtube', 'typebutton': 'web_url', 'contentbutton': 'https://www.youtube.com/', 'opc_nextid': 'https://www.youtube.com/'}\n",
      "intenatando consulta...\n",
      "consulta: select * from botones where id_elemento= '462' and titlebutton= 'Youtube' and typebutton= 'web_url' and contentbutton= 'https://www.youtube.com/' and opc_nextid= 'https://www.youtube.com/' ;\n",
      "Datos enviados:\n",
      "{'id_elemento': '462', 'titlebutton': 'Youtube', 'typebutton': 'web_url', 'contentbutton': 'https://www.youtube.com/', 'id_boton': 736, 'opc_nextid': 'https://www.youtube.com/'}\n",
      "Datos recibidos:\n",
      "{'id_elemento': '462', 'titlebutton': 'Reddit', 'typebutton': 'web_url', 'contentbutton': 'https://www.reddit.com/', 'opc_nextid': 'https://www.reddit.com/'}\n"
     ]
    },
    {
     "name": "stderr",
     "output_type": "stream",
     "text": [
      "127.0.0.1 - - [18/Mar/2021 23:56:31] \"\u001b[37mPOST /insert/botones HTTP/1.1\u001b[0m\" 200 -\n"
     ]
    },
    {
     "name": "stdout",
     "output_type": "stream",
     "text": [
      "intenatando consulta...\n",
      "consulta: select * from botones where id_elemento= '462' and titlebutton= 'Reddit' and typebutton= 'web_url' and contentbutton= 'https://www.reddit.com/' and opc_nextid= 'https://www.reddit.com/' ;\n",
      "Datos enviados:\n",
      "{'id_elemento': '462', 'titlebutton': 'Reddit', 'typebutton': 'web_url', 'contentbutton': 'https://www.reddit.com/', 'id_boton': 737, 'opc_nextid': 'https://www.reddit.com/'}\n"
     ]
    },
    {
     "name": "stderr",
     "output_type": "stream",
     "text": [
      "127.0.0.1 - - [18/Mar/2021 23:59:43] \"\u001b[37mGET /select/robots HTTP/1.1\u001b[0m\" 200 -\n",
      "127.0.0.1 - - [18/Mar/2021 23:59:43] \"\u001b[37mGET /select/bloqueslide HTTP/1.1\u001b[0m\" 200 -\n",
      "127.0.0.1 - - [18/Mar/2021 23:59:43] \"\u001b[37mGET /select/elementos HTTP/1.1\u001b[0m\" 200 -\n"
     ]
    },
    {
     "name": "stdout",
     "output_type": "stream",
     "text": [
      "Datos recibidos:\n",
      "{'name_robot': 'charlybot', 'id_face': '111445520541316', 'block_ini': 'prueba_inicio', 'type_blocki': 'informativo', 'access_token': 'EAALZCCZBzPwfkBAAo7njAlW7s4DTj1ZCs5v1ung1MhEyMlJXOOtiG8r7JcBgXVPhZBHkJONyTB6jKG470UyqGPWn4aDPnisgtT2ZCZAwQIjQgZAZBufZBJXmHz6mPKSgdmP6ikDA87vocZBay2dfQdz1OYezmYbxwfILXUvXtjUMZAniQZDZD', 'id_user': 'charlygoldcruz@gmail.com', 'api_nlp': 'http://localhost:8282/'}\n",
      "intenatando consulta...\n",
      "consulta: select * from robots where id_face = '111445520541316';\n",
      "Datos enviados:\n",
      "{'name_robot': 'charlybot', 'id_face': '111445520541316', 'block_ini': 'prueba_inicio', 'type_blocki': 'informativo', 'access_token': 'EAALZCCZBzPwfkBAAo7njAlW7s4DTj1ZCs5v1ung1MhEyMlJXOOtiG8r7JcBgXVPhZBHkJONyTB6jKG470UyqGPWn4aDPnisgtT2ZCZAwQIjQgZAZBufZBJXmHz6mPKSgdmP6ikDA87vocZBay2dfQdz1OYezmYbxwfILXUvXtjUMZAniQZDZD', 'api_nlp': 'http://localhost:8282/', 'id_robot': 438, 'id_user': 'charlygoldcruz@gmail.com'}\n",
      "Datos recibidos:\n",
      "{'id_robot': '438'}\n",
      "intenatando consulta...\n",
      "consulta: select * from bloqueslide where id_robot= '438' ;\n",
      "Datos enviados:\n",
      "{'namestate': 'prueba_slide', 'next_id': 'https://www.youtube.com/,https://www.reddit.com/', 'blocktype': 'slide', 'typingtime': '3', 'default_id': 'prueba_qa', 'id_var': '1053', 'id_block': 223, 'id_robot': 438, 'opc_nextid': None, 'pos_y': None, 'pos_x': None, 'opc_elm': None, 'tag_active': None}\n",
      "Datos recibidos:\n",
      "{'id_block': 223}\n",
      "intenatando consulta...\n",
      "consulta: select * from elementos where id_block= '223' ;\n",
      "Datos enviados:\n",
      "{'blocktype': 'slide', 'title': 'Prueba titulo', 'image_url': 'https://infosertecblog.files.wordpress.com/2016/08/bot-de-telegram.jpg', 'subtitle': 'Esta es una prueba de carrusel.', 'id_block': 223, 'id_elements': 462}\n"
     ]
    },
    {
     "name": "stderr",
     "output_type": "stream",
     "text": [
      "127.0.0.1 - - [18/Mar/2021 23:59:43] \"\u001b[37mPOST /insert/bloqueinformativo HTTP/1.1\u001b[0m\" 200 -\n",
      "127.0.0.1 - - [18/Mar/2021 23:59:43] \"\u001b[37mPOST /insert/variables HTTP/1.1\u001b[0m\" 200 -\n"
     ]
    },
    {
     "name": "stdout",
     "output_type": "stream",
     "text": [
      "Datos recibidos:\n",
      "{'next_id': 'prueba_captura', 'namestate': 'prueba_inicio', 'contenido': 'Hola, soy un chatbot y esto es un mensaje de prueba y adios', 'contenttype': 'text', 'typingtime': 3, 'id_robot': 438, 'blocktype': 'informativo'}\n",
      "intenatando consulta...\n",
      "consulta: select * from bloqueinformativo where next_id= 'prueba_captura' and namestate= 'prueba_inicio' and contenido= 'Hola, soy un chatbot y esto es un mensaje de prueba y adios' and contenttype= 'text' and typingtime= '3' and id_robot= '438' and blocktype= 'informativo' ;\n",
      "Datos enviados:\n",
      "{'namestate': 'prueba_inicio', 'contenido': 'Hola, soy un chatbot y esto es un mensaje de prueba y adios', 'next_id': 'prueba_captura', 'blocktype': 'informativo', 'contenttype': 'text', 'typingtime': '3', 'id_block': 1323, 'id_robot': 438, 'opc_nextid': None, 'pos_y': None, 'pos_x': None, 'tag_active': None}\n",
      "Datos recibidos:\n",
      "{'name_var': 'email', 'opc_type': 'Variable', 'var': 0, 'opc_data': 'String', 'id_robot': 438}\n",
      "intenatando consulta...\n",
      "consulta: select * from variables where name_var= 'email' and opc_type= 'Variable' and var= '0' and opc_data= 'String' and id_robot= '438' ;\n",
      "Datos enviados:\n",
      "{'id_var': 1054, 'opc_type': 'Variable', 'opc_data': 'String', 'var': '0', 'id_robot': 438, 'name_var': 'email'}\n",
      "Datos recibidos:\n",
      "{'next_id': 'pruebaCorreo_01inicial_inicial', 'default_id': 'prueba_captura', 'namestate': 'prueba_captura', 'contenido': 'introduce tu correo', 'contenttype': 'text', 'typingtime': 3, 'validacion': '^[a-z0-9]+[\\\\._]?[a-z0-9]+[@]\\\\w+[.]\\\\w{2,3}$', 'id_robot': 438, 'id_var': 1054, 'blocktype': 'input'}\n",
      "intenatando consulta...\n",
      "consulta: select * from bloqueinput where next_id= 'pruebaCorreo_01inicial_inicial' and default_id= 'prueba_captura' and namestate= 'prueba_captura' and contenido= 'introduce tu correo' and contenttype= 'text' and typingtime= '3' and validacion= '^[a-z0-9]+[\\._]?[a-z0-9]+[@]\\w+[.]\\w{2,3}$' and id_robot= '438' and id_var= '1054' and blocktype= 'input' ;\n"
     ]
    },
    {
     "name": "stderr",
     "output_type": "stream",
     "text": [
      "127.0.0.1 - - [18/Mar/2021 23:59:44] \"\u001b[37mPOST /insert/bloqueinput HTTP/1.1\u001b[0m\" 200 -\n",
      "127.0.0.1 - - [18/Mar/2021 23:59:44] \"\u001b[37mPOST /insert/bloqueinformativo HTTP/1.1\u001b[0m\" 200 -\n",
      "127.0.0.1 - - [18/Mar/2021 23:59:44] \"\u001b[37mPOST /insert/bloqueinformativo HTTP/1.1\u001b[0m\" 200 -\n"
     ]
    },
    {
     "name": "stdout",
     "output_type": "stream",
     "text": [
      "Datos enviados:\n",
      "{'namestate': 'prueba_captura', 'contenido': 'introduce tu correo', 'next_id': 'pruebaCorreo_01inicial_inicial', 'blocktype': 'input', 'contenttype': 'text', 'typingtime': '3', 'validacion': '^[a-z0-9]+[\\\\._]?[a-z0-9]+[@]\\\\w+[.]\\\\w{2,3}$', 'default_id': 'prueba_captura', 'id_var': '1054', 'id_block': 170, 'id_robot': 438, 'opc_nextid': None, 'pos_y': None, 'pos_x': None, 'tag_active': None}\n",
      "Datos recibidos:\n",
      "{'next_id': 'pruebaCorreo_01inicial_inicial', 'namestate': 'prueba_qa', 'contenido': 'Vamos a ver si no truena', 'contenttype': 'text', 'typingtime': 7, 'id_robot': 438, 'blocktype': 'informativo'}\n",
      "intenatando consulta...\n",
      "consulta: select * from bloqueinformativo where next_id= 'pruebaCorreo_01inicial_inicial' and namestate= 'prueba_qa' and contenido= 'Vamos a ver si no truena' and contenttype= 'text' and typingtime= '7' and id_robot= '438' and blocktype= 'informativo' ;\n",
      "Datos enviados:\n",
      "{'namestate': 'prueba_qa', 'contenido': 'Vamos a ver si no truena', 'next_id': 'pruebaCorreo_01inicial_inicial', 'blocktype': 'informativo', 'contenttype': 'text', 'typingtime': '7', 'id_block': 1324, 'id_robot': 438, 'opc_nextid': None, 'pos_y': None, 'pos_x': None, 'tag_active': None}\n",
      "Datos recibidos:\n",
      "{'next_id': 'Salida', 'namestate': 'Salida', 'contenido': 'Puedo hacer muchas cosas, entre ellas despedirme. Adios', 'contenttype': 'text', 'typingtime': 3, 'id_robot': 438, 'blocktype': 'informativo'}\n",
      "intenatando consulta...\n",
      "consulta: select * from bloqueinformativo where next_id= 'Salida' and namestate= 'Salida' and contenido= 'Puedo hacer muchas cosas, entre ellas despedirme. Adios' and contenttype= 'text' and typingtime= '3' and id_robot= '438' and blocktype= 'informativo' ;\n",
      "Datos enviados:\n",
      "{'namestate': 'Salida', 'contenido': 'Puedo hacer muchas cosas, entre ellas despedirme. Adios', 'next_id': 'Salida', 'blocktype': 'informativo', 'contenttype': 'text', 'typingtime': '3', 'id_block': 1325, 'id_robot': 438, 'opc_nextid': None, 'pos_y': None, 'pos_x': None, 'tag_active': None}\n",
      "Datos recibidos:\n",
      "{'name_var': 'var_case', 'opc_type': 'Variable', 'var': 0, 'opc_data': 'Numerico', 'id_robot': 438}\n"
     ]
    },
    {
     "name": "stderr",
     "output_type": "stream",
     "text": [
      "127.0.0.1 - - [18/Mar/2021 23:59:44] \"\u001b[37mPOST /insert/variables HTTP/1.1\u001b[0m\" 200 -\n",
      "127.0.0.1 - - [18/Mar/2021 23:59:44] \"\u001b[37mPOST /insert/bloquequickreply HTTP/1.1\u001b[0m\" 200 -\n",
      "127.0.0.1 - - [18/Mar/2021 23:59:44] \"\u001b[37mPOST /insert/variables HTTP/1.1\u001b[0m\" 200 -\n"
     ]
    },
    {
     "name": "stdout",
     "output_type": "stream",
     "text": [
      "intenatando consulta...\n",
      "consulta: select * from variables where name_var= 'var_case' and opc_type= 'Variable' and var= '0' and opc_data= 'Numerico' and id_robot= '438' ;\n",
      "Datos enviados:\n",
      "{'id_var': 1055, 'opc_type': 'Variable', 'opc_data': 'Numerico', 'var': '0', 'id_robot': 438, 'name_var': 'var_case'}\n",
      "Datos recibidos:\n",
      "{'contenido': '¿Cuál es tu correo?', 'opciones': 'Salir del bot.,Probar carrusel', 'next_id': 'mensaje_salida,prueba_slide', 'default_id': 'prueba_qa', 'namestate': 'pruebaCorreo_01inicial_inicial', 'typingtime': 3, 'id_robot': 438, 'id_var': 1055, 'blocktype': 'quickReply'}\n",
      "intenatando consulta...\n",
      "consulta: select * from bloquequickreply where contenido= '¿Cuál es tu correo?' and opciones= 'Salir del bot.,Probar carrusel' and next_id= 'mensaje_salida,prueba_slide' and default_id= 'prueba_qa' and namestate= 'pruebaCorreo_01inicial_inicial' and typingtime= '3' and id_robot= '438' and id_var= '1055' and blocktype= 'quickReply' ;\n",
      "Datos enviados:\n",
      "{'namestate': 'pruebaCorreo_01inicial_inicial', 'contenido': '¿Cuál es tu correo?', 'opciones': 'Salir del bot.,Probar carrusel', 'next_id': 'mensaje_salida,prueba_slide', 'blocktype': 'quickReply', 'typingtime': '3', 'default_id': 'prueba_qa', 'id_var': '1055', 'id_block': 462, 'id_robot': 438, 'opc_nextid': None, 'pos_y': None, 'pos_x': None, 'tag_active': None}\n",
      "Datos recibidos:\n",
      "{'name_var': 'var_slideMenu', 'opc_type': 'Variable', 'var': 0, 'opc_data': 'Numerico', 'id_robot': 438}\n",
      "intenatando consulta...\n",
      "consulta: select * from variables where name_var= 'var_slideMenu' and opc_type= 'Variable' and var= '0' and opc_data= 'Numerico' and id_robot= '438' ;\n",
      "Datos enviados:\n",
      "{'id_var': 1056, 'opc_type': 'Variable', 'opc_data': 'Numerico', 'var': '0', 'id_robot': 438, 'name_var': 'var_slideMenu'}\n"
     ]
    },
    {
     "name": "stderr",
     "output_type": "stream",
     "text": [
      "127.0.0.1 - - [18/Mar/2021 23:59:44] \"\u001b[37mPOST /insert/bloqueslide HTTP/1.1\u001b[0m\" 200 -\n",
      "127.0.0.1 - - [18/Mar/2021 23:59:44] \"\u001b[37mPOST /insert/elementos HTTP/1.1\u001b[0m\" 200 -\n"
     ]
    },
    {
     "name": "stdout",
     "output_type": "stream",
     "text": [
      "Datos recibidos:\n",
      "{'namestate': 'prueba_slide', 'blocktype': 'slide', 'typingtime': 3, 'default_id': 'prueba_qa', 'id_var': 1056, 'id_robot': 438}\n",
      "intenatando consulta...\n",
      "consulta: select * from bloqueslide where namestate= 'prueba_slide' and blocktype= 'slide' and typingtime= '3' and default_id= 'prueba_qa' and id_var= '1056' and id_robot= '438' ;\n",
      "Datos enviados:\n",
      "{'namestate': 'prueba_slide', 'next_id': None, 'blocktype': 'slide', 'typingtime': '3', 'default_id': 'prueba_qa', 'id_var': '1056', 'id_block': 224, 'id_robot': 438, 'opc_nextid': None, 'pos_y': None, 'pos_x': None, 'opc_elm': None, 'tag_active': None}\n",
      "Datos recibidos:\n",
      "{'title': 'Prueba titulo', 'image_url': 'https://infosertecblog.files.wordpress.com/2016/08/bot-de-telegram.jpg', 'subtitle': 'Esta es una prueba de carrusel.', 'blocktype': 'slide', 'id_block': 224}\n",
      "intenatando consulta...\n",
      "consulta: select * from elementos where title= 'Prueba titulo' and image_url= 'https://infosertecblog.files.wordpress.com/2016/08/bot-de-telegram.jpg' and subtitle= 'Esta es una prueba de carrusel.' and blocktype= 'slide' and id_block= '224' ;\n",
      "Datos enviados:\n",
      "{'blocktype': 'slide', 'title': 'Prueba titulo', 'image_url': 'https://infosertecblog.files.wordpress.com/2016/08/bot-de-telegram.jpg', 'subtitle': 'Esta es una prueba de carrusel.', 'id_block': 224, 'id_elements': 463}\n",
      "Datos recibidos:\n",
      "{'id_elemento': '463', 'titlebutton': 'Youtube', 'typebutton': 'web_url', 'contentbutton': 'https://www.youtube.com/', 'opc_nextid': 'https://www.youtube.com/'}\n"
     ]
    },
    {
     "name": "stderr",
     "output_type": "stream",
     "text": [
      "127.0.0.1 - - [18/Mar/2021 23:59:44] \"\u001b[37mPOST /insert/botones HTTP/1.1\u001b[0m\" 200 -\n",
      "127.0.0.1 - - [18/Mar/2021 23:59:44] \"\u001b[37mPOST /insert/botones HTTP/1.1\u001b[0m\" 200 -\n"
     ]
    },
    {
     "name": "stdout",
     "output_type": "stream",
     "text": [
      "intenatando consulta...\n",
      "consulta: select * from botones where id_elemento= '463' and titlebutton= 'Youtube' and typebutton= 'web_url' and contentbutton= 'https://www.youtube.com/' and opc_nextid= 'https://www.youtube.com/' ;\n",
      "Datos enviados:\n",
      "{'id_elemento': '463', 'titlebutton': 'Youtube', 'typebutton': 'web_url', 'contentbutton': 'https://www.youtube.com/', 'id_boton': 738, 'opc_nextid': 'https://www.youtube.com/'}\n",
      "Datos recibidos:\n",
      "{'id_elemento': '463', 'titlebutton': 'Reddit', 'typebutton': 'web_url', 'contentbutton': 'https://www.reddit.com/', 'opc_nextid': 'https://www.reddit.com/'}\n",
      "intenatando consulta...\n",
      "consulta: select * from botones where id_elemento= '463' and titlebutton= 'Reddit' and typebutton= 'web_url' and contentbutton= 'https://www.reddit.com/' and opc_nextid= 'https://www.reddit.com/' ;\n",
      "Datos enviados:\n",
      "{'id_elemento': '463', 'titlebutton': 'Reddit', 'typebutton': 'web_url', 'contentbutton': 'https://www.reddit.com/', 'id_boton': 739, 'opc_nextid': 'https://www.reddit.com/'}\n"
     ]
    },
    {
     "name": "stderr",
     "output_type": "stream",
     "text": [
      "127.0.0.1 - - [19/Mar/2021 00:01:29] \"\u001b[37mGET /select/robots HTTP/1.1\u001b[0m\" 200 -\n",
      "127.0.0.1 - - [19/Mar/2021 00:01:29] \"\u001b[37mGET /select/bloqueslide HTTP/1.1\u001b[0m\" 200 -\n",
      "127.0.0.1 - - [19/Mar/2021 00:01:29] \"\u001b[37mGET /select/elementos HTTP/1.1\u001b[0m\" 200 -\n"
     ]
    },
    {
     "name": "stdout",
     "output_type": "stream",
     "text": [
      "Datos recibidos:\n",
      "{'name_robot': 'charlybot', 'id_face': '111445520541316', 'block_ini': 'prueba_inicio', 'type_blocki': 'informativo', 'access_token': 'EAALZCCZBzPwfkBAAo7njAlW7s4DTj1ZCs5v1ung1MhEyMlJXOOtiG8r7JcBgXVPhZBHkJONyTB6jKG470UyqGPWn4aDPnisgtT2ZCZAwQIjQgZAZBufZBJXmHz6mPKSgdmP6ikDA87vocZBay2dfQdz1OYezmYbxwfILXUvXtjUMZAniQZDZD', 'id_user': 'charlygoldcruz@gmail.com', 'api_nlp': 'http://localhost:8282/'}\n",
      "intenatando consulta...\n",
      "consulta: select * from robots where id_face = '111445520541316';\n",
      "Datos enviados:\n",
      "{'name_robot': 'charlybot', 'id_face': '111445520541316', 'block_ini': 'prueba_inicio', 'type_blocki': 'informativo', 'access_token': 'EAALZCCZBzPwfkBAAo7njAlW7s4DTj1ZCs5v1ung1MhEyMlJXOOtiG8r7JcBgXVPhZBHkJONyTB6jKG470UyqGPWn4aDPnisgtT2ZCZAwQIjQgZAZBufZBJXmHz6mPKSgdmP6ikDA87vocZBay2dfQdz1OYezmYbxwfILXUvXtjUMZAniQZDZD', 'api_nlp': 'http://localhost:8282/', 'id_robot': 438, 'id_user': 'charlygoldcruz@gmail.com'}\n",
      "Datos recibidos:\n",
      "{'id_robot': '438'}\n",
      "intenatando consulta...\n",
      "consulta: select * from bloqueslide where id_robot= '438' ;\n",
      "Datos enviados:\n",
      "{'namestate': 'prueba_slide', 'next_id': 'https://www.youtube.com/,https://www.reddit.com/', 'blocktype': 'slide', 'typingtime': '3', 'default_id': 'prueba_qa', 'id_var': '1056', 'id_block': 224, 'id_robot': 438, 'opc_nextid': None, 'pos_y': None, 'pos_x': None, 'opc_elm': None, 'tag_active': None}\n",
      "Datos recibidos:\n",
      "{'id_block': 224}\n",
      "intenatando consulta...\n",
      "consulta: select * from elementos where id_block= '224' ;\n",
      "Datos enviados:\n",
      "{'blocktype': 'slide', 'title': 'Prueba titulo', 'image_url': 'https://infosertecblog.files.wordpress.com/2016/08/bot-de-telegram.jpg', 'subtitle': 'Esta es una prueba de carrusel.', 'id_block': 224, 'id_elements': 463}\n"
     ]
    },
    {
     "name": "stderr",
     "output_type": "stream",
     "text": [
      "127.0.0.1 - - [19/Mar/2021 00:01:29] \"\u001b[37mPOST /insert/bloqueinformativo HTTP/1.1\u001b[0m\" 200 -\n",
      "127.0.0.1 - - [19/Mar/2021 00:01:29] \"\u001b[37mPOST /insert/variables HTTP/1.1\u001b[0m\" 200 -\n"
     ]
    },
    {
     "name": "stdout",
     "output_type": "stream",
     "text": [
      "Datos recibidos:\n",
      "{'next_id': 'prueba_captura', 'namestate': 'prueba_inicio', 'contenido': 'Hola, soy un chatbot y esto es un mensaje de prueba y adios', 'contenttype': 'text', 'typingtime': 3, 'id_robot': 438, 'blocktype': 'informativo'}\n",
      "intenatando consulta...\n",
      "consulta: select * from bloqueinformativo where next_id= 'prueba_captura' and namestate= 'prueba_inicio' and contenido= 'Hola, soy un chatbot y esto es un mensaje de prueba y adios' and contenttype= 'text' and typingtime= '3' and id_robot= '438' and blocktype= 'informativo' ;\n",
      "Datos enviados:\n",
      "{'namestate': 'prueba_inicio', 'contenido': 'Hola, soy un chatbot y esto es un mensaje de prueba y adios', 'next_id': 'prueba_captura', 'blocktype': 'informativo', 'contenttype': 'text', 'typingtime': '3', 'id_block': 1326, 'id_robot': 438, 'opc_nextid': None, 'pos_y': None, 'pos_x': None, 'tag_active': None}\n",
      "Datos recibidos:\n",
      "{'name_var': 'email', 'opc_type': 'Variable', 'var': 0, 'opc_data': 'String', 'id_robot': 438}\n",
      "intenatando consulta...\n",
      "consulta: select * from variables where name_var= 'email' and opc_type= 'Variable' and var= '0' and opc_data= 'String' and id_robot= '438' ;\n",
      "Datos enviados:\n",
      "{'id_var': 1057, 'opc_type': 'Variable', 'opc_data': 'String', 'var': '0', 'id_robot': 438, 'name_var': 'email'}\n",
      "Datos recibidos:\n",
      "{'next_id': 'pruebaCorreo_01inicial_inicial', 'default_id': 'prueba_captura', 'namestate': 'prueba_captura', 'contenido': 'introduce tu correo', 'contenttype': 'text', 'typingtime': 3, 'validacion': '^[a-z0-9]+[\\\\._]?[a-z0-9]+[@]\\\\w+[.]\\\\w{2,3}$', 'id_robot': 438, 'id_var': 1057, 'blocktype': 'input'}\n",
      "intenatando consulta...\n",
      "consulta: select * from bloqueinput where next_id= 'pruebaCorreo_01inicial_inicial' and default_id= 'prueba_captura' and namestate= 'prueba_captura' and contenido= 'introduce tu correo' and contenttype= 'text' and typingtime= '3' and validacion= '^[a-z0-9]+[\\._]?[a-z0-9]+[@]\\w+[.]\\w{2,3}$' and id_robot= '438' and id_var= '1057' and blocktype= 'input' ;\n"
     ]
    },
    {
     "name": "stderr",
     "output_type": "stream",
     "text": [
      "127.0.0.1 - - [19/Mar/2021 00:01:29] \"\u001b[37mPOST /insert/bloqueinput HTTP/1.1\u001b[0m\" 200 -\n",
      "127.0.0.1 - - [19/Mar/2021 00:01:29] \"\u001b[37mPOST /insert/bloqueinformativo HTTP/1.1\u001b[0m\" 200 -\n",
      "127.0.0.1 - - [19/Mar/2021 00:01:29] \"\u001b[37mPOST /insert/bloqueinformativo HTTP/1.1\u001b[0m\" 200 -\n"
     ]
    },
    {
     "name": "stdout",
     "output_type": "stream",
     "text": [
      "Datos enviados:\n",
      "{'namestate': 'prueba_captura', 'contenido': 'introduce tu correo', 'next_id': 'pruebaCorreo_01inicial_inicial', 'blocktype': 'input', 'contenttype': 'text', 'typingtime': '3', 'validacion': '^[a-z0-9]+[\\\\._]?[a-z0-9]+[@]\\\\w+[.]\\\\w{2,3}$', 'default_id': 'prueba_captura', 'id_var': '1057', 'id_block': 171, 'id_robot': 438, 'opc_nextid': None, 'pos_y': None, 'pos_x': None, 'tag_active': None}\n",
      "Datos recibidos:\n",
      "{'next_id': 'pruebaCorreo_01inicial_inicial', 'namestate': 'prueba_qa', 'contenido': 'Vamos a ver si no truena', 'contenttype': 'text', 'typingtime': 7, 'id_robot': 438, 'blocktype': 'informativo'}\n",
      "intenatando consulta...\n",
      "consulta: select * from bloqueinformativo where next_id= 'pruebaCorreo_01inicial_inicial' and namestate= 'prueba_qa' and contenido= 'Vamos a ver si no truena' and contenttype= 'text' and typingtime= '7' and id_robot= '438' and blocktype= 'informativo' ;\n",
      "Datos enviados:\n",
      "{'namestate': 'prueba_qa', 'contenido': 'Vamos a ver si no truena', 'next_id': 'pruebaCorreo_01inicial_inicial', 'blocktype': 'informativo', 'contenttype': 'text', 'typingtime': '7', 'id_block': 1327, 'id_robot': 438, 'opc_nextid': None, 'pos_y': None, 'pos_x': None, 'tag_active': None}\n",
      "Datos recibidos:\n",
      "{'next_id': 'Salida', 'namestate': 'mensaje_salida', 'contenido': 'Puedo hacer muchas cosas, entre ellas despedirme. Adios', 'contenttype': 'text', 'typingtime': 3, 'id_robot': 438, 'blocktype': 'informativo'}\n",
      "intenatando consulta...\n",
      "consulta: select * from bloqueinformativo where next_id= 'Salida' and namestate= 'mensaje_salida' and contenido= 'Puedo hacer muchas cosas, entre ellas despedirme. Adios' and contenttype= 'text' and typingtime= '3' and id_robot= '438' and blocktype= 'informativo' ;\n",
      "Datos enviados:\n",
      "{'namestate': 'mensaje_salida', 'contenido': 'Puedo hacer muchas cosas, entre ellas despedirme. Adios', 'next_id': 'Salida', 'blocktype': 'informativo', 'contenttype': 'text', 'typingtime': '3', 'id_block': 1328, 'id_robot': 438, 'opc_nextid': None, 'pos_y': None, 'pos_x': None, 'tag_active': None}\n",
      "Datos recibidos:\n",
      "{'next_id': '', 'namestate': 'Salida', 'contenido': 'Puedo hacer muchas cosas, entre ellas despedirme. Adios', 'contenttype': 'text', 'typingtime': 3, 'id_robot': 438, 'blocktype': 'informativo'}\n"
     ]
    },
    {
     "name": "stderr",
     "output_type": "stream",
     "text": [
      "127.0.0.1 - - [19/Mar/2021 00:01:29] \"\u001b[37mPOST /insert/bloqueinformativo HTTP/1.1\u001b[0m\" 200 -\n",
      "127.0.0.1 - - [19/Mar/2021 00:01:29] \"\u001b[37mPOST /insert/variables HTTP/1.1\u001b[0m\" 200 -\n",
      "127.0.0.1 - - [19/Mar/2021 00:01:29] \"\u001b[37mPOST /insert/bloquequickreply HTTP/1.1\u001b[0m\" 200 -\n"
     ]
    },
    {
     "name": "stdout",
     "output_type": "stream",
     "text": [
      "intenatando consulta...\n",
      "consulta: select * from bloqueinformativo where next_id= '' and namestate= 'Salida' and contenido= 'Puedo hacer muchas cosas, entre ellas despedirme. Adios' and contenttype= 'text' and typingtime= '3' and id_robot= '438' and blocktype= 'informativo' ;\n",
      "Datos enviados:\n",
      "{'namestate': 'Salida', 'contenido': 'Puedo hacer muchas cosas, entre ellas despedirme. Adios', 'next_id': '', 'blocktype': 'informativo', 'contenttype': 'text', 'typingtime': '3', 'id_block': 1329, 'id_robot': 438, 'opc_nextid': None, 'pos_y': None, 'pos_x': None, 'tag_active': None}\n",
      "Datos recibidos:\n",
      "{'name_var': 'var_case', 'opc_type': 'Variable', 'var': 0, 'opc_data': 'Numerico', 'id_robot': 438}\n",
      "intenatando consulta...\n",
      "consulta: select * from variables where name_var= 'var_case' and opc_type= 'Variable' and var= '0' and opc_data= 'Numerico' and id_robot= '438' ;\n",
      "Datos enviados:\n",
      "{'id_var': 1058, 'opc_type': 'Variable', 'opc_data': 'Numerico', 'var': '0', 'id_robot': 438, 'name_var': 'var_case'}\n",
      "Datos recibidos:\n",
      "{'contenido': '¿Cuál es tu correo?', 'opciones': 'Salir del bot.,Probar carrusel', 'next_id': 'mensaje_salida,prueba_slide', 'default_id': 'prueba_qa', 'namestate': 'pruebaCorreo_01inicial_inicial', 'typingtime': 3, 'id_robot': 438, 'id_var': 1058, 'blocktype': 'quickReply'}\n",
      "intenatando consulta...\n",
      "consulta: select * from bloquequickreply where contenido= '¿Cuál es tu correo?' and opciones= 'Salir del bot.,Probar carrusel' and next_id= 'mensaje_salida,prueba_slide' and default_id= 'prueba_qa' and namestate= 'pruebaCorreo_01inicial_inicial' and typingtime= '3' and id_robot= '438' and id_var= '1058' and blocktype= 'quickReply' ;\n",
      "Datos enviados:\n",
      "{'namestate': 'pruebaCorreo_01inicial_inicial', 'contenido': '¿Cuál es tu correo?', 'opciones': 'Salir del bot.,Probar carrusel', 'next_id': 'mensaje_salida,prueba_slide', 'blocktype': 'quickReply', 'typingtime': '3', 'default_id': 'prueba_qa', 'id_var': '1058', 'id_block': 463, 'id_robot': 438, 'opc_nextid': None, 'pos_y': None, 'pos_x': None, 'tag_active': None}\n"
     ]
    },
    {
     "name": "stderr",
     "output_type": "stream",
     "text": [
      "127.0.0.1 - - [19/Mar/2021 00:01:30] \"\u001b[37mPOST /insert/variables HTTP/1.1\u001b[0m\" 200 -\n",
      "127.0.0.1 - - [19/Mar/2021 00:01:30] \"\u001b[37mPOST /insert/bloqueslide HTTP/1.1\u001b[0m\" 200 -\n"
     ]
    },
    {
     "name": "stdout",
     "output_type": "stream",
     "text": [
      "Datos recibidos:\n",
      "{'name_var': 'var_slideMenu', 'opc_type': 'Variable', 'var': 0, 'opc_data': 'Numerico', 'id_robot': 438}\n",
      "intenatando consulta...\n",
      "consulta: select * from variables where name_var= 'var_slideMenu' and opc_type= 'Variable' and var= '0' and opc_data= 'Numerico' and id_robot= '438' ;\n",
      "Datos enviados:\n",
      "{'id_var': 1059, 'opc_type': 'Variable', 'opc_data': 'Numerico', 'var': '0', 'id_robot': 438, 'name_var': 'var_slideMenu'}\n",
      "Datos recibidos:\n",
      "{'namestate': 'prueba_slide', 'blocktype': 'slide', 'typingtime': 3, 'default_id': 'prueba_qa', 'id_var': 1059, 'id_robot': 438}\n",
      "intenatando consulta...\n",
      "consulta: select * from bloqueslide where namestate= 'prueba_slide' and blocktype= 'slide' and typingtime= '3' and default_id= 'prueba_qa' and id_var= '1059' and id_robot= '438' ;\n",
      "Datos enviados:\n",
      "{'namestate': 'prueba_slide', 'next_id': None, 'blocktype': 'slide', 'typingtime': '3', 'default_id': 'prueba_qa', 'id_var': '1059', 'id_block': 225, 'id_robot': 438, 'opc_nextid': None, 'pos_y': None, 'pos_x': None, 'opc_elm': None, 'tag_active': None}\n",
      "Datos recibidos:\n",
      "{'title': 'Prueba titulo', 'image_url': 'https://infosertecblog.files.wordpress.com/2016/08/bot-de-telegram.jpg', 'subtitle': 'Esta es una prueba de carrusel.', 'blocktype': 'slide', 'id_block': 225}\n"
     ]
    },
    {
     "name": "stderr",
     "output_type": "stream",
     "text": [
      "127.0.0.1 - - [19/Mar/2021 00:01:30] \"\u001b[37mPOST /insert/elementos HTTP/1.1\u001b[0m\" 200 -\n",
      "127.0.0.1 - - [19/Mar/2021 00:01:30] \"\u001b[37mPOST /insert/botones HTTP/1.1\u001b[0m\" 200 -\n",
      "127.0.0.1 - - [19/Mar/2021 00:01:30] \"\u001b[37mPOST /insert/botones HTTP/1.1\u001b[0m\" 200 -\n"
     ]
    },
    {
     "name": "stdout",
     "output_type": "stream",
     "text": [
      "intenatando consulta...\n",
      "consulta: select * from elementos where title= 'Prueba titulo' and image_url= 'https://infosertecblog.files.wordpress.com/2016/08/bot-de-telegram.jpg' and subtitle= 'Esta es una prueba de carrusel.' and blocktype= 'slide' and id_block= '225' ;\n",
      "Datos enviados:\n",
      "{'blocktype': 'slide', 'title': 'Prueba titulo', 'image_url': 'https://infosertecblog.files.wordpress.com/2016/08/bot-de-telegram.jpg', 'subtitle': 'Esta es una prueba de carrusel.', 'id_block': 225, 'id_elements': 464}\n",
      "Datos recibidos:\n",
      "{'id_elemento': '464', 'titlebutton': 'Youtube', 'typebutton': 'web_url', 'contentbutton': 'https://www.youtube.com/', 'opc_nextid': 'https://www.youtube.com/'}\n",
      "intenatando consulta...\n",
      "consulta: select * from botones where id_elemento= '464' and titlebutton= 'Youtube' and typebutton= 'web_url' and contentbutton= 'https://www.youtube.com/' and opc_nextid= 'https://www.youtube.com/' ;\n",
      "Datos enviados:\n",
      "{'id_elemento': '464', 'titlebutton': 'Youtube', 'typebutton': 'web_url', 'contentbutton': 'https://www.youtube.com/', 'id_boton': 740, 'opc_nextid': 'https://www.youtube.com/'}\n",
      "Datos recibidos:\n",
      "{'id_elemento': '464', 'titlebutton': 'Reddit', 'typebutton': 'web_url', 'contentbutton': 'https://www.reddit.com/', 'opc_nextid': 'https://www.reddit.com/'}\n",
      "intenatando consulta...\n",
      "consulta: select * from botones where id_elemento= '464' and titlebutton= 'Reddit' and typebutton= 'web_url' and contentbutton= 'https://www.reddit.com/' and opc_nextid= 'https://www.reddit.com/' ;\n",
      "Datos enviados:\n",
      "{'id_elemento': '464', 'titlebutton': 'Reddit', 'typebutton': 'web_url', 'contentbutton': 'https://www.reddit.com/', 'id_boton': 741, 'opc_nextid': 'https://www.reddit.com/'}\n"
     ]
    }
   ],
   "source": [
    "if __name__ == \"__main__\":    \n",
    "    app.run(host='localhost',port='8181')"
   ]
  },
  {
   "cell_type": "code",
   "execution_count": null,
   "metadata": {},
   "outputs": [],
   "source": []
  },
  {
   "cell_type": "code",
   "execution_count": null,
   "metadata": {},
   "outputs": [],
   "source": []
  }
 ],
 "metadata": {
  "kernelspec": {
   "display_name": "Python 3",
   "language": "python",
   "name": "python3"
  },
  "language_info": {
   "codemirror_mode": {
    "name": "ipython",
    "version": 3
   },
   "file_extension": ".py",
   "mimetype": "text/x-python",
   "name": "python",
   "nbconvert_exporter": "python",
   "pygments_lexer": "ipython3",
   "version": "3.9.2"
  }
 },
 "nbformat": 4,
 "nbformat_minor": 4
}
