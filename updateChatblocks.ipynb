{
 "cells": [
  {
   "cell_type": "code",
   "execution_count": 1,
   "metadata": {},
   "outputs": [
    {
     "data": {
      "text/html": [
       "<style>.container { width:100% !important; }</style>"
      ],
      "text/plain": [
       "<IPython.core.display.HTML object>"
      ]
     },
     "metadata": {},
     "output_type": "display_data"
    }
   ],
   "source": [
    "import os\n",
    "import sys \n",
    "from flask import Flask\n",
    "from flask import request\n",
    "from flask_api import status\n",
    "import psycopg2\n",
    "import json\n",
    "import copy\n",
    "from IPython.core.display import display, HTML\n",
    "\n",
    "display(HTML(\"<style>.container { width:100% !important; }</style>\"))\n",
    "datosBaseDeDatos = {\"usuario\":\"postgres\",\"password\":\"carlos98\",\"Host\":\"127.0.0.1\",\"puerto\":\"5432\",\"DB\":\"chatblocks\"}"
   ]
  },
  {
   "cell_type": "code",
   "execution_count": 2,
   "metadata": {},
   "outputs": [],
   "source": [
    "def abrirJson(name,path=os.getcwd()+\"/\" ):\n",
    "    with open(path+name,encoding='utf-8') as data_file:  \n",
    "        diccionario = json.load(data_file)\n",
    "    return diccionario"
   ]
  },
  {
   "cell_type": "code",
   "execution_count": 3,
   "metadata": {},
   "outputs": [],
   "source": [
    "def conexionBaseDeDatos(datosConexion):\n",
    "    try:\n",
    "        connection = psycopg2.connect(user = datosConexion[\"usuario\"],\n",
    "                              password = datosConexion[\"password\"],\n",
    "                              host = datosConexion[\"Host\"],\n",
    "                              port = datosConexion[\"puerto\"],\n",
    "                              database = datosConexion[\"DB\"])    \n",
    "        return connection\n",
    "    except(Exception, psycopg2.Error) as error:\n",
    "        print(\"Error al conectar con base de datos\", error)"
   ]
  },
  {
   "cell_type": "code",
   "execution_count": 4,
   "metadata": {},
   "outputs": [],
   "source": [
    "def consultar(connection,datos=False,consulta=False,tabla=False):\n",
    "    #print(\"datos\",datos)\n",
    "    consultaBots = list()\n",
    "    column_names = []\n",
    "    data_rows = []\n",
    "    diccionarioDatos = dict()\n",
    "    consultas = list()\n",
    "    cursor = connection.cursor()  \n",
    "    cosulta =\"\"    \n",
    "    if datos:\n",
    "        print(\"intenatando consulta...\")\n",
    "        if tabla == 'robots':\n",
    "            consulta = \"select * from robots where id_face = '\"+datos[\"id_face\"]+\"';\"\n",
    "        else:\n",
    "            consulta = \"select * from \"+tabla+\" where \"        \n",
    "            i=0\n",
    "            for dato, valorDato in datos.items():\n",
    "                if i==0:\n",
    "                    consulta = consulta+dato+\"= '\"+str(valorDato)+\"'\"                \n",
    "                else:             \n",
    "                    consulta = consulta+\" and \"+dato+\"= '\"+str(valorDato)+\"'\" \n",
    "                i=i+1\n",
    "            #print(dato,\":\",valorDato)\n",
    "            consulta= consulta + \" ;\" \n",
    "            #print(consulta)        \n",
    "            #consulta = \"select * from robots where name_robot = '\"+datosBot[\"name_robot\"]+\"' and id_face = '\"+ datosBot[\"id_face\"]+\"' and  type_blocki = '\"+datosBot[\"type_blocki\"]+\"' and access_token= '\"+datosBot[\"access_token\"]+\"' and id_user = '\"+datosBot[\"id_user\"]+\"';\"\n",
    "    print(\"consulta:\",consulta)\n",
    "    cursor.execute(consulta)    \n",
    "    column_names = [desc[0] for desc in cursor.description]  \n",
    "    rows = cursor.fetchall()\n",
    "    for row in rows:\n",
    "        diccionarioDatos = dict()\n",
    "        for i in range(len(column_names)):\n",
    "            diccionarioDatos.update({column_names[i]:row[i]})\n",
    "        consultaBots.append(diccionarioDatos)\n",
    "    cursor.close()\n",
    "    connection.close()  \n",
    "    \n",
    "    if len(consultaBots)==1:\n",
    "        return consultaBots[0]\n",
    "    elif len(consultaBots)==0:\n",
    "        print('La consulta no trajo nada')\n",
    "        return {\"error\": \"true\"}\n",
    "    else:\n",
    "        return consultaBots"
   ]
  },
  {
   "cell_type": "code",
   "execution_count": 5,
   "metadata": {},
   "outputs": [],
   "source": [
    "def insert(datos,tabla,connection):\n",
    "    cursor = connection.cursor()\n",
    "    values = \"\"\n",
    "    datosInsert = \"\"\n",
    "    i = 0;\n",
    "    for dato, valorDato in datos.items():\n",
    "        if i==0:\n",
    "            values = values+dato \n",
    "            datosInsert = datosInsert+\"'\"+str(valorDato)+\"' \"                \n",
    "        else:\n",
    "            values = values+\",\"+dato\n",
    "            datosInsert =datosInsert+\",'\"+str(valorDato)+\"' \"\n",
    "        i=i+1\n",
    "    insersion  = \"insert into \"+tabla+\" ( \"+values+\" ) values (\"+datosInsert+\" );\" \n",
    "    cursor.execute(insersion)\n",
    "    connection.commit()\n",
    "    cursor.close()\n",
    "    connection.close()\n",
    "    return datos"
   ]
  },
  {
   "cell_type": "code",
   "execution_count": 6,
   "metadata": {},
   "outputs": [],
   "source": [
    "def update(datosActualizar,datos,tabla,connection):\n",
    "    actualizar =\" \"\n",
    "    actualizar = \"update \"+tabla+\" set\"\n",
    "    j = 0\n",
    "    for dato,informacionDato in datosActualizar.items():\n",
    "        print(dato)\n",
    "        if j==0:\n",
    "            actualizar=actualizar+\" \"+dato+\"=\"+str(informacionDato)\n",
    "            j=j+1\n",
    "        else:\n",
    "             actualizar=actualizar+\", \"+dato+\"=\"+str(informacionDato)\n",
    "    \n",
    "    i=0\n",
    "    actualizar=actualizar+\" where \"\n",
    "    for dato, valorDato in datos.items():\n",
    "        if i==0:\n",
    "            actualizar = actualizar+dato+\"= '\"+str(valorDato)+\"'\"                \n",
    "        else:             \n",
    "            actualizar = actualizar+\" and \"+dato+\"= '\"+str(valorDato)+\"'\" \n",
    "        i=i+1\n",
    "    actualizar= actualizar + \" ;\"  "
   ]
  },
  {
   "cell_type": "code",
   "execution_count": 7,
   "metadata": {},
   "outputs": [],
   "source": [
    "app = Flask(__name__)\n",
    "@app.route('/access_token', methods = ['POST'])\n",
    "def postAccessToken():\n",
    "    try:         \n",
    "        connection = conexionBaseDeDatos(datosBaseDeDatos)        \n",
    "        datosVariable = request.get_json()   \n",
    "        tabla = \"robots\"\n",
    "        con = consultaBots(connection,datos=datosVariable,tabla=tabla)        \n",
    "        listaAcessToken=list()\n",
    "        if type(con)==list:\n",
    "            for i in range(len(con)):\n",
    "                print(con[i])\n",
    "                listaAcessToken.append(con[i][\"access_token\"])\n",
    "        else:\n",
    "            listaAcessToken.append(con[\"access_token\"])         \n",
    "        print(listaAcessToken)\n",
    "        return {\"access_token\":listaAcessToken}\n",
    "    except:\n",
    "        return datosVariable,status.HTTP_404_NOT_FOUND\n"
   ]
  },
  {
   "cell_type": "code",
   "execution_count": 8,
   "metadata": {},
   "outputs": [],
   "source": [
    "@app.route('/insert/<tabla>',methods=['POST'])\n",
    "def funcionalidad(tabla):\n",
    "    try:\n",
    "        connection = conexionBaseDeDatos(datosBaseDeDatos)\n",
    "        datos = request.get_json()\n",
    "        print(\"Datos recibidos INSERT:\")\n",
    "        print(datos)\n",
    "        insert(datos,str(tabla),connection)\n",
    "        connection = conexionBaseDeDatos(datosBaseDeDatos)\n",
    "        consulta = consultar(connection,datos=datos,tabla=str(tabla))\n",
    "        print(\"Datos enviados INSERT:\")\n",
    "        print (consulta)\n",
    "        return json.dumps(consulta)\n",
    "    except (Exception, psycopg2.Error) as error :\n",
    "        print(\"error\",error)\n",
    "        return tabla,status.HTTP_404_NOT_FOUND"
   ]
  },
  {
   "cell_type": "code",
   "execution_count": 9,
   "metadata": {},
   "outputs": [],
   "source": [
    "@app.route('/select/<tabla>',methods=['GET'])\n",
    "def select(tabla):\n",
    "    try:\n",
    "        connection = conexionBaseDeDatos(datosBaseDeDatos)\n",
    "        datos = request.get_json()\n",
    "        print(\"Datos recibidos SELECT:\")\n",
    "        print(datos)\n",
    "        \n",
    "        consulta = consultar(connection,datos=datos,tabla=str(tabla))\n",
    "        print(\"Datos enviados SELECT:\")\n",
    "        print (consulta)\n",
    "        return json.dumps(consulta)\n",
    "    except (Exception, psycopg2.Error) as error :\n",
    "        print(\"error\",error)\n",
    "        return tabla,status.HTTP_404_NOT_FOUND"
   ]
  },
  {
   "cell_type": "code",
   "execution_count": null,
   "metadata": {},
   "outputs": [
    {
     "name": "stdout",
     "output_type": "stream",
     "text": [
      " * Serving Flask app \"__main__\" (lazy loading)\n",
      " * Environment: production\n",
      "   WARNING: This is a development server. Do not use it in a production deployment.\n",
      "   Use a production WSGI server instead.\n",
      " * Debug mode: off\n"
     ]
    },
    {
     "name": "stderr",
     "output_type": "stream",
     "text": [
      " * Running on http://localhost:8181/ (Press CTRL+C to quit)\n",
      "127.0.0.1 - - [07/Jul/2021 14:53:13] \"\u001b[37mGET /select/robots HTTP/1.1\u001b[0m\" 200 -\n"
     ]
    },
    {
     "name": "stdout",
     "output_type": "stream",
     "text": [
      "Datos recibidos SELECT:\n",
      "{'name_robot': 'Oswa1', 'id_face': '106842278334918', 'block_ini': 'Informativo | 2edb2c69-beb8-471f-9799-940599824c36 | oIgvWKILDrYMYDjlgAIk', 'type_blocki': 'informativo', 'access_token': 'EAAFMtaIPwugBAIRPT4mTm2a9nei1940NrJqMbhvvyPwfZAUZA6Id2YaXUeSu06TENy0QoDsprATI0J2ZCGHS2X6UQ4TG2AWkIbNQ3LLGdRMORJZBZBT9BhB58QusrYaXG90RiZAog3r9THJCXmX1m7vjArQ3KoX3PrEGYehS4j6TSblsfU73uf', 'id_user': 'charlygoldcruz@gmail.com', 'api_nlp': 'http://localhost:8282/'}\n",
      "intenatando consulta...\n",
      "consulta: select * from robots where id_face = '106842278334918';\n",
      "La consulta no trajo nada\n",
      "Datos enviados SELECT:\n",
      "{'error': 'true'}\n",
      "Datos recibidos INSERT:\n",
      "{'name_robot': 'Oswa1', 'id_face': '106842278334918', 'block_ini': 'Informativo | 2edb2c69-beb8-471f-9799-940599824c36 | oIgvWKILDrYMYDjlgAIk', 'type_blocki': 'informativo', 'access_token': 'EAAFMtaIPwugBAIRPT4mTm2a9nei1940NrJqMbhvvyPwfZAUZA6Id2YaXUeSu06TENy0QoDsprATI0J2ZCGHS2X6UQ4TG2AWkIbNQ3LLGdRMORJZBZBT9BhB58QusrYaXG90RiZAog3r9THJCXmX1m7vjArQ3KoX3PrEGYehS4j6TSblsfU73uf', 'id_user': 'charlygoldcruz@gmail.com', 'api_nlp': 'http://localhost:8282/'}\n"
     ]
    },
    {
     "name": "stderr",
     "output_type": "stream",
     "text": [
      "127.0.0.1 - - [07/Jul/2021 14:53:13] \"\u001b[37mPOST /insert/robots HTTP/1.1\u001b[0m\" 200 -\n",
      "127.0.0.1 - - [07/Jul/2021 14:53:13] \"\u001b[37mPOST /insert/bloqueinformativo HTTP/1.1\u001b[0m\" 200 -\n"
     ]
    },
    {
     "name": "stdout",
     "output_type": "stream",
     "text": [
      "intenatando consulta...\n",
      "consulta: select * from robots where id_face = '106842278334918';\n",
      "Datos enviados INSERT:\n",
      "{'name_robot': 'Oswa1', 'id_face': '106842278334918', 'block_ini': 'Informativo | 2edb2c69-beb8-471f-9799-940599824c36 | oIgvWKILDrYMYDjlgAIk', 'type_blocki': 'informativo', 'access_token': 'EAAFMtaIPwugBAIRPT4mTm2a9nei1940NrJqMbhvvyPwfZAUZA6Id2YaXUeSu06TENy0QoDsprATI0J2ZCGHS2X6UQ4TG2AWkIbNQ3LLGdRMORJZBZBT9BhB58QusrYaXG90RiZAog3r9THJCXmX1m7vjArQ3KoX3PrEGYehS4j6TSblsfU73uf', 'api_nlp': 'http://localhost:8282/', 'id_robot': 583, 'id_user': 'charlygoldcruz@gmail.com'}\n",
      "Datos recibidos INSERT:\n",
      "{'next_id': 'Informativo | c65fe24d-e9c2-4b86-b07f-9f48db28e95a | oIgvWKILDrYMYDjlgAIk', 'namestate': 'Informativo | 2edb2c69-beb8-471f-9799-940599824c36 | oIgvWKILDrYMYDjlgAIk', 'contenido': 'Hola oswaldo', 'contenttype': 'text', 'typingtime': '1', 'id_robot': 583, 'blocktype': 'informativo'}\n",
      "intenatando consulta...\n",
      "consulta: select * from bloqueinformativo where next_id= 'Informativo | c65fe24d-e9c2-4b86-b07f-9f48db28e95a | oIgvWKILDrYMYDjlgAIk' and namestate= 'Informativo | 2edb2c69-beb8-471f-9799-940599824c36 | oIgvWKILDrYMYDjlgAIk' and contenido= 'Hola oswaldo' and contenttype= 'text' and typingtime= '1' and id_robot= '583' and blocktype= 'informativo' ;\n",
      "Datos enviados INSERT:\n",
      "{'namestate': 'Informativo | 2edb2c69-beb8-471f-9799-940599824c36 | oIgvWKILDrYMYDjlgAIk', 'contenido': 'Hola oswaldo', 'next_id': 'Informativo | c65fe24d-e9c2-4b86-b07f-9f48db28e95a | oIgvWKILDrYMYDjlgAIk', 'blocktype': 'informativo', 'contenttype': 'text', 'typingtime': '1', 'id_block': 4093, 'id_robot': 583, 'opc_nextid': None, 'pos_y': None, 'pos_x': None, 'tag_active': None}\n"
     ]
    },
    {
     "name": "stderr",
     "output_type": "stream",
     "text": [
      "127.0.0.1 - - [07/Jul/2021 14:53:13] \"\u001b[37mPOST /insert/bloqueinformativo HTTP/1.1\u001b[0m\" 200 -\n",
      "127.0.0.1 - - [07/Jul/2021 14:53:13] \"\u001b[37mPOST /insert/bloqueinformativo HTTP/1.1\u001b[0m\" 200 -\n"
     ]
    },
    {
     "name": "stdout",
     "output_type": "stream",
     "text": [
      "Datos recibidos INSERT:\n",
      "{'next_id': 'Salida', 'namestate': 'Informativo | c65fe24d-e9c2-4b86-b07f-9f48db28e95a | oIgvWKILDrYMYDjlgAIk', 'contenido': 'Hola chatbot', 'contenttype': 'text', 'typingtime': '1', 'id_robot': 583, 'blocktype': 'informativo'}\n",
      "intenatando consulta...\n",
      "consulta: select * from bloqueinformativo where next_id= 'Salida' and namestate= 'Informativo | c65fe24d-e9c2-4b86-b07f-9f48db28e95a | oIgvWKILDrYMYDjlgAIk' and contenido= 'Hola chatbot' and contenttype= 'text' and typingtime= '1' and id_robot= '583' and blocktype= 'informativo' ;\n",
      "Datos enviados INSERT:\n",
      "{'namestate': 'Informativo | c65fe24d-e9c2-4b86-b07f-9f48db28e95a | oIgvWKILDrYMYDjlgAIk', 'contenido': 'Hola chatbot', 'next_id': 'Salida', 'blocktype': 'informativo', 'contenttype': 'text', 'typingtime': '1', 'id_block': 4094, 'id_robot': 583, 'opc_nextid': None, 'pos_y': None, 'pos_x': None, 'tag_active': None}\n",
      "Datos recibidos INSERT:\n",
      "{'next_id': '', 'namestate': 'Salida', 'contenido': '', 'contenttype': 'text', 'typingtime': 3, 'id_robot': 583, 'blocktype': 'informativo'}\n",
      "intenatando consulta...\n",
      "consulta: select * from bloqueinformativo where next_id= '' and namestate= 'Salida' and contenido= '' and contenttype= 'text' and typingtime= '3' and id_robot= '583' and blocktype= 'informativo' ;\n",
      "Datos enviados INSERT:\n",
      "{'namestate': 'Salida', 'contenido': '', 'next_id': '', 'blocktype': 'informativo', 'contenttype': 'text', 'typingtime': '3', 'id_block': 4095, 'id_robot': 583, 'opc_nextid': None, 'pos_y': None, 'pos_x': None, 'tag_active': None}\n"
     ]
    },
    {
     "name": "stderr",
     "output_type": "stream",
     "text": [
      "127.0.0.1 - - [07/Jul/2021 14:55:02] \"\u001b[37mGET /select/robots HTTP/1.1\u001b[0m\" 200 -\n",
      "127.0.0.1 - - [07/Jul/2021 14:55:02] \"\u001b[37mGET /select/bloqueslide HTTP/1.1\u001b[0m\" 200 -\n"
     ]
    },
    {
     "name": "stdout",
     "output_type": "stream",
     "text": [
      "Datos recibidos SELECT:\n",
      "{'name_robot': 'Oswa1', 'id_face': '106842278334918', 'block_ini': 'Informativo | 2edb2c69-beb8-471f-9799-940599824c36 | oIgvWKILDrYMYDjlgAIk', 'type_blocki': 'informativo', 'access_token': 'EAAFMtaIPwugBAIRPT4mTm2a9nei1940NrJqMbhvvyPwfZAUZA6Id2YaXUeSu06TENy0QoDsprATI0J2ZCGHS2X6UQ4TG2AWkIbNQ3LLGdRMORJZBZBT9BhB58QusrYaXG90RiZAog3r9THJCXmX1m7vjArQ3KoX3PrEGYehS4j6TSblsfU73uf', 'id_user': 'charlygoldcruz@gmail.com', 'api_nlp': 'http://localhost:8282/'}\n",
      "intenatando consulta...\n",
      "consulta: select * from robots where id_face = '106842278334918';\n",
      "Datos enviados SELECT:\n",
      "{'name_robot': 'Oswa1', 'id_face': '106842278334918', 'block_ini': 'Informativo | 2edb2c69-beb8-471f-9799-940599824c36 | oIgvWKILDrYMYDjlgAIk', 'type_blocki': 'informativo', 'access_token': 'EAAFMtaIPwugBAIRPT4mTm2a9nei1940NrJqMbhvvyPwfZAUZA6Id2YaXUeSu06TENy0QoDsprATI0J2ZCGHS2X6UQ4TG2AWkIbNQ3LLGdRMORJZBZBT9BhB58QusrYaXG90RiZAog3r9THJCXmX1m7vjArQ3KoX3PrEGYehS4j6TSblsfU73uf', 'api_nlp': 'http://localhost:8282/', 'id_robot': 583, 'id_user': 'charlygoldcruz@gmail.com'}\n",
      "Datos recibidos SELECT:\n",
      "{'id_robot': '583'}\n",
      "intenatando consulta...\n",
      "consulta: select * from bloqueslide where id_robot= '583' ;\n",
      "La consulta no trajo nada\n",
      "Datos enviados SELECT:\n",
      "{'error': 'true'}\n"
     ]
    },
    {
     "name": "stderr",
     "output_type": "stream",
     "text": [
      "127.0.0.1 - - [07/Jul/2021 14:55:02] \"\u001b[37mPOST /insert/bloqueinformativo HTTP/1.1\u001b[0m\" 200 -\n",
      "127.0.0.1 - - [07/Jul/2021 14:55:03] \"\u001b[37mPOST /insert/bloqueinformativo HTTP/1.1\u001b[0m\" 200 -\n"
     ]
    },
    {
     "name": "stdout",
     "output_type": "stream",
     "text": [
      "Datos recibidos INSERT:\n",
      "{'next_id': 'QuickReply | bef89a36-7587-4bb2-a5d3-11c09b410294 | oIgvWKILDrYMYDjlgAIk', 'namestate': 'Informativo | 2edb2c69-beb8-471f-9799-940599824c36 | oIgvWKILDrYMYDjlgAIk', 'contenido': 'Hola oswaldo', 'contenttype': 'text', 'typingtime': '1', 'id_robot': 583, 'blocktype': 'informativo'}\n",
      "intenatando consulta...\n",
      "consulta: select * from bloqueinformativo where next_id= 'QuickReply | bef89a36-7587-4bb2-a5d3-11c09b410294 | oIgvWKILDrYMYDjlgAIk' and namestate= 'Informativo | 2edb2c69-beb8-471f-9799-940599824c36 | oIgvWKILDrYMYDjlgAIk' and contenido= 'Hola oswaldo' and contenttype= 'text' and typingtime= '1' and id_robot= '583' and blocktype= 'informativo' ;\n",
      "Datos enviados INSERT:\n",
      "{'namestate': 'Informativo | 2edb2c69-beb8-471f-9799-940599824c36 | oIgvWKILDrYMYDjlgAIk', 'contenido': 'Hola oswaldo', 'next_id': 'QuickReply | bef89a36-7587-4bb2-a5d3-11c09b410294 | oIgvWKILDrYMYDjlgAIk', 'blocktype': 'informativo', 'contenttype': 'text', 'typingtime': '1', 'id_block': 4096, 'id_robot': 583, 'opc_nextid': None, 'pos_y': None, 'pos_x': None, 'tag_active': None}\n",
      "Datos recibidos INSERT:\n",
      "{'next_id': 'Salida', 'namestate': 'Informativo | c172acd8-1edc-4d5b-ac66-fdf02dfe35ff | oIgvWKILDrYMYDjlgAIk', 'contenido': 'Adios Oswa', 'contenttype': 'text', 'typingtime': '1', 'id_robot': 583, 'blocktype': 'informativo'}\n",
      "intenatando consulta...\n",
      "consulta: select * from bloqueinformativo where next_id= 'Salida' and namestate= 'Informativo | c172acd8-1edc-4d5b-ac66-fdf02dfe35ff | oIgvWKILDrYMYDjlgAIk' and contenido= 'Adios Oswa' and contenttype= 'text' and typingtime= '1' and id_robot= '583' and blocktype= 'informativo' ;\n",
      "Datos enviados INSERT:\n",
      "{'namestate': 'Informativo | c172acd8-1edc-4d5b-ac66-fdf02dfe35ff | oIgvWKILDrYMYDjlgAIk', 'contenido': 'Adios Oswa', 'next_id': 'Salida', 'blocktype': 'informativo', 'contenttype': 'text', 'typingtime': '1', 'id_block': 4097, 'id_robot': 583, 'opc_nextid': None, 'pos_y': None, 'pos_x': None, 'tag_active': None}\n",
      "Datos recibidos INSERT:\n",
      "{'name_var': 'variableQrQuickReply_|_bef89a36-7587-4bb2-a5d3-11c09b4102942993', 'opc_type': 'Variable', 'var': 0, 'opc_data': 'String', 'id_robot': 583}\n"
     ]
    },
    {
     "name": "stderr",
     "output_type": "stream",
     "text": [
      "127.0.0.1 - - [07/Jul/2021 14:55:03] \"\u001b[37mPOST /insert/variables HTTP/1.1\u001b[0m\" 200 -\n",
      "127.0.0.1 - - [07/Jul/2021 14:55:03] \"\u001b[37mPOST /insert/bloquequickreply HTTP/1.1\u001b[0m\" 200 -\n"
     ]
    },
    {
     "name": "stdout",
     "output_type": "stream",
     "text": [
      "intenatando consulta...\n",
      "consulta: select * from variables where name_var= 'variableQrQuickReply_|_bef89a36-7587-4bb2-a5d3-11c09b4102942993' and opc_type= 'Variable' and var= '0' and opc_data= 'String' and id_robot= '583' ;\n",
      "Datos enviados INSERT:\n",
      "{'id_var': 2468, 'opc_type': 'Variable', 'opc_data': 'String', 'var': '0', 'id_robot': 583, 'name_var': 'variableQrQuickReply_|_bef89a36-7587-4bb2-a5d3-11c09b4102942993'}\n",
      "Datos recibidos INSERT:\n",
      "{'contenido': 'Prueba', 'opciones': 'Op1,Op2,Op3', 'next_id': 'Informativo | c172acd8-1edc-4d5b-ac66-fdf02dfe35ff | oIgvWKILDrYMYDjlgAIk,Informativo | c172acd8-1edc-4d5b-ac66-fdf02dfe35ff | oIgvWKILDrYMYDjlgAIk,Informativo | c172acd8-1edc-4d5b-ac66-fdf02dfe35ff | oIgvWKILDrYMYDjlgAIk', 'default_id': 'QuickReply | bef89a36-7587-4bb2-a5d3-11c09b410294 | oIgvWKILDrYMYDjlgAIk', 'namestate': 'QuickReply | bef89a36-7587-4bb2-a5d3-11c09b410294 | oIgvWKILDrYMYDjlgAIk', 'typingtime': '1', 'id_robot': 583, 'id_var': 2468, 'blocktype': 'quickReply'}\n",
      "intenatando consulta...\n",
      "consulta: select * from bloquequickreply where contenido= 'Prueba' and opciones= 'Op1,Op2,Op3' and next_id= 'Informativo | c172acd8-1edc-4d5b-ac66-fdf02dfe35ff | oIgvWKILDrYMYDjlgAIk,Informativo | c172acd8-1edc-4d5b-ac66-fdf02dfe35ff | oIgvWKILDrYMYDjlgAIk,Informativo | c172acd8-1edc-4d5b-ac66-fdf02dfe35ff | oIgvWKILDrYMYDjlgAIk' and default_id= 'QuickReply | bef89a36-7587-4bb2-a5d3-11c09b410294 | oIgvWKILDrYMYDjlgAIk' and namestate= 'QuickReply | bef89a36-7587-4bb2-a5d3-11c09b410294 | oIgvWKILDrYMYDjlgAIk' and typingtime= '1' and id_robot= '583' and id_var= '2468' and blocktype= 'quickReply' ;\n",
      "Datos enviados INSERT:\n",
      "{'namestate': 'QuickReply | bef89a36-7587-4bb2-a5d3-11c09b410294 | oIgvWKILDrYMYDjlgAIk', 'contenido': 'Prueba', 'opciones': 'Op1,Op2,Op3', 'next_id': 'Informativo | c172acd8-1edc-4d5b-ac66-fdf02dfe35ff | oIgvWKILDrYMYDjlgAIk,Informativo | c172acd8-1edc-4d5b-ac66-fdf02dfe35ff | oIgvWKILDrYMYDjlgAIk,Informativo | c172acd8-1edc-4d5b-ac66-fdf02dfe35ff | oIgvWKILDrYMYDjlgAIk', 'blocktype': 'quickReply', 'typingtime': '1', 'default_id': 'QuickReply | bef89a36-7587-4bb2-a5d3-11c09b410294 | oIgvWKILDrYMYDjlgAIk', 'id_var': '2468', 'id_block': 873, 'id_robot': 583, 'opc_nextid': None, 'pos_y': None, 'pos_x': None, 'tag_active': None}\n"
     ]
    },
    {
     "name": "stderr",
     "output_type": "stream",
     "text": [
      "127.0.0.1 - - [07/Jul/2021 14:55:03] \"\u001b[37mPOST /insert/bloqueinformativo HTTP/1.1\u001b[0m\" 200 -\n"
     ]
    },
    {
     "name": "stdout",
     "output_type": "stream",
     "text": [
      "Datos recibidos INSERT:\n",
      "{'next_id': '', 'namestate': 'Salida', 'contenido': '', 'contenttype': 'text', 'typingtime': 3, 'id_robot': 583, 'blocktype': 'informativo'}\n",
      "intenatando consulta...\n",
      "consulta: select * from bloqueinformativo where next_id= '' and namestate= 'Salida' and contenido= '' and contenttype= 'text' and typingtime= '3' and id_robot= '583' and blocktype= 'informativo' ;\n",
      "Datos enviados INSERT:\n",
      "{'namestate': 'Salida', 'contenido': '', 'next_id': '', 'blocktype': 'informativo', 'contenttype': 'text', 'typingtime': '3', 'id_block': 4098, 'id_robot': 583, 'opc_nextid': None, 'pos_y': None, 'pos_x': None, 'tag_active': None}\n"
     ]
    },
    {
     "name": "stderr",
     "output_type": "stream",
     "text": [
      "127.0.0.1 - - [07/Jul/2021 14:58:17] \"\u001b[37mGET /select/robots HTTP/1.1\u001b[0m\" 200 -\n",
      "127.0.0.1 - - [07/Jul/2021 14:58:17] \"\u001b[37mGET /select/bloqueslide HTTP/1.1\u001b[0m\" 200 -\n",
      "127.0.0.1 - - [07/Jul/2021 14:58:17] \"\u001b[37mPOST /insert/variables HTTP/1.1\u001b[0m\" 200 -\n"
     ]
    },
    {
     "name": "stdout",
     "output_type": "stream",
     "text": [
      "Datos recibidos SELECT:\n",
      "{'name_robot': 'Oswa1', 'id_face': '106842278334918', 'block_ini': 'Informativo | 2edb2c69-beb8-471f-9799-940599824c36 | oIgvWKILDrYMYDjlgAIk', 'type_blocki': 'informativo', 'access_token': 'EAAFMtaIPwugBAIRPT4mTm2a9nei1940NrJqMbhvvyPwfZAUZA6Id2YaXUeSu06TENy0QoDsprATI0J2ZCGHS2X6UQ4TG2AWkIbNQ3LLGdRMORJZBZBT9BhB58QusrYaXG90RiZAog3r9THJCXmX1m7vjArQ3KoX3PrEGYehS4j6TSblsfU73uf', 'id_user': 'charlygoldcruz@gmail.com', 'api_nlp': 'http://localhost:8282/'}\n",
      "intenatando consulta...\n",
      "consulta: select * from robots where id_face = '106842278334918';\n",
      "Datos enviados SELECT:\n",
      "{'name_robot': 'Oswa1', 'id_face': '106842278334918', 'block_ini': 'Informativo | 2edb2c69-beb8-471f-9799-940599824c36 | oIgvWKILDrYMYDjlgAIk', 'type_blocki': 'informativo', 'access_token': 'EAAFMtaIPwugBAIRPT4mTm2a9nei1940NrJqMbhvvyPwfZAUZA6Id2YaXUeSu06TENy0QoDsprATI0J2ZCGHS2X6UQ4TG2AWkIbNQ3LLGdRMORJZBZBT9BhB58QusrYaXG90RiZAog3r9THJCXmX1m7vjArQ3KoX3PrEGYehS4j6TSblsfU73uf', 'api_nlp': 'http://localhost:8282/', 'id_robot': 583, 'id_user': 'charlygoldcruz@gmail.com'}\n",
      "Datos recibidos SELECT:\n",
      "{'id_robot': '583'}\n",
      "intenatando consulta...\n",
      "consulta: select * from bloqueslide where id_robot= '583' ;\n",
      "La consulta no trajo nada\n",
      "Datos enviados SELECT:\n",
      "{'error': 'true'}\n",
      "Datos recibidos INSERT:\n",
      "{'name_var': 'variableCarrCarrusel_|_20088b9a-b5fa-4089-a72d-9ced45cbd8992154', 'opc_type': 'Variable', 'var': 0, 'opc_data': 'String', 'id_robot': 583}\n",
      "intenatando consulta...\n",
      "consulta: select * from variables where name_var= 'variableCarrCarrusel_|_20088b9a-b5fa-4089-a72d-9ced45cbd8992154' and opc_type= 'Variable' and var= '0' and opc_data= 'String' and id_robot= '583' ;\n",
      "Datos enviados INSERT:\n",
      "{'id_var': 2469, 'opc_type': 'Variable', 'opc_data': 'String', 'var': '0', 'id_robot': 583, 'name_var': 'variableCarrCarrusel_|_20088b9a-b5fa-4089-a72d-9ced45cbd8992154'}\n",
      "Datos recibidos INSERT:\n",
      "{'namestate': 'Carrusel | 20088b9a-b5fa-4089-a72d-9ced45cbd899 | oIgvWKILDrYMYDjlgAIk', 'blocktype': 'slide', 'typingtime': '1', 'default_id': 'Carrusel | 20088b9a-b5fa-4089-a72d-9ced45cbd899 | oIgvWKILDrYMYDjlgAIk', 'id_var': 2469, 'id_robot': 583}\n"
     ]
    },
    {
     "name": "stderr",
     "output_type": "stream",
     "text": [
      "127.0.0.1 - - [07/Jul/2021 14:58:17] \"\u001b[37mPOST /insert/bloqueslide HTTP/1.1\u001b[0m\" 200 -\n",
      "127.0.0.1 - - [07/Jul/2021 14:58:17] \"\u001b[37mPOST /insert/elementos HTTP/1.1\u001b[0m\" 200 -\n"
     ]
    },
    {
     "name": "stdout",
     "output_type": "stream",
     "text": [
      "intenatando consulta...\n",
      "consulta: select * from bloqueslide where namestate= 'Carrusel | 20088b9a-b5fa-4089-a72d-9ced45cbd899 | oIgvWKILDrYMYDjlgAIk' and blocktype= 'slide' and typingtime= '1' and default_id= 'Carrusel | 20088b9a-b5fa-4089-a72d-9ced45cbd899 | oIgvWKILDrYMYDjlgAIk' and id_var= '2469' and id_robot= '583' ;\n",
      "Datos enviados INSERT:\n",
      "{'namestate': 'Carrusel | 20088b9a-b5fa-4089-a72d-9ced45cbd899 | oIgvWKILDrYMYDjlgAIk', 'next_id': None, 'blocktype': 'slide', 'typingtime': '1', 'default_id': 'Carrusel | 20088b9a-b5fa-4089-a72d-9ced45cbd899 | oIgvWKILDrYMYDjlgAIk', 'id_var': '2469', 'id_block': 789, 'id_robot': 583, 'opc_nextid': None, 'pos_y': None, 'pos_x': None, 'opc_elm': None, 'tag_active': None}\n",
      "Datos recibidos INSERT:\n",
      "{'image_url': 'https://www.gettyimages.es/gi-resources/images/500px/983794168.jpg', 'subtitle': 'sub1', 'title': 'Img1', 'blocktype': 'slide', 'id_block': 789}\n",
      "intenatando consulta...\n",
      "consulta: select * from elementos where image_url= 'https://www.gettyimages.es/gi-resources/images/500px/983794168.jpg' and subtitle= 'sub1' and title= 'Img1' and blocktype= 'slide' and id_block= '789' ;\n",
      "Datos enviados INSERT:\n",
      "{'blocktype': 'slide', 'title': 'Img1', 'image_url': 'https://www.gettyimages.es/gi-resources/images/500px/983794168.jpg', 'subtitle': 'sub1', 'id_block': 789, 'id_elements': 1408}\n",
      "Datos recibidos INSERT:\n",
      "{'id_elemento': '1408', 'titlebutton': 'Btn1P1', 'typebutton': 'postback', 'contentbutton': 'Informativo | c172acd8-1edc-4d5b-ac66-fdf02dfe35ff | oIgvWKILDrYMYDjlgAIk', 'opc_nextid': 'Informativo | c172acd8-1edc-4d5b-ac66-fdf02dfe35ff | oIgvWKILDrYMYDjlgAIk'}\n",
      "intenatando consulta...\n",
      "consulta: select * from botones where id_elemento= '1408' and titlebutton= 'Btn1P1' and typebutton= 'postback' and contentbutton= 'Informativo | c172acd8-1edc-4d5b-ac66-fdf02dfe35ff | oIgvWKILDrYMYDjlgAIk' and opc_nextid= 'Informativo | c172acd8-1edc-4d5b-ac66-fdf02dfe35ff | oIgvWKILDrYMYDjlgAIk' ;\n"
     ]
    },
    {
     "name": "stderr",
     "output_type": "stream",
     "text": [
      "127.0.0.1 - - [07/Jul/2021 14:58:17] \"\u001b[37mPOST /insert/botones HTTP/1.1\u001b[0m\" 200 -\n",
      "127.0.0.1 - - [07/Jul/2021 14:58:17] \"\u001b[37mPOST /insert/botones HTTP/1.1\u001b[0m\" 200 -\n",
      "127.0.0.1 - - [07/Jul/2021 14:58:17] \"\u001b[37mPOST /insert/elementos HTTP/1.1\u001b[0m\" 200 -\n"
     ]
    },
    {
     "name": "stdout",
     "output_type": "stream",
     "text": [
      "Datos enviados INSERT:\n",
      "{'id_elemento': '1408', 'titlebutton': 'Btn1P1', 'typebutton': 'postback', 'contentbutton': 'Informativo | c172acd8-1edc-4d5b-ac66-fdf02dfe35ff | oIgvWKILDrYMYDjlgAIk', 'id_boton': 2620, 'opc_nextid': 'Informativo | c172acd8-1edc-4d5b-ac66-fdf02dfe35ff | oIgvWKILDrYMYDjlgAIk'}\n",
      "Datos recibidos INSERT:\n",
      "{'id_elemento': '1408', 'titlebutton': 'Btn2p2', 'typebutton': 'postback', 'contentbutton': 'Informativo | c172acd8-1edc-4d5b-ac66-fdf02dfe35ff | oIgvWKILDrYMYDjlgAIk', 'opc_nextid': 'Informativo | c172acd8-1edc-4d5b-ac66-fdf02dfe35ff | oIgvWKILDrYMYDjlgAIk'}\n",
      "intenatando consulta...\n",
      "consulta: select * from botones where id_elemento= '1408' and titlebutton= 'Btn2p2' and typebutton= 'postback' and contentbutton= 'Informativo | c172acd8-1edc-4d5b-ac66-fdf02dfe35ff | oIgvWKILDrYMYDjlgAIk' and opc_nextid= 'Informativo | c172acd8-1edc-4d5b-ac66-fdf02dfe35ff | oIgvWKILDrYMYDjlgAIk' ;\n",
      "Datos enviados INSERT:\n",
      "{'id_elemento': '1408', 'titlebutton': 'Btn2p2', 'typebutton': 'postback', 'contentbutton': 'Informativo | c172acd8-1edc-4d5b-ac66-fdf02dfe35ff | oIgvWKILDrYMYDjlgAIk', 'id_boton': 2621, 'opc_nextid': 'Informativo | c172acd8-1edc-4d5b-ac66-fdf02dfe35ff | oIgvWKILDrYMYDjlgAIk'}\n",
      "Datos recibidos INSERT:\n",
      "{'subtitle': 'sub3', 'title': 'Img2', 'image_url': 'https://analyticsindiamag.com/wp-content/uploads/2020/10/7d744a684fe03ebc7e8de545f97739dd.jpg', 'blocktype': 'slide', 'id_block': 789}\n",
      "intenatando consulta...\n",
      "consulta: select * from elementos where subtitle= 'sub3' and title= 'Img2' and image_url= 'https://analyticsindiamag.com/wp-content/uploads/2020/10/7d744a684fe03ebc7e8de545f97739dd.jpg' and blocktype= 'slide' and id_block= '789' ;\n",
      "Datos enviados INSERT:\n",
      "{'blocktype': 'slide', 'title': 'Img2', 'image_url': 'https://analyticsindiamag.com/wp-content/uploads/2020/10/7d744a684fe03ebc7e8de545f97739dd.jpg', 'subtitle': 'sub3', 'id_block': 789, 'id_elements': 1409}\n",
      "Datos recibidos INSERT:\n",
      "{'id_elemento': '1409', 'titlebutton': 'btn1P2', 'typebutton': 'postback', 'contentbutton': 'Informativo | c172acd8-1edc-4d5b-ac66-fdf02dfe35ff | oIgvWKILDrYMYDjlgAIk', 'opc_nextid': 'Informativo | c172acd8-1edc-4d5b-ac66-fdf02dfe35ff | oIgvWKILDrYMYDjlgAIk'}\n",
      "intenatando consulta...\n",
      "consulta: select * from botones where id_elemento= '1409' and titlebutton= 'btn1P2' and typebutton= 'postback' and contentbutton= 'Informativo | c172acd8-1edc-4d5b-ac66-fdf02dfe35ff | oIgvWKILDrYMYDjlgAIk' and opc_nextid= 'Informativo | c172acd8-1edc-4d5b-ac66-fdf02dfe35ff | oIgvWKILDrYMYDjlgAIk' ;\n"
     ]
    },
    {
     "name": "stderr",
     "output_type": "stream",
     "text": [
      "127.0.0.1 - - [07/Jul/2021 14:58:17] \"\u001b[37mPOST /insert/botones HTTP/1.1\u001b[0m\" 200 -\n",
      "127.0.0.1 - - [07/Jul/2021 14:58:17] \"\u001b[37mPOST /insert/botones HTTP/1.1\u001b[0m\" 200 -\n",
      "127.0.0.1 - - [07/Jul/2021 14:58:17] \"\u001b[37mPOST /insert/elementos HTTP/1.1\u001b[0m\" 200 -\n"
     ]
    },
    {
     "name": "stdout",
     "output_type": "stream",
     "text": [
      "Datos enviados INSERT:\n",
      "{'id_elemento': '1409', 'titlebutton': 'btn1P2', 'typebutton': 'postback', 'contentbutton': 'Informativo | c172acd8-1edc-4d5b-ac66-fdf02dfe35ff | oIgvWKILDrYMYDjlgAIk', 'id_boton': 2622, 'opc_nextid': 'Informativo | c172acd8-1edc-4d5b-ac66-fdf02dfe35ff | oIgvWKILDrYMYDjlgAIk'}\n",
      "Datos recibidos INSERT:\n",
      "{'id_elemento': '1409', 'titlebutton': 'Btn2P2', 'typebutton': 'postback', 'contentbutton': 'Informativo | c172acd8-1edc-4d5b-ac66-fdf02dfe35ff | oIgvWKILDrYMYDjlgAIk', 'opc_nextid': 'Informativo | c172acd8-1edc-4d5b-ac66-fdf02dfe35ff | oIgvWKILDrYMYDjlgAIk'}\n",
      "intenatando consulta...\n",
      "consulta: select * from botones where id_elemento= '1409' and titlebutton= 'Btn2P2' and typebutton= 'postback' and contentbutton= 'Informativo | c172acd8-1edc-4d5b-ac66-fdf02dfe35ff | oIgvWKILDrYMYDjlgAIk' and opc_nextid= 'Informativo | c172acd8-1edc-4d5b-ac66-fdf02dfe35ff | oIgvWKILDrYMYDjlgAIk' ;\n",
      "Datos enviados INSERT:\n",
      "{'id_elemento': '1409', 'titlebutton': 'Btn2P2', 'typebutton': 'postback', 'contentbutton': 'Informativo | c172acd8-1edc-4d5b-ac66-fdf02dfe35ff | oIgvWKILDrYMYDjlgAIk', 'id_boton': 2623, 'opc_nextid': 'Informativo | c172acd8-1edc-4d5b-ac66-fdf02dfe35ff | oIgvWKILDrYMYDjlgAIk'}\n",
      "Datos recibidos INSERT:\n",
      "{'title': 'Img3', 'subtitle': 'Sub3', 'image_url': 'https://spaceplace.nasa.gov/gallery-sun/en/solar-flare.en.jpg', 'blocktype': 'slide', 'id_block': 789}\n",
      "intenatando consulta...\n",
      "consulta: select * from elementos where title= 'Img3' and subtitle= 'Sub3' and image_url= 'https://spaceplace.nasa.gov/gallery-sun/en/solar-flare.en.jpg' and blocktype= 'slide' and id_block= '789' ;\n",
      "Datos enviados INSERT:\n",
      "{'blocktype': 'slide', 'title': 'Img3', 'image_url': 'https://spaceplace.nasa.gov/gallery-sun/en/solar-flare.en.jpg', 'subtitle': 'Sub3', 'id_block': 789, 'id_elements': 1410}\n",
      "Datos recibidos INSERT:\n",
      "{'id_elemento': '1410', 'titlebutton': 'Btn1P3', 'typebutton': 'postback', 'contentbutton': 'Informativo | c172acd8-1edc-4d5b-ac66-fdf02dfe35ff | oIgvWKILDrYMYDjlgAIk', 'opc_nextid': 'Informativo | c172acd8-1edc-4d5b-ac66-fdf02dfe35ff | oIgvWKILDrYMYDjlgAIk'}\n",
      "intenatando consulta...\n",
      "consulta: select * from botones where id_elemento= '1410' and titlebutton= 'Btn1P3' and typebutton= 'postback' and contentbutton= 'Informativo | c172acd8-1edc-4d5b-ac66-fdf02dfe35ff | oIgvWKILDrYMYDjlgAIk' and opc_nextid= 'Informativo | c172acd8-1edc-4d5b-ac66-fdf02dfe35ff | oIgvWKILDrYMYDjlgAIk' ;\n"
     ]
    },
    {
     "name": "stderr",
     "output_type": "stream",
     "text": [
      "127.0.0.1 - - [07/Jul/2021 14:58:17] \"\u001b[37mPOST /insert/botones HTTP/1.1\u001b[0m\" 200 -\n",
      "127.0.0.1 - - [07/Jul/2021 14:58:18] \"\u001b[37mPOST /insert/botones HTTP/1.1\u001b[0m\" 200 -\n",
      "127.0.0.1 - - [07/Jul/2021 14:58:18] \"\u001b[37mPOST /insert/bloqueinformativo HTTP/1.1\u001b[0m\" 200 -\n"
     ]
    },
    {
     "name": "stdout",
     "output_type": "stream",
     "text": [
      "Datos enviados INSERT:\n",
      "{'id_elemento': '1410', 'titlebutton': 'Btn1P3', 'typebutton': 'postback', 'contentbutton': 'Informativo | c172acd8-1edc-4d5b-ac66-fdf02dfe35ff | oIgvWKILDrYMYDjlgAIk', 'id_boton': 2624, 'opc_nextid': 'Informativo | c172acd8-1edc-4d5b-ac66-fdf02dfe35ff | oIgvWKILDrYMYDjlgAIk'}\n",
      "Datos recibidos INSERT:\n",
      "{'id_elemento': '1410', 'titlebutton': 'Btn1P3', 'typebutton': 'postback', 'contentbutton': 'Informativo | c172acd8-1edc-4d5b-ac66-fdf02dfe35ff | oIgvWKILDrYMYDjlgAIk', 'opc_nextid': 'Informativo | c172acd8-1edc-4d5b-ac66-fdf02dfe35ff | oIgvWKILDrYMYDjlgAIk'}\n",
      "intenatando consulta...\n",
      "consulta: select * from botones where id_elemento= '1410' and titlebutton= 'Btn1P3' and typebutton= 'postback' and contentbutton= 'Informativo | c172acd8-1edc-4d5b-ac66-fdf02dfe35ff | oIgvWKILDrYMYDjlgAIk' and opc_nextid= 'Informativo | c172acd8-1edc-4d5b-ac66-fdf02dfe35ff | oIgvWKILDrYMYDjlgAIk' ;\n",
      "Datos enviados INSERT:\n",
      "[{'id_elemento': '1410', 'titlebutton': 'Btn1P3', 'typebutton': 'postback', 'contentbutton': 'Informativo | c172acd8-1edc-4d5b-ac66-fdf02dfe35ff | oIgvWKILDrYMYDjlgAIk', 'id_boton': 2624, 'opc_nextid': 'Informativo | c172acd8-1edc-4d5b-ac66-fdf02dfe35ff | oIgvWKILDrYMYDjlgAIk'}, {'id_elemento': '1410', 'titlebutton': 'Btn1P3', 'typebutton': 'postback', 'contentbutton': 'Informativo | c172acd8-1edc-4d5b-ac66-fdf02dfe35ff | oIgvWKILDrYMYDjlgAIk', 'id_boton': 2625, 'opc_nextid': 'Informativo | c172acd8-1edc-4d5b-ac66-fdf02dfe35ff | oIgvWKILDrYMYDjlgAIk'}]\n",
      "Datos recibidos INSERT:\n",
      "{'next_id': 'Carrusel | 20088b9a-b5fa-4089-a72d-9ced45cbd899 | oIgvWKILDrYMYDjlgAIk', 'namestate': 'Informativo | 2edb2c69-beb8-471f-9799-940599824c36 | oIgvWKILDrYMYDjlgAIk', 'contenido': 'Hola oswaldo', 'contenttype': 'text', 'typingtime': '1', 'id_robot': 583, 'blocktype': 'informativo'}\n",
      "intenatando consulta...\n",
      "consulta: select * from bloqueinformativo where next_id= 'Carrusel | 20088b9a-b5fa-4089-a72d-9ced45cbd899 | oIgvWKILDrYMYDjlgAIk' and namestate= 'Informativo | 2edb2c69-beb8-471f-9799-940599824c36 | oIgvWKILDrYMYDjlgAIk' and contenido= 'Hola oswaldo' and contenttype= 'text' and typingtime= '1' and id_robot= '583' and blocktype= 'informativo' ;\n",
      "Datos enviados INSERT:\n",
      "{'namestate': 'Informativo | 2edb2c69-beb8-471f-9799-940599824c36 | oIgvWKILDrYMYDjlgAIk', 'contenido': 'Hola oswaldo', 'next_id': 'Carrusel | 20088b9a-b5fa-4089-a72d-9ced45cbd899 | oIgvWKILDrYMYDjlgAIk', 'blocktype': 'informativo', 'contenttype': 'text', 'typingtime': '1', 'id_block': 4099, 'id_robot': 583, 'opc_nextid': None, 'pos_y': None, 'pos_x': None, 'tag_active': None}\n",
      "Datos recibidos INSERT:\n",
      "{'next_id': 'Salida', 'namestate': 'Informativo | c172acd8-1edc-4d5b-ac66-fdf02dfe35ff | oIgvWKILDrYMYDjlgAIk', 'contenido': 'Adios Oswa', 'contenttype': 'text', 'typingtime': '1', 'id_robot': 583, 'blocktype': 'informativo'}\n"
     ]
    },
    {
     "name": "stderr",
     "output_type": "stream",
     "text": [
      "127.0.0.1 - - [07/Jul/2021 14:58:18] \"\u001b[37mPOST /insert/bloqueinformativo HTTP/1.1\u001b[0m\" 200 -\n",
      "127.0.0.1 - - [07/Jul/2021 14:58:18] \"\u001b[37mPOST /insert/bloqueinformativo HTTP/1.1\u001b[0m\" 200 -\n"
     ]
    },
    {
     "name": "stdout",
     "output_type": "stream",
     "text": [
      "intenatando consulta...\n",
      "consulta: select * from bloqueinformativo where next_id= 'Salida' and namestate= 'Informativo | c172acd8-1edc-4d5b-ac66-fdf02dfe35ff | oIgvWKILDrYMYDjlgAIk' and contenido= 'Adios Oswa' and contenttype= 'text' and typingtime= '1' and id_robot= '583' and blocktype= 'informativo' ;\n",
      "Datos enviados INSERT:\n",
      "{'namestate': 'Informativo | c172acd8-1edc-4d5b-ac66-fdf02dfe35ff | oIgvWKILDrYMYDjlgAIk', 'contenido': 'Adios Oswa', 'next_id': 'Salida', 'blocktype': 'informativo', 'contenttype': 'text', 'typingtime': '1', 'id_block': 4100, 'id_robot': 583, 'opc_nextid': None, 'pos_y': None, 'pos_x': None, 'tag_active': None}\n",
      "Datos recibidos INSERT:\n",
      "{'next_id': '', 'namestate': 'Salida', 'contenido': '', 'contenttype': 'text', 'typingtime': 3, 'id_robot': 583, 'blocktype': 'informativo'}\n",
      "intenatando consulta...\n",
      "consulta: select * from bloqueinformativo where next_id= '' and namestate= 'Salida' and contenido= '' and contenttype= 'text' and typingtime= '3' and id_robot= '583' and blocktype= 'informativo' ;\n",
      "Datos enviados INSERT:\n",
      "{'namestate': 'Salida', 'contenido': '', 'next_id': '', 'blocktype': 'informativo', 'contenttype': 'text', 'typingtime': '3', 'id_block': 4101, 'id_robot': 583, 'opc_nextid': None, 'pos_y': None, 'pos_x': None, 'tag_active': None}\n"
     ]
    },
    {
     "name": "stderr",
     "output_type": "stream",
     "text": [
      "127.0.0.1 - - [07/Jul/2021 14:59:30] \"\u001b[37mGET /select/robots HTTP/1.1\u001b[0m\" 200 -\n",
      "127.0.0.1 - - [07/Jul/2021 14:59:30] \"\u001b[37mGET /select/bloqueslide HTTP/1.1\u001b[0m\" 200 -\n",
      "127.0.0.1 - - [07/Jul/2021 14:59:30] \"\u001b[37mGET /select/elementos HTTP/1.1\u001b[0m\" 200 -\n"
     ]
    },
    {
     "name": "stdout",
     "output_type": "stream",
     "text": [
      "Datos recibidos SELECT:\n",
      "{'name_robot': 'Oswa1', 'id_face': '106842278334918', 'block_ini': 'Informativo | 2edb2c69-beb8-471f-9799-940599824c36 | oIgvWKILDrYMYDjlgAIk', 'type_blocki': 'informativo', 'access_token': 'EAAFMtaIPwugBAIRPT4mTm2a9nei1940NrJqMbhvvyPwfZAUZA6Id2YaXUeSu06TENy0QoDsprATI0J2ZCGHS2X6UQ4TG2AWkIbNQ3LLGdRMORJZBZBT9BhB58QusrYaXG90RiZAog3r9THJCXmX1m7vjArQ3KoX3PrEGYehS4j6TSblsfU73uf', 'id_user': 'charlygoldcruz@gmail.com', 'api_nlp': 'http://localhost:8282/'}\n",
      "intenatando consulta...\n",
      "consulta: select * from robots where id_face = '106842278334918';\n",
      "Datos enviados SELECT:\n",
      "{'name_robot': 'Oswa1', 'id_face': '106842278334918', 'block_ini': 'Informativo | 2edb2c69-beb8-471f-9799-940599824c36 | oIgvWKILDrYMYDjlgAIk', 'type_blocki': 'informativo', 'access_token': 'EAAFMtaIPwugBAIRPT4mTm2a9nei1940NrJqMbhvvyPwfZAUZA6Id2YaXUeSu06TENy0QoDsprATI0J2ZCGHS2X6UQ4TG2AWkIbNQ3LLGdRMORJZBZBT9BhB58QusrYaXG90RiZAog3r9THJCXmX1m7vjArQ3KoX3PrEGYehS4j6TSblsfU73uf', 'api_nlp': 'http://localhost:8282/', 'id_robot': 583, 'id_user': 'charlygoldcruz@gmail.com'}\n",
      "Datos recibidos SELECT:\n",
      "{'id_robot': '583'}\n",
      "intenatando consulta...\n",
      "consulta: select * from bloqueslide where id_robot= '583' ;\n",
      "Datos enviados SELECT:\n",
      "{'namestate': 'Carrusel | 20088b9a-b5fa-4089-a72d-9ced45cbd899 | oIgvWKILDrYMYDjlgAIk', 'next_id': 'Informativo | c172acd8-1edc-4d5b-ac66-fdf02dfe35ff | oIgvWKILDrYMYDjlgAIk,Informativo | c172acd8-1edc-4d5b-ac66-fdf02dfe35ff | oIgvWKILDrYMYDjlgAIk,Informativo | c172acd8-1edc-4d5b-ac66-fdf02dfe35ff | oIgvWKILDrYMYDjlgAIk,Informativo | c172acd8-1edc-4d5b-ac66-fdf02dfe35ff | oIgvWKILDrYMYDjlgAIk,Informativo | c172acd8-1edc-4d5b-ac66-fdf02dfe35ff | oIgvWKILDrYMYDjlgAIk,Informativo | c172acd8-1edc-4d5b-ac66-fdf02dfe35ff | oIgvWKILDrYMYDjlgAIk', 'blocktype': 'slide', 'typingtime': '1', 'default_id': 'Carrusel | 20088b9a-b5fa-4089-a72d-9ced45cbd899 | oIgvWKILDrYMYDjlgAIk', 'id_var': '2469', 'id_block': 789, 'id_robot': 583, 'opc_nextid': None, 'pos_y': None, 'pos_x': None, 'opc_elm': None, 'tag_active': None}\n",
      "Datos recibidos SELECT:\n",
      "{'id_block': 789}\n",
      "intenatando consulta...\n",
      "consulta: select * from elementos where id_block= '789' ;\n",
      "Datos enviados SELECT:\n",
      "[{'blocktype': 'slide', 'title': 'Img1', 'image_url': 'https://www.gettyimages.es/gi-resources/images/500px/983794168.jpg', 'subtitle': 'sub1', 'id_block': 789, 'id_elements': 1408}, {'blocktype': 'slide', 'title': 'Img2', 'image_url': 'https://analyticsindiamag.com/wp-content/uploads/2020/10/7d744a684fe03ebc7e8de545f97739dd.jpg', 'subtitle': 'sub3', 'id_block': 789, 'id_elements': 1409}, {'blocktype': 'slide', 'title': 'Img3', 'image_url': 'https://spaceplace.nasa.gov/gallery-sun/en/solar-flare.en.jpg', 'subtitle': 'Sub3', 'id_block': 789, 'id_elements': 1410}]\n"
     ]
    },
    {
     "name": "stderr",
     "output_type": "stream",
     "text": [
      "127.0.0.1 - - [07/Jul/2021 14:59:30] \"\u001b[37mPOST /insert/variables HTTP/1.1\u001b[0m\" 200 -\n",
      "127.0.0.1 - - [07/Jul/2021 14:59:30] \"\u001b[37mPOST /insert/bloqueslide HTTP/1.1\u001b[0m\" 200 -\n",
      "127.0.0.1 - - [07/Jul/2021 14:59:30] \"\u001b[37mPOST /insert/elementos HTTP/1.1\u001b[0m\" 200 -\n"
     ]
    },
    {
     "name": "stdout",
     "output_type": "stream",
     "text": [
      "Datos recibidos INSERT:\n",
      "{'name_var': 'variableCarrCarrusel_|_20088b9a-b5fa-4089-a72d-9ced45cbd8994480', 'opc_type': 'Variable', 'var': 0, 'opc_data': 'String', 'id_robot': 583}\n",
      "intenatando consulta...\n",
      "consulta: select * from variables where name_var= 'variableCarrCarrusel_|_20088b9a-b5fa-4089-a72d-9ced45cbd8994480' and opc_type= 'Variable' and var= '0' and opc_data= 'String' and id_robot= '583' ;\n",
      "Datos enviados INSERT:\n",
      "{'id_var': 2470, 'opc_type': 'Variable', 'opc_data': 'String', 'var': '0', 'id_robot': 583, 'name_var': 'variableCarrCarrusel_|_20088b9a-b5fa-4089-a72d-9ced45cbd8994480'}\n",
      "Datos recibidos INSERT:\n",
      "{'namestate': 'Carrusel | 20088b9a-b5fa-4089-a72d-9ced45cbd899 | oIgvWKILDrYMYDjlgAIk', 'blocktype': 'slide', 'typingtime': '1', 'default_id': 'Carrusel | 20088b9a-b5fa-4089-a72d-9ced45cbd899 | oIgvWKILDrYMYDjlgAIk', 'id_var': 2470, 'id_robot': 583}\n",
      "intenatando consulta...\n",
      "consulta: select * from bloqueslide where namestate= 'Carrusel | 20088b9a-b5fa-4089-a72d-9ced45cbd899 | oIgvWKILDrYMYDjlgAIk' and blocktype= 'slide' and typingtime= '1' and default_id= 'Carrusel | 20088b9a-b5fa-4089-a72d-9ced45cbd899 | oIgvWKILDrYMYDjlgAIk' and id_var= '2470' and id_robot= '583' ;\n",
      "Datos enviados INSERT:\n",
      "{'namestate': 'Carrusel | 20088b9a-b5fa-4089-a72d-9ced45cbd899 | oIgvWKILDrYMYDjlgAIk', 'next_id': None, 'blocktype': 'slide', 'typingtime': '1', 'default_id': 'Carrusel | 20088b9a-b5fa-4089-a72d-9ced45cbd899 | oIgvWKILDrYMYDjlgAIk', 'id_var': '2470', 'id_block': 790, 'id_robot': 583, 'opc_nextid': None, 'pos_y': None, 'pos_x': None, 'opc_elm': None, 'tag_active': None}\n",
      "Datos recibidos INSERT:\n",
      "{'subtitle': 'sub1', 'title': 'Img1', 'image_url': 'https://www.gettyimages.es/gi-resources/images/500px/983794168.jpg', 'blocktype': 'slide', 'id_block': 790}\n",
      "intenatando consulta...\n",
      "consulta: select * from elementos where subtitle= 'sub1' and title= 'Img1' and image_url= 'https://www.gettyimages.es/gi-resources/images/500px/983794168.jpg' and blocktype= 'slide' and id_block= '790' ;\n",
      "Datos enviados INSERT:\n",
      "{'blocktype': 'slide', 'title': 'Img1', 'image_url': 'https://www.gettyimages.es/gi-resources/images/500px/983794168.jpg', 'subtitle': 'sub1', 'id_block': 790, 'id_elements': 1411}\n",
      "Datos recibidos INSERT:\n",
      "{'id_elemento': '1411', 'titlebutton': 'Btn1P1', 'typebutton': 'postback', 'contentbutton': 'Informativo | c172acd8-1edc-4d5b-ac66-fdf02dfe35ff | oIgvWKILDrYMYDjlgAIk', 'opc_nextid': 'Informativo | c172acd8-1edc-4d5b-ac66-fdf02dfe35ff | oIgvWKILDrYMYDjlgAIk'}\n"
     ]
    },
    {
     "name": "stderr",
     "output_type": "stream",
     "text": [
      "127.0.0.1 - - [07/Jul/2021 14:59:30] \"\u001b[37mPOST /insert/botones HTTP/1.1\u001b[0m\" 200 -\n",
      "127.0.0.1 - - [07/Jul/2021 14:59:31] \"\u001b[37mPOST /insert/botones HTTP/1.1\u001b[0m\" 200 -\n",
      "127.0.0.1 - - [07/Jul/2021 14:59:31] \"\u001b[37mPOST /insert/elementos HTTP/1.1\u001b[0m\" 200 -\n"
     ]
    },
    {
     "name": "stdout",
     "output_type": "stream",
     "text": [
      "intenatando consulta...\n",
      "consulta: select * from botones where id_elemento= '1411' and titlebutton= 'Btn1P1' and typebutton= 'postback' and contentbutton= 'Informativo | c172acd8-1edc-4d5b-ac66-fdf02dfe35ff | oIgvWKILDrYMYDjlgAIk' and opc_nextid= 'Informativo | c172acd8-1edc-4d5b-ac66-fdf02dfe35ff | oIgvWKILDrYMYDjlgAIk' ;\n",
      "Datos enviados INSERT:\n",
      "{'id_elemento': '1411', 'titlebutton': 'Btn1P1', 'typebutton': 'postback', 'contentbutton': 'Informativo | c172acd8-1edc-4d5b-ac66-fdf02dfe35ff | oIgvWKILDrYMYDjlgAIk', 'id_boton': 2626, 'opc_nextid': 'Informativo | c172acd8-1edc-4d5b-ac66-fdf02dfe35ff | oIgvWKILDrYMYDjlgAIk'}\n",
      "Datos recibidos INSERT:\n",
      "{'id_elemento': '1411', 'titlebutton': 'Btn2p2', 'typebutton': 'postback', 'contentbutton': 'Informativo | c172acd8-1edc-4d5b-ac66-fdf02dfe35ff | oIgvWKILDrYMYDjlgAIk', 'opc_nextid': 'Informativo | c172acd8-1edc-4d5b-ac66-fdf02dfe35ff | oIgvWKILDrYMYDjlgAIk'}\n",
      "intenatando consulta...\n",
      "consulta: select * from botones where id_elemento= '1411' and titlebutton= 'Btn2p2' and typebutton= 'postback' and contentbutton= 'Informativo | c172acd8-1edc-4d5b-ac66-fdf02dfe35ff | oIgvWKILDrYMYDjlgAIk' and opc_nextid= 'Informativo | c172acd8-1edc-4d5b-ac66-fdf02dfe35ff | oIgvWKILDrYMYDjlgAIk' ;\n",
      "Datos enviados INSERT:\n",
      "{'id_elemento': '1411', 'titlebutton': 'Btn2p2', 'typebutton': 'postback', 'contentbutton': 'Informativo | c172acd8-1edc-4d5b-ac66-fdf02dfe35ff | oIgvWKILDrYMYDjlgAIk', 'id_boton': 2627, 'opc_nextid': 'Informativo | c172acd8-1edc-4d5b-ac66-fdf02dfe35ff | oIgvWKILDrYMYDjlgAIk'}\n",
      "Datos recibidos INSERT:\n",
      "{'title': 'Img2', 'subtitle': 'sub3', 'image_url': 'https://analyticsindiamag.com/wp-content/uploads/2020/10/7d744a684fe03ebc7e8de545f97739dd.jpg', 'blocktype': 'slide', 'id_block': 790}\n",
      "intenatando consulta...\n",
      "consulta: select * from elementos where title= 'Img2' and subtitle= 'sub3' and image_url= 'https://analyticsindiamag.com/wp-content/uploads/2020/10/7d744a684fe03ebc7e8de545f97739dd.jpg' and blocktype= 'slide' and id_block= '790' ;\n",
      "Datos enviados INSERT:\n",
      "{'blocktype': 'slide', 'title': 'Img2', 'image_url': 'https://analyticsindiamag.com/wp-content/uploads/2020/10/7d744a684fe03ebc7e8de545f97739dd.jpg', 'subtitle': 'sub3', 'id_block': 790, 'id_elements': 1412}\n",
      "Datos recibidos INSERT:\n",
      "{'id_elemento': '1412', 'titlebutton': 'btn1P2', 'typebutton': 'postback', 'contentbutton': 'Informativo | c172acd8-1edc-4d5b-ac66-fdf02dfe35ff | oIgvWKILDrYMYDjlgAIk', 'opc_nextid': 'Informativo | c172acd8-1edc-4d5b-ac66-fdf02dfe35ff | oIgvWKILDrYMYDjlgAIk'}\n"
     ]
    },
    {
     "name": "stderr",
     "output_type": "stream",
     "text": [
      "127.0.0.1 - - [07/Jul/2021 14:59:31] \"\u001b[37mPOST /insert/botones HTTP/1.1\u001b[0m\" 200 -\n",
      "127.0.0.1 - - [07/Jul/2021 14:59:31] \"\u001b[37mPOST /insert/botones HTTP/1.1\u001b[0m\" 200 -\n",
      "127.0.0.1 - - [07/Jul/2021 14:59:31] \"\u001b[37mPOST /insert/elementos HTTP/1.1\u001b[0m\" 200 -\n"
     ]
    },
    {
     "name": "stdout",
     "output_type": "stream",
     "text": [
      "intenatando consulta...\n",
      "consulta: select * from botones where id_elemento= '1412' and titlebutton= 'btn1P2' and typebutton= 'postback' and contentbutton= 'Informativo | c172acd8-1edc-4d5b-ac66-fdf02dfe35ff | oIgvWKILDrYMYDjlgAIk' and opc_nextid= 'Informativo | c172acd8-1edc-4d5b-ac66-fdf02dfe35ff | oIgvWKILDrYMYDjlgAIk' ;\n",
      "Datos enviados INSERT:\n",
      "{'id_elemento': '1412', 'titlebutton': 'btn1P2', 'typebutton': 'postback', 'contentbutton': 'Informativo | c172acd8-1edc-4d5b-ac66-fdf02dfe35ff | oIgvWKILDrYMYDjlgAIk', 'id_boton': 2628, 'opc_nextid': 'Informativo | c172acd8-1edc-4d5b-ac66-fdf02dfe35ff | oIgvWKILDrYMYDjlgAIk'}\n",
      "Datos recibidos INSERT:\n",
      "{'id_elemento': '1412', 'titlebutton': 'Btn2P2', 'typebutton': 'postback', 'contentbutton': 'Informativo | c172acd8-1edc-4d5b-ac66-fdf02dfe35ff | oIgvWKILDrYMYDjlgAIk', 'opc_nextid': 'Informativo | c172acd8-1edc-4d5b-ac66-fdf02dfe35ff | oIgvWKILDrYMYDjlgAIk'}\n",
      "intenatando consulta...\n",
      "consulta: select * from botones where id_elemento= '1412' and titlebutton= 'Btn2P2' and typebutton= 'postback' and contentbutton= 'Informativo | c172acd8-1edc-4d5b-ac66-fdf02dfe35ff | oIgvWKILDrYMYDjlgAIk' and opc_nextid= 'Informativo | c172acd8-1edc-4d5b-ac66-fdf02dfe35ff | oIgvWKILDrYMYDjlgAIk' ;\n",
      "Datos enviados INSERT:\n",
      "{'id_elemento': '1412', 'titlebutton': 'Btn2P2', 'typebutton': 'postback', 'contentbutton': 'Informativo | c172acd8-1edc-4d5b-ac66-fdf02dfe35ff | oIgvWKILDrYMYDjlgAIk', 'id_boton': 2629, 'opc_nextid': 'Informativo | c172acd8-1edc-4d5b-ac66-fdf02dfe35ff | oIgvWKILDrYMYDjlgAIk'}\n",
      "Datos recibidos INSERT:\n",
      "{'image_url': 'https://spaceplace.nasa.gov/gallery-sun/en/solar-flare.en.jpg', 'title': 'Img3', 'subtitle': 'Sub3', 'blocktype': 'slide', 'id_block': 790}\n",
      "intenatando consulta...\n",
      "consulta: select * from elementos where image_url= 'https://spaceplace.nasa.gov/gallery-sun/en/solar-flare.en.jpg' and title= 'Img3' and subtitle= 'Sub3' and blocktype= 'slide' and id_block= '790' ;\n",
      "Datos enviados INSERT:\n",
      "{'blocktype': 'slide', 'title': 'Img3', 'image_url': 'https://spaceplace.nasa.gov/gallery-sun/en/solar-flare.en.jpg', 'subtitle': 'Sub3', 'id_block': 790, 'id_elements': 1413}\n",
      "Datos recibidos INSERT:\n",
      "{'id_elemento': '1413', 'titlebutton': 'Btn1P3', 'typebutton': 'postback', 'contentbutton': 'Informativo | c172acd8-1edc-4d5b-ac66-fdf02dfe35ff | oIgvWKILDrYMYDjlgAIk', 'opc_nextid': 'Informativo | c172acd8-1edc-4d5b-ac66-fdf02dfe35ff | oIgvWKILDrYMYDjlgAIk'}\n"
     ]
    },
    {
     "name": "stderr",
     "output_type": "stream",
     "text": [
      "127.0.0.1 - - [07/Jul/2021 14:59:31] \"\u001b[37mPOST /insert/botones HTTP/1.1\u001b[0m\" 200 -\n",
      "127.0.0.1 - - [07/Jul/2021 14:59:31] \"\u001b[37mPOST /insert/botones HTTP/1.1\u001b[0m\" 200 -\n"
     ]
    },
    {
     "name": "stdout",
     "output_type": "stream",
     "text": [
      "intenatando consulta...\n",
      "consulta: select * from botones where id_elemento= '1413' and titlebutton= 'Btn1P3' and typebutton= 'postback' and contentbutton= 'Informativo | c172acd8-1edc-4d5b-ac66-fdf02dfe35ff | oIgvWKILDrYMYDjlgAIk' and opc_nextid= 'Informativo | c172acd8-1edc-4d5b-ac66-fdf02dfe35ff | oIgvWKILDrYMYDjlgAIk' ;\n",
      "Datos enviados INSERT:\n",
      "{'id_elemento': '1413', 'titlebutton': 'Btn1P3', 'typebutton': 'postback', 'contentbutton': 'Informativo | c172acd8-1edc-4d5b-ac66-fdf02dfe35ff | oIgvWKILDrYMYDjlgAIk', 'id_boton': 2630, 'opc_nextid': 'Informativo | c172acd8-1edc-4d5b-ac66-fdf02dfe35ff | oIgvWKILDrYMYDjlgAIk'}\n",
      "Datos recibidos INSERT:\n",
      "{'id_elemento': '1413', 'titlebutton': 'Btn1P3', 'typebutton': 'postback', 'contentbutton': 'Informativo | c172acd8-1edc-4d5b-ac66-fdf02dfe35ff | oIgvWKILDrYMYDjlgAIk', 'opc_nextid': 'Informativo | c172acd8-1edc-4d5b-ac66-fdf02dfe35ff | oIgvWKILDrYMYDjlgAIk'}\n",
      "intenatando consulta...\n",
      "consulta: select * from botones where id_elemento= '1413' and titlebutton= 'Btn1P3' and typebutton= 'postback' and contentbutton= 'Informativo | c172acd8-1edc-4d5b-ac66-fdf02dfe35ff | oIgvWKILDrYMYDjlgAIk' and opc_nextid= 'Informativo | c172acd8-1edc-4d5b-ac66-fdf02dfe35ff | oIgvWKILDrYMYDjlgAIk' ;\n",
      "Datos enviados INSERT:\n",
      "[{'id_elemento': '1413', 'titlebutton': 'Btn1P3', 'typebutton': 'postback', 'contentbutton': 'Informativo | c172acd8-1edc-4d5b-ac66-fdf02dfe35ff | oIgvWKILDrYMYDjlgAIk', 'id_boton': 2630, 'opc_nextid': 'Informativo | c172acd8-1edc-4d5b-ac66-fdf02dfe35ff | oIgvWKILDrYMYDjlgAIk'}, {'id_elemento': '1413', 'titlebutton': 'Btn1P3', 'typebutton': 'postback', 'contentbutton': 'Informativo | c172acd8-1edc-4d5b-ac66-fdf02dfe35ff | oIgvWKILDrYMYDjlgAIk', 'id_boton': 2631, 'opc_nextid': 'Informativo | c172acd8-1edc-4d5b-ac66-fdf02dfe35ff | oIgvWKILDrYMYDjlgAIk'}]\n",
      "Datos recibidos INSERT:\n",
      "{'next_id': 'Carrusel | 20088b9a-b5fa-4089-a72d-9ced45cbd899 | oIgvWKILDrYMYDjlgAIk', 'namestate': 'Informativo | 2edb2c69-beb8-471f-9799-940599824c36 | oIgvWKILDrYMYDjlgAIk', 'contenido': 'Hola oswaldo', 'contenttype': 'text', 'typingtime': '1', 'id_robot': 583, 'blocktype': 'informativo'}\n",
      "intenatando consulta...\n",
      "consulta: select * from bloqueinformativo where next_id= 'Carrusel | 20088b9a-b5fa-4089-a72d-9ced45cbd899 | oIgvWKILDrYMYDjlgAIk' and namestate= 'Informativo | 2edb2c69-beb8-471f-9799-940599824c36 | oIgvWKILDrYMYDjlgAIk' and contenido= 'Hola oswaldo' and contenttype= 'text' and typingtime= '1' and id_robot= '583' and blocktype= 'informativo' ;\n"
     ]
    },
    {
     "name": "stderr",
     "output_type": "stream",
     "text": [
      "127.0.0.1 - - [07/Jul/2021 14:59:31] \"\u001b[37mPOST /insert/bloqueinformativo HTTP/1.1\u001b[0m\" 200 -\n",
      "127.0.0.1 - - [07/Jul/2021 14:59:31] \"\u001b[37mPOST /insert/bloqueinformativo HTTP/1.1\u001b[0m\" 200 -\n",
      "127.0.0.1 - - [07/Jul/2021 14:59:31] \"\u001b[37mPOST /insert/bloqueinformativo HTTP/1.1\u001b[0m\" 200 -\n"
     ]
    },
    {
     "name": "stdout",
     "output_type": "stream",
     "text": [
      "Datos enviados INSERT:\n",
      "{'namestate': 'Informativo | 2edb2c69-beb8-471f-9799-940599824c36 | oIgvWKILDrYMYDjlgAIk', 'contenido': 'Hola oswaldo', 'next_id': 'Carrusel | 20088b9a-b5fa-4089-a72d-9ced45cbd899 | oIgvWKILDrYMYDjlgAIk', 'blocktype': 'informativo', 'contenttype': 'text', 'typingtime': '1', 'id_block': 4102, 'id_robot': 583, 'opc_nextid': None, 'pos_y': None, 'pos_x': None, 'tag_active': None}\n",
      "Datos recibidos INSERT:\n",
      "{'next_id': 'Informativo | 2edb2c69-beb8-471f-9799-940599824c36 | oIgvWKILDrYMYDjlgAIk', 'namestate': 'Informativo | c172acd8-1edc-4d5b-ac66-fdf02dfe35ff | oIgvWKILDrYMYDjlgAIk', 'contenido': 'Adios Oswa', 'contenttype': 'text', 'typingtime': '1', 'id_robot': 583, 'blocktype': 'informativo'}\n",
      "intenatando consulta...\n",
      "consulta: select * from bloqueinformativo where next_id= 'Informativo | 2edb2c69-beb8-471f-9799-940599824c36 | oIgvWKILDrYMYDjlgAIk' and namestate= 'Informativo | c172acd8-1edc-4d5b-ac66-fdf02dfe35ff | oIgvWKILDrYMYDjlgAIk' and contenido= 'Adios Oswa' and contenttype= 'text' and typingtime= '1' and id_robot= '583' and blocktype= 'informativo' ;\n",
      "Datos enviados INSERT:\n",
      "{'namestate': 'Informativo | c172acd8-1edc-4d5b-ac66-fdf02dfe35ff | oIgvWKILDrYMYDjlgAIk', 'contenido': 'Adios Oswa', 'next_id': 'Informativo | 2edb2c69-beb8-471f-9799-940599824c36 | oIgvWKILDrYMYDjlgAIk', 'blocktype': 'informativo', 'contenttype': 'text', 'typingtime': '1', 'id_block': 4103, 'id_robot': 583, 'opc_nextid': None, 'pos_y': None, 'pos_x': None, 'tag_active': None}\n",
      "Datos recibidos INSERT:\n",
      "{'next_id': '', 'namestate': 'Salida', 'contenido': '', 'contenttype': 'text', 'typingtime': 3, 'id_robot': 583, 'blocktype': 'informativo'}\n",
      "intenatando consulta...\n",
      "consulta: select * from bloqueinformativo where next_id= '' and namestate= 'Salida' and contenido= '' and contenttype= 'text' and typingtime= '3' and id_robot= '583' and blocktype= 'informativo' ;\n",
      "Datos enviados INSERT:\n",
      "{'namestate': 'Salida', 'contenido': '', 'next_id': '', 'blocktype': 'informativo', 'contenttype': 'text', 'typingtime': '3', 'id_block': 4104, 'id_robot': 583, 'opc_nextid': None, 'pos_y': None, 'pos_x': None, 'tag_active': None}\n"
     ]
    },
    {
     "name": "stderr",
     "output_type": "stream",
     "text": [
      "127.0.0.1 - - [07/Jul/2021 15:00:09] \"\u001b[37mGET /select/robots HTTP/1.1\u001b[0m\" 200 -\n",
      "127.0.0.1 - - [07/Jul/2021 15:00:09] \"\u001b[37mGET /select/bloqueslide HTTP/1.1\u001b[0m\" 200 -\n",
      "127.0.0.1 - - [07/Jul/2021 15:00:09] \"\u001b[37mGET /select/elementos HTTP/1.1\u001b[0m\" 200 -\n"
     ]
    },
    {
     "name": "stdout",
     "output_type": "stream",
     "text": [
      "Datos recibidos SELECT:\n",
      "{'name_robot': 'Oswa1', 'id_face': '106842278334918', 'block_ini': 'Informativo | 2edb2c69-beb8-471f-9799-940599824c36 | oIgvWKILDrYMYDjlgAIk', 'type_blocki': 'informativo', 'access_token': 'EAAFMtaIPwugBAIRPT4mTm2a9nei1940NrJqMbhvvyPwfZAUZA6Id2YaXUeSu06TENy0QoDsprATI0J2ZCGHS2X6UQ4TG2AWkIbNQ3LLGdRMORJZBZBT9BhB58QusrYaXG90RiZAog3r9THJCXmX1m7vjArQ3KoX3PrEGYehS4j6TSblsfU73uf', 'id_user': 'charlygoldcruz@gmail.com', 'api_nlp': 'http://localhost:8282/'}\n",
      "intenatando consulta...\n",
      "consulta: select * from robots where id_face = '106842278334918';\n",
      "Datos enviados SELECT:\n",
      "{'name_robot': 'Oswa1', 'id_face': '106842278334918', 'block_ini': 'Informativo | 2edb2c69-beb8-471f-9799-940599824c36 | oIgvWKILDrYMYDjlgAIk', 'type_blocki': 'informativo', 'access_token': 'EAAFMtaIPwugBAIRPT4mTm2a9nei1940NrJqMbhvvyPwfZAUZA6Id2YaXUeSu06TENy0QoDsprATI0J2ZCGHS2X6UQ4TG2AWkIbNQ3LLGdRMORJZBZBT9BhB58QusrYaXG90RiZAog3r9THJCXmX1m7vjArQ3KoX3PrEGYehS4j6TSblsfU73uf', 'api_nlp': 'http://localhost:8282/', 'id_robot': 583, 'id_user': 'charlygoldcruz@gmail.com'}\n",
      "Datos recibidos SELECT:\n",
      "{'id_robot': '583'}\n",
      "intenatando consulta...\n",
      "consulta: select * from bloqueslide where id_robot= '583' ;\n",
      "Datos enviados SELECT:\n",
      "{'namestate': 'Carrusel | 20088b9a-b5fa-4089-a72d-9ced45cbd899 | oIgvWKILDrYMYDjlgAIk', 'next_id': 'Informativo | c172acd8-1edc-4d5b-ac66-fdf02dfe35ff | oIgvWKILDrYMYDjlgAIk,Informativo | c172acd8-1edc-4d5b-ac66-fdf02dfe35ff | oIgvWKILDrYMYDjlgAIk,Informativo | c172acd8-1edc-4d5b-ac66-fdf02dfe35ff | oIgvWKILDrYMYDjlgAIk,Informativo | c172acd8-1edc-4d5b-ac66-fdf02dfe35ff | oIgvWKILDrYMYDjlgAIk,Informativo | c172acd8-1edc-4d5b-ac66-fdf02dfe35ff | oIgvWKILDrYMYDjlgAIk,Informativo | c172acd8-1edc-4d5b-ac66-fdf02dfe35ff | oIgvWKILDrYMYDjlgAIk', 'blocktype': 'slide', 'typingtime': '1', 'default_id': 'Carrusel | 20088b9a-b5fa-4089-a72d-9ced45cbd899 | oIgvWKILDrYMYDjlgAIk', 'id_var': '2470', 'id_block': 790, 'id_robot': 583, 'opc_nextid': None, 'pos_y': None, 'pos_x': None, 'opc_elm': None, 'tag_active': None}\n",
      "Datos recibidos SELECT:\n",
      "{'id_block': 790}\n",
      "intenatando consulta...\n",
      "consulta: select * from elementos where id_block= '790' ;\n",
      "Datos enviados SELECT:\n",
      "[{'blocktype': 'slide', 'title': 'Img1', 'image_url': 'https://www.gettyimages.es/gi-resources/images/500px/983794168.jpg', 'subtitle': 'sub1', 'id_block': 790, 'id_elements': 1411}, {'blocktype': 'slide', 'title': 'Img2', 'image_url': 'https://analyticsindiamag.com/wp-content/uploads/2020/10/7d744a684fe03ebc7e8de545f97739dd.jpg', 'subtitle': 'sub3', 'id_block': 790, 'id_elements': 1412}, {'blocktype': 'slide', 'title': 'Img3', 'image_url': 'https://spaceplace.nasa.gov/gallery-sun/en/solar-flare.en.jpg', 'subtitle': 'Sub3', 'id_block': 790, 'id_elements': 1413}]\n"
     ]
    },
    {
     "name": "stderr",
     "output_type": "stream",
     "text": [
      "127.0.0.1 - - [07/Jul/2021 15:00:09] \"\u001b[37mPOST /insert/variables HTTP/1.1\u001b[0m\" 200 -\n",
      "127.0.0.1 - - [07/Jul/2021 15:00:09] \"\u001b[37mPOST /insert/bloqueslide HTTP/1.1\u001b[0m\" 200 -\n",
      "127.0.0.1 - - [07/Jul/2021 15:00:10] \"\u001b[37mPOST /insert/elementos HTTP/1.1\u001b[0m\" 200 -\n"
     ]
    },
    {
     "name": "stdout",
     "output_type": "stream",
     "text": [
      "Datos recibidos INSERT:\n",
      "{'name_var': 'variableCarrCarrusel_|_20088b9a-b5fa-4089-a72d-9ced45cbd8997595', 'opc_type': 'Variable', 'var': 0, 'opc_data': 'String', 'id_robot': 583}\n",
      "intenatando consulta...\n",
      "consulta: select * from variables where name_var= 'variableCarrCarrusel_|_20088b9a-b5fa-4089-a72d-9ced45cbd8997595' and opc_type= 'Variable' and var= '0' and opc_data= 'String' and id_robot= '583' ;\n",
      "Datos enviados INSERT:\n",
      "{'id_var': 2471, 'opc_type': 'Variable', 'opc_data': 'String', 'var': '0', 'id_robot': 583, 'name_var': 'variableCarrCarrusel_|_20088b9a-b5fa-4089-a72d-9ced45cbd8997595'}\n",
      "Datos recibidos INSERT:\n",
      "{'namestate': 'Carrusel | 20088b9a-b5fa-4089-a72d-9ced45cbd899 | oIgvWKILDrYMYDjlgAIk', 'blocktype': 'slide', 'typingtime': '1', 'default_id': 'Carrusel | 20088b9a-b5fa-4089-a72d-9ced45cbd899 | oIgvWKILDrYMYDjlgAIk', 'id_var': 2471, 'id_robot': 583}\n",
      "intenatando consulta...\n",
      "consulta: select * from bloqueslide where namestate= 'Carrusel | 20088b9a-b5fa-4089-a72d-9ced45cbd899 | oIgvWKILDrYMYDjlgAIk' and blocktype= 'slide' and typingtime= '1' and default_id= 'Carrusel | 20088b9a-b5fa-4089-a72d-9ced45cbd899 | oIgvWKILDrYMYDjlgAIk' and id_var= '2471' and id_robot= '583' ;\n",
      "Datos enviados INSERT:\n",
      "{'namestate': 'Carrusel | 20088b9a-b5fa-4089-a72d-9ced45cbd899 | oIgvWKILDrYMYDjlgAIk', 'next_id': None, 'blocktype': 'slide', 'typingtime': '1', 'default_id': 'Carrusel | 20088b9a-b5fa-4089-a72d-9ced45cbd899 | oIgvWKILDrYMYDjlgAIk', 'id_var': '2471', 'id_block': 791, 'id_robot': 583, 'opc_nextid': None, 'pos_y': None, 'pos_x': None, 'opc_elm': None, 'tag_active': None}\n",
      "Datos recibidos INSERT:\n",
      "{'image_url': 'https://www.gettyimages.es/gi-resources/images/500px/983794168.jpg', 'subtitle': 'sub1', 'title': 'Img1', 'blocktype': 'slide', 'id_block': 791}\n",
      "intenatando consulta...\n",
      "consulta: select * from elementos where image_url= 'https://www.gettyimages.es/gi-resources/images/500px/983794168.jpg' and subtitle= 'sub1' and title= 'Img1' and blocktype= 'slide' and id_block= '791' ;\n",
      "Datos enviados INSERT:\n",
      "{'blocktype': 'slide', 'title': 'Img1', 'image_url': 'https://www.gettyimages.es/gi-resources/images/500px/983794168.jpg', 'subtitle': 'sub1', 'id_block': 791, 'id_elements': 1414}\n",
      "Datos recibidos INSERT:\n",
      "{'id_elemento': '1414', 'titlebutton': 'Btn1P1', 'typebutton': 'postback', 'contentbutton': 'Informativo | c172acd8-1edc-4d5b-ac66-fdf02dfe35ff | oIgvWKILDrYMYDjlgAIk', 'opc_nextid': 'Informativo | c172acd8-1edc-4d5b-ac66-fdf02dfe35ff | oIgvWKILDrYMYDjlgAIk'}\n"
     ]
    },
    {
     "name": "stderr",
     "output_type": "stream",
     "text": [
      "127.0.0.1 - - [07/Jul/2021 15:00:10] \"\u001b[37mPOST /insert/botones HTTP/1.1\u001b[0m\" 200 -\n",
      "127.0.0.1 - - [07/Jul/2021 15:00:10] \"\u001b[37mPOST /insert/botones HTTP/1.1\u001b[0m\" 200 -\n",
      "127.0.0.1 - - [07/Jul/2021 15:00:10] \"\u001b[37mPOST /insert/elementos HTTP/1.1\u001b[0m\" 200 -\n"
     ]
    },
    {
     "name": "stdout",
     "output_type": "stream",
     "text": [
      "intenatando consulta...\n",
      "consulta: select * from botones where id_elemento= '1414' and titlebutton= 'Btn1P1' and typebutton= 'postback' and contentbutton= 'Informativo | c172acd8-1edc-4d5b-ac66-fdf02dfe35ff | oIgvWKILDrYMYDjlgAIk' and opc_nextid= 'Informativo | c172acd8-1edc-4d5b-ac66-fdf02dfe35ff | oIgvWKILDrYMYDjlgAIk' ;\n",
      "Datos enviados INSERT:\n",
      "{'id_elemento': '1414', 'titlebutton': 'Btn1P1', 'typebutton': 'postback', 'contentbutton': 'Informativo | c172acd8-1edc-4d5b-ac66-fdf02dfe35ff | oIgvWKILDrYMYDjlgAIk', 'id_boton': 2632, 'opc_nextid': 'Informativo | c172acd8-1edc-4d5b-ac66-fdf02dfe35ff | oIgvWKILDrYMYDjlgAIk'}\n",
      "Datos recibidos INSERT:\n",
      "{'id_elemento': '1414', 'titlebutton': 'Btn2p2', 'typebutton': 'postback', 'contentbutton': 'Informativo | c172acd8-1edc-4d5b-ac66-fdf02dfe35ff | oIgvWKILDrYMYDjlgAIk', 'opc_nextid': 'Informativo | c172acd8-1edc-4d5b-ac66-fdf02dfe35ff | oIgvWKILDrYMYDjlgAIk'}\n",
      "intenatando consulta...\n",
      "consulta: select * from botones where id_elemento= '1414' and titlebutton= 'Btn2p2' and typebutton= 'postback' and contentbutton= 'Informativo | c172acd8-1edc-4d5b-ac66-fdf02dfe35ff | oIgvWKILDrYMYDjlgAIk' and opc_nextid= 'Informativo | c172acd8-1edc-4d5b-ac66-fdf02dfe35ff | oIgvWKILDrYMYDjlgAIk' ;\n",
      "Datos enviados INSERT:\n",
      "{'id_elemento': '1414', 'titlebutton': 'Btn2p2', 'typebutton': 'postback', 'contentbutton': 'Informativo | c172acd8-1edc-4d5b-ac66-fdf02dfe35ff | oIgvWKILDrYMYDjlgAIk', 'id_boton': 2633, 'opc_nextid': 'Informativo | c172acd8-1edc-4d5b-ac66-fdf02dfe35ff | oIgvWKILDrYMYDjlgAIk'}\n",
      "Datos recibidos INSERT:\n",
      "{'image_url': 'https://analyticsindiamag.com/wp-content/uploads/2020/10/7d744a684fe03ebc7e8de545f97739dd.jpg', 'subtitle': 'sub3', 'title': 'Img2', 'blocktype': 'slide', 'id_block': 791}\n",
      "intenatando consulta...\n",
      "consulta: select * from elementos where image_url= 'https://analyticsindiamag.com/wp-content/uploads/2020/10/7d744a684fe03ebc7e8de545f97739dd.jpg' and subtitle= 'sub3' and title= 'Img2' and blocktype= 'slide' and id_block= '791' ;\n",
      "Datos enviados INSERT:\n",
      "{'blocktype': 'slide', 'title': 'Img2', 'image_url': 'https://analyticsindiamag.com/wp-content/uploads/2020/10/7d744a684fe03ebc7e8de545f97739dd.jpg', 'subtitle': 'sub3', 'id_block': 791, 'id_elements': 1415}\n",
      "Datos recibidos INSERT:\n",
      "{'id_elemento': '1415', 'titlebutton': 'btn1P2', 'typebutton': 'postback', 'contentbutton': 'Informativo | c172acd8-1edc-4d5b-ac66-fdf02dfe35ff | oIgvWKILDrYMYDjlgAIk', 'opc_nextid': 'Informativo | c172acd8-1edc-4d5b-ac66-fdf02dfe35ff | oIgvWKILDrYMYDjlgAIk'}\n"
     ]
    },
    {
     "name": "stderr",
     "output_type": "stream",
     "text": [
      "127.0.0.1 - - [07/Jul/2021 15:00:10] \"\u001b[37mPOST /insert/botones HTTP/1.1\u001b[0m\" 200 -\n",
      "127.0.0.1 - - [07/Jul/2021 15:00:10] \"\u001b[37mPOST /insert/botones HTTP/1.1\u001b[0m\" 200 -\n",
      "127.0.0.1 - - [07/Jul/2021 15:00:10] \"\u001b[37mPOST /insert/elementos HTTP/1.1\u001b[0m\" 200 -\n"
     ]
    },
    {
     "name": "stdout",
     "output_type": "stream",
     "text": [
      "intenatando consulta...\n",
      "consulta: select * from botones where id_elemento= '1415' and titlebutton= 'btn1P2' and typebutton= 'postback' and contentbutton= 'Informativo | c172acd8-1edc-4d5b-ac66-fdf02dfe35ff | oIgvWKILDrYMYDjlgAIk' and opc_nextid= 'Informativo | c172acd8-1edc-4d5b-ac66-fdf02dfe35ff | oIgvWKILDrYMYDjlgAIk' ;\n",
      "Datos enviados INSERT:\n",
      "{'id_elemento': '1415', 'titlebutton': 'btn1P2', 'typebutton': 'postback', 'contentbutton': 'Informativo | c172acd8-1edc-4d5b-ac66-fdf02dfe35ff | oIgvWKILDrYMYDjlgAIk', 'id_boton': 2634, 'opc_nextid': 'Informativo | c172acd8-1edc-4d5b-ac66-fdf02dfe35ff | oIgvWKILDrYMYDjlgAIk'}\n",
      "Datos recibidos INSERT:\n",
      "{'id_elemento': '1415', 'titlebutton': 'Btn2P2', 'typebutton': 'postback', 'contentbutton': 'Informativo | c172acd8-1edc-4d5b-ac66-fdf02dfe35ff | oIgvWKILDrYMYDjlgAIk', 'opc_nextid': 'Informativo | c172acd8-1edc-4d5b-ac66-fdf02dfe35ff | oIgvWKILDrYMYDjlgAIk'}\n",
      "intenatando consulta...\n",
      "consulta: select * from botones where id_elemento= '1415' and titlebutton= 'Btn2P2' and typebutton= 'postback' and contentbutton= 'Informativo | c172acd8-1edc-4d5b-ac66-fdf02dfe35ff | oIgvWKILDrYMYDjlgAIk' and opc_nextid= 'Informativo | c172acd8-1edc-4d5b-ac66-fdf02dfe35ff | oIgvWKILDrYMYDjlgAIk' ;\n",
      "Datos enviados INSERT:\n",
      "{'id_elemento': '1415', 'titlebutton': 'Btn2P2', 'typebutton': 'postback', 'contentbutton': 'Informativo | c172acd8-1edc-4d5b-ac66-fdf02dfe35ff | oIgvWKILDrYMYDjlgAIk', 'id_boton': 2635, 'opc_nextid': 'Informativo | c172acd8-1edc-4d5b-ac66-fdf02dfe35ff | oIgvWKILDrYMYDjlgAIk'}\n",
      "Datos recibidos INSERT:\n",
      "{'image_url': 'https://spaceplace.nasa.gov/gallery-sun/en/solar-flare.en.jpg', 'title': 'Img3', 'subtitle': 'Sub3', 'blocktype': 'slide', 'id_block': 791}\n",
      "intenatando consulta...\n",
      "consulta: select * from elementos where image_url= 'https://spaceplace.nasa.gov/gallery-sun/en/solar-flare.en.jpg' and title= 'Img3' and subtitle= 'Sub3' and blocktype= 'slide' and id_block= '791' ;\n",
      "Datos enviados INSERT:\n",
      "{'blocktype': 'slide', 'title': 'Img3', 'image_url': 'https://spaceplace.nasa.gov/gallery-sun/en/solar-flare.en.jpg', 'subtitle': 'Sub3', 'id_block': 791, 'id_elements': 1416}\n",
      "Datos recibidos INSERT:\n",
      "{'id_elemento': '1416', 'titlebutton': 'Btn1P3', 'typebutton': 'postback', 'contentbutton': 'Informativo | c172acd8-1edc-4d5b-ac66-fdf02dfe35ff | oIgvWKILDrYMYDjlgAIk', 'opc_nextid': 'Informativo | c172acd8-1edc-4d5b-ac66-fdf02dfe35ff | oIgvWKILDrYMYDjlgAIk'}\n"
     ]
    },
    {
     "name": "stderr",
     "output_type": "stream",
     "text": [
      "127.0.0.1 - - [07/Jul/2021 15:00:10] \"\u001b[37mPOST /insert/botones HTTP/1.1\u001b[0m\" 200 -\n",
      "127.0.0.1 - - [07/Jul/2021 15:00:10] \"\u001b[37mPOST /insert/botones HTTP/1.1\u001b[0m\" 200 -\n",
      "127.0.0.1 - - [07/Jul/2021 15:00:10] \"\u001b[37mPOST /insert/bloqueinformativo HTTP/1.1\u001b[0m\" 200 -\n"
     ]
    },
    {
     "name": "stdout",
     "output_type": "stream",
     "text": [
      "intenatando consulta...\n",
      "consulta: select * from botones where id_elemento= '1416' and titlebutton= 'Btn1P3' and typebutton= 'postback' and contentbutton= 'Informativo | c172acd8-1edc-4d5b-ac66-fdf02dfe35ff | oIgvWKILDrYMYDjlgAIk' and opc_nextid= 'Informativo | c172acd8-1edc-4d5b-ac66-fdf02dfe35ff | oIgvWKILDrYMYDjlgAIk' ;\n",
      "Datos enviados INSERT:\n",
      "{'id_elemento': '1416', 'titlebutton': 'Btn1P3', 'typebutton': 'postback', 'contentbutton': 'Informativo | c172acd8-1edc-4d5b-ac66-fdf02dfe35ff | oIgvWKILDrYMYDjlgAIk', 'id_boton': 2636, 'opc_nextid': 'Informativo | c172acd8-1edc-4d5b-ac66-fdf02dfe35ff | oIgvWKILDrYMYDjlgAIk'}\n",
      "Datos recibidos INSERT:\n",
      "{'id_elemento': '1416', 'titlebutton': 'Btn1P3', 'typebutton': 'postback', 'contentbutton': 'Informativo | c172acd8-1edc-4d5b-ac66-fdf02dfe35ff | oIgvWKILDrYMYDjlgAIk', 'opc_nextid': 'Informativo | c172acd8-1edc-4d5b-ac66-fdf02dfe35ff | oIgvWKILDrYMYDjlgAIk'}\n",
      "intenatando consulta...\n",
      "consulta: select * from botones where id_elemento= '1416' and titlebutton= 'Btn1P3' and typebutton= 'postback' and contentbutton= 'Informativo | c172acd8-1edc-4d5b-ac66-fdf02dfe35ff | oIgvWKILDrYMYDjlgAIk' and opc_nextid= 'Informativo | c172acd8-1edc-4d5b-ac66-fdf02dfe35ff | oIgvWKILDrYMYDjlgAIk' ;\n",
      "Datos enviados INSERT:\n",
      "[{'id_elemento': '1416', 'titlebutton': 'Btn1P3', 'typebutton': 'postback', 'contentbutton': 'Informativo | c172acd8-1edc-4d5b-ac66-fdf02dfe35ff | oIgvWKILDrYMYDjlgAIk', 'id_boton': 2636, 'opc_nextid': 'Informativo | c172acd8-1edc-4d5b-ac66-fdf02dfe35ff | oIgvWKILDrYMYDjlgAIk'}, {'id_elemento': '1416', 'titlebutton': 'Btn1P3', 'typebutton': 'postback', 'contentbutton': 'Informativo | c172acd8-1edc-4d5b-ac66-fdf02dfe35ff | oIgvWKILDrYMYDjlgAIk', 'id_boton': 2637, 'opc_nextid': 'Informativo | c172acd8-1edc-4d5b-ac66-fdf02dfe35ff | oIgvWKILDrYMYDjlgAIk'}]\n",
      "Datos recibidos INSERT:\n",
      "{'next_id': 'Carrusel | 20088b9a-b5fa-4089-a72d-9ced45cbd899 | oIgvWKILDrYMYDjlgAIk', 'namestate': 'Informativo | 2edb2c69-beb8-471f-9799-940599824c36 | oIgvWKILDrYMYDjlgAIk', 'contenido': 'Hola oswaldo', 'contenttype': 'text', 'typingtime': '1', 'id_robot': 583, 'blocktype': 'informativo'}\n",
      "intenatando consulta...\n",
      "consulta: select * from bloqueinformativo where next_id= 'Carrusel | 20088b9a-b5fa-4089-a72d-9ced45cbd899 | oIgvWKILDrYMYDjlgAIk' and namestate= 'Informativo | 2edb2c69-beb8-471f-9799-940599824c36 | oIgvWKILDrYMYDjlgAIk' and contenido= 'Hola oswaldo' and contenttype= 'text' and typingtime= '1' and id_robot= '583' and blocktype= 'informativo' ;\n",
      "Datos enviados INSERT:\n",
      "{'namestate': 'Informativo | 2edb2c69-beb8-471f-9799-940599824c36 | oIgvWKILDrYMYDjlgAIk', 'contenido': 'Hola oswaldo', 'next_id': 'Carrusel | 20088b9a-b5fa-4089-a72d-9ced45cbd899 | oIgvWKILDrYMYDjlgAIk', 'blocktype': 'informativo', 'contenttype': 'text', 'typingtime': '1', 'id_block': 4105, 'id_robot': 583, 'opc_nextid': None, 'pos_y': None, 'pos_x': None, 'tag_active': None}\n",
      "Datos recibidos INSERT:\n",
      "{'next_id': 'Informativo | 2edb2c69-beb8-471f-9799-940599824c36 | oIgvWKILDrYMYDjlgAIk', 'namestate': 'Informativo | c172acd8-1edc-4d5b-ac66-fdf02dfe35ff | oIgvWKILDrYMYDjlgAIk', 'contenido': 'Adios Oswa', 'contenttype': 'text', 'typingtime': '1', 'id_robot': 583, 'blocktype': 'informativo'}\n"
     ]
    },
    {
     "name": "stderr",
     "output_type": "stream",
     "text": [
      "127.0.0.1 - - [07/Jul/2021 15:00:10] \"\u001b[37mPOST /insert/bloqueinformativo HTTP/1.1\u001b[0m\" 200 -\n",
      "127.0.0.1 - - [07/Jul/2021 15:00:10] \"\u001b[37mPOST /insert/bloqueinformativo HTTP/1.1\u001b[0m\" 200 -\n"
     ]
    },
    {
     "name": "stdout",
     "output_type": "stream",
     "text": [
      "intenatando consulta...\n",
      "consulta: select * from bloqueinformativo where next_id= 'Informativo | 2edb2c69-beb8-471f-9799-940599824c36 | oIgvWKILDrYMYDjlgAIk' and namestate= 'Informativo | c172acd8-1edc-4d5b-ac66-fdf02dfe35ff | oIgvWKILDrYMYDjlgAIk' and contenido= 'Adios Oswa' and contenttype= 'text' and typingtime= '1' and id_robot= '583' and blocktype= 'informativo' ;\n",
      "Datos enviados INSERT:\n",
      "{'namestate': 'Informativo | c172acd8-1edc-4d5b-ac66-fdf02dfe35ff | oIgvWKILDrYMYDjlgAIk', 'contenido': 'Adios Oswa', 'next_id': 'Informativo | 2edb2c69-beb8-471f-9799-940599824c36 | oIgvWKILDrYMYDjlgAIk', 'blocktype': 'informativo', 'contenttype': 'text', 'typingtime': '1', 'id_block': 4106, 'id_robot': 583, 'opc_nextid': None, 'pos_y': None, 'pos_x': None, 'tag_active': None}\n",
      "Datos recibidos INSERT:\n",
      "{'next_id': '', 'namestate': 'Salida', 'contenido': '', 'contenttype': 'text', 'typingtime': 3, 'id_robot': 583, 'blocktype': 'informativo'}\n",
      "intenatando consulta...\n",
      "consulta: select * from bloqueinformativo where next_id= '' and namestate= 'Salida' and contenido= '' and contenttype= 'text' and typingtime= '3' and id_robot= '583' and blocktype= 'informativo' ;\n",
      "Datos enviados INSERT:\n",
      "{'namestate': 'Salida', 'contenido': '', 'next_id': '', 'blocktype': 'informativo', 'contenttype': 'text', 'typingtime': '3', 'id_block': 4107, 'id_robot': 583, 'opc_nextid': None, 'pos_y': None, 'pos_x': None, 'tag_active': None}\n"
     ]
    },
    {
     "name": "stderr",
     "output_type": "stream",
     "text": [
      "127.0.0.1 - - [07/Jul/2021 15:04:16] \"\u001b[37mGET /select/robots HTTP/1.1\u001b[0m\" 200 -\n",
      "127.0.0.1 - - [07/Jul/2021 15:04:16] \"\u001b[37mGET /select/bloqueslide HTTP/1.1\u001b[0m\" 200 -\n",
      "127.0.0.1 - - [07/Jul/2021 15:04:16] \"\u001b[37mGET /select/elementos HTTP/1.1\u001b[0m\" 200 -\n"
     ]
    },
    {
     "name": "stdout",
     "output_type": "stream",
     "text": [
      "Datos recibidos SELECT:\n",
      "{'name_robot': 'Oswa1', 'id_face': '106842278334918', 'block_ini': 'Informativo | 2edb2c69-beb8-471f-9799-940599824c36 | oIgvWKILDrYMYDjlgAIk', 'type_blocki': 'informativo', 'access_token': 'EAAFMtaIPwugBAIRPT4mTm2a9nei1940NrJqMbhvvyPwfZAUZA6Id2YaXUeSu06TENy0QoDsprATI0J2ZCGHS2X6UQ4TG2AWkIbNQ3LLGdRMORJZBZBT9BhB58QusrYaXG90RiZAog3r9THJCXmX1m7vjArQ3KoX3PrEGYehS4j6TSblsfU73uf', 'id_user': 'charlygoldcruz@gmail.com', 'api_nlp': 'http://localhost:8282/'}\n",
      "intenatando consulta...\n",
      "consulta: select * from robots where id_face = '106842278334918';\n",
      "Datos enviados SELECT:\n",
      "{'name_robot': 'Oswa1', 'id_face': '106842278334918', 'block_ini': 'Informativo | 2edb2c69-beb8-471f-9799-940599824c36 | oIgvWKILDrYMYDjlgAIk', 'type_blocki': 'informativo', 'access_token': 'EAAFMtaIPwugBAIRPT4mTm2a9nei1940NrJqMbhvvyPwfZAUZA6Id2YaXUeSu06TENy0QoDsprATI0J2ZCGHS2X6UQ4TG2AWkIbNQ3LLGdRMORJZBZBT9BhB58QusrYaXG90RiZAog3r9THJCXmX1m7vjArQ3KoX3PrEGYehS4j6TSblsfU73uf', 'api_nlp': 'http://localhost:8282/', 'id_robot': 583, 'id_user': 'charlygoldcruz@gmail.com'}\n",
      "Datos recibidos SELECT:\n",
      "{'id_robot': '583'}\n",
      "intenatando consulta...\n",
      "consulta: select * from bloqueslide where id_robot= '583' ;\n",
      "Datos enviados SELECT:\n",
      "{'namestate': 'Carrusel | 20088b9a-b5fa-4089-a72d-9ced45cbd899 | oIgvWKILDrYMYDjlgAIk', 'next_id': 'Informativo | c172acd8-1edc-4d5b-ac66-fdf02dfe35ff | oIgvWKILDrYMYDjlgAIk,Informativo | c172acd8-1edc-4d5b-ac66-fdf02dfe35ff | oIgvWKILDrYMYDjlgAIk,Informativo | c172acd8-1edc-4d5b-ac66-fdf02dfe35ff | oIgvWKILDrYMYDjlgAIk,Informativo | c172acd8-1edc-4d5b-ac66-fdf02dfe35ff | oIgvWKILDrYMYDjlgAIk,Informativo | c172acd8-1edc-4d5b-ac66-fdf02dfe35ff | oIgvWKILDrYMYDjlgAIk,Informativo | c172acd8-1edc-4d5b-ac66-fdf02dfe35ff | oIgvWKILDrYMYDjlgAIk', 'blocktype': 'slide', 'typingtime': '1', 'default_id': 'Carrusel | 20088b9a-b5fa-4089-a72d-9ced45cbd899 | oIgvWKILDrYMYDjlgAIk', 'id_var': '2471', 'id_block': 791, 'id_robot': 583, 'opc_nextid': None, 'pos_y': None, 'pos_x': None, 'opc_elm': None, 'tag_active': None}\n",
      "Datos recibidos SELECT:\n",
      "{'id_block': 791}\n",
      "intenatando consulta...\n",
      "consulta: select * from elementos where id_block= '791' ;\n",
      "Datos enviados SELECT:\n",
      "[{'blocktype': 'slide', 'title': 'Img1', 'image_url': 'https://www.gettyimages.es/gi-resources/images/500px/983794168.jpg', 'subtitle': 'sub1', 'id_block': 791, 'id_elements': 1414}, {'blocktype': 'slide', 'title': 'Img2', 'image_url': 'https://analyticsindiamag.com/wp-content/uploads/2020/10/7d744a684fe03ebc7e8de545f97739dd.jpg', 'subtitle': 'sub3', 'id_block': 791, 'id_elements': 1415}, {'blocktype': 'slide', 'title': 'Img3', 'image_url': 'https://spaceplace.nasa.gov/gallery-sun/en/solar-flare.en.jpg', 'subtitle': 'Sub3', 'id_block': 791, 'id_elements': 1416}]\n"
     ]
    },
    {
     "name": "stderr",
     "output_type": "stream",
     "text": [
      "127.0.0.1 - - [07/Jul/2021 15:04:16] \"\u001b[37mPOST /insert/bloqueinformativo HTTP/1.1\u001b[0m\" 200 -\n",
      "127.0.0.1 - - [07/Jul/2021 15:04:16] \"\u001b[37mPOST /insert/variables HTTP/1.1\u001b[0m\" 200 -\n",
      "127.0.0.1 - - [07/Jul/2021 15:04:16] \"\u001b[37mPOST /insert/bloquequickreply HTTP/1.1\u001b[0m\" 200 -\n"
     ]
    },
    {
     "name": "stdout",
     "output_type": "stream",
     "text": [
      "Datos recibidos INSERT:\n",
      "{'next_id': 'QuickReply | 738c6ab6-ca8a-4669-9598-d4eda2e40785 | 23985004-9470-9169-4961-397901325837 | oIgvWKILDrYMYDjlgAIk', 'namestate': 'Informativo | e61376a2-83b0-4ccd-90b2-0d3b8d9fc04b | 23985004-9470-9169-4961-397901325837 | oIgvWKILDrYMYDjlgAIk', 'contenido': 'Este es un compuesto', 'contenttype': 'text', 'typingtime': '1', 'id_robot': 583, 'blocktype': 'informativo'}\n",
      "intenatando consulta...\n",
      "consulta: select * from bloqueinformativo where next_id= 'QuickReply | 738c6ab6-ca8a-4669-9598-d4eda2e40785 | 23985004-9470-9169-4961-397901325837 | oIgvWKILDrYMYDjlgAIk' and namestate= 'Informativo | e61376a2-83b0-4ccd-90b2-0d3b8d9fc04b | 23985004-9470-9169-4961-397901325837 | oIgvWKILDrYMYDjlgAIk' and contenido= 'Este es un compuesto' and contenttype= 'text' and typingtime= '1' and id_robot= '583' and blocktype= 'informativo' ;\n",
      "Datos enviados INSERT:\n",
      "{'namestate': 'Informativo | e61376a2-83b0-4ccd-90b2-0d3b8d9fc04b | 23985004-9470-9169-4961-397901325837 | oIgvWKILDrYMYDjlgAIk', 'contenido': 'Este es un compuesto', 'next_id': 'QuickReply | 738c6ab6-ca8a-4669-9598-d4eda2e40785 | 23985004-9470-9169-4961-397901325837 | oIgvWKILDrYMYDjlgAIk', 'blocktype': 'informativo', 'contenttype': 'text', 'typingtime': '1', 'id_block': 4108, 'id_robot': 583, 'opc_nextid': None, 'pos_y': None, 'pos_x': None, 'tag_active': None}\n",
      "Datos recibidos INSERT:\n",
      "{'name_var': 'variableQrQuickReply_|_738c6ab6-ca8a-4669-9598-d4eda2e407855047', 'opc_type': 'Variable', 'var': 0, 'opc_data': 'String', 'id_robot': 583}\n",
      "intenatando consulta...\n",
      "consulta: select * from variables where name_var= 'variableQrQuickReply_|_738c6ab6-ca8a-4669-9598-d4eda2e407855047' and opc_type= 'Variable' and var= '0' and opc_data= 'String' and id_robot= '583' ;\n",
      "Datos enviados INSERT:\n",
      "{'id_var': 2472, 'opc_type': 'Variable', 'opc_data': 'String', 'var': '0', 'id_robot': 583, 'name_var': 'variableQrQuickReply_|_738c6ab6-ca8a-4669-9598-d4eda2e407855047'}\n",
      "Datos recibidos INSERT:\n",
      "{'contenido': 'Elige una opcion', 'opciones': 'Op1,Op2,Op3', 'next_id': 'Carrusel | 20088b9a-b5fa-4089-a72d-9ced45cbd899 | oIgvWKILDrYMYDjlgAIk,Carrusel | 20088b9a-b5fa-4089-a72d-9ced45cbd899 | oIgvWKILDrYMYDjlgAIk,Carrusel | 20088b9a-b5fa-4089-a72d-9ced45cbd899 | oIgvWKILDrYMYDjlgAIk', 'default_id': 'QuickReply | 738c6ab6-ca8a-4669-9598-d4eda2e40785 | 23985004-9470-9169-4961-397901325837 | oIgvWKILDrYMYDjlgAIk', 'namestate': 'QuickReply | 738c6ab6-ca8a-4669-9598-d4eda2e40785 | 23985004-9470-9169-4961-397901325837 | oIgvWKILDrYMYDjlgAIk', 'typingtime': '1', 'id_robot': 583, 'id_var': 2472, 'blocktype': 'quickReply'}\n",
      "intenatando consulta...\n",
      "consulta: select * from bloquequickreply where contenido= 'Elige una opcion' and opciones= 'Op1,Op2,Op3' and next_id= 'Carrusel | 20088b9a-b5fa-4089-a72d-9ced45cbd899 | oIgvWKILDrYMYDjlgAIk,Carrusel | 20088b9a-b5fa-4089-a72d-9ced45cbd899 | oIgvWKILDrYMYDjlgAIk,Carrusel | 20088b9a-b5fa-4089-a72d-9ced45cbd899 | oIgvWKILDrYMYDjlgAIk' and default_id= 'QuickReply | 738c6ab6-ca8a-4669-9598-d4eda2e40785 | 23985004-9470-9169-4961-397901325837 | oIgvWKILDrYMYDjlgAIk' and namestate= 'QuickReply | 738c6ab6-ca8a-4669-9598-d4eda2e40785 | 23985004-9470-9169-4961-397901325837 | oIgvWKILDrYMYDjlgAIk' and typingtime= '1' and id_robot= '583' and id_var= '2472' and blocktype= 'quickReply' ;\n",
      "Datos enviados INSERT:\n",
      "{'namestate': 'QuickReply | 738c6ab6-ca8a-4669-9598-d4eda2e40785 | 23985004-9470-9169-4961-397901325837 | oIgvWKILDrYMYDjlgAIk', 'contenido': 'Elige una opcion', 'opciones': 'Op1,Op2,Op3', 'next_id': 'Carrusel | 20088b9a-b5fa-4089-a72d-9ced45cbd899 | oIgvWKILDrYMYDjlgAIk,Carrusel | 20088b9a-b5fa-4089-a72d-9ced45cbd899 | oIgvWKILDrYMYDjlgAIk,Carrusel | 20088b9a-b5fa-4089-a72d-9ced45cbd899 | oIgvWKILDrYMYDjlgAIk', 'blocktype': 'quickReply', 'typingtime': '1', 'default_id': 'QuickReply | 738c6ab6-ca8a-4669-9598-d4eda2e40785 | 23985004-9470-9169-4961-397901325837 | oIgvWKILDrYMYDjlgAIk', 'id_var': '2472', 'id_block': 874, 'id_robot': 583, 'opc_nextid': None, 'pos_y': None, 'pos_x': None, 'tag_active': None}\n",
      "Datos recibidos INSERT:\n",
      "{'name_var': 'variableCarrCarrusel_|_20088b9a-b5fa-4089-a72d-9ced45cbd8999586', 'opc_type': 'Variable', 'var': 0, 'opc_data': 'String', 'id_robot': 583}\n"
     ]
    },
    {
     "name": "stderr",
     "output_type": "stream",
     "text": [
      "127.0.0.1 - - [07/Jul/2021 15:04:16] \"\u001b[37mPOST /insert/variables HTTP/1.1\u001b[0m\" 200 -\n",
      "127.0.0.1 - - [07/Jul/2021 15:04:17] \"\u001b[37mPOST /insert/bloqueslide HTTP/1.1\u001b[0m\" 200 -\n",
      "127.0.0.1 - - [07/Jul/2021 15:04:17] \"\u001b[37mPOST /insert/elementos HTTP/1.1\u001b[0m\" 200 -\n"
     ]
    },
    {
     "name": "stdout",
     "output_type": "stream",
     "text": [
      "intenatando consulta...\n",
      "consulta: select * from variables where name_var= 'variableCarrCarrusel_|_20088b9a-b5fa-4089-a72d-9ced45cbd8999586' and opc_type= 'Variable' and var= '0' and opc_data= 'String' and id_robot= '583' ;\n",
      "Datos enviados INSERT:\n",
      "{'id_var': 2473, 'opc_type': 'Variable', 'opc_data': 'String', 'var': '0', 'id_robot': 583, 'name_var': 'variableCarrCarrusel_|_20088b9a-b5fa-4089-a72d-9ced45cbd8999586'}\n",
      "Datos recibidos INSERT:\n",
      "{'namestate': 'Carrusel | 20088b9a-b5fa-4089-a72d-9ced45cbd899 | oIgvWKILDrYMYDjlgAIk', 'blocktype': 'slide', 'typingtime': '1', 'default_id': 'Carrusel | 20088b9a-b5fa-4089-a72d-9ced45cbd899 | oIgvWKILDrYMYDjlgAIk', 'id_var': 2473, 'id_robot': 583}\n",
      "intenatando consulta...\n",
      "consulta: select * from bloqueslide where namestate= 'Carrusel | 20088b9a-b5fa-4089-a72d-9ced45cbd899 | oIgvWKILDrYMYDjlgAIk' and blocktype= 'slide' and typingtime= '1' and default_id= 'Carrusel | 20088b9a-b5fa-4089-a72d-9ced45cbd899 | oIgvWKILDrYMYDjlgAIk' and id_var= '2473' and id_robot= '583' ;\n",
      "Datos enviados INSERT:\n",
      "{'namestate': 'Carrusel | 20088b9a-b5fa-4089-a72d-9ced45cbd899 | oIgvWKILDrYMYDjlgAIk', 'next_id': None, 'blocktype': 'slide', 'typingtime': '1', 'default_id': 'Carrusel | 20088b9a-b5fa-4089-a72d-9ced45cbd899 | oIgvWKILDrYMYDjlgAIk', 'id_var': '2473', 'id_block': 792, 'id_robot': 583, 'opc_nextid': None, 'pos_y': None, 'pos_x': None, 'opc_elm': None, 'tag_active': None}\n",
      "Datos recibidos INSERT:\n",
      "{'title': 'Img1', 'subtitle': 'sub1', 'image_url': 'https://www.gettyimages.es/gi-resources/images/500px/983794168.jpg', 'blocktype': 'slide', 'id_block': 792}\n",
      "intenatando consulta...\n",
      "consulta: select * from elementos where title= 'Img1' and subtitle= 'sub1' and image_url= 'https://www.gettyimages.es/gi-resources/images/500px/983794168.jpg' and blocktype= 'slide' and id_block= '792' ;\n",
      "Datos enviados INSERT:\n",
      "{'blocktype': 'slide', 'title': 'Img1', 'image_url': 'https://www.gettyimages.es/gi-resources/images/500px/983794168.jpg', 'subtitle': 'sub1', 'id_block': 792, 'id_elements': 1417}\n",
      "Datos recibidos INSERT:\n",
      "{'id_elemento': '1417', 'titlebutton': 'Btn1P1', 'typebutton': 'postback', 'contentbutton': 'Informativo | c172acd8-1edc-4d5b-ac66-fdf02dfe35ff | oIgvWKILDrYMYDjlgAIk', 'opc_nextid': 'Informativo | c172acd8-1edc-4d5b-ac66-fdf02dfe35ff | oIgvWKILDrYMYDjlgAIk'}\n",
      "intenatando consulta...\n",
      "consulta: select * from botones where id_elemento= '1417' and titlebutton= 'Btn1P1' and typebutton= 'postback' and contentbutton= 'Informativo | c172acd8-1edc-4d5b-ac66-fdf02dfe35ff | oIgvWKILDrYMYDjlgAIk' and opc_nextid= 'Informativo | c172acd8-1edc-4d5b-ac66-fdf02dfe35ff | oIgvWKILDrYMYDjlgAIk' ;\n"
     ]
    },
    {
     "name": "stderr",
     "output_type": "stream",
     "text": [
      "127.0.0.1 - - [07/Jul/2021 15:04:17] \"\u001b[37mPOST /insert/botones HTTP/1.1\u001b[0m\" 200 -\n",
      "127.0.0.1 - - [07/Jul/2021 15:04:17] \"\u001b[37mPOST /insert/botones HTTP/1.1\u001b[0m\" 200 -\n",
      "127.0.0.1 - - [07/Jul/2021 15:04:17] \"\u001b[37mPOST /insert/elementos HTTP/1.1\u001b[0m\" 200 -\n"
     ]
    },
    {
     "name": "stdout",
     "output_type": "stream",
     "text": [
      "Datos enviados INSERT:\n",
      "{'id_elemento': '1417', 'titlebutton': 'Btn1P1', 'typebutton': 'postback', 'contentbutton': 'Informativo | c172acd8-1edc-4d5b-ac66-fdf02dfe35ff | oIgvWKILDrYMYDjlgAIk', 'id_boton': 2638, 'opc_nextid': 'Informativo | c172acd8-1edc-4d5b-ac66-fdf02dfe35ff | oIgvWKILDrYMYDjlgAIk'}\n",
      "Datos recibidos INSERT:\n",
      "{'id_elemento': '1417', 'titlebutton': 'Btn2p2', 'typebutton': 'postback', 'contentbutton': 'Informativo | c172acd8-1edc-4d5b-ac66-fdf02dfe35ff | oIgvWKILDrYMYDjlgAIk', 'opc_nextid': 'Informativo | c172acd8-1edc-4d5b-ac66-fdf02dfe35ff | oIgvWKILDrYMYDjlgAIk'}\n",
      "intenatando consulta...\n",
      "consulta: select * from botones where id_elemento= '1417' and titlebutton= 'Btn2p2' and typebutton= 'postback' and contentbutton= 'Informativo | c172acd8-1edc-4d5b-ac66-fdf02dfe35ff | oIgvWKILDrYMYDjlgAIk' and opc_nextid= 'Informativo | c172acd8-1edc-4d5b-ac66-fdf02dfe35ff | oIgvWKILDrYMYDjlgAIk' ;\n",
      "Datos enviados INSERT:\n",
      "{'id_elemento': '1417', 'titlebutton': 'Btn2p2', 'typebutton': 'postback', 'contentbutton': 'Informativo | c172acd8-1edc-4d5b-ac66-fdf02dfe35ff | oIgvWKILDrYMYDjlgAIk', 'id_boton': 2639, 'opc_nextid': 'Informativo | c172acd8-1edc-4d5b-ac66-fdf02dfe35ff | oIgvWKILDrYMYDjlgAIk'}\n",
      "Datos recibidos INSERT:\n",
      "{'image_url': 'https://analyticsindiamag.com/wp-content/uploads/2020/10/7d744a684fe03ebc7e8de545f97739dd.jpg', 'title': 'Img2', 'subtitle': 'sub3', 'blocktype': 'slide', 'id_block': 792}\n",
      "intenatando consulta...\n",
      "consulta: select * from elementos where image_url= 'https://analyticsindiamag.com/wp-content/uploads/2020/10/7d744a684fe03ebc7e8de545f97739dd.jpg' and title= 'Img2' and subtitle= 'sub3' and blocktype= 'slide' and id_block= '792' ;\n",
      "Datos enviados INSERT:\n",
      "{'blocktype': 'slide', 'title': 'Img2', 'image_url': 'https://analyticsindiamag.com/wp-content/uploads/2020/10/7d744a684fe03ebc7e8de545f97739dd.jpg', 'subtitle': 'sub3', 'id_block': 792, 'id_elements': 1418}\n",
      "Datos recibidos INSERT:\n",
      "{'id_elemento': '1418', 'titlebutton': 'btn1P2', 'typebutton': 'postback', 'contentbutton': 'Informativo | c172acd8-1edc-4d5b-ac66-fdf02dfe35ff | oIgvWKILDrYMYDjlgAIk', 'opc_nextid': 'Informativo | c172acd8-1edc-4d5b-ac66-fdf02dfe35ff | oIgvWKILDrYMYDjlgAIk'}\n",
      "intenatando consulta...\n",
      "consulta: select * from botones where id_elemento= '1418' and titlebutton= 'btn1P2' and typebutton= 'postback' and contentbutton= 'Informativo | c172acd8-1edc-4d5b-ac66-fdf02dfe35ff | oIgvWKILDrYMYDjlgAIk' and opc_nextid= 'Informativo | c172acd8-1edc-4d5b-ac66-fdf02dfe35ff | oIgvWKILDrYMYDjlgAIk' ;\n"
     ]
    },
    {
     "name": "stderr",
     "output_type": "stream",
     "text": [
      "127.0.0.1 - - [07/Jul/2021 15:04:17] \"\u001b[37mPOST /insert/botones HTTP/1.1\u001b[0m\" 200 -\n",
      "127.0.0.1 - - [07/Jul/2021 15:04:17] \"\u001b[37mPOST /insert/botones HTTP/1.1\u001b[0m\" 200 -\n",
      "127.0.0.1 - - [07/Jul/2021 15:04:17] \"\u001b[37mPOST /insert/elementos HTTP/1.1\u001b[0m\" 200 -\n"
     ]
    },
    {
     "name": "stdout",
     "output_type": "stream",
     "text": [
      "Datos enviados INSERT:\n",
      "{'id_elemento': '1418', 'titlebutton': 'btn1P2', 'typebutton': 'postback', 'contentbutton': 'Informativo | c172acd8-1edc-4d5b-ac66-fdf02dfe35ff | oIgvWKILDrYMYDjlgAIk', 'id_boton': 2640, 'opc_nextid': 'Informativo | c172acd8-1edc-4d5b-ac66-fdf02dfe35ff | oIgvWKILDrYMYDjlgAIk'}\n",
      "Datos recibidos INSERT:\n",
      "{'id_elemento': '1418', 'titlebutton': 'Btn2P2', 'typebutton': 'postback', 'contentbutton': 'Informativo | c172acd8-1edc-4d5b-ac66-fdf02dfe35ff | oIgvWKILDrYMYDjlgAIk', 'opc_nextid': 'Informativo | c172acd8-1edc-4d5b-ac66-fdf02dfe35ff | oIgvWKILDrYMYDjlgAIk'}\n",
      "intenatando consulta...\n",
      "consulta: select * from botones where id_elemento= '1418' and titlebutton= 'Btn2P2' and typebutton= 'postback' and contentbutton= 'Informativo | c172acd8-1edc-4d5b-ac66-fdf02dfe35ff | oIgvWKILDrYMYDjlgAIk' and opc_nextid= 'Informativo | c172acd8-1edc-4d5b-ac66-fdf02dfe35ff | oIgvWKILDrYMYDjlgAIk' ;\n",
      "Datos enviados INSERT:\n",
      "{'id_elemento': '1418', 'titlebutton': 'Btn2P2', 'typebutton': 'postback', 'contentbutton': 'Informativo | c172acd8-1edc-4d5b-ac66-fdf02dfe35ff | oIgvWKILDrYMYDjlgAIk', 'id_boton': 2641, 'opc_nextid': 'Informativo | c172acd8-1edc-4d5b-ac66-fdf02dfe35ff | oIgvWKILDrYMYDjlgAIk'}\n",
      "Datos recibidos INSERT:\n",
      "{'title': 'Img3', 'subtitle': 'Sub3', 'image_url': 'https://spaceplace.nasa.gov/gallery-sun/en/solar-flare.en.jpg', 'blocktype': 'slide', 'id_block': 792}\n",
      "intenatando consulta...\n",
      "consulta: select * from elementos where title= 'Img3' and subtitle= 'Sub3' and image_url= 'https://spaceplace.nasa.gov/gallery-sun/en/solar-flare.en.jpg' and blocktype= 'slide' and id_block= '792' ;\n",
      "Datos enviados INSERT:\n",
      "{'blocktype': 'slide', 'title': 'Img3', 'image_url': 'https://spaceplace.nasa.gov/gallery-sun/en/solar-flare.en.jpg', 'subtitle': 'Sub3', 'id_block': 792, 'id_elements': 1419}\n",
      "Datos recibidos INSERT:\n",
      "{'id_elemento': '1419', 'titlebutton': 'Btn1P3', 'typebutton': 'postback', 'contentbutton': 'Informativo | c172acd8-1edc-4d5b-ac66-fdf02dfe35ff | oIgvWKILDrYMYDjlgAIk', 'opc_nextid': 'Informativo | c172acd8-1edc-4d5b-ac66-fdf02dfe35ff | oIgvWKILDrYMYDjlgAIk'}\n"
     ]
    },
    {
     "name": "stderr",
     "output_type": "stream",
     "text": [
      "127.0.0.1 - - [07/Jul/2021 15:04:17] \"\u001b[37mPOST /insert/botones HTTP/1.1\u001b[0m\" 200 -\n",
      "127.0.0.1 - - [07/Jul/2021 15:04:17] \"\u001b[37mPOST /insert/botones HTTP/1.1\u001b[0m\" 200 -\n"
     ]
    },
    {
     "name": "stdout",
     "output_type": "stream",
     "text": [
      "intenatando consulta...\n",
      "consulta: select * from botones where id_elemento= '1419' and titlebutton= 'Btn1P3' and typebutton= 'postback' and contentbutton= 'Informativo | c172acd8-1edc-4d5b-ac66-fdf02dfe35ff | oIgvWKILDrYMYDjlgAIk' and opc_nextid= 'Informativo | c172acd8-1edc-4d5b-ac66-fdf02dfe35ff | oIgvWKILDrYMYDjlgAIk' ;\n",
      "Datos enviados INSERT:\n",
      "{'id_elemento': '1419', 'titlebutton': 'Btn1P3', 'typebutton': 'postback', 'contentbutton': 'Informativo | c172acd8-1edc-4d5b-ac66-fdf02dfe35ff | oIgvWKILDrYMYDjlgAIk', 'id_boton': 2642, 'opc_nextid': 'Informativo | c172acd8-1edc-4d5b-ac66-fdf02dfe35ff | oIgvWKILDrYMYDjlgAIk'}\n",
      "Datos recibidos INSERT:\n",
      "{'id_elemento': '1419', 'titlebutton': 'Btn1P3', 'typebutton': 'postback', 'contentbutton': 'Informativo | c172acd8-1edc-4d5b-ac66-fdf02dfe35ff | oIgvWKILDrYMYDjlgAIk', 'opc_nextid': 'Informativo | c172acd8-1edc-4d5b-ac66-fdf02dfe35ff | oIgvWKILDrYMYDjlgAIk'}\n",
      "intenatando consulta...\n",
      "consulta: select * from botones where id_elemento= '1419' and titlebutton= 'Btn1P3' and typebutton= 'postback' and contentbutton= 'Informativo | c172acd8-1edc-4d5b-ac66-fdf02dfe35ff | oIgvWKILDrYMYDjlgAIk' and opc_nextid= 'Informativo | c172acd8-1edc-4d5b-ac66-fdf02dfe35ff | oIgvWKILDrYMYDjlgAIk' ;\n",
      "Datos enviados INSERT:\n",
      "[{'id_elemento': '1419', 'titlebutton': 'Btn1P3', 'typebutton': 'postback', 'contentbutton': 'Informativo | c172acd8-1edc-4d5b-ac66-fdf02dfe35ff | oIgvWKILDrYMYDjlgAIk', 'id_boton': 2642, 'opc_nextid': 'Informativo | c172acd8-1edc-4d5b-ac66-fdf02dfe35ff | oIgvWKILDrYMYDjlgAIk'}, {'id_elemento': '1419', 'titlebutton': 'Btn1P3', 'typebutton': 'postback', 'contentbutton': 'Informativo | c172acd8-1edc-4d5b-ac66-fdf02dfe35ff | oIgvWKILDrYMYDjlgAIk', 'id_boton': 2643, 'opc_nextid': 'Informativo | c172acd8-1edc-4d5b-ac66-fdf02dfe35ff | oIgvWKILDrYMYDjlgAIk'}]\n",
      "Datos recibidos INSERT:\n",
      "{'next_id': 'Informativo | e61376a2-83b0-4ccd-90b2-0d3b8d9fc04b | 23985004-9470-9169-4961-397901325837 | oIgvWKILDrYMYDjlgAIk', 'namestate': 'Informativo | 2edb2c69-beb8-471f-9799-940599824c36 | oIgvWKILDrYMYDjlgAIk', 'contenido': 'Hola oswaldo', 'contenttype': 'text', 'typingtime': '1', 'id_robot': 583, 'blocktype': 'informativo'}\n"
     ]
    },
    {
     "name": "stderr",
     "output_type": "stream",
     "text": [
      "127.0.0.1 - - [07/Jul/2021 15:04:17] \"\u001b[37mPOST /insert/bloqueinformativo HTTP/1.1\u001b[0m\" 200 -\n",
      "127.0.0.1 - - [07/Jul/2021 15:04:17] \"\u001b[37mPOST /insert/bloqueinformativo HTTP/1.1\u001b[0m\" 200 -\n",
      "127.0.0.1 - - [07/Jul/2021 15:04:18] \"\u001b[37mPOST /insert/bloqueinformativo HTTP/1.1\u001b[0m\" 200 -\n"
     ]
    },
    {
     "name": "stdout",
     "output_type": "stream",
     "text": [
      "intenatando consulta...\n",
      "consulta: select * from bloqueinformativo where next_id= 'Informativo | e61376a2-83b0-4ccd-90b2-0d3b8d9fc04b | 23985004-9470-9169-4961-397901325837 | oIgvWKILDrYMYDjlgAIk' and namestate= 'Informativo | 2edb2c69-beb8-471f-9799-940599824c36 | oIgvWKILDrYMYDjlgAIk' and contenido= 'Hola oswaldo' and contenttype= 'text' and typingtime= '1' and id_robot= '583' and blocktype= 'informativo' ;\n",
      "Datos enviados INSERT:\n",
      "{'namestate': 'Informativo | 2edb2c69-beb8-471f-9799-940599824c36 | oIgvWKILDrYMYDjlgAIk', 'contenido': 'Hola oswaldo', 'next_id': 'Informativo | e61376a2-83b0-4ccd-90b2-0d3b8d9fc04b | 23985004-9470-9169-4961-397901325837 | oIgvWKILDrYMYDjlgAIk', 'blocktype': 'informativo', 'contenttype': 'text', 'typingtime': '1', 'id_block': 4109, 'id_robot': 583, 'opc_nextid': None, 'pos_y': None, 'pos_x': None, 'tag_active': None}\n",
      "Datos recibidos INSERT:\n",
      "{'next_id': 'Salida', 'namestate': 'Informativo | c172acd8-1edc-4d5b-ac66-fdf02dfe35ff | oIgvWKILDrYMYDjlgAIk', 'contenido': 'Adios Oswa', 'contenttype': 'text', 'typingtime': '1', 'id_robot': 583, 'blocktype': 'informativo'}\n",
      "intenatando consulta...\n",
      "consulta: select * from bloqueinformativo where next_id= 'Salida' and namestate= 'Informativo | c172acd8-1edc-4d5b-ac66-fdf02dfe35ff | oIgvWKILDrYMYDjlgAIk' and contenido= 'Adios Oswa' and contenttype= 'text' and typingtime= '1' and id_robot= '583' and blocktype= 'informativo' ;\n",
      "Datos enviados INSERT:\n",
      "{'namestate': 'Informativo | c172acd8-1edc-4d5b-ac66-fdf02dfe35ff | oIgvWKILDrYMYDjlgAIk', 'contenido': 'Adios Oswa', 'next_id': 'Salida', 'blocktype': 'informativo', 'contenttype': 'text', 'typingtime': '1', 'id_block': 4110, 'id_robot': 583, 'opc_nextid': None, 'pos_y': None, 'pos_x': None, 'tag_active': None}\n",
      "Datos recibidos INSERT:\n",
      "{'next_id': '', 'namestate': 'Salida', 'contenido': '', 'contenttype': 'text', 'typingtime': 3, 'id_robot': 583, 'blocktype': 'informativo'}\n",
      "intenatando consulta...\n",
      "consulta: select * from bloqueinformativo where next_id= '' and namestate= 'Salida' and contenido= '' and contenttype= 'text' and typingtime= '3' and id_robot= '583' and blocktype= 'informativo' ;\n",
      "Datos enviados INSERT:\n",
      "{'namestate': 'Salida', 'contenido': '', 'next_id': '', 'blocktype': 'informativo', 'contenttype': 'text', 'typingtime': '3', 'id_block': 4111, 'id_robot': 583, 'opc_nextid': None, 'pos_y': None, 'pos_x': None, 'tag_active': None}\n"
     ]
    },
    {
     "name": "stderr",
     "output_type": "stream",
     "text": [
      "127.0.0.1 - - [07/Jul/2021 15:07:26] \"\u001b[37mGET /select/robots HTTP/1.1\u001b[0m\" 200 -\n",
      "127.0.0.1 - - [07/Jul/2021 15:07:26] \"\u001b[37mGET /select/bloqueslide HTTP/1.1\u001b[0m\" 200 -\n",
      "127.0.0.1 - - [07/Jul/2021 15:07:26] \"\u001b[37mGET /select/elementos HTTP/1.1\u001b[0m\" 200 -\n"
     ]
    },
    {
     "name": "stdout",
     "output_type": "stream",
     "text": [
      "Datos recibidos SELECT:\n",
      "{'name_robot': 'Oswa1', 'id_face': '106842278334918', 'block_ini': 'Informativo | 2edb2c69-beb8-471f-9799-940599824c36 | oIgvWKILDrYMYDjlgAIk', 'type_blocki': 'informativo', 'access_token': 'EAAFMtaIPwugBAIRPT4mTm2a9nei1940NrJqMbhvvyPwfZAUZA6Id2YaXUeSu06TENy0QoDsprATI0J2ZCGHS2X6UQ4TG2AWkIbNQ3LLGdRMORJZBZBT9BhB58QusrYaXG90RiZAog3r9THJCXmX1m7vjArQ3KoX3PrEGYehS4j6TSblsfU73uf', 'id_user': 'charlygoldcruz@gmail.com', 'api_nlp': 'http://localhost:8282/'}\n",
      "intenatando consulta...\n",
      "consulta: select * from robots where id_face = '106842278334918';\n",
      "Datos enviados SELECT:\n",
      "{'name_robot': 'Oswa1', 'id_face': '106842278334918', 'block_ini': 'Informativo | 2edb2c69-beb8-471f-9799-940599824c36 | oIgvWKILDrYMYDjlgAIk', 'type_blocki': 'informativo', 'access_token': 'EAAFMtaIPwugBAIRPT4mTm2a9nei1940NrJqMbhvvyPwfZAUZA6Id2YaXUeSu06TENy0QoDsprATI0J2ZCGHS2X6UQ4TG2AWkIbNQ3LLGdRMORJZBZBT9BhB58QusrYaXG90RiZAog3r9THJCXmX1m7vjArQ3KoX3PrEGYehS4j6TSblsfU73uf', 'api_nlp': 'http://localhost:8282/', 'id_robot': 583, 'id_user': 'charlygoldcruz@gmail.com'}\n",
      "Datos recibidos SELECT:\n",
      "{'id_robot': '583'}\n",
      "intenatando consulta...\n",
      "consulta: select * from bloqueslide where id_robot= '583' ;\n",
      "Datos enviados SELECT:\n",
      "{'namestate': 'Carrusel | 20088b9a-b5fa-4089-a72d-9ced45cbd899 | oIgvWKILDrYMYDjlgAIk', 'next_id': 'Informativo | c172acd8-1edc-4d5b-ac66-fdf02dfe35ff | oIgvWKILDrYMYDjlgAIk,Informativo | c172acd8-1edc-4d5b-ac66-fdf02dfe35ff | oIgvWKILDrYMYDjlgAIk,Informativo | c172acd8-1edc-4d5b-ac66-fdf02dfe35ff | oIgvWKILDrYMYDjlgAIk,Informativo | c172acd8-1edc-4d5b-ac66-fdf02dfe35ff | oIgvWKILDrYMYDjlgAIk,Informativo | c172acd8-1edc-4d5b-ac66-fdf02dfe35ff | oIgvWKILDrYMYDjlgAIk,Informativo | c172acd8-1edc-4d5b-ac66-fdf02dfe35ff | oIgvWKILDrYMYDjlgAIk', 'blocktype': 'slide', 'typingtime': '1', 'default_id': 'Carrusel | 20088b9a-b5fa-4089-a72d-9ced45cbd899 | oIgvWKILDrYMYDjlgAIk', 'id_var': '2473', 'id_block': 792, 'id_robot': 583, 'opc_nextid': None, 'pos_y': None, 'pos_x': None, 'opc_elm': None, 'tag_active': None}\n",
      "Datos recibidos SELECT:\n",
      "{'id_block': 792}\n",
      "intenatando consulta...\n",
      "consulta: select * from elementos where id_block= '792' ;\n",
      "Datos enviados SELECT:\n",
      "[{'blocktype': 'slide', 'title': 'Img1', 'image_url': 'https://www.gettyimages.es/gi-resources/images/500px/983794168.jpg', 'subtitle': 'sub1', 'id_block': 792, 'id_elements': 1417}, {'blocktype': 'slide', 'title': 'Img2', 'image_url': 'https://analyticsindiamag.com/wp-content/uploads/2020/10/7d744a684fe03ebc7e8de545f97739dd.jpg', 'subtitle': 'sub3', 'id_block': 792, 'id_elements': 1418}, {'blocktype': 'slide', 'title': 'Img3', 'image_url': 'https://spaceplace.nasa.gov/gallery-sun/en/solar-flare.en.jpg', 'subtitle': 'Sub3', 'id_block': 792, 'id_elements': 1419}]\n"
     ]
    },
    {
     "name": "stderr",
     "output_type": "stream",
     "text": [
      "127.0.0.1 - - [07/Jul/2021 15:07:27] \"\u001b[37mPOST /insert/variables HTTP/1.1\u001b[0m\" 200 -\n",
      "127.0.0.1 - - [07/Jul/2021 15:07:27] \"\u001b[37mPOST /insert/bloqueslide HTTP/1.1\u001b[0m\" 200 -\n",
      "127.0.0.1 - - [07/Jul/2021 15:07:27] \"\u001b[37mPOST /insert/elementos HTTP/1.1\u001b[0m\" 200 -\n"
     ]
    },
    {
     "name": "stdout",
     "output_type": "stream",
     "text": [
      "Datos recibidos INSERT:\n",
      "{'name_var': 'variableCarrCarrusel_|_c57beb4f-7c32-42f1-8f3d-ff9a810944fc6754', 'opc_type': 'Variable', 'var': 0, 'opc_data': 'String', 'id_robot': 583}\n",
      "intenatando consulta...\n",
      "consulta: select * from variables where name_var= 'variableCarrCarrusel_|_c57beb4f-7c32-42f1-8f3d-ff9a810944fc6754' and opc_type= 'Variable' and var= '0' and opc_data= 'String' and id_robot= '583' ;\n",
      "Datos enviados INSERT:\n",
      "{'id_var': 2474, 'opc_type': 'Variable', 'opc_data': 'String', 'var': '0', 'id_robot': 583, 'name_var': 'variableCarrCarrusel_|_c57beb4f-7c32-42f1-8f3d-ff9a810944fc6754'}\n",
      "Datos recibidos INSERT:\n",
      "{'namestate': 'Carrusel | c57beb4f-7c32-42f1-8f3d-ff9a810944fc | 23985004-9470-9169-4961-397901325837 | oIgvWKILDrYMYDjlgAIk', 'blocktype': 'slide', 'typingtime': '1', 'default_id': 'Carrusel | c57beb4f-7c32-42f1-8f3d-ff9a810944fc | 23985004-9470-9169-4961-397901325837 | oIgvWKILDrYMYDjlgAIk', 'id_var': 2474, 'id_robot': 583}\n",
      "intenatando consulta...\n",
      "consulta: select * from bloqueslide where namestate= 'Carrusel | c57beb4f-7c32-42f1-8f3d-ff9a810944fc | 23985004-9470-9169-4961-397901325837 | oIgvWKILDrYMYDjlgAIk' and blocktype= 'slide' and typingtime= '1' and default_id= 'Carrusel | c57beb4f-7c32-42f1-8f3d-ff9a810944fc | 23985004-9470-9169-4961-397901325837 | oIgvWKILDrYMYDjlgAIk' and id_var= '2474' and id_robot= '583' ;\n",
      "Datos enviados INSERT:\n",
      "{'namestate': 'Carrusel | c57beb4f-7c32-42f1-8f3d-ff9a810944fc | 23985004-9470-9169-4961-397901325837 | oIgvWKILDrYMYDjlgAIk', 'next_id': None, 'blocktype': 'slide', 'typingtime': '1', 'default_id': 'Carrusel | c57beb4f-7c32-42f1-8f3d-ff9a810944fc | 23985004-9470-9169-4961-397901325837 | oIgvWKILDrYMYDjlgAIk', 'id_var': '2474', 'id_block': 793, 'id_robot': 583, 'opc_nextid': None, 'pos_y': None, 'pos_x': None, 'opc_elm': None, 'tag_active': None}\n",
      "Datos recibidos INSERT:\n",
      "{'title': 'Prueba1', 'image_url': 'https://www.gettyimages.es/gi-resources/images/500px/983794168.jpg', 'subtitle': 'sub1', 'blocktype': 'slide', 'id_block': 793}\n",
      "intenatando consulta...\n",
      "consulta: select * from elementos where title= 'Prueba1' and image_url= 'https://www.gettyimages.es/gi-resources/images/500px/983794168.jpg' and subtitle= 'sub1' and blocktype= 'slide' and id_block= '793' ;\n",
      "Datos enviados INSERT:\n",
      "{'blocktype': 'slide', 'title': 'Prueba1', 'image_url': 'https://www.gettyimages.es/gi-resources/images/500px/983794168.jpg', 'subtitle': 'sub1', 'id_block': 793, 'id_elements': 1420}\n",
      "Datos recibidos INSERT:\n",
      "{'id_elemento': '1420', 'titlebutton': 'BTN1P1', 'typebutton': 'postback', 'contentbutton': 'Salida', 'opc_nextid': 'Salida'}\n"
     ]
    },
    {
     "name": "stderr",
     "output_type": "stream",
     "text": [
      "127.0.0.1 - - [07/Jul/2021 15:07:27] \"\u001b[37mPOST /insert/botones HTTP/1.1\u001b[0m\" 200 -\n",
      "127.0.0.1 - - [07/Jul/2021 15:07:27] \"\u001b[37mPOST /insert/botones HTTP/1.1\u001b[0m\" 200 -\n",
      "127.0.0.1 - - [07/Jul/2021 15:07:27] \"\u001b[37mPOST /insert/elementos HTTP/1.1\u001b[0m\" 200 -\n"
     ]
    },
    {
     "name": "stdout",
     "output_type": "stream",
     "text": [
      "intenatando consulta...\n",
      "consulta: select * from botones where id_elemento= '1420' and titlebutton= 'BTN1P1' and typebutton= 'postback' and contentbutton= 'Salida' and opc_nextid= 'Salida' ;\n",
      "Datos enviados INSERT:\n",
      "{'id_elemento': '1420', 'titlebutton': 'BTN1P1', 'typebutton': 'postback', 'contentbutton': 'Salida', 'id_boton': 2644, 'opc_nextid': 'Salida'}\n",
      "Datos recibidos INSERT:\n",
      "{'id_elemento': '1420', 'titlebutton': 'BTN1', 'typebutton': 'postback', 'contentbutton': 'Salida', 'opc_nextid': 'Salida'}\n",
      "intenatando consulta...\n",
      "consulta: select * from botones where id_elemento= '1420' and titlebutton= 'BTN1' and typebutton= 'postback' and contentbutton= 'Salida' and opc_nextid= 'Salida' ;\n",
      "Datos enviados INSERT:\n",
      "{'id_elemento': '1420', 'titlebutton': 'BTN1', 'typebutton': 'postback', 'contentbutton': 'Salida', 'id_boton': 2645, 'opc_nextid': 'Salida'}\n",
      "Datos recibidos INSERT:\n",
      "{'title': 'Prueba2', 'subtitle': 'sub2', 'image_url': 'https://analyticsindiamag.com/wp-content/uploads/2020/10/7d744a684fe03ebc7e8de545f97739dd.jpg', 'blocktype': 'slide', 'id_block': 793}\n",
      "intenatando consulta...\n",
      "consulta: select * from elementos where title= 'Prueba2' and subtitle= 'sub2' and image_url= 'https://analyticsindiamag.com/wp-content/uploads/2020/10/7d744a684fe03ebc7e8de545f97739dd.jpg' and blocktype= 'slide' and id_block= '793' ;\n",
      "Datos enviados INSERT:\n",
      "{'blocktype': 'slide', 'title': 'Prueba2', 'image_url': 'https://analyticsindiamag.com/wp-content/uploads/2020/10/7d744a684fe03ebc7e8de545f97739dd.jpg', 'subtitle': 'sub2', 'id_block': 793, 'id_elements': 1421}\n",
      "Datos recibidos INSERT:\n",
      "{'id_elemento': '1421', 'titlebutton': 'BTN1P2', 'typebutton': 'postback', 'contentbutton': 'Salida', 'opc_nextid': 'Salida'}\n"
     ]
    },
    {
     "name": "stderr",
     "output_type": "stream",
     "text": [
      "127.0.0.1 - - [07/Jul/2021 15:07:27] \"\u001b[37mPOST /insert/botones HTTP/1.1\u001b[0m\" 200 -\n",
      "127.0.0.1 - - [07/Jul/2021 15:07:27] \"\u001b[37mPOST /insert/botones HTTP/1.1\u001b[0m\" 200 -\n",
      "127.0.0.1 - - [07/Jul/2021 15:07:27] \"\u001b[37mPOST /insert/elementos HTTP/1.1\u001b[0m\" 200 -\n"
     ]
    },
    {
     "name": "stdout",
     "output_type": "stream",
     "text": [
      "intenatando consulta...\n",
      "consulta: select * from botones where id_elemento= '1421' and titlebutton= 'BTN1P2' and typebutton= 'postback' and contentbutton= 'Salida' and opc_nextid= 'Salida' ;\n",
      "Datos enviados INSERT:\n",
      "{'id_elemento': '1421', 'titlebutton': 'BTN1P2', 'typebutton': 'postback', 'contentbutton': 'Salida', 'id_boton': 2646, 'opc_nextid': 'Salida'}\n",
      "Datos recibidos INSERT:\n",
      "{'id_elemento': '1421', 'titlebutton': 'BTN1P2', 'typebutton': 'postback', 'contentbutton': 'Salida', 'opc_nextid': 'Salida'}\n",
      "intenatando consulta...\n",
      "consulta: select * from botones where id_elemento= '1421' and titlebutton= 'BTN1P2' and typebutton= 'postback' and contentbutton= 'Salida' and opc_nextid= 'Salida' ;\n",
      "Datos enviados INSERT:\n",
      "[{'id_elemento': '1421', 'titlebutton': 'BTN1P2', 'typebutton': 'postback', 'contentbutton': 'Salida', 'id_boton': 2646, 'opc_nextid': 'Salida'}, {'id_elemento': '1421', 'titlebutton': 'BTN1P2', 'typebutton': 'postback', 'contentbutton': 'Salida', 'id_boton': 2647, 'opc_nextid': 'Salida'}]\n",
      "Datos recibidos INSERT:\n",
      "{'title': 'Prueba3', 'image_url': 'https://spaceplace.nasa.gov/gallery-sun/en/solar-flare.en.jpg', 'subtitle': 'sub3', 'blocktype': 'slide', 'id_block': 793}\n",
      "intenatando consulta...\n",
      "consulta: select * from elementos where title= 'Prueba3' and image_url= 'https://spaceplace.nasa.gov/gallery-sun/en/solar-flare.en.jpg' and subtitle= 'sub3' and blocktype= 'slide' and id_block= '793' ;\n",
      "Datos enviados INSERT:\n",
      "{'blocktype': 'slide', 'title': 'Prueba3', 'image_url': 'https://spaceplace.nasa.gov/gallery-sun/en/solar-flare.en.jpg', 'subtitle': 'sub3', 'id_block': 793, 'id_elements': 1422}\n",
      "Datos recibidos INSERT:\n",
      "{'id_elemento': '1422', 'titlebutton': 'BTN1P3', 'typebutton': 'postback', 'contentbutton': 'Salida', 'opc_nextid': 'Salida'}\n",
      "intenatando consulta...\n",
      "consulta: select * from botones where id_elemento= '1422' and titlebutton= 'BTN1P3' and typebutton= 'postback' and contentbutton= 'Salida' and opc_nextid= 'Salida' ;\n"
     ]
    },
    {
     "name": "stderr",
     "output_type": "stream",
     "text": [
      "127.0.0.1 - - [07/Jul/2021 15:07:27] \"\u001b[37mPOST /insert/botones HTTP/1.1\u001b[0m\" 200 -\n",
      "127.0.0.1 - - [07/Jul/2021 15:07:27] \"\u001b[37mPOST /insert/botones HTTP/1.1\u001b[0m\" 200 -\n",
      "127.0.0.1 - - [07/Jul/2021 15:07:27] \"\u001b[37mPOST /insert/bloqueinformativo HTTP/1.1\u001b[0m\" 200 -\n"
     ]
    },
    {
     "name": "stdout",
     "output_type": "stream",
     "text": [
      "Datos enviados INSERT:\n",
      "{'id_elemento': '1422', 'titlebutton': 'BTN1P3', 'typebutton': 'postback', 'contentbutton': 'Salida', 'id_boton': 2648, 'opc_nextid': 'Salida'}\n",
      "Datos recibidos INSERT:\n",
      "{'id_elemento': '1422', 'titlebutton': 'BTN1P3', 'typebutton': 'postback', 'contentbutton': 'Salida', 'opc_nextid': 'Salida'}\n",
      "intenatando consulta...\n",
      "consulta: select * from botones where id_elemento= '1422' and titlebutton= 'BTN1P3' and typebutton= 'postback' and contentbutton= 'Salida' and opc_nextid= 'Salida' ;\n",
      "Datos enviados INSERT:\n",
      "[{'id_elemento': '1422', 'titlebutton': 'BTN1P3', 'typebutton': 'postback', 'contentbutton': 'Salida', 'id_boton': 2648, 'opc_nextid': 'Salida'}, {'id_elemento': '1422', 'titlebutton': 'BTN1P3', 'typebutton': 'postback', 'contentbutton': 'Salida', 'id_boton': 2649, 'opc_nextid': 'Salida'}]\n",
      "Datos recibidos INSERT:\n",
      "{'next_id': 'Carrusel | c57beb4f-7c32-42f1-8f3d-ff9a810944fc | 23985004-9470-9169-4961-397901325837 | oIgvWKILDrYMYDjlgAIk', 'namestate': 'Informativo | e61376a2-83b0-4ccd-90b2-0d3b8d9fc04b | 23985004-9470-9169-4961-397901325837 | oIgvWKILDrYMYDjlgAIk', 'contenido': 'Este es un compuesto', 'contenttype': 'text', 'typingtime': '1', 'id_robot': 583, 'blocktype': 'informativo'}\n",
      "intenatando consulta...\n",
      "consulta: select * from bloqueinformativo where next_id= 'Carrusel | c57beb4f-7c32-42f1-8f3d-ff9a810944fc | 23985004-9470-9169-4961-397901325837 | oIgvWKILDrYMYDjlgAIk' and namestate= 'Informativo | e61376a2-83b0-4ccd-90b2-0d3b8d9fc04b | 23985004-9470-9169-4961-397901325837 | oIgvWKILDrYMYDjlgAIk' and contenido= 'Este es un compuesto' and contenttype= 'text' and typingtime= '1' and id_robot= '583' and blocktype= 'informativo' ;\n",
      "Datos enviados INSERT:\n",
      "{'namestate': 'Informativo | e61376a2-83b0-4ccd-90b2-0d3b8d9fc04b | 23985004-9470-9169-4961-397901325837 | oIgvWKILDrYMYDjlgAIk', 'contenido': 'Este es un compuesto', 'next_id': 'Carrusel | c57beb4f-7c32-42f1-8f3d-ff9a810944fc | 23985004-9470-9169-4961-397901325837 | oIgvWKILDrYMYDjlgAIk', 'blocktype': 'informativo', 'contenttype': 'text', 'typingtime': '1', 'id_block': 4112, 'id_robot': 583, 'opc_nextid': None, 'pos_y': None, 'pos_x': None, 'tag_active': None}\n"
     ]
    },
    {
     "name": "stderr",
     "output_type": "stream",
     "text": [
      "127.0.0.1 - - [07/Jul/2021 15:07:28] \"\u001b[37mPOST /insert/variables HTTP/1.1\u001b[0m\" 200 -\n",
      "127.0.0.1 - - [07/Jul/2021 15:07:28] \"\u001b[37mPOST /insert/bloqueslide HTTP/1.1\u001b[0m\" 200 -\n",
      "127.0.0.1 - - [07/Jul/2021 15:07:28] \"\u001b[37mPOST /insert/elementos HTTP/1.1\u001b[0m\" 200 -\n"
     ]
    },
    {
     "name": "stdout",
     "output_type": "stream",
     "text": [
      "Datos recibidos INSERT:\n",
      "{'name_var': 'variableCarrCarrusel_|_20088b9a-b5fa-4089-a72d-9ced45cbd8992245', 'opc_type': 'Variable', 'var': 0, 'opc_data': 'String', 'id_robot': 583}\n",
      "intenatando consulta...\n",
      "consulta: select * from variables where name_var= 'variableCarrCarrusel_|_20088b9a-b5fa-4089-a72d-9ced45cbd8992245' and opc_type= 'Variable' and var= '0' and opc_data= 'String' and id_robot= '583' ;\n",
      "Datos enviados INSERT:\n",
      "{'id_var': 2475, 'opc_type': 'Variable', 'opc_data': 'String', 'var': '0', 'id_robot': 583, 'name_var': 'variableCarrCarrusel_|_20088b9a-b5fa-4089-a72d-9ced45cbd8992245'}\n",
      "Datos recibidos INSERT:\n",
      "{'namestate': 'Carrusel | 20088b9a-b5fa-4089-a72d-9ced45cbd899 | oIgvWKILDrYMYDjlgAIk', 'blocktype': 'slide', 'typingtime': '1', 'default_id': 'Carrusel | 20088b9a-b5fa-4089-a72d-9ced45cbd899 | oIgvWKILDrYMYDjlgAIk', 'id_var': 2475, 'id_robot': 583}\n",
      "intenatando consulta...\n",
      "consulta: select * from bloqueslide where namestate= 'Carrusel | 20088b9a-b5fa-4089-a72d-9ced45cbd899 | oIgvWKILDrYMYDjlgAIk' and blocktype= 'slide' and typingtime= '1' and default_id= 'Carrusel | 20088b9a-b5fa-4089-a72d-9ced45cbd899 | oIgvWKILDrYMYDjlgAIk' and id_var= '2475' and id_robot= '583' ;\n",
      "Datos enviados INSERT:\n",
      "{'namestate': 'Carrusel | 20088b9a-b5fa-4089-a72d-9ced45cbd899 | oIgvWKILDrYMYDjlgAIk', 'next_id': None, 'blocktype': 'slide', 'typingtime': '1', 'default_id': 'Carrusel | 20088b9a-b5fa-4089-a72d-9ced45cbd899 | oIgvWKILDrYMYDjlgAIk', 'id_var': '2475', 'id_block': 794, 'id_robot': 583, 'opc_nextid': None, 'pos_y': None, 'pos_x': None, 'opc_elm': None, 'tag_active': None}\n",
      "Datos recibidos INSERT:\n",
      "{'title': 'Img1', 'image_url': 'https://www.gettyimages.es/gi-resources/images/500px/983794168.jpg', 'subtitle': 'sub1', 'blocktype': 'slide', 'id_block': 794}\n",
      "intenatando consulta...\n",
      "consulta: select * from elementos where title= 'Img1' and image_url= 'https://www.gettyimages.es/gi-resources/images/500px/983794168.jpg' and subtitle= 'sub1' and blocktype= 'slide' and id_block= '794' ;\n",
      "Datos enviados INSERT:\n",
      "{'blocktype': 'slide', 'title': 'Img1', 'image_url': 'https://www.gettyimages.es/gi-resources/images/500px/983794168.jpg', 'subtitle': 'sub1', 'id_block': 794, 'id_elements': 1423}\n",
      "Datos recibidos INSERT:\n",
      "{'id_elemento': '1423', 'titlebutton': 'Btn1P1', 'typebutton': 'postback', 'contentbutton': 'Informativo | c172acd8-1edc-4d5b-ac66-fdf02dfe35ff | oIgvWKILDrYMYDjlgAIk', 'opc_nextid': 'Informativo | c172acd8-1edc-4d5b-ac66-fdf02dfe35ff | oIgvWKILDrYMYDjlgAIk'}\n"
     ]
    },
    {
     "name": "stderr",
     "output_type": "stream",
     "text": [
      "127.0.0.1 - - [07/Jul/2021 15:07:28] \"\u001b[37mPOST /insert/botones HTTP/1.1\u001b[0m\" 200 -\n",
      "127.0.0.1 - - [07/Jul/2021 15:07:28] \"\u001b[37mPOST /insert/botones HTTP/1.1\u001b[0m\" 200 -\n",
      "127.0.0.1 - - [07/Jul/2021 15:07:28] \"\u001b[37mPOST /insert/elementos HTTP/1.1\u001b[0m\" 200 -\n"
     ]
    },
    {
     "name": "stdout",
     "output_type": "stream",
     "text": [
      "intenatando consulta...\n",
      "consulta: select * from botones where id_elemento= '1423' and titlebutton= 'Btn1P1' and typebutton= 'postback' and contentbutton= 'Informativo | c172acd8-1edc-4d5b-ac66-fdf02dfe35ff | oIgvWKILDrYMYDjlgAIk' and opc_nextid= 'Informativo | c172acd8-1edc-4d5b-ac66-fdf02dfe35ff | oIgvWKILDrYMYDjlgAIk' ;\n",
      "Datos enviados INSERT:\n",
      "{'id_elemento': '1423', 'titlebutton': 'Btn1P1', 'typebutton': 'postback', 'contentbutton': 'Informativo | c172acd8-1edc-4d5b-ac66-fdf02dfe35ff | oIgvWKILDrYMYDjlgAIk', 'id_boton': 2650, 'opc_nextid': 'Informativo | c172acd8-1edc-4d5b-ac66-fdf02dfe35ff | oIgvWKILDrYMYDjlgAIk'}\n",
      "Datos recibidos INSERT:\n",
      "{'id_elemento': '1423', 'titlebutton': 'Btn2p2', 'typebutton': 'postback', 'contentbutton': 'Informativo | c172acd8-1edc-4d5b-ac66-fdf02dfe35ff | oIgvWKILDrYMYDjlgAIk', 'opc_nextid': 'Informativo | c172acd8-1edc-4d5b-ac66-fdf02dfe35ff | oIgvWKILDrYMYDjlgAIk'}\n",
      "intenatando consulta...\n",
      "consulta: select * from botones where id_elemento= '1423' and titlebutton= 'Btn2p2' and typebutton= 'postback' and contentbutton= 'Informativo | c172acd8-1edc-4d5b-ac66-fdf02dfe35ff | oIgvWKILDrYMYDjlgAIk' and opc_nextid= 'Informativo | c172acd8-1edc-4d5b-ac66-fdf02dfe35ff | oIgvWKILDrYMYDjlgAIk' ;\n",
      "Datos enviados INSERT:\n",
      "{'id_elemento': '1423', 'titlebutton': 'Btn2p2', 'typebutton': 'postback', 'contentbutton': 'Informativo | c172acd8-1edc-4d5b-ac66-fdf02dfe35ff | oIgvWKILDrYMYDjlgAIk', 'id_boton': 2651, 'opc_nextid': 'Informativo | c172acd8-1edc-4d5b-ac66-fdf02dfe35ff | oIgvWKILDrYMYDjlgAIk'}\n",
      "Datos recibidos INSERT:\n",
      "{'title': 'Img2', 'image_url': 'https://analyticsindiamag.com/wp-content/uploads/2020/10/7d744a684fe03ebc7e8de545f97739dd.jpg', 'subtitle': 'sub3', 'blocktype': 'slide', 'id_block': 794}\n",
      "intenatando consulta...\n",
      "consulta: select * from elementos where title= 'Img2' and image_url= 'https://analyticsindiamag.com/wp-content/uploads/2020/10/7d744a684fe03ebc7e8de545f97739dd.jpg' and subtitle= 'sub3' and blocktype= 'slide' and id_block= '794' ;\n",
      "Datos enviados INSERT:\n",
      "{'blocktype': 'slide', 'title': 'Img2', 'image_url': 'https://analyticsindiamag.com/wp-content/uploads/2020/10/7d744a684fe03ebc7e8de545f97739dd.jpg', 'subtitle': 'sub3', 'id_block': 794, 'id_elements': 1424}\n",
      "Datos recibidos INSERT:\n",
      "{'id_elemento': '1424', 'titlebutton': 'btn1P2', 'typebutton': 'postback', 'contentbutton': 'Informativo | c172acd8-1edc-4d5b-ac66-fdf02dfe35ff | oIgvWKILDrYMYDjlgAIk', 'opc_nextid': 'Informativo | c172acd8-1edc-4d5b-ac66-fdf02dfe35ff | oIgvWKILDrYMYDjlgAIk'}\n"
     ]
    },
    {
     "name": "stderr",
     "output_type": "stream",
     "text": [
      "127.0.0.1 - - [07/Jul/2021 15:07:28] \"\u001b[37mPOST /insert/botones HTTP/1.1\u001b[0m\" 200 -\n",
      "127.0.0.1 - - [07/Jul/2021 15:07:28] \"\u001b[37mPOST /insert/botones HTTP/1.1\u001b[0m\" 200 -\n",
      "127.0.0.1 - - [07/Jul/2021 15:07:28] \"\u001b[37mPOST /insert/elementos HTTP/1.1\u001b[0m\" 200 -\n"
     ]
    },
    {
     "name": "stdout",
     "output_type": "stream",
     "text": [
      "intenatando consulta...\n",
      "consulta: select * from botones where id_elemento= '1424' and titlebutton= 'btn1P2' and typebutton= 'postback' and contentbutton= 'Informativo | c172acd8-1edc-4d5b-ac66-fdf02dfe35ff | oIgvWKILDrYMYDjlgAIk' and opc_nextid= 'Informativo | c172acd8-1edc-4d5b-ac66-fdf02dfe35ff | oIgvWKILDrYMYDjlgAIk' ;\n",
      "Datos enviados INSERT:\n",
      "{'id_elemento': '1424', 'titlebutton': 'btn1P2', 'typebutton': 'postback', 'contentbutton': 'Informativo | c172acd8-1edc-4d5b-ac66-fdf02dfe35ff | oIgvWKILDrYMYDjlgAIk', 'id_boton': 2652, 'opc_nextid': 'Informativo | c172acd8-1edc-4d5b-ac66-fdf02dfe35ff | oIgvWKILDrYMYDjlgAIk'}\n",
      "Datos recibidos INSERT:\n",
      "{'id_elemento': '1424', 'titlebutton': 'Btn2P2', 'typebutton': 'postback', 'contentbutton': 'Informativo | c172acd8-1edc-4d5b-ac66-fdf02dfe35ff | oIgvWKILDrYMYDjlgAIk', 'opc_nextid': 'Informativo | c172acd8-1edc-4d5b-ac66-fdf02dfe35ff | oIgvWKILDrYMYDjlgAIk'}\n",
      "intenatando consulta...\n",
      "consulta: select * from botones where id_elemento= '1424' and titlebutton= 'Btn2P2' and typebutton= 'postback' and contentbutton= 'Informativo | c172acd8-1edc-4d5b-ac66-fdf02dfe35ff | oIgvWKILDrYMYDjlgAIk' and opc_nextid= 'Informativo | c172acd8-1edc-4d5b-ac66-fdf02dfe35ff | oIgvWKILDrYMYDjlgAIk' ;\n",
      "Datos enviados INSERT:\n",
      "{'id_elemento': '1424', 'titlebutton': 'Btn2P2', 'typebutton': 'postback', 'contentbutton': 'Informativo | c172acd8-1edc-4d5b-ac66-fdf02dfe35ff | oIgvWKILDrYMYDjlgAIk', 'id_boton': 2653, 'opc_nextid': 'Informativo | c172acd8-1edc-4d5b-ac66-fdf02dfe35ff | oIgvWKILDrYMYDjlgAIk'}\n",
      "Datos recibidos INSERT:\n",
      "{'subtitle': 'Sub3', 'image_url': 'https://spaceplace.nasa.gov/gallery-sun/en/solar-flare.en.jpg', 'title': 'Img3', 'blocktype': 'slide', 'id_block': 794}\n",
      "intenatando consulta...\n",
      "consulta: select * from elementos where subtitle= 'Sub3' and image_url= 'https://spaceplace.nasa.gov/gallery-sun/en/solar-flare.en.jpg' and title= 'Img3' and blocktype= 'slide' and id_block= '794' ;\n",
      "Datos enviados INSERT:\n",
      "{'blocktype': 'slide', 'title': 'Img3', 'image_url': 'https://spaceplace.nasa.gov/gallery-sun/en/solar-flare.en.jpg', 'subtitle': 'Sub3', 'id_block': 794, 'id_elements': 1425}\n",
      "Datos recibidos INSERT:\n",
      "{'id_elemento': '1425', 'titlebutton': 'Btn1P3', 'typebutton': 'postback', 'contentbutton': 'Informativo | c172acd8-1edc-4d5b-ac66-fdf02dfe35ff | oIgvWKILDrYMYDjlgAIk', 'opc_nextid': 'Informativo | c172acd8-1edc-4d5b-ac66-fdf02dfe35ff | oIgvWKILDrYMYDjlgAIk'}\n",
      "intenatando consulta...\n",
      "consulta: select * from botones where id_elemento= '1425' and titlebutton= 'Btn1P3' and typebutton= 'postback' and contentbutton= 'Informativo | c172acd8-1edc-4d5b-ac66-fdf02dfe35ff | oIgvWKILDrYMYDjlgAIk' and opc_nextid= 'Informativo | c172acd8-1edc-4d5b-ac66-fdf02dfe35ff | oIgvWKILDrYMYDjlgAIk' ;\n"
     ]
    },
    {
     "name": "stderr",
     "output_type": "stream",
     "text": [
      "127.0.0.1 - - [07/Jul/2021 15:07:28] \"\u001b[37mPOST /insert/botones HTTP/1.1\u001b[0m\" 200 -\n",
      "127.0.0.1 - - [07/Jul/2021 15:07:28] \"\u001b[37mPOST /insert/botones HTTP/1.1\u001b[0m\" 200 -\n",
      "127.0.0.1 - - [07/Jul/2021 15:07:28] \"\u001b[37mPOST /insert/bloqueinformativo HTTP/1.1\u001b[0m\" 200 -\n"
     ]
    },
    {
     "name": "stdout",
     "output_type": "stream",
     "text": [
      "Datos enviados INSERT:\n",
      "{'id_elemento': '1425', 'titlebutton': 'Btn1P3', 'typebutton': 'postback', 'contentbutton': 'Informativo | c172acd8-1edc-4d5b-ac66-fdf02dfe35ff | oIgvWKILDrYMYDjlgAIk', 'id_boton': 2654, 'opc_nextid': 'Informativo | c172acd8-1edc-4d5b-ac66-fdf02dfe35ff | oIgvWKILDrYMYDjlgAIk'}\n",
      "Datos recibidos INSERT:\n",
      "{'id_elemento': '1425', 'titlebutton': 'Btn1P3', 'typebutton': 'postback', 'contentbutton': 'Informativo | c172acd8-1edc-4d5b-ac66-fdf02dfe35ff | oIgvWKILDrYMYDjlgAIk', 'opc_nextid': 'Informativo | c172acd8-1edc-4d5b-ac66-fdf02dfe35ff | oIgvWKILDrYMYDjlgAIk'}\n",
      "intenatando consulta...\n",
      "consulta: select * from botones where id_elemento= '1425' and titlebutton= 'Btn1P3' and typebutton= 'postback' and contentbutton= 'Informativo | c172acd8-1edc-4d5b-ac66-fdf02dfe35ff | oIgvWKILDrYMYDjlgAIk' and opc_nextid= 'Informativo | c172acd8-1edc-4d5b-ac66-fdf02dfe35ff | oIgvWKILDrYMYDjlgAIk' ;\n",
      "Datos enviados INSERT:\n",
      "[{'id_elemento': '1425', 'titlebutton': 'Btn1P3', 'typebutton': 'postback', 'contentbutton': 'Informativo | c172acd8-1edc-4d5b-ac66-fdf02dfe35ff | oIgvWKILDrYMYDjlgAIk', 'id_boton': 2654, 'opc_nextid': 'Informativo | c172acd8-1edc-4d5b-ac66-fdf02dfe35ff | oIgvWKILDrYMYDjlgAIk'}, {'id_elemento': '1425', 'titlebutton': 'Btn1P3', 'typebutton': 'postback', 'contentbutton': 'Informativo | c172acd8-1edc-4d5b-ac66-fdf02dfe35ff | oIgvWKILDrYMYDjlgAIk', 'id_boton': 2655, 'opc_nextid': 'Informativo | c172acd8-1edc-4d5b-ac66-fdf02dfe35ff | oIgvWKILDrYMYDjlgAIk'}]\n",
      "Datos recibidos INSERT:\n",
      "{'next_id': 'Informativo | e61376a2-83b0-4ccd-90b2-0d3b8d9fc04b | 23985004-9470-9169-4961-397901325837 | oIgvWKILDrYMYDjlgAIk', 'namestate': 'Informativo | 2edb2c69-beb8-471f-9799-940599824c36 | oIgvWKILDrYMYDjlgAIk', 'contenido': 'Hola oswaldo', 'contenttype': 'text', 'typingtime': '1', 'id_robot': 583, 'blocktype': 'informativo'}\n",
      "intenatando consulta...\n",
      "consulta: select * from bloqueinformativo where next_id= 'Informativo | e61376a2-83b0-4ccd-90b2-0d3b8d9fc04b | 23985004-9470-9169-4961-397901325837 | oIgvWKILDrYMYDjlgAIk' and namestate= 'Informativo | 2edb2c69-beb8-471f-9799-940599824c36 | oIgvWKILDrYMYDjlgAIk' and contenido= 'Hola oswaldo' and contenttype= 'text' and typingtime= '1' and id_robot= '583' and blocktype= 'informativo' ;\n",
      "Datos enviados INSERT:\n",
      "{'namestate': 'Informativo | 2edb2c69-beb8-471f-9799-940599824c36 | oIgvWKILDrYMYDjlgAIk', 'contenido': 'Hola oswaldo', 'next_id': 'Informativo | e61376a2-83b0-4ccd-90b2-0d3b8d9fc04b | 23985004-9470-9169-4961-397901325837 | oIgvWKILDrYMYDjlgAIk', 'blocktype': 'informativo', 'contenttype': 'text', 'typingtime': '1', 'id_block': 4113, 'id_robot': 583, 'opc_nextid': None, 'pos_y': None, 'pos_x': None, 'tag_active': None}\n",
      "Datos recibidos INSERT:\n",
      "{'next_id': 'Salida', 'namestate': 'Informativo | c172acd8-1edc-4d5b-ac66-fdf02dfe35ff | oIgvWKILDrYMYDjlgAIk', 'contenido': 'Adios Oswa', 'contenttype': 'text', 'typingtime': '1', 'id_robot': 583, 'blocktype': 'informativo'}\n"
     ]
    },
    {
     "name": "stderr",
     "output_type": "stream",
     "text": [
      "127.0.0.1 - - [07/Jul/2021 15:07:28] \"\u001b[37mPOST /insert/bloqueinformativo HTTP/1.1\u001b[0m\" 200 -\n",
      "127.0.0.1 - - [07/Jul/2021 15:07:28] \"\u001b[37mPOST /insert/bloqueinformativo HTTP/1.1\u001b[0m\" 200 -\n"
     ]
    },
    {
     "name": "stdout",
     "output_type": "stream",
     "text": [
      "intenatando consulta...\n",
      "consulta: select * from bloqueinformativo where next_id= 'Salida' and namestate= 'Informativo | c172acd8-1edc-4d5b-ac66-fdf02dfe35ff | oIgvWKILDrYMYDjlgAIk' and contenido= 'Adios Oswa' and contenttype= 'text' and typingtime= '1' and id_robot= '583' and blocktype= 'informativo' ;\n",
      "Datos enviados INSERT:\n",
      "{'namestate': 'Informativo | c172acd8-1edc-4d5b-ac66-fdf02dfe35ff | oIgvWKILDrYMYDjlgAIk', 'contenido': 'Adios Oswa', 'next_id': 'Salida', 'blocktype': 'informativo', 'contenttype': 'text', 'typingtime': '1', 'id_block': 4114, 'id_robot': 583, 'opc_nextid': None, 'pos_y': None, 'pos_x': None, 'tag_active': None}\n",
      "Datos recibidos INSERT:\n",
      "{'next_id': '', 'namestate': 'Salida', 'contenido': '', 'contenttype': 'text', 'typingtime': 3, 'id_robot': 583, 'blocktype': 'informativo'}\n",
      "intenatando consulta...\n",
      "consulta: select * from bloqueinformativo where next_id= '' and namestate= 'Salida' and contenido= '' and contenttype= 'text' and typingtime= '3' and id_robot= '583' and blocktype= 'informativo' ;\n",
      "Datos enviados INSERT:\n",
      "{'namestate': 'Salida', 'contenido': '', 'next_id': '', 'blocktype': 'informativo', 'contenttype': 'text', 'typingtime': '3', 'id_block': 4115, 'id_robot': 583, 'opc_nextid': None, 'pos_y': None, 'pos_x': None, 'tag_active': None}\n"
     ]
    },
    {
     "name": "stderr",
     "output_type": "stream",
     "text": [
      "127.0.0.1 - - [07/Jul/2021 15:07:58] \"\u001b[37mGET /select/robots HTTP/1.1\u001b[0m\" 200 -\n",
      "127.0.0.1 - - [07/Jul/2021 15:07:58] \"\u001b[37mGET /select/bloqueslide HTTP/1.1\u001b[0m\" 200 -\n",
      "127.0.0.1 - - [07/Jul/2021 15:07:58] \"\u001b[37mGET /select/elementos HTTP/1.1\u001b[0m\" 200 -\n"
     ]
    },
    {
     "name": "stdout",
     "output_type": "stream",
     "text": [
      "Datos recibidos SELECT:\n",
      "{'name_robot': 'Oswa1', 'id_face': '106842278334918', 'block_ini': 'Informativo | 2edb2c69-beb8-471f-9799-940599824c36 | oIgvWKILDrYMYDjlgAIk', 'type_blocki': 'informativo', 'access_token': 'EAAFMtaIPwugBAIRPT4mTm2a9nei1940NrJqMbhvvyPwfZAUZA6Id2YaXUeSu06TENy0QoDsprATI0J2ZCGHS2X6UQ4TG2AWkIbNQ3LLGdRMORJZBZBT9BhB58QusrYaXG90RiZAog3r9THJCXmX1m7vjArQ3KoX3PrEGYehS4j6TSblsfU73uf', 'id_user': 'charlygoldcruz@gmail.com', 'api_nlp': 'http://localhost:8282/'}\n",
      "intenatando consulta...\n",
      "consulta: select * from robots where id_face = '106842278334918';\n",
      "Datos enviados SELECT:\n",
      "{'name_robot': 'Oswa1', 'id_face': '106842278334918', 'block_ini': 'Informativo | 2edb2c69-beb8-471f-9799-940599824c36 | oIgvWKILDrYMYDjlgAIk', 'type_blocki': 'informativo', 'access_token': 'EAAFMtaIPwugBAIRPT4mTm2a9nei1940NrJqMbhvvyPwfZAUZA6Id2YaXUeSu06TENy0QoDsprATI0J2ZCGHS2X6UQ4TG2AWkIbNQ3LLGdRMORJZBZBT9BhB58QusrYaXG90RiZAog3r9THJCXmX1m7vjArQ3KoX3PrEGYehS4j6TSblsfU73uf', 'api_nlp': 'http://localhost:8282/', 'id_robot': 583, 'id_user': 'charlygoldcruz@gmail.com'}\n",
      "Datos recibidos SELECT:\n",
      "{'id_robot': '583'}\n",
      "intenatando consulta...\n",
      "consulta: select * from bloqueslide where id_robot= '583' ;\n",
      "Datos enviados SELECT:\n",
      "[{'namestate': 'Carrusel | c57beb4f-7c32-42f1-8f3d-ff9a810944fc | 23985004-9470-9169-4961-397901325837 | oIgvWKILDrYMYDjlgAIk', 'next_id': 'Salida,Salida,Salida,Salida,Salida,Salida', 'blocktype': 'slide', 'typingtime': '1', 'default_id': 'Carrusel | c57beb4f-7c32-42f1-8f3d-ff9a810944fc | 23985004-9470-9169-4961-397901325837 | oIgvWKILDrYMYDjlgAIk', 'id_var': '2474', 'id_block': 793, 'id_robot': 583, 'opc_nextid': None, 'pos_y': None, 'pos_x': None, 'opc_elm': None, 'tag_active': None}, {'namestate': 'Carrusel | 20088b9a-b5fa-4089-a72d-9ced45cbd899 | oIgvWKILDrYMYDjlgAIk', 'next_id': 'Informativo | c172acd8-1edc-4d5b-ac66-fdf02dfe35ff | oIgvWKILDrYMYDjlgAIk,Informativo | c172acd8-1edc-4d5b-ac66-fdf02dfe35ff | oIgvWKILDrYMYDjlgAIk,Informativo | c172acd8-1edc-4d5b-ac66-fdf02dfe35ff | oIgvWKILDrYMYDjlgAIk,Informativo | c172acd8-1edc-4d5b-ac66-fdf02dfe35ff | oIgvWKILDrYMYDjlgAIk,Informativo | c172acd8-1edc-4d5b-ac66-fdf02dfe35ff | oIgvWKILDrYMYDjlgAIk,Informativo | c172acd8-1edc-4d5b-ac66-fdf02dfe35ff | oIgvWKILDrYMYDjlgAIk', 'blocktype': 'slide', 'typingtime': '1', 'default_id': 'Carrusel | 20088b9a-b5fa-4089-a72d-9ced45cbd899 | oIgvWKILDrYMYDjlgAIk', 'id_var': '2475', 'id_block': 794, 'id_robot': 583, 'opc_nextid': None, 'pos_y': None, 'pos_x': None, 'opc_elm': None, 'tag_active': None}]\n",
      "Datos recibidos SELECT:\n",
      "{'id_block': 793}\n",
      "intenatando consulta...\n",
      "consulta: select * from elementos where id_block= '793' ;\n",
      "Datos enviados SELECT:\n",
      "[{'blocktype': 'slide', 'title': 'Prueba1', 'image_url': 'https://www.gettyimages.es/gi-resources/images/500px/983794168.jpg', 'subtitle': 'sub1', 'id_block': 793, 'id_elements': 1420}, {'blocktype': 'slide', 'title': 'Prueba2', 'image_url': 'https://analyticsindiamag.com/wp-content/uploads/2020/10/7d744a684fe03ebc7e8de545f97739dd.jpg', 'subtitle': 'sub2', 'id_block': 793, 'id_elements': 1421}, {'blocktype': 'slide', 'title': 'Prueba3', 'image_url': 'https://spaceplace.nasa.gov/gallery-sun/en/solar-flare.en.jpg', 'subtitle': 'sub3', 'id_block': 793, 'id_elements': 1422}]\n"
     ]
    },
    {
     "name": "stderr",
     "output_type": "stream",
     "text": [
      "127.0.0.1 - - [07/Jul/2021 15:07:58] \"\u001b[37mGET /select/elementos HTTP/1.1\u001b[0m\" 200 -\n"
     ]
    },
    {
     "name": "stdout",
     "output_type": "stream",
     "text": [
      "Datos recibidos SELECT:\n",
      "{'id_block': 794}\n",
      "intenatando consulta...\n",
      "consulta: select * from elementos where id_block= '794' ;\n",
      "Datos enviados SELECT:\n",
      "[{'blocktype': 'slide', 'title': 'Img1', 'image_url': 'https://www.gettyimages.es/gi-resources/images/500px/983794168.jpg', 'subtitle': 'sub1', 'id_block': 794, 'id_elements': 1423}, {'blocktype': 'slide', 'title': 'Img2', 'image_url': 'https://analyticsindiamag.com/wp-content/uploads/2020/10/7d744a684fe03ebc7e8de545f97739dd.jpg', 'subtitle': 'sub3', 'id_block': 794, 'id_elements': 1424}, {'blocktype': 'slide', 'title': 'Img3', 'image_url': 'https://spaceplace.nasa.gov/gallery-sun/en/solar-flare.en.jpg', 'subtitle': 'Sub3', 'id_block': 794, 'id_elements': 1425}]\n",
      "Datos recibidos INSERT:\n",
      "{'name_var': 'variableCarrCarrusel_|_c57beb4f-7c32-42f1-8f3d-ff9a810944fc4264', 'opc_type': 'Variable', 'var': 0, 'opc_data': 'String', 'id_robot': 583}\n",
      "intenatando consulta...\n",
      "consulta: select * from variables where name_var= 'variableCarrCarrusel_|_c57beb4f-7c32-42f1-8f3d-ff9a810944fc4264' and opc_type= 'Variable' and var= '0' and opc_data= 'String' and id_robot= '583' ;\n"
     ]
    },
    {
     "name": "stderr",
     "output_type": "stream",
     "text": [
      "127.0.0.1 - - [07/Jul/2021 15:07:58] \"\u001b[37mPOST /insert/variables HTTP/1.1\u001b[0m\" 200 -\n",
      "127.0.0.1 - - [07/Jul/2021 15:07:58] \"\u001b[37mPOST /insert/bloqueslide HTTP/1.1\u001b[0m\" 200 -\n",
      "127.0.0.1 - - [07/Jul/2021 15:07:58] \"\u001b[37mPOST /insert/elementos HTTP/1.1\u001b[0m\" 200 -\n"
     ]
    },
    {
     "name": "stdout",
     "output_type": "stream",
     "text": [
      "Datos enviados INSERT:\n",
      "{'id_var': 2476, 'opc_type': 'Variable', 'opc_data': 'String', 'var': '0', 'id_robot': 583, 'name_var': 'variableCarrCarrusel_|_c57beb4f-7c32-42f1-8f3d-ff9a810944fc4264'}\n",
      "Datos recibidos INSERT:\n",
      "{'namestate': 'Carrusel | c57beb4f-7c32-42f1-8f3d-ff9a810944fc | 23985004-9470-9169-4961-397901325837 | oIgvWKILDrYMYDjlgAIk', 'blocktype': 'slide', 'typingtime': '1', 'default_id': 'Carrusel | c57beb4f-7c32-42f1-8f3d-ff9a810944fc | 23985004-9470-9169-4961-397901325837 | oIgvWKILDrYMYDjlgAIk', 'id_var': 2476, 'id_robot': 583}\n",
      "intenatando consulta...\n",
      "consulta: select * from bloqueslide where namestate= 'Carrusel | c57beb4f-7c32-42f1-8f3d-ff9a810944fc | 23985004-9470-9169-4961-397901325837 | oIgvWKILDrYMYDjlgAIk' and blocktype= 'slide' and typingtime= '1' and default_id= 'Carrusel | c57beb4f-7c32-42f1-8f3d-ff9a810944fc | 23985004-9470-9169-4961-397901325837 | oIgvWKILDrYMYDjlgAIk' and id_var= '2476' and id_robot= '583' ;\n",
      "Datos enviados INSERT:\n",
      "{'namestate': 'Carrusel | c57beb4f-7c32-42f1-8f3d-ff9a810944fc | 23985004-9470-9169-4961-397901325837 | oIgvWKILDrYMYDjlgAIk', 'next_id': None, 'blocktype': 'slide', 'typingtime': '1', 'default_id': 'Carrusel | c57beb4f-7c32-42f1-8f3d-ff9a810944fc | 23985004-9470-9169-4961-397901325837 | oIgvWKILDrYMYDjlgAIk', 'id_var': '2476', 'id_block': 795, 'id_robot': 583, 'opc_nextid': None, 'pos_y': None, 'pos_x': None, 'opc_elm': None, 'tag_active': None}\n",
      "Datos recibidos INSERT:\n",
      "{'subtitle': 'sub1', 'image_url': 'https://www.gettyimages.es/gi-resources/images/500px/983794168.jpg', 'title': 'Prueba1', 'blocktype': 'slide', 'id_block': 795}\n",
      "intenatando consulta...\n",
      "consulta: select * from elementos where subtitle= 'sub1' and image_url= 'https://www.gettyimages.es/gi-resources/images/500px/983794168.jpg' and title= 'Prueba1' and blocktype= 'slide' and id_block= '795' ;\n",
      "Datos enviados INSERT:\n",
      "{'blocktype': 'slide', 'title': 'Prueba1', 'image_url': 'https://www.gettyimages.es/gi-resources/images/500px/983794168.jpg', 'subtitle': 'sub1', 'id_block': 795, 'id_elements': 1426}\n",
      "Datos recibidos INSERT:\n",
      "{'id_elemento': '1426', 'titlebutton': 'BTN1P1', 'typebutton': 'postback', 'contentbutton': 'Informativo | c172acd8-1edc-4d5b-ac66-fdf02dfe35ff | oIgvWKILDrYMYDjlgAIk', 'opc_nextid': 'Informativo | c172acd8-1edc-4d5b-ac66-fdf02dfe35ff | oIgvWKILDrYMYDjlgAIk'}\n",
      "intenatando consulta...\n",
      "consulta: select * from botones where id_elemento= '1426' and titlebutton= 'BTN1P1' and typebutton= 'postback' and contentbutton= 'Informativo | c172acd8-1edc-4d5b-ac66-fdf02dfe35ff | oIgvWKILDrYMYDjlgAIk' and opc_nextid= 'Informativo | c172acd8-1edc-4d5b-ac66-fdf02dfe35ff | oIgvWKILDrYMYDjlgAIk' ;\n"
     ]
    },
    {
     "name": "stderr",
     "output_type": "stream",
     "text": [
      "127.0.0.1 - - [07/Jul/2021 15:07:58] \"\u001b[37mPOST /insert/botones HTTP/1.1\u001b[0m\" 200 -\n",
      "127.0.0.1 - - [07/Jul/2021 15:07:58] \"\u001b[37mPOST /insert/botones HTTP/1.1\u001b[0m\" 200 -\n",
      "127.0.0.1 - - [07/Jul/2021 15:07:58] \"\u001b[37mPOST /insert/elementos HTTP/1.1\u001b[0m\" 200 -\n"
     ]
    },
    {
     "name": "stdout",
     "output_type": "stream",
     "text": [
      "Datos enviados INSERT:\n",
      "{'id_elemento': '1426', 'titlebutton': 'BTN1P1', 'typebutton': 'postback', 'contentbutton': 'Informativo | c172acd8-1edc-4d5b-ac66-fdf02dfe35ff | oIgvWKILDrYMYDjlgAIk', 'id_boton': 2656, 'opc_nextid': 'Informativo | c172acd8-1edc-4d5b-ac66-fdf02dfe35ff | oIgvWKILDrYMYDjlgAIk'}\n",
      "Datos recibidos INSERT:\n",
      "{'id_elemento': '1426', 'titlebutton': 'BTN1', 'typebutton': 'postback', 'contentbutton': 'Informativo | c172acd8-1edc-4d5b-ac66-fdf02dfe35ff | oIgvWKILDrYMYDjlgAIk', 'opc_nextid': 'Informativo | c172acd8-1edc-4d5b-ac66-fdf02dfe35ff | oIgvWKILDrYMYDjlgAIk'}\n",
      "intenatando consulta...\n",
      "consulta: select * from botones where id_elemento= '1426' and titlebutton= 'BTN1' and typebutton= 'postback' and contentbutton= 'Informativo | c172acd8-1edc-4d5b-ac66-fdf02dfe35ff | oIgvWKILDrYMYDjlgAIk' and opc_nextid= 'Informativo | c172acd8-1edc-4d5b-ac66-fdf02dfe35ff | oIgvWKILDrYMYDjlgAIk' ;\n",
      "Datos enviados INSERT:\n",
      "{'id_elemento': '1426', 'titlebutton': 'BTN1', 'typebutton': 'postback', 'contentbutton': 'Informativo | c172acd8-1edc-4d5b-ac66-fdf02dfe35ff | oIgvWKILDrYMYDjlgAIk', 'id_boton': 2657, 'opc_nextid': 'Informativo | c172acd8-1edc-4d5b-ac66-fdf02dfe35ff | oIgvWKILDrYMYDjlgAIk'}\n",
      "Datos recibidos INSERT:\n",
      "{'image_url': 'https://analyticsindiamag.com/wp-content/uploads/2020/10/7d744a684fe03ebc7e8de545f97739dd.jpg', 'title': 'Prueba2', 'subtitle': 'sub2', 'blocktype': 'slide', 'id_block': 795}\n",
      "intenatando consulta...\n",
      "consulta: select * from elementos where image_url= 'https://analyticsindiamag.com/wp-content/uploads/2020/10/7d744a684fe03ebc7e8de545f97739dd.jpg' and title= 'Prueba2' and subtitle= 'sub2' and blocktype= 'slide' and id_block= '795' ;\n",
      "Datos enviados INSERT:\n",
      "{'blocktype': 'slide', 'title': 'Prueba2', 'image_url': 'https://analyticsindiamag.com/wp-content/uploads/2020/10/7d744a684fe03ebc7e8de545f97739dd.jpg', 'subtitle': 'sub2', 'id_block': 795, 'id_elements': 1427}\n",
      "Datos recibidos INSERT:\n",
      "{'id_elemento': '1427', 'titlebutton': 'BTN1P2', 'typebutton': 'postback', 'contentbutton': 'Informativo | c172acd8-1edc-4d5b-ac66-fdf02dfe35ff | oIgvWKILDrYMYDjlgAIk', 'opc_nextid': 'Informativo | c172acd8-1edc-4d5b-ac66-fdf02dfe35ff | oIgvWKILDrYMYDjlgAIk'}\n",
      "intenatando consulta...\n",
      "consulta: select * from botones where id_elemento= '1427' and titlebutton= 'BTN1P2' and typebutton= 'postback' and contentbutton= 'Informativo | c172acd8-1edc-4d5b-ac66-fdf02dfe35ff | oIgvWKILDrYMYDjlgAIk' and opc_nextid= 'Informativo | c172acd8-1edc-4d5b-ac66-fdf02dfe35ff | oIgvWKILDrYMYDjlgAIk' ;\n"
     ]
    },
    {
     "name": "stderr",
     "output_type": "stream",
     "text": [
      "127.0.0.1 - - [07/Jul/2021 15:07:58] \"\u001b[37mPOST /insert/botones HTTP/1.1\u001b[0m\" 200 -\n",
      "127.0.0.1 - - [07/Jul/2021 15:07:58] \"\u001b[37mPOST /insert/botones HTTP/1.1\u001b[0m\" 200 -\n",
      "127.0.0.1 - - [07/Jul/2021 15:07:58] \"\u001b[37mPOST /insert/elementos HTTP/1.1\u001b[0m\" 200 -\n"
     ]
    },
    {
     "name": "stdout",
     "output_type": "stream",
     "text": [
      "Datos enviados INSERT:\n",
      "{'id_elemento': '1427', 'titlebutton': 'BTN1P2', 'typebutton': 'postback', 'contentbutton': 'Informativo | c172acd8-1edc-4d5b-ac66-fdf02dfe35ff | oIgvWKILDrYMYDjlgAIk', 'id_boton': 2658, 'opc_nextid': 'Informativo | c172acd8-1edc-4d5b-ac66-fdf02dfe35ff | oIgvWKILDrYMYDjlgAIk'}\n",
      "Datos recibidos INSERT:\n",
      "{'id_elemento': '1427', 'titlebutton': 'BTN1P2', 'typebutton': 'postback', 'contentbutton': 'Informativo | c172acd8-1edc-4d5b-ac66-fdf02dfe35ff | oIgvWKILDrYMYDjlgAIk', 'opc_nextid': 'Informativo | c172acd8-1edc-4d5b-ac66-fdf02dfe35ff | oIgvWKILDrYMYDjlgAIk'}\n",
      "intenatando consulta...\n",
      "consulta: select * from botones where id_elemento= '1427' and titlebutton= 'BTN1P2' and typebutton= 'postback' and contentbutton= 'Informativo | c172acd8-1edc-4d5b-ac66-fdf02dfe35ff | oIgvWKILDrYMYDjlgAIk' and opc_nextid= 'Informativo | c172acd8-1edc-4d5b-ac66-fdf02dfe35ff | oIgvWKILDrYMYDjlgAIk' ;\n",
      "Datos enviados INSERT:\n",
      "[{'id_elemento': '1427', 'titlebutton': 'BTN1P2', 'typebutton': 'postback', 'contentbutton': 'Informativo | c172acd8-1edc-4d5b-ac66-fdf02dfe35ff | oIgvWKILDrYMYDjlgAIk', 'id_boton': 2658, 'opc_nextid': 'Informativo | c172acd8-1edc-4d5b-ac66-fdf02dfe35ff | oIgvWKILDrYMYDjlgAIk'}, {'id_elemento': '1427', 'titlebutton': 'BTN1P2', 'typebutton': 'postback', 'contentbutton': 'Informativo | c172acd8-1edc-4d5b-ac66-fdf02dfe35ff | oIgvWKILDrYMYDjlgAIk', 'id_boton': 2659, 'opc_nextid': 'Informativo | c172acd8-1edc-4d5b-ac66-fdf02dfe35ff | oIgvWKILDrYMYDjlgAIk'}]\n",
      "Datos recibidos INSERT:\n",
      "{'image_url': 'https://spaceplace.nasa.gov/gallery-sun/en/solar-flare.en.jpg', 'subtitle': 'sub3', 'title': 'Prueba3', 'blocktype': 'slide', 'id_block': 795}\n",
      "intenatando consulta...\n",
      "consulta: select * from elementos where image_url= 'https://spaceplace.nasa.gov/gallery-sun/en/solar-flare.en.jpg' and subtitle= 'sub3' and title= 'Prueba3' and blocktype= 'slide' and id_block= '795' ;\n",
      "Datos enviados INSERT:\n",
      "{'blocktype': 'slide', 'title': 'Prueba3', 'image_url': 'https://spaceplace.nasa.gov/gallery-sun/en/solar-flare.en.jpg', 'subtitle': 'sub3', 'id_block': 795, 'id_elements': 1428}\n",
      "Datos recibidos INSERT:\n",
      "{'id_elemento': '1428', 'titlebutton': 'BTN1P3', 'typebutton': 'postback', 'contentbutton': 'Informativo | c172acd8-1edc-4d5b-ac66-fdf02dfe35ff | oIgvWKILDrYMYDjlgAIk', 'opc_nextid': 'Informativo | c172acd8-1edc-4d5b-ac66-fdf02dfe35ff | oIgvWKILDrYMYDjlgAIk'}\n",
      "intenatando consulta...\n",
      "consulta: select * from botones where id_elemento= '1428' and titlebutton= 'BTN1P3' and typebutton= 'postback' and contentbutton= 'Informativo | c172acd8-1edc-4d5b-ac66-fdf02dfe35ff | oIgvWKILDrYMYDjlgAIk' and opc_nextid= 'Informativo | c172acd8-1edc-4d5b-ac66-fdf02dfe35ff | oIgvWKILDrYMYDjlgAIk' ;\n"
     ]
    },
    {
     "name": "stderr",
     "output_type": "stream",
     "text": [
      "127.0.0.1 - - [07/Jul/2021 15:07:59] \"\u001b[37mPOST /insert/botones HTTP/1.1\u001b[0m\" 200 -\n",
      "127.0.0.1 - - [07/Jul/2021 15:07:59] \"\u001b[37mPOST /insert/botones HTTP/1.1\u001b[0m\" 200 -\n",
      "127.0.0.1 - - [07/Jul/2021 15:07:59] \"\u001b[37mPOST /insert/bloqueinformativo HTTP/1.1\u001b[0m\" 200 -\n"
     ]
    },
    {
     "name": "stdout",
     "output_type": "stream",
     "text": [
      "Datos enviados INSERT:\n",
      "{'id_elemento': '1428', 'titlebutton': 'BTN1P3', 'typebutton': 'postback', 'contentbutton': 'Informativo | c172acd8-1edc-4d5b-ac66-fdf02dfe35ff | oIgvWKILDrYMYDjlgAIk', 'id_boton': 2660, 'opc_nextid': 'Informativo | c172acd8-1edc-4d5b-ac66-fdf02dfe35ff | oIgvWKILDrYMYDjlgAIk'}\n",
      "Datos recibidos INSERT:\n",
      "{'id_elemento': '1428', 'titlebutton': 'BTN1P3', 'typebutton': 'postback', 'contentbutton': 'Informativo | c172acd8-1edc-4d5b-ac66-fdf02dfe35ff | oIgvWKILDrYMYDjlgAIk', 'opc_nextid': 'Informativo | c172acd8-1edc-4d5b-ac66-fdf02dfe35ff | oIgvWKILDrYMYDjlgAIk'}\n",
      "intenatando consulta...\n",
      "consulta: select * from botones where id_elemento= '1428' and titlebutton= 'BTN1P3' and typebutton= 'postback' and contentbutton= 'Informativo | c172acd8-1edc-4d5b-ac66-fdf02dfe35ff | oIgvWKILDrYMYDjlgAIk' and opc_nextid= 'Informativo | c172acd8-1edc-4d5b-ac66-fdf02dfe35ff | oIgvWKILDrYMYDjlgAIk' ;\n",
      "Datos enviados INSERT:\n",
      "[{'id_elemento': '1428', 'titlebutton': 'BTN1P3', 'typebutton': 'postback', 'contentbutton': 'Informativo | c172acd8-1edc-4d5b-ac66-fdf02dfe35ff | oIgvWKILDrYMYDjlgAIk', 'id_boton': 2660, 'opc_nextid': 'Informativo | c172acd8-1edc-4d5b-ac66-fdf02dfe35ff | oIgvWKILDrYMYDjlgAIk'}, {'id_elemento': '1428', 'titlebutton': 'BTN1P3', 'typebutton': 'postback', 'contentbutton': 'Informativo | c172acd8-1edc-4d5b-ac66-fdf02dfe35ff | oIgvWKILDrYMYDjlgAIk', 'id_boton': 2661, 'opc_nextid': 'Informativo | c172acd8-1edc-4d5b-ac66-fdf02dfe35ff | oIgvWKILDrYMYDjlgAIk'}]\n",
      "Datos recibidos INSERT:\n",
      "{'next_id': 'Carrusel | c57beb4f-7c32-42f1-8f3d-ff9a810944fc | 23985004-9470-9169-4961-397901325837 | oIgvWKILDrYMYDjlgAIk', 'namestate': 'Informativo | e61376a2-83b0-4ccd-90b2-0d3b8d9fc04b | 23985004-9470-9169-4961-397901325837 | oIgvWKILDrYMYDjlgAIk', 'contenido': 'Este es un compuesto', 'contenttype': 'text', 'typingtime': '1', 'id_robot': 583, 'blocktype': 'informativo'}\n",
      "intenatando consulta...\n",
      "consulta: select * from bloqueinformativo where next_id= 'Carrusel | c57beb4f-7c32-42f1-8f3d-ff9a810944fc | 23985004-9470-9169-4961-397901325837 | oIgvWKILDrYMYDjlgAIk' and namestate= 'Informativo | e61376a2-83b0-4ccd-90b2-0d3b8d9fc04b | 23985004-9470-9169-4961-397901325837 | oIgvWKILDrYMYDjlgAIk' and contenido= 'Este es un compuesto' and contenttype= 'text' and typingtime= '1' and id_robot= '583' and blocktype= 'informativo' ;\n",
      "Datos enviados INSERT:\n",
      "{'namestate': 'Informativo | e61376a2-83b0-4ccd-90b2-0d3b8d9fc04b | 23985004-9470-9169-4961-397901325837 | oIgvWKILDrYMYDjlgAIk', 'contenido': 'Este es un compuesto', 'next_id': 'Carrusel | c57beb4f-7c32-42f1-8f3d-ff9a810944fc | 23985004-9470-9169-4961-397901325837 | oIgvWKILDrYMYDjlgAIk', 'blocktype': 'informativo', 'contenttype': 'text', 'typingtime': '1', 'id_block': 4116, 'id_robot': 583, 'opc_nextid': None, 'pos_y': None, 'pos_x': None, 'tag_active': None}\n"
     ]
    },
    {
     "name": "stderr",
     "output_type": "stream",
     "text": [
      "127.0.0.1 - - [07/Jul/2021 15:07:59] \"\u001b[37mPOST /insert/bloqueinformativo HTTP/1.1\u001b[0m\" 200 -\n",
      "127.0.0.1 - - [07/Jul/2021 15:07:59] \"\u001b[37mPOST /insert/bloqueinformativo HTTP/1.1\u001b[0m\" 200 -\n",
      "127.0.0.1 - - [07/Jul/2021 15:07:59] \"\u001b[37mPOST /insert/bloqueinformativo HTTP/1.1\u001b[0m\" 200 -\n"
     ]
    },
    {
     "name": "stdout",
     "output_type": "stream",
     "text": [
      "Datos recibidos INSERT:\n",
      "{'next_id': 'Informativo | e61376a2-83b0-4ccd-90b2-0d3b8d9fc04b | 23985004-9470-9169-4961-397901325837 | oIgvWKILDrYMYDjlgAIk', 'namestate': 'Informativo | 2edb2c69-beb8-471f-9799-940599824c36 | oIgvWKILDrYMYDjlgAIk', 'contenido': 'Hola oswaldo', 'contenttype': 'text', 'typingtime': '1', 'id_robot': 583, 'blocktype': 'informativo'}\n",
      "intenatando consulta...\n",
      "consulta: select * from bloqueinformativo where next_id= 'Informativo | e61376a2-83b0-4ccd-90b2-0d3b8d9fc04b | 23985004-9470-9169-4961-397901325837 | oIgvWKILDrYMYDjlgAIk' and namestate= 'Informativo | 2edb2c69-beb8-471f-9799-940599824c36 | oIgvWKILDrYMYDjlgAIk' and contenido= 'Hola oswaldo' and contenttype= 'text' and typingtime= '1' and id_robot= '583' and blocktype= 'informativo' ;\n",
      "Datos enviados INSERT:\n",
      "{'namestate': 'Informativo | 2edb2c69-beb8-471f-9799-940599824c36 | oIgvWKILDrYMYDjlgAIk', 'contenido': 'Hola oswaldo', 'next_id': 'Informativo | e61376a2-83b0-4ccd-90b2-0d3b8d9fc04b | 23985004-9470-9169-4961-397901325837 | oIgvWKILDrYMYDjlgAIk', 'blocktype': 'informativo', 'contenttype': 'text', 'typingtime': '1', 'id_block': 4117, 'id_robot': 583, 'opc_nextid': None, 'pos_y': None, 'pos_x': None, 'tag_active': None}\n",
      "Datos recibidos INSERT:\n",
      "{'next_id': 'Salida', 'namestate': 'Informativo | c172acd8-1edc-4d5b-ac66-fdf02dfe35ff | oIgvWKILDrYMYDjlgAIk', 'contenido': 'Adios Oswa', 'contenttype': 'text', 'typingtime': '1', 'id_robot': 583, 'blocktype': 'informativo'}\n",
      "intenatando consulta...\n",
      "consulta: select * from bloqueinformativo where next_id= 'Salida' and namestate= 'Informativo | c172acd8-1edc-4d5b-ac66-fdf02dfe35ff | oIgvWKILDrYMYDjlgAIk' and contenido= 'Adios Oswa' and contenttype= 'text' and typingtime= '1' and id_robot= '583' and blocktype= 'informativo' ;\n",
      "Datos enviados INSERT:\n",
      "{'namestate': 'Informativo | c172acd8-1edc-4d5b-ac66-fdf02dfe35ff | oIgvWKILDrYMYDjlgAIk', 'contenido': 'Adios Oswa', 'next_id': 'Salida', 'blocktype': 'informativo', 'contenttype': 'text', 'typingtime': '1', 'id_block': 4118, 'id_robot': 583, 'opc_nextid': None, 'pos_y': None, 'pos_x': None, 'tag_active': None}\n",
      "Datos recibidos INSERT:\n",
      "{'next_id': '', 'namestate': 'Salida', 'contenido': '', 'contenttype': 'text', 'typingtime': 3, 'id_robot': 583, 'blocktype': 'informativo'}\n",
      "intenatando consulta...\n",
      "consulta: select * from bloqueinformativo where next_id= '' and namestate= 'Salida' and contenido= '' and contenttype= 'text' and typingtime= '3' and id_robot= '583' and blocktype= 'informativo' ;\n",
      "Datos enviados INSERT:\n",
      "{'namestate': 'Salida', 'contenido': '', 'next_id': '', 'blocktype': 'informativo', 'contenttype': 'text', 'typingtime': '3', 'id_block': 4119, 'id_robot': 583, 'opc_nextid': None, 'pos_y': None, 'pos_x': None, 'tag_active': None}\n"
     ]
    },
    {
     "name": "stderr",
     "output_type": "stream",
     "text": [
      "127.0.0.1 - - [07/Jul/2021 15:10:03] \"\u001b[37mGET /select/robots HTTP/1.1\u001b[0m\" 200 -\n",
      "127.0.0.1 - - [07/Jul/2021 15:10:03] \"\u001b[37mGET /select/bloqueslide HTTP/1.1\u001b[0m\" 200 -\n",
      "127.0.0.1 - - [07/Jul/2021 15:10:03] \"\u001b[37mGET /select/elementos HTTP/1.1\u001b[0m\" 200 -\n"
     ]
    },
    {
     "name": "stdout",
     "output_type": "stream",
     "text": [
      "Datos recibidos SELECT:\n",
      "{'name_robot': 'Oswa1', 'id_face': '106842278334918', 'block_ini': 'Informativo | 2edb2c69-beb8-471f-9799-940599824c36 | oIgvWKILDrYMYDjlgAIk', 'type_blocki': 'informativo', 'access_token': 'EAAFMtaIPwugBAIRPT4mTm2a9nei1940NrJqMbhvvyPwfZAUZA6Id2YaXUeSu06TENy0QoDsprATI0J2ZCGHS2X6UQ4TG2AWkIbNQ3LLGdRMORJZBZBT9BhB58QusrYaXG90RiZAog3r9THJCXmX1m7vjArQ3KoX3PrEGYehS4j6TSblsfU73uf', 'id_user': 'charlygoldcruz@gmail.com', 'api_nlp': 'http://localhost:8282/'}\n",
      "intenatando consulta...\n",
      "consulta: select * from robots where id_face = '106842278334918';\n",
      "Datos enviados SELECT:\n",
      "{'name_robot': 'Oswa1', 'id_face': '106842278334918', 'block_ini': 'Informativo | 2edb2c69-beb8-471f-9799-940599824c36 | oIgvWKILDrYMYDjlgAIk', 'type_blocki': 'informativo', 'access_token': 'EAAFMtaIPwugBAIRPT4mTm2a9nei1940NrJqMbhvvyPwfZAUZA6Id2YaXUeSu06TENy0QoDsprATI0J2ZCGHS2X6UQ4TG2AWkIbNQ3LLGdRMORJZBZBT9BhB58QusrYaXG90RiZAog3r9THJCXmX1m7vjArQ3KoX3PrEGYehS4j6TSblsfU73uf', 'api_nlp': 'http://localhost:8282/', 'id_robot': 583, 'id_user': 'charlygoldcruz@gmail.com'}\n",
      "Datos recibidos SELECT:\n",
      "{'id_robot': '583'}\n",
      "intenatando consulta...\n",
      "consulta: select * from bloqueslide where id_robot= '583' ;\n",
      "Datos enviados SELECT:\n",
      "{'namestate': 'Carrusel | c57beb4f-7c32-42f1-8f3d-ff9a810944fc | 23985004-9470-9169-4961-397901325837 | oIgvWKILDrYMYDjlgAIk', 'next_id': 'Informativo | c172acd8-1edc-4d5b-ac66-fdf02dfe35ff | oIgvWKILDrYMYDjlgAIk,Informativo | c172acd8-1edc-4d5b-ac66-fdf02dfe35ff | oIgvWKILDrYMYDjlgAIk,Informativo | c172acd8-1edc-4d5b-ac66-fdf02dfe35ff | oIgvWKILDrYMYDjlgAIk,Informativo | c172acd8-1edc-4d5b-ac66-fdf02dfe35ff | oIgvWKILDrYMYDjlgAIk,Informativo | c172acd8-1edc-4d5b-ac66-fdf02dfe35ff | oIgvWKILDrYMYDjlgAIk,Informativo | c172acd8-1edc-4d5b-ac66-fdf02dfe35ff | oIgvWKILDrYMYDjlgAIk', 'blocktype': 'slide', 'typingtime': '1', 'default_id': 'Carrusel | c57beb4f-7c32-42f1-8f3d-ff9a810944fc | 23985004-9470-9169-4961-397901325837 | oIgvWKILDrYMYDjlgAIk', 'id_var': '2476', 'id_block': 795, 'id_robot': 583, 'opc_nextid': None, 'pos_y': None, 'pos_x': None, 'opc_elm': None, 'tag_active': None}\n",
      "Datos recibidos SELECT:\n",
      "{'id_block': 795}\n",
      "intenatando consulta...\n",
      "consulta: select * from elementos where id_block= '795' ;\n",
      "Datos enviados SELECT:\n",
      "[{'blocktype': 'slide', 'title': 'Prueba1', 'image_url': 'https://www.gettyimages.es/gi-resources/images/500px/983794168.jpg', 'subtitle': 'sub1', 'id_block': 795, 'id_elements': 1426}, {'blocktype': 'slide', 'title': 'Prueba2', 'image_url': 'https://analyticsindiamag.com/wp-content/uploads/2020/10/7d744a684fe03ebc7e8de545f97739dd.jpg', 'subtitle': 'sub2', 'id_block': 795, 'id_elements': 1427}, {'blocktype': 'slide', 'title': 'Prueba3', 'image_url': 'https://spaceplace.nasa.gov/gallery-sun/en/solar-flare.en.jpg', 'subtitle': 'sub3', 'id_block': 795, 'id_elements': 1428}]\n"
     ]
    },
    {
     "name": "stderr",
     "output_type": "stream",
     "text": [
      "127.0.0.1 - - [07/Jul/2021 15:10:04] \"\u001b[37mPOST /insert/variables HTTP/1.1\u001b[0m\" 200 -\n",
      "127.0.0.1 - - [07/Jul/2021 15:10:04] \"\u001b[37mPOST /insert/bloqueslide HTTP/1.1\u001b[0m\" 200 -\n",
      "127.0.0.1 - - [07/Jul/2021 15:10:04] \"\u001b[37mPOST /insert/elementos HTTP/1.1\u001b[0m\" 200 -\n"
     ]
    },
    {
     "name": "stdout",
     "output_type": "stream",
     "text": [
      "Datos recibidos INSERT:\n",
      "{'name_var': 'variableCarrCarrusel_|_16ad30d3-2b1e-433d-9f31-58de69dacffe7412', 'opc_type': 'Variable', 'var': 0, 'opc_data': 'String', 'id_robot': 583}\n",
      "intenatando consulta...\n",
      "consulta: select * from variables where name_var= 'variableCarrCarrusel_|_16ad30d3-2b1e-433d-9f31-58de69dacffe7412' and opc_type= 'Variable' and var= '0' and opc_data= 'String' and id_robot= '583' ;\n",
      "Datos enviados INSERT:\n",
      "{'id_var': 2477, 'opc_type': 'Variable', 'opc_data': 'String', 'var': '0', 'id_robot': 583, 'name_var': 'variableCarrCarrusel_|_16ad30d3-2b1e-433d-9f31-58de69dacffe7412'}\n",
      "Datos recibidos INSERT:\n",
      "{'namestate': 'Carrusel | 16ad30d3-2b1e-433d-9f31-58de69dacffe | 23985004-9470-9169-4961-397901325837 | oIgvWKILDrYMYDjlgAIk', 'blocktype': 'slide', 'typingtime': '1', 'default_id': 'Carrusel | 16ad30d3-2b1e-433d-9f31-58de69dacffe | 23985004-9470-9169-4961-397901325837 | oIgvWKILDrYMYDjlgAIk', 'id_var': 2477, 'id_robot': 583}\n",
      "intenatando consulta...\n",
      "consulta: select * from bloqueslide where namestate= 'Carrusel | 16ad30d3-2b1e-433d-9f31-58de69dacffe | 23985004-9470-9169-4961-397901325837 | oIgvWKILDrYMYDjlgAIk' and blocktype= 'slide' and typingtime= '1' and default_id= 'Carrusel | 16ad30d3-2b1e-433d-9f31-58de69dacffe | 23985004-9470-9169-4961-397901325837 | oIgvWKILDrYMYDjlgAIk' and id_var= '2477' and id_robot= '583' ;\n",
      "Datos enviados INSERT:\n",
      "{'namestate': 'Carrusel | 16ad30d3-2b1e-433d-9f31-58de69dacffe | 23985004-9470-9169-4961-397901325837 | oIgvWKILDrYMYDjlgAIk', 'next_id': None, 'blocktype': 'slide', 'typingtime': '1', 'default_id': 'Carrusel | 16ad30d3-2b1e-433d-9f31-58de69dacffe | 23985004-9470-9169-4961-397901325837 | oIgvWKILDrYMYDjlgAIk', 'id_var': '2477', 'id_block': 796, 'id_robot': 583, 'opc_nextid': None, 'pos_y': None, 'pos_x': None, 'opc_elm': None, 'tag_active': None}\n",
      "Datos recibidos INSERT:\n",
      "{'image_url': 'https://spaceplace.nasa.gov/gallery-sun/en/solar-flare.en.jpg', 'title': 'P1', 'subtitle': 'S1', 'blocktype': 'slide', 'id_block': 796}\n",
      "intenatando consulta...\n",
      "consulta: select * from elementos where image_url= 'https://spaceplace.nasa.gov/gallery-sun/en/solar-flare.en.jpg' and title= 'P1' and subtitle= 'S1' and blocktype= 'slide' and id_block= '796' ;\n",
      "Datos enviados INSERT:\n",
      "{'blocktype': 'slide', 'title': 'P1', 'image_url': 'https://spaceplace.nasa.gov/gallery-sun/en/solar-flare.en.jpg', 'subtitle': 'S1', 'id_block': 796, 'id_elements': 1429}\n"
     ]
    },
    {
     "name": "stderr",
     "output_type": "stream",
     "text": [
      "127.0.0.1 - - [07/Jul/2021 15:10:04] \"\u001b[37mPOST /insert/botones HTTP/1.1\u001b[0m\" 200 -\n",
      "127.0.0.1 - - [07/Jul/2021 15:10:04] \"\u001b[37mPOST /insert/botones HTTP/1.1\u001b[0m\" 200 -\n"
     ]
    },
    {
     "name": "stdout",
     "output_type": "stream",
     "text": [
      "Datos recibidos INSERT:\n",
      "{'id_elemento': '1429', 'titlebutton': 'www.youtube.com', 'typebutton': 'web_url', 'contentbutton': 'www.youtube.com', 'opc_nextid': 'www.youtube.com'}\n",
      "intenatando consulta...\n",
      "consulta: select * from botones where id_elemento= '1429' and titlebutton= 'www.youtube.com' and typebutton= 'web_url' and contentbutton= 'www.youtube.com' and opc_nextid= 'www.youtube.com' ;\n",
      "Datos enviados INSERT:\n",
      "{'id_elemento': '1429', 'titlebutton': 'www.youtube.com', 'typebutton': 'web_url', 'contentbutton': 'www.youtube.com', 'id_boton': 2662, 'opc_nextid': 'www.youtube.com'}\n",
      "Datos recibidos INSERT:\n",
      "{'id_elemento': '1429', 'titlebutton': 'Op', 'typebutton': 'postback', 'contentbutton': 'Salida', 'opc_nextid': 'Salida'}\n",
      "intenatando consulta...\n",
      "consulta: select * from botones where id_elemento= '1429' and titlebutton= 'Op' and typebutton= 'postback' and contentbutton= 'Salida' and opc_nextid= 'Salida' ;\n",
      "Datos enviados INSERT:\n",
      "{'id_elemento': '1429', 'titlebutton': 'Op', 'typebutton': 'postback', 'contentbutton': 'Salida', 'id_boton': 2663, 'opc_nextid': 'Salida'}\n",
      "Datos recibidos INSERT:\n",
      "{'next_id': 'Carrusel | 16ad30d3-2b1e-433d-9f31-58de69dacffe | 23985004-9470-9169-4961-397901325837 | oIgvWKILDrYMYDjlgAIk', 'namestate': 'Informativo | e61376a2-83b0-4ccd-90b2-0d3b8d9fc04b | 23985004-9470-9169-4961-397901325837 | oIgvWKILDrYMYDjlgAIk', 'contenido': 'Este es un compuesto', 'contenttype': 'text', 'typingtime': '1', 'id_robot': 583, 'blocktype': 'informativo'}\n",
      "intenatando consulta...\n",
      "consulta: select * from bloqueinformativo where next_id= 'Carrusel | 16ad30d3-2b1e-433d-9f31-58de69dacffe | 23985004-9470-9169-4961-397901325837 | oIgvWKILDrYMYDjlgAIk' and namestate= 'Informativo | e61376a2-83b0-4ccd-90b2-0d3b8d9fc04b | 23985004-9470-9169-4961-397901325837 | oIgvWKILDrYMYDjlgAIk' and contenido= 'Este es un compuesto' and contenttype= 'text' and typingtime= '1' and id_robot= '583' and blocktype= 'informativo' ;\n"
     ]
    },
    {
     "name": "stderr",
     "output_type": "stream",
     "text": [
      "127.0.0.1 - - [07/Jul/2021 15:10:04] \"\u001b[37mPOST /insert/bloqueinformativo HTTP/1.1\u001b[0m\" 200 -\n",
      "127.0.0.1 - - [07/Jul/2021 15:10:04] \"\u001b[37mPOST /insert/bloqueinformativo HTTP/1.1\u001b[0m\" 200 -\n",
      "127.0.0.1 - - [07/Jul/2021 15:10:04] \"\u001b[37mPOST /insert/bloqueinformativo HTTP/1.1\u001b[0m\" 200 -\n"
     ]
    },
    {
     "name": "stdout",
     "output_type": "stream",
     "text": [
      "Datos enviados INSERT:\n",
      "{'namestate': 'Informativo | e61376a2-83b0-4ccd-90b2-0d3b8d9fc04b | 23985004-9470-9169-4961-397901325837 | oIgvWKILDrYMYDjlgAIk', 'contenido': 'Este es un compuesto', 'next_id': 'Carrusel | 16ad30d3-2b1e-433d-9f31-58de69dacffe | 23985004-9470-9169-4961-397901325837 | oIgvWKILDrYMYDjlgAIk', 'blocktype': 'informativo', 'contenttype': 'text', 'typingtime': '1', 'id_block': 4120, 'id_robot': 583, 'opc_nextid': None, 'pos_y': None, 'pos_x': None, 'tag_active': None}\n",
      "Datos recibidos INSERT:\n",
      "{'next_id': 'Informativo | e61376a2-83b0-4ccd-90b2-0d3b8d9fc04b | 23985004-9470-9169-4961-397901325837 | oIgvWKILDrYMYDjlgAIk', 'namestate': 'Informativo | 2edb2c69-beb8-471f-9799-940599824c36 | oIgvWKILDrYMYDjlgAIk', 'contenido': 'Hola oswaldo', 'contenttype': 'text', 'typingtime': '1', 'id_robot': 583, 'blocktype': 'informativo'}\n",
      "intenatando consulta...\n",
      "consulta: select * from bloqueinformativo where next_id= 'Informativo | e61376a2-83b0-4ccd-90b2-0d3b8d9fc04b | 23985004-9470-9169-4961-397901325837 | oIgvWKILDrYMYDjlgAIk' and namestate= 'Informativo | 2edb2c69-beb8-471f-9799-940599824c36 | oIgvWKILDrYMYDjlgAIk' and contenido= 'Hola oswaldo' and contenttype= 'text' and typingtime= '1' and id_robot= '583' and blocktype= 'informativo' ;\n",
      "Datos enviados INSERT:\n",
      "{'namestate': 'Informativo | 2edb2c69-beb8-471f-9799-940599824c36 | oIgvWKILDrYMYDjlgAIk', 'contenido': 'Hola oswaldo', 'next_id': 'Informativo | e61376a2-83b0-4ccd-90b2-0d3b8d9fc04b | 23985004-9470-9169-4961-397901325837 | oIgvWKILDrYMYDjlgAIk', 'blocktype': 'informativo', 'contenttype': 'text', 'typingtime': '1', 'id_block': 4121, 'id_robot': 583, 'opc_nextid': None, 'pos_y': None, 'pos_x': None, 'tag_active': None}\n",
      "Datos recibidos INSERT:\n",
      "{'next_id': 'Salida', 'namestate': 'Informativo | c172acd8-1edc-4d5b-ac66-fdf02dfe35ff | oIgvWKILDrYMYDjlgAIk', 'contenido': 'Adios Oswa', 'contenttype': 'text', 'typingtime': '1', 'id_robot': 583, 'blocktype': 'informativo'}\n",
      "intenatando consulta...\n",
      "consulta: select * from bloqueinformativo where next_id= 'Salida' and namestate= 'Informativo | c172acd8-1edc-4d5b-ac66-fdf02dfe35ff | oIgvWKILDrYMYDjlgAIk' and contenido= 'Adios Oswa' and contenttype= 'text' and typingtime= '1' and id_robot= '583' and blocktype= 'informativo' ;\n",
      "Datos enviados INSERT:\n",
      "{'namestate': 'Informativo | c172acd8-1edc-4d5b-ac66-fdf02dfe35ff | oIgvWKILDrYMYDjlgAIk', 'contenido': 'Adios Oswa', 'next_id': 'Salida', 'blocktype': 'informativo', 'contenttype': 'text', 'typingtime': '1', 'id_block': 4122, 'id_robot': 583, 'opc_nextid': None, 'pos_y': None, 'pos_x': None, 'tag_active': None}\n",
      "Datos recibidos INSERT:\n",
      "{'next_id': '', 'namestate': 'Salida', 'contenido': '', 'contenttype': 'text', 'typingtime': 3, 'id_robot': 583, 'blocktype': 'informativo'}\n"
     ]
    },
    {
     "name": "stderr",
     "output_type": "stream",
     "text": [
      "127.0.0.1 - - [07/Jul/2021 15:10:04] \"\u001b[37mPOST /insert/bloqueinformativo HTTP/1.1\u001b[0m\" 200 -\n"
     ]
    },
    {
     "name": "stdout",
     "output_type": "stream",
     "text": [
      "intenatando consulta...\n",
      "consulta: select * from bloqueinformativo where next_id= '' and namestate= 'Salida' and contenido= '' and contenttype= 'text' and typingtime= '3' and id_robot= '583' and blocktype= 'informativo' ;\n",
      "Datos enviados INSERT:\n",
      "{'namestate': 'Salida', 'contenido': '', 'next_id': '', 'blocktype': 'informativo', 'contenttype': 'text', 'typingtime': '3', 'id_block': 4123, 'id_robot': 583, 'opc_nextid': None, 'pos_y': None, 'pos_x': None, 'tag_active': None}\n"
     ]
    },
    {
     "name": "stderr",
     "output_type": "stream",
     "text": [
      "127.0.0.1 - - [07/Jul/2021 15:10:19] \"\u001b[37mGET /select/robots HTTP/1.1\u001b[0m\" 200 -\n",
      "127.0.0.1 - - [07/Jul/2021 15:10:19] \"\u001b[37mGET /select/bloqueslide HTTP/1.1\u001b[0m\" 200 -\n",
      "127.0.0.1 - - [07/Jul/2021 15:10:19] \"\u001b[37mGET /select/elementos HTTP/1.1\u001b[0m\" 200 -\n"
     ]
    },
    {
     "name": "stdout",
     "output_type": "stream",
     "text": [
      "Datos recibidos SELECT:\n",
      "{'name_robot': 'Oswa1', 'id_face': '106842278334918', 'block_ini': 'Informativo | 2edb2c69-beb8-471f-9799-940599824c36 | oIgvWKILDrYMYDjlgAIk', 'type_blocki': 'informativo', 'access_token': 'EAAFMtaIPwugBAIRPT4mTm2a9nei1940NrJqMbhvvyPwfZAUZA6Id2YaXUeSu06TENy0QoDsprATI0J2ZCGHS2X6UQ4TG2AWkIbNQ3LLGdRMORJZBZBT9BhB58QusrYaXG90RiZAog3r9THJCXmX1m7vjArQ3KoX3PrEGYehS4j6TSblsfU73uf', 'id_user': 'charlygoldcruz@gmail.com', 'api_nlp': 'http://localhost:8282/'}\n",
      "intenatando consulta...\n",
      "consulta: select * from robots where id_face = '106842278334918';\n",
      "Datos enviados SELECT:\n",
      "{'name_robot': 'Oswa1', 'id_face': '106842278334918', 'block_ini': 'Informativo | 2edb2c69-beb8-471f-9799-940599824c36 | oIgvWKILDrYMYDjlgAIk', 'type_blocki': 'informativo', 'access_token': 'EAAFMtaIPwugBAIRPT4mTm2a9nei1940NrJqMbhvvyPwfZAUZA6Id2YaXUeSu06TENy0QoDsprATI0J2ZCGHS2X6UQ4TG2AWkIbNQ3LLGdRMORJZBZBT9BhB58QusrYaXG90RiZAog3r9THJCXmX1m7vjArQ3KoX3PrEGYehS4j6TSblsfU73uf', 'api_nlp': 'http://localhost:8282/', 'id_robot': 583, 'id_user': 'charlygoldcruz@gmail.com'}\n",
      "Datos recibidos SELECT:\n",
      "{'id_robot': '583'}\n",
      "intenatando consulta...\n",
      "consulta: select * from bloqueslide where id_robot= '583' ;\n",
      "Datos enviados SELECT:\n",
      "{'namestate': 'Carrusel | 16ad30d3-2b1e-433d-9f31-58de69dacffe | 23985004-9470-9169-4961-397901325837 | oIgvWKILDrYMYDjlgAIk', 'next_id': 'www.youtube.com,Salida', 'blocktype': 'slide', 'typingtime': '1', 'default_id': 'Carrusel | 16ad30d3-2b1e-433d-9f31-58de69dacffe | 23985004-9470-9169-4961-397901325837 | oIgvWKILDrYMYDjlgAIk', 'id_var': '2477', 'id_block': 796, 'id_robot': 583, 'opc_nextid': None, 'pos_y': None, 'pos_x': None, 'opc_elm': None, 'tag_active': None}\n",
      "Datos recibidos SELECT:\n",
      "{'id_block': 796}\n",
      "intenatando consulta...\n",
      "consulta: select * from elementos where id_block= '796' ;\n",
      "Datos enviados SELECT:\n",
      "{'blocktype': 'slide', 'title': 'P1', 'image_url': 'https://spaceplace.nasa.gov/gallery-sun/en/solar-flare.en.jpg', 'subtitle': 'S1', 'id_block': 796, 'id_elements': 1429}\n"
     ]
    },
    {
     "name": "stderr",
     "output_type": "stream",
     "text": [
      "127.0.0.1 - - [07/Jul/2021 15:10:19] \"\u001b[37mPOST /insert/variables HTTP/1.1\u001b[0m\" 200 -\n",
      "127.0.0.1 - - [07/Jul/2021 15:10:19] \"\u001b[37mPOST /insert/bloqueslide HTTP/1.1\u001b[0m\" 200 -\n",
      "127.0.0.1 - - [07/Jul/2021 15:10:19] \"\u001b[37mPOST /insert/elementos HTTP/1.1\u001b[0m\" 200 -\n"
     ]
    },
    {
     "name": "stdout",
     "output_type": "stream",
     "text": [
      "Datos recibidos INSERT:\n",
      "{'name_var': 'variableCarrCarrusel_|_16ad30d3-2b1e-433d-9f31-58de69dacffe9949', 'opc_type': 'Variable', 'var': 0, 'opc_data': 'String', 'id_robot': 583}\n",
      "intenatando consulta...\n",
      "consulta: select * from variables where name_var= 'variableCarrCarrusel_|_16ad30d3-2b1e-433d-9f31-58de69dacffe9949' and opc_type= 'Variable' and var= '0' and opc_data= 'String' and id_robot= '583' ;\n",
      "Datos enviados INSERT:\n",
      "{'id_var': 2478, 'opc_type': 'Variable', 'opc_data': 'String', 'var': '0', 'id_robot': 583, 'name_var': 'variableCarrCarrusel_|_16ad30d3-2b1e-433d-9f31-58de69dacffe9949'}\n",
      "Datos recibidos INSERT:\n",
      "{'namestate': 'Carrusel | 16ad30d3-2b1e-433d-9f31-58de69dacffe | 23985004-9470-9169-4961-397901325837 | oIgvWKILDrYMYDjlgAIk', 'blocktype': 'slide', 'typingtime': '1', 'default_id': 'Carrusel | 16ad30d3-2b1e-433d-9f31-58de69dacffe | 23985004-9470-9169-4961-397901325837 | oIgvWKILDrYMYDjlgAIk', 'id_var': 2478, 'id_robot': 583}\n",
      "intenatando consulta...\n",
      "consulta: select * from bloqueslide where namestate= 'Carrusel | 16ad30d3-2b1e-433d-9f31-58de69dacffe | 23985004-9470-9169-4961-397901325837 | oIgvWKILDrYMYDjlgAIk' and blocktype= 'slide' and typingtime= '1' and default_id= 'Carrusel | 16ad30d3-2b1e-433d-9f31-58de69dacffe | 23985004-9470-9169-4961-397901325837 | oIgvWKILDrYMYDjlgAIk' and id_var= '2478' and id_robot= '583' ;\n",
      "Datos enviados INSERT:\n",
      "{'namestate': 'Carrusel | 16ad30d3-2b1e-433d-9f31-58de69dacffe | 23985004-9470-9169-4961-397901325837 | oIgvWKILDrYMYDjlgAIk', 'next_id': None, 'blocktype': 'slide', 'typingtime': '1', 'default_id': 'Carrusel | 16ad30d3-2b1e-433d-9f31-58de69dacffe | 23985004-9470-9169-4961-397901325837 | oIgvWKILDrYMYDjlgAIk', 'id_var': '2478', 'id_block': 797, 'id_robot': 583, 'opc_nextid': None, 'pos_y': None, 'pos_x': None, 'opc_elm': None, 'tag_active': None}\n",
      "Datos recibidos INSERT:\n",
      "{'image_url': 'https://spaceplace.nasa.gov/gallery-sun/en/solar-flare.en.jpg', 'subtitle': 'S1', 'title': 'P1', 'blocktype': 'slide', 'id_block': 797}\n",
      "intenatando consulta...\n",
      "consulta: select * from elementos where image_url= 'https://spaceplace.nasa.gov/gallery-sun/en/solar-flare.en.jpg' and subtitle= 'S1' and title= 'P1' and blocktype= 'slide' and id_block= '797' ;\n",
      "Datos enviados INSERT:\n",
      "{'blocktype': 'slide', 'title': 'P1', 'image_url': 'https://spaceplace.nasa.gov/gallery-sun/en/solar-flare.en.jpg', 'subtitle': 'S1', 'id_block': 797, 'id_elements': 1430}\n",
      "Datos recibidos INSERT:\n",
      "{'id_elemento': '1430', 'titlebutton': 'www.youtube.com', 'typebutton': 'web_url', 'contentbutton': 'www.youtube.com', 'opc_nextid': 'www.youtube.com'}\n"
     ]
    },
    {
     "name": "stderr",
     "output_type": "stream",
     "text": [
      "127.0.0.1 - - [07/Jul/2021 15:10:19] \"\u001b[37mPOST /insert/botones HTTP/1.1\u001b[0m\" 200 -\n",
      "127.0.0.1 - - [07/Jul/2021 15:10:19] \"\u001b[37mPOST /insert/botones HTTP/1.1\u001b[0m\" 200 -\n"
     ]
    },
    {
     "name": "stdout",
     "output_type": "stream",
     "text": [
      "intenatando consulta...\n",
      "consulta: select * from botones where id_elemento= '1430' and titlebutton= 'www.youtube.com' and typebutton= 'web_url' and contentbutton= 'www.youtube.com' and opc_nextid= 'www.youtube.com' ;\n",
      "Datos enviados INSERT:\n",
      "{'id_elemento': '1430', 'titlebutton': 'www.youtube.com', 'typebutton': 'web_url', 'contentbutton': 'www.youtube.com', 'id_boton': 2664, 'opc_nextid': 'www.youtube.com'}\n",
      "Datos recibidos INSERT:\n",
      "{'id_elemento': '1430', 'titlebutton': 'Op', 'typebutton': 'postback', 'contentbutton': 'Informativo | c172acd8-1edc-4d5b-ac66-fdf02dfe35ff | oIgvWKILDrYMYDjlgAIk', 'opc_nextid': 'Informativo | c172acd8-1edc-4d5b-ac66-fdf02dfe35ff | oIgvWKILDrYMYDjlgAIk'}\n",
      "intenatando consulta...\n",
      "consulta: select * from botones where id_elemento= '1430' and titlebutton= 'Op' and typebutton= 'postback' and contentbutton= 'Informativo | c172acd8-1edc-4d5b-ac66-fdf02dfe35ff | oIgvWKILDrYMYDjlgAIk' and opc_nextid= 'Informativo | c172acd8-1edc-4d5b-ac66-fdf02dfe35ff | oIgvWKILDrYMYDjlgAIk' ;\n",
      "Datos enviados INSERT:\n",
      "{'id_elemento': '1430', 'titlebutton': 'Op', 'typebutton': 'postback', 'contentbutton': 'Informativo | c172acd8-1edc-4d5b-ac66-fdf02dfe35ff | oIgvWKILDrYMYDjlgAIk', 'id_boton': 2665, 'opc_nextid': 'Informativo | c172acd8-1edc-4d5b-ac66-fdf02dfe35ff | oIgvWKILDrYMYDjlgAIk'}\n",
      "Datos recibidos INSERT:\n",
      "{'next_id': 'Carrusel | 16ad30d3-2b1e-433d-9f31-58de69dacffe | 23985004-9470-9169-4961-397901325837 | oIgvWKILDrYMYDjlgAIk', 'namestate': 'Informativo | e61376a2-83b0-4ccd-90b2-0d3b8d9fc04b | 23985004-9470-9169-4961-397901325837 | oIgvWKILDrYMYDjlgAIk', 'contenido': 'Este es un compuesto', 'contenttype': 'text', 'typingtime': '1', 'id_robot': 583, 'blocktype': 'informativo'}\n",
      "intenatando consulta...\n",
      "consulta: select * from bloqueinformativo where next_id= 'Carrusel | 16ad30d3-2b1e-433d-9f31-58de69dacffe | 23985004-9470-9169-4961-397901325837 | oIgvWKILDrYMYDjlgAIk' and namestate= 'Informativo | e61376a2-83b0-4ccd-90b2-0d3b8d9fc04b | 23985004-9470-9169-4961-397901325837 | oIgvWKILDrYMYDjlgAIk' and contenido= 'Este es un compuesto' and contenttype= 'text' and typingtime= '1' and id_robot= '583' and blocktype= 'informativo' ;\n"
     ]
    },
    {
     "name": "stderr",
     "output_type": "stream",
     "text": [
      "127.0.0.1 - - [07/Jul/2021 15:10:20] \"\u001b[37mPOST /insert/bloqueinformativo HTTP/1.1\u001b[0m\" 200 -\n",
      "127.0.0.1 - - [07/Jul/2021 15:10:20] \"\u001b[37mPOST /insert/bloqueinformativo HTTP/1.1\u001b[0m\" 200 -\n",
      "127.0.0.1 - - [07/Jul/2021 15:10:20] \"\u001b[37mPOST /insert/bloqueinformativo HTTP/1.1\u001b[0m\" 200 -\n"
     ]
    },
    {
     "name": "stdout",
     "output_type": "stream",
     "text": [
      "Datos enviados INSERT:\n",
      "{'namestate': 'Informativo | e61376a2-83b0-4ccd-90b2-0d3b8d9fc04b | 23985004-9470-9169-4961-397901325837 | oIgvWKILDrYMYDjlgAIk', 'contenido': 'Este es un compuesto', 'next_id': 'Carrusel | 16ad30d3-2b1e-433d-9f31-58de69dacffe | 23985004-9470-9169-4961-397901325837 | oIgvWKILDrYMYDjlgAIk', 'blocktype': 'informativo', 'contenttype': 'text', 'typingtime': '1', 'id_block': 4124, 'id_robot': 583, 'opc_nextid': None, 'pos_y': None, 'pos_x': None, 'tag_active': None}\n",
      "Datos recibidos INSERT:\n",
      "{'next_id': 'Informativo | e61376a2-83b0-4ccd-90b2-0d3b8d9fc04b | 23985004-9470-9169-4961-397901325837 | oIgvWKILDrYMYDjlgAIk', 'namestate': 'Informativo | 2edb2c69-beb8-471f-9799-940599824c36 | oIgvWKILDrYMYDjlgAIk', 'contenido': 'Hola oswaldo', 'contenttype': 'text', 'typingtime': '1', 'id_robot': 583, 'blocktype': 'informativo'}\n",
      "intenatando consulta...\n",
      "consulta: select * from bloqueinformativo where next_id= 'Informativo | e61376a2-83b0-4ccd-90b2-0d3b8d9fc04b | 23985004-9470-9169-4961-397901325837 | oIgvWKILDrYMYDjlgAIk' and namestate= 'Informativo | 2edb2c69-beb8-471f-9799-940599824c36 | oIgvWKILDrYMYDjlgAIk' and contenido= 'Hola oswaldo' and contenttype= 'text' and typingtime= '1' and id_robot= '583' and blocktype= 'informativo' ;\n",
      "Datos enviados INSERT:\n",
      "{'namestate': 'Informativo | 2edb2c69-beb8-471f-9799-940599824c36 | oIgvWKILDrYMYDjlgAIk', 'contenido': 'Hola oswaldo', 'next_id': 'Informativo | e61376a2-83b0-4ccd-90b2-0d3b8d9fc04b | 23985004-9470-9169-4961-397901325837 | oIgvWKILDrYMYDjlgAIk', 'blocktype': 'informativo', 'contenttype': 'text', 'typingtime': '1', 'id_block': 4125, 'id_robot': 583, 'opc_nextid': None, 'pos_y': None, 'pos_x': None, 'tag_active': None}\n",
      "Datos recibidos INSERT:\n",
      "{'next_id': 'Salida', 'namestate': 'Informativo | c172acd8-1edc-4d5b-ac66-fdf02dfe35ff | oIgvWKILDrYMYDjlgAIk', 'contenido': 'Adios Oswa', 'contenttype': 'text', 'typingtime': '1', 'id_robot': 583, 'blocktype': 'informativo'}\n",
      "intenatando consulta...\n",
      "consulta: select * from bloqueinformativo where next_id= 'Salida' and namestate= 'Informativo | c172acd8-1edc-4d5b-ac66-fdf02dfe35ff | oIgvWKILDrYMYDjlgAIk' and contenido= 'Adios Oswa' and contenttype= 'text' and typingtime= '1' and id_robot= '583' and blocktype= 'informativo' ;\n",
      "Datos enviados INSERT:\n",
      "{'namestate': 'Informativo | c172acd8-1edc-4d5b-ac66-fdf02dfe35ff | oIgvWKILDrYMYDjlgAIk', 'contenido': 'Adios Oswa', 'next_id': 'Salida', 'blocktype': 'informativo', 'contenttype': 'text', 'typingtime': '1', 'id_block': 4126, 'id_robot': 583, 'opc_nextid': None, 'pos_y': None, 'pos_x': None, 'tag_active': None}\n",
      "Datos recibidos INSERT:\n",
      "{'next_id': '', 'namestate': 'Salida', 'contenido': '', 'contenttype': 'text', 'typingtime': 3, 'id_robot': 583, 'blocktype': 'informativo'}\n"
     ]
    },
    {
     "name": "stderr",
     "output_type": "stream",
     "text": [
      "127.0.0.1 - - [07/Jul/2021 15:10:20] \"\u001b[37mPOST /insert/bloqueinformativo HTTP/1.1\u001b[0m\" 200 -\n"
     ]
    },
    {
     "name": "stdout",
     "output_type": "stream",
     "text": [
      "intenatando consulta...\n",
      "consulta: select * from bloqueinformativo where next_id= '' and namestate= 'Salida' and contenido= '' and contenttype= 'text' and typingtime= '3' and id_robot= '583' and blocktype= 'informativo' ;\n",
      "Datos enviados INSERT:\n",
      "{'namestate': 'Salida', 'contenido': '', 'next_id': '', 'blocktype': 'informativo', 'contenttype': 'text', 'typingtime': '3', 'id_block': 4127, 'id_robot': 583, 'opc_nextid': None, 'pos_y': None, 'pos_x': None, 'tag_active': None}\n"
     ]
    },
    {
     "name": "stderr",
     "output_type": "stream",
     "text": [
      "127.0.0.1 - - [07/Jul/2021 15:12:11] \"\u001b[37mGET /select/robots HTTP/1.1\u001b[0m\" 200 -\n",
      "127.0.0.1 - - [07/Jul/2021 15:12:12] \"\u001b[37mPOST /insert/robots HTTP/1.1\u001b[0m\" 200 -\n",
      "127.0.0.1 - - [07/Jul/2021 15:12:12] \"\u001b[37mPOST /insert/variables HTTP/1.1\u001b[0m\" 200 -\n"
     ]
    },
    {
     "name": "stdout",
     "output_type": "stream",
     "text": [
      "Datos recibidos SELECT:\n",
      "{'name_robot': 'Oswa2', 'id_face': '109253348089942', 'block_ini': 'Informativo | d602e284-c054-4f7f-90b0-3d079f8908e4 | XTHyJxz6aPUIFVONQdUE', 'type_blocki': 'informativo', 'access_token': 'EAAFMtaIPwugBABaSyaEaQxCjZB05xZAs5fag2JZCZB9LcVSFPJtAjcu48PewIfljpztLDiWZCZAINUghHfyn85rSKQxPnfZAMZA3DScogyb4Q1cg91NEiEgVLhlsHJXakq9diPLuJtiRqZC8kCp4MfZCllTvoPR0Jad4B0r0JWp8foAffcrjKebrSp', 'id_user': 'charlygoldcruz@gmail.com', 'api_nlp': 'http://localhost:8282/'}\n",
      "intenatando consulta...\n",
      "consulta: select * from robots where id_face = '109253348089942';\n",
      "La consulta no trajo nada\n",
      "Datos enviados SELECT:\n",
      "{'error': 'true'}\n",
      "Datos recibidos INSERT:\n",
      "{'name_robot': 'Oswa2', 'id_face': '109253348089942', 'block_ini': 'Informativo | d602e284-c054-4f7f-90b0-3d079f8908e4 | XTHyJxz6aPUIFVONQdUE', 'type_blocki': 'informativo', 'access_token': 'EAAFMtaIPwugBABaSyaEaQxCjZB05xZAs5fag2JZCZB9LcVSFPJtAjcu48PewIfljpztLDiWZCZAINUghHfyn85rSKQxPnfZAMZA3DScogyb4Q1cg91NEiEgVLhlsHJXakq9diPLuJtiRqZC8kCp4MfZCllTvoPR0Jad4B0r0JWp8foAffcrjKebrSp', 'id_user': 'charlygoldcruz@gmail.com', 'api_nlp': 'http://localhost:8282/'}\n",
      "intenatando consulta...\n",
      "consulta: select * from robots where id_face = '109253348089942';\n",
      "Datos enviados INSERT:\n",
      "{'name_robot': 'Oswa2', 'id_face': '109253348089942', 'block_ini': 'Informativo | d602e284-c054-4f7f-90b0-3d079f8908e4 | XTHyJxz6aPUIFVONQdUE', 'type_blocki': 'informativo', 'access_token': 'EAAFMtaIPwugBABaSyaEaQxCjZB05xZAs5fag2JZCZB9LcVSFPJtAjcu48PewIfljpztLDiWZCZAINUghHfyn85rSKQxPnfZAMZA3DScogyb4Q1cg91NEiEgVLhlsHJXakq9diPLuJtiRqZC8kCp4MfZCllTvoPR0Jad4B0r0JWp8foAffcrjKebrSp', 'api_nlp': 'http://localhost:8282/', 'id_robot': 584, 'id_user': 'charlygoldcruz@gmail.com'}\n",
      "Datos recibidos INSERT:\n",
      "{'name_var': 'variableCarrCarrusel_|_16ad30d3-2b1e-433d-9f31-58de69dacffe8259', 'opc_type': 'Variable', 'var': 0, 'opc_data': 'String', 'id_robot': 584}\n",
      "intenatando consulta...\n",
      "consulta: select * from variables where name_var= 'variableCarrCarrusel_|_16ad30d3-2b1e-433d-9f31-58de69dacffe8259' and opc_type= 'Variable' and var= '0' and opc_data= 'String' and id_robot= '584' ;\n",
      "Datos enviados INSERT:\n",
      "{'id_var': 2479, 'opc_type': 'Variable', 'opc_data': 'String', 'var': '0', 'id_robot': 584, 'name_var': 'variableCarrCarrusel_|_16ad30d3-2b1e-433d-9f31-58de69dacffe8259'}\n",
      "Datos recibidos INSERT:\n",
      "{'namestate': 'Carrusel | 16ad30d3-2b1e-433d-9f31-58de69dacffe | 46973551-1467-4450-7433-103925931451 | XTHyJxz6aPUIFVONQdUE', 'blocktype': 'slide', 'typingtime': '1', 'default_id': 'Carrusel | 16ad30d3-2b1e-433d-9f31-58de69dacffe | 46973551-1467-4450-7433-103925931451 | XTHyJxz6aPUIFVONQdUE', 'id_var': 2479, 'id_robot': 584}\n"
     ]
    },
    {
     "name": "stderr",
     "output_type": "stream",
     "text": [
      "127.0.0.1 - - [07/Jul/2021 15:12:12] \"\u001b[37mPOST /insert/bloqueslide HTTP/1.1\u001b[0m\" 200 -\n",
      "127.0.0.1 - - [07/Jul/2021 15:12:12] \"\u001b[37mPOST /insert/elementos HTTP/1.1\u001b[0m\" 200 -\n",
      "127.0.0.1 - - [07/Jul/2021 15:12:12] \"\u001b[37mPOST /insert/botones HTTP/1.1\u001b[0m\" 200 -\n"
     ]
    },
    {
     "name": "stdout",
     "output_type": "stream",
     "text": [
      "intenatando consulta...\n",
      "consulta: select * from bloqueslide where namestate= 'Carrusel | 16ad30d3-2b1e-433d-9f31-58de69dacffe | 46973551-1467-4450-7433-103925931451 | XTHyJxz6aPUIFVONQdUE' and blocktype= 'slide' and typingtime= '1' and default_id= 'Carrusel | 16ad30d3-2b1e-433d-9f31-58de69dacffe | 46973551-1467-4450-7433-103925931451 | XTHyJxz6aPUIFVONQdUE' and id_var= '2479' and id_robot= '584' ;\n",
      "Datos enviados INSERT:\n",
      "{'namestate': 'Carrusel | 16ad30d3-2b1e-433d-9f31-58de69dacffe | 46973551-1467-4450-7433-103925931451 | XTHyJxz6aPUIFVONQdUE', 'next_id': None, 'blocktype': 'slide', 'typingtime': '1', 'default_id': 'Carrusel | 16ad30d3-2b1e-433d-9f31-58de69dacffe | 46973551-1467-4450-7433-103925931451 | XTHyJxz6aPUIFVONQdUE', 'id_var': '2479', 'id_block': 798, 'id_robot': 584, 'opc_nextid': None, 'pos_y': None, 'pos_x': None, 'opc_elm': None, 'tag_active': None}\n",
      "Datos recibidos INSERT:\n",
      "{'image_url': 'https://spaceplace.nasa.gov/gallery-sun/en/solar-flare.en.jpg', 'subtitle': 'S1', 'title': 'P1', 'blocktype': 'slide', 'id_block': 798}\n",
      "intenatando consulta...\n",
      "consulta: select * from elementos where image_url= 'https://spaceplace.nasa.gov/gallery-sun/en/solar-flare.en.jpg' and subtitle= 'S1' and title= 'P1' and blocktype= 'slide' and id_block= '798' ;\n",
      "Datos enviados INSERT:\n",
      "{'blocktype': 'slide', 'title': 'P1', 'image_url': 'https://spaceplace.nasa.gov/gallery-sun/en/solar-flare.en.jpg', 'subtitle': 'S1', 'id_block': 798, 'id_elements': 1431}\n",
      "Datos recibidos INSERT:\n",
      "{'id_elemento': '1431', 'titlebutton': 'www.youtube.com', 'typebutton': 'web_url', 'contentbutton': 'www.youtube.com', 'opc_nextid': 'www.youtube.com'}\n",
      "intenatando consulta...\n",
      "consulta: select * from botones where id_elemento= '1431' and titlebutton= 'www.youtube.com' and typebutton= 'web_url' and contentbutton= 'www.youtube.com' and opc_nextid= 'www.youtube.com' ;\n",
      "Datos enviados INSERT:\n",
      "{'id_elemento': '1431', 'titlebutton': 'www.youtube.com', 'typebutton': 'web_url', 'contentbutton': 'www.youtube.com', 'id_boton': 2666, 'opc_nextid': 'www.youtube.com'}\n",
      "Datos recibidos INSERT:\n",
      "{'id_elemento': '1431', 'titlebutton': 'Op', 'typebutton': 'postback', 'contentbutton': 'Informativo | 38f82c6d-a32e-4687-ae19-71aebb228e68 | XTHyJxz6aPUIFVONQdUE', 'opc_nextid': 'Informativo | 38f82c6d-a32e-4687-ae19-71aebb228e68 | XTHyJxz6aPUIFVONQdUE'}\n",
      "intenatando consulta...\n",
      "consulta: select * from botones where id_elemento= '1431' and titlebutton= 'Op' and typebutton= 'postback' and contentbutton= 'Informativo | 38f82c6d-a32e-4687-ae19-71aebb228e68 | XTHyJxz6aPUIFVONQdUE' and opc_nextid= 'Informativo | 38f82c6d-a32e-4687-ae19-71aebb228e68 | XTHyJxz6aPUIFVONQdUE' ;\n"
     ]
    },
    {
     "name": "stderr",
     "output_type": "stream",
     "text": [
      "127.0.0.1 - - [07/Jul/2021 15:12:12] \"\u001b[37mPOST /insert/botones HTTP/1.1\u001b[0m\" 200 -\n",
      "127.0.0.1 - - [07/Jul/2021 15:12:12] \"\u001b[37mPOST /insert/bloqueinformativo HTTP/1.1\u001b[0m\" 200 -\n",
      "127.0.0.1 - - [07/Jul/2021 15:12:12] \"\u001b[37mPOST /insert/bloqueinformativo HTTP/1.1\u001b[0m\" 200 -\n"
     ]
    },
    {
     "name": "stdout",
     "output_type": "stream",
     "text": [
      "Datos enviados INSERT:\n",
      "{'id_elemento': '1431', 'titlebutton': 'Op', 'typebutton': 'postback', 'contentbutton': 'Informativo | 38f82c6d-a32e-4687-ae19-71aebb228e68 | XTHyJxz6aPUIFVONQdUE', 'id_boton': 2667, 'opc_nextid': 'Informativo | 38f82c6d-a32e-4687-ae19-71aebb228e68 | XTHyJxz6aPUIFVONQdUE'}\n",
      "Datos recibidos INSERT:\n",
      "{'next_id': 'Carrusel | 16ad30d3-2b1e-433d-9f31-58de69dacffe | 46973551-1467-4450-7433-103925931451 | XTHyJxz6aPUIFVONQdUE', 'namestate': 'Informativo | e61376a2-83b0-4ccd-90b2-0d3b8d9fc04b | 46973551-1467-4450-7433-103925931451 | XTHyJxz6aPUIFVONQdUE', 'contenido': 'Este es un compuesto', 'contenttype': 'text', 'typingtime': '1', 'id_robot': 584, 'blocktype': 'informativo'}\n",
      "intenatando consulta...\n",
      "consulta: select * from bloqueinformativo where next_id= 'Carrusel | 16ad30d3-2b1e-433d-9f31-58de69dacffe | 46973551-1467-4450-7433-103925931451 | XTHyJxz6aPUIFVONQdUE' and namestate= 'Informativo | e61376a2-83b0-4ccd-90b2-0d3b8d9fc04b | 46973551-1467-4450-7433-103925931451 | XTHyJxz6aPUIFVONQdUE' and contenido= 'Este es un compuesto' and contenttype= 'text' and typingtime= '1' and id_robot= '584' and blocktype= 'informativo' ;\n",
      "Datos enviados INSERT:\n",
      "{'namestate': 'Informativo | e61376a2-83b0-4ccd-90b2-0d3b8d9fc04b | 46973551-1467-4450-7433-103925931451 | XTHyJxz6aPUIFVONQdUE', 'contenido': 'Este es un compuesto', 'next_id': 'Carrusel | 16ad30d3-2b1e-433d-9f31-58de69dacffe | 46973551-1467-4450-7433-103925931451 | XTHyJxz6aPUIFVONQdUE', 'blocktype': 'informativo', 'contenttype': 'text', 'typingtime': '1', 'id_block': 4128, 'id_robot': 584, 'opc_nextid': None, 'pos_y': None, 'pos_x': None, 'tag_active': None}\n",
      "Datos recibidos INSERT:\n",
      "{'next_id': 'Informativo | e61376a2-83b0-4ccd-90b2-0d3b8d9fc04b | 46973551-1467-4450-7433-103925931451 | XTHyJxz6aPUIFVONQdUE', 'namestate': 'Informativo | d602e284-c054-4f7f-90b0-3d079f8908e4 | XTHyJxz6aPUIFVONQdUE', 'contenido': 'Hola soy bot2', 'contenttype': 'text', 'typingtime': '1', 'id_robot': 584, 'blocktype': 'informativo'}\n",
      "intenatando consulta...\n",
      "consulta: select * from bloqueinformativo where next_id= 'Informativo | e61376a2-83b0-4ccd-90b2-0d3b8d9fc04b | 46973551-1467-4450-7433-103925931451 | XTHyJxz6aPUIFVONQdUE' and namestate= 'Informativo | d602e284-c054-4f7f-90b0-3d079f8908e4 | XTHyJxz6aPUIFVONQdUE' and contenido= 'Hola soy bot2' and contenttype= 'text' and typingtime= '1' and id_robot= '584' and blocktype= 'informativo' ;\n",
      "Datos enviados INSERT:\n",
      "{'namestate': 'Informativo | d602e284-c054-4f7f-90b0-3d079f8908e4 | XTHyJxz6aPUIFVONQdUE', 'contenido': 'Hola soy bot2', 'next_id': 'Informativo | e61376a2-83b0-4ccd-90b2-0d3b8d9fc04b | 46973551-1467-4450-7433-103925931451 | XTHyJxz6aPUIFVONQdUE', 'blocktype': 'informativo', 'contenttype': 'text', 'typingtime': '1', 'id_block': 4129, 'id_robot': 584, 'opc_nextid': None, 'pos_y': None, 'pos_x': None, 'tag_active': None}\n"
     ]
    },
    {
     "name": "stderr",
     "output_type": "stream",
     "text": [
      "127.0.0.1 - - [07/Jul/2021 15:12:12] \"\u001b[37mPOST /insert/bloqueinformativo HTTP/1.1\u001b[0m\" 200 -\n",
      "127.0.0.1 - - [07/Jul/2021 15:12:12] \"\u001b[37mPOST /insert/bloqueinformativo HTTP/1.1\u001b[0m\" 200 -\n"
     ]
    },
    {
     "name": "stdout",
     "output_type": "stream",
     "text": [
      "Datos recibidos INSERT:\n",
      "{'next_id': 'Salida', 'namestate': 'Informativo | 38f82c6d-a32e-4687-ae19-71aebb228e68 | XTHyJxz6aPUIFVONQdUE', 'contenido': 'Adios oswa', 'contenttype': 'text', 'typingtime': '1', 'id_robot': 584, 'blocktype': 'informativo'}\n",
      "intenatando consulta...\n",
      "consulta: select * from bloqueinformativo where next_id= 'Salida' and namestate= 'Informativo | 38f82c6d-a32e-4687-ae19-71aebb228e68 | XTHyJxz6aPUIFVONQdUE' and contenido= 'Adios oswa' and contenttype= 'text' and typingtime= '1' and id_robot= '584' and blocktype= 'informativo' ;\n",
      "Datos enviados INSERT:\n",
      "{'namestate': 'Informativo | 38f82c6d-a32e-4687-ae19-71aebb228e68 | XTHyJxz6aPUIFVONQdUE', 'contenido': 'Adios oswa', 'next_id': 'Salida', 'blocktype': 'informativo', 'contenttype': 'text', 'typingtime': '1', 'id_block': 4130, 'id_robot': 584, 'opc_nextid': None, 'pos_y': None, 'pos_x': None, 'tag_active': None}\n",
      "Datos recibidos INSERT:\n",
      "{'next_id': '', 'namestate': 'Salida', 'contenido': '', 'contenttype': 'text', 'typingtime': 3, 'id_robot': 584, 'blocktype': 'informativo'}\n",
      "intenatando consulta...\n",
      "consulta: select * from bloqueinformativo where next_id= '' and namestate= 'Salida' and contenido= '' and contenttype= 'text' and typingtime= '3' and id_robot= '584' and blocktype= 'informativo' ;\n",
      "Datos enviados INSERT:\n",
      "{'namestate': 'Salida', 'contenido': '', 'next_id': '', 'blocktype': 'informativo', 'contenttype': 'text', 'typingtime': '3', 'id_block': 4131, 'id_robot': 584, 'opc_nextid': None, 'pos_y': None, 'pos_x': None, 'tag_active': None}\n"
     ]
    },
    {
     "name": "stderr",
     "output_type": "stream",
     "text": [
      "127.0.0.1 - - [07/Jul/2021 15:13:39] \"\u001b[37mGET /select/robots HTTP/1.1\u001b[0m\" 200 -\n",
      "127.0.0.1 - - [07/Jul/2021 15:13:39] \"\u001b[37mGET /select/bloqueslide HTTP/1.1\u001b[0m\" 200 -\n",
      "127.0.0.1 - - [07/Jul/2021 15:13:39] \"\u001b[37mGET /select/elementos HTTP/1.1\u001b[0m\" 200 -\n"
     ]
    },
    {
     "name": "stdout",
     "output_type": "stream",
     "text": [
      "Datos recibidos SELECT:\n",
      "{'name_robot': 'Oswa2', 'id_face': '109253348089942', 'block_ini': 'Informativo | d602e284-c054-4f7f-90b0-3d079f8908e4 | XTHyJxz6aPUIFVONQdUE', 'type_blocki': 'informativo', 'access_token': 'EAAFMtaIPwugBABaSyaEaQxCjZB05xZAs5fag2JZCZB9LcVSFPJtAjcu48PewIfljpztLDiWZCZAINUghHfyn85rSKQxPnfZAMZA3DScogyb4Q1cg91NEiEgVLhlsHJXakq9diPLuJtiRqZC8kCp4MfZCllTvoPR0Jad4B0r0JWp8foAffcrjKebrSp', 'id_user': 'charlygoldcruz@gmail.com', 'api_nlp': 'http://localhost:8282/'}\n",
      "intenatando consulta...\n",
      "consulta: select * from robots where id_face = '109253348089942';\n",
      "Datos enviados SELECT:\n",
      "{'name_robot': 'Oswa2', 'id_face': '109253348089942', 'block_ini': 'Informativo | d602e284-c054-4f7f-90b0-3d079f8908e4 | XTHyJxz6aPUIFVONQdUE', 'type_blocki': 'informativo', 'access_token': 'EAAFMtaIPwugBABaSyaEaQxCjZB05xZAs5fag2JZCZB9LcVSFPJtAjcu48PewIfljpztLDiWZCZAINUghHfyn85rSKQxPnfZAMZA3DScogyb4Q1cg91NEiEgVLhlsHJXakq9diPLuJtiRqZC8kCp4MfZCllTvoPR0Jad4B0r0JWp8foAffcrjKebrSp', 'api_nlp': 'http://localhost:8282/', 'id_robot': 584, 'id_user': 'charlygoldcruz@gmail.com'}\n",
      "Datos recibidos SELECT:\n",
      "{'id_robot': '584'}\n",
      "intenatando consulta...\n",
      "consulta: select * from bloqueslide where id_robot= '584' ;\n",
      "Datos enviados SELECT:\n",
      "{'namestate': 'Carrusel | 16ad30d3-2b1e-433d-9f31-58de69dacffe | 46973551-1467-4450-7433-103925931451 | XTHyJxz6aPUIFVONQdUE', 'next_id': 'www.youtube.com,Informativo | 38f82c6d-a32e-4687-ae19-71aebb228e68 | XTHyJxz6aPUIFVONQdUE', 'blocktype': 'slide', 'typingtime': '1', 'default_id': 'Carrusel | 16ad30d3-2b1e-433d-9f31-58de69dacffe | 46973551-1467-4450-7433-103925931451 | XTHyJxz6aPUIFVONQdUE', 'id_var': '2479', 'id_block': 798, 'id_robot': 584, 'opc_nextid': None, 'pos_y': None, 'pos_x': None, 'opc_elm': None, 'tag_active': None}\n",
      "Datos recibidos SELECT:\n",
      "{'id_block': 798}\n",
      "intenatando consulta...\n",
      "consulta: select * from elementos where id_block= '798' ;\n",
      "Datos enviados SELECT:\n",
      "{'blocktype': 'slide', 'title': 'P1', 'image_url': 'https://spaceplace.nasa.gov/gallery-sun/en/solar-flare.en.jpg', 'subtitle': 'S1', 'id_block': 798, 'id_elements': 1431}\n",
      "Datos recibidos INSERT:\n",
      "{'name_var': 'variableCarrCarrusel_|_16ad30d3-2b1e-433d-9f31-58de69dacffe1942', 'opc_type': 'Variable', 'var': 0, 'opc_data': 'String', 'id_robot': 584}\n",
      "intenatando consulta...\n",
      "consulta: select * from variables where name_var= 'variableCarrCarrusel_|_16ad30d3-2b1e-433d-9f31-58de69dacffe1942' and opc_type= 'Variable' and var= '0' and opc_data= 'String' and id_robot= '584' ;\n"
     ]
    },
    {
     "name": "stderr",
     "output_type": "stream",
     "text": [
      "127.0.0.1 - - [07/Jul/2021 15:13:39] \"\u001b[37mPOST /insert/variables HTTP/1.1\u001b[0m\" 200 -\n",
      "127.0.0.1 - - [07/Jul/2021 15:13:39] \"\u001b[37mPOST /insert/bloqueslide HTTP/1.1\u001b[0m\" 200 -\n",
      "127.0.0.1 - - [07/Jul/2021 15:13:39] \"\u001b[37mPOST /insert/elementos HTTP/1.1\u001b[0m\" 200 -\n"
     ]
    },
    {
     "name": "stdout",
     "output_type": "stream",
     "text": [
      "Datos enviados INSERT:\n",
      "{'id_var': 2480, 'opc_type': 'Variable', 'opc_data': 'String', 'var': '0', 'id_robot': 584, 'name_var': 'variableCarrCarrusel_|_16ad30d3-2b1e-433d-9f31-58de69dacffe1942'}\n",
      "Datos recibidos INSERT:\n",
      "{'namestate': 'Carrusel | 16ad30d3-2b1e-433d-9f31-58de69dacffe | 46973551-1467-4450-7433-103925931451 | XTHyJxz6aPUIFVONQdUE', 'blocktype': 'slide', 'typingtime': '1', 'default_id': 'Carrusel | 16ad30d3-2b1e-433d-9f31-58de69dacffe | 46973551-1467-4450-7433-103925931451 | XTHyJxz6aPUIFVONQdUE', 'id_var': 2480, 'id_robot': 584}\n",
      "intenatando consulta...\n",
      "consulta: select * from bloqueslide where namestate= 'Carrusel | 16ad30d3-2b1e-433d-9f31-58de69dacffe | 46973551-1467-4450-7433-103925931451 | XTHyJxz6aPUIFVONQdUE' and blocktype= 'slide' and typingtime= '1' and default_id= 'Carrusel | 16ad30d3-2b1e-433d-9f31-58de69dacffe | 46973551-1467-4450-7433-103925931451 | XTHyJxz6aPUIFVONQdUE' and id_var= '2480' and id_robot= '584' ;\n",
      "Datos enviados INSERT:\n",
      "{'namestate': 'Carrusel | 16ad30d3-2b1e-433d-9f31-58de69dacffe | 46973551-1467-4450-7433-103925931451 | XTHyJxz6aPUIFVONQdUE', 'next_id': None, 'blocktype': 'slide', 'typingtime': '1', 'default_id': 'Carrusel | 16ad30d3-2b1e-433d-9f31-58de69dacffe | 46973551-1467-4450-7433-103925931451 | XTHyJxz6aPUIFVONQdUE', 'id_var': '2480', 'id_block': 799, 'id_robot': 584, 'opc_nextid': None, 'pos_y': None, 'pos_x': None, 'opc_elm': None, 'tag_active': None}\n",
      "Datos recibidos INSERT:\n",
      "{'subtitle': 'S1', 'image_url': 'https://spaceplace.nasa.gov/gallery-sun/en/solar-flare.en.jpg', 'title': 'P1', 'blocktype': 'slide', 'id_block': 799}\n",
      "intenatando consulta...\n",
      "consulta: select * from elementos where subtitle= 'S1' and image_url= 'https://spaceplace.nasa.gov/gallery-sun/en/solar-flare.en.jpg' and title= 'P1' and blocktype= 'slide' and id_block= '799' ;\n",
      "Datos enviados INSERT:\n",
      "{'blocktype': 'slide', 'title': 'P1', 'image_url': 'https://spaceplace.nasa.gov/gallery-sun/en/solar-flare.en.jpg', 'subtitle': 'S1', 'id_block': 799, 'id_elements': 1432}\n",
      "Datos recibidos INSERT:\n",
      "{'id_elemento': '1432', 'titlebutton': 'www.youtube.com', 'typebutton': 'web_url', 'contentbutton': 'www.youtube.com', 'opc_nextid': 'www.youtube.com'}\n"
     ]
    },
    {
     "name": "stderr",
     "output_type": "stream",
     "text": [
      "127.0.0.1 - - [07/Jul/2021 15:13:39] \"\u001b[37mPOST /insert/botones HTTP/1.1\u001b[0m\" 200 -\n",
      "127.0.0.1 - - [07/Jul/2021 15:13:39] \"\u001b[37mPOST /insert/botones HTTP/1.1\u001b[0m\" 200 -\n",
      "127.0.0.1 - - [07/Jul/2021 15:13:39] \"\u001b[37mPOST /insert/bloqueinformativo HTTP/1.1\u001b[0m\" 200 -\n"
     ]
    },
    {
     "name": "stdout",
     "output_type": "stream",
     "text": [
      "intenatando consulta...\n",
      "consulta: select * from botones where id_elemento= '1432' and titlebutton= 'www.youtube.com' and typebutton= 'web_url' and contentbutton= 'www.youtube.com' and opc_nextid= 'www.youtube.com' ;\n",
      "Datos enviados INSERT:\n",
      "{'id_elemento': '1432', 'titlebutton': 'www.youtube.com', 'typebutton': 'web_url', 'contentbutton': 'www.youtube.com', 'id_boton': 2668, 'opc_nextid': 'www.youtube.com'}\n",
      "Datos recibidos INSERT:\n",
      "{'id_elemento': '1432', 'titlebutton': 'Op', 'typebutton': 'postback', 'contentbutton': 'Informativo | 38f82c6d-a32e-4687-ae19-71aebb228e68 | XTHyJxz6aPUIFVONQdUE', 'opc_nextid': 'Informativo | 38f82c6d-a32e-4687-ae19-71aebb228e68 | XTHyJxz6aPUIFVONQdUE'}\n",
      "intenatando consulta...\n",
      "consulta: select * from botones where id_elemento= '1432' and titlebutton= 'Op' and typebutton= 'postback' and contentbutton= 'Informativo | 38f82c6d-a32e-4687-ae19-71aebb228e68 | XTHyJxz6aPUIFVONQdUE' and opc_nextid= 'Informativo | 38f82c6d-a32e-4687-ae19-71aebb228e68 | XTHyJxz6aPUIFVONQdUE' ;\n",
      "Datos enviados INSERT:\n",
      "{'id_elemento': '1432', 'titlebutton': 'Op', 'typebutton': 'postback', 'contentbutton': 'Informativo | 38f82c6d-a32e-4687-ae19-71aebb228e68 | XTHyJxz6aPUIFVONQdUE', 'id_boton': 2669, 'opc_nextid': 'Informativo | 38f82c6d-a32e-4687-ae19-71aebb228e68 | XTHyJxz6aPUIFVONQdUE'}\n",
      "Datos recibidos INSERT:\n",
      "{'next_id': 'Carrusel | 16ad30d3-2b1e-433d-9f31-58de69dacffe | 46973551-1467-4450-7433-103925931451 | XTHyJxz6aPUIFVONQdUE', 'namestate': 'Informativo | e61376a2-83b0-4ccd-90b2-0d3b8d9fc04b | 46973551-1467-4450-7433-103925931451 | XTHyJxz6aPUIFVONQdUE', 'contenido': 'Editando Bloque ', 'contenttype': 'text', 'typingtime': '1', 'id_robot': 584, 'blocktype': 'informativo'}\n",
      "intenatando consulta...\n",
      "consulta: select * from bloqueinformativo where next_id= 'Carrusel | 16ad30d3-2b1e-433d-9f31-58de69dacffe | 46973551-1467-4450-7433-103925931451 | XTHyJxz6aPUIFVONQdUE' and namestate= 'Informativo | e61376a2-83b0-4ccd-90b2-0d3b8d9fc04b | 46973551-1467-4450-7433-103925931451 | XTHyJxz6aPUIFVONQdUE' and contenido= 'Editando Bloque ' and contenttype= 'text' and typingtime= '1' and id_robot= '584' and blocktype= 'informativo' ;\n",
      "Datos enviados INSERT:\n",
      "{'namestate': 'Informativo | e61376a2-83b0-4ccd-90b2-0d3b8d9fc04b | 46973551-1467-4450-7433-103925931451 | XTHyJxz6aPUIFVONQdUE', 'contenido': 'Editando Bloque ', 'next_id': 'Carrusel | 16ad30d3-2b1e-433d-9f31-58de69dacffe | 46973551-1467-4450-7433-103925931451 | XTHyJxz6aPUIFVONQdUE', 'blocktype': 'informativo', 'contenttype': 'text', 'typingtime': '1', 'id_block': 4132, 'id_robot': 584, 'opc_nextid': None, 'pos_y': None, 'pos_x': None, 'tag_active': None}\n"
     ]
    },
    {
     "name": "stderr",
     "output_type": "stream",
     "text": [
      "127.0.0.1 - - [07/Jul/2021 15:13:40] \"\u001b[37mPOST /insert/bloqueinformativo HTTP/1.1\u001b[0m\" 200 -\n",
      "127.0.0.1 - - [07/Jul/2021 15:13:40] \"\u001b[37mPOST /insert/bloqueinformativo HTTP/1.1\u001b[0m\" 200 -\n",
      "127.0.0.1 - - [07/Jul/2021 15:13:40] \"\u001b[37mPOST /insert/bloqueinformativo HTTP/1.1\u001b[0m\" 200 -\n"
     ]
    },
    {
     "name": "stdout",
     "output_type": "stream",
     "text": [
      "Datos recibidos INSERT:\n",
      "{'next_id': 'Informativo | e61376a2-83b0-4ccd-90b2-0d3b8d9fc04b | 46973551-1467-4450-7433-103925931451 | XTHyJxz6aPUIFVONQdUE', 'namestate': 'Informativo | d602e284-c054-4f7f-90b0-3d079f8908e4 | XTHyJxz6aPUIFVONQdUE', 'contenido': 'Hola soy bot2', 'contenttype': 'text', 'typingtime': '1', 'id_robot': 584, 'blocktype': 'informativo'}\n",
      "intenatando consulta...\n",
      "consulta: select * from bloqueinformativo where next_id= 'Informativo | e61376a2-83b0-4ccd-90b2-0d3b8d9fc04b | 46973551-1467-4450-7433-103925931451 | XTHyJxz6aPUIFVONQdUE' and namestate= 'Informativo | d602e284-c054-4f7f-90b0-3d079f8908e4 | XTHyJxz6aPUIFVONQdUE' and contenido= 'Hola soy bot2' and contenttype= 'text' and typingtime= '1' and id_robot= '584' and blocktype= 'informativo' ;\n",
      "Datos enviados INSERT:\n",
      "{'namestate': 'Informativo | d602e284-c054-4f7f-90b0-3d079f8908e4 | XTHyJxz6aPUIFVONQdUE', 'contenido': 'Hola soy bot2', 'next_id': 'Informativo | e61376a2-83b0-4ccd-90b2-0d3b8d9fc04b | 46973551-1467-4450-7433-103925931451 | XTHyJxz6aPUIFVONQdUE', 'blocktype': 'informativo', 'contenttype': 'text', 'typingtime': '1', 'id_block': 4133, 'id_robot': 584, 'opc_nextid': None, 'pos_y': None, 'pos_x': None, 'tag_active': None}\n",
      "Datos recibidos INSERT:\n",
      "{'next_id': 'Salida', 'namestate': 'Informativo | 38f82c6d-a32e-4687-ae19-71aebb228e68 | XTHyJxz6aPUIFVONQdUE', 'contenido': 'Adios oswa', 'contenttype': 'text', 'typingtime': '1', 'id_robot': 584, 'blocktype': 'informativo'}\n",
      "intenatando consulta...\n",
      "consulta: select * from bloqueinformativo where next_id= 'Salida' and namestate= 'Informativo | 38f82c6d-a32e-4687-ae19-71aebb228e68 | XTHyJxz6aPUIFVONQdUE' and contenido= 'Adios oswa' and contenttype= 'text' and typingtime= '1' and id_robot= '584' and blocktype= 'informativo' ;\n",
      "Datos enviados INSERT:\n",
      "{'namestate': 'Informativo | 38f82c6d-a32e-4687-ae19-71aebb228e68 | XTHyJxz6aPUIFVONQdUE', 'contenido': 'Adios oswa', 'next_id': 'Salida', 'blocktype': 'informativo', 'contenttype': 'text', 'typingtime': '1', 'id_block': 4134, 'id_robot': 584, 'opc_nextid': None, 'pos_y': None, 'pos_x': None, 'tag_active': None}\n",
      "Datos recibidos INSERT:\n",
      "{'next_id': '', 'namestate': 'Salida', 'contenido': '', 'contenttype': 'text', 'typingtime': 3, 'id_robot': 584, 'blocktype': 'informativo'}\n",
      "intenatando consulta...\n",
      "consulta: select * from bloqueinformativo where next_id= '' and namestate= 'Salida' and contenido= '' and contenttype= 'text' and typingtime= '3' and id_robot= '584' and blocktype= 'informativo' ;\n",
      "Datos enviados INSERT:\n",
      "{'namestate': 'Salida', 'contenido': '', 'next_id': '', 'blocktype': 'informativo', 'contenttype': 'text', 'typingtime': '3', 'id_block': 4135, 'id_robot': 584, 'opc_nextid': None, 'pos_y': None, 'pos_x': None, 'tag_active': None}\n"
     ]
    },
    {
     "name": "stderr",
     "output_type": "stream",
     "text": [
      "127.0.0.1 - - [07/Jul/2021 15:15:29] \"\u001b[37mGET /select/robots HTTP/1.1\u001b[0m\" 200 -\n",
      "127.0.0.1 - - [07/Jul/2021 15:15:29] \"\u001b[37mGET /select/bloqueslide HTTP/1.1\u001b[0m\" 200 -\n",
      "127.0.0.1 - - [07/Jul/2021 15:15:29] \"\u001b[37mGET /select/elementos HTTP/1.1\u001b[0m\" 200 -\n"
     ]
    },
    {
     "name": "stdout",
     "output_type": "stream",
     "text": [
      "Datos recibidos SELECT:\n",
      "{'name_robot': 'Oswa1', 'id_face': '106842278334918', 'block_ini': 'Informativo | 2edb2c69-beb8-471f-9799-940599824c36 | oIgvWKILDrYMYDjlgAIk', 'type_blocki': 'informativo', 'access_token': 'EAAFMtaIPwugBAIRPT4mTm2a9nei1940NrJqMbhvvyPwfZAUZA6Id2YaXUeSu06TENy0QoDsprATI0J2ZCGHS2X6UQ4TG2AWkIbNQ3LLGdRMORJZBZBT9BhB58QusrYaXG90RiZAog3r9THJCXmX1m7vjArQ3KoX3PrEGYehS4j6TSblsfU73uf', 'id_user': 'charlygoldcruz@gmail.com', 'api_nlp': 'http://localhost:8282/'}\n",
      "intenatando consulta...\n",
      "consulta: select * from robots where id_face = '106842278334918';\n",
      "Datos enviados SELECT:\n",
      "{'name_robot': 'Oswa1', 'id_face': '106842278334918', 'block_ini': 'Informativo | 2edb2c69-beb8-471f-9799-940599824c36 | oIgvWKILDrYMYDjlgAIk', 'type_blocki': 'informativo', 'access_token': 'EAAFMtaIPwugBAIRPT4mTm2a9nei1940NrJqMbhvvyPwfZAUZA6Id2YaXUeSu06TENy0QoDsprATI0J2ZCGHS2X6UQ4TG2AWkIbNQ3LLGdRMORJZBZBT9BhB58QusrYaXG90RiZAog3r9THJCXmX1m7vjArQ3KoX3PrEGYehS4j6TSblsfU73uf', 'api_nlp': 'http://localhost:8282/', 'id_robot': 583, 'id_user': 'charlygoldcruz@gmail.com'}\n",
      "Datos recibidos SELECT:\n",
      "{'id_robot': '583'}\n",
      "intenatando consulta...\n",
      "consulta: select * from bloqueslide where id_robot= '583' ;\n",
      "Datos enviados SELECT:\n",
      "{'namestate': 'Carrusel | 16ad30d3-2b1e-433d-9f31-58de69dacffe | 23985004-9470-9169-4961-397901325837 | oIgvWKILDrYMYDjlgAIk', 'next_id': 'www.youtube.com,Informativo | c172acd8-1edc-4d5b-ac66-fdf02dfe35ff | oIgvWKILDrYMYDjlgAIk', 'blocktype': 'slide', 'typingtime': '1', 'default_id': 'Carrusel | 16ad30d3-2b1e-433d-9f31-58de69dacffe | 23985004-9470-9169-4961-397901325837 | oIgvWKILDrYMYDjlgAIk', 'id_var': '2478', 'id_block': 797, 'id_robot': 583, 'opc_nextid': None, 'pos_y': None, 'pos_x': None, 'opc_elm': None, 'tag_active': None}\n",
      "Datos recibidos SELECT:\n",
      "{'id_block': 797}\n",
      "intenatando consulta...\n",
      "consulta: select * from elementos where id_block= '797' ;\n",
      "Datos enviados SELECT:\n",
      "{'blocktype': 'slide', 'title': 'P1', 'image_url': 'https://spaceplace.nasa.gov/gallery-sun/en/solar-flare.en.jpg', 'subtitle': 'S1', 'id_block': 797, 'id_elements': 1430}\n",
      "Datos recibidos INSERT:\n",
      "{'name_var': 'variableCarrCarrusel_|_16ad30d3-2b1e-433d-9f31-58de69dacffe1590', 'opc_type': 'Variable', 'var': 0, 'opc_data': 'String', 'id_robot': 583}\n"
     ]
    },
    {
     "name": "stderr",
     "output_type": "stream",
     "text": [
      "127.0.0.1 - - [07/Jul/2021 15:15:30] \"\u001b[37mPOST /insert/variables HTTP/1.1\u001b[0m\" 200 -\n",
      "127.0.0.1 - - [07/Jul/2021 15:15:30] \"\u001b[37mPOST /insert/bloqueslide HTTP/1.1\u001b[0m\" 200 -\n",
      "127.0.0.1 - - [07/Jul/2021 15:15:30] \"\u001b[37mPOST /insert/elementos HTTP/1.1\u001b[0m\" 200 -\n"
     ]
    },
    {
     "name": "stdout",
     "output_type": "stream",
     "text": [
      "intenatando consulta...\n",
      "consulta: select * from variables where name_var= 'variableCarrCarrusel_|_16ad30d3-2b1e-433d-9f31-58de69dacffe1590' and opc_type= 'Variable' and var= '0' and opc_data= 'String' and id_robot= '583' ;\n",
      "Datos enviados INSERT:\n",
      "{'id_var': 2481, 'opc_type': 'Variable', 'opc_data': 'String', 'var': '0', 'id_robot': 583, 'name_var': 'variableCarrCarrusel_|_16ad30d3-2b1e-433d-9f31-58de69dacffe1590'}\n",
      "Datos recibidos INSERT:\n",
      "{'namestate': 'Carrusel | 16ad30d3-2b1e-433d-9f31-58de69dacffe | 23985004-9470-9169-4961-397901325837 | oIgvWKILDrYMYDjlgAIk', 'blocktype': 'slide', 'typingtime': '1', 'default_id': 'Carrusel | 16ad30d3-2b1e-433d-9f31-58de69dacffe | 23985004-9470-9169-4961-397901325837 | oIgvWKILDrYMYDjlgAIk', 'id_var': 2481, 'id_robot': 583}\n",
      "intenatando consulta...\n",
      "consulta: select * from bloqueslide where namestate= 'Carrusel | 16ad30d3-2b1e-433d-9f31-58de69dacffe | 23985004-9470-9169-4961-397901325837 | oIgvWKILDrYMYDjlgAIk' and blocktype= 'slide' and typingtime= '1' and default_id= 'Carrusel | 16ad30d3-2b1e-433d-9f31-58de69dacffe | 23985004-9470-9169-4961-397901325837 | oIgvWKILDrYMYDjlgAIk' and id_var= '2481' and id_robot= '583' ;\n",
      "Datos enviados INSERT:\n",
      "{'namestate': 'Carrusel | 16ad30d3-2b1e-433d-9f31-58de69dacffe | 23985004-9470-9169-4961-397901325837 | oIgvWKILDrYMYDjlgAIk', 'next_id': None, 'blocktype': 'slide', 'typingtime': '1', 'default_id': 'Carrusel | 16ad30d3-2b1e-433d-9f31-58de69dacffe | 23985004-9470-9169-4961-397901325837 | oIgvWKILDrYMYDjlgAIk', 'id_var': '2481', 'id_block': 800, 'id_robot': 583, 'opc_nextid': None, 'pos_y': None, 'pos_x': None, 'opc_elm': None, 'tag_active': None}\n",
      "Datos recibidos INSERT:\n",
      "{'image_url': 'https://analyticsindiamag.com/wp-content/uploads/2020/10/7d744a684fe03ebc7e8de545f97739dd.jpg', 'subtitle': 'S1', 'title': 'P1', 'blocktype': 'slide', 'id_block': 800}\n",
      "intenatando consulta...\n",
      "consulta: select * from elementos where image_url= 'https://analyticsindiamag.com/wp-content/uploads/2020/10/7d744a684fe03ebc7e8de545f97739dd.jpg' and subtitle= 'S1' and title= 'P1' and blocktype= 'slide' and id_block= '800' ;\n",
      "Datos enviados INSERT:\n",
      "{'blocktype': 'slide', 'title': 'P1', 'image_url': 'https://analyticsindiamag.com/wp-content/uploads/2020/10/7d744a684fe03ebc7e8de545f97739dd.jpg', 'subtitle': 'S1', 'id_block': 800, 'id_elements': 1433}\n",
      "Datos recibidos INSERT:\n",
      "{'id_elemento': '1433', 'titlebutton': 'www.github.com', 'typebutton': 'web_url', 'contentbutton': 'www.github.com', 'opc_nextid': 'www.github.com'}\n"
     ]
    },
    {
     "name": "stderr",
     "output_type": "stream",
     "text": [
      "127.0.0.1 - - [07/Jul/2021 15:15:30] \"\u001b[37mPOST /insert/botones HTTP/1.1\u001b[0m\" 200 -\n",
      "127.0.0.1 - - [07/Jul/2021 15:15:30] \"\u001b[37mPOST /insert/botones HTTP/1.1\u001b[0m\" 200 -\n",
      "127.0.0.1 - - [07/Jul/2021 15:15:30] \"\u001b[37mPOST /insert/bloqueinformativo HTTP/1.1\u001b[0m\" 200 -\n"
     ]
    },
    {
     "name": "stdout",
     "output_type": "stream",
     "text": [
      "intenatando consulta...\n",
      "consulta: select * from botones where id_elemento= '1433' and titlebutton= 'www.github.com' and typebutton= 'web_url' and contentbutton= 'www.github.com' and opc_nextid= 'www.github.com' ;\n",
      "Datos enviados INSERT:\n",
      "{'id_elemento': '1433', 'titlebutton': 'www.github.com', 'typebutton': 'web_url', 'contentbutton': 'www.github.com', 'id_boton': 2670, 'opc_nextid': 'www.github.com'}\n",
      "Datos recibidos INSERT:\n",
      "{'id_elemento': '1433', 'titlebutton': 'Op', 'typebutton': 'postback', 'contentbutton': 'Informativo | c172acd8-1edc-4d5b-ac66-fdf02dfe35ff | oIgvWKILDrYMYDjlgAIk', 'opc_nextid': 'Informativo | c172acd8-1edc-4d5b-ac66-fdf02dfe35ff | oIgvWKILDrYMYDjlgAIk'}\n",
      "intenatando consulta...\n",
      "consulta: select * from botones where id_elemento= '1433' and titlebutton= 'Op' and typebutton= 'postback' and contentbutton= 'Informativo | c172acd8-1edc-4d5b-ac66-fdf02dfe35ff | oIgvWKILDrYMYDjlgAIk' and opc_nextid= 'Informativo | c172acd8-1edc-4d5b-ac66-fdf02dfe35ff | oIgvWKILDrYMYDjlgAIk' ;\n",
      "Datos enviados INSERT:\n",
      "{'id_elemento': '1433', 'titlebutton': 'Op', 'typebutton': 'postback', 'contentbutton': 'Informativo | c172acd8-1edc-4d5b-ac66-fdf02dfe35ff | oIgvWKILDrYMYDjlgAIk', 'id_boton': 2671, 'opc_nextid': 'Informativo | c172acd8-1edc-4d5b-ac66-fdf02dfe35ff | oIgvWKILDrYMYDjlgAIk'}\n",
      "Datos recibidos INSERT:\n",
      "{'next_id': 'Carrusel | 16ad30d3-2b1e-433d-9f31-58de69dacffe | 23985004-9470-9169-4961-397901325837 | oIgvWKILDrYMYDjlgAIk', 'namestate': 'Informativo | e61376a2-83b0-4ccd-90b2-0d3b8d9fc04b | 23985004-9470-9169-4961-397901325837 | oIgvWKILDrYMYDjlgAIk', 'contenido': 'Este es un compuesto', 'contenttype': 'text', 'typingtime': '1', 'id_robot': 583, 'blocktype': 'informativo'}\n",
      "intenatando consulta...\n",
      "consulta: select * from bloqueinformativo where next_id= 'Carrusel | 16ad30d3-2b1e-433d-9f31-58de69dacffe | 23985004-9470-9169-4961-397901325837 | oIgvWKILDrYMYDjlgAIk' and namestate= 'Informativo | e61376a2-83b0-4ccd-90b2-0d3b8d9fc04b | 23985004-9470-9169-4961-397901325837 | oIgvWKILDrYMYDjlgAIk' and contenido= 'Este es un compuesto' and contenttype= 'text' and typingtime= '1' and id_robot= '583' and blocktype= 'informativo' ;\n",
      "Datos enviados INSERT:\n",
      "{'namestate': 'Informativo | e61376a2-83b0-4ccd-90b2-0d3b8d9fc04b | 23985004-9470-9169-4961-397901325837 | oIgvWKILDrYMYDjlgAIk', 'contenido': 'Este es un compuesto', 'next_id': 'Carrusel | 16ad30d3-2b1e-433d-9f31-58de69dacffe | 23985004-9470-9169-4961-397901325837 | oIgvWKILDrYMYDjlgAIk', 'blocktype': 'informativo', 'contenttype': 'text', 'typingtime': '1', 'id_block': 4136, 'id_robot': 583, 'opc_nextid': None, 'pos_y': None, 'pos_x': None, 'tag_active': None}\n"
     ]
    },
    {
     "name": "stderr",
     "output_type": "stream",
     "text": [
      "127.0.0.1 - - [07/Jul/2021 15:15:30] \"\u001b[37mPOST /insert/bloqueinformativo HTTP/1.1\u001b[0m\" 200 -\n",
      "127.0.0.1 - - [07/Jul/2021 15:15:30] \"\u001b[37mPOST /insert/bloqueinformativo HTTP/1.1\u001b[0m\" 200 -\n",
      "127.0.0.1 - - [07/Jul/2021 15:15:30] \"\u001b[37mPOST /insert/bloqueinformativo HTTP/1.1\u001b[0m\" 200 -\n"
     ]
    },
    {
     "name": "stdout",
     "output_type": "stream",
     "text": [
      "Datos recibidos INSERT:\n",
      "{'next_id': 'Informativo | e61376a2-83b0-4ccd-90b2-0d3b8d9fc04b | 23985004-9470-9169-4961-397901325837 | oIgvWKILDrYMYDjlgAIk', 'namestate': 'Informativo | 2edb2c69-beb8-471f-9799-940599824c36 | oIgvWKILDrYMYDjlgAIk', 'contenido': 'Hola oswaldo', 'contenttype': 'text', 'typingtime': '1', 'id_robot': 583, 'blocktype': 'informativo'}\n",
      "intenatando consulta...\n",
      "consulta: select * from bloqueinformativo where next_id= 'Informativo | e61376a2-83b0-4ccd-90b2-0d3b8d9fc04b | 23985004-9470-9169-4961-397901325837 | oIgvWKILDrYMYDjlgAIk' and namestate= 'Informativo | 2edb2c69-beb8-471f-9799-940599824c36 | oIgvWKILDrYMYDjlgAIk' and contenido= 'Hola oswaldo' and contenttype= 'text' and typingtime= '1' and id_robot= '583' and blocktype= 'informativo' ;\n",
      "Datos enviados INSERT:\n",
      "{'namestate': 'Informativo | 2edb2c69-beb8-471f-9799-940599824c36 | oIgvWKILDrYMYDjlgAIk', 'contenido': 'Hola oswaldo', 'next_id': 'Informativo | e61376a2-83b0-4ccd-90b2-0d3b8d9fc04b | 23985004-9470-9169-4961-397901325837 | oIgvWKILDrYMYDjlgAIk', 'blocktype': 'informativo', 'contenttype': 'text', 'typingtime': '1', 'id_block': 4137, 'id_robot': 583, 'opc_nextid': None, 'pos_y': None, 'pos_x': None, 'tag_active': None}\n",
      "Datos recibidos INSERT:\n",
      "{'next_id': 'Salida', 'namestate': 'Informativo | c172acd8-1edc-4d5b-ac66-fdf02dfe35ff | oIgvWKILDrYMYDjlgAIk', 'contenido': 'Adios Oswa', 'contenttype': 'text', 'typingtime': '1', 'id_robot': 583, 'blocktype': 'informativo'}\n",
      "intenatando consulta...\n",
      "consulta: select * from bloqueinformativo where next_id= 'Salida' and namestate= 'Informativo | c172acd8-1edc-4d5b-ac66-fdf02dfe35ff | oIgvWKILDrYMYDjlgAIk' and contenido= 'Adios Oswa' and contenttype= 'text' and typingtime= '1' and id_robot= '583' and blocktype= 'informativo' ;\n",
      "Datos enviados INSERT:\n",
      "{'namestate': 'Informativo | c172acd8-1edc-4d5b-ac66-fdf02dfe35ff | oIgvWKILDrYMYDjlgAIk', 'contenido': 'Adios Oswa', 'next_id': 'Salida', 'blocktype': 'informativo', 'contenttype': 'text', 'typingtime': '1', 'id_block': 4138, 'id_robot': 583, 'opc_nextid': None, 'pos_y': None, 'pos_x': None, 'tag_active': None}\n",
      "Datos recibidos INSERT:\n",
      "{'next_id': '', 'namestate': 'Salida', 'contenido': '', 'contenttype': 'text', 'typingtime': 3, 'id_robot': 583, 'blocktype': 'informativo'}\n",
      "intenatando consulta...\n",
      "consulta: select * from bloqueinformativo where next_id= '' and namestate= 'Salida' and contenido= '' and contenttype= 'text' and typingtime= '3' and id_robot= '583' and blocktype= 'informativo' ;\n",
      "Datos enviados INSERT:\n",
      "{'namestate': 'Salida', 'contenido': '', 'next_id': '', 'blocktype': 'informativo', 'contenttype': 'text', 'typingtime': '3', 'id_block': 4139, 'id_robot': 583, 'opc_nextid': None, 'pos_y': None, 'pos_x': None, 'tag_active': None}\n"
     ]
    },
    {
     "name": "stderr",
     "output_type": "stream",
     "text": [
      "127.0.0.1 - - [07/Jul/2021 15:15:31] \"\u001b[37mGET /select/robots HTTP/1.1\u001b[0m\" 200 -\n",
      "127.0.0.1 - - [07/Jul/2021 15:15:31] \"\u001b[37mGET /select/bloqueslide HTTP/1.1\u001b[0m\" 200 -\n",
      "127.0.0.1 - - [07/Jul/2021 15:15:31] \"\u001b[37mGET /select/elementos HTTP/1.1\u001b[0m\" 200 -\n"
     ]
    },
    {
     "name": "stdout",
     "output_type": "stream",
     "text": [
      "Datos recibidos SELECT:\n",
      "{'name_robot': 'Oswa2', 'id_face': '109253348089942', 'block_ini': 'Informativo | d602e284-c054-4f7f-90b0-3d079f8908e4 | XTHyJxz6aPUIFVONQdUE', 'type_blocki': 'informativo', 'access_token': 'EAAFMtaIPwugBABaSyaEaQxCjZB05xZAs5fag2JZCZB9LcVSFPJtAjcu48PewIfljpztLDiWZCZAINUghHfyn85rSKQxPnfZAMZA3DScogyb4Q1cg91NEiEgVLhlsHJXakq9diPLuJtiRqZC8kCp4MfZCllTvoPR0Jad4B0r0JWp8foAffcrjKebrSp', 'id_user': 'charlygoldcruz@gmail.com', 'api_nlp': 'http://localhost:8282/'}\n",
      "intenatando consulta...\n",
      "consulta: select * from robots where id_face = '109253348089942';\n",
      "Datos enviados SELECT:\n",
      "{'name_robot': 'Oswa2', 'id_face': '109253348089942', 'block_ini': 'Informativo | d602e284-c054-4f7f-90b0-3d079f8908e4 | XTHyJxz6aPUIFVONQdUE', 'type_blocki': 'informativo', 'access_token': 'EAAFMtaIPwugBABaSyaEaQxCjZB05xZAs5fag2JZCZB9LcVSFPJtAjcu48PewIfljpztLDiWZCZAINUghHfyn85rSKQxPnfZAMZA3DScogyb4Q1cg91NEiEgVLhlsHJXakq9diPLuJtiRqZC8kCp4MfZCllTvoPR0Jad4B0r0JWp8foAffcrjKebrSp', 'api_nlp': 'http://localhost:8282/', 'id_robot': 584, 'id_user': 'charlygoldcruz@gmail.com'}\n",
      "Datos recibidos SELECT:\n",
      "{'id_robot': '584'}\n",
      "intenatando consulta...\n",
      "consulta: select * from bloqueslide where id_robot= '584' ;\n",
      "Datos enviados SELECT:\n",
      "{'namestate': 'Carrusel | 16ad30d3-2b1e-433d-9f31-58de69dacffe | 46973551-1467-4450-7433-103925931451 | XTHyJxz6aPUIFVONQdUE', 'next_id': 'www.youtube.com,Informativo | 38f82c6d-a32e-4687-ae19-71aebb228e68 | XTHyJxz6aPUIFVONQdUE', 'blocktype': 'slide', 'typingtime': '1', 'default_id': 'Carrusel | 16ad30d3-2b1e-433d-9f31-58de69dacffe | 46973551-1467-4450-7433-103925931451 | XTHyJxz6aPUIFVONQdUE', 'id_var': '2480', 'id_block': 799, 'id_robot': 584, 'opc_nextid': None, 'pos_y': None, 'pos_x': None, 'opc_elm': None, 'tag_active': None}\n",
      "Datos recibidos SELECT:\n",
      "{'id_block': 799}\n",
      "intenatando consulta...\n",
      "consulta: select * from elementos where id_block= '799' ;\n",
      "Datos enviados SELECT:\n",
      "{'blocktype': 'slide', 'title': 'P1', 'image_url': 'https://spaceplace.nasa.gov/gallery-sun/en/solar-flare.en.jpg', 'subtitle': 'S1', 'id_block': 799, 'id_elements': 1432}\n",
      "Datos recibidos INSERT:\n",
      "{'name_var': 'variableCarrCarrusel_|_16ad30d3-2b1e-433d-9f31-58de69dacffe8062', 'opc_type': 'Variable', 'var': 0, 'opc_data': 'String', 'id_robot': 584}\n"
     ]
    },
    {
     "name": "stderr",
     "output_type": "stream",
     "text": [
      "127.0.0.1 - - [07/Jul/2021 15:15:31] \"\u001b[37mPOST /insert/variables HTTP/1.1\u001b[0m\" 200 -\n",
      "127.0.0.1 - - [07/Jul/2021 15:15:31] \"\u001b[37mPOST /insert/bloqueslide HTTP/1.1\u001b[0m\" 200 -\n",
      "127.0.0.1 - - [07/Jul/2021 15:15:31] \"\u001b[37mPOST /insert/elementos HTTP/1.1\u001b[0m\" 200 -\n"
     ]
    },
    {
     "name": "stdout",
     "output_type": "stream",
     "text": [
      "intenatando consulta...\n",
      "consulta: select * from variables where name_var= 'variableCarrCarrusel_|_16ad30d3-2b1e-433d-9f31-58de69dacffe8062' and opc_type= 'Variable' and var= '0' and opc_data= 'String' and id_robot= '584' ;\n",
      "Datos enviados INSERT:\n",
      "{'id_var': 2482, 'opc_type': 'Variable', 'opc_data': 'String', 'var': '0', 'id_robot': 584, 'name_var': 'variableCarrCarrusel_|_16ad30d3-2b1e-433d-9f31-58de69dacffe8062'}\n",
      "Datos recibidos INSERT:\n",
      "{'namestate': 'Carrusel | 16ad30d3-2b1e-433d-9f31-58de69dacffe | 46973551-1467-4450-7433-103925931451 | XTHyJxz6aPUIFVONQdUE', 'blocktype': 'slide', 'typingtime': '1', 'default_id': 'Carrusel | 16ad30d3-2b1e-433d-9f31-58de69dacffe | 46973551-1467-4450-7433-103925931451 | XTHyJxz6aPUIFVONQdUE', 'id_var': 2482, 'id_robot': 584}\n",
      "intenatando consulta...\n",
      "consulta: select * from bloqueslide where namestate= 'Carrusel | 16ad30d3-2b1e-433d-9f31-58de69dacffe | 46973551-1467-4450-7433-103925931451 | XTHyJxz6aPUIFVONQdUE' and blocktype= 'slide' and typingtime= '1' and default_id= 'Carrusel | 16ad30d3-2b1e-433d-9f31-58de69dacffe | 46973551-1467-4450-7433-103925931451 | XTHyJxz6aPUIFVONQdUE' and id_var= '2482' and id_robot= '584' ;\n",
      "Datos enviados INSERT:\n",
      "{'namestate': 'Carrusel | 16ad30d3-2b1e-433d-9f31-58de69dacffe | 46973551-1467-4450-7433-103925931451 | XTHyJxz6aPUIFVONQdUE', 'next_id': None, 'blocktype': 'slide', 'typingtime': '1', 'default_id': 'Carrusel | 16ad30d3-2b1e-433d-9f31-58de69dacffe | 46973551-1467-4450-7433-103925931451 | XTHyJxz6aPUIFVONQdUE', 'id_var': '2482', 'id_block': 801, 'id_robot': 584, 'opc_nextid': None, 'pos_y': None, 'pos_x': None, 'opc_elm': None, 'tag_active': None}\n",
      "Datos recibidos INSERT:\n",
      "{'image_url': 'https://analyticsindiamag.com/wp-content/uploads/2020/10/7d744a684fe03ebc7e8de545f97739dd.jpg', 'subtitle': 'S1', 'title': 'P1', 'blocktype': 'slide', 'id_block': 801}\n",
      "intenatando consulta...\n",
      "consulta: select * from elementos where image_url= 'https://analyticsindiamag.com/wp-content/uploads/2020/10/7d744a684fe03ebc7e8de545f97739dd.jpg' and subtitle= 'S1' and title= 'P1' and blocktype= 'slide' and id_block= '801' ;\n",
      "Datos enviados INSERT:\n",
      "{'blocktype': 'slide', 'title': 'P1', 'image_url': 'https://analyticsindiamag.com/wp-content/uploads/2020/10/7d744a684fe03ebc7e8de545f97739dd.jpg', 'subtitle': 'S1', 'id_block': 801, 'id_elements': 1434}\n",
      "Datos recibidos INSERT:\n",
      "{'id_elemento': '1434', 'titlebutton': 'www.github.com', 'typebutton': 'web_url', 'contentbutton': 'www.github.com', 'opc_nextid': 'www.github.com'}\n",
      "intenatando consulta...\n",
      "consulta: select * from botones where id_elemento= '1434' and titlebutton= 'www.github.com' and typebutton= 'web_url' and contentbutton= 'www.github.com' and opc_nextid= 'www.github.com' ;\n"
     ]
    },
    {
     "name": "stderr",
     "output_type": "stream",
     "text": [
      "127.0.0.1 - - [07/Jul/2021 15:15:31] \"\u001b[37mPOST /insert/botones HTTP/1.1\u001b[0m\" 200 -\n",
      "127.0.0.1 - - [07/Jul/2021 15:15:31] \"\u001b[37mPOST /insert/botones HTTP/1.1\u001b[0m\" 200 -\n",
      "127.0.0.1 - - [07/Jul/2021 15:15:31] \"\u001b[37mPOST /insert/bloqueinformativo HTTP/1.1\u001b[0m\" 200 -\n"
     ]
    },
    {
     "name": "stdout",
     "output_type": "stream",
     "text": [
      "Datos enviados INSERT:\n",
      "{'id_elemento': '1434', 'titlebutton': 'www.github.com', 'typebutton': 'web_url', 'contentbutton': 'www.github.com', 'id_boton': 2672, 'opc_nextid': 'www.github.com'}\n",
      "Datos recibidos INSERT:\n",
      "{'id_elemento': '1434', 'titlebutton': 'Op', 'typebutton': 'postback', 'contentbutton': 'Informativo | 38f82c6d-a32e-4687-ae19-71aebb228e68 | XTHyJxz6aPUIFVONQdUE', 'opc_nextid': 'Informativo | 38f82c6d-a32e-4687-ae19-71aebb228e68 | XTHyJxz6aPUIFVONQdUE'}\n",
      "intenatando consulta...\n",
      "consulta: select * from botones where id_elemento= '1434' and titlebutton= 'Op' and typebutton= 'postback' and contentbutton= 'Informativo | 38f82c6d-a32e-4687-ae19-71aebb228e68 | XTHyJxz6aPUIFVONQdUE' and opc_nextid= 'Informativo | 38f82c6d-a32e-4687-ae19-71aebb228e68 | XTHyJxz6aPUIFVONQdUE' ;\n",
      "Datos enviados INSERT:\n",
      "{'id_elemento': '1434', 'titlebutton': 'Op', 'typebutton': 'postback', 'contentbutton': 'Informativo | 38f82c6d-a32e-4687-ae19-71aebb228e68 | XTHyJxz6aPUIFVONQdUE', 'id_boton': 2673, 'opc_nextid': 'Informativo | 38f82c6d-a32e-4687-ae19-71aebb228e68 | XTHyJxz6aPUIFVONQdUE'}\n",
      "Datos recibidos INSERT:\n",
      "{'next_id': 'Carrusel | 16ad30d3-2b1e-433d-9f31-58de69dacffe | 46973551-1467-4450-7433-103925931451 | XTHyJxz6aPUIFVONQdUE', 'namestate': 'Informativo | e61376a2-83b0-4ccd-90b2-0d3b8d9fc04b | 46973551-1467-4450-7433-103925931451 | XTHyJxz6aPUIFVONQdUE', 'contenido': 'Editando Bloque ', 'contenttype': 'text', 'typingtime': '1', 'id_robot': 584, 'blocktype': 'informativo'}\n",
      "intenatando consulta...\n",
      "consulta: select * from bloqueinformativo where next_id= 'Carrusel | 16ad30d3-2b1e-433d-9f31-58de69dacffe | 46973551-1467-4450-7433-103925931451 | XTHyJxz6aPUIFVONQdUE' and namestate= 'Informativo | e61376a2-83b0-4ccd-90b2-0d3b8d9fc04b | 46973551-1467-4450-7433-103925931451 | XTHyJxz6aPUIFVONQdUE' and contenido= 'Editando Bloque ' and contenttype= 'text' and typingtime= '1' and id_robot= '584' and blocktype= 'informativo' ;\n",
      "Datos enviados INSERT:\n",
      "{'namestate': 'Informativo | e61376a2-83b0-4ccd-90b2-0d3b8d9fc04b | 46973551-1467-4450-7433-103925931451 | XTHyJxz6aPUIFVONQdUE', 'contenido': 'Editando Bloque ', 'next_id': 'Carrusel | 16ad30d3-2b1e-433d-9f31-58de69dacffe | 46973551-1467-4450-7433-103925931451 | XTHyJxz6aPUIFVONQdUE', 'blocktype': 'informativo', 'contenttype': 'text', 'typingtime': '1', 'id_block': 4140, 'id_robot': 584, 'opc_nextid': None, 'pos_y': None, 'pos_x': None, 'tag_active': None}\n"
     ]
    },
    {
     "name": "stderr",
     "output_type": "stream",
     "text": [
      "127.0.0.1 - - [07/Jul/2021 15:15:31] \"\u001b[37mPOST /insert/bloqueinformativo HTTP/1.1\u001b[0m\" 200 -\n",
      "127.0.0.1 - - [07/Jul/2021 15:15:32] \"\u001b[37mPOST /insert/bloqueinformativo HTTP/1.1\u001b[0m\" 200 -\n",
      "127.0.0.1 - - [07/Jul/2021 15:15:32] \"\u001b[37mPOST /insert/bloqueinformativo HTTP/1.1\u001b[0m\" 200 -\n"
     ]
    },
    {
     "name": "stdout",
     "output_type": "stream",
     "text": [
      "Datos recibidos INSERT:\n",
      "{'next_id': 'Informativo | e61376a2-83b0-4ccd-90b2-0d3b8d9fc04b | 46973551-1467-4450-7433-103925931451 | XTHyJxz6aPUIFVONQdUE', 'namestate': 'Informativo | d602e284-c054-4f7f-90b0-3d079f8908e4 | XTHyJxz6aPUIFVONQdUE', 'contenido': 'Hola soy bot2', 'contenttype': 'text', 'typingtime': '1', 'id_robot': 584, 'blocktype': 'informativo'}\n",
      "intenatando consulta...\n",
      "consulta: select * from bloqueinformativo where next_id= 'Informativo | e61376a2-83b0-4ccd-90b2-0d3b8d9fc04b | 46973551-1467-4450-7433-103925931451 | XTHyJxz6aPUIFVONQdUE' and namestate= 'Informativo | d602e284-c054-4f7f-90b0-3d079f8908e4 | XTHyJxz6aPUIFVONQdUE' and contenido= 'Hola soy bot2' and contenttype= 'text' and typingtime= '1' and id_robot= '584' and blocktype= 'informativo' ;\n",
      "Datos enviados INSERT:\n",
      "{'namestate': 'Informativo | d602e284-c054-4f7f-90b0-3d079f8908e4 | XTHyJxz6aPUIFVONQdUE', 'contenido': 'Hola soy bot2', 'next_id': 'Informativo | e61376a2-83b0-4ccd-90b2-0d3b8d9fc04b | 46973551-1467-4450-7433-103925931451 | XTHyJxz6aPUIFVONQdUE', 'blocktype': 'informativo', 'contenttype': 'text', 'typingtime': '1', 'id_block': 4141, 'id_robot': 584, 'opc_nextid': None, 'pos_y': None, 'pos_x': None, 'tag_active': None}\n",
      "Datos recibidos INSERT:\n",
      "{'next_id': 'Salida', 'namestate': 'Informativo | 38f82c6d-a32e-4687-ae19-71aebb228e68 | XTHyJxz6aPUIFVONQdUE', 'contenido': 'Adios oswa', 'contenttype': 'text', 'typingtime': '1', 'id_robot': 584, 'blocktype': 'informativo'}\n",
      "intenatando consulta...\n",
      "consulta: select * from bloqueinformativo where next_id= 'Salida' and namestate= 'Informativo | 38f82c6d-a32e-4687-ae19-71aebb228e68 | XTHyJxz6aPUIFVONQdUE' and contenido= 'Adios oswa' and contenttype= 'text' and typingtime= '1' and id_robot= '584' and blocktype= 'informativo' ;\n",
      "Datos enviados INSERT:\n",
      "{'namestate': 'Informativo | 38f82c6d-a32e-4687-ae19-71aebb228e68 | XTHyJxz6aPUIFVONQdUE', 'contenido': 'Adios oswa', 'next_id': 'Salida', 'blocktype': 'informativo', 'contenttype': 'text', 'typingtime': '1', 'id_block': 4142, 'id_robot': 584, 'opc_nextid': None, 'pos_y': None, 'pos_x': None, 'tag_active': None}\n",
      "Datos recibidos INSERT:\n",
      "{'next_id': '', 'namestate': 'Salida', 'contenido': '', 'contenttype': 'text', 'typingtime': 3, 'id_robot': 584, 'blocktype': 'informativo'}\n",
      "intenatando consulta...\n",
      "consulta: select * from bloqueinformativo where next_id= '' and namestate= 'Salida' and contenido= '' and contenttype= 'text' and typingtime= '3' and id_robot= '584' and blocktype= 'informativo' ;\n",
      "Datos enviados INSERT:\n",
      "{'namestate': 'Salida', 'contenido': '', 'next_id': '', 'blocktype': 'informativo', 'contenttype': 'text', 'typingtime': '3', 'id_block': 4143, 'id_robot': 584, 'opc_nextid': None, 'pos_y': None, 'pos_x': None, 'tag_active': None}\n"
     ]
    },
    {
     "name": "stderr",
     "output_type": "stream",
     "text": [
      "127.0.0.1 - - [07/Jul/2021 15:16:28] \"\u001b[37mGET /select/robots HTTP/1.1\u001b[0m\" 200 -\n",
      "127.0.0.1 - - [07/Jul/2021 15:16:28] \"\u001b[37mGET /select/bloqueslide HTTP/1.1\u001b[0m\" 200 -\n",
      "127.0.0.1 - - [07/Jul/2021 15:16:28] \"\u001b[37mGET /select/elementos HTTP/1.1\u001b[0m\" 200 -\n"
     ]
    },
    {
     "name": "stdout",
     "output_type": "stream",
     "text": [
      "Datos recibidos SELECT:\n",
      "{'name_robot': 'Oswa1', 'id_face': '106842278334918', 'block_ini': 'Informativo | 2edb2c69-beb8-471f-9799-940599824c36 | oIgvWKILDrYMYDjlgAIk', 'type_blocki': 'informativo', 'access_token': 'EAAFMtaIPwugBAIRPT4mTm2a9nei1940NrJqMbhvvyPwfZAUZA6Id2YaXUeSu06TENy0QoDsprATI0J2ZCGHS2X6UQ4TG2AWkIbNQ3LLGdRMORJZBZBT9BhB58QusrYaXG90RiZAog3r9THJCXmX1m7vjArQ3KoX3PrEGYehS4j6TSblsfU73uf', 'id_user': 'charlygoldcruz@gmail.com', 'api_nlp': 'http://localhost:8282/'}\n",
      "intenatando consulta...\n",
      "consulta: select * from robots where id_face = '106842278334918';\n",
      "Datos enviados SELECT:\n",
      "{'name_robot': 'Oswa1', 'id_face': '106842278334918', 'block_ini': 'Informativo | 2edb2c69-beb8-471f-9799-940599824c36 | oIgvWKILDrYMYDjlgAIk', 'type_blocki': 'informativo', 'access_token': 'EAAFMtaIPwugBAIRPT4mTm2a9nei1940NrJqMbhvvyPwfZAUZA6Id2YaXUeSu06TENy0QoDsprATI0J2ZCGHS2X6UQ4TG2AWkIbNQ3LLGdRMORJZBZBT9BhB58QusrYaXG90RiZAog3r9THJCXmX1m7vjArQ3KoX3PrEGYehS4j6TSblsfU73uf', 'api_nlp': 'http://localhost:8282/', 'id_robot': 583, 'id_user': 'charlygoldcruz@gmail.com'}\n",
      "Datos recibidos SELECT:\n",
      "{'id_robot': '583'}\n",
      "intenatando consulta...\n",
      "consulta: select * from bloqueslide where id_robot= '583' ;\n",
      "Datos enviados SELECT:\n",
      "{'namestate': 'Carrusel | 16ad30d3-2b1e-433d-9f31-58de69dacffe | 23985004-9470-9169-4961-397901325837 | oIgvWKILDrYMYDjlgAIk', 'next_id': 'www.github.com,Informativo | c172acd8-1edc-4d5b-ac66-fdf02dfe35ff | oIgvWKILDrYMYDjlgAIk', 'blocktype': 'slide', 'typingtime': '1', 'default_id': 'Carrusel | 16ad30d3-2b1e-433d-9f31-58de69dacffe | 23985004-9470-9169-4961-397901325837 | oIgvWKILDrYMYDjlgAIk', 'id_var': '2481', 'id_block': 800, 'id_robot': 583, 'opc_nextid': None, 'pos_y': None, 'pos_x': None, 'opc_elm': None, 'tag_active': None}\n",
      "Datos recibidos SELECT:\n",
      "{'id_block': 800}\n",
      "intenatando consulta...\n",
      "consulta: select * from elementos where id_block= '800' ;\n",
      "Datos enviados SELECT:\n",
      "{'blocktype': 'slide', 'title': 'P1', 'image_url': 'https://analyticsindiamag.com/wp-content/uploads/2020/10/7d744a684fe03ebc7e8de545f97739dd.jpg', 'subtitle': 'S1', 'id_block': 800, 'id_elements': 1433}\n",
      "Datos recibidos INSERT:\n",
      "{'name_var': 'variableCarrCarrusel_|_16ad30d3-2b1e-433d-9f31-58de69dacffe7581', 'opc_type': 'Variable', 'var': 0, 'opc_data': 'String', 'id_robot': 583}\n"
     ]
    },
    {
     "name": "stderr",
     "output_type": "stream",
     "text": [
      "127.0.0.1 - - [07/Jul/2021 15:16:28] \"\u001b[37mPOST /insert/variables HTTP/1.1\u001b[0m\" 200 -\n",
      "127.0.0.1 - - [07/Jul/2021 15:16:28] \"\u001b[37mPOST /insert/bloqueslide HTTP/1.1\u001b[0m\" 200 -\n",
      "127.0.0.1 - - [07/Jul/2021 15:16:28] \"\u001b[37mPOST /insert/elementos HTTP/1.1\u001b[0m\" 200 -\n"
     ]
    },
    {
     "name": "stdout",
     "output_type": "stream",
     "text": [
      "intenatando consulta...\n",
      "consulta: select * from variables where name_var= 'variableCarrCarrusel_|_16ad30d3-2b1e-433d-9f31-58de69dacffe7581' and opc_type= 'Variable' and var= '0' and opc_data= 'String' and id_robot= '583' ;\n",
      "Datos enviados INSERT:\n",
      "{'id_var': 2483, 'opc_type': 'Variable', 'opc_data': 'String', 'var': '0', 'id_robot': 583, 'name_var': 'variableCarrCarrusel_|_16ad30d3-2b1e-433d-9f31-58de69dacffe7581'}\n",
      "Datos recibidos INSERT:\n",
      "{'namestate': 'Carrusel | 16ad30d3-2b1e-433d-9f31-58de69dacffe | 23985004-9470-9169-4961-397901325837 | oIgvWKILDrYMYDjlgAIk', 'blocktype': 'slide', 'typingtime': '1', 'default_id': 'Carrusel | 16ad30d3-2b1e-433d-9f31-58de69dacffe | 23985004-9470-9169-4961-397901325837 | oIgvWKILDrYMYDjlgAIk', 'id_var': 2483, 'id_robot': 583}\n",
      "intenatando consulta...\n",
      "consulta: select * from bloqueslide where namestate= 'Carrusel | 16ad30d3-2b1e-433d-9f31-58de69dacffe | 23985004-9470-9169-4961-397901325837 | oIgvWKILDrYMYDjlgAIk' and blocktype= 'slide' and typingtime= '1' and default_id= 'Carrusel | 16ad30d3-2b1e-433d-9f31-58de69dacffe | 23985004-9470-9169-4961-397901325837 | oIgvWKILDrYMYDjlgAIk' and id_var= '2483' and id_robot= '583' ;\n",
      "Datos enviados INSERT:\n",
      "{'namestate': 'Carrusel | 16ad30d3-2b1e-433d-9f31-58de69dacffe | 23985004-9470-9169-4961-397901325837 | oIgvWKILDrYMYDjlgAIk', 'next_id': None, 'blocktype': 'slide', 'typingtime': '1', 'default_id': 'Carrusel | 16ad30d3-2b1e-433d-9f31-58de69dacffe | 23985004-9470-9169-4961-397901325837 | oIgvWKILDrYMYDjlgAIk', 'id_var': '2483', 'id_block': 802, 'id_robot': 583, 'opc_nextid': None, 'pos_y': None, 'pos_x': None, 'opc_elm': None, 'tag_active': None}\n",
      "Datos recibidos INSERT:\n",
      "{'title': 'P1', 'subtitle': 'S1', 'image_url': 'https://analyticsindiamag.com/wp-content/uploads/2020/10/7d744a684fe03ebc7e8de545f97739dd.jpg', 'blocktype': 'slide', 'id_block': 802}\n",
      "intenatando consulta...\n",
      "consulta: select * from elementos where title= 'P1' and subtitle= 'S1' and image_url= 'https://analyticsindiamag.com/wp-content/uploads/2020/10/7d744a684fe03ebc7e8de545f97739dd.jpg' and blocktype= 'slide' and id_block= '802' ;\n",
      "Datos enviados INSERT:\n",
      "{'blocktype': 'slide', 'title': 'P1', 'image_url': 'https://analyticsindiamag.com/wp-content/uploads/2020/10/7d744a684fe03ebc7e8de545f97739dd.jpg', 'subtitle': 'S1', 'id_block': 802, 'id_elements': 1435}\n",
      "Datos recibidos INSERT:\n",
      "{'id_elemento': '1435', 'titlebutton': 'www.github.com', 'typebutton': 'web_url', 'contentbutton': 'www.github.com', 'opc_nextid': 'www.github.com'}\n"
     ]
    },
    {
     "name": "stderr",
     "output_type": "stream",
     "text": [
      "127.0.0.1 - - [07/Jul/2021 15:16:28] \"\u001b[37mPOST /insert/botones HTTP/1.1\u001b[0m\" 200 -\n",
      "127.0.0.1 - - [07/Jul/2021 15:16:28] \"\u001b[37mPOST /insert/botones HTTP/1.1\u001b[0m\" 200 -\n"
     ]
    },
    {
     "name": "stdout",
     "output_type": "stream",
     "text": [
      "intenatando consulta...\n",
      "consulta: select * from botones where id_elemento= '1435' and titlebutton= 'www.github.com' and typebutton= 'web_url' and contentbutton= 'www.github.com' and opc_nextid= 'www.github.com' ;\n",
      "Datos enviados INSERT:\n",
      "{'id_elemento': '1435', 'titlebutton': 'www.github.com', 'typebutton': 'web_url', 'contentbutton': 'www.github.com', 'id_boton': 2674, 'opc_nextid': 'www.github.com'}\n",
      "Datos recibidos INSERT:\n",
      "{'id_elemento': '1435', 'titlebutton': 'Op', 'typebutton': 'postback', 'contentbutton': 'Informativo | c172acd8-1edc-4d5b-ac66-fdf02dfe35ff | oIgvWKILDrYMYDjlgAIk', 'opc_nextid': 'Informativo | c172acd8-1edc-4d5b-ac66-fdf02dfe35ff | oIgvWKILDrYMYDjlgAIk'}\n",
      "intenatando consulta...\n",
      "consulta: select * from botones where id_elemento= '1435' and titlebutton= 'Op' and typebutton= 'postback' and contentbutton= 'Informativo | c172acd8-1edc-4d5b-ac66-fdf02dfe35ff | oIgvWKILDrYMYDjlgAIk' and opc_nextid= 'Informativo | c172acd8-1edc-4d5b-ac66-fdf02dfe35ff | oIgvWKILDrYMYDjlgAIk' ;\n",
      "Datos enviados INSERT:\n",
      "{'id_elemento': '1435', 'titlebutton': 'Op', 'typebutton': 'postback', 'contentbutton': 'Informativo | c172acd8-1edc-4d5b-ac66-fdf02dfe35ff | oIgvWKILDrYMYDjlgAIk', 'id_boton': 2675, 'opc_nextid': 'Informativo | c172acd8-1edc-4d5b-ac66-fdf02dfe35ff | oIgvWKILDrYMYDjlgAIk'}\n",
      "Datos recibidos INSERT:\n",
      "{'next_id': 'Carrusel | 16ad30d3-2b1e-433d-9f31-58de69dacffe | 23985004-9470-9169-4961-397901325837 | oIgvWKILDrYMYDjlgAIk', 'namestate': 'Informativo | e61376a2-83b0-4ccd-90b2-0d3b8d9fc04b | 23985004-9470-9169-4961-397901325837 | oIgvWKILDrYMYDjlgAIk', 'contenido': 'Este es un compuesto', 'contenttype': 'text', 'typingtime': '1', 'id_robot': 583, 'blocktype': 'informativo'}\n",
      "intenatando consulta...\n",
      "consulta: select * from bloqueinformativo where next_id= 'Carrusel | 16ad30d3-2b1e-433d-9f31-58de69dacffe | 23985004-9470-9169-4961-397901325837 | oIgvWKILDrYMYDjlgAIk' and namestate= 'Informativo | e61376a2-83b0-4ccd-90b2-0d3b8d9fc04b | 23985004-9470-9169-4961-397901325837 | oIgvWKILDrYMYDjlgAIk' and contenido= 'Este es un compuesto' and contenttype= 'text' and typingtime= '1' and id_robot= '583' and blocktype= 'informativo' ;\n"
     ]
    },
    {
     "name": "stderr",
     "output_type": "stream",
     "text": [
      "127.0.0.1 - - [07/Jul/2021 15:16:28] \"\u001b[37mPOST /insert/bloqueinformativo HTTP/1.1\u001b[0m\" 200 -\n",
      "127.0.0.1 - - [07/Jul/2021 15:16:28] \"\u001b[37mPOST /insert/bloqueinformativo HTTP/1.1\u001b[0m\" 200 -\n",
      "127.0.0.1 - - [07/Jul/2021 15:16:29] \"\u001b[37mPOST /insert/bloqueinformativo HTTP/1.1\u001b[0m\" 200 -\n"
     ]
    },
    {
     "name": "stdout",
     "output_type": "stream",
     "text": [
      "Datos enviados INSERT:\n",
      "{'namestate': 'Informativo | e61376a2-83b0-4ccd-90b2-0d3b8d9fc04b | 23985004-9470-9169-4961-397901325837 | oIgvWKILDrYMYDjlgAIk', 'contenido': 'Este es un compuesto', 'next_id': 'Carrusel | 16ad30d3-2b1e-433d-9f31-58de69dacffe | 23985004-9470-9169-4961-397901325837 | oIgvWKILDrYMYDjlgAIk', 'blocktype': 'informativo', 'contenttype': 'text', 'typingtime': '1', 'id_block': 4144, 'id_robot': 583, 'opc_nextid': None, 'pos_y': None, 'pos_x': None, 'tag_active': None}\n",
      "Datos recibidos INSERT:\n",
      "{'next_id': 'Informativo | e61376a2-83b0-4ccd-90b2-0d3b8d9fc04b | 23985004-9470-9169-4961-397901325837 | oIgvWKILDrYMYDjlgAIk', 'namestate': 'Informativo | 2edb2c69-beb8-471f-9799-940599824c36 | oIgvWKILDrYMYDjlgAIk', 'contenido': 'Hola oswaldo', 'contenttype': 'text', 'typingtime': '1', 'id_robot': 583, 'blocktype': 'informativo'}\n",
      "intenatando consulta...\n",
      "consulta: select * from bloqueinformativo where next_id= 'Informativo | e61376a2-83b0-4ccd-90b2-0d3b8d9fc04b | 23985004-9470-9169-4961-397901325837 | oIgvWKILDrYMYDjlgAIk' and namestate= 'Informativo | 2edb2c69-beb8-471f-9799-940599824c36 | oIgvWKILDrYMYDjlgAIk' and contenido= 'Hola oswaldo' and contenttype= 'text' and typingtime= '1' and id_robot= '583' and blocktype= 'informativo' ;\n",
      "Datos enviados INSERT:\n",
      "{'namestate': 'Informativo | 2edb2c69-beb8-471f-9799-940599824c36 | oIgvWKILDrYMYDjlgAIk', 'contenido': 'Hola oswaldo', 'next_id': 'Informativo | e61376a2-83b0-4ccd-90b2-0d3b8d9fc04b | 23985004-9470-9169-4961-397901325837 | oIgvWKILDrYMYDjlgAIk', 'blocktype': 'informativo', 'contenttype': 'text', 'typingtime': '1', 'id_block': 4145, 'id_robot': 583, 'opc_nextid': None, 'pos_y': None, 'pos_x': None, 'tag_active': None}\n",
      "Datos recibidos INSERT:\n",
      "{'next_id': 'Salida', 'namestate': 'Informativo | c172acd8-1edc-4d5b-ac66-fdf02dfe35ff | oIgvWKILDrYMYDjlgAIk', 'contenido': 'Adios Oswa', 'contenttype': 'text', 'typingtime': '1', 'id_robot': 583, 'blocktype': 'informativo'}\n",
      "intenatando consulta...\n",
      "consulta: select * from bloqueinformativo where next_id= 'Salida' and namestate= 'Informativo | c172acd8-1edc-4d5b-ac66-fdf02dfe35ff | oIgvWKILDrYMYDjlgAIk' and contenido= 'Adios Oswa' and contenttype= 'text' and typingtime= '1' and id_robot= '583' and blocktype= 'informativo' ;\n",
      "Datos enviados INSERT:\n",
      "{'namestate': 'Informativo | c172acd8-1edc-4d5b-ac66-fdf02dfe35ff | oIgvWKILDrYMYDjlgAIk', 'contenido': 'Adios Oswa', 'next_id': 'Salida', 'blocktype': 'informativo', 'contenttype': 'text', 'typingtime': '1', 'id_block': 4146, 'id_robot': 583, 'opc_nextid': None, 'pos_y': None, 'pos_x': None, 'tag_active': None}\n",
      "Datos recibidos INSERT:\n",
      "{'next_id': '', 'namestate': 'Salida', 'contenido': '', 'contenttype': 'text', 'typingtime': 3, 'id_robot': 583, 'blocktype': 'informativo'}\n",
      "intenatando consulta...\n",
      "consulta: select * from bloqueinformativo where next_id= '' and namestate= 'Salida' and contenido= '' and contenttype= 'text' and typingtime= '3' and id_robot= '583' and blocktype= 'informativo' ;\n"
     ]
    },
    {
     "name": "stderr",
     "output_type": "stream",
     "text": [
      "127.0.0.1 - - [07/Jul/2021 15:16:29] \"\u001b[37mPOST /insert/bloqueinformativo HTTP/1.1\u001b[0m\" 200 -\n"
     ]
    },
    {
     "name": "stdout",
     "output_type": "stream",
     "text": [
      "Datos enviados INSERT:\n",
      "{'namestate': 'Salida', 'contenido': '', 'next_id': '', 'blocktype': 'informativo', 'contenttype': 'text', 'typingtime': '3', 'id_block': 4147, 'id_robot': 583, 'opc_nextid': None, 'pos_y': None, 'pos_x': None, 'tag_active': None}\n"
     ]
    },
    {
     "name": "stderr",
     "output_type": "stream",
     "text": [
      "127.0.0.1 - - [07/Jul/2021 15:16:29] \"\u001b[37mGET /select/robots HTTP/1.1\u001b[0m\" 200 -\n",
      "127.0.0.1 - - [07/Jul/2021 15:16:29] \"\u001b[37mGET /select/bloqueslide HTTP/1.1\u001b[0m\" 200 -\n",
      "127.0.0.1 - - [07/Jul/2021 15:16:29] \"\u001b[37mGET /select/elementos HTTP/1.1\u001b[0m\" 200 -\n"
     ]
    },
    {
     "name": "stdout",
     "output_type": "stream",
     "text": [
      "Datos recibidos SELECT:\n",
      "{'name_robot': 'Oswa2', 'id_face': '109253348089942', 'block_ini': 'Informativo | d602e284-c054-4f7f-90b0-3d079f8908e4 | XTHyJxz6aPUIFVONQdUE', 'type_blocki': 'informativo', 'access_token': 'EAAFMtaIPwugBABaSyaEaQxCjZB05xZAs5fag2JZCZB9LcVSFPJtAjcu48PewIfljpztLDiWZCZAINUghHfyn85rSKQxPnfZAMZA3DScogyb4Q1cg91NEiEgVLhlsHJXakq9diPLuJtiRqZC8kCp4MfZCllTvoPR0Jad4B0r0JWp8foAffcrjKebrSp', 'id_user': 'charlygoldcruz@gmail.com', 'api_nlp': 'http://localhost:8282/'}\n",
      "intenatando consulta...\n",
      "consulta: select * from robots where id_face = '109253348089942';\n",
      "Datos enviados SELECT:\n",
      "{'name_robot': 'Oswa2', 'id_face': '109253348089942', 'block_ini': 'Informativo | d602e284-c054-4f7f-90b0-3d079f8908e4 | XTHyJxz6aPUIFVONQdUE', 'type_blocki': 'informativo', 'access_token': 'EAAFMtaIPwugBABaSyaEaQxCjZB05xZAs5fag2JZCZB9LcVSFPJtAjcu48PewIfljpztLDiWZCZAINUghHfyn85rSKQxPnfZAMZA3DScogyb4Q1cg91NEiEgVLhlsHJXakq9diPLuJtiRqZC8kCp4MfZCllTvoPR0Jad4B0r0JWp8foAffcrjKebrSp', 'api_nlp': 'http://localhost:8282/', 'id_robot': 584, 'id_user': 'charlygoldcruz@gmail.com'}\n",
      "Datos recibidos SELECT:\n",
      "{'id_robot': '584'}\n",
      "intenatando consulta...\n",
      "consulta: select * from bloqueslide where id_robot= '584' ;\n",
      "Datos enviados SELECT:\n",
      "{'namestate': 'Carrusel | 16ad30d3-2b1e-433d-9f31-58de69dacffe | 46973551-1467-4450-7433-103925931451 | XTHyJxz6aPUIFVONQdUE', 'next_id': 'www.github.com,Informativo | 38f82c6d-a32e-4687-ae19-71aebb228e68 | XTHyJxz6aPUIFVONQdUE', 'blocktype': 'slide', 'typingtime': '1', 'default_id': 'Carrusel | 16ad30d3-2b1e-433d-9f31-58de69dacffe | 46973551-1467-4450-7433-103925931451 | XTHyJxz6aPUIFVONQdUE', 'id_var': '2482', 'id_block': 801, 'id_robot': 584, 'opc_nextid': None, 'pos_y': None, 'pos_x': None, 'opc_elm': None, 'tag_active': None}\n",
      "Datos recibidos SELECT:\n",
      "{'id_block': 801}\n",
      "intenatando consulta...\n",
      "consulta: select * from elementos where id_block= '801' ;\n",
      "Datos enviados SELECT:\n",
      "{'blocktype': 'slide', 'title': 'P1', 'image_url': 'https://analyticsindiamag.com/wp-content/uploads/2020/10/7d744a684fe03ebc7e8de545f97739dd.jpg', 'subtitle': 'S1', 'id_block': 801, 'id_elements': 1434}\n",
      "Datos recibidos INSERT:\n",
      "{'name_var': 'variableCarrCarrusel_|_16ad30d3-2b1e-433d-9f31-58de69dacffe8498', 'opc_type': 'Variable', 'var': 0, 'opc_data': 'String', 'id_robot': 584}\n"
     ]
    },
    {
     "name": "stderr",
     "output_type": "stream",
     "text": [
      "127.0.0.1 - - [07/Jul/2021 15:16:29] \"\u001b[37mPOST /insert/variables HTTP/1.1\u001b[0m\" 200 -\n",
      "127.0.0.1 - - [07/Jul/2021 15:16:30] \"\u001b[37mPOST /insert/bloqueslide HTTP/1.1\u001b[0m\" 200 -\n",
      "127.0.0.1 - - [07/Jul/2021 15:16:30] \"\u001b[37mPOST /insert/elementos HTTP/1.1\u001b[0m\" 200 -\n"
     ]
    },
    {
     "name": "stdout",
     "output_type": "stream",
     "text": [
      "intenatando consulta...\n",
      "consulta: select * from variables where name_var= 'variableCarrCarrusel_|_16ad30d3-2b1e-433d-9f31-58de69dacffe8498' and opc_type= 'Variable' and var= '0' and opc_data= 'String' and id_robot= '584' ;\n",
      "Datos enviados INSERT:\n",
      "{'id_var': 2484, 'opc_type': 'Variable', 'opc_data': 'String', 'var': '0', 'id_robot': 584, 'name_var': 'variableCarrCarrusel_|_16ad30d3-2b1e-433d-9f31-58de69dacffe8498'}\n",
      "Datos recibidos INSERT:\n",
      "{'namestate': 'Carrusel | 16ad30d3-2b1e-433d-9f31-58de69dacffe | 46973551-1467-4450-7433-103925931451 | XTHyJxz6aPUIFVONQdUE', 'blocktype': 'slide', 'typingtime': '1', 'default_id': 'Carrusel | 16ad30d3-2b1e-433d-9f31-58de69dacffe | 46973551-1467-4450-7433-103925931451 | XTHyJxz6aPUIFVONQdUE', 'id_var': 2484, 'id_robot': 584}\n",
      "intenatando consulta...\n",
      "consulta: select * from bloqueslide where namestate= 'Carrusel | 16ad30d3-2b1e-433d-9f31-58de69dacffe | 46973551-1467-4450-7433-103925931451 | XTHyJxz6aPUIFVONQdUE' and blocktype= 'slide' and typingtime= '1' and default_id= 'Carrusel | 16ad30d3-2b1e-433d-9f31-58de69dacffe | 46973551-1467-4450-7433-103925931451 | XTHyJxz6aPUIFVONQdUE' and id_var= '2484' and id_robot= '584' ;\n",
      "Datos enviados INSERT:\n",
      "{'namestate': 'Carrusel | 16ad30d3-2b1e-433d-9f31-58de69dacffe | 46973551-1467-4450-7433-103925931451 | XTHyJxz6aPUIFVONQdUE', 'next_id': None, 'blocktype': 'slide', 'typingtime': '1', 'default_id': 'Carrusel | 16ad30d3-2b1e-433d-9f31-58de69dacffe | 46973551-1467-4450-7433-103925931451 | XTHyJxz6aPUIFVONQdUE', 'id_var': '2484', 'id_block': 803, 'id_robot': 584, 'opc_nextid': None, 'pos_y': None, 'pos_x': None, 'opc_elm': None, 'tag_active': None}\n",
      "Datos recibidos INSERT:\n",
      "{'image_url': 'https://analyticsindiamag.com/wp-content/uploads/2020/10/7d744a684fe03ebc7e8de545f97739dd.jpg', 'subtitle': 'S1', 'title': 'P1', 'blocktype': 'slide', 'id_block': 803}\n",
      "intenatando consulta...\n",
      "consulta: select * from elementos where image_url= 'https://analyticsindiamag.com/wp-content/uploads/2020/10/7d744a684fe03ebc7e8de545f97739dd.jpg' and subtitle= 'S1' and title= 'P1' and blocktype= 'slide' and id_block= '803' ;\n",
      "Datos enviados INSERT:\n",
      "{'blocktype': 'slide', 'title': 'P1', 'image_url': 'https://analyticsindiamag.com/wp-content/uploads/2020/10/7d744a684fe03ebc7e8de545f97739dd.jpg', 'subtitle': 'S1', 'id_block': 803, 'id_elements': 1436}\n",
      "Datos recibidos INSERT:\n",
      "{'id_elemento': '1436', 'titlebutton': 'www.github.com', 'typebutton': 'web_url', 'contentbutton': 'www.github.com', 'opc_nextid': 'www.github.com'}\n"
     ]
    },
    {
     "name": "stderr",
     "output_type": "stream",
     "text": [
      "127.0.0.1 - - [07/Jul/2021 15:16:30] \"\u001b[37mPOST /insert/botones HTTP/1.1\u001b[0m\" 200 -\n",
      "127.0.0.1 - - [07/Jul/2021 15:16:30] \"\u001b[37mPOST /insert/botones HTTP/1.1\u001b[0m\" 200 -\n",
      "127.0.0.1 - - [07/Jul/2021 15:16:30] \"\u001b[37mPOST /insert/bloqueinformativo HTTP/1.1\u001b[0m\" 200 -\n"
     ]
    },
    {
     "name": "stdout",
     "output_type": "stream",
     "text": [
      "intenatando consulta...\n",
      "consulta: select * from botones where id_elemento= '1436' and titlebutton= 'www.github.com' and typebutton= 'web_url' and contentbutton= 'www.github.com' and opc_nextid= 'www.github.com' ;\n",
      "Datos enviados INSERT:\n",
      "{'id_elemento': '1436', 'titlebutton': 'www.github.com', 'typebutton': 'web_url', 'contentbutton': 'www.github.com', 'id_boton': 2676, 'opc_nextid': 'www.github.com'}\n",
      "Datos recibidos INSERT:\n",
      "{'id_elemento': '1436', 'titlebutton': 'Op', 'typebutton': 'postback', 'contentbutton': 'Informativo | 38f82c6d-a32e-4687-ae19-71aebb228e68 | XTHyJxz6aPUIFVONQdUE', 'opc_nextid': 'Informativo | 38f82c6d-a32e-4687-ae19-71aebb228e68 | XTHyJxz6aPUIFVONQdUE'}\n",
      "intenatando consulta...\n",
      "consulta: select * from botones where id_elemento= '1436' and titlebutton= 'Op' and typebutton= 'postback' and contentbutton= 'Informativo | 38f82c6d-a32e-4687-ae19-71aebb228e68 | XTHyJxz6aPUIFVONQdUE' and opc_nextid= 'Informativo | 38f82c6d-a32e-4687-ae19-71aebb228e68 | XTHyJxz6aPUIFVONQdUE' ;\n",
      "Datos enviados INSERT:\n",
      "{'id_elemento': '1436', 'titlebutton': 'Op', 'typebutton': 'postback', 'contentbutton': 'Informativo | 38f82c6d-a32e-4687-ae19-71aebb228e68 | XTHyJxz6aPUIFVONQdUE', 'id_boton': 2677, 'opc_nextid': 'Informativo | 38f82c6d-a32e-4687-ae19-71aebb228e68 | XTHyJxz6aPUIFVONQdUE'}\n",
      "Datos recibidos INSERT:\n",
      "{'next_id': 'Carrusel | 16ad30d3-2b1e-433d-9f31-58de69dacffe | 46973551-1467-4450-7433-103925931451 | XTHyJxz6aPUIFVONQdUE', 'namestate': 'Informativo | e61376a2-83b0-4ccd-90b2-0d3b8d9fc04b | 46973551-1467-4450-7433-103925931451 | XTHyJxz6aPUIFVONQdUE', 'contenido': 'Editando Bloque ', 'contenttype': 'text', 'typingtime': '1', 'id_robot': 584, 'blocktype': 'informativo'}\n",
      "intenatando consulta...\n",
      "consulta: select * from bloqueinformativo where next_id= 'Carrusel | 16ad30d3-2b1e-433d-9f31-58de69dacffe | 46973551-1467-4450-7433-103925931451 | XTHyJxz6aPUIFVONQdUE' and namestate= 'Informativo | e61376a2-83b0-4ccd-90b2-0d3b8d9fc04b | 46973551-1467-4450-7433-103925931451 | XTHyJxz6aPUIFVONQdUE' and contenido= 'Editando Bloque ' and contenttype= 'text' and typingtime= '1' and id_robot= '584' and blocktype= 'informativo' ;\n",
      "Datos enviados INSERT:\n",
      "{'namestate': 'Informativo | e61376a2-83b0-4ccd-90b2-0d3b8d9fc04b | 46973551-1467-4450-7433-103925931451 | XTHyJxz6aPUIFVONQdUE', 'contenido': 'Editando Bloque ', 'next_id': 'Carrusel | 16ad30d3-2b1e-433d-9f31-58de69dacffe | 46973551-1467-4450-7433-103925931451 | XTHyJxz6aPUIFVONQdUE', 'blocktype': 'informativo', 'contenttype': 'text', 'typingtime': '1', 'id_block': 4148, 'id_robot': 584, 'opc_nextid': None, 'pos_y': None, 'pos_x': None, 'tag_active': None}\n",
      "Datos recibidos INSERT:\n",
      "{'next_id': 'Informativo | e61376a2-83b0-4ccd-90b2-0d3b8d9fc04b | 46973551-1467-4450-7433-103925931451 | XTHyJxz6aPUIFVONQdUE', 'namestate': 'Informativo | d602e284-c054-4f7f-90b0-3d079f8908e4 | XTHyJxz6aPUIFVONQdUE', 'contenido': 'Hola soy bot2', 'contenttype': 'text', 'typingtime': '1', 'id_robot': 584, 'blocktype': 'informativo'}\n"
     ]
    },
    {
     "name": "stderr",
     "output_type": "stream",
     "text": [
      "127.0.0.1 - - [07/Jul/2021 15:16:30] \"\u001b[37mPOST /insert/bloqueinformativo HTTP/1.1\u001b[0m\" 200 -\n",
      "127.0.0.1 - - [07/Jul/2021 15:16:30] \"\u001b[37mPOST /insert/bloqueinformativo HTTP/1.1\u001b[0m\" 200 -\n",
      "127.0.0.1 - - [07/Jul/2021 15:16:30] \"\u001b[37mPOST /insert/bloqueinformativo HTTP/1.1\u001b[0m\" 200 -\n"
     ]
    },
    {
     "name": "stdout",
     "output_type": "stream",
     "text": [
      "intenatando consulta...\n",
      "consulta: select * from bloqueinformativo where next_id= 'Informativo | e61376a2-83b0-4ccd-90b2-0d3b8d9fc04b | 46973551-1467-4450-7433-103925931451 | XTHyJxz6aPUIFVONQdUE' and namestate= 'Informativo | d602e284-c054-4f7f-90b0-3d079f8908e4 | XTHyJxz6aPUIFVONQdUE' and contenido= 'Hola soy bot2' and contenttype= 'text' and typingtime= '1' and id_robot= '584' and blocktype= 'informativo' ;\n",
      "Datos enviados INSERT:\n",
      "{'namestate': 'Informativo | d602e284-c054-4f7f-90b0-3d079f8908e4 | XTHyJxz6aPUIFVONQdUE', 'contenido': 'Hola soy bot2', 'next_id': 'Informativo | e61376a2-83b0-4ccd-90b2-0d3b8d9fc04b | 46973551-1467-4450-7433-103925931451 | XTHyJxz6aPUIFVONQdUE', 'blocktype': 'informativo', 'contenttype': 'text', 'typingtime': '1', 'id_block': 4149, 'id_robot': 584, 'opc_nextid': None, 'pos_y': None, 'pos_x': None, 'tag_active': None}\n",
      "Datos recibidos INSERT:\n",
      "{'next_id': 'Salida', 'namestate': 'Informativo | 38f82c6d-a32e-4687-ae19-71aebb228e68 | XTHyJxz6aPUIFVONQdUE', 'contenido': 'Adios oswa', 'contenttype': 'text', 'typingtime': '1', 'id_robot': 584, 'blocktype': 'informativo'}\n",
      "intenatando consulta...\n",
      "consulta: select * from bloqueinformativo where next_id= 'Salida' and namestate= 'Informativo | 38f82c6d-a32e-4687-ae19-71aebb228e68 | XTHyJxz6aPUIFVONQdUE' and contenido= 'Adios oswa' and contenttype= 'text' and typingtime= '1' and id_robot= '584' and blocktype= 'informativo' ;\n",
      "Datos enviados INSERT:\n",
      "{'namestate': 'Informativo | 38f82c6d-a32e-4687-ae19-71aebb228e68 | XTHyJxz6aPUIFVONQdUE', 'contenido': 'Adios oswa', 'next_id': 'Salida', 'blocktype': 'informativo', 'contenttype': 'text', 'typingtime': '1', 'id_block': 4150, 'id_robot': 584, 'opc_nextid': None, 'pos_y': None, 'pos_x': None, 'tag_active': None}\n",
      "Datos recibidos INSERT:\n",
      "{'next_id': '', 'namestate': 'Salida', 'contenido': '', 'contenttype': 'text', 'typingtime': 3, 'id_robot': 584, 'blocktype': 'informativo'}\n",
      "intenatando consulta...\n",
      "consulta: select * from bloqueinformativo where next_id= '' and namestate= 'Salida' and contenido= '' and contenttype= 'text' and typingtime= '3' and id_robot= '584' and blocktype= 'informativo' ;\n",
      "Datos enviados INSERT:\n",
      "{'namestate': 'Salida', 'contenido': '', 'next_id': '', 'blocktype': 'informativo', 'contenttype': 'text', 'typingtime': '3', 'id_block': 4151, 'id_robot': 584, 'opc_nextid': None, 'pos_y': None, 'pos_x': None, 'tag_active': None}\n"
     ]
    },
    {
     "name": "stderr",
     "output_type": "stream",
     "text": [
      "127.0.0.1 - - [07/Jul/2021 15:16:31] \"\u001b[37mGET /select/robots HTTP/1.1\u001b[0m\" 200 -\n",
      "127.0.0.1 - - [07/Jul/2021 15:16:31] \"\u001b[37mGET /select/bloqueslide HTTP/1.1\u001b[0m\" 200 -\n",
      "127.0.0.1 - - [07/Jul/2021 15:16:31] \"\u001b[37mGET /select/elementos HTTP/1.1\u001b[0m\" 200 -\n"
     ]
    },
    {
     "name": "stdout",
     "output_type": "stream",
     "text": [
      "Datos recibidos SELECT:\n",
      "{'name_robot': 'Oswa1', 'id_face': '106842278334918', 'block_ini': 'Informativo | 2edb2c69-beb8-471f-9799-940599824c36 | oIgvWKILDrYMYDjlgAIk', 'type_blocki': 'informativo', 'access_token': 'EAAFMtaIPwugBAIRPT4mTm2a9nei1940NrJqMbhvvyPwfZAUZA6Id2YaXUeSu06TENy0QoDsprATI0J2ZCGHS2X6UQ4TG2AWkIbNQ3LLGdRMORJZBZBT9BhB58QusrYaXG90RiZAog3r9THJCXmX1m7vjArQ3KoX3PrEGYehS4j6TSblsfU73uf', 'id_user': 'charlygoldcruz@gmail.com', 'api_nlp': 'http://localhost:8282/'}\n",
      "intenatando consulta...\n",
      "consulta: select * from robots where id_face = '106842278334918';\n",
      "Datos enviados SELECT:\n",
      "{'name_robot': 'Oswa1', 'id_face': '106842278334918', 'block_ini': 'Informativo | 2edb2c69-beb8-471f-9799-940599824c36 | oIgvWKILDrYMYDjlgAIk', 'type_blocki': 'informativo', 'access_token': 'EAAFMtaIPwugBAIRPT4mTm2a9nei1940NrJqMbhvvyPwfZAUZA6Id2YaXUeSu06TENy0QoDsprATI0J2ZCGHS2X6UQ4TG2AWkIbNQ3LLGdRMORJZBZBT9BhB58QusrYaXG90RiZAog3r9THJCXmX1m7vjArQ3KoX3PrEGYehS4j6TSblsfU73uf', 'api_nlp': 'http://localhost:8282/', 'id_robot': 583, 'id_user': 'charlygoldcruz@gmail.com'}\n",
      "Datos recibidos SELECT:\n",
      "{'id_robot': '583'}\n",
      "intenatando consulta...\n",
      "consulta: select * from bloqueslide where id_robot= '583' ;\n",
      "Datos enviados SELECT:\n",
      "{'namestate': 'Carrusel | 16ad30d3-2b1e-433d-9f31-58de69dacffe | 23985004-9470-9169-4961-397901325837 | oIgvWKILDrYMYDjlgAIk', 'next_id': 'www.github.com,Informativo | c172acd8-1edc-4d5b-ac66-fdf02dfe35ff | oIgvWKILDrYMYDjlgAIk', 'blocktype': 'slide', 'typingtime': '1', 'default_id': 'Carrusel | 16ad30d3-2b1e-433d-9f31-58de69dacffe | 23985004-9470-9169-4961-397901325837 | oIgvWKILDrYMYDjlgAIk', 'id_var': '2483', 'id_block': 802, 'id_robot': 583, 'opc_nextid': None, 'pos_y': None, 'pos_x': None, 'opc_elm': None, 'tag_active': None}\n",
      "Datos recibidos SELECT:\n",
      "{'id_block': 802}\n",
      "intenatando consulta...\n",
      "consulta: select * from elementos where id_block= '802' ;\n",
      "Datos enviados SELECT:\n",
      "{'blocktype': 'slide', 'title': 'P1', 'image_url': 'https://analyticsindiamag.com/wp-content/uploads/2020/10/7d744a684fe03ebc7e8de545f97739dd.jpg', 'subtitle': 'S1', 'id_block': 802, 'id_elements': 1435}\n",
      "Datos recibidos INSERT:\n",
      "{'name_var': 'variableCarrCarrusel_|_16ad30d3-2b1e-433d-9f31-58de69dacffe8796', 'opc_type': 'Variable', 'var': 0, 'opc_data': 'String', 'id_robot': 583}\n"
     ]
    },
    {
     "name": "stderr",
     "output_type": "stream",
     "text": [
      "127.0.0.1 - - [07/Jul/2021 15:16:31] \"\u001b[37mPOST /insert/variables HTTP/1.1\u001b[0m\" 200 -\n",
      "127.0.0.1 - - [07/Jul/2021 15:16:31] \"\u001b[37mPOST /insert/bloqueslide HTTP/1.1\u001b[0m\" 200 -\n",
      "127.0.0.1 - - [07/Jul/2021 15:16:31] \"\u001b[37mPOST /insert/elementos HTTP/1.1\u001b[0m\" 200 -\n"
     ]
    },
    {
     "name": "stdout",
     "output_type": "stream",
     "text": [
      "intenatando consulta...\n",
      "consulta: select * from variables where name_var= 'variableCarrCarrusel_|_16ad30d3-2b1e-433d-9f31-58de69dacffe8796' and opc_type= 'Variable' and var= '0' and opc_data= 'String' and id_robot= '583' ;\n",
      "Datos enviados INSERT:\n",
      "{'id_var': 2485, 'opc_type': 'Variable', 'opc_data': 'String', 'var': '0', 'id_robot': 583, 'name_var': 'variableCarrCarrusel_|_16ad30d3-2b1e-433d-9f31-58de69dacffe8796'}\n",
      "Datos recibidos INSERT:\n",
      "{'namestate': 'Carrusel | 16ad30d3-2b1e-433d-9f31-58de69dacffe | 23985004-9470-9169-4961-397901325837 | oIgvWKILDrYMYDjlgAIk', 'blocktype': 'slide', 'typingtime': '1', 'default_id': 'Carrusel | 16ad30d3-2b1e-433d-9f31-58de69dacffe | 23985004-9470-9169-4961-397901325837 | oIgvWKILDrYMYDjlgAIk', 'id_var': 2485, 'id_robot': 583}\n",
      "intenatando consulta...\n",
      "consulta: select * from bloqueslide where namestate= 'Carrusel | 16ad30d3-2b1e-433d-9f31-58de69dacffe | 23985004-9470-9169-4961-397901325837 | oIgvWKILDrYMYDjlgAIk' and blocktype= 'slide' and typingtime= '1' and default_id= 'Carrusel | 16ad30d3-2b1e-433d-9f31-58de69dacffe | 23985004-9470-9169-4961-397901325837 | oIgvWKILDrYMYDjlgAIk' and id_var= '2485' and id_robot= '583' ;\n",
      "Datos enviados INSERT:\n",
      "{'namestate': 'Carrusel | 16ad30d3-2b1e-433d-9f31-58de69dacffe | 23985004-9470-9169-4961-397901325837 | oIgvWKILDrYMYDjlgAIk', 'next_id': None, 'blocktype': 'slide', 'typingtime': '1', 'default_id': 'Carrusel | 16ad30d3-2b1e-433d-9f31-58de69dacffe | 23985004-9470-9169-4961-397901325837 | oIgvWKILDrYMYDjlgAIk', 'id_var': '2485', 'id_block': 804, 'id_robot': 583, 'opc_nextid': None, 'pos_y': None, 'pos_x': None, 'opc_elm': None, 'tag_active': None}\n",
      "Datos recibidos INSERT:\n",
      "{'image_url': 'https://analyticsindiamag.com/wp-content/uploads/2020/10/7d744a684fe03ebc7e8de545f97739dd.jpg', 'subtitle': 'S1', 'title': 'P1', 'blocktype': 'slide', 'id_block': 804}\n",
      "intenatando consulta...\n",
      "consulta: select * from elementos where image_url= 'https://analyticsindiamag.com/wp-content/uploads/2020/10/7d744a684fe03ebc7e8de545f97739dd.jpg' and subtitle= 'S1' and title= 'P1' and blocktype= 'slide' and id_block= '804' ;\n",
      "Datos enviados INSERT:\n",
      "{'blocktype': 'slide', 'title': 'P1', 'image_url': 'https://analyticsindiamag.com/wp-content/uploads/2020/10/7d744a684fe03ebc7e8de545f97739dd.jpg', 'subtitle': 'S1', 'id_block': 804, 'id_elements': 1437}\n",
      "Datos recibidos INSERT:\n",
      "{'id_elemento': '1437', 'titlebutton': 'www.github.com', 'typebutton': 'web_url', 'contentbutton': 'www.github.com', 'opc_nextid': 'www.github.com'}\n"
     ]
    },
    {
     "name": "stderr",
     "output_type": "stream",
     "text": [
      "127.0.0.1 - - [07/Jul/2021 15:16:31] \"\u001b[37mPOST /insert/botones HTTP/1.1\u001b[0m\" 200 -\n",
      "127.0.0.1 - - [07/Jul/2021 15:16:31] \"\u001b[37mPOST /insert/botones HTTP/1.1\u001b[0m\" 200 -\n",
      "127.0.0.1 - - [07/Jul/2021 15:16:31] \"\u001b[37mPOST /insert/bloqueinformativo HTTP/1.1\u001b[0m\" 200 -\n"
     ]
    },
    {
     "name": "stdout",
     "output_type": "stream",
     "text": [
      "intenatando consulta...\n",
      "consulta: select * from botones where id_elemento= '1437' and titlebutton= 'www.github.com' and typebutton= 'web_url' and contentbutton= 'www.github.com' and opc_nextid= 'www.github.com' ;\n",
      "Datos enviados INSERT:\n",
      "{'id_elemento': '1437', 'titlebutton': 'www.github.com', 'typebutton': 'web_url', 'contentbutton': 'www.github.com', 'id_boton': 2678, 'opc_nextid': 'www.github.com'}\n",
      "Datos recibidos INSERT:\n",
      "{'id_elemento': '1437', 'titlebutton': 'Op', 'typebutton': 'postback', 'contentbutton': 'Informativo | c172acd8-1edc-4d5b-ac66-fdf02dfe35ff | oIgvWKILDrYMYDjlgAIk', 'opc_nextid': 'Informativo | c172acd8-1edc-4d5b-ac66-fdf02dfe35ff | oIgvWKILDrYMYDjlgAIk'}\n",
      "intenatando consulta...\n",
      "consulta: select * from botones where id_elemento= '1437' and titlebutton= 'Op' and typebutton= 'postback' and contentbutton= 'Informativo | c172acd8-1edc-4d5b-ac66-fdf02dfe35ff | oIgvWKILDrYMYDjlgAIk' and opc_nextid= 'Informativo | c172acd8-1edc-4d5b-ac66-fdf02dfe35ff | oIgvWKILDrYMYDjlgAIk' ;\n",
      "Datos enviados INSERT:\n",
      "{'id_elemento': '1437', 'titlebutton': 'Op', 'typebutton': 'postback', 'contentbutton': 'Informativo | c172acd8-1edc-4d5b-ac66-fdf02dfe35ff | oIgvWKILDrYMYDjlgAIk', 'id_boton': 2679, 'opc_nextid': 'Informativo | c172acd8-1edc-4d5b-ac66-fdf02dfe35ff | oIgvWKILDrYMYDjlgAIk'}\n",
      "Datos recibidos INSERT:\n",
      "{'next_id': 'Carrusel | 16ad30d3-2b1e-433d-9f31-58de69dacffe | 23985004-9470-9169-4961-397901325837 | oIgvWKILDrYMYDjlgAIk', 'namestate': 'Informativo | e61376a2-83b0-4ccd-90b2-0d3b8d9fc04b | 23985004-9470-9169-4961-397901325837 | oIgvWKILDrYMYDjlgAIk', 'contenido': 'Este es un compuesto', 'contenttype': 'text', 'typingtime': '1', 'id_robot': 583, 'blocktype': 'informativo'}\n",
      "intenatando consulta...\n",
      "consulta: select * from bloqueinformativo where next_id= 'Carrusel | 16ad30d3-2b1e-433d-9f31-58de69dacffe | 23985004-9470-9169-4961-397901325837 | oIgvWKILDrYMYDjlgAIk' and namestate= 'Informativo | e61376a2-83b0-4ccd-90b2-0d3b8d9fc04b | 23985004-9470-9169-4961-397901325837 | oIgvWKILDrYMYDjlgAIk' and contenido= 'Este es un compuesto' and contenttype= 'text' and typingtime= '1' and id_robot= '583' and blocktype= 'informativo' ;\n",
      "Datos enviados INSERT:\n",
      "{'namestate': 'Informativo | e61376a2-83b0-4ccd-90b2-0d3b8d9fc04b | 23985004-9470-9169-4961-397901325837 | oIgvWKILDrYMYDjlgAIk', 'contenido': 'Este es un compuesto', 'next_id': 'Carrusel | 16ad30d3-2b1e-433d-9f31-58de69dacffe | 23985004-9470-9169-4961-397901325837 | oIgvWKILDrYMYDjlgAIk', 'blocktype': 'informativo', 'contenttype': 'text', 'typingtime': '1', 'id_block': 4152, 'id_robot': 583, 'opc_nextid': None, 'pos_y': None, 'pos_x': None, 'tag_active': None}\n",
      "Datos recibidos INSERT:\n",
      "{'next_id': 'Informativo | e61376a2-83b0-4ccd-90b2-0d3b8d9fc04b | 23985004-9470-9169-4961-397901325837 | oIgvWKILDrYMYDjlgAIk', 'namestate': 'Informativo | 2edb2c69-beb8-471f-9799-940599824c36 | oIgvWKILDrYMYDjlgAIk', 'contenido': 'Hola oswaldo', 'contenttype': 'text', 'typingtime': '1', 'id_robot': 583, 'blocktype': 'informativo'}\n"
     ]
    },
    {
     "name": "stderr",
     "output_type": "stream",
     "text": [
      "127.0.0.1 - - [07/Jul/2021 15:16:31] \"\u001b[37mPOST /insert/bloqueinformativo HTTP/1.1\u001b[0m\" 200 -\n",
      "127.0.0.1 - - [07/Jul/2021 15:16:31] \"\u001b[37mPOST /insert/bloqueinformativo HTTP/1.1\u001b[0m\" 200 -\n",
      "127.0.0.1 - - [07/Jul/2021 15:16:31] \"\u001b[37mPOST /insert/bloqueinformativo HTTP/1.1\u001b[0m\" 200 -\n"
     ]
    },
    {
     "name": "stdout",
     "output_type": "stream",
     "text": [
      "intenatando consulta...\n",
      "consulta: select * from bloqueinformativo where next_id= 'Informativo | e61376a2-83b0-4ccd-90b2-0d3b8d9fc04b | 23985004-9470-9169-4961-397901325837 | oIgvWKILDrYMYDjlgAIk' and namestate= 'Informativo | 2edb2c69-beb8-471f-9799-940599824c36 | oIgvWKILDrYMYDjlgAIk' and contenido= 'Hola oswaldo' and contenttype= 'text' and typingtime= '1' and id_robot= '583' and blocktype= 'informativo' ;\n",
      "Datos enviados INSERT:\n",
      "{'namestate': 'Informativo | 2edb2c69-beb8-471f-9799-940599824c36 | oIgvWKILDrYMYDjlgAIk', 'contenido': 'Hola oswaldo', 'next_id': 'Informativo | e61376a2-83b0-4ccd-90b2-0d3b8d9fc04b | 23985004-9470-9169-4961-397901325837 | oIgvWKILDrYMYDjlgAIk', 'blocktype': 'informativo', 'contenttype': 'text', 'typingtime': '1', 'id_block': 4153, 'id_robot': 583, 'opc_nextid': None, 'pos_y': None, 'pos_x': None, 'tag_active': None}\n",
      "Datos recibidos INSERT:\n",
      "{'next_id': 'Salida', 'namestate': 'Informativo | c172acd8-1edc-4d5b-ac66-fdf02dfe35ff | oIgvWKILDrYMYDjlgAIk', 'contenido': 'Adios Oswa', 'contenttype': 'text', 'typingtime': '1', 'id_robot': 583, 'blocktype': 'informativo'}\n",
      "intenatando consulta...\n",
      "consulta: select * from bloqueinformativo where next_id= 'Salida' and namestate= 'Informativo | c172acd8-1edc-4d5b-ac66-fdf02dfe35ff | oIgvWKILDrYMYDjlgAIk' and contenido= 'Adios Oswa' and contenttype= 'text' and typingtime= '1' and id_robot= '583' and blocktype= 'informativo' ;\n",
      "Datos enviados INSERT:\n",
      "{'namestate': 'Informativo | c172acd8-1edc-4d5b-ac66-fdf02dfe35ff | oIgvWKILDrYMYDjlgAIk', 'contenido': 'Adios Oswa', 'next_id': 'Salida', 'blocktype': 'informativo', 'contenttype': 'text', 'typingtime': '1', 'id_block': 4154, 'id_robot': 583, 'opc_nextid': None, 'pos_y': None, 'pos_x': None, 'tag_active': None}\n",
      "Datos recibidos INSERT:\n",
      "{'next_id': '', 'namestate': 'Salida', 'contenido': '', 'contenttype': 'text', 'typingtime': 3, 'id_robot': 583, 'blocktype': 'informativo'}\n",
      "intenatando consulta...\n",
      "consulta: select * from bloqueinformativo where next_id= '' and namestate= 'Salida' and contenido= '' and contenttype= 'text' and typingtime= '3' and id_robot= '583' and blocktype= 'informativo' ;\n",
      "Datos enviados INSERT:\n",
      "{'namestate': 'Salida', 'contenido': '', 'next_id': '', 'blocktype': 'informativo', 'contenttype': 'text', 'typingtime': '3', 'id_block': 4155, 'id_robot': 583, 'opc_nextid': None, 'pos_y': None, 'pos_x': None, 'tag_active': None}\n"
     ]
    },
    {
     "name": "stderr",
     "output_type": "stream",
     "text": [
      "127.0.0.1 - - [07/Jul/2021 15:16:32] \"\u001b[37mGET /select/robots HTTP/1.1\u001b[0m\" 200 -\n",
      "127.0.0.1 - - [07/Jul/2021 15:16:32] \"\u001b[37mGET /select/bloqueslide HTTP/1.1\u001b[0m\" 200 -\n",
      "127.0.0.1 - - [07/Jul/2021 15:16:32] \"\u001b[37mGET /select/elementos HTTP/1.1\u001b[0m\" 200 -\n"
     ]
    },
    {
     "name": "stdout",
     "output_type": "stream",
     "text": [
      "Datos recibidos SELECT:\n",
      "{'name_robot': 'Oswa2', 'id_face': '109253348089942', 'block_ini': 'Informativo | d602e284-c054-4f7f-90b0-3d079f8908e4 | XTHyJxz6aPUIFVONQdUE', 'type_blocki': 'informativo', 'access_token': 'EAAFMtaIPwugBABaSyaEaQxCjZB05xZAs5fag2JZCZB9LcVSFPJtAjcu48PewIfljpztLDiWZCZAINUghHfyn85rSKQxPnfZAMZA3DScogyb4Q1cg91NEiEgVLhlsHJXakq9diPLuJtiRqZC8kCp4MfZCllTvoPR0Jad4B0r0JWp8foAffcrjKebrSp', 'id_user': 'charlygoldcruz@gmail.com', 'api_nlp': 'http://localhost:8282/'}\n",
      "intenatando consulta...\n",
      "consulta: select * from robots where id_face = '109253348089942';\n",
      "Datos enviados SELECT:\n",
      "{'name_robot': 'Oswa2', 'id_face': '109253348089942', 'block_ini': 'Informativo | d602e284-c054-4f7f-90b0-3d079f8908e4 | XTHyJxz6aPUIFVONQdUE', 'type_blocki': 'informativo', 'access_token': 'EAAFMtaIPwugBABaSyaEaQxCjZB05xZAs5fag2JZCZB9LcVSFPJtAjcu48PewIfljpztLDiWZCZAINUghHfyn85rSKQxPnfZAMZA3DScogyb4Q1cg91NEiEgVLhlsHJXakq9diPLuJtiRqZC8kCp4MfZCllTvoPR0Jad4B0r0JWp8foAffcrjKebrSp', 'api_nlp': 'http://localhost:8282/', 'id_robot': 584, 'id_user': 'charlygoldcruz@gmail.com'}\n",
      "Datos recibidos SELECT:\n",
      "{'id_robot': '584'}\n",
      "intenatando consulta...\n",
      "consulta: select * from bloqueslide where id_robot= '584' ;\n",
      "Datos enviados SELECT:\n",
      "{'namestate': 'Carrusel | 16ad30d3-2b1e-433d-9f31-58de69dacffe | 46973551-1467-4450-7433-103925931451 | XTHyJxz6aPUIFVONQdUE', 'next_id': 'www.github.com,Informativo | 38f82c6d-a32e-4687-ae19-71aebb228e68 | XTHyJxz6aPUIFVONQdUE', 'blocktype': 'slide', 'typingtime': '1', 'default_id': 'Carrusel | 16ad30d3-2b1e-433d-9f31-58de69dacffe | 46973551-1467-4450-7433-103925931451 | XTHyJxz6aPUIFVONQdUE', 'id_var': '2484', 'id_block': 803, 'id_robot': 584, 'opc_nextid': None, 'pos_y': None, 'pos_x': None, 'opc_elm': None, 'tag_active': None}\n",
      "Datos recibidos SELECT:\n",
      "{'id_block': 803}\n",
      "intenatando consulta...\n",
      "consulta: select * from elementos where id_block= '803' ;\n",
      "Datos enviados SELECT:\n",
      "{'blocktype': 'slide', 'title': 'P1', 'image_url': 'https://analyticsindiamag.com/wp-content/uploads/2020/10/7d744a684fe03ebc7e8de545f97739dd.jpg', 'subtitle': 'S1', 'id_block': 803, 'id_elements': 1436}\n",
      "Datos recibidos INSERT:\n",
      "{'name_var': 'variableCarrCarrusel_|_16ad30d3-2b1e-433d-9f31-58de69dacffe9679', 'opc_type': 'Variable', 'var': 0, 'opc_data': 'String', 'id_robot': 584}\n",
      "intenatando consulta...\n",
      "consulta: select * from variables where name_var= 'variableCarrCarrusel_|_16ad30d3-2b1e-433d-9f31-58de69dacffe9679' and opc_type= 'Variable' and var= '0' and opc_data= 'String' and id_robot= '584' ;\n"
     ]
    },
    {
     "name": "stderr",
     "output_type": "stream",
     "text": [
      "127.0.0.1 - - [07/Jul/2021 15:16:32] \"\u001b[37mPOST /insert/variables HTTP/1.1\u001b[0m\" 200 -\n",
      "127.0.0.1 - - [07/Jul/2021 15:16:32] \"\u001b[37mPOST /insert/bloqueslide HTTP/1.1\u001b[0m\" 200 -\n",
      "127.0.0.1 - - [07/Jul/2021 15:16:32] \"\u001b[37mPOST /insert/elementos HTTP/1.1\u001b[0m\" 200 -\n"
     ]
    },
    {
     "name": "stdout",
     "output_type": "stream",
     "text": [
      "Datos enviados INSERT:\n",
      "{'id_var': 2486, 'opc_type': 'Variable', 'opc_data': 'String', 'var': '0', 'id_robot': 584, 'name_var': 'variableCarrCarrusel_|_16ad30d3-2b1e-433d-9f31-58de69dacffe9679'}\n",
      "Datos recibidos INSERT:\n",
      "{'namestate': 'Carrusel | 16ad30d3-2b1e-433d-9f31-58de69dacffe | 46973551-1467-4450-7433-103925931451 | XTHyJxz6aPUIFVONQdUE', 'blocktype': 'slide', 'typingtime': '1', 'default_id': 'Carrusel | 16ad30d3-2b1e-433d-9f31-58de69dacffe | 46973551-1467-4450-7433-103925931451 | XTHyJxz6aPUIFVONQdUE', 'id_var': 2486, 'id_robot': 584}\n",
      "intenatando consulta...\n",
      "consulta: select * from bloqueslide where namestate= 'Carrusel | 16ad30d3-2b1e-433d-9f31-58de69dacffe | 46973551-1467-4450-7433-103925931451 | XTHyJxz6aPUIFVONQdUE' and blocktype= 'slide' and typingtime= '1' and default_id= 'Carrusel | 16ad30d3-2b1e-433d-9f31-58de69dacffe | 46973551-1467-4450-7433-103925931451 | XTHyJxz6aPUIFVONQdUE' and id_var= '2486' and id_robot= '584' ;\n",
      "Datos enviados INSERT:\n",
      "{'namestate': 'Carrusel | 16ad30d3-2b1e-433d-9f31-58de69dacffe | 46973551-1467-4450-7433-103925931451 | XTHyJxz6aPUIFVONQdUE', 'next_id': None, 'blocktype': 'slide', 'typingtime': '1', 'default_id': 'Carrusel | 16ad30d3-2b1e-433d-9f31-58de69dacffe | 46973551-1467-4450-7433-103925931451 | XTHyJxz6aPUIFVONQdUE', 'id_var': '2486', 'id_block': 805, 'id_robot': 584, 'opc_nextid': None, 'pos_y': None, 'pos_x': None, 'opc_elm': None, 'tag_active': None}\n",
      "Datos recibidos INSERT:\n",
      "{'subtitle': 'S1', 'title': 'P1', 'image_url': 'https://analyticsindiamag.com/wp-content/uploads/2020/10/7d744a684fe03ebc7e8de545f97739dd.jpg', 'blocktype': 'slide', 'id_block': 805}\n",
      "intenatando consulta...\n",
      "consulta: select * from elementos where subtitle= 'S1' and title= 'P1' and image_url= 'https://analyticsindiamag.com/wp-content/uploads/2020/10/7d744a684fe03ebc7e8de545f97739dd.jpg' and blocktype= 'slide' and id_block= '805' ;\n",
      "Datos enviados INSERT:\n",
      "{'blocktype': 'slide', 'title': 'P1', 'image_url': 'https://analyticsindiamag.com/wp-content/uploads/2020/10/7d744a684fe03ebc7e8de545f97739dd.jpg', 'subtitle': 'S1', 'id_block': 805, 'id_elements': 1438}\n",
      "Datos recibidos INSERT:\n",
      "{'id_elemento': '1438', 'titlebutton': 'www.github.com', 'typebutton': 'web_url', 'contentbutton': 'www.github.com', 'opc_nextid': 'www.github.com'}\n",
      "intenatando consulta...\n",
      "consulta: select * from botones where id_elemento= '1438' and titlebutton= 'www.github.com' and typebutton= 'web_url' and contentbutton= 'www.github.com' and opc_nextid= 'www.github.com' ;\n"
     ]
    },
    {
     "name": "stderr",
     "output_type": "stream",
     "text": [
      "127.0.0.1 - - [07/Jul/2021 15:16:32] \"\u001b[37mPOST /insert/botones HTTP/1.1\u001b[0m\" 200 -\n",
      "127.0.0.1 - - [07/Jul/2021 15:16:32] \"\u001b[37mPOST /insert/botones HTTP/1.1\u001b[0m\" 200 -\n",
      "127.0.0.1 - - [07/Jul/2021 15:16:33] \"\u001b[37mPOST /insert/bloqueinformativo HTTP/1.1\u001b[0m\" 200 -\n"
     ]
    },
    {
     "name": "stdout",
     "output_type": "stream",
     "text": [
      "Datos enviados INSERT:\n",
      "{'id_elemento': '1438', 'titlebutton': 'www.github.com', 'typebutton': 'web_url', 'contentbutton': 'www.github.com', 'id_boton': 2680, 'opc_nextid': 'www.github.com'}\n",
      "Datos recibidos INSERT:\n",
      "{'id_elemento': '1438', 'titlebutton': 'Op', 'typebutton': 'postback', 'contentbutton': 'Informativo | 38f82c6d-a32e-4687-ae19-71aebb228e68 | XTHyJxz6aPUIFVONQdUE', 'opc_nextid': 'Informativo | 38f82c6d-a32e-4687-ae19-71aebb228e68 | XTHyJxz6aPUIFVONQdUE'}\n",
      "intenatando consulta...\n",
      "consulta: select * from botones where id_elemento= '1438' and titlebutton= 'Op' and typebutton= 'postback' and contentbutton= 'Informativo | 38f82c6d-a32e-4687-ae19-71aebb228e68 | XTHyJxz6aPUIFVONQdUE' and opc_nextid= 'Informativo | 38f82c6d-a32e-4687-ae19-71aebb228e68 | XTHyJxz6aPUIFVONQdUE' ;\n",
      "Datos enviados INSERT:\n",
      "{'id_elemento': '1438', 'titlebutton': 'Op', 'typebutton': 'postback', 'contentbutton': 'Informativo | 38f82c6d-a32e-4687-ae19-71aebb228e68 | XTHyJxz6aPUIFVONQdUE', 'id_boton': 2681, 'opc_nextid': 'Informativo | 38f82c6d-a32e-4687-ae19-71aebb228e68 | XTHyJxz6aPUIFVONQdUE'}\n",
      "Datos recibidos INSERT:\n",
      "{'next_id': 'Carrusel | 16ad30d3-2b1e-433d-9f31-58de69dacffe | 46973551-1467-4450-7433-103925931451 | XTHyJxz6aPUIFVONQdUE', 'namestate': 'Informativo | e61376a2-83b0-4ccd-90b2-0d3b8d9fc04b | 46973551-1467-4450-7433-103925931451 | XTHyJxz6aPUIFVONQdUE', 'contenido': 'Editando Bloque ', 'contenttype': 'text', 'typingtime': '1', 'id_robot': 584, 'blocktype': 'informativo'}\n",
      "intenatando consulta...\n",
      "consulta: select * from bloqueinformativo where next_id= 'Carrusel | 16ad30d3-2b1e-433d-9f31-58de69dacffe | 46973551-1467-4450-7433-103925931451 | XTHyJxz6aPUIFVONQdUE' and namestate= 'Informativo | e61376a2-83b0-4ccd-90b2-0d3b8d9fc04b | 46973551-1467-4450-7433-103925931451 | XTHyJxz6aPUIFVONQdUE' and contenido= 'Editando Bloque ' and contenttype= 'text' and typingtime= '1' and id_robot= '584' and blocktype= 'informativo' ;\n",
      "Datos enviados INSERT:\n",
      "{'namestate': 'Informativo | e61376a2-83b0-4ccd-90b2-0d3b8d9fc04b | 46973551-1467-4450-7433-103925931451 | XTHyJxz6aPUIFVONQdUE', 'contenido': 'Editando Bloque ', 'next_id': 'Carrusel | 16ad30d3-2b1e-433d-9f31-58de69dacffe | 46973551-1467-4450-7433-103925931451 | XTHyJxz6aPUIFVONQdUE', 'blocktype': 'informativo', 'contenttype': 'text', 'typingtime': '1', 'id_block': 4156, 'id_robot': 584, 'opc_nextid': None, 'pos_y': None, 'pos_x': None, 'tag_active': None}\n",
      "Datos recibidos INSERT:\n",
      "{'next_id': 'Informativo | e61376a2-83b0-4ccd-90b2-0d3b8d9fc04b | 46973551-1467-4450-7433-103925931451 | XTHyJxz6aPUIFVONQdUE', 'namestate': 'Informativo | d602e284-c054-4f7f-90b0-3d079f8908e4 | XTHyJxz6aPUIFVONQdUE', 'contenido': 'Hola soy bot2', 'contenttype': 'text', 'typingtime': '1', 'id_robot': 584, 'blocktype': 'informativo'}\n"
     ]
    },
    {
     "name": "stderr",
     "output_type": "stream",
     "text": [
      "127.0.0.1 - - [07/Jul/2021 15:16:33] \"\u001b[37mPOST /insert/bloqueinformativo HTTP/1.1\u001b[0m\" 200 -\n",
      "127.0.0.1 - - [07/Jul/2021 15:16:33] \"\u001b[37mPOST /insert/bloqueinformativo HTTP/1.1\u001b[0m\" 200 -\n",
      "127.0.0.1 - - [07/Jul/2021 15:16:33] \"\u001b[37mPOST /insert/bloqueinformativo HTTP/1.1\u001b[0m\" 200 -\n"
     ]
    },
    {
     "name": "stdout",
     "output_type": "stream",
     "text": [
      "intenatando consulta...\n",
      "consulta: select * from bloqueinformativo where next_id= 'Informativo | e61376a2-83b0-4ccd-90b2-0d3b8d9fc04b | 46973551-1467-4450-7433-103925931451 | XTHyJxz6aPUIFVONQdUE' and namestate= 'Informativo | d602e284-c054-4f7f-90b0-3d079f8908e4 | XTHyJxz6aPUIFVONQdUE' and contenido= 'Hola soy bot2' and contenttype= 'text' and typingtime= '1' and id_robot= '584' and blocktype= 'informativo' ;\n",
      "Datos enviados INSERT:\n",
      "{'namestate': 'Informativo | d602e284-c054-4f7f-90b0-3d079f8908e4 | XTHyJxz6aPUIFVONQdUE', 'contenido': 'Hola soy bot2', 'next_id': 'Informativo | e61376a2-83b0-4ccd-90b2-0d3b8d9fc04b | 46973551-1467-4450-7433-103925931451 | XTHyJxz6aPUIFVONQdUE', 'blocktype': 'informativo', 'contenttype': 'text', 'typingtime': '1', 'id_block': 4157, 'id_robot': 584, 'opc_nextid': None, 'pos_y': None, 'pos_x': None, 'tag_active': None}\n",
      "Datos recibidos INSERT:\n",
      "{'next_id': 'Salida', 'namestate': 'Informativo | 38f82c6d-a32e-4687-ae19-71aebb228e68 | XTHyJxz6aPUIFVONQdUE', 'contenido': 'Adios oswa', 'contenttype': 'text', 'typingtime': '1', 'id_robot': 584, 'blocktype': 'informativo'}\n",
      "intenatando consulta...\n",
      "consulta: select * from bloqueinformativo where next_id= 'Salida' and namestate= 'Informativo | 38f82c6d-a32e-4687-ae19-71aebb228e68 | XTHyJxz6aPUIFVONQdUE' and contenido= 'Adios oswa' and contenttype= 'text' and typingtime= '1' and id_robot= '584' and blocktype= 'informativo' ;\n",
      "Datos enviados INSERT:\n",
      "{'namestate': 'Informativo | 38f82c6d-a32e-4687-ae19-71aebb228e68 | XTHyJxz6aPUIFVONQdUE', 'contenido': 'Adios oswa', 'next_id': 'Salida', 'blocktype': 'informativo', 'contenttype': 'text', 'typingtime': '1', 'id_block': 4158, 'id_robot': 584, 'opc_nextid': None, 'pos_y': None, 'pos_x': None, 'tag_active': None}\n",
      "Datos recibidos INSERT:\n",
      "{'next_id': '', 'namestate': 'Salida', 'contenido': '', 'contenttype': 'text', 'typingtime': 3, 'id_robot': 584, 'blocktype': 'informativo'}\n",
      "intenatando consulta...\n",
      "consulta: select * from bloqueinformativo where next_id= '' and namestate= 'Salida' and contenido= '' and contenttype= 'text' and typingtime= '3' and id_robot= '584' and blocktype= 'informativo' ;\n",
      "Datos enviados INSERT:\n",
      "{'namestate': 'Salida', 'contenido': '', 'next_id': '', 'blocktype': 'informativo', 'contenttype': 'text', 'typingtime': '3', 'id_block': 4159, 'id_robot': 584, 'opc_nextid': None, 'pos_y': None, 'pos_x': None, 'tag_active': None}\n"
     ]
    },
    {
     "name": "stderr",
     "output_type": "stream",
     "text": [
      "127.0.0.1 - - [07/Jul/2021 15:17:38] \"\u001b[37mGET /select/robots HTTP/1.1\u001b[0m\" 200 -\n",
      "127.0.0.1 - - [07/Jul/2021 15:17:38] \"\u001b[37mGET /select/bloqueslide HTTP/1.1\u001b[0m\" 200 -\n",
      "127.0.0.1 - - [07/Jul/2021 15:17:38] \"\u001b[37mGET /select/elementos HTTP/1.1\u001b[0m\" 200 -\n"
     ]
    },
    {
     "name": "stdout",
     "output_type": "stream",
     "text": [
      "Datos recibidos SELECT:\n",
      "{'name_robot': 'Oswa1', 'id_face': '106842278334918', 'block_ini': 'Informativo | 2edb2c69-beb8-471f-9799-940599824c36 | oIgvWKILDrYMYDjlgAIk', 'type_blocki': 'informativo', 'access_token': 'EAAFMtaIPwugBAIRPT4mTm2a9nei1940NrJqMbhvvyPwfZAUZA6Id2YaXUeSu06TENy0QoDsprATI0J2ZCGHS2X6UQ4TG2AWkIbNQ3LLGdRMORJZBZBT9BhB58QusrYaXG90RiZAog3r9THJCXmX1m7vjArQ3KoX3PrEGYehS4j6TSblsfU73uf', 'id_user': 'charlygoldcruz@gmail.com', 'api_nlp': 'http://localhost:8282/'}\n",
      "intenatando consulta...\n",
      "consulta: select * from robots where id_face = '106842278334918';\n",
      "Datos enviados SELECT:\n",
      "{'name_robot': 'Oswa1', 'id_face': '106842278334918', 'block_ini': 'Informativo | 2edb2c69-beb8-471f-9799-940599824c36 | oIgvWKILDrYMYDjlgAIk', 'type_blocki': 'informativo', 'access_token': 'EAAFMtaIPwugBAIRPT4mTm2a9nei1940NrJqMbhvvyPwfZAUZA6Id2YaXUeSu06TENy0QoDsprATI0J2ZCGHS2X6UQ4TG2AWkIbNQ3LLGdRMORJZBZBT9BhB58QusrYaXG90RiZAog3r9THJCXmX1m7vjArQ3KoX3PrEGYehS4j6TSblsfU73uf', 'api_nlp': 'http://localhost:8282/', 'id_robot': 583, 'id_user': 'charlygoldcruz@gmail.com'}\n",
      "Datos recibidos SELECT:\n",
      "{'id_robot': '583'}\n",
      "intenatando consulta...\n",
      "consulta: select * from bloqueslide where id_robot= '583' ;\n",
      "Datos enviados SELECT:\n",
      "{'namestate': 'Carrusel | 16ad30d3-2b1e-433d-9f31-58de69dacffe | 23985004-9470-9169-4961-397901325837 | oIgvWKILDrYMYDjlgAIk', 'next_id': 'www.github.com,Informativo | c172acd8-1edc-4d5b-ac66-fdf02dfe35ff | oIgvWKILDrYMYDjlgAIk', 'blocktype': 'slide', 'typingtime': '1', 'default_id': 'Carrusel | 16ad30d3-2b1e-433d-9f31-58de69dacffe | 23985004-9470-9169-4961-397901325837 | oIgvWKILDrYMYDjlgAIk', 'id_var': '2485', 'id_block': 804, 'id_robot': 583, 'opc_nextid': None, 'pos_y': None, 'pos_x': None, 'opc_elm': None, 'tag_active': None}\n",
      "Datos recibidos SELECT:\n",
      "{'id_block': 804}\n",
      "intenatando consulta...\n",
      "consulta: select * from elementos where id_block= '804' ;\n",
      "Datos enviados SELECT:\n",
      "{'blocktype': 'slide', 'title': 'P1', 'image_url': 'https://analyticsindiamag.com/wp-content/uploads/2020/10/7d744a684fe03ebc7e8de545f97739dd.jpg', 'subtitle': 'S1', 'id_block': 804, 'id_elements': 1437}\n",
      "Datos recibidos INSERT:\n",
      "{'name_var': 'variableCarrCarrusel_|_16ad30d3-2b1e-433d-9f31-58de69dacffe5080', 'opc_type': 'Variable', 'var': 0, 'opc_data': 'String', 'id_robot': 583}\n"
     ]
    },
    {
     "name": "stderr",
     "output_type": "stream",
     "text": [
      "127.0.0.1 - - [07/Jul/2021 15:17:39] \"\u001b[37mPOST /insert/variables HTTP/1.1\u001b[0m\" 200 -\n",
      "127.0.0.1 - - [07/Jul/2021 15:17:39] \"\u001b[37mPOST /insert/bloqueslide HTTP/1.1\u001b[0m\" 200 -\n",
      "127.0.0.1 - - [07/Jul/2021 15:17:39] \"\u001b[37mPOST /insert/elementos HTTP/1.1\u001b[0m\" 200 -\n"
     ]
    },
    {
     "name": "stdout",
     "output_type": "stream",
     "text": [
      "intenatando consulta...\n",
      "consulta: select * from variables where name_var= 'variableCarrCarrusel_|_16ad30d3-2b1e-433d-9f31-58de69dacffe5080' and opc_type= 'Variable' and var= '0' and opc_data= 'String' and id_robot= '583' ;\n",
      "Datos enviados INSERT:\n",
      "{'id_var': 2487, 'opc_type': 'Variable', 'opc_data': 'String', 'var': '0', 'id_robot': 583, 'name_var': 'variableCarrCarrusel_|_16ad30d3-2b1e-433d-9f31-58de69dacffe5080'}\n",
      "Datos recibidos INSERT:\n",
      "{'namestate': 'Carrusel | 16ad30d3-2b1e-433d-9f31-58de69dacffe | 23985004-9470-9169-4961-397901325837 | oIgvWKILDrYMYDjlgAIk', 'blocktype': 'slide', 'typingtime': '1', 'default_id': 'Carrusel | 16ad30d3-2b1e-433d-9f31-58de69dacffe | 23985004-9470-9169-4961-397901325837 | oIgvWKILDrYMYDjlgAIk', 'id_var': 2487, 'id_robot': 583}\n",
      "intenatando consulta...\n",
      "consulta: select * from bloqueslide where namestate= 'Carrusel | 16ad30d3-2b1e-433d-9f31-58de69dacffe | 23985004-9470-9169-4961-397901325837 | oIgvWKILDrYMYDjlgAIk' and blocktype= 'slide' and typingtime= '1' and default_id= 'Carrusel | 16ad30d3-2b1e-433d-9f31-58de69dacffe | 23985004-9470-9169-4961-397901325837 | oIgvWKILDrYMYDjlgAIk' and id_var= '2487' and id_robot= '583' ;\n",
      "Datos enviados INSERT:\n",
      "{'namestate': 'Carrusel | 16ad30d3-2b1e-433d-9f31-58de69dacffe | 23985004-9470-9169-4961-397901325837 | oIgvWKILDrYMYDjlgAIk', 'next_id': None, 'blocktype': 'slide', 'typingtime': '1', 'default_id': 'Carrusel | 16ad30d3-2b1e-433d-9f31-58de69dacffe | 23985004-9470-9169-4961-397901325837 | oIgvWKILDrYMYDjlgAIk', 'id_var': '2487', 'id_block': 806, 'id_robot': 583, 'opc_nextid': None, 'pos_y': None, 'pos_x': None, 'opc_elm': None, 'tag_active': None}\n",
      "Datos recibidos INSERT:\n",
      "{'title': 'P1', 'subtitle': 'S1', 'image_url': 'https://analyticsindiamag.com/wp-content/uploads/2020/10/7d744a684fe03ebc7e8de545f97739dd.jpg', 'blocktype': 'slide', 'id_block': 806}\n",
      "intenatando consulta...\n",
      "consulta: select * from elementos where title= 'P1' and subtitle= 'S1' and image_url= 'https://analyticsindiamag.com/wp-content/uploads/2020/10/7d744a684fe03ebc7e8de545f97739dd.jpg' and blocktype= 'slide' and id_block= '806' ;\n",
      "Datos enviados INSERT:\n",
      "{'blocktype': 'slide', 'title': 'P1', 'image_url': 'https://analyticsindiamag.com/wp-content/uploads/2020/10/7d744a684fe03ebc7e8de545f97739dd.jpg', 'subtitle': 'S1', 'id_block': 806, 'id_elements': 1439}\n",
      "Datos recibidos INSERT:\n",
      "{'id_elemento': '1439', 'titlebutton': 'www.github.com', 'typebutton': 'web_url', 'contentbutton': 'www.github.com', 'opc_nextid': 'www.github.com'}\n",
      "intenatando consulta...\n",
      "consulta: select * from botones where id_elemento= '1439' and titlebutton= 'www.github.com' and typebutton= 'web_url' and contentbutton= 'www.github.com' and opc_nextid= 'www.github.com' ;\n"
     ]
    },
    {
     "name": "stderr",
     "output_type": "stream",
     "text": [
      "127.0.0.1 - - [07/Jul/2021 15:17:39] \"\u001b[37mPOST /insert/botones HTTP/1.1\u001b[0m\" 200 -\n",
      "127.0.0.1 - - [07/Jul/2021 15:17:39] \"\u001b[37mPOST /insert/botones HTTP/1.1\u001b[0m\" 200 -\n",
      "127.0.0.1 - - [07/Jul/2021 15:17:39] \"\u001b[37mPOST /insert/bloqueinformativo HTTP/1.1\u001b[0m\" 200 -\n"
     ]
    },
    {
     "name": "stdout",
     "output_type": "stream",
     "text": [
      "Datos enviados INSERT:\n",
      "{'id_elemento': '1439', 'titlebutton': 'www.github.com', 'typebutton': 'web_url', 'contentbutton': 'www.github.com', 'id_boton': 2682, 'opc_nextid': 'www.github.com'}\n",
      "Datos recibidos INSERT:\n",
      "{'id_elemento': '1439', 'titlebutton': 'Op', 'typebutton': 'postback', 'contentbutton': 'Informativo | c172acd8-1edc-4d5b-ac66-fdf02dfe35ff | oIgvWKILDrYMYDjlgAIk', 'opc_nextid': 'Informativo | c172acd8-1edc-4d5b-ac66-fdf02dfe35ff | oIgvWKILDrYMYDjlgAIk'}\n",
      "intenatando consulta...\n",
      "consulta: select * from botones where id_elemento= '1439' and titlebutton= 'Op' and typebutton= 'postback' and contentbutton= 'Informativo | c172acd8-1edc-4d5b-ac66-fdf02dfe35ff | oIgvWKILDrYMYDjlgAIk' and opc_nextid= 'Informativo | c172acd8-1edc-4d5b-ac66-fdf02dfe35ff | oIgvWKILDrYMYDjlgAIk' ;\n",
      "Datos enviados INSERT:\n",
      "{'id_elemento': '1439', 'titlebutton': 'Op', 'typebutton': 'postback', 'contentbutton': 'Informativo | c172acd8-1edc-4d5b-ac66-fdf02dfe35ff | oIgvWKILDrYMYDjlgAIk', 'id_boton': 2683, 'opc_nextid': 'Informativo | c172acd8-1edc-4d5b-ac66-fdf02dfe35ff | oIgvWKILDrYMYDjlgAIk'}\n",
      "Datos recibidos INSERT:\n",
      "{'next_id': 'Input | 36f8147d-fcbb-41b0-8017-c8a481cbf661 | 23985004-9470-9169-4961-397901325837 | oIgvWKILDrYMYDjlgAIk', 'namestate': 'Informativo | e61376a2-83b0-4ccd-90b2-0d3b8d9fc04b | 23985004-9470-9169-4961-397901325837 | oIgvWKILDrYMYDjlgAIk', 'contenido': 'Este es un compuesto', 'contenttype': 'text', 'typingtime': '1', 'id_robot': 583, 'blocktype': 'informativo'}\n",
      "intenatando consulta...\n",
      "consulta: select * from bloqueinformativo where next_id= 'Input | 36f8147d-fcbb-41b0-8017-c8a481cbf661 | 23985004-9470-9169-4961-397901325837 | oIgvWKILDrYMYDjlgAIk' and namestate= 'Informativo | e61376a2-83b0-4ccd-90b2-0d3b8d9fc04b | 23985004-9470-9169-4961-397901325837 | oIgvWKILDrYMYDjlgAIk' and contenido= 'Este es un compuesto' and contenttype= 'text' and typingtime= '1' and id_robot= '583' and blocktype= 'informativo' ;\n",
      "Datos enviados INSERT:\n",
      "{'namestate': 'Informativo | e61376a2-83b0-4ccd-90b2-0d3b8d9fc04b | 23985004-9470-9169-4961-397901325837 | oIgvWKILDrYMYDjlgAIk', 'contenido': 'Este es un compuesto', 'next_id': 'Input | 36f8147d-fcbb-41b0-8017-c8a481cbf661 | 23985004-9470-9169-4961-397901325837 | oIgvWKILDrYMYDjlgAIk', 'blocktype': 'informativo', 'contenttype': 'text', 'typingtime': '1', 'id_block': 4160, 'id_robot': 583, 'opc_nextid': None, 'pos_y': None, 'pos_x': None, 'tag_active': None}\n",
      "Datos recibidos INSERT:\n",
      "{'name_var': 'variableInputInput_|_36f8147d-fcbb-41b0-8017-c8a481cbf6612245', 'opc_type': 'Variable', 'var': 0, 'opc_data': 'String', 'id_robot': 583}\n"
     ]
    },
    {
     "name": "stderr",
     "output_type": "stream",
     "text": [
      "127.0.0.1 - - [07/Jul/2021 15:17:39] \"\u001b[37mPOST /insert/variables HTTP/1.1\u001b[0m\" 200 -\n",
      "127.0.0.1 - - [07/Jul/2021 15:17:39] \"\u001b[37mPOST /insert/bloqueinput HTTP/1.1\u001b[0m\" 200 -\n",
      "127.0.0.1 - - [07/Jul/2021 15:17:39] \"\u001b[37mPOST /insert/bloqueinformativo HTTP/1.1\u001b[0m\" 200 -\n"
     ]
    },
    {
     "name": "stdout",
     "output_type": "stream",
     "text": [
      "intenatando consulta...\n",
      "consulta: select * from variables where name_var= 'variableInputInput_|_36f8147d-fcbb-41b0-8017-c8a481cbf6612245' and opc_type= 'Variable' and var= '0' and opc_data= 'String' and id_robot= '583' ;\n",
      "Datos enviados INSERT:\n",
      "{'id_var': 2488, 'opc_type': 'Variable', 'opc_data': 'String', 'var': '0', 'id_robot': 583, 'name_var': 'variableInputInput_|_36f8147d-fcbb-41b0-8017-c8a481cbf6612245'}\n",
      "Datos recibidos INSERT:\n",
      "{'next_id': 'Carrusel | 16ad30d3-2b1e-433d-9f31-58de69dacffe | 23985004-9470-9169-4961-397901325837 | oIgvWKILDrYMYDjlgAIk', 'default_id': 'Input | 36f8147d-fcbb-41b0-8017-c8a481cbf661 | 23985004-9470-9169-4961-397901325837 | oIgvWKILDrYMYDjlgAIk', 'namestate': 'Input | 36f8147d-fcbb-41b0-8017-c8a481cbf661 | 23985004-9470-9169-4961-397901325837 | oIgvWKILDrYMYDjlgAIk', 'contenido': 'Ingresa tu nombre', 'typingtime': '1', 'validacion': '', 'id_robot': 583, 'id_var': 2488, 'blocktype': 'input'}\n",
      "intenatando consulta...\n",
      "consulta: select * from bloqueinput where next_id= 'Carrusel | 16ad30d3-2b1e-433d-9f31-58de69dacffe | 23985004-9470-9169-4961-397901325837 | oIgvWKILDrYMYDjlgAIk' and default_id= 'Input | 36f8147d-fcbb-41b0-8017-c8a481cbf661 | 23985004-9470-9169-4961-397901325837 | oIgvWKILDrYMYDjlgAIk' and namestate= 'Input | 36f8147d-fcbb-41b0-8017-c8a481cbf661 | 23985004-9470-9169-4961-397901325837 | oIgvWKILDrYMYDjlgAIk' and contenido= 'Ingresa tu nombre' and typingtime= '1' and validacion= '' and id_robot= '583' and id_var= '2488' and blocktype= 'input' ;\n",
      "Datos enviados INSERT:\n",
      "{'namestate': 'Input | 36f8147d-fcbb-41b0-8017-c8a481cbf661 | 23985004-9470-9169-4961-397901325837 | oIgvWKILDrYMYDjlgAIk', 'contenido': 'Ingresa tu nombre', 'next_id': 'Carrusel | 16ad30d3-2b1e-433d-9f31-58de69dacffe | 23985004-9470-9169-4961-397901325837 | oIgvWKILDrYMYDjlgAIk', 'blocktype': 'input', 'contenttype': None, 'typingtime': '1', 'validacion': '', 'default_id': 'Input | 36f8147d-fcbb-41b0-8017-c8a481cbf661 | 23985004-9470-9169-4961-397901325837 | oIgvWKILDrYMYDjlgAIk', 'id_var': '2488', 'id_block': 578, 'id_robot': 583, 'opc_nextid': None, 'pos_y': None, 'pos_x': None, 'tag_active': None}\n",
      "Datos recibidos INSERT:\n",
      "{'next_id': 'Informativo | e61376a2-83b0-4ccd-90b2-0d3b8d9fc04b | 23985004-9470-9169-4961-397901325837 | oIgvWKILDrYMYDjlgAIk', 'namestate': 'Informativo | 2edb2c69-beb8-471f-9799-940599824c36 | oIgvWKILDrYMYDjlgAIk', 'contenido': 'Hola oswaldo', 'contenttype': 'text', 'typingtime': '1', 'id_robot': 583, 'blocktype': 'informativo'}\n",
      "intenatando consulta...\n",
      "consulta: select * from bloqueinformativo where next_id= 'Informativo | e61376a2-83b0-4ccd-90b2-0d3b8d9fc04b | 23985004-9470-9169-4961-397901325837 | oIgvWKILDrYMYDjlgAIk' and namestate= 'Informativo | 2edb2c69-beb8-471f-9799-940599824c36 | oIgvWKILDrYMYDjlgAIk' and contenido= 'Hola oswaldo' and contenttype= 'text' and typingtime= '1' and id_robot= '583' and blocktype= 'informativo' ;\n",
      "Datos enviados INSERT:\n",
      "{'namestate': 'Informativo | 2edb2c69-beb8-471f-9799-940599824c36 | oIgvWKILDrYMYDjlgAIk', 'contenido': 'Hola oswaldo', 'next_id': 'Informativo | e61376a2-83b0-4ccd-90b2-0d3b8d9fc04b | 23985004-9470-9169-4961-397901325837 | oIgvWKILDrYMYDjlgAIk', 'blocktype': 'informativo', 'contenttype': 'text', 'typingtime': '1', 'id_block': 4161, 'id_robot': 583, 'opc_nextid': None, 'pos_y': None, 'pos_x': None, 'tag_active': None}\n"
     ]
    },
    {
     "name": "stderr",
     "output_type": "stream",
     "text": [
      "127.0.0.1 - - [07/Jul/2021 15:17:39] \"\u001b[37mPOST /insert/bloqueinformativo HTTP/1.1\u001b[0m\" 200 -\n",
      "127.0.0.1 - - [07/Jul/2021 15:17:39] \"\u001b[37mPOST /insert/bloqueinformativo HTTP/1.1\u001b[0m\" 200 -\n"
     ]
    },
    {
     "name": "stdout",
     "output_type": "stream",
     "text": [
      "Datos recibidos INSERT:\n",
      "{'next_id': 'Salida', 'namestate': 'Informativo | c172acd8-1edc-4d5b-ac66-fdf02dfe35ff | oIgvWKILDrYMYDjlgAIk', 'contenido': 'Adios Oswa', 'contenttype': 'text', 'typingtime': '1', 'id_robot': 583, 'blocktype': 'informativo'}\n",
      "intenatando consulta...\n",
      "consulta: select * from bloqueinformativo where next_id= 'Salida' and namestate= 'Informativo | c172acd8-1edc-4d5b-ac66-fdf02dfe35ff | oIgvWKILDrYMYDjlgAIk' and contenido= 'Adios Oswa' and contenttype= 'text' and typingtime= '1' and id_robot= '583' and blocktype= 'informativo' ;\n",
      "Datos enviados INSERT:\n",
      "{'namestate': 'Informativo | c172acd8-1edc-4d5b-ac66-fdf02dfe35ff | oIgvWKILDrYMYDjlgAIk', 'contenido': 'Adios Oswa', 'next_id': 'Salida', 'blocktype': 'informativo', 'contenttype': 'text', 'typingtime': '1', 'id_block': 4162, 'id_robot': 583, 'opc_nextid': None, 'pos_y': None, 'pos_x': None, 'tag_active': None}\n",
      "Datos recibidos INSERT:\n",
      "{'next_id': '', 'namestate': 'Salida', 'contenido': '', 'contenttype': 'text', 'typingtime': 3, 'id_robot': 583, 'blocktype': 'informativo'}\n",
      "intenatando consulta...\n",
      "consulta: select * from bloqueinformativo where next_id= '' and namestate= 'Salida' and contenido= '' and contenttype= 'text' and typingtime= '3' and id_robot= '583' and blocktype= 'informativo' ;\n",
      "Datos enviados INSERT:\n",
      "{'namestate': 'Salida', 'contenido': '', 'next_id': '', 'blocktype': 'informativo', 'contenttype': 'text', 'typingtime': '3', 'id_block': 4163, 'id_robot': 583, 'opc_nextid': None, 'pos_y': None, 'pos_x': None, 'tag_active': None}\n"
     ]
    },
    {
     "name": "stderr",
     "output_type": "stream",
     "text": [
      "127.0.0.1 - - [07/Jul/2021 15:17:40] \"\u001b[37mGET /select/robots HTTP/1.1\u001b[0m\" 200 -\n",
      "127.0.0.1 - - [07/Jul/2021 15:17:40] \"\u001b[37mGET /select/bloqueslide HTTP/1.1\u001b[0m\" 200 -\n",
      "127.0.0.1 - - [07/Jul/2021 15:17:40] \"\u001b[37mGET /select/elementos HTTP/1.1\u001b[0m\" 200 -\n"
     ]
    },
    {
     "name": "stdout",
     "output_type": "stream",
     "text": [
      "Datos recibidos SELECT:\n",
      "{'name_robot': 'Oswa2', 'id_face': '109253348089942', 'block_ini': 'Informativo | d602e284-c054-4f7f-90b0-3d079f8908e4 | XTHyJxz6aPUIFVONQdUE', 'type_blocki': 'informativo', 'access_token': 'EAAFMtaIPwugBABaSyaEaQxCjZB05xZAs5fag2JZCZB9LcVSFPJtAjcu48PewIfljpztLDiWZCZAINUghHfyn85rSKQxPnfZAMZA3DScogyb4Q1cg91NEiEgVLhlsHJXakq9diPLuJtiRqZC8kCp4MfZCllTvoPR0Jad4B0r0JWp8foAffcrjKebrSp', 'id_user': 'charlygoldcruz@gmail.com', 'api_nlp': 'http://localhost:8282/'}\n",
      "intenatando consulta...\n",
      "consulta: select * from robots where id_face = '109253348089942';\n",
      "Datos enviados SELECT:\n",
      "{'name_robot': 'Oswa2', 'id_face': '109253348089942', 'block_ini': 'Informativo | d602e284-c054-4f7f-90b0-3d079f8908e4 | XTHyJxz6aPUIFVONQdUE', 'type_blocki': 'informativo', 'access_token': 'EAAFMtaIPwugBABaSyaEaQxCjZB05xZAs5fag2JZCZB9LcVSFPJtAjcu48PewIfljpztLDiWZCZAINUghHfyn85rSKQxPnfZAMZA3DScogyb4Q1cg91NEiEgVLhlsHJXakq9diPLuJtiRqZC8kCp4MfZCllTvoPR0Jad4B0r0JWp8foAffcrjKebrSp', 'api_nlp': 'http://localhost:8282/', 'id_robot': 584, 'id_user': 'charlygoldcruz@gmail.com'}\n",
      "Datos recibidos SELECT:\n",
      "{'id_robot': '584'}\n",
      "intenatando consulta...\n",
      "consulta: select * from bloqueslide where id_robot= '584' ;\n",
      "Datos enviados SELECT:\n",
      "{'namestate': 'Carrusel | 16ad30d3-2b1e-433d-9f31-58de69dacffe | 46973551-1467-4450-7433-103925931451 | XTHyJxz6aPUIFVONQdUE', 'next_id': 'www.github.com,Informativo | 38f82c6d-a32e-4687-ae19-71aebb228e68 | XTHyJxz6aPUIFVONQdUE', 'blocktype': 'slide', 'typingtime': '1', 'default_id': 'Carrusel | 16ad30d3-2b1e-433d-9f31-58de69dacffe | 46973551-1467-4450-7433-103925931451 | XTHyJxz6aPUIFVONQdUE', 'id_var': '2486', 'id_block': 805, 'id_robot': 584, 'opc_nextid': None, 'pos_y': None, 'pos_x': None, 'opc_elm': None, 'tag_active': None}\n",
      "Datos recibidos SELECT:\n",
      "{'id_block': 805}\n",
      "intenatando consulta...\n",
      "consulta: select * from elementos where id_block= '805' ;\n",
      "Datos enviados SELECT:\n",
      "{'blocktype': 'slide', 'title': 'P1', 'image_url': 'https://analyticsindiamag.com/wp-content/uploads/2020/10/7d744a684fe03ebc7e8de545f97739dd.jpg', 'subtitle': 'S1', 'id_block': 805, 'id_elements': 1438}\n",
      "Datos recibidos INSERT:\n",
      "{'name_var': 'variableCarrCarrusel_|_16ad30d3-2b1e-433d-9f31-58de69dacffe6297', 'opc_type': 'Variable', 'var': 0, 'opc_data': 'String', 'id_robot': 584}\n"
     ]
    },
    {
     "name": "stderr",
     "output_type": "stream",
     "text": [
      "127.0.0.1 - - [07/Jul/2021 15:17:41] \"\u001b[37mPOST /insert/variables HTTP/1.1\u001b[0m\" 200 -\n",
      "127.0.0.1 - - [07/Jul/2021 15:17:41] \"\u001b[37mPOST /insert/bloqueslide HTTP/1.1\u001b[0m\" 200 -\n",
      "127.0.0.1 - - [07/Jul/2021 15:17:41] \"\u001b[37mPOST /insert/elementos HTTP/1.1\u001b[0m\" 200 -\n"
     ]
    },
    {
     "name": "stdout",
     "output_type": "stream",
     "text": [
      "intenatando consulta...\n",
      "consulta: select * from variables where name_var= 'variableCarrCarrusel_|_16ad30d3-2b1e-433d-9f31-58de69dacffe6297' and opc_type= 'Variable' and var= '0' and opc_data= 'String' and id_robot= '584' ;\n",
      "Datos enviados INSERT:\n",
      "{'id_var': 2489, 'opc_type': 'Variable', 'opc_data': 'String', 'var': '0', 'id_robot': 584, 'name_var': 'variableCarrCarrusel_|_16ad30d3-2b1e-433d-9f31-58de69dacffe6297'}\n",
      "Datos recibidos INSERT:\n",
      "{'namestate': 'Carrusel | 16ad30d3-2b1e-433d-9f31-58de69dacffe | 46973551-1467-4450-7433-103925931451 | XTHyJxz6aPUIFVONQdUE', 'blocktype': 'slide', 'typingtime': '1', 'default_id': 'Carrusel | 16ad30d3-2b1e-433d-9f31-58de69dacffe | 46973551-1467-4450-7433-103925931451 | XTHyJxz6aPUIFVONQdUE', 'id_var': 2489, 'id_robot': 584}\n",
      "intenatando consulta...\n",
      "consulta: select * from bloqueslide where namestate= 'Carrusel | 16ad30d3-2b1e-433d-9f31-58de69dacffe | 46973551-1467-4450-7433-103925931451 | XTHyJxz6aPUIFVONQdUE' and blocktype= 'slide' and typingtime= '1' and default_id= 'Carrusel | 16ad30d3-2b1e-433d-9f31-58de69dacffe | 46973551-1467-4450-7433-103925931451 | XTHyJxz6aPUIFVONQdUE' and id_var= '2489' and id_robot= '584' ;\n",
      "Datos enviados INSERT:\n",
      "{'namestate': 'Carrusel | 16ad30d3-2b1e-433d-9f31-58de69dacffe | 46973551-1467-4450-7433-103925931451 | XTHyJxz6aPUIFVONQdUE', 'next_id': None, 'blocktype': 'slide', 'typingtime': '1', 'default_id': 'Carrusel | 16ad30d3-2b1e-433d-9f31-58de69dacffe | 46973551-1467-4450-7433-103925931451 | XTHyJxz6aPUIFVONQdUE', 'id_var': '2489', 'id_block': 807, 'id_robot': 584, 'opc_nextid': None, 'pos_y': None, 'pos_x': None, 'opc_elm': None, 'tag_active': None}\n",
      "Datos recibidos INSERT:\n",
      "{'title': 'P1', 'image_url': 'https://analyticsindiamag.com/wp-content/uploads/2020/10/7d744a684fe03ebc7e8de545f97739dd.jpg', 'subtitle': 'S1', 'blocktype': 'slide', 'id_block': 807}\n",
      "intenatando consulta...\n",
      "consulta: select * from elementos where title= 'P1' and image_url= 'https://analyticsindiamag.com/wp-content/uploads/2020/10/7d744a684fe03ebc7e8de545f97739dd.jpg' and subtitle= 'S1' and blocktype= 'slide' and id_block= '807' ;\n",
      "Datos enviados INSERT:\n",
      "{'blocktype': 'slide', 'title': 'P1', 'image_url': 'https://analyticsindiamag.com/wp-content/uploads/2020/10/7d744a684fe03ebc7e8de545f97739dd.jpg', 'subtitle': 'S1', 'id_block': 807, 'id_elements': 1440}\n",
      "Datos recibidos INSERT:\n",
      "{'id_elemento': '1440', 'titlebutton': 'www.github.com', 'typebutton': 'web_url', 'contentbutton': 'www.github.com', 'opc_nextid': 'www.github.com'}\n",
      "intenatando consulta...\n",
      "consulta: select * from botones where id_elemento= '1440' and titlebutton= 'www.github.com' and typebutton= 'web_url' and contentbutton= 'www.github.com' and opc_nextid= 'www.github.com' ;\n"
     ]
    },
    {
     "name": "stderr",
     "output_type": "stream",
     "text": [
      "127.0.0.1 - - [07/Jul/2021 15:17:41] \"\u001b[37mPOST /insert/botones HTTP/1.1\u001b[0m\" 200 -\n",
      "127.0.0.1 - - [07/Jul/2021 15:17:41] \"\u001b[37mPOST /insert/botones HTTP/1.1\u001b[0m\" 200 -\n",
      "127.0.0.1 - - [07/Jul/2021 15:17:41] \"\u001b[37mPOST /insert/bloqueinformativo HTTP/1.1\u001b[0m\" 200 -\n"
     ]
    },
    {
     "name": "stdout",
     "output_type": "stream",
     "text": [
      "Datos enviados INSERT:\n",
      "{'id_elemento': '1440', 'titlebutton': 'www.github.com', 'typebutton': 'web_url', 'contentbutton': 'www.github.com', 'id_boton': 2684, 'opc_nextid': 'www.github.com'}\n",
      "Datos recibidos INSERT:\n",
      "{'id_elemento': '1440', 'titlebutton': 'Op', 'typebutton': 'postback', 'contentbutton': 'Informativo | 38f82c6d-a32e-4687-ae19-71aebb228e68 | XTHyJxz6aPUIFVONQdUE', 'opc_nextid': 'Informativo | 38f82c6d-a32e-4687-ae19-71aebb228e68 | XTHyJxz6aPUIFVONQdUE'}\n",
      "intenatando consulta...\n",
      "consulta: select * from botones where id_elemento= '1440' and titlebutton= 'Op' and typebutton= 'postback' and contentbutton= 'Informativo | 38f82c6d-a32e-4687-ae19-71aebb228e68 | XTHyJxz6aPUIFVONQdUE' and opc_nextid= 'Informativo | 38f82c6d-a32e-4687-ae19-71aebb228e68 | XTHyJxz6aPUIFVONQdUE' ;\n",
      "Datos enviados INSERT:\n",
      "{'id_elemento': '1440', 'titlebutton': 'Op', 'typebutton': 'postback', 'contentbutton': 'Informativo | 38f82c6d-a32e-4687-ae19-71aebb228e68 | XTHyJxz6aPUIFVONQdUE', 'id_boton': 2685, 'opc_nextid': 'Informativo | 38f82c6d-a32e-4687-ae19-71aebb228e68 | XTHyJxz6aPUIFVONQdUE'}\n",
      "Datos recibidos INSERT:\n",
      "{'next_id': 'Input | 36f8147d-fcbb-41b0-8017-c8a481cbf661 | 46973551-1467-4450-7433-103925931451 | XTHyJxz6aPUIFVONQdUE', 'namestate': 'Informativo | e61376a2-83b0-4ccd-90b2-0d3b8d9fc04b | 46973551-1467-4450-7433-103925931451 | XTHyJxz6aPUIFVONQdUE', 'contenido': 'Editando Bloque ', 'contenttype': 'text', 'typingtime': '1', 'id_robot': 584, 'blocktype': 'informativo'}\n",
      "intenatando consulta...\n",
      "consulta: select * from bloqueinformativo where next_id= 'Input | 36f8147d-fcbb-41b0-8017-c8a481cbf661 | 46973551-1467-4450-7433-103925931451 | XTHyJxz6aPUIFVONQdUE' and namestate= 'Informativo | e61376a2-83b0-4ccd-90b2-0d3b8d9fc04b | 46973551-1467-4450-7433-103925931451 | XTHyJxz6aPUIFVONQdUE' and contenido= 'Editando Bloque ' and contenttype= 'text' and typingtime= '1' and id_robot= '584' and blocktype= 'informativo' ;\n",
      "Datos enviados INSERT:\n",
      "{'namestate': 'Informativo | e61376a2-83b0-4ccd-90b2-0d3b8d9fc04b | 46973551-1467-4450-7433-103925931451 | XTHyJxz6aPUIFVONQdUE', 'contenido': 'Editando Bloque ', 'next_id': 'Input | 36f8147d-fcbb-41b0-8017-c8a481cbf661 | 46973551-1467-4450-7433-103925931451 | XTHyJxz6aPUIFVONQdUE', 'blocktype': 'informativo', 'contenttype': 'text', 'typingtime': '1', 'id_block': 4164, 'id_robot': 584, 'opc_nextid': None, 'pos_y': None, 'pos_x': None, 'tag_active': None}\n",
      "Datos recibidos INSERT:\n",
      "{'name_var': 'variableInputInput_|_36f8147d-fcbb-41b0-8017-c8a481cbf6612719', 'opc_type': 'Variable', 'var': 0, 'opc_data': 'String', 'id_robot': 584}\n"
     ]
    },
    {
     "name": "stderr",
     "output_type": "stream",
     "text": [
      "127.0.0.1 - - [07/Jul/2021 15:17:41] \"\u001b[37mPOST /insert/variables HTTP/1.1\u001b[0m\" 200 -\n",
      "127.0.0.1 - - [07/Jul/2021 15:17:41] \"\u001b[37mPOST /insert/bloqueinput HTTP/1.1\u001b[0m\" 200 -\n",
      "127.0.0.1 - - [07/Jul/2021 15:17:41] \"\u001b[37mPOST /insert/bloqueinformativo HTTP/1.1\u001b[0m\" 200 -\n"
     ]
    },
    {
     "name": "stdout",
     "output_type": "stream",
     "text": [
      "intenatando consulta...\n",
      "consulta: select * from variables where name_var= 'variableInputInput_|_36f8147d-fcbb-41b0-8017-c8a481cbf6612719' and opc_type= 'Variable' and var= '0' and opc_data= 'String' and id_robot= '584' ;\n",
      "Datos enviados INSERT:\n",
      "{'id_var': 2490, 'opc_type': 'Variable', 'opc_data': 'String', 'var': '0', 'id_robot': 584, 'name_var': 'variableInputInput_|_36f8147d-fcbb-41b0-8017-c8a481cbf6612719'}\n",
      "Datos recibidos INSERT:\n",
      "{'next_id': 'Carrusel | 16ad30d3-2b1e-433d-9f31-58de69dacffe | 46973551-1467-4450-7433-103925931451 | XTHyJxz6aPUIFVONQdUE', 'default_id': 'Input | 36f8147d-fcbb-41b0-8017-c8a481cbf661 | 46973551-1467-4450-7433-103925931451 | XTHyJxz6aPUIFVONQdUE', 'namestate': 'Input | 36f8147d-fcbb-41b0-8017-c8a481cbf661 | 46973551-1467-4450-7433-103925931451 | XTHyJxz6aPUIFVONQdUE', 'contenido': 'Ingresa tu nombre', 'typingtime': '1', 'validacion': '', 'id_robot': 584, 'id_var': 2490, 'blocktype': 'input'}\n",
      "intenatando consulta...\n",
      "consulta: select * from bloqueinput where next_id= 'Carrusel | 16ad30d3-2b1e-433d-9f31-58de69dacffe | 46973551-1467-4450-7433-103925931451 | XTHyJxz6aPUIFVONQdUE' and default_id= 'Input | 36f8147d-fcbb-41b0-8017-c8a481cbf661 | 46973551-1467-4450-7433-103925931451 | XTHyJxz6aPUIFVONQdUE' and namestate= 'Input | 36f8147d-fcbb-41b0-8017-c8a481cbf661 | 46973551-1467-4450-7433-103925931451 | XTHyJxz6aPUIFVONQdUE' and contenido= 'Ingresa tu nombre' and typingtime= '1' and validacion= '' and id_robot= '584' and id_var= '2490' and blocktype= 'input' ;\n",
      "Datos enviados INSERT:\n",
      "{'namestate': 'Input | 36f8147d-fcbb-41b0-8017-c8a481cbf661 | 46973551-1467-4450-7433-103925931451 | XTHyJxz6aPUIFVONQdUE', 'contenido': 'Ingresa tu nombre', 'next_id': 'Carrusel | 16ad30d3-2b1e-433d-9f31-58de69dacffe | 46973551-1467-4450-7433-103925931451 | XTHyJxz6aPUIFVONQdUE', 'blocktype': 'input', 'contenttype': None, 'typingtime': '1', 'validacion': '', 'default_id': 'Input | 36f8147d-fcbb-41b0-8017-c8a481cbf661 | 46973551-1467-4450-7433-103925931451 | XTHyJxz6aPUIFVONQdUE', 'id_var': '2490', 'id_block': 579, 'id_robot': 584, 'opc_nextid': None, 'pos_y': None, 'pos_x': None, 'tag_active': None}\n",
      "Datos recibidos INSERT:\n",
      "{'next_id': 'Informativo | e61376a2-83b0-4ccd-90b2-0d3b8d9fc04b | 46973551-1467-4450-7433-103925931451 | XTHyJxz6aPUIFVONQdUE', 'namestate': 'Informativo | d602e284-c054-4f7f-90b0-3d079f8908e4 | XTHyJxz6aPUIFVONQdUE', 'contenido': 'Hola soy bot2', 'contenttype': 'text', 'typingtime': '1', 'id_robot': 584, 'blocktype': 'informativo'}\n",
      "intenatando consulta...\n",
      "consulta: select * from bloqueinformativo where next_id= 'Informativo | e61376a2-83b0-4ccd-90b2-0d3b8d9fc04b | 46973551-1467-4450-7433-103925931451 | XTHyJxz6aPUIFVONQdUE' and namestate= 'Informativo | d602e284-c054-4f7f-90b0-3d079f8908e4 | XTHyJxz6aPUIFVONQdUE' and contenido= 'Hola soy bot2' and contenttype= 'text' and typingtime= '1' and id_robot= '584' and blocktype= 'informativo' ;\n",
      "Datos enviados INSERT:\n",
      "{'namestate': 'Informativo | d602e284-c054-4f7f-90b0-3d079f8908e4 | XTHyJxz6aPUIFVONQdUE', 'contenido': 'Hola soy bot2', 'next_id': 'Informativo | e61376a2-83b0-4ccd-90b2-0d3b8d9fc04b | 46973551-1467-4450-7433-103925931451 | XTHyJxz6aPUIFVONQdUE', 'blocktype': 'informativo', 'contenttype': 'text', 'typingtime': '1', 'id_block': 4165, 'id_robot': 584, 'opc_nextid': None, 'pos_y': None, 'pos_x': None, 'tag_active': None}\n",
      "Datos recibidos INSERT:\n",
      "{'next_id': 'Salida', 'namestate': 'Informativo | 38f82c6d-a32e-4687-ae19-71aebb228e68 | XTHyJxz6aPUIFVONQdUE', 'contenido': 'Adios oswa', 'contenttype': 'text', 'typingtime': '1', 'id_robot': 584, 'blocktype': 'informativo'}\n"
     ]
    },
    {
     "name": "stderr",
     "output_type": "stream",
     "text": [
      "127.0.0.1 - - [07/Jul/2021 15:17:41] \"\u001b[37mPOST /insert/bloqueinformativo HTTP/1.1\u001b[0m\" 200 -\n",
      "127.0.0.1 - - [07/Jul/2021 15:17:41] \"\u001b[37mPOST /insert/bloqueinformativo HTTP/1.1\u001b[0m\" 200 -\n"
     ]
    },
    {
     "name": "stdout",
     "output_type": "stream",
     "text": [
      "intenatando consulta...\n",
      "consulta: select * from bloqueinformativo where next_id= 'Salida' and namestate= 'Informativo | 38f82c6d-a32e-4687-ae19-71aebb228e68 | XTHyJxz6aPUIFVONQdUE' and contenido= 'Adios oswa' and contenttype= 'text' and typingtime= '1' and id_robot= '584' and blocktype= 'informativo' ;\n",
      "Datos enviados INSERT:\n",
      "{'namestate': 'Informativo | 38f82c6d-a32e-4687-ae19-71aebb228e68 | XTHyJxz6aPUIFVONQdUE', 'contenido': 'Adios oswa', 'next_id': 'Salida', 'blocktype': 'informativo', 'contenttype': 'text', 'typingtime': '1', 'id_block': 4166, 'id_robot': 584, 'opc_nextid': None, 'pos_y': None, 'pos_x': None, 'tag_active': None}\n",
      "Datos recibidos INSERT:\n",
      "{'next_id': '', 'namestate': 'Salida', 'contenido': '', 'contenttype': 'text', 'typingtime': 3, 'id_robot': 584, 'blocktype': 'informativo'}\n",
      "intenatando consulta...\n",
      "consulta: select * from bloqueinformativo where next_id= '' and namestate= 'Salida' and contenido= '' and contenttype= 'text' and typingtime= '3' and id_robot= '584' and blocktype= 'informativo' ;\n",
      "Datos enviados INSERT:\n",
      "{'namestate': 'Salida', 'contenido': '', 'next_id': '', 'blocktype': 'informativo', 'contenttype': 'text', 'typingtime': '3', 'id_block': 4167, 'id_robot': 584, 'opc_nextid': None, 'pos_y': None, 'pos_x': None, 'tag_active': None}\n"
     ]
    },
    {
     "name": "stderr",
     "output_type": "stream",
     "text": [
      "127.0.0.1 - - [07/Jul/2021 15:19:19] \"\u001b[37mGET /select/robots HTTP/1.1\u001b[0m\" 200 -\n",
      "127.0.0.1 - - [07/Jul/2021 15:19:19] \"\u001b[37mGET /select/bloqueslide HTTP/1.1\u001b[0m\" 200 -\n",
      "127.0.0.1 - - [07/Jul/2021 15:19:19] \"\u001b[37mGET /select/elementos HTTP/1.1\u001b[0m\" 200 -\n"
     ]
    },
    {
     "name": "stdout",
     "output_type": "stream",
     "text": [
      "Datos recibidos SELECT:\n",
      "{'name_robot': 'Oswa2', 'id_face': '109253348089942', 'block_ini': 'Informativo | d602e284-c054-4f7f-90b0-3d079f8908e4 | XTHyJxz6aPUIFVONQdUE', 'type_blocki': 'informativo', 'access_token': 'EAAFMtaIPwugBABaSyaEaQxCjZB05xZAs5fag2JZCZB9LcVSFPJtAjcu48PewIfljpztLDiWZCZAINUghHfyn85rSKQxPnfZAMZA3DScogyb4Q1cg91NEiEgVLhlsHJXakq9diPLuJtiRqZC8kCp4MfZCllTvoPR0Jad4B0r0JWp8foAffcrjKebrSp', 'id_user': 'charlygoldcruz@gmail.com', 'api_nlp': 'http://localhost:8282/'}\n",
      "intenatando consulta...\n",
      "consulta: select * from robots where id_face = '109253348089942';\n",
      "Datos enviados SELECT:\n",
      "{'name_robot': 'Oswa2', 'id_face': '109253348089942', 'block_ini': 'Informativo | d602e284-c054-4f7f-90b0-3d079f8908e4 | XTHyJxz6aPUIFVONQdUE', 'type_blocki': 'informativo', 'access_token': 'EAAFMtaIPwugBABaSyaEaQxCjZB05xZAs5fag2JZCZB9LcVSFPJtAjcu48PewIfljpztLDiWZCZAINUghHfyn85rSKQxPnfZAMZA3DScogyb4Q1cg91NEiEgVLhlsHJXakq9diPLuJtiRqZC8kCp4MfZCllTvoPR0Jad4B0r0JWp8foAffcrjKebrSp', 'api_nlp': 'http://localhost:8282/', 'id_robot': 584, 'id_user': 'charlygoldcruz@gmail.com'}\n",
      "Datos recibidos SELECT:\n",
      "{'id_robot': '584'}\n",
      "intenatando consulta...\n",
      "consulta: select * from bloqueslide where id_robot= '584' ;\n",
      "Datos enviados SELECT:\n",
      "{'namestate': 'Carrusel | 16ad30d3-2b1e-433d-9f31-58de69dacffe | 46973551-1467-4450-7433-103925931451 | XTHyJxz6aPUIFVONQdUE', 'next_id': 'www.github.com,Informativo | 38f82c6d-a32e-4687-ae19-71aebb228e68 | XTHyJxz6aPUIFVONQdUE', 'blocktype': 'slide', 'typingtime': '1', 'default_id': 'Carrusel | 16ad30d3-2b1e-433d-9f31-58de69dacffe | 46973551-1467-4450-7433-103925931451 | XTHyJxz6aPUIFVONQdUE', 'id_var': '2489', 'id_block': 807, 'id_robot': 584, 'opc_nextid': None, 'pos_y': None, 'pos_x': None, 'opc_elm': None, 'tag_active': None}\n",
      "Datos recibidos SELECT:\n",
      "{'id_block': 807}\n",
      "intenatando consulta...\n",
      "consulta: select * from elementos where id_block= '807' ;\n",
      "Datos enviados SELECT:\n",
      "{'blocktype': 'slide', 'title': 'P1', 'image_url': 'https://analyticsindiamag.com/wp-content/uploads/2020/10/7d744a684fe03ebc7e8de545f97739dd.jpg', 'subtitle': 'S1', 'id_block': 807, 'id_elements': 1440}\n",
      "Datos recibidos INSERT:\n",
      "{'name_var': 'variableCarrCarrusel_|_16ad30d3-2b1e-433d-9f31-58de69dacffe2343', 'opc_type': 'Variable', 'var': 0, 'opc_data': 'String', 'id_robot': 584}\n"
     ]
    },
    {
     "name": "stderr",
     "output_type": "stream",
     "text": [
      "127.0.0.1 - - [07/Jul/2021 15:19:19] \"\u001b[37mPOST /insert/variables HTTP/1.1\u001b[0m\" 200 -\n",
      "127.0.0.1 - - [07/Jul/2021 15:19:19] \"\u001b[37mPOST /insert/bloqueslide HTTP/1.1\u001b[0m\" 200 -\n"
     ]
    },
    {
     "name": "stdout",
     "output_type": "stream",
     "text": [
      "intenatando consulta...\n",
      "consulta: select * from variables where name_var= 'variableCarrCarrusel_|_16ad30d3-2b1e-433d-9f31-58de69dacffe2343' and opc_type= 'Variable' and var= '0' and opc_data= 'String' and id_robot= '584' ;\n",
      "Datos enviados INSERT:\n",
      "{'id_var': 2491, 'opc_type': 'Variable', 'opc_data': 'String', 'var': '0', 'id_robot': 584, 'name_var': 'variableCarrCarrusel_|_16ad30d3-2b1e-433d-9f31-58de69dacffe2343'}\n",
      "Datos recibidos INSERT:\n",
      "{'namestate': 'Carrusel | 16ad30d3-2b1e-433d-9f31-58de69dacffe | 46973551-1467-4450-7433-103925931451 | XTHyJxz6aPUIFVONQdUE', 'blocktype': 'slide', 'typingtime': '1', 'default_id': 'Carrusel | 16ad30d3-2b1e-433d-9f31-58de69dacffe | 46973551-1467-4450-7433-103925931451 | XTHyJxz6aPUIFVONQdUE', 'id_var': 2491, 'id_robot': 584}\n",
      "intenatando consulta...\n",
      "consulta: select * from bloqueslide where namestate= 'Carrusel | 16ad30d3-2b1e-433d-9f31-58de69dacffe | 46973551-1467-4450-7433-103925931451 | XTHyJxz6aPUIFVONQdUE' and blocktype= 'slide' and typingtime= '1' and default_id= 'Carrusel | 16ad30d3-2b1e-433d-9f31-58de69dacffe | 46973551-1467-4450-7433-103925931451 | XTHyJxz6aPUIFVONQdUE' and id_var= '2491' and id_robot= '584' ;\n",
      "Datos enviados INSERT:\n",
      "{'namestate': 'Carrusel | 16ad30d3-2b1e-433d-9f31-58de69dacffe | 46973551-1467-4450-7433-103925931451 | XTHyJxz6aPUIFVONQdUE', 'next_id': None, 'blocktype': 'slide', 'typingtime': '1', 'default_id': 'Carrusel | 16ad30d3-2b1e-433d-9f31-58de69dacffe | 46973551-1467-4450-7433-103925931451 | XTHyJxz6aPUIFVONQdUE', 'id_var': '2491', 'id_block': 808, 'id_robot': 584, 'opc_nextid': None, 'pos_y': None, 'pos_x': None, 'opc_elm': None, 'tag_active': None}\n"
     ]
    },
    {
     "name": "stderr",
     "output_type": "stream",
     "text": [
      "127.0.0.1 - - [07/Jul/2021 15:19:19] \"\u001b[37mPOST /insert/elementos HTTP/1.1\u001b[0m\" 200 -\n",
      "127.0.0.1 - - [07/Jul/2021 15:19:20] \"\u001b[37mPOST /insert/botones HTTP/1.1\u001b[0m\" 200 -\n",
      "127.0.0.1 - - [07/Jul/2021 15:19:20] \"\u001b[37mPOST /insert/botones HTTP/1.1\u001b[0m\" 200 -\n"
     ]
    },
    {
     "name": "stdout",
     "output_type": "stream",
     "text": [
      "Datos recibidos INSERT:\n",
      "{'image_url': 'https://analyticsindiamag.com/wp-content/uploads/2020/10/7d744a684fe03ebc7e8de545f97739dd.jpg', 'subtitle': 'S1', 'title': 'P1', 'blocktype': 'slide', 'id_block': 808}\n",
      "intenatando consulta...\n",
      "consulta: select * from elementos where image_url= 'https://analyticsindiamag.com/wp-content/uploads/2020/10/7d744a684fe03ebc7e8de545f97739dd.jpg' and subtitle= 'S1' and title= 'P1' and blocktype= 'slide' and id_block= '808' ;\n",
      "Datos enviados INSERT:\n",
      "{'blocktype': 'slide', 'title': 'P1', 'image_url': 'https://analyticsindiamag.com/wp-content/uploads/2020/10/7d744a684fe03ebc7e8de545f97739dd.jpg', 'subtitle': 'S1', 'id_block': 808, 'id_elements': 1441}\n",
      "Datos recibidos INSERT:\n",
      "{'id_elemento': '1441', 'titlebutton': 'www.github.com', 'typebutton': 'web_url', 'contentbutton': 'www.github.com', 'opc_nextid': 'www.github.com'}\n",
      "intenatando consulta...\n",
      "consulta: select * from botones where id_elemento= '1441' and titlebutton= 'www.github.com' and typebutton= 'web_url' and contentbutton= 'www.github.com' and opc_nextid= 'www.github.com' ;\n",
      "Datos enviados INSERT:\n",
      "{'id_elemento': '1441', 'titlebutton': 'www.github.com', 'typebutton': 'web_url', 'contentbutton': 'www.github.com', 'id_boton': 2686, 'opc_nextid': 'www.github.com'}\n",
      "Datos recibidos INSERT:\n",
      "{'id_elemento': '1441', 'titlebutton': 'Op', 'typebutton': 'postback', 'contentbutton': 'Input | 3d436c3e-3ed6-4f7b-ade1-541f93d08f74 | XTHyJxz6aPUIFVONQdUE', 'opc_nextid': 'Input | 3d436c3e-3ed6-4f7b-ade1-541f93d08f74 | XTHyJxz6aPUIFVONQdUE'}\n",
      "intenatando consulta...\n",
      "consulta: select * from botones where id_elemento= '1441' and titlebutton= 'Op' and typebutton= 'postback' and contentbutton= 'Input | 3d436c3e-3ed6-4f7b-ade1-541f93d08f74 | XTHyJxz6aPUIFVONQdUE' and opc_nextid= 'Input | 3d436c3e-3ed6-4f7b-ade1-541f93d08f74 | XTHyJxz6aPUIFVONQdUE' ;\n",
      "Datos enviados INSERT:\n",
      "{'id_elemento': '1441', 'titlebutton': 'Op', 'typebutton': 'postback', 'contentbutton': 'Input | 3d436c3e-3ed6-4f7b-ade1-541f93d08f74 | XTHyJxz6aPUIFVONQdUE', 'id_boton': 2687, 'opc_nextid': 'Input | 3d436c3e-3ed6-4f7b-ade1-541f93d08f74 | XTHyJxz6aPUIFVONQdUE'}\n"
     ]
    },
    {
     "name": "stderr",
     "output_type": "stream",
     "text": [
      "127.0.0.1 - - [07/Jul/2021 15:19:20] \"\u001b[37mPOST /insert/bloqueinformativo HTTP/1.1\u001b[0m\" 200 -\n",
      "127.0.0.1 - - [07/Jul/2021 15:19:20] \"\u001b[37mPOST /insert/variables HTTP/1.1\u001b[0m\" 200 -\n"
     ]
    },
    {
     "name": "stdout",
     "output_type": "stream",
     "text": [
      "Datos recibidos INSERT:\n",
      "{'next_id': 'Input | 36f8147d-fcbb-41b0-8017-c8a481cbf661 | 46973551-1467-4450-7433-103925931451 | XTHyJxz6aPUIFVONQdUE', 'namestate': 'Informativo | e61376a2-83b0-4ccd-90b2-0d3b8d9fc04b | 46973551-1467-4450-7433-103925931451 | XTHyJxz6aPUIFVONQdUE', 'contenido': 'Editando Bloque ', 'contenttype': 'text', 'typingtime': '1', 'id_robot': 584, 'blocktype': 'informativo'}\n",
      "intenatando consulta...\n",
      "consulta: select * from bloqueinformativo where next_id= 'Input | 36f8147d-fcbb-41b0-8017-c8a481cbf661 | 46973551-1467-4450-7433-103925931451 | XTHyJxz6aPUIFVONQdUE' and namestate= 'Informativo | e61376a2-83b0-4ccd-90b2-0d3b8d9fc04b | 46973551-1467-4450-7433-103925931451 | XTHyJxz6aPUIFVONQdUE' and contenido= 'Editando Bloque ' and contenttype= 'text' and typingtime= '1' and id_robot= '584' and blocktype= 'informativo' ;\n",
      "Datos enviados INSERT:\n",
      "{'namestate': 'Informativo | e61376a2-83b0-4ccd-90b2-0d3b8d9fc04b | 46973551-1467-4450-7433-103925931451 | XTHyJxz6aPUIFVONQdUE', 'contenido': 'Editando Bloque ', 'next_id': 'Input | 36f8147d-fcbb-41b0-8017-c8a481cbf661 | 46973551-1467-4450-7433-103925931451 | XTHyJxz6aPUIFVONQdUE', 'blocktype': 'informativo', 'contenttype': 'text', 'typingtime': '1', 'id_block': 4168, 'id_robot': 584, 'opc_nextid': None, 'pos_y': None, 'pos_x': None, 'tag_active': None}\n",
      "Datos recibidos INSERT:\n",
      "{'name_var': 'variableInputInput_|_36f8147d-fcbb-41b0-8017-c8a481cbf6616698', 'opc_type': 'Variable', 'var': 0, 'opc_data': 'String', 'id_robot': 584}\n",
      "intenatando consulta...\n",
      "consulta: select * from variables where name_var= 'variableInputInput_|_36f8147d-fcbb-41b0-8017-c8a481cbf6616698' and opc_type= 'Variable' and var= '0' and opc_data= 'String' and id_robot= '584' ;\n",
      "Datos enviados INSERT:\n",
      "{'id_var': 2492, 'opc_type': 'Variable', 'opc_data': 'String', 'var': '0', 'id_robot': 584, 'name_var': 'variableInputInput_|_36f8147d-fcbb-41b0-8017-c8a481cbf6616698'}\n",
      "Datos recibidos INSERT:\n",
      "{'next_id': 'Carrusel | 16ad30d3-2b1e-433d-9f31-58de69dacffe | 46973551-1467-4450-7433-103925931451 | XTHyJxz6aPUIFVONQdUE', 'default_id': 'Input | 36f8147d-fcbb-41b0-8017-c8a481cbf661 | 46973551-1467-4450-7433-103925931451 | XTHyJxz6aPUIFVONQdUE', 'namestate': 'Input | 36f8147d-fcbb-41b0-8017-c8a481cbf661 | 46973551-1467-4450-7433-103925931451 | XTHyJxz6aPUIFVONQdUE', 'contenido': 'Ingresa tu nombre', 'typingtime': '1', 'validacion': '', 'id_robot': 584, 'id_var': 2492, 'blocktype': 'input'}\n",
      "intenatando consulta...\n",
      "consulta: select * from bloqueinput where next_id= 'Carrusel | 16ad30d3-2b1e-433d-9f31-58de69dacffe | 46973551-1467-4450-7433-103925931451 | XTHyJxz6aPUIFVONQdUE' and default_id= 'Input | 36f8147d-fcbb-41b0-8017-c8a481cbf661 | 46973551-1467-4450-7433-103925931451 | XTHyJxz6aPUIFVONQdUE' and namestate= 'Input | 36f8147d-fcbb-41b0-8017-c8a481cbf661 | 46973551-1467-4450-7433-103925931451 | XTHyJxz6aPUIFVONQdUE' and contenido= 'Ingresa tu nombre' and typingtime= '1' and validacion= '' and id_robot= '584' and id_var= '2492' and blocktype= 'input' ;\n"
     ]
    },
    {
     "name": "stderr",
     "output_type": "stream",
     "text": [
      "127.0.0.1 - - [07/Jul/2021 15:19:20] \"\u001b[37mPOST /insert/bloqueinput HTTP/1.1\u001b[0m\" 200 -\n",
      "127.0.0.1 - - [07/Jul/2021 15:19:20] \"\u001b[37mPOST /insert/bloqueinformativo HTTP/1.1\u001b[0m\" 200 -\n",
      "127.0.0.1 - - [07/Jul/2021 15:19:20] \"\u001b[37mPOST /insert/bloqueinformativo HTTP/1.1\u001b[0m\" 200 -\n"
     ]
    },
    {
     "name": "stdout",
     "output_type": "stream",
     "text": [
      "Datos enviados INSERT:\n",
      "{'namestate': 'Input | 36f8147d-fcbb-41b0-8017-c8a481cbf661 | 46973551-1467-4450-7433-103925931451 | XTHyJxz6aPUIFVONQdUE', 'contenido': 'Ingresa tu nombre', 'next_id': 'Carrusel | 16ad30d3-2b1e-433d-9f31-58de69dacffe | 46973551-1467-4450-7433-103925931451 | XTHyJxz6aPUIFVONQdUE', 'blocktype': 'input', 'contenttype': None, 'typingtime': '1', 'validacion': '', 'default_id': 'Input | 36f8147d-fcbb-41b0-8017-c8a481cbf661 | 46973551-1467-4450-7433-103925931451 | XTHyJxz6aPUIFVONQdUE', 'id_var': '2492', 'id_block': 580, 'id_robot': 584, 'opc_nextid': None, 'pos_y': None, 'pos_x': None, 'tag_active': None}\n",
      "Datos recibidos INSERT:\n",
      "{'next_id': 'Informativo | e61376a2-83b0-4ccd-90b2-0d3b8d9fc04b | 46973551-1467-4450-7433-103925931451 | XTHyJxz6aPUIFVONQdUE', 'namestate': 'Informativo | d602e284-c054-4f7f-90b0-3d079f8908e4 | XTHyJxz6aPUIFVONQdUE', 'contenido': 'Hola soy bot2', 'contenttype': 'text', 'typingtime': '1', 'id_robot': 584, 'blocktype': 'informativo'}\n",
      "intenatando consulta...\n",
      "consulta: select * from bloqueinformativo where next_id= 'Informativo | e61376a2-83b0-4ccd-90b2-0d3b8d9fc04b | 46973551-1467-4450-7433-103925931451 | XTHyJxz6aPUIFVONQdUE' and namestate= 'Informativo | d602e284-c054-4f7f-90b0-3d079f8908e4 | XTHyJxz6aPUIFVONQdUE' and contenido= 'Hola soy bot2' and contenttype= 'text' and typingtime= '1' and id_robot= '584' and blocktype= 'informativo' ;\n",
      "Datos enviados INSERT:\n",
      "{'namestate': 'Informativo | d602e284-c054-4f7f-90b0-3d079f8908e4 | XTHyJxz6aPUIFVONQdUE', 'contenido': 'Hola soy bot2', 'next_id': 'Informativo | e61376a2-83b0-4ccd-90b2-0d3b8d9fc04b | 46973551-1467-4450-7433-103925931451 | XTHyJxz6aPUIFVONQdUE', 'blocktype': 'informativo', 'contenttype': 'text', 'typingtime': '1', 'id_block': 4169, 'id_robot': 584, 'opc_nextid': None, 'pos_y': None, 'pos_x': None, 'tag_active': None}\n",
      "Datos recibidos INSERT:\n",
      "{'next_id': 'Salida', 'namestate': 'Informativo | 38f82c6d-a32e-4687-ae19-71aebb228e68 | XTHyJxz6aPUIFVONQdUE', 'contenido': 'Adios oswa', 'contenttype': 'text', 'typingtime': '1', 'id_robot': 584, 'blocktype': 'informativo'}\n",
      "intenatando consulta...\n",
      "consulta: select * from bloqueinformativo where next_id= 'Salida' and namestate= 'Informativo | 38f82c6d-a32e-4687-ae19-71aebb228e68 | XTHyJxz6aPUIFVONQdUE' and contenido= 'Adios oswa' and contenttype= 'text' and typingtime= '1' and id_robot= '584' and blocktype= 'informativo' ;\n",
      "Datos enviados INSERT:\n",
      "{'namestate': 'Informativo | 38f82c6d-a32e-4687-ae19-71aebb228e68 | XTHyJxz6aPUIFVONQdUE', 'contenido': 'Adios oswa', 'next_id': 'Salida', 'blocktype': 'informativo', 'contenttype': 'text', 'typingtime': '1', 'id_block': 4170, 'id_robot': 584, 'opc_nextid': None, 'pos_y': None, 'pos_x': None, 'tag_active': None}\n",
      "Datos recibidos INSERT:\n",
      "{'name_var': 'variableInputInput_|_3d436c3e-3ed6-4f7b-ade1-541f93d08f747017', 'opc_type': 'Variable', 'var': 0, 'opc_data': 'String', 'id_robot': 584}\n"
     ]
    },
    {
     "name": "stderr",
     "output_type": "stream",
     "text": [
      "127.0.0.1 - - [07/Jul/2021 15:19:20] \"\u001b[37mPOST /insert/variables HTTP/1.1\u001b[0m\" 200 -\n",
      "127.0.0.1 - - [07/Jul/2021 15:19:20] \"\u001b[33mPOST /insert/bloqueinput HTTP/1.1\u001b[0m\" 404 -\n"
     ]
    },
    {
     "name": "stdout",
     "output_type": "stream",
     "text": [
      "intenatando consulta...\n",
      "consulta: select * from variables where name_var= 'variableInputInput_|_3d436c3e-3ed6-4f7b-ade1-541f93d08f747017' and opc_type= 'Variable' and var= '0' and opc_data= 'String' and id_robot= '584' ;\n",
      "Datos enviados INSERT:\n",
      "{'id_var': 2493, 'opc_type': 'Variable', 'opc_data': 'String', 'var': '0', 'id_robot': 584, 'name_var': 'variableInputInput_|_3d436c3e-3ed6-4f7b-ade1-541f93d08f747017'}\n",
      "Datos recibidos INSERT:\n",
      "{'next_id': 'Informativo | 38f82c6d-a32e-4687-ae19-71aebb228e68 | XTHyJxz6aPUIFVONQdUE', 'default_id': 'Input | 3d436c3e-3ed6-4f7b-ade1-541f93d08f74 | XTHyJxz6aPUIFVONQdUE', 'namestate': 'Input | 3d436c3e-3ed6-4f7b-ade1-541f93d08f74 | XTHyJxz6aPUIFVONQdUE', 'contenido': \"Dime 'adios' para seguir\", 'typingtime': '1', 'validacion': '', 'id_robot': 584, 'id_var': 2493, 'blocktype': 'input'}\n",
      "error error de sintaxis en o cerca de «adios»\n",
      "LINE 1: ...ade1-541f93d08f74 | XTHyJxz6aPUIFVONQdUE' ,'Dime 'adios' par...\n",
      "                                                             ^\n",
      "\n"
     ]
    },
    {
     "name": "stderr",
     "output_type": "stream",
     "text": [
      "127.0.0.1 - - [07/Jul/2021 15:20:12] \"\u001b[37mGET /select/robots HTTP/1.1\u001b[0m\" 200 -\n",
      "127.0.0.1 - - [07/Jul/2021 15:20:12] \"\u001b[37mGET /select/bloqueslide HTTP/1.1\u001b[0m\" 200 -\n",
      "127.0.0.1 - - [07/Jul/2021 15:20:12] \"\u001b[37mGET /select/elementos HTTP/1.1\u001b[0m\" 200 -\n"
     ]
    },
    {
     "name": "stdout",
     "output_type": "stream",
     "text": [
      "Datos recibidos SELECT:\n",
      "{'name_robot': 'Oswa2', 'id_face': '109253348089942', 'block_ini': 'Informativo | d602e284-c054-4f7f-90b0-3d079f8908e4 | XTHyJxz6aPUIFVONQdUE', 'type_blocki': 'informativo', 'access_token': 'EAAFMtaIPwugBABaSyaEaQxCjZB05xZAs5fag2JZCZB9LcVSFPJtAjcu48PewIfljpztLDiWZCZAINUghHfyn85rSKQxPnfZAMZA3DScogyb4Q1cg91NEiEgVLhlsHJXakq9diPLuJtiRqZC8kCp4MfZCllTvoPR0Jad4B0r0JWp8foAffcrjKebrSp', 'id_user': 'charlygoldcruz@gmail.com', 'api_nlp': 'http://localhost:8282/'}\n",
      "intenatando consulta...\n",
      "consulta: select * from robots where id_face = '109253348089942';\n",
      "Datos enviados SELECT:\n",
      "{'name_robot': 'Oswa2', 'id_face': '109253348089942', 'block_ini': 'Informativo | d602e284-c054-4f7f-90b0-3d079f8908e4 | XTHyJxz6aPUIFVONQdUE', 'type_blocki': 'informativo', 'access_token': 'EAAFMtaIPwugBABaSyaEaQxCjZB05xZAs5fag2JZCZB9LcVSFPJtAjcu48PewIfljpztLDiWZCZAINUghHfyn85rSKQxPnfZAMZA3DScogyb4Q1cg91NEiEgVLhlsHJXakq9diPLuJtiRqZC8kCp4MfZCllTvoPR0Jad4B0r0JWp8foAffcrjKebrSp', 'api_nlp': 'http://localhost:8282/', 'id_robot': 584, 'id_user': 'charlygoldcruz@gmail.com'}\n",
      "Datos recibidos SELECT:\n",
      "{'id_robot': '584'}\n",
      "intenatando consulta...\n",
      "consulta: select * from bloqueslide where id_robot= '584' ;\n",
      "Datos enviados SELECT:\n",
      "{'namestate': 'Carrusel | 16ad30d3-2b1e-433d-9f31-58de69dacffe | 46973551-1467-4450-7433-103925931451 | XTHyJxz6aPUIFVONQdUE', 'next_id': 'www.github.com,Input | 3d436c3e-3ed6-4f7b-ade1-541f93d08f74 | XTHyJxz6aPUIFVONQdUE', 'blocktype': 'slide', 'typingtime': '1', 'default_id': 'Carrusel | 16ad30d3-2b1e-433d-9f31-58de69dacffe | 46973551-1467-4450-7433-103925931451 | XTHyJxz6aPUIFVONQdUE', 'id_var': '2491', 'id_block': 808, 'id_robot': 584, 'opc_nextid': None, 'pos_y': None, 'pos_x': None, 'opc_elm': None, 'tag_active': None}\n",
      "Datos recibidos SELECT:\n",
      "{'id_block': 808}\n",
      "intenatando consulta...\n",
      "consulta: select * from elementos where id_block= '808' ;\n",
      "Datos enviados SELECT:\n",
      "{'blocktype': 'slide', 'title': 'P1', 'image_url': 'https://analyticsindiamag.com/wp-content/uploads/2020/10/7d744a684fe03ebc7e8de545f97739dd.jpg', 'subtitle': 'S1', 'id_block': 808, 'id_elements': 1441}\n",
      "Datos recibidos INSERT:\n",
      "{'name_var': 'variableCarrCarrusel_|_16ad30d3-2b1e-433d-9f31-58de69dacffe3567', 'opc_type': 'Variable', 'var': 0, 'opc_data': 'String', 'id_robot': 584}\n"
     ]
    },
    {
     "name": "stderr",
     "output_type": "stream",
     "text": [
      "127.0.0.1 - - [07/Jul/2021 15:20:12] \"\u001b[37mPOST /insert/variables HTTP/1.1\u001b[0m\" 200 -\n",
      "127.0.0.1 - - [07/Jul/2021 15:20:12] \"\u001b[37mPOST /insert/bloqueslide HTTP/1.1\u001b[0m\" 200 -\n",
      "127.0.0.1 - - [07/Jul/2021 15:20:12] \"\u001b[37mPOST /insert/elementos HTTP/1.1\u001b[0m\" 200 -\n"
     ]
    },
    {
     "name": "stdout",
     "output_type": "stream",
     "text": [
      "intenatando consulta...\n",
      "consulta: select * from variables where name_var= 'variableCarrCarrusel_|_16ad30d3-2b1e-433d-9f31-58de69dacffe3567' and opc_type= 'Variable' and var= '0' and opc_data= 'String' and id_robot= '584' ;\n",
      "Datos enviados INSERT:\n",
      "{'id_var': 2494, 'opc_type': 'Variable', 'opc_data': 'String', 'var': '0', 'id_robot': 584, 'name_var': 'variableCarrCarrusel_|_16ad30d3-2b1e-433d-9f31-58de69dacffe3567'}\n",
      "Datos recibidos INSERT:\n",
      "{'namestate': 'Carrusel | 16ad30d3-2b1e-433d-9f31-58de69dacffe | 46973551-1467-4450-7433-103925931451 | XTHyJxz6aPUIFVONQdUE', 'blocktype': 'slide', 'typingtime': '1', 'default_id': 'Carrusel | 16ad30d3-2b1e-433d-9f31-58de69dacffe | 46973551-1467-4450-7433-103925931451 | XTHyJxz6aPUIFVONQdUE', 'id_var': 2494, 'id_robot': 584}\n",
      "intenatando consulta...\n",
      "consulta: select * from bloqueslide where namestate= 'Carrusel | 16ad30d3-2b1e-433d-9f31-58de69dacffe | 46973551-1467-4450-7433-103925931451 | XTHyJxz6aPUIFVONQdUE' and blocktype= 'slide' and typingtime= '1' and default_id= 'Carrusel | 16ad30d3-2b1e-433d-9f31-58de69dacffe | 46973551-1467-4450-7433-103925931451 | XTHyJxz6aPUIFVONQdUE' and id_var= '2494' and id_robot= '584' ;\n",
      "Datos enviados INSERT:\n",
      "{'namestate': 'Carrusel | 16ad30d3-2b1e-433d-9f31-58de69dacffe | 46973551-1467-4450-7433-103925931451 | XTHyJxz6aPUIFVONQdUE', 'next_id': None, 'blocktype': 'slide', 'typingtime': '1', 'default_id': 'Carrusel | 16ad30d3-2b1e-433d-9f31-58de69dacffe | 46973551-1467-4450-7433-103925931451 | XTHyJxz6aPUIFVONQdUE', 'id_var': '2494', 'id_block': 809, 'id_robot': 584, 'opc_nextid': None, 'pos_y': None, 'pos_x': None, 'opc_elm': None, 'tag_active': None}\n",
      "Datos recibidos INSERT:\n",
      "{'subtitle': 'S1', 'title': 'P1', 'image_url': 'https://analyticsindiamag.com/wp-content/uploads/2020/10/7d744a684fe03ebc7e8de545f97739dd.jpg', 'blocktype': 'slide', 'id_block': 809}\n",
      "intenatando consulta...\n",
      "consulta: select * from elementos where subtitle= 'S1' and title= 'P1' and image_url= 'https://analyticsindiamag.com/wp-content/uploads/2020/10/7d744a684fe03ebc7e8de545f97739dd.jpg' and blocktype= 'slide' and id_block= '809' ;\n",
      "Datos enviados INSERT:\n",
      "{'blocktype': 'slide', 'title': 'P1', 'image_url': 'https://analyticsindiamag.com/wp-content/uploads/2020/10/7d744a684fe03ebc7e8de545f97739dd.jpg', 'subtitle': 'S1', 'id_block': 809, 'id_elements': 1442}\n",
      "Datos recibidos INSERT:\n",
      "{'id_elemento': '1442', 'titlebutton': 'www.github.com', 'typebutton': 'web_url', 'contentbutton': 'www.github.com', 'opc_nextid': 'www.github.com'}\n"
     ]
    },
    {
     "name": "stderr",
     "output_type": "stream",
     "text": [
      "127.0.0.1 - - [07/Jul/2021 15:20:13] \"\u001b[37mPOST /insert/botones HTTP/1.1\u001b[0m\" 200 -\n",
      "127.0.0.1 - - [07/Jul/2021 15:20:13] \"\u001b[37mPOST /insert/botones HTTP/1.1\u001b[0m\" 200 -\n",
      "127.0.0.1 - - [07/Jul/2021 15:20:13] \"\u001b[37mPOST /insert/bloqueinformativo HTTP/1.1\u001b[0m\" 200 -\n"
     ]
    },
    {
     "name": "stdout",
     "output_type": "stream",
     "text": [
      "intenatando consulta...\n",
      "consulta: select * from botones where id_elemento= '1442' and titlebutton= 'www.github.com' and typebutton= 'web_url' and contentbutton= 'www.github.com' and opc_nextid= 'www.github.com' ;\n",
      "Datos enviados INSERT:\n",
      "{'id_elemento': '1442', 'titlebutton': 'www.github.com', 'typebutton': 'web_url', 'contentbutton': 'www.github.com', 'id_boton': 2688, 'opc_nextid': 'www.github.com'}\n",
      "Datos recibidos INSERT:\n",
      "{'id_elemento': '1442', 'titlebutton': 'Op', 'typebutton': 'postback', 'contentbutton': 'Input | 3d436c3e-3ed6-4f7b-ade1-541f93d08f74 | XTHyJxz6aPUIFVONQdUE', 'opc_nextid': 'Input | 3d436c3e-3ed6-4f7b-ade1-541f93d08f74 | XTHyJxz6aPUIFVONQdUE'}\n",
      "intenatando consulta...\n",
      "consulta: select * from botones where id_elemento= '1442' and titlebutton= 'Op' and typebutton= 'postback' and contentbutton= 'Input | 3d436c3e-3ed6-4f7b-ade1-541f93d08f74 | XTHyJxz6aPUIFVONQdUE' and opc_nextid= 'Input | 3d436c3e-3ed6-4f7b-ade1-541f93d08f74 | XTHyJxz6aPUIFVONQdUE' ;\n",
      "Datos enviados INSERT:\n",
      "{'id_elemento': '1442', 'titlebutton': 'Op', 'typebutton': 'postback', 'contentbutton': 'Input | 3d436c3e-3ed6-4f7b-ade1-541f93d08f74 | XTHyJxz6aPUIFVONQdUE', 'id_boton': 2689, 'opc_nextid': 'Input | 3d436c3e-3ed6-4f7b-ade1-541f93d08f74 | XTHyJxz6aPUIFVONQdUE'}\n",
      "Datos recibidos INSERT:\n",
      "{'next_id': 'Input | 36f8147d-fcbb-41b0-8017-c8a481cbf661 | 46973551-1467-4450-7433-103925931451 | XTHyJxz6aPUIFVONQdUE', 'namestate': 'Informativo | e61376a2-83b0-4ccd-90b2-0d3b8d9fc04b | 46973551-1467-4450-7433-103925931451 | XTHyJxz6aPUIFVONQdUE', 'contenido': 'Editando Bloque ', 'contenttype': 'text', 'typingtime': '1', 'id_robot': 584, 'blocktype': 'informativo'}\n",
      "intenatando consulta...\n",
      "consulta: select * from bloqueinformativo where next_id= 'Input | 36f8147d-fcbb-41b0-8017-c8a481cbf661 | 46973551-1467-4450-7433-103925931451 | XTHyJxz6aPUIFVONQdUE' and namestate= 'Informativo | e61376a2-83b0-4ccd-90b2-0d3b8d9fc04b | 46973551-1467-4450-7433-103925931451 | XTHyJxz6aPUIFVONQdUE' and contenido= 'Editando Bloque ' and contenttype= 'text' and typingtime= '1' and id_robot= '584' and blocktype= 'informativo' ;\n",
      "Datos enviados INSERT:\n",
      "{'namestate': 'Informativo | e61376a2-83b0-4ccd-90b2-0d3b8d9fc04b | 46973551-1467-4450-7433-103925931451 | XTHyJxz6aPUIFVONQdUE', 'contenido': 'Editando Bloque ', 'next_id': 'Input | 36f8147d-fcbb-41b0-8017-c8a481cbf661 | 46973551-1467-4450-7433-103925931451 | XTHyJxz6aPUIFVONQdUE', 'blocktype': 'informativo', 'contenttype': 'text', 'typingtime': '1', 'id_block': 4171, 'id_robot': 584, 'opc_nextid': None, 'pos_y': None, 'pos_x': None, 'tag_active': None}\n",
      "Datos recibidos INSERT:\n",
      "{'name_var': 'variableInputInput_|_36f8147d-fcbb-41b0-8017-c8a481cbf6612047', 'opc_type': 'Variable', 'var': 0, 'opc_data': 'String', 'id_robot': 584}\n"
     ]
    },
    {
     "name": "stderr",
     "output_type": "stream",
     "text": [
      "127.0.0.1 - - [07/Jul/2021 15:20:13] \"\u001b[37mPOST /insert/variables HTTP/1.1\u001b[0m\" 200 -\n",
      "127.0.0.1 - - [07/Jul/2021 15:20:13] \"\u001b[37mPOST /insert/bloqueinput HTTP/1.1\u001b[0m\" 200 -\n",
      "127.0.0.1 - - [07/Jul/2021 15:20:13] \"\u001b[37mPOST /insert/bloqueinformativo HTTP/1.1\u001b[0m\" 200 -\n"
     ]
    },
    {
     "name": "stdout",
     "output_type": "stream",
     "text": [
      "intenatando consulta...\n",
      "consulta: select * from variables where name_var= 'variableInputInput_|_36f8147d-fcbb-41b0-8017-c8a481cbf6612047' and opc_type= 'Variable' and var= '0' and opc_data= 'String' and id_robot= '584' ;\n",
      "Datos enviados INSERT:\n",
      "{'id_var': 2495, 'opc_type': 'Variable', 'opc_data': 'String', 'var': '0', 'id_robot': 584, 'name_var': 'variableInputInput_|_36f8147d-fcbb-41b0-8017-c8a481cbf6612047'}\n",
      "Datos recibidos INSERT:\n",
      "{'next_id': 'Carrusel | 16ad30d3-2b1e-433d-9f31-58de69dacffe | 46973551-1467-4450-7433-103925931451 | XTHyJxz6aPUIFVONQdUE', 'default_id': 'Input | 36f8147d-fcbb-41b0-8017-c8a481cbf661 | 46973551-1467-4450-7433-103925931451 | XTHyJxz6aPUIFVONQdUE', 'namestate': 'Input | 36f8147d-fcbb-41b0-8017-c8a481cbf661 | 46973551-1467-4450-7433-103925931451 | XTHyJxz6aPUIFVONQdUE', 'contenido': 'Ingresa tu nombre', 'typingtime': '1', 'validacion': '', 'id_robot': 584, 'id_var': 2495, 'blocktype': 'input'}\n",
      "intenatando consulta...\n",
      "consulta: select * from bloqueinput where next_id= 'Carrusel | 16ad30d3-2b1e-433d-9f31-58de69dacffe | 46973551-1467-4450-7433-103925931451 | XTHyJxz6aPUIFVONQdUE' and default_id= 'Input | 36f8147d-fcbb-41b0-8017-c8a481cbf661 | 46973551-1467-4450-7433-103925931451 | XTHyJxz6aPUIFVONQdUE' and namestate= 'Input | 36f8147d-fcbb-41b0-8017-c8a481cbf661 | 46973551-1467-4450-7433-103925931451 | XTHyJxz6aPUIFVONQdUE' and contenido= 'Ingresa tu nombre' and typingtime= '1' and validacion= '' and id_robot= '584' and id_var= '2495' and blocktype= 'input' ;\n",
      "Datos enviados INSERT:\n",
      "{'namestate': 'Input | 36f8147d-fcbb-41b0-8017-c8a481cbf661 | 46973551-1467-4450-7433-103925931451 | XTHyJxz6aPUIFVONQdUE', 'contenido': 'Ingresa tu nombre', 'next_id': 'Carrusel | 16ad30d3-2b1e-433d-9f31-58de69dacffe | 46973551-1467-4450-7433-103925931451 | XTHyJxz6aPUIFVONQdUE', 'blocktype': 'input', 'contenttype': None, 'typingtime': '1', 'validacion': '', 'default_id': 'Input | 36f8147d-fcbb-41b0-8017-c8a481cbf661 | 46973551-1467-4450-7433-103925931451 | XTHyJxz6aPUIFVONQdUE', 'id_var': '2495', 'id_block': 581, 'id_robot': 584, 'opc_nextid': None, 'pos_y': None, 'pos_x': None, 'tag_active': None}\n",
      "Datos recibidos INSERT:\n",
      "{'next_id': 'Informativo | e61376a2-83b0-4ccd-90b2-0d3b8d9fc04b | 46973551-1467-4450-7433-103925931451 | XTHyJxz6aPUIFVONQdUE', 'namestate': 'Informativo | d602e284-c054-4f7f-90b0-3d079f8908e4 | XTHyJxz6aPUIFVONQdUE', 'contenido': 'Hola soy bot2', 'contenttype': 'text', 'typingtime': '1', 'id_robot': 584, 'blocktype': 'informativo'}\n",
      "intenatando consulta...\n",
      "consulta: select * from bloqueinformativo where next_id= 'Informativo | e61376a2-83b0-4ccd-90b2-0d3b8d9fc04b | 46973551-1467-4450-7433-103925931451 | XTHyJxz6aPUIFVONQdUE' and namestate= 'Informativo | d602e284-c054-4f7f-90b0-3d079f8908e4 | XTHyJxz6aPUIFVONQdUE' and contenido= 'Hola soy bot2' and contenttype= 'text' and typingtime= '1' and id_robot= '584' and blocktype= 'informativo' ;\n",
      "Datos enviados INSERT:\n",
      "{'namestate': 'Informativo | d602e284-c054-4f7f-90b0-3d079f8908e4 | XTHyJxz6aPUIFVONQdUE', 'contenido': 'Hola soy bot2', 'next_id': 'Informativo | e61376a2-83b0-4ccd-90b2-0d3b8d9fc04b | 46973551-1467-4450-7433-103925931451 | XTHyJxz6aPUIFVONQdUE', 'blocktype': 'informativo', 'contenttype': 'text', 'typingtime': '1', 'id_block': 4172, 'id_robot': 584, 'opc_nextid': None, 'pos_y': None, 'pos_x': None, 'tag_active': None}\n",
      "Datos recibidos INSERT:\n",
      "{'next_id': 'Salida', 'namestate': 'Informativo | 38f82c6d-a32e-4687-ae19-71aebb228e68 | XTHyJxz6aPUIFVONQdUE', 'contenido': 'Adios oswa', 'contenttype': 'text', 'typingtime': '1', 'id_robot': 584, 'blocktype': 'informativo'}\n",
      "intenatando consulta...\n",
      "consulta: select * from bloqueinformativo where next_id= 'Salida' and namestate= 'Informativo | 38f82c6d-a32e-4687-ae19-71aebb228e68 | XTHyJxz6aPUIFVONQdUE' and contenido= 'Adios oswa' and contenttype= 'text' and typingtime= '1' and id_robot= '584' and blocktype= 'informativo' ;\n"
     ]
    },
    {
     "name": "stderr",
     "output_type": "stream",
     "text": [
      "127.0.0.1 - - [07/Jul/2021 15:20:13] \"\u001b[37mPOST /insert/bloqueinformativo HTTP/1.1\u001b[0m\" 200 -\n",
      "127.0.0.1 - - [07/Jul/2021 15:20:13] \"\u001b[37mPOST /insert/variables HTTP/1.1\u001b[0m\" 200 -\n",
      "127.0.0.1 - - [07/Jul/2021 15:20:13] \"\u001b[33mPOST /insert/bloqueinput HTTP/1.1\u001b[0m\" 404 -\n"
     ]
    },
    {
     "name": "stdout",
     "output_type": "stream",
     "text": [
      "Datos enviados INSERT:\n",
      "{'namestate': 'Informativo | 38f82c6d-a32e-4687-ae19-71aebb228e68 | XTHyJxz6aPUIFVONQdUE', 'contenido': 'Adios oswa', 'next_id': 'Salida', 'blocktype': 'informativo', 'contenttype': 'text', 'typingtime': '1', 'id_block': 4173, 'id_robot': 584, 'opc_nextid': None, 'pos_y': None, 'pos_x': None, 'tag_active': None}\n",
      "Datos recibidos INSERT:\n",
      "{'name_var': 'variableInputInput_|_3d436c3e-3ed6-4f7b-ade1-541f93d08f745409', 'opc_type': 'Variable', 'var': 0, 'opc_data': 'String', 'id_robot': 584}\n",
      "intenatando consulta...\n",
      "consulta: select * from variables where name_var= 'variableInputInput_|_3d436c3e-3ed6-4f7b-ade1-541f93d08f745409' and opc_type= 'Variable' and var= '0' and opc_data= 'String' and id_robot= '584' ;\n",
      "Datos enviados INSERT:\n",
      "{'id_var': 2496, 'opc_type': 'Variable', 'opc_data': 'String', 'var': '0', 'id_robot': 584, 'name_var': 'variableInputInput_|_3d436c3e-3ed6-4f7b-ade1-541f93d08f745409'}\n",
      "Datos recibidos INSERT:\n",
      "{'next_id': 'Informativo | 38f82c6d-a32e-4687-ae19-71aebb228e68 | XTHyJxz6aPUIFVONQdUE', 'default_id': 'Input | 3d436c3e-3ed6-4f7b-ade1-541f93d08f74 | XTHyJxz6aPUIFVONQdUE', 'namestate': 'Input | 3d436c3e-3ed6-4f7b-ade1-541f93d08f74 | XTHyJxz6aPUIFVONQdUE', 'contenido': \"Dime 'adios' para seguir\", 'typingtime': '1', 'validacion': '', 'id_robot': 584, 'id_var': 2496, 'blocktype': 'input'}\n",
      "error error de sintaxis en o cerca de «adios»\n",
      "LINE 1: ...ade1-541f93d08f74 | XTHyJxz6aPUIFVONQdUE' ,'Dime 'adios' par...\n",
      "                                                             ^\n",
      "\n"
     ]
    },
    {
     "name": "stderr",
     "output_type": "stream",
     "text": [
      "127.0.0.1 - - [07/Jul/2021 15:21:25] \"\u001b[37mGET /select/robots HTTP/1.1\u001b[0m\" 200 -\n",
      "127.0.0.1 - - [07/Jul/2021 15:21:26] \"\u001b[37mGET /select/bloqueslide HTTP/1.1\u001b[0m\" 200 -\n",
      "127.0.0.1 - - [07/Jul/2021 15:21:26] \"\u001b[37mGET /select/elementos HTTP/1.1\u001b[0m\" 200 -\n"
     ]
    },
    {
     "name": "stdout",
     "output_type": "stream",
     "text": [
      "Datos recibidos SELECT:\n",
      "{'name_robot': 'Oswa2', 'id_face': '109253348089942', 'block_ini': 'Informativo | d602e284-c054-4f7f-90b0-3d079f8908e4 | XTHyJxz6aPUIFVONQdUE', 'type_blocki': 'informativo', 'access_token': 'EAAFMtaIPwugBABaSyaEaQxCjZB05xZAs5fag2JZCZB9LcVSFPJtAjcu48PewIfljpztLDiWZCZAINUghHfyn85rSKQxPnfZAMZA3DScogyb4Q1cg91NEiEgVLhlsHJXakq9diPLuJtiRqZC8kCp4MfZCllTvoPR0Jad4B0r0JWp8foAffcrjKebrSp', 'id_user': 'charlygoldcruz@gmail.com', 'api_nlp': 'http://localhost:8282/'}\n",
      "intenatando consulta...\n",
      "consulta: select * from robots where id_face = '109253348089942';\n",
      "Datos enviados SELECT:\n",
      "{'name_robot': 'Oswa2', 'id_face': '109253348089942', 'block_ini': 'Informativo | d602e284-c054-4f7f-90b0-3d079f8908e4 | XTHyJxz6aPUIFVONQdUE', 'type_blocki': 'informativo', 'access_token': 'EAAFMtaIPwugBABaSyaEaQxCjZB05xZAs5fag2JZCZB9LcVSFPJtAjcu48PewIfljpztLDiWZCZAINUghHfyn85rSKQxPnfZAMZA3DScogyb4Q1cg91NEiEgVLhlsHJXakq9diPLuJtiRqZC8kCp4MfZCllTvoPR0Jad4B0r0JWp8foAffcrjKebrSp', 'api_nlp': 'http://localhost:8282/', 'id_robot': 584, 'id_user': 'charlygoldcruz@gmail.com'}\n",
      "Datos recibidos SELECT:\n",
      "{'id_robot': '584'}\n",
      "intenatando consulta...\n",
      "consulta: select * from bloqueslide where id_robot= '584' ;\n",
      "Datos enviados SELECT:\n",
      "{'namestate': 'Carrusel | 16ad30d3-2b1e-433d-9f31-58de69dacffe | 46973551-1467-4450-7433-103925931451 | XTHyJxz6aPUIFVONQdUE', 'next_id': 'www.github.com,Input | 3d436c3e-3ed6-4f7b-ade1-541f93d08f74 | XTHyJxz6aPUIFVONQdUE', 'blocktype': 'slide', 'typingtime': '1', 'default_id': 'Carrusel | 16ad30d3-2b1e-433d-9f31-58de69dacffe | 46973551-1467-4450-7433-103925931451 | XTHyJxz6aPUIFVONQdUE', 'id_var': '2494', 'id_block': 809, 'id_robot': 584, 'opc_nextid': None, 'pos_y': None, 'pos_x': None, 'opc_elm': None, 'tag_active': None}\n",
      "Datos recibidos SELECT:\n",
      "{'id_block': 809}\n",
      "intenatando consulta...\n",
      "consulta: select * from elementos where id_block= '809' ;\n",
      "Datos enviados SELECT:\n",
      "{'blocktype': 'slide', 'title': 'P1', 'image_url': 'https://analyticsindiamag.com/wp-content/uploads/2020/10/7d744a684fe03ebc7e8de545f97739dd.jpg', 'subtitle': 'S1', 'id_block': 809, 'id_elements': 1442}\n",
      "Datos recibidos INSERT:\n",
      "{'name_var': 'variableCarrCarrusel_|_16ad30d3-2b1e-433d-9f31-58de69dacffe9008', 'opc_type': 'Variable', 'var': 0, 'opc_data': 'String', 'id_robot': 584}\n"
     ]
    },
    {
     "name": "stderr",
     "output_type": "stream",
     "text": [
      "127.0.0.1 - - [07/Jul/2021 15:21:26] \"\u001b[37mPOST /insert/variables HTTP/1.1\u001b[0m\" 200 -\n",
      "127.0.0.1 - - [07/Jul/2021 15:21:26] \"\u001b[37mPOST /insert/bloqueslide HTTP/1.1\u001b[0m\" 200 -\n",
      "127.0.0.1 - - [07/Jul/2021 15:21:26] \"\u001b[37mPOST /insert/elementos HTTP/1.1\u001b[0m\" 200 -\n"
     ]
    },
    {
     "name": "stdout",
     "output_type": "stream",
     "text": [
      "intenatando consulta...\n",
      "consulta: select * from variables where name_var= 'variableCarrCarrusel_|_16ad30d3-2b1e-433d-9f31-58de69dacffe9008' and opc_type= 'Variable' and var= '0' and opc_data= 'String' and id_robot= '584' ;\n",
      "Datos enviados INSERT:\n",
      "{'id_var': 2497, 'opc_type': 'Variable', 'opc_data': 'String', 'var': '0', 'id_robot': 584, 'name_var': 'variableCarrCarrusel_|_16ad30d3-2b1e-433d-9f31-58de69dacffe9008'}\n",
      "Datos recibidos INSERT:\n",
      "{'namestate': 'Carrusel | 16ad30d3-2b1e-433d-9f31-58de69dacffe | 46973551-1467-4450-7433-103925931451 | XTHyJxz6aPUIFVONQdUE', 'blocktype': 'slide', 'typingtime': '1', 'default_id': 'Carrusel | 16ad30d3-2b1e-433d-9f31-58de69dacffe | 46973551-1467-4450-7433-103925931451 | XTHyJxz6aPUIFVONQdUE', 'id_var': 2497, 'id_robot': 584}\n",
      "intenatando consulta...\n",
      "consulta: select * from bloqueslide where namestate= 'Carrusel | 16ad30d3-2b1e-433d-9f31-58de69dacffe | 46973551-1467-4450-7433-103925931451 | XTHyJxz6aPUIFVONQdUE' and blocktype= 'slide' and typingtime= '1' and default_id= 'Carrusel | 16ad30d3-2b1e-433d-9f31-58de69dacffe | 46973551-1467-4450-7433-103925931451 | XTHyJxz6aPUIFVONQdUE' and id_var= '2497' and id_robot= '584' ;\n",
      "Datos enviados INSERT:\n",
      "{'namestate': 'Carrusel | 16ad30d3-2b1e-433d-9f31-58de69dacffe | 46973551-1467-4450-7433-103925931451 | XTHyJxz6aPUIFVONQdUE', 'next_id': None, 'blocktype': 'slide', 'typingtime': '1', 'default_id': 'Carrusel | 16ad30d3-2b1e-433d-9f31-58de69dacffe | 46973551-1467-4450-7433-103925931451 | XTHyJxz6aPUIFVONQdUE', 'id_var': '2497', 'id_block': 810, 'id_robot': 584, 'opc_nextid': None, 'pos_y': None, 'pos_x': None, 'opc_elm': None, 'tag_active': None}\n",
      "Datos recibidos INSERT:\n",
      "{'title': 'P1', 'image_url': 'https://analyticsindiamag.com/wp-content/uploads/2020/10/7d744a684fe03ebc7e8de545f97739dd.jpg', 'subtitle': 'S1', 'blocktype': 'slide', 'id_block': 810}\n",
      "intenatando consulta...\n",
      "consulta: select * from elementos where title= 'P1' and image_url= 'https://analyticsindiamag.com/wp-content/uploads/2020/10/7d744a684fe03ebc7e8de545f97739dd.jpg' and subtitle= 'S1' and blocktype= 'slide' and id_block= '810' ;\n",
      "Datos enviados INSERT:\n",
      "{'blocktype': 'slide', 'title': 'P1', 'image_url': 'https://analyticsindiamag.com/wp-content/uploads/2020/10/7d744a684fe03ebc7e8de545f97739dd.jpg', 'subtitle': 'S1', 'id_block': 810, 'id_elements': 1443}\n",
      "Datos recibidos INSERT:\n",
      "{'id_elemento': '1443', 'titlebutton': 'www.github.com', 'typebutton': 'web_url', 'contentbutton': 'www.github.com', 'opc_nextid': 'www.github.com'}\n",
      "intenatando consulta...\n",
      "consulta: select * from botones where id_elemento= '1443' and titlebutton= 'www.github.com' and typebutton= 'web_url' and contentbutton= 'www.github.com' and opc_nextid= 'www.github.com' ;\n"
     ]
    },
    {
     "name": "stderr",
     "output_type": "stream",
     "text": [
      "127.0.0.1 - - [07/Jul/2021 15:21:26] \"\u001b[37mPOST /insert/botones HTTP/1.1\u001b[0m\" 200 -\n",
      "127.0.0.1 - - [07/Jul/2021 15:21:26] \"\u001b[37mPOST /insert/botones HTTP/1.1\u001b[0m\" 200 -\n"
     ]
    },
    {
     "name": "stdout",
     "output_type": "stream",
     "text": [
      "Datos enviados INSERT:\n",
      "{'id_elemento': '1443', 'titlebutton': 'www.github.com', 'typebutton': 'web_url', 'contentbutton': 'www.github.com', 'id_boton': 2690, 'opc_nextid': 'www.github.com'}\n",
      "Datos recibidos INSERT:\n",
      "{'id_elemento': '1443', 'titlebutton': 'Op', 'typebutton': 'postback', 'contentbutton': 'QuickReply | 4f8b7fc2-89c3-4982-bb9c-69024f6d6c52 | XTHyJxz6aPUIFVONQdUE', 'opc_nextid': 'QuickReply | 4f8b7fc2-89c3-4982-bb9c-69024f6d6c52 | XTHyJxz6aPUIFVONQdUE'}\n",
      "intenatando consulta...\n",
      "consulta: select * from botones where id_elemento= '1443' and titlebutton= 'Op' and typebutton= 'postback' and contentbutton= 'QuickReply | 4f8b7fc2-89c3-4982-bb9c-69024f6d6c52 | XTHyJxz6aPUIFVONQdUE' and opc_nextid= 'QuickReply | 4f8b7fc2-89c3-4982-bb9c-69024f6d6c52 | XTHyJxz6aPUIFVONQdUE' ;\n",
      "Datos enviados INSERT:\n",
      "{'id_elemento': '1443', 'titlebutton': 'Op', 'typebutton': 'postback', 'contentbutton': 'QuickReply | 4f8b7fc2-89c3-4982-bb9c-69024f6d6c52 | XTHyJxz6aPUIFVONQdUE', 'id_boton': 2691, 'opc_nextid': 'QuickReply | 4f8b7fc2-89c3-4982-bb9c-69024f6d6c52 | XTHyJxz6aPUIFVONQdUE'}\n",
      "Datos recibidos INSERT:\n",
      "{'next_id': 'Input | 36f8147d-fcbb-41b0-8017-c8a481cbf661 | 46973551-1467-4450-7433-103925931451 | XTHyJxz6aPUIFVONQdUE', 'namestate': 'Informativo | e61376a2-83b0-4ccd-90b2-0d3b8d9fc04b | 46973551-1467-4450-7433-103925931451 | XTHyJxz6aPUIFVONQdUE', 'contenido': 'Editando Bloque ', 'contenttype': 'text', 'typingtime': '1', 'id_robot': 584, 'blocktype': 'informativo'}\n",
      "intenatando consulta...\n",
      "consulta: select * from bloqueinformativo where next_id= 'Input | 36f8147d-fcbb-41b0-8017-c8a481cbf661 | 46973551-1467-4450-7433-103925931451 | XTHyJxz6aPUIFVONQdUE' and namestate= 'Informativo | e61376a2-83b0-4ccd-90b2-0d3b8d9fc04b | 46973551-1467-4450-7433-103925931451 | XTHyJxz6aPUIFVONQdUE' and contenido= 'Editando Bloque ' and contenttype= 'text' and typingtime= '1' and id_robot= '584' and blocktype= 'informativo' ;\n"
     ]
    },
    {
     "name": "stderr",
     "output_type": "stream",
     "text": [
      "127.0.0.1 - - [07/Jul/2021 15:21:26] \"\u001b[37mPOST /insert/bloqueinformativo HTTP/1.1\u001b[0m\" 200 -\n",
      "127.0.0.1 - - [07/Jul/2021 15:21:26] \"\u001b[37mPOST /insert/variables HTTP/1.1\u001b[0m\" 200 -\n",
      "127.0.0.1 - - [07/Jul/2021 15:21:26] \"\u001b[37mPOST /insert/bloqueinput HTTP/1.1\u001b[0m\" 200 -\n"
     ]
    },
    {
     "name": "stdout",
     "output_type": "stream",
     "text": [
      "Datos enviados INSERT:\n",
      "{'namestate': 'Informativo | e61376a2-83b0-4ccd-90b2-0d3b8d9fc04b | 46973551-1467-4450-7433-103925931451 | XTHyJxz6aPUIFVONQdUE', 'contenido': 'Editando Bloque ', 'next_id': 'Input | 36f8147d-fcbb-41b0-8017-c8a481cbf661 | 46973551-1467-4450-7433-103925931451 | XTHyJxz6aPUIFVONQdUE', 'blocktype': 'informativo', 'contenttype': 'text', 'typingtime': '1', 'id_block': 4174, 'id_robot': 584, 'opc_nextid': None, 'pos_y': None, 'pos_x': None, 'tag_active': None}\n",
      "Datos recibidos INSERT:\n",
      "{'name_var': 'variableInputInput_|_36f8147d-fcbb-41b0-8017-c8a481cbf6614925', 'opc_type': 'Variable', 'var': 0, 'opc_data': 'String', 'id_robot': 584}\n",
      "intenatando consulta...\n",
      "consulta: select * from variables where name_var= 'variableInputInput_|_36f8147d-fcbb-41b0-8017-c8a481cbf6614925' and opc_type= 'Variable' and var= '0' and opc_data= 'String' and id_robot= '584' ;\n",
      "Datos enviados INSERT:\n",
      "{'id_var': 2498, 'opc_type': 'Variable', 'opc_data': 'String', 'var': '0', 'id_robot': 584, 'name_var': 'variableInputInput_|_36f8147d-fcbb-41b0-8017-c8a481cbf6614925'}\n",
      "Datos recibidos INSERT:\n",
      "{'next_id': 'Carrusel | 16ad30d3-2b1e-433d-9f31-58de69dacffe | 46973551-1467-4450-7433-103925931451 | XTHyJxz6aPUIFVONQdUE', 'default_id': 'Input | 36f8147d-fcbb-41b0-8017-c8a481cbf661 | 46973551-1467-4450-7433-103925931451 | XTHyJxz6aPUIFVONQdUE', 'namestate': 'Input | 36f8147d-fcbb-41b0-8017-c8a481cbf661 | 46973551-1467-4450-7433-103925931451 | XTHyJxz6aPUIFVONQdUE', 'contenido': 'Ingresa tu nombre', 'typingtime': '1', 'validacion': '', 'id_robot': 584, 'id_var': 2498, 'blocktype': 'input'}\n",
      "intenatando consulta...\n",
      "consulta: select * from bloqueinput where next_id= 'Carrusel | 16ad30d3-2b1e-433d-9f31-58de69dacffe | 46973551-1467-4450-7433-103925931451 | XTHyJxz6aPUIFVONQdUE' and default_id= 'Input | 36f8147d-fcbb-41b0-8017-c8a481cbf661 | 46973551-1467-4450-7433-103925931451 | XTHyJxz6aPUIFVONQdUE' and namestate= 'Input | 36f8147d-fcbb-41b0-8017-c8a481cbf661 | 46973551-1467-4450-7433-103925931451 | XTHyJxz6aPUIFVONQdUE' and contenido= 'Ingresa tu nombre' and typingtime= '1' and validacion= '' and id_robot= '584' and id_var= '2498' and blocktype= 'input' ;\n",
      "Datos enviados INSERT:\n",
      "{'namestate': 'Input | 36f8147d-fcbb-41b0-8017-c8a481cbf661 | 46973551-1467-4450-7433-103925931451 | XTHyJxz6aPUIFVONQdUE', 'contenido': 'Ingresa tu nombre', 'next_id': 'Carrusel | 16ad30d3-2b1e-433d-9f31-58de69dacffe | 46973551-1467-4450-7433-103925931451 | XTHyJxz6aPUIFVONQdUE', 'blocktype': 'input', 'contenttype': None, 'typingtime': '1', 'validacion': '', 'default_id': 'Input | 36f8147d-fcbb-41b0-8017-c8a481cbf661 | 46973551-1467-4450-7433-103925931451 | XTHyJxz6aPUIFVONQdUE', 'id_var': '2498', 'id_block': 582, 'id_robot': 584, 'opc_nextid': None, 'pos_y': None, 'pos_x': None, 'tag_active': None}\n",
      "Datos recibidos INSERT:\n",
      "{'next_id': 'Informativo | e61376a2-83b0-4ccd-90b2-0d3b8d9fc04b | 46973551-1467-4450-7433-103925931451 | XTHyJxz6aPUIFVONQdUE', 'namestate': 'Informativo | d602e284-c054-4f7f-90b0-3d079f8908e4 | XTHyJxz6aPUIFVONQdUE', 'contenido': 'Hola soy bot2', 'contenttype': 'text', 'typingtime': '1', 'id_robot': 584, 'blocktype': 'informativo'}\n",
      "intenatando consulta...\n",
      "consulta: select * from bloqueinformativo where next_id= 'Informativo | e61376a2-83b0-4ccd-90b2-0d3b8d9fc04b | 46973551-1467-4450-7433-103925931451 | XTHyJxz6aPUIFVONQdUE' and namestate= 'Informativo | d602e284-c054-4f7f-90b0-3d079f8908e4 | XTHyJxz6aPUIFVONQdUE' and contenido= 'Hola soy bot2' and contenttype= 'text' and typingtime= '1' and id_robot= '584' and blocktype= 'informativo' ;\n"
     ]
    },
    {
     "name": "stderr",
     "output_type": "stream",
     "text": [
      "127.0.0.1 - - [07/Jul/2021 15:21:26] \"\u001b[37mPOST /insert/bloqueinformativo HTTP/1.1\u001b[0m\" 200 -\n",
      "127.0.0.1 - - [07/Jul/2021 15:21:26] \"\u001b[37mPOST /insert/bloqueinformativo HTTP/1.1\u001b[0m\" 200 -\n",
      "127.0.0.1 - - [07/Jul/2021 15:21:26] \"\u001b[37mPOST /insert/variables HTTP/1.1\u001b[0m\" 200 -\n"
     ]
    },
    {
     "name": "stdout",
     "output_type": "stream",
     "text": [
      "Datos enviados INSERT:\n",
      "{'namestate': 'Informativo | d602e284-c054-4f7f-90b0-3d079f8908e4 | XTHyJxz6aPUIFVONQdUE', 'contenido': 'Hola soy bot2', 'next_id': 'Informativo | e61376a2-83b0-4ccd-90b2-0d3b8d9fc04b | 46973551-1467-4450-7433-103925931451 | XTHyJxz6aPUIFVONQdUE', 'blocktype': 'informativo', 'contenttype': 'text', 'typingtime': '1', 'id_block': 4175, 'id_robot': 584, 'opc_nextid': None, 'pos_y': None, 'pos_x': None, 'tag_active': None}\n",
      "Datos recibidos INSERT:\n",
      "{'next_id': 'Salida', 'namestate': 'Informativo | 38f82c6d-a32e-4687-ae19-71aebb228e68 | XTHyJxz6aPUIFVONQdUE', 'contenido': 'Adios oswa', 'contenttype': 'text', 'typingtime': '1', 'id_robot': 584, 'blocktype': 'informativo'}\n",
      "intenatando consulta...\n",
      "consulta: select * from bloqueinformativo where next_id= 'Salida' and namestate= 'Informativo | 38f82c6d-a32e-4687-ae19-71aebb228e68 | XTHyJxz6aPUIFVONQdUE' and contenido= 'Adios oswa' and contenttype= 'text' and typingtime= '1' and id_robot= '584' and blocktype= 'informativo' ;\n",
      "Datos enviados INSERT:\n",
      "{'namestate': 'Informativo | 38f82c6d-a32e-4687-ae19-71aebb228e68 | XTHyJxz6aPUIFVONQdUE', 'contenido': 'Adios oswa', 'next_id': 'Salida', 'blocktype': 'informativo', 'contenttype': 'text', 'typingtime': '1', 'id_block': 4176, 'id_robot': 584, 'opc_nextid': None, 'pos_y': None, 'pos_x': None, 'tag_active': None}\n",
      "Datos recibidos INSERT:\n",
      "{'name_var': 'variableQrQuickReply_|_4f8b7fc2-89c3-4982-bb9c-69024f6d6c523356', 'opc_type': 'Variable', 'var': 0, 'opc_data': 'String', 'id_robot': 584}\n",
      "intenatando consulta...\n",
      "consulta: select * from variables where name_var= 'variableQrQuickReply_|_4f8b7fc2-89c3-4982-bb9c-69024f6d6c523356' and opc_type= 'Variable' and var= '0' and opc_data= 'String' and id_robot= '584' ;\n",
      "Datos enviados INSERT:\n",
      "{'id_var': 2499, 'opc_type': 'Variable', 'opc_data': 'String', 'var': '0', 'id_robot': 584, 'name_var': 'variableQrQuickReply_|_4f8b7fc2-89c3-4982-bb9c-69024f6d6c523356'}\n",
      "Datos recibidos INSERT:\n",
      "{'contenido': 'Probando QR', 'opciones': 'OPC1', 'next_id': 'Informativo | 38f82c6d-a32e-4687-ae19-71aebb228e68 | XTHyJxz6aPUIFVONQdUE', 'default_id': 'QuickReply | 4f8b7fc2-89c3-4982-bb9c-69024f6d6c52 | XTHyJxz6aPUIFVONQdUE', 'namestate': 'QuickReply | 4f8b7fc2-89c3-4982-bb9c-69024f6d6c52 | XTHyJxz6aPUIFVONQdUE', 'typingtime': '1', 'id_robot': 584, 'id_var': 2499, 'blocktype': 'quickReply'}\n"
     ]
    },
    {
     "name": "stderr",
     "output_type": "stream",
     "text": [
      "127.0.0.1 - - [07/Jul/2021 15:21:26] \"\u001b[37mPOST /insert/bloquequickreply HTTP/1.1\u001b[0m\" 200 -\n",
      "127.0.0.1 - - [07/Jul/2021 15:21:27] \"\u001b[37mPOST /insert/bloqueinformativo HTTP/1.1\u001b[0m\" 200 -\n"
     ]
    },
    {
     "name": "stdout",
     "output_type": "stream",
     "text": [
      "intenatando consulta...\n",
      "consulta: select * from bloquequickreply where contenido= 'Probando QR' and opciones= 'OPC1' and next_id= 'Informativo | 38f82c6d-a32e-4687-ae19-71aebb228e68 | XTHyJxz6aPUIFVONQdUE' and default_id= 'QuickReply | 4f8b7fc2-89c3-4982-bb9c-69024f6d6c52 | XTHyJxz6aPUIFVONQdUE' and namestate= 'QuickReply | 4f8b7fc2-89c3-4982-bb9c-69024f6d6c52 | XTHyJxz6aPUIFVONQdUE' and typingtime= '1' and id_robot= '584' and id_var= '2499' and blocktype= 'quickReply' ;\n",
      "Datos enviados INSERT:\n",
      "{'namestate': 'QuickReply | 4f8b7fc2-89c3-4982-bb9c-69024f6d6c52 | XTHyJxz6aPUIFVONQdUE', 'contenido': 'Probando QR', 'opciones': 'OPC1', 'next_id': 'Informativo | 38f82c6d-a32e-4687-ae19-71aebb228e68 | XTHyJxz6aPUIFVONQdUE', 'blocktype': 'quickReply', 'typingtime': '1', 'default_id': 'QuickReply | 4f8b7fc2-89c3-4982-bb9c-69024f6d6c52 | XTHyJxz6aPUIFVONQdUE', 'id_var': '2499', 'id_block': 875, 'id_robot': 584, 'opc_nextid': None, 'pos_y': None, 'pos_x': None, 'tag_active': None}\n",
      "Datos recibidos INSERT:\n",
      "{'next_id': '', 'namestate': 'Salida', 'contenido': '', 'contenttype': 'text', 'typingtime': 3, 'id_robot': 584, 'blocktype': 'informativo'}\n",
      "intenatando consulta...\n",
      "consulta: select * from bloqueinformativo where next_id= '' and namestate= 'Salida' and contenido= '' and contenttype= 'text' and typingtime= '3' and id_robot= '584' and blocktype= 'informativo' ;\n",
      "Datos enviados INSERT:\n",
      "{'namestate': 'Salida', 'contenido': '', 'next_id': '', 'blocktype': 'informativo', 'contenttype': 'text', 'typingtime': '3', 'id_block': 4177, 'id_robot': 584, 'opc_nextid': None, 'pos_y': None, 'pos_x': None, 'tag_active': None}\n"
     ]
    },
    {
     "name": "stderr",
     "output_type": "stream",
     "text": [
      "127.0.0.1 - - [07/Jul/2021 15:23:41] \"\u001b[37mGET /select/robots HTTP/1.1\u001b[0m\" 200 -\n",
      "127.0.0.1 - - [07/Jul/2021 15:23:41] \"\u001b[37mGET /select/bloqueslide HTTP/1.1\u001b[0m\" 200 -\n",
      "127.0.0.1 - - [07/Jul/2021 15:23:41] \"\u001b[37mGET /select/elementos HTTP/1.1\u001b[0m\" 200 -\n"
     ]
    },
    {
     "name": "stdout",
     "output_type": "stream",
     "text": [
      "Datos recibidos SELECT:\n",
      "{'name_robot': 'Oswa2', 'id_face': '109253348089942', 'block_ini': 'Informativo | d602e284-c054-4f7f-90b0-3d079f8908e4 | XTHyJxz6aPUIFVONQdUE', 'type_blocki': 'informativo', 'access_token': 'EAAFMtaIPwugBABaSyaEaQxCjZB05xZAs5fag2JZCZB9LcVSFPJtAjcu48PewIfljpztLDiWZCZAINUghHfyn85rSKQxPnfZAMZA3DScogyb4Q1cg91NEiEgVLhlsHJXakq9diPLuJtiRqZC8kCp4MfZCllTvoPR0Jad4B0r0JWp8foAffcrjKebrSp', 'id_user': 'charlygoldcruz@gmail.com', 'api_nlp': 'http://localhost:8282/'}\n",
      "intenatando consulta...\n",
      "consulta: select * from robots where id_face = '109253348089942';\n",
      "Datos enviados SELECT:\n",
      "{'name_robot': 'Oswa2', 'id_face': '109253348089942', 'block_ini': 'Informativo | d602e284-c054-4f7f-90b0-3d079f8908e4 | XTHyJxz6aPUIFVONQdUE', 'type_blocki': 'informativo', 'access_token': 'EAAFMtaIPwugBABaSyaEaQxCjZB05xZAs5fag2JZCZB9LcVSFPJtAjcu48PewIfljpztLDiWZCZAINUghHfyn85rSKQxPnfZAMZA3DScogyb4Q1cg91NEiEgVLhlsHJXakq9diPLuJtiRqZC8kCp4MfZCllTvoPR0Jad4B0r0JWp8foAffcrjKebrSp', 'api_nlp': 'http://localhost:8282/', 'id_robot': 584, 'id_user': 'charlygoldcruz@gmail.com'}\n",
      "Datos recibidos SELECT:\n",
      "{'id_robot': '584'}\n",
      "intenatando consulta...\n",
      "consulta: select * from bloqueslide where id_robot= '584' ;\n",
      "Datos enviados SELECT:\n",
      "{'namestate': 'Carrusel | 16ad30d3-2b1e-433d-9f31-58de69dacffe | 46973551-1467-4450-7433-103925931451 | XTHyJxz6aPUIFVONQdUE', 'next_id': 'www.github.com,QuickReply | 4f8b7fc2-89c3-4982-bb9c-69024f6d6c52 | XTHyJxz6aPUIFVONQdUE', 'blocktype': 'slide', 'typingtime': '1', 'default_id': 'Carrusel | 16ad30d3-2b1e-433d-9f31-58de69dacffe | 46973551-1467-4450-7433-103925931451 | XTHyJxz6aPUIFVONQdUE', 'id_var': '2497', 'id_block': 810, 'id_robot': 584, 'opc_nextid': None, 'pos_y': None, 'pos_x': None, 'opc_elm': None, 'tag_active': None}\n",
      "Datos recibidos SELECT:\n",
      "{'id_block': 810}\n",
      "intenatando consulta...\n",
      "consulta: select * from elementos where id_block= '810' ;\n",
      "Datos enviados SELECT:\n",
      "{'blocktype': 'slide', 'title': 'P1', 'image_url': 'https://analyticsindiamag.com/wp-content/uploads/2020/10/7d744a684fe03ebc7e8de545f97739dd.jpg', 'subtitle': 'S1', 'id_block': 810, 'id_elements': 1443}\n",
      "Datos recibidos INSERT:\n",
      "{'name_var': 'variableCarrCarrusel_|_16ad30d3-2b1e-433d-9f31-58de69dacffe3335', 'opc_type': 'Variable', 'var': 0, 'opc_data': 'String', 'id_robot': 584}\n"
     ]
    },
    {
     "name": "stderr",
     "output_type": "stream",
     "text": [
      "127.0.0.1 - - [07/Jul/2021 15:23:41] \"\u001b[37mPOST /insert/variables HTTP/1.1\u001b[0m\" 200 -\n",
      "127.0.0.1 - - [07/Jul/2021 15:23:41] \"\u001b[37mPOST /insert/bloqueslide HTTP/1.1\u001b[0m\" 200 -\n",
      "127.0.0.1 - - [07/Jul/2021 15:23:41] \"\u001b[37mPOST /insert/elementos HTTP/1.1\u001b[0m\" 200 -\n"
     ]
    },
    {
     "name": "stdout",
     "output_type": "stream",
     "text": [
      "intenatando consulta...\n",
      "consulta: select * from variables where name_var= 'variableCarrCarrusel_|_16ad30d3-2b1e-433d-9f31-58de69dacffe3335' and opc_type= 'Variable' and var= '0' and opc_data= 'String' and id_robot= '584' ;\n",
      "Datos enviados INSERT:\n",
      "{'id_var': 2500, 'opc_type': 'Variable', 'opc_data': 'String', 'var': '0', 'id_robot': 584, 'name_var': 'variableCarrCarrusel_|_16ad30d3-2b1e-433d-9f31-58de69dacffe3335'}\n",
      "Datos recibidos INSERT:\n",
      "{'namestate': 'Carrusel | 16ad30d3-2b1e-433d-9f31-58de69dacffe | 46973551-1467-4450-7433-103925931451 | XTHyJxz6aPUIFVONQdUE', 'blocktype': 'slide', 'typingtime': '1', 'default_id': 'Carrusel | 16ad30d3-2b1e-433d-9f31-58de69dacffe | 46973551-1467-4450-7433-103925931451 | XTHyJxz6aPUIFVONQdUE', 'id_var': 2500, 'id_robot': 584}\n",
      "intenatando consulta...\n",
      "consulta: select * from bloqueslide where namestate= 'Carrusel | 16ad30d3-2b1e-433d-9f31-58de69dacffe | 46973551-1467-4450-7433-103925931451 | XTHyJxz6aPUIFVONQdUE' and blocktype= 'slide' and typingtime= '1' and default_id= 'Carrusel | 16ad30d3-2b1e-433d-9f31-58de69dacffe | 46973551-1467-4450-7433-103925931451 | XTHyJxz6aPUIFVONQdUE' and id_var= '2500' and id_robot= '584' ;\n",
      "Datos enviados INSERT:\n",
      "{'namestate': 'Carrusel | 16ad30d3-2b1e-433d-9f31-58de69dacffe | 46973551-1467-4450-7433-103925931451 | XTHyJxz6aPUIFVONQdUE', 'next_id': None, 'blocktype': 'slide', 'typingtime': '1', 'default_id': 'Carrusel | 16ad30d3-2b1e-433d-9f31-58de69dacffe | 46973551-1467-4450-7433-103925931451 | XTHyJxz6aPUIFVONQdUE', 'id_var': '2500', 'id_block': 811, 'id_robot': 584, 'opc_nextid': None, 'pos_y': None, 'pos_x': None, 'opc_elm': None, 'tag_active': None}\n",
      "Datos recibidos INSERT:\n",
      "{'title': 'P1', 'subtitle': 'S1', 'image_url': 'https://analyticsindiamag.com/wp-content/uploads/2020/10/7d744a684fe03ebc7e8de545f97739dd.jpg', 'blocktype': 'slide', 'id_block': 811}\n",
      "intenatando consulta...\n",
      "consulta: select * from elementos where title= 'P1' and subtitle= 'S1' and image_url= 'https://analyticsindiamag.com/wp-content/uploads/2020/10/7d744a684fe03ebc7e8de545f97739dd.jpg' and blocktype= 'slide' and id_block= '811' ;\n",
      "Datos enviados INSERT:\n",
      "{'blocktype': 'slide', 'title': 'P1', 'image_url': 'https://analyticsindiamag.com/wp-content/uploads/2020/10/7d744a684fe03ebc7e8de545f97739dd.jpg', 'subtitle': 'S1', 'id_block': 811, 'id_elements': 1444}\n",
      "Datos recibidos INSERT:\n",
      "{'id_elemento': '1444', 'titlebutton': 'www.github.com', 'typebutton': 'web_url', 'contentbutton': 'www.github.com', 'opc_nextid': 'www.github.com'}\n"
     ]
    },
    {
     "name": "stderr",
     "output_type": "stream",
     "text": [
      "127.0.0.1 - - [07/Jul/2021 15:23:41] \"\u001b[37mPOST /insert/botones HTTP/1.1\u001b[0m\" 200 -\n",
      "127.0.0.1 - - [07/Jul/2021 15:23:41] \"\u001b[37mPOST /insert/botones HTTP/1.1\u001b[0m\" 200 -\n"
     ]
    },
    {
     "name": "stdout",
     "output_type": "stream",
     "text": [
      "intenatando consulta...\n",
      "consulta: select * from botones where id_elemento= '1444' and titlebutton= 'www.github.com' and typebutton= 'web_url' and contentbutton= 'www.github.com' and opc_nextid= 'www.github.com' ;\n",
      "Datos enviados INSERT:\n",
      "{'id_elemento': '1444', 'titlebutton': 'www.github.com', 'typebutton': 'web_url', 'contentbutton': 'www.github.com', 'id_boton': 2692, 'opc_nextid': 'www.github.com'}\n",
      "Datos recibidos INSERT:\n",
      "{'id_elemento': '1444', 'titlebutton': 'Op', 'typebutton': 'postback', 'contentbutton': 'Informativo | 98d6627d-10d5-4f8b-ab2e-c764a00bfb69 | 68473870-5030-7316-6351-136576696036 | XTHyJxz6aPUIFVONQdUE', 'opc_nextid': 'Informativo | 98d6627d-10d5-4f8b-ab2e-c764a00bfb69 | 68473870-5030-7316-6351-136576696036 | XTHyJxz6aPUIFVONQdUE'}\n",
      "intenatando consulta...\n",
      "consulta: select * from botones where id_elemento= '1444' and titlebutton= 'Op' and typebutton= 'postback' and contentbutton= 'Informativo | 98d6627d-10d5-4f8b-ab2e-c764a00bfb69 | 68473870-5030-7316-6351-136576696036 | XTHyJxz6aPUIFVONQdUE' and opc_nextid= 'Informativo | 98d6627d-10d5-4f8b-ab2e-c764a00bfb69 | 68473870-5030-7316-6351-136576696036 | XTHyJxz6aPUIFVONQdUE' ;\n",
      "Datos enviados INSERT:\n",
      "{'id_elemento': '1444', 'titlebutton': 'Op', 'typebutton': 'postback', 'contentbutton': 'Informativo | 98d6627d-10d5-4f8b-ab2e-c764a00bfb69 | 68473870-5030-7316-6351-136576696036 | XTHyJxz6aPUIFVONQdUE', 'id_boton': 2693, 'opc_nextid': 'Informativo | 98d6627d-10d5-4f8b-ab2e-c764a00bfb69 | 68473870-5030-7316-6351-136576696036 | XTHyJxz6aPUIFVONQdUE'}\n",
      "Datos recibidos INSERT:\n",
      "{'next_id': 'Input | 36f8147d-fcbb-41b0-8017-c8a481cbf661 | 46973551-1467-4450-7433-103925931451 | XTHyJxz6aPUIFVONQdUE', 'namestate': 'Informativo | e61376a2-83b0-4ccd-90b2-0d3b8d9fc04b | 46973551-1467-4450-7433-103925931451 | XTHyJxz6aPUIFVONQdUE', 'contenido': 'Editando Bloque ', 'contenttype': 'text', 'typingtime': '1', 'id_robot': 584, 'blocktype': 'informativo'}\n",
      "intenatando consulta...\n",
      "consulta: select * from bloqueinformativo where next_id= 'Input | 36f8147d-fcbb-41b0-8017-c8a481cbf661 | 46973551-1467-4450-7433-103925931451 | XTHyJxz6aPUIFVONQdUE' and namestate= 'Informativo | e61376a2-83b0-4ccd-90b2-0d3b8d9fc04b | 46973551-1467-4450-7433-103925931451 | XTHyJxz6aPUIFVONQdUE' and contenido= 'Editando Bloque ' and contenttype= 'text' and typingtime= '1' and id_robot= '584' and blocktype= 'informativo' ;\n"
     ]
    },
    {
     "name": "stderr",
     "output_type": "stream",
     "text": [
      "127.0.0.1 - - [07/Jul/2021 15:23:41] \"\u001b[37mPOST /insert/bloqueinformativo HTTP/1.1\u001b[0m\" 200 -\n",
      "127.0.0.1 - - [07/Jul/2021 15:23:41] \"\u001b[37mPOST /insert/variables HTTP/1.1\u001b[0m\" 200 -\n",
      "127.0.0.1 - - [07/Jul/2021 15:23:41] \"\u001b[37mPOST /insert/bloqueinput HTTP/1.1\u001b[0m\" 200 -\n"
     ]
    },
    {
     "name": "stdout",
     "output_type": "stream",
     "text": [
      "Datos enviados INSERT:\n",
      "{'namestate': 'Informativo | e61376a2-83b0-4ccd-90b2-0d3b8d9fc04b | 46973551-1467-4450-7433-103925931451 | XTHyJxz6aPUIFVONQdUE', 'contenido': 'Editando Bloque ', 'next_id': 'Input | 36f8147d-fcbb-41b0-8017-c8a481cbf661 | 46973551-1467-4450-7433-103925931451 | XTHyJxz6aPUIFVONQdUE', 'blocktype': 'informativo', 'contenttype': 'text', 'typingtime': '1', 'id_block': 4178, 'id_robot': 584, 'opc_nextid': None, 'pos_y': None, 'pos_x': None, 'tag_active': None}\n",
      "Datos recibidos INSERT:\n",
      "{'name_var': 'variableInputInput_|_36f8147d-fcbb-41b0-8017-c8a481cbf6619310', 'opc_type': 'Variable', 'var': 0, 'opc_data': 'String', 'id_robot': 584}\n",
      "intenatando consulta...\n",
      "consulta: select * from variables where name_var= 'variableInputInput_|_36f8147d-fcbb-41b0-8017-c8a481cbf6619310' and opc_type= 'Variable' and var= '0' and opc_data= 'String' and id_robot= '584' ;\n",
      "Datos enviados INSERT:\n",
      "{'id_var': 2501, 'opc_type': 'Variable', 'opc_data': 'String', 'var': '0', 'id_robot': 584, 'name_var': 'variableInputInput_|_36f8147d-fcbb-41b0-8017-c8a481cbf6619310'}\n",
      "Datos recibidos INSERT:\n",
      "{'next_id': 'Carrusel | 16ad30d3-2b1e-433d-9f31-58de69dacffe | 46973551-1467-4450-7433-103925931451 | XTHyJxz6aPUIFVONQdUE', 'default_id': 'Input | 36f8147d-fcbb-41b0-8017-c8a481cbf661 | 46973551-1467-4450-7433-103925931451 | XTHyJxz6aPUIFVONQdUE', 'namestate': 'Input | 36f8147d-fcbb-41b0-8017-c8a481cbf661 | 46973551-1467-4450-7433-103925931451 | XTHyJxz6aPUIFVONQdUE', 'contenido': 'Ingresa tu nombre', 'typingtime': '1', 'validacion': '', 'id_robot': 584, 'id_var': 2501, 'blocktype': 'input'}\n",
      "intenatando consulta...\n",
      "consulta: select * from bloqueinput where next_id= 'Carrusel | 16ad30d3-2b1e-433d-9f31-58de69dacffe | 46973551-1467-4450-7433-103925931451 | XTHyJxz6aPUIFVONQdUE' and default_id= 'Input | 36f8147d-fcbb-41b0-8017-c8a481cbf661 | 46973551-1467-4450-7433-103925931451 | XTHyJxz6aPUIFVONQdUE' and namestate= 'Input | 36f8147d-fcbb-41b0-8017-c8a481cbf661 | 46973551-1467-4450-7433-103925931451 | XTHyJxz6aPUIFVONQdUE' and contenido= 'Ingresa tu nombre' and typingtime= '1' and validacion= '' and id_robot= '584' and id_var= '2501' and blocktype= 'input' ;\n",
      "Datos enviados INSERT:\n",
      "{'namestate': 'Input | 36f8147d-fcbb-41b0-8017-c8a481cbf661 | 46973551-1467-4450-7433-103925931451 | XTHyJxz6aPUIFVONQdUE', 'contenido': 'Ingresa tu nombre', 'next_id': 'Carrusel | 16ad30d3-2b1e-433d-9f31-58de69dacffe | 46973551-1467-4450-7433-103925931451 | XTHyJxz6aPUIFVONQdUE', 'blocktype': 'input', 'contenttype': None, 'typingtime': '1', 'validacion': '', 'default_id': 'Input | 36f8147d-fcbb-41b0-8017-c8a481cbf661 | 46973551-1467-4450-7433-103925931451 | XTHyJxz6aPUIFVONQdUE', 'id_var': '2501', 'id_block': 583, 'id_robot': 584, 'opc_nextid': None, 'pos_y': None, 'pos_x': None, 'tag_active': None}\n",
      "Datos recibidos INSERT:\n",
      "{'next_id': 'Informativo | d2b4f80b-3a35-4f2a-a7a5-dfdbdcf7f918 | 68473870-5030-7316-6351-136576696036 | XTHyJxz6aPUIFVONQdUE', 'namestate': 'Informativo | 98d6627d-10d5-4f8b-ab2e-c764a00bfb69 | 68473870-5030-7316-6351-136576696036 | XTHyJxz6aPUIFVONQdUE', 'contenido': 'Empieza el segundo bloque ', 'contenttype': 'text', 'typingtime': '1', 'id_robot': 584, 'blocktype': 'informativo'}\n"
     ]
    },
    {
     "name": "stderr",
     "output_type": "stream",
     "text": [
      "127.0.0.1 - - [07/Jul/2021 15:23:42] \"\u001b[37mPOST /insert/bloqueinformativo HTTP/1.1\u001b[0m\" 200 -\n",
      "127.0.0.1 - - [07/Jul/2021 15:23:42] \"\u001b[37mPOST /insert/bloqueinformativo HTTP/1.1\u001b[0m\" 200 -\n",
      "127.0.0.1 - - [07/Jul/2021 15:23:42] \"\u001b[37mPOST /insert/bloqueinformativo HTTP/1.1\u001b[0m\" 200 -\n"
     ]
    },
    {
     "name": "stdout",
     "output_type": "stream",
     "text": [
      "intenatando consulta...\n",
      "consulta: select * from bloqueinformativo where next_id= 'Informativo | d2b4f80b-3a35-4f2a-a7a5-dfdbdcf7f918 | 68473870-5030-7316-6351-136576696036 | XTHyJxz6aPUIFVONQdUE' and namestate= 'Informativo | 98d6627d-10d5-4f8b-ab2e-c764a00bfb69 | 68473870-5030-7316-6351-136576696036 | XTHyJxz6aPUIFVONQdUE' and contenido= 'Empieza el segundo bloque ' and contenttype= 'text' and typingtime= '1' and id_robot= '584' and blocktype= 'informativo' ;\n",
      "Datos enviados INSERT:\n",
      "{'namestate': 'Informativo | 98d6627d-10d5-4f8b-ab2e-c764a00bfb69 | 68473870-5030-7316-6351-136576696036 | XTHyJxz6aPUIFVONQdUE', 'contenido': 'Empieza el segundo bloque ', 'next_id': 'Informativo | d2b4f80b-3a35-4f2a-a7a5-dfdbdcf7f918 | 68473870-5030-7316-6351-136576696036 | XTHyJxz6aPUIFVONQdUE', 'blocktype': 'informativo', 'contenttype': 'text', 'typingtime': '1', 'id_block': 4179, 'id_robot': 584, 'opc_nextid': None, 'pos_y': None, 'pos_x': None, 'tag_active': None}\n",
      "Datos recibidos INSERT:\n",
      "{'next_id': 'Informativo | 38f82c6d-a32e-4687-ae19-71aebb228e68 | XTHyJxz6aPUIFVONQdUE', 'namestate': 'Informativo | d2b4f80b-3a35-4f2a-a7a5-dfdbdcf7f918 | 68473870-5030-7316-6351-136576696036 | XTHyJxz6aPUIFVONQdUE', 'contenido': 'Aquí se despide el segundo bloque ', 'contenttype': 'text', 'typingtime': '1', 'id_robot': 584, 'blocktype': 'informativo'}\n",
      "intenatando consulta...\n",
      "consulta: select * from bloqueinformativo where next_id= 'Informativo | 38f82c6d-a32e-4687-ae19-71aebb228e68 | XTHyJxz6aPUIFVONQdUE' and namestate= 'Informativo | d2b4f80b-3a35-4f2a-a7a5-dfdbdcf7f918 | 68473870-5030-7316-6351-136576696036 | XTHyJxz6aPUIFVONQdUE' and contenido= 'Aquí se despide el segundo bloque ' and contenttype= 'text' and typingtime= '1' and id_robot= '584' and blocktype= 'informativo' ;\n",
      "Datos enviados INSERT:\n",
      "{'namestate': 'Informativo | d2b4f80b-3a35-4f2a-a7a5-dfdbdcf7f918 | 68473870-5030-7316-6351-136576696036 | XTHyJxz6aPUIFVONQdUE', 'contenido': 'Aquí se despide el segundo bloque ', 'next_id': 'Informativo | 38f82c6d-a32e-4687-ae19-71aebb228e68 | XTHyJxz6aPUIFVONQdUE', 'blocktype': 'informativo', 'contenttype': 'text', 'typingtime': '1', 'id_block': 4180, 'id_robot': 584, 'opc_nextid': None, 'pos_y': None, 'pos_x': None, 'tag_active': None}\n",
      "Datos recibidos INSERT:\n",
      "{'next_id': 'Informativo | e61376a2-83b0-4ccd-90b2-0d3b8d9fc04b | 46973551-1467-4450-7433-103925931451 | XTHyJxz6aPUIFVONQdUE', 'namestate': 'Informativo | d602e284-c054-4f7f-90b0-3d079f8908e4 | XTHyJxz6aPUIFVONQdUE', 'contenido': 'Hola soy bot2', 'contenttype': 'text', 'typingtime': '1', 'id_robot': 584, 'blocktype': 'informativo'}\n",
      "intenatando consulta...\n",
      "consulta: select * from bloqueinformativo where next_id= 'Informativo | e61376a2-83b0-4ccd-90b2-0d3b8d9fc04b | 46973551-1467-4450-7433-103925931451 | XTHyJxz6aPUIFVONQdUE' and namestate= 'Informativo | d602e284-c054-4f7f-90b0-3d079f8908e4 | XTHyJxz6aPUIFVONQdUE' and contenido= 'Hola soy bot2' and contenttype= 'text' and typingtime= '1' and id_robot= '584' and blocktype= 'informativo' ;\n",
      "Datos enviados INSERT:\n",
      "{'namestate': 'Informativo | d602e284-c054-4f7f-90b0-3d079f8908e4 | XTHyJxz6aPUIFVONQdUE', 'contenido': 'Hola soy bot2', 'next_id': 'Informativo | e61376a2-83b0-4ccd-90b2-0d3b8d9fc04b | 46973551-1467-4450-7433-103925931451 | XTHyJxz6aPUIFVONQdUE', 'blocktype': 'informativo', 'contenttype': 'text', 'typingtime': '1', 'id_block': 4181, 'id_robot': 584, 'opc_nextid': None, 'pos_y': None, 'pos_x': None, 'tag_active': None}\n",
      "Datos recibidos INSERT:\n",
      "{'next_id': 'Salida', 'namestate': 'Informativo | 38f82c6d-a32e-4687-ae19-71aebb228e68 | XTHyJxz6aPUIFVONQdUE', 'contenido': 'Adios oswa', 'contenttype': 'text', 'typingtime': '1', 'id_robot': 584, 'blocktype': 'informativo'}\n",
      "intenatando consulta...\n",
      "consulta: select * from bloqueinformativo where next_id= 'Salida' and namestate= 'Informativo | 38f82c6d-a32e-4687-ae19-71aebb228e68 | XTHyJxz6aPUIFVONQdUE' and contenido= 'Adios oswa' and contenttype= 'text' and typingtime= '1' and id_robot= '584' and blocktype= 'informativo' ;\n"
     ]
    },
    {
     "name": "stderr",
     "output_type": "stream",
     "text": [
      "127.0.0.1 - - [07/Jul/2021 15:23:42] \"\u001b[37mPOST /insert/bloqueinformativo HTTP/1.1\u001b[0m\" 200 -\n",
      "127.0.0.1 - - [07/Jul/2021 15:23:42] \"\u001b[37mPOST /insert/bloqueinformativo HTTP/1.1\u001b[0m\" 200 -\n"
     ]
    },
    {
     "name": "stdout",
     "output_type": "stream",
     "text": [
      "Datos enviados INSERT:\n",
      "{'namestate': 'Informativo | 38f82c6d-a32e-4687-ae19-71aebb228e68 | XTHyJxz6aPUIFVONQdUE', 'contenido': 'Adios oswa', 'next_id': 'Salida', 'blocktype': 'informativo', 'contenttype': 'text', 'typingtime': '1', 'id_block': 4182, 'id_robot': 584, 'opc_nextid': None, 'pos_y': None, 'pos_x': None, 'tag_active': None}\n",
      "Datos recibidos INSERT:\n",
      "{'next_id': '', 'namestate': 'Salida', 'contenido': '', 'contenttype': 'text', 'typingtime': 3, 'id_robot': 584, 'blocktype': 'informativo'}\n",
      "intenatando consulta...\n",
      "consulta: select * from bloqueinformativo where next_id= '' and namestate= 'Salida' and contenido= '' and contenttype= 'text' and typingtime= '3' and id_robot= '584' and blocktype= 'informativo' ;\n",
      "Datos enviados INSERT:\n",
      "{'namestate': 'Salida', 'contenido': '', 'next_id': '', 'blocktype': 'informativo', 'contenttype': 'text', 'typingtime': '3', 'id_block': 4183, 'id_robot': 584, 'opc_nextid': None, 'pos_y': None, 'pos_x': None, 'tag_active': None}\n"
     ]
    }
   ],
   "source": [
    "if __name__ == \"__main__\":    \n",
    "    app.run(host='localhost',port='8181')"
   ]
  },
  {
   "cell_type": "code",
   "execution_count": null,
   "metadata": {},
   "outputs": [],
   "source": []
  },
  {
   "cell_type": "code",
   "execution_count": null,
   "metadata": {},
   "outputs": [],
   "source": []
  }
 ],
 "metadata": {
  "kernelspec": {
   "display_name": "Python 3",
   "language": "python",
   "name": "python3"
  },
  "language_info": {
   "codemirror_mode": {
    "name": "ipython",
    "version": 3
   },
   "file_extension": ".py",
   "mimetype": "text/x-python",
   "name": "python",
   "nbconvert_exporter": "python",
   "pygments_lexer": "ipython3",
   "version": "3.9.2"
  }
 },
 "nbformat": 4,
 "nbformat_minor": 4
}
