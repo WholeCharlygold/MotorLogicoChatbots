{
 "cells": [
  {
   "cell_type": "code",
   "execution_count": 1,
   "metadata": {},
   "outputs": [
    {
     "data": {
      "text/html": [
       "<style>.container { width:100% !important; }</style>"
      ],
      "text/plain": [
       "<IPython.core.display.HTML object>"
      ]
     },
     "metadata": {},
     "output_type": "display_data"
    }
   ],
   "source": [
    "import json\n",
    "import pika\n",
    "import uuid\n",
    "import threading \n",
    "import datetime\n",
    "import time\n",
    "import logging\n",
    "import random\n",
    "import requests\n",
    "import os\n",
    "from enum import Enum\n",
    "from flask import Flask, request, jsonify\n",
    "from flask_api import status\n",
    "from pymessenger import Element, Button\n",
    "from requests_toolbelt import MultipartEncoder\n",
    "from pymessenger import utils\n",
    "from IPython.core.display import display, HTML\n",
    "display(HTML(\"<style>.container { width:100% !important; }</style>\"))"
   ]
  },
  {
   "cell_type": "code",
   "execution_count": 2,
   "metadata": {},
   "outputs": [],
   "source": [
    "class NotificationType(Enum):\n",
    "    regular = \"REGULAR\"\n",
    "    silent_push = \"SILENT_PUSH\"\n",
    "    no_push = \"NO_PUSH\""
   ]
  },
  {
   "cell_type": "code",
   "execution_count": 3,
   "metadata": {},
   "outputs": [],
   "source": [
    "def verify_fb_token(token_sent,exito):\n",
    "    VERIFY_TOKEN='chatbot' # token de verificación para fb  \n",
    "    if token_sent == VERIFY_TOKEN:\n",
    "        return exito\n",
    "    else:\n",
    "        return 'Verificacion de token invalida'"
   ]
  },
  {
   "cell_type": "code",
   "execution_count": 4,
   "metadata": {},
   "outputs": [],
   "source": [
    "def enviarNucleoLectura(recipient_id, id_face, mensaje,hilo): \n",
    "    content=''   \n",
    "    entidad={}\n",
    "    n =  {\"payload\": {\"robot\":\"none\",\"id_face\":\" \",\"recipient_id\":\" \",\"access_token\":\"none\",\"content\":\" \",\"type_resp\":\"read\",\"state\":\"none\", \"blocktype\":\"none\", \"opciones\":\"none\", \"entities\":\"\"}}\n",
    "    \n",
    "    data=json.dumps(n)\n",
    "    decoded=json.loads(data)\n",
    "    decoded[\"payload\"][\"id_face\"]=id_face\n",
    "    decoded[\"payload\"][\"recipient_id\"]=recipient_id\n",
    "    decoded[\"payload\"][\"content\"]=content\n",
    "    decoded[\"payload\"][\"entities\"]= entidad  \n",
    "    \n",
    "    data_string=json.dumps(decoded)    \n",
    "    hilo.corr_id = str(uuid.uuid4())\n",
    "    hilo.channel.basic_consume(on_message_callback=hilo.on_response, auto_ack=True, queue=hilo.queue_name) \n",
    "    try:\n",
    "        hilo.channel.basic_publish(exchange='',\n",
    "                              routing_key='Colaprueba23',\n",
    "                              properties=pika.BasicProperties(\n",
    "                                        reply_to = hilo.queue_name,\n",
    "                                        correlation_id = hilo.corr_id,\n",
    "                                        ),\n",
    "                                body=str(data_string))\n",
    "               \n",
    "        #print('\\n________________________________________read _______________________________________________________________________________')\n",
    "        #print('Mensaje enviado al Nucleo Logico Read-> ',data_string)  \n",
    "        hilo.start() \n",
    "    except Exception as error:\n",
    "        print(\"mensaje no enviado...\",str(error))"
   ]
  },
  {
   "cell_type": "code",
   "execution_count": 5,
   "metadata": {},
   "outputs": [],
   "source": [
    "def enviarNucleo(recipient_id, id_face, mensaje,hilo):        \n",
    "    cont=0\n",
    "    content=''\n",
    "    type_resp=''    \n",
    "    entidad= {}\n",
    "    if \"postback\" in mensaje[0]:\n",
    "        content=mensaje[0][\"postback\"][\"payload\"]\n",
    "        type_resp=\"postback\"\n",
    "        #entidad={mensaje[0][\"postback\"][\"payload\"]}\n",
    "    elif \"message\" in mensaje[0]:\n",
    "        content=mensaje[0][\"message\"][\"text\"]\n",
    "        type_resp=\"message\"    \n",
    "    estado = \"none\"\n",
    "    tipo=\"none\"\n",
    "    opciones=\"none\"     \n",
    "    n =  {\"payload\": {\"robot\":\" \",\"id_face\":\" \",\"recipient_id\":\" \",\"access_token\":\" \",\"content\":\" \",\"type_resp\":\" \",\"state\":\" \", \"blocktype\":\" \", \"opciones\":\" \", \"entities\":\"\"}}\n",
    "    data=json.dumps(n)\n",
    "    decoded=json.loads(data)\n",
    "    decoded[\"payload\"][\"robot\"]=\"none\"\n",
    "    decoded[\"payload\"][\"id_face\"]=id_face\n",
    "    decoded[\"payload\"][\"access_token\"]=\"none\"\n",
    "    decoded[\"payload\"][\"recipient_id\"]=recipient_id\n",
    "    decoded[\"payload\"][\"content\"]=content\n",
    "    decoded[\"payload\"][\"type_resp\"]=type_resp\n",
    "    decoded[\"payload\"][\"state\"]=estado\n",
    "    decoded[\"payload\"][\"blocktype\"]=tipo\n",
    "    decoded[\"payload\"][\"opciones\"]=opciones\n",
    "    decoded[\"payload\"][\"entities\"]= entidad\n",
    "    data_string=json.dumps(decoded)    \n",
    "    hilo.corr_id = str(uuid.uuid4())\n",
    "    hilo.channel.basic_consume(on_message_callback=hilo.on_response, auto_ack=True, queue=hilo.queue_name) \n",
    "    try:\n",
    "        hilo.channel.basic_publish(exchange='',\n",
    "                              routing_key='Colaprueba23',\n",
    "                              properties=pika.BasicProperties(\n",
    "                                        reply_to = hilo.queue_name,\n",
    "                                        correlation_id = hilo.corr_id,\n",
    "                                        ),\n",
    "                                body=str(data_string))\n",
    "        hilo.start()        \n",
    "        print('\\n\\n______________________________________________no read__________________________________________________________________________')\n",
    "        print('\\t\\tMensaje enviado al Nucleo Logico->\\n ',data_string)        \n",
    "    except Exception as error:\n",
    "        print(\"mensaje no enviado...\",str(error))"
   ]
  },
  {
   "cell_type": "code",
   "execution_count": 6,
   "metadata": {},
   "outputs": [],
   "source": [
    "def send_message(payload,access_token):\n",
    "    api_version = 6.0\n",
    "    graph_url = 'https://graph.facebook.com/v{0}'.format(api_version)\n",
    "    request_endpoint = '{0}/me/messages'.format(graph_url)\n",
    "    auth = {'access_token': access_token}  \n",
    "    \n",
    "    response = requests.post(\n",
    "        request_endpoint,\n",
    "        params=auth,\n",
    "        json=payload\n",
    "    )\n",
    "    try:\n",
    "        result = response.json()\n",
    "        print(\"\\n\\n---------------------------------------------------------------------------\")\n",
    "        print(\"mensaje enviado a la API de facebook:\\n\",payload)\n",
    "        return result\n",
    "    except:\n",
    "        print(\"Error al enviar mensaje\")\n",
    "        return 'fail'\n"
   ]
  },
  {
   "cell_type": "code",
   "execution_count": 7,
   "metadata": {},
   "outputs": [],
   "source": [
    "def text_message(recipient_id, response,access_token):\n",
    "    payload={'message': {'text': response}, 'recipient': {'id': recipient_id}, 'notification_type': 'REGULAR'}\n",
    "    respuesta=send_message(payload,access_token)\n",
    "    return \"success\""
   ]
  },
  {
   "cell_type": "code",
   "execution_count": 8,
   "metadata": {},
   "outputs": [],
   "source": [
    "def button_message(recipient_id,content,options,access_token):\n",
    "    buttons = []\n",
    "    cont=0\n",
    "    cadena=(\"\".join(options)).capitalize() \n",
    "    if cadena.find(\"<user_email>\") != -1:\n",
    "        for opc in options:\n",
    "            if opc == \"<user_email>\":\n",
    "                button = dict({\"content_type\":'user_email'})\n",
    "            elif opc == \"<user_phone_number>\": \n",
    "                button= dict({\"content_type\":'user_phone_number'})\n",
    "            else:\n",
    "                button = dict({\"title\":opc, \"content_type\":'text', \"payload\":opc})\n",
    "            buttons.append(button)\n",
    "            cont=cont+1\n",
    "            if cont>7:\n",
    "                break    \n",
    "        payload={'message': {'text': content, 'quick_replies': buttons}, 'recipient': {'id': recipient_id}, 'notification_type': 'REGULAR'}        \n",
    "    else:\n",
    "        for opc in options:\n",
    "            button = Button(title=opc, type='postback', payload=opc)\n",
    "            buttons.append(button)\n",
    "            cont=cont+1\n",
    "            if cont>2:\n",
    "                break    \n",
    "        payload={'message': {'attachment': {'type': 'template', 'payload': {'template_type': 'button', 'text': content, 'buttons': buttons}}}, 'recipient': {'id': recipient_id}, 'notification_type': 'REGULAR'}\n",
    "\n",
    "    result=send_message(payload,access_token)\n",
    "    assert type(result) is dict\n",
    "    assert result.get('message_id') is not None\n",
    "    assert result.get('recipient_id') is not None"
   ]
  },
  {
   "cell_type": "code",
   "execution_count": 9,
   "metadata": {},
   "outputs": [],
   "source": [
    "def slide_message(recipient_id,content,access_token):\n",
    "    buttons =[]\n",
    "    elements=[]\n",
    "    element={'title':'', 'image_url':'', 'subtitle':'', 'buttons':[]}    \n",
    "    cont=0    \n",
    "    for data in content:         \n",
    "        buttons =[]\n",
    "        cont=0 \n",
    "        for btn in data['buttons']:\n",
    "            typeBtn = btn[\"typeButton\"]\n",
    "            if typeBtn == \"postback\":\n",
    "                button = Button(title=btn['titleButton'], type='postback', payload=btn['payloadButton'])\n",
    "            else:\n",
    "                button = Button(title=btn['titleButton'], type='web_url', url=btn['urlButton'])\n",
    "            buttons.append(button)\n",
    "            cont=cont+1\n",
    "            if cont>2:\n",
    "                break     \n",
    "        \n",
    "        element={'title':data['title'], 'image_url':data['image_url'], 'subtitle':data['subtitle'], 'buttons':buttons}\n",
    "        elements.append(element)   \n",
    "        \n",
    "    payload={\"recipient\": {\"id\":recipient_id}, \"message\":{\"attachment\": {\"type\":\"template\", \"payload\": {\"template_type\":\"generic\", \"elements\":elements}}}, 'notification_type': 'REGULAR'}\n",
    "    print(\"pyload slide: \",payload)\n",
    "    result=send_message(payload,access_token)\n",
    "    assert type(result) is dict\n",
    "    assert result.get('message_id') is not None\n",
    "    assert result.get('recipient_id') is not None"
   ]
  },
  {
   "cell_type": "code",
   "execution_count": 10,
   "metadata": {},
   "outputs": [],
   "source": [
    "def ticket_message(recipient_id,content,access_token):\n",
    "    payload={\"recipient\":{\"id\":recipient_id},\"message\":{\"attachment\":{\"type\":\"template\",\"payload\":content}}}    \n",
    "    result=send_message(payload,access_token)\n",
    "    assert type(result) is dict\n",
    "    assert result.get('message_id') is not None\n",
    "    assert result.get('recipient_id') is not None"
   ]
  },
  {
   "cell_type": "code",
   "execution_count": 11,
   "metadata": {},
   "outputs": [],
   "source": [
    "def conv(mensaje):\n",
    "    ans=' '\n",
    "    contenido=mensaje[\"Respuesta\"][\"content\"]\n",
    "    estado=mensaje[\"Respuesta\"][\"payload\"][\"state\"]\n",
    "    entidad= mensaje[\"Respuesta\"][\"payload\"][\"entities\"]\n",
    "    tipo= mensaje[\"Respuesta\"][\"blockType\"]\n",
    "    recipient_id=mensaje['Respuesta']['payload']['recipient_id']\n",
    "    access_token=mensaje['Respuesta']['payload']['access_token']    \n",
    "    if(tipo==\"quickReply\" or tipo==\"quickReplyDinamico\"):\n",
    "        button_message(recipient_id, contenido, mensaje[\"Respuesta\"][\"options\"],access_token)\n",
    "        return entidad, ans, estado, tipo, mensaje[\"Respuesta\"][\"options\"] \n",
    "    elif(tipo==\"input\" or tipo==\"inputDinamico\"):\n",
    "        text_message(recipient_id, contenido,access_token)\n",
    "        return entidad, ans, estado, tipo, 'vacio'    \n",
    "    elif(tipo==\"informativo\" or tipo==\"informativoDinamico\"):\n",
    "        text_message(recipient_id, contenido,access_token)\n",
    "        return entidad, str('next'), estado, tipo, 'vacio'    \n",
    "    elif(tipo==\"slide\" or tipo==\"slideBuy\" or tipo==\"slideDinamico\"):\n",
    "        slide_message(recipient_id, contenido,access_token)\n",
    "        return entidad, str('next'), estado, tipo, 'vacio'\n",
    "    elif(tipo==\"ticket\"):\n",
    "        ticket_message(recipient_id, contenido,access_token)\n",
    "        return entidad, str('next'), estado, tipo, 'vacio'\n",
    "    else:\n",
    "        return entidad, str('hey'), estado, tipo, 'vacio'"
   ]
  },
  {
   "cell_type": "code",
   "execution_count": 12,
   "metadata": {},
   "outputs": [],
   "source": [
    "class Nucleo_Cliente2(threading.Thread):\n",
    "    \n",
    "    def on_response(self, ch, method, props, body):\n",
    "        if self.corr_id == props.correlation_id:\n",
    "            self.response = body\n",
    "            \n",
    "    def __init__(self, nombreHilo):    \n",
    "        threading.Thread.__init__(self, name=nombreHilo, target=Nucleo_Cliente2.run)\n",
    "        self.nombrehilo=nombreHilo\n",
    "        self.connection = pika.BlockingConnection(pika.ConnectionParameters('localhost'))\n",
    "        self.channel = self.connection.channel()\n",
    "        self.result = self.channel.queue_declare(queue='',exclusive=True)\n",
    "        self.queue_name = self.result.method.queue\n",
    "        self.corr_id = ' ' \n",
    "        \n",
    "    def run(self):\n",
    "        try:                \n",
    "            self.response = None\n",
    "            self.response = self.call()\n",
    "            print(\" [.] Got %r\", self.response) \n",
    "        except Exception as error:\n",
    "            print(\"Error run :\",str(error))     \n",
    "            \n",
    "    def call(self):\n",
    "        print(\"hilo consume\")\n",
    "        cont = 0        \n",
    "        while(cont>=0):\n",
    "            self.response = None\n",
    "            while self.response is None:\n",
    "                self.connection.process_data_events()            \n",
    "            if len(self.response)>10:\n",
    "                #print(self.response)\n",
    "                data = json.loads(self.response)                \n",
    "                if  data.get(\"payload\"):\n",
    "                    break\n",
    "                else:                \n",
    "                    print('\\n_________________________________________________________________________________________________________________________')\n",
    "                    print('\\t\\t\\nRespuesta del Nucleo Logico-> ',data) \n",
    "                    entidad, resp, estado, tipo, opciones= conv(data)\n",
    "                    break\n",
    "                \n"
   ]
  },
  {
   "cell_type": "code",
   "execution_count": null,
   "metadata": {
    "scrolled": true
   },
   "outputs": [
    {
     "name": "stdout",
     "output_type": "stream",
     "text": [
      " * Serving Flask app \"__main__\" (lazy loading)\n",
      " * Environment: production\n",
      "   WARNING: This is a development server. Do not use it in a production deployment.\n",
      "   Use a production WSGI server instead.\n",
      " * Debug mode: off\n"
     ]
    },
    {
     "name": "stderr",
     "output_type": "stream",
     "text": [
      " * Running on http://127.0.0.1:5000/ (Press CTRL+C to quit)\n",
      "127.0.0.1 - - [17/Mar/2021 23:57:13] \"\u001b[37mPOST /apiREST/v1 HTTP/1.1\u001b[0m\" 200 -\n"
     ]
    },
    {
     "name": "stdout",
     "output_type": "stream",
     "text": [
      "\n",
      "_________________________________________________________________________________________________________________________\n",
      "Mesaje de la API de Facebook-> \n",
      " {'object': 'page', 'entry': [{'id': '2153123008120093', 'time': 1616047033484, 'messaging': [{'sender': {'id': '5189951557742323'}, 'recipient': {'id': '2153123008120093'}, 'timestamp': 1616047033638, 'read': {'watermark': 1616047033171}}]}]}\n",
      "hilo consume\n",
      " [.] Got %r None\n"
     ]
    },
    {
     "name": "stderr",
     "output_type": "stream",
     "text": [
      "127.0.0.1 - - [17/Mar/2021 23:57:17] \"\u001b[37mPOST /apiREST/v1 HTTP/1.1\u001b[0m\" 200 -\n",
      "127.0.0.1 - - [17/Mar/2021 23:57:17] \"\u001b[37mPOST /apiREST/v1 HTTP/1.1\u001b[0m\" 200 -\n",
      "127.0.0.1 - - [17/Mar/2021 23:57:17] \"\u001b[37mPOST /apiREST/v1 HTTP/1.1\u001b[0m\" 200 -\n"
     ]
    },
    {
     "name": "stdout",
     "output_type": "stream",
     "text": [
      "\n",
      "_________________________________________________________________________________________________________________________\n",
      "Mesaje de la API de Facebook-> \n",
      " {'object': 'page', 'entry': [{'id': '2153123008120093', 'time': 1616047036559, 'messaging': [{'sender': {'id': '5189951557742323'}, 'recipient': {'id': '2153123008120093'}, 'timestamp': 1616047036645, 'read': {'watermark': 1616047036231}}]}]}\n",
      "hilo consume\n",
      "\n",
      "_________________________________________________________________________________________________________________________\n",
      "Mesaje de la API de Facebook-> \n",
      " {'object': 'page', 'entry': [{'id': '2153123008120093', 'time': 1616047036682, 'messaging': [{'sender': {'id': '5189951557742323'}, 'recipient': {'id': '2153123008120093'}, 'timestamp': 1616047036713, 'read': {'watermark': 1616047036283}}]}]}\n",
      "hilo consume\n",
      " [.] Got %r None\n",
      "\n",
      "_________________________________________________________________________________________________________________________\n",
      "Mesaje de la API de Facebook-> \n",
      " {'object': 'page', 'entry': [{'id': '2153123008120093', 'time': 1616047036771, 'messaging': [{'sender': {'id': '5189951557742323'}, 'recipient': {'id': '2153123008120093'}, 'timestamp': 1616047036809, 'read': {'watermark': 1616047036471}}]}]}\n",
      "hilo consume\n",
      "\n",
      "_________________________________________________________________________________________________________________________\n",
      "Mesaje de la API de Facebook-> \n",
      " {'object': 'page', 'entry': [{'id': '2153123008120093', 'time': 1616047036815, 'messaging': [{'sender': {'id': '5189951557742323'}, 'recipient': {'id': '2153123008120093'}, 'timestamp': 1616047036593, 'postback': {'title': 'otro', 'payload': 'otro'}}]}]}\n"
     ]
    },
    {
     "name": "stderr",
     "output_type": "stream",
     "text": [
      "127.0.0.1 - - [17/Mar/2021 23:57:17] \"\u001b[37mPOST /apiREST/v1 HTTP/1.1\u001b[0m\" 200 -\n"
     ]
    },
    {
     "name": "stdout",
     "output_type": "stream",
     "text": [
      " [.] Got %r None\n",
      "hilo consume\n",
      "\n",
      "______________________________________________no read__________________________________________________________________________\n",
      "\n",
      "\t\tMensaje enviado al Nucleo Logico->\n",
      "  {\"payload\": {\"robot\": \"none\", \"id_face\": \"2153123008120093\", \"recipient_id\": \"5189951557742323\", \"access_token\": \"none\", \"content\": \"otro\", \"type_resp\": \"postback\", \"state\": \"none\", \"blocktype\": \"none\", \"opciones\": \"none\", \"entities\": {}}}\n",
      " [.] Got %r None\n",
      "\n",
      "_________________________________________________________________________________________________________________________\n",
      "\t\t\n",
      "Respuesta del Nucleo Logico->  {'Respuesta': {'content': [{'title': 'Prueba titulo', 'image_url': 'https://st2.depositphotos.com/3008028/5540/i/600/depositphotos_55407975-stock-photo-royal-blue-background.jpg', 'subtitle': 'Esta es una prueba de carrusel.', 'buttons': [{'titleButton': 'Boton 1', 'typeButton': 'web_url', 'urlButton': 'https://www.youtube.com/'}, {'titleButton': 'Boton 2', 'typeButton': 'web_url', 'urlButton': 'https://www.reddit.com/'}]}], 'next_id': ['https://www.youtube.com/', 'https://www.reddit.com/'], 'blockType': 'slide', 'contentType': ' ', 'typingTime': 3, 'payload': {'content': '', 'state': 'prueba_slide', 'recipient_id': '5189951557742323', 'entities': {'var_case': 'otro', 'var_slideMenu': 'otro'}, 'access_token': 'EAAHNkscg2TcBAMvebksfOxuFBpMeR5sUhzHTKtqdi6NkqQKZAdkeaGVJ9Yc5bNbvL3JLzCgB7EEqsVUTZADhidVcC3zJV1UZB4Uz0Hm3fZB9IETnWb4I8MoK8nxpenC1lYwnjwnRwMHVZA1FKw8d3A45t9xCxmPKnm6kIr5ZCA8wZDZD'}, 'default_id': 'prueba_qa', 'save_var': 'otro'}}\n",
      "pyload slide:  {'recipient': {'id': '5189951557742323'}, 'message': {'attachment': {'type': 'template', 'payload': {'template_type': 'generic', 'elements': [{'title': 'Prueba titulo', 'image_url': 'https://st2.depositphotos.com/3008028/5540/i/600/depositphotos_55407975-stock-photo-royal-blue-background.jpg', 'subtitle': 'Esta es una prueba de carrusel.', 'buttons': [{'title': 'Boton 1', 'type': 'web_url', 'url': 'https://www.youtube.com/'}, {'title': 'Boton 2', 'type': 'web_url', 'url': 'https://www.reddit.com/'}]}]}}}, 'notification_type': 'REGULAR'}\n",
      "\n",
      "\n",
      "---------------------------------------------------------------------------\n",
      "mensaje enviado a la API de facebook:\n",
      " {'recipient': {'id': '5189951557742323'}, 'message': {'attachment': {'type': 'template', 'payload': {'template_type': 'generic', 'elements': [{'title': 'Prueba titulo', 'image_url': 'https://st2.depositphotos.com/3008028/5540/i/600/depositphotos_55407975-stock-photo-royal-blue-background.jpg', 'subtitle': 'Esta es una prueba de carrusel.', 'buttons': [{'title': 'Boton 1', 'type': 'web_url', 'url': 'https://www.youtube.com/'}, {'title': 'Boton 2', 'type': 'web_url', 'url': 'https://www.reddit.com/'}]}]}}}, 'notification_type': 'REGULAR'}\n",
      " [.] Got %r None\n"
     ]
    },
    {
     "name": "stderr",
     "output_type": "stream",
     "text": [
      "127.0.0.1 - - [17/Mar/2021 23:57:26] \"\u001b[37mPOST /apiREST/v1 HTTP/1.1\u001b[0m\" 200 -\n"
     ]
    },
    {
     "name": "stdout",
     "output_type": "stream",
     "text": [
      "\n",
      "_________________________________________________________________________________________________________________________\n",
      "Mesaje de la API de Facebook-> \n",
      " {'object': 'page', 'entry': [{'id': '2153123008120093', 'time': 1616047045888, 'messaging': [{'sender': {'id': '5189951557742323'}, 'recipient': {'id': '2153123008120093'}, 'timestamp': 1616047046031, 'read': {'watermark': 1616047045563}}]}]}\n",
      "hilo consume\n",
      " [.] Got %r None\n"
     ]
    },
    {
     "name": "stderr",
     "output_type": "stream",
     "text": [
      "127.0.0.1 - - [17/Mar/2021 23:57:32] \"\u001b[37mPOST /apiREST/v1 HTTP/1.1\u001b[0m\" 200 -\n"
     ]
    },
    {
     "name": "stdout",
     "output_type": "stream",
     "text": [
      "\n",
      "_________________________________________________________________________________________________________________________\n",
      "Mesaje de la API de Facebook-> \n",
      " {'object': 'page', 'entry': [{'id': '2153123008120093', 'time': 1616047052133, 'messaging': [{'sender': {'id': '5189951557742323'}, 'recipient': {'id': '2153123008120093'}, 'timestamp': 1616047052225, 'read': {'watermark': 1616047051817}}]}]}\n",
      "hilo consume\n",
      " [.] Got %r None\n"
     ]
    }
   ],
   "source": [
    "\n",
    "#-------------Creación de la REST API con Flask-------------\n",
    "app = Flask(__name__)\n",
    "#---------------PASO 1. Recepción de mensajes enviados por la API de Facebook.--------------------------\n",
    "@app.route(\"/apiREST/v1\", methods=['GET', 'POST'])\n",
    "def receive_message():\n",
    "    peticiones = 0\n",
    "    #---------------PASO 2. Inicio: Identificar el tipo de petición que se está solicitando.--------------------------\n",
    "    if request.method == 'GET':\n",
    "        print(\" petición GET\")\n",
    "        print(\"metodo GET...\")\n",
    "        print(\"request\",request)\n",
    "        token_sent = request.args.get(\"hub.verify_token\")\n",
    "        print(token_sent )\n",
    "        #---------------PASO 2.1. Llamada a la función que valida la cadena de verificación y se retorna a la petición GET la validación de la función.--------------------------\n",
    "        return verify_fb_token(token_sent,request.args.get(\"hub.challenge\"))\n",
    "    else:\n",
    "        #---------------Recepción de mensajes de una operacion tipo POST.--------------------------        \n",
    "        \n",
    "        content = request.get_json(force=True)\n",
    "        output = request.get_json()\n",
    "        print('\\n_________________________________________________________________________________________________________________________')\n",
    "        print(\"Mesaje de la API de Facebook-> \\n\",output)    \n",
    "        #return \"Message Processed\"  \n",
    "        if output[\"object\"]==\"page\":\n",
    "            for event in output['entry']:\n",
    "                messaging = event['messaging']\n",
    "                id_face = event['id']\n",
    "                for message in messaging:\n",
    "                    nombreHilo=\"Hilo_\"+str(peticiones)\n",
    "                    N_C = Nucleo_Cliente2(nombreHilo)\n",
    "                    recipient_id = message['sender']['id']\n",
    "                    peticiones=peticiones+1                   \n",
    "                    if message.get('read'):\n",
    "                        enviarNucleoLectura(recipient_id, id_face, messaging,N_C)                                       \n",
    "                    elif message.get('message') or message.get('postback'):                \n",
    "                        enviarNucleo(recipient_id, id_face, messaging,N_C)                \n",
    "                    #envio de mensaje proveniente de fb a nucleo lógico del sistema\n",
    "    \n",
    "    return \"Message Processed\"        \n",
    "#-------------Iniciando la REST API-------------\n",
    "if __name__ == \"__main__\":\n",
    "    app.run()"
   ]
  },
  {
   "cell_type": "code",
   "execution_count": null,
   "metadata": {},
   "outputs": [],
   "source": []
  }
 ],
 "metadata": {
  "kernelspec": {
   "display_name": "Python 3",
   "language": "python",
   "name": "python3"
  },
  "language_info": {
   "codemirror_mode": {
    "name": "ipython",
    "version": 3
   },
   "file_extension": ".py",
   "mimetype": "text/x-python",
   "name": "python",
   "nbconvert_exporter": "python",
   "pygments_lexer": "ipython3",
   "version": "3.9.2"
  }
 },
 "nbformat": 4,
 "nbformat_minor": 4
}
