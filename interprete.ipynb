{
 "cells": [
  {
   "cell_type": "code",
   "execution_count": 1,
   "metadata": {},
   "outputs": [
    {
     "data": {
      "text/html": [
       "<style>.container { width:100% !important; }</style>"
      ],
      "text/plain": [
       "<IPython.core.display.HTML object>"
      ]
     },
     "metadata": {},
     "output_type": "display_data"
    }
   ],
   "source": [
    "import json\n",
    "import pika\n",
    "import uuid\n",
    "import threading \n",
    "import datetime\n",
    "import time\n",
    "import logging\n",
    "import random\n",
    "import requests\n",
    "import os\n",
    "from enum import Enum\n",
    "from flask import Flask, request, jsonify\n",
    "from flask_api import status\n",
    "from pymessenger import Element, Button\n",
    "from requests_toolbelt import MultipartEncoder\n",
    "from pymessenger import utils\n",
    "from IPython.core.display import display, HTML\n",
    "display(HTML(\"<style>.container { width:100% !important; }</style>\"))"
   ]
  },
  {
   "cell_type": "code",
   "execution_count": 2,
   "metadata": {},
   "outputs": [],
   "source": [
    "class NotificationType(Enum):\n",
    "    regular = \"REGULAR\"\n",
    "    silent_push = \"SILENT_PUSH\"\n",
    "    no_push = \"NO_PUSH\""
   ]
  },
  {
   "cell_type": "code",
   "execution_count": 3,
   "metadata": {},
   "outputs": [],
   "source": [
    "def verify_fb_token(token_sent,exito):\n",
    "    VERIFY_TOKEN='chatbot' # token de verificación para fb  \n",
    "    if token_sent == VERIFY_TOKEN:\n",
    "        return exito\n",
    "    else:\n",
    "        return 'Verificacion de token invalida'"
   ]
  },
  {
   "cell_type": "code",
   "execution_count": 4,
   "metadata": {},
   "outputs": [],
   "source": [
    "def enviarNucleoLectura(recipient_id, id_face, mensaje,hilo): \n",
    "    content=''   \n",
    "    entidad={}\n",
    "    n =  {\"payload\": {\"robot\":\"none\",\"id_face\":\" \",\"recipient_id\":\" \",\"access_token\":\"none\",\"content\":\" \",\"type_resp\":\"read\",\"state\":\"none\", \"blocktype\":\"none\", \"opciones\":\"none\", \"entities\":\"\"}}\n",
    "    \n",
    "    data=json.dumps(n)\n",
    "    decoded=json.loads(data)\n",
    "    decoded[\"payload\"][\"id_face\"]=id_face\n",
    "    decoded[\"payload\"][\"recipient_id\"]=recipient_id\n",
    "    decoded[\"payload\"][\"content\"]=content\n",
    "    decoded[\"payload\"][\"entities\"]= entidad  \n",
    "    \n",
    "    data_string=json.dumps(decoded)    \n",
    "    hilo.corr_id = str(uuid.uuid4())\n",
    "    hilo.channel.basic_consume(on_message_callback=hilo.on_response, auto_ack=True, queue=hilo.queue_name) \n",
    "    try:\n",
    "        hilo.channel.basic_publish(exchange='',\n",
    "                              routing_key='Colaprueba23',\n",
    "                              properties=pika.BasicProperties(\n",
    "                                        reply_to = hilo.queue_name,\n",
    "                                        correlation_id = hilo.corr_id,\n",
    "                                        ),\n",
    "                                body=str(data_string))\n",
    "               \n",
    "        #print('\\n________________________________________read _______________________________________________________________________________')\n",
    "        #print('Mensaje enviado al Nucleo Logico Read-> ',data_string)  \n",
    "        hilo.start() \n",
    "    except Exception as error:\n",
    "        print(\"mensaje no enviado...\",str(error))"
   ]
  },
  {
   "cell_type": "code",
   "execution_count": 5,
   "metadata": {},
   "outputs": [],
   "source": [
    "def enviarNucleo(recipient_id, id_face, mensaje,hilo):        \n",
    "    cont=0\n",
    "    content=''\n",
    "    type_resp=''    \n",
    "    entidad= {}\n",
    "    if \"postback\" in mensaje[0]:\n",
    "        content=mensaje[0][\"postback\"][\"payload\"]\n",
    "        type_resp=\"postback\"\n",
    "        #entidad={mensaje[0][\"postback\"][\"payload\"]}\n",
    "    elif \"message\" in mensaje[0]:\n",
    "        print(mensaje)\n",
    "        if \"text\" in mensaje[0][\"message\"]:\n",
    "            content=mensaje[0][\"message\"][\"text\"]\n",
    "        else:\n",
    "            content=mensaje[0][\"message\"][\"attachments\"]\n",
    "        type_resp=\"message\"    \n",
    "    estado = \"none\"\n",
    "    tipo=\"none\"\n",
    "    opciones=\"none\"     \n",
    "    n =  {\"payload\": {\"robot\":\" \",\"id_face\":\" \",\"recipient_id\":\" \",\"access_token\":\" \",\"content\":\" \",\"type_resp\":\" \",\"state\":\" \", \"blocktype\":\" \", \"opciones\":\" \", \"entities\":\"\"}}\n",
    "    data=json.dumps(n)\n",
    "    decoded=json.loads(data)\n",
    "    decoded[\"payload\"][\"robot\"]=\"none\"\n",
    "    decoded[\"payload\"][\"id_face\"]=id_face\n",
    "    decoded[\"payload\"][\"access_token\"]=\"none\"\n",
    "    decoded[\"payload\"][\"recipient_id\"]=recipient_id\n",
    "    decoded[\"payload\"][\"content\"]=content\n",
    "    decoded[\"payload\"][\"type_resp\"]=type_resp\n",
    "    decoded[\"payload\"][\"state\"]=estado\n",
    "    decoded[\"payload\"][\"blocktype\"]=tipo\n",
    "    decoded[\"payload\"][\"opciones\"]=opciones\n",
    "    decoded[\"payload\"][\"entities\"]= entidad\n",
    "    data_string=json.dumps(decoded)    \n",
    "    hilo.corr_id = str(uuid.uuid4())\n",
    "    hilo.channel.basic_consume(on_message_callback=hilo.on_response, auto_ack=True, queue=hilo.queue_name) \n",
    "    try:\n",
    "        hilo.channel.basic_publish(exchange='',\n",
    "                              routing_key='Colaprueba23',\n",
    "                              properties=pika.BasicProperties(\n",
    "                                        reply_to = hilo.queue_name,\n",
    "                                        correlation_id = hilo.corr_id,\n",
    "                                        ),\n",
    "                                body=str(data_string))\n",
    "        hilo.start()        \n",
    "        print('\\n\\n______________________________________________no read__________________________________________________________________________')\n",
    "        print('\\t\\tMensaje enviado al Nucleo Logico->\\n ',data_string)        \n",
    "    except Exception as error:\n",
    "        print(\"mensaje no enviado...\",str(error))"
   ]
  },
  {
   "cell_type": "code",
   "execution_count": 6,
   "metadata": {},
   "outputs": [],
   "source": [
    "def send_message(payload,access_token):\n",
    "    api_version = 6.0\n",
    "    graph_url = 'https://graph.facebook.com/v{0}'.format(api_version)\n",
    "    request_endpoint = '{0}/me/messages'.format(graph_url)\n",
    "    auth = {'access_token': access_token}  \n",
    "    \n",
    "    response = requests.post(\n",
    "        request_endpoint,\n",
    "        params=auth,\n",
    "        json=payload\n",
    "    )\n",
    "    try:\n",
    "        result = response.json()\n",
    "        print(\"\\n\\n---------------------------------------------------------------------------\")\n",
    "        print(\"mensaje enviado a la API de facebook:\\n\",payload)\n",
    "        return result\n",
    "    except:\n",
    "        print(\"Error al enviar mensaje\")\n",
    "        return 'fail'\n"
   ]
  },
  {
   "cell_type": "code",
   "execution_count": 7,
   "metadata": {},
   "outputs": [],
   "source": [
    "def text_message(recipient_id, response,access_token):\n",
    "    payload={'message': {'text': response}, 'recipient': {'id': recipient_id}, 'notification_type': 'REGULAR'}\n",
    "    respuesta=send_message(payload,access_token)\n",
    "    return \"success\""
   ]
  },
  {
   "cell_type": "code",
   "execution_count": 8,
   "metadata": {},
   "outputs": [],
   "source": [
    "def button_message(recipient_id,content,options,access_token):\n",
    "    buttons = []\n",
    "    cont=0\n",
    "    cadena=(\"\".join(options)).capitalize() \n",
    "    if cadena.find(\"<user_email>\") != -1:\n",
    "        for opc in options:\n",
    "            if opc == \"<user_email>\":\n",
    "                button = dict({\"content_type\":'user_email'})\n",
    "            elif opc == \"<user_phone_number>\": \n",
    "                button= dict({\"content_type\":'user_phone_number'})\n",
    "            else:\n",
    "                button = dict({\"title\":opc, \"content_type\":'text', \"payload\":opc})\n",
    "            buttons.append(button)\n",
    "            cont=cont+1\n",
    "            if cont>7:\n",
    "                break    \n",
    "        payload={'message': {'text': content, 'quick_replies': buttons}, 'recipient': {'id': recipient_id}, 'notification_type': 'REGULAR'}        \n",
    "    else:\n",
    "        for opc in options:\n",
    "            button = Button(title=opc, type='postback', payload=opc)\n",
    "            buttons.append(button)\n",
    "            cont=cont+1\n",
    "            if cont>2:\n",
    "                break    \n",
    "        payload={'message': {'attachment': {'type': 'template', 'payload': {'template_type': 'button', 'text': content, 'buttons': buttons}}}, 'recipient': {'id': recipient_id}, 'notification_type': 'REGULAR'}\n",
    "\n",
    "    result=send_message(payload,access_token)\n",
    "    assert type(result) is dict\n",
    "    assert result.get('message_id') is not None\n",
    "    assert result.get('recipient_id') is not None"
   ]
  },
  {
   "cell_type": "code",
   "execution_count": 9,
   "metadata": {},
   "outputs": [],
   "source": [
    "def slide_message(recipient_id,content,access_token):\n",
    "    buttons =[]\n",
    "    elements=[]\n",
    "    element={'title':'', 'image_url':'', 'subtitle':'', 'buttons':[]}    \n",
    "    cont=0    \n",
    "    for data in content:         \n",
    "        buttons =[]\n",
    "        cont=0 \n",
    "        for btn in data['buttons']:\n",
    "            typeBtn = btn[\"typeButton\"]\n",
    "            if typeBtn == \"postback\":\n",
    "                button = Button(title=btn['titleButton'], type='postback', payload=btn['payloadButton'])\n",
    "            else:\n",
    "                button = Button(title=btn['titleButton'], type='web_url', url=btn['urlButton'])\n",
    "            buttons.append(button)\n",
    "            cont=cont+1\n",
    "            if cont>2:\n",
    "                break     \n",
    "        \n",
    "        element={'title':data['title'], 'image_url':data['image_url'], 'subtitle':data['subtitle'], 'buttons':buttons}\n",
    "        elements.append(element)   \n",
    "        \n",
    "    payload={\"recipient\": {\"id\":recipient_id}, \"message\":{\"attachment\": {\"type\":\"template\", \"payload\": {\"template_type\":\"generic\", \"elements\":elements}}}, 'notification_type': 'REGULAR'}\n",
    "    print(\"pyload slide: \",payload)\n",
    "    result=send_message(payload,access_token)\n",
    "    assert type(result) is dict\n",
    "    assert result.get('message_id') is not None\n",
    "    assert result.get('recipient_id') is not None"
   ]
  },
  {
   "cell_type": "code",
   "execution_count": 10,
   "metadata": {},
   "outputs": [],
   "source": [
    "def ticket_message(recipient_id,content,access_token):\n",
    "    payload={\"recipient\":{\"id\":recipient_id},\"message\":{\"attachment\":{\"type\":\"template\",\"payload\":content}}}    \n",
    "    result=send_message(payload,access_token)\n",
    "    assert type(result) is dict\n",
    "    assert result.get('message_id') is not None\n",
    "    assert result.get('recipient_id') is not None"
   ]
  },
  {
   "cell_type": "code",
   "execution_count": 11,
   "metadata": {},
   "outputs": [],
   "source": [
    "def conv(mensaje):\n",
    "    ans=' '\n",
    "    contenido=mensaje[\"Respuesta\"][\"content\"]\n",
    "    estado=mensaje[\"Respuesta\"][\"payload\"][\"state\"]\n",
    "    entidad= mensaje[\"Respuesta\"][\"payload\"][\"entities\"]\n",
    "    tipo= mensaje[\"Respuesta\"][\"blockType\"]\n",
    "    recipient_id=mensaje['Respuesta']['payload']['recipient_id']\n",
    "    access_token=mensaje['Respuesta']['payload']['access_token']    \n",
    "    if(tipo==\"quickReply\" or tipo==\"quickReplyDinamico\"):\n",
    "        button_message(recipient_id, contenido, mensaje[\"Respuesta\"][\"options\"],access_token)\n",
    "        return entidad, ans, estado, tipo, mensaje[\"Respuesta\"][\"options\"] \n",
    "    elif(tipo==\"input\" or tipo==\"inputDinamico\"):\n",
    "        text_message(recipient_id, contenido,access_token)\n",
    "        return entidad, ans, estado, tipo, 'vacio'    \n",
    "    elif(tipo==\"informativo\" or tipo==\"informativoDinamico\"):\n",
    "        text_message(recipient_id, contenido,access_token)\n",
    "        return entidad, str('next'), estado, tipo, 'vacio'    \n",
    "    elif(tipo==\"slide\" or tipo==\"slideBuy\" or tipo==\"slideDinamico\"):\n",
    "        slide_message(recipient_id, contenido,access_token)\n",
    "        return entidad, str('next'), estado, tipo, 'vacio'\n",
    "    elif(tipo==\"ticket\"):\n",
    "        ticket_message(recipient_id, contenido,access_token)\n",
    "        return entidad, str('next'), estado, tipo, 'vacio'\n",
    "    else:\n",
    "        return entidad, str('hey'), estado, tipo, 'vacio'"
   ]
  },
  {
   "cell_type": "code",
   "execution_count": 12,
   "metadata": {},
   "outputs": [],
   "source": [
    "class Nucleo_Cliente2(threading.Thread):\n",
    "    \n",
    "    def on_response(self, ch, method, props, body):\n",
    "        if self.corr_id == props.correlation_id:\n",
    "            self.response = body\n",
    "            \n",
    "    def __init__(self, nombreHilo):    \n",
    "        threading.Thread.__init__(self, name=nombreHilo, target=Nucleo_Cliente2.run)\n",
    "        self.nombrehilo=nombreHilo\n",
    "        self.connection = pika.BlockingConnection(pika.ConnectionParameters('localhost'))\n",
    "        self.channel = self.connection.channel()\n",
    "        self.result = self.channel.queue_declare(queue='',exclusive=True)\n",
    "        self.queue_name = self.result.method.queue\n",
    "        self.corr_id = ' ' \n",
    "        \n",
    "    def run(self):\n",
    "        try:                \n",
    "            self.response = None\n",
    "            self.response = self.call()\n",
    "            print(\" [.] Got %r\", self.response) \n",
    "        except Exception as error:\n",
    "            print(\"Error run :\",str(error))     \n",
    "            \n",
    "    def call(self):\n",
    "        print(\"hilo consume\")\n",
    "        cont = 0        \n",
    "        while(cont>=0):\n",
    "            self.response = None\n",
    "            while self.response is None:\n",
    "                self.connection.process_data_events()            \n",
    "            if len(self.response)>10:\n",
    "                #print(self.response)\n",
    "                data = json.loads(self.response)                \n",
    "                if  data.get(\"payload\"):\n",
    "                    break\n",
    "                else:                \n",
    "                    print('\\n_________________________________________________________________________________________________________________________')\n",
    "                    print('\\t\\t\\nRespuesta del Nucleo Logico-> ',data) \n",
    "                    entidad, resp, estado, tipo, opciones= conv(data)\n",
    "                    break\n",
    "                \n"
   ]
  },
  {
   "cell_type": "code",
   "execution_count": null,
   "metadata": {
    "scrolled": true
   },
   "outputs": [
    {
     "name": "stdout",
     "output_type": "stream",
     "text": [
      " * Serving Flask app \"__main__\" (lazy loading)\n",
      " * Environment: production\n",
      "   WARNING: This is a development server. Do not use it in a production deployment.\n",
      "   Use a production WSGI server instead.\n",
      " * Debug mode: off\n"
     ]
    },
    {
     "name": "stderr",
     "output_type": "stream",
     "text": [
      " * Running on http://127.0.0.1:5000/ (Press CTRL+C to quit)\n",
      "127.0.0.1 - - [07/Jul/2021 14:51:11] \"\u001b[37mPOST /apiREST/v1 HTTP/1.1\u001b[0m\" 200 -\n"
     ]
    },
    {
     "name": "stdout",
     "output_type": "stream",
     "text": [
      "\n",
      "_________________________________________________________________________________________________________________________\n",
      "Mesaje de la API de Facebook-> \n",
      " {'object': 'page', 'entry': [{'id': '106842278334918', 'time': 1625687474400, 'messaging': [{'sender': {'id': '3992952420759571'}, 'recipient': {'id': '106842278334918'}, 'timestamp': 1625687474076, 'message': {'mid': 'm_4BfqePz3740ixPQ-QJsBGG5LdZJwKC-4WNAMDG3FPBCr2-2zKuymww08yjkpXvCTGXzd6i-zfE2xrWiIbC1KYw', 'text': 'Hola'}}]}]}\n",
      "[{'sender': {'id': '3992952420759571'}, 'recipient': {'id': '106842278334918'}, 'timestamp': 1625687474076, 'message': {'mid': 'm_4BfqePz3740ixPQ-QJsBGG5LdZJwKC-4WNAMDG3FPBCr2-2zKuymww08yjkpXvCTGXzd6i-zfE2xrWiIbC1KYw', 'text': 'Hola'}}]\n",
      "hilo consume\n",
      "\n",
      "______________________________________________no read__________________________________________________________________________\n",
      "\n",
      "\t\tMensaje enviado al Nucleo Logico->\n",
      "  {\"payload\": {\"robot\": \"none\", \"id_face\": \"106842278334918\", \"recipient_id\": \"3992952420759571\", \"access_token\": \"none\", \"content\": \"Hola\", \"type_resp\": \"message\", \"state\": \"none\", \"blocktype\": \"none\", \"opciones\": \"none\", \"entities\": {}}}\n"
     ]
    },
    {
     "name": "stderr",
     "output_type": "stream",
     "text": [
      "127.0.0.1 - - [07/Jul/2021 14:51:30] \"\u001b[37mPOST /apiREST/v1 HTTP/1.1\u001b[0m\" 200 -\n"
     ]
    },
    {
     "name": "stdout",
     "output_type": "stream",
     "text": [
      "\n",
      "_________________________________________________________________________________________________________________________\n",
      "Mesaje de la API de Facebook-> \n",
      " {'object': 'page', 'entry': [{'id': '106842278334918', 'time': 1625687493689, 'messaging': [{'sender': {'id': '3992952420759571'}, 'recipient': {'id': '106842278334918'}, 'timestamp': 1625687493865, 'read': {'watermark': 1625687493286}}]}]}\n",
      "hilo consume\n"
     ]
    },
    {
     "name": "stderr",
     "output_type": "stream",
     "text": [
      "127.0.0.1 - - [07/Jul/2021 14:51:31] \"\u001b[37mPOST /apiREST/v1 HTTP/1.1\u001b[0m\" 200 -\n"
     ]
    },
    {
     "name": "stdout",
     "output_type": "stream",
     "text": [
      "\n",
      "_________________________________________________________________________________________________________________________\n",
      "Mesaje de la API de Facebook-> \n",
      " {'object': 'page', 'entry': [{'id': '106842278334918', 'time': 1625687493892, 'messaging': [{'sender': {'id': '3992952420759571'}, 'recipient': {'id': '106842278334918'}, 'timestamp': 1625687493726, 'message': {'mid': 'm_hWKL4XKh1YRg8cO_H4Pk2G5LdZJwKC-4WNAMDG3FPBAfxj4UEzuq8gyDk1NEs0AwMblR6Y8YL7_NSflxkqjuiA', 'text': 'hola'}}]}]}\n",
      "[{'sender': {'id': '3992952420759571'}, 'recipient': {'id': '106842278334918'}, 'timestamp': 1625687493726, 'message': {'mid': 'm_hWKL4XKh1YRg8cO_H4Pk2G5LdZJwKC-4WNAMDG3FPBAfxj4UEzuq8gyDk1NEs0AwMblR6Y8YL7_NSflxkqjuiA', 'text': 'hola'}}]\n",
      "hilo consume\n",
      "\n",
      "______________________________________________no read__________________________________________________________________________\n",
      "\n",
      "\t\tMensaje enviado al Nucleo Logico->\n",
      "  {\"payload\": {\"robot\": \"none\", \"id_face\": \"106842278334918\", \"recipient_id\": \"3992952420759571\", \"access_token\": \"none\", \"content\": \"hola\", \"type_resp\": \"message\", \"state\": \"none\", \"blocktype\": \"none\", \"opciones\": \"none\", \"entities\": {}}}\n"
     ]
    },
    {
     "name": "stderr",
     "output_type": "stream",
     "text": [
      "127.0.0.1 - - [07/Jul/2021 14:53:18] \"\u001b[37mPOST /apiREST/v1 HTTP/1.1\u001b[0m\" 200 -\n"
     ]
    },
    {
     "name": "stdout",
     "output_type": "stream",
     "text": [
      "\n",
      "_________________________________________________________________________________________________________________________\n",
      "Mesaje de la API de Facebook-> \n",
      " {'object': 'page', 'entry': [{'id': '106842278334918', 'time': 1625687601444, 'messaging': [{'sender': {'id': '3992952420759571'}, 'recipient': {'id': '106842278334918'}, 'timestamp': 1625687601577, 'read': {'watermark': 1625687601035}}]}]}\n",
      "hilo consume\n",
      "\n",
      "_________________________________________________________________________________________________________________________\n",
      "Mesaje de la API de Facebook-> \n",
      " [.] Got %r  None\n",
      "{'object': 'page', 'entry': [{'id': '106842278334918', 'time': 1625687601613, 'messaging': [{'sender': {'id': '3992952420759571'}, 'recipient': {'id': '106842278334918'}, 'timestamp': 1625687601519, 'message': {'mid': 'm_VdaI9dgYimvvqfNer04mym5LdZJwKC-4WNAMDG3FPBDEl3GllA4hmWaNiTFwIf98T_U7o6IWosayo9ZXW04XHw', 'text': 'hola'}}]}]}\n",
      "[{'sender': {'id': '3992952420759571'}, 'recipient': {'id': '106842278334918'}, 'timestamp': 1625687601519, 'message': {'mid': 'm_VdaI9dgYimvvqfNer04mym5LdZJwKC-4WNAMDG3FPBDEl3GllA4hmWaNiTFwIf98T_U7o6IWosayo9ZXW04XHw', 'text': 'hola'}}]\n",
      "hilo consume\n",
      "\n",
      "______________________________________________no read__________________________________________________________________________\n",
      "\n",
      "\t\tMensaje enviado al Nucleo Logico->\n",
      "  {\"payload\": {\"robot\": \"none\", \"id_face\": \"106842278334918\", \"recipient_id\": \"3992952420759571\", \"access_token\": \"none\", \"content\": \"hola\", \"type_resp\": \"message\", \"state\": \"none\", \"blocktype\": \"none\", \"opciones\": \"none\", \"entities\": {}}}\n"
     ]
    },
    {
     "name": "stderr",
     "output_type": "stream",
     "text": [
      "127.0.0.1 - - [07/Jul/2021 14:53:18] \"\u001b[37mPOST /apiREST/v1 HTTP/1.1\u001b[0m\" 200 -\n"
     ]
    },
    {
     "name": "stdout",
     "output_type": "stream",
     "text": [
      "\n",
      "_________________________________________________________________________________________________________________________\n",
      "\t\t\n",
      "Respuesta del Nucleo Logico->  {'Respuesta': {'content': 'Hola oswaldo', 'next_id': 'Informativo | c65fe24d-e9c2-4b86-b07f-9f48db28e95a | oIgvWKILDrYMYDjlgAIk', 'blockType': 'informativo', 'contentType': 'text', 'typingTime': '1', 'payload': {'content': '', 'state': 'Informativo | 2edb2c69-beb8-471f-9799-940599824c36 | oIgvWKILDrYMYDjlgAIk', 'recipient_id': '3992952420759571', 'entities': {}, 'access_token': 'EAAFMtaIPwugBAIRPT4mTm2a9nei1940NrJqMbhvvyPwfZAUZA6Id2YaXUeSu06TENy0QoDsprATI0J2ZCGHS2X6UQ4TG2AWkIbNQ3LLGdRMORJZBZBT9BhB58QusrYaXG90RiZAog3r9THJCXmX1m7vjArQ3KoX3PrEGYehS4j6TSblsfU73uf'}}}\n"
     ]
    },
    {
     "name": "stderr",
     "output_type": "stream",
     "text": [
      "127.0.0.1 - - [07/Jul/2021 14:53:20] \"\u001b[37mPOST /apiREST/v1 HTTP/1.1\u001b[0m\" 200 -\n"
     ]
    },
    {
     "name": "stdout",
     "output_type": "stream",
     "text": [
      "\n",
      "\n",
      "---------------------------------------------------------------------------\n",
      "mensaje enviado a la API de facebook:\n",
      " {'message': {'text': 'Hola oswaldo'}, 'recipient': {'id': '3992952420759571'}, 'notification_type': 'REGULAR'}\n",
      " [.] Got %r None\n",
      "\n",
      "_________________________________________________________________________________________________________________________\n",
      "Mesaje de la API de Facebook-> \n",
      " {'object': 'page', 'entry': [{'id': '106842278334918', 'time': 1625687603494, 'messaging': [{'sender': {'id': '106842278334918'}, 'recipient': {'id': '3992952420759571'}, 'timestamp': 1625687603457, 'message': {'mid': 'm_vtIOCDSWqLftmC2NM0BN5G5LdZJwKC-4WNAMDG3FPBAlagSJwhERW9FLXxLrrTuhFNpxd2I9jwoFIDa8Yyj0ZA', 'is_echo': True, 'text': 'Hola oswaldo', 'app_id': 365817968444136}}]}]}\n",
      "[{'sender': {'id': '106842278334918'}, 'recipient': {'id': '3992952420759571'}, 'timestamp': 1625687603457, 'message': {'mid': 'm_vtIOCDSWqLftmC2NM0BN5G5LdZJwKC-4WNAMDG3FPBAlagSJwhERW9FLXxLrrTuhFNpxd2I9jwoFIDa8Yyj0ZA', 'is_echo': True, 'text': 'Hola oswaldo', 'app_id': 365817968444136}}]\n",
      "hilo consume\n",
      "\n",
      "______________________________________________no read__________________________________________________________________________\n",
      "\n",
      "\t\tMensaje enviado al Nucleo Logico->\n",
      "  {\"payload\": {\"robot\": \"none\", \"id_face\": \"106842278334918\", \"recipient_id\": \"106842278334918\", \"access_token\": \"none\", \"content\": \"Hola oswaldo\", \"type_resp\": \"message\", \"state\": \"none\", \"blocktype\": \"none\", \"opciones\": \"none\", \"entities\": {}}}\n"
     ]
    },
    {
     "name": "stderr",
     "output_type": "stream",
     "text": [
      "127.0.0.1 - - [07/Jul/2021 14:53:20] \"\u001b[37mPOST /apiREST/v1 HTTP/1.1\u001b[0m\" 200 -\n",
      "127.0.0.1 - - [07/Jul/2021 14:53:20] \"\u001b[37mPOST /apiREST/v1 HTTP/1.1\u001b[0m\" 200 -\n"
     ]
    },
    {
     "name": "stdout",
     "output_type": "stream",
     "text": [
      "\n",
      "_________________________________________________________________________________________________________________________\n",
      "Mesaje de la API de Facebook-> \n",
      " {'object': 'page', 'entry': [{'id': '106842278334918', 'time': 1625687603589, 'messaging': [{'sender': {'id': '3992952420759571'}, 'recipient': {'id': '106842278334918'}, 'timestamp': 1625687603737, 'delivery': {'mids': ['m_vtIOCDSWqLftmC2NM0BN5G5LdZJwKC-4WNAMDG3FPBAlagSJwhERW9FLXxLrrTuhFNpxd2I9jwoFIDa8Yyj0ZA'], 'watermark': 1625687603457}}]}]}\n",
      "\n",
      "_________________________________________________________________________________________________________________________\n",
      "Mesaje de la API de Facebook-> \n",
      " {'object': 'page', 'entry': [{'id': '106842278334918', 'time': 1625687603640, 'messaging': [{'sender': {'id': '3992952420759571'}, 'recipient': {'id': '106842278334918'}, 'timestamp': 1625687603788, 'read': {'watermark': 1625687603599}}]}]}\n",
      "hilo consume\n",
      "\n",
      "_________________________________________________________________________________________________________________________\n",
      "\t\t\n",
      "Respuesta del Nucleo Logico->  {'Respuesta': {'content': 'Hola oswaldo', 'next_id': 'Informativo | c65fe24d-e9c2-4b86-b07f-9f48db28e95a | oIgvWKILDrYMYDjlgAIk', 'blockType': 'informativo', 'contentType': 'text', 'typingTime': '1', 'payload': {'content': '', 'state': 'Informativo | 2edb2c69-beb8-471f-9799-940599824c36 | oIgvWKILDrYMYDjlgAIk', 'recipient_id': '106842278334918', 'entities': {}, 'access_token': 'EAAFMtaIPwugBAIRPT4mTm2a9nei1940NrJqMbhvvyPwfZAUZA6Id2YaXUeSu06TENy0QoDsprATI0J2ZCGHS2X6UQ4TG2AWkIbNQ3LLGdRMORJZBZBT9BhB58QusrYaXG90RiZAog3r9THJCXmX1m7vjArQ3KoX3PrEGYehS4j6TSblsfU73uf'}}}\n",
      "\n",
      "\n",
      "---------------------------------------------------------------------------\n",
      "mensaje enviado a la API de facebook:\n",
      " {'message': {'text': 'Hola oswaldo'}, 'recipient': {'id': '106842278334918'}, 'notification_type': 'REGULAR'}\n",
      " [.] Got %r None\n",
      "\n",
      "_________________________________________________________________________________________________________________________\n",
      "\t\t\n",
      "Respuesta del Nucleo Logico->  {'Respuesta': {'content': 'Hola chatbot', 'next_id': 'Salida', 'blockType': 'informativo', 'contentType': 'text', 'typingTime': '1', 'payload': {'content': '', 'state': 'Informativo | c65fe24d-e9c2-4b86-b07f-9f48db28e95a | oIgvWKILDrYMYDjlgAIk', 'recipient_id': '3992952420759571', 'entities': {}, 'access_token': 'EAAFMtaIPwugBAIRPT4mTm2a9nei1940NrJqMbhvvyPwfZAUZA6Id2YaXUeSu06TENy0QoDsprATI0J2ZCGHS2X6UQ4TG2AWkIbNQ3LLGdRMORJZBZBT9BhB58QusrYaXG90RiZAog3r9THJCXmX1m7vjArQ3KoX3PrEGYehS4j6TSblsfU73uf'}}}\n"
     ]
    },
    {
     "name": "stderr",
     "output_type": "stream",
     "text": [
      "127.0.0.1 - - [07/Jul/2021 14:53:21] \"\u001b[37mPOST /apiREST/v1 HTTP/1.1\u001b[0m\" 200 -\n"
     ]
    },
    {
     "name": "stdout",
     "output_type": "stream",
     "text": [
      "\n",
      "\n",
      "---------------------------------------------------------------------------\n",
      "mensaje enviado a la API de facebook:\n",
      " {'message': {'text': 'Hola chatbot'}, 'recipient': {'id': '3992952420759571'}, 'notification_type': 'REGULAR'}\n",
      " [.] Got %r None\n",
      "\n",
      "_________________________________________________________________________________________________________________________\n",
      "Mesaje de la API de Facebook-> \n",
      " {'object': 'page', 'entry': [{'id': '106842278334918', 'time': 1625687604854, 'messaging': [{'sender': {'id': '106842278334918'}, 'recipient': {'id': '3992952420759571'}, 'timestamp': 1625687604798, 'message': {'mid': 'm_KhsAGu0F0rKiYgru5F_GvG5LdZJwKC-4WNAMDG3FPBDHnuvQV0pk2rWjTOHe6WdYR2ue0rWiu4uHbztWat9pJA', 'is_echo': True, 'text': 'Hola chatbot', 'app_id': 365817968444136}}]}]}\n",
      "[{'sender': {'id': '106842278334918'}, 'recipient': {'id': '3992952420759571'}, 'timestamp': 1625687604798, 'message': {'mid': 'm_KhsAGu0F0rKiYgru5F_GvG5LdZJwKC-4WNAMDG3FPBDHnuvQV0pk2rWjTOHe6WdYR2ue0rWiu4uHbztWat9pJA', 'is_echo': True, 'text': 'Hola chatbot', 'app_id': 365817968444136}}]\n",
      "hilo consume\n",
      "\n",
      "______________________________________________no read__________________________________________________________________________\n",
      "\n",
      "\t\tMensaje enviado al Nucleo Logico->\n",
      "  {\"payload\": {\"robot\": \"none\", \"id_face\": \"106842278334918\", \"recipient_id\": \"106842278334918\", \"access_token\": \"none\", \"content\": \"Hola chatbot\", \"type_resp\": \"message\", \"state\": \"none\", \"blocktype\": \"none\", \"opciones\": \"none\", \"entities\": {}}}\n"
     ]
    },
    {
     "name": "stderr",
     "output_type": "stream",
     "text": [
      "127.0.0.1 - - [07/Jul/2021 14:53:22] \"\u001b[37mPOST /apiREST/v1 HTTP/1.1\u001b[0m\" 200 -\n"
     ]
    },
    {
     "name": "stdout",
     "output_type": "stream",
     "text": [
      "\n",
      "_________________________________________________________________________________________________________________________\n",
      "Mesaje de la API de Facebook-> \n",
      " {'object': 'page', 'entry': [{'id': '106842278334918', 'time': 1625687604949, 'messaging': [{'sender': {'id': '3992952420759571'}, 'recipient': {'id': '106842278334918'}, 'timestamp': 1625687604987, 'delivery': {'mids': ['m_KhsAGu0F0rKiYgru5F_GvG5LdZJwKC-4WNAMDG3FPBDHnuvQV0pk2rWjTOHe6WdYR2ue0rWiu4uHbztWat9pJA'], 'watermark': 1625687604798}}]}]}\n",
      "\n",
      "_________________________________________________________________________________________________________________________\n",
      "Mesaje de la API de Facebook-> \n",
      " {'object': 'page', 'entry': [{'id': '106842278334918', 'time': 1625687604979, 'messaging': [{'sender': {'id': '3992952420759571'}, 'recipient': {'id': '106842278334918'}, 'timestamp': 1625687605130, 'read': {'watermark': 1625687604949}}]}]}\n",
      "hilo consume\n"
     ]
    },
    {
     "name": "stderr",
     "output_type": "stream",
     "text": [
      "127.0.0.1 - - [07/Jul/2021 14:53:22] \"\u001b[37mPOST /apiREST/v1 HTTP/1.1\u001b[0m\" 200 -\n"
     ]
    },
    {
     "name": "stdout",
     "output_type": "stream",
     "text": [
      "\n",
      "_________________________________________________________________________________________________________________________\n",
      "\t\t\n",
      "Respuesta del Nucleo Logico->  {'Respuesta': {'content': 'Hola oswaldo', 'next_id': 'Informativo | c65fe24d-e9c2-4b86-b07f-9f48db28e95a | oIgvWKILDrYMYDjlgAIk', 'blockType': 'informativo', 'contentType': 'text', 'typingTime': '1', 'payload': {'content': '', 'state': 'Informativo | 2edb2c69-beb8-471f-9799-940599824c36 | oIgvWKILDrYMYDjlgAIk', 'recipient_id': '106842278334918', 'entities': {}, 'access_token': 'EAAFMtaIPwugBAIRPT4mTm2a9nei1940NrJqMbhvvyPwfZAUZA6Id2YaXUeSu06TENy0QoDsprATI0J2ZCGHS2X6UQ4TG2AWkIbNQ3LLGdRMORJZBZBT9BhB58QusrYaXG90RiZAog3r9THJCXmX1m7vjArQ3KoX3PrEGYehS4j6TSblsfU73uf'}}}\n",
      "\n",
      "\n",
      "---------------------------------------------------------------------------\n",
      "mensaje enviado a la API de facebook:\n",
      " {'message': {'text': 'Hola oswaldo'}, 'recipient': {'id': '106842278334918'}, 'notification_type': 'REGULAR'}\n",
      " [.] Got %r None\n"
     ]
    },
    {
     "name": "stderr",
     "output_type": "stream",
     "text": [
      "127.0.0.1 - - [07/Jul/2021 14:55:05] \"\u001b[37mPOST /apiREST/v1 HTTP/1.1\u001b[0m\" 200 -\n"
     ]
    },
    {
     "name": "stdout",
     "output_type": "stream",
     "text": [
      "\n",
      "_________________________________________________________________________________________________________________________\n",
      "Mesaje de la API de Facebook-> \n",
      " {'object': 'page', 'entry': [{'id': '106842278334918', 'time': 1625687708229, 'messaging': [{'sender': {'id': '3992952420759571'}, 'recipient': {'id': '106842278334918'}, 'timestamp': 1625687708321, 'read': {'watermark': 1625687707820}}]}]}\n",
      "hilo consume\n",
      " [.] Got %r None\n",
      "\n",
      "_________________________________________________________________________________________________________________________\n",
      "Mesaje de la API de Facebook-> \n",
      " {'object': 'page', 'entry': [{'id': '106842278334918', 'time': 1625687708390, 'messaging': [{'sender': {'id': '3992952420759571'}, 'recipient': {'id': '106842278334918'}, 'timestamp': 1625687708267, 'message': {'mid': 'm_QcI8rLatv8u1YjpeXcx8Im5LdZJwKC-4WNAMDG3FPBA87ve6fLKlno2VyekkQ86RXQf_mVUODX7Y-7GNZnjWtA', 'text': 'Hola'}}]}]}\n"
     ]
    },
    {
     "name": "stderr",
     "output_type": "stream",
     "text": [
      "127.0.0.1 - - [07/Jul/2021 14:55:05] \"\u001b[37mPOST /apiREST/v1 HTTP/1.1\u001b[0m\" 200 -\n"
     ]
    },
    {
     "name": "stdout",
     "output_type": "stream",
     "text": [
      "[{'sender': {'id': '3992952420759571'}, 'recipient': {'id': '106842278334918'}, 'timestamp': 1625687708267, 'message': {'mid': 'm_QcI8rLatv8u1YjpeXcx8Im5LdZJwKC-4WNAMDG3FPBA87ve6fLKlno2VyekkQ86RXQf_mVUODX7Y-7GNZnjWtA', 'text': 'Hola'}}]\n",
      "hilo consume\n",
      "\n",
      "______________________________________________no read__________________________________________________________________________\n",
      "\n",
      "\t\tMensaje enviado al Nucleo Logico->\n",
      "  {\"payload\": {\"robot\": \"none\", \"id_face\": \"106842278334918\", \"recipient_id\": \"3992952420759571\", \"access_token\": \"none\", \"content\": \"Hola\", \"type_resp\": \"message\", \"state\": \"none\", \"blocktype\": \"none\", \"opciones\": \"none\", \"entities\": {}}}\n",
      "\n",
      "_________________________________________________________________________________________________________________________\n",
      "\t\t\n",
      "Respuesta del Nucleo Logico->  {'Respuesta': {'content': 'Hola oswaldo', 'next_id': 'QuickReply | bef89a36-7587-4bb2-a5d3-11c09b410294 | oIgvWKILDrYMYDjlgAIk', 'blockType': 'informativo', 'contentType': 'text', 'typingTime': '1', 'payload': {'content': '', 'state': 'Informativo | 2edb2c69-beb8-471f-9799-940599824c36 | oIgvWKILDrYMYDjlgAIk', 'recipient_id': '3992952420759571', 'entities': {}, 'access_token': 'EAAFMtaIPwugBAIRPT4mTm2a9nei1940NrJqMbhvvyPwfZAUZA6Id2YaXUeSu06TENy0QoDsprATI0J2ZCGHS2X6UQ4TG2AWkIbNQ3LLGdRMORJZBZBT9BhB58QusrYaXG90RiZAog3r9THJCXmX1m7vjArQ3KoX3PrEGYehS4j6TSblsfU73uf'}}}\n"
     ]
    },
    {
     "name": "stderr",
     "output_type": "stream",
     "text": [
      "127.0.0.1 - - [07/Jul/2021 14:55:06] \"\u001b[37mPOST /apiREST/v1 HTTP/1.1\u001b[0m\" 200 -\n"
     ]
    },
    {
     "name": "stdout",
     "output_type": "stream",
     "text": [
      "\n",
      "\n",
      "---------------------------------------------------------------------------\n",
      "mensaje enviado a la API de facebook:\n",
      " {'message': {'text': 'Hola oswaldo'}, 'recipient': {'id': '3992952420759571'}, 'notification_type': 'REGULAR'}\n",
      " [.] Got %r None\n",
      "\n",
      "_________________________________________________________________________________________________________________________\n",
      "Mesaje de la API de Facebook-> \n",
      " {'object': 'page', 'entry': [{'id': '106842278334918', 'time': 1625687709417, 'messaging': [{'sender': {'id': '106842278334918'}, 'recipient': {'id': '3992952420759571'}, 'timestamp': 1625687709384, 'message': {'mid': 'm_RkPvgclOcB-x3XXMFoVd1W5LdZJwKC-4WNAMDG3FPBBS280SekEVP3QnoXAf7il0iaBhgEVGs7-VBwaiWuuJkA', 'is_echo': True, 'text': 'Hola oswaldo', 'app_id': 365817968444136}}]}]}\n",
      "[{'sender': {'id': '106842278334918'}, 'recipient': {'id': '3992952420759571'}, 'timestamp': 1625687709384, 'message': {'mid': 'm_RkPvgclOcB-x3XXMFoVd1W5LdZJwKC-4WNAMDG3FPBBS280SekEVP3QnoXAf7il0iaBhgEVGs7-VBwaiWuuJkA', 'is_echo': True, 'text': 'Hola oswaldo', 'app_id': 365817968444136}}]\n",
      "hilo consume\n",
      "\n",
      "______________________________________________no read__________________________________________________________________________\n",
      "\n",
      "\t\tMensaje enviado al Nucleo Logico->\n",
      "  {\"payload\": {\"robot\": \"none\", \"id_face\": \"106842278334918\", \"recipient_id\": \"106842278334918\", \"access_token\": \"none\", \"content\": \"Hola oswaldo\", \"type_resp\": \"message\", \"state\": \"none\", \"blocktype\": \"none\", \"opciones\": \"none\", \"entities\": {}}}\n"
     ]
    },
    {
     "name": "stderr",
     "output_type": "stream",
     "text": [
      "127.0.0.1 - - [07/Jul/2021 14:55:06] \"\u001b[37mPOST /apiREST/v1 HTTP/1.1\u001b[0m\" 200 -\n"
     ]
    },
    {
     "name": "stdout",
     "output_type": "stream",
     "text": [
      "\n",
      "_________________________________________________________________________________________________________________________\n",
      "Mesaje de la API de Facebook-> \n",
      " {'object': 'page', 'entry': [{'id': '106842278334918', 'time': 1625687709518, 'messaging': [{'sender': {'id': '3992952420759571'}, 'recipient': {'id': '106842278334918'}, 'timestamp': 1625687709572, 'delivery': {'mids': ['m_RkPvgclOcB-x3XXMFoVd1W5LdZJwKC-4WNAMDG3FPBBS280SekEVP3QnoXAf7il0iaBhgEVGs7-VBwaiWuuJkA'], 'watermark': 1625687709384}}]}]}\n",
      "\n",
      "_________________________________________________________________________________________________________________________\n",
      "Mesaje de la API de Facebook-> \n",
      " {'object': 'page', 'entry': [{'id': '106842278334918', 'time': 1625687709560, 'messaging': [{'sender': {'id': '3992952420759571'}, 'recipient': {'id': '106842278334918'}, 'timestamp': 1625687709709, 'read': {'watermark': 1625687709520}}]}]}\n"
     ]
    },
    {
     "name": "stderr",
     "output_type": "stream",
     "text": [
      "127.0.0.1 - - [07/Jul/2021 14:55:06] \"\u001b[37mPOST /apiREST/v1 HTTP/1.1\u001b[0m\" 200 -\n"
     ]
    },
    {
     "name": "stdout",
     "output_type": "stream",
     "text": [
      "\n",
      "_________________________________________________________________________________________________________________________\n",
      "\t\t\n",
      "Respuesta del Nucleo Logico->  {'Respuesta': {'content': 'Hola oswaldo', 'next_id': 'QuickReply | bef89a36-7587-4bb2-a5d3-11c09b410294 | oIgvWKILDrYMYDjlgAIk', 'blockType': 'informativo', 'contentType': 'text', 'typingTime': '1', 'payload': {'content': '', 'state': 'Informativo | 2edb2c69-beb8-471f-9799-940599824c36 | oIgvWKILDrYMYDjlgAIk', 'recipient_id': '106842278334918', 'entities': {}, 'access_token': 'EAAFMtaIPwugBAIRPT4mTm2a9nei1940NrJqMbhvvyPwfZAUZA6Id2YaXUeSu06TENy0QoDsprATI0J2ZCGHS2X6UQ4TG2AWkIbNQ3LLGdRMORJZBZBT9BhB58QusrYaXG90RiZAog3r9THJCXmX1m7vjArQ3KoX3PrEGYehS4j6TSblsfU73uf'}}}\n",
      "hilo consume\n",
      "\n",
      "\n",
      "---------------------------------------------------------------------------\n",
      "mensaje enviado a la API de facebook:\n",
      " {'message': {'text': 'Hola oswaldo'}, 'recipient': {'id': '106842278334918'}, 'notification_type': 'REGULAR'}\n",
      " [.] Got %r None\n",
      "\n",
      "_________________________________________________________________________________________________________________________\n",
      "\t\t\n",
      "Respuesta del Nucleo Logico->  {'Respuesta': {'content': 'Prueba', 'next_id': 'Informativo | c172acd8-1edc-4d5b-ac66-fdf02dfe35ff | oIgvWKILDrYMYDjlgAIk,Informativo | c172acd8-1edc-4d5b-ac66-fdf02dfe35ff | oIgvWKILDrYMYDjlgAIk,Informativo | c172acd8-1edc-4d5b-ac66-fdf02dfe35ff | oIgvWKILDrYMYDjlgAIk', 'blockType': 'quickReply', 'contentType': ' ', 'typingTime': '1', 'payload': {'content': '', 'state': 'QuickReply | bef89a36-7587-4bb2-a5d3-11c09b410294 | oIgvWKILDrYMYDjlgAIk', 'recipient_id': '3992952420759571', 'entities': {}, 'access_token': 'EAAFMtaIPwugBAIRPT4mTm2a9nei1940NrJqMbhvvyPwfZAUZA6Id2YaXUeSu06TENy0QoDsprATI0J2ZCGHS2X6UQ4TG2AWkIbNQ3LLGdRMORJZBZBT9BhB58QusrYaXG90RiZAog3r9THJCXmX1m7vjArQ3KoX3PrEGYehS4j6TSblsfU73uf'}, 'options': ['Op1', 'Op2', 'Op3'], 'default_id': 'QuickReply | bef89a36-7587-4bb2-a5d3-11c09b410294 | oIgvWKILDrYMYDjlgAIk', 'save_var': '0'}}\n",
      "\n",
      "\n",
      "---------------------------------------------------------------------------\n",
      "mensaje enviado a la API de facebook:\n",
      " {'message': {'attachment': {'type': 'template', 'payload': {'template_type': 'button', 'text': 'Prueba', 'buttons': [{'title': 'Op1', 'type': 'postback', 'payload': 'Op1'}, {'title': 'Op2', 'type': 'postback', 'payload': 'Op2'}, {'title': 'Op3', 'type': 'postback', 'payload': 'Op3'}]}}}, 'recipient': {'id': '3992952420759571'}, 'notification_type': 'REGULAR'}\n",
      " [.] Got %r None\n"
     ]
    },
    {
     "name": "stderr",
     "output_type": "stream",
     "text": [
      "127.0.0.1 - - [07/Jul/2021 14:55:08] \"\u001b[37mPOST /apiREST/v1 HTTP/1.1\u001b[0m\" 200 -\n",
      "127.0.0.1 - - [07/Jul/2021 14:55:08] \"\u001b[37mPOST /apiREST/v1 HTTP/1.1\u001b[0m\" 200 -\n"
     ]
    },
    {
     "name": "stdout",
     "output_type": "stream",
     "text": [
      "\n",
      "_________________________________________________________________________________________________________________________\n",
      "Mesaje de la API de Facebook-> \n",
      " {'object': 'page', 'entry': [{'id': '106842278334918', 'time': 1625687711103, 'messaging': [{'sender': {'id': '106842278334918'}, 'recipient': {'id': '3992952420759571'}, 'timestamp': 1625687711009, 'message': {'mid': 'm_HlznONcVKNXtxH2jdWmMIm5LdZJwKC-4WNAMDG3FPBBW-fHwPA7sYm_EISFy4MybBtN3r1GpS8JAr4QAdGCGdQ', 'is_echo': True, 'text': 'Prueba', 'app_id': 365817968444136, 'attachments': [{'title': '', 'url': None, 'type': 'template', 'payload': {'template_type': 'button', 'buttons': [{'type': 'postback', 'title': 'Op1', 'payload': 'Op1'}, {'type': 'postback', 'title': 'Op2', 'payload': 'Op2'}, {'type': 'postback', 'title': 'Op3', 'payload': 'Op3'}]}}]}}]}]}\n",
      "[{'sender': {'id': '106842278334918'}, 'recipient': {'id': '3992952420759571'}, 'timestamp': 1625687711009, 'message': {'mid': 'm_HlznONcVKNXtxH2jdWmMIm5LdZJwKC-4WNAMDG3FPBBW-fHwPA7sYm_EISFy4MybBtN3r1GpS8JAr4QAdGCGdQ', 'is_echo': True, 'text': 'Prueba', 'app_id': 365817968444136, 'attachments': [{'title': '', 'url': None, 'type': 'template', 'payload': {'template_type': 'button', 'buttons': [{'type': 'postback', 'title': 'Op1', 'payload': 'Op1'}, {'type': 'postback', 'title': 'Op2', 'payload': 'Op2'}, {'type': 'postback', 'title': 'Op3', 'payload': 'Op3'}]}}]}}]\n",
      "hilo consume\n",
      "\n",
      "______________________________________________no read__________________________________________________________________________\n",
      "\n",
      "\t\tMensaje enviado al Nucleo Logico->\n",
      "  {\"payload\": {\"robot\": \"none\", \"id_face\": \"106842278334918\", \"recipient_id\": \"106842278334918\", \"access_token\": \"none\", \"content\": \"Prueba\", \"type_resp\": \"message\", \"state\": \"none\", \"blocktype\": \"none\", \"opciones\": \"none\", \"entities\": {}}}\n",
      "\n",
      "_________________________________________________________________________________________________________________________\n",
      "Mesaje de la API de Facebook-> \n",
      " {'object': 'page', 'entry': [{'id': '106842278334918', 'time': 1625687711210, 'messaging': [{'sender': {'id': '3992952420759571'}, 'recipient': {'id': '106842278334918'}, 'timestamp': 1625687711247, 'delivery': {'mids': ['m_HlznONcVKNXtxH2jdWmMIm5LdZJwKC-4WNAMDG3FPBBW-fHwPA7sYm_EISFy4MybBtN3r1GpS8JAr4QAdGCGdQ'], 'watermark': 1625687711009}}]}]}\n"
     ]
    },
    {
     "name": "stderr",
     "output_type": "stream",
     "text": [
      "127.0.0.1 - - [07/Jul/2021 14:55:08] \"\u001b[37mPOST /apiREST/v1 HTTP/1.1\u001b[0m\" 200 -\n"
     ]
    },
    {
     "name": "stdout",
     "output_type": "stream",
     "text": [
      "\n",
      "_________________________________________________________________________________________________________________________\n",
      "Mesaje de la API de Facebook-> \n",
      " {'object': 'page', 'entry': [{'id': '106842278334918', 'time': 1625687711317, 'messaging': [{'sender': {'id': '3992952420759571'}, 'recipient': {'id': '106842278334918'}, 'timestamp': 1625687711473, 'read': {'watermark': 1625687711282}}]}]}\n",
      "\n",
      "_________________________________________________________________________________________________________________________\n",
      "\t\t\n",
      "Respuesta del Nucleo Logico->  hilo consume{'Respuesta': {'content': 'Hola oswaldo', 'next_id': 'QuickReply | bef89a36-7587-4bb2-a5d3-11c09b410294 | oIgvWKILDrYMYDjlgAIk', 'blockType': 'informativo', 'contentType': 'text', 'typingTime': '1', 'payload': {'content': '', 'state': 'Informativo | 2edb2c69-beb8-471f-9799-940599824c36 | oIgvWKILDrYMYDjlgAIk', 'recipient_id': '106842278334918', 'entities': {}, 'access_token': 'EAAFMtaIPwugBAIRPT4mTm2a9nei1940NrJqMbhvvyPwfZAUZA6Id2YaXUeSu06TENy0QoDsprATI0J2ZCGHS2X6UQ4TG2AWkIbNQ3LLGdRMORJZBZBT9BhB58QusrYaXG90RiZAog3r9THJCXmX1m7vjArQ3KoX3PrEGYehS4j6TSblsfU73uf'}}}\n",
      "\n",
      " [.] Got %r None\n",
      "\n",
      "\n",
      "---------------------------------------------------------------------------\n",
      "mensaje enviado a la API de facebook:\n",
      " {'message': {'text': 'Hola oswaldo'}, 'recipient': {'id': '106842278334918'}, 'notification_type': 'REGULAR'}\n",
      " [.] Got %r None\n"
     ]
    },
    {
     "name": "stderr",
     "output_type": "stream",
     "text": [
      "127.0.0.1 - - [07/Jul/2021 14:55:11] \"\u001b[37mPOST /apiREST/v1 HTTP/1.1\u001b[0m\" 200 -\n"
     ]
    },
    {
     "name": "stdout",
     "output_type": "stream",
     "text": [
      "\n",
      "_________________________________________________________________________________________________________________________\n",
      "Mesaje de la API de Facebook-> \n",
      " {'object': 'page', 'entry': [{'id': '106842278334918', 'time': 1625687713965, 'messaging': [{'sender': {'id': '3992952420759571'}, 'recipient': {'id': '106842278334918'}, 'timestamp': 1625687714063, 'read': {'watermark': 1625687713575}}]}]}\n",
      "hilo consume\n",
      " [.] Got %r None\n"
     ]
    },
    {
     "name": "stderr",
     "output_type": "stream",
     "text": [
      "127.0.0.1 - - [07/Jul/2021 14:55:11] \"\u001b[37mPOST /apiREST/v1 HTTP/1.1\u001b[0m\" 200 -\n"
     ]
    },
    {
     "name": "stdout",
     "output_type": "stream",
     "text": [
      "\n",
      "_________________________________________________________________________________________________________________________\n",
      "Mesaje de la API de Facebook-> \n",
      " {'object': 'page', 'entry': [{'id': '106842278334918', 'time': 1625687714168, 'messaging': [{'sender': {'id': '3992952420759571'}, 'recipient': {'id': '106842278334918'}, 'timestamp': 1625687714009, 'postback': {'title': 'Op2', 'payload': 'Op2', 'mid': 'm_qnXqApZYM8SMUSfW3shgem5LdZJwKC-4WNAMDG3FPBCRd8ovZc8q0KkSUOFUwftKA7QMTQa-rPUceMNtZRuMYw'}}]}]}\n",
      "hilo consume\n",
      "\n",
      "______________________________________________no read__________________________________________________________________________\n",
      "\n",
      "\t\tMensaje enviado al Nucleo Logico->\n",
      "  {\"payload\": {\"robot\": \"none\", \"id_face\": \"106842278334918\", \"recipient_id\": \"3992952420759571\", \"access_token\": \"none\", \"content\": \"Op2\", \"type_resp\": \"postback\", \"state\": \"none\", \"blocktype\": \"none\", \"opciones\": \"none\", \"entities\": {}}}\n",
      "\n",
      "_________________________________________________________________________________________________________________________\n",
      "\t\t\n",
      "Respuesta del Nucleo Logico->  {'Respuesta': {'content': 'Adios Oswa', 'next_id': 'Salida', 'blockType': 'informativo', 'contentType': 'text', 'typingTime': '1', 'payload': {'content': '', 'state': 'Informativo | c172acd8-1edc-4d5b-ac66-fdf02dfe35ff | oIgvWKILDrYMYDjlgAIk', 'recipient_id': '3992952420759571', 'entities': {'variableQrQuickReply_|_bef89a36-7587-4bb2-a5d3-11c09b4102942993': 'Op2'}, 'access_token': 'EAAFMtaIPwugBAIRPT4mTm2a9nei1940NrJqMbhvvyPwfZAUZA6Id2YaXUeSu06TENy0QoDsprATI0J2ZCGHS2X6UQ4TG2AWkIbNQ3LLGdRMORJZBZBT9BhB58QusrYaXG90RiZAog3r9THJCXmX1m7vjArQ3KoX3PrEGYehS4j6TSblsfU73uf'}}}\n"
     ]
    },
    {
     "name": "stderr",
     "output_type": "stream",
     "text": [
      "127.0.0.1 - - [07/Jul/2021 14:55:12] \"\u001b[37mPOST /apiREST/v1 HTTP/1.1\u001b[0m\" 200 -\n"
     ]
    },
    {
     "name": "stdout",
     "output_type": "stream",
     "text": [
      "\n",
      "\n",
      "---------------------------------------------------------------------------\n",
      "mensaje enviado a la API de facebook:\n",
      " {'message': {'text': 'Adios Oswa'}, 'recipient': {'id': '3992952420759571'}, 'notification_type': 'REGULAR'}\n",
      " [.] Got %r None\n",
      "\n",
      "_________________________________________________________________________________________________________________________\n",
      "Mesaje de la API de Facebook-> \n",
      " {'object': 'page', 'entry': [{'id': '106842278334918', 'time': 1625687715265, 'messaging': [{'sender': {'id': '106842278334918'}, 'recipient': {'id': '3992952420759571'}, 'timestamp': 1625687715224, 'message': {'mid': 'm_2tnjqRPQnrAEfzsy-PrGpW5LdZJwKC-4WNAMDG3FPBBYRFCUM0r_bC8c4y-qub0j0MOcqMdCqcK41qEZyxKqpA', 'is_echo': True, 'text': 'Adios Oswa', 'app_id': 365817968444136}}]}]}\n",
      "[{'sender': {'id': '106842278334918'}, 'recipient': {'id': '3992952420759571'}, 'timestamp': 1625687715224, 'message': {'mid': 'm_2tnjqRPQnrAEfzsy-PrGpW5LdZJwKC-4WNAMDG3FPBBYRFCUM0r_bC8c4y-qub0j0MOcqMdCqcK41qEZyxKqpA', 'is_echo': True, 'text': 'Adios Oswa', 'app_id': 365817968444136}}]\n",
      "hilo consume\n",
      "\n",
      "______________________________________________no read__________________________________________________________________________\n",
      "\n",
      "\t\tMensaje enviado al Nucleo Logico->\n",
      "  {\"payload\": {\"robot\": \"none\", \"id_face\": \"106842278334918\", \"recipient_id\": \"106842278334918\", \"access_token\": \"none\", \"content\": \"Adios Oswa\", \"type_resp\": \"message\", \"state\": \"none\", \"blocktype\": \"none\", \"opciones\": \"none\", \"entities\": {}}}\n"
     ]
    },
    {
     "name": "stderr",
     "output_type": "stream",
     "text": [
      "127.0.0.1 - - [07/Jul/2021 14:55:12] \"\u001b[37mPOST /apiREST/v1 HTTP/1.1\u001b[0m\" 200 -\n",
      "127.0.0.1 - - [07/Jul/2021 14:55:12] \"\u001b[37mPOST /apiREST/v1 HTTP/1.1\u001b[0m\" 200 -\n"
     ]
    },
    {
     "name": "stdout",
     "output_type": "stream",
     "text": [
      "\n",
      "_________________________________________________________________________________________________________________________\n",
      "Mesaje de la API de Facebook-> \n",
      " {'object': 'page', 'entry': [{'id': '106842278334918', 'time': 1625687715348, 'messaging': [{'sender': {'id': '3992952420759571'}, 'recipient': {'id': '106842278334918'}, 'timestamp': 1625687715411, 'delivery': {'mids': ['m_2tnjqRPQnrAEfzsy-PrGpW5LdZJwKC-4WNAMDG3FPBBYRFCUM0r_bC8c4y-qub0j0MOcqMdCqcK41qEZyxKqpA'], 'watermark': 1625687715224}}]}]}\n",
      "\n",
      "_________________________________________________________________________________________________________________________\n",
      "Mesaje de la API de Facebook-> \n",
      " {'object': 'page', 'entry': [{'id': '106842278334918', 'time': 1625687715384, 'messaging': [{'sender': {'id': '3992952420759571'}, 'recipient': {'id': '106842278334918'}, 'timestamp': 1625687715546, 'read': {'watermark': 1625687715347}}]}]}\n",
      "\n",
      "_________________________________________________________________________________________________________________________\n",
      "\t\t\n",
      "Respuesta del Nucleo Logico->  {'Respuesta': {'content': 'Hola oswaldo', 'next_id': 'QuickReply | bef89a36-7587-4bb2-a5d3-11c09b410294 | oIgvWKILDrYMYDjlgAIk', 'blockType': 'informativo', 'contentType': 'text', 'typingTime': '1', 'payload': {'content': '', 'state': 'Informativo | 2edb2c69-beb8-471f-9799-940599824c36 | oIgvWKILDrYMYDjlgAIk', 'recipient_id': '106842278334918', 'entities': {}, 'access_token': 'EAAFMtaIPwugBAIRPT4mTm2a9nei1940NrJqMbhvvyPwfZAUZA6Id2YaXUeSu06TENy0QoDsprATI0J2ZCGHS2X6UQ4TG2AWkIbNQ3LLGdRMORJZBZBT9BhB58QusrYaXG90RiZAog3r9THJCXmX1m7vjArQ3KoX3PrEGYehS4j6TSblsfU73uf'}}}\n",
      "hilo consume\n",
      "\n",
      "\n",
      "---------------------------------------------------------------------------\n",
      "mensaje enviado a la API de facebook:\n",
      " {'message': {'text': 'Hola oswaldo'}, 'recipient': {'id': '106842278334918'}, 'notification_type': 'REGULAR'}\n",
      " [.] Got %r None\n"
     ]
    },
    {
     "name": "stderr",
     "output_type": "stream",
     "text": [
      "127.0.0.1 - - [07/Jul/2021 14:58:21] \"\u001b[37mPOST /apiREST/v1 HTTP/1.1\u001b[0m\" 200 -\n"
     ]
    },
    {
     "name": "stdout",
     "output_type": "stream",
     "text": [
      "\n",
      "_________________________________________________________________________________________________________________________\n",
      "Mesaje de la API de Facebook-> \n",
      " {'object': 'page', 'entry': [{'id': '106842278334918', 'time': 1625687904296, 'messaging': [{'sender': {'id': '3992952420759571'}, 'recipient': {'id': '106842278334918'}, 'timestamp': 1625687904391, 'read': {'watermark': 1625687903875}}]}]}\n",
      "hilo consume\n",
      " [.] Got %r None\n",
      "\n",
      "_________________________________________________________________________________________________________________________\n",
      "Mesaje de la API de Facebook-> \n",
      " {'object': 'page', 'entry': [{'id': '106842278334918', 'time': 1625687904441, 'messaging': [{'sender': {'id': '3992952420759571'}, 'recipient': {'id': '106842278334918'}, 'timestamp': 1625687904334, 'message': {'mid': 'm_AMzmuZ3A2jYfB9yfV1NVyW5LdZJwKC-4WNAMDG3FPBBbjkiAepQbCgVOcV0SWuIaMlVPKGymBUGOyJ3Qp3FZ8Q', 'text': 'Hola'}}]}]}\n",
      "[{'sender': {'id': '3992952420759571'}, 'recipient': {'id': '106842278334918'}, 'timestamp': 1625687904334, 'message': {'mid': 'm_AMzmuZ3A2jYfB9yfV1NVyW5LdZJwKC-4WNAMDG3FPBBbjkiAepQbCgVOcV0SWuIaMlVPKGymBUGOyJ3Qp3FZ8Q', 'text': 'Hola'}}]\n"
     ]
    },
    {
     "name": "stderr",
     "output_type": "stream",
     "text": [
      "127.0.0.1 - - [07/Jul/2021 14:58:21] \"\u001b[37mPOST /apiREST/v1 HTTP/1.1\u001b[0m\" 200 -\n"
     ]
    },
    {
     "name": "stdout",
     "output_type": "stream",
     "text": [
      "hilo consume\n",
      "\n",
      "______________________________________________no read__________________________________________________________________________\n",
      "\n",
      "\t\tMensaje enviado al Nucleo Logico->\n",
      "  {\"payload\": {\"robot\": \"none\", \"id_face\": \"106842278334918\", \"recipient_id\": \"3992952420759571\", \"access_token\": \"none\", \"content\": \"Hola\", \"type_resp\": \"message\", \"state\": \"none\", \"blocktype\": \"none\", \"opciones\": \"none\", \"entities\": {}}}\n",
      "\n",
      "_________________________________________________________________________________________________________________________\n",
      "\t\t\n",
      "Respuesta del Nucleo Logico->  {'Respuesta': {'content': 'Hola oswaldo', 'next_id': 'Carrusel | 20088b9a-b5fa-4089-a72d-9ced45cbd899 | oIgvWKILDrYMYDjlgAIk', 'blockType': 'informativo', 'contentType': 'text', 'typingTime': '1', 'payload': {'content': '', 'state': 'Informativo | 2edb2c69-beb8-471f-9799-940599824c36 | oIgvWKILDrYMYDjlgAIk', 'recipient_id': '3992952420759571', 'entities': {}, 'access_token': 'EAAFMtaIPwugBAIRPT4mTm2a9nei1940NrJqMbhvvyPwfZAUZA6Id2YaXUeSu06TENy0QoDsprATI0J2ZCGHS2X6UQ4TG2AWkIbNQ3LLGdRMORJZBZBT9BhB58QusrYaXG90RiZAog3r9THJCXmX1m7vjArQ3KoX3PrEGYehS4j6TSblsfU73uf'}}}\n"
     ]
    },
    {
     "name": "stderr",
     "output_type": "stream",
     "text": [
      "127.0.0.1 - - [07/Jul/2021 14:58:22] \"\u001b[37mPOST /apiREST/v1 HTTP/1.1\u001b[0m\" 200 -\n"
     ]
    },
    {
     "name": "stdout",
     "output_type": "stream",
     "text": [
      "\n",
      "\n",
      "---------------------------------------------------------------------------\n",
      "mensaje enviado a la API de facebook:\n",
      " {'message': {'text': 'Hola oswaldo'}, 'recipient': {'id': '3992952420759571'}, 'notification_type': 'REGULAR'}\n",
      " [.] Got %r None\n",
      "\n",
      "_________________________________________________________________________________________________________________________\n",
      "Mesaje de la API de Facebook-> \n",
      " {'object': 'page', 'entry': [{'id': '106842278334918', 'time': 1625687905553, 'messaging': [{'sender': {'id': '106842278334918'}, 'recipient': {'id': '3992952420759571'}, 'timestamp': 1625687905467, 'message': {'mid': 'm_tgdE9oUZMZszw3VD33s-Nm5LdZJwKC-4WNAMDG3FPBBS2HMqYiI6QhgO50wWA-TkcHFNwOqOF2EEESwDmJ5P8A', 'is_echo': True, 'text': 'Hola oswaldo', 'app_id': 365817968444136}}]}]}\n",
      "[{'sender': {'id': '106842278334918'}, 'recipient': {'id': '3992952420759571'}, 'timestamp': 1625687905467, 'message': {'mid': 'm_tgdE9oUZMZszw3VD33s-Nm5LdZJwKC-4WNAMDG3FPBBS2HMqYiI6QhgO50wWA-TkcHFNwOqOF2EEESwDmJ5P8A', 'is_echo': True, 'text': 'Hola oswaldo', 'app_id': 365817968444136}}]\n",
      "hilo consume\n",
      "\n",
      "______________________________________________no read__________________________________________________________________________\n",
      "\n",
      "\t\tMensaje enviado al Nucleo Logico->\n",
      "  {\"payload\": {\"robot\": \"none\", \"id_face\": \"106842278334918\", \"recipient_id\": \"106842278334918\", \"access_token\": \"none\", \"content\": \"Hola oswaldo\", \"type_resp\": \"message\", \"state\": \"none\", \"blocktype\": \"none\", \"opciones\": \"none\", \"entities\": {}}}\n"
     ]
    },
    {
     "name": "stderr",
     "output_type": "stream",
     "text": [
      "127.0.0.1 - - [07/Jul/2021 14:58:22] \"\u001b[37mPOST /apiREST/v1 HTTP/1.1\u001b[0m\" 200 -\n"
     ]
    },
    {
     "name": "stdout",
     "output_type": "stream",
     "text": [
      "\n",
      "_________________________________________________________________________________________________________________________\n",
      "Mesaje de la API de Facebook-> \n",
      " {'object': 'page', 'entry': [{'id': '106842278334918', 'time': 1625687905670, 'messaging': [{'sender': {'id': '3992952420759571'}, 'recipient': {'id': '106842278334918'}, 'timestamp': 1625687905711, 'delivery': {'mids': ['m_tgdE9oUZMZszw3VD33s-Nm5LdZJwKC-4WNAMDG3FPBBS2HMqYiI6QhgO50wWA-TkcHFNwOqOF2EEESwDmJ5P8A'], 'watermark': 1625687905467}}]}]}\n",
      "\n",
      "_________________________________________________________________________________________________________________________"
     ]
    },
    {
     "name": "stderr",
     "output_type": "stream",
     "text": [
      "127.0.0.1 - - [07/Jul/2021 14:58:23] \"\u001b[37mPOST /apiREST/v1 HTTP/1.1\u001b[0m\" 200 -\n"
     ]
    },
    {
     "name": "stdout",
     "output_type": "stream",
     "text": [
      "\n",
      "\t\t\n",
      "Respuesta del Nucleo Logico->  {'Respuesta': {'content': 'Hola oswaldo', 'next_id': 'Carrusel | 20088b9a-b5fa-4089-a72d-9ced45cbd899 | oIgvWKILDrYMYDjlgAIk', 'blockType': 'informativo', 'contentType': 'text', 'typingTime': '1', 'payload': {'content': '', 'state': 'Informativo | 2edb2c69-beb8-471f-9799-940599824c36 | oIgvWKILDrYMYDjlgAIk', 'recipient_id': '106842278334918', 'entities': {}, 'access_token': 'EAAFMtaIPwugBAIRPT4mTm2a9nei1940NrJqMbhvvyPwfZAUZA6Id2YaXUeSu06TENy0QoDsprATI0J2ZCGHS2X6UQ4TG2AWkIbNQ3LLGdRMORJZBZBT9BhB58QusrYaXG90RiZAog3r9THJCXmX1m7vjArQ3KoX3PrEGYehS4j6TSblsfU73uf'}}}\n",
      "\n",
      "_________________________________________________________________________________________________________________________\n",
      "Mesaje de la API de Facebook-> \n",
      " {'object': 'page', 'entry': [{'id': '106842278334918', 'time': 1625687905730, 'messaging': [{'sender': {'id': '3992952420759571'}, 'recipient': {'id': '106842278334918'}, 'timestamp': 1625687905879, 'read': {'watermark': 1625687905693}}]}]}\n",
      "hilo consume\n",
      "\n",
      "\n",
      "---------------------------------------------------------------------------\n",
      "mensaje enviado a la API de facebook:\n",
      " {'message': {'text': 'Hola oswaldo'}, 'recipient': {'id': '106842278334918'}, 'notification_type': 'REGULAR'}\n",
      " [.] Got %r None\n",
      "\n",
      "_________________________________________________________________________________________________________________________\n",
      "\t\t\n",
      "Respuesta del Nucleo Logico->  {'Respuesta': {'content': [{'title': 'Img1', 'image_url': 'https://www.gettyimages.es/gi-resources/images/500px/983794168.jpg', 'subtitle': 'sub1', 'buttons': [{'titleButton': 'Btn1P1', 'typeButton': 'postback', 'payloadButton': 'Informativo | c172acd8-1edc-4d5b-ac66-fdf02dfe35ff | oIgvWKILDrYMYDjlgAIk'}, {'titleButton': 'Btn2p2', 'typeButton': 'postback', 'payloadButton': 'Informativo | c172acd8-1edc-4d5b-ac66-fdf02dfe35ff | oIgvWKILDrYMYDjlgAIk'}]}, {'title': 'Img2', 'image_url': 'https://analyticsindiamag.com/wp-content/uploads/2020/10/7d744a684fe03ebc7e8de545f97739dd.jpg', 'subtitle': 'sub3', 'buttons': [{'titleButton': 'btn1P2', 'typeButton': 'postback', 'payloadButton': 'Informativo | c172acd8-1edc-4d5b-ac66-fdf02dfe35ff | oIgvWKILDrYMYDjlgAIk'}, {'titleButton': 'Btn2P2', 'typeButton': 'postback', 'payloadButton': 'Informativo | c172acd8-1edc-4d5b-ac66-fdf02dfe35ff | oIgvWKILDrYMYDjlgAIk'}]}, {'title': 'Img3', 'image_url': 'https://spaceplace.nasa.gov/gallery-sun/en/solar-flare.en.jpg', 'subtitle': 'Sub3', 'buttons': [{'titleButton': 'Btn1P3', 'typeButton': 'postback', 'payloadButton': 'Informativo | c172acd8-1edc-4d5b-ac66-fdf02dfe35ff | oIgvWKILDrYMYDjlgAIk'}, {'titleButton': 'Btn1P3', 'typeButton': 'postback', 'payloadButton': 'Informativo | c172acd8-1edc-4d5b-ac66-fdf02dfe35ff | oIgvWKILDrYMYDjlgAIk'}]}], 'next_id': ['Informativo | c172acd8-1edc-4d5b-ac66-fdf02dfe35ff | oIgvWKILDrYMYDjlgAIk', 'Informativo | c172acd8-1edc-4d5b-ac66-fdf02dfe35ff | oIgvWKILDrYMYDjlgAIk', 'Informativo | c172acd8-1edc-4d5b-ac66-fdf02dfe35ff | oIgvWKILDrYMYDjlgAIk', 'Informativo | c172acd8-1edc-4d5b-ac66-fdf02dfe35ff | oIgvWKILDrYMYDjlgAIk', 'Informativo | c172acd8-1edc-4d5b-ac66-fdf02dfe35ff | oIgvWKILDrYMYDjlgAIk', 'Informativo | c172acd8-1edc-4d5b-ac66-fdf02dfe35ff | oIgvWKILDrYMYDjlgAIk'], 'blockType': 'slide', 'contentType': ' ', 'typingTime': 1, 'payload': {'content': '', 'state': 'Carrusel | 20088b9a-b5fa-4089-a72d-9ced45cbd899 | oIgvWKILDrYMYDjlgAIk', 'recipient_id': '3992952420759571', 'entities': {}, 'access_token': 'EAAFMtaIPwugBAIRPT4mTm2a9nei1940NrJqMbhvvyPwfZAUZA6Id2YaXUeSu06TENy0QoDsprATI0J2ZCGHS2X6UQ4TG2AWkIbNQ3LLGdRMORJZBZBT9BhB58QusrYaXG90RiZAog3r9THJCXmX1m7vjArQ3KoX3PrEGYehS4j6TSblsfU73uf'}, 'default_id': 'Carrusel | 20088b9a-b5fa-4089-a72d-9ced45cbd899 | oIgvWKILDrYMYDjlgAIk', 'save_var': '0'}}\n",
      "pyload slide:  {'recipient': {'id': '3992952420759571'}, 'message': {'attachment': {'type': 'template', 'payload': {'template_type': 'generic', 'elements': [{'title': 'Img1', 'image_url': 'https://www.gettyimages.es/gi-resources/images/500px/983794168.jpg', 'subtitle': 'sub1', 'buttons': [{'title': 'Btn1P1', 'type': 'postback', 'payload': 'Informativo | c172acd8-1edc-4d5b-ac66-fdf02dfe35ff | oIgvWKILDrYMYDjlgAIk'}, {'title': 'Btn2p2', 'type': 'postback', 'payload': 'Informativo | c172acd8-1edc-4d5b-ac66-fdf02dfe35ff | oIgvWKILDrYMYDjlgAIk'}]}, {'title': 'Img2', 'image_url': 'https://analyticsindiamag.com/wp-content/uploads/2020/10/7d744a684fe03ebc7e8de545f97739dd.jpg', 'subtitle': 'sub3', 'buttons': [{'title': 'btn1P2', 'type': 'postback', 'payload': 'Informativo | c172acd8-1edc-4d5b-ac66-fdf02dfe35ff | oIgvWKILDrYMYDjlgAIk'}, {'title': 'Btn2P2', 'type': 'postback', 'payload': 'Informativo | c172acd8-1edc-4d5b-ac66-fdf02dfe35ff | oIgvWKILDrYMYDjlgAIk'}]}, {'title': 'Img3', 'image_url': 'https://spaceplace.nasa.gov/gallery-sun/en/solar-flare.en.jpg', 'subtitle': 'Sub3', 'buttons': [{'title': 'Btn1P3', 'type': 'postback', 'payload': 'Informativo | c172acd8-1edc-4d5b-ac66-fdf02dfe35ff | oIgvWKILDrYMYDjlgAIk'}, {'title': 'Btn1P3', 'type': 'postback', 'payload': 'Informativo | c172acd8-1edc-4d5b-ac66-fdf02dfe35ff | oIgvWKILDrYMYDjlgAIk'}]}]}}}, 'notification_type': 'REGULAR'}\n",
      "\n",
      "\n",
      "---------------------------------------------------------------------------\n",
      "mensaje enviado a la API de facebook:\n",
      " {'recipient': {'id': '3992952420759571'}, 'message': {'attachment': {'type': 'template', 'payload': {'template_type': 'generic', 'elements': [{'title': 'Img1', 'image_url': 'https://www.gettyimages.es/gi-resources/images/500px/983794168.jpg', 'subtitle': 'sub1', 'buttons': [{'title': 'Btn1P1', 'type': 'postback', 'payload': 'Informativo | c172acd8-1edc-4d5b-ac66-fdf02dfe35ff | oIgvWKILDrYMYDjlgAIk'}, {'title': 'Btn2p2', 'type': 'postback', 'payload': 'Informativo | c172acd8-1edc-4d5b-ac66-fdf02dfe35ff | oIgvWKILDrYMYDjlgAIk'}]}, {'title': 'Img2', 'image_url': 'https://analyticsindiamag.com/wp-content/uploads/2020/10/7d744a684fe03ebc7e8de545f97739dd.jpg', 'subtitle': 'sub3', 'buttons': [{'title': 'btn1P2', 'type': 'postback', 'payload': 'Informativo | c172acd8-1edc-4d5b-ac66-fdf02dfe35ff | oIgvWKILDrYMYDjlgAIk'}, {'title': 'Btn2P2', 'type': 'postback', 'payload': 'Informativo | c172acd8-1edc-4d5b-ac66-fdf02dfe35ff | oIgvWKILDrYMYDjlgAIk'}]}, {'title': 'Img3', 'image_url': 'https://spaceplace.nasa.gov/gallery-sun/en/solar-flare.en.jpg', 'subtitle': 'Sub3', 'buttons': [{'title': 'Btn1P3', 'type': 'postback', 'payload': 'Informativo | c172acd8-1edc-4d5b-ac66-fdf02dfe35ff | oIgvWKILDrYMYDjlgAIk'}, {'title': 'Btn1P3', 'type': 'postback', 'payload': 'Informativo | c172acd8-1edc-4d5b-ac66-fdf02dfe35ff | oIgvWKILDrYMYDjlgAIk'}]}]}}}, 'notification_type': 'REGULAR'}\n",
      " [.] Got %r None\n"
     ]
    },
    {
     "name": "stderr",
     "output_type": "stream",
     "text": [
      "127.0.0.1 - - [07/Jul/2021 14:58:24] \"\u001b[37mPOST /apiREST/v1 HTTP/1.1\u001b[0m\" 200 -\n",
      "127.0.0.1 - - [07/Jul/2021 14:58:24] \"\u001b[37mPOST /apiREST/v1 HTTP/1.1\u001b[0m\" 200 -\n"
     ]
    },
    {
     "name": "stdout",
     "output_type": "stream",
     "text": [
      "\n",
      "_________________________________________________________________________________________________________________________\n",
      "Mesaje de la API de Facebook-> \n",
      " {'object': 'page', 'entry': [{'id': '106842278334918', 'time': 1625687907467, 'messaging': [{'sender': {'id': '106842278334918'}, 'recipient': {'id': '3992952420759571'}, 'timestamp': 1625687907420, 'message': {'mid': 'm_JzxWaUDsvOgVZG_PWYTgEm5LdZJwKC-4WNAMDG3FPBBbAfRKb4SxxWIeSsQzGsgwJxu7NdgRhkmbl40TV7l71A', 'is_echo': True, 'app_id': 365817968444136, 'attachments': [{'title': 'Img1, Img2, Img3', 'url': None, 'type': 'template', 'payload': {'template_type': 'generic', 'sharable': False, 'elements': [{'title': 'Img1', 'image_url': 'https://www.gettyimages.es/gi-resources/images/500px/983794168.jpg', 'subtitle': 'sub1', 'buttons': [{'type': 'postback', 'title': 'Btn1P1', 'payload': 'Informativo | c172acd8-1edc-4d5b-ac66-fdf02dfe35ff | oIgvWKILDrYMYDjlgAIk'}, {'type': 'postback', 'title': 'Btn2p2', 'payload': 'Informativo | c172acd8-1edc-4d5b-ac66-fdf02dfe35ff | oIgvWKILDrYMYDjlgAIk'}]}, {'title': 'Img2', 'image_url': 'https://analyticsindiamag.com/wp-content/uploads/2020/10/7d744a684fe03ebc7e8de545f97739dd.jpg', 'subtitle': 'sub3', 'buttons': [{'type': 'postback', 'title': 'btn1P2', 'payload': 'Informativo | c172acd8-1edc-4d5b-ac66-fdf02dfe35ff | oIgvWKILDrYMYDjlgAIk'}, {'type': 'postback', 'title': 'Btn2P2', 'payload': 'Informativo | c172acd8-1edc-4d5b-ac66-fdf02dfe35ff | oIgvWKILDrYMYDjlgAIk'}]}, {'title': 'Img3', 'image_url': 'https://spaceplace.nasa.gov/gallery-sun/en/solar-flare.en.jpg', 'subtitle': 'Sub3', 'buttons': [{'type': 'postback', 'title': 'Btn1P3', 'payload': 'Informativo | c172acd8-1edc-4d5b-ac66-fdf02dfe35ff | oIgvWKILDrYMYDjlgAIk'}, {'type': 'postback', 'title': 'Btn1P3', 'payload': 'Informativo | c172acd8-1edc-4d5b-ac66-fdf02dfe35ff | oIgvWKILDrYMYDjlgAIk'}]}]}}]}}]}]}\n",
      "[{'sender': {'id': '106842278334918'}, 'recipient': {'id': '3992952420759571'}, 'timestamp': 1625687907420, 'message': {'mid': 'm_JzxWaUDsvOgVZG_PWYTgEm5LdZJwKC-4WNAMDG3FPBBbAfRKb4SxxWIeSsQzGsgwJxu7NdgRhkmbl40TV7l71A', 'is_echo': True, 'app_id': 365817968444136, 'attachments': [{'title': 'Img1, Img2, Img3', 'url': None, 'type': 'template', 'payload': {'template_type': 'generic', 'sharable': False, 'elements': [{'title': 'Img1', 'image_url': 'https://www.gettyimages.es/gi-resources/images/500px/983794168.jpg', 'subtitle': 'sub1', 'buttons': [{'type': 'postback', 'title': 'Btn1P1', 'payload': 'Informativo | c172acd8-1edc-4d5b-ac66-fdf02dfe35ff | oIgvWKILDrYMYDjlgAIk'}, {'type': 'postback', 'title': 'Btn2p2', 'payload': 'Informativo | c172acd8-1edc-4d5b-ac66-fdf02dfe35ff | oIgvWKILDrYMYDjlgAIk'}]}, {'title': 'Img2', 'image_url': 'https://analyticsindiamag.com/wp-content/uploads/2020/10/7d744a684fe03ebc7e8de545f97739dd.jpg', 'subtitle': 'sub3', 'buttons': [{'type': 'postback', 'title': 'btn1P2', 'payload': 'Informativo | c172acd8-1edc-4d5b-ac66-fdf02dfe35ff | oIgvWKILDrYMYDjlgAIk'}, {'type': 'postback', 'title': 'Btn2P2', 'payload': 'Informativo | c172acd8-1edc-4d5b-ac66-fdf02dfe35ff | oIgvWKILDrYMYDjlgAIk'}]}, {'title': 'Img3', 'image_url': 'https://spaceplace.nasa.gov/gallery-sun/en/solar-flare.en.jpg', 'subtitle': 'Sub3', 'buttons': [{'type': 'postback', 'title': 'Btn1P3', 'payload': 'Informativo | c172acd8-1edc-4d5b-ac66-fdf02dfe35ff | oIgvWKILDrYMYDjlgAIk'}, {'type': 'postback', 'title': 'Btn1P3', 'payload': 'Informativo | c172acd8-1edc-4d5b-ac66-fdf02dfe35ff | oIgvWKILDrYMYDjlgAIk'}]}]}}]}}]\n",
      "hilo consume\n",
      "\n",
      "______________________________________________no read__________________________________________________________________________\n",
      "\n",
      "\t\tMensaje enviado al Nucleo Logico->\n",
      "  {\"payload\": {\"robot\": \"none\", \"id_face\": \"106842278334918\", \"recipient_id\": \"106842278334918\", \"access_token\": \"none\", \"content\": [{\"title\": \"Img1, Img2, Img3\", \"url\": null, \"type\": \"template\", \"payload\": {\"template_type\": \"generic\", \"sharable\": false, \"elements\": [{\"title\": \"Img1\", \"image_url\": \"https://www.gettyimages.es/gi-resources/images/500px/983794168.jpg\", \"subtitle\": \"sub1\", \"buttons\": [{\"type\": \"postback\", \"title\": \"Btn1P1\", \"payload\": \"Informativo | c172acd8-1edc-4d5b-ac66-fdf02dfe35ff | oIgvWKILDrYMYDjlgAIk\"}, {\"type\": \"postback\", \"title\": \"Btn2p2\", \"payload\": \"Informativo | c172acd8-1edc-4d5b-ac66-fdf02dfe35ff | oIgvWKILDrYMYDjlgAIk\"}]}, {\"title\": \"Img2\", \"image_url\": \"https://analyticsindiamag.com/wp-content/uploads/2020/10/7d744a684fe03ebc7e8de545f97739dd.jpg\", \"subtitle\": \"sub3\", \"buttons\": [{\"type\": \"postback\", \"title\": \"btn1P2\", \"payload\": \"Informativo | c172acd8-1edc-4d5b-ac66-fdf02dfe35ff | oIgvWKILDrYMYDjlgAIk\"}, {\"type\": \"postback\", \"title\": \"Btn2P2\", \"payload\": \"Informativo | c172acd8-1edc-4d5b-ac66-fdf02dfe35ff | oIgvWKILDrYMYDjlgAIk\"}]}, {\"title\": \"Img3\", \"image_url\": \"https://spaceplace.nasa.gov/gallery-sun/en/solar-flare.en.jpg\", \"subtitle\": \"Sub3\", \"buttons\": [{\"type\": \"postback\", \"title\": \"Btn1P3\", \"payload\": \"Informativo | c172acd8-1edc-4d5b-ac66-fdf02dfe35ff | oIgvWKILDrYMYDjlgAIk\"}, {\"type\": \"postback\", \"title\": \"Btn1P3\", \"payload\": \"Informativo | c172acd8-1edc-4d5b-ac66-fdf02dfe35ff | oIgvWKILDrYMYDjlgAIk\"}]}]}}], \"type_resp\": \"message\", \"state\": \"none\", \"blocktype\": \"none\", \"opciones\": \"none\", \"entities\": {}}}\n",
      "\n",
      "_________________________________________________________________________________________________________________________\n",
      "Mesaje de la API de Facebook-> \n",
      " {'object': 'page', 'entry': [{'id': '106842278334918', 'time': 1625687907623, 'messaging': [{'sender': {'id': '3992952420759571'}, 'recipient': {'id': '106842278334918'}, 'timestamp': 1625687907664, 'delivery': {'mids': ['m_JzxWaUDsvOgVZG_PWYTgEm5LdZJwKC-4WNAMDG3FPBBbAfRKb4SxxWIeSsQzGsgwJxu7NdgRhkmbl40TV7l71A'], 'watermark': 1625687907420}}]}]}\n"
     ]
    },
    {
     "name": "stderr",
     "output_type": "stream",
     "text": [
      "127.0.0.1 - - [07/Jul/2021 14:58:24] \"\u001b[37mPOST /apiREST/v1 HTTP/1.1\u001b[0m\" 200 -\n"
     ]
    },
    {
     "name": "stdout",
     "output_type": "stream",
     "text": [
      "\n",
      "_________________________________________________________________________________________________________________________\n",
      "\t\t\n",
      "Respuesta del Nucleo Logico->  {'Respuesta': {'content': 'Hola oswaldo', 'next_id': 'Carrusel | 20088b9a-b5fa-4089-a72d-9ced45cbd899 | oIgvWKILDrYMYDjlgAIk', 'blockType': 'informativo', 'contentType': 'text', 'typingTime': '1', 'payload': {'content': '', 'state': 'Informativo | 2edb2c69-beb8-471f-9799-940599824c36 | oIgvWKILDrYMYDjlgAIk', 'recipient_id': '106842278334918', 'entities': {}, 'access_token': 'EAAFMtaIPwugBAIRPT4mTm2a9nei1940NrJqMbhvvyPwfZAUZA6Id2YaXUeSu06TENy0QoDsprATI0J2ZCGHS2X6UQ4TG2AWkIbNQ3LLGdRMORJZBZBT9BhB58QusrYaXG90RiZAog3r9THJCXmX1m7vjArQ3KoX3PrEGYehS4j6TSblsfU73uf'}}}\n",
      "\n",
      "_________________________________________________________________________________________________________________________\n",
      "Mesaje de la API de Facebook-> \n",
      " {'object': 'page', 'entry': [{'id': '106842278334918', 'time': 1625687907762, 'messaging': [{'sender': {'id': '3992952420759571'}, 'recipient': {'id': '106842278334918'}, 'timestamp': 1625687907916, 'read': {'watermark': 1625687907711}}]}]}\n",
      "hilo consume\n",
      " [.] Got %r None\n",
      "\n",
      "\n",
      "---------------------------------------------------------------------------\n",
      "mensaje enviado a la API de facebook:\n",
      " {'message': {'text': 'Hola oswaldo'}, 'recipient': {'id': '106842278334918'}, 'notification_type': 'REGULAR'}\n",
      " [.] Got %r None\n"
     ]
    },
    {
     "name": "stderr",
     "output_type": "stream",
     "text": [
      "127.0.0.1 - - [07/Jul/2021 14:58:32] \"\u001b[37mPOST /apiREST/v1 HTTP/1.1\u001b[0m\" 200 -\n"
     ]
    },
    {
     "name": "stdout",
     "output_type": "stream",
     "text": [
      "\n",
      "_________________________________________________________________________________________________________________________\n",
      "Mesaje de la API de Facebook-> \n",
      " {'object': 'page', 'entry': [{'id': '106842278334918', 'time': 1625687915669, 'messaging': [{'sender': {'id': '3992952420759571'}, 'recipient': {'id': '106842278334918'}, 'timestamp': 1625687915775, 'read': {'watermark': 1625687915277}}]}]}\n",
      "hilo consume\n",
      " [.] Got %r None\n"
     ]
    },
    {
     "name": "stderr",
     "output_type": "stream",
     "text": [
      "127.0.0.1 - - [07/Jul/2021 14:58:33] \"\u001b[37mPOST /apiREST/v1 HTTP/1.1\u001b[0m\" 200 -\n"
     ]
    },
    {
     "name": "stdout",
     "output_type": "stream",
     "text": [
      "\n",
      "_________________________________________________________________________________________________________________________\n",
      "Mesaje de la API de Facebook-> \n",
      " {'object': 'page', 'entry': [{'id': '106842278334918', 'time': 1625687915880, 'messaging': [{'sender': {'id': '3992952420759571'}, 'recipient': {'id': '106842278334918'}, 'timestamp': 1625687915710, 'postback': {'title': 'Btn1P1', 'payload': 'Informativo | c172acd8-1edc-4d5b-ac66-fdf02dfe35ff | oIgvWKILDrYMYDjlgAIk', 'mid': 'm_J49eJITagKkd5KPdSV3WwW5LdZJwKC-4WNAMDG3FPBCE_eppnBGzTtdybXO9hUN5bSy7uVfKXoqR5nQegdXZ-A'}}]}]}\n",
      "hilo consume\n",
      "\n",
      "\n",
      "______________________________________________no read__________________________________________________________________________\n",
      "\t\tMensaje enviado al Nucleo Logico->\n",
      "  {\"payload\": {\"robot\": \"none\", \"id_face\": \"106842278334918\", \"recipient_id\": \"3992952420759571\", \"access_token\": \"none\", \"content\": \"Informativo | c172acd8-1edc-4d5b-ac66-fdf02dfe35ff | oIgvWKILDrYMYDjlgAIk\", \"type_resp\": \"postback\", \"state\": \"none\", \"blocktype\": \"none\", \"opciones\": \"none\", \"entities\": {}}}\n",
      "\n",
      "_________________________________________________________________________________________________________________________\n",
      "\t\t\n",
      "Respuesta del Nucleo Logico->  {'Respuesta': {'content': 'Adios Oswa', 'next_id': 'Salida', 'blockType': 'informativo', 'contentType': 'text', 'typingTime': '1', 'payload': {'content': '', 'state': 'Informativo | c172acd8-1edc-4d5b-ac66-fdf02dfe35ff | oIgvWKILDrYMYDjlgAIk', 'recipient_id': '3992952420759571', 'entities': {'variableCarrCarrusel_|_20088b9a-b5fa-4089-a72d-9ced45cbd8992154': 'Informativo | c172acd8-1edc-4d5b-ac66-fdf02dfe35ff | oIgvWKILDrYMYDjlgAIk'}, 'access_token': 'EAAFMtaIPwugBAIRPT4mTm2a9nei1940NrJqMbhvvyPwfZAUZA6Id2YaXUeSu06TENy0QoDsprATI0J2ZCGHS2X6UQ4TG2AWkIbNQ3LLGdRMORJZBZBT9BhB58QusrYaXG90RiZAog3r9THJCXmX1m7vjArQ3KoX3PrEGYehS4j6TSblsfU73uf'}}}\n"
     ]
    },
    {
     "name": "stderr",
     "output_type": "stream",
     "text": [
      "127.0.0.1 - - [07/Jul/2021 14:58:34] \"\u001b[37mPOST /apiREST/v1 HTTP/1.1\u001b[0m\" 200 -\n"
     ]
    },
    {
     "name": "stdout",
     "output_type": "stream",
     "text": [
      "\n",
      "\n",
      "---------------------------------------------------------------------------\n",
      "mensaje enviado a la API de facebook:\n",
      " {'message': {'text': 'Adios Oswa'}, 'recipient': {'id': '3992952420759571'}, 'notification_type': 'REGULAR'}\n",
      " [.] Got %r None\n",
      "\n",
      "_________________________________________________________________________________________________________________________\n",
      "Mesaje de la API de Facebook-> \n",
      " {'object': 'page', 'entry': [{'id': '106842278334918', 'time': 1625687916936, 'messaging': [{'sender': {'id': '106842278334918'}, 'recipient': {'id': '3992952420759571'}, 'timestamp': 1625687916901, 'message': {'mid': 'm_OJwZFzhzfJPY5qEkuJ3NIG5LdZJwKC-4WNAMDG3FPBB3egrDYOtmj66wNd91R2NpK26NNOGtTdT2VxxyKNHWkQ', 'is_echo': True, 'text': 'Adios Oswa', 'app_id': 365817968444136}}]}]}\n",
      "[{'sender': {'id': '106842278334918'}, 'recipient': {'id': '3992952420759571'}, 'timestamp': 1625687916901, 'message': {'mid': 'm_OJwZFzhzfJPY5qEkuJ3NIG5LdZJwKC-4WNAMDG3FPBB3egrDYOtmj66wNd91R2NpK26NNOGtTdT2VxxyKNHWkQ', 'is_echo': True, 'text': 'Adios Oswa', 'app_id': 365817968444136}}]\n",
      "hilo consume\n",
      "\n",
      "\n",
      "______________________________________________no read__________________________________________________________________________\n",
      "\t\tMensaje enviado al Nucleo Logico->\n",
      "  {\"payload\": {\"robot\": \"none\", \"id_face\": \"106842278334918\", \"recipient_id\": \"106842278334918\", \"access_token\": \"none\", \"content\": \"Adios Oswa\", \"type_resp\": \"message\", \"state\": \"none\", \"blocktype\": \"none\", \"opciones\": \"none\", \"entities\": {}}}\n"
     ]
    },
    {
     "name": "stderr",
     "output_type": "stream",
     "text": [
      "127.0.0.1 - - [07/Jul/2021 14:58:34] \"\u001b[37mPOST /apiREST/v1 HTTP/1.1\u001b[0m\" 200 -\n",
      "127.0.0.1 - - [07/Jul/2021 14:58:34] \"\u001b[37mPOST /apiREST/v1 HTTP/1.1\u001b[0m\" 200 -\n"
     ]
    },
    {
     "name": "stdout",
     "output_type": "stream",
     "text": [
      "\n",
      "_________________________________________________________________________________________________________________________\n",
      "Mesaje de la API de Facebook-> \n",
      " {'object': 'page', 'entry': [{'id': '106842278334918', 'time': 1625687917034, 'messaging': [{'sender': {'id': '3992952420759571'}, 'recipient': {'id': '106842278334918'}, 'timestamp': 1625687917075, 'delivery': {'mids': ['m_OJwZFzhzfJPY5qEkuJ3NIG5LdZJwKC-4WNAMDG3FPBB3egrDYOtmj66wNd91R2NpK26NNOGtTdT2VxxyKNHWkQ'], 'watermark': 1625687916901}}]}]}\n",
      "\n",
      "_________________________________________________________________________________________________________________________\n",
      "Mesaje de la API de Facebook-> \n",
      " {'object': 'page', 'entry': [{'id': '106842278334918', 'time': 1625687917092, 'messaging': [{'sender': {'id': '3992952420759571'}, 'recipient': {'id': '106842278334918'}, 'timestamp': 1625687917247, 'read': {'watermark': 1625687917054}}]}]}\n",
      "hilo consume\n",
      "\n",
      "_________________________________________________________________________________________________________________________\n",
      "\t\t\n",
      "Respuesta del Nucleo Logico->  {'Respuesta': {'content': 'Hola oswaldo', 'next_id': 'Carrusel | 20088b9a-b5fa-4089-a72d-9ced45cbd899 | oIgvWKILDrYMYDjlgAIk', 'blockType': 'informativo', 'contentType': 'text', 'typingTime': '1', 'payload': {'content': '', 'state': 'Informativo | 2edb2c69-beb8-471f-9799-940599824c36 | oIgvWKILDrYMYDjlgAIk', 'recipient_id': '106842278334918', 'entities': {}, 'access_token': 'EAAFMtaIPwugBAIRPT4mTm2a9nei1940NrJqMbhvvyPwfZAUZA6Id2YaXUeSu06TENy0QoDsprATI0J2ZCGHS2X6UQ4TG2AWkIbNQ3LLGdRMORJZBZBT9BhB58QusrYaXG90RiZAog3r9THJCXmX1m7vjArQ3KoX3PrEGYehS4j6TSblsfU73uf'}}}\n",
      "\n",
      "\n",
      "---------------------------------------------------------------------------\n",
      "mensaje enviado a la API de facebook:\n",
      " {'message': {'text': 'Hola oswaldo'}, 'recipient': {'id': '106842278334918'}, 'notification_type': 'REGULAR'}\n",
      " [.] Got %r None\n"
     ]
    },
    {
     "name": "stderr",
     "output_type": "stream",
     "text": [
      "127.0.0.1 - - [07/Jul/2021 14:58:38] \"\u001b[37mPOST /apiREST/v1 HTTP/1.1\u001b[0m\" 200 -\n"
     ]
    },
    {
     "name": "stdout",
     "output_type": "stream",
     "text": [
      "\n",
      "_________________________________________________________________________________________________________________________\n",
      "Mesaje de la API de Facebook-> \n",
      " {'object': 'page', 'entry': [{'id': '106842278334918', 'time': 1625687921216, 'messaging': [{'sender': {'id': '3992952420759571'}, 'recipient': {'id': '106842278334918'}, 'timestamp': 1625687921311, 'read': {'watermark': 1625687920800}}]}]}\n",
      "hilo consume\n",
      " [.] Got %r None\n",
      "\n",
      "_________________________________________________________________________________________________________________________\n",
      "Mesaje de la API de Facebook-> \n",
      " {'object': 'page', 'entry': [{'id': '106842278334918', 'time': 1625687921350, 'messaging': [{'sender': {'id': '3992952420759571'}, 'recipient': {'id': '106842278334918'}, 'timestamp': 1625687921257, 'message': {'mid': 'm_5Y4msctqQMjaYW6BwiZ5Pm5LdZJwKC-4WNAMDG3FPBDan0-hMtl7DxUWr6rgJ-j1kLKy2KXKh2tK3ClwgMUYEg', 'text': 'Hola'}}]}]}\n",
      "[{'sender': {'id': '3992952420759571'}, 'recipient': {'id': '106842278334918'}, 'timestamp': 1625687921257, 'message': {'mid': 'm_5Y4msctqQMjaYW6BwiZ5Pm5LdZJwKC-4WNAMDG3FPBDan0-hMtl7DxUWr6rgJ-j1kLKy2KXKh2tK3ClwgMUYEg', 'text': 'Hola'}}]\n",
      "hilo consume\n",
      "\n",
      "______________________________________________no read__________________________________________________________________________\n",
      "\n",
      "\t\tMensaje enviado al Nucleo Logico->\n",
      " "
     ]
    },
    {
     "name": "stderr",
     "output_type": "stream",
     "text": [
      "127.0.0.1 - - [07/Jul/2021 14:58:38] \"\u001b[37mPOST /apiREST/v1 HTTP/1.1\u001b[0m\" 200 -\n"
     ]
    },
    {
     "name": "stdout",
     "output_type": "stream",
     "text": [
      " {\"payload\": {\"robot\": \"none\", \"id_face\": \"106842278334918\", \"recipient_id\": \"3992952420759571\", \"access_token\": \"none\", \"content\": \"Hola\", \"type_resp\": \"message\", \"state\": \"none\", \"blocktype\": \"none\", \"opciones\": \"none\", \"entities\": {}}}\n",
      "\n",
      "_________________________________________________________________________________________________________________________\n",
      "\t\t\n",
      "Respuesta del Nucleo Logico->  {'Respuesta': {'content': 'Hola oswaldo', 'next_id': 'Carrusel | 20088b9a-b5fa-4089-a72d-9ced45cbd899 | oIgvWKILDrYMYDjlgAIk', 'blockType': 'informativo', 'contentType': 'text', 'typingTime': '1', 'payload': {'content': '', 'state': 'Informativo | 2edb2c69-beb8-471f-9799-940599824c36 | oIgvWKILDrYMYDjlgAIk', 'recipient_id': '3992952420759571', 'entities': {}, 'access_token': 'EAAFMtaIPwugBAIRPT4mTm2a9nei1940NrJqMbhvvyPwfZAUZA6Id2YaXUeSu06TENy0QoDsprATI0J2ZCGHS2X6UQ4TG2AWkIbNQ3LLGdRMORJZBZBT9BhB58QusrYaXG90RiZAog3r9THJCXmX1m7vjArQ3KoX3PrEGYehS4j6TSblsfU73uf'}}}\n"
     ]
    },
    {
     "name": "stderr",
     "output_type": "stream",
     "text": [
      "127.0.0.1 - - [07/Jul/2021 14:58:39] \"\u001b[37mPOST /apiREST/v1 HTTP/1.1\u001b[0m\" 200 -\n"
     ]
    },
    {
     "name": "stdout",
     "output_type": "stream",
     "text": [
      "\n",
      "\n",
      "---------------------------------------------------------------------------\n",
      "mensaje enviado a la API de facebook:\n",
      " {'message': {'text': 'Hola oswaldo'}, 'recipient': {'id': '3992952420759571'}, 'notification_type': 'REGULAR'}\n",
      " [.] Got %r None\n",
      "\n",
      "_________________________________________________________________________________________________________________________\n",
      "Mesaje de la API de Facebook-> \n",
      " {'object': 'page', 'entry': [{'id': '106842278334918', 'time': 1625687922298, 'messaging': [{'sender': {'id': '106842278334918'}, 'recipient': {'id': '3992952420759571'}, 'timestamp': 1625687922266, 'message': {'mid': 'm_785BwPuv-NGbw5XnmE8x9G5LdZJwKC-4WNAMDG3FPBAPlPRIwtjQ3Efxfsx2dVHV203Ff0MtfHWHJJAeA84Raw', 'is_echo': True, 'text': 'Hola oswaldo', 'app_id': 365817968444136}}]}]}\n",
      "[{'sender': {'id': '106842278334918'}, 'recipient': {'id': '3992952420759571'}, 'timestamp': 1625687922266, 'message': {'mid': 'm_785BwPuv-NGbw5XnmE8x9G5LdZJwKC-4WNAMDG3FPBAPlPRIwtjQ3Efxfsx2dVHV203Ff0MtfHWHJJAeA84Raw', 'is_echo': True, 'text': 'Hola oswaldo', 'app_id': 365817968444136}}]\n",
      "hilo consume\n",
      "\n",
      "______________________________________________no read__________________________________________________________________________\n",
      "\n",
      "\t\tMensaje enviado al Nucleo Logico->\n",
      "  {\"payload\": {\"robot\": \"none\", \"id_face\": \"106842278334918\", \"recipient_id\": \"106842278334918\", \"access_token\": \"none\", \"content\": \"Hola oswaldo\", \"type_resp\": \"message\", \"state\": \"none\", \"blocktype\": \"none\", \"opciones\": \"none\", \"entities\": {}}}\n"
     ]
    },
    {
     "name": "stderr",
     "output_type": "stream",
     "text": [
      "127.0.0.1 - - [07/Jul/2021 14:58:39] \"\u001b[37mPOST /apiREST/v1 HTTP/1.1\u001b[0m\" 200 -\n"
     ]
    },
    {
     "name": "stdout",
     "output_type": "stream",
     "text": [
      "\n",
      "_________________________________________________________________________________________________________________________\n",
      "Mesaje de la API de Facebook-> \n",
      " {'object': 'page', 'entry': [{'id': '106842278334918', 'time': 1625687922402, 'messaging': [{'sender': {'id': '3992952420759571'}, 'recipient': {'id': '106842278334918'}, 'timestamp': 1625687922440, 'delivery': {'mids': ['m_785BwPuv-NGbw5XnmE8x9G5LdZJwKC-4WNAMDG3FPBAPlPRIwtjQ3Efxfsx2dVHV203Ff0MtfHWHJJAeA84Raw'], 'watermark': 1625687922266}}]}]}\n",
      "\n",
      "_________________________________________________________________________________________________________________________\n",
      "Mesaje de la API de Facebook-> \n",
      " {'object': 'page', 'entry': [{'id': '106842278334918', 'time': 1625687922439, 'messaging': [{'sender': {'id': '3992952420759571'}, 'recipient': {'id': '106842278334918'}, 'timestamp': 1625687922587, 'read': {'watermark': 1625687922405}}]}]}\n",
      "hilo consume\n",
      "_________________________________________________________________________________________________________________________\n",
      "\n",
      "\t\t\n",
      "Respuesta del Nucleo Logico->  {'Respuesta': {'content': 'Hola oswaldo', 'next_id': 'Carrusel | 20088b9a-b5fa-4089-a72d-9ced45cbd899 | oIgvWKILDrYMYDjlgAIk', 'blockType': 'informativo', 'contentType': 'text', 'typingTime': '1', 'payload': {'content': '', 'state': 'Informativo | 2edb2c69-beb8-471f-9799-940599824c36 | oIgvWKILDrYMYDjlgAIk', 'recipient_id': '106842278334918', 'entities': {}, 'access_token': 'EAAFMtaIPwugBAIRPT4mTm2a9nei1940NrJqMbhvvyPwfZAUZA6Id2YaXUeSu06TENy0QoDsprATI0J2ZCGHS2X6UQ4TG2AWkIbNQ3LLGdRMORJZBZBT9BhB58QusrYaXG90RiZAog3r9THJCXmX1m7vjArQ3KoX3PrEGYehS4j6TSblsfU73uf'}}}\n"
     ]
    },
    {
     "name": "stderr",
     "output_type": "stream",
     "text": [
      "127.0.0.1 - - [07/Jul/2021 14:58:39] \"\u001b[37mPOST /apiREST/v1 HTTP/1.1\u001b[0m\" 200 -\n"
     ]
    },
    {
     "name": "stdout",
     "output_type": "stream",
     "text": [
      "\n",
      "\n",
      "---------------------------------------------------------------------------\n",
      "mensaje enviado a la API de facebook:\n",
      " {'message': {'text': 'Hola oswaldo'}, 'recipient': {'id': '106842278334918'}, 'notification_type': 'REGULAR'}\n",
      " [.] Got %r None\n",
      "\n",
      "_________________________________________________________________________________________________________________________\n",
      "\t\t\n",
      "Respuesta del Nucleo Logico->  {'Respuesta': {'content': [{'title': 'Img1', 'image_url': 'https://www.gettyimages.es/gi-resources/images/500px/983794168.jpg', 'subtitle': 'sub1', 'buttons': [{'titleButton': 'Btn1P1', 'typeButton': 'postback', 'payloadButton': 'Informativo | c172acd8-1edc-4d5b-ac66-fdf02dfe35ff | oIgvWKILDrYMYDjlgAIk'}, {'titleButton': 'Btn2p2', 'typeButton': 'postback', 'payloadButton': 'Informativo | c172acd8-1edc-4d5b-ac66-fdf02dfe35ff | oIgvWKILDrYMYDjlgAIk'}]}, {'title': 'Img2', 'image_url': 'https://analyticsindiamag.com/wp-content/uploads/2020/10/7d744a684fe03ebc7e8de545f97739dd.jpg', 'subtitle': 'sub3', 'buttons': [{'titleButton': 'btn1P2', 'typeButton': 'postback', 'payloadButton': 'Informativo | c172acd8-1edc-4d5b-ac66-fdf02dfe35ff | oIgvWKILDrYMYDjlgAIk'}, {'titleButton': 'Btn2P2', 'typeButton': 'postback', 'payloadButton': 'Informativo | c172acd8-1edc-4d5b-ac66-fdf02dfe35ff | oIgvWKILDrYMYDjlgAIk'}]}, {'title': 'Img3', 'image_url': 'https://spaceplace.nasa.gov/gallery-sun/en/solar-flare.en.jpg', 'subtitle': 'Sub3', 'buttons': [{'titleButton': 'Btn1P3', 'typeButton': 'postback', 'payloadButton': 'Informativo | c172acd8-1edc-4d5b-ac66-fdf02dfe35ff | oIgvWKILDrYMYDjlgAIk'}, {'titleButton': 'Btn1P3', 'typeButton': 'postback', 'payloadButton': 'Informativo | c172acd8-1edc-4d5b-ac66-fdf02dfe35ff | oIgvWKILDrYMYDjlgAIk'}]}], 'next_id': ['Informativo | c172acd8-1edc-4d5b-ac66-fdf02dfe35ff | oIgvWKILDrYMYDjlgAIk', 'Informativo | c172acd8-1edc-4d5b-ac66-fdf02dfe35ff | oIgvWKILDrYMYDjlgAIk', 'Informativo | c172acd8-1edc-4d5b-ac66-fdf02dfe35ff | oIgvWKILDrYMYDjlgAIk', 'Informativo | c172acd8-1edc-4d5b-ac66-fdf02dfe35ff | oIgvWKILDrYMYDjlgAIk', 'Informativo | c172acd8-1edc-4d5b-ac66-fdf02dfe35ff | oIgvWKILDrYMYDjlgAIk', 'Informativo | c172acd8-1edc-4d5b-ac66-fdf02dfe35ff | oIgvWKILDrYMYDjlgAIk'], 'blockType': 'slide', 'contentType': ' ', 'typingTime': 1, 'payload': {'content': '', 'state': 'Carrusel | 20088b9a-b5fa-4089-a72d-9ced45cbd899 | oIgvWKILDrYMYDjlgAIk', 'recipient_id': '3992952420759571', 'entities': {}, 'access_token': 'EAAFMtaIPwugBAIRPT4mTm2a9nei1940NrJqMbhvvyPwfZAUZA6Id2YaXUeSu06TENy0QoDsprATI0J2ZCGHS2X6UQ4TG2AWkIbNQ3LLGdRMORJZBZBT9BhB58QusrYaXG90RiZAog3r9THJCXmX1m7vjArQ3KoX3PrEGYehS4j6TSblsfU73uf'}, 'default_id': 'Carrusel | 20088b9a-b5fa-4089-a72d-9ced45cbd899 | oIgvWKILDrYMYDjlgAIk', 'save_var': 'Informativo | c172acd8-1edc-4d5b-ac66-fdf02dfe35ff | oIgvWKILDrYMYDjlgAIk'}}\n",
      "pyload slide:  {'recipient': {'id': '3992952420759571'}, 'message': {'attachment': {'type': 'template', 'payload': {'template_type': 'generic', 'elements': [{'title': 'Img1', 'image_url': 'https://www.gettyimages.es/gi-resources/images/500px/983794168.jpg', 'subtitle': 'sub1', 'buttons': [{'title': 'Btn1P1', 'type': 'postback', 'payload': 'Informativo | c172acd8-1edc-4d5b-ac66-fdf02dfe35ff | oIgvWKILDrYMYDjlgAIk'}, {'title': 'Btn2p2', 'type': 'postback', 'payload': 'Informativo | c172acd8-1edc-4d5b-ac66-fdf02dfe35ff | oIgvWKILDrYMYDjlgAIk'}]}, {'title': 'Img2', 'image_url': 'https://analyticsindiamag.com/wp-content/uploads/2020/10/7d744a684fe03ebc7e8de545f97739dd.jpg', 'subtitle': 'sub3', 'buttons': [{'title': 'btn1P2', 'type': 'postback', 'payload': 'Informativo | c172acd8-1edc-4d5b-ac66-fdf02dfe35ff | oIgvWKILDrYMYDjlgAIk'}, {'title': 'Btn2P2', 'type': 'postback', 'payload': 'Informativo | c172acd8-1edc-4d5b-ac66-fdf02dfe35ff | oIgvWKILDrYMYDjlgAIk'}]}, {'title': 'Img3', 'image_url': 'https://spaceplace.nasa.gov/gallery-sun/en/solar-flare.en.jpg', 'subtitle': 'Sub3', 'buttons': [{'title': 'Btn1P3', 'type': 'postback', 'payload': 'Informativo | c172acd8-1edc-4d5b-ac66-fdf02dfe35ff | oIgvWKILDrYMYDjlgAIk'}, {'title': 'Btn1P3', 'type': 'postback', 'payload': 'Informativo | c172acd8-1edc-4d5b-ac66-fdf02dfe35ff | oIgvWKILDrYMYDjlgAIk'}]}]}}}, 'notification_type': 'REGULAR'}\n",
      "\n",
      "\n",
      "---------------------------------------------------------------------------\n",
      "mensaje enviado a la API de facebook:\n",
      " {'recipient': {'id': '3992952420759571'}, 'message': {'attachment': {'type': 'template', 'payload': {'template_type': 'generic', 'elements': [{'title': 'Img1', 'image_url': 'https://www.gettyimages.es/gi-resources/images/500px/983794168.jpg', 'subtitle': 'sub1', 'buttons': [{'title': 'Btn1P1', 'type': 'postback', 'payload': 'Informativo | c172acd8-1edc-4d5b-ac66-fdf02dfe35ff | oIgvWKILDrYMYDjlgAIk'}, {'title': 'Btn2p2', 'type': 'postback', 'payload': 'Informativo | c172acd8-1edc-4d5b-ac66-fdf02dfe35ff | oIgvWKILDrYMYDjlgAIk'}]}, {'title': 'Img2', 'image_url': 'https://analyticsindiamag.com/wp-content/uploads/2020/10/7d744a684fe03ebc7e8de545f97739dd.jpg', 'subtitle': 'sub3', 'buttons': [{'title': 'btn1P2', 'type': 'postback', 'payload': 'Informativo | c172acd8-1edc-4d5b-ac66-fdf02dfe35ff | oIgvWKILDrYMYDjlgAIk'}, {'title': 'Btn2P2', 'type': 'postback', 'payload': 'Informativo | c172acd8-1edc-4d5b-ac66-fdf02dfe35ff | oIgvWKILDrYMYDjlgAIk'}]}, {'title': 'Img3', 'image_url': 'https://spaceplace.nasa.gov/gallery-sun/en/solar-flare.en.jpg', 'subtitle': 'Sub3', 'buttons': [{'title': 'Btn1P3', 'type': 'postback', 'payload': 'Informativo | c172acd8-1edc-4d5b-ac66-fdf02dfe35ff | oIgvWKILDrYMYDjlgAIk'}, {'title': 'Btn1P3', 'type': 'postback', 'payload': 'Informativo | c172acd8-1edc-4d5b-ac66-fdf02dfe35ff | oIgvWKILDrYMYDjlgAIk'}]}]}}}, 'notification_type': 'REGULAR'}\n",
      " [.] Got %r None\n",
      "\n",
      "_________________________________________________________________________________________________________________________\n",
      "Mesaje de la API de Facebook-> \n"
     ]
    },
    {
     "name": "stderr",
     "output_type": "stream",
     "text": [
      "127.0.0.1 - - [07/Jul/2021 14:58:41] \"\u001b[37mPOST /apiREST/v1 HTTP/1.1\u001b[0m\" 200 -\n",
      "127.0.0.1 - - [07/Jul/2021 14:58:41] \"\u001b[37mPOST /apiREST/v1 HTTP/1.1\u001b[0m\" 200 -\n"
     ]
    },
    {
     "name": "stdout",
     "output_type": "stream",
     "text": [
      " {'object': 'page', 'entry': [{'id': '106842278334918', 'time': 1625687923944, 'messaging': [{'sender': {'id': '106842278334918'}, 'recipient': {'id': '3992952420759571'}, 'timestamp': 1625687923890, 'message': {'mid': 'm_nLrEhwhvf78raoGByqXcNW5LdZJwKC-4WNAMDG3FPBCioWnlPGhmN3Jwd5KFvZjp47Fcul7sYvHg7iIUuCHXSA', 'is_echo': True, 'app_id': 365817968444136, 'attachments': [{'title': 'Img1, Img2, Img3', 'url': None, 'type': 'template', 'payload': {'template_type': 'generic', 'sharable': False, 'elements': [{'title': 'Img1', 'image_url': 'https://www.gettyimages.es/gi-resources/images/500px/983794168.jpg', 'subtitle': 'sub1', 'buttons': [{'type': 'postback', 'title': 'Btn1P1', 'payload': 'Informativo | c172acd8-1edc-4d5b-ac66-fdf02dfe35ff | oIgvWKILDrYMYDjlgAIk'}, {'type': 'postback', 'title': 'Btn2p2', 'payload': 'Informativo | c172acd8-1edc-4d5b-ac66-fdf02dfe35ff | oIgvWKILDrYMYDjlgAIk'}]}, {'title': 'Img2', 'image_url': 'https://analyticsindiamag.com/wp-content/uploads/2020/10/7d744a684fe03ebc7e8de545f97739dd.jpg', 'subtitle': 'sub3', 'buttons': [{'type': 'postback', 'title': 'btn1P2', 'payload': 'Informativo | c172acd8-1edc-4d5b-ac66-fdf02dfe35ff | oIgvWKILDrYMYDjlgAIk'}, {'type': 'postback', 'title': 'Btn2P2', 'payload': 'Informativo | c172acd8-1edc-4d5b-ac66-fdf02dfe35ff | oIgvWKILDrYMYDjlgAIk'}]}, {'title': 'Img3', 'image_url': 'https://spaceplace.nasa.gov/gallery-sun/en/solar-flare.en.jpg', 'subtitle': 'Sub3', 'buttons': [{'type': 'postback', 'title': 'Btn1P3', 'payload': 'Informativo | c172acd8-1edc-4d5b-ac66-fdf02dfe35ff | oIgvWKILDrYMYDjlgAIk'}, {'type': 'postback', 'title': 'Btn1P3', 'payload': 'Informativo | c172acd8-1edc-4d5b-ac66-fdf02dfe35ff | oIgvWKILDrYMYDjlgAIk'}]}]}}]}}]}]}\n",
      "[{'sender': {'id': '106842278334918'}, 'recipient': {'id': '3992952420759571'}, 'timestamp': 1625687923890, 'message': {'mid': 'm_nLrEhwhvf78raoGByqXcNW5LdZJwKC-4WNAMDG3FPBCioWnlPGhmN3Jwd5KFvZjp47Fcul7sYvHg7iIUuCHXSA', 'is_echo': True, 'app_id': 365817968444136, 'attachments': [{'title': 'Img1, Img2, Img3', 'url': None, 'type': 'template', 'payload': {'template_type': 'generic', 'sharable': False, 'elements': [{'title': 'Img1', 'image_url': 'https://www.gettyimages.es/gi-resources/images/500px/983794168.jpg', 'subtitle': 'sub1', 'buttons': [{'type': 'postback', 'title': 'Btn1P1', 'payload': 'Informativo | c172acd8-1edc-4d5b-ac66-fdf02dfe35ff | oIgvWKILDrYMYDjlgAIk'}, {'type': 'postback', 'title': 'Btn2p2', 'payload': 'Informativo | c172acd8-1edc-4d5b-ac66-fdf02dfe35ff | oIgvWKILDrYMYDjlgAIk'}]}, {'title': 'Img2', 'image_url': 'https://analyticsindiamag.com/wp-content/uploads/2020/10/7d744a684fe03ebc7e8de545f97739dd.jpg', 'subtitle': 'sub3', 'buttons': [{'type': 'postback', 'title': 'btn1P2', 'payload': 'Informativo | c172acd8-1edc-4d5b-ac66-fdf02dfe35ff | oIgvWKILDrYMYDjlgAIk'}, {'type': 'postback', 'title': 'Btn2P2', 'payload': 'Informativo | c172acd8-1edc-4d5b-ac66-fdf02dfe35ff | oIgvWKILDrYMYDjlgAIk'}]}, {'title': 'Img3', 'image_url': 'https://spaceplace.nasa.gov/gallery-sun/en/solar-flare.en.jpg', 'subtitle': 'Sub3', 'buttons': [{'type': 'postback', 'title': 'Btn1P3', 'payload': 'Informativo | c172acd8-1edc-4d5b-ac66-fdf02dfe35ff | oIgvWKILDrYMYDjlgAIk'}, {'type': 'postback', 'title': 'Btn1P3', 'payload': 'Informativo | c172acd8-1edc-4d5b-ac66-fdf02dfe35ff | oIgvWKILDrYMYDjlgAIk'}]}]}}]}}]\n",
      "hilo consume\n",
      "\n",
      "______________________________________________no read__________________________________________________________________________\n",
      "\n",
      "\t\tMensaje enviado al Nucleo Logico->\n",
      "  {\"payload\": {\"robot\": \"none\", \"id_face\": \"106842278334918\", \"recipient_id\": \"106842278334918\", \"access_token\": \"none\", \"content\": [{\"title\": \"Img1, Img2, Img3\", \"url\": null, \"type\": \"template\", \"payload\": {\"template_type\": \"generic\", \"sharable\": false, \"elements\": [{\"title\": \"Img1\", \"image_url\": \"https://www.gettyimages.es/gi-resources/images/500px/983794168.jpg\", \"subtitle\": \"sub1\", \"buttons\": [{\"type\": \"postback\", \"title\": \"Btn1P1\", \"payload\": \"Informativo | c172acd8-1edc-4d5b-ac66-fdf02dfe35ff | oIgvWKILDrYMYDjlgAIk\"}, {\"type\": \"postback\", \"title\": \"Btn2p2\", \"payload\": \"Informativo | c172acd8-1edc-4d5b-ac66-fdf02dfe35ff | oIgvWKILDrYMYDjlgAIk\"}]}, {\"title\": \"Img2\", \"image_url\": \"https://analyticsindiamag.com/wp-content/uploads/2020/10/7d744a684fe03ebc7e8de545f97739dd.jpg\", \"subtitle\": \"sub3\", \"buttons\": [{\"type\": \"postback\", \"title\": \"btn1P2\", \"payload\": \"Informativo | c172acd8-1edc-4d5b-ac66-fdf02dfe35ff | oIgvWKILDrYMYDjlgAIk\"}, {\"type\": \"postback\", \"title\": \"Btn2P2\", \"payload\": \"Informativo | c172acd8-1edc-4d5b-ac66-fdf02dfe35ff | oIgvWKILDrYMYDjlgAIk\"}]}, {\"title\": \"Img3\", \"image_url\": \"https://spaceplace.nasa.gov/gallery-sun/en/solar-flare.en.jpg\", \"subtitle\": \"Sub3\", \"buttons\": [{\"type\": \"postback\", \"title\": \"Btn1P3\", \"payload\": \"Informativo | c172acd8-1edc-4d5b-ac66-fdf02dfe35ff | oIgvWKILDrYMYDjlgAIk\"}, {\"type\": \"postback\", \"title\": \"Btn1P3\", \"payload\": \"Informativo | c172acd8-1edc-4d5b-ac66-fdf02dfe35ff | oIgvWKILDrYMYDjlgAIk\"}]}]}}], \"type_resp\": \"message\", \"state\": \"none\", \"blocktype\": \"none\", \"opciones\": \"none\", \"entities\": {}}}\n",
      "\n",
      "_________________________________________________________________________________________________________________________\n",
      "Mesaje de la API de Facebook-> \n",
      " {'object': 'page', 'entry': [{'id': '106842278334918', 'time': 1625687924058, 'messaging': [{'sender': {'id': '3992952420759571'}, 'recipient': {'id': '106842278334918'}, 'timestamp': 1625687924096, 'delivery': {'mids': ['m_nLrEhwhvf78raoGByqXcNW5LdZJwKC-4WNAMDG3FPBCioWnlPGhmN3Jwd5KFvZjp47Fcul7sYvHg7iIUuCHXSA'], 'watermark': 1625687923890}}]}]}\n"
     ]
    },
    {
     "name": "stderr",
     "output_type": "stream",
     "text": [
      "127.0.0.1 - - [07/Jul/2021 14:58:41] \"\u001b[37mPOST /apiREST/v1 HTTP/1.1\u001b[0m\" 200 -\n"
     ]
    },
    {
     "name": "stdout",
     "output_type": "stream",
     "text": [
      "\n",
      "_________________________________________________________________________________________________________________________\n",
      "\t\t\n",
      "Respuesta del Nucleo Logico->  {'Respuesta': {'content': 'Hola oswaldo', 'next_id': 'Carrusel | 20088b9a-b5fa-4089-a72d-9ced45cbd899 | oIgvWKILDrYMYDjlgAIk', 'blockType': 'informativo', 'contentType': 'text', 'typingTime': '1', 'payload': {'content': '', 'state': 'Informativo | 2edb2c69-beb8-471f-9799-940599824c36 | oIgvWKILDrYMYDjlgAIk', 'recipient_id': '106842278334918', 'entities': {}, 'access_token': 'EAAFMtaIPwugBAIRPT4mTm2a9nei1940NrJqMbhvvyPwfZAUZA6Id2YaXUeSu06TENy0QoDsprATI0J2ZCGHS2X6UQ4TG2AWkIbNQ3LLGdRMORJZBZBT9BhB58QusrYaXG90RiZAog3r9THJCXmX1m7vjArQ3KoX3PrEGYehS4j6TSblsfU73uf'}}}\n",
      "\n",
      "_________________________________________________________________________________________________________________________\n",
      "Mesaje de la API de Facebook-> \n",
      " {'object': 'page', 'entry': [{'id': '106842278334918', 'time': 1625687924184, 'messaging': [{'sender': {'id': '3992952420759571'}, 'recipient': {'id': '106842278334918'}, 'timestamp': 1625687924338, 'read': {'watermark': 1625687924152}}]}]}\n",
      "hilo consume\n",
      " [.] Got %r None\n",
      "\n",
      "\n",
      "---------------------------------------------------------------------------\n",
      "mensaje enviado a la API de facebook:\n",
      " {'message': {'text': 'Hola oswaldo'}, 'recipient': {'id': '106842278334918'}, 'notification_type': 'REGULAR'}\n",
      " [.] Got %r None\n"
     ]
    },
    {
     "name": "stderr",
     "output_type": "stream",
     "text": [
      "127.0.0.1 - - [07/Jul/2021 14:58:42] \"\u001b[37mPOST /apiREST/v1 HTTP/1.1\u001b[0m\" 200 -\n"
     ]
    },
    {
     "name": "stdout",
     "output_type": "stream",
     "text": [
      "\n",
      "_________________________________________________________________________________________________________________________\n",
      "Mesaje de la API de Facebook-> \n",
      " {'object': 'page', 'entry': [{'id': '106842278334918', 'time': 1625687925644, 'messaging': [{'sender': {'id': '3992952420759571'}, 'recipient': {'id': '106842278334918'}, 'timestamp': 1625687925753, 'read': {'watermark': 1625687925258}}]}]}\n",
      "hilo consume\n",
      " [.] Got %r None\n"
     ]
    },
    {
     "name": "stderr",
     "output_type": "stream",
     "text": [
      "127.0.0.1 - - [07/Jul/2021 14:58:43] \"\u001b[37mPOST /apiREST/v1 HTTP/1.1\u001b[0m\" 200 -\n"
     ]
    },
    {
     "name": "stdout",
     "output_type": "stream",
     "text": [
      "\n",
      "_________________________________________________________________________________________________________________________\n",
      "Mesaje de la API de Facebook-> \n",
      " {'object': 'page', 'entry': [{'id': '106842278334918', 'time': 1625687925887, 'messaging': [{'sender': {'id': '3992952420759571'}, 'recipient': {'id': '106842278334918'}, 'timestamp': 1625687925698, 'postback': {'title': 'btn1P2', 'payload': 'Informativo | c172acd8-1edc-4d5b-ac66-fdf02dfe35ff | oIgvWKILDrYMYDjlgAIk', 'mid': 'm_a_Q1gGy8PCo4FAuBsqgLC25LdZJwKC-4WNAMDG3FPBDxufHNXEz_gobt8RooR6_Bod172phei4RI9cbZWHKTNQ'}}]}]}\n",
      "hilo consume\n",
      "\n",
      "______________________________________________no read__________________________________________________________________________\n",
      "\n",
      "\t\tMensaje enviado al Nucleo Logico->\n",
      "  {\"payload\": {\"robot\": \"none\", \"id_face\": \"106842278334918\", \"recipient_id\": \"3992952420759571\", \"access_token\": \"none\", \"content\": \"Informativo | c172acd8-1edc-4d5b-ac66-fdf02dfe35ff | oIgvWKILDrYMYDjlgAIk\", \"type_resp\": \"postback\", \"state\": \"none\", \"blocktype\": \"none\", \"opciones\": \"none\", \"entities\": {}}}\n",
      "\n",
      "_________________________________________________________________________________________________________________________\n",
      "\t\t\n",
      "Respuesta del Nucleo Logico->  {'Respuesta': {'content': 'Adios Oswa', 'next_id': 'Salida', 'blockType': 'informativo', 'contentType': 'text', 'typingTime': '1', 'payload': {'content': '', 'state': 'Informativo | c172acd8-1edc-4d5b-ac66-fdf02dfe35ff | oIgvWKILDrYMYDjlgAIk', 'recipient_id': '3992952420759571', 'entities': {'variableCarrCarrusel_|_20088b9a-b5fa-4089-a72d-9ced45cbd8992154': 'Informativo | c172acd8-1edc-4d5b-ac66-fdf02dfe35ff | oIgvWKILDrYMYDjlgAIk'}, 'access_token': 'EAAFMtaIPwugBAIRPT4mTm2a9nei1940NrJqMbhvvyPwfZAUZA6Id2YaXUeSu06TENy0QoDsprATI0J2ZCGHS2X6UQ4TG2AWkIbNQ3LLGdRMORJZBZBT9BhB58QusrYaXG90RiZAog3r9THJCXmX1m7vjArQ3KoX3PrEGYehS4j6TSblsfU73uf'}}}\n"
     ]
    },
    {
     "name": "stderr",
     "output_type": "stream",
     "text": [
      "127.0.0.1 - - [07/Jul/2021 14:58:43] \"\u001b[37mPOST /apiREST/v1 HTTP/1.1\u001b[0m\" 200 -\n"
     ]
    },
    {
     "name": "stdout",
     "output_type": "stream",
     "text": [
      "\n",
      "\n",
      "---------------------------------------------------------------------------\n",
      "mensaje enviado a la API de facebook:\n",
      " {'message': {'text': 'Adios Oswa'}, 'recipient': {'id': '3992952420759571'}, 'notification_type': 'REGULAR'}\n",
      " [.] Got %r None\n",
      "\n",
      "_________________________________________________________________________________________________________________________\n",
      "Mesaje de la API de Facebook-> \n",
      " {'object': 'page', 'entry': [{'id': '106842278334918', 'time': 1625687926919, 'messaging': [{'sender': {'id': '106842278334918'}, 'recipient': {'id': '3992952420759571'}, 'timestamp': 1625687926872, 'message': {'mid': 'm_Tw_gMiw9nU8n0xVcgg2BCG5LdZJwKC-4WNAMDG3FPBC3hHTQM1dNI68q4KmeHq7KnAbwzJGCkDzOtQ8mE8h_IA', 'is_echo': True, 'text': 'Adios Oswa', 'app_id': 365817968444136}}]}]}\n",
      "[{'sender': {'id': '106842278334918'}, 'recipient': {'id': '3992952420759571'}, 'timestamp': 1625687926872, 'message': {'mid': 'm_Tw_gMiw9nU8n0xVcgg2BCG5LdZJwKC-4WNAMDG3FPBC3hHTQM1dNI68q4KmeHq7KnAbwzJGCkDzOtQ8mE8h_IA', 'is_echo': True, 'text': 'Adios Oswa', 'app_id': 365817968444136}}]\n",
      "hilo consume\n",
      "\n",
      "______________________________________________no read__________________________________________________________________________\n",
      "\n",
      "\t\tMensaje enviado al Nucleo Logico->\n",
      "  {\"payload\": {\"robot\": \"none\", \"id_face\": \"106842278334918\", \"recipient_id\": \"106842278334918\", \"access_token\": \"none\", \"content\": \"Adios Oswa\", \"type_resp\": \"message\", \"state\": \"none\", \"blocktype\": \"none\", \"opciones\": \"none\", \"entities\": {}}}\n",
      "\n",
      "_________________________________________________________________________________________________________________________\n",
      "Mesaje de la API de Facebook-> \n",
      " {'object': 'page', 'entry': [{'id': '106842278334918', 'time': 1625687927000, 'messaging': [{'sender': {'id': '3992952420759571'}, 'recipient': {'id': '106842278334918'}, 'timestamp': 1625687927041, 'delivery': {'mids': ['m_Tw_gMiw9nU8n0xVcgg2BCG5LdZJwKC-4WNAMDG3FPBC3hHTQM1dNI68q4KmeHq7KnAbwzJGCkDzOtQ8mE8h_IA'], 'watermark': 1625687926872}}]}]}\n"
     ]
    },
    {
     "name": "stderr",
     "output_type": "stream",
     "text": [
      "127.0.0.1 - - [07/Jul/2021 14:58:44] \"\u001b[37mPOST /apiREST/v1 HTTP/1.1\u001b[0m\" 200 -\n",
      "127.0.0.1 - - [07/Jul/2021 14:58:44] \"\u001b[37mPOST /apiREST/v1 HTTP/1.1\u001b[0m\" 200 -\n"
     ]
    },
    {
     "name": "stdout",
     "output_type": "stream",
     "text": [
      "\n",
      "_________________________________________________________________________________________________________________________\n",
      "Mesaje de la API de Facebook-> \n",
      " {'object': 'page', 'entry': [{'id': '106842278334918', 'time': 1625687927076, 'messaging': [{'sender': {'id': '3992952420759571'}, 'recipient': {'id': '106842278334918'}, 'timestamp': 1625687927190, 'read': {'watermark': 1625687927047}}]}]}\n",
      "hilo consume\n",
      "\n",
      "_________________________________________________________________________________________________________________________\n",
      "\t\t\n",
      "Respuesta del Nucleo Logico->  {'Respuesta': {'content': 'Hola oswaldo', 'next_id': 'Carrusel | 20088b9a-b5fa-4089-a72d-9ced45cbd899 | oIgvWKILDrYMYDjlgAIk', 'blockType': 'informativo', 'contentType': 'text', 'typingTime': '1', 'payload': {'content': '', 'state': 'Informativo | 2edb2c69-beb8-471f-9799-940599824c36 | oIgvWKILDrYMYDjlgAIk', 'recipient_id': '106842278334918', 'entities': {}, 'access_token': 'EAAFMtaIPwugBAIRPT4mTm2a9nei1940NrJqMbhvvyPwfZAUZA6Id2YaXUeSu06TENy0QoDsprATI0J2ZCGHS2X6UQ4TG2AWkIbNQ3LLGdRMORJZBZBT9BhB58QusrYaXG90RiZAog3r9THJCXmX1m7vjArQ3KoX3PrEGYehS4j6TSblsfU73uf'}}}\n",
      "\n",
      "\n",
      "---------------------------------------------------------------------------\n",
      "mensaje enviado a la API de facebook:\n",
      " {'message': {'text': 'Hola oswaldo'}, 'recipient': {'id': '106842278334918'}, 'notification_type': 'REGULAR'}\n",
      " [.] Got %r None\n"
     ]
    },
    {
     "name": "stderr",
     "output_type": "stream",
     "text": [
      "127.0.0.1 - - [07/Jul/2021 14:58:45] \"\u001b[37mPOST /apiREST/v1 HTTP/1.1\u001b[0m\" 200 -\n"
     ]
    },
    {
     "name": "stdout",
     "output_type": "stream",
     "text": [
      "\n",
      "_________________________________________________________________________________________________________________________\n",
      "Mesaje de la API de Facebook-> \n",
      " {'object': 'page', 'entry': [{'id': '106842278334918', 'time': 1625687928659, 'messaging': [{'sender': {'id': '3992952420759571'}, 'recipient': {'id': '106842278334918'}, 'timestamp': 1625687928760, 'read': {'watermark': 1625687928252}}]}]}\n",
      "hilo consume\n",
      " [.] Got %r None\n",
      "\n",
      "_________________________________________________________________________________________________________________________\n",
      "Mesaje de la API de Facebook-> \n",
      " {'object': 'page', 'entry': [{'id': '106842278334918', 'time': 1625687928791, 'messaging': [{'sender': {'id': '3992952420759571'}, 'recipient': {'id': '106842278334918'}, 'timestamp': 1625687928703, 'message': {'mid': 'm_PmF-dJio6yAIlyRD3BloTG5LdZJwKC-4WNAMDG3FPBBSLJwu_G6SQOQc3jP1YHsvJObBYCZCcceZK9Su0TZc_Q', 'text': 'Hola'}}]}]}\n",
      "[{'sender': {'id': '3992952420759571'}, 'recipient': {'id': '106842278334918'}, 'timestamp': 1625687928703, 'message': {'mid': 'm_PmF-dJio6yAIlyRD3BloTG5LdZJwKC-4WNAMDG3FPBBSLJwu_G6SQOQc3jP1YHsvJObBYCZCcceZK9Su0TZc_Q', 'text': 'Hola'}}]\n"
     ]
    },
    {
     "name": "stderr",
     "output_type": "stream",
     "text": [
      "127.0.0.1 - - [07/Jul/2021 14:58:45] \"\u001b[37mPOST /apiREST/v1 HTTP/1.1\u001b[0m\" 200 -\n"
     ]
    },
    {
     "name": "stdout",
     "output_type": "stream",
     "text": [
      "hilo consume\n",
      "\n",
      "\n",
      "______________________________________________no read__________________________________________________________________________\n",
      "\t\tMensaje enviado al Nucleo Logico->\n",
      "  {\"payload\": {\"robot\": \"none\", \"id_face\": \"106842278334918\", \"recipient_id\": \"3992952420759571\", \"access_token\": \"none\", \"content\": \"Hola\", \"type_resp\": \"message\", \"state\": \"none\", \"blocktype\": \"none\", \"opciones\": \"none\", \"entities\": {}}}\n",
      "\n",
      "_________________________________________________________________________________________________________________________\n",
      "\t\t\n",
      "Respuesta del Nucleo Logico->  {'Respuesta': {'content': 'Hola oswaldo', 'next_id': 'Carrusel | 20088b9a-b5fa-4089-a72d-9ced45cbd899 | oIgvWKILDrYMYDjlgAIk', 'blockType': 'informativo', 'contentType': 'text', 'typingTime': '1', 'payload': {'content': '', 'state': 'Informativo | 2edb2c69-beb8-471f-9799-940599824c36 | oIgvWKILDrYMYDjlgAIk', 'recipient_id': '3992952420759571', 'entities': {}, 'access_token': 'EAAFMtaIPwugBAIRPT4mTm2a9nei1940NrJqMbhvvyPwfZAUZA6Id2YaXUeSu06TENy0QoDsprATI0J2ZCGHS2X6UQ4TG2AWkIbNQ3LLGdRMORJZBZBT9BhB58QusrYaXG90RiZAog3r9THJCXmX1m7vjArQ3KoX3PrEGYehS4j6TSblsfU73uf'}}}\n"
     ]
    },
    {
     "name": "stderr",
     "output_type": "stream",
     "text": [
      "127.0.0.1 - - [07/Jul/2021 14:58:46] \"\u001b[37mPOST /apiREST/v1 HTTP/1.1\u001b[0m\" 200 -\n"
     ]
    },
    {
     "name": "stdout",
     "output_type": "stream",
     "text": [
      "\n",
      "\n",
      "---------------------------------------------------------------------------\n",
      "mensaje enviado a la API de facebook:\n",
      " {'message': {'text': 'Hola oswaldo'}, 'recipient': {'id': '3992952420759571'}, 'notification_type': 'REGULAR'}\n",
      " [.] Got %r None\n",
      "\n",
      "_________________________________________________________________________________________________________________________\n",
      "Mesaje de la API de Facebook-> \n",
      " {'object': 'page', 'entry': [{'id': '106842278334918', 'time': 1625687929744, 'messaging': [{'sender': {'id': '106842278334918'}, 'recipient': {'id': '3992952420759571'}, 'timestamp': 1625687929705, 'message': {'mid': 'm_-mc6nMTq961GhnAB7BtUkm5LdZJwKC-4WNAMDG3FPBC-di3mdMTLn9sY6A2k_xS2wGP-GH1DnGpokG6YNPQvtA', 'is_echo': True, 'text': 'Hola oswaldo', 'app_id': 365817968444136}}]}]}\n",
      "[{'sender': {'id': '106842278334918'}, 'recipient': {'id': '3992952420759571'}, 'timestamp': 1625687929705, 'message': {'mid': 'm_-mc6nMTq961GhnAB7BtUkm5LdZJwKC-4WNAMDG3FPBC-di3mdMTLn9sY6A2k_xS2wGP-GH1DnGpokG6YNPQvtA', 'is_echo': True, 'text': 'Hola oswaldo', 'app_id': 365817968444136}}]\n",
      "hilo consume\n",
      "\n",
      "______________________________________________no read__________________________________________________________________________\n",
      "\n",
      "\t\tMensaje enviado al Nucleo Logico->\n",
      "  {\"payload\": {\"robot\": \"none\", \"id_face\": \"106842278334918\", \"recipient_id\": \"106842278334918\", \"access_token\": \"none\", \"content\": \"Hola oswaldo\", \"type_resp\": \"message\", \"state\": \"none\", \"blocktype\": \"none\", \"opciones\": \"none\", \"entities\": {}}}\n"
     ]
    },
    {
     "name": "stderr",
     "output_type": "stream",
     "text": [
      "127.0.0.1 - - [07/Jul/2021 14:58:47] \"\u001b[37mPOST /apiREST/v1 HTTP/1.1\u001b[0m\" 200 -\n",
      "127.0.0.1 - - [07/Jul/2021 14:58:47] \"\u001b[37mPOST /apiREST/v1 HTTP/1.1\u001b[0m\" 200 -\n"
     ]
    },
    {
     "name": "stdout",
     "output_type": "stream",
     "text": [
      "\n",
      "_________________________________________________________________________________________________________________________\n",
      "Mesaje de la API de Facebook-> \n",
      " {'object': 'page', 'entry': [{'id': '106842278334918', 'time': 1625687929910, 'messaging': [{'sender': {'id': '3992952420759571'}, 'recipient': {'id': '106842278334918'}, 'timestamp': 1625687929951, 'delivery': {'mids': ['m_-mc6nMTq961GhnAB7BtUkm5LdZJwKC-4WNAMDG3FPBC-di3mdMTLn9sY6A2k_xS2wGP-GH1DnGpokG6YNPQvtA'], 'watermark': 1625687929705}}]}]}\n",
      "\n",
      "_________________________________________________________________________________________________________________________\n",
      "\t\t\n",
      "Respuesta del Nucleo Logico->  {'Respuesta': {'content': 'Hola oswaldo', 'next_id': 'Carrusel | 20088b9a-b5fa-4089-a72d-9ced45cbd899 | oIgvWKILDrYMYDjlgAIk', 'blockType': 'informativo', 'contentType': 'text', 'typingTime': '1', 'payload': {'content': '', 'state': 'Informativo | 2edb2c69-beb8-471f-9799-940599824c36 | oIgvWKILDrYMYDjlgAIk', 'recipient_id': '106842278334918', 'entities': {}, 'access_token': 'EAAFMtaIPwugBAIRPT4mTm2a9nei1940NrJqMbhvvyPwfZAUZA6Id2YaXUeSu06TENy0QoDsprATI0J2ZCGHS2X6UQ4TG2AWkIbNQ3LLGdRMORJZBZBT9BhB58QusrYaXG90RiZAog3r9THJCXmX1m7vjArQ3KoX3PrEGYehS4j6TSblsfU73uf'}}}\n",
      "\n",
      "_________________________________________________________________________________________________________________________\n",
      "Mesaje de la API de Facebook-> \n",
      " {'object': 'page', 'entry': [{'id': '106842278334918', 'time': 1625687929973, 'messaging': [{'sender': {'id': '3992952420759571'}, 'recipient': {'id': '106842278334918'}, 'timestamp': 1625687930118, 'read': {'watermark': 1625687929939}}]}]}\n",
      "hilo consume\n",
      "\n",
      "\n",
      "---------------------------------------------------------------------------\n",
      "mensaje enviado a la API de facebook:\n",
      " {'message': {'text': 'Hola oswaldo'}, 'recipient': {'id': '106842278334918'}, 'notification_type': 'REGULAR'}\n",
      " [.] Got %r None\n",
      "\n",
      "_________________________________________________________________________________________________________________________\n",
      "\t\t\n",
      "Respuesta del Nucleo Logico->  {'Respuesta': {'content': [{'title': 'Img1', 'image_url': 'https://www.gettyimages.es/gi-resources/images/500px/983794168.jpg', 'subtitle': 'sub1', 'buttons': [{'titleButton': 'Btn1P1', 'typeButton': 'postback', 'payloadButton': 'Informativo | c172acd8-1edc-4d5b-ac66-fdf02dfe35ff | oIgvWKILDrYMYDjlgAIk'}, {'titleButton': 'Btn2p2', 'typeButton': 'postback', 'payloadButton': 'Informativo | c172acd8-1edc-4d5b-ac66-fdf02dfe35ff | oIgvWKILDrYMYDjlgAIk'}]}, {'title': 'Img2', 'image_url': 'https://analyticsindiamag.com/wp-content/uploads/2020/10/7d744a684fe03ebc7e8de545f97739dd.jpg', 'subtitle': 'sub3', 'buttons': [{'titleButton': 'btn1P2', 'typeButton': 'postback', 'payloadButton': 'Informativo | c172acd8-1edc-4d5b-ac66-fdf02dfe35ff | oIgvWKILDrYMYDjlgAIk'}, {'titleButton': 'Btn2P2', 'typeButton': 'postback', 'payloadButton': 'Informativo | c172acd8-1edc-4d5b-ac66-fdf02dfe35ff | oIgvWKILDrYMYDjlgAIk'}]}, {'title': 'Img3', 'image_url': 'https://spaceplace.nasa.gov/gallery-sun/en/solar-flare.en.jpg', 'subtitle': 'Sub3', 'buttons': [{'titleButton': 'Btn1P3', 'typeButton': 'postback', 'payloadButton': 'Informativo | c172acd8-1edc-4d5b-ac66-fdf02dfe35ff | oIgvWKILDrYMYDjlgAIk'}, {'titleButton': 'Btn1P3', 'typeButton': 'postback', 'payloadButton': 'Informativo | c172acd8-1edc-4d5b-ac66-fdf02dfe35ff | oIgvWKILDrYMYDjlgAIk'}]}], 'next_id': ['Informativo | c172acd8-1edc-4d5b-ac66-fdf02dfe35ff | oIgvWKILDrYMYDjlgAIk', 'Informativo | c172acd8-1edc-4d5b-ac66-fdf02dfe35ff | oIgvWKILDrYMYDjlgAIk', 'Informativo | c172acd8-1edc-4d5b-ac66-fdf02dfe35ff | oIgvWKILDrYMYDjlgAIk', 'Informativo | c172acd8-1edc-4d5b-ac66-fdf02dfe35ff | oIgvWKILDrYMYDjlgAIk', 'Informativo | c172acd8-1edc-4d5b-ac66-fdf02dfe35ff | oIgvWKILDrYMYDjlgAIk', 'Informativo | c172acd8-1edc-4d5b-ac66-fdf02dfe35ff | oIgvWKILDrYMYDjlgAIk'], 'blockType': 'slide', 'contentType': ' ', 'typingTime': 1, 'payload': {'content': '', 'state': 'Carrusel | 20088b9a-b5fa-4089-a72d-9ced45cbd899 | oIgvWKILDrYMYDjlgAIk', 'recipient_id': '3992952420759571', 'entities': {}, 'access_token': 'EAAFMtaIPwugBAIRPT4mTm2a9nei1940NrJqMbhvvyPwfZAUZA6Id2YaXUeSu06TENy0QoDsprATI0J2ZCGHS2X6UQ4TG2AWkIbNQ3LLGdRMORJZBZBT9BhB58QusrYaXG90RiZAog3r9THJCXmX1m7vjArQ3KoX3PrEGYehS4j6TSblsfU73uf'}, 'default_id': 'Carrusel | 20088b9a-b5fa-4089-a72d-9ced45cbd899 | oIgvWKILDrYMYDjlgAIk', 'save_var': 'Informativo | c172acd8-1edc-4d5b-ac66-fdf02dfe35ff | oIgvWKILDrYMYDjlgAIk'}}\n",
      "pyload slide:  {'recipient': {'id': '3992952420759571'}, 'message': {'attachment': {'type': 'template', 'payload': {'template_type': 'generic', 'elements': [{'title': 'Img1', 'image_url': 'https://www.gettyimages.es/gi-resources/images/500px/983794168.jpg', 'subtitle': 'sub1', 'buttons': [{'title': 'Btn1P1', 'type': 'postback', 'payload': 'Informativo | c172acd8-1edc-4d5b-ac66-fdf02dfe35ff | oIgvWKILDrYMYDjlgAIk'}, {'title': 'Btn2p2', 'type': 'postback', 'payload': 'Informativo | c172acd8-1edc-4d5b-ac66-fdf02dfe35ff | oIgvWKILDrYMYDjlgAIk'}]}, {'title': 'Img2', 'image_url': 'https://analyticsindiamag.com/wp-content/uploads/2020/10/7d744a684fe03ebc7e8de545f97739dd.jpg', 'subtitle': 'sub3', 'buttons': [{'title': 'btn1P2', 'type': 'postback', 'payload': 'Informativo | c172acd8-1edc-4d5b-ac66-fdf02dfe35ff | oIgvWKILDrYMYDjlgAIk'}, {'title': 'Btn2P2', 'type': 'postback', 'payload': 'Informativo | c172acd8-1edc-4d5b-ac66-fdf02dfe35ff | oIgvWKILDrYMYDjlgAIk'}]}, {'title': 'Img3', 'image_url': 'https://spaceplace.nasa.gov/gallery-sun/en/solar-flare.en.jpg', 'subtitle': 'Sub3', 'buttons': [{'title': 'Btn1P3', 'type': 'postback', 'payload': 'Informativo | c172acd8-1edc-4d5b-ac66-fdf02dfe35ff | oIgvWKILDrYMYDjlgAIk'}, {'title': 'Btn1P3', 'type': 'postback', 'payload': 'Informativo | c172acd8-1edc-4d5b-ac66-fdf02dfe35ff | oIgvWKILDrYMYDjlgAIk'}]}]}}}, 'notification_type': 'REGULAR'}\n",
      "\n",
      "\n",
      "---------------------------------------------------------------------------\n",
      "mensaje enviado a la API de facebook:\n",
      " {'recipient': {'id': '3992952420759571'}, 'message': {'attachment': {'type': 'template', 'payload': {'template_type': 'generic', 'elements': [{'title': 'Img1', 'image_url': 'https://www.gettyimages.es/gi-resources/images/500px/983794168.jpg', 'subtitle': 'sub1', 'buttons': [{'title': 'Btn1P1', 'type': 'postback', 'payload': 'Informativo | c172acd8-1edc-4d5b-ac66-fdf02dfe35ff | oIgvWKILDrYMYDjlgAIk'}, {'title': 'Btn2p2', 'type': 'postback', 'payload': 'Informativo | c172acd8-1edc-4d5b-ac66-fdf02dfe35ff | oIgvWKILDrYMYDjlgAIk'}]}, {'title': 'Img2', 'image_url': 'https://analyticsindiamag.com/wp-content/uploads/2020/10/7d744a684fe03ebc7e8de545f97739dd.jpg', 'subtitle': 'sub3', 'buttons': [{'title': 'btn1P2', 'type': 'postback', 'payload': 'Informativo | c172acd8-1edc-4d5b-ac66-fdf02dfe35ff | oIgvWKILDrYMYDjlgAIk'}, {'title': 'Btn2P2', 'type': 'postback', 'payload': 'Informativo | c172acd8-1edc-4d5b-ac66-fdf02dfe35ff | oIgvWKILDrYMYDjlgAIk'}]}, {'title': 'Img3', 'image_url': 'https://spaceplace.nasa.gov/gallery-sun/en/solar-flare.en.jpg', 'subtitle': 'Sub3', 'buttons': [{'title': 'Btn1P3', 'type': 'postback', 'payload': 'Informativo | c172acd8-1edc-4d5b-ac66-fdf02dfe35ff | oIgvWKILDrYMYDjlgAIk'}, {'title': 'Btn1P3', 'type': 'postback', 'payload': 'Informativo | c172acd8-1edc-4d5b-ac66-fdf02dfe35ff | oIgvWKILDrYMYDjlgAIk'}]}]}}}, 'notification_type': 'REGULAR'}\n",
      " [.] Got %r None\n",
      "\n",
      "_________________________________________________________________________________________________________________________\n",
      "Mesaje de la API de Facebook-> \n",
      " {'object': 'page', 'entry': [{'id': '106842278334918', 'time': 1625687931395, 'messaging': [{'sender': {'id': '106842278334918'}, 'recipient': {'id': '3992952420759571'}, 'timestamp': 1625687931355, 'message': {'mid': 'm_qc-c-NEdszUwexzFbB1NpW5LdZJwKC-4WNAMDG3FPBD1ZZ4YjFtNJU6PnoNC3POL7IATYcof4JIgXKpeWNOxsw', 'is_echo': True, 'app_id': 365817968444136, 'attachments': [{'title': 'Img3, Img1, Img2', 'url': None, 'type': 'template', 'payload': {'template_type': 'generic', 'sharable': False, 'elements': [{'title': 'Img3', 'image_url': 'https://spaceplace.nasa.gov/gallery-sun/en/solar-flare.en.jpg', 'subtitle': 'Sub3', 'buttons': [{'type': 'postback', 'title': 'Btn1P3', 'payload': 'Informativo | c172acd8-1edc-4d5b-ac66-fdf02dfe35ff | oIgvWKILDrYMYDjlgAIk'}, {'type': 'postback', 'title': 'Btn1P3', 'payload': 'Informativo | c172acd8-1edc-4d5b-ac66-fdf02dfe35ff | oIgvWKILDrYMYDjlgAIk'}]}, {'title': 'Img1', 'image_url': 'https://www.gettyimages.es/gi-resources/images/500px/983794168.jpg', 'subtitle': 'sub1', 'buttons': [{'type': 'postback', 'title': 'Btn1P1', 'payload': 'Informativo | c172acd8-1edc-4d5b-ac66-fdf02dfe35ff | oIgvWKILDrYMYDjlgAIk'}, {'type': 'postback', 'title': 'Btn2p2', 'payload': 'Informativo | c172acd8-1edc-4d5b-ac66-fdf02dfe35ff | oIgvWKILDrYMYDjlgAIk'}]}, {'title': 'Img2', 'image_url': 'https://analyticsindiamag.com/wp-content/uploads/2020/10/7d744a684fe03ebc7e8de545f97739dd.jpg', 'subtitle': 'sub3', 'buttons': [{'type': 'postback', 'title': 'btn1P2', 'payload': 'Informativo | c172acd8-1edc-4d5b-ac66-fdf02dfe35ff | oIgvWKILDrYMYDjlgAIk'}, {'type': 'postback', 'title': 'Btn2P2', 'payload': 'Informativo | c172acd8-1edc-4d5b-ac66-fdf02dfe35ff | oIgvWKILDrYMYDjlgAIk'}]}]}}]}}]}]}\n",
      "[{'sender': {'id': '106842278334918'}, 'recipient': {'id': '3992952420759571'}, 'timestamp': 1625687931355, 'message': {'mid': 'm_qc-c-NEdszUwexzFbB1NpW5LdZJwKC-4WNAMDG3FPBD1ZZ4YjFtNJU6PnoNC3POL7IATYcof4JIgXKpeWNOxsw', 'is_echo': True, 'app_id': 365817968444136, 'attachments': [{'title': 'Img3, Img1, Img2', 'url': None, 'type': 'template', 'payload': {'template_type': 'generic', 'sharable': False, 'elements': [{'title': 'Img3', 'image_url': 'https://spaceplace.nasa.gov/gallery-sun/en/solar-flare.en.jpg', 'subtitle': 'Sub3', 'buttons': [{'type': 'postback', 'title': 'Btn1P3', 'payload': 'Informativo | c172acd8-1edc-4d5b-ac66-fdf02dfe35ff | oIgvWKILDrYMYDjlgAIk'}, {'type': 'postback', 'title': 'Btn1P3', 'payload': 'Informativo | c172acd8-1edc-4d5b-ac66-fdf02dfe35ff | oIgvWKILDrYMYDjlgAIk'}]}, {'title': 'Img1', 'image_url': 'https://www.gettyimages.es/gi-resources/images/500px/983794168.jpg', 'subtitle': 'sub1', 'buttons': [{'type': 'postback', 'title': 'Btn1P1', 'payload': 'Informativo | c172acd8-1edc-4d5b-ac66-fdf02dfe35ff | oIgvWKILDrYMYDjlgAIk'}, {'type': 'postback', 'title': 'Btn2p2', 'payload': 'Informativo | c172acd8-1edc-4d5b-ac66-fdf02dfe35ff | oIgvWKILDrYMYDjlgAIk'}]}, {'title': 'Img2', 'image_url': 'https://analyticsindiamag.com/wp-content/uploads/2020/10/7d744a684fe03ebc7e8de545f97739dd.jpg', 'subtitle': 'sub3', 'buttons': [{'type': 'postback', 'title': 'btn1P2', 'payload': 'Informativo | c172acd8-1edc-4d5b-ac66-fdf02dfe35ff | oIgvWKILDrYMYDjlgAIk'}, {'type': 'postback', 'title': 'Btn2P2', 'payload': 'Informativo | c172acd8-1edc-4d5b-ac66-fdf02dfe35ff | oIgvWKILDrYMYDjlgAIk'}]}]}}]}}]\n"
     ]
    },
    {
     "name": "stderr",
     "output_type": "stream",
     "text": [
      "127.0.0.1 - - [07/Jul/2021 14:58:48] \"\u001b[37mPOST /apiREST/v1 HTTP/1.1\u001b[0m\" 200 -\n",
      "127.0.0.1 - - [07/Jul/2021 14:58:48] \"\u001b[37mPOST /apiREST/v1 HTTP/1.1\u001b[0m\" 200 -\n"
     ]
    },
    {
     "name": "stdout",
     "output_type": "stream",
     "text": [
      "hilo consume\n",
      "\n",
      "______________________________________________no read__________________________________________________________________________\n",
      "\n",
      "\t\tMensaje enviado al Nucleo Logico->\n",
      "  {\"payload\": {\"robot\": \"none\", \"id_face\": \"106842278334918\", \"recipient_id\": \"106842278334918\", \"access_token\": \"none\", \"content\": [{\"title\": \"Img3, Img1, Img2\", \"url\": null, \"type\": \"template\", \"payload\": {\"template_type\": \"generic\", \"sharable\": false, \"elements\": [{\"title\": \"Img3\", \"image_url\": \"https://spaceplace.nasa.gov/gallery-sun/en/solar-flare.en.jpg\", \"subtitle\": \"Sub3\", \"buttons\": [{\"type\": \"postback\", \"title\": \"Btn1P3\", \"payload\": \"Informativo | c172acd8-1edc-4d5b-ac66-fdf02dfe35ff | oIgvWKILDrYMYDjlgAIk\"}, {\"type\": \"postback\", \"title\": \"Btn1P3\", \"payload\": \"Informativo | c172acd8-1edc-4d5b-ac66-fdf02dfe35ff | oIgvWKILDrYMYDjlgAIk\"}]}, {\"title\": \"Img1\", \"image_url\": \"https://www.gettyimages.es/gi-resources/images/500px/983794168.jpg\", \"subtitle\": \"sub1\", \"buttons\": [{\"type\": \"postback\", \"title\": \"Btn1P1\", \"payload\": \"Informativo | c172acd8-1edc-4d5b-ac66-fdf02dfe35ff | oIgvWKILDrYMYDjlgAIk\"}, {\"type\": \"postback\", \"title\": \"Btn2p2\", \"payload\": \"Informativo | c172acd8-1edc-4d5b-ac66-fdf02dfe35ff | oIgvWKILDrYMYDjlgAIk\"}]}, {\"title\": \"Img2\", \"image_url\": \"https://analyticsindiamag.com/wp-content/uploads/2020/10/7d744a684fe03ebc7e8de545f97739dd.jpg\", \"subtitle\": \"sub3\", \"buttons\": [{\"type\": \"postback\", \"title\": \"btn1P2\", \"payload\": \"Informativo | c172acd8-1edc-4d5b-ac66-fdf02dfe35ff | oIgvWKILDrYMYDjlgAIk\"}, {\"type\": \"postback\", \"title\": \"Btn2P2\", \"payload\": \"Informativo | c172acd8-1edc-4d5b-ac66-fdf02dfe35ff | oIgvWKILDrYMYDjlgAIk\"}]}]}}], \"type_resp\": \"message\", \"state\": \"none\", \"blocktype\": \"none\", \"opciones\": \"none\", \"entities\": {}}}\n",
      "\n",
      "_________________________________________________________________________________________________________________________\n",
      "Mesaje de la API de Facebook-> \n",
      " {'object': 'page', 'entry': [{'id': '106842278334918', 'time': 1625687931597, 'messaging': [{'sender': {'id': '3992952420759571'}, 'recipient': {'id': '106842278334918'}, 'timestamp': 1625687931636, 'delivery': {'mids': ['m_qc-c-NEdszUwexzFbB1NpW5LdZJwKC-4WNAMDG3FPBD1ZZ4YjFtNJU6PnoNC3POL7IATYcof4JIgXKpeWNOxsw'], 'watermark': 1625687931355}}]}]}\n"
     ]
    },
    {
     "name": "stderr",
     "output_type": "stream",
     "text": [
      "127.0.0.1 - - [07/Jul/2021 14:58:48] \"\u001b[37mPOST /apiREST/v1 HTTP/1.1\u001b[0m\" 200 -\n"
     ]
    },
    {
     "name": "stdout",
     "output_type": "stream",
     "text": [
      "\n",
      "_________________________________________________________________________________________________________________________\n",
      "\t\t\n",
      "Respuesta del Nucleo Logico->  {'Respuesta': {'content': 'Hola oswaldo', 'next_id': 'Carrusel | 20088b9a-b5fa-4089-a72d-9ced45cbd899 | oIgvWKILDrYMYDjlgAIk', 'blockType': 'informativo', 'contentType': 'text', 'typingTime': '1', 'payload': {'content': '', 'state': 'Informativo | 2edb2c69-beb8-471f-9799-940599824c36 | oIgvWKILDrYMYDjlgAIk', 'recipient_id': '106842278334918', 'entities': {}, 'access_token': 'EAAFMtaIPwugBAIRPT4mTm2a9nei1940NrJqMbhvvyPwfZAUZA6Id2YaXUeSu06TENy0QoDsprATI0J2ZCGHS2X6UQ4TG2AWkIbNQ3LLGdRMORJZBZBT9BhB58QusrYaXG90RiZAog3r9THJCXmX1m7vjArQ3KoX3PrEGYehS4j6TSblsfU73uf'}}}\n",
      "\n",
      "_________________________________________________________________________________________________________________________\n",
      "Mesaje de la API de Facebook-> \n",
      " {'object': 'page', 'entry': [{'id': '106842278334918', 'time': 1625687931713, 'messaging': [{'sender': {'id': '3992952420759571'}, 'recipient': {'id': '106842278334918'}, 'timestamp': 1625687931871, 'read': {'watermark': 1625687931660}}]}]}\n",
      "hilo consume\n",
      "\n",
      "\n",
      "---------------------------------------------------------------------------\n",
      "mensaje enviado a la API de facebook:\n",
      " {'message': {'text': 'Hola oswaldo'}, 'recipient': {'id': '106842278334918'}, 'notification_type': 'REGULAR'}\n",
      " [.] Got %r None\n",
      " [.] Got %r None\n"
     ]
    },
    {
     "name": "stderr",
     "output_type": "stream",
     "text": [
      "127.0.0.1 - - [07/Jul/2021 14:58:50] \"\u001b[37mPOST /apiREST/v1 HTTP/1.1\u001b[0m\" 200 -\n"
     ]
    },
    {
     "name": "stdout",
     "output_type": "stream",
     "text": [
      "\n",
      "_________________________________________________________________________________________________________________________\n",
      "Mesaje de la API de Facebook-> \n",
      " {'object': 'page', 'entry': [{'id': '106842278334918', 'time': 1625687933356, 'messaging': [{'sender': {'id': '3992952420759571'}, 'recipient': {'id': '106842278334918'}, 'timestamp': 1625687933454, 'read': {'watermark': 1625687932970}}]}]}\n",
      "hilo consume\n",
      " [.] Got %r None\n"
     ]
    },
    {
     "name": "stderr",
     "output_type": "stream",
     "text": [
      "127.0.0.1 - - [07/Jul/2021 14:58:50] \"\u001b[37mPOST /apiREST/v1 HTTP/1.1\u001b[0m\" 200 -\n"
     ]
    },
    {
     "name": "stdout",
     "output_type": "stream",
     "text": [
      "\n",
      "_________________________________________________________________________________________________________________________\n",
      "Mesaje de la API de Facebook-> \n",
      " {'object': 'page', 'entry': [{'id': '106842278334918', 'time': 1625687933559, 'messaging': [{'sender': {'id': '3992952420759571'}, 'recipient': {'id': '106842278334918'}, 'timestamp': 1625687933398, 'postback': {'title': 'Btn1P3', 'payload': 'Informativo | c172acd8-1edc-4d5b-ac66-fdf02dfe35ff | oIgvWKILDrYMYDjlgAIk', 'mid': 'm_hPiiGN3OhuECVhE6rSJXFG5LdZJwKC-4WNAMDG3FPBDyXuJibrx3DwtfDl8aD3jXtWjAx5nDczH-KJd1jOZeTg'}}]}]}\n",
      "hilo consume\n",
      "\n",
      "______________________________________________no read__________________________________________________________________________\n",
      "\n",
      "\t\tMensaje enviado al Nucleo Logico->\n",
      "  {\"payload\": {\"robot\": \"none\", \"id_face\": \"106842278334918\", \"recipient_id\": \"3992952420759571\", \"access_token\": \"none\", \"content\": \"Informativo | c172acd8-1edc-4d5b-ac66-fdf02dfe35ff | oIgvWKILDrYMYDjlgAIk\", \"type_resp\": \"postback\", \"state\": \"none\", \"blocktype\": \"none\", \"opciones\": \"none\", \"entities\": {}}}\n",
      "\n",
      "_________________________________________________________________________________________________________________________\n",
      "\t\t\n",
      "Respuesta del Nucleo Logico->  {'Respuesta': {'content': 'Adios Oswa', 'next_id': 'Salida', 'blockType': 'informativo', 'contentType': 'text', 'typingTime': '1', 'payload': {'content': '', 'state': 'Informativo | c172acd8-1edc-4d5b-ac66-fdf02dfe35ff | oIgvWKILDrYMYDjlgAIk', 'recipient_id': '3992952420759571', 'entities': {'variableCarrCarrusel_|_20088b9a-b5fa-4089-a72d-9ced45cbd8992154': 'Informativo | c172acd8-1edc-4d5b-ac66-fdf02dfe35ff | oIgvWKILDrYMYDjlgAIk'}, 'access_token': 'EAAFMtaIPwugBAIRPT4mTm2a9nei1940NrJqMbhvvyPwfZAUZA6Id2YaXUeSu06TENy0QoDsprATI0J2ZCGHS2X6UQ4TG2AWkIbNQ3LLGdRMORJZBZBT9BhB58QusrYaXG90RiZAog3r9THJCXmX1m7vjArQ3KoX3PrEGYehS4j6TSblsfU73uf'}}}\n"
     ]
    },
    {
     "name": "stderr",
     "output_type": "stream",
     "text": [
      "127.0.0.1 - - [07/Jul/2021 14:58:51] \"\u001b[37mPOST /apiREST/v1 HTTP/1.1\u001b[0m\" 200 -\n"
     ]
    },
    {
     "name": "stdout",
     "output_type": "stream",
     "text": [
      "\n",
      "\n",
      "---------------------------------------------------------------------------\n",
      "mensaje enviado a la API de facebook:\n",
      " {'message': {'text': 'Adios Oswa'}, 'recipient': {'id': '3992952420759571'}, 'notification_type': 'REGULAR'}\n",
      " [.] Got %r None\n",
      "\n",
      "_________________________________________________________________________________________________________________________\n",
      "Mesaje de la API de Facebook-> \n",
      " {'object': 'page', 'entry': [{'id': '106842278334918', 'time': 1625687934598, 'messaging': [{'sender': {'id': '106842278334918'}, 'recipient': {'id': '3992952420759571'}, 'timestamp': 1625687934557, 'message': {'mid': 'm_mSngwBIkpuCpzby94u3Edm5LdZJwKC-4WNAMDG3FPBAhT6eIptcHsd8Vcpqe2Sqd9v7ZmMWNTIYVlL0_X7CL1Q', 'is_echo': True, 'text': 'Adios Oswa', 'app_id': 365817968444136}}]}]}\n",
      "[{'sender': {'id': '106842278334918'}, 'recipient': {'id': '3992952420759571'}, 'timestamp': 1625687934557, 'message': {'mid': 'm_mSngwBIkpuCpzby94u3Edm5LdZJwKC-4WNAMDG3FPBAhT6eIptcHsd8Vcpqe2Sqd9v7ZmMWNTIYVlL0_X7CL1Q', 'is_echo': True, 'text': 'Adios Oswa', 'app_id': 365817968444136}}]\n",
      "hilo consume\n",
      "\n",
      "______________________________________________no read__________________________________________________________________________\n",
      "\n",
      "\t\tMensaje enviado al Nucleo Logico->\n",
      "  {\"payload\": {\"robot\": \"none\", \"id_face\": \"106842278334918\", \"recipient_id\": \"106842278334918\", \"access_token\": \"none\", \"content\": \"Adios Oswa\", \"type_resp\": \"message\", \"state\": \"none\", \"blocktype\": \"none\", \"opciones\": \"none\", \"entities\": {}}}\n"
     ]
    },
    {
     "name": "stderr",
     "output_type": "stream",
     "text": [
      "127.0.0.1 - - [07/Jul/2021 14:58:51] \"\u001b[37mPOST /apiREST/v1 HTTP/1.1\u001b[0m\" 200 -\n"
     ]
    },
    {
     "name": "stdout",
     "output_type": "stream",
     "text": [
      "\n",
      "_________________________________________________________________________________________________________________________\n",
      "Mesaje de la API de Facebook-> \n",
      " {'object': 'page', 'entry': [{'id': '106842278334918', 'time': 1625687934693, 'messaging': [{'sender': {'id': '3992952420759571'}, 'recipient': {'id': '106842278334918'}, 'timestamp': 1625687934733, 'delivery': {'mids': ['m_mSngwBIkpuCpzby94u3Edm5LdZJwKC-4WNAMDG3FPBAhT6eIptcHsd8Vcpqe2Sqd9v7ZmMWNTIYVlL0_X7CL1Q'], 'watermark': 1625687934557}}]}]}\n",
      "\n",
      "_________________________________________________________________________________________________________________________\n",
      "Mesaje de la API de Facebook-> \n",
      " "
     ]
    },
    {
     "name": "stderr",
     "output_type": "stream",
     "text": [
      "127.0.0.1 - - [07/Jul/2021 14:58:51] \"\u001b[37mPOST /apiREST/v1 HTTP/1.1\u001b[0m\" 200 -\n"
     ]
    },
    {
     "name": "stdout",
     "output_type": "stream",
     "text": [
      "{'object': 'page', 'entry': [{'id': '106842278334918', 'time': 1625687934763, 'messaging': [{'sender': {'id': '3992952420759571'}, 'recipient': {'id': '106842278334918'}, 'timestamp': 1625687934917, 'read': {'watermark': 1625687934728}}]}]}\n",
      "\n",
      "_________________________________________________________________________________________________________________________\n",
      "\t\t\n",
      "Respuesta del Nucleo Logico->  {'Respuesta': {'content': 'Hola oswaldo', 'next_id': 'Carrusel | 20088b9a-b5fa-4089-a72d-9ced45cbd899 | oIgvWKILDrYMYDjlgAIk', 'blockType': 'informativo', 'contentType': 'text', 'typingTime': '1', 'payload': {'content': '', 'state': 'Informativo | 2edb2c69-beb8-471f-9799-940599824c36 | oIgvWKILDrYMYDjlgAIk', 'recipient_id': '106842278334918', 'entities': {}, 'access_token': 'EAAFMtaIPwugBAIRPT4mTm2a9nei1940NrJqMbhvvyPwfZAUZA6Id2YaXUeSu06TENy0QoDsprATI0J2ZCGHS2X6UQ4TG2AWkIbNQ3LLGdRMORJZBZBT9BhB58QusrYaXG90RiZAog3r9THJCXmX1m7vjArQ3KoX3PrEGYehS4j6TSblsfU73uf'}}}\n",
      "hilo consume\n",
      "\n",
      "\n",
      "---------------------------------------------------------------------------\n",
      "mensaje enviado a la API de facebook:\n",
      " {'message': {'text': 'Hola oswaldo'}, 'recipient': {'id': '106842278334918'}, 'notification_type': 'REGULAR'}\n",
      " [.] Got %r None\n"
     ]
    },
    {
     "name": "stderr",
     "output_type": "stream",
     "text": [
      "127.0.0.1 - - [07/Jul/2021 14:59:30] \"\u001b[37mPOST /apiREST/v1 HTTP/1.1\u001b[0m\" 200 -\n"
     ]
    },
    {
     "name": "stdout",
     "output_type": "stream",
     "text": [
      "\n",
      "_________________________________________________________________________________________________________________________\n",
      "Mesaje de la API de Facebook-> \n",
      " {'object': 'page', 'entry': [{'id': '106842278334918', 'time': 1625687973667, 'messaging': [{'sender': {'id': '3992952420759571'}, 'recipient': {'id': '106842278334918'}, 'timestamp': 1625687973756, 'read': {'watermark': 1625687973257}}]}]}\n",
      "hilo consume\n",
      " [.] Got %r None\n",
      "\n",
      "_________________________________________________________________________________________________________________________\n",
      "Mesaje de la API de Facebook-> \n",
      " {'object': 'page', 'entry': [{'id': '106842278334918', 'time': 1625687973785, 'messaging': [{'sender': {'id': '3992952420759571'}, 'recipient': {'id': '106842278334918'}, 'timestamp': 1625687973708, 'message': {'mid': 'm_H1Aw-LzXTd-6jj_RARbix25LdZJwKC-4WNAMDG3FPBDTBtKuWi30u_Ilg-0mnRUN2MPCYhXG35qoPl6fzyOTjA', 'text': 'Hola'}}]}]}\n",
      "[{'sender': {'id': '3992952420759571'}, 'recipient': {'id': '106842278334918'}, 'timestamp': 1625687973708, 'message': {'mid': 'm_H1Aw-LzXTd-6jj_RARbix25LdZJwKC-4WNAMDG3FPBDTBtKuWi30u_Ilg-0mnRUN2MPCYhXG35qoPl6fzyOTjA', 'text': 'Hola'}}]\n",
      "hilo consume\n",
      "\n",
      "______________________________________________no read__________________________________________________________________________\n"
     ]
    },
    {
     "name": "stderr",
     "output_type": "stream",
     "text": [
      "127.0.0.1 - - [07/Jul/2021 14:59:31] \"\u001b[37mPOST /apiREST/v1 HTTP/1.1\u001b[0m\" 200 -\n"
     ]
    },
    {
     "name": "stdout",
     "output_type": "stream",
     "text": [
      "\n",
      "\t\tMensaje enviado al Nucleo Logico->\n",
      "  {\"payload\": {\"robot\": \"none\", \"id_face\": \"106842278334918\", \"recipient_id\": \"3992952420759571\", \"access_token\": \"none\", \"content\": \"Hola\", \"type_resp\": \"message\", \"state\": \"none\", \"blocktype\": \"none\", \"opciones\": \"none\", \"entities\": {}}}\n"
     ]
    },
    {
     "name": "stderr",
     "output_type": "stream",
     "text": [
      "127.0.0.1 - - [07/Jul/2021 14:59:50] \"\u001b[37mPOST /apiREST/v1 HTTP/1.1\u001b[0m\" 200 -\n",
      "127.0.0.1 - - [07/Jul/2021 14:59:50] \"\u001b[37mPOST /apiREST/v1 HTTP/1.1\u001b[0m\" 200 -\n"
     ]
    },
    {
     "name": "stdout",
     "output_type": "stream",
     "text": [
      "\n",
      "_________________________________________________________________________________________________________________________\n",
      "Mesaje de la API de Facebook-> \n",
      " {'object': 'page', 'entry': [{'id': '106842278334918', 'time': 1625687992957, 'messaging': [{'sender': {'id': '3992952420759571'}, 'recipient': {'id': '106842278334918'}, 'timestamp': 1625687993066, 'read': {'watermark': 1625687992550}}]}]}\n",
      "hilo consume\n",
      "\n",
      "_________________________________________________________________________________________________________________________\n",
      "Mesaje de la API de Facebook-> \n",
      " {'object': 'page', 'entry': [{'id': '106842278334918', 'time': 1625687993107, 'messaging': [{'sender': {'id': '3992952420759571'}, 'recipient': {'id': '106842278334918'}, 'timestamp': 1625687993003, 'message': {'mid': 'm_kf2zbnScpAprOX2ieD9F5W5LdZJwKC-4WNAMDG3FPBA7neP4MGmeC_EU6_eXJFVuI40Mt5oIdLUzDOfygRMFJw', 'text': 'Hola'}}]}]}\n",
      "[{'sender': {'id': '3992952420759571'}, 'recipient': {'id': '106842278334918'}, 'timestamp': 1625687993003, 'message': {'mid': 'm_kf2zbnScpAprOX2ieD9F5W5LdZJwKC-4WNAMDG3FPBA7neP4MGmeC_EU6_eXJFVuI40Mt5oIdLUzDOfygRMFJw', 'text': 'Hola'}}]\n",
      "hilo consume\n",
      "\n",
      "______________________________________________no read__________________________________________________________________________\n",
      "\n",
      "\t\tMensaje enviado al Nucleo Logico->\n",
      "  {\"payload\": {\"robot\": \"none\", \"id_face\": \"106842278334918\", \"recipient_id\": \"3992952420759571\", \"access_token\": \"none\", \"content\": \"Hola\", \"type_resp\": \"message\", \"state\": \"none\", \"blocktype\": \"none\", \"opciones\": \"none\", \"entities\": {}}}\n"
     ]
    },
    {
     "name": "stderr",
     "output_type": "stream",
     "text": [
      "127.0.0.1 - - [07/Jul/2021 15:00:13] \"\u001b[37mPOST /apiREST/v1 HTTP/1.1\u001b[0m\" 200 -\n"
     ]
    },
    {
     "name": "stdout",
     "output_type": "stream",
     "text": [
      "\n",
      "_________________________________________________________________________________________________________________________\n",
      "Mesaje de la API de Facebook-> \n",
      " {'object': 'page', 'entry': [{'id': '106842278334918', 'time': 1625688015934, 'messaging': [{'sender': {'id': '3992952420759571'}, 'recipient': {'id': '106842278334918'}, 'timestamp': 1625688016082, 'read': {'watermark': 1625688015526}}]}]}\n",
      "hilo consume\n",
      "\n",
      "_________________________________________________________________________________________________________________________\n",
      "Mesaje de la API de Facebook-> \n",
      " {'object': 'page', 'entry': [{'id': '106842278334918', 'time': 1625688016121, 'messaging': [{'sender': {'id': '3992952420759571'}, 'recipient': {'id': '106842278334918'}, 'timestamp': 1625688016024, 'message': {'mid': 'm_1nLTZkLd1VwNUB2PxOwfWG5LdZJwKC-4WNAMDG3FPBA9qarFzyavA_VuT91am_lZLTjSrlemag1y3bBKf-Y-cg', 'text': 'Hola'}}]}]}\n",
      "[{'sender': {'id': '3992952420759571'}, 'recipient': {'id': '106842278334918'}, 'timestamp': 1625688016024, 'message': {'mid': 'm_1nLTZkLd1VwNUB2PxOwfWG5LdZJwKC-4WNAMDG3FPBA9qarFzyavA_VuT91am_lZLTjSrlemag1y3bBKf-Y-cg', 'text': 'Hola'}}]\n"
     ]
    },
    {
     "name": "stderr",
     "output_type": "stream",
     "text": [
      "127.0.0.1 - - [07/Jul/2021 15:00:13] \"\u001b[37mPOST /apiREST/v1 HTTP/1.1\u001b[0m\" 200 -\n"
     ]
    },
    {
     "name": "stdout",
     "output_type": "stream",
     "text": [
      "hilo consume\n",
      "\n",
      "______________________________________________no read__________________________________________________________________________\n",
      "\n",
      "\t\tMensaje enviado al Nucleo Logico->\n",
      "  {\"payload\": {\"robot\": \"none\", \"id_face\": \"106842278334918\", \"recipient_id\": \"3992952420759571\", \"access_token\": \"none\", \"content\": \"Hola\", \"type_resp\": \"message\", \"state\": \"none\", \"blocktype\": \"none\", \"opciones\": \"none\", \"entities\": {}}}\n"
     ]
    },
    {
     "name": "stderr",
     "output_type": "stream",
     "text": [
      "127.0.0.1 - - [07/Jul/2021 15:04:20] \"\u001b[37mPOST /apiREST/v1 HTTP/1.1\u001b[0m\" 200 -\n"
     ]
    },
    {
     "name": "stdout",
     "output_type": "stream",
     "text": [
      "\n",
      "_________________________________________________________________________________________________________________________\n",
      "Mesaje de la API de Facebook-> \n",
      " {'object': 'page', 'entry': [{'id': '106842278334918', 'time': 1625688263531, 'messaging': [{'sender': {'id': '3992952420759571'}, 'recipient': {'id': '106842278334918'}, 'timestamp': 1625688263634, 'read': {'watermark': 1625688263120}}]}]}\n",
      "hilo consume\n",
      " [.] Got %r None\n",
      "\n",
      "_________________________________________________________________________________________________________________________\n",
      "Mesaje de la API de Facebook-> \n",
      " {'object': 'page', 'entry': [{'id': '106842278334918', 'time': 1625688263690, 'messaging': [{'sender': {'id': '3992952420759571'}, 'recipient': {'id': '106842278334918'}, 'timestamp': 1625688263580, 'message': {'mid': 'm_D_5uh9Ebz_42VdT1QuxQM25LdZJwKC-4WNAMDG3FPBDH945ug0Oj7D4WeZ6rVGGX_fGHSyb51JMrtxtXv7DG9A', 'text': 'Hola'}}]}]}\n",
      "[{'sender': {'id': '3992952420759571'}, 'recipient': {'id': '106842278334918'}, 'timestamp': 1625688263580, 'message': {'mid': 'm_D_5uh9Ebz_42VdT1QuxQM25LdZJwKC-4WNAMDG3FPBDH945ug0Oj7D4WeZ6rVGGX_fGHSyb51JMrtxtXv7DG9A', 'text': 'Hola'}}]\n"
     ]
    },
    {
     "name": "stderr",
     "output_type": "stream",
     "text": [
      "127.0.0.1 - - [07/Jul/2021 15:04:20] \"\u001b[37mPOST /apiREST/v1 HTTP/1.1\u001b[0m\" 200 -\n"
     ]
    },
    {
     "name": "stdout",
     "output_type": "stream",
     "text": [
      "hilo consume\n",
      "\n",
      "\n",
      "______________________________________________no read__________________________________________________________________________\n",
      "\t\tMensaje enviado al Nucleo Logico->\n",
      "  {\"payload\": {\"robot\": \"none\", \"id_face\": \"106842278334918\", \"recipient_id\": \"3992952420759571\", \"access_token\": \"none\", \"content\": \"Hola\", \"type_resp\": \"message\", \"state\": \"none\", \"blocktype\": \"none\", \"opciones\": \"none\", \"entities\": {}}}\n",
      "\n",
      "_________________________________________________________________________________________________________________________\n",
      "\t\t\n",
      "Respuesta del Nucleo Logico->  {'Respuesta': {'content': 'Hola oswaldo', 'next_id': 'Informativo | e61376a2-83b0-4ccd-90b2-0d3b8d9fc04b | 23985004-9470-9169-4961-397901325837 | oIgvWKILDrYMYDjlgAIk', 'blockType': 'informativo', 'contentType': 'text', 'typingTime': '1', 'payload': {'content': '', 'state': 'Informativo | 2edb2c69-beb8-471f-9799-940599824c36 | oIgvWKILDrYMYDjlgAIk', 'recipient_id': '3992952420759571', 'entities': {}, 'access_token': 'EAAFMtaIPwugBAIRPT4mTm2a9nei1940NrJqMbhvvyPwfZAUZA6Id2YaXUeSu06TENy0QoDsprATI0J2ZCGHS2X6UQ4TG2AWkIbNQ3LLGdRMORJZBZBT9BhB58QusrYaXG90RiZAog3r9THJCXmX1m7vjArQ3KoX3PrEGYehS4j6TSblsfU73uf'}}}\n"
     ]
    },
    {
     "name": "stderr",
     "output_type": "stream",
     "text": [
      "127.0.0.1 - - [07/Jul/2021 15:04:21] \"\u001b[37mPOST /apiREST/v1 HTTP/1.1\u001b[0m\" 200 -\n"
     ]
    },
    {
     "name": "stdout",
     "output_type": "stream",
     "text": [
      "\n",
      "\n",
      "---------------------------------------------------------------------------\n",
      "mensaje enviado a la API de facebook:\n",
      " {'message': {'text': 'Hola oswaldo'}, 'recipient': {'id': '3992952420759571'}, 'notification_type': 'REGULAR'}\n",
      " [.] Got %r None\n",
      "\n",
      "_________________________________________________________________________________________________________________________\n",
      "Mesaje de la API de Facebook-> \n",
      " {'object': 'page', 'entry': [{'id': '106842278334918', 'time': 1625688264726, 'messaging': [{'sender': {'id': '106842278334918'}, 'recipient': {'id': '3992952420759571'}, 'timestamp': 1625688264693, 'message': {'mid': 'm_IaWgMuVyLsN9qvPGd8VQBW5LdZJwKC-4WNAMDG3FPBDT2GHAe_O1JV1nL7iDxcDxa_alsBSdEBtxOvI3ioiCag', 'is_echo': True, 'text': 'Hola oswaldo', 'app_id': 365817968444136}}]}]}\n",
      "[{'sender': {'id': '106842278334918'}, 'recipient': {'id': '3992952420759571'}, 'timestamp': 1625688264693, 'message': {'mid': 'm_IaWgMuVyLsN9qvPGd8VQBW5LdZJwKC-4WNAMDG3FPBDT2GHAe_O1JV1nL7iDxcDxa_alsBSdEBtxOvI3ioiCag', 'is_echo': True, 'text': 'Hola oswaldo', 'app_id': 365817968444136}}]\n",
      "hilo consume\n",
      "\n",
      "______________________________________________no read__________________________________________________________________________\n",
      "\n",
      "\t\tMensaje enviado al Nucleo Logico->\n",
      "  {\"payload\": {\"robot\": \"none\", \"id_face\": \"106842278334918\", \"recipient_id\": \"106842278334918\", \"access_token\": \"none\", \"content\": \"Hola oswaldo\", \"type_resp\": \"message\", \"state\": \"none\", \"blocktype\": \"none\", \"opciones\": \"none\", \"entities\": {}}}\n"
     ]
    },
    {
     "name": "stderr",
     "output_type": "stream",
     "text": [
      "127.0.0.1 - - [07/Jul/2021 15:04:21] \"\u001b[37mPOST /apiREST/v1 HTTP/1.1\u001b[0m\" 200 -\n"
     ]
    },
    {
     "name": "stdout",
     "output_type": "stream",
     "text": [
      "\n",
      "_________________________________________________________________________________________________________________________\n",
      "Mesaje de la API de Facebook-> \n",
      " {'object': 'page', 'entry': [{'id': '106842278334918', 'time': 1625688264830, 'messaging': [{'sender': {'id': '3992952420759571'}, 'recipient': {'id': '106842278334918'}, 'timestamp': 1625688264868, 'delivery': {'mids': ['m_IaWgMuVyLsN9qvPGd8VQBW5LdZJwKC-4WNAMDG3FPBDT2GHAe_O1JV1nL7iDxcDxa_alsBSdEBtxOvI3ioiCag'], 'watermark': 1625688264693}}]}]}\n"
     ]
    },
    {
     "name": "stderr",
     "output_type": "stream",
     "text": [
      "127.0.0.1 - - [07/Jul/2021 15:04:22] \"\u001b[37mPOST /apiREST/v1 HTTP/1.1\u001b[0m\" 200 -\n"
     ]
    },
    {
     "name": "stdout",
     "output_type": "stream",
     "text": [
      "\n",
      "_________________________________________________________________________________________________________________________\n",
      "\t\t\n",
      "Respuesta del Nucleo Logico->  {'Respuesta': {'content': 'Hola oswaldo', 'next_id': 'Informativo | e61376a2-83b0-4ccd-90b2-0d3b8d9fc04b | 23985004-9470-9169-4961-397901325837 | oIgvWKILDrYMYDjlgAIk', 'blockType': 'informativo', 'contentType': 'text', 'typingTime': '1', 'payload': {'content': '', 'state': 'Informativo | 2edb2c69-beb8-471f-9799-940599824c36 | oIgvWKILDrYMYDjlgAIk', 'recipient_id': '106842278334918', 'entities': {}, 'access_token': 'EAAFMtaIPwugBAIRPT4mTm2a9nei1940NrJqMbhvvyPwfZAUZA6Id2YaXUeSu06TENy0QoDsprATI0J2ZCGHS2X6UQ4TG2AWkIbNQ3LLGdRMORJZBZBT9BhB58QusrYaXG90RiZAog3r9THJCXmX1m7vjArQ3KoX3PrEGYehS4j6TSblsfU73uf'}}}\n",
      "\n",
      "_________________________________________________________________________________________________________________________\n",
      "Mesaje de la API de Facebook-> \n",
      " {'object': 'page', 'entry': [{'id': '106842278334918', 'time': 1625688264933, 'messaging': [{'sender': {'id': '3992952420759571'}, 'recipient': {'id': '106842278334918'}, 'timestamp': 1625688265078, 'read': {'watermark': 1625688264901}}]}]}\n",
      "hilo consume\n",
      "\n",
      "\n",
      "---------------------------------------------------------------------------\n",
      "mensaje enviado a la API de facebook:\n",
      " {'message': {'text': 'Hola oswaldo'}, 'recipient': {'id': '106842278334918'}, 'notification_type': 'REGULAR'}\n",
      " [.] Got %r None\n",
      "\n",
      "_________________________________________________________________________________________________________________________\n",
      "\t\t\n",
      "Respuesta del Nucleo Logico->  {'Respuesta': {'content': 'Este es un compuesto', 'next_id': 'QuickReply | 738c6ab6-ca8a-4669-9598-d4eda2e40785 | 23985004-9470-9169-4961-397901325837 | oIgvWKILDrYMYDjlgAIk', 'blockType': 'informativo', 'contentType': 'text', 'typingTime': '1', 'payload': {'content': '', 'state': 'Informativo | e61376a2-83b0-4ccd-90b2-0d3b8d9fc04b | 23985004-9470-9169-4961-397901325837 | oIgvWKILDrYMYDjlgAIk', 'recipient_id': '3992952420759571', 'entities': {}, 'access_token': 'EAAFMtaIPwugBAIRPT4mTm2a9nei1940NrJqMbhvvyPwfZAUZA6Id2YaXUeSu06TENy0QoDsprATI0J2ZCGHS2X6UQ4TG2AWkIbNQ3LLGdRMORJZBZBT9BhB58QusrYaXG90RiZAog3r9THJCXmX1m7vjArQ3KoX3PrEGYehS4j6TSblsfU73uf'}}}\n"
     ]
    },
    {
     "name": "stderr",
     "output_type": "stream",
     "text": [
      "127.0.0.1 - - [07/Jul/2021 15:04:23] \"\u001b[37mPOST /apiREST/v1 HTTP/1.1\u001b[0m\" 200 -\n"
     ]
    },
    {
     "name": "stdout",
     "output_type": "stream",
     "text": [
      "\n",
      "\n",
      "---------------------------------------------------------------------------\n",
      "mensaje enviado a la API de facebook:\n",
      " {'message': {'text': 'Este es un compuesto'}, 'recipient': {'id': '3992952420759571'}, 'notification_type': 'REGULAR'}\n",
      " [.] Got %r None\n",
      "\n",
      "_________________________________________________________________________________________________________________________\n",
      "Mesaje de la API de Facebook-> \n",
      " {'object': 'page', 'entry': [{'id': '106842278334918', 'time': 1625688266149, 'messaging': [{'sender': {'id': '106842278334918'}, 'recipient': {'id': '3992952420759571'}, 'timestamp': 1625688266104, 'message': {'mid': 'm_JJ478Ko0pHHyiTH-F4FrE25LdZJwKC-4WNAMDG3FPBBBkP_quCOYtMMXdzOXJgema3USIu1Ahj-U4Osc3ItVSA', 'is_echo': True, 'text': 'Este es un compuesto', 'app_id': 365817968444136}}]}]}\n",
      "[{'sender': {'id': '106842278334918'}, 'recipient': {'id': '3992952420759571'}, 'timestamp': 1625688266104, 'message': {'mid': 'm_JJ478Ko0pHHyiTH-F4FrE25LdZJwKC-4WNAMDG3FPBBBkP_quCOYtMMXdzOXJgema3USIu1Ahj-U4Osc3ItVSA', 'is_echo': True, 'text': 'Este es un compuesto', 'app_id': 365817968444136}}]\n",
      "hilo consume\n",
      "\n",
      "______________________________________________no read__________________________________________________________________________\n",
      "\n",
      "\t\tMensaje enviado al Nucleo Logico->\n",
      "  {\"payload\": {\"robot\": \"none\", \"id_face\": \"106842278334918\", \"recipient_id\": \"106842278334918\", \"access_token\": \"none\", \"content\": \"Este es un compuesto\", \"type_resp\": \"message\", \"state\": \"none\", \"blocktype\": \"none\", \"opciones\": \"none\", \"entities\": {}}}\n"
     ]
    },
    {
     "name": "stderr",
     "output_type": "stream",
     "text": [
      "127.0.0.1 - - [07/Jul/2021 15:04:23] \"\u001b[37mPOST /apiREST/v1 HTTP/1.1\u001b[0m\" 200 -\n",
      "127.0.0.1 - - [07/Jul/2021 15:04:23] \"\u001b[37mPOST /apiREST/v1 HTTP/1.1\u001b[0m\" 200 -\n"
     ]
    },
    {
     "name": "stdout",
     "output_type": "stream",
     "text": [
      "\n",
      "_________________________________________________________________________________________________________________________\n",
      "Mesaje de la API de Facebook-> \n",
      " {'object': 'page', 'entry': [{'id': '106842278334918', 'time': 1625688266247, 'messaging': [{'sender': {'id': '3992952420759571'}, 'recipient': {'id': '106842278334918'}, 'timestamp': 1625688266311, 'delivery': {'mids': ['m_JJ478Ko0pHHyiTH-F4FrE25LdZJwKC-4WNAMDG3FPBBBkP_quCOYtMMXdzOXJgema3USIu1Ahj-U4Osc3ItVSA'], 'watermark': 1625688266104}}]}]}\n",
      "\n",
      "_________________________________________________________________________________________________________________________\n",
      "Mesaje de la API de Facebook-> \n",
      " {'object': 'page', 'entry': [{'id': '106842278334918', 'time': 1625688266287, 'messaging': [{'sender': {'id': '3992952420759571'}, 'recipient': {'id': '106842278334918'}, 'timestamp': 1625688266400, 'read': {'watermark': 1625688266261}}]}]}\n",
      "hilo consume\n",
      "\n",
      "_________________________________________________________________________________________________________________________\n",
      "\t\t\n",
      "Respuesta del Nucleo Logico->  {'Respuesta': {'content': 'Hola oswaldo', 'next_id': 'Informativo | e61376a2-83b0-4ccd-90b2-0d3b8d9fc04b | 23985004-9470-9169-4961-397901325837 | oIgvWKILDrYMYDjlgAIk', 'blockType': 'informativo', 'contentType': 'text', 'typingTime': '1', 'payload': {'content': '', 'state': 'Informativo | 2edb2c69-beb8-471f-9799-940599824c36 | oIgvWKILDrYMYDjlgAIk', 'recipient_id': '106842278334918', 'entities': {}, 'access_token': 'EAAFMtaIPwugBAIRPT4mTm2a9nei1940NrJqMbhvvyPwfZAUZA6Id2YaXUeSu06TENy0QoDsprATI0J2ZCGHS2X6UQ4TG2AWkIbNQ3LLGdRMORJZBZBT9BhB58QusrYaXG90RiZAog3r9THJCXmX1m7vjArQ3KoX3PrEGYehS4j6TSblsfU73uf'}}}\n",
      "\n",
      "\n",
      "---------------------------------------------------------------------------\n",
      "mensaje enviado a la API de facebook:\n",
      " {'message': {'text': 'Hola oswaldo'}, 'recipient': {'id': '106842278334918'}, 'notification_type': 'REGULAR'}\n",
      " [.] Got %r None\n",
      "\n",
      "_________________________________________________________________________________________________________________________\n",
      "\t\t\n",
      "Respuesta del Nucleo Logico->  {'Respuesta': {'content': 'Elige una opcion', 'next_id': 'Carrusel | 20088b9a-b5fa-4089-a72d-9ced45cbd899 | oIgvWKILDrYMYDjlgAIk,Carrusel | 20088b9a-b5fa-4089-a72d-9ced45cbd899 | oIgvWKILDrYMYDjlgAIk,Carrusel | 20088b9a-b5fa-4089-a72d-9ced45cbd899 | oIgvWKILDrYMYDjlgAIk', 'blockType': 'quickReply', 'contentType': ' ', 'typingTime': '1', 'payload': {'content': '', 'state': 'QuickReply | 738c6ab6-ca8a-4669-9598-d4eda2e40785 | 23985004-9470-9169-4961-397901325837 | oIgvWKILDrYMYDjlgAIk', 'recipient_id': '3992952420759571', 'entities': {}, 'access_token': 'EAAFMtaIPwugBAIRPT4mTm2a9nei1940NrJqMbhvvyPwfZAUZA6Id2YaXUeSu06TENy0QoDsprATI0J2ZCGHS2X6UQ4TG2AWkIbNQ3LLGdRMORJZBZBT9BhB58QusrYaXG90RiZAog3r9THJCXmX1m7vjArQ3KoX3PrEGYehS4j6TSblsfU73uf'}, 'options': ['Op1', 'Op2', 'Op3'], 'default_id': 'QuickReply | 738c6ab6-ca8a-4669-9598-d4eda2e40785 | 23985004-9470-9169-4961-397901325837 | oIgvWKILDrYMYDjlgAIk', 'save_var': '0'}}\n",
      "\n",
      "\n",
      "---------------------------------------------------------------------------\n",
      "mensaje enviado a la API de facebook:\n",
      " {'message': {'attachment': {'type': 'template', 'payload': {'template_type': 'button', 'text': 'Elige una opcion', 'buttons': [{'title': 'Op1', 'type': 'postback', 'payload': 'Op1'}, {'title': 'Op2', 'type': 'postback', 'payload': 'Op2'}, {'title': 'Op3', 'type': 'postback', 'payload': 'Op3'}]}}}, 'recipient': {'id': '3992952420759571'}, 'notification_type': 'REGULAR'}\n",
      " [.] Got %r None\n",
      "\n",
      "_________________________________________________________________________________________________________________________\n",
      "Mesaje de la API de Facebook-> \n",
      " {'object': 'page', 'entry': [{'id': '106842278334918', 'time': 1625688267784, 'messaging': [{'sender': {'id': '106842278334918'}, 'recipient': {'id': '3992952420759571'}, 'timestamp': 1625688267719, 'message': {'mid': 'm_cE45aqfO7Uk3tqxs6Vg_C25LdZJwKC-4WNAMDG3FPBBJ0G0vaYtUV4V-k5cLhEi_a9MU6k-nA2mDWkV0rnKlTg', 'is_echo': True, 'text': 'Elige una opcion', 'app_id': 365817968444136, 'attachments': [{'title': '', 'url': None, 'type': 'template', 'payload': {'template_type': 'button', 'buttons': [{'type': 'postback', 'title': 'Op1', 'payload': 'Op1'}, {'type': 'postback', 'title': 'Op2', 'payload': 'Op2'}, {'type': 'postback', 'title': 'Op3', 'payload': 'Op3'}]}}]}}]}]}\n",
      "[{'sender': {'id': '106842278334918'}, 'recipient': {'id': '3992952420759571'}, 'timestamp': 1625688267719, 'message': {'mid': 'm_cE45aqfO7Uk3tqxs6Vg_C25LdZJwKC-4WNAMDG3FPBBJ0G0vaYtUV4V-k5cLhEi_a9MU6k-nA2mDWkV0rnKlTg', 'is_echo': True, 'text': 'Elige una opcion', 'app_id': 365817968444136, 'attachments': [{'title': '', 'url': None, 'type': 'template', 'payload': {'template_type': 'button', 'buttons': [{'type': 'postback', 'title': 'Op1', 'payload': 'Op1'}, {'type': 'postback', 'title': 'Op2', 'payload': 'Op2'}, {'type': 'postback', 'title': 'Op3', 'payload': 'Op3'}]}}]}}]\n"
     ]
    },
    {
     "name": "stderr",
     "output_type": "stream",
     "text": [
      "127.0.0.1 - - [07/Jul/2021 15:04:24] \"\u001b[37mPOST /apiREST/v1 HTTP/1.1\u001b[0m\" 200 -\n",
      "127.0.0.1 - - [07/Jul/2021 15:04:25] \"\u001b[37mPOST /apiREST/v1 HTTP/1.1\u001b[0m\" 200 -\n"
     ]
    },
    {
     "name": "stdout",
     "output_type": "stream",
     "text": [
      "hilo consume\n",
      "\n",
      "______________________________________________no read__________________________________________________________________________\n",
      "\n",
      "\t\tMensaje enviado al Nucleo Logico->\n",
      "  {\"payload\": {\"robot\": \"none\", \"id_face\": \"106842278334918\", \"recipient_id\": \"106842278334918\", \"access_token\": \"none\", \"content\": \"Elige una opcion\", \"type_resp\": \"message\", \"state\": \"none\", \"blocktype\": \"none\", \"opciones\": \"none\", \"entities\": {}}}\n",
      "\n",
      "_________________________________________________________________________________________________________________________\n",
      "Mesaje de la API de Facebook-> \n",
      " {'object': 'page', 'entry': [{'id': '106842278334918', 'time': 1625688267898, 'messaging': [{'sender': {'id': '3992952420759571'}, 'recipient': {'id': '106842278334918'}, 'timestamp': 1625688267948, 'delivery': {'mids': ['m_cE45aqfO7Uk3tqxs6Vg_C25LdZJwKC-4WNAMDG3FPBBJ0G0vaYtUV4V-k5cLhEi_a9MU6k-nA2mDWkV0rnKlTg'], 'watermark': 1625688267719}}]}]}\n",
      "\n",
      "_________________________________________________________________________________________________________________________\n",
      "\t\t\n",
      "Respuesta del Nucleo Logico->  {'Respuesta': {'content': 'Hola oswaldo', 'next_id': 'Informativo | e61376a2-83b0-4ccd-90b2-0d3b8d9fc04b | 23985004-9470-9169-4961-397901325837 | oIgvWKILDrYMYDjlgAIk', 'blockType': 'informativo', 'contentType': 'text', 'typingTime': '1', 'payload': {'content': '', 'state': 'Informativo | 2edb2c69-beb8-471f-9799-940599824c36 | oIgvWKILDrYMYDjlgAIk', 'recipient_id': '106842278334918', 'entities': {}, 'access_token': 'EAAFMtaIPwugBAIRPT4mTm2a9nei1940NrJqMbhvvyPwfZAUZA6Id2YaXUeSu06TENy0QoDsprATI0J2ZCGHS2X6UQ4TG2AWkIbNQ3LLGdRMORJZBZBT9BhB58QusrYaXG90RiZAog3r9THJCXmX1m7vjArQ3KoX3PrEGYehS4j6TSblsfU73uf'}}}\n",
      "\n",
      "\n",
      "---------------------------------------------------------------------------\n",
      "mensaje enviado a la API de facebook:\n",
      " {'message': {'text': 'Hola oswaldo'}, 'recipient': {'id': '106842278334918'}, 'notification_type': 'REGULAR'}\n",
      " [.] Got %r None\n",
      "\n",
      "_________________________________________________________________________________________________________________________\n",
      "Mesaje de la API de Facebook-> \n",
      " {'object': 'page', 'entry': [{'id': '106842278334918', 'time': 1625688268072, 'messaging': [{'sender': {'id': '3992952420759571'}, 'recipient': {'id': '106842278334918'}, 'timestamp': 1625688268320, 'read': {'watermark': 1625688268046}}]}]}\n"
     ]
    },
    {
     "name": "stderr",
     "output_type": "stream",
     "text": [
      "127.0.0.1 - - [07/Jul/2021 15:04:25] \"\u001b[37mPOST /apiREST/v1 HTTP/1.1\u001b[0m\" 200 -\n"
     ]
    },
    {
     "name": "stdout",
     "output_type": "stream",
     "text": [
      "hilo consume\n",
      " [.] Got %r None\n"
     ]
    },
    {
     "name": "stderr",
     "output_type": "stream",
     "text": [
      "127.0.0.1 - - [07/Jul/2021 15:04:28] \"\u001b[37mPOST /apiREST/v1 HTTP/1.1\u001b[0m\" 200 -\n"
     ]
    },
    {
     "name": "stdout",
     "output_type": "stream",
     "text": [
      "\n",
      "_________________________________________________________________________________________________________________________\n",
      "Mesaje de la API de Facebook-> \n",
      " {'object': 'page', 'entry': [{'id': '106842278334918', 'time': 1625688271119, 'messaging': [{'sender': {'id': '3992952420759571'}, 'recipient': {'id': '106842278334918'}, 'timestamp': 1625688271213, 'read': {'watermark': 1625688270733}}]}]}\n",
      "hilo consume\n",
      " [.] Got %r None\n"
     ]
    },
    {
     "name": "stderr",
     "output_type": "stream",
     "text": [
      "127.0.0.1 - - [07/Jul/2021 15:04:28] \"\u001b[37mPOST /apiREST/v1 HTTP/1.1\u001b[0m\" 200 -\n"
     ]
    },
    {
     "name": "stdout",
     "output_type": "stream",
     "text": [
      "\n",
      "_________________________________________________________________________________________________________________________\n",
      "Mesaje de la API de Facebook-> \n",
      " {'object': 'page', 'entry': [{'id': '106842278334918', 'time': 1625688271311, 'messaging': [{'sender': {'id': '3992952420759571'}, 'recipient': {'id': '106842278334918'}, 'timestamp': 1625688271159, 'postback': {'title': 'Op2', 'payload': 'Op2', 'mid': 'm_7Ii2fkdip8d31DL6TKUASW5LdZJwKC-4WNAMDG3FPBAPhk2q84uz7tixMSiP2fvAg4oCaDpGq7p8ic8K1gPtog'}}]}]}\n",
      "hilo consume\n",
      "\n",
      "______________________________________________no read__________________________________________________________________________\n",
      "\n",
      "\t\tMensaje enviado al Nucleo Logico->\n",
      "  {\"payload\": {\"robot\": \"none\", \"id_face\": \"106842278334918\", \"recipient_id\": \"3992952420759571\", \"access_token\": \"none\", \"content\": \"Op2\", \"type_resp\": \"postback\", \"state\": \"none\", \"blocktype\": \"none\", \"opciones\": \"none\", \"entities\": {}}}\n",
      "\n",
      "_________________________________________________________________________________________________________________________\n",
      "\t\t\n",
      "Respuesta del Nucleo Logico->  {'Respuesta': {'content': [{'title': 'Img1', 'image_url': 'https://www.gettyimages.es/gi-resources/images/500px/983794168.jpg', 'subtitle': 'sub1', 'buttons': [{'titleButton': 'Btn1P1', 'typeButton': 'postback', 'payloadButton': 'Informativo | c172acd8-1edc-4d5b-ac66-fdf02dfe35ff | oIgvWKILDrYMYDjlgAIk'}, {'titleButton': 'Btn2p2', 'typeButton': 'postback', 'payloadButton': 'Informativo | c172acd8-1edc-4d5b-ac66-fdf02dfe35ff | oIgvWKILDrYMYDjlgAIk'}]}, {'title': 'Img2', 'image_url': 'https://analyticsindiamag.com/wp-content/uploads/2020/10/7d744a684fe03ebc7e8de545f97739dd.jpg', 'subtitle': 'sub3', 'buttons': [{'titleButton': 'btn1P2', 'typeButton': 'postback', 'payloadButton': 'Informativo | c172acd8-1edc-4d5b-ac66-fdf02dfe35ff | oIgvWKILDrYMYDjlgAIk'}, {'titleButton': 'Btn2P2', 'typeButton': 'postback', 'payloadButton': 'Informativo | c172acd8-1edc-4d5b-ac66-fdf02dfe35ff | oIgvWKILDrYMYDjlgAIk'}]}, {'title': 'Img3', 'image_url': 'https://spaceplace.nasa.gov/gallery-sun/en/solar-flare.en.jpg', 'subtitle': 'Sub3', 'buttons': [{'titleButton': 'Btn1P3', 'typeButton': 'postback', 'payloadButton': 'Informativo | c172acd8-1edc-4d5b-ac66-fdf02dfe35ff | oIgvWKILDrYMYDjlgAIk'}, {'titleButton': 'Btn1P3', 'typeButton': 'postback', 'payloadButton': 'Informativo | c172acd8-1edc-4d5b-ac66-fdf02dfe35ff | oIgvWKILDrYMYDjlgAIk'}]}], 'next_id': ['Informativo | c172acd8-1edc-4d5b-ac66-fdf02dfe35ff | oIgvWKILDrYMYDjlgAIk', 'Informativo | c172acd8-1edc-4d5b-ac66-fdf02dfe35ff | oIgvWKILDrYMYDjlgAIk', 'Informativo | c172acd8-1edc-4d5b-ac66-fdf02dfe35ff | oIgvWKILDrYMYDjlgAIk', 'Informativo | c172acd8-1edc-4d5b-ac66-fdf02dfe35ff | oIgvWKILDrYMYDjlgAIk', 'Informativo | c172acd8-1edc-4d5b-ac66-fdf02dfe35ff | oIgvWKILDrYMYDjlgAIk', 'Informativo | c172acd8-1edc-4d5b-ac66-fdf02dfe35ff | oIgvWKILDrYMYDjlgAIk'], 'blockType': 'slide', 'contentType': ' ', 'typingTime': 1, 'payload': {'content': '', 'state': 'Carrusel | 20088b9a-b5fa-4089-a72d-9ced45cbd899 | oIgvWKILDrYMYDjlgAIk', 'recipient_id': '3992952420759571', 'entities': {'variableQrQuickReply_|_738c6ab6-ca8a-4669-9598-d4eda2e407855047': 'Op2'}, 'access_token': 'EAAFMtaIPwugBAIRPT4mTm2a9nei1940NrJqMbhvvyPwfZAUZA6Id2YaXUeSu06TENy0QoDsprATI0J2ZCGHS2X6UQ4TG2AWkIbNQ3LLGdRMORJZBZBT9BhB58QusrYaXG90RiZAog3r9THJCXmX1m7vjArQ3KoX3PrEGYehS4j6TSblsfU73uf'}, 'default_id': 'Carrusel | 20088b9a-b5fa-4089-a72d-9ced45cbd899 | oIgvWKILDrYMYDjlgAIk', 'save_var': '0'}}\n",
      "pyload slide:  {'recipient': {'id': '3992952420759571'}, 'message': {'attachment': {'type': 'template', 'payload': {'template_type': 'generic', 'elements': [{'title': 'Img1', 'image_url': 'https://www.gettyimages.es/gi-resources/images/500px/983794168.jpg', 'subtitle': 'sub1', 'buttons': [{'title': 'Btn1P1', 'type': 'postback', 'payload': 'Informativo | c172acd8-1edc-4d5b-ac66-fdf02dfe35ff | oIgvWKILDrYMYDjlgAIk'}, {'title': 'Btn2p2', 'type': 'postback', 'payload': 'Informativo | c172acd8-1edc-4d5b-ac66-fdf02dfe35ff | oIgvWKILDrYMYDjlgAIk'}]}, {'title': 'Img2', 'image_url': 'https://analyticsindiamag.com/wp-content/uploads/2020/10/7d744a684fe03ebc7e8de545f97739dd.jpg', 'subtitle': 'sub3', 'buttons': [{'title': 'btn1P2', 'type': 'postback', 'payload': 'Informativo | c172acd8-1edc-4d5b-ac66-fdf02dfe35ff | oIgvWKILDrYMYDjlgAIk'}, {'title': 'Btn2P2', 'type': 'postback', 'payload': 'Informativo | c172acd8-1edc-4d5b-ac66-fdf02dfe35ff | oIgvWKILDrYMYDjlgAIk'}]}, {'title': 'Img3', 'image_url': 'https://spaceplace.nasa.gov/gallery-sun/en/solar-flare.en.jpg', 'subtitle': 'Sub3', 'buttons': [{'title': 'Btn1P3', 'type': 'postback', 'payload': 'Informativo | c172acd8-1edc-4d5b-ac66-fdf02dfe35ff | oIgvWKILDrYMYDjlgAIk'}, {'title': 'Btn1P3', 'type': 'postback', 'payload': 'Informativo | c172acd8-1edc-4d5b-ac66-fdf02dfe35ff | oIgvWKILDrYMYDjlgAIk'}]}]}}}, 'notification_type': 'REGULAR'}\n",
      "\n",
      "\n",
      "---------------------------------------------------------------------------\n",
      "mensaje enviado a la API de facebook:\n",
      " {'recipient': {'id': '3992952420759571'}, 'message': {'attachment': {'type': 'template', 'payload': {'template_type': 'generic', 'elements': [{'title': 'Img1', 'image_url': 'https://www.gettyimages.es/gi-resources/images/500px/983794168.jpg', 'subtitle': 'sub1', 'buttons': [{'title': 'Btn1P1', 'type': 'postback', 'payload': 'Informativo | c172acd8-1edc-4d5b-ac66-fdf02dfe35ff | oIgvWKILDrYMYDjlgAIk'}, {'title': 'Btn2p2', 'type': 'postback', 'payload': 'Informativo | c172acd8-1edc-4d5b-ac66-fdf02dfe35ff | oIgvWKILDrYMYDjlgAIk'}]}, {'title': 'Img2', 'image_url': 'https://analyticsindiamag.com/wp-content/uploads/2020/10/7d744a684fe03ebc7e8de545f97739dd.jpg', 'subtitle': 'sub3', 'buttons': [{'title': 'btn1P2', 'type': 'postback', 'payload': 'Informativo | c172acd8-1edc-4d5b-ac66-fdf02dfe35ff | oIgvWKILDrYMYDjlgAIk'}, {'title': 'Btn2P2', 'type': 'postback', 'payload': 'Informativo | c172acd8-1edc-4d5b-ac66-fdf02dfe35ff | oIgvWKILDrYMYDjlgAIk'}]}, {'title': 'Img3', 'image_url': 'https://spaceplace.nasa.gov/gallery-sun/en/solar-flare.en.jpg', 'subtitle': 'Sub3', 'buttons': [{'title': 'Btn1P3', 'type': 'postback', 'payload': 'Informativo | c172acd8-1edc-4d5b-ac66-fdf02dfe35ff | oIgvWKILDrYMYDjlgAIk'}, {'title': 'Btn1P3', 'type': 'postback', 'payload': 'Informativo | c172acd8-1edc-4d5b-ac66-fdf02dfe35ff | oIgvWKILDrYMYDjlgAIk'}]}]}}}, 'notification_type': 'REGULAR'}\n",
      " [.] Got %r None\n",
      "\n",
      "_________________________________________________________________________________________________________________________\n",
      "Mesaje de la API de Facebook-> \n",
      " {'object': 'page', 'entry': [{'id': '106842278334918', 'time': 1625688272876, 'messaging': [{'sender': {'id': '106842278334918'}, 'recipient': {'id': '3992952420759571'}, 'timestamp': 1625688272807, 'message': {'mid': 'm_-llJSTxWW0UhuafMRDSCeW5LdZJwKC-4WNAMDG3FPBCeVTxSR5uX1S2Qgw02fE60PilchsbCjprU2B4ORhS6bQ', 'is_echo': True, 'app_id': 365817968444136, 'attachments': [{'title': 'Img1, Img3, Img2', 'url': None, 'type': 'template', 'payload': {'template_type': 'generic', 'sharable': False, 'elements': [{'title': 'Img1', 'image_url': 'https://www.gettyimages.es/gi-resources/images/500px/983794168.jpg', 'subtitle': 'sub1', 'buttons': [{'type': 'postback', 'title': 'Btn1P1', 'payload': 'Informativo | c172acd8-1edc-4d5b-ac66-fdf02dfe35ff | oIgvWKILDrYMYDjlgAIk'}, {'type': 'postback', 'title': 'Btn2p2', 'payload': 'Informativo | c172acd8-1edc-4d5b-ac66-fdf02dfe35ff | oIgvWKILDrYMYDjlgAIk'}]}, {'title': 'Img3', 'image_url': 'https://spaceplace.nasa.gov/gallery-sun/en/solar-flare.en.jpg', 'subtitle': 'Sub3', 'buttons': [{'type': 'postback', 'title': 'Btn1P3', 'payload': 'Informativo | c172acd8-1edc-4d5b-ac66-fdf02dfe35ff | oIgvWKILDrYMYDjlgAIk'}, {'type': 'postback', 'title': 'Btn1P3', 'payload': 'Informativo | c172acd8-1edc-4d5b-ac66-fdf02dfe35ff | oIgvWKILDrYMYDjlgAIk'}]}, {'title': 'Img2', 'image_url': 'https://analyticsindiamag.com/wp-content/uploads/2020/10/7d744a684fe03ebc7e8de545f97739dd.jpg', 'subtitle': 'sub3', 'buttons': [{'type': 'postback', 'title': 'btn1P2', 'payload': 'Informativo | c172acd8-1edc-4d5b-ac66-fdf02dfe35ff | oIgvWKILDrYMYDjlgAIk'}, {'type': 'postback', 'title': 'Btn2P2', 'payload': 'Informativo | c172acd8-1edc-4d5b-ac66-fdf02dfe35ff | oIgvWKILDrYMYDjlgAIk'}]}]}}]}}]}]}\n"
     ]
    },
    {
     "name": "stderr",
     "output_type": "stream",
     "text": [
      "127.0.0.1 - - [07/Jul/2021 15:04:30] \"\u001b[37mPOST /apiREST/v1 HTTP/1.1\u001b[0m\" 200 -\n"
     ]
    },
    {
     "name": "stdout",
     "output_type": "stream",
     "text": [
      "[{'sender': {'id': '106842278334918'}, 'recipient': {'id': '3992952420759571'}, 'timestamp': 1625688272807, 'message': {'mid': 'm_-llJSTxWW0UhuafMRDSCeW5LdZJwKC-4WNAMDG3FPBCeVTxSR5uX1S2Qgw02fE60PilchsbCjprU2B4ORhS6bQ', 'is_echo': True, 'app_id': 365817968444136, 'attachments': [{'title': 'Img1, Img3, Img2', 'url': None, 'type': 'template', 'payload': {'template_type': 'generic', 'sharable': False, 'elements': [{'title': 'Img1', 'image_url': 'https://www.gettyimages.es/gi-resources/images/500px/983794168.jpg', 'subtitle': 'sub1', 'buttons': [{'type': 'postback', 'title': 'Btn1P1', 'payload': 'Informativo | c172acd8-1edc-4d5b-ac66-fdf02dfe35ff | oIgvWKILDrYMYDjlgAIk'}, {'type': 'postback', 'title': 'Btn2p2', 'payload': 'Informativo | c172acd8-1edc-4d5b-ac66-fdf02dfe35ff | oIgvWKILDrYMYDjlgAIk'}]}, {'title': 'Img3', 'image_url': 'https://spaceplace.nasa.gov/gallery-sun/en/solar-flare.en.jpg', 'subtitle': 'Sub3', 'buttons': [{'type': 'postback', 'title': 'Btn1P3', 'payload': 'Informativo | c172acd8-1edc-4d5b-ac66-fdf02dfe35ff | oIgvWKILDrYMYDjlgAIk'}, {'type': 'postback', 'title': 'Btn1P3', 'payload': 'Informativo | c172acd8-1edc-4d5b-ac66-fdf02dfe35ff | oIgvWKILDrYMYDjlgAIk'}]}, {'title': 'Img2', 'image_url': 'https://analyticsindiamag.com/wp-content/uploads/2020/10/7d744a684fe03ebc7e8de545f97739dd.jpg', 'subtitle': 'sub3', 'buttons': [{'type': 'postback', 'title': 'btn1P2', 'payload': 'Informativo | c172acd8-1edc-4d5b-ac66-fdf02dfe35ff | oIgvWKILDrYMYDjlgAIk'}, {'type': 'postback', 'title': 'Btn2P2', 'payload': 'Informativo | c172acd8-1edc-4d5b-ac66-fdf02dfe35ff | oIgvWKILDrYMYDjlgAIk'}]}]}}]}}]\n",
      "hilo consume\n",
      "\n",
      "______________________________________________no read__________________________________________________________________________\n",
      "\n",
      "\t\tMensaje enviado al Nucleo Logico->\n",
      "  {\"payload\": {\"robot\": \"none\", \"id_face\": \"106842278334918\", \"recipient_id\": \"106842278334918\", \"access_token\": \"none\", \"content\": [{\"title\": \"Img1, Img3, Img2\", \"url\": null, \"type\": \"template\", \"payload\": {\"template_type\": \"generic\", \"sharable\": false, \"elements\": [{\"title\": \"Img1\", \"image_url\": \"https://www.gettyimages.es/gi-resources/images/500px/983794168.jpg\", \"subtitle\": \"sub1\", \"buttons\": [{\"type\": \"postback\", \"title\": \"Btn1P1\", \"payload\": \"Informativo | c172acd8-1edc-4d5b-ac66-fdf02dfe35ff | oIgvWKILDrYMYDjlgAIk\"}, {\"type\": \"postback\", \"title\": \"Btn2p2\", \"payload\": \"Informativo | c172acd8-1edc-4d5b-ac66-fdf02dfe35ff | oIgvWKILDrYMYDjlgAIk\"}]}, {\"title\": \"Img3\", \"image_url\": \"https://spaceplace.nasa.gov/gallery-sun/en/solar-flare.en.jpg\", \"subtitle\": \"Sub3\", \"buttons\": [{\"type\": \"postback\", \"title\": \"Btn1P3\", \"payload\": \"Informativo | c172acd8-1edc-4d5b-ac66-fdf02dfe35ff | oIgvWKILDrYMYDjlgAIk\"}, {\"type\": \"postback\", \"title\": \"Btn1P3\", \"payload\": \"Informativo | c172acd8-1edc-4d5b-ac66-fdf02dfe35ff | oIgvWKILDrYMYDjlgAIk\"}]}, {\"title\": \"Img2\", \"image_url\": \"https://analyticsindiamag.com/wp-content/uploads/2020/10/7d744a684fe03ebc7e8de545f97739dd.jpg\", \"subtitle\": \"sub3\", \"buttons\": [{\"type\": \"postback\", \"title\": \"btn1P2\", \"payload\": \"Informativo | c172acd8-1edc-4d5b-ac66-fdf02dfe35ff | oIgvWKILDrYMYDjlgAIk\"}, {\"type\": \"postback\", \"title\": \"Btn2P2\", \"payload\": \"Informativo | c172acd8-1edc-4d5b-ac66-fdf02dfe35ff | oIgvWKILDrYMYDjlgAIk\"}]}]}}], \"type_resp\": \"message\", \"state\": \"none\", \"blocktype\": \"none\", \"opciones\": \"none\", \"entities\": {}}}\n",
      "\n",
      "_________________________________________________________________________________________________________________________\n",
      "Mesaje de la API de Facebook-> \n",
      " {'object': 'page', 'entry': [{'id': '106842278334918', 'time': 1625688273114, 'messaging': [{'sender': {'id': '3992952420759571'}, 'recipient': {'id': '106842278334918'}, 'timestamp': 1625688273176, 'delivery': {'mids': ['m_-llJSTxWW0UhuafMRDSCeW5LdZJwKC-4WNAMDG3FPBCeVTxSR5uX1S2Qgw02fE60PilchsbCjprU2B4ORhS6bQ'], 'watermark': 1625688272807}}]}]}\n"
     ]
    },
    {
     "name": "stderr",
     "output_type": "stream",
     "text": [
      "127.0.0.1 - - [07/Jul/2021 15:04:30] \"\u001b[37mPOST /apiREST/v1 HTTP/1.1\u001b[0m\" 200 -\n",
      "127.0.0.1 - - [07/Jul/2021 15:04:30] \"\u001b[37mPOST /apiREST/v1 HTTP/1.1\u001b[0m\" 200 -\n"
     ]
    },
    {
     "name": "stdout",
     "output_type": "stream",
     "text": [
      "\n",
      "_________________________________________________________________________________________________________________________\n",
      "\t\t\n",
      "Respuesta del Nucleo Logico->  {'Respuesta': {'content': 'Hola oswaldo', 'next_id': 'Informativo | e61376a2-83b0-4ccd-90b2-0d3b8d9fc04b | 23985004-9470-9169-4961-397901325837 | oIgvWKILDrYMYDjlgAIk', 'blockType': 'informativo', 'contentType': 'text', 'typingTime': '1', 'payload': {'content': '', 'state': 'Informativo | 2edb2c69-beb8-471f-9799-940599824c36 | oIgvWKILDrYMYDjlgAIk', 'recipient_id': '106842278334918', 'entities': {}, 'access_token': 'EAAFMtaIPwugBAIRPT4mTm2a9nei1940NrJqMbhvvyPwfZAUZA6Id2YaXUeSu06TENy0QoDsprATI0J2ZCGHS2X6UQ4TG2AWkIbNQ3LLGdRMORJZBZBT9BhB58QusrYaXG90RiZAog3r9THJCXmX1m7vjArQ3KoX3PrEGYehS4j6TSblsfU73uf'}}}\n",
      "\n",
      "_________________________________________________________________________________________________________________________\n",
      "Mesaje de la API de Facebook-> \n",
      " {'object': 'page', 'entry': [{'id': '106842278334918', 'time': 1625688273226, 'messaging': [{'sender': {'id': '3992952420759571'}, 'recipient': {'id': '106842278334918'}, 'timestamp': 1625688273378, 'read': {'watermark': 1625688273193}}]}]}\n",
      "hilo consume\n",
      "\n",
      "\n",
      "---------------------------------------------------------------------------\n",
      "mensaje enviado a la API de facebook:\n",
      " {'message': {'text': 'Hola oswaldo'}, 'recipient': {'id': '106842278334918'}, 'notification_type': 'REGULAR'}\n",
      " [.] Got %r None\n",
      " [.] Got %r None\n"
     ]
    },
    {
     "name": "stderr",
     "output_type": "stream",
     "text": [
      "127.0.0.1 - - [07/Jul/2021 15:04:34] \"\u001b[37mPOST /apiREST/v1 HTTP/1.1\u001b[0m\" 200 -\n"
     ]
    },
    {
     "name": "stdout",
     "output_type": "stream",
     "text": [
      "\n",
      "_________________________________________________________________________________________________________________________\n",
      "Mesaje de la API de Facebook-> \n",
      " {'object': 'page', 'entry': [{'id': '106842278334918', 'time': 1625688277062, 'messaging': [{'sender': {'id': '3992952420759571'}, 'recipient': {'id': '106842278334918'}, 'timestamp': 1625688277173, 'read': {'watermark': 1625688276665}}]}]}\n",
      "hilo consume\n",
      " [.] Got %r None\n"
     ]
    },
    {
     "name": "stderr",
     "output_type": "stream",
     "text": [
      "127.0.0.1 - - [07/Jul/2021 15:04:34] \"\u001b[37mPOST /apiREST/v1 HTTP/1.1\u001b[0m\" 200 -\n"
     ]
    },
    {
     "name": "stdout",
     "output_type": "stream",
     "text": [
      "\n",
      "_________________________________________________________________________________________________________________________\n",
      "Mesaje de la API de Facebook-> \n",
      " {'object': 'page', 'entry': [{'id': '106842278334918', 'time': 1625688277266, 'messaging': [{'sender': {'id': '3992952420759571'}, 'recipient': {'id': '106842278334918'}, 'timestamp': 1625688277106, 'postback': {'title': 'Btn1P1', 'payload': 'Informativo | c172acd8-1edc-4d5b-ac66-fdf02dfe35ff | oIgvWKILDrYMYDjlgAIk', 'mid': 'm_F52E3CbqwPhIueWGiTo4yG5LdZJwKC-4WNAMDG3FPBDe_GbBJBSQz7Oi2WotmgnNyV_42ei8_wpVEmdsNRAWwg'}}]}]}\n",
      "hilo consume\n",
      "\n",
      "\n",
      "______________________________________________no read__________________________________________________________________________\n",
      "\t\tMensaje enviado al Nucleo Logico->\n",
      "  {\"payload\": {\"robot\": \"none\", \"id_face\": \"106842278334918\", \"recipient_id\": \"3992952420759571\", \"access_token\": \"none\", \"content\": \"Informativo | c172acd8-1edc-4d5b-ac66-fdf02dfe35ff | oIgvWKILDrYMYDjlgAIk\", \"type_resp\": \"postback\", \"state\": \"none\", \"blocktype\": \"none\", \"opciones\": \"none\", \"entities\": {}}}\n",
      "\n",
      "_________________________________________________________________________________________________________________________\n",
      "\t\t\n",
      "Respuesta del Nucleo Logico->  {'Respuesta': {'content': 'Adios Oswa', 'next_id': 'Salida', 'blockType': 'informativo', 'contentType': 'text', 'typingTime': '1', 'payload': {'content': '', 'state': 'Informativo | c172acd8-1edc-4d5b-ac66-fdf02dfe35ff | oIgvWKILDrYMYDjlgAIk', 'recipient_id': '3992952420759571', 'entities': {'variableQrQuickReply_|_738c6ab6-ca8a-4669-9598-d4eda2e407855047': 'Op2', 'variableCarrCarrusel_|_20088b9a-b5fa-4089-a72d-9ced45cbd8999586': 'Informativo | c172acd8-1edc-4d5b-ac66-fdf02dfe35ff | oIgvWKILDrYMYDjlgAIk'}, 'access_token': 'EAAFMtaIPwugBAIRPT4mTm2a9nei1940NrJqMbhvvyPwfZAUZA6Id2YaXUeSu06TENy0QoDsprATI0J2ZCGHS2X6UQ4TG2AWkIbNQ3LLGdRMORJZBZBT9BhB58QusrYaXG90RiZAog3r9THJCXmX1m7vjArQ3KoX3PrEGYehS4j6TSblsfU73uf'}}}\n",
      "\n",
      "\n",
      "---------------------------------------------------------------------------\n",
      "mensaje enviado a la API de facebook:\n",
      " {'message': {'text': 'Adios Oswa'}, 'recipient': {'id': '3992952420759571'}, 'notification_type': 'REGULAR'}\n",
      " [.] Got %r None\n",
      "\n",
      "_________________________________________________________________________________________________________________________\n",
      "Mesaje de la API de Facebook-> \n",
      " {'object': 'page', 'entry': [{'id': '106842278334918', 'time': 1625688278481, 'messaging': [{'sender': {'id': '106842278334918'}, 'recipient': {'id': '3992952420759571'}, 'timestamp': 1625688278408, 'message': {'mid': 'm_BkXaZKuBGANlOr44v31C525LdZJwKC-4WNAMDG3FPBCIsXc7z-wo4qqsKs5s2C7OpeNHNfvMMZZzzO7JwyZaoA', 'is_echo': True, 'text': 'Adios Oswa', 'app_id': 365817968444136}}]}]}\n",
      "[{'sender': {'id': '106842278334918'}, 'recipient': {'id': '3992952420759571'}, 'timestamp': 1625688278408, 'message': {'mid': 'm_BkXaZKuBGANlOr44v31C525LdZJwKC-4WNAMDG3FPBCIsXc7z-wo4qqsKs5s2C7OpeNHNfvMMZZzzO7JwyZaoA', 'is_echo': True, 'text': 'Adios Oswa', 'app_id': 365817968444136}}]\n"
     ]
    },
    {
     "name": "stderr",
     "output_type": "stream",
     "text": [
      "127.0.0.1 - - [07/Jul/2021 15:04:35] \"\u001b[37mPOST /apiREST/v1 HTTP/1.1\u001b[0m\" 200 -\n",
      "127.0.0.1 - - [07/Jul/2021 15:04:35] \"\u001b[37mPOST /apiREST/v1 HTTP/1.1\u001b[0m\" 200 -\n"
     ]
    },
    {
     "name": "stdout",
     "output_type": "stream",
     "text": [
      "hilo consume\n",
      "\n",
      "\n",
      "______________________________________________no read__________________________________________________________________________\n",
      "\t\tMensaje enviado al Nucleo Logico->\n",
      "  {\"payload\": {\"robot\": \"none\", \"id_face\": \"106842278334918\", \"recipient_id\": \"106842278334918\", \"access_token\": \"none\", \"content\": \"Adios Oswa\", \"type_resp\": \"message\", \"state\": \"none\", \"blocktype\": \"none\", \"opciones\": \"none\", \"entities\": {}}}\n",
      "\n",
      "_________________________________________________________________________________________________________________________\n",
      "Mesaje de la API de Facebook-> \n",
      " {'object': 'page', 'entry': [{'id': '106842278334918', 'time': 1625688278555, 'messaging': [{'sender': {'id': '3992952420759571'}, 'recipient': {'id': '106842278334918'}, 'timestamp': 1625688278601, 'delivery': {'mids': ['m_BkXaZKuBGANlOr44v31C525LdZJwKC-4WNAMDG3FPBCIsXc7z-wo4qqsKs5s2C7OpeNHNfvMMZZzzO7JwyZaoA'], 'watermark': 1625688278408}}]}]}\n"
     ]
    },
    {
     "name": "stderr",
     "output_type": "stream",
     "text": [
      "127.0.0.1 - - [07/Jul/2021 15:04:35] \"\u001b[37mPOST /apiREST/v1 HTTP/1.1\u001b[0m\" 200 -\n"
     ]
    },
    {
     "name": "stdout",
     "output_type": "stream",
     "text": [
      "\n",
      "_________________________________________________________________________________________________________________________\n",
      "Mesaje de la API de Facebook-> \n",
      " {'object': 'page', 'entry': [{'id': '106842278334918', 'time': 1625688278607, 'messaging': [{'sender': {'id': '3992952420759571'}, 'recipient': {'id': '106842278334918'}, 'timestamp': 1625688278833, 'read': {'watermark': 1625688278581}}]}]}\n",
      "\n",
      "_________________________________________________________________________________________________________________________\n",
      "\t\t\n",
      "Respuesta del Nucleo Logico->  {'Respuesta': {'content': 'Hola oswaldo', 'next_id': 'Informativo | e61376a2-83b0-4ccd-90b2-0d3b8d9fc04b | 23985004-9470-9169-4961-397901325837 | oIgvWKILDrYMYDjlgAIk', 'blockType': 'informativo', 'contentType': 'text', 'typingTime': '1', 'payload': {'content': '', 'state': 'Informativo | 2edb2c69-beb8-471f-9799-940599824c36 | oIgvWKILDrYMYDjlgAIk', 'recipient_id': '106842278334918', 'entities': {}, 'access_token': 'EAAFMtaIPwugBAIRPT4mTm2a9nei1940NrJqMbhvvyPwfZAUZA6Id2YaXUeSu06TENy0QoDsprATI0J2ZCGHS2X6UQ4TG2AWkIbNQ3LLGdRMORJZBZBT9BhB58QusrYaXG90RiZAog3r9THJCXmX1m7vjArQ3KoX3PrEGYehS4j6TSblsfU73uf'}}}\n",
      "hilo consume\n",
      "\n",
      "\n",
      "---------------------------------------------------------------------------\n",
      "mensaje enviado a la API de facebook:\n",
      " {'message': {'text': 'Hola oswaldo'}, 'recipient': {'id': '106842278334918'}, 'notification_type': 'REGULAR'}\n",
      " [.] Got %r None\n"
     ]
    },
    {
     "name": "stderr",
     "output_type": "stream",
     "text": [
      "127.0.0.1 - - [07/Jul/2021 15:08:00] \"\u001b[37mPOST /apiREST/v1 HTTP/1.1\u001b[0m\" 200 -\n"
     ]
    },
    {
     "name": "stdout",
     "output_type": "stream",
     "text": [
      "\n",
      "_________________________________________________________________________________________________________________________\n",
      "Mesaje de la API de Facebook-> \n",
      " {'object': 'page', 'entry': [{'id': '106842278334918', 'time': 1625688483716, 'messaging': [{'sender': {'id': '3992952420759571'}, 'recipient': {'id': '106842278334918'}, 'timestamp': 1625688483811, 'read': {'watermark': 1625688483311}}]}]}\n",
      "hilo consume\n",
      "\n",
      "_________________________________________________________________________________________________________________________\n",
      "Mesaje de la API de Facebook-> \n",
      " {'object': 'page', 'entry': [{'id': '106842278334918', 'time': 1625688483867, 'messaging': [{'sender': {'id': '3992952420759571'}, 'recipient': {'id': '106842278334918'}, 'timestamp': 1625688483754, 'message': {'mid': 'm_btvelnu1LFr7M-JZF8-PGG5LdZJwKC-4WNAMDG3FPBD3vwdR1QHgVmtNScKlXpSilRs4lAazzM40LaadRyoIUQ', 'text': 'hola'}}]}]}\n",
      " [.] Got %r None\n"
     ]
    },
    {
     "name": "stderr",
     "output_type": "stream",
     "text": [
      "127.0.0.1 - - [07/Jul/2021 15:08:01] \"\u001b[37mPOST /apiREST/v1 HTTP/1.1\u001b[0m\" 200 -\n"
     ]
    },
    {
     "name": "stdout",
     "output_type": "stream",
     "text": [
      "[{'sender': {'id': '3992952420759571'}, 'recipient': {'id': '106842278334918'}, 'timestamp': 1625688483754, 'message': {'mid': 'm_btvelnu1LFr7M-JZF8-PGG5LdZJwKC-4WNAMDG3FPBD3vwdR1QHgVmtNScKlXpSilRs4lAazzM40LaadRyoIUQ', 'text': 'hola'}}]\n",
      "hilo consume\n",
      "\n",
      "______________________________________________no read__________________________________________________________________________\n",
      "\n",
      "\t\tMensaje enviado al Nucleo Logico->\n",
      "  {\"payload\": {\"robot\": \"none\", \"id_face\": \"106842278334918\", \"recipient_id\": \"3992952420759571\", \"access_token\": \"none\", \"content\": \"hola\", \"type_resp\": \"message\", \"state\": \"none\", \"blocktype\": \"none\", \"opciones\": \"none\", \"entities\": {}}}\n",
      "\n",
      "_________________________________________________________________________________________________________________________\n",
      "\t\t\n",
      "Respuesta del Nucleo Logico->  {'Respuesta': {'content': 'Hola oswaldo', 'next_id': 'Informativo | e61376a2-83b0-4ccd-90b2-0d3b8d9fc04b | 23985004-9470-9169-4961-397901325837 | oIgvWKILDrYMYDjlgAIk', 'blockType': 'informativo', 'contentType': 'text', 'typingTime': '1', 'payload': {'content': '', 'state': 'Informativo | 2edb2c69-beb8-471f-9799-940599824c36 | oIgvWKILDrYMYDjlgAIk', 'recipient_id': '3992952420759571', 'entities': {}, 'access_token': 'EAAFMtaIPwugBAIRPT4mTm2a9nei1940NrJqMbhvvyPwfZAUZA6Id2YaXUeSu06TENy0QoDsprATI0J2ZCGHS2X6UQ4TG2AWkIbNQ3LLGdRMORJZBZBT9BhB58QusrYaXG90RiZAog3r9THJCXmX1m7vjArQ3KoX3PrEGYehS4j6TSblsfU73uf'}}}\n"
     ]
    },
    {
     "name": "stderr",
     "output_type": "stream",
     "text": [
      "127.0.0.1 - - [07/Jul/2021 15:08:02] \"\u001b[37mPOST /apiREST/v1 HTTP/1.1\u001b[0m\" 200 -\n"
     ]
    },
    {
     "name": "stdout",
     "output_type": "stream",
     "text": [
      "\n",
      "\n",
      "---------------------------------------------------------------------------\n",
      "mensaje enviado a la API de facebook:\n",
      " {'message': {'text': 'Hola oswaldo'}, 'recipient': {'id': '3992952420759571'}, 'notification_type': 'REGULAR'}\n",
      " [.] Got %r None\n",
      "\n",
      "_________________________________________________________________________________________________________________________\n",
      "Mesaje de la API de Facebook-> \n",
      " {'object': 'page', 'entry': [{'id': '106842278334918', 'time': 1625688484947, 'messaging': [{'sender': {'id': '106842278334918'}, 'recipient': {'id': '3992952420759571'}, 'timestamp': 1625688484905, 'message': {'mid': 'm_GXuWFuAsk3FlDpaAnodpiG5LdZJwKC-4WNAMDG3FPBDgKMdMdTOQcVrpUHKh8gtlpFgDS6LQQVQdZc-T1L2Orw', 'is_echo': True, 'text': 'Hola oswaldo', 'app_id': 365817968444136}}]}]}\n",
      "[{'sender': {'id': '106842278334918'}, 'recipient': {'id': '3992952420759571'}, 'timestamp': 1625688484905, 'message': {'mid': 'm_GXuWFuAsk3FlDpaAnodpiG5LdZJwKC-4WNAMDG3FPBDgKMdMdTOQcVrpUHKh8gtlpFgDS6LQQVQdZc-T1L2Orw', 'is_echo': True, 'text': 'Hola oswaldo', 'app_id': 365817968444136}}]\n",
      "hilo consume\n",
      "\n",
      "______________________________________________no read__________________________________________________________________________\n",
      "\n",
      "\t\tMensaje enviado al Nucleo Logico->\n",
      "  {\"payload\": {\"robot\": \"none\", \"id_face\": \"106842278334918\", \"recipient_id\": \"106842278334918\", \"access_token\": \"none\", \"content\": \"Hola oswaldo\", \"type_resp\": \"message\", \"state\": \"none\", \"blocktype\": \"none\", \"opciones\": \"none\", \"entities\": {}}}\n"
     ]
    },
    {
     "name": "stderr",
     "output_type": "stream",
     "text": [
      "127.0.0.1 - - [07/Jul/2021 15:08:02] \"\u001b[37mPOST /apiREST/v1 HTTP/1.1\u001b[0m\" 200 -\n"
     ]
    },
    {
     "name": "stdout",
     "output_type": "stream",
     "text": [
      "\n",
      "_________________________________________________________________________________________________________________________\n",
      "Mesaje de la API de Facebook-> \n",
      " {'object': 'page', 'entry': [{'id': '106842278334918', 'time': 1625688485035, 'messaging': [{'sender': {'id': '3992952420759571'}, 'recipient': {'id': '106842278334918'}, 'timestamp': 1625688485084, 'delivery': {'mids': ['m_GXuWFuAsk3FlDpaAnodpiG5LdZJwKC-4WNAMDG3FPBDgKMdMdTOQcVrpUHKh8gtlpFgDS6LQQVQdZc-T1L2Orw'], 'watermark': 1625688484905}}]}]}\n"
     ]
    },
    {
     "name": "stderr",
     "output_type": "stream",
     "text": [
      "127.0.0.1 - - [07/Jul/2021 15:08:02] \"\u001b[37mPOST /apiREST/v1 HTTP/1.1\u001b[0m\" 200 -\n"
     ]
    },
    {
     "name": "stdout",
     "output_type": "stream",
     "text": [
      "\n",
      "_________________________________________________________________________________________________________________________\n",
      "Mesaje de la API de Facebook-> \n",
      " {'object': 'page', 'entry': [{'id': '106842278334918', 'time': 1625688485125, 'messaging': [{'sender': {'id': '3992952420759571'}, 'recipient': {'id': '106842278334918'}, 'timestamp': 1625688485279, 'read': {'watermark': 1625688485087}}]}]}\n",
      "hilo consume\n",
      "\n",
      "_________________________________________________________________________________________________________________________\n",
      "\t\t\n",
      "Respuesta del Nucleo Logico->  {'Respuesta': {'content': 'Hola oswaldo', 'next_id': 'Informativo | e61376a2-83b0-4ccd-90b2-0d3b8d9fc04b | 23985004-9470-9169-4961-397901325837 | oIgvWKILDrYMYDjlgAIk', 'blockType': 'informativo', 'contentType': 'text', 'typingTime': '1', 'payload': {'content': '', 'state': 'Informativo | 2edb2c69-beb8-471f-9799-940599824c36 | oIgvWKILDrYMYDjlgAIk', 'recipient_id': '106842278334918', 'entities': {}, 'access_token': 'EAAFMtaIPwugBAIRPT4mTm2a9nei1940NrJqMbhvvyPwfZAUZA6Id2YaXUeSu06TENy0QoDsprATI0J2ZCGHS2X6UQ4TG2AWkIbNQ3LLGdRMORJZBZBT9BhB58QusrYaXG90RiZAog3r9THJCXmX1m7vjArQ3KoX3PrEGYehS4j6TSblsfU73uf'}}}\n",
      "\n",
      "\n",
      "---------------------------------------------------------------------------\n",
      "mensaje enviado a la API de facebook:\n",
      " {'message': {'text': 'Hola oswaldo'}, 'recipient': {'id': '106842278334918'}, 'notification_type': 'REGULAR'}\n",
      " [.] Got %r None\n",
      "\n",
      "_________________________________________________________________________________________________________________________\n",
      "\t\t\n",
      "Respuesta del Nucleo Logico->  {'Respuesta': {'content': 'Este es un compuesto', 'next_id': 'Carrusel | c57beb4f-7c32-42f1-8f3d-ff9a810944fc | 23985004-9470-9169-4961-397901325837 | oIgvWKILDrYMYDjlgAIk', 'blockType': 'informativo', 'contentType': 'text', 'typingTime': '1', 'payload': {'content': '', 'state': 'Informativo | e61376a2-83b0-4ccd-90b2-0d3b8d9fc04b | 23985004-9470-9169-4961-397901325837 | oIgvWKILDrYMYDjlgAIk', 'recipient_id': '3992952420759571', 'entities': {}, 'access_token': 'EAAFMtaIPwugBAIRPT4mTm2a9nei1940NrJqMbhvvyPwfZAUZA6Id2YaXUeSu06TENy0QoDsprATI0J2ZCGHS2X6UQ4TG2AWkIbNQ3LLGdRMORJZBZBT9BhB58QusrYaXG90RiZAog3r9THJCXmX1m7vjArQ3KoX3PrEGYehS4j6TSblsfU73uf'}}}\n"
     ]
    },
    {
     "name": "stderr",
     "output_type": "stream",
     "text": [
      "127.0.0.1 - - [07/Jul/2021 15:08:03] \"\u001b[37mPOST /apiREST/v1 HTTP/1.1\u001b[0m\" 200 -\n"
     ]
    },
    {
     "name": "stdout",
     "output_type": "stream",
     "text": [
      "\n",
      "\n",
      "---------------------------------------------------------------------------\n",
      "mensaje enviado a la API de facebook:\n",
      " {'message': {'text': 'Este es un compuesto'}, 'recipient': {'id': '3992952420759571'}, 'notification_type': 'REGULAR'}\n",
      " [.] Got %r None\n",
      "\n",
      "_________________________________________________________________________________________________________________________\n",
      "Mesaje de la API de Facebook-> \n",
      " {'object': 'page', 'entry': [{'id': '106842278334918', 'time': 1625688486267, 'messaging': [{'sender': {'id': '106842278334918'}, 'recipient': {'id': '3992952420759571'}, 'timestamp': 1625688486234, 'message': {'mid': 'm_IxsW70W4ERUFdMpiE8-2SG5LdZJwKC-4WNAMDG3FPBBb_KV8fvaTvAXYqjxmffNRFubZeN7isk0I8AGslckwwg', 'is_echo': True, 'text': 'Este es un compuesto', 'app_id': 365817968444136}}]}]}\n",
      "[{'sender': {'id': '106842278334918'}, 'recipient': {'id': '3992952420759571'}, 'timestamp': 1625688486234, 'message': {'mid': 'm_IxsW70W4ERUFdMpiE8-2SG5LdZJwKC-4WNAMDG3FPBBb_KV8fvaTvAXYqjxmffNRFubZeN7isk0I8AGslckwwg', 'is_echo': True, 'text': 'Este es un compuesto', 'app_id': 365817968444136}}]\n",
      "hilo consume\n",
      "\n",
      "______________________________________________no read__________________________________________________________________________\n",
      "\n",
      "\t\tMensaje enviado al Nucleo Logico->\n",
      "  {\"payload\": {\"robot\": \"none\", \"id_face\": \"106842278334918\", \"recipient_id\": \"106842278334918\", \"access_token\": \"none\", \"content\": \"Este es un compuesto\", \"type_resp\": \"message\", \"state\": \"none\", \"blocktype\": \"none\", \"opciones\": \"none\", \"entities\": {}}}\n"
     ]
    },
    {
     "name": "stderr",
     "output_type": "stream",
     "text": [
      "127.0.0.1 - - [07/Jul/2021 15:08:03] \"\u001b[37mPOST /apiREST/v1 HTTP/1.1\u001b[0m\" 200 -\n"
     ]
    },
    {
     "name": "stdout",
     "output_type": "stream",
     "text": [
      "\n",
      "_________________________________________________________________________________________________________________________\n",
      "Mesaje de la API de Facebook-> \n",
      " {'object': 'page', 'entry': [{'id': '106842278334918', 'time': 1625688486395, 'messaging': [{'sender': {'id': '3992952420759571'}, 'recipient': {'id': '106842278334918'}, 'timestamp': 1625688486438, 'delivery': {'mids': ['m_IxsW70W4ERUFdMpiE8-2SG5LdZJwKC-4WNAMDG3FPBBb_KV8fvaTvAXYqjxmffNRFubZeN7isk0I8AGslckwwg'], 'watermark': 1625688486234}}]}]}\n",
      "\n",
      "_________________________________________________________________________________________________________________________\n",
      "Mesaje de la API de Facebook-> \n",
      " {'object': 'page', 'entry': [{'id': '106842278334918', 'time': 1625688486451, 'messaging': [{'sender': {'id': '3992952420759571'}, 'recipient': {'id': '106842278334918'}, 'timestamp': 1625688486600, 'read': {'watermark': 1625688486419}}]}]}\n",
      "\n",
      "_________________________________________________________________________________________________________________________\n",
      "\t\t\n",
      "Respuesta del Nucleo Logico->  {'Respuesta': {'content': 'Hola oswaldo', 'next_id': 'Informativo | e61376a2-83b0-4ccd-90b2-0d3b8d9fc04b | 23985004-9470-9169-4961-397901325837 | oIgvWKILDrYMYDjlgAIk', 'blockType': 'informativo', 'contentType': 'text', 'typingTime': '1', 'payload': {'content': '', 'state': 'Informativo | 2edb2c69-beb8-471f-9799-940599824c36 | oIgvWKILDrYMYDjlgAIk', 'recipient_id': '106842278334918', 'entities': {}, 'access_token': 'EAAFMtaIPwugBAIRPT4mTm2a9nei1940NrJqMbhvvyPwfZAUZA6Id2YaXUeSu06TENy0QoDsprATI0J2ZCGHS2X6UQ4TG2AWkIbNQ3LLGdRMORJZBZBT9BhB58QusrYaXG90RiZAog3r9THJCXmX1m7vjArQ3KoX3PrEGYehS4j6TSblsfU73uf'}}}\n"
     ]
    },
    {
     "name": "stderr",
     "output_type": "stream",
     "text": [
      "127.0.0.1 - - [07/Jul/2021 15:08:03] \"\u001b[37mPOST /apiREST/v1 HTTP/1.1\u001b[0m\" 200 -\n"
     ]
    },
    {
     "name": "stdout",
     "output_type": "stream",
     "text": [
      "hilo consume\n",
      "\n",
      "\n",
      "---------------------------------------------------------------------------\n",
      "mensaje enviado a la API de facebook:\n",
      " {'message': {'text': 'Hola oswaldo'}, 'recipient': {'id': '106842278334918'}, 'notification_type': 'REGULAR'}\n",
      " [.] Got %r None\n",
      "\n",
      "_________________________________________________________________________________________________________________________\n",
      "\t\t\n",
      "Respuesta del Nucleo Logico->  {'Respuesta': {'content': [{'title': 'Prueba1', 'image_url': 'https://www.gettyimages.es/gi-resources/images/500px/983794168.jpg', 'subtitle': 'sub1', 'buttons': [{'titleButton': 'BTN1P1', 'typeButton': 'postback', 'payloadButton': 'Informativo | c172acd8-1edc-4d5b-ac66-fdf02dfe35ff | oIgvWKILDrYMYDjlgAIk'}, {'titleButton': 'BTN1', 'typeButton': 'postback', 'payloadButton': 'Informativo | c172acd8-1edc-4d5b-ac66-fdf02dfe35ff | oIgvWKILDrYMYDjlgAIk'}]}, {'title': 'Prueba2', 'image_url': 'https://analyticsindiamag.com/wp-content/uploads/2020/10/7d744a684fe03ebc7e8de545f97739dd.jpg', 'subtitle': 'sub2', 'buttons': [{'titleButton': 'BTN1P2', 'typeButton': 'postback', 'payloadButton': 'Informativo | c172acd8-1edc-4d5b-ac66-fdf02dfe35ff | oIgvWKILDrYMYDjlgAIk'}, {'titleButton': 'BTN1P2', 'typeButton': 'postback', 'payloadButton': 'Informativo | c172acd8-1edc-4d5b-ac66-fdf02dfe35ff | oIgvWKILDrYMYDjlgAIk'}]}, {'title': 'Prueba3', 'image_url': 'https://spaceplace.nasa.gov/gallery-sun/en/solar-flare.en.jpg', 'subtitle': 'sub3', 'buttons': [{'titleButton': 'BTN1P3', 'typeButton': 'postback', 'payloadButton': 'Informativo | c172acd8-1edc-4d5b-ac66-fdf02dfe35ff | oIgvWKILDrYMYDjlgAIk'}, {'titleButton': 'BTN1P3', 'typeButton': 'postback', 'payloadButton': 'Informativo | c172acd8-1edc-4d5b-ac66-fdf02dfe35ff | oIgvWKILDrYMYDjlgAIk'}]}], 'next_id': ['Informativo | c172acd8-1edc-4d5b-ac66-fdf02dfe35ff | oIgvWKILDrYMYDjlgAIk', 'Informativo | c172acd8-1edc-4d5b-ac66-fdf02dfe35ff | oIgvWKILDrYMYDjlgAIk', 'Informativo | c172acd8-1edc-4d5b-ac66-fdf02dfe35ff | oIgvWKILDrYMYDjlgAIk', 'Informativo | c172acd8-1edc-4d5b-ac66-fdf02dfe35ff | oIgvWKILDrYMYDjlgAIk', 'Informativo | c172acd8-1edc-4d5b-ac66-fdf02dfe35ff | oIgvWKILDrYMYDjlgAIk', 'Informativo | c172acd8-1edc-4d5b-ac66-fdf02dfe35ff | oIgvWKILDrYMYDjlgAIk'], 'blockType': 'slide', 'contentType': ' ', 'typingTime': 1, 'payload': {'content': '', 'state': 'Carrusel | c57beb4f-7c32-42f1-8f3d-ff9a810944fc | 23985004-9470-9169-4961-397901325837 | oIgvWKILDrYMYDjlgAIk', 'recipient_id': '3992952420759571', 'entities': {}, 'access_token': 'EAAFMtaIPwugBAIRPT4mTm2a9nei1940NrJqMbhvvyPwfZAUZA6Id2YaXUeSu06TENy0QoDsprATI0J2ZCGHS2X6UQ4TG2AWkIbNQ3LLGdRMORJZBZBT9BhB58QusrYaXG90RiZAog3r9THJCXmX1m7vjArQ3KoX3PrEGYehS4j6TSblsfU73uf'}, 'default_id': 'Carrusel | c57beb4f-7c32-42f1-8f3d-ff9a810944fc | 23985004-9470-9169-4961-397901325837 | oIgvWKILDrYMYDjlgAIk', 'save_var': '0'}}\n",
      "pyload slide:  {'recipient': {'id': '3992952420759571'}, 'message': {'attachment': {'type': 'template', 'payload': {'template_type': 'generic', 'elements': [{'title': 'Prueba1', 'image_url': 'https://www.gettyimages.es/gi-resources/images/500px/983794168.jpg', 'subtitle': 'sub1', 'buttons': [{'title': 'BTN1P1', 'type': 'postback', 'payload': 'Informativo | c172acd8-1edc-4d5b-ac66-fdf02dfe35ff | oIgvWKILDrYMYDjlgAIk'}, {'title': 'BTN1', 'type': 'postback', 'payload': 'Informativo | c172acd8-1edc-4d5b-ac66-fdf02dfe35ff | oIgvWKILDrYMYDjlgAIk'}]}, {'title': 'Prueba2', 'image_url': 'https://analyticsindiamag.com/wp-content/uploads/2020/10/7d744a684fe03ebc7e8de545f97739dd.jpg', 'subtitle': 'sub2', 'buttons': [{'title': 'BTN1P2', 'type': 'postback', 'payload': 'Informativo | c172acd8-1edc-4d5b-ac66-fdf02dfe35ff | oIgvWKILDrYMYDjlgAIk'}, {'title': 'BTN1P2', 'type': 'postback', 'payload': 'Informativo | c172acd8-1edc-4d5b-ac66-fdf02dfe35ff | oIgvWKILDrYMYDjlgAIk'}]}, {'title': 'Prueba3', 'image_url': 'https://spaceplace.nasa.gov/gallery-sun/en/solar-flare.en.jpg', 'subtitle': 'sub3', 'buttons': [{'title': 'BTN1P3', 'type': 'postback', 'payload': 'Informativo | c172acd8-1edc-4d5b-ac66-fdf02dfe35ff | oIgvWKILDrYMYDjlgAIk'}, {'title': 'BTN1P3', 'type': 'postback', 'payload': 'Informativo | c172acd8-1edc-4d5b-ac66-fdf02dfe35ff | oIgvWKILDrYMYDjlgAIk'}]}]}}}, 'notification_type': 'REGULAR'}\n",
      "\n",
      "\n",
      "---------------------------------------------------------------------------\n",
      "mensaje enviado a la API de facebook:\n",
      " {'recipient': {'id': '3992952420759571'}, 'message': {'attachment': {'type': 'template', 'payload': {'template_type': 'generic', 'elements': [{'title': 'Prueba1', 'image_url': 'https://www.gettyimages.es/gi-resources/images/500px/983794168.jpg', 'subtitle': 'sub1', 'buttons': [{'title': 'BTN1P1', 'type': 'postback', 'payload': 'Informativo | c172acd8-1edc-4d5b-ac66-fdf02dfe35ff | oIgvWKILDrYMYDjlgAIk'}, {'title': 'BTN1', 'type': 'postback', 'payload': 'Informativo | c172acd8-1edc-4d5b-ac66-fdf02dfe35ff | oIgvWKILDrYMYDjlgAIk'}]}, {'title': 'Prueba2', 'image_url': 'https://analyticsindiamag.com/wp-content/uploads/2020/10/7d744a684fe03ebc7e8de545f97739dd.jpg', 'subtitle': 'sub2', 'buttons': [{'title': 'BTN1P2', 'type': 'postback', 'payload': 'Informativo | c172acd8-1edc-4d5b-ac66-fdf02dfe35ff | oIgvWKILDrYMYDjlgAIk'}, {'title': 'BTN1P2', 'type': 'postback', 'payload': 'Informativo | c172acd8-1edc-4d5b-ac66-fdf02dfe35ff | oIgvWKILDrYMYDjlgAIk'}]}, {'title': 'Prueba3', 'image_url': 'https://spaceplace.nasa.gov/gallery-sun/en/solar-flare.en.jpg', 'subtitle': 'sub3', 'buttons': [{'title': 'BTN1P3', 'type': 'postback', 'payload': 'Informativo | c172acd8-1edc-4d5b-ac66-fdf02dfe35ff | oIgvWKILDrYMYDjlgAIk'}, {'title': 'BTN1P3', 'type': 'postback', 'payload': 'Informativo | c172acd8-1edc-4d5b-ac66-fdf02dfe35ff | oIgvWKILDrYMYDjlgAIk'}]}]}}}, 'notification_type': 'REGULAR'}\n",
      " [.] Got %r None\n"
     ]
    },
    {
     "name": "stderr",
     "output_type": "stream",
     "text": [
      "127.0.0.1 - - [07/Jul/2021 15:08:05] \"\u001b[37mPOST /apiREST/v1 HTTP/1.1\u001b[0m\" 200 -\n"
     ]
    },
    {
     "name": "stdout",
     "output_type": "stream",
     "text": [
      "\n",
      "_________________________________________________________________________________________________________________________\n",
      "Mesaje de la API de Facebook-> \n",
      " {'object': 'page', 'entry': [{'id': '106842278334918', 'time': 1625688488204, 'messaging': [{'sender': {'id': '106842278334918'}, 'recipient': {'id': '3992952420759571'}, 'timestamp': 1625688488177, 'message': {'mid': 'm_pCxj6MUS5qv3q6pQWppw4m5LdZJwKC-4WNAMDG3FPBBoDdSTOMy6b9vKPY7J9nd9p2oz5SWJBTduqWP79U1ScA', 'is_echo': True, 'app_id': 365817968444136, 'attachments': [{'title': 'Prueba3, Prueba2, Prueba1', 'url': None, 'type': 'template', 'payload': {'template_type': 'generic', 'sharable': False, 'elements': [{'title': 'Prueba3', 'image_url': 'https://spaceplace.nasa.gov/gallery-sun/en/solar-flare.en.jpg', 'subtitle': 'sub3', 'buttons': [{'type': 'postback', 'title': 'BTN1P3', 'payload': 'Informativo | c172acd8-1edc-4d5b-ac66-fdf02dfe35ff | oIgvWKILDrYMYDjlgAIk'}, {'type': 'postback', 'title': 'BTN1P3', 'payload': 'Informativo | c172acd8-1edc-4d5b-ac66-fdf02dfe35ff | oIgvWKILDrYMYDjlgAIk'}]}, {'title': 'Prueba2', 'image_url': 'https://analyticsindiamag.com/wp-content/uploads/2020/10/7d744a684fe03ebc7e8de545f97739dd.jpg', 'subtitle': 'sub2', 'buttons': [{'type': 'postback', 'title': 'BTN1P2', 'payload': 'Informativo | c172acd8-1edc-4d5b-ac66-fdf02dfe35ff | oIgvWKILDrYMYDjlgAIk'}, {'type': 'postback', 'title': 'BTN1P2', 'payload': 'Informativo | c172acd8-1edc-4d5b-ac66-fdf02dfe35ff | oIgvWKILDrYMYDjlgAIk'}]}, {'title': 'Prueba1', 'image_url': 'https://www.gettyimages.es/gi-resources/images/500px/983794168.jpg', 'subtitle': 'sub1', 'buttons': [{'type': 'postback', 'title': 'BTN1P1', 'payload': 'Informativo | c172acd8-1edc-4d5b-ac66-fdf02dfe35ff | oIgvWKILDrYMYDjlgAIk'}, {'type': 'postback', 'title': 'BTN1', 'payload': 'Informativo | c172acd8-1edc-4d5b-ac66-fdf02dfe35ff | oIgvWKILDrYMYDjlgAIk'}]}]}}]}}]}]}\n",
      "[{'sender': {'id': '106842278334918'}, 'recipient': {'id': '3992952420759571'}, 'timestamp': 1625688488177, 'message': {'mid': 'm_pCxj6MUS5qv3q6pQWppw4m5LdZJwKC-4WNAMDG3FPBBoDdSTOMy6b9vKPY7J9nd9p2oz5SWJBTduqWP79U1ScA', 'is_echo': True, 'app_id': 365817968444136, 'attachments': [{'title': 'Prueba3, Prueba2, Prueba1', 'url': None, 'type': 'template', 'payload': {'template_type': 'generic', 'sharable': False, 'elements': [{'title': 'Prueba3', 'image_url': 'https://spaceplace.nasa.gov/gallery-sun/en/solar-flare.en.jpg', 'subtitle': 'sub3', 'buttons': [{'type': 'postback', 'title': 'BTN1P3', 'payload': 'Informativo | c172acd8-1edc-4d5b-ac66-fdf02dfe35ff | oIgvWKILDrYMYDjlgAIk'}, {'type': 'postback', 'title': 'BTN1P3', 'payload': 'Informativo | c172acd8-1edc-4d5b-ac66-fdf02dfe35ff | oIgvWKILDrYMYDjlgAIk'}]}, {'title': 'Prueba2', 'image_url': 'https://analyticsindiamag.com/wp-content/uploads/2020/10/7d744a684fe03ebc7e8de545f97739dd.jpg', 'subtitle': 'sub2', 'buttons': [{'type': 'postback', 'title': 'BTN1P2', 'payload': 'Informativo | c172acd8-1edc-4d5b-ac66-fdf02dfe35ff | oIgvWKILDrYMYDjlgAIk'}, {'type': 'postback', 'title': 'BTN1P2', 'payload': 'Informativo | c172acd8-1edc-4d5b-ac66-fdf02dfe35ff | oIgvWKILDrYMYDjlgAIk'}]}, {'title': 'Prueba1', 'image_url': 'https://www.gettyimages.es/gi-resources/images/500px/983794168.jpg', 'subtitle': 'sub1', 'buttons': [{'type': 'postback', 'title': 'BTN1P1', 'payload': 'Informativo | c172acd8-1edc-4d5b-ac66-fdf02dfe35ff | oIgvWKILDrYMYDjlgAIk'}, {'type': 'postback', 'title': 'BTN1', 'payload': 'Informativo | c172acd8-1edc-4d5b-ac66-fdf02dfe35ff | oIgvWKILDrYMYDjlgAIk'}]}]}}]}}]\n",
      "hilo consume\n",
      "\n",
      "______________________________________________no read__________________________________________________________________________\n",
      "\n",
      "\t\tMensaje enviado al Nucleo Logico->\n",
      "  {\"payload\": {\"robot\": \"none\", \"id_face\": \"106842278334918\", \"recipient_id\": \"106842278334918\", \"access_token\": \"none\", \"content\": [{\"title\": \"Prueba3, Prueba2, Prueba1\", \"url\": null, \"type\": \"template\", \"payload\": {\"template_type\": \"generic\", \"sharable\": false, \"elements\": [{\"title\": \"Prueba3\", \"image_url\": \"https://spaceplace.nasa.gov/gallery-sun/en/solar-flare.en.jpg\", \"subtitle\": \"sub3\", \"buttons\": [{\"type\": \"postback\", \"title\": \"BTN1P3\", \"payload\": \"Informativo | c172acd8-1edc-4d5b-ac66-fdf02dfe35ff | oIgvWKILDrYMYDjlgAIk\"}, {\"type\": \"postback\", \"title\": \"BTN1P3\", \"payload\": \"Informativo | c172acd8-1edc-4d5b-ac66-fdf02dfe35ff | oIgvWKILDrYMYDjlgAIk\"}]}, {\"title\": \"Prueba2\", \"image_url\": \"https://analyticsindiamag.com/wp-content/uploads/2020/10/7d744a684fe03ebc7e8de545f97739dd.jpg\", \"subtitle\": \"sub2\", \"buttons\": [{\"type\": \"postback\", \"title\": \"BTN1P2\", \"payload\": \"Informativo | c172acd8-1edc-4d5b-ac66-fdf02dfe35ff | oIgvWKILDrYMYDjlgAIk\"}, {\"type\": \"postback\", \"title\": \"BTN1P2\", \"payload\": \"Informativo | c172acd8-1edc-4d5b-ac66-fdf02dfe35ff | oIgvWKILDrYMYDjlgAIk\"}]}, {\"title\": \"Prueba1\", \"image_url\": \"https://www.gettyimages.es/gi-resources/images/500px/983794168.jpg\", \"subtitle\": \"sub1\", \"buttons\": [{\"type\": \"postback\", \"title\": \"BTN1P1\", \"payload\": \"Informativo | c172acd8-1edc-4d5b-ac66-fdf02dfe35ff | oIgvWKILDrYMYDjlgAIk\"}, {\"type\": \"postback\", \"title\": \"BTN1\", \"payload\": \"Informativo | c172acd8-1edc-4d5b-ac66-fdf02dfe35ff | oIgvWKILDrYMYDjlgAIk\"}]}]}}], \"type_resp\": \"message\", \"state\": \"none\", \"blocktype\": \"none\", \"opciones\": \"none\", \"entities\": {}}}\n",
      "\n",
      "_________________________________________________________________________________________________________________________\n",
      "Mesaje de la API de Facebook-> \n",
      " {'object': 'page', 'entry': [{'id': '106842278334918', 'time': 1625688488482, 'messaging': [{'sender': {'id': '3992952420759571'}, 'recipient': {'id': '106842278334918'}, 'timestamp': 1625688488563, 'delivery': {'mids': ['m_pCxj6MUS5qv3q6pQWppw4m5LdZJwKC-4WNAMDG3FPBBoDdSTOMy6b9vKPY7J9nd9p2oz5SWJBTduqWP79U1ScA'], 'watermark': 1625688488177}}]}]}"
     ]
    },
    {
     "name": "stderr",
     "output_type": "stream",
     "text": [
      "127.0.0.1 - - [07/Jul/2021 15:08:05] \"\u001b[37mPOST /apiREST/v1 HTTP/1.1\u001b[0m\" 200 -\n",
      "127.0.0.1 - - [07/Jul/2021 15:08:05] \"\u001b[37mPOST /apiREST/v1 HTTP/1.1\u001b[0m\" 200 -\n"
     ]
    },
    {
     "name": "stdout",
     "output_type": "stream",
     "text": [
      "\n",
      "\n",
      "_________________________________________________________________________________________________________________________\n",
      "\t\t\n",
      "Respuesta del Nucleo Logico->  {'Respuesta': {'content': 'Hola oswaldo', 'next_id': 'Informativo | e61376a2-83b0-4ccd-90b2-0d3b8d9fc04b | 23985004-9470-9169-4961-397901325837 | oIgvWKILDrYMYDjlgAIk', 'blockType': 'informativo', 'contentType': 'text', 'typingTime': '1', 'payload': {'content': '', 'state': 'Informativo | 2edb2c69-beb8-471f-9799-940599824c36 | oIgvWKILDrYMYDjlgAIk', 'recipient_id': '106842278334918', 'entities': {}, 'access_token': 'EAAFMtaIPwugBAIRPT4mTm2a9nei1940NrJqMbhvvyPwfZAUZA6Id2YaXUeSu06TENy0QoDsprATI0J2ZCGHS2X6UQ4TG2AWkIbNQ3LLGdRMORJZBZBT9BhB58QusrYaXG90RiZAog3r9THJCXmX1m7vjArQ3KoX3PrEGYehS4j6TSblsfU73uf'}}}\n",
      "\n",
      "_________________________________________________________________________________________________________________________\n",
      "Mesaje de la API de Facebook-> \n",
      " {'object': 'page', 'entry': [{'id': '106842278334918', 'time': 1625688488617, 'messaging': [{'sender': {'id': '3992952420759571'}, 'recipient': {'id': '106842278334918'}, 'timestamp': 1625688488720, 'read': {'watermark': 1625688488573}}]}]}\n",
      "hilo consume\n",
      " [.] Got %r None\n",
      "\n",
      "\n",
      "---------------------------------------------------------------------------\n",
      "mensaje enviado a la API de facebook:\n",
      " {'message': {'text': 'Hola oswaldo'}, 'recipient': {'id': '106842278334918'}, 'notification_type': 'REGULAR'}\n",
      " [.] Got %r None\n"
     ]
    },
    {
     "name": "stderr",
     "output_type": "stream",
     "text": [
      "127.0.0.1 - - [07/Jul/2021 15:08:08] \"\u001b[37mPOST /apiREST/v1 HTTP/1.1\u001b[0m\" 200 -\n"
     ]
    },
    {
     "name": "stdout",
     "output_type": "stream",
     "text": [
      "\n",
      "_________________________________________________________________________________________________________________________\n",
      "Mesaje de la API de Facebook-> \n",
      " {'object': 'page', 'entry': [{'id': '106842278334918', 'time': 1625688490880, 'messaging': [{'sender': {'id': '3992952420759571'}, 'recipient': {'id': '106842278334918'}, 'timestamp': 1625688490973, 'read': {'watermark': 1625688490489}}]}]}\n",
      "hilo consume\n",
      " [.] Got %r None\n"
     ]
    },
    {
     "name": "stderr",
     "output_type": "stream",
     "text": [
      "127.0.0.1 - - [07/Jul/2021 15:08:08] \"\u001b[37mPOST /apiREST/v1 HTTP/1.1\u001b[0m\" 200 -\n"
     ]
    },
    {
     "name": "stdout",
     "output_type": "stream",
     "text": [
      "\n",
      "_________________________________________________________________________________________________________________________\n",
      "Mesaje de la API de Facebook-> \n",
      " {'object': 'page', 'entry': [{'id': '106842278334918', 'time': 1625688491077, 'messaging': [{'sender': {'id': '3992952420759571'}, 'recipient': {'id': '106842278334918'}, 'timestamp': 1625688490918, 'postback': {'title': 'BTN1P1', 'payload': 'Informativo | c172acd8-1edc-4d5b-ac66-fdf02dfe35ff | oIgvWKILDrYMYDjlgAIk', 'mid': 'm_N2WKkYmJil3pwe9pVdAQ9W5LdZJwKC-4WNAMDG3FPBAScfF4wo_FY-WaK9u76Bwmquy7wuEx30nrV0TXom_phQ'}}]}]}\n",
      "hilo consume\n",
      "\n",
      "______________________________________________no read__________________________________________________________________________\n",
      "\n",
      "\t\tMensaje enviado al Nucleo Logico->\n",
      "  {\"payload\": {\"robot\": \"none\", \"id_face\": \"106842278334918\", \"recipient_id\": \"3992952420759571\", \"access_token\": \"none\", \"content\": \"Informativo | c172acd8-1edc-4d5b-ac66-fdf02dfe35ff | oIgvWKILDrYMYDjlgAIk\", \"type_resp\": \"postback\", \"state\": \"none\", \"blocktype\": \"none\", \"opciones\": \"none\", \"entities\": {}}}\n",
      "\n",
      "_________________________________________________________________________________________________________________________\n",
      "\t\t\n",
      "Respuesta del Nucleo Logico->  {'Respuesta': {'content': 'Adios Oswa', 'next_id': 'Salida', 'blockType': 'informativo', 'contentType': 'text', 'typingTime': '1', 'payload': {'content': '', 'state': 'Informativo | c172acd8-1edc-4d5b-ac66-fdf02dfe35ff | oIgvWKILDrYMYDjlgAIk', 'recipient_id': '3992952420759571', 'entities': {'variableCarrCarrusel_|_c57beb4f-7c32-42f1-8f3d-ff9a810944fc4264': 'Informativo | c172acd8-1edc-4d5b-ac66-fdf02dfe35ff | oIgvWKILDrYMYDjlgAIk'}, 'access_token': 'EAAFMtaIPwugBAIRPT4mTm2a9nei1940NrJqMbhvvyPwfZAUZA6Id2YaXUeSu06TENy0QoDsprATI0J2ZCGHS2X6UQ4TG2AWkIbNQ3LLGdRMORJZBZBT9BhB58QusrYaXG90RiZAog3r9THJCXmX1m7vjArQ3KoX3PrEGYehS4j6TSblsfU73uf'}}}\n"
     ]
    },
    {
     "name": "stderr",
     "output_type": "stream",
     "text": [
      "127.0.0.1 - - [07/Jul/2021 15:08:09] \"\u001b[37mPOST /apiREST/v1 HTTP/1.1\u001b[0m\" 200 -\n"
     ]
    },
    {
     "name": "stdout",
     "output_type": "stream",
     "text": [
      "\n",
      "\n",
      "---------------------------------------------------------------------------\n",
      "mensaje enviado a la API de facebook:\n",
      " {'message': {'text': 'Adios Oswa'}, 'recipient': {'id': '3992952420759571'}, 'notification_type': 'REGULAR'}\n",
      " [.] Got %r None\n",
      "\n",
      "_________________________________________________________________________________________________________________________\n",
      "Mesaje de la API de Facebook-> \n",
      " {'object': 'page', 'entry': [{'id': '106842278334918', 'time': 1625688492166, 'messaging': [{'sender': {'id': '106842278334918'}, 'recipient': {'id': '3992952420759571'}, 'timestamp': 1625688492130, 'message': {'mid': 'm_0fkN_9wU4KdQMhyWeJdLpG5LdZJwKC-4WNAMDG3FPBAxKW1_UjSRwECphuTRe5IjzAKv9Ht2IIcTB3B-JYFThQ', 'is_echo': True, 'text': 'Adios Oswa', 'app_id': 365817968444136}}]}]}\n",
      "[{'sender': {'id': '106842278334918'}, 'recipient': {'id': '3992952420759571'}, 'timestamp': 1625688492130, 'message': {'mid': 'm_0fkN_9wU4KdQMhyWeJdLpG5LdZJwKC-4WNAMDG3FPBAxKW1_UjSRwECphuTRe5IjzAKv9Ht2IIcTB3B-JYFThQ', 'is_echo': True, 'text': 'Adios Oswa', 'app_id': 365817968444136}}]\n",
      "hilo consume\n",
      "\n",
      "______________________________________________no read__________________________________________________________________________\n",
      "\n",
      "\t\tMensaje enviado al Nucleo Logico->\n",
      "  {\"payload\": {\"robot\": \"none\", \"id_face\": \"106842278334918\", \"recipient_id\": \"106842278334918\", \"access_token\": \"none\", \"content\": \"Adios Oswa\", \"type_resp\": \"message\", \"state\": \"none\", \"blocktype\": \"none\", \"opciones\": \"none\", \"entities\": {}}}\n"
     ]
    },
    {
     "name": "stderr",
     "output_type": "stream",
     "text": [
      "127.0.0.1 - - [07/Jul/2021 15:08:09] \"\u001b[37mPOST /apiREST/v1 HTTP/1.1\u001b[0m\" 200 -\n"
     ]
    },
    {
     "name": "stdout",
     "output_type": "stream",
     "text": [
      "\n",
      "_________________________________________________________________________________________________________________________\n",
      "Mesaje de la API de Facebook-> \n",
      " {'object': 'page', 'entry': [{'id': '106842278334918', 'time': 1625688492257, 'messaging': [{'sender': {'id': '3992952420759571'}, 'recipient': {'id': '106842278334918'}, 'timestamp': 1625688492307, 'delivery': {'mids': ['m_0fkN_9wU4KdQMhyWeJdLpG5LdZJwKC-4WNAMDG3FPBAxKW1_UjSRwECphuTRe5IjzAKv9Ht2IIcTB3B-JYFThQ'], 'watermark': 1625688492130}}]}]}\n",
      "\n",
      "_________________________________________________________________________________________________________________________\n",
      "Mesaje de la API de Facebook-> \n",
      " {'object': 'page', 'entry': [{'id': '106842278334918', 'time': 1625688492318, 'messaging': [{'sender': {'id': '3992952420759571'}, 'recipient': {'id': '106842278334918'}, 'timestamp': 1625688492471, 'read': {'watermark': 1625688492287}}]}]}\n",
      "\n",
      "_________________________________________________________________________________________________________________________\n"
     ]
    },
    {
     "name": "stderr",
     "output_type": "stream",
     "text": [
      "127.0.0.1 - - [07/Jul/2021 15:08:09] \"\u001b[37mPOST /apiREST/v1 HTTP/1.1\u001b[0m\" 200 -\n"
     ]
    },
    {
     "name": "stdout",
     "output_type": "stream",
     "text": [
      "\t\t\n",
      "Respuesta del Nucleo Logico->  {'Respuesta': {'content': 'Hola oswaldo', 'next_id': 'Informativo | e61376a2-83b0-4ccd-90b2-0d3b8d9fc04b | 23985004-9470-9169-4961-397901325837 | oIgvWKILDrYMYDjlgAIk', 'blockType': 'informativo', 'contentType': 'text', 'typingTime': '1', 'payload': {'content': '', 'state': 'Informativo | 2edb2c69-beb8-471f-9799-940599824c36 | oIgvWKILDrYMYDjlgAIk', 'recipient_id': '106842278334918', 'entities': {}, 'access_token': 'EAAFMtaIPwugBAIRPT4mTm2a9nei1940NrJqMbhvvyPwfZAUZA6Id2YaXUeSu06TENy0QoDsprATI0J2ZCGHS2X6UQ4TG2AWkIbNQ3LLGdRMORJZBZBT9BhB58QusrYaXG90RiZAog3r9THJCXmX1m7vjArQ3KoX3PrEGYehS4j6TSblsfU73uf'}}}\n",
      "hilo consume\n",
      "\n",
      "\n",
      "---------------------------------------------------------------------------\n",
      "mensaje enviado a la API de facebook:\n",
      " {'message': {'text': 'Hola oswaldo'}, 'recipient': {'id': '106842278334918'}, 'notification_type': 'REGULAR'}\n",
      " [.] Got %r None\n"
     ]
    },
    {
     "name": "stderr",
     "output_type": "stream",
     "text": [
      "127.0.0.1 - - [07/Jul/2021 15:08:11] \"\u001b[37mPOST /apiREST/v1 HTTP/1.1\u001b[0m\" 200 -\n"
     ]
    },
    {
     "name": "stdout",
     "output_type": "stream",
     "text": [
      "\n",
      "_________________________________________________________________________________________________________________________\n",
      "Mesaje de la API de Facebook-> \n",
      " {'object': 'page', 'entry': [{'id': '106842278334918', 'time': 1625688494310, 'messaging': [{'sender': {'id': '3992952420759571'}, 'recipient': {'id': '106842278334918'}, 'timestamp': 1625688494408, 'read': {'watermark': 1625688493913}}]}]}\n",
      "hilo consume\n",
      " [.] Got %r None\n"
     ]
    },
    {
     "name": "stderr",
     "output_type": "stream",
     "text": [
      "127.0.0.1 - - [07/Jul/2021 15:08:11] \"\u001b[37mPOST /apiREST/v1 HTTP/1.1\u001b[0m\" 200 -\n"
     ]
    },
    {
     "name": "stdout",
     "output_type": "stream",
     "text": [
      "\n",
      "_________________________________________________________________________________________________________________________\n",
      "Mesaje de la API de Facebook-> \n",
      " {'object': 'page', 'entry': [{'id': '106842278334918', 'time': 1625688494612, 'messaging': [{'sender': {'id': '3992952420759571'}, 'recipient': {'id': '106842278334918'}, 'timestamp': 1625688494353, 'message': {'mid': 'm_VIygJK9TItwGdsjRtLd2V25LdZJwKC-4WNAMDG3FPBABuCNfm9b2YaVpmqC42eSOdzIeecjhGr25udTJvJcwmQ', 'text': 'Hola'}}]}]}\n",
      "[{'sender': {'id': '3992952420759571'}, 'recipient': {'id': '106842278334918'}, 'timestamp': 1625688494353, 'message': {'mid': 'm_VIygJK9TItwGdsjRtLd2V25LdZJwKC-4WNAMDG3FPBABuCNfm9b2YaVpmqC42eSOdzIeecjhGr25udTJvJcwmQ', 'text': 'Hola'}}]\n",
      "hilo consume\n",
      "\n",
      "______________________________________________no read__________________________________________________________________________\n",
      "\n",
      "\t\tMensaje enviado al Nucleo Logico->\n",
      "  {\"payload\": {\"robot\": \"none\", \"id_face\": \"106842278334918\", \"recipient_id\": \"3992952420759571\", \"access_token\": \"none\", \"content\": \"Hola\", \"type_resp\": \"message\", \"state\": \"none\", \"blocktype\": \"none\", \"opciones\": \"none\", \"entities\": {}}}\n",
      "\n",
      "_________________________________________________________________________________________________________________________\n",
      "\t\t\n",
      "Respuesta del Nucleo Logico->  {'Respuesta': {'content': 'Hola oswaldo', 'next_id': 'Informativo | e61376a2-83b0-4ccd-90b2-0d3b8d9fc04b | 23985004-9470-9169-4961-397901325837 | oIgvWKILDrYMYDjlgAIk', 'blockType': 'informativo', 'contentType': 'text', 'typingTime': '1', 'payload': {'content': '', 'state': 'Informativo | 2edb2c69-beb8-471f-9799-940599824c36 | oIgvWKILDrYMYDjlgAIk', 'recipient_id': '3992952420759571', 'entities': {}, 'access_token': 'EAAFMtaIPwugBAIRPT4mTm2a9nei1940NrJqMbhvvyPwfZAUZA6Id2YaXUeSu06TENy0QoDsprATI0J2ZCGHS2X6UQ4TG2AWkIbNQ3LLGdRMORJZBZBT9BhB58QusrYaXG90RiZAog3r9THJCXmX1m7vjArQ3KoX3PrEGYehS4j6TSblsfU73uf'}}}\n",
      "\n",
      "\n",
      "---------------------------------------------------------------------------\n",
      "mensaje enviado a la API de facebook:\n",
      " {'message': {'text': 'Hola oswaldo'}, 'recipient': {'id': '3992952420759571'}, 'notification_type': 'REGULAR'}\n",
      " [.] Got %r None\n",
      "\n",
      "_________________________________________________________________________________________________________________________\n",
      "Mesaje de la API de Facebook-> \n",
      " {'object': 'page', 'entry': [{'id': '106842278334918', 'time': 1625688495749, 'messaging': [{'sender': {'id': '106842278334918'}, 'recipient': {'id': '3992952420759571'}, 'timestamp': 1625688495664, 'message': {'mid': 'm_WJwa1X37kNv1HtgKPLN7vm5LdZJwKC-4WNAMDG3FPBCgH4UndpjAEZxxsAl5Bowt4pmS_7fa3GExj5Qcdcl5rQ', 'is_echo': True, 'text': 'Hola oswaldo', 'app_id': 365817968444136}}]}]}\n",
      "[{'sender': {'id': '106842278334918'}, 'recipient': {'id': '3992952420759571'}, 'timestamp': 1625688495664, 'message': {'mid': 'm_WJwa1X37kNv1HtgKPLN7vm5LdZJwKC-4WNAMDG3FPBCgH4UndpjAEZxxsAl5Bowt4pmS_7fa3GExj5Qcdcl5rQ', 'is_echo': True, 'text': 'Hola oswaldo', 'app_id': 365817968444136}}]\n"
     ]
    },
    {
     "name": "stderr",
     "output_type": "stream",
     "text": [
      "127.0.0.1 - - [07/Jul/2021 15:08:12] \"\u001b[37mPOST /apiREST/v1 HTTP/1.1\u001b[0m\" 200 -\n",
      "127.0.0.1 - - [07/Jul/2021 15:08:12] \"\u001b[37mPOST /apiREST/v1 HTTP/1.1\u001b[0m\" 200 -\n",
      "127.0.0.1 - - [07/Jul/2021 15:08:13] \"\u001b[37mPOST /apiREST/v1 HTTP/1.1\u001b[0m\" 200 -\n"
     ]
    },
    {
     "name": "stdout",
     "output_type": "stream",
     "text": [
      "hilo consume\n",
      "\n",
      "______________________________________________no read__________________________________________________________________________\n",
      "\n",
      "\t\tMensaje enviado al Nucleo Logico->\n",
      "  {\"payload\": {\"robot\": \"none\", \"id_face\": \"106842278334918\", \"recipient_id\": \"106842278334918\", \"access_token\": \"none\", \"content\": \"Hola oswaldo\", \"type_resp\": \"message\", \"state\": \"none\", \"blocktype\": \"none\", \"opciones\": \"none\", \"entities\": {}}}\n",
      "\n",
      "_________________________________________________________________________________________________________________________\n",
      "Mesaje de la API de Facebook-> \n",
      " {'object': 'page', 'entry': [{'id': '106842278334918', 'time': 1625688495788, 'messaging': [{'sender': {'id': '3992952420759571'}, 'recipient': {'id': '106842278334918'}, 'timestamp': 1625688495826, 'delivery': {'mids': ['m_WJwa1X37kNv1HtgKPLN7vm5LdZJwKC-4WNAMDG3FPBCgH4UndpjAEZxxsAl5Bowt4pmS_7fa3GExj5Qcdcl5rQ'], 'watermark': 1625688495664}}]}]}\n",
      "\n",
      "_________________________________________________________________________________________________________________________\n",
      "Mesaje de la API de Facebook-> \n",
      " {'object': 'page', 'entry': [{'id': '106842278334918', 'time': 1625688495852, 'messaging': [{'sender': {'id': '3992952420759571'}, 'recipient': {'id': '106842278334918'}, 'timestamp': 1625688495930, 'read': {'watermark': 1625688495820}}]}]}\n",
      "hilo consume\n",
      "\n",
      "_________________________________________________________________________________________________________________________\n",
      "\t\t\n",
      "Respuesta del Nucleo Logico->  {'Respuesta': {'content': 'Hola oswaldo', 'next_id': 'Informativo | e61376a2-83b0-4ccd-90b2-0d3b8d9fc04b | 23985004-9470-9169-4961-397901325837 | oIgvWKILDrYMYDjlgAIk', 'blockType': 'informativo', 'contentType': 'text', 'typingTime': '1', 'payload': {'content': '', 'state': 'Informativo | 2edb2c69-beb8-471f-9799-940599824c36 | oIgvWKILDrYMYDjlgAIk', 'recipient_id': '106842278334918', 'entities': {}, 'access_token': 'EAAFMtaIPwugBAIRPT4mTm2a9nei1940NrJqMbhvvyPwfZAUZA6Id2YaXUeSu06TENy0QoDsprATI0J2ZCGHS2X6UQ4TG2AWkIbNQ3LLGdRMORJZBZBT9BhB58QusrYaXG90RiZAog3r9THJCXmX1m7vjArQ3KoX3PrEGYehS4j6TSblsfU73uf'}}}\n",
      "\n",
      "\n",
      "---------------------------------------------------------------------------\n",
      "mensaje enviado a la API de facebook:\n",
      " {'message': {'text': 'Hola oswaldo'}, 'recipient': {'id': '106842278334918'}, 'notification_type': 'REGULAR'}\n",
      " [.] Got %r None\n",
      "\n",
      "_________________________________________________________________________________________________________________________\n",
      "\t\t\n",
      "Respuesta del Nucleo Logico->  {'Respuesta': {'content': 'Este es un compuesto', 'next_id': 'Carrusel | c57beb4f-7c32-42f1-8f3d-ff9a810944fc | 23985004-9470-9169-4961-397901325837 | oIgvWKILDrYMYDjlgAIk', 'blockType': 'informativo', 'contentType': 'text', 'typingTime': '1', 'payload': {'content': '', 'state': 'Informativo | e61376a2-83b0-4ccd-90b2-0d3b8d9fc04b | 23985004-9470-9169-4961-397901325837 | oIgvWKILDrYMYDjlgAIk', 'recipient_id': '3992952420759571', 'entities': {}, 'access_token': 'EAAFMtaIPwugBAIRPT4mTm2a9nei1940NrJqMbhvvyPwfZAUZA6Id2YaXUeSu06TENy0QoDsprATI0J2ZCGHS2X6UQ4TG2AWkIbNQ3LLGdRMORJZBZBT9BhB58QusrYaXG90RiZAog3r9THJCXmX1m7vjArQ3KoX3PrEGYehS4j6TSblsfU73uf'}}}\n"
     ]
    },
    {
     "name": "stderr",
     "output_type": "stream",
     "text": [
      "127.0.0.1 - - [07/Jul/2021 15:08:14] \"\u001b[37mPOST /apiREST/v1 HTTP/1.1\u001b[0m\" 200 -\n"
     ]
    },
    {
     "name": "stdout",
     "output_type": "stream",
     "text": [
      "\n",
      "\n",
      "---------------------------------------------------------------------------\n",
      "mensaje enviado a la API de facebook:\n",
      " {'message': {'text': 'Este es un compuesto'}, 'recipient': {'id': '3992952420759571'}, 'notification_type': 'REGULAR'}\n",
      " [.] Got %r None\n",
      "\n",
      "_________________________________________________________________________________________________________________________\n",
      "Mesaje de la API de Facebook-> \n",
      " {'object': 'page', 'entry': [{'id': '106842278334918', 'time': 1625688497014, 'messaging': [{'sender': {'id': '106842278334918'}, 'recipient': {'id': '3992952420759571'}, 'timestamp': 1625688496979, 'message': {'mid': 'm_Ekxuf25QLS8KcBk7T_Ylj25LdZJwKC-4WNAMDG3FPBBSEwCxEx-He2uOMFaZmrKGeq2AixhwkDg-SbzekYhRUg', 'is_echo': True, 'text': 'Este es un compuesto', 'app_id': 365817968444136}}]}]}\n",
      "[{'sender': {'id': '106842278334918'}, 'recipient': {'id': '3992952420759571'}, 'timestamp': 1625688496979, 'message': {'mid': 'm_Ekxuf25QLS8KcBk7T_Ylj25LdZJwKC-4WNAMDG3FPBBSEwCxEx-He2uOMFaZmrKGeq2AixhwkDg-SbzekYhRUg', 'is_echo': True, 'text': 'Este es un compuesto', 'app_id': 365817968444136}}]\n",
      "hilo consume\n",
      "\n",
      "______________________________________________no read__________________________________________________________________________\n",
      "\n",
      "\t\tMensaje enviado al Nucleo Logico->\n",
      "  {\"payload\": {\"robot\": \"none\", \"id_face\": \"106842278334918\", \"recipient_id\": \"106842278334918\", \"access_token\": \"none\", \"content\": \"Este es un compuesto\", \"type_resp\": \"message\", \"state\": \"none\", \"blocktype\": \"none\", \"opciones\": \"none\", \"entities\": {}}}\n"
     ]
    },
    {
     "name": "stderr",
     "output_type": "stream",
     "text": [
      "127.0.0.1 - - [07/Jul/2021 15:08:14] \"\u001b[37mPOST /apiREST/v1 HTTP/1.1\u001b[0m\" 200 -\n",
      "127.0.0.1 - - [07/Jul/2021 15:08:14] \"\u001b[37mPOST /apiREST/v1 HTTP/1.1\u001b[0m\" 200 -\n"
     ]
    },
    {
     "name": "stdout",
     "output_type": "stream",
     "text": [
      "\n",
      "_________________________________________________________________________________________________________________________\n",
      "Mesaje de la API de Facebook-> \n",
      " {'object': 'page', 'entry': [{'id': '106842278334918', 'time': 1625688497105, 'messaging': [{'sender': {'id': '3992952420759571'}, 'recipient': {'id': '106842278334918'}, 'timestamp': 1625688497154, 'delivery': {'mids': ['m_Ekxuf25QLS8KcBk7T_Ylj25LdZJwKC-4WNAMDG3FPBBSEwCxEx-He2uOMFaZmrKGeq2AixhwkDg-SbzekYhRUg'], 'watermark': 1625688496979}}]}]}\n",
      "\n",
      "_________________________________________________________________________________________________________________________\n",
      "Mesaje de la API de Facebook-> \n",
      " {'object': 'page', 'entry': [{'id': '106842278334918', 'time': 1625688497166, 'messaging': [{'sender': {'id': '3992952420759571'}, 'recipient': {'id': '106842278334918'}, 'timestamp': 1625688497242, 'read': {'watermark': 1625688497132}}]}]}\n",
      "hilo consume\n",
      "\n",
      "_________________________________________________________________________________________________________________________\n",
      "\t\t\n",
      "Respuesta del Nucleo Logico->  {'Respuesta': {'content': 'Hola oswaldo', 'next_id': 'Informativo | e61376a2-83b0-4ccd-90b2-0d3b8d9fc04b | 23985004-9470-9169-4961-397901325837 | oIgvWKILDrYMYDjlgAIk', 'blockType': 'informativo', 'contentType': 'text', 'typingTime': '1', 'payload': {'content': '', 'state': 'Informativo | 2edb2c69-beb8-471f-9799-940599824c36 | oIgvWKILDrYMYDjlgAIk', 'recipient_id': '106842278334918', 'entities': {}, 'access_token': 'EAAFMtaIPwugBAIRPT4mTm2a9nei1940NrJqMbhvvyPwfZAUZA6Id2YaXUeSu06TENy0QoDsprATI0J2ZCGHS2X6UQ4TG2AWkIbNQ3LLGdRMORJZBZBT9BhB58QusrYaXG90RiZAog3r9THJCXmX1m7vjArQ3KoX3PrEGYehS4j6TSblsfU73uf'}}}\n",
      "\n",
      "\n",
      "---------------------------------------------------------------------------\n",
      "mensaje enviado a la API de facebook:\n",
      " {'message': {'text': 'Hola oswaldo'}, 'recipient': {'id': '106842278334918'}, 'notification_type': 'REGULAR'}\n",
      " [.] Got %r None\n",
      "\n",
      "_________________________________________________________________________________________________________________________\n",
      "\t\t\n",
      "Respuesta del Nucleo Logico->  {'Respuesta': {'content': [{'title': 'Prueba1', 'image_url': 'https://www.gettyimages.es/gi-resources/images/500px/983794168.jpg', 'subtitle': 'sub1', 'buttons': [{'titleButton': 'BTN1P1', 'typeButton': 'postback', 'payloadButton': 'Informativo | c172acd8-1edc-4d5b-ac66-fdf02dfe35ff | oIgvWKILDrYMYDjlgAIk'}, {'titleButton': 'BTN1', 'typeButton': 'postback', 'payloadButton': 'Informativo | c172acd8-1edc-4d5b-ac66-fdf02dfe35ff | oIgvWKILDrYMYDjlgAIk'}]}, {'title': 'Prueba2', 'image_url': 'https://analyticsindiamag.com/wp-content/uploads/2020/10/7d744a684fe03ebc7e8de545f97739dd.jpg', 'subtitle': 'sub2', 'buttons': [{'titleButton': 'BTN1P2', 'typeButton': 'postback', 'payloadButton': 'Informativo | c172acd8-1edc-4d5b-ac66-fdf02dfe35ff | oIgvWKILDrYMYDjlgAIk'}, {'titleButton': 'BTN1P2', 'typeButton': 'postback', 'payloadButton': 'Informativo | c172acd8-1edc-4d5b-ac66-fdf02dfe35ff | oIgvWKILDrYMYDjlgAIk'}]}, {'title': 'Prueba3', 'image_url': 'https://spaceplace.nasa.gov/gallery-sun/en/solar-flare.en.jpg', 'subtitle': 'sub3', 'buttons': [{'titleButton': 'BTN1P3', 'typeButton': 'postback', 'payloadButton': 'Informativo | c172acd8-1edc-4d5b-ac66-fdf02dfe35ff | oIgvWKILDrYMYDjlgAIk'}, {'titleButton': 'BTN1P3', 'typeButton': 'postback', 'payloadButton': 'Informativo | c172acd8-1edc-4d5b-ac66-fdf02dfe35ff | oIgvWKILDrYMYDjlgAIk'}]}], 'next_id': ['Informativo | c172acd8-1edc-4d5b-ac66-fdf02dfe35ff | oIgvWKILDrYMYDjlgAIk', 'Informativo | c172acd8-1edc-4d5b-ac66-fdf02dfe35ff | oIgvWKILDrYMYDjlgAIk', 'Informativo | c172acd8-1edc-4d5b-ac66-fdf02dfe35ff | oIgvWKILDrYMYDjlgAIk', 'Informativo | c172acd8-1edc-4d5b-ac66-fdf02dfe35ff | oIgvWKILDrYMYDjlgAIk', 'Informativo | c172acd8-1edc-4d5b-ac66-fdf02dfe35ff | oIgvWKILDrYMYDjlgAIk', 'Informativo | c172acd8-1edc-4d5b-ac66-fdf02dfe35ff | oIgvWKILDrYMYDjlgAIk'], 'blockType': 'slide', 'contentType': ' ', 'typingTime': 1, 'payload': {'content': '', 'state': 'Carrusel | c57beb4f-7c32-42f1-8f3d-ff9a810944fc | 23985004-9470-9169-4961-397901325837 | oIgvWKILDrYMYDjlgAIk', 'recipient_id': '3992952420759571', 'entities': {}, 'access_token': 'EAAFMtaIPwugBAIRPT4mTm2a9nei1940NrJqMbhvvyPwfZAUZA6Id2YaXUeSu06TENy0QoDsprATI0J2ZCGHS2X6UQ4TG2AWkIbNQ3LLGdRMORJZBZBT9BhB58QusrYaXG90RiZAog3r9THJCXmX1m7vjArQ3KoX3PrEGYehS4j6TSblsfU73uf'}, 'default_id': 'Carrusel | c57beb4f-7c32-42f1-8f3d-ff9a810944fc | 23985004-9470-9169-4961-397901325837 | oIgvWKILDrYMYDjlgAIk', 'save_var': 'Informativo | c172acd8-1edc-4d5b-ac66-fdf02dfe35ff | oIgvWKILDrYMYDjlgAIk'}}\n",
      "pyload slide:  {'recipient': {'id': '3992952420759571'}, 'message': {'attachment': {'type': 'template', 'payload': {'template_type': 'generic', 'elements': [{'title': 'Prueba1', 'image_url': 'https://www.gettyimages.es/gi-resources/images/500px/983794168.jpg', 'subtitle': 'sub1', 'buttons': [{'title': 'BTN1P1', 'type': 'postback', 'payload': 'Informativo | c172acd8-1edc-4d5b-ac66-fdf02dfe35ff | oIgvWKILDrYMYDjlgAIk'}, {'title': 'BTN1', 'type': 'postback', 'payload': 'Informativo | c172acd8-1edc-4d5b-ac66-fdf02dfe35ff | oIgvWKILDrYMYDjlgAIk'}]}, {'title': 'Prueba2', 'image_url': 'https://analyticsindiamag.com/wp-content/uploads/2020/10/7d744a684fe03ebc7e8de545f97739dd.jpg', 'subtitle': 'sub2', 'buttons': [{'title': 'BTN1P2', 'type': 'postback', 'payload': 'Informativo | c172acd8-1edc-4d5b-ac66-fdf02dfe35ff | oIgvWKILDrYMYDjlgAIk'}, {'title': 'BTN1P2', 'type': 'postback', 'payload': 'Informativo | c172acd8-1edc-4d5b-ac66-fdf02dfe35ff | oIgvWKILDrYMYDjlgAIk'}]}, {'title': 'Prueba3', 'image_url': 'https://spaceplace.nasa.gov/gallery-sun/en/solar-flare.en.jpg', 'subtitle': 'sub3', 'buttons': [{'title': 'BTN1P3', 'type': 'postback', 'payload': 'Informativo | c172acd8-1edc-4d5b-ac66-fdf02dfe35ff | oIgvWKILDrYMYDjlgAIk'}, {'title': 'BTN1P3', 'type': 'postback', 'payload': 'Informativo | c172acd8-1edc-4d5b-ac66-fdf02dfe35ff | oIgvWKILDrYMYDjlgAIk'}]}]}}}, 'notification_type': 'REGULAR'}\n",
      "\n",
      "\n",
      "---------------------------------------------------------------------------\n",
      "mensaje enviado a la API de facebook:\n",
      " {'recipient': {'id': '3992952420759571'}, 'message': {'attachment': {'type': 'template', 'payload': {'template_type': 'generic', 'elements': [{'title': 'Prueba1', 'image_url': 'https://www.gettyimages.es/gi-resources/images/500px/983794168.jpg', 'subtitle': 'sub1', 'buttons': [{'title': 'BTN1P1', 'type': 'postback', 'payload': 'Informativo | c172acd8-1edc-4d5b-ac66-fdf02dfe35ff | oIgvWKILDrYMYDjlgAIk'}, {'title': 'BTN1', 'type': 'postback', 'payload': 'Informativo | c172acd8-1edc-4d5b-ac66-fdf02dfe35ff | oIgvWKILDrYMYDjlgAIk'}]}, {'title': 'Prueba2', 'image_url': 'https://analyticsindiamag.com/wp-content/uploads/2020/10/7d744a684fe03ebc7e8de545f97739dd.jpg', 'subtitle': 'sub2', 'buttons': [{'title': 'BTN1P2', 'type': 'postback', 'payload': 'Informativo | c172acd8-1edc-4d5b-ac66-fdf02dfe35ff | oIgvWKILDrYMYDjlgAIk'}, {'title': 'BTN1P2', 'type': 'postback', 'payload': 'Informativo | c172acd8-1edc-4d5b-ac66-fdf02dfe35ff | oIgvWKILDrYMYDjlgAIk'}]}, {'title': 'Prueba3', 'image_url': 'https://spaceplace.nasa.gov/gallery-sun/en/solar-flare.en.jpg', 'subtitle': 'sub3', 'buttons': [{'title': 'BTN1P3', 'type': 'postback', 'payload': 'Informativo | c172acd8-1edc-4d5b-ac66-fdf02dfe35ff | oIgvWKILDrYMYDjlgAIk'}, {'title': 'BTN1P3', 'type': 'postback', 'payload': 'Informativo | c172acd8-1edc-4d5b-ac66-fdf02dfe35ff | oIgvWKILDrYMYDjlgAIk'}]}]}}}, 'notification_type': 'REGULAR'}\n",
      " [.] Got %r None\n",
      "\n",
      "_________________________________________________________________________________________________________________________\n",
      "Mesaje de la API de Facebook-> \n",
      " {'object': 'page', 'entry': [{'id': '106842278334918', 'time': 1625688498852, 'messaging': [{'sender': {'id': '106842278334918'}, 'recipient': {'id': '3992952420759571'}, 'timestamp': 1625688498740, 'message': {'mid': 'm_cO-ZK0PlJsuzeFRg4KyNem5LdZJwKC-4WNAMDG3FPBCcxtAIRseuB2ZOuqg8W-KrX2r0i6005NO6_orMsGkesw', 'is_echo': True, 'app_id': 365817968444136, 'attachments': [{'title': 'Prueba3, Prueba1, Prueba2', 'url': None, 'type': 'template', 'payload': {'template_type': 'generic', 'sharable': False, 'elements': [{'title': 'Prueba3', 'image_url': 'https://spaceplace.nasa.gov/gallery-sun/en/solar-flare.en.jpg', 'subtitle': 'sub3', 'buttons': [{'type': 'postback', 'title': 'BTN1P3', 'payload': 'Informativo | c172acd8-1edc-4d5b-ac66-fdf02dfe35ff | oIgvWKILDrYMYDjlgAIk'}, {'type': 'postback', 'title': 'BTN1P3', 'payload': 'Informativo | c172acd8-1edc-4d5b-ac66-fdf02dfe35ff | oIgvWKILDrYMYDjlgAIk'}]}, {'title': 'Prueba1', 'image_url': 'https://www.gettyimages.es/gi-resources/images/500px/983794168.jpg', 'subtitle': 'sub1', 'buttons': [{'type': 'postback', 'title': 'BTN1P1', 'payload': 'Informativo | c172acd8-1edc-4d5b-ac66-fdf02dfe35ff | oIgvWKILDrYMYDjlgAIk'}, {'type': 'postback', 'title': 'BTN1', 'payload': 'Informativo | c172acd8-1edc-4d5b-ac66-fdf02dfe35ff | oIgvWKILDrYMYDjlgAIk'}]}, {'title': 'Prueba2', 'image_url': 'https://analyticsindiamag.com/wp-content/uploads/2020/10/7d744a684fe03ebc7e8de545f97739dd.jpg', 'subtitle': 'sub2', 'buttons': [{'type': 'postback', 'title': 'BTN1P2', 'payload': 'Informativo | c172acd8-1edc-4d5b-ac66-fdf02dfe35ff | oIgvWKILDrYMYDjlgAIk'}, {'type': 'postback', 'title': 'BTN1P2', 'payload': 'Informativo | c172acd8-1edc-4d5b-ac66-fdf02dfe35ff | oIgvWKILDrYMYDjlgAIk'}]}]}}]}}]}]}\n"
     ]
    },
    {
     "name": "stderr",
     "output_type": "stream",
     "text": [
      "127.0.0.1 - - [07/Jul/2021 15:08:15] \"\u001b[37mPOST /apiREST/v1 HTTP/1.1\u001b[0m\" 200 -\n",
      "127.0.0.1 - - [07/Jul/2021 15:08:16] \"\u001b[37mPOST /apiREST/v1 HTTP/1.1\u001b[0m\" 200 -\n"
     ]
    },
    {
     "name": "stdout",
     "output_type": "stream",
     "text": [
      "[{'sender': {'id': '106842278334918'}, 'recipient': {'id': '3992952420759571'}, 'timestamp': 1625688498740, 'message': {'mid': 'm_cO-ZK0PlJsuzeFRg4KyNem5LdZJwKC-4WNAMDG3FPBCcxtAIRseuB2ZOuqg8W-KrX2r0i6005NO6_orMsGkesw', 'is_echo': True, 'app_id': 365817968444136, 'attachments': [{'title': 'Prueba3, Prueba1, Prueba2', 'url': None, 'type': 'template', 'payload': {'template_type': 'generic', 'sharable': False, 'elements': [{'title': 'Prueba3', 'image_url': 'https://spaceplace.nasa.gov/gallery-sun/en/solar-flare.en.jpg', 'subtitle': 'sub3', 'buttons': [{'type': 'postback', 'title': 'BTN1P3', 'payload': 'Informativo | c172acd8-1edc-4d5b-ac66-fdf02dfe35ff | oIgvWKILDrYMYDjlgAIk'}, {'type': 'postback', 'title': 'BTN1P3', 'payload': 'Informativo | c172acd8-1edc-4d5b-ac66-fdf02dfe35ff | oIgvWKILDrYMYDjlgAIk'}]}, {'title': 'Prueba1', 'image_url': 'https://www.gettyimages.es/gi-resources/images/500px/983794168.jpg', 'subtitle': 'sub1', 'buttons': [{'type': 'postback', 'title': 'BTN1P1', 'payload': 'Informativo | c172acd8-1edc-4d5b-ac66-fdf02dfe35ff | oIgvWKILDrYMYDjlgAIk'}, {'type': 'postback', 'title': 'BTN1', 'payload': 'Informativo | c172acd8-1edc-4d5b-ac66-fdf02dfe35ff | oIgvWKILDrYMYDjlgAIk'}]}, {'title': 'Prueba2', 'image_url': 'https://analyticsindiamag.com/wp-content/uploads/2020/10/7d744a684fe03ebc7e8de545f97739dd.jpg', 'subtitle': 'sub2', 'buttons': [{'type': 'postback', 'title': 'BTN1P2', 'payload': 'Informativo | c172acd8-1edc-4d5b-ac66-fdf02dfe35ff | oIgvWKILDrYMYDjlgAIk'}, {'type': 'postback', 'title': 'BTN1P2', 'payload': 'Informativo | c172acd8-1edc-4d5b-ac66-fdf02dfe35ff | oIgvWKILDrYMYDjlgAIk'}]}]}}]}}]\n",
      "hilo consume\n",
      "\n",
      "______________________________________________no read__________________________________________________________________________\n",
      "\n",
      "\t\tMensaje enviado al Nucleo Logico->\n",
      "  {\"payload\": {\"robot\": \"none\", \"id_face\": \"106842278334918\", \"recipient_id\": \"106842278334918\", \"access_token\": \"none\", \"content\": [{\"title\": \"Prueba3, Prueba1, Prueba2\", \"url\": null, \"type\": \"template\", \"payload\": {\"template_type\": \"generic\", \"sharable\": false, \"elements\": [{\"title\": \"Prueba3\", \"image_url\": \"https://spaceplace.nasa.gov/gallery-sun/en/solar-flare.en.jpg\", \"subtitle\": \"sub3\", \"buttons\": [{\"type\": \"postback\", \"title\": \"BTN1P3\", \"payload\": \"Informativo | c172acd8-1edc-4d5b-ac66-fdf02dfe35ff | oIgvWKILDrYMYDjlgAIk\"}, {\"type\": \"postback\", \"title\": \"BTN1P3\", \"payload\": \"Informativo | c172acd8-1edc-4d5b-ac66-fdf02dfe35ff | oIgvWKILDrYMYDjlgAIk\"}]}, {\"title\": \"Prueba1\", \"image_url\": \"https://www.gettyimages.es/gi-resources/images/500px/983794168.jpg\", \"subtitle\": \"sub1\", \"buttons\": [{\"type\": \"postback\", \"title\": \"BTN1P1\", \"payload\": \"Informativo | c172acd8-1edc-4d5b-ac66-fdf02dfe35ff | oIgvWKILDrYMYDjlgAIk\"}, {\"type\": \"postback\", \"title\": \"BTN1\", \"payload\": \"Informativo | c172acd8-1edc-4d5b-ac66-fdf02dfe35ff | oIgvWKILDrYMYDjlgAIk\"}]}, {\"title\": \"Prueba2\", \"image_url\": \"https://analyticsindiamag.com/wp-content/uploads/2020/10/7d744a684fe03ebc7e8de545f97739dd.jpg\", \"subtitle\": \"sub2\", \"buttons\": [{\"type\": \"postback\", \"title\": \"BTN1P2\", \"payload\": \"Informativo | c172acd8-1edc-4d5b-ac66-fdf02dfe35ff | oIgvWKILDrYMYDjlgAIk\"}, {\"type\": \"postback\", \"title\": \"BTN1P2\", \"payload\": \"Informativo | c172acd8-1edc-4d5b-ac66-fdf02dfe35ff | oIgvWKILDrYMYDjlgAIk\"}]}]}}], \"type_resp\": \"message\", \"state\": \"none\", \"blocktype\": \"none\", \"opciones\": \"none\", \"entities\": {}}}\n",
      "\n",
      "_________________________________________________________________________________________________________________________\n",
      "Mesaje de la API de Facebook-> \n",
      " {'object': 'page', 'entry': [{'id': '106842278334918', 'time': 1625688498935, 'messaging': [{'sender': {'id': '3992952420759571'}, 'recipient': {'id': '106842278334918'}, 'timestamp': 1625688498974, 'delivery': {'mids': ['m_cO-ZK0PlJsuzeFRg4KyNem5LdZJwKC-4WNAMDG3FPBCcxtAIRseuB2ZOuqg8W-KrX2r0i6005NO6_orMsGkesw'], 'watermark': 1625688498740}}]}]}\n"
     ]
    },
    {
     "name": "stderr",
     "output_type": "stream",
     "text": [
      "127.0.0.1 - - [07/Jul/2021 15:08:16] \"\u001b[37mPOST /apiREST/v1 HTTP/1.1\u001b[0m\" 200 -\n"
     ]
    },
    {
     "name": "stdout",
     "output_type": "stream",
     "text": [
      "\n",
      "_________________________________________________________________________________________________________________________\n",
      "Mesaje de la API de Facebook-> \n",
      " {'object': 'page', 'entry': [{'id': '106842278334918', 'time': 1625688499058, 'messaging': [{'sender': {'id': '3992952420759571'}, 'recipient': {'id': '106842278334918'}, 'timestamp': 1625688499167, 'read': {'watermark': 1625688499022}}]}]}\n",
      "hilo consume\n",
      "\n",
      "_________________________________________________________________________________________________________________________\n",
      "\t\t\n",
      "Respuesta del Nucleo Logico->  {'Respuesta': {'content': 'Hola oswaldo', 'next_id': 'Informativo | e61376a2-83b0-4ccd-90b2-0d3b8d9fc04b | 23985004-9470-9169-4961-397901325837 | oIgvWKILDrYMYDjlgAIk', 'blockType': 'informativo', 'contentType': 'text', 'typingTime': '1', 'payload': {'content': '', 'state': 'Informativo | 2edb2c69-beb8-471f-9799-940599824c36 | oIgvWKILDrYMYDjlgAIk', 'recipient_id': '106842278334918', 'entities': {}, 'access_token': 'EAAFMtaIPwugBAIRPT4mTm2a9nei1940NrJqMbhvvyPwfZAUZA6Id2YaXUeSu06TENy0QoDsprATI0J2ZCGHS2X6UQ4TG2AWkIbNQ3LLGdRMORJZBZBT9BhB58QusrYaXG90RiZAog3r9THJCXmX1m7vjArQ3KoX3PrEGYehS4j6TSblsfU73uf'}}}\n",
      " [.] Got %r None\n",
      "\n",
      "\n",
      "---------------------------------------------------------------------------\n",
      "mensaje enviado a la API de facebook:\n",
      " {'message': {'text': 'Hola oswaldo'}, 'recipient': {'id': '106842278334918'}, 'notification_type': 'REGULAR'}\n",
      " [.] Got %r None\n"
     ]
    },
    {
     "name": "stderr",
     "output_type": "stream",
     "text": [
      "127.0.0.1 - - [07/Jul/2021 15:08:16] \"\u001b[37mPOST /apiREST/v1 HTTP/1.1\u001b[0m\" 200 -\n"
     ]
    },
    {
     "name": "stdout",
     "output_type": "stream",
     "text": [
      "\n",
      "_________________________________________________________________________________________________________________________\n",
      "Mesaje de la API de Facebook-> \n",
      " {'object': 'page', 'entry': [{'id': '106842278334918', 'time': 1625688499789, 'messaging': [{'sender': {'id': '3992952420759571'}, 'recipient': {'id': '106842278334918'}, 'timestamp': 1625688499881, 'read': {'watermark': 1625688499404}}]}]}\n",
      "hilo consume\n",
      " [.] Got %r None\n"
     ]
    },
    {
     "name": "stderr",
     "output_type": "stream",
     "text": [
      "127.0.0.1 - - [07/Jul/2021 15:08:17] \"\u001b[37mPOST /apiREST/v1 HTTP/1.1\u001b[0m\" 200 -\n"
     ]
    },
    {
     "name": "stdout",
     "output_type": "stream",
     "text": [
      "\n",
      "_________________________________________________________________________________________________________________________\n",
      "Mesaje de la API de Facebook-> \n",
      " {'object': 'page', 'entry': [{'id': '106842278334918', 'time': 1625688499986, 'messaging': [{'sender': {'id': '3992952420759571'}, 'recipient': {'id': '106842278334918'}, 'timestamp': 1625688499826, 'postback': {'title': 'BTN1P2', 'payload': 'Informativo | c172acd8-1edc-4d5b-ac66-fdf02dfe35ff | oIgvWKILDrYMYDjlgAIk', 'mid': 'm_-yZMNTKMe3buBJ_xKFVoK25LdZJwKC-4WNAMDG3FPBCQ1fJn8_fs-gyya82mrenIO__IPe8V0dY8APxH76Ye5g'}}]}]}\n",
      "hilo consume\n",
      "\n",
      "______________________________________________no read__________________________________________________________________________\n",
      "\n",
      "\t\tMensaje enviado al Nucleo Logico->\n",
      "  {\"payload\": {\"robot\": \"none\", \"id_face\": \"106842278334918\", \"recipient_id\": \"3992952420759571\", \"access_token\": \"none\", \"content\": \"Informativo | c172acd8-1edc-4d5b-ac66-fdf02dfe35ff | oIgvWKILDrYMYDjlgAIk\", \"type_resp\": \"postback\", \"state\": \"none\", \"blocktype\": \"none\", \"opciones\": \"none\", \"entities\": {}}}\n",
      "\n",
      "_________________________________________________________________________________________________________________________\n",
      "\t\t\n",
      "Respuesta del Nucleo Logico->  {'Respuesta': {'content': 'Adios Oswa', 'next_id': 'Salida', 'blockType': 'informativo', 'contentType': 'text', 'typingTime': '1', 'payload': {'content': '', 'state': 'Informativo | c172acd8-1edc-4d5b-ac66-fdf02dfe35ff | oIgvWKILDrYMYDjlgAIk', 'recipient_id': '3992952420759571', 'entities': {'variableCarrCarrusel_|_c57beb4f-7c32-42f1-8f3d-ff9a810944fc4264': 'Informativo | c172acd8-1edc-4d5b-ac66-fdf02dfe35ff | oIgvWKILDrYMYDjlgAIk'}, 'access_token': 'EAAFMtaIPwugBAIRPT4mTm2a9nei1940NrJqMbhvvyPwfZAUZA6Id2YaXUeSu06TENy0QoDsprATI0J2ZCGHS2X6UQ4TG2AWkIbNQ3LLGdRMORJZBZBT9BhB58QusrYaXG90RiZAog3r9THJCXmX1m7vjArQ3KoX3PrEGYehS4j6TSblsfU73uf'}}}\n"
     ]
    },
    {
     "name": "stderr",
     "output_type": "stream",
     "text": [
      "127.0.0.1 - - [07/Jul/2021 15:08:18] \"\u001b[37mPOST /apiREST/v1 HTTP/1.1\u001b[0m\" 200 -\n"
     ]
    },
    {
     "name": "stdout",
     "output_type": "stream",
     "text": [
      "\n",
      "\n",
      "---------------------------------------------------------------------------\n",
      "mensaje enviado a la API de facebook:\n",
      " {'message': {'text': 'Adios Oswa'}, 'recipient': {'id': '3992952420759571'}, 'notification_type': 'REGULAR'}\n",
      " [.] Got %r None\n",
      "\n",
      "_________________________________________________________________________________________________________________________\n",
      "Mesaje de la API de Facebook-> \n",
      " {'object': 'page', 'entry': [{'id': '106842278334918', 'time': 1625688501075, 'messaging': [{'sender': {'id': '106842278334918'}, 'recipient': {'id': '3992952420759571'}, 'timestamp': 1625688501045, 'message': {'mid': 'm_Wl481wSxqVkp2pHMSzk5dG5LdZJwKC-4WNAMDG3FPBDzA6eFi_357Iv_RZNx3tDECln4PffB2-9uLhwQSwPEmg', 'is_echo': True, 'text': 'Adios Oswa', 'app_id': 365817968444136}}]}]}\n",
      "[{'sender': {'id': '106842278334918'}, 'recipient': {'id': '3992952420759571'}, 'timestamp': 1625688501045, 'message': {'mid': 'm_Wl481wSxqVkp2pHMSzk5dG5LdZJwKC-4WNAMDG3FPBDzA6eFi_357Iv_RZNx3tDECln4PffB2-9uLhwQSwPEmg', 'is_echo': True, 'text': 'Adios Oswa', 'app_id': 365817968444136}}]\n",
      "hilo consume\n",
      "\n",
      "______________________________________________no read__________________________________________________________________________\n",
      "\n",
      "\t\tMensaje enviado al Nucleo Logico->\n",
      "  {\"payload\": {\"robot\": \"none\", \"id_face\": \"106842278334918\", \"recipient_id\": \"106842278334918\", \"access_token\": \"none\", \"content\": \"Adios Oswa\", \"type_resp\": \"message\", \"state\": \"none\", \"blocktype\": \"none\", \"opciones\": \"none\", \"entities\": {}}}\n"
     ]
    },
    {
     "name": "stderr",
     "output_type": "stream",
     "text": [
      "127.0.0.1 - - [07/Jul/2021 15:08:18] \"\u001b[37mPOST /apiREST/v1 HTTP/1.1\u001b[0m\" 200 -\n"
     ]
    },
    {
     "name": "stdout",
     "output_type": "stream",
     "text": [
      "\n",
      "_________________________________________________________________________________________________________________________\n",
      "Mesaje de la API de Facebook-> \n",
      " {'object': 'page', 'entry': [{'id': '106842278334918', 'time': 1625688501176, 'messaging': [{'sender': {'id': '3992952420759571'}, 'recipient': {'id': '106842278334918'}, 'timestamp': 1625688501226, 'delivery': {'mids': ['m_Wl481wSxqVkp2pHMSzk5dG5LdZJwKC-4WNAMDG3FPBDzA6eFi_357Iv_RZNx3tDECln4PffB2-9uLhwQSwPEmg'], 'watermark': 1625688501045}}]}]}\n",
      "\n",
      "_________________________________________________________________________________________________________________________\n",
      "Mesaje de la API de Facebook-> \n",
      " {'object': 'page', 'entry': [{'id': '106842278334918', 'time': 1625688501235, 'messaging': [{'sender': {'id': '3992952420759571'}, 'recipient': {'id': '106842278334918'}, 'timestamp': 1625688501375, 'read': {'watermark': 1625688501205}}]}]}\n",
      "\n",
      "_________________________________________________________________________________________________________________________hilo consume\n",
      "\n",
      "\t\t\n",
      "Respuesta del Nucleo Logico-> "
     ]
    },
    {
     "name": "stderr",
     "output_type": "stream",
     "text": [
      "127.0.0.1 - - [07/Jul/2021 15:08:18] \"\u001b[37mPOST /apiREST/v1 HTTP/1.1\u001b[0m\" 200 -\n"
     ]
    },
    {
     "name": "stdout",
     "output_type": "stream",
     "text": [
      " {'Respuesta': {'content': 'Hola oswaldo', 'next_id': 'Informativo | e61376a2-83b0-4ccd-90b2-0d3b8d9fc04b | 23985004-9470-9169-4961-397901325837 | oIgvWKILDrYMYDjlgAIk', 'blockType': 'informativo', 'contentType': 'text', 'typingTime': '1', 'payload': {'content': '', 'state': 'Informativo | 2edb2c69-beb8-471f-9799-940599824c36 | oIgvWKILDrYMYDjlgAIk', 'recipient_id': '106842278334918', 'entities': {}, 'access_token': 'EAAFMtaIPwugBAIRPT4mTm2a9nei1940NrJqMbhvvyPwfZAUZA6Id2YaXUeSu06TENy0QoDsprATI0J2ZCGHS2X6UQ4TG2AWkIbNQ3LLGdRMORJZBZBT9BhB58QusrYaXG90RiZAog3r9THJCXmX1m7vjArQ3KoX3PrEGYehS4j6TSblsfU73uf'}}}\n",
      "\n",
      "\n",
      "---------------------------------------------------------------------------\n",
      "mensaje enviado a la API de facebook:\n",
      " {'message': {'text': 'Hola oswaldo'}, 'recipient': {'id': '106842278334918'}, 'notification_type': 'REGULAR'}\n",
      " [.] Got %r None\n"
     ]
    },
    {
     "name": "stderr",
     "output_type": "stream",
     "text": [
      "127.0.0.1 - - [07/Jul/2021 15:08:20] \"\u001b[37mPOST /apiREST/v1 HTTP/1.1\u001b[0m\" 200 -\n"
     ]
    },
    {
     "name": "stdout",
     "output_type": "stream",
     "text": [
      "\n",
      "_________________________________________________________________________________________________________________________\n",
      "Mesaje de la API de Facebook-> \n",
      " {'object': 'page', 'entry': [{'id': '106842278334918', 'time': 1625688503052, 'messaging': [{'sender': {'id': '3992952420759571'}, 'recipient': {'id': '106842278334918'}, 'timestamp': 1625688503154, 'read': {'watermark': 1625688502648}}]}]}\n",
      "hilo consume\n",
      " [.] Got %r None\n",
      "\n",
      "_________________________________________________________________________________________________________________________\n",
      "Mesaje de la API de Facebook-> \n",
      " {'object': 'page', 'entry': [{'id': '106842278334918', 'time': 1625688503212, 'messaging': [{'sender': {'id': '3992952420759571'}, 'recipient': {'id': '106842278334918'}, 'timestamp': 1625688503092, 'message': {'mid': 'm_F-0p8X-CKSH9P6F-Mc3HNG5LdZJwKC-4WNAMDG3FPBBudzMpya5rsl2I-01_ixees6rfErcSXZzkNmMOAx04pw', 'text': 'Hola'}}]}]}"
     ]
    },
    {
     "name": "stderr",
     "output_type": "stream",
     "text": [
      "127.0.0.1 - - [07/Jul/2021 15:08:20] \"\u001b[37mPOST /apiREST/v1 HTTP/1.1\u001b[0m\" 200 -\n"
     ]
    },
    {
     "name": "stdout",
     "output_type": "stream",
     "text": [
      "\n",
      "[{'sender': {'id': '3992952420759571'}, 'recipient': {'id': '106842278334918'}, 'timestamp': 1625688503092, 'message': {'mid': 'm_F-0p8X-CKSH9P6F-Mc3HNG5LdZJwKC-4WNAMDG3FPBBudzMpya5rsl2I-01_ixees6rfErcSXZzkNmMOAx04pw', 'text': 'Hola'}}]\n",
      "hilo consume\n",
      "\n",
      "______________________________________________no read__________________________________________________________________________\n",
      "\n",
      "\t\tMensaje enviado al Nucleo Logico->\n",
      "  {\"payload\": {\"robot\": \"none\", \"id_face\": \"106842278334918\", \"recipient_id\": \"3992952420759571\", \"access_token\": \"none\", \"content\": \"Hola\", \"type_resp\": \"message\", \"state\": \"none\", \"blocktype\": \"none\", \"opciones\": \"none\", \"entities\": {}}}\n",
      "\n",
      "_________________________________________________________________________________________________________________________\n",
      "\t\t\n",
      "Respuesta del Nucleo Logico->  {'Respuesta': {'content': 'Hola oswaldo', 'next_id': 'Informativo | e61376a2-83b0-4ccd-90b2-0d3b8d9fc04b | 23985004-9470-9169-4961-397901325837 | oIgvWKILDrYMYDjlgAIk', 'blockType': 'informativo', 'contentType': 'text', 'typingTime': '1', 'payload': {'content': '', 'state': 'Informativo | 2edb2c69-beb8-471f-9799-940599824c36 | oIgvWKILDrYMYDjlgAIk', 'recipient_id': '3992952420759571', 'entities': {}, 'access_token': 'EAAFMtaIPwugBAIRPT4mTm2a9nei1940NrJqMbhvvyPwfZAUZA6Id2YaXUeSu06TENy0QoDsprATI0J2ZCGHS2X6UQ4TG2AWkIbNQ3LLGdRMORJZBZBT9BhB58QusrYaXG90RiZAog3r9THJCXmX1m7vjArQ3KoX3PrEGYehS4j6TSblsfU73uf'}}}\n"
     ]
    },
    {
     "name": "stderr",
     "output_type": "stream",
     "text": [
      "127.0.0.1 - - [07/Jul/2021 15:08:21] \"\u001b[37mPOST /apiREST/v1 HTTP/1.1\u001b[0m\" 200 -\n"
     ]
    },
    {
     "name": "stdout",
     "output_type": "stream",
     "text": [
      "\n",
      "\n",
      "---------------------------------------------------------------------------\n",
      "mensaje enviado a la API de facebook:\n",
      " {'message': {'text': 'Hola oswaldo'}, 'recipient': {'id': '3992952420759571'}, 'notification_type': 'REGULAR'}\n",
      " [.] Got %r None\n",
      "\n",
      "_________________________________________________________________________________________________________________________\n",
      "Mesaje de la API de Facebook-> \n",
      " {'object': 'page', 'entry': [{'id': '106842278334918', 'time': 1625688504194, 'messaging': [{'sender': {'id': '106842278334918'}, 'recipient': {'id': '3992952420759571'}, 'timestamp': 1625688504155, 'message': {'mid': 'm_IAwj08hQUBLjZVh6zP8qL25LdZJwKC-4WNAMDG3FPBCo3LQ8Na8Q5nElEyyP1YKjcOwB6uytIMdvyrii0QSSSQ', 'is_echo': True, 'text': 'Hola oswaldo', 'app_id': 365817968444136}}]}]}\n",
      "[{'sender': {'id': '106842278334918'}, 'recipient': {'id': '3992952420759571'}, 'timestamp': 1625688504155, 'message': {'mid': 'm_IAwj08hQUBLjZVh6zP8qL25LdZJwKC-4WNAMDG3FPBCo3LQ8Na8Q5nElEyyP1YKjcOwB6uytIMdvyrii0QSSSQ', 'is_echo': True, 'text': 'Hola oswaldo', 'app_id': 365817968444136}}]\n",
      "hilo consume\n",
      "\n",
      "______________________________________________no read__________________________________________________________________________\n",
      "\n",
      "\t\tMensaje enviado al Nucleo Logico->\n",
      "  {\"payload\": {\"robot\": \"none\", \"id_face\": \"106842278334918\", \"recipient_id\": \"106842278334918\", \"access_token\": \"none\", \"content\": \"Hola oswaldo\", \"type_resp\": \"message\", \"state\": \"none\", \"blocktype\": \"none\", \"opciones\": \"none\", \"entities\": {}}}\n"
     ]
    },
    {
     "name": "stderr",
     "output_type": "stream",
     "text": [
      "127.0.0.1 - - [07/Jul/2021 15:08:21] \"\u001b[37mPOST /apiREST/v1 HTTP/1.1\u001b[0m\" 200 -\n"
     ]
    },
    {
     "name": "stdout",
     "output_type": "stream",
     "text": [
      "\n",
      "_________________________________________________________________________________________________________________________\n",
      "Mesaje de la API de Facebook-> \n",
      " {'object': 'page', 'entry': [{'id': '106842278334918', 'time': 1625688504303, 'messaging': [{'sender': {'id': '3992952420759571'}, 'recipient': {'id': '106842278334918'}, 'timestamp': 1625688504343, 'delivery': {'mids': ['m_IAwj08hQUBLjZVh6zP8qL25LdZJwKC-4WNAMDG3FPBCo3LQ8Na8Q5nElEyyP1YKjcOwB6uytIMdvyrii0QSSSQ'], 'watermark': 1625688504155}}]}]}\n",
      "\n",
      "_________________________________________________________________________________________________________________________\n",
      "Mesaje de la API de Facebook-> \n",
      " {'object': 'page', 'entry': [{'id': '106842278334918', 'time': 1625688504348, 'messaging': [{'sender': {'id': '3992952420759571'}, 'recipient': {'id': '106842278334918'}, 'timestamp': 1625688504501, 'read': {'watermark': 1625688504321}}]}]}\n"
     ]
    },
    {
     "name": "stderr",
     "output_type": "stream",
     "text": [
      "127.0.0.1 - - [07/Jul/2021 15:08:21] \"\u001b[37mPOST /apiREST/v1 HTTP/1.1\u001b[0m\" 200 -\n"
     ]
    },
    {
     "name": "stdout",
     "output_type": "stream",
     "text": [
      "\n",
      "_________________________________________________________________________________________________________________________\n",
      "\t\t\n",
      "Respuesta del Nucleo Logico->  {'Respuesta': {'content': 'Hola oswaldo', 'next_id': 'Informativo | e61376a2-83b0-4ccd-90b2-0d3b8d9fc04b | 23985004-9470-9169-4961-397901325837 | oIgvWKILDrYMYDjlgAIk', 'blockType': 'informativo', 'contentType': 'text', 'typingTime': '1', 'payload': {'content': '', 'state': 'Informativo | 2edb2c69-beb8-471f-9799-940599824c36 | oIgvWKILDrYMYDjlgAIk', 'recipient_id': '106842278334918', 'entities': {}, 'access_token': 'EAAFMtaIPwugBAIRPT4mTm2a9nei1940NrJqMbhvvyPwfZAUZA6Id2YaXUeSu06TENy0QoDsprATI0J2ZCGHS2X6UQ4TG2AWkIbNQ3LLGdRMORJZBZBT9BhB58QusrYaXG90RiZAog3r9THJCXmX1m7vjArQ3KoX3PrEGYehS4j6TSblsfU73uf'}}}\n",
      "hilo consume\n",
      "\n",
      "\n",
      "---------------------------------------------------------------------------\n",
      "mensaje enviado a la API de facebook:\n",
      " {'message': {'text': 'Hola oswaldo'}, 'recipient': {'id': '106842278334918'}, 'notification_type': 'REGULAR'}\n",
      " [.] Got %r None\n",
      "\n",
      "_________________________________________________________________________________________________________________________\n",
      "\t\t\n",
      "Respuesta del Nucleo Logico->  {'Respuesta': {'content': 'Este es un compuesto', 'next_id': 'Carrusel | c57beb4f-7c32-42f1-8f3d-ff9a810944fc | 23985004-9470-9169-4961-397901325837 | oIgvWKILDrYMYDjlgAIk', 'blockType': 'informativo', 'contentType': 'text', 'typingTime': '1', 'payload': {'content': '', 'state': 'Informativo | e61376a2-83b0-4ccd-90b2-0d3b8d9fc04b | 23985004-9470-9169-4961-397901325837 | oIgvWKILDrYMYDjlgAIk', 'recipient_id': '3992952420759571', 'entities': {}, 'access_token': 'EAAFMtaIPwugBAIRPT4mTm2a9nei1940NrJqMbhvvyPwfZAUZA6Id2YaXUeSu06TENy0QoDsprATI0J2ZCGHS2X6UQ4TG2AWkIbNQ3LLGdRMORJZBZBT9BhB58QusrYaXG90RiZAog3r9THJCXmX1m7vjArQ3KoX3PrEGYehS4j6TSblsfU73uf'}}}\n"
     ]
    },
    {
     "name": "stderr",
     "output_type": "stream",
     "text": [
      "127.0.0.1 - - [07/Jul/2021 15:08:22] \"\u001b[37mPOST /apiREST/v1 HTTP/1.1\u001b[0m\" 200 -\n",
      "127.0.0.1 - - [07/Jul/2021 15:08:22] \"\u001b[37mPOST /apiREST/v1 HTTP/1.1\u001b[0m\" 200 -\n"
     ]
    },
    {
     "name": "stdout",
     "output_type": "stream",
     "text": [
      "\n",
      "\n",
      "---------------------------------------------------------------------------\n",
      "mensaje enviado a la API de facebook:\n",
      " {'message': {'text': 'Este es un compuesto'}, 'recipient': {'id': '3992952420759571'}, 'notification_type': 'REGULAR'}\n",
      " [.] Got %r None\n",
      "\n",
      "_________________________________________________________________________________________________________________________\n",
      "Mesaje de la API de Facebook-> \n",
      " {'object': 'page', 'entry': [{'id': '106842278334918', 'time': 1625688505547, 'messaging': [{'sender': {'id': '106842278334918'}, 'recipient': {'id': '3992952420759571'}, 'timestamp': 1625688505488, 'message': {'mid': 'm_t3MJPMyrh4Ijs24gBXgb0G5LdZJwKC-4WNAMDG3FPBBaX_JsdvPgcvvEMGaBG-z39e-nrt_vq8LqsHQjYcGycw', 'is_echo': True, 'text': 'Este es un compuesto', 'app_id': 365817968444136}}]}]}\n",
      "[{'sender': {'id': '106842278334918'}, 'recipient': {'id': '3992952420759571'}, 'timestamp': 1625688505488, 'message': {'mid': 'm_t3MJPMyrh4Ijs24gBXgb0G5LdZJwKC-4WNAMDG3FPBBaX_JsdvPgcvvEMGaBG-z39e-nrt_vq8LqsHQjYcGycw', 'is_echo': True, 'text': 'Este es un compuesto', 'app_id': 365817968444136}}]\n",
      "hilo consume\n",
      "\n",
      "______________________________________________no read__________________________________________________________________________\n",
      "\n",
      "\t\tMensaje enviado al Nucleo Logico->\n",
      "  {\"payload\": {\"robot\": \"none\", \"id_face\": \"106842278334918\", \"recipient_id\": \"106842278334918\", \"access_token\": \"none\", \"content\": \"Este es un compuesto\", \"type_resp\": \"message\", \"state\": \"none\", \"blocktype\": \"none\", \"opciones\": \"none\", \"entities\": {}}}\n",
      "\n",
      "_________________________________________________________________________________________________________________________\n",
      "Mesaje de la API de Facebook-> \n",
      " {'object': 'page', 'entry': [{'id': '106842278334918', 'time': 1625688505609, 'messaging': [{'sender': {'id': '3992952420759571'}, 'recipient': {'id': '106842278334918'}, 'timestamp': 1625688505648, 'delivery': {'mids': ['m_t3MJPMyrh4Ijs24gBXgb0G5LdZJwKC-4WNAMDG3FPBBaX_JsdvPgcvvEMGaBG-z39e-nrt_vq8LqsHQjYcGycw'], 'watermark': 1625688505488}}]}]}\n"
     ]
    },
    {
     "name": "stderr",
     "output_type": "stream",
     "text": [
      "127.0.0.1 - - [07/Jul/2021 15:08:22] \"\u001b[37mPOST /apiREST/v1 HTTP/1.1\u001b[0m\" 200 -\n"
     ]
    },
    {
     "name": "stdout",
     "output_type": "stream",
     "text": [
      "\n",
      "_________________________________________________________________________________________________________________________\n",
      "Mesaje de la API de Facebook-> \n",
      " {'object': 'page', 'entry': [{'id': '106842278334918', 'time': 1625688505665, 'messaging': [{'sender': {'id': '3992952420759571'}, 'recipient': {'id': '106842278334918'}, 'timestamp': 1625688505820, 'read': {'watermark': 1625688505633}}]}]}\n",
      "hilo consume\n",
      "\n",
      "_________________________________________________________________________________________________________________________\n",
      "\t\t\n",
      "Respuesta del Nucleo Logico->  {'Respuesta': {'content': 'Hola oswaldo', 'next_id': 'Informativo | e61376a2-83b0-4ccd-90b2-0d3b8d9fc04b | 23985004-9470-9169-4961-397901325837 | oIgvWKILDrYMYDjlgAIk', 'blockType': 'informativo', 'contentType': 'text', 'typingTime': '1', 'payload': {'content': '', 'state': 'Informativo | 2edb2c69-beb8-471f-9799-940599824c36 | oIgvWKILDrYMYDjlgAIk', 'recipient_id': '106842278334918', 'entities': {}, 'access_token': 'EAAFMtaIPwugBAIRPT4mTm2a9nei1940NrJqMbhvvyPwfZAUZA6Id2YaXUeSu06TENy0QoDsprATI0J2ZCGHS2X6UQ4TG2AWkIbNQ3LLGdRMORJZBZBT9BhB58QusrYaXG90RiZAog3r9THJCXmX1m7vjArQ3KoX3PrEGYehS4j6TSblsfU73uf'}}}\n",
      "\n",
      "\n",
      "---------------------------------------------------------------------------\n",
      "mensaje enviado a la API de facebook:\n",
      " {'message': {'text': 'Hola oswaldo'}, 'recipient': {'id': '106842278334918'}, 'notification_type': 'REGULAR'}\n",
      " [.] Got %r None\n",
      "\n",
      "_________________________________________________________________________________________________________________________\n",
      "\t\t\n",
      "Respuesta del Nucleo Logico->  {'Respuesta': {'content': [{'title': 'Prueba1', 'image_url': 'https://www.gettyimages.es/gi-resources/images/500px/983794168.jpg', 'subtitle': 'sub1', 'buttons': [{'titleButton': 'BTN1P1', 'typeButton': 'postback', 'payloadButton': 'Informativo | c172acd8-1edc-4d5b-ac66-fdf02dfe35ff | oIgvWKILDrYMYDjlgAIk'}, {'titleButton': 'BTN1', 'typeButton': 'postback', 'payloadButton': 'Informativo | c172acd8-1edc-4d5b-ac66-fdf02dfe35ff | oIgvWKILDrYMYDjlgAIk'}]}, {'title': 'Prueba2', 'image_url': 'https://analyticsindiamag.com/wp-content/uploads/2020/10/7d744a684fe03ebc7e8de545f97739dd.jpg', 'subtitle': 'sub2', 'buttons': [{'titleButton': 'BTN1P2', 'typeButton': 'postback', 'payloadButton': 'Informativo | c172acd8-1edc-4d5b-ac66-fdf02dfe35ff | oIgvWKILDrYMYDjlgAIk'}, {'titleButton': 'BTN1P2', 'typeButton': 'postback', 'payloadButton': 'Informativo | c172acd8-1edc-4d5b-ac66-fdf02dfe35ff | oIgvWKILDrYMYDjlgAIk'}]}, {'title': 'Prueba3', 'image_url': 'https://spaceplace.nasa.gov/gallery-sun/en/solar-flare.en.jpg', 'subtitle': 'sub3', 'buttons': [{'titleButton': 'BTN1P3', 'typeButton': 'postback', 'payloadButton': 'Informativo | c172acd8-1edc-4d5b-ac66-fdf02dfe35ff | oIgvWKILDrYMYDjlgAIk'}, {'titleButton': 'BTN1P3', 'typeButton': 'postback', 'payloadButton': 'Informativo | c172acd8-1edc-4d5b-ac66-fdf02dfe35ff | oIgvWKILDrYMYDjlgAIk'}]}], 'next_id': ['Informativo | c172acd8-1edc-4d5b-ac66-fdf02dfe35ff | oIgvWKILDrYMYDjlgAIk', 'Informativo | c172acd8-1edc-4d5b-ac66-fdf02dfe35ff | oIgvWKILDrYMYDjlgAIk', 'Informativo | c172acd8-1edc-4d5b-ac66-fdf02dfe35ff | oIgvWKILDrYMYDjlgAIk', 'Informativo | c172acd8-1edc-4d5b-ac66-fdf02dfe35ff | oIgvWKILDrYMYDjlgAIk', 'Informativo | c172acd8-1edc-4d5b-ac66-fdf02dfe35ff | oIgvWKILDrYMYDjlgAIk', 'Informativo | c172acd8-1edc-4d5b-ac66-fdf02dfe35ff | oIgvWKILDrYMYDjlgAIk'], 'blockType': 'slide', 'contentType': ' ', 'typingTime': 1, 'payload': {'content': '', 'state': 'Carrusel | c57beb4f-7c32-42f1-8f3d-ff9a810944fc | 23985004-9470-9169-4961-397901325837 | oIgvWKILDrYMYDjlgAIk', 'recipient_id': '3992952420759571', 'entities': {}, 'access_token': 'EAAFMtaIPwugBAIRPT4mTm2a9nei1940NrJqMbhvvyPwfZAUZA6Id2YaXUeSu06TENy0QoDsprATI0J2ZCGHS2X6UQ4TG2AWkIbNQ3LLGdRMORJZBZBT9BhB58QusrYaXG90RiZAog3r9THJCXmX1m7vjArQ3KoX3PrEGYehS4j6TSblsfU73uf'}, 'default_id': 'Carrusel | c57beb4f-7c32-42f1-8f3d-ff9a810944fc | 23985004-9470-9169-4961-397901325837 | oIgvWKILDrYMYDjlgAIk', 'save_var': 'Informativo | c172acd8-1edc-4d5b-ac66-fdf02dfe35ff | oIgvWKILDrYMYDjlgAIk'}}\n",
      "pyload slide:  {'recipient': {'id': '3992952420759571'}, 'message': {'attachment': {'type': 'template', 'payload': {'template_type': 'generic', 'elements': [{'title': 'Prueba1', 'image_url': 'https://www.gettyimages.es/gi-resources/images/500px/983794168.jpg', 'subtitle': 'sub1', 'buttons': [{'title': 'BTN1P1', 'type': 'postback', 'payload': 'Informativo | c172acd8-1edc-4d5b-ac66-fdf02dfe35ff | oIgvWKILDrYMYDjlgAIk'}, {'title': 'BTN1', 'type': 'postback', 'payload': 'Informativo | c172acd8-1edc-4d5b-ac66-fdf02dfe35ff | oIgvWKILDrYMYDjlgAIk'}]}, {'title': 'Prueba2', 'image_url': 'https://analyticsindiamag.com/wp-content/uploads/2020/10/7d744a684fe03ebc7e8de545f97739dd.jpg', 'subtitle': 'sub2', 'buttons': [{'title': 'BTN1P2', 'type': 'postback', 'payload': 'Informativo | c172acd8-1edc-4d5b-ac66-fdf02dfe35ff | oIgvWKILDrYMYDjlgAIk'}, {'title': 'BTN1P2', 'type': 'postback', 'payload': 'Informativo | c172acd8-1edc-4d5b-ac66-fdf02dfe35ff | oIgvWKILDrYMYDjlgAIk'}]}, {'title': 'Prueba3', 'image_url': 'https://spaceplace.nasa.gov/gallery-sun/en/solar-flare.en.jpg', 'subtitle': 'sub3', 'buttons': [{'title': 'BTN1P3', 'type': 'postback', 'payload': 'Informativo | c172acd8-1edc-4d5b-ac66-fdf02dfe35ff | oIgvWKILDrYMYDjlgAIk'}, {'title': 'BTN1P3', 'type': 'postback', 'payload': 'Informativo | c172acd8-1edc-4d5b-ac66-fdf02dfe35ff | oIgvWKILDrYMYDjlgAIk'}]}]}}}, 'notification_type': 'REGULAR'}\n",
      "\n",
      "\n",
      "---------------------------------------------------------------------------\n",
      "mensaje enviado a la API de facebook:\n",
      " {'recipient': {'id': '3992952420759571'}, 'message': {'attachment': {'type': 'template', 'payload': {'template_type': 'generic', 'elements': [{'title': 'Prueba1', 'image_url': 'https://www.gettyimages.es/gi-resources/images/500px/983794168.jpg', 'subtitle': 'sub1', 'buttons': [{'title': 'BTN1P1', 'type': 'postback', 'payload': 'Informativo | c172acd8-1edc-4d5b-ac66-fdf02dfe35ff | oIgvWKILDrYMYDjlgAIk'}, {'title': 'BTN1', 'type': 'postback', 'payload': 'Informativo | c172acd8-1edc-4d5b-ac66-fdf02dfe35ff | oIgvWKILDrYMYDjlgAIk'}]}, {'title': 'Prueba2', 'image_url': 'https://analyticsindiamag.com/wp-content/uploads/2020/10/7d744a684fe03ebc7e8de545f97739dd.jpg', 'subtitle': 'sub2', 'buttons': [{'title': 'BTN1P2', 'type': 'postback', 'payload': 'Informativo | c172acd8-1edc-4d5b-ac66-fdf02dfe35ff | oIgvWKILDrYMYDjlgAIk'}, {'title': 'BTN1P2', 'type': 'postback', 'payload': 'Informativo | c172acd8-1edc-4d5b-ac66-fdf02dfe35ff | oIgvWKILDrYMYDjlgAIk'}]}, {'title': 'Prueba3', 'image_url': 'https://spaceplace.nasa.gov/gallery-sun/en/solar-flare.en.jpg', 'subtitle': 'sub3', 'buttons': [{'title': 'BTN1P3', 'type': 'postback', 'payload': 'Informativo | c172acd8-1edc-4d5b-ac66-fdf02dfe35ff | oIgvWKILDrYMYDjlgAIk'}, {'title': 'BTN1P3', 'type': 'postback', 'payload': 'Informativo | c172acd8-1edc-4d5b-ac66-fdf02dfe35ff | oIgvWKILDrYMYDjlgAIk'}]}]}}}, 'notification_type': 'REGULAR'}\n",
      " [.] Got %r None\n",
      "\n",
      "_________________________________________________________________________________________________________________________\n",
      "Mesaje de la API de Facebook-> \n",
      " {'object': 'page', 'entry': [{'id': '106842278334918', 'time': 1625688507178, 'messaging': [{'sender': {'id': '106842278334918'}, 'recipient': {'id': '3992952420759571'}, 'timestamp': 1625688507116, 'message': {'mid': 'm_rIGf0f-uKPyhQ9rEScGPaW5LdZJwKC-4WNAMDG3FPBApKqEYSx4a5a5BvMNQVN4fel-arwwwUQN1KEUcP7JvuA', 'is_echo': True, 'app_id': 365817968444136, 'attachments': [{'title': 'Prueba3, Prueba2, Prueba1', 'url': None, 'type': 'template', 'payload': {'template_type': 'generic', 'sharable': False, 'elements': [{'title': 'Prueba3', 'image_url': 'https://spaceplace.nasa.gov/gallery-sun/en/solar-flare.en.jpg', 'subtitle': 'sub3', 'buttons': [{'type': 'postback', 'title': 'BTN1P3', 'payload': 'Informativo | c172acd8-1edc-4d5b-ac66-fdf02dfe35ff | oIgvWKILDrYMYDjlgAIk'}, {'type': 'postback', 'title': 'BTN1P3', 'payload': 'Informativo | c172acd8-1edc-4d5b-ac66-fdf02dfe35ff | oIgvWKILDrYMYDjlgAIk'}]}, {'title': 'Prueba2', 'image_url': 'https://analyticsindiamag.com/wp-content/uploads/2020/10/7d744a684fe03ebc7e8de545f97739dd.jpg', 'subtitle': 'sub2', 'buttons': [{'type': 'postback', 'title': 'BTN1P2', 'payload': 'Informativo | c172acd8-1edc-4d5b-ac66-fdf02dfe35ff | oIgvWKILDrYMYDjlgAIk'}, {'type': 'postback', 'title': 'BTN1P2', 'payload': 'Informativo | c172acd8-1edc-4d5b-ac66-fdf02dfe35ff | oIgvWKILDrYMYDjlgAIk'}]}, {'title': 'Prueba1', 'image_url': 'https://www.gettyimages.es/gi-resources/images/500px/983794168.jpg', 'subtitle': 'sub1', 'buttons': [{'type': 'postback', 'title': 'BTN1P1', 'payload': 'Informativo | c172acd8-1edc-4d5b-ac66-fdf02dfe35ff | oIgvWKILDrYMYDjlgAIk'}, {'type': 'postback', 'title': 'BTN1', 'payload': 'Informativo | c172acd8-1edc-4d5b-ac66-fdf02dfe35ff | oIgvWKILDrYMYDjlgAIk'}]}]}}]}}]}]}"
     ]
    },
    {
     "name": "stderr",
     "output_type": "stream",
     "text": [
      "127.0.0.1 - - [07/Jul/2021 15:08:24] \"\u001b[37mPOST /apiREST/v1 HTTP/1.1\u001b[0m\" 200 -\n",
      "127.0.0.1 - - [07/Jul/2021 15:08:24] \"\u001b[37mPOST /apiREST/v1 HTTP/1.1\u001b[0m\" 200 -\n"
     ]
    },
    {
     "name": "stdout",
     "output_type": "stream",
     "text": [
      "\n",
      "[{'sender': {'id': '106842278334918'}, 'recipient': {'id': '3992952420759571'}, 'timestamp': 1625688507116, 'message': {'mid': 'm_rIGf0f-uKPyhQ9rEScGPaW5LdZJwKC-4WNAMDG3FPBApKqEYSx4a5a5BvMNQVN4fel-arwwwUQN1KEUcP7JvuA', 'is_echo': True, 'app_id': 365817968444136, 'attachments': [{'title': 'Prueba3, Prueba2, Prueba1', 'url': None, 'type': 'template', 'payload': {'template_type': 'generic', 'sharable': False, 'elements': [{'title': 'Prueba3', 'image_url': 'https://spaceplace.nasa.gov/gallery-sun/en/solar-flare.en.jpg', 'subtitle': 'sub3', 'buttons': [{'type': 'postback', 'title': 'BTN1P3', 'payload': 'Informativo | c172acd8-1edc-4d5b-ac66-fdf02dfe35ff | oIgvWKILDrYMYDjlgAIk'}, {'type': 'postback', 'title': 'BTN1P3', 'payload': 'Informativo | c172acd8-1edc-4d5b-ac66-fdf02dfe35ff | oIgvWKILDrYMYDjlgAIk'}]}, {'title': 'Prueba2', 'image_url': 'https://analyticsindiamag.com/wp-content/uploads/2020/10/7d744a684fe03ebc7e8de545f97739dd.jpg', 'subtitle': 'sub2', 'buttons': [{'type': 'postback', 'title': 'BTN1P2', 'payload': 'Informativo | c172acd8-1edc-4d5b-ac66-fdf02dfe35ff | oIgvWKILDrYMYDjlgAIk'}, {'type': 'postback', 'title': 'BTN1P2', 'payload': 'Informativo | c172acd8-1edc-4d5b-ac66-fdf02dfe35ff | oIgvWKILDrYMYDjlgAIk'}]}, {'title': 'Prueba1', 'image_url': 'https://www.gettyimages.es/gi-resources/images/500px/983794168.jpg', 'subtitle': 'sub1', 'buttons': [{'type': 'postback', 'title': 'BTN1P1', 'payload': 'Informativo | c172acd8-1edc-4d5b-ac66-fdf02dfe35ff | oIgvWKILDrYMYDjlgAIk'}, {'type': 'postback', 'title': 'BTN1', 'payload': 'Informativo | c172acd8-1edc-4d5b-ac66-fdf02dfe35ff | oIgvWKILDrYMYDjlgAIk'}]}]}}]}}]\n",
      "hilo consume\n",
      "\n",
      "______________________________________________no read__________________________________________________________________________\n",
      "\n",
      "\t\tMensaje enviado al Nucleo Logico->\n",
      "  {\"payload\": {\"robot\": \"none\", \"id_face\": \"106842278334918\", \"recipient_id\": \"106842278334918\", \"access_token\": \"none\", \"content\": [{\"title\": \"Prueba3, Prueba2, Prueba1\", \"url\": null, \"type\": \"template\", \"payload\": {\"template_type\": \"generic\", \"sharable\": false, \"elements\": [{\"title\": \"Prueba3\", \"image_url\": \"https://spaceplace.nasa.gov/gallery-sun/en/solar-flare.en.jpg\", \"subtitle\": \"sub3\", \"buttons\": [{\"type\": \"postback\", \"title\": \"BTN1P3\", \"payload\": \"Informativo | c172acd8-1edc-4d5b-ac66-fdf02dfe35ff | oIgvWKILDrYMYDjlgAIk\"}, {\"type\": \"postback\", \"title\": \"BTN1P3\", \"payload\": \"Informativo | c172acd8-1edc-4d5b-ac66-fdf02dfe35ff | oIgvWKILDrYMYDjlgAIk\"}]}, {\"title\": \"Prueba2\", \"image_url\": \"https://analyticsindiamag.com/wp-content/uploads/2020/10/7d744a684fe03ebc7e8de545f97739dd.jpg\", \"subtitle\": \"sub2\", \"buttons\": [{\"type\": \"postback\", \"title\": \"BTN1P2\", \"payload\": \"Informativo | c172acd8-1edc-4d5b-ac66-fdf02dfe35ff | oIgvWKILDrYMYDjlgAIk\"}, {\"type\": \"postback\", \"title\": \"BTN1P2\", \"payload\": \"Informativo | c172acd8-1edc-4d5b-ac66-fdf02dfe35ff | oIgvWKILDrYMYDjlgAIk\"}]}, {\"title\": \"Prueba1\", \"image_url\": \"https://www.gettyimages.es/gi-resources/images/500px/983794168.jpg\", \"subtitle\": \"sub1\", \"buttons\": [{\"type\": \"postback\", \"title\": \"BTN1P1\", \"payload\": \"Informativo | c172acd8-1edc-4d5b-ac66-fdf02dfe35ff | oIgvWKILDrYMYDjlgAIk\"}, {\"type\": \"postback\", \"title\": \"BTN1\", \"payload\": \"Informativo | c172acd8-1edc-4d5b-ac66-fdf02dfe35ff | oIgvWKILDrYMYDjlgAIk\"}]}]}}], \"type_resp\": \"message\", \"state\": \"none\", \"blocktype\": \"none\", \"opciones\": \"none\", \"entities\": {}}}\n",
      "\n",
      "_________________________________________________________________________________________________________________________\n",
      "Mesaje de la API de Facebook-> \n",
      " {'object': 'page', 'entry': [{'id': '106842278334918', 'time': 1625688507308, 'messaging': [{'sender': {'id': '3992952420759571'}, 'recipient': {'id': '106842278334918'}, 'timestamp': 1625688507356, 'delivery': {'mids': ['m_rIGf0f-uKPyhQ9rEScGPaW5LdZJwKC-4WNAMDG3FPBApKqEYSx4a5a5BvMNQVN4fel-arwwwUQN1KEUcP7JvuA'], 'watermark': 1625688507116}}]}]}\n"
     ]
    },
    {
     "name": "stderr",
     "output_type": "stream",
     "text": [
      "127.0.0.1 - - [07/Jul/2021 15:08:24] \"\u001b[37mPOST /apiREST/v1 HTTP/1.1\u001b[0m\" 200 -\n"
     ]
    },
    {
     "name": "stdout",
     "output_type": "stream",
     "text": [
      "\n",
      "_________________________________________________________________________________________________________________________\n",
      "\t\t\n",
      "Respuesta del Nucleo Logico->  {'Respuesta': {'content': 'Hola oswaldo', 'next_id': 'Informativo | e61376a2-83b0-4ccd-90b2-0d3b8d9fc04b | 23985004-9470-9169-4961-397901325837 | oIgvWKILDrYMYDjlgAIk', 'blockType': 'informativo', 'contentType': 'text', 'typingTime': '1', 'payload': {'content': '', 'state': 'Informativo | 2edb2c69-beb8-471f-9799-940599824c36 | oIgvWKILDrYMYDjlgAIk', 'recipient_id': '106842278334918', 'entities': {}, 'access_token': 'EAAFMtaIPwugBAIRPT4mTm2a9nei1940NrJqMbhvvyPwfZAUZA6Id2YaXUeSu06TENy0QoDsprATI0J2ZCGHS2X6UQ4TG2AWkIbNQ3LLGdRMORJZBZBT9BhB58QusrYaXG90RiZAog3r9THJCXmX1m7vjArQ3KoX3PrEGYehS4j6TSblsfU73uf'}}}\n",
      "\n",
      "_________________________________________________________________________________________________________________________\n",
      "Mesaje de la API de Facebook-> \n",
      " {'object': 'page', 'entry': [{'id': '106842278334918', 'time': 1625688507434, 'messaging': [{'sender': {'id': '3992952420759571'}, 'recipient': {'id': '106842278334918'}, 'timestamp': 1625688507597, 'read': {'watermark': 1625688507400}}]}]}\n",
      "hilo consume\n",
      " [.] Got %r None\n",
      "\n",
      "\n",
      "---------------------------------------------------------------------------\n",
      "mensaje enviado a la API de facebook:\n",
      " {'message': {'text': 'Hola oswaldo'}, 'recipient': {'id': '106842278334918'}, 'notification_type': 'REGULAR'}\n",
      " [.] Got %r None\n"
     ]
    },
    {
     "name": "stderr",
     "output_type": "stream",
     "text": [
      "127.0.0.1 - - [07/Jul/2021 15:08:26] \"\u001b[37mPOST /apiREST/v1 HTTP/1.1\u001b[0m\" 200 -\n"
     ]
    },
    {
     "name": "stdout",
     "output_type": "stream",
     "text": [
      "\n",
      "_________________________________________________________________________________________________________________________\n",
      "Mesaje de la API de Facebook-> \n",
      " {'object': 'page', 'entry': [{'id': '106842278334918', 'time': 1625688508922, 'messaging': [{'sender': {'id': '3992952420759571'}, 'recipient': {'id': '106842278334918'}, 'timestamp': 1625688509034, 'read': {'watermark': 1625688508538}}]}]}\n",
      "hilo consume\n",
      " [.] Got %r None\n"
     ]
    },
    {
     "name": "stderr",
     "output_type": "stream",
     "text": [
      "127.0.0.1 - - [07/Jul/2021 15:08:26] \"\u001b[37mPOST /apiREST/v1 HTTP/1.1\u001b[0m\" 200 -\n"
     ]
    },
    {
     "name": "stdout",
     "output_type": "stream",
     "text": [
      "\n",
      "_________________________________________________________________________________________________________________________\n",
      "Mesaje de la API de Facebook-> \n",
      " {'object': 'page', 'entry': [{'id': '106842278334918', 'time': 1625688509132, 'messaging': [{'sender': {'id': '3992952420759571'}, 'recipient': {'id': '106842278334918'}, 'timestamp': 1625688508965, 'postback': {'title': 'BTN1P3', 'payload': 'Informativo | c172acd8-1edc-4d5b-ac66-fdf02dfe35ff | oIgvWKILDrYMYDjlgAIk', 'mid': 'm_eolRXgN8j5jjgu1BS6FdC25LdZJwKC-4WNAMDG3FPBDoExLWlaNzGJ_-kZ9ofgzgdBEXAj0u7DprNglOlG_BZw'}}]}]}\n",
      "hilo consume\n",
      "\n",
      "______________________________________________no read__________________________________________________________________________\n",
      "\n",
      "\t\tMensaje enviado al Nucleo Logico->\n",
      "  {\"payload\": {\"robot\": \"none\", \"id_face\": \"106842278334918\", \"recipient_id\": \"3992952420759571\", \"access_token\": \"none\", \"content\": \"Informativo | c172acd8-1edc-4d5b-ac66-fdf02dfe35ff | oIgvWKILDrYMYDjlgAIk\", \"type_resp\": \"postback\", \"state\": \"none\", \"blocktype\": \"none\", \"opciones\": \"none\", \"entities\": {}}}\n",
      "\n",
      "_________________________________________________________________________________________________________________________\n",
      "\t\t\n",
      "Respuesta del Nucleo Logico->  {'Respuesta': {'content': 'Adios Oswa', 'next_id': 'Salida', 'blockType': 'informativo', 'contentType': 'text', 'typingTime': '1', 'payload': {'content': '', 'state': 'Informativo | c172acd8-1edc-4d5b-ac66-fdf02dfe35ff | oIgvWKILDrYMYDjlgAIk', 'recipient_id': '3992952420759571', 'entities': {'variableCarrCarrusel_|_c57beb4f-7c32-42f1-8f3d-ff9a810944fc4264': 'Informativo | c172acd8-1edc-4d5b-ac66-fdf02dfe35ff | oIgvWKILDrYMYDjlgAIk'}, 'access_token': 'EAAFMtaIPwugBAIRPT4mTm2a9nei1940NrJqMbhvvyPwfZAUZA6Id2YaXUeSu06TENy0QoDsprATI0J2ZCGHS2X6UQ4TG2AWkIbNQ3LLGdRMORJZBZBT9BhB58QusrYaXG90RiZAog3r9THJCXmX1m7vjArQ3KoX3PrEGYehS4j6TSblsfU73uf'}}}\n"
     ]
    },
    {
     "name": "stderr",
     "output_type": "stream",
     "text": [
      "127.0.0.1 - - [07/Jul/2021 15:08:27] \"\u001b[37mPOST /apiREST/v1 HTTP/1.1\u001b[0m\" 200 -\n"
     ]
    },
    {
     "name": "stdout",
     "output_type": "stream",
     "text": [
      "\n",
      "\n",
      "---------------------------------------------------------------------------\n",
      "mensaje enviado a la API de facebook:\n",
      " {'message': {'text': 'Adios Oswa'}, 'recipient': {'id': '3992952420759571'}, 'notification_type': 'REGULAR'}\n",
      " [.] Got %r None\n",
      "\n",
      "_________________________________________________________________________________________________________________________\n",
      "Mesaje de la API de Facebook-> \n",
      " {'object': 'page', 'entry': [{'id': '106842278334918', 'time': 1625688510263, 'messaging': [{'sender': {'id': '106842278334918'}, 'recipient': {'id': '3992952420759571'}, 'timestamp': 1625688510204, 'message': {'mid': 'm_ucmyWWBsAjmerobM_XRfI25LdZJwKC-4WNAMDG3FPBC8ZMf3eWQtkRIGF9OaxruvoadB-kqUmODR3KNPoJfR2g', 'is_echo': True, 'text': 'Adios Oswa', 'app_id': 365817968444136}}]}]}\n",
      "[{'sender': {'id': '106842278334918'}, 'recipient': {'id': '3992952420759571'}, 'timestamp': 1625688510204, 'message': {'mid': 'm_ucmyWWBsAjmerobM_XRfI25LdZJwKC-4WNAMDG3FPBC8ZMf3eWQtkRIGF9OaxruvoadB-kqUmODR3KNPoJfR2g', 'is_echo': True, 'text': 'Adios Oswa', 'app_id': 365817968444136}}]\n",
      "hilo consume\n",
      "\n",
      "______________________________________________no read__________________________________________________________________________\n",
      "\n",
      "\t\tMensaje enviado al Nucleo Logico->\n",
      "  {\"payload\": {\"robot\": \"none\", \"id_face\": \"106842278334918\", \"recipient_id\": \"106842278334918\", \"access_token\": \"none\", \"content\": \"Adios Oswa\", \"type_resp\": \"message\", \"state\": \"none\", \"blocktype\": \"none\", \"opciones\": \"none\", \"entities\": {}}}\n"
     ]
    },
    {
     "name": "stderr",
     "output_type": "stream",
     "text": [
      "127.0.0.1 - - [07/Jul/2021 15:08:27] \"\u001b[37mPOST /apiREST/v1 HTTP/1.1\u001b[0m\" 200 -\n"
     ]
    },
    {
     "name": "stdout",
     "output_type": "stream",
     "text": [
      "\n",
      "_________________________________________________________________________________________________________________________\n",
      "Mesaje de la API de Facebook-> \n",
      " {'object': 'page', 'entry': [{'id': '106842278334918', 'time': 1625688510333, 'messaging': [{'sender': {'id': '3992952420759571'}, 'recipient': {'id': '106842278334918'}, 'timestamp': 1625688510376, 'delivery': {'mids': ['m_ucmyWWBsAjmerobM_XRfI25LdZJwKC-4WNAMDG3FPBC8ZMf3eWQtkRIGF9OaxruvoadB-kqUmODR3KNPoJfR2g'], 'watermark': 1625688510204}}]}]}\n",
      "\n",
      "_________________________________________________________________________________________________________________________\n",
      "Mesaje de la API de Facebook-> \n",
      " {'object': 'page', 'entry': [{'id': '106842278334918', 'time': 1625688510398, 'messaging': [{'sender': {'id': '3992952420759571'}, 'recipient': {'id': '106842278334918'}, 'timestamp': 1625688510545, 'read': {'watermark': 1625688510362}}]}]}\n"
     ]
    },
    {
     "name": "stderr",
     "output_type": "stream",
     "text": [
      "127.0.0.1 - - [07/Jul/2021 15:08:27] \"\u001b[37mPOST /apiREST/v1 HTTP/1.1\u001b[0m\" 200 -\n"
     ]
    },
    {
     "name": "stdout",
     "output_type": "stream",
     "text": [
      "hilo consume\n",
      "\n",
      "_________________________________________________________________________________________________________________________\n",
      "\t\t\n",
      "Respuesta del Nucleo Logico->  {'Respuesta': {'content': 'Hola oswaldo', 'next_id': 'Informativo | e61376a2-83b0-4ccd-90b2-0d3b8d9fc04b | 23985004-9470-9169-4961-397901325837 | oIgvWKILDrYMYDjlgAIk', 'blockType': 'informativo', 'contentType': 'text', 'typingTime': '1', 'payload': {'content': '', 'state': 'Informativo | 2edb2c69-beb8-471f-9799-940599824c36 | oIgvWKILDrYMYDjlgAIk', 'recipient_id': '106842278334918', 'entities': {}, 'access_token': 'EAAFMtaIPwugBAIRPT4mTm2a9nei1940NrJqMbhvvyPwfZAUZA6Id2YaXUeSu06TENy0QoDsprATI0J2ZCGHS2X6UQ4TG2AWkIbNQ3LLGdRMORJZBZBT9BhB58QusrYaXG90RiZAog3r9THJCXmX1m7vjArQ3KoX3PrEGYehS4j6TSblsfU73uf'}}}\n",
      "\n",
      "\n",
      "---------------------------------------------------------------------------\n",
      "mensaje enviado a la API de facebook:\n",
      " {'message': {'text': 'Hola oswaldo'}, 'recipient': {'id': '106842278334918'}, 'notification_type': 'REGULAR'}\n",
      " [.] Got %r None\n"
     ]
    },
    {
     "name": "stderr",
     "output_type": "stream",
     "text": [
      "127.0.0.1 - - [07/Jul/2021 15:10:25] \"\u001b[37mPOST /apiREST/v1 HTTP/1.1\u001b[0m\" 200 -\n"
     ]
    },
    {
     "name": "stdout",
     "output_type": "stream",
     "text": [
      "\n",
      "_________________________________________________________________________________________________________________________\n",
      "Mesaje de la API de Facebook-> \n",
      " {'object': 'page', 'entry': [{'id': '106842278334918', 'time': 1625688628743, 'messaging': [{'sender': {'id': '3992952420759571'}, 'recipient': {'id': '106842278334918'}, 'timestamp': 1625688628835, 'read': {'watermark': 1625688628341}}]}]}\n",
      "hilo consume\n",
      " [.] Got %r None\n"
     ]
    },
    {
     "name": "stderr",
     "output_type": "stream",
     "text": [
      "127.0.0.1 - - [07/Jul/2021 15:10:26] \"\u001b[37mPOST /apiREST/v1 HTTP/1.1\u001b[0m\" 200 -\n"
     ]
    },
    {
     "name": "stdout",
     "output_type": "stream",
     "text": [
      "\n",
      "_________________________________________________________________________________________________________________________\n",
      "Mesaje de la API de Facebook-> \n",
      " {'object': 'page', 'entry': [{'id': '106842278334918', 'time': 1625688628969, 'messaging': [{'sender': {'id': '3992952420759571'}, 'recipient': {'id': '106842278334918'}, 'timestamp': 1625688628782, 'message': {'mid': 'm_jyAM3M_5O9oNSOKK4oqscW5LdZJwKC-4WNAMDG3FPBDRGAHnAIo0xSicYV2tsEoztY4jc6wieYOPyMUIR-9Qdw', 'text': 'Hola'}}]}]}\n",
      "[{'sender': {'id': '3992952420759571'}, 'recipient': {'id': '106842278334918'}, 'timestamp': 1625688628782, 'message': {'mid': 'm_jyAM3M_5O9oNSOKK4oqscW5LdZJwKC-4WNAMDG3FPBDRGAHnAIo0xSicYV2tsEoztY4jc6wieYOPyMUIR-9Qdw', 'text': 'Hola'}}]\n",
      "hilo consume\n",
      "\n",
      "______________________________________________no read__________________________________________________________________________\n",
      "\n",
      "\t\tMensaje enviado al Nucleo Logico->\n",
      "  {\"payload\": {\"robot\": \"none\", \"id_face\": \"106842278334918\", \"recipient_id\": \"3992952420759571\", \"access_token\": \"none\", \"content\": \"Hola\", \"type_resp\": \"message\", \"state\": \"none\", \"blocktype\": \"none\", \"opciones\": \"none\", \"entities\": {}}}\n",
      "\n",
      "_________________________________________________________________________________________________________________________\n",
      "\t\t\n",
      "Respuesta del Nucleo Logico->  {'Respuesta': {'content': 'Hola oswaldo', 'next_id': 'Informativo | e61376a2-83b0-4ccd-90b2-0d3b8d9fc04b | 23985004-9470-9169-4961-397901325837 | oIgvWKILDrYMYDjlgAIk', 'blockType': 'informativo', 'contentType': 'text', 'typingTime': '1', 'payload': {'content': '', 'state': 'Informativo | 2edb2c69-beb8-471f-9799-940599824c36 | oIgvWKILDrYMYDjlgAIk', 'recipient_id': '3992952420759571', 'entities': {}, 'access_token': 'EAAFMtaIPwugBAIRPT4mTm2a9nei1940NrJqMbhvvyPwfZAUZA6Id2YaXUeSu06TENy0QoDsprATI0J2ZCGHS2X6UQ4TG2AWkIbNQ3LLGdRMORJZBZBT9BhB58QusrYaXG90RiZAog3r9THJCXmX1m7vjArQ3KoX3PrEGYehS4j6TSblsfU73uf'}}}\n",
      "\n",
      "\n",
      "---------------------------------------------------------------------------\n",
      "mensaje enviado a la API de facebook:\n",
      " {'message': {'text': 'Hola oswaldo'}, 'recipient': {'id': '3992952420759571'}, 'notification_type': 'REGULAR'}\n",
      " [.] Got %r None\n",
      "\n",
      "_________________________________________________________________________________________________________________________\n",
      "Mesaje de la API de Facebook-> \n"
     ]
    },
    {
     "name": "stderr",
     "output_type": "stream",
     "text": [
      "127.0.0.1 - - [07/Jul/2021 15:10:27] \"\u001b[37mPOST /apiREST/v1 HTTP/1.1\u001b[0m\" 200 -\n",
      "127.0.0.1 - - [07/Jul/2021 15:10:27] \"\u001b[37mPOST /apiREST/v1 HTTP/1.1\u001b[0m\" 200 -\n"
     ]
    },
    {
     "name": "stdout",
     "output_type": "stream",
     "text": [
      " {'object': 'page', 'entry': [{'id': '106842278334918', 'time': 1625688630124, 'messaging': [{'sender': {'id': '106842278334918'}, 'recipient': {'id': '3992952420759571'}, 'timestamp': 1625688630043, 'message': {'mid': 'm_ay15PDR-CgTNqLwkmR4yN25LdZJwKC-4WNAMDG3FPBAFBGV7EY0pCmbTsZ3suGgMN26v0Iyw6gZIanna5Qm5eA', 'is_echo': True, 'text': 'Hola oswaldo', 'app_id': 365817968444136}}]}]}\n",
      "[{'sender': {'id': '106842278334918'}, 'recipient': {'id': '3992952420759571'}, 'timestamp': 1625688630043, 'message': {'mid': 'm_ay15PDR-CgTNqLwkmR4yN25LdZJwKC-4WNAMDG3FPBAFBGV7EY0pCmbTsZ3suGgMN26v0Iyw6gZIanna5Qm5eA', 'is_echo': True, 'text': 'Hola oswaldo', 'app_id': 365817968444136}}]\n",
      "hilo consume\n",
      "\n",
      "______________________________________________no read__________________________________________________________________________\n",
      "\n",
      "\t\tMensaje enviado al Nucleo Logico->\n",
      "  {\"payload\": {\"robot\": \"none\", \"id_face\": \"106842278334918\", \"recipient_id\": \"106842278334918\", \"access_token\": \"none\", \"content\": \"Hola oswaldo\", \"type_resp\": \"message\", \"state\": \"none\", \"blocktype\": \"none\", \"opciones\": \"none\", \"entities\": {}}}\n",
      "\n",
      "_________________________________________________________________________________________________________________________\n",
      "Mesaje de la API de Facebook-> \n",
      " {'object': 'page', 'entry': [{'id': '106842278334918', 'time': 1625688630181, 'messaging': [{'sender': {'id': '3992952420759571'}, 'recipient': {'id': '106842278334918'}, 'timestamp': 1625688630227, 'delivery': {'mids': ['m_ay15PDR-CgTNqLwkmR4yN25LdZJwKC-4WNAMDG3FPBAFBGV7EY0pCmbTsZ3suGgMN26v0Iyw6gZIanna5Qm5eA'], 'watermark': 1625688630043}}]}]}\n"
     ]
    },
    {
     "name": "stderr",
     "output_type": "stream",
     "text": [
      "127.0.0.1 - - [07/Jul/2021 15:10:27] \"\u001b[37mPOST /apiREST/v1 HTTP/1.1\u001b[0m\" 200 -\n"
     ]
    },
    {
     "name": "stdout",
     "output_type": "stream",
     "text": [
      "\n",
      "_________________________________________________________________________________________________________________________\n",
      "Mesaje de la API de Facebook-> \n",
      " {'object': 'page', 'entry': [{'id': '106842278334918', 'time': 1625688630233, 'messaging': [{'sender': {'id': '3992952420759571'}, 'recipient': {'id': '106842278334918'}, 'timestamp': 1625688630391, 'read': {'watermark': 1625688630208}}]}]}\n",
      "hilo consume\n",
      "\n",
      "_________________________________________________________________________________________________________________________\n",
      "\t\t\n",
      "Respuesta del Nucleo Logico->  {'Respuesta': {'content': 'Hola oswaldo', 'next_id': 'Informativo | e61376a2-83b0-4ccd-90b2-0d3b8d9fc04b | 23985004-9470-9169-4961-397901325837 | oIgvWKILDrYMYDjlgAIk', 'blockType': 'informativo', 'contentType': 'text', 'typingTime': '1', 'payload': {'content': '', 'state': 'Informativo | 2edb2c69-beb8-471f-9799-940599824c36 | oIgvWKILDrYMYDjlgAIk', 'recipient_id': '106842278334918', 'entities': {}, 'access_token': 'EAAFMtaIPwugBAIRPT4mTm2a9nei1940NrJqMbhvvyPwfZAUZA6Id2YaXUeSu06TENy0QoDsprATI0J2ZCGHS2X6UQ4TG2AWkIbNQ3LLGdRMORJZBZBT9BhB58QusrYaXG90RiZAog3r9THJCXmX1m7vjArQ3KoX3PrEGYehS4j6TSblsfU73uf'}}}\n",
      "\n",
      "\n",
      "---------------------------------------------------------------------------\n",
      "mensaje enviado a la API de facebook:\n",
      " {'message': {'text': 'Hola oswaldo'}, 'recipient': {'id': '106842278334918'}, 'notification_type': 'REGULAR'}\n",
      " [.] Got %r None\n",
      "\n",
      "_________________________________________________________________________________________________________________________\n",
      "\t\t\n",
      "Respuesta del Nucleo Logico->  {'Respuesta': {'content': 'Este es un compuesto', 'next_id': 'Carrusel | 16ad30d3-2b1e-433d-9f31-58de69dacffe | 23985004-9470-9169-4961-397901325837 | oIgvWKILDrYMYDjlgAIk', 'blockType': 'informativo', 'contentType': 'text', 'typingTime': '1', 'payload': {'content': '', 'state': 'Informativo | e61376a2-83b0-4ccd-90b2-0d3b8d9fc04b | 23985004-9470-9169-4961-397901325837 | oIgvWKILDrYMYDjlgAIk', 'recipient_id': '3992952420759571', 'entities': {}, 'access_token': 'EAAFMtaIPwugBAIRPT4mTm2a9nei1940NrJqMbhvvyPwfZAUZA6Id2YaXUeSu06TENy0QoDsprATI0J2ZCGHS2X6UQ4TG2AWkIbNQ3LLGdRMORJZBZBT9BhB58QusrYaXG90RiZAog3r9THJCXmX1m7vjArQ3KoX3PrEGYehS4j6TSblsfU73uf'}}}\n"
     ]
    },
    {
     "name": "stderr",
     "output_type": "stream",
     "text": [
      "127.0.0.1 - - [07/Jul/2021 15:10:28] \"\u001b[37mPOST /apiREST/v1 HTTP/1.1\u001b[0m\" 200 -\n"
     ]
    },
    {
     "name": "stdout",
     "output_type": "stream",
     "text": [
      "\n",
      "\n",
      "---------------------------------------------------------------------------\n",
      "mensaje enviado a la API de facebook:\n",
      " {'message': {'text': 'Este es un compuesto'}, 'recipient': {'id': '3992952420759571'}, 'notification_type': 'REGULAR'}\n",
      " [.] Got %r None\n",
      "\n",
      "_________________________________________________________________________________________________________________________\n",
      "Mesaje de la API de Facebook-> \n",
      " {'object': 'page', 'entry': [{'id': '106842278334918', 'time': 1625688631466, 'messaging': [{'sender': {'id': '106842278334918'}, 'recipient': {'id': '3992952420759571'}, 'timestamp': 1625688631420, 'message': {'mid': 'm_s6DHe2cHn-W-2uDyfnQ6Gm5LdZJwKC-4WNAMDG3FPBBWDCBks3lRo-TLcNCbOeawnm2VOo1ka38uX24XxR5gtg', 'is_echo': True, 'text': 'Este es un compuesto', 'app_id': 365817968444136}}]}]}\n",
      "[{'sender': {'id': '106842278334918'}, 'recipient': {'id': '3992952420759571'}, 'timestamp': 1625688631420, 'message': {'mid': 'm_s6DHe2cHn-W-2uDyfnQ6Gm5LdZJwKC-4WNAMDG3FPBBWDCBks3lRo-TLcNCbOeawnm2VOo1ka38uX24XxR5gtg', 'is_echo': True, 'text': 'Este es un compuesto', 'app_id': 365817968444136}}]\n",
      "hilo consume\n",
      "\n",
      "______________________________________________no read__________________________________________________________________________\n",
      "\n",
      "\t\tMensaje enviado al Nucleo Logico->\n",
      "  {\"payload\": {\"robot\": \"none\", \"id_face\": \"106842278334918\", \"recipient_id\": \"106842278334918\", \"access_token\": \"none\", \"content\": \"Este es un compuesto\", \"type_resp\": \"message\", \"state\": \"none\", \"blocktype\": \"none\", \"opciones\": \"none\", \"entities\": {}}}\n"
     ]
    },
    {
     "name": "stderr",
     "output_type": "stream",
     "text": [
      "127.0.0.1 - - [07/Jul/2021 15:10:28] \"\u001b[37mPOST /apiREST/v1 HTTP/1.1\u001b[0m\" 200 -\n"
     ]
    },
    {
     "name": "stdout",
     "output_type": "stream",
     "text": [
      "\n",
      "_________________________________________________________________________________________________________________________\n",
      "Mesaje de la API de Facebook-> \n",
      " {'object': 'page', 'entry': [{'id': '106842278334918', 'time': 1625688631565, 'messaging': [{'sender': {'id': '3992952420759571'}, 'recipient': {'id': '106842278334918'}, 'timestamp': 1625688631610, 'delivery': {'mids': ['m_s6DHe2cHn-W-2uDyfnQ6Gm5LdZJwKC-4WNAMDG3FPBBWDCBks3lRo-TLcNCbOeawnm2VOo1ka38uX24XxR5gtg'], 'watermark': 1625688631420}}]}]}\n",
      "\n",
      "_________________________________________________________________________________________________________________________\n",
      "Mesaje de la API de Facebook-> \n",
      " {'object': 'page', 'entry': [{'id': '106842278334918', 'time': 1625688631629, 'messaging': [{'sender': {'id': '3992952420759571'}, 'recipient': {'id': '106842278334918'}, 'timestamp': 1625688631770, 'read': {'watermark': 1625688631600}}]}]}\n"
     ]
    },
    {
     "name": "stderr",
     "output_type": "stream",
     "text": [
      "127.0.0.1 - - [07/Jul/2021 15:10:28] \"\u001b[37mPOST /apiREST/v1 HTTP/1.1\u001b[0m\" 200 -\n"
     ]
    },
    {
     "name": "stdout",
     "output_type": "stream",
     "text": [
      "\n",
      "_________________________________________________________________________________________________________________________\n",
      "\t\t\n",
      "Respuesta del Nucleo Logico->  {'Respuesta': {'content': 'Hola oswaldo', 'next_id': 'Informativo | e61376a2-83b0-4ccd-90b2-0d3b8d9fc04b | 23985004-9470-9169-4961-397901325837 | oIgvWKILDrYMYDjlgAIk', 'blockType': 'informativo', 'contentType': 'text', 'typingTime': '1', 'payload': {'content': '', 'state': 'Informativo | 2edb2c69-beb8-471f-9799-940599824c36 | oIgvWKILDrYMYDjlgAIk', 'recipient_id': '106842278334918', 'entities': {}, 'access_token': 'EAAFMtaIPwugBAIRPT4mTm2a9nei1940NrJqMbhvvyPwfZAUZA6Id2YaXUeSu06TENy0QoDsprATI0J2ZCGHS2X6UQ4TG2AWkIbNQ3LLGdRMORJZBZBT9BhB58QusrYaXG90RiZAog3r9THJCXmX1m7vjArQ3KoX3PrEGYehS4j6TSblsfU73uf'}}}\n",
      "hilo consume\n",
      "\n",
      "\n",
      "---------------------------------------------------------------------------\n",
      "mensaje enviado a la API de facebook:\n",
      " {'message': {'text': 'Hola oswaldo'}, 'recipient': {'id': '106842278334918'}, 'notification_type': 'REGULAR'}\n",
      " [.] Got %r None\n",
      "\n",
      "_________________________________________________________________________________________________________________________\n",
      "\t\t\n",
      "Respuesta del Nucleo Logico->  {'Respuesta': {'content': [{'title': 'P1', 'image_url': 'https://spaceplace.nasa.gov/gallery-sun/en/solar-flare.en.jpg', 'subtitle': 'S1', 'buttons': [{'titleButton': 'www.youtube.com', 'typeButton': 'web_url', 'urlButton': 'www.youtube.com'}, {'titleButton': 'Op', 'typeButton': 'postback', 'payloadButton': 'Informativo | c172acd8-1edc-4d5b-ac66-fdf02dfe35ff | oIgvWKILDrYMYDjlgAIk'}]}], 'next_id': ['www.youtube.com', 'Informativo | c172acd8-1edc-4d5b-ac66-fdf02dfe35ff | oIgvWKILDrYMYDjlgAIk'], 'blockType': 'slide', 'contentType': ' ', 'typingTime': 1, 'payload': {'content': '', 'state': 'Carrusel | 16ad30d3-2b1e-433d-9f31-58de69dacffe | 23985004-9470-9169-4961-397901325837 | oIgvWKILDrYMYDjlgAIk', 'recipient_id': '3992952420759571', 'entities': {}, 'access_token': 'EAAFMtaIPwugBAIRPT4mTm2a9nei1940NrJqMbhvvyPwfZAUZA6Id2YaXUeSu06TENy0QoDsprATI0J2ZCGHS2X6UQ4TG2AWkIbNQ3LLGdRMORJZBZBT9BhB58QusrYaXG90RiZAog3r9THJCXmX1m7vjArQ3KoX3PrEGYehS4j6TSblsfU73uf'}, 'default_id': 'Carrusel | 16ad30d3-2b1e-433d-9f31-58de69dacffe | 23985004-9470-9169-4961-397901325837 | oIgvWKILDrYMYDjlgAIk', 'save_var': '0'}}\n",
      "pyload slide:  {'recipient': {'id': '3992952420759571'}, 'message': {'attachment': {'type': 'template', 'payload': {'template_type': 'generic', 'elements': [{'title': 'P1', 'image_url': 'https://spaceplace.nasa.gov/gallery-sun/en/solar-flare.en.jpg', 'subtitle': 'S1', 'buttons': [{'title': 'www.youtube.com', 'type': 'web_url', 'url': 'www.youtube.com'}, {'title': 'Op', 'type': 'postback', 'payload': 'Informativo | c172acd8-1edc-4d5b-ac66-fdf02dfe35ff | oIgvWKILDrYMYDjlgAIk'}]}]}}}, 'notification_type': 'REGULAR'}\n",
      "\n",
      "\n",
      "---------------------------------------------------------------------------\n",
      "mensaje enviado a la API de facebook:\n",
      " {'recipient': {'id': '3992952420759571'}, 'message': {'attachment': {'type': 'template', 'payload': {'template_type': 'generic', 'elements': [{'title': 'P1', 'image_url': 'https://spaceplace.nasa.gov/gallery-sun/en/solar-flare.en.jpg', 'subtitle': 'S1', 'buttons': [{'title': 'www.youtube.com', 'type': 'web_url', 'url': 'www.youtube.com'}, {'title': 'Op', 'type': 'postback', 'payload': 'Informativo | c172acd8-1edc-4d5b-ac66-fdf02dfe35ff | oIgvWKILDrYMYDjlgAIk'}]}]}}}, 'notification_type': 'REGULAR'}\n",
      " [.] Got %r None\n",
      "\n",
      "_________________________________________________________________________________________________________________________\n",
      "Mesaje de la API de Facebook-> \n",
      " {'object': 'page', 'entry': [{'id': '106842278334918', 'time': 1625688633158, 'messaging': [{'sender': {'id': '106842278334918'}, 'recipient': {'id': '3992952420759571'}, 'timestamp': 1625688633100, 'message': {'mid': 'm_0EUNu-KbivvHkcON3i-YiG5LdZJwKC-4WNAMDG3FPBASzHZZDxXCyYMhMp3X_77TAq7tA83yb_OudCyWWEEDhA', 'is_echo': True, 'app_id': 365817968444136, 'attachments': [{'title': 'P1', 'url': None, 'type': 'template', 'payload': {'template_type': 'generic', 'sharable': False, 'elements': [{'title': 'P1', 'image_url': 'https://spaceplace.nasa.gov/gallery-sun/en/solar-flare.en.jpg', 'subtitle': 'S1', 'buttons': [{'type': 'web_url', 'url': 'http://www.youtube.com/', 'title': 'www.youtube.com'}, {'type': 'postback', 'title': 'Op', 'payload': 'Informativo | c172acd8-1edc-4d5b-ac66-fdf02dfe35ff | oIgvWKILDrYMYDjlgAIk'}]}]}}]}}]}]}\n"
     ]
    },
    {
     "name": "stderr",
     "output_type": "stream",
     "text": [
      "127.0.0.1 - - [07/Jul/2021 15:10:30] \"\u001b[37mPOST /apiREST/v1 HTTP/1.1\u001b[0m\" 200 -\n",
      "127.0.0.1 - - [07/Jul/2021 15:10:30] \"\u001b[37mPOST /apiREST/v1 HTTP/1.1\u001b[0m\" 200 -\n"
     ]
    },
    {
     "name": "stdout",
     "output_type": "stream",
     "text": [
      "[{'sender': {'id': '106842278334918'}, 'recipient': {'id': '3992952420759571'}, 'timestamp': 1625688633100, 'message': {'mid': 'm_0EUNu-KbivvHkcON3i-YiG5LdZJwKC-4WNAMDG3FPBASzHZZDxXCyYMhMp3X_77TAq7tA83yb_OudCyWWEEDhA', 'is_echo': True, 'app_id': 365817968444136, 'attachments': [{'title': 'P1', 'url': None, 'type': 'template', 'payload': {'template_type': 'generic', 'sharable': False, 'elements': [{'title': 'P1', 'image_url': 'https://spaceplace.nasa.gov/gallery-sun/en/solar-flare.en.jpg', 'subtitle': 'S1', 'buttons': [{'type': 'web_url', 'url': 'http://www.youtube.com/', 'title': 'www.youtube.com'}, {'type': 'postback', 'title': 'Op', 'payload': 'Informativo | c172acd8-1edc-4d5b-ac66-fdf02dfe35ff | oIgvWKILDrYMYDjlgAIk'}]}]}}]}}]\n",
      "hilo consume\n",
      "\n",
      "______________________________________________no read__________________________________________________________________________\n",
      "\n",
      "\t\tMensaje enviado al Nucleo Logico->\n",
      "  {\"payload\": {\"robot\": \"none\", \"id_face\": \"106842278334918\", \"recipient_id\": \"106842278334918\", \"access_token\": \"none\", \"content\": [{\"title\": \"P1\", \"url\": null, \"type\": \"template\", \"payload\": {\"template_type\": \"generic\", \"sharable\": false, \"elements\": [{\"title\": \"P1\", \"image_url\": \"https://spaceplace.nasa.gov/gallery-sun/en/solar-flare.en.jpg\", \"subtitle\": \"S1\", \"buttons\": [{\"type\": \"web_url\", \"url\": \"http://www.youtube.com/\", \"title\": \"www.youtube.com\"}, {\"type\": \"postback\", \"title\": \"Op\", \"payload\": \"Informativo | c172acd8-1edc-4d5b-ac66-fdf02dfe35ff | oIgvWKILDrYMYDjlgAIk\"}]}]}}], \"type_resp\": \"message\", \"state\": \"none\", \"blocktype\": \"none\", \"opciones\": \"none\", \"entities\": {}}}\n",
      "\n",
      "_________________________________________________________________________________________________________________________\n",
      "Mesaje de la API de Facebook-> \n",
      " {'object': 'page', 'entry': [{'id': '106842278334918', 'time': 1625688633266, 'messaging': [{'sender': {'id': '3992952420759571'}, 'recipient': {'id': '106842278334918'}, 'timestamp': 1625688633309, 'delivery': {'mids': ['m_0EUNu-KbivvHkcON3i-YiG5LdZJwKC-4WNAMDG3FPBASzHZZDxXCyYMhMp3X_77TAq7tA83yb_OudCyWWEEDhA'], 'watermark': 1625688633100}}]}]}\n"
     ]
    },
    {
     "name": "stderr",
     "output_type": "stream",
     "text": [
      "127.0.0.1 - - [07/Jul/2021 15:10:30] \"\u001b[37mPOST /apiREST/v1 HTTP/1.1\u001b[0m\" 200 -\n"
     ]
    },
    {
     "name": "stdout",
     "output_type": "stream",
     "text": [
      "\n",
      "_________________________________________________________________________________________________________________________\n",
      "Mesaje de la API de Facebook-> \n",
      " {'object': 'page', 'entry': [{'id': '106842278334918', 'time': 1625688633391, 'messaging': [{'sender': {'id': '3992952420759571'}, 'recipient': {'id': '106842278334918'}, 'timestamp': 1625688633530, 'read': {'watermark': 1625688633366}}]}]}\n",
      "hilo consume\n",
      "\n",
      "_________________________________________________________________________________________________________________________\n",
      "\t\t\n",
      "Respuesta del Nucleo Logico->  {'Respuesta': {'content': 'Hola oswaldo', 'next_id': 'Informativo | e61376a2-83b0-4ccd-90b2-0d3b8d9fc04b | 23985004-9470-9169-4961-397901325837 | oIgvWKILDrYMYDjlgAIk', 'blockType': 'informativo', 'contentType': 'text', 'typingTime': '1', 'payload': {'content': '', 'state': 'Informativo | 2edb2c69-beb8-471f-9799-940599824c36 | oIgvWKILDrYMYDjlgAIk', 'recipient_id': '106842278334918', 'entities': {}, 'access_token': 'EAAFMtaIPwugBAIRPT4mTm2a9nei1940NrJqMbhvvyPwfZAUZA6Id2YaXUeSu06TENy0QoDsprATI0J2ZCGHS2X6UQ4TG2AWkIbNQ3LLGdRMORJZBZBT9BhB58QusrYaXG90RiZAog3r9THJCXmX1m7vjArQ3KoX3PrEGYehS4j6TSblsfU73uf'}}}\n",
      " [.] Got %r None\n",
      "\n",
      "\n",
      "---------------------------------------------------------------------------\n",
      "mensaje enviado a la API de facebook:\n",
      " {'message': {'text': 'Hola oswaldo'}, 'recipient': {'id': '106842278334918'}, 'notification_type': 'REGULAR'}\n",
      " [.] Got %r None\n"
     ]
    },
    {
     "name": "stderr",
     "output_type": "stream",
     "text": [
      "127.0.0.1 - - [07/Jul/2021 15:10:36] \"\u001b[37mPOST /apiREST/v1 HTTP/1.1\u001b[0m\" 200 -\n"
     ]
    },
    {
     "name": "stdout",
     "output_type": "stream",
     "text": [
      "\n",
      "_________________________________________________________________________________________________________________________\n",
      "Mesaje de la API de Facebook-> \n",
      " {'object': 'page', 'entry': [{'id': '106842278334918', 'time': 1625688639760, 'messaging': [{'sender': {'id': '3992952420759571'}, 'recipient': {'id': '106842278334918'}, 'timestamp': 1625688639857, 'read': {'watermark': 1625688639376}}]}]}\n",
      "hilo consume\n",
      " [.] Got %r None\n"
     ]
    },
    {
     "name": "stderr",
     "output_type": "stream",
     "text": [
      "127.0.0.1 - - [07/Jul/2021 15:10:37] \"\u001b[37mPOST /apiREST/v1 HTTP/1.1\u001b[0m\" 200 -\n"
     ]
    },
    {
     "name": "stdout",
     "output_type": "stream",
     "text": [
      "\n",
      "_________________________________________________________________________________________________________________________\n",
      "Mesaje de la API de Facebook-> \n",
      " {'object': 'page', 'entry': [{'id': '106842278334918', 'time': 1625688639945, 'messaging': [{'sender': {'id': '3992952420759571'}, 'recipient': {'id': '106842278334918'}, 'timestamp': 1625688639796, 'postback': {'title': 'Op', 'payload': 'Informativo | c172acd8-1edc-4d5b-ac66-fdf02dfe35ff | oIgvWKILDrYMYDjlgAIk', 'mid': 'm_bIenRiQhqV9c3XGIjxM3sW5LdZJwKC-4WNAMDG3FPBApVyV1D4t4XnY1kkAJfB67zfVuMYJv2XoGp8XpFpPLBQ'}}]}]}\n",
      "hilo consume\n",
      "\n",
      "______________________________________________no read__________________________________________________________________________\n",
      "\n",
      "\t\tMensaje enviado al Nucleo Logico->\n",
      "  {\"payload\": {\"robot\": \"none\", \"id_face\": \"106842278334918\", \"recipient_id\": \"3992952420759571\", \"access_token\": \"none\", \"content\": \"Informativo | c172acd8-1edc-4d5b-ac66-fdf02dfe35ff | oIgvWKILDrYMYDjlgAIk\", \"type_resp\": \"postback\", \"state\": \"none\", \"blocktype\": \"none\", \"opciones\": \"none\", \"entities\": {}}}\n",
      "\n",
      "_________________________________________________________________________________________________________________________\n",
      "\t\t\n",
      "Respuesta del Nucleo Logico->  {'Respuesta': {'content': 'Adios Oswa', 'next_id': 'Salida', 'blockType': 'informativo', 'contentType': 'text', 'typingTime': '1', 'payload': {'content': '', 'state': 'Informativo | c172acd8-1edc-4d5b-ac66-fdf02dfe35ff | oIgvWKILDrYMYDjlgAIk', 'recipient_id': '3992952420759571', 'entities': {'variableCarrCarrusel_|_16ad30d3-2b1e-433d-9f31-58de69dacffe9949': 'Informativo | c172acd8-1edc-4d5b-ac66-fdf02dfe35ff | oIgvWKILDrYMYDjlgAIk'}, 'access_token': 'EAAFMtaIPwugBAIRPT4mTm2a9nei1940NrJqMbhvvyPwfZAUZA6Id2YaXUeSu06TENy0QoDsprATI0J2ZCGHS2X6UQ4TG2AWkIbNQ3LLGdRMORJZBZBT9BhB58QusrYaXG90RiZAog3r9THJCXmX1m7vjArQ3KoX3PrEGYehS4j6TSblsfU73uf'}}}\n",
      "\n",
      "\n",
      "---------------------------------------------------------------------------\n",
      "mensaje enviado a la API de facebook:\n",
      " {'message': {'text': 'Adios Oswa'}, 'recipient': {'id': '3992952420759571'}, 'notification_type': 'REGULAR'}\n",
      " [.] Got %r None\n",
      "\n",
      "_________________________________________________________________________________________________________________________\n",
      "Mesaje de la API de Facebook-> \n",
      " {'object': 'page', 'entry': [{'id': '106842278334918', 'time': 1625688641531, 'messaging': [{'sender': {'id': '106842278334918'}, 'recipient': {'id': '3992952420759571'}, 'timestamp': 1625688641473, 'message': {'mid': 'm_w2KS4P3bDGTP-lnTyCIZK25LdZJwKC-4WNAMDG3FPBCWEfzqFEjr-y00fvQkhVxYXoN60zqYq6U6sLp4qvPkLg', 'is_echo': True, 'text': 'Adios Oswa', 'app_id': 365817968444136}}]}]}\n",
      "[{'sender': {'id': '106842278334918'}, 'recipient': {'id': '3992952420759571'}, 'timestamp': 1625688641473, 'message': {'mid': 'm_w2KS4P3bDGTP-lnTyCIZK25LdZJwKC-4WNAMDG3FPBCWEfzqFEjr-y00fvQkhVxYXoN60zqYq6U6sLp4qvPkLg', 'is_echo': True, 'text': 'Adios Oswa', 'app_id': 365817968444136}}]\n",
      "hilo consume\n",
      "\n",
      "______________________________________________no read__________________________________________________________________________\n",
      "\n"
     ]
    },
    {
     "name": "stderr",
     "output_type": "stream",
     "text": [
      "127.0.0.1 - - [07/Jul/2021 15:10:38] \"\u001b[37mPOST /apiREST/v1 HTTP/1.1\u001b[0m\" 200 -\n",
      "127.0.0.1 - - [07/Jul/2021 15:10:38] \"\u001b[37mPOST /apiREST/v1 HTTP/1.1\u001b[0m\" 200 -\n"
     ]
    },
    {
     "name": "stdout",
     "output_type": "stream",
     "text": [
      "\t\tMensaje enviado al Nucleo Logico->\n",
      "  {\"payload\": {\"robot\": \"none\", \"id_face\": \"106842278334918\", \"recipient_id\": \"106842278334918\", \"access_token\": \"none\", \"content\": \"Adios Oswa\", \"type_resp\": \"message\", \"state\": \"none\", \"blocktype\": \"none\", \"opciones\": \"none\", \"entities\": {}}}\n",
      "\n",
      "_________________________________________________________________________________________________________________________\n",
      "Mesaje de la API de Facebook-> \n",
      " {'object': 'page', 'entry': [{'id': '106842278334918', 'time': 1625688641615, 'messaging': [{'sender': {'id': '3992952420759571'}, 'recipient': {'id': '106842278334918'}, 'timestamp': 1625688641654, 'delivery': {'mids': ['m_w2KS4P3bDGTP-lnTyCIZK25LdZJwKC-4WNAMDG3FPBCWEfzqFEjr-y00fvQkhVxYXoN60zqYq6U6sLp4qvPkLg'], 'watermark': 1625688641473}}]}]}\n"
     ]
    },
    {
     "name": "stderr",
     "output_type": "stream",
     "text": [
      "127.0.0.1 - - [07/Jul/2021 15:10:39] \"\u001b[37mPOST /apiREST/v1 HTTP/1.1\u001b[0m\" 200 -\n"
     ]
    },
    {
     "name": "stdout",
     "output_type": "stream",
     "text": [
      "\n",
      "_________________________________________________________________________________________________________________________\n",
      "\t\t\n",
      "Respuesta del Nucleo Logico->  {'Respuesta': {'content': 'Hola oswaldo', 'next_id': 'Informativo | e61376a2-83b0-4ccd-90b2-0d3b8d9fc04b | 23985004-9470-9169-4961-397901325837 | oIgvWKILDrYMYDjlgAIk', 'blockType': 'informativo', 'contentType': 'text', 'typingTime': '1', 'payload': {'content': '', 'state': 'Informativo | 2edb2c69-beb8-471f-9799-940599824c36 | oIgvWKILDrYMYDjlgAIk', 'recipient_id': '106842278334918', 'entities': {}, 'access_token': 'EAAFMtaIPwugBAIRPT4mTm2a9nei1940NrJqMbhvvyPwfZAUZA6Id2YaXUeSu06TENy0QoDsprATI0J2ZCGHS2X6UQ4TG2AWkIbNQ3LLGdRMORJZBZBT9BhB58QusrYaXG90RiZAog3r9THJCXmX1m7vjArQ3KoX3PrEGYehS4j6TSblsfU73uf'}}}\n",
      "\n",
      "_________________________________________________________________________________________________________________________\n",
      "Mesaje de la API de Facebook-> \n",
      " {'object': 'page', 'entry': [{'id': '106842278334918', 'time': 1625688641666, 'messaging': [{'sender': {'id': '3992952420759571'}, 'recipient': {'id': '106842278334918'}, 'timestamp': 1625688641865, 'read': {'watermark': 1625688641634}}]}]}\n",
      "hilo consume\n",
      "\n",
      "\n",
      "---------------------------------------------------------------------------\n",
      "mensaje enviado a la API de facebook:\n",
      " {'message': {'text': 'Hola oswaldo'}, 'recipient': {'id': '106842278334918'}, 'notification_type': 'REGULAR'}\n",
      " [.] Got %r None\n"
     ]
    },
    {
     "name": "stderr",
     "output_type": "stream",
     "text": [
      "127.0.0.1 - - [07/Jul/2021 15:12:34] \"\u001b[37mPOST /apiREST/v1 HTTP/1.1\u001b[0m\" 200 -\n"
     ]
    },
    {
     "name": "stdout",
     "output_type": "stream",
     "text": [
      "\n",
      "_________________________________________________________________________________________________________________________\n",
      "Mesaje de la API de Facebook-> \n",
      " {'object': 'page', 'entry': [{'id': '109253348089942', 'time': 1625688756960, 'messaging': [{'sender': {'id': '4418021788217066'}, 'recipient': {'id': '109253348089942'}, 'timestamp': 1625688756256, 'message': {'mid': 'm_xOaZgagdlfacQZnDkesyZR2FPwH8Pwqo_sZ9EWc0HznRMvIUmovxcJk-D9Z4p7nSMcU6tzpxvHnBvIFCBL0ZiA', 'text': 'Hola'}}]}]}\n",
      "[{'sender': {'id': '4418021788217066'}, 'recipient': {'id': '109253348089942'}, 'timestamp': 1625688756256, 'message': {'mid': 'm_xOaZgagdlfacQZnDkesyZR2FPwH8Pwqo_sZ9EWc0HznRMvIUmovxcJk-D9Z4p7nSMcU6tzpxvHnBvIFCBL0ZiA', 'text': 'Hola'}}]\n",
      "hilo consume\n",
      "\n",
      "______________________________________________no read__________________________________________________________________________\n",
      "\n",
      "\t\tMensaje enviado al Nucleo Logico->\n",
      "  {\"payload\": {\"robot\": \"none\", \"id_face\": \"109253348089942\", \"recipient_id\": \"4418021788217066\", \"access_token\": \"none\", \"content\": \"Hola\", \"type_resp\": \"message\", \"state\": \"none\", \"blocktype\": \"none\", \"opciones\": \"none\", \"entities\": {}}}\n",
      "\n",
      "_________________________________________________________________________________________________________________________\n",
      "\t\t\n",
      "Respuesta del Nucleo Logico->  {'Respuesta': {'content': 'Hola soy bot2', 'next_id': 'Informativo | e61376a2-83b0-4ccd-90b2-0d3b8d9fc04b | 46973551-1467-4450-7433-103925931451 | XTHyJxz6aPUIFVONQdUE', 'blockType': 'informativo', 'contentType': 'text', 'typingTime': '1', 'payload': {'content': '', 'state': 'Informativo | d602e284-c054-4f7f-90b0-3d079f8908e4 | XTHyJxz6aPUIFVONQdUE', 'recipient_id': '4418021788217066', 'entities': {}, 'access_token': 'EAAFMtaIPwugBABaSyaEaQxCjZB05xZAs5fag2JZCZB9LcVSFPJtAjcu48PewIfljpztLDiWZCZAINUghHfyn85rSKQxPnfZAMZA3DScogyb4Q1cg91NEiEgVLhlsHJXakq9diPLuJtiRqZC8kCp4MfZCllTvoPR0Jad4B0r0JWp8foAffcrjKebrSp'}}}\n",
      "\n",
      "\n",
      "---------------------------------------------------------------------------\n",
      "mensaje enviado a la API de facebook:\n",
      " {'message': {'text': 'Hola soy bot2'}, 'recipient': {'id': '4418021788217066'}, 'notification_type': 'REGULAR'}\n",
      " [.] Got %r None\n"
     ]
    },
    {
     "name": "stderr",
     "output_type": "stream",
     "text": [
      "127.0.0.1 - - [07/Jul/2021 15:12:36] \"\u001b[37mPOST /apiREST/v1 HTTP/1.1\u001b[0m\" 200 -\n",
      "127.0.0.1 - - [07/Jul/2021 15:12:36] \"\u001b[37mPOST /apiREST/v1 HTTP/1.1\u001b[0m\" 200 -\n"
     ]
    },
    {
     "name": "stdout",
     "output_type": "stream",
     "text": [
      "\n",
      "_________________________________________________________________________________________________________________________\n",
      "Mesaje de la API de Facebook-> \n",
      " {'object': 'page', 'entry': [{'id': '109253348089942', 'time': 1625688759317, 'messaging': [{'sender': {'id': '109253348089942'}, 'recipient': {'id': '4418021788217066'}, 'timestamp': 1625688759277, 'message': {'mid': 'm_rmg0KRlDxkc3neY0jc6K-h2FPwH8Pwqo_sZ9EWc0Hzk8y3kjpGoCd9_nBUu6vEfgJJwvJdaNdNq8Ss6yaEAK2A', 'is_echo': True, 'text': 'Hola soy bot2', 'app_id': 365817968444136}}]}]}\n",
      "[{'sender': {'id': '109253348089942'}, 'recipient': {'id': '4418021788217066'}, 'timestamp': 1625688759277, 'message': {'mid': 'm_rmg0KRlDxkc3neY0jc6K-h2FPwH8Pwqo_sZ9EWc0Hzk8y3kjpGoCd9_nBUu6vEfgJJwvJdaNdNq8Ss6yaEAK2A', 'is_echo': True, 'text': 'Hola soy bot2', 'app_id': 365817968444136}}]\n",
      "\n",
      "_________________________________________________________________________________________________________________________\n",
      "Mesaje de la API de Facebook-> \n",
      " {'object': 'page', 'entry': [{'id': '109253348089942', 'time': 1625688759454, 'messaging': [{'sender': {'id': '4418021788217066'}, 'recipient': {'id': '109253348089942'}, 'timestamp': 1625688759495, 'delivery': {'mids': ['m_rmg0KRlDxkc3neY0jc6K-h2FPwH8Pwqo_sZ9EWc0Hzk8y3kjpGoCd9_nBUu6vEfgJJwvJdaNdNq8Ss6yaEAK2A'], 'watermark': 1625688759277}}]}]}\n",
      "hilo consume\n",
      "\n",
      "______________________________________________no read__________________________________________________________________________\n",
      "\n",
      "\t\tMensaje enviado al Nucleo Logico->\n",
      "  {\"payload\": {\"robot\": \"none\", \"id_face\": \"109253348089942\", \"recipient_id\": \"109253348089942\", \"access_token\": \"none\", \"content\": \"Hola soy bot2\", \"type_resp\": \"message\", \"state\": \"none\", \"blocktype\": \"none\", \"opciones\": \"none\", \"entities\": {}}}\n",
      "\n",
      "_________________________________________________________________________________________________________________________\n"
     ]
    },
    {
     "name": "stderr",
     "output_type": "stream",
     "text": [
      "127.0.0.1 - - [07/Jul/2021 15:12:36] \"\u001b[37mPOST /apiREST/v1 HTTP/1.1\u001b[0m\" 200 -\n"
     ]
    },
    {
     "name": "stdout",
     "output_type": "stream",
     "text": [
      "Mesaje de la API de Facebook-> \n",
      " {'object': 'page', 'entry': [{'id': '109253348089942', 'time': 1625688759500, 'messaging': [{'sender': {'id': '4418021788217066'}, 'recipient': {'id': '109253348089942'}, 'timestamp': 1625688759639, 'read': {'watermark': 1625688759472}}]}]}\n",
      "hilo consume\n",
      "\n",
      "_________________________________________________________________________________________________________________________\n",
      "\t\t\n",
      "Respuesta del Nucleo Logico->  {'Respuesta': {'content': 'Hola soy bot2', 'next_id': 'Informativo | e61376a2-83b0-4ccd-90b2-0d3b8d9fc04b | 46973551-1467-4450-7433-103925931451 | XTHyJxz6aPUIFVONQdUE', 'blockType': 'informativo', 'contentType': 'text', 'typingTime': '1', 'payload': {'content': '', 'state': 'Informativo | d602e284-c054-4f7f-90b0-3d079f8908e4 | XTHyJxz6aPUIFVONQdUE', 'recipient_id': '109253348089942', 'entities': {}, 'access_token': 'EAAFMtaIPwugBABaSyaEaQxCjZB05xZAs5fag2JZCZB9LcVSFPJtAjcu48PewIfljpztLDiWZCZAINUghHfyn85rSKQxPnfZAMZA3DScogyb4Q1cg91NEiEgVLhlsHJXakq9diPLuJtiRqZC8kCp4MfZCllTvoPR0Jad4B0r0JWp8foAffcrjKebrSp'}}}\n",
      "\n",
      "\n",
      "---------------------------------------------------------------------------\n",
      "mensaje enviado a la API de facebook:\n",
      " {'message': {'text': 'Hola soy bot2'}, 'recipient': {'id': '109253348089942'}, 'notification_type': 'REGULAR'}\n",
      " [.] Got %r None\n",
      "\n",
      "_________________________________________________________________________________________________________________________\n",
      "\t\t\n",
      "Respuesta del Nucleo Logico->  {'Respuesta': {'content': 'Este es un compuesto', 'next_id': 'Carrusel | 16ad30d3-2b1e-433d-9f31-58de69dacffe | 46973551-1467-4450-7433-103925931451 | XTHyJxz6aPUIFVONQdUE', 'blockType': 'informativo', 'contentType': 'text', 'typingTime': '1', 'payload': {'content': '', 'state': 'Informativo | e61376a2-83b0-4ccd-90b2-0d3b8d9fc04b | 46973551-1467-4450-7433-103925931451 | XTHyJxz6aPUIFVONQdUE', 'recipient_id': '4418021788217066', 'entities': {}, 'access_token': 'EAAFMtaIPwugBABaSyaEaQxCjZB05xZAs5fag2JZCZB9LcVSFPJtAjcu48PewIfljpztLDiWZCZAINUghHfyn85rSKQxPnfZAMZA3DScogyb4Q1cg91NEiEgVLhlsHJXakq9diPLuJtiRqZC8kCp4MfZCllTvoPR0Jad4B0r0JWp8foAffcrjKebrSp'}}}\n",
      "\n",
      "\n",
      "---------------------------------------------------------------------------\n",
      "mensaje enviado a la API de facebook:\n",
      " {'message': {'text': 'Este es un compuesto'}, 'recipient': {'id': '4418021788217066'}, 'notification_type': 'REGULAR'}\n",
      " [.] Got %r None\n",
      "\n",
      "_________________________________________________________________________________________________________________________\n",
      "Mesaje de la API de Facebook-> \n"
     ]
    },
    {
     "name": "stderr",
     "output_type": "stream",
     "text": [
      "127.0.0.1 - - [07/Jul/2021 15:12:38] \"\u001b[37mPOST /apiREST/v1 HTTP/1.1\u001b[0m\" 200 -\n",
      "127.0.0.1 - - [07/Jul/2021 15:12:38] \"\u001b[37mPOST /apiREST/v1 HTTP/1.1\u001b[0m\" 200 -\n"
     ]
    },
    {
     "name": "stdout",
     "output_type": "stream",
     "text": [
      " {'object': 'page', 'entry': [{'id': '109253348089942', 'time': 1625688760846, 'messaging': [{'sender': {'id': '109253348089942'}, 'recipient': {'id': '4418021788217066'}, 'timestamp': 1625688760803, 'message': {'mid': 'm_5dFv_lZVJ1UckNZfcIRNaB2FPwH8Pwqo_sZ9EWc0HzmuoWdvwqx5LyKPU06umLTwjuY_4UzeaA5zQAq199QkGw', 'is_echo': True, 'text': 'Este es un compuesto', 'app_id': 365817968444136}}]}]}\n",
      "\n",
      "_________________________________________________________________________________________________________________________\n",
      "Mesaje de la API de Facebook-> \n",
      " {'object': 'page', 'entry': [{'id': '109253348089942', 'time': 1625688760943, 'messaging': [{'sender': {'id': '4418021788217066'}, 'recipient': {'id': '109253348089942'}, 'timestamp': 1625688760987, 'delivery': {'mids': ['m_5dFv_lZVJ1UckNZfcIRNaB2FPwH8Pwqo_sZ9EWc0HzmuoWdvwqx5LyKPU06umLTwjuY_4UzeaA5zQAq199QkGw'], 'watermark': 1625688760803}}]}]}\n",
      "[{'sender': {'id': '109253348089942'}, 'recipient': {'id': '4418021788217066'}, 'timestamp': 1625688760803, 'message': {'mid': 'm_5dFv_lZVJ1UckNZfcIRNaB2FPwH8Pwqo_sZ9EWc0HzmuoWdvwqx5LyKPU06umLTwjuY_4UzeaA5zQAq199QkGw', 'is_echo': True, 'text': 'Este es un compuesto', 'app_id': 365817968444136}}]\n",
      "hilo consume\n",
      "\n",
      "\n",
      "______________________________________________no read__________________________________________________________________________\n",
      "\t\tMensaje enviado al Nucleo Logico->\n",
      "  {\"payload\": {\"robot\": \"none\", \"id_face\": \"109253348089942\", \"recipient_id\": \"109253348089942\", \"access_token\": \"none\", \"content\": \"Este es un compuesto\", \"type_resp\": \"message\", \"state\": \"none\", \"blocktype\": \"none\", \"opciones\": \"none\", \"entities\": {}}}\n",
      "\n",
      "_________________________________________________________________________________________________________________________\n",
      "Mesaje de la API de Facebook-> \n",
      " {'object': 'page', 'entry': [{'id': '109253348089942', 'time': 1625688760976, 'messaging': [{'sender': {'id': '4418021788217066'}, 'recipient': {'id': '109253348089942'}, 'timestamp': 1625688761127, 'read': {'watermark': 1625688760950}}]}]}\n"
     ]
    },
    {
     "name": "stderr",
     "output_type": "stream",
     "text": [
      "127.0.0.1 - - [07/Jul/2021 15:12:38] \"\u001b[37mPOST /apiREST/v1 HTTP/1.1\u001b[0m\" 200 -\n"
     ]
    },
    {
     "name": "stdout",
     "output_type": "stream",
     "text": [
      "hilo consume\n",
      "\n",
      "_________________________________________________________________________________________________________________________\n",
      "\t\t\n",
      "Respuesta del Nucleo Logico->  {'Respuesta': {'content': 'Hola soy bot2', 'next_id': 'Informativo | e61376a2-83b0-4ccd-90b2-0d3b8d9fc04b | 46973551-1467-4450-7433-103925931451 | XTHyJxz6aPUIFVONQdUE', 'blockType': 'informativo', 'contentType': 'text', 'typingTime': '1', 'payload': {'content': '', 'state': 'Informativo | d602e284-c054-4f7f-90b0-3d079f8908e4 | XTHyJxz6aPUIFVONQdUE', 'recipient_id': '109253348089942', 'entities': {}, 'access_token': 'EAAFMtaIPwugBABaSyaEaQxCjZB05xZAs5fag2JZCZB9LcVSFPJtAjcu48PewIfljpztLDiWZCZAINUghHfyn85rSKQxPnfZAMZA3DScogyb4Q1cg91NEiEgVLhlsHJXakq9diPLuJtiRqZC8kCp4MfZCllTvoPR0Jad4B0r0JWp8foAffcrjKebrSp'}}}\n",
      "\n",
      "\n",
      "---------------------------------------------------------------------------\n",
      "mensaje enviado a la API de facebook:\n",
      " {'message': {'text': 'Hola soy bot2'}, 'recipient': {'id': '109253348089942'}, 'notification_type': 'REGULAR'}\n",
      " [.] Got %r None\n",
      "\n",
      "_________________________________________________________________________________________________________________________\n",
      "\t\t\n",
      "Respuesta del Nucleo Logico->  {'Respuesta': {'content': [{'title': 'P1', 'image_url': 'https://spaceplace.nasa.gov/gallery-sun/en/solar-flare.en.jpg', 'subtitle': 'S1', 'buttons': [{'titleButton': 'www.youtube.com', 'typeButton': 'web_url', 'urlButton': 'www.youtube.com'}, {'titleButton': 'Op', 'typeButton': 'postback', 'payloadButton': 'Informativo | 38f82c6d-a32e-4687-ae19-71aebb228e68 | XTHyJxz6aPUIFVONQdUE'}]}], 'next_id': ['www.youtube.com', 'Informativo | 38f82c6d-a32e-4687-ae19-71aebb228e68 | XTHyJxz6aPUIFVONQdUE'], 'blockType': 'slide', 'contentType': ' ', 'typingTime': 1, 'payload': {'content': '', 'state': 'Carrusel | 16ad30d3-2b1e-433d-9f31-58de69dacffe | 46973551-1467-4450-7433-103925931451 | XTHyJxz6aPUIFVONQdUE', 'recipient_id': '4418021788217066', 'entities': {}, 'access_token': 'EAAFMtaIPwugBABaSyaEaQxCjZB05xZAs5fag2JZCZB9LcVSFPJtAjcu48PewIfljpztLDiWZCZAINUghHfyn85rSKQxPnfZAMZA3DScogyb4Q1cg91NEiEgVLhlsHJXakq9diPLuJtiRqZC8kCp4MfZCllTvoPR0Jad4B0r0JWp8foAffcrjKebrSp'}, 'default_id': 'Carrusel | 16ad30d3-2b1e-433d-9f31-58de69dacffe | 46973551-1467-4450-7433-103925931451 | XTHyJxz6aPUIFVONQdUE', 'save_var': '0'}}\n",
      "pyload slide:  {'recipient': {'id': '4418021788217066'}, 'message': {'attachment': {'type': 'template', 'payload': {'template_type': 'generic', 'elements': [{'title': 'P1', 'image_url': 'https://spaceplace.nasa.gov/gallery-sun/en/solar-flare.en.jpg', 'subtitle': 'S1', 'buttons': [{'title': 'www.youtube.com', 'type': 'web_url', 'url': 'www.youtube.com'}, {'title': 'Op', 'type': 'postback', 'payload': 'Informativo | 38f82c6d-a32e-4687-ae19-71aebb228e68 | XTHyJxz6aPUIFVONQdUE'}]}]}}}, 'notification_type': 'REGULAR'}\n",
      "\n",
      "\n",
      "---------------------------------------------------------------------------\n",
      "mensaje enviado a la API de facebook:\n",
      " {'recipient': {'id': '4418021788217066'}, 'message': {'attachment': {'type': 'template', 'payload': {'template_type': 'generic', 'elements': [{'title': 'P1', 'image_url': 'https://spaceplace.nasa.gov/gallery-sun/en/solar-flare.en.jpg', 'subtitle': 'S1', 'buttons': [{'title': 'www.youtube.com', 'type': 'web_url', 'url': 'www.youtube.com'}, {'title': 'Op', 'type': 'postback', 'payload': 'Informativo | 38f82c6d-a32e-4687-ae19-71aebb228e68 | XTHyJxz6aPUIFVONQdUE'}]}]}}}, 'notification_type': 'REGULAR'}\n",
      " [.] Got %r None\n"
     ]
    },
    {
     "name": "stderr",
     "output_type": "stream",
     "text": [
      "127.0.0.1 - - [07/Jul/2021 15:12:39] \"\u001b[37mPOST /apiREST/v1 HTTP/1.1\u001b[0m\" 200 -\n",
      "127.0.0.1 - - [07/Jul/2021 15:12:39] \"\u001b[37mPOST /apiREST/v1 HTTP/1.1\u001b[0m\" 200 -\n"
     ]
    },
    {
     "name": "stdout",
     "output_type": "stream",
     "text": [
      "\n",
      "_________________________________________________________________________________________________________________________\n",
      "Mesaje de la API de Facebook-> \n",
      " {'object': 'page', 'entry': [{'id': '109253348089942', 'time': 1625688762777, 'messaging': [{'sender': {'id': '4418021788217066'}, 'recipient': {'id': '109253348089942'}, 'timestamp': 1625688762815, 'delivery': {'mids': ['m_5sNRpis90XtwnAxeOhePMx2FPwH8Pwqo_sZ9EWc0Hzn-f3VIiEcxZl8d6g7Bcny9Y7f6Q04PhrY2L0HJFKt-RQ'], 'watermark': 1625688762564}}]}]}\n",
      "\n",
      "_________________________________________________________________________________________________________________________\n",
      "Mesaje de la API de Facebook-> \n",
      " {'object': 'page', 'entry': [{'id': '109253348089942', 'time': 1625688762685, 'messaging': [{'sender': {'id': '109253348089942'}, 'recipient': {'id': '4418021788217066'}, 'timestamp': 1625688762564, 'message': {'mid': 'm_5sNRpis90XtwnAxeOhePMx2FPwH8Pwqo_sZ9EWc0Hzn-f3VIiEcxZl8d6g7Bcny9Y7f6Q04PhrY2L0HJFKt-RQ', 'is_echo': True, 'app_id': 365817968444136, 'attachments': [{'title': 'P1', 'url': None, 'type': 'template', 'payload': {'template_type': 'generic', 'sharable': False, 'elements': [{'title': 'P1', 'image_url': 'https://spaceplace.nasa.gov/gallery-sun/en/solar-flare.en.jpg', 'subtitle': 'S1', 'buttons': [{'type': 'web_url', 'url': 'http://www.youtube.com/', 'title': 'www.youtube.com'}, {'type': 'postback', 'title': 'Op', 'payload': 'Informativo | 38f82c6d-a32e-4687-ae19-71aebb228e68 | XTHyJxz6aPUIFVONQdUE'}]}]}}]}}]}]}\n",
      "[{'sender': {'id': '109253348089942'}, 'recipient': {'id': '4418021788217066'}, 'timestamp': 1625688762564, 'message': {'mid': 'm_5sNRpis90XtwnAxeOhePMx2FPwH8Pwqo_sZ9EWc0Hzn-f3VIiEcxZl8d6g7Bcny9Y7f6Q04PhrY2L0HJFKt-RQ', 'is_echo': True, 'app_id': 365817968444136, 'attachments': [{'title': 'P1', 'url': None, 'type': 'template', 'payload': {'template_type': 'generic', 'sharable': False, 'elements': [{'title': 'P1', 'image_url': 'https://spaceplace.nasa.gov/gallery-sun/en/solar-flare.en.jpg', 'subtitle': 'S1', 'buttons': [{'type': 'web_url', 'url': 'http://www.youtube.com/', 'title': 'www.youtube.com'}, {'type': 'postback', 'title': 'Op', 'payload': 'Informativo | 38f82c6d-a32e-4687-ae19-71aebb228e68 | XTHyJxz6aPUIFVONQdUE'}]}]}}]}}]\n",
      "hilo consume\n",
      "\n",
      "______________________________________________no read__________________________________________________________________________\n",
      "\n",
      "\t\tMensaje enviado al Nucleo Logico->\n",
      "  {\"payload\": {\"robot\": \"none\", \"id_face\": \"109253348089942\", \"recipient_id\": \"109253348089942\", \"access_token\": \"none\", \"content\": [{\"title\": \"P1\", \"url\": null, \"type\": \"template\", \"payload\": {\"template_type\": \"generic\", \"sharable\": false, \"elements\": [{\"title\": \"P1\", \"image_url\": \"https://spaceplace.nasa.gov/gallery-sun/en/solar-flare.en.jpg\", \"subtitle\": \"S1\", \"buttons\": [{\"type\": \"web_url\", \"url\": \"http://www.youtube.com/\", \"title\": \"www.youtube.com\"}, {\"type\": \"postback\", \"title\": \"Op\", \"payload\": \"Informativo | 38f82c6d-a32e-4687-ae19-71aebb228e68 | XTHyJxz6aPUIFVONQdUE\"}]}]}}], \"type_resp\": \"message\", \"state\": \"none\", \"blocktype\": \"none\", \"opciones\": \"none\", \"entities\": {}}}\n"
     ]
    },
    {
     "name": "stderr",
     "output_type": "stream",
     "text": [
      "127.0.0.1 - - [07/Jul/2021 15:12:40] \"\u001b[37mPOST /apiREST/v1 HTTP/1.1\u001b[0m\" 200 -\n"
     ]
    },
    {
     "name": "stdout",
     "output_type": "stream",
     "text": [
      "\n",
      "_________________________________________________________________________________________________________________________\n",
      "Mesaje de la API de Facebook-> \n",
      " {'object': 'page', 'entry': [{'id': '109253348089942', 'time': 1625688762845, 'messaging': [{'sender': {'id': '4418021788217066'}, 'recipient': {'id': '109253348089942'}, 'timestamp': 1625688763035, 'read': {'watermark': 1625688762816}}]}]}\n",
      "hilo consume\n",
      "\n",
      "_________________________________________________________________________________________________________________________\n",
      "\t\t\n",
      "Respuesta del Nucleo Logico->  {'Respuesta': {'content': 'Hola soy bot2', 'next_id': 'Informativo | e61376a2-83b0-4ccd-90b2-0d3b8d9fc04b | 46973551-1467-4450-7433-103925931451 | XTHyJxz6aPUIFVONQdUE', 'blockType': 'informativo', 'contentType': 'text', 'typingTime': '1', 'payload': {'content': '', 'state': 'Informativo | d602e284-c054-4f7f-90b0-3d079f8908e4 | XTHyJxz6aPUIFVONQdUE', 'recipient_id': '109253348089942', 'entities': {}, 'access_token': 'EAAFMtaIPwugBABaSyaEaQxCjZB05xZAs5fag2JZCZB9LcVSFPJtAjcu48PewIfljpztLDiWZCZAINUghHfyn85rSKQxPnfZAMZA3DScogyb4Q1cg91NEiEgVLhlsHJXakq9diPLuJtiRqZC8kCp4MfZCllTvoPR0Jad4B0r0JWp8foAffcrjKebrSp'}}}\n",
      " [.] Got %r None\n",
      "\n",
      "\n",
      "---------------------------------------------------------------------------\n",
      "mensaje enviado a la API de facebook:\n",
      " {'message': {'text': 'Hola soy bot2'}, 'recipient': {'id': '109253348089942'}, 'notification_type': 'REGULAR'}\n",
      " [.] Got %r None\n"
     ]
    },
    {
     "name": "stderr",
     "output_type": "stream",
     "text": [
      "127.0.0.1 - - [07/Jul/2021 15:12:46] \"\u001b[37mPOST /apiREST/v1 HTTP/1.1\u001b[0m\" 200 -\n"
     ]
    },
    {
     "name": "stdout",
     "output_type": "stream",
     "text": [
      "\n",
      "_________________________________________________________________________________________________________________________\n",
      "Mesaje de la API de Facebook-> \n",
      " {'object': 'page', 'entry': [{'id': '109253348089942', 'time': 1625688769592, 'messaging': [{'sender': {'id': '4418021788217066'}, 'recipient': {'id': '109253348089942'}, 'timestamp': 1625688769679, 'read': {'watermark': 1625688769201}}]}]}\n",
      "hilo consume\n",
      " [.] Got %r None\n"
     ]
    },
    {
     "name": "stderr",
     "output_type": "stream",
     "text": [
      "127.0.0.1 - - [07/Jul/2021 15:12:47] \"\u001b[37mPOST /apiREST/v1 HTTP/1.1\u001b[0m\" 200 -\n"
     ]
    },
    {
     "name": "stdout",
     "output_type": "stream",
     "text": [
      "\n",
      "_________________________________________________________________________________________________________________________\n",
      "Mesaje de la API de Facebook-> \n",
      " {'object': 'page', 'entry': [{'id': '109253348089942', 'time': 1625688769792, 'messaging': [{'sender': {'id': '4418021788217066'}, 'recipient': {'id': '109253348089942'}, 'timestamp': 1625688769630, 'postback': {'title': 'Op', 'payload': 'Informativo | 38f82c6d-a32e-4687-ae19-71aebb228e68 | XTHyJxz6aPUIFVONQdUE', 'mid': 'm_tNHXpUkZwJefGY45fKD3nB2FPwH8Pwqo_sZ9EWc0HzmOlC5ZOfoVhwjOXgKTK-QWVzUIkN-jSQuFORFm5VMc_A'}}]}]}\n",
      "hilo consume\n",
      "\n",
      "\n",
      "______________________________________________no read__________________________________________________________________________\n",
      "\t\tMensaje enviado al Nucleo Logico->\n",
      "  {\"payload\": {\"robot\": \"none\", \"id_face\": \"109253348089942\", \"recipient_id\": \"4418021788217066\", \"access_token\": \"none\", \"content\": \"Informativo | 38f82c6d-a32e-4687-ae19-71aebb228e68 | XTHyJxz6aPUIFVONQdUE\", \"type_resp\": \"postback\", \"state\": \"none\", \"blocktype\": \"none\", \"opciones\": \"none\", \"entities\": {}}}\n",
      "\n",
      "_________________________________________________________________________________________________________________________\n",
      "\t\t\n",
      "Respuesta del Nucleo Logico->  {'Respuesta': {'content': 'Adios oswa', 'next_id': 'Salida', 'blockType': 'informativo', 'contentType': 'text', 'typingTime': '1', 'payload': {'content': '', 'state': 'Informativo | 38f82c6d-a32e-4687-ae19-71aebb228e68 | XTHyJxz6aPUIFVONQdUE', 'recipient_id': '4418021788217066', 'entities': {'variableCarrCarrusel_|_16ad30d3-2b1e-433d-9f31-58de69dacffe8259': 'Informativo | 38f82c6d-a32e-4687-ae19-71aebb228e68 | XTHyJxz6aPUIFVONQdUE'}, 'access_token': 'EAAFMtaIPwugBABaSyaEaQxCjZB05xZAs5fag2JZCZB9LcVSFPJtAjcu48PewIfljpztLDiWZCZAINUghHfyn85rSKQxPnfZAMZA3DScogyb4Q1cg91NEiEgVLhlsHJXakq9diPLuJtiRqZC8kCp4MfZCllTvoPR0Jad4B0r0JWp8foAffcrjKebrSp'}}}\n",
      "\n",
      "\n",
      "---------------------------------------------------------------------------\n",
      "mensaje enviado a la API de facebook:\n",
      " {'message': {'text': 'Adios oswa'}, 'recipient': {'id': '4418021788217066'}, 'notification_type': 'REGULAR'}\n",
      " [.] Got %r None\n",
      "\n",
      "_________________________________________________________________________________________________________________________\n",
      "Mesaje de la API de Facebook-> \n",
      " "
     ]
    },
    {
     "name": "stderr",
     "output_type": "stream",
     "text": [
      "127.0.0.1 - - [07/Jul/2021 15:12:48] \"\u001b[37mPOST /apiREST/v1 HTTP/1.1\u001b[0m\" 200 -\n"
     ]
    },
    {
     "name": "stdout",
     "output_type": "stream",
     "text": [
      "{'object': 'page', 'entry': [{'id': '109253348089942', 'time': 1625688771110, 'messaging': [{'sender': {'id': '4418021788217066'}, 'recipient': {'id': '109253348089942'}, 'timestamp': 1625688771147, 'delivery': {'mids': ['m_2O15LUJ0QjjqkCaCBq8xhx2FPwH8Pwqo_sZ9EWc0HzkZqXythlhajKXUSLBiJYaliNXO2JAljzaTjlehOX4x5g'], 'watermark': 1625688770966}}]}]}\n",
      "\n",
      "_________________________________________________________________________________________________________________________\n",
      "Mesaje de la API de Facebook-> \n",
      " {'object': 'page', 'entry': [{'id': '109253348089942', 'time': 1625688771074, 'messaging': [{'sender': {'id': '109253348089942'}, 'recipient': {'id': '4418021788217066'}, 'timestamp': 1625688770966, 'message': {'mid': 'm_2O15LUJ0QjjqkCaCBq8xhx2FPwH8Pwqo_sZ9EWc0HzkZqXythlhajKXUSLBiJYaliNXO2JAljzaTjlehOX4x5g', 'is_echo': True, 'text': 'Adios oswa', 'app_id': 365817968444136}}]}]}\n",
      "\n",
      "_________________________________________________________________________________________________________________________\n",
      "Mesaje de la API de Facebook-> \n",
      " {'object': 'page', 'entry': [{'id': '109253348089942', 'time': 1625688771152, 'messaging': [{'sender': {'id': '4418021788217066'}, 'recipient': {'id': '109253348089942'}, 'timestamp': 1625688771297, 'read': {'watermark': 1625688771126}}]}]}\n"
     ]
    },
    {
     "name": "stderr",
     "output_type": "stream",
     "text": [
      "127.0.0.1 - - [07/Jul/2021 15:12:48] \"\u001b[37mPOST /apiREST/v1 HTTP/1.1\u001b[0m\" 200 -\n",
      "127.0.0.1 - - [07/Jul/2021 15:12:48] \"\u001b[37mPOST /apiREST/v1 HTTP/1.1\u001b[0m\" 200 -\n"
     ]
    },
    {
     "name": "stdout",
     "output_type": "stream",
     "text": [
      "hilo consume\n",
      "[{'sender': {'id': '109253348089942'}, 'recipient': {'id': '4418021788217066'}, 'timestamp': 1625688770966, 'message': {'mid': 'm_2O15LUJ0QjjqkCaCBq8xhx2FPwH8Pwqo_sZ9EWc0HzkZqXythlhajKXUSLBiJYaliNXO2JAljzaTjlehOX4x5g', 'is_echo': True, 'text': 'Adios oswa', 'app_id': 365817968444136}}]\n",
      "hilo consume\n",
      "\n",
      "______________________________________________no read__________________________________________________________________________\n",
      "\n",
      "\t\tMensaje enviado al Nucleo Logico->\n",
      "  {\"payload\": {\"robot\": \"none\", \"id_face\": \"109253348089942\", \"recipient_id\": \"109253348089942\", \"access_token\": \"none\", \"content\": \"Adios oswa\", \"type_resp\": \"message\", \"state\": \"none\", \"blocktype\": \"none\", \"opciones\": \"none\", \"entities\": {}}}\n",
      "\n",
      "_________________________________________________________________________________________________________________________\n",
      "\t\t\n",
      "Respuesta del Nucleo Logico->  {'Respuesta': {'content': 'Hola soy bot2', 'next_id': 'Informativo | e61376a2-83b0-4ccd-90b2-0d3b8d9fc04b | 46973551-1467-4450-7433-103925931451 | XTHyJxz6aPUIFVONQdUE', 'blockType': 'informativo', 'contentType': 'text', 'typingTime': '1', 'payload': {'content': '', 'state': 'Informativo | d602e284-c054-4f7f-90b0-3d079f8908e4 | XTHyJxz6aPUIFVONQdUE', 'recipient_id': '109253348089942', 'entities': {}, 'access_token': 'EAAFMtaIPwugBABaSyaEaQxCjZB05xZAs5fag2JZCZB9LcVSFPJtAjcu48PewIfljpztLDiWZCZAINUghHfyn85rSKQxPnfZAMZA3DScogyb4Q1cg91NEiEgVLhlsHJXakq9diPLuJtiRqZC8kCp4MfZCllTvoPR0Jad4B0r0JWp8foAffcrjKebrSp'}}}\n",
      "\n",
      "\n",
      "---------------------------------------------------------------------------\n",
      "mensaje enviado a la API de facebook:\n",
      " {'message': {'text': 'Hola soy bot2'}, 'recipient': {'id': '109253348089942'}, 'notification_type': 'REGULAR'}\n",
      " [.] Got %r None\n"
     ]
    },
    {
     "name": "stderr",
     "output_type": "stream",
     "text": [
      "127.0.0.1 - - [07/Jul/2021 15:13:42] \"\u001b[37mPOST /apiREST/v1 HTTP/1.1\u001b[0m\" 200 -\n"
     ]
    },
    {
     "name": "stdout",
     "output_type": "stream",
     "text": [
      "\n",
      "_________________________________________________________________________________________________________________________\n",
      "Mesaje de la API de Facebook-> \n",
      " {'object': 'page', 'entry': [{'id': '109253348089942', 'time': 1625688824955, 'messaging': [{'sender': {'id': '4418021788217066'}, 'recipient': {'id': '109253348089942'}, 'timestamp': 1625688825051, 'read': {'watermark': 1625688824555}}]}]}\n",
      "hilo consume\n",
      " [.] Got %r None\n"
     ]
    },
    {
     "name": "stderr",
     "output_type": "stream",
     "text": [
      "127.0.0.1 - - [07/Jul/2021 15:13:42] \"\u001b[37mPOST /apiREST/v1 HTTP/1.1\u001b[0m\" 200 -\n"
     ]
    },
    {
     "name": "stdout",
     "output_type": "stream",
     "text": [
      "\n",
      "_________________________________________________________________________________________________________________________\n",
      "Mesaje de la API de Facebook-> \n",
      " {'object': 'page', 'entry': [{'id': '109253348089942', 'time': 1625688825140, 'messaging': [{'sender': {'id': '4418021788217066'}, 'recipient': {'id': '109253348089942'}, 'timestamp': 1625688824993, 'message': {'mid': 'm_vczH2alvtpaxv_DFgw9hlh2FPwH8Pwqo_sZ9EWc0Hzmy7lZ-LhUOuvpd72eqIURLKa6qbzS7SMGsvf8rU7mEEg', 'text': 'Hola'}}]}]}\n",
      "[{'sender': {'id': '4418021788217066'}, 'recipient': {'id': '109253348089942'}, 'timestamp': 1625688824993, 'message': {'mid': 'm_vczH2alvtpaxv_DFgw9hlh2FPwH8Pwqo_sZ9EWc0Hzmy7lZ-LhUOuvpd72eqIURLKa6qbzS7SMGsvf8rU7mEEg', 'text': 'Hola'}}]\n",
      "hilo consume\n",
      "\n",
      "______________________________________________no read__________________________________________________________________________\n",
      "\n",
      "\t\tMensaje enviado al Nucleo Logico->\n",
      "  {\"payload\": {\"robot\": \"none\", \"id_face\": \"109253348089942\", \"recipient_id\": \"4418021788217066\", \"access_token\": \"none\", \"content\": \"Hola\", \"type_resp\": \"message\", \"state\": \"none\", \"blocktype\": \"none\", \"opciones\": \"none\", \"entities\": {}}}\n",
      "\n",
      "_________________________________________________________________________________________________________________________\n",
      "\t\t\n",
      "Respuesta del Nucleo Logico->  {'Respuesta': {'content': 'Hola soy bot2', 'next_id': 'Informativo | e61376a2-83b0-4ccd-90b2-0d3b8d9fc04b | 46973551-1467-4450-7433-103925931451 | XTHyJxz6aPUIFVONQdUE', 'blockType': 'informativo', 'contentType': 'text', 'typingTime': '1', 'payload': {'content': '', 'state': 'Informativo | d602e284-c054-4f7f-90b0-3d079f8908e4 | XTHyJxz6aPUIFVONQdUE', 'recipient_id': '4418021788217066', 'entities': {}, 'access_token': 'EAAFMtaIPwugBABaSyaEaQxCjZB05xZAs5fag2JZCZB9LcVSFPJtAjcu48PewIfljpztLDiWZCZAINUghHfyn85rSKQxPnfZAMZA3DScogyb4Q1cg91NEiEgVLhlsHJXakq9diPLuJtiRqZC8kCp4MfZCllTvoPR0Jad4B0r0JWp8foAffcrjKebrSp'}}}\n",
      "\n",
      "\n",
      "---------------------------------------------------------------------------\n",
      "mensaje enviado a la API de facebook:\n",
      " {'message': {'text': 'Hola soy bot2'}, 'recipient': {'id': '4418021788217066'}, 'notification_type': 'REGULAR'}\n",
      " [.] Got %r None\n"
     ]
    },
    {
     "name": "stderr",
     "output_type": "stream",
     "text": [
      "127.0.0.1 - - [07/Jul/2021 15:13:43] \"\u001b[37mPOST /apiREST/v1 HTTP/1.1\u001b[0m\" 200 -\n",
      "127.0.0.1 - - [07/Jul/2021 15:13:43] \"\u001b[37mPOST /apiREST/v1 HTTP/1.1\u001b[0m\" 200 -\n"
     ]
    },
    {
     "name": "stdout",
     "output_type": "stream",
     "text": [
      "\n",
      "_________________________________________________________________________________________________________________________\n",
      "Mesaje de la API de Facebook-> \n",
      " \n",
      "_________________________________________________________________________________________________________________________{'object': 'page', 'entry': [{'id': '109253348089942', 'time': 1625688826421, 'messaging': [{'sender': {'id': '4418021788217066'}, 'recipient': {'id': '109253348089942'}, 'timestamp': 1625688826470, 'delivery': {'mids': ['m_zWJ7r4osvwcySkSqFZwv8h2FPwH8Pwqo_sZ9EWc0Hzl8DdHzxu8yXp1ifNS7lYtddoykNX4XDpNqY7FDwIWrzg'], 'watermark': 1625688826275}}]}]}\n",
      "\n",
      "Mesaje de la API de Facebook-> \n",
      " {'object': 'page', 'entry': [{'id': '109253348089942', 'time': 1625688826393, 'messaging': [{'sender': {'id': '109253348089942'}, 'recipient': {'id': '4418021788217066'}, 'timestamp': 1625688826275, 'message': {'mid': 'm_zWJ7r4osvwcySkSqFZwv8h2FPwH8Pwqo_sZ9EWc0Hzl8DdHzxu8yXp1ifNS7lYtddoykNX4XDpNqY7FDwIWrzg', 'is_echo': True, 'text': 'Hola soy bot2', 'app_id': 365817968444136}}]}]}\n",
      "[{'sender': {'id': '109253348089942'}, 'recipient': {'id': '4418021788217066'}, 'timestamp': 1625688826275, 'message': {'mid': 'm_zWJ7r4osvwcySkSqFZwv8h2FPwH8Pwqo_sZ9EWc0Hzl8DdHzxu8yXp1ifNS7lYtddoykNX4XDpNqY7FDwIWrzg', 'is_echo': True, 'text': 'Hola soy bot2', 'app_id': 365817968444136}}]\n",
      "hilo consume\n",
      "\n",
      "______________________________________________no read__________________________________________________________________________\n",
      "\n",
      "\t\tMensaje enviado al Nucleo Logico->\n",
      "  {\"payload\": {\"robot\": \"none\", \"id_face\": \"109253348089942\", \"recipient_id\": \"109253348089942\", \"access_token\": \"none\", \"content\": \"Hola soy bot2\", \"type_resp\": \"message\", \"state\": \"none\", \"blocktype\": \"none\", \"opciones\": \"none\", \"entities\": {}}}\n"
     ]
    },
    {
     "name": "stderr",
     "output_type": "stream",
     "text": [
      "127.0.0.1 - - [07/Jul/2021 15:13:43] \"\u001b[37mPOST /apiREST/v1 HTTP/1.1\u001b[0m\" 200 -\n"
     ]
    },
    {
     "name": "stdout",
     "output_type": "stream",
     "text": [
      "\n",
      "_________________________________________________________________________________________________________________________\n",
      "Mesaje de la API de Facebook-> \n",
      " {'object': 'page', 'entry': [{'id': '109253348089942', 'time': 1625688826482, 'messaging': [{'sender': {'id': '4418021788217066'}, 'recipient': {'id': '109253348089942'}, 'timestamp': 1625688826689, 'read': {'watermark': 1625688826455}}]}]}\n",
      "hilo consume\n",
      "\n",
      "_________________________________________________________________________________________________________________________\n",
      "\t\t\n",
      "Respuesta del Nucleo Logico->  {'Respuesta': {'content': 'Hola soy bot2', 'next_id': 'Informativo | e61376a2-83b0-4ccd-90b2-0d3b8d9fc04b | 46973551-1467-4450-7433-103925931451 | XTHyJxz6aPUIFVONQdUE', 'blockType': 'informativo', 'contentType': 'text', 'typingTime': '1', 'payload': {'content': '', 'state': 'Informativo | d602e284-c054-4f7f-90b0-3d079f8908e4 | XTHyJxz6aPUIFVONQdUE', 'recipient_id': '109253348089942', 'entities': {}, 'access_token': 'EAAFMtaIPwugBABaSyaEaQxCjZB05xZAs5fag2JZCZB9LcVSFPJtAjcu48PewIfljpztLDiWZCZAINUghHfyn85rSKQxPnfZAMZA3DScogyb4Q1cg91NEiEgVLhlsHJXakq9diPLuJtiRqZC8kCp4MfZCllTvoPR0Jad4B0r0JWp8foAffcrjKebrSp'}}}\n",
      "\n",
      "\n",
      "---------------------------------------------------------------------------\n",
      "mensaje enviado a la API de facebook:\n",
      " {'message': {'text': 'Hola soy bot2'}, 'recipient': {'id': '109253348089942'}, 'notification_type': 'REGULAR'}\n",
      " [.] Got %r None\n",
      "\n",
      "_________________________________________________________________________________________________________________________\n",
      "\t\t\n",
      "Respuesta del Nucleo Logico->  {'Respuesta': {'content': 'Editando Bloque ', 'next_id': 'Carrusel | 16ad30d3-2b1e-433d-9f31-58de69dacffe | 46973551-1467-4450-7433-103925931451 | XTHyJxz6aPUIFVONQdUE', 'blockType': 'informativo', 'contentType': 'text', 'typingTime': '1', 'payload': {'content': '', 'state': 'Informativo | e61376a2-83b0-4ccd-90b2-0d3b8d9fc04b | 46973551-1467-4450-7433-103925931451 | XTHyJxz6aPUIFVONQdUE', 'recipient_id': '4418021788217066', 'entities': {}, 'access_token': 'EAAFMtaIPwugBABaSyaEaQxCjZB05xZAs5fag2JZCZB9LcVSFPJtAjcu48PewIfljpztLDiWZCZAINUghHfyn85rSKQxPnfZAMZA3DScogyb4Q1cg91NEiEgVLhlsHJXakq9diPLuJtiRqZC8kCp4MfZCllTvoPR0Jad4B0r0JWp8foAffcrjKebrSp'}}}\n",
      "\n",
      "\n",
      "---------------------------------------------------------------------------\n",
      "mensaje enviado a la API de facebook:\n",
      " {'message': {'text': 'Editando Bloque '}, 'recipient': {'id': '4418021788217066'}, 'notification_type': 'REGULAR'}\n",
      " [.] Got %r None\n"
     ]
    },
    {
     "name": "stderr",
     "output_type": "stream",
     "text": [
      "127.0.0.1 - - [07/Jul/2021 15:13:45] \"\u001b[37mPOST /apiREST/v1 HTTP/1.1\u001b[0m\" 200 -\n",
      "127.0.0.1 - - [07/Jul/2021 15:13:45] \"\u001b[37mPOST /apiREST/v1 HTTP/1.1\u001b[0m\" 200 -\n"
     ]
    },
    {
     "name": "stdout",
     "output_type": "stream",
     "text": [
      "\n",
      "_________________________________________________________________________________________________________________________\n",
      "Mesaje de la API de Facebook-> \n",
      " {'object': 'page', 'entry': [{'id': '109253348089942', 'time': 1625688827890, 'messaging': [{'sender': {'id': '109253348089942'}, 'recipient': {'id': '4418021788217066'}, 'timestamp': 1625688827810, 'message': {'mid': 'm_i6uxyvpIwa0qxHRxok2dRR2FPwH8Pwqo_sZ9EWc0HznSzHMQJ4OHOSE3UzXG4BIW7pQlko3pHvOAlPQl9NQ4yw', 'is_echo': True, 'text': 'Editando Bloque', 'app_id': 365817968444136}}]}]}\n",
      "\n",
      "_________________________________________________________________________________________________________________________\n",
      "Mesaje de la API de Facebook-> \n",
      " {'object': 'page', 'entry': [{'id': '109253348089942', 'time': 1625688827986, 'messaging': [{'sender': {'id': '4418021788217066'}, 'recipient': {'id': '109253348089942'}, 'timestamp': 1625688828026, 'delivery': {'mids': ['m_i6uxyvpIwa0qxHRxok2dRR2FPwH8Pwqo_sZ9EWc0HznSzHMQJ4OHOSE3UzXG4BIW7pQlko3pHvOAlPQl9NQ4yw'], 'watermark': 1625688827810}}]}]}\n",
      "[{'sender': {'id': '109253348089942'}, 'recipient': {'id': '4418021788217066'}, 'timestamp': 1625688827810, 'message': {'mid': 'm_i6uxyvpIwa0qxHRxok2dRR2FPwH8Pwqo_sZ9EWc0HznSzHMQJ4OHOSE3UzXG4BIW7pQlko3pHvOAlPQl9NQ4yw', 'is_echo': True, 'text': 'Editando Bloque', 'app_id': 365817968444136}}]\n",
      "hilo consume\n",
      "\n",
      "______________________________________________no read__________________________________________________________________________\n",
      "\n",
      "\t\tMensaje enviado al Nucleo Logico->\n",
      "  {\"payload\": {\"robot\": \"none\", \"id_face\": \"109253348089942\", \"recipient_id\": \"109253348089942\", \"access_token\": \"none\", \"content\": \"Editando Bloque\", \"type_resp\": \"message\", \"state\": \"none\", \"blocktype\": \"none\", \"opciones\": \"none\", \"entities\": {}}}\n",
      "\n",
      "_________________________________________________________________________________________________________________________\n",
      "Mesaje de la API de Facebook-> \n",
      " {'object': 'page', 'entry': [{'id': '109253348089942', 'time': 1625688828031, 'messaging': [{'sender': {'id': '4418021788217066'}, 'recipient': {'id': '109253348089942'}, 'timestamp': 1625688828181, 'read': {'watermark': 1625688828002}}]}]}\n"
     ]
    },
    {
     "name": "stderr",
     "output_type": "stream",
     "text": [
      "127.0.0.1 - - [07/Jul/2021 15:13:45] \"\u001b[37mPOST /apiREST/v1 HTTP/1.1\u001b[0m\" 200 -\n"
     ]
    },
    {
     "name": "stdout",
     "output_type": "stream",
     "text": [
      "hilo consume\n",
      "\n",
      "_________________________________________________________________________________________________________________________\n",
      "\t\t\n",
      "Respuesta del Nucleo Logico->  {'Respuesta': {'content': 'Hola soy bot2', 'next_id': 'Informativo | e61376a2-83b0-4ccd-90b2-0d3b8d9fc04b | 46973551-1467-4450-7433-103925931451 | XTHyJxz6aPUIFVONQdUE', 'blockType': 'informativo', 'contentType': 'text', 'typingTime': '1', 'payload': {'content': '', 'state': 'Informativo | d602e284-c054-4f7f-90b0-3d079f8908e4 | XTHyJxz6aPUIFVONQdUE', 'recipient_id': '109253348089942', 'entities': {}, 'access_token': 'EAAFMtaIPwugBABaSyaEaQxCjZB05xZAs5fag2JZCZB9LcVSFPJtAjcu48PewIfljpztLDiWZCZAINUghHfyn85rSKQxPnfZAMZA3DScogyb4Q1cg91NEiEgVLhlsHJXakq9diPLuJtiRqZC8kCp4MfZCllTvoPR0Jad4B0r0JWp8foAffcrjKebrSp'}}}\n",
      "\n",
      "\n",
      "---------------------------------------------------------------------------\n",
      "mensaje enviado a la API de facebook:\n",
      " {'message': {'text': 'Hola soy bot2'}, 'recipient': {'id': '109253348089942'}, 'notification_type': 'REGULAR'}\n",
      " [.] Got %r None\n",
      "\n",
      "_________________________________________________________________________________________________________________________\n",
      "\t\t\n",
      "Respuesta del Nucleo Logico->  {'Respuesta': {'content': [{'title': 'P1', 'image_url': 'https://spaceplace.nasa.gov/gallery-sun/en/solar-flare.en.jpg', 'subtitle': 'S1', 'buttons': [{'titleButton': 'www.youtube.com', 'typeButton': 'web_url', 'urlButton': 'www.youtube.com'}, {'titleButton': 'Op', 'typeButton': 'postback', 'payloadButton': 'Informativo | 38f82c6d-a32e-4687-ae19-71aebb228e68 | XTHyJxz6aPUIFVONQdUE'}]}], 'next_id': ['www.youtube.com', 'Informativo | 38f82c6d-a32e-4687-ae19-71aebb228e68 | XTHyJxz6aPUIFVONQdUE'], 'blockType': 'slide', 'contentType': ' ', 'typingTime': 1, 'payload': {'content': '', 'state': 'Carrusel | 16ad30d3-2b1e-433d-9f31-58de69dacffe | 46973551-1467-4450-7433-103925931451 | XTHyJxz6aPUIFVONQdUE', 'recipient_id': '4418021788217066', 'entities': {}, 'access_token': 'EAAFMtaIPwugBABaSyaEaQxCjZB05xZAs5fag2JZCZB9LcVSFPJtAjcu48PewIfljpztLDiWZCZAINUghHfyn85rSKQxPnfZAMZA3DScogyb4Q1cg91NEiEgVLhlsHJXakq9diPLuJtiRqZC8kCp4MfZCllTvoPR0Jad4B0r0JWp8foAffcrjKebrSp'}, 'default_id': 'Carrusel | 16ad30d3-2b1e-433d-9f31-58de69dacffe | 46973551-1467-4450-7433-103925931451 | XTHyJxz6aPUIFVONQdUE', 'save_var': '0'}}\n",
      "pyload slide:  {'recipient': {'id': '4418021788217066'}, 'message': {'attachment': {'type': 'template', 'payload': {'template_type': 'generic', 'elements': [{'title': 'P1', 'image_url': 'https://spaceplace.nasa.gov/gallery-sun/en/solar-flare.en.jpg', 'subtitle': 'S1', 'buttons': [{'title': 'www.youtube.com', 'type': 'web_url', 'url': 'www.youtube.com'}, {'title': 'Op', 'type': 'postback', 'payload': 'Informativo | 38f82c6d-a32e-4687-ae19-71aebb228e68 | XTHyJxz6aPUIFVONQdUE'}]}]}}}, 'notification_type': 'REGULAR'}\n",
      "\n",
      "\n",
      "---------------------------------------------------------------------------\n",
      "mensaje enviado a la API de facebook:\n",
      " {'recipient': {'id': '4418021788217066'}, 'message': {'attachment': {'type': 'template', 'payload': {'template_type': 'generic', 'elements': [{'title': 'P1', 'image_url': 'https://spaceplace.nasa.gov/gallery-sun/en/solar-flare.en.jpg', 'subtitle': 'S1', 'buttons': [{'title': 'www.youtube.com', 'type': 'web_url', 'url': 'www.youtube.com'}, {'title': 'Op', 'type': 'postback', 'payload': 'Informativo | 38f82c6d-a32e-4687-ae19-71aebb228e68 | XTHyJxz6aPUIFVONQdUE'}]}]}}}, 'notification_type': 'REGULAR'}\n",
      " [.] Got %r None\n"
     ]
    },
    {
     "name": "stderr",
     "output_type": "stream",
     "text": [
      "127.0.0.1 - - [07/Jul/2021 15:13:47] \"\u001b[37mPOST /apiREST/v1 HTTP/1.1\u001b[0m\" 200 -\n",
      "127.0.0.1 - - [07/Jul/2021 15:13:47] \"\u001b[37mPOST /apiREST/v1 HTTP/1.1\u001b[0m\" 200 -\n"
     ]
    },
    {
     "name": "stdout",
     "output_type": "stream",
     "text": [
      "\n",
      "_________________________________________________________________________________________________________________________\n",
      "Mesaje de la API de Facebook-> \n",
      " {'object': 'page', 'entry': [{'id': '109253348089942', 'time': 1625688829905, 'messaging': [{'sender': {'id': '4418021788217066'}, 'recipient': {'id': '109253348089942'}, 'timestamp': 1625688829941, 'delivery': {'mids': ['m_Kz3JS37hSHPmrudIGtMl7x2FPwH8Pwqo_sZ9EWc0Hzkgak04NBF8fQqcMB14mSQyRAaI1R0lSUHGwFXwRLiJOA'], 'watermark': 1625688829632}}]}]}\n",
      "\n",
      "_________________________________________________________________________________________________________________________\n",
      "Mesaje de la API de Facebook-> \n",
      " {'object': 'page', 'entry': [{'id': '109253348089942', 'time': 1625688829700, 'messaging': [{'sender': {'id': '109253348089942'}, 'recipient': {'id': '4418021788217066'}, 'timestamp': 1625688829632, 'message': {'mid': 'm_Kz3JS37hSHPmrudIGtMl7x2FPwH8Pwqo_sZ9EWc0Hzkgak04NBF8fQqcMB14mSQyRAaI1R0lSUHGwFXwRLiJOA', 'is_echo': True, 'app_id': 365817968444136, 'attachments': [{'title': 'P1', 'url': None, 'type': 'template', 'payload': {'template_type': 'generic', 'sharable': False, 'elements': [{'title': 'P1', 'image_url': 'https://spaceplace.nasa.gov/gallery-sun/en/solar-flare.en.jpg', 'subtitle': 'S1', 'buttons': [{'type': 'web_url', 'url': 'http://www.youtube.com/', 'title': 'www.youtube.com'}, {'type': 'postback', 'title': 'Op', 'payload': 'Informativo | 38f82c6d-a32e-4687-ae19-71aebb228e68 | XTHyJxz6aPUIFVONQdUE'}]}]}}]}}]}]}\n",
      "[{'sender': {'id': '109253348089942'}, 'recipient': {'id': '4418021788217066'}, 'timestamp': 1625688829632, 'message': {'mid': 'm_Kz3JS37hSHPmrudIGtMl7x2FPwH8Pwqo_sZ9EWc0Hzkgak04NBF8fQqcMB14mSQyRAaI1R0lSUHGwFXwRLiJOA', 'is_echo': True, 'app_id': 365817968444136, 'attachments': [{'title': 'P1', 'url': None, 'type': 'template', 'payload': {'template_type': 'generic', 'sharable': False, 'elements': [{'title': 'P1', 'image_url': 'https://spaceplace.nasa.gov/gallery-sun/en/solar-flare.en.jpg', 'subtitle': 'S1', 'buttons': [{'type': 'web_url', 'url': 'http://www.youtube.com/', 'title': 'www.youtube.com'}, {'type': 'postback', 'title': 'Op', 'payload': 'Informativo | 38f82c6d-a32e-4687-ae19-71aebb228e68 | XTHyJxz6aPUIFVONQdUE'}]}]}}]}}]\n",
      "hilo consume\n",
      "\n",
      "______________________________________________no read__________________________________________________________________________\n",
      "\n",
      "\t\tMensaje enviado al Nucleo Logico->\n",
      "  {\"payload\": {\"robot\": \"none\", \"id_face\": \"109253348089942\", \"recipient_id\": \"109253348089942\", \"access_token\": \"none\", \"content\": [{\"title\": \"P1\", \"url\": null, \"type\": \"template\", \"payload\": {\"template_type\": \"generic\", \"sharable\": false, \"elements\": [{\"title\": \"P1\", \"image_url\": \"https://spaceplace.nasa.gov/gallery-sun/en/solar-flare.en.jpg\", \"subtitle\": \"S1\", \"buttons\": [{\"type\": \"web_url\", \"url\": \"http://www.youtube.com/\", \"title\": \"www.youtube.com\"}, {\"type\": \"postback\", \"title\": \"Op\", \"payload\": \"Informativo | 38f82c6d-a32e-4687-ae19-71aebb228e68 | XTHyJxz6aPUIFVONQdUE\"}]}]}}], \"type_resp\": \"message\", \"state\": \"none\", \"blocktype\": \"none\", \"opciones\": \"none\", \"entities\": {}}}\n",
      "\n",
      "_________________________________________________________________________________________________________________________\n",
      "Mesaje de la API de Facebook-> \n"
     ]
    },
    {
     "name": "stderr",
     "output_type": "stream",
     "text": [
      "127.0.0.1 - - [07/Jul/2021 15:13:47] \"\u001b[37mPOST /apiREST/v1 HTTP/1.1\u001b[0m\" 200 -\n"
     ]
    },
    {
     "name": "stdout",
     "output_type": "stream",
     "text": [
      " {'object': 'page', 'entry': [{'id': '109253348089942', 'time': 1625688829974, 'messaging': [{'sender': {'id': '4418021788217066'}, 'recipient': {'id': '109253348089942'}, 'timestamp': 1625688830126, 'read': {'watermark': 1625688829947}}]}]}\n",
      "hilo consume\n",
      "\n",
      "_________________________________________________________________________________________________________________________\n",
      "\t\t\n",
      "Respuesta del Nucleo Logico->  {'Respuesta': {'content': 'Hola soy bot2', 'next_id': 'Informativo | e61376a2-83b0-4ccd-90b2-0d3b8d9fc04b | 46973551-1467-4450-7433-103925931451 | XTHyJxz6aPUIFVONQdUE', 'blockType': 'informativo', 'contentType': 'text', 'typingTime': '1', 'payload': {'content': '', 'state': 'Informativo | d602e284-c054-4f7f-90b0-3d079f8908e4 | XTHyJxz6aPUIFVONQdUE', 'recipient_id': '109253348089942', 'entities': {}, 'access_token': 'EAAFMtaIPwugBABaSyaEaQxCjZB05xZAs5fag2JZCZB9LcVSFPJtAjcu48PewIfljpztLDiWZCZAINUghHfyn85rSKQxPnfZAMZA3DScogyb4Q1cg91NEiEgVLhlsHJXakq9diPLuJtiRqZC8kCp4MfZCllTvoPR0Jad4B0r0JWp8foAffcrjKebrSp'}}}\n",
      " [.] Got %r None\n",
      "\n",
      "\n",
      "---------------------------------------------------------------------------\n",
      "mensaje enviado a la API de facebook:\n",
      " {'message': {'text': 'Hola soy bot2'}, 'recipient': {'id': '109253348089942'}, 'notification_type': 'REGULAR'}\n",
      " [.] Got %r None\n"
     ]
    },
    {
     "name": "stderr",
     "output_type": "stream",
     "text": [
      "127.0.0.1 - - [07/Jul/2021 15:15:41] \"\u001b[37mPOST /apiREST/v1 HTTP/1.1\u001b[0m\" 200 -\n"
     ]
    },
    {
     "name": "stdout",
     "output_type": "stream",
     "text": [
      "\n",
      "_________________________________________________________________________________________________________________________\n",
      "Mesaje de la API de Facebook-> \n",
      " {'object': 'page', 'entry': [{'id': '109253348089942', 'time': 1625688943879, 'messaging': [{'sender': {'id': '4418021788217066'}, 'recipient': {'id': '109253348089942'}, 'timestamp': 1625688943973, 'read': {'watermark': 1625688943475}}]}]}\n",
      "hilo consume\n",
      " [.] Got %r None\n"
     ]
    },
    {
     "name": "stderr",
     "output_type": "stream",
     "text": [
      "127.0.0.1 - - [07/Jul/2021 15:15:41] \"\u001b[37mPOST /apiREST/v1 HTTP/1.1\u001b[0m\" 200 -\n"
     ]
    },
    {
     "name": "stdout",
     "output_type": "stream",
     "text": [
      "\n",
      "_________________________________________________________________________________________________________________________\n",
      "Mesaje de la API de Facebook-> \n",
      " {'object': 'page', 'entry': [{'id': '109253348089942', 'time': 1625688944100, 'messaging': [{'sender': {'id': '4418021788217066'}, 'recipient': {'id': '109253348089942'}, 'timestamp': 1625688943920, 'message': {'mid': 'm_mdlllHn_cO8LiF_WKuaDox2FPwH8Pwqo_sZ9EWc0HzlYkBE3YpA6kS0N5VViSuB5uY0yBhawAzyHFbRoGhtwAg', 'text': 'Hola'}}]}]}\n",
      "[{'sender': {'id': '4418021788217066'}, 'recipient': {'id': '109253348089942'}, 'timestamp': 1625688943920, 'message': {'mid': 'm_mdlllHn_cO8LiF_WKuaDox2FPwH8Pwqo_sZ9EWc0HzlYkBE3YpA6kS0N5VViSuB5uY0yBhawAzyHFbRoGhtwAg', 'text': 'Hola'}}]\n",
      "hilo consume\n",
      "\n",
      "______________________________________________no read__________________________________________________________________________\n",
      "\n",
      "\t\tMensaje enviado al Nucleo Logico->\n",
      "  {\"payload\": {\"robot\": \"none\", \"id_face\": \"109253348089942\", \"recipient_id\": \"4418021788217066\", \"access_token\": \"none\", \"content\": \"Hola\", \"type_resp\": \"message\", \"state\": \"none\", \"blocktype\": \"none\", \"opciones\": \"none\", \"entities\": {}}}\n",
      "\n",
      "_________________________________________________________________________________________________________________________\n",
      "\t\t\n",
      "Respuesta del Nucleo Logico->  {'Respuesta': {'content': 'Hola soy bot2', 'next_id': 'Informativo | e61376a2-83b0-4ccd-90b2-0d3b8d9fc04b | 46973551-1467-4450-7433-103925931451 | XTHyJxz6aPUIFVONQdUE', 'blockType': 'informativo', 'contentType': 'text', 'typingTime': '1', 'payload': {'content': '', 'state': 'Informativo | d602e284-c054-4f7f-90b0-3d079f8908e4 | XTHyJxz6aPUIFVONQdUE', 'recipient_id': '4418021788217066', 'entities': {}, 'access_token': 'EAAFMtaIPwugBABaSyaEaQxCjZB05xZAs5fag2JZCZB9LcVSFPJtAjcu48PewIfljpztLDiWZCZAINUghHfyn85rSKQxPnfZAMZA3DScogyb4Q1cg91NEiEgVLhlsHJXakq9diPLuJtiRqZC8kCp4MfZCllTvoPR0Jad4B0r0JWp8foAffcrjKebrSp'}}}\n",
      "\n",
      "\n",
      "---------------------------------------------------------------------------\n",
      "mensaje enviado a la API de facebook:\n",
      " {'message': {'text': 'Hola soy bot2'}, 'recipient': {'id': '4418021788217066'}, 'notification_type': 'REGULAR'}\n",
      " [.] Got %r None\n"
     ]
    },
    {
     "name": "stderr",
     "output_type": "stream",
     "text": [
      "127.0.0.1 - - [07/Jul/2021 15:15:43] \"\u001b[37mPOST /apiREST/v1 HTTP/1.1\u001b[0m\" 200 -\n"
     ]
    },
    {
     "name": "stdout",
     "output_type": "stream",
     "text": [
      "\n",
      "_________________________________________________________________________________________________________________________\n",
      "Mesaje de la API de Facebook-> \n",
      " {'object': 'page', 'entry': [{'id': '109253348089942', 'time': 1625688946104, 'messaging': [{'sender': {'id': '4418021788217066'}, 'recipient': {'id': '109253348089942'}, 'timestamp': 1625688946150, 'delivery': {'mids': ['m_WmPvmBKbNf9pv50Jzt8mXB2FPwH8Pwqo_sZ9EWc0HzmMnmEMPUWN1AMd0sCA9gBvEMfYHzAnq2OQOChRkvQjQA'], 'watermark': 1625688945947}}]}]}\n",
      "\n",
      "_________________________________________________________________________________________________________________________\n",
      "Mesaje de la API de Facebook-> \n",
      " {'object': 'page', 'entry': [{'id': '109253348089942', 'time': 1625688946107, 'messaging': [{'sender': {'id': '109253348089942'}, 'recipient': {'id': '4418021788217066'}, 'timestamp': 1625688945947, 'message': {'mid': 'm_WmPvmBKbNf9pv50Jzt8mXB2FPwH8Pwqo_sZ9EWc0HzmMnmEMPUWN1AMd0sCA9gBvEMfYHzAnq2OQOChRkvQjQA', 'is_echo': True, 'text': 'Hola soy bot2', 'app_id': 365817968444136}}]}]}\n",
      "[{'sender': {'id': '109253348089942'}, 'recipient': {'id': '4418021788217066'}, 'timestamp': 1625688945947, 'message': {'mid': 'm_WmPvmBKbNf9pv50Jzt8mXB2FPwH8Pwqo_sZ9EWc0HzmMnmEMPUWN1AMd0sCA9gBvEMfYHzAnq2OQOChRkvQjQA', 'is_echo': True, 'text': 'Hola soy bot2', 'app_id': 365817968444136}}]\n",
      "\n",
      "_________________________________________________________________________________________________________________________\n",
      "Mesaje de la API de Facebook-> \n",
      " {'object': 'page', 'entry': [{'id': '109253348089942', 'time': 1625688946184, 'messaging': [{'sender': {'id': '4418021788217066'}, 'recipient': {'id': '109253348089942'}, 'timestamp': 1625688946309, 'read': {'watermark': 1625688946150}}]}]}\n",
      "hilo consume\n",
      "\n",
      "\n",
      "______________________________________________no read__________________________________________________________________________\n",
      "\t\tMensaje enviado al Nucleo Logico->\n",
      " "
     ]
    },
    {
     "name": "stderr",
     "output_type": "stream",
     "text": [
      "127.0.0.1 - - [07/Jul/2021 15:15:43] \"\u001b[37mPOST /apiREST/v1 HTTP/1.1\u001b[0m\" 200 -\n",
      "127.0.0.1 - - [07/Jul/2021 15:15:43] \"\u001b[37mPOST /apiREST/v1 HTTP/1.1\u001b[0m\" 200 -\n"
     ]
    },
    {
     "name": "stdout",
     "output_type": "stream",
     "text": [
      " {\"payload\": {\"robot\": \"none\", \"id_face\": \"109253348089942\", \"recipient_id\": \"109253348089942\", \"access_token\": \"none\", \"content\": \"Hola soy bot2\", \"type_resp\": \"message\", \"state\": \"none\", \"blocktype\": \"none\", \"opciones\": \"none\", \"entities\": {}}}\n",
      "hilo consume\n",
      "\n",
      "_________________________________________________________________________________________________________________________\n",
      "\t\t\n",
      "Respuesta del Nucleo Logico->  {'Respuesta': {'content': 'Hola soy bot2', 'next_id': 'Informativo | e61376a2-83b0-4ccd-90b2-0d3b8d9fc04b | 46973551-1467-4450-7433-103925931451 | XTHyJxz6aPUIFVONQdUE', 'blockType': 'informativo', 'contentType': 'text', 'typingTime': '1', 'payload': {'content': '', 'state': 'Informativo | d602e284-c054-4f7f-90b0-3d079f8908e4 | XTHyJxz6aPUIFVONQdUE', 'recipient_id': '109253348089942', 'entities': {}, 'access_token': 'EAAFMtaIPwugBABaSyaEaQxCjZB05xZAs5fag2JZCZB9LcVSFPJtAjcu48PewIfljpztLDiWZCZAINUghHfyn85rSKQxPnfZAMZA3DScogyb4Q1cg91NEiEgVLhlsHJXakq9diPLuJtiRqZC8kCp4MfZCllTvoPR0Jad4B0r0JWp8foAffcrjKebrSp'}}}\n",
      "\n",
      "\n",
      "---------------------------------------------------------------------------\n",
      "mensaje enviado a la API de facebook:\n",
      " {'message': {'text': 'Hola soy bot2'}, 'recipient': {'id': '109253348089942'}, 'notification_type': 'REGULAR'}\n",
      " [.] Got %r None\n",
      "\n",
      "_________________________________________________________________________________________________________________________\n",
      "\t\t\n",
      "Respuesta del Nucleo Logico->  {'Respuesta': {'content': 'Editando Bloque ', 'next_id': 'Carrusel | 16ad30d3-2b1e-433d-9f31-58de69dacffe | 46973551-1467-4450-7433-103925931451 | XTHyJxz6aPUIFVONQdUE', 'blockType': 'informativo', 'contentType': 'text', 'typingTime': '1', 'payload': {'content': '', 'state': 'Informativo | e61376a2-83b0-4ccd-90b2-0d3b8d9fc04b | 46973551-1467-4450-7433-103925931451 | XTHyJxz6aPUIFVONQdUE', 'recipient_id': '4418021788217066', 'entities': {}, 'access_token': 'EAAFMtaIPwugBABaSyaEaQxCjZB05xZAs5fag2JZCZB9LcVSFPJtAjcu48PewIfljpztLDiWZCZAINUghHfyn85rSKQxPnfZAMZA3DScogyb4Q1cg91NEiEgVLhlsHJXakq9diPLuJtiRqZC8kCp4MfZCllTvoPR0Jad4B0r0JWp8foAffcrjKebrSp'}}}\n",
      "\n",
      "\n",
      "---------------------------------------------------------------------------\n",
      "mensaje enviado a la API de facebook:\n",
      " {'message': {'text': 'Editando Bloque '}, 'recipient': {'id': '4418021788217066'}, 'notification_type': 'REGULAR'}\n",
      " [.] Got %r None\n"
     ]
    },
    {
     "name": "stderr",
     "output_type": "stream",
     "text": [
      "127.0.0.1 - - [07/Jul/2021 15:15:44] \"\u001b[37mPOST /apiREST/v1 HTTP/1.1\u001b[0m\" 200 -\n",
      "127.0.0.1 - - [07/Jul/2021 15:15:44] \"\u001b[37mPOST /apiREST/v1 HTTP/1.1\u001b[0m\" 200 -\n"
     ]
    },
    {
     "name": "stdout",
     "output_type": "stream",
     "text": [
      "\n",
      "_________________________________________________________________________________________________________________________\n",
      "Mesaje de la API de Facebook-> \n",
      " {'object': 'page', 'entry': [{'id': '109253348089942', 'time': 1625688947703, 'messaging': [{'sender': {'id': '4418021788217066'}, 'recipient': {'id': '109253348089942'}, 'timestamp': 1625688947739, 'delivery': {'mids': ['m_u8cndo9ETkvqMqgNEeyDsR2FPwH8Pwqo_sZ9EWc0Hzmp7IEjnAgWGdGGET1XVKMBl6Ap3fKVQCSvmT0j85I86Q'], 'watermark': 1625688947532}}]}]}\n",
      "\n",
      "_________________________________________________________________________________________________________________________\n",
      "Mesaje de la API de Facebook-> \n",
      " {'object': 'page', 'entry': [{'id': '109253348089942', 'time': 1625688947595, 'messaging': [{'sender': {'id': '109253348089942'}, 'recipient': {'id': '4418021788217066'}, 'timestamp': 1625688947532, 'message': {'mid': 'm_u8cndo9ETkvqMqgNEeyDsR2FPwH8Pwqo_sZ9EWc0Hzmp7IEjnAgWGdGGET1XVKMBl6Ap3fKVQCSvmT0j85I86Q', 'is_echo': True, 'text': 'Editando Bloque', 'app_id': 365817968444136}}]}]}\n",
      "[{'sender': {'id': '109253348089942'}, 'recipient': {'id': '4418021788217066'}, 'timestamp': 1625688947532, 'message': {'mid': 'm_u8cndo9ETkvqMqgNEeyDsR2FPwH8Pwqo_sZ9EWc0Hzmp7IEjnAgWGdGGET1XVKMBl6Ap3fKVQCSvmT0j85I86Q', 'is_echo': True, 'text': 'Editando Bloque', 'app_id': 365817968444136}}]\n",
      "hilo consume\n",
      "\n",
      "______________________________________________no read__________________________________________________________________________\n",
      "\n",
      "\t\tMensaje enviado al Nucleo Logico->\n",
      "  {\"payload\": {\"robot\": \"none\", \"id_face\": \"109253348089942\", \"recipient_id\": \"109253348089942\", \"access_token\": \"none\", \"content\": \"Editando Bloque\", \"type_resp\": \"message\", \"state\": \"none\", \"blocktype\": \"none\", \"opciones\": \"none\", \"entities\": {}}}\n"
     ]
    },
    {
     "name": "stderr",
     "output_type": "stream",
     "text": [
      "127.0.0.1 - - [07/Jul/2021 15:15:45] \"\u001b[37mPOST /apiREST/v1 HTTP/1.1\u001b[0m\" 200 -\n"
     ]
    },
    {
     "name": "stdout",
     "output_type": "stream",
     "text": [
      "\n",
      "_________________________________________________________________________________________________________________________\n",
      "Mesaje de la API de Facebook-> \n",
      " {'object': 'page', 'entry': [{'id': '109253348089942', 'time': 1625688947781, 'messaging': [{'sender': {'id': '4418021788217066'}, 'recipient': {'id': '109253348089942'}, 'timestamp': 1625688947917, 'read': {'watermark': 1625688947744}}]}]}\n",
      "hilo consume\n",
      "\n",
      "_________________________________________________________________________________________________________________________\n",
      "\t\t\n",
      "Respuesta del Nucleo Logico->  {'Respuesta': {'content': 'Hola soy bot2', 'next_id': 'Informativo | e61376a2-83b0-4ccd-90b2-0d3b8d9fc04b | 46973551-1467-4450-7433-103925931451 | XTHyJxz6aPUIFVONQdUE', 'blockType': 'informativo', 'contentType': 'text', 'typingTime': '1', 'payload': {'content': '', 'state': 'Informativo | d602e284-c054-4f7f-90b0-3d079f8908e4 | XTHyJxz6aPUIFVONQdUE', 'recipient_id': '109253348089942', 'entities': {}, 'access_token': 'EAAFMtaIPwugBABaSyaEaQxCjZB05xZAs5fag2JZCZB9LcVSFPJtAjcu48PewIfljpztLDiWZCZAINUghHfyn85rSKQxPnfZAMZA3DScogyb4Q1cg91NEiEgVLhlsHJXakq9diPLuJtiRqZC8kCp4MfZCllTvoPR0Jad4B0r0JWp8foAffcrjKebrSp'}}}\n",
      "\n",
      "\n",
      "---------------------------------------------------------------------------\n",
      "mensaje enviado a la API de facebook:\n",
      " {'message': {'text': 'Hola soy bot2'}, 'recipient': {'id': '109253348089942'}, 'notification_type': 'REGULAR'}\n",
      " [.] Got %r None\n",
      "\n",
      "_________________________________________________________________________________________________________________________\n",
      "\t\t\n",
      "Respuesta del Nucleo Logico->  {'Respuesta': {'content': [{'title': 'P1', 'image_url': 'https://analyticsindiamag.com/wp-content/uploads/2020/10/7d744a684fe03ebc7e8de545f97739dd.jpg', 'subtitle': 'S1', 'buttons': [{'titleButton': 'www.github.com', 'typeButton': 'web_url', 'urlButton': 'www.github.com'}, {'titleButton': 'Op', 'typeButton': 'postback', 'payloadButton': 'Informativo | 38f82c6d-a32e-4687-ae19-71aebb228e68 | XTHyJxz6aPUIFVONQdUE'}]}], 'next_id': ['www.github.com', 'Informativo | 38f82c6d-a32e-4687-ae19-71aebb228e68 | XTHyJxz6aPUIFVONQdUE'], 'blockType': 'slide', 'contentType': ' ', 'typingTime': 1, 'payload': {'content': '', 'state': 'Carrusel | 16ad30d3-2b1e-433d-9f31-58de69dacffe | 46973551-1467-4450-7433-103925931451 | XTHyJxz6aPUIFVONQdUE', 'recipient_id': '4418021788217066', 'entities': {}, 'access_token': 'EAAFMtaIPwugBABaSyaEaQxCjZB05xZAs5fag2JZCZB9LcVSFPJtAjcu48PewIfljpztLDiWZCZAINUghHfyn85rSKQxPnfZAMZA3DScogyb4Q1cg91NEiEgVLhlsHJXakq9diPLuJtiRqZC8kCp4MfZCllTvoPR0Jad4B0r0JWp8foAffcrjKebrSp'}, 'default_id': 'Carrusel | 16ad30d3-2b1e-433d-9f31-58de69dacffe | 46973551-1467-4450-7433-103925931451 | XTHyJxz6aPUIFVONQdUE', 'save_var': '0'}}\n",
      "pyload slide:  {'recipient': {'id': '4418021788217066'}, 'message': {'attachment': {'type': 'template', 'payload': {'template_type': 'generic', 'elements': [{'title': 'P1', 'image_url': 'https://analyticsindiamag.com/wp-content/uploads/2020/10/7d744a684fe03ebc7e8de545f97739dd.jpg', 'subtitle': 'S1', 'buttons': [{'title': 'www.github.com', 'type': 'web_url', 'url': 'www.github.com'}, {'title': 'Op', 'type': 'postback', 'payload': 'Informativo | 38f82c6d-a32e-4687-ae19-71aebb228e68 | XTHyJxz6aPUIFVONQdUE'}]}]}}}, 'notification_type': 'REGULAR'}\n",
      "\n",
      "\n",
      "---------------------------------------------------------------------------\n",
      "mensaje enviado a la API de facebook:\n",
      " {'recipient': {'id': '4418021788217066'}, 'message': {'attachment': {'type': 'template', 'payload': {'template_type': 'generic', 'elements': [{'title': 'P1', 'image_url': 'https://analyticsindiamag.com/wp-content/uploads/2020/10/7d744a684fe03ebc7e8de545f97739dd.jpg', 'subtitle': 'S1', 'buttons': [{'title': 'www.github.com', 'type': 'web_url', 'url': 'www.github.com'}, {'title': 'Op', 'type': 'postback', 'payload': 'Informativo | 38f82c6d-a32e-4687-ae19-71aebb228e68 | XTHyJxz6aPUIFVONQdUE'}]}]}}}, 'notification_type': 'REGULAR'}\n",
      " [.] Got %r None\n"
     ]
    },
    {
     "name": "stderr",
     "output_type": "stream",
     "text": [
      "127.0.0.1 - - [07/Jul/2021 15:15:46] \"\u001b[37mPOST /apiREST/v1 HTTP/1.1\u001b[0m\" 200 -\n"
     ]
    },
    {
     "name": "stdout",
     "output_type": "stream",
     "text": [
      "\n",
      "_________________________________________________________________________________________________________________________\n",
      "Mesaje de la API de Facebook-> \n",
      " {'object': 'page', 'entry': [{'id': '109253348089942', 'time': 1625688949535, 'messaging': [{'sender': {'id': '4418021788217066'}, 'recipient': {'id': '109253348089942'}, 'timestamp': 1625688949586, 'delivery': {'mids': ['m_8QVmlrEnheXRMECp5HpH8R2FPwH8Pwqo_sZ9EWc0HzmHGb1mJ0XLazptrZRuuv6Zs6BDufgjVH3yzwoxU155ng'], 'watermark': 1625688949343}}]}]}\n",
      "\n",
      "_________________________________________________________________________________________________________________________\n",
      "Mesaje de la API de Facebook-> \n",
      " {'object': 'page', 'entry': [{'id': '109253348089942', 'time': 1625688949422, 'messaging': [{'sender': {'id': '109253348089942'}, 'recipient': {'id': '4418021788217066'}, 'timestamp': 1625688949343, 'message': {'mid': 'm_8QVmlrEnheXRMECp5HpH8R2FPwH8Pwqo_sZ9EWc0HzmHGb1mJ0XLazptrZRuuv6Zs6BDufgjVH3yzwoxU155ng', 'is_echo': True, 'app_id': 365817968444136, 'attachments': [{'title': 'P1', 'url': None, 'type': 'template', 'payload': {'template_type': 'generic', 'sharable': False, 'elements': [{'title': 'P1', 'image_url': 'https://analyticsindiamag.com/wp-content/uploads/2020/10/7d744a684fe03ebc7e8de545f97739dd.jpg', 'subtitle': 'S1', 'buttons': [{'type': 'web_url', 'url': 'http://www.github.com/', 'title': 'www.github.com'}, {'type': 'postback', 'title': 'Op', 'payload': 'Informativo | 38f82c6d-a32e-4687-ae19-71aebb228e68 | XTHyJxz6aPUIFVONQdUE'}]}]}}]}}]}]}\n",
      "[{'sender': {'id': '109253348089942'}, 'recipient': {'id': '4418021788217066'}, 'timestamp': 1625688949343, 'message': {'mid': 'm_8QVmlrEnheXRMECp5HpH8R2FPwH8Pwqo_sZ9EWc0HzmHGb1mJ0XLazptrZRuuv6Zs6BDufgjVH3yzwoxU155ng', 'is_echo': True, 'app_id': 365817968444136, 'attachments': [{'title': 'P1', 'url': None, 'type': 'template', 'payload': {'template_type': 'generic', 'sharable': False, 'elements': [{'title': 'P1', 'image_url': 'https://analyticsindiamag.com/wp-content/uploads/2020/10/7d744a684fe03ebc7e8de545f97739dd.jpg', 'subtitle': 'S1', 'buttons': [{'type': 'web_url', 'url': 'http://www.github.com/', 'title': 'www.github.com'}, {'type': 'postback', 'title': 'Op', 'payload': 'Informativo | 38f82c6d-a32e-4687-ae19-71aebb228e68 | XTHyJxz6aPUIFVONQdUE'}]}]}}]}}]\n"
     ]
    },
    {
     "name": "stderr",
     "output_type": "stream",
     "text": [
      "127.0.0.1 - - [07/Jul/2021 15:15:46] \"\u001b[37mPOST /apiREST/v1 HTTP/1.1\u001b[0m\" 200 -\n",
      "127.0.0.1 - - [07/Jul/2021 15:15:46] \"\u001b[37mPOST /apiREST/v1 HTTP/1.1\u001b[0m\" 200 -\n"
     ]
    },
    {
     "name": "stdout",
     "output_type": "stream",
     "text": [
      "hilo consume\n",
      "\n",
      "______________________________________________no read__________________________________________________________________________\n",
      "\n",
      "\t\tMensaje enviado al Nucleo Logico->\n",
      "  {\"payload\": {\"robot\": \"none\", \"id_face\": \"109253348089942\", \"recipient_id\": \"109253348089942\", \"access_token\": \"none\", \"content\": [{\"title\": \"P1\", \"url\": null, \"type\": \"template\", \"payload\": {\"template_type\": \"generic\", \"sharable\": false, \"elements\": [{\"title\": \"P1\", \"image_url\": \"https://analyticsindiamag.com/wp-content/uploads/2020/10/7d744a684fe03ebc7e8de545f97739dd.jpg\", \"subtitle\": \"S1\", \"buttons\": [{\"type\": \"web_url\", \"url\": \"http://www.github.com/\", \"title\": \"www.github.com\"}, {\"type\": \"postback\", \"title\": \"Op\", \"payload\": \"Informativo | 38f82c6d-a32e-4687-ae19-71aebb228e68 | XTHyJxz6aPUIFVONQdUE\"}]}]}}], \"type_resp\": \"message\", \"state\": \"none\", \"blocktype\": \"none\", \"opciones\": \"none\", \"entities\": {}}}\n",
      "\n",
      "_________________________________________________________________________________________________________________________\n",
      "Mesaje de la API de Facebook-> \n",
      " {'object': 'page', 'entry': [{'id': '109253348089942', 'time': 1625688949625, 'messaging': [{'sender': {'id': '4418021788217066'}, 'recipient': {'id': '109253348089942'}, 'timestamp': 1625688949778, 'read': {'watermark': 1625688949586}}]}]}\n",
      "hilo consume\n",
      "\n",
      "_________________________________________________________________________________________________________________________\n",
      "\t\t\n",
      "Respuesta del Nucleo Logico->  {'Respuesta': {'content': 'Hola soy bot2', 'next_id': 'Informativo | e61376a2-83b0-4ccd-90b2-0d3b8d9fc04b | 46973551-1467-4450-7433-103925931451 | XTHyJxz6aPUIFVONQdUE', 'blockType': 'informativo', 'contentType': 'text', 'typingTime': '1', 'payload': {'content': '', 'state': 'Informativo | d602e284-c054-4f7f-90b0-3d079f8908e4 | XTHyJxz6aPUIFVONQdUE', 'recipient_id': '109253348089942', 'entities': {}, 'access_token': 'EAAFMtaIPwugBABaSyaEaQxCjZB05xZAs5fag2JZCZB9LcVSFPJtAjcu48PewIfljpztLDiWZCZAINUghHfyn85rSKQxPnfZAMZA3DScogyb4Q1cg91NEiEgVLhlsHJXakq9diPLuJtiRqZC8kCp4MfZCllTvoPR0Jad4B0r0JWp8foAffcrjKebrSp'}}}\n",
      " [.] Got %r None\n",
      "\n",
      "\n",
      "---------------------------------------------------------------------------\n",
      "mensaje enviado a la API de facebook:\n",
      " {'message': {'text': 'Hola soy bot2'}, 'recipient': {'id': '109253348089942'}, 'notification_type': 'REGULAR'}\n",
      " [.] Got %r None\n"
     ]
    },
    {
     "name": "stderr",
     "output_type": "stream",
     "text": [
      "127.0.0.1 - - [07/Jul/2021 15:16:33] \"\u001b[37mPOST /apiREST/v1 HTTP/1.1\u001b[0m\" 200 -\n"
     ]
    },
    {
     "name": "stdout",
     "output_type": "stream",
     "text": [
      "\n",
      "_________________________________________________________________________________________________________________________\n",
      "Mesaje de la API de Facebook-> \n",
      " {'object': 'page', 'entry': [{'id': '109253348089942', 'time': 1625688996035, 'messaging': [{'sender': {'id': '4418021788217066'}, 'recipient': {'id': '109253348089942'}, 'timestamp': 1625688996144, 'read': {'watermark': 1625688995644}}]}]}\n",
      "hilo consume\n",
      " [.] Got %r None\n",
      "\n",
      "_________________________________________________________________________________________________________________________\n",
      "Mesaje de la API de Facebook-> \n",
      " {'object': 'page', 'entry': [{'id': '109253348089942', 'time': 1625688996232, 'messaging': [{'sender': {'id': '4418021788217066'}, 'recipient': {'id': '109253348089942'}, 'timestamp': 1625688996080, 'message': {'mid': 'm_MfM0mxl7Y5WsJryjlSFCwx2FPwH8Pwqo_sZ9EWc0HzlXDrm8VjO2vEn-V4Nb7AwMgpdxbLIo8AB3nyQQFd7LBA', 'text': 'Hola'}}]}]}\n",
      "[{'sender': {'id': '4418021788217066'}, 'recipient': {'id': '109253348089942'}, 'timestamp': 1625688996080, 'message': {'mid': 'm_MfM0mxl7Y5WsJryjlSFCwx2FPwH8Pwqo_sZ9EWc0HzlXDrm8VjO2vEn-V4Nb7AwMgpdxbLIo8AB3nyQQFd7LBA', 'text': 'Hola'}}]\n"
     ]
    },
    {
     "name": "stderr",
     "output_type": "stream",
     "text": [
      "127.0.0.1 - - [07/Jul/2021 15:16:33] \"\u001b[37mPOST /apiREST/v1 HTTP/1.1\u001b[0m\" 200 -\n"
     ]
    },
    {
     "name": "stdout",
     "output_type": "stream",
     "text": [
      "hilo consume\n",
      "\n",
      "\n",
      "______________________________________________no read__________________________________________________________________________\n",
      "\t\tMensaje enviado al Nucleo Logico->\n",
      "  {\"payload\": {\"robot\": \"none\", \"id_face\": \"109253348089942\", \"recipient_id\": \"4418021788217066\", \"access_token\": \"none\", \"content\": \"Hola\", \"type_resp\": \"message\", \"state\": \"none\", \"blocktype\": \"none\", \"opciones\": \"none\", \"entities\": {}}}\n",
      "\n",
      "_________________________________________________________________________________________________________________________\n",
      "\t\t\n",
      "Respuesta del Nucleo Logico->  {'Respuesta': {'content': 'Hola soy bot2', 'next_id': 'Informativo | e61376a2-83b0-4ccd-90b2-0d3b8d9fc04b | 46973551-1467-4450-7433-103925931451 | XTHyJxz6aPUIFVONQdUE', 'blockType': 'informativo', 'contentType': 'text', 'typingTime': '1', 'payload': {'content': '', 'state': 'Informativo | d602e284-c054-4f7f-90b0-3d079f8908e4 | XTHyJxz6aPUIFVONQdUE', 'recipient_id': '4418021788217066', 'entities': {}, 'access_token': 'EAAFMtaIPwugBABaSyaEaQxCjZB05xZAs5fag2JZCZB9LcVSFPJtAjcu48PewIfljpztLDiWZCZAINUghHfyn85rSKQxPnfZAMZA3DScogyb4Q1cg91NEiEgVLhlsHJXakq9diPLuJtiRqZC8kCp4MfZCllTvoPR0Jad4B0r0JWp8foAffcrjKebrSp'}}}\n",
      "\n",
      "\n",
      "---------------------------------------------------------------------------\n",
      "mensaje enviado a la API de facebook:\n",
      " {'message': {'text': 'Hola soy bot2'}, 'recipient': {'id': '4418021788217066'}, 'notification_type': 'REGULAR'}\n",
      " [.] Got %r None\n"
     ]
    },
    {
     "name": "stderr",
     "output_type": "stream",
     "text": [
      "127.0.0.1 - - [07/Jul/2021 15:16:34] \"\u001b[37mPOST /apiREST/v1 HTTP/1.1\u001b[0m\" 200 -\n",
      "127.0.0.1 - - [07/Jul/2021 15:16:34] \"\u001b[37mPOST /apiREST/v1 HTTP/1.1\u001b[0m\" 200 -\n",
      "127.0.0.1 - - [07/Jul/2021 15:16:34] \"\u001b[37mPOST /apiREST/v1 HTTP/1.1\u001b[0m\" 200 -\n"
     ]
    },
    {
     "name": "stdout",
     "output_type": "stream",
     "text": [
      "\n",
      "_________________________________________________________________________________________________________________________\n",
      "Mesaje de la API de Facebook-> \n",
      " {'object': 'page', 'entry': [{'id': '109253348089942', 'time': 1625688997492, 'messaging': [{'sender': {'id': '4418021788217066'}, 'recipient': {'id': '109253348089942'}, 'timestamp': 1625688997538, 'delivery': {'mids': ['m_nV0Mj_WTIA3ESRFDSqZctx2FPwH8Pwqo_sZ9EWc0Hzn8GSR94zYAT3NAT60sF7x74rid8_VE-d4S3gXHMQCJSA'], 'watermark': 1625688997356}}]}]}\n",
      "\n",
      "_________________________________________________________________________________________________________________________\n",
      "Mesaje de la API de Facebook-> \n",
      " {'object': 'page', 'entry': [{'id': '109253348089942', 'time': 1625688997442, 'messaging': [{'sender': {'id': '109253348089942'}, 'recipient': {'id': '4418021788217066'}, 'timestamp': 1625688997356, 'message': {'mid': 'm_nV0Mj_WTIA3ESRFDSqZctx2FPwH8Pwqo_sZ9EWc0Hzn8GSR94zYAT3NAT60sF7x74rid8_VE-d4S3gXHMQCJSA', 'is_echo': True, 'text': 'Hola soy bot2', 'app_id': 365817968444136}}]}]}\n",
      "[{'sender': {'id': '109253348089942'}, 'recipient': {'id': '4418021788217066'}, 'timestamp': 1625688997356, 'message': {'mid': 'm_nV0Mj_WTIA3ESRFDSqZctx2FPwH8Pwqo_sZ9EWc0Hzn8GSR94zYAT3NAT60sF7x74rid8_VE-d4S3gXHMQCJSA', 'is_echo': True, 'text': 'Hola soy bot2', 'app_id': 365817968444136}}]\n",
      "hilo consume\n",
      "\n",
      "______________________________________________no read__________________________________________________________________________\n",
      "\n",
      "\t\tMensaje enviado al Nucleo Logico->\n",
      "  {\"payload\": {\"robot\": \"none\", \"id_face\": \"109253348089942\", \"recipient_id\": \"109253348089942\", \"access_token\": \"none\", \"content\": \"Hola soy bot2\", \"type_resp\": \"message\", \"state\": \"none\", \"blocktype\": \"none\", \"opciones\": \"none\", \"entities\": {}}}\n",
      "\n",
      "_________________________________________________________________________________________________________________________\n",
      "Mesaje de la API de Facebook-> \n",
      " {'object': 'page', 'entry': [{'id': '109253348089942', 'time': 1625688997538, 'messaging': [{'sender': {'id': '4418021788217066'}, 'recipient': {'id': '109253348089942'}, 'timestamp': 1625688997688, 'read': {'watermark': 1625688997520}}]}]}\n",
      "hilo consume\n",
      "\n",
      "_________________________________________________________________________________________________________________________\n",
      "\t\t\n",
      "Respuesta del Nucleo Logico->  {'Respuesta': {'content': 'Hola soy bot2', 'next_id': 'Informativo | e61376a2-83b0-4ccd-90b2-0d3b8d9fc04b | 46973551-1467-4450-7433-103925931451 | XTHyJxz6aPUIFVONQdUE', 'blockType': 'informativo', 'contentType': 'text', 'typingTime': '1', 'payload': {'content': '', 'state': 'Informativo | d602e284-c054-4f7f-90b0-3d079f8908e4 | XTHyJxz6aPUIFVONQdUE', 'recipient_id': '109253348089942', 'entities': {}, 'access_token': 'EAAFMtaIPwugBABaSyaEaQxCjZB05xZAs5fag2JZCZB9LcVSFPJtAjcu48PewIfljpztLDiWZCZAINUghHfyn85rSKQxPnfZAMZA3DScogyb4Q1cg91NEiEgVLhlsHJXakq9diPLuJtiRqZC8kCp4MfZCllTvoPR0Jad4B0r0JWp8foAffcrjKebrSp'}}}\n",
      "\n",
      "\n",
      "---------------------------------------------------------------------------\n",
      "mensaje enviado a la API de facebook:\n",
      " {'message': {'text': 'Hola soy bot2'}, 'recipient': {'id': '109253348089942'}, 'notification_type': 'REGULAR'}\n",
      " [.] Got %r None\n",
      "\n",
      "_________________________________________________________________________________________________________________________\n",
      "\t\t\n",
      "Respuesta del Nucleo Logico->  {'Respuesta': {'content': 'Editando Bloque ', 'next_id': 'Carrusel | 16ad30d3-2b1e-433d-9f31-58de69dacffe | 46973551-1467-4450-7433-103925931451 | XTHyJxz6aPUIFVONQdUE', 'blockType': 'informativo', 'contentType': 'text', 'typingTime': '1', 'payload': {'content': '', 'state': 'Informativo | e61376a2-83b0-4ccd-90b2-0d3b8d9fc04b | 46973551-1467-4450-7433-103925931451 | XTHyJxz6aPUIFVONQdUE', 'recipient_id': '4418021788217066', 'entities': {}, 'access_token': 'EAAFMtaIPwugBABaSyaEaQxCjZB05xZAs5fag2JZCZB9LcVSFPJtAjcu48PewIfljpztLDiWZCZAINUghHfyn85rSKQxPnfZAMZA3DScogyb4Q1cg91NEiEgVLhlsHJXakq9diPLuJtiRqZC8kCp4MfZCllTvoPR0Jad4B0r0JWp8foAffcrjKebrSp'}}}\n",
      "\n",
      "\n",
      "---------------------------------------------------------------------------\n",
      "mensaje enviado a la API de facebook:\n",
      " {'message': {'text': 'Editando Bloque '}, 'recipient': {'id': '4418021788217066'}, 'notification_type': 'REGULAR'}\n",
      " [.] Got %r None\n",
      "\n",
      "_________________________________________________________________________________________________________________________\n",
      "Mesaje de la API de Facebook-> \n"
     ]
    },
    {
     "name": "stderr",
     "output_type": "stream",
     "text": [
      "127.0.0.1 - - [07/Jul/2021 15:16:36] \"\u001b[37mPOST /apiREST/v1 HTTP/1.1\u001b[0m\" 200 -\n",
      "127.0.0.1 - - [07/Jul/2021 15:16:36] \"\u001b[37mPOST /apiREST/v1 HTTP/1.1\u001b[0m\" 200 -\n"
     ]
    },
    {
     "name": "stdout",
     "output_type": "stream",
     "text": [
      " {'object': 'page', 'entry': [{'id': '109253348089942', 'time': 1625688999047, 'messaging': [{'sender': {'id': '4418021788217066'}, 'recipient': {'id': '109253348089942'}, 'timestamp': 1625688999085, 'delivery': {'mids': ['m_-DNrRrRAAWgqQY2oheYboB2FPwH8Pwqo_sZ9EWc0Hzn9q8SbL4S66gFNx5LsXALIDaQn8wM8qlGHjDji1vkHfQ'], 'watermark': 1625688998908}}]}]}\n",
      "\n",
      "_________________________________________________________________________________________________________________________\n",
      "Mesaje de la API de Facebook-> \n",
      " {'object': 'page', 'entry': [{'id': '109253348089942', 'time': 1625688998959, 'messaging': [{'sender': {'id': '109253348089942'}, 'recipient': {'id': '4418021788217066'}, 'timestamp': 1625688998908, 'message': {'mid': 'm_-DNrRrRAAWgqQY2oheYboB2FPwH8Pwqo_sZ9EWc0Hzn9q8SbL4S66gFNx5LsXALIDaQn8wM8qlGHjDji1vkHfQ', 'is_echo': True, 'text': 'Editando Bloque', 'app_id': 365817968444136}}]}]}\n",
      "[{'sender': {'id': '109253348089942'}, 'recipient': {'id': '4418021788217066'}, 'timestamp': 1625688998908, 'message': {'mid': 'm_-DNrRrRAAWgqQY2oheYboB2FPwH8Pwqo_sZ9EWc0Hzn9q8SbL4S66gFNx5LsXALIDaQn8wM8qlGHjDji1vkHfQ', 'is_echo': True, 'text': 'Editando Bloque', 'app_id': 365817968444136}}]\n",
      "hilo consume\n",
      "\n",
      "______________________________________________no read__________________________________________________________________________\n",
      "\n",
      "\t\tMensaje enviado al Nucleo Logico->\n",
      "  {\"payload\": {\"robot\": \"none\", \"id_face\": \"109253348089942\", \"recipient_id\": \"109253348089942\", \"access_token\": \"none\", \"content\": \"Editando Bloque\", \"type_resp\": \"message\", \"state\": \"none\", \"blocktype\": \"none\", \"opciones\": \"none\", \"entities\": {}}}\n"
     ]
    },
    {
     "name": "stderr",
     "output_type": "stream",
     "text": [
      "127.0.0.1 - - [07/Jul/2021 15:16:36] \"\u001b[37mPOST /apiREST/v1 HTTP/1.1\u001b[0m\" 200 -\n"
     ]
    },
    {
     "name": "stdout",
     "output_type": "stream",
     "text": [
      "\n",
      "_________________________________________________________________________________________________________________________\n",
      "Mesaje de la API de Facebook-> \n",
      " {'object': 'page', 'entry': [{'id': '109253348089942', 'time': 1625688999134, 'messaging': [{'sender': {'id': '4418021788217066'}, 'recipient': {'id': '109253348089942'}, 'timestamp': 1625688999288, 'read': {'watermark': 1625688999087}}]}]}\n",
      "hilo consume\n",
      "\n",
      "_________________________________________________________________________________________________________________________\n",
      "\t\t\n",
      "Respuesta del Nucleo Logico->  {'Respuesta': {'content': 'Hola soy bot2', 'next_id': 'Informativo | e61376a2-83b0-4ccd-90b2-0d3b8d9fc04b | 46973551-1467-4450-7433-103925931451 | XTHyJxz6aPUIFVONQdUE', 'blockType': 'informativo', 'contentType': 'text', 'typingTime': '1', 'payload': {'content': '', 'state': 'Informativo | d602e284-c054-4f7f-90b0-3d079f8908e4 | XTHyJxz6aPUIFVONQdUE', 'recipient_id': '109253348089942', 'entities': {}, 'access_token': 'EAAFMtaIPwugBABaSyaEaQxCjZB05xZAs5fag2JZCZB9LcVSFPJtAjcu48PewIfljpztLDiWZCZAINUghHfyn85rSKQxPnfZAMZA3DScogyb4Q1cg91NEiEgVLhlsHJXakq9diPLuJtiRqZC8kCp4MfZCllTvoPR0Jad4B0r0JWp8foAffcrjKebrSp'}}}\n",
      "\n",
      "\n",
      "---------------------------------------------------------------------------\n",
      "mensaje enviado a la API de facebook:\n",
      " {'message': {'text': 'Hola soy bot2'}, 'recipient': {'id': '109253348089942'}, 'notification_type': 'REGULAR'}\n",
      " [.] Got %r None\n",
      "\n",
      "_________________________________________________________________________________________________________________________\n",
      "\t\t\n",
      "Respuesta del Nucleo Logico->  {'Respuesta': {'content': [{'title': 'P1', 'image_url': 'https://analyticsindiamag.com/wp-content/uploads/2020/10/7d744a684fe03ebc7e8de545f97739dd.jpg', 'subtitle': 'S1', 'buttons': [{'titleButton': 'www.github.com', 'typeButton': 'web_url', 'urlButton': 'www.github.com'}, {'titleButton': 'Op', 'typeButton': 'postback', 'payloadButton': 'Informativo | 38f82c6d-a32e-4687-ae19-71aebb228e68 | XTHyJxz6aPUIFVONQdUE'}]}], 'next_id': ['www.github.com', 'Informativo | 38f82c6d-a32e-4687-ae19-71aebb228e68 | XTHyJxz6aPUIFVONQdUE'], 'blockType': 'slide', 'contentType': ' ', 'typingTime': 1, 'payload': {'content': '', 'state': 'Carrusel | 16ad30d3-2b1e-433d-9f31-58de69dacffe | 46973551-1467-4450-7433-103925931451 | XTHyJxz6aPUIFVONQdUE', 'recipient_id': '4418021788217066', 'entities': {}, 'access_token': 'EAAFMtaIPwugBABaSyaEaQxCjZB05xZAs5fag2JZCZB9LcVSFPJtAjcu48PewIfljpztLDiWZCZAINUghHfyn85rSKQxPnfZAMZA3DScogyb4Q1cg91NEiEgVLhlsHJXakq9diPLuJtiRqZC8kCp4MfZCllTvoPR0Jad4B0r0JWp8foAffcrjKebrSp'}, 'default_id': 'Carrusel | 16ad30d3-2b1e-433d-9f31-58de69dacffe | 46973551-1467-4450-7433-103925931451 | XTHyJxz6aPUIFVONQdUE', 'save_var': '0'}}\n",
      "pyload slide:  {'recipient': {'id': '4418021788217066'}, 'message': {'attachment': {'type': 'template', 'payload': {'template_type': 'generic', 'elements': [{'title': 'P1', 'image_url': 'https://analyticsindiamag.com/wp-content/uploads/2020/10/7d744a684fe03ebc7e8de545f97739dd.jpg', 'subtitle': 'S1', 'buttons': [{'title': 'www.github.com', 'type': 'web_url', 'url': 'www.github.com'}, {'title': 'Op', 'type': 'postback', 'payload': 'Informativo | 38f82c6d-a32e-4687-ae19-71aebb228e68 | XTHyJxz6aPUIFVONQdUE'}]}]}}}, 'notification_type': 'REGULAR'}\n",
      "\n",
      "\n",
      "---------------------------------------------------------------------------\n",
      "mensaje enviado a la API de facebook:\n",
      " {'recipient': {'id': '4418021788217066'}, 'message': {'attachment': {'type': 'template', 'payload': {'template_type': 'generic', 'elements': [{'title': 'P1', 'image_url': 'https://analyticsindiamag.com/wp-content/uploads/2020/10/7d744a684fe03ebc7e8de545f97739dd.jpg', 'subtitle': 'S1', 'buttons': [{'title': 'www.github.com', 'type': 'web_url', 'url': 'www.github.com'}, {'title': 'Op', 'type': 'postback', 'payload': 'Informativo | 38f82c6d-a32e-4687-ae19-71aebb228e68 | XTHyJxz6aPUIFVONQdUE'}]}]}}}, 'notification_type': 'REGULAR'}\n",
      " [.] Got %r None\n"
     ]
    },
    {
     "name": "stderr",
     "output_type": "stream",
     "text": [
      "127.0.0.1 - - [07/Jul/2021 15:16:37] \"\u001b[37mPOST /apiREST/v1 HTTP/1.1\u001b[0m\" 200 -\n",
      "127.0.0.1 - - [07/Jul/2021 15:16:38] \"\u001b[37mPOST /apiREST/v1 HTTP/1.1\u001b[0m\" 200 -\n"
     ]
    },
    {
     "name": "stdout",
     "output_type": "stream",
     "text": [
      "\n",
      "_________________________________________________________________________________________________________________________\n",
      "Mesaje de la API de Facebook-> \n",
      " {'object': 'page', 'entry': [{'id': '109253348089942', 'time': 1625689000891, 'messaging': [{'sender': {'id': '4418021788217066'}, 'recipient': {'id': '109253348089942'}, 'timestamp': 1625689000933, 'delivery': {'mids': ['m_PdvJWcGDEH0Zse5cfMBMFR2FPwH8Pwqo_sZ9EWc0HzkT_RYfqF5FjxS7PuAqyybxdWlHSk8VYMeEM2akvIsZqg'], 'watermark': 1625689000734}}]}]}\n",
      "\n",
      "_________________________________________________________________________________________________________________________\n",
      "Mesaje de la API de Facebook-> \n",
      " {'object': 'page', 'entry': [{'id': '109253348089942', 'time': 1625689000803, 'messaging': [{'sender': {'id': '109253348089942'}, 'recipient': {'id': '4418021788217066'}, 'timestamp': 1625689000734, 'message': {'mid': 'm_PdvJWcGDEH0Zse5cfMBMFR2FPwH8Pwqo_sZ9EWc0HzkT_RYfqF5FjxS7PuAqyybxdWlHSk8VYMeEM2akvIsZqg', 'is_echo': True, 'app_id': 365817968444136, 'attachments': [{'title': 'P1', 'url': None, 'type': 'template', 'payload': {'template_type': 'generic', 'sharable': False, 'elements': [{'title': 'P1', 'image_url': 'https://analyticsindiamag.com/wp-content/uploads/2020/10/7d744a684fe03ebc7e8de545f97739dd.jpg', 'subtitle': 'S1', 'buttons': [{'type': 'web_url', 'url': 'http://www.github.com/', 'title': 'www.github.com'}, {'type': 'postback', 'title': 'Op', 'payload': 'Informativo | 38f82c6d-a32e-4687-ae19-71aebb228e68 | XTHyJxz6aPUIFVONQdUE'}]}]}}]}}]}]}\n",
      "[{'sender': {'id': '109253348089942'}, 'recipient': {'id': '4418021788217066'}, 'timestamp': 1625689000734, 'message': {'mid': 'm_PdvJWcGDEH0Zse5cfMBMFR2FPwH8Pwqo_sZ9EWc0HzkT_RYfqF5FjxS7PuAqyybxdWlHSk8VYMeEM2akvIsZqg', 'is_echo': True, 'app_id': 365817968444136, 'attachments': [{'title': 'P1', 'url': None, 'type': 'template', 'payload': {'template_type': 'generic', 'sharable': False, 'elements': [{'title': 'P1', 'image_url': 'https://analyticsindiamag.com/wp-content/uploads/2020/10/7d744a684fe03ebc7e8de545f97739dd.jpg', 'subtitle': 'S1', 'buttons': [{'type': 'web_url', 'url': 'http://www.github.com/', 'title': 'www.github.com'}, {'type': 'postback', 'title': 'Op', 'payload': 'Informativo | 38f82c6d-a32e-4687-ae19-71aebb228e68 | XTHyJxz6aPUIFVONQdUE'}]}]}}]}}]\n",
      "hilo consume\n",
      "\n",
      "______________________________________________no read__________________________________________________________________________\n",
      "\n",
      "\t\tMensaje enviado al Nucleo Logico->\n",
      "  {\"payload\": {\"robot\": \"none\", \"id_face\": \"109253348089942\", \"recipient_id\": \"109253348089942\", \"access_token\": \"none\", \"content\": [{\"title\": \"P1\", \"url\": null, \"type\": \"template\", \"payload\": {\"template_type\": \"generic\", \"sharable\": false, \"elements\": [{\"title\": \"P1\", \"image_url\": \"https://analyticsindiamag.com/wp-content/uploads/2020/10/7d744a684fe03ebc7e8de545f97739dd.jpg\", \"subtitle\": \"S1\", \"buttons\": [{\"type\": \"web_url\", \"url\": \"http://www.github.com/\", \"title\": \"www.github.com\"}, {\"type\": \"postback\", \"title\": \"Op\", \"payload\": \"Informativo | 38f82c6d-a32e-4687-ae19-71aebb228e68 | XTHyJxz6aPUIFVONQdUE\"}]}]}}], \"type_resp\": \"message\", \"state\": \"none\", \"blocktype\": \"none\", \"opciones\": \"none\", \"entities\": {}}}\n"
     ]
    },
    {
     "name": "stderr",
     "output_type": "stream",
     "text": [
      "127.0.0.1 - - [07/Jul/2021 15:16:38] \"\u001b[37mPOST /apiREST/v1 HTTP/1.1\u001b[0m\" 200 -\n"
     ]
    },
    {
     "name": "stdout",
     "output_type": "stream",
     "text": [
      "\n",
      "_________________________________________________________________________________________________________________________\n",
      "Mesaje de la API de Facebook-> \n",
      " {'object': 'page', 'entry': [{'id': '109253348089942', 'time': 1625689000984, 'messaging': [{'sender': {'id': '4418021788217066'}, 'recipient': {'id': '109253348089942'}, 'timestamp': 1625689001230, 'read': {'watermark': 1625689000964}}]}]}\n",
      "hilo consume\n",
      "\n",
      "_________________________________________________________________________________________________________________________\n",
      "\t\t\n",
      "Respuesta del Nucleo Logico->  {'Respuesta': {'content': 'Hola soy bot2', 'next_id': 'Informativo | e61376a2-83b0-4ccd-90b2-0d3b8d9fc04b | 46973551-1467-4450-7433-103925931451 | XTHyJxz6aPUIFVONQdUE', 'blockType': 'informativo', 'contentType': 'text', 'typingTime': '1', 'payload': {'content': '', 'state': 'Informativo | d602e284-c054-4f7f-90b0-3d079f8908e4 | XTHyJxz6aPUIFVONQdUE', 'recipient_id': '109253348089942', 'entities': {}, 'access_token': 'EAAFMtaIPwugBABaSyaEaQxCjZB05xZAs5fag2JZCZB9LcVSFPJtAjcu48PewIfljpztLDiWZCZAINUghHfyn85rSKQxPnfZAMZA3DScogyb4Q1cg91NEiEgVLhlsHJXakq9diPLuJtiRqZC8kCp4MfZCllTvoPR0Jad4B0r0JWp8foAffcrjKebrSp'}}}\n",
      " [.] Got %r None\n",
      "\n",
      "\n",
      "---------------------------------------------------------------------------\n",
      "mensaje enviado a la API de facebook:\n",
      " {'message': {'text': 'Hola soy bot2'}, 'recipient': {'id': '109253348089942'}, 'notification_type': 'REGULAR'}\n",
      " [.] Got %r None\n"
     ]
    },
    {
     "name": "stderr",
     "output_type": "stream",
     "text": [
      "127.0.0.1 - - [07/Jul/2021 15:17:42] \"\u001b[37mPOST /apiREST/v1 HTTP/1.1\u001b[0m\" 200 -\n"
     ]
    },
    {
     "name": "stdout",
     "output_type": "stream",
     "text": [
      "\n",
      "_________________________________________________________________________________________________________________________\n",
      "Mesaje de la API de Facebook-> \n",
      " {'object': 'page', 'entry': [{'id': '109253348089942', 'time': 1625689065416, 'messaging': [{'sender': {'id': '4418021788217066'}, 'recipient': {'id': '109253348089942'}, 'timestamp': 1625689065517, 'read': {'watermark': 1625689065013}}]}]}\n",
      "hilo consume\n",
      " [.] Got %r None"
     ]
    },
    {
     "name": "stderr",
     "output_type": "stream",
     "text": [
      "127.0.0.1 - - [07/Jul/2021 15:17:42] \"\u001b[37mPOST /apiREST/v1 HTTP/1.1\u001b[0m\" 200 -\n"
     ]
    },
    {
     "name": "stdout",
     "output_type": "stream",
     "text": [
      "\n",
      "\n",
      "_________________________________________________________________________________________________________________________\n",
      "Mesaje de la API de Facebook-> \n",
      " {'object': 'page', 'entry': [{'id': '109253348089942', 'time': 1625689065629, 'messaging': [{'sender': {'id': '4418021788217066'}, 'recipient': {'id': '109253348089942'}, 'timestamp': 1625689065458, 'message': {'mid': 'm_1VXAUuuG1BdrgmGvrkq1eR2FPwH8Pwqo_sZ9EWc0HznOTCT2nm1kAnf0iytyl8_1asvQSp87QefE2jAjVfCEoA', 'text': 'Hola'}}]}]}\n",
      "[{'sender': {'id': '4418021788217066'}, 'recipient': {'id': '109253348089942'}, 'timestamp': 1625689065458, 'message': {'mid': 'm_1VXAUuuG1BdrgmGvrkq1eR2FPwH8Pwqo_sZ9EWc0HznOTCT2nm1kAnf0iytyl8_1asvQSp87QefE2jAjVfCEoA', 'text': 'Hola'}}]\n",
      "hilo consume\n",
      "\n",
      "______________________________________________no read__________________________________________________________________________\n",
      "\n",
      "\t\tMensaje enviado al Nucleo Logico->\n",
      "  {\"payload\": {\"robot\": \"none\", \"id_face\": \"109253348089942\", \"recipient_id\": \"4418021788217066\", \"access_token\": \"none\", \"content\": \"Hola\", \"type_resp\": \"message\", \"state\": \"none\", \"blocktype\": \"none\", \"opciones\": \"none\", \"entities\": {}}}\n",
      "\n",
      "_________________________________________________________________________________________________________________________\n",
      "\t\t\n",
      "Respuesta del Nucleo Logico->  {'Respuesta': {'content': 'Hola soy bot2', 'next_id': 'Informativo | e61376a2-83b0-4ccd-90b2-0d3b8d9fc04b | 46973551-1467-4450-7433-103925931451 | XTHyJxz6aPUIFVONQdUE', 'blockType': 'informativo', 'contentType': 'text', 'typingTime': '1', 'payload': {'content': '', 'state': 'Informativo | d602e284-c054-4f7f-90b0-3d079f8908e4 | XTHyJxz6aPUIFVONQdUE', 'recipient_id': '4418021788217066', 'entities': {}, 'access_token': 'EAAFMtaIPwugBABaSyaEaQxCjZB05xZAs5fag2JZCZB9LcVSFPJtAjcu48PewIfljpztLDiWZCZAINUghHfyn85rSKQxPnfZAMZA3DScogyb4Q1cg91NEiEgVLhlsHJXakq9diPLuJtiRqZC8kCp4MfZCllTvoPR0Jad4B0r0JWp8foAffcrjKebrSp'}}}\n",
      "\n",
      "\n",
      "---------------------------------------------------------------------------\n",
      "mensaje enviado a la API de facebook:\n",
      " {'message': {'text': 'Hola soy bot2'}, 'recipient': {'id': '4418021788217066'}, 'notification_type': 'REGULAR'}\n",
      " [.] Got %r None\n"
     ]
    },
    {
     "name": "stderr",
     "output_type": "stream",
     "text": [
      "127.0.0.1 - - [07/Jul/2021 15:17:44] \"\u001b[37mPOST /apiREST/v1 HTTP/1.1\u001b[0m\" 200 -\n",
      "127.0.0.1 - - [07/Jul/2021 15:17:44] \"\u001b[37mPOST /apiREST/v1 HTTP/1.1\u001b[0m\" 200 -\n",
      "127.0.0.1 - - [07/Jul/2021 15:17:44] \"\u001b[37mPOST /apiREST/v1 HTTP/1.1\u001b[0m\" 200 -\n"
     ]
    },
    {
     "name": "stdout",
     "output_type": "stream",
     "text": [
      "\n",
      "_________________________________________________________________________________________________________________________\n",
      "Mesaje de la API de Facebook-> \n",
      " \n",
      "_________________________________________________________________________________________________________________________\n",
      "Mesaje de la API de Facebook-> \n",
      "{'object': 'page', 'entry': [{'id': '109253348089942', 'time': 1625689066909, 'messaging': [{'sender': {'id': '4418021788217066'}, 'recipient': {'id': '109253348089942'}, 'timestamp': 1625689066951, 'delivery': {'mids': ['m_Tg8k1U1NfYWHHcQ_VxcMmh2FPwH8Pwqo_sZ9EWc0HzlpyJhBckeE8lMqeKwMpmTbamZi7PHJzPMFR_i_ld9uaw'], 'watermark': 1625689066756}}]}]}\n",
      " {'object': 'page', 'entry': [{'id': '109253348089942', 'time': 1625689066794, 'messaging': [{'sender': {'id': '109253348089942'}, 'recipient': {'id': '4418021788217066'}, 'timestamp': 1625689066756, 'message': {'mid': 'm_Tg8k1U1NfYWHHcQ_VxcMmh2FPwH8Pwqo_sZ9EWc0HzlpyJhBckeE8lMqeKwMpmTbamZi7PHJzPMFR_i_ld9uaw', 'is_echo': True, 'text': 'Hola soy bot2', 'app_id': 365817968444136}}]}]}\n",
      "\n",
      "_________________________________________________________________________________________________________________________\n",
      "Mesaje de la API de Facebook-> \n",
      " {'object': 'page', 'entry': [{'id': '109253348089942', 'time': 1625689066959, 'messaging': [{'sender': {'id': '4418021788217066'}, 'recipient': {'id': '109253348089942'}, 'timestamp': 1625689067111, 'read': {'watermark': 1625689066944}}]}]}\n",
      "[{'sender': {'id': '109253348089942'}, 'recipient': {'id': '4418021788217066'}, 'timestamp': 1625689066756, 'message': {'mid': 'm_Tg8k1U1NfYWHHcQ_VxcMmh2FPwH8Pwqo_sZ9EWc0HzlpyJhBckeE8lMqeKwMpmTbamZi7PHJzPMFR_i_ld9uaw', 'is_echo': True, 'text': 'Hola soy bot2', 'app_id': 365817968444136}}]\n",
      "hilo consume\n",
      "hilo consume\n",
      "\n",
      "\n",
      "______________________________________________no read__________________________________________________________________________\n",
      "\t\tMensaje enviado al Nucleo Logico->\n",
      "  {\"payload\": {\"robot\": \"none\", \"id_face\": \"109253348089942\", \"recipient_id\": \"109253348089942\", \"access_token\": \"none\", \"content\": \"Hola soy bot2\", \"type_resp\": \"message\", \"state\": \"none\", \"blocktype\": \"none\", \"opciones\": \"none\", \"entities\": {}}}\n",
      "\n",
      "_________________________________________________________________________________________________________________________\n",
      "\t\t\n",
      "Respuesta del Nucleo Logico->  {'Respuesta': {'content': 'Editando Bloque ', 'next_id': 'Input | 36f8147d-fcbb-41b0-8017-c8a481cbf661 | 46973551-1467-4450-7433-103925931451 | XTHyJxz6aPUIFVONQdUE', 'blockType': 'informativo', 'contentType': 'text', 'typingTime': '1', 'payload': {'content': '', 'state': 'Informativo | e61376a2-83b0-4ccd-90b2-0d3b8d9fc04b | 46973551-1467-4450-7433-103925931451 | XTHyJxz6aPUIFVONQdUE', 'recipient_id': '4418021788217066', 'entities': {}, 'access_token': 'EAAFMtaIPwugBABaSyaEaQxCjZB05xZAs5fag2JZCZB9LcVSFPJtAjcu48PewIfljpztLDiWZCZAINUghHfyn85rSKQxPnfZAMZA3DScogyb4Q1cg91NEiEgVLhlsHJXakq9diPLuJtiRqZC8kCp4MfZCllTvoPR0Jad4B0r0JWp8foAffcrjKebrSp'}}}\n",
      "\n",
      "_________________________________________________________________________________________________________________________\n",
      "\t\t\n",
      "Respuesta del Nucleo Logico->  {'Respuesta': {'content': 'Hola soy bot2', 'next_id': 'Informativo | e61376a2-83b0-4ccd-90b2-0d3b8d9fc04b | 46973551-1467-4450-7433-103925931451 | XTHyJxz6aPUIFVONQdUE', 'blockType': 'informativo', 'contentType': 'text', 'typingTime': '1', 'payload': {'content': '', 'state': 'Informativo | d602e284-c054-4f7f-90b0-3d079f8908e4 | XTHyJxz6aPUIFVONQdUE', 'recipient_id': '109253348089942', 'entities': {}, 'access_token': 'EAAFMtaIPwugBABaSyaEaQxCjZB05xZAs5fag2JZCZB9LcVSFPJtAjcu48PewIfljpztLDiWZCZAINUghHfyn85rSKQxPnfZAMZA3DScogyb4Q1cg91NEiEgVLhlsHJXakq9diPLuJtiRqZC8kCp4MfZCllTvoPR0Jad4B0r0JWp8foAffcrjKebrSp'}}}\n",
      "\n",
      "\n",
      "---------------------------------------------------------------------------\n",
      "mensaje enviado a la API de facebook:\n",
      " {'message': {'text': 'Editando Bloque '}, 'recipient': {'id': '4418021788217066'}, 'notification_type': 'REGULAR'}\n",
      " [.] Got %r None\n"
     ]
    },
    {
     "name": "stderr",
     "output_type": "stream",
     "text": [
      "127.0.0.1 - - [07/Jul/2021 15:17:45] \"\u001b[37mPOST /apiREST/v1 HTTP/1.1\u001b[0m\" 200 -\n",
      "127.0.0.1 - - [07/Jul/2021 15:17:45] \"\u001b[37mPOST /apiREST/v1 HTTP/1.1\u001b[0m\" 200 -\n"
     ]
    },
    {
     "name": "stdout",
     "output_type": "stream",
     "text": [
      "\n",
      "\n",
      "---------------------------------------------------------------------------\n",
      "mensaje enviado a la API de facebook:\n",
      " {'message': {'text': 'Hola soy bot2'}, 'recipient': {'id': '109253348089942'}, 'notification_type': 'REGULAR'}\n",
      " [.] Got %r None\n",
      "\n",
      "_________________________________________________________________________________________________________________________\n",
      "Mesaje de la API de Facebook-> \n",
      " {'object': 'page', 'entry': [{'id': '109253348089942', 'time': 1625689068408, 'messaging': [{'sender': {'id': '4418021788217066'}, 'recipient': {'id': '109253348089942'}, 'timestamp': 1625689068454, 'delivery': {'mids': ['m_BBOr8sx2-JiFdSf8PTfU7R2FPwH8Pwqo_sZ9EWc0Hzm03JukBYnQyfqEaOhZmJSNoavrpPI2aIph00UzsHFAmQ'], 'watermark': 1625689068264}}]}]}\n",
      "\n",
      "_________________________________________________________________________________________________________________________\n",
      "Mesaje de la API de Facebook-> \n",
      " {'object': 'page', 'entry': [{'id': '109253348089942', 'time': 1625689068346, 'messaging': [{'sender': {'id': '109253348089942'}, 'recipient': {'id': '4418021788217066'}, 'timestamp': 1625689068264, 'message': {'mid': 'm_BBOr8sx2-JiFdSf8PTfU7R2FPwH8Pwqo_sZ9EWc0Hzm03JukBYnQyfqEaOhZmJSNoavrpPI2aIph00UzsHFAmQ', 'is_echo': True, 'text': 'Editando Bloque', 'app_id': 365817968444136}}]}]}\n",
      "[{'sender': {'id': '109253348089942'}, 'recipient': {'id': '4418021788217066'}, 'timestamp': 1625689068264, 'message': {'mid': 'm_BBOr8sx2-JiFdSf8PTfU7R2FPwH8Pwqo_sZ9EWc0Hzm03JukBYnQyfqEaOhZmJSNoavrpPI2aIph00UzsHFAmQ', 'is_echo': True, 'text': 'Editando Bloque', 'app_id': 365817968444136}}]\n",
      "hilo consume\n",
      "\n",
      "______________________________________________no read__________________________________________________________________________\n",
      "\n",
      "\t\tMensaje enviado al Nucleo Logico->\n",
      "  {\"payload\": {\"robot\": \"none\", \"id_face\": \"109253348089942\", \"recipient_id\": \"109253348089942\", \"access_token\": \"none\", \"content\": \"Editando Bloque\", \"type_resp\": \"message\", \"state\": \"none\", \"blocktype\": \"none\", \"opciones\": \"none\", \"entities\": {}}}\n",
      "\n",
      "_________________________________________________________________________________________________________________________\n"
     ]
    },
    {
     "name": "stderr",
     "output_type": "stream",
     "text": [
      "127.0.0.1 - - [07/Jul/2021 15:17:45] \"\u001b[37mPOST /apiREST/v1 HTTP/1.1\u001b[0m\" 200 -\n"
     ]
    },
    {
     "name": "stdout",
     "output_type": "stream",
     "text": [
      "Mesaje de la API de Facebook-> \n",
      " {'object': 'page', 'entry': [{'id': '109253348089942', 'time': 1625689068456, 'messaging': [{'sender': {'id': '4418021788217066'}, 'recipient': {'id': '109253348089942'}, 'timestamp': 1625689068608, 'read': {'watermark': 1625689068432}}]}]}\n",
      "hilo consume\n",
      "\n",
      "_________________________________________________________________________________________________________________________\n",
      "\t\t\n",
      "Respuesta del Nucleo Logico->  {'Respuesta': {'content': 'Hola soy bot2', 'next_id': 'Informativo | e61376a2-83b0-4ccd-90b2-0d3b8d9fc04b | 46973551-1467-4450-7433-103925931451 | XTHyJxz6aPUIFVONQdUE', 'blockType': 'informativo', 'contentType': 'text', 'typingTime': '1', 'payload': {'content': '', 'state': 'Informativo | d602e284-c054-4f7f-90b0-3d079f8908e4 | XTHyJxz6aPUIFVONQdUE', 'recipient_id': '109253348089942', 'entities': {}, 'access_token': 'EAAFMtaIPwugBABaSyaEaQxCjZB05xZAs5fag2JZCZB9LcVSFPJtAjcu48PewIfljpztLDiWZCZAINUghHfyn85rSKQxPnfZAMZA3DScogyb4Q1cg91NEiEgVLhlsHJXakq9diPLuJtiRqZC8kCp4MfZCllTvoPR0Jad4B0r0JWp8foAffcrjKebrSp'}}}\n",
      "\n",
      "\n",
      "---------------------------------------------------------------------------\n",
      "mensaje enviado a la API de facebook:\n",
      " {'message': {'text': 'Hola soy bot2'}, 'recipient': {'id': '109253348089942'}, 'notification_type': 'REGULAR'}\n",
      " [.] Got %r None\n",
      "\n",
      "_________________________________________________________________________________________________________________________\n",
      "\t\t\n",
      "Respuesta del Nucleo Logico->  {'Respuesta': {'content': 'Ingresa tu nombre', 'next_id': 'Carrusel | 16ad30d3-2b1e-433d-9f31-58de69dacffe | 46973551-1467-4450-7433-103925931451 | XTHyJxz6aPUIFVONQdUE', 'blockType': 'input', 'contentType': 'None', 'typingTime': '1', 'payload': {'content': '', 'state': 'Input | 36f8147d-fcbb-41b0-8017-c8a481cbf661 | 46973551-1467-4450-7433-103925931451 | XTHyJxz6aPUIFVONQdUE', 'recipient_id': '4418021788217066', 'entities': {}, 'access_token': 'EAAFMtaIPwugBABaSyaEaQxCjZB05xZAs5fag2JZCZB9LcVSFPJtAjcu48PewIfljpztLDiWZCZAINUghHfyn85rSKQxPnfZAMZA3DScogyb4Q1cg91NEiEgVLhlsHJXakq9diPLuJtiRqZC8kCp4MfZCllTvoPR0Jad4B0r0JWp8foAffcrjKebrSp'}, 'validacion': '', 'default_id': 'Input | 36f8147d-fcbb-41b0-8017-c8a481cbf661 | 46973551-1467-4450-7433-103925931451 | XTHyJxz6aPUIFVONQdUE'}}\n",
      "\n",
      "\n",
      "---------------------------------------------------------------------------\n",
      "mensaje enviado a la API de facebook:\n",
      " {'message': {'text': 'Ingresa tu nombre'}, 'recipient': {'id': '4418021788217066'}, 'notification_type': 'REGULAR'}\n",
      " [.] Got %r None\n",
      "\n",
      "_________________________________________________________________________________________________________________________\n",
      "Mesaje de la API de Facebook-> \n",
      " "
     ]
    },
    {
     "name": "stderr",
     "output_type": "stream",
     "text": [
      "127.0.0.1 - - [07/Jul/2021 15:17:48] \"\u001b[37mPOST /apiREST/v1 HTTP/1.1\u001b[0m\" 200 -\n",
      "127.0.0.1 - - [07/Jul/2021 15:17:48] \"\u001b[37mPOST /apiREST/v1 HTTP/1.1\u001b[0m\" 200 -\n"
     ]
    },
    {
     "name": "stdout",
     "output_type": "stream",
     "text": [
      "{'object': 'page', 'entry': [{'id': '109253348089942', 'time': 1625689071134, 'messaging': [{'sender': {'id': '4418021788217066'}, 'recipient': {'id': '109253348089942'}, 'timestamp': 1625689071173, 'delivery': {'mids': ['m_w3NubLu68HGNvdIggyw50R2FPwH8Pwqo_sZ9EWc0HzmRiAwhPvYv4W-ZuQkE-KAW15v-F6eBz8qZjQybPAXJmw'], 'watermark': 1625689070994}}]}]}\n",
      "\n",
      "_________________________________________________________________________________________________________________________\n",
      "Mesaje de la API de Facebook-> \n",
      " {'object': 'page', 'entry': [{'id': '109253348089942', 'time': 1625689071070, 'messaging': [{'sender': {'id': '109253348089942'}, 'recipient': {'id': '4418021788217066'}, 'timestamp': 1625689070994, 'message': {'mid': 'm_w3NubLu68HGNvdIggyw50R2FPwH8Pwqo_sZ9EWc0HzmRiAwhPvYv4W-ZuQkE-KAW15v-F6eBz8qZjQybPAXJmw', 'is_echo': True, 'text': 'Ingresa tu nombre', 'app_id': 365817968444136}}]}]}\n",
      "[{'sender': {'id': '109253348089942'}, 'recipient': {'id': '4418021788217066'}, 'timestamp': 1625689070994, 'message': {'mid': 'm_w3NubLu68HGNvdIggyw50R2FPwH8Pwqo_sZ9EWc0HzmRiAwhPvYv4W-ZuQkE-KAW15v-F6eBz8qZjQybPAXJmw', 'is_echo': True, 'text': 'Ingresa tu nombre', 'app_id': 365817968444136}}]\n",
      "hilo consume\n",
      "\n",
      "______________________________________________no read__________________________________________________________________________\n",
      "\n",
      "\t\tMensaje enviado al Nucleo Logico->\n",
      "  {\"payload\": {\"robot\": \"none\", \"id_face\": \"109253348089942\", \"recipient_id\": \"109253348089942\", \"access_token\": \"none\", \"content\": \"Ingresa tu nombre\", \"type_resp\": \"message\", \"state\": \"none\", \"blocktype\": \"none\", \"opciones\": \"none\", \"entities\": {}}}\n"
     ]
    },
    {
     "name": "stderr",
     "output_type": "stream",
     "text": [
      "127.0.0.1 - - [07/Jul/2021 15:17:48] \"\u001b[37mPOST /apiREST/v1 HTTP/1.1\u001b[0m\" 200 -\n"
     ]
    },
    {
     "name": "stdout",
     "output_type": "stream",
     "text": [
      "\n",
      "_________________________________________________________________________________________________________________________\n",
      "Mesaje de la API de Facebook-> \n",
      " {'object': 'page', 'entry': [{'id': '109253348089942', 'time': 1625689071221, 'messaging': [{'sender': {'id': '4418021788217066'}, 'recipient': {'id': '109253348089942'}, 'timestamp': 1625689071363, 'read': {'watermark': 1625689071196}}]}]}\n",
      "hilo consume\n",
      "\n",
      "_________________________________________________________________________________________________________________________\n",
      "\t\t\n",
      "Respuesta del Nucleo Logico->  {'Respuesta': {'content': 'Hola soy bot2', 'next_id': 'Informativo | e61376a2-83b0-4ccd-90b2-0d3b8d9fc04b | 46973551-1467-4450-7433-103925931451 | XTHyJxz6aPUIFVONQdUE', 'blockType': 'informativo', 'contentType': 'text', 'typingTime': '1', 'payload': {'content': '', 'state': 'Informativo | d602e284-c054-4f7f-90b0-3d079f8908e4 | XTHyJxz6aPUIFVONQdUE', 'recipient_id': '109253348089942', 'entities': {}, 'access_token': 'EAAFMtaIPwugBABaSyaEaQxCjZB05xZAs5fag2JZCZB9LcVSFPJtAjcu48PewIfljpztLDiWZCZAINUghHfyn85rSKQxPnfZAMZA3DScogyb4Q1cg91NEiEgVLhlsHJXakq9diPLuJtiRqZC8kCp4MfZCllTvoPR0Jad4B0r0JWp8foAffcrjKebrSp'}}}\n",
      " [.] Got %r None\n",
      "\n",
      "\n",
      "---------------------------------------------------------------------------\n",
      "mensaje enviado a la API de facebook:\n",
      " {'message': {'text': 'Hola soy bot2'}, 'recipient': {'id': '109253348089942'}, 'notification_type': 'REGULAR'}\n",
      " [.] Got %r None\n"
     ]
    },
    {
     "name": "stderr",
     "output_type": "stream",
     "text": [
      "127.0.0.1 - - [07/Jul/2021 15:17:51] \"\u001b[37mPOST /apiREST/v1 HTTP/1.1\u001b[0m\" 200 -\n"
     ]
    },
    {
     "name": "stdout",
     "output_type": "stream",
     "text": [
      "\n",
      "_________________________________________________________________________________________________________________________\n",
      "Mesaje de la API de Facebook-> \n",
      " {'object': 'page', 'entry': [{'id': '109253348089942', 'time': 1625689073948, 'messaging': [{'sender': {'id': '4418021788217066'}, 'recipient': {'id': '109253348089942'}, 'timestamp': 1625689074090, 'read': {'watermark': 1625689073558}}]}]}\n",
      "hilo consume\n",
      " [.] Got %r None\n",
      "\n",
      "_________________________________________________________________________________________________________________________\n",
      "Mesaje de la API de Facebook-> \n",
      " {'object': 'page', 'entry': [{'id': '109253348089942', 'time': 1625689074146, 'messaging': [{'sender': {'id': '4418021788217066'}, 'recipient': {'id': '109253348089942'}, 'timestamp': 1625689073987, 'message': {'mid': 'm_IUHzNvjCnlRyvrxFi-Q3kx2FPwH8Pwqo_sZ9EWc0HzngnbpAIEZHTxzjxjpMK34tMTHcBsIGcSDXhXfxP_w0aA', 'text': 'Oswaldo'}}]}]}\n",
      "[{'sender': {'id': '4418021788217066'}, 'recipient': {'id': '109253348089942'}, 'timestamp': 1625689073987, 'message': {'mid': 'm_IUHzNvjCnlRyvrxFi-Q3kx2FPwH8Pwqo_sZ9EWc0HzngnbpAIEZHTxzjxjpMK34tMTHcBsIGcSDXhXfxP_w0aA', 'text': 'Oswaldo'}}]\n",
      "hilo consume\n",
      "\n",
      "______________________________________________no read__________________________________________________________________________\n",
      "\n",
      "\t\tMensaje enviado al Nucleo Logico->\n",
      " "
     ]
    },
    {
     "name": "stderr",
     "output_type": "stream",
     "text": [
      "127.0.0.1 - - [07/Jul/2021 15:17:51] \"\u001b[37mPOST /apiREST/v1 HTTP/1.1\u001b[0m\" 200 -\n"
     ]
    },
    {
     "name": "stdout",
     "output_type": "stream",
     "text": [
      " {\"payload\": {\"robot\": \"none\", \"id_face\": \"109253348089942\", \"recipient_id\": \"4418021788217066\", \"access_token\": \"none\", \"content\": \"Oswaldo\", \"type_resp\": \"message\", \"state\": \"none\", \"blocktype\": \"none\", \"opciones\": \"none\", \"entities\": {}}}\n",
      "\n",
      "_________________________________________________________________________________________________________________________\n",
      "\t\t\n",
      "Respuesta del Nucleo Logico->  {'Respuesta': {'content': [{'title': 'P1', 'image_url': 'https://analyticsindiamag.com/wp-content/uploads/2020/10/7d744a684fe03ebc7e8de545f97739dd.jpg', 'subtitle': 'S1', 'buttons': [{'titleButton': 'www.github.com', 'typeButton': 'web_url', 'urlButton': 'www.github.com'}, {'titleButton': 'Op', 'typeButton': 'postback', 'payloadButton': 'Informativo | 38f82c6d-a32e-4687-ae19-71aebb228e68 | XTHyJxz6aPUIFVONQdUE'}]}], 'next_id': ['www.github.com', 'Informativo | 38f82c6d-a32e-4687-ae19-71aebb228e68 | XTHyJxz6aPUIFVONQdUE'], 'blockType': 'slide', 'contentType': ' ', 'typingTime': 1, 'payload': {'content': '', 'state': 'Carrusel | 16ad30d3-2b1e-433d-9f31-58de69dacffe | 46973551-1467-4450-7433-103925931451 | XTHyJxz6aPUIFVONQdUE', 'recipient_id': '4418021788217066', 'entities': {'variableInputInput_|_36f8147d-fcbb-41b0-8017-c8a481cbf6612719': 'Oswaldo'}, 'access_token': 'EAAFMtaIPwugBABaSyaEaQxCjZB05xZAs5fag2JZCZB9LcVSFPJtAjcu48PewIfljpztLDiWZCZAINUghHfyn85rSKQxPnfZAMZA3DScogyb4Q1cg91NEiEgVLhlsHJXakq9diPLuJtiRqZC8kCp4MfZCllTvoPR0Jad4B0r0JWp8foAffcrjKebrSp'}, 'default_id': 'Carrusel | 16ad30d3-2b1e-433d-9f31-58de69dacffe | 46973551-1467-4450-7433-103925931451 | XTHyJxz6aPUIFVONQdUE', 'save_var': '0'}}\n",
      "pyload slide:  {'recipient': {'id': '4418021788217066'}, 'message': {'attachment': {'type': 'template', 'payload': {'template_type': 'generic', 'elements': [{'title': 'P1', 'image_url': 'https://analyticsindiamag.com/wp-content/uploads/2020/10/7d744a684fe03ebc7e8de545f97739dd.jpg', 'subtitle': 'S1', 'buttons': [{'title': 'www.github.com', 'type': 'web_url', 'url': 'www.github.com'}, {'title': 'Op', 'type': 'postback', 'payload': 'Informativo | 38f82c6d-a32e-4687-ae19-71aebb228e68 | XTHyJxz6aPUIFVONQdUE'}]}]}}}, 'notification_type': 'REGULAR'}\n",
      "\n",
      "\n",
      "---------------------------------------------------------------------------\n",
      "mensaje enviado a la API de facebook:\n",
      " {'recipient': {'id': '4418021788217066'}, 'message': {'attachment': {'type': 'template', 'payload': {'template_type': 'generic', 'elements': [{'title': 'P1', 'image_url': 'https://analyticsindiamag.com/wp-content/uploads/2020/10/7d744a684fe03ebc7e8de545f97739dd.jpg', 'subtitle': 'S1', 'buttons': [{'title': 'www.github.com', 'type': 'web_url', 'url': 'www.github.com'}, {'title': 'Op', 'type': 'postback', 'payload': 'Informativo | 38f82c6d-a32e-4687-ae19-71aebb228e68 | XTHyJxz6aPUIFVONQdUE'}]}]}}}, 'notification_type': 'REGULAR'}\n",
      " [.] Got %r None\n"
     ]
    },
    {
     "name": "stderr",
     "output_type": "stream",
     "text": [
      "127.0.0.1 - - [07/Jul/2021 15:17:53] \"\u001b[37mPOST /apiREST/v1 HTTP/1.1\u001b[0m\" 200 -\n",
      "127.0.0.1 - - [07/Jul/2021 15:17:53] \"\u001b[37mPOST /apiREST/v1 HTTP/1.1\u001b[0m\" 200 -\n"
     ]
    },
    {
     "name": "stdout",
     "output_type": "stream",
     "text": [
      "\n",
      "_________________________________________________________________________________________________________________________\n",
      "Mesaje de la API de Facebook-> \n",
      " {'object': 'page', 'entry': [{'id': '109253348089942', 'time': 1625689076108, 'messaging': [{'sender': {'id': '4418021788217066'}, 'recipient': {'id': '109253348089942'}, 'timestamp': 1625689076150, 'delivery': {'mids': ['m_ES-erBvtRq-96FS2ltEZ1x2FPwH8Pwqo_sZ9EWc0HznetOqTSxevYo0-xLopVBrA_xmfaHlvj5k2I4D9iK55bw'], 'watermark': 1625689075936}}]}]}\n",
      "\n",
      "_________________________________________________________________________________________________________________________\n",
      "Mesaje de la API de Facebook-> \n",
      " {'object': 'page', 'entry': [{'id': '109253348089942', 'time': 1625689076009, 'messaging': [{'sender': {'id': '109253348089942'}, 'recipient': {'id': '4418021788217066'}, 'timestamp': 1625689075936, 'message': {'mid': 'm_ES-erBvtRq-96FS2ltEZ1x2FPwH8Pwqo_sZ9EWc0HznetOqTSxevYo0-xLopVBrA_xmfaHlvj5k2I4D9iK55bw', 'is_echo': True, 'app_id': 365817968444136, 'attachments': [{'title': 'P1', 'url': None, 'type': 'template', 'payload': {'template_type': 'generic', 'sharable': False, 'elements': [{'title': 'P1', 'image_url': 'https://analyticsindiamag.com/wp-content/uploads/2020/10/7d744a684fe03ebc7e8de545f97739dd.jpg', 'subtitle': 'S1', 'buttons': [{'type': 'web_url', 'url': 'http://www.github.com/', 'title': 'www.github.com'}, {'type': 'postback', 'title': 'Op', 'payload': 'Informativo | 38f82c6d-a32e-4687-ae19-71aebb228e68 | XTHyJxz6aPUIFVONQdUE'}]}]}}]}}]}]}\n",
      "[{'sender': {'id': '109253348089942'}, 'recipient': {'id': '4418021788217066'}, 'timestamp': 1625689075936, 'message': {'mid': 'm_ES-erBvtRq-96FS2ltEZ1x2FPwH8Pwqo_sZ9EWc0HznetOqTSxevYo0-xLopVBrA_xmfaHlvj5k2I4D9iK55bw', 'is_echo': True, 'app_id': 365817968444136, 'attachments': [{'title': 'P1', 'url': None, 'type': 'template', 'payload': {'template_type': 'generic', 'sharable': False, 'elements': [{'title': 'P1', 'image_url': 'https://analyticsindiamag.com/wp-content/uploads/2020/10/7d744a684fe03ebc7e8de545f97739dd.jpg', 'subtitle': 'S1', 'buttons': [{'type': 'web_url', 'url': 'http://www.github.com/', 'title': 'www.github.com'}, {'type': 'postback', 'title': 'Op', 'payload': 'Informativo | 38f82c6d-a32e-4687-ae19-71aebb228e68 | XTHyJxz6aPUIFVONQdUE'}]}]}}]}}]\n",
      "hilo consume\n",
      "\n",
      "______________________________________________no read__________________________________________________________________________\n",
      "\n",
      "\t\tMensaje enviado al Nucleo Logico->\n",
      "  {\"payload\": {\"robot\": \"none\", \"id_face\": \"109253348089942\", \"recipient_id\": \"109253348089942\", \"access_token\": \"none\", \"content\": [{\"title\": \"P1\", \"url\": null, \"type\": \"template\", \"payload\": {\"template_type\": \"generic\", \"sharable\": false, \"elements\": [{\"title\": \"P1\", \"image_url\": \"https://analyticsindiamag.com/wp-content/uploads/2020/10/7d744a684fe03ebc7e8de545f97739dd.jpg\", \"subtitle\": \"S1\", \"buttons\": [{\"type\": \"web_url\", \"url\": \"http://www.github.com/\", \"title\": \"www.github.com\"}, {\"type\": \"postback\", \"title\": \"Op\", \"payload\": \"Informativo | 38f82c6d-a32e-4687-ae19-71aebb228e68 | XTHyJxz6aPUIFVONQdUE\"}]}]}}], \"type_resp\": \"message\", \"state\": \"none\", \"blocktype\": \"none\", \"opciones\": \"none\", \"entities\": {}}}\n"
     ]
    },
    {
     "name": "stderr",
     "output_type": "stream",
     "text": [
      "127.0.0.1 - - [07/Jul/2021 15:17:53] \"\u001b[37mPOST /apiREST/v1 HTTP/1.1\u001b[0m\" 200 -\n"
     ]
    },
    {
     "name": "stdout",
     "output_type": "stream",
     "text": [
      "\n",
      "_________________________________________________________________________________________________________________________\n",
      "Mesaje de la API de Facebook-> \n",
      " {'object': 'page', 'entry': [{'id': '109253348089942', 'time': 1625689076210, 'messaging': [{'sender': {'id': '4418021788217066'}, 'recipient': {'id': '109253348089942'}, 'timestamp': 1625689076504, 'read': {'watermark': 1625689076186}}]}]}\n",
      "hilo consume\n",
      "\n",
      "_________________________________________________________________________________________________________________________\n",
      "\t\t\n",
      "Respuesta del Nucleo Logico->  {'Respuesta': {'content': 'Hola soy bot2', 'next_id': 'Informativo | e61376a2-83b0-4ccd-90b2-0d3b8d9fc04b | 46973551-1467-4450-7433-103925931451 | XTHyJxz6aPUIFVONQdUE', 'blockType': 'informativo', 'contentType': 'text', 'typingTime': '1', 'payload': {'content': '', 'state': 'Informativo | d602e284-c054-4f7f-90b0-3d079f8908e4 | XTHyJxz6aPUIFVONQdUE', 'recipient_id': '109253348089942', 'entities': {}, 'access_token': 'EAAFMtaIPwugBABaSyaEaQxCjZB05xZAs5fag2JZCZB9LcVSFPJtAjcu48PewIfljpztLDiWZCZAINUghHfyn85rSKQxPnfZAMZA3DScogyb4Q1cg91NEiEgVLhlsHJXakq9diPLuJtiRqZC8kCp4MfZCllTvoPR0Jad4B0r0JWp8foAffcrjKebrSp'}}}\n",
      " [.] Got %r None\n",
      "\n",
      "\n",
      "---------------------------------------------------------------------------\n",
      "mensaje enviado a la API de facebook:\n",
      " {'message': {'text': 'Hola soy bot2'}, 'recipient': {'id': '109253348089942'}, 'notification_type': 'REGULAR'}\n",
      " [.] Got %r None\n"
     ]
    },
    {
     "name": "stderr",
     "output_type": "stream",
     "text": [
      "127.0.0.1 - - [07/Jul/2021 15:18:38] \"\u001b[37mPOST /apiREST/v1 HTTP/1.1\u001b[0m\" 200 -\n"
     ]
    },
    {
     "name": "stdout",
     "output_type": "stream",
     "text": [
      "\n",
      "_________________________________________________________________________________________________________________________\n",
      "Mesaje de la API de Facebook-> \n",
      " {'object': 'page', 'entry': [{'id': '109253348089942', 'time': 1625689121462, 'messaging': [{'sender': {'id': '4418021788217066'}, 'recipient': {'id': '109253348089942'}, 'timestamp': 1625689121559, 'read': {'watermark': 1625689121079}}]}]}\n",
      "hilo consume\n",
      " [.] Got %r None\n"
     ]
    },
    {
     "name": "stderr",
     "output_type": "stream",
     "text": [
      "127.0.0.1 - - [07/Jul/2021 15:18:38] \"\u001b[37mPOST /apiREST/v1 HTTP/1.1\u001b[0m\" 200 -\n"
     ]
    },
    {
     "name": "stdout",
     "output_type": "stream",
     "text": [
      "\n",
      "_________________________________________________________________________________________________________________________\n",
      "Mesaje de la API de Facebook-> \n",
      " {'object': 'page', 'entry': [{'id': '109253348089942', 'time': 1625689121654, 'messaging': [{'sender': {'id': '4418021788217066'}, 'recipient': {'id': '109253348089942'}, 'timestamp': 1625689121502, 'postback': {'title': 'Op', 'payload': 'Informativo | 38f82c6d-a32e-4687-ae19-71aebb228e68 | XTHyJxz6aPUIFVONQdUE', 'mid': 'm__nsfpw2SNGrs5VnkpLHINh2FPwH8Pwqo_sZ9EWc0HzmWlOzRwFTQ6pVsNNuEC8ckwt3fhkLqI0SozMkZIDInAQ'}}]}]}\n",
      "hilo consume\n",
      "\n",
      "______________________________________________no read__________________________________________________________________________\n",
      "\n",
      "\t\tMensaje enviado al Nucleo Logico->\n",
      "  {\"payload\": {\"robot\": \"none\", \"id_face\": \"109253348089942\", \"recipient_id\": \"4418021788217066\", \"access_token\": \"none\", \"content\": \"Informativo | 38f82c6d-a32e-4687-ae19-71aebb228e68 | XTHyJxz6aPUIFVONQdUE\", \"type_resp\": \"postback\", \"state\": \"none\", \"blocktype\": \"none\", \"opciones\": \"none\", \"entities\": {}}}\n",
      "\n",
      "_________________________________________________________________________________________________________________________\n",
      "\t\t\n",
      "Respuesta del Nucleo Logico->  {'Respuesta': {'content': 'Adios oswa', 'next_id': 'Salida', 'blockType': 'informativo', 'contentType': 'text', 'typingTime': '1', 'payload': {'content': '', 'state': 'Informativo | 38f82c6d-a32e-4687-ae19-71aebb228e68 | XTHyJxz6aPUIFVONQdUE', 'recipient_id': '4418021788217066', 'entities': {'variableInputInput_|_36f8147d-fcbb-41b0-8017-c8a481cbf6612719': 'Oswaldo', 'variableCarrCarrusel_|_16ad30d3-2b1e-433d-9f31-58de69dacffe6297': 'Informativo | 38f82c6d-a32e-4687-ae19-71aebb228e68 | XTHyJxz6aPUIFVONQdUE'}, 'access_token': 'EAAFMtaIPwugBABaSyaEaQxCjZB05xZAs5fag2JZCZB9LcVSFPJtAjcu48PewIfljpztLDiWZCZAINUghHfyn85rSKQxPnfZAMZA3DScogyb4Q1cg91NEiEgVLhlsHJXakq9diPLuJtiRqZC8kCp4MfZCllTvoPR0Jad4B0r0JWp8foAffcrjKebrSp'}}}\n",
      "\n",
      "\n",
      "---------------------------------------------------------------------------\n",
      "mensaje enviado a la API de facebook:\n",
      " {'message': {'text': 'Adios oswa'}, 'recipient': {'id': '4418021788217066'}, 'notification_type': 'REGULAR'}\n",
      " [.] Got %r None\n",
      "\n",
      "_________________________________________________________________________________________________________________________\n",
      "Mesaje de la API de Facebook-> \n"
     ]
    },
    {
     "name": "stderr",
     "output_type": "stream",
     "text": [
      "127.0.0.1 - - [07/Jul/2021 15:18:40] \"\u001b[37mPOST /apiREST/v1 HTTP/1.1\u001b[0m\" 200 -\n",
      "127.0.0.1 - - [07/Jul/2021 15:18:40] \"\u001b[37mPOST /apiREST/v1 HTTP/1.1\u001b[0m\" 200 -\n"
     ]
    },
    {
     "name": "stdout",
     "output_type": "stream",
     "text": [
      " {'object': 'page', 'entry': [{'id': '109253348089942', 'time': 1625689122963, 'messaging': [{'sender': {'id': '4418021788217066'}, 'recipient': {'id': '109253348089942'}, 'timestamp': 1625689123001, 'delivery': {'mids': ['m_M9LRV0gdgrCK20GtyUk_1B2FPwH8Pwqo_sZ9EWc0HzlM6MDWax9PtKaF40bRfn9KrWFOQSGF6n48ID9yGZWUgQ'], 'watermark': 1625689122819}}]}]}\n",
      "\n",
      "_________________________________________________________________________________________________________________________\n",
      "Mesaje de la API de Facebook-> \n",
      " {'object': 'page', 'entry': [{'id': '109253348089942', 'time': 1625689122940, 'messaging': [{'sender': {'id': '109253348089942'}, 'recipient': {'id': '4418021788217066'}, 'timestamp': 1625689122819, 'message': {'mid': 'm_M9LRV0gdgrCK20GtyUk_1B2FPwH8Pwqo_sZ9EWc0HzlM6MDWax9PtKaF40bRfn9KrWFOQSGF6n48ID9yGZWUgQ', 'is_echo': True, 'text': 'Adios oswa', 'app_id': 365817968444136}}]}]}\n",
      "\n",
      "_________________________________________________________________________________________________________________________\n",
      "Mesaje de la API de Facebook-> \n",
      " {'object': 'page', 'entry': [{'id': '109253348089942', 'time': 1625689123025, 'messaging': [{'sender': {'id': '4418021788217066'}, 'recipient': {'id': '109253348089942'}, 'timestamp': 1625689123129, 'read': {'watermark': 1625689123003}}]}]}\n",
      "[{'sender': {'id': '109253348089942'}, 'recipient': {'id': '4418021788217066'}, 'timestamp': 1625689122819, 'message': {'mid': 'm_M9LRV0gdgrCK20GtyUk_1B2FPwH8Pwqo_sZ9EWc0HzlM6MDWax9PtKaF40bRfn9KrWFOQSGF6n48ID9yGZWUgQ', 'is_echo': True, 'text': 'Adios oswa', 'app_id': 365817968444136}}]\n",
      "hilo consume\n",
      "\n",
      "______________________________________________no read__________________________________________________________________________\n",
      "\n",
      "\t\tMensaje enviado al Nucleo Logico->\n",
      "  {\"payload\": {\"robot\": \"none\", \"id_face\": \"109253348089942\", \"recipient_id\": \"109253348089942\", \"access_token\": \"none\", \"content\": \"Adios oswa\", \"type_resp\": \"message\", \"state\": \"none\", \"blocktype\": \"none\", \"opciones\": \"none\", \"entities\": {}}}\n"
     ]
    },
    {
     "name": "stderr",
     "output_type": "stream",
     "text": [
      "127.0.0.1 - - [07/Jul/2021 15:18:40] \"\u001b[37mPOST /apiREST/v1 HTTP/1.1\u001b[0m\" 200 -\n"
     ]
    },
    {
     "name": "stdout",
     "output_type": "stream",
     "text": [
      "hilo consume\n",
      "\n",
      "_________________________________________________________________________________________________________________________\n",
      "\t\t\n",
      "Respuesta del Nucleo Logico->  {'Respuesta': {'content': 'Hola soy bot2', 'next_id': 'Informativo | e61376a2-83b0-4ccd-90b2-0d3b8d9fc04b | 46973551-1467-4450-7433-103925931451 | XTHyJxz6aPUIFVONQdUE', 'blockType': 'informativo', 'contentType': 'text', 'typingTime': '1', 'payload': {'content': '', 'state': 'Informativo | d602e284-c054-4f7f-90b0-3d079f8908e4 | XTHyJxz6aPUIFVONQdUE', 'recipient_id': '109253348089942', 'entities': {}, 'access_token': 'EAAFMtaIPwugBABaSyaEaQxCjZB05xZAs5fag2JZCZB9LcVSFPJtAjcu48PewIfljpztLDiWZCZAINUghHfyn85rSKQxPnfZAMZA3DScogyb4Q1cg91NEiEgVLhlsHJXakq9diPLuJtiRqZC8kCp4MfZCllTvoPR0Jad4B0r0JWp8foAffcrjKebrSp'}}}\n",
      "\n",
      "\n",
      "---------------------------------------------------------------------------\n",
      "mensaje enviado a la API de facebook:\n",
      " {'message': {'text': 'Hola soy bot2'}, 'recipient': {'id': '109253348089942'}, 'notification_type': 'REGULAR'}\n",
      " [.] Got %r None\n"
     ]
    },
    {
     "name": "stderr",
     "output_type": "stream",
     "text": [
      "127.0.0.1 - - [07/Jul/2021 15:19:20] \"\u001b[37mPOST /apiREST/v1 HTTP/1.1\u001b[0m\" 200 -\n"
     ]
    },
    {
     "name": "stdout",
     "output_type": "stream",
     "text": [
      "\n",
      "_________________________________________________________________________________________________________________________\n",
      "Mesaje de la API de Facebook-> \n",
      " {'object': 'page', 'entry': [{'id': '109253348089942', 'time': 1625689163402, 'messaging': [{'sender': {'id': '4418021788217066'}, 'recipient': {'id': '109253348089942'}, 'timestamp': 1625689163481, 'read': {'watermark': 1625689163005}}]}]}\n",
      "hilo consume\n"
     ]
    },
    {
     "name": "stderr",
     "output_type": "stream",
     "text": [
      "127.0.0.1 - - [07/Jul/2021 15:19:20] \"\u001b[37mPOST /apiREST/v1 HTTP/1.1\u001b[0m\" 200 -\n"
     ]
    },
    {
     "name": "stdout",
     "output_type": "stream",
     "text": [
      " [.] Got %r None\n",
      "\n",
      "_________________________________________________________________________________________________________________________\n",
      "Mesaje de la API de Facebook-> \n",
      " {'object': 'page', 'entry': [{'id': '109253348089942', 'time': 1625689163576, 'messaging': [{'sender': {'id': '4418021788217066'}, 'recipient': {'id': '109253348089942'}, 'timestamp': 1625689163437, 'message': {'mid': 'm_8YRNQ_Fiweh_8_Sbgyminh2FPwH8Pwqo_sZ9EWc0Hzm7jqueQOkRJ05oXpXYnOxQuFjpksqhRQAwNGknJ7bqDw', 'text': 'Hola'}}]}]}\n",
      "[{'sender': {'id': '4418021788217066'}, 'recipient': {'id': '109253348089942'}, 'timestamp': 1625689163437, 'message': {'mid': 'm_8YRNQ_Fiweh_8_Sbgyminh2FPwH8Pwqo_sZ9EWc0Hzm7jqueQOkRJ05oXpXYnOxQuFjpksqhRQAwNGknJ7bqDw', 'text': 'Hola'}}]\n",
      "hilo consume\n",
      "\n",
      "______________________________________________no read__________________________________________________________________________\n",
      "\n",
      "\t\tMensaje enviado al Nucleo Logico->\n",
      "  {\"payload\": {\"robot\": \"none\", \"id_face\": \"109253348089942\", \"recipient_id\": \"4418021788217066\", \"access_token\": \"none\", \"content\": \"Hola\", \"type_resp\": \"message\", \"state\": \"none\", \"blocktype\": \"none\", \"opciones\": \"none\", \"entities\": {}}}\n",
      "\n",
      "_________________________________________________________________________________________________________________________\n",
      "\t\t\n",
      "Respuesta del Nucleo Logico->  {'Respuesta': {'content': 'Hola soy bot2', 'next_id': 'Informativo | e61376a2-83b0-4ccd-90b2-0d3b8d9fc04b | 46973551-1467-4450-7433-103925931451 | XTHyJxz6aPUIFVONQdUE', 'blockType': 'informativo', 'contentType': 'text', 'typingTime': '1', 'payload': {'content': '', 'state': 'Informativo | d602e284-c054-4f7f-90b0-3d079f8908e4 | XTHyJxz6aPUIFVONQdUE', 'recipient_id': '4418021788217066', 'entities': {}, 'access_token': 'EAAFMtaIPwugBABaSyaEaQxCjZB05xZAs5fag2JZCZB9LcVSFPJtAjcu48PewIfljpztLDiWZCZAINUghHfyn85rSKQxPnfZAMZA3DScogyb4Q1cg91NEiEgVLhlsHJXakq9diPLuJtiRqZC8kCp4MfZCllTvoPR0Jad4B0r0JWp8foAffcrjKebrSp'}}}\n",
      "\n",
      "\n",
      "---------------------------------------------------------------------------\n",
      "mensaje enviado a la API de facebook:\n",
      " {'message': {'text': 'Hola soy bot2'}, 'recipient': {'id': '4418021788217066'}, 'notification_type': 'REGULAR'}\n",
      " [.] Got %r None\n",
      "\n",
      "_________________________________________________________________________________________________________________________\n",
      "Mesaje de la API de Facebook-> \n"
     ]
    },
    {
     "name": "stderr",
     "output_type": "stream",
     "text": [
      "127.0.0.1 - - [07/Jul/2021 15:19:21] \"\u001b[37mPOST /apiREST/v1 HTTP/1.1\u001b[0m\" 200 -\n",
      "127.0.0.1 - - [07/Jul/2021 15:19:22] \"\u001b[37mPOST /apiREST/v1 HTTP/1.1\u001b[0m\" 200 -\n"
     ]
    },
    {
     "name": "stdout",
     "output_type": "stream",
     "text": [
      " {'object': 'page', 'entry': [{'id': '109253348089942', 'time': 1625689164731, 'messaging': [{'sender': {'id': '109253348089942'}, 'recipient': {'id': '4418021788217066'}, 'timestamp': 1625689164700, 'message': {'mid': 'm_OMjSGH5LE2aOSvEAUyuLFB2FPwH8Pwqo_sZ9EWc0Hzlmaf532M2aXWcfcXGoccxuMGST_zVmzN8Q16h_EFz0FQ', 'is_echo': True, 'text': 'Hola soy bot2', 'app_id': 365817968444136}}]}]}\n",
      "[{'sender': {'id': '109253348089942'}, 'recipient': {'id': '4418021788217066'}, 'timestamp': 1625689164700, 'message': {'mid': 'm_OMjSGH5LE2aOSvEAUyuLFB2FPwH8Pwqo_sZ9EWc0Hzlmaf532M2aXWcfcXGoccxuMGST_zVmzN8Q16h_EFz0FQ', 'is_echo': True, 'text': 'Hola soy bot2', 'app_id': 365817968444136}}]\n",
      "hilo consume\n",
      "\n",
      "______________________________________________no read__________________________________________________________________________\n",
      "\n",
      "\t\tMensaje enviado al Nucleo Logico->\n",
      "  {\"payload\": {\"robot\": \"none\", \"id_face\": \"109253348089942\", \"recipient_id\": \"109253348089942\", \"access_token\": \"none\", \"content\": \"Hola soy bot2\", \"type_resp\": \"message\", \"state\": \"none\", \"blocktype\": \"none\", \"opciones\": \"none\", \"entities\": {}}}\n",
      "\n",
      "_________________________________________________________________________________________________________________________\n",
      "Mesaje de la API de Facebook-> \n",
      " {'object': 'page', 'entry': [{'id': '109253348089942', 'time': 1625689164874, 'messaging': [{'sender': {'id': '4418021788217066'}, 'recipient': {'id': '109253348089942'}, 'timestamp': 1625689164951, 'delivery': {'mids': ['m_OMjSGH5LE2aOSvEAUyuLFB2FPwH8Pwqo_sZ9EWc0Hzlmaf532M2aXWcfcXGoccxuMGST_zVmzN8Q16h_EFz0FQ'], 'watermark': 1625689164700}}]}]}\n",
      "\n",
      "_________________________________________________________________________________________________________________________\n",
      "Mesaje de la API de Facebook-> \n",
      " {'object': 'page', 'entry': [{'id': '109253348089942', 'time': 1625689164930, 'messaging': [{'sender': {'id': '4418021788217066'}, 'recipient': {'id': '109253348089942'}, 'timestamp': 1625689165007, 'read': {'watermark': 1625689164916}}]}]}\n"
     ]
    },
    {
     "name": "stderr",
     "output_type": "stream",
     "text": [
      "127.0.0.1 - - [07/Jul/2021 15:19:22] \"\u001b[37mPOST /apiREST/v1 HTTP/1.1\u001b[0m\" 200 -\n"
     ]
    },
    {
     "name": "stdout",
     "output_type": "stream",
     "text": [
      "hilo consume\n",
      "\n",
      "_________________________________________________________________________________________________________________________\n",
      "\t\t\n",
      "Respuesta del Nucleo Logico->  {'Respuesta': {'content': 'Hola soy bot2', 'next_id': 'Informativo | e61376a2-83b0-4ccd-90b2-0d3b8d9fc04b | 46973551-1467-4450-7433-103925931451 | XTHyJxz6aPUIFVONQdUE', 'blockType': 'informativo', 'contentType': 'text', 'typingTime': '1', 'payload': {'content': '', 'state': 'Informativo | d602e284-c054-4f7f-90b0-3d079f8908e4 | XTHyJxz6aPUIFVONQdUE', 'recipient_id': '109253348089942', 'entities': {}, 'access_token': 'EAAFMtaIPwugBABaSyaEaQxCjZB05xZAs5fag2JZCZB9LcVSFPJtAjcu48PewIfljpztLDiWZCZAINUghHfyn85rSKQxPnfZAMZA3DScogyb4Q1cg91NEiEgVLhlsHJXakq9diPLuJtiRqZC8kCp4MfZCllTvoPR0Jad4B0r0JWp8foAffcrjKebrSp'}}}\n",
      "\n",
      "\n",
      "---------------------------------------------------------------------------\n",
      "mensaje enviado a la API de facebook:\n",
      " {'message': {'text': 'Hola soy bot2'}, 'recipient': {'id': '109253348089942'}, 'notification_type': 'REGULAR'}\n",
      " [.] Got %r None\n",
      "\n",
      "_________________________________________________________________________________________________________________________\n",
      "\t\t\n",
      "Respuesta del Nucleo Logico->  {'Respuesta': {'content': 'Editando Bloque ', 'next_id': 'Input | 36f8147d-fcbb-41b0-8017-c8a481cbf661 | 46973551-1467-4450-7433-103925931451 | XTHyJxz6aPUIFVONQdUE', 'blockType': 'informativo', 'contentType': 'text', 'typingTime': '1', 'payload': {'content': '', 'state': 'Informativo | e61376a2-83b0-4ccd-90b2-0d3b8d9fc04b | 46973551-1467-4450-7433-103925931451 | XTHyJxz6aPUIFVONQdUE', 'recipient_id': '4418021788217066', 'entities': {}, 'access_token': 'EAAFMtaIPwugBABaSyaEaQxCjZB05xZAs5fag2JZCZB9LcVSFPJtAjcu48PewIfljpztLDiWZCZAINUghHfyn85rSKQxPnfZAMZA3DScogyb4Q1cg91NEiEgVLhlsHJXakq9diPLuJtiRqZC8kCp4MfZCllTvoPR0Jad4B0r0JWp8foAffcrjKebrSp'}}}\n",
      "\n",
      "\n",
      "---------------------------------------------------------------------------\n",
      "mensaje enviado a la API de facebook:\n",
      " {'message': {'text': 'Editando Bloque '}, 'recipient': {'id': '4418021788217066'}, 'notification_type': 'REGULAR'}\n",
      " [.] Got %r None\n"
     ]
    },
    {
     "name": "stderr",
     "output_type": "stream",
     "text": [
      "127.0.0.1 - - [07/Jul/2021 15:19:23] \"\u001b[37mPOST /apiREST/v1 HTTP/1.1\u001b[0m\" 200 -\n",
      "127.0.0.1 - - [07/Jul/2021 15:19:23] \"\u001b[37mPOST /apiREST/v1 HTTP/1.1\u001b[0m\" 200 -\n"
     ]
    },
    {
     "name": "stdout",
     "output_type": "stream",
     "text": [
      "\n",
      "_________________________________________________________________________________________________________________________\n",
      "Mesaje de la API de Facebook-> \n",
      " {'object': 'page', 'entry': [{'id': '109253348089942', 'time': 1625689166345, 'messaging': [{'sender': {'id': '109253348089942'}, 'recipient': {'id': '4418021788217066'}, 'timestamp': 1625689166221, 'message': {'mid': 'm_0bNveHRobVA1GaF92Jwukh2FPwH8Pwqo_sZ9EWc0HznSsoGtKkqw8xbMHSv9lbnnYzr4u7jqWF7lMfZuKGGHOA', 'is_echo': True, 'text': 'Editando Bloque', 'app_id': 365817968444136}}]}]}\n",
      "[{'sender': {'id': '109253348089942'}, 'recipient': {'id': '4418021788217066'}, 'timestamp': 1625689166221, 'message': {'mid': 'm_0bNveHRobVA1GaF92Jwukh2FPwH8Pwqo_sZ9EWc0HznSsoGtKkqw8xbMHSv9lbnnYzr4u7jqWF7lMfZuKGGHOA', 'is_echo': True, 'text': 'Editando Bloque', 'app_id': 365817968444136}}]\n",
      "\n",
      "_________________________________________________________________________________________________________________________\n",
      "Mesaje de la API de Facebook-> \n",
      " {'object': 'page', 'entry': [{'id': '109253348089942', 'time': 1625689166461, 'messaging': [{'sender': {'id': '4418021788217066'}, 'recipient': {'id': '109253348089942'}, 'timestamp': 1625689166499, 'delivery': {'mids': ['m_0bNveHRobVA1GaF92Jwukh2FPwH8Pwqo_sZ9EWc0HznSsoGtKkqw8xbMHSv9lbnnYzr4u7jqWF7lMfZuKGGHOA'], 'watermark': 1625689166221}}]}]}\n",
      "hilo consume\n",
      "\n",
      "\n",
      "______________________________________________no read__________________________________________________________________________\n",
      "\t\tMensaje enviado al Nucleo Logico->\n",
      "  {\"payload\": {\"robot\": \"none\", \"id_face\": \"109253348089942\", \"recipient_id\": \"109253348089942\", \"access_token\": \"none\", \"content\": \"Editando Bloque\", \"type_resp\": \"message\", \"state\": \"none\", \"blocktype\": \"none\", \"opciones\": \"none\", \"entities\": {}}}\n",
      "\n",
      "_________________________________________________________________________________________________________________________\n",
      "Mesaje de la API de Facebook-> \n",
      " {'object': 'page', 'entry': [{'id': '109253348089942', 'time': 1625689166515, 'messaging': [{'sender': {'id': '4418021788217066'}, 'recipient': {'id': '109253348089942'}, 'timestamp': 1625689166611, 'read': {'watermark': 1625689166491}}]}]}\n"
     ]
    },
    {
     "name": "stderr",
     "output_type": "stream",
     "text": [
      "127.0.0.1 - - [07/Jul/2021 15:19:23] \"\u001b[37mPOST /apiREST/v1 HTTP/1.1\u001b[0m\" 200 -\n"
     ]
    },
    {
     "name": "stdout",
     "output_type": "stream",
     "text": [
      "hilo consume\n",
      "\n",
      "_________________________________________________________________________________________________________________________\n",
      "\t\t\n",
      "Respuesta del Nucleo Logico->  {'Respuesta': {'content': 'Hola soy bot2', 'next_id': 'Informativo | e61376a2-83b0-4ccd-90b2-0d3b8d9fc04b | 46973551-1467-4450-7433-103925931451 | XTHyJxz6aPUIFVONQdUE', 'blockType': 'informativo', 'contentType': 'text', 'typingTime': '1', 'payload': {'content': '', 'state': 'Informativo | d602e284-c054-4f7f-90b0-3d079f8908e4 | XTHyJxz6aPUIFVONQdUE', 'recipient_id': '109253348089942', 'entities': {}, 'access_token': 'EAAFMtaIPwugBABaSyaEaQxCjZB05xZAs5fag2JZCZB9LcVSFPJtAjcu48PewIfljpztLDiWZCZAINUghHfyn85rSKQxPnfZAMZA3DScogyb4Q1cg91NEiEgVLhlsHJXakq9diPLuJtiRqZC8kCp4MfZCllTvoPR0Jad4B0r0JWp8foAffcrjKebrSp'}}}\n",
      "\n",
      "\n",
      "---------------------------------------------------------------------------\n",
      "mensaje enviado a la API de facebook:\n",
      " {'message': {'text': 'Hola soy bot2'}, 'recipient': {'id': '109253348089942'}, 'notification_type': 'REGULAR'}\n",
      " [.] Got %r None\n",
      "\n",
      "_________________________________________________________________________________________________________________________\n",
      "\t\t\n",
      "Respuesta del Nucleo Logico->  {'Respuesta': {'content': 'Ingresa tu nombre', 'next_id': 'Carrusel | 16ad30d3-2b1e-433d-9f31-58de69dacffe | 46973551-1467-4450-7433-103925931451 | XTHyJxz6aPUIFVONQdUE', 'blockType': 'input', 'contentType': 'None', 'typingTime': '1', 'payload': {'content': '', 'state': 'Input | 36f8147d-fcbb-41b0-8017-c8a481cbf661 | 46973551-1467-4450-7433-103925931451 | XTHyJxz6aPUIFVONQdUE', 'recipient_id': '4418021788217066', 'entities': {}, 'access_token': 'EAAFMtaIPwugBABaSyaEaQxCjZB05xZAs5fag2JZCZB9LcVSFPJtAjcu48PewIfljpztLDiWZCZAINUghHfyn85rSKQxPnfZAMZA3DScogyb4Q1cg91NEiEgVLhlsHJXakq9diPLuJtiRqZC8kCp4MfZCllTvoPR0Jad4B0r0JWp8foAffcrjKebrSp'}, 'validacion': '', 'default_id': 'Input | 36f8147d-fcbb-41b0-8017-c8a481cbf661 | 46973551-1467-4450-7433-103925931451 | XTHyJxz6aPUIFVONQdUE'}}\n",
      "\n",
      "\n",
      "---------------------------------------------------------------------------\n",
      "mensaje enviado a la API de facebook:\n",
      " {'message': {'text': 'Ingresa tu nombre'}, 'recipient': {'id': '4418021788217066'}, 'notification_type': 'REGULAR'}\n",
      " [.] Got %r None\n",
      "\n",
      "_________________________________________________________________________________________________________________________\n",
      "Mesaje de la API de Facebook-> \n"
     ]
    },
    {
     "name": "stderr",
     "output_type": "stream",
     "text": [
      "127.0.0.1 - - [07/Jul/2021 15:19:25] \"\u001b[37mPOST /apiREST/v1 HTTP/1.1\u001b[0m\" 200 -\n",
      "127.0.0.1 - - [07/Jul/2021 15:19:25] \"\u001b[37mPOST /apiREST/v1 HTTP/1.1\u001b[0m\" 200 -\n"
     ]
    },
    {
     "name": "stdout",
     "output_type": "stream",
     "text": [
      " {'object': 'page', 'entry': [{'id': '109253348089942', 'time': 1625689167957, 'messaging': [{'sender': {'id': '109253348089942'}, 'recipient': {'id': '4418021788217066'}, 'timestamp': 1625689167897, 'message': {'mid': 'm_41_H17_2hCesI99nuDJGRB2FPwH8Pwqo_sZ9EWc0Hzkbi3nO_PRrFYwkEb4T4wZ-5mq-LAWdTwDn20pgBXOleQ', 'is_echo': True, 'text': 'Ingresa tu nombre', 'app_id': 365817968444136}}]}]}\n",
      "[{'sender': {'id': '109253348089942'}, 'recipient': {'id': '4418021788217066'}, 'timestamp': 1625689167897, 'message': {'mid': 'm_41_H17_2hCesI99nuDJGRB2FPwH8Pwqo_sZ9EWc0Hzkbi3nO_PRrFYwkEb4T4wZ-5mq-LAWdTwDn20pgBXOleQ', 'is_echo': True, 'text': 'Ingresa tu nombre', 'app_id': 365817968444136}}]\n",
      "\n",
      "_________________________________________________________________________________________________________________________hilo consume\n",
      "\n",
      "Mesaje de la API de Facebook-> \n",
      " {'object': 'page', 'entry': [{'id': '109253348089942', 'time': 1625689168056, 'messaging': [{'sender': {'id': '4418021788217066'}, 'recipient': {'id': '109253348089942'}, 'timestamp': 1625689168093, 'delivery': {'mids': ['m_41_H17_2hCesI99nuDJGRB2FPwH8Pwqo_sZ9EWc0Hzkbi3nO_PRrFYwkEb4T4wZ-5mq-LAWdTwDn20pgBXOleQ'], 'watermark': 1625689167897}}]}]}\n",
      "\n",
      "\n",
      "______________________________________________no read__________________________________________________________________________\n",
      "\t\tMensaje enviado al Nucleo Logico->\n",
      "  {\"payload\": {\"robot\": \"none\", \"id_face\": \"109253348089942\", \"recipient_id\": \"109253348089942\", \"access_token\": \"none\", \"content\": \"Ingresa tu nombre\", \"type_resp\": \"message\", \"state\": \"none\", \"blocktype\": \"none\", \"opciones\": \"none\", \"entities\": {}}}\n",
      "\n",
      "_________________________________________________________________________________________________________________________\n",
      "Mesaje de la API de Facebook-> \n",
      " {'object': 'page', 'entry': [{'id': '109253348089942', 'time': 1625689168097, 'messaging': [{'sender': {'id': '4418021788217066'}, 'recipient': {'id': '109253348089942'}, 'timestamp': 1625689168252, 'read': {'watermark': 1625689168069}}]}]}\n"
     ]
    },
    {
     "name": "stderr",
     "output_type": "stream",
     "text": [
      "127.0.0.1 - - [07/Jul/2021 15:19:25] \"\u001b[37mPOST /apiREST/v1 HTTP/1.1\u001b[0m\" 200 -\n"
     ]
    },
    {
     "name": "stdout",
     "output_type": "stream",
     "text": [
      "hilo consume\n",
      "\n",
      "_________________________________________________________________________________________________________________________\n",
      "\t\t\n",
      "Respuesta del Nucleo Logico->  {'Respuesta': {'content': 'Hola soy bot2', 'next_id': 'Informativo | e61376a2-83b0-4ccd-90b2-0d3b8d9fc04b | 46973551-1467-4450-7433-103925931451 | XTHyJxz6aPUIFVONQdUE', 'blockType': 'informativo', 'contentType': 'text', 'typingTime': '1', 'payload': {'content': '', 'state': 'Informativo | d602e284-c054-4f7f-90b0-3d079f8908e4 | XTHyJxz6aPUIFVONQdUE', 'recipient_id': '109253348089942', 'entities': {}, 'access_token': 'EAAFMtaIPwugBABaSyaEaQxCjZB05xZAs5fag2JZCZB9LcVSFPJtAjcu48PewIfljpztLDiWZCZAINUghHfyn85rSKQxPnfZAMZA3DScogyb4Q1cg91NEiEgVLhlsHJXakq9diPLuJtiRqZC8kCp4MfZCllTvoPR0Jad4B0r0JWp8foAffcrjKebrSp'}}}\n",
      " [.] Got %r None\n",
      "\n",
      "\n",
      "---------------------------------------------------------------------------\n",
      "mensaje enviado a la API de facebook:\n",
      " {'message': {'text': 'Hola soy bot2'}, 'recipient': {'id': '109253348089942'}, 'notification_type': 'REGULAR'}\n",
      " [.] Got %r None\n"
     ]
    },
    {
     "name": "stderr",
     "output_type": "stream",
     "text": [
      "127.0.0.1 - - [07/Jul/2021 15:19:27] \"\u001b[37mPOST /apiREST/v1 HTTP/1.1\u001b[0m\" 200 -\n"
     ]
    },
    {
     "name": "stdout",
     "output_type": "stream",
     "text": [
      "\n",
      "_________________________________________________________________________________________________________________________\n",
      "Mesaje de la API de Facebook-> \n",
      " {'object': 'page', 'entry': [{'id': '109253348089942', 'time': 1625689170395, 'messaging': [{'sender': {'id': '4418021788217066'}, 'recipient': {'id': '109253348089942'}, 'timestamp': 1625689170502, 'read': {'watermark': 1625689170003}}]}]}\n",
      "hilo consume\n",
      " [.] Got %r None\n"
     ]
    },
    {
     "name": "stderr",
     "output_type": "stream",
     "text": [
      "127.0.0.1 - - [07/Jul/2021 15:19:27] \"\u001b[37mPOST /apiREST/v1 HTTP/1.1\u001b[0m\" 200 -\n"
     ]
    },
    {
     "name": "stdout",
     "output_type": "stream",
     "text": [
      "\n",
      "_________________________________________________________________________________________________________________________\n",
      "Mesaje de la API de Facebook-> \n",
      " {'object': 'page', 'entry': [{'id': '109253348089942', 'time': 1625689170681, 'messaging': [{'sender': {'id': '4418021788217066'}, 'recipient': {'id': '109253348089942'}, 'timestamp': 1625689170443, 'message': {'mid': 'm_BUVmnMQkpRMUUm1cwPRYOB2FPwH8Pwqo_sZ9EWc0Hzl9o30q0ofajPqvGv18nvbjf9EroPMJVfXTKvHhkQxU5A', 'text': 'Oswaldo'}}]}]}\n",
      "[{'sender': {'id': '4418021788217066'}, 'recipient': {'id': '109253348089942'}, 'timestamp': 1625689170443, 'message': {'mid': 'm_BUVmnMQkpRMUUm1cwPRYOB2FPwH8Pwqo_sZ9EWc0Hzl9o30q0ofajPqvGv18nvbjf9EroPMJVfXTKvHhkQxU5A', 'text': 'Oswaldo'}}]\n",
      "hilo consume\n",
      "\n",
      "______________________________________________no read__________________________________________________________________________\n",
      "\n",
      "\t\tMensaje enviado al Nucleo Logico->\n",
      "  {\"payload\": {\"robot\": \"none\", \"id_face\": \"109253348089942\", \"recipient_id\": \"4418021788217066\", \"access_token\": \"none\", \"content\": \"Oswaldo\", \"type_resp\": \"message\", \"state\": \"none\", \"blocktype\": \"none\", \"opciones\": \"none\", \"entities\": {}}}\n",
      "\n",
      "_________________________________________________________________________________________________________________________\n",
      "\t\t\n",
      "Respuesta del Nucleo Logico->  {'Respuesta': {'content': [{'title': 'P1', 'image_url': 'https://analyticsindiamag.com/wp-content/uploads/2020/10/7d744a684fe03ebc7e8de545f97739dd.jpg', 'subtitle': 'S1', 'buttons': [{'titleButton': 'www.github.com', 'typeButton': 'web_url', 'urlButton': 'www.github.com'}, {'titleButton': 'Op', 'typeButton': 'postback', 'payloadButton': 'Input | 3d436c3e-3ed6-4f7b-ade1-541f93d08f74 | XTHyJxz6aPUIFVONQdUE'}]}], 'next_id': ['www.github.com', 'Input | 3d436c3e-3ed6-4f7b-ade1-541f93d08f74 | XTHyJxz6aPUIFVONQdUE'], 'blockType': 'slide', 'contentType': ' ', 'typingTime': 1, 'payload': {'content': '', 'state': 'Carrusel | 16ad30d3-2b1e-433d-9f31-58de69dacffe | 46973551-1467-4450-7433-103925931451 | XTHyJxz6aPUIFVONQdUE', 'recipient_id': '4418021788217066', 'entities': {'variableInputInput_|_36f8147d-fcbb-41b0-8017-c8a481cbf6616698': 'Oswaldo'}, 'access_token': 'EAAFMtaIPwugBABaSyaEaQxCjZB05xZAs5fag2JZCZB9LcVSFPJtAjcu48PewIfljpztLDiWZCZAINUghHfyn85rSKQxPnfZAMZA3DScogyb4Q1cg91NEiEgVLhlsHJXakq9diPLuJtiRqZC8kCp4MfZCllTvoPR0Jad4B0r0JWp8foAffcrjKebrSp'}, 'default_id': 'Carrusel | 16ad30d3-2b1e-433d-9f31-58de69dacffe | 46973551-1467-4450-7433-103925931451 | XTHyJxz6aPUIFVONQdUE', 'save_var': '0'}}\n",
      "pyload slide:  {'recipient': {'id': '4418021788217066'}, 'message': {'attachment': {'type': 'template', 'payload': {'template_type': 'generic', 'elements': [{'title': 'P1', 'image_url': 'https://analyticsindiamag.com/wp-content/uploads/2020/10/7d744a684fe03ebc7e8de545f97739dd.jpg', 'subtitle': 'S1', 'buttons': [{'title': 'www.github.com', 'type': 'web_url', 'url': 'www.github.com'}, {'title': 'Op', 'type': 'postback', 'payload': 'Input | 3d436c3e-3ed6-4f7b-ade1-541f93d08f74 | XTHyJxz6aPUIFVONQdUE'}]}]}}}, 'notification_type': 'REGULAR'}\n",
      "\n",
      "\n",
      "---------------------------------------------------------------------------\n",
      "mensaje enviado a la API de facebook:\n",
      " {'recipient': {'id': '4418021788217066'}, 'message': {'attachment': {'type': 'template', 'payload': {'template_type': 'generic', 'elements': [{'title': 'P1', 'image_url': 'https://analyticsindiamag.com/wp-content/uploads/2020/10/7d744a684fe03ebc7e8de545f97739dd.jpg', 'subtitle': 'S1', 'buttons': [{'title': 'www.github.com', 'type': 'web_url', 'url': 'www.github.com'}, {'title': 'Op', 'type': 'postback', 'payload': 'Input | 3d436c3e-3ed6-4f7b-ade1-541f93d08f74 | XTHyJxz6aPUIFVONQdUE'}]}]}}}, 'notification_type': 'REGULAR'}\n",
      " [.] Got %r None\n",
      "\n",
      "_________________________________________________________________________________________________________________________\n",
      "Mesaje de la API de Facebook-> \n",
      " {'object': 'page', 'entry': [{'id': '109253348089942', 'time': 1625689172309, 'messaging': [{'sender': {'id': '109253348089942'}, 'recipient': {'id': '4418021788217066'}, 'timestamp': 1625689172267, 'message': {'mid': 'm_j_Jk7F297IAPnSf__l44mh2FPwH8Pwqo_sZ9EWc0HzkX2Id1qZXD-MhSGR_HOxOlFZTDjFQ1A1eBhHX-qaXOXQ', 'is_echo': True, 'app_id': 365817968444136, 'attachments': [{'title': 'P1', 'url': None, 'type': 'template', 'payload': {'template_type': 'generic', 'sharable': False, 'elements': [{'title': 'P1', 'image_url': 'https://analyticsindiamag.com/wp-content/uploads/2020/10/7d744a684fe03ebc7e8de545f97739dd.jpg', 'subtitle': 'S1', 'buttons': [{'type': 'web_url', 'url': 'http://www.github.com/', 'title': 'www.github.com'}, {'type': 'postback', 'title': 'Op', 'payload': 'Input | 3d436c3e-3ed6-4f7b-ade1-541f93d08f74 | XTHyJxz6aPUIFVONQdUE'}]}]}}]}}]}]}\n"
     ]
    },
    {
     "name": "stderr",
     "output_type": "stream",
     "text": [
      "127.0.0.1 - - [07/Jul/2021 15:19:29] \"\u001b[37mPOST /apiREST/v1 HTTP/1.1\u001b[0m\" 200 -\n",
      "127.0.0.1 - - [07/Jul/2021 15:19:29] \"\u001b[37mPOST /apiREST/v1 HTTP/1.1\u001b[0m\" 200 -\n"
     ]
    },
    {
     "name": "stdout",
     "output_type": "stream",
     "text": [
      "[{'sender': {'id': '109253348089942'}, 'recipient': {'id': '4418021788217066'}, 'timestamp': 1625689172267, 'message': {'mid': 'm_j_Jk7F297IAPnSf__l44mh2FPwH8Pwqo_sZ9EWc0HzkX2Id1qZXD-MhSGR_HOxOlFZTDjFQ1A1eBhHX-qaXOXQ', 'is_echo': True, 'app_id': 365817968444136, 'attachments': [{'title': 'P1', 'url': None, 'type': 'template', 'payload': {'template_type': 'generic', 'sharable': False, 'elements': [{'title': 'P1', 'image_url': 'https://analyticsindiamag.com/wp-content/uploads/2020/10/7d744a684fe03ebc7e8de545f97739dd.jpg', 'subtitle': 'S1', 'buttons': [{'type': 'web_url', 'url': 'http://www.github.com/', 'title': 'www.github.com'}, {'type': 'postback', 'title': 'Op', 'payload': 'Input | 3d436c3e-3ed6-4f7b-ade1-541f93d08f74 | XTHyJxz6aPUIFVONQdUE'}]}]}}]}}]\n",
      "hilo consume\n",
      "\n",
      "\n",
      "______________________________________________no read__________________________________________________________________________\n",
      "\t\tMensaje enviado al Nucleo Logico->\n",
      "  {\"payload\": {\"robot\": \"none\", \"id_face\": \"109253348089942\", \"recipient_id\": \"109253348089942\", \"access_token\": \"none\", \"content\": [{\"title\": \"P1\", \"url\": null, \"type\": \"template\", \"payload\": {\"template_type\": \"generic\", \"sharable\": false, \"elements\": [{\"title\": \"P1\", \"image_url\": \"https://analyticsindiamag.com/wp-content/uploads/2020/10/7d744a684fe03ebc7e8de545f97739dd.jpg\", \"subtitle\": \"S1\", \"buttons\": [{\"type\": \"web_url\", \"url\": \"http://www.github.com/\", \"title\": \"www.github.com\"}, {\"type\": \"postback\", \"title\": \"Op\", \"payload\": \"Input | 3d436c3e-3ed6-4f7b-ade1-541f93d08f74 | XTHyJxz6aPUIFVONQdUE\"}]}]}}], \"type_resp\": \"message\", \"state\": \"none\", \"blocktype\": \"none\", \"opciones\": \"none\", \"entities\": {}}}\n",
      "\n",
      "_________________________________________________________________________________________________________________________\n",
      "Mesaje de la API de Facebook-> \n",
      " {'object': 'page', 'entry': [{'id': '109253348089942', 'time': 1625689172419, 'messaging': [{'sender': {'id': '4418021788217066'}, 'recipient': {'id': '109253348089942'}, 'timestamp': 1625689172466, 'delivery': {'mids': ['m_j_Jk7F297IAPnSf__l44mh2FPwH8Pwqo_sZ9EWc0HzkX2Id1qZXD-MhSGR_HOxOlFZTDjFQ1A1eBhHX-qaXOXQ'], 'watermark': 1625689172267}}]}]}\n",
      "\n",
      "_________________________________________________________________________________________________________________________\n",
      "Mesaje de la API de Facebook-> \n",
      " {'object': 'page', 'entry': [{'id': '109253348089942', 'time': 1625689172520, 'messaging': [{'sender': {'id': '4418021788217066'}, 'recipient': {'id': '109253348089942'}, 'timestamp': 1625689172633, 'read': {'watermark': 1625689172496}}]}]}"
     ]
    },
    {
     "name": "stderr",
     "output_type": "stream",
     "text": [
      "127.0.0.1 - - [07/Jul/2021 15:19:29] \"\u001b[37mPOST /apiREST/v1 HTTP/1.1\u001b[0m\" 200 -\n"
     ]
    },
    {
     "name": "stdout",
     "output_type": "stream",
     "text": [
      "\n",
      "hilo consume\n",
      "\n",
      "_________________________________________________________________________________________________________________________\n",
      "\t\t\n",
      "Respuesta del Nucleo Logico->  {'Respuesta': {'content': 'Hola soy bot2', 'next_id': 'Informativo | e61376a2-83b0-4ccd-90b2-0d3b8d9fc04b | 46973551-1467-4450-7433-103925931451 | XTHyJxz6aPUIFVONQdUE', 'blockType': 'informativo', 'contentType': 'text', 'typingTime': '1', 'payload': {'content': '', 'state': 'Informativo | d602e284-c054-4f7f-90b0-3d079f8908e4 | XTHyJxz6aPUIFVONQdUE', 'recipient_id': '109253348089942', 'entities': {}, 'access_token': 'EAAFMtaIPwugBABaSyaEaQxCjZB05xZAs5fag2JZCZB9LcVSFPJtAjcu48PewIfljpztLDiWZCZAINUghHfyn85rSKQxPnfZAMZA3DScogyb4Q1cg91NEiEgVLhlsHJXakq9diPLuJtiRqZC8kCp4MfZCllTvoPR0Jad4B0r0JWp8foAffcrjKebrSp'}}}\n",
      " [.] Got %r None\n",
      "\n",
      "\n",
      "---------------------------------------------------------------------------\n",
      "mensaje enviado a la API de facebook:\n",
      " {'message': {'text': 'Hola soy bot2'}, 'recipient': {'id': '109253348089942'}, 'notification_type': 'REGULAR'}\n",
      " [.] Got %r None\n"
     ]
    },
    {
     "name": "stderr",
     "output_type": "stream",
     "text": [
      "127.0.0.1 - - [07/Jul/2021 15:19:31] \"\u001b[37mPOST /apiREST/v1 HTTP/1.1\u001b[0m\" 200 -\n"
     ]
    },
    {
     "name": "stdout",
     "output_type": "stream",
     "text": [
      "\n",
      "_________________________________________________________________________________________________________________________\n",
      "Mesaje de la API de Facebook-> \n",
      " {'object': 'page', 'entry': [{'id': '109253348089942', 'time': 1625689173952, 'messaging': [{'sender': {'id': '4418021788217066'}, 'recipient': {'id': '109253348089942'}, 'timestamp': 1625689174056, 'read': {'watermark': 1625689173581}}]}]}\n",
      "hilo consume\n",
      " [.] Got %r None\n",
      "\n",
      "_________________________________________________________________________________________________________________________\n"
     ]
    },
    {
     "name": "stderr",
     "output_type": "stream",
     "text": [
      "127.0.0.1 - - [07/Jul/2021 15:19:31] \"\u001b[37mPOST /apiREST/v1 HTTP/1.1\u001b[0m\" 200 -\n"
     ]
    },
    {
     "name": "stdout",
     "output_type": "stream",
     "text": [
      "Mesaje de la API de Facebook-> \n",
      " {'object': 'page', 'entry': [{'id': '109253348089942', 'time': 1625689174150, 'messaging': [{'sender': {'id': '4418021788217066'}, 'recipient': {'id': '109253348089942'}, 'timestamp': 1625689173994, 'postback': {'title': 'Op', 'payload': 'Input | 3d436c3e-3ed6-4f7b-ade1-541f93d08f74 | XTHyJxz6aPUIFVONQdUE', 'mid': 'm__LtuY7His6UIo2Cy5fikaR2FPwH8Pwqo_sZ9EWc0Hzlz9aLwssDPcHvqZrUkIQMPwO_KDPf13pPlBakVoAD_iA'}}]}]}\n",
      "hilo consume\n",
      "\n",
      "______________________________________________no read__________________________________________________________________________\n",
      "\n",
      "\t\tMensaje enviado al Nucleo Logico->\n",
      "  {\"payload\": {\"robot\": \"none\", \"id_face\": \"109253348089942\", \"recipient_id\": \"4418021788217066\", \"access_token\": \"none\", \"content\": \"Input | 3d436c3e-3ed6-4f7b-ade1-541f93d08f74 | XTHyJxz6aPUIFVONQdUE\", \"type_resp\": \"postback\", \"state\": \"none\", \"blocktype\": \"none\", \"opciones\": \"none\", \"entities\": {}}}\n"
     ]
    },
    {
     "name": "stderr",
     "output_type": "stream",
     "text": [
      "127.0.0.1 - - [07/Jul/2021 15:19:39] \"\u001b[37mPOST /apiREST/v1 HTTP/1.1\u001b[0m\" 200 -\n"
     ]
    },
    {
     "name": "stdout",
     "output_type": "stream",
     "text": [
      "\n",
      "_________________________________________________________________________________________________________________________\n",
      "Mesaje de la API de Facebook-> \n",
      " {'object': 'page', 'entry': [{'id': '106842278334918', 'time': 1625689181855, 'messaging': [{'sender': {'id': '3992952420759571'}, 'recipient': {'id': '106842278334918'}, 'timestamp': 1625689181950, 'read': {'watermark': 1625689181460}}]}]}\n",
      "hilo consume\n",
      "\n",
      "_________________________________________________________________________________________________________________________\n",
      "Mesaje de la API de Facebook-> \n"
     ]
    },
    {
     "name": "stderr",
     "output_type": "stream",
     "text": [
      "127.0.0.1 - - [07/Jul/2021 15:19:39] \"\u001b[37mPOST /apiREST/v1 HTTP/1.1\u001b[0m\" 200 -\n"
     ]
    },
    {
     "name": "stdout",
     "output_type": "stream",
     "text": [
      " {'object': 'page', 'entry': [{'id': '106842278334918', 'time': 1625689182006, 'messaging': [{'sender': {'id': '3992952420759571'}, 'recipient': {'id': '106842278334918'}, 'timestamp': 1625689181892, 'message': {'mid': 'm_zZLAI502mDKTYrEiBsuIPm5LdZJwKC-4WNAMDG3FPBB0d5_xmSOcvd6oGNRdm3TLDZ3T_gJT7oheaxCw6n2gEg', 'text': 'Hola'}}]}]}\n",
      "[{'sender': {'id': '3992952420759571'}, 'recipient': {'id': '106842278334918'}, 'timestamp': 1625689181892, 'message': {'mid': 'm_zZLAI502mDKTYrEiBsuIPm5LdZJwKC-4WNAMDG3FPBB0d5_xmSOcvd6oGNRdm3TLDZ3T_gJT7oheaxCw6n2gEg', 'text': 'Hola'}}]\n",
      "hilo consume\n",
      "\n",
      "______________________________________________no read__________________________________________________________________________\n",
      "\n",
      "\t\tMensaje enviado al Nucleo Logico->\n",
      "  {\"payload\": {\"robot\": \"none\", \"id_face\": \"106842278334918\", \"recipient_id\": \"3992952420759571\", \"access_token\": \"none\", \"content\": \"Hola\", \"type_resp\": \"message\", \"state\": \"none\", \"blocktype\": \"none\", \"opciones\": \"none\", \"entities\": {}}}\n"
     ]
    },
    {
     "name": "stderr",
     "output_type": "stream",
     "text": [
      "127.0.0.1 - - [07/Jul/2021 15:20:14] \"\u001b[37mPOST /apiREST/v1 HTTP/1.1\u001b[0m\" 200 -\n"
     ]
    },
    {
     "name": "stdout",
     "output_type": "stream",
     "text": [
      "\n",
      "_________________________________________________________________________________________________________________________\n",
      "Mesaje de la API de Facebook-> \n",
      " {'object': 'page', 'entry': [{'id': '109253348089942', 'time': 1625689217260, 'messaging': [{'sender': {'id': '4418021788217066'}, 'recipient': {'id': '109253348089942'}, 'timestamp': 1625689217354, 'read': {'watermark': 1625689216868}}]}]}\n",
      "hilo consume\n"
     ]
    },
    {
     "name": "stderr",
     "output_type": "stream",
     "text": [
      "127.0.0.1 - - [07/Jul/2021 15:20:14] \"\u001b[37mPOST /apiREST/v1 HTTP/1.1\u001b[0m\" 200 -\n"
     ]
    },
    {
     "name": "stdout",
     "output_type": "stream",
     "text": [
      "\n",
      "_________________________________________________________________________________________________________________________\n",
      "Mesaje de la API de Facebook-> \n",
      " {'object': 'page', 'entry': [{'id': '109253348089942', 'time': 1625689217519, 'messaging': [{'sender': {'id': '4418021788217066'}, 'recipient': {'id': '109253348089942'}, 'timestamp': 1625689217305, 'message': {'mid': 'm_HqA0XkXkkSA1Exg2UzC55x2FPwH8Pwqo_sZ9EWc0Hzl4T1jCGmmYyjP8BC4zceBs818P4g4vz4tpxLj96B8uTA', 'text': 'Hola'}}]}]}\n",
      "[{'sender': {'id': '4418021788217066'}, 'recipient': {'id': '109253348089942'}, 'timestamp': 1625689217305, 'message': {'mid': 'm_HqA0XkXkkSA1Exg2UzC55x2FPwH8Pwqo_sZ9EWc0Hzl4T1jCGmmYyjP8BC4zceBs818P4g4vz4tpxLj96B8uTA', 'text': 'Hola'}}]\n",
      "hilo consume\n",
      "\n",
      "______________________________________________no read__________________________________________________________________________\n",
      "\n",
      "\t\tMensaje enviado al Nucleo Logico->\n",
      "  {\"payload\": {\"robot\": \"none\", \"id_face\": \"109253348089942\", \"recipient_id\": \"4418021788217066\", \"access_token\": \"none\", \"content\": \"Hola\", \"type_resp\": \"message\", \"state\": \"none\", \"blocktype\": \"none\", \"opciones\": \"none\", \"entities\": {}}}\n"
     ]
    },
    {
     "name": "stderr",
     "output_type": "stream",
     "text": [
      "127.0.0.1 - - [07/Jul/2021 15:21:48] \"\u001b[37mPOST /apiREST/v1 HTTP/1.1\u001b[0m\" 200 -\n"
     ]
    },
    {
     "name": "stdout",
     "output_type": "stream",
     "text": [
      "\n",
      "_________________________________________________________________________________________________________________________\n",
      "Mesaje de la API de Facebook-> \n",
      " {'object': 'page', 'entry': [{'id': '109253348089942', 'time': 1625689311537, 'messaging': [{'sender': {'id': '4418021788217066'}, 'recipient': {'id': '109253348089942'}, 'timestamp': 1625689311631, 'read': {'watermark': 1625689311120}}]}]}\n",
      "hilo consume\n",
      " [.] Got %r None\n"
     ]
    },
    {
     "name": "stderr",
     "output_type": "stream",
     "text": [
      "127.0.0.1 - - [07/Jul/2021 15:21:49] \"\u001b[37mPOST /apiREST/v1 HTTP/1.1\u001b[0m\" 200 -\n"
     ]
    },
    {
     "name": "stdout",
     "output_type": "stream",
     "text": [
      "\n",
      "_________________________________________________________________________________________________________________________\n",
      "Mesaje de la API de Facebook-> \n",
      " {'object': 'page', 'entry': [{'id': '109253348089942', 'time': 1625689311716, 'messaging': [{'sender': {'id': '4418021788217066'}, 'recipient': {'id': '109253348089942'}, 'timestamp': 1625689311576, 'message': {'mid': 'm_dY5hdHgc34RDj1we36frYh2FPwH8Pwqo_sZ9EWc0HzlLgk_Uh2Q0710W6a3rqGnMJUNNQegeKBWRBc0Ahsq0Cg', 'text': 'Hola'}}]}]}\n",
      "[{'sender': {'id': '4418021788217066'}, 'recipient': {'id': '109253348089942'}, 'timestamp': 1625689311576, 'message': {'mid': 'm_dY5hdHgc34RDj1we36frYh2FPwH8Pwqo_sZ9EWc0HzlLgk_Uh2Q0710W6a3rqGnMJUNNQegeKBWRBc0Ahsq0Cg', 'text': 'Hola'}}]\n",
      "hilo consume\n",
      "\n",
      "______________________________________________no read__________________________________________________________________________\n",
      "\n",
      "\t\tMensaje enviado al Nucleo Logico->\n",
      "  {\"payload\": {\"robot\": \"none\", \"id_face\": \"109253348089942\", \"recipient_id\": \"4418021788217066\", \"access_token\": \"none\", \"content\": \"Hola\", \"type_resp\": \"message\", \"state\": \"none\", \"blocktype\": \"none\", \"opciones\": \"none\", \"entities\": {}}}\n",
      "\n",
      "_________________________________________________________________________________________________________________________\n",
      "\t\t\n",
      "Respuesta del Nucleo Logico->  {'Respuesta': {'content': 'Hola soy bot2', 'next_id': 'Informativo | e61376a2-83b0-4ccd-90b2-0d3b8d9fc04b | 46973551-1467-4450-7433-103925931451 | XTHyJxz6aPUIFVONQdUE', 'blockType': 'informativo', 'contentType': 'text', 'typingTime': '1', 'payload': {'content': '', 'state': 'Informativo | d602e284-c054-4f7f-90b0-3d079f8908e4 | XTHyJxz6aPUIFVONQdUE', 'recipient_id': '4418021788217066', 'entities': {}, 'access_token': 'EAAFMtaIPwugBABaSyaEaQxCjZB05xZAs5fag2JZCZB9LcVSFPJtAjcu48PewIfljpztLDiWZCZAINUghHfyn85rSKQxPnfZAMZA3DScogyb4Q1cg91NEiEgVLhlsHJXakq9diPLuJtiRqZC8kCp4MfZCllTvoPR0Jad4B0r0JWp8foAffcrjKebrSp'}}}\n",
      "\n",
      "\n",
      "---------------------------------------------------------------------------\n",
      "mensaje enviado a la API de facebook:\n",
      " {'message': {'text': 'Hola soy bot2'}, 'recipient': {'id': '4418021788217066'}, 'notification_type': 'REGULAR'}\n",
      " [.] Got %r None\n"
     ]
    },
    {
     "name": "stderr",
     "output_type": "stream",
     "text": [
      "127.0.0.1 - - [07/Jul/2021 15:21:50] \"\u001b[37mPOST /apiREST/v1 HTTP/1.1\u001b[0m\" 200 -\n",
      "127.0.0.1 - - [07/Jul/2021 15:21:50] \"\u001b[37mPOST /apiREST/v1 HTTP/1.1\u001b[0m\" 200 -\n"
     ]
    },
    {
     "name": "stdout",
     "output_type": "stream",
     "text": [
      "\n",
      "_________________________________________________________________________________________________________________________\n",
      "Mesaje de la API de Facebook-> \n",
      " \n",
      "_________________________________________________________________________________________________________________________\n",
      "Mesaje de la API de Facebook-> \n",
      " {'object': 'page', 'entry': [{'id': '109253348089942', 'time': 1625689313079, 'messaging': [{'sender': {'id': '4418021788217066'}, 'recipient': {'id': '109253348089942'}, 'timestamp': 1625689313120, 'delivery': {'mids': ['m_QCJ4-hOjkvav2Ik28B4SuR2FPwH8Pwqo_sZ9EWc0HznXGCc0-xsNdiKBStVacB6Sgb7jM4s5pWSMH-LoelJMVw'], 'watermark': 1625689312919}}]}]}\n",
      "{'object': 'page', 'entry': [{'id': '109253348089942', 'time': 1625689312966, 'messaging': [{'sender': {'id': '109253348089942'}, 'recipient': {'id': '4418021788217066'}, 'timestamp': 1625689312919, 'message': {'mid': 'm_QCJ4-hOjkvav2Ik28B4SuR2FPwH8Pwqo_sZ9EWc0HznXGCc0-xsNdiKBStVacB6Sgb7jM4s5pWSMH-LoelJMVw', 'is_echo': True, 'text': 'Hola soy bot2', 'app_id': 365817968444136}}]}]}\n",
      "[{'sender': {'id': '109253348089942'}, 'recipient': {'id': '4418021788217066'}, 'timestamp': 1625689312919, 'message': {'mid': 'm_QCJ4-hOjkvav2Ik28B4SuR2FPwH8Pwqo_sZ9EWc0HznXGCc0-xsNdiKBStVacB6Sgb7jM4s5pWSMH-LoelJMVw', 'is_echo': True, 'text': 'Hola soy bot2', 'app_id': 365817968444136}}]\n",
      "hilo consume\n",
      "\n",
      "______________________________________________no read__________________________________________________________________________\n",
      "\n",
      "\t\tMensaje enviado al Nucleo Logico->\n",
      "  {\"payload\": {\"robot\": \"none\", \"id_face\": \"109253348089942\", \"recipient_id\": \"109253348089942\", \"access_token\": \"none\", \"content\": \"Hola soy bot2\", \"type_resp\": \"message\", \"state\": \"none\", \"blocktype\": \"none\", \"opciones\": \"none\", \"entities\": {}}}\n"
     ]
    },
    {
     "name": "stderr",
     "output_type": "stream",
     "text": [
      "127.0.0.1 - - [07/Jul/2021 15:21:50] \"\u001b[37mPOST /apiREST/v1 HTTP/1.1\u001b[0m\" 200 -\n"
     ]
    },
    {
     "name": "stdout",
     "output_type": "stream",
     "text": [
      "\n",
      "_________________________________________________________________________________________________________________________\n",
      "Mesaje de la API de Facebook-> \n",
      " {'object': 'page', 'entry': [{'id': '109253348089942', 'time': 1625689313161, 'messaging': [{'sender': {'id': '4418021788217066'}, 'recipient': {'id': '109253348089942'}, 'timestamp': 1625689313308, 'read': {'watermark': 1625689313139}}]}]}\n",
      "hilo consume\n",
      "\n",
      "_________________________________________________________________________________________________________________________\n",
      "\t\t\n",
      "Respuesta del Nucleo Logico->  {'Respuesta': {'content': 'Hola soy bot2', 'next_id': 'Informativo | e61376a2-83b0-4ccd-90b2-0d3b8d9fc04b | 46973551-1467-4450-7433-103925931451 | XTHyJxz6aPUIFVONQdUE', 'blockType': 'informativo', 'contentType': 'text', 'typingTime': '1', 'payload': {'content': '', 'state': 'Informativo | d602e284-c054-4f7f-90b0-3d079f8908e4 | XTHyJxz6aPUIFVONQdUE', 'recipient_id': '109253348089942', 'entities': {}, 'access_token': 'EAAFMtaIPwugBABaSyaEaQxCjZB05xZAs5fag2JZCZB9LcVSFPJtAjcu48PewIfljpztLDiWZCZAINUghHfyn85rSKQxPnfZAMZA3DScogyb4Q1cg91NEiEgVLhlsHJXakq9diPLuJtiRqZC8kCp4MfZCllTvoPR0Jad4B0r0JWp8foAffcrjKebrSp'}}}\n",
      "\n",
      "\n",
      "---------------------------------------------------------------------------\n",
      "mensaje enviado a la API de facebook:\n",
      " {'message': {'text': 'Hola soy bot2'}, 'recipient': {'id': '109253348089942'}, 'notification_type': 'REGULAR'}\n",
      " [.] Got %r None\n",
      "\n",
      "_________________________________________________________________________________________________________________________\n",
      "\t\t\n",
      "Respuesta del Nucleo Logico->  {'Respuesta': {'content': 'Editando Bloque ', 'next_id': 'Input | 36f8147d-fcbb-41b0-8017-c8a481cbf661 | 46973551-1467-4450-7433-103925931451 | XTHyJxz6aPUIFVONQdUE', 'blockType': 'informativo', 'contentType': 'text', 'typingTime': '1', 'payload': {'content': '', 'state': 'Informativo | e61376a2-83b0-4ccd-90b2-0d3b8d9fc04b | 46973551-1467-4450-7433-103925931451 | XTHyJxz6aPUIFVONQdUE', 'recipient_id': '4418021788217066', 'entities': {}, 'access_token': 'EAAFMtaIPwugBABaSyaEaQxCjZB05xZAs5fag2JZCZB9LcVSFPJtAjcu48PewIfljpztLDiWZCZAINUghHfyn85rSKQxPnfZAMZA3DScogyb4Q1cg91NEiEgVLhlsHJXakq9diPLuJtiRqZC8kCp4MfZCllTvoPR0Jad4B0r0JWp8foAffcrjKebrSp'}}}\n",
      "\n",
      "\n",
      "---------------------------------------------------------------------------\n",
      "mensaje enviado a la API de facebook:\n",
      " {'message': {'text': 'Editando Bloque '}, 'recipient': {'id': '4418021788217066'}, 'notification_type': 'REGULAR'}\n",
      " [.] Got %r None\n",
      "\n",
      "_________________________________________________________________________________________________________________________\n"
     ]
    },
    {
     "name": "stderr",
     "output_type": "stream",
     "text": [
      "127.0.0.1 - - [07/Jul/2021 15:21:51] \"\u001b[37mPOST /apiREST/v1 HTTP/1.1\u001b[0m\" 200 -\n",
      "127.0.0.1 - - [07/Jul/2021 15:21:51] \"\u001b[37mPOST /apiREST/v1 HTTP/1.1\u001b[0m\" 200 -\n"
     ]
    },
    {
     "name": "stdout",
     "output_type": "stream",
     "text": [
      "Mesaje de la API de Facebook-> \n",
      "\n",
      "_________________________________________________________________________________________________________________________\n",
      "Mesaje de la API de Facebook-> \n",
      "  {'object': 'page', 'entry': [{'id': '109253348089942', 'time': 1625689314580, 'messaging': [{'sender': {'id': '4418021788217066'}, 'recipient': {'id': '109253348089942'}, 'timestamp': 1625689314619, 'delivery': {'mids': ['m_ONUdhhX8ZR-ARgolMR1RuB2FPwH8Pwqo_sZ9EWc0HzlE4ofSBkL6fBsoVfuBJqEAGMKXstIhGUq_moZ21gTv8g'], 'watermark': 1625689314436}}]}]}{'object': 'page', 'entry': [{'id': '109253348089942', 'time': 1625689314491, 'messaging': [{'sender': {'id': '109253348089942'}, 'recipient': {'id': '4418021788217066'}, 'timestamp': 1625689314436, 'message': {'mid': 'm_ONUdhhX8ZR-ARgolMR1RuB2FPwH8Pwqo_sZ9EWc0HzlE4ofSBkL6fBsoVfuBJqEAGMKXstIhGUq_moZ21gTv8g', 'is_echo': True, 'text': 'Editando Bloque', 'app_id': 365817968444136}}]}]}\n",
      "\n",
      "[{'sender': {'id': '109253348089942'}, 'recipient': {'id': '4418021788217066'}, 'timestamp': 1625689314436, 'message': {'mid': 'm_ONUdhhX8ZR-ARgolMR1RuB2FPwH8Pwqo_sZ9EWc0HzlE4ofSBkL6fBsoVfuBJqEAGMKXstIhGUq_moZ21gTv8g', 'is_echo': True, 'text': 'Editando Bloque', 'app_id': 365817968444136}}]\n",
      "hilo consume\n",
      "\n",
      "______________________________________________no read__________________________________________________________________________\n",
      "\n",
      "\t\tMensaje enviado al Nucleo Logico->\n",
      "  {\"payload\": {\"robot\": \"none\", \"id_face\": \"109253348089942\", \"recipient_id\": \"109253348089942\", \"access_token\": \"none\", \"content\": \"Editando Bloque\", \"type_resp\": \"message\", \"state\": \"none\", \"blocktype\": \"none\", \"opciones\": \"none\", \"entities\": {}}}\n"
     ]
    },
    {
     "name": "stderr",
     "output_type": "stream",
     "text": [
      "127.0.0.1 - - [07/Jul/2021 15:21:51] \"\u001b[37mPOST /apiREST/v1 HTTP/1.1\u001b[0m\" 200 -\n"
     ]
    },
    {
     "name": "stdout",
     "output_type": "stream",
     "text": [
      "\n",
      "_________________________________________________________________________________________________________________________\n",
      "Mesaje de la API de Facebook-> \n",
      " {'object': 'page', 'entry': [{'id': '109253348089942', 'time': 1625689314637, 'messaging': [{'sender': {'id': '4418021788217066'}, 'recipient': {'id': '109253348089942'}, 'timestamp': 1625689314789, 'read': {'watermark': 1625689314616}}]}]}\n",
      "hilo consume\n",
      "\n",
      "_________________________________________________________________________________________________________________________\n",
      "\t\t\n",
      "Respuesta del Nucleo Logico->  {'Respuesta': {'content': 'Hola soy bot2', 'next_id': 'Informativo | e61376a2-83b0-4ccd-90b2-0d3b8d9fc04b | 46973551-1467-4450-7433-103925931451 | XTHyJxz6aPUIFVONQdUE', 'blockType': 'informativo', 'contentType': 'text', 'typingTime': '1', 'payload': {'content': '', 'state': 'Informativo | d602e284-c054-4f7f-90b0-3d079f8908e4 | XTHyJxz6aPUIFVONQdUE', 'recipient_id': '109253348089942', 'entities': {}, 'access_token': 'EAAFMtaIPwugBABaSyaEaQxCjZB05xZAs5fag2JZCZB9LcVSFPJtAjcu48PewIfljpztLDiWZCZAINUghHfyn85rSKQxPnfZAMZA3DScogyb4Q1cg91NEiEgVLhlsHJXakq9diPLuJtiRqZC8kCp4MfZCllTvoPR0Jad4B0r0JWp8foAffcrjKebrSp'}}}\n",
      "\n",
      "\n",
      "---------------------------------------------------------------------------\n",
      "mensaje enviado a la API de facebook:\n",
      " {'message': {'text': 'Hola soy bot2'}, 'recipient': {'id': '109253348089942'}, 'notification_type': 'REGULAR'}\n",
      " [.] Got %r None\n",
      "\n",
      "_________________________________________________________________________________________________________________________\n",
      "\t\t\n",
      "Respuesta del Nucleo Logico->  {'Respuesta': {'content': 'Ingresa tu nombre', 'next_id': 'Carrusel | 16ad30d3-2b1e-433d-9f31-58de69dacffe | 46973551-1467-4450-7433-103925931451 | XTHyJxz6aPUIFVONQdUE', 'blockType': 'input', 'contentType': 'None', 'typingTime': '1', 'payload': {'content': '', 'state': 'Input | 36f8147d-fcbb-41b0-8017-c8a481cbf661 | 46973551-1467-4450-7433-103925931451 | XTHyJxz6aPUIFVONQdUE', 'recipient_id': '4418021788217066', 'entities': {}, 'access_token': 'EAAFMtaIPwugBABaSyaEaQxCjZB05xZAs5fag2JZCZB9LcVSFPJtAjcu48PewIfljpztLDiWZCZAINUghHfyn85rSKQxPnfZAMZA3DScogyb4Q1cg91NEiEgVLhlsHJXakq9diPLuJtiRqZC8kCp4MfZCllTvoPR0Jad4B0r0JWp8foAffcrjKebrSp'}, 'validacion': '', 'default_id': 'Input | 36f8147d-fcbb-41b0-8017-c8a481cbf661 | 46973551-1467-4450-7433-103925931451 | XTHyJxz6aPUIFVONQdUE'}}\n",
      "\n",
      "\n",
      "---------------------------------------------------------------------------\n",
      "mensaje enviado a la API de facebook:\n",
      " {'message': {'text': 'Ingresa tu nombre'}, 'recipient': {'id': '4418021788217066'}, 'notification_type': 'REGULAR'}\n",
      " [.] Got %r None\n",
      "\n",
      "_________________________________________________________________________________________________________________________\n",
      "Mesaje de la API de Facebook-> \n"
     ]
    },
    {
     "name": "stderr",
     "output_type": "stream",
     "text": [
      "127.0.0.1 - - [07/Jul/2021 15:21:53] \"\u001b[37mPOST /apiREST/v1 HTTP/1.1\u001b[0m\" 200 -\n",
      "127.0.0.1 - - [07/Jul/2021 15:21:53] \"\u001b[37mPOST /apiREST/v1 HTTP/1.1\u001b[0m\" 200 -\n"
     ]
    },
    {
     "name": "stdout",
     "output_type": "stream",
     "text": [
      " {'object': 'page', 'entry': [{'id': '109253348089942', 'time': 1625689316217, 'messaging': [{'sender': {'id': '4418021788217066'}, 'recipient': {'id': '109253348089942'}, 'timestamp': 1625689316270, 'delivery': {'mids': ['m_HfWHYHnneIse3ELYFMKbFx2FPwH8Pwqo_sZ9EWc0HzlwiP2UYE0Bgm2p4TelOiKDu6xXxlLjotqhOKA0_jjxag'], 'watermark': 1625689316094}}]}]}\n",
      "\n",
      "_________________________________________________________________________________________________________________________\n",
      "Mesaje de la API de Facebook-> \n",
      " {'object': 'page', 'entry': [{'id': '109253348089942', 'time': 1625689316210, 'messaging': [{'sender': {'id': '109253348089942'}, 'recipient': {'id': '4418021788217066'}, 'timestamp': 1625689316094, 'message': {'mid': 'm_HfWHYHnneIse3ELYFMKbFx2FPwH8Pwqo_sZ9EWc0HzlwiP2UYE0Bgm2p4TelOiKDu6xXxlLjotqhOKA0_jjxag', 'is_echo': True, 'text': 'Ingresa tu nombre', 'app_id': 365817968444136}}]}]}\n",
      "[{'sender': {'id': '109253348089942'}, 'recipient': {'id': '4418021788217066'}, 'timestamp': 1625689316094, 'message': {'mid': 'm_HfWHYHnneIse3ELYFMKbFx2FPwH8Pwqo_sZ9EWc0HzlwiP2UYE0Bgm2p4TelOiKDu6xXxlLjotqhOKA0_jjxag', 'is_echo': True, 'text': 'Ingresa tu nombre', 'app_id': 365817968444136}}]\n",
      "hilo consume\n",
      "\n",
      "______________________________________________no read__________________________________________________________________________\n",
      "\n",
      "\t\tMensaje enviado al Nucleo Logico->\n",
      " \n",
      "_________________________________________________________________________________________________________________________ {\"payload\": {\"robot\": \"none\", \"id_face\": \"109253348089942\", \"recipient_id\": \"109253348089942\", \"access_token\": \"none\", \"content\": \"Ingresa tu nombre\", \"type_resp\": \"message\", \"state\": \"none\", \"blocktype\": \"none\", \"opciones\": \"none\", \"entities\": {}}}\n",
      "\n",
      "Mesaje de la API de Facebook-> \n",
      " {'object': 'page', 'entry': [{'id': '109253348089942', 'time': 1625689316284, 'messaging': [{'sender': {'id': '4418021788217066'}, 'recipient': {'id': '109253348089942'}, 'timestamp': 1625689316427, 'read': {'watermark': 1625689316264}}]}]}\n"
     ]
    },
    {
     "name": "stderr",
     "output_type": "stream",
     "text": [
      "127.0.0.1 - - [07/Jul/2021 15:21:53] \"\u001b[37mPOST /apiREST/v1 HTTP/1.1\u001b[0m\" 200 -\n"
     ]
    },
    {
     "name": "stdout",
     "output_type": "stream",
     "text": [
      "hilo consume\n",
      "\n",
      "_________________________________________________________________________________________________________________________\n",
      "\t\t\n",
      "Respuesta del Nucleo Logico->  {'Respuesta': {'content': 'Hola soy bot2', 'next_id': 'Informativo | e61376a2-83b0-4ccd-90b2-0d3b8d9fc04b | 46973551-1467-4450-7433-103925931451 | XTHyJxz6aPUIFVONQdUE', 'blockType': 'informativo', 'contentType': 'text', 'typingTime': '1', 'payload': {'content': '', 'state': 'Informativo | d602e284-c054-4f7f-90b0-3d079f8908e4 | XTHyJxz6aPUIFVONQdUE', 'recipient_id': '109253348089942', 'entities': {}, 'access_token': 'EAAFMtaIPwugBABaSyaEaQxCjZB05xZAs5fag2JZCZB9LcVSFPJtAjcu48PewIfljpztLDiWZCZAINUghHfyn85rSKQxPnfZAMZA3DScogyb4Q1cg91NEiEgVLhlsHJXakq9diPLuJtiRqZC8kCp4MfZCllTvoPR0Jad4B0r0JWp8foAffcrjKebrSp'}}}\n",
      " [.] Got %r None\n",
      "\n",
      "\n",
      "---------------------------------------------------------------------------\n",
      "mensaje enviado a la API de facebook:\n",
      " {'message': {'text': 'Hola soy bot2'}, 'recipient': {'id': '109253348089942'}, 'notification_type': 'REGULAR'}\n",
      " [.] Got %r None\n"
     ]
    },
    {
     "name": "stderr",
     "output_type": "stream",
     "text": [
      "127.0.0.1 - - [07/Jul/2021 15:21:56] \"\u001b[37mPOST /apiREST/v1 HTTP/1.1\u001b[0m\" 200 -\n"
     ]
    },
    {
     "name": "stdout",
     "output_type": "stream",
     "text": [
      "\n",
      "_________________________________________________________________________________________________________________________\n",
      "Mesaje de la API de Facebook-> \n",
      " {'object': 'page', 'entry': [{'id': '109253348089942', 'time': 1625689319325, 'messaging': [{'sender': {'id': '4418021788217066'}, 'recipient': {'id': '109253348089942'}, 'timestamp': 1625689319489, 'read': {'watermark': 1625689318934}}]}]}\n",
      "hilo consume\n",
      " [.] Got %r "
     ]
    },
    {
     "name": "stderr",
     "output_type": "stream",
     "text": [
      "127.0.0.1 - - [07/Jul/2021 15:21:56] \"\u001b[37mPOST /apiREST/v1 HTTP/1.1\u001b[0m\" 200 -\n"
     ]
    },
    {
     "name": "stdout",
     "output_type": "stream",
     "text": [
      "None\n",
      "\n",
      "_________________________________________________________________________________________________________________________\n",
      "Mesaje de la API de Facebook-> \n",
      " {'object': 'page', 'entry': [{'id': '109253348089942', 'time': 1625689319525, 'messaging': [{'sender': {'id': '4418021788217066'}, 'recipient': {'id': '109253348089942'}, 'timestamp': 1625689319365, 'message': {'mid': 'm_Zu1ow-xuoC9uwPYovJiLwR2FPwH8Pwqo_sZ9EWc0Hzk2hgSX6Zw1KF3PvhYUyE667r2E0uTjeYUUTsBfSfmIyg', 'text': 'Oswaldo'}}]}]}\n",
      "[{'sender': {'id': '4418021788217066'}, 'recipient': {'id': '109253348089942'}, 'timestamp': 1625689319365, 'message': {'mid': 'm_Zu1ow-xuoC9uwPYovJiLwR2FPwH8Pwqo_sZ9EWc0Hzk2hgSX6Zw1KF3PvhYUyE667r2E0uTjeYUUTsBfSfmIyg', 'text': 'Oswaldo'}}]\n",
      "hilo consume\n",
      "\n",
      "______________________________________________no read__________________________________________________________________________\n",
      "\n",
      "\t\tMensaje enviado al Nucleo Logico->\n",
      "  {\"payload\": {\"robot\": \"none\", \"id_face\": \"109253348089942\", \"recipient_id\": \"4418021788217066\", \"access_token\": \"none\", \"content\": \"Oswaldo\", \"type_resp\": \"message\", \"state\": \"none\", \"blocktype\": \"none\", \"opciones\": \"none\", \"entities\": {}}}\n",
      "\n",
      "_________________________________________________________________________________________________________________________\n",
      "\t\t\n",
      "Respuesta del Nucleo Logico->  {'Respuesta': {'content': [{'title': 'P1', 'image_url': 'https://analyticsindiamag.com/wp-content/uploads/2020/10/7d744a684fe03ebc7e8de545f97739dd.jpg', 'subtitle': 'S1', 'buttons': [{'titleButton': 'www.github.com', 'typeButton': 'web_url', 'urlButton': 'www.github.com'}, {'titleButton': 'Op', 'typeButton': 'postback', 'payloadButton': 'QuickReply | 4f8b7fc2-89c3-4982-bb9c-69024f6d6c52 | XTHyJxz6aPUIFVONQdUE'}]}], 'next_id': ['www.github.com', 'QuickReply | 4f8b7fc2-89c3-4982-bb9c-69024f6d6c52 | XTHyJxz6aPUIFVONQdUE'], 'blockType': 'slide', 'contentType': ' ', 'typingTime': 1, 'payload': {'content': '', 'state': 'Carrusel | 16ad30d3-2b1e-433d-9f31-58de69dacffe | 46973551-1467-4450-7433-103925931451 | XTHyJxz6aPUIFVONQdUE', 'recipient_id': '4418021788217066', 'entities': {'variableInputInput_|_36f8147d-fcbb-41b0-8017-c8a481cbf6614925': 'Oswaldo'}, 'access_token': 'EAAFMtaIPwugBABaSyaEaQxCjZB05xZAs5fag2JZCZB9LcVSFPJtAjcu48PewIfljpztLDiWZCZAINUghHfyn85rSKQxPnfZAMZA3DScogyb4Q1cg91NEiEgVLhlsHJXakq9diPLuJtiRqZC8kCp4MfZCllTvoPR0Jad4B0r0JWp8foAffcrjKebrSp'}, 'default_id': 'Carrusel | 16ad30d3-2b1e-433d-9f31-58de69dacffe | 46973551-1467-4450-7433-103925931451 | XTHyJxz6aPUIFVONQdUE', 'save_var': '0'}}\n",
      "pyload slide:  {'recipient': {'id': '4418021788217066'}, 'message': {'attachment': {'type': 'template', 'payload': {'template_type': 'generic', 'elements': [{'title': 'P1', 'image_url': 'https://analyticsindiamag.com/wp-content/uploads/2020/10/7d744a684fe03ebc7e8de545f97739dd.jpg', 'subtitle': 'S1', 'buttons': [{'title': 'www.github.com', 'type': 'web_url', 'url': 'www.github.com'}, {'title': 'Op', 'type': 'postback', 'payload': 'QuickReply | 4f8b7fc2-89c3-4982-bb9c-69024f6d6c52 | XTHyJxz6aPUIFVONQdUE'}]}]}}}, 'notification_type': 'REGULAR'}\n",
      "\n",
      "\n",
      "---------------------------------------------------------------------------\n",
      "mensaje enviado a la API de facebook:\n",
      " {'recipient': {'id': '4418021788217066'}, 'message': {'attachment': {'type': 'template', 'payload': {'template_type': 'generic', 'elements': [{'title': 'P1', 'image_url': 'https://analyticsindiamag.com/wp-content/uploads/2020/10/7d744a684fe03ebc7e8de545f97739dd.jpg', 'subtitle': 'S1', 'buttons': [{'title': 'www.github.com', 'type': 'web_url', 'url': 'www.github.com'}, {'title': 'Op', 'type': 'postback', 'payload': 'QuickReply | 4f8b7fc2-89c3-4982-bb9c-69024f6d6c52 | XTHyJxz6aPUIFVONQdUE'}]}]}}}, 'notification_type': 'REGULAR'}\n",
      " [.] Got %r None\n"
     ]
    },
    {
     "name": "stderr",
     "output_type": "stream",
     "text": [
      "127.0.0.1 - - [07/Jul/2021 15:21:58] \"\u001b[37mPOST /apiREST/v1 HTTP/1.1\u001b[0m\" 200 -\n"
     ]
    },
    {
     "name": "stdout",
     "output_type": "stream",
     "text": [
      "\n",
      "_________________________________________________________________________________________________________________________\n",
      "Mesaje de la API de Facebook-> \n",
      " {'object': 'page', 'entry': [{'id': '109253348089942', 'time': 1625689321390, 'messaging': [{'sender': {'id': '4418021788217066'}, 'recipient': {'id': '109253348089942'}, 'timestamp': 1625689321446, 'delivery': {'mids': ['m_MMeqwRBI5fAWv8Ndh0twmx2FPwH8Pwqo_sZ9EWc0HznO0LpWd9B52h2OLMZ40ZCuEBxxqti-XJIdt_YbNjTjvw'], 'watermark': 1625689321145}}]}]}\n",
      "\n",
      "_________________________________________________________________________________________________________________________\n",
      "Mesaje de la API de Facebook-> \n",
      " {'object': 'page', 'entry': [{'id': '109253348089942', 'time': 1625689321211, 'messaging': [{'sender': {'id': '109253348089942'}, 'recipient': {'id': '4418021788217066'}, 'timestamp': 1625689321145, 'message': {'mid': 'm_MMeqwRBI5fAWv8Ndh0twmx2FPwH8Pwqo_sZ9EWc0HznO0LpWd9B52h2OLMZ40ZCuEBxxqti-XJIdt_YbNjTjvw', 'is_echo': True, 'app_id': 365817968444136, 'attachments': [{'title': 'P1', 'url': None, 'type': 'template', 'payload': {'template_type': 'generic', 'sharable': False, 'elements': [{'title': 'P1', 'image_url': 'https://analyticsindiamag.com/wp-content/uploads/2020/10/7d744a684fe03ebc7e8de545f97739dd.jpg', 'subtitle': 'S1', 'buttons': [{'type': 'web_url', 'url': 'http://www.github.com/', 'title': 'www.github.com'}, {'type': 'postback', 'title': 'Op', 'payload': 'QuickReply | 4f8b7fc2-89c3-4982-bb9c-69024f6d6c52 | XTHyJxz6aPUIFVONQdUE'}]}]}}]}}]}]}\n",
      "[{'sender': {'id': '109253348089942'}, 'recipient': {'id': '4418021788217066'}, 'timestamp': 1625689321145, 'message': {'mid': 'm_MMeqwRBI5fAWv8Ndh0twmx2FPwH8Pwqo_sZ9EWc0HznO0LpWd9B52h2OLMZ40ZCuEBxxqti-XJIdt_YbNjTjvw', 'is_echo': True, 'app_id': 365817968444136, 'attachments': [{'title': 'P1', 'url': None, 'type': 'template', 'payload': {'template_type': 'generic', 'sharable': False, 'elements': [{'title': 'P1', 'image_url': 'https://analyticsindiamag.com/wp-content/uploads/2020/10/7d744a684fe03ebc7e8de545f97739dd.jpg', 'subtitle': 'S1', 'buttons': [{'type': 'web_url', 'url': 'http://www.github.com/', 'title': 'www.github.com'}, {'type': 'postback', 'title': 'Op', 'payload': 'QuickReply | 4f8b7fc2-89c3-4982-bb9c-69024f6d6c52 | XTHyJxz6aPUIFVONQdUE'}]}]}}]}}]\n"
     ]
    },
    {
     "name": "stderr",
     "output_type": "stream",
     "text": [
      "127.0.0.1 - - [07/Jul/2021 15:21:58] \"\u001b[37mPOST /apiREST/v1 HTTP/1.1\u001b[0m\" 200 -\n",
      "127.0.0.1 - - [07/Jul/2021 15:21:58] \"\u001b[37mPOST /apiREST/v1 HTTP/1.1\u001b[0m\" 200 -\n"
     ]
    },
    {
     "name": "stdout",
     "output_type": "stream",
     "text": [
      "\n",
      "_________________________________________________________________________________________________________________________\n",
      "Mesaje de la API de Facebook-> \n",
      " {'object': 'page', 'entry': [{'id': '109253348089942', 'time': 1625689321489, 'messaging': [{'sender': {'id': '4418021788217066'}, 'recipient': {'id': '109253348089942'}, 'timestamp': 1625689321639, 'read': {'watermark': 1625689321464}}]}]}\n",
      "hilo consume\n",
      "\n",
      "______________________________________________no read__________________________________________________________________________\n",
      "\n",
      "\t\tMensaje enviado al Nucleo Logico->\n",
      "  {\"payload\": {\"robot\": \"none\", \"id_face\": \"109253348089942\", \"recipient_id\": \"109253348089942\", \"access_token\": \"none\", \"content\": [{\"title\": \"P1\", \"url\": null, \"type\": \"template\", \"payload\": {\"template_type\": \"generic\", \"sharable\": false, \"elements\": [{\"title\": \"P1\", \"image_url\": \"https://analyticsindiamag.com/wp-content/uploads/2020/10/7d744a684fe03ebc7e8de545f97739dd.jpg\", \"subtitle\": \"S1\", \"buttons\": [{\"type\": \"web_url\", \"url\": \"http://www.github.com/\", \"title\": \"www.github.com\"}, {\"type\": \"postback\", \"title\": \"Op\", \"payload\": \"QuickReply | 4f8b7fc2-89c3-4982-bb9c-69024f6d6c52 | XTHyJxz6aPUIFVONQdUE\"}]}]}}], \"type_resp\": \"message\", \"state\": \"none\", \"blocktype\": \"none\", \"opciones\": \"none\", \"entities\": {}}}\n",
      "hilo consume\n",
      "\n",
      "_________________________________________________________________________________________________________________________\n",
      "\t\t\n",
      "Respuesta del Nucleo Logico->  {'Respuesta': {'content': 'Hola soy bot2', 'next_id': 'Informativo | e61376a2-83b0-4ccd-90b2-0d3b8d9fc04b | 46973551-1467-4450-7433-103925931451 | XTHyJxz6aPUIFVONQdUE', 'blockType': 'informativo', 'contentType': 'text', 'typingTime': '1', 'payload': {'content': '', 'state': 'Informativo | d602e284-c054-4f7f-90b0-3d079f8908e4 | XTHyJxz6aPUIFVONQdUE', 'recipient_id': '109253348089942', 'entities': {}, 'access_token': 'EAAFMtaIPwugBABaSyaEaQxCjZB05xZAs5fag2JZCZB9LcVSFPJtAjcu48PewIfljpztLDiWZCZAINUghHfyn85rSKQxPnfZAMZA3DScogyb4Q1cg91NEiEgVLhlsHJXakq9diPLuJtiRqZC8kCp4MfZCllTvoPR0Jad4B0r0JWp8foAffcrjKebrSp'}}}\n",
      " [.] Got %r None\n",
      "\n",
      "\n",
      "---------------------------------------------------------------------------\n",
      "mensaje enviado a la API de facebook:\n",
      " {'message': {'text': 'Hola soy bot2'}, 'recipient': {'id': '109253348089942'}, 'notification_type': 'REGULAR'}\n",
      " [.] Got %r None\n"
     ]
    },
    {
     "name": "stderr",
     "output_type": "stream",
     "text": [
      "127.0.0.1 - - [07/Jul/2021 15:22:02] \"\u001b[37mPOST /apiREST/v1 HTTP/1.1\u001b[0m\" 200 -\n"
     ]
    },
    {
     "name": "stdout",
     "output_type": "stream",
     "text": [
      "\n",
      "_________________________________________________________________________________________________________________________\n",
      "Mesaje de la API de Facebook-> \n",
      " {'object': 'page', 'entry': [{'id': '109253348089942', 'time': 1625689325799, 'messaging': [{'sender': {'id': '4418021788217066'}, 'recipient': {'id': '109253348089942'}, 'timestamp': 1625689325908, 'read': {'watermark': 1625689325417}}]}]}\n",
      "hilo consume\n",
      " [.] Got %r None\n"
     ]
    },
    {
     "name": "stderr",
     "output_type": "stream",
     "text": [
      "127.0.0.1 - - [07/Jul/2021 15:22:03] \"\u001b[37mPOST /apiREST/v1 HTTP/1.1\u001b[0m\" 200 -\n"
     ]
    },
    {
     "name": "stdout",
     "output_type": "stream",
     "text": [
      "\n",
      "_________________________________________________________________________________________________________________________\n",
      "Mesaje de la API de Facebook-> \n",
      " {'object': 'page', 'entry': [{'id': '109253348089942', 'time': 1625689325994, 'messaging': [{'sender': {'id': '4418021788217066'}, 'recipient': {'id': '109253348089942'}, 'timestamp': 1625689325847, 'postback': {'title': 'Op', 'payload': 'QuickReply | 4f8b7fc2-89c3-4982-bb9c-69024f6d6c52 | XTHyJxz6aPUIFVONQdUE', 'mid': 'm_kjuuJyXdBiU9hWJlrvtfPx2FPwH8Pwqo_sZ9EWc0HzmBtc5cX3rmq2sCe5OJNWbgP6oVZkDsQcymgSWegSFMfw'}}]}]}\n",
      "hilo consume\n",
      "\n",
      "______________________________________________no read__________________________________________________________________________\n",
      "\n",
      "\t\tMensaje enviado al Nucleo Logico->\n",
      "  {\"payload\": {\"robot\": \"none\", \"id_face\": \"109253348089942\", \"recipient_id\": \"4418021788217066\", \"access_token\": \"none\", \"content\": \"QuickReply | 4f8b7fc2-89c3-4982-bb9c-69024f6d6c52 | XTHyJxz6aPUIFVONQdUE\", \"type_resp\": \"postback\", \"state\": \"none\", \"blocktype\": \"none\", \"opciones\": \"none\", \"entities\": {}}}\n",
      "\n",
      "_________________________________________________________________________________________________________________________\n",
      "\t\t\n",
      "Respuesta del Nucleo Logico->  {'Respuesta': {'content': 'Probando QR', 'next_id': 'Informativo | 38f82c6d-a32e-4687-ae19-71aebb228e68 | XTHyJxz6aPUIFVONQdUE', 'blockType': 'quickReply', 'contentType': ' ', 'typingTime': '1', 'payload': {'content': '', 'state': 'QuickReply | 4f8b7fc2-89c3-4982-bb9c-69024f6d6c52 | XTHyJxz6aPUIFVONQdUE', 'recipient_id': '4418021788217066', 'entities': {'variableInputInput_|_36f8147d-fcbb-41b0-8017-c8a481cbf6614925': 'Oswaldo', 'variableCarrCarrusel_|_16ad30d3-2b1e-433d-9f31-58de69dacffe9008': 'QuickReply | 4f8b7fc2-89c3-4982-bb9c-69024f6d6c52 | XTHyJxz6aPUIFVONQdUE'}, 'access_token': 'EAAFMtaIPwugBABaSyaEaQxCjZB05xZAs5fag2JZCZB9LcVSFPJtAjcu48PewIfljpztLDiWZCZAINUghHfyn85rSKQxPnfZAMZA3DScogyb4Q1cg91NEiEgVLhlsHJXakq9diPLuJtiRqZC8kCp4MfZCllTvoPR0Jad4B0r0JWp8foAffcrjKebrSp'}, 'options': ['OPC1'], 'default_id': 'QuickReply | 4f8b7fc2-89c3-4982-bb9c-69024f6d6c52 | XTHyJxz6aPUIFVONQdUE', 'save_var': '0'}}\n",
      "\n",
      "\n",
      "---------------------------------------------------------------------------\n",
      "mensaje enviado a la API de facebook:\n",
      " {'message': {'attachment': {'type': 'template', 'payload': {'template_type': 'button', 'text': 'Probando QR', 'buttons': [{'title': 'OPC1', 'type': 'postback', 'payload': 'OPC1'}]}}}, 'recipient': {'id': '4418021788217066'}, 'notification_type': 'REGULAR'}\n",
      " [.] Got %r None\n",
      "\n",
      "_________________________________________________________________________________________________________________________\n",
      "Mesaje de la API de Facebook-> \n"
     ]
    },
    {
     "name": "stderr",
     "output_type": "stream",
     "text": [
      "127.0.0.1 - - [07/Jul/2021 15:22:04] \"\u001b[37mPOST /apiREST/v1 HTTP/1.1\u001b[0m\" 200 -\n",
      "127.0.0.1 - - [07/Jul/2021 15:22:04] \"\u001b[37mPOST /apiREST/v1 HTTP/1.1\u001b[0m\" 200 -\n"
     ]
    },
    {
     "name": "stdout",
     "output_type": "stream",
     "text": [
      " {'object': 'page', 'entry': [{'id': '109253348089942', 'time': 1625689327762, 'messaging': [{'sender': {'id': '4418021788217066'}, 'recipient': {'id': '109253348089942'}, 'timestamp': 1625689327799, 'delivery': {'mids': ['m_ORzFctFey7GQjO5W0NDN_B2FPwH8Pwqo_sZ9EWc0Hznk9TBY6sE2Sg4XZ8fukihqbB6nmUPnlN-dMOQMLt2uJw'], 'watermark': 1625689327577}}]}]}\n",
      "\n",
      "_________________________________________________________________________________________________________________________\n",
      "Mesaje de la API de Facebook-> \n",
      " {'object': 'page', 'entry': [{'id': '109253348089942', 'time': 1625689327688, 'messaging': [{'sender': {'id': '109253348089942'}, 'recipient': {'id': '4418021788217066'}, 'timestamp': 1625689327577, 'message': {'mid': 'm_ORzFctFey7GQjO5W0NDN_B2FPwH8Pwqo_sZ9EWc0Hznk9TBY6sE2Sg4XZ8fukihqbB6nmUPnlN-dMOQMLt2uJw', 'is_echo': True, 'text': 'Probando QR', 'app_id': 365817968444136, 'attachments': [{'title': '', 'url': None, 'type': 'template', 'payload': {'template_type': 'button', 'buttons': [{'type': 'postback', 'title': 'OPC1', 'payload': 'OPC1'}]}}]}}]}]}\n",
      "[{'sender': {'id': '109253348089942'}, 'recipient': {'id': '4418021788217066'}, 'timestamp': 1625689327577, 'message': {'mid': 'm_ORzFctFey7GQjO5W0NDN_B2FPwH8Pwqo_sZ9EWc0Hznk9TBY6sE2Sg4XZ8fukihqbB6nmUPnlN-dMOQMLt2uJw', 'is_echo': True, 'text': 'Probando QR', 'app_id': 365817968444136, 'attachments': [{'title': '', 'url': None, 'type': 'template', 'payload': {'template_type': 'button', 'buttons': [{'type': 'postback', 'title': 'OPC1', 'payload': 'OPC1'}]}}]}}]\n",
      "hilo consume\n",
      "\n",
      "______________________________________________no read__________________________________________________________________________\n",
      "\n",
      "\t\tMensaje enviado al Nucleo Logico->\n",
      "  {\"payload\": {\"robot\": \"none\", \"id_face\": \"109253348089942\", \"recipient_id\": \"109253348089942\", \"access_token\": \"none\", \"content\": \"Probando QR\", \"type_resp\": \"message\", \"state\": \"none\", \"blocktype\": \"none\", \"opciones\": \"none\", \"entities\": {}}}\n",
      "\n",
      "_________________________________________________________________________________________________________________________\n",
      "Mesaje de la API de Facebook-> \n"
     ]
    },
    {
     "name": "stderr",
     "output_type": "stream",
     "text": [
      "127.0.0.1 - - [07/Jul/2021 15:22:05] \"\u001b[37mPOST /apiREST/v1 HTTP/1.1\u001b[0m\" 200 -\n"
     ]
    },
    {
     "name": "stdout",
     "output_type": "stream",
     "text": [
      " {'object': 'page', 'entry': [{'id': '109253348089942', 'time': 1625689327830, 'messaging': [{'sender': {'id': '4418021788217066'}, 'recipient': {'id': '109253348089942'}, 'timestamp': 1625689327979, 'read': {'watermark': 1625689327810}}]}]}\n",
      "hilo consume\n",
      "\n",
      "_________________________________________________________________________________________________________________________\n",
      "\t\t\n",
      "Respuesta del Nucleo Logico->  {'Respuesta': {'content': 'Hola soy bot2', 'next_id': 'Informativo | e61376a2-83b0-4ccd-90b2-0d3b8d9fc04b | 46973551-1467-4450-7433-103925931451 | XTHyJxz6aPUIFVONQdUE', 'blockType': 'informativo', 'contentType': 'text', 'typingTime': '1', 'payload': {'content': '', 'state': 'Informativo | d602e284-c054-4f7f-90b0-3d079f8908e4 | XTHyJxz6aPUIFVONQdUE', 'recipient_id': '109253348089942', 'entities': {}, 'access_token': 'EAAFMtaIPwugBABaSyaEaQxCjZB05xZAs5fag2JZCZB9LcVSFPJtAjcu48PewIfljpztLDiWZCZAINUghHfyn85rSKQxPnfZAMZA3DScogyb4Q1cg91NEiEgVLhlsHJXakq9diPLuJtiRqZC8kCp4MfZCllTvoPR0Jad4B0r0JWp8foAffcrjKebrSp'}}}\n",
      " [.] Got %r None\n",
      "\n",
      "\n",
      "---------------------------------------------------------------------------\n",
      "mensaje enviado a la API de facebook:\n",
      " {'message': {'text': 'Hola soy bot2'}, 'recipient': {'id': '109253348089942'}, 'notification_type': 'REGULAR'}\n",
      " [.] Got %r None\n"
     ]
    },
    {
     "name": "stderr",
     "output_type": "stream",
     "text": [
      "127.0.0.1 - - [07/Jul/2021 15:22:06] \"\u001b[37mPOST /apiREST/v1 HTTP/1.1\u001b[0m\" 200 -\n"
     ]
    },
    {
     "name": "stdout",
     "output_type": "stream",
     "text": [
      "\n",
      "_________________________________________________________________________________________________________________________\n",
      "Mesaje de la API de Facebook-> \n",
      " {'object': 'page', 'entry': [{'id': '109253348089942', 'time': 1625689329134, 'messaging': [{'sender': {'id': '4418021788217066'}, 'recipient': {'id': '109253348089942'}, 'timestamp': 1625689329233, 'read': {'watermark': 1625689328753}}]}]}\n",
      "hilo consume\n",
      " [.] Got %r None\n"
     ]
    },
    {
     "name": "stderr",
     "output_type": "stream",
     "text": [
      "127.0.0.1 - - [07/Jul/2021 15:22:07] \"\u001b[37mPOST /apiREST/v1 HTTP/1.1\u001b[0m\" 200 -\n"
     ]
    },
    {
     "name": "stdout",
     "output_type": "stream",
     "text": [
      "\n",
      "_________________________________________________________________________________________________________________________\n",
      "Mesaje de la API de Facebook-> \n",
      " {'object': 'page', 'entry': [{'id': '109253348089942', 'time': 1625689329334, 'messaging': [{'sender': {'id': '4418021788217066'}, 'recipient': {'id': '109253348089942'}, 'timestamp': 1625689329175, 'postback': {'title': 'OPC1', 'payload': 'OPC1', 'mid': 'm_UN_GKx8XV22sO4ZSM22Pix2FPwH8Pwqo_sZ9EWc0HzkZyHD0ybDdBTCvdTb0-dev6cMRrjCj3kDdMCpmI77wug'}}]}]}\n",
      "hilo consume\n",
      "\n",
      "______________________________________________no read__________________________________________________________________________\n",
      "\n",
      "\t\tMensaje enviado al Nucleo Logico->\n",
      "  {\"payload\": {\"robot\": \"none\", \"id_face\": \"109253348089942\", \"recipient_id\": \"4418021788217066\", \"access_token\": \"none\", \"content\": \"OPC1\", \"type_resp\": \"postback\", \"state\": \"none\", \"blocktype\": \"none\", \"opciones\": \"none\", \"entities\": {}}}\n",
      "\n",
      "_________________________________________________________________________________________________________________________\n",
      "\t\t\n",
      "Respuesta del Nucleo Logico->  {'Respuesta': {'content': 'Adios oswa', 'next_id': 'Salida', 'blockType': 'informativo', 'contentType': 'text', 'typingTime': '1', 'payload': {'content': '', 'state': 'Informativo | 38f82c6d-a32e-4687-ae19-71aebb228e68 | XTHyJxz6aPUIFVONQdUE', 'recipient_id': '4418021788217066', 'entities': {'variableInputInput_|_36f8147d-fcbb-41b0-8017-c8a481cbf6614925': 'Oswaldo', 'variableCarrCarrusel_|_16ad30d3-2b1e-433d-9f31-58de69dacffe9008': 'QuickReply | 4f8b7fc2-89c3-4982-bb9c-69024f6d6c52 | XTHyJxz6aPUIFVONQdUE', 'variableQrQuickReply_|_4f8b7fc2-89c3-4982-bb9c-69024f6d6c523356': 'OPC1'}, 'access_token': 'EAAFMtaIPwugBABaSyaEaQxCjZB05xZAs5fag2JZCZB9LcVSFPJtAjcu48PewIfljpztLDiWZCZAINUghHfyn85rSKQxPnfZAMZA3DScogyb4Q1cg91NEiEgVLhlsHJXakq9diPLuJtiRqZC8kCp4MfZCllTvoPR0Jad4B0r0JWp8foAffcrjKebrSp'}}}\n",
      "\n",
      "\n",
      "---------------------------------------------------------------------------\n",
      "mensaje enviado a la API de facebook:\n",
      " {'message': {'text': 'Adios oswa'}, 'recipient': {'id': '4418021788217066'}, 'notification_type': 'REGULAR'}\n",
      " [.] Got %r None\n",
      "\n",
      "_________________________________________________________________________________________________________________________\n",
      "Mesaje de la API de Facebook-> \n",
      " "
     ]
    },
    {
     "name": "stderr",
     "output_type": "stream",
     "text": [
      "127.0.0.1 - - [07/Jul/2021 15:22:08] \"\u001b[37mPOST /apiREST/v1 HTTP/1.1\u001b[0m\" 200 -\n",
      "127.0.0.1 - - [07/Jul/2021 15:22:08] \"\u001b[37mPOST /apiREST/v1 HTTP/1.1\u001b[0m\" 200 -\n"
     ]
    },
    {
     "name": "stdout",
     "output_type": "stream",
     "text": [
      "{'object': 'page', 'entry': [{'id': '109253348089942', 'time': 1625689331275, 'messaging': [{'sender': {'id': '4418021788217066'}, 'recipient': {'id': '109253348089942'}, 'timestamp': 1625689331311, 'delivery': {'mids': ['m_I1tj3wSglV1gNr3y_2iqmR2FPwH8Pwqo_sZ9EWc0Hzk8MlDI1Gd144LokQH0Ty4hKYEEivKWhUaRGG27FNh5pw'], 'watermark': 1625689331127}}]}]}\n",
      "\n",
      "_________________________________________________________________________________________________________________________\n",
      "Mesaje de la API de Facebook-> \n",
      " {'object': 'page', 'entry': [{'id': '109253348089942', 'time': 1625689331234, 'messaging': [{'sender': {'id': '109253348089942'}, 'recipient': {'id': '4418021788217066'}, 'timestamp': 1625689331127, 'message': {'mid': 'm_I1tj3wSglV1gNr3y_2iqmR2FPwH8Pwqo_sZ9EWc0Hzk8MlDI1Gd144LokQH0Ty4hKYEEivKWhUaRGG27FNh5pw', 'is_echo': True, 'text': 'Adios oswa', 'app_id': 365817968444136}}]}]}\n",
      "\n",
      "_________________________________________________________________________________________________________________________\n",
      "Mesaje de la API de Facebook-> \n",
      " {'object': 'page', 'entry': [{'id': '109253348089942', 'time': 1625689331323, 'messaging': [{'sender': {'id': '4418021788217066'}, 'recipient': {'id': '109253348089942'}, 'timestamp': 1625689331422, 'read': {'watermark': 1625689331304}}]}]}\n",
      "[{'sender': {'id': '109253348089942'}, 'recipient': {'id': '4418021788217066'}, 'timestamp': 1625689331127, 'message': {'mid': 'm_I1tj3wSglV1gNr3y_2iqmR2FPwH8Pwqo_sZ9EWc0Hzk8MlDI1Gd144LokQH0Ty4hKYEEivKWhUaRGG27FNh5pw', 'is_echo': True, 'text': 'Adios oswa', 'app_id': 365817968444136}}]\n",
      "hilo consume\n",
      "\n",
      "______________________________________________no read__________________________________________________________________________\n",
      "\n",
      "\t\tMensaje enviado al Nucleo Logico->\n",
      "  {\"payload\": {\"robot\": \"none\", \"id_face\": \"109253348089942\", \"recipient_id\": \"109253348089942\", \"access_token\": \"none\", \"content\": \"Adios oswa\", \"type_resp\": \"message\", \"state\": \"none\", \"blocktype\": \"none\", \"opciones\": \"none\", \"entities\": {}}}\n",
      "hilo consume\n"
     ]
    },
    {
     "name": "stderr",
     "output_type": "stream",
     "text": [
      "127.0.0.1 - - [07/Jul/2021 15:22:08] \"\u001b[37mPOST /apiREST/v1 HTTP/1.1\u001b[0m\" 200 -\n"
     ]
    },
    {
     "name": "stdout",
     "output_type": "stream",
     "text": [
      "\n",
      "_________________________________________________________________________________________________________________________\n",
      "\t\t\n",
      "Respuesta del Nucleo Logico->  {'Respuesta': {'content': 'Hola soy bot2', 'next_id': 'Informativo | e61376a2-83b0-4ccd-90b2-0d3b8d9fc04b | 46973551-1467-4450-7433-103925931451 | XTHyJxz6aPUIFVONQdUE', 'blockType': 'informativo', 'contentType': 'text', 'typingTime': '1', 'payload': {'content': '', 'state': 'Informativo | d602e284-c054-4f7f-90b0-3d079f8908e4 | XTHyJxz6aPUIFVONQdUE', 'recipient_id': '109253348089942', 'entities': {}, 'access_token': 'EAAFMtaIPwugBABaSyaEaQxCjZB05xZAs5fag2JZCZB9LcVSFPJtAjcu48PewIfljpztLDiWZCZAINUghHfyn85rSKQxPnfZAMZA3DScogyb4Q1cg91NEiEgVLhlsHJXakq9diPLuJtiRqZC8kCp4MfZCllTvoPR0Jad4B0r0JWp8foAffcrjKebrSp'}}}\n",
      "\n",
      "\n",
      "---------------------------------------------------------------------------\n",
      "mensaje enviado a la API de facebook:\n",
      " {'message': {'text': 'Hola soy bot2'}, 'recipient': {'id': '109253348089942'}, 'notification_type': 'REGULAR'}\n",
      " [.] Got %r None\n"
     ]
    },
    {
     "name": "stderr",
     "output_type": "stream",
     "text": [
      "127.0.0.1 - - [07/Jul/2021 15:23:43] \"\u001b[37mPOST /apiREST/v1 HTTP/1.1\u001b[0m\" 200 -\n"
     ]
    },
    {
     "name": "stdout",
     "output_type": "stream",
     "text": [
      "\n",
      "_________________________________________________________________________________________________________________________\n",
      "Mesaje de la API de Facebook-> \n",
      " {'object': 'page', 'entry': [{'id': '109253348089942', 'time': 1625689426382, 'messaging': [{'sender': {'id': '4418021788217066'}, 'recipient': {'id': '109253348089942'}, 'timestamp': 1625689426480, 'read': {'watermark': 1625689425985}}]}]}\n",
      "hilo consume\n",
      " [.] Got %r None\n",
      "\n",
      "_________________________________________________________________________________________________________________________\n",
      "Mesaje de la API de Facebook-> \n",
      " {'object': 'page', 'entry': [{'id': '109253348089942', 'time': 1625689426627, 'messaging': [{'sender': {'id': '4418021788217066'}, 'recipient': {'id': '109253348089942'}, 'timestamp': 1625689426418, 'message': {'mid': 'm_T_vsEjZI4Y4VyHNq1AAmZh2FPwH8Pwqo_sZ9EWc0HzkrGORqM-WOpoKvugSmcTHJYtcwHjPSFnacMn1NoTq83A', 'text': 'Hola'}}]}]}\n",
      "[{'sender': {'id': '4418021788217066'}, 'recipient': {'id': '109253348089942'}, 'timestamp': 1625689426418, 'message': {'mid': 'm_T_vsEjZI4Y4VyHNq1AAmZh2FPwH8Pwqo_sZ9EWc0HzkrGORqM-WOpoKvugSmcTHJYtcwHjPSFnacMn1NoTq83A', 'text': 'Hola'}}]\n"
     ]
    },
    {
     "name": "stderr",
     "output_type": "stream",
     "text": [
      "127.0.0.1 - - [07/Jul/2021 15:23:43] \"\u001b[37mPOST /apiREST/v1 HTTP/1.1\u001b[0m\" 200 -\n"
     ]
    },
    {
     "name": "stdout",
     "output_type": "stream",
     "text": [
      "hilo consume\n",
      "\n",
      "______________________________________________no read__________________________________________________________________________\n",
      "\n",
      "\t\tMensaje enviado al Nucleo Logico->\n",
      "  {\"payload\": {\"robot\": \"none\", \"id_face\": \"109253348089942\", \"recipient_id\": \"4418021788217066\", \"access_token\": \"none\", \"content\": \"Hola\", \"type_resp\": \"message\", \"state\": \"none\", \"blocktype\": \"none\", \"opciones\": \"none\", \"entities\": {}}}\n",
      "\n",
      "_________________________________________________________________________________________________________________________\n",
      "\t\t\n",
      "Respuesta del Nucleo Logico->  {'Respuesta': {'content': 'Hola soy bot2', 'next_id': 'Informativo | e61376a2-83b0-4ccd-90b2-0d3b8d9fc04b | 46973551-1467-4450-7433-103925931451 | XTHyJxz6aPUIFVONQdUE', 'blockType': 'informativo', 'contentType': 'text', 'typingTime': '1', 'payload': {'content': '', 'state': 'Informativo | d602e284-c054-4f7f-90b0-3d079f8908e4 | XTHyJxz6aPUIFVONQdUE', 'recipient_id': '4418021788217066', 'entities': {}, 'access_token': 'EAAFMtaIPwugBABaSyaEaQxCjZB05xZAs5fag2JZCZB9LcVSFPJtAjcu48PewIfljpztLDiWZCZAINUghHfyn85rSKQxPnfZAMZA3DScogyb4Q1cg91NEiEgVLhlsHJXakq9diPLuJtiRqZC8kCp4MfZCllTvoPR0Jad4B0r0JWp8foAffcrjKebrSp'}}}\n",
      "\n",
      "\n",
      "---------------------------------------------------------------------------\n",
      "mensaje enviado a la API de facebook:\n",
      " {'message': {'text': 'Hola soy bot2'}, 'recipient': {'id': '4418021788217066'}, 'notification_type': 'REGULAR'}\n",
      " [.] Got %r None\n"
     ]
    },
    {
     "name": "stderr",
     "output_type": "stream",
     "text": [
      "127.0.0.1 - - [07/Jul/2021 15:23:45] \"\u001b[37mPOST /apiREST/v1 HTTP/1.1\u001b[0m\" 200 -\n",
      "127.0.0.1 - - [07/Jul/2021 15:23:45] \"\u001b[37mPOST /apiREST/v1 HTTP/1.1\u001b[0m\" 200 -\n"
     ]
    },
    {
     "name": "stdout",
     "output_type": "stream",
     "text": [
      "\n",
      "_________________________________________________________________________________________________________________________\n",
      "Mesaje de la API de Facebook-> \n",
      " \n",
      "_________________________________________________________________________________________________________________________\n",
      "Mesaje de la API de Facebook-> \n",
      " {'object': 'page', 'entry': [{'id': '109253348089942', 'time': 1625689428009, 'messaging': [{'sender': {'id': '4418021788217066'}, 'recipient': {'id': '109253348089942'}, 'timestamp': 1625689428072, 'delivery': {'mids': ['m_-vL4-4Qb3flb3Ldbj_VBEx2FPwH8Pwqo_sZ9EWc0Hznm8zYBCID8eeHwORbShLeQ-N8vWk6i08zdpr28AerTJA'], 'watermark': 1625689427831}}]}]}\n",
      "{'object': 'page', 'entry': [{'id': '109253348089942', 'time': 1625689427891, 'messaging': [{'sender': {'id': '109253348089942'}, 'recipient': {'id': '4418021788217066'}, 'timestamp': 1625689427831, 'message': {'mid': 'm_-vL4-4Qb3flb3Ldbj_VBEx2FPwH8Pwqo_sZ9EWc0Hznm8zYBCID8eeHwORbShLeQ-N8vWk6i08zdpr28AerTJA', 'is_echo': True, 'text': 'Hola soy bot2', 'app_id': 365817968444136}}]}]}\n",
      "[{'sender': {'id': '109253348089942'}, 'recipient': {'id': '4418021788217066'}, 'timestamp': 1625689427831, 'message': {'mid': 'm_-vL4-4Qb3flb3Ldbj_VBEx2FPwH8Pwqo_sZ9EWc0Hznm8zYBCID8eeHwORbShLeQ-N8vWk6i08zdpr28AerTJA', 'is_echo': True, 'text': 'Hola soy bot2', 'app_id': 365817968444136}}]\n",
      "hilo consume\n",
      "\n",
      "\n",
      "______________________________________________no read__________________________________________________________________________\n",
      "\t\tMensaje enviado al Nucleo Logico->\n",
      "  {\"payload\": {\"robot\": \"none\", \"id_face\": \"109253348089942\", \"recipient_id\": \"109253348089942\", \"access_token\": \"none\", \"content\": \"Hola soy bot2\", \"type_resp\": \"message\", \"state\": \"none\", \"blocktype\": \"none\", \"opciones\": \"none\", \"entities\": {}}}\n"
     ]
    },
    {
     "name": "stderr",
     "output_type": "stream",
     "text": [
      "127.0.0.1 - - [07/Jul/2021 15:23:45] \"\u001b[37mPOST /apiREST/v1 HTTP/1.1\u001b[0m\" 200 -\n"
     ]
    },
    {
     "name": "stdout",
     "output_type": "stream",
     "text": [
      "\n",
      "_________________________________________________________________________________________________________________________\n",
      "Mesaje de la API de Facebook-> \n",
      " {'object': 'page', 'entry': [{'id': '109253348089942', 'time': 1625689428095, 'messaging': [{'sender': {'id': '4418021788217066'}, 'recipient': {'id': '109253348089942'}, 'timestamp': 1625689428249, 'read': {'watermark': 1625689428062}}]}]}\n",
      "hilo consume\n",
      "\n",
      "_________________________________________________________________________________________________________________________\n",
      "\t\t\n",
      "Respuesta del Nucleo Logico->  {'Respuesta': {'content': 'Hola soy bot2', 'next_id': 'Informativo | e61376a2-83b0-4ccd-90b2-0d3b8d9fc04b | 46973551-1467-4450-7433-103925931451 | XTHyJxz6aPUIFVONQdUE', 'blockType': 'informativo', 'contentType': 'text', 'typingTime': '1', 'payload': {'content': '', 'state': 'Informativo | d602e284-c054-4f7f-90b0-3d079f8908e4 | XTHyJxz6aPUIFVONQdUE', 'recipient_id': '109253348089942', 'entities': {}, 'access_token': 'EAAFMtaIPwugBABaSyaEaQxCjZB05xZAs5fag2JZCZB9LcVSFPJtAjcu48PewIfljpztLDiWZCZAINUghHfyn85rSKQxPnfZAMZA3DScogyb4Q1cg91NEiEgVLhlsHJXakq9diPLuJtiRqZC8kCp4MfZCllTvoPR0Jad4B0r0JWp8foAffcrjKebrSp'}}}\n",
      "\n",
      "\n",
      "---------------------------------------------------------------------------\n",
      "mensaje enviado a la API de facebook:\n",
      " {'message': {'text': 'Hola soy bot2'}, 'recipient': {'id': '109253348089942'}, 'notification_type': 'REGULAR'}\n",
      " [.] Got %r None\n",
      "\n",
      "_________________________________________________________________________________________________________________________\n",
      "\t\t\n",
      "Respuesta del Nucleo Logico->  {'Respuesta': {'content': 'Editando Bloque ', 'next_id': 'Input | 36f8147d-fcbb-41b0-8017-c8a481cbf661 | 46973551-1467-4450-7433-103925931451 | XTHyJxz6aPUIFVONQdUE', 'blockType': 'informativo', 'contentType': 'text', 'typingTime': '1', 'payload': {'content': '', 'state': 'Informativo | e61376a2-83b0-4ccd-90b2-0d3b8d9fc04b | 46973551-1467-4450-7433-103925931451 | XTHyJxz6aPUIFVONQdUE', 'recipient_id': '4418021788217066', 'entities': {}, 'access_token': 'EAAFMtaIPwugBABaSyaEaQxCjZB05xZAs5fag2JZCZB9LcVSFPJtAjcu48PewIfljpztLDiWZCZAINUghHfyn85rSKQxPnfZAMZA3DScogyb4Q1cg91NEiEgVLhlsHJXakq9diPLuJtiRqZC8kCp4MfZCllTvoPR0Jad4B0r0JWp8foAffcrjKebrSp'}}}\n",
      "\n",
      "\n",
      "---------------------------------------------------------------------------\n",
      "mensaje enviado a la API de facebook:\n",
      " {'message': {'text': 'Editando Bloque '}, 'recipient': {'id': '4418021788217066'}, 'notification_type': 'REGULAR'}\n",
      " [.] Got %r None\n",
      "\n",
      "_________________________________________________________________________________________________________________________\n",
      "Mesaje de la API de Facebook-> \n"
     ]
    },
    {
     "name": "stderr",
     "output_type": "stream",
     "text": [
      "127.0.0.1 - - [07/Jul/2021 15:23:46] \"\u001b[37mPOST /apiREST/v1 HTTP/1.1\u001b[0m\" 200 -\n",
      "127.0.0.1 - - [07/Jul/2021 15:23:46] \"\u001b[37mPOST /apiREST/v1 HTTP/1.1\u001b[0m\" 200 -\n"
     ]
    },
    {
     "name": "stdout",
     "output_type": "stream",
     "text": [
      " {'object': 'page', 'entry': [{'id': '109253348089942', 'time': 1625689429472, 'messaging': [{'sender': {'id': '4418021788217066'}, 'recipient': {'id': '109253348089942'}, 'timestamp': 1625689429546, 'delivery': {'mids': ['m_VLwz4EvplngOrrQIQDlhrB2FPwH8Pwqo_sZ9EWc0HzkCYi6YjJKjJeHuZDFF5fT6BOhu6eTGGG74pka2P-6E_g'], 'watermark': 1625689429326}}]}]}\n",
      "\n",
      "_________________________________________________________________________________________________________________________\n",
      "Mesaje de la API de Facebook-> \n",
      " {'object': 'page', 'entry': [{'id': '109253348089942', 'time': 1625689429426, 'messaging': [{'sender': {'id': '109253348089942'}, 'recipient': {'id': '4418021788217066'}, 'timestamp': 1625689429326, 'message': {'mid': 'm_VLwz4EvplngOrrQIQDlhrB2FPwH8Pwqo_sZ9EWc0HzkCYi6YjJKjJeHuZDFF5fT6BOhu6eTGGG74pka2P-6E_g', 'is_echo': True, 'text': 'Editando Bloque', 'app_id': 365817968444136}}]}]}\n",
      "[{'sender': {'id': '109253348089942'}, 'recipient': {'id': '4418021788217066'}, 'timestamp': 1625689429326, 'message': {'mid': 'm_VLwz4EvplngOrrQIQDlhrB2FPwH8Pwqo_sZ9EWc0HzkCYi6YjJKjJeHuZDFF5fT6BOhu6eTGGG74pka2P-6E_g', 'is_echo': True, 'text': 'Editando Bloque', 'app_id': 365817968444136}}]\n",
      "hilo consume\n",
      "\n",
      "______________________________________________no read__________________________________________________________________________\n",
      "\n",
      "\t\tMensaje enviado al Nucleo Logico->\n",
      "  {\"payload\": {\"robot\": \"none\", \"id_face\": \"109253348089942\", \"recipient_id\": \"109253348089942\", \"access_token\": \"none\", \"content\": \"Editando Bloque\", \"type_resp\": \"message\", \"state\": \"none\", \"blocktype\": \"none\", \"opciones\": \"none\", \"entities\": {}}}\n",
      "\n",
      "_________________________________________________________________________________________________________________________\n",
      "Mesaje de la API de Facebook-> \n",
      " {'object': 'page', 'entry': [{'id': '109253348089942', 'time': 1625689429542, 'messaging': [{'sender': {'id': '4418021788217066'}, 'recipient': {'id': '109253348089942'}, 'timestamp': 1625689429696, 'read': {'watermark': 1625689429508}}]}]}\n"
     ]
    },
    {
     "name": "stderr",
     "output_type": "stream",
     "text": [
      "127.0.0.1 - - [07/Jul/2021 15:23:46] \"\u001b[37mPOST /apiREST/v1 HTTP/1.1\u001b[0m\" 200 -\n"
     ]
    },
    {
     "name": "stdout",
     "output_type": "stream",
     "text": [
      "hilo consume\n",
      "\n",
      "_________________________________________________________________________________________________________________________\n",
      "\t\t\n",
      "Respuesta del Nucleo Logico->  {'Respuesta': {'content': 'Hola soy bot2', 'next_id': 'Informativo | e61376a2-83b0-4ccd-90b2-0d3b8d9fc04b | 46973551-1467-4450-7433-103925931451 | XTHyJxz6aPUIFVONQdUE', 'blockType': 'informativo', 'contentType': 'text', 'typingTime': '1', 'payload': {'content': '', 'state': 'Informativo | d602e284-c054-4f7f-90b0-3d079f8908e4 | XTHyJxz6aPUIFVONQdUE', 'recipient_id': '109253348089942', 'entities': {}, 'access_token': 'EAAFMtaIPwugBABaSyaEaQxCjZB05xZAs5fag2JZCZB9LcVSFPJtAjcu48PewIfljpztLDiWZCZAINUghHfyn85rSKQxPnfZAMZA3DScogyb4Q1cg91NEiEgVLhlsHJXakq9diPLuJtiRqZC8kCp4MfZCllTvoPR0Jad4B0r0JWp8foAffcrjKebrSp'}}}\n",
      "\n",
      "\n",
      "---------------------------------------------------------------------------\n",
      "mensaje enviado a la API de facebook:\n",
      " {'message': {'text': 'Hola soy bot2'}, 'recipient': {'id': '109253348089942'}, 'notification_type': 'REGULAR'}\n",
      " [.] Got %r None\n",
      "\n",
      "_________________________________________________________________________________________________________________________\n",
      "\t\t\n",
      "Respuesta del Nucleo Logico->  {'Respuesta': {'content': 'Ingresa tu nombre', 'next_id': 'Carrusel | 16ad30d3-2b1e-433d-9f31-58de69dacffe | 46973551-1467-4450-7433-103925931451 | XTHyJxz6aPUIFVONQdUE', 'blockType': 'input', 'contentType': 'None', 'typingTime': '1', 'payload': {'content': '', 'state': 'Input | 36f8147d-fcbb-41b0-8017-c8a481cbf661 | 46973551-1467-4450-7433-103925931451 | XTHyJxz6aPUIFVONQdUE', 'recipient_id': '4418021788217066', 'entities': {}, 'access_token': 'EAAFMtaIPwugBABaSyaEaQxCjZB05xZAs5fag2JZCZB9LcVSFPJtAjcu48PewIfljpztLDiWZCZAINUghHfyn85rSKQxPnfZAMZA3DScogyb4Q1cg91NEiEgVLhlsHJXakq9diPLuJtiRqZC8kCp4MfZCllTvoPR0Jad4B0r0JWp8foAffcrjKebrSp'}, 'validacion': '', 'default_id': 'Input | 36f8147d-fcbb-41b0-8017-c8a481cbf661 | 46973551-1467-4450-7433-103925931451 | XTHyJxz6aPUIFVONQdUE'}}\n",
      "\n",
      "\n",
      "---------------------------------------------------------------------------\n",
      "mensaje enviado a la API de facebook:\n",
      " {'message': {'text': 'Ingresa tu nombre'}, 'recipient': {'id': '4418021788217066'}, 'notification_type': 'REGULAR'}\n",
      " [.] Got %r None\n"
     ]
    },
    {
     "name": "stderr",
     "output_type": "stream",
     "text": [
      "127.0.0.1 - - [07/Jul/2021 15:23:48] \"\u001b[37mPOST /apiREST/v1 HTTP/1.1\u001b[0m\" 200 -\n"
     ]
    },
    {
     "name": "stdout",
     "output_type": "stream",
     "text": [
      "\n",
      "_________________________________________________________________________________________________________________________\n",
      "Mesaje de la API de Facebook-> \n",
      " {'object': 'page', 'entry': [{'id': '109253348089942', 'time': 1625689431195, 'messaging': [{'sender': {'id': '4418021788217066'}, 'recipient': {'id': '109253348089942'}, 'timestamp': 1625689431231, 'delivery': {'mids': ['m_hHi0j0wWtoEf40U6UHX9Gx2FPwH8Pwqo_sZ9EWc0HzkPLbknufaJSaDWJ5nU2tY_1fqJ_mrED_vYdkvws71oPw'], 'watermark': 1625689430984}}]}]}\n",
      "\n",
      "_________________________________________________________________________________________________________________________\n",
      "Mesaje de la API de Facebook-> \n",
      " {'object': 'page', 'entry': [{'id': '109253348089942', 'time': 1625689431239, 'messaging': [{'sender': {'id': '109253348089942'}, 'recipient': {'id': '4418021788217066'}, 'timestamp': 1625689430984, 'message': {'mid': 'm_hHi0j0wWtoEf40U6UHX9Gx2FPwH8Pwqo_sZ9EWc0HzkPLbknufaJSaDWJ5nU2tY_1fqJ_mrED_vYdkvws71oPw', 'is_echo': True, 'text': 'Ingresa tu nombre', 'app_id': 365817968444136}}]}]}\n",
      "\n",
      "_________________________________________________________________________________________________________________________\n",
      "Mesaje de la API de Facebook-> \n"
     ]
    },
    {
     "name": "stderr",
     "output_type": "stream",
     "text": [
      "127.0.0.1 - - [07/Jul/2021 15:23:48] \"\u001b[37mPOST /apiREST/v1 HTTP/1.1\u001b[0m\" 200 -\n",
      "127.0.0.1 - - [07/Jul/2021 15:23:48] \"\u001b[37mPOST /apiREST/v1 HTTP/1.1\u001b[0m\" 200 -\n"
     ]
    },
    {
     "name": "stdout",
     "output_type": "stream",
     "text": [
      " {'object': 'page', 'entry': [{'id': '109253348089942', 'time': 1625689431253, 'messaging': [{'sender': {'id': '4418021788217066'}, 'recipient': {'id': '109253348089942'}, 'timestamp': 1625689431402, 'read': {'watermark': 1625689431231}}]}]}\n",
      "[{'sender': {'id': '109253348089942'}, 'recipient': {'id': '4418021788217066'}, 'timestamp': 1625689430984, 'message': {'mid': 'm_hHi0j0wWtoEf40U6UHX9Gx2FPwH8Pwqo_sZ9EWc0HzkPLbknufaJSaDWJ5nU2tY_1fqJ_mrED_vYdkvws71oPw', 'is_echo': True, 'text': 'Ingresa tu nombre', 'app_id': 365817968444136}}]\n",
      "hilo consume\n",
      "\n",
      "\n",
      "______________________________________________no read__________________________________________________________________________\n",
      "\t\tMensaje enviado al Nucleo Logico->\n",
      "  {\"payload\": {\"robot\": \"none\", \"id_face\": \"109253348089942\", \"recipient_id\": \"109253348089942\", \"access_token\": \"none\", \"content\": \"Ingresa tu nombre\", \"type_resp\": \"message\", \"state\": \"none\", \"blocktype\": \"none\", \"opciones\": \"none\", \"entities\": {}}}\n",
      "hilo consume\n",
      "\n",
      "_________________________________________________________________________________________________________________________\n",
      "\t\t\n",
      "Respuesta del Nucleo Logico->  {'Respuesta': {'content': 'Hola soy bot2', 'next_id': 'Informativo | e61376a2-83b0-4ccd-90b2-0d3b8d9fc04b | 46973551-1467-4450-7433-103925931451 | XTHyJxz6aPUIFVONQdUE', 'blockType': 'informativo', 'contentType': 'text', 'typingTime': '1', 'payload': {'content': '', 'state': 'Informativo | d602e284-c054-4f7f-90b0-3d079f8908e4 | XTHyJxz6aPUIFVONQdUE', 'recipient_id': '109253348089942', 'entities': {}, 'access_token': 'EAAFMtaIPwugBABaSyaEaQxCjZB05xZAs5fag2JZCZB9LcVSFPJtAjcu48PewIfljpztLDiWZCZAINUghHfyn85rSKQxPnfZAMZA3DScogyb4Q1cg91NEiEgVLhlsHJXakq9diPLuJtiRqZC8kCp4MfZCllTvoPR0Jad4B0r0JWp8foAffcrjKebrSp'}}}\n",
      " [.] Got %r None\n",
      "\n",
      "\n",
      "---------------------------------------------------------------------------\n",
      "mensaje enviado a la API de facebook:\n",
      " {'message': {'text': 'Hola soy bot2'}, 'recipient': {'id': '109253348089942'}, 'notification_type': 'REGULAR'}\n",
      " [.] Got %r None\n"
     ]
    },
    {
     "name": "stderr",
     "output_type": "stream",
     "text": [
      "127.0.0.1 - - [07/Jul/2021 15:23:59] \"\u001b[37mPOST /apiREST/v1 HTTP/1.1\u001b[0m\" 200 -\n"
     ]
    },
    {
     "name": "stdout",
     "output_type": "stream",
     "text": [
      "\n",
      "_________________________________________________________________________________________________________________________\n",
      "Mesaje de la API de Facebook-> \n",
      " {'object': 'page', 'entry': [{'id': '109253348089942', 'time': 1625689441911, 'messaging': [{'sender': {'id': '4418021788217066'}, 'recipient': {'id': '109253348089942'}, 'timestamp': 1625689442007, 'read': {'watermark': 1625689441520}}]}]}\n",
      "hilo consume\n",
      " [.] Got %r None\n"
     ]
    },
    {
     "name": "stderr",
     "output_type": "stream",
     "text": [
      "127.0.0.1 - - [07/Jul/2021 15:23:59] \"\u001b[37mPOST /apiREST/v1 HTTP/1.1\u001b[0m\" 200 -\n"
     ]
    },
    {
     "name": "stdout",
     "output_type": "stream",
     "text": [
      "\n",
      "_________________________________________________________________________________________________________________________\n",
      "Mesaje de la API de Facebook-> \n",
      " {'object': 'page', 'entry': [{'id': '109253348089942', 'time': 1625689442109, 'messaging': [{'sender': {'id': '4418021788217066'}, 'recipient': {'id': '109253348089942'}, 'timestamp': 1625689441952, 'message': {'mid': 'm_XpsLnDa1kjemK_xR8FdUcR2FPwH8Pwqo_sZ9EWc0Hzne8y-bSbb6QC9hnd-Zp4ngvzU5c6xpAiMGLOhwncFgrQ', 'text': 'Oswaldo'}}]}]}\n",
      "[{'sender': {'id': '4418021788217066'}, 'recipient': {'id': '109253348089942'}, 'timestamp': 1625689441952, 'message': {'mid': 'm_XpsLnDa1kjemK_xR8FdUcR2FPwH8Pwqo_sZ9EWc0Hzne8y-bSbb6QC9hnd-Zp4ngvzU5c6xpAiMGLOhwncFgrQ', 'text': 'Oswaldo'}}]\n",
      "hilo consume\n",
      "\n",
      "______________________________________________no read__________________________________________________________________________\n",
      "\n",
      "\t\tMensaje enviado al Nucleo Logico->\n",
      "  {\"payload\": {\"robot\": \"none\", \"id_face\": \"109253348089942\", \"recipient_id\": \"4418021788217066\", \"access_token\": \"none\", \"content\": \"Oswaldo\", \"type_resp\": \"message\", \"state\": \"none\", \"blocktype\": \"none\", \"opciones\": \"none\", \"entities\": {}}}\n",
      "\n",
      "_________________________________________________________________________________________________________________________\n",
      "\t\t\n",
      "Respuesta del Nucleo Logico->  {'Respuesta': {'content': [{'title': 'P1', 'image_url': 'https://analyticsindiamag.com/wp-content/uploads/2020/10/7d744a684fe03ebc7e8de545f97739dd.jpg', 'subtitle': 'S1', 'buttons': [{'titleButton': 'www.github.com', 'typeButton': 'web_url', 'urlButton': 'www.github.com'}, {'titleButton': 'Op', 'typeButton': 'postback', 'payloadButton': 'Informativo | 98d6627d-10d5-4f8b-ab2e-c764a00bfb69 | 68473870-5030-7316-6351-136576696036 | XTHyJxz6aPUIFVONQdUE'}]}], 'next_id': ['www.github.com', 'Informativo | 98d6627d-10d5-4f8b-ab2e-c764a00bfb69 | 68473870-5030-7316-6351-136576696036 | XTHyJxz6aPUIFVONQdUE'], 'blockType': 'slide', 'contentType': ' ', 'typingTime': 1, 'payload': {'content': '', 'state': 'Carrusel | 16ad30d3-2b1e-433d-9f31-58de69dacffe | 46973551-1467-4450-7433-103925931451 | XTHyJxz6aPUIFVONQdUE', 'recipient_id': '4418021788217066', 'entities': {'variableInputInput_|_36f8147d-fcbb-41b0-8017-c8a481cbf6619310': 'Oswaldo'}, 'access_token': 'EAAFMtaIPwugBABaSyaEaQxCjZB05xZAs5fag2JZCZB9LcVSFPJtAjcu48PewIfljpztLDiWZCZAINUghHfyn85rSKQxPnfZAMZA3DScogyb4Q1cg91NEiEgVLhlsHJXakq9diPLuJtiRqZC8kCp4MfZCllTvoPR0Jad4B0r0JWp8foAffcrjKebrSp'}, 'default_id': 'Carrusel | 16ad30d3-2b1e-433d-9f31-58de69dacffe | 46973551-1467-4450-7433-103925931451 | XTHyJxz6aPUIFVONQdUE', 'save_var': '0'}}\n",
      "pyload slide:  {'recipient': {'id': '4418021788217066'}, 'message': {'attachment': {'type': 'template', 'payload': {'template_type': 'generic', 'elements': [{'title': 'P1', 'image_url': 'https://analyticsindiamag.com/wp-content/uploads/2020/10/7d744a684fe03ebc7e8de545f97739dd.jpg', 'subtitle': 'S1', 'buttons': [{'title': 'www.github.com', 'type': 'web_url', 'url': 'www.github.com'}, {'title': 'Op', 'type': 'postback', 'payload': 'Informativo | 98d6627d-10d5-4f8b-ab2e-c764a00bfb69 | 68473870-5030-7316-6351-136576696036 | XTHyJxz6aPUIFVONQdUE'}]}]}}}, 'notification_type': 'REGULAR'}\n",
      "\n",
      "\n",
      "---------------------------------------------------------------------------\n",
      "mensaje enviado a la API de facebook:\n",
      " {'recipient': {'id': '4418021788217066'}, 'message': {'attachment': {'type': 'template', 'payload': {'template_type': 'generic', 'elements': [{'title': 'P1', 'image_url': 'https://analyticsindiamag.com/wp-content/uploads/2020/10/7d744a684fe03ebc7e8de545f97739dd.jpg', 'subtitle': 'S1', 'buttons': [{'title': 'www.github.com', 'type': 'web_url', 'url': 'www.github.com'}, {'title': 'Op', 'type': 'postback', 'payload': 'Informativo | 98d6627d-10d5-4f8b-ab2e-c764a00bfb69 | 68473870-5030-7316-6351-136576696036 | XTHyJxz6aPUIFVONQdUE'}]}]}}}, 'notification_type': 'REGULAR'}\n",
      " [.] Got %r None\n"
     ]
    },
    {
     "name": "stderr",
     "output_type": "stream",
     "text": [
      "127.0.0.1 - - [07/Jul/2021 15:24:01] \"\u001b[37mPOST /apiREST/v1 HTTP/1.1\u001b[0m\" 200 -\n",
      "127.0.0.1 - - [07/Jul/2021 15:24:01] \"\u001b[37mPOST /apiREST/v1 HTTP/1.1\u001b[0m\" 200 -\n"
     ]
    },
    {
     "name": "stdout",
     "output_type": "stream",
     "text": [
      "\n",
      "_________________________________________________________________________________________________________________________\n",
      "Mesaje de la API de Facebook-> \n",
      " {'object': 'page', 'entry': [{'id': '109253348089942', 'time': 1625689444006, 'messaging': [{'sender': {'id': '4418021788217066'}, 'recipient': {'id': '109253348089942'}, 'timestamp': 1625689444046, 'delivery': {'mids': ['m_l0plcGPc8Q_qyNc5SQXXdx2FPwH8Pwqo_sZ9EWc0HzlZTnj3lre6-IO1Fwh_UQPeWuUJKoLOP4jvvdA1axYqrQ'], 'watermark': 1625689443818}}]}]}\n",
      "\n",
      "_________________________________________________________________________________________________________________________\n",
      "Mesaje de la API de Facebook-> \n",
      " {'object': 'page', 'entry': [{'id': '109253348089942', 'time': 1625689443895, 'messaging': [{'sender': {'id': '109253348089942'}, 'recipient': {'id': '4418021788217066'}, 'timestamp': 1625689443818, 'message': {'mid': 'm_l0plcGPc8Q_qyNc5SQXXdx2FPwH8Pwqo_sZ9EWc0HzlZTnj3lre6-IO1Fwh_UQPeWuUJKoLOP4jvvdA1axYqrQ', 'is_echo': True, 'app_id': 365817968444136, 'attachments': [{'title': 'P1', 'url': None, 'type': 'template', 'payload': {'template_type': 'generic', 'sharable': False, 'elements': [{'title': 'P1', 'image_url': 'https://analyticsindiamag.com/wp-content/uploads/2020/10/7d744a684fe03ebc7e8de545f97739dd.jpg', 'subtitle': 'S1', 'buttons': [{'type': 'web_url', 'url': 'http://www.github.com/', 'title': 'www.github.com'}, {'type': 'postback', 'title': 'Op', 'payload': 'Informativo | 98d6627d-10d5-4f8b-ab2e-c764a00bfb69 | 68473870-5030-7316-6351-136576696036 | XTHyJxz6aPUIFVONQdUE'}]}]}}]}}]}]}\n",
      "[{'sender': {'id': '109253348089942'}, 'recipient': {'id': '4418021788217066'}, 'timestamp': 1625689443818, 'message': {'mid': 'm_l0plcGPc8Q_qyNc5SQXXdx2FPwH8Pwqo_sZ9EWc0HzlZTnj3lre6-IO1Fwh_UQPeWuUJKoLOP4jvvdA1axYqrQ', 'is_echo': True, 'app_id': 365817968444136, 'attachments': [{'title': 'P1', 'url': None, 'type': 'template', 'payload': {'template_type': 'generic', 'sharable': False, 'elements': [{'title': 'P1', 'image_url': 'https://analyticsindiamag.com/wp-content/uploads/2020/10/7d744a684fe03ebc7e8de545f97739dd.jpg', 'subtitle': 'S1', 'buttons': [{'type': 'web_url', 'url': 'http://www.github.com/', 'title': 'www.github.com'}, {'type': 'postback', 'title': 'Op', 'payload': 'Informativo | 98d6627d-10d5-4f8b-ab2e-c764a00bfb69 | 68473870-5030-7316-6351-136576696036 | XTHyJxz6aPUIFVONQdUE'}]}]}}]}}]\n",
      "hilo consume\n",
      "\n",
      "______________________________________________no read__________________________________________________________________________\n",
      "\n",
      "\t\tMensaje enviado al Nucleo Logico->\n",
      "  {\"payload\": {\"robot\": \"none\", \"id_face\": \"109253348089942\", \"recipient_id\": \"109253348089942\", \"access_token\": \"none\", \"content\": [{\"title\": \"P1\", \"url\": null, \"type\": \"template\", \"payload\": {\"template_type\": \"generic\", \"sharable\": false, \"elements\": [{\"title\": \"P1\", \"image_url\": \"https://analyticsindiamag.com/wp-content/uploads/2020/10/7d744a684fe03ebc7e8de545f97739dd.jpg\", \"subtitle\": \"S1\", \"buttons\": [{\"type\": \"web_url\", \"url\": \"http://www.github.com/\", \"title\": \"www.github.com\"}, {\"type\": \"postback\", \"title\": \"Op\", \"payload\": \"Informativo | 98d6627d-10d5-4f8b-ab2e-c764a00bfb69 | 68473870-5030-7316-6351-136576696036 | XTHyJxz6aPUIFVONQdUE\"}]}]}}], \"type_resp\": \"message\", \"state\": \"none\", \"blocktype\": \"none\", \"opciones\": \"none\", \"entities\": {}}}\n"
     ]
    },
    {
     "name": "stderr",
     "output_type": "stream",
     "text": [
      "127.0.0.1 - - [07/Jul/2021 15:24:01] \"\u001b[37mPOST /apiREST/v1 HTTP/1.1\u001b[0m\" 200 -\n"
     ]
    },
    {
     "name": "stdout",
     "output_type": "stream",
     "text": [
      "\n",
      "_________________________________________________________________________________________________________________________\n",
      "Mesaje de la API de Facebook-> \n",
      " {'object': 'page', 'entry': [{'id': '109253348089942', 'time': 1625689444091, 'messaging': [{'sender': {'id': '4418021788217066'}, 'recipient': {'id': '109253348089942'}, 'timestamp': 1625689444265, 'read': {'watermark': 1625689444077}}]}]}\n",
      "hilo consume\n",
      "\n",
      "_________________________________________________________________________________________________________________________\n",
      "\t\t\n",
      "Respuesta del Nucleo Logico->  {'Respuesta': {'content': 'Hola soy bot2', 'next_id': 'Informativo | e61376a2-83b0-4ccd-90b2-0d3b8d9fc04b | 46973551-1467-4450-7433-103925931451 | XTHyJxz6aPUIFVONQdUE', 'blockType': 'informativo', 'contentType': 'text', 'typingTime': '1', 'payload': {'content': '', 'state': 'Informativo | d602e284-c054-4f7f-90b0-3d079f8908e4 | XTHyJxz6aPUIFVONQdUE', 'recipient_id': '109253348089942', 'entities': {}, 'access_token': 'EAAFMtaIPwugBABaSyaEaQxCjZB05xZAs5fag2JZCZB9LcVSFPJtAjcu48PewIfljpztLDiWZCZAINUghHfyn85rSKQxPnfZAMZA3DScogyb4Q1cg91NEiEgVLhlsHJXakq9diPLuJtiRqZC8kCp4MfZCllTvoPR0Jad4B0r0JWp8foAffcrjKebrSp'}}}\n",
      " [.] Got %r None\n",
      "\n",
      "\n",
      "---------------------------------------------------------------------------\n",
      "mensaje enviado a la API de facebook:\n",
      " {'message': {'text': 'Hola soy bot2'}, 'recipient': {'id': '109253348089942'}, 'notification_type': 'REGULAR'}\n",
      " [.] Got %r None\n"
     ]
    },
    {
     "name": "stderr",
     "output_type": "stream",
     "text": [
      "127.0.0.1 - - [07/Jul/2021 15:24:04] \"\u001b[37mPOST /apiREST/v1 HTTP/1.1\u001b[0m\" 200 -\n"
     ]
    },
    {
     "name": "stdout",
     "output_type": "stream",
     "text": [
      "\n",
      "_________________________________________________________________________________________________________________________\n",
      "Mesaje de la API de Facebook-> \n",
      " {'object': 'page', 'entry': [{'id': '109253348089942', 'time': 1625689447459, 'messaging': [{'sender': {'id': '4418021788217066'}, 'recipient': {'id': '109253348089942'}, 'timestamp': 1625689447543, 'read': {'watermark': 1625689447087}}]}]}\n",
      "hilo consume\n",
      " [.] Got %r None\n"
     ]
    },
    {
     "name": "stderr",
     "output_type": "stream",
     "text": [
      "127.0.0.1 - - [07/Jul/2021 15:24:04] \"\u001b[37mPOST /apiREST/v1 HTTP/1.1\u001b[0m\" 200 -\n"
     ]
    },
    {
     "name": "stdout",
     "output_type": "stream",
     "text": [
      "\n",
      "_________________________________________________________________________________________________________________________\n",
      "Mesaje de la API de Facebook-> \n",
      " {'object': 'page', 'entry': [{'id': '109253348089942', 'time': 1625689447674, 'messaging': [{'sender': {'id': '4418021788217066'}, 'recipient': {'id': '109253348089942'}, 'timestamp': 1625689447494, 'postback': {'title': 'Op', 'payload': 'Informativo | 98d6627d-10d5-4f8b-ab2e-c764a00bfb69 | 68473870-5030-7316-6351-136576696036 | XTHyJxz6aPUIFVONQdUE', 'mid': 'm_zU2RKRaHNy0Fe234qe5g7h2FPwH8Pwqo_sZ9EWc0HzmHxPisOV7S5M2My2oReEmmkawrriDRLP_Pyar0ihTUZQ'}}]}]}\n",
      "hilo consume\n",
      "\n",
      "______________________________________________no read__________________________________________________________________________\n",
      "\n",
      "\t\tMensaje enviado al Nucleo Logico->\n",
      "  {\"payload\": {\"robot\": \"none\", \"id_face\": \"109253348089942\", \"recipient_id\": \"4418021788217066\", \"access_token\": \"none\", \"content\": \"Informativo | 98d6627d-10d5-4f8b-ab2e-c764a00bfb69 | 68473870-5030-7316-6351-136576696036 | XTHyJxz6aPUIFVONQdUE\", \"type_resp\": \"postback\", \"state\": \"none\", \"blocktype\": \"none\", \"opciones\": \"none\", \"entities\": {}}}\n",
      "\n",
      "_________________________________________________________________________________________________________________________\n",
      "\t\t\n",
      "Respuesta del Nucleo Logico->  {'Respuesta': {'content': 'Empieza el segundo bloque ', 'next_id': 'Informativo | d2b4f80b-3a35-4f2a-a7a5-dfdbdcf7f918 | 68473870-5030-7316-6351-136576696036 | XTHyJxz6aPUIFVONQdUE', 'blockType': 'informativo', 'contentType': 'text', 'typingTime': '1', 'payload': {'content': '', 'state': 'Informativo | 98d6627d-10d5-4f8b-ab2e-c764a00bfb69 | 68473870-5030-7316-6351-136576696036 | XTHyJxz6aPUIFVONQdUE', 'recipient_id': '4418021788217066', 'entities': {'variableInputInput_|_36f8147d-fcbb-41b0-8017-c8a481cbf6619310': 'Oswaldo', 'variableCarrCarrusel_|_16ad30d3-2b1e-433d-9f31-58de69dacffe3335': 'Informativo | 98d6627d-10d5-4f8b-ab2e-c764a00bfb69 | 68473870-5030-7316-6351-136576696036 | XTHyJxz6aPUIFVONQdUE'}, 'access_token': 'EAAFMtaIPwugBABaSyaEaQxCjZB05xZAs5fag2JZCZB9LcVSFPJtAjcu48PewIfljpztLDiWZCZAINUghHfyn85rSKQxPnfZAMZA3DScogyb4Q1cg91NEiEgVLhlsHJXakq9diPLuJtiRqZC8kCp4MfZCllTvoPR0Jad4B0r0JWp8foAffcrjKebrSp'}}}\n",
      "\n",
      "\n",
      "---------------------------------------------------------------------------\n",
      "mensaje enviado a la API de facebook:\n",
      " {'message': {'text': 'Empieza el segundo bloque '}, 'recipient': {'id': '4418021788217066'}, 'notification_type': 'REGULAR'}\n",
      " [.] Got %r None\n",
      "\n",
      "_________________________________________________________________________________________________________________________\n",
      "Mesaje de la API de Facebook-> \n",
      " {'object': 'page', 'entry': [{'id': '109253348089942', 'time': 1625689448800, 'messaging': [{'sender': {'id': '109253348089942'}, 'recipient': {'id': '4418021788217066'}, 'timestamp': 1625689448761, 'message': {'mid': 'm_GlWc1ExUPbHqK_T3tkmCZx2FPwH8Pwqo_sZ9EWc0HznZ8S0Xb5XypHLceOpb2A0m-ScxhArLG18Fc7CEbqvaeQ', 'is_echo': True, 'text': 'Empieza el segundo bloque', 'app_id': 365817968444136}}]}]}\n",
      "\n",
      "_________________________________________________________________________________________________________________________\n"
     ]
    },
    {
     "name": "stderr",
     "output_type": "stream",
     "text": [
      "127.0.0.1 - - [07/Jul/2021 15:24:06] \"\u001b[37mPOST /apiREST/v1 HTTP/1.1\u001b[0m\" 200 -\n",
      "127.0.0.1 - - [07/Jul/2021 15:24:06] \"\u001b[37mPOST /apiREST/v1 HTTP/1.1\u001b[0m\" 200 -\n"
     ]
    },
    {
     "name": "stdout",
     "output_type": "stream",
     "text": [
      "Mesaje de la API de Facebook-> \n",
      " {'object': 'page', 'entry': [{'id': '109253348089942', 'time': 1625689448900, 'messaging': [{'sender': {'id': '4418021788217066'}, 'recipient': {'id': '109253348089942'}, 'timestamp': 1625689448937, 'delivery': {'mids': ['m_GlWc1ExUPbHqK_T3tkmCZx2FPwH8Pwqo_sZ9EWc0HznZ8S0Xb5XypHLceOpb2A0m-ScxhArLG18Fc7CEbqvaeQ'], 'watermark': 1625689448761}}]}]}\n",
      "[{'sender': {'id': '109253348089942'}, 'recipient': {'id': '4418021788217066'}, 'timestamp': 1625689448761, 'message': {'mid': 'm_GlWc1ExUPbHqK_T3tkmCZx2FPwH8Pwqo_sZ9EWc0HznZ8S0Xb5XypHLceOpb2A0m-ScxhArLG18Fc7CEbqvaeQ', 'is_echo': True, 'text': 'Empieza el segundo bloque', 'app_id': 365817968444136}}]\n",
      "hilo consume\n",
      "\n",
      "______________________________________________no read__________________________________________________________________________\n",
      "\n",
      "\t\tMensaje enviado al Nucleo Logico->\n",
      "  {\"payload\": {\"robot\": \"none\", \"id_face\": \"109253348089942\", \"recipient_id\": \"109253348089942\", \"access_token\": \"none\", \"content\": \"Empieza el segundo bloque\", \"type_resp\": \"message\", \"state\": \"none\", \"blocktype\": \"none\", \"opciones\": \"none\", \"entities\": {}}}\n",
      "\n",
      "_________________________________________________________________________________________________________________________\n",
      "Mesaje de la API de Facebook-> \n"
     ]
    },
    {
     "name": "stderr",
     "output_type": "stream",
     "text": [
      "127.0.0.1 - - [07/Jul/2021 15:24:06] \"\u001b[37mPOST /apiREST/v1 HTTP/1.1\u001b[0m\" 200 -\n"
     ]
    },
    {
     "name": "stdout",
     "output_type": "stream",
     "text": [
      " {'object': 'page', 'entry': [{'id': '109253348089942', 'time': 1625689448979, 'messaging': [{'sender': {'id': '4418021788217066'}, 'recipient': {'id': '109253348089942'}, 'timestamp': 1625689449129, 'read': {'watermark': 1625689448962}}]}]}\n",
      "hilo consume\n",
      "\n",
      "_________________________________________________________________________________________________________________________\n",
      "\t\t\n",
      "Respuesta del Nucleo Logico->  {'Respuesta': {'content': 'Hola soy bot2', 'next_id': 'Informativo | e61376a2-83b0-4ccd-90b2-0d3b8d9fc04b | 46973551-1467-4450-7433-103925931451 | XTHyJxz6aPUIFVONQdUE', 'blockType': 'informativo', 'contentType': 'text', 'typingTime': '1', 'payload': {'content': '', 'state': 'Informativo | d602e284-c054-4f7f-90b0-3d079f8908e4 | XTHyJxz6aPUIFVONQdUE', 'recipient_id': '109253348089942', 'entities': {}, 'access_token': 'EAAFMtaIPwugBABaSyaEaQxCjZB05xZAs5fag2JZCZB9LcVSFPJtAjcu48PewIfljpztLDiWZCZAINUghHfyn85rSKQxPnfZAMZA3DScogyb4Q1cg91NEiEgVLhlsHJXakq9diPLuJtiRqZC8kCp4MfZCllTvoPR0Jad4B0r0JWp8foAffcrjKebrSp'}}}\n",
      "\n",
      "\n",
      "---------------------------------------------------------------------------\n",
      "mensaje enviado a la API de facebook:\n",
      " {'message': {'text': 'Hola soy bot2'}, 'recipient': {'id': '109253348089942'}, 'notification_type': 'REGULAR'}\n",
      " [.] Got %r None\n",
      "\n",
      "_________________________________________________________________________________________________________________________\n",
      "\t\t\n",
      "Respuesta del Nucleo Logico->  {'Respuesta': {'content': 'Aquí se despide el segundo bloque ', 'next_id': 'Informativo | 38f82c6d-a32e-4687-ae19-71aebb228e68 | XTHyJxz6aPUIFVONQdUE', 'blockType': 'informativo', 'contentType': 'text', 'typingTime': '1', 'payload': {'content': '', 'state': 'Informativo | d2b4f80b-3a35-4f2a-a7a5-dfdbdcf7f918 | 68473870-5030-7316-6351-136576696036 | XTHyJxz6aPUIFVONQdUE', 'recipient_id': '4418021788217066', 'entities': {'variableInputInput_|_36f8147d-fcbb-41b0-8017-c8a481cbf6619310': 'Oswaldo', 'variableCarrCarrusel_|_16ad30d3-2b1e-433d-9f31-58de69dacffe3335': 'Informativo | 98d6627d-10d5-4f8b-ab2e-c764a00bfb69 | 68473870-5030-7316-6351-136576696036 | XTHyJxz6aPUIFVONQdUE'}, 'access_token': 'EAAFMtaIPwugBABaSyaEaQxCjZB05xZAs5fag2JZCZB9LcVSFPJtAjcu48PewIfljpztLDiWZCZAINUghHfyn85rSKQxPnfZAMZA3DScogyb4Q1cg91NEiEgVLhlsHJXakq9diPLuJtiRqZC8kCp4MfZCllTvoPR0Jad4B0r0JWp8foAffcrjKebrSp'}}}\n",
      "\n",
      "\n",
      "---------------------------------------------------------------------------\n",
      "mensaje enviado a la API de facebook:\n",
      " {'message': {'text': 'Aquí se despide el segundo bloque '}, 'recipient': {'id': '4418021788217066'}, 'notification_type': 'REGULAR'}\n",
      " [.] Got %r None\n",
      "\n",
      "_________________________________________________________________________________________________________________________\n",
      "Mesaje de la API de Facebook-> \n"
     ]
    },
    {
     "name": "stderr",
     "output_type": "stream",
     "text": [
      "127.0.0.1 - - [07/Jul/2021 15:24:07] \"\u001b[37mPOST /apiREST/v1 HTTP/1.1\u001b[0m\" 200 -\n",
      "127.0.0.1 - - [07/Jul/2021 15:24:07] \"\u001b[37mPOST /apiREST/v1 HTTP/1.1\u001b[0m\" 200 -\n"
     ]
    },
    {
     "name": "stdout",
     "output_type": "stream",
     "text": [
      " {'object': 'page', 'entry': [{'id': '109253348089942', 'time': 1625689450411, 'messaging': [{'sender': {'id': '4418021788217066'}, 'recipient': {'id': '109253348089942'}, 'timestamp': 1625689450449, 'delivery': {'mids': ['m_NZZI1jsHKhurOVGFuIGN5x2FPwH8Pwqo_sZ9EWc0HzmDx0koXXG3K5IYloCfAx-XynfLzpyWeV8AB23OSf9IOw'], 'watermark': 1625689450264}}]}]}\n",
      "\n",
      "_________________________________________________________________________________________________________________________\n",
      "Mesaje de la API de Facebook-> \n",
      " {'object': 'page', 'entry': [{'id': '109253348089942', 'time': 1625689450343, 'messaging': [{'sender': {'id': '109253348089942'}, 'recipient': {'id': '4418021788217066'}, 'timestamp': 1625689450264, 'message': {'mid': 'm_NZZI1jsHKhurOVGFuIGN5x2FPwH8Pwqo_sZ9EWc0HzmDx0koXXG3K5IYloCfAx-XynfLzpyWeV8AB23OSf9IOw', 'is_echo': True, 'text': 'Aquí se despide el segundo bloque', 'app_id': 365817968444136}}]}]}\n",
      "\n",
      "_________________________________________________________________________________________________________________________\n",
      "Mesaje de la API de Facebook-> \n",
      " {'object': 'page', 'entry': [{'id': '109253348089942', 'time': 1625689450464, 'messaging': [{'sender': {'id': '4418021788217066'}, 'recipient': {'id': '109253348089942'}, 'timestamp': 1625689450577, 'read': {'watermark': 1625689450444}}]}]}\n",
      "[{'sender': {'id': '109253348089942'}, 'recipient': {'id': '4418021788217066'}, 'timestamp': 1625689450264, 'message': {'mid': 'm_NZZI1jsHKhurOVGFuIGN5x2FPwH8Pwqo_sZ9EWc0HzmDx0koXXG3K5IYloCfAx-XynfLzpyWeV8AB23OSf9IOw', 'is_echo': True, 'text': 'Aquí se despide el segundo bloque', 'app_id': 365817968444136}}]\n",
      "hilo consume\n",
      "\n",
      "______________________________________________no read__________________________________________________________________________\n",
      "\n",
      "\t\tMensaje enviado al Nucleo Logico->\n",
      "  {\"payload\": {\"robot\": \"none\", \"id_face\": \"109253348089942\", \"recipient_id\": \"109253348089942\", \"access_token\": \"none\", \"content\": \"Aqu\\u00ed se despide el segundo bloque\", \"type_resp\": \"message\", \"state\": \"none\", \"blocktype\": \"none\", \"opciones\": \"none\", \"entities\": {}}}\n"
     ]
    },
    {
     "name": "stderr",
     "output_type": "stream",
     "text": [
      "127.0.0.1 - - [07/Jul/2021 15:24:07] \"\u001b[37mPOST /apiREST/v1 HTTP/1.1\u001b[0m\" 200 -\n"
     ]
    },
    {
     "name": "stdout",
     "output_type": "stream",
     "text": [
      "hilo consume\n",
      "\n",
      "_________________________________________________________________________________________________________________________\n",
      "\t\t\n",
      "Respuesta del Nucleo Logico->  {'Respuesta': {'content': 'Hola soy bot2', 'next_id': 'Informativo | e61376a2-83b0-4ccd-90b2-0d3b8d9fc04b | 46973551-1467-4450-7433-103925931451 | XTHyJxz6aPUIFVONQdUE', 'blockType': 'informativo', 'contentType': 'text', 'typingTime': '1', 'payload': {'content': '', 'state': 'Informativo | d602e284-c054-4f7f-90b0-3d079f8908e4 | XTHyJxz6aPUIFVONQdUE', 'recipient_id': '109253348089942', 'entities': {}, 'access_token': 'EAAFMtaIPwugBABaSyaEaQxCjZB05xZAs5fag2JZCZB9LcVSFPJtAjcu48PewIfljpztLDiWZCZAINUghHfyn85rSKQxPnfZAMZA3DScogyb4Q1cg91NEiEgVLhlsHJXakq9diPLuJtiRqZC8kCp4MfZCllTvoPR0Jad4B0r0JWp8foAffcrjKebrSp'}}}\n",
      "\n",
      "\n",
      "---------------------------------------------------------------------------\n",
      "mensaje enviado a la API de facebook:\n",
      " {'message': {'text': 'Hola soy bot2'}, 'recipient': {'id': '109253348089942'}, 'notification_type': 'REGULAR'}\n",
      " [.] Got %r None\n",
      "\n",
      "_________________________________________________________________________________________________________________________\n",
      "\t\t\n",
      "Respuesta del Nucleo Logico->  {'Respuesta': {'content': 'Adios oswa', 'next_id': 'Salida', 'blockType': 'informativo', 'contentType': 'text', 'typingTime': '1', 'payload': {'content': '', 'state': 'Informativo | 38f82c6d-a32e-4687-ae19-71aebb228e68 | XTHyJxz6aPUIFVONQdUE', 'recipient_id': '4418021788217066', 'entities': {'variableInputInput_|_36f8147d-fcbb-41b0-8017-c8a481cbf6619310': 'Oswaldo', 'variableCarrCarrusel_|_16ad30d3-2b1e-433d-9f31-58de69dacffe3335': 'Informativo | 98d6627d-10d5-4f8b-ab2e-c764a00bfb69 | 68473870-5030-7316-6351-136576696036 | XTHyJxz6aPUIFVONQdUE'}, 'access_token': 'EAAFMtaIPwugBABaSyaEaQxCjZB05xZAs5fag2JZCZB9LcVSFPJtAjcu48PewIfljpztLDiWZCZAINUghHfyn85rSKQxPnfZAMZA3DScogyb4Q1cg91NEiEgVLhlsHJXakq9diPLuJtiRqZC8kCp4MfZCllTvoPR0Jad4B0r0JWp8foAffcrjKebrSp'}}}\n",
      "\n",
      "\n",
      "---------------------------------------------------------------------------\n",
      "mensaje enviado a la API de facebook:\n",
      " {'message': {'text': 'Adios oswa'}, 'recipient': {'id': '4418021788217066'}, 'notification_type': 'REGULAR'}\n",
      " [.] Got %r None\n"
     ]
    },
    {
     "name": "stderr",
     "output_type": "stream",
     "text": [
      "127.0.0.1 - - [07/Jul/2021 15:24:09] \"\u001b[37mPOST /apiREST/v1 HTTP/1.1\u001b[0m\" 200 -\n",
      "127.0.0.1 - - [07/Jul/2021 15:24:09] \"\u001b[37mPOST /apiREST/v1 HTTP/1.1\u001b[0m\" 200 -\n"
     ]
    },
    {
     "name": "stdout",
     "output_type": "stream",
     "text": [
      "\n",
      "_________________________________________________________________________________________________________________________\n",
      "Mesaje de la API de Facebook-> \n",
      " {'object': 'page', 'entry': [{'id': '109253348089942', 'time': 1625689452131, 'messaging': [{'sender': {'id': '4418021788217066'}, 'recipient': {'id': '109253348089942'}, 'timestamp': 1625689452168, 'delivery': {'mids': ['m_cGOngBH6VFb8UqpgIBQXwR2FPwH8Pwqo_sZ9EWc0HzniKfz_Nrn1PLLLkF9PkJvBDqJ63U8J9uRNWSGYjL_QuQ'], 'watermark': 1625689451972}}]}]}\n",
      "\n",
      "_________________________________________________________________________________________________________________________\n",
      "Mesaje de la API de Facebook-> \n",
      " {'object': 'page', 'entry': [{'id': '109253348089942', 'time': 1625689452066, 'messaging': [{'sender': {'id': '109253348089942'}, 'recipient': {'id': '4418021788217066'}, 'timestamp': 1625689451972, 'message': {'mid': 'm_cGOngBH6VFb8UqpgIBQXwR2FPwH8Pwqo_sZ9EWc0HzniKfz_Nrn1PLLLkF9PkJvBDqJ63U8J9uRNWSGYjL_QuQ', 'is_echo': True, 'text': 'Adios oswa', 'app_id': 365817968444136}}]}]}\n",
      "[{'sender': {'id': '109253348089942'}, 'recipient': {'id': '4418021788217066'}, 'timestamp': 1625689451972, 'message': {'mid': 'm_cGOngBH6VFb8UqpgIBQXwR2FPwH8Pwqo_sZ9EWc0HzniKfz_Nrn1PLLLkF9PkJvBDqJ63U8J9uRNWSGYjL_QuQ', 'is_echo': True, 'text': 'Adios oswa', 'app_id': 365817968444136}}]\n",
      "hilo consume\n",
      "\n",
      "______________________________________________no read__________________________________________________________________________\n",
      "\n",
      "\t\tMensaje enviado al Nucleo Logico->\n",
      "  {\"payload\": {\"robot\": \"none\", \"id_face\": \"109253348089942\", \"recipient_id\": \"109253348089942\", \"access_token\": \"none\", \"content\": \"Adios oswa\", \"type_resp\": \"message\", \"state\": \"none\", \"blocktype\": \"none\", \"opciones\": \"none\", \"entities\": {}}}\n",
      "\n",
      "_________________________________________________________________________________________________________________________\n",
      "Mesaje de la API de Facebook-> \n",
      " {'object': 'page', 'entry': [{'id': '109253348089942', 'time': 1625689452169, 'messaging': [{'sender': {'id': '4418021788217066'}, 'recipient': {'id': '109253348089942'}, 'timestamp': 1625689452315, 'read': {'watermark': 1625689452150}}]}]}\n"
     ]
    },
    {
     "name": "stderr",
     "output_type": "stream",
     "text": [
      "127.0.0.1 - - [07/Jul/2021 15:24:09] \"\u001b[37mPOST /apiREST/v1 HTTP/1.1\u001b[0m\" 200 -\n"
     ]
    },
    {
     "name": "stdout",
     "output_type": "stream",
     "text": [
      "hilo consume\n",
      "\n",
      "_________________________________________________________________________________________________________________________\n",
      "\t\t\n",
      "Respuesta del Nucleo Logico->  {'Respuesta': {'content': 'Hola soy bot2', 'next_id': 'Informativo | e61376a2-83b0-4ccd-90b2-0d3b8d9fc04b | 46973551-1467-4450-7433-103925931451 | XTHyJxz6aPUIFVONQdUE', 'blockType': 'informativo', 'contentType': 'text', 'typingTime': '1', 'payload': {'content': '', 'state': 'Informativo | d602e284-c054-4f7f-90b0-3d079f8908e4 | XTHyJxz6aPUIFVONQdUE', 'recipient_id': '109253348089942', 'entities': {}, 'access_token': 'EAAFMtaIPwugBABaSyaEaQxCjZB05xZAs5fag2JZCZB9LcVSFPJtAjcu48PewIfljpztLDiWZCZAINUghHfyn85rSKQxPnfZAMZA3DScogyb4Q1cg91NEiEgVLhlsHJXakq9diPLuJtiRqZC8kCp4MfZCllTvoPR0Jad4B0r0JWp8foAffcrjKebrSp'}}}\n",
      "\n",
      "\n",
      "---------------------------------------------------------------------------\n",
      "mensaje enviado a la API de facebook:\n",
      " {'message': {'text': 'Hola soy bot2'}, 'recipient': {'id': '109253348089942'}, 'notification_type': 'REGULAR'}\n",
      " [.] Got %r None\n"
     ]
    },
    {
     "name": "stderr",
     "output_type": "stream",
     "text": [
      "127.0.0.1 - - [07/Jul/2021 16:48:47] \"\u001b[37mPOST /apiREST/v1 HTTP/1.1\u001b[0m\" 200 -\n"
     ]
    },
    {
     "name": "stdout",
     "output_type": "stream",
     "text": [
      "\n",
      "_________________________________________________________________________________________________________________________\n",
      "Mesaje de la API de Facebook-> \n",
      " {'object': 'page', 'entry': [{'id': '111445520541316', 'time': 1625694526902, 'messaging': [{'sender': {'id': '4076487932437461'}, 'recipient': {'id': '111445520541316'}, 'timestamp': 1625694529794, 'delivery': {'watermark': 1622672196965}}]}]}\n"
     ]
    },
    {
     "name": "stderr",
     "output_type": "stream",
     "text": [
      "127.0.0.1 - - [07/Jul/2021 17:19:29] \"\u001b[37mPOST /apiREST/v1 HTTP/1.1\u001b[0m\" 200 -\n"
     ]
    },
    {
     "name": "stdout",
     "output_type": "stream",
     "text": [
      "\n",
      "_________________________________________________________________________________________________________________________\n",
      "Mesaje de la API de Facebook-> \n",
      " {'object': 'page', 'entry': [{'id': '111445520541316', 'time': 1625696371611, 'messaging': [{'sender': {'id': '4076487932437461'}, 'recipient': {'id': '111445520541316'}, 'timestamp': 1625696372387, 'delivery': {'watermark': 1622672196965}}]}]}\n"
     ]
    },
    {
     "name": "stderr",
     "output_type": "stream",
     "text": [
      "127.0.0.1 - - [07/Jul/2021 18:15:11] \"\u001b[37mPOST /apiREST/v1 HTTP/1.1\u001b[0m\" 200 -\n"
     ]
    },
    {
     "name": "stdout",
     "output_type": "stream",
     "text": [
      "\n",
      "_________________________________________________________________________________________________________________________\n",
      "Mesaje de la API de Facebook-> \n",
      " {'object': 'page', 'entry': [{'id': '106842278334918', 'time': 1625699714077, 'messaging': [{'sender': {'id': '3992952420759571'}, 'recipient': {'id': '106842278334918'}, 'timestamp': 1625699713994, 'message': {'mid': 'm_pExVtAi-ALXalyGgZoMkDm5LdZJwKC-4WNAMDG3FPBAhyuvUHQUIAnsG8rYqUBLFbYtD09Gs94beD69tRPpf-A', 'text': 'Hola'}}]}]}\n",
      "[{'sender': {'id': '3992952420759571'}, 'recipient': {'id': '106842278334918'}, 'timestamp': 1625699713994, 'message': {'mid': 'm_pExVtAi-ALXalyGgZoMkDm5LdZJwKC-4WNAMDG3FPBAhyuvUHQUIAnsG8rYqUBLFbYtD09Gs94beD69tRPpf-A', 'text': 'Hola'}}]\n",
      "hilo consume\n",
      "\n",
      "\n",
      "______________________________________________no read__________________________________________________________________________\n",
      "\t\tMensaje enviado al Nucleo Logico->\n",
      "  {\"payload\": {\"robot\": \"none\", \"id_face\": \"106842278334918\", \"recipient_id\": \"3992952420759571\", \"access_token\": \"none\", \"content\": \"Hola\", \"type_resp\": \"message\", \"state\": \"none\", \"blocktype\": \"none\", \"opciones\": \"none\", \"entities\": {}}}\n",
      "\n",
      "_________________________________________________________________________________________________________________________\n",
      "\t\t\n",
      "Respuesta del Nucleo Logico->  {'Respuesta': {'content': 'Hola oswaldo', 'next_id': 'Informativo | e61376a2-83b0-4ccd-90b2-0d3b8d9fc04b | 23985004-9470-9169-4961-397901325837 | oIgvWKILDrYMYDjlgAIk', 'blockType': 'informativo', 'contentType': 'text', 'typingTime': '1', 'payload': {'content': '', 'state': 'Informativo | 2edb2c69-beb8-471f-9799-940599824c36 | oIgvWKILDrYMYDjlgAIk', 'recipient_id': '3992952420759571', 'entities': {}, 'access_token': 'EAAFMtaIPwugBAIRPT4mTm2a9nei1940NrJqMbhvvyPwfZAUZA6Id2YaXUeSu06TENy0QoDsprATI0J2ZCGHS2X6UQ4TG2AWkIbNQ3LLGdRMORJZBZBT9BhB58QusrYaXG90RiZAog3r9THJCXmX1m7vjArQ3KoX3PrEGYehS4j6TSblsfU73uf'}}}\n",
      "\n",
      "\n",
      "---------------------------------------------------------------------------\n",
      "mensaje enviado a la API de facebook:\n",
      " {'message': {'text': 'Hola oswaldo'}, 'recipient': {'id': '3992952420759571'}, 'notification_type': 'REGULAR'}\n",
      " [.] Got %r None\n",
      "\n",
      "_________________________________________________________________________________________________________________________\n",
      "Mesaje de la API de Facebook-> \n",
      " {'object': 'page', 'entry': [{'id': '106842278334918', 'time': 1625699715650, 'messaging': [{'sender': {'id': '106842278334918'}, 'recipient': {'id': '3992952420759571'}, 'timestamp': 1625699715599, 'message': {'mid': 'm_v7u1GxapwMJVbdm7s_IES25LdZJwKC-4WNAMDG3FPBCv7pYT1GMp51a2xL59K6NyC6LW7bL94GOOuKNGKrunuQ', 'is_echo': True, 'text': 'Hola oswaldo', 'app_id': 365817968444136}}]}]}\n"
     ]
    },
    {
     "name": "stderr",
     "output_type": "stream",
     "text": [
      "127.0.0.1 - - [07/Jul/2021 18:15:12] \"\u001b[37mPOST /apiREST/v1 HTTP/1.1\u001b[0m\" 200 -\n"
     ]
    },
    {
     "name": "stdout",
     "output_type": "stream",
     "text": [
      "[{'sender': {'id': '106842278334918'}, 'recipient': {'id': '3992952420759571'}, 'timestamp': 1625699715599, 'message': {'mid': 'm_v7u1GxapwMJVbdm7s_IES25LdZJwKC-4WNAMDG3FPBCv7pYT1GMp51a2xL59K6NyC6LW7bL94GOOuKNGKrunuQ', 'is_echo': True, 'text': 'Hola oswaldo', 'app_id': 365817968444136}}]\n",
      "hilo consume\n",
      "\n",
      "\n",
      "______________________________________________no read__________________________________________________________________________\n",
      "\t\tMensaje enviado al Nucleo Logico->\n",
      "  {\"payload\": {\"robot\": \"none\", \"id_face\": \"106842278334918\", \"recipient_id\": \"106842278334918\", \"access_token\": \"none\", \"content\": \"Hola oswaldo\", \"type_resp\": \"message\", \"state\": \"none\", \"blocktype\": \"none\", \"opciones\": \"none\", \"entities\": {}}}\n",
      "\n",
      "_________________________________________________________________________________________________________________________\n",
      "\t\t\n",
      "Respuesta del Nucleo Logico->  {'Respuesta': {'content': 'Hola oswaldo', 'next_id': 'Informativo | e61376a2-83b0-4ccd-90b2-0d3b8d9fc04b | 23985004-9470-9169-4961-397901325837 | oIgvWKILDrYMYDjlgAIk', 'blockType': 'informativo', 'contentType': 'text', 'typingTime': '1', 'payload': {'content': '', 'state': 'Informativo | 2edb2c69-beb8-471f-9799-940599824c36 | oIgvWKILDrYMYDjlgAIk', 'recipient_id': '106842278334918', 'entities': {}, 'access_token': 'EAAFMtaIPwugBAIRPT4mTm2a9nei1940NrJqMbhvvyPwfZAUZA6Id2YaXUeSu06TENy0QoDsprATI0J2ZCGHS2X6UQ4TG2AWkIbNQ3LLGdRMORJZBZBT9BhB58QusrYaXG90RiZAog3r9THJCXmX1m7vjArQ3KoX3PrEGYehS4j6TSblsfU73uf'}}}\n",
      "\n",
      "\n",
      "---------------------------------------------------------------------------\n",
      "mensaje enviado a la API de facebook:\n",
      " {'message': {'text': 'Hola oswaldo'}, 'recipient': {'id': '106842278334918'}, 'notification_type': 'REGULAR'}\n",
      " [.] Got %r None\n"
     ]
    },
    {
     "name": "stderr",
     "output_type": "stream",
     "text": [
      "127.0.0.1 - - [07/Jul/2021 18:15:14] \"\u001b[37mPOST /apiREST/v1 HTTP/1.1\u001b[0m\" 200 -\n"
     ]
    },
    {
     "name": "stdout",
     "output_type": "stream",
     "text": [
      "\n",
      "_________________________________________________________________________________________________________________________\n",
      "Mesaje de la API de Facebook-> \n",
      " {'object': 'page', 'entry': [{'id': '106842278334918', 'time': 1625699717091, 'messaging': [{'sender': {'id': '3992952420759571'}, 'recipient': {'id': '106842278334918'}, 'timestamp': 1625699717157, 'delivery': {'mids': ['m_v7u1GxapwMJVbdm7s_IES25LdZJwKC-4WNAMDG3FPBCv7pYT1GMp51a2xL59K6NyC6LW7bL94GOOuKNGKrunuQ'], 'watermark': 1625699715599}}]}]}\n"
     ]
    },
    {
     "name": "stderr",
     "output_type": "stream",
     "text": [
      "127.0.0.1 - - [07/Jul/2021 18:15:16] \"\u001b[37mPOST /apiREST/v1 HTTP/1.1\u001b[0m\" 200 -\n"
     ]
    },
    {
     "name": "stdout",
     "output_type": "stream",
     "text": [
      "\n",
      "_________________________________________________________________________________________________________________________\n",
      "Mesaje de la API de Facebook-> \n",
      " {'object': 'page', 'entry': [{'id': '106842278334918', 'time': 1625699719720, 'messaging': [{'sender': {'id': '3992952420759571'}, 'recipient': {'id': '106842278334918'}, 'timestamp': 1625699719767, 'delivery': {'mids': ['m_v7u1GxapwMJVbdm7s_IES25LdZJwKC-4WNAMDG3FPBCv7pYT1GMp51a2xL59K6NyC6LW7bL94GOOuKNGKrunuQ'], 'watermark': 1625699715599}}]}]}\n"
     ]
    },
    {
     "name": "stderr",
     "output_type": "stream",
     "text": [
      "127.0.0.1 - - [07/Jul/2021 18:15:16] \"\u001b[37mPOST /apiREST/v1 HTTP/1.1\u001b[0m\" 200 -\n"
     ]
    },
    {
     "name": "stdout",
     "output_type": "stream",
     "text": [
      "\n",
      "_________________________________________________________________________________________________________________________\n",
      "Mesaje de la API de Facebook-> \n",
      " {'object': 'page', 'entry': [{'id': '106842278334918', 'time': 1625699719919, 'messaging': [{'sender': {'id': '3992952420759571'}, 'recipient': {'id': '106842278334918'}, 'timestamp': 1625699719967, 'delivery': {'mids': ['m_v7u1GxapwMJVbdm7s_IES25LdZJwKC-4WNAMDG3FPBCv7pYT1GMp51a2xL59K6NyC6LW7bL94GOOuKNGKrunuQ'], 'watermark': 1625699715599}}]}]}\n"
     ]
    },
    {
     "name": "stderr",
     "output_type": "stream",
     "text": [
      "127.0.0.1 - - [07/Jul/2021 18:15:18] \"\u001b[37mPOST /apiREST/v1 HTTP/1.1\u001b[0m\" 200 -\n"
     ]
    },
    {
     "name": "stdout",
     "output_type": "stream",
     "text": [
      "\n",
      "_________________________________________________________________________________________________________________________\n",
      "Mesaje de la API de Facebook-> \n",
      " {'object': 'page', 'entry': [{'id': '106842278334918', 'time': 1625699721801, 'messaging': [{'sender': {'id': '3992952420759571'}, 'recipient': {'id': '106842278334918'}, 'timestamp': 1625699721860, 'read': {'watermark': 1625699715599}}]}]}\n",
      "hilo consume\n",
      "\n",
      "_________________________________________________________________________________________________________________________\n",
      "Mesaje de la API de Facebook-> \n",
      " {'object': 'page', 'entry': [{'id': '106842278334918', 'time': 1625699721938, 'messaging': [{'sender': {'id': '3992952420759571'}, 'recipient': {'id': '106842278334918'}, 'timestamp': 1625699721966, 'read': {'watermark': 1625699715599}}]}]}\n"
     ]
    },
    {
     "name": "stderr",
     "output_type": "stream",
     "text": [
      "127.0.0.1 - - [07/Jul/2021 18:15:18] \"\u001b[37mPOST /apiREST/v1 HTTP/1.1\u001b[0m\" 200 -\n"
     ]
    },
    {
     "name": "stdout",
     "output_type": "stream",
     "text": [
      "hilo consume\n",
      "\n",
      "_________________________________________________________________________________________________________________________\n",
      "\t\t\n",
      "Respuesta del Nucleo Logico->  {'Respuesta': {'content': 'Este es un compuesto', 'next_id': 'Input | 36f8147d-fcbb-41b0-8017-c8a481cbf661 | 23985004-9470-9169-4961-397901325837 | oIgvWKILDrYMYDjlgAIk', 'blockType': 'informativo', 'contentType': 'text', 'typingTime': '1', 'payload': {'content': '', 'state': 'Informativo | e61376a2-83b0-4ccd-90b2-0d3b8d9fc04b | 23985004-9470-9169-4961-397901325837 | oIgvWKILDrYMYDjlgAIk', 'recipient_id': '3992952420759571', 'entities': {}, 'access_token': 'EAAFMtaIPwugBAIRPT4mTm2a9nei1940NrJqMbhvvyPwfZAUZA6Id2YaXUeSu06TENy0QoDsprATI0J2ZCGHS2X6UQ4TG2AWkIbNQ3LLGdRMORJZBZBT9BhB58QusrYaXG90RiZAog3r9THJCXmX1m7vjArQ3KoX3PrEGYehS4j6TSblsfU73uf'}}}\n",
      "\n",
      "\n",
      "---------------------------------------------------------------------------\n",
      "mensaje enviado a la API de facebook:\n",
      " {'message': {'text': 'Este es un compuesto'}, 'recipient': {'id': '3992952420759571'}, 'notification_type': 'REGULAR'}\n",
      " [.] Got %r None\n",
      "\n",
      "_________________________________________________________________________________________________________________________\n",
      "Mesaje de la API de Facebook-> \n",
      " \n",
      "_________________________________________________________________________________________________________________________{'object': 'page', 'entry': [{'id': '106842278334918', 'time': 1625699723011, 'messaging': [{'sender': {'id': '106842278334918'}, 'recipient': {'id': '3992952420759571'}, 'timestamp': 1625699722978, 'message': {'mid': 'm_--jsMOrslChCaxQUxHw5u25LdZJwKC-4WNAMDG3FPBADAajTqiRIPCM9r3gpRzhWp8MxvdMhYwSCfLlenH0zCQ', 'is_echo': True, 'text': 'Este es un compuesto', 'app_id': 365817968444136}}]}]}\n",
      "\t\t\n",
      "Respuesta del Nucleo Logico-> \n",
      " {'Respuesta': {'content': 'Ingresa tu nombre', 'next_id': 'Carrusel | 16ad30d3-2b1e-433d-9f31-58de69dacffe | 23985004-9470-9169-4961-397901325837 | oIgvWKILDrYMYDjlgAIk', 'blockType': 'input', 'contentType': 'None', 'typingTime': '1', 'payload': {'content': '', 'state': 'Input | 36f8147d-fcbb-41b0-8017-c8a481cbf661 | 23985004-9470-9169-4961-397901325837 | oIgvWKILDrYMYDjlgAIk', 'recipient_id': '3992952420759571', 'entities': {}, 'access_token': 'EAAFMtaIPwugBAIRPT4mTm2a9nei1940NrJqMbhvvyPwfZAUZA6Id2YaXUeSu06TENy0QoDsprATI0J2ZCGHS2X6UQ4TG2AWkIbNQ3LLGdRMORJZBZBT9BhB58QusrYaXG90RiZAog3r9THJCXmX1m7vjArQ3KoX3PrEGYehS4j6TSblsfU73uf'}, 'validacion': '', 'default_id': 'Input | 36f8147d-fcbb-41b0-8017-c8a481cbf661 | 23985004-9470-9169-4961-397901325837 | oIgvWKILDrYMYDjlgAIk'}}\n",
      "[{'sender': {'id': '106842278334918'}, 'recipient': {'id': '3992952420759571'}, 'timestamp': 1625699722978, 'message': {'mid': 'm_--jsMOrslChCaxQUxHw5u25LdZJwKC-4WNAMDG3FPBADAajTqiRIPCM9r3gpRzhWp8MxvdMhYwSCfLlenH0zCQ', 'is_echo': True, 'text': 'Este es un compuesto', 'app_id': 365817968444136}}]\n"
     ]
    },
    {
     "name": "stderr",
     "output_type": "stream",
     "text": [
      "127.0.0.1 - - [07/Jul/2021 18:15:19] \"\u001b[37mPOST /apiREST/v1 HTTP/1.1\u001b[0m\" 200 -\n"
     ]
    },
    {
     "name": "stdout",
     "output_type": "stream",
     "text": [
      "hilo consume\n",
      "\n",
      "______________________________________________no read__________________________________________________________________________\n",
      "\n",
      "\t\tMensaje enviado al Nucleo Logico->\n",
      "  {\"payload\": {\"robot\": \"none\", \"id_face\": \"106842278334918\", \"recipient_id\": \"106842278334918\", \"access_token\": \"none\", \"content\": \"Este es un compuesto\", \"type_resp\": \"message\", \"state\": \"none\", \"blocktype\": \"none\", \"opciones\": \"none\", \"entities\": {}}}\n"
     ]
    },
    {
     "name": "stderr",
     "output_type": "stream",
     "text": [
      "127.0.0.1 - - [07/Jul/2021 18:15:20] \"\u001b[37mPOST /apiREST/v1 HTTP/1.1\u001b[0m\" 200 -\n"
     ]
    },
    {
     "name": "stdout",
     "output_type": "stream",
     "text": [
      "\n",
      "_________________________________________________________________________________________________________________________\n",
      "\t\t\n",
      "Respuesta del Nucleo Logico->  {'Respuesta': {'content': 'Hola oswaldo', 'next_id': 'Informativo | e61376a2-83b0-4ccd-90b2-0d3b8d9fc04b | 23985004-9470-9169-4961-397901325837 | oIgvWKILDrYMYDjlgAIk', 'blockType': 'informativo', 'contentType': 'text', 'typingTime': '1', 'payload': {'content': '', 'state': 'Informativo | 2edb2c69-beb8-471f-9799-940599824c36 | oIgvWKILDrYMYDjlgAIk', 'recipient_id': '106842278334918', 'entities': {}, 'access_token': 'EAAFMtaIPwugBAIRPT4mTm2a9nei1940NrJqMbhvvyPwfZAUZA6Id2YaXUeSu06TENy0QoDsprATI0J2ZCGHS2X6UQ4TG2AWkIbNQ3LLGdRMORJZBZBT9BhB58QusrYaXG90RiZAog3r9THJCXmX1m7vjArQ3KoX3PrEGYehS4j6TSblsfU73uf'}}}\n",
      "\n",
      "\n",
      "---------------------------------------------------------------------------\n",
      "mensaje enviado a la API de facebook:\n",
      " {'message': {'text': 'Ingresa tu nombre'}, 'recipient': {'id': '3992952420759571'}, 'notification_type': 'REGULAR'}\n",
      " [.] Got %r None\n",
      "\n",
      "_________________________________________________________________________________________________________________________\n",
      "Mesaje de la API de Facebook-> \n",
      " {'object': 'page', 'entry': [{'id': '106842278334918', 'time': 1625699723495, 'messaging': [{'sender': {'id': '3992952420759571'}, 'recipient': {'id': '106842278334918'}, 'timestamp': 1625699723550, 'delivery': {'mids': ['m_--jsMOrslChCaxQUxHw5u25LdZJwKC-4WNAMDG3FPBADAajTqiRIPCM9r3gpRzhWp8MxvdMhYwSCfLlenH0zCQ'], 'watermark': 1625699722978}}]}]}\n",
      "\n",
      "_________________________________________________________________________________________________________________________\n",
      "Mesaje de la API de Facebook-> \n",
      " {'object': 'page', 'entry': [{'id': '106842278334918', 'time': 1625699723581, 'messaging': [{'sender': {'id': '106842278334918'}, 'recipient': {'id': '3992952420759571'}, 'timestamp': 1625699723486, 'message': {'mid': 'm_HP4rEXQ-0Yovmja8rbSOtG5LdZJwKC-4WNAMDG3FPBBacWjtUpmtpLij3mNLMlCo70siKvSWFKzev0Mqy3b7bg', 'is_echo': True, 'text': 'Ingresa tu nombre', 'app_id': 365817968444136}}]}]}\n"
     ]
    },
    {
     "name": "stderr",
     "output_type": "stream",
     "text": [
      "127.0.0.1 - - [07/Jul/2021 18:15:20] \"\u001b[37mPOST /apiREST/v1 HTTP/1.1\u001b[0m\" 200 -\n",
      "127.0.0.1 - - [07/Jul/2021 18:15:20] \"\u001b[37mPOST /apiREST/v1 HTTP/1.1\u001b[0m\" 200 -\n"
     ]
    },
    {
     "name": "stdout",
     "output_type": "stream",
     "text": [
      "[{'sender': {'id': '106842278334918'}, 'recipient': {'id': '3992952420759571'}, 'timestamp': 1625699723486, 'message': {'mid': 'm_HP4rEXQ-0Yovmja8rbSOtG5LdZJwKC-4WNAMDG3FPBBacWjtUpmtpLij3mNLMlCo70siKvSWFKzev0Mqy3b7bg', 'is_echo': True, 'text': 'Ingresa tu nombre', 'app_id': 365817968444136}}]\n",
      "\n",
      "\n",
      "---------------------------------------------------------------------------\n",
      "mensaje enviado a la API de facebook:\n",
      " {'message': {'text': 'Hola oswaldo'}, 'recipient': {'id': '106842278334918'}, 'notification_type': 'REGULAR'}\n",
      " [.] Got %r None\n",
      "hilo consume\n",
      "\n",
      "______________________________________________no read__________________________________________________________________________\n",
      "\n",
      "\t\tMensaje enviado al Nucleo Logico->\n",
      "  {\"payload\": {\"robot\": \"none\", \"id_face\": \"106842278334918\", \"recipient_id\": \"106842278334918\", \"access_token\": \"none\", \"content\": \"Ingresa tu nombre\", \"type_resp\": \"message\", \"state\": \"none\", \"blocktype\": \"none\", \"opciones\": \"none\", \"entities\": {}}}\n",
      "\n",
      "_________________________________________________________________________________________________________________________\n",
      "Mesaje de la API de Facebook-> \n",
      " {'object': 'page', 'entry': [{'id': '106842278334918', 'time': 1625699723653, 'messaging': [{'sender': {'id': '3992952420759571'}, 'recipient': {'id': '106842278334918'}, 'timestamp': 1625699723698, 'delivery': {'mids': ['m_HP4rEXQ-0Yovmja8rbSOtG5LdZJwKC-4WNAMDG3FPBBacWjtUpmtpLij3mNLMlCo70siKvSWFKzev0Mqy3b7bg'], 'watermark': 1625699723486}}]}]}\n"
     ]
    },
    {
     "name": "stderr",
     "output_type": "stream",
     "text": [
      "127.0.0.1 - - [07/Jul/2021 18:15:20] \"\u001b[37mPOST /apiREST/v1 HTTP/1.1\u001b[0m\" 200 -\n"
     ]
    },
    {
     "name": "stdout",
     "output_type": "stream",
     "text": [
      "\n",
      "_________________________________________________________________________________________________________________________\n",
      "\t\t\n",
      "Respuesta del Nucleo Logico->  {'Respuesta': {'content': 'Hola oswaldo', 'next_id': 'Informativo | e61376a2-83b0-4ccd-90b2-0d3b8d9fc04b | 23985004-9470-9169-4961-397901325837 | oIgvWKILDrYMYDjlgAIk', 'blockType': 'informativo', 'contentType': 'text', 'typingTime': '1', 'payload': {'content': '', 'state': 'Informativo | 2edb2c69-beb8-471f-9799-940599824c36 | oIgvWKILDrYMYDjlgAIk', 'recipient_id': '106842278334918', 'entities': {}, 'access_token': 'EAAFMtaIPwugBAIRPT4mTm2a9nei1940NrJqMbhvvyPwfZAUZA6Id2YaXUeSu06TENy0QoDsprATI0J2ZCGHS2X6UQ4TG2AWkIbNQ3LLGdRMORJZBZBT9BhB58QusrYaXG90RiZAog3r9THJCXmX1m7vjArQ3KoX3PrEGYehS4j6TSblsfU73uf'}}}\n",
      "\n",
      "_________________________________________________________________________________________________________________________\n",
      "Mesaje de la API de Facebook-> \n",
      " {'object': 'page', 'entry': [{'id': '106842278334918', 'time': 1625699723924, 'messaging': [{'sender': {'id': '3992952420759571'}, 'recipient': {'id': '106842278334918'}, 'timestamp': 1625699724064, 'read': {'watermark': 1625699723486}}]}]}\n",
      "hilo consume\n",
      "\n",
      "_________________________________________________________________________________________________________________________\n",
      "Mesaje de la API de Facebook-> \n",
      " {'object': 'page', 'entry': [{'id': '106842278334918', 'time': 1625699724119, 'messaging': [{'sender': {'id': '3992952420759571'}, 'recipient': {'id': '106842278334918'}, 'timestamp': 1625699724153, 'read': {'watermark': 1625699723486}}]}]}\n",
      " [.] Got %r None\n"
     ]
    },
    {
     "name": "stderr",
     "output_type": "stream",
     "text": [
      "127.0.0.1 - - [07/Jul/2021 18:15:21] \"\u001b[37mPOST /apiREST/v1 HTTP/1.1\u001b[0m\" 200 -\n"
     ]
    },
    {
     "name": "stdout",
     "output_type": "stream",
     "text": [
      "\n",
      "\n",
      "---------------------------------------------------------------------------\n",
      "mensaje enviado a la API de facebook:\n",
      " {'message': {'text': 'Hola oswaldo'}, 'recipient': {'id': '106842278334918'}, 'notification_type': 'REGULAR'}\n",
      " [.] Got %r None\n",
      "hilo consume\n",
      " [.] Got %r None\n"
     ]
    },
    {
     "name": "stderr",
     "output_type": "stream",
     "text": [
      "127.0.0.1 - - [07/Jul/2021 19:30:23] \"\u001b[37mPOST /apiREST/v1 HTTP/1.1\u001b[0m\" 200 -\n"
     ]
    },
    {
     "name": "stdout",
     "output_type": "stream",
     "text": [
      "\n",
      "_________________________________________________________________________________________________________________________\n",
      "Mesaje de la API de Facebook-> \n",
      " {'object': 'page', 'entry': [{'id': '111445520541316', 'time': 1625704225802, 'messaging': [{'sender': {'id': '4076487932437461'}, 'recipient': {'id': '111445520541316'}, 'timestamp': 1625704226745, 'delivery': {'watermark': 1622672196965}}]}]}\n"
     ]
    }
   ],
   "source": [
    "\n",
    "#-------------Creación de la REST API con Flask-------------\n",
    "app = Flask(__name__)\n",
    "#---------------PASO 1. Recepción de mensajes enviados por la API de Facebook.--------------------------\n",
    "@app.route(\"/apiREST/v1\", methods=['GET', 'POST'])\n",
    "def receive_message():\n",
    "    peticiones = 0\n",
    "    #---------------PASO 2. Inicio: Identificar el tipo de petición que se está solicitando.--------------------------\n",
    "    if request.method == 'GET':\n",
    "        print(\" petición GET\")\n",
    "        print(\"metodo GET...\")\n",
    "        print(\"request\",request)\n",
    "        token_sent = request.args.get(\"hub.verify_token\")\n",
    "        print(token_sent )\n",
    "        #---------------PASO 2.1. Llamada a la función que valida la cadena de verificación y se retorna a la petición GET la validación de la función.--------------------------\n",
    "        return verify_fb_token(token_sent,request.args.get(\"hub.challenge\"))\n",
    "    else:\n",
    "        #---------------Recepción de mensajes de una operacion tipo POST.--------------------------        \n",
    "        \n",
    "        content = request.get_json(force=True)\n",
    "        output = request.get_json()\n",
    "        print('\\n_________________________________________________________________________________________________________________________')\n",
    "        print(\"Mesaje de la API de Facebook-> \\n\",output)    \n",
    "        #return \"Message Processed\"  \n",
    "        if output[\"object\"]==\"page\":\n",
    "            for event in output['entry']:\n",
    "                messaging = event['messaging']\n",
    "                id_face = event['id']\n",
    "                for message in messaging:\n",
    "                    nombreHilo=\"Hilo_\"+str(peticiones)\n",
    "                    N_C = Nucleo_Cliente2(nombreHilo)\n",
    "                    recipient_id = message['sender']['id']\n",
    "                    peticiones=peticiones+1                   \n",
    "                    if message.get('read'):\n",
    "                        enviarNucleoLectura(recipient_id, id_face, messaging,N_C)                                       \n",
    "                    elif message.get('message') or message.get('postback'): \n",
    "                        enviarNucleo(recipient_id, id_face, messaging,N_C)                \n",
    "                    #envio de mensaje proveniente de fb a nucleo lógico del sistema\n",
    "    \n",
    "    return \"Message Processed\"        \n",
    "#-------------Iniciando la REST API-------------\n",
    "if __name__ == \"__main__\":\n",
    "    app.run()"
   ]
  },
  {
   "cell_type": "code",
   "execution_count": null,
   "metadata": {},
   "outputs": [],
   "source": []
  }
 ],
 "metadata": {
  "kernelspec": {
   "display_name": "Python 3",
   "language": "python",
   "name": "python3"
  },
  "language_info": {
   "codemirror_mode": {
    "name": "ipython",
    "version": 3
   },
   "file_extension": ".py",
   "mimetype": "text/x-python",
   "name": "python",
   "nbconvert_exporter": "python",
   "pygments_lexer": "ipython3",
   "version": "3.9.2"
  }
 },
 "nbformat": 4,
 "nbformat_minor": 4
}
