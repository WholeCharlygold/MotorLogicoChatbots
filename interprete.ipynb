{
 "cells": [
  {
   "cell_type": "code",
   "execution_count": 1,
   "metadata": {},
   "outputs": [
    {
     "data": {
      "text/html": [
       "<style>.container { width:100% !important; }</style>"
      ],
      "text/plain": [
       "<IPython.core.display.HTML object>"
      ]
     },
     "metadata": {},
     "output_type": "display_data"
    }
   ],
   "source": [
    "import json\n",
    "import pika\n",
    "import uuid\n",
    "import threading \n",
    "import datetime\n",
    "import time\n",
    "import logging\n",
    "import random\n",
    "import requests\n",
    "import os\n",
    "from enum import Enum\n",
    "from flask import Flask, request, jsonify\n",
    "from flask_api import status\n",
    "from pymessenger import Element, Button\n",
    "from requests_toolbelt import MultipartEncoder\n",
    "from pymessenger import utils\n",
    "from IPython.core.display import display, HTML\n",
    "display(HTML(\"<style>.container { width:100% !important; }</style>\"))"
   ]
  },
  {
   "cell_type": "code",
   "execution_count": 2,
   "metadata": {},
   "outputs": [],
   "source": [
    "class NotificationType(Enum):\n",
    "    regular = \"REGULAR\"\n",
    "    silent_push = \"SILENT_PUSH\"\n",
    "    no_push = \"NO_PUSH\""
   ]
  },
  {
   "cell_type": "code",
   "execution_count": 3,
   "metadata": {},
   "outputs": [],
   "source": [
    "def verify_fb_token(token_sent,exito):\n",
    "    VERIFY_TOKEN='chatbot' # token de verificación para fb  \n",
    "    if token_sent == VERIFY_TOKEN:\n",
    "        return exito\n",
    "    else:\n",
    "        return 'Verificacion de token invalida'"
   ]
  },
  {
   "cell_type": "code",
   "execution_count": 4,
   "metadata": {},
   "outputs": [],
   "source": [
    "def enviarNucleoLectura(recipient_id, id_face, mensaje,hilo): \n",
    "    content=''   \n",
    "    entidad={}\n",
    "    n =  {\"payload\": {\"robot\":\"none\",\"id_face\":\" \",\"recipient_id\":\" \",\"access_token\":\"none\",\"content\":\" \",\"type_resp\":\"read\",\"state\":\"none\", \"blocktype\":\"none\", \"opciones\":\"none\", \"entities\":\"\"}}\n",
    "    \n",
    "    data=json.dumps(n)\n",
    "    decoded=json.loads(data)\n",
    "    decoded[\"payload\"][\"id_face\"]=id_face\n",
    "    decoded[\"payload\"][\"recipient_id\"]=recipient_id\n",
    "    decoded[\"payload\"][\"content\"]=content\n",
    "    decoded[\"payload\"][\"entities\"]= entidad  \n",
    "    \n",
    "    data_string=json.dumps(decoded)    \n",
    "    hilo.corr_id = str(uuid.uuid4())\n",
    "    hilo.channel.basic_consume(on_message_callback=hilo.on_response, auto_ack=True, queue=hilo.queue_name) \n",
    "    try:\n",
    "        hilo.channel.basic_publish(exchange='',\n",
    "                              routing_key='Colaprueba23',\n",
    "                              properties=pika.BasicProperties(\n",
    "                                        reply_to = hilo.queue_name,\n",
    "                                        correlation_id = hilo.corr_id,\n",
    "                                        ),\n",
    "                                body=str(data_string))\n",
    "               \n",
    "        #print('\\n________________________________________read _______________________________________________________________________________')\n",
    "        #print('Mensaje enviado al Nucleo Logico Read-> ',data_string)  \n",
    "        hilo.start() \n",
    "    except Exception as error:\n",
    "        print(\"mensaje no enviado...\",str(error))"
   ]
  },
  {
   "cell_type": "code",
   "execution_count": 5,
   "metadata": {},
   "outputs": [],
   "source": [
    "def enviarNucleo(recipient_id, id_face, mensaje,hilo):        \n",
    "    cont=0\n",
    "    content=''\n",
    "    type_resp=''    \n",
    "    entidad= {}\n",
    "    if \"postback\" in mensaje[0]:\n",
    "        content=mensaje[0][\"postback\"][\"payload\"]\n",
    "        type_resp=\"postback\"\n",
    "        #entidad={mensaje[0][\"postback\"][\"payload\"]}\n",
    "    elif \"message\" in mensaje[0]:\n",
    "        print(mensaje)\n",
    "        if \"text\" in mensaje[0][\"message\"]:\n",
    "            content=mensaje[0][\"message\"][\"text\"]\n",
    "        else:\n",
    "            content=mensaje[0][\"message\"][\"attachments\"]\n",
    "        type_resp=\"message\"    \n",
    "    estado = \"none\"\n",
    "    tipo=\"none\"\n",
    "    opciones=\"none\"     \n",
    "    n =  {\"payload\": {\"robot\":\" \",\"id_face\":\" \",\"recipient_id\":\" \",\"access_token\":\" \",\"content\":\" \",\"type_resp\":\" \",\"state\":\" \", \"blocktype\":\" \", \"opciones\":\" \", \"entities\":\"\"}}\n",
    "    data=json.dumps(n)\n",
    "    decoded=json.loads(data)\n",
    "    decoded[\"payload\"][\"robot\"]=\"none\"\n",
    "    decoded[\"payload\"][\"id_face\"]=id_face\n",
    "    decoded[\"payload\"][\"access_token\"]=\"none\"\n",
    "    decoded[\"payload\"][\"recipient_id\"]=recipient_id\n",
    "    decoded[\"payload\"][\"content\"]=content\n",
    "    decoded[\"payload\"][\"type_resp\"]=type_resp\n",
    "    decoded[\"payload\"][\"state\"]=estado\n",
    "    decoded[\"payload\"][\"blocktype\"]=tipo\n",
    "    decoded[\"payload\"][\"opciones\"]=opciones\n",
    "    decoded[\"payload\"][\"entities\"]= entidad\n",
    "    data_string=json.dumps(decoded)    \n",
    "    hilo.corr_id = str(uuid.uuid4())\n",
    "    hilo.channel.basic_consume(on_message_callback=hilo.on_response, auto_ack=True, queue=hilo.queue_name) \n",
    "    try:\n",
    "        hilo.channel.basic_publish(exchange='',\n",
    "                              routing_key='Colaprueba23',\n",
    "                              properties=pika.BasicProperties(\n",
    "                                        reply_to = hilo.queue_name,\n",
    "                                        correlation_id = hilo.corr_id,\n",
    "                                        ),\n",
    "                                body=str(data_string))\n",
    "        hilo.start()        \n",
    "        print('\\n\\n______________________________________________no read__________________________________________________________________________')\n",
    "        print('\\t\\tMensaje enviado al Nucleo Logico->\\n ',data_string)        \n",
    "    except Exception as error:\n",
    "        print(\"mensaje no enviado...\",str(error))"
   ]
  },
  {
   "cell_type": "code",
   "execution_count": 6,
   "metadata": {},
   "outputs": [],
   "source": [
    "def send_message(payload,access_token):\n",
    "    api_version = 6.0\n",
    "    graph_url = 'https://graph.facebook.com/v{0}'.format(api_version)\n",
    "    request_endpoint = '{0}/me/messages'.format(graph_url)\n",
    "    auth = {'access_token': access_token}  \n",
    "    \n",
    "    response = requests.post(\n",
    "        request_endpoint,\n",
    "        params=auth,\n",
    "        json=payload\n",
    "    )\n",
    "    try:\n",
    "        result = response.json()\n",
    "        print(\"\\n\\n---------------------------------------------------------------------------\")\n",
    "        print(\"mensaje enviado a la API de facebook:\\n\",payload)\n",
    "        return result\n",
    "    except:\n",
    "        print(\"Error al enviar mensaje\")\n",
    "        return 'fail'\n"
   ]
  },
  {
   "cell_type": "code",
   "execution_count": 7,
   "metadata": {},
   "outputs": [],
   "source": [
    "def text_message(recipient_id, response,access_token):\n",
    "    payload={'message': {'text': response}, 'recipient': {'id': recipient_id}, 'notification_type': 'REGULAR'}\n",
    "    respuesta=send_message(payload,access_token)\n",
    "    return \"success\""
   ]
  },
  {
   "cell_type": "code",
   "execution_count": 8,
   "metadata": {},
   "outputs": [],
   "source": [
    "def button_message(recipient_id,content,options,access_token):\n",
    "    buttons = []\n",
    "    cont=0\n",
    "    cadena=(\"\".join(options)).capitalize() \n",
    "    if cadena.find(\"<user_email>\") != -1:\n",
    "        for opc in options:\n",
    "            if opc == \"<user_email>\":\n",
    "                button = dict({\"content_type\":'user_email'})\n",
    "            elif opc == \"<user_phone_number>\": \n",
    "                button= dict({\"content_type\":'user_phone_number'})\n",
    "            else:\n",
    "                button = dict({\"title\":opc, \"content_type\":'text', \"payload\":opc})\n",
    "            buttons.append(button)\n",
    "            cont=cont+1\n",
    "            if cont>7:\n",
    "                break    \n",
    "        payload={'message': {'text': content, 'quick_replies': buttons}, 'recipient': {'id': recipient_id}, 'notification_type': 'REGULAR'}        \n",
    "    else:\n",
    "        for opc in options:\n",
    "            button = Button(title=opc, type='postback', payload=opc)\n",
    "            buttons.append(button)\n",
    "            cont=cont+1\n",
    "            if cont>2:\n",
    "                break    \n",
    "        payload={'message': {'attachment': {'type': 'template', 'payload': {'template_type': 'button', 'text': content, 'buttons': buttons}}}, 'recipient': {'id': recipient_id}, 'notification_type': 'REGULAR'}\n",
    "\n",
    "    result=send_message(payload,access_token)\n",
    "    assert type(result) is dict\n",
    "    assert result.get('message_id') is not None\n",
    "    assert result.get('recipient_id') is not None"
   ]
  },
  {
   "cell_type": "code",
   "execution_count": 9,
   "metadata": {},
   "outputs": [],
   "source": [
    "def slide_message(recipient_id,content,access_token):\n",
    "    buttons =[]\n",
    "    elements=[]\n",
    "    element={'title':'', 'image_url':'', 'subtitle':'', 'buttons':[]}    \n",
    "    cont=0    \n",
    "    for data in content:         \n",
    "        buttons =[]\n",
    "        cont=0 \n",
    "        for btn in data['buttons']:\n",
    "            typeBtn = btn[\"typeButton\"]\n",
    "            if typeBtn == \"postback\":\n",
    "                button = Button(title=btn['titleButton'], type='postback', payload=btn['payloadButton'])\n",
    "            else:\n",
    "                button = Button(title=btn['titleButton'], type='web_url', url=btn['urlButton'])\n",
    "            buttons.append(button)\n",
    "            cont=cont+1\n",
    "            if cont>2:\n",
    "                break     \n",
    "        \n",
    "        element={'title':data['title'], 'image_url':data['image_url'], 'subtitle':data['subtitle'], 'buttons':buttons}\n",
    "        elements.append(element)   \n",
    "        \n",
    "    payload={\"recipient\": {\"id\":recipient_id}, \"message\":{\"attachment\": {\"type\":\"template\", \"payload\": {\"template_type\":\"generic\", \"elements\":elements}}}, 'notification_type': 'REGULAR'}\n",
    "    print(\"pyload slide: \",payload)\n",
    "    result=send_message(payload,access_token)\n",
    "    assert type(result) is dict\n",
    "    assert result.get('message_id') is not None\n",
    "    assert result.get('recipient_id') is not None"
   ]
  },
  {
   "cell_type": "code",
   "execution_count": 10,
   "metadata": {},
   "outputs": [],
   "source": [
    "def ticket_message(recipient_id,content,access_token):\n",
    "    payload={\"recipient\":{\"id\":recipient_id},\"message\":{\"attachment\":{\"type\":\"template\",\"payload\":content}}}    \n",
    "    result=send_message(payload,access_token)\n",
    "    assert type(result) is dict\n",
    "    assert result.get('message_id') is not None\n",
    "    assert result.get('recipient_id') is not None"
   ]
  },
  {
   "cell_type": "code",
   "execution_count": 11,
   "metadata": {},
   "outputs": [],
   "source": [
    "def conv(mensaje):\n",
    "    ans=' '\n",
    "    contenido=mensaje[\"Respuesta\"][\"content\"]\n",
    "    estado=mensaje[\"Respuesta\"][\"payload\"][\"state\"]\n",
    "    entidad= mensaje[\"Respuesta\"][\"payload\"][\"entities\"]\n",
    "    tipo= mensaje[\"Respuesta\"][\"blockType\"]\n",
    "    recipient_id=mensaje['Respuesta']['payload']['recipient_id']\n",
    "    access_token=mensaje['Respuesta']['payload']['access_token']    \n",
    "    if(tipo==\"quickReply\" or tipo==\"quickReplyDinamico\"):\n",
    "        button_message(recipient_id, contenido, mensaje[\"Respuesta\"][\"options\"],access_token)\n",
    "        return entidad, ans, estado, tipo, mensaje[\"Respuesta\"][\"options\"] \n",
    "    elif(tipo==\"input\" or tipo==\"inputDinamico\"):\n",
    "        text_message(recipient_id, contenido,access_token)\n",
    "        return entidad, ans, estado, tipo, 'vacio'    \n",
    "    elif(tipo==\"informativo\" or tipo==\"informativoDinamico\"):\n",
    "        text_message(recipient_id, contenido,access_token)\n",
    "        return entidad, str('next'), estado, tipo, 'vacio'    \n",
    "    elif(tipo==\"slide\" or tipo==\"slideBuy\" or tipo==\"slideDinamico\"):\n",
    "        slide_message(recipient_id, contenido,access_token)\n",
    "        return entidad, str('next'), estado, tipo, 'vacio'\n",
    "    elif(tipo==\"ticket\"):\n",
    "        ticket_message(recipient_id, contenido,access_token)\n",
    "        return entidad, str('next'), estado, tipo, 'vacio'\n",
    "    else:\n",
    "        return entidad, str('hey'), estado, tipo, 'vacio'"
   ]
  },
  {
   "cell_type": "code",
   "execution_count": 12,
   "metadata": {},
   "outputs": [],
   "source": [
    "class Nucleo_Cliente2(threading.Thread):\n",
    "    \n",
    "    def on_response(self, ch, method, props, body):\n",
    "        if self.corr_id == props.correlation_id:\n",
    "            self.response = body\n",
    "            \n",
    "    def __init__(self, nombreHilo):    \n",
    "        threading.Thread.__init__(self, name=nombreHilo, target=Nucleo_Cliente2.run)\n",
    "        self.nombrehilo=nombreHilo\n",
    "        self.connection = pika.BlockingConnection(pika.ConnectionParameters('localhost'))\n",
    "        self.channel = self.connection.channel()\n",
    "        self.result = self.channel.queue_declare(queue='',exclusive=True)\n",
    "        self.queue_name = self.result.method.queue\n",
    "        self.corr_id = ' ' \n",
    "        \n",
    "    def run(self):\n",
    "        try:                \n",
    "            self.response = None\n",
    "            self.response = self.call()\n",
    "            print(\" [.] Got %r\", self.response) \n",
    "        except Exception as error:\n",
    "            print(\"Error run :\",str(error))     \n",
    "            \n",
    "    def call(self):\n",
    "        print(\"hilo consume\")\n",
    "        cont = 0        \n",
    "        while(cont>=0):\n",
    "            self.response = None\n",
    "            while self.response is None:\n",
    "                self.connection.process_data_events()            \n",
    "            if len(self.response)>10:\n",
    "                #print(self.response)\n",
    "                data = json.loads(self.response)                \n",
    "                if  data.get(\"payload\"):\n",
    "                    break\n",
    "                else:                \n",
    "                    print('\\n_________________________________________________________________________________________________________________________')\n",
    "                    print('\\t\\t\\nRespuesta del Nucleo Logico-> ',data) \n",
    "                    entidad, resp, estado, tipo, opciones= conv(data)\n",
    "                    break\n",
    "                \n"
   ]
  },
  {
   "cell_type": "code",
   "execution_count": null,
   "metadata": {
    "scrolled": true
   },
   "outputs": [
    {
     "name": "stdout",
     "output_type": "stream",
     "text": [
      " * Serving Flask app \"__main__\" (lazy loading)\n",
      " * Environment: production\n",
      "   WARNING: This is a development server. Do not use it in a production deployment.\n",
      "   Use a production WSGI server instead.\n",
      " * Debug mode: off\n"
     ]
    },
    {
     "name": "stderr",
     "output_type": "stream",
     "text": [
      " * Running on http://127.0.0.1:5000/ (Press CTRL+C to quit)\n",
      "127.0.0.1 - - [18/Mar/2021 23:45:50] \"\u001b[37mPOST /apiREST/v1 HTTP/1.1\u001b[0m\" 200 -\n"
     ]
    },
    {
     "name": "stdout",
     "output_type": "stream",
     "text": [
      "\n",
      "_________________________________________________________________________________________________________________________\n",
      "Mesaje de la API de Facebook-> \n",
      " {'object': 'page', 'entry': [{'id': '111445520541316', 'time': 1616132750083, 'messaging': [{'sender': {'id': '3452826248079358'}, 'recipient': {'id': '111445520541316'}, 'timestamp': 1616132750434, 'read': {'watermark': 1616132749640}}]}]}\n",
      "hilo consume\n",
      " [.] Got %r None\n"
     ]
    },
    {
     "name": "stderr",
     "output_type": "stream",
     "text": [
      "127.0.0.1 - - [18/Mar/2021 23:45:50] \"\u001b[37mPOST /apiREST/v1 HTTP/1.1\u001b[0m\" 200 -\n",
      "127.0.0.1 - - [18/Mar/2021 23:45:50] \"\u001b[37mPOST /apiREST/v1 HTTP/1.1\u001b[0m\" 200 -\n",
      "127.0.0.1 - - [18/Mar/2021 23:45:50] \"\u001b[37mPOST /apiREST/v1 HTTP/1.1\u001b[0m\" 200 -\n"
     ]
    },
    {
     "name": "stdout",
     "output_type": "stream",
     "text": [
      "\n",
      "_________________________________________________________________________________________________________________________\n",
      "Mesaje de la API de Facebook-> \n",
      " {'object': 'page', 'entry': [{'id': '111445520541316', 'time': 1616132750503, 'messaging': [{'sender': {'id': '3452826248079358'}, 'recipient': {'id': '111445520541316'}, 'timestamp': 1616132750532, 'read': {'watermark': 1616132749690}}]}]}\n",
      "\n",
      "_________________________________________________________________________________________________________________________\n",
      "Mesaje de la API de Facebook-> \n",
      " {'object': 'page', 'entry': [{'id': '111445520541316', 'time': 1616132750500, 'messaging': [{'sender': {'id': '3452826248079358'}, 'recipient': {'id': '111445520541316'}, 'timestamp': 1616132750357, 'message': {'mid': 'm_0ztPoSV5BDoN_mA7fb-V-jrxWOlmWInsffZ5UHcOgULlsWYNPpeh1R78UIhdBtMQK44Kvz7YyCPAhnd0MUyj8w', 'text': 'Hola'}}]}]}\n",
      "[{'sender': {'id': '3452826248079358'}, 'recipient': {'id': '111445520541316'}, 'timestamp': 1616132750357, 'message': {'mid': 'm_0ztPoSV5BDoN_mA7fb-V-jrxWOlmWInsffZ5UHcOgULlsWYNPpeh1R78UIhdBtMQK44Kvz7YyCPAhnd0MUyj8w', 'text': 'Hola'}}]\n",
      "hilo consume\n",
      "\n",
      "______________________________________________no read__________________________________________________________________________hilo consume\n",
      "\n",
      "\n",
      "\t\tMensaje enviado al Nucleo Logico->\n",
      "  {\"payload\": {\"robot\": \"none\", \"id_face\": \"111445520541316\", \"recipient_id\": \"3452826248079358\", \"access_token\": \"none\", \"content\": \"Hola\", \"type_resp\": \"message\", \"state\": \"none\", \"blocktype\": \"none\", \"opciones\": \"none\", \"entities\": {}}}\n",
      "\n",
      "_________________________________________________________________________________________________________________________\n",
      "Mesaje de la API de Facebook-> \n",
      " {'object': 'page', 'entry': [{'id': '111445520541316', 'time': 1616132750696, 'messaging': [{'sender': {'id': '3452826248079358'}, 'recipient': {'id': '111445520541316'}, 'timestamp': 1616132750731, 'read': {'watermark': 1616132750236}}]}]}\n",
      "hilo consume\n",
      "\n",
      "_________________________________________________________________________________________________________________________\n",
      "\t\t\n",
      "Respuesta del Nucleo Logico->  {'Respuesta': {'content': 'Hola, soy un chatbot y esto es un mensaje de prueba y adios', 'next_id': 'prueba_captura', 'blockType': 'informativo', 'contentType': 'text', 'typingTime': '3', 'payload': {'content': '', 'state': 'prueba_inicio', 'recipient_id': '3452826248079358', 'entities': {}, 'access_token': 'EAALZCCZBzPwfkBAAo7njAlW7s4DTj1ZCs5v1ung1MhEyMlJXOOtiG8r7JcBgXVPhZBHkJONyTB6jKG470UyqGPWn4aDPnisgtT2ZCZAwQIjQgZAZBufZBJXmHz6mPKSgdmP6ikDA87vocZBay2dfQdz1OYezmYbxwfILXUvXtjUMZAniQZDZD'}}}\n",
      "\n",
      "\n",
      "---------------------------------------------------------------------------\n",
      "mensaje enviado a la API de facebook:\n",
      " {'message': {'text': 'Hola, soy un chatbot y esto es un mensaje de prueba y adios'}, 'recipient': {'id': '3452826248079358'}, 'notification_type': 'REGULAR'}\n",
      " [.] Got %r None\n"
     ]
    },
    {
     "name": "stderr",
     "output_type": "stream",
     "text": [
      "127.0.0.1 - - [18/Mar/2021 23:45:52] \"\u001b[37mPOST /apiREST/v1 HTTP/1.1\u001b[0m\" 200 -\n"
     ]
    },
    {
     "name": "stdout",
     "output_type": "stream",
     "text": [
      "\n",
      "_________________________________________________________________________________________________________________________\n",
      "\t\t\n",
      "Respuesta del Nucleo Logico->  {'Respuesta': {'content': 'introduce tu correo', 'next_id': 'pruebaCorreo_01inicial_inicial', 'blockType': 'input', 'contentType': 'text', 'typingTime': '3', 'payload': {'content': '', 'state': 'prueba_captura', 'recipient_id': '3452826248079358', 'entities': {}, 'access_token': 'EAALZCCZBzPwfkBAAo7njAlW7s4DTj1ZCs5v1ung1MhEyMlJXOOtiG8r7JcBgXVPhZBHkJONyTB6jKG470UyqGPWn4aDPnisgtT2ZCZAwQIjQgZAZBufZBJXmHz6mPKSgdmP6ikDA87vocZBay2dfQdz1OYezmYbxwfILXUvXtjUMZAniQZDZD'}, 'validacion': '^[a-z0-9]+[\\\\._]?[a-z0-9]+[@]\\\\w+[.]\\\\w{2,3}$', 'default_id': 'prueba_captura'}}\n",
      " [.] Got %r None\n",
      "\n",
      "_________________________________________________________________________________________________________________________\n",
      "Mesaje de la API de Facebook-> \n",
      " {'object': 'page', 'entry': [{'id': '111445520541316', 'time': 1616132751880, 'messaging': [{'sender': {'id': '111445520541316'}, 'recipient': {'id': '3452826248079358'}, 'timestamp': 1616132751810, 'message': {'mid': 'm_T49aOnBj27fyO1iMOcxa0DrxWOlmWInsffZ5UHcOgUJCQXZSW_HyyabPjRcMdWrBKlhrevP7d3y71tPh9vb5oA', 'is_echo': True, 'text': 'Hola, soy un chatbot y esto es un mensaje de prueba y adios', 'app_id': 843376636183033}}]}]}\n",
      "[{'sender': {'id': '111445520541316'}, 'recipient': {'id': '3452826248079358'}, 'timestamp': 1616132751810, 'message': {'mid': 'm_T49aOnBj27fyO1iMOcxa0DrxWOlmWInsffZ5UHcOgUJCQXZSW_HyyabPjRcMdWrBKlhrevP7d3y71tPh9vb5oA', 'is_echo': True, 'text': 'Hola, soy un chatbot y esto es un mensaje de prueba y adios', 'app_id': 843376636183033}}]\n",
      "hilo consume\n",
      "\n",
      "______________________________________________no read__________________________________________________________________________\n",
      "\n",
      "\t\tMensaje enviado al Nucleo Logico->\n",
      "  {\"payload\": {\"robot\": \"none\", \"id_face\": \"111445520541316\", \"recipient_id\": \"111445520541316\", \"access_token\": \"none\", \"content\": \"Hola, soy un chatbot y esto es un mensaje de prueba y adios\", \"type_resp\": \"message\", \"state\": \"none\", \"blocktype\": \"none\", \"opciones\": \"none\", \"entities\": {}}}\n",
      "\n",
      "_________________________________________________________________________________________________________________________\n",
      "Mesaje de la API de Facebook-> \n",
      " {'object': 'page', 'entry': [{'id': '111445520541316', 'time': 1616132751951, 'messaging': [{'sender': {'id': '3452826248079358'}, 'recipient': {'id': '111445520541316'}, 'timestamp': 1616132752030, 'delivery': {'mids': ['m_T49aOnBj27fyO1iMOcxa0DrxWOlmWInsffZ5UHcOgUJCQXZSW_HyyabPjRcMdWrBKlhrevP7d3y71tPh9vb5oA'], 'watermark': 1616132751810}}]}]}\n"
     ]
    },
    {
     "name": "stderr",
     "output_type": "stream",
     "text": [
      "127.0.0.1 - - [18/Mar/2021 23:45:52] \"\u001b[37mPOST /apiREST/v1 HTTP/1.1\u001b[0m\" 200 -\n",
      "127.0.0.1 - - [18/Mar/2021 23:45:52] \"\u001b[37mPOST /apiREST/v1 HTTP/1.1\u001b[0m\" 200 -\n"
     ]
    },
    {
     "name": "stdout",
     "output_type": "stream",
     "text": [
      "\n",
      "_________________________________________________________________________________________________________________________\n",
      "Mesaje de la API de Facebook-> \n",
      " {'object': 'page', 'entry': [{'id': '111445520541316', 'time': 1616132752053, 'messaging': [{'sender': {'id': '3452826248079358'}, 'recipient': {'id': '111445520541316'}, 'timestamp': 1616132752166, 'read': {'watermark': 1616132751585}}]}]}\n",
      "hilo consume\n",
      "\n",
      "_________________________________________________________________________________________________________________________\n",
      "\t\t\n",
      "Respuesta del Nucleo Logico->  {'Respuesta': {'content': 'Hola, soy un chatbot y esto es un mensaje de prueba y adios', 'next_id': 'prueba_captura', 'blockType': 'informativo', 'contentType': 'text', 'typingTime': '3', 'payload': {'content': '', 'state': 'prueba_inicio', 'recipient_id': '111445520541316', 'entities': {}, 'access_token': 'EAALZCCZBzPwfkBAAo7njAlW7s4DTj1ZCs5v1ung1MhEyMlJXOOtiG8r7JcBgXVPhZBHkJONyTB6jKG470UyqGPWn4aDPnisgtT2ZCZAwQIjQgZAZBufZBJXmHz6mPKSgdmP6ikDA87vocZBay2dfQdz1OYezmYbxwfILXUvXtjUMZAniQZDZD'}}}\n",
      "\n",
      "\n",
      "---------------------------------------------------------------------------\n",
      "mensaje enviado a la API de facebook:\n",
      " {'message': {'text': 'introduce tu correo'}, 'recipient': {'id': '3452826248079358'}, 'notification_type': 'REGULAR'}\n",
      " [.] Got %r None\n"
     ]
    },
    {
     "name": "stderr",
     "output_type": "stream",
     "text": [
      "127.0.0.1 - - [18/Mar/2021 23:45:52] \"\u001b[37mPOST /apiREST/v1 HTTP/1.1\u001b[0m\" 200 -\n"
     ]
    },
    {
     "name": "stdout",
     "output_type": "stream",
     "text": [
      " [.] Got %r None\n",
      "\n",
      "_________________________________________________________________________________________________________________________\n",
      "Mesaje de la API de Facebook-> \n",
      " {'object': 'page', 'entry': [{'id': '111445520541316', 'time': 1616132752346, 'messaging': [{'sender': {'id': '3452826248079358'}, 'recipient': {'id': '111445520541316'}, 'timestamp': 1616132752393, 'delivery': {'mids': ['m_T49aOnBj27fyO1iMOcxa0DrxWOlmWInsffZ5UHcOgUJCQXZSW_HyyabPjRcMdWrBKlhrevP7d3y71tPh9vb5oA'], 'watermark': 1616132751810}}]}]}\n",
      "\n",
      "\n",
      "---------------------------------------------------------------------------\n",
      "mensaje enviado a la API de facebook:\n",
      " {'message': {'text': 'Hola, soy un chatbot y esto es un mensaje de prueba y adios'}, 'recipient': {'id': '111445520541316'}, 'notification_type': 'REGULAR'}\n",
      " [.] Got %r None\n"
     ]
    },
    {
     "name": "stderr",
     "output_type": "stream",
     "text": [
      "127.0.0.1 - - [18/Mar/2021 23:45:52] \"\u001b[37mPOST /apiREST/v1 HTTP/1.1\u001b[0m\" 200 -\n",
      "127.0.0.1 - - [18/Mar/2021 23:45:52] \"\u001b[37mPOST /apiREST/v1 HTTP/1.1\u001b[0m\" 200 -\n",
      "127.0.0.1 - - [18/Mar/2021 23:45:52] \"\u001b[37mPOST /apiREST/v1 HTTP/1.1\u001b[0m\" 200 -\n"
     ]
    },
    {
     "name": "stdout",
     "output_type": "stream",
     "text": [
      "\n",
      "_________________________________________________________________________________________________________________________\n",
      "Mesaje de la API de Facebook-> \n",
      " {'object': 'page', 'entry': [{'id': '111445520541316', 'time': 1616132752774, 'messaging': [{'sender': {'id': '3452826248079358'}, 'recipient': {'id': '111445520541316'}, 'timestamp': 1616132752806, 'delivery': {'mids': ['m_hfMnnV2pfb0-7Lin1vw_QTrxWOlmWInsffZ5UHcOgUKATfJT3gl7lqXKhP4yp9Rn3HNrhKg14EVX0i0uO5N4Rw'], 'watermark': 1616132752593}}]}]}\n",
      "\n",
      "_________________________________________________________________________________________________________________________\n",
      "\n",
      "_________________________________________________________________________________________________________________________Mesaje de la API de Facebook-> \n",
      " {'object': 'page', 'entry': [{'id': '111445520541316', 'time': 1616132752727, 'messaging': [{'sender': {'id': '3452826248079358'}, 'recipient': {'id': '111445520541316'}, 'timestamp': 1616132752762, 'delivery': {'mids': ['m_hfMnnV2pfb0-7Lin1vw_QTrxWOlmWInsffZ5UHcOgUKATfJT3gl7lqXKhP4yp9Rn3HNrhKg14EVX0i0uO5N4Rw'], 'watermark': 1616132752593}}]}]}\n",
      "\n",
      "Mesaje de la API de Facebook-> \n",
      " {'object': 'page', 'entry': [{'id': '111445520541316', 'time': 1616132752688, 'messaging': [{'sender': {'id': '111445520541316'}, 'recipient': {'id': '3452826248079358'}, 'timestamp': 1616132752593, 'message': {'mid': 'm_hfMnnV2pfb0-7Lin1vw_QTrxWOlmWInsffZ5UHcOgUKATfJT3gl7lqXKhP4yp9Rn3HNrhKg14EVX0i0uO5N4Rw', 'is_echo': True, 'text': 'introduce tu correo', 'app_id': 843376636183033}}]}]}\n",
      "[{'sender': {'id': '111445520541316'}, 'recipient': {'id': '3452826248079358'}, 'timestamp': 1616132752593, 'message': {'mid': 'm_hfMnnV2pfb0-7Lin1vw_QTrxWOlmWInsffZ5UHcOgUKATfJT3gl7lqXKhP4yp9Rn3HNrhKg14EVX0i0uO5N4Rw', 'is_echo': True, 'text': 'introduce tu correo', 'app_id': 843376636183033}}]\n",
      "hilo consume\n",
      "\n",
      "______________________________________________no read__________________________________________________________________________\n",
      "\n",
      "\t\tMensaje enviado al Nucleo Logico->\n",
      "  {\"payload\": {\"robot\": \"none\", \"id_face\": \"111445520541316\", \"recipient_id\": \"111445520541316\", \"access_token\": \"none\", \"content\": \"introduce tu correo\", \"type_resp\": \"message\", \"state\": \"none\", \"blocktype\": \"none\", \"opciones\": \"none\", \"entities\": {}}}\n"
     ]
    },
    {
     "name": "stderr",
     "output_type": "stream",
     "text": [
      "127.0.0.1 - - [18/Mar/2021 23:45:53] \"\u001b[37mPOST /apiREST/v1 HTTP/1.1\u001b[0m\" 200 -\n"
     ]
    },
    {
     "name": "stdout",
     "output_type": "stream",
     "text": [
      "\n",
      "_________________________________________________________________________________________________________________________\n",
      "\t\t\n",
      "Respuesta del Nucleo Logico->  {'Respuesta': {'content': 'Hola, soy un chatbot y esto es un mensaje de prueba y adios', 'next_id': 'prueba_captura', 'blockType': 'informativo', 'contentType': 'text', 'typingTime': '3', 'payload': {'content': '', 'state': 'prueba_inicio', 'recipient_id': '111445520541316', 'entities': {}, 'access_token': 'EAALZCCZBzPwfkBAAo7njAlW7s4DTj1ZCs5v1ung1MhEyMlJXOOtiG8r7JcBgXVPhZBHkJONyTB6jKG470UyqGPWn4aDPnisgtT2ZCZAwQIjQgZAZBufZBJXmHz6mPKSgdmP6ikDA87vocZBay2dfQdz1OYezmYbxwfILXUvXtjUMZAniQZDZD'}}}\n",
      "\n",
      "_________________________________________________________________________________________________________________________\n",
      "Mesaje de la API de Facebook-> \n",
      " {'object': 'page', 'entry': [{'id': '111445520541316', 'time': 1616132753146, 'messaging': [{'sender': {'id': '3452826248079358'}, 'recipient': {'id': '111445520541316'}, 'timestamp': 1616132753286, 'read': {'watermark': 1616132752368}}]}]}\n",
      "hilo consume\n",
      "\n",
      "\n",
      "---------------------------------------------------------------------------\n",
      "mensaje enviado a la API de facebook:\n",
      " {'message': {'text': 'Hola, soy un chatbot y esto es un mensaje de prueba y adios'}, 'recipient': {'id': '111445520541316'}, 'notification_type': 'REGULAR'}\n",
      " [.] Got %r None\n",
      " [.] Got %r None\n"
     ]
    },
    {
     "name": "stderr",
     "output_type": "stream",
     "text": [
      "127.0.0.1 - - [18/Mar/2021 23:45:58] \"\u001b[37mPOST /apiREST/v1 HTTP/1.1\u001b[0m\" 200 -\n"
     ]
    },
    {
     "name": "stdout",
     "output_type": "stream",
     "text": [
      "\n",
      "_________________________________________________________________________________________________________________________\n",
      "Mesaje de la API de Facebook-> \n",
      " {'object': 'page', 'entry': [{'id': '111445520541316', 'time': 1616132758539, 'messaging': [{'sender': {'id': '3452826248079358'}, 'recipient': {'id': '111445520541316'}, 'timestamp': 1616132758598, 'read': {'watermark': 1616132758071}}]}]}\n",
      "hilo consume\n",
      " [.] Got %r None\n"
     ]
    },
    {
     "name": "stderr",
     "output_type": "stream",
     "text": [
      "127.0.0.1 - - [18/Mar/2021 23:46:03] \"\u001b[37mPOST /apiREST/v1 HTTP/1.1\u001b[0m\" 200 -\n",
      "127.0.0.1 - - [18/Mar/2021 23:46:03] \"\u001b[37mPOST /apiREST/v1 HTTP/1.1\u001b[0m\" 200 -\n",
      "127.0.0.1 - - [18/Mar/2021 23:46:03] \"\u001b[37mPOST /apiREST/v1 HTTP/1.1\u001b[0m\" 200 -\n",
      "127.0.0.1 - - [18/Mar/2021 23:46:03] \"\u001b[37mPOST /apiREST/v1 HTTP/1.1\u001b[0m\" 200 -\n"
     ]
    },
    {
     "name": "stdout",
     "output_type": "stream",
     "text": [
      "\n",
      "_________________________________________________________________________________________________________________________\n",
      "Mesaje de la API de Facebook-> \n",
      " {'object': 'page', 'entry': [{'id': '111445520541316', 'time': 1616132763247, 'messaging': [{'sender': {'id': '3452826248079358'}, 'recipient': {'id': '111445520541316'}, 'timestamp': 1616132763276, 'read': {'watermark': 1616132762663}}]}]}\n",
      "hilo consume\n",
      "\n",
      "_________________________________________________________________________________________________________________________\n",
      "Mesaje de la API de Facebook-> \n",
      " {'object': 'page', 'entry': [{'id': '111445520541316', 'time': 1616132763068, 'messaging': [{'sender': {'id': '3452826248079358'}, 'recipient': {'id': '111445520541316'}, 'timestamp': 1616132763170, 'read': {'watermark': 1616132762622}}]}]}\n",
      "hilo consume\n",
      " [.] Got %r None\n",
      "\n",
      "_________________________________________________________________________________________________________________________\n",
      "Mesaje de la API de Facebook-> \n",
      " {'object': 'page', 'entry': [{'id': '111445520541316', 'time': 1616132763225, 'messaging': [{'sender': {'id': '3452826248079358'}, 'recipient': {'id': '111445520541316'}, 'timestamp': 1616132763103, 'message': {'mid': 'm_N2k223I6XLlAokYXysHyajrxWOlmWInsffZ5UHcOgULWKXi67TS336XyjzMkH_OaMtqZERxRBhD1sABp50D87Q', 'text': 'charly@hotmail.com'}}]}]}\n",
      "[{'sender': {'id': '3452826248079358'}, 'recipient': {'id': '111445520541316'}, 'timestamp': 1616132763103, 'message': {'mid': 'm_N2k223I6XLlAokYXysHyajrxWOlmWInsffZ5UHcOgULWKXi67TS336XyjzMkH_OaMtqZERxRBhD1sABp50D87Q', 'text': 'charly@hotmail.com'}}]\n",
      "\n",
      "_________________________________________________________________________________________________________________________\n",
      "Mesaje de la API de Facebook-> \n",
      " {'object': 'page', 'entry': [{'id': '111445520541316', 'time': 1616132763357, 'messaging': [{'sender': {'id': '3452826248079358'}, 'recipient': {'id': '111445520541316'}, 'timestamp': 1616132763388, 'read': {'watermark': 1616132762866}}]}]}\n",
      "hilo consume\n",
      "\n",
      "______________________________________________no read__________________________________________________________________________\n",
      "\t\tMensaje enviado al Nucleo Logico->\n",
      "  {\"payload\": {\"robot\": \"none\", \"id_face\": \"111445520541316\", \"recipient_id\": \"3452826248079358\", \"access_token\": \"none\", \"content\": \"charly@hotmail.com\", \"type_resp\": \"message\", \"state\": \"none\", \"blocktype\": \"none\", \"opciones\": \"none\", \"entities\": {}}}\n",
      "\n",
      "hilo consume\n",
      " [.] Got %r None\n",
      "\n",
      "_________________________________________________________________________________________________________________________\n",
      "\t\t\n",
      "Respuesta del Nucleo Logico->  {'Respuesta': {'content': '¿Cuál es tu correo?', 'next_id': 'prueba_dos,prueba_slide', 'blockType': 'quickReply', 'contentType': ' ', 'typingTime': '3', 'payload': {'content': '', 'state': 'pruebaCorreo_01inicial_inicial', 'recipient_id': '3452826248079358', 'entities': {'email': 'charly@hotmail.com'}, 'access_token': 'EAALZCCZBzPwfkBAAo7njAlW7s4DTj1ZCs5v1ung1MhEyMlJXOOtiG8r7JcBgXVPhZBHkJONyTB6jKG470UyqGPWn4aDPnisgtT2ZCZAwQIjQgZAZBufZBJXmHz6mPKSgdmP6ikDA87vocZBay2dfQdz1OYezmYbxwfILXUvXtjUMZAniQZDZD'}, 'options': ['email', 'otro'], 'default_id': 'prueba_qa', 'save_var': '0'}}\n",
      " [.] Got %r None\n",
      "\n",
      "\n",
      "---------------------------------------------------------------------------\n",
      "mensaje enviado a la API de facebook:\n",
      " {'message': {'attachment': {'type': 'template', 'payload': {'template_type': 'button', 'text': '¿Cuál es tu correo?', 'buttons': [{'title': 'email', 'type': 'postback', 'payload': 'email'}, {'title': 'otro', 'type': 'postback', 'payload': 'otro'}]}}}, 'recipient': {'id': '3452826248079358'}, 'notification_type': 'REGULAR'}\n",
      " [.] Got %r None\n"
     ]
    },
    {
     "name": "stderr",
     "output_type": "stream",
     "text": [
      "127.0.0.1 - - [18/Mar/2021 23:46:05] \"\u001b[37mPOST /apiREST/v1 HTTP/1.1\u001b[0m\" 200 -\n"
     ]
    },
    {
     "name": "stdout",
     "output_type": "stream",
     "text": [
      "\n",
      "_________________________________________________________________________________________________________________________\n",
      "Mesaje de la API de Facebook-> \n",
      " {'object': 'page', 'entry': [{'id': '111445520541316', 'time': 1616132764913, 'messaging': [{'sender': {'id': '3452826248079358'}, 'recipient': {'id': '111445520541316'}, 'timestamp': 1616132765049, 'read': {'watermark': 1616132764452}}]}]}\n",
      "hilo consume\n",
      " [.] Got %r None\n",
      "\n",
      "_________________________________________________________________________________________________________________________\n",
      "Mesaje de la API de Facebook-> \n",
      " {'object': 'page', 'entry': [{'id': '111445520541316', 'time': 1616132765164, 'messaging': [{'sender': {'id': '111445520541316'}, 'recipient': {'id': '3452826248079358'}, 'timestamp': 1616132765109, 'message': {'mid': 'm_KFACxMxtHEz2zfdJgm34rTrxWOlmWInsffZ5UHcOgUJVpQfpavR2K52DgFmYplhuKHvLewt9NjTbPU_LMILY5w', 'is_echo': True, 'text': '¿Cuál es tu correo?', 'app_id': 843376636183033, 'attachments': [{'title': '', 'url': None, 'type': 'template', 'payload': {'template_type': 'button', 'buttons': [{'type': 'postback', 'title': 'email', 'payload': 'email'}, {'type': 'postback', 'title': 'otro', 'payload': 'otro'}]}}]}}]}]}\n"
     ]
    },
    {
     "name": "stderr",
     "output_type": "stream",
     "text": [
      "127.0.0.1 - - [18/Mar/2021 23:46:05] \"\u001b[37mPOST /apiREST/v1 HTTP/1.1\u001b[0m\" 200 -\n",
      "127.0.0.1 - - [18/Mar/2021 23:46:05] \"\u001b[37mPOST /apiREST/v1 HTTP/1.1\u001b[0m\" 200 -\n"
     ]
    },
    {
     "name": "stdout",
     "output_type": "stream",
     "text": [
      "[{'sender': {'id': '111445520541316'}, 'recipient': {'id': '3452826248079358'}, 'timestamp': 1616132765109, 'message': {'mid': 'm_KFACxMxtHEz2zfdJgm34rTrxWOlmWInsffZ5UHcOgUJVpQfpavR2K52DgFmYplhuKHvLewt9NjTbPU_LMILY5w', 'is_echo': True, 'text': '¿Cuál es tu correo?', 'app_id': 843376636183033, 'attachments': [{'title': '', 'url': None, 'type': 'template', 'payload': {'template_type': 'button', 'buttons': [{'type': 'postback', 'title': 'email', 'payload': 'email'}, {'type': 'postback', 'title': 'otro', 'payload': 'otro'}]}}]}}]\n",
      "hilo consume\n",
      "\n",
      "______________________________________________no read__________________________________________________________________________\n",
      "\n",
      "\t\tMensaje enviado al Nucleo Logico->\n",
      "  {\"payload\": {\"robot\": \"none\", \"id_face\": \"111445520541316\", \"recipient_id\": \"111445520541316\", \"access_token\": \"none\", \"content\": \"\\u00bfCu\\u00e1l es tu correo?\", \"type_resp\": \"message\", \"state\": \"none\", \"blocktype\": \"none\", \"opciones\": \"none\", \"entities\": {}}}\n",
      "\n",
      "_________________________________________________________________________________________________________________________\n",
      "Mesaje de la API de Facebook-> \n",
      " {'object': 'page', 'entry': [{'id': '111445520541316', 'time': 1616132765311, 'messaging': [{'sender': {'id': '3452826248079358'}, 'recipient': {'id': '111445520541316'}, 'timestamp': 1616132765344, 'delivery': {'mids': ['m_KFACxMxtHEz2zfdJgm34rTrxWOlmWInsffZ5UHcOgUJVpQfpavR2K52DgFmYplhuKHvLewt9NjTbPU_LMILY5w'], 'watermark': 1616132765109}}]}]}\n",
      "\n",
      "_________________________________________________________________________________________________________________________\n",
      "Mesaje de la API de Facebook-> \n",
      " {'object': 'page', 'entry': [{'id': '111445520541316', 'time': 1616132765399, 'messaging': [{'sender': {'id': '3452826248079358'}, 'recipient': {'id': '111445520541316'}, 'timestamp': 1616132765471, 'read': {'watermark': 1616132764967}}]}]}\n"
     ]
    },
    {
     "name": "stderr",
     "output_type": "stream",
     "text": [
      "127.0.0.1 - - [18/Mar/2021 23:46:05] \"\u001b[37mPOST /apiREST/v1 HTTP/1.1\u001b[0m\" 200 -\n"
     ]
    },
    {
     "name": "stdout",
     "output_type": "stream",
     "text": [
      "hilo consume\n",
      "\n",
      "_________________________________________________________________________________________________________________________\n",
      "\t\t\n",
      "Respuesta del Nucleo Logico->  {'Respuesta': {'content': 'Hola, soy un chatbot y esto es un mensaje de prueba y adios', 'next_id': 'prueba_captura', 'blockType': 'informativo', 'contentType': 'text', 'typingTime': '3', 'payload': {'content': '', 'state': 'prueba_inicio', 'recipient_id': '111445520541316', 'entities': {}, 'access_token': 'EAALZCCZBzPwfkBAAo7njAlW7s4DTj1ZCs5v1ung1MhEyMlJXOOtiG8r7JcBgXVPhZBHkJONyTB6jKG470UyqGPWn4aDPnisgtT2ZCZAwQIjQgZAZBufZBJXmHz6mPKSgdmP6ikDA87vocZBay2dfQdz1OYezmYbxwfILXUvXtjUMZAniQZDZD'}}}\n",
      " [.] Got %r None\n",
      "\n",
      "\n",
      "---------------------------------------------------------------------------\n",
      "mensaje enviado a la API de facebook:\n",
      " {'message': {'text': 'Hola, soy un chatbot y esto es un mensaje de prueba y adios'}, 'recipient': {'id': '111445520541316'}, 'notification_type': 'REGULAR'}\n",
      " [.] Got %r None\n"
     ]
    },
    {
     "name": "stderr",
     "output_type": "stream",
     "text": [
      "127.0.0.1 - - [18/Mar/2021 23:46:10] \"\u001b[37mPOST /apiREST/v1 HTTP/1.1\u001b[0m\" 200 -\n"
     ]
    },
    {
     "name": "stdout",
     "output_type": "stream",
     "text": [
      "\n",
      "_________________________________________________________________________________________________________________________\n",
      "Mesaje de la API de Facebook-> \n",
      " {'object': 'page', 'entry': [{'id': '111445520541316', 'time': 1616132770095, 'messaging': [{'sender': {'id': '3452826248079358'}, 'recipient': {'id': '111445520541316'}, 'timestamp': 1616132770259, 'read': {'watermark': 1616132769584}}]}]}\n",
      "hilo consume\n",
      " [.] Got %r None\n"
     ]
    },
    {
     "name": "stderr",
     "output_type": "stream",
     "text": [
      "127.0.0.1 - - [18/Mar/2021 23:46:11] \"\u001b[37mPOST /apiREST/v1 HTTP/1.1\u001b[0m\" 200 -\n",
      "127.0.0.1 - - [18/Mar/2021 23:46:11] \"\u001b[37mPOST /apiREST/v1 HTTP/1.1\u001b[0m\" 200 -\n"
     ]
    },
    {
     "name": "stdout",
     "output_type": "stream",
     "text": [
      "\n",
      "_________________________________________________________________________________________________________________________\n",
      "Mesaje de la API de Facebook-> \n",
      " {'object': 'page', 'entry': [{'id': '111445520541316', 'time': 1616132771493, 'messaging': [{'sender': {'id': '3452826248079358'}, 'recipient': {'id': '111445520541316'}, 'timestamp': 1616132771619, 'read': {'watermark': 1616132771001}}]}]}\n",
      "hilo consume\n",
      " [.] Got %r None\n",
      "\n",
      "_________________________________________________________________________________________________________________________\n",
      "Mesaje de la API de Facebook-> \n",
      " {'object': 'page', 'entry': [{'id': '111445520541316', 'time': 1616132771697, 'messaging': [{'sender': {'id': '3452826248079358'}, 'recipient': {'id': '111445520541316'}, 'timestamp': 1616132771742, 'read': {'watermark': 1616132771073}}]}]}\n",
      "hilo consume\n"
     ]
    },
    {
     "name": "stderr",
     "output_type": "stream",
     "text": [
      "127.0.0.1 - - [18/Mar/2021 23:46:12] \"\u001b[37mPOST /apiREST/v1 HTTP/1.1\u001b[0m\" 200 -\n",
      "127.0.0.1 - - [18/Mar/2021 23:46:12] \"\u001b[37mPOST /apiREST/v1 HTTP/1.1\u001b[0m\" 200 -\n"
     ]
    },
    {
     "name": "stdout",
     "output_type": "stream",
     "text": [
      "\n",
      "_________________________________________________________________________________________________________________________\n",
      "Mesaje de la API de Facebook-> \n",
      " {'object': 'page', 'entry': [{'id': '111445520541316', 'time': 1616132771723, 'messaging': [{'sender': {'id': '3452826248079358'}, 'recipient': {'id': '111445520541316'}, 'timestamp': 1616132771533, 'postback': {'title': 'otro', 'payload': 'otro'}}]}]}\n",
      "\n",
      "_________________________________________________________________________________________________________________________\n",
      "Mesaje de la API de Facebook-> \n",
      " {'object': 'page', 'entry': [{'id': '111445520541316', 'time': 1616132771892, 'messaging': [{'sender': {'id': '3452826248079358'}, 'recipient': {'id': '111445520541316'}, 'timestamp': 1616132771920, 'read': {'watermark': 1616132771460}}]}]}\n",
      "hilo consume\n",
      "\n",
      "\n",
      "______________________________________________no read__________________________________________________________________________\n",
      "\t\tMensaje enviado al Nucleo Logico->\n",
      "  {\"payload\": {\"robot\": \"none\", \"id_face\": \"111445520541316\", \"recipient_id\": \"3452826248079358\", \"access_token\": \"none\", \"content\": \"otro\", \"type_resp\": \"postback\", \"state\": \"none\", \"blocktype\": \"none\", \"opciones\": \"none\", \"entities\": {}}}\n",
      " [.] Got %r None\n",
      "hilo consume\n",
      "\n",
      "_________________________________________________________________________________________________________________________\n",
      "\t\t\n",
      "Respuesta del Nucleo Logico->  {'Respuesta': {'content': [{'title': 'Prueba titulo', 'image_url': 'https://infosertecblog.files.wordpress.com/2016/08/bot-de-telegram.jpg', 'subtitle': 'Esta es una prueba de carrusel.', 'buttons': [{'titleButton': 'Boton 1', 'typeButton': 'web_url', 'urlButton': 'https://www.youtube.com/'}, {'titleButton': 'Boton 2', 'typeButton': 'web_url', 'urlButton': 'https://www.reddit.com/'}]}], 'next_id': ['https://www.youtube.com/', 'https://www.reddit.com/'], 'blockType': 'slide', 'contentType': ' ', 'typingTime': 3, 'payload': {'content': '', 'state': 'prueba_slide', 'recipient_id': '3452826248079358', 'entities': {'email': 'charly@hotmail.com', 'var_case': 'otro'}, 'access_token': 'EAALZCCZBzPwfkBAAo7njAlW7s4DTj1ZCs5v1ung1MhEyMlJXOOtiG8r7JcBgXVPhZBHkJONyTB6jKG470UyqGPWn4aDPnisgtT2ZCZAwQIjQgZAZBufZBJXmHz6mPKSgdmP6ikDA87vocZBay2dfQdz1OYezmYbxwfILXUvXtjUMZAniQZDZD'}, 'default_id': 'prueba_qa', 'save_var': '0'}}\n",
      "pyload slide:  {'recipient': {'id': '3452826248079358'}, 'message': {'attachment': {'type': 'template', 'payload': {'template_type': 'generic', 'elements': [{'title': 'Prueba titulo', 'image_url': 'https://infosertecblog.files.wordpress.com/2016/08/bot-de-telegram.jpg', 'subtitle': 'Esta es una prueba de carrusel.', 'buttons': [{'title': 'Boton 1', 'type': 'web_url', 'url': 'https://www.youtube.com/'}, {'title': 'Boton 2', 'type': 'web_url', 'url': 'https://www.reddit.com/'}]}]}}}, 'notification_type': 'REGULAR'}\n",
      " [.] Got %r None\n",
      "\n",
      "\n",
      "---------------------------------------------------------------------------\n",
      "mensaje enviado a la API de facebook:\n",
      " {'recipient': {'id': '3452826248079358'}, 'message': {'attachment': {'type': 'template', 'payload': {'template_type': 'generic', 'elements': [{'title': 'Prueba titulo', 'image_url': 'https://infosertecblog.files.wordpress.com/2016/08/bot-de-telegram.jpg', 'subtitle': 'Esta es una prueba de carrusel.', 'buttons': [{'title': 'Boton 1', 'type': 'web_url', 'url': 'https://www.youtube.com/'}, {'title': 'Boton 2', 'type': 'web_url', 'url': 'https://www.reddit.com/'}]}]}}}, 'notification_type': 'REGULAR'}\n",
      " [.] Got %r None\n"
     ]
    },
    {
     "name": "stderr",
     "output_type": "stream",
     "text": [
      "127.0.0.1 - - [18/Mar/2021 23:46:13] \"\u001b[37mPOST /apiREST/v1 HTTP/1.1\u001b[0m\" 200 -\n"
     ]
    },
    {
     "name": "stdout",
     "output_type": "stream",
     "text": [
      "\n",
      "_________________________________________________________________________________________________________________________\n",
      "Mesaje de la API de Facebook-> \n",
      " {'object': 'page', 'entry': [{'id': '111445520541316', 'time': 1616132773624, 'messaging': [{'sender': {'id': '111445520541316'}, 'recipient': {'id': '3452826248079358'}, 'timestamp': 1616132773556, 'message': {'mid': 'm_aW9ZlThBACHidL7ZCnrW5TrxWOlmWInsffZ5UHcOgUIIrNfr1EiY4aEfMXKnI2i8fZlQXLBlSRUF3PHWd7Jlaw', 'is_echo': True, 'app_id': 843376636183033, 'attachments': [{'title': 'Prueba titulo', 'url': None, 'type': 'template', 'payload': {'template_type': 'generic', 'sharable': True, 'elements': [{'title': 'Prueba titulo', 'image_url': 'https://infosertecblog.files.wordpress.com/2016/08/bot-de-telegram.jpg', 'subtitle': 'Esta es una prueba de carrusel.', 'buttons': [{'type': 'web_url', 'url': 'https://www.youtube.com/', 'title': 'Boton 1'}, {'type': 'web_url', 'url': 'https://www.reddit.com/', 'title': 'Boton 2'}]}]}}]}}]}]}\n",
      "[{'sender': {'id': '111445520541316'}, 'recipient': {'id': '3452826248079358'}, 'timestamp': 1616132773556, 'message': {'mid': 'm_aW9ZlThBACHidL7ZCnrW5TrxWOlmWInsffZ5UHcOgUIIrNfr1EiY4aEfMXKnI2i8fZlQXLBlSRUF3PHWd7Jlaw', 'is_echo': True, 'app_id': 843376636183033, 'attachments': [{'title': 'Prueba titulo', 'url': None, 'type': 'template', 'payload': {'template_type': 'generic', 'sharable': True, 'elements': [{'title': 'Prueba titulo', 'image_url': 'https://infosertecblog.files.wordpress.com/2016/08/bot-de-telegram.jpg', 'subtitle': 'Esta es una prueba de carrusel.', 'buttons': [{'type': 'web_url', 'url': 'https://www.youtube.com/', 'title': 'Boton 1'}, {'type': 'web_url', 'url': 'https://www.reddit.com/', 'title': 'Boton 2'}]}]}}]}}]\n",
      "hilo consume\n",
      "\n",
      "______________________________________________no read__________________________________________________________________________\n",
      "\n",
      "\t\tMensaje enviado al Nucleo Logico->\n",
      "  {\"payload\": {\"robot\": \"none\", \"id_face\": \"111445520541316\", \"recipient_id\": \"111445520541316\", \"access_token\": \"none\", \"content\": [{\"title\": \"Prueba titulo\", \"url\": null, \"type\": \"template\", \"payload\": {\"template_type\": \"generic\", \"sharable\": true, \"elements\": [{\"title\": \"Prueba titulo\", \"image_url\": \"https://infosertecblog.files.wordpress.com/2016/08/bot-de-telegram.jpg\", \"subtitle\": \"Esta es una prueba de carrusel.\", \"buttons\": [{\"type\": \"web_url\", \"url\": \"https://www.youtube.com/\", \"title\": \"Boton 1\"}, {\"type\": \"web_url\", \"url\": \"https://www.reddit.com/\", \"title\": \"Boton 2\"}]}]}}], \"type_resp\": \"message\", \"state\": \"none\", \"blocktype\": \"none\", \"opciones\": \"none\", \"entities\": {}}}\n",
      "\n",
      "_________________________________________________________________________________________________________________________\n",
      "\t\t\n",
      "Respuesta del Nucleo Logico->  {'Respuesta': {'content': 'Hola, soy un chatbot y esto es un mensaje de prueba y adios', 'next_id': 'prueba_captura', 'blockType': 'informativo', 'contentType': 'text', 'typingTime': '3', 'payload': {'content': '', 'state': 'prueba_inicio', 'recipient_id': '111445520541316', 'entities': {}, 'access_token': 'EAALZCCZBzPwfkBAAo7njAlW7s4DTj1ZCs5v1ung1MhEyMlJXOOtiG8r7JcBgXVPhZBHkJONyTB6jKG470UyqGPWn4aDPnisgtT2ZCZAwQIjQgZAZBufZBJXmHz6mPKSgdmP6ikDA87vocZBay2dfQdz1OYezmYbxwfILXUvXtjUMZAniQZDZD'}}}\n",
      "\n",
      "\n",
      "---------------------------------------------------------------------------\n",
      "mensaje enviado a la API de facebook:\n",
      " {'message': {'text': 'Hola, soy un chatbot y esto es un mensaje de prueba y adios'}, 'recipient': {'id': '111445520541316'}, 'notification_type': 'REGULAR'}\n",
      " [.] Got %r None\n"
     ]
    },
    {
     "name": "stderr",
     "output_type": "stream",
     "text": [
      "127.0.0.1 - - [18/Mar/2021 23:47:26] \"\u001b[37mPOST /apiREST/v1 HTTP/1.1\u001b[0m\" 200 -\n"
     ]
    },
    {
     "name": "stdout",
     "output_type": "stream",
     "text": [
      "\n",
      "_________________________________________________________________________________________________________________________\n",
      "Mesaje de la API de Facebook-> \n",
      " {'object': 'page', 'entry': [{'id': '111445520541316', 'time': 1616132846583, 'messaging': [{'sender': {'id': '3452826248079358'}, 'recipient': {'id': '111445520541316'}, 'timestamp': 1616132846710, 'read': {'watermark': 1616132846038}}]}]}\n",
      "hilo consume\n",
      " [.] Got %r None\n"
     ]
    },
    {
     "name": "stderr",
     "output_type": "stream",
     "text": [
      "127.0.0.1 - - [18/Mar/2021 23:47:32] \"\u001b[37mPOST /apiREST/v1 HTTP/1.1\u001b[0m\" 200 -\n",
      "127.0.0.1 - - [18/Mar/2021 23:47:33] \"\u001b[37mPOST /apiREST/v1 HTTP/1.1\u001b[0m\" 200 -\n"
     ]
    },
    {
     "name": "stdout",
     "output_type": "stream",
     "text": [
      "\n",
      "_________________________________________________________________________________________________________________________\n",
      "Mesaje de la API de Facebook-> \n",
      " {'object': 'page', 'entry': [{'id': '111445520541316', 'time': 1616132852667, 'messaging': [{'sender': {'id': '3452826248079358'}, 'recipient': {'id': '111445520541316'}, 'timestamp': 1616132852745, 'read': {'watermark': 1616132852183}}]}]}\n",
      "hilo consume\n",
      " [.] Got %r None\n",
      "\n",
      "_________________________________________________________________________________________________________________________\n",
      "Mesaje de la API de Facebook-> \n",
      " {'object': 'page', 'entry': [{'id': '111445520541316', 'time': 1616132852880, 'messaging': [{'sender': {'id': '3452826248079358'}, 'recipient': {'id': '111445520541316'}, 'timestamp': 1616132852910, 'read': {'watermark': 1616132852245}}]}]}\n",
      "hilo consume\n"
     ]
    },
    {
     "name": "stderr",
     "output_type": "stream",
     "text": [
      "127.0.0.1 - - [18/Mar/2021 23:47:33] \"\u001b[37mPOST /apiREST/v1 HTTP/1.1\u001b[0m\" 200 -\n"
     ]
    },
    {
     "name": "stdout",
     "output_type": "stream",
     "text": [
      " [.] Got %r None\n",
      "\n",
      "_________________________________________________________________________________________________________________________\n",
      "Mesaje de la API de Facebook-> \n",
      " {'object': 'page', 'entry': [{'id': '111445520541316', 'time': 1616132853067, 'messaging': [{'sender': {'id': '3452826248079358'}, 'recipient': {'id': '111445520541316'}, 'timestamp': 1616132853096, 'read': {'watermark': 1616132852606}}]}]}\n",
      "hilo consume\n",
      " [.] Got %r None\n"
     ]
    },
    {
     "name": "stderr",
     "output_type": "stream",
     "text": [
      "127.0.0.1 - - [18/Mar/2021 23:47:59] \"\u001b[37mPOST /apiREST/v1 HTTP/1.1\u001b[0m\" 200 -\n"
     ]
    },
    {
     "name": "stdout",
     "output_type": "stream",
     "text": [
      "\n",
      "_________________________________________________________________________________________________________________________\n",
      "Mesaje de la API de Facebook-> \n",
      " {'object': 'page', 'entry': [{'id': '111445520541316', 'time': 1616132879484, 'messaging': [{'sender': {'id': '3452826248079358'}, 'recipient': {'id': '111445520541316'}, 'timestamp': 1616132785079, 'message': {'mid': 'm_Db94hhLUdxYBXiV1Utm-FjrxWOlmWInsffZ5UHcOgULIhfvNaYGUKKwT9b1BpItCZSAaQ1_V4KPkK8NfjOFN5g', 'text': 'no te entiendo'}}]}]}\n",
      "[{'sender': {'id': '3452826248079358'}, 'recipient': {'id': '111445520541316'}, 'timestamp': 1616132785079, 'message': {'mid': 'm_Db94hhLUdxYBXiV1Utm-FjrxWOlmWInsffZ5UHcOgULIhfvNaYGUKKwT9b1BpItCZSAaQ1_V4KPkK8NfjOFN5g', 'text': 'no te entiendo'}}]\n",
      "hilo consume\n",
      "\n",
      "______________________________________________no read__________________________________________________________________________\n",
      "\n",
      "\t\tMensaje enviado al Nucleo Logico->\n",
      "  {\"payload\": {\"robot\": \"none\", \"id_face\": \"111445520541316\", \"recipient_id\": \"3452826248079358\", \"access_token\": \"none\", \"content\": \"no te entiendo\", \"type_resp\": \"message\", \"state\": \"none\", \"blocktype\": \"none\", \"opciones\": \"none\", \"entities\": {}}}\n",
      "\n",
      "_________________________________________________________________________________________________________________________\n",
      "\t\t\n",
      "Respuesta del Nucleo Logico->  {'Respuesta': {'content': 'Vamos a ver si no truena', 'next_id': 'pruebaCorreo_01inicial_inicial', 'blockType': 'informativo', 'contentType': 'text', 'typingTime': '7', 'payload': {'content': '', 'state': 'prueba_qa', 'recipient_id': '3452826248079358', 'entities': {'email': 'charly@hotmail.com', 'var_case': 'otro', 'var_slideMenu': 'no te entiendo'}, 'access_token': 'EAALZCCZBzPwfkBAAo7njAlW7s4DTj1ZCs5v1ung1MhEyMlJXOOtiG8r7JcBgXVPhZBHkJONyTB6jKG470UyqGPWn4aDPnisgtT2ZCZAwQIjQgZAZBufZBJXmHz6mPKSgdmP6ikDA87vocZBay2dfQdz1OYezmYbxwfILXUvXtjUMZAniQZDZD'}}}\n"
     ]
    },
    {
     "name": "stderr",
     "output_type": "stream",
     "text": [
      "127.0.0.1 - - [18/Mar/2021 23:48:00] \"\u001b[37mPOST /apiREST/v1 HTTP/1.1\u001b[0m\" 200 -\n"
     ]
    },
    {
     "name": "stdout",
     "output_type": "stream",
     "text": [
      "\n",
      "_________________________________________________________________________________________________________________________\n",
      "Mesaje de la API de Facebook-> \n",
      " {'object': 'page', 'entry': [{'id': '111445520541316', 'time': 1616132880316, 'messaging': [{'sender': {'id': '3452826248079358'}, 'recipient': {'id': '111445520541316'}, 'timestamp': 1616132806553, 'message': {'mid': 'm_dNhLCr4hwaHyaDqMtJFO-TrxWOlmWInsffZ5UHcOgUKrzQ9QTtlpnq6FuAuS6EZEh1_ZwhdYkay_7fq-dnKNYQ', 'text': 'hola'}}]}]}\n",
      "[{'sender': {'id': '3452826248079358'}, 'recipient': {'id': '111445520541316'}, 'timestamp': 1616132806553, 'message': {'mid': 'm_dNhLCr4hwaHyaDqMtJFO-TrxWOlmWInsffZ5UHcOgUKrzQ9QTtlpnq6FuAuS6EZEh1_ZwhdYkay_7fq-dnKNYQ', 'text': 'hola'}}]\n",
      "hilo consume\n",
      "\n",
      "______________________________________________no read__________________________________________________________________________\n",
      "\n",
      "\t\tMensaje enviado al Nucleo Logico->\n",
      "  {\"payload\": {\"robot\": \"none\", \"id_face\": \"111445520541316\", \"recipient_id\": \"3452826248079358\", \"access_token\": \"none\", \"content\": \"hola\", \"type_resp\": \"message\", \"state\": \"none\", \"blocktype\": \"none\", \"opciones\": \"none\", \"entities\": {}}}\n",
      "\n",
      "\n",
      "---------------------------------------------------------------------------\n",
      "mensaje enviado a la API de facebook:\n",
      " {'message': {'text': 'Vamos a ver si no truena'}, 'recipient': {'id': '3452826248079358'}, 'notification_type': 'REGULAR'}\n",
      " [.] Got %r None\n",
      "\n",
      "_________________________________________________________________________________________________________________________\n",
      "\t\t\n",
      "Respuesta del Nucleo Logico->  {'Respuesta': {'content': '¿Cuál es tu correo?', 'next_id': 'prueba_dos,prueba_slide', 'blockType': 'quickReply', 'contentType': ' ', 'typingTime': '3', 'payload': {'content': '', 'state': 'pruebaCorreo_01inicial_inicial', 'recipient_id': '3452826248079358', 'entities': {'email': 'charly@hotmail.com', 'var_case': 'otro', 'var_slideMenu': 'no te entiendo'}, 'access_token': 'EAALZCCZBzPwfkBAAo7njAlW7s4DTj1ZCs5v1ung1MhEyMlJXOOtiG8r7JcBgXVPhZBHkJONyTB6jKG470UyqGPWn4aDPnisgtT2ZCZAwQIjQgZAZBufZBJXmHz6mPKSgdmP6ikDA87vocZBay2dfQdz1OYezmYbxwfILXUvXtjUMZAniQZDZD'}, 'options': ['email', 'otro'], 'default_id': 'prueba_qa', 'save_var': 'otro'}}\n",
      "\n",
      "_________________________________________________________________________________________________________________________\n",
      "Mesaje de la API de Facebook-> \n",
      " {'object': 'page', 'entry': [{'id': '111445520541316', 'time': 1616132881163, 'messaging': [{'sender': {'id': '3452826248079358'}, 'recipient': {'id': '111445520541316'}, 'timestamp': 1616132881216, 'delivery': {'mids': ['m_4ck7oQ_xn3pWaEwxltGTZTrxWOlmWInsffZ5UHcOgULo5zXUxBWjlnbmRWyybaiqFr2h5552uglNtW7FBMfb1g'], 'watermark': 1616132880990}}]}]}\n"
     ]
    },
    {
     "name": "stderr",
     "output_type": "stream",
     "text": [
      "127.0.0.1 - - [18/Mar/2021 23:48:01] \"\u001b[37mPOST /apiREST/v1 HTTP/1.1\u001b[0m\" 200 -\n",
      "127.0.0.1 - - [18/Mar/2021 23:48:01] \"\u001b[37mPOST /apiREST/v1 HTTP/1.1\u001b[0m\" 200 -\n"
     ]
    },
    {
     "name": "stdout",
     "output_type": "stream",
     "text": [
      "\n",
      "_________________________________________________________________________________________________________________________\n",
      "Mesaje de la API de Facebook-> \n",
      " {'object': 'page', 'entry': [{'id': '111445520541316', 'time': 1616132881086, 'messaging': [{'sender': {'id': '3452826248079358'}, 'recipient': {'id': '111445520541316'}, 'timestamp': 1616132852702, 'message': {'mid': 'm_IVesVyQzEUeZc_jUaM_ldTrxWOlmWInsffZ5UHcOgUK4Wpg4s3AUmw6K3yvGFmwVLvISqDV4ObwFyqBoQ9iMcg', 'text': 'te estoy hablando'}}]}]}\n",
      "[{'sender': {'id': '3452826248079358'}, 'recipient': {'id': '111445520541316'}, 'timestamp': 1616132852702, 'message': {'mid': 'm_IVesVyQzEUeZc_jUaM_ldTrxWOlmWInsffZ5UHcOgUK4Wpg4s3AUmw6K3yvGFmwVLvISqDV4ObwFyqBoQ9iMcg', 'text': 'te estoy hablando'}}]\n",
      "hilo consume\n",
      "\n",
      "______________________________________________no read__________________________________________________________________________\n",
      "\n",
      "\t\tMensaje enviado al Nucleo Logico->\n",
      "  {\"payload\": {\"robot\": \"none\", \"id_face\": \"111445520541316\", \"recipient_id\": \"3452826248079358\", \"access_token\": \"none\", \"content\": \"te estoy hablando\", \"type_resp\": \"message\", \"state\": \"none\", \"blocktype\": \"none\", \"opciones\": \"none\", \"entities\": {}}}\n",
      "\n",
      "\n",
      "---------------------------------------------------------------------------\n",
      "mensaje enviado a la API de facebook:\n",
      " {'message': {'attachment': {'type': 'template', 'payload': {'template_type': 'button', 'text': '¿Cuál es tu correo?', 'buttons': [{'title': 'email', 'type': 'postback', 'payload': 'email'}, {'title': 'otro', 'type': 'postback', 'payload': 'otro'}]}}}, 'recipient': {'id': '3452826248079358'}, 'notification_type': 'REGULAR'}\n",
      " [.] Got %r None\n",
      "\n",
      "_________________________________________________________________________________________________________________________\n",
      "\t\t\n",
      "Respuesta del Nucleo Logico->  {'Respuesta': {'content': 'Vamos a ver si no truena', 'next_id': 'pruebaCorreo_01inicial_inicial', 'blockType': 'informativo', 'contentType': 'text', 'typingTime': '7', 'payload': {'content': '', 'state': 'prueba_qa', 'recipient_id': '3452826248079358', 'entities': {'email': 'charly@hotmail.com', 'var_case': 'te estoy hablando', 'var_slideMenu': 'no te entiendo'}, 'access_token': 'EAALZCCZBzPwfkBAAo7njAlW7s4DTj1ZCs5v1ung1MhEyMlJXOOtiG8r7JcBgXVPhZBHkJONyTB6jKG470UyqGPWn4aDPnisgtT2ZCZAwQIjQgZAZBufZBJXmHz6mPKSgdmP6ikDA87vocZBay2dfQdz1OYezmYbxwfILXUvXtjUMZAniQZDZD'}}}\n"
     ]
    },
    {
     "name": "stderr",
     "output_type": "stream",
     "text": [
      "127.0.0.1 - - [18/Mar/2021 23:48:02] \"\u001b[37mPOST /apiREST/v1 HTTP/1.1\u001b[0m\" 200 -\n"
     ]
    },
    {
     "name": "stdout",
     "output_type": "stream",
     "text": [
      "\n",
      "_________________________________________________________________________________________________________________________\n",
      "Mesaje de la API de Facebook-> \n",
      " {'object': 'page', 'entry': [{'id': '111445520541316', 'time': 1616132881861, 'messaging': [{'sender': {'id': '111445520541316'}, 'recipient': {'id': '3452826248079358'}, 'timestamp': 1616132880990, 'message': {'mid': 'm_4ck7oQ_xn3pWaEwxltGTZTrxWOlmWInsffZ5UHcOgULo5zXUxBWjlnbmRWyybaiqFr2h5552uglNtW7FBMfb1g', 'is_echo': True, 'text': 'Vamos a ver si no truena', 'app_id': 843376636183033}}]}]}\n",
      "[{'sender': {'id': '111445520541316'}, 'recipient': {'id': '3452826248079358'}, 'timestamp': 1616132880990, 'message': {'mid': 'm_4ck7oQ_xn3pWaEwxltGTZTrxWOlmWInsffZ5UHcOgULo5zXUxBWjlnbmRWyybaiqFr2h5552uglNtW7FBMfb1g', 'is_echo': True, 'text': 'Vamos a ver si no truena', 'app_id': 843376636183033}}]\n",
      "hilo consume\n",
      "\n",
      "______________________________________________no read__________________________________________________________________________\n",
      "\n",
      "\t\tMensaje enviado al Nucleo Logico->\n",
      "  {\"payload\": {\"robot\": \"none\", \"id_face\": \"111445520541316\", \"recipient_id\": \"111445520541316\", \"access_token\": \"none\", \"content\": \"Vamos a ver si no truena\", \"type_resp\": \"message\", \"state\": \"none\", \"blocktype\": \"none\", \"opciones\": \"none\", \"entities\": {}}}\n"
     ]
    },
    {
     "name": "stderr",
     "output_type": "stream",
     "text": [
      "127.0.0.1 - - [18/Mar/2021 23:48:02] \"\u001b[37mPOST /apiREST/v1 HTTP/1.1\u001b[0m\" 200 -\n"
     ]
    },
    {
     "name": "stdout",
     "output_type": "stream",
     "text": [
      "\n",
      "\n",
      "---------------------------------------------------------------------------\n",
      "mensaje enviado a la API de facebook:\n",
      " {'message': {'text': 'Vamos a ver si no truena'}, 'recipient': {'id': '3452826248079358'}, 'notification_type': 'REGULAR'}\n",
      " [.] Got %r None\n",
      "\n",
      "_________________________________________________________________________________________________________________________\n",
      "\t\t\n",
      "Respuesta del Nucleo Logico->  {'Respuesta': {'content': 'Hola, soy un chatbot y esto es un mensaje de prueba y adios', 'next_id': 'prueba_captura', 'blockType': 'informativo', 'contentType': 'text', 'typingTime': '3', 'payload': {'content': '', 'state': 'prueba_inicio', 'recipient_id': '111445520541316', 'entities': {}, 'access_token': 'EAALZCCZBzPwfkBAAo7njAlW7s4DTj1ZCs5v1ung1MhEyMlJXOOtiG8r7JcBgXVPhZBHkJONyTB6jKG470UyqGPWn4aDPnisgtT2ZCZAwQIjQgZAZBufZBJXmHz6mPKSgdmP6ikDA87vocZBay2dfQdz1OYezmYbxwfILXUvXtjUMZAniQZDZD'}}}\n",
      "\n",
      "_________________________________________________________________________________________________________________________\n",
      "Mesaje de la API de Facebook-> \n",
      " {'object': 'page', 'entry': [{'id': '111445520541316', 'time': 1616132882342, 'messaging': [{'sender': {'id': '3452826248079358'}, 'recipient': {'id': '111445520541316'}, 'timestamp': 1616132882376, 'delivery': {'mids': ['m_dtEBRXOy_35za8TFInkd3jrxWOlmWInsffZ5UHcOgUI8Lwpj57SY5H_Q16ykoYk1uFjj2Ez3j_JX_sgXoGuR8A'], 'watermark': 1616132882117}}]}]}\n",
      "\n",
      "\n",
      "---------------------------------------------------------------------------\n",
      "mensaje enviado a la API de facebook:\n",
      " {'message': {'text': 'Hola, soy un chatbot y esto es un mensaje de prueba y adios'}, 'recipient': {'id': '111445520541316'}, 'notification_type': 'REGULAR'}\n",
      " [.] Got %r None\n"
     ]
    },
    {
     "name": "stderr",
     "output_type": "stream",
     "text": [
      "127.0.0.1 - - [18/Mar/2021 23:48:02] \"\u001b[37mPOST /apiREST/v1 HTTP/1.1\u001b[0m\" 200 -\n"
     ]
    },
    {
     "name": "stdout",
     "output_type": "stream",
     "text": [
      "\n",
      "_________________________________________________________________________________________________________________________\n",
      "Mesaje de la API de Facebook-> \n",
      " {'object': 'page', 'entry': [{'id': '111445520541316', 'time': 1616132882574, 'messaging': [{'sender': {'id': '111445520541316'}, 'recipient': {'id': '3452826248079358'}, 'timestamp': 1616132882117, 'message': {'mid': 'm_dtEBRXOy_35za8TFInkd3jrxWOlmWInsffZ5UHcOgUI8Lwpj57SY5H_Q16ykoYk1uFjj2Ez3j_JX_sgXoGuR8A', 'is_echo': True, 'text': '¿Cuál es tu correo?', 'app_id': 843376636183033, 'attachments': [{'title': '', 'url': None, 'type': 'template', 'payload': {'template_type': 'button', 'buttons': [{'type': 'postback', 'title': 'email', 'payload': 'email'}, {'type': 'postback', 'title': 'otro', 'payload': 'otro'}]}}]}}]}]}\n",
      "[{'sender': {'id': '111445520541316'}, 'recipient': {'id': '3452826248079358'}, 'timestamp': 1616132882117, 'message': {'mid': 'm_dtEBRXOy_35za8TFInkd3jrxWOlmWInsffZ5UHcOgUI8Lwpj57SY5H_Q16ykoYk1uFjj2Ez3j_JX_sgXoGuR8A', 'is_echo': True, 'text': '¿Cuál es tu correo?', 'app_id': 843376636183033, 'attachments': [{'title': '', 'url': None, 'type': 'template', 'payload': {'template_type': 'button', 'buttons': [{'type': 'postback', 'title': 'email', 'payload': 'email'}, {'type': 'postback', 'title': 'otro', 'payload': 'otro'}]}}]}}]\n",
      "hilo consume\n",
      "\n",
      "______________________________________________no read__________________________________________________________________________\n",
      "\n",
      "\t\tMensaje enviado al Nucleo Logico->\n",
      "  {\"payload\": {\"robot\": \"none\", \"id_face\": \"111445520541316\", \"recipient_id\": \"111445520541316\", \"access_token\": \"none\", \"content\": \"\\u00bfCu\\u00e1l es tu correo?\", \"type_resp\": \"message\", \"state\": \"none\", \"blocktype\": \"none\", \"opciones\": \"none\", \"entities\": {}}}\n"
     ]
    },
    {
     "name": "stderr",
     "output_type": "stream",
     "text": [
      "127.0.0.1 - - [18/Mar/2021 23:48:03] \"\u001b[37mPOST /apiREST/v1 HTTP/1.1\u001b[0m\" 200 -\n"
     ]
    },
    {
     "name": "stdout",
     "output_type": "stream",
     "text": [
      "\n",
      "_________________________________________________________________________________________________________________________\n",
      "Mesaje de la API de Facebook-> \n",
      " {'object': 'page', 'entry': [{'id': '111445520541316', 'time': 1616132882927, 'messaging': [{'sender': {'id': '3452826248079358'}, 'recipient': {'id': '111445520541316'}, 'timestamp': 1616132882961, 'delivery': {'mids': ['m_s3n_g06cLhuwpqbd-O7d_DrxWOlmWInsffZ5UHcOgUJCEWXGuY6KMEUhEy89S4k4WMcjTN0UrA9TsmC3wmLNAg'], 'watermark': 1616132882672}}]}]}\n",
      "\n",
      "_________________________________________________________________________________________________________________________\n",
      "\t\t\n",
      "Respuesta del Nucleo Logico->  {'Respuesta': {'content': 'Hola, soy un chatbot y esto es un mensaje de prueba y adios', 'next_id': 'prueba_captura', 'blockType': 'informativo', 'contentType': 'text', 'typingTime': '3', 'payload': {'content': '', 'state': 'prueba_inicio', 'recipient_id': '111445520541316', 'entities': {}, 'access_token': 'EAALZCCZBzPwfkBAAo7njAlW7s4DTj1ZCs5v1ung1MhEyMlJXOOtiG8r7JcBgXVPhZBHkJONyTB6jKG470UyqGPWn4aDPnisgtT2ZCZAwQIjQgZAZBufZBJXmHz6mPKSgdmP6ikDA87vocZBay2dfQdz1OYezmYbxwfILXUvXtjUMZAniQZDZD'}}}\n"
     ]
    },
    {
     "name": "stderr",
     "output_type": "stream",
     "text": [
      "127.0.0.1 - - [18/Mar/2021 23:48:03] \"\u001b[37mPOST /apiREST/v1 HTTP/1.1\u001b[0m\" 200 -\n"
     ]
    },
    {
     "name": "stdout",
     "output_type": "stream",
     "text": [
      "\n",
      "\n",
      "---------------------------------------------------------------------------\n",
      "mensaje enviado a la API de facebook:\n",
      " {'message': {'text': 'Hola, soy un chatbot y esto es un mensaje de prueba y adios'}, 'recipient': {'id': '111445520541316'}, 'notification_type': 'REGULAR'}\n",
      " [.] Got %r None\n",
      "\n",
      "_________________________________________________________________________________________________________________________\n",
      "Mesaje de la API de Facebook-> \n",
      " {'object': 'page', 'entry': [{'id': '111445520541316', 'time': 1616132883273, 'messaging': [{'sender': {'id': '111445520541316'}, 'recipient': {'id': '3452826248079358'}, 'timestamp': 1616132882672, 'message': {'mid': 'm_s3n_g06cLhuwpqbd-O7d_DrxWOlmWInsffZ5UHcOgUJCEWXGuY6KMEUhEy89S4k4WMcjTN0UrA9TsmC3wmLNAg', 'is_echo': True, 'text': 'Vamos a ver si no truena', 'app_id': 843376636183033}}]}]}\n",
      "[{'sender': {'id': '111445520541316'}, 'recipient': {'id': '3452826248079358'}, 'timestamp': 1616132882672, 'message': {'mid': 'm_s3n_g06cLhuwpqbd-O7d_DrxWOlmWInsffZ5UHcOgUJCEWXGuY6KMEUhEy89S4k4WMcjTN0UrA9TsmC3wmLNAg', 'is_echo': True, 'text': 'Vamos a ver si no truena', 'app_id': 843376636183033}}]\n",
      "hilo consume\n",
      "\n",
      "______________________________________________no read__________________________________________________________________________\n",
      "\n",
      "\t\tMensaje enviado al Nucleo Logico->\n",
      "  {\"payload\": {\"robot\": \"none\", \"id_face\": \"111445520541316\", \"recipient_id\": \"111445520541316\", \"access_token\": \"none\", \"content\": \"Vamos a ver si no truena\", \"type_resp\": \"message\", \"state\": \"none\", \"blocktype\": \"none\", \"opciones\": \"none\", \"entities\": {}}}\n"
     ]
    },
    {
     "name": "stderr",
     "output_type": "stream",
     "text": [
      "127.0.0.1 - - [18/Mar/2021 23:48:03] \"\u001b[37mPOST /apiREST/v1 HTTP/1.1\u001b[0m\" 200 -\n"
     ]
    },
    {
     "name": "stdout",
     "output_type": "stream",
     "text": [
      "\n",
      "_________________________________________________________________________________________________________________________\n",
      "\t\t\n",
      "Respuesta del Nucleo Logico->  {'Respuesta': {'content': 'Hola, soy un chatbot y esto es un mensaje de prueba y adios', 'next_id': 'prueba_captura', 'blockType': 'informativo', 'contentType': 'text', 'typingTime': '3', 'payload': {'content': '', 'state': 'prueba_inicio', 'recipient_id': '111445520541316', 'entities': {}, 'access_token': 'EAALZCCZBzPwfkBAAo7njAlW7s4DTj1ZCs5v1ung1MhEyMlJXOOtiG8r7JcBgXVPhZBHkJONyTB6jKG470UyqGPWn4aDPnisgtT2ZCZAwQIjQgZAZBufZBJXmHz6mPKSgdmP6ikDA87vocZBay2dfQdz1OYezmYbxwfILXUvXtjUMZAniQZDZD'}}}\n",
      "\n",
      "_________________________________________________________________________________________________________________________\n",
      "Mesaje de la API de Facebook-> \n",
      " {'object': 'page', 'entry': [{'id': '111445520541316', 'time': 1616132883680, 'messaging': [{'sender': {'id': '3452826248079358'}, 'recipient': {'id': '111445520541316'}, 'timestamp': 1616132883822, 'read': {'watermark': 1616132883200}}]}]}\n",
      "hilo consume\n",
      "\n",
      "\n",
      "---------------------------------------------------------------------------\n",
      "mensaje enviado a la API de facebook:\n",
      " {'message': {'text': 'Hola, soy un chatbot y esto es un mensaje de prueba y adios'}, 'recipient': {'id': '111445520541316'}, 'notification_type': 'REGULAR'}\n",
      " [.] Got %r None\n",
      "\n",
      "_________________________________________________________________________________________________________________________\n",
      "\t\t\n",
      "Respuesta del Nucleo Logico->  {'Respuesta': {'content': '¿Cuál es tu correo?', 'next_id': 'prueba_dos,prueba_slide', 'blockType': 'quickReply', 'contentType': ' ', 'typingTime': '3', 'payload': {'content': '', 'state': 'pruebaCorreo_01inicial_inicial', 'recipient_id': '3452826248079358', 'entities': {'email': 'charly@hotmail.com', 'var_case': 'te estoy hablando', 'var_slideMenu': 'no te entiendo'}, 'access_token': 'EAALZCCZBzPwfkBAAo7njAlW7s4DTj1ZCs5v1ung1MhEyMlJXOOtiG8r7JcBgXVPhZBHkJONyTB6jKG470UyqGPWn4aDPnisgtT2ZCZAwQIjQgZAZBufZBJXmHz6mPKSgdmP6ikDA87vocZBay2dfQdz1OYezmYbxwfILXUvXtjUMZAniQZDZD'}, 'options': ['email', 'otro'], 'default_id': 'prueba_qa', 'save_var': 'te estoy hablando'}}\n",
      "\n",
      "\n",
      "---------------------------------------------------------------------------\n",
      "mensaje enviado a la API de facebook:\n",
      " {'message': {'attachment': {'type': 'template', 'payload': {'template_type': 'button', 'text': '¿Cuál es tu correo?', 'buttons': [{'title': 'email', 'type': 'postback', 'payload': 'email'}, {'title': 'otro', 'type': 'postback', 'payload': 'otro'}]}}}, 'recipient': {'id': '3452826248079358'}, 'notification_type': 'REGULAR'}\n",
      " [.] Got %r None\n"
     ]
    },
    {
     "name": "stderr",
     "output_type": "stream",
     "text": [
      "127.0.0.1 - - [18/Mar/2021 23:48:05] \"\u001b[37mPOST /apiREST/v1 HTTP/1.1\u001b[0m\" 200 -\n",
      "127.0.0.1 - - [18/Mar/2021 23:48:05] \"\u001b[37mPOST /apiREST/v1 HTTP/1.1\u001b[0m\" 200 -\n"
     ]
    },
    {
     "name": "stdout",
     "output_type": "stream",
     "text": [
      "\n",
      "_________________________________________________________________________________________________________________________\n",
      "Mesaje de la API de Facebook-> \n",
      " {'object': 'page', 'entry': [{'id': '111445520541316', 'time': 1616132885631, 'messaging': [{'sender': {'id': '111445520541316'}, 'recipient': {'id': '3452826248079358'}, 'timestamp': 1616132885545, 'message': {'mid': 'm_bwl3nm4sfJ-iCyGCPkGDmTrxWOlmWInsffZ5UHcOgULbCZ4XAcaVl3gi1lGgMVhNlK7pmFd5k0pUCiUOPWSNNg', 'is_echo': True, 'text': '¿Cuál es tu correo?', 'app_id': 843376636183033, 'attachments': [{'title': '', 'url': None, 'type': 'template', 'payload': {'template_type': 'button', 'buttons': [{'type': 'postback', 'title': 'email', 'payload': 'email'}, {'type': 'postback', 'title': 'otro', 'payload': 'otro'}]}}]}}]}]}\n",
      "[{'sender': {'id': '111445520541316'}, 'recipient': {'id': '3452826248079358'}, 'timestamp': 1616132885545, 'message': {'mid': 'm_bwl3nm4sfJ-iCyGCPkGDmTrxWOlmWInsffZ5UHcOgULbCZ4XAcaVl3gi1lGgMVhNlK7pmFd5k0pUCiUOPWSNNg', 'is_echo': True, 'text': '¿Cuál es tu correo?', 'app_id': 843376636183033, 'attachments': [{'title': '', 'url': None, 'type': 'template', 'payload': {'template_type': 'button', 'buttons': [{'type': 'postback', 'title': 'email', 'payload': 'email'}, {'type': 'postback', 'title': 'otro', 'payload': 'otro'}]}}]}}]\n",
      "hilo consume\n",
      "\n",
      "______________________________________________no read__________________________________________________________________________\n",
      "\n",
      "\t\tMensaje enviado al Nucleo Logico->\n",
      "  {\"payload\": {\"robot\": \"none\", \"id_face\": \"111445520541316\", \"recipient_id\": \"111445520541316\", \"access_token\": \"none\", \"content\": \"\\u00bfCu\\u00e1l es tu correo?\", \"type_resp\": \"message\", \"state\": \"none\", \"blocktype\": \"none\", \"opciones\": \"none\", \"entities\": {}}}\n",
      "\n",
      "_________________________________________________________________________________________________________________________\n",
      "Mesaje de la API de Facebook-> \n",
      " {'object': 'page', 'entry': [{'id': '111445520541316', 'time': 1616132885751, 'messaging': [{'sender': {'id': '3452826248079358'}, 'recipient': {'id': '111445520541316'}, 'timestamp': 1616132885796, 'delivery': {'mids': ['m_bwl3nm4sfJ-iCyGCPkGDmTrxWOlmWInsffZ5UHcOgULbCZ4XAcaVl3gi1lGgMVhNlK7pmFd5k0pUCiUOPWSNNg'], 'watermark': 1616132885545}}]}]}\n"
     ]
    },
    {
     "name": "stderr",
     "output_type": "stream",
     "text": [
      "127.0.0.1 - - [18/Mar/2021 23:48:06] \"\u001b[37mPOST /apiREST/v1 HTTP/1.1\u001b[0m\" 200 -\n"
     ]
    },
    {
     "name": "stdout",
     "output_type": "stream",
     "text": [
      "\n",
      "_________________________________________________________________________________________________________________________\n",
      "Mesaje de la API de Facebook-> \n",
      " {'object': 'page', 'entry': [{'id': '111445520541316', 'time': 1616132885943, 'messaging': [{'sender': {'id': '3452826248079358'}, 'recipient': {'id': '111445520541316'}, 'timestamp': 1616132886085, 'read': {'watermark': 1616132885418}}]}]}\n",
      "hilo consume\n",
      "\n",
      "_________________________________________________________________________________________________________________________\n",
      "\t\t\n",
      "Respuesta del Nucleo Logico->  {'Respuesta': {'content': 'Hola, soy un chatbot y esto es un mensaje de prueba y adios', 'next_id': 'prueba_captura', 'blockType': 'informativo', 'contentType': 'text', 'typingTime': '3', 'payload': {'content': '', 'state': 'prueba_inicio', 'recipient_id': '111445520541316', 'entities': {}, 'access_token': 'EAALZCCZBzPwfkBAAo7njAlW7s4DTj1ZCs5v1ung1MhEyMlJXOOtiG8r7JcBgXVPhZBHkJONyTB6jKG470UyqGPWn4aDPnisgtT2ZCZAwQIjQgZAZBufZBJXmHz6mPKSgdmP6ikDA87vocZBay2dfQdz1OYezmYbxwfILXUvXtjUMZAniQZDZD'}}}\n",
      " [.] Got %r None\n",
      "\n",
      "\n",
      "---------------------------------------------------------------------------\n",
      "mensaje enviado a la API de facebook:\n",
      " {'message': {'text': 'Hola, soy un chatbot y esto es un mensaje de prueba y adios'}, 'recipient': {'id': '111445520541316'}, 'notification_type': 'REGULAR'}\n",
      " [.] Got %r None\n"
     ]
    },
    {
     "name": "stderr",
     "output_type": "stream",
     "text": [
      "127.0.0.1 - - [18/Mar/2021 23:48:19] \"\u001b[37mGET /apiREST/v1?hub.mode=subscribe&hub.challenge=453140363&hub.verify_token=chatbot HTTP/1.1\u001b[0m\" 200 -\n"
     ]
    },
    {
     "name": "stdout",
     "output_type": "stream",
     "text": [
      " petición GET\n",
      "metodo GET...\n",
      "request <Request 'http://0feaf880d837.ngrok.io/apiREST/v1?hub.mode=subscribe&hub.challenge=453140363&hub.verify_token=chatbot' [GET]>\n",
      "chatbot\n"
     ]
    },
    {
     "name": "stderr",
     "output_type": "stream",
     "text": [
      "127.0.0.1 - - [18/Mar/2021 23:48:21] \"\u001b[37mPOST /apiREST/v1 HTTP/1.1\u001b[0m\" 200 -\n"
     ]
    },
    {
     "name": "stdout",
     "output_type": "stream",
     "text": [
      "\n",
      "_________________________________________________________________________________________________________________________\n",
      "Mesaje de la API de Facebook-> \n",
      " {'object': 'page', 'entry': [{'id': '111445520541316', 'time': 1616132901628, 'messaging': [{'sender': {'id': '3452826248079358'}, 'recipient': {'id': '111445520541316'}, 'timestamp': 1616132901683, 'read': {'watermark': 1616132901041}}]}]}\n",
      "hilo consume\n",
      " [.] Got %r None\n"
     ]
    },
    {
     "name": "stderr",
     "output_type": "stream",
     "text": [
      "127.0.0.1 - - [18/Mar/2021 23:48:52] \"\u001b[37mPOST /apiREST/v1 HTTP/1.1\u001b[0m\" 200 -\n",
      "127.0.0.1 - - [18/Mar/2021 23:48:52] \"\u001b[37mPOST /apiREST/v1 HTTP/1.1\u001b[0m\" 200 -\n",
      "127.0.0.1 - - [18/Mar/2021 23:48:52] \"\u001b[37mPOST /apiREST/v1 HTTP/1.1\u001b[0m\" 200 -\n"
     ]
    },
    {
     "name": "stdout",
     "output_type": "stream",
     "text": [
      "\n",
      "_________________________________________________________________________________________________________________________\n",
      "Mesaje de la API de Facebook-> \n",
      " {'object': 'page', 'entry': [{'id': '2153123008120093', 'time': 1616132932431, 'messaging': [{'sender': {'id': '5189951557742323'}, 'recipient': {'id': '2153123008120093'}, 'timestamp': 1616132932319, 'message': {'mid': 'm_Wj50H3GAbM9Pya9pp4PPsNiD4EwZ0uM6mKG43TSXtslCmFrf96cumH9Un9G9XUgoNvaiARyBfqwiAQnsvfoLHQ', 'text': 'Hola'}}]}]}\n",
      "[{'sender': {'id': '5189951557742323'}, 'recipient': {'id': '2153123008120093'}, 'timestamp': 1616132932319, 'message': {'mid': 'm_Wj50H3GAbM9Pya9pp4PPsNiD4EwZ0uM6mKG43TSXtslCmFrf96cumH9Un9G9XUgoNvaiARyBfqwiAQnsvfoLHQ', 'text': 'Hola'}}]\n",
      "hilo consume\n",
      "\n",
      "______________________________________________no read__________________________________________________________________________\n",
      "\n",
      "\t\tMensaje enviado al Nucleo Logico->\n",
      "  {\"payload\": {\"robot\": \"none\", \"id_face\": \"2153123008120093\", \"recipient_id\": \"5189951557742323\", \"access_token\": \"none\", \"content\": \"Hola\", \"type_resp\": \"message\", \"state\": \"none\", \"blocktype\": \"none\", \"opciones\": \"none\", \"entities\": {}}}\n",
      "\n",
      "_________________________________________________________________________________________________________________________\n",
      "Mesaje de la API de Facebook-> \n",
      " {'object': 'page', 'entry': [{'id': '2153123008120093', 'time': 1616132932502, 'messaging': [{'sender': {'id': '5189951557742323'}, 'recipient': {'id': '2153123008120093'}, 'timestamp': 1616132932529, 'read': {'watermark': 1616132931419}}]}]}\n",
      "hilo consume\n",
      "\n",
      "_________________________________________________________________________________________________________________________\n",
      "Mesaje de la API de Facebook-> \n",
      " {'object': 'page', 'entry': [{'id': '2153123008120093', 'time': 1616132931838, 'messaging': [{'sender': {'id': '5189951557742323'}, 'recipient': {'id': '2153123008120093'}, 'timestamp': 1616132932440, 'read': {'watermark': 1616132931359}}]}]}\n",
      "hilo consume\n"
     ]
    },
    {
     "name": "stderr",
     "output_type": "stream",
     "text": [
      "127.0.0.1 - - [18/Mar/2021 23:48:52] \"\u001b[37mPOST /apiREST/v1 HTTP/1.1\u001b[0m\" 200 -\n"
     ]
    },
    {
     "name": "stdout",
     "output_type": "stream",
     "text": [
      "\n",
      "_________________________________________________________________________________________________________________________\n",
      "Mesaje de la API de Facebook-> \n",
      " {'object': 'page', 'entry': [{'id': '2153123008120093', 'time': 1616132932714, 'messaging': [{'sender': {'id': '5189951557742323'}, 'recipient': {'id': '2153123008120093'}, 'timestamp': 1616132932742, 'read': {'watermark': 1616132932221}}]}]}\n",
      "hilo consume\n",
      "\n",
      "_________________________________________________________________________________________________________________________\n",
      "\t\t\n",
      "Respuesta del Nucleo Logico->  {'Respuesta': {'content': 'Hola, soy un robot!', 'next_id': 'pruebaCorreo_01inicial_inicial', 'blockType': 'informativo', 'contentType': 'text', 'typingTime': '3', 'payload': {'content': '', 'state': 'prueba_inicio', 'recipient_id': '5189951557742323', 'entities': {}, 'access_token': 'EAAHNkscg2TcBAMvebksfOxuFBpMeR5sUhzHTKtqdi6NkqQKZAdkeaGVJ9Yc5bNbvL3JLzCgB7EEqsVUTZADhidVcC3zJV1UZB4Uz0Hm3fZB9IETnWb4I8MoK8nxpenC1lYwnjwnRwMHVZA1FKw8d3A45t9xCxmPKnm6kIr5ZCA8wZDZD'}}}\n",
      "\n",
      "_________________________________________________________________________________________________________________________\n",
      "\t\t\n",
      "Respuesta del Nucleo Logico->  {'Respuesta': {'content': '¿Cuál es tu correo?', 'next_id': 'prueba_dos,prueba_slide', 'blockType': 'quickReply', 'contentType': ' ', 'typingTime': '3', 'payload': {'content': '', 'state': 'pruebaCorreo_01inicial_inicial', 'recipient_id': '5189951557742323', 'entities': {}, 'access_token': 'EAAHNkscg2TcBAMvebksfOxuFBpMeR5sUhzHTKtqdi6NkqQKZAdkeaGVJ9Yc5bNbvL3JLzCgB7EEqsVUTZADhidVcC3zJV1UZB4Uz0Hm3fZB9IETnWb4I8MoK8nxpenC1lYwnjwnRwMHVZA1FKw8d3A45t9xCxmPKnm6kIr5ZCA8wZDZD'}, 'options': ['email', 'otro'], 'default_id': 'prueba_qa', 'save_var': '0'}}\n",
      " [.] Got %r None\n",
      " [.] Got %r None\n",
      "\n",
      "\n",
      "---------------------------------------------------------------------------\n",
      "mensaje enviado a la API de facebook:\n",
      " {'message': {'text': 'Hola, soy un robot!'}, 'recipient': {'id': '5189951557742323'}, 'notification_type': 'REGULAR'}\n",
      " [.] Got %r None\n",
      "\n",
      "\n",
      "---------------------------------------------------------------------------\n",
      "mensaje enviado a la API de facebook:\n",
      " {'message': {'attachment': {'type': 'template', 'payload': {'template_type': 'button', 'text': '¿Cuál es tu correo?', 'buttons': [{'title': 'email', 'type': 'postback', 'payload': 'email'}, {'title': 'otro', 'type': 'postback', 'payload': 'otro'}]}}}, 'recipient': {'id': '5189951557742323'}, 'notification_type': 'REGULAR'}\n",
      " [.] Got %r None\n"
     ]
    },
    {
     "name": "stderr",
     "output_type": "stream",
     "text": [
      "127.0.0.1 - - [18/Mar/2021 23:48:54] \"\u001b[37mPOST /apiREST/v1 HTTP/1.1\u001b[0m\" 200 -\n"
     ]
    },
    {
     "name": "stdout",
     "output_type": "stream",
     "text": [
      "\n",
      "_________________________________________________________________________________________________________________________\n",
      "Mesaje de la API de Facebook-> \n",
      " {'object': 'page', 'entry': [{'id': '2153123008120093', 'time': 1616132934759, 'messaging': [{'sender': {'id': '5189951557742323'}, 'recipient': {'id': '2153123008120093'}, 'timestamp': 1616132934818, 'read': {'watermark': 1616132934273}}]}]}\n",
      "hilo consume\n",
      " [.] Got %r None\n"
     ]
    },
    {
     "name": "stderr",
     "output_type": "stream",
     "text": [
      "127.0.0.1 - - [18/Mar/2021 23:48:55] \"\u001b[37mPOST /apiREST/v1 HTTP/1.1\u001b[0m\" 200 -\n"
     ]
    },
    {
     "name": "stdout",
     "output_type": "stream",
     "text": [
      "\n",
      "_________________________________________________________________________________________________________________________\n",
      "Mesaje de la API de Facebook-> \n",
      " {'object': 'page', 'entry': [{'id': '2153123008120093', 'time': 1616132934954, 'messaging': [{'sender': {'id': '5189951557742323'}, 'recipient': {'id': '2153123008120093'}, 'timestamp': 1616132935048, 'read': {'watermark': 1616132934446}}]}]}\n",
      "hilo consume\n",
      " [.] Got %r None\n"
     ]
    },
    {
     "name": "stderr",
     "output_type": "stream",
     "text": [
      "127.0.0.1 - - [18/Mar/2021 23:48:57] \"\u001b[37mPOST /apiREST/v1 HTTP/1.1\u001b[0m\" 200 -\n",
      "127.0.0.1 - - [18/Mar/2021 23:48:57] \"\u001b[37mPOST /apiREST/v1 HTTP/1.1\u001b[0m\" 200 -\n"
     ]
    },
    {
     "name": "stdout",
     "output_type": "stream",
     "text": [
      "\n",
      "_________________________________________________________________________________________________________________________\n",
      "Mesaje de la API de Facebook-> \n",
      " {'object': 'page', 'entry': [{'id': '2153123008120093', 'time': 1616132936727, 'messaging': [{'sender': {'id': '5189951557742323'}, 'recipient': {'id': '2153123008120093'}, 'timestamp': 1616132936859, 'read': {'watermark': 1616132936226}}]}]}\n",
      "hilo consume\n",
      " [.] Got %r None\n",
      "\n",
      "_________________________________________________________________________________________________________________________\n",
      "Mesaje de la API de Facebook-> \n",
      " {'object': 'page', 'entry': [{'id': '2153123008120093', 'time': 1616132936947, 'messaging': [{'sender': {'id': '5189951557742323'}, 'recipient': {'id': '2153123008120093'}, 'timestamp': 1616132936758, 'postback': {'title': 'otro', 'payload': 'otro'}}]}]}\n",
      "hilo consume\n",
      "\n",
      "______________________________________________no read__________________________________________________________________________\n",
      "\n",
      "\t\tMensaje enviado al Nucleo Logico->\n",
      "  {\"payload\": {\"robot\": \"none\", \"id_face\": \"2153123008120093\", \"recipient_id\": \"5189951557742323\", \"access_token\": \"none\", \"content\": \"otro\", \"type_resp\": \"postback\", \"state\": \"none\", \"blocktype\": \"none\", \"opciones\": \"none\", \"entities\": {}}}\n"
     ]
    },
    {
     "name": "stderr",
     "output_type": "stream",
     "text": [
      "127.0.0.1 - - [18/Mar/2021 23:48:57] \"\u001b[37mPOST /apiREST/v1 HTTP/1.1\u001b[0m\" 200 -\n"
     ]
    },
    {
     "name": "stdout",
     "output_type": "stream",
     "text": [
      "\n",
      "_________________________________________________________________________________________________________________________\n",
      "Mesaje de la API de Facebook-> \n",
      " {'object': 'page', 'entry': [{'id': '2153123008120093', 'time': 1616132937030, 'messaging': [{'sender': {'id': '5189951557742323'}, 'recipient': {'id': '2153123008120093'}, 'timestamp': 1616132937098, 'read': {'watermark': 1616132936280}}]}]}\n",
      "hilo consume\n",
      "\n",
      "_________________________________________________________________________________________________________________________\n",
      "Mesaje de la API de Facebook-> \n",
      " {'object': 'page', 'entry': [{'id': '2153123008120093', 'time': 1616132937220, 'messaging': [{'sender': {'id': '5189951557742323'}, 'recipient': {'id': '2153123008120093'}, 'timestamp': 1616132937301, 'read': {'watermark': 1616132936613}}]}]}\n"
     ]
    },
    {
     "name": "stderr",
     "output_type": "stream",
     "text": [
      "127.0.0.1 - - [18/Mar/2021 23:48:57] \"\u001b[37mPOST /apiREST/v1 HTTP/1.1\u001b[0m\" 200 -\n"
     ]
    },
    {
     "name": "stdout",
     "output_type": "stream",
     "text": [
      "hilo consume\n",
      "\n",
      "_________________________________________________________________________________________________________________________\n",
      "\t\t\n",
      "Respuesta del Nucleo Logico->  {'Respuesta': {'content': [{'title': 'Prueba titulo', 'image_url': 'https://st2.depositphotos.com/3008028/5540/i/600/depositphotos_55407975-stock-photo-royal-blue-background.jpg', 'subtitle': 'Esta es una prueba de carrusel.', 'buttons': [{'titleButton': 'Boton 1', 'typeButton': 'web_url', 'urlButton': 'https://www.youtube.com/'}, {'titleButton': 'Boton 2', 'typeButton': 'web_url', 'urlButton': 'https://www.reddit.com/'}]}], 'next_id': ['https://www.youtube.com/', 'https://www.reddit.com/'], 'blockType': 'slide', 'contentType': ' ', 'typingTime': 3, 'payload': {'content': '', 'state': 'prueba_slide', 'recipient_id': '5189951557742323', 'entities': {'var_case': 'otro'}, 'access_token': 'EAAHNkscg2TcBAMvebksfOxuFBpMeR5sUhzHTKtqdi6NkqQKZAdkeaGVJ9Yc5bNbvL3JLzCgB7EEqsVUTZADhidVcC3zJV1UZB4Uz0Hm3fZB9IETnWb4I8MoK8nxpenC1lYwnjwnRwMHVZA1FKw8d3A45t9xCxmPKnm6kIr5ZCA8wZDZD'}, 'default_id': 'prueba_qa', 'save_var': '0'}}\n",
      "pyload slide:  {'recipient': {'id': '5189951557742323'}, 'message': {'attachment': {'type': 'template', 'payload': {'template_type': 'generic', 'elements': [{'title': 'Prueba titulo', 'image_url': 'https://st2.depositphotos.com/3008028/5540/i/600/depositphotos_55407975-stock-photo-royal-blue-background.jpg', 'subtitle': 'Esta es una prueba de carrusel.', 'buttons': [{'title': 'Boton 1', 'type': 'web_url', 'url': 'https://www.youtube.com/'}, {'title': 'Boton 2', 'type': 'web_url', 'url': 'https://www.reddit.com/'}]}]}}}, 'notification_type': 'REGULAR'}\n",
      " [.] Got %r None\n",
      " [.] Got %r None\n",
      "\n",
      "\n",
      "---------------------------------------------------------------------------\n",
      "mensaje enviado a la API de facebook:\n",
      " {'recipient': {'id': '5189951557742323'}, 'message': {'attachment': {'type': 'template', 'payload': {'template_type': 'generic', 'elements': [{'title': 'Prueba titulo', 'image_url': 'https://st2.depositphotos.com/3008028/5540/i/600/depositphotos_55407975-stock-photo-royal-blue-background.jpg', 'subtitle': 'Esta es una prueba de carrusel.', 'buttons': [{'title': 'Boton 1', 'type': 'web_url', 'url': 'https://www.youtube.com/'}, {'title': 'Boton 2', 'type': 'web_url', 'url': 'https://www.reddit.com/'}]}]}}}, 'notification_type': 'REGULAR'}\n",
      " [.] Got %r None\n"
     ]
    },
    {
     "name": "stderr",
     "output_type": "stream",
     "text": [
      "127.0.0.1 - - [18/Mar/2021 23:48:59] \"\u001b[37mPOST /apiREST/v1 HTTP/1.1\u001b[0m\" 200 -\n"
     ]
    },
    {
     "name": "stdout",
     "output_type": "stream",
     "text": [
      "\n",
      "_________________________________________________________________________________________________________________________\n",
      "Mesaje de la API de Facebook-> \n",
      " {'object': 'page', 'entry': [{'id': '2153123008120093', 'time': 1616132939087, 'messaging': [{'sender': {'id': '5189951557742323'}, 'recipient': {'id': '2153123008120093'}, 'timestamp': 1616132939231, 'read': {'watermark': 1616132938622}}]}]}\n",
      "hilo consume\n",
      " [.] Got %r None\n"
     ]
    },
    {
     "name": "stderr",
     "output_type": "stream",
     "text": [
      "127.0.0.1 - - [18/Mar/2021 23:49:02] \"\u001b[37mPOST /apiREST/v1 HTTP/1.1\u001b[0m\" 200 -\n",
      "127.0.0.1 - - [18/Mar/2021 23:49:02] \"\u001b[37mPOST /apiREST/v1 HTTP/1.1\u001b[0m\" 200 -\n",
      "127.0.0.1 - - [18/Mar/2021 23:49:02] \"\u001b[37mPOST /apiREST/v1 HTTP/1.1\u001b[0m\" 200 -\n"
     ]
    },
    {
     "name": "stdout",
     "output_type": "stream",
     "text": [
      "\n",
      "_________________________________________________________________________________________________________________________\n",
      "Mesaje de la API de Facebook-> \n",
      " {'object': 'page', 'entry': [{'id': '2153123008120093', 'time': 1616132942324, 'messaging': [{'sender': {'id': '5189951557742323'}, 'recipient': {'id': '2153123008120093'}, 'timestamp': 1616132942203, 'message': {'mid': 'm_DB4RX4WTbhpxtggS8iR1l9iD4EwZ0uM6mKG43TSXtskMEbh6ivfF-_3HoBLhxxHNoBTq2TQJKjpuqIY3o_tUFQ', 'text': 'no te entiendo'}}]}]}\n",
      "[{'sender': {'id': '5189951557742323'}, 'recipient': {'id': '2153123008120093'}, 'timestamp': 1616132942203, 'message': {'mid': 'm_DB4RX4WTbhpxtggS8iR1l9iD4EwZ0uM6mKG43TSXtskMEbh6ivfF-_3HoBLhxxHNoBTq2TQJKjpuqIY3o_tUFQ', 'text': 'no te entiendo'}}]\n",
      "hilo consume\n",
      "\n",
      "______________________________________________no read__________________________________________________________________________\n",
      "\n",
      "\t\tMensaje enviado al Nucleo Logico->\n",
      "  {\"payload\": {\"robot\": \"none\", \"id_face\": \"2153123008120093\", \"recipient_id\": \"5189951557742323\", \"access_token\": \"none\", \"content\": \"no te entiendo\", \"type_resp\": \"message\", \"state\": \"none\", \"blocktype\": \"none\", \"opciones\": \"none\", \"entities\": {}}}\n",
      "\n",
      "_________________________________________________________________________________________________________________________\n",
      "Mesaje de la API de Facebook-> \n",
      " {'object': 'page', 'entry': [{'id': '2153123008120093', 'time': 1616132942171, 'messaging': [{'sender': {'id': '5189951557742323'}, 'recipient': {'id': '2153123008120093'}, 'timestamp': 1616132942325, 'read': {'watermark': 1616132941694}}]}]}\n",
      "hilo consume\n",
      "\n",
      "_________________________________________________________________________________________________________________________\n",
      "Mesaje de la API de Facebook-> \n",
      " {'object': 'page', 'entry': [{'id': '2153123008120093', 'time': 1616132942440, 'messaging': [{'sender': {'id': '5189951557742323'}, 'recipient': {'id': '2153123008120093'}, 'timestamp': 1616132942549, 'read': {'watermark': 1616132941748}}]}]}\n",
      "hilo consume\n"
     ]
    },
    {
     "name": "stderr",
     "output_type": "stream",
     "text": [
      "127.0.0.1 - - [18/Mar/2021 23:49:02] \"\u001b[37mPOST /apiREST/v1 HTTP/1.1\u001b[0m\" 200 -\n"
     ]
    },
    {
     "name": "stdout",
     "output_type": "stream",
     "text": [
      "\n",
      "_________________________________________________________________________________________________________________________\n",
      "Mesaje de la API de Facebook-> \n",
      " {'object': 'page', 'entry': [{'id': '2153123008120093', 'time': 1616132942665, 'messaging': [{'sender': {'id': '5189951557742323'}, 'recipient': {'id': '2153123008120093'}, 'timestamp': 1616132942818, 'read': {'watermark': 1616132942029}}]}]}\n",
      "hilo consume\n",
      "\n",
      "_________________________________________________________________________________________________________________________\n",
      "\t\t\n",
      "Respuesta del Nucleo Logico->  {'Respuesta': {'content': 'Vamos a ver si no truena', 'next_id': 'pruebaCorreo_01inicial_inicial', 'blockType': 'informativo', 'contentType': 'text', 'typingTime': '7', 'payload': {'content': '', 'state': 'prueba_qa', 'recipient_id': '5189951557742323', 'entities': {'var_case': 'otro', 'var_slideMenu': 'no te entiendo'}, 'access_token': 'EAAHNkscg2TcBAMvebksfOxuFBpMeR5sUhzHTKtqdi6NkqQKZAdkeaGVJ9Yc5bNbvL3JLzCgB7EEqsVUTZADhidVcC3zJV1UZB4Uz0Hm3fZB9IETnWb4I8MoK8nxpenC1lYwnjwnRwMHVZA1FKw8d3A45t9xCxmPKnm6kIr5ZCA8wZDZD'}}}\n",
      "\n",
      "\n",
      "---------------------------------------------------------------------------\n",
      "mensaje enviado a la API de facebook:\n",
      " {'message': {'text': 'Vamos a ver si no truena'}, 'recipient': {'id': '5189951557742323'}, 'notification_type': 'REGULAR'}\n",
      " [.] Got %r None\n",
      "\n",
      "_________________________________________________________________________________________________________________________\n",
      "\t\t\n",
      "Respuesta del Nucleo Logico->  {'Respuesta': {'content': '¿Cuál es tu correo?', 'next_id': 'prueba_dos,prueba_slide', 'blockType': 'quickReply', 'contentType': ' ', 'typingTime': '3', 'payload': {'content': '', 'state': 'pruebaCorreo_01inicial_inicial', 'recipient_id': '5189951557742323', 'entities': {'var_case': 'otro', 'var_slideMenu': 'no te entiendo'}, 'access_token': 'EAAHNkscg2TcBAMvebksfOxuFBpMeR5sUhzHTKtqdi6NkqQKZAdkeaGVJ9Yc5bNbvL3JLzCgB7EEqsVUTZADhidVcC3zJV1UZB4Uz0Hm3fZB9IETnWb4I8MoK8nxpenC1lYwnjwnRwMHVZA1FKw8d3A45t9xCxmPKnm6kIr5ZCA8wZDZD'}, 'options': ['email', 'otro'], 'default_id': 'prueba_qa', 'save_var': 'otro'}}\n",
      " [.] Got %r None\n",
      " [.] Got %r None\n"
     ]
    },
    {
     "name": "stderr",
     "output_type": "stream",
     "text": [
      "127.0.0.1 - - [18/Mar/2021 23:49:04] \"\u001b[37mPOST /apiREST/v1 HTTP/1.1\u001b[0m\" 200 -\n"
     ]
    },
    {
     "name": "stdout",
     "output_type": "stream",
     "text": [
      "\n",
      "\n",
      "---------------------------------------------------------------------------\n",
      "mensaje enviado a la API de facebook:\n",
      " {'message': {'attachment': {'type': 'template', 'payload': {'template_type': 'button', 'text': '¿Cuál es tu correo?', 'buttons': [{'title': 'email', 'type': 'postback', 'payload': 'email'}, {'title': 'otro', 'type': 'postback', 'payload': 'otro'}]}}}, 'recipient': {'id': '5189951557742323'}, 'notification_type': 'REGULAR'}\n",
      " [.] Got %r None\n",
      "\n",
      "_________________________________________________________________________________________________________________________\n",
      "Mesaje de la API de Facebook-> \n",
      " {'object': 'page', 'entry': [{'id': '2153123008120093', 'time': 1616132943985, 'messaging': [{'sender': {'id': '5189951557742323'}, 'recipient': {'id': '2153123008120093'}, 'timestamp': 1616132944130, 'read': {'watermark': 1616132943487}}]}]}\n",
      "hilo consume\n",
      " [.] Got %r None\n"
     ]
    },
    {
     "name": "stderr",
     "output_type": "stream",
     "text": [
      "127.0.0.1 - - [18/Mar/2021 23:49:05] \"\u001b[37mPOST /apiREST/v1 HTTP/1.1\u001b[0m\" 200 -\n"
     ]
    },
    {
     "name": "stdout",
     "output_type": "stream",
     "text": [
      "\n",
      "_________________________________________________________________________________________________________________________\n",
      "Mesaje de la API de Facebook-> \n",
      " {'object': 'page', 'entry': [{'id': '2153123008120093', 'time': 1616132944822, 'messaging': [{'sender': {'id': '5189951557742323'}, 'recipient': {'id': '2153123008120093'}, 'timestamp': 1616132944877, 'read': {'watermark': 1616132944318}}]}]}\n",
      "hilo consume\n",
      " [.] Got %r None\n"
     ]
    },
    {
     "name": "stderr",
     "output_type": "stream",
     "text": [
      "127.0.0.1 - - [18/Mar/2021 23:49:08] \"\u001b[37mPOST /apiREST/v1 HTTP/1.1\u001b[0m\" 200 -\n"
     ]
    },
    {
     "name": "stdout",
     "output_type": "stream",
     "text": [
      "\n",
      "_________________________________________________________________________________________________________________________\n",
      "Mesaje de la API de Facebook-> \n",
      " {'object': 'page', 'entry': [{'id': '2153123008120093', 'time': 1616132948046, 'messaging': [{'sender': {'id': '5189951557742323'}, 'recipient': {'id': '2153123008120093'}, 'timestamp': 1616132948257, 'read': {'watermark': 1616132947530}}]}]}\n",
      "hilo consume\n",
      " [.] Got %r None\n"
     ]
    },
    {
     "name": "stderr",
     "output_type": "stream",
     "text": [
      "127.0.0.1 - - [18/Mar/2021 23:49:08] \"\u001b[37mPOST /apiREST/v1 HTTP/1.1\u001b[0m\" 200 -\n"
     ]
    },
    {
     "name": "stdout",
     "output_type": "stream",
     "text": [
      "\n",
      "_________________________________________________________________________________________________________________________\n",
      "Mesaje de la API de Facebook-> \n",
      " {'object': 'page', 'entry': [{'id': '2153123008120093', 'time': 1616132948367, 'messaging': [{'sender': {'id': '5189951557742323'}, 'recipient': {'id': '2153123008120093'}, 'timestamp': 1616132948556, 'read': {'watermark': 1616132947848}}]}]}\n",
      "hilo consume\n",
      " [.] Got %r None\n"
     ]
    },
    {
     "name": "stderr",
     "output_type": "stream",
     "text": [
      "127.0.0.1 - - [18/Mar/2021 23:49:09] \"\u001b[37mPOST /apiREST/v1 HTTP/1.1\u001b[0m\" 200 -\n"
     ]
    },
    {
     "name": "stdout",
     "output_type": "stream",
     "text": [
      "\n",
      "_________________________________________________________________________________________________________________________\n",
      "Mesaje de la API de Facebook-> \n",
      " {'object': 'page', 'entry': [{'id': '2153123008120093', 'time': 1616132949033, 'messaging': [{'sender': {'id': '5189951557742323'}, 'recipient': {'id': '2153123008120093'}, 'timestamp': 1616132948086, 'postback': {'title': 'email', 'payload': 'email'}}]}]}\n",
      "hilo consume\n",
      "\n",
      "______________________________________________no read__________________________________________________________________________\n",
      "\n",
      "\t\tMensaje enviado al Nucleo Logico->\n",
      "  {\"payload\": {\"robot\": \"none\", \"id_face\": \"2153123008120093\", \"recipient_id\": \"5189951557742323\", \"access_token\": \"none\", \"content\": \"email\", \"type_resp\": \"postback\", \"state\": \"none\", \"blocktype\": \"none\", \"opciones\": \"none\", \"entities\": {}}}\n",
      "\n",
      "_________________________________________________________________________________________________________________________\n",
      "\t\t\n",
      "Respuesta del Nucleo Logico->  {'Respuesta': {'content': 'Puedo hacer muchas cosas, entre ellas despedirme. Adios', 'next_id': 'Salida', 'blockType': 'informativo', 'contentType': 'text', 'typingTime': '3', 'payload': {'content': '', 'state': 'prueba_dos', 'recipient_id': '5189951557742323', 'entities': {'var_case': 'email', 'var_slideMenu': 'no te entiendo'}, 'access_token': 'EAAHNkscg2TcBAMvebksfOxuFBpMeR5sUhzHTKtqdi6NkqQKZAdkeaGVJ9Yc5bNbvL3JLzCgB7EEqsVUTZADhidVcC3zJV1UZB4Uz0Hm3fZB9IETnWb4I8MoK8nxpenC1lYwnjwnRwMHVZA1FKw8d3A45t9xCxmPKnm6kIr5ZCA8wZDZD'}}}\n",
      "\n",
      "\n",
      "---------------------------------------------------------------------------\n",
      "mensaje enviado a la API de facebook:\n",
      " {'message': {'text': 'Puedo hacer muchas cosas, entre ellas despedirme. Adios'}, 'recipient': {'id': '5189951557742323'}, 'notification_type': 'REGULAR'}\n",
      " [.] Got %r None\n"
     ]
    },
    {
     "name": "stderr",
     "output_type": "stream",
     "text": [
      "127.0.0.1 - - [18/Mar/2021 23:49:10] \"\u001b[37mPOST /apiREST/v1 HTTP/1.1\u001b[0m\" 200 -\n"
     ]
    },
    {
     "name": "stdout",
     "output_type": "stream",
     "text": [
      "\n",
      "_________________________________________________________________________________________________________________________\n",
      "Mesaje de la API de Facebook-> \n",
      " {'object': 'page', 'entry': [{'id': '111445520541316', 'time': 1616132950722, 'messaging': [{'sender': {'id': '3452826248079358'}, 'recipient': {'id': '111445520541316'}, 'timestamp': 1616132950802, 'read': {'watermark': 1616132950209}}]}]}\n",
      "hilo consume\n",
      " [.] Got %r None\n"
     ]
    },
    {
     "name": "stderr",
     "output_type": "stream",
     "text": [
      "127.0.0.1 - - [18/Mar/2021 23:49:11] \"\u001b[37mPOST /apiREST/v1 HTTP/1.1\u001b[0m\" 200 -\n"
     ]
    },
    {
     "name": "stdout",
     "output_type": "stream",
     "text": [
      "\n",
      "_________________________________________________________________________________________________________________________\n",
      "Mesaje de la API de Facebook-> \n",
      " {'object': 'page', 'entry': [{'id': '111445520541316', 'time': 1616132951236, 'messaging': [{'sender': {'id': '3452826248079358'}, 'recipient': {'id': '111445520541316'}, 'timestamp': 1616132950760, 'postback': {'title': 'email', 'payload': 'email'}}]}]}\n",
      "hilo consume\n",
      "\n",
      "______________________________________________no read__________________________________________________________________________\n",
      "\n",
      "\t\tMensaje enviado al Nucleo Logico->\n",
      "  {\"payload\": {\"robot\": \"none\", \"id_face\": \"111445520541316\", \"recipient_id\": \"3452826248079358\", \"access_token\": \"none\", \"content\": \"email\", \"type_resp\": \"postback\", \"state\": \"none\", \"blocktype\": \"none\", \"opciones\": \"none\", \"entities\": {}}}\n",
      "\n",
      "_________________________________________________________________________________________________________________________\n",
      "\t\t\n",
      "Respuesta del Nucleo Logico->  {'Respuesta': {'content': 'Puedo hacer muchas cosas, entre ellas despedirme. Adios', 'next_id': 'Salida', 'blockType': 'informativo', 'contentType': 'text', 'typingTime': '3', 'payload': {'content': '', 'state': 'prueba_dos', 'recipient_id': '3452826248079358', 'entities': {'email': 'charly@hotmail.com', 'var_case': 'email', 'var_slideMenu': 'no te entiendo'}, 'access_token': 'EAALZCCZBzPwfkBAAo7njAlW7s4DTj1ZCs5v1ung1MhEyMlJXOOtiG8r7JcBgXVPhZBHkJONyTB6jKG470UyqGPWn4aDPnisgtT2ZCZAwQIjQgZAZBufZBJXmHz6mPKSgdmP6ikDA87vocZBay2dfQdz1OYezmYbxwfILXUvXtjUMZAniQZDZD'}}}\n",
      "\n",
      "\n",
      "---------------------------------------------------------------------------\n",
      "mensaje enviado a la API de facebook:\n",
      " {'message': {'text': 'Puedo hacer muchas cosas, entre ellas despedirme. Adios'}, 'recipient': {'id': '3452826248079358'}, 'notification_type': 'REGULAR'}\n",
      " [.] Got %r None\n"
     ]
    },
    {
     "name": "stderr",
     "output_type": "stream",
     "text": [
      "127.0.0.1 - - [18/Mar/2021 23:49:12] \"\u001b[37mPOST /apiREST/v1 HTTP/1.1\u001b[0m\" 200 -\n",
      "127.0.0.1 - - [18/Mar/2021 23:49:13] \"\u001b[37mPOST /apiREST/v1 HTTP/1.1\u001b[0m\" 200 -\n"
     ]
    },
    {
     "name": "stdout",
     "output_type": "stream",
     "text": [
      "\n",
      "_________________________________________________________________________________________________________________________\n",
      "Mesaje de la API de Facebook-> \n",
      " {'object': 'page', 'entry': [{'id': '111445520541316', 'time': 1616132952741, 'messaging': [{'sender': {'id': '111445520541316'}, 'recipient': {'id': '3452826248079358'}, 'timestamp': 1616132952680, 'message': {'mid': 'm_9_FDajYpIm9wkMOqo3yiXzrxWOlmWInsffZ5UHcOgUJy0AzUaPoKc1TwO4kjZWOVfX7fRuXtACrao6jdiu3o5A', 'is_echo': True, 'text': 'Puedo hacer muchas cosas, entre ellas despedirme. Adios', 'app_id': 843376636183033}}]}]}\n",
      "[{'sender': {'id': '111445520541316'}, 'recipient': {'id': '3452826248079358'}, 'timestamp': 1616132952680, 'message': {'mid': 'm_9_FDajYpIm9wkMOqo3yiXzrxWOlmWInsffZ5UHcOgUJy0AzUaPoKc1TwO4kjZWOVfX7fRuXtACrao6jdiu3o5A', 'is_echo': True, 'text': 'Puedo hacer muchas cosas, entre ellas despedirme. Adios', 'app_id': 843376636183033}}]\n",
      "hilo consume\n",
      "\n",
      "______________________________________________no read__________________________________________________________________________\n",
      "\n",
      "\t\tMensaje enviado al Nucleo Logico->\n",
      "  {\"payload\": {\"robot\": \"none\", \"id_face\": \"111445520541316\", \"recipient_id\": \"111445520541316\", \"access_token\": \"none\", \"content\": \"Puedo hacer muchas cosas, entre ellas despedirme. Adios\", \"type_resp\": \"message\", \"state\": \"none\", \"blocktype\": \"none\", \"opciones\": \"none\", \"entities\": {}}}\n",
      "\n",
      "_________________________________________________________________________________________________________________________\n",
      "Mesaje de la API de Facebook-> \n",
      " {'object': 'page', 'entry': [{'id': '111445520541316', 'time': 1616132952842, 'messaging': [{'sender': {'id': '3452826248079358'}, 'recipient': {'id': '111445520541316'}, 'timestamp': 1616132952907, 'delivery': {'mids': ['m_9_FDajYpIm9wkMOqo3yiXzrxWOlmWInsffZ5UHcOgUJy0AzUaPoKc1TwO4kjZWOVfX7fRuXtACrao6jdiu3o5A'], 'watermark': 1616132952680}}]}]}\n",
      "\n",
      "_________________________________________________________________________________________________________________________\n",
      "\t\t\n",
      "Respuesta del Nucleo Logico->  {'Respuesta': {'content': 'Hola, soy un chatbot y esto es un mensaje de prueba y adios', 'next_id': 'prueba_captura', 'blockType': 'informativo', 'contentType': 'text', 'typingTime': '3', 'payload': {'content': '', 'state': 'prueba_inicio', 'recipient_id': '111445520541316', 'entities': {}, 'access_token': 'EAALZCCZBzPwfkBAAo7njAlW7s4DTj1ZCs5v1ung1MhEyMlJXOOtiG8r7JcBgXVPhZBHkJONyTB6jKG470UyqGPWn4aDPnisgtT2ZCZAwQIjQgZAZBufZBJXmHz6mPKSgdmP6ikDA87vocZBay2dfQdz1OYezmYbxwfILXUvXtjUMZAniQZDZD'}}}\n",
      "\n",
      "\n",
      "---------------------------------------------------------------------------\n",
      "mensaje enviado a la API de facebook:\n",
      " {'message': {'text': 'Hola, soy un chatbot y esto es un mensaje de prueba y adios'}, 'recipient': {'id': '111445520541316'}, 'notification_type': 'REGULAR'}\n",
      " [.] Got %r None\n"
     ]
    },
    {
     "name": "stderr",
     "output_type": "stream",
     "text": [
      "127.0.0.1 - - [18/Mar/2021 23:50:15] \"\u001b[37mPOST /apiREST/v1 HTTP/1.1\u001b[0m\" 200 -\n"
     ]
    },
    {
     "name": "stdout",
     "output_type": "stream",
     "text": [
      "\n",
      "_________________________________________________________________________________________________________________________\n",
      "Mesaje de la API de Facebook-> \n",
      " {'object': 'page', 'entry': [{'id': '2153123008120093', 'time': 1616133015089, 'messaging': [{'sender': {'id': '5189951557742323'}, 'recipient': {'id': '2153123008120093'}, 'timestamp': 1616133015232, 'read': {'watermark': 1616133014534}}]}]}\n",
      "hilo consume\n"
     ]
    },
    {
     "name": "stderr",
     "output_type": "stream",
     "text": [
      "127.0.0.1 - - [18/Mar/2021 23:51:25] \"\u001b[37mPOST /apiREST/v1 HTTP/1.1\u001b[0m\" 200 -\n"
     ]
    },
    {
     "name": "stdout",
     "output_type": "stream",
     "text": [
      "\n",
      "_________________________________________________________________________________________________________________________\n",
      "Mesaje de la API de Facebook-> \n",
      " {'object': 'page', 'entry': [{'id': '2153123008120093', 'time': 1616133084832, 'messaging': [{'sender': {'id': '5189951557742323'}, 'recipient': {'id': '2153123008120093'}, 'timestamp': 1616133084970, 'read': {'watermark': 1616133084268}}]}]}\n",
      "hilo consume\n",
      " [.] Got %r None\n"
     ]
    },
    {
     "name": "stderr",
     "output_type": "stream",
     "text": [
      "127.0.0.1 - - [18/Mar/2021 23:51:30] \"\u001b[37mPOST /apiREST/v1 HTTP/1.1\u001b[0m\" 200 -\n"
     ]
    },
    {
     "name": "stdout",
     "output_type": "stream",
     "text": [
      "\n",
      "_________________________________________________________________________________________________________________________\n",
      "Mesaje de la API de Facebook-> \n",
      " {'object': 'page', 'entry': [{'id': '2153123008120093', 'time': 1616133090482, 'messaging': [{'sender': {'id': '5189951557742323'}, 'recipient': {'id': '2153123008120093'}, 'timestamp': 1616133090563, 'read': {'watermark': 1616133089917}}]}]}\n",
      "hilo consume\n"
     ]
    },
    {
     "name": "stderr",
     "output_type": "stream",
     "text": [
      "127.0.0.1 - - [18/Mar/2021 23:51:34] \"\u001b[37mPOST /apiREST/v1 HTTP/1.1\u001b[0m\" 200 -\n"
     ]
    },
    {
     "name": "stdout",
     "output_type": "stream",
     "text": [
      "\n",
      "_________________________________________________________________________________________________________________________\n",
      "Mesaje de la API de Facebook-> \n",
      " {'object': 'page', 'entry': [{'id': '111445520541316', 'time': 1616133093881, 'messaging': [{'sender': {'id': '3452826248079358'}, 'recipient': {'id': '111445520541316'}, 'timestamp': 1616133094020, 'read': {'watermark': 1616133093399}}]}]}\n",
      "hilo consume\n"
     ]
    },
    {
     "name": "stderr",
     "output_type": "stream",
     "text": [
      "127.0.0.1 - - [18/Mar/2021 23:52:27] \"\u001b[37mPOST /apiREST/v1 HTTP/1.1\u001b[0m\" 200 -\n",
      "127.0.0.1 - - [18/Mar/2021 23:52:27] \"\u001b[37mPOST /apiREST/v1 HTTP/1.1\u001b[0m\" 200 -\n"
     ]
    },
    {
     "name": "stdout",
     "output_type": "stream",
     "text": [
      "\n",
      "_________________________________________________________________________________________________________________________\n",
      "Mesaje de la API de Facebook-> \n",
      " {'object': 'page', 'entry': [{'id': '111445520541316', 'time': 1616133146789, 'messaging': [{'sender': {'id': '3452826248079358'}, 'recipient': {'id': '111445520541316'}, 'timestamp': 1616133147333, 'read': {'watermark': 1616133146311}}]}]}\n",
      "hilo consume\n",
      "\n",
      "_________________________________________________________________________________________________________________________\n",
      "Mesaje de la API de Facebook-> \n",
      " {'object': 'page', 'entry': [{'id': '111445520541316', 'time': 1616133147430, 'messaging': [{'sender': {'id': '3452826248079358'}, 'recipient': {'id': '111445520541316'}, 'timestamp': 1616133147460, 'read': {'watermark': 1616133146358}}]}]}\n",
      "hilo consume\n",
      " [.] Got %r None\n",
      "\n",
      "_________________________________________________________________________________________________________________________\n",
      "Mesaje de la API de Facebook-> \n",
      " {'object': 'page', 'entry': [{'id': '111445520541316', 'time': 1616133147351, 'messaging': [{'sender': {'id': '3452826248079358'}, 'recipient': {'id': '111445520541316'}, 'timestamp': 1616133147217, 'message': {'mid': 'm_7WqrgLORa2WS9uxW1mvDWzrxWOlmWInsffZ5UHcOgUJR39Rva6y70HnrN3sWhiNc9CUyn6faz0zaROLtvqO4hQ', 'text': 'Hola'}}]}]}\n",
      "[{'sender': {'id': '3452826248079358'}, 'recipient': {'id': '111445520541316'}, 'timestamp': 1616133147217, 'message': {'mid': 'm_7WqrgLORa2WS9uxW1mvDWzrxWOlmWInsffZ5UHcOgUJR39Rva6y70HnrN3sWhiNc9CUyn6faz0zaROLtvqO4hQ', 'text': 'Hola'}}]\n"
     ]
    },
    {
     "name": "stderr",
     "output_type": "stream",
     "text": [
      "127.0.0.1 - - [18/Mar/2021 23:52:27] \"\u001b[37mPOST /apiREST/v1 HTTP/1.1\u001b[0m\" 200 -\n",
      "127.0.0.1 - - [18/Mar/2021 23:52:27] \"\u001b[37mPOST /apiREST/v1 HTTP/1.1\u001b[0m\" 200 -\n"
     ]
    },
    {
     "name": "stdout",
     "output_type": "stream",
     "text": [
      "hilo consume\n",
      "\n",
      "______________________________________________no read__________________________________________________________________________\n",
      "\n",
      "\t\tMensaje enviado al Nucleo Logico->\n",
      "  {\"payload\": {\"robot\": \"none\", \"id_face\": \"111445520541316\", \"recipient_id\": \"3452826248079358\", \"access_token\": \"none\", \"content\": \"Hola\", \"type_resp\": \"message\", \"state\": \"none\", \"blocktype\": \"none\", \"opciones\": \"none\", \"entities\": {}}}\n",
      " [.] Got %r None\n",
      "\n",
      "_________________________________________________________________________________________________________________________\n",
      "Mesaje de la API de Facebook-> \n",
      " {'object': 'page', 'entry': [{'id': '111445520541316', 'time': 1616133147587, 'messaging': [{'sender': {'id': '3452826248079358'}, 'recipient': {'id': '111445520541316'}, 'timestamp': 1616133147623, 'read': {'watermark': 1616133147093}}]}]}\n",
      "hilo consume\n",
      "\n",
      "_________________________________________________________________________________________________________________________\n",
      "\t\t\n",
      "Respuesta del Nucleo Logico->  {'Respuesta': {'content': 'Hola, soy un chatbot y esto es un mensaje de prueba y adios', 'next_id': 'prueba_captura', 'blockType': 'informativo', 'contentType': 'text', 'typingTime': '3', 'payload': {'content': '', 'state': 'prueba_inicio', 'recipient_id': '3452826248079358', 'entities': {}, 'access_token': 'EAALZCCZBzPwfkBAAo7njAlW7s4DTj1ZCs5v1ung1MhEyMlJXOOtiG8r7JcBgXVPhZBHkJONyTB6jKG470UyqGPWn4aDPnisgtT2ZCZAwQIjQgZAZBufZBJXmHz6mPKSgdmP6ikDA87vocZBay2dfQdz1OYezmYbxwfILXUvXtjUMZAniQZDZD'}}}\n",
      "\n",
      "_________________________________________________________________________________________________________________________\n",
      "\t\t\n",
      "Respuesta del Nucleo Logico->  {'Respuesta': {'content': 'introduce tu correo', 'next_id': 'pruebaCorreo_01inicial_inicial', 'blockType': 'input', 'contentType': 'text', 'typingTime': '3', 'payload': {'content': '', 'state': 'prueba_captura', 'recipient_id': '3452826248079358', 'entities': {}, 'access_token': 'EAALZCCZBzPwfkBAAo7njAlW7s4DTj1ZCs5v1ung1MhEyMlJXOOtiG8r7JcBgXVPhZBHkJONyTB6jKG470UyqGPWn4aDPnisgtT2ZCZAwQIjQgZAZBufZBJXmHz6mPKSgdmP6ikDA87vocZBay2dfQdz1OYezmYbxwfILXUvXtjUMZAniQZDZD'}, 'validacion': '^[a-z0-9]+[\\\\._]?[a-z0-9]+[@]\\\\w+[.]\\\\w{2,3}$', 'default_id': 'prueba_captura'}}\n",
      "\n",
      "\n",
      "---------------------------------------------------------------------------\n",
      "mensaje enviado a la API de facebook:\n",
      " {'message': {'text': 'Hola, soy un chatbot y esto es un mensaje de prueba y adios'}, 'recipient': {'id': '3452826248079358'}, 'notification_type': 'REGULAR'}\n",
      " [.] Got %r None\n",
      "\n",
      "\n",
      "---------------------------------------------------------------------------\n",
      "mensaje enviado a la API de facebook:\n",
      " {'message': {'text': 'introduce tu correo'}, 'recipient': {'id': '3452826248079358'}, 'notification_type': 'REGULAR'}\n",
      " [.] Got %r None\n"
     ]
    },
    {
     "name": "stderr",
     "output_type": "stream",
     "text": [
      "127.0.0.1 - - [18/Mar/2021 23:52:29] \"\u001b[37mPOST /apiREST/v1 HTTP/1.1\u001b[0m\" 200 -\n"
     ]
    },
    {
     "name": "stdout",
     "output_type": "stream",
     "text": [
      "\n",
      "_________________________________________________________________________________________________________________________\n",
      "Mesaje de la API de Facebook-> \n",
      " {'object': 'page', 'entry': [{'id': '111445520541316', 'time': 1616133149389, 'messaging': [{'sender': {'id': '111445520541316'}, 'recipient': {'id': '3452826248079358'}, 'timestamp': 1616133149343, 'message': {'mid': 'm_l7m-nk3i795mhk4ZhLfg0jrxWOlmWInsffZ5UHcOgUJRmnoeVUCxx_VPIUmNv2v2mwvgK0yrEAjY5mW3O4-lHg', 'is_echo': True, 'text': 'Hola, soy un chatbot y esto es un mensaje de prueba y adios', 'app_id': 843376636183033}}]}]}\n",
      "[{'sender': {'id': '111445520541316'}, 'recipient': {'id': '3452826248079358'}, 'timestamp': 1616133149343, 'message': {'mid': 'm_l7m-nk3i795mhk4ZhLfg0jrxWOlmWInsffZ5UHcOgUJRmnoeVUCxx_VPIUmNv2v2mwvgK0yrEAjY5mW3O4-lHg', 'is_echo': True, 'text': 'Hola, soy un chatbot y esto es un mensaje de prueba y adios', 'app_id': 843376636183033}}]\n",
      "hilo consume\n",
      "\n",
      "______________________________________________no read__________________________________________________________________________\n",
      "\n",
      "\t\tMensaje enviado al Nucleo Logico->\n",
      "  {\"payload\": {\"robot\": \"none\", \"id_face\": \"111445520541316\", \"recipient_id\": \"111445520541316\", \"access_token\": \"none\", \"content\": \"Hola, soy un chatbot y esto es un mensaje de prueba y adios\", \"type_resp\": \"message\", \"state\": \"none\", \"blocktype\": \"none\", \"opciones\": \"none\", \"entities\": {}}}\n"
     ]
    },
    {
     "name": "stderr",
     "output_type": "stream",
     "text": [
      "127.0.0.1 - - [18/Mar/2021 23:52:29] \"\u001b[37mPOST /apiREST/v1 HTTP/1.1\u001b[0m\" 200 -\n",
      "127.0.0.1 - - [18/Mar/2021 23:52:29] \"\u001b[37mPOST /apiREST/v1 HTTP/1.1\u001b[0m\" 200 -\n",
      "127.0.0.1 - - [18/Mar/2021 23:52:29] \"\u001b[37mPOST /apiREST/v1 HTTP/1.1\u001b[0m\" 200 -\n"
     ]
    },
    {
     "name": "stdout",
     "output_type": "stream",
     "text": [
      "\n",
      "_________________________________________________________________________________________________________________________\n",
      "Mesaje de la API de Facebook-> \n",
      " {'object': 'page', 'entry': [{'id': '111445520541316', 'time': 1616133149511, 'messaging': [{'sender': {'id': '3452826248079358'}, 'recipient': {'id': '111445520541316'}, 'timestamp': 1616133149692, 'delivery': {'mids': ['m_l7m-nk3i795mhk4ZhLfg0jrxWOlmWInsffZ5UHcOgUJRmnoeVUCxx_VPIUmNv2v2mwvgK0yrEAjY5mW3O4-lHg'], 'watermark': 1616133149343}}]}]}\n",
      "\n",
      "_________________________________________________________________________________________________________________________\n",
      "Mesaje de la API de Facebook-> \n",
      " {'object': 'page', 'entry': [{'id': '111445520541316', 'time': 1616133149711, 'messaging': [{'sender': {'id': '3452826248079358'}, 'recipient': {'id': '111445520541316'}, 'timestamp': 1616133149744, 'delivery': {'mids': ['m_bKpq-vcLYkCHE_x78epywTrxWOlmWInsffZ5UHcOgUI0jNpuKCwJg4YPgdy8m4DiBNYuLDgaDw71fu4Bn1_4Pg'], 'watermark': 1616133149542}}]}]}\n",
      "\n",
      "_________________________________________________________________________________________________________________________\n",
      "Mesaje de la API de Facebook-> \n",
      " {'object': 'page', 'entry': [{'id': '111445520541316', 'time': 1616133149595, 'messaging': [{'sender': {'id': '3452826248079358'}, 'recipient': {'id': '111445520541316'}, 'timestamp': 1616133149743, 'read': {'watermark': 1616133149108}}]}]}\n",
      "hilo consume\n",
      "\n",
      "_________________________________________________________________________________________________________________________\n",
      "\t\t\n",
      "Respuesta del Nucleo Logico->  {'Respuesta': {'content': 'Hola, soy un chatbot y esto es un mensaje de prueba y adios', 'next_id': 'prueba_captura', 'blockType': 'informativo', 'contentType': 'text', 'typingTime': '3', 'payload': {'content': '', 'state': 'prueba_inicio', 'recipient_id': '111445520541316', 'entities': {}, 'access_token': 'EAALZCCZBzPwfkBAAo7njAlW7s4DTj1ZCs5v1ung1MhEyMlJXOOtiG8r7JcBgXVPhZBHkJONyTB6jKG470UyqGPWn4aDPnisgtT2ZCZAwQIjQgZAZBufZBJXmHz6mPKSgdmP6ikDA87vocZBay2dfQdz1OYezmYbxwfILXUvXtjUMZAniQZDZD'}}}\n",
      " [.] Got %r None\n"
     ]
    },
    {
     "name": "stderr",
     "output_type": "stream",
     "text": [
      "127.0.0.1 - - [18/Mar/2021 23:52:30] \"\u001b[37mPOST /apiREST/v1 HTTP/1.1\u001b[0m\" 200 -\n",
      "127.0.0.1 - - [18/Mar/2021 23:52:30] \"\u001b[37mPOST /apiREST/v1 HTTP/1.1\u001b[0m\" 200 -\n"
     ]
    },
    {
     "name": "stdout",
     "output_type": "stream",
     "text": [
      "\n",
      "_________________________________________________________________________________________________________________________\n",
      "Mesaje de la API de Facebook-> \n",
      " {'object': 'page', 'entry': [{'id': '111445520541316', 'time': 1616133149863, 'messaging': [{'sender': {'id': '3452826248079358'}, 'recipient': {'id': '111445520541316'}, 'timestamp': 1616133149949, 'read': {'watermark': 1616133149324}}]}]}\n",
      "hilo consume\n",
      "\n",
      "\n",
      "---------------------------------------------------------------------------\n",
      "mensaje enviado a la API de facebook:\n",
      " {'message': {'text': 'Hola, soy un chatbot y esto es un mensaje de prueba y adios'}, 'recipient': {'id': '111445520541316'}, 'notification_type': 'REGULAR'}\n",
      " [.] Got %r None\n",
      " [.] Got %r None\n",
      "\n",
      "_________________________________________________________________________________________________________________________\n",
      "Mesaje de la API de Facebook-> \n",
      " {'object': 'page', 'entry': [{'id': '111445520541316', 'time': 1616133150074, 'messaging': [{'sender': {'id': '111445520541316'}, 'recipient': {'id': '3452826248079358'}, 'timestamp': 1616133149542, 'message': {'mid': 'm_bKpq-vcLYkCHE_x78epywTrxWOlmWInsffZ5UHcOgUI0jNpuKCwJg4YPgdy8m4DiBNYuLDgaDw71fu4Bn1_4Pg', 'is_echo': True, 'text': 'introduce tu correo', 'app_id': 843376636183033}}]}]}\n",
      "[{'sender': {'id': '111445520541316'}, 'recipient': {'id': '3452826248079358'}, 'timestamp': 1616133149542, 'message': {'mid': 'm_bKpq-vcLYkCHE_x78epywTrxWOlmWInsffZ5UHcOgUI0jNpuKCwJg4YPgdy8m4DiBNYuLDgaDw71fu4Bn1_4Pg', 'is_echo': True, 'text': 'introduce tu correo', 'app_id': 843376636183033}}]\n",
      "hilo consume\n",
      "\n",
      "______________________________________________no read__________________________________________________________________________\n",
      "\n",
      "\t\tMensaje enviado al Nucleo Logico->\n",
      "  {\"payload\": {\"robot\": \"none\", \"id_face\": \"111445520541316\", \"recipient_id\": \"111445520541316\", \"access_token\": \"none\", \"content\": \"introduce tu correo\", \"type_resp\": \"message\", \"state\": \"none\", \"blocktype\": \"none\", \"opciones\": \"none\", \"entities\": {}}}\n",
      "\n",
      "_________________________________________________________________________________________________________________________\n",
      "\t\t\n",
      "Respuesta del Nucleo Logico->  {'Respuesta': {'content': 'Hola, soy un chatbot y esto es un mensaje de prueba y adios', 'next_id': 'prueba_captura', 'blockType': 'informativo', 'contentType': 'text', 'typingTime': '3', 'payload': {'content': '', 'state': 'prueba_inicio', 'recipient_id': '111445520541316', 'entities': {}, 'access_token': 'EAALZCCZBzPwfkBAAo7njAlW7s4DTj1ZCs5v1ung1MhEyMlJXOOtiG8r7JcBgXVPhZBHkJONyTB6jKG470UyqGPWn4aDPnisgtT2ZCZAwQIjQgZAZBufZBJXmHz6mPKSgdmP6ikDA87vocZBay2dfQdz1OYezmYbxwfILXUvXtjUMZAniQZDZD'}}}\n",
      "\n",
      "\n",
      "---------------------------------------------------------------------------\n",
      "mensaje enviado a la API de facebook:\n",
      " {'message': {'text': 'Hola, soy un chatbot y esto es un mensaje de prueba y adios'}, 'recipient': {'id': '111445520541316'}, 'notification_type': 'REGULAR'}\n",
      " [.] Got %r None"
     ]
    },
    {
     "name": "stderr",
     "output_type": "stream",
     "text": [
      "127.0.0.1 - - [18/Mar/2021 23:52:35] \"\u001b[37mPOST /apiREST/v1 HTTP/1.1\u001b[0m\" 200 -\n",
      "127.0.0.1 - - [18/Mar/2021 23:52:35] \"\u001b[37mPOST /apiREST/v1 HTTP/1.1\u001b[0m\" 200 -\n"
     ]
    },
    {
     "name": "stdout",
     "output_type": "stream",
     "text": [
      "\n",
      "\n",
      "_________________________________________________________________________________________________________________________\n",
      "Mesaje de la API de Facebook-> \n",
      " {'object': 'page', 'entry': [{'id': '111445520541316', 'time': 1616133155249, 'messaging': [{'sender': {'id': '3452826248079358'}, 'recipient': {'id': '111445520541316'}, 'timestamp': 1616133155438, 'read': {'watermark': 1616133154756}}]}]}\n",
      "hilo consume\n",
      "\n",
      "_________________________________________________________________________________________________________________________\n",
      "Mesaje de la API de Facebook-> \n",
      " {'object': 'page', 'entry': [{'id': '111445520541316', 'time': 1616133155441, 'messaging': [{'sender': {'id': '3452826248079358'}, 'recipient': {'id': '111445520541316'}, 'timestamp': 1616133155282, 'message': {'mid': 'm_eeZoKcvAGZqNEBQRpgpKgjrxWOlmWInsffZ5UHcOgUIxVQo8B79FYB9dqn2T9DTfig5JzuVuOs09ykgl8kKEag', 'text': 'card@hotmail.com'}}]}]}\n",
      " [.] Got %r None\n",
      "[{'sender': {'id': '3452826248079358'}, 'recipient': {'id': '111445520541316'}, 'timestamp': 1616133155282, 'message': {'mid': 'm_eeZoKcvAGZqNEBQRpgpKgjrxWOlmWInsffZ5UHcOgUIxVQo8B79FYB9dqn2T9DTfig5JzuVuOs09ykgl8kKEag', 'text': 'card@hotmail.com'}}]\n",
      "hilo consume\n",
      "\n",
      "______________________________________________no read__________________________________________________________________________\n",
      "\n",
      "\t\tMensaje enviado al Nucleo Logico->\n",
      "  {\"payload\": {\"robot\": \"none\", \"id_face\": \"111445520541316\", \"recipient_id\": \"3452826248079358\", \"access_token\": \"none\", \"content\": \"card@hotmail.com\", \"type_resp\": \"message\", \"state\": \"none\", \"blocktype\": \"none\", \"opciones\": \"none\", \"entities\": {}}}\n"
     ]
    },
    {
     "name": "stderr",
     "output_type": "stream",
     "text": [
      "127.0.0.1 - - [18/Mar/2021 23:52:35] \"\u001b[37mPOST /apiREST/v1 HTTP/1.1\u001b[0m\" 200 -\n"
     ]
    },
    {
     "name": "stdout",
     "output_type": "stream",
     "text": [
      "\n",
      "_________________________________________________________________________________________________________________________\n",
      "Mesaje de la API de Facebook-> \n",
      " {'object': 'page', 'entry': [{'id': '111445520541316', 'time': 1616133155619, 'messaging': [{'sender': {'id': '3452826248079358'}, 'recipient': {'id': '111445520541316'}, 'timestamp': 1616133155691, 'read': {'watermark': 1616133154844}}]}]}\n",
      "hilo consume\n"
     ]
    },
    {
     "name": "stderr",
     "output_type": "stream",
     "text": [
      "127.0.0.1 - - [18/Mar/2021 23:52:36] \"\u001b[37mPOST /apiREST/v1 HTTP/1.1\u001b[0m\" 200 -\n"
     ]
    },
    {
     "name": "stdout",
     "output_type": "stream",
     "text": [
      "\n",
      "_________________________________________________________________________________________________________________________\n",
      "Mesaje de la API de Facebook-> \n",
      " {'object': 'page', 'entry': [{'id': '111445520541316', 'time': 1616133155842, 'messaging': [{'sender': {'id': '3452826248079358'}, 'recipient': {'id': '111445520541316'}, 'timestamp': 1616133155984, 'read': {'watermark': 1616133155153}}]}]}\n",
      "hilo consume\n",
      "\n",
      "_________________________________________________________________________________________________________________________\n",
      "\t\t\n",
      "Respuesta del Nucleo Logico->  {'Respuesta': {'content': '¿Cuál es tu correo?', 'next_id': 'prueba_dos,prueba_slide', 'blockType': 'quickReply', 'contentType': ' ', 'typingTime': '3', 'payload': {'content': '', 'state': 'pruebaCorreo_01inicial_inicial', 'recipient_id': '3452826248079358', 'entities': {'email': 'card@hotmail.com'}, 'access_token': 'EAALZCCZBzPwfkBAAo7njAlW7s4DTj1ZCs5v1ung1MhEyMlJXOOtiG8r7JcBgXVPhZBHkJONyTB6jKG470UyqGPWn4aDPnisgtT2ZCZAwQIjQgZAZBufZBJXmHz6mPKSgdmP6ikDA87vocZBay2dfQdz1OYezmYbxwfILXUvXtjUMZAniQZDZD'}, 'options': ['email', 'otro'], 'default_id': 'prueba_qa', 'save_var': '0'}}\n",
      " [.] Got %r None\n",
      " [.] Got %r None\n",
      "\n",
      "\n",
      "---------------------------------------------------------------------------\n",
      "mensaje enviado a la API de facebook:\n",
      " {'message': {'attachment': {'type': 'template', 'payload': {'template_type': 'button', 'text': '¿Cuál es tu correo?', 'buttons': [{'title': 'email', 'type': 'postback', 'payload': 'email'}, {'title': 'otro', 'type': 'postback', 'payload': 'otro'}]}}}, 'recipient': {'id': '3452826248079358'}, 'notification_type': 'REGULAR'}\n",
      " [.] Got %r None\n"
     ]
    },
    {
     "name": "stderr",
     "output_type": "stream",
     "text": [
      "127.0.0.1 - - [18/Mar/2021 23:52:37] \"\u001b[37mPOST /apiREST/v1 HTTP/1.1\u001b[0m\" 200 -\n",
      "127.0.0.1 - - [18/Mar/2021 23:52:37] \"\u001b[37mPOST /apiREST/v1 HTTP/1.1\u001b[0m\" 200 -\n"
     ]
    },
    {
     "name": "stdout",
     "output_type": "stream",
     "text": [
      "\n",
      "_________________________________________________________________________________________________________________________\n",
      "Mesaje de la API de Facebook-> \n",
      " {'object': 'page', 'entry': [{'id': '111445520541316', 'time': 1616133157391, 'messaging': [{'sender': {'id': '111445520541316'}, 'recipient': {'id': '3452826248079358'}, 'timestamp': 1616133157333, 'message': {'mid': 'm_fzbTos5GIluAlapzjcaGhzrxWOlmWInsffZ5UHcOgULElbGWCL73xxwcTSWLgG8ismd0bdFjb2tAMrwXwqX-SA', 'is_echo': True, 'text': '¿Cuál es tu correo?', 'app_id': 843376636183033, 'attachments': [{'title': '', 'url': None, 'type': 'template', 'payload': {'template_type': 'button', 'buttons': [{'type': 'postback', 'title': 'email', 'payload': 'email'}, {'type': 'postback', 'title': 'otro', 'payload': 'otro'}]}}]}}]}]}\n",
      "[{'sender': {'id': '111445520541316'}, 'recipient': {'id': '3452826248079358'}, 'timestamp': 1616133157333, 'message': {'mid': 'm_fzbTos5GIluAlapzjcaGhzrxWOlmWInsffZ5UHcOgULElbGWCL73xxwcTSWLgG8ismd0bdFjb2tAMrwXwqX-SA', 'is_echo': True, 'text': '¿Cuál es tu correo?', 'app_id': 843376636183033, 'attachments': [{'title': '', 'url': None, 'type': 'template', 'payload': {'template_type': 'button', 'buttons': [{'type': 'postback', 'title': 'email', 'payload': 'email'}, {'type': 'postback', 'title': 'otro', 'payload': 'otro'}]}}]}}]\n",
      "hilo consume\n",
      "\n",
      "______________________________________________no read__________________________________________________________________________\n",
      "\n",
      "\t\tMensaje enviado al Nucleo Logico->\n",
      "  {\"payload\": {\"robot\": \"none\", \"id_face\": \"111445520541316\", \"recipient_id\": \"111445520541316\", \"access_token\": \"none\", \"content\": \"\\u00bfCu\\u00e1l es tu correo?\", \"type_resp\": \"message\", \"state\": \"none\", \"blocktype\": \"none\", \"opciones\": \"none\", \"entities\": {}}}\n",
      "\n",
      "_________________________________________________________________________________________________________________________\n",
      "Mesaje de la API de Facebook-> \n",
      " {'object': 'page', 'entry': [{'id': '111445520541316', 'time': 1616133157575, 'messaging': [{'sender': {'id': '3452826248079358'}, 'recipient': {'id': '111445520541316'}, 'timestamp': 1616133157608, 'delivery': {'mids': ['m_fzbTos5GIluAlapzjcaGhzrxWOlmWInsffZ5UHcOgULElbGWCL73xxwcTSWLgG8ismd0bdFjb2tAMrwXwqX-SA'], 'watermark': 1616133157333}}]}]}\n"
     ]
    },
    {
     "name": "stderr",
     "output_type": "stream",
     "text": [
      "127.0.0.1 - - [18/Mar/2021 23:52:38] \"\u001b[37mPOST /apiREST/v1 HTTP/1.1\u001b[0m\" 200 -\n"
     ]
    },
    {
     "name": "stdout",
     "output_type": "stream",
     "text": [
      "\n",
      "_________________________________________________________________________________________________________________________\n",
      "\t\t\n",
      "Respuesta del Nucleo Logico->  {'Respuesta': {'content': 'Hola, soy un chatbot y esto es un mensaje de prueba y adios', 'next_id': 'prueba_captura', 'blockType': 'informativo', 'contentType': 'text', 'typingTime': '3', 'payload': {'content': '', 'state': 'prueba_inicio', 'recipient_id': '111445520541316', 'entities': {}, 'access_token': 'EAALZCCZBzPwfkBAAo7njAlW7s4DTj1ZCs5v1ung1MhEyMlJXOOtiG8r7JcBgXVPhZBHkJONyTB6jKG470UyqGPWn4aDPnisgtT2ZCZAwQIjQgZAZBufZBJXmHz6mPKSgdmP6ikDA87vocZBay2dfQdz1OYezmYbxwfILXUvXtjUMZAniQZDZD'}}}\n",
      "\n",
      "_________________________________________________________________________________________________________________________\n",
      "Mesaje de la API de Facebook-> \n",
      " {'object': 'page', 'entry': [{'id': '111445520541316', 'time': 1616133157765, 'messaging': [{'sender': {'id': '3452826248079358'}, 'recipient': {'id': '111445520541316'}, 'timestamp': 1616133157919, 'read': {'watermark': 1616133157258}}]}]}\n",
      "hilo consume\n",
      " [.] Got %r None\n",
      "\n",
      "\n",
      "---------------------------------------------------------------------------\n",
      "mensaje enviado a la API de facebook:\n",
      " {'message': {'text': 'Hola, soy un chatbot y esto es un mensaje de prueba y adios'}, 'recipient': {'id': '111445520541316'}, 'notification_type': 'REGULAR'}\n",
      " [.] Got %r None\n"
     ]
    },
    {
     "name": "stderr",
     "output_type": "stream",
     "text": [
      "127.0.0.1 - - [18/Mar/2021 23:52:44] \"\u001b[37mPOST /apiREST/v1 HTTP/1.1\u001b[0m\" 200 -\n"
     ]
    },
    {
     "name": "stdout",
     "output_type": "stream",
     "text": [
      "\n",
      "_________________________________________________________________________________________________________________________\n",
      "Mesaje de la API de Facebook-> \n",
      " {'object': 'page', 'entry': [{'id': '111445520541316', 'time': 1616133164702, 'messaging': [{'sender': {'id': '3452826248079358'}, 'recipient': {'id': '111445520541316'}, 'timestamp': 1616133164810, 'read': {'watermark': 1616133164152}}]}]}\n",
      "hilo consume\n",
      " [.] Got %r None\n"
     ]
    },
    {
     "name": "stderr",
     "output_type": "stream",
     "text": [
      "127.0.0.1 - - [18/Mar/2021 23:52:46] \"\u001b[37mPOST /apiREST/v1 HTTP/1.1\u001b[0m\" 200 -\n",
      "127.0.0.1 - - [18/Mar/2021 23:52:46] \"\u001b[37mPOST /apiREST/v1 HTTP/1.1\u001b[0m\" 200 -\n"
     ]
    },
    {
     "name": "stdout",
     "output_type": "stream",
     "text": [
      "\n",
      "_________________________________________________________________________________________________________________________\n",
      "Mesaje de la API de Facebook-> \n",
      " {'object': 'page', 'entry': [{'id': '111445520541316', 'time': 1616133165898, 'messaging': [{'sender': {'id': '3452826248079358'}, 'recipient': {'id': '111445520541316'}, 'timestamp': 1616133165992, 'read': {'watermark': 1616133165365}}]}]}\n",
      "\n",
      "_________________________________________________________________________________________________________________________\n",
      "Mesaje de la API de Facebook-> \n",
      " {'object': 'page', 'entry': [{'id': '111445520541316', 'time': 1616133165898, 'messaging': [{'sender': {'id': '3452826248079358'}, 'recipient': {'id': '111445520541316'}, 'timestamp': 1616133165993, 'read': {'watermark': 1616133165431}}]}]}\n",
      "hilo consume\n",
      "hilo consume\n",
      " [.] Got %r None\n"
     ]
    },
    {
     "name": "stderr",
     "output_type": "stream",
     "text": [
      "127.0.0.1 - - [18/Mar/2021 23:52:46] \"\u001b[37mPOST /apiREST/v1 HTTP/1.1\u001b[0m\" 200 -\n",
      "127.0.0.1 - - [18/Mar/2021 23:52:46] \"\u001b[37mPOST /apiREST/v1 HTTP/1.1\u001b[0m\" 200 -\n"
     ]
    },
    {
     "name": "stdout",
     "output_type": "stream",
     "text": [
      " [.] Got %r None\n",
      "\n",
      "_________________________________________________________________________________________________________________________\n",
      "Mesaje de la API de Facebook-> \n",
      " {'object': 'page', 'entry': [{'id': '111445520541316', 'time': 1616133166128, 'messaging': [{'sender': {'id': '3452826248079358'}, 'recipient': {'id': '111445520541316'}, 'timestamp': 1616133165936, 'postback': {'title': 'email', 'payload': 'email'}}]}]}\n",
      "hilo consume\n",
      "\n",
      "______________________________________________no read__________________________________________________________________________\n",
      "\n",
      "\t\tMensaje enviado al Nucleo Logico->\n",
      "  {\"payload\": {\"robot\": \"none\", \"id_face\": \"111445520541316\", \"recipient_id\": \"3452826248079358\", \"access_token\": \"none\", \"content\": \"email\", \"type_resp\": \"postback\", \"state\": \"none\", \"blocktype\": \"none\", \"opciones\": \"none\", \"entities\": {}}}\n",
      "\n",
      "_________________________________________________________________________________________________________________________\n",
      "Mesaje de la API de Facebook-> \n",
      " {'object': 'page', 'entry': [{'id': '111445520541316', 'time': 1616133166290, 'messaging': [{'sender': {'id': '3452826248079358'}, 'recipient': {'id': '111445520541316'}, 'timestamp': 1616133166319, 'read': {'watermark': 1616133165832}}]}]}\n",
      "hilo consume\n",
      "\n",
      "_________________________________________________________________________________________________________________________\n",
      "\t\t\n",
      "Respuesta del Nucleo Logico->  {'Respuesta': {'content': 'Puedo hacer muchas cosas, entre ellas despedirme. Adios', 'next_id': '', 'blockType': 'informativo', 'contentType': 'text', 'typingTime': '3', 'payload': {'content': '', 'state': 'prueba_dos', 'recipient_id': '3452826248079358', 'entities': {'email': 'card@hotmail.com', 'var_case': 'email'}, 'access_token': 'EAALZCCZBzPwfkBAAo7njAlW7s4DTj1ZCs5v1ung1MhEyMlJXOOtiG8r7JcBgXVPhZBHkJONyTB6jKG470UyqGPWn4aDPnisgtT2ZCZAwQIjQgZAZBufZBJXmHz6mPKSgdmP6ikDA87vocZBay2dfQdz1OYezmYbxwfILXUvXtjUMZAniQZDZD'}}}\n",
      "\n",
      "\n",
      "---------------------------------------------------------------------------\n",
      "mensaje enviado a la API de facebook:\n",
      " {'message': {'text': 'Puedo hacer muchas cosas, entre ellas despedirme. Adios'}, 'recipient': {'id': '3452826248079358'}, 'notification_type': 'REGULAR'}\n",
      " [.] Got %r None\n"
     ]
    },
    {
     "name": "stderr",
     "output_type": "stream",
     "text": [
      "127.0.0.1 - - [18/Mar/2021 23:52:47] \"\u001b[37mPOST /apiREST/v1 HTTP/1.1\u001b[0m\" 200 -\n",
      "127.0.0.1 - - [18/Mar/2021 23:52:47] \"\u001b[37mPOST /apiREST/v1 HTTP/1.1\u001b[0m\" 200 -\n"
     ]
    },
    {
     "name": "stdout",
     "output_type": "stream",
     "text": [
      "\n",
      "_________________________________________________________________________________________________________________________\n",
      "Mesaje de la API de Facebook-> \n",
      " {'object': 'page', 'entry': [{'id': '111445520541316', 'time': 1616133167622, 'messaging': [{'sender': {'id': '111445520541316'}, 'recipient': {'id': '3452826248079358'}, 'timestamp': 1616133167564, 'message': {'mid': 'm_wq8nK1exBzxUlDtk579t3jrxWOlmWInsffZ5UHcOgUK42MZzCYrch-IyzvdC73fd9zCoy7Ec4JtzmoUb_HmFVg', 'is_echo': True, 'text': 'Puedo hacer muchas cosas, entre ellas despedirme. Adios', 'app_id': 843376636183033}}]}]}\n",
      "[{'sender': {'id': '111445520541316'}, 'recipient': {'id': '3452826248079358'}, 'timestamp': 1616133167564, 'message': {'mid': 'm_wq8nK1exBzxUlDtk579t3jrxWOlmWInsffZ5UHcOgUK42MZzCYrch-IyzvdC73fd9zCoy7Ec4JtzmoUb_HmFVg', 'is_echo': True, 'text': 'Puedo hacer muchas cosas, entre ellas despedirme. Adios', 'app_id': 843376636183033}}]\n",
      "hilo consume\n",
      "\n",
      "______________________________________________no read__________________________________________________________________________\n",
      "\n",
      "\t\tMensaje enviado al Nucleo Logico->\n",
      "  {\"payload\": {\"robot\": \"none\", \"id_face\": \"111445520541316\", \"recipient_id\": \"111445520541316\", \"access_token\": \"none\", \"content\": \"Puedo hacer muchas cosas, entre ellas despedirme. Adios\", \"type_resp\": \"message\", \"state\": \"none\", \"blocktype\": \"none\", \"opciones\": \"none\", \"entities\": {}}}\n",
      "\n",
      "_________________________________________________________________________________________________________________________\n",
      "Mesaje de la API de Facebook-> \n",
      " {'object': 'page', 'entry': [{'id': '111445520541316', 'time': 1616133167728, 'messaging': [{'sender': {'id': '3452826248079358'}, 'recipient': {'id': '111445520541316'}, 'timestamp': 1616133167759, 'delivery': {'mids': ['m_wq8nK1exBzxUlDtk579t3jrxWOlmWInsffZ5UHcOgUK42MZzCYrch-IyzvdC73fd9zCoy7Ec4JtzmoUb_HmFVg'], 'watermark': 1616133167564}}]}]}\n"
     ]
    },
    {
     "name": "stderr",
     "output_type": "stream",
     "text": [
      "127.0.0.1 - - [18/Mar/2021 23:52:48] \"\u001b[37mPOST /apiREST/v1 HTTP/1.1\u001b[0m\" 200 -\n"
     ]
    },
    {
     "name": "stdout",
     "output_type": "stream",
     "text": [
      "\n",
      "_________________________________________________________________________________________________________________________\n",
      "Mesaje de la API de Facebook-> \n",
      " {'object': 'page', 'entry': [{'id': '111445520541316', 'time': 1616133167822, 'messaging': [{'sender': {'id': '3452826248079358'}, 'recipient': {'id': '111445520541316'}, 'timestamp': 1616133167944, 'read': {'watermark': 1616133167355}}]}]}\n",
      "hilo consume\n"
     ]
    },
    {
     "name": "stderr",
     "output_type": "stream",
     "text": [
      "127.0.0.1 - - [18/Mar/2021 23:54:00] \"\u001b[37mPOST /apiREST/v1 HTTP/1.1\u001b[0m\" 200 -\n"
     ]
    },
    {
     "name": "stdout",
     "output_type": "stream",
     "text": [
      "\n",
      "_________________________________________________________________________________________________________________________\n",
      "Mesaje de la API de Facebook-> \n",
      " {'object': 'page', 'entry': [{'id': '111445520541316', 'time': 1616133240502, 'messaging': [{'sender': {'id': '3452826248079358'}, 'recipient': {'id': '111445520541316'}, 'timestamp': 1616133240558, 'read': {'watermark': 1616133239944}}]}]}\n",
      "hilo consume\n"
     ]
    },
    {
     "name": "stderr",
     "output_type": "stream",
     "text": [
      "127.0.0.1 - - [18/Mar/2021 23:54:49] \"\u001b[37mPOST /apiREST/v1 HTTP/1.1\u001b[0m\" 200 -\n"
     ]
    },
    {
     "name": "stdout",
     "output_type": "stream",
     "text": [
      "\n",
      "_________________________________________________________________________________________________________________________\n",
      "Mesaje de la API de Facebook-> \n",
      " {'object': 'page', 'entry': [{'id': '111445520541316', 'time': 1616133289384, 'messaging': [{'sender': {'id': '3452826248079358'}, 'recipient': {'id': '111445520541316'}, 'timestamp': 1616133289621, 'read': {'watermark': 1616133288870}}]}]}\n",
      "hilo consume\n",
      " [.] Got %r None\n"
     ]
    },
    {
     "name": "stderr",
     "output_type": "stream",
     "text": [
      "127.0.0.1 - - [18/Mar/2021 23:54:52] \"\u001b[37mPOST /apiREST/v1 HTTP/1.1\u001b[0m\" 200 -\n"
     ]
    },
    {
     "name": "stdout",
     "output_type": "stream",
     "text": [
      "\n",
      "_________________________________________________________________________________________________________________________\n",
      "Mesaje de la API de Facebook-> \n",
      " {'object': 'page', 'entry': [{'id': '111445520541316', 'time': 1616133292695, 'messaging': [{'sender': {'id': '3452826248079358'}, 'recipient': {'id': '111445520541316'}, 'timestamp': 1616133292761, 'read': {'watermark': 1616133292176}}]}]}\n",
      "hilo consume\n",
      " [.] Got %r None\n"
     ]
    },
    {
     "name": "stderr",
     "output_type": "stream",
     "text": [
      "127.0.0.1 - - [18/Mar/2021 23:54:55] \"\u001b[37mPOST /apiREST/v1 HTTP/1.1\u001b[0m\" 200 -\n"
     ]
    },
    {
     "name": "stdout",
     "output_type": "stream",
     "text": [
      "\n",
      "_________________________________________________________________________________________________________________________\n",
      "Mesaje de la API de Facebook-> \n",
      " {'object': 'page', 'entry': [{'id': '111445520541316', 'time': 1616133295341, 'messaging': [{'sender': {'id': '3452826248079358'}, 'recipient': {'id': '111445520541316'}, 'timestamp': 1616133295480, 'read': {'watermark': 1616133294797}}]}]}\n",
      "hilo consume\n",
      " [.] Got %r None\n"
     ]
    },
    {
     "name": "stderr",
     "output_type": "stream",
     "text": [
      "127.0.0.1 - - [18/Mar/2021 23:54:59] \"\u001b[37mPOST /apiREST/v1 HTTP/1.1\u001b[0m\" 200 -\n"
     ]
    },
    {
     "name": "stdout",
     "output_type": "stream",
     "text": [
      "\n",
      "_________________________________________________________________________________________________________________________\n",
      "Mesaje de la API de Facebook-> \n",
      " {'object': 'page', 'entry': [{'id': '111445520541316', 'time': 1616133299395, 'messaging': [{'sender': {'id': '3452826248079358'}, 'recipient': {'id': '111445520541316'}, 'timestamp': 1616133299452, 'read': {'watermark': 1616133298833}}]}]}\n",
      "hilo consume\n",
      " [.] Got %r None\n"
     ]
    },
    {
     "name": "stderr",
     "output_type": "stream",
     "text": [
      "127.0.0.1 - - [18/Mar/2021 23:55:06] \"\u001b[37mPOST /apiREST/v1 HTTP/1.1\u001b[0m\" 200 -\n",
      "127.0.0.1 - - [18/Mar/2021 23:55:06] \"\u001b[37mPOST /apiREST/v1 HTTP/1.1\u001b[0m\" 200 -\n",
      "127.0.0.1 - - [18/Mar/2021 23:55:06] \"\u001b[37mPOST /apiREST/v1 HTTP/1.1\u001b[0m\" 200 -\n"
     ]
    },
    {
     "name": "stdout",
     "output_type": "stream",
     "text": [
      "\n",
      "_________________________________________________________________________________________________________________________\n",
      "Mesaje de la API de Facebook-> \n",
      " {'object': 'page', 'entry': [{'id': '111445520541316', 'time': 1616133305651, 'messaging': [{'sender': {'id': '3452826248079358'}, 'recipient': {'id': '111445520541316'}, 'timestamp': 1616133306255, 'read': {'watermark': 1616133305162}}]}]}\n",
      "hilo consume\n",
      "\n",
      "_________________________________________________________________________________________________________________________\n",
      "Mesaje de la API de Facebook-> \n",
      " {'object': 'page', 'entry': [{'id': '111445520541316', 'time': 1616133306156, 'messaging': [{'sender': {'id': '3452826248079358'}, 'recipient': {'id': '111445520541316'}, 'timestamp': 1616133305998, 'message': {'mid': 'm_Hvzxc4DlMhISSKGNRiqa5DrxWOlmWInsffZ5UHcOgUJHptRC2qHaNbzs4wIdAosBFIV2L-wlRdpj6e_r4UA8PQ', 'text': 'Hola'}}]}]}\n",
      "[{'sender': {'id': '3452826248079358'}, 'recipient': {'id': '111445520541316'}, 'timestamp': 1616133305998, 'message': {'mid': 'm_Hvzxc4DlMhISSKGNRiqa5DrxWOlmWInsffZ5UHcOgUJHptRC2qHaNbzs4wIdAosBFIV2L-wlRdpj6e_r4UA8PQ', 'text': 'Hola'}}]\n",
      "hilo consume\n",
      "\n",
      "______________________________________________no read__________________________________________________________________________\n",
      "\n",
      "\t\tMensaje enviado al Nucleo Logico->\n",
      "  {\"payload\": {\"robot\": \"none\", \"id_face\": \"111445520541316\", \"recipient_id\": \"3452826248079358\", \"access_token\": \"none\", \"content\": \"Hola\", \"type_resp\": \"message\", \"state\": \"none\", \"blocktype\": \"none\", \"opciones\": \"none\", \"entities\": {}}}\n",
      " [.] Got %r None\n",
      "\n",
      "_________________________________________________________________________________________________________________________\n",
      "Mesaje de la API de Facebook-> \n",
      " {'object': 'page', 'entry': [{'id': '111445520541316', 'time': 1616133306360, 'messaging': [{'sender': {'id': '3452826248079358'}, 'recipient': {'id': '111445520541316'}, 'timestamp': 1616133306389, 'read': {'watermark': 1616133305223}}]}]}\n",
      "hilo consume\n"
     ]
    },
    {
     "name": "stderr",
     "output_type": "stream",
     "text": [
      "127.0.0.1 - - [18/Mar/2021 23:55:06] \"\u001b[37mPOST /apiREST/v1 HTTP/1.1\u001b[0m\" 200 -\n"
     ]
    },
    {
     "name": "stdout",
     "output_type": "stream",
     "text": [
      "\n",
      "_________________________________________________________________________________________________________________________\n",
      "Mesaje de la API de Facebook-> \n",
      " {'object': 'page', 'entry': [{'id': '111445520541316', 'time': 1616133306493, 'messaging': [{'sender': {'id': '3452826248079358'}, 'recipient': {'id': '111445520541316'}, 'timestamp': 1616133306527, 'read': {'watermark': 1616133305993}}]}]}\n",
      "hilo consume\n",
      "\n",
      "_________________________________________________________________________________________________________________________\n",
      "\t\t\n",
      "Respuesta del Nucleo Logico->  {'Respuesta': {'content': 'Hola, soy un chatbot y esto es un mensaje de prueba y adios', 'next_id': 'prueba_captura', 'blockType': 'informativo', 'contentType': 'text', 'typingTime': '3', 'payload': {'content': '', 'state': 'prueba_inicio', 'recipient_id': '3452826248079358', 'entities': {}, 'access_token': 'EAALZCCZBzPwfkBAAo7njAlW7s4DTj1ZCs5v1ung1MhEyMlJXOOtiG8r7JcBgXVPhZBHkJONyTB6jKG470UyqGPWn4aDPnisgtT2ZCZAwQIjQgZAZBufZBJXmHz6mPKSgdmP6ikDA87vocZBay2dfQdz1OYezmYbxwfILXUvXtjUMZAniQZDZD'}}}\n",
      "\n",
      "\n",
      "---------------------------------------------------------------------------\n",
      "mensaje enviado a la API de facebook:\n",
      " {'message': {'text': 'Hola, soy un chatbot y esto es un mensaje de prueba y adios'}, 'recipient': {'id': '3452826248079358'}, 'notification_type': 'REGULAR'}\n",
      " [.] Got %r None\n",
      "\n",
      "_________________________________________________________________________________________________________________________\n",
      "\t\t\n",
      "Respuesta del Nucleo Logico->  {'Respuesta': {'content': 'introduce tu correo', 'next_id': 'pruebaCorreo_01inicial_inicial', 'blockType': 'input', 'contentType': 'text', 'typingTime': '3', 'payload': {'content': '', 'state': 'prueba_captura', 'recipient_id': '3452826248079358', 'entities': {}, 'access_token': 'EAALZCCZBzPwfkBAAo7njAlW7s4DTj1ZCs5v1ung1MhEyMlJXOOtiG8r7JcBgXVPhZBHkJONyTB6jKG470UyqGPWn4aDPnisgtT2ZCZAwQIjQgZAZBufZBJXmHz6mPKSgdmP6ikDA87vocZBay2dfQdz1OYezmYbxwfILXUvXtjUMZAniQZDZD'}, 'validacion': '^[a-z0-9]+[\\\\._]?[a-z0-9]+[@]\\\\w+[.]\\\\w{2,3}$', 'default_id': 'prueba_captura'}}\n",
      " [.] Got %r None\n"
     ]
    },
    {
     "name": "stderr",
     "output_type": "stream",
     "text": [
      "127.0.0.1 - - [18/Mar/2021 23:55:07] \"\u001b[37mPOST /apiREST/v1 HTTP/1.1\u001b[0m\" 200 -\n",
      "127.0.0.1 - - [18/Mar/2021 23:55:07] \"\u001b[37mPOST /apiREST/v1 HTTP/1.1\u001b[0m\" 200 -\n"
     ]
    },
    {
     "name": "stdout",
     "output_type": "stream",
     "text": [
      "\n",
      "_________________________________________________________________________________________________________________________\n",
      "Mesaje de la API de Facebook-> \n",
      " {'object': 'page', 'entry': [{'id': '111445520541316', 'time': 1616133307657, 'messaging': [{'sender': {'id': '111445520541316'}, 'recipient': {'id': '3452826248079358'}, 'timestamp': 1616133307596, 'message': {'mid': 'm_ex0KVzEzviEfcKVG7ZZicTrxWOlmWInsffZ5UHcOgUJMrQ3P60QqElR3yHuUuI2GUbNGRi3e711DPA18Xfkxww', 'is_echo': True, 'text': 'Hola, soy un chatbot y esto es un mensaje de prueba y adios', 'app_id': 843376636183033}}]}]}\n",
      "[{'sender': {'id': '111445520541316'}, 'recipient': {'id': '3452826248079358'}, 'timestamp': 1616133307596, 'message': {'mid': 'm_ex0KVzEzviEfcKVG7ZZicTrxWOlmWInsffZ5UHcOgUJMrQ3P60QqElR3yHuUuI2GUbNGRi3e711DPA18Xfkxww', 'is_echo': True, 'text': 'Hola, soy un chatbot y esto es un mensaje de prueba y adios', 'app_id': 843376636183033}}]\n",
      "hilo consume\n",
      "\n",
      "______________________________________________no read__________________________________________________________________________\n",
      "\n",
      "\t\tMensaje enviado al Nucleo Logico->\n",
      "  {\"payload\": {\"robot\": \"none\", \"id_face\": \"111445520541316\", \"recipient_id\": \"111445520541316\", \"access_token\": \"none\", \"content\": \"Hola, soy un chatbot y esto es un mensaje de prueba y adios\", \"type_resp\": \"message\", \"state\": \"none\", \"blocktype\": \"none\", \"opciones\": \"none\", \"entities\": {}}}\n",
      "\n",
      "_________________________________________________________________________________________________________________________\n",
      "Mesaje de la API de Facebook-> \n",
      " {'object': 'page', 'entry': [{'id': '111445520541316', 'time': 1616133307763, 'messaging': [{'sender': {'id': '3452826248079358'}, 'recipient': {'id': '111445520541316'}, 'timestamp': 1616133307800, 'delivery': {'mids': ['m_ex0KVzEzviEfcKVG7ZZicTrxWOlmWInsffZ5UHcOgUJMrQ3P60QqElR3yHuUuI2GUbNGRi3e711DPA18Xfkxww'], 'watermark': 1616133307596}}]}]}\n",
      "\n",
      "\n",
      "---------------------------------------------------------------------------"
     ]
    },
    {
     "name": "stderr",
     "output_type": "stream",
     "text": [
      "127.0.0.1 - - [18/Mar/2021 23:55:08] \"\u001b[37mPOST /apiREST/v1 HTTP/1.1\u001b[0m\" 200 -\n"
     ]
    },
    {
     "name": "stdout",
     "output_type": "stream",
     "text": [
      "\n",
      "mensaje enviado a la API de facebook:\n",
      "\n",
      "_________________________________________________________________________________________________________________________ \n",
      "Mesaje de la API de Facebook-> \n",
      " {'object': 'page', 'entry': [{'id': '111445520541316', 'time': 1616133307845, 'messaging': [{'sender': {'id': '3452826248079358'}, 'recipient': {'id': '111445520541316'}, 'timestamp': 1616133307918, 'read': {'watermark': 1616133307376}}]}]}\n",
      "{'message': {'text': 'introduce tu correo'}, 'recipient': {'id': '3452826248079358'}, 'notification_type': 'REGULAR'}\n",
      " [.] Got %r None\n",
      "hilo consume\n",
      "\n",
      "_________________________________________________________________________________________________________________________\n",
      "\t\t\n",
      "Respuesta del Nucleo Logico->  {'Respuesta': {'content': 'Hola, soy un chatbot y esto es un mensaje de prueba y adios', 'next_id': 'prueba_captura', 'blockType': 'informativo', 'contentType': 'text', 'typingTime': '3', 'payload': {'content': '', 'state': 'prueba_inicio', 'recipient_id': '111445520541316', 'entities': {}, 'access_token': 'EAALZCCZBzPwfkBAAo7njAlW7s4DTj1ZCs5v1ung1MhEyMlJXOOtiG8r7JcBgXVPhZBHkJONyTB6jKG470UyqGPWn4aDPnisgtT2ZCZAwQIjQgZAZBufZBJXmHz6mPKSgdmP6ikDA87vocZBay2dfQdz1OYezmYbxwfILXUvXtjUMZAniQZDZD'}}}\n",
      " [.] Got %r None\n",
      "\n",
      "_________________________________________________________________________________________________________________________\n",
      "Mesaje de la API de Facebook-> \n",
      " {'object': 'page', 'entry': [{'id': '111445520541316', 'time': 1616133308247, 'messaging': [{'sender': {'id': '3452826248079358'}, 'recipient': {'id': '111445520541316'}, 'timestamp': 1616133308352, 'delivery': {'mids': ['m_ex0KVzEzviEfcKVG7ZZicTrxWOlmWInsffZ5UHcOgUJMrQ3P60QqElR3yHuUuI2GUbNGRi3e711DPA18Xfkxww'], 'watermark': 1616133307596}}]}]}\n",
      "\n",
      "\n",
      "---------------------------------------------------------------------------\n",
      "mensaje enviado a la API de facebook:\n",
      " "
     ]
    },
    {
     "name": "stderr",
     "output_type": "stream",
     "text": [
      "127.0.0.1 - - [18/Mar/2021 23:55:08] \"\u001b[37mPOST /apiREST/v1 HTTP/1.1\u001b[0m\" 200 -\n",
      "127.0.0.1 - - [18/Mar/2021 23:55:08] \"\u001b[37mPOST /apiREST/v1 HTTP/1.1\u001b[0m\" 200 -\n",
      "127.0.0.1 - - [18/Mar/2021 23:55:08] \"\u001b[37mPOST /apiREST/v1 HTTP/1.1\u001b[0m\" 200 -\n"
     ]
    },
    {
     "name": "stdout",
     "output_type": "stream",
     "text": [
      "{'message': {'text': 'Hola, soy un chatbot y esto es un mensaje de prueba y adios'}, 'recipient': {'id': '111445520541316'}, 'notification_type': 'REGULAR'}\n",
      " [.] Got %r None\n",
      "\n",
      "_________________________________________________________________________________________________________________________\n",
      "Mesaje de la API de Facebook-> \n",
      " {'object': 'page', 'entry': [{'id': '111445520541316', 'time': 1616133308465, 'messaging': [{'sender': {'id': '3452826248079358'}, 'recipient': {'id': '111445520541316'}, 'timestamp': 1616133308496, 'delivery': {'mids': ['m_l6g_s3OImLYfIg916BvzCzrxWOlmWInsffZ5UHcOgULAncZq9RHtFNOaUdD_vPsnfWTFYrADRcRKTF2dTMVHVA'], 'watermark': 1616133308293}}]}]}\n",
      "\n",
      "_________________________________________________________________________________________________________________________\n",
      "Mesaje de la API de Facebook-> \n",
      " {'object': 'page', 'entry': [{'id': '111445520541316', 'time': 1616133308354, 'messaging': [{'sender': {'id': '111445520541316'}, 'recipient': {'id': '3452826248079358'}, 'timestamp': 1616133308293, 'message': {'mid': 'm_l6g_s3OImLYfIg916BvzCzrxWOlmWInsffZ5UHcOgULAncZq9RHtFNOaUdD_vPsnfWTFYrADRcRKTF2dTMVHVA', 'is_echo': True, 'text': 'introduce tu correo', 'app_id': 843376636183033}}]}]}\n",
      "[{'sender': {'id': '111445520541316'}, 'recipient': {'id': '3452826248079358'}, 'timestamp': 1616133308293, 'message': {'mid': 'm_l6g_s3OImLYfIg916BvzCzrxWOlmWInsffZ5UHcOgULAncZq9RHtFNOaUdD_vPsnfWTFYrADRcRKTF2dTMVHVA', 'is_echo': True, 'text': 'introduce tu correo', 'app_id': 843376636183033}}]\n",
      "hilo consume\n",
      "\n",
      "______________________________________________no read__________________________________________________________________________\n",
      "\n",
      "\t\tMensaje enviado al Nucleo Logico->\n",
      "  {\"payload\": {\"robot\": \"none\", \"id_face\": \"111445520541316\", \"recipient_id\": \"111445520541316\", \"access_token\": \"none\", \"content\": \"introduce tu correo\", \"type_resp\": \"message\", \"state\": \"none\", \"blocktype\": \"none\", \"opciones\": \"none\", \"entities\": {}}}\n",
      "\n",
      "_________________________________________________________________________________________________________________________\n",
      "\t\t\n",
      "Respuesta del Nucleo Logico->  {'Respuesta': {'content': 'Hola, soy un chatbot y esto es un mensaje de prueba y adios', 'next_id': 'prueba_captura', 'blockType': 'informativo', 'contentType': 'text', 'typingTime': '3', 'payload': {'content': '', 'state': 'prueba_inicio', 'recipient_id': '111445520541316', 'entities': {}, 'access_token': 'EAALZCCZBzPwfkBAAo7njAlW7s4DTj1ZCs5v1ung1MhEyMlJXOOtiG8r7JcBgXVPhZBHkJONyTB6jKG470UyqGPWn4aDPnisgtT2ZCZAwQIjQgZAZBufZBJXmHz6mPKSgdmP6ikDA87vocZBay2dfQdz1OYezmYbxwfILXUvXtjUMZAniQZDZD'}}}\n",
      "\n",
      "\n",
      "---------------------------------------------------------------------------\n",
      "mensaje enviado a la API de facebook:\n",
      " {'message': {'text': 'Hola, soy un chatbot y esto es un mensaje de prueba y adios'}, 'recipient': {'id': '111445520541316'}, 'notification_type': 'REGULAR'}\n",
      " [.] Got %r None\n"
     ]
    },
    {
     "name": "stderr",
     "output_type": "stream",
     "text": [
      "127.0.0.1 - - [18/Mar/2021 23:55:09] \"\u001b[37mPOST /apiREST/v1 HTTP/1.1\u001b[0m\" 200 -\n"
     ]
    },
    {
     "name": "stdout",
     "output_type": "stream",
     "text": [
      "\n",
      "_________________________________________________________________________________________________________________________\n",
      "Mesaje de la API de Facebook-> \n",
      " {'object': 'page', 'entry': [{'id': '111445520541316', 'time': 1616133309279, 'messaging': [{'sender': {'id': '3452826248079358'}, 'recipient': {'id': '111445520541316'}, 'timestamp': 1616133309311, 'delivery': {'mids': ['m_l6g_s3OImLYfIg916BvzCzrxWOlmWInsffZ5UHcOgULAncZq9RHtFNOaUdD_vPsnfWTFYrADRcRKTF2dTMVHVA'], 'watermark': 1616133308293}}]}]}\n"
     ]
    },
    {
     "name": "stderr",
     "output_type": "stream",
     "text": [
      "127.0.0.1 - - [18/Mar/2021 23:55:10] \"\u001b[37mPOST /apiREST/v1 HTTP/1.1\u001b[0m\" 200 -\n"
     ]
    },
    {
     "name": "stdout",
     "output_type": "stream",
     "text": [
      "\n",
      "_________________________________________________________________________________________________________________________\n",
      "Mesaje de la API de Facebook-> \n",
      " {'object': 'page', 'entry': [{'id': '111445520541316', 'time': 1616133310163, 'messaging': [{'sender': {'id': '3452826248079358'}, 'recipient': {'id': '111445520541316'}, 'timestamp': 1616133310196, 'delivery': {'mids': ['m_ex0KVzEzviEfcKVG7ZZicTrxWOlmWInsffZ5UHcOgUJMrQ3P60QqElR3yHuUuI2GUbNGRi3e711DPA18Xfkxww', 'm_l6g_s3OImLYfIg916BvzCzrxWOlmWInsffZ5UHcOgULAncZq9RHtFNOaUdD_vPsnfWTFYrADRcRKTF2dTMVHVA'], 'watermark': 1616133308293}}]}]}\n"
     ]
    },
    {
     "name": "stderr",
     "output_type": "stream",
     "text": [
      "127.0.0.1 - - [18/Mar/2021 23:55:13] \"\u001b[37mPOST /apiREST/v1 HTTP/1.1\u001b[0m\" 200 -\n"
     ]
    },
    {
     "name": "stdout",
     "output_type": "stream",
     "text": [
      "\n",
      "_________________________________________________________________________________________________________________________\n",
      "Mesaje de la API de Facebook-> \n",
      " {'object': 'page', 'entry': [{'id': '111445520541316', 'time': 1616133313354, 'messaging': [{'sender': {'id': '3452826248079358'}, 'recipient': {'id': '111445520541316'}, 'timestamp': 1616133313491, 'read': {'watermark': 1616133312740}}]}]}\n",
      "hilo consume\n",
      " [.] Got %r None\n"
     ]
    },
    {
     "name": "stderr",
     "output_type": "stream",
     "text": [
      "127.0.0.1 - - [18/Mar/2021 23:55:17] \"\u001b[37mPOST /apiREST/v1 HTTP/1.1\u001b[0m\" 200 -\n",
      "127.0.0.1 - - [18/Mar/2021 23:55:17] \"\u001b[37mPOST /apiREST/v1 HTTP/1.1\u001b[0m\" 200 -\n"
     ]
    },
    {
     "name": "stdout",
     "output_type": "stream",
     "text": [
      "\n",
      "_________________________________________________________________________________________________________________________\n",
      "Mesaje de la API de Facebook-> \n",
      " {'object': 'page', 'entry': [{'id': '111445520541316', 'time': 1616133316802, 'messaging': [{'sender': {'id': '3452826248079358'}, 'recipient': {'id': '111445520541316'}, 'timestamp': 1616133316889, 'read': {'watermark': 1616133316313}}]}]}\n",
      "hilo consume\n",
      " [.] Got %r None\n",
      "\n",
      "_________________________________________________________________________________________________________________________\n",
      "Mesaje de la API de Facebook-> \n",
      " {'object': 'page', 'entry': [{'id': '111445520541316', 'time': 1616133317007, 'messaging': [{'sender': {'id': '3452826248079358'}, 'recipient': {'id': '111445520541316'}, 'timestamp': 1616133317035, 'read': {'watermark': 1616133316381}}]}]}\n",
      "hilo consume\n"
     ]
    },
    {
     "name": "stderr",
     "output_type": "stream",
     "text": [
      "127.0.0.1 - - [18/Mar/2021 23:55:17] \"\u001b[37mPOST /apiREST/v1 HTTP/1.1\u001b[0m\" 200 -\n",
      "127.0.0.1 - - [18/Mar/2021 23:55:17] \"\u001b[37mPOST /apiREST/v1 HTTP/1.1\u001b[0m\" 200 -\n"
     ]
    },
    {
     "name": "stdout",
     "output_type": "stream",
     "text": [
      "\n",
      "_________________________________________________________________________________________________________________________\n",
      "Mesaje de la API de Facebook-> \n",
      " {'object': 'page', 'entry': [{'id': '111445520541316', 'time': 1616133317009, 'messaging': [{'sender': {'id': '3452826248079358'}, 'recipient': {'id': '111445520541316'}, 'timestamp': 1616133316840, 'message': {'mid': 'm_38x6RBBEmhmndSiq3snFjTrxWOlmWInsffZ5UHcOgUJb6tQU5sqeRr0hsp366iIp7hk-D17IX_IVcyCiw1ZqVw', 'text': 'Hasdfasd@hotmailc.om'}}]}]}\n",
      "\n",
      "_________________________________________________________________________________________________________________________\n",
      "Mesaje de la API de Facebook-> \n",
      " {'object': 'page', 'entry': [{'id': '111445520541316', 'time': 1616133317145, 'messaging': [{'sender': {'id': '3452826248079358'}, 'recipient': {'id': '111445520541316'}, 'timestamp': 1616133317179, 'read': {'watermark': 1616133316608}}]}]}\n",
      " [.] Got %r None\n",
      "[{'sender': {'id': '3452826248079358'}, 'recipient': {'id': '111445520541316'}, 'timestamp': 1616133316840, 'message': {'mid': 'm_38x6RBBEmhmndSiq3snFjTrxWOlmWInsffZ5UHcOgUJb6tQU5sqeRr0hsp366iIp7hk-D17IX_IVcyCiw1ZqVw', 'text': 'Hasdfasd@hotmailc.om'}}]\n",
      "hilo consume\n",
      "\n",
      "______________________________________________no read__________________________________________________________________________\n",
      "\n",
      "\t\tMensaje enviado al Nucleo Logico->\n",
      "  {\"payload\": {\"robot\": \"none\", \"id_face\": \"111445520541316\", \"recipient_id\": \"3452826248079358\", \"access_token\": \"none\", \"content\": \"Hasdfasd@hotmailc.om\", \"type_resp\": \"message\", \"state\": \"none\", \"blocktype\": \"none\", \"opciones\": \"none\", \"entities\": {}}}\n",
      "hilo consume\n",
      "\n",
      "_________________________________________________________________________________________________________________________\n",
      "\t\t\n",
      "Respuesta del Nucleo Logico->  {'Respuesta': {'content': '¿Cuál es tu correo?', 'next_id': 'Salida,prueba_slide', 'blockType': 'quickReply', 'contentType': ' ', 'typingTime': '3', 'payload': {'content': '', 'state': 'pruebaCorreo_01inicial_inicial', 'recipient_id': '3452826248079358', 'entities': {'email': 'Hasdfasd@hotmailc.om'}, 'access_token': 'EAALZCCZBzPwfkBAAo7njAlW7s4DTj1ZCs5v1ung1MhEyMlJXOOtiG8r7JcBgXVPhZBHkJONyTB6jKG470UyqGPWn4aDPnisgtT2ZCZAwQIjQgZAZBufZBJXmHz6mPKSgdmP6ikDA87vocZBay2dfQdz1OYezmYbxwfILXUvXtjUMZAniQZDZD'}, 'options': ['Salir del bot.', 'Probar carrusel'], 'default_id': 'prueba_qa', 'save_var': '0'}}\n",
      " [.] Got %r None\n",
      "\n",
      "\n",
      "---------------------------------------------------------------------------\n",
      "mensaje enviado a la API de facebook:\n",
      " {'message': {'attachment': {'type': 'template', 'payload': {'template_type': 'button', 'text': '¿Cuál es tu correo?', 'buttons': [{'title': 'Salir del bot.', 'type': 'postback', 'payload': 'Salir del bot.'}, {'title': 'Probar carrusel', 'type': 'postback', 'payload': 'Probar carrusel'}]}}}, 'recipient': {'id': '3452826248079358'}, 'notification_type': 'REGULAR'}\n",
      " [.] Got %r None\n"
     ]
    },
    {
     "name": "stderr",
     "output_type": "stream",
     "text": [
      "127.0.0.1 - - [18/Mar/2021 23:55:19] \"\u001b[37mPOST /apiREST/v1 HTTP/1.1\u001b[0m\" 200 -\n",
      "127.0.0.1 - - [18/Mar/2021 23:55:19] \"\u001b[37mPOST /apiREST/v1 HTTP/1.1\u001b[0m\" 200 -\n",
      "127.0.0.1 - - [18/Mar/2021 23:55:19] \"\u001b[37mPOST /apiREST/v1 HTTP/1.1\u001b[0m\" 200 -\n"
     ]
    },
    {
     "name": "stdout",
     "output_type": "stream",
     "text": [
      "\n",
      "_________________________________________________________________________________________________________________________\n",
      "Mesaje de la API de Facebook-> \n",
      " {'object': 'page', 'entry': [{'id': '111445520541316', 'time': 1616133318998, 'messaging': [{'sender': {'id': '111445520541316'}, 'recipient': {'id': '3452826248079358'}, 'timestamp': 1616133318952, 'message': {'mid': 'm_UgM4K5n3ltoPOiA8k1zPrDrxWOlmWInsffZ5UHcOgUKfaOpEzZbZkO9XG4MB3KnMjMxkdGMVCO6FKAEOfYSQEA', 'is_echo': True, 'text': '¿Cuál es tu correo?', 'app_id': 843376636183033, 'attachments': [{'title': '', 'url': None, 'type': 'template', 'payload': {'template_type': 'button', 'buttons': [{'type': 'postback', 'title': 'Salir del bot.', 'payload': 'Salir del bot.'}, {'type': 'postback', 'title': 'Probar carrusel', 'payload': 'Probar carrusel'}]}}]}}]}]}\n",
      "\n",
      "_________________________________________________________________________________________________________________________[{'sender': {'id': '111445520541316'}, 'recipient': {'id': '3452826248079358'}, 'timestamp': 1616133318952, 'message': {'mid': 'm_UgM4K5n3ltoPOiA8k1zPrDrxWOlmWInsffZ5UHcOgUKfaOpEzZbZkO9XG4MB3KnMjMxkdGMVCO6FKAEOfYSQEA', 'is_echo': True, 'text': '¿Cuál es tu correo?', 'app_id': 843376636183033, 'attachments': [{'title': '', 'url': None, 'type': 'template', 'payload': {'template_type': 'button', 'buttons': [{'type': 'postback', 'title': 'Salir del bot.', 'payload': 'Salir del bot.'}, {'type': 'postback', 'title': 'Probar carrusel', 'payload': 'Probar carrusel'}]}}]}}]\n",
      "\n",
      "Mesaje de la API de Facebook-> \n",
      " {'object': 'page', 'entry': [{'id': '111445520541316', 'time': 1616133319124, 'messaging': [{'sender': {'id': '3452826248079358'}, 'recipient': {'id': '111445520541316'}, 'timestamp': 1616133319165, 'delivery': {'mids': ['m_UgM4K5n3ltoPOiA8k1zPrDrxWOlmWInsffZ5UHcOgUKfaOpEzZbZkO9XG4MB3KnMjMxkdGMVCO6FKAEOfYSQEA'], 'watermark': 1616133318952}}]}]}\n",
      "hilo consume\n",
      "\n",
      "______________________________________________no read__________________________________________________________________________\n",
      "\n",
      "\t\tMensaje enviado al Nucleo Logico->\n",
      "  {\"payload\": {\"robot\": \"none\", \"id_face\": \"111445520541316\", \"recipient_id\": \"111445520541316\", \"access_token\": \"none\", \"content\": \"\\u00bfCu\\u00e1l es tu correo?\", \"type_resp\": \"message\", \"state\": \"none\", \"blocktype\": \"none\", \"opciones\": \"none\", \"entities\": {}}}\n",
      "\n",
      "_________________________________________________________________________________________________________________________\n",
      "Mesaje de la API de Facebook-> \n",
      " {'object': 'page', 'entry': [{'id': '111445520541316', 'time': 1616133319148, 'messaging': [{'sender': {'id': '3452826248079358'}, 'recipient': {'id': '111445520541316'}, 'timestamp': 1616133319181, 'delivery': {'mids': ['m_UgM4K5n3ltoPOiA8k1zPrDrxWOlmWInsffZ5UHcOgUKfaOpEzZbZkO9XG4MB3KnMjMxkdGMVCO6FKAEOfYSQEA'], 'watermark': 1616133318952}}]}]}\n"
     ]
    },
    {
     "name": "stderr",
     "output_type": "stream",
     "text": [
      "127.0.0.1 - - [18/Mar/2021 23:55:19] \"\u001b[37mPOST /apiREST/v1 HTTP/1.1\u001b[0m\" 200 -\n"
     ]
    },
    {
     "name": "stdout",
     "output_type": "stream",
     "text": [
      "\n",
      "_________________________________________________________________________________________________________________________\n",
      "Mesaje de la API de Facebook-> \n",
      " {'object': 'page', 'entry': [{'id': '111445520541316', 'time': 1616133319325, 'messaging': [{'sender': {'id': '3452826248079358'}, 'recipient': {'id': '111445520541316'}, 'timestamp': 1616133319395, 'read': {'watermark': 1616133318806}}]}]}\n",
      "hilo consume\n",
      "\n",
      "_________________________________________________________________________________________________________________________\n",
      "\t\t\n",
      "Respuesta del Nucleo Logico->  {'Respuesta': {'content': 'Hola, soy un chatbot y esto es un mensaje de prueba y adios', 'next_id': 'prueba_captura', 'blockType': 'informativo', 'contentType': 'text', 'typingTime': '3', 'payload': {'content': '', 'state': 'prueba_inicio', 'recipient_id': '111445520541316', 'entities': {}, 'access_token': 'EAALZCCZBzPwfkBAAo7njAlW7s4DTj1ZCs5v1ung1MhEyMlJXOOtiG8r7JcBgXVPhZBHkJONyTB6jKG470UyqGPWn4aDPnisgtT2ZCZAwQIjQgZAZBufZBJXmHz6mPKSgdmP6ikDA87vocZBay2dfQdz1OYezmYbxwfILXUvXtjUMZAniQZDZD'}}}\n",
      " [.] Got %r None\n",
      "\n",
      "\n",
      "---------------------------------------------------------------------------\n",
      "mensaje enviado a la API de facebook:\n",
      " {'message': {'text': 'Hola, soy un chatbot y esto es un mensaje de prueba y adios'}, 'recipient': {'id': '111445520541316'}, 'notification_type': 'REGULAR'}\n",
      " [.] Got %r None\n"
     ]
    },
    {
     "name": "stderr",
     "output_type": "stream",
     "text": [
      "127.0.0.1 - - [18/Mar/2021 23:55:22] \"\u001b[37mPOST /apiREST/v1 HTTP/1.1\u001b[0m\" 200 -\n"
     ]
    },
    {
     "name": "stdout",
     "output_type": "stream",
     "text": [
      "\n",
      "_________________________________________________________________________________________________________________________\n",
      "Mesaje de la API de Facebook-> \n",
      " {'object': 'page', 'entry': [{'id': '111445520541316', 'time': 1616133322682, 'messaging': [{'sender': {'id': '3452826248079358'}, 'recipient': {'id': '111445520541316'}, 'timestamp': 1616133322790, 'read': {'watermark': 1616133322115}}]}]}\n",
      "hilo consume\n",
      " [.] Got %r None\n"
     ]
    },
    {
     "name": "stderr",
     "output_type": "stream",
     "text": [
      "127.0.0.1 - - [18/Mar/2021 23:55:26] \"\u001b[37mPOST /apiREST/v1 HTTP/1.1\u001b[0m\" 200 -\n"
     ]
    },
    {
     "name": "stdout",
     "output_type": "stream",
     "text": [
      "\n",
      "_________________________________________________________________________________________________________________________\n",
      "Mesaje de la API de Facebook-> \n",
      " {'object': 'page', 'entry': [{'id': '111445520541316', 'time': 1616133326018, 'messaging': [{'sender': {'id': '3452826248079358'}, 'recipient': {'id': '111445520541316'}, 'timestamp': 1616133326104, 'read': {'watermark': 1616133325488}}]}]}\n",
      "hilo consume\n",
      " [.] Got %r None\n"
     ]
    },
    {
     "name": "stderr",
     "output_type": "stream",
     "text": [
      "127.0.0.1 - - [18/Mar/2021 23:55:26] \"\u001b[37mPOST /apiREST/v1 HTTP/1.1\u001b[0m\" 200 -\n"
     ]
    },
    {
     "name": "stdout",
     "output_type": "stream",
     "text": [
      "\n",
      "_________________________________________________________________________________________________________________________\n",
      "Mesaje de la API de Facebook-> \n",
      " {'object': 'page', 'entry': [{'id': '111445520541316', 'time': 1616133326568, 'messaging': [{'sender': {'id': '3452826248079358'}, 'recipient': {'id': '111445520541316'}, 'timestamp': 1616133326057, 'postback': {'title': 'Salir del bot.', 'payload': 'Salir del bot.'}}]}]}\n",
      "hilo consume\n",
      "\n",
      "______________________________________________no read__________________________________________________________________________\n",
      "\n",
      "\t\tMensaje enviado al Nucleo Logico->\n",
      "  {\"payload\": {\"robot\": \"none\", \"id_face\": \"111445520541316\", \"recipient_id\": \"3452826248079358\", \"access_token\": \"none\", \"content\": \"Salir del bot.\", \"type_resp\": \"postback\", \"state\": \"none\", \"blocktype\": \"none\", \"opciones\": \"none\", \"entities\": {}}}\n"
     ]
    },
    {
     "name": "stderr",
     "output_type": "stream",
     "text": [
      "127.0.0.1 - - [18/Mar/2021 23:56:40] \"\u001b[37mPOST /apiREST/v1 HTTP/1.1\u001b[0m\" 200 -\n",
      "127.0.0.1 - - [18/Mar/2021 23:56:40] \"\u001b[37mPOST /apiREST/v1 HTTP/1.1\u001b[0m\" 200 -\n"
     ]
    },
    {
     "name": "stdout",
     "output_type": "stream",
     "text": [
      "\n",
      "_________________________________________________________________________________________________________________________\n",
      "Mesaje de la API de Facebook-> \n",
      " {'object': 'page', 'entry': [{'id': '2153123008120093', 'time': 1616133400603, 'messaging': [{'sender': {'id': '5189951557742323'}, 'recipient': {'id': '2153123008120093'}, 'timestamp': 1616133400467, 'message': {'mid': 'm_D7i7-gpRG07AHmF6Cdg4t9iD4EwZ0uM6mKG43TSXtsm8ZGMHVaK_pdCi9Pykq6zE9461GYSSDqtc4tPsEigYJQ', 'text': 'Hola'}}]}]}\n",
      "[{'sender': {'id': '5189951557742323'}, 'recipient': {'id': '2153123008120093'}, 'timestamp': 1616133400467, 'message': {'mid': 'm_D7i7-gpRG07AHmF6Cdg4t9iD4EwZ0uM6mKG43TSXtsm8ZGMHVaK_pdCi9Pykq6zE9461GYSSDqtc4tPsEigYJQ', 'text': 'Hola'}}]\n",
      "hilo consume\n",
      "\n",
      "______________________________________________no read__________________________________________________________________________\n",
      "\n",
      "\t\tMensaje enviado al Nucleo Logico->\n",
      "  {\"payload\": {\"robot\": \"none\", \"id_face\": \"2153123008120093\", \"recipient_id\": \"5189951557742323\", \"access_token\": \"none\", \"content\": \"Hola\", \"type_resp\": \"message\", \"state\": \"none\", \"blocktype\": \"none\", \"opciones\": \"none\", \"entities\": {}}}\n",
      "\n",
      "_________________________________________________________________________________________________________________________\n",
      "Mesaje de la API de Facebook-> \n",
      " {'object': 'page', 'entry': [{'id': '2153123008120093', 'time': 1616133400065, 'messaging': [{'sender': {'id': '5189951557742323'}, 'recipient': {'id': '2153123008120093'}, 'timestamp': 1616133400626, 'read': {'watermark': 1616133399582}}]}]}\n",
      "hilo consume\n",
      "\n",
      "_________________________________________________________________________________________________________________________\n",
      "Mesaje de la API de Facebook-> \n",
      " {'object': 'page', 'entry': [{'id': '2153123008120093', 'time': 1616133400767, 'messaging': [{'sender': {'id': '5189951557742323'}, 'recipient': {'id': '2153123008120093'}, 'timestamp': 1616133400799, 'read': {'watermark': 1616133399630}}]}]}\n"
     ]
    },
    {
     "name": "stderr",
     "output_type": "stream",
     "text": [
      "127.0.0.1 - - [18/Mar/2021 23:56:41] \"\u001b[37mPOST /apiREST/v1 HTTP/1.1\u001b[0m\" 200 -\n",
      "127.0.0.1 - - [18/Mar/2021 23:56:41] \"\u001b[37mPOST /apiREST/v1 HTTP/1.1\u001b[0m\" 200 -\n"
     ]
    },
    {
     "name": "stdout",
     "output_type": "stream",
     "text": [
      "hilo consume\n",
      "\n",
      "_________________________________________________________________________________________________________________________\n",
      "Mesaje de la API de Facebook-> \n",
      " {'object': 'page', 'entry': [{'id': '2153123008120093', 'time': 1616133400957, 'messaging': [{'sender': {'id': '5189951557742323'}, 'recipient': {'id': '2153123008120093'}, 'timestamp': 1616133400988, 'read': {'watermark': 1616133400455}}]}]}\n",
      "hilo consume\n"
     ]
    },
    {
     "name": "stderr",
     "output_type": "stream",
     "text": [
      "127.0.0.1 - - [18/Mar/2021 23:57:31] \"\u001b[37mPOST /apiREST/v1 HTTP/1.1\u001b[0m\" 200 -\n"
     ]
    },
    {
     "name": "stdout",
     "output_type": "stream",
     "text": [
      "\n",
      "_________________________________________________________________________________________________________________________\n",
      "Mesaje de la API de Facebook-> \n",
      " {'object': 'page', 'entry': [{'id': '2153123008120093', 'time': 1616133451339, 'messaging': [{'sender': {'id': '5189951557742323'}, 'recipient': {'id': '2153123008120093'}, 'timestamp': 1616133451408, 'read': {'watermark': 1616133450802}}]}]}\n",
      "hilo consume\n"
     ]
    },
    {
     "name": "stderr",
     "output_type": "stream",
     "text": [
      "127.0.0.1 - - [18/Mar/2021 23:57:53] \"\u001b[37mPOST /apiREST/v1 HTTP/1.1\u001b[0m\" 200 -\n"
     ]
    },
    {
     "name": "stdout",
     "output_type": "stream",
     "text": [
      "\n",
      "_________________________________________________________________________________________________________________________\n",
      "Mesaje de la API de Facebook-> \n",
      " {'object': 'page', 'entry': [{'id': '2153123008120093', 'time': 1616133472868, 'messaging': [{'sender': {'id': '5189951557742323'}, 'recipient': {'id': '2153123008120093'}, 'timestamp': 1616133473007, 'read': {'watermark': 1616133472361}}]}]}\n",
      "hilo consume\n"
     ]
    },
    {
     "name": "stderr",
     "output_type": "stream",
     "text": [
      "127.0.0.1 - - [18/Mar/2021 23:57:58] \"\u001b[37mPOST /apiREST/v1 HTTP/1.1\u001b[0m\" 200 -\n"
     ]
    },
    {
     "name": "stdout",
     "output_type": "stream",
     "text": [
      "\n",
      "_________________________________________________________________________________________________________________________\n",
      "Mesaje de la API de Facebook-> \n",
      " {'object': 'page', 'entry': [{'id': '2153123008120093', 'time': 1616133478092, 'messaging': [{'sender': {'id': '5189951557742323'}, 'recipient': {'id': '2153123008120093'}, 'timestamp': 1616133478236, 'read': {'watermark': 1616133477585}}]}]}\n",
      "hilo consume\n"
     ]
    },
    {
     "name": "stderr",
     "output_type": "stream",
     "text": [
      "127.0.0.1 - - [18/Mar/2021 23:58:05] \"\u001b[37mPOST /apiREST/v1 HTTP/1.1\u001b[0m\" 200 -\n",
      "127.0.0.1 - - [18/Mar/2021 23:58:05] \"\u001b[37mPOST /apiREST/v1 HTTP/1.1\u001b[0m\" 200 -\n"
     ]
    },
    {
     "name": "stdout",
     "output_type": "stream",
     "text": [
      "\n",
      "_________________________________________________________________________________________________________________________\n",
      "Mesaje de la API de Facebook-> \n",
      " {'object': 'page', 'entry': [{'id': '111445520541316', 'time': 1616133484360, 'messaging': [{'sender': {'id': '3452826248079358'}, 'recipient': {'id': '111445520541316'}, 'timestamp': 1616133484933, 'read': {'watermark': 1616133483871}}]}]}\n",
      "hilo consume\n",
      "\n",
      "_________________________________________________________________________________________________________________________\n",
      "Mesaje de la API de Facebook-> \n",
      " {'object': 'page', 'entry': [{'id': '111445520541316', 'time': 1616133485041, 'messaging': [{'sender': {'id': '3452826248079358'}, 'recipient': {'id': '111445520541316'}, 'timestamp': 1616133485070, 'read': {'watermark': 1616133483934}}]}]}\n",
      " [.] Got %r None\n",
      "hilo consume\n"
     ]
    },
    {
     "name": "stderr",
     "output_type": "stream",
     "text": [
      "127.0.0.1 - - [18/Mar/2021 23:58:05] \"\u001b[37mPOST /apiREST/v1 HTTP/1.1\u001b[0m\" 200 -\n",
      "127.0.0.1 - - [18/Mar/2021 23:58:05] \"\u001b[37mPOST /apiREST/v1 HTTP/1.1\u001b[0m\" 200 -\n"
     ]
    },
    {
     "name": "stdout",
     "output_type": "stream",
     "text": [
      "\n",
      "_________________________________________________________________________________________________________________________\n",
      "Mesaje de la API de Facebook-> \n",
      " {'object': 'page', 'entry': [{'id': '111445520541316', 'time': 1616133485081, 'messaging': [{'sender': {'id': '3452826248079358'}, 'recipient': {'id': '111445520541316'}, 'timestamp': 1616133484867, 'message': {'mid': 'm_9ykMvISca0Q99OTl3rWpIjrxWOlmWInsffZ5UHcOgULOHtAU69yntTS0GwYcrmsQLm4R1qrw-gXIR2HluPR3yg', 'text': 'Hola'}}]}]}\n",
      "\n",
      "_________________________________________________________________________________________________________________________\n",
      "Mesaje de la API de Facebook-> \n",
      " {'object': 'page', 'entry': [{'id': '111445520541316', 'time': 1616133485222, 'messaging': [{'sender': {'id': '3452826248079358'}, 'recipient': {'id': '111445520541316'}, 'timestamp': 1616133485251, 'read': {'watermark': 1616133484723}}]}]}\n",
      " [.] Got %r None\n",
      "hilo consume\n",
      "[{'sender': {'id': '3452826248079358'}, 'recipient': {'id': '111445520541316'}, 'timestamp': 1616133484867, 'message': {'mid': 'm_9ykMvISca0Q99OTl3rWpIjrxWOlmWInsffZ5UHcOgULOHtAU69yntTS0GwYcrmsQLm4R1qrw-gXIR2HluPR3yg', 'text': 'Hola'}}]\n",
      "hilo consume\n",
      "\n",
      "______________________________________________no read__________________________________________________________________________\n",
      "\n",
      "\t\tMensaje enviado al Nucleo Logico->\n",
      "  {\"payload\": {\"robot\": \"none\", \"id_face\": \"111445520541316\", \"recipient_id\": \"3452826248079358\", \"access_token\": \"none\", \"content\": \"Hola\", \"type_resp\": \"message\", \"state\": \"none\", \"blocktype\": \"none\", \"opciones\": \"none\", \"entities\": {}}}\n",
      " [.] Got %r None\n",
      "\n",
      "_________________________________________________________________________________________________________________________\n",
      "\t\t\n",
      "Respuesta del Nucleo Logico->  {'Respuesta': {'content': 'Hola, soy un chatbot y esto es un mensaje de prueba y adios', 'next_id': 'prueba_captura', 'blockType': 'informativo', 'contentType': 'text', 'typingTime': '3', 'payload': {'content': '', 'state': 'prueba_inicio', 'recipient_id': '3452826248079358', 'entities': {}, 'access_token': 'EAALZCCZBzPwfkBAAo7njAlW7s4DTj1ZCs5v1ung1MhEyMlJXOOtiG8r7JcBgXVPhZBHkJONyTB6jKG470UyqGPWn4aDPnisgtT2ZCZAwQIjQgZAZBufZBJXmHz6mPKSgdmP6ikDA87vocZBay2dfQdz1OYezmYbxwfILXUvXtjUMZAniQZDZD'}}}\n",
      "\n",
      "\n",
      "---------------------------------------------------------------------------\n",
      "mensaje enviado a la API de facebook:\n",
      " {'message': {'text': 'Hola, soy un chatbot y esto es un mensaje de prueba y adios'}, 'recipient': {'id': '3452826248079358'}, 'notification_type': 'REGULAR'}\n",
      " [.] Got %r None\n"
     ]
    },
    {
     "name": "stderr",
     "output_type": "stream",
     "text": [
      "127.0.0.1 - - [18/Mar/2021 23:58:07] \"\u001b[37mPOST /apiREST/v1 HTTP/1.1\u001b[0m\" 200 -\n",
      "127.0.0.1 - - [18/Mar/2021 23:58:07] \"\u001b[37mPOST /apiREST/v1 HTTP/1.1\u001b[0m\" 200 -\n"
     ]
    },
    {
     "name": "stdout",
     "output_type": "stream",
     "text": [
      "\n",
      "_________________________________________________________________________________________________________________________\n",
      "Mesaje de la API de Facebook-> \n",
      " {'object': 'page', 'entry': [{'id': '111445520541316', 'time': 1616133486727, 'messaging': [{'sender': {'id': '111445520541316'}, 'recipient': {'id': '3452826248079358'}, 'timestamp': 1616133486690, 'message': {'mid': 'm_1alt9pyivehJvC3fqgnA4zrxWOlmWInsffZ5UHcOgUK3B8E9RAJDrJBqe6yRAK8A8GB8eOhNFubhF53B44ZQPg', 'is_echo': True, 'text': 'Hola, soy un chatbot y esto es un mensaje de prueba y adios', 'app_id': 843376636183033}}]}]}\n",
      "[{'sender': {'id': '111445520541316'}, 'recipient': {'id': '3452826248079358'}, 'timestamp': 1616133486690, 'message': {'mid': 'm_1alt9pyivehJvC3fqgnA4zrxWOlmWInsffZ5UHcOgUK3B8E9RAJDrJBqe6yRAK8A8GB8eOhNFubhF53B44ZQPg', 'is_echo': True, 'text': 'Hola, soy un chatbot y esto es un mensaje de prueba y adios', 'app_id': 843376636183033}}]\n",
      "hilo consume\n",
      "\n",
      "______________________________________________no read__________________________________________________________________________\n",
      "\n",
      "\t\tMensaje enviado al Nucleo Logico->\n",
      "  {\"payload\": {\"robot\": \"none\", \"id_face\": \"111445520541316\", \"recipient_id\": \"111445520541316\", \"access_token\": \"none\", \"content\": \"Hola, soy un chatbot y esto es un mensaje de prueba y adios\", \"type_resp\": \"message\", \"state\": \"none\", \"blocktype\": \"none\", \"opciones\": \"none\", \"entities\": {}}}\n",
      "\n",
      "_________________________________________________________________________________________________________________________\n",
      "Mesaje de la API de Facebook-> \n",
      " {'object': 'page', 'entry': [{'id': '111445520541316', 'time': 1616133486853, 'messaging': [{'sender': {'id': '3452826248079358'}, 'recipient': {'id': '111445520541316'}, 'timestamp': 1616133486899, 'delivery': {'mids': ['m_1alt9pyivehJvC3fqgnA4zrxWOlmWInsffZ5UHcOgUK3B8E9RAJDrJBqe6yRAK8A8GB8eOhNFubhF53B44ZQPg'], 'watermark': 1616133486690}}]}]}\n"
     ]
    },
    {
     "name": "stderr",
     "output_type": "stream",
     "text": [
      "127.0.0.1 - - [18/Mar/2021 23:58:07] \"\u001b[37mPOST /apiREST/v1 HTTP/1.1\u001b[0m\" 200 -\n"
     ]
    },
    {
     "name": "stdout",
     "output_type": "stream",
     "text": [
      "\n",
      "_________________________________________________________________________________________________________________________\n",
      "Mesaje de la API de Facebook-> \n",
      " {'object': 'page', 'entry': [{'id': '111445520541316', 'time': 1616133486916, 'messaging': [{'sender': {'id': '3452826248079358'}, 'recipient': {'id': '111445520541316'}, 'timestamp': 1616133487065, 'read': {'watermark': 1616133486441}}]}]}\n",
      "hilo consume\n",
      "\n",
      "_________________________________________________________________________________________________________________________\n",
      "\t\t\n",
      "Respuesta del Nucleo Logico->  {'Respuesta': {'content': 'Hola, soy un chatbot y esto es un mensaje de prueba y adios', 'next_id': 'prueba_captura', 'blockType': 'informativo', 'contentType': 'text', 'typingTime': '3', 'payload': {'content': '', 'state': 'prueba_inicio', 'recipient_id': '111445520541316', 'entities': {}, 'access_token': 'EAALZCCZBzPwfkBAAo7njAlW7s4DTj1ZCs5v1ung1MhEyMlJXOOtiG8r7JcBgXVPhZBHkJONyTB6jKG470UyqGPWn4aDPnisgtT2ZCZAwQIjQgZAZBufZBJXmHz6mPKSgdmP6ikDA87vocZBay2dfQdz1OYezmYbxwfILXUvXtjUMZAniQZDZD'}}}\n",
      "\n",
      "\n",
      "---------------------------------------------------------------------------\n",
      "mensaje enviado a la API de facebook:\n",
      " {'message': {'text': 'Hola, soy un chatbot y esto es un mensaje de prueba y adios'}, 'recipient': {'id': '111445520541316'}, 'notification_type': 'REGULAR'}\n",
      " [.] Got %r None\n",
      "\n",
      "_________________________________________________________________________________________________________________________\n",
      "\t\t\n",
      "Respuesta del Nucleo Logico->  {'Respuesta': {'content': 'introduce tu correo', 'next_id': 'pruebaCorreo_01inicial_inicial', 'blockType': 'input', 'contentType': 'text', 'typingTime': '3', 'payload': {'content': '', 'state': 'prueba_captura', 'recipient_id': '3452826248079358', 'entities': {}, 'access_token': 'EAALZCCZBzPwfkBAAo7njAlW7s4DTj1ZCs5v1ung1MhEyMlJXOOtiG8r7JcBgXVPhZBHkJONyTB6jKG470UyqGPWn4aDPnisgtT2ZCZAwQIjQgZAZBufZBJXmHz6mPKSgdmP6ikDA87vocZBay2dfQdz1OYezmYbxwfILXUvXtjUMZAniQZDZD'}, 'validacion': '^[a-z0-9]+[\\\\._]?[a-z0-9]+[@]\\\\w+[.]\\\\w{2,3}$', 'default_id': 'prueba_captura'}}\n",
      "\n",
      "\n",
      "---------------------------------------------------------------------------\n",
      "mensaje enviado a la API de facebook:\n",
      " {'message': {'text': 'introduce tu correo'}, 'recipient': {'id': '3452826248079358'}, 'notification_type': 'REGULAR'}\n",
      " [.] Got %r None\n"
     ]
    },
    {
     "name": "stderr",
     "output_type": "stream",
     "text": [
      "127.0.0.1 - - [18/Mar/2021 23:58:09] \"\u001b[37mPOST /apiREST/v1 HTTP/1.1\u001b[0m\" 200 -\n",
      "127.0.0.1 - - [18/Mar/2021 23:58:09] \"\u001b[37mPOST /apiREST/v1 HTTP/1.1\u001b[0m\" 200 -\n"
     ]
    },
    {
     "name": "stdout",
     "output_type": "stream",
     "text": [
      "\n",
      "_________________________________________________________________________________________________________________________\n",
      "Mesaje de la API de Facebook-> \n",
      " {'object': 'page', 'entry': [{'id': '111445520541316', 'time': 1616133488774, 'messaging': [{'sender': {'id': '111445520541316'}, 'recipient': {'id': '3452826248079358'}, 'timestamp': 1616133488737, 'message': {'mid': 'm_TKt4lacplmgSaJnDAAYRqjrxWOlmWInsffZ5UHcOgUJU6vhSdZirkkHYNxZvds72ei91_cAXW3r40zbpWkvLCw', 'is_echo': True, 'text': 'introduce tu correo', 'app_id': 843376636183033}}]}]}\n",
      "[{'sender': {'id': '111445520541316'}, 'recipient': {'id': '3452826248079358'}, 'timestamp': 1616133488737, 'message': {'mid': 'm_TKt4lacplmgSaJnDAAYRqjrxWOlmWInsffZ5UHcOgUJU6vhSdZirkkHYNxZvds72ei91_cAXW3r40zbpWkvLCw', 'is_echo': True, 'text': 'introduce tu correo', 'app_id': 843376636183033}}]\n",
      "\n",
      "_________________________________________________________________________________________________________________________hilo consume\n",
      "\n",
      "\n",
      "______________________________________________no read__________________________________________________________________________\n",
      "Mesaje de la API de Facebook-> \n",
      " {'object': 'page', 'entry': [{'id': '111445520541316', 'time': 1616133488901, 'messaging': [{'sender': {'id': '3452826248079358'}, 'recipient': {'id': '111445520541316'}, 'timestamp': 1616133488938, 'delivery': {'mids': ['m_TKt4lacplmgSaJnDAAYRqjrxWOlmWInsffZ5UHcOgUJU6vhSdZirkkHYNxZvds72ei91_cAXW3r40zbpWkvLCw'], 'watermark': 1616133488737}}]}]}\n",
      "\n",
      "\t\tMensaje enviado al Nucleo Logico->\n",
      "  {\"payload\": {\"robot\": \"none\", \"id_face\": \"111445520541316\", \"recipient_id\": \"111445520541316\", \"access_token\": \"none\", \"content\": \"introduce tu correo\", \"type_resp\": \"message\", \"state\": \"none\", \"blocktype\": \"none\", \"opciones\": \"none\", \"entities\": {}}}\n"
     ]
    },
    {
     "name": "stderr",
     "output_type": "stream",
     "text": [
      "127.0.0.1 - - [18/Mar/2021 23:58:09] \"\u001b[37mPOST /apiREST/v1 HTTP/1.1\u001b[0m\" 200 -\n"
     ]
    },
    {
     "name": "stdout",
     "output_type": "stream",
     "text": [
      "\n",
      "_________________________________________________________________________________________________________________________\n",
      "Mesaje de la API de Facebook-> \n",
      " {'object': 'page', 'entry': [{'id': '111445520541316', 'time': 1616133488972, 'messaging': [{'sender': {'id': '3452826248079358'}, 'recipient': {'id': '111445520541316'}, 'timestamp': 1616133489110, 'read': {'watermark': 1616133488500}}]}]}\n",
      "hilo consume\n",
      "\n",
      "_________________________________________________________________________________________________________________________\n",
      "\t\t\n",
      "Respuesta del Nucleo Logico->  {'Respuesta': {'content': 'Hola, soy un chatbot y esto es un mensaje de prueba y adios', 'next_id': 'prueba_captura', 'blockType': 'informativo', 'contentType': 'text', 'typingTime': '3', 'payload': {'content': '', 'state': 'prueba_inicio', 'recipient_id': '111445520541316', 'entities': {}, 'access_token': 'EAALZCCZBzPwfkBAAo7njAlW7s4DTj1ZCs5v1ung1MhEyMlJXOOtiG8r7JcBgXVPhZBHkJONyTB6jKG470UyqGPWn4aDPnisgtT2ZCZAwQIjQgZAZBufZBJXmHz6mPKSgdmP6ikDA87vocZBay2dfQdz1OYezmYbxwfILXUvXtjUMZAniQZDZD'}}}\n",
      " [.] Got %r None\n",
      "\n",
      "\n",
      "---------------------------------------------------------------------------\n",
      "mensaje enviado a la API de facebook:\n",
      " {'message': {'text': 'Hola, soy un chatbot y esto es un mensaje de prueba y adios'}, 'recipient': {'id': '111445520541316'}, 'notification_type': 'REGULAR'}\n",
      " [.] Got %r None\n"
     ]
    },
    {
     "name": "stderr",
     "output_type": "stream",
     "text": [
      "127.0.0.1 - - [18/Mar/2021 23:58:13] \"\u001b[37mPOST /apiREST/v1 HTTP/1.1\u001b[0m\" 200 -\n"
     ]
    },
    {
     "name": "stdout",
     "output_type": "stream",
     "text": [
      "\n",
      "_________________________________________________________________________________________________________________________\n",
      "Mesaje de la API de Facebook-> \n",
      " {'object': 'page', 'entry': [{'id': '111445520541316', 'time': 1616133492882, 'messaging': [{'sender': {'id': '3452826248079358'}, 'recipient': {'id': '111445520541316'}, 'timestamp': 1616133493064, 'read': {'watermark': 1616133492398}}]}]}\n",
      "hilo consume\n",
      " [.] Got %r None\n",
      "\n",
      "_________________________________________________________________________________________________________________________\n",
      "Mesaje de la API de Facebook-> \n",
      " {'object': 'page', 'entry': [{'id': '111445520541316', 'time': 1616133493132, 'messaging': [{'sender': {'id': '3452826248079358'}, 'recipient': {'id': '111445520541316'}, 'timestamp': 1616133492920, 'message': {'mid': 'm_iFr3ykgSey-ikXufnxwaXzrxWOlmWInsffZ5UHcOgUK3hQHcW9UHk18O7IEEmVPsUzfkWjT6dBxbzR83p3QTtg', 'text': 'asdf@hotmail.com'}}]}]}\n",
      "[{'sender': {'id': '3452826248079358'}, 'recipient': {'id': '111445520541316'}, 'timestamp': 1616133492920, 'message': {'mid': 'm_iFr3ykgSey-ikXufnxwaXzrxWOlmWInsffZ5UHcOgUK3hQHcW9UHk18O7IEEmVPsUzfkWjT6dBxbzR83p3QTtg', 'text': 'asdf@hotmail.com'}}]"
     ]
    },
    {
     "name": "stderr",
     "output_type": "stream",
     "text": [
      "127.0.0.1 - - [18/Mar/2021 23:58:13] \"\u001b[37mPOST /apiREST/v1 HTTP/1.1\u001b[0m\" 200 -\n",
      "127.0.0.1 - - [18/Mar/2021 23:58:13] \"\u001b[37mPOST /apiREST/v1 HTTP/1.1\u001b[0m\" 200 -\n",
      "127.0.0.1 - - [18/Mar/2021 23:58:13] \"\u001b[37mPOST /apiREST/v1 HTTP/1.1\u001b[0m\" 200 -\n"
     ]
    },
    {
     "name": "stdout",
     "output_type": "stream",
     "text": [
      "\n",
      "hilo consume\n",
      "\n",
      "______________________________________________no read__________________________________________________________________________\n",
      "\t\tMensaje enviado al Nucleo Logico->\n",
      "  {\"payload\": {\"robot\": \"none\", \"id_face\": \"111445520541316\", \"recipient_id\": \"3452826248079358\", \"access_token\": \"none\", \"content\": \"asdf@hotmail.com\", \"type_resp\": \"message\", \"state\": \"none\", \"blocktype\": \"none\", \"opciones\": \"none\", \"entities\": {}}}\n",
      "\n",
      "\n",
      "_________________________________________________________________________________________________________________________\n",
      "Mesaje de la API de Facebook-> \n",
      " {'object': 'page', 'entry': [{'id': '111445520541316', 'time': 1616133493174, 'messaging': [{'sender': {'id': '3452826248079358'}, 'recipient': {'id': '111445520541316'}, 'timestamp': 1616133493361, 'read': {'watermark': 1616133492662}}]}]}\n",
      "\n",
      "_________________________________________________________________________________________________________________________\n",
      "Mesaje de la API de Facebook-> \n",
      " {'object': 'page', 'entry': [{'id': '111445520541316', 'time': 1616133493174, 'messaging': [{'sender': {'id': '3452826248079358'}, 'recipient': {'id': '111445520541316'}, 'timestamp': 1616133493362, 'read': {'watermark': 1616133492442}}]}]}\n",
      "hilo consume\n",
      "hilo consume\n",
      "\n",
      "_________________________________________________________________________________________________________________________\n",
      "\t\t\n",
      "Respuesta del Nucleo Logico->  {'Respuesta': {'content': '¿Cuál es tu correo?', 'next_id': 'Salida,prueba_slide', 'blockType': 'quickReply', 'contentType': ' ', 'typingTime': '3', 'payload': {'content': '', 'state': 'pruebaCorreo_01inicial_inicial', 'recipient_id': '3452826248079358', 'entities': {'email': 'asdf@hotmail.com'}, 'access_token': 'EAALZCCZBzPwfkBAAo7njAlW7s4DTj1ZCs5v1ung1MhEyMlJXOOtiG8r7JcBgXVPhZBHkJONyTB6jKG470UyqGPWn4aDPnisgtT2ZCZAwQIjQgZAZBufZBJXmHz6mPKSgdmP6ikDA87vocZBay2dfQdz1OYezmYbxwfILXUvXtjUMZAniQZDZD'}, 'options': ['Salir del bot.', 'Probar carrusel'], 'default_id': 'prueba_qa', 'save_var': '0'}}\n",
      " [.] Got %r None\n",
      " [.] Got %r None\n",
      "\n",
      "\n",
      "---------------------------------------------------------------------------\n",
      "mensaje enviado a la API de facebook:\n",
      " {'message': {'attachment': {'type': 'template', 'payload': {'template_type': 'button', 'text': '¿Cuál es tu correo?', 'buttons': [{'title': 'Salir del bot.', 'type': 'postback', 'payload': 'Salir del bot.'}, {'title': 'Probar carrusel', 'type': 'postback', 'payload': 'Probar carrusel'}]}}}, 'recipient': {'id': '3452826248079358'}, 'notification_type': 'REGULAR'}\n",
      " [.] Got %r None\n"
     ]
    },
    {
     "name": "stderr",
     "output_type": "stream",
     "text": [
      "127.0.0.1 - - [18/Mar/2021 23:58:15] \"\u001b[37mPOST /apiREST/v1 HTTP/1.1\u001b[0m\" 200 -\n",
      "127.0.0.1 - - [18/Mar/2021 23:58:15] \"\u001b[37mPOST /apiREST/v1 HTTP/1.1\u001b[0m\" 200 -\n"
     ]
    },
    {
     "name": "stdout",
     "output_type": "stream",
     "text": [
      "\n",
      "_________________________________________________________________________________________________________________________\n",
      "Mesaje de la API de Facebook-> \n",
      " {'object': 'page', 'entry': [{'id': '111445520541316', 'time': 1616133494957, 'messaging': [{'sender': {'id': '111445520541316'}, 'recipient': {'id': '3452826248079358'}, 'timestamp': 1616133494911, 'message': {'mid': 'm_T4L9XBiRoqAHdfpgin2oXzrxWOlmWInsffZ5UHcOgUK4ubn_N_hsqHDC7_GczPob0xPzXXanQ7aZdwTdwF-D7A', 'is_echo': True, 'text': '¿Cuál es tu correo?', 'app_id': 843376636183033, 'attachments': [{'title': '', 'url': None, 'type': 'template', 'payload': {'template_type': 'button', 'buttons': [{'type': 'postback', 'title': 'Salir del bot.', 'payload': 'Salir del bot.'}, {'type': 'postback', 'title': 'Probar carrusel', 'payload': 'Probar carrusel'}]}}]}}]}]}\n",
      "[{'sender': {'id': '111445520541316'}, 'recipient': {'id': '3452826248079358'}, 'timestamp': 1616133494911, 'message': {'mid': 'm_T4L9XBiRoqAHdfpgin2oXzrxWOlmWInsffZ5UHcOgUK4ubn_N_hsqHDC7_GczPob0xPzXXanQ7aZdwTdwF-D7A', 'is_echo': True, 'text': '¿Cuál es tu correo?', 'app_id': 843376636183033, 'attachments': [{'title': '', 'url': None, 'type': 'template', 'payload': {'template_type': 'button', 'buttons': [{'type': 'postback', 'title': 'Salir del bot.', 'payload': 'Salir del bot.'}, {'type': 'postback', 'title': 'Probar carrusel', 'payload': 'Probar carrusel'}]}}]}}]\n",
      "hilo consume\n",
      "\n",
      "______________________________________________no read__________________________________________________________________________\n",
      "\n",
      "\t\tMensaje enviado al Nucleo Logico->\n",
      "  {\"payload\": {\"robot\": \"none\", \"id_face\": \"111445520541316\", \"recipient_id\": \"111445520541316\", \"access_token\": \"none\", \"content\": \"\\u00bfCu\\u00e1l es tu correo?\", \"type_resp\": \"message\", \"state\": \"none\", \"blocktype\": \"none\", \"opciones\": \"none\", \"entities\": {}}}\n",
      "\n",
      "_________________________________________________________________________________________________________________________\n",
      "Mesaje de la API de Facebook-> \n",
      " {'object': 'page', 'entry': [{'id': '111445520541316', 'time': 1616133495151, 'messaging': [{'sender': {'id': '3452826248079358'}, 'recipient': {'id': '111445520541316'}, 'timestamp': 1616133495184, 'delivery': {'mids': ['m_T4L9XBiRoqAHdfpgin2oXzrxWOlmWInsffZ5UHcOgUK4ubn_N_hsqHDC7_GczPob0xPzXXanQ7aZdwTdwF-D7A'], 'watermark': 1616133494911}}]}]}\n"
     ]
    },
    {
     "name": "stderr",
     "output_type": "stream",
     "text": [
      "127.0.0.1 - - [18/Mar/2021 23:58:15] \"\u001b[37mPOST /apiREST/v1 HTTP/1.1\u001b[0m\" 200 -\n"
     ]
    },
    {
     "name": "stdout",
     "output_type": "stream",
     "text": [
      "\n",
      "_________________________________________________________________________________________________________________________\n",
      "Mesaje de la API de Facebook-> \n",
      " {'object': 'page', 'entry': [{'id': '111445520541316', 'time': 1616133495274, 'messaging': [{'sender': {'id': '3452826248079358'}, 'recipient': {'id': '111445520541316'}, 'timestamp': 1616133495404, 'read': {'watermark': 1616133494772}}]}]}\n",
      "\n",
      "_________________________________________________________________________________________________________________________\n",
      "\t\t\n",
      "Respuesta del Nucleo Logico->  {'Respuesta': {'content': 'Hola, soy un chatbot y esto es un mensaje de prueba y adios', 'next_id': 'prueba_captura', 'blockType': 'informativo', 'contentType': 'text', 'typingTime': '3', 'payload': {'content': '', 'state': 'prueba_inicio', 'recipient_id': '111445520541316', 'entities': {}, 'access_token': 'EAALZCCZBzPwfkBAAo7njAlW7s4DTj1ZCs5v1ung1MhEyMlJXOOtiG8r7JcBgXVPhZBHkJONyTB6jKG470UyqGPWn4aDPnisgtT2ZCZAwQIjQgZAZBufZBJXmHz6mPKSgdmP6ikDA87vocZBay2dfQdz1OYezmYbxwfILXUvXtjUMZAniQZDZD'}}}\n",
      "hilo consume\n",
      " [.] Got %r None\n",
      "\n",
      "\n",
      "---------------------------------------------------------------------------\n",
      "mensaje enviado a la API de facebook:\n",
      " {'message': {'text': 'Hola, soy un chatbot y esto es un mensaje de prueba y adios'}, 'recipient': {'id': '111445520541316'}, 'notification_type': 'REGULAR'}\n",
      " [.] Got %r None\n"
     ]
    },
    {
     "name": "stderr",
     "output_type": "stream",
     "text": [
      "127.0.0.1 - - [18/Mar/2021 23:58:18] \"\u001b[37mPOST /apiREST/v1 HTTP/1.1\u001b[0m\" 200 -\n"
     ]
    },
    {
     "name": "stdout",
     "output_type": "stream",
     "text": [
      "\n",
      "_________________________________________________________________________________________________________________________\n",
      "Mesaje de la API de Facebook-> \n",
      " {'object': 'page', 'entry': [{'id': '111445520541316', 'time': 1616133498321, 'messaging': [{'sender': {'id': '3452826248079358'}, 'recipient': {'id': '111445520541316'}, 'timestamp': 1616133498369, 'delivery': {'mids': ['m_T4L9XBiRoqAHdfpgin2oXzrxWOlmWInsffZ5UHcOgUK4ubn_N_hsqHDC7_GczPob0xPzXXanQ7aZdwTdwF-D7A'], 'watermark': 1616133494911}}]}]}\n"
     ]
    },
    {
     "name": "stderr",
     "output_type": "stream",
     "text": [
      "127.0.0.1 - - [18/Mar/2021 23:58:19] \"\u001b[37mPOST /apiREST/v1 HTTP/1.1\u001b[0m\" 200 -\n"
     ]
    },
    {
     "name": "stdout",
     "output_type": "stream",
     "text": [
      "\n",
      "_________________________________________________________________________________________________________________________\n",
      "Mesaje de la API de Facebook-> \n",
      " {'object': 'page', 'entry': [{'id': '111445520541316', 'time': 1616133498904, 'messaging': [{'sender': {'id': '3452826248079358'}, 'recipient': {'id': '111445520541316'}, 'timestamp': 1616133498925, 'delivery': {'watermark': 1616133494911}}]}]}\n"
     ]
    },
    {
     "name": "stderr",
     "output_type": "stream",
     "text": [
      "127.0.0.1 - - [18/Mar/2021 23:58:21] \"\u001b[37mPOST /apiREST/v1 HTTP/1.1\u001b[0m\" 200 -\n"
     ]
    },
    {
     "name": "stdout",
     "output_type": "stream",
     "text": [
      "\n",
      "_________________________________________________________________________________________________________________________\n",
      "Mesaje de la API de Facebook-> \n",
      " {'object': 'page', 'entry': [{'id': '111445520541316', 'time': 1616133501048, 'messaging': [{'sender': {'id': '3452826248079358'}, 'recipient': {'id': '111445520541316'}, 'timestamp': 1616133501191, 'read': {'watermark': 1616133500231}}]}]}\n",
      "hilo consume\n",
      " [.] Got %r None\n"
     ]
    },
    {
     "name": "stderr",
     "output_type": "stream",
     "text": [
      "127.0.0.1 - - [18/Mar/2021 23:58:21] \"\u001b[37mPOST /apiREST/v1 HTTP/1.1\u001b[0m\" 200 -\n"
     ]
    },
    {
     "name": "stdout",
     "output_type": "stream",
     "text": [
      "\n",
      "_________________________________________________________________________________________________________________________\n",
      "Mesaje de la API de Facebook-> \n",
      " {'object': 'page', 'entry': [{'id': '111445520541316', 'time': 1616133501551, 'messaging': [{'sender': {'id': '3452826248079358'}, 'recipient': {'id': '111445520541316'}, 'timestamp': 1616133501641, 'read': {'watermark': 1616133501042}}]}]}\n",
      "hilo consume\n",
      " [.] Got %r None\n"
     ]
    },
    {
     "name": "stderr",
     "output_type": "stream",
     "text": [
      "127.0.0.1 - - [18/Mar/2021 23:58:22] \"\u001b[37mPOST /apiREST/v1 HTTP/1.1\u001b[0m\" 200 -\n",
      "127.0.0.1 - - [18/Mar/2021 23:58:22] \"\u001b[37mPOST /apiREST/v1 HTTP/1.1\u001b[0m\" 200 -\n"
     ]
    },
    {
     "name": "stdout",
     "output_type": "stream",
     "text": [
      "\n",
      "_________________________________________________________________________________________________________________________\n",
      "Mesaje de la API de Facebook-> \n",
      " {'object': 'page', 'entry': [{'id': '111445520541316', 'time': 1616133501827, 'messaging': [{'sender': {'id': '3452826248079358'}, 'recipient': {'id': '111445520541316'}, 'timestamp': 1616133501855, 'read': {'watermark': 1616133501095}}]}]}\n",
      "hilo consume\n",
      "\n",
      "_________________________________________________________________________________________________________________________\n",
      "Mesaje de la API de Facebook-> \n",
      " {'object': 'page', 'entry': [{'id': '111445520541316', 'time': 1616133501830, 'messaging': [{'sender': {'id': '3452826248079358'}, 'recipient': {'id': '111445520541316'}, 'timestamp': 1616133501590, 'postback': {'title': 'Salir del bot.', 'payload': 'Salir del bot.'}}]}]}\n",
      "hilo consume\n",
      "\n",
      "______________________________________________no read__________________________________________________________________________\n",
      "\n",
      "\t\tMensaje enviado al Nucleo Logico->\n",
      "  {\"payload\": {\"robot\": \"none\", \"id_face\": \"111445520541316\", \"recipient_id\": \"3452826248079358\", \"access_token\": \"none\", \"content\": \"Salir del bot.\", \"type_resp\": \"postback\", \"state\": \"none\", \"blocktype\": \"none\", \"opciones\": \"none\", \"entities\": {}}}\n",
      " [.] Got %r None\n",
      "\n",
      "_________________________________________________________________________________________________________________________\n",
      "Mesaje de la API de Facebook-> \n"
     ]
    },
    {
     "name": "stderr",
     "output_type": "stream",
     "text": [
      "127.0.0.1 - - [18/Mar/2021 23:58:22] \"\u001b[37mPOST /apiREST/v1 HTTP/1.1\u001b[0m\" 200 -\n"
     ]
    },
    {
     "name": "stdout",
     "output_type": "stream",
     "text": [
      " {'object': 'page', 'entry': [{'id': '111445520541316', 'time': 1616133501961, 'messaging': [{'sender': {'id': '3452826248079358'}, 'recipient': {'id': '111445520541316'}, 'timestamp': 1616133501989, 'read': {'watermark': 1616133501445}}]}]}\n",
      "hilo consume\n",
      " [.] Got %r None\n"
     ]
    },
    {
     "name": "stderr",
     "output_type": "stream",
     "text": [
      "127.0.0.1 - - [18/Mar/2021 23:59:22] \"\u001b[37mPOST /apiREST/v1 HTTP/1.1\u001b[0m\" 200 -\n"
     ]
    },
    {
     "name": "stdout",
     "output_type": "stream",
     "text": [
      "\n",
      "_________________________________________________________________________________________________________________________\n",
      "Mesaje de la API de Facebook-> \n",
      " {'object': 'page', 'entry': [{'id': '111445520541316', 'time': 1616133562099, 'messaging': [{'sender': {'id': '3452826248079358'}, 'recipient': {'id': '111445520541316'}, 'timestamp': 1616133562241, 'read': {'watermark': 1616133561559}}]}]}\n",
      "hilo consume\n",
      " [.] Got %r None\n"
     ]
    },
    {
     "name": "stderr",
     "output_type": "stream",
     "text": [
      "127.0.0.1 - - [18/Mar/2021 23:59:25] \"\u001b[37mPOST /apiREST/v1 HTTP/1.1\u001b[0m\" 200 -\n"
     ]
    },
    {
     "name": "stdout",
     "output_type": "stream",
     "text": [
      "\n",
      "_________________________________________________________________________________________________________________________\n",
      "Mesaje de la API de Facebook-> \n",
      " {'object': 'page', 'entry': [{'id': '111445520541316', 'time': 1616133565407, 'messaging': [{'sender': {'id': '3809640719109108'}, 'recipient': {'id': '111445520541316'}, 'timestamp': 1616133565648, 'delivery': {'mids': ['m_JOKBfQztmYFXA5d6f_lR9TrxWOlmWInsffZ5UHcOgULF5IQjNZmjJTLx07boLe7Z3HVZDkN3bkYK4amMhdV5uw', 'm_CqJDcFtqfQrwDfx7wglPvDrxWOlmWInsffZ5UHcOgUJkSfgpbcJYQoYFokFVTp9x94JthdyThxSGTVzfLjRbyQ', 'm_b3B_uRUmRm2v5kjW5lKjYDrxWOlmWInsffZ5UHcOgUJNVz_OcgZDU5EEbZxeDdL1gNRpgl8zz5FnVMKgLT7X2A'], 'watermark': 1616117946875}}]}]}\n"
     ]
    },
    {
     "name": "stderr",
     "output_type": "stream",
     "text": [
      "127.0.0.1 - - [18/Mar/2021 23:59:26] \"\u001b[37mPOST /apiREST/v1 HTTP/1.1\u001b[0m\" 200 -\n"
     ]
    },
    {
     "name": "stdout",
     "output_type": "stream",
     "text": [
      "\n",
      "_________________________________________________________________________________________________________________________\n",
      "Mesaje de la API de Facebook-> \n",
      " {'object': 'page', 'entry': [{'id': '111445520541316', 'time': 1616133565982, 'messaging': [{'sender': {'id': '3809640719109108'}, 'recipient': {'id': '111445520541316'}, 'timestamp': 1616133566198, 'delivery': {'mids': ['m_5i_7TzClPOymr_x8u9S1WTrxWOlmWInsffZ5UHcOgULcwlA9w831i3BPmKkV7CcsYVH9HAAk8w5pMUwmRbChew', 'm_VYW3D1qRcW9PRNwwCEsVsjrxWOlmWInsffZ5UHcOgUJkcOVHvvnFm5zR_ShkOrg_Hc924yl7sNb-_0cNcs8SWg', 'm_Jcmu7cNXkr-qHu6OG2mzajrxWOlmWInsffZ5UHcOgUK_-KT2iKOFwo8uKa2tILi70mlcGipOe5frCZ-kXdxsiA', 'm_9q3TYSfsssAl5Ao9vycXzDrxWOlmWInsffZ5UHcOgUKR_VHnp641elAcGJx4vc-idbSlkEkSW4_QLdVDRNexIw', 'm_GsaQ3Klk8_BE6GioW3IWQTrxWOlmWInsffZ5UHcOgUJBu9Rm7oGCTBcmoe5xxi8G0_Fv8s5lriXRTnEVW_Xw1g'], 'watermark': 1616121221646}}]}]}\n"
     ]
    },
    {
     "name": "stderr",
     "output_type": "stream",
     "text": [
      "127.0.0.1 - - [18/Mar/2021 23:59:26] \"\u001b[37mPOST /apiREST/v1 HTTP/1.1\u001b[0m\" 200 -\n",
      "127.0.0.1 - - [18/Mar/2021 23:59:26] \"\u001b[37mPOST /apiREST/v1 HTTP/1.1\u001b[0m\" 200 -\n"
     ]
    },
    {
     "name": "stdout",
     "output_type": "stream",
     "text": [
      "\n",
      "_________________________________________________________________________________________________________________________\n",
      "Mesaje de la API de Facebook-> \n",
      " {'object': 'page', 'entry': [{'id': '2153123008120093', 'time': 1616133566258, 'messaging': [{'sender': {'id': '5189951557742323'}, 'recipient': {'id': '2153123008120093'}, 'timestamp': 1616133566355, 'read': {'watermark': 1616133565770}}]}]}\n",
      "hilo consume\n",
      "\n",
      "_________________________________________________________________________________________________________________________\n",
      "Mesaje de la API de Facebook-> \n",
      " {'object': 'page', 'entry': [{'id': '111445520541316', 'time': 1616133566358, 'messaging': [{'sender': {'id': '3809640719109108'}, 'recipient': {'id': '111445520541316'}, 'timestamp': 1616133566585, 'delivery': {'mids': ['m_JHkrk3xSd5EGUvRBACnerDrxWOlmWInsffZ5UHcOgUKm-LO6J4Q1uH9PXUEgZoo3nF2rxGr_Dx1hujZWBtJw3w', 'm_c9sdSJ5WO0dxoY9_9Z9OCjrxWOlmWInsffZ5UHcOgUKx0acHy3trg-e-1svOleXwFeO3YJtVlSllsCOYVU0W9A', 'm_qBlIACtnrGVIOSL0ToRCeTrxWOlmWInsffZ5UHcOgUImaYvsPYdMEWgKF8gA7js6PM2dg5Kuv5mTJtcdV5dUSQ', 'm_Mg5bUMe0filso3Xiob2c7zrxWOlmWInsffZ5UHcOgUKG76ydsBBkz9L6JKCx9RhUXqWTuBWeqWskFuHhKETUjA', 'm_uHl-tJ6o5b_aj2uo40-kqTrxWOlmWInsffZ5UHcOgUI6hlka1LYWe10ZANWaUwpIwrw4AqAg-_d5YM0wax7FFg', 'm_WTB8lGpJlIGN_bitthoBNzrxWOlmWInsffZ5UHcOgULu-gHZu4K7m8MY0kewmLKrg6ijlsLuyY6WZH6MOdDhjw', 'm_iNQB-KRQ9xq1gAZ-Ah7UrDrxWOlmWInsffZ5UHcOgULmKHjcfFrTOveJznnSgoiBj-xzrMu4m5jbt2cFCxDTZQ', 'm_UyRYmRdDCjqb4kv89Iv7MTrxWOlmWInsffZ5UHcOgUL31AVOHGOWWAJzAKVntvH0PKHNwh4Qdm_w2VnGRwr_Xw', 'm_-VB49-XfjOgKcK-qudHkHjrxWOlmWInsffZ5UHcOgUL-8yKOgMyDEgYaOAgz9XTFyWWpT75coFPcrcPGHHIybA', 'm_H31linwateWleljiiWtmcTrxWOlmWInsffZ5UHcOgUID4EyCiV2zoPKB-l1PfdP6FqiA9ixpne2Wm0Va9v2YYA', 'm_nCmusdTfYxEGoDqGZPyjzTrxWOlmWInsffZ5UHcOgUKxx_n9Uyj99QSqdO3sebxRBzeOsWHZHFm55EyLl3Hp6Q', 'm_Penn9Q3uKcRKN0o4yPN_gjrxWOlmWInsffZ5UHcOgUKwe-zClV-3WKMoKG855yIZt-GEk_eAsx_GLT133yjUTQ'], 'watermark': 1616121602692}}]}]}\n"
     ]
    },
    {
     "name": "stderr",
     "output_type": "stream",
     "text": [
      "127.0.0.1 - - [18/Mar/2021 23:59:27] \"\u001b[37mPOST /apiREST/v1 HTTP/1.1\u001b[0m\" 200 -\n"
     ]
    },
    {
     "name": "stdout",
     "output_type": "stream",
     "text": [
      "\n",
      "_________________________________________________________________________________________________________________________\n",
      "Mesaje de la API de Facebook-> \n",
      " {'object': 'page', 'entry': [{'id': '111445520541316', 'time': 1616133566681, 'messaging': [{'sender': {'id': '3809640719109108'}, 'recipient': {'id': '111445520541316'}, 'timestamp': 1616133566917, 'delivery': {'mids': ['m_UIUTL7Rf7-Imb5SRSK-dGjrxWOlmWInsffZ5UHcOgUIf3IVhWtFnmYKfN8JyB56_xHZZNbcEkBwYqc_jUWzgYQ', 'm_Rrtc2uuxrzvqoIqfzQu2ADrxWOlmWInsffZ5UHcOgULFn2YHOTc32tM4gdlS64CZTO98TM0t7ZG7waAVvjb7Yw', 'm_UEfISaHnFF_YgXJ_sM0FBTrxWOlmWInsffZ5UHcOgUKVe4yZiFARS81OhH4hgMXz_DQx2_dWl5V6E6uI679HPg', 'm_TiNwACx9yW8J70HtOa-47zrxWOlmWInsffZ5UHcOgUII0JEIc5_BFCw3Tdw87aJImvfSp1JM9UJ9mVWwLUOQmA', 'm_5kgTlqRjWmEZzk33T2NqxDrxWOlmWInsffZ5UHcOgUKHewFNcHvo-vSd2ZWM4QYAo-Tf1v0Yj4zv24teGnurkw'], 'watermark': 1616121919421}}]}]}\n"
     ]
    },
    {
     "name": "stderr",
     "output_type": "stream",
     "text": [
      "127.0.0.1 - - [18/Mar/2021 23:59:27] \"\u001b[37mPOST /apiREST/v1 HTTP/1.1\u001b[0m\" 200 -\n"
     ]
    },
    {
     "name": "stdout",
     "output_type": "stream",
     "text": [
      "\n",
      "_________________________________________________________________________________________________________________________\n",
      "Mesaje de la API de Facebook-> \n",
      " {'object': 'page', 'entry': [{'id': '111445520541316', 'time': 1616133567026, 'messaging': [{'sender': {'id': '3809640719109108'}, 'recipient': {'id': '111445520541316'}, 'timestamp': 1616133567365, 'delivery': {'mids': ['m_PpNB_wgrWqDerW1b7uylbjrxWOlmWInsffZ5UHcOgUKLGcrA2g87tgVc04JAbkpbpXk4vzY5I6F3IZJGMACNvg', 'm_lhZmUnRvbqckNnpHR4fefjrxWOlmWInsffZ5UHcOgULn7kgHQVm0WDTRanOPRJTuc8CfoKZ8NGHv5PBffaKm9g', 'm_z9rXTmlHRgu70psXXgIgfTrxWOlmWInsffZ5UHcOgULv_9DNxUhvZi4hVLc_DIZrlC4HCx1M3tvEr3cD9TH8OQ', 'm_VhBm9pldODxcknh1qSi-yTrxWOlmWInsffZ5UHcOgULZ2KLjsNwuaw7O9k82ikwyzt070UP-fJYuCYie10-cIA', 'm_piv_ZiM7wOVa_lmF6e2fMDrxWOlmWInsffZ5UHcOgUKdW98Ai7lq-zpqBJ-S7KGJJdbTwlTdyCmIxLXigDWIfg', 'm_ol87-8MXFr6laDQ1tvC6ODrxWOlmWInsffZ5UHcOgUK2e7hrQGvIVn5EacsIcyNPd5sN2b-Ty9EJGik610edrA', 'm_D77b2-VzJlFQoaOXJfzOVzrxWOlmWInsffZ5UHcOgULX_-cBpWAeXWwWrzlRSEzQVF24kGzdjiVo9DwbRy18PA', 'm_RU_UMXNtkplXMbZdxy-0nTrxWOlmWInsffZ5UHcOgUIQGxVnjWXGGeiJTp4XGdDosz9m7T2RjynCbjJUsuklAw', 'm_jFR05cSOloAhap2JyVBq9DrxWOlmWInsffZ5UHcOgUJatgCqa1ZbcTi4K43bx1raq_XP3p5x5tC2H_d6vxV9Xw', 'm_0pKwkMjZmHZ6p2PJqGMSdjrxWOlmWInsffZ5UHcOgUL3M1BXqCtTfnUegwnVALGnKo1VfeL5s082Fxc0POk46g', 'm_p9aAYDwlvCogTfXUA8YIQTrxWOlmWInsffZ5UHcOgUIo7PtXJGZ7jTPPmf5GKfl95eSptb40aWbo5vxmOp9EVA', 'm_KQiYiai6wLxqkMJK5jdwBzrxWOlmWInsffZ5UHcOgULBpxGDv5MsUeQLEn-84aknBAPi69Lrd6qXRcwE_5tFFw', 'm_ChGVgAFZrQ8uTR06wL0YFDrxWOlmWInsffZ5UHcOgUKVYI2wbiuFISlF5rE6PCsnqgc5xvrMvnqPOIEWAx6pNA', 'm_RF_pKid5mybSbYMb7jUZOzrxWOlmWInsffZ5UHcOgUJy9coRYkEOQHqYZcgb209EkOskPQBiqMrbQTrxJ5Tmtw'], 'watermark': 1616124391989}}]}]}\n"
     ]
    },
    {
     "name": "stderr",
     "output_type": "stream",
     "text": [
      "127.0.0.1 - - [18/Mar/2021 23:59:27] \"\u001b[37mPOST /apiREST/v1 HTTP/1.1\u001b[0m\" 200 -\n"
     ]
    },
    {
     "name": "stdout",
     "output_type": "stream",
     "text": [
      "\n",
      "_________________________________________________________________________________________________________________________\n",
      "Mesaje de la API de Facebook-> \n",
      " {'object': 'page', 'entry': [{'id': '111445520541316', 'time': 1616133567337, 'messaging': [{'sender': {'id': '3809640719109108'}, 'recipient': {'id': '111445520541316'}, 'timestamp': 1616133567601, 'delivery': {'mids': ['m_ykfcV4ACM0fafoF39U_ZiDrxWOlmWInsffZ5UHcOgUIz_s2mc06IUKizEEk9zih81pPv9uKoPALDj7Csy1jWcQ', 'm_Anv-7chg9fp4VCG6EZvqIDrxWOlmWInsffZ5UHcOgULvAR9hE-gASY40InelHFYbwuT2Cahr1qlnom9GvHaj-w', 'm_3yDBFDF9QEX_mdKW37XbgzrxWOlmWInsffZ5UHcOgUI8KZyCRZkV5pFfeK5J7PJxLAqcZRzh-JQEJw_Kdz2C5g', 'm_FQLSKPSYRw6Ps_Uuuvc5DDrxWOlmWInsffZ5UHcOgULl9Y4wgHws2Yn7R-WD_28JVErAOBE-1W6yU7CPB5tgRg', 'm_GgeZ6_vWF6vFykonxfkQHjrxWOlmWInsffZ5UHcOgUJ1nukiaJGnCtWijkbuwXXMFXVVidZ5VMVbNWHM6DHrQA', 'm_qQZDtfeY07VV7KIo6IjJmDrxWOlmWInsffZ5UHcOgUJ79CS_oEeLdGtZVp53xBHR3W6WGuDUul2gOJWRVgpaBA', 'm_bNYkDfGzTmLrW-P8IpH15jrxWOlmWInsffZ5UHcOgULtj7NNTTELg9y9U6437eM_G-89rSJWSyQ9iNPd25aAKw'], 'watermark': 1616125242643}}]}]}\n"
     ]
    },
    {
     "name": "stderr",
     "output_type": "stream",
     "text": [
      "127.0.0.1 - - [18/Mar/2021 23:59:28] \"\u001b[37mPOST /apiREST/v1 HTTP/1.1\u001b[0m\" 200 -\n"
     ]
    },
    {
     "name": "stdout",
     "output_type": "stream",
     "text": [
      "\n",
      "_________________________________________________________________________________________________________________________\n",
      "Mesaje de la API de Facebook-> \n",
      " {'object': 'page', 'entry': [{'id': '111445520541316', 'time': 1616133567706, 'messaging': [{'sender': {'id': '3809640719109108'}, 'recipient': {'id': '111445520541316'}, 'timestamp': 1616133567988, 'delivery': {'mids': ['m_NVP7h8--oeWyQepnoxJAqDrxWOlmWInsffZ5UHcOgULAEsCHadopE1WvUZHEnVyB2a4OLlmXNNdHb5SBxgqrbw', 'm_M9JXor_uyFOBo_BY_8QdNzrxWOlmWInsffZ5UHcOgUKztzbpAFFgp2_azlyFyASVOeKqCloy-Ll_PvH59nYuuw', 'm_3Kgqqtiinq8t3FTOfYaOeTrxWOlmWInsffZ5UHcOgUInbpFC0d8Lsh49Vv-1wTXo1btQJO6hzZxYtk2DGPVivA', 'm_aCJ0mpOpaODrlkDCtTPMeDrxWOlmWInsffZ5UHcOgUJIhyu9-TphCqWmrTaLqo_nhLMK5OTcNpykbavtFSAuKg', 'm_OqA0dLwUuq9uWiBb94QDVzrxWOlmWInsffZ5UHcOgULe4N5uBaDSTgy6zWmOM88vc4jJy0Jnj_9h7yftVDP23g', 'm_vzKdY1oWk1XWLAMQKlKVfzrxWOlmWInsffZ5UHcOgUKupZbx9kwUH52pBtsTpA4Ts8-gzE-0qyIj5-BxBLGROA', 'm_Z9c3zqoNjjKx7lm_ACJk_zrxWOlmWInsffZ5UHcOgUKB0s0ovJ7cqUXgoBbrtvk4r-7I0e4dfb7LFN1S3SXPOQ'], 'watermark': 1616127304697}}]}]}\n",
      "\n",
      "_________________________________________________________________________________________________________________________\n",
      "Mesaje de la API de Facebook-> \n",
      " {'object': 'page', 'entry': [{'id': '111445520541316', 'time': 1616133567856, 'messaging': [{'sender': {'id': '3809640719109108'}, 'recipient': {'id': '111445520541316'}, 'timestamp': 1616133568180, 'delivery': {'mids': ['m_W1Bo4n7SiU0BHsJtKdwriTrxWOlmWInsffZ5UHcOgUI81p7tA08X4-1dSyCb3Jf-Z3anSzHWPcmeix1Ekgn10g', 'm_lWymR_cXr-4_GnDOeCvZgzrxWOlmWInsffZ5UHcOgUKzRS4TNOPu5yiYWE_ALJU55TYkIi67Lt_GAWjH4htfpw', 'm_UzVI_IrdeLCRdZ7VG9UG1TrxWOlmWInsffZ5UHcOgULG6thANbhuLX_Bdmilf5xGFRDprTseIWscgB-ZiMf_jQ', 'm_ipoXCFmLOHLxoP1nCV7aRTrxWOlmWInsffZ5UHcOgUIxSlwrN3sizQboyEGw5Zkcf0bGXEZiUED4YHqIR6b1bQ', 'm_br33pNIreosYrnyQBt9nwDrxWOlmWInsffZ5UHcOgUJb0ZKbCuQuKMRm25SBq8QaHzUc6dAE2WdQd8B4mdquvQ', 'm_kBzufurfiV-ndWRCQPBqaTrxWOlmWInsffZ5UHcOgUI96auqAoyom3cVgU_ai9ZTGp4HngaLu939TCiikANqBg', 'm_OScEbxVFravtnQw9ram1WjrxWOlmWInsffZ5UHcOgUKzqu8VDP1d8BPg5ZzDo6l8kz_Ah-U9WsLY5dR6zOrscQ', 'm_JRQU63CxnyH1fDcj4eCHrTrxWOlmWInsffZ5UHcOgUIWqNv6fvNj6Btp9oegqKK4IM5ZbhaDoubzSwRabxdxjw', 'm_s3hHmY2mbOAoaKoslR4kJDrxWOlmWInsffZ5UHcOgULGRvsUB8atOVWSS9pZkzRxaaxHOCSmDt6R8Tbz1eivgA'], 'watermark': 1616129986007}}]}]}\n"
     ]
    },
    {
     "name": "stderr",
     "output_type": "stream",
     "text": [
      "127.0.0.1 - - [18/Mar/2021 23:59:28] \"\u001b[37mPOST /apiREST/v1 HTTP/1.1\u001b[0m\" 200 -\n",
      "127.0.0.1 - - [18/Mar/2021 23:59:28] \"\u001b[37mPOST /apiREST/v1 HTTP/1.1\u001b[0m\" 200 -\n"
     ]
    },
    {
     "name": "stdout",
     "output_type": "stream",
     "text": [
      "\n",
      "_________________________________________________________________________________________________________________________\n",
      "Mesaje de la API de Facebook-> \n",
      " {'object': 'page', 'entry': [{'id': '111445520541316', 'time': 1616133568095, 'messaging': [{'sender': {'id': '3809640719109108'}, 'recipient': {'id': '111445520541316'}, 'timestamp': 1616133568288, 'delivery': {'mids': ['m_sRRAoibjqBhve5jtd-jCpTrxWOlmWInsffZ5UHcOgUIPQSg2p_mFJisTW-RBIZcE1nxDLr3lm66AwYPpCHRcSA', 'm_RkwXxSUdBjL2QcT9340nlDrxWOlmWInsffZ5UHcOgULlaVXqfcqvlfZSeHHT5e7dfTugn5Z2ROAse05urp-FuQ', 'm__U-o4b7FegnkML5qdqwNuDrxWOlmWInsffZ5UHcOgUK91rb0h6fsXijQDlpO3JE9vmt7CGZwCLCDXeEKQa9ZeQ', 'm_SRsOm0scx5OpzQs4CzVL8TrxWOlmWInsffZ5UHcOgUIf2YlB2eHpeAGYuZzV_2dsquSaSma4wujO0hSPbal0Wg', 'm_DoYNZ_vpMXJMxUEfxSyzmjrxWOlmWInsffZ5UHcOgULqO6P6hbdKmy2yr0ySEs9jOdCUYQUHeLKclMo7JgKYrw', 'm_NO9kmYd8N1dD_nwIqF1P0zrxWOlmWInsffZ5UHcOgUJvnDZIanFCpvN_kMNfVmAJ2LUQ6Q5SRhRqMXqdOTcgWw', 'm_u0uX0-I1xQgoR68TK5c8jzrxWOlmWInsffZ5UHcOgUJ_CVXqyLGZr3fFuSrVag-s5wdKTYqZ9Qh_nvGvW4LXiA', 'm_T49aOnBj27fyO1iMOcxa0DrxWOlmWInsffZ5UHcOgUJCQXZSW_HyyabPjRcMdWrBKlhrevP7d3y71tPh9vb5oA', 'm_hfMnnV2pfb0-7Lin1vw_QTrxWOlmWInsffZ5UHcOgUKATfJT3gl7lqXKhP4yp9Rn3HNrhKg14EVX0i0uO5N4Rw'], 'watermark': 1616132752593}}]}]}\n",
      "\n",
      "_________________________________________________________________________________________________________________________\n"
     ]
    },
    {
     "name": "stderr",
     "output_type": "stream",
     "text": [
      "127.0.0.1 - - [18/Mar/2021 23:59:28] \"\u001b[37mPOST /apiREST/v1 HTTP/1.1\u001b[0m\" 200 -\n"
     ]
    },
    {
     "name": "stdout",
     "output_type": "stream",
     "text": [
      "Mesaje de la API de Facebook-> \n",
      " {'object': 'page', 'entry': [{'id': '111445520541316', 'time': 1616133568055, 'messaging': [{'sender': {'id': '3809640719109108'}, 'recipient': {'id': '111445520541316'}, 'timestamp': 1616133568446, 'delivery': {'mids': ['m_7xa_HYkRInu4RvMEn3p1OjrxWOlmWInsffZ5UHcOgULQXg8HxPXb2_WXJEzlpUfPChAeuRVus9Y64Vmi0XRHyA', 'm_aVpZj2Vt5AVzjp-_wyRQjzrxWOlmWInsffZ5UHcOgUIyzEYFAGF_5N1J1DwReNaaSgDRSzqz9PzRmtKtrJ6_hg', 'm_YoA0C76NMXVJqUfPdPhVwzrxWOlmWInsffZ5UHcOgUJgxajSNMEkzrm6tSx2TDqmH3c6kstUfr8zPe6N39xcTw', 'm_3fJO2pabKAFEk_sPe7ZPNTrxWOlmWInsffZ5UHcOgUJPEnLIZYYzsQ7fgI_dVizAAKuPK-jDtrIlW2pVt7VyjQ', 'm_RcNJVp0UiFew8MXHjy37_TrxWOlmWInsffZ5UHcOgULxOhE_BusLxBHvgBSfPAPrHLAWZRRYfVX5eGPLTH-rRg'], 'watermark': 1616131140179}}]}]}\n"
     ]
    },
    {
     "name": "stderr",
     "output_type": "stream",
     "text": [
      "127.0.0.1 - - [18/Mar/2021 23:59:28] \"\u001b[37mPOST /apiREST/v1 HTTP/1.1\u001b[0m\" 200 -\n"
     ]
    },
    {
     "name": "stdout",
     "output_type": "stream",
     "text": [
      "\n",
      "_________________________________________________________________________________________________________________________\n",
      "Mesaje de la API de Facebook-> \n",
      " {'object': 'page', 'entry': [{'id': '111445520541316', 'time': 1616133568527, 'messaging': [{'sender': {'id': '3809640719109108'}, 'recipient': {'id': '111445520541316'}, 'timestamp': 1616133568828, 'delivery': {'mids': ['m_KFACxMxtHEz2zfdJgm34rTrxWOlmWInsffZ5UHcOgUJVpQfpavR2K52DgFmYplhuKHvLewt9NjTbPU_LMILY5w', 'm_aW9ZlThBACHidL7ZCnrW5TrxWOlmWInsffZ5UHcOgUIIrNfr1EiY4aEfMXKnI2i8fZlQXLBlSRUF3PHWd7Jlaw', 'm_4ck7oQ_xn3pWaEwxltGTZTrxWOlmWInsffZ5UHcOgULo5zXUxBWjlnbmRWyybaiqFr2h5552uglNtW7FBMfb1g', 'm_dtEBRXOy_35za8TFInkd3jrxWOlmWInsffZ5UHcOgUI8Lwpj57SY5H_Q16ykoYk1uFjj2Ez3j_JX_sgXoGuR8A', 'm_s3n_g06cLhuwpqbd-O7d_DrxWOlmWInsffZ5UHcOgUJCEWXGuY6KMEUhEy89S4k4WMcjTN0UrA9TsmC3wmLNAg', 'm_bwl3nm4sfJ-iCyGCPkGDmTrxWOlmWInsffZ5UHcOgULbCZ4XAcaVl3gi1lGgMVhNlK7pmFd5k0pUCiUOPWSNNg', 'm_9_FDajYpIm9wkMOqo3yiXzrxWOlmWInsffZ5UHcOgUJy0AzUaPoKc1TwO4kjZWOVfX7fRuXtACrao6jdiu3o5A', 'm_l7m-nk3i795mhk4ZhLfg0jrxWOlmWInsffZ5UHcOgUJRmnoeVUCxx_VPIUmNv2v2mwvgK0yrEAjY5mW3O4-lHg', 'm_bKpq-vcLYkCHE_x78epywTrxWOlmWInsffZ5UHcOgUI0jNpuKCwJg4YPgdy8m4DiBNYuLDgaDw71fu4Bn1_4Pg', 'm_fzbTos5GIluAlapzjcaGhzrxWOlmWInsffZ5UHcOgULElbGWCL73xxwcTSWLgG8ismd0bdFjb2tAMrwXwqX-SA'], 'watermark': 1616133157333}}]}]}\n",
      "\n",
      "_________________________________________________________________________________________________________________________\n",
      "Mesaje de la API de Facebook-> \n"
     ]
    },
    {
     "name": "stderr",
     "output_type": "stream",
     "text": [
      "127.0.0.1 - - [18/Mar/2021 23:59:29] \"\u001b[37mPOST /apiREST/v1 HTTP/1.1\u001b[0m\" 200 -\n"
     ]
    },
    {
     "name": "stdout",
     "output_type": "stream",
     "text": [
      " {'object': 'page', 'entry': [{'id': '111445520541316', 'time': 1616133568678, 'messaging': [{'sender': {'id': '3809640719109108'}, 'recipient': {'id': '111445520541316'}, 'timestamp': 1616133569001, 'delivery': {'mids': ['m_wq8nK1exBzxUlDtk579t3jrxWOlmWInsffZ5UHcOgUK42MZzCYrch-IyzvdC73fd9zCoy7Ec4JtzmoUb_HmFVg', 'm_ex0KVzEzviEfcKVG7ZZicTrxWOlmWInsffZ5UHcOgUJMrQ3P60QqElR3yHuUuI2GUbNGRi3e711DPA18Xfkxww', 'm_l6g_s3OImLYfIg916BvzCzrxWOlmWInsffZ5UHcOgULAncZq9RHtFNOaUdD_vPsnfWTFYrADRcRKTF2dTMVHVA', 'm_UgM4K5n3ltoPOiA8k1zPrDrxWOlmWInsffZ5UHcOgUKfaOpEzZbZkO9XG4MB3KnMjMxkdGMVCO6FKAEOfYSQEA', 'm_1alt9pyivehJvC3fqgnA4zrxWOlmWInsffZ5UHcOgUK3B8E9RAJDrJBqe6yRAK8A8GB8eOhNFubhF53B44ZQPg', 'm_TKt4lacplmgSaJnDAAYRqjrxWOlmWInsffZ5UHcOgUJU6vhSdZirkkHYNxZvds72ei91_cAXW3r40zbpWkvLCw', 'm_T4L9XBiRoqAHdfpgin2oXzrxWOlmWInsffZ5UHcOgUK4ubn_N_hsqHDC7_GczPob0xPzXXanQ7aZdwTdwF-D7A'], 'watermark': 1616133494911}}]}]}\n"
     ]
    },
    {
     "name": "stderr",
     "output_type": "stream",
     "text": [
      "127.0.0.1 - - [18/Mar/2021 23:59:51] \"\u001b[37mPOST /apiREST/v1 HTTP/1.1\u001b[0m\" 200 -\n"
     ]
    },
    {
     "name": "stdout",
     "output_type": "stream",
     "text": [
      "\n",
      "_________________________________________________________________________________________________________________________\n",
      "Mesaje de la API de Facebook-> \n",
      " {'object': 'page', 'entry': [{'id': '111445520541316', 'time': 1616133591303, 'messaging': [{'sender': {'id': '3452826248079358'}, 'recipient': {'id': '111445520541316'}, 'timestamp': 1616133591616, 'read': {'watermark': 1616133590818}}]}]}\n",
      "hilo consume\n",
      "\n",
      "_________________________________________________________________________________________________________________________\n",
      "Mesaje de la API de Facebook-> \n",
      " {'object': 'page', 'entry': [{'id': '111445520541316', 'time': 1616133591728, 'messaging': [{'sender': {'id': '3452826248079358'}, 'recipient': {'id': '111445520541316'}, 'timestamp': 1616133591759, 'read': {'watermark': 1616133590883}}]}]}\n"
     ]
    },
    {
     "name": "stderr",
     "output_type": "stream",
     "text": [
      "127.0.0.1 - - [18/Mar/2021 23:59:51] \"\u001b[37mPOST /apiREST/v1 HTTP/1.1\u001b[0m\" 200 -\n",
      "127.0.0.1 - - [18/Mar/2021 23:59:52] \"\u001b[37mPOST /apiREST/v1 HTTP/1.1\u001b[0m\" 200 -\n",
      "127.0.0.1 - - [18/Mar/2021 23:59:52] \"\u001b[37mPOST /apiREST/v1 HTTP/1.1\u001b[0m\" 200 -\n"
     ]
    },
    {
     "name": "stdout",
     "output_type": "stream",
     "text": [
      "hilo consume [.] Got %r\n",
      " None\n",
      "\n",
      "_________________________________________________________________________________________________________________________\n",
      "Mesaje de la API de Facebook-> \n",
      " {'object': 'page', 'entry': [{'id': '111445520541316', 'time': 1616133591862, 'messaging': [{'sender': {'id': '3452826248079358'}, 'recipient': {'id': '111445520541316'}, 'timestamp': 1616133591889, 'read': {'watermark': 1616133591360}}]}]}\n",
      "\n",
      "_________________________________________________________________________________________________________________________\n",
      "Mesaje de la API de Facebook-> \n",
      " {'object': 'page', 'entry': [{'id': '111445520541316', 'time': 1616133591756, 'messaging': [{'sender': {'id': '3452826248079358'}, 'recipient': {'id': '111445520541316'}, 'timestamp': 1616133591557, 'message': {'mid': 'm_yN--GLsYCIoa_xDOgcwXpzrxWOlmWInsffZ5UHcOgUIroi0Q0OTN-x3KXDbw_ePO-7GcktaUxoguQpT5OhnMFw', 'text': 'Hola'}}]}]}\n",
      "hilo consume\n",
      "[{'sender': {'id': '3452826248079358'}, 'recipient': {'id': '111445520541316'}, 'timestamp': 1616133591557, 'message': {'mid': 'm_yN--GLsYCIoa_xDOgcwXpzrxWOlmWInsffZ5UHcOgUIroi0Q0OTN-x3KXDbw_ePO-7GcktaUxoguQpT5OhnMFw', 'text': 'Hola'}}] [.] Got %r\n",
      " None\n",
      "hilo consume\n",
      "\n",
      "______________________________________________no read__________________________________________________________________________\n",
      "\n",
      "\t\tMensaje enviado al Nucleo Logico->\n",
      "  {\"payload\": {\"robot\": \"none\", \"id_face\": \"111445520541316\", \"recipient_id\": \"3452826248079358\", \"access_token\": \"none\", \"content\": \"Hola\", \"type_resp\": \"message\", \"state\": \"none\", \"blocktype\": \"none\", \"opciones\": \"none\", \"entities\": {}}}\n",
      "\n",
      "_________________________________________________________________________________________________________________________\n",
      "\t\t\n",
      "Respuesta del Nucleo Logico->  {'Respuesta': {'content': 'Hola, soy un chatbot y esto es un mensaje de prueba y adios', 'next_id': 'prueba_captura', 'blockType': 'informativo', 'contentType': 'text', 'typingTime': '3', 'payload': {'content': '', 'state': 'prueba_inicio', 'recipient_id': '3452826248079358', 'entities': {}, 'access_token': 'EAALZCCZBzPwfkBAAo7njAlW7s4DTj1ZCs5v1ung1MhEyMlJXOOtiG8r7JcBgXVPhZBHkJONyTB6jKG470UyqGPWn4aDPnisgtT2ZCZAwQIjQgZAZBufZBJXmHz6mPKSgdmP6ikDA87vocZBay2dfQdz1OYezmYbxwfILXUvXtjUMZAniQZDZD'}}}\n",
      "\n",
      "\n",
      "---------------------------------------------------------------------------\n",
      "mensaje enviado a la API de facebook:\n",
      " {'message': {'text': 'Hola, soy un chatbot y esto es un mensaje de prueba y adios'}, 'recipient': {'id': '3452826248079358'}, 'notification_type': 'REGULAR'}\n",
      " [.] Got %r None\n",
      "\n",
      "_________________________________________________________________________________________________________________________\n",
      "\t\t\n",
      "Respuesta del Nucleo Logico->  {'Respuesta': {'content': 'introduce tu correo', 'next_id': 'pruebaCorreo_01inicial_inicial', 'blockType': 'input', 'contentType': 'text', 'typingTime': '3', 'payload': {'content': '', 'state': 'prueba_captura', 'recipient_id': '3452826248079358', 'entities': {}, 'access_token': 'EAALZCCZBzPwfkBAAo7njAlW7s4DTj1ZCs5v1ung1MhEyMlJXOOtiG8r7JcBgXVPhZBHkJONyTB6jKG470UyqGPWn4aDPnisgtT2ZCZAwQIjQgZAZBufZBJXmHz6mPKSgdmP6ikDA87vocZBay2dfQdz1OYezmYbxwfILXUvXtjUMZAniQZDZD'}, 'validacion': '^[a-z0-9]+[\\\\._]?[a-z0-9]+[@]\\\\w+[.]\\\\w{2,3}$', 'default_id': 'prueba_captura'}}\n"
     ]
    },
    {
     "name": "stderr",
     "output_type": "stream",
     "text": [
      "127.0.0.1 - - [18/Mar/2021 23:59:53] \"\u001b[37mPOST /apiREST/v1 HTTP/1.1\u001b[0m\" 200 -\n",
      "127.0.0.1 - - [18/Mar/2021 23:59:53] \"\u001b[37mPOST /apiREST/v1 HTTP/1.1\u001b[0m\" 200 -\n",
      "127.0.0.1 - - [18/Mar/2021 23:59:53] \"\u001b[37mPOST /apiREST/v1 HTTP/1.1\u001b[0m\" 200 -\n"
     ]
    },
    {
     "name": "stdout",
     "output_type": "stream",
     "text": [
      "\n",
      "_________________________________________________________________________________________________________________________\n",
      "Mesaje de la API de Facebook-> \n",
      " {'object': 'page', 'entry': [{'id': '111445520541316', 'time': 1616133593273, 'messaging': [{'sender': {'id': '111445520541316'}, 'recipient': {'id': '3452826248079358'}, 'timestamp': 1616133593194, 'message': {'mid': 'm_wiZ-4rP1sTCOg6T_Fi-LdDrxWOlmWInsffZ5UHcOgUIVBNfAg81j21JCRKsXl9vkqdhhv8nsjIkg2WbG-29WNA', 'is_echo': True, 'text': 'Hola, soy un chatbot y esto es un mensaje de prueba y adios', 'app_id': 843376636183033}}]}]}\n",
      "[{'sender': {'id': '111445520541316'}, 'recipient': {'id': '3452826248079358'}, 'timestamp': 1616133593194, 'message': {'mid': 'm_wiZ-4rP1sTCOg6T_Fi-LdDrxWOlmWInsffZ5UHcOgUIVBNfAg81j21JCRKsXl9vkqdhhv8nsjIkg2WbG-29WNA', 'is_echo': True, 'text': 'Hola, soy un chatbot y esto es un mensaje de prueba y adios', 'app_id': 843376636183033}}]\n",
      "\n",
      "\n",
      "---------------------------------------------------------------------------\n",
      "mensaje enviado a la API de facebook:\n",
      " \n",
      "_________________________________________________________________________________________________________________________{'message': {'text': 'introduce tu correo'}, 'recipient': {'id': '3452826248079358'}, 'notification_type': 'REGULAR'}\n",
      "\n",
      "Mesaje de la API de Facebook-> \n",
      " [.] Got %r {'object': 'page', 'entry': [{'id': '111445520541316', 'time': 1616133593352, 'messaging': [{'sender': {'id': '3452826248079358'}, 'recipient': {'id': '111445520541316'}, 'timestamp': 1616133593401, 'delivery': {'mids': ['m_wiZ-4rP1sTCOg6T_Fi-LdDrxWOlmWInsffZ5UHcOgUIVBNfAg81j21JCRKsXl9vkqdhhv8nsjIkg2WbG-29WNA'], 'watermark': 1616133593194}}]}]} \n",
      "Nonehilo consume\n",
      "\n",
      "\n",
      "______________________________________________no read__________________________________________________________________________\n",
      "\n",
      "\t\tMensaje enviado al Nucleo Logico->\n",
      "  {\"payload\": {\"robot\": \"none\", \"id_face\": \"111445520541316\", \"recipient_id\": \"111445520541316\", \"access_token\": \"none\", \"content\": \"Hola, soy un chatbot y esto es un mensaje de prueba y adios\", \"type_resp\": \"message\", \"state\": \"none\", \"blocktype\": \"none\", \"opciones\": \"none\", \"entities\": {}}}\n",
      "\n",
      "_________________________________________________________________________________________________________________________\n",
      "Mesaje de la API de Facebook-> \n",
      " {'object': 'page', 'entry': [{'id': '111445520541316', 'time': 1616133593412, 'messaging': [{'sender': {'id': '3452826248079358'}, 'recipient': {'id': '111445520541316'}, 'timestamp': 1616133593449, 'delivery': {'mids': ['m_wiZ-4rP1sTCOg6T_Fi-LdDrxWOlmWInsffZ5UHcOgUIVBNfAg81j21JCRKsXl9vkqdhhv8nsjIkg2WbG-29WNA'], 'watermark': 1616133593194}}]}]}\n",
      "\n",
      "_________________________________________________________________________________________________________________________\n",
      "Mesaje de la API de Facebook-> \n",
      " {'object': 'page', 'entry': [{'id': '111445520541316', 'time': 1616133593431, 'messaging': [{'sender': {'id': '3452826248079358'}, 'recipient': {'id': '111445520541316'}, 'timestamp': 1616133593534, 'read': {'watermark': 1616133592952}}]}]}\n"
     ]
    },
    {
     "name": "stderr",
     "output_type": "stream",
     "text": [
      "127.0.0.1 - - [18/Mar/2021 23:59:53] \"\u001b[37mPOST /apiREST/v1 HTTP/1.1\u001b[0m\" 200 -\n"
     ]
    },
    {
     "name": "stdout",
     "output_type": "stream",
     "text": [
      "hilo consume\n"
     ]
    },
    {
     "name": "stderr",
     "output_type": "stream",
     "text": [
      "127.0.0.1 - - [18/Mar/2021 23:59:54] \"\u001b[37mPOST /apiREST/v1 HTTP/1.1\u001b[0m\" 200 -\n"
     ]
    },
    {
     "name": "stdout",
     "output_type": "stream",
     "text": [
      "\n",
      "_________________________________________________________________________________________________________________________\n",
      "\t\t\n",
      "Respuesta del Nucleo Logico->  {'Respuesta': {'content': 'Hola, soy un chatbot y esto es un mensaje de prueba y adios', 'next_id': 'prueba_captura', 'blockType': 'informativo', 'contentType': 'text', 'typingTime': '3', 'payload': {'content': '', 'state': 'prueba_inicio', 'recipient_id': '111445520541316', 'entities': {}, 'access_token': 'EAALZCCZBzPwfkBAAo7njAlW7s4DTj1ZCs5v1ung1MhEyMlJXOOtiG8r7JcBgXVPhZBHkJONyTB6jKG470UyqGPWn4aDPnisgtT2ZCZAwQIjQgZAZBufZBJXmHz6mPKSgdmP6ikDA87vocZBay2dfQdz1OYezmYbxwfILXUvXtjUMZAniQZDZD'}}}\n",
      " [.] Got %r \n",
      "_________________________________________________________________________________________________________________________None\n",
      "\n",
      "Mesaje de la API de Facebook-> \n",
      " {'object': 'page', 'entry': [{'id': '111445520541316', 'time': 1616133593927, 'messaging': [{'sender': {'id': '3452826248079358'}, 'recipient': {'id': '111445520541316'}, 'timestamp': 1616133593959, 'delivery': {'mids': ['m_pheFbI8kG9YFMAwMG65aBzrxWOlmWInsffZ5UHcOgUKSoj2G93Gz4fczMKlJ0Q4HO444Db_Vib_B5Ngk6yUkdg'], 'watermark': 1616133593771}}]}]}\n"
     ]
    },
    {
     "name": "stderr",
     "output_type": "stream",
     "text": [
      "127.0.0.1 - - [18/Mar/2021 23:59:54] \"\u001b[37mPOST /apiREST/v1 HTTP/1.1\u001b[0m\" 200 -\n",
      "127.0.0.1 - - [18/Mar/2021 23:59:54] \"\u001b[37mPOST /apiREST/v1 HTTP/1.1\u001b[0m\" 200 -\n"
     ]
    },
    {
     "name": "stdout",
     "output_type": "stream",
     "text": [
      "\n",
      "\n",
      "---------------------------------------------------------------------------\n",
      "mensaje enviado a la API de facebook:\n",
      " {'message': {'text': 'Hola, soy un chatbot y esto es un mensaje de prueba y adios'}, 'recipient': {'id': '111445520541316'}, 'notification_type': 'REGULAR'}\n",
      " [.] Got %r None\n",
      "\n",
      "_________________________________________________________________________________________________________________________\n",
      "Mesaje de la API de Facebook-> \n",
      " {'object': 'page', 'entry': [{'id': '111445520541316', 'time': 1616133594002, 'messaging': [{'sender': {'id': '3452826248079358'}, 'recipient': {'id': '111445520541316'}, 'timestamp': 1616133594033, 'delivery': {'mids': ['m_pheFbI8kG9YFMAwMG65aBzrxWOlmWInsffZ5UHcOgUKSoj2G93Gz4fczMKlJ0Q4HO444Db_Vib_B5Ngk6yUkdg'], 'watermark': 1616133593771}}]}]}\n",
      "\n",
      "_________________________________________________________________________________________________________________________\n",
      "Mesaje de la API de Facebook-> \n",
      " {'object': 'page', 'entry': [{'id': '111445520541316', 'time': 1616133594008, 'messaging': [{'sender': {'id': '3452826248079358'}, 'recipient': {'id': '111445520541316'}, 'timestamp': 1616133594131, 'read': {'watermark': 1616133593531}}]}]}\n",
      "\n",
      "_________________________________________________________________________________________________________________________\n",
      "Mesaje de la API de Facebook-> \n",
      " {'object': 'page', 'entry': [{'id': '111445520541316', 'time': 1616133594046, 'messaging': [{'sender': {'id': '111445520541316'}, 'recipient': {'id': '3452826248079358'}, 'timestamp': 1616133593771, 'message': {'mid': 'm_pheFbI8kG9YFMAwMG65aBzrxWOlmWInsffZ5UHcOgUKSoj2G93Gz4fczMKlJ0Q4HO444Db_Vib_B5Ngk6yUkdg', 'is_echo': True, 'text': 'introduce tu correo', 'app_id': 843376636183033}}]}]}\n",
      "hilo consume\n",
      "[{'sender': {'id': '111445520541316'}, 'recipient': {'id': '3452826248079358'}, 'timestamp': 1616133593771, 'message': {'mid': 'm_pheFbI8kG9YFMAwMG65aBzrxWOlmWInsffZ5UHcOgUKSoj2G93Gz4fczMKlJ0Q4HO444Db_Vib_B5Ngk6yUkdg', 'is_echo': True, 'text': 'introduce tu correo', 'app_id': 843376636183033}}]\n",
      "hilo consume"
     ]
    },
    {
     "name": "stderr",
     "output_type": "stream",
     "text": [
      "127.0.0.1 - - [18/Mar/2021 23:59:54] \"\u001b[37mPOST /apiREST/v1 HTTP/1.1\u001b[0m\" 200 -\n"
     ]
    },
    {
     "name": "stdout",
     "output_type": "stream",
     "text": [
      "\n",
      "\n",
      "______________________________________________no read__________________________________________________________________________\n",
      "\n",
      "\t\tMensaje enviado al Nucleo Logico->\n",
      "  {\"payload\": {\"robot\": \"none\", \"id_face\": \"111445520541316\", \"recipient_id\": \"111445520541316\", \"access_token\": \"none\", \"content\": \"introduce tu correo\", \"type_resp\": \"message\", \"state\": \"none\", \"blocktype\": \"none\", \"opciones\": \"none\", \"entities\": {}}}\n",
      " [.] Got %r None\n",
      "\n",
      "_________________________________________________________________________________________________________________________\n",
      "\t\t\n",
      "Respuesta del Nucleo Logico->  {'Respuesta': {'content': 'Hola, soy un chatbot y esto es un mensaje de prueba y adios', 'next_id': 'prueba_captura', 'blockType': 'informativo', 'contentType': 'text', 'typingTime': '3', 'payload': {'content': '', 'state': 'prueba_inicio', 'recipient_id': '111445520541316', 'entities': {}, 'access_token': 'EAALZCCZBzPwfkBAAo7njAlW7s4DTj1ZCs5v1ung1MhEyMlJXOOtiG8r7JcBgXVPhZBHkJONyTB6jKG470UyqGPWn4aDPnisgtT2ZCZAwQIjQgZAZBufZBJXmHz6mPKSgdmP6ikDA87vocZBay2dfQdz1OYezmYbxwfILXUvXtjUMZAniQZDZD'}}}\n",
      "\n",
      "\n",
      "---------------------------------------------------------------------------\n",
      "mensaje enviado a la API de facebook:\n",
      " {'message': {'text': 'Hola, soy un chatbot y esto es un mensaje de prueba y adios'}, 'recipient': {'id': '111445520541316'}, 'notification_type': 'REGULAR'}\n",
      " [.] Got %r None\n"
     ]
    },
    {
     "name": "stderr",
     "output_type": "stream",
     "text": [
      "127.0.0.1 - - [18/Mar/2021 23:59:58] \"\u001b[37mPOST /apiREST/v1 HTTP/1.1\u001b[0m\" 200 -\n",
      "127.0.0.1 - - [18/Mar/2021 23:59:58] \"\u001b[37mPOST /apiREST/v1 HTTP/1.1\u001b[0m\" 200 -\n"
     ]
    },
    {
     "name": "stdout",
     "output_type": "stream",
     "text": [
      "\n",
      "_________________________________________________________________________________________________________________________\n",
      "Mesaje de la API de Facebook-> \n",
      " {'object': 'page', 'entry': [{'id': '111445520541316', 'time': 1616133598003, 'messaging': [{'sender': {'id': '3452826248079358'}, 'recipient': {'id': '111445520541316'}, 'timestamp': 1616133598317, 'read': {'watermark': 1616133597518}}]}]}\n",
      "hilo consume\n",
      "\n",
      "_________________________________________________________________________________________________________________________\n",
      "Mesaje de la API de Facebook-> \n",
      " {'object': 'page', 'entry': [{'id': '111445520541316', 'time': 1616133598270, 'messaging': [{'sender': {'id': '3452826248079358'}, 'recipient': {'id': '111445520541316'}, 'timestamp': 1616133598036, 'message': {'mid': 'm_GCMBAi3B1yUfJB3YShDP5TrxWOlmWInsffZ5UHcOgULcnfYQnbpP2ENqX7-eDMEkhKELRT5h25bhhHkz9pLz4A', 'text': 'ajkj@hotmail.com'}}]}]}\n",
      " [.] Got %r None\n",
      "[{'sender': {'id': '3452826248079358'}, 'recipient': {'id': '111445520541316'}, 'timestamp': 1616133598036, 'message': {'mid': 'm_GCMBAi3B1yUfJB3YShDP5TrxWOlmWInsffZ5UHcOgULcnfYQnbpP2ENqX7-eDMEkhKELRT5h25bhhHkz9pLz4A', 'text': 'ajkj@hotmail.com'}}]\n",
      "hilo consume\n",
      "\n",
      "______________________________________________no read__________________________________________________________________________\n",
      "\n",
      "\t\tMensaje enviado al Nucleo Logico->\n",
      "  {\"payload\": {\"robot\": \"none\", \"id_face\": \"111445520541316\", \"recipient_id\": \"3452826248079358\", \"access_token\": \"none\", \"content\": \"ajkj@hotmail.com\", \"type_resp\": \"message\", \"state\": \"none\", \"blocktype\": \"none\", \"opciones\": \"none\", \"entities\": {}}}\n"
     ]
    },
    {
     "name": "stderr",
     "output_type": "stream",
     "text": [
      "127.0.0.1 - - [18/Mar/2021 23:59:58] \"\u001b[37mPOST /apiREST/v1 HTTP/1.1\u001b[0m\" 200 -\n",
      "127.0.0.1 - - [18/Mar/2021 23:59:58] \"\u001b[37mPOST /apiREST/v1 HTTP/1.1\u001b[0m\" 200 -\n"
     ]
    },
    {
     "name": "stdout",
     "output_type": "stream",
     "text": [
      "\n",
      "_________________________________________________________________________________________________________________________\n",
      "Mesaje de la API de Facebook-> \n",
      " {'object': 'page', 'entry': [{'id': '111445520541316', 'time': 1616133598408, 'messaging': [{'sender': {'id': '3452826248079358'}, 'recipient': {'id': '111445520541316'}, 'timestamp': 1616133598620, 'read': {'watermark': 1616133597784}}]}]}\n",
      "\n",
      "_________________________________________________________________________________________________________________________\n",
      "Mesaje de la API de Facebook-> \n",
      " {'object': 'page', 'entry': [{'id': '111445520541316', 'time': 1616133598408, 'messaging': [{'sender': {'id': '3452826248079358'}, 'recipient': {'id': '111445520541316'}, 'timestamp': 1616133598621, 'read': {'watermark': 1616133597568}}]}]}\n",
      "hilo consume\n",
      "hilo consume\n",
      "\n",
      "_________________________________________________________________________________________________________________________\n",
      "\t\t\n",
      "Respuesta del Nucleo Logico->  {'Respuesta': {'content': '¿Cuál es tu correo?', 'next_id': 'mensaje_salida,prueba_slide', 'blockType': 'quickReply', 'contentType': ' ', 'typingTime': '3', 'payload': {'content': '', 'state': 'pruebaCorreo_01inicial_inicial', 'recipient_id': '3452826248079358', 'entities': {'email': 'ajkj@hotmail.com'}, 'access_token': 'EAALZCCZBzPwfkBAAo7njAlW7s4DTj1ZCs5v1ung1MhEyMlJXOOtiG8r7JcBgXVPhZBHkJONyTB6jKG470UyqGPWn4aDPnisgtT2ZCZAwQIjQgZAZBufZBJXmHz6mPKSgdmP6ikDA87vocZBay2dfQdz1OYezmYbxwfILXUvXtjUMZAniQZDZD'}, 'options': ['Salir del bot.', 'Probar carrusel'], 'default_id': 'prueba_qa', 'save_var': '0'}}\n",
      " [.] Got %r None\n",
      " [.] Got %r None\n",
      "\n",
      "\n",
      "---------------------------------------------------------------------------\n",
      "mensaje enviado a la API de facebook:\n",
      " {'message': {'attachment': {'type': 'template', 'payload': {'template_type': 'button', 'text': '¿Cuál es tu correo?', 'buttons': [{'title': 'Salir del bot.', 'type': 'postback', 'payload': 'Salir del bot.'}, {'title': 'Probar carrusel', 'type': 'postback', 'payload': 'Probar carrusel'}]}}}, 'recipient': {'id': '3452826248079358'}, 'notification_type': 'REGULAR'}\n",
      " [.] Got %r None\n"
     ]
    },
    {
     "name": "stderr",
     "output_type": "stream",
     "text": [
      "127.0.0.1 - - [19/Mar/2021 00:00:00] \"\u001b[37mPOST /apiREST/v1 HTTP/1.1\u001b[0m\" 200 -\n",
      "127.0.0.1 - - [19/Mar/2021 00:00:00] \"\u001b[37mPOST /apiREST/v1 HTTP/1.1\u001b[0m\" 200 -\n",
      "127.0.0.1 - - [19/Mar/2021 00:00:00] \"\u001b[37mPOST /apiREST/v1 HTTP/1.1\u001b[0m\" 200 -\n"
     ]
    },
    {
     "name": "stdout",
     "output_type": "stream",
     "text": [
      "\n",
      "_________________________________________________________________________________________________________________________\n",
      "Mesaje de la API de Facebook-> \n",
      " {'object': 'page', 'entry': [{'id': '111445520541316', 'time': 1616133600272, 'messaging': [{'sender': {'id': '3452826248079358'}, 'recipient': {'id': '111445520541316'}, 'timestamp': 1616133600304, 'delivery': {'mids': ['m_obe1ne--5bpZVd85atoLgTrxWOlmWInsffZ5UHcOgUKMaprupf6K4AOzV89c-y3LUIEgPlnzbn2i1ou_GKSFGQ'], 'watermark': 1616133600077}}]}]}\n",
      "\n",
      "_________________________________________________________________________________________________________________________\n",
      "Mesaje de la API de Facebook-> \n",
      " {'object': 'page', 'entry': [{'id': '111445520541316', 'time': 1616133600126, 'messaging': [{'sender': {'id': '111445520541316'}, 'recipient': {'id': '3452826248079358'}, 'timestamp': 1616133600077, 'message': {'mid': 'm_obe1ne--5bpZVd85atoLgTrxWOlmWInsffZ5UHcOgUKMaprupf6K4AOzV89c-y3LUIEgPlnzbn2i1ou_GKSFGQ', 'is_echo': True, 'text': '¿Cuál es tu correo?', 'app_id': 843376636183033, 'attachments': [{'title': '', 'url': None, 'type': 'template', 'payload': {'template_type': 'button', 'buttons': [{'type': 'postback', 'title': 'Salir del bot.', 'payload': 'Salir del bot.'}, {'type': 'postback', 'title': 'Probar carrusel', 'payload': 'Probar carrusel'}]}}]}}]}]}\n",
      "[{'sender': {'id': '111445520541316'}, 'recipient': {'id': '3452826248079358'}, 'timestamp': 1616133600077, 'message': {'mid': 'm_obe1ne--5bpZVd85atoLgTrxWOlmWInsffZ5UHcOgUKMaprupf6K4AOzV89c-y3LUIEgPlnzbn2i1ou_GKSFGQ', 'is_echo': True, 'text': '¿Cuál es tu correo?', 'app_id': 843376636183033, 'attachments': [{'title': '', 'url': None, 'type': 'template', 'payload': {'template_type': 'button', 'buttons': [{'type': 'postback', 'title': 'Salir del bot.', 'payload': 'Salir del bot.'}, {'type': 'postback', 'title': 'Probar carrusel', 'payload': 'Probar carrusel'}]}}]}}]\n",
      "hilo consume\n",
      "\n",
      "______________________________________________no read__________________________________________________________________________\n",
      "\n",
      "\t\tMensaje enviado al Nucleo Logico->\n",
      "  {\"payload\": {\"robot\": \"none\", \"id_face\": \"111445520541316\", \"recipient_id\": \"111445520541316\", \"access_token\": \"none\", \"content\": \"\\u00bfCu\\u00e1l es tu correo?\", \"type_resp\": \"message\", \"state\": \"none\", \"blocktype\": \"none\", \"opciones\": \"none\", \"entities\": {}}}\n",
      "\n",
      "_________________________________________________________________________________________________________________________\n",
      "Mesaje de la API de Facebook-> \n",
      " {'object': 'page', 'entry': [{'id': '111445520541316', 'time': 1616133600322, 'messaging': [{'sender': {'id': '3452826248079358'}, 'recipient': {'id': '111445520541316'}, 'timestamp': 1616133600355, 'delivery': {'mids': ['m_obe1ne--5bpZVd85atoLgTrxWOlmWInsffZ5UHcOgUKMaprupf6K4AOzV89c-y3LUIEgPlnzbn2i1ou_GKSFGQ'], 'watermark': 1616133600077}}]}]}\n"
     ]
    },
    {
     "name": "stderr",
     "output_type": "stream",
     "text": [
      "127.0.0.1 - - [19/Mar/2021 00:00:00] \"\u001b[37mPOST /apiREST/v1 HTTP/1.1\u001b[0m\" 200 -\n"
     ]
    },
    {
     "name": "stdout",
     "output_type": "stream",
     "text": [
      "\n",
      "_________________________________________________________________________________________________________________________\n",
      "Mesaje de la API de Facebook-> \n",
      " {'object': 'page', 'entry': [{'id': '111445520541316', 'time': 1616133600393, 'messaging': [{'sender': {'id': '3452826248079358'}, 'recipient': {'id': '111445520541316'}, 'timestamp': 1616133600529, 'read': {'watermark': 1616133599893}}]}]}\n",
      "hilo consume\n",
      "\n",
      "_________________________________________________________________________________________________________________________\n",
      "\t\t\n",
      "Respuesta del Nucleo Logico->  {'Respuesta': {'content': 'Hola, soy un chatbot y esto es un mensaje de prueba y adios', 'next_id': 'prueba_captura', 'blockType': 'informativo', 'contentType': 'text', 'typingTime': '3', 'payload': {'content': '', 'state': 'prueba_inicio', 'recipient_id': '111445520541316', 'entities': {}, 'access_token': 'EAALZCCZBzPwfkBAAo7njAlW7s4DTj1ZCs5v1ung1MhEyMlJXOOtiG8r7JcBgXVPhZBHkJONyTB6jKG470UyqGPWn4aDPnisgtT2ZCZAwQIjQgZAZBufZBJXmHz6mPKSgdmP6ikDA87vocZBay2dfQdz1OYezmYbxwfILXUvXtjUMZAniQZDZD'}}}\n",
      " [.] Got %r None\n",
      "\n",
      "\n",
      "---------------------------------------------------------------------------\n",
      "mensaje enviado a la API de facebook:\n",
      " {'message': {'text': 'Hola, soy un chatbot y esto es un mensaje de prueba y adios'}, 'recipient': {'id': '111445520541316'}, 'notification_type': 'REGULAR'}\n",
      " [.] Got %r None\n"
     ]
    },
    {
     "name": "stderr",
     "output_type": "stream",
     "text": [
      "127.0.0.1 - - [19/Mar/2021 00:00:04] \"\u001b[37mPOST /apiREST/v1 HTTP/1.1\u001b[0m\" 200 -\n"
     ]
    },
    {
     "name": "stdout",
     "output_type": "stream",
     "text": [
      "\n",
      "_________________________________________________________________________________________________________________________\n",
      "Mesaje de la API de Facebook-> \n",
      " {'object': 'page', 'entry': [{'id': '111445520541316', 'time': 1616133604074, 'messaging': [{'sender': {'id': '3452826248079358'}, 'recipient': {'id': '111445520541316'}, 'timestamp': 1616133604220, 'read': {'watermark': 1616133603559}}]}]}\n",
      "hilo consume\n",
      " [.] Got %r None\n"
     ]
    },
    {
     "name": "stderr",
     "output_type": "stream",
     "text": [
      "127.0.0.1 - - [19/Mar/2021 00:00:05] \"\u001b[37mPOST /apiREST/v1 HTTP/1.1\u001b[0m\" 200 -\n"
     ]
    },
    {
     "name": "stdout",
     "output_type": "stream",
     "text": [
      "\n",
      "_________________________________________________________________________________________________________________________\n",
      "Mesaje de la API de Facebook-> \n",
      " {'object': 'page', 'entry': [{'id': '111445520541316', 'time': 1616133605016, 'messaging': [{'sender': {'id': '3452826248079358'}, 'recipient': {'id': '111445520541316'}, 'timestamp': 1616133605095, 'read': {'watermark': 1616133604502}}]}]}\n",
      "hilo consume\n",
      "\n",
      "_________________________________________________________________________________________________________________________\n",
      "Mesaje de la API de Facebook-> \n"
     ]
    },
    {
     "name": "stderr",
     "output_type": "stream",
     "text": [
      "127.0.0.1 - - [19/Mar/2021 00:00:05] \"\u001b[37mPOST /apiREST/v1 HTTP/1.1\u001b[0m\" 200 -\n",
      "127.0.0.1 - - [19/Mar/2021 00:00:05] \"\u001b[37mPOST /apiREST/v1 HTTP/1.1\u001b[0m\" 200 -\n",
      "127.0.0.1 - - [19/Mar/2021 00:00:05] \"\u001b[37mPOST /apiREST/v1 HTTP/1.1\u001b[0m\" 200 -\n"
     ]
    },
    {
     "name": "stdout",
     "output_type": "stream",
     "text": [
      " [.] Got %r {'object': 'page', 'entry': [{'id': '111445520541316', 'time': 1616133605288, 'messaging': [{'sender': {'id': '3452826248079358'}, 'recipient': {'id': '111445520541316'}, 'timestamp': 1616133605318, 'read': {'watermark': 1616133604558}}]}]} \n",
      "None\n",
      "\n",
      "_________________________________________________________________________________________________________________________\n",
      "Mesaje de la API de Facebook-> \n",
      " {'object': 'page', 'entry': [{'id': '111445520541316', 'time': 1616133605227, 'messaging': [{'sender': {'id': '3452826248079358'}, 'recipient': {'id': '111445520541316'}, 'timestamp': 1616133605052, 'postback': {'title': 'Salir del bot.', 'payload': 'Salir del bot.'}}]}]}\n",
      "hilo consume\n",
      "hilo consume\n",
      "\n",
      "______________________________________________no read__________________________________________________________________________\n",
      "\n",
      "\t\tMensaje enviado al Nucleo Logico->\n",
      "  {\"payload\": {\"robot\": \"none\", \"id_face\": \"111445520541316\", \"recipient_id\": \"3452826248079358\", \"access_token\": \"none\", \"content\": \"Salir del bot.\", \"type_resp\": \"postback\", \"state\": \"none\", \"blocktype\": \"none\", \"opciones\": \"none\", \"entities\": {}}}\n",
      " [.] Got %r \n",
      "_________________________________________________________________________________________________________________________None\n",
      "\n",
      "Mesaje de la API de Facebook-> \n",
      " {'object': 'page', 'entry': [{'id': '111445520541316', 'time': 1616133605437, 'messaging': [{'sender': {'id': '3452826248079358'}, 'recipient': {'id': '111445520541316'}, 'timestamp': 1616133605465, 'read': {'watermark': 1616133604965}}]}]}\n",
      "hilo consume\n"
     ]
    },
    {
     "name": "stderr",
     "output_type": "stream",
     "text": [
      "127.0.0.1 - - [19/Mar/2021 00:01:38] \"\u001b[37mPOST /apiREST/v1 HTTP/1.1\u001b[0m\" 200 -\n"
     ]
    },
    {
     "name": "stdout",
     "output_type": "stream",
     "text": [
      "\n",
      "_________________________________________________________________________________________________________________________\n",
      "Mesaje de la API de Facebook-> \n",
      " {'object': 'page', 'entry': [{'id': '111445520541316', 'time': 1616133698116, 'messaging': [{'sender': {'id': '3452826248079358'}, 'recipient': {'id': '111445520541316'}, 'timestamp': 1616133698170, 'read': {'watermark': 1616133697571}}]}]}\n",
      "hilo consume\n"
     ]
    },
    {
     "name": "stderr",
     "output_type": "stream",
     "text": [
      "127.0.0.1 - - [19/Mar/2021 00:01:40] \"\u001b[37mPOST /apiREST/v1 HTTP/1.1\u001b[0m\" 200 -\n"
     ]
    },
    {
     "name": "stdout",
     "output_type": "stream",
     "text": [
      "\n",
      "_________________________________________________________________________________________________________________________\n",
      "Mesaje de la API de Facebook-> \n",
      " {'object': 'page', 'entry': [{'id': '111445520541316', 'time': 1616133700526, 'messaging': [{'sender': {'id': '3452826248079358'}, 'recipient': {'id': '111445520541316'}, 'timestamp': 1616133700671, 'read': {'watermark': 1616133700011}}]}]}\n",
      "hilo consume\n",
      " [.] Got %r None\n"
     ]
    },
    {
     "name": "stderr",
     "output_type": "stream",
     "text": [
      "127.0.0.1 - - [19/Mar/2021 00:01:46] \"\u001b[37mPOST /apiREST/v1 HTTP/1.1\u001b[0m\" 200 -\n"
     ]
    },
    {
     "name": "stdout",
     "output_type": "stream",
     "text": [
      "\n",
      "_________________________________________________________________________________________________________________________\n",
      "Mesaje de la API de Facebook-> \n",
      " {'object': 'page', 'entry': [{'id': '111445520541316', 'time': 1616133705647, 'messaging': [{'sender': {'id': '3452826248079358'}, 'recipient': {'id': '111445520541316'}, 'timestamp': 1616133705787, 'read': {'watermark': 1616133705122}}]}]}\n",
      "hilo consume\n",
      " [.] Got %r None\n"
     ]
    },
    {
     "name": "stderr",
     "output_type": "stream",
     "text": [
      "127.0.0.1 - - [19/Mar/2021 00:01:48] \"\u001b[37mPOST /apiREST/v1 HTTP/1.1\u001b[0m\" 200 -\n"
     ]
    },
    {
     "name": "stdout",
     "output_type": "stream",
     "text": [
      "\n",
      "_________________________________________________________________________________________________________________________\n",
      "Mesaje de la API de Facebook-> \n",
      " {'object': 'page', 'entry': [{'id': '111445520541316', 'time': 1616133708583, 'messaging': [{'sender': {'id': '3452826248079358'}, 'recipient': {'id': '111445520541316'}, 'timestamp': 1616133708686, 'read': {'watermark': 1616133708088}}]}]}\n",
      "hilo consume\n"
     ]
    },
    {
     "name": "stderr",
     "output_type": "stream",
     "text": [
      "127.0.0.1 - - [19/Mar/2021 00:01:49] \"\u001b[37mPOST /apiREST/v1 HTTP/1.1\u001b[0m\" 200 -\n",
      "127.0.0.1 - - [19/Mar/2021 00:01:49] \"\u001b[37mPOST /apiREST/v1 HTTP/1.1\u001b[0m\" 200 -\n",
      "127.0.0.1 - - [19/Mar/2021 00:01:49] \"\u001b[37mPOST /apiREST/v1 HTTP/1.1\u001b[0m\" 200 -\n"
     ]
    },
    {
     "name": "stdout",
     "output_type": "stream",
     "text": [
      " [.] Got %r\n",
      "_________________________________________________________________________________________________________________________\n",
      "Mesaje de la API de Facebook-> \n",
      " None \n",
      "{'object': 'page', 'entry': [{'id': '111445520541316', 'time': 1616133708797, 'messaging': [{'sender': {'id': '3452826248079358'}, 'recipient': {'id': '111445520541316'}, 'timestamp': 1616133708825, 'read': {'watermark': 1616133708148}}]}]}\n",
      "hilo consume\n",
      "_________________________________________________________________________________________________________________________\n",
      "\n",
      "Mesaje de la API de Facebook-> \n",
      " {'object': 'page', 'entry': [{'id': '111445520541316', 'time': 1616133708834, 'messaging': [{'sender': {'id': '3452826248079358'}, 'recipient': {'id': '111445520541316'}, 'timestamp': 1616133708635, 'message': {'mid': 'm_TXKpoVdKldYNfhGA9O7DkDrxWOlmWInsffZ5UHcOgUIyQkzZkLCZCIXGhzIL9j-Uw5N9XM2GywjQG8bFV5Up5A', 'text': 'Hola'}}]}]}\n",
      "\n",
      "_________________________________________________________________________________________________________________________\n",
      "Mesaje de la API de Facebook-> \n",
      " {'object': 'page', 'entry': [{'id': '111445520541316', 'time': 1616133708934, 'messaging': [{'sender': {'id': '3452826248079358'}, 'recipient': {'id': '111445520541316'}, 'timestamp': 1616133708965, 'read': {'watermark': 1616133708399}}]}]}\n",
      "[{'sender': {'id': '3452826248079358'}, 'recipient': {'id': '111445520541316'}, 'timestamp': 1616133708635, 'message': {'mid': 'm_TXKpoVdKldYNfhGA9O7DkDrxWOlmWInsffZ5UHcOgUIyQkzZkLCZCIXGhzIL9j-Uw5N9XM2GywjQG8bFV5Up5A', 'text': 'Hola'}}]\n",
      "hilo consumehilo consume\n",
      "\n",
      "\n",
      "______________________________________________no read__________________________________________________________________________\n",
      "\n",
      "\t\tMensaje enviado al Nucleo Logico->\n",
      "  {\"payload\": {\"robot\": \"none\", \"id_face\": \"111445520541316\", \"recipient_id\": \"3452826248079358\", \"access_token\": \"none\", \"content\": \"Hola\", \"type_resp\": \"message\", \"state\": \"none\", \"blocktype\": \"none\", \"opciones\": \"none\", \"entities\": {}}}\n",
      " [.] Got %r None\n",
      " [.] Got %r None\n",
      "\n",
      "_________________________________________________________________________________________________________________________\n",
      "\t\t\n",
      "Respuesta del Nucleo Logico->  {'Respuesta': {'content': 'Hola, soy un chatbot y esto es un mensaje de prueba y adios', 'next_id': 'prueba_captura', 'blockType': 'informativo', 'contentType': 'text', 'typingTime': '3', 'payload': {'content': '', 'state': 'prueba_inicio', 'recipient_id': '3452826248079358', 'entities': {}, 'access_token': 'EAALZCCZBzPwfkBAAo7njAlW7s4DTj1ZCs5v1ung1MhEyMlJXOOtiG8r7JcBgXVPhZBHkJONyTB6jKG470UyqGPWn4aDPnisgtT2ZCZAwQIjQgZAZBufZBJXmHz6mPKSgdmP6ikDA87vocZBay2dfQdz1OYezmYbxwfILXUvXtjUMZAniQZDZD'}}}\n",
      "\n",
      "\n",
      "---------------------------------------------------------------------------\n",
      "mensaje enviado a la API de facebook:\n",
      " {'message': {'text': 'Hola, soy un chatbot y esto es un mensaje de prueba y adios'}, 'recipient': {'id': '3452826248079358'}, 'notification_type': 'REGULAR'}\n",
      " [.] Got %r None\n"
     ]
    },
    {
     "name": "stderr",
     "output_type": "stream",
     "text": [
      "127.0.0.1 - - [19/Mar/2021 00:01:50] \"\u001b[37mPOST /apiREST/v1 HTTP/1.1\u001b[0m\" 200 -\n"
     ]
    },
    {
     "name": "stdout",
     "output_type": "stream",
     "text": [
      "\n",
      "_________________________________________________________________________________________________________________________\n",
      "Mesaje de la API de Facebook-> \n",
      " {'object': 'page', 'entry': [{'id': '111445520541316', 'time': 1616133710449, 'messaging': [{'sender': {'id': '3452826248079358'}, 'recipient': {'id': '111445520541316'}, 'timestamp': 1616133710590, 'read': {'watermark': 1616133709930}}]}]}\n",
      "hilo consume\n",
      "\n",
      "_________________________________________________________________________________________________________________________\n",
      "Mesaje de la API de Facebook-> \n",
      " {'object': 'page', 'entry': [{'id': '111445520541316', 'time': 1616133710684, 'messaging': [{'sender': {'id': '111445520541316'}, 'recipient': {'id': '3452826248079358'}, 'timestamp': 1616133710648, 'message': {'mid': 'm_OjCzgE8t8dCJ2U3KBoXG5zrxWOlmWInsffZ5UHcOgUIkUT-J3r-JeI3zrkDRAjtKf_yNwU9PkG0vCM_jsqr90Q', 'is_echo': True, 'text': 'Hola, soy un chatbot y esto es un mensaje de prueba y adios', 'app_id': 843376636183033}}]}]}\n",
      "[{'sender': {'id': '111445520541316'}, 'recipient': {'id': '3452826248079358'}, 'timestamp': 1616133710648, 'message': {'mid': 'm_OjCzgE8t8dCJ2U3KBoXG5zrxWOlmWInsffZ5UHcOgUIkUT-J3r-JeI3zrkDRAjtKf_yNwU9PkG0vCM_jsqr90Q', 'is_echo': True, 'text': 'Hola, soy un chatbot y esto es un mensaje de prueba y adios', 'app_id': 843376636183033}}]\n"
     ]
    },
    {
     "name": "stderr",
     "output_type": "stream",
     "text": [
      "127.0.0.1 - - [19/Mar/2021 00:01:50] \"\u001b[37mPOST /apiREST/v1 HTTP/1.1\u001b[0m\" 200 -\n",
      "127.0.0.1 - - [19/Mar/2021 00:01:51] \"\u001b[37mPOST /apiREST/v1 HTTP/1.1\u001b[0m\" 200 -\n"
     ]
    },
    {
     "name": "stdout",
     "output_type": "stream",
     "text": [
      "hilo consume\n",
      "\n",
      "______________________________________________no read__________________________________________________________________________\n",
      "\n",
      "\t\tMensaje enviado al Nucleo Logico->\n",
      "  {\"payload\": {\"robot\": \"none\", \"id_face\": \"111445520541316\", \"recipient_id\": \"111445520541316\", \"access_token\": \"none\", \"content\": \"Hola, soy un chatbot y esto es un mensaje de prueba y adios\", \"type_resp\": \"message\", \"state\": \"none\", \"blocktype\": \"none\", \"opciones\": \"none\", \"entities\": {}}}\n",
      "\n",
      "_________________________________________________________________________________________________________________________\n",
      "Mesaje de la API de Facebook-> \n",
      " {'object': 'page', 'entry': [{'id': '111445520541316', 'time': 1616133710816, 'messaging': [{'sender': {'id': '3452826248079358'}, 'recipient': {'id': '111445520541316'}, 'timestamp': 1616133710849, 'delivery': {'mids': ['m_OjCzgE8t8dCJ2U3KBoXG5zrxWOlmWInsffZ5UHcOgUIkUT-J3r-JeI3zrkDRAjtKf_yNwU9PkG0vCM_jsqr90Q'], 'watermark': 1616133710648}}]}]}\n"
     ]
    },
    {
     "name": "stderr",
     "output_type": "stream",
     "text": [
      "127.0.0.1 - - [19/Mar/2021 00:01:51] \"\u001b[37mPOST /apiREST/v1 HTTP/1.1\u001b[0m\" 200 -\n"
     ]
    },
    {
     "name": "stdout",
     "output_type": "stream",
     "text": [
      "\n",
      "_________________________________________________________________________________________________________________________\n",
      "Mesaje de la API de Facebook-> \n",
      " {'object': 'page', 'entry': [{'id': '111445520541316', 'time': 1616133710906, 'messaging': [{'sender': {'id': '3452826248079358'}, 'recipient': {'id': '111445520541316'}, 'timestamp': 1616133711050, 'read': {'watermark': 1616133710432}}]}]}\n",
      "hilo consume\n"
     ]
    },
    {
     "name": "stderr",
     "output_type": "stream",
     "text": [
      "127.0.0.1 - - [19/Mar/2021 00:01:51] \"\u001b[37mPOST /apiREST/v1 HTTP/1.1\u001b[0m\" 200 -\n"
     ]
    },
    {
     "name": "stdout",
     "output_type": "stream",
     "text": [
      "\n",
      "_________________________________________________________________________________________________________________________\n",
      "\t\t\n",
      "Respuesta del Nucleo Logico->  {'Respuesta': {'content': 'introduce tu correo', 'next_id': 'pruebaCorreo_01inicial_inicial', 'blockType': 'input', 'contentType': 'text', 'typingTime': '3', 'payload': {'content': '', 'state': 'prueba_captura', 'recipient_id': '3452826248079358', 'entities': {}, 'access_token': 'EAALZCCZBzPwfkBAAo7njAlW7s4DTj1ZCs5v1ung1MhEyMlJXOOtiG8r7JcBgXVPhZBHkJONyTB6jKG470UyqGPWn4aDPnisgtT2ZCZAwQIjQgZAZBufZBJXmHz6mPKSgdmP6ikDA87vocZBay2dfQdz1OYezmYbxwfILXUvXtjUMZAniQZDZD'}, 'validacion': '^[a-z0-9]+[\\\\._]?[a-z0-9]+[@]\\\\w+[.]\\\\w{2,3}$', 'default_id': 'prueba_captura'}}\n",
      "\n",
      "_________________________________________________________________________________________________________________________\n",
      "Mesaje de la API de Facebook-> \n",
      " {'object': 'page', 'entry': [{'id': '111445520541316', 'time': 1616133711394, 'messaging': [{'sender': {'id': '3452826248079358'}, 'recipient': {'id': '111445520541316'}, 'timestamp': 1616133711428, 'delivery': {'mids': ['m_OjCzgE8t8dCJ2U3KBoXG5zrxWOlmWInsffZ5UHcOgUIkUT-J3r-JeI3zrkDRAjtKf_yNwU9PkG0vCM_jsqr90Q'], 'watermark': 1616133710648}}]}]}\n",
      "\n",
      "_________________________________________________________________________________________________________________________\n",
      "\t\t\n",
      "Respuesta del Nucleo Logico->  {'Respuesta': {'content': 'Hola, soy un chatbot y esto es un mensaje de prueba y adios', 'next_id': 'prueba_captura', 'blockType': 'informativo', 'contentType': 'text', 'typingTime': '3', 'payload': {'content': '', 'state': 'prueba_inicio', 'recipient_id': '111445520541316', 'entities': {}, 'access_token': 'EAALZCCZBzPwfkBAAo7njAlW7s4DTj1ZCs5v1ung1MhEyMlJXOOtiG8r7JcBgXVPhZBHkJONyTB6jKG470UyqGPWn4aDPnisgtT2ZCZAwQIjQgZAZBufZBJXmHz6mPKSgdmP6ikDA87vocZBay2dfQdz1OYezmYbxwfILXUvXtjUMZAniQZDZD'}}}\n",
      " [.] Got %r None\n",
      "\n",
      "\n",
      "---------------------------------------------------------------------------\n",
      "mensaje enviado a la API de facebook:\n",
      " {'message': {'text': 'introduce tu correo'}, 'recipient': {'id': '3452826248079358'}, 'notification_type': 'REGULAR'}\n",
      " [.] Got %r None\n",
      "\n",
      "\n",
      "---------------------------------------------------------------------------\n",
      "mensaje enviado a la API de facebook:\n",
      " {'message': {'text': 'Hola, soy un chatbot y esto es un mensaje de prueba y adios'}, 'recipient': {'id': '111445520541316'}, 'notification_type': 'REGULAR'}\n",
      " [.] Got %r None\n"
     ]
    },
    {
     "name": "stderr",
     "output_type": "stream",
     "text": [
      "127.0.0.1 - - [19/Mar/2021 00:01:52] \"\u001b[37mPOST /apiREST/v1 HTTP/1.1\u001b[0m\" 200 -\n",
      "127.0.0.1 - - [19/Mar/2021 00:01:52] \"\u001b[37mPOST /apiREST/v1 HTTP/1.1\u001b[0m\" 200 -\n"
     ]
    },
    {
     "name": "stdout",
     "output_type": "stream",
     "text": [
      "\n",
      "_________________________________________________________________________________________________________________________\n",
      "Mesaje de la API de Facebook-> \n",
      " {'object': 'page', 'entry': [{'id': '111445520541316', 'time': 1616133712313, 'messaging': [{'sender': {'id': '111445520541316'}, 'recipient': {'id': '3452826248079358'}, 'timestamp': 1616133712248, 'message': {'mid': 'm_l-O1sPCG1Jk1pCGglFRlDzrxWOlmWInsffZ5UHcOgUJeSeHPV3B3gZBz80q7V-7dKitHS8ZBlvFnjta1uWPWzg', 'is_echo': True, 'text': 'introduce tu correo', 'app_id': 843376636183033}}]}]}\n",
      "\n",
      "_________________________________________________________________________________________________________________________[{'sender': {'id': '111445520541316'}, 'recipient': {'id': '3452826248079358'}, 'timestamp': 1616133712248, 'message': {'mid': 'm_l-O1sPCG1Jk1pCGglFRlDzrxWOlmWInsffZ5UHcOgUJeSeHPV3B3gZBz80q7V-7dKitHS8ZBlvFnjta1uWPWzg', 'is_echo': True, 'text': 'introduce tu correo', 'app_id': 843376636183033}}]\n",
      "\n",
      "Mesaje de la API de Facebook-> \n",
      " {'object': 'page', 'entry': [{'id': '111445520541316', 'time': 1616133712408, 'messaging': [{'sender': {'id': '3452826248079358'}, 'recipient': {'id': '111445520541316'}, 'timestamp': 1616133712439, 'delivery': {'mids': ['m_l-O1sPCG1Jk1pCGglFRlDzrxWOlmWInsffZ5UHcOgUJeSeHPV3B3gZBz80q7V-7dKitHS8ZBlvFnjta1uWPWzg'], 'watermark': 1616133712248}}]}]}\n",
      "hilo consume\n",
      "\n",
      "______________________________________________no read__________________________________________________________________________\n",
      "\n",
      "\t\tMensaje enviado al Nucleo Logico->\n",
      "  {\"payload\": {\"robot\": \"none\", \"id_face\": \"111445520541316\", \"recipient_id\": \"111445520541316\", \"access_token\": \"none\", \"content\": \"introduce tu correo\", \"type_resp\": \"message\", \"state\": \"none\", \"blocktype\": \"none\", \"opciones\": \"none\", \"entities\": {}}}\n"
     ]
    },
    {
     "name": "stderr",
     "output_type": "stream",
     "text": [
      "127.0.0.1 - - [19/Mar/2021 00:01:52] \"\u001b[37mPOST /apiREST/v1 HTTP/1.1\u001b[0m\" 200 -\n"
     ]
    },
    {
     "name": "stdout",
     "output_type": "stream",
     "text": [
      "\n",
      "_________________________________________________________________________________________________________________________\n",
      "Mesaje de la API de Facebook-> \n",
      " {'object': 'page', 'entry': [{'id': '111445520541316', 'time': 1616133712501, 'messaging': [{'sender': {'id': '3452826248079358'}, 'recipient': {'id': '111445520541316'}, 'timestamp': 1616133712641, 'read': {'watermark': 1616133712020}}]}]}\n",
      "hilo consume\n",
      "\n",
      "_________________________________________________________________________________________________________________________\n",
      "\t\t\n",
      "Respuesta del Nucleo Logico->  {'Respuesta': {'content': 'Hola, soy un chatbot y esto es un mensaje de prueba y adios', 'next_id': 'prueba_captura', 'blockType': 'informativo', 'contentType': 'text', 'typingTime': '3', 'payload': {'content': '', 'state': 'prueba_inicio', 'recipient_id': '111445520541316', 'entities': {}, 'access_token': 'EAALZCCZBzPwfkBAAo7njAlW7s4DTj1ZCs5v1ung1MhEyMlJXOOtiG8r7JcBgXVPhZBHkJONyTB6jKG470UyqGPWn4aDPnisgtT2ZCZAwQIjQgZAZBufZBJXmHz6mPKSgdmP6ikDA87vocZBay2dfQdz1OYezmYbxwfILXUvXtjUMZAniQZDZD'}}}\n",
      " [.] Got %r None\n",
      "\n",
      "\n",
      "---------------------------------------------------------------------------\n",
      "mensaje enviado a la API de facebook:\n",
      " {'message': {'text': 'Hola, soy un chatbot y esto es un mensaje de prueba y adios'}, 'recipient': {'id': '111445520541316'}, 'notification_type': 'REGULAR'}\n",
      " [.] Got %r None\n"
     ]
    },
    {
     "name": "stderr",
     "output_type": "stream",
     "text": [
      "127.0.0.1 - - [19/Mar/2021 00:01:54] \"\u001b[37mPOST /apiREST/v1 HTTP/1.1\u001b[0m\" 200 -\n"
     ]
    },
    {
     "name": "stdout",
     "output_type": "stream",
     "text": [
      "\n",
      "_________________________________________________________________________________________________________________________\n",
      "Mesaje de la API de Facebook-> \n",
      " {'object': 'page', 'entry': [{'id': '111445520541316', 'time': 1616133714591, 'messaging': [{'sender': {'id': '3452826248079358'}, 'recipient': {'id': '111445520541316'}, 'timestamp': 1616133714623, 'delivery': {'mids': ['m_OjCzgE8t8dCJ2U3KBoXG5zrxWOlmWInsffZ5UHcOgUIkUT-J3r-JeI3zrkDRAjtKf_yNwU9PkG0vCM_jsqr90Q', 'm_l-O1sPCG1Jk1pCGglFRlDzrxWOlmWInsffZ5UHcOgUJeSeHPV3B3gZBz80q7V-7dKitHS8ZBlvFnjta1uWPWzg'], 'watermark': 1616133712248}}]}]}\n"
     ]
    },
    {
     "name": "stderr",
     "output_type": "stream",
     "text": [
      "127.0.0.1 - - [19/Mar/2021 00:01:56] \"\u001b[37mPOST /apiREST/v1 HTTP/1.1\u001b[0m\" 200 -\n",
      "127.0.0.1 - - [19/Mar/2021 00:01:56] \"\u001b[37mPOST /apiREST/v1 HTTP/1.1\u001b[0m\" 200 -\n"
     ]
    },
    {
     "name": "stdout",
     "output_type": "stream",
     "text": [
      "\n",
      "_________________________________________________________________________________________________________________________\n",
      "Mesaje de la API de Facebook-> \n",
      " {'object': 'page', 'entry': [{'id': '111445520541316', 'time': 1616133716152, 'messaging': [{'sender': {'id': '3452826248079358'}, 'recipient': {'id': '111445520541316'}, 'timestamp': 1616133716356, 'read': {'watermark': 1616133715662}}]}]}\n",
      "hilo consume\n",
      "\n",
      "_________________________________________________________________________________________________________________________\n",
      "Mesaje de la API de Facebook-> \n",
      " {'object': 'page', 'entry': [{'id': '111445520541316', 'time': 1616133716380, 'messaging': [{'sender': {'id': '3452826248079358'}, 'recipient': {'id': '111445520541316'}, 'timestamp': 1616133716188, 'message': {'mid': 'm_LrkwzV7s8zcrbsWTkmy2VTrxWOlmWInsffZ5UHcOgUJ1VaO2m3e94AYV8CJ_bmu387na4err1ajjLP5h1dQYnw', 'text': 'jkjkjk@hotmail.com'}}]}]}\n",
      " [.] Got %r None\n",
      "[{'sender': {'id': '3452826248079358'}, 'recipient': {'id': '111445520541316'}, 'timestamp': 1616133716188, 'message': {'mid': 'm_LrkwzV7s8zcrbsWTkmy2VTrxWOlmWInsffZ5UHcOgUJ1VaO2m3e94AYV8CJ_bmu387na4err1ajjLP5h1dQYnw', 'text': 'jkjkjk@hotmail.com'}}]\n",
      "hilo consume\n",
      "\n",
      "______________________________________________no read__________________________________________________________________________\n",
      "\n",
      "\t\tMensaje enviado al Nucleo Logico->\n",
      "  {\"payload\": {\"robot\": \"none\", \"id_face\": \"111445520541316\", \"recipient_id\": \"3452826248079358\", \"access_token\": \"none\", \"content\": \"jkjkjk@hotmail.com\", \"type_resp\": \"message\", \"state\": \"none\", \"blocktype\": \"none\", \"opciones\": \"none\", \"entities\": {}}}\n"
     ]
    },
    {
     "name": "stderr",
     "output_type": "stream",
     "text": [
      "127.0.0.1 - - [19/Mar/2021 00:01:56] \"\u001b[37mPOST /apiREST/v1 HTTP/1.1\u001b[0m\" 200 -\n",
      "127.0.0.1 - - [19/Mar/2021 00:01:56] \"\u001b[37mPOST /apiREST/v1 HTTP/1.1\u001b[0m\" 200 -\n"
     ]
    },
    {
     "name": "stdout",
     "output_type": "stream",
     "text": [
      "\n",
      "_________________________________________________________________________________________________________________________\n",
      "Mesaje de la API de Facebook-> \n",
      " {'object': 'page', 'entry': [{'id': '111445520541316', 'time': 1616133716462, 'messaging': [{'sender': {'id': '3452826248079358'}, 'recipient': {'id': '111445520541316'}, 'timestamp': 1616133716691, 'read': {'watermark': 1616133715950}}]}]}\n",
      "\n",
      "_________________________________________________________________________________________________________________________\n",
      "Mesaje de la API de Facebook-> \n",
      " {'object': 'page', 'entry': [{'id': '111445520541316', 'time': 1616133716462, 'messaging': [{'sender': {'id': '3452826248079358'}, 'recipient': {'id': '111445520541316'}, 'timestamp': 1616133716692, 'read': {'watermark': 1616133715721}}]}]}\n",
      "hilo consume\n",
      "hilo consume\n",
      "\n",
      "_________________________________________________________________________________________________________________________\n",
      "\t\t\n",
      "Respuesta del Nucleo Logico->  {'Respuesta': {'content': '¿Cuál es tu correo?', 'next_id': 'mensaje_salida,prueba_slide', 'blockType': 'quickReply', 'contentType': ' ', 'typingTime': '3', 'payload': {'content': '', 'state': 'pruebaCorreo_01inicial_inicial', 'recipient_id': '3452826248079358', 'entities': {'email': 'jkjkjk@hotmail.com'}, 'access_token': 'EAALZCCZBzPwfkBAAo7njAlW7s4DTj1ZCs5v1ung1MhEyMlJXOOtiG8r7JcBgXVPhZBHkJONyTB6jKG470UyqGPWn4aDPnisgtT2ZCZAwQIjQgZAZBufZBJXmHz6mPKSgdmP6ikDA87vocZBay2dfQdz1OYezmYbxwfILXUvXtjUMZAniQZDZD'}, 'options': ['Salir del bot.', 'Probar carrusel'], 'default_id': 'prueba_qa', 'save_var': '0'}}\n",
      " [.] Got %r None\n",
      " [.] Got %r None\n",
      "\n",
      "\n",
      "---------------------------------------------------------------------------\n",
      "mensaje enviado a la API de facebook:\n",
      " {'message': {'attachment': {'type': 'template', 'payload': {'template_type': 'button', 'text': '¿Cuál es tu correo?', 'buttons': [{'title': 'Salir del bot.', 'type': 'postback', 'payload': 'Salir del bot.'}, {'title': 'Probar carrusel', 'type': 'postback', 'payload': 'Probar carrusel'}]}}}, 'recipient': {'id': '3452826248079358'}, 'notification_type': 'REGULAR'}\n",
      " [.] Got %r None\n"
     ]
    },
    {
     "name": "stderr",
     "output_type": "stream",
     "text": [
      "127.0.0.1 - - [19/Mar/2021 00:01:58] \"\u001b[37mPOST /apiREST/v1 HTTP/1.1\u001b[0m\" 200 -\n",
      "127.0.0.1 - - [19/Mar/2021 00:01:58] \"\u001b[37mPOST /apiREST/v1 HTTP/1.1\u001b[0m\" 200 -\n"
     ]
    },
    {
     "name": "stdout",
     "output_type": "stream",
     "text": [
      "\n",
      "_________________________________________________________________________________________________________________________\n",
      "Mesaje de la API de Facebook-> \n",
      " {'object': 'page', 'entry': [{'id': '111445520541316', 'time': 1616133718300, 'messaging': [{'sender': {'id': '111445520541316'}, 'recipient': {'id': '3452826248079358'}, 'timestamp': 1616133718183, 'message': {'mid': 'm_4-qJnXOwUXegPMt1mBBBZzrxWOlmWInsffZ5UHcOgUJjA6UvkT4xosY-5gPsAYSdG8iW7IftWQndEJBWzTmWNA', 'is_echo': True, 'text': '¿Cuál es tu correo?', 'app_id': 843376636183033, 'attachments': [{'title': '', 'url': None, 'type': 'template', 'payload': {'template_type': 'button', 'buttons': [{'type': 'postback', 'title': 'Salir del bot.', 'payload': 'Salir del bot.'}, {'type': 'postback', 'title': 'Probar carrusel', 'payload': 'Probar carrusel'}]}}]}}]}]}\n",
      "\n",
      "_________________________________________________________________________________________________________________________\n",
      "Mesaje de la API de Facebook-> \n",
      " {'object': 'page', 'entry': [{'id': '111445520541316', 'time': 1616133718409, 'messaging': [{'sender': {'id': '3452826248079358'}, 'recipient': {'id': '111445520541316'}, 'timestamp': 1616133718443, 'delivery': {'mids': ['m_4-qJnXOwUXegPMt1mBBBZzrxWOlmWInsffZ5UHcOgUJjA6UvkT4xosY-5gPsAYSdG8iW7IftWQndEJBWzTmWNA'], 'watermark': 1616133718183}}]}]}\n",
      "[{'sender': {'id': '111445520541316'}, 'recipient': {'id': '3452826248079358'}, 'timestamp': 1616133718183, 'message': {'mid': 'm_4-qJnXOwUXegPMt1mBBBZzrxWOlmWInsffZ5UHcOgUJjA6UvkT4xosY-5gPsAYSdG8iW7IftWQndEJBWzTmWNA', 'is_echo': True, 'text': '¿Cuál es tu correo?', 'app_id': 843376636183033, 'attachments': [{'title': '', 'url': None, 'type': 'template', 'payload': {'template_type': 'button', 'buttons': [{'type': 'postback', 'title': 'Salir del bot.', 'payload': 'Salir del bot.'}, {'type': 'postback', 'title': 'Probar carrusel', 'payload': 'Probar carrusel'}]}}]}}]\n",
      "hilo consume\n",
      "\n",
      "______________________________________________no read__________________________________________________________________________\n",
      "\n",
      "\t\tMensaje enviado al Nucleo Logico->\n",
      "  {\"payload\": {\"robot\": \"none\", \"id_face\": \"111445520541316\", \"recipient_id\": \"111445520541316\", \"access_token\": \"none\", \"content\": \"\\u00bfCu\\u00e1l es tu correo?\", \"type_resp\": \"message\", \"state\": \"none\", \"blocktype\": \"none\", \"opciones\": \"none\", \"entities\": {}}}\n"
     ]
    },
    {
     "name": "stderr",
     "output_type": "stream",
     "text": [
      "127.0.0.1 - - [19/Mar/2021 00:01:58] \"\u001b[37mPOST /apiREST/v1 HTTP/1.1\u001b[0m\" 200 -\n"
     ]
    },
    {
     "name": "stdout",
     "output_type": "stream",
     "text": [
      "\n",
      "_________________________________________________________________________________________________________________________\n",
      "Mesaje de la API de Facebook-> \n",
      " {'object': 'page', 'entry': [{'id': '111445520541316', 'time': 1616133718573, 'messaging': [{'sender': {'id': '3452826248079358'}, 'recipient': {'id': '111445520541316'}, 'timestamp': 1616133718649, 'read': {'watermark': 1616133718052}}]}]}\n",
      "hilo consume\n",
      "\n",
      "_________________________________________________________________________________________________________________________\n",
      "\t\t\n",
      "Respuesta del Nucleo Logico->  {'Respuesta': {'content': 'Hola, soy un chatbot y esto es un mensaje de prueba y adios', 'next_id': 'prueba_captura', 'blockType': 'informativo', 'contentType': 'text', 'typingTime': '3', 'payload': {'content': '', 'state': 'prueba_inicio', 'recipient_id': '111445520541316', 'entities': {}, 'access_token': 'EAALZCCZBzPwfkBAAo7njAlW7s4DTj1ZCs5v1ung1MhEyMlJXOOtiG8r7JcBgXVPhZBHkJONyTB6jKG470UyqGPWn4aDPnisgtT2ZCZAwQIjQgZAZBufZBJXmHz6mPKSgdmP6ikDA87vocZBay2dfQdz1OYezmYbxwfILXUvXtjUMZAniQZDZD'}}}\n",
      "\n",
      "_________________________________________________________________________________________________________________________\n",
      "Mesaje de la API de Facebook-> \n",
      " {'object': 'page', 'entry': [{'id': '111445520541316', 'time': 1616133718725, 'messaging': [{'sender': {'id': '3452826248079358'}, 'recipient': {'id': '111445520541316'}, 'timestamp': 1616133718823, 'delivery': {'mids': ['m_4-qJnXOwUXegPMt1mBBBZzrxWOlmWInsffZ5UHcOgUJjA6UvkT4xosY-5gPsAYSdG8iW7IftWQndEJBWzTmWNA'], 'watermark': 1616133718183}}]}]}\n",
      "\n",
      "_________________________________________________________________________________________________________________________\n",
      "Mesaje de la API de Facebook-> \n",
      " {'object': 'page', 'entry': [{'id': '111445520541316', 'time': 1616133718748, 'messaging': [{'sender': {'id': '3452826248079358'}, 'recipient': {'id': '111445520541316'}, 'timestamp': 1616133718823, 'delivery': {'mids': ['m_OjCzgE8t8dCJ2U3KBoXG5zrxWOlmWInsffZ5UHcOgUIkUT-J3r-JeI3zrkDRAjtKf_yNwU9PkG0vCM_jsqr90Q', 'm_l-O1sPCG1Jk1pCGglFRlDzrxWOlmWInsffZ5UHcOgUJeSeHPV3B3gZBz80q7V-7dKitHS8ZBlvFnjta1uWPWzg', 'm_4-qJnXOwUXegPMt1mBBBZzrxWOlmWInsffZ5UHcOgUJjA6UvkT4xosY-5gPsAYSdG8iW7IftWQndEJBWzTmWNA'], 'watermark': 1616133718183}}]}]}\n"
     ]
    },
    {
     "name": "stderr",
     "output_type": "stream",
     "text": [
      "127.0.0.1 - - [19/Mar/2021 00:01:59] \"\u001b[37mPOST /apiREST/v1 HTTP/1.1\u001b[0m\" 200 -\n",
      "127.0.0.1 - - [19/Mar/2021 00:01:59] \"\u001b[37mPOST /apiREST/v1 HTTP/1.1\u001b[0m\" 200 -\n"
     ]
    },
    {
     "name": "stdout",
     "output_type": "stream",
     "text": [
      " [.] Got %r None\n",
      "\n",
      "\n",
      "---------------------------------------------------------------------------\n",
      "mensaje enviado a la API de facebook:\n",
      " {'message': {'text': 'Hola, soy un chatbot y esto es un mensaje de prueba y adios'}, 'recipient': {'id': '111445520541316'}, 'notification_type': 'REGULAR'}\n",
      " [.] Got %r None\n"
     ]
    },
    {
     "name": "stderr",
     "output_type": "stream",
     "text": [
      "127.0.0.1 - - [19/Mar/2021 00:02:04] \"\u001b[37mPOST /apiREST/v1 HTTP/1.1\u001b[0m\" 200 -\n"
     ]
    },
    {
     "name": "stdout",
     "output_type": "stream",
     "text": [
      "\n",
      "_________________________________________________________________________________________________________________________\n",
      "Mesaje de la API de Facebook-> \n",
      " {'object': 'page', 'entry': [{'id': '111445520541316', 'time': 1616133723793, 'messaging': [{'sender': {'id': '3452826248079358'}, 'recipient': {'id': '111445520541316'}, 'timestamp': 1616133723935, 'read': {'watermark': 1616133723266}}]}]}\n",
      "hilo consume\n",
      " [.] Got %r None\n"
     ]
    },
    {
     "name": "stderr",
     "output_type": "stream",
     "text": [
      "127.0.0.1 - - [19/Mar/2021 00:02:05] \"\u001b[37mPOST /apiREST/v1 HTTP/1.1\u001b[0m\" 200 -\n",
      "127.0.0.1 - - [19/Mar/2021 00:02:05] \"\u001b[37mPOST /apiREST/v1 HTTP/1.1\u001b[0m\" 200 -\n"
     ]
    },
    {
     "name": "stdout",
     "output_type": "stream",
     "text": [
      "\n",
      "_________________________________________________________________________________________________________________________\n",
      "Mesaje de la API de Facebook-> \n",
      " {'object': 'page', 'entry': [{'id': '111445520541316', 'time': 1616133724877, 'messaging': [{'sender': {'id': '3452826248079358'}, 'recipient': {'id': '111445520541316'}, 'timestamp': 1616133724957, 'read': {'watermark': 1616133724355}}]}]}\n",
      "hilo consume\n",
      "\n",
      "_________________________________________________________________________________________________________________________\n",
      "Mesaje de la API de Facebook-> \n",
      " {'object': 'page', 'entry': [{'id': '111445520541316', 'time': 1616133725103, 'messaging': [{'sender': {'id': '3452826248079358'}, 'recipient': {'id': '111445520541316'}, 'timestamp': 1616133725131, 'read': {'watermark': 1616133724420}}]}]}\n",
      " [.] Got %r None\n",
      "hilo consume\n"
     ]
    },
    {
     "name": "stderr",
     "output_type": "stream",
     "text": [
      "127.0.0.1 - - [19/Mar/2021 00:02:05] \"\u001b[37mPOST /apiREST/v1 HTTP/1.1\u001b[0m\" 200 -\n"
     ]
    },
    {
     "name": "stdout",
     "output_type": "stream",
     "text": [
      "\n",
      "_________________________________________________________________________________________________________________________\n",
      "Mesaje de la API de Facebook-> \n",
      " {'object': 'page', 'entry': [{'id': '111445520541316', 'time': 1616133725102, 'messaging': [{'sender': {'id': '3452826248079358'}, 'recipient': {'id': '111445520541316'}, 'timestamp': 1616133724912, 'postback': {'title': 'Salir del bot.', 'payload': 'Salir del bot.'}}]}]}\n",
      "\n",
      "_________________________________________________________________________________________________________________________\n",
      "Mesaje de la API de Facebook-> \n",
      " {'object': 'page', 'entry': [{'id': '111445520541316', 'time': 1616133725237, 'messaging': [{'sender': {'id': '3452826248079358'}, 'recipient': {'id': '111445520541316'}, 'timestamp': 1616133725267, 'read': {'watermark': 1616133724756}}]}]}\n",
      " [.] Got %r None\n",
      "hilo consume\n"
     ]
    },
    {
     "name": "stderr",
     "output_type": "stream",
     "text": [
      "127.0.0.1 - - [19/Mar/2021 00:02:05] \"\u001b[37mPOST /apiREST/v1 HTTP/1.1\u001b[0m\" 200 -\n"
     ]
    },
    {
     "name": "stdout",
     "output_type": "stream",
     "text": [
      "hilo consume\n",
      "\n",
      "______________________________________________no read__________________________________________________________________________\n",
      "\n",
      " [.] Got %r None\t\tMensaje enviado al Nucleo Logico->\n",
      " \n",
      " {\"payload\": {\"robot\": \"none\", \"id_face\": \"111445520541316\", \"recipient_id\": \"3452826248079358\", \"access_token\": \"none\", \"content\": \"Salir del bot.\", \"type_resp\": \"postback\", \"state\": \"none\", \"blocktype\": \"none\", \"opciones\": \"none\", \"entities\": {}}}\n",
      "\n",
      "_________________________________________________________________________________________________________________________\n",
      "\t\t\n",
      "Respuesta del Nucleo Logico->  {'Respuesta': {'content': 'Puedo hacer muchas cosas, entre ellas despedirme. Adios', 'next_id': 'Salida', 'blockType': 'informativo', 'contentType': 'text', 'typingTime': '3', 'payload': {'content': '', 'state': 'mensaje_salida', 'recipient_id': '3452826248079358', 'entities': {'email': 'jkjkjk@hotmail.com', 'var_case': 'Salir del bot.'}, 'access_token': 'EAALZCCZBzPwfkBAAo7njAlW7s4DTj1ZCs5v1ung1MhEyMlJXOOtiG8r7JcBgXVPhZBHkJONyTB6jKG470UyqGPWn4aDPnisgtT2ZCZAwQIjQgZAZBufZBJXmHz6mPKSgdmP6ikDA87vocZBay2dfQdz1OYezmYbxwfILXUvXtjUMZAniQZDZD'}}}\n",
      "\n",
      "\n",
      "---------------------------------------------------------------------------\n",
      "mensaje enviado a la API de facebook:\n",
      " {'message': {'text': 'Puedo hacer muchas cosas, entre ellas despedirme. Adios'}, 'recipient': {'id': '3452826248079358'}, 'notification_type': 'REGULAR'}\n",
      " [.] Got %r None\n"
     ]
    },
    {
     "name": "stderr",
     "output_type": "stream",
     "text": [
      "127.0.0.1 - - [19/Mar/2021 00:02:07] \"\u001b[37mPOST /apiREST/v1 HTTP/1.1\u001b[0m\" 200 -\n",
      "127.0.0.1 - - [19/Mar/2021 00:02:07] \"\u001b[37mPOST /apiREST/v1 HTTP/1.1\u001b[0m\" 200 -\n"
     ]
    },
    {
     "name": "stdout",
     "output_type": "stream",
     "text": [
      "\n",
      "_________________________________________________________________________________________________________________________\n",
      "Mesaje de la API de Facebook-> \n",
      " {'object': 'page', 'entry': [{'id': '111445520541316', 'time': 1616133726872, 'messaging': [{'sender': {'id': '111445520541316'}, 'recipient': {'id': '3452826248079358'}, 'timestamp': 1616133726833, 'message': {'mid': 'm_JFGP6ESVsTZ9vxdLHt4khDrxWOlmWInsffZ5UHcOgULhwur9E1cq1kar84nAxwXTbuNmY95H-vl154svedqMVA', 'is_echo': True, 'text': 'Puedo hacer muchas cosas, entre ellas despedirme. Adios', 'app_id': 843376636183033}}]}]}\n",
      "[{'sender': {'id': '111445520541316'}, 'recipient': {'id': '3452826248079358'}, 'timestamp': 1616133726833, 'message': {'mid': 'm_JFGP6ESVsTZ9vxdLHt4khDrxWOlmWInsffZ5UHcOgULhwur9E1cq1kar84nAxwXTbuNmY95H-vl154svedqMVA', 'is_echo': True, 'text': 'Puedo hacer muchas cosas, entre ellas despedirme. Adios', 'app_id': 843376636183033}}]\n",
      "hilo consume\n",
      "\n",
      "______________________________________________no read__________________________________________________________________________\n",
      "\n",
      "\t\tMensaje enviado al Nucleo Logico->\n",
      "  {\"payload\": {\"robot\": \"none\", \"id_face\": \"111445520541316\", \"recipient_id\": \"111445520541316\", \"access_token\": \"none\", \"content\": \"Puedo hacer muchas cosas, entre ellas despedirme. Adios\", \"type_resp\": \"message\", \"state\": \"none\", \"blocktype\": \"none\", \"opciones\": \"none\", \"entities\": {}}}\n",
      "\n",
      "_________________________________________________________________________________________________________________________\n",
      "Mesaje de la API de Facebook-> \n",
      " {'object': 'page', 'entry': [{'id': '111445520541316', 'time': 1616133727015, 'messaging': [{'sender': {'id': '3452826248079358'}, 'recipient': {'id': '111445520541316'}, 'timestamp': 1616133727050, 'delivery': {'mids': ['m_JFGP6ESVsTZ9vxdLHt4khDrxWOlmWInsffZ5UHcOgULhwur9E1cq1kar84nAxwXTbuNmY95H-vl154svedqMVA'], 'watermark': 1616133726833}}]}]}\n"
     ]
    },
    {
     "name": "stderr",
     "output_type": "stream",
     "text": [
      "127.0.0.1 - - [19/Mar/2021 00:02:07] \"\u001b[37mPOST /apiREST/v1 HTTP/1.1\u001b[0m\" 200 -\n"
     ]
    },
    {
     "name": "stdout",
     "output_type": "stream",
     "text": [
      "\n",
      "_________________________________________________________________________________________________________________________\n",
      "Mesaje de la API de Facebook-> \n",
      " {'object': 'page', 'entry': [{'id': '111445520541316', 'time': 1616133727113, 'messaging': [{'sender': {'id': '3452826248079358'}, 'recipient': {'id': '111445520541316'}, 'timestamp': 1616133727207, 'read': {'watermark': 1616133726638}}]}]}\n",
      "hilo consume\n",
      "\n",
      "_________________________________________________________________________________________________________________________\n",
      "\t\t\n",
      "Respuesta del Nucleo Logico->  {'Respuesta': {'content': 'Hola, soy un chatbot y esto es un mensaje de prueba y adios', 'next_id': 'prueba_captura', 'blockType': 'informativo', 'contentType': 'text', 'typingTime': '3', 'payload': {'content': '', 'state': 'prueba_inicio', 'recipient_id': '111445520541316', 'entities': {}, 'access_token': 'EAALZCCZBzPwfkBAAo7njAlW7s4DTj1ZCs5v1ung1MhEyMlJXOOtiG8r7JcBgXVPhZBHkJONyTB6jKG470UyqGPWn4aDPnisgtT2ZCZAwQIjQgZAZBufZBJXmHz6mPKSgdmP6ikDA87vocZBay2dfQdz1OYezmYbxwfILXUvXtjUMZAniQZDZD'}}}\n"
     ]
    },
    {
     "name": "stderr",
     "output_type": "stream",
     "text": [
      "127.0.0.1 - - [19/Mar/2021 00:02:07] \"\u001b[37mPOST /apiREST/v1 HTTP/1.1\u001b[0m\" 200 -\n",
      "127.0.0.1 - - [19/Mar/2021 00:02:07] \"\u001b[37mPOST /apiREST/v1 HTTP/1.1\u001b[0m\" 200 -\n"
     ]
    },
    {
     "name": "stdout",
     "output_type": "stream",
     "text": [
      "\n",
      "_________________________________________________________________________________________________________________________\n",
      "Mesaje de la API de Facebook-> \n",
      " {'object': 'page', 'entry': [{'id': '111445520541316', 'time': 1616133727427, 'messaging': [{'sender': {'id': '3452826248079358'}, 'recipient': {'id': '111445520541316'}, 'timestamp': 1616133727472, 'delivery': {'mids': ['m_JFGP6ESVsTZ9vxdLHt4khDrxWOlmWInsffZ5UHcOgULhwur9E1cq1kar84nAxwXTbuNmY95H-vl154svedqMVA'], 'watermark': 1616133726833}}]}]}\n",
      "\n",
      "\n",
      "---------------------------------------------------------------------------\n",
      "mensaje enviado a la API de facebook:\n",
      " {'message': {'text': 'Hola, soy un chatbot y esto es un mensaje de prueba y adios'}, 'recipient': {'id': '111445520541316'}, 'notification_type': 'REGULAR'}\n",
      " [.] Got %r\n",
      "_________________________________________________________________________________________________________________________ \n",
      "NoneMesaje de la API de Facebook-> \n",
      "\n",
      " {'object': 'page', 'entry': [{'id': '111445520541316', 'time': 1616133727573, 'messaging': [{'sender': {'id': '3452826248079358'}, 'recipient': {'id': '111445520541316'}, 'timestamp': 1616133727607, 'delivery': {'mids': ['m_JFGP6ESVsTZ9vxdLHt4khDrxWOlmWInsffZ5UHcOgULhwur9E1cq1kar84nAxwXTbuNmY95H-vl154svedqMVA'], 'watermark': 1616133726833}}]}]}\n"
     ]
    }
   ],
   "source": [
    "\n",
    "#-------------Creación de la REST API con Flask-------------\n",
    "app = Flask(__name__)\n",
    "#---------------PASO 1. Recepción de mensajes enviados por la API de Facebook.--------------------------\n",
    "@app.route(\"/apiREST/v1\", methods=['GET', 'POST'])\n",
    "def receive_message():\n",
    "    peticiones = 0\n",
    "    #---------------PASO 2. Inicio: Identificar el tipo de petición que se está solicitando.--------------------------\n",
    "    if request.method == 'GET':\n",
    "        print(\" petición GET\")\n",
    "        print(\"metodo GET...\")\n",
    "        print(\"request\",request)\n",
    "        token_sent = request.args.get(\"hub.verify_token\")\n",
    "        print(token_sent )\n",
    "        #---------------PASO 2.1. Llamada a la función que valida la cadena de verificación y se retorna a la petición GET la validación de la función.--------------------------\n",
    "        return verify_fb_token(token_sent,request.args.get(\"hub.challenge\"))\n",
    "    else:\n",
    "        #---------------Recepción de mensajes de una operacion tipo POST.--------------------------        \n",
    "        \n",
    "        content = request.get_json(force=True)\n",
    "        output = request.get_json()\n",
    "        print('\\n_________________________________________________________________________________________________________________________')\n",
    "        print(\"Mesaje de la API de Facebook-> \\n\",output)    \n",
    "        #return \"Message Processed\"  \n",
    "        if output[\"object\"]==\"page\":\n",
    "            for event in output['entry']:\n",
    "                messaging = event['messaging']\n",
    "                id_face = event['id']\n",
    "                for message in messaging:\n",
    "                    nombreHilo=\"Hilo_\"+str(peticiones)\n",
    "                    N_C = Nucleo_Cliente2(nombreHilo)\n",
    "                    recipient_id = message['sender']['id']\n",
    "                    peticiones=peticiones+1                   \n",
    "                    if message.get('read'):\n",
    "                        enviarNucleoLectura(recipient_id, id_face, messaging,N_C)                                       \n",
    "                    elif message.get('message') or message.get('postback'): \n",
    "                        enviarNucleo(recipient_id, id_face, messaging,N_C)                \n",
    "                    #envio de mensaje proveniente de fb a nucleo lógico del sistema\n",
    "    \n",
    "    return \"Message Processed\"        \n",
    "#-------------Iniciando la REST API-------------\n",
    "if __name__ == \"__main__\":\n",
    "    app.run()"
   ]
  },
  {
   "cell_type": "code",
   "execution_count": null,
   "metadata": {},
   "outputs": [],
   "source": []
  }
 ],
 "metadata": {
  "kernelspec": {
   "display_name": "Python 3",
   "language": "python",
   "name": "python3"
  },
  "language_info": {
   "codemirror_mode": {
    "name": "ipython",
    "version": 3
   },
   "file_extension": ".py",
   "mimetype": "text/x-python",
   "name": "python",
   "nbconvert_exporter": "python",
   "pygments_lexer": "ipython3",
   "version": "3.9.2"
  }
 },
 "nbformat": 4,
 "nbformat_minor": 4
}
